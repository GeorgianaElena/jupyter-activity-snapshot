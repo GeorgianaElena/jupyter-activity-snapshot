{
 "cells": [
  {
   "cell_type": "code",
   "execution_count": 9,
   "metadata": {},
   "outputs": [],
   "source": [
    "import papermill as pm\n",
    "import pandas as pd\n",
    "from datetime import timedelta\n",
    "import os\n",
    "import os.path as op"
   ]
  },
  {
   "cell_type": "code",
   "execution_count": 2,
   "metadata": {},
   "outputs": [],
   "source": [
    "fmt = \"{:%Y-%m-%d}\"\n",
    "n_days = 30 * 6"
   ]
  },
  {
   "cell_type": "code",
   "execution_count": 3,
   "metadata": {},
   "outputs": [],
   "source": [
    "# Parameters to use later\n",
    "github_orgs = [\"jupyterhub\", \"jupyter\", \"jupyterlab\", \"jupyter-widgets\", \"ipython\", \"binder-examples\"]\n",
    "# github_orgs = [\"jupyterhub\", \"jupyter\"]\n",
    "start_date = \"2019-01-01\"\n",
    "end_date = \"2019-07-01\"\n",
    "name = f'{start_date}_{end_date}'"
   ]
  },
  {
   "cell_type": "markdown",
   "metadata": {},
   "source": [
    "# Update the data"
   ]
  },
  {
   "cell_type": "code",
   "execution_count": 3,
   "metadata": {},
   "outputs": [
    {
     "ename": "NameError",
     "evalue": "name 'parameters' is not defined",
     "output_type": "error",
     "traceback": [
      "\u001b[0;31m---------------------------------------------------------------------------\u001b[0m",
      "\u001b[0;31mNameError\u001b[0m                                 Traceback (most recent call last)",
      "\u001b[0;32m<ipython-input-3-c420fe897fa2>\u001b[0m in \u001b[0;36m<module>\u001b[0;34m()\u001b[0m\n\u001b[1;32m      1\u001b[0m \u001b[0mfolder_name\u001b[0m \u001b[0;34m=\u001b[0m \u001b[0;34mf\"../tmp/\"\u001b[0m\u001b[0;34m\u001b[0m\u001b[0;34m\u001b[0m\u001b[0m\n\u001b[1;32m      2\u001b[0m \u001b[0mos\u001b[0m\u001b[0;34m.\u001b[0m\u001b[0mmakedirs\u001b[0m\u001b[0;34m(\u001b[0m\u001b[0mfolder_name\u001b[0m\u001b[0;34m,\u001b[0m \u001b[0mexist_ok\u001b[0m\u001b[0;34m=\u001b[0m\u001b[0;32mTrue\u001b[0m\u001b[0;34m)\u001b[0m\u001b[0;34m\u001b[0m\u001b[0;34m\u001b[0m\u001b[0m\n\u001b[0;32m----> 3\u001b[0;31m \u001b[0mout\u001b[0m \u001b[0;34m=\u001b[0m \u001b[0mpm\u001b[0m\u001b[0;34m.\u001b[0m\u001b[0mexecute_notebook\u001b[0m\u001b[0;34m(\u001b[0m\u001b[0;34m'./templates/update/update_data.ipynb'\u001b[0m\u001b[0;34m,\u001b[0m \u001b[0mop\u001b[0m\u001b[0;34m.\u001b[0m\u001b[0mjoin\u001b[0m\u001b[0;34m(\u001b[0m\u001b[0mfolder_name\u001b[0m\u001b[0;34m,\u001b[0m \u001b[0;34m\"update_data_result.ipynb\"\u001b[0m\u001b[0;34m)\u001b[0m\u001b[0;34m,\u001b[0m \u001b[0mparameters\u001b[0m\u001b[0;34m=\u001b[0m\u001b[0mparameters\u001b[0m\u001b[0;34m,\u001b[0m \u001b[0mcwd\u001b[0m\u001b[0;34m=\u001b[0m\u001b[0;34m\"./update\"\u001b[0m\u001b[0;34m)\u001b[0m\u001b[0;34m\u001b[0m\u001b[0;34m\u001b[0m\u001b[0m\n\u001b[0m",
      "\u001b[0;31mNameError\u001b[0m: name 'parameters' is not defined"
     ]
    }
   ],
   "source": [
    "folder_name = f\"../tmp/\"\n",
    "os.makedirs(folder_name, exist_ok=True)\n",
    "parameters = dict(\n",
    "    github_orgs=github_orgs,\n",
    "    end_date=end_date\n",
    ")\n",
    "out = pm.execute_notebook('./templates/update/update_data.ipynb', op.join(folder_name, \"update_data_result.ipynb\"), parameters=parameters, cwd=\"./update\")"
   ]
  },
  {
   "cell_type": "markdown",
   "metadata": {},
   "source": [
    "# Generate reports"
   ]
  },
  {
   "cell_type": "markdown",
   "metadata": {},
   "source": [
    "## Recent activity analysis"
   ]
  },
  {
   "cell_type": "code",
   "execution_count": null,
   "metadata": {},
   "outputs": [],
   "source": [
    "custom_name = 'jupyterhub_retrospective'"
   ]
  },
  {
   "cell_type": "code",
   "execution_count": 14,
   "metadata": {},
   "outputs": [
    {
     "data": {
      "application/vnd.jupyter.widget-view+json": {
       "model_id": "1d1b48f2a45044f6b1fc7d4609ddaa4d",
       "version_major": 2,
       "version_minor": 0
      },
      "text/plain": [
       "HBox(children=(IntProgress(value=0, max=42), HTML(value='')))"
      ]
     },
     "metadata": {},
     "output_type": "display_data"
    },
    {
     "name": "stdout",
     "output_type": "stream",
     "text": [
      "\n"
     ]
    },
    {
     "data": {
      "application/vnd.jupyter.widget-view+json": {
       "model_id": "5264d39561cd4555b4bd85be107ebea6",
       "version_major": 2,
       "version_minor": 0
      },
      "text/plain": [
       "HBox(children=(IntProgress(value=0, max=26), HTML(value='')))"
      ]
     },
     "metadata": {},
     "output_type": "display_data"
    },
    {
     "name": "stdout",
     "output_type": "stream",
     "text": [
      "\n"
     ]
    }
   ],
   "source": [
    "parameters = dict(\n",
    "    renderer=\"kaggle\",\n",
    "    github_orgs=github_orgs,\n",
    "    start_date=start_date,\n",
    "    end_date=end_date\n",
    ")\n",
    "\n",
    "folder_name = f\"../reports/custom/{custom_name}_{start_date}-{end_date}\"\n",
    "os.makedirs(folder_name, exist_ok=True)\n",
    "out = pm.execute_notebook('./templates/github.ipynb',\n",
    "                          op.join(folder_name, \"github.ipynb\"),\n",
    "                          parameters=parameters)\n",
    "\n",
    "out = pm.execute_notebook('./templates/discourse.ipynb',\n",
    "                          op.join(folder_name, \"discourse.ipynb\"),\n",
    "                          parameters=parameters)"
   ]
  },
  {
   "cell_type": "markdown",
   "metadata": {},
   "source": [
    "## Reports over a range of times"
   ]
  },
  {
   "cell_type": "code",
   "execution_count": 13,
   "metadata": {},
   "outputs": [],
   "source": [
    "months = [(ii-1, ii) for ii in range(10, 11)]"
   ]
  },
  {
   "cell_type": "code",
   "execution_count": 22,
   "metadata": {},
   "outputs": [
    {
     "data": {
      "text/plain": [
       "'04'"
      ]
     },
     "execution_count": 22,
     "metadata": {},
     "output_type": "execute_result"
    }
   ],
   "source": [
    "\"{:02d}\".format(4)"
   ]
  },
  {
   "cell_type": "code",
   "execution_count": 23,
   "metadata": {},
   "outputs": [
    {
     "name": "stdout",
     "output_type": "stream",
     "text": [
      "9 10\n"
     ]
    },
    {
     "data": {
      "application/vnd.jupyter.widget-view+json": {
       "model_id": "a6958b3df09047009e6cfbe2d041388b",
       "version_major": 2,
       "version_minor": 0
      },
      "text/plain": [
       "HBox(children=(IntProgress(value=0, max=42), HTML(value='')))"
      ]
     },
     "metadata": {},
     "output_type": "display_data"
    },
    {
     "name": "stdout",
     "output_type": "stream",
     "text": [
      "\n"
     ]
    },
    {
     "data": {
      "application/vnd.jupyter.widget-view+json": {
       "model_id": "34a3b4bcf3e5430582c6bdcec04d7cd1",
       "version_major": 2,
       "version_minor": 0
      },
      "text/plain": [
       "HBox(children=(IntProgress(value=0, max=26), HTML(value='')))"
      ]
     },
     "metadata": {},
     "output_type": "display_data"
    },
    {
     "name": "stdout",
     "output_type": "stream",
     "text": [
      "\n"
     ]
    }
   ],
   "source": [
    "name = f'{start_date}_{end_date}'\n",
    "custom_name = 'jupyterhub_retrospective'\n",
    "\n",
    "parameters = dict(\n",
    "    renderer=\"kaggle\",\n",
    "    github_orgs=github_orgs,\n",
    ")\n",
    "\n",
    "for st, stp in months:\n",
    "    print(st, stp)\n",
    "    start_date = f\"2019-{st:02d}-01\"\n",
    "    end_date = f\"2019-{stp:02d}-01\"\n",
    "    folder_name = f\"./reports/monthly/{start_date}-{end_date}\"\n",
    "    parameters.update({'start_date': start_date, \"end_date\": end_date})\n",
    "    os.makedirs(folder_name, exist_ok=True)\n",
    "    out = pm.execute_notebook('./templates/github.ipynb',\n",
    "                              op.join(folder_name, \"github.ipynb\"),\n",
    "                              parameters=parameters,\n",
    "                              cwd='./templates')\n",
    "\n",
    "    out = pm.execute_notebook('./templates/discourse.ipynb',\n",
    "                              op.join(folder_name, \"discourse.ipynb\"),\n",
    "                              parameters=parameters,\n",
    "                              cwd='./templates')"
   ]
  },
  {
   "cell_type": "markdown",
   "metadata": {},
   "source": [
    "## Over time analysis"
   ]
  },
  {
   "cell_type": "code",
   "execution_count": 18,
   "metadata": {},
   "outputs": [
    {
     "data": {
      "application/vnd.jupyter.widget-view+json": {
       "model_id": "8bc2f1569ceb4729b3f811aceeca2c4f",
       "version_major": 2,
       "version_minor": 0
      },
      "text/plain": [
       "HBox(children=(IntProgress(value=0, max=26), HTML(value='')))"
      ]
     },
     "metadata": {},
     "output_type": "display_data"
    },
    {
     "name": "stdout",
     "output_type": "stream",
     "text": [
      "\n"
     ]
    }
   ],
   "source": [
    "# Calculate some relevant statistics about the repositories\n",
    "folder_name = f\"../reports/summaries\"\n",
    "os.makedirs(folder_name, exist_ok=True)\n",
    "github_orgs = [\"jupyterhub\", \"jupyter\", \"jupyterlab\", \"jupyter-widgets\", \"ipython\", \"binder-examples\"]\n",
    "\n",
    "parameters = dict(\n",
    "    renderer=\"kaggle\",\n",
    "    github_orgs=github_orgs,\n",
    ")\n",
    "\n",
    "\n",
    "out = pm.execute_notebook('./time.ipynb',\n",
    "                          op.join(folder_name, 'time.ipynb'),\n",
    "                          parameters=parameters)\n"
   ]
  },
  {
   "cell_type": "code",
   "execution_count": 15,
   "metadata": {},
   "outputs": [],
   "source": [
    "out = pm.execute_notebook('./stats/pony_factor.ipynb',\n",
    "                          op.join(folder_name, \"pony_factor.ipynb\"),\n",
    "                          parameters=parameters,\n",
    "                          cwd='./stats')\n",
    "\n",
    "out = pm.execute_notebook('./stats/retention.ipynb',\n",
    "                          op.join(folder_name, \"retention.ipynb\"),\n",
    "                          parameters=parameters,\n",
    "                          cwd='./stats')"
   ]
  },
  {
   "cell_type": "code",
   "execution_count": null,
   "metadata": {},
   "outputs": [],
   "source": []
  }
 ],
 "metadata": {
  "kernelspec": {
   "display_name": "Python 3",
   "language": "python",
   "name": "python3"
  },
  "language_info": {
   "codemirror_mode": {
    "name": "ipython",
    "version": 3
   },
   "file_extension": ".py",
   "mimetype": "text/x-python",
   "name": "python",
   "nbconvert_exporter": "python",
   "pygments_lexer": "ipython3",
   "version": "3.7.3"
  },
  "widgets": {
   "application/vnd.jupyter.widget-state+json": {
    "state": {
     "007a822d8077487e8ef9d3e084048754": {
      "model_module": "@jupyter-widgets/controls",
      "model_module_version": "1.5.0",
      "model_name": "HBoxModel",
      "state": {
       "children": [
        "IPY_MODEL_92bfe086f205423eb9dfc5ffa4d5a4dd",
        "IPY_MODEL_d7b432393d8245799423ee61fdaf10c3"
       ],
       "layout": "IPY_MODEL_1e4290ae01544b288eeae1b386faef0f"
      }
     },
     "04a3b03c799b495f8f59a9867cb12488": {
      "model_module": "@jupyter-widgets/controls",
      "model_module_version": "1.5.0",
      "model_name": "IntProgressModel",
      "state": {
       "bar_style": "danger",
       "layout": "IPY_MODEL_2fe3501a46ef47f181520d3969640df0",
       "max": 42,
       "style": "IPY_MODEL_5708b2123f0644f593536e2f1c2c4020",
       "value": 1
      }
     },
     "0526df6e8a3948298c4528a3719b40f0": {
      "model_module": "@jupyter-widgets/controls",
      "model_module_version": "1.5.0",
      "model_name": "HBoxModel",
      "state": {
       "children": [
        "IPY_MODEL_fd87053c063f482fbc4a1ffd01175635",
        "IPY_MODEL_8170926300904ac0a24783fc00db3545"
       ],
       "layout": "IPY_MODEL_22682cd959ec4f8db6ebd5e09cafc834"
      }
     },
     "081c8d9ddf3c40b090c1b8741f14677d": {
      "model_module": "@jupyter-widgets/base",
      "model_module_version": "1.2.0",
      "model_name": "LayoutModel",
      "state": {}
     },
     "0c46478341f940beb391435cce2c18a1": {
      "model_module": "@jupyter-widgets/controls",
      "model_module_version": "1.5.0",
      "model_name": "DescriptionStyleModel",
      "state": {
       "description_width": ""
      }
     },
     "0d1c2ddfdaa14c88bb10a336be3b9586": {
      "model_module": "@jupyter-widgets/controls",
      "model_module_version": "1.5.0",
      "model_name": "IntProgressModel",
      "state": {
       "bar_style": "danger",
       "layout": "IPY_MODEL_38029a30313b4de1a89d6c8543aaa3e9",
       "max": 42,
       "style": "IPY_MODEL_c2a49af5f2464da7ab3ee329e17c4b3f",
       "value": 1
      }
     },
     "0d9de3866b9c45259160c662d915ef18": {
      "model_module": "@jupyter-widgets/controls",
      "model_module_version": "1.5.0",
      "model_name": "ProgressStyleModel",
      "state": {
       "description_width": ""
      }
     },
     "10338811fb7d40c3a5b8e37891747632": {
      "model_module": "@jupyter-widgets/base",
      "model_module_version": "1.2.0",
      "model_name": "LayoutModel",
      "state": {}
     },
     "10f479bce24642bb92259ced3fe62c64": {
      "model_module": "@jupyter-widgets/controls",
      "model_module_version": "1.5.0",
      "model_name": "HBoxModel",
      "state": {
       "children": [
        "IPY_MODEL_7be0db989d8c43af818adb03aa19de2b",
        "IPY_MODEL_632544a29e2d473c909f50bb49ef8fff"
       ],
       "layout": "IPY_MODEL_47c7608d8f6f474eac5114339d8df6c6"
      }
     },
     "15b82533480e4a00906073caa28f6010": {
      "model_module": "@jupyter-widgets/base",
      "model_module_version": "1.2.0",
      "model_name": "LayoutModel",
      "state": {}
     },
     "17a243f8dd0943a0a2e3dd83e7211e7c": {
      "model_module": "@jupyter-widgets/controls",
      "model_module_version": "1.5.0",
      "model_name": "HBoxModel",
      "state": {
       "children": [
        "IPY_MODEL_97b03aca6d8b43a18383846f526bb222",
        "IPY_MODEL_e35ff3c8e033498eade255cd70ec82f6"
       ],
       "layout": "IPY_MODEL_75d199c92bcf421d81741775d5dbb178"
      }
     },
     "19b5d5652cf346ad80683a9fb2e0ac3f": {
      "model_module": "@jupyter-widgets/controls",
      "model_module_version": "1.5.0",
      "model_name": "IntProgressModel",
      "state": {
       "bar_style": "success",
       "layout": "IPY_MODEL_c9b6550ea7c14f9d8cb09af798d3d749",
       "max": 26,
       "style": "IPY_MODEL_a72bb9de7a214cd8b6e85a2462bb810b",
       "value": 26
      }
     },
     "1b11b11d46ee493f8ab1f24be524aa33": {
      "model_module": "@jupyter-widgets/controls",
      "model_module_version": "1.5.0",
      "model_name": "HBoxModel",
      "state": {
       "children": [
        "IPY_MODEL_bbd820d7b9b34d61a1528e6e68c32359",
        "IPY_MODEL_4f87d6839c3b45bfb83b209f91196841"
       ],
       "layout": "IPY_MODEL_081c8d9ddf3c40b090c1b8741f14677d"
      }
     },
     "1c158311db214dc3bebf7aa38e69e229": {
      "model_module": "@jupyter-widgets/controls",
      "model_module_version": "1.5.0",
      "model_name": "ProgressStyleModel",
      "state": {
       "description_width": ""
      }
     },
     "1e4290ae01544b288eeae1b386faef0f": {
      "model_module": "@jupyter-widgets/base",
      "model_module_version": "1.2.0",
      "model_name": "LayoutModel",
      "state": {}
     },
     "1ff38efce2b441f6a685d7df361b7b34": {
      "model_module": "@jupyter-widgets/base",
      "model_module_version": "1.2.0",
      "model_name": "LayoutModel",
      "state": {}
     },
     "22682cd959ec4f8db6ebd5e09cafc834": {
      "model_module": "@jupyter-widgets/base",
      "model_module_version": "1.2.0",
      "model_name": "LayoutModel",
      "state": {}
     },
     "22dadc6a82a54fd38661835211baa24d": {
      "model_module": "@jupyter-widgets/controls",
      "model_module_version": "1.5.0",
      "model_name": "DescriptionStyleModel",
      "state": {
       "description_width": ""
      }
     },
     "293b2da4a8b248a18ea9886e6d31a779": {
      "model_module": "@jupyter-widgets/controls",
      "model_module_version": "1.5.0",
      "model_name": "DescriptionStyleModel",
      "state": {
       "description_width": ""
      }
     },
     "2bdea7e22c594901b07513722e8f4d74": {
      "model_module": "@jupyter-widgets/base",
      "model_module_version": "1.2.0",
      "model_name": "LayoutModel",
      "state": {}
     },
     "2d8f9ee4f45546c1bff2ac7eb716fdd8": {
      "model_module": "@jupyter-widgets/controls",
      "model_module_version": "1.5.0",
      "model_name": "DescriptionStyleModel",
      "state": {
       "description_width": ""
      }
     },
     "2e09f4b3683a48db98de8c2c4059cb01": {
      "model_module": "@jupyter-widgets/base",
      "model_module_version": "1.2.0",
      "model_name": "LayoutModel",
      "state": {}
     },
     "2fe3501a46ef47f181520d3969640df0": {
      "model_module": "@jupyter-widgets/base",
      "model_module_version": "1.2.0",
      "model_name": "LayoutModel",
      "state": {}
     },
     "3015b3d19b3d49aa8f9139656f85db03": {
      "model_module": "@jupyter-widgets/controls",
      "model_module_version": "1.5.0",
      "model_name": "DescriptionStyleModel",
      "state": {
       "description_width": ""
      }
     },
     "303e6ef651bb435fb14e8fa190dc9c48": {
      "model_module": "@jupyter-widgets/controls",
      "model_module_version": "1.5.0",
      "model_name": "HBoxModel",
      "state": {
       "children": [
        "IPY_MODEL_04a3b03c799b495f8f59a9867cb12488",
        "IPY_MODEL_575c58be40d44008b911e2362b8ae132"
       ],
       "layout": "IPY_MODEL_415a7df492524f0d9c4b239218429246"
      }
     },
     "30d87648c47f4ea8adbd7e9981a72cf7": {
      "model_module": "@jupyter-widgets/controls",
      "model_module_version": "1.5.0",
      "model_name": "ProgressStyleModel",
      "state": {
       "description_width": ""
      }
     },
     "34a3b4bcf3e5430582c6bdcec04d7cd1": {
      "model_module": "@jupyter-widgets/controls",
      "model_module_version": "1.5.0",
      "model_name": "HBoxModel",
      "state": {
       "children": [
        "IPY_MODEL_19b5d5652cf346ad80683a9fb2e0ac3f",
        "IPY_MODEL_a070a9af925c4631a55f18c872a5a185"
       ],
       "layout": "IPY_MODEL_6048e39438eb4b72b5b65bc829d3744d"
      }
     },
     "38029a30313b4de1a89d6c8543aaa3e9": {
      "model_module": "@jupyter-widgets/base",
      "model_module_version": "1.2.0",
      "model_name": "LayoutModel",
      "state": {}
     },
     "39d6b4d50b374b199fdda968df6ddded": {
      "model_module": "@jupyter-widgets/controls",
      "model_module_version": "1.5.0",
      "model_name": "HBoxModel",
      "state": {
       "children": [
        "IPY_MODEL_53b78dd62bb84611a28078be5b9be5e1",
        "IPY_MODEL_82310249d848462498d0b4a8b55ab9ee"
       ],
       "layout": "IPY_MODEL_7cbab88be472444b9f8778b425b65050"
      }
     },
     "3c648986b430423a84aa4294604bbdfb": {
      "model_module": "@jupyter-widgets/controls",
      "model_module_version": "1.5.0",
      "model_name": "IntProgressModel",
      "state": {
       "bar_style": "danger",
       "layout": "IPY_MODEL_c27d797537704a7eb0a94adc1c623209",
       "max": 42,
       "style": "IPY_MODEL_8d2c25ed06cc475f887582205f9862d6",
       "value": 8
      }
     },
     "3c8be2073e1d40d889b67c83a335629b": {
      "model_module": "@jupyter-widgets/base",
      "model_module_version": "1.2.0",
      "model_name": "LayoutModel",
      "state": {}
     },
     "3f6e2ad52e534d0bb3f83ff628462539": {
      "model_module": "@jupyter-widgets/controls",
      "model_module_version": "1.5.0",
      "model_name": "DescriptionStyleModel",
      "state": {
       "description_width": ""
      }
     },
     "415a7df492524f0d9c4b239218429246": {
      "model_module": "@jupyter-widgets/base",
      "model_module_version": "1.2.0",
      "model_name": "LayoutModel",
      "state": {}
     },
     "41e09defa5b4499b9bf634dbfd1a638a": {
      "model_module": "@jupyter-widgets/controls",
      "model_module_version": "1.5.0",
      "model_name": "DescriptionStyleModel",
      "state": {
       "description_width": ""
      }
     },
     "47c7608d8f6f474eac5114339d8df6c6": {
      "model_module": "@jupyter-widgets/base",
      "model_module_version": "1.2.0",
      "model_name": "LayoutModel",
      "state": {}
     },
     "4b2429336e494acd8adb8274dd7ae6e6": {
      "model_module": "@jupyter-widgets/controls",
      "model_module_version": "1.5.0",
      "model_name": "HTMLModel",
      "state": {
       "layout": "IPY_MODEL_b95e046f9c374ab2aff4712fab66a0c2",
       "style": "IPY_MODEL_f8a5bc4a75664a988afa357a13e7df57",
       "value": "100% 42/42 [00:12&lt;00:00,  3.30it/s]"
      }
     },
     "4b41c1bf8cb5475cbd6ca0c9607c2326": {
      "model_module": "@jupyter-widgets/base",
      "model_module_version": "1.2.0",
      "model_name": "LayoutModel",
      "state": {}
     },
     "4ba1aef12efd4ad9b30edda26254f8a8": {
      "model_module": "@jupyter-widgets/controls",
      "model_module_version": "1.5.0",
      "model_name": "HTMLModel",
      "state": {
       "layout": "IPY_MODEL_4cd3bf9d7c9d44888ae14df9d4c5711a",
       "style": "IPY_MODEL_9d05f561b1674df5987af39b8136e6df",
       "value": "100% 42/42 [00:12&lt;00:00,  3.30it/s]"
      }
     },
     "4cd3bf9d7c9d44888ae14df9d4c5711a": {
      "model_module": "@jupyter-widgets/base",
      "model_module_version": "1.2.0",
      "model_name": "LayoutModel",
      "state": {}
     },
     "4e1e2e1c07d74028bf16374e3a9ce7d0": {
      "model_module": "@jupyter-widgets/controls",
      "model_module_version": "1.5.0",
      "model_name": "IntProgressModel",
      "state": {
       "bar_style": "success",
       "layout": "IPY_MODEL_f8efb78a4a6b42219691dfd44a2873f9",
       "max": 42,
       "style": "IPY_MODEL_1c158311db214dc3bebf7aa38e69e229",
       "value": 42
      }
     },
     "4f4e5ccc5aed446cb0077c79cdcc3c4c": {
      "model_module": "@jupyter-widgets/controls",
      "model_module_version": "1.5.0",
      "model_name": "DescriptionStyleModel",
      "state": {
       "description_width": ""
      }
     },
     "4f87d6839c3b45bfb83b209f91196841": {
      "model_module": "@jupyter-widgets/controls",
      "model_module_version": "1.5.0",
      "model_name": "HTMLModel",
      "state": {
       "layout": "IPY_MODEL_8e90c4a20c304984b313696c2549227d",
       "style": "IPY_MODEL_d03246478dbe46c4863a920ab63b3291",
       "value": "100% 42/42 [00:13&lt;00:00,  3.00it/s]"
      }
     },
     "53b78dd62bb84611a28078be5b9be5e1": {
      "model_module": "@jupyter-widgets/controls",
      "model_module_version": "1.5.0",
      "model_name": "IntProgressModel",
      "state": {
       "bar_style": "success",
       "layout": "IPY_MODEL_3c8be2073e1d40d889b67c83a335629b",
       "max": 26,
       "style": "IPY_MODEL_0d9de3866b9c45259160c662d915ef18",
       "value": 26
      }
     },
     "5708b2123f0644f593536e2f1c2c4020": {
      "model_module": "@jupyter-widgets/controls",
      "model_module_version": "1.5.0",
      "model_name": "ProgressStyleModel",
      "state": {
       "description_width": ""
      }
     },
     "575c58be40d44008b911e2362b8ae132": {
      "model_module": "@jupyter-widgets/controls",
      "model_module_version": "1.5.0",
      "model_name": "HTMLModel",
      "state": {
       "layout": "IPY_MODEL_f3c4db71dfb24ebd8f12bb31d53e273d",
       "style": "IPY_MODEL_3015b3d19b3d49aa8f9139656f85db03",
       "value": "  2% 1/42 [00:03&lt;02:30,  3.66s/it]"
      }
     },
     "592ff9f5e9a34e23b4c9f4ec1030474b": {
      "model_module": "@jupyter-widgets/base",
      "model_module_version": "1.2.0",
      "model_name": "LayoutModel",
      "state": {}
     },
     "5a4c8612049d4e8792f36fb43d3a3138": {
      "model_module": "@jupyter-widgets/base",
      "model_module_version": "1.2.0",
      "model_name": "LayoutModel",
      "state": {}
     },
     "5cb83eadc02f4d139b4bce7a3cded5df": {
      "model_module": "@jupyter-widgets/base",
      "model_module_version": "1.2.0",
      "model_name": "LayoutModel",
      "state": {}
     },
     "5cbfea2317964e71aa91668495c76df2": {
      "model_module": "@jupyter-widgets/base",
      "model_module_version": "1.2.0",
      "model_name": "LayoutModel",
      "state": {}
     },
     "5f3291d433594441942c3e9ce1f59409": {
      "model_module": "@jupyter-widgets/controls",
      "model_module_version": "1.5.0",
      "model_name": "HTMLModel",
      "state": {
       "layout": "IPY_MODEL_592ff9f5e9a34e23b4c9f4ec1030474b",
       "style": "IPY_MODEL_41e09defa5b4499b9bf634dbfd1a638a",
       "value": " 19% 8/42 [00:06&lt;00:34,  1.01s/it]"
      }
     },
     "6048e39438eb4b72b5b65bc829d3744d": {
      "model_module": "@jupyter-widgets/base",
      "model_module_version": "1.2.0",
      "model_name": "LayoutModel",
      "state": {}
     },
     "632544a29e2d473c909f50bb49ef8fff": {
      "model_module": "@jupyter-widgets/controls",
      "model_module_version": "1.5.0",
      "model_name": "HTMLModel",
      "state": {
       "layout": "IPY_MODEL_f42d6c42cc624971b20a49d21ed80976",
       "style": "IPY_MODEL_2d8f9ee4f45546c1bff2ac7eb716fdd8",
       "value": "100% 26/26 [00:04&lt;00:00,  5.39it/s]"
      }
     },
     "67e5b90c050241ccaea0f0998a0429df": {
      "model_module": "@jupyter-widgets/base",
      "model_module_version": "1.2.0",
      "model_name": "LayoutModel",
      "state": {}
     },
     "6b4c7b94703c44d0912e25cf49467c28": {
      "model_module": "@jupyter-widgets/base",
      "model_module_version": "1.2.0",
      "model_name": "LayoutModel",
      "state": {}
     },
     "6d24a8471e764bfb9078ba6e373c5532": {
      "model_module": "@jupyter-widgets/base",
      "model_module_version": "1.2.0",
      "model_name": "LayoutModel",
      "state": {}
     },
     "6d82fccbc71548c185c83b3655ec9dc0": {
      "model_module": "@jupyter-widgets/controls",
      "model_module_version": "1.5.0",
      "model_name": "ProgressStyleModel",
      "state": {
       "description_width": ""
      }
     },
     "6ddff5efbb284e0fa3a32c6da0fa7c8a": {
      "model_module": "@jupyter-widgets/controls",
      "model_module_version": "1.5.0",
      "model_name": "ProgressStyleModel",
      "state": {
       "description_width": ""
      }
     },
     "75d199c92bcf421d81741775d5dbb178": {
      "model_module": "@jupyter-widgets/base",
      "model_module_version": "1.2.0",
      "model_name": "LayoutModel",
      "state": {}
     },
     "7be0db989d8c43af818adb03aa19de2b": {
      "model_module": "@jupyter-widgets/controls",
      "model_module_version": "1.5.0",
      "model_name": "IntProgressModel",
      "state": {
       "bar_style": "success",
       "layout": "IPY_MODEL_6b4c7b94703c44d0912e25cf49467c28",
       "max": 26,
       "style": "IPY_MODEL_30d87648c47f4ea8adbd7e9981a72cf7",
       "value": 26
      }
     },
     "7c0c4b5fab674289ac1b23c02990f199": {
      "model_module": "@jupyter-widgets/controls",
      "model_module_version": "1.5.0",
      "model_name": "ProgressStyleModel",
      "state": {
       "description_width": ""
      }
     },
     "7cbab88be472444b9f8778b425b65050": {
      "model_module": "@jupyter-widgets/base",
      "model_module_version": "1.2.0",
      "model_name": "LayoutModel",
      "state": {}
     },
     "8170926300904ac0a24783fc00db3545": {
      "model_module": "@jupyter-widgets/controls",
      "model_module_version": "1.5.0",
      "model_name": "HTMLModel",
      "state": {
       "layout": "IPY_MODEL_10338811fb7d40c3a5b8e37891747632",
       "style": "IPY_MODEL_92819df83b2f429a99071de29ec9446e",
       "value": "100% 42/42 [00:12&lt;00:00,  3.25it/s]"
      }
     },
     "82310249d848462498d0b4a8b55ab9ee": {
      "model_module": "@jupyter-widgets/controls",
      "model_module_version": "1.5.0",
      "model_name": "HTMLModel",
      "state": {
       "layout": "IPY_MODEL_cab9580450c24cf897a74dc4835bdccd",
       "style": "IPY_MODEL_0c46478341f940beb391435cce2c18a1",
       "value": "100% 26/26 [00:05&lt;00:00,  4.98it/s]"
      }
     },
     "85c2aea7c4284326ab83ce52b9c21e1a": {
      "model_module": "@jupyter-widgets/controls",
      "model_module_version": "1.5.0",
      "model_name": "IntProgressModel",
      "state": {
       "bar_style": "success",
       "layout": "IPY_MODEL_cab48b072b054493baab3e8255cd98b7",
       "max": 42,
       "style": "IPY_MODEL_a1899b378f324f6f8395f175ee8b590f",
       "value": 42
      }
     },
     "8d2c25ed06cc475f887582205f9862d6": {
      "model_module": "@jupyter-widgets/controls",
      "model_module_version": "1.5.0",
      "model_name": "ProgressStyleModel",
      "state": {
       "description_width": ""
      }
     },
     "8e90c4a20c304984b313696c2549227d": {
      "model_module": "@jupyter-widgets/base",
      "model_module_version": "1.2.0",
      "model_name": "LayoutModel",
      "state": {}
     },
     "91d5bc7bb0a4484aa778fa0679001fe8": {
      "model_module": "@jupyter-widgets/base",
      "model_module_version": "1.2.0",
      "model_name": "LayoutModel",
      "state": {}
     },
     "92819df83b2f429a99071de29ec9446e": {
      "model_module": "@jupyter-widgets/controls",
      "model_module_version": "1.5.0",
      "model_name": "DescriptionStyleModel",
      "state": {
       "description_width": ""
      }
     },
     "92bfe086f205423eb9dfc5ffa4d5a4dd": {
      "model_module": "@jupyter-widgets/controls",
      "model_module_version": "1.5.0",
      "model_name": "IntProgressModel",
      "state": {
       "bar_style": "success",
       "layout": "IPY_MODEL_4b41c1bf8cb5475cbd6ca0c9607c2326",
       "max": 26,
       "style": "IPY_MODEL_a6c7b92ffcf94e6dbb01be1ff06d07e8",
       "value": 26
      }
     },
     "92dbff65580e4a4e9bd2706f9c9210c6": {
      "model_module": "@jupyter-widgets/controls",
      "model_module_version": "1.5.0",
      "model_name": "ProgressStyleModel",
      "state": {
       "description_width": ""
      }
     },
     "97b03aca6d8b43a18383846f526bb222": {
      "model_module": "@jupyter-widgets/controls",
      "model_module_version": "1.5.0",
      "model_name": "IntProgressModel",
      "state": {
       "bar_style": "danger",
       "layout": "IPY_MODEL_2bdea7e22c594901b07513722e8f4d74",
       "max": 42,
       "style": "IPY_MODEL_e736698b2b5f4450b681dd7f26cdd70a",
       "value": 1
      }
     },
     "9cf4c35a90d0482591550359681871a3": {
      "model_module": "@jupyter-widgets/controls",
      "model_module_version": "1.5.0",
      "model_name": "IntProgressModel",
      "state": {
       "bar_style": "success",
       "layout": "IPY_MODEL_c1bbeb4a78a04872b212633aa7a3bcb6",
       "max": 42,
       "style": "IPY_MODEL_7c0c4b5fab674289ac1b23c02990f199",
       "value": 42
      }
     },
     "9d05f561b1674df5987af39b8136e6df": {
      "model_module": "@jupyter-widgets/controls",
      "model_module_version": "1.5.0",
      "model_name": "DescriptionStyleModel",
      "state": {
       "description_width": ""
      }
     },
     "9e37710db1eb4432af0c3390cb4a69dd": {
      "model_module": "@jupyter-widgets/controls",
      "model_module_version": "1.5.0",
      "model_name": "HBoxModel",
      "state": {
       "children": [
        "IPY_MODEL_4e1e2e1c07d74028bf16374e3a9ce7d0",
        "IPY_MODEL_4b2429336e494acd8adb8274dd7ae6e6"
       ],
       "layout": "IPY_MODEL_5cbfea2317964e71aa91668495c76df2"
      }
     },
     "a070a9af925c4631a55f18c872a5a185": {
      "model_module": "@jupyter-widgets/controls",
      "model_module_version": "1.5.0",
      "model_name": "HTMLModel",
      "state": {
       "layout": "IPY_MODEL_e4e1065b7be8495f8d0403ce50f82d5b",
       "style": "IPY_MODEL_3f6e2ad52e534d0bb3f83ff628462539",
       "value": "100% 26/26 [00:04&lt;00:00,  7.99it/s]"
      }
     },
     "a1899b378f324f6f8395f175ee8b590f": {
      "model_module": "@jupyter-widgets/controls",
      "model_module_version": "1.5.0",
      "model_name": "ProgressStyleModel",
      "state": {
       "description_width": ""
      }
     },
     "a5326a45cf664bafbb2a8cd1df5dea7f": {
      "model_module": "@jupyter-widgets/base",
      "model_module_version": "1.2.0",
      "model_name": "LayoutModel",
      "state": {}
     },
     "a6958b3df09047009e6cfbe2d041388b": {
      "model_module": "@jupyter-widgets/controls",
      "model_module_version": "1.5.0",
      "model_name": "HBoxModel",
      "state": {
       "children": [
        "IPY_MODEL_85c2aea7c4284326ab83ce52b9c21e1a",
        "IPY_MODEL_4ba1aef12efd4ad9b30edda26254f8a8"
       ],
       "layout": "IPY_MODEL_2e09f4b3683a48db98de8c2c4059cb01"
      }
     },
     "a6c7b92ffcf94e6dbb01be1ff06d07e8": {
      "model_module": "@jupyter-widgets/controls",
      "model_module_version": "1.5.0",
      "model_name": "ProgressStyleModel",
      "state": {
       "description_width": ""
      }
     },
     "a72bb9de7a214cd8b6e85a2462bb810b": {
      "model_module": "@jupyter-widgets/controls",
      "model_module_version": "1.5.0",
      "model_name": "ProgressStyleModel",
      "state": {
       "description_width": ""
      }
     },
     "a943e8e9263f4496a7ffccba00d55372": {
      "model_module": "@jupyter-widgets/base",
      "model_module_version": "1.2.0",
      "model_name": "LayoutModel",
      "state": {}
     },
     "ab5105d85e35467fbc8cf3c213389f59": {
      "model_module": "@jupyter-widgets/controls",
      "model_module_version": "1.5.0",
      "model_name": "HBoxModel",
      "state": {
       "children": [
        "IPY_MODEL_0d1c2ddfdaa14c88bb10a336be3b9586",
        "IPY_MODEL_e47ec2a57c9b4fe19339495a233d6b5c"
       ],
       "layout": "IPY_MODEL_a5326a45cf664bafbb2a8cd1df5dea7f"
      }
     },
     "adc4b8db840642088fbc9919f90383b0": {
      "model_module": "@jupyter-widgets/controls",
      "model_module_version": "1.5.0",
      "model_name": "DescriptionStyleModel",
      "state": {
       "description_width": ""
      }
     },
     "b3f0c39a1ee649d987d99116410c2c16": {
      "model_module": "@jupyter-widgets/controls",
      "model_module_version": "1.5.0",
      "model_name": "HTMLModel",
      "state": {
       "layout": "IPY_MODEL_5a4c8612049d4e8792f36fb43d3a3138",
       "style": "IPY_MODEL_22dadc6a82a54fd38661835211baa24d",
       "value": "100% 42/42 [00:16&lt;00:00,  3.88it/s]"
      }
     },
     "b5bbfd95dd474f76ac2f2c9821d2dbf3": {
      "model_module": "@jupyter-widgets/base",
      "model_module_version": "1.2.0",
      "model_name": "LayoutModel",
      "state": {}
     },
     "b95e046f9c374ab2aff4712fab66a0c2": {
      "model_module": "@jupyter-widgets/base",
      "model_module_version": "1.2.0",
      "model_name": "LayoutModel",
      "state": {}
     },
     "bb191dda86ad417182c26ce49616f351": {
      "model_module": "@jupyter-widgets/controls",
      "model_module_version": "1.5.0",
      "model_name": "HBoxModel",
      "state": {
       "children": [
        "IPY_MODEL_fd617ad6f0b94a949c0700087123477f",
        "IPY_MODEL_bd88dc9a89cd42569dab98e9c1c3121f"
       ],
       "layout": "IPY_MODEL_b5bbfd95dd474f76ac2f2c9821d2dbf3"
      }
     },
     "bbd820d7b9b34d61a1528e6e68c32359": {
      "model_module": "@jupyter-widgets/controls",
      "model_module_version": "1.5.0",
      "model_name": "IntProgressModel",
      "state": {
       "bar_style": "success",
       "layout": "IPY_MODEL_67e5b90c050241ccaea0f0998a0429df",
       "max": 42,
       "style": "IPY_MODEL_6d82fccbc71548c185c83b3655ec9dc0",
       "value": 42
      }
     },
     "bd88dc9a89cd42569dab98e9c1c3121f": {
      "model_module": "@jupyter-widgets/controls",
      "model_module_version": "1.5.0",
      "model_name": "HTMLModel",
      "state": {
       "layout": "IPY_MODEL_91d5bc7bb0a4484aa778fa0679001fe8",
       "style": "IPY_MODEL_adc4b8db840642088fbc9919f90383b0",
       "value": "100% 26/26 [00:04&lt;00:00,  9.46it/s]"
      }
     },
     "c1bbeb4a78a04872b212633aa7a3bcb6": {
      "model_module": "@jupyter-widgets/base",
      "model_module_version": "1.2.0",
      "model_name": "LayoutModel",
      "state": {}
     },
     "c27d797537704a7eb0a94adc1c623209": {
      "model_module": "@jupyter-widgets/base",
      "model_module_version": "1.2.0",
      "model_name": "LayoutModel",
      "state": {}
     },
     "c2a49af5f2464da7ab3ee329e17c4b3f": {
      "model_module": "@jupyter-widgets/controls",
      "model_module_version": "1.5.0",
      "model_name": "ProgressStyleModel",
      "state": {
       "description_width": ""
      }
     },
     "c6f7079f9db248f2a7a6ee9acebe6dd9": {
      "model_module": "@jupyter-widgets/controls",
      "model_module_version": "1.5.0",
      "model_name": "HBoxModel",
      "state": {
       "children": [
        "IPY_MODEL_3c648986b430423a84aa4294604bbdfb",
        "IPY_MODEL_5f3291d433594441942c3e9ce1f59409"
       ],
       "layout": "IPY_MODEL_cc7c3337d23a4c0f8963dba5d8447432"
      }
     },
     "c9b6550ea7c14f9d8cb09af798d3d749": {
      "model_module": "@jupyter-widgets/base",
      "model_module_version": "1.2.0",
      "model_name": "LayoutModel",
      "state": {}
     },
     "cab48b072b054493baab3e8255cd98b7": {
      "model_module": "@jupyter-widgets/base",
      "model_module_version": "1.2.0",
      "model_name": "LayoutModel",
      "state": {}
     },
     "cab9580450c24cf897a74dc4835bdccd": {
      "model_module": "@jupyter-widgets/base",
      "model_module_version": "1.2.0",
      "model_name": "LayoutModel",
      "state": {}
     },
     "cc7bf09c338249b895b564e8e337a13a": {
      "model_module": "@jupyter-widgets/base",
      "model_module_version": "1.2.0",
      "model_name": "LayoutModel",
      "state": {}
     },
     "cc7c3337d23a4c0f8963dba5d8447432": {
      "model_module": "@jupyter-widgets/base",
      "model_module_version": "1.2.0",
      "model_name": "LayoutModel",
      "state": {}
     },
     "d03246478dbe46c4863a920ab63b3291": {
      "model_module": "@jupyter-widgets/controls",
      "model_module_version": "1.5.0",
      "model_name": "DescriptionStyleModel",
      "state": {
       "description_width": ""
      }
     },
     "d7b432393d8245799423ee61fdaf10c3": {
      "model_module": "@jupyter-widgets/controls",
      "model_module_version": "1.5.0",
      "model_name": "HTMLModel",
      "state": {
       "layout": "IPY_MODEL_1ff38efce2b441f6a685d7df361b7b34",
       "style": "IPY_MODEL_dfd217bf5fde456a944bc56a0fb5ac1a",
       "value": "100% 26/26 [00:04&lt;00:00,  8.35it/s]"
      }
     },
     "dfd217bf5fde456a944bc56a0fb5ac1a": {
      "model_module": "@jupyter-widgets/controls",
      "model_module_version": "1.5.0",
      "model_name": "DescriptionStyleModel",
      "state": {
       "description_width": ""
      }
     },
     "e35ff3c8e033498eade255cd70ec82f6": {
      "model_module": "@jupyter-widgets/controls",
      "model_module_version": "1.5.0",
      "model_name": "HTMLModel",
      "state": {
       "layout": "IPY_MODEL_cc7bf09c338249b895b564e8e337a13a",
       "style": "IPY_MODEL_293b2da4a8b248a18ea9886e6d31a779",
       "value": "  2% 1/42 [00:02&lt;01:42,  2.49s/it]"
      }
     },
     "e47ec2a57c9b4fe19339495a233d6b5c": {
      "model_module": "@jupyter-widgets/controls",
      "model_module_version": "1.5.0",
      "model_name": "HTMLModel",
      "state": {
       "layout": "IPY_MODEL_5cb83eadc02f4d139b4bce7a3cded5df",
       "style": "IPY_MODEL_4f4e5ccc5aed446cb0077c79cdcc3c4c",
       "value": "  2% 1/42 [00:02&lt;01:48,  2.65s/it]"
      }
     },
     "e4e1065b7be8495f8d0403ce50f82d5b": {
      "model_module": "@jupyter-widgets/base",
      "model_module_version": "1.2.0",
      "model_name": "LayoutModel",
      "state": {}
     },
     "e736698b2b5f4450b681dd7f26cdd70a": {
      "model_module": "@jupyter-widgets/controls",
      "model_module_version": "1.5.0",
      "model_name": "ProgressStyleModel",
      "state": {
       "description_width": ""
      }
     },
     "f3c4db71dfb24ebd8f12bb31d53e273d": {
      "model_module": "@jupyter-widgets/base",
      "model_module_version": "1.2.0",
      "model_name": "LayoutModel",
      "state": {}
     },
     "f42d6c42cc624971b20a49d21ed80976": {
      "model_module": "@jupyter-widgets/base",
      "model_module_version": "1.2.0",
      "model_name": "LayoutModel",
      "state": {}
     },
     "f8a5bc4a75664a988afa357a13e7df57": {
      "model_module": "@jupyter-widgets/controls",
      "model_module_version": "1.5.0",
      "model_name": "DescriptionStyleModel",
      "state": {
       "description_width": ""
      }
     },
     "f8efb78a4a6b42219691dfd44a2873f9": {
      "model_module": "@jupyter-widgets/base",
      "model_module_version": "1.2.0",
      "model_name": "LayoutModel",
      "state": {}
     },
     "fbdf3758d00c4f7b8bed5c1725c0e4ca": {
      "model_module": "@jupyter-widgets/controls",
      "model_module_version": "1.5.0",
      "model_name": "HBoxModel",
      "state": {
       "children": [
        "IPY_MODEL_9cf4c35a90d0482591550359681871a3",
        "IPY_MODEL_b3f0c39a1ee649d987d99116410c2c16"
       ],
       "layout": "IPY_MODEL_15b82533480e4a00906073caa28f6010"
      }
     },
     "fd617ad6f0b94a949c0700087123477f": {
      "model_module": "@jupyter-widgets/controls",
      "model_module_version": "1.5.0",
      "model_name": "IntProgressModel",
      "state": {
       "bar_style": "success",
       "layout": "IPY_MODEL_a943e8e9263f4496a7ffccba00d55372",
       "max": 26,
       "style": "IPY_MODEL_92dbff65580e4a4e9bd2706f9c9210c6",
       "value": 26
      }
     },
     "fd87053c063f482fbc4a1ffd01175635": {
      "model_module": "@jupyter-widgets/controls",
      "model_module_version": "1.5.0",
      "model_name": "IntProgressModel",
      "state": {
       "bar_style": "success",
       "layout": "IPY_MODEL_6d24a8471e764bfb9078ba6e373c5532",
       "max": 42,
       "style": "IPY_MODEL_6ddff5efbb284e0fa3a32c6da0fa7c8a",
       "value": 42
      }
     }
    },
    "version_major": 2,
    "version_minor": 0
   }
  }
 },
 "nbformat": 4,
 "nbformat_minor": 4
}
