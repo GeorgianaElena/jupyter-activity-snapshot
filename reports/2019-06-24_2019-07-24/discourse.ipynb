{
 "cells": [
  {
   "cell_type": "code",
   "execution_count": 1,
   "metadata": {
    "papermill": {
     "duration": 1.222623,
     "end_time": "2019-07-24T18:38:25.679314",
     "exception": false,
     "start_time": "2019-07-24T18:38:24.456691",
     "status": "completed"
    },
    "tags": [
     "hide_input"
    ]
   },
   "outputs": [],
   "source": [
    "import requests\n",
    "from IPython.display import Markdown\n",
    "from tqdm import tqdm, tqdm_notebook\n",
    "import pandas as pd\n",
    "from matplotlib import pyplot as plt\n",
    "import numpy as np\n",
    "import altair as alt\n",
    "from requests.utils import quote\n",
    "import os\n",
    "from github import Github\n",
    "from datetime import timedelta"
   ]
  },
  {
   "cell_type": "code",
   "execution_count": 2,
   "metadata": {
    "papermill": {
     "duration": 0.032486,
     "end_time": "2019-07-24T18:38:25.732507",
     "exception": false,
     "start_time": "2019-07-24T18:38:25.700021",
     "status": "completed"
    },
    "tags": [
     "parameters",
     "hide_input"
    ]
   },
   "outputs": [],
   "source": [
    "fmt = \"{:%Y-%m-%d}\"\n",
    "\n",
    "# Can optionally use number of days to choose dates\n",
    "n_days = 60\n",
    "end_date = fmt.format(pd.datetime.today())\n",
    "start_date = fmt.format(pd.datetime.today() - timedelta(days=n_days))\n",
    "\n",
    "renderer = \"kaggle\"\n",
    "github_orgs = [\"jupyterhub\", \"jupyter\", \"jupyterlab\", \"jupyter-widgets\", \"ipython\", \"binder-examples\", \"nteract\"]\n",
    "bot_names = [\"stale\", \"codecov\", \"jupyterlab-dev-mode\", \"henchbot\"]"
   ]
  },
  {
   "cell_type": "code",
   "execution_count": 3,
   "metadata": {
    "papermill": {
     "duration": 0.034331,
     "end_time": "2019-07-24T18:38:25.785054",
     "exception": false,
     "start_time": "2019-07-24T18:38:25.750723",
     "status": "completed"
    },
    "tags": [
     "injected-parameters"
    ]
   },
   "outputs": [],
   "source": [
    "# Parameters\n",
    "end_date = \"2019-07-24\"\n",
    "start_date = \"2019-06-24\"\n",
    "renderer = \"kaggle\"\n",
    "update_data = True\n"
   ]
  },
  {
   "cell_type": "code",
   "execution_count": 4,
   "metadata": {
    "papermill": {
     "duration": 0.031813,
     "end_time": "2019-07-24T18:38:25.840277",
     "exception": false,
     "start_time": "2019-07-24T18:38:25.808464",
     "status": "completed"
    },
    "tags": [
     "hide_input"
    ]
   },
   "outputs": [],
   "source": [
    "# Discourse API key\n",
    "api = {'Api-Key': os.environ['DISCOURSE_API_KEY'],\n",
    "       'Api-Username': os.environ['DISCOURSE_API_USERNAME']}"
   ]
  },
  {
   "cell_type": "code",
   "execution_count": 5,
   "metadata": {
    "papermill": {
     "duration": 0.056821,
     "end_time": "2019-07-24T18:38:25.916527",
     "exception": false,
     "start_time": "2019-07-24T18:38:25.859706",
     "status": "completed"
    },
    "tags": [
     "hide_input"
    ]
   },
   "outputs": [],
   "source": [
    "# Discourse\n",
    "def topics_to_markdown(topics, n_list=10):\n",
    "    body = []\n",
    "    for _, topic in topics.iterrows():\n",
    "        title = topic['fancy_title']\n",
    "        slug = topic['slug']\n",
    "        posts_count = topic['posts_count']\n",
    "        url = f'https://discourse.jupyter.org/t/{slug}'\n",
    "        body.append(f'* [{title}]({url}) ({posts_count} posts)')\n",
    "    body = body[:n_list]\n",
    "    return '\\n'.join(body)\n",
    "\n",
    "def counts_from_activity(activity):\n",
    "    counts = activity.groupby('category_id').count()['bookmarked'].reset_index()\n",
    "    counts['parent_category'] = None\n",
    "    for ii, irow in counts.iterrows():\n",
    "        if parent_categories[irow['category_id']] is not None:\n",
    "            counts.loc[ii, 'parent_category'] = parent_categories[irow['category_id']]\n",
    "\n",
    "    counts['category_id'] = counts['category_id'].map(lambda a: category_mapping[a])\n",
    "    counts['parent_category'] = counts['parent_category'].map(lambda a: category_mapping[a] if a is not None else 'parent')\n",
    "    is_parent = counts['parent_category'] == 'parent'\n",
    "    counts.loc[is_parent, 'parent_category'] = counts.loc[is_parent, 'category_id'] \n",
    "    counts['parent/category'] = counts.apply(lambda a: a['parent_category']+'/'+a['category_id'], axis=1)\n",
    "    counts = counts.sort_values(['parent_category', 'bookmarked'], ascending=False)\n",
    "    return counts"
   ]
  },
  {
   "cell_type": "markdown",
   "metadata": {
    "papermill": {
     "duration": 0.025565,
     "end_time": "2019-07-24T18:38:25.970865",
     "exception": false,
     "start_time": "2019-07-24T18:38:25.945300",
     "status": "completed"
    },
    "tags": []
   },
   "source": [
    "# Community forum activity\n",
    "\n",
    "The [Jupyter Community Forum](https://discourse.jupyter.org) is a place for Jovyans across the\n",
    "community to talk about Jupyter tools in interactive computing and how they fit into their\n",
    "workflows. It's also a place for developers to share ideas, tools, tips, and help one another.\n",
    "\n",
    "Below are a few updates from activity in the Discourse. For more detailed information about\n",
    "the activity on the Community Forum, check out these links:\n",
    "\n",
    "* [The users page](https://discourse.jupyter.org/u) has information about user activity\n",
    "* [The top posts page](https://discourse.jupyter.org/top) contains a list of top posts, sorted\n",
    "  by various metrics."
   ]
  },
  {
   "cell_type": "code",
   "execution_count": 6,
   "metadata": {
    "papermill": {
     "duration": 0.167768,
     "end_time": "2019-07-24T18:38:26.169196",
     "exception": false,
     "start_time": "2019-07-24T18:38:26.001428",
     "status": "completed"
    },
    "tags": [
     "hide_input"
    ]
   },
   "outputs": [],
   "source": [
    "# Get categories for IDs\n",
    "url = \"https://discourse.jupyter.org/site.json\"\n",
    "resp = requests.get(url, headers=api)\n",
    "category_mapping = {cat['id']: cat['name'] for cat in resp.json()['categories']}\n",
    "parent_categories = {cat['id']: cat.get(\"parent_category_id\", None) for cat in resp.json()['categories']}"
   ]
  },
  {
   "cell_type": "code",
   "execution_count": 7,
   "metadata": {
    "papermill": {
     "duration": 0.05155,
     "end_time": "2019-07-24T18:38:26.263399",
     "exception": false,
     "start_time": "2019-07-24T18:38:26.211849",
     "status": "completed"
    },
    "tags": [
     "hide_input"
    ]
   },
   "outputs": [],
   "source": [
    "# Base URL to use\n",
    "url = \"https://discourse.jupyter.org/latest.json\""
   ]
  },
  {
   "cell_type": "markdown",
   "metadata": {
    "papermill": {
     "duration": 0.028915,
     "end_time": "2019-07-24T18:38:26.325134",
     "exception": false,
     "start_time": "2019-07-24T18:38:26.296219",
     "status": "completed"
    },
    "tags": []
   },
   "source": [
    "## Topics with lots of likes\n",
    "\n",
    "\"Likes\" are a way for community members to say thanks for a helpful post, show their\n",
    "support for an idea, or generally to share a little positivity with somebody else.\n",
    "These are topics that have generated lots of likes in recent history."
   ]
  },
  {
   "cell_type": "code",
   "execution_count": 8,
   "metadata": {
    "papermill": {
     "duration": 0.187962,
     "end_time": "2019-07-24T18:38:26.541711",
     "exception": false,
     "start_time": "2019-07-24T18:38:26.353749",
     "status": "completed"
    },
    "tags": [
     "hide_input"
    ]
   },
   "outputs": [
    {
     "data": {
      "text/markdown": [
       "* [Introduce yourself!](https://discourse.jupyter.org/t/introduce-yourself) (101 posts)\n",
       "* [{WIP} Re-Design of Jupyter.org Website](https://discourse.jupyter.org/t/wip-re-design-of-jupyter-org-website) (53 posts)\n",
       "* [Jupyter Community Calls](https://discourse.jupyter.org/t/jupyter-community-calls) (28 posts)\n",
       "* [JupyterHub, Binder workshop in Oslo, Sept. 5-8](https://discourse.jupyter.org/t/jupyterhub-binder-workshop-in-oslo-sept-5-8) (15 posts)\n",
       "* [Help us choose an updated &ldquo;Launch Binder&rdquo; badge!](https://discourse.jupyter.org/t/help-us-choose-an-updated-launch-binder-badge) (21 posts)\n",
       "* [The Binder Federation](https://discourse.jupyter.org/t/the-binder-federation) (14 posts)\n",
       "* [PyCon 2019 and mybinder.org](https://discourse.jupyter.org/t/pycon-2019-and-mybinder-org) (17 posts)\n",
       "* [Microsoft Word Integration (Intern Project)](https://discourse.jupyter.org/t/microsoft-word-integration-intern-project) (17 posts)\n",
       "* [Jupyter community workshop: proposal on diversity, inclusion and accessibility](https://discourse.jupyter.org/t/jupyter-community-workshop-proposal-on-diversity-inclusion-and-accessibility) (20 posts)\n",
       "* [Sunset the GitHub repo jupyter/help?](https://discourse.jupyter.org/t/sunset-the-github-repo-jupyter-help) (17 posts)"
      ],
      "text/plain": [
       "<IPython.core.display.Markdown object>"
      ]
     },
     "execution_count": 8,
     "metadata": {},
     "output_type": "execute_result"
    }
   ],
   "source": [
    "params = {\"order\": \"likes\", \"ascending\": \"False\"}\n",
    "resp = requests.get(url, headers=api, params=params)\n",
    "\n",
    "# Topics with the most likes in recent history\n",
    "liked = pd.DataFrame(resp.json()['topic_list']['topics'])\n",
    "Markdown(topics_to_markdown(liked))"
   ]
  },
  {
   "cell_type": "markdown",
   "metadata": {
    "papermill": {
     "duration": 0.017959,
     "end_time": "2019-07-24T18:38:26.573849",
     "exception": false,
     "start_time": "2019-07-24T18:38:26.555890",
     "status": "completed"
    },
    "tags": []
   },
   "source": [
    "## Active topics on the Community Forum\n",
    "\n",
    "These are topics with lots of activity in recent history."
   ]
  },
  {
   "cell_type": "code",
   "execution_count": 9,
   "metadata": {
    "papermill": {
     "duration": 0.180286,
     "end_time": "2019-07-24T18:38:26.772761",
     "exception": false,
     "start_time": "2019-07-24T18:38:26.592475",
     "status": "completed"
    },
    "tags": [
     "hide_input"
    ]
   },
   "outputs": [
    {
     "data": {
      "text/markdown": [
       "* [Introduce yourself!](https://discourse.jupyter.org/t/introduce-yourself) (101 posts)\n",
       "* [{WIP} Re-Design of Jupyter.org Website](https://discourse.jupyter.org/t/wip-re-design-of-jupyter-org-website) (53 posts)\n",
       "* [Tip: embed custom github content in a Binder link with nbgitpuller](https://discourse.jupyter.org/t/tip-embed-custom-github-content-in-a-binder-link-with-nbgitpuller) (52 posts)\n",
       "* [Would a &ldquo;The Littlest Binder&rdquo; be useful?](https://discourse.jupyter.org/t/would-a-the-littlest-binder-be-useful) (31 posts)\n",
       "* [Plugins of considerations](https://discourse.jupyter.org/t/plugins-of-considerations) (28 posts)\n",
       "* [Jupyter Community Calls](https://discourse.jupyter.org/t/jupyter-community-calls) (28 posts)\n",
       "* [A proposal for JupyterHub communications](https://discourse.jupyter.org/t/a-proposal-for-jupyterhub-communications) (26 posts)\n",
       "* [Binder/BinderHub Workshops &ndash; Help Wanted!](https://discourse.jupyter.org/t/binder-binderhub-workshops-help-wanted) (25 posts)\n",
       "* [Rename this category to Jupyter Server?](https://discourse.jupyter.org/t/rename-this-category-to-jupyter-server) (21 posts)\n",
       "* [Potential collaboration on user research?](https://discourse.jupyter.org/t/potential-collaboration-on-user-research) (21 posts)"
      ],
      "text/plain": [
       "<IPython.core.display.Markdown object>"
      ]
     },
     "execution_count": 9,
     "metadata": {},
     "output_type": "execute_result"
    }
   ],
   "source": [
    "params = {\"order\": \"posts\", \"ascending\": \"False\"}\n",
    "resp = requests.get(url, headers=api, params=params)\n",
    "\n",
    "# Topics with the most posts in recent history\n",
    "posts = pd.DataFrame(resp.json()['topic_list']['topics'])\n",
    "Markdown(topics_to_markdown(posts))"
   ]
  },
  {
   "cell_type": "code",
   "execution_count": 10,
   "metadata": {
    "papermill": {
     "duration": 0.095407,
     "end_time": "2019-07-24T18:38:26.894804",
     "exception": false,
     "start_time": "2019-07-24T18:38:26.799397",
     "status": "completed"
    },
    "tags": [
     "hide_input"
    ]
   },
   "outputs": [
    {
     "data": {
      "application/vnd.vegalite.v3+json": {
       "$schema": "https://vega.github.io/schema/vega-lite/v3.3.0.json",
       "config": {
        "mark": {
         "tooltip": null
        },
        "view": {
         "height": 300,
         "width": 400
        }
       },
       "data": {
        "name": "data-246f6fa531294d06dadd1e39255143dc"
       },
       "datasets": {
        "data-246f6fa531294d06dadd1e39255143dc": [
         {
          "bookmarked": 2,
          "category_id": "accessibility",
          "parent/category": "Special Topics/accessibility",
          "parent_category": "Special Topics"
         },
         {
          "bookmarked": 1,
          "category_id": "Admin requests",
          "parent/category": "Site Feedback/Admin requests",
          "parent_category": "Site Feedback"
         },
         {
          "bookmarked": 5,
          "category_id": "Meta",
          "parent/category": "Meta/Meta",
          "parent_category": "Meta"
         },
         {
          "bookmarked": 1,
          "category_id": "announcements",
          "parent/category": "Meta/announcements",
          "parent_category": "Meta"
         },
         {
          "bookmarked": 1,
          "category_id": "JupyterLab",
          "parent/category": "JupyterLab/JupyterLab",
          "parent_category": "JupyterLab"
         },
         {
          "bookmarked": 2,
          "category_id": "discuss",
          "parent/category": "JupyterHub/discuss",
          "parent_category": "JupyterHub"
         },
         {
          "bookmarked": 1,
          "category_id": "JupyterHub",
          "parent/category": "JupyterHub/JupyterHub",
          "parent_category": "JupyterHub"
         },
         {
          "bookmarked": 2,
          "category_id": "Enterprise Gateway",
          "parent/category": "Enterprise Gateway/Enterprise Gateway",
          "parent_category": "Enterprise Gateway"
         },
         {
          "bookmarked": 3,
          "category_id": "Community Chat",
          "parent/category": "Community Chat/Community Chat",
          "parent_category": "Community Chat"
         },
         {
          "bookmarked": 6,
          "category_id": "discuss",
          "parent/category": "Binder/discuss",
          "parent_category": "Binder"
         },
         {
          "bookmarked": 4,
          "category_id": "Binder",
          "parent/category": "Binder/Binder",
          "parent_category": "Binder"
         },
         {
          "bookmarked": 2,
          "category_id": "BinderHub",
          "parent/category": "Binder/BinderHub",
          "parent_category": "Binder"
         }
        ]
       },
       "encoding": {
        "color": {
         "field": "parent_category",
         "type": "nominal"
        },
        "x": {
         "field": "parent/category",
         "sort": [
          "accessibility",
          "Admin requests",
          "Meta",
          "announcements",
          "JupyterLab",
          "discuss",
          "JupyterHub",
          "Enterprise Gateway",
          "Community Chat",
          "discuss",
          "Binder",
          "BinderHub"
         ],
         "type": "nominal"
        },
        "y": {
         "field": "bookmarked",
         "type": "quantitative"
        }
       },
       "height": 300,
       "mark": "bar",
       "title": "Activity by category",
       "width": 700
      },
      "text/plain": [
       "<VegaLite 3 object>\n",
       "\n",
       "If you see this message, it means the renderer has not been properly enabled\n",
       "for the frontend that you are using. For more information, see\n",
       "https://altair-viz.github.io/user_guide/troubleshooting.html\n"
      ]
     },
     "execution_count": 10,
     "metadata": {},
     "output_type": "execute_result"
    }
   ],
   "source": [
    "counts = counts_from_activity(posts)\n",
    "alt.Chart(data=counts, width=700, height=300, title=\"Activity by category\").mark_bar().encode(\n",
    "    x=alt.X(\"parent/category\", sort=alt.Sort(counts['category_id'].values.tolist())),\n",
    "    y=\"bookmarked\",\n",
    "    color=\"parent_category\"\n",
    ")"
   ]
  },
  {
   "cell_type": "markdown",
   "metadata": {
    "papermill": {
     "duration": 0.039179,
     "end_time": "2019-07-24T18:38:26.967486",
     "exception": false,
     "start_time": "2019-07-24T18:38:26.928307",
     "status": "completed"
    },
    "tags": []
   },
   "source": [
    "## Recently-created topics\n",
    "\n",
    "These are topics that were recently created, sorted by the amount of activity\n",
    "in each one."
   ]
  },
  {
   "cell_type": "code",
   "execution_count": 11,
   "metadata": {
    "papermill": {
     "duration": 0.256678,
     "end_time": "2019-07-24T18:38:27.257374",
     "exception": false,
     "start_time": "2019-07-24T18:38:27.000696",
     "status": "completed"
    },
    "tags": [
     "hide_input"
    ]
   },
   "outputs": [
    {
     "data": {
      "text/markdown": [
       "* [What happens when the Hub restarts?](https://discourse.jupyter.org/t/what-happens-when-the-hub-restarts) (8 posts)\n",
       "* [Guidance for local Jupyter Days events](https://discourse.jupyter.org/t/guidance-for-local-jupyter-days-events) (5 posts)\n",
       "* [Resources for giving talks about the JupyterHub and Binder projects](https://discourse.jupyter.org/t/resources-for-giving-talks-about-the-jupyterhub-and-binder-projects) (4 posts)\n",
       "* [MP Workshop on MyBinder](https://discourse.jupyter.org/t/mp-workshop-on-mybinder) (4 posts)\n",
       "* [Binder workshop Sun. July 21, 9 am to 1 pm Swiss time: ~50 users](https://discourse.jupyter.org/t/binder-workshop-sun-july-21-9-am-to-1-pm-swiss-time-50-users) (4 posts)\n",
       "* [Best way to inject per user config for JuptyerHub](https://discourse.jupyter.org/t/best-way-to-inject-per-user-config-for-juptyerhub) (3 posts)\n",
       "* [Webserver headers and ciphers](https://discourse.jupyter.org/t/webserver-headers-and-ciphers) (3 posts)\n",
       "* [How do I enable a bash kernel?](https://discourse.jupyter.org/t/how-do-i-enable-a-bash-kernel) (3 posts)\n",
       "* [Is there a way to debug Jupyterlab .py code?](https://discourse.jupyter.org/t/is-there-a-way-to-debug-jupyterlab-py-code) (2 posts)\n",
       "* [New document type: (Interactive) Presentation](https://discourse.jupyter.org/t/new-document-type-interactive-presentation) (2 posts)"
      ],
      "text/plain": [
       "<IPython.core.display.Markdown object>"
      ]
     },
     "execution_count": 11,
     "metadata": {},
     "output_type": "execute_result"
    }
   ],
   "source": [
    "params = {\"order\": \"created\", \"ascending\": \"False\"}\n",
    "resp = requests.get(url, headers=api, params=params)\n",
    "\n",
    "# Sort created by the most posted for recently-created posts\n",
    "created = pd.DataFrame(resp.json()['topic_list']['topics'])\n",
    "created = created.sort_values('posts_count', ascending=False)\n",
    "Markdown(topics_to_markdown(created))"
   ]
  },
  {
   "cell_type": "code",
   "execution_count": 12,
   "metadata": {
    "papermill": {
     "duration": 0.059984,
     "end_time": "2019-07-24T18:38:27.334303",
     "exception": false,
     "start_time": "2019-07-24T18:38:27.274319",
     "status": "completed"
    },
    "tags": [
     "hide_input"
    ]
   },
   "outputs": [
    {
     "data": {
      "application/vnd.vegalite.v3+json": {
       "$schema": "https://vega.github.io/schema/vega-lite/v3.3.0.json",
       "config": {
        "mark": {
         "tooltip": null
        },
        "view": {
         "height": 300,
         "width": 400
        }
       },
       "data": {
        "name": "data-3c5c0dc965e7726a88bf941749e31189"
       },
       "datasets": {
        "data-3c5c0dc965e7726a88bf941749e31189": [
         {
          "bookmarked": 2,
          "category_id": "Q&A",
          "parent/category": "Q&A/Q&A",
          "parent_category": "Q&A"
         },
         {
          "bookmarked": 2,
          "category_id": "Notebook",
          "parent/category": "Notebook/Notebook",
          "parent_category": "Notebook"
         },
         {
          "bookmarked": 2,
          "category_id": "JupyterLab",
          "parent/category": "JupyterLab/JupyterLab",
          "parent_category": "JupyterLab"
         },
         {
          "bookmarked": 2,
          "category_id": "team",
          "parent/category": "JupyterHub/team",
          "parent_category": "JupyterHub"
         },
         {
          "bookmarked": 1,
          "category_id": "Zero to JupyterHub on Kubernetes",
          "parent/category": "JupyterHub/Zero to JupyterHub on Kubernetes",
          "parent_category": "JupyterHub"
         },
         {
          "bookmarked": 1,
          "category_id": "JupyterHub",
          "parent/category": "JupyterHub/JupyterHub",
          "parent_category": "JupyterHub"
         },
         {
          "bookmarked": 0,
          "category_id": "The Littlest JupyterHub",
          "parent/category": "JupyterHub/The Littlest JupyterHub",
          "parent_category": "JupyterHub"
         },
         {
          "bookmarked": 1,
          "category_id": "Community Chat",
          "parent/category": "Community Chat/Community Chat",
          "parent_category": "Community Chat"
         },
         {
          "bookmarked": 1,
          "category_id": "discuss",
          "parent/category": "Binder/discuss",
          "parent_category": "Binder"
         },
         {
          "bookmarked": 1,
          "category_id": "mybinder.org ops",
          "parent/category": "Binder/mybinder.org ops",
          "parent_category": "Binder"
         },
         {
          "bookmarked": 0,
          "category_id": "repo help",
          "parent/category": "Binder/repo help",
          "parent_category": "Binder"
         }
        ]
       },
       "encoding": {
        "color": {
         "field": "parent_category",
         "type": "nominal"
        },
        "x": {
         "field": "parent/category",
         "sort": [
          "Q&A",
          "Notebook",
          "JupyterLab",
          "team",
          "Zero to JupyterHub on Kubernetes",
          "JupyterHub",
          "The Littlest JupyterHub",
          "Community Chat",
          "discuss",
          "mybinder.org ops",
          "repo help"
         ],
         "type": "nominal"
        },
        "y": {
         "field": "bookmarked",
         "type": "quantitative"
        }
       },
       "height": 300,
       "mark": "bar",
       "title": "Activity by category",
       "width": 700
      },
      "text/plain": [
       "<VegaLite 3 object>\n",
       "\n",
       "If you see this message, it means the renderer has not been properly enabled\n",
       "for the frontend that you are using. For more information, see\n",
       "https://altair-viz.github.io/user_guide/troubleshooting.html\n"
      ]
     },
     "execution_count": 12,
     "metadata": {},
     "output_type": "execute_result"
    }
   ],
   "source": [
    "counts = counts_from_activity(created)\n",
    "alt.Chart(data=counts, width=700, height=300, title=\"Activity by category\").mark_bar().encode(\n",
    "    x=alt.X(\"parent/category\", sort=alt.Sort(counts['category_id'].values.tolist())),\n",
    "    y=\"bookmarked\",\n",
    "    color=\"parent_category\"\n",
    ")"
   ]
  },
  {
   "cell_type": "markdown",
   "metadata": {
    "papermill": {
     "duration": 0.023661,
     "end_time": "2019-07-24T18:38:27.374041",
     "exception": false,
     "start_time": "2019-07-24T18:38:27.350380",
     "status": "completed"
    },
    "tags": []
   },
   "source": [
    "## User activity in the Community Forum\n",
    "\n",
    "**Top posters**\n",
    "\n",
    "These people have posted lots of comments, replies, answers, etc in the community forum."
   ]
  },
  {
   "cell_type": "code",
   "execution_count": 13,
   "metadata": {
    "papermill": {
     "duration": 0.034166,
     "end_time": "2019-07-24T18:38:27.425613",
     "exception": false,
     "start_time": "2019-07-24T18:38:27.391447",
     "status": "completed"
    },
    "tags": []
   },
   "outputs": [],
   "source": [
    "def plot_user_data(users, column, sort=False):\n",
    "    plt_data = users.sort_values(column, ascending=False).head(50)\n",
    "    x = alt.X(\"username\", sort=plt_data['username'].tolist()) if sort is True else 'username'\n",
    "    ch = alt.Chart(data=plt_data).mark_bar().encode(\n",
    "        x=x,\n",
    "        y=column\n",
    "    )\n",
    "    return ch"
   ]
  },
  {
   "cell_type": "code",
   "execution_count": 14,
   "metadata": {
    "papermill": {
     "duration": 0.251398,
     "end_time": "2019-07-24T18:38:27.693605",
     "exception": false,
     "start_time": "2019-07-24T18:38:27.442207",
     "status": "completed"
    },
    "tags": []
   },
   "outputs": [],
   "source": [
    "url = \"https://discourse.jupyter.org/directory_items.json\"\n",
    "params = {\"period\": \"quarterly\", \"order\": \"post_count\"}\n",
    "resp = requests.get(url, headers=api, params=params)\n",
    "\n",
    "# Topics with the most likes in recent history\n",
    "users = pd.DataFrame(resp.json()['directory_items'])\n",
    "users['username'] = users['user'].map(lambda a: a['username'])"
   ]
  },
  {
   "cell_type": "code",
   "execution_count": 15,
   "metadata": {
    "papermill": {
     "duration": 0.064064,
     "end_time": "2019-07-24T18:38:27.787148",
     "exception": false,
     "start_time": "2019-07-24T18:38:27.723084",
     "status": "completed"
    },
    "tags": []
   },
   "outputs": [
    {
     "data": {
      "application/vnd.vegalite.v3+json": {
       "$schema": "https://vega.github.io/schema/vega-lite/v3.3.0.json",
       "config": {
        "mark": {
         "tooltip": null
        },
        "view": {
         "height": 300,
         "width": 400
        }
       },
       "data": {
        "name": "data-19d43edb2933f13408670f5d4bbc15ad"
       },
       "datasets": {
        "data-19d43edb2933f13408670f5d4bbc15ad": [
         {
          "days_visited": 80,
          "id": 6,
          "likes_given": 227,
          "likes_received": 121,
          "post_count": 163,
          "posts_read": 1465,
          "topic_count": 14,
          "topics_entered": 350,
          "user": {
           "avatar_template": "/user_avatar/discourse.jupyter.org/betatim/{size}/10_2.png",
           "id": 6,
           "name": "Tim Head",
           "title": "",
           "username": "betatim"
          },
          "username": "betatim"
         },
         {
          "days_visited": 91,
          "id": 3,
          "likes_given": 208,
          "likes_received": 123,
          "post_count": 142,
          "posts_read": 1001,
          "topic_count": 34,
          "topics_entered": 266,
          "user": {
           "avatar_template": "/user_avatar/discourse.jupyter.org/choldgraf/{size}/12_2.png",
           "id": 3,
           "name": "Chris Holdgraf",
           "title": "Regular",
           "username": "choldgraf"
          },
          "username": "choldgraf"
         },
         {
          "days_visited": 68,
          "id": 24,
          "likes_given": 17,
          "likes_received": 57,
          "post_count": 76,
          "posts_read": 716,
          "topic_count": 7,
          "topics_entered": 271,
          "user": {
           "avatar_template": "/user_avatar/discourse.jupyter.org/psychemedia/{size}/24_2.png",
           "id": 24,
           "name": "Tony Hirst",
           "title": null,
           "username": "psychemedia"
          },
          "username": "psychemedia"
         },
         {
          "days_visited": 88,
          "id": 8,
          "likes_given": 10,
          "likes_received": 65,
          "post_count": 57,
          "posts_read": 837,
          "topic_count": 4,
          "topics_entered": 196,
          "user": {
           "avatar_template": "/user_avatar/discourse.jupyter.org/minrk/{size}/13_2.png",
           "id": 8,
           "name": "Min RK",
           "title": null,
           "username": "minrk"
          },
          "username": "minrk"
         },
         {
          "days_visited": 78,
          "id": 116,
          "likes_given": 23,
          "likes_received": 55,
          "post_count": 48,
          "posts_read": 669,
          "topic_count": 7,
          "topics_entered": 126,
          "user": {
           "avatar_template": "/user_avatar/discourse.jupyter.org/sgibson91/{size}/487_2.png",
           "id": 116,
           "name": "Sarah Gibson",
           "title": "",
           "username": "sgibson91"
          },
          "username": "sgibson91"
         },
         {
          "days_visited": 63,
          "id": 12,
          "likes_given": 9,
          "likes_received": 44,
          "post_count": 47,
          "posts_read": 851,
          "topic_count": 7,
          "topics_entered": 153,
          "user": {
           "avatar_template": "/user_avatar/discourse.jupyter.org/yuvipanda/{size}/17_2.png",
           "id": 12,
           "name": "Yuvi Panda",
           "title": null,
           "username": "yuvipanda"
          },
          "username": "yuvipanda"
         },
         {
          "days_visited": 72,
          "id": 73,
          "likes_given": 18,
          "likes_received": 30,
          "post_count": 32,
          "posts_read": 1558,
          "topic_count": 2,
          "topics_entered": 337,
          "user": {
           "avatar_template": "/user_avatar/discourse.jupyter.org/manics/{size}/85_2.png",
           "id": 73,
           "name": "Simon",
           "title": null,
           "username": "manics"
          },
          "username": "manics"
         },
         {
          "days_visited": 15,
          "id": 220,
          "likes_given": 1,
          "likes_received": 23,
          "post_count": 27,
          "posts_read": 207,
          "topic_count": 1,
          "topics_entered": 59,
          "user": {
           "avatar_template": "/user_avatar/discourse.jupyter.org/jasongrout/{size}/371_2.png",
           "id": 220,
           "name": "Jason Grout",
           "title": null,
           "username": "jasongrout"
          },
          "username": "jasongrout"
         },
         {
          "days_visited": 34,
          "id": 485,
          "likes_given": 47,
          "likes_received": 20,
          "post_count": 21,
          "posts_read": 268,
          "topic_count": 1,
          "topics_entered": 54,
          "user": {
           "avatar_template": "/user_avatar/discourse.jupyter.org/rolweber/{size}/657_2.png",
           "id": 485,
           "name": "Roland Weber",
           "title": null,
           "username": "rolweber"
          },
          "username": "rolweber"
         },
         {
          "days_visited": 54,
          "id": 99,
          "likes_given": 38,
          "likes_received": 15,
          "post_count": 21,
          "posts_read": 487,
          "topic_count": 2,
          "topics_entered": 101,
          "user": {
           "avatar_template": "/user_avatar/discourse.jupyter.org/zsailer/{size}/106_2.png",
           "id": 99,
           "name": "Zachary Sailer",
           "title": null,
           "username": "Zsailer"
          },
          "username": "Zsailer"
         },
         {
          "days_visited": 79,
          "id": 30,
          "likes_given": 73,
          "likes_received": 16,
          "post_count": 20,
          "posts_read": 310,
          "topic_count": 2,
          "topics_entered": 64,
          "user": {
           "avatar_template": "/user_avatar/discourse.jupyter.org/consideratio/{size}/30_2.png",
           "id": 30,
           "name": "Erik Sundell",
           "title": null,
           "username": "consideRatio"
          },
          "username": "consideRatio"
         },
         {
          "days_visited": 59,
          "id": 239,
          "likes_given": 4,
          "likes_received": 8,
          "post_count": 18,
          "posts_read": 408,
          "topic_count": 0,
          "topics_entered": 126,
          "user": {
           "avatar_template": "/user_avatar/discourse.jupyter.org/jhermann/{size}/257_2.png",
           "id": 239,
           "name": "Jürgen Hermann",
           "title": null,
           "username": "jhermann"
          },
          "username": "jhermann"
         },
         {
          "days_visited": 37,
          "id": 217,
          "likes_given": 20,
          "likes_received": 4,
          "post_count": 16,
          "posts_read": 193,
          "topic_count": 0,
          "topics_entered": 35,
          "user": {
           "avatar_template": "/user_avatar/discourse.jupyter.org/kevin-bates/{size}/234_2.png",
           "id": 217,
           "name": "Kevin Bates",
           "title": null,
           "username": "kevin-bates"
          },
          "username": "kevin-bates"
         },
         {
          "days_visited": 18,
          "id": 234,
          "likes_given": 5,
          "likes_received": 3,
          "post_count": 16,
          "posts_read": 84,
          "topic_count": 3,
          "topics_entered": 10,
          "user": {
           "avatar_template": "/user_avatar/discourse.jupyter.org/fmaussion/{size}/390_2.png",
           "id": 234,
           "name": "Fabien Maussion",
           "title": null,
           "username": "fmaussion"
          },
          "username": "fmaussion"
         },
         {
          "days_visited": 34,
          "id": 372,
          "likes_given": 6,
          "likes_received": 13,
          "post_count": 14,
          "posts_read": 210,
          "topic_count": 2,
          "topics_entered": 32,
          "user": {
           "avatar_template": "/user_avatar/discourse.jupyter.org/davclark/{size}/489_2.png",
           "id": 372,
           "name": "Dav Clark",
           "title": null,
           "username": "davclark"
          },
          "username": "davclark"
         },
         {
          "days_visited": 34,
          "id": 419,
          "likes_given": 0,
          "likes_received": 3,
          "post_count": 14,
          "posts_read": 78,
          "topic_count": 7,
          "topics_entered": 21,
          "user": {
           "avatar_template": "/user_avatar/discourse.jupyter.org/alvinhuff/{size}/550_2.png",
           "id": 419,
           "name": "Alvin Huff",
           "title": null,
           "username": "alvinhuff"
          },
          "username": "alvinhuff"
         },
         {
          "days_visited": 68,
          "id": 11,
          "likes_given": 60,
          "likes_received": 11,
          "post_count": 14,
          "posts_read": 870,
          "topic_count": 1,
          "topics_entered": 192,
          "user": {
           "avatar_template": "/user_avatar/discourse.jupyter.org/fomightez/{size}/495_2.png",
           "id": 11,
           "name": "Wayne",
           "title": null,
           "username": "fomightez"
          },
          "username": "fomightez"
         },
         {
          "days_visited": 87,
          "id": 77,
          "likes_given": 7,
          "likes_received": 12,
          "post_count": 14,
          "posts_read": 834,
          "topic_count": 0,
          "topics_entered": 178,
          "user": {
           "avatar_template": "/user_avatar/discourse.jupyter.org/jtp/{size}/882_2.png",
           "id": 77,
           "name": "Jeremy Tuloup",
           "title": "",
           "username": "jtp"
          },
          "username": "jtp"
         },
         {
          "days_visited": 28,
          "id": 60,
          "likes_given": 11,
          "likes_received": 8,
          "post_count": 12,
          "posts_read": 366,
          "topic_count": 0,
          "topics_entered": 50,
          "user": {
           "avatar_template": "/user_avatar/discourse.jupyter.org/fm75/{size}/71_2.png",
           "id": 60,
           "name": "Fred Mitchell",
           "title": "",
           "username": "fm75"
          },
          "username": "fm75"
         },
         {
          "days_visited": 13,
          "id": 390,
          "likes_given": 2,
          "likes_received": 2,
          "post_count": 11,
          "posts_read": 79,
          "topic_count": 8,
          "topics_entered": 28,
          "user": {
           "avatar_template": "https://avatars.discourse.org/v4/letter/e/9de0a6/{size}.png",
           "id": 390,
           "name": "Ernst",
           "title": null,
           "username": "ernstch"
          },
          "username": "ernstch"
         },
         {
          "days_visited": 37,
          "id": 432,
          "likes_given": 28,
          "likes_received": 6,
          "post_count": 10,
          "posts_read": 274,
          "topic_count": 2,
          "topics_entered": 64,
          "user": {
           "avatar_template": "/user_avatar/discourse.jupyter.org/ondrejj/{size}/567_2.png",
           "id": 432,
           "name": "Ondřej ",
           "title": null,
           "username": "ondrejj"
          },
          "username": "ondrejj"
         },
         {
          "days_visited": 45,
          "id": 222,
          "likes_given": 6,
          "likes_received": 15,
          "post_count": 10,
          "posts_read": 145,
          "topic_count": 2,
          "topics_entered": 20,
          "user": {
           "avatar_template": "https://avatars.discourse.org/v4/letter/t/f05b48/{size}.png",
           "id": 222,
           "name": "Timothy George",
           "title": null,
           "username": "tgeorgeux"
          },
          "username": "tgeorgeux"
         },
         {
          "days_visited": 9,
          "id": 679,
          "likes_given": 1,
          "likes_received": 10,
          "post_count": 9,
          "posts_read": 87,
          "topic_count": 0,
          "topics_entered": 18,
          "user": {
           "avatar_template": "/user_avatar/discourse.jupyter.org/bollwyvl/{size}/904_2.png",
           "id": 679,
           "name": "Nicholas Bollweg",
           "title": null,
           "username": "bollwyvl"
          },
          "username": "bollwyvl"
         },
         {
          "days_visited": 15,
          "id": 9,
          "likes_given": 0,
          "likes_received": 11,
          "post_count": 9,
          "posts_read": 97,
          "topic_count": 1,
          "topics_entered": 17,
          "user": {
           "avatar_template": "/user_avatar/discourse.jupyter.org/ellisonbg/{size}/14_2.png",
           "id": 9,
           "name": "Brian Granger",
           "title": null,
           "username": "ellisonbg"
          },
          "username": "ellisonbg"
         },
         {
          "days_visited": 22,
          "id": 34,
          "likes_given": 2,
          "likes_received": 16,
          "post_count": 9,
          "posts_read": 148,
          "topic_count": 3,
          "topics_entered": 14,
          "user": {
           "avatar_template": "/user_avatar/discourse.jupyter.org/danielballan/{size}/34_2.png",
           "id": 34,
           "name": "Dan Allan",
           "title": null,
           "username": "danielballan"
          },
          "username": "danielballan"
         },
         {
          "days_visited": 8,
          "id": 556,
          "likes_given": 3,
          "likes_received": 7,
          "post_count": 8,
          "posts_read": 70,
          "topic_count": 0,
          "topics_entered": 12,
          "user": {
           "avatar_template": "/user_avatar/discourse.jupyter.org/blink1073/{size}/791_2.png",
           "id": 556,
           "name": "Steven Silvester",
           "title": null,
           "username": "blink1073"
          },
          "username": "blink1073"
         },
         {
          "days_visited": 13,
          "id": 566,
          "likes_given": 0,
          "likes_received": 1,
          "post_count": 8,
          "posts_read": 32,
          "topic_count": 2,
          "topics_entered": 9,
          "user": {
           "avatar_template": "/user_avatar/discourse.jupyter.org/shreyas_cholia/{size}/784_2.png",
           "id": 566,
           "name": "Shreyas Cholia",
           "title": null,
           "username": "Shreyas_Cholia"
          },
          "username": "Shreyas_Cholia"
         },
         {
          "days_visited": 10,
          "id": 510,
          "likes_given": 0,
          "likes_received": 6,
          "post_count": 8,
          "posts_read": 10,
          "topic_count": 2,
          "topics_entered": 4,
          "user": {
           "avatar_template": "https://avatars.discourse.org/v4/letter/l/ac8455/{size}.png",
           "id": 510,
           "name": "Lorankary",
           "title": null,
           "username": "lorankary"
          },
          "username": "lorankary"
         },
         {
          "days_visited": 9,
          "id": 686,
          "likes_given": 0,
          "likes_received": 3,
          "post_count": 8,
          "posts_read": 92,
          "topic_count": 3,
          "topics_entered": 29,
          "user": {
           "avatar_template": "https://avatars.discourse.org/v4/letter/s/22d042/{size}.png",
           "id": 686,
           "name": "DAVID OHLEMACHER",
           "title": null,
           "username": "sqqqrly"
          },
          "username": "sqqqrly"
         },
         {
          "days_visited": 9,
          "id": 254,
          "likes_given": 9,
          "likes_received": 1,
          "post_count": 8,
          "posts_read": 92,
          "topic_count": 0,
          "topics_entered": 10,
          "user": {
           "avatar_template": "/user_avatar/discourse.jupyter.org/mathematicalmichael/{size}/322_2.png",
           "id": 254,
           "name": "Michael Pilosov",
           "title": null,
           "username": "mathematicalmichael"
          },
          "username": "mathematicalmichael"
         },
         {
          "days_visited": 14,
          "id": 487,
          "likes_given": 0,
          "likes_received": 0,
          "post_count": 7,
          "posts_read": 83,
          "topic_count": 4,
          "topics_entered": 25,
          "user": {
           "avatar_template": "/user_avatar/discourse.jupyter.org/d4rkm4atter/{size}/663_2.png",
           "id": 487,
           "name": "",
           "title": null,
           "username": "D4rkM4atter"
          },
          "username": "D4rkM4atter"
         },
         {
          "days_visited": 18,
          "id": 462,
          "likes_given": 0,
          "likes_received": 1,
          "post_count": 7,
          "posts_read": 73,
          "topic_count": 3,
          "topics_entered": 13,
          "user": {
           "avatar_template": "https://avatars.discourse.org/v4/letter/r/6f9a4e/{size}.png",
           "id": 462,
           "name": "Rahul Dave",
           "title": null,
           "username": "rahuldave"
          },
          "username": "rahuldave"
         },
         {
          "days_visited": 15,
          "id": 227,
          "likes_given": 9,
          "likes_received": 2,
          "post_count": 7,
          "posts_read": 207,
          "topic_count": 0,
          "topics_entered": 42,
          "user": {
           "avatar_template": "/user_avatar/discourse.jupyter.org/sterlinm/{size}/241_2.png",
           "id": 227,
           "name": "Michael",
           "title": null,
           "username": "sterlinm"
          },
          "username": "sterlinm"
         },
         {
          "days_visited": 13,
          "id": 71,
          "likes_given": 0,
          "likes_received": 4,
          "post_count": 7,
          "posts_read": 101,
          "topic_count": 1,
          "topics_entered": 9,
          "user": {
           "avatar_template": "/user_avatar/discourse.jupyter.org/nuest/{size}/82_2.png",
           "id": 71,
           "name": "Daniel Nüst",
           "title": null,
           "username": "nuest"
          },
          "username": "nuest"
         },
         {
          "days_visited": 17,
          "id": 237,
          "likes_given": 1,
          "likes_received": 25,
          "post_count": 6,
          "posts_read": 51,
          "topic_count": 4,
          "topics_entered": 12,
          "user": {
           "avatar_template": "/user_avatar/discourse.jupyter.org/mseal/{size}/253_2.png",
           "id": 237,
           "name": "Matthew Seal",
           "title": null,
           "username": "MSeal"
          },
          "username": "MSeal"
         },
         {
          "days_visited": 53,
          "id": 303,
          "likes_given": 6,
          "likes_received": 3,
          "post_count": 6,
          "posts_read": 226,
          "topic_count": 1,
          "topics_entered": 51,
          "user": {
           "avatar_template": "/user_avatar/discourse.jupyter.org/ian-r-rose/{size}/638_2.png",
           "id": 303,
           "name": "Ian Rose",
           "title": null,
           "username": "ian-r-rose"
          },
          "username": "ian-r-rose"
         },
         {
          "days_visited": 7,
          "id": 640,
          "likes_given": 0,
          "likes_received": 0,
          "post_count": 6,
          "posts_read": 23,
          "topic_count": 1,
          "topics_entered": 6,
          "user": {
           "avatar_template": "/user_avatar/discourse.jupyter.org/stefano_fioravanzo/{size}/849_2.png",
           "id": 640,
           "name": "Stefano Fioravanzo",
           "title": null,
           "username": "Stefano_Fioravanzo"
          },
          "username": "Stefano_Fioravanzo"
         },
         {
          "days_visited": 17,
          "id": 4,
          "likes_given": 0,
          "likes_received": 17,
          "post_count": 6,
          "posts_read": 45,
          "topic_count": 3,
          "topics_entered": 14,
          "user": {
           "avatar_template": "/user_avatar/discourse.jupyter.org/carreau/{size}/8_2.png",
           "id": 4,
           "name": "Matthias Bussonnier",
           "title": null,
           "username": "carreau"
          },
          "username": "carreau"
         },
         {
          "days_visited": 10,
          "id": 195,
          "likes_given": 0,
          "likes_received": 1,
          "post_count": 6,
          "posts_read": 34,
          "topic_count": 0,
          "topics_entered": 8,
          "user": {
           "avatar_template": "/user_avatar/discourse.jupyter.org/rcthomas/{size}/201_2.png",
           "id": 195,
           "name": "",
           "title": null,
           "username": "rcthomas"
          },
          "username": "rcthomas"
         },
         {
          "days_visited": 52,
          "id": 298,
          "likes_given": 0,
          "likes_received": 4,
          "post_count": 6,
          "posts_read": 343,
          "topic_count": 0,
          "topics_entered": 75,
          "user": {
           "avatar_template": "https://avatars.discourse.org/v4/letter/q/f04885/{size}.png",
           "id": 298,
           "name": "Joe Quigley",
           "title": null,
           "username": "quigleyj-mavenomics"
          },
          "username": "quigleyj-mavenomics"
         },
         {
          "days_visited": 11,
          "id": 145,
          "likes_given": 0,
          "likes_received": 7,
          "post_count": 6,
          "posts_read": 43,
          "topic_count": 3,
          "topics_entered": 9,
          "user": {
           "avatar_template": "/user_avatar/discourse.jupyter.org/hhuuggoo/{size}/242_2.png",
           "id": 145,
           "name": "saturncloud.io",
           "title": "",
           "username": "hhuuggoo"
          },
          "username": "hhuuggoo"
         },
         {
          "days_visited": 6,
          "id": 565,
          "likes_given": 3,
          "likes_received": 4,
          "post_count": 6,
          "posts_read": 35,
          "topic_count": 0,
          "topics_entered": 4,
          "user": {
           "avatar_template": "/user_avatar/discourse.jupyter.org/danielskatz/{size}/785_2.png",
           "id": 565,
           "name": "Daniel S. Katz",
           "title": null,
           "username": "danielskatz"
          },
          "username": "danielskatz"
         },
         {
          "days_visited": 11,
          "id": 430,
          "likes_given": 2,
          "likes_received": 3,
          "post_count": 5,
          "posts_read": 41,
          "topic_count": 1,
          "topics_entered": 14,
          "user": {
           "avatar_template": "/user_avatar/discourse.jupyter.org/rokroskar/{size}/563_2.png",
           "id": 430,
           "name": "Rok Roškar",
           "title": null,
           "username": "rokroskar"
          },
          "username": "rokroskar"
         },
         {
          "days_visited": 8,
          "id": 562,
          "likes_given": 0,
          "likes_received": 0,
          "post_count": 5,
          "posts_read": 25,
          "topic_count": 0,
          "topics_entered": 4,
          "user": {
           "avatar_template": "/user_avatar/discourse.jupyter.org/shane_canon/{size}/783_2.png",
           "id": 562,
           "name": "Shane Canon",
           "title": null,
           "username": "Shane_Canon"
          },
          "username": "Shane_Canon"
         },
         {
          "days_visited": 10,
          "id": 351,
          "likes_given": 0,
          "likes_received": 6,
          "post_count": 5,
          "posts_read": 53,
          "topic_count": 1,
          "topics_entered": 12,
          "user": {
           "avatar_template": "/user_avatar/discourse.jupyter.org/henchc/{size}/452_2.png",
           "id": 351,
           "name": "Christopher Hench",
           "title": null,
           "username": "henchc"
          },
          "username": "henchc"
         },
         {
          "days_visited": 11,
          "id": 352,
          "likes_given": 0,
          "likes_received": 7,
          "post_count": 5,
          "posts_read": 50,
          "topic_count": 0,
          "topics_entered": 3,
          "user": {
           "avatar_template": "/user_avatar/discourse.jupyter.org/jhornig/{size}/453_2.png",
           "id": 352,
           "name": "Joseph Hornig",
           "title": null,
           "username": "jhornig"
          },
          "username": "jhornig"
         },
         {
          "days_visited": 5,
          "id": 699,
          "likes_given": 0,
          "likes_received": 1,
          "post_count": 5,
          "posts_read": 37,
          "topic_count": 4,
          "topics_entered": 12,
          "user": {
           "avatar_template": "https://avatars.discourse.org/v4/letter/j/45deac/{size}.png",
           "id": 699,
           "name": null,
           "title": null,
           "username": "josh"
          },
          "username": "josh"
         },
         {
          "days_visited": 16,
          "id": 622,
          "likes_given": 8,
          "likes_received": 4,
          "post_count": 5,
          "posts_read": 56,
          "topic_count": 1,
          "topics_entered": 15,
          "user": {
           "avatar_template": "/user_avatar/discourse.jupyter.org/esevan/{size}/844_2.png",
           "id": 622,
           "name": "Eunsoo Park (Evan)",
           "title": "",
           "username": "esevan"
          },
          "username": "esevan"
         },
         {
          "days_visited": 39,
          "id": 67,
          "likes_given": 6,
          "likes_received": 6,
          "post_count": 5,
          "posts_read": 271,
          "topic_count": 0,
          "topics_entered": 88,
          "user": {
           "avatar_template": "/user_avatar/discourse.jupyter.org/chekos/{size}/93_2.png",
           "id": 67,
           "name": "Chekos",
           "title": null,
           "username": "chekos"
          },
          "username": "chekos"
         },
         {
          "days_visited": 22,
          "id": 7,
          "likes_given": 21,
          "likes_received": 6,
          "post_count": 5,
          "posts_read": 223,
          "topic_count": 0,
          "topics_entered": 33,
          "user": {
           "avatar_template": "/user_avatar/discourse.jupyter.org/willingc/{size}/11_2.png",
           "id": 7,
           "name": "Carol Willing",
           "title": null,
           "username": "willingc"
          },
          "username": "willingc"
         }
        ]
       },
       "encoding": {
        "x": {
         "field": "username",
         "type": "nominal"
        },
        "y": {
         "field": "post_count",
         "type": "quantitative"
        }
       },
       "mark": "bar"
      },
      "text/plain": [
       "<VegaLite 3 object>\n",
       "\n",
       "If you see this message, it means the renderer has not been properly enabled\n",
       "for the frontend that you are using. For more information, see\n",
       "https://altair-viz.github.io/user_guide/troubleshooting.html\n"
      ]
     },
     "execution_count": 15,
     "metadata": {},
     "output_type": "execute_result"
    }
   ],
   "source": [
    "plot_user_data(users.head(50), 'post_count')"
   ]
  },
  {
   "cell_type": "markdown",
   "metadata": {
    "papermill": {
     "duration": 0.044737,
     "end_time": "2019-07-24T18:38:27.878987",
     "exception": false,
     "start_time": "2019-07-24T18:38:27.834250",
     "status": "completed"
    },
    "tags": []
   },
   "source": [
    "**Forum users, sorted by likes given**\n",
    "\n",
    "These are Community Forum members that \"liked\" other people's posts. We appreciate\n",
    "anybody taking the time to tell someone else they like what they're shared!"
   ]
  },
  {
   "cell_type": "code",
   "execution_count": 16,
   "metadata": {
    "papermill": {
     "duration": 0.076149,
     "end_time": "2019-07-24T18:38:28.000143",
     "exception": false,
     "start_time": "2019-07-24T18:38:27.923994",
     "status": "completed"
    },
    "tags": []
   },
   "outputs": [
    {
     "data": {
      "application/vnd.vegalite.v3+json": {
       "$schema": "https://vega.github.io/schema/vega-lite/v3.3.0.json",
       "config": {
        "mark": {
         "tooltip": null
        },
        "view": {
         "height": 300,
         "width": 400
        }
       },
       "data": {
        "name": "data-fe76e96086c2319f70b0f28100d1fbdf"
       },
       "datasets": {
        "data-fe76e96086c2319f70b0f28100d1fbdf": [
         {
          "days_visited": 80,
          "id": 6,
          "likes_given": 227,
          "likes_received": 121,
          "post_count": 163,
          "posts_read": 1465,
          "topic_count": 14,
          "topics_entered": 350,
          "user": {
           "avatar_template": "/user_avatar/discourse.jupyter.org/betatim/{size}/10_2.png",
           "id": 6,
           "name": "Tim Head",
           "title": "",
           "username": "betatim"
          },
          "username": "betatim"
         },
         {
          "days_visited": 91,
          "id": 3,
          "likes_given": 208,
          "likes_received": 123,
          "post_count": 142,
          "posts_read": 1001,
          "topic_count": 34,
          "topics_entered": 266,
          "user": {
           "avatar_template": "/user_avatar/discourse.jupyter.org/choldgraf/{size}/12_2.png",
           "id": 3,
           "name": "Chris Holdgraf",
           "title": "Regular",
           "username": "choldgraf"
          },
          "username": "choldgraf"
         },
         {
          "days_visited": 79,
          "id": 30,
          "likes_given": 73,
          "likes_received": 16,
          "post_count": 20,
          "posts_read": 310,
          "topic_count": 2,
          "topics_entered": 64,
          "user": {
           "avatar_template": "/user_avatar/discourse.jupyter.org/consideratio/{size}/30_2.png",
           "id": 30,
           "name": "Erik Sundell",
           "title": null,
           "username": "consideRatio"
          },
          "username": "consideRatio"
         },
         {
          "days_visited": 68,
          "id": 11,
          "likes_given": 60,
          "likes_received": 11,
          "post_count": 14,
          "posts_read": 870,
          "topic_count": 1,
          "topics_entered": 192,
          "user": {
           "avatar_template": "/user_avatar/discourse.jupyter.org/fomightez/{size}/495_2.png",
           "id": 11,
           "name": "Wayne",
           "title": null,
           "username": "fomightez"
          },
          "username": "fomightez"
         },
         {
          "days_visited": 34,
          "id": 485,
          "likes_given": 47,
          "likes_received": 20,
          "post_count": 21,
          "posts_read": 268,
          "topic_count": 1,
          "topics_entered": 54,
          "user": {
           "avatar_template": "/user_avatar/discourse.jupyter.org/rolweber/{size}/657_2.png",
           "id": 485,
           "name": "Roland Weber",
           "title": null,
           "username": "rolweber"
          },
          "username": "rolweber"
         },
         {
          "days_visited": 54,
          "id": 99,
          "likes_given": 38,
          "likes_received": 15,
          "post_count": 21,
          "posts_read": 487,
          "topic_count": 2,
          "topics_entered": 101,
          "user": {
           "avatar_template": "/user_avatar/discourse.jupyter.org/zsailer/{size}/106_2.png",
           "id": 99,
           "name": "Zachary Sailer",
           "title": null,
           "username": "Zsailer"
          },
          "username": "Zsailer"
         },
         {
          "days_visited": 37,
          "id": 432,
          "likes_given": 28,
          "likes_received": 6,
          "post_count": 10,
          "posts_read": 274,
          "topic_count": 2,
          "topics_entered": 64,
          "user": {
           "avatar_template": "/user_avatar/discourse.jupyter.org/ondrejj/{size}/567_2.png",
           "id": 432,
           "name": "Ondřej ",
           "title": null,
           "username": "ondrejj"
          },
          "username": "ondrejj"
         },
         {
          "days_visited": 78,
          "id": 116,
          "likes_given": 23,
          "likes_received": 55,
          "post_count": 48,
          "posts_read": 669,
          "topic_count": 7,
          "topics_entered": 126,
          "user": {
           "avatar_template": "/user_avatar/discourse.jupyter.org/sgibson91/{size}/487_2.png",
           "id": 116,
           "name": "Sarah Gibson",
           "title": "",
           "username": "sgibson91"
          },
          "username": "sgibson91"
         },
         {
          "days_visited": 22,
          "id": 7,
          "likes_given": 21,
          "likes_received": 6,
          "post_count": 5,
          "posts_read": 223,
          "topic_count": 0,
          "topics_entered": 33,
          "user": {
           "avatar_template": "/user_avatar/discourse.jupyter.org/willingc/{size}/11_2.png",
           "id": 7,
           "name": "Carol Willing",
           "title": null,
           "username": "willingc"
          },
          "username": "willingc"
         },
         {
          "days_visited": 37,
          "id": 217,
          "likes_given": 20,
          "likes_received": 4,
          "post_count": 16,
          "posts_read": 193,
          "topic_count": 0,
          "topics_entered": 35,
          "user": {
           "avatar_template": "/user_avatar/discourse.jupyter.org/kevin-bates/{size}/234_2.png",
           "id": 217,
           "name": "Kevin Bates",
           "title": null,
           "username": "kevin-bates"
          },
          "username": "kevin-bates"
         },
         {
          "days_visited": 72,
          "id": 73,
          "likes_given": 18,
          "likes_received": 30,
          "post_count": 32,
          "posts_read": 1558,
          "topic_count": 2,
          "topics_entered": 337,
          "user": {
           "avatar_template": "/user_avatar/discourse.jupyter.org/manics/{size}/85_2.png",
           "id": 73,
           "name": "Simon",
           "title": null,
           "username": "manics"
          },
          "username": "manics"
         },
         {
          "days_visited": 68,
          "id": 24,
          "likes_given": 17,
          "likes_received": 57,
          "post_count": 76,
          "posts_read": 716,
          "topic_count": 7,
          "topics_entered": 271,
          "user": {
           "avatar_template": "/user_avatar/discourse.jupyter.org/psychemedia/{size}/24_2.png",
           "id": 24,
           "name": "Tony Hirst",
           "title": null,
           "username": "psychemedia"
          },
          "username": "psychemedia"
         },
         {
          "days_visited": 28,
          "id": 60,
          "likes_given": 11,
          "likes_received": 8,
          "post_count": 12,
          "posts_read": 366,
          "topic_count": 0,
          "topics_entered": 50,
          "user": {
           "avatar_template": "/user_avatar/discourse.jupyter.org/fm75/{size}/71_2.png",
           "id": 60,
           "name": "Fred Mitchell",
           "title": "",
           "username": "fm75"
          },
          "username": "fm75"
         },
         {
          "days_visited": 88,
          "id": 8,
          "likes_given": 10,
          "likes_received": 65,
          "post_count": 57,
          "posts_read": 837,
          "topic_count": 4,
          "topics_entered": 196,
          "user": {
           "avatar_template": "/user_avatar/discourse.jupyter.org/minrk/{size}/13_2.png",
           "id": 8,
           "name": "Min RK",
           "title": null,
           "username": "minrk"
          },
          "username": "minrk"
         },
         {
          "days_visited": 63,
          "id": 12,
          "likes_given": 9,
          "likes_received": 44,
          "post_count": 47,
          "posts_read": 851,
          "topic_count": 7,
          "topics_entered": 153,
          "user": {
           "avatar_template": "/user_avatar/discourse.jupyter.org/yuvipanda/{size}/17_2.png",
           "id": 12,
           "name": "Yuvi Panda",
           "title": null,
           "username": "yuvipanda"
          },
          "username": "yuvipanda"
         },
         {
          "days_visited": 15,
          "id": 227,
          "likes_given": 9,
          "likes_received": 2,
          "post_count": 7,
          "posts_read": 207,
          "topic_count": 0,
          "topics_entered": 42,
          "user": {
           "avatar_template": "/user_avatar/discourse.jupyter.org/sterlinm/{size}/241_2.png",
           "id": 227,
           "name": "Michael",
           "title": null,
           "username": "sterlinm"
          },
          "username": "sterlinm"
         },
         {
          "days_visited": 9,
          "id": 254,
          "likes_given": 9,
          "likes_received": 1,
          "post_count": 8,
          "posts_read": 92,
          "topic_count": 0,
          "topics_entered": 10,
          "user": {
           "avatar_template": "/user_avatar/discourse.jupyter.org/mathematicalmichael/{size}/322_2.png",
           "id": 254,
           "name": "Michael Pilosov",
           "title": null,
           "username": "mathematicalmichael"
          },
          "username": "mathematicalmichael"
         },
         {
          "days_visited": 16,
          "id": 622,
          "likes_given": 8,
          "likes_received": 4,
          "post_count": 5,
          "posts_read": 56,
          "topic_count": 1,
          "topics_entered": 15,
          "user": {
           "avatar_template": "/user_avatar/discourse.jupyter.org/esevan/{size}/844_2.png",
           "id": 622,
           "name": "Eunsoo Park (Evan)",
           "title": "",
           "username": "esevan"
          },
          "username": "esevan"
         },
         {
          "days_visited": 87,
          "id": 77,
          "likes_given": 7,
          "likes_received": 12,
          "post_count": 14,
          "posts_read": 834,
          "topic_count": 0,
          "topics_entered": 178,
          "user": {
           "avatar_template": "/user_avatar/discourse.jupyter.org/jtp/{size}/882_2.png",
           "id": 77,
           "name": "Jeremy Tuloup",
           "title": "",
           "username": "jtp"
          },
          "username": "jtp"
         },
         {
          "days_visited": 34,
          "id": 372,
          "likes_given": 6,
          "likes_received": 13,
          "post_count": 14,
          "posts_read": 210,
          "topic_count": 2,
          "topics_entered": 32,
          "user": {
           "avatar_template": "/user_avatar/discourse.jupyter.org/davclark/{size}/489_2.png",
           "id": 372,
           "name": "Dav Clark",
           "title": null,
           "username": "davclark"
          },
          "username": "davclark"
         },
         {
          "days_visited": 39,
          "id": 67,
          "likes_given": 6,
          "likes_received": 6,
          "post_count": 5,
          "posts_read": 271,
          "topic_count": 0,
          "topics_entered": 88,
          "user": {
           "avatar_template": "/user_avatar/discourse.jupyter.org/chekos/{size}/93_2.png",
           "id": 67,
           "name": "Chekos",
           "title": null,
           "username": "chekos"
          },
          "username": "chekos"
         },
         {
          "days_visited": 45,
          "id": 222,
          "likes_given": 6,
          "likes_received": 15,
          "post_count": 10,
          "posts_read": 145,
          "topic_count": 2,
          "topics_entered": 20,
          "user": {
           "avatar_template": "https://avatars.discourse.org/v4/letter/t/f05b48/{size}.png",
           "id": 222,
           "name": "Timothy George",
           "title": null,
           "username": "tgeorgeux"
          },
          "username": "tgeorgeux"
         },
         {
          "days_visited": 53,
          "id": 303,
          "likes_given": 6,
          "likes_received": 3,
          "post_count": 6,
          "posts_read": 226,
          "topic_count": 1,
          "topics_entered": 51,
          "user": {
           "avatar_template": "/user_avatar/discourse.jupyter.org/ian-r-rose/{size}/638_2.png",
           "id": 303,
           "name": "Ian Rose",
           "title": null,
           "username": "ian-r-rose"
          },
          "username": "ian-r-rose"
         },
         {
          "days_visited": 18,
          "id": 234,
          "likes_given": 5,
          "likes_received": 3,
          "post_count": 16,
          "posts_read": 84,
          "topic_count": 3,
          "topics_entered": 10,
          "user": {
           "avatar_template": "/user_avatar/discourse.jupyter.org/fmaussion/{size}/390_2.png",
           "id": 234,
           "name": "Fabien Maussion",
           "title": null,
           "username": "fmaussion"
          },
          "username": "fmaussion"
         },
         {
          "days_visited": 59,
          "id": 239,
          "likes_given": 4,
          "likes_received": 8,
          "post_count": 18,
          "posts_read": 408,
          "topic_count": 0,
          "topics_entered": 126,
          "user": {
           "avatar_template": "/user_avatar/discourse.jupyter.org/jhermann/{size}/257_2.png",
           "id": 239,
           "name": "Jürgen Hermann",
           "title": null,
           "username": "jhermann"
          },
          "username": "jhermann"
         },
         {
          "days_visited": 6,
          "id": 565,
          "likes_given": 3,
          "likes_received": 4,
          "post_count": 6,
          "posts_read": 35,
          "topic_count": 0,
          "topics_entered": 4,
          "user": {
           "avatar_template": "/user_avatar/discourse.jupyter.org/danielskatz/{size}/785_2.png",
           "id": 565,
           "name": "Daniel S. Katz",
           "title": null,
           "username": "danielskatz"
          },
          "username": "danielskatz"
         },
         {
          "days_visited": 8,
          "id": 556,
          "likes_given": 3,
          "likes_received": 7,
          "post_count": 8,
          "posts_read": 70,
          "topic_count": 0,
          "topics_entered": 12,
          "user": {
           "avatar_template": "/user_avatar/discourse.jupyter.org/blink1073/{size}/791_2.png",
           "id": 556,
           "name": "Steven Silvester",
           "title": null,
           "username": "blink1073"
          },
          "username": "blink1073"
         },
         {
          "days_visited": 22,
          "id": 34,
          "likes_given": 2,
          "likes_received": 16,
          "post_count": 9,
          "posts_read": 148,
          "topic_count": 3,
          "topics_entered": 14,
          "user": {
           "avatar_template": "/user_avatar/discourse.jupyter.org/danielballan/{size}/34_2.png",
           "id": 34,
           "name": "Dan Allan",
           "title": null,
           "username": "danielballan"
          },
          "username": "danielballan"
         },
         {
          "days_visited": 11,
          "id": 430,
          "likes_given": 2,
          "likes_received": 3,
          "post_count": 5,
          "posts_read": 41,
          "topic_count": 1,
          "topics_entered": 14,
          "user": {
           "avatar_template": "/user_avatar/discourse.jupyter.org/rokroskar/{size}/563_2.png",
           "id": 430,
           "name": "Rok Roškar",
           "title": null,
           "username": "rokroskar"
          },
          "username": "rokroskar"
         },
         {
          "days_visited": 13,
          "id": 390,
          "likes_given": 2,
          "likes_received": 2,
          "post_count": 11,
          "posts_read": 79,
          "topic_count": 8,
          "topics_entered": 28,
          "user": {
           "avatar_template": "https://avatars.discourse.org/v4/letter/e/9de0a6/{size}.png",
           "id": 390,
           "name": "Ernst",
           "title": null,
           "username": "ernstch"
          },
          "username": "ernstch"
         },
         {
          "days_visited": 15,
          "id": 220,
          "likes_given": 1,
          "likes_received": 23,
          "post_count": 27,
          "posts_read": 207,
          "topic_count": 1,
          "topics_entered": 59,
          "user": {
           "avatar_template": "/user_avatar/discourse.jupyter.org/jasongrout/{size}/371_2.png",
           "id": 220,
           "name": "Jason Grout",
           "title": null,
           "username": "jasongrout"
          },
          "username": "jasongrout"
         },
         {
          "days_visited": 9,
          "id": 679,
          "likes_given": 1,
          "likes_received": 10,
          "post_count": 9,
          "posts_read": 87,
          "topic_count": 0,
          "topics_entered": 18,
          "user": {
           "avatar_template": "/user_avatar/discourse.jupyter.org/bollwyvl/{size}/904_2.png",
           "id": 679,
           "name": "Nicholas Bollweg",
           "title": null,
           "username": "bollwyvl"
          },
          "username": "bollwyvl"
         },
         {
          "days_visited": 17,
          "id": 237,
          "likes_given": 1,
          "likes_received": 25,
          "post_count": 6,
          "posts_read": 51,
          "topic_count": 4,
          "topics_entered": 12,
          "user": {
           "avatar_template": "/user_avatar/discourse.jupyter.org/mseal/{size}/253_2.png",
           "id": 237,
           "name": "Matthew Seal",
           "title": null,
           "username": "MSeal"
          },
          "username": "MSeal"
         },
         {
          "days_visited": 10,
          "id": 351,
          "likes_given": 0,
          "likes_received": 6,
          "post_count": 5,
          "posts_read": 53,
          "topic_count": 1,
          "topics_entered": 12,
          "user": {
           "avatar_template": "/user_avatar/discourse.jupyter.org/henchc/{size}/452_2.png",
           "id": 351,
           "name": "Christopher Hench",
           "title": null,
           "username": "henchc"
          },
          "username": "henchc"
         },
         {
          "days_visited": 11,
          "id": 352,
          "likes_given": 0,
          "likes_received": 7,
          "post_count": 5,
          "posts_read": 50,
          "topic_count": 0,
          "topics_entered": 3,
          "user": {
           "avatar_template": "/user_avatar/discourse.jupyter.org/jhornig/{size}/453_2.png",
           "id": 352,
           "name": "Joseph Hornig",
           "title": null,
           "username": "jhornig"
          },
          "username": "jhornig"
         },
         {
          "days_visited": 8,
          "id": 562,
          "likes_given": 0,
          "likes_received": 0,
          "post_count": 5,
          "posts_read": 25,
          "topic_count": 0,
          "topics_entered": 4,
          "user": {
           "avatar_template": "/user_avatar/discourse.jupyter.org/shane_canon/{size}/783_2.png",
           "id": 562,
           "name": "Shane Canon",
           "title": null,
           "username": "Shane_Canon"
          },
          "username": "Shane_Canon"
         },
         {
          "days_visited": 5,
          "id": 699,
          "likes_given": 0,
          "likes_received": 1,
          "post_count": 5,
          "posts_read": 37,
          "topic_count": 4,
          "topics_entered": 12,
          "user": {
           "avatar_template": "https://avatars.discourse.org/v4/letter/j/45deac/{size}.png",
           "id": 699,
           "name": null,
           "title": null,
           "username": "josh"
          },
          "username": "josh"
         },
         {
          "days_visited": 17,
          "id": 4,
          "likes_given": 0,
          "likes_received": 17,
          "post_count": 6,
          "posts_read": 45,
          "topic_count": 3,
          "topics_entered": 14,
          "user": {
           "avatar_template": "/user_avatar/discourse.jupyter.org/carreau/{size}/8_2.png",
           "id": 4,
           "name": "Matthias Bussonnier",
           "title": null,
           "username": "carreau"
          },
          "username": "carreau"
         },
         {
          "days_visited": 7,
          "id": 640,
          "likes_given": 0,
          "likes_received": 0,
          "post_count": 6,
          "posts_read": 23,
          "topic_count": 1,
          "topics_entered": 6,
          "user": {
           "avatar_template": "/user_avatar/discourse.jupyter.org/stefano_fioravanzo/{size}/849_2.png",
           "id": 640,
           "name": "Stefano Fioravanzo",
           "title": null,
           "username": "Stefano_Fioravanzo"
          },
          "username": "Stefano_Fioravanzo"
         },
         {
          "days_visited": 13,
          "id": 566,
          "likes_given": 0,
          "likes_received": 1,
          "post_count": 8,
          "posts_read": 32,
          "topic_count": 2,
          "topics_entered": 9,
          "user": {
           "avatar_template": "/user_avatar/discourse.jupyter.org/shreyas_cholia/{size}/784_2.png",
           "id": 566,
           "name": "Shreyas Cholia",
           "title": null,
           "username": "Shreyas_Cholia"
          },
          "username": "Shreyas_Cholia"
         },
         {
          "days_visited": 10,
          "id": 195,
          "likes_given": 0,
          "likes_received": 1,
          "post_count": 6,
          "posts_read": 34,
          "topic_count": 0,
          "topics_entered": 8,
          "user": {
           "avatar_template": "/user_avatar/discourse.jupyter.org/rcthomas/{size}/201_2.png",
           "id": 195,
           "name": "",
           "title": null,
           "username": "rcthomas"
          },
          "username": "rcthomas"
         },
         {
          "days_visited": 52,
          "id": 298,
          "likes_given": 0,
          "likes_received": 4,
          "post_count": 6,
          "posts_read": 343,
          "topic_count": 0,
          "topics_entered": 75,
          "user": {
           "avatar_template": "https://avatars.discourse.org/v4/letter/q/f04885/{size}.png",
           "id": 298,
           "name": "Joe Quigley",
           "title": null,
           "username": "quigleyj-mavenomics"
          },
          "username": "quigleyj-mavenomics"
         },
         {
          "days_visited": 11,
          "id": 145,
          "likes_given": 0,
          "likes_received": 7,
          "post_count": 6,
          "posts_read": 43,
          "topic_count": 3,
          "topics_entered": 9,
          "user": {
           "avatar_template": "/user_avatar/discourse.jupyter.org/hhuuggoo/{size}/242_2.png",
           "id": 145,
           "name": "saturncloud.io",
           "title": "",
           "username": "hhuuggoo"
          },
          "username": "hhuuggoo"
         },
         {
          "days_visited": 13,
          "id": 71,
          "likes_given": 0,
          "likes_received": 4,
          "post_count": 7,
          "posts_read": 101,
          "topic_count": 1,
          "topics_entered": 9,
          "user": {
           "avatar_template": "/user_avatar/discourse.jupyter.org/nuest/{size}/82_2.png",
           "id": 71,
           "name": "Daniel Nüst",
           "title": null,
           "username": "nuest"
          },
          "username": "nuest"
         },
         {
          "days_visited": 18,
          "id": 462,
          "likes_given": 0,
          "likes_received": 1,
          "post_count": 7,
          "posts_read": 73,
          "topic_count": 3,
          "topics_entered": 13,
          "user": {
           "avatar_template": "https://avatars.discourse.org/v4/letter/r/6f9a4e/{size}.png",
           "id": 462,
           "name": "Rahul Dave",
           "title": null,
           "username": "rahuldave"
          },
          "username": "rahuldave"
         },
         {
          "days_visited": 14,
          "id": 487,
          "likes_given": 0,
          "likes_received": 0,
          "post_count": 7,
          "posts_read": 83,
          "topic_count": 4,
          "topics_entered": 25,
          "user": {
           "avatar_template": "/user_avatar/discourse.jupyter.org/d4rkm4atter/{size}/663_2.png",
           "id": 487,
           "name": "",
           "title": null,
           "username": "D4rkM4atter"
          },
          "username": "D4rkM4atter"
         },
         {
          "days_visited": 9,
          "id": 686,
          "likes_given": 0,
          "likes_received": 3,
          "post_count": 8,
          "posts_read": 92,
          "topic_count": 3,
          "topics_entered": 29,
          "user": {
           "avatar_template": "https://avatars.discourse.org/v4/letter/s/22d042/{size}.png",
           "id": 686,
           "name": "DAVID OHLEMACHER",
           "title": null,
           "username": "sqqqrly"
          },
          "username": "sqqqrly"
         },
         {
          "days_visited": 15,
          "id": 9,
          "likes_given": 0,
          "likes_received": 11,
          "post_count": 9,
          "posts_read": 97,
          "topic_count": 1,
          "topics_entered": 17,
          "user": {
           "avatar_template": "/user_avatar/discourse.jupyter.org/ellisonbg/{size}/14_2.png",
           "id": 9,
           "name": "Brian Granger",
           "title": null,
           "username": "ellisonbg"
          },
          "username": "ellisonbg"
         },
         {
          "days_visited": 34,
          "id": 419,
          "likes_given": 0,
          "likes_received": 3,
          "post_count": 14,
          "posts_read": 78,
          "topic_count": 7,
          "topics_entered": 21,
          "user": {
           "avatar_template": "/user_avatar/discourse.jupyter.org/alvinhuff/{size}/550_2.png",
           "id": 419,
           "name": "Alvin Huff",
           "title": null,
           "username": "alvinhuff"
          },
          "username": "alvinhuff"
         },
         {
          "days_visited": 10,
          "id": 510,
          "likes_given": 0,
          "likes_received": 6,
          "post_count": 8,
          "posts_read": 10,
          "topic_count": 2,
          "topics_entered": 4,
          "user": {
           "avatar_template": "https://avatars.discourse.org/v4/letter/l/ac8455/{size}.png",
           "id": 510,
           "name": "Lorankary",
           "title": null,
           "username": "lorankary"
          },
          "username": "lorankary"
         }
        ]
       },
       "encoding": {
        "x": {
         "field": "username",
         "type": "nominal"
        },
        "y": {
         "field": "likes_given",
         "type": "quantitative"
        }
       },
       "mark": "bar"
      },
      "text/plain": [
       "<VegaLite 3 object>\n",
       "\n",
       "If you see this message, it means the renderer has not been properly enabled\n",
       "for the frontend that you are using. For more information, see\n",
       "https://altair-viz.github.io/user_guide/troubleshooting.html\n"
      ]
     },
     "execution_count": 16,
     "metadata": {},
     "output_type": "execute_result"
    }
   ],
   "source": [
    "plot_user_data(users.head(50), 'likes_given')"
   ]
  },
  {
   "cell_type": "markdown",
   "metadata": {
    "papermill": {
     "duration": 0.055227,
     "end_time": "2019-07-24T18:38:28.093514",
     "exception": false,
     "start_time": "2019-07-24T18:38:28.038287",
     "status": "completed"
    },
    "tags": []
   },
   "source": [
    "**Forum users, sorted by likes received**\n",
    "\n",
    "These are folks that posted things other people in the Community Forum liked."
   ]
  },
  {
   "cell_type": "code",
   "execution_count": 17,
   "metadata": {
    "papermill": {
     "duration": 0.295775,
     "end_time": "2019-07-24T18:38:28.446313",
     "exception": false,
     "start_time": "2019-07-24T18:38:28.150538",
     "status": "completed"
    },
    "tags": []
   },
   "outputs": [
    {
     "data": {
      "application/vnd.vegalite.v3+json": {
       "$schema": "https://vega.github.io/schema/vega-lite/v3.3.0.json",
       "config": {
        "mark": {
         "tooltip": null
        },
        "view": {
         "height": 300,
         "width": 400
        }
       },
       "data": {
        "name": "data-2a26f1ad796f220e94d349eec0d2b066"
       },
       "datasets": {
        "data-2a26f1ad796f220e94d349eec0d2b066": [
         {
          "days_visited": 91,
          "id": 3,
          "likes_given": 208,
          "likes_received": 123,
          "post_count": 142,
          "posts_read": 1001,
          "topic_count": 34,
          "topics_entered": 266,
          "user": {
           "avatar_template": "/user_avatar/discourse.jupyter.org/choldgraf/{size}/12_2.png",
           "id": 3,
           "name": "Chris Holdgraf",
           "title": "Regular",
           "username": "choldgraf"
          },
          "username": "choldgraf"
         },
         {
          "days_visited": 80,
          "id": 6,
          "likes_given": 227,
          "likes_received": 121,
          "post_count": 163,
          "posts_read": 1465,
          "topic_count": 14,
          "topics_entered": 350,
          "user": {
           "avatar_template": "/user_avatar/discourse.jupyter.org/betatim/{size}/10_2.png",
           "id": 6,
           "name": "Tim Head",
           "title": "",
           "username": "betatim"
          },
          "username": "betatim"
         },
         {
          "days_visited": 88,
          "id": 8,
          "likes_given": 10,
          "likes_received": 65,
          "post_count": 57,
          "posts_read": 837,
          "topic_count": 4,
          "topics_entered": 196,
          "user": {
           "avatar_template": "/user_avatar/discourse.jupyter.org/minrk/{size}/13_2.png",
           "id": 8,
           "name": "Min RK",
           "title": null,
           "username": "minrk"
          },
          "username": "minrk"
         },
         {
          "days_visited": 68,
          "id": 24,
          "likes_given": 17,
          "likes_received": 57,
          "post_count": 76,
          "posts_read": 716,
          "topic_count": 7,
          "topics_entered": 271,
          "user": {
           "avatar_template": "/user_avatar/discourse.jupyter.org/psychemedia/{size}/24_2.png",
           "id": 24,
           "name": "Tony Hirst",
           "title": null,
           "username": "psychemedia"
          },
          "username": "psychemedia"
         },
         {
          "days_visited": 78,
          "id": 116,
          "likes_given": 23,
          "likes_received": 55,
          "post_count": 48,
          "posts_read": 669,
          "topic_count": 7,
          "topics_entered": 126,
          "user": {
           "avatar_template": "/user_avatar/discourse.jupyter.org/sgibson91/{size}/487_2.png",
           "id": 116,
           "name": "Sarah Gibson",
           "title": "",
           "username": "sgibson91"
          },
          "username": "sgibson91"
         },
         {
          "days_visited": 63,
          "id": 12,
          "likes_given": 9,
          "likes_received": 44,
          "post_count": 47,
          "posts_read": 851,
          "topic_count": 7,
          "topics_entered": 153,
          "user": {
           "avatar_template": "/user_avatar/discourse.jupyter.org/yuvipanda/{size}/17_2.png",
           "id": 12,
           "name": "Yuvi Panda",
           "title": null,
           "username": "yuvipanda"
          },
          "username": "yuvipanda"
         },
         {
          "days_visited": 72,
          "id": 73,
          "likes_given": 18,
          "likes_received": 30,
          "post_count": 32,
          "posts_read": 1558,
          "topic_count": 2,
          "topics_entered": 337,
          "user": {
           "avatar_template": "/user_avatar/discourse.jupyter.org/manics/{size}/85_2.png",
           "id": 73,
           "name": "Simon",
           "title": null,
           "username": "manics"
          },
          "username": "manics"
         },
         {
          "days_visited": 17,
          "id": 237,
          "likes_given": 1,
          "likes_received": 25,
          "post_count": 6,
          "posts_read": 51,
          "topic_count": 4,
          "topics_entered": 12,
          "user": {
           "avatar_template": "/user_avatar/discourse.jupyter.org/mseal/{size}/253_2.png",
           "id": 237,
           "name": "Matthew Seal",
           "title": null,
           "username": "MSeal"
          },
          "username": "MSeal"
         },
         {
          "days_visited": 15,
          "id": 220,
          "likes_given": 1,
          "likes_received": 23,
          "post_count": 27,
          "posts_read": 207,
          "topic_count": 1,
          "topics_entered": 59,
          "user": {
           "avatar_template": "/user_avatar/discourse.jupyter.org/jasongrout/{size}/371_2.png",
           "id": 220,
           "name": "Jason Grout",
           "title": null,
           "username": "jasongrout"
          },
          "username": "jasongrout"
         },
         {
          "days_visited": 34,
          "id": 485,
          "likes_given": 47,
          "likes_received": 20,
          "post_count": 21,
          "posts_read": 268,
          "topic_count": 1,
          "topics_entered": 54,
          "user": {
           "avatar_template": "/user_avatar/discourse.jupyter.org/rolweber/{size}/657_2.png",
           "id": 485,
           "name": "Roland Weber",
           "title": null,
           "username": "rolweber"
          },
          "username": "rolweber"
         },
         {
          "days_visited": 17,
          "id": 4,
          "likes_given": 0,
          "likes_received": 17,
          "post_count": 6,
          "posts_read": 45,
          "topic_count": 3,
          "topics_entered": 14,
          "user": {
           "avatar_template": "/user_avatar/discourse.jupyter.org/carreau/{size}/8_2.png",
           "id": 4,
           "name": "Matthias Bussonnier",
           "title": null,
           "username": "carreau"
          },
          "username": "carreau"
         },
         {
          "days_visited": 22,
          "id": 34,
          "likes_given": 2,
          "likes_received": 16,
          "post_count": 9,
          "posts_read": 148,
          "topic_count": 3,
          "topics_entered": 14,
          "user": {
           "avatar_template": "/user_avatar/discourse.jupyter.org/danielballan/{size}/34_2.png",
           "id": 34,
           "name": "Dan Allan",
           "title": null,
           "username": "danielballan"
          },
          "username": "danielballan"
         },
         {
          "days_visited": 79,
          "id": 30,
          "likes_given": 73,
          "likes_received": 16,
          "post_count": 20,
          "posts_read": 310,
          "topic_count": 2,
          "topics_entered": 64,
          "user": {
           "avatar_template": "/user_avatar/discourse.jupyter.org/consideratio/{size}/30_2.png",
           "id": 30,
           "name": "Erik Sundell",
           "title": null,
           "username": "consideRatio"
          },
          "username": "consideRatio"
         },
         {
          "days_visited": 45,
          "id": 222,
          "likes_given": 6,
          "likes_received": 15,
          "post_count": 10,
          "posts_read": 145,
          "topic_count": 2,
          "topics_entered": 20,
          "user": {
           "avatar_template": "https://avatars.discourse.org/v4/letter/t/f05b48/{size}.png",
           "id": 222,
           "name": "Timothy George",
           "title": null,
           "username": "tgeorgeux"
          },
          "username": "tgeorgeux"
         },
         {
          "days_visited": 54,
          "id": 99,
          "likes_given": 38,
          "likes_received": 15,
          "post_count": 21,
          "posts_read": 487,
          "topic_count": 2,
          "topics_entered": 101,
          "user": {
           "avatar_template": "/user_avatar/discourse.jupyter.org/zsailer/{size}/106_2.png",
           "id": 99,
           "name": "Zachary Sailer",
           "title": null,
           "username": "Zsailer"
          },
          "username": "Zsailer"
         },
         {
          "days_visited": 34,
          "id": 372,
          "likes_given": 6,
          "likes_received": 13,
          "post_count": 14,
          "posts_read": 210,
          "topic_count": 2,
          "topics_entered": 32,
          "user": {
           "avatar_template": "/user_avatar/discourse.jupyter.org/davclark/{size}/489_2.png",
           "id": 372,
           "name": "Dav Clark",
           "title": null,
           "username": "davclark"
          },
          "username": "davclark"
         },
         {
          "days_visited": 87,
          "id": 77,
          "likes_given": 7,
          "likes_received": 12,
          "post_count": 14,
          "posts_read": 834,
          "topic_count": 0,
          "topics_entered": 178,
          "user": {
           "avatar_template": "/user_avatar/discourse.jupyter.org/jtp/{size}/882_2.png",
           "id": 77,
           "name": "Jeremy Tuloup",
           "title": "",
           "username": "jtp"
          },
          "username": "jtp"
         },
         {
          "days_visited": 15,
          "id": 9,
          "likes_given": 0,
          "likes_received": 11,
          "post_count": 9,
          "posts_read": 97,
          "topic_count": 1,
          "topics_entered": 17,
          "user": {
           "avatar_template": "/user_avatar/discourse.jupyter.org/ellisonbg/{size}/14_2.png",
           "id": 9,
           "name": "Brian Granger",
           "title": null,
           "username": "ellisonbg"
          },
          "username": "ellisonbg"
         },
         {
          "days_visited": 68,
          "id": 11,
          "likes_given": 60,
          "likes_received": 11,
          "post_count": 14,
          "posts_read": 870,
          "topic_count": 1,
          "topics_entered": 192,
          "user": {
           "avatar_template": "/user_avatar/discourse.jupyter.org/fomightez/{size}/495_2.png",
           "id": 11,
           "name": "Wayne",
           "title": null,
           "username": "fomightez"
          },
          "username": "fomightez"
         },
         {
          "days_visited": 9,
          "id": 679,
          "likes_given": 1,
          "likes_received": 10,
          "post_count": 9,
          "posts_read": 87,
          "topic_count": 0,
          "topics_entered": 18,
          "user": {
           "avatar_template": "/user_avatar/discourse.jupyter.org/bollwyvl/{size}/904_2.png",
           "id": 679,
           "name": "Nicholas Bollweg",
           "title": null,
           "username": "bollwyvl"
          },
          "username": "bollwyvl"
         },
         {
          "days_visited": 28,
          "id": 60,
          "likes_given": 11,
          "likes_received": 8,
          "post_count": 12,
          "posts_read": 366,
          "topic_count": 0,
          "topics_entered": 50,
          "user": {
           "avatar_template": "/user_avatar/discourse.jupyter.org/fm75/{size}/71_2.png",
           "id": 60,
           "name": "Fred Mitchell",
           "title": "",
           "username": "fm75"
          },
          "username": "fm75"
         },
         {
          "days_visited": 59,
          "id": 239,
          "likes_given": 4,
          "likes_received": 8,
          "post_count": 18,
          "posts_read": 408,
          "topic_count": 0,
          "topics_entered": 126,
          "user": {
           "avatar_template": "/user_avatar/discourse.jupyter.org/jhermann/{size}/257_2.png",
           "id": 239,
           "name": "Jürgen Hermann",
           "title": null,
           "username": "jhermann"
          },
          "username": "jhermann"
         },
         {
          "days_visited": 11,
          "id": 352,
          "likes_given": 0,
          "likes_received": 7,
          "post_count": 5,
          "posts_read": 50,
          "topic_count": 0,
          "topics_entered": 3,
          "user": {
           "avatar_template": "/user_avatar/discourse.jupyter.org/jhornig/{size}/453_2.png",
           "id": 352,
           "name": "Joseph Hornig",
           "title": null,
           "username": "jhornig"
          },
          "username": "jhornig"
         },
         {
          "days_visited": 8,
          "id": 556,
          "likes_given": 3,
          "likes_received": 7,
          "post_count": 8,
          "posts_read": 70,
          "topic_count": 0,
          "topics_entered": 12,
          "user": {
           "avatar_template": "/user_avatar/discourse.jupyter.org/blink1073/{size}/791_2.png",
           "id": 556,
           "name": "Steven Silvester",
           "title": null,
           "username": "blink1073"
          },
          "username": "blink1073"
         },
         {
          "days_visited": 11,
          "id": 145,
          "likes_given": 0,
          "likes_received": 7,
          "post_count": 6,
          "posts_read": 43,
          "topic_count": 3,
          "topics_entered": 9,
          "user": {
           "avatar_template": "/user_avatar/discourse.jupyter.org/hhuuggoo/{size}/242_2.png",
           "id": 145,
           "name": "saturncloud.io",
           "title": "",
           "username": "hhuuggoo"
          },
          "username": "hhuuggoo"
         },
         {
          "days_visited": 10,
          "id": 351,
          "likes_given": 0,
          "likes_received": 6,
          "post_count": 5,
          "posts_read": 53,
          "topic_count": 1,
          "topics_entered": 12,
          "user": {
           "avatar_template": "/user_avatar/discourse.jupyter.org/henchc/{size}/452_2.png",
           "id": 351,
           "name": "Christopher Hench",
           "title": null,
           "username": "henchc"
          },
          "username": "henchc"
         },
         {
          "days_visited": 39,
          "id": 67,
          "likes_given": 6,
          "likes_received": 6,
          "post_count": 5,
          "posts_read": 271,
          "topic_count": 0,
          "topics_entered": 88,
          "user": {
           "avatar_template": "/user_avatar/discourse.jupyter.org/chekos/{size}/93_2.png",
           "id": 67,
           "name": "Chekos",
           "title": null,
           "username": "chekos"
          },
          "username": "chekos"
         },
         {
          "days_visited": 10,
          "id": 510,
          "likes_given": 0,
          "likes_received": 6,
          "post_count": 8,
          "posts_read": 10,
          "topic_count": 2,
          "topics_entered": 4,
          "user": {
           "avatar_template": "https://avatars.discourse.org/v4/letter/l/ac8455/{size}.png",
           "id": 510,
           "name": "Lorankary",
           "title": null,
           "username": "lorankary"
          },
          "username": "lorankary"
         },
         {
          "days_visited": 22,
          "id": 7,
          "likes_given": 21,
          "likes_received": 6,
          "post_count": 5,
          "posts_read": 223,
          "topic_count": 0,
          "topics_entered": 33,
          "user": {
           "avatar_template": "/user_avatar/discourse.jupyter.org/willingc/{size}/11_2.png",
           "id": 7,
           "name": "Carol Willing",
           "title": null,
           "username": "willingc"
          },
          "username": "willingc"
         },
         {
          "days_visited": 37,
          "id": 432,
          "likes_given": 28,
          "likes_received": 6,
          "post_count": 10,
          "posts_read": 274,
          "topic_count": 2,
          "topics_entered": 64,
          "user": {
           "avatar_template": "/user_avatar/discourse.jupyter.org/ondrejj/{size}/567_2.png",
           "id": 432,
           "name": "Ondřej ",
           "title": null,
           "username": "ondrejj"
          },
          "username": "ondrejj"
         },
         {
          "days_visited": 16,
          "id": 622,
          "likes_given": 8,
          "likes_received": 4,
          "post_count": 5,
          "posts_read": 56,
          "topic_count": 1,
          "topics_entered": 15,
          "user": {
           "avatar_template": "/user_avatar/discourse.jupyter.org/esevan/{size}/844_2.png",
           "id": 622,
           "name": "Eunsoo Park (Evan)",
           "title": "",
           "username": "esevan"
          },
          "username": "esevan"
         },
         {
          "days_visited": 37,
          "id": 217,
          "likes_given": 20,
          "likes_received": 4,
          "post_count": 16,
          "posts_read": 193,
          "topic_count": 0,
          "topics_entered": 35,
          "user": {
           "avatar_template": "/user_avatar/discourse.jupyter.org/kevin-bates/{size}/234_2.png",
           "id": 217,
           "name": "Kevin Bates",
           "title": null,
           "username": "kevin-bates"
          },
          "username": "kevin-bates"
         },
         {
          "days_visited": 13,
          "id": 71,
          "likes_given": 0,
          "likes_received": 4,
          "post_count": 7,
          "posts_read": 101,
          "topic_count": 1,
          "topics_entered": 9,
          "user": {
           "avatar_template": "/user_avatar/discourse.jupyter.org/nuest/{size}/82_2.png",
           "id": 71,
           "name": "Daniel Nüst",
           "title": null,
           "username": "nuest"
          },
          "username": "nuest"
         },
         {
          "days_visited": 6,
          "id": 565,
          "likes_given": 3,
          "likes_received": 4,
          "post_count": 6,
          "posts_read": 35,
          "topic_count": 0,
          "topics_entered": 4,
          "user": {
           "avatar_template": "/user_avatar/discourse.jupyter.org/danielskatz/{size}/785_2.png",
           "id": 565,
           "name": "Daniel S. Katz",
           "title": null,
           "username": "danielskatz"
          },
          "username": "danielskatz"
         },
         {
          "days_visited": 52,
          "id": 298,
          "likes_given": 0,
          "likes_received": 4,
          "post_count": 6,
          "posts_read": 343,
          "topic_count": 0,
          "topics_entered": 75,
          "user": {
           "avatar_template": "https://avatars.discourse.org/v4/letter/q/f04885/{size}.png",
           "id": 298,
           "name": "Joe Quigley",
           "title": null,
           "username": "quigleyj-mavenomics"
          },
          "username": "quigleyj-mavenomics"
         },
         {
          "days_visited": 53,
          "id": 303,
          "likes_given": 6,
          "likes_received": 3,
          "post_count": 6,
          "posts_read": 226,
          "topic_count": 1,
          "topics_entered": 51,
          "user": {
           "avatar_template": "/user_avatar/discourse.jupyter.org/ian-r-rose/{size}/638_2.png",
           "id": 303,
           "name": "Ian Rose",
           "title": null,
           "username": "ian-r-rose"
          },
          "username": "ian-r-rose"
         },
         {
          "days_visited": 18,
          "id": 234,
          "likes_given": 5,
          "likes_received": 3,
          "post_count": 16,
          "posts_read": 84,
          "topic_count": 3,
          "topics_entered": 10,
          "user": {
           "avatar_template": "/user_avatar/discourse.jupyter.org/fmaussion/{size}/390_2.png",
           "id": 234,
           "name": "Fabien Maussion",
           "title": null,
           "username": "fmaussion"
          },
          "username": "fmaussion"
         },
         {
          "days_visited": 34,
          "id": 419,
          "likes_given": 0,
          "likes_received": 3,
          "post_count": 14,
          "posts_read": 78,
          "topic_count": 7,
          "topics_entered": 21,
          "user": {
           "avatar_template": "/user_avatar/discourse.jupyter.org/alvinhuff/{size}/550_2.png",
           "id": 419,
           "name": "Alvin Huff",
           "title": null,
           "username": "alvinhuff"
          },
          "username": "alvinhuff"
         },
         {
          "days_visited": 11,
          "id": 430,
          "likes_given": 2,
          "likes_received": 3,
          "post_count": 5,
          "posts_read": 41,
          "topic_count": 1,
          "topics_entered": 14,
          "user": {
           "avatar_template": "/user_avatar/discourse.jupyter.org/rokroskar/{size}/563_2.png",
           "id": 430,
           "name": "Rok Roškar",
           "title": null,
           "username": "rokroskar"
          },
          "username": "rokroskar"
         },
         {
          "days_visited": 9,
          "id": 686,
          "likes_given": 0,
          "likes_received": 3,
          "post_count": 8,
          "posts_read": 92,
          "topic_count": 3,
          "topics_entered": 29,
          "user": {
           "avatar_template": "https://avatars.discourse.org/v4/letter/s/22d042/{size}.png",
           "id": 686,
           "name": "DAVID OHLEMACHER",
           "title": null,
           "username": "sqqqrly"
          },
          "username": "sqqqrly"
         },
         {
          "days_visited": 15,
          "id": 227,
          "likes_given": 9,
          "likes_received": 2,
          "post_count": 7,
          "posts_read": 207,
          "topic_count": 0,
          "topics_entered": 42,
          "user": {
           "avatar_template": "/user_avatar/discourse.jupyter.org/sterlinm/{size}/241_2.png",
           "id": 227,
           "name": "Michael",
           "title": null,
           "username": "sterlinm"
          },
          "username": "sterlinm"
         },
         {
          "days_visited": 13,
          "id": 390,
          "likes_given": 2,
          "likes_received": 2,
          "post_count": 11,
          "posts_read": 79,
          "topic_count": 8,
          "topics_entered": 28,
          "user": {
           "avatar_template": "https://avatars.discourse.org/v4/letter/e/9de0a6/{size}.png",
           "id": 390,
           "name": "Ernst",
           "title": null,
           "username": "ernstch"
          },
          "username": "ernstch"
         },
         {
          "days_visited": 13,
          "id": 566,
          "likes_given": 0,
          "likes_received": 1,
          "post_count": 8,
          "posts_read": 32,
          "topic_count": 2,
          "topics_entered": 9,
          "user": {
           "avatar_template": "/user_avatar/discourse.jupyter.org/shreyas_cholia/{size}/784_2.png",
           "id": 566,
           "name": "Shreyas Cholia",
           "title": null,
           "username": "Shreyas_Cholia"
          },
          "username": "Shreyas_Cholia"
         },
         {
          "days_visited": 10,
          "id": 195,
          "likes_given": 0,
          "likes_received": 1,
          "post_count": 6,
          "posts_read": 34,
          "topic_count": 0,
          "topics_entered": 8,
          "user": {
           "avatar_template": "/user_avatar/discourse.jupyter.org/rcthomas/{size}/201_2.png",
           "id": 195,
           "name": "",
           "title": null,
           "username": "rcthomas"
          },
          "username": "rcthomas"
         },
         {
          "days_visited": 9,
          "id": 254,
          "likes_given": 9,
          "likes_received": 1,
          "post_count": 8,
          "posts_read": 92,
          "topic_count": 0,
          "topics_entered": 10,
          "user": {
           "avatar_template": "/user_avatar/discourse.jupyter.org/mathematicalmichael/{size}/322_2.png",
           "id": 254,
           "name": "Michael Pilosov",
           "title": null,
           "username": "mathematicalmichael"
          },
          "username": "mathematicalmichael"
         },
         {
          "days_visited": 5,
          "id": 699,
          "likes_given": 0,
          "likes_received": 1,
          "post_count": 5,
          "posts_read": 37,
          "topic_count": 4,
          "topics_entered": 12,
          "user": {
           "avatar_template": "https://avatars.discourse.org/v4/letter/j/45deac/{size}.png",
           "id": 699,
           "name": null,
           "title": null,
           "username": "josh"
          },
          "username": "josh"
         },
         {
          "days_visited": 18,
          "id": 462,
          "likes_given": 0,
          "likes_received": 1,
          "post_count": 7,
          "posts_read": 73,
          "topic_count": 3,
          "topics_entered": 13,
          "user": {
           "avatar_template": "https://avatars.discourse.org/v4/letter/r/6f9a4e/{size}.png",
           "id": 462,
           "name": "Rahul Dave",
           "title": null,
           "username": "rahuldave"
          },
          "username": "rahuldave"
         },
         {
          "days_visited": 7,
          "id": 640,
          "likes_given": 0,
          "likes_received": 0,
          "post_count": 6,
          "posts_read": 23,
          "topic_count": 1,
          "topics_entered": 6,
          "user": {
           "avatar_template": "/user_avatar/discourse.jupyter.org/stefano_fioravanzo/{size}/849_2.png",
           "id": 640,
           "name": "Stefano Fioravanzo",
           "title": null,
           "username": "Stefano_Fioravanzo"
          },
          "username": "Stefano_Fioravanzo"
         },
         {
          "days_visited": 8,
          "id": 562,
          "likes_given": 0,
          "likes_received": 0,
          "post_count": 5,
          "posts_read": 25,
          "topic_count": 0,
          "topics_entered": 4,
          "user": {
           "avatar_template": "/user_avatar/discourse.jupyter.org/shane_canon/{size}/783_2.png",
           "id": 562,
           "name": "Shane Canon",
           "title": null,
           "username": "Shane_Canon"
          },
          "username": "Shane_Canon"
         },
         {
          "days_visited": 14,
          "id": 487,
          "likes_given": 0,
          "likes_received": 0,
          "post_count": 7,
          "posts_read": 83,
          "topic_count": 4,
          "topics_entered": 25,
          "user": {
           "avatar_template": "/user_avatar/discourse.jupyter.org/d4rkm4atter/{size}/663_2.png",
           "id": 487,
           "name": "",
           "title": null,
           "username": "D4rkM4atter"
          },
          "username": "D4rkM4atter"
         }
        ]
       },
       "encoding": {
        "x": {
         "field": "username",
         "type": "nominal"
        },
        "y": {
         "field": "likes_received",
         "type": "quantitative"
        }
       },
       "mark": "bar"
      },
      "text/plain": [
       "<VegaLite 3 object>\n",
       "\n",
       "If you see this message, it means the renderer has not been properly enabled\n",
       "for the frontend that you are using. For more information, see\n",
       "https://altair-viz.github.io/user_guide/troubleshooting.html\n"
      ]
     },
     "execution_count": 17,
     "metadata": {},
     "output_type": "execute_result"
    }
   ],
   "source": [
    "plot_user_data(users.head(50), 'likes_received')"
   ]
  }
 ],
 "metadata": {
  "kernelspec": {
   "display_name": "Python 3",
   "language": "python",
   "name": "python3"
  },
  "language_info": {
   "codemirror_mode": {
    "name": "ipython",
    "version": 3
   },
   "file_extension": ".py",
   "mimetype": "text/x-python",
   "name": "python",
   "nbconvert_exporter": "python",
   "pygments_lexer": "ipython3",
   "version": "3.7.3"
  },
  "papermill": {
   "duration": 5.760617,
   "end_time": "2019-07-24T18:38:28.913559",
   "environment_variables": {},
   "exception": null,
   "input_path": "./discourse.ipynb",
   "output_path": "../reports/2019-06-24_2019-07-24/discourse.ipynb",
   "parameters": {
    "end_date": "2019-07-24",
    "renderer": "kaggle",
    "start_date": "2019-06-24",
    "update_data": true
   },
   "start_time": "2019-07-24T18:38:23.152942",
   "version": "1.0.1"
  },
  "widgets": {
   "application/vnd.jupyter.widget-state+json": {
    "state": {},
    "version_major": 2,
    "version_minor": 0
   }
  }
 },
 "nbformat": 4,
 "nbformat_minor": 4
}