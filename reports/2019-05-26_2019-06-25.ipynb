{
 "cells": [
  {
   "cell_type": "code",
   "execution_count": 1,
   "metadata": {
    "jupyter": {
     "source_hidden": true
    },
    "papermill": {
     "duration": 3.31062,
     "end_time": "2019-06-25T17:16:51.925322",
     "exception": false,
     "start_time": "2019-06-25T17:16:48.614702",
     "status": "completed"
    },
    "tags": [
     "hide_input"
    ]
   },
   "outputs": [],
   "source": [
    "import requests\n",
    "from IPython.display import Markdown\n",
    "from tqdm import tqdm, tqdm_notebook\n",
    "import pandas as pd\n",
    "from matplotlib import pyplot as plt\n",
    "import altair as alt\n",
    "from requests.utils import quote\n",
    "import os\n",
    "from github import Github"
   ]
  },
  {
   "cell_type": "code",
   "execution_count": 2,
   "metadata": {
    "jupyter": {
     "source_hidden": true
    },
    "papermill": {
     "duration": 0.248679,
     "end_time": "2019-06-25T17:16:52.411686",
     "exception": false,
     "start_time": "2019-06-25T17:16:52.163007",
     "status": "completed"
    },
    "tags": [
     "parameters",
     "hide_input"
    ]
   },
   "outputs": [],
   "source": [
    "end_date = \"2019-06-01\"\n",
    "start_date = \"2019-05-01\"\n",
    "renderer = \"jupyterlab\""
   ]
  },
  {
   "cell_type": "code",
   "execution_count": 3,
   "metadata": {
    "jupyter": {
     "source_hidden": true
    },
    "papermill": {
     "duration": 0.295276,
     "end_time": "2019-06-25T17:16:52.833142",
     "exception": false,
     "start_time": "2019-06-25T17:16:52.537866",
     "status": "completed"
    },
    "tags": [
     "injected-parameters"
    ]
   },
   "outputs": [],
   "source": [
    "# Parameters\n",
    "end_date = \"2019-06-25\"\n",
    "start_date = \"2019-05-26\"\n",
    "renderer = \"kaggle\"\n"
   ]
  },
  {
   "cell_type": "code",
   "execution_count": 4,
   "metadata": {
    "jupyter": {
     "source_hidden": true
    },
    "papermill": {
     "duration": 0.203052,
     "end_time": "2019-06-25T17:16:53.165558",
     "exception": false,
     "start_time": "2019-06-25T17:16:52.962506",
     "status": "completed"
    },
    "tags": []
   },
   "outputs": [
    {
     "data": {
      "text/plain": [
       "RendererRegistry.enable('kaggle')"
      ]
     },
     "execution_count": 4,
     "metadata": {},
     "output_type": "execute_result"
    }
   ],
   "source": [
    "# Create the renderer we want\n",
    "alt.renderers.enable(renderer)"
   ]
  },
  {
   "cell_type": "code",
   "execution_count": 5,
   "metadata": {
    "jupyter": {
     "source_hidden": true
    },
    "papermill": {
     "duration": 0.111073,
     "end_time": "2019-06-25T17:16:53.388131",
     "exception": false,
     "start_time": "2019-06-25T17:16:53.277058",
     "status": "completed"
    },
    "tags": [
     "hide_input"
    ]
   },
   "outputs": [],
   "source": [
    "# Discourse API key\n",
    "api = {'Api-Key': os.environ['DISCOURSE_API_KEY'],\n",
    "       'Api-Username': os.environ['DISCOURSE_API_USERNAME']}"
   ]
  },
  {
   "cell_type": "code",
   "execution_count": 6,
   "metadata": {
    "jupyter": {
     "source_hidden": true
    },
    "papermill": {
     "duration": 0.119045,
     "end_time": "2019-06-25T17:16:53.555109",
     "exception": false,
     "start_time": "2019-06-25T17:16:53.436064",
     "status": "completed"
    },
    "tags": [
     "hide_input"
    ]
   },
   "outputs": [],
   "source": [
    "# Discourse\n",
    "def topics_to_markdown(topics, n_list=10):\n",
    "    body = []\n",
    "    for _, topic in topics.iterrows():\n",
    "        title = topic['fancy_title']\n",
    "        slug = topic['slug']\n",
    "        posts_count = topic['posts_count']\n",
    "        url = f'https://discourse.jupyter.org/t/{slug}'\n",
    "        body.append(f'* [{title}]({url}) ({posts_count} posts)')\n",
    "    body = body[:n_list]\n",
    "    return '\\n'.join(body)\n",
    "\n",
    "def counts_from_activity(activity):\n",
    "    counts = activity.groupby('category_id').count()['bookmarked'].reset_index()\n",
    "    counts['parent_category'] = None\n",
    "    for ii, irow in counts.iterrows():\n",
    "        if parent_categories[irow['category_id']] is not None:\n",
    "            counts.loc[ii, 'parent_category'] = parent_categories[irow['category_id']]\n",
    "\n",
    "    counts['category_id'] = counts['category_id'].map(lambda a: category_mapping[a])\n",
    "    counts['parent_category'] = counts['parent_category'].map(lambda a: category_mapping[a] if a is not None else 'parent')\n",
    "    is_parent = counts['parent_category'] == 'parent'\n",
    "    counts.loc[is_parent, 'parent_category'] = counts.loc[is_parent, 'category_id'] \n",
    "    counts['parent/category'] = counts.apply(lambda a: a['parent_category']+'/'+a['category_id'], axis=1)\n",
    "    counts = counts.sort_values(['parent_category', 'bookmarked'], ascending=False)\n",
    "    return counts\n",
    "\n",
    "# GitHub\n",
    "def run_github_query(query, github_base=\"https://api.github.com/search/issues\"):\n",
    "    gh = Github(os.environ[\"GITHUB_ACCESS_TOKEN\"])\n",
    "    resp = gh.search_issues(query)\n",
    "    data = []\n",
    "    for ii in range(0, 10):\n",
    "        items = resp.get_page(ii)\n",
    "        if len(items) > 0:\n",
    "            items_list = [item.raw_data for item in items]\n",
    "            data.append(pd.DataFrame.from_records(items_list))\n",
    "        else:\n",
    "            break\n",
    "    if len(data) == 0:\n",
    "        return pd.DataFrame([])\n",
    "    else:\n",
    "        return pd.concat(data)\n",
    "    \n"
   ]
  },
  {
   "cell_type": "markdown",
   "metadata": {
    "papermill": {
     "duration": 0.108647,
     "end_time": "2019-06-25T17:16:53.811965",
     "exception": false,
     "start_time": "2019-06-25T17:16:53.703318",
     "status": "completed"
    },
    "tags": []
   },
   "source": [
    "# Community forum activity\n",
    "\n",
    "The [Jupyter Community Forum](https://discourse.jupyter.org) is a place for Jovyans across the\n",
    "community to talk about Jupyter tools in interactive computing and how they fit into their\n",
    "workflows. It's also a place for developers to share ideas, tools, tips, and help one another.\n",
    "\n",
    "Below are a few updates from activity in the Discourse. For more detailed information about\n",
    "the activity on the Community Forum, check out these links:\n",
    "\n",
    "* [The users page](https://discourse.jupyter.org/u) has information about user activity\n",
    "* [The top posts page](https://discourse.jupyter.org/top) contains a list of top posts, sorted\n",
    "  by various metrics."
   ]
  },
  {
   "cell_type": "code",
   "execution_count": 7,
   "metadata": {
    "jupyter": {
     "source_hidden": true
    },
    "papermill": {
     "duration": 0.324835,
     "end_time": "2019-06-25T17:16:54.219812",
     "exception": false,
     "start_time": "2019-06-25T17:16:53.894977",
     "status": "completed"
    },
    "tags": [
     "hide_input"
    ]
   },
   "outputs": [],
   "source": [
    "# Get categories for IDs\n",
    "url = \"https://discourse.jupyter.org/site.json\"\n",
    "resp = requests.get(url, headers=api)\n",
    "category_mapping = {cat['id']: cat['name'] for cat in resp.json()['categories']}\n",
    "parent_categories = {cat['id']: cat.get(\"parent_category_id\", None) for cat in resp.json()['categories']}"
   ]
  },
  {
   "cell_type": "code",
   "execution_count": 8,
   "metadata": {
    "jupyter": {
     "source_hidden": true
    },
    "papermill": {
     "duration": 0.122717,
     "end_time": "2019-06-25T17:16:54.503587",
     "exception": false,
     "start_time": "2019-06-25T17:16:54.380870",
     "status": "completed"
    },
    "tags": [
     "hide_input"
    ]
   },
   "outputs": [],
   "source": [
    "# Base URL to use\n",
    "url = \"https://discourse.jupyter.org/latest.json\""
   ]
  },
  {
   "cell_type": "code",
   "execution_count": null,
   "metadata": {
    "jupyter": {
     "source_hidden": true
    },
    "papermill": {
     "duration": 0.103475,
     "end_time": "2019-06-25T17:16:54.663906",
     "exception": false,
     "start_time": "2019-06-25T17:16:54.560431",
     "status": "completed"
    },
    "tags": []
   },
   "outputs": [],
   "source": []
  },
  {
   "cell_type": "markdown",
   "metadata": {
    "papermill": {
     "duration": 0.166002,
     "end_time": "2019-06-25T17:16:55.022022",
     "exception": false,
     "start_time": "2019-06-25T17:16:54.856020",
     "status": "completed"
    },
    "tags": []
   },
   "source": [
    "## Topics with lots of likes\n",
    "\n",
    "\"Likes\" are a way for community members to say thanks for a helpful post, show their\n",
    "support for an idea, or generally to share a little positivity with somebody else.\n",
    "These are topics that have generated lots of likes in recent history."
   ]
  },
  {
   "cell_type": "code",
   "execution_count": 9,
   "metadata": {
    "jupyter": {
     "source_hidden": true
    },
    "papermill": {
     "duration": 0.394071,
     "end_time": "2019-06-25T17:16:55.524300",
     "exception": false,
     "start_time": "2019-06-25T17:16:55.130229",
     "status": "completed"
    },
    "tags": [
     "hide_input"
    ]
   },
   "outputs": [
    {
     "data": {
      "text/markdown": [
       "* [Introduce yourself!](https://discourse.jupyter.org/t/introduce-yourself) (93 posts)\n",
       "* [{WIP} Re-Design of Jupyter.org Website](https://discourse.jupyter.org/t/wip-re-design-of-jupyter-org-website) (30 posts)\n",
       "* [Jupyter Community Calls](https://discourse.jupyter.org/t/jupyter-community-calls) (28 posts)\n",
       "* [Help us choose an updated &ldquo;Launch Binder&rdquo; badge!](https://discourse.jupyter.org/t/help-us-choose-an-updated-launch-binder-badge) (21 posts)\n",
       "* [PyCon 2019 and mybinder.org](https://discourse.jupyter.org/t/pycon-2019-and-mybinder-org) (17 posts)\n",
       "* [The Binder Federation](https://discourse.jupyter.org/t/the-binder-federation) (14 posts)\n",
       "* [Jupyter community workshop: proposal on diversity, inclusion and accessibility](https://discourse.jupyter.org/t/jupyter-community-workshop-proposal-on-diversity-inclusion-and-accessibility) (20 posts)\n",
       "* [Sunset the GitHub repo jupyter/help?](https://discourse.jupyter.org/t/sunset-the-github-repo-jupyter-help) (17 posts)\n",
       "* [Reviving the all-Jupyter community meetings](https://discourse.jupyter.org/t/reviving-the-all-jupyter-community-meetings) (17 posts)\n",
       "* [Binder/BinderHub Workshops &ndash; Help Wanted!](https://discourse.jupyter.org/t/binder-binderhub-workshops-help-wanted) (25 posts)"
      ],
      "text/plain": [
       "<IPython.core.display.Markdown object>"
      ]
     },
     "execution_count": 9,
     "metadata": {},
     "output_type": "execute_result"
    }
   ],
   "source": [
    "params = {\"order\": \"likes\", \"ascending\": \"False\"}\n",
    "resp = requests.get(url, headers=api, params=params)\n",
    "\n",
    "# Topics with the most likes in recent history\n",
    "liked = pd.DataFrame(resp.json()['topic_list']['topics'])\n",
    "Markdown(topics_to_markdown(liked))"
   ]
  },
  {
   "cell_type": "markdown",
   "metadata": {
    "papermill": {
     "duration": 0.075161,
     "end_time": "2019-06-25T17:16:55.647479",
     "exception": false,
     "start_time": "2019-06-25T17:16:55.572318",
     "status": "completed"
    },
    "tags": []
   },
   "source": [
    "## Active topics on Discourse\n",
    "\n",
    "These are topics with lots of activity in recent history."
   ]
  },
  {
   "cell_type": "code",
   "execution_count": 10,
   "metadata": {
    "jupyter": {
     "source_hidden": true
    },
    "papermill": {
     "duration": 0.327115,
     "end_time": "2019-06-25T17:16:56.055417",
     "exception": false,
     "start_time": "2019-06-25T17:16:55.728302",
     "status": "completed"
    },
    "tags": [
     "hide_input"
    ]
   },
   "outputs": [
    {
     "data": {
      "text/markdown": [
       "* [Introduce yourself!](https://discourse.jupyter.org/t/introduce-yourself) (93 posts)\n",
       "* [Tip: embed custom github content in a Binder link with nbgitpuller](https://discourse.jupyter.org/t/tip-embed-custom-github-content-in-a-binder-link-with-nbgitpuller) (37 posts)\n",
       "* [{WIP} Re-Design of Jupyter.org Website](https://discourse.jupyter.org/t/wip-re-design-of-jupyter-org-website) (30 posts)\n",
       "* [Would a &ldquo;The Littlest Binder&rdquo; be useful?](https://discourse.jupyter.org/t/would-a-the-littlest-binder-be-useful) (30 posts)\n",
       "* [Plugins of considerations](https://discourse.jupyter.org/t/plugins-of-considerations) (28 posts)\n",
       "* [Jupyter Community Calls](https://discourse.jupyter.org/t/jupyter-community-calls) (28 posts)\n",
       "* [A proposal for JupyterHub communications](https://discourse.jupyter.org/t/a-proposal-for-jupyterhub-communications) (26 posts)\n",
       "* [Binder/BinderHub Workshops &ndash; Help Wanted!](https://discourse.jupyter.org/t/binder-binderhub-workshops-help-wanted) (25 posts)\n",
       "* [Help us choose an updated &ldquo;Launch Binder&rdquo; badge!](https://discourse.jupyter.org/t/help-us-choose-an-updated-launch-binder-badge) (21 posts)\n",
       "* [Potential collaboration on user research?](https://discourse.jupyter.org/t/potential-collaboration-on-user-research) (21 posts)"
      ],
      "text/plain": [
       "<IPython.core.display.Markdown object>"
      ]
     },
     "execution_count": 10,
     "metadata": {},
     "output_type": "execute_result"
    }
   ],
   "source": [
    "params = {\"order\": \"posts\", \"ascending\": \"False\"}\n",
    "resp = requests.get(url, headers=api, params=params)\n",
    "\n",
    "# Topics with the most posts in recent history\n",
    "posts = pd.DataFrame(resp.json()['topic_list']['topics'])\n",
    "Markdown(topics_to_markdown(posts))"
   ]
  },
  {
   "cell_type": "code",
   "execution_count": 11,
   "metadata": {
    "jupyter": {
     "source_hidden": true
    },
    "papermill": {
     "duration": 0.19373,
     "end_time": "2019-06-25T17:16:56.307848",
     "exception": false,
     "start_time": "2019-06-25T17:16:56.114118",
     "status": "completed"
    },
    "tags": [
     "hide_input"
    ]
   },
   "outputs": [
    {
     "data": {
      "text/html": [
       "\n",
       "  <style>\n",
       "    .vega-actions a {\n",
       "        margin-right: 12px;\n",
       "        color: #757575;\n",
       "        font-weight: normal;\n",
       "        font-size: 13px;\n",
       "    }\n",
       "    .error {\n",
       "        color: red;\n",
       "    }\n",
       "  </style>\n",
       "  <div id=\"altair-viz-1\"></div>\n",
       "  <script>\n",
       "    requirejs.config({\n",
       "        \"paths\": {\n",
       "            \"vega\": \"https://cdn.jsdelivr.net/npm//vega@4?noext\",\n",
       "            \"vega-lib\": \"https://cdn.jsdelivr.net/npm//vega-lib?noext\",\n",
       "            \"vega-lite\": \"https://cdn.jsdelivr.net/npm//vega-lite@2.6.0?noext\",\n",
       "            \"vega-embed\": \"https://cdn.jsdelivr.net/npm//vega-embed@3?noext\",\n",
       "        }\n",
       "    });\n",
       "    require(['vega-embed'], function(vegaEmbed){\n",
       "      var spec = {\"config\": {\"view\": {\"width\": 400, \"height\": 300}}, \"data\": {\"name\": \"data-be1d796022f59c0c05ca62da7620f64b\"}, \"mark\": \"bar\", \"encoding\": {\"color\": {\"type\": \"nominal\", \"field\": \"parent_category\"}, \"x\": {\"type\": \"nominal\", \"field\": \"parent/category\", \"sort\": [\"Admin requests\", \"Meta\", \"announcements\", \"JupyterHub\", \"discuss\", \"Enterprise Gateway\", \"Community Chat\", \"Binder\", \"discuss\", \"BinderHub\", \"mybinder.org ops\"]}, \"y\": {\"type\": \"quantitative\", \"field\": \"bookmarked\"}}, \"height\": 300, \"title\": \"Activity by category\", \"width\": 700, \"$schema\": \"https://vega.github.io/schema/vega-lite/v2.6.0.json\", \"datasets\": {\"data-be1d796022f59c0c05ca62da7620f64b\": [{\"category_id\": \"Admin requests\", \"bookmarked\": 1, \"parent_category\": \"Site Feedback\", \"parent/category\": \"Site Feedback/Admin requests\"}, {\"category_id\": \"Meta\", \"bookmarked\": 5, \"parent_category\": \"Meta\", \"parent/category\": \"Meta/Meta\"}, {\"category_id\": \"announcements\", \"bookmarked\": 1, \"parent_category\": \"Meta\", \"parent/category\": \"Meta/announcements\"}, {\"category_id\": \"JupyterHub\", \"bookmarked\": 2, \"parent_category\": \"JupyterHub\", \"parent/category\": \"JupyterHub/JupyterHub\"}, {\"category_id\": \"discuss\", \"bookmarked\": 2, \"parent_category\": \"JupyterHub\", \"parent/category\": \"JupyterHub/discuss\"}, {\"category_id\": \"Enterprise Gateway\", \"bookmarked\": 1, \"parent_category\": \"Enterprise Gateway\", \"parent/category\": \"Enterprise Gateway/Enterprise Gateway\"}, {\"category_id\": \"Community Chat\", \"bookmarked\": 4, \"parent_category\": \"Community Chat\", \"parent/category\": \"Community Chat/Community Chat\"}, {\"category_id\": \"Binder\", \"bookmarked\": 6, \"parent_category\": \"Binder\", \"parent/category\": \"Binder/Binder\"}, {\"category_id\": \"discuss\", \"bookmarked\": 6, \"parent_category\": \"Binder\", \"parent/category\": \"Binder/discuss\"}, {\"category_id\": \"BinderHub\", \"bookmarked\": 1, \"parent_category\": \"Binder\", \"parent/category\": \"Binder/BinderHub\"}, {\"category_id\": \"mybinder.org ops\", \"bookmarked\": 1, \"parent_category\": \"Binder\", \"parent/category\": \"Binder/mybinder.org ops\"}]}};\n",
       "      var embedOpt = {\"mode\": \"vega-lite\"};\n",
       "\n",
       "      function showError(el, error){\n",
       "          el.innerHTML = ('<div class=\"error\" style=\"color:red;\">'\n",
       "                          + '<p>JavaScript Error: ' + error.message + '</p>'\n",
       "                          + \"<p>This usually means there's a typo in your chart specification. \"\n",
       "                          + \"See the javascript console for the full traceback.</p>\"\n",
       "                          + '</div>');\n",
       "          throw error;\n",
       "      }\n",
       "      const el = document.getElementById('altair-viz-1');\n",
       "      vegaEmbed(\"#altair-viz-1\", spec, embedOpt)\n",
       "        .catch(error => showError(el, error));\n",
       "    });\n",
       "\n",
       "  </script>"
      ],
      "text/plain": [
       "Chart({\n",
       "  data:            category_id  bookmarked     parent_category  \\\n",
       "  9       Admin requests           1       Site Feedback   \n",
       "  0                 Meta           5                Meta   \n",
       "  1        announcements           1                Meta   \n",
       "  2           JupyterHub           2          JupyterHub   \n",
       "  6              discuss           2          JupyterHub   \n",
       "  8   Enterprise Gateway           1  Enterprise Gateway   \n",
       "  3       Community Chat           4      Community Chat   \n",
       "  4               Binder           6              Binder   \n",
       "  7              discuss           6              Binder   \n",
       "  5            BinderHub           1              Binder   \n",
       "  10    mybinder.org ops           1              Binder   \n",
       "  \n",
       "                            parent/category  \n",
       "  9            Site Feedback/Admin requests  \n",
       "  0                               Meta/Meta  \n",
       "  1                      Meta/announcements  \n",
       "  2                   JupyterHub/JupyterHub  \n",
       "  6                      JupyterHub/discuss  \n",
       "  8   Enterprise Gateway/Enterprise Gateway  \n",
       "  3           Community Chat/Community Chat  \n",
       "  4                           Binder/Binder  \n",
       "  7                          Binder/discuss  \n",
       "  5                        Binder/BinderHub  \n",
       "  10                Binder/mybinder.org ops  ,\n",
       "  encoding: EncodingWithFacet({\n",
       "    color: Color({\n",
       "      shorthand: 'parent_category'\n",
       "    }),\n",
       "    x: X({\n",
       "      shorthand: 'parent/category',\n",
       "      sort: Sort(['Admin requests', 'Meta', 'announcements', 'JupyterHub', 'discuss', 'Enterprise Gateway', 'Community Chat', 'Binder', 'discuss', 'BinderHub', 'mybinder.org ops'])\n",
       "    }),\n",
       "    y: Y({\n",
       "      shorthand: 'bookmarked'\n",
       "    })\n",
       "  }),\n",
       "  height: 300,\n",
       "  mark: 'bar',\n",
       "  title: 'Activity by category',\n",
       "  width: 700\n",
       "})"
      ]
     },
     "execution_count": 11,
     "metadata": {},
     "output_type": "execute_result"
    }
   ],
   "source": [
    "counts = counts_from_activity(posts)\n",
    "alt.Chart(data=counts, width=700, height=300, title=\"Activity by category\").mark_bar().encode(\n",
    "    x=alt.X(\"parent/category\", sort=alt.Sort(counts['category_id'].values.tolist())),\n",
    "    y=\"bookmarked\",\n",
    "    color=\"parent_category\"\n",
    ")"
   ]
  },
  {
   "cell_type": "markdown",
   "metadata": {
    "papermill": {
     "duration": 0.073321,
     "end_time": "2019-06-25T17:16:56.445509",
     "exception": false,
     "start_time": "2019-06-25T17:16:56.372188",
     "status": "completed"
    },
    "tags": []
   },
   "source": [
    "## Recently-created topics\n",
    "\n",
    "These are topics that were recently created, sorted by the amount of activity\n",
    "in each one."
   ]
  },
  {
   "cell_type": "code",
   "execution_count": 12,
   "metadata": {
    "jupyter": {
     "source_hidden": true
    },
    "papermill": {
     "duration": 0.278239,
     "end_time": "2019-06-25T17:16:56.775016",
     "exception": false,
     "start_time": "2019-06-25T17:16:56.496777",
     "status": "completed"
    },
    "tags": [
     "hide_input"
    ]
   },
   "outputs": [
    {
     "data": {
      "text/markdown": [
       "* [Internal Server Error with notebook with conda dependencies](https://discourse.jupyter.org/t/internal-server-error-with-notebook-with-conda-dependencies) (10 posts)\n",
       "* [I get `Read timed out` errors on when pushing image OVH](https://discourse.jupyter.org/t/i-get-read-timed-out-errors-on-when-pushing-image-ovh) (8 posts)\n",
       "* [JupyterLab 1.0 Release Candidate published](https://discourse.jupyter.org/t/jupyterlab-1-0-release-candidate-published) (8 posts)\n",
       "* [JupyterHub, Binder workshop](https://discourse.jupyter.org/t/jupyterhub-binder-workshop) (8 posts)\n",
       "* [GenericAuthenticator Redirect Issue](https://discourse.jupyter.org/t/genericauthenticator-redirect-issue) (5 posts)\n",
       "* [One-click JupyterHub K8s deployment on Gitlab](https://discourse.jupyter.org/t/one-click-jupyterhub-k8s-deployment-on-gitlab) (4 posts)\n",
       "* [Quick question on jupyterlab doc regarding &lt;lab-location&gt;](https://discourse.jupyter.org/t/quick-question-on-jupyterlab-doc-regarding-lab-location) (4 posts)\n",
       "* [0.5 G for memory limit?](https://discourse.jupyter.org/t/0-5-g-for-memory-limit) (4 posts)\n",
       "* [Welcoming our new JupyterHub team member: Sarah!](https://discourse.jupyter.org/t/welcoming-our-new-jupyterhub-team-member-sarah) (3 posts)\n",
       "* [Three-dot continuation in Python Notebook](https://discourse.jupyter.org/t/three-dot-continuation-in-python-notebook) (3 posts)"
      ],
      "text/plain": [
       "<IPython.core.display.Markdown object>"
      ]
     },
     "execution_count": 12,
     "metadata": {},
     "output_type": "execute_result"
    }
   ],
   "source": [
    "params = {\"order\": \"created\", \"ascending\": \"False\"}\n",
    "resp = requests.get(url, headers=api, params=params)\n",
    "\n",
    "# Sort created by the most posted for recently-created posts\n",
    "created = pd.DataFrame(resp.json()['topic_list']['topics'])\n",
    "created = created.sort_values('posts_count', ascending=False)\n",
    "Markdown(topics_to_markdown(created))"
   ]
  },
  {
   "cell_type": "code",
   "execution_count": 13,
   "metadata": {
    "jupyter": {
     "source_hidden": true
    },
    "papermill": {
     "duration": 0.196138,
     "end_time": "2019-06-25T17:16:57.044500",
     "exception": false,
     "start_time": "2019-06-25T17:16:56.848362",
     "status": "completed"
    },
    "tags": [
     "hide_input"
    ]
   },
   "outputs": [
    {
     "data": {
      "text/html": [
       "\n",
       "  <style>\n",
       "    .vega-actions a {\n",
       "        margin-right: 12px;\n",
       "        color: #757575;\n",
       "        font-weight: normal;\n",
       "        font-size: 13px;\n",
       "    }\n",
       "    .error {\n",
       "        color: red;\n",
       "    }\n",
       "  </style>\n",
       "  <div id=\"altair-viz-2\"></div>\n",
       "  <script>\n",
       "    requirejs.config({\n",
       "        \"paths\": {\n",
       "            \"vega\": \"https://cdn.jsdelivr.net/npm//vega@4?noext\",\n",
       "            \"vega-lib\": \"https://cdn.jsdelivr.net/npm//vega-lib?noext\",\n",
       "            \"vega-lite\": \"https://cdn.jsdelivr.net/npm//vega-lite@2.6.0?noext\",\n",
       "            \"vega-embed\": \"https://cdn.jsdelivr.net/npm//vega-embed@3?noext\",\n",
       "        }\n",
       "    });\n",
       "    require(['vega-embed'], function(vegaEmbed){\n",
       "      var spec = {\"config\": {\"view\": {\"width\": 400, \"height\": 300}}, \"data\": {\"name\": \"data-dec21b31e3c54a824ea275727b6fff34\"}, \"mark\": \"bar\", \"encoding\": {\"color\": {\"type\": \"nominal\", \"field\": \"parent_category\"}, \"x\": {\"type\": \"nominal\", \"field\": \"parent/category\", \"sort\": [\"Q&A\", \"Meta\", \"JupyterLab\", \"Zero to JupyterHub on Kubernetes\", \"team\", \"JupyterHub\", \"discuss\", \"The Littlest JupyterHub\", \"Community Chat\", \"Binder\", \"discuss\"]}, \"y\": {\"type\": \"quantitative\", \"field\": \"bookmarked\"}}, \"height\": 300, \"title\": \"Activity by category\", \"width\": 700, \"$schema\": \"https://vega.github.io/schema/vega-lite/v2.6.0.json\", \"datasets\": {\"data-dec21b31e3c54a824ea275727b6fff34\": [{\"category_id\": \"Q&A\", \"bookmarked\": 5, \"parent_category\": \"Q&A\", \"parent/category\": \"Q&A/Q&A\"}, {\"category_id\": \"Meta\", \"bookmarked\": 1, \"parent_category\": \"Meta\", \"parent/category\": \"Meta/Meta\"}, {\"category_id\": \"JupyterLab\", \"bookmarked\": 3, \"parent_category\": \"JupyterLab\", \"parent/category\": \"JupyterLab/JupyterLab\"}, {\"category_id\": \"Zero to JupyterHub on Kubernetes\", \"bookmarked\": 3, \"parent_category\": \"JupyterHub\", \"parent/category\": \"JupyterHub/Zero to JupyterHub on Kubernetes\"}, {\"category_id\": \"team\", \"bookmarked\": 2, \"parent_category\": \"JupyterHub\", \"parent/category\": \"JupyterHub/team\"}, {\"category_id\": \"JupyterHub\", \"bookmarked\": 1, \"parent_category\": \"JupyterHub\", \"parent/category\": \"JupyterHub/JupyterHub\"}, {\"category_id\": \"discuss\", \"bookmarked\": 1, \"parent_category\": \"JupyterHub\", \"parent/category\": \"JupyterHub/discuss\"}, {\"category_id\": \"The Littlest JupyterHub\", \"bookmarked\": 0, \"parent_category\": \"JupyterHub\", \"parent/category\": \"JupyterHub/The Littlest JupyterHub\"}, {\"category_id\": \"Community Chat\", \"bookmarked\": 0, \"parent_category\": \"Community Chat\", \"parent/category\": \"Community Chat/Community Chat\"}, {\"category_id\": \"Binder\", \"bookmarked\": 2, \"parent_category\": \"Binder\", \"parent/category\": \"Binder/Binder\"}, {\"category_id\": \"discuss\", \"bookmarked\": 1, \"parent_category\": \"Binder\", \"parent/category\": \"Binder/discuss\"}]}};\n",
       "      var embedOpt = {\"mode\": \"vega-lite\"};\n",
       "\n",
       "      function showError(el, error){\n",
       "          el.innerHTML = ('<div class=\"error\" style=\"color:red;\">'\n",
       "                          + '<p>JavaScript Error: ' + error.message + '</p>'\n",
       "                          + \"<p>This usually means there's a typo in your chart specification. \"\n",
       "                          + \"See the javascript console for the full traceback.</p>\"\n",
       "                          + '</div>');\n",
       "          throw error;\n",
       "      }\n",
       "      const el = document.getElementById('altair-viz-2');\n",
       "      vegaEmbed(\"#altair-viz-2\", spec, embedOpt)\n",
       "        .catch(error => showError(el, error));\n",
       "    });\n",
       "\n",
       "  </script>"
      ],
      "text/plain": [
       "Chart({\n",
       "  data:                          category_id  bookmarked parent_category  \\\n",
       "  9                                Q&A           5             Q&A   \n",
       "  1                               Meta           1            Meta   \n",
       "  8                         JupyterLab           3      JupyterLab   \n",
       "  0   Zero to JupyterHub on Kubernetes           3      JupyterHub   \n",
       "  10                              team           2      JupyterHub   \n",
       "  2                         JupyterHub           1      JupyterHub   \n",
       "  6                            discuss           1      JupyterHub   \n",
       "  5            The Littlest JupyterHub           0      JupyterHub   \n",
       "  3                     Community Chat           0  Community Chat   \n",
       "  4                             Binder           2          Binder   \n",
       "  7                            discuss           1          Binder   \n",
       "  \n",
       "                                  parent/category  \n",
       "  9                                       Q&A/Q&A  \n",
       "  1                                     Meta/Meta  \n",
       "  8                         JupyterLab/JupyterLab  \n",
       "  0   JupyterHub/Zero to JupyterHub on Kubernetes  \n",
       "  10                              JupyterHub/team  \n",
       "  2                         JupyterHub/JupyterHub  \n",
       "  6                            JupyterHub/discuss  \n",
       "  5            JupyterHub/The Littlest JupyterHub  \n",
       "  3                 Community Chat/Community Chat  \n",
       "  4                                 Binder/Binder  \n",
       "  7                                Binder/discuss  ,\n",
       "  encoding: EncodingWithFacet({\n",
       "    color: Color({\n",
       "      shorthand: 'parent_category'\n",
       "    }),\n",
       "    x: X({\n",
       "      shorthand: 'parent/category',\n",
       "      sort: Sort(['Q&A', 'Meta', 'JupyterLab', 'Zero to JupyterHub on Kubernetes', 'team', 'JupyterHub', 'discuss', 'The Littlest JupyterHub', 'Community Chat', 'Binder', 'discuss'])\n",
       "    }),\n",
       "    y: Y({\n",
       "      shorthand: 'bookmarked'\n",
       "    })\n",
       "  }),\n",
       "  height: 300,\n",
       "  mark: 'bar',\n",
       "  title: 'Activity by category',\n",
       "  width: 700\n",
       "})"
      ]
     },
     "execution_count": 13,
     "metadata": {},
     "output_type": "execute_result"
    }
   ],
   "source": [
    "counts = counts_from_activity(created)\n",
    "alt.Chart(data=counts, width=700, height=300, title=\"Activity by category\").mark_bar().encode(\n",
    "    x=alt.X(\"parent/category\", sort=alt.Sort(counts['category_id'].values.tolist())),\n",
    "    y=\"bookmarked\",\n",
    "    color=\"parent_category\"\n",
    ")"
   ]
  },
  {
   "cell_type": "markdown",
   "metadata": {
    "papermill": {
     "duration": 0.206756,
     "end_time": "2019-06-25T17:16:57.324566",
     "exception": false,
     "start_time": "2019-06-25T17:16:57.117810",
     "status": "completed"
    },
    "tags": []
   },
   "source": [
    "# GitHub activity\n",
    "\n",
    "Jupyter also has lots of activity across GitHub repositories. The following sections contain\n",
    "overviews of recent activity across the following GitHub organizations:\n",
    "\n",
    "* [github.com/jupyterhub](https://github.com/jupyterhub)\n",
    "* [github.com/jupyter](https://github.com/jupyter)\n",
    "* [github.com/jupyterlab](https://github.com/jupyterlab)\n",
    "* [github.com/jupyter-widgets](https://github.com/jupyter-widgets)"
   ]
  },
  {
   "cell_type": "code",
   "execution_count": 14,
   "metadata": {
    "jupyter": {
     "source_hidden": true
    },
    "papermill": {
     "duration": 0.104086,
     "end_time": "2019-06-25T17:16:57.508528",
     "exception": false,
     "start_time": "2019-06-25T17:16:57.404442",
     "status": "completed"
    },
    "tags": [
     "hide_input"
    ]
   },
   "outputs": [
    {
     "data": {
      "text/markdown": [
       "Showing GitHub activity from **2019-05-26** to **2019-06-25**"
      ],
      "text/plain": [
       "<IPython.core.display.Markdown object>"
      ]
     },
     "execution_count": 14,
     "metadata": {},
     "output_type": "execute_result"
    }
   ],
   "source": [
    "from datetime import timedelta\n",
    "\n",
    "orgs = [\"jupyterhub\", \"jupyter\", \"jupyterlab\", \"jupyter-widgets\", \"ipython\", \"binder-examples\"]\n",
    "Markdown(f\"Showing GitHub activity from **{start_date}** to **{end_date}**\")"
   ]
  },
  {
   "cell_type": "markdown",
   "metadata": {
    "papermill": {
     "duration": 0.088119,
     "end_time": "2019-06-25T17:16:57.677591",
     "exception": false,
     "start_time": "2019-06-25T17:16:57.589472",
     "status": "completed"
    },
    "tags": [],
    "toc-hr-collapsed": false
   },
   "source": [
    "## Merged Pull requests\n",
    "\n",
    "Here's an analysis of **merged pull requests** across each of the repositories in the Jupyter\n",
    "ecosystem."
   ]
  },
  {
   "cell_type": "code",
   "execution_count": 15,
   "metadata": {
    "jupyter": {
     "source_hidden": true
    },
    "papermill": {
     "duration": 156.594169,
     "end_time": "2019-06-25T17:19:34.369764",
     "exception": false,
     "start_time": "2019-06-25T17:16:57.775595",
     "status": "completed"
    },
    "tags": [
     "hide_input"
    ]
   },
   "outputs": [
    {
     "name": "stderr",
     "output_type": "stream",
     "text": [
      "100%|██████████| 6/6 [02:36<00:00, 20.11s/it]\n"
     ]
    }
   ],
   "source": [
    "# Update data\n",
    "merged = []\n",
    "for org in tqdm(orgs):\n",
    "    query = f\"is:merged user:{org} archived:false closed:{start_date}..{end_date}\"\n",
    "    this_merged = run_github_query(query)\n",
    "    this_merged['org'] = org\n",
    "    merged.append(this_merged)\n",
    "merged = pd.concat(merged)\n",
    "merged['repo'] = merged['repository_url'].map(lambda a: a.split('/')[-1])\n",
    "\n",
    "# Count PRs by org/repo\n",
    "prs_by_repo = merged.groupby(['org', 'repo']).count()['body'].reset_index().sort_values(['org', 'body'], ascending=False)"
   ]
  },
  {
   "cell_type": "code",
   "execution_count": 16,
   "metadata": {
    "jupyter": {
     "source_hidden": true
    },
    "papermill": {
     "duration": 0.206387,
     "end_time": "2019-06-25T17:19:34.625740",
     "exception": false,
     "start_time": "2019-06-25T17:19:34.419353",
     "status": "completed"
    },
    "tags": [
     "hide_input"
    ]
   },
   "outputs": [
    {
     "data": {
      "text/html": [
       "\n",
       "  <style>\n",
       "    .vega-actions a {\n",
       "        margin-right: 12px;\n",
       "        color: #757575;\n",
       "        font-weight: normal;\n",
       "        font-size: 13px;\n",
       "    }\n",
       "    .error {\n",
       "        color: red;\n",
       "    }\n",
       "  </style>\n",
       "  <div id=\"altair-viz-3\"></div>\n",
       "  <script>\n",
       "    requirejs.config({\n",
       "        \"paths\": {\n",
       "            \"vega\": \"https://cdn.jsdelivr.net/npm//vega@4?noext\",\n",
       "            \"vega-lib\": \"https://cdn.jsdelivr.net/npm//vega-lib?noext\",\n",
       "            \"vega-lite\": \"https://cdn.jsdelivr.net/npm//vega-lite@2.6.0?noext\",\n",
       "            \"vega-embed\": \"https://cdn.jsdelivr.net/npm//vega-embed@3?noext\",\n",
       "        }\n",
       "    });\n",
       "    require(['vega-embed'], function(vegaEmbed){\n",
       "      var spec = {\"config\": {\"view\": {\"width\": 400, \"height\": 300}}, \"data\": {\"name\": \"data-0b05fb0952ecb72e786596fc0a4ecaf2\"}, \"mark\": \"bar\", \"encoding\": {\"color\": {\"type\": \"nominal\", \"field\": \"org\"}, \"x\": {\"type\": \"nominal\", \"field\": \"repo\", \"sort\": [\"jupyterlab\", \"jupyterlab-git\", \"jupyterlab_server\", \"jupyterlab-data-explorer\", \"jupyterlab-demo\", \"jupyterlab-commenting\", \"jupyterlab-toc\", \"jupyter-renderers\", \"jupyterlab-github\", \"jupyterlab-latex\", \"jupyterlab-metadata-service\", \"jupyterlab-telemetry\", \"mybinder.org-deploy\", \"the-littlest-jupyterhub\", \"binderhub\", \"alabaster-jupyterhub\", \"batchspawner\", \"jupyterhub\", \"zero-to-jupyterhub-k8s\", \"team-compass\", \"chartpress\", \"nbgitpuller\", \"wrapspawner\", \"systemdspawner\", \"traefik-proxy\", \"ipywidgets\", \"tutorial\", \"ipyleaflet\", \"jupyter-sphinx\", \"pythreejs\", \"traittypes\", \"widget-cookiecutter\", \"nbgrader\", \"notebook\", \"enterprise_gateway\", \"repo2docker\", \"nbconvert\", \"jupyter_core\", \"jupyter-book\", \"telemetry\", \"qtconsole\", \"docker-stacks\", \"jupyter\", \"jupyter_client\", \"jupyter_server\", \"nb2kg\", \"nbdime\", \"nbviewer\", \"ipython\", \"ipykernel\", \"traitlets\", \"latex\"]}, \"y\": {\"type\": \"quantitative\", \"field\": \"body\"}}, \"title\": \"Merged PRs in the last 30 days\", \"$schema\": \"https://vega.github.io/schema/vega-lite/v2.6.0.json\", \"datasets\": {\"data-0b05fb0952ecb72e786596fc0a4ecaf2\": [{\"org\": \"jupyterlab\", \"repo\": \"jupyterlab\", \"body\": 105}, {\"org\": \"jupyterlab\", \"repo\": \"jupyterlab-git\", \"body\": 7}, {\"org\": \"jupyterlab\", \"repo\": \"jupyterlab_server\", \"body\": 6}, {\"org\": \"jupyterlab\", \"repo\": \"jupyterlab-data-explorer\", \"body\": 3}, {\"org\": \"jupyterlab\", \"repo\": \"jupyterlab-demo\", \"body\": 3}, {\"org\": \"jupyterlab\", \"repo\": \"jupyterlab-commenting\", \"body\": 2}, {\"org\": \"jupyterlab\", \"repo\": \"jupyterlab-toc\", \"body\": 2}, {\"org\": \"jupyterlab\", \"repo\": \"jupyter-renderers\", \"body\": 1}, {\"org\": \"jupyterlab\", \"repo\": \"jupyterlab-github\", \"body\": 1}, {\"org\": \"jupyterlab\", \"repo\": \"jupyterlab-latex\", \"body\": 1}, {\"org\": \"jupyterlab\", \"repo\": \"jupyterlab-metadata-service\", \"body\": 1}, {\"org\": \"jupyterlab\", \"repo\": \"jupyterlab-telemetry\", \"body\": 1}, {\"org\": \"jupyterhub\", \"repo\": \"mybinder.org-deploy\", \"body\": 51}, {\"org\": \"jupyterhub\", \"repo\": \"the-littlest-jupyterhub\", \"body\": 22}, {\"org\": \"jupyterhub\", \"repo\": \"binderhub\", \"body\": 14}, {\"org\": \"jupyterhub\", \"repo\": \"alabaster-jupyterhub\", \"body\": 9}, {\"org\": \"jupyterhub\", \"repo\": \"batchspawner\", \"body\": 7}, {\"org\": \"jupyterhub\", \"repo\": \"jupyterhub\", \"body\": 7}, {\"org\": \"jupyterhub\", \"repo\": \"zero-to-jupyterhub-k8s\", \"body\": 5}, {\"org\": \"jupyterhub\", \"repo\": \"team-compass\", \"body\": 4}, {\"org\": \"jupyterhub\", \"repo\": \"chartpress\", \"body\": 2}, {\"org\": \"jupyterhub\", \"repo\": \"nbgitpuller\", \"body\": 2}, {\"org\": \"jupyterhub\", \"repo\": \"wrapspawner\", \"body\": 2}, {\"org\": \"jupyterhub\", \"repo\": \"systemdspawner\", \"body\": 1}, {\"org\": \"jupyterhub\", \"repo\": \"traefik-proxy\", \"body\": 1}, {\"org\": \"jupyter-widgets\", \"repo\": \"ipywidgets\", \"body\": 16}, {\"org\": \"jupyter-widgets\", \"repo\": \"tutorial\", \"body\": 16}, {\"org\": \"jupyter-widgets\", \"repo\": \"ipyleaflet\", \"body\": 10}, {\"org\": \"jupyter-widgets\", \"repo\": \"jupyter-sphinx\", \"body\": 4}, {\"org\": \"jupyter-widgets\", \"repo\": \"pythreejs\", \"body\": 2}, {\"org\": \"jupyter-widgets\", \"repo\": \"traittypes\", \"body\": 1}, {\"org\": \"jupyter-widgets\", \"repo\": \"widget-cookiecutter\", \"body\": 1}, {\"org\": \"jupyter\", \"repo\": \"nbgrader\", \"body\": 42}, {\"org\": \"jupyter\", \"repo\": \"notebook\", \"body\": 24}, {\"org\": \"jupyter\", \"repo\": \"enterprise_gateway\", \"body\": 14}, {\"org\": \"jupyter\", \"repo\": \"repo2docker\", \"body\": 12}, {\"org\": \"jupyter\", \"repo\": \"nbconvert\", \"body\": 10}, {\"org\": \"jupyter\", \"repo\": \"jupyter_core\", \"body\": 7}, {\"org\": \"jupyter\", \"repo\": \"jupyter-book\", \"body\": 6}, {\"org\": \"jupyter\", \"repo\": \"telemetry\", \"body\": 4}, {\"org\": \"jupyter\", \"repo\": \"qtconsole\", \"body\": 2}, {\"org\": \"jupyter\", \"repo\": \"docker-stacks\", \"body\": 1}, {\"org\": \"jupyter\", \"repo\": \"jupyter\", \"body\": 1}, {\"org\": \"jupyter\", \"repo\": \"jupyter_client\", \"body\": 1}, {\"org\": \"jupyter\", \"repo\": \"jupyter_server\", \"body\": 1}, {\"org\": \"jupyter\", \"repo\": \"nb2kg\", \"body\": 1}, {\"org\": \"jupyter\", \"repo\": \"nbdime\", \"body\": 1}, {\"org\": \"jupyter\", \"repo\": \"nbviewer\", \"body\": 1}, {\"org\": \"ipython\", \"repo\": \"ipython\", \"body\": 35}, {\"org\": \"ipython\", \"repo\": \"ipykernel\", \"body\": 2}, {\"org\": \"ipython\", \"repo\": \"traitlets\", \"body\": 2}, {\"org\": \"binder-examples\", \"repo\": \"latex\", \"body\": 1}]}};\n",
       "      var embedOpt = {\"mode\": \"vega-lite\"};\n",
       "\n",
       "      function showError(el, error){\n",
       "          el.innerHTML = ('<div class=\"error\" style=\"color:red;\">'\n",
       "                          + '<p>JavaScript Error: ' + error.message + '</p>'\n",
       "                          + \"<p>This usually means there's a typo in your chart specification. \"\n",
       "                          + \"See the javascript console for the full traceback.</p>\"\n",
       "                          + '</div>');\n",
       "          throw error;\n",
       "      }\n",
       "      const el = document.getElementById('altair-viz-3');\n",
       "      vegaEmbed(\"#altair-viz-3\", spec, embedOpt)\n",
       "        .catch(error => showError(el, error));\n",
       "    });\n",
       "\n",
       "  </script>"
      ],
      "text/plain": [
       "Chart({\n",
       "  data:                 org                         repo  body\n",
       "  41       jupyterlab                   jupyterlab   105\n",
       "  45       jupyterlab               jupyterlab-git     7\n",
       "  51       jupyterlab            jupyterlab_server     6\n",
       "  43       jupyterlab     jupyterlab-data-explorer     3\n",
       "  44       jupyterlab              jupyterlab-demo     3\n",
       "  42       jupyterlab        jupyterlab-commenting     2\n",
       "  50       jupyterlab               jupyterlab-toc     2\n",
       "  40       jupyterlab            jupyter-renderers     1\n",
       "  46       jupyterlab            jupyterlab-github     1\n",
       "  47       jupyterlab             jupyterlab-latex     1\n",
       "  48       jupyterlab  jupyterlab-metadata-service     1\n",
       "  49       jupyterlab         jupyterlab-telemetry     1\n",
       "  32       jupyterhub          mybinder.org-deploy    51\n",
       "  36       jupyterhub      the-littlest-jupyterhub    22\n",
       "  29       jupyterhub                    binderhub    14\n",
       "  27       jupyterhub         alabaster-jupyterhub     9\n",
       "  28       jupyterhub                 batchspawner     7\n",
       "  31       jupyterhub                   jupyterhub     7\n",
       "  39       jupyterhub       zero-to-jupyterhub-k8s     5\n",
       "  35       jupyterhub                 team-compass     4\n",
       "  30       jupyterhub                   chartpress     2\n",
       "  33       jupyterhub                  nbgitpuller     2\n",
       "  38       jupyterhub                  wrapspawner     2\n",
       "  34       jupyterhub               systemdspawner     1\n",
       "  37       jupyterhub                traefik-proxy     1\n",
       "  21  jupyter-widgets                   ipywidgets    16\n",
       "  25  jupyter-widgets                     tutorial    16\n",
       "  20  jupyter-widgets                   ipyleaflet    10\n",
       "  22  jupyter-widgets               jupyter-sphinx     4\n",
       "  23  jupyter-widgets                    pythreejs     2\n",
       "  24  jupyter-widgets                   traittypes     1\n",
       "  26  jupyter-widgets          widget-cookiecutter     1\n",
       "  14          jupyter                     nbgrader    42\n",
       "  16          jupyter                     notebook    24\n",
       "  5           jupyter           enterprise_gateway    14\n",
       "  18          jupyter                  repo2docker    12\n",
       "  12          jupyter                    nbconvert    10\n",
       "  9           jupyter                 jupyter_core     7\n",
       "  7           jupyter                 jupyter-book     6\n",
       "  19          jupyter                    telemetry     4\n",
       "  17          jupyter                    qtconsole     2\n",
       "  4           jupyter                docker-stacks     1\n",
       "  6           jupyter                      jupyter     1\n",
       "  8           jupyter               jupyter_client     1\n",
       "  10          jupyter               jupyter_server     1\n",
       "  11          jupyter                        nb2kg     1\n",
       "  13          jupyter                       nbdime     1\n",
       "  15          jupyter                     nbviewer     1\n",
       "  2           ipython                      ipython    35\n",
       "  1           ipython                    ipykernel     2\n",
       "  3           ipython                    traitlets     2\n",
       "  0   binder-examples                        latex     1,\n",
       "  encoding: EncodingWithFacet({\n",
       "    color: Color({\n",
       "      shorthand: 'org'\n",
       "    }),\n",
       "    x: X({\n",
       "      shorthand: 'repo',\n",
       "      sort: ['jupyterlab', 'jupyterlab-git', 'jupyterlab_server', 'jupyterlab-data-explorer', 'jupyterlab-demo', 'jupyterlab-commenting', 'jupyterlab-toc', 'jupyter-renderers', 'jupyterlab-github', 'jupyterlab-latex', 'jupyterlab-metadata-service', 'jupyterlab-telemetry', 'mybinder.org-deploy', 'the-littlest-jupyterhub', 'binderhub', 'alabaster-jupyterhub', 'batchspawner', 'jupyterhub', 'zero-to-jupyterhub-k8s', 'team-compass', 'chartpress', 'nbgitpuller', 'wrapspawner', 'systemdspawner', 'traefik-proxy', 'ipywidgets', 'tutorial', 'ipyleaflet', 'jupyter-sphinx', 'pythreejs', 'traittypes', 'widget-cookiecutter', 'nbgrader', 'notebook', 'enterprise_gateway', 'repo2docker', 'nbconvert', 'jupyter_core', 'jupyter-book', 'telemetry', 'qtconsole', 'docker-stacks', 'jupyter', 'jupyter_client', 'jupyter_server', 'nb2kg', 'nbdime', 'nbviewer', 'ipython', 'ipykernel', 'traitlets', 'latex']\n",
       "    }),\n",
       "    y: Y({\n",
       "      shorthand: 'body'\n",
       "    })\n",
       "  }),\n",
       "  mark: 'bar',\n",
       "  title: 'Merged PRs in the last 30 days'\n",
       "})"
      ]
     },
     "execution_count": 16,
     "metadata": {},
     "output_type": "execute_result"
    }
   ],
   "source": [
    "alt.Chart(data=prs_by_repo, title=\"Merged PRs in the last 30 days\").mark_bar().encode(\n",
    "    x=alt.X('repo', sort=prs_by_repo['repo'].values.tolist()),\n",
    "    y='body',\n",
    "    color='org'\n",
    ")"
   ]
  },
  {
   "cell_type": "markdown",
   "metadata": {
    "papermill": {
     "duration": 0.110657,
     "end_time": "2019-06-25T17:19:34.834984",
     "exception": false,
     "start_time": "2019-06-25T17:19:34.724327",
     "status": "completed"
    },
    "tags": []
   },
   "source": [
    "### A list of merged PRs by project"
   ]
  },
  {
   "cell_type": "code",
   "execution_count": 17,
   "metadata": {
    "jupyter": {
     "source_hidden": true
    },
    "papermill": {
     "duration": 0.145014,
     "end_time": "2019-06-25T17:19:35.044588",
     "exception": false,
     "start_time": "2019-06-25T17:19:34.899574",
     "status": "completed"
    },
    "tags": []
   },
   "outputs": [],
   "source": [
    "from ipywidgets import widgets, HTML\n",
    "from ipywidgets import HTML\n",
    "from markdown import markdown "
   ]
  },
  {
   "cell_type": "code",
   "execution_count": 18,
   "metadata": {
    "jupyter": {
     "source_hidden": true
    },
    "papermill": {
     "duration": 0.654366,
     "end_time": "2019-06-25T17:19:35.763712",
     "exception": false,
     "start_time": "2019-06-25T17:19:35.109346",
     "status": "completed"
    },
    "tags": [
     "hide_input"
    ]
   },
   "outputs": [
    {
     "data": {
      "application/vnd.jupyter.widget-view+json": {
       "model_id": "6c416b24d3184fdd83f40d1b8bd1695c",
       "version_major": 2,
       "version_minor": 0
      },
      "text/plain": [
       "Tab(children=(HTML(value='<h4>Closed PRs for org: <code>binder-examples</code></h4>\\n<h5><a href=\"https://gith…"
      ]
     },
     "metadata": {},
     "output_type": "display_data"
    }
   ],
   "source": [
    "tabs = widgets.Tab(children=[])\n",
    "for ii, (org, idata) in enumerate(merged.groupby('org')):\n",
    "    issue_md = []\n",
    "    issue_md.append(f\"#### Closed PRs for org: `{org}`\")\n",
    "    issue_md.append(\"\")\n",
    "    for repourl, prs in idata.groupby('repository_url'):\n",
    "        reponame, repo = repourl.split('/')[-2:]\n",
    "        issue_md.append(f\"##### [{reponame}/{repo}](https://github.com/{reponame}/{repo})\")\n",
    "        for _, pr in prs.iterrows():\n",
    "            user_name = pr['user']['login']\n",
    "            user_url = pr['user']['html_url']\n",
    "            pr_number = pr['number']\n",
    "            pr_html = pr['html_url']\n",
    "            pr_title = pr['title']\n",
    "            pr_closedby = pr['closed_by']['login']\n",
    "            pr_closedby_url = pr['closed_by']['html_url']\n",
    "            text = f\"* [(#{pr_number})]({pr_html}): _{pr_title}_ by **[@{user_name}]({user_url})** merged by **[@{pr_closedby}]({pr_closedby_url})**\"\n",
    "            issue_md.append(text)\n",
    "    issue_md.append('')\n",
    "    markdown_html = markdown('\\n'.join(issue_md))\n",
    "    \n",
    "    children = list(tabs.children)\n",
    "    children.append(HTML(markdown_html))\n",
    "    tabs.children = tuple(children)\n",
    "    tabs.set_title(ii, org)\n",
    "tabs"
   ]
  },
  {
   "cell_type": "markdown",
   "metadata": {
    "papermill": {
     "duration": 0.070132,
     "end_time": "2019-06-25T17:19:35.894774",
     "exception": false,
     "start_time": "2019-06-25T17:19:35.824642",
     "status": "completed"
    },
    "tags": []
   },
   "source": [
    "## Issues\n",
    "\n",
    "Issues are **conversations** that happen on our GitHub repositories. Here's an\n",
    "analysis of issues across the Jupyter organizations."
   ]
  },
  {
   "cell_type": "code",
   "execution_count": 19,
   "metadata": {
    "jupyter": {
     "source_hidden": true
    },
    "papermill": {
     "duration": 102.347786,
     "end_time": "2019-06-25T17:21:18.305207",
     "exception": false,
     "start_time": "2019-06-25T17:19:35.957421",
     "status": "completed"
    },
    "tags": [
     "hide_input"
    ]
   },
   "outputs": [
    {
     "name": "stderr",
     "output_type": "stream",
     "text": [
      "100%|██████████| 6/6 [01:42<00:00, 12.57s/it]\n"
     ]
    }
   ],
   "source": [
    "# Created issues\n",
    "created = []\n",
    "for org in tqdm(orgs):\n",
    "    query = f\"is:open is:issue user:{org} archived:false created:{start_date}..{end_date}\"\n",
    "    this_created = run_github_query(query)\n",
    "    if len(this_created) == 0:\n",
    "        continue\n",
    "    this_created['org'] = org\n",
    "    created.append(this_created)\n",
    "created = pd.concat(created)\n",
    "created['repo'] = created['repository_url'].map(lambda a: a.split('/')[-1])"
   ]
  },
  {
   "cell_type": "code",
   "execution_count": 20,
   "metadata": {
    "jupyter": {
     "source_hidden": true
    },
    "papermill": {
     "duration": 0.276539,
     "end_time": "2019-06-25T17:21:18.653413",
     "exception": false,
     "start_time": "2019-06-25T17:21:18.376874",
     "status": "completed"
    },
    "tags": [
     "hide_input"
    ]
   },
   "outputs": [
    {
     "data": {
      "text/html": [
       "\n",
       "  <style>\n",
       "    .vega-actions a {\n",
       "        margin-right: 12px;\n",
       "        color: #757575;\n",
       "        font-weight: normal;\n",
       "        font-size: 13px;\n",
       "    }\n",
       "    .error {\n",
       "        color: red;\n",
       "    }\n",
       "  </style>\n",
       "  <div id=\"altair-viz-4\"></div>\n",
       "  <script>\n",
       "    requirejs.config({\n",
       "        \"paths\": {\n",
       "            \"vega\": \"https://cdn.jsdelivr.net/npm//vega@4?noext\",\n",
       "            \"vega-lib\": \"https://cdn.jsdelivr.net/npm//vega-lib?noext\",\n",
       "            \"vega-lite\": \"https://cdn.jsdelivr.net/npm//vega-lite@2.6.0?noext\",\n",
       "            \"vega-embed\": \"https://cdn.jsdelivr.net/npm//vega-embed@3?noext\",\n",
       "        }\n",
       "    });\n",
       "    require(['vega-embed'], function(vegaEmbed){\n",
       "      var spec = {\"config\": {\"view\": {\"width\": 400, \"height\": 300}}, \"data\": {\"name\": \"data-69e5c6ba0c63d1631a841e4fb8a40528\"}, \"mark\": \"bar\", \"encoding\": {\"color\": {\"type\": \"nominal\", \"field\": \"org\"}, \"x\": {\"type\": \"nominal\", \"field\": \"repo\", \"sort\": [\"jupyterlab\", \"jupyterlab-data-explorer\", \"jupyterlab-git\", \"jupyterlab-telemetry\", \"extension-cookiecutter-ts\", \"jupyterlab-google-drive\", \"team-compass\", \"jupyterhub\", \"zero-to-jupyterhub-k8s\", \"the-littlest-jupyterhub\", \"mybinder.org-deploy\", \"team-compass\", \"binderhub\", \"dockerspawner\", \"nbgitpuller\", \"jupyterlab-hub\", \"kubespawner\", \"chartpress\", \"configurable-http-proxy\", \"jupyterhub-deploy-docker\", \"ldapauthenticator\", \"oauthenticator\", \"wrapspawner\", \"alabaster-jupyterhub\", \"batchspawner\", \"firstuseauthenticator\", \"jupyter-rsession-proxy\", \"ltiauthenticator\", \"traefik-proxy\", \"ipywidgets\", \"ipyleaflet\", \"pythreejs\", \"jupyter-sphinx\", \"tutorial\", \"jupyterlab-sidecar\", \"notebook\", \"nbgrader\", \"docker-stacks\", \"jupyter-book\", \"repo2docker\", \"jupyter_server\", \"jupyter_client\", \"nbconvert\", \"enterprise_gateway\", \"nbviewer\", \"jupyter\", \"nbdime\", \"design\", \"jupyter_core\", \"jupyter_kernel_test\", \"qtconsole\", \"ipython\", \"ipykernel\", \"ipyparallel\", \"jupyter-rise\"]}, \"y\": {\"type\": \"quantitative\", \"field\": \"number\"}}, \"title\": \"Issues created in the last 30 days\", \"$schema\": \"https://vega.github.io/schema/vega-lite/v2.6.0.json\", \"datasets\": {\"data-69e5c6ba0c63d1631a841e4fb8a40528\": [{\"org\": \"binder-examples\", \"repo\": \"jupyter-rise\", \"number\": 1, \"org/repo\": \"binder-examples/jupyter-rise\"}, {\"org\": \"ipython\", \"repo\": \"ipykernel\", \"number\": 4, \"org/repo\": \"ipython/ipykernel\"}, {\"org\": \"ipython\", \"repo\": \"ipyparallel\", \"number\": 1, \"org/repo\": \"ipython/ipyparallel\"}, {\"org\": \"ipython\", \"repo\": \"ipython\", \"number\": 13, \"org/repo\": \"ipython/ipython\"}, {\"org\": \"jupyter\", \"repo\": \"design\", \"number\": 1, \"org/repo\": \"jupyter/design\"}, {\"org\": \"jupyter\", \"repo\": \"docker-stacks\", \"number\": 10, \"org/repo\": \"jupyter/docker-stacks\"}, {\"org\": \"jupyter\", \"repo\": \"enterprise_gateway\", \"number\": 4, \"org/repo\": \"jupyter/enterprise_gateway\"}, {\"org\": \"jupyter\", \"repo\": \"jupyter\", \"number\": 2, \"org/repo\": \"jupyter/jupyter\"}, {\"org\": \"jupyter\", \"repo\": \"jupyter-book\", \"number\": 7, \"org/repo\": \"jupyter/jupyter-book\"}, {\"org\": \"jupyter\", \"repo\": \"jupyter_client\", \"number\": 5, \"org/repo\": \"jupyter/jupyter_client\"}, {\"org\": \"jupyter\", \"repo\": \"jupyter_core\", \"number\": 1, \"org/repo\": \"jupyter/jupyter_core\"}, {\"org\": \"jupyter\", \"repo\": \"jupyter_kernel_test\", \"number\": 1, \"org/repo\": \"jupyter/jupyter_kernel_test\"}, {\"org\": \"jupyter\", \"repo\": \"jupyter_server\", \"number\": 6, \"org/repo\": \"jupyter/jupyter_server\"}, {\"org\": \"jupyter\", \"repo\": \"nbconvert\", \"number\": 5, \"org/repo\": \"jupyter/nbconvert\"}, {\"org\": \"jupyter\", \"repo\": \"nbdime\", \"number\": 2, \"org/repo\": \"jupyter/nbdime\"}, {\"org\": \"jupyter\", \"repo\": \"nbgrader\", \"number\": 20, \"org/repo\": \"jupyter/nbgrader\"}, {\"org\": \"jupyter\", \"repo\": \"nbviewer\", \"number\": 4, \"org/repo\": \"jupyter/nbviewer\"}, {\"org\": \"jupyter\", \"repo\": \"notebook\", \"number\": 31, \"org/repo\": \"jupyter/notebook\"}, {\"org\": \"jupyter\", \"repo\": \"qtconsole\", \"number\": 1, \"org/repo\": \"jupyter/qtconsole\"}, {\"org\": \"jupyter\", \"repo\": \"repo2docker\", \"number\": 7, \"org/repo\": \"jupyter/repo2docker\"}, {\"org\": \"jupyter-widgets\", \"repo\": \"ipyleaflet\", \"number\": 5, \"org/repo\": \"jupyter-widgets/ipyleaflet\"}, {\"org\": \"jupyter-widgets\", \"repo\": \"ipywidgets\", \"number\": 12, \"org/repo\": \"jupyter-widgets/ipywidgets\"}, {\"org\": \"jupyter-widgets\", \"repo\": \"jupyter-sphinx\", \"number\": 4, \"org/repo\": \"jupyter-widgets/jupyter-sphinx\"}, {\"org\": \"jupyter-widgets\", \"repo\": \"jupyterlab-sidecar\", \"number\": 1, \"org/repo\": \"jupyter-widgets/jupyterlab-sidecar\"}, {\"org\": \"jupyter-widgets\", \"repo\": \"pythreejs\", \"number\": 5, \"org/repo\": \"jupyter-widgets/pythreejs\"}, {\"org\": \"jupyter-widgets\", \"repo\": \"tutorial\", \"number\": 2, \"org/repo\": \"jupyter-widgets/tutorial\"}, {\"org\": \"jupyterhub\", \"repo\": \"alabaster-jupyterhub\", \"number\": 1, \"org/repo\": \"jupyterhub/alabaster-jupyterhub\"}, {\"org\": \"jupyterhub\", \"repo\": \"batchspawner\", \"number\": 1, \"org/repo\": \"jupyterhub/batchspawner\"}, {\"org\": \"jupyterhub\", \"repo\": \"binderhub\", \"number\": 6, \"org/repo\": \"jupyterhub/binderhub\"}, {\"org\": \"jupyterhub\", \"repo\": \"chartpress\", \"number\": 2, \"org/repo\": \"jupyterhub/chartpress\"}, {\"org\": \"jupyterhub\", \"repo\": \"configurable-http-proxy\", \"number\": 2, \"org/repo\": \"jupyterhub/configurable-http-proxy\"}, {\"org\": \"jupyterhub\", \"repo\": \"dockerspawner\", \"number\": 4, \"org/repo\": \"jupyterhub/dockerspawner\"}, {\"org\": \"jupyterhub\", \"repo\": \"firstuseauthenticator\", \"number\": 1, \"org/repo\": \"jupyterhub/firstuseauthenticator\"}, {\"org\": \"jupyterhub\", \"repo\": \"jupyter-rsession-proxy\", \"number\": 1, \"org/repo\": \"jupyterhub/jupyter-rsession-proxy\"}, {\"org\": \"jupyterhub\", \"repo\": \"jupyterhub\", \"number\": 19, \"org/repo\": \"jupyterhub/jupyterhub\"}, {\"org\": \"jupyterhub\", \"repo\": \"jupyterhub-deploy-docker\", \"number\": 2, \"org/repo\": \"jupyterhub/jupyterhub-deploy-docker\"}, {\"org\": \"jupyterhub\", \"repo\": \"jupyterlab-hub\", \"number\": 3, \"org/repo\": \"jupyterhub/jupyterlab-hub\"}, {\"org\": \"jupyterhub\", \"repo\": \"kubespawner\", \"number\": 3, \"org/repo\": \"jupyterhub/kubespawner\"}, {\"org\": \"jupyterhub\", \"repo\": \"ldapauthenticator\", \"number\": 2, \"org/repo\": \"jupyterhub/ldapauthenticator\"}, {\"org\": \"jupyterhub\", \"repo\": \"ltiauthenticator\", \"number\": 1, \"org/repo\": \"jupyterhub/ltiauthenticator\"}, {\"org\": \"jupyterhub\", \"repo\": \"mybinder.org-deploy\", \"number\": 8, \"org/repo\": \"jupyterhub/mybinder.org-deploy\"}, {\"org\": \"jupyterhub\", \"repo\": \"nbgitpuller\", \"number\": 4, \"org/repo\": \"jupyterhub/nbgitpuller\"}, {\"org\": \"jupyterhub\", \"repo\": \"oauthenticator\", \"number\": 2, \"org/repo\": \"jupyterhub/oauthenticator\"}, {\"org\": \"jupyterhub\", \"repo\": \"team-compass\", \"number\": 8, \"org/repo\": \"jupyterhub/team-compass\"}, {\"org\": \"jupyterhub\", \"repo\": \"the-littlest-jupyterhub\", \"number\": 10, \"org/repo\": \"jupyterhub/the-littlest-jupyterhub\"}, {\"org\": \"jupyterhub\", \"repo\": \"traefik-proxy\", \"number\": 1, \"org/repo\": \"jupyterhub/traefik-proxy\"}, {\"org\": \"jupyterhub\", \"repo\": \"wrapspawner\", \"number\": 2, \"org/repo\": \"jupyterhub/wrapspawner\"}, {\"org\": \"jupyterhub\", \"repo\": \"zero-to-jupyterhub-k8s\", \"number\": 11, \"org/repo\": \"jupyterhub/zero-to-jupyterhub-k8s\"}, {\"org\": \"jupyterlab\", \"repo\": \"extension-cookiecutter-ts\", \"number\": 1, \"org/repo\": \"jupyterlab/extension-cookiecutter-ts\"}, {\"org\": \"jupyterlab\", \"repo\": \"jupyterlab\", \"number\": 88, \"org/repo\": \"jupyterlab/jupyterlab\"}, {\"org\": \"jupyterlab\", \"repo\": \"jupyterlab-data-explorer\", \"number\": 9, \"org/repo\": \"jupyterlab/jupyterlab-data-explorer\"}, {\"org\": \"jupyterlab\", \"repo\": \"jupyterlab-git\", \"number\": 2, \"org/repo\": \"jupyterlab/jupyterlab-git\"}, {\"org\": \"jupyterlab\", \"repo\": \"jupyterlab-google-drive\", \"number\": 1, \"org/repo\": \"jupyterlab/jupyterlab-google-drive\"}, {\"org\": \"jupyterlab\", \"repo\": \"jupyterlab-telemetry\", \"number\": 2, \"org/repo\": \"jupyterlab/jupyterlab-telemetry\"}, {\"org\": \"jupyterlab\", \"repo\": \"team-compass\", \"number\": 1, \"org/repo\": \"jupyterlab/team-compass\"}]}};\n",
       "      var embedOpt = {\"mode\": \"vega-lite\"};\n",
       "\n",
       "      function showError(el, error){\n",
       "          el.innerHTML = ('<div class=\"error\" style=\"color:red;\">'\n",
       "                          + '<p>JavaScript Error: ' + error.message + '</p>'\n",
       "                          + \"<p>This usually means there's a typo in your chart specification. \"\n",
       "                          + \"See the javascript console for the full traceback.</p>\"\n",
       "                          + '</div>');\n",
       "          throw error;\n",
       "      }\n",
       "      const el = document.getElementById('altair-viz-4');\n",
       "      vegaEmbed(\"#altair-viz-4\", spec, embedOpt)\n",
       "        .catch(error => showError(el, error));\n",
       "    });\n",
       "\n",
       "  </script>"
      ],
      "text/plain": [
       "Chart({\n",
       "  data:                 org                       repo  number  \\\n",
       "  0   binder-examples               jupyter-rise       1   \n",
       "  1           ipython                  ipykernel       4   \n",
       "  2           ipython                ipyparallel       1   \n",
       "  3           ipython                    ipython      13   \n",
       "  4           jupyter                     design       1   \n",
       "  5           jupyter              docker-stacks      10   \n",
       "  6           jupyter         enterprise_gateway       4   \n",
       "  7           jupyter                    jupyter       2   \n",
       "  8           jupyter               jupyter-book       7   \n",
       "  9           jupyter             jupyter_client       5   \n",
       "  10          jupyter               jupyter_core       1   \n",
       "  11          jupyter        jupyter_kernel_test       1   \n",
       "  12          jupyter             jupyter_server       6   \n",
       "  13          jupyter                  nbconvert       5   \n",
       "  14          jupyter                     nbdime       2   \n",
       "  15          jupyter                   nbgrader      20   \n",
       "  16          jupyter                   nbviewer       4   \n",
       "  17          jupyter                   notebook      31   \n",
       "  18          jupyter                  qtconsole       1   \n",
       "  19          jupyter                repo2docker       7   \n",
       "  20  jupyter-widgets                 ipyleaflet       5   \n",
       "  21  jupyter-widgets                 ipywidgets      12   \n",
       "  22  jupyter-widgets             jupyter-sphinx       4   \n",
       "  23  jupyter-widgets         jupyterlab-sidecar       1   \n",
       "  24  jupyter-widgets                  pythreejs       5   \n",
       "  25  jupyter-widgets                   tutorial       2   \n",
       "  26       jupyterhub       alabaster-jupyterhub       1   \n",
       "  27       jupyterhub               batchspawner       1   \n",
       "  28       jupyterhub                  binderhub       6   \n",
       "  29       jupyterhub                 chartpress       2   \n",
       "  30       jupyterhub    configurable-http-proxy       2   \n",
       "  31       jupyterhub              dockerspawner       4   \n",
       "  32       jupyterhub      firstuseauthenticator       1   \n",
       "  33       jupyterhub     jupyter-rsession-proxy       1   \n",
       "  34       jupyterhub                 jupyterhub      19   \n",
       "  35       jupyterhub   jupyterhub-deploy-docker       2   \n",
       "  36       jupyterhub             jupyterlab-hub       3   \n",
       "  37       jupyterhub                kubespawner       3   \n",
       "  38       jupyterhub          ldapauthenticator       2   \n",
       "  39       jupyterhub           ltiauthenticator       1   \n",
       "  40       jupyterhub        mybinder.org-deploy       8   \n",
       "  41       jupyterhub                nbgitpuller       4   \n",
       "  42       jupyterhub             oauthenticator       2   \n",
       "  43       jupyterhub               team-compass       8   \n",
       "  44       jupyterhub    the-littlest-jupyterhub      10   \n",
       "  45       jupyterhub              traefik-proxy       1   \n",
       "  46       jupyterhub                wrapspawner       2   \n",
       "  47       jupyterhub     zero-to-jupyterhub-k8s      11   \n",
       "  48       jupyterlab  extension-cookiecutter-ts       1   \n",
       "  49       jupyterlab                 jupyterlab      88   \n",
       "  50       jupyterlab   jupyterlab-data-explorer       9   \n",
       "  51       jupyterlab             jupyterlab-git       2   \n",
       "  52       jupyterlab    jupyterlab-google-drive       1   \n",
       "  53       jupyterlab       jupyterlab-telemetry       2   \n",
       "  54       jupyterlab               team-compass       1   \n",
       "  \n",
       "                                  org/repo  \n",
       "  0           binder-examples/jupyter-rise  \n",
       "  1                      ipython/ipykernel  \n",
       "  2                    ipython/ipyparallel  \n",
       "  3                        ipython/ipython  \n",
       "  4                         jupyter/design  \n",
       "  5                  jupyter/docker-stacks  \n",
       "  6             jupyter/enterprise_gateway  \n",
       "  7                        jupyter/jupyter  \n",
       "  8                   jupyter/jupyter-book  \n",
       "  9                 jupyter/jupyter_client  \n",
       "  10                  jupyter/jupyter_core  \n",
       "  11           jupyter/jupyter_kernel_test  \n",
       "  12                jupyter/jupyter_server  \n",
       "  13                     jupyter/nbconvert  \n",
       "  14                        jupyter/nbdime  \n",
       "  15                      jupyter/nbgrader  \n",
       "  16                      jupyter/nbviewer  \n",
       "  17                      jupyter/notebook  \n",
       "  18                     jupyter/qtconsole  \n",
       "  19                   jupyter/repo2docker  \n",
       "  20            jupyter-widgets/ipyleaflet  \n",
       "  21            jupyter-widgets/ipywidgets  \n",
       "  22        jupyter-widgets/jupyter-sphinx  \n",
       "  23    jupyter-widgets/jupyterlab-sidecar  \n",
       "  24             jupyter-widgets/pythreejs  \n",
       "  25              jupyter-widgets/tutorial  \n",
       "  26       jupyterhub/alabaster-jupyterhub  \n",
       "  27               jupyterhub/batchspawner  \n",
       "  28                  jupyterhub/binderhub  \n",
       "  29                 jupyterhub/chartpress  \n",
       "  30    jupyterhub/configurable-http-proxy  \n",
       "  31              jupyterhub/dockerspawner  \n",
       "  32      jupyterhub/firstuseauthenticator  \n",
       "  33     jupyterhub/jupyter-rsession-proxy  \n",
       "  34                 jupyterhub/jupyterhub  \n",
       "  35   jupyterhub/jupyterhub-deploy-docker  \n",
       "  36             jupyterhub/jupyterlab-hub  \n",
       "  37                jupyterhub/kubespawner  \n",
       "  38          jupyterhub/ldapauthenticator  \n",
       "  39           jupyterhub/ltiauthenticator  \n",
       "  40        jupyterhub/mybinder.org-deploy  \n",
       "  41                jupyterhub/nbgitpuller  \n",
       "  42             jupyterhub/oauthenticator  \n",
       "  43               jupyterhub/team-compass  \n",
       "  44    jupyterhub/the-littlest-jupyterhub  \n",
       "  45              jupyterhub/traefik-proxy  \n",
       "  46                jupyterhub/wrapspawner  \n",
       "  47     jupyterhub/zero-to-jupyterhub-k8s  \n",
       "  48  jupyterlab/extension-cookiecutter-ts  \n",
       "  49                 jupyterlab/jupyterlab  \n",
       "  50   jupyterlab/jupyterlab-data-explorer  \n",
       "  51             jupyterlab/jupyterlab-git  \n",
       "  52    jupyterlab/jupyterlab-google-drive  \n",
       "  53       jupyterlab/jupyterlab-telemetry  \n",
       "  54               jupyterlab/team-compass  ,\n",
       "  encoding: EncodingWithFacet({\n",
       "    color: Color({\n",
       "      shorthand: 'org'\n",
       "    }),\n",
       "    x: X({\n",
       "      shorthand: 'repo',\n",
       "      sort: Sort(['jupyterlab', 'jupyterlab-data-explorer', 'jupyterlab-git', 'jupyterlab-telemetry', 'extension-cookiecutter-ts', 'jupyterlab-google-drive', 'team-compass', 'jupyterhub', 'zero-to-jupyterhub-k8s', 'the-littlest-jupyterhub', 'mybinder.org-deploy', 'team-compass', 'binderhub', 'dockerspawner', 'nbgitpuller', 'jupyterlab-hub', 'kubespawner', 'chartpress', 'configurable-http-proxy', 'jupyterhub-deploy-docker', 'ldapauthenticator', 'oauthenticator', 'wrapspawner', 'alabaster-jupyterhub', 'batchspawner', 'firstuseauthenticator', 'jupyter-rsession-proxy', 'ltiauthenticator', 'traefik-proxy', 'ipywidgets', 'ipyleaflet', 'pythreejs', 'jupyter-sphinx', 'tutorial', 'jupyterlab-sidecar', 'notebook', 'nbgrader', 'docker-stacks', 'jupyter-book', 'repo2docker', 'jupyter_server', 'jupyter_client', 'nbconvert', 'enterprise_gateway', 'nbviewer', 'jupyter', 'nbdime', 'design', 'jupyter_core', 'jupyter_kernel_test', 'qtconsole', 'ipython', 'ipykernel', 'ipyparallel', 'jupyter-rise'])\n",
       "    }),\n",
       "    y: Y({\n",
       "      shorthand: 'number'\n",
       "    })\n",
       "  }),\n",
       "  mark: 'bar',\n",
       "  title: 'Issues created in the last 30 days'\n",
       "})"
      ]
     },
     "execution_count": 20,
     "metadata": {},
     "output_type": "execute_result"
    }
   ],
   "source": [
    "created_counts = created.groupby(['org', 'repo']).count()['number'].reset_index()\n",
    "created_counts['org/repo'] = created_counts.apply(lambda a: a['org'] + '/' + a['repo'], axis=1)\n",
    "sorted_vals = created_counts.sort_values(['org', 'number'], ascending=False)['repo'].values\n",
    "alt.Chart(data=created_counts, title=\"Issues created in the last 30 days\").mark_bar().encode(\n",
    "    x=alt.X('repo', sort=alt.Sort(sorted_vals.tolist())),\n",
    "    y='number',\n",
    "    color='org',\n",
    ")"
   ]
  },
  {
   "cell_type": "code",
   "execution_count": 21,
   "metadata": {
    "jupyter": {
     "source_hidden": true
    },
    "papermill": {
     "duration": 96.735513,
     "end_time": "2019-06-25T17:22:55.511040",
     "exception": false,
     "start_time": "2019-06-25T17:21:18.775527",
     "status": "completed"
    },
    "tags": [
     "hide_input"
    ]
   },
   "outputs": [
    {
     "name": "stderr",
     "output_type": "stream",
     "text": [
      "100%|██████████| 6/6 [01:36<00:00, 10.74s/it]\n"
     ]
    }
   ],
   "source": [
    "# Closed issues\n",
    "closed = []\n",
    "for org in tqdm(orgs):\n",
    "    query = f\"is:issue user:{org} closed:{start_date}..{end_date}\"\n",
    "    this_closed = run_github_query(query)\n",
    "    this_closed['org'] = org\n",
    "    closed.append(this_closed)\n",
    "closed = pd.concat(closed)\n",
    "closed['repo'] = closed['repository_url'].map(lambda a: a.split('/')[-1])"
   ]
  },
  {
   "cell_type": "code",
   "execution_count": 22,
   "metadata": {
    "jupyter": {
     "source_hidden": true
    },
    "papermill": {
     "duration": 0.238874,
     "end_time": "2019-06-25T17:22:55.814930",
     "exception": false,
     "start_time": "2019-06-25T17:22:55.576056",
     "status": "completed"
    },
    "tags": [
     "hide_input"
    ]
   },
   "outputs": [
    {
     "data": {
      "text/html": [
       "\n",
       "  <style>\n",
       "    .vega-actions a {\n",
       "        margin-right: 12px;\n",
       "        color: #757575;\n",
       "        font-weight: normal;\n",
       "        font-size: 13px;\n",
       "    }\n",
       "    .error {\n",
       "        color: red;\n",
       "    }\n",
       "  </style>\n",
       "  <div id=\"altair-viz-5\"></div>\n",
       "  <script>\n",
       "    requirejs.config({\n",
       "        \"paths\": {\n",
       "            \"vega\": \"https://cdn.jsdelivr.net/npm//vega@4?noext\",\n",
       "            \"vega-lib\": \"https://cdn.jsdelivr.net/npm//vega-lib?noext\",\n",
       "            \"vega-lite\": \"https://cdn.jsdelivr.net/npm//vega-lite@2.6.0?noext\",\n",
       "            \"vega-embed\": \"https://cdn.jsdelivr.net/npm//vega-embed@3?noext\",\n",
       "        }\n",
       "    });\n",
       "    require(['vega-embed'], function(vegaEmbed){\n",
       "      var spec = {\"config\": {\"view\": {\"width\": 400, \"height\": 300}}, \"data\": {\"name\": \"data-7ed74cabed31d79ffb6aca1b38578b54\"}, \"mark\": \"bar\", \"encoding\": {\"color\": {\"type\": \"nominal\", \"field\": \"org\"}, \"x\": {\"type\": \"nominal\", \"field\": \"repo\", \"sort\": [\"jupyterlab\", \"jupyterlab-git\", \"jupyterlab-data-explorer\", \"jupyterlab-demo\", \"jupyterlab_server\", \"the-littlest-jupyterhub\", \"jupyterhub\", \"mybinder.org-deploy\", \"zero-to-jupyterhub-k8s\", \"binderhub\", \"team-compass\", \"alabaster-jupyterhub\", \"batchspawner\", \"dockerspawner\", \"nbgitpuller\", \"traefik-proxy\", \"ipywidgets\", \"ipyleaflet\", \"jupyter-sphinx\", \"tutorial\", \"pythreejs\", \"nbgrader\", \"notebook\", \"nbconvert\", \"enterprise_gateway\", \"jupyter_core\", \"docker-stacks\", \"jupyter-book\", \"repo2docker\", \"jupyter_server\", \"jupyter\", \"nb2kg\", \"nbdime\", \"qtconsole\", \"terminado\", \"ipython\", \"traitlets\", \"bokeh\"]}, \"y\": {\"type\": \"quantitative\", \"field\": \"number\"}}, \"title\": \"Issues closed in the last 30 days\", \"$schema\": \"https://vega.github.io/schema/vega-lite/v2.6.0.json\", \"datasets\": {\"data-7ed74cabed31d79ffb6aca1b38578b54\": [{\"org\": \"binder-examples\", \"repo\": \"bokeh\", \"number\": 1, \"org/repo\": \"binder-examples/bokeh\"}, {\"org\": \"ipython\", \"repo\": \"ipython\", \"number\": 15, \"org/repo\": \"ipython/ipython\"}, {\"org\": \"ipython\", \"repo\": \"traitlets\", \"number\": 1, \"org/repo\": \"ipython/traitlets\"}, {\"org\": \"jupyter\", \"repo\": \"docker-stacks\", \"number\": 5, \"org/repo\": \"jupyter/docker-stacks\"}, {\"org\": \"jupyter\", \"repo\": \"enterprise_gateway\", \"number\": 12, \"org/repo\": \"jupyter/enterprise_gateway\"}, {\"org\": \"jupyter\", \"repo\": \"jupyter\", \"number\": 1, \"org/repo\": \"jupyter/jupyter\"}, {\"org\": \"jupyter\", \"repo\": \"jupyter-book\", \"number\": 5, \"org/repo\": \"jupyter/jupyter-book\"}, {\"org\": \"jupyter\", \"repo\": \"jupyter_core\", \"number\": 9, \"org/repo\": \"jupyter/jupyter_core\"}, {\"org\": \"jupyter\", \"repo\": \"jupyter_server\", \"number\": 2, \"org/repo\": \"jupyter/jupyter_server\"}, {\"org\": \"jupyter\", \"repo\": \"nb2kg\", \"number\": 1, \"org/repo\": \"jupyter/nb2kg\"}, {\"org\": \"jupyter\", \"repo\": \"nbconvert\", \"number\": 15, \"org/repo\": \"jupyter/nbconvert\"}, {\"org\": \"jupyter\", \"repo\": \"nbdime\", \"number\": 1, \"org/repo\": \"jupyter/nbdime\"}, {\"org\": \"jupyter\", \"repo\": \"nbgrader\", \"number\": 37, \"org/repo\": \"jupyter/nbgrader\"}, {\"org\": \"jupyter\", \"repo\": \"notebook\", \"number\": 31, \"org/repo\": \"jupyter/notebook\"}, {\"org\": \"jupyter\", \"repo\": \"qtconsole\", \"number\": 1, \"org/repo\": \"jupyter/qtconsole\"}, {\"org\": \"jupyter\", \"repo\": \"repo2docker\", \"number\": 4, \"org/repo\": \"jupyter/repo2docker\"}, {\"org\": \"jupyter\", \"repo\": \"terminado\", \"number\": 1, \"org/repo\": \"jupyter/terminado\"}, {\"org\": \"jupyter-widgets\", \"repo\": \"ipyleaflet\", \"number\": 6, \"org/repo\": \"jupyter-widgets/ipyleaflet\"}, {\"org\": \"jupyter-widgets\", \"repo\": \"ipywidgets\", \"number\": 11, \"org/repo\": \"jupyter-widgets/ipywidgets\"}, {\"org\": \"jupyter-widgets\", \"repo\": \"jupyter-sphinx\", \"number\": 2, \"org/repo\": \"jupyter-widgets/jupyter-sphinx\"}, {\"org\": \"jupyter-widgets\", \"repo\": \"pythreejs\", \"number\": 1, \"org/repo\": \"jupyter-widgets/pythreejs\"}, {\"org\": \"jupyter-widgets\", \"repo\": \"tutorial\", \"number\": 2, \"org/repo\": \"jupyter-widgets/tutorial\"}, {\"org\": \"jupyterhub\", \"repo\": \"alabaster-jupyterhub\", \"number\": 1, \"org/repo\": \"jupyterhub/alabaster-jupyterhub\"}, {\"org\": \"jupyterhub\", \"repo\": \"batchspawner\", \"number\": 1, \"org/repo\": \"jupyterhub/batchspawner\"}, {\"org\": \"jupyterhub\", \"repo\": \"binderhub\", \"number\": 4, \"org/repo\": \"jupyterhub/binderhub\"}, {\"org\": \"jupyterhub\", \"repo\": \"dockerspawner\", \"number\": 1, \"org/repo\": \"jupyterhub/dockerspawner\"}, {\"org\": \"jupyterhub\", \"repo\": \"jupyterhub\", \"number\": 14, \"org/repo\": \"jupyterhub/jupyterhub\"}, {\"org\": \"jupyterhub\", \"repo\": \"mybinder.org-deploy\", \"number\": 6, \"org/repo\": \"jupyterhub/mybinder.org-deploy\"}, {\"org\": \"jupyterhub\", \"repo\": \"nbgitpuller\", \"number\": 1, \"org/repo\": \"jupyterhub/nbgitpuller\"}, {\"org\": \"jupyterhub\", \"repo\": \"team-compass\", \"number\": 4, \"org/repo\": \"jupyterhub/team-compass\"}, {\"org\": \"jupyterhub\", \"repo\": \"the-littlest-jupyterhub\", \"number\": 18, \"org/repo\": \"jupyterhub/the-littlest-jupyterhub\"}, {\"org\": \"jupyterhub\", \"repo\": \"traefik-proxy\", \"number\": 1, \"org/repo\": \"jupyterhub/traefik-proxy\"}, {\"org\": \"jupyterhub\", \"repo\": \"zero-to-jupyterhub-k8s\", \"number\": 5, \"org/repo\": \"jupyterhub/zero-to-jupyterhub-k8s\"}, {\"org\": \"jupyterlab\", \"repo\": \"jupyterlab\", \"number\": 116, \"org/repo\": \"jupyterlab/jupyterlab\"}, {\"org\": \"jupyterlab\", \"repo\": \"jupyterlab-data-explorer\", \"number\": 7, \"org/repo\": \"jupyterlab/jupyterlab-data-explorer\"}, {\"org\": \"jupyterlab\", \"repo\": \"jupyterlab-demo\", \"number\": 2, \"org/repo\": \"jupyterlab/jupyterlab-demo\"}, {\"org\": \"jupyterlab\", \"repo\": \"jupyterlab-git\", \"number\": 8, \"org/repo\": \"jupyterlab/jupyterlab-git\"}, {\"org\": \"jupyterlab\", \"repo\": \"jupyterlab_server\", \"number\": 1, \"org/repo\": \"jupyterlab/jupyterlab_server\"}]}};\n",
       "      var embedOpt = {\"mode\": \"vega-lite\"};\n",
       "\n",
       "      function showError(el, error){\n",
       "          el.innerHTML = ('<div class=\"error\" style=\"color:red;\">'\n",
       "                          + '<p>JavaScript Error: ' + error.message + '</p>'\n",
       "                          + \"<p>This usually means there's a typo in your chart specification. \"\n",
       "                          + \"See the javascript console for the full traceback.</p>\"\n",
       "                          + '</div>');\n",
       "          throw error;\n",
       "      }\n",
       "      const el = document.getElementById('altair-viz-5');\n",
       "      vegaEmbed(\"#altair-viz-5\", spec, embedOpt)\n",
       "        .catch(error => showError(el, error));\n",
       "    });\n",
       "\n",
       "  </script>"
      ],
      "text/plain": [
       "Chart({\n",
       "  data:                 org                      repo  number  \\\n",
       "  0   binder-examples                     bokeh       1   \n",
       "  1           ipython                   ipython      15   \n",
       "  2           ipython                 traitlets       1   \n",
       "  3           jupyter             docker-stacks       5   \n",
       "  4           jupyter        enterprise_gateway      12   \n",
       "  5           jupyter                   jupyter       1   \n",
       "  6           jupyter              jupyter-book       5   \n",
       "  7           jupyter              jupyter_core       9   \n",
       "  8           jupyter            jupyter_server       2   \n",
       "  9           jupyter                     nb2kg       1   \n",
       "  10          jupyter                 nbconvert      15   \n",
       "  11          jupyter                    nbdime       1   \n",
       "  12          jupyter                  nbgrader      37   \n",
       "  13          jupyter                  notebook      31   \n",
       "  14          jupyter                 qtconsole       1   \n",
       "  15          jupyter               repo2docker       4   \n",
       "  16          jupyter                 terminado       1   \n",
       "  17  jupyter-widgets                ipyleaflet       6   \n",
       "  18  jupyter-widgets                ipywidgets      11   \n",
       "  19  jupyter-widgets            jupyter-sphinx       2   \n",
       "  20  jupyter-widgets                 pythreejs       1   \n",
       "  21  jupyter-widgets                  tutorial       2   \n",
       "  22       jupyterhub      alabaster-jupyterhub       1   \n",
       "  23       jupyterhub              batchspawner       1   \n",
       "  24       jupyterhub                 binderhub       4   \n",
       "  25       jupyterhub             dockerspawner       1   \n",
       "  26       jupyterhub                jupyterhub      14   \n",
       "  27       jupyterhub       mybinder.org-deploy       6   \n",
       "  28       jupyterhub               nbgitpuller       1   \n",
       "  29       jupyterhub              team-compass       4   \n",
       "  30       jupyterhub   the-littlest-jupyterhub      18   \n",
       "  31       jupyterhub             traefik-proxy       1   \n",
       "  32       jupyterhub    zero-to-jupyterhub-k8s       5   \n",
       "  33       jupyterlab                jupyterlab     116   \n",
       "  34       jupyterlab  jupyterlab-data-explorer       7   \n",
       "  35       jupyterlab           jupyterlab-demo       2   \n",
       "  36       jupyterlab            jupyterlab-git       8   \n",
       "  37       jupyterlab         jupyterlab_server       1   \n",
       "  \n",
       "                                 org/repo  \n",
       "  0                 binder-examples/bokeh  \n",
       "  1                       ipython/ipython  \n",
       "  2                     ipython/traitlets  \n",
       "  3                 jupyter/docker-stacks  \n",
       "  4            jupyter/enterprise_gateway  \n",
       "  5                       jupyter/jupyter  \n",
       "  6                  jupyter/jupyter-book  \n",
       "  7                  jupyter/jupyter_core  \n",
       "  8                jupyter/jupyter_server  \n",
       "  9                         jupyter/nb2kg  \n",
       "  10                    jupyter/nbconvert  \n",
       "  11                       jupyter/nbdime  \n",
       "  12                     jupyter/nbgrader  \n",
       "  13                     jupyter/notebook  \n",
       "  14                    jupyter/qtconsole  \n",
       "  15                  jupyter/repo2docker  \n",
       "  16                    jupyter/terminado  \n",
       "  17           jupyter-widgets/ipyleaflet  \n",
       "  18           jupyter-widgets/ipywidgets  \n",
       "  19       jupyter-widgets/jupyter-sphinx  \n",
       "  20            jupyter-widgets/pythreejs  \n",
       "  21             jupyter-widgets/tutorial  \n",
       "  22      jupyterhub/alabaster-jupyterhub  \n",
       "  23              jupyterhub/batchspawner  \n",
       "  24                 jupyterhub/binderhub  \n",
       "  25             jupyterhub/dockerspawner  \n",
       "  26                jupyterhub/jupyterhub  \n",
       "  27       jupyterhub/mybinder.org-deploy  \n",
       "  28               jupyterhub/nbgitpuller  \n",
       "  29              jupyterhub/team-compass  \n",
       "  30   jupyterhub/the-littlest-jupyterhub  \n",
       "  31             jupyterhub/traefik-proxy  \n",
       "  32    jupyterhub/zero-to-jupyterhub-k8s  \n",
       "  33                jupyterlab/jupyterlab  \n",
       "  34  jupyterlab/jupyterlab-data-explorer  \n",
       "  35           jupyterlab/jupyterlab-demo  \n",
       "  36            jupyterlab/jupyterlab-git  \n",
       "  37         jupyterlab/jupyterlab_server  ,\n",
       "  encoding: EncodingWithFacet({\n",
       "    color: Color({\n",
       "      shorthand: 'org'\n",
       "    }),\n",
       "    x: X({\n",
       "      shorthand: 'repo',\n",
       "      sort: Sort(['jupyterlab', 'jupyterlab-git', 'jupyterlab-data-explorer', 'jupyterlab-demo', 'jupyterlab_server', 'the-littlest-jupyterhub', 'jupyterhub', 'mybinder.org-deploy', 'zero-to-jupyterhub-k8s', 'binderhub', 'team-compass', 'alabaster-jupyterhub', 'batchspawner', 'dockerspawner', 'nbgitpuller', 'traefik-proxy', 'ipywidgets', 'ipyleaflet', 'jupyter-sphinx', 'tutorial', 'pythreejs', 'nbgrader', 'notebook', 'nbconvert', 'enterprise_gateway', 'jupyter_core', 'docker-stacks', 'jupyter-book', 'repo2docker', 'jupyter_server', 'jupyter', 'nb2kg', 'nbdime', 'qtconsole', 'terminado', 'ipython', 'traitlets', 'bokeh'])\n",
       "    }),\n",
       "    y: Y({\n",
       "      shorthand: 'number'\n",
       "    })\n",
       "  }),\n",
       "  mark: 'bar',\n",
       "  title: 'Issues closed in the last 30 days'\n",
       "})"
      ]
     },
     "execution_count": 22,
     "metadata": {},
     "output_type": "execute_result"
    }
   ],
   "source": [
    "closed_counts = closed.groupby(['org', 'repo']).count()['number'].reset_index()\n",
    "closed_counts['org/repo'] = closed_counts.apply(lambda a: a['org'] + '/' + a['repo'], axis=1)\n",
    "sorted_vals = closed_counts.sort_values(['org', 'number'], ascending=False)['repo'].values\n",
    "alt.Chart(data=closed_counts, title=\"Issues closed in the last 30 days\").mark_bar().encode(\n",
    "    x=alt.X('repo', sort=alt.Sort(sorted_vals.tolist())),\n",
    "    y='number',\n",
    "    color='org',\n",
    ")"
   ]
  },
  {
   "cell_type": "markdown",
   "metadata": {
    "papermill": {
     "duration": 0.103421,
     "end_time": "2019-06-25T17:22:56.019180",
     "exception": false,
     "start_time": "2019-06-25T17:22:55.915759",
     "status": "completed"
    },
    "tags": []
   },
   "source": [
    "### A list of recent issues"
   ]
  },
  {
   "cell_type": "code",
   "execution_count": 23,
   "metadata": {
    "jupyter": {
     "source_hidden": true
    },
    "papermill": {
     "duration": 0.774184,
     "end_time": "2019-06-25T17:22:56.924477",
     "exception": false,
     "start_time": "2019-06-25T17:22:56.150293",
     "status": "completed"
    },
    "tags": [
     "hide_input"
    ],
    "toc-hr-collapsed": false
   },
   "outputs": [
    {
     "data": {
      "text/markdown": [
       "Here are the top 5 active issues in each repository in the last 30 days"
      ],
      "text/plain": [
       "<IPython.core.display.Markdown object>"
      ]
     },
     "metadata": {},
     "output_type": "display_data"
    },
    {
     "data": {
      "application/vnd.jupyter.widget-view+json": {
       "model_id": "c5d1146e100345b6a187ea8583b0d2b0",
       "version_major": 2,
       "version_minor": 0
      },
      "text/plain": [
       "Tab(children=(HTML(value='<h4>binder-examples</h4>\\n<h5><a href=\"https://github.com/binder-examples/jupyter-ri…"
      ]
     },
     "metadata": {},
     "output_type": "display_data"
    }
   ],
   "source": [
    "n_plot = 5\n",
    "tabs = widgets.Tab(children=[])\n",
    "for ii, (org, idata) in enumerate(created.groupby('org')):\n",
    "    issue_md = []\n",
    "    issue_md.append(f\"#### {org}\")\n",
    "    issue_md.append(\"\")\n",
    "    for repourl, issues in idata.groupby('repository_url'):\n",
    "        reponame, repo = repourl.split('/')[-2:]\n",
    "        issue_md.append(f\"##### [{reponame}/{repo}](https://github.com/{reponame}/{repo})\")\n",
    "        for _, issue in issues.sort_values('comments', ascending=False).head(n_plot).iterrows():\n",
    "            user_name = issue['user']['login']\n",
    "            user_url = issue['user']['html_url']\n",
    "            issue_number = issue['number']\n",
    "            issue_html = issue['html_url']\n",
    "            issue_title = issue['title']\n",
    "\n",
    "            text = f\"* [(#{issue_number})]({issue_html}): _{issue_title}_ by **[{user_name}]({user_url})**\"\n",
    "            issue_md.append(text)\n",
    "    issue_md.append('')\n",
    "    md_html = HTML(markdown('\\n'.join(issue_md)))\n",
    "    \n",
    "    children = list(tabs.children)\n",
    "    children.append(HTML(markdown('\\n'.join(issue_md))))\n",
    "    tabs.children = tuple(children)\n",
    "    tabs.set_title(ii, org)\n",
    "    \n",
    "display(Markdown(f\"Here are the top {n_plot} active issues in each repository in the last 30 days\"))\n",
    "display(tabs)"
   ]
  },
  {
   "cell_type": "code",
   "execution_count": 24,
   "metadata": {
    "jupyter": {
     "source_hidden": true
    },
    "papermill": {
     "duration": 0.137914,
     "end_time": "2019-06-25T17:22:57.173871",
     "exception": false,
     "start_time": "2019-06-25T17:22:57.035957",
     "status": "completed"
    },
    "tags": []
   },
   "outputs": [
    {
     "data": {
      "text/html": [
       "<script src=\"https://cdn.rawgit.com/parente/4c3e6936d0d7a46fd071/raw/65b816fb9bdd3c28b4ddf3af602bfd6015486383/code_toggle.js\"></script>\n"
      ],
      "text/plain": [
       "<IPython.core.display.HTML object>"
      ]
     },
     "metadata": {},
     "output_type": "display_data"
    }
   ],
   "source": [
    "%%html\n",
    "<script src=\"https://cdn.rawgit.com/parente/4c3e6936d0d7a46fd071/raw/65b816fb9bdd3c28b4ddf3af602bfd6015486383/code_toggle.js\"></script>"
   ]
  }
 ],
 "metadata": {
  "kernelspec": {
   "display_name": "Python 3",
   "language": "python",
   "name": "python3"
  },
  "language_info": {
   "codemirror_mode": {
    "name": "ipython",
    "version": 3
   },
   "file_extension": ".py",
   "mimetype": "text/x-python",
   "name": "python",
   "nbconvert_exporter": "python",
   "pygments_lexer": "ipython3",
   "version": "3.6.5"
  },
  "papermill": {
   "duration": 371.515954,
   "end_time": "2019-06-25T17:22:58.672930",
   "environment_variables": {},
   "exception": null,
   "input_path": "./jupyter-activity-template.ipynb",
   "output_path": "../reports/2019-05-26_2019-06-25.ipynb",
   "parameters": {
    "end_date": "2019-06-25",
    "renderer": "kaggle",
    "start_date": "2019-05-26"
   },
   "start_time": "2019-06-25T17:16:47.156976",
   "version": "0.18.0"
  },
  "toc-autonumbering": false,
  "toc-showmarkdowntxt": false,
  "toc-showtags": false
 },
 "nbformat": 4,
 "nbformat_minor": 4
}
