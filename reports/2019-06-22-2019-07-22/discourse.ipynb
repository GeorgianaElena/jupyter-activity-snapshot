{
 "cells": [
  {
   "cell_type": "code",
   "execution_count": 1,
   "metadata": {
    "papermill": {
     "duration": 2.156103,
     "end_time": "2019-07-22T16:01:50.466384",
     "exception": false,
     "start_time": "2019-07-22T16:01:48.310281",
     "status": "completed"
    },
    "tags": [
     "hide_input"
    ]
   },
   "outputs": [],
   "source": [
    "import requests\n",
    "from IPython.display import Markdown\n",
    "from tqdm import tqdm, tqdm_notebook\n",
    "import pandas as pd\n",
    "from matplotlib import pyplot as plt\n",
    "import numpy as np\n",
    "import altair as alt\n",
    "from requests.utils import quote\n",
    "import os\n",
    "from github import Github\n",
    "from datetime import timedelta"
   ]
  },
  {
   "cell_type": "code",
   "execution_count": 2,
   "metadata": {
    "papermill": {
     "duration": 0.09101,
     "end_time": "2019-07-22T16:01:50.589884",
     "exception": false,
     "start_time": "2019-07-22T16:01:50.498874",
     "status": "completed"
    },
    "tags": [
     "parameters",
     "hide_input"
    ]
   },
   "outputs": [],
   "source": [
    "fmt = \"{:%Y-%m-%d}\"\n",
    "\n",
    "# Can optionally use number of days to choose dates\n",
    "n_days = 60\n",
    "end_date = fmt.format(pd.datetime.today())\n",
    "start_date = fmt.format(pd.datetime.today() - timedelta(days=n_days))\n",
    "\n",
    "renderer = \"kaggle\"\n",
    "github_orgs = [\"jupyterhub\", \"jupyter\", \"jupyterlab\", \"jupyter-widgets\", \"ipython\", \"binder-examples\", \"nteract\"]\n",
    "bot_names = [\"stale\", \"codecov\", \"jupyterlab-dev-mode\", \"henchbot\"]"
   ]
  },
  {
   "cell_type": "code",
   "execution_count": 3,
   "metadata": {
    "papermill": {
     "duration": 0.066053,
     "end_time": "2019-07-22T16:01:50.697486",
     "exception": false,
     "start_time": "2019-07-22T16:01:50.631433",
     "status": "completed"
    },
    "tags": [
     "injected-parameters"
    ]
   },
   "outputs": [],
   "source": [
    "# Parameters\n",
    "end_date = \"2019-07-22\"\n",
    "start_date = \"2019-06-22\"\n",
    "renderer = \"kaggle\"\n"
   ]
  },
  {
   "cell_type": "code",
   "execution_count": 4,
   "metadata": {
    "papermill": {
     "duration": 0.063969,
     "end_time": "2019-07-22T16:01:50.797610",
     "exception": false,
     "start_time": "2019-07-22T16:01:50.733641",
     "status": "completed"
    },
    "tags": [
     "hide_input"
    ]
   },
   "outputs": [],
   "source": [
    "# Discourse API key\n",
    "api = {'Api-Key': os.environ['DISCOURSE_API_KEY'],\n",
    "       'Api-Username': os.environ['DISCOURSE_API_USERNAME']}"
   ]
  },
  {
   "cell_type": "code",
   "execution_count": 5,
   "metadata": {
    "papermill": {
     "duration": 0.124842,
     "end_time": "2019-07-22T16:01:50.959382",
     "exception": false,
     "start_time": "2019-07-22T16:01:50.834540",
     "status": "completed"
    },
    "tags": [
     "hide_input"
    ]
   },
   "outputs": [],
   "source": [
    "# Discourse\n",
    "def topics_to_markdown(topics, n_list=10):\n",
    "    body = []\n",
    "    for _, topic in topics.iterrows():\n",
    "        title = topic['fancy_title']\n",
    "        slug = topic['slug']\n",
    "        posts_count = topic['posts_count']\n",
    "        url = f'https://discourse.jupyter.org/t/{slug}'\n",
    "        body.append(f'* [{title}]({url}) ({posts_count} posts)')\n",
    "    body = body[:n_list]\n",
    "    return '\\n'.join(body)\n",
    "\n",
    "def counts_from_activity(activity):\n",
    "    counts = activity.groupby('category_id').count()['bookmarked'].reset_index()\n",
    "    counts['parent_category'] = None\n",
    "    for ii, irow in counts.iterrows():\n",
    "        if parent_categories[irow['category_id']] is not None:\n",
    "            counts.loc[ii, 'parent_category'] = parent_categories[irow['category_id']]\n",
    "\n",
    "    counts['category_id'] = counts['category_id'].map(lambda a: category_mapping[a])\n",
    "    counts['parent_category'] = counts['parent_category'].map(lambda a: category_mapping[a] if a is not None else 'parent')\n",
    "    is_parent = counts['parent_category'] == 'parent'\n",
    "    counts.loc[is_parent, 'parent_category'] = counts.loc[is_parent, 'category_id'] \n",
    "    counts['parent/category'] = counts.apply(lambda a: a['parent_category']+'/'+a['category_id'], axis=1)\n",
    "    counts = counts.sort_values(['parent_category', 'bookmarked'], ascending=False)\n",
    "    return counts"
   ]
  },
  {
   "cell_type": "markdown",
   "metadata": {
    "papermill": {
     "duration": 0.039477,
     "end_time": "2019-07-22T16:01:51.032969",
     "exception": false,
     "start_time": "2019-07-22T16:01:50.993492",
     "status": "completed"
    },
    "tags": []
   },
   "source": [
    "# Community forum activity\n",
    "\n",
    "The [Jupyter Community Forum](https://discourse.jupyter.org) is a place for Jovyans across the\n",
    "community to talk about Jupyter tools in interactive computing and how they fit into their\n",
    "workflows. It's also a place for developers to share ideas, tools, tips, and help one another.\n",
    "\n",
    "Below are a few updates from activity in the Discourse. For more detailed information about\n",
    "the activity on the Community Forum, check out these links:\n",
    "\n",
    "* [The users page](https://discourse.jupyter.org/u) has information about user activity\n",
    "* [The top posts page](https://discourse.jupyter.org/top) contains a list of top posts, sorted\n",
    "  by various metrics."
   ]
  },
  {
   "cell_type": "code",
   "execution_count": 6,
   "metadata": {
    "papermill": {
     "duration": 31.225478,
     "end_time": "2019-07-22T16:02:22.308502",
     "exception": false,
     "start_time": "2019-07-22T16:01:51.083024",
     "status": "completed"
    },
    "tags": [
     "hide_input"
    ]
   },
   "outputs": [],
   "source": [
    "# Get categories for IDs\n",
    "url = \"https://discourse.jupyter.org/site.json\"\n",
    "resp = requests.get(url, headers=api)\n",
    "category_mapping = {cat['id']: cat['name'] for cat in resp.json()['categories']}\n",
    "parent_categories = {cat['id']: cat.get(\"parent_category_id\", None) for cat in resp.json()['categories']}"
   ]
  },
  {
   "cell_type": "code",
   "execution_count": 7,
   "metadata": {
    "papermill": {
     "duration": 0.104328,
     "end_time": "2019-07-22T16:02:22.502549",
     "exception": false,
     "start_time": "2019-07-22T16:02:22.398221",
     "status": "completed"
    },
    "tags": [
     "hide_input"
    ]
   },
   "outputs": [],
   "source": [
    "# Base URL to use\n",
    "url = \"https://discourse.jupyter.org/latest.json\""
   ]
  },
  {
   "cell_type": "markdown",
   "metadata": {
    "papermill": {
     "duration": 0.052528,
     "end_time": "2019-07-22T16:02:22.596595",
     "exception": false,
     "start_time": "2019-07-22T16:02:22.544067",
     "status": "completed"
    },
    "tags": []
   },
   "source": [
    "## Topics with lots of likes\n",
    "\n",
    "\"Likes\" are a way for community members to say thanks for a helpful post, show their\n",
    "support for an idea, or generally to share a little positivity with somebody else.\n",
    "These are topics that have generated lots of likes in recent history."
   ]
  },
  {
   "cell_type": "code",
   "execution_count": 8,
   "metadata": {
    "papermill": {
     "duration": 4.611105,
     "end_time": "2019-07-22T16:02:27.261123",
     "exception": false,
     "start_time": "2019-07-22T16:02:22.650018",
     "status": "completed"
    },
    "tags": [
     "hide_input"
    ]
   },
   "outputs": [
    {
     "data": {
      "text/markdown": [
       "* [Introduce yourself!](https://discourse.jupyter.org/t/introduce-yourself) (101 posts)\n",
       "* [{WIP} Re-Design of Jupyter.org Website](https://discourse.jupyter.org/t/wip-re-design-of-jupyter-org-website) (53 posts)\n",
       "* [Jupyter Community Calls](https://discourse.jupyter.org/t/jupyter-community-calls) (28 posts)\n",
       "* [JupyterHub, Binder workshop in Oslo, Sept. 5-8](https://discourse.jupyter.org/t/jupyterhub-binder-workshop-in-oslo-sept-5-8) (15 posts)\n",
       "* [Help us choose an updated &ldquo;Launch Binder&rdquo; badge!](https://discourse.jupyter.org/t/help-us-choose-an-updated-launch-binder-badge) (21 posts)\n",
       "* [The Binder Federation](https://discourse.jupyter.org/t/the-binder-federation) (14 posts)\n",
       "* [PyCon 2019 and mybinder.org](https://discourse.jupyter.org/t/pycon-2019-and-mybinder-org) (17 posts)\n",
       "* [Microsoft Word Integration (Intern Project)](https://discourse.jupyter.org/t/microsoft-word-integration-intern-project) (17 posts)\n",
       "* [Jupyter community workshop: proposal on diversity, inclusion and accessibility](https://discourse.jupyter.org/t/jupyter-community-workshop-proposal-on-diversity-inclusion-and-accessibility) (20 posts)\n",
       "* [Sunset the GitHub repo jupyter/help?](https://discourse.jupyter.org/t/sunset-the-github-repo-jupyter-help) (17 posts)"
      ],
      "text/plain": [
       "<IPython.core.display.Markdown object>"
      ]
     },
     "execution_count": 8,
     "metadata": {},
     "output_type": "execute_result"
    }
   ],
   "source": [
    "params = {\"order\": \"likes\", \"ascending\": \"False\"}\n",
    "resp = requests.get(url, headers=api, params=params)\n",
    "\n",
    "# Topics with the most likes in recent history\n",
    "liked = pd.DataFrame(resp.json()['topic_list']['topics'])\n",
    "Markdown(topics_to_markdown(liked))"
   ]
  },
  {
   "cell_type": "markdown",
   "metadata": {
    "papermill": {
     "duration": 0.15229,
     "end_time": "2019-07-22T16:02:27.490426",
     "exception": false,
     "start_time": "2019-07-22T16:02:27.338136",
     "status": "completed"
    },
    "tags": []
   },
   "source": [
    "## Active topics on the Community Forum\n",
    "\n",
    "These are topics with lots of activity in recent history."
   ]
  },
  {
   "cell_type": "code",
   "execution_count": 9,
   "metadata": {
    "papermill": {
     "duration": 12.810633,
     "end_time": "2019-07-22T16:02:40.369271",
     "exception": false,
     "start_time": "2019-07-22T16:02:27.558638",
     "status": "completed"
    },
    "tags": [
     "hide_input"
    ]
   },
   "outputs": [
    {
     "data": {
      "text/markdown": [
       "* [Introduce yourself!](https://discourse.jupyter.org/t/introduce-yourself) (101 posts)\n",
       "* [{WIP} Re-Design of Jupyter.org Website](https://discourse.jupyter.org/t/wip-re-design-of-jupyter-org-website) (53 posts)\n",
       "* [Tip: embed custom github content in a Binder link with nbgitpuller](https://discourse.jupyter.org/t/tip-embed-custom-github-content-in-a-binder-link-with-nbgitpuller) (52 posts)\n",
       "* [Would a &ldquo;The Littlest Binder&rdquo; be useful?](https://discourse.jupyter.org/t/would-a-the-littlest-binder-be-useful) (31 posts)\n",
       "* [Jupyter Community Calls](https://discourse.jupyter.org/t/jupyter-community-calls) (28 posts)\n",
       "* [Plugins of considerations](https://discourse.jupyter.org/t/plugins-of-considerations) (28 posts)\n",
       "* [A proposal for JupyterHub communications](https://discourse.jupyter.org/t/a-proposal-for-jupyterhub-communications) (26 posts)\n",
       "* [Binder/BinderHub Workshops &ndash; Help Wanted!](https://discourse.jupyter.org/t/binder-binderhub-workshops-help-wanted) (25 posts)\n",
       "* [Help us choose an updated &ldquo;Launch Binder&rdquo; badge!](https://discourse.jupyter.org/t/help-us-choose-an-updated-launch-binder-badge) (21 posts)\n",
       "* [Rename this category to Jupyter Server?](https://discourse.jupyter.org/t/rename-this-category-to-jupyter-server) (21 posts)"
      ],
      "text/plain": [
       "<IPython.core.display.Markdown object>"
      ]
     },
     "execution_count": 9,
     "metadata": {},
     "output_type": "execute_result"
    }
   ],
   "source": [
    "params = {\"order\": \"posts\", \"ascending\": \"False\"}\n",
    "resp = requests.get(url, headers=api, params=params)\n",
    "\n",
    "# Topics with the most posts in recent history\n",
    "posts = pd.DataFrame(resp.json()['topic_list']['topics'])\n",
    "Markdown(topics_to_markdown(posts))"
   ]
  },
  {
   "cell_type": "code",
   "execution_count": 10,
   "metadata": {
    "papermill": {
     "duration": 0.219909,
     "end_time": "2019-07-22T16:02:40.687532",
     "exception": false,
     "start_time": "2019-07-22T16:02:40.467623",
     "status": "completed"
    },
    "tags": [
     "hide_input"
    ]
   },
   "outputs": [
    {
     "data": {
      "application/vnd.vegalite.v3+json": {
       "$schema": "https://vega.github.io/schema/vega-lite/v3.3.0.json",
       "config": {
        "mark": {
         "tooltip": null
        },
        "view": {
         "height": 300,
         "width": 400
        }
       },
       "data": {
        "name": "data-246f6fa531294d06dadd1e39255143dc"
       },
       "datasets": {
        "data-246f6fa531294d06dadd1e39255143dc": [
         {
          "bookmarked": 2,
          "category_id": "accessibility",
          "parent/category": "Special Topics/accessibility",
          "parent_category": "Special Topics"
         },
         {
          "bookmarked": 1,
          "category_id": "Admin requests",
          "parent/category": "Site Feedback/Admin requests",
          "parent_category": "Site Feedback"
         },
         {
          "bookmarked": 5,
          "category_id": "Meta",
          "parent/category": "Meta/Meta",
          "parent_category": "Meta"
         },
         {
          "bookmarked": 1,
          "category_id": "announcements",
          "parent/category": "Meta/announcements",
          "parent_category": "Meta"
         },
         {
          "bookmarked": 1,
          "category_id": "JupyterLab",
          "parent/category": "JupyterLab/JupyterLab",
          "parent_category": "JupyterLab"
         },
         {
          "bookmarked": 2,
          "category_id": "discuss",
          "parent/category": "JupyterHub/discuss",
          "parent_category": "JupyterHub"
         },
         {
          "bookmarked": 1,
          "category_id": "JupyterHub",
          "parent/category": "JupyterHub/JupyterHub",
          "parent_category": "JupyterHub"
         },
         {
          "bookmarked": 2,
          "category_id": "Enterprise Gateway",
          "parent/category": "Enterprise Gateway/Enterprise Gateway",
          "parent_category": "Enterprise Gateway"
         },
         {
          "bookmarked": 3,
          "category_id": "Community Chat",
          "parent/category": "Community Chat/Community Chat",
          "parent_category": "Community Chat"
         },
         {
          "bookmarked": 6,
          "category_id": "discuss",
          "parent/category": "Binder/discuss",
          "parent_category": "Binder"
         },
         {
          "bookmarked": 4,
          "category_id": "Binder",
          "parent/category": "Binder/Binder",
          "parent_category": "Binder"
         },
         {
          "bookmarked": 2,
          "category_id": "BinderHub",
          "parent/category": "Binder/BinderHub",
          "parent_category": "Binder"
         }
        ]
       },
       "encoding": {
        "color": {
         "field": "parent_category",
         "type": "nominal"
        },
        "x": {
         "field": "parent/category",
         "sort": [
          "accessibility",
          "Admin requests",
          "Meta",
          "announcements",
          "JupyterLab",
          "discuss",
          "JupyterHub",
          "Enterprise Gateway",
          "Community Chat",
          "discuss",
          "Binder",
          "BinderHub"
         ],
         "type": "nominal"
        },
        "y": {
         "field": "bookmarked",
         "type": "quantitative"
        }
       },
       "height": 300,
       "mark": "bar",
       "title": "Activity by category",
       "width": 700
      },
      "text/plain": [
       "<VegaLite 3 object>\n",
       "\n",
       "If you see this message, it means the renderer has not been properly enabled\n",
       "for the frontend that you are using. For more information, see\n",
       "https://altair-viz.github.io/user_guide/troubleshooting.html\n"
      ]
     },
     "execution_count": 10,
     "metadata": {},
     "output_type": "execute_result"
    }
   ],
   "source": [
    "counts = counts_from_activity(posts)\n",
    "alt.Chart(data=counts, width=700, height=300, title=\"Activity by category\").mark_bar().encode(\n",
    "    x=alt.X(\"parent/category\", sort=alt.Sort(counts['category_id'].values.tolist())),\n",
    "    y=\"bookmarked\",\n",
    "    color=\"parent_category\"\n",
    ")"
   ]
  },
  {
   "cell_type": "markdown",
   "metadata": {
    "papermill": {
     "duration": 0.042256,
     "end_time": "2019-07-22T16:02:40.775933",
     "exception": false,
     "start_time": "2019-07-22T16:02:40.733677",
     "status": "completed"
    },
    "tags": []
   },
   "source": [
    "## Recently-created topics\n",
    "\n",
    "These are topics that were recently created, sorted by the amount of activity\n",
    "in each one."
   ]
  },
  {
   "cell_type": "code",
   "execution_count": 11,
   "metadata": {
    "papermill": {
     "duration": 24.438526,
     "end_time": "2019-07-22T16:03:05.265567",
     "exception": false,
     "start_time": "2019-07-22T16:02:40.827041",
     "status": "completed"
    },
    "tags": [
     "hide_input"
    ]
   },
   "outputs": [
    {
     "data": {
      "text/markdown": [
       "* [What happens when the Hub restarts?](https://discourse.jupyter.org/t/what-happens-when-the-hub-restarts) (7 posts)\n",
       "* [Guidance for local Jupyter Days events](https://discourse.jupyter.org/t/guidance-for-local-jupyter-days-events) (5 posts)\n",
       "* [Extension development very slow](https://discourse.jupyter.org/t/extension-development-very-slow) (5 posts)\n",
       "* [MP Workshop on MyBinder](https://discourse.jupyter.org/t/mp-workshop-on-mybinder) (4 posts)\n",
       "* [Resources for giving talks about the JupyterHub and Binder projects](https://discourse.jupyter.org/t/resources-for-giving-talks-about-the-jupyterhub-and-binder-projects) (4 posts)\n",
       "* [Ipywidgets for jupyterlab 1.0](https://discourse.jupyter.org/t/ipywidgets-for-jupyterlab-1-0) (3 posts)\n",
       "* [What is the best way to add numbers to equations in a Markdown cell in a Jupyter Lab notebook?](https://discourse.jupyter.org/t/what-is-the-best-way-to-add-numbers-to-equations-in-a-markdown-cell-in-a-jupyter-lab-notebook) (3 posts)\n",
       "* [Binder workshop Sun. July 21, 9 am to 1 pm Swiss time: ~50 users](https://discourse.jupyter.org/t/binder-workshop-sun-july-21-9-am-to-1-pm-swiss-time-50-users) (3 posts)\n",
       "* [How do I enable a bash kernel?](https://discourse.jupyter.org/t/how-do-i-enable-a-bash-kernel) (3 posts)\n",
       "* [Can one display bullet points under plots using jupyter slides?](https://discourse.jupyter.org/t/can-one-display-bullet-points-under-plots-using-jupyter-slides) (2 posts)"
      ],
      "text/plain": [
       "<IPython.core.display.Markdown object>"
      ]
     },
     "execution_count": 11,
     "metadata": {},
     "output_type": "execute_result"
    }
   ],
   "source": [
    "params = {\"order\": \"created\", \"ascending\": \"False\"}\n",
    "resp = requests.get(url, headers=api, params=params)\n",
    "\n",
    "# Sort created by the most posted for recently-created posts\n",
    "created = pd.DataFrame(resp.json()['topic_list']['topics'])\n",
    "created = created.sort_values('posts_count', ascending=False)\n",
    "Markdown(topics_to_markdown(created))"
   ]
  },
  {
   "cell_type": "code",
   "execution_count": 12,
   "metadata": {
    "papermill": {
     "duration": 0.21961,
     "end_time": "2019-07-22T16:03:05.542635",
     "exception": false,
     "start_time": "2019-07-22T16:03:05.323025",
     "status": "completed"
    },
    "tags": [
     "hide_input"
    ]
   },
   "outputs": [
    {
     "data": {
      "application/vnd.vegalite.v3+json": {
       "$schema": "https://vega.github.io/schema/vega-lite/v3.3.0.json",
       "config": {
        "mark": {
         "tooltip": null
        },
        "view": {
         "height": 300,
         "width": 400
        }
       },
       "data": {
        "name": "data-6b4217d4e7f2a44e30c3862bd49a1b0a"
       },
       "datasets": {
        "data-6b4217d4e7f2a44e30c3862bd49a1b0a": [
         {
          "bookmarked": 2,
          "category_id": "Q&A",
          "parent/category": "Q&A/Q&A",
          "parent_category": "Q&A"
         },
         {
          "bookmarked": 2,
          "category_id": "Notebook",
          "parent/category": "Notebook/Notebook",
          "parent_category": "Notebook"
         },
         {
          "bookmarked": 4,
          "category_id": "JupyterLab",
          "parent/category": "JupyterLab/JupyterLab",
          "parent_category": "JupyterLab"
         },
         {
          "bookmarked": 2,
          "category_id": "team",
          "parent/category": "JupyterHub/team",
          "parent_category": "JupyterHub"
         },
         {
          "bookmarked": 1,
          "category_id": "Zero to JupyterHub on Kubernetes",
          "parent/category": "JupyterHub/Zero to JupyterHub on Kubernetes",
          "parent_category": "JupyterHub"
         },
         {
          "bookmarked": 1,
          "category_id": "JupyterHub",
          "parent/category": "JupyterHub/JupyterHub",
          "parent_category": "JupyterHub"
         },
         {
          "bookmarked": 0,
          "category_id": "The Littlest JupyterHub",
          "parent/category": "JupyterHub/The Littlest JupyterHub",
          "parent_category": "JupyterHub"
         },
         {
          "bookmarked": 1,
          "category_id": "Community Chat",
          "parent/category": "Community Chat/Community Chat",
          "parent_category": "Community Chat"
         },
         {
          "bookmarked": 1,
          "category_id": "discuss",
          "parent/category": "Binder/discuss",
          "parent_category": "Binder"
         },
         {
          "bookmarked": 1,
          "category_id": "mybinder.org ops",
          "parent/category": "Binder/mybinder.org ops",
          "parent_category": "Binder"
         },
         {
          "bookmarked": 0,
          "category_id": "repo help",
          "parent/category": "Binder/repo help",
          "parent_category": "Binder"
         }
        ]
       },
       "encoding": {
        "color": {
         "field": "parent_category",
         "type": "nominal"
        },
        "x": {
         "field": "parent/category",
         "sort": [
          "Q&A",
          "Notebook",
          "JupyterLab",
          "team",
          "Zero to JupyterHub on Kubernetes",
          "JupyterHub",
          "The Littlest JupyterHub",
          "Community Chat",
          "discuss",
          "mybinder.org ops",
          "repo help"
         ],
         "type": "nominal"
        },
        "y": {
         "field": "bookmarked",
         "type": "quantitative"
        }
       },
       "height": 300,
       "mark": "bar",
       "title": "Activity by category",
       "width": 700
      },
      "text/plain": [
       "<VegaLite 3 object>\n",
       "\n",
       "If you see this message, it means the renderer has not been properly enabled\n",
       "for the frontend that you are using. For more information, see\n",
       "https://altair-viz.github.io/user_guide/troubleshooting.html\n"
      ]
     },
     "execution_count": 12,
     "metadata": {},
     "output_type": "execute_result"
    }
   ],
   "source": [
    "counts = counts_from_activity(created)\n",
    "alt.Chart(data=counts, width=700, height=300, title=\"Activity by category\").mark_bar().encode(\n",
    "    x=alt.X(\"parent/category\", sort=alt.Sort(counts['category_id'].values.tolist())),\n",
    "    y=\"bookmarked\",\n",
    "    color=\"parent_category\"\n",
    ")"
   ]
  },
  {
   "cell_type": "markdown",
   "metadata": {
    "papermill": {
     "duration": 0.067307,
     "end_time": "2019-07-22T16:03:05.680065",
     "exception": false,
     "start_time": "2019-07-22T16:03:05.612758",
     "status": "completed"
    },
    "tags": []
   },
   "source": [
    "## User activity in the Community Forum\n",
    "\n",
    "**Top posters**\n",
    "\n",
    "These people have posted lots of comments, replies, answers, etc in the community forum."
   ]
  },
  {
   "cell_type": "code",
   "execution_count": 13,
   "metadata": {
    "papermill": {
     "duration": 0.108611,
     "end_time": "2019-07-22T16:03:05.858105",
     "exception": false,
     "start_time": "2019-07-22T16:03:05.749494",
     "status": "completed"
    },
    "tags": []
   },
   "outputs": [],
   "source": [
    "def plot_user_data(users, column, sort=False):\n",
    "    plt_data = users.sort_values(column, ascending=False).head(50)\n",
    "    x = alt.X(\"username\", sort=plt_data['username'].tolist()) if sort is True else 'username'\n",
    "    ch = alt.Chart(data=plt_data).mark_bar().encode(\n",
    "        x=x,\n",
    "        y=column\n",
    "    )\n",
    "    return ch"
   ]
  },
  {
   "cell_type": "code",
   "execution_count": 14,
   "metadata": {
    "papermill": {
     "duration": 2.297363,
     "end_time": "2019-07-22T16:03:08.240916",
     "exception": false,
     "start_time": "2019-07-22T16:03:05.943553",
     "status": "completed"
    },
    "tags": []
   },
   "outputs": [],
   "source": [
    "url = \"https://discourse.jupyter.org/directory_items.json\"\n",
    "params = {\"period\": \"quarterly\", \"order\": \"post_count\"}\n",
    "resp = requests.get(url, headers=api, params=params)\n",
    "\n",
    "# Topics with the most likes in recent history\n",
    "users = pd.DataFrame(resp.json()['directory_items'])\n",
    "users['username'] = users['user'].map(lambda a: a['username'])"
   ]
  },
  {
   "cell_type": "code",
   "execution_count": 15,
   "metadata": {
    "papermill": {
     "duration": 0.152075,
     "end_time": "2019-07-22T16:03:08.509502",
     "exception": false,
     "start_time": "2019-07-22T16:03:08.357427",
     "status": "completed"
    },
    "tags": []
   },
   "outputs": [
    {
     "data": {
      "application/vnd.vegalite.v3+json": {
       "$schema": "https://vega.github.io/schema/vega-lite/v3.3.0.json",
       "config": {
        "mark": {
         "tooltip": null
        },
        "view": {
         "height": 300,
         "width": 400
        }
       },
       "data": {
        "name": "data-968f163e13e5b9c39b5f7e0cdc32bffa"
       },
       "datasets": {
        "data-968f163e13e5b9c39b5f7e0cdc32bffa": [
         {
          "days_visited": 79,
          "id": 6,
          "likes_given": 233,
          "likes_received": 128,
          "post_count": 166,
          "posts_read": 1458,
          "topic_count": 15,
          "topics_entered": 349,
          "user": {
           "avatar_template": "/user_avatar/discourse.jupyter.org/betatim/{size}/10_2.png",
           "id": 6,
           "name": "Tim Head",
           "title": "",
           "username": "betatim"
          },
          "username": "betatim"
         },
         {
          "days_visited": 90,
          "id": 3,
          "likes_given": 206,
          "likes_received": 121,
          "post_count": 140,
          "posts_read": 1019,
          "topic_count": 34,
          "topics_entered": 266,
          "user": {
           "avatar_template": "/user_avatar/discourse.jupyter.org/choldgraf/{size}/12_2.png",
           "id": 3,
           "name": "Chris Holdgraf",
           "title": "Regular",
           "username": "choldgraf"
          },
          "username": "choldgraf"
         },
         {
          "days_visited": 67,
          "id": 24,
          "likes_given": 17,
          "likes_received": 57,
          "post_count": 76,
          "posts_read": 697,
          "topic_count": 7,
          "topics_entered": 269,
          "user": {
           "avatar_template": "/user_avatar/discourse.jupyter.org/psychemedia/{size}/24_2.png",
           "id": 24,
           "name": "Tony Hirst",
           "title": null,
           "username": "psychemedia"
          },
          "username": "psychemedia"
         },
         {
          "days_visited": 86,
          "id": 8,
          "likes_given": 10,
          "likes_received": 63,
          "post_count": 55,
          "posts_read": 829,
          "topic_count": 4,
          "topics_entered": 194,
          "user": {
           "avatar_template": "/user_avatar/discourse.jupyter.org/minrk/{size}/13_2.png",
           "id": 8,
           "name": "Min RK",
           "title": null,
           "username": "minrk"
          },
          "username": "minrk"
         },
         {
          "days_visited": 77,
          "id": 116,
          "likes_given": 23,
          "likes_received": 55,
          "post_count": 48,
          "posts_read": 668,
          "topic_count": 7,
          "topics_entered": 126,
          "user": {
           "avatar_template": "/user_avatar/discourse.jupyter.org/sgibson91/{size}/487_2.png",
           "id": 116,
           "name": "Sarah Gibson",
           "title": "",
           "username": "sgibson91"
          },
          "username": "sgibson91"
         },
         {
          "days_visited": 64,
          "id": 12,
          "likes_given": 9,
          "likes_received": 45,
          "post_count": 47,
          "posts_read": 857,
          "topic_count": 7,
          "topics_entered": 155,
          "user": {
           "avatar_template": "/user_avatar/discourse.jupyter.org/yuvipanda/{size}/17_2.png",
           "id": 12,
           "name": "Yuvi Panda",
           "title": null,
           "username": "yuvipanda"
          },
          "username": "yuvipanda"
         },
         {
          "days_visited": 74,
          "id": 73,
          "likes_given": 18,
          "likes_received": 31,
          "post_count": 33,
          "posts_read": 1577,
          "topic_count": 2,
          "topics_entered": 338,
          "user": {
           "avatar_template": "/user_avatar/discourse.jupyter.org/manics/{size}/85_2.png",
           "id": 73,
           "name": "Simon",
           "title": null,
           "username": "manics"
          },
          "username": "manics"
         },
         {
          "days_visited": 14,
          "id": 220,
          "likes_given": 1,
          "likes_received": 24,
          "post_count": 27,
          "posts_read": 188,
          "topic_count": 1,
          "topics_entered": 56,
          "user": {
           "avatar_template": "/user_avatar/discourse.jupyter.org/jasongrout/{size}/371_2.png",
           "id": 220,
           "name": "Jason Grout",
           "title": null,
           "username": "jasongrout"
          },
          "username": "jasongrout"
         },
         {
          "days_visited": 55,
          "id": 99,
          "likes_given": 38,
          "likes_received": 16,
          "post_count": 21,
          "posts_read": 508,
          "topic_count": 2,
          "topics_entered": 104,
          "user": {
           "avatar_template": "/user_avatar/discourse.jupyter.org/zsailer/{size}/106_2.png",
           "id": 99,
           "name": "Zachary Sailer",
           "title": null,
           "username": "Zsailer"
          },
          "username": "Zsailer"
         },
         {
          "days_visited": 33,
          "id": 485,
          "likes_given": 47,
          "likes_received": 20,
          "post_count": 21,
          "posts_read": 268,
          "topic_count": 1,
          "topics_entered": 54,
          "user": {
           "avatar_template": "/user_avatar/discourse.jupyter.org/rolweber/{size}/657_2.png",
           "id": 485,
           "name": "Roland Weber",
           "title": null,
           "username": "rolweber"
          },
          "username": "rolweber"
         },
         {
          "days_visited": 60,
          "id": 239,
          "likes_given": 4,
          "likes_received": 9,
          "post_count": 21,
          "posts_read": 421,
          "topic_count": 0,
          "topics_entered": 128,
          "user": {
           "avatar_template": "/user_avatar/discourse.jupyter.org/jhermann/{size}/257_2.png",
           "id": 239,
           "name": "Jürgen Hermann",
           "title": null,
           "username": "jhermann"
          },
          "username": "jhermann"
         },
         {
          "days_visited": 80,
          "id": 30,
          "likes_given": 75,
          "likes_received": 19,
          "post_count": 20,
          "posts_read": 326,
          "topic_count": 2,
          "topics_entered": 65,
          "user": {
           "avatar_template": "/user_avatar/discourse.jupyter.org/consideratio/{size}/30_2.png",
           "id": 30,
           "name": "Erik Sundell",
           "title": null,
           "username": "consideRatio"
          },
          "username": "consideRatio"
         },
         {
          "days_visited": 18,
          "id": 234,
          "likes_given": 5,
          "likes_received": 3,
          "post_count": 16,
          "posts_read": 84,
          "topic_count": 3,
          "topics_entered": 10,
          "user": {
           "avatar_template": "/user_avatar/discourse.jupyter.org/fmaussion/{size}/390_2.png",
           "id": 234,
           "name": "Fabien Maussion",
           "title": null,
           "username": "fmaussion"
          },
          "username": "fmaussion"
         },
         {
          "days_visited": 34,
          "id": 217,
          "likes_given": 18,
          "likes_received": 4,
          "post_count": 15,
          "posts_read": 188,
          "topic_count": 0,
          "topics_entered": 34,
          "user": {
           "avatar_template": "/user_avatar/discourse.jupyter.org/kevin-bates/{size}/234_2.png",
           "id": 217,
           "name": "Kevin Bates",
           "title": null,
           "username": "kevin-bates"
          },
          "username": "kevin-bates"
         },
         {
          "days_visited": 34,
          "id": 372,
          "likes_given": 6,
          "likes_received": 13,
          "post_count": 14,
          "posts_read": 210,
          "topic_count": 2,
          "topics_entered": 32,
          "user": {
           "avatar_template": "/user_avatar/discourse.jupyter.org/davclark/{size}/489_2.png",
           "id": 372,
           "name": "Dav Clark",
           "title": null,
           "username": "davclark"
          },
          "username": "davclark"
         },
         {
          "days_visited": 67,
          "id": 11,
          "likes_given": 60,
          "likes_received": 11,
          "post_count": 14,
          "posts_read": 873,
          "topic_count": 1,
          "topics_entered": 195,
          "user": {
           "avatar_template": "/user_avatar/discourse.jupyter.org/fomightez/{size}/495_2.png",
           "id": 11,
           "name": "Wayne",
           "title": null,
           "username": "fomightez"
          },
          "username": "fomightez"
         },
         {
          "days_visited": 86,
          "id": 77,
          "likes_given": 7,
          "likes_received": 12,
          "post_count": 14,
          "posts_read": 837,
          "topic_count": 0,
          "topics_entered": 176,
          "user": {
           "avatar_template": "/user_avatar/discourse.jupyter.org/jtp/{size}/882_2.png",
           "id": 77,
           "name": "Jeremy Tuloup",
           "title": "",
           "username": "jtp"
          },
          "username": "jtp"
         },
         {
          "days_visited": 32,
          "id": 419,
          "likes_given": 0,
          "likes_received": 3,
          "post_count": 14,
          "posts_read": 78,
          "topic_count": 7,
          "topics_entered": 21,
          "user": {
           "avatar_template": "/user_avatar/discourse.jupyter.org/alvinhuff/{size}/550_2.png",
           "id": 419,
           "name": "Alvin Huff",
           "title": null,
           "username": "alvinhuff"
          },
          "username": "alvinhuff"
         },
         {
          "days_visited": 27,
          "id": 60,
          "likes_given": 11,
          "likes_received": 8,
          "post_count": 12,
          "posts_read": 334,
          "topic_count": 0,
          "topics_entered": 47,
          "user": {
           "avatar_template": "/user_avatar/discourse.jupyter.org/fm75/{size}/71_2.png",
           "id": 60,
           "name": "Fred Mitchell",
           "title": "",
           "username": "fm75"
          },
          "username": "fm75"
         },
         {
          "days_visited": 13,
          "id": 390,
          "likes_given": 2,
          "likes_received": 1,
          "post_count": 11,
          "posts_read": 79,
          "topic_count": 8,
          "topics_entered": 28,
          "user": {
           "avatar_template": "https://avatars.discourse.org/v4/letter/e/9de0a6/{size}.png",
           "id": 390,
           "name": "Ernst",
           "title": null,
           "username": "ernstch"
          },
          "username": "ernstch"
         },
         {
          "days_visited": 37,
          "id": 432,
          "likes_given": 28,
          "likes_received": 6,
          "post_count": 10,
          "posts_read": 274,
          "topic_count": 2,
          "topics_entered": 64,
          "user": {
           "avatar_template": "/user_avatar/discourse.jupyter.org/ondrejj/{size}/567_2.png",
           "id": 432,
           "name": "Ondřej ",
           "title": null,
           "username": "ondrejj"
          },
          "username": "ondrejj"
         },
         {
          "days_visited": 20,
          "id": 34,
          "likes_given": 2,
          "likes_received": 16,
          "post_count": 9,
          "posts_read": 148,
          "topic_count": 3,
          "topics_entered": 14,
          "user": {
           "avatar_template": "/user_avatar/discourse.jupyter.org/danielballan/{size}/34_2.png",
           "id": 34,
           "name": "Dan Allan",
           "title": null,
           "username": "danielballan"
          },
          "username": "danielballan"
         },
         {
          "days_visited": 9,
          "id": 679,
          "likes_given": 1,
          "likes_received": 10,
          "post_count": 9,
          "posts_read": 87,
          "topic_count": 0,
          "topics_entered": 18,
          "user": {
           "avatar_template": "/user_avatar/discourse.jupyter.org/bollwyvl/{size}/904_2.png",
           "id": 679,
           "name": "Nicholas Bollweg",
           "title": null,
           "username": "bollwyvl"
          },
          "username": "bollwyvl"
         },
         {
          "days_visited": 46,
          "id": 222,
          "likes_given": 5,
          "likes_received": 14,
          "post_count": 9,
          "posts_read": 145,
          "topic_count": 2,
          "topics_entered": 19,
          "user": {
           "avatar_template": "https://avatars.discourse.org/v4/letter/t/f05b48/{size}.png",
           "id": 222,
           "name": "Timothy George",
           "title": null,
           "username": "tgeorgeux"
          },
          "username": "tgeorgeux"
         },
         {
          "days_visited": 8,
          "id": 556,
          "likes_given": 3,
          "likes_received": 6,
          "post_count": 8,
          "posts_read": 70,
          "topic_count": 0,
          "topics_entered": 12,
          "user": {
           "avatar_template": "/user_avatar/discourse.jupyter.org/blink1073/{size}/791_2.png",
           "id": 556,
           "name": "Steven Silvester",
           "title": null,
           "username": "blink1073"
          },
          "username": "blink1073"
         },
         {
          "days_visited": 9,
          "id": 686,
          "likes_given": 0,
          "likes_received": 3,
          "post_count": 8,
          "posts_read": 92,
          "topic_count": 3,
          "topics_entered": 29,
          "user": {
           "avatar_template": "https://avatars.discourse.org/v4/letter/s/22d042/{size}.png",
           "id": 686,
           "name": "DAVID OHLEMACHER",
           "title": null,
           "username": "sqqqrly"
          },
          "username": "sqqqrly"
         },
         {
          "days_visited": 9,
          "id": 254,
          "likes_given": 9,
          "likes_received": 1,
          "post_count": 8,
          "posts_read": 92,
          "topic_count": 0,
          "topics_entered": 10,
          "user": {
           "avatar_template": "/user_avatar/discourse.jupyter.org/mathematicalmichael/{size}/322_2.png",
           "id": 254,
           "name": "Michael Pilosov",
           "title": null,
           "username": "mathematicalmichael"
          },
          "username": "mathematicalmichael"
         },
         {
          "days_visited": 10,
          "id": 510,
          "likes_given": 0,
          "likes_received": 6,
          "post_count": 8,
          "posts_read": 10,
          "topic_count": 2,
          "topics_entered": 4,
          "user": {
           "avatar_template": "https://avatars.discourse.org/v4/letter/l/ac8455/{size}.png",
           "id": 510,
           "name": "Lorankary",
           "title": null,
           "username": "lorankary"
          },
          "username": "lorankary"
         },
         {
          "days_visited": 14,
          "id": 9,
          "likes_given": 0,
          "likes_received": 9,
          "post_count": 7,
          "posts_read": 93,
          "topic_count": 1,
          "topics_entered": 15,
          "user": {
           "avatar_template": "/user_avatar/discourse.jupyter.org/ellisonbg/{size}/14_2.png",
           "id": 9,
           "name": "Brian Granger",
           "title": null,
           "username": "ellisonbg"
          },
          "username": "ellisonbg"
         },
         {
          "days_visited": 11,
          "id": 71,
          "likes_given": 0,
          "likes_received": 4,
          "post_count": 7,
          "posts_read": 76,
          "topic_count": 1,
          "topics_entered": 6,
          "user": {
           "avatar_template": "/user_avatar/discourse.jupyter.org/nuest/{size}/82_2.png",
           "id": 71,
           "name": "Daniel Nüst",
           "title": null,
           "username": "nuest"
          },
          "username": "nuest"
         },
         {
          "days_visited": 11,
          "id": 566,
          "likes_given": 0,
          "likes_received": 1,
          "post_count": 7,
          "posts_read": 32,
          "topic_count": 2,
          "topics_entered": 9,
          "user": {
           "avatar_template": "/user_avatar/discourse.jupyter.org/shreyas_cholia/{size}/784_2.png",
           "id": 566,
           "name": "Shreyas Cholia",
           "title": null,
           "username": "Shreyas_Cholia"
          },
          "username": "Shreyas_Cholia"
         },
         {
          "days_visited": 23,
          "id": 333,
          "likes_given": 11,
          "likes_received": 3,
          "post_count": 7,
          "posts_read": 43,
          "topic_count": 0,
          "topics_entered": 2,
          "user": {
           "avatar_template": "/user_avatar/discourse.jupyter.org/cmbui/{size}/436_2.png",
           "id": 333,
           "name": "Christina",
           "title": null,
           "username": "cmbui"
          },
          "username": "cmbui"
         },
         {
          "days_visited": 18,
          "id": 462,
          "likes_given": 0,
          "likes_received": 1,
          "post_count": 7,
          "posts_read": 73,
          "topic_count": 3,
          "topics_entered": 13,
          "user": {
           "avatar_template": "https://avatars.discourse.org/v4/letter/r/6f9a4e/{size}.png",
           "id": 462,
           "name": "Rahul Dave",
           "title": null,
           "username": "rahuldave"
          },
          "username": "rahuldave"
         },
         {
          "days_visited": 15,
          "id": 227,
          "likes_given": 9,
          "likes_received": 2,
          "post_count": 7,
          "posts_read": 207,
          "topic_count": 0,
          "topics_entered": 42,
          "user": {
           "avatar_template": "/user_avatar/discourse.jupyter.org/sterlinm/{size}/241_2.png",
           "id": 227,
           "name": "Michael",
           "title": null,
           "username": "sterlinm"
          },
          "username": "sterlinm"
         },
         {
          "days_visited": 14,
          "id": 487,
          "likes_given": 0,
          "likes_received": 0,
          "post_count": 7,
          "posts_read": 83,
          "topic_count": 4,
          "topics_entered": 25,
          "user": {
           "avatar_template": "/user_avatar/discourse.jupyter.org/d4rkm4atter/{size}/663_2.png",
           "id": 487,
           "name": "",
           "title": null,
           "username": "D4rkM4atter"
          },
          "username": "D4rkM4atter"
         },
         {
          "days_visited": 26,
          "id": 134,
          "likes_given": 5,
          "likes_received": 17,
          "post_count": 6,
          "posts_read": 282,
          "topic_count": 3,
          "topics_entered": 57,
          "user": {
           "avatar_template": "/user_avatar/discourse.jupyter.org/lresende/{size}/239_2.png",
           "id": 134,
           "name": "Luciano Resende",
           "title": "",
           "username": "lresende"
          },
          "username": "lresende"
         },
         {
          "days_visited": 51,
          "id": 303,
          "likes_given": 5,
          "likes_received": 3,
          "post_count": 6,
          "posts_read": 216,
          "topic_count": 1,
          "topics_entered": 48,
          "user": {
           "avatar_template": "/user_avatar/discourse.jupyter.org/ian-r-rose/{size}/638_2.png",
           "id": 303,
           "name": "Ian Rose",
           "title": null,
           "username": "ian-r-rose"
          },
          "username": "ian-r-rose"
         },
         {
          "days_visited": 11,
          "id": 145,
          "likes_given": 0,
          "likes_received": 7,
          "post_count": 6,
          "posts_read": 43,
          "topic_count": 3,
          "topics_entered": 9,
          "user": {
           "avatar_template": "/user_avatar/discourse.jupyter.org/hhuuggoo/{size}/242_2.png",
           "id": 145,
           "name": "saturncloud.io",
           "title": "",
           "username": "hhuuggoo"
          },
          "username": "hhuuggoo"
         },
         {
          "days_visited": 17,
          "id": 4,
          "likes_given": 0,
          "likes_received": 17,
          "post_count": 6,
          "posts_read": 43,
          "topic_count": 3,
          "topics_entered": 13,
          "user": {
           "avatar_template": "/user_avatar/discourse.jupyter.org/carreau/{size}/8_2.png",
           "id": 4,
           "name": "Matthias Bussonnier",
           "title": null,
           "username": "carreau"
          },
          "username": "carreau"
         },
         {
          "days_visited": 51,
          "id": 298,
          "likes_given": 0,
          "likes_received": 4,
          "post_count": 6,
          "posts_read": 336,
          "topic_count": 0,
          "topics_entered": 74,
          "user": {
           "avatar_template": "https://avatars.discourse.org/v4/letter/q/f04885/{size}.png",
           "id": 298,
           "name": "Joe Quigley",
           "title": null,
           "username": "quigleyj-mavenomics"
          },
          "username": "quigleyj-mavenomics"
         },
         {
          "days_visited": 6,
          "id": 565,
          "likes_given": 3,
          "likes_received": 4,
          "post_count": 6,
          "posts_read": 35,
          "topic_count": 0,
          "topics_entered": 4,
          "user": {
           "avatar_template": "/user_avatar/discourse.jupyter.org/danielskatz/{size}/785_2.png",
           "id": 565,
           "name": "Daniel S. Katz",
           "title": null,
           "username": "danielskatz"
          },
          "username": "danielskatz"
         },
         {
          "days_visited": 18,
          "id": 237,
          "likes_given": 1,
          "likes_received": 25,
          "post_count": 6,
          "posts_read": 51,
          "topic_count": 4,
          "topics_entered": 12,
          "user": {
           "avatar_template": "/user_avatar/discourse.jupyter.org/mseal/{size}/253_2.png",
           "id": 237,
           "name": "Matthew Seal",
           "title": null,
           "username": "MSeal"
          },
          "username": "MSeal"
         },
         {
          "days_visited": 9,
          "id": 195,
          "likes_given": 0,
          "likes_received": 1,
          "post_count": 6,
          "posts_read": 33,
          "topic_count": 0,
          "topics_entered": 8,
          "user": {
           "avatar_template": "/user_avatar/discourse.jupyter.org/rcthomas/{size}/201_2.png",
           "id": 195,
           "name": "",
           "title": null,
           "username": "rcthomas"
          },
          "username": "rcthomas"
         },
         {
          "days_visited": 11,
          "id": 430,
          "likes_given": 2,
          "likes_received": 3,
          "post_count": 5,
          "posts_read": 41,
          "topic_count": 1,
          "topics_entered": 14,
          "user": {
           "avatar_template": "/user_avatar/discourse.jupyter.org/rokroskar/{size}/563_2.png",
           "id": 430,
           "name": "Rok Roškar",
           "title": null,
           "username": "rokroskar"
          },
          "username": "rokroskar"
         },
         {
          "days_visited": 6,
          "id": 640,
          "likes_given": 0,
          "likes_received": 0,
          "post_count": 5,
          "posts_read": 22,
          "topic_count": 1,
          "topics_entered": 5,
          "user": {
           "avatar_template": "/user_avatar/discourse.jupyter.org/stefano_fioravanzo/{size}/849_2.png",
           "id": 640,
           "name": "Stefano Fioravanzo",
           "title": null,
           "username": "Stefano_Fioravanzo"
          },
          "username": "Stefano_Fioravanzo"
         },
         {
          "days_visited": 8,
          "id": 562,
          "likes_given": 0,
          "likes_received": 0,
          "post_count": 5,
          "posts_read": 25,
          "topic_count": 0,
          "topics_entered": 4,
          "user": {
           "avatar_template": "/user_avatar/discourse.jupyter.org/shane_canon/{size}/783_2.png",
           "id": 562,
           "name": "Shane Canon",
           "title": null,
           "username": "Shane_Canon"
          },
          "username": "Shane_Canon"
         },
         {
          "days_visited": 33,
          "id": 184,
          "likes_given": 14,
          "likes_received": 2,
          "post_count": 5,
          "posts_read": 280,
          "topic_count": 1,
          "topics_entered": 45,
          "user": {
           "avatar_template": "/user_avatar/discourse.jupyter.org/emdupre/{size}/496_2.png",
           "id": 184,
           "name": "Elizabeth DuPre",
           "title": null,
           "username": "emdupre"
          },
          "username": "emdupre"
         },
         {
          "days_visited": 23,
          "id": 7,
          "likes_given": 21,
          "likes_received": 6,
          "post_count": 5,
          "posts_read": 223,
          "topic_count": 0,
          "topics_entered": 33,
          "user": {
           "avatar_template": "/user_avatar/discourse.jupyter.org/willingc/{size}/11_2.png",
           "id": 7,
           "name": "Carol Willing",
           "title": null,
           "username": "willingc"
          },
          "username": "willingc"
         },
         {
          "days_visited": 13,
          "id": 662,
          "likes_given": 9,
          "likes_received": 10,
          "post_count": 5,
          "posts_read": 156,
          "topic_count": 0,
          "topics_entered": 12,
          "user": {
           "avatar_template": "/user_avatar/discourse.jupyter.org/isabela-pf/{size}/863_2.png",
           "id": 662,
           "name": "",
           "title": "",
           "username": "isabela-pf"
          },
          "username": "isabela-pf"
         },
         {
          "days_visited": 10,
          "id": 351,
          "likes_given": 0,
          "likes_received": 6,
          "post_count": 5,
          "posts_read": 53,
          "topic_count": 1,
          "topics_entered": 12,
          "user": {
           "avatar_template": "/user_avatar/discourse.jupyter.org/henchc/{size}/452_2.png",
           "id": 351,
           "name": "Christopher Hench",
           "title": null,
           "username": "henchc"
          },
          "username": "henchc"
         }
        ]
       },
       "encoding": {
        "x": {
         "field": "username",
         "type": "nominal"
        },
        "y": {
         "field": "post_count",
         "type": "quantitative"
        }
       },
       "mark": "bar"
      },
      "text/plain": [
       "<VegaLite 3 object>\n",
       "\n",
       "If you see this message, it means the renderer has not been properly enabled\n",
       "for the frontend that you are using. For more information, see\n",
       "https://altair-viz.github.io/user_guide/troubleshooting.html\n"
      ]
     },
     "execution_count": 15,
     "metadata": {},
     "output_type": "execute_result"
    }
   ],
   "source": [
    "plot_user_data(users.head(50), 'post_count')"
   ]
  },
  {
   "cell_type": "markdown",
   "metadata": {
    "papermill": {
     "duration": 0.077904,
     "end_time": "2019-07-22T16:03:08.665571",
     "exception": false,
     "start_time": "2019-07-22T16:03:08.587667",
     "status": "completed"
    },
    "tags": []
   },
   "source": [
    "**Forum users, sorted by likes given**\n",
    "\n",
    "These are Community Forum members that \"liked\" other people's posts. We appreciate\n",
    "anybody taking the time to tell someone else they like what they're shared!"
   ]
  },
  {
   "cell_type": "code",
   "execution_count": 16,
   "metadata": {
    "papermill": {
     "duration": 0.155977,
     "end_time": "2019-07-22T16:03:08.893717",
     "exception": false,
     "start_time": "2019-07-22T16:03:08.737740",
     "status": "completed"
    },
    "tags": []
   },
   "outputs": [
    {
     "data": {
      "application/vnd.vegalite.v3+json": {
       "$schema": "https://vega.github.io/schema/vega-lite/v3.3.0.json",
       "config": {
        "mark": {
         "tooltip": null
        },
        "view": {
         "height": 300,
         "width": 400
        }
       },
       "data": {
        "name": "data-952bc2a617db0634eac3e6e7c2438ed7"
       },
       "datasets": {
        "data-952bc2a617db0634eac3e6e7c2438ed7": [
         {
          "days_visited": 79,
          "id": 6,
          "likes_given": 233,
          "likes_received": 128,
          "post_count": 166,
          "posts_read": 1458,
          "topic_count": 15,
          "topics_entered": 349,
          "user": {
           "avatar_template": "/user_avatar/discourse.jupyter.org/betatim/{size}/10_2.png",
           "id": 6,
           "name": "Tim Head",
           "title": "",
           "username": "betatim"
          },
          "username": "betatim"
         },
         {
          "days_visited": 90,
          "id": 3,
          "likes_given": 206,
          "likes_received": 121,
          "post_count": 140,
          "posts_read": 1019,
          "topic_count": 34,
          "topics_entered": 266,
          "user": {
           "avatar_template": "/user_avatar/discourse.jupyter.org/choldgraf/{size}/12_2.png",
           "id": 3,
           "name": "Chris Holdgraf",
           "title": "Regular",
           "username": "choldgraf"
          },
          "username": "choldgraf"
         },
         {
          "days_visited": 80,
          "id": 30,
          "likes_given": 75,
          "likes_received": 19,
          "post_count": 20,
          "posts_read": 326,
          "topic_count": 2,
          "topics_entered": 65,
          "user": {
           "avatar_template": "/user_avatar/discourse.jupyter.org/consideratio/{size}/30_2.png",
           "id": 30,
           "name": "Erik Sundell",
           "title": null,
           "username": "consideRatio"
          },
          "username": "consideRatio"
         },
         {
          "days_visited": 67,
          "id": 11,
          "likes_given": 60,
          "likes_received": 11,
          "post_count": 14,
          "posts_read": 873,
          "topic_count": 1,
          "topics_entered": 195,
          "user": {
           "avatar_template": "/user_avatar/discourse.jupyter.org/fomightez/{size}/495_2.png",
           "id": 11,
           "name": "Wayne",
           "title": null,
           "username": "fomightez"
          },
          "username": "fomightez"
         },
         {
          "days_visited": 33,
          "id": 485,
          "likes_given": 47,
          "likes_received": 20,
          "post_count": 21,
          "posts_read": 268,
          "topic_count": 1,
          "topics_entered": 54,
          "user": {
           "avatar_template": "/user_avatar/discourse.jupyter.org/rolweber/{size}/657_2.png",
           "id": 485,
           "name": "Roland Weber",
           "title": null,
           "username": "rolweber"
          },
          "username": "rolweber"
         },
         {
          "days_visited": 55,
          "id": 99,
          "likes_given": 38,
          "likes_received": 16,
          "post_count": 21,
          "posts_read": 508,
          "topic_count": 2,
          "topics_entered": 104,
          "user": {
           "avatar_template": "/user_avatar/discourse.jupyter.org/zsailer/{size}/106_2.png",
           "id": 99,
           "name": "Zachary Sailer",
           "title": null,
           "username": "Zsailer"
          },
          "username": "Zsailer"
         },
         {
          "days_visited": 37,
          "id": 432,
          "likes_given": 28,
          "likes_received": 6,
          "post_count": 10,
          "posts_read": 274,
          "topic_count": 2,
          "topics_entered": 64,
          "user": {
           "avatar_template": "/user_avatar/discourse.jupyter.org/ondrejj/{size}/567_2.png",
           "id": 432,
           "name": "Ondřej ",
           "title": null,
           "username": "ondrejj"
          },
          "username": "ondrejj"
         },
         {
          "days_visited": 77,
          "id": 116,
          "likes_given": 23,
          "likes_received": 55,
          "post_count": 48,
          "posts_read": 668,
          "topic_count": 7,
          "topics_entered": 126,
          "user": {
           "avatar_template": "/user_avatar/discourse.jupyter.org/sgibson91/{size}/487_2.png",
           "id": 116,
           "name": "Sarah Gibson",
           "title": "",
           "username": "sgibson91"
          },
          "username": "sgibson91"
         },
         {
          "days_visited": 23,
          "id": 7,
          "likes_given": 21,
          "likes_received": 6,
          "post_count": 5,
          "posts_read": 223,
          "topic_count": 0,
          "topics_entered": 33,
          "user": {
           "avatar_template": "/user_avatar/discourse.jupyter.org/willingc/{size}/11_2.png",
           "id": 7,
           "name": "Carol Willing",
           "title": null,
           "username": "willingc"
          },
          "username": "willingc"
         },
         {
          "days_visited": 74,
          "id": 73,
          "likes_given": 18,
          "likes_received": 31,
          "post_count": 33,
          "posts_read": 1577,
          "topic_count": 2,
          "topics_entered": 338,
          "user": {
           "avatar_template": "/user_avatar/discourse.jupyter.org/manics/{size}/85_2.png",
           "id": 73,
           "name": "Simon",
           "title": null,
           "username": "manics"
          },
          "username": "manics"
         },
         {
          "days_visited": 34,
          "id": 217,
          "likes_given": 18,
          "likes_received": 4,
          "post_count": 15,
          "posts_read": 188,
          "topic_count": 0,
          "topics_entered": 34,
          "user": {
           "avatar_template": "/user_avatar/discourse.jupyter.org/kevin-bates/{size}/234_2.png",
           "id": 217,
           "name": "Kevin Bates",
           "title": null,
           "username": "kevin-bates"
          },
          "username": "kevin-bates"
         },
         {
          "days_visited": 67,
          "id": 24,
          "likes_given": 17,
          "likes_received": 57,
          "post_count": 76,
          "posts_read": 697,
          "topic_count": 7,
          "topics_entered": 269,
          "user": {
           "avatar_template": "/user_avatar/discourse.jupyter.org/psychemedia/{size}/24_2.png",
           "id": 24,
           "name": "Tony Hirst",
           "title": null,
           "username": "psychemedia"
          },
          "username": "psychemedia"
         },
         {
          "days_visited": 33,
          "id": 184,
          "likes_given": 14,
          "likes_received": 2,
          "post_count": 5,
          "posts_read": 280,
          "topic_count": 1,
          "topics_entered": 45,
          "user": {
           "avatar_template": "/user_avatar/discourse.jupyter.org/emdupre/{size}/496_2.png",
           "id": 184,
           "name": "Elizabeth DuPre",
           "title": null,
           "username": "emdupre"
          },
          "username": "emdupre"
         },
         {
          "days_visited": 27,
          "id": 60,
          "likes_given": 11,
          "likes_received": 8,
          "post_count": 12,
          "posts_read": 334,
          "topic_count": 0,
          "topics_entered": 47,
          "user": {
           "avatar_template": "/user_avatar/discourse.jupyter.org/fm75/{size}/71_2.png",
           "id": 60,
           "name": "Fred Mitchell",
           "title": "",
           "username": "fm75"
          },
          "username": "fm75"
         },
         {
          "days_visited": 23,
          "id": 333,
          "likes_given": 11,
          "likes_received": 3,
          "post_count": 7,
          "posts_read": 43,
          "topic_count": 0,
          "topics_entered": 2,
          "user": {
           "avatar_template": "/user_avatar/discourse.jupyter.org/cmbui/{size}/436_2.png",
           "id": 333,
           "name": "Christina",
           "title": null,
           "username": "cmbui"
          },
          "username": "cmbui"
         },
         {
          "days_visited": 86,
          "id": 8,
          "likes_given": 10,
          "likes_received": 63,
          "post_count": 55,
          "posts_read": 829,
          "topic_count": 4,
          "topics_entered": 194,
          "user": {
           "avatar_template": "/user_avatar/discourse.jupyter.org/minrk/{size}/13_2.png",
           "id": 8,
           "name": "Min RK",
           "title": null,
           "username": "minrk"
          },
          "username": "minrk"
         },
         {
          "days_visited": 13,
          "id": 662,
          "likes_given": 9,
          "likes_received": 10,
          "post_count": 5,
          "posts_read": 156,
          "topic_count": 0,
          "topics_entered": 12,
          "user": {
           "avatar_template": "/user_avatar/discourse.jupyter.org/isabela-pf/{size}/863_2.png",
           "id": 662,
           "name": "",
           "title": "",
           "username": "isabela-pf"
          },
          "username": "isabela-pf"
         },
         {
          "days_visited": 15,
          "id": 227,
          "likes_given": 9,
          "likes_received": 2,
          "post_count": 7,
          "posts_read": 207,
          "topic_count": 0,
          "topics_entered": 42,
          "user": {
           "avatar_template": "/user_avatar/discourse.jupyter.org/sterlinm/{size}/241_2.png",
           "id": 227,
           "name": "Michael",
           "title": null,
           "username": "sterlinm"
          },
          "username": "sterlinm"
         },
         {
          "days_visited": 9,
          "id": 254,
          "likes_given": 9,
          "likes_received": 1,
          "post_count": 8,
          "posts_read": 92,
          "topic_count": 0,
          "topics_entered": 10,
          "user": {
           "avatar_template": "/user_avatar/discourse.jupyter.org/mathematicalmichael/{size}/322_2.png",
           "id": 254,
           "name": "Michael Pilosov",
           "title": null,
           "username": "mathematicalmichael"
          },
          "username": "mathematicalmichael"
         },
         {
          "days_visited": 64,
          "id": 12,
          "likes_given": 9,
          "likes_received": 45,
          "post_count": 47,
          "posts_read": 857,
          "topic_count": 7,
          "topics_entered": 155,
          "user": {
           "avatar_template": "/user_avatar/discourse.jupyter.org/yuvipanda/{size}/17_2.png",
           "id": 12,
           "name": "Yuvi Panda",
           "title": null,
           "username": "yuvipanda"
          },
          "username": "yuvipanda"
         },
         {
          "days_visited": 86,
          "id": 77,
          "likes_given": 7,
          "likes_received": 12,
          "post_count": 14,
          "posts_read": 837,
          "topic_count": 0,
          "topics_entered": 176,
          "user": {
           "avatar_template": "/user_avatar/discourse.jupyter.org/jtp/{size}/882_2.png",
           "id": 77,
           "name": "Jeremy Tuloup",
           "title": "",
           "username": "jtp"
          },
          "username": "jtp"
         },
         {
          "days_visited": 34,
          "id": 372,
          "likes_given": 6,
          "likes_received": 13,
          "post_count": 14,
          "posts_read": 210,
          "topic_count": 2,
          "topics_entered": 32,
          "user": {
           "avatar_template": "/user_avatar/discourse.jupyter.org/davclark/{size}/489_2.png",
           "id": 372,
           "name": "Dav Clark",
           "title": null,
           "username": "davclark"
          },
          "username": "davclark"
         },
         {
          "days_visited": 18,
          "id": 234,
          "likes_given": 5,
          "likes_received": 3,
          "post_count": 16,
          "posts_read": 84,
          "topic_count": 3,
          "topics_entered": 10,
          "user": {
           "avatar_template": "/user_avatar/discourse.jupyter.org/fmaussion/{size}/390_2.png",
           "id": 234,
           "name": "Fabien Maussion",
           "title": null,
           "username": "fmaussion"
          },
          "username": "fmaussion"
         },
         {
          "days_visited": 46,
          "id": 222,
          "likes_given": 5,
          "likes_received": 14,
          "post_count": 9,
          "posts_read": 145,
          "topic_count": 2,
          "topics_entered": 19,
          "user": {
           "avatar_template": "https://avatars.discourse.org/v4/letter/t/f05b48/{size}.png",
           "id": 222,
           "name": "Timothy George",
           "title": null,
           "username": "tgeorgeux"
          },
          "username": "tgeorgeux"
         },
         {
          "days_visited": 51,
          "id": 303,
          "likes_given": 5,
          "likes_received": 3,
          "post_count": 6,
          "posts_read": 216,
          "topic_count": 1,
          "topics_entered": 48,
          "user": {
           "avatar_template": "/user_avatar/discourse.jupyter.org/ian-r-rose/{size}/638_2.png",
           "id": 303,
           "name": "Ian Rose",
           "title": null,
           "username": "ian-r-rose"
          },
          "username": "ian-r-rose"
         },
         {
          "days_visited": 26,
          "id": 134,
          "likes_given": 5,
          "likes_received": 17,
          "post_count": 6,
          "posts_read": 282,
          "topic_count": 3,
          "topics_entered": 57,
          "user": {
           "avatar_template": "/user_avatar/discourse.jupyter.org/lresende/{size}/239_2.png",
           "id": 134,
           "name": "Luciano Resende",
           "title": "",
           "username": "lresende"
          },
          "username": "lresende"
         },
         {
          "days_visited": 60,
          "id": 239,
          "likes_given": 4,
          "likes_received": 9,
          "post_count": 21,
          "posts_read": 421,
          "topic_count": 0,
          "topics_entered": 128,
          "user": {
           "avatar_template": "/user_avatar/discourse.jupyter.org/jhermann/{size}/257_2.png",
           "id": 239,
           "name": "Jürgen Hermann",
           "title": null,
           "username": "jhermann"
          },
          "username": "jhermann"
         },
         {
          "days_visited": 8,
          "id": 556,
          "likes_given": 3,
          "likes_received": 6,
          "post_count": 8,
          "posts_read": 70,
          "topic_count": 0,
          "topics_entered": 12,
          "user": {
           "avatar_template": "/user_avatar/discourse.jupyter.org/blink1073/{size}/791_2.png",
           "id": 556,
           "name": "Steven Silvester",
           "title": null,
           "username": "blink1073"
          },
          "username": "blink1073"
         },
         {
          "days_visited": 6,
          "id": 565,
          "likes_given": 3,
          "likes_received": 4,
          "post_count": 6,
          "posts_read": 35,
          "topic_count": 0,
          "topics_entered": 4,
          "user": {
           "avatar_template": "/user_avatar/discourse.jupyter.org/danielskatz/{size}/785_2.png",
           "id": 565,
           "name": "Daniel S. Katz",
           "title": null,
           "username": "danielskatz"
          },
          "username": "danielskatz"
         },
         {
          "days_visited": 11,
          "id": 430,
          "likes_given": 2,
          "likes_received": 3,
          "post_count": 5,
          "posts_read": 41,
          "topic_count": 1,
          "topics_entered": 14,
          "user": {
           "avatar_template": "/user_avatar/discourse.jupyter.org/rokroskar/{size}/563_2.png",
           "id": 430,
           "name": "Rok Roškar",
           "title": null,
           "username": "rokroskar"
          },
          "username": "rokroskar"
         },
         {
          "days_visited": 13,
          "id": 390,
          "likes_given": 2,
          "likes_received": 1,
          "post_count": 11,
          "posts_read": 79,
          "topic_count": 8,
          "topics_entered": 28,
          "user": {
           "avatar_template": "https://avatars.discourse.org/v4/letter/e/9de0a6/{size}.png",
           "id": 390,
           "name": "Ernst",
           "title": null,
           "username": "ernstch"
          },
          "username": "ernstch"
         },
         {
          "days_visited": 20,
          "id": 34,
          "likes_given": 2,
          "likes_received": 16,
          "post_count": 9,
          "posts_read": 148,
          "topic_count": 3,
          "topics_entered": 14,
          "user": {
           "avatar_template": "/user_avatar/discourse.jupyter.org/danielballan/{size}/34_2.png",
           "id": 34,
           "name": "Dan Allan",
           "title": null,
           "username": "danielballan"
          },
          "username": "danielballan"
         },
         {
          "days_visited": 14,
          "id": 220,
          "likes_given": 1,
          "likes_received": 24,
          "post_count": 27,
          "posts_read": 188,
          "topic_count": 1,
          "topics_entered": 56,
          "user": {
           "avatar_template": "/user_avatar/discourse.jupyter.org/jasongrout/{size}/371_2.png",
           "id": 220,
           "name": "Jason Grout",
           "title": null,
           "username": "jasongrout"
          },
          "username": "jasongrout"
         },
         {
          "days_visited": 9,
          "id": 679,
          "likes_given": 1,
          "likes_received": 10,
          "post_count": 9,
          "posts_read": 87,
          "topic_count": 0,
          "topics_entered": 18,
          "user": {
           "avatar_template": "/user_avatar/discourse.jupyter.org/bollwyvl/{size}/904_2.png",
           "id": 679,
           "name": "Nicholas Bollweg",
           "title": null,
           "username": "bollwyvl"
          },
          "username": "bollwyvl"
         },
         {
          "days_visited": 18,
          "id": 237,
          "likes_given": 1,
          "likes_received": 25,
          "post_count": 6,
          "posts_read": 51,
          "topic_count": 4,
          "topics_entered": 12,
          "user": {
           "avatar_template": "/user_avatar/discourse.jupyter.org/mseal/{size}/253_2.png",
           "id": 237,
           "name": "Matthew Seal",
           "title": null,
           "username": "MSeal"
          },
          "username": "MSeal"
         },
         {
          "days_visited": 11,
          "id": 566,
          "likes_given": 0,
          "likes_received": 1,
          "post_count": 7,
          "posts_read": 32,
          "topic_count": 2,
          "topics_entered": 9,
          "user": {
           "avatar_template": "/user_avatar/discourse.jupyter.org/shreyas_cholia/{size}/784_2.png",
           "id": 566,
           "name": "Shreyas Cholia",
           "title": null,
           "username": "Shreyas_Cholia"
          },
          "username": "Shreyas_Cholia"
         },
         {
          "days_visited": 11,
          "id": 145,
          "likes_given": 0,
          "likes_received": 7,
          "post_count": 6,
          "posts_read": 43,
          "topic_count": 3,
          "topics_entered": 9,
          "user": {
           "avatar_template": "/user_avatar/discourse.jupyter.org/hhuuggoo/{size}/242_2.png",
           "id": 145,
           "name": "saturncloud.io",
           "title": "",
           "username": "hhuuggoo"
          },
          "username": "hhuuggoo"
         },
         {
          "days_visited": 8,
          "id": 562,
          "likes_given": 0,
          "likes_received": 0,
          "post_count": 5,
          "posts_read": 25,
          "topic_count": 0,
          "topics_entered": 4,
          "user": {
           "avatar_template": "/user_avatar/discourse.jupyter.org/shane_canon/{size}/783_2.png",
           "id": 562,
           "name": "Shane Canon",
           "title": null,
           "username": "Shane_Canon"
          },
          "username": "Shane_Canon"
         },
         {
          "days_visited": 6,
          "id": 640,
          "likes_given": 0,
          "likes_received": 0,
          "post_count": 5,
          "posts_read": 22,
          "topic_count": 1,
          "topics_entered": 5,
          "user": {
           "avatar_template": "/user_avatar/discourse.jupyter.org/stefano_fioravanzo/{size}/849_2.png",
           "id": 640,
           "name": "Stefano Fioravanzo",
           "title": null,
           "username": "Stefano_Fioravanzo"
          },
          "username": "Stefano_Fioravanzo"
         },
         {
          "days_visited": 10,
          "id": 510,
          "likes_given": 0,
          "likes_received": 6,
          "post_count": 8,
          "posts_read": 10,
          "topic_count": 2,
          "topics_entered": 4,
          "user": {
           "avatar_template": "https://avatars.discourse.org/v4/letter/l/ac8455/{size}.png",
           "id": 510,
           "name": "Lorankary",
           "title": null,
           "username": "lorankary"
          },
          "username": "lorankary"
         },
         {
          "days_visited": 9,
          "id": 686,
          "likes_given": 0,
          "likes_received": 3,
          "post_count": 8,
          "posts_read": 92,
          "topic_count": 3,
          "topics_entered": 29,
          "user": {
           "avatar_template": "https://avatars.discourse.org/v4/letter/s/22d042/{size}.png",
           "id": 686,
           "name": "DAVID OHLEMACHER",
           "title": null,
           "username": "sqqqrly"
          },
          "username": "sqqqrly"
         },
         {
          "days_visited": 17,
          "id": 4,
          "likes_given": 0,
          "likes_received": 17,
          "post_count": 6,
          "posts_read": 43,
          "topic_count": 3,
          "topics_entered": 13,
          "user": {
           "avatar_template": "/user_avatar/discourse.jupyter.org/carreau/{size}/8_2.png",
           "id": 4,
           "name": "Matthias Bussonnier",
           "title": null,
           "username": "carreau"
          },
          "username": "carreau"
         },
         {
          "days_visited": 32,
          "id": 419,
          "likes_given": 0,
          "likes_received": 3,
          "post_count": 14,
          "posts_read": 78,
          "topic_count": 7,
          "topics_entered": 21,
          "user": {
           "avatar_template": "/user_avatar/discourse.jupyter.org/alvinhuff/{size}/550_2.png",
           "id": 419,
           "name": "Alvin Huff",
           "title": null,
           "username": "alvinhuff"
          },
          "username": "alvinhuff"
         },
         {
          "days_visited": 14,
          "id": 487,
          "likes_given": 0,
          "likes_received": 0,
          "post_count": 7,
          "posts_read": 83,
          "topic_count": 4,
          "topics_entered": 25,
          "user": {
           "avatar_template": "/user_avatar/discourse.jupyter.org/d4rkm4atter/{size}/663_2.png",
           "id": 487,
           "name": "",
           "title": null,
           "username": "D4rkM4atter"
          },
          "username": "D4rkM4atter"
         },
         {
          "days_visited": 51,
          "id": 298,
          "likes_given": 0,
          "likes_received": 4,
          "post_count": 6,
          "posts_read": 336,
          "topic_count": 0,
          "topics_entered": 74,
          "user": {
           "avatar_template": "https://avatars.discourse.org/v4/letter/q/f04885/{size}.png",
           "id": 298,
           "name": "Joe Quigley",
           "title": null,
           "username": "quigleyj-mavenomics"
          },
          "username": "quigleyj-mavenomics"
         },
         {
          "days_visited": 14,
          "id": 9,
          "likes_given": 0,
          "likes_received": 9,
          "post_count": 7,
          "posts_read": 93,
          "topic_count": 1,
          "topics_entered": 15,
          "user": {
           "avatar_template": "/user_avatar/discourse.jupyter.org/ellisonbg/{size}/14_2.png",
           "id": 9,
           "name": "Brian Granger",
           "title": null,
           "username": "ellisonbg"
          },
          "username": "ellisonbg"
         },
         {
          "days_visited": 9,
          "id": 195,
          "likes_given": 0,
          "likes_received": 1,
          "post_count": 6,
          "posts_read": 33,
          "topic_count": 0,
          "topics_entered": 8,
          "user": {
           "avatar_template": "/user_avatar/discourse.jupyter.org/rcthomas/{size}/201_2.png",
           "id": 195,
           "name": "",
           "title": null,
           "username": "rcthomas"
          },
          "username": "rcthomas"
         },
         {
          "days_visited": 11,
          "id": 71,
          "likes_given": 0,
          "likes_received": 4,
          "post_count": 7,
          "posts_read": 76,
          "topic_count": 1,
          "topics_entered": 6,
          "user": {
           "avatar_template": "/user_avatar/discourse.jupyter.org/nuest/{size}/82_2.png",
           "id": 71,
           "name": "Daniel Nüst",
           "title": null,
           "username": "nuest"
          },
          "username": "nuest"
         },
         {
          "days_visited": 18,
          "id": 462,
          "likes_given": 0,
          "likes_received": 1,
          "post_count": 7,
          "posts_read": 73,
          "topic_count": 3,
          "topics_entered": 13,
          "user": {
           "avatar_template": "https://avatars.discourse.org/v4/letter/r/6f9a4e/{size}.png",
           "id": 462,
           "name": "Rahul Dave",
           "title": null,
           "username": "rahuldave"
          },
          "username": "rahuldave"
         },
         {
          "days_visited": 10,
          "id": 351,
          "likes_given": 0,
          "likes_received": 6,
          "post_count": 5,
          "posts_read": 53,
          "topic_count": 1,
          "topics_entered": 12,
          "user": {
           "avatar_template": "/user_avatar/discourse.jupyter.org/henchc/{size}/452_2.png",
           "id": 351,
           "name": "Christopher Hench",
           "title": null,
           "username": "henchc"
          },
          "username": "henchc"
         }
        ]
       },
       "encoding": {
        "x": {
         "field": "username",
         "type": "nominal"
        },
        "y": {
         "field": "likes_given",
         "type": "quantitative"
        }
       },
       "mark": "bar"
      },
      "text/plain": [
       "<VegaLite 3 object>\n",
       "\n",
       "If you see this message, it means the renderer has not been properly enabled\n",
       "for the frontend that you are using. For more information, see\n",
       "https://altair-viz.github.io/user_guide/troubleshooting.html\n"
      ]
     },
     "execution_count": 16,
     "metadata": {},
     "output_type": "execute_result"
    }
   ],
   "source": [
    "plot_user_data(users.head(50), 'likes_given')"
   ]
  },
  {
   "cell_type": "markdown",
   "metadata": {
    "papermill": {
     "duration": 0.10326,
     "end_time": "2019-07-22T16:03:09.084985",
     "exception": false,
     "start_time": "2019-07-22T16:03:08.981725",
     "status": "completed"
    },
    "tags": []
   },
   "source": [
    "**Forum users, sorted by likes received**\n",
    "\n",
    "These are folks that posted things other people in the Community Forum liked."
   ]
  },
  {
   "cell_type": "code",
   "execution_count": 17,
   "metadata": {
    "papermill": {
     "duration": 0.15848,
     "end_time": "2019-07-22T16:03:09.326691",
     "exception": false,
     "start_time": "2019-07-22T16:03:09.168211",
     "status": "completed"
    },
    "tags": []
   },
   "outputs": [
    {
     "data": {
      "application/vnd.vegalite.v3+json": {
       "$schema": "https://vega.github.io/schema/vega-lite/v3.3.0.json",
       "config": {
        "mark": {
         "tooltip": null
        },
        "view": {
         "height": 300,
         "width": 400
        }
       },
       "data": {
        "name": "data-920854d0f9a7db886c61f4bc7e32ba90"
       },
       "datasets": {
        "data-920854d0f9a7db886c61f4bc7e32ba90": [
         {
          "days_visited": 79,
          "id": 6,
          "likes_given": 233,
          "likes_received": 128,
          "post_count": 166,
          "posts_read": 1458,
          "topic_count": 15,
          "topics_entered": 349,
          "user": {
           "avatar_template": "/user_avatar/discourse.jupyter.org/betatim/{size}/10_2.png",
           "id": 6,
           "name": "Tim Head",
           "title": "",
           "username": "betatim"
          },
          "username": "betatim"
         },
         {
          "days_visited": 90,
          "id": 3,
          "likes_given": 206,
          "likes_received": 121,
          "post_count": 140,
          "posts_read": 1019,
          "topic_count": 34,
          "topics_entered": 266,
          "user": {
           "avatar_template": "/user_avatar/discourse.jupyter.org/choldgraf/{size}/12_2.png",
           "id": 3,
           "name": "Chris Holdgraf",
           "title": "Regular",
           "username": "choldgraf"
          },
          "username": "choldgraf"
         },
         {
          "days_visited": 86,
          "id": 8,
          "likes_given": 10,
          "likes_received": 63,
          "post_count": 55,
          "posts_read": 829,
          "topic_count": 4,
          "topics_entered": 194,
          "user": {
           "avatar_template": "/user_avatar/discourse.jupyter.org/minrk/{size}/13_2.png",
           "id": 8,
           "name": "Min RK",
           "title": null,
           "username": "minrk"
          },
          "username": "minrk"
         },
         {
          "days_visited": 67,
          "id": 24,
          "likes_given": 17,
          "likes_received": 57,
          "post_count": 76,
          "posts_read": 697,
          "topic_count": 7,
          "topics_entered": 269,
          "user": {
           "avatar_template": "/user_avatar/discourse.jupyter.org/psychemedia/{size}/24_2.png",
           "id": 24,
           "name": "Tony Hirst",
           "title": null,
           "username": "psychemedia"
          },
          "username": "psychemedia"
         },
         {
          "days_visited": 77,
          "id": 116,
          "likes_given": 23,
          "likes_received": 55,
          "post_count": 48,
          "posts_read": 668,
          "topic_count": 7,
          "topics_entered": 126,
          "user": {
           "avatar_template": "/user_avatar/discourse.jupyter.org/sgibson91/{size}/487_2.png",
           "id": 116,
           "name": "Sarah Gibson",
           "title": "",
           "username": "sgibson91"
          },
          "username": "sgibson91"
         },
         {
          "days_visited": 64,
          "id": 12,
          "likes_given": 9,
          "likes_received": 45,
          "post_count": 47,
          "posts_read": 857,
          "topic_count": 7,
          "topics_entered": 155,
          "user": {
           "avatar_template": "/user_avatar/discourse.jupyter.org/yuvipanda/{size}/17_2.png",
           "id": 12,
           "name": "Yuvi Panda",
           "title": null,
           "username": "yuvipanda"
          },
          "username": "yuvipanda"
         },
         {
          "days_visited": 74,
          "id": 73,
          "likes_given": 18,
          "likes_received": 31,
          "post_count": 33,
          "posts_read": 1577,
          "topic_count": 2,
          "topics_entered": 338,
          "user": {
           "avatar_template": "/user_avatar/discourse.jupyter.org/manics/{size}/85_2.png",
           "id": 73,
           "name": "Simon",
           "title": null,
           "username": "manics"
          },
          "username": "manics"
         },
         {
          "days_visited": 18,
          "id": 237,
          "likes_given": 1,
          "likes_received": 25,
          "post_count": 6,
          "posts_read": 51,
          "topic_count": 4,
          "topics_entered": 12,
          "user": {
           "avatar_template": "/user_avatar/discourse.jupyter.org/mseal/{size}/253_2.png",
           "id": 237,
           "name": "Matthew Seal",
           "title": null,
           "username": "MSeal"
          },
          "username": "MSeal"
         },
         {
          "days_visited": 14,
          "id": 220,
          "likes_given": 1,
          "likes_received": 24,
          "post_count": 27,
          "posts_read": 188,
          "topic_count": 1,
          "topics_entered": 56,
          "user": {
           "avatar_template": "/user_avatar/discourse.jupyter.org/jasongrout/{size}/371_2.png",
           "id": 220,
           "name": "Jason Grout",
           "title": null,
           "username": "jasongrout"
          },
          "username": "jasongrout"
         },
         {
          "days_visited": 33,
          "id": 485,
          "likes_given": 47,
          "likes_received": 20,
          "post_count": 21,
          "posts_read": 268,
          "topic_count": 1,
          "topics_entered": 54,
          "user": {
           "avatar_template": "/user_avatar/discourse.jupyter.org/rolweber/{size}/657_2.png",
           "id": 485,
           "name": "Roland Weber",
           "title": null,
           "username": "rolweber"
          },
          "username": "rolweber"
         },
         {
          "days_visited": 80,
          "id": 30,
          "likes_given": 75,
          "likes_received": 19,
          "post_count": 20,
          "posts_read": 326,
          "topic_count": 2,
          "topics_entered": 65,
          "user": {
           "avatar_template": "/user_avatar/discourse.jupyter.org/consideratio/{size}/30_2.png",
           "id": 30,
           "name": "Erik Sundell",
           "title": null,
           "username": "consideRatio"
          },
          "username": "consideRatio"
         },
         {
          "days_visited": 17,
          "id": 4,
          "likes_given": 0,
          "likes_received": 17,
          "post_count": 6,
          "posts_read": 43,
          "topic_count": 3,
          "topics_entered": 13,
          "user": {
           "avatar_template": "/user_avatar/discourse.jupyter.org/carreau/{size}/8_2.png",
           "id": 4,
           "name": "Matthias Bussonnier",
           "title": null,
           "username": "carreau"
          },
          "username": "carreau"
         },
         {
          "days_visited": 26,
          "id": 134,
          "likes_given": 5,
          "likes_received": 17,
          "post_count": 6,
          "posts_read": 282,
          "topic_count": 3,
          "topics_entered": 57,
          "user": {
           "avatar_template": "/user_avatar/discourse.jupyter.org/lresende/{size}/239_2.png",
           "id": 134,
           "name": "Luciano Resende",
           "title": "",
           "username": "lresende"
          },
          "username": "lresende"
         },
         {
          "days_visited": 55,
          "id": 99,
          "likes_given": 38,
          "likes_received": 16,
          "post_count": 21,
          "posts_read": 508,
          "topic_count": 2,
          "topics_entered": 104,
          "user": {
           "avatar_template": "/user_avatar/discourse.jupyter.org/zsailer/{size}/106_2.png",
           "id": 99,
           "name": "Zachary Sailer",
           "title": null,
           "username": "Zsailer"
          },
          "username": "Zsailer"
         },
         {
          "days_visited": 20,
          "id": 34,
          "likes_given": 2,
          "likes_received": 16,
          "post_count": 9,
          "posts_read": 148,
          "topic_count": 3,
          "topics_entered": 14,
          "user": {
           "avatar_template": "/user_avatar/discourse.jupyter.org/danielballan/{size}/34_2.png",
           "id": 34,
           "name": "Dan Allan",
           "title": null,
           "username": "danielballan"
          },
          "username": "danielballan"
         },
         {
          "days_visited": 46,
          "id": 222,
          "likes_given": 5,
          "likes_received": 14,
          "post_count": 9,
          "posts_read": 145,
          "topic_count": 2,
          "topics_entered": 19,
          "user": {
           "avatar_template": "https://avatars.discourse.org/v4/letter/t/f05b48/{size}.png",
           "id": 222,
           "name": "Timothy George",
           "title": null,
           "username": "tgeorgeux"
          },
          "username": "tgeorgeux"
         },
         {
          "days_visited": 34,
          "id": 372,
          "likes_given": 6,
          "likes_received": 13,
          "post_count": 14,
          "posts_read": 210,
          "topic_count": 2,
          "topics_entered": 32,
          "user": {
           "avatar_template": "/user_avatar/discourse.jupyter.org/davclark/{size}/489_2.png",
           "id": 372,
           "name": "Dav Clark",
           "title": null,
           "username": "davclark"
          },
          "username": "davclark"
         },
         {
          "days_visited": 86,
          "id": 77,
          "likes_given": 7,
          "likes_received": 12,
          "post_count": 14,
          "posts_read": 837,
          "topic_count": 0,
          "topics_entered": 176,
          "user": {
           "avatar_template": "/user_avatar/discourse.jupyter.org/jtp/{size}/882_2.png",
           "id": 77,
           "name": "Jeremy Tuloup",
           "title": "",
           "username": "jtp"
          },
          "username": "jtp"
         },
         {
          "days_visited": 67,
          "id": 11,
          "likes_given": 60,
          "likes_received": 11,
          "post_count": 14,
          "posts_read": 873,
          "topic_count": 1,
          "topics_entered": 195,
          "user": {
           "avatar_template": "/user_avatar/discourse.jupyter.org/fomightez/{size}/495_2.png",
           "id": 11,
           "name": "Wayne",
           "title": null,
           "username": "fomightez"
          },
          "username": "fomightez"
         },
         {
          "days_visited": 13,
          "id": 662,
          "likes_given": 9,
          "likes_received": 10,
          "post_count": 5,
          "posts_read": 156,
          "topic_count": 0,
          "topics_entered": 12,
          "user": {
           "avatar_template": "/user_avatar/discourse.jupyter.org/isabela-pf/{size}/863_2.png",
           "id": 662,
           "name": "",
           "title": "",
           "username": "isabela-pf"
          },
          "username": "isabela-pf"
         },
         {
          "days_visited": 9,
          "id": 679,
          "likes_given": 1,
          "likes_received": 10,
          "post_count": 9,
          "posts_read": 87,
          "topic_count": 0,
          "topics_entered": 18,
          "user": {
           "avatar_template": "/user_avatar/discourse.jupyter.org/bollwyvl/{size}/904_2.png",
           "id": 679,
           "name": "Nicholas Bollweg",
           "title": null,
           "username": "bollwyvl"
          },
          "username": "bollwyvl"
         },
         {
          "days_visited": 60,
          "id": 239,
          "likes_given": 4,
          "likes_received": 9,
          "post_count": 21,
          "posts_read": 421,
          "topic_count": 0,
          "topics_entered": 128,
          "user": {
           "avatar_template": "/user_avatar/discourse.jupyter.org/jhermann/{size}/257_2.png",
           "id": 239,
           "name": "Jürgen Hermann",
           "title": null,
           "username": "jhermann"
          },
          "username": "jhermann"
         },
         {
          "days_visited": 14,
          "id": 9,
          "likes_given": 0,
          "likes_received": 9,
          "post_count": 7,
          "posts_read": 93,
          "topic_count": 1,
          "topics_entered": 15,
          "user": {
           "avatar_template": "/user_avatar/discourse.jupyter.org/ellisonbg/{size}/14_2.png",
           "id": 9,
           "name": "Brian Granger",
           "title": null,
           "username": "ellisonbg"
          },
          "username": "ellisonbg"
         },
         {
          "days_visited": 27,
          "id": 60,
          "likes_given": 11,
          "likes_received": 8,
          "post_count": 12,
          "posts_read": 334,
          "topic_count": 0,
          "topics_entered": 47,
          "user": {
           "avatar_template": "/user_avatar/discourse.jupyter.org/fm75/{size}/71_2.png",
           "id": 60,
           "name": "Fred Mitchell",
           "title": "",
           "username": "fm75"
          },
          "username": "fm75"
         },
         {
          "days_visited": 11,
          "id": 145,
          "likes_given": 0,
          "likes_received": 7,
          "post_count": 6,
          "posts_read": 43,
          "topic_count": 3,
          "topics_entered": 9,
          "user": {
           "avatar_template": "/user_avatar/discourse.jupyter.org/hhuuggoo/{size}/242_2.png",
           "id": 145,
           "name": "saturncloud.io",
           "title": "",
           "username": "hhuuggoo"
          },
          "username": "hhuuggoo"
         },
         {
          "days_visited": 23,
          "id": 7,
          "likes_given": 21,
          "likes_received": 6,
          "post_count": 5,
          "posts_read": 223,
          "topic_count": 0,
          "topics_entered": 33,
          "user": {
           "avatar_template": "/user_avatar/discourse.jupyter.org/willingc/{size}/11_2.png",
           "id": 7,
           "name": "Carol Willing",
           "title": null,
           "username": "willingc"
          },
          "username": "willingc"
         },
         {
          "days_visited": 10,
          "id": 351,
          "likes_given": 0,
          "likes_received": 6,
          "post_count": 5,
          "posts_read": 53,
          "topic_count": 1,
          "topics_entered": 12,
          "user": {
           "avatar_template": "/user_avatar/discourse.jupyter.org/henchc/{size}/452_2.png",
           "id": 351,
           "name": "Christopher Hench",
           "title": null,
           "username": "henchc"
          },
          "username": "henchc"
         },
         {
          "days_visited": 37,
          "id": 432,
          "likes_given": 28,
          "likes_received": 6,
          "post_count": 10,
          "posts_read": 274,
          "topic_count": 2,
          "topics_entered": 64,
          "user": {
           "avatar_template": "/user_avatar/discourse.jupyter.org/ondrejj/{size}/567_2.png",
           "id": 432,
           "name": "Ondřej ",
           "title": null,
           "username": "ondrejj"
          },
          "username": "ondrejj"
         },
         {
          "days_visited": 8,
          "id": 556,
          "likes_given": 3,
          "likes_received": 6,
          "post_count": 8,
          "posts_read": 70,
          "topic_count": 0,
          "topics_entered": 12,
          "user": {
           "avatar_template": "/user_avatar/discourse.jupyter.org/blink1073/{size}/791_2.png",
           "id": 556,
           "name": "Steven Silvester",
           "title": null,
           "username": "blink1073"
          },
          "username": "blink1073"
         },
         {
          "days_visited": 10,
          "id": 510,
          "likes_given": 0,
          "likes_received": 6,
          "post_count": 8,
          "posts_read": 10,
          "topic_count": 2,
          "topics_entered": 4,
          "user": {
           "avatar_template": "https://avatars.discourse.org/v4/letter/l/ac8455/{size}.png",
           "id": 510,
           "name": "Lorankary",
           "title": null,
           "username": "lorankary"
          },
          "username": "lorankary"
         },
         {
          "days_visited": 51,
          "id": 298,
          "likes_given": 0,
          "likes_received": 4,
          "post_count": 6,
          "posts_read": 336,
          "topic_count": 0,
          "topics_entered": 74,
          "user": {
           "avatar_template": "https://avatars.discourse.org/v4/letter/q/f04885/{size}.png",
           "id": 298,
           "name": "Joe Quigley",
           "title": null,
           "username": "quigleyj-mavenomics"
          },
          "username": "quigleyj-mavenomics"
         },
         {
          "days_visited": 11,
          "id": 71,
          "likes_given": 0,
          "likes_received": 4,
          "post_count": 7,
          "posts_read": 76,
          "topic_count": 1,
          "topics_entered": 6,
          "user": {
           "avatar_template": "/user_avatar/discourse.jupyter.org/nuest/{size}/82_2.png",
           "id": 71,
           "name": "Daniel Nüst",
           "title": null,
           "username": "nuest"
          },
          "username": "nuest"
         },
         {
          "days_visited": 34,
          "id": 217,
          "likes_given": 18,
          "likes_received": 4,
          "post_count": 15,
          "posts_read": 188,
          "topic_count": 0,
          "topics_entered": 34,
          "user": {
           "avatar_template": "/user_avatar/discourse.jupyter.org/kevin-bates/{size}/234_2.png",
           "id": 217,
           "name": "Kevin Bates",
           "title": null,
           "username": "kevin-bates"
          },
          "username": "kevin-bates"
         },
         {
          "days_visited": 6,
          "id": 565,
          "likes_given": 3,
          "likes_received": 4,
          "post_count": 6,
          "posts_read": 35,
          "topic_count": 0,
          "topics_entered": 4,
          "user": {
           "avatar_template": "/user_avatar/discourse.jupyter.org/danielskatz/{size}/785_2.png",
           "id": 565,
           "name": "Daniel S. Katz",
           "title": null,
           "username": "danielskatz"
          },
          "username": "danielskatz"
         },
         {
          "days_visited": 18,
          "id": 234,
          "likes_given": 5,
          "likes_received": 3,
          "post_count": 16,
          "posts_read": 84,
          "topic_count": 3,
          "topics_entered": 10,
          "user": {
           "avatar_template": "/user_avatar/discourse.jupyter.org/fmaussion/{size}/390_2.png",
           "id": 234,
           "name": "Fabien Maussion",
           "title": null,
           "username": "fmaussion"
          },
          "username": "fmaussion"
         },
         {
          "days_visited": 11,
          "id": 430,
          "likes_given": 2,
          "likes_received": 3,
          "post_count": 5,
          "posts_read": 41,
          "topic_count": 1,
          "topics_entered": 14,
          "user": {
           "avatar_template": "/user_avatar/discourse.jupyter.org/rokroskar/{size}/563_2.png",
           "id": 430,
           "name": "Rok Roškar",
           "title": null,
           "username": "rokroskar"
          },
          "username": "rokroskar"
         },
         {
          "days_visited": 51,
          "id": 303,
          "likes_given": 5,
          "likes_received": 3,
          "post_count": 6,
          "posts_read": 216,
          "topic_count": 1,
          "topics_entered": 48,
          "user": {
           "avatar_template": "/user_avatar/discourse.jupyter.org/ian-r-rose/{size}/638_2.png",
           "id": 303,
           "name": "Ian Rose",
           "title": null,
           "username": "ian-r-rose"
          },
          "username": "ian-r-rose"
         },
         {
          "days_visited": 32,
          "id": 419,
          "likes_given": 0,
          "likes_received": 3,
          "post_count": 14,
          "posts_read": 78,
          "topic_count": 7,
          "topics_entered": 21,
          "user": {
           "avatar_template": "/user_avatar/discourse.jupyter.org/alvinhuff/{size}/550_2.png",
           "id": 419,
           "name": "Alvin Huff",
           "title": null,
           "username": "alvinhuff"
          },
          "username": "alvinhuff"
         },
         {
          "days_visited": 9,
          "id": 686,
          "likes_given": 0,
          "likes_received": 3,
          "post_count": 8,
          "posts_read": 92,
          "topic_count": 3,
          "topics_entered": 29,
          "user": {
           "avatar_template": "https://avatars.discourse.org/v4/letter/s/22d042/{size}.png",
           "id": 686,
           "name": "DAVID OHLEMACHER",
           "title": null,
           "username": "sqqqrly"
          },
          "username": "sqqqrly"
         },
         {
          "days_visited": 23,
          "id": 333,
          "likes_given": 11,
          "likes_received": 3,
          "post_count": 7,
          "posts_read": 43,
          "topic_count": 0,
          "topics_entered": 2,
          "user": {
           "avatar_template": "/user_avatar/discourse.jupyter.org/cmbui/{size}/436_2.png",
           "id": 333,
           "name": "Christina",
           "title": null,
           "username": "cmbui"
          },
          "username": "cmbui"
         },
         {
          "days_visited": 15,
          "id": 227,
          "likes_given": 9,
          "likes_received": 2,
          "post_count": 7,
          "posts_read": 207,
          "topic_count": 0,
          "topics_entered": 42,
          "user": {
           "avatar_template": "/user_avatar/discourse.jupyter.org/sterlinm/{size}/241_2.png",
           "id": 227,
           "name": "Michael",
           "title": null,
           "username": "sterlinm"
          },
          "username": "sterlinm"
         },
         {
          "days_visited": 33,
          "id": 184,
          "likes_given": 14,
          "likes_received": 2,
          "post_count": 5,
          "posts_read": 280,
          "topic_count": 1,
          "topics_entered": 45,
          "user": {
           "avatar_template": "/user_avatar/discourse.jupyter.org/emdupre/{size}/496_2.png",
           "id": 184,
           "name": "Elizabeth DuPre",
           "title": null,
           "username": "emdupre"
          },
          "username": "emdupre"
         },
         {
          "days_visited": 13,
          "id": 390,
          "likes_given": 2,
          "likes_received": 1,
          "post_count": 11,
          "posts_read": 79,
          "topic_count": 8,
          "topics_entered": 28,
          "user": {
           "avatar_template": "https://avatars.discourse.org/v4/letter/e/9de0a6/{size}.png",
           "id": 390,
           "name": "Ernst",
           "title": null,
           "username": "ernstch"
          },
          "username": "ernstch"
         },
         {
          "days_visited": 9,
          "id": 195,
          "likes_given": 0,
          "likes_received": 1,
          "post_count": 6,
          "posts_read": 33,
          "topic_count": 0,
          "topics_entered": 8,
          "user": {
           "avatar_template": "/user_avatar/discourse.jupyter.org/rcthomas/{size}/201_2.png",
           "id": 195,
           "name": "",
           "title": null,
           "username": "rcthomas"
          },
          "username": "rcthomas"
         },
         {
          "days_visited": 18,
          "id": 462,
          "likes_given": 0,
          "likes_received": 1,
          "post_count": 7,
          "posts_read": 73,
          "topic_count": 3,
          "topics_entered": 13,
          "user": {
           "avatar_template": "https://avatars.discourse.org/v4/letter/r/6f9a4e/{size}.png",
           "id": 462,
           "name": "Rahul Dave",
           "title": null,
           "username": "rahuldave"
          },
          "username": "rahuldave"
         },
         {
          "days_visited": 11,
          "id": 566,
          "likes_given": 0,
          "likes_received": 1,
          "post_count": 7,
          "posts_read": 32,
          "topic_count": 2,
          "topics_entered": 9,
          "user": {
           "avatar_template": "/user_avatar/discourse.jupyter.org/shreyas_cholia/{size}/784_2.png",
           "id": 566,
           "name": "Shreyas Cholia",
           "title": null,
           "username": "Shreyas_Cholia"
          },
          "username": "Shreyas_Cholia"
         },
         {
          "days_visited": 9,
          "id": 254,
          "likes_given": 9,
          "likes_received": 1,
          "post_count": 8,
          "posts_read": 92,
          "topic_count": 0,
          "topics_entered": 10,
          "user": {
           "avatar_template": "/user_avatar/discourse.jupyter.org/mathematicalmichael/{size}/322_2.png",
           "id": 254,
           "name": "Michael Pilosov",
           "title": null,
           "username": "mathematicalmichael"
          },
          "username": "mathematicalmichael"
         },
         {
          "days_visited": 14,
          "id": 487,
          "likes_given": 0,
          "likes_received": 0,
          "post_count": 7,
          "posts_read": 83,
          "topic_count": 4,
          "topics_entered": 25,
          "user": {
           "avatar_template": "/user_avatar/discourse.jupyter.org/d4rkm4atter/{size}/663_2.png",
           "id": 487,
           "name": "",
           "title": null,
           "username": "D4rkM4atter"
          },
          "username": "D4rkM4atter"
         },
         {
          "days_visited": 6,
          "id": 640,
          "likes_given": 0,
          "likes_received": 0,
          "post_count": 5,
          "posts_read": 22,
          "topic_count": 1,
          "topics_entered": 5,
          "user": {
           "avatar_template": "/user_avatar/discourse.jupyter.org/stefano_fioravanzo/{size}/849_2.png",
           "id": 640,
           "name": "Stefano Fioravanzo",
           "title": null,
           "username": "Stefano_Fioravanzo"
          },
          "username": "Stefano_Fioravanzo"
         },
         {
          "days_visited": 8,
          "id": 562,
          "likes_given": 0,
          "likes_received": 0,
          "post_count": 5,
          "posts_read": 25,
          "topic_count": 0,
          "topics_entered": 4,
          "user": {
           "avatar_template": "/user_avatar/discourse.jupyter.org/shane_canon/{size}/783_2.png",
           "id": 562,
           "name": "Shane Canon",
           "title": null,
           "username": "Shane_Canon"
          },
          "username": "Shane_Canon"
         }
        ]
       },
       "encoding": {
        "x": {
         "field": "username",
         "type": "nominal"
        },
        "y": {
         "field": "likes_received",
         "type": "quantitative"
        }
       },
       "mark": "bar"
      },
      "text/plain": [
       "<VegaLite 3 object>\n",
       "\n",
       "If you see this message, it means the renderer has not been properly enabled\n",
       "for the frontend that you are using. For more information, see\n",
       "https://altair-viz.github.io/user_guide/troubleshooting.html\n"
      ]
     },
     "execution_count": 17,
     "metadata": {},
     "output_type": "execute_result"
    }
   ],
   "source": [
    "plot_user_data(users.head(50), 'likes_received')"
   ]
  }
 ],
 "metadata": {
  "kernelspec": {
   "display_name": "Python 3",
   "language": "python",
   "name": "python3"
  },
  "language_info": {
   "codemirror_mode": {
    "name": "ipython",
    "version": 3
   },
   "file_extension": ".py",
   "mimetype": "text/x-python",
   "name": "python",
   "nbconvert_exporter": "python",
   "pygments_lexer": "ipython3",
   "version": "3.7.3"
  },
  "papermill": {
   "duration": 83.982493,
   "end_time": "2019-07-22T16:03:09.995726",
   "environment_variables": {},
   "exception": null,
   "input_path": "./discourse.ipynb",
   "output_path": "../reports/2019-06-22-2019-07-22/discourse.ipynb",
   "parameters": {
    "end_date": "2019-07-22",
    "renderer": "kaggle",
    "start_date": "2019-06-22"
   },
   "start_time": "2019-07-22T16:01:46.013233",
   "version": "1.0.1"
  },
  "widgets": {
   "application/vnd.jupyter.widget-state+json": {
    "state": {},
    "version_major": 2,
    "version_minor": 0
   }
  }
 },
 "nbformat": 4,
 "nbformat_minor": 4
}