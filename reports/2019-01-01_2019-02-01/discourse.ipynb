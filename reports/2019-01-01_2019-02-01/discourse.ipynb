{
 "cells": [
  {
   "cell_type": "code",
   "execution_count": 1,
   "metadata": {
    "papermill": {
     "duration": 3.619023,
     "end_time": "2019-08-14T03:37:12.597959",
     "exception": false,
     "start_time": "2019-08-14T03:37:08.978936",
     "status": "completed"
    },
    "tags": [
     "hide_input"
    ]
   },
   "outputs": [],
   "source": [
    "import requests\n",
    "from IPython.display import Markdown\n",
    "from tqdm import tqdm, tqdm_notebook\n",
    "import pandas as pd\n",
    "from matplotlib import pyplot as plt\n",
    "import numpy as np\n",
    "import altair as alt\n",
    "from requests.utils import quote\n",
    "import os\n",
    "from datetime import timedelta\n",
    "from mod import alt_theme"
   ]
  },
  {
   "cell_type": "code",
   "execution_count": 2,
   "metadata": {
    "papermill": {
     "duration": 0.203144,
     "end_time": "2019-08-14T03:37:12.888896",
     "exception": false,
     "start_time": "2019-08-14T03:37:12.685752",
     "status": "completed"
    },
    "tags": [
     "parameters",
     "hide_input"
    ]
   },
   "outputs": [],
   "source": [
    "fmt = \"{:%Y-%m-%d}\"\n",
    "\n",
    "# Can optionally use number of days to choose dates\n",
    "n_days = 60\n",
    "end_date = fmt.format(pd.datetime.today())\n",
    "start_date = fmt.format(pd.datetime.today() - timedelta(days=n_days))\n",
    "\n",
    "renderer = \"kaggle\"\n",
    "github_orgs = [\"jupyterhub\", \"jupyter\", \"jupyterlab\", \"jupyter-widgets\", \"ipython\", \"binder-examples\", \"nteract\"]\n",
    "bot_names = [\"stale\", \"codecov\", \"jupyterlab-dev-mode\", \"henchbot\"]"
   ]
  },
  {
   "cell_type": "code",
   "execution_count": 3,
   "metadata": {
    "papermill": {
     "duration": 0.061137,
     "end_time": "2019-08-14T03:37:13.019377",
     "exception": false,
     "start_time": "2019-08-14T03:37:12.958240",
     "status": "completed"
    },
    "tags": [
     "injected-parameters"
    ]
   },
   "outputs": [],
   "source": [
    "# Parameters\n",
    "renderer = \"kaggle\"\n",
    "start_date = \"2019-01-01\"\n",
    "end_date = \"2019-02-01\"\n"
   ]
  },
  {
   "cell_type": "code",
   "execution_count": 4,
   "metadata": {
    "papermill": {
     "duration": 0.06968,
     "end_time": "2019-08-14T03:37:13.131934",
     "exception": false,
     "start_time": "2019-08-14T03:37:13.062254",
     "status": "completed"
    },
    "tags": []
   },
   "outputs": [
    {
     "data": {
      "text/plain": [
       "ThemeRegistry.enable('my_theme')"
      ]
     },
     "execution_count": 4,
     "metadata": {},
     "output_type": "execute_result"
    }
   ],
   "source": [
    "alt.renderers.enable(renderer);\n",
    "alt.themes.register('my_theme', alt_theme)\n",
    "alt.themes.enable(\"my_theme\")"
   ]
  },
  {
   "cell_type": "code",
   "execution_count": 5,
   "metadata": {
    "papermill": {
     "duration": 0.059337,
     "end_time": "2019-08-14T03:37:13.242417",
     "exception": false,
     "start_time": "2019-08-14T03:37:13.183080",
     "status": "completed"
    },
    "tags": [
     "hide_input"
    ]
   },
   "outputs": [],
   "source": [
    "# Discourse API key\n",
    "api = {'Api-Key': os.environ['DISCOURSE_API_KEY'],\n",
    "       'Api-Username': os.environ['DISCOURSE_API_USERNAME']}"
   ]
  },
  {
   "cell_type": "code",
   "execution_count": 6,
   "metadata": {
    "papermill": {
     "duration": 0.131979,
     "end_time": "2019-08-14T03:37:13.422958",
     "exception": false,
     "start_time": "2019-08-14T03:37:13.290979",
     "status": "completed"
    },
    "tags": [
     "hide_input"
    ]
   },
   "outputs": [],
   "source": [
    "# Discourse\n",
    "def topics_to_markdown(topics, n_list=10):\n",
    "    body = []\n",
    "    for _, topic in topics.iterrows():\n",
    "        title = topic['fancy_title']\n",
    "        slug = topic['slug']\n",
    "        posts_count = topic['posts_count']\n",
    "        url = f'https://discourse.jupyter.org/t/{slug}'\n",
    "        body.append(f'* [{title}]({url}) ({posts_count} posts)')\n",
    "    body = body[:n_list]\n",
    "    return '\\n'.join(body)\n",
    "\n",
    "def counts_from_activity(activity):\n",
    "    counts = activity.groupby('category_id').count()['bookmarked'].reset_index()\n",
    "    counts['parent_category'] = None\n",
    "    for ii, irow in counts.iterrows():\n",
    "        if parent_categories[irow['category_id']] is not None:\n",
    "            counts.loc[ii, 'parent_category'] = parent_categories[irow['category_id']]\n",
    "\n",
    "    counts['category_id'] = counts['category_id'].map(lambda a: category_mapping[a])\n",
    "    counts['parent_category'] = counts['parent_category'].map(lambda a: category_mapping[a] if a is not None else 'parent')\n",
    "    is_parent = counts['parent_category'] == 'parent'\n",
    "    counts.loc[is_parent, 'parent_category'] = counts.loc[is_parent, 'category_id'] \n",
    "    counts['parent/category'] = counts.apply(lambda a: a['parent_category']+'/'+a['category_id'], axis=1)\n",
    "    counts = counts.sort_values(['parent_category', 'bookmarked'], ascending=False)\n",
    "    return counts"
   ]
  },
  {
   "cell_type": "markdown",
   "metadata": {
    "papermill": {
     "duration": 0.036938,
     "end_time": "2019-08-14T03:37:13.503811",
     "exception": false,
     "start_time": "2019-08-14T03:37:13.466873",
     "status": "completed"
    },
    "tags": []
   },
   "source": [
    "# Community forum activity\n",
    "\n",
    "The [Jupyter Community Forum](https://discourse.jupyter.org) is a place for Jovyans across the\n",
    "community to talk about Jupyter tools in interactive computing and how they fit into their\n",
    "workflows. It's also a place for developers to share ideas, tools, tips, and help one another.\n",
    "\n",
    "Below are a few updates from activity in the Discourse. For more detailed information about\n",
    "the activity on the Community Forum, check out these links:\n",
    "\n",
    "* [The users page](https://discourse.jupyter.org/u) has information about user activity\n",
    "* [The top posts page](https://discourse.jupyter.org/top) contains a list of top posts, sorted\n",
    "  by various metrics."
   ]
  },
  {
   "cell_type": "code",
   "execution_count": 7,
   "metadata": {
    "papermill": {
     "duration": 0.247531,
     "end_time": "2019-08-14T03:37:13.822659",
     "exception": false,
     "start_time": "2019-08-14T03:37:13.575128",
     "status": "completed"
    },
    "tags": [
     "hide_input"
    ]
   },
   "outputs": [],
   "source": [
    "# Get categories for IDs\n",
    "url = \"https://discourse.jupyter.org/site.json\"\n",
    "resp = requests.get(url, headers=api)\n",
    "category_mapping = {cat['id']: cat['name'] for cat in resp.json()['categories']}\n",
    "parent_categories = {cat['id']: cat.get(\"parent_category_id\", None) for cat in resp.json()['categories']}"
   ]
  },
  {
   "cell_type": "code",
   "execution_count": 8,
   "metadata": {
    "papermill": {
     "duration": 0.13477,
     "end_time": "2019-08-14T03:37:14.058549",
     "exception": false,
     "start_time": "2019-08-14T03:37:13.923779",
     "status": "completed"
    },
    "tags": [
     "hide_input"
    ]
   },
   "outputs": [],
   "source": [
    "# Base URL to use\n",
    "url = \"https://discourse.jupyter.org/latest.json\""
   ]
  },
  {
   "cell_type": "markdown",
   "metadata": {
    "papermill": {
     "duration": 0.091897,
     "end_time": "2019-08-14T03:37:14.250506",
     "exception": false,
     "start_time": "2019-08-14T03:37:14.158609",
     "status": "completed"
    },
    "tags": []
   },
   "source": [
    "## Topics with lots of likes\n",
    "\n",
    "\"Likes\" are a way for community members to say thanks for a helpful post, show their\n",
    "support for an idea, or generally to share a little positivity with somebody else.\n",
    "These are topics that have generated lots of likes in recent history."
   ]
  },
  {
   "cell_type": "code",
   "execution_count": 9,
   "metadata": {
    "papermill": {
     "duration": 0.275796,
     "end_time": "2019-08-14T03:37:14.672501",
     "exception": false,
     "start_time": "2019-08-14T03:37:14.396705",
     "status": "completed"
    },
    "tags": [
     "hide_input"
    ]
   },
   "outputs": [
    {
     "data": {
      "text/markdown": [
       "* [Introduce yourself!](https://discourse.jupyter.org/t/introduce-yourself) (106 posts)\n",
       "* [{WIP} Re-Design of Jupyter.org Website](https://discourse.jupyter.org/t/wip-re-design-of-jupyter-org-website) (60 posts)\n",
       "* [JupyterHub, Binder workshop in Oslo, Sept. 5-8](https://discourse.jupyter.org/t/jupyterhub-binder-workshop-in-oslo-sept-5-8) (25 posts)\n",
       "* [Jupyter Community Calls](https://discourse.jupyter.org/t/jupyter-community-calls) (29 posts)\n",
       "* [Help us choose an updated &ldquo;Launch Binder&rdquo; badge!](https://discourse.jupyter.org/t/help-us-choose-an-updated-launch-binder-badge) (21 posts)\n",
       "* [What&rsquo;s an alternative to the word &ldquo;Fellow&rdquo; or &ldquo;Fellowship&rdquo;?](https://discourse.jupyter.org/t/whats-an-alternative-to-the-word-fellow-or-fellowship) (16 posts)\n",
       "* [Microsoft Word Integration (Intern Project)](https://discourse.jupyter.org/t/microsoft-word-integration-intern-project) (19 posts)\n",
       "* [The Binder Federation](https://discourse.jupyter.org/t/the-binder-federation) (14 posts)\n",
       "* [PyCon 2019 and mybinder.org](https://discourse.jupyter.org/t/pycon-2019-and-mybinder-org) (17 posts)\n",
       "* [Jupyter community workshop: proposal on diversity, inclusion and accessibility](https://discourse.jupyter.org/t/jupyter-community-workshop-proposal-on-diversity-inclusion-and-accessibility) (20 posts)"
      ],
      "text/plain": [
       "<IPython.core.display.Markdown object>"
      ]
     },
     "execution_count": 9,
     "metadata": {},
     "output_type": "execute_result"
    }
   ],
   "source": [
    "params = {\"order\": \"likes\", \"ascending\": \"False\"}\n",
    "resp = requests.get(url, headers=api, params=params)\n",
    "\n",
    "# Topics with the most likes in recent history\n",
    "liked = pd.DataFrame(resp.json()['topic_list']['topics'])\n",
    "Markdown(topics_to_markdown(liked))"
   ]
  },
  {
   "cell_type": "markdown",
   "metadata": {
    "papermill": {
     "duration": 0.044724,
     "end_time": "2019-08-14T03:37:14.771295",
     "exception": false,
     "start_time": "2019-08-14T03:37:14.726571",
     "status": "completed"
    },
    "tags": []
   },
   "source": [
    "## Active topics on the Community Forum\n",
    "\n",
    "These are topics with lots of activity in recent history."
   ]
  },
  {
   "cell_type": "code",
   "execution_count": 10,
   "metadata": {
    "papermill": {
     "duration": 0.258495,
     "end_time": "2019-08-14T03:37:15.081705",
     "exception": false,
     "start_time": "2019-08-14T03:37:14.823210",
     "status": "completed"
    },
    "tags": [
     "hide_input"
    ]
   },
   "outputs": [
    {
     "data": {
      "text/markdown": [
       "* [Introduce yourself!](https://discourse.jupyter.org/t/introduce-yourself) (106 posts)\n",
       "* [{WIP} Re-Design of Jupyter.org Website](https://discourse.jupyter.org/t/wip-re-design-of-jupyter-org-website) (60 posts)\n",
       "* [Tip: embed custom github content in a Binder link with nbgitpuller](https://discourse.jupyter.org/t/tip-embed-custom-github-content-in-a-binder-link-with-nbgitpuller) (52 posts)\n",
       "* [Would a &ldquo;The Littlest Binder&rdquo; be useful?](https://discourse.jupyter.org/t/would-a-the-littlest-binder-be-useful) (31 posts)\n",
       "* [Jupyter Community Calls](https://discourse.jupyter.org/t/jupyter-community-calls) (29 posts)\n",
       "* [Plugins of considerations](https://discourse.jupyter.org/t/plugins-of-considerations) (28 posts)\n",
       "* [A proposal for JupyterHub communications](https://discourse.jupyter.org/t/a-proposal-for-jupyterhub-communications) (26 posts)\n",
       "* [Binder/BinderHub Workshops &ndash; Help Wanted!](https://discourse.jupyter.org/t/binder-binderhub-workshops-help-wanted) (25 posts)\n",
       "* [JupyterHub, Binder workshop in Oslo, Sept. 5-8](https://discourse.jupyter.org/t/jupyterhub-binder-workshop-in-oslo-sept-5-8) (25 posts)\n",
       "* [Potential collaboration on user research?](https://discourse.jupyter.org/t/potential-collaboration-on-user-research) (21 posts)"
      ],
      "text/plain": [
       "<IPython.core.display.Markdown object>"
      ]
     },
     "execution_count": 10,
     "metadata": {},
     "output_type": "execute_result"
    }
   ],
   "source": [
    "params = {\"order\": \"posts\", \"ascending\": \"False\"}\n",
    "resp = requests.get(url, headers=api, params=params)\n",
    "\n",
    "# Topics with the most posts in recent history\n",
    "posts = pd.DataFrame(resp.json()['topic_list']['topics'])\n",
    "Markdown(topics_to_markdown(posts))"
   ]
  },
  {
   "cell_type": "code",
   "execution_count": 11,
   "metadata": {
    "papermill": {
     "duration": 0.248389,
     "end_time": "2019-08-14T03:37:15.380749",
     "exception": false,
     "start_time": "2019-08-14T03:37:15.132360",
     "status": "completed"
    },
    "tags": [
     "hide_input"
    ]
   },
   "outputs": [
    {
     "data": {
      "text/html": [
       "\n",
       "  <style>\n",
       "    .vega-actions a {\n",
       "        margin-right: 12px;\n",
       "        color: #757575;\n",
       "        font-weight: normal;\n",
       "        font-size: 13px;\n",
       "    }\n",
       "    .error {\n",
       "        color: red;\n",
       "    }\n",
       "  </style>\n",
       "  <div id=\"altair-viz-1\"></div>\n",
       "  <script>\n",
       "    requirejs.config({\n",
       "        \"paths\": {\n",
       "            \"vega\": \"https://cdn.jsdelivr.net/npm//vega@5?noext\",\n",
       "            \"vega-lib\": \"https://cdn.jsdelivr.net/npm//vega-lib?noext\",\n",
       "            \"vega-lite\": \"https://cdn.jsdelivr.net/npm//vega-lite@3.3.0?noext\",\n",
       "            \"vega-embed\": \"https://cdn.jsdelivr.net/npm//vega-embed@4?noext\",\n",
       "        }\n",
       "    });\n",
       "    require(['vega-embed'], function(vegaEmbed){\n",
       "      var spec = {\"config\": {\"axisLeft\": {\"labelFontSize\": 15}, \"axisBottom\": {\"labelFontSize\": 15}}, \"data\": {\"name\": \"data-24576af4ffebdb2ebdc0ae0ef76b88f0\"}, \"mark\": \"bar\", \"encoding\": {\"color\": {\"type\": \"nominal\", \"field\": \"parent_category\"}, \"x\": {\"type\": \"nominal\", \"field\": \"parent/category\", \"sort\": [\"accessibility\", \"Admin requests\", \"Meta\", \"announcements\", \"JupyterLab\", \"discuss\", \"JupyterHub\", \"Enterprise Gateway\", \"Community Chat\", \"discuss\", \"Binder\", \"BinderHub\"]}, \"y\": {\"type\": \"quantitative\", \"field\": \"bookmarked\"}}, \"height\": 300, \"title\": \"Activity by category\", \"width\": 700, \"$schema\": \"https://vega.github.io/schema/vega-lite/v3.3.0.json\", \"datasets\": {\"data-24576af4ffebdb2ebdc0ae0ef76b88f0\": [{\"category_id\": \"accessibility\", \"bookmarked\": 2, \"parent_category\": \"Special Topics\", \"parent/category\": \"Special Topics/accessibility\"}, {\"category_id\": \"Admin requests\", \"bookmarked\": 1, \"parent_category\": \"Site Feedback\", \"parent/category\": \"Site Feedback/Admin requests\"}, {\"category_id\": \"Meta\", \"bookmarked\": 4, \"parent_category\": \"Meta\", \"parent/category\": \"Meta/Meta\"}, {\"category_id\": \"announcements\", \"bookmarked\": 1, \"parent_category\": \"Meta\", \"parent/category\": \"Meta/announcements\"}, {\"category_id\": \"JupyterLab\", \"bookmarked\": 1, \"parent_category\": \"JupyterLab\", \"parent/category\": \"JupyterLab/JupyterLab\"}, {\"category_id\": \"discuss\", \"bookmarked\": 3, \"parent_category\": \"JupyterHub\", \"parent/category\": \"JupyterHub/discuss\"}, {\"category_id\": \"JupyterHub\", \"bookmarked\": 2, \"parent_category\": \"JupyterHub\", \"parent/category\": \"JupyterHub/JupyterHub\"}, {\"category_id\": \"Enterprise Gateway\", \"bookmarked\": 2, \"parent_category\": \"Enterprise Gateway\", \"parent/category\": \"Enterprise Gateway/Enterprise Gateway\"}, {\"category_id\": \"Community Chat\", \"bookmarked\": 3, \"parent_category\": \"Community Chat\", \"parent/category\": \"Community Chat/Community Chat\"}, {\"category_id\": \"discuss\", \"bookmarked\": 6, \"parent_category\": \"Binder\", \"parent/category\": \"Binder/discuss\"}, {\"category_id\": \"Binder\", \"bookmarked\": 4, \"parent_category\": \"Binder\", \"parent/category\": \"Binder/Binder\"}, {\"category_id\": \"BinderHub\", \"bookmarked\": 1, \"parent_category\": \"Binder\", \"parent/category\": \"Binder/BinderHub\"}]}};\n",
       "      var embedOpt = {\"mode\": \"vega-lite\"};\n",
       "\n",
       "      function showError(el, error){\n",
       "          el.innerHTML = ('<div class=\"error\" style=\"color:red;\">'\n",
       "                          + '<p>JavaScript Error: ' + error.message + '</p>'\n",
       "                          + \"<p>This usually means there's a typo in your chart specification. \"\n",
       "                          + \"See the javascript console for the full traceback.</p>\"\n",
       "                          + '</div>');\n",
       "          throw error;\n",
       "      }\n",
       "      const el = document.getElementById('altair-viz-1');\n",
       "      vegaEmbed(\"#altair-viz-1\", spec, embedOpt)\n",
       "        .catch(error => showError(el, error));\n",
       "    });\n",
       "\n",
       "  </script>"
      ],
      "text/plain": [
       "Chart({\n",
       "  data:            category_id  bookmarked     parent_category  \\\n",
       "  11       accessibility           2      Special Topics   \n",
       "  10      Admin requests           1       Site Feedback   \n",
       "  0                 Meta           4                Meta   \n",
       "  1        announcements           1                Meta   \n",
       "  8           JupyterLab           1          JupyterLab   \n",
       "  6              discuss           3          JupyterHub   \n",
       "  2           JupyterHub           2          JupyterHub   \n",
       "  9   Enterprise Gateway           2  Enterprise Gateway   \n",
       "  3       Community Chat           3      Community Chat   \n",
       "  7              discuss           6              Binder   \n",
       "  4               Binder           4              Binder   \n",
       "  5            BinderHub           1              Binder   \n",
       "  \n",
       "                            parent/category  \n",
       "  11           Special Topics/accessibility  \n",
       "  10           Site Feedback/Admin requests  \n",
       "  0                               Meta/Meta  \n",
       "  1                      Meta/announcements  \n",
       "  8                   JupyterLab/JupyterLab  \n",
       "  6                      JupyterHub/discuss  \n",
       "  2                   JupyterHub/JupyterHub  \n",
       "  9   Enterprise Gateway/Enterprise Gateway  \n",
       "  3           Community Chat/Community Chat  \n",
       "  7                          Binder/discuss  \n",
       "  4                           Binder/Binder  \n",
       "  5                        Binder/BinderHub  ,\n",
       "  encoding: FacetedEncoding({\n",
       "    color: Color({\n",
       "      field: 'parent_category',\n",
       "      type: 'nominal'\n",
       "    }),\n",
       "    x: X({\n",
       "      field: 'parent/category',\n",
       "      sort: Sort(['accessibility', 'Admin requests', 'Meta', 'announcements', 'JupyterLab', 'discuss', 'JupyterHub', 'Enterprise Gateway', 'Community Chat', 'discuss', 'Binder', 'BinderHub']),\n",
       "      type: 'nominal'\n",
       "    }),\n",
       "    y: Y({\n",
       "      field: 'bookmarked',\n",
       "      type: 'quantitative'\n",
       "    })\n",
       "  }),\n",
       "  height: 300,\n",
       "  mark: 'bar',\n",
       "  title: 'Activity by category',\n",
       "  width: 700\n",
       "})"
      ]
     },
     "execution_count": 11,
     "metadata": {},
     "output_type": "execute_result"
    }
   ],
   "source": [
    "counts = counts_from_activity(posts)\n",
    "alt.Chart(data=counts, width=700, height=300, title=\"Activity by category\").mark_bar().encode(\n",
    "    x=alt.X(\"parent/category\", sort=alt.Sort(counts['category_id'].values.tolist())),\n",
    "    y=\"bookmarked\",\n",
    "    color=\"parent_category\"\n",
    ")"
   ]
  },
  {
   "cell_type": "markdown",
   "metadata": {
    "papermill": {
     "duration": 0.039598,
     "end_time": "2019-08-14T03:37:15.503531",
     "exception": false,
     "start_time": "2019-08-14T03:37:15.463933",
     "status": "completed"
    },
    "tags": []
   },
   "source": [
    "## Recently-created topics\n",
    "\n",
    "These are topics that were recently created, sorted by the amount of activity\n",
    "in each one."
   ]
  },
  {
   "cell_type": "code",
   "execution_count": 12,
   "metadata": {
    "papermill": {
     "duration": 0.355366,
     "end_time": "2019-08-14T03:37:15.910187",
     "exception": false,
     "start_time": "2019-08-14T03:37:15.554821",
     "status": "completed"
    },
    "tags": [
     "hide_input"
    ]
   },
   "outputs": [
    {
     "data": {
      "text/markdown": [
       "* [User interface tweaks on mybinder.org](https://discourse.jupyter.org/t/user-interface-tweaks-on-mybinder-org) (9 posts)\n",
       "* [JupyterHub Community Call, August 2019](https://discourse.jupyter.org/t/jupyterhub-community-call-august-2019) (7 posts)\n",
       "* [Teaching Jupyter to people without computing experience](https://discourse.jupyter.org/t/teaching-jupyter-to-people-without-computing-experience) (7 posts)\n",
       "* [Accessibility Audit for Jupyter Notebook](https://discourse.jupyter.org/t/accessibility-audit-for-jupyter-notebook) (6 posts)\n",
       "* [Multiple Classes Multiple Jupyterhubs/labs same domain?](https://discourse.jupyter.org/t/multiple-classes-multiple-jupyterhubs-labs-same-domain) (5 posts)\n",
       "* [Jupyter Source code debugging](https://discourse.jupyter.org/t/jupyter-source-code-debugging) (5 posts)\n",
       "* [GitHub issues/PRs - lock bot?](https://discourse.jupyter.org/t/github-issues-prs-lock-bot) (5 posts)\n",
       "* [NBConvert 5.6.0 Release](https://discourse.jupyter.org/t/nbconvert-5-6-0-release) (4 posts)\n",
       "* [Download multiple files from notebook server?](https://discourse.jupyter.org/t/download-multiple-files-from-notebook-server) (4 posts)\n",
       "* [JupyterHub LDAP server](https://discourse.jupyter.org/t/jupyterhub-ldap-server) (4 posts)"
      ],
      "text/plain": [
       "<IPython.core.display.Markdown object>"
      ]
     },
     "execution_count": 12,
     "metadata": {},
     "output_type": "execute_result"
    }
   ],
   "source": [
    "params = {\"order\": \"created\", \"ascending\": \"False\"}\n",
    "resp = requests.get(url, headers=api, params=params)\n",
    "\n",
    "# Sort created by the most posted for recently-created posts\n",
    "created = pd.DataFrame(resp.json()['topic_list']['topics'])\n",
    "created = created.sort_values('posts_count', ascending=False)\n",
    "Markdown(topics_to_markdown(created))"
   ]
  },
  {
   "cell_type": "code",
   "execution_count": 13,
   "metadata": {
    "papermill": {
     "duration": 0.345233,
     "end_time": "2019-08-14T03:37:16.346600",
     "exception": false,
     "start_time": "2019-08-14T03:37:16.001367",
     "status": "completed"
    },
    "tags": [
     "hide_input"
    ]
   },
   "outputs": [
    {
     "data": {
      "text/html": [
       "\n",
       "  <style>\n",
       "    .vega-actions a {\n",
       "        margin-right: 12px;\n",
       "        color: #757575;\n",
       "        font-weight: normal;\n",
       "        font-size: 13px;\n",
       "    }\n",
       "    .error {\n",
       "        color: red;\n",
       "    }\n",
       "  </style>\n",
       "  <div id=\"altair-viz-2\"></div>\n",
       "  <script>\n",
       "    requirejs.config({\n",
       "        \"paths\": {\n",
       "            \"vega\": \"https://cdn.jsdelivr.net/npm//vega@5?noext\",\n",
       "            \"vega-lib\": \"https://cdn.jsdelivr.net/npm//vega-lib?noext\",\n",
       "            \"vega-lite\": \"https://cdn.jsdelivr.net/npm//vega-lite@3.3.0?noext\",\n",
       "            \"vega-embed\": \"https://cdn.jsdelivr.net/npm//vega-embed@4?noext\",\n",
       "        }\n",
       "    });\n",
       "    require(['vega-embed'], function(vegaEmbed){\n",
       "      var spec = {\"config\": {\"axisLeft\": {\"labelFontSize\": 15}, \"axisBottom\": {\"labelFontSize\": 15}}, \"data\": {\"name\": \"data-0283402423b4778a451b3b9ceff144ab\"}, \"mark\": \"bar\", \"encoding\": {\"color\": {\"type\": \"nominal\", \"field\": \"parent_category\"}, \"x\": {\"type\": \"nominal\", \"field\": \"parent/category\", \"sort\": [\"accessibility\", \"Q&A\", \"Notebook\", \"jobs\", \"Meta\", \"JupyterLab\", \"JupyterHub\", \"Zero to JupyterHub on Kubernetes\", \"team\", \"Community Chat\", \"Binder\", \"mybinder.org ops\"]}, \"y\": {\"type\": \"quantitative\", \"field\": \"bookmarked\"}}, \"height\": 300, \"title\": \"Activity by category\", \"width\": 700, \"$schema\": \"https://vega.github.io/schema/vega-lite/v3.3.0.json\", \"datasets\": {\"data-0283402423b4778a451b3b9ceff144ab\": [{\"category_id\": \"accessibility\", \"bookmarked\": 1, \"parent_category\": \"Special Topics\", \"parent/category\": \"Special Topics/accessibility\"}, {\"category_id\": \"Q&A\", \"bookmarked\": 3, \"parent_category\": \"Q&A\", \"parent/category\": \"Q&A/Q&A\"}, {\"category_id\": \"Notebook\", \"bookmarked\": 0, \"parent_category\": \"Notebook\", \"parent/category\": \"Notebook/Notebook\"}, {\"category_id\": \"jobs\", \"bookmarked\": 2, \"parent_category\": \"Meta\", \"parent/category\": \"Meta/jobs\"}, {\"category_id\": \"Meta\", \"bookmarked\": 1, \"parent_category\": \"Meta\", \"parent/category\": \"Meta/Meta\"}, {\"category_id\": \"JupyterLab\", \"bookmarked\": 1, \"parent_category\": \"JupyterLab\", \"parent/category\": \"JupyterLab/JupyterLab\"}, {\"category_id\": \"JupyterHub\", \"bookmarked\": 2, \"parent_category\": \"JupyterHub\", \"parent/category\": \"JupyterHub/JupyterHub\"}, {\"category_id\": \"Zero to JupyterHub on Kubernetes\", \"bookmarked\": 1, \"parent_category\": \"JupyterHub\", \"parent/category\": \"JupyterHub/Zero to JupyterHub on Kubernetes\"}, {\"category_id\": \"team\", \"bookmarked\": 1, \"parent_category\": \"JupyterHub\", \"parent/category\": \"JupyterHub/team\"}, {\"category_id\": \"Community Chat\", \"bookmarked\": 0, \"parent_category\": \"Community Chat\", \"parent/category\": \"Community Chat/Community Chat\"}, {\"category_id\": \"Binder\", \"bookmarked\": 1, \"parent_category\": \"Binder\", \"parent/category\": \"Binder/Binder\"}, {\"category_id\": \"mybinder.org ops\", \"bookmarked\": 1, \"parent_category\": \"Binder\", \"parent/category\": \"Binder/mybinder.org ops\"}]}};\n",
       "      var embedOpt = {\"mode\": \"vega-lite\"};\n",
       "\n",
       "      function showError(el, error){\n",
       "          el.innerHTML = ('<div class=\"error\" style=\"color:red;\">'\n",
       "                          + '<p>JavaScript Error: ' + error.message + '</p>'\n",
       "                          + \"<p>This usually means there's a typo in your chart specification. \"\n",
       "                          + \"See the javascript console for the full traceback.</p>\"\n",
       "                          + '</div>');\n",
       "          throw error;\n",
       "      }\n",
       "      const el = document.getElementById('altair-viz-2');\n",
       "      vegaEmbed(\"#altair-viz-2\", spec, embedOpt)\n",
       "        .catch(error => showError(el, error));\n",
       "    });\n",
       "\n",
       "  </script>"
      ],
      "text/plain": [
       "Chart({\n",
       "  data:                          category_id  bookmarked parent_category  \\\n",
       "  10                     accessibility           1  Special Topics   \n",
       "  7                                Q&A           3             Q&A   \n",
       "  11                          Notebook           0        Notebook   \n",
       "  1                               jobs           2            Meta   \n",
       "  2                               Meta           1            Meta   \n",
       "  6                         JupyterLab           1      JupyterLab   \n",
       "  3                         JupyterHub           2      JupyterHub   \n",
       "  0   Zero to JupyterHub on Kubernetes           1      JupyterHub   \n",
       "  9                               team           1      JupyterHub   \n",
       "  4                     Community Chat           0  Community Chat   \n",
       "  5                             Binder           1          Binder   \n",
       "  8                   mybinder.org ops           1          Binder   \n",
       "  \n",
       "                                  parent/category  \n",
       "  10                 Special Topics/accessibility  \n",
       "  7                                       Q&A/Q&A  \n",
       "  11                            Notebook/Notebook  \n",
       "  1                                     Meta/jobs  \n",
       "  2                                     Meta/Meta  \n",
       "  6                         JupyterLab/JupyterLab  \n",
       "  3                         JupyterHub/JupyterHub  \n",
       "  0   JupyterHub/Zero to JupyterHub on Kubernetes  \n",
       "  9                               JupyterHub/team  \n",
       "  4                 Community Chat/Community Chat  \n",
       "  5                                 Binder/Binder  \n",
       "  8                       Binder/mybinder.org ops  ,\n",
       "  encoding: FacetedEncoding({\n",
       "    color: Color({\n",
       "      field: 'parent_category',\n",
       "      type: 'nominal'\n",
       "    }),\n",
       "    x: X({\n",
       "      field: 'parent/category',\n",
       "      sort: Sort(['accessibility', 'Q&A', 'Notebook', 'jobs', 'Meta', 'JupyterLab', 'JupyterHub', 'Zero to JupyterHub on Kubernetes', 'team', 'Community Chat', 'Binder', 'mybinder.org ops']),\n",
       "      type: 'nominal'\n",
       "    }),\n",
       "    y: Y({\n",
       "      field: 'bookmarked',\n",
       "      type: 'quantitative'\n",
       "    })\n",
       "  }),\n",
       "  height: 300,\n",
       "  mark: 'bar',\n",
       "  title: 'Activity by category',\n",
       "  width: 700\n",
       "})"
      ]
     },
     "execution_count": 13,
     "metadata": {},
     "output_type": "execute_result"
    }
   ],
   "source": [
    "counts = counts_from_activity(created)\n",
    "alt.Chart(data=counts, width=700, height=300, title=\"Activity by category\").mark_bar().encode(\n",
    "    x=alt.X(\"parent/category\", sort=alt.Sort(counts['category_id'].values.tolist())),\n",
    "    y=\"bookmarked\",\n",
    "    color=\"parent_category\"\n",
    ")"
   ]
  },
  {
   "cell_type": "markdown",
   "metadata": {
    "papermill": {
     "duration": 0.087016,
     "end_time": "2019-08-14T03:37:16.491530",
     "exception": false,
     "start_time": "2019-08-14T03:37:16.404514",
     "status": "completed"
    },
    "tags": []
   },
   "source": [
    "## User activity in the Community Forum\n",
    "\n",
    "**Top posters**\n",
    "\n",
    "These people have posted lots of comments, replies, answers, etc in the community forum."
   ]
  },
  {
   "cell_type": "code",
   "execution_count": 14,
   "metadata": {
    "papermill": {
     "duration": 0.078429,
     "end_time": "2019-08-14T03:37:16.626190",
     "exception": false,
     "start_time": "2019-08-14T03:37:16.547761",
     "status": "completed"
    },
    "tags": []
   },
   "outputs": [],
   "source": [
    "def plot_user_data(users, column, sort=False):\n",
    "    plt_data = users.sort_values(column, ascending=False).head(50)\n",
    "    x = alt.X(\"username\", sort=plt_data['username'].tolist()) if sort is True else 'username'\n",
    "    ch = alt.Chart(data=plt_data).mark_bar().encode(\n",
    "        x=x,\n",
    "        y=column\n",
    "    )\n",
    "    return ch"
   ]
  },
  {
   "cell_type": "code",
   "execution_count": 15,
   "metadata": {
    "papermill": {
     "duration": 0.231115,
     "end_time": "2019-08-14T03:37:16.910093",
     "exception": false,
     "start_time": "2019-08-14T03:37:16.678978",
     "status": "completed"
    },
    "tags": []
   },
   "outputs": [],
   "source": [
    "url = \"https://discourse.jupyter.org/directory_items.json\"\n",
    "params = {\"period\": \"quarterly\", \"order\": \"post_count\"}\n",
    "resp = requests.get(url, headers=api, params=params)\n",
    "\n",
    "# Topics with the most likes in recent history\n",
    "users = pd.DataFrame(resp.json()['directory_items'])\n",
    "users['username'] = users['user'].map(lambda a: a['username'])"
   ]
  },
  {
   "cell_type": "code",
   "execution_count": 16,
   "metadata": {
    "papermill": {
     "duration": 0.216467,
     "end_time": "2019-08-14T03:37:17.211166",
     "exception": false,
     "start_time": "2019-08-14T03:37:16.994699",
     "status": "completed"
    },
    "tags": []
   },
   "outputs": [
    {
     "data": {
      "text/html": [
       "\n",
       "  <style>\n",
       "    .vega-actions a {\n",
       "        margin-right: 12px;\n",
       "        color: #757575;\n",
       "        font-weight: normal;\n",
       "        font-size: 13px;\n",
       "    }\n",
       "    .error {\n",
       "        color: red;\n",
       "    }\n",
       "  </style>\n",
       "  <div id=\"altair-viz-3\"></div>\n",
       "  <script>\n",
       "    requirejs.config({\n",
       "        \"paths\": {\n",
       "            \"vega\": \"https://cdn.jsdelivr.net/npm//vega@5?noext\",\n",
       "            \"vega-lib\": \"https://cdn.jsdelivr.net/npm//vega-lib?noext\",\n",
       "            \"vega-lite\": \"https://cdn.jsdelivr.net/npm//vega-lite@3.3.0?noext\",\n",
       "            \"vega-embed\": \"https://cdn.jsdelivr.net/npm//vega-embed@4?noext\",\n",
       "        }\n",
       "    });\n",
       "    require(['vega-embed'], function(vegaEmbed){\n",
       "      var spec = {\"config\": {\"axisLeft\": {\"labelFontSize\": 15}, \"axisBottom\": {\"labelFontSize\": 15}}, \"data\": {\"name\": \"data-57c9bda91177966aef2749e23f1c1282\"}, \"mark\": \"bar\", \"encoding\": {\"x\": {\"type\": \"nominal\", \"field\": \"username\"}, \"y\": {\"type\": \"quantitative\", \"field\": \"post_count\"}}, \"$schema\": \"https://vega.github.io/schema/vega-lite/v3.3.0.json\", \"datasets\": {\"data-57c9bda91177966aef2749e23f1c1282\": [{\"id\": 6, \"likes_received\": 129, \"likes_given\": 206, \"topics_entered\": 330, \"topic_count\": 11, \"post_count\": 135, \"posts_read\": 1412, \"days_visited\": 83, \"user\": {\"id\": 6, \"username\": \"betatim\", \"name\": \"Tim Head\", \"avatar_template\": \"/user_avatar/discourse.jupyter.org/betatim/{size}/10_2.png\", \"title\": \"\"}, \"username\": \"betatim\"}, {\"id\": 3, \"likes_received\": 120, \"likes_given\": 196, \"topics_entered\": 230, \"topic_count\": 30, \"post_count\": 123, \"posts_read\": 888, \"days_visited\": 90, \"user\": {\"id\": 3, \"username\": \"choldgraf\", \"name\": \"Chris Holdgraf\", \"avatar_template\": \"/user_avatar/discourse.jupyter.org/choldgraf/{size}/12_2.png\", \"title\": \"Regular\"}, \"username\": \"choldgraf\"}, {\"id\": 24, \"likes_received\": 46, \"likes_given\": 16, \"topics_entered\": 264, \"topic_count\": 6, \"post_count\": 63, \"posts_read\": 667, \"days_visited\": 64, \"user\": {\"id\": 24, \"username\": \"psychemedia\", \"name\": \"Tony Hirst\", \"avatar_template\": \"/user_avatar/discourse.jupyter.org/psychemedia/{size}/24_2.png\", \"title\": null}, \"username\": \"psychemedia\"}, {\"id\": 8, \"likes_received\": 64, \"likes_given\": 13, \"topics_entered\": 140, \"topic_count\": 4, \"post_count\": 51, \"posts_read\": 681, \"days_visited\": 91, \"user\": {\"id\": 8, \"username\": \"minrk\", \"name\": \"Min RK\", \"avatar_template\": \"/user_avatar/discourse.jupyter.org/minrk/{size}/13_2.png\", \"title\": null}, \"username\": \"minrk\"}, {\"id\": 220, \"likes_received\": 36, \"likes_given\": 1, \"topics_entered\": 95, \"topic_count\": 1, \"post_count\": 50, \"posts_read\": 391, \"days_visited\": 29, \"user\": {\"id\": 220, \"username\": \"jasongrout\", \"name\": \"Jason Grout\", \"avatar_template\": \"/user_avatar/discourse.jupyter.org/jasongrout/{size}/371_2.png\", \"title\": null}, \"username\": \"jasongrout\"}, {\"id\": 12, \"likes_received\": 37, \"likes_given\": 7, \"topics_entered\": 122, \"topic_count\": 6, \"post_count\": 38, \"posts_read\": 593, \"days_visited\": 51, \"user\": {\"id\": 12, \"username\": \"yuvipanda\", \"name\": \"Yuvi Panda\", \"avatar_template\": \"/user_avatar/discourse.jupyter.org/yuvipanda/{size}/17_2.png\", \"title\": null}, \"username\": \"yuvipanda\"}, {\"id\": 116, \"likes_received\": 59, \"likes_given\": 29, \"topics_entered\": 127, \"topic_count\": 4, \"post_count\": 37, \"posts_read\": 590, \"days_visited\": 84, \"user\": {\"id\": 116, \"username\": \"sgibson91\", \"name\": \"Sarah Gibson\", \"avatar_template\": \"/user_avatar/discourse.jupyter.org/sgibson91/{size}/487_2.png\", \"title\": \"\"}, \"username\": \"sgibson91\"}, {\"id\": 73, \"likes_received\": 18, \"likes_given\": 17, \"topics_entered\": 329, \"topic_count\": 2, \"post_count\": 27, \"posts_read\": 1497, \"days_visited\": 74, \"user\": {\"id\": 73, \"username\": \"manics\", \"name\": \"Simon\", \"avatar_template\": \"/user_avatar/discourse.jupyter.org/manics/{size}/85_2.png\", \"title\": null}, \"username\": \"manics\"}, {\"id\": 99, \"likes_received\": 13, \"likes_given\": 37, \"topics_entered\": 97, \"topic_count\": 3, \"post_count\": 22, \"posts_read\": 525, \"days_visited\": 54, \"user\": {\"id\": 99, \"username\": \"Zsailer\", \"name\": \"Zachary Sailer\", \"avatar_template\": \"/user_avatar/discourse.jupyter.org/zsailer/{size}/106_2.png\", \"title\": null}, \"username\": \"Zsailer\"}, {\"id\": 485, \"likes_received\": 20, \"likes_given\": 57, \"topics_entered\": 58, \"topic_count\": 1, \"post_count\": 21, \"posts_read\": 295, \"days_visited\": 35, \"user\": {\"id\": 485, \"username\": \"rolweber\", \"name\": \"Roland Weber\", \"avatar_template\": \"/user_avatar/discourse.jupyter.org/rolweber/{size}/657_2.png\", \"title\": null}, \"username\": \"rolweber\"}, {\"id\": 11, \"likes_received\": 14, \"likes_given\": 66, \"topics_entered\": 208, \"topic_count\": 1, \"post_count\": 20, \"posts_read\": 991, \"days_visited\": 70, \"user\": {\"id\": 11, \"username\": \"fomightez\", \"name\": \"Wayne\", \"avatar_template\": \"/user_avatar/discourse.jupyter.org/fomightez/{size}/495_2.png\", \"title\": null}, \"username\": \"fomightez\"}, {\"id\": 234, \"likes_received\": 16, \"likes_given\": 5, \"topics_entered\": 7, \"topic_count\": 4, \"post_count\": 17, \"posts_read\": 53, \"days_visited\": 25, \"user\": {\"id\": 234, \"username\": \"fmaussion\", \"name\": \"Fabien Maussion\", \"avatar_template\": \"/user_avatar/discourse.jupyter.org/fmaussion/{size}/390_2.png\", \"title\": null}, \"username\": \"fmaussion\"}, {\"id\": 217, \"likes_received\": 6, \"likes_given\": 24, \"topics_entered\": 35, \"topic_count\": 0, \"post_count\": 17, \"posts_read\": 188, \"days_visited\": 39, \"user\": {\"id\": 217, \"username\": \"kevin-bates\", \"name\": \"Kevin Bates\", \"avatar_template\": \"/user_avatar/discourse.jupyter.org/kevin-bates/{size}/234_2.png\", \"title\": null}, \"username\": \"kevin-bates\"}, {\"id\": 77, \"likes_received\": 10, \"likes_given\": 8, \"topics_entered\": 153, \"topic_count\": 0, \"post_count\": 13, \"posts_read\": 761, \"days_visited\": 85, \"user\": {\"id\": 77, \"username\": \"jtp\", \"name\": \"Jeremy Tuloup\", \"avatar_template\": \"/user_avatar/discourse.jupyter.org/jtp/{size}/882_2.png\", \"title\": \"\"}, \"username\": \"jtp\"}, {\"id\": 30, \"likes_received\": 13, \"likes_given\": 71, \"topics_entered\": 50, \"topic_count\": 2, \"post_count\": 12, \"posts_read\": 307, \"days_visited\": 72, \"user\": {\"id\": 30, \"username\": \"consideRatio\", \"name\": \"Erik Sundell\", \"avatar_template\": \"/user_avatar/discourse.jupyter.org/consideratio/{size}/30_2.png\", \"title\": null}, \"username\": \"consideRatio\"}, {\"id\": 60, \"likes_received\": 7, \"likes_given\": 7, \"topics_entered\": 33, \"topic_count\": 0, \"post_count\": 11, \"posts_read\": 267, \"days_visited\": 27, \"user\": {\"id\": 60, \"username\": \"fm75\", \"name\": \"Fred Mitchell\", \"avatar_template\": \"/user_avatar/discourse.jupyter.org/fm75/{size}/71_2.png\", \"title\": \"\"}, \"username\": \"fm75\"}, {\"id\": 34, \"likes_received\": 18, \"likes_given\": 3, \"topics_entered\": 16, \"topic_count\": 3, \"post_count\": 10, \"posts_read\": 158, \"days_visited\": 27, \"user\": {\"id\": 34, \"username\": \"danielballan\", \"name\": \"Dan Allan\", \"avatar_template\": \"/user_avatar/discourse.jupyter.org/danielballan/{size}/34_2.png\", \"title\": null}, \"username\": \"danielballan\"}, {\"id\": 222, \"likes_received\": 15, \"likes_given\": 6, \"topics_entered\": 16, \"topic_count\": 1, \"post_count\": 10, \"posts_read\": 143, \"days_visited\": 44, \"user\": {\"id\": 222, \"username\": \"tgeorgeux\", \"name\": \"Timothy George\", \"avatar_template\": \"https://avatars.discourse.org/v4/letter/t/f05b48/{size}.png\", \"title\": null}, \"username\": \"tgeorgeux\"}, {\"id\": 432, \"likes_received\": 6, \"likes_given\": 24, \"topics_entered\": 51, \"topic_count\": 1, \"post_count\": 10, \"posts_read\": 207, \"days_visited\": 36, \"user\": {\"id\": 432, \"username\": \"ondrejj\", \"name\": \"Ond\\u0159ej \", \"avatar_template\": \"/user_avatar/discourse.jupyter.org/ondrejj/{size}/567_2.png\", \"title\": null}, \"username\": \"ondrejj\"}, {\"id\": 566, \"likes_received\": 2, \"likes_given\": 0, \"topics_entered\": 12, \"topic_count\": 2, \"post_count\": 9, \"posts_read\": 34, \"days_visited\": 14, \"user\": {\"id\": 566, \"username\": \"Shreyas_Cholia\", \"name\": \"Shreyas Cholia\", \"avatar_template\": \"/user_avatar/discourse.jupyter.org/shreyas_cholia/{size}/784_2.png\", \"title\": null}, \"username\": \"Shreyas_Cholia\"}, {\"id\": 556, \"likes_received\": 8, \"likes_given\": 3, \"topics_entered\": 15, \"topic_count\": 1, \"post_count\": 9, \"posts_read\": 77, \"days_visited\": 11, \"user\": {\"id\": 556, \"username\": \"blink1073\", \"name\": \"Steven Silvester\", \"avatar_template\": \"/user_avatar/discourse.jupyter.org/blink1073/{size}/791_2.png\", \"title\": null}, \"username\": \"blink1073\"}, {\"id\": 679, \"likes_received\": 10, \"likes_given\": 1, \"topics_entered\": 24, \"topic_count\": 0, \"post_count\": 9, \"posts_read\": 119, \"days_visited\": 11, \"user\": {\"id\": 679, \"username\": \"bollwyvl\", \"name\": \"Nicholas Bollweg\", \"avatar_template\": \"/user_avatar/discourse.jupyter.org/bollwyvl/{size}/904_2.png\", \"title\": null}, \"username\": \"bollwyvl\"}, {\"id\": 303, \"likes_received\": 3, \"likes_given\": 7, \"topics_entered\": 67, \"topic_count\": 2, \"post_count\": 9, \"posts_read\": 277, \"days_visited\": 68, \"user\": {\"id\": 303, \"username\": \"ian-r-rose\", \"name\": \"Ian Rose\", \"avatar_template\": \"/user_avatar/discourse.jupyter.org/ian-r-rose/{size}/638_2.png\", \"title\": null}, \"username\": \"ian-r-rose\"}, {\"id\": 7, \"likes_received\": 16, \"likes_given\": 24, \"topics_entered\": 31, \"topic_count\": 0, \"post_count\": 9, \"posts_read\": 227, \"days_visited\": 23, \"user\": {\"id\": 7, \"username\": \"willingc\", \"name\": \"Carol Willing\", \"avatar_template\": \"/user_avatar/discourse.jupyter.org/willingc/{size}/11_2.png\", \"title\": null}, \"username\": \"willingc\"}, {\"id\": 686, \"likes_received\": 3, \"likes_given\": 0, \"topics_entered\": 30, \"topic_count\": 3, \"post_count\": 8, \"posts_read\": 93, \"days_visited\": 11, \"user\": {\"id\": 686, \"username\": \"sqqqrly\", \"name\": \"DAVID OHLEMACHER\", \"avatar_template\": \"https://avatars.discourse.org/v4/letter/s/22d042/{size}.png\", \"title\": null}, \"username\": \"sqqqrly\"}, {\"id\": 419, \"likes_received\": 2, \"likes_given\": 0, \"topics_entered\": 14, \"topic_count\": 5, \"post_count\": 8, \"posts_read\": 38, \"days_visited\": 26, \"user\": {\"id\": 419, \"username\": \"alvinhuff\", \"name\": \"Alvin Huff\", \"avatar_template\": \"/user_avatar/discourse.jupyter.org/alvinhuff/{size}/550_2.png\", \"title\": null}, \"username\": \"alvinhuff\"}, {\"id\": 510, \"likes_received\": 6, \"likes_given\": 0, \"topics_entered\": 4, \"topic_count\": 2, \"post_count\": 8, \"posts_read\": 10, \"days_visited\": 10, \"user\": {\"id\": 510, \"username\": \"lorankary\", \"name\": \"Lorankary\", \"avatar_template\": \"https://avatars.discourse.org/v4/letter/l/ac8455/{size}.png\", \"title\": null}, \"username\": \"lorankary\"}, {\"id\": 462, \"likes_received\": 1, \"likes_given\": 0, \"topics_entered\": 16, \"topic_count\": 3, \"post_count\": 7, \"posts_read\": 87, \"days_visited\": 19, \"user\": {\"id\": 462, \"username\": \"rahuldave\", \"name\": \"Rahul Dave\", \"avatar_template\": \"https://avatars.discourse.org/v4/letter/r/6f9a4e/{size}.png\", \"title\": null}, \"username\": \"rahuldave\"}, {\"id\": 268, \"likes_received\": 13, \"likes_given\": 5, \"topics_entered\": 18, \"topic_count\": 3, \"post_count\": 7, \"posts_read\": 101, \"days_visited\": 26, \"user\": {\"id\": 268, \"username\": \"afshin\", \"name\": \"A. T. Darian\", \"avatar_template\": \"/user_avatar/discourse.jupyter.org/afshin/{size}/314_2.png\", \"title\": null}, \"username\": \"afshin\"}, {\"id\": 390, \"likes_received\": 2, \"likes_given\": 1, \"topics_entered\": 14, \"topic_count\": 4, \"post_count\": 7, \"posts_read\": 34, \"days_visited\": 9, \"user\": {\"id\": 390, \"username\": \"ernstch\", \"name\": \"Ernst\", \"avatar_template\": \"https://avatars.discourse.org/v4/letter/e/9de0a6/{size}.png\", \"title\": null}, \"username\": \"ernstch\"}, {\"id\": 59, \"likes_received\": 10, \"likes_given\": 3, \"topics_entered\": 16, \"topic_count\": 1, \"post_count\": 7, \"posts_read\": 161, \"days_visited\": 33, \"user\": {\"id\": 59, \"username\": \"bitnik\", \"name\": \"Kenan Erdogan\", \"avatar_template\": \"/user_avatar/discourse.jupyter.org/bitnik/{size}/79_2.png\", \"title\": \"\"}, \"username\": \"bitnik\"}, {\"id\": 372, \"likes_received\": 6, \"likes_given\": 5, \"topics_entered\": 27, \"topic_count\": 1, \"post_count\": 7, \"posts_read\": 139, \"days_visited\": 29, \"user\": {\"id\": 372, \"username\": \"davclark\", \"name\": \"Dav Clark\", \"avatar_template\": \"/user_avatar/discourse.jupyter.org/davclark/{size}/489_2.png\", \"title\": null}, \"username\": \"davclark\"}, {\"id\": 71, \"likes_received\": 4, \"likes_given\": 1, \"topics_entered\": 15, \"topic_count\": 1, \"post_count\": 7, \"posts_read\": 143, \"days_visited\": 20, \"user\": {\"id\": 71, \"username\": \"nuest\", \"name\": \"Daniel N\\u00fcst\", \"avatar_template\": \"/user_avatar/discourse.jupyter.org/nuest/{size}/82_2.png\", \"title\": null}, \"username\": \"nuest\"}, {\"id\": 333, \"likes_received\": 0, \"likes_given\": 2, \"topics_entered\": 1, \"topic_count\": 0, \"post_count\": 7, \"posts_read\": 37, \"days_visited\": 21, \"user\": {\"id\": 333, \"username\": \"cmbui\", \"name\": \"Christina\", \"avatar_template\": \"/user_avatar/discourse.jupyter.org/cmbui/{size}/436_2.png\", \"title\": null}, \"username\": \"cmbui\"}, {\"id\": 487, \"likes_received\": 0, \"likes_given\": 0, \"topics_entered\": 25, \"topic_count\": 4, \"post_count\": 7, \"posts_read\": 83, \"days_visited\": 14, \"user\": {\"id\": 487, \"username\": \"D4rkM4atter\", \"name\": \"\", \"avatar_template\": \"/user_avatar/discourse.jupyter.org/d4rkm4atter/{size}/663_2.png\", \"title\": null}, \"username\": \"D4rkM4atter\"}, {\"id\": 227, \"likes_received\": 2, \"likes_given\": 7, \"topics_entered\": 28, \"topic_count\": 0, \"post_count\": 6, \"posts_read\": 167, \"days_visited\": 13, \"user\": {\"id\": 227, \"username\": \"sterlinm\", \"name\": \"Michael\", \"avatar_template\": \"/user_avatar/discourse.jupyter.org/sterlinm/{size}/241_2.png\", \"title\": null}, \"username\": \"sterlinm\"}, {\"id\": 642, \"likes_received\": 1, \"likes_given\": 0, \"topics_entered\": 30, \"topic_count\": 5, \"post_count\": 6, \"posts_read\": 129, \"days_visited\": 24, \"user\": {\"id\": 642, \"username\": \"ArlenePena\", \"name\": null, \"avatar_template\": \"https://avatars.discourse.org/v4/letter/a/34f0e0/{size}.png\", \"title\": null}, \"username\": \"ArlenePena\"}, {\"id\": 590, \"likes_received\": 2, \"likes_given\": 0, \"topics_entered\": 13, \"topic_count\": 2, \"post_count\": 6, \"posts_read\": 70, \"days_visited\": 15, \"user\": {\"id\": 590, \"username\": \"nscozzaro\", \"name\": \"Nicolas Scozzaro\", \"avatar_template\": \"/user_avatar/discourse.jupyter.org/nscozzaro/{size}/804_2.png\", \"title\": null}, \"username\": \"nscozzaro\"}, {\"id\": 771, \"likes_received\": 11, \"likes_given\": 1, \"topics_entered\": 3, \"topic_count\": 0, \"post_count\": 6, \"posts_read\": 67, \"days_visited\": 3, \"user\": {\"id\": 771, \"username\": \"sarasrking\", \"name\": \"Sara King\", \"avatar_template\": \"https://avatars.discourse.org/v4/letter/s/d78d45/{size}.png\", \"title\": null}, \"username\": \"sarasrking\"}, {\"id\": 565, \"likes_received\": 5, \"likes_given\": 3, \"topics_entered\": 6, \"topic_count\": 0, \"post_count\": 6, \"posts_read\": 43, \"days_visited\": 7, \"user\": {\"id\": 565, \"username\": \"danielskatz\", \"name\": \"Daniel S. Katz\", \"avatar_template\": \"/user_avatar/discourse.jupyter.org/danielskatz/{size}/785_2.png\", \"title\": null}, \"username\": \"danielskatz\"}, {\"id\": 145, \"likes_received\": 8, \"likes_given\": 0, \"topics_entered\": 7, \"topic_count\": 2, \"post_count\": 6, \"posts_read\": 38, \"days_visited\": 8, \"user\": {\"id\": 145, \"username\": \"hhuuggoo\", \"name\": \"saturncloud.io\", \"avatar_template\": \"/user_avatar/discourse.jupyter.org/hhuuggoo/{size}/242_2.png\", \"title\": \"\"}, \"username\": \"hhuuggoo\"}, {\"id\": 9, \"likes_received\": 6, \"likes_given\": 0, \"topics_entered\": 10, \"topic_count\": 0, \"post_count\": 6, \"posts_read\": 36, \"days_visited\": 13, \"user\": {\"id\": 9, \"username\": \"ellisonbg\", \"name\": \"Brian Granger\", \"avatar_template\": \"/user_avatar/discourse.jupyter.org/ellisonbg/{size}/14_2.png\", \"title\": null}, \"username\": \"ellisonbg\"}, {\"id\": 640, \"likes_received\": 0, \"likes_given\": 0, \"topics_entered\": 6, \"topic_count\": 1, \"post_count\": 6, \"posts_read\": 23, \"days_visited\": 7, \"user\": {\"id\": 640, \"username\": \"Stefano_Fioravanzo\", \"name\": \"Stefano Fioravanzo\", \"avatar_template\": \"/user_avatar/discourse.jupyter.org/stefano_fioravanzo/{size}/849_2.png\", \"title\": null}, \"username\": \"Stefano_Fioravanzo\"}, {\"id\": 195, \"likes_received\": 1, \"likes_given\": 0, \"topics_entered\": 8, \"topic_count\": 0, \"post_count\": 6, \"posts_read\": 34, \"days_visited\": 10, \"user\": {\"id\": 195, \"username\": \"rcthomas\", \"name\": \"\", \"avatar_template\": \"/user_avatar/discourse.jupyter.org/rcthomas/{size}/201_2.png\", \"title\": null}, \"username\": \"rcthomas\"}, {\"id\": 562, \"likes_received\": 0, \"likes_given\": 0, \"topics_entered\": 4, \"topic_count\": 0, \"post_count\": 5, \"posts_read\": 25, \"days_visited\": 8, \"user\": {\"id\": 562, \"username\": \"Shane_Canon\", \"name\": \"Shane Canon\", \"avatar_template\": \"/user_avatar/discourse.jupyter.org/shane_canon/{size}/783_2.png\", \"title\": null}, \"username\": \"Shane_Canon\"}, {\"id\": 352, \"likes_received\": 7, \"likes_given\": 0, \"topics_entered\": 3, \"topic_count\": 0, \"post_count\": 5, \"posts_read\": 50, \"days_visited\": 12, \"user\": {\"id\": 352, \"username\": \"jhornig\", \"name\": \"Joseph Hornig\", \"avatar_template\": \"/user_avatar/discourse.jupyter.org/jhornig/{size}/453_2.png\", \"title\": null}, \"username\": \"jhornig\"}, {\"id\": 699, \"likes_received\": 1, \"likes_given\": 0, \"topics_entered\": 14, \"topic_count\": 5, \"post_count\": 5, \"posts_read\": 39, \"days_visited\": 6, \"user\": {\"id\": 699, \"username\": \"josh\", \"name\": null, \"avatar_template\": \"https://avatars.discourse.org/v4/letter/j/45deac/{size}.png\", \"title\": null}, \"username\": \"josh\"}, {\"id\": 622, \"likes_received\": 4, \"likes_given\": 8, \"topics_entered\": 17, \"topic_count\": 1, \"post_count\": 5, \"posts_read\": 64, \"days_visited\": 19, \"user\": {\"id\": 622, \"username\": \"esevan\", \"name\": \"Eunsoo Park (Evan)\", \"avatar_template\": \"/user_avatar/discourse.jupyter.org/esevan/{size}/844_2.png\", \"title\": \"\"}, \"username\": \"esevan\"}, {\"id\": 601, \"likes_received\": 1, \"likes_given\": 0, \"topics_entered\": 39, \"topic_count\": 3, \"post_count\": 5, \"posts_read\": 111, \"days_visited\": 18, \"user\": {\"id\": 601, \"username\": \"parmentelat\", \"name\": \"Thierry Parmentelat\", \"avatar_template\": \"/user_avatar/discourse.jupyter.org/parmentelat/{size}/813_2.png\", \"title\": null}, \"username\": \"parmentelat\"}, {\"id\": 184, \"likes_received\": 2, \"likes_given\": 11, \"topics_entered\": 37, \"topic_count\": 1, \"post_count\": 5, \"posts_read\": 225, \"days_visited\": 25, \"user\": {\"id\": 184, \"username\": \"emdupre\", \"name\": \"Elizabeth DuPre\", \"avatar_template\": \"/user_avatar/discourse.jupyter.org/emdupre/{size}/496_2.png\", \"title\": null}, \"username\": \"emdupre\"}]}};\n",
       "      var embedOpt = {\"mode\": \"vega-lite\"};\n",
       "\n",
       "      function showError(el, error){\n",
       "          el.innerHTML = ('<div class=\"error\" style=\"color:red;\">'\n",
       "                          + '<p>JavaScript Error: ' + error.message + '</p>'\n",
       "                          + \"<p>This usually means there's a typo in your chart specification. \"\n",
       "                          + \"See the javascript console for the full traceback.</p>\"\n",
       "                          + '</div>');\n",
       "          throw error;\n",
       "      }\n",
       "      const el = document.getElementById('altair-viz-3');\n",
       "      vegaEmbed(\"#altair-viz-3\", spec, embedOpt)\n",
       "        .catch(error => showError(el, error));\n",
       "    });\n",
       "\n",
       "  </script>"
      ],
      "text/plain": [
       "Chart({\n",
       "  data:      id  likes_received  likes_given  topics_entered  topic_count  post_count  \\\n",
       "  0     6             129          206             330           11         135   \n",
       "  1     3             120          196             230           30         123   \n",
       "  2    24              46           16             264            6          63   \n",
       "  3     8              64           13             140            4          51   \n",
       "  4   220              36            1              95            1          50   \n",
       "  5    12              37            7             122            6          38   \n",
       "  6   116              59           29             127            4          37   \n",
       "  7    73              18           17             329            2          27   \n",
       "  8    99              13           37              97            3          22   \n",
       "  9   485              20           57              58            1          21   \n",
       "  10   11              14           66             208            1          20   \n",
       "  12  234              16            5               7            4          17   \n",
       "  11  217               6           24              35            0          17   \n",
       "  13   77              10            8             153            0          13   \n",
       "  14   30              13           71              50            2          12   \n",
       "  15   60               7            7              33            0          11   \n",
       "  16   34              18            3              16            3          10   \n",
       "  17  222              15            6              16            1          10   \n",
       "  18  432               6           24              51            1          10   \n",
       "  19  566               2            0              12            2           9   \n",
       "  20  556               8            3              15            1           9   \n",
       "  21  679              10            1              24            0           9   \n",
       "  22  303               3            7              67            2           9   \n",
       "  23    7              16           24              31            0           9   \n",
       "  26  686               3            0              30            3           8   \n",
       "  25  419               2            0              14            5           8   \n",
       "  24  510               6            0               4            2           8   \n",
       "  28  462               1            0              16            3           7   \n",
       "  29  268              13            5              18            3           7   \n",
       "  30  390               2            1              14            4           7   \n",
       "  31   59              10            3              16            1           7   \n",
       "  32  372               6            5              27            1           7   \n",
       "  33   71               4            1              15            1           7   \n",
       "  34  333               0            2               1            0           7   \n",
       "  27  487               0            0              25            4           7   \n",
       "  40  227               2            7              28            0           6   \n",
       "  43  642               1            0              30            5           6   \n",
       "  42  590               2            0              13            2           6   \n",
       "  41  771              11            1               3            0           6   \n",
       "  38  565               5            3               6            0           6   \n",
       "  39  145               8            0               7            2           6   \n",
       "  37    9               6            0              10            0           6   \n",
       "  36  640               0            0               6            1           6   \n",
       "  35  195               1            0               8            0           6   \n",
       "  44  562               0            0               4            0           5   \n",
       "  45  352               7            0               3            0           5   \n",
       "  46  699               1            0              14            5           5   \n",
       "  47  622               4            8              17            1           5   \n",
       "  48  601               1            0              39            3           5   \n",
       "  49  184               2           11              37            1           5   \n",
       "  \n",
       "      posts_read  days_visited  \\\n",
       "  0         1412            83   \n",
       "  1          888            90   \n",
       "  2          667            64   \n",
       "  3          681            91   \n",
       "  4          391            29   \n",
       "  5          593            51   \n",
       "  6          590            84   \n",
       "  7         1497            74   \n",
       "  8          525            54   \n",
       "  9          295            35   \n",
       "  10         991            70   \n",
       "  12          53            25   \n",
       "  11         188            39   \n",
       "  13         761            85   \n",
       "  14         307            72   \n",
       "  15         267            27   \n",
       "  16         158            27   \n",
       "  17         143            44   \n",
       "  18         207            36   \n",
       "  19          34            14   \n",
       "  20          77            11   \n",
       "  21         119            11   \n",
       "  22         277            68   \n",
       "  23         227            23   \n",
       "  26          93            11   \n",
       "  25          38            26   \n",
       "  24          10            10   \n",
       "  28          87            19   \n",
       "  29         101            26   \n",
       "  30          34             9   \n",
       "  31         161            33   \n",
       "  32         139            29   \n",
       "  33         143            20   \n",
       "  34          37            21   \n",
       "  27          83            14   \n",
       "  40         167            13   \n",
       "  43         129            24   \n",
       "  42          70            15   \n",
       "  41          67             3   \n",
       "  38          43             7   \n",
       "  39          38             8   \n",
       "  37          36            13   \n",
       "  36          23             7   \n",
       "  35          34            10   \n",
       "  44          25             8   \n",
       "  45          50            12   \n",
       "  46          39             6   \n",
       "  47          64            19   \n",
       "  48         111            18   \n",
       "  49         225            25   \n",
       "  \n",
       "                                                   user            username  \n",
       "  0   {'id': 6, 'username': 'betatim', 'name': 'Tim ...             betatim  \n",
       "  1   {'id': 3, 'username': 'choldgraf', 'name': 'Ch...           choldgraf  \n",
       "  2   {'id': 24, 'username': 'psychemedia', 'name': ...         psychemedia  \n",
       "  3   {'id': 8, 'username': 'minrk', 'name': 'Min RK...               minrk  \n",
       "  4   {'id': 220, 'username': 'jasongrout', 'name': ...          jasongrout  \n",
       "  5   {'id': 12, 'username': 'yuvipanda', 'name': 'Y...           yuvipanda  \n",
       "  6   {'id': 116, 'username': 'sgibson91', 'name': '...           sgibson91  \n",
       "  7   {'id': 73, 'username': 'manics', 'name': 'Simo...              manics  \n",
       "  8   {'id': 99, 'username': 'Zsailer', 'name': 'Zac...             Zsailer  \n",
       "  9   {'id': 485, 'username': 'rolweber', 'name': 'R...            rolweber  \n",
       "  10  {'id': 11, 'username': 'fomightez', 'name': 'W...           fomightez  \n",
       "  12  {'id': 234, 'username': 'fmaussion', 'name': '...           fmaussion  \n",
       "  11  {'id': 217, 'username': 'kevin-bates', 'name':...         kevin-bates  \n",
       "  13  {'id': 77, 'username': 'jtp', 'name': 'Jeremy ...                 jtp  \n",
       "  14  {'id': 30, 'username': 'consideRatio', 'name':...        consideRatio  \n",
       "  15  {'id': 60, 'username': 'fm75', 'name': 'Fred M...                fm75  \n",
       "  16  {'id': 34, 'username': 'danielballan', 'name':...        danielballan  \n",
       "  17  {'id': 222, 'username': 'tgeorgeux', 'name': '...           tgeorgeux  \n",
       "  18  {'id': 432, 'username': 'ondrejj', 'name': 'On...             ondrejj  \n",
       "  19  {'id': 566, 'username': 'Shreyas_Cholia', 'nam...      Shreyas_Cholia  \n",
       "  20  {'id': 556, 'username': 'blink1073', 'name': '...           blink1073  \n",
       "  21  {'id': 679, 'username': 'bollwyvl', 'name': 'N...            bollwyvl  \n",
       "  22  {'id': 303, 'username': 'ian-r-rose', 'name': ...          ian-r-rose  \n",
       "  23  {'id': 7, 'username': 'willingc', 'name': 'Car...            willingc  \n",
       "  26  {'id': 686, 'username': 'sqqqrly', 'name': 'DA...             sqqqrly  \n",
       "  25  {'id': 419, 'username': 'alvinhuff', 'name': '...           alvinhuff  \n",
       "  24  {'id': 510, 'username': 'lorankary', 'name': '...           lorankary  \n",
       "  28  {'id': 462, 'username': 'rahuldave', 'name': '...           rahuldave  \n",
       "  29  {'id': 268, 'username': 'afshin', 'name': 'A. ...              afshin  \n",
       "  30  {'id': 390, 'username': 'ernstch', 'name': 'Er...             ernstch  \n",
       "  31  {'id': 59, 'username': 'bitnik', 'name': 'Kena...              bitnik  \n",
       "  32  {'id': 372, 'username': 'davclark', 'name': 'D...            davclark  \n",
       "  33  {'id': 71, 'username': 'nuest', 'name': 'Danie...               nuest  \n",
       "  34  {'id': 333, 'username': 'cmbui', 'name': 'Chri...               cmbui  \n",
       "  27  {'id': 487, 'username': 'D4rkM4atter', 'name':...         D4rkM4atter  \n",
       "  40  {'id': 227, 'username': 'sterlinm', 'name': 'M...            sterlinm  \n",
       "  43  {'id': 642, 'username': 'ArlenePena', 'name': ...          ArlenePena  \n",
       "  42  {'id': 590, 'username': 'nscozzaro', 'name': '...           nscozzaro  \n",
       "  41  {'id': 771, 'username': 'sarasrking', 'name': ...          sarasrking  \n",
       "  38  {'id': 565, 'username': 'danielskatz', 'name':...         danielskatz  \n",
       "  39  {'id': 145, 'username': 'hhuuggoo', 'name': 's...            hhuuggoo  \n",
       "  37  {'id': 9, 'username': 'ellisonbg', 'name': 'Br...           ellisonbg  \n",
       "  36  {'id': 640, 'username': 'Stefano_Fioravanzo', ...  Stefano_Fioravanzo  \n",
       "  35  {'id': 195, 'username': 'rcthomas', 'name': ''...            rcthomas  \n",
       "  44  {'id': 562, 'username': 'Shane_Canon', 'name':...         Shane_Canon  \n",
       "  45  {'id': 352, 'username': 'jhornig', 'name': 'Jo...             jhornig  \n",
       "  46  {'id': 699, 'username': 'josh', 'name': None, ...                josh  \n",
       "  47  {'id': 622, 'username': 'esevan', 'name': 'Eun...              esevan  \n",
       "  48  {'id': 601, 'username': 'parmentelat', 'name':...         parmentelat  \n",
       "  49  {'id': 184, 'username': 'emdupre', 'name': 'El...             emdupre  ,\n",
       "  encoding: FacetedEncoding({\n",
       "    x: X({\n",
       "      field: 'username',\n",
       "      type: 'nominal'\n",
       "    }),\n",
       "    y: Y({\n",
       "      field: 'post_count',\n",
       "      type: 'quantitative'\n",
       "    })\n",
       "  }),\n",
       "  mark: 'bar'\n",
       "})"
      ]
     },
     "execution_count": 16,
     "metadata": {},
     "output_type": "execute_result"
    }
   ],
   "source": [
    "plot_user_data(users.head(50), 'post_count')"
   ]
  },
  {
   "cell_type": "markdown",
   "metadata": {
    "papermill": {
     "duration": 0.046667,
     "end_time": "2019-08-14T03:37:17.295866",
     "exception": false,
     "start_time": "2019-08-14T03:37:17.249199",
     "status": "completed"
    },
    "tags": []
   },
   "source": [
    "**Forum users, sorted by likes given**\n",
    "\n",
    "These are Community Forum members that \"liked\" other people's posts. We appreciate\n",
    "anybody taking the time to tell someone else they like what they're shared!"
   ]
  },
  {
   "cell_type": "code",
   "execution_count": 17,
   "metadata": {
    "papermill": {
     "duration": 0.190817,
     "end_time": "2019-08-14T03:37:17.543202",
     "exception": false,
     "start_time": "2019-08-14T03:37:17.352385",
     "status": "completed"
    },
    "tags": []
   },
   "outputs": [
    {
     "data": {
      "text/html": [
       "\n",
       "  <style>\n",
       "    .vega-actions a {\n",
       "        margin-right: 12px;\n",
       "        color: #757575;\n",
       "        font-weight: normal;\n",
       "        font-size: 13px;\n",
       "    }\n",
       "    .error {\n",
       "        color: red;\n",
       "    }\n",
       "  </style>\n",
       "  <div id=\"altair-viz-4\"></div>\n",
       "  <script>\n",
       "    requirejs.config({\n",
       "        \"paths\": {\n",
       "            \"vega\": \"https://cdn.jsdelivr.net/npm//vega@5?noext\",\n",
       "            \"vega-lib\": \"https://cdn.jsdelivr.net/npm//vega-lib?noext\",\n",
       "            \"vega-lite\": \"https://cdn.jsdelivr.net/npm//vega-lite@3.3.0?noext\",\n",
       "            \"vega-embed\": \"https://cdn.jsdelivr.net/npm//vega-embed@4?noext\",\n",
       "        }\n",
       "    });\n",
       "    require(['vega-embed'], function(vegaEmbed){\n",
       "      var spec = {\"config\": {\"axisLeft\": {\"labelFontSize\": 15}, \"axisBottom\": {\"labelFontSize\": 15}}, \"data\": {\"name\": \"data-646d126debfeba2bdb98b2612e645ede\"}, \"mark\": \"bar\", \"encoding\": {\"x\": {\"type\": \"nominal\", \"field\": \"username\"}, \"y\": {\"type\": \"quantitative\", \"field\": \"likes_given\"}}, \"$schema\": \"https://vega.github.io/schema/vega-lite/v3.3.0.json\", \"datasets\": {\"data-646d126debfeba2bdb98b2612e645ede\": [{\"id\": 6, \"likes_received\": 129, \"likes_given\": 206, \"topics_entered\": 330, \"topic_count\": 11, \"post_count\": 135, \"posts_read\": 1412, \"days_visited\": 83, \"user\": {\"id\": 6, \"username\": \"betatim\", \"name\": \"Tim Head\", \"avatar_template\": \"/user_avatar/discourse.jupyter.org/betatim/{size}/10_2.png\", \"title\": \"\"}, \"username\": \"betatim\"}, {\"id\": 3, \"likes_received\": 120, \"likes_given\": 196, \"topics_entered\": 230, \"topic_count\": 30, \"post_count\": 123, \"posts_read\": 888, \"days_visited\": 90, \"user\": {\"id\": 3, \"username\": \"choldgraf\", \"name\": \"Chris Holdgraf\", \"avatar_template\": \"/user_avatar/discourse.jupyter.org/choldgraf/{size}/12_2.png\", \"title\": \"Regular\"}, \"username\": \"choldgraf\"}, {\"id\": 30, \"likes_received\": 13, \"likes_given\": 71, \"topics_entered\": 50, \"topic_count\": 2, \"post_count\": 12, \"posts_read\": 307, \"days_visited\": 72, \"user\": {\"id\": 30, \"username\": \"consideRatio\", \"name\": \"Erik Sundell\", \"avatar_template\": \"/user_avatar/discourse.jupyter.org/consideratio/{size}/30_2.png\", \"title\": null}, \"username\": \"consideRatio\"}, {\"id\": 11, \"likes_received\": 14, \"likes_given\": 66, \"topics_entered\": 208, \"topic_count\": 1, \"post_count\": 20, \"posts_read\": 991, \"days_visited\": 70, \"user\": {\"id\": 11, \"username\": \"fomightez\", \"name\": \"Wayne\", \"avatar_template\": \"/user_avatar/discourse.jupyter.org/fomightez/{size}/495_2.png\", \"title\": null}, \"username\": \"fomightez\"}, {\"id\": 485, \"likes_received\": 20, \"likes_given\": 57, \"topics_entered\": 58, \"topic_count\": 1, \"post_count\": 21, \"posts_read\": 295, \"days_visited\": 35, \"user\": {\"id\": 485, \"username\": \"rolweber\", \"name\": \"Roland Weber\", \"avatar_template\": \"/user_avatar/discourse.jupyter.org/rolweber/{size}/657_2.png\", \"title\": null}, \"username\": \"rolweber\"}, {\"id\": 99, \"likes_received\": 13, \"likes_given\": 37, \"topics_entered\": 97, \"topic_count\": 3, \"post_count\": 22, \"posts_read\": 525, \"days_visited\": 54, \"user\": {\"id\": 99, \"username\": \"Zsailer\", \"name\": \"Zachary Sailer\", \"avatar_template\": \"/user_avatar/discourse.jupyter.org/zsailer/{size}/106_2.png\", \"title\": null}, \"username\": \"Zsailer\"}, {\"id\": 116, \"likes_received\": 59, \"likes_given\": 29, \"topics_entered\": 127, \"topic_count\": 4, \"post_count\": 37, \"posts_read\": 590, \"days_visited\": 84, \"user\": {\"id\": 116, \"username\": \"sgibson91\", \"name\": \"Sarah Gibson\", \"avatar_template\": \"/user_avatar/discourse.jupyter.org/sgibson91/{size}/487_2.png\", \"title\": \"\"}, \"username\": \"sgibson91\"}, {\"id\": 7, \"likes_received\": 16, \"likes_given\": 24, \"topics_entered\": 31, \"topic_count\": 0, \"post_count\": 9, \"posts_read\": 227, \"days_visited\": 23, \"user\": {\"id\": 7, \"username\": \"willingc\", \"name\": \"Carol Willing\", \"avatar_template\": \"/user_avatar/discourse.jupyter.org/willingc/{size}/11_2.png\", \"title\": null}, \"username\": \"willingc\"}, {\"id\": 217, \"likes_received\": 6, \"likes_given\": 24, \"topics_entered\": 35, \"topic_count\": 0, \"post_count\": 17, \"posts_read\": 188, \"days_visited\": 39, \"user\": {\"id\": 217, \"username\": \"kevin-bates\", \"name\": \"Kevin Bates\", \"avatar_template\": \"/user_avatar/discourse.jupyter.org/kevin-bates/{size}/234_2.png\", \"title\": null}, \"username\": \"kevin-bates\"}, {\"id\": 432, \"likes_received\": 6, \"likes_given\": 24, \"topics_entered\": 51, \"topic_count\": 1, \"post_count\": 10, \"posts_read\": 207, \"days_visited\": 36, \"user\": {\"id\": 432, \"username\": \"ondrejj\", \"name\": \"Ond\\u0159ej \", \"avatar_template\": \"/user_avatar/discourse.jupyter.org/ondrejj/{size}/567_2.png\", \"title\": null}, \"username\": \"ondrejj\"}, {\"id\": 73, \"likes_received\": 18, \"likes_given\": 17, \"topics_entered\": 329, \"topic_count\": 2, \"post_count\": 27, \"posts_read\": 1497, \"days_visited\": 74, \"user\": {\"id\": 73, \"username\": \"manics\", \"name\": \"Simon\", \"avatar_template\": \"/user_avatar/discourse.jupyter.org/manics/{size}/85_2.png\", \"title\": null}, \"username\": \"manics\"}, {\"id\": 24, \"likes_received\": 46, \"likes_given\": 16, \"topics_entered\": 264, \"topic_count\": 6, \"post_count\": 63, \"posts_read\": 667, \"days_visited\": 64, \"user\": {\"id\": 24, \"username\": \"psychemedia\", \"name\": \"Tony Hirst\", \"avatar_template\": \"/user_avatar/discourse.jupyter.org/psychemedia/{size}/24_2.png\", \"title\": null}, \"username\": \"psychemedia\"}, {\"id\": 8, \"likes_received\": 64, \"likes_given\": 13, \"topics_entered\": 140, \"topic_count\": 4, \"post_count\": 51, \"posts_read\": 681, \"days_visited\": 91, \"user\": {\"id\": 8, \"username\": \"minrk\", \"name\": \"Min RK\", \"avatar_template\": \"/user_avatar/discourse.jupyter.org/minrk/{size}/13_2.png\", \"title\": null}, \"username\": \"minrk\"}, {\"id\": 184, \"likes_received\": 2, \"likes_given\": 11, \"topics_entered\": 37, \"topic_count\": 1, \"post_count\": 5, \"posts_read\": 225, \"days_visited\": 25, \"user\": {\"id\": 184, \"username\": \"emdupre\", \"name\": \"Elizabeth DuPre\", \"avatar_template\": \"/user_avatar/discourse.jupyter.org/emdupre/{size}/496_2.png\", \"title\": null}, \"username\": \"emdupre\"}, {\"id\": 77, \"likes_received\": 10, \"likes_given\": 8, \"topics_entered\": 153, \"topic_count\": 0, \"post_count\": 13, \"posts_read\": 761, \"days_visited\": 85, \"user\": {\"id\": 77, \"username\": \"jtp\", \"name\": \"Jeremy Tuloup\", \"avatar_template\": \"/user_avatar/discourse.jupyter.org/jtp/{size}/882_2.png\", \"title\": \"\"}, \"username\": \"jtp\"}, {\"id\": 622, \"likes_received\": 4, \"likes_given\": 8, \"topics_entered\": 17, \"topic_count\": 1, \"post_count\": 5, \"posts_read\": 64, \"days_visited\": 19, \"user\": {\"id\": 622, \"username\": \"esevan\", \"name\": \"Eunsoo Park (Evan)\", \"avatar_template\": \"/user_avatar/discourse.jupyter.org/esevan/{size}/844_2.png\", \"title\": \"\"}, \"username\": \"esevan\"}, {\"id\": 303, \"likes_received\": 3, \"likes_given\": 7, \"topics_entered\": 67, \"topic_count\": 2, \"post_count\": 9, \"posts_read\": 277, \"days_visited\": 68, \"user\": {\"id\": 303, \"username\": \"ian-r-rose\", \"name\": \"Ian Rose\", \"avatar_template\": \"/user_avatar/discourse.jupyter.org/ian-r-rose/{size}/638_2.png\", \"title\": null}, \"username\": \"ian-r-rose\"}, {\"id\": 227, \"likes_received\": 2, \"likes_given\": 7, \"topics_entered\": 28, \"topic_count\": 0, \"post_count\": 6, \"posts_read\": 167, \"days_visited\": 13, \"user\": {\"id\": 227, \"username\": \"sterlinm\", \"name\": \"Michael\", \"avatar_template\": \"/user_avatar/discourse.jupyter.org/sterlinm/{size}/241_2.png\", \"title\": null}, \"username\": \"sterlinm\"}, {\"id\": 60, \"likes_received\": 7, \"likes_given\": 7, \"topics_entered\": 33, \"topic_count\": 0, \"post_count\": 11, \"posts_read\": 267, \"days_visited\": 27, \"user\": {\"id\": 60, \"username\": \"fm75\", \"name\": \"Fred Mitchell\", \"avatar_template\": \"/user_avatar/discourse.jupyter.org/fm75/{size}/71_2.png\", \"title\": \"\"}, \"username\": \"fm75\"}, {\"id\": 12, \"likes_received\": 37, \"likes_given\": 7, \"topics_entered\": 122, \"topic_count\": 6, \"post_count\": 38, \"posts_read\": 593, \"days_visited\": 51, \"user\": {\"id\": 12, \"username\": \"yuvipanda\", \"name\": \"Yuvi Panda\", \"avatar_template\": \"/user_avatar/discourse.jupyter.org/yuvipanda/{size}/17_2.png\", \"title\": null}, \"username\": \"yuvipanda\"}, {\"id\": 222, \"likes_received\": 15, \"likes_given\": 6, \"topics_entered\": 16, \"topic_count\": 1, \"post_count\": 10, \"posts_read\": 143, \"days_visited\": 44, \"user\": {\"id\": 222, \"username\": \"tgeorgeux\", \"name\": \"Timothy George\", \"avatar_template\": \"https://avatars.discourse.org/v4/letter/t/f05b48/{size}.png\", \"title\": null}, \"username\": \"tgeorgeux\"}, {\"id\": 268, \"likes_received\": 13, \"likes_given\": 5, \"topics_entered\": 18, \"topic_count\": 3, \"post_count\": 7, \"posts_read\": 101, \"days_visited\": 26, \"user\": {\"id\": 268, \"username\": \"afshin\", \"name\": \"A. T. Darian\", \"avatar_template\": \"/user_avatar/discourse.jupyter.org/afshin/{size}/314_2.png\", \"title\": null}, \"username\": \"afshin\"}, {\"id\": 372, \"likes_received\": 6, \"likes_given\": 5, \"topics_entered\": 27, \"topic_count\": 1, \"post_count\": 7, \"posts_read\": 139, \"days_visited\": 29, \"user\": {\"id\": 372, \"username\": \"davclark\", \"name\": \"Dav Clark\", \"avatar_template\": \"/user_avatar/discourse.jupyter.org/davclark/{size}/489_2.png\", \"title\": null}, \"username\": \"davclark\"}, {\"id\": 234, \"likes_received\": 16, \"likes_given\": 5, \"topics_entered\": 7, \"topic_count\": 4, \"post_count\": 17, \"posts_read\": 53, \"days_visited\": 25, \"user\": {\"id\": 234, \"username\": \"fmaussion\", \"name\": \"Fabien Maussion\", \"avatar_template\": \"/user_avatar/discourse.jupyter.org/fmaussion/{size}/390_2.png\", \"title\": null}, \"username\": \"fmaussion\"}, {\"id\": 59, \"likes_received\": 10, \"likes_given\": 3, \"topics_entered\": 16, \"topic_count\": 1, \"post_count\": 7, \"posts_read\": 161, \"days_visited\": 33, \"user\": {\"id\": 59, \"username\": \"bitnik\", \"name\": \"Kenan Erdogan\", \"avatar_template\": \"/user_avatar/discourse.jupyter.org/bitnik/{size}/79_2.png\", \"title\": \"\"}, \"username\": \"bitnik\"}, {\"id\": 565, \"likes_received\": 5, \"likes_given\": 3, \"topics_entered\": 6, \"topic_count\": 0, \"post_count\": 6, \"posts_read\": 43, \"days_visited\": 7, \"user\": {\"id\": 565, \"username\": \"danielskatz\", \"name\": \"Daniel S. Katz\", \"avatar_template\": \"/user_avatar/discourse.jupyter.org/danielskatz/{size}/785_2.png\", \"title\": null}, \"username\": \"danielskatz\"}, {\"id\": 34, \"likes_received\": 18, \"likes_given\": 3, \"topics_entered\": 16, \"topic_count\": 3, \"post_count\": 10, \"posts_read\": 158, \"days_visited\": 27, \"user\": {\"id\": 34, \"username\": \"danielballan\", \"name\": \"Dan Allan\", \"avatar_template\": \"/user_avatar/discourse.jupyter.org/danielballan/{size}/34_2.png\", \"title\": null}, \"username\": \"danielballan\"}, {\"id\": 556, \"likes_received\": 8, \"likes_given\": 3, \"topics_entered\": 15, \"topic_count\": 1, \"post_count\": 9, \"posts_read\": 77, \"days_visited\": 11, \"user\": {\"id\": 556, \"username\": \"blink1073\", \"name\": \"Steven Silvester\", \"avatar_template\": \"/user_avatar/discourse.jupyter.org/blink1073/{size}/791_2.png\", \"title\": null}, \"username\": \"blink1073\"}, {\"id\": 333, \"likes_received\": 0, \"likes_given\": 2, \"topics_entered\": 1, \"topic_count\": 0, \"post_count\": 7, \"posts_read\": 37, \"days_visited\": 21, \"user\": {\"id\": 333, \"username\": \"cmbui\", \"name\": \"Christina\", \"avatar_template\": \"/user_avatar/discourse.jupyter.org/cmbui/{size}/436_2.png\", \"title\": null}, \"username\": \"cmbui\"}, {\"id\": 71, \"likes_received\": 4, \"likes_given\": 1, \"topics_entered\": 15, \"topic_count\": 1, \"post_count\": 7, \"posts_read\": 143, \"days_visited\": 20, \"user\": {\"id\": 71, \"username\": \"nuest\", \"name\": \"Daniel N\\u00fcst\", \"avatar_template\": \"/user_avatar/discourse.jupyter.org/nuest/{size}/82_2.png\", \"title\": null}, \"username\": \"nuest\"}, {\"id\": 679, \"likes_received\": 10, \"likes_given\": 1, \"topics_entered\": 24, \"topic_count\": 0, \"post_count\": 9, \"posts_read\": 119, \"days_visited\": 11, \"user\": {\"id\": 679, \"username\": \"bollwyvl\", \"name\": \"Nicholas Bollweg\", \"avatar_template\": \"/user_avatar/discourse.jupyter.org/bollwyvl/{size}/904_2.png\", \"title\": null}, \"username\": \"bollwyvl\"}, {\"id\": 390, \"likes_received\": 2, \"likes_given\": 1, \"topics_entered\": 14, \"topic_count\": 4, \"post_count\": 7, \"posts_read\": 34, \"days_visited\": 9, \"user\": {\"id\": 390, \"username\": \"ernstch\", \"name\": \"Ernst\", \"avatar_template\": \"https://avatars.discourse.org/v4/letter/e/9de0a6/{size}.png\", \"title\": null}, \"username\": \"ernstch\"}, {\"id\": 220, \"likes_received\": 36, \"likes_given\": 1, \"topics_entered\": 95, \"topic_count\": 1, \"post_count\": 50, \"posts_read\": 391, \"days_visited\": 29, \"user\": {\"id\": 220, \"username\": \"jasongrout\", \"name\": \"Jason Grout\", \"avatar_template\": \"/user_avatar/discourse.jupyter.org/jasongrout/{size}/371_2.png\", \"title\": null}, \"username\": \"jasongrout\"}, {\"id\": 771, \"likes_received\": 11, \"likes_given\": 1, \"topics_entered\": 3, \"topic_count\": 0, \"post_count\": 6, \"posts_read\": 67, \"days_visited\": 3, \"user\": {\"id\": 771, \"username\": \"sarasrking\", \"name\": \"Sara King\", \"avatar_template\": \"https://avatars.discourse.org/v4/letter/s/d78d45/{size}.png\", \"title\": null}, \"username\": \"sarasrking\"}, {\"id\": 352, \"likes_received\": 7, \"likes_given\": 0, \"topics_entered\": 3, \"topic_count\": 0, \"post_count\": 5, \"posts_read\": 50, \"days_visited\": 12, \"user\": {\"id\": 352, \"username\": \"jhornig\", \"name\": \"Joseph Hornig\", \"avatar_template\": \"/user_avatar/discourse.jupyter.org/jhornig/{size}/453_2.png\", \"title\": null}, \"username\": \"jhornig\"}, {\"id\": 699, \"likes_received\": 1, \"likes_given\": 0, \"topics_entered\": 14, \"topic_count\": 5, \"post_count\": 5, \"posts_read\": 39, \"days_visited\": 6, \"user\": {\"id\": 699, \"username\": \"josh\", \"name\": null, \"avatar_template\": \"https://avatars.discourse.org/v4/letter/j/45deac/{size}.png\", \"title\": null}, \"username\": \"josh\"}, {\"id\": 601, \"likes_received\": 1, \"likes_given\": 0, \"topics_entered\": 39, \"topic_count\": 3, \"post_count\": 5, \"posts_read\": 111, \"days_visited\": 18, \"user\": {\"id\": 601, \"username\": \"parmentelat\", \"name\": \"Thierry Parmentelat\", \"avatar_template\": \"/user_avatar/discourse.jupyter.org/parmentelat/{size}/813_2.png\", \"title\": null}, \"username\": \"parmentelat\"}, {\"id\": 562, \"likes_received\": 0, \"likes_given\": 0, \"topics_entered\": 4, \"topic_count\": 0, \"post_count\": 5, \"posts_read\": 25, \"days_visited\": 8, \"user\": {\"id\": 562, \"username\": \"Shane_Canon\", \"name\": \"Shane Canon\", \"avatar_template\": \"/user_avatar/discourse.jupyter.org/shane_canon/{size}/783_2.png\", \"title\": null}, \"username\": \"Shane_Canon\"}, {\"id\": 642, \"likes_received\": 1, \"likes_given\": 0, \"topics_entered\": 30, \"topic_count\": 5, \"post_count\": 6, \"posts_read\": 129, \"days_visited\": 24, \"user\": {\"id\": 642, \"username\": \"ArlenePena\", \"name\": null, \"avatar_template\": \"https://avatars.discourse.org/v4/letter/a/34f0e0/{size}.png\", \"title\": null}, \"username\": \"ArlenePena\"}, {\"id\": 590, \"likes_received\": 2, \"likes_given\": 0, \"topics_entered\": 13, \"topic_count\": 2, \"post_count\": 6, \"posts_read\": 70, \"days_visited\": 15, \"user\": {\"id\": 590, \"username\": \"nscozzaro\", \"name\": \"Nicolas Scozzaro\", \"avatar_template\": \"/user_avatar/discourse.jupyter.org/nscozzaro/{size}/804_2.png\", \"title\": null}, \"username\": \"nscozzaro\"}, {\"id\": 640, \"likes_received\": 0, \"likes_given\": 0, \"topics_entered\": 6, \"topic_count\": 1, \"post_count\": 6, \"posts_read\": 23, \"days_visited\": 7, \"user\": {\"id\": 640, \"username\": \"Stefano_Fioravanzo\", \"name\": \"Stefano Fioravanzo\", \"avatar_template\": \"/user_avatar/discourse.jupyter.org/stefano_fioravanzo/{size}/849_2.png\", \"title\": null}, \"username\": \"Stefano_Fioravanzo\"}, {\"id\": 145, \"likes_received\": 8, \"likes_given\": 0, \"topics_entered\": 7, \"topic_count\": 2, \"post_count\": 6, \"posts_read\": 38, \"days_visited\": 8, \"user\": {\"id\": 145, \"username\": \"hhuuggoo\", \"name\": \"saturncloud.io\", \"avatar_template\": \"/user_avatar/discourse.jupyter.org/hhuuggoo/{size}/242_2.png\", \"title\": \"\"}, \"username\": \"hhuuggoo\"}, {\"id\": 9, \"likes_received\": 6, \"likes_given\": 0, \"topics_entered\": 10, \"topic_count\": 0, \"post_count\": 6, \"posts_read\": 36, \"days_visited\": 13, \"user\": {\"id\": 9, \"username\": \"ellisonbg\", \"name\": \"Brian Granger\", \"avatar_template\": \"/user_avatar/discourse.jupyter.org/ellisonbg/{size}/14_2.png\", \"title\": null}, \"username\": \"ellisonbg\"}, {\"id\": 510, \"likes_received\": 6, \"likes_given\": 0, \"topics_entered\": 4, \"topic_count\": 2, \"post_count\": 8, \"posts_read\": 10, \"days_visited\": 10, \"user\": {\"id\": 510, \"username\": \"lorankary\", \"name\": \"Lorankary\", \"avatar_template\": \"https://avatars.discourse.org/v4/letter/l/ac8455/{size}.png\", \"title\": null}, \"username\": \"lorankary\"}, {\"id\": 195, \"likes_received\": 1, \"likes_given\": 0, \"topics_entered\": 8, \"topic_count\": 0, \"post_count\": 6, \"posts_read\": 34, \"days_visited\": 10, \"user\": {\"id\": 195, \"username\": \"rcthomas\", \"name\": \"\", \"avatar_template\": \"/user_avatar/discourse.jupyter.org/rcthomas/{size}/201_2.png\", \"title\": null}, \"username\": \"rcthomas\"}, {\"id\": 566, \"likes_received\": 2, \"likes_given\": 0, \"topics_entered\": 12, \"topic_count\": 2, \"post_count\": 9, \"posts_read\": 34, \"days_visited\": 14, \"user\": {\"id\": 566, \"username\": \"Shreyas_Cholia\", \"name\": \"Shreyas Cholia\", \"avatar_template\": \"/user_avatar/discourse.jupyter.org/shreyas_cholia/{size}/784_2.png\", \"title\": null}, \"username\": \"Shreyas_Cholia\"}, {\"id\": 462, \"likes_received\": 1, \"likes_given\": 0, \"topics_entered\": 16, \"topic_count\": 3, \"post_count\": 7, \"posts_read\": 87, \"days_visited\": 19, \"user\": {\"id\": 462, \"username\": \"rahuldave\", \"name\": \"Rahul Dave\", \"avatar_template\": \"https://avatars.discourse.org/v4/letter/r/6f9a4e/{size}.png\", \"title\": null}, \"username\": \"rahuldave\"}, {\"id\": 487, \"likes_received\": 0, \"likes_given\": 0, \"topics_entered\": 25, \"topic_count\": 4, \"post_count\": 7, \"posts_read\": 83, \"days_visited\": 14, \"user\": {\"id\": 487, \"username\": \"D4rkM4atter\", \"name\": \"\", \"avatar_template\": \"/user_avatar/discourse.jupyter.org/d4rkm4atter/{size}/663_2.png\", \"title\": null}, \"username\": \"D4rkM4atter\"}, {\"id\": 686, \"likes_received\": 3, \"likes_given\": 0, \"topics_entered\": 30, \"topic_count\": 3, \"post_count\": 8, \"posts_read\": 93, \"days_visited\": 11, \"user\": {\"id\": 686, \"username\": \"sqqqrly\", \"name\": \"DAVID OHLEMACHER\", \"avatar_template\": \"https://avatars.discourse.org/v4/letter/s/22d042/{size}.png\", \"title\": null}, \"username\": \"sqqqrly\"}, {\"id\": 419, \"likes_received\": 2, \"likes_given\": 0, \"topics_entered\": 14, \"topic_count\": 5, \"post_count\": 8, \"posts_read\": 38, \"days_visited\": 26, \"user\": {\"id\": 419, \"username\": \"alvinhuff\", \"name\": \"Alvin Huff\", \"avatar_template\": \"/user_avatar/discourse.jupyter.org/alvinhuff/{size}/550_2.png\", \"title\": null}, \"username\": \"alvinhuff\"}]}};\n",
       "      var embedOpt = {\"mode\": \"vega-lite\"};\n",
       "\n",
       "      function showError(el, error){\n",
       "          el.innerHTML = ('<div class=\"error\" style=\"color:red;\">'\n",
       "                          + '<p>JavaScript Error: ' + error.message + '</p>'\n",
       "                          + \"<p>This usually means there's a typo in your chart specification. \"\n",
       "                          + \"See the javascript console for the full traceback.</p>\"\n",
       "                          + '</div>');\n",
       "          throw error;\n",
       "      }\n",
       "      const el = document.getElementById('altair-viz-4');\n",
       "      vegaEmbed(\"#altair-viz-4\", spec, embedOpt)\n",
       "        .catch(error => showError(el, error));\n",
       "    });\n",
       "\n",
       "  </script>"
      ],
      "text/plain": [
       "Chart({\n",
       "  data:      id  likes_received  likes_given  topics_entered  topic_count  post_count  \\\n",
       "  0     6             129          206             330           11         135   \n",
       "  1     3             120          196             230           30         123   \n",
       "  14   30              13           71              50            2          12   \n",
       "  10   11              14           66             208            1          20   \n",
       "  9   485              20           57              58            1          21   \n",
       "  8    99              13           37              97            3          22   \n",
       "  6   116              59           29             127            4          37   \n",
       "  23    7              16           24              31            0           9   \n",
       "  11  217               6           24              35            0          17   \n",
       "  18  432               6           24              51            1          10   \n",
       "  7    73              18           17             329            2          27   \n",
       "  2    24              46           16             264            6          63   \n",
       "  3     8              64           13             140            4          51   \n",
       "  49  184               2           11              37            1           5   \n",
       "  13   77              10            8             153            0          13   \n",
       "  47  622               4            8              17            1           5   \n",
       "  22  303               3            7              67            2           9   \n",
       "  40  227               2            7              28            0           6   \n",
       "  15   60               7            7              33            0          11   \n",
       "  5    12              37            7             122            6          38   \n",
       "  17  222              15            6              16            1          10   \n",
       "  29  268              13            5              18            3           7   \n",
       "  32  372               6            5              27            1           7   \n",
       "  12  234              16            5               7            4          17   \n",
       "  31   59              10            3              16            1           7   \n",
       "  38  565               5            3               6            0           6   \n",
       "  16   34              18            3              16            3          10   \n",
       "  20  556               8            3              15            1           9   \n",
       "  34  333               0            2               1            0           7   \n",
       "  33   71               4            1              15            1           7   \n",
       "  21  679              10            1              24            0           9   \n",
       "  30  390               2            1              14            4           7   \n",
       "  4   220              36            1              95            1          50   \n",
       "  41  771              11            1               3            0           6   \n",
       "  45  352               7            0               3            0           5   \n",
       "  46  699               1            0              14            5           5   \n",
       "  48  601               1            0              39            3           5   \n",
       "  44  562               0            0               4            0           5   \n",
       "  43  642               1            0              30            5           6   \n",
       "  42  590               2            0              13            2           6   \n",
       "  36  640               0            0               6            1           6   \n",
       "  39  145               8            0               7            2           6   \n",
       "  37    9               6            0              10            0           6   \n",
       "  24  510               6            0               4            2           8   \n",
       "  35  195               1            0               8            0           6   \n",
       "  19  566               2            0              12            2           9   \n",
       "  28  462               1            0              16            3           7   \n",
       "  27  487               0            0              25            4           7   \n",
       "  26  686               3            0              30            3           8   \n",
       "  25  419               2            0              14            5           8   \n",
       "  \n",
       "      posts_read  days_visited  \\\n",
       "  0         1412            83   \n",
       "  1          888            90   \n",
       "  14         307            72   \n",
       "  10         991            70   \n",
       "  9          295            35   \n",
       "  8          525            54   \n",
       "  6          590            84   \n",
       "  23         227            23   \n",
       "  11         188            39   \n",
       "  18         207            36   \n",
       "  7         1497            74   \n",
       "  2          667            64   \n",
       "  3          681            91   \n",
       "  49         225            25   \n",
       "  13         761            85   \n",
       "  47          64            19   \n",
       "  22         277            68   \n",
       "  40         167            13   \n",
       "  15         267            27   \n",
       "  5          593            51   \n",
       "  17         143            44   \n",
       "  29         101            26   \n",
       "  32         139            29   \n",
       "  12          53            25   \n",
       "  31         161            33   \n",
       "  38          43             7   \n",
       "  16         158            27   \n",
       "  20          77            11   \n",
       "  34          37            21   \n",
       "  33         143            20   \n",
       "  21         119            11   \n",
       "  30          34             9   \n",
       "  4          391            29   \n",
       "  41          67             3   \n",
       "  45          50            12   \n",
       "  46          39             6   \n",
       "  48         111            18   \n",
       "  44          25             8   \n",
       "  43         129            24   \n",
       "  42          70            15   \n",
       "  36          23             7   \n",
       "  39          38             8   \n",
       "  37          36            13   \n",
       "  24          10            10   \n",
       "  35          34            10   \n",
       "  19          34            14   \n",
       "  28          87            19   \n",
       "  27          83            14   \n",
       "  26          93            11   \n",
       "  25          38            26   \n",
       "  \n",
       "                                                   user            username  \n",
       "  0   {'id': 6, 'username': 'betatim', 'name': 'Tim ...             betatim  \n",
       "  1   {'id': 3, 'username': 'choldgraf', 'name': 'Ch...           choldgraf  \n",
       "  14  {'id': 30, 'username': 'consideRatio', 'name':...        consideRatio  \n",
       "  10  {'id': 11, 'username': 'fomightez', 'name': 'W...           fomightez  \n",
       "  9   {'id': 485, 'username': 'rolweber', 'name': 'R...            rolweber  \n",
       "  8   {'id': 99, 'username': 'Zsailer', 'name': 'Zac...             Zsailer  \n",
       "  6   {'id': 116, 'username': 'sgibson91', 'name': '...           sgibson91  \n",
       "  23  {'id': 7, 'username': 'willingc', 'name': 'Car...            willingc  \n",
       "  11  {'id': 217, 'username': 'kevin-bates', 'name':...         kevin-bates  \n",
       "  18  {'id': 432, 'username': 'ondrejj', 'name': 'On...             ondrejj  \n",
       "  7   {'id': 73, 'username': 'manics', 'name': 'Simo...              manics  \n",
       "  2   {'id': 24, 'username': 'psychemedia', 'name': ...         psychemedia  \n",
       "  3   {'id': 8, 'username': 'minrk', 'name': 'Min RK...               minrk  \n",
       "  49  {'id': 184, 'username': 'emdupre', 'name': 'El...             emdupre  \n",
       "  13  {'id': 77, 'username': 'jtp', 'name': 'Jeremy ...                 jtp  \n",
       "  47  {'id': 622, 'username': 'esevan', 'name': 'Eun...              esevan  \n",
       "  22  {'id': 303, 'username': 'ian-r-rose', 'name': ...          ian-r-rose  \n",
       "  40  {'id': 227, 'username': 'sterlinm', 'name': 'M...            sterlinm  \n",
       "  15  {'id': 60, 'username': 'fm75', 'name': 'Fred M...                fm75  \n",
       "  5   {'id': 12, 'username': 'yuvipanda', 'name': 'Y...           yuvipanda  \n",
       "  17  {'id': 222, 'username': 'tgeorgeux', 'name': '...           tgeorgeux  \n",
       "  29  {'id': 268, 'username': 'afshin', 'name': 'A. ...              afshin  \n",
       "  32  {'id': 372, 'username': 'davclark', 'name': 'D...            davclark  \n",
       "  12  {'id': 234, 'username': 'fmaussion', 'name': '...           fmaussion  \n",
       "  31  {'id': 59, 'username': 'bitnik', 'name': 'Kena...              bitnik  \n",
       "  38  {'id': 565, 'username': 'danielskatz', 'name':...         danielskatz  \n",
       "  16  {'id': 34, 'username': 'danielballan', 'name':...        danielballan  \n",
       "  20  {'id': 556, 'username': 'blink1073', 'name': '...           blink1073  \n",
       "  34  {'id': 333, 'username': 'cmbui', 'name': 'Chri...               cmbui  \n",
       "  33  {'id': 71, 'username': 'nuest', 'name': 'Danie...               nuest  \n",
       "  21  {'id': 679, 'username': 'bollwyvl', 'name': 'N...            bollwyvl  \n",
       "  30  {'id': 390, 'username': 'ernstch', 'name': 'Er...             ernstch  \n",
       "  4   {'id': 220, 'username': 'jasongrout', 'name': ...          jasongrout  \n",
       "  41  {'id': 771, 'username': 'sarasrking', 'name': ...          sarasrking  \n",
       "  45  {'id': 352, 'username': 'jhornig', 'name': 'Jo...             jhornig  \n",
       "  46  {'id': 699, 'username': 'josh', 'name': None, ...                josh  \n",
       "  48  {'id': 601, 'username': 'parmentelat', 'name':...         parmentelat  \n",
       "  44  {'id': 562, 'username': 'Shane_Canon', 'name':...         Shane_Canon  \n",
       "  43  {'id': 642, 'username': 'ArlenePena', 'name': ...          ArlenePena  \n",
       "  42  {'id': 590, 'username': 'nscozzaro', 'name': '...           nscozzaro  \n",
       "  36  {'id': 640, 'username': 'Stefano_Fioravanzo', ...  Stefano_Fioravanzo  \n",
       "  39  {'id': 145, 'username': 'hhuuggoo', 'name': 's...            hhuuggoo  \n",
       "  37  {'id': 9, 'username': 'ellisonbg', 'name': 'Br...           ellisonbg  \n",
       "  24  {'id': 510, 'username': 'lorankary', 'name': '...           lorankary  \n",
       "  35  {'id': 195, 'username': 'rcthomas', 'name': ''...            rcthomas  \n",
       "  19  {'id': 566, 'username': 'Shreyas_Cholia', 'nam...      Shreyas_Cholia  \n",
       "  28  {'id': 462, 'username': 'rahuldave', 'name': '...           rahuldave  \n",
       "  27  {'id': 487, 'username': 'D4rkM4atter', 'name':...         D4rkM4atter  \n",
       "  26  {'id': 686, 'username': 'sqqqrly', 'name': 'DA...             sqqqrly  \n",
       "  25  {'id': 419, 'username': 'alvinhuff', 'name': '...           alvinhuff  ,\n",
       "  encoding: FacetedEncoding({\n",
       "    x: X({\n",
       "      field: 'username',\n",
       "      type: 'nominal'\n",
       "    }),\n",
       "    y: Y({\n",
       "      field: 'likes_given',\n",
       "      type: 'quantitative'\n",
       "    })\n",
       "  }),\n",
       "  mark: 'bar'\n",
       "})"
      ]
     },
     "execution_count": 17,
     "metadata": {},
     "output_type": "execute_result"
    }
   ],
   "source": [
    "plot_user_data(users.head(50), 'likes_given')"
   ]
  },
  {
   "cell_type": "markdown",
   "metadata": {
    "papermill": {
     "duration": 0.092934,
     "end_time": "2019-08-14T03:37:17.723094",
     "exception": false,
     "start_time": "2019-08-14T03:37:17.630160",
     "status": "completed"
    },
    "tags": []
   },
   "source": [
    "**Forum users, sorted by likes received**\n",
    "\n",
    "These are folks that posted things other people in the Community Forum liked."
   ]
  },
  {
   "cell_type": "code",
   "execution_count": 18,
   "metadata": {
    "papermill": {
     "duration": 0.139781,
     "end_time": "2019-08-14T03:37:17.958558",
     "exception": false,
     "start_time": "2019-08-14T03:37:17.818777",
     "status": "completed"
    },
    "tags": []
   },
   "outputs": [
    {
     "data": {
      "text/html": [
       "\n",
       "  <style>\n",
       "    .vega-actions a {\n",
       "        margin-right: 12px;\n",
       "        color: #757575;\n",
       "        font-weight: normal;\n",
       "        font-size: 13px;\n",
       "    }\n",
       "    .error {\n",
       "        color: red;\n",
       "    }\n",
       "  </style>\n",
       "  <div id=\"altair-viz-5\"></div>\n",
       "  <script>\n",
       "    requirejs.config({\n",
       "        \"paths\": {\n",
       "            \"vega\": \"https://cdn.jsdelivr.net/npm//vega@5?noext\",\n",
       "            \"vega-lib\": \"https://cdn.jsdelivr.net/npm//vega-lib?noext\",\n",
       "            \"vega-lite\": \"https://cdn.jsdelivr.net/npm//vega-lite@3.3.0?noext\",\n",
       "            \"vega-embed\": \"https://cdn.jsdelivr.net/npm//vega-embed@4?noext\",\n",
       "        }\n",
       "    });\n",
       "    require(['vega-embed'], function(vegaEmbed){\n",
       "      var spec = {\"config\": {\"axisLeft\": {\"labelFontSize\": 15}, \"axisBottom\": {\"labelFontSize\": 15}}, \"data\": {\"name\": \"data-ce42f178c1404bd09f6b48575b564fe3\"}, \"mark\": \"bar\", \"encoding\": {\"x\": {\"type\": \"nominal\", \"field\": \"username\"}, \"y\": {\"type\": \"quantitative\", \"field\": \"likes_received\"}}, \"$schema\": \"https://vega.github.io/schema/vega-lite/v3.3.0.json\", \"datasets\": {\"data-ce42f178c1404bd09f6b48575b564fe3\": [{\"id\": 6, \"likes_received\": 129, \"likes_given\": 206, \"topics_entered\": 330, \"topic_count\": 11, \"post_count\": 135, \"posts_read\": 1412, \"days_visited\": 83, \"user\": {\"id\": 6, \"username\": \"betatim\", \"name\": \"Tim Head\", \"avatar_template\": \"/user_avatar/discourse.jupyter.org/betatim/{size}/10_2.png\", \"title\": \"\"}, \"username\": \"betatim\"}, {\"id\": 3, \"likes_received\": 120, \"likes_given\": 196, \"topics_entered\": 230, \"topic_count\": 30, \"post_count\": 123, \"posts_read\": 888, \"days_visited\": 90, \"user\": {\"id\": 3, \"username\": \"choldgraf\", \"name\": \"Chris Holdgraf\", \"avatar_template\": \"/user_avatar/discourse.jupyter.org/choldgraf/{size}/12_2.png\", \"title\": \"Regular\"}, \"username\": \"choldgraf\"}, {\"id\": 8, \"likes_received\": 64, \"likes_given\": 13, \"topics_entered\": 140, \"topic_count\": 4, \"post_count\": 51, \"posts_read\": 681, \"days_visited\": 91, \"user\": {\"id\": 8, \"username\": \"minrk\", \"name\": \"Min RK\", \"avatar_template\": \"/user_avatar/discourse.jupyter.org/minrk/{size}/13_2.png\", \"title\": null}, \"username\": \"minrk\"}, {\"id\": 116, \"likes_received\": 59, \"likes_given\": 29, \"topics_entered\": 127, \"topic_count\": 4, \"post_count\": 37, \"posts_read\": 590, \"days_visited\": 84, \"user\": {\"id\": 116, \"username\": \"sgibson91\", \"name\": \"Sarah Gibson\", \"avatar_template\": \"/user_avatar/discourse.jupyter.org/sgibson91/{size}/487_2.png\", \"title\": \"\"}, \"username\": \"sgibson91\"}, {\"id\": 24, \"likes_received\": 46, \"likes_given\": 16, \"topics_entered\": 264, \"topic_count\": 6, \"post_count\": 63, \"posts_read\": 667, \"days_visited\": 64, \"user\": {\"id\": 24, \"username\": \"psychemedia\", \"name\": \"Tony Hirst\", \"avatar_template\": \"/user_avatar/discourse.jupyter.org/psychemedia/{size}/24_2.png\", \"title\": null}, \"username\": \"psychemedia\"}, {\"id\": 12, \"likes_received\": 37, \"likes_given\": 7, \"topics_entered\": 122, \"topic_count\": 6, \"post_count\": 38, \"posts_read\": 593, \"days_visited\": 51, \"user\": {\"id\": 12, \"username\": \"yuvipanda\", \"name\": \"Yuvi Panda\", \"avatar_template\": \"/user_avatar/discourse.jupyter.org/yuvipanda/{size}/17_2.png\", \"title\": null}, \"username\": \"yuvipanda\"}, {\"id\": 220, \"likes_received\": 36, \"likes_given\": 1, \"topics_entered\": 95, \"topic_count\": 1, \"post_count\": 50, \"posts_read\": 391, \"days_visited\": 29, \"user\": {\"id\": 220, \"username\": \"jasongrout\", \"name\": \"Jason Grout\", \"avatar_template\": \"/user_avatar/discourse.jupyter.org/jasongrout/{size}/371_2.png\", \"title\": null}, \"username\": \"jasongrout\"}, {\"id\": 485, \"likes_received\": 20, \"likes_given\": 57, \"topics_entered\": 58, \"topic_count\": 1, \"post_count\": 21, \"posts_read\": 295, \"days_visited\": 35, \"user\": {\"id\": 485, \"username\": \"rolweber\", \"name\": \"Roland Weber\", \"avatar_template\": \"/user_avatar/discourse.jupyter.org/rolweber/{size}/657_2.png\", \"title\": null}, \"username\": \"rolweber\"}, {\"id\": 34, \"likes_received\": 18, \"likes_given\": 3, \"topics_entered\": 16, \"topic_count\": 3, \"post_count\": 10, \"posts_read\": 158, \"days_visited\": 27, \"user\": {\"id\": 34, \"username\": \"danielballan\", \"name\": \"Dan Allan\", \"avatar_template\": \"/user_avatar/discourse.jupyter.org/danielballan/{size}/34_2.png\", \"title\": null}, \"username\": \"danielballan\"}, {\"id\": 73, \"likes_received\": 18, \"likes_given\": 17, \"topics_entered\": 329, \"topic_count\": 2, \"post_count\": 27, \"posts_read\": 1497, \"days_visited\": 74, \"user\": {\"id\": 73, \"username\": \"manics\", \"name\": \"Simon\", \"avatar_template\": \"/user_avatar/discourse.jupyter.org/manics/{size}/85_2.png\", \"title\": null}, \"username\": \"manics\"}, {\"id\": 7, \"likes_received\": 16, \"likes_given\": 24, \"topics_entered\": 31, \"topic_count\": 0, \"post_count\": 9, \"posts_read\": 227, \"days_visited\": 23, \"user\": {\"id\": 7, \"username\": \"willingc\", \"name\": \"Carol Willing\", \"avatar_template\": \"/user_avatar/discourse.jupyter.org/willingc/{size}/11_2.png\", \"title\": null}, \"username\": \"willingc\"}, {\"id\": 234, \"likes_received\": 16, \"likes_given\": 5, \"topics_entered\": 7, \"topic_count\": 4, \"post_count\": 17, \"posts_read\": 53, \"days_visited\": 25, \"user\": {\"id\": 234, \"username\": \"fmaussion\", \"name\": \"Fabien Maussion\", \"avatar_template\": \"/user_avatar/discourse.jupyter.org/fmaussion/{size}/390_2.png\", \"title\": null}, \"username\": \"fmaussion\"}, {\"id\": 222, \"likes_received\": 15, \"likes_given\": 6, \"topics_entered\": 16, \"topic_count\": 1, \"post_count\": 10, \"posts_read\": 143, \"days_visited\": 44, \"user\": {\"id\": 222, \"username\": \"tgeorgeux\", \"name\": \"Timothy George\", \"avatar_template\": \"https://avatars.discourse.org/v4/letter/t/f05b48/{size}.png\", \"title\": null}, \"username\": \"tgeorgeux\"}, {\"id\": 11, \"likes_received\": 14, \"likes_given\": 66, \"topics_entered\": 208, \"topic_count\": 1, \"post_count\": 20, \"posts_read\": 991, \"days_visited\": 70, \"user\": {\"id\": 11, \"username\": \"fomightez\", \"name\": \"Wayne\", \"avatar_template\": \"/user_avatar/discourse.jupyter.org/fomightez/{size}/495_2.png\", \"title\": null}, \"username\": \"fomightez\"}, {\"id\": 268, \"likes_received\": 13, \"likes_given\": 5, \"topics_entered\": 18, \"topic_count\": 3, \"post_count\": 7, \"posts_read\": 101, \"days_visited\": 26, \"user\": {\"id\": 268, \"username\": \"afshin\", \"name\": \"A. T. Darian\", \"avatar_template\": \"/user_avatar/discourse.jupyter.org/afshin/{size}/314_2.png\", \"title\": null}, \"username\": \"afshin\"}, {\"id\": 30, \"likes_received\": 13, \"likes_given\": 71, \"topics_entered\": 50, \"topic_count\": 2, \"post_count\": 12, \"posts_read\": 307, \"days_visited\": 72, \"user\": {\"id\": 30, \"username\": \"consideRatio\", \"name\": \"Erik Sundell\", \"avatar_template\": \"/user_avatar/discourse.jupyter.org/consideratio/{size}/30_2.png\", \"title\": null}, \"username\": \"consideRatio\"}, {\"id\": 99, \"likes_received\": 13, \"likes_given\": 37, \"topics_entered\": 97, \"topic_count\": 3, \"post_count\": 22, \"posts_read\": 525, \"days_visited\": 54, \"user\": {\"id\": 99, \"username\": \"Zsailer\", \"name\": \"Zachary Sailer\", \"avatar_template\": \"/user_avatar/discourse.jupyter.org/zsailer/{size}/106_2.png\", \"title\": null}, \"username\": \"Zsailer\"}, {\"id\": 771, \"likes_received\": 11, \"likes_given\": 1, \"topics_entered\": 3, \"topic_count\": 0, \"post_count\": 6, \"posts_read\": 67, \"days_visited\": 3, \"user\": {\"id\": 771, \"username\": \"sarasrking\", \"name\": \"Sara King\", \"avatar_template\": \"https://avatars.discourse.org/v4/letter/s/d78d45/{size}.png\", \"title\": null}, \"username\": \"sarasrking\"}, {\"id\": 59, \"likes_received\": 10, \"likes_given\": 3, \"topics_entered\": 16, \"topic_count\": 1, \"post_count\": 7, \"posts_read\": 161, \"days_visited\": 33, \"user\": {\"id\": 59, \"username\": \"bitnik\", \"name\": \"Kenan Erdogan\", \"avatar_template\": \"/user_avatar/discourse.jupyter.org/bitnik/{size}/79_2.png\", \"title\": \"\"}, \"username\": \"bitnik\"}, {\"id\": 679, \"likes_received\": 10, \"likes_given\": 1, \"topics_entered\": 24, \"topic_count\": 0, \"post_count\": 9, \"posts_read\": 119, \"days_visited\": 11, \"user\": {\"id\": 679, \"username\": \"bollwyvl\", \"name\": \"Nicholas Bollweg\", \"avatar_template\": \"/user_avatar/discourse.jupyter.org/bollwyvl/{size}/904_2.png\", \"title\": null}, \"username\": \"bollwyvl\"}, {\"id\": 77, \"likes_received\": 10, \"likes_given\": 8, \"topics_entered\": 153, \"topic_count\": 0, \"post_count\": 13, \"posts_read\": 761, \"days_visited\": 85, \"user\": {\"id\": 77, \"username\": \"jtp\", \"name\": \"Jeremy Tuloup\", \"avatar_template\": \"/user_avatar/discourse.jupyter.org/jtp/{size}/882_2.png\", \"title\": \"\"}, \"username\": \"jtp\"}, {\"id\": 556, \"likes_received\": 8, \"likes_given\": 3, \"topics_entered\": 15, \"topic_count\": 1, \"post_count\": 9, \"posts_read\": 77, \"days_visited\": 11, \"user\": {\"id\": 556, \"username\": \"blink1073\", \"name\": \"Steven Silvester\", \"avatar_template\": \"/user_avatar/discourse.jupyter.org/blink1073/{size}/791_2.png\", \"title\": null}, \"username\": \"blink1073\"}, {\"id\": 145, \"likes_received\": 8, \"likes_given\": 0, \"topics_entered\": 7, \"topic_count\": 2, \"post_count\": 6, \"posts_read\": 38, \"days_visited\": 8, \"user\": {\"id\": 145, \"username\": \"hhuuggoo\", \"name\": \"saturncloud.io\", \"avatar_template\": \"/user_avatar/discourse.jupyter.org/hhuuggoo/{size}/242_2.png\", \"title\": \"\"}, \"username\": \"hhuuggoo\"}, {\"id\": 60, \"likes_received\": 7, \"likes_given\": 7, \"topics_entered\": 33, \"topic_count\": 0, \"post_count\": 11, \"posts_read\": 267, \"days_visited\": 27, \"user\": {\"id\": 60, \"username\": \"fm75\", \"name\": \"Fred Mitchell\", \"avatar_template\": \"/user_avatar/discourse.jupyter.org/fm75/{size}/71_2.png\", \"title\": \"\"}, \"username\": \"fm75\"}, {\"id\": 352, \"likes_received\": 7, \"likes_given\": 0, \"topics_entered\": 3, \"topic_count\": 0, \"post_count\": 5, \"posts_read\": 50, \"days_visited\": 12, \"user\": {\"id\": 352, \"username\": \"jhornig\", \"name\": \"Joseph Hornig\", \"avatar_template\": \"/user_avatar/discourse.jupyter.org/jhornig/{size}/453_2.png\", \"title\": null}, \"username\": \"jhornig\"}, {\"id\": 372, \"likes_received\": 6, \"likes_given\": 5, \"topics_entered\": 27, \"topic_count\": 1, \"post_count\": 7, \"posts_read\": 139, \"days_visited\": 29, \"user\": {\"id\": 372, \"username\": \"davclark\", \"name\": \"Dav Clark\", \"avatar_template\": \"/user_avatar/discourse.jupyter.org/davclark/{size}/489_2.png\", \"title\": null}, \"username\": \"davclark\"}, {\"id\": 432, \"likes_received\": 6, \"likes_given\": 24, \"topics_entered\": 51, \"topic_count\": 1, \"post_count\": 10, \"posts_read\": 207, \"days_visited\": 36, \"user\": {\"id\": 432, \"username\": \"ondrejj\", \"name\": \"Ond\\u0159ej \", \"avatar_template\": \"/user_avatar/discourse.jupyter.org/ondrejj/{size}/567_2.png\", \"title\": null}, \"username\": \"ondrejj\"}, {\"id\": 510, \"likes_received\": 6, \"likes_given\": 0, \"topics_entered\": 4, \"topic_count\": 2, \"post_count\": 8, \"posts_read\": 10, \"days_visited\": 10, \"user\": {\"id\": 510, \"username\": \"lorankary\", \"name\": \"Lorankary\", \"avatar_template\": \"https://avatars.discourse.org/v4/letter/l/ac8455/{size}.png\", \"title\": null}, \"username\": \"lorankary\"}, {\"id\": 9, \"likes_received\": 6, \"likes_given\": 0, \"topics_entered\": 10, \"topic_count\": 0, \"post_count\": 6, \"posts_read\": 36, \"days_visited\": 13, \"user\": {\"id\": 9, \"username\": \"ellisonbg\", \"name\": \"Brian Granger\", \"avatar_template\": \"/user_avatar/discourse.jupyter.org/ellisonbg/{size}/14_2.png\", \"title\": null}, \"username\": \"ellisonbg\"}, {\"id\": 217, \"likes_received\": 6, \"likes_given\": 24, \"topics_entered\": 35, \"topic_count\": 0, \"post_count\": 17, \"posts_read\": 188, \"days_visited\": 39, \"user\": {\"id\": 217, \"username\": \"kevin-bates\", \"name\": \"Kevin Bates\", \"avatar_template\": \"/user_avatar/discourse.jupyter.org/kevin-bates/{size}/234_2.png\", \"title\": null}, \"username\": \"kevin-bates\"}, {\"id\": 565, \"likes_received\": 5, \"likes_given\": 3, \"topics_entered\": 6, \"topic_count\": 0, \"post_count\": 6, \"posts_read\": 43, \"days_visited\": 7, \"user\": {\"id\": 565, \"username\": \"danielskatz\", \"name\": \"Daniel S. Katz\", \"avatar_template\": \"/user_avatar/discourse.jupyter.org/danielskatz/{size}/785_2.png\", \"title\": null}, \"username\": \"danielskatz\"}, {\"id\": 622, \"likes_received\": 4, \"likes_given\": 8, \"topics_entered\": 17, \"topic_count\": 1, \"post_count\": 5, \"posts_read\": 64, \"days_visited\": 19, \"user\": {\"id\": 622, \"username\": \"esevan\", \"name\": \"Eunsoo Park (Evan)\", \"avatar_template\": \"/user_avatar/discourse.jupyter.org/esevan/{size}/844_2.png\", \"title\": \"\"}, \"username\": \"esevan\"}, {\"id\": 71, \"likes_received\": 4, \"likes_given\": 1, \"topics_entered\": 15, \"topic_count\": 1, \"post_count\": 7, \"posts_read\": 143, \"days_visited\": 20, \"user\": {\"id\": 71, \"username\": \"nuest\", \"name\": \"Daniel N\\u00fcst\", \"avatar_template\": \"/user_avatar/discourse.jupyter.org/nuest/{size}/82_2.png\", \"title\": null}, \"username\": \"nuest\"}, {\"id\": 686, \"likes_received\": 3, \"likes_given\": 0, \"topics_entered\": 30, \"topic_count\": 3, \"post_count\": 8, \"posts_read\": 93, \"days_visited\": 11, \"user\": {\"id\": 686, \"username\": \"sqqqrly\", \"name\": \"DAVID OHLEMACHER\", \"avatar_template\": \"https://avatars.discourse.org/v4/letter/s/22d042/{size}.png\", \"title\": null}, \"username\": \"sqqqrly\"}, {\"id\": 303, \"likes_received\": 3, \"likes_given\": 7, \"topics_entered\": 67, \"topic_count\": 2, \"post_count\": 9, \"posts_read\": 277, \"days_visited\": 68, \"user\": {\"id\": 303, \"username\": \"ian-r-rose\", \"name\": \"Ian Rose\", \"avatar_template\": \"/user_avatar/discourse.jupyter.org/ian-r-rose/{size}/638_2.png\", \"title\": null}, \"username\": \"ian-r-rose\"}, {\"id\": 590, \"likes_received\": 2, \"likes_given\": 0, \"topics_entered\": 13, \"topic_count\": 2, \"post_count\": 6, \"posts_read\": 70, \"days_visited\": 15, \"user\": {\"id\": 590, \"username\": \"nscozzaro\", \"name\": \"Nicolas Scozzaro\", \"avatar_template\": \"/user_avatar/discourse.jupyter.org/nscozzaro/{size}/804_2.png\", \"title\": null}, \"username\": \"nscozzaro\"}, {\"id\": 227, \"likes_received\": 2, \"likes_given\": 7, \"topics_entered\": 28, \"topic_count\": 0, \"post_count\": 6, \"posts_read\": 167, \"days_visited\": 13, \"user\": {\"id\": 227, \"username\": \"sterlinm\", \"name\": \"Michael\", \"avatar_template\": \"/user_avatar/discourse.jupyter.org/sterlinm/{size}/241_2.png\", \"title\": null}, \"username\": \"sterlinm\"}, {\"id\": 419, \"likes_received\": 2, \"likes_given\": 0, \"topics_entered\": 14, \"topic_count\": 5, \"post_count\": 8, \"posts_read\": 38, \"days_visited\": 26, \"user\": {\"id\": 419, \"username\": \"alvinhuff\", \"name\": \"Alvin Huff\", \"avatar_template\": \"/user_avatar/discourse.jupyter.org/alvinhuff/{size}/550_2.png\", \"title\": null}, \"username\": \"alvinhuff\"}, {\"id\": 390, \"likes_received\": 2, \"likes_given\": 1, \"topics_entered\": 14, \"topic_count\": 4, \"post_count\": 7, \"posts_read\": 34, \"days_visited\": 9, \"user\": {\"id\": 390, \"username\": \"ernstch\", \"name\": \"Ernst\", \"avatar_template\": \"https://avatars.discourse.org/v4/letter/e/9de0a6/{size}.png\", \"title\": null}, \"username\": \"ernstch\"}, {\"id\": 566, \"likes_received\": 2, \"likes_given\": 0, \"topics_entered\": 12, \"topic_count\": 2, \"post_count\": 9, \"posts_read\": 34, \"days_visited\": 14, \"user\": {\"id\": 566, \"username\": \"Shreyas_Cholia\", \"name\": \"Shreyas Cholia\", \"avatar_template\": \"/user_avatar/discourse.jupyter.org/shreyas_cholia/{size}/784_2.png\", \"title\": null}, \"username\": \"Shreyas_Cholia\"}, {\"id\": 184, \"likes_received\": 2, \"likes_given\": 11, \"topics_entered\": 37, \"topic_count\": 1, \"post_count\": 5, \"posts_read\": 225, \"days_visited\": 25, \"user\": {\"id\": 184, \"username\": \"emdupre\", \"name\": \"Elizabeth DuPre\", \"avatar_template\": \"/user_avatar/discourse.jupyter.org/emdupre/{size}/496_2.png\", \"title\": null}, \"username\": \"emdupre\"}, {\"id\": 195, \"likes_received\": 1, \"likes_given\": 0, \"topics_entered\": 8, \"topic_count\": 0, \"post_count\": 6, \"posts_read\": 34, \"days_visited\": 10, \"user\": {\"id\": 195, \"username\": \"rcthomas\", \"name\": \"\", \"avatar_template\": \"/user_avatar/discourse.jupyter.org/rcthomas/{size}/201_2.png\", \"title\": null}, \"username\": \"rcthomas\"}, {\"id\": 462, \"likes_received\": 1, \"likes_given\": 0, \"topics_entered\": 16, \"topic_count\": 3, \"post_count\": 7, \"posts_read\": 87, \"days_visited\": 19, \"user\": {\"id\": 462, \"username\": \"rahuldave\", \"name\": \"Rahul Dave\", \"avatar_template\": \"https://avatars.discourse.org/v4/letter/r/6f9a4e/{size}.png\", \"title\": null}, \"username\": \"rahuldave\"}, {\"id\": 642, \"likes_received\": 1, \"likes_given\": 0, \"topics_entered\": 30, \"topic_count\": 5, \"post_count\": 6, \"posts_read\": 129, \"days_visited\": 24, \"user\": {\"id\": 642, \"username\": \"ArlenePena\", \"name\": null, \"avatar_template\": \"https://avatars.discourse.org/v4/letter/a/34f0e0/{size}.png\", \"title\": null}, \"username\": \"ArlenePena\"}, {\"id\": 699, \"likes_received\": 1, \"likes_given\": 0, \"topics_entered\": 14, \"topic_count\": 5, \"post_count\": 5, \"posts_read\": 39, \"days_visited\": 6, \"user\": {\"id\": 699, \"username\": \"josh\", \"name\": null, \"avatar_template\": \"https://avatars.discourse.org/v4/letter/j/45deac/{size}.png\", \"title\": null}, \"username\": \"josh\"}, {\"id\": 601, \"likes_received\": 1, \"likes_given\": 0, \"topics_entered\": 39, \"topic_count\": 3, \"post_count\": 5, \"posts_read\": 111, \"days_visited\": 18, \"user\": {\"id\": 601, \"username\": \"parmentelat\", \"name\": \"Thierry Parmentelat\", \"avatar_template\": \"/user_avatar/discourse.jupyter.org/parmentelat/{size}/813_2.png\", \"title\": null}, \"username\": \"parmentelat\"}, {\"id\": 640, \"likes_received\": 0, \"likes_given\": 0, \"topics_entered\": 6, \"topic_count\": 1, \"post_count\": 6, \"posts_read\": 23, \"days_visited\": 7, \"user\": {\"id\": 640, \"username\": \"Stefano_Fioravanzo\", \"name\": \"Stefano Fioravanzo\", \"avatar_template\": \"/user_avatar/discourse.jupyter.org/stefano_fioravanzo/{size}/849_2.png\", \"title\": null}, \"username\": \"Stefano_Fioravanzo\"}, {\"id\": 333, \"likes_received\": 0, \"likes_given\": 2, \"topics_entered\": 1, \"topic_count\": 0, \"post_count\": 7, \"posts_read\": 37, \"days_visited\": 21, \"user\": {\"id\": 333, \"username\": \"cmbui\", \"name\": \"Christina\", \"avatar_template\": \"/user_avatar/discourse.jupyter.org/cmbui/{size}/436_2.png\", \"title\": null}, \"username\": \"cmbui\"}, {\"id\": 562, \"likes_received\": 0, \"likes_given\": 0, \"topics_entered\": 4, \"topic_count\": 0, \"post_count\": 5, \"posts_read\": 25, \"days_visited\": 8, \"user\": {\"id\": 562, \"username\": \"Shane_Canon\", \"name\": \"Shane Canon\", \"avatar_template\": \"/user_avatar/discourse.jupyter.org/shane_canon/{size}/783_2.png\", \"title\": null}, \"username\": \"Shane_Canon\"}, {\"id\": 487, \"likes_received\": 0, \"likes_given\": 0, \"topics_entered\": 25, \"topic_count\": 4, \"post_count\": 7, \"posts_read\": 83, \"days_visited\": 14, \"user\": {\"id\": 487, \"username\": \"D4rkM4atter\", \"name\": \"\", \"avatar_template\": \"/user_avatar/discourse.jupyter.org/d4rkm4atter/{size}/663_2.png\", \"title\": null}, \"username\": \"D4rkM4atter\"}]}};\n",
       "      var embedOpt = {\"mode\": \"vega-lite\"};\n",
       "\n",
       "      function showError(el, error){\n",
       "          el.innerHTML = ('<div class=\"error\" style=\"color:red;\">'\n",
       "                          + '<p>JavaScript Error: ' + error.message + '</p>'\n",
       "                          + \"<p>This usually means there's a typo in your chart specification. \"\n",
       "                          + \"See the javascript console for the full traceback.</p>\"\n",
       "                          + '</div>');\n",
       "          throw error;\n",
       "      }\n",
       "      const el = document.getElementById('altair-viz-5');\n",
       "      vegaEmbed(\"#altair-viz-5\", spec, embedOpt)\n",
       "        .catch(error => showError(el, error));\n",
       "    });\n",
       "\n",
       "  </script>"
      ],
      "text/plain": [
       "Chart({\n",
       "  data:      id  likes_received  likes_given  topics_entered  topic_count  post_count  \\\n",
       "  0     6             129          206             330           11         135   \n",
       "  1     3             120          196             230           30         123   \n",
       "  3     8              64           13             140            4          51   \n",
       "  6   116              59           29             127            4          37   \n",
       "  2    24              46           16             264            6          63   \n",
       "  5    12              37            7             122            6          38   \n",
       "  4   220              36            1              95            1          50   \n",
       "  9   485              20           57              58            1          21   \n",
       "  16   34              18            3              16            3          10   \n",
       "  7    73              18           17             329            2          27   \n",
       "  23    7              16           24              31            0           9   \n",
       "  12  234              16            5               7            4          17   \n",
       "  17  222              15            6              16            1          10   \n",
       "  10   11              14           66             208            1          20   \n",
       "  29  268              13            5              18            3           7   \n",
       "  14   30              13           71              50            2          12   \n",
       "  8    99              13           37              97            3          22   \n",
       "  41  771              11            1               3            0           6   \n",
       "  31   59              10            3              16            1           7   \n",
       "  21  679              10            1              24            0           9   \n",
       "  13   77              10            8             153            0          13   \n",
       "  20  556               8            3              15            1           9   \n",
       "  39  145               8            0               7            2           6   \n",
       "  15   60               7            7              33            0          11   \n",
       "  45  352               7            0               3            0           5   \n",
       "  32  372               6            5              27            1           7   \n",
       "  18  432               6           24              51            1          10   \n",
       "  24  510               6            0               4            2           8   \n",
       "  37    9               6            0              10            0           6   \n",
       "  11  217               6           24              35            0          17   \n",
       "  38  565               5            3               6            0           6   \n",
       "  47  622               4            8              17            1           5   \n",
       "  33   71               4            1              15            1           7   \n",
       "  26  686               3            0              30            3           8   \n",
       "  22  303               3            7              67            2           9   \n",
       "  42  590               2            0              13            2           6   \n",
       "  40  227               2            7              28            0           6   \n",
       "  25  419               2            0              14            5           8   \n",
       "  30  390               2            1              14            4           7   \n",
       "  19  566               2            0              12            2           9   \n",
       "  49  184               2           11              37            1           5   \n",
       "  35  195               1            0               8            0           6   \n",
       "  28  462               1            0              16            3           7   \n",
       "  43  642               1            0              30            5           6   \n",
       "  46  699               1            0              14            5           5   \n",
       "  48  601               1            0              39            3           5   \n",
       "  36  640               0            0               6            1           6   \n",
       "  34  333               0            2               1            0           7   \n",
       "  44  562               0            0               4            0           5   \n",
       "  27  487               0            0              25            4           7   \n",
       "  \n",
       "      posts_read  days_visited  \\\n",
       "  0         1412            83   \n",
       "  1          888            90   \n",
       "  3          681            91   \n",
       "  6          590            84   \n",
       "  2          667            64   \n",
       "  5          593            51   \n",
       "  4          391            29   \n",
       "  9          295            35   \n",
       "  16         158            27   \n",
       "  7         1497            74   \n",
       "  23         227            23   \n",
       "  12          53            25   \n",
       "  17         143            44   \n",
       "  10         991            70   \n",
       "  29         101            26   \n",
       "  14         307            72   \n",
       "  8          525            54   \n",
       "  41          67             3   \n",
       "  31         161            33   \n",
       "  21         119            11   \n",
       "  13         761            85   \n",
       "  20          77            11   \n",
       "  39          38             8   \n",
       "  15         267            27   \n",
       "  45          50            12   \n",
       "  32         139            29   \n",
       "  18         207            36   \n",
       "  24          10            10   \n",
       "  37          36            13   \n",
       "  11         188            39   \n",
       "  38          43             7   \n",
       "  47          64            19   \n",
       "  33         143            20   \n",
       "  26          93            11   \n",
       "  22         277            68   \n",
       "  42          70            15   \n",
       "  40         167            13   \n",
       "  25          38            26   \n",
       "  30          34             9   \n",
       "  19          34            14   \n",
       "  49         225            25   \n",
       "  35          34            10   \n",
       "  28          87            19   \n",
       "  43         129            24   \n",
       "  46          39             6   \n",
       "  48         111            18   \n",
       "  36          23             7   \n",
       "  34          37            21   \n",
       "  44          25             8   \n",
       "  27          83            14   \n",
       "  \n",
       "                                                   user            username  \n",
       "  0   {'id': 6, 'username': 'betatim', 'name': 'Tim ...             betatim  \n",
       "  1   {'id': 3, 'username': 'choldgraf', 'name': 'Ch...           choldgraf  \n",
       "  3   {'id': 8, 'username': 'minrk', 'name': 'Min RK...               minrk  \n",
       "  6   {'id': 116, 'username': 'sgibson91', 'name': '...           sgibson91  \n",
       "  2   {'id': 24, 'username': 'psychemedia', 'name': ...         psychemedia  \n",
       "  5   {'id': 12, 'username': 'yuvipanda', 'name': 'Y...           yuvipanda  \n",
       "  4   {'id': 220, 'username': 'jasongrout', 'name': ...          jasongrout  \n",
       "  9   {'id': 485, 'username': 'rolweber', 'name': 'R...            rolweber  \n",
       "  16  {'id': 34, 'username': 'danielballan', 'name':...        danielballan  \n",
       "  7   {'id': 73, 'username': 'manics', 'name': 'Simo...              manics  \n",
       "  23  {'id': 7, 'username': 'willingc', 'name': 'Car...            willingc  \n",
       "  12  {'id': 234, 'username': 'fmaussion', 'name': '...           fmaussion  \n",
       "  17  {'id': 222, 'username': 'tgeorgeux', 'name': '...           tgeorgeux  \n",
       "  10  {'id': 11, 'username': 'fomightez', 'name': 'W...           fomightez  \n",
       "  29  {'id': 268, 'username': 'afshin', 'name': 'A. ...              afshin  \n",
       "  14  {'id': 30, 'username': 'consideRatio', 'name':...        consideRatio  \n",
       "  8   {'id': 99, 'username': 'Zsailer', 'name': 'Zac...             Zsailer  \n",
       "  41  {'id': 771, 'username': 'sarasrking', 'name': ...          sarasrking  \n",
       "  31  {'id': 59, 'username': 'bitnik', 'name': 'Kena...              bitnik  \n",
       "  21  {'id': 679, 'username': 'bollwyvl', 'name': 'N...            bollwyvl  \n",
       "  13  {'id': 77, 'username': 'jtp', 'name': 'Jeremy ...                 jtp  \n",
       "  20  {'id': 556, 'username': 'blink1073', 'name': '...           blink1073  \n",
       "  39  {'id': 145, 'username': 'hhuuggoo', 'name': 's...            hhuuggoo  \n",
       "  15  {'id': 60, 'username': 'fm75', 'name': 'Fred M...                fm75  \n",
       "  45  {'id': 352, 'username': 'jhornig', 'name': 'Jo...             jhornig  \n",
       "  32  {'id': 372, 'username': 'davclark', 'name': 'D...            davclark  \n",
       "  18  {'id': 432, 'username': 'ondrejj', 'name': 'On...             ondrejj  \n",
       "  24  {'id': 510, 'username': 'lorankary', 'name': '...           lorankary  \n",
       "  37  {'id': 9, 'username': 'ellisonbg', 'name': 'Br...           ellisonbg  \n",
       "  11  {'id': 217, 'username': 'kevin-bates', 'name':...         kevin-bates  \n",
       "  38  {'id': 565, 'username': 'danielskatz', 'name':...         danielskatz  \n",
       "  47  {'id': 622, 'username': 'esevan', 'name': 'Eun...              esevan  \n",
       "  33  {'id': 71, 'username': 'nuest', 'name': 'Danie...               nuest  \n",
       "  26  {'id': 686, 'username': 'sqqqrly', 'name': 'DA...             sqqqrly  \n",
       "  22  {'id': 303, 'username': 'ian-r-rose', 'name': ...          ian-r-rose  \n",
       "  42  {'id': 590, 'username': 'nscozzaro', 'name': '...           nscozzaro  \n",
       "  40  {'id': 227, 'username': 'sterlinm', 'name': 'M...            sterlinm  \n",
       "  25  {'id': 419, 'username': 'alvinhuff', 'name': '...           alvinhuff  \n",
       "  30  {'id': 390, 'username': 'ernstch', 'name': 'Er...             ernstch  \n",
       "  19  {'id': 566, 'username': 'Shreyas_Cholia', 'nam...      Shreyas_Cholia  \n",
       "  49  {'id': 184, 'username': 'emdupre', 'name': 'El...             emdupre  \n",
       "  35  {'id': 195, 'username': 'rcthomas', 'name': ''...            rcthomas  \n",
       "  28  {'id': 462, 'username': 'rahuldave', 'name': '...           rahuldave  \n",
       "  43  {'id': 642, 'username': 'ArlenePena', 'name': ...          ArlenePena  \n",
       "  46  {'id': 699, 'username': 'josh', 'name': None, ...                josh  \n",
       "  48  {'id': 601, 'username': 'parmentelat', 'name':...         parmentelat  \n",
       "  36  {'id': 640, 'username': 'Stefano_Fioravanzo', ...  Stefano_Fioravanzo  \n",
       "  34  {'id': 333, 'username': 'cmbui', 'name': 'Chri...               cmbui  \n",
       "  44  {'id': 562, 'username': 'Shane_Canon', 'name':...         Shane_Canon  \n",
       "  27  {'id': 487, 'username': 'D4rkM4atter', 'name':...         D4rkM4atter  ,\n",
       "  encoding: FacetedEncoding({\n",
       "    x: X({\n",
       "      field: 'username',\n",
       "      type: 'nominal'\n",
       "    }),\n",
       "    y: Y({\n",
       "      field: 'likes_received',\n",
       "      type: 'quantitative'\n",
       "    })\n",
       "  }),\n",
       "  mark: 'bar'\n",
       "})"
      ]
     },
     "execution_count": 18,
     "metadata": {},
     "output_type": "execute_result"
    }
   ],
   "source": [
    "plot_user_data(users.head(50), 'likes_received')"
   ]
  },
  {
   "cell_type": "code",
   "execution_count": 19,
   "metadata": {
    "papermill": {
     "duration": 0.085873,
     "end_time": "2019-08-14T03:37:18.097979",
     "exception": false,
     "start_time": "2019-08-14T03:37:18.012106",
     "status": "completed"
    },
    "tags": []
   },
   "outputs": [
    {
     "data": {
      "text/html": [
       "<script src=\"https://cdn.rawgit.com/parente/4c3e6936d0d7a46fd071/raw/65b816fb9bdd3c28b4ddf3af602bfd6015486383/code_toggle.js\"></script>"
      ],
      "text/plain": [
       "<IPython.core.display.HTML object>"
      ]
     },
     "metadata": {},
     "output_type": "display_data"
    }
   ],
   "source": [
    "%%html\n",
    "<script src=\"https://cdn.rawgit.com/parente/4c3e6936d0d7a46fd071/raw/65b816fb9bdd3c28b4ddf3af602bfd6015486383/code_toggle.js\"></script>"
   ]
  }
 ],
 "metadata": {
  "kernelspec": {
   "display_name": "Python 3",
   "language": "python",
   "name": "python3"
  },
  "language_info": {
   "codemirror_mode": {
    "name": "ipython",
    "version": 3
   },
   "file_extension": ".py",
   "mimetype": "text/x-python",
   "name": "python",
   "nbconvert_exporter": "python",
   "pygments_lexer": "ipython3",
   "version": "3.7.3"
  },
  "papermill": {
   "duration": 12.741807,
   "end_time": "2019-08-14T03:37:18.887211",
   "environment_variables": {},
   "exception": null,
   "input_path": "./discourse.ipynb",
   "output_path": "../reports/2019-01-01_2019-02-01/discourse.ipynb",
   "parameters": {
    "end_date": "2019-02-01",
    "renderer": "kaggle",
    "start_date": "2019-01-01"
   },
   "start_time": "2019-08-14T03:37:06.145404",
   "version": "1.0.1"
  },
  "widgets": {
   "application/vnd.jupyter.widget-state+json": {
    "state": {},
    "version_major": 2,
    "version_minor": 0
   }
  }
 },
 "nbformat": 4,
 "nbformat_minor": 4
}