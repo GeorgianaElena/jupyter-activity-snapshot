{
 "cells": [
  {
   "cell_type": "code",
   "execution_count": 1,
   "metadata": {
    "papermill": {
     "duration": 0.916398,
     "end_time": "2019-08-01T17:02:01.903352",
     "exception": false,
     "start_time": "2019-08-01T17:02:00.986954",
     "status": "completed"
    },
    "tags": [
     "hide_input"
    ]
   },
   "outputs": [],
   "source": [
    "import requests\n",
    "from IPython.display import Markdown\n",
    "from tqdm import tqdm, tqdm_notebook\n",
    "import pandas as pd\n",
    "from matplotlib import pyplot as plt\n",
    "import numpy as np\n",
    "import altair as alt\n",
    "from requests.utils import quote\n",
    "import os\n",
    "from datetime import timedelta\n",
    "from mod import alt_theme"
   ]
  },
  {
   "cell_type": "code",
   "execution_count": 2,
   "metadata": {
    "papermill": {
     "duration": 0.033267,
     "end_time": "2019-08-01T17:02:01.957315",
     "exception": false,
     "start_time": "2019-08-01T17:02:01.924048",
     "status": "completed"
    },
    "tags": [
     "parameters",
     "hide_input"
    ]
   },
   "outputs": [],
   "source": [
    "fmt = \"{:%Y-%m-%d}\"\n",
    "\n",
    "# Can optionally use number of days to choose dates\n",
    "n_days = 60\n",
    "end_date = fmt.format(pd.datetime.today())\n",
    "start_date = fmt.format(pd.datetime.today() - timedelta(days=n_days))\n",
    "\n",
    "renderer = \"kaggle\"\n",
    "github_orgs = [\"jupyterhub\", \"jupyter\", \"jupyterlab\", \"jupyter-widgets\", \"ipython\", \"binder-examples\", \"nteract\"]\n",
    "bot_names = [\"stale\", \"codecov\", \"jupyterlab-dev-mode\", \"henchbot\"]"
   ]
  },
  {
   "cell_type": "code",
   "execution_count": 3,
   "metadata": {
    "papermill": {
     "duration": 0.042108,
     "end_time": "2019-08-01T17:02:02.025821",
     "exception": false,
     "start_time": "2019-08-01T17:02:01.983713",
     "status": "completed"
    },
    "tags": [
     "injected-parameters"
    ]
   },
   "outputs": [],
   "source": [
    "# Parameters\n",
    "renderer = \"kaggle\"\n"
   ]
  },
  {
   "cell_type": "code",
   "execution_count": 4,
   "metadata": {
    "papermill": {
     "duration": 0.035343,
     "end_time": "2019-08-01T17:02:02.078817",
     "exception": false,
     "start_time": "2019-08-01T17:02:02.043474",
     "status": "completed"
    },
    "tags": []
   },
   "outputs": [
    {
     "data": {
      "text/plain": [
       "ThemeRegistry.enable('my_theme')"
      ]
     },
     "execution_count": 4,
     "metadata": {},
     "output_type": "execute_result"
    }
   ],
   "source": [
    "alt.renderers.enable(renderer);\n",
    "alt.themes.register('my_theme', alt_theme)\n",
    "alt.themes.enable(\"my_theme\")"
   ]
  },
  {
   "cell_type": "code",
   "execution_count": 5,
   "metadata": {
    "papermill": {
     "duration": 0.032228,
     "end_time": "2019-08-01T17:02:02.127280",
     "exception": false,
     "start_time": "2019-08-01T17:02:02.095052",
     "status": "completed"
    },
    "tags": [
     "hide_input"
    ]
   },
   "outputs": [],
   "source": [
    "# Discourse API key\n",
    "api = {'Api-Key': os.environ['DISCOURSE_API_KEY'],\n",
    "       'Api-Username': os.environ['DISCOURSE_API_USERNAME']}"
   ]
  },
  {
   "cell_type": "code",
   "execution_count": 6,
   "metadata": {
    "papermill": {
     "duration": 0.090688,
     "end_time": "2019-08-01T17:02:02.237868",
     "exception": false,
     "start_time": "2019-08-01T17:02:02.147180",
     "status": "completed"
    },
    "tags": [
     "hide_input"
    ]
   },
   "outputs": [],
   "source": [
    "# Discourse\n",
    "def topics_to_markdown(topics, n_list=10):\n",
    "    body = []\n",
    "    for _, topic in topics.iterrows():\n",
    "        title = topic['fancy_title']\n",
    "        slug = topic['slug']\n",
    "        posts_count = topic['posts_count']\n",
    "        url = f'https://discourse.jupyter.org/t/{slug}'\n",
    "        body.append(f'* [{title}]({url}) ({posts_count} posts)')\n",
    "    body = body[:n_list]\n",
    "    return '\\n'.join(body)\n",
    "\n",
    "def counts_from_activity(activity):\n",
    "    counts = activity.groupby('category_id').count()['bookmarked'].reset_index()\n",
    "    counts['parent_category'] = None\n",
    "    for ii, irow in counts.iterrows():\n",
    "        if parent_categories[irow['category_id']] is not None:\n",
    "            counts.loc[ii, 'parent_category'] = parent_categories[irow['category_id']]\n",
    "\n",
    "    counts['category_id'] = counts['category_id'].map(lambda a: category_mapping[a])\n",
    "    counts['parent_category'] = counts['parent_category'].map(lambda a: category_mapping[a] if a is not None else 'parent')\n",
    "    is_parent = counts['parent_category'] == 'parent'\n",
    "    counts.loc[is_parent, 'parent_category'] = counts.loc[is_parent, 'category_id'] \n",
    "    counts['parent/category'] = counts.apply(lambda a: a['parent_category']+'/'+a['category_id'], axis=1)\n",
    "    counts = counts.sort_values(['parent_category', 'bookmarked'], ascending=False)\n",
    "    return counts"
   ]
  },
  {
   "cell_type": "markdown",
   "metadata": {
    "papermill": {
     "duration": 0.025046,
     "end_time": "2019-08-01T17:02:02.285058",
     "exception": false,
     "start_time": "2019-08-01T17:02:02.260012",
     "status": "completed"
    },
    "tags": []
   },
   "source": [
    "# Community forum activity\n",
    "\n",
    "The [Jupyter Community Forum](https://discourse.jupyter.org) is a place for Jovyans across the\n",
    "community to talk about Jupyter tools in interactive computing and how they fit into their\n",
    "workflows. It's also a place for developers to share ideas, tools, tips, and help one another.\n",
    "\n",
    "Below are a few updates from activity in the Discourse. For more detailed information about\n",
    "the activity on the Community Forum, check out these links:\n",
    "\n",
    "* [The users page](https://discourse.jupyter.org/u) has information about user activity\n",
    "* [The top posts page](https://discourse.jupyter.org/top) contains a list of top posts, sorted\n",
    "  by various metrics."
   ]
  },
  {
   "cell_type": "code",
   "execution_count": 7,
   "metadata": {
    "papermill": {
     "duration": 0.130606,
     "end_time": "2019-08-01T17:02:02.433552",
     "exception": false,
     "start_time": "2019-08-01T17:02:02.302946",
     "status": "completed"
    },
    "tags": [
     "hide_input"
    ]
   },
   "outputs": [],
   "source": [
    "# Get categories for IDs\n",
    "url = \"https://discourse.jupyter.org/site.json\"\n",
    "resp = requests.get(url, headers=api)\n",
    "category_mapping = {cat['id']: cat['name'] for cat in resp.json()['categories']}\n",
    "parent_categories = {cat['id']: cat.get(\"parent_category_id\", None) for cat in resp.json()['categories']}"
   ]
  },
  {
   "cell_type": "code",
   "execution_count": 8,
   "metadata": {
    "papermill": {
     "duration": 0.036217,
     "end_time": "2019-08-01T17:02:02.504720",
     "exception": false,
     "start_time": "2019-08-01T17:02:02.468503",
     "status": "completed"
    },
    "tags": [
     "hide_input"
    ]
   },
   "outputs": [],
   "source": [
    "# Base URL to use\n",
    "url = \"https://discourse.jupyter.org/latest.json\""
   ]
  },
  {
   "cell_type": "markdown",
   "metadata": {
    "papermill": {
     "duration": 0.016266,
     "end_time": "2019-08-01T17:02:02.539636",
     "exception": false,
     "start_time": "2019-08-01T17:02:02.523370",
     "status": "completed"
    },
    "tags": []
   },
   "source": [
    "## Topics with lots of likes\n",
    "\n",
    "\"Likes\" are a way for community members to say thanks for a helpful post, show their\n",
    "support for an idea, or generally to share a little positivity with somebody else.\n",
    "These are topics that have generated lots of likes in recent history."
   ]
  },
  {
   "cell_type": "code",
   "execution_count": 9,
   "metadata": {
    "papermill": {
     "duration": 0.155324,
     "end_time": "2019-08-01T17:02:02.711232",
     "exception": false,
     "start_time": "2019-08-01T17:02:02.555908",
     "status": "completed"
    },
    "tags": [
     "hide_input"
    ]
   },
   "outputs": [
    {
     "data": {
      "text/markdown": [
       "* [Introduce yourself!](https://discourse.jupyter.org/t/introduce-yourself) (103 posts)\n",
       "* [{WIP} Re-Design of Jupyter.org Website](https://discourse.jupyter.org/t/wip-re-design-of-jupyter-org-website) (59 posts)\n",
       "* [Jupyter Community Calls](https://discourse.jupyter.org/t/jupyter-community-calls) (29 posts)\n",
       "* [JupyterHub, Binder workshop in Oslo, Sept. 5-8](https://discourse.jupyter.org/t/jupyterhub-binder-workshop-in-oslo-sept-5-8) (17 posts)\n",
       "* [Help us choose an updated &ldquo;Launch Binder&rdquo; badge!](https://discourse.jupyter.org/t/help-us-choose-an-updated-launch-binder-badge) (21 posts)\n",
       "* [PyCon 2019 and mybinder.org](https://discourse.jupyter.org/t/pycon-2019-and-mybinder-org) (17 posts)\n",
       "* [The Binder Federation](https://discourse.jupyter.org/t/the-binder-federation) (14 posts)\n",
       "* [Microsoft Word Integration (Intern Project)](https://discourse.jupyter.org/t/microsoft-word-integration-intern-project) (17 posts)\n",
       "* [Jupyter community workshop: proposal on diversity, inclusion and accessibility](https://discourse.jupyter.org/t/jupyter-community-workshop-proposal-on-diversity-inclusion-and-accessibility) (20 posts)\n",
       "* [Sunset the GitHub repo jupyter/help?](https://discourse.jupyter.org/t/sunset-the-github-repo-jupyter-help) (17 posts)"
      ],
      "text/plain": [
       "<IPython.core.display.Markdown object>"
      ]
     },
     "execution_count": 9,
     "metadata": {},
     "output_type": "execute_result"
    }
   ],
   "source": [
    "params = {\"order\": \"likes\", \"ascending\": \"False\"}\n",
    "resp = requests.get(url, headers=api, params=params)\n",
    "\n",
    "# Topics with the most likes in recent history\n",
    "liked = pd.DataFrame(resp.json()['topic_list']['topics'])\n",
    "Markdown(topics_to_markdown(liked))"
   ]
  },
  {
   "cell_type": "markdown",
   "metadata": {
    "papermill": {
     "duration": 0.019151,
     "end_time": "2019-08-01T17:02:02.749058",
     "exception": false,
     "start_time": "2019-08-01T17:02:02.729907",
     "status": "completed"
    },
    "tags": []
   },
   "source": [
    "## Active topics on the Community Forum\n",
    "\n",
    "These are topics with lots of activity in recent history."
   ]
  },
  {
   "cell_type": "code",
   "execution_count": 10,
   "metadata": {
    "papermill": {
     "duration": 0.189816,
     "end_time": "2019-08-01T17:02:02.956706",
     "exception": false,
     "start_time": "2019-08-01T17:02:02.766890",
     "status": "completed"
    },
    "tags": [
     "hide_input"
    ]
   },
   "outputs": [
    {
     "data": {
      "text/markdown": [
       "* [Introduce yourself!](https://discourse.jupyter.org/t/introduce-yourself) (103 posts)\n",
       "* [{WIP} Re-Design of Jupyter.org Website](https://discourse.jupyter.org/t/wip-re-design-of-jupyter-org-website) (59 posts)\n",
       "* [Tip: embed custom github content in a Binder link with nbgitpuller](https://discourse.jupyter.org/t/tip-embed-custom-github-content-in-a-binder-link-with-nbgitpuller) (52 posts)\n",
       "* [Would a &ldquo;The Littlest Binder&rdquo; be useful?](https://discourse.jupyter.org/t/would-a-the-littlest-binder-be-useful) (31 posts)\n",
       "* [Jupyter Community Calls](https://discourse.jupyter.org/t/jupyter-community-calls) (29 posts)\n",
       "* [Plugins of considerations](https://discourse.jupyter.org/t/plugins-of-considerations) (28 posts)\n",
       "* [A proposal for JupyterHub communications](https://discourse.jupyter.org/t/a-proposal-for-jupyterhub-communications) (26 posts)\n",
       "* [Binder/BinderHub Workshops &ndash; Help Wanted!](https://discourse.jupyter.org/t/binder-binderhub-workshops-help-wanted) (25 posts)\n",
       "* [Help us choose an updated &ldquo;Launch Binder&rdquo; badge!](https://discourse.jupyter.org/t/help-us-choose-an-updated-launch-binder-badge) (21 posts)\n",
       "* [Creating a specification for reproducible repositories](https://discourse.jupyter.org/t/creating-a-specification-for-reproducible-repositories) (21 posts)"
      ],
      "text/plain": [
       "<IPython.core.display.Markdown object>"
      ]
     },
     "execution_count": 10,
     "metadata": {},
     "output_type": "execute_result"
    }
   ],
   "source": [
    "params = {\"order\": \"posts\", \"ascending\": \"False\"}\n",
    "resp = requests.get(url, headers=api, params=params)\n",
    "\n",
    "# Topics with the most posts in recent history\n",
    "posts = pd.DataFrame(resp.json()['topic_list']['topics'])\n",
    "Markdown(topics_to_markdown(posts))"
   ]
  },
  {
   "cell_type": "code",
   "execution_count": 11,
   "metadata": {
    "papermill": {
     "duration": 0.081261,
     "end_time": "2019-08-01T17:02:03.055559",
     "exception": false,
     "start_time": "2019-08-01T17:02:02.974298",
     "status": "completed"
    },
    "tags": [
     "hide_input"
    ]
   },
   "outputs": [
    {
     "data": {
      "text/html": [
       "\n",
       "  <style>\n",
       "    .vega-actions a {\n",
       "        margin-right: 12px;\n",
       "        color: #757575;\n",
       "        font-weight: normal;\n",
       "        font-size: 13px;\n",
       "    }\n",
       "    .error {\n",
       "        color: red;\n",
       "    }\n",
       "  </style>\n",
       "  <div id=\"altair-viz-1\"></div>\n",
       "  <script>\n",
       "    requirejs.config({\n",
       "        \"paths\": {\n",
       "            \"vega\": \"https://cdn.jsdelivr.net/npm//vega@5?noext\",\n",
       "            \"vega-lib\": \"https://cdn.jsdelivr.net/npm//vega-lib?noext\",\n",
       "            \"vega-lite\": \"https://cdn.jsdelivr.net/npm//vega-lite@3.3.0?noext\",\n",
       "            \"vega-embed\": \"https://cdn.jsdelivr.net/npm//vega-embed@4?noext\",\n",
       "        }\n",
       "    });\n",
       "    require(['vega-embed'], function(vegaEmbed){\n",
       "      var spec = {\"config\": {\"axisLeft\": {\"labelFontSize\": 15}, \"axisBottom\": {\"labelFontSize\": 15}}, \"data\": {\"name\": \"data-5a700d1090cd98adf70cfce6281e57eb\"}, \"mark\": \"bar\", \"encoding\": {\"color\": {\"type\": \"nominal\", \"field\": \"parent_category\"}, \"x\": {\"type\": \"nominal\", \"field\": \"parent/category\", \"sort\": [\"accessibility\", \"Admin requests\", \"Meta\", \"announcements\", \"JupyterLab\", \"discuss\", \"JupyterHub\", \"Enterprise Gateway\", \"Community Chat\", \"discuss\", \"Binder\", \"BinderHub\"]}, \"y\": {\"type\": \"quantitative\", \"field\": \"bookmarked\"}}, \"height\": 300, \"title\": \"Activity by category\", \"width\": 700, \"$schema\": \"https://vega.github.io/schema/vega-lite/v3.3.0.json\", \"datasets\": {\"data-5a700d1090cd98adf70cfce6281e57eb\": [{\"category_id\": \"accessibility\", \"bookmarked\": 2, \"parent_category\": \"Special Topics\", \"parent/category\": \"Special Topics/accessibility\"}, {\"category_id\": \"Admin requests\", \"bookmarked\": 1, \"parent_category\": \"Site Feedback\", \"parent/category\": \"Site Feedback/Admin requests\"}, {\"category_id\": \"Meta\", \"bookmarked\": 4, \"parent_category\": \"Meta\", \"parent/category\": \"Meta/Meta\"}, {\"category_id\": \"announcements\", \"bookmarked\": 1, \"parent_category\": \"Meta\", \"parent/category\": \"Meta/announcements\"}, {\"category_id\": \"JupyterLab\", \"bookmarked\": 1, \"parent_category\": \"JupyterLab\", \"parent/category\": \"JupyterLab/JupyterLab\"}, {\"category_id\": \"discuss\", \"bookmarked\": 3, \"parent_category\": \"JupyterHub\", \"parent/category\": \"JupyterHub/discuss\"}, {\"category_id\": \"JupyterHub\", \"bookmarked\": 1, \"parent_category\": \"JupyterHub\", \"parent/category\": \"JupyterHub/JupyterHub\"}, {\"category_id\": \"Enterprise Gateway\", \"bookmarked\": 2, \"parent_category\": \"Enterprise Gateway\", \"parent/category\": \"Enterprise Gateway/Enterprise Gateway\"}, {\"category_id\": \"Community Chat\", \"bookmarked\": 3, \"parent_category\": \"Community Chat\", \"parent/category\": \"Community Chat/Community Chat\"}, {\"category_id\": \"discuss\", \"bookmarked\": 6, \"parent_category\": \"Binder\", \"parent/category\": \"Binder/discuss\"}, {\"category_id\": \"Binder\", \"bookmarked\": 4, \"parent_category\": \"Binder\", \"parent/category\": \"Binder/Binder\"}, {\"category_id\": \"BinderHub\", \"bookmarked\": 2, \"parent_category\": \"Binder\", \"parent/category\": \"Binder/BinderHub\"}]}};\n",
       "      var embedOpt = {\"mode\": \"vega-lite\"};\n",
       "\n",
       "      function showError(el, error){\n",
       "          el.innerHTML = ('<div class=\"error\" style=\"color:red;\">'\n",
       "                          + '<p>JavaScript Error: ' + error.message + '</p>'\n",
       "                          + \"<p>This usually means there's a typo in your chart specification. \"\n",
       "                          + \"See the javascript console for the full traceback.</p>\"\n",
       "                          + '</div>');\n",
       "          throw error;\n",
       "      }\n",
       "      const el = document.getElementById('altair-viz-1');\n",
       "      vegaEmbed(\"#altair-viz-1\", spec, embedOpt)\n",
       "        .catch(error => showError(el, error));\n",
       "    });\n",
       "\n",
       "  </script>"
      ],
      "text/plain": [
       "Chart({\n",
       "  data:            category_id  bookmarked     parent_category  \\\n",
       "  11       accessibility           2      Special Topics   \n",
       "  10      Admin requests           1       Site Feedback   \n",
       "  0                 Meta           4                Meta   \n",
       "  1        announcements           1                Meta   \n",
       "  8           JupyterLab           1          JupyterLab   \n",
       "  6              discuss           3          JupyterHub   \n",
       "  2           JupyterHub           1          JupyterHub   \n",
       "  9   Enterprise Gateway           2  Enterprise Gateway   \n",
       "  3       Community Chat           3      Community Chat   \n",
       "  7              discuss           6              Binder   \n",
       "  4               Binder           4              Binder   \n",
       "  5            BinderHub           2              Binder   \n",
       "  \n",
       "                            parent/category  \n",
       "  11           Special Topics/accessibility  \n",
       "  10           Site Feedback/Admin requests  \n",
       "  0                               Meta/Meta  \n",
       "  1                      Meta/announcements  \n",
       "  8                   JupyterLab/JupyterLab  \n",
       "  6                      JupyterHub/discuss  \n",
       "  2                   JupyterHub/JupyterHub  \n",
       "  9   Enterprise Gateway/Enterprise Gateway  \n",
       "  3           Community Chat/Community Chat  \n",
       "  7                          Binder/discuss  \n",
       "  4                           Binder/Binder  \n",
       "  5                        Binder/BinderHub  ,\n",
       "  encoding: FacetedEncoding({\n",
       "    color: Color({\n",
       "      field: 'parent_category',\n",
       "      type: 'nominal'\n",
       "    }),\n",
       "    x: X({\n",
       "      field: 'parent/category',\n",
       "      sort: Sort(['accessibility', 'Admin requests', 'Meta', 'announcements', 'JupyterLab', 'discuss', 'JupyterHub', 'Enterprise Gateway', 'Community Chat', 'discuss', 'Binder', 'BinderHub']),\n",
       "      type: 'nominal'\n",
       "    }),\n",
       "    y: Y({\n",
       "      field: 'bookmarked',\n",
       "      type: 'quantitative'\n",
       "    })\n",
       "  }),\n",
       "  height: 300,\n",
       "  mark: 'bar',\n",
       "  title: 'Activity by category',\n",
       "  width: 700\n",
       "})"
      ]
     },
     "execution_count": 11,
     "metadata": {},
     "output_type": "execute_result"
    }
   ],
   "source": [
    "counts = counts_from_activity(posts)\n",
    "alt.Chart(data=counts, width=700, height=300, title=\"Activity by category\").mark_bar().encode(\n",
    "    x=alt.X(\"parent/category\", sort=alt.Sort(counts['category_id'].values.tolist())),\n",
    "    y=\"bookmarked\",\n",
    "    color=\"parent_category\"\n",
    ")"
   ]
  },
  {
   "cell_type": "markdown",
   "metadata": {
    "papermill": {
     "duration": 0.026057,
     "end_time": "2019-08-01T17:02:03.106668",
     "exception": false,
     "start_time": "2019-08-01T17:02:03.080611",
     "status": "completed"
    },
    "tags": []
   },
   "source": [
    "## Recently-created topics\n",
    "\n",
    "These are topics that were recently created, sorted by the amount of activity\n",
    "in each one."
   ]
  },
  {
   "cell_type": "code",
   "execution_count": 12,
   "metadata": {
    "papermill": {
     "duration": 0.125603,
     "end_time": "2019-08-01T17:02:03.267201",
     "exception": false,
     "start_time": "2019-08-01T17:02:03.141598",
     "status": "completed"
    },
    "tags": [
     "hide_input"
    ]
   },
   "outputs": [
    {
     "data": {
      "text/markdown": [
       "* [What&rsquo;s an alternative to the word &ldquo;Fellow&rdquo; or &ldquo;Fellowship&rdquo;?](https://discourse.jupyter.org/t/whats-an-alternative-to-the-word-fellow-or-fellowship) (12 posts)\n",
       "* [Hiding code cell on launch](https://discourse.jupyter.org/t/hiding-code-cell-on-launch) (8 posts)\n",
       "* [Binder workshop Sun. July 21, 9 am to 1 pm Swiss time: ~50 users](https://discourse.jupyter.org/t/binder-workshop-sun-july-21-9-am-to-1-pm-swiss-time-50-users) (5 posts)\n",
       "* [Guidance for local Jupyter Days events](https://discourse.jupyter.org/t/guidance-for-local-jupyter-days-events) (5 posts)\n",
       "* [Market Research: What is a JupyterHub?](https://discourse.jupyter.org/t/market-research-what-is-a-jupyterhub) (5 posts)\n",
       "* [Is there a way to debug Jupyterlab .py code?](https://discourse.jupyter.org/t/is-there-a-way-to-debug-jupyterlab-py-code) (4 posts)\n",
       "* [Is there a hook or signal when the tab closes or goes out of focus?](https://discourse.jupyter.org/t/is-there-a-hook-or-signal-when-the-tab-closes-or-goes-out-of-focus) (3 posts)\n",
       "* [Webserver headers and ciphers](https://discourse.jupyter.org/t/webserver-headers-and-ciphers) (3 posts)\n",
       "* [Best way to inject per user config for JuptyerHub](https://discourse.jupyter.org/t/best-way-to-inject-per-user-config-for-juptyerhub) (3 posts)\n",
       "* [JupyterHUB on top of EMR and GPU nodes](https://discourse.jupyter.org/t/jupyterhub-on-top-of-emr-and-gpu-nodes) (3 posts)"
      ],
      "text/plain": [
       "<IPython.core.display.Markdown object>"
      ]
     },
     "execution_count": 12,
     "metadata": {},
     "output_type": "execute_result"
    }
   ],
   "source": [
    "params = {\"order\": \"created\", \"ascending\": \"False\"}\n",
    "resp = requests.get(url, headers=api, params=params)\n",
    "\n",
    "# Sort created by the most posted for recently-created posts\n",
    "created = pd.DataFrame(resp.json()['topic_list']['topics'])\n",
    "created = created.sort_values('posts_count', ascending=False)\n",
    "Markdown(topics_to_markdown(created))"
   ]
  },
  {
   "cell_type": "code",
   "execution_count": 13,
   "metadata": {
    "papermill": {
     "duration": 0.06326,
     "end_time": "2019-08-01T17:02:03.354525",
     "exception": false,
     "start_time": "2019-08-01T17:02:03.291265",
     "status": "completed"
    },
    "tags": [
     "hide_input"
    ]
   },
   "outputs": [
    {
     "data": {
      "text/html": [
       "\n",
       "  <style>\n",
       "    .vega-actions a {\n",
       "        margin-right: 12px;\n",
       "        color: #757575;\n",
       "        font-weight: normal;\n",
       "        font-size: 13px;\n",
       "    }\n",
       "    .error {\n",
       "        color: red;\n",
       "    }\n",
       "  </style>\n",
       "  <div id=\"altair-viz-2\"></div>\n",
       "  <script>\n",
       "    requirejs.config({\n",
       "        \"paths\": {\n",
       "            \"vega\": \"https://cdn.jsdelivr.net/npm//vega@5?noext\",\n",
       "            \"vega-lib\": \"https://cdn.jsdelivr.net/npm//vega-lib?noext\",\n",
       "            \"vega-lite\": \"https://cdn.jsdelivr.net/npm//vega-lite@3.3.0?noext\",\n",
       "            \"vega-embed\": \"https://cdn.jsdelivr.net/npm//vega-embed@4?noext\",\n",
       "        }\n",
       "    });\n",
       "    require(['vega-embed'], function(vegaEmbed){\n",
       "      var spec = {\"config\": {\"axisLeft\": {\"labelFontSize\": 15}, \"axisBottom\": {\"labelFontSize\": 15}}, \"data\": {\"name\": \"data-73fc2525720bcc340d8046f2b251889d\"}, \"mark\": \"bar\", \"encoding\": {\"color\": {\"type\": \"nominal\", \"field\": \"parent_category\"}, \"x\": {\"type\": \"nominal\", \"field\": \"parent/category\", \"sort\": [\"Q&A\", \"Notebook\", \"Meta\", \"JupyterLab\", \"Zero to JupyterHub on Kubernetes\", \"JupyterHub\", \"discuss\", \"Community Chat\", \"Binder\", \"discuss\"]}, \"y\": {\"type\": \"quantitative\", \"field\": \"bookmarked\"}}, \"height\": 300, \"title\": \"Activity by category\", \"width\": 700, \"$schema\": \"https://vega.github.io/schema/vega-lite/v3.3.0.json\", \"datasets\": {\"data-73fc2525720bcc340d8046f2b251889d\": [{\"category_id\": \"Q&A\", \"bookmarked\": 2, \"parent_category\": \"Q&A\", \"parent/category\": \"Q&A/Q&A\"}, {\"category_id\": \"Notebook\", \"bookmarked\": 1, \"parent_category\": \"Notebook\", \"parent/category\": \"Notebook/Notebook\"}, {\"category_id\": \"Meta\", \"bookmarked\": 2, \"parent_category\": \"Meta\", \"parent/category\": \"Meta/Meta\"}, {\"category_id\": \"JupyterLab\", \"bookmarked\": 7, \"parent_category\": \"JupyterLab\", \"parent/category\": \"JupyterLab/JupyterLab\"}, {\"category_id\": \"Zero to JupyterHub on Kubernetes\", \"bookmarked\": 0, \"parent_category\": \"JupyterHub\", \"parent/category\": \"JupyterHub/Zero to JupyterHub on Kubernetes\"}, {\"category_id\": \"JupyterHub\", \"bookmarked\": 0, \"parent_category\": \"JupyterHub\", \"parent/category\": \"JupyterHub/JupyterHub\"}, {\"category_id\": \"discuss\", \"bookmarked\": 0, \"parent_category\": \"JupyterHub\", \"parent/category\": \"JupyterHub/discuss\"}, {\"category_id\": \"Community Chat\", \"bookmarked\": 2, \"parent_category\": \"Community Chat\", \"parent/category\": \"Community Chat/Community Chat\"}, {\"category_id\": \"Binder\", \"bookmarked\": 1, \"parent_category\": \"Binder\", \"parent/category\": \"Binder/Binder\"}, {\"category_id\": \"discuss\", \"bookmarked\": 1, \"parent_category\": \"Binder\", \"parent/category\": \"Binder/discuss\"}]}};\n",
       "      var embedOpt = {\"mode\": \"vega-lite\"};\n",
       "\n",
       "      function showError(el, error){\n",
       "          el.innerHTML = ('<div class=\"error\" style=\"color:red;\">'\n",
       "                          + '<p>JavaScript Error: ' + error.message + '</p>'\n",
       "                          + \"<p>This usually means there's a typo in your chart specification. \"\n",
       "                          + \"See the javascript console for the full traceback.</p>\"\n",
       "                          + '</div>');\n",
       "          throw error;\n",
       "      }\n",
       "      const el = document.getElementById('altair-viz-2');\n",
       "      vegaEmbed(\"#altair-viz-2\", spec, embedOpt)\n",
       "        .catch(error => showError(el, error));\n",
       "    });\n",
       "\n",
       "  </script>"
      ],
      "text/plain": [
       "Chart({\n",
       "  data:                         category_id  bookmarked parent_category  \\\n",
       "  8                               Q&A           2             Q&A   \n",
       "  9                          Notebook           1        Notebook   \n",
       "  1                              Meta           2            Meta   \n",
       "  7                        JupyterLab           7      JupyterLab   \n",
       "  0  Zero to JupyterHub on Kubernetes           0      JupyterHub   \n",
       "  2                        JupyterHub           0      JupyterHub   \n",
       "  5                           discuss           0      JupyterHub   \n",
       "  3                    Community Chat           2  Community Chat   \n",
       "  4                            Binder           1          Binder   \n",
       "  6                           discuss           1          Binder   \n",
       "  \n",
       "                                 parent/category  \n",
       "  8                                      Q&A/Q&A  \n",
       "  9                            Notebook/Notebook  \n",
       "  1                                    Meta/Meta  \n",
       "  7                        JupyterLab/JupyterLab  \n",
       "  0  JupyterHub/Zero to JupyterHub on Kubernetes  \n",
       "  2                        JupyterHub/JupyterHub  \n",
       "  5                           JupyterHub/discuss  \n",
       "  3                Community Chat/Community Chat  \n",
       "  4                                Binder/Binder  \n",
       "  6                               Binder/discuss  ,\n",
       "  encoding: FacetedEncoding({\n",
       "    color: Color({\n",
       "      field: 'parent_category',\n",
       "      type: 'nominal'\n",
       "    }),\n",
       "    x: X({\n",
       "      field: 'parent/category',\n",
       "      sort: Sort(['Q&A', 'Notebook', 'Meta', 'JupyterLab', 'Zero to JupyterHub on Kubernetes', 'JupyterHub', 'discuss', 'Community Chat', 'Binder', 'discuss']),\n",
       "      type: 'nominal'\n",
       "    }),\n",
       "    y: Y({\n",
       "      field: 'bookmarked',\n",
       "      type: 'quantitative'\n",
       "    })\n",
       "  }),\n",
       "  height: 300,\n",
       "  mark: 'bar',\n",
       "  title: 'Activity by category',\n",
       "  width: 700\n",
       "})"
      ]
     },
     "execution_count": 13,
     "metadata": {},
     "output_type": "execute_result"
    }
   ],
   "source": [
    "counts = counts_from_activity(created)\n",
    "alt.Chart(data=counts, width=700, height=300, title=\"Activity by category\").mark_bar().encode(\n",
    "    x=alt.X(\"parent/category\", sort=alt.Sort(counts['category_id'].values.tolist())),\n",
    "    y=\"bookmarked\",\n",
    "    color=\"parent_category\"\n",
    ")"
   ]
  },
  {
   "cell_type": "markdown",
   "metadata": {
    "papermill": {
     "duration": 0.036009,
     "end_time": "2019-08-01T17:02:03.420666",
     "exception": false,
     "start_time": "2019-08-01T17:02:03.384657",
     "status": "completed"
    },
    "tags": []
   },
   "source": [
    "## User activity in the Community Forum\n",
    "\n",
    "**Top posters**\n",
    "\n",
    "These people have posted lots of comments, replies, answers, etc in the community forum."
   ]
  },
  {
   "cell_type": "code",
   "execution_count": 14,
   "metadata": {
    "papermill": {
     "duration": 0.048547,
     "end_time": "2019-08-01T17:02:03.516522",
     "exception": false,
     "start_time": "2019-08-01T17:02:03.467975",
     "status": "completed"
    },
    "tags": []
   },
   "outputs": [],
   "source": [
    "def plot_user_data(users, column, sort=False):\n",
    "    plt_data = users.sort_values(column, ascending=False).head(50)\n",
    "    x = alt.X(\"username\", sort=plt_data['username'].tolist()) if sort is True else 'username'\n",
    "    ch = alt.Chart(data=plt_data).mark_bar().encode(\n",
    "        x=x,\n",
    "        y=column\n",
    "    )\n",
    "    return ch"
   ]
  },
  {
   "cell_type": "code",
   "execution_count": 15,
   "metadata": {
    "papermill": {
     "duration": 0.106758,
     "end_time": "2019-08-01T17:02:03.658071",
     "exception": false,
     "start_time": "2019-08-01T17:02:03.551313",
     "status": "completed"
    },
    "tags": []
   },
   "outputs": [],
   "source": [
    "url = \"https://discourse.jupyter.org/directory_items.json\"\n",
    "params = {\"period\": \"quarterly\", \"order\": \"post_count\"}\n",
    "resp = requests.get(url, headers=api, params=params)\n",
    "\n",
    "# Topics with the most likes in recent history\n",
    "users = pd.DataFrame(resp.json()['directory_items'])\n",
    "users['username'] = users['user'].map(lambda a: a['username'])"
   ]
  },
  {
   "cell_type": "code",
   "execution_count": 16,
   "metadata": {
    "papermill": {
     "duration": 0.075971,
     "end_time": "2019-08-01T17:02:03.765652",
     "exception": false,
     "start_time": "2019-08-01T17:02:03.689681",
     "status": "completed"
    },
    "tags": []
   },
   "outputs": [
    {
     "data": {
      "text/html": [
       "\n",
       "  <style>\n",
       "    .vega-actions a {\n",
       "        margin-right: 12px;\n",
       "        color: #757575;\n",
       "        font-weight: normal;\n",
       "        font-size: 13px;\n",
       "    }\n",
       "    .error {\n",
       "        color: red;\n",
       "    }\n",
       "  </style>\n",
       "  <div id=\"altair-viz-3\"></div>\n",
       "  <script>\n",
       "    requirejs.config({\n",
       "        \"paths\": {\n",
       "            \"vega\": \"https://cdn.jsdelivr.net/npm//vega@5?noext\",\n",
       "            \"vega-lib\": \"https://cdn.jsdelivr.net/npm//vega-lib?noext\",\n",
       "            \"vega-lite\": \"https://cdn.jsdelivr.net/npm//vega-lite@3.3.0?noext\",\n",
       "            \"vega-embed\": \"https://cdn.jsdelivr.net/npm//vega-embed@4?noext\",\n",
       "        }\n",
       "    });\n",
       "    require(['vega-embed'], function(vegaEmbed){\n",
       "      var spec = {\"config\": {\"axisLeft\": {\"labelFontSize\": 15}, \"axisBottom\": {\"labelFontSize\": 15}}, \"data\": {\"name\": \"data-32e31a4c305c7290b286969ace141a89\"}, \"mark\": \"bar\", \"encoding\": {\"x\": {\"type\": \"nominal\", \"field\": \"username\"}, \"y\": {\"type\": \"quantitative\", \"field\": \"post_count\"}}, \"$schema\": \"https://vega.github.io/schema/vega-lite/v3.3.0.json\", \"datasets\": {\"data-32e31a4c305c7290b286969ace141a89\": [{\"days_visited\": 79, \"id\": 6, \"likes_given\": 207, \"likes_received\": 108, \"post_count\": 143, \"posts_read\": 1422, \"topic_count\": 11, \"topics_entered\": 333, \"user\": {\"id\": 6, \"username\": \"betatim\", \"name\": \"Tim Head\", \"avatar_template\": \"/user_avatar/discourse.jupyter.org/betatim/{size}/10_2.png\", \"title\": \"\"}, \"username\": \"betatim\"}, {\"days_visited\": 92, \"id\": 3, \"likes_given\": 207, \"likes_received\": 127, \"post_count\": 137, \"posts_read\": 968, \"topic_count\": 33, \"topics_entered\": 250, \"user\": {\"id\": 3, \"username\": \"choldgraf\", \"name\": \"Chris Holdgraf\", \"avatar_template\": \"/user_avatar/discourse.jupyter.org/choldgraf/{size}/12_2.png\", \"title\": \"Regular\"}, \"username\": \"choldgraf\"}, {\"days_visited\": 67, \"id\": 24, \"likes_given\": 16, \"likes_received\": 54, \"post_count\": 74, \"posts_read\": 670, \"topic_count\": 6, \"topics_entered\": 257, \"user\": {\"id\": 24, \"username\": \"psychemedia\", \"name\": \"Tony Hirst\", \"avatar_template\": \"/user_avatar/discourse.jupyter.org/psychemedia/{size}/24_2.png\", \"title\": null}, \"username\": \"psychemedia\"}, {\"days_visited\": 91, \"id\": 8, \"likes_given\": 12, \"likes_received\": 65, \"post_count\": 57, \"posts_read\": 807, \"topic_count\": 4, \"topics_entered\": 171, \"user\": {\"id\": 8, \"username\": \"minrk\", \"name\": \"Min RK\", \"avatar_template\": \"/user_avatar/discourse.jupyter.org/minrk/{size}/13_2.png\", \"title\": null}, \"username\": \"minrk\"}, {\"days_visited\": 60, \"id\": 12, \"likes_given\": 9, \"likes_received\": 43, \"post_count\": 46, \"posts_read\": 801, \"topic_count\": 7, \"topics_entered\": 144, \"user\": {\"id\": 12, \"username\": \"yuvipanda\", \"name\": \"Yuvi Panda\", \"avatar_template\": \"/user_avatar/discourse.jupyter.org/yuvipanda/{size}/17_2.png\", \"title\": null}, \"username\": \"yuvipanda\"}, {\"days_visited\": 80, \"id\": 116, \"likes_given\": 27, \"likes_received\": 58, \"post_count\": 45, \"posts_read\": 634, \"topic_count\": 5, \"topics_entered\": 127, \"user\": {\"id\": 116, \"username\": \"sgibson91\", \"name\": \"Sarah Gibson\", \"avatar_template\": \"/user_avatar/discourse.jupyter.org/sgibson91/{size}/487_2.png\", \"title\": \"\"}, \"username\": \"sgibson91\"}, {\"days_visited\": 20, \"id\": 220, \"likes_given\": 1, \"likes_received\": 29, \"post_count\": 37, \"posts_read\": 305, \"topic_count\": 1, \"topics_entered\": 69, \"user\": {\"id\": 220, \"username\": \"jasongrout\", \"name\": \"Jason Grout\", \"avatar_template\": \"/user_avatar/discourse.jupyter.org/jasongrout/{size}/371_2.png\", \"title\": null}, \"username\": \"jasongrout\"}, {\"days_visited\": 68, \"id\": 73, \"likes_given\": 16, \"likes_received\": 22, \"post_count\": 27, \"posts_read\": 1554, \"topic_count\": 2, \"topics_entered\": 336, \"user\": {\"id\": 73, \"username\": \"manics\", \"name\": \"Simon\", \"avatar_template\": \"/user_avatar/discourse.jupyter.org/manics/{size}/85_2.png\", \"title\": null}, \"username\": \"manics\"}, {\"days_visited\": 55, \"id\": 99, \"likes_given\": 37, \"likes_received\": 16, \"post_count\": 22, \"posts_read\": 505, \"topic_count\": 2, \"topics_entered\": 101, \"user\": {\"id\": 99, \"username\": \"Zsailer\", \"name\": \"Zachary Sailer\", \"avatar_template\": \"/user_avatar/discourse.jupyter.org/zsailer/{size}/106_2.png\", \"title\": null}, \"username\": \"Zsailer\"}, {\"days_visited\": 34, \"id\": 485, \"likes_given\": 47, \"likes_received\": 20, \"post_count\": 21, \"posts_read\": 268, \"topic_count\": 1, \"topics_entered\": 54, \"user\": {\"id\": 485, \"username\": \"rolweber\", \"name\": \"Roland Weber\", \"avatar_template\": \"/user_avatar/discourse.jupyter.org/rolweber/{size}/657_2.png\", \"title\": null}, \"username\": \"rolweber\"}, {\"days_visited\": 69, \"id\": 11, \"likes_given\": 64, \"likes_received\": 13, \"post_count\": 20, \"posts_read\": 911, \"topic_count\": 1, \"topics_entered\": 200, \"user\": {\"id\": 11, \"username\": \"fomightez\", \"name\": \"Wayne\", \"avatar_template\": \"/user_avatar/discourse.jupyter.org/fomightez/{size}/495_2.png\", \"title\": null}, \"username\": \"fomightez\"}, {\"days_visited\": 75, \"id\": 30, \"likes_given\": 67, \"likes_received\": 16, \"post_count\": 20, \"posts_read\": 292, \"topic_count\": 2, \"topics_entered\": 56, \"user\": {\"id\": 30, \"username\": \"consideRatio\", \"name\": \"Erik Sundell\", \"avatar_template\": \"/user_avatar/discourse.jupyter.org/consideratio/{size}/30_2.png\", \"title\": null}, \"username\": \"consideRatio\"}, {\"days_visited\": 40, \"id\": 217, \"likes_given\": 24, \"likes_received\": 4, \"post_count\": 17, \"posts_read\": 179, \"topic_count\": 0, \"topics_entered\": 37, \"user\": {\"id\": 217, \"username\": \"kevin-bates\", \"name\": \"Kevin Bates\", \"avatar_template\": \"/user_avatar/discourse.jupyter.org/kevin-bates/{size}/234_2.png\", \"title\": null}, \"username\": \"kevin-bates\"}, {\"days_visited\": 88, \"id\": 77, \"likes_given\": 8, \"likes_received\": 12, \"post_count\": 14, \"posts_read\": 784, \"topic_count\": 0, \"topics_entered\": 166, \"user\": {\"id\": 77, \"username\": \"jtp\", \"name\": \"Jeremy Tuloup\", \"avatar_template\": \"/user_avatar/discourse.jupyter.org/jtp/{size}/882_2.png\", \"title\": \"\"}, \"username\": \"jtp\"}, {\"days_visited\": 34, \"id\": 419, \"likes_given\": 0, \"likes_received\": 3, \"post_count\": 14, \"posts_read\": 78, \"topic_count\": 7, \"topics_entered\": 21, \"user\": {\"id\": 419, \"username\": \"alvinhuff\", \"name\": \"Alvin Huff\", \"avatar_template\": \"/user_avatar/discourse.jupyter.org/alvinhuff/{size}/550_2.png\", \"title\": null}, \"username\": \"alvinhuff\"}, {\"days_visited\": 20, \"id\": 234, \"likes_given\": 3, \"likes_received\": 11, \"post_count\": 12, \"posts_read\": 65, \"topic_count\": 3, \"topics_entered\": 7, \"user\": {\"id\": 234, \"username\": \"fmaussion\", \"name\": \"Fabien Maussion\", \"avatar_template\": \"/user_avatar/discourse.jupyter.org/fmaussion/{size}/390_2.png\", \"title\": null}, \"username\": \"fmaussion\"}, {\"days_visited\": 38, \"id\": 432, \"likes_given\": 30, \"likes_received\": 6, \"post_count\": 12, \"posts_read\": 283, \"topic_count\": 2, \"topics_entered\": 65, \"user\": {\"id\": 432, \"username\": \"ondrejj\", \"name\": \"Ond\\u0159ej \", \"avatar_template\": \"/user_avatar/discourse.jupyter.org/ondrejj/{size}/567_2.png\", \"title\": null}, \"username\": \"ondrejj\"}, {\"days_visited\": 28, \"id\": 60, \"likes_given\": 7, \"likes_received\": 8, \"post_count\": 11, \"posts_read\": 321, \"topic_count\": 0, \"topics_entered\": 42, \"user\": {\"id\": 60, \"username\": \"fm75\", \"name\": \"Fred Mitchell\", \"avatar_template\": \"/user_avatar/discourse.jupyter.org/fm75/{size}/71_2.png\", \"title\": \"\"}, \"username\": \"fm75\"}, {\"days_visited\": 44, \"id\": 222, \"likes_given\": 7, \"likes_received\": 18, \"post_count\": 11, \"posts_read\": 142, \"topic_count\": 2, \"topics_entered\": 16, \"user\": {\"id\": 222, \"username\": \"tgeorgeux\", \"name\": \"Timothy George\", \"avatar_template\": \"https://avatars.discourse.org/v4/letter/t/f05b48/{size}.png\", \"title\": null}, \"username\": \"tgeorgeux\"}, {\"days_visited\": 32, \"id\": 372, \"likes_given\": 6, \"likes_received\": 10, \"post_count\": 11, \"posts_read\": 165, \"topic_count\": 1, \"topics_entered\": 28, \"user\": {\"id\": 372, \"username\": \"davclark\", \"name\": \"Dav Clark\", \"avatar_template\": \"/user_avatar/discourse.jupyter.org/davclark/{size}/489_2.png\", \"title\": null}, \"username\": \"davclark\"}, {\"days_visited\": 9, \"id\": 679, \"likes_given\": 1, \"likes_received\": 10, \"post_count\": 9, \"posts_read\": 87, \"topic_count\": 0, \"topics_entered\": 18, \"user\": {\"id\": 679, \"username\": \"bollwyvl\", \"name\": \"Nicholas Bollweg\", \"avatar_template\": \"/user_avatar/discourse.jupyter.org/bollwyvl/{size}/904_2.png\", \"title\": null}, \"username\": \"bollwyvl\"}, {\"days_visited\": 25, \"id\": 34, \"likes_given\": 3, \"likes_received\": 16, \"post_count\": 9, \"posts_read\": 157, \"topic_count\": 3, \"topics_entered\": 16, \"user\": {\"id\": 34, \"username\": \"danielballan\", \"name\": \"Dan Allan\", \"avatar_template\": \"/user_avatar/discourse.jupyter.org/danielballan/{size}/34_2.png\", \"title\": null}, \"username\": \"danielballan\"}, {\"days_visited\": 13, \"id\": 566, \"likes_given\": 0, \"likes_received\": 1, \"post_count\": 8, \"posts_read\": 32, \"topic_count\": 2, \"topics_entered\": 9, \"user\": {\"id\": 566, \"username\": \"Shreyas_Cholia\", \"name\": \"Shreyas Cholia\", \"avatar_template\": \"/user_avatar/discourse.jupyter.org/shreyas_cholia/{size}/784_2.png\", \"title\": null}, \"username\": \"Shreyas_Cholia\"}, {\"days_visited\": 7, \"id\": 254, \"likes_given\": 9, \"likes_received\": 1, \"post_count\": 8, \"posts_read\": 92, \"topic_count\": 0, \"topics_entered\": 10, \"user\": {\"id\": 254, \"username\": \"mathematicalmichael\", \"name\": \"Michael Pilosov\", \"avatar_template\": \"/user_avatar/discourse.jupyter.org/mathematicalmichael/{size}/322_2.png\", \"title\": null}, \"username\": \"mathematicalmichael\"}, {\"days_visited\": 10, \"id\": 686, \"likes_given\": 0, \"likes_received\": 3, \"post_count\": 8, \"posts_read\": 92, \"topic_count\": 3, \"topics_entered\": 29, \"user\": {\"id\": 686, \"username\": \"sqqqrly\", \"name\": \"DAVID OHLEMACHER\", \"avatar_template\": \"https://avatars.discourse.org/v4/letter/s/22d042/{size}.png\", \"title\": null}, \"username\": \"sqqqrly\"}, {\"days_visited\": 8, \"id\": 556, \"likes_given\": 3, \"likes_received\": 7, \"post_count\": 8, \"posts_read\": 70, \"topic_count\": 0, \"topics_entered\": 12, \"user\": {\"id\": 556, \"username\": \"blink1073\", \"name\": \"Steven Silvester\", \"avatar_template\": \"/user_avatar/discourse.jupyter.org/blink1073/{size}/791_2.png\", \"title\": null}, \"username\": \"blink1073\"}, {\"days_visited\": 10, \"id\": 510, \"likes_given\": 0, \"likes_received\": 6, \"post_count\": 8, \"posts_read\": 10, \"topic_count\": 2, \"topics_entered\": 4, \"user\": {\"id\": 510, \"username\": \"lorankary\", \"name\": \"Lorankary\", \"avatar_template\": \"https://avatars.discourse.org/v4/letter/l/ac8455/{size}.png\", \"title\": null}, \"username\": \"lorankary\"}, {\"days_visited\": 14, \"id\": 487, \"likes_given\": 0, \"likes_received\": 0, \"post_count\": 7, \"posts_read\": 83, \"topic_count\": 4, \"topics_entered\": 25, \"user\": {\"id\": 487, \"username\": \"D4rkM4atter\", \"name\": \"\", \"avatar_template\": \"/user_avatar/discourse.jupyter.org/d4rkm4atter/{size}/663_2.png\", \"title\": null}, \"username\": \"D4rkM4atter\"}, {\"days_visited\": 18, \"id\": 462, \"likes_given\": 0, \"likes_received\": 1, \"post_count\": 7, \"posts_read\": 73, \"topic_count\": 3, \"topics_entered\": 13, \"user\": {\"id\": 462, \"username\": \"rahuldave\", \"name\": \"Rahul Dave\", \"avatar_template\": \"https://avatars.discourse.org/v4/letter/r/6f9a4e/{size}.png\", \"title\": null}, \"username\": \"rahuldave\"}, {\"days_visited\": 11, \"id\": 390, \"likes_given\": 1, \"likes_received\": 2, \"post_count\": 7, \"posts_read\": 37, \"topic_count\": 6, \"topics_entered\": 17, \"user\": {\"id\": 390, \"username\": \"ernstch\", \"name\": \"Ernst\", \"avatar_template\": \"https://avatars.discourse.org/v4/letter/e/9de0a6/{size}.png\", \"title\": null}, \"username\": \"ernstch\"}, {\"days_visited\": 53, \"id\": 239, \"likes_given\": 2, \"likes_received\": 6, \"post_count\": 7, \"posts_read\": 291, \"topic_count\": 0, \"topics_entered\": 91, \"user\": {\"id\": 239, \"username\": \"jhermann\", \"name\": \"J\\u00fcrgen Hermann\", \"avatar_template\": \"/user_avatar/discourse.jupyter.org/jhermann/{size}/257_2.png\", \"title\": null}, \"username\": \"jhermann\"}, {\"days_visited\": 61, \"id\": 303, \"likes_given\": 7, \"likes_received\": 3, \"post_count\": 7, \"posts_read\": 258, \"topic_count\": 1, \"topics_entered\": 62, \"user\": {\"id\": 303, \"username\": \"ian-r-rose\", \"name\": \"Ian Rose\", \"avatar_template\": \"/user_avatar/discourse.jupyter.org/ian-r-rose/{size}/638_2.png\", \"title\": null}, \"username\": \"ian-r-rose\"}, {\"days_visited\": 17, \"id\": 71, \"likes_given\": 1, \"likes_received\": 4, \"post_count\": 7, \"posts_read\": 111, \"topic_count\": 1, \"topics_entered\": 11, \"user\": {\"id\": 71, \"username\": \"nuest\", \"name\": \"Daniel N\\u00fcst\", \"avatar_template\": \"/user_avatar/discourse.jupyter.org/nuest/{size}/82_2.png\", \"title\": null}, \"username\": \"nuest\"}, {\"days_visited\": 26, \"id\": 268, \"likes_given\": 5, \"likes_received\": 12, \"post_count\": 7, \"posts_read\": 107, \"topic_count\": 3, \"topics_entered\": 21, \"user\": {\"id\": 268, \"username\": \"afshin\", \"name\": \"A. T. Darian\", \"avatar_template\": \"/user_avatar/discourse.jupyter.org/afshin/{size}/314_2.png\", \"title\": null}, \"username\": \"afshin\"}, {\"days_visited\": 13, \"id\": 227, \"likes_given\": 7, \"likes_received\": 2, \"post_count\": 6, \"posts_read\": 176, \"topic_count\": 0, \"topics_entered\": 28, \"user\": {\"id\": 227, \"username\": \"sterlinm\", \"name\": \"Michael\", \"avatar_template\": \"/user_avatar/discourse.jupyter.org/sterlinm/{size}/241_2.png\", \"title\": null}, \"username\": \"sterlinm\"}, {\"days_visited\": 23, \"id\": 7, \"likes_given\": 20, \"likes_received\": 8, \"post_count\": 6, \"posts_read\": 224, \"topic_count\": 0, \"topics_entered\": 30, \"user\": {\"id\": 7, \"username\": \"willingc\", \"name\": \"Carol Willing\", \"avatar_template\": \"/user_avatar/discourse.jupyter.org/willingc/{size}/11_2.png\", \"title\": null}, \"username\": \"willingc\"}, {\"days_visited\": 18, \"id\": 9, \"likes_given\": 0, \"likes_received\": 7, \"post_count\": 6, \"posts_read\": 62, \"topic_count\": 0, \"topics_entered\": 12, \"user\": {\"id\": 9, \"username\": \"ellisonbg\", \"name\": \"Brian Granger\", \"avatar_template\": \"/user_avatar/discourse.jupyter.org/ellisonbg/{size}/14_2.png\", \"title\": null}, \"username\": \"ellisonbg\"}, {\"days_visited\": 15, \"id\": 237, \"likes_given\": 1, \"likes_received\": 18, \"post_count\": 6, \"posts_read\": 51, \"topic_count\": 2, \"topics_entered\": 10, \"user\": {\"id\": 237, \"username\": \"MSeal\", \"name\": \"Matthew Seal\", \"avatar_template\": \"/user_avatar/discourse.jupyter.org/mseal/{size}/253_2.png\", \"title\": null}, \"username\": \"MSeal\"}, {\"days_visited\": 10, \"id\": 145, \"likes_given\": 0, \"likes_received\": 7, \"post_count\": 6, \"posts_read\": 41, \"topic_count\": 3, \"topics_entered\": 9, \"user\": {\"id\": 145, \"username\": \"hhuuggoo\", \"name\": \"saturncloud.io\", \"avatar_template\": \"/user_avatar/discourse.jupyter.org/hhuuggoo/{size}/242_2.png\", \"title\": \"\"}, \"username\": \"hhuuggoo\"}, {\"days_visited\": 19, \"id\": 333, \"likes_given\": 2, \"likes_received\": 0, \"post_count\": 6, \"posts_read\": 33, \"topic_count\": 0, \"topics_entered\": 1, \"user\": {\"id\": 333, \"username\": \"cmbui\", \"name\": \"Christina\", \"avatar_template\": \"/user_avatar/discourse.jupyter.org/cmbui/{size}/436_2.png\", \"title\": null}, \"username\": \"cmbui\"}, {\"days_visited\": 6, \"id\": 565, \"likes_given\": 3, \"likes_received\": 5, \"post_count\": 6, \"posts_read\": 35, \"topic_count\": 0, \"topics_entered\": 4, \"user\": {\"id\": 565, \"username\": \"danielskatz\", \"name\": \"Daniel S. Katz\", \"avatar_template\": \"/user_avatar/discourse.jupyter.org/danielskatz/{size}/785_2.png\", \"title\": null}, \"username\": \"danielskatz\"}, {\"days_visited\": 7, \"id\": 640, \"likes_given\": 0, \"likes_received\": 0, \"post_count\": 6, \"posts_read\": 23, \"topic_count\": 1, \"topics_entered\": 6, \"user\": {\"id\": 640, \"username\": \"Stefano_Fioravanzo\", \"name\": \"Stefano Fioravanzo\", \"avatar_template\": \"/user_avatar/discourse.jupyter.org/stefano_fioravanzo/{size}/849_2.png\", \"title\": null}, \"username\": \"Stefano_Fioravanzo\"}, {\"days_visited\": 10, \"id\": 195, \"likes_given\": 0, \"likes_received\": 1, \"post_count\": 6, \"posts_read\": 34, \"topic_count\": 0, \"topics_entered\": 8, \"user\": {\"id\": 195, \"username\": \"rcthomas\", \"name\": \"\", \"avatar_template\": \"/user_avatar/discourse.jupyter.org/rcthomas/{size}/201_2.png\", \"title\": null}, \"username\": \"rcthomas\"}, {\"days_visited\": 8, \"id\": 562, \"likes_given\": 0, \"likes_received\": 0, \"post_count\": 5, \"posts_read\": 25, \"topic_count\": 0, \"topics_entered\": 4, \"user\": {\"id\": 562, \"username\": \"Shane_Canon\", \"name\": \"Shane Canon\", \"avatar_template\": \"/user_avatar/discourse.jupyter.org/shane_canon/{size}/783_2.png\", \"title\": null}, \"username\": \"Shane_Canon\"}, {\"days_visited\": 10, \"id\": 351, \"likes_given\": 0, \"likes_received\": 6, \"post_count\": 5, \"posts_read\": 53, \"topic_count\": 1, \"topics_entered\": 12, \"user\": {\"id\": 351, \"username\": \"henchc\", \"name\": \"Christopher Hench\", \"avatar_template\": \"/user_avatar/discourse.jupyter.org/henchc/{size}/452_2.png\", \"title\": null}, \"username\": \"henchc\"}, {\"days_visited\": 11, \"id\": 590, \"likes_given\": 0, \"likes_received\": 2, \"post_count\": 5, \"posts_read\": 48, \"topic_count\": 1, \"topics_entered\": 8, \"user\": {\"id\": 590, \"username\": \"nscozzaro\", \"name\": \"Nicolas Scozzaro\", \"avatar_template\": \"/user_avatar/discourse.jupyter.org/nscozzaro/{size}/804_2.png\", \"title\": null}, \"username\": \"nscozzaro\"}, {\"days_visited\": 12, \"id\": 430, \"likes_given\": 2, \"likes_received\": 3, \"post_count\": 5, \"posts_read\": 42, \"topic_count\": 1, \"topics_entered\": 15, \"user\": {\"id\": 430, \"username\": \"rokroskar\", \"name\": \"Rok Ro\\u0161kar\", \"avatar_template\": \"/user_avatar/discourse.jupyter.org/rokroskar/{size}/563_2.png\", \"title\": null}, \"username\": \"rokroskar\"}, {\"days_visited\": 12, \"id\": 352, \"likes_given\": 0, \"likes_received\": 7, \"post_count\": 5, \"posts_read\": 50, \"topic_count\": 0, \"topics_entered\": 3, \"user\": {\"id\": 352, \"username\": \"jhornig\", \"name\": \"Joseph Hornig\", \"avatar_template\": \"/user_avatar/discourse.jupyter.org/jhornig/{size}/453_2.png\", \"title\": null}, \"username\": \"jhornig\"}, {\"days_visited\": 17, \"id\": 141, \"likes_given\": 20, \"likes_received\": 7, \"post_count\": 5, \"posts_read\": 138, \"topic_count\": 1, \"topics_entered\": 21, \"user\": {\"id\": 141, \"username\": \"saulshanabrook\", \"name\": \"Saul Shanabrook\", \"avatar_template\": \"/user_avatar/discourse.jupyter.org/saulshanabrook/{size}/159_2.png\", \"title\": null}, \"username\": \"saulshanabrook\"}, {\"days_visited\": 6, \"id\": 699, \"likes_given\": 0, \"likes_received\": 1, \"post_count\": 5, \"posts_read\": 39, \"topic_count\": 5, \"topics_entered\": 14, \"user\": {\"id\": 699, \"username\": \"josh\", \"name\": null, \"avatar_template\": \"https://avatars.discourse.org/v4/letter/j/45deac/{size}.png\", \"title\": null}, \"username\": \"josh\"}]}};\n",
       "      var embedOpt = {\"mode\": \"vega-lite\"};\n",
       "\n",
       "      function showError(el, error){\n",
       "          el.innerHTML = ('<div class=\"error\" style=\"color:red;\">'\n",
       "                          + '<p>JavaScript Error: ' + error.message + '</p>'\n",
       "                          + \"<p>This usually means there's a typo in your chart specification. \"\n",
       "                          + \"See the javascript console for the full traceback.</p>\"\n",
       "                          + '</div>');\n",
       "          throw error;\n",
       "      }\n",
       "      const el = document.getElementById('altair-viz-3');\n",
       "      vegaEmbed(\"#altair-viz-3\", spec, embedOpt)\n",
       "        .catch(error => showError(el, error));\n",
       "    });\n",
       "\n",
       "  </script>"
      ],
      "text/plain": [
       "Chart({\n",
       "  data:     days_visited   id  likes_given  likes_received  post_count  posts_read  \\\n",
       "  0             79    6          207             108         143        1422   \n",
       "  1             92    3          207             127         137         968   \n",
       "  2             67   24           16              54          74         670   \n",
       "  3             91    8           12              65          57         807   \n",
       "  4             60   12            9              43          46         801   \n",
       "  5             80  116           27              58          45         634   \n",
       "  6             20  220            1              29          37         305   \n",
       "  7             68   73           16              22          27        1554   \n",
       "  8             55   99           37              16          22         505   \n",
       "  9             34  485           47              20          21         268   \n",
       "  10            69   11           64              13          20         911   \n",
       "  11            75   30           67              16          20         292   \n",
       "  12            40  217           24               4          17         179   \n",
       "  14            88   77            8              12          14         784   \n",
       "  13            34  419            0               3          14          78   \n",
       "  15            20  234            3              11          12          65   \n",
       "  16            38  432           30               6          12         283   \n",
       "  17            28   60            7               8          11         321   \n",
       "  18            44  222            7              18          11         142   \n",
       "  19            32  372            6              10          11         165   \n",
       "  20             9  679            1              10           9          87   \n",
       "  21            25   34            3              16           9         157   \n",
       "  24            13  566            0               1           8          32   \n",
       "  26             7  254            9               1           8          92   \n",
       "  25            10  686            0               3           8          92   \n",
       "  23             8  556            3               7           8          70   \n",
       "  22            10  510            0               6           8          10   \n",
       "  27            14  487            0               0           7          83   \n",
       "  28            18  462            0               1           7          73   \n",
       "  29            11  390            1               2           7          37   \n",
       "  30            53  239            2               6           7         291   \n",
       "  31            61  303            7               3           7         258   \n",
       "  32            17   71            1               4           7         111   \n",
       "  33            26  268            5              12           7         107   \n",
       "  39            13  227            7               2           6         176   \n",
       "  42            23    7           20               8           6         224   \n",
       "  41            18    9            0               7           6          62   \n",
       "  40            15  237            1              18           6          51   \n",
       "  37            10  145            0               7           6          41   \n",
       "  38            19  333            2               0           6          33   \n",
       "  36             6  565            3               5           6          35   \n",
       "  35             7  640            0               0           6          23   \n",
       "  34            10  195            0               1           6          34   \n",
       "  43             8  562            0               0           5          25   \n",
       "  44            10  351            0               6           5          53   \n",
       "  45            11  590            0               2           5          48   \n",
       "  46            12  430            2               3           5          42   \n",
       "  47            12  352            0               7           5          50   \n",
       "  48            17  141           20               7           5         138   \n",
       "  49             6  699            0               1           5          39   \n",
       "  \n",
       "      topic_count  topics_entered  \\\n",
       "  0            11             333   \n",
       "  1            33             250   \n",
       "  2             6             257   \n",
       "  3             4             171   \n",
       "  4             7             144   \n",
       "  5             5             127   \n",
       "  6             1              69   \n",
       "  7             2             336   \n",
       "  8             2             101   \n",
       "  9             1              54   \n",
       "  10            1             200   \n",
       "  11            2              56   \n",
       "  12            0              37   \n",
       "  14            0             166   \n",
       "  13            7              21   \n",
       "  15            3               7   \n",
       "  16            2              65   \n",
       "  17            0              42   \n",
       "  18            2              16   \n",
       "  19            1              28   \n",
       "  20            0              18   \n",
       "  21            3              16   \n",
       "  24            2               9   \n",
       "  26            0              10   \n",
       "  25            3              29   \n",
       "  23            0              12   \n",
       "  22            2               4   \n",
       "  27            4              25   \n",
       "  28            3              13   \n",
       "  29            6              17   \n",
       "  30            0              91   \n",
       "  31            1              62   \n",
       "  32            1              11   \n",
       "  33            3              21   \n",
       "  39            0              28   \n",
       "  42            0              30   \n",
       "  41            0              12   \n",
       "  40            2              10   \n",
       "  37            3               9   \n",
       "  38            0               1   \n",
       "  36            0               4   \n",
       "  35            1               6   \n",
       "  34            0               8   \n",
       "  43            0               4   \n",
       "  44            1              12   \n",
       "  45            1               8   \n",
       "  46            1              15   \n",
       "  47            0               3   \n",
       "  48            1              21   \n",
       "  49            5              14   \n",
       "  \n",
       "                                                   user             username  \n",
       "  0   {'id': 6, 'username': 'betatim', 'name': 'Tim ...              betatim  \n",
       "  1   {'id': 3, 'username': 'choldgraf', 'name': 'Ch...            choldgraf  \n",
       "  2   {'id': 24, 'username': 'psychemedia', 'name': ...          psychemedia  \n",
       "  3   {'id': 8, 'username': 'minrk', 'name': 'Min RK...                minrk  \n",
       "  4   {'id': 12, 'username': 'yuvipanda', 'name': 'Y...            yuvipanda  \n",
       "  5   {'id': 116, 'username': 'sgibson91', 'name': '...            sgibson91  \n",
       "  6   {'id': 220, 'username': 'jasongrout', 'name': ...           jasongrout  \n",
       "  7   {'id': 73, 'username': 'manics', 'name': 'Simo...               manics  \n",
       "  8   {'id': 99, 'username': 'Zsailer', 'name': 'Zac...              Zsailer  \n",
       "  9   {'id': 485, 'username': 'rolweber', 'name': 'R...             rolweber  \n",
       "  10  {'id': 11, 'username': 'fomightez', 'name': 'W...            fomightez  \n",
       "  11  {'id': 30, 'username': 'consideRatio', 'name':...         consideRatio  \n",
       "  12  {'id': 217, 'username': 'kevin-bates', 'name':...          kevin-bates  \n",
       "  14  {'id': 77, 'username': 'jtp', 'name': 'Jeremy ...                  jtp  \n",
       "  13  {'id': 419, 'username': 'alvinhuff', 'name': '...            alvinhuff  \n",
       "  15  {'id': 234, 'username': 'fmaussion', 'name': '...            fmaussion  \n",
       "  16  {'id': 432, 'username': 'ondrejj', 'name': 'On...              ondrejj  \n",
       "  17  {'id': 60, 'username': 'fm75', 'name': 'Fred M...                 fm75  \n",
       "  18  {'id': 222, 'username': 'tgeorgeux', 'name': '...            tgeorgeux  \n",
       "  19  {'id': 372, 'username': 'davclark', 'name': 'D...             davclark  \n",
       "  20  {'id': 679, 'username': 'bollwyvl', 'name': 'N...             bollwyvl  \n",
       "  21  {'id': 34, 'username': 'danielballan', 'name':...         danielballan  \n",
       "  24  {'id': 566, 'username': 'Shreyas_Cholia', 'nam...       Shreyas_Cholia  \n",
       "  26  {'id': 254, 'username': 'mathematicalmichael',...  mathematicalmichael  \n",
       "  25  {'id': 686, 'username': 'sqqqrly', 'name': 'DA...              sqqqrly  \n",
       "  23  {'id': 556, 'username': 'blink1073', 'name': '...            blink1073  \n",
       "  22  {'id': 510, 'username': 'lorankary', 'name': '...            lorankary  \n",
       "  27  {'id': 487, 'username': 'D4rkM4atter', 'name':...          D4rkM4atter  \n",
       "  28  {'id': 462, 'username': 'rahuldave', 'name': '...            rahuldave  \n",
       "  29  {'id': 390, 'username': 'ernstch', 'name': 'Er...              ernstch  \n",
       "  30  {'id': 239, 'username': 'jhermann', 'name': 'J...             jhermann  \n",
       "  31  {'id': 303, 'username': 'ian-r-rose', 'name': ...           ian-r-rose  \n",
       "  32  {'id': 71, 'username': 'nuest', 'name': 'Danie...                nuest  \n",
       "  33  {'id': 268, 'username': 'afshin', 'name': 'A. ...               afshin  \n",
       "  39  {'id': 227, 'username': 'sterlinm', 'name': 'M...             sterlinm  \n",
       "  42  {'id': 7, 'username': 'willingc', 'name': 'Car...             willingc  \n",
       "  41  {'id': 9, 'username': 'ellisonbg', 'name': 'Br...            ellisonbg  \n",
       "  40  {'id': 237, 'username': 'MSeal', 'name': 'Matt...                MSeal  \n",
       "  37  {'id': 145, 'username': 'hhuuggoo', 'name': 's...             hhuuggoo  \n",
       "  38  {'id': 333, 'username': 'cmbui', 'name': 'Chri...                cmbui  \n",
       "  36  {'id': 565, 'username': 'danielskatz', 'name':...          danielskatz  \n",
       "  35  {'id': 640, 'username': 'Stefano_Fioravanzo', ...   Stefano_Fioravanzo  \n",
       "  34  {'id': 195, 'username': 'rcthomas', 'name': ''...             rcthomas  \n",
       "  43  {'id': 562, 'username': 'Shane_Canon', 'name':...          Shane_Canon  \n",
       "  44  {'id': 351, 'username': 'henchc', 'name': 'Chr...               henchc  \n",
       "  45  {'id': 590, 'username': 'nscozzaro', 'name': '...            nscozzaro  \n",
       "  46  {'id': 430, 'username': 'rokroskar', 'name': '...            rokroskar  \n",
       "  47  {'id': 352, 'username': 'jhornig', 'name': 'Jo...              jhornig  \n",
       "  48  {'id': 141, 'username': 'saulshanabrook', 'nam...       saulshanabrook  \n",
       "  49  {'id': 699, 'username': 'josh', 'name': None, ...                 josh  ,\n",
       "  encoding: FacetedEncoding({\n",
       "    x: X({\n",
       "      field: 'username',\n",
       "      type: 'nominal'\n",
       "    }),\n",
       "    y: Y({\n",
       "      field: 'post_count',\n",
       "      type: 'quantitative'\n",
       "    })\n",
       "  }),\n",
       "  mark: 'bar'\n",
       "})"
      ]
     },
     "execution_count": 16,
     "metadata": {},
     "output_type": "execute_result"
    }
   ],
   "source": [
    "plot_user_data(users.head(50), 'post_count')"
   ]
  },
  {
   "cell_type": "markdown",
   "metadata": {
    "papermill": {
     "duration": 0.039841,
     "end_time": "2019-08-01T17:02:03.849121",
     "exception": false,
     "start_time": "2019-08-01T17:02:03.809280",
     "status": "completed"
    },
    "tags": []
   },
   "source": [
    "**Forum users, sorted by likes given**\n",
    "\n",
    "These are Community Forum members that \"liked\" other people's posts. We appreciate\n",
    "anybody taking the time to tell someone else they like what they're shared!"
   ]
  },
  {
   "cell_type": "code",
   "execution_count": 17,
   "metadata": {
    "papermill": {
     "duration": 0.076092,
     "end_time": "2019-08-01T17:02:03.968710",
     "exception": false,
     "start_time": "2019-08-01T17:02:03.892618",
     "status": "completed"
    },
    "tags": []
   },
   "outputs": [
    {
     "data": {
      "text/html": [
       "\n",
       "  <style>\n",
       "    .vega-actions a {\n",
       "        margin-right: 12px;\n",
       "        color: #757575;\n",
       "        font-weight: normal;\n",
       "        font-size: 13px;\n",
       "    }\n",
       "    .error {\n",
       "        color: red;\n",
       "    }\n",
       "  </style>\n",
       "  <div id=\"altair-viz-4\"></div>\n",
       "  <script>\n",
       "    requirejs.config({\n",
       "        \"paths\": {\n",
       "            \"vega\": \"https://cdn.jsdelivr.net/npm//vega@5?noext\",\n",
       "            \"vega-lib\": \"https://cdn.jsdelivr.net/npm//vega-lib?noext\",\n",
       "            \"vega-lite\": \"https://cdn.jsdelivr.net/npm//vega-lite@3.3.0?noext\",\n",
       "            \"vega-embed\": \"https://cdn.jsdelivr.net/npm//vega-embed@4?noext\",\n",
       "        }\n",
       "    });\n",
       "    require(['vega-embed'], function(vegaEmbed){\n",
       "      var spec = {\"config\": {\"axisLeft\": {\"labelFontSize\": 15}, \"axisBottom\": {\"labelFontSize\": 15}}, \"data\": {\"name\": \"data-65db43f3b7ebea62cae56fe636789cc2\"}, \"mark\": \"bar\", \"encoding\": {\"x\": {\"type\": \"nominal\", \"field\": \"username\"}, \"y\": {\"type\": \"quantitative\", \"field\": \"likes_given\"}}, \"$schema\": \"https://vega.github.io/schema/vega-lite/v3.3.0.json\", \"datasets\": {\"data-65db43f3b7ebea62cae56fe636789cc2\": [{\"days_visited\": 79, \"id\": 6, \"likes_given\": 207, \"likes_received\": 108, \"post_count\": 143, \"posts_read\": 1422, \"topic_count\": 11, \"topics_entered\": 333, \"user\": {\"id\": 6, \"username\": \"betatim\", \"name\": \"Tim Head\", \"avatar_template\": \"/user_avatar/discourse.jupyter.org/betatim/{size}/10_2.png\", \"title\": \"\"}, \"username\": \"betatim\"}, {\"days_visited\": 92, \"id\": 3, \"likes_given\": 207, \"likes_received\": 127, \"post_count\": 137, \"posts_read\": 968, \"topic_count\": 33, \"topics_entered\": 250, \"user\": {\"id\": 3, \"username\": \"choldgraf\", \"name\": \"Chris Holdgraf\", \"avatar_template\": \"/user_avatar/discourse.jupyter.org/choldgraf/{size}/12_2.png\", \"title\": \"Regular\"}, \"username\": \"choldgraf\"}, {\"days_visited\": 75, \"id\": 30, \"likes_given\": 67, \"likes_received\": 16, \"post_count\": 20, \"posts_read\": 292, \"topic_count\": 2, \"topics_entered\": 56, \"user\": {\"id\": 30, \"username\": \"consideRatio\", \"name\": \"Erik Sundell\", \"avatar_template\": \"/user_avatar/discourse.jupyter.org/consideratio/{size}/30_2.png\", \"title\": null}, \"username\": \"consideRatio\"}, {\"days_visited\": 69, \"id\": 11, \"likes_given\": 64, \"likes_received\": 13, \"post_count\": 20, \"posts_read\": 911, \"topic_count\": 1, \"topics_entered\": 200, \"user\": {\"id\": 11, \"username\": \"fomightez\", \"name\": \"Wayne\", \"avatar_template\": \"/user_avatar/discourse.jupyter.org/fomightez/{size}/495_2.png\", \"title\": null}, \"username\": \"fomightez\"}, {\"days_visited\": 34, \"id\": 485, \"likes_given\": 47, \"likes_received\": 20, \"post_count\": 21, \"posts_read\": 268, \"topic_count\": 1, \"topics_entered\": 54, \"user\": {\"id\": 485, \"username\": \"rolweber\", \"name\": \"Roland Weber\", \"avatar_template\": \"/user_avatar/discourse.jupyter.org/rolweber/{size}/657_2.png\", \"title\": null}, \"username\": \"rolweber\"}, {\"days_visited\": 55, \"id\": 99, \"likes_given\": 37, \"likes_received\": 16, \"post_count\": 22, \"posts_read\": 505, \"topic_count\": 2, \"topics_entered\": 101, \"user\": {\"id\": 99, \"username\": \"Zsailer\", \"name\": \"Zachary Sailer\", \"avatar_template\": \"/user_avatar/discourse.jupyter.org/zsailer/{size}/106_2.png\", \"title\": null}, \"username\": \"Zsailer\"}, {\"days_visited\": 38, \"id\": 432, \"likes_given\": 30, \"likes_received\": 6, \"post_count\": 12, \"posts_read\": 283, \"topic_count\": 2, \"topics_entered\": 65, \"user\": {\"id\": 432, \"username\": \"ondrejj\", \"name\": \"Ond\\u0159ej \", \"avatar_template\": \"/user_avatar/discourse.jupyter.org/ondrejj/{size}/567_2.png\", \"title\": null}, \"username\": \"ondrejj\"}, {\"days_visited\": 80, \"id\": 116, \"likes_given\": 27, \"likes_received\": 58, \"post_count\": 45, \"posts_read\": 634, \"topic_count\": 5, \"topics_entered\": 127, \"user\": {\"id\": 116, \"username\": \"sgibson91\", \"name\": \"Sarah Gibson\", \"avatar_template\": \"/user_avatar/discourse.jupyter.org/sgibson91/{size}/487_2.png\", \"title\": \"\"}, \"username\": \"sgibson91\"}, {\"days_visited\": 40, \"id\": 217, \"likes_given\": 24, \"likes_received\": 4, \"post_count\": 17, \"posts_read\": 179, \"topic_count\": 0, \"topics_entered\": 37, \"user\": {\"id\": 217, \"username\": \"kevin-bates\", \"name\": \"Kevin Bates\", \"avatar_template\": \"/user_avatar/discourse.jupyter.org/kevin-bates/{size}/234_2.png\", \"title\": null}, \"username\": \"kevin-bates\"}, {\"days_visited\": 23, \"id\": 7, \"likes_given\": 20, \"likes_received\": 8, \"post_count\": 6, \"posts_read\": 224, \"topic_count\": 0, \"topics_entered\": 30, \"user\": {\"id\": 7, \"username\": \"willingc\", \"name\": \"Carol Willing\", \"avatar_template\": \"/user_avatar/discourse.jupyter.org/willingc/{size}/11_2.png\", \"title\": null}, \"username\": \"willingc\"}, {\"days_visited\": 17, \"id\": 141, \"likes_given\": 20, \"likes_received\": 7, \"post_count\": 5, \"posts_read\": 138, \"topic_count\": 1, \"topics_entered\": 21, \"user\": {\"id\": 141, \"username\": \"saulshanabrook\", \"name\": \"Saul Shanabrook\", \"avatar_template\": \"/user_avatar/discourse.jupyter.org/saulshanabrook/{size}/159_2.png\", \"title\": null}, \"username\": \"saulshanabrook\"}, {\"days_visited\": 68, \"id\": 73, \"likes_given\": 16, \"likes_received\": 22, \"post_count\": 27, \"posts_read\": 1554, \"topic_count\": 2, \"topics_entered\": 336, \"user\": {\"id\": 73, \"username\": \"manics\", \"name\": \"Simon\", \"avatar_template\": \"/user_avatar/discourse.jupyter.org/manics/{size}/85_2.png\", \"title\": null}, \"username\": \"manics\"}, {\"days_visited\": 67, \"id\": 24, \"likes_given\": 16, \"likes_received\": 54, \"post_count\": 74, \"posts_read\": 670, \"topic_count\": 6, \"topics_entered\": 257, \"user\": {\"id\": 24, \"username\": \"psychemedia\", \"name\": \"Tony Hirst\", \"avatar_template\": \"/user_avatar/discourse.jupyter.org/psychemedia/{size}/24_2.png\", \"title\": null}, \"username\": \"psychemedia\"}, {\"days_visited\": 91, \"id\": 8, \"likes_given\": 12, \"likes_received\": 65, \"post_count\": 57, \"posts_read\": 807, \"topic_count\": 4, \"topics_entered\": 171, \"user\": {\"id\": 8, \"username\": \"minrk\", \"name\": \"Min RK\", \"avatar_template\": \"/user_avatar/discourse.jupyter.org/minrk/{size}/13_2.png\", \"title\": null}, \"username\": \"minrk\"}, {\"days_visited\": 60, \"id\": 12, \"likes_given\": 9, \"likes_received\": 43, \"post_count\": 46, \"posts_read\": 801, \"topic_count\": 7, \"topics_entered\": 144, \"user\": {\"id\": 12, \"username\": \"yuvipanda\", \"name\": \"Yuvi Panda\", \"avatar_template\": \"/user_avatar/discourse.jupyter.org/yuvipanda/{size}/17_2.png\", \"title\": null}, \"username\": \"yuvipanda\"}, {\"days_visited\": 7, \"id\": 254, \"likes_given\": 9, \"likes_received\": 1, \"post_count\": 8, \"posts_read\": 92, \"topic_count\": 0, \"topics_entered\": 10, \"user\": {\"id\": 254, \"username\": \"mathematicalmichael\", \"name\": \"Michael Pilosov\", \"avatar_template\": \"/user_avatar/discourse.jupyter.org/mathematicalmichael/{size}/322_2.png\", \"title\": null}, \"username\": \"mathematicalmichael\"}, {\"days_visited\": 88, \"id\": 77, \"likes_given\": 8, \"likes_received\": 12, \"post_count\": 14, \"posts_read\": 784, \"topic_count\": 0, \"topics_entered\": 166, \"user\": {\"id\": 77, \"username\": \"jtp\", \"name\": \"Jeremy Tuloup\", \"avatar_template\": \"/user_avatar/discourse.jupyter.org/jtp/{size}/882_2.png\", \"title\": \"\"}, \"username\": \"jtp\"}, {\"days_visited\": 61, \"id\": 303, \"likes_given\": 7, \"likes_received\": 3, \"post_count\": 7, \"posts_read\": 258, \"topic_count\": 1, \"topics_entered\": 62, \"user\": {\"id\": 303, \"username\": \"ian-r-rose\", \"name\": \"Ian Rose\", \"avatar_template\": \"/user_avatar/discourse.jupyter.org/ian-r-rose/{size}/638_2.png\", \"title\": null}, \"username\": \"ian-r-rose\"}, {\"days_visited\": 13, \"id\": 227, \"likes_given\": 7, \"likes_received\": 2, \"post_count\": 6, \"posts_read\": 176, \"topic_count\": 0, \"topics_entered\": 28, \"user\": {\"id\": 227, \"username\": \"sterlinm\", \"name\": \"Michael\", \"avatar_template\": \"/user_avatar/discourse.jupyter.org/sterlinm/{size}/241_2.png\", \"title\": null}, \"username\": \"sterlinm\"}, {\"days_visited\": 44, \"id\": 222, \"likes_given\": 7, \"likes_received\": 18, \"post_count\": 11, \"posts_read\": 142, \"topic_count\": 2, \"topics_entered\": 16, \"user\": {\"id\": 222, \"username\": \"tgeorgeux\", \"name\": \"Timothy George\", \"avatar_template\": \"https://avatars.discourse.org/v4/letter/t/f05b48/{size}.png\", \"title\": null}, \"username\": \"tgeorgeux\"}, {\"days_visited\": 28, \"id\": 60, \"likes_given\": 7, \"likes_received\": 8, \"post_count\": 11, \"posts_read\": 321, \"topic_count\": 0, \"topics_entered\": 42, \"user\": {\"id\": 60, \"username\": \"fm75\", \"name\": \"Fred Mitchell\", \"avatar_template\": \"/user_avatar/discourse.jupyter.org/fm75/{size}/71_2.png\", \"title\": \"\"}, \"username\": \"fm75\"}, {\"days_visited\": 32, \"id\": 372, \"likes_given\": 6, \"likes_received\": 10, \"post_count\": 11, \"posts_read\": 165, \"topic_count\": 1, \"topics_entered\": 28, \"user\": {\"id\": 372, \"username\": \"davclark\", \"name\": \"Dav Clark\", \"avatar_template\": \"/user_avatar/discourse.jupyter.org/davclark/{size}/489_2.png\", \"title\": null}, \"username\": \"davclark\"}, {\"days_visited\": 26, \"id\": 268, \"likes_given\": 5, \"likes_received\": 12, \"post_count\": 7, \"posts_read\": 107, \"topic_count\": 3, \"topics_entered\": 21, \"user\": {\"id\": 268, \"username\": \"afshin\", \"name\": \"A. T. Darian\", \"avatar_template\": \"/user_avatar/discourse.jupyter.org/afshin/{size}/314_2.png\", \"title\": null}, \"username\": \"afshin\"}, {\"days_visited\": 25, \"id\": 34, \"likes_given\": 3, \"likes_received\": 16, \"post_count\": 9, \"posts_read\": 157, \"topic_count\": 3, \"topics_entered\": 16, \"user\": {\"id\": 34, \"username\": \"danielballan\", \"name\": \"Dan Allan\", \"avatar_template\": \"/user_avatar/discourse.jupyter.org/danielballan/{size}/34_2.png\", \"title\": null}, \"username\": \"danielballan\"}, {\"days_visited\": 8, \"id\": 556, \"likes_given\": 3, \"likes_received\": 7, \"post_count\": 8, \"posts_read\": 70, \"topic_count\": 0, \"topics_entered\": 12, \"user\": {\"id\": 556, \"username\": \"blink1073\", \"name\": \"Steven Silvester\", \"avatar_template\": \"/user_avatar/discourse.jupyter.org/blink1073/{size}/791_2.png\", \"title\": null}, \"username\": \"blink1073\"}, {\"days_visited\": 6, \"id\": 565, \"likes_given\": 3, \"likes_received\": 5, \"post_count\": 6, \"posts_read\": 35, \"topic_count\": 0, \"topics_entered\": 4, \"user\": {\"id\": 565, \"username\": \"danielskatz\", \"name\": \"Daniel S. Katz\", \"avatar_template\": \"/user_avatar/discourse.jupyter.org/danielskatz/{size}/785_2.png\", \"title\": null}, \"username\": \"danielskatz\"}, {\"days_visited\": 20, \"id\": 234, \"likes_given\": 3, \"likes_received\": 11, \"post_count\": 12, \"posts_read\": 65, \"topic_count\": 3, \"topics_entered\": 7, \"user\": {\"id\": 234, \"username\": \"fmaussion\", \"name\": \"Fabien Maussion\", \"avatar_template\": \"/user_avatar/discourse.jupyter.org/fmaussion/{size}/390_2.png\", \"title\": null}, \"username\": \"fmaussion\"}, {\"days_visited\": 19, \"id\": 333, \"likes_given\": 2, \"likes_received\": 0, \"post_count\": 6, \"posts_read\": 33, \"topic_count\": 0, \"topics_entered\": 1, \"user\": {\"id\": 333, \"username\": \"cmbui\", \"name\": \"Christina\", \"avatar_template\": \"/user_avatar/discourse.jupyter.org/cmbui/{size}/436_2.png\", \"title\": null}, \"username\": \"cmbui\"}, {\"days_visited\": 12, \"id\": 430, \"likes_given\": 2, \"likes_received\": 3, \"post_count\": 5, \"posts_read\": 42, \"topic_count\": 1, \"topics_entered\": 15, \"user\": {\"id\": 430, \"username\": \"rokroskar\", \"name\": \"Rok Ro\\u0161kar\", \"avatar_template\": \"/user_avatar/discourse.jupyter.org/rokroskar/{size}/563_2.png\", \"title\": null}, \"username\": \"rokroskar\"}, {\"days_visited\": 53, \"id\": 239, \"likes_given\": 2, \"likes_received\": 6, \"post_count\": 7, \"posts_read\": 291, \"topic_count\": 0, \"topics_entered\": 91, \"user\": {\"id\": 239, \"username\": \"jhermann\", \"name\": \"J\\u00fcrgen Hermann\", \"avatar_template\": \"/user_avatar/discourse.jupyter.org/jhermann/{size}/257_2.png\", \"title\": null}, \"username\": \"jhermann\"}, {\"days_visited\": 17, \"id\": 71, \"likes_given\": 1, \"likes_received\": 4, \"post_count\": 7, \"posts_read\": 111, \"topic_count\": 1, \"topics_entered\": 11, \"user\": {\"id\": 71, \"username\": \"nuest\", \"name\": \"Daniel N\\u00fcst\", \"avatar_template\": \"/user_avatar/discourse.jupyter.org/nuest/{size}/82_2.png\", \"title\": null}, \"username\": \"nuest\"}, {\"days_visited\": 20, \"id\": 220, \"likes_given\": 1, \"likes_received\": 29, \"post_count\": 37, \"posts_read\": 305, \"topic_count\": 1, \"topics_entered\": 69, \"user\": {\"id\": 220, \"username\": \"jasongrout\", \"name\": \"Jason Grout\", \"avatar_template\": \"/user_avatar/discourse.jupyter.org/jasongrout/{size}/371_2.png\", \"title\": null}, \"username\": \"jasongrout\"}, {\"days_visited\": 11, \"id\": 390, \"likes_given\": 1, \"likes_received\": 2, \"post_count\": 7, \"posts_read\": 37, \"topic_count\": 6, \"topics_entered\": 17, \"user\": {\"id\": 390, \"username\": \"ernstch\", \"name\": \"Ernst\", \"avatar_template\": \"https://avatars.discourse.org/v4/letter/e/9de0a6/{size}.png\", \"title\": null}, \"username\": \"ernstch\"}, {\"days_visited\": 15, \"id\": 237, \"likes_given\": 1, \"likes_received\": 18, \"post_count\": 6, \"posts_read\": 51, \"topic_count\": 2, \"topics_entered\": 10, \"user\": {\"id\": 237, \"username\": \"MSeal\", \"name\": \"Matthew Seal\", \"avatar_template\": \"/user_avatar/discourse.jupyter.org/mseal/{size}/253_2.png\", \"title\": null}, \"username\": \"MSeal\"}, {\"days_visited\": 9, \"id\": 679, \"likes_given\": 1, \"likes_received\": 10, \"post_count\": 9, \"posts_read\": 87, \"topic_count\": 0, \"topics_entered\": 18, \"user\": {\"id\": 679, \"username\": \"bollwyvl\", \"name\": \"Nicholas Bollweg\", \"avatar_template\": \"/user_avatar/discourse.jupyter.org/bollwyvl/{size}/904_2.png\", \"title\": null}, \"username\": \"bollwyvl\"}, {\"days_visited\": 8, \"id\": 562, \"likes_given\": 0, \"likes_received\": 0, \"post_count\": 5, \"posts_read\": 25, \"topic_count\": 0, \"topics_entered\": 4, \"user\": {\"id\": 562, \"username\": \"Shane_Canon\", \"name\": \"Shane Canon\", \"avatar_template\": \"/user_avatar/discourse.jupyter.org/shane_canon/{size}/783_2.png\", \"title\": null}, \"username\": \"Shane_Canon\"}, {\"days_visited\": 10, \"id\": 351, \"likes_given\": 0, \"likes_received\": 6, \"post_count\": 5, \"posts_read\": 53, \"topic_count\": 1, \"topics_entered\": 12, \"user\": {\"id\": 351, \"username\": \"henchc\", \"name\": \"Christopher Hench\", \"avatar_template\": \"/user_avatar/discourse.jupyter.org/henchc/{size}/452_2.png\", \"title\": null}, \"username\": \"henchc\"}, {\"days_visited\": 11, \"id\": 590, \"likes_given\": 0, \"likes_received\": 2, \"post_count\": 5, \"posts_read\": 48, \"topic_count\": 1, \"topics_entered\": 8, \"user\": {\"id\": 590, \"username\": \"nscozzaro\", \"name\": \"Nicolas Scozzaro\", \"avatar_template\": \"/user_avatar/discourse.jupyter.org/nscozzaro/{size}/804_2.png\", \"title\": null}, \"username\": \"nscozzaro\"}, {\"days_visited\": 18, \"id\": 9, \"likes_given\": 0, \"likes_received\": 7, \"post_count\": 6, \"posts_read\": 62, \"topic_count\": 0, \"topics_entered\": 12, \"user\": {\"id\": 9, \"username\": \"ellisonbg\", \"name\": \"Brian Granger\", \"avatar_template\": \"/user_avatar/discourse.jupyter.org/ellisonbg/{size}/14_2.png\", \"title\": null}, \"username\": \"ellisonbg\"}, {\"days_visited\": 12, \"id\": 352, \"likes_given\": 0, \"likes_received\": 7, \"post_count\": 5, \"posts_read\": 50, \"topic_count\": 0, \"topics_entered\": 3, \"user\": {\"id\": 352, \"username\": \"jhornig\", \"name\": \"Joseph Hornig\", \"avatar_template\": \"/user_avatar/discourse.jupyter.org/jhornig/{size}/453_2.png\", \"title\": null}, \"username\": \"jhornig\"}, {\"days_visited\": 10, \"id\": 686, \"likes_given\": 0, \"likes_received\": 3, \"post_count\": 8, \"posts_read\": 92, \"topic_count\": 3, \"topics_entered\": 29, \"user\": {\"id\": 686, \"username\": \"sqqqrly\", \"name\": \"DAVID OHLEMACHER\", \"avatar_template\": \"https://avatars.discourse.org/v4/letter/s/22d042/{size}.png\", \"title\": null}, \"username\": \"sqqqrly\"}, {\"days_visited\": 10, \"id\": 145, \"likes_given\": 0, \"likes_received\": 7, \"post_count\": 6, \"posts_read\": 41, \"topic_count\": 3, \"topics_entered\": 9, \"user\": {\"id\": 145, \"username\": \"hhuuggoo\", \"name\": \"saturncloud.io\", \"avatar_template\": \"/user_avatar/discourse.jupyter.org/hhuuggoo/{size}/242_2.png\", \"title\": \"\"}, \"username\": \"hhuuggoo\"}, {\"days_visited\": 7, \"id\": 640, \"likes_given\": 0, \"likes_received\": 0, \"post_count\": 6, \"posts_read\": 23, \"topic_count\": 1, \"topics_entered\": 6, \"user\": {\"id\": 640, \"username\": \"Stefano_Fioravanzo\", \"name\": \"Stefano Fioravanzo\", \"avatar_template\": \"/user_avatar/discourse.jupyter.org/stefano_fioravanzo/{size}/849_2.png\", \"title\": null}, \"username\": \"Stefano_Fioravanzo\"}, {\"days_visited\": 10, \"id\": 195, \"likes_given\": 0, \"likes_received\": 1, \"post_count\": 6, \"posts_read\": 34, \"topic_count\": 0, \"topics_entered\": 8, \"user\": {\"id\": 195, \"username\": \"rcthomas\", \"name\": \"\", \"avatar_template\": \"/user_avatar/discourse.jupyter.org/rcthomas/{size}/201_2.png\", \"title\": null}, \"username\": \"rcthomas\"}, {\"days_visited\": 18, \"id\": 462, \"likes_given\": 0, \"likes_received\": 1, \"post_count\": 7, \"posts_read\": 73, \"topic_count\": 3, \"topics_entered\": 13, \"user\": {\"id\": 462, \"username\": \"rahuldave\", \"name\": \"Rahul Dave\", \"avatar_template\": \"https://avatars.discourse.org/v4/letter/r/6f9a4e/{size}.png\", \"title\": null}, \"username\": \"rahuldave\"}, {\"days_visited\": 14, \"id\": 487, \"likes_given\": 0, \"likes_received\": 0, \"post_count\": 7, \"posts_read\": 83, \"topic_count\": 4, \"topics_entered\": 25, \"user\": {\"id\": 487, \"username\": \"D4rkM4atter\", \"name\": \"\", \"avatar_template\": \"/user_avatar/discourse.jupyter.org/d4rkm4atter/{size}/663_2.png\", \"title\": null}, \"username\": \"D4rkM4atter\"}, {\"days_visited\": 13, \"id\": 566, \"likes_given\": 0, \"likes_received\": 1, \"post_count\": 8, \"posts_read\": 32, \"topic_count\": 2, \"topics_entered\": 9, \"user\": {\"id\": 566, \"username\": \"Shreyas_Cholia\", \"name\": \"Shreyas Cholia\", \"avatar_template\": \"/user_avatar/discourse.jupyter.org/shreyas_cholia/{size}/784_2.png\", \"title\": null}, \"username\": \"Shreyas_Cholia\"}, {\"days_visited\": 10, \"id\": 510, \"likes_given\": 0, \"likes_received\": 6, \"post_count\": 8, \"posts_read\": 10, \"topic_count\": 2, \"topics_entered\": 4, \"user\": {\"id\": 510, \"username\": \"lorankary\", \"name\": \"Lorankary\", \"avatar_template\": \"https://avatars.discourse.org/v4/letter/l/ac8455/{size}.png\", \"title\": null}, \"username\": \"lorankary\"}, {\"days_visited\": 34, \"id\": 419, \"likes_given\": 0, \"likes_received\": 3, \"post_count\": 14, \"posts_read\": 78, \"topic_count\": 7, \"topics_entered\": 21, \"user\": {\"id\": 419, \"username\": \"alvinhuff\", \"name\": \"Alvin Huff\", \"avatar_template\": \"/user_avatar/discourse.jupyter.org/alvinhuff/{size}/550_2.png\", \"title\": null}, \"username\": \"alvinhuff\"}, {\"days_visited\": 6, \"id\": 699, \"likes_given\": 0, \"likes_received\": 1, \"post_count\": 5, \"posts_read\": 39, \"topic_count\": 5, \"topics_entered\": 14, \"user\": {\"id\": 699, \"username\": \"josh\", \"name\": null, \"avatar_template\": \"https://avatars.discourse.org/v4/letter/j/45deac/{size}.png\", \"title\": null}, \"username\": \"josh\"}]}};\n",
       "      var embedOpt = {\"mode\": \"vega-lite\"};\n",
       "\n",
       "      function showError(el, error){\n",
       "          el.innerHTML = ('<div class=\"error\" style=\"color:red;\">'\n",
       "                          + '<p>JavaScript Error: ' + error.message + '</p>'\n",
       "                          + \"<p>This usually means there's a typo in your chart specification. \"\n",
       "                          + \"See the javascript console for the full traceback.</p>\"\n",
       "                          + '</div>');\n",
       "          throw error;\n",
       "      }\n",
       "      const el = document.getElementById('altair-viz-4');\n",
       "      vegaEmbed(\"#altair-viz-4\", spec, embedOpt)\n",
       "        .catch(error => showError(el, error));\n",
       "    });\n",
       "\n",
       "  </script>"
      ],
      "text/plain": [
       "Chart({\n",
       "  data:     days_visited   id  likes_given  likes_received  post_count  posts_read  \\\n",
       "  0             79    6          207             108         143        1422   \n",
       "  1             92    3          207             127         137         968   \n",
       "  11            75   30           67              16          20         292   \n",
       "  10            69   11           64              13          20         911   \n",
       "  9             34  485           47              20          21         268   \n",
       "  8             55   99           37              16          22         505   \n",
       "  16            38  432           30               6          12         283   \n",
       "  5             80  116           27              58          45         634   \n",
       "  12            40  217           24               4          17         179   \n",
       "  42            23    7           20               8           6         224   \n",
       "  48            17  141           20               7           5         138   \n",
       "  7             68   73           16              22          27        1554   \n",
       "  2             67   24           16              54          74         670   \n",
       "  3             91    8           12              65          57         807   \n",
       "  4             60   12            9              43          46         801   \n",
       "  26             7  254            9               1           8          92   \n",
       "  14            88   77            8              12          14         784   \n",
       "  31            61  303            7               3           7         258   \n",
       "  39            13  227            7               2           6         176   \n",
       "  18            44  222            7              18          11         142   \n",
       "  17            28   60            7               8          11         321   \n",
       "  19            32  372            6              10          11         165   \n",
       "  33            26  268            5              12           7         107   \n",
       "  21            25   34            3              16           9         157   \n",
       "  23             8  556            3               7           8          70   \n",
       "  36             6  565            3               5           6          35   \n",
       "  15            20  234            3              11          12          65   \n",
       "  38            19  333            2               0           6          33   \n",
       "  46            12  430            2               3           5          42   \n",
       "  30            53  239            2               6           7         291   \n",
       "  32            17   71            1               4           7         111   \n",
       "  6             20  220            1              29          37         305   \n",
       "  29            11  390            1               2           7          37   \n",
       "  40            15  237            1              18           6          51   \n",
       "  20             9  679            1              10           9          87   \n",
       "  43             8  562            0               0           5          25   \n",
       "  44            10  351            0               6           5          53   \n",
       "  45            11  590            0               2           5          48   \n",
       "  41            18    9            0               7           6          62   \n",
       "  47            12  352            0               7           5          50   \n",
       "  25            10  686            0               3           8          92   \n",
       "  37            10  145            0               7           6          41   \n",
       "  35             7  640            0               0           6          23   \n",
       "  34            10  195            0               1           6          34   \n",
       "  28            18  462            0               1           7          73   \n",
       "  27            14  487            0               0           7          83   \n",
       "  24            13  566            0               1           8          32   \n",
       "  22            10  510            0               6           8          10   \n",
       "  13            34  419            0               3          14          78   \n",
       "  49             6  699            0               1           5          39   \n",
       "  \n",
       "      topic_count  topics_entered  \\\n",
       "  0            11             333   \n",
       "  1            33             250   \n",
       "  11            2              56   \n",
       "  10            1             200   \n",
       "  9             1              54   \n",
       "  8             2             101   \n",
       "  16            2              65   \n",
       "  5             5             127   \n",
       "  12            0              37   \n",
       "  42            0              30   \n",
       "  48            1              21   \n",
       "  7             2             336   \n",
       "  2             6             257   \n",
       "  3             4             171   \n",
       "  4             7             144   \n",
       "  26            0              10   \n",
       "  14            0             166   \n",
       "  31            1              62   \n",
       "  39            0              28   \n",
       "  18            2              16   \n",
       "  17            0              42   \n",
       "  19            1              28   \n",
       "  33            3              21   \n",
       "  21            3              16   \n",
       "  23            0              12   \n",
       "  36            0               4   \n",
       "  15            3               7   \n",
       "  38            0               1   \n",
       "  46            1              15   \n",
       "  30            0              91   \n",
       "  32            1              11   \n",
       "  6             1              69   \n",
       "  29            6              17   \n",
       "  40            2              10   \n",
       "  20            0              18   \n",
       "  43            0               4   \n",
       "  44            1              12   \n",
       "  45            1               8   \n",
       "  41            0              12   \n",
       "  47            0               3   \n",
       "  25            3              29   \n",
       "  37            3               9   \n",
       "  35            1               6   \n",
       "  34            0               8   \n",
       "  28            3              13   \n",
       "  27            4              25   \n",
       "  24            2               9   \n",
       "  22            2               4   \n",
       "  13            7              21   \n",
       "  49            5              14   \n",
       "  \n",
       "                                                   user             username  \n",
       "  0   {'id': 6, 'username': 'betatim', 'name': 'Tim ...              betatim  \n",
       "  1   {'id': 3, 'username': 'choldgraf', 'name': 'Ch...            choldgraf  \n",
       "  11  {'id': 30, 'username': 'consideRatio', 'name':...         consideRatio  \n",
       "  10  {'id': 11, 'username': 'fomightez', 'name': 'W...            fomightez  \n",
       "  9   {'id': 485, 'username': 'rolweber', 'name': 'R...             rolweber  \n",
       "  8   {'id': 99, 'username': 'Zsailer', 'name': 'Zac...              Zsailer  \n",
       "  16  {'id': 432, 'username': 'ondrejj', 'name': 'On...              ondrejj  \n",
       "  5   {'id': 116, 'username': 'sgibson91', 'name': '...            sgibson91  \n",
       "  12  {'id': 217, 'username': 'kevin-bates', 'name':...          kevin-bates  \n",
       "  42  {'id': 7, 'username': 'willingc', 'name': 'Car...             willingc  \n",
       "  48  {'id': 141, 'username': 'saulshanabrook', 'nam...       saulshanabrook  \n",
       "  7   {'id': 73, 'username': 'manics', 'name': 'Simo...               manics  \n",
       "  2   {'id': 24, 'username': 'psychemedia', 'name': ...          psychemedia  \n",
       "  3   {'id': 8, 'username': 'minrk', 'name': 'Min RK...                minrk  \n",
       "  4   {'id': 12, 'username': 'yuvipanda', 'name': 'Y...            yuvipanda  \n",
       "  26  {'id': 254, 'username': 'mathematicalmichael',...  mathematicalmichael  \n",
       "  14  {'id': 77, 'username': 'jtp', 'name': 'Jeremy ...                  jtp  \n",
       "  31  {'id': 303, 'username': 'ian-r-rose', 'name': ...           ian-r-rose  \n",
       "  39  {'id': 227, 'username': 'sterlinm', 'name': 'M...             sterlinm  \n",
       "  18  {'id': 222, 'username': 'tgeorgeux', 'name': '...            tgeorgeux  \n",
       "  17  {'id': 60, 'username': 'fm75', 'name': 'Fred M...                 fm75  \n",
       "  19  {'id': 372, 'username': 'davclark', 'name': 'D...             davclark  \n",
       "  33  {'id': 268, 'username': 'afshin', 'name': 'A. ...               afshin  \n",
       "  21  {'id': 34, 'username': 'danielballan', 'name':...         danielballan  \n",
       "  23  {'id': 556, 'username': 'blink1073', 'name': '...            blink1073  \n",
       "  36  {'id': 565, 'username': 'danielskatz', 'name':...          danielskatz  \n",
       "  15  {'id': 234, 'username': 'fmaussion', 'name': '...            fmaussion  \n",
       "  38  {'id': 333, 'username': 'cmbui', 'name': 'Chri...                cmbui  \n",
       "  46  {'id': 430, 'username': 'rokroskar', 'name': '...            rokroskar  \n",
       "  30  {'id': 239, 'username': 'jhermann', 'name': 'J...             jhermann  \n",
       "  32  {'id': 71, 'username': 'nuest', 'name': 'Danie...                nuest  \n",
       "  6   {'id': 220, 'username': 'jasongrout', 'name': ...           jasongrout  \n",
       "  29  {'id': 390, 'username': 'ernstch', 'name': 'Er...              ernstch  \n",
       "  40  {'id': 237, 'username': 'MSeal', 'name': 'Matt...                MSeal  \n",
       "  20  {'id': 679, 'username': 'bollwyvl', 'name': 'N...             bollwyvl  \n",
       "  43  {'id': 562, 'username': 'Shane_Canon', 'name':...          Shane_Canon  \n",
       "  44  {'id': 351, 'username': 'henchc', 'name': 'Chr...               henchc  \n",
       "  45  {'id': 590, 'username': 'nscozzaro', 'name': '...            nscozzaro  \n",
       "  41  {'id': 9, 'username': 'ellisonbg', 'name': 'Br...            ellisonbg  \n",
       "  47  {'id': 352, 'username': 'jhornig', 'name': 'Jo...              jhornig  \n",
       "  25  {'id': 686, 'username': 'sqqqrly', 'name': 'DA...              sqqqrly  \n",
       "  37  {'id': 145, 'username': 'hhuuggoo', 'name': 's...             hhuuggoo  \n",
       "  35  {'id': 640, 'username': 'Stefano_Fioravanzo', ...   Stefano_Fioravanzo  \n",
       "  34  {'id': 195, 'username': 'rcthomas', 'name': ''...             rcthomas  \n",
       "  28  {'id': 462, 'username': 'rahuldave', 'name': '...            rahuldave  \n",
       "  27  {'id': 487, 'username': 'D4rkM4atter', 'name':...          D4rkM4atter  \n",
       "  24  {'id': 566, 'username': 'Shreyas_Cholia', 'nam...       Shreyas_Cholia  \n",
       "  22  {'id': 510, 'username': 'lorankary', 'name': '...            lorankary  \n",
       "  13  {'id': 419, 'username': 'alvinhuff', 'name': '...            alvinhuff  \n",
       "  49  {'id': 699, 'username': 'josh', 'name': None, ...                 josh  ,\n",
       "  encoding: FacetedEncoding({\n",
       "    x: X({\n",
       "      field: 'username',\n",
       "      type: 'nominal'\n",
       "    }),\n",
       "    y: Y({\n",
       "      field: 'likes_given',\n",
       "      type: 'quantitative'\n",
       "    })\n",
       "  }),\n",
       "  mark: 'bar'\n",
       "})"
      ]
     },
     "execution_count": 17,
     "metadata": {},
     "output_type": "execute_result"
    }
   ],
   "source": [
    "plot_user_data(users.head(50), 'likes_given')"
   ]
  },
  {
   "cell_type": "markdown",
   "metadata": {
    "papermill": {
     "duration": 0.052176,
     "end_time": "2019-08-01T17:02:04.069856",
     "exception": false,
     "start_time": "2019-08-01T17:02:04.017680",
     "status": "completed"
    },
    "tags": []
   },
   "source": [
    "**Forum users, sorted by likes received**\n",
    "\n",
    "These are folks that posted things other people in the Community Forum liked."
   ]
  },
  {
   "cell_type": "code",
   "execution_count": 18,
   "metadata": {
    "papermill": {
     "duration": 0.103199,
     "end_time": "2019-08-01T17:02:04.234605",
     "exception": false,
     "start_time": "2019-08-01T17:02:04.131406",
     "status": "completed"
    },
    "tags": []
   },
   "outputs": [
    {
     "data": {
      "text/html": [
       "\n",
       "  <style>\n",
       "    .vega-actions a {\n",
       "        margin-right: 12px;\n",
       "        color: #757575;\n",
       "        font-weight: normal;\n",
       "        font-size: 13px;\n",
       "    }\n",
       "    .error {\n",
       "        color: red;\n",
       "    }\n",
       "  </style>\n",
       "  <div id=\"altair-viz-5\"></div>\n",
       "  <script>\n",
       "    requirejs.config({\n",
       "        \"paths\": {\n",
       "            \"vega\": \"https://cdn.jsdelivr.net/npm//vega@5?noext\",\n",
       "            \"vega-lib\": \"https://cdn.jsdelivr.net/npm//vega-lib?noext\",\n",
       "            \"vega-lite\": \"https://cdn.jsdelivr.net/npm//vega-lite@3.3.0?noext\",\n",
       "            \"vega-embed\": \"https://cdn.jsdelivr.net/npm//vega-embed@4?noext\",\n",
       "        }\n",
       "    });\n",
       "    require(['vega-embed'], function(vegaEmbed){\n",
       "      var spec = {\"config\": {\"axisLeft\": {\"labelFontSize\": 15}, \"axisBottom\": {\"labelFontSize\": 15}}, \"data\": {\"name\": \"data-49bde1015f80a232648f35655e52d521\"}, \"mark\": \"bar\", \"encoding\": {\"x\": {\"type\": \"nominal\", \"field\": \"username\"}, \"y\": {\"type\": \"quantitative\", \"field\": \"likes_received\"}}, \"$schema\": \"https://vega.github.io/schema/vega-lite/v3.3.0.json\", \"datasets\": {\"data-49bde1015f80a232648f35655e52d521\": [{\"days_visited\": 92, \"id\": 3, \"likes_given\": 207, \"likes_received\": 127, \"post_count\": 137, \"posts_read\": 968, \"topic_count\": 33, \"topics_entered\": 250, \"user\": {\"id\": 3, \"username\": \"choldgraf\", \"name\": \"Chris Holdgraf\", \"avatar_template\": \"/user_avatar/discourse.jupyter.org/choldgraf/{size}/12_2.png\", \"title\": \"Regular\"}, \"username\": \"choldgraf\"}, {\"days_visited\": 79, \"id\": 6, \"likes_given\": 207, \"likes_received\": 108, \"post_count\": 143, \"posts_read\": 1422, \"topic_count\": 11, \"topics_entered\": 333, \"user\": {\"id\": 6, \"username\": \"betatim\", \"name\": \"Tim Head\", \"avatar_template\": \"/user_avatar/discourse.jupyter.org/betatim/{size}/10_2.png\", \"title\": \"\"}, \"username\": \"betatim\"}, {\"days_visited\": 91, \"id\": 8, \"likes_given\": 12, \"likes_received\": 65, \"post_count\": 57, \"posts_read\": 807, \"topic_count\": 4, \"topics_entered\": 171, \"user\": {\"id\": 8, \"username\": \"minrk\", \"name\": \"Min RK\", \"avatar_template\": \"/user_avatar/discourse.jupyter.org/minrk/{size}/13_2.png\", \"title\": null}, \"username\": \"minrk\"}, {\"days_visited\": 80, \"id\": 116, \"likes_given\": 27, \"likes_received\": 58, \"post_count\": 45, \"posts_read\": 634, \"topic_count\": 5, \"topics_entered\": 127, \"user\": {\"id\": 116, \"username\": \"sgibson91\", \"name\": \"Sarah Gibson\", \"avatar_template\": \"/user_avatar/discourse.jupyter.org/sgibson91/{size}/487_2.png\", \"title\": \"\"}, \"username\": \"sgibson91\"}, {\"days_visited\": 67, \"id\": 24, \"likes_given\": 16, \"likes_received\": 54, \"post_count\": 74, \"posts_read\": 670, \"topic_count\": 6, \"topics_entered\": 257, \"user\": {\"id\": 24, \"username\": \"psychemedia\", \"name\": \"Tony Hirst\", \"avatar_template\": \"/user_avatar/discourse.jupyter.org/psychemedia/{size}/24_2.png\", \"title\": null}, \"username\": \"psychemedia\"}, {\"days_visited\": 60, \"id\": 12, \"likes_given\": 9, \"likes_received\": 43, \"post_count\": 46, \"posts_read\": 801, \"topic_count\": 7, \"topics_entered\": 144, \"user\": {\"id\": 12, \"username\": \"yuvipanda\", \"name\": \"Yuvi Panda\", \"avatar_template\": \"/user_avatar/discourse.jupyter.org/yuvipanda/{size}/17_2.png\", \"title\": null}, \"username\": \"yuvipanda\"}, {\"days_visited\": 20, \"id\": 220, \"likes_given\": 1, \"likes_received\": 29, \"post_count\": 37, \"posts_read\": 305, \"topic_count\": 1, \"topics_entered\": 69, \"user\": {\"id\": 220, \"username\": \"jasongrout\", \"name\": \"Jason Grout\", \"avatar_template\": \"/user_avatar/discourse.jupyter.org/jasongrout/{size}/371_2.png\", \"title\": null}, \"username\": \"jasongrout\"}, {\"days_visited\": 68, \"id\": 73, \"likes_given\": 16, \"likes_received\": 22, \"post_count\": 27, \"posts_read\": 1554, \"topic_count\": 2, \"topics_entered\": 336, \"user\": {\"id\": 73, \"username\": \"manics\", \"name\": \"Simon\", \"avatar_template\": \"/user_avatar/discourse.jupyter.org/manics/{size}/85_2.png\", \"title\": null}, \"username\": \"manics\"}, {\"days_visited\": 34, \"id\": 485, \"likes_given\": 47, \"likes_received\": 20, \"post_count\": 21, \"posts_read\": 268, \"topic_count\": 1, \"topics_entered\": 54, \"user\": {\"id\": 485, \"username\": \"rolweber\", \"name\": \"Roland Weber\", \"avatar_template\": \"/user_avatar/discourse.jupyter.org/rolweber/{size}/657_2.png\", \"title\": null}, \"username\": \"rolweber\"}, {\"days_visited\": 44, \"id\": 222, \"likes_given\": 7, \"likes_received\": 18, \"post_count\": 11, \"posts_read\": 142, \"topic_count\": 2, \"topics_entered\": 16, \"user\": {\"id\": 222, \"username\": \"tgeorgeux\", \"name\": \"Timothy George\", \"avatar_template\": \"https://avatars.discourse.org/v4/letter/t/f05b48/{size}.png\", \"title\": null}, \"username\": \"tgeorgeux\"}, {\"days_visited\": 15, \"id\": 237, \"likes_given\": 1, \"likes_received\": 18, \"post_count\": 6, \"posts_read\": 51, \"topic_count\": 2, \"topics_entered\": 10, \"user\": {\"id\": 237, \"username\": \"MSeal\", \"name\": \"Matthew Seal\", \"avatar_template\": \"/user_avatar/discourse.jupyter.org/mseal/{size}/253_2.png\", \"title\": null}, \"username\": \"MSeal\"}, {\"days_visited\": 55, \"id\": 99, \"likes_given\": 37, \"likes_received\": 16, \"post_count\": 22, \"posts_read\": 505, \"topic_count\": 2, \"topics_entered\": 101, \"user\": {\"id\": 99, \"username\": \"Zsailer\", \"name\": \"Zachary Sailer\", \"avatar_template\": \"/user_avatar/discourse.jupyter.org/zsailer/{size}/106_2.png\", \"title\": null}, \"username\": \"Zsailer\"}, {\"days_visited\": 25, \"id\": 34, \"likes_given\": 3, \"likes_received\": 16, \"post_count\": 9, \"posts_read\": 157, \"topic_count\": 3, \"topics_entered\": 16, \"user\": {\"id\": 34, \"username\": \"danielballan\", \"name\": \"Dan Allan\", \"avatar_template\": \"/user_avatar/discourse.jupyter.org/danielballan/{size}/34_2.png\", \"title\": null}, \"username\": \"danielballan\"}, {\"days_visited\": 75, \"id\": 30, \"likes_given\": 67, \"likes_received\": 16, \"post_count\": 20, \"posts_read\": 292, \"topic_count\": 2, \"topics_entered\": 56, \"user\": {\"id\": 30, \"username\": \"consideRatio\", \"name\": \"Erik Sundell\", \"avatar_template\": \"/user_avatar/discourse.jupyter.org/consideratio/{size}/30_2.png\", \"title\": null}, \"username\": \"consideRatio\"}, {\"days_visited\": 69, \"id\": 11, \"likes_given\": 64, \"likes_received\": 13, \"post_count\": 20, \"posts_read\": 911, \"topic_count\": 1, \"topics_entered\": 200, \"user\": {\"id\": 11, \"username\": \"fomightez\", \"name\": \"Wayne\", \"avatar_template\": \"/user_avatar/discourse.jupyter.org/fomightez/{size}/495_2.png\", \"title\": null}, \"username\": \"fomightez\"}, {\"days_visited\": 88, \"id\": 77, \"likes_given\": 8, \"likes_received\": 12, \"post_count\": 14, \"posts_read\": 784, \"topic_count\": 0, \"topics_entered\": 166, \"user\": {\"id\": 77, \"username\": \"jtp\", \"name\": \"Jeremy Tuloup\", \"avatar_template\": \"/user_avatar/discourse.jupyter.org/jtp/{size}/882_2.png\", \"title\": \"\"}, \"username\": \"jtp\"}, {\"days_visited\": 26, \"id\": 268, \"likes_given\": 5, \"likes_received\": 12, \"post_count\": 7, \"posts_read\": 107, \"topic_count\": 3, \"topics_entered\": 21, \"user\": {\"id\": 268, \"username\": \"afshin\", \"name\": \"A. T. Darian\", \"avatar_template\": \"/user_avatar/discourse.jupyter.org/afshin/{size}/314_2.png\", \"title\": null}, \"username\": \"afshin\"}, {\"days_visited\": 20, \"id\": 234, \"likes_given\": 3, \"likes_received\": 11, \"post_count\": 12, \"posts_read\": 65, \"topic_count\": 3, \"topics_entered\": 7, \"user\": {\"id\": 234, \"username\": \"fmaussion\", \"name\": \"Fabien Maussion\", \"avatar_template\": \"/user_avatar/discourse.jupyter.org/fmaussion/{size}/390_2.png\", \"title\": null}, \"username\": \"fmaussion\"}, {\"days_visited\": 32, \"id\": 372, \"likes_given\": 6, \"likes_received\": 10, \"post_count\": 11, \"posts_read\": 165, \"topic_count\": 1, \"topics_entered\": 28, \"user\": {\"id\": 372, \"username\": \"davclark\", \"name\": \"Dav Clark\", \"avatar_template\": \"/user_avatar/discourse.jupyter.org/davclark/{size}/489_2.png\", \"title\": null}, \"username\": \"davclark\"}, {\"days_visited\": 9, \"id\": 679, \"likes_given\": 1, \"likes_received\": 10, \"post_count\": 9, \"posts_read\": 87, \"topic_count\": 0, \"topics_entered\": 18, \"user\": {\"id\": 679, \"username\": \"bollwyvl\", \"name\": \"Nicholas Bollweg\", \"avatar_template\": \"/user_avatar/discourse.jupyter.org/bollwyvl/{size}/904_2.png\", \"title\": null}, \"username\": \"bollwyvl\"}, {\"days_visited\": 23, \"id\": 7, \"likes_given\": 20, \"likes_received\": 8, \"post_count\": 6, \"posts_read\": 224, \"topic_count\": 0, \"topics_entered\": 30, \"user\": {\"id\": 7, \"username\": \"willingc\", \"name\": \"Carol Willing\", \"avatar_template\": \"/user_avatar/discourse.jupyter.org/willingc/{size}/11_2.png\", \"title\": null}, \"username\": \"willingc\"}, {\"days_visited\": 28, \"id\": 60, \"likes_given\": 7, \"likes_received\": 8, \"post_count\": 11, \"posts_read\": 321, \"topic_count\": 0, \"topics_entered\": 42, \"user\": {\"id\": 60, \"username\": \"fm75\", \"name\": \"Fred Mitchell\", \"avatar_template\": \"/user_avatar/discourse.jupyter.org/fm75/{size}/71_2.png\", \"title\": \"\"}, \"username\": \"fm75\"}, {\"days_visited\": 8, \"id\": 556, \"likes_given\": 3, \"likes_received\": 7, \"post_count\": 8, \"posts_read\": 70, \"topic_count\": 0, \"topics_entered\": 12, \"user\": {\"id\": 556, \"username\": \"blink1073\", \"name\": \"Steven Silvester\", \"avatar_template\": \"/user_avatar/discourse.jupyter.org/blink1073/{size}/791_2.png\", \"title\": null}, \"username\": \"blink1073\"}, {\"days_visited\": 12, \"id\": 352, \"likes_given\": 0, \"likes_received\": 7, \"post_count\": 5, \"posts_read\": 50, \"topic_count\": 0, \"topics_entered\": 3, \"user\": {\"id\": 352, \"username\": \"jhornig\", \"name\": \"Joseph Hornig\", \"avatar_template\": \"/user_avatar/discourse.jupyter.org/jhornig/{size}/453_2.png\", \"title\": null}, \"username\": \"jhornig\"}, {\"days_visited\": 18, \"id\": 9, \"likes_given\": 0, \"likes_received\": 7, \"post_count\": 6, \"posts_read\": 62, \"topic_count\": 0, \"topics_entered\": 12, \"user\": {\"id\": 9, \"username\": \"ellisonbg\", \"name\": \"Brian Granger\", \"avatar_template\": \"/user_avatar/discourse.jupyter.org/ellisonbg/{size}/14_2.png\", \"title\": null}, \"username\": \"ellisonbg\"}, {\"days_visited\": 17, \"id\": 141, \"likes_given\": 20, \"likes_received\": 7, \"post_count\": 5, \"posts_read\": 138, \"topic_count\": 1, \"topics_entered\": 21, \"user\": {\"id\": 141, \"username\": \"saulshanabrook\", \"name\": \"Saul Shanabrook\", \"avatar_template\": \"/user_avatar/discourse.jupyter.org/saulshanabrook/{size}/159_2.png\", \"title\": null}, \"username\": \"saulshanabrook\"}, {\"days_visited\": 10, \"id\": 145, \"likes_given\": 0, \"likes_received\": 7, \"post_count\": 6, \"posts_read\": 41, \"topic_count\": 3, \"topics_entered\": 9, \"user\": {\"id\": 145, \"username\": \"hhuuggoo\", \"name\": \"saturncloud.io\", \"avatar_template\": \"/user_avatar/discourse.jupyter.org/hhuuggoo/{size}/242_2.png\", \"title\": \"\"}, \"username\": \"hhuuggoo\"}, {\"days_visited\": 10, \"id\": 510, \"likes_given\": 0, \"likes_received\": 6, \"post_count\": 8, \"posts_read\": 10, \"topic_count\": 2, \"topics_entered\": 4, \"user\": {\"id\": 510, \"username\": \"lorankary\", \"name\": \"Lorankary\", \"avatar_template\": \"https://avatars.discourse.org/v4/letter/l/ac8455/{size}.png\", \"title\": null}, \"username\": \"lorankary\"}, {\"days_visited\": 10, \"id\": 351, \"likes_given\": 0, \"likes_received\": 6, \"post_count\": 5, \"posts_read\": 53, \"topic_count\": 1, \"topics_entered\": 12, \"user\": {\"id\": 351, \"username\": \"henchc\", \"name\": \"Christopher Hench\", \"avatar_template\": \"/user_avatar/discourse.jupyter.org/henchc/{size}/452_2.png\", \"title\": null}, \"username\": \"henchc\"}, {\"days_visited\": 38, \"id\": 432, \"likes_given\": 30, \"likes_received\": 6, \"post_count\": 12, \"posts_read\": 283, \"topic_count\": 2, \"topics_entered\": 65, \"user\": {\"id\": 432, \"username\": \"ondrejj\", \"name\": \"Ond\\u0159ej \", \"avatar_template\": \"/user_avatar/discourse.jupyter.org/ondrejj/{size}/567_2.png\", \"title\": null}, \"username\": \"ondrejj\"}, {\"days_visited\": 53, \"id\": 239, \"likes_given\": 2, \"likes_received\": 6, \"post_count\": 7, \"posts_read\": 291, \"topic_count\": 0, \"topics_entered\": 91, \"user\": {\"id\": 239, \"username\": \"jhermann\", \"name\": \"J\\u00fcrgen Hermann\", \"avatar_template\": \"/user_avatar/discourse.jupyter.org/jhermann/{size}/257_2.png\", \"title\": null}, \"username\": \"jhermann\"}, {\"days_visited\": 6, \"id\": 565, \"likes_given\": 3, \"likes_received\": 5, \"post_count\": 6, \"posts_read\": 35, \"topic_count\": 0, \"topics_entered\": 4, \"user\": {\"id\": 565, \"username\": \"danielskatz\", \"name\": \"Daniel S. Katz\", \"avatar_template\": \"/user_avatar/discourse.jupyter.org/danielskatz/{size}/785_2.png\", \"title\": null}, \"username\": \"danielskatz\"}, {\"days_visited\": 17, \"id\": 71, \"likes_given\": 1, \"likes_received\": 4, \"post_count\": 7, \"posts_read\": 111, \"topic_count\": 1, \"topics_entered\": 11, \"user\": {\"id\": 71, \"username\": \"nuest\", \"name\": \"Daniel N\\u00fcst\", \"avatar_template\": \"/user_avatar/discourse.jupyter.org/nuest/{size}/82_2.png\", \"title\": null}, \"username\": \"nuest\"}, {\"days_visited\": 40, \"id\": 217, \"likes_given\": 24, \"likes_received\": 4, \"post_count\": 17, \"posts_read\": 179, \"topic_count\": 0, \"topics_entered\": 37, \"user\": {\"id\": 217, \"username\": \"kevin-bates\", \"name\": \"Kevin Bates\", \"avatar_template\": \"/user_avatar/discourse.jupyter.org/kevin-bates/{size}/234_2.png\", \"title\": null}, \"username\": \"kevin-bates\"}, {\"days_visited\": 12, \"id\": 430, \"likes_given\": 2, \"likes_received\": 3, \"post_count\": 5, \"posts_read\": 42, \"topic_count\": 1, \"topics_entered\": 15, \"user\": {\"id\": 430, \"username\": \"rokroskar\", \"name\": \"Rok Ro\\u0161kar\", \"avatar_template\": \"/user_avatar/discourse.jupyter.org/rokroskar/{size}/563_2.png\", \"title\": null}, \"username\": \"rokroskar\"}, {\"days_visited\": 10, \"id\": 686, \"likes_given\": 0, \"likes_received\": 3, \"post_count\": 8, \"posts_read\": 92, \"topic_count\": 3, \"topics_entered\": 29, \"user\": {\"id\": 686, \"username\": \"sqqqrly\", \"name\": \"DAVID OHLEMACHER\", \"avatar_template\": \"https://avatars.discourse.org/v4/letter/s/22d042/{size}.png\", \"title\": null}, \"username\": \"sqqqrly\"}, {\"days_visited\": 61, \"id\": 303, \"likes_given\": 7, \"likes_received\": 3, \"post_count\": 7, \"posts_read\": 258, \"topic_count\": 1, \"topics_entered\": 62, \"user\": {\"id\": 303, \"username\": \"ian-r-rose\", \"name\": \"Ian Rose\", \"avatar_template\": \"/user_avatar/discourse.jupyter.org/ian-r-rose/{size}/638_2.png\", \"title\": null}, \"username\": \"ian-r-rose\"}, {\"days_visited\": 34, \"id\": 419, \"likes_given\": 0, \"likes_received\": 3, \"post_count\": 14, \"posts_read\": 78, \"topic_count\": 7, \"topics_entered\": 21, \"user\": {\"id\": 419, \"username\": \"alvinhuff\", \"name\": \"Alvin Huff\", \"avatar_template\": \"/user_avatar/discourse.jupyter.org/alvinhuff/{size}/550_2.png\", \"title\": null}, \"username\": \"alvinhuff\"}, {\"days_visited\": 13, \"id\": 227, \"likes_given\": 7, \"likes_received\": 2, \"post_count\": 6, \"posts_read\": 176, \"topic_count\": 0, \"topics_entered\": 28, \"user\": {\"id\": 227, \"username\": \"sterlinm\", \"name\": \"Michael\", \"avatar_template\": \"/user_avatar/discourse.jupyter.org/sterlinm/{size}/241_2.png\", \"title\": null}, \"username\": \"sterlinm\"}, {\"days_visited\": 11, \"id\": 390, \"likes_given\": 1, \"likes_received\": 2, \"post_count\": 7, \"posts_read\": 37, \"topic_count\": 6, \"topics_entered\": 17, \"user\": {\"id\": 390, \"username\": \"ernstch\", \"name\": \"Ernst\", \"avatar_template\": \"https://avatars.discourse.org/v4/letter/e/9de0a6/{size}.png\", \"title\": null}, \"username\": \"ernstch\"}, {\"days_visited\": 11, \"id\": 590, \"likes_given\": 0, \"likes_received\": 2, \"post_count\": 5, \"posts_read\": 48, \"topic_count\": 1, \"topics_entered\": 8, \"user\": {\"id\": 590, \"username\": \"nscozzaro\", \"name\": \"Nicolas Scozzaro\", \"avatar_template\": \"/user_avatar/discourse.jupyter.org/nscozzaro/{size}/804_2.png\", \"title\": null}, \"username\": \"nscozzaro\"}, {\"days_visited\": 10, \"id\": 195, \"likes_given\": 0, \"likes_received\": 1, \"post_count\": 6, \"posts_read\": 34, \"topic_count\": 0, \"topics_entered\": 8, \"user\": {\"id\": 195, \"username\": \"rcthomas\", \"name\": \"\", \"avatar_template\": \"/user_avatar/discourse.jupyter.org/rcthomas/{size}/201_2.png\", \"title\": null}, \"username\": \"rcthomas\"}, {\"days_visited\": 18, \"id\": 462, \"likes_given\": 0, \"likes_received\": 1, \"post_count\": 7, \"posts_read\": 73, \"topic_count\": 3, \"topics_entered\": 13, \"user\": {\"id\": 462, \"username\": \"rahuldave\", \"name\": \"Rahul Dave\", \"avatar_template\": \"https://avatars.discourse.org/v4/letter/r/6f9a4e/{size}.png\", \"title\": null}, \"username\": \"rahuldave\"}, {\"days_visited\": 7, \"id\": 254, \"likes_given\": 9, \"likes_received\": 1, \"post_count\": 8, \"posts_read\": 92, \"topic_count\": 0, \"topics_entered\": 10, \"user\": {\"id\": 254, \"username\": \"mathematicalmichael\", \"name\": \"Michael Pilosov\", \"avatar_template\": \"/user_avatar/discourse.jupyter.org/mathematicalmichael/{size}/322_2.png\", \"title\": null}, \"username\": \"mathematicalmichael\"}, {\"days_visited\": 13, \"id\": 566, \"likes_given\": 0, \"likes_received\": 1, \"post_count\": 8, \"posts_read\": 32, \"topic_count\": 2, \"topics_entered\": 9, \"user\": {\"id\": 566, \"username\": \"Shreyas_Cholia\", \"name\": \"Shreyas Cholia\", \"avatar_template\": \"/user_avatar/discourse.jupyter.org/shreyas_cholia/{size}/784_2.png\", \"title\": null}, \"username\": \"Shreyas_Cholia\"}, {\"days_visited\": 6, \"id\": 699, \"likes_given\": 0, \"likes_received\": 1, \"post_count\": 5, \"posts_read\": 39, \"topic_count\": 5, \"topics_entered\": 14, \"user\": {\"id\": 699, \"username\": \"josh\", \"name\": null, \"avatar_template\": \"https://avatars.discourse.org/v4/letter/j/45deac/{size}.png\", \"title\": null}, \"username\": \"josh\"}, {\"days_visited\": 7, \"id\": 640, \"likes_given\": 0, \"likes_received\": 0, \"post_count\": 6, \"posts_read\": 23, \"topic_count\": 1, \"topics_entered\": 6, \"user\": {\"id\": 640, \"username\": \"Stefano_Fioravanzo\", \"name\": \"Stefano Fioravanzo\", \"avatar_template\": \"/user_avatar/discourse.jupyter.org/stefano_fioravanzo/{size}/849_2.png\", \"title\": null}, \"username\": \"Stefano_Fioravanzo\"}, {\"days_visited\": 19, \"id\": 333, \"likes_given\": 2, \"likes_received\": 0, \"post_count\": 6, \"posts_read\": 33, \"topic_count\": 0, \"topics_entered\": 1, \"user\": {\"id\": 333, \"username\": \"cmbui\", \"name\": \"Christina\", \"avatar_template\": \"/user_avatar/discourse.jupyter.org/cmbui/{size}/436_2.png\", \"title\": null}, \"username\": \"cmbui\"}, {\"days_visited\": 8, \"id\": 562, \"likes_given\": 0, \"likes_received\": 0, \"post_count\": 5, \"posts_read\": 25, \"topic_count\": 0, \"topics_entered\": 4, \"user\": {\"id\": 562, \"username\": \"Shane_Canon\", \"name\": \"Shane Canon\", \"avatar_template\": \"/user_avatar/discourse.jupyter.org/shane_canon/{size}/783_2.png\", \"title\": null}, \"username\": \"Shane_Canon\"}, {\"days_visited\": 14, \"id\": 487, \"likes_given\": 0, \"likes_received\": 0, \"post_count\": 7, \"posts_read\": 83, \"topic_count\": 4, \"topics_entered\": 25, \"user\": {\"id\": 487, \"username\": \"D4rkM4atter\", \"name\": \"\", \"avatar_template\": \"/user_avatar/discourse.jupyter.org/d4rkm4atter/{size}/663_2.png\", \"title\": null}, \"username\": \"D4rkM4atter\"}]}};\n",
       "      var embedOpt = {\"mode\": \"vega-lite\"};\n",
       "\n",
       "      function showError(el, error){\n",
       "          el.innerHTML = ('<div class=\"error\" style=\"color:red;\">'\n",
       "                          + '<p>JavaScript Error: ' + error.message + '</p>'\n",
       "                          + \"<p>This usually means there's a typo in your chart specification. \"\n",
       "                          + \"See the javascript console for the full traceback.</p>\"\n",
       "                          + '</div>');\n",
       "          throw error;\n",
       "      }\n",
       "      const el = document.getElementById('altair-viz-5');\n",
       "      vegaEmbed(\"#altair-viz-5\", spec, embedOpt)\n",
       "        .catch(error => showError(el, error));\n",
       "    });\n",
       "\n",
       "  </script>"
      ],
      "text/plain": [
       "Chart({\n",
       "  data:     days_visited   id  likes_given  likes_received  post_count  posts_read  \\\n",
       "  1             92    3          207             127         137         968   \n",
       "  0             79    6          207             108         143        1422   \n",
       "  3             91    8           12              65          57         807   \n",
       "  5             80  116           27              58          45         634   \n",
       "  2             67   24           16              54          74         670   \n",
       "  4             60   12            9              43          46         801   \n",
       "  6             20  220            1              29          37         305   \n",
       "  7             68   73           16              22          27        1554   \n",
       "  9             34  485           47              20          21         268   \n",
       "  18            44  222            7              18          11         142   \n",
       "  40            15  237            1              18           6          51   \n",
       "  8             55   99           37              16          22         505   \n",
       "  21            25   34            3              16           9         157   \n",
       "  11            75   30           67              16          20         292   \n",
       "  10            69   11           64              13          20         911   \n",
       "  14            88   77            8              12          14         784   \n",
       "  33            26  268            5              12           7         107   \n",
       "  15            20  234            3              11          12          65   \n",
       "  19            32  372            6              10          11         165   \n",
       "  20             9  679            1              10           9          87   \n",
       "  42            23    7           20               8           6         224   \n",
       "  17            28   60            7               8          11         321   \n",
       "  23             8  556            3               7           8          70   \n",
       "  47            12  352            0               7           5          50   \n",
       "  41            18    9            0               7           6          62   \n",
       "  48            17  141           20               7           5         138   \n",
       "  37            10  145            0               7           6          41   \n",
       "  22            10  510            0               6           8          10   \n",
       "  44            10  351            0               6           5          53   \n",
       "  16            38  432           30               6          12         283   \n",
       "  30            53  239            2               6           7         291   \n",
       "  36             6  565            3               5           6          35   \n",
       "  32            17   71            1               4           7         111   \n",
       "  12            40  217           24               4          17         179   \n",
       "  46            12  430            2               3           5          42   \n",
       "  25            10  686            0               3           8          92   \n",
       "  31            61  303            7               3           7         258   \n",
       "  13            34  419            0               3          14          78   \n",
       "  39            13  227            7               2           6         176   \n",
       "  29            11  390            1               2           7          37   \n",
       "  45            11  590            0               2           5          48   \n",
       "  34            10  195            0               1           6          34   \n",
       "  28            18  462            0               1           7          73   \n",
       "  26             7  254            9               1           8          92   \n",
       "  24            13  566            0               1           8          32   \n",
       "  49             6  699            0               1           5          39   \n",
       "  35             7  640            0               0           6          23   \n",
       "  38            19  333            2               0           6          33   \n",
       "  43             8  562            0               0           5          25   \n",
       "  27            14  487            0               0           7          83   \n",
       "  \n",
       "      topic_count  topics_entered  \\\n",
       "  1            33             250   \n",
       "  0            11             333   \n",
       "  3             4             171   \n",
       "  5             5             127   \n",
       "  2             6             257   \n",
       "  4             7             144   \n",
       "  6             1              69   \n",
       "  7             2             336   \n",
       "  9             1              54   \n",
       "  18            2              16   \n",
       "  40            2              10   \n",
       "  8             2             101   \n",
       "  21            3              16   \n",
       "  11            2              56   \n",
       "  10            1             200   \n",
       "  14            0             166   \n",
       "  33            3              21   \n",
       "  15            3               7   \n",
       "  19            1              28   \n",
       "  20            0              18   \n",
       "  42            0              30   \n",
       "  17            0              42   \n",
       "  23            0              12   \n",
       "  47            0               3   \n",
       "  41            0              12   \n",
       "  48            1              21   \n",
       "  37            3               9   \n",
       "  22            2               4   \n",
       "  44            1              12   \n",
       "  16            2              65   \n",
       "  30            0              91   \n",
       "  36            0               4   \n",
       "  32            1              11   \n",
       "  12            0              37   \n",
       "  46            1              15   \n",
       "  25            3              29   \n",
       "  31            1              62   \n",
       "  13            7              21   \n",
       "  39            0              28   \n",
       "  29            6              17   \n",
       "  45            1               8   \n",
       "  34            0               8   \n",
       "  28            3              13   \n",
       "  26            0              10   \n",
       "  24            2               9   \n",
       "  49            5              14   \n",
       "  35            1               6   \n",
       "  38            0               1   \n",
       "  43            0               4   \n",
       "  27            4              25   \n",
       "  \n",
       "                                                   user             username  \n",
       "  1   {'id': 3, 'username': 'choldgraf', 'name': 'Ch...            choldgraf  \n",
       "  0   {'id': 6, 'username': 'betatim', 'name': 'Tim ...              betatim  \n",
       "  3   {'id': 8, 'username': 'minrk', 'name': 'Min RK...                minrk  \n",
       "  5   {'id': 116, 'username': 'sgibson91', 'name': '...            sgibson91  \n",
       "  2   {'id': 24, 'username': 'psychemedia', 'name': ...          psychemedia  \n",
       "  4   {'id': 12, 'username': 'yuvipanda', 'name': 'Y...            yuvipanda  \n",
       "  6   {'id': 220, 'username': 'jasongrout', 'name': ...           jasongrout  \n",
       "  7   {'id': 73, 'username': 'manics', 'name': 'Simo...               manics  \n",
       "  9   {'id': 485, 'username': 'rolweber', 'name': 'R...             rolweber  \n",
       "  18  {'id': 222, 'username': 'tgeorgeux', 'name': '...            tgeorgeux  \n",
       "  40  {'id': 237, 'username': 'MSeal', 'name': 'Matt...                MSeal  \n",
       "  8   {'id': 99, 'username': 'Zsailer', 'name': 'Zac...              Zsailer  \n",
       "  21  {'id': 34, 'username': 'danielballan', 'name':...         danielballan  \n",
       "  11  {'id': 30, 'username': 'consideRatio', 'name':...         consideRatio  \n",
       "  10  {'id': 11, 'username': 'fomightez', 'name': 'W...            fomightez  \n",
       "  14  {'id': 77, 'username': 'jtp', 'name': 'Jeremy ...                  jtp  \n",
       "  33  {'id': 268, 'username': 'afshin', 'name': 'A. ...               afshin  \n",
       "  15  {'id': 234, 'username': 'fmaussion', 'name': '...            fmaussion  \n",
       "  19  {'id': 372, 'username': 'davclark', 'name': 'D...             davclark  \n",
       "  20  {'id': 679, 'username': 'bollwyvl', 'name': 'N...             bollwyvl  \n",
       "  42  {'id': 7, 'username': 'willingc', 'name': 'Car...             willingc  \n",
       "  17  {'id': 60, 'username': 'fm75', 'name': 'Fred M...                 fm75  \n",
       "  23  {'id': 556, 'username': 'blink1073', 'name': '...            blink1073  \n",
       "  47  {'id': 352, 'username': 'jhornig', 'name': 'Jo...              jhornig  \n",
       "  41  {'id': 9, 'username': 'ellisonbg', 'name': 'Br...            ellisonbg  \n",
       "  48  {'id': 141, 'username': 'saulshanabrook', 'nam...       saulshanabrook  \n",
       "  37  {'id': 145, 'username': 'hhuuggoo', 'name': 's...             hhuuggoo  \n",
       "  22  {'id': 510, 'username': 'lorankary', 'name': '...            lorankary  \n",
       "  44  {'id': 351, 'username': 'henchc', 'name': 'Chr...               henchc  \n",
       "  16  {'id': 432, 'username': 'ondrejj', 'name': 'On...              ondrejj  \n",
       "  30  {'id': 239, 'username': 'jhermann', 'name': 'J...             jhermann  \n",
       "  36  {'id': 565, 'username': 'danielskatz', 'name':...          danielskatz  \n",
       "  32  {'id': 71, 'username': 'nuest', 'name': 'Danie...                nuest  \n",
       "  12  {'id': 217, 'username': 'kevin-bates', 'name':...          kevin-bates  \n",
       "  46  {'id': 430, 'username': 'rokroskar', 'name': '...            rokroskar  \n",
       "  25  {'id': 686, 'username': 'sqqqrly', 'name': 'DA...              sqqqrly  \n",
       "  31  {'id': 303, 'username': 'ian-r-rose', 'name': ...           ian-r-rose  \n",
       "  13  {'id': 419, 'username': 'alvinhuff', 'name': '...            alvinhuff  \n",
       "  39  {'id': 227, 'username': 'sterlinm', 'name': 'M...             sterlinm  \n",
       "  29  {'id': 390, 'username': 'ernstch', 'name': 'Er...              ernstch  \n",
       "  45  {'id': 590, 'username': 'nscozzaro', 'name': '...            nscozzaro  \n",
       "  34  {'id': 195, 'username': 'rcthomas', 'name': ''...             rcthomas  \n",
       "  28  {'id': 462, 'username': 'rahuldave', 'name': '...            rahuldave  \n",
       "  26  {'id': 254, 'username': 'mathematicalmichael',...  mathematicalmichael  \n",
       "  24  {'id': 566, 'username': 'Shreyas_Cholia', 'nam...       Shreyas_Cholia  \n",
       "  49  {'id': 699, 'username': 'josh', 'name': None, ...                 josh  \n",
       "  35  {'id': 640, 'username': 'Stefano_Fioravanzo', ...   Stefano_Fioravanzo  \n",
       "  38  {'id': 333, 'username': 'cmbui', 'name': 'Chri...                cmbui  \n",
       "  43  {'id': 562, 'username': 'Shane_Canon', 'name':...          Shane_Canon  \n",
       "  27  {'id': 487, 'username': 'D4rkM4atter', 'name':...          D4rkM4atter  ,\n",
       "  encoding: FacetedEncoding({\n",
       "    x: X({\n",
       "      field: 'username',\n",
       "      type: 'nominal'\n",
       "    }),\n",
       "    y: Y({\n",
       "      field: 'likes_received',\n",
       "      type: 'quantitative'\n",
       "    })\n",
       "  }),\n",
       "  mark: 'bar'\n",
       "})"
      ]
     },
     "execution_count": 18,
     "metadata": {},
     "output_type": "execute_result"
    }
   ],
   "source": [
    "plot_user_data(users.head(50), 'likes_received')"
   ]
  },
  {
   "cell_type": "code",
   "execution_count": 19,
   "metadata": {
    "papermill": {
     "duration": 0.074898,
     "end_time": "2019-08-01T17:02:04.378603",
     "exception": false,
     "start_time": "2019-08-01T17:02:04.303705",
     "status": "completed"
    },
    "tags": []
   },
   "outputs": [
    {
     "data": {
      "text/html": [
       "<script src=\"https://cdn.rawgit.com/parente/4c3e6936d0d7a46fd071/raw/65b816fb9bdd3c28b4ddf3af602bfd6015486383/code_toggle.js\"></script>\n"
      ],
      "text/plain": [
       "<IPython.core.display.HTML object>"
      ]
     },
     "metadata": {},
     "output_type": "display_data"
    }
   ],
   "source": [
    "%%html\n",
    "<script src=\"https://cdn.rawgit.com/parente/4c3e6936d0d7a46fd071/raw/65b816fb9bdd3c28b4ddf3af602bfd6015486383/code_toggle.js\"></script>"
   ]
  }
 ],
 "metadata": {
  "kernelspec": {
   "display_name": "Python 3",
   "language": "python",
   "name": "python3"
  },
  "language_info": {
   "codemirror_mode": {
    "name": "ipython",
    "version": 3
   },
   "file_extension": ".py",
   "mimetype": "text/x-python",
   "name": "python",
   "nbconvert_exporter": "python",
   "pygments_lexer": "ipython3",
   "version": "3.6.5"
  },
  "papermill": {
   "duration": 5.515271,
   "end_time": "2019-08-01T17:02:05.423535",
   "environment_variables": {},
   "exception": null,
   "input_path": "./discourse.ipynb",
   "output_path": "../reports/2019-07-02_2019-08-01/discourse.ipynb",
   "parameters": {
    "renderer": "kaggle"
   },
   "start_time": "2019-08-01T17:01:59.908264",
   "version": "1.0.1"
  },
  "widgets": {
   "application/vnd.jupyter.widget-state+json": {
    "state": {},
    "version_major": 2,
    "version_minor": 0
   }
  }
 },
 "nbformat": 4,
 "nbformat_minor": 4
}