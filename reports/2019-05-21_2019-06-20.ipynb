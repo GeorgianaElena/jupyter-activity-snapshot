{
 "cells": [
  {
   "cell_type": "code",
   "execution_count": 1,
   "metadata": {
    "jupyter": {
     "source_hidden": true
    },
    "papermill": {
     "duration": 1.256653,
     "end_time": "2019-06-20T17:09:09.356711",
     "exception": false,
     "start_time": "2019-06-20T17:09:08.100058",
     "status": "completed"
    },
    "tags": [
     "hide_input"
    ]
   },
   "outputs": [],
   "source": [
    "import requests\n",
    "from IPython.display import Markdown\n",
    "from tqdm import tqdm, tqdm_notebook\n",
    "import pandas as pd\n",
    "from matplotlib import pyplot as plt\n",
    "import altair as alt\n",
    "from requests.utils import quote\n",
    "import os\n",
    "from github import Github"
   ]
  },
  {
   "cell_type": "code",
   "execution_count": 2,
   "metadata": {
    "jupyter": {
     "source_hidden": true
    },
    "papermill": {
     "duration": 0.082734,
     "end_time": "2019-06-20T17:09:09.478612",
     "exception": false,
     "start_time": "2019-06-20T17:09:09.395878",
     "status": "completed"
    },
    "tags": [
     "parameters",
     "hide_input"
    ]
   },
   "outputs": [],
   "source": [
    "end_date = \"2019-06-01\"\n",
    "start_date = \"2019-05-01\"\n",
    "renderer = \"jupyterlab\""
   ]
  },
  {
   "cell_type": "code",
   "execution_count": 3,
   "metadata": {
    "jupyter": {
     "source_hidden": true
    },
    "papermill": {
     "duration": 0.054278,
     "end_time": "2019-06-20T17:09:09.595552",
     "exception": false,
     "start_time": "2019-06-20T17:09:09.541274",
     "status": "completed"
    },
    "tags": [
     "injected-parameters"
    ]
   },
   "outputs": [],
   "source": [
    "# Parameters\n",
    "end_date = \"2019-06-20\"\n",
    "start_date = \"2019-05-21\"\n",
    "renderer = \"jupyterlab\"\n"
   ]
  },
  {
   "cell_type": "code",
   "execution_count": 4,
   "metadata": {
    "jupyter": {
     "source_hidden": true
    },
    "papermill": {
     "duration": 0.041544,
     "end_time": "2019-06-20T17:09:09.662316",
     "exception": false,
     "start_time": "2019-06-20T17:09:09.620772",
     "status": "completed"
    },
    "tags": []
   },
   "outputs": [
    {
     "data": {
      "text/plain": [
       "RendererRegistry.enable('jupyterlab')"
      ]
     },
     "execution_count": 4,
     "metadata": {},
     "output_type": "execute_result"
    }
   ],
   "source": [
    "# Create the renderer we want\n",
    "alt.renderers.enable(renderer)"
   ]
  },
  {
   "cell_type": "code",
   "execution_count": 5,
   "metadata": {
    "jupyter": {
     "source_hidden": true
    },
    "papermill": {
     "duration": 0.047531,
     "end_time": "2019-06-20T17:09:09.742021",
     "exception": false,
     "start_time": "2019-06-20T17:09:09.694490",
     "status": "completed"
    },
    "tags": [
     "hide_input"
    ]
   },
   "outputs": [],
   "source": [
    "# Discourse API key\n",
    "api = {'Api-Key': os.environ['DISCOURSE_API_KEY'],\n",
    "       'Api-Username': os.environ['DISCOURSE_API_USERNAME']}"
   ]
  },
  {
   "cell_type": "code",
   "execution_count": 6,
   "metadata": {
    "jupyter": {
     "source_hidden": true
    },
    "papermill": {
     "duration": 0.051172,
     "end_time": "2019-06-20T17:09:09.821879",
     "exception": false,
     "start_time": "2019-06-20T17:09:09.770707",
     "status": "completed"
    },
    "tags": [
     "hide_input"
    ]
   },
   "outputs": [],
   "source": [
    "# Discourse\n",
    "def topics_to_markdown(topics, n_list=10):\n",
    "    body = []\n",
    "    for _, topic in topics.iterrows():\n",
    "        title = topic['fancy_title']\n",
    "        slug = topic['slug']\n",
    "        posts_count = topic['posts_count']\n",
    "        url = f'https://discourse.jupyter.org/t/{slug}'\n",
    "        body.append(f'* [{title}]({url}) ({posts_count} posts)')\n",
    "    body = body[:n_list]\n",
    "    return '\\n'.join(body)\n",
    "\n",
    "def counts_from_activity(activity):\n",
    "    counts = activity.groupby('category_id').count()['bookmarked'].reset_index()\n",
    "    counts['parent_category'] = None\n",
    "    for ii, irow in counts.iterrows():\n",
    "        if parent_categories[irow['category_id']] is not None:\n",
    "            counts.loc[ii, 'parent_category'] = parent_categories[irow['category_id']]\n",
    "\n",
    "    counts['category_id'] = counts['category_id'].map(lambda a: category_mapping[a])\n",
    "    counts['parent_category'] = counts['parent_category'].map(lambda a: category_mapping[a] if a is not None else 'parent')\n",
    "    is_parent = counts['parent_category'] == 'parent'\n",
    "    counts.loc[is_parent, 'parent_category'] = counts.loc[is_parent, 'category_id'] \n",
    "    counts['parent/category'] = counts.apply(lambda a: a['parent_category']+'/'+a['category_id'], axis=1)\n",
    "    counts = counts.sort_values(['parent_category', 'bookmarked'], ascending=False)\n",
    "    return counts\n",
    "\n",
    "# GitHub\n",
    "def run_github_query(query, github_base=\"https://api.github.com/search/issues\"):\n",
    "    gh = Github(os.environ[\"GITHUB_ACCESS_TOKEN\"])\n",
    "    resp = gh.search_issues(query)\n",
    "    data = []\n",
    "    for ii in range(0, 10):\n",
    "        items = resp.get_page(ii)\n",
    "        if len(items) > 0:\n",
    "            items_list = [item.raw_data for item in items]\n",
    "            data.append(pd.DataFrame.from_records(items_list))\n",
    "        else:\n",
    "            break\n",
    "    return pd.concat(data)\n"
   ]
  },
  {
   "cell_type": "markdown",
   "metadata": {
    "papermill": {
     "duration": 0.035959,
     "end_time": "2019-06-20T17:09:09.900534",
     "exception": false,
     "start_time": "2019-06-20T17:09:09.864575",
     "status": "completed"
    },
    "tags": []
   },
   "source": [
    "# Community forum activity\n",
    "\n",
    "The [Jupyter Community Forum](https://discourse.jupyter.org) is a place for Jovyans across the\n",
    "community to talk about Jupyter tools in interactive computing and how they fit into their\n",
    "workflows. It's also a place for developers to share ideas, tools, tips, and help one another.\n",
    "\n",
    "Below are a few updates from activity in the Discourse. For more detailed information about\n",
    "the activity on the Community Forum, check out these links:\n",
    "\n",
    "* [The users page](https://discourse.jupyter.org/u) has information about user activity\n",
    "* [The top posts page](https://discourse.jupyter.org/top) contains a list of top posts, sorted\n",
    "  by various metrics."
   ]
  },
  {
   "cell_type": "code",
   "execution_count": 7,
   "metadata": {
    "jupyter": {
     "source_hidden": true
    },
    "papermill": {
     "duration": 0.233467,
     "end_time": "2019-06-20T17:09:10.161104",
     "exception": false,
     "start_time": "2019-06-20T17:09:09.927637",
     "status": "completed"
    },
    "tags": [
     "hide_input"
    ]
   },
   "outputs": [],
   "source": [
    "# Get categories for IDs\n",
    "url = \"https://discourse.jupyter.org/site.json\"\n",
    "resp = requests.get(url, headers=api)\n",
    "category_mapping = {cat['id']: cat['name'] for cat in resp.json()['categories']}\n",
    "parent_categories = {cat['id']: cat.get(\"parent_category_id\", None) for cat in resp.json()['categories']}"
   ]
  },
  {
   "cell_type": "code",
   "execution_count": 8,
   "metadata": {
    "jupyter": {
     "source_hidden": true
    },
    "papermill": {
     "duration": 0.037958,
     "end_time": "2019-06-20T17:09:10.221371",
     "exception": false,
     "start_time": "2019-06-20T17:09:10.183413",
     "status": "completed"
    },
    "tags": [
     "hide_input"
    ]
   },
   "outputs": [],
   "source": [
    "# Base URL to use\n",
    "url = \"https://discourse.jupyter.org/latest.json\""
   ]
  },
  {
   "cell_type": "markdown",
   "metadata": {
    "papermill": {
     "duration": 0.038541,
     "end_time": "2019-06-20T17:09:10.287010",
     "exception": false,
     "start_time": "2019-06-20T17:09:10.248469",
     "status": "completed"
    },
    "tags": []
   },
   "source": [
    "## Topics with lots of likes\n",
    "\n",
    "\"Likes\" are a way for community members to say thanks for a helpful post, show their\n",
    "support for an idea, or generally to share a little positivity with somebody else.\n",
    "These are topics that have generated lots of likes in recent history."
   ]
  },
  {
   "cell_type": "code",
   "execution_count": 9,
   "metadata": {
    "jupyter": {
     "source_hidden": true
    },
    "papermill": {
     "duration": 0.198864,
     "end_time": "2019-06-20T17:09:10.529940",
     "exception": false,
     "start_time": "2019-06-20T17:09:10.331076",
     "status": "completed"
    },
    "tags": [
     "hide_input"
    ]
   },
   "outputs": [
    {
     "data": {
      "text/markdown": [
       "* [Introduce yourself!](https://discourse.jupyter.org/t/introduce-yourself) (93 posts)\n",
       "* [{WIP} Re-Design of Jupyter.org Website](https://discourse.jupyter.org/t/wip-re-design-of-jupyter-org-website) (29 posts)\n",
       "* [Jupyter Community Calls](https://discourse.jupyter.org/t/jupyter-community-calls) (23 posts)\n",
       "* [Help us choose an updated &ldquo;Launch Binder&rdquo; badge!](https://discourse.jupyter.org/t/help-us-choose-an-updated-launch-binder-badge) (21 posts)\n",
       "* [PyCon 2019 and mybinder.org](https://discourse.jupyter.org/t/pycon-2019-and-mybinder-org) (17 posts)\n",
       "* [Jupyter community workshop: proposal on diversity, inclusion and accessibility](https://discourse.jupyter.org/t/jupyter-community-workshop-proposal-on-diversity-inclusion-and-accessibility) (20 posts)\n",
       "* [The Binder Federation](https://discourse.jupyter.org/t/the-binder-federation) (13 posts)\n",
       "* [Sunset the GitHub repo jupyter/help?](https://discourse.jupyter.org/t/sunset-the-github-repo-jupyter-help) (17 posts)\n",
       "* [Binder/BinderHub Workshops &ndash; Help Wanted!](https://discourse.jupyter.org/t/binder-binderhub-workshops-help-wanted) (25 posts)\n",
       "* [Creating a new Binder-at-home tool](https://discourse.jupyter.org/t/creating-a-new-binder-at-home-tool) (13 posts)"
      ],
      "text/plain": [
       "<IPython.core.display.Markdown object>"
      ]
     },
     "execution_count": 9,
     "metadata": {},
     "output_type": "execute_result"
    }
   ],
   "source": [
    "params = {\"order\": \"likes\", \"ascending\": \"False\"}\n",
    "resp = requests.get(url, headers=api, params=params)\n",
    "\n",
    "# Topics with the most likes in recent history\n",
    "liked = pd.DataFrame(resp.json()['topic_list']['topics'])\n",
    "Markdown(topics_to_markdown(liked))"
   ]
  },
  {
   "cell_type": "markdown",
   "metadata": {
    "papermill": {
     "duration": 0.039649,
     "end_time": "2019-06-20T17:09:10.592436",
     "exception": false,
     "start_time": "2019-06-20T17:09:10.552787",
     "status": "completed"
    },
    "tags": []
   },
   "source": [
    "## Active topics on Discourse\n",
    "\n",
    "These are topics with lots of activity in recent history."
   ]
  },
  {
   "cell_type": "code",
   "execution_count": 10,
   "metadata": {
    "jupyter": {
     "source_hidden": true
    },
    "papermill": {
     "duration": 0.24872,
     "end_time": "2019-06-20T17:09:10.862493",
     "exception": false,
     "start_time": "2019-06-20T17:09:10.613773",
     "status": "completed"
    },
    "tags": [
     "hide_input"
    ]
   },
   "outputs": [
    {
     "data": {
      "text/markdown": [
       "* [Introduce yourself!](https://discourse.jupyter.org/t/introduce-yourself) (93 posts)\n",
       "* [Would a &ldquo;The Littlest Binder&rdquo; be useful?](https://discourse.jupyter.org/t/would-a-the-littlest-binder-be-useful) (30 posts)\n",
       "* [Tip: embed custom github content in a Binder link with nbgitpuller](https://discourse.jupyter.org/t/tip-embed-custom-github-content-in-a-binder-link-with-nbgitpuller) (30 posts)\n",
       "* [{WIP} Re-Design of Jupyter.org Website](https://discourse.jupyter.org/t/wip-re-design-of-jupyter-org-website) (29 posts)\n",
       "* [Plugins of considerations](https://discourse.jupyter.org/t/plugins-of-considerations) (28 posts)\n",
       "* [A proposal for JupyterHub communications](https://discourse.jupyter.org/t/a-proposal-for-jupyterhub-communications) (26 posts)\n",
       "* [Binder/BinderHub Workshops &ndash; Help Wanted!](https://discourse.jupyter.org/t/binder-binderhub-workshops-help-wanted) (25 posts)\n",
       "* [Jupyter Community Calls](https://discourse.jupyter.org/t/jupyter-community-calls) (23 posts)\n",
       "* [Help us choose an updated &ldquo;Launch Binder&rdquo; badge!](https://discourse.jupyter.org/t/help-us-choose-an-updated-launch-binder-badge) (21 posts)\n",
       "* [Potential collaboration on user research?](https://discourse.jupyter.org/t/potential-collaboration-on-user-research) (21 posts)"
      ],
      "text/plain": [
       "<IPython.core.display.Markdown object>"
      ]
     },
     "execution_count": 10,
     "metadata": {},
     "output_type": "execute_result"
    }
   ],
   "source": [
    "params = {\"order\": \"posts\", \"ascending\": \"False\"}\n",
    "resp = requests.get(url, headers=api, params=params)\n",
    "\n",
    "# Topics with the most posts in recent history\n",
    "posts = pd.DataFrame(resp.json()['topic_list']['topics'])\n",
    "Markdown(topics_to_markdown(posts))"
   ]
  },
  {
   "cell_type": "code",
   "execution_count": 11,
   "metadata": {
    "jupyter": {
     "source_hidden": true
    },
    "papermill": {
     "duration": 0.129688,
     "end_time": "2019-06-20T17:09:11.028034",
     "exception": false,
     "start_time": "2019-06-20T17:09:10.898346",
     "status": "completed"
    },
    "tags": [
     "hide_input"
    ]
   },
   "outputs": [
    {
     "data": {
      "application/vnd.vegalite.v2+json": {
       "$schema": "https://vega.github.io/schema/vega-lite/v2.6.0.json",
       "config": {
        "view": {
         "height": 300,
         "width": 400
        }
       },
       "data": {
        "name": "data-be1d796022f59c0c05ca62da7620f64b"
       },
       "datasets": {
        "data-be1d796022f59c0c05ca62da7620f64b": [
         {
          "bookmarked": 1,
          "category_id": "Admin requests",
          "parent/category": "Site Feedback/Admin requests",
          "parent_category": "Site Feedback"
         },
         {
          "bookmarked": 5,
          "category_id": "Meta",
          "parent/category": "Meta/Meta",
          "parent_category": "Meta"
         },
         {
          "bookmarked": 1,
          "category_id": "announcements",
          "parent/category": "Meta/announcements",
          "parent_category": "Meta"
         },
         {
          "bookmarked": 2,
          "category_id": "JupyterHub",
          "parent/category": "JupyterHub/JupyterHub",
          "parent_category": "JupyterHub"
         },
         {
          "bookmarked": 2,
          "category_id": "discuss",
          "parent/category": "JupyterHub/discuss",
          "parent_category": "JupyterHub"
         },
         {
          "bookmarked": 1,
          "category_id": "Enterprise Gateway",
          "parent/category": "Enterprise Gateway/Enterprise Gateway",
          "parent_category": "Enterprise Gateway"
         },
         {
          "bookmarked": 4,
          "category_id": "Community Chat",
          "parent/category": "Community Chat/Community Chat",
          "parent_category": "Community Chat"
         },
         {
          "bookmarked": 6,
          "category_id": "Binder",
          "parent/category": "Binder/Binder",
          "parent_category": "Binder"
         },
         {
          "bookmarked": 6,
          "category_id": "discuss",
          "parent/category": "Binder/discuss",
          "parent_category": "Binder"
         },
         {
          "bookmarked": 1,
          "category_id": "BinderHub",
          "parent/category": "Binder/BinderHub",
          "parent_category": "Binder"
         },
         {
          "bookmarked": 1,
          "category_id": "mybinder.org ops",
          "parent/category": "Binder/mybinder.org ops",
          "parent_category": "Binder"
         }
        ]
       },
       "encoding": {
        "color": {
         "field": "parent_category",
         "type": "nominal"
        },
        "x": {
         "field": "parent/category",
         "sort": [
          "Admin requests",
          "Meta",
          "announcements",
          "JupyterHub",
          "discuss",
          "Enterprise Gateway",
          "Community Chat",
          "Binder",
          "discuss",
          "BinderHub",
          "mybinder.org ops"
         ],
         "type": "nominal"
        },
        "y": {
         "field": "bookmarked",
         "type": "quantitative"
        }
       },
       "height": 300,
       "mark": "bar",
       "title": "Activity by category",
       "width": 700
      },
      "text/plain": [
       "<VegaLite 2 object>\n",
       "\n",
       "If you see this message, it means the renderer has not been properly enabled\n",
       "for the frontend that you are using. For more information, see\n",
       "https://altair-viz.github.io/user_guide/troubleshooting.html\n"
      ]
     },
     "execution_count": 11,
     "metadata": {},
     "output_type": "execute_result"
    }
   ],
   "source": [
    "counts = counts_from_activity(posts)\n",
    "alt.Chart(data=counts, width=700, height=300, title=\"Activity by category\").mark_bar().encode(\n",
    "    x=alt.X(\"parent/category\", sort=alt.Sort(counts['category_id'].values.tolist())),\n",
    "    y=\"bookmarked\",\n",
    "    color=\"parent_category\"\n",
    ")"
   ]
  },
  {
   "cell_type": "markdown",
   "metadata": {
    "papermill": {
     "duration": 0.047547,
     "end_time": "2019-06-20T17:09:11.120114",
     "exception": false,
     "start_time": "2019-06-20T17:09:11.072567",
     "status": "completed"
    },
    "tags": []
   },
   "source": [
    "## Recently-created topics\n",
    "\n",
    "These are topics that were recently created, sorted by the amount of activity\n",
    "in each one."
   ]
  },
  {
   "cell_type": "code",
   "execution_count": 12,
   "metadata": {
    "jupyter": {
     "source_hidden": true
    },
    "papermill": {
     "duration": 0.409155,
     "end_time": "2019-06-20T17:09:11.568271",
     "exception": false,
     "start_time": "2019-06-20T17:09:11.159116",
     "status": "completed"
    },
    "tags": [
     "hide_input"
    ]
   },
   "outputs": [
    {
     "data": {
      "text/markdown": [
       "* [Bitcoin mining (abuse/security)](https://discourse.jupyter.org/t/bitcoin-mining-abuse-security) (16 posts)\n",
       "* [I get `Read timed out` errors on when pushing image OVH](https://discourse.jupyter.org/t/i-get-read-timed-out-errors-on-when-pushing-image-ovh) (7 posts)\n",
       "* [Extension that is notified on notebook open event](https://discourse.jupyter.org/t/extension-that-is-notified-on-notebook-open-event) (6 posts)\n",
       "* [Too many redirects - Keycloak Authentication](https://discourse.jupyter.org/t/too-many-redirects-keycloak-authentication) (3 posts)\n",
       "* [JupyterHub, Binder workshop](https://discourse.jupyter.org/t/jupyterhub-binder-workshop) (3 posts)\n",
       "* [Welcoming our new JupyterHub team member: Sarah!](https://discourse.jupyter.org/t/welcoming-our-new-jupyterhub-team-member-sarah) (3 posts)\n",
       "* [Document domain registration for JupyterHub](https://discourse.jupyter.org/t/document-domain-registration-for-jupyterhub) (3 posts)\n",
       "* [0.5 G for memory limit?](https://discourse.jupyter.org/t/0-5-g-for-memory-limit) (3 posts)\n",
       "* [Quick question on jupyterlab doc regarding &lt;lab-location&gt;](https://discourse.jupyter.org/t/quick-question-on-jupyterlab-doc-regarding-lab-location) (3 posts)\n",
       "* [Mybinder failing to load Jupyter widget extension](https://discourse.jupyter.org/t/mybinder-failing-to-load-jupyter-widget-extension) (2 posts)"
      ],
      "text/plain": [
       "<IPython.core.display.Markdown object>"
      ]
     },
     "execution_count": 12,
     "metadata": {},
     "output_type": "execute_result"
    }
   ],
   "source": [
    "params = {\"order\": \"created\", \"ascending\": \"False\"}\n",
    "resp = requests.get(url, headers=api, params=params)\n",
    "\n",
    "# Sort created by the most posted for recently-created posts\n",
    "created = pd.DataFrame(resp.json()['topic_list']['topics'])\n",
    "created = created.sort_values('posts_count', ascending=False)\n",
    "Markdown(topics_to_markdown(created))"
   ]
  },
  {
   "cell_type": "code",
   "execution_count": 13,
   "metadata": {
    "jupyter": {
     "source_hidden": true
    },
    "papermill": {
     "duration": 0.094893,
     "end_time": "2019-06-20T17:09:11.690416",
     "exception": false,
     "start_time": "2019-06-20T17:09:11.595523",
     "status": "completed"
    },
    "tags": [
     "hide_input"
    ]
   },
   "outputs": [
    {
     "data": {
      "application/vnd.vegalite.v2+json": {
       "$schema": "https://vega.github.io/schema/vega-lite/v2.6.0.json",
       "config": {
        "view": {
         "height": 300,
         "width": 400
        }
       },
       "data": {
        "name": "data-6b9c12e19e1ec7c6a85a14546406394f"
       },
       "datasets": {
        "data-6b9c12e19e1ec7c6a85a14546406394f": [
         {
          "bookmarked": 4,
          "category_id": "Q&A",
          "parent/category": "Q&A/Q&A",
          "parent_category": "Q&A"
         },
         {
          "bookmarked": 0,
          "category_id": "Meta",
          "parent/category": "Meta/Meta",
          "parent_category": "Meta"
         },
         {
          "bookmarked": 2,
          "category_id": "JupyterLab",
          "parent/category": "JupyterLab/JupyterLab",
          "parent_category": "JupyterLab"
         },
         {
          "bookmarked": 2,
          "category_id": "Zero to JupyterHub on Kubernetes",
          "parent/category": "JupyterHub/Zero to JupyterHub on Kubernetes",
          "parent_category": "JupyterHub"
         },
         {
          "bookmarked": 1,
          "category_id": "JupyterHub",
          "parent/category": "JupyterHub/JupyterHub",
          "parent_category": "JupyterHub"
         },
         {
          "bookmarked": 1,
          "category_id": "The Littlest JupyterHub",
          "parent/category": "JupyterHub/The Littlest JupyterHub",
          "parent_category": "JupyterHub"
         },
         {
          "bookmarked": 1,
          "category_id": "discuss",
          "parent/category": "JupyterHub/discuss",
          "parent_category": "JupyterHub"
         },
         {
          "bookmarked": 1,
          "category_id": "team",
          "parent/category": "JupyterHub/team",
          "parent_category": "JupyterHub"
         },
         {
          "bookmarked": 1,
          "category_id": "Community Chat",
          "parent/category": "Community Chat/Community Chat",
          "parent_category": "Community Chat"
         },
         {
          "bookmarked": 2,
          "category_id": "Binder",
          "parent/category": "Binder/Binder",
          "parent_category": "Binder"
         },
         {
          "bookmarked": 2,
          "category_id": "discuss",
          "parent/category": "Binder/discuss",
          "parent_category": "Binder"
         }
        ]
       },
       "encoding": {
        "color": {
         "field": "parent_category",
         "type": "nominal"
        },
        "x": {
         "field": "parent/category",
         "sort": [
          "Q&A",
          "Meta",
          "JupyterLab",
          "Zero to JupyterHub on Kubernetes",
          "JupyterHub",
          "The Littlest JupyterHub",
          "discuss",
          "team",
          "Community Chat",
          "Binder",
          "discuss"
         ],
         "type": "nominal"
        },
        "y": {
         "field": "bookmarked",
         "type": "quantitative"
        }
       },
       "height": 300,
       "mark": "bar",
       "title": "Activity by category",
       "width": 700
      },
      "text/plain": [
       "<VegaLite 2 object>\n",
       "\n",
       "If you see this message, it means the renderer has not been properly enabled\n",
       "for the frontend that you are using. For more information, see\n",
       "https://altair-viz.github.io/user_guide/troubleshooting.html\n"
      ]
     },
     "execution_count": 13,
     "metadata": {},
     "output_type": "execute_result"
    }
   ],
   "source": [
    "counts = counts_from_activity(created)\n",
    "alt.Chart(data=counts, width=700, height=300, title=\"Activity by category\").mark_bar().encode(\n",
    "    x=alt.X(\"parent/category\", sort=alt.Sort(counts['category_id'].values.tolist())),\n",
    "    y=\"bookmarked\",\n",
    "    color=\"parent_category\"\n",
    ")"
   ]
  },
  {
   "cell_type": "markdown",
   "metadata": {
    "papermill": {
     "duration": 0.031213,
     "end_time": "2019-06-20T17:09:11.747342",
     "exception": false,
     "start_time": "2019-06-20T17:09:11.716129",
     "status": "completed"
    },
    "tags": []
   },
   "source": [
    "# GitHub activity\n",
    "\n",
    "Jupyter also has lots of activity across GitHub repositories. The following sections contain\n",
    "overviews of recent activity across the following GitHub organizations:\n",
    "\n",
    "* [github.com/jupyterhub](https://github.com/jupyterhub)\n",
    "* [github.com/jupyter](https://github.com/jupyter)\n",
    "* [github.com/jupyterlab](https://github.com/jupyterlab)\n",
    "* [github.com/jupyter-widgets](https://github.com/jupyter-widgets)"
   ]
  },
  {
   "cell_type": "code",
   "execution_count": 14,
   "metadata": {
    "jupyter": {
     "source_hidden": true
    },
    "papermill": {
     "duration": 0.035835,
     "end_time": "2019-06-20T17:09:11.816435",
     "exception": false,
     "start_time": "2019-06-20T17:09:11.780600",
     "status": "completed"
    },
    "tags": [
     "hide_input"
    ]
   },
   "outputs": [
    {
     "data": {
      "text/markdown": [
       "Showing GitHub activity from **2019-05-21** to **2019-06-20**"
      ],
      "text/plain": [
       "<IPython.core.display.Markdown object>"
      ]
     },
     "execution_count": 14,
     "metadata": {},
     "output_type": "execute_result"
    }
   ],
   "source": [
    "from datetime import timedelta\n",
    "\n",
    "\n",
    "orgs = [\"jupyterhub\", \"jupyter\", \"jupyterlab\", \"jupyter-widgets\"]\n",
    "Markdown(f\"Showing GitHub activity from **{start_date}** to **{end_date}**\")"
   ]
  },
  {
   "cell_type": "markdown",
   "metadata": {
    "papermill": {
     "duration": 0.026257,
     "end_time": "2019-06-20T17:09:11.868718",
     "exception": false,
     "start_time": "2019-06-20T17:09:11.842461",
     "status": "completed"
    },
    "tags": [],
    "toc-hr-collapsed": false
   },
   "source": [
    "## Merged Pull requests\n",
    "\n",
    "Here's an analysis of **merged pull requests** across each of the repositories in the Jupyter\n",
    "ecosystem."
   ]
  },
  {
   "cell_type": "code",
   "execution_count": 15,
   "metadata": {
    "jupyter": {
     "source_hidden": true
    },
    "papermill": {
     "duration": 152.787462,
     "end_time": "2019-06-20T17:11:44.689262",
     "exception": false,
     "start_time": "2019-06-20T17:09:11.901800",
     "status": "completed"
    },
    "tags": [
     "hide_input"
    ]
   },
   "outputs": [
    {
     "name": "stderr",
     "output_type": "stream",
     "text": [
      "\r",
      "  0%|          | 0/4 [00:00<?, ?it/s]"
     ]
    },
    {
     "name": "stderr",
     "output_type": "stream",
     "text": [
      "\r",
      " 25%|██▌       | 1/4 [00:47<02:22, 47.62s/it]"
     ]
    },
    {
     "name": "stderr",
     "output_type": "stream",
     "text": [
      "\r",
      " 50%|█████     | 2/4 [01:29<01:31, 45.91s/it]"
     ]
    },
    {
     "name": "stderr",
     "output_type": "stream",
     "text": [
      "\r",
      " 75%|███████▌  | 3/4 [02:15<00:46, 46.00s/it]"
     ]
    },
    {
     "name": "stderr",
     "output_type": "stream",
     "text": [
      "\r",
      "100%|██████████| 4/4 [02:32<00:00, 37.27s/it]"
     ]
    },
    {
     "name": "stderr",
     "output_type": "stream",
     "text": [
      "\n"
     ]
    }
   ],
   "source": [
    "# Update data\n",
    "merged = []\n",
    "for org in tqdm(orgs):\n",
    "    query = f\"is:merged user:{org} archived:false closed:{start_date}..{end_date}\"\n",
    "    this_merged = run_github_query(query)\n",
    "    this_merged['org'] = org\n",
    "    merged.append(this_merged)\n",
    "merged = pd.concat(merged)\n",
    "merged['repo'] = merged['repository_url'].map(lambda a: a.split('/')[-1])\n",
    "\n",
    "# Count PRs by org/repo\n",
    "prs_by_repo = merged.groupby(['org', 'repo']).count()['body'].reset_index().sort_values(['org', 'body'], ascending=False)"
   ]
  },
  {
   "cell_type": "code",
   "execution_count": 16,
   "metadata": {
    "jupyter": {
     "source_hidden": true
    },
    "papermill": {
     "duration": 0.209738,
     "end_time": "2019-06-20T17:11:44.995968",
     "exception": false,
     "start_time": "2019-06-20T17:11:44.786230",
     "status": "completed"
    },
    "tags": [
     "hide_input"
    ]
   },
   "outputs": [
    {
     "data": {
      "application/vnd.vegalite.v2+json": {
       "$schema": "https://vega.github.io/schema/vega-lite/v2.6.0.json",
       "config": {
        "view": {
         "height": 300,
         "width": 400
        }
       },
       "data": {
        "name": "data-95455eb0fe0c66641c065d56a126b281"
       },
       "datasets": {
        "data-95455eb0fe0c66641c065d56a126b281": [
         {
          "body": 97,
          "org": "jupyterlab",
          "repo": "jupyterlab"
         },
         {
          "body": 8,
          "org": "jupyterlab",
          "repo": "jupyterlab_server"
         },
         {
          "body": 6,
          "org": "jupyterlab",
          "repo": "jupyterlab-git"
         },
         {
          "body": 3,
          "org": "jupyterlab",
          "repo": "jupyterlab-data-explorer"
         },
         {
          "body": 3,
          "org": "jupyterlab",
          "repo": "jupyterlab-demo"
         },
         {
          "body": 2,
          "org": "jupyterlab",
          "repo": "jupyter-renderers"
         },
         {
          "body": 2,
          "org": "jupyterlab",
          "repo": "jupyterlab-commenting"
         },
         {
          "body": 2,
          "org": "jupyterlab",
          "repo": "jupyterlab-toc"
         },
         {
          "body": 1,
          "org": "jupyterlab",
          "repo": "jupyterlab-github"
         },
         {
          "body": 1,
          "org": "jupyterlab",
          "repo": "jupyterlab-latex"
         },
         {
          "body": 1,
          "org": "jupyterlab",
          "repo": "jupyterlab-metadata-service"
         },
         {
          "body": 1,
          "org": "jupyterlab",
          "repo": "jupyterlab-telemetry"
         },
         {
          "body": 1,
          "org": "jupyterlab",
          "repo": "jupyterlab_pygments"
         },
         {
          "body": 57,
          "org": "jupyterhub",
          "repo": "mybinder.org-deploy"
         },
         {
          "body": 27,
          "org": "jupyterhub",
          "repo": "the-littlest-jupyterhub"
         },
         {
          "body": 17,
          "org": "jupyterhub",
          "repo": "binderhub"
         },
         {
          "body": 9,
          "org": "jupyterhub",
          "repo": "alabaster-jupyterhub"
         },
         {
          "body": 9,
          "org": "jupyterhub",
          "repo": "jupyterhub"
         },
         {
          "body": 9,
          "org": "jupyterhub",
          "repo": "zero-to-jupyterhub-k8s"
         },
         {
          "body": 7,
          "org": "jupyterhub",
          "repo": "batchspawner"
         },
         {
          "body": 5,
          "org": "jupyterhub",
          "repo": "nbgitpuller"
         },
         {
          "body": 3,
          "org": "jupyterhub",
          "repo": "team-compass"
         },
         {
          "body": 2,
          "org": "jupyterhub",
          "repo": "chartpress"
         },
         {
          "body": 2,
          "org": "jupyterhub",
          "repo": "wrapspawner"
         },
         {
          "body": 1,
          "org": "jupyterhub",
          "repo": "jupyter-server-proxy"
         },
         {
          "body": 1,
          "org": "jupyterhub",
          "repo": "oauthenticator"
         },
         {
          "body": 1,
          "org": "jupyterhub",
          "repo": "systemdspawner"
         },
         {
          "body": 1,
          "org": "jupyterhub",
          "repo": "traefik-proxy"
         },
         {
          "body": 16,
          "org": "jupyter-widgets",
          "repo": "tutorial"
         },
         {
          "body": 13,
          "org": "jupyter-widgets",
          "repo": "ipywidgets"
         },
         {
          "body": 8,
          "org": "jupyter-widgets",
          "repo": "ipyleaflet"
         },
         {
          "body": 5,
          "org": "jupyter-widgets",
          "repo": "jupyter-sphinx"
         },
         {
          "body": 4,
          "org": "jupyter-widgets",
          "repo": "pythreejs"
         },
         {
          "body": 1,
          "org": "jupyter-widgets",
          "repo": "widget-cookiecutter"
         },
         {
          "body": 43,
          "org": "jupyter",
          "repo": "nbgrader"
         },
         {
          "body": 15,
          "org": "jupyter",
          "repo": "enterprise_gateway"
         },
         {
          "body": 12,
          "org": "jupyter",
          "repo": "nbconvert"
         },
         {
          "body": 11,
          "org": "jupyter",
          "repo": "repo2docker"
         },
         {
          "body": 8,
          "org": "jupyter",
          "repo": "qtconsole"
         },
         {
          "body": 7,
          "org": "jupyter",
          "repo": "jupyter_core"
         },
         {
          "body": 6,
          "org": "jupyter",
          "repo": "jupyter-book"
         },
         {
          "body": 5,
          "org": "jupyter",
          "repo": "notebook"
         },
         {
          "body": 3,
          "org": "jupyter",
          "repo": "jupyter_client"
         },
         {
          "body": 2,
          "org": "jupyter",
          "repo": "jupyter_server"
         },
         {
          "body": 2,
          "org": "jupyter",
          "repo": "telemetry"
         },
         {
          "body": 1,
          "org": "jupyter",
          "repo": "docker-stacks"
         },
         {
          "body": 1,
          "org": "jupyter",
          "repo": "jupyter"
         },
         {
          "body": 1,
          "org": "jupyter",
          "repo": "nb2kg"
         },
         {
          "body": 1,
          "org": "jupyter",
          "repo": "nbdime"
         },
         {
          "body": 1,
          "org": "jupyter",
          "repo": "nbviewer"
         }
        ]
       },
       "encoding": {
        "color": {
         "field": "org",
         "type": "nominal"
        },
        "x": {
         "field": "repo",
         "sort": [
          "jupyterlab",
          "jupyterlab_server",
          "jupyterlab-git",
          "jupyterlab-data-explorer",
          "jupyterlab-demo",
          "jupyter-renderers",
          "jupyterlab-commenting",
          "jupyterlab-toc",
          "jupyterlab-github",
          "jupyterlab-latex",
          "jupyterlab-metadata-service",
          "jupyterlab-telemetry",
          "jupyterlab_pygments",
          "mybinder.org-deploy",
          "the-littlest-jupyterhub",
          "binderhub",
          "alabaster-jupyterhub",
          "jupyterhub",
          "zero-to-jupyterhub-k8s",
          "batchspawner",
          "nbgitpuller",
          "team-compass",
          "chartpress",
          "wrapspawner",
          "jupyter-server-proxy",
          "oauthenticator",
          "systemdspawner",
          "traefik-proxy",
          "tutorial",
          "ipywidgets",
          "ipyleaflet",
          "jupyter-sphinx",
          "pythreejs",
          "widget-cookiecutter",
          "nbgrader",
          "enterprise_gateway",
          "nbconvert",
          "repo2docker",
          "qtconsole",
          "jupyter_core",
          "jupyter-book",
          "notebook",
          "jupyter_client",
          "jupyter_server",
          "telemetry",
          "docker-stacks",
          "jupyter",
          "nb2kg",
          "nbdime",
          "nbviewer"
         ],
         "type": "nominal"
        },
        "y": {
         "field": "body",
         "type": "quantitative"
        }
       },
       "mark": "bar",
       "title": "Merged PRs in the last 30 days"
      },
      "text/plain": [
       "<VegaLite 2 object>\n",
       "\n",
       "If you see this message, it means the renderer has not been properly enabled\n",
       "for the frontend that you are using. For more information, see\n",
       "https://altair-viz.github.io/user_guide/troubleshooting.html\n"
      ]
     },
     "execution_count": 16,
     "metadata": {},
     "output_type": "execute_result"
    }
   ],
   "source": [
    "alt.Chart(data=prs_by_repo, title=\"Merged PRs in the last 30 days\").mark_bar().encode(\n",
    "    x=alt.X('repo', sort=prs_by_repo['repo'].values.tolist()),\n",
    "    y='body',\n",
    "    color='org'\n",
    ")"
   ]
  },
  {
   "cell_type": "markdown",
   "metadata": {
    "papermill": {
     "duration": 0.1342,
     "end_time": "2019-06-20T17:11:45.249942",
     "exception": false,
     "start_time": "2019-06-20T17:11:45.115742",
     "status": "completed"
    },
    "tags": []
   },
   "source": [
    "### A list of merged PRs by project"
   ]
  },
  {
   "cell_type": "code",
   "execution_count": 17,
   "metadata": {
    "jupyter": {
     "source_hidden": true
    },
    "papermill": {
     "duration": 0.687889,
     "end_time": "2019-06-20T17:11:46.076460",
     "exception": false,
     "start_time": "2019-06-20T17:11:45.388571",
     "status": "completed"
    },
    "tags": [
     "hide_input"
    ]
   },
   "outputs": [
    {
     "data": {
      "text/markdown": [
       "#### jupyter\n",
       "\n",
       "##### [jupyter/docker-stacks](https://github.com/jupyter/docker-stacks)\n",
       "* [(#876)](https://github.com/jupyter/docker-stacks/pull/876): _Add `Specific Docker Image Options` for jupyter spark_ by **[eromoe](https://github.com/eromoe)**\n",
       "\n",
       "##### [jupyter/enterprise_gateway](https://github.com/jupyter/enterprise_gateway)\n",
       "* [(#692)](https://github.com/jupyter/enterprise_gateway/pull/692): _More build adjustments - use travis_retry to reduce intermittency_ by **[kevin-bates](https://github.com/kevin-bates)**\n",
       "* [(#690)](https://github.com/jupyter/enterprise_gateway/pull/690): _Update link to use CRAN installation for Apache Spark_ by **[akchinSTC](https://github.com/akchinSTC)**\n",
       "* [(#689)](https://github.com/jupyter/enterprise_gateway/pull/689): _Attempt to address build flakiness_ by **[kevin-bates](https://github.com/kevin-bates)**\n",
       "* [(#688)](https://github.com/jupyter/enterprise_gateway/pull/688): _Fix scoping issues relative to python kernels on Spark_ by **[kevin-bates](https://github.com/kevin-bates)**\n",
       "* [(#686)](https://github.com/jupyter/enterprise_gateway/pull/686): _Fix interrupts on intensive operations_ by **[kevin-bates](https://github.com/kevin-bates)**\n",
       "* [(#685)](https://github.com/jupyter/enterprise_gateway/pull/685): _Allow port overrides in Kubernetes deployments_ by **[kevin-bates](https://github.com/kevin-bates)**\n",
       "* [(#680)](https://github.com/jupyter/enterprise_gateway/pull/680): _Docs Enhancement (part 2)_ by **[echarles](https://github.com/echarles)**\n",
       "* [(#679)](https://github.com/jupyter/enterprise_gateway/pull/679): _Update docs with english term for kernels_ by **[lresende](https://github.com/lresende)**\n",
       "* [(#677)](https://github.com/jupyter/enterprise_gateway/pull/677): _Docs enhancements_ by **[echarles](https://github.com/echarles)**\n",
       "* [(#675)](https://github.com/jupyter/enterprise_gateway/pull/675): _GitHub issue/pull request template_ by **[lresende](https://github.com/lresende)**\n",
       "* [(#674)](https://github.com/jupyter/enterprise_gateway/pull/674): _Update platforms.html_ by **[philip-p-jones](https://github.com/philip-p-jones)**\n",
       "* [(#673)](https://github.com/jupyter/enterprise_gateway/pull/673): _Fix container termination signal handling in EG container_ by **[kevin-bates](https://github.com/kevin-bates)**\n",
       "* [(#666)](https://github.com/jupyter/enterprise_gateway/pull/666): _Makefiles: change publish targets to push, use --no-cache on new publish-image target_ by **[kevin-bates](https://github.com/kevin-bates)**\n",
       "* [(#645)](https://github.com/jupyter/enterprise_gateway/pull/645): _Refactor KernelSessionManager to accommodate various persistence methods_ by **[kevin-bates](https://github.com/kevin-bates)**\n",
       "* [(#607)](https://github.com/jupyter/enterprise_gateway/pull/607): _Add support for multiple YARN resource managers_ by **[kevin-bates](https://github.com/kevin-bates)**\n",
       "\n",
       "##### [jupyter/jupyter](https://github.com/jupyter/jupyter)\n",
       "* [(#427)](https://github.com/jupyter/jupyter/pull/427): _May Community Call notes_ by **[Zsailer](https://github.com/Zsailer)**\n",
       "\n",
       "##### [jupyter/jupyter-book](https://github.com/jupyter/jupyter-book)\n",
       "* [(#218)](https://github.com/jupyter/jupyter-book/pull/218): _version bump to dev_ by **[choldgraf](https://github.com/choldgraf)**\n",
       "* [(#217)](https://github.com/jupyter/jupyter-book/pull/217): _version bump for bugfix_ by **[choldgraf](https://github.com/choldgraf)**\n",
       "* [(#216)](https://github.com/jupyter/jupyter-book/pull/216): _fix doc mismatch for \"make build\"_ by **[thammegowda](https://github.com/thammegowda)**\n",
       "* [(#215)](https://github.com/jupyter/jupyter-book/pull/215): _make scripts dir as a module, to be included by `find_packages()` of setuptools_ by **[thammegowda](https://github.com/thammegowda)**\n",
       "* [(#209)](https://github.com/jupyter/jupyter-book/pull/209): _add jupyter book to template requirements_ by **[choldgraf](https://github.com/choldgraf)**\n",
       "* [(#207)](https://github.com/jupyter/jupyter-book/pull/207): _updating hidecode tag word and allowing total HTML removal_ by **[choldgraf](https://github.com/choldgraf)**\n",
       "\n",
       "##### [jupyter/jupyter_client](https://github.com/jupyter/jupyter_client)\n",
       "* [(#444)](https://github.com/jupyter/jupyter_client/pull/444): _Update wrapper kernel docs_ by **[blink1073](https://github.com/blink1073)**\n",
       "* [(#440)](https://github.com/jupyter/jupyter_client/pull/440): _Add xeus to the documentation on how to write a kernel for Jupyter_ by **[martinRenou](https://github.com/martinRenou)**\n",
       "* [(#438)](https://github.com/jupyter/jupyter_client/pull/438): _Backport PR #437: Avoid kernel failures with multiple processes_ by **[alexrudy](https://github.com/alexrudy)**\n",
       "\n",
       "##### [jupyter/jupyter_core](https://github.com/jupyter/jupyter_core)\n",
       "* [(#155)](https://github.com/jupyter/jupyter_core/pull/155): _Update changelog for 4.5.0_ by **[takluyver](https://github.com/takluyver)**\n",
       "* [(#154)](https://github.com/jupyter/jupyter_core/pull/154): _Fix test for jupyter_runtime_dir without XDG_RUNTIME_DIR_ by **[takluyver](https://github.com/takluyver)**\n",
       "* [(#153)](https://github.com/jupyter/jupyter_core/pull/153): _Start writing changelog for 4.5.0_ by **[takluyver](https://github.com/takluyver)**\n",
       "* [(#149)](https://github.com/jupyter/jupyter_core/pull/149): _Respect the raise_config_file_errors trait and re-raise if applicable._ by **[ian-r-rose](https://github.com/ian-r-rose)**\n",
       "* [(#148)](https://github.com/jupyter/jupyter_core/pull/148): _Removed mechanism that change $PATH_ by **[xmnlab](https://github.com/xmnlab)**\n",
       "* [(#143)](https://github.com/jupyter/jupyter_core/pull/143): _Stop using XDG_RUNTIME_DIR_ by **[takluyver](https://github.com/takluyver)**\n",
       "* [(#133)](https://github.com/jupyter/jupyter_core/pull/133): _Include LICENSE file in wheels_ by **[toddrme2178](https://github.com/toddrme2178)**\n",
       "\n",
       "##### [jupyter/jupyter_server](https://github.com/jupyter/jupyter_server)\n",
       "* [(#54)](https://github.com/jupyter/jupyter_server/pull/54): _Remove notebook templates and add basic server templates._ by **[Zsailer](https://github.com/Zsailer)**\n",
       "* [(#49)](https://github.com/jupyter/jupyter_server/pull/49): _Add localhost to list of default local_hostnames_ by **[aschlaep](https://github.com/aschlaep)**\n",
       "\n",
       "##### [jupyter/nb2kg](https://github.com/jupyter/nb2kg)\n",
       "* [(#38)](https://github.com/jupyter/nb2kg/pull/38): _Ensure request-timeout is > launch-timeout + pad_ by **[kevin-bates](https://github.com/kevin-bates)**\n",
       "\n",
       "##### [jupyter/nbconvert](https://github.com/jupyter/nbconvert)\n",
       "* [(#1051)](https://github.com/jupyter/nbconvert/pull/1051): _fix delimiter in config docs_ by **[t-makaro](https://github.com/t-makaro)**\n",
       "* [(#1050)](https://github.com/jupyter/nbconvert/pull/1050): _Fix RTD_ by **[t-makaro](https://github.com/t-makaro)**\n",
       "* [(#1048)](https://github.com/jupyter/nbconvert/pull/1048): _Revamp configuration documentation_ by **[t-makaro](https://github.com/t-makaro)**\n",
       "* [(#1046)](https://github.com/jupyter/nbconvert/pull/1046): _Add issue templates_ by **[t-makaro](https://github.com/t-makaro)**\n",
       "* [(#1042)](https://github.com/jupyter/nbconvert/pull/1042): _simplify the function signature for preprocess()_ by **[afeld](https://github.com/afeld)**\n",
       "* [(#1040)](https://github.com/jupyter/nbconvert/pull/1040): _Set flag to not always stop kernel execution on errors_ by **[jhamrick](https://github.com/jhamrick)**\n",
       "* [(#1039)](https://github.com/jupyter/nbconvert/pull/1039): _Fix LaTeX exporting '?' for non-ascii title_ by **[imtsuki](https://github.com/imtsuki)**\n",
       "* [(#1036)](https://github.com/jupyter/nbconvert/pull/1036): _Fix selection of mimetype when converting to HTML_ by **[jhamrick](https://github.com/jhamrick)**\n",
       "* [(#1034)](https://github.com/jupyter/nbconvert/pull/1034): _Added instructions for bumping the version forward when releasing_ by **[MSeal](https://github.com/MSeal)**\n",
       "* [(#1030)](https://github.com/jupyter/nbconvert/pull/1030): _Fix Testing on Windows_ by **[t-makaro](https://github.com/t-makaro)**\n",
       "* [(#1029)](https://github.com/jupyter/nbconvert/pull/1029): _Correct a few typos_ by **[t-makaro](https://github.com/t-makaro)**\n",
       "* [(#1017)](https://github.com/jupyter/nbconvert/pull/1017): _Disable IPython History in executing preprocessor_ by **[alexrudy](https://github.com/alexrudy)**\n",
       "\n",
       "##### [jupyter/nbdime](https://github.com/jupyter/nbdime)\n",
       "* [(#477)](https://github.com/jupyter/nbdime/pull/477): _Use config for webapps_ by **[vidartf](https://github.com/vidartf)**\n",
       "\n",
       "##### [jupyter/nbgrader](https://github.com/jupyter/nbgrader)\n",
       "* [(#1152)](https://github.com/jupyter/nbgrader/pull/1152): _Rename 'nbgrader fetch' to 'nbgrader fetch_assignment'_ by **[jhamrick](https://github.com/jhamrick)**\n",
       "* [(#1151)](https://github.com/jupyter/nbgrader/pull/1151): _Rename 'nbgrader release' to 'nbgrader release_assignment'_ by **[jhamrick](https://github.com/jhamrick)**\n",
       "* [(#1147)](https://github.com/jupyter/nbgrader/pull/1147): _Add test to ensure that db upgrade succeeds before running assign_ by **[jhamrick](https://github.com/jhamrick)**\n",
       "* [(#1145)](https://github.com/jupyter/nbgrader/pull/1145): _Rename nbgrader feedback to nbgrader generate_feedback_ by **[jhamrick](https://github.com/jhamrick)**\n",
       "* [(#1140)](https://github.com/jupyter/nbgrader/pull/1140): _A few more updates to the docs for multiple classes_ by **[jhamrick](https://github.com/jhamrick)**\n",
       "* [(#1139)](https://github.com/jupyter/nbgrader/pull/1139): _Additional docs sanitization_ by **[jhamrick](https://github.com/jhamrick)**\n",
       "* [(#1138)](https://github.com/jupyter/nbgrader/pull/1138): _Ensure that cell type changes result in valid nbgrader metadata_ by **[jhamrick](https://github.com/jhamrick)**\n",
       "* [(#1137)](https://github.com/jupyter/nbgrader/pull/1137): _Rename \"nbgrader assign\" to \"nbgrader generate_assignment\"_ by **[jhamrick](https://github.com/jhamrick)**\n",
       "* [(#1135)](https://github.com/jupyter/nbgrader/pull/1135): _section on grading in docker container_ by **[gertingold](https://github.com/gertingold)**\n",
       "* [(#1131)](https://github.com/jupyter/nbgrader/pull/1131): _Better support for multiple classes_ by **[jhamrick](https://github.com/jhamrick)**\n",
       "* [(#1127)](https://github.com/jupyter/nbgrader/pull/1127): _Better documentation of nbgrader_config.py_ by **[jhamrick](https://github.com/jhamrick)**\n",
       "* [(#1126)](https://github.com/jupyter/nbgrader/pull/1126): _Remove the third party resources page_ by **[jhamrick](https://github.com/jhamrick)**\n",
       "* [(#1125)](https://github.com/jupyter/nbgrader/pull/1125): _Check that the course directory is a subdirectory of the notebook dir_ by **[jhamrick](https://github.com/jhamrick)**\n",
       "* [(#1124)](https://github.com/jupyter/nbgrader/pull/1124): _Only run nbextensions tests on oldest and newest versions of python_ by **[jhamrick](https://github.com/jhamrick)**\n",
       "* [(#1123)](https://github.com/jupyter/nbgrader/pull/1123): _Ensure course directory root path has no trailing slashes_ by **[jhamrick](https://github.com/jhamrick)**\n",
       "* [(#1122)](https://github.com/jupyter/nbgrader/pull/1122): _Fix incorrect usage of Exchange.course_id_ by **[jhamrick](https://github.com/jhamrick)**\n",
       "* [(#1121)](https://github.com/jupyter/nbgrader/pull/1121): _Fix logfile_ by **[jhamrick](https://github.com/jhamrick)**\n",
       "* [(#1120)](https://github.com/jupyter/nbgrader/pull/1120): _Integrate feedback distribution within nbgrader_ by **[danielmaitre](https://github.com/danielmaitre)**\n",
       "* [(#1119)](https://github.com/jupyter/nbgrader/pull/1119): _added a sanatizing step to the doc creation. _ by **[danielmaitre](https://github.com/danielmaitre)**\n",
       "* [(#1118)](https://github.com/jupyter/nbgrader/pull/1118): _Integrate course_id into the api and apps_ by **[damianavila](https://github.com/damianavila)**\n",
       "* [(#1116)](https://github.com/jupyter/nbgrader/pull/1116): _Autograde & Assign: create missing students/assignments by default_ by **[takluyver](https://github.com/takluyver)**\n",
       "* [(#1115)](https://github.com/jupyter/nbgrader/pull/1115): _Fix typo in tmp filename prefix in conftest.py_ by **[slel](https://github.com/slel)**\n",
       "* [(#1114)](https://github.com/jupyter/nbgrader/pull/1114): _Documentation for multiple classes_ by **[sigurdurb](https://github.com/sigurdurb)**\n",
       "* [(#1113)](https://github.com/jupyter/nbgrader/pull/1113): _Add a course list extension that shows all courses an instructor can manage_ by **[jhamrick](https://github.com/jhamrick)**\n",
       "* [(#1112)](https://github.com/jupyter/nbgrader/pull/1112): _Locate all configurable classes for generate_config subcommand_ by **[takluyver](https://github.com/takluyver)**\n",
       "* [(#1111)](https://github.com/jupyter/nbgrader/pull/1111): _Optional consistency check between owner and student_id upon collect_ by **[nthiery](https://github.com/nthiery)**\n",
       "* [(#1110)](https://github.com/jupyter/nbgrader/pull/1110): _Systematic use of utils.get_username instead of $USER_ by **[nthiery](https://github.com/nthiery)**\n",
       "* [(#1109)](https://github.com/jupyter/nbgrader/pull/1109): _naming the temporary directories in tests_ by **[danielmaitre](https://github.com/danielmaitre)**\n",
       "* [(#1108)](https://github.com/jupyter/nbgrader/pull/1108): _Extended support for filtering files copied in the exchange_ by **[nthiery](https://github.com/nthiery)**\n",
       "* [(#1106)](https://github.com/jupyter/nbgrader/pull/1106): _Remove testing of python 3.4_ by **[jhamrick](https://github.com/jhamrick)**\n",
       "* [(#1105)](https://github.com/jupyter/nbgrader/pull/1105): _Remove extra keys in nbgrader metadata and better schema mismatch errors_ by **[jhamrick](https://github.com/jhamrick)**\n",
       "* [(#1102)](https://github.com/jupyter/nbgrader/pull/1102): _Only build docs with one version of python_ by **[jhamrick](https://github.com/jhamrick)**\n",
       "* [(#1101)](https://github.com/jupyter/nbgrader/pull/1101): _Add jupyter education book to third party resources_ by **[jhamrick](https://github.com/jhamrick)**\n",
       "* [(#1100)](https://github.com/jupyter/nbgrader/pull/1100): _Run test in the `python` group in parallel using pytest-xdist_ by **[BertR](https://github.com/BertR)**\n",
       "* [(#1099)](https://github.com/jupyter/nbgrader/pull/1099): _Add course table, add course_id column to assignment_ by **[BertR](https://github.com/BertR)**\n",
       "* [(#1098)](https://github.com/jupyter/nbgrader/pull/1098): _Customizable student ID in `nbgrader submit`_ by **[nthiery](https://github.com/nthiery)**\n",
       "* [(#1094)](https://github.com/jupyter/nbgrader/pull/1094): _Update license_ by **[jhamrick](https://github.com/jhamrick)**\n",
       "* [(#1093)](https://github.com/jupyter/nbgrader/pull/1093): _Add authentication plugin support_ by **[jhamrick](https://github.com/jhamrick)**\n",
       "* [(#1088)](https://github.com/jupyter/nbgrader/pull/1088): _Remove version requirement from urllib3_ by **[jhamrick](https://github.com/jhamrick)**\n",
       "* [(#1071)](https://github.com/jupyter/nbgrader/pull/1071): _student and assignment selection in exportapp implemented_ by **[ddland](https://github.com/ddland)**\n",
       "* [(#1040)](https://github.com/jupyter/nbgrader/pull/1040): _Restrict access for students to different courses_ by **[sigurdurb](https://github.com/sigurdurb)**\n",
       "* [(#1036)](https://github.com/jupyter/nbgrader/pull/1036): _Add a general lms user id column to the student table_ by **[sigurdurb](https://github.com/sigurdurb)**\n",
       "* [(#1001)](https://github.com/jupyter/nbgrader/pull/1001): _Allow setting a different assignment dir for students than the root notebook directory_ by **[rkdarst](https://github.com/rkdarst)**\n",
       "\n",
       "##### [jupyter/nbviewer](https://github.com/jupyter/nbviewer)\n",
       "* [(#833)](https://github.com/jupyter/nbviewer/pull/833): _(1) Fixed FAQ page, (2) made front page compatible with JupyterHub_ by **[krinsman](https://github.com/krinsman)**\n",
       "\n",
       "##### [jupyter/notebook](https://github.com/jupyter/notebook)\n",
       "* [(#4661)](https://github.com/jupyter/notebook/pull/4661): _Add id for command palette button group_ by **[tmetzl](https://github.com/tmetzl)**\n",
       "* [(#4654)](https://github.com/jupyter/notebook/pull/4654): _.travis.yml: The 'sudo' tag is now deprecated in Travis CI_ by **[abhinavsagar](https://github.com/abhinavsagar)**\n",
       "* [(#4651)](https://github.com/jupyter/notebook/pull/4651): _Fix French translation typo_ by **[tholoz](https://github.com/tholoz)**\n",
       "* [(#4642)](https://github.com/jupyter/notebook/pull/4642): _Use JavaScript to redirect users_ by **[betatim](https://github.com/betatim)**\n",
       "* [(#4591)](https://github.com/jupyter/notebook/pull/4591): _Update Working With Markdown Cells.ipynb_ by **[dalanicolai](https://github.com/dalanicolai)**\n",
       "\n",
       "##### [jupyter/qtconsole](https://github.com/jupyter/qtconsole)\n",
       "* [(#344)](https://github.com/jupyter/qtconsole/pull/344): _Several improvements to the Readme_ by **[ccordoba12](https://github.com/ccordoba12)**\n",
       "* [(#343)](https://github.com/jupyter/qtconsole/pull/343): _Move setup.py to use setuptools instead of distutils_ by **[ccordoba12](https://github.com/ccordoba12)**\n",
       "* [(#342)](https://github.com/jupyter/qtconsole/pull/342): _Update Changelog with 4.5 changes_ by **[ccordoba12](https://github.com/ccordoba12)**\n",
       "* [(#341)](https://github.com/jupyter/qtconsole/pull/341): _PR: Use new traitlets API with decorators_ by **[dalthviz](https://github.com/dalthviz)**\n",
       "* [(#340)](https://github.com/jupyter/qtconsole/pull/340): _Remove metadata entry from setup.cfg_ by **[ccordoba12](https://github.com/ccordoba12)**\n",
       "* [(#339)](https://github.com/jupyter/qtconsole/pull/339): _Use Readme.md for long_description in setup.py_ by **[ccordoba12](https://github.com/ccordoba12)**\n",
       "* [(#338)](https://github.com/jupyter/qtconsole/pull/338): _PR: Add Comms to qtconsole_ by **[impact27](https://github.com/impact27)**\n",
       "* [(#336)](https://github.com/jupyter/qtconsole/pull/336): _PR: Add language name as attribute of the JupyterWidget_ by **[dalthviz](https://github.com/dalthviz)**\n",
       "\n",
       "##### [jupyter/repo2docker](https://github.com/jupyter/repo2docker)\n",
       "* [(#705)](https://github.com/jupyter/repo2docker/pull/705): _base docker image on alpine_ by **[minrk](https://github.com/minrk)**\n",
       "* [(#703)](https://github.com/jupyter/repo2docker/pull/703): _add `git-lfs` to dockerfile used for the repo2docker image_ by **[minrk](https://github.com/minrk)**\n",
       "* [(#699)](https://github.com/jupyter/repo2docker/pull/699): _[MRG] Add auto-formatting setup_ by **[betatim](https://github.com/betatim)**\n",
       "* [(#697)](https://github.com/jupyter/repo2docker/pull/697): _Upgrade JupyterHub to 1.0_ by **[yuvipanda](https://github.com/yuvipanda)**\n",
       "* [(#695)](https://github.com/jupyter/repo2docker/pull/695): _[MRG] Update verification of Node install_ by **[betatim](https://github.com/betatim)**\n",
       "* [(#693)](https://github.com/jupyter/repo2docker/pull/693): _[MRG] Zenodo content provider_ by **[betatim](https://github.com/betatim)**\n",
       "* [(#692)](https://github.com/jupyter/repo2docker/pull/692): _Adding contentprovider documentation_ by **[choldgraf](https://github.com/choldgraf)**\n",
       "* [(#690)](https://github.com/jupyter/repo2docker/pull/690): _set CONDA_DEFAULT_ENV_ by **[minrk](https://github.com/minrk)**\n",
       "* [(#689)](https://github.com/jupyter/repo2docker/pull/689): _Switch Travis CI to Ubuntu Xenial 16.04_ by **[jrbourbeau](https://github.com/jrbourbeau)**\n",
       "* [(#684)](https://github.com/jupyter/repo2docker/pull/684): _[MRG] Drop support for Python 3.4_ by **[betatim](https://github.com/betatim)**\n",
       "* [(#683)](https://github.com/jupyter/repo2docker/pull/683): _[MRG] Use getpass instead of pwd to fetch username_ by **[betatim](https://github.com/betatim)**\n",
       "\n",
       "##### [jupyter/telemetry](https://github.com/jupyter/telemetry)\n",
       "* [(#4)](https://github.com/jupyter/telemetry/pull/4): _Address open questions regarding event schemas_ by **[jaipreet-s](https://github.com/jaipreet-s)**\n",
       "* [(#1)](https://github.com/jupyter/telemetry/pull/1): _Jupyter Enhancement Proposal(JEP) document_ by **[jaipreet-s](https://github.com/jaipreet-s)**\n",
       "\n",
       "\n",
       "#### jupyter-widgets\n",
       "\n",
       "##### [jupyter-widgets/ipyleaflet](https://github.com/jupyter-widgets/ipyleaflet)\n",
       "* [(#384)](https://github.com/jupyter-widgets/ipyleaflet/pull/384): _Add Usage section in the docs_ by **[martinRenou](https://github.com/martinRenou)**\n",
       "* [(#383)](https://github.com/jupyter-widgets/ipyleaflet/pull/383): _Add jlab themes support_ by **[martinRenou](https://github.com/martinRenou)**\n",
       "* [(#382)](https://github.com/jupyter-widgets/ipyleaflet/pull/382): _Add min_native_zoom and max_native_zoom for TileLayer_ by **[martinRenou](https://github.com/martinRenou)**\n",
       "* [(#381)](https://github.com/jupyter-widgets/ipyleaflet/pull/381): _Add Select GeoJSON example_ by **[martinRenou](https://github.com/martinRenou)**\n",
       "* [(#378)](https://github.com/jupyter-widgets/ipyleaflet/pull/378): _Add CustomTileServer example_ by **[deeplook](https://github.com/deeplook)**\n",
       "* [(#376)](https://github.com/jupyter-widgets/ipyleaflet/pull/376): _Fix wrong requirement string_ by **[Juanlu001](https://github.com/Juanlu001)**\n",
       "* [(#368)](https://github.com/jupyter-widgets/ipyleaflet/pull/368): _geodata class_ by **[VasavanThiru](https://github.com/VasavanThiru)**\n",
       "* [(#366)](https://github.com/jupyter-widgets/ipyleaflet/pull/366): _Adding an example of selecting GeoJSON features by clicking on the leaflet layer_ by **[mpdwulit](https://github.com/mpdwulit)**\n",
       "\n",
       "##### [jupyter-widgets/ipywidgets](https://github.com/jupyter-widgets/ipywidgets)\n",
       "* [(#2447)](https://github.com/jupyter-widgets/ipywidgets/pull/2447): _Update documentation from the widgets tutorial_ by **[mwcraig](https://github.com/mwcraig)**\n",
       "* [(#2442)](https://github.com/jupyter-widgets/ipywidgets/pull/2442): _Fix spelling error_ by **[edolley](https://github.com/edolley)**\n",
       "* [(#2438)](https://github.com/jupyter-widgets/ipywidgets/pull/2438): _Update to latest JupyterLab_ by **[SylvainCorlay](https://github.com/SylvainCorlay)**\n",
       "* [(#2435)](https://github.com/jupyter-widgets/ipywidgets/pull/2435): _FloatRangeSlider `value` logic_ by **[lheagy](https://github.com/lheagy)**\n",
       "* [(#2429)](https://github.com/jupyter-widgets/ipywidgets/pull/2429): _Doc: add nodejs install command_ by **[martinRenou](https://github.com/martinRenou)**\n",
       "* [(#2425)](https://github.com/jupyter-widgets/ipywidgets/pull/2425): _Remove unused scrollIfNeeded and StyleModel import_ by **[jtpio](https://github.com/jtpio)**\n",
       "* [(#2424)](https://github.com/jupyter-widgets/ipywidgets/pull/2424): _update the mention of jupyter_sphinx_ by **[akhmerov](https://github.com/akhmerov)**\n",
       "* [(#2423)](https://github.com/jupyter-widgets/ipywidgets/pull/2423): _#2422 provide type explicitly to fix complilation_ by **[throwable-one](https://github.com/throwable-one)**\n",
       "* [(#2421)](https://github.com/jupyter-widgets/ipywidgets/pull/2421): _Update for JLab 1.0a5._ by **[jasongrout](https://github.com/jasongrout)**\n",
       "* [(#2418)](https://github.com/jupyter-widgets/ipywidgets/pull/2418): _Drop postcss_ by **[SylvainCorlay](https://github.com/SylvainCorlay)**\n",
       "* [(#2409)](https://github.com/jupyter-widgets/ipywidgets/pull/2409): _Remove the overflow exception for the shorthand property_ by **[SylvainCorlay](https://github.com/SylvainCorlay)**\n",
       "* [(#2315)](https://github.com/jupyter-widgets/ipywidgets/pull/2315): _Enable noImplicitAny compiler check, fix tslint errors._ by **[blois](https://github.com/blois)**\n",
       "* [(#2303)](https://github.com/jupyter-widgets/ipywidgets/pull/2303): _Fix DeprecationWarning in Python 3.7_ by **[Juanlu001](https://github.com/Juanlu001)**\n",
       "\n",
       "##### [jupyter-widgets/jupyter-sphinx](https://github.com/jupyter-widgets/jupyter-sphinx)\n",
       "* [(#51)](https://github.com/jupyter-widgets/jupyter-sphinx/pull/51): _mention that Jupyter Sphinx works with autodoc_ by **[jbweston](https://github.com/jbweston)**\n",
       "* [(#49)](https://github.com/jupyter-widgets/jupyter-sphinx/pull/49): _add javascript support_ by **[basnijholt](https://github.com/basnijholt)**\n",
       "* [(#46)](https://github.com/jupyter-widgets/jupyter-sphinx/pull/46): _configure travis_ by **[akhmerov](https://github.com/akhmerov)**\n",
       "* [(#44)](https://github.com/jupyter-widgets/jupyter-sphinx/pull/44): _remove embed_widgets extension_ by **[jbweston](https://github.com/jbweston)**\n",
       "* [(#24)](https://github.com/jupyter-widgets/jupyter-sphinx/pull/24): _add support for rendering ipywidgets_ by **[jbweston](https://github.com/jbweston)**\n",
       "\n",
       "##### [jupyter-widgets/pythreejs](https://github.com/jupyter-widgets/pythreejs)\n",
       "* [(#278)](https://github.com/jupyter-widgets/pythreejs/pull/278): _Update deps within semver range_ by **[vidartf](https://github.com/vidartf)**\n",
       "* [(#277)](https://github.com/jupyter-widgets/pythreejs/pull/277): _Fix computeBoundingSphere_ by **[vidartf](https://github.com/vidartf)**\n",
       "* [(#272)](https://github.com/jupyter-widgets/pythreejs/pull/272): _Update traits.py for collections deprecation warning_ by **[GenevieveBuckley](https://github.com/GenevieveBuckley)**\n",
       "* [(#271)](https://github.com/jupyter-widgets/pythreejs/pull/271): _Update pythreejs.py to silence traitlets warning_ by **[GenevieveBuckley](https://github.com/GenevieveBuckley)**\n",
       "\n",
       "##### [jupyter-widgets/tutorial](https://github.com/jupyter-widgets/tutorial)\n",
       "* [(#45)](https://github.com/jupyter-widgets/tutorial/pull/45): _Address overflow/overflow_x since users will be on mix of 7.4 and 7.5_ by **[mwcraig](https://github.com/mwcraig)**\n",
       "* [(#44)](https://github.com/jupyter-widgets/tutorial/pull/44): _Condense install instructions a bit more and update check script_ by **[mwcraig](https://github.com/mwcraig)**\n",
       "* [(#43)](https://github.com/jupyter-widgets/tutorial/pull/43): _Add event example with ipytree_ by **[martinRenou](https://github.com/martinRenou)**\n",
       "* [(#41)](https://github.com/jupyter-widgets/tutorial/pull/41): _Improve Notebook introductions_ by **[martinRenou](https://github.com/martinRenou)**\n",
       "* [(#39)](https://github.com/jupyter-widgets/tutorial/pull/39): _Update introduction_ by **[martinRenou](https://github.com/martinRenou)**\n",
       "* [(#38)](https://github.com/jupyter-widgets/tutorial/pull/38): _Merge install commands_ by **[martinRenou](https://github.com/martinRenou)**\n",
       "* [(#37)](https://github.com/jupyter-widgets/tutorial/pull/37): _Fix dead link in 03.00-Widget_Basics.ipynb_ by **[kohr-h](https://github.com/kohr-h)**\n",
       "* [(#35)](https://github.com/jupyter-widgets/tutorial/pull/35): _Add ipympl example Notebook_ by **[martinRenou](https://github.com/martinRenou)**\n",
       "* [(#34)](https://github.com/jupyter-widgets/tutorial/pull/34): _Add ipysheet example_ by **[martinRenou](https://github.com/martinRenou)**\n",
       "* [(#33)](https://github.com/jupyter-widgets/tutorial/pull/33): _Add vuetify/voila example_ by **[maartenbreddels](https://github.com/maartenbreddels)**\n",
       "* [(#32)](https://github.com/jupyter-widgets/tutorial/pull/32): _Pull in changes from the ipywidgets documentation _ by **[mwcraig](https://github.com/mwcraig)**\n",
       "* [(#31)](https://github.com/jupyter-widgets/tutorial/pull/31): _Add ipytree example_ by **[martinRenou](https://github.com/martinRenou)**\n",
       "* [(#30)](https://github.com/jupyter-widgets/tutorial/pull/30): _Update dependencies_ by **[martinRenou](https://github.com/martinRenou)**\n",
       "* [(#29)](https://github.com/jupyter-widgets/tutorial/pull/29): _Add WidgetControl example on the ipyleaflet notebook_ by **[martinRenou](https://github.com/martinRenou)**\n",
       "* [(#28)](https://github.com/jupyter-widgets/tutorial/pull/28): _Add some disclaimers about the current state of installation instructions_ by **[mwcraig](https://github.com/mwcraig)**\n",
       "* [(#26)](https://github.com/jupyter-widgets/tutorial/pull/26): _Update ipyleaflet notebook_ by **[martinRenou](https://github.com/martinRenou)**\n",
       "\n",
       "##### [jupyter-widgets/widget-cookiecutter](https://github.com/jupyter-widgets/widget-cookiecutter)\n",
       "* [(#45)](https://github.com/jupyter-widgets/widget-cookiecutter/pull/45): _add watch command, normalize plugin name, fix hello world default_ by **[wolfv](https://github.com/wolfv)**\n",
       "\n",
       "\n",
       "#### jupyterhub\n",
       "\n",
       "##### [jupyterhub/alabaster-jupyterhub](https://github.com/jupyterhub/alabaster-jupyterhub)\n",
       "* [(#24)](https://github.com/jupyterhub/alabaster-jupyterhub/pull/24): _dev version add_ by **[choldgraf](https://github.com/choldgraf)**\n",
       "* [(#23)](https://github.com/jupyterhub/alabaster-jupyterhub/pull/23): _bump minor version_ by **[choldgraf](https://github.com/choldgraf)**\n",
       "* [(#22)](https://github.com/jupyterhub/alabaster-jupyterhub/pull/22): _setting footer max-width to 650px_ by **[choldgraf](https://github.com/choldgraf)**\n",
       "* [(#21)](https://github.com/jupyterhub/alabaster-jupyterhub/pull/21): _dev version bump_ by **[choldgraf](https://github.com/choldgraf)**\n",
       "* [(#20)](https://github.com/jupyterhub/alabaster-jupyterhub/pull/20): _bump version for minor release_ by **[choldgraf](https://github.com/choldgraf)**\n",
       "* [(#19)](https://github.com/jupyterhub/alabaster-jupyterhub/pull/19): _small fixes to whitespace_ by **[choldgraf](https://github.com/choldgraf)**\n",
       "* [(#18)](https://github.com/jupyterhub/alabaster-jupyterhub/pull/18): _dev version bump 1.7_ by **[choldgraf](https://github.com/choldgraf)**\n",
       "* [(#17)](https://github.com/jupyterhub/alabaster-jupyterhub/pull/17): _version bump_ by **[choldgraf](https://github.com/choldgraf)**\n",
       "* [(#16)](https://github.com/jupyterhub/alabaster-jupyterhub/pull/16): _enabling right sidebar scrolling and spacing tweaks and edit on github_ by **[choldgraf](https://github.com/choldgraf)**\n",
       "\n",
       "##### [jupyterhub/batchspawner](https://github.com/jupyterhub/batchspawner)\n",
       "* [(#145)](https://github.com/jupyterhub/batchspawner/pull/145): _Add note on spawner maintainers_ by **[rkdarst](https://github.com/rkdarst)**\n",
       "* [(#143)](https://github.com/jupyterhub/batchspawner/pull/143): _Singleuserapp and 1.0_ by **[rkdarst](https://github.com/rkdarst)**\n",
       "* [(#142)](https://github.com/jupyterhub/batchspawner/pull/142): _Drop backwards compatibility to jupyterhub==0.9.6 and python==3.5_ by **[rkdarst](https://github.com/rkdarst)**\n",
       "* [(#141)](https://github.com/jupyterhub/batchspawner/pull/141): _Allow batchspawner to be used with different notebook singleuser cmd_ by **[cmd-ntrf](https://github.com/cmd-ntrf)**\n",
       "* [(#140)](https://github.com/jupyterhub/batchspawner/pull/140): _Fix typos_ by **[kinow](https://github.com/kinow)**\n",
       "* [(#139)](https://github.com/jupyterhub/batchspawner/pull/139): _Replace current_ip and current_port by ip and port_ by **[cmd-ntrf](https://github.com/cmd-ntrf)**\n",
       "* [(#116)](https://github.com/jupyterhub/batchspawner/pull/116): _Update req_srun help string_ by **[rkdarst](https://github.com/rkdarst)**\n",
       "\n",
       "##### [jupyterhub/binderhub](https://github.com/jupyterhub/binderhub)\n",
       "* [(#881)](https://github.com/jupyterhub/binderhub/pull/881): _[MRG] Add basic news header to the HTML templates_ by **[betatim](https://github.com/betatim)**\n",
       "* [(#879)](https://github.com/jupyterhub/binderhub/pull/879): _[MRG] Manually list BinderHub dependencies in docs requirements_ by **[betatim](https://github.com/betatim)**\n",
       "* [(#878)](https://github.com/jupyterhub/binderhub/pull/878): _[MRG] Add instructions for setting up an Azure Container Registry_ by **[sgibson91](https://github.com/sgibson91)**\n",
       "* [(#876)](https://github.com/jupyterhub/binderhub/pull/876): _document launch schema version 3_ by **[bitnik](https://github.com/bitnik)**\n",
       "* [(#873)](https://github.com/jupyterhub/binderhub/pull/873): _[MRG] Fix typo in OVH link_ by **[betatim](https://github.com/betatim)**\n",
       "* [(#872)](https://github.com/jupyterhub/binderhub/pull/872): _Add 'origin' field to launch events_ by **[yuvipanda](https://github.com/yuvipanda)**\n",
       "* [(#870)](https://github.com/jupyterhub/binderhub/pull/870): _[MRG] Add Zenodo provider_ by **[betatim](https://github.com/betatim)**\n",
       "* [(#867)](https://github.com/jupyterhub/binderhub/pull/867): _[MRG] Add extraEnv to the BinderHub deployment_ by **[betatim](https://github.com/betatim)**\n",
       "* [(#866)](https://github.com/jupyterhub/binderhub/pull/866): _[MRG] Add OVH BinderHub to list of known deployments_ by **[betatim](https://github.com/betatim)**\n",
       "* [(#865)](https://github.com/jupyterhub/binderhub/pull/865): _[MRG] Make base badge URL available in the loading screen as well_ by **[betatim](https://github.com/betatim)**\n",
       "* [(#860)](https://github.com/jupyterhub/binderhub/pull/860): _[MRG] rename variable and restructure API docs_ by **[nuest](https://github.com/nuest)**\n",
       "* [(#859)](https://github.com/jupyterhub/binderhub/pull/859): _[MRG] Make the URL used to generate launch badges configurable_ by **[betatim](https://github.com/betatim)**\n",
       "* [(#858)](https://github.com/jupyterhub/binderhub/pull/858): _[MRG] Tweak loading messages_ by **[betatim](https://github.com/betatim)**\n",
       "* [(#857)](https://github.com/jupyterhub/binderhub/pull/857): _fix tolerations in dind daemonset and add tolerations to image-cleaner_ by **[jhamman](https://github.com/jhamman)**\n",
       "* [(#856)](https://github.com/jupyterhub/binderhub/pull/856): _add user tolerations to dind daemonset_ by **[jhamman](https://github.com/jhamman)**\n",
       "* [(#853)](https://github.com/jupyterhub/binderhub/pull/853): _add default toleration to build pods_ by **[jhamman](https://github.com/jhamman)**\n",
       "* [(#784)](https://github.com/jupyterhub/binderhub/pull/784): _[MRG] use chartpress 0.3_ by **[minrk](https://github.com/minrk)**\n",
       "\n",
       "##### [jupyterhub/chartpress](https://github.com/jupyterhub/chartpress)\n",
       "* [(#36)](https://github.com/jupyterhub/chartpress/pull/36): _Add initial setup when starting from scratch_ by **[manics](https://github.com/manics)**\n",
       "* [(#34)](https://github.com/jupyterhub/chartpress/pull/34): _avoid mangling of quotes in rendered charts (#1)_ by **[rokroskar](https://github.com/rokroskar)**\n",
       "\n",
       "##### [jupyterhub/jupyter-server-proxy](https://github.com/jupyterhub/jupyter-server-proxy)\n",
       "* [(#132)](https://github.com/jupyterhub/jupyter-server-proxy/pull/132): _install-doc-update_ by **[quasiben](https://github.com/quasiben)**\n",
       "\n",
       "##### [jupyterhub/jupyterhub](https://github.com/jupyterhub/jupyterhub)\n",
       "* [(#2609)](https://github.com/jupyterhub/jupyterhub/pull/2609): _Replace existing redirect code by Tornado's addslash decorator_ by **[kinow](https://github.com/kinow)**\n",
       "* [(#2605)](https://github.com/jupyterhub/jupyterhub/pull/2605): _add activity_resolution config_ by **[minrk](https://github.com/minrk)**\n",
       "* [(#2590)](https://github.com/jupyterhub/jupyterhub/pull/2590): _Change API description to be a valid OpenAPI spec_ by **[sbrunk](https://github.com/sbrunk)**\n",
       "* [(#2588)](https://github.com/jupyterhub/jupyterhub/pull/2588): _Define default values for HubAuth ssl traitlets_ by **[cmd-ntrf](https://github.com/cmd-ntrf)**\n",
       "* [(#2584)](https://github.com/jupyterhub/jupyterhub/pull/2584): _re-raise exceptions in launch_instance_async_ by **[minrk](https://github.com/minrk)**\n",
       "* [(#2577)](https://github.com/jupyterhub/jupyterhub/pull/2577): _Hide Stop My Server red button after server stopped._ by **[aar0nTw](https://github.com/aar0nTw)**\n",
       "* [(#2570)](https://github.com/jupyterhub/jupyterhub/pull/2570): _Make announcements visible without custom HTML_ by **[consideRatio](https://github.com/consideRatio)**\n",
       "* [(#2565)](https://github.com/jupyterhub/jupyterhub/pull/2565): _Update link of `changelog`_ by **[iblis17](https://github.com/iblis17)**\n",
       "* [(#2560)](https://github.com/jupyterhub/jupyterhub/pull/2560): _Jupyterhub: use previous exit strategy for Windows_ by **[adelcast](https://github.com/adelcast)**\n",
       "\n",
       "##### [jupyterhub/mybinder.org-deploy](https://github.com/jupyterhub/mybinder.org-deploy)\n",
       "* [(#1039)](https://github.com/jupyterhub/mybinder.org-deploy/pull/1039): _Make the federation redirector smarter_ by **[betatim](https://github.com/betatim)**\n",
       "* [(#1037)](https://github.com/jupyterhub/mybinder.org-deploy/pull/1037): _Send 15% to OVH_ by **[betatim](https://github.com/betatim)**\n",
       "* [(#1035)](https://github.com/jupyterhub/mybinder.org-deploy/pull/1035): _New GitHub credentials for OVH_ by **[betatim](https://github.com/betatim)**\n",
       "* [(#1034)](https://github.com/jupyterhub/mybinder.org-deploy/pull/1034): _Reuse the GKE GitHub credentials for OVH_ by **[betatim](https://github.com/betatim)**\n",
       "* [(#1033)](https://github.com/jupyterhub/mybinder.org-deploy/pull/1033): _Reduce OVH fraction to zero_ by **[betatim](https://github.com/betatim)**\n",
       "* [(#1032)](https://github.com/jupyterhub/mybinder.org-deploy/pull/1032): _Reduce OVH fractionn while we fix the GitHub API issue_ by **[betatim](https://github.com/betatim)**\n",
       "* [(#1030)](https://github.com/jupyterhub/mybinder.org-deploy/pull/1030): _Add a banner message for the survey_ by **[betatim](https://github.com/betatim)**\n",
       "* [(#1029)](https://github.com/jupyterhub/mybinder.org-deploy/pull/1029): _binderhub: 908c443...c8ab0a3_ by **[henchbot](https://github.com/henchbot)**\n",
       "* [(#1028)](https://github.com/jupyterhub/mybinder.org-deploy/pull/1028): _repo2docker: 0693fc09...9f110584_ by **[henchbot](https://github.com/henchbot)**\n",
       "* [(#1027)](https://github.com/jupyterhub/mybinder.org-deploy/pull/1027): _repo2docker: f19e159d...0693fc09_ by **[henchbot](https://github.com/henchbot)**\n",
       "* [(#1026)](https://github.com/jupyterhub/mybinder.org-deploy/pull/1026): _Increase OVH to 25%_ by **[betatim](https://github.com/betatim)**\n",
       "* [(#1025)](https://github.com/jupyterhub/mybinder.org-deploy/pull/1025): _binderhub: 4300f2c...908c443_ by **[henchbot](https://github.com/henchbot)**\n",
       "* [(#1024)](https://github.com/jupyterhub/mybinder.org-deploy/pull/1024): _Increase OVH traffic share to 20%_ by **[betatim](https://github.com/betatim)**\n",
       "* [(#1022)](https://github.com/jupyterhub/mybinder.org-deploy/pull/1022): _binderhub: 3dd5511...4300f2c_ by **[henchbot](https://github.com/henchbot)**\n",
       "* [(#1020)](https://github.com/jupyterhub/mybinder.org-deploy/pull/1020): _Lower traffic fraction sent to OVH_ by **[betatim](https://github.com/betatim)**\n",
       "* [(#1019)](https://github.com/jupyterhub/mybinder.org-deploy/pull/1019): _Make OVH ingress config similar to gke one_ by **[betatim](https://github.com/betatim)**\n",
       "* [(#1018)](https://github.com/jupyterhub/mybinder.org-deploy/pull/1018): _Change OVH ingress to serve two hostnames_ by **[betatim](https://github.com/betatim)**\n",
       "* [(#1017)](https://github.com/jupyterhub/mybinder.org-deploy/pull/1017): _Increase memory request and limit for nginx-ingress_ by **[betatim](https://github.com/betatim)**\n",
       "* [(#1015)](https://github.com/jupyterhub/mybinder.org-deploy/pull/1015): _Update resource limits on OVH_ by **[betatim](https://github.com/betatim)**\n",
       "* [(#1014)](https://github.com/jupyterhub/mybinder.org-deploy/pull/1014): _Send 10% of the traffic to OVH_ by **[betatim](https://github.com/betatim)**\n",
       "* [(#1013)](https://github.com/jupyterhub/mybinder.org-deploy/pull/1013): _Increase OVH cluster to 5% of traffic_ by **[betatim](https://github.com/betatim)**\n",
       "* [(#1012)](https://github.com/jupyterhub/mybinder.org-deploy/pull/1012): _Create placeholder for events archiver service account_ by **[betatim](https://github.com/betatim)**\n",
       "* [(#1011)](https://github.com/jupyterhub/mybinder.org-deploy/pull/1011): _[WIP] Add secret and setup to write events from OVH_ by **[betatim](https://github.com/betatim)**\n",
       "* [(#1010)](https://github.com/jupyterhub/mybinder.org-deploy/pull/1010): _Automatically deploy ovh ingress for the 'ovh.mybinder.org' certificate_ by **[mael-le-gal](https://github.com/mael-le-gal)**\n",
       "* [(#1009)](https://github.com/jupyterhub/mybinder.org-deploy/pull/1009): _Setup headers for CORS_ by **[betatim](https://github.com/betatim)**\n",
       "* [(#1008)](https://github.com/jupyterhub/mybinder.org-deploy/pull/1008): _Handle badges and about page in the redirector_ by **[betatim](https://github.com/betatim)**\n",
       "* [(#1007)](https://github.com/jupyterhub/mybinder.org-deploy/pull/1007): _Enable federation for mybinder.org_ by **[betatim](https://github.com/betatim)**\n",
       "* [(#1006)](https://github.com/jupyterhub/mybinder.org-deploy/pull/1006): _Revert \"Disable redirector on staging\" to enable it again_ by **[betatim](https://github.com/betatim)**\n",
       "* [(#1005)](https://github.com/jupyterhub/mybinder.org-deploy/pull/1005): _Disable redirector on staging_ by **[betatim](https://github.com/betatim)**\n",
       "* [(#1004)](https://github.com/jupyterhub/mybinder.org-deploy/pull/1004): _Switch to tornado logging and handle exceptions_ by **[betatim](https://github.com/betatim)**\n",
       "* [(#1003)](https://github.com/jupyterhub/mybinder.org-deploy/pull/1003): _Add a second hostname for the staging cluster_ by **[betatim](https://github.com/betatim)**\n",
       "* [(#1002)](https://github.com/jupyterhub/mybinder.org-deploy/pull/1002): _Set badge base URL for all clusters_ by **[betatim](https://github.com/betatim)**\n",
       "* [(#1001)](https://github.com/jupyterhub/mybinder.org-deploy/pull/1001): _Fix staging federation_ by **[betatim](https://github.com/betatim)**\n",
       "* [(#1000)](https://github.com/jupyterhub/mybinder.org-deploy/pull/1000): _Enable frederick on staging, change staging hostnames around_ by **[betatim](https://github.com/betatim)**\n",
       "* [(#997)](https://github.com/jupyterhub/mybinder.org-deploy/pull/997): _repo2docker: 80fbc639...f19e159d_ by **[henchbot](https://github.com/henchbot)**\n",
       "* [(#996)](https://github.com/jupyterhub/mybinder.org-deploy/pull/996): _binderhub: 851025f...9469b37_ by **[henchbot](https://github.com/henchbot)**\n",
       "* [(#995)](https://github.com/jupyterhub/mybinder.org-deploy/pull/995): _Revert \"binderhub: 851025f...0d300b8\"_ by **[betatim](https://github.com/betatim)**\n",
       "* [(#994)](https://github.com/jupyterhub/mybinder.org-deploy/pull/994): _binderhub: 851025f...0d300b8_ by **[henchbot](https://github.com/henchbot)**\n",
       "* [(#993)](https://github.com/jupyterhub/mybinder.org-deploy/pull/993): _binderhub: 9f83710...851025f_ by **[henchbot](https://github.com/henchbot)**\n",
       "* [(#992)](https://github.com/jupyterhub/mybinder.org-deploy/pull/992): _Use \"weird\" timeouts_ by **[betatim](https://github.com/betatim)**\n",
       "* [(#991)](https://github.com/jupyterhub/mybinder.org-deploy/pull/991): _repo2docker: 51898274...80fbc639_ by **[henchbot](https://github.com/henchbot)**\n",
       "* [(#990)](https://github.com/jupyterhub/mybinder.org-deploy/pull/990): _repo2docker: 80b979f8...51898274_ by **[henchbot](https://github.com/henchbot)**\n",
       "* [(#988)](https://github.com/jupyterhub/mybinder.org-deploy/pull/988): _Add README for federation redirector_ by **[betatim](https://github.com/betatim)**\n",
       "* [(#987)](https://github.com/jupyterhub/mybinder.org-deploy/pull/987): _Add a redirector for the mybinder.org federation_ by **[betatim](https://github.com/betatim)**\n",
       "* [(#984)](https://github.com/jupyterhub/mybinder.org-deploy/pull/984): _Add hmharshit/mltraining which is a fork of a previously banned repo_ by **[betatim](https://github.com/betatim)**\n",
       "* [(#983)](https://github.com/jupyterhub/mybinder.org-deploy/pull/983): _Bump repo2docker and binderhub_ by **[betatim](https://github.com/betatim)**\n",
       "* [(#982)](https://github.com/jupyterhub/mybinder.org-deploy/pull/982): _Revert \"repo2docker: 91309cab...80b979f8\"_ by **[choldgraf](https://github.com/choldgraf)**\n",
       "* [(#981)](https://github.com/jupyterhub/mybinder.org-deploy/pull/981): _Revert \"binderhub: 82fc209...9f83710\"_ by **[henchc](https://github.com/henchc)**\n",
       "* [(#979)](https://github.com/jupyterhub/mybinder.org-deploy/pull/979): _binderhub: 82fc209...9f83710_ by **[henchbot](https://github.com/henchbot)**\n",
       "* [(#978)](https://github.com/jupyterhub/mybinder.org-deploy/pull/978): _repo2docker: 91309cab...80b979f8_ by **[henchbot](https://github.com/henchbot)**\n",
       "* [(#976)](https://github.com/jupyterhub/mybinder.org-deploy/pull/976): _binderhub: 10ac4d8...82fc209_ by **[henchbot](https://github.com/henchbot)**\n",
       "* [(#975)](https://github.com/jupyterhub/mybinder.org-deploy/pull/975): _Fix typo in repo ban_ by **[betatim](https://github.com/betatim)**\n",
       "* [(#974)](https://github.com/jupyterhub/mybinder.org-deploy/pull/974): _Ban shishirchoudharygic/mltraining_ by **[betatim](https://github.com/betatim)**\n",
       "* [(#973)](https://github.com/jupyterhub/mybinder.org-deploy/pull/973): _Open an additional port for the xroot protocol_ by **[betatim](https://github.com/betatim)**\n",
       "* [(#972)](https://github.com/jupyterhub/mybinder.org-deploy/pull/972): _repo2docker: 25ebca04...91309cab_ by **[henchbot](https://github.com/henchbot)**\n",
       "* [(#971)](https://github.com/jupyterhub/mybinder.org-deploy/pull/971): _Ban hmharshit/cn-ait for the moment_ by **[betatim](https://github.com/betatim)**\n",
       "* [(#970)](https://github.com/jupyterhub/mybinder.org-deploy/pull/970): _Adding new configuration for OVH cluster_ by **[mael-le-gal](https://github.com/mael-le-gal)**\n",
       "\n",
       "##### [jupyterhub/nbgitpuller](https://github.com/jupyterhub/nbgitpuller)\n",
       "* [(#97)](https://github.com/jupyterhub/nbgitpuller/pull/97): _Allow git@example.com:repo links_ by **[cristiklein](https://github.com/cristiklein)**\n",
       "* [(#92)](https://github.com/jupyterhub/nbgitpuller/pull/92): _Redo documentation_ by **[yuvipanda](https://github.com/yuvipanda)**\n",
       "* [(#88)](https://github.com/jupyterhub/nbgitpuller/pull/88): _documentation clarification_ by **[parmentelat](https://github.com/parmentelat)**\n",
       "* [(#82)](https://github.com/jupyterhub/nbgitpuller/pull/82): _circle config to push docs_ by **[choldgraf](https://github.com/choldgraf)**\n",
       "* [(#81)](https://github.com/jupyterhub/nbgitpuller/pull/81): _adding documentation_ by **[choldgraf](https://github.com/choldgraf)**\n",
       "\n",
       "##### [jupyterhub/oauthenticator](https://github.com/jupyterhub/oauthenticator)\n",
       "* [(#261)](https://github.com/jupyterhub/oauthenticator/pull/261): _Allow option to disable basic auth header in generic oauth_ by **[sunnielyu](https://github.com/sunnielyu)**\n",
       "\n",
       "##### [jupyterhub/systemdspawner](https://github.com/jupyterhub/systemdspawner)\n",
       "* [(#53)](https://github.com/jupyterhub/systemdspawner/pull/53): _fix for Centos 7_ by **[mortbauer](https://github.com/mortbauer)**\n",
       "\n",
       "##### [jupyterhub/team-compass](https://github.com/jupyterhub/team-compass)\n",
       "* [(#173)](https://github.com/jupyterhub/team-compass/pull/173): _fixing link in onboarding docs_ by **[choldgraf](https://github.com/choldgraf)**\n",
       "* [(#167)](https://github.com/jupyterhub/team-compass/pull/167): _adding onboarding docs_ by **[choldgraf](https://github.com/choldgraf)**\n",
       "* [(#166)](https://github.com/jupyterhub/team-compass/pull/166): _Adding Sarah to the blue team_ by **[choldgraf](https://github.com/choldgraf)**\n",
       "\n",
       "##### [jupyterhub/the-littlest-jupyterhub](https://github.com/jupyterhub/the-littlest-jupyterhub)\n",
       "* [(#380)](https://github.com/jupyterhub/the-littlest-jupyterhub/pull/380): _Tell apt-get to never ask questions_ by **[yuvipanda](https://github.com/yuvipanda)**\n",
       "* [(#376)](https://github.com/jupyterhub/the-littlest-jupyterhub/pull/376): _Typo fix: `s` -> `is`_ by **[jtpio](https://github.com/jtpio)**\n",
       "* [(#374)](https://github.com/jupyterhub/the-littlest-jupyterhub/pull/374): _Fix typo: missing \"c\" for instance_ by **[jtpio](https://github.com/jtpio)**\n",
       "* [(#372)](https://github.com/jupyterhub/the-littlest-jupyterhub/pull/372): _Minor typo fix: praticular -> particular_ by **[jtpio](https://github.com/jtpio)**\n",
       "* [(#371)](https://github.com/jupyterhub/the-littlest-jupyterhub/pull/371): _Add Tutorial for OVH_ by **[jtpio](https://github.com/jtpio)**\n",
       "* [(#370)](https://github.com/jupyterhub/the-littlest-jupyterhub/pull/370): _Clarify the steps to build the docs locally_ by **[jtpio](https://github.com/jtpio)**\n",
       "* [(#367)](https://github.com/jupyterhub/the-littlest-jupyterhub/pull/367): _Fix typo in README link_ by **[pbugnion](https://github.com/pbugnion)**\n",
       "* [(#366)](https://github.com/jupyterhub/the-littlest-jupyterhub/pull/366): _Add idle culler_ by **[GeorgianaElena](https://github.com/GeorgianaElena)**\n",
       "* [(#365)](https://github.com/jupyterhub/the-littlest-jupyterhub/pull/365): _Add tmpauthenticator by default to TLJH_ by **[yuvipanda](https://github.com/yuvipanda)**\n",
       "* [(#363)](https://github.com/jupyterhub/the-littlest-jupyterhub/pull/363): _Fix typo: cohnfig -> config_ by **[staeiou](https://github.com/staeiou)**\n",
       "* [(#360)](https://github.com/jupyterhub/the-littlest-jupyterhub/pull/360): _Add custom hub package & config hooks_ by **[yuvipanda](https://github.com/yuvipanda)**\n",
       "* [(#359)](https://github.com/jupyterhub/the-littlest-jupyterhub/pull/359): _Install & use pycurl for requests_ by **[yuvipanda](https://github.com/yuvipanda)**\n",
       "* [(#358)](https://github.com/jupyterhub/the-littlest-jupyterhub/pull/358): _Minor azure doc cleanup_ by **[yuvipanda](https://github.com/yuvipanda)**\n",
       "* [(#357)](https://github.com/jupyterhub/the-littlest-jupyterhub/pull/357): _Suppress insecure HTTPS warning when upgrading TLJH_ by **[GeorgianaElena](https://github.com/GeorgianaElena)**\n",
       "* [(#355)](https://github.com/jupyterhub/the-littlest-jupyterhub/pull/355): _Fixed out of date config directory listed in docs for tljh-config_ by **[JuanCab](https://github.com/JuanCab)**\n",
       "* [(#352)](https://github.com/jupyterhub/the-littlest-jupyterhub/pull/352): _Add \"tljh-config unset\" option_ by **[GeorgianaElena](https://github.com/GeorgianaElena)**\n",
       "* [(#347)](https://github.com/jupyterhub/the-littlest-jupyterhub/pull/347): _Upgrade while https enabled_ by **[GeorgianaElena](https://github.com/GeorgianaElena)**\n",
       "* [(#342)](https://github.com/jupyterhub/the-littlest-jupyterhub/pull/342): _Add instructions to deploy on Azure_ by **[trallard](https://github.com/trallard)**\n",
       "* [(#339)](https://github.com/jupyterhub/the-littlest-jupyterhub/pull/339): _Retry downloading traefik if it fails_ by **[yuvipanda](https://github.com/yuvipanda)**\n",
       "* [(#337)](https://github.com/jupyterhub/the-littlest-jupyterhub/pull/337): _Provide much better error messages_ by **[yuvipanda](https://github.com/yuvipanda)**\n",
       "* [(#335)](https://github.com/jupyterhub/the-littlest-jupyterhub/pull/335): _Limit memory available in integration tests_ by **[yuvipanda](https://github.com/yuvipanda)**\n",
       "* [(#331)](https://github.com/jupyterhub/the-littlest-jupyterhub/pull/331): _Remove stray = in authenticator configuration example_ by **[yuvipanda](https://github.com/yuvipanda)**\n",
       "* [(#329)](https://github.com/jupyterhub/the-littlest-jupyterhub/pull/329): _Minor cleanup of custom server install documents_ by **[yuvipanda](https://github.com/yuvipanda)**\n",
       "* [(#328)](https://github.com/jupyterhub/the-littlest-jupyterhub/pull/328): _Cleanup HTTPS documentation_ by **[yuvipanda](https://github.com/yuvipanda)**\n",
       "* [(#327)](https://github.com/jupyterhub/the-littlest-jupyterhub/pull/327): _Add note about not running on your own laptop or in Docker_ by **[yuvipanda](https://github.com/yuvipanda)**\n",
       "* [(#313)](https://github.com/jupyterhub/the-littlest-jupyterhub/pull/313): _Upgrade to JupyterHub 1.0_ by **[minrk](https://github.com/minrk)**\n",
       "* [(#242)](https://github.com/jupyterhub/the-littlest-jupyterhub/pull/242): _Adds the universe repository to the used sources_ by **[owah](https://github.com/owah)**\n",
       "\n",
       "##### [jupyterhub/traefik-proxy](https://github.com/jupyterhub/traefik-proxy)\n",
       "* [(#57)](https://github.com/jupyterhub/traefik-proxy/pull/57): _TraefikConsulProxy_ by **[GeorgianaElena](https://github.com/GeorgianaElena)**\n",
       "\n",
       "##### [jupyterhub/wrapspawner](https://github.com/jupyterhub/wrapspawner)\n",
       "* [(#28)](https://github.com/jupyterhub/wrapspawner/pull/28): _Update config instructions and profiles parameters_ by **[cmd-ntrf](https://github.com/cmd-ntrf)**\n",
       "* [(#27)](https://github.com/jupyterhub/wrapspawner/pull/27): _Create link between WrapSpawner and its child spawner traitlets_ by **[cmd-ntrf](https://github.com/cmd-ntrf)**\n",
       "\n",
       "##### [jupyterhub/zero-to-jupyterhub-k8s](https://github.com/jupyterhub/zero-to-jupyterhub-k8s)\n",
       "* [(#1309)](https://github.com/jupyterhub/zero-to-jupyterhub-k8s/pull/1309): _add explanation for lifecycle_hooks in kubespawner_override_ by **[clancychilds](https://github.com/clancychilds)**\n",
       "* [(#1304)](https://github.com/jupyterhub/zero-to-jupyterhub-k8s/pull/1304): _Update chart version to 0.8.2 in the docs_ by **[jtpio](https://github.com/jtpio)**\n",
       "* [(#1299)](https://github.com/jupyterhub/zero-to-jupyterhub-k8s/pull/1299): _tmpauthenticator 0.6 needed for jupyterhub 1.0_ by **[manics](https://github.com/manics)**\n",
       "* [(#1298)](https://github.com/jupyterhub/zero-to-jupyterhub-k8s/pull/1298): _ Fix azure cli VMSSPreview feature register command _ by **[dazzag24](https://github.com/dazzag24)**\n",
       "* [(#1294)](https://github.com/jupyterhub/zero-to-jupyterhub-k8s/pull/1294): _Unbreak git build_ by **[joshbode](https://github.com/joshbode)**\n",
       "* [(#1291)](https://github.com/jupyterhub/zero-to-jupyterhub-k8s/pull/1291): _Update Dockerfile to JH 1.0_ by **[vilhelmen](https://github.com/vilhelmen)**\n",
       "* [(#1289)](https://github.com/jupyterhub/zero-to-jupyterhub-k8s/pull/1289): _Suggest quotes around tag._ by **[danielballan](https://github.com/danielballan)**\n",
       "* [(#1288)](https://github.com/jupyterhub/zero-to-jupyterhub-k8s/pull/1288): _Include jupyter-firstuseauthenticator._ by **[danielballan](https://github.com/danielballan)**\n",
       "* [(#1272)](https://github.com/jupyterhub/zero-to-jupyterhub-k8s/pull/1272): _enable user scheduler by default_ by **[minrk](https://github.com/minrk)**\n",
       "\n",
       "\n",
       "#### jupyterlab\n",
       "\n",
       "##### [jupyterlab/jupyter-renderers](https://github.com/jupyterlab/jupyter-renderers)\n",
       "* [(#193)](https://github.com/jupyterlab/jupyter-renderers/pull/193): _Add extension number for Vega package_ by **[domoritz](https://github.com/domoritz)**\n",
       "* [(#184)](https://github.com/jupyterlab/jupyter-renderers/pull/184): _Add Vega 4 extension_ by **[domoritz](https://github.com/domoritz)**\n",
       "\n",
       "##### [jupyterlab/jupyterlab](https://github.com/jupyterlab/jupyterlab)\n",
       "* [(#6661)](https://github.com/jupyterlab/jupyterlab/pull/6661): _Fix typo in extension_dev document._ by **[danielballan](https://github.com/danielballan)**\n",
       "* [(#6653)](https://github.com/jupyterlab/jupyterlab/pull/6653): _Remove the settings editor bug icon and always display the error inspector_ by **[jasongrout](https://github.com/jasongrout)**\n",
       "* [(#6646)](https://github.com/jupyterlab/jupyterlab/pull/6646): _Remove settings table view_ by **[saulshanabrook](https://github.com/saulshanabrook)**\n",
       "* [(#6645)](https://github.com/jupyterlab/jupyterlab/pull/6645): _Append an empty line for test of completeness of statements_ by **[BoPeng](https://github.com/BoPeng)**\n",
       "* [(#6644)](https://github.com/jupyterlab/jupyterlab/pull/6644): _Remove obsolete command use in application extension._ by **[afshin](https://github.com/afshin)**\n",
       "* [(#6632)](https://github.com/jupyterlab/jupyterlab/pull/6632): _Fix missing text in #6652 which caused a sort error in js._ by **[jasongrout](https://github.com/jasongrout)**\n",
       "* [(#6630)](https://github.com/jupyterlab/jupyterlab/pull/6630): _Use stricter CSS selector for main area tab context menu so the commands don't show up elsewhere._ by **[ian-r-rose](https://github.com/ian-r-rose)**\n",
       "* [(#6629)](https://github.com/jupyterlab/jupyterlab/pull/6629): _Fix terminal settings issues_ by **[ellisonbg](https://github.com/ellisonbg)**\n",
       "* [(#6628)](https://github.com/jupyterlab/jupyterlab/pull/6628): _Remove the FAQ extension_ by **[ellisonbg](https://github.com/ellisonbg)**\n",
       "* [(#6626)](https://github.com/jupyterlab/jupyterlab/pull/6626): _Fix for settings editor not hiding error messages once fixed by user_ by **[mbektasbbg](https://github.com/mbektasbbg)**\n",
       "* [(#6625)](https://github.com/jupyterlab/jupyterlab/pull/6625): _Point to Jupyter docs landing page_ by **[ellisonbg](https://github.com/ellisonbg)**\n",
       "* [(#6613)](https://github.com/jupyterlab/jupyterlab/pull/6613): _Notebook clones should point to the same underlying config attributes_ by **[jasongrout](https://github.com/jasongrout)**\n",
       "* [(#6607)](https://github.com/jupyterlab/jupyterlab/pull/6607): _Focus on the file browser after renaming_ by **[jtpio](https://github.com/jtpio)**\n",
       "* [(#6599)](https://github.com/jupyterlab/jupyterlab/pull/6599): _Minor fixes to theme border colors._ by **[ellisonbg](https://github.com/ellisonbg)**\n",
       "* [(#6597)](https://github.com/jupyterlab/jupyterlab/pull/6597): _DOC: readiness for users and devs, closes #5773_ by **[ivanov](https://github.com/ivanov)**\n",
       "* [(#6587)](https://github.com/jupyterlab/jupyterlab/pull/6587): _Restyle the launcher, enable keyboard navigation_ by **[ellisonbg](https://github.com/ellisonbg)**\n",
       "* [(#6586)](https://github.com/jupyterlab/jupyterlab/pull/6586): _Updates to a MainAreaWidget should propagate to the content_ by **[jasongrout](https://github.com/jasongrout)**\n",
       "* [(#6585)](https://github.com/jupyterlab/jupyterlab/pull/6585): _Lab config urls_ by **[ian-r-rose](https://github.com/ian-r-rose)**\n",
       "* [(#6569)](https://github.com/jupyterlab/jupyterlab/pull/6569): _Separate instance tracking from widget tracking._ by **[afshin](https://github.com/afshin)**\n",
       "* [(#6567)](https://github.com/jupyterlab/jupyterlab/pull/6567): _Make extension management quiet_ by **[vidartf](https://github.com/vidartf)**\n",
       "* [(#6566)](https://github.com/jupyterlab/jupyterlab/pull/6566): _Move theme dataset attributes to the body element and namespace them_ by **[jasongrout](https://github.com/jasongrout)**\n",
       "* [(#6559)](https://github.com/jupyterlab/jupyterlab/pull/6559): _Render an empty widget if we don’t have a renderer for the mimebundle types._ by **[jasongrout](https://github.com/jasongrout)**\n",
       "* [(#6558)](https://github.com/jupyterlab/jupyterlab/pull/6558): _fixes #6557_ by **[telamonian](https://github.com/telamonian)**\n",
       "* [(#6556)](https://github.com/jupyterlab/jupyterlab/pull/6556): _fixes #6439: underhang in highlighting of multiline selections_ by **[telamonian](https://github.com/telamonian)**\n",
       "* [(#6553)](https://github.com/jupyterlab/jupyterlab/pull/6553): _Change the filebrowser home icon to a folder_ by **[jasongrout](https://github.com/jasongrout)**\n",
       "* [(#6552)](https://github.com/jupyterlab/jupyterlab/pull/6552): _Add home tooltip showing server root if available for user information._ by **[jasongrout](https://github.com/jasongrout)**\n",
       "* [(#6550)](https://github.com/jupyterlab/jupyterlab/pull/6550): _By default, add a new activity in the main area after the current widget_ by **[jasongrout](https://github.com/jasongrout)**\n",
       "* [(#6548)](https://github.com/jupyterlab/jupyterlab/pull/6548): _Handle small tabs overflowing and preserve the border bridging for the active tab_ by **[jasongrout](https://github.com/jasongrout)**\n",
       "* [(#6547)](https://github.com/jupyterlab/jupyterlab/pull/6547): _Fix jupyterlab/services README_ by **[martinRenou](https://github.com/martinRenou)**\n",
       "* [(#6546)](https://github.com/jupyterlab/jupyterlab/pull/6546): _Added download attribute to Download context menu option_ by **[alexdetsch](https://github.com/alexdetsch)**\n",
       "* [(#6541)](https://github.com/jupyterlab/jupyterlab/pull/6541): _Fix CSS include files_ by **[jasongrout](https://github.com/jasongrout)**\n",
       "* [(#6533)](https://github.com/jupyterlab/jupyterlab/pull/6533): _CSS Usage Cleanup_ by **[blink1073](https://github.com/blink1073)**\n",
       "* [(#6526)](https://github.com/jupyterlab/jupyterlab/pull/6526): _Remove bottom border for tabBar._ by **[ian-r-rose](https://github.com/ian-r-rose)**\n",
       "* [(#6524)](https://github.com/jupyterlab/jupyterlab/pull/6524): _Use JupyterLab's theme variables for UI component hover style._ by **[ian-r-rose](https://github.com/ian-r-rose)**\n",
       "* [(#6522)](https://github.com/jupyterlab/jupyterlab/pull/6522): _Remove `Dialog.prompt` (use `InputDialog.getXXX` instead)_ by **[fcollonval](https://github.com/fcollonval)**\n",
       "* [(#6519)](https://github.com/jupyterlab/jupyterlab/pull/6519): _Examples for vdom/vdom-extension_ by **[telamonian](https://github.com/telamonian)**\n",
       "* [(#6517)](https://github.com/jupyterlab/jupyterlab/pull/6517): _Fix dialog button UX_ by **[ellisonbg](https://github.com/ellisonbg)**\n",
       "* [(#6516)](https://github.com/jupyterlab/jupyterlab/pull/6516): _lazy load of vim mode_ by **[ibdafna](https://github.com/ibdafna)**\n",
       "* [(#6515)](https://github.com/jupyterlab/jupyterlab/pull/6515): _Select complete multi-line statement when running run-in-console action without selection_ by **[BoPeng](https://github.com/BoPeng)**\n",
       "* [(#6513)](https://github.com/jupyterlab/jupyterlab/pull/6513): _Don't append content in rendered output upon rerendering._ by **[ian-r-rose](https://github.com/ian-r-rose)**\n",
       "* [(#6509)](https://github.com/jupyterlab/jupyterlab/pull/6509): _Update for changes to server_ by **[blink1073](https://github.com/blink1073)**\n",
       "* [(#6503)](https://github.com/jupyterlab/jupyterlab/pull/6503): _Make the DefaultSession own (create and dispose) its kernel connection._ by **[jasongrout](https://github.com/jasongrout)**\n",
       "* [(#6502)](https://github.com/jupyterlab/jupyterlab/pull/6502): _Only write to filebrowser listing text if the text would change_ by **[jasongrout](https://github.com/jasongrout)**\n",
       "* [(#6500)](https://github.com/jupyterlab/jupyterlab/pull/6500): _Disable chunksSort in HtmlWebpackPlugin_ by **[mlucool](https://github.com/mlucool)**\n",
       "* [(#6493)](https://github.com/jupyterlab/jupyterlab/pull/6493): _Rename \"Inspector\" to \"Interactive Help\"_ by **[ibdafna](https://github.com/ibdafna)**\n",
       "* [(#6492)](https://github.com/jupyterlab/jupyterlab/pull/6492): _CSS: Remove 'overflow: visible' property from '.p-DockPanel-tabBar' class._ by **[cquah](https://github.com/cquah)**\n",
       "* [(#6490)](https://github.com/jupyterlab/jupyterlab/pull/6490): _Add documentation to the Keyboard Shortcuts component in the Advanced Settings Editor to explain how to disable system default shortcuts._ by **[cquah](https://github.com/cquah)**\n",
       "* [(#6489)](https://github.com/jupyterlab/jupyterlab/pull/6489): _made non-breaking space change_ by **[ibdafna](https://github.com/ibdafna)**\n",
       "* [(#6486)](https://github.com/jupyterlab/jupyterlab/pull/6486): _Change keyboard shortcut for 'Close Tab' to 'Alt+W' from 'Accel+W'._ by **[cquah](https://github.com/cquah)**\n",
       "* [(#6485)](https://github.com/jupyterlab/jupyterlab/pull/6485): _Rename 'Close Other Tabs' command item to 'Close All Other Tabs'._ by **[cquah](https://github.com/cquah)**\n",
       "* [(#6484)](https://github.com/jupyterlab/jupyterlab/pull/6484): _Stop using py35 on Linux_ by **[blink1073](https://github.com/blink1073)**\n",
       "* [(#6480)](https://github.com/jupyterlab/jupyterlab/pull/6480): _Do not wait for a console session to be ready before showing the console_ by **[jasongrout](https://github.com/jasongrout)**\n",
       "* [(#6476)](https://github.com/jupyterlab/jupyterlab/pull/6476): _added default text to inspector module_ by **[ibdafna](https://github.com/ibdafna)**\n",
       "* [(#6473)](https://github.com/jupyterlab/jupyterlab/pull/6473): _Stop using base_url in workspace name._ by **[afshin](https://github.com/afshin)**\n",
       "* [(#6472)](https://github.com/jupyterlab/jupyterlab/pull/6472): _Clarifies workflow to export as Reveal.js slides_ by **[duarteocarmo](https://github.com/duarteocarmo)**\n",
       "* [(#6470)](https://github.com/jupyterlab/jupyterlab/pull/6470): _Remove obsolete documentation on \"keymap\" interface_ by **[BoPeng](https://github.com/BoPeng)**\n",
       "* [(#6469)](https://github.com/jupyterlab/jupyterlab/pull/6469): _SVG namespace. Fixes #6295._ by **[zerline](https://github.com/zerline)**\n",
       "* [(#6468)](https://github.com/jupyterlab/jupyterlab/pull/6468): _Stop endless Firefox redirect._ by **[afshin](https://github.com/afshin)**\n",
       "* [(#6467)](https://github.com/jupyterlab/jupyterlab/pull/6467): _Terminal opens on place. Fixes #6455._ by **[zerline](https://github.com/zerline)**\n",
       "* [(#6466)](https://github.com/jupyterlab/jupyterlab/pull/6466): _No more keypress/keydown confusion (no more keypress). Fixes #6452._ by **[zerline](https://github.com/zerline)**\n",
       "* [(#6464)](https://github.com/jupyterlab/jupyterlab/pull/6464): _Fix minor typo in documentation_ by **[nokome](https://github.com/nokome)**\n",
       "* [(#6462)](https://github.com/jupyterlab/jupyterlab/pull/6462): _More release cleanup_ by **[blink1073](https://github.com/blink1073)**\n",
       "* [(#6454)](https://github.com/jupyterlab/jupyterlab/pull/6454): _Update phosphor packages to restore tab drop zone_ by **[jasongrout](https://github.com/jasongrout)**\n",
       "* [(#6451)](https://github.com/jupyterlab/jupyterlab/pull/6451): _JupyterHub integration_ by **[blink1073](https://github.com/blink1073)**\n",
       "* [(#6450)](https://github.com/jupyterlab/jupyterlab/pull/6450): _More Examples Test Cleanup_ by **[blink1073](https://github.com/blink1073)**\n",
       "* [(#6447)](https://github.com/jupyterlab/jupyterlab/pull/6447): _Audit keyboard shortcuts for Accel instead of Ctrl_ by **[ian-r-rose](https://github.com/ian-r-rose)**\n",
       "* [(#6445)](https://github.com/jupyterlab/jupyterlab/pull/6445): _Release cleanup_ by **[blink1073](https://github.com/blink1073)**\n",
       "* [(#6444)](https://github.com/jupyterlab/jupyterlab/pull/6444): _Modified Markdown cells' overflow to \"auto\"_ by **[capslockwizard](https://github.com/capslockwizard)**\n",
       "* [(#6440)](https://github.com/jupyterlab/jupyterlab/pull/6440): _Upgrade to typescript 3.5.1_ by **[jasongrout](https://github.com/jasongrout)**\n",
       "* [(#6438)](https://github.com/jupyterlab/jupyterlab/pull/6438): _Update changelog to reflect 1.0a5 release, the good release._ by **[jasongrout](https://github.com/jasongrout)**\n",
       "* [(#6437)](https://github.com/jupyterlab/jupyterlab/pull/6437): _PrepublishOnly integrity check_ by **[jasongrout](https://github.com/jasongrout)**\n",
       "* [(#6433)](https://github.com/jupyterlab/jupyterlab/pull/6433): _Make kernel message typings more correct_ by **[jasongrout](https://github.com/jasongrout)**\n",
       "* [(#6430)](https://github.com/jupyterlab/jupyterlab/pull/6430): _Very rough changelog for the next alpha, alpha 4._ by **[jasongrout](https://github.com/jasongrout)**\n",
       "* [(#6429)](https://github.com/jupyterlab/jupyterlab/pull/6429): _Add version to Vega extension ID_ by **[domoritz](https://github.com/domoritz)**\n",
       "* [(#6426)](https://github.com/jupyterlab/jupyterlab/pull/6426): _Audit innerHTML usage and sanitize inputs._ by **[afshin](https://github.com/afshin)**\n",
       "* [(#6424)](https://github.com/jupyterlab/jupyterlab/pull/6424): _Allow Raises-exception_ by **[blink1073](https://github.com/blink1073)**\n",
       "* [(#6414)](https://github.com/jupyterlab/jupyterlab/pull/6414): _Fix app example_ by **[blink1073](https://github.com/blink1073)**\n",
       "* [(#6412)](https://github.com/jupyterlab/jupyterlab/pull/6412): _Rewrite Kernel Message typings and only clear cell execution prompt if needed_ by **[jasongrout](https://github.com/jasongrout)**\n",
       "* [(#6409)](https://github.com/jupyterlab/jupyterlab/pull/6409): _More granular completion_ by **[ian-r-rose](https://github.com/ian-r-rose)**\n",
       "* [(#6407)](https://github.com/jupyterlab/jupyterlab/pull/6407): _Make selected command palette darker on hover_ by **[saulshanabrook](https://github.com/saulshanabrook)**\n",
       "* [(#6406)](https://github.com/jupyterlab/jupyterlab/pull/6406): _Hide the Last Modified column on a narrow filebrowser._ by **[jasongrout](https://github.com/jasongrout)**\n",
       "* [(#6401)](https://github.com/jupyterlab/jupyterlab/pull/6401): _Fix file browser model autostart, simplify poll start logic._ by **[afshin](https://github.com/afshin)**\n",
       "* [(#6399)](https://github.com/jupyterlab/jupyterlab/pull/6399): _Connection lost token_ by **[ian-r-rose](https://github.com/ian-r-rose)**\n",
       "* [(#6398)](https://github.com/jupyterlab/jupyterlab/pull/6398): _Update a number of dependencies to the current version._ by **[jasongrout](https://github.com/jasongrout)**\n",
       "* [(#6395)](https://github.com/jupyterlab/jupyterlab/pull/6395): _CSS import refactor_ by **[vidartf](https://github.com/vidartf)**\n",
       "* [(#6391)](https://github.com/jupyterlab/jupyterlab/pull/6391): _Add smart copy/paste in terminal and update docs_ by **[blink1073](https://github.com/blink1073)**\n",
       "* [(#6388)](https://github.com/jupyterlab/jupyterlab/pull/6388): _Refresh yarn.lock._ by **[jasongrout](https://github.com/jasongrout)**\n",
       "* [(#6383)](https://github.com/jupyterlab/jupyterlab/pull/6383): _Fix scrolling down running sessions_ by **[manuzhang](https://github.com/manuzhang)**\n",
       "* [(#6382)](https://github.com/jupyterlab/jupyterlab/pull/6382): _fix duplicate inspect message when typing_ by **[cnydw](https://github.com/cnydw)**\n",
       "* [(#6372)](https://github.com/jupyterlab/jupyterlab/pull/6372): _Clean up handling of launch assets_ by **[blink1073](https://github.com/blink1073)**\n",
       "* [(#6345)](https://github.com/jupyterlab/jupyterlab/pull/6345): _Clean coreutils package, add rate limiting utilities._ by **[afshin](https://github.com/afshin)**\n",
       "* [(#6338)](https://github.com/jupyterlab/jupyterlab/pull/6338): _Add metadata for core mode packages_ by **[blink1073](https://github.com/blink1073)**\n",
       "* [(#6334)](https://github.com/jupyterlab/jupyterlab/pull/6334): _Token refactor/cleanup_ by **[vidartf](https://github.com/vidartf)**\n",
       "* [(#6312)](https://github.com/jupyterlab/jupyterlab/pull/6312): _Release maintenance cleanup_ by **[blink1073](https://github.com/blink1073)**\n",
       "* [(#6270)](https://github.com/jupyterlab/jupyterlab/pull/6270): _[WIP] Provide a signal for opening items from a DirListing_ by **[yuvipanda](https://github.com/yuvipanda)**\n",
       "* [(#6200)](https://github.com/jupyterlab/jupyterlab/pull/6200): _Add a command to enable the extension manager_ by **[jtpio](https://github.com/jtpio)**\n",
       "* [(#6060)](https://github.com/jupyterlab/jupyterlab/pull/6060): _Add a clone method to ABCWidgetFactory. _ by **[Madhu94](https://github.com/Madhu94)**\n",
       "\n",
       "##### [jupyterlab/jupyterlab-commenting](https://github.com/jupyterlab/jupyterlab-commenting)\n",
       "* [(#18)](https://github.com/jupyterlab/jupyterlab-commenting/pull/18): _Press release_ by **[acu192](https://github.com/acu192)**\n",
       "* [(#15)](https://github.com/jupyterlab/jupyterlab-commenting/pull/15): _Styling refactor_ by **[hoo761](https://github.com/hoo761)**\n",
       "\n",
       "##### [jupyterlab/jupyterlab-data-explorer](https://github.com/jupyterlab/jupyterlab-data-explorer)\n",
       "* [(#25)](https://github.com/jupyterlab/jupyterlab-data-explorer/pull/25): _Press release_ by **[saulshanabrook](https://github.com/saulshanabrook)**\n",
       "* [(#24)](https://github.com/jupyterlab/jupyterlab-data-explorer/pull/24): _Add high level description to README_ by **[saulshanabrook](https://github.com/saulshanabrook)**\n",
       "* [(#13)](https://github.com/jupyterlab/jupyterlab-data-explorer/pull/13): _Nested Data Support_ by **[saulshanabrook](https://github.com/saulshanabrook)**\n",
       "\n",
       "##### [jupyterlab/jupyterlab-demo](https://github.com/jupyterlab/jupyterlab-demo)\n",
       "* [(#86)](https://github.com/jupyterlab/jupyterlab-demo/pull/86): _Bump jupyter-leaflet to be compatible with xleaflet._ by **[ian-r-rose](https://github.com/ian-r-rose)**\n",
       "* [(#83)](https://github.com/jupyterlab/jupyterlab-demo/pull/83): _Update dependencies_ by **[TheBear44](https://github.com/TheBear44)**\n",
       "* [(#81)](https://github.com/jupyterlab/jupyterlab-demo/pull/81): _Drop QuantStack channel and only use conda-forge_ by **[SylvainCorlay](https://github.com/SylvainCorlay)**\n",
       "\n",
       "##### [jupyterlab/jupyterlab-git](https://github.com/jupyterlab/jupyterlab-git)\n",
       "* [(#365)](https://github.com/jupyterlab/jupyterlab-git/pull/365): _Remove psutil dependency_ by **[jaipreet-s](https://github.com/jaipreet-s)**\n",
       "* [(#364)](https://github.com/jupyterlab/jupyterlab-git/pull/364): _Server API to list changed files in Git_ by **[jaipreet-s](https://github.com/jaipreet-s)**\n",
       "* [(#363)](https://github.com/jupyterlab/jupyterlab-git/pull/363): _Release 0.6.0_ by **[jaipreet-s](https://github.com/jaipreet-s)**\n",
       "* [(#362)](https://github.com/jupyterlab/jupyterlab-git/pull/362): _Fix push/pull to not use shell=True_ by **[jaipreet-s](https://github.com/jaipreet-s)**\n",
       "* [(#361)](https://github.com/jupyterlab/jupyterlab-git/pull/361): _Bump handlebars from 4.0.12 to 4.1.2_ by **[dependabot[bot]](https://github.com/apps/dependabot)**\n",
       "* [(#360)](https://github.com/jupyterlab/jupyterlab-git/pull/360): _Bump js-yaml from 3.12.0 to 3.13.1_ by **[dependabot[bot]](https://github.com/apps/dependabot)**\n",
       "\n",
       "##### [jupyterlab/jupyterlab-github](https://github.com/jupyterlab/jupyterlab-github)\n",
       "* [(#85)](https://github.com/jupyterlab/jupyterlab-github/pull/85): _Bump js-yaml from 3.12.0 to 3.13.1_ by **[dependabot[bot]](https://github.com/apps/dependabot)**\n",
       "\n",
       "##### [jupyterlab/jupyterlab-latex](https://github.com/jupyterlab/jupyterlab-latex)\n",
       "* [(#116)](https://github.com/jupyterlab/jupyterlab-latex/pull/116): _Bump notebook from 5.7.4 to 5.7.8 in /binder_ by **[dependabot[bot]](https://github.com/apps/dependabot)**\n",
       "\n",
       "##### [jupyterlab/jupyterlab-metadata-service](https://github.com/jupyterlab/jupyterlab-metadata-service)\n",
       "* [(#25)](https://github.com/jupyterlab/jupyterlab-metadata-service/pull/25): _Press release_ by **[acu192](https://github.com/acu192)**\n",
       "\n",
       "##### [jupyterlab/jupyterlab-telemetry](https://github.com/jupyterlab/jupyterlab-telemetry)\n",
       "* [(#2)](https://github.com/jupyterlab/jupyterlab-telemetry/pull/2): _Straw design document for EventLogging_ by **[yuvipanda](https://github.com/yuvipanda)**\n",
       "\n",
       "##### [jupyterlab/jupyterlab-toc](https://github.com/jupyterlab/jupyterlab-toc)\n",
       "* [(#90)](https://github.com/jupyterlab/jupyterlab-toc/pull/90): _Bump js-yaml from 3.12.0 to 3.13.1_ by **[dependabot[bot]](https://github.com/apps/dependabot)**\n",
       "* [(#89)](https://github.com/jupyterlab/jupyterlab-toc/pull/89): _Update to JLab 1.0a5._ by **[marius311](https://github.com/marius311)**\n",
       "\n",
       "##### [jupyterlab/jupyterlab_pygments](https://github.com/jupyterlab/jupyterlab_pygments)\n",
       "* [(#1)](https://github.com/jupyterlab/jupyterlab_pygments/pull/1): _typo_ by **[maartenbreddels](https://github.com/maartenbreddels)**\n",
       "\n",
       "##### [jupyterlab/jupyterlab_server](https://github.com/jupyterlab/jupyterlab_server)\n",
       "* [(#70)](https://github.com/jupyterlab/jupyterlab_server/pull/70): _Cleanup for 1.0_ by **[blink1073](https://github.com/blink1073)**\n",
       "* [(#69)](https://github.com/jupyterlab/jupyterlab_server/pull/69): _A 403.html file. Should close jupyterlab issue#6065_ by **[zerline](https://github.com/zerline)**\n",
       "* [(#68)](https://github.com/jupyterlab/jupyterlab_server/pull/68): _Stop using base_url in workspace name._ by **[afshin](https://github.com/afshin)**\n",
       "* [(#67)](https://github.com/jupyterlab/jupyterlab_server/pull/67): _v0.3.3_ by **[afshin](https://github.com/afshin)**\n",
       "* [(#65)](https://github.com/jupyterlab/jupyterlab_server/pull/65): _Add frontend_url to server._ by **[afshin](https://github.com/afshin)**\n",
       "* [(#64)](https://github.com/jupyterlab/jupyterlab_server/pull/64): _Friendly workspaces_ by **[afshin](https://github.com/afshin)**\n",
       "* [(#63)](https://github.com/jupyterlab/jupyterlab_server/pull/63): _Parse URL-formatted metadata_id in workspace handler_ by **[thomafred](https://github.com/thomafred)**\n",
       "* [(#62)](https://github.com/jupyterlab/jupyterlab_server/pull/62): _Fixed mangling of urls in theme .css files when `base_url` is set_ by **[telamonian](https://github.com/telamonian)**\n",
       "\n"
      ],
      "text/plain": [
       "<IPython.core.display.Markdown object>"
      ]
     },
     "execution_count": 17,
     "metadata": {},
     "output_type": "execute_result"
    }
   ],
   "source": [
    "markdown = []\n",
    "for org, idata in merged.groupby('org'):\n",
    "    markdown.append(f\"#### {org}\")\n",
    "    markdown.append(\"\")\n",
    "    for repourl, prs in idata.groupby('repository_url'):\n",
    "        reponame, repo = repourl.split('/')[-2:]\n",
    "        markdown.append(f\"##### [{reponame}/{repo}](https://github.com/{reponame}/{repo})\")\n",
    "        for _, pr in prs.iterrows():\n",
    "            user_name = pr['user']['login']\n",
    "            user_url = pr['user']['html_url']\n",
    "            pr_number = pr['number']\n",
    "            pr_html = pr['html_url']\n",
    "            pr_title = pr['title']\n",
    "\n",
    "            text = f\"* [(#{pr_number})]({pr_html}): _{pr_title}_ by **[{user_name}]({user_url})**\"\n",
    "            markdown.append(text)\n",
    "        markdown.append('')\n",
    "    markdown.append('')\n",
    "\n",
    "Markdown('\\n'.join(markdown))"
   ]
  },
  {
   "cell_type": "markdown",
   "metadata": {
    "papermill": {
     "duration": 0.105964,
     "end_time": "2019-06-20T17:11:46.307818",
     "exception": false,
     "start_time": "2019-06-20T17:11:46.201854",
     "status": "completed"
    },
    "tags": []
   },
   "source": [
    "## Issues\n",
    "\n",
    "Issues are **conversations** that happen on our GitHub repositories. Here's an\n",
    "analysis of issues across the Jupyter organizations."
   ]
  },
  {
   "cell_type": "code",
   "execution_count": 18,
   "metadata": {
    "jupyter": {
     "source_hidden": true
    },
    "papermill": {
     "duration": 115.24485,
     "end_time": "2019-06-20T17:13:41.690381",
     "exception": false,
     "start_time": "2019-06-20T17:11:46.445531",
     "status": "completed"
    },
    "tags": [
     "hide_input"
    ]
   },
   "outputs": [
    {
     "name": "stderr",
     "output_type": "stream",
     "text": [
      "\r",
      "  0%|          | 0/4 [00:00<?, ?it/s]"
     ]
    },
    {
     "name": "stderr",
     "output_type": "stream",
     "text": [
      "\r",
      " 25%|██▌       | 1/4 [00:37<01:53, 37.68s/it]"
     ]
    },
    {
     "name": "stderr",
     "output_type": "stream",
     "text": [
      "\r",
      " 50%|█████     | 2/4 [01:11<01:12, 36.38s/it]"
     ]
    },
    {
     "name": "stderr",
     "output_type": "stream",
     "text": [
      "\r",
      " 75%|███████▌  | 3/4 [01:47<00:36, 36.29s/it]"
     ]
    },
    {
     "name": "stderr",
     "output_type": "stream",
     "text": [
      "\r",
      "100%|██████████| 4/4 [01:55<00:00, 27.78s/it]"
     ]
    },
    {
     "name": "stderr",
     "output_type": "stream",
     "text": [
      "\n"
     ]
    }
   ],
   "source": [
    "# Created issues\n",
    "created = []\n",
    "for org in tqdm(orgs):\n",
    "    query = f\"is:open is:issue user:{org} archived:false created:{start_date}..{end_date}\"\n",
    "    this_created = run_github_query(query)\n",
    "    this_created['org'] = org\n",
    "    created.append(this_created)\n",
    "created = pd.concat(created)\n",
    "created['repo'] = created['repository_url'].map(lambda a: a.split('/')[-1])"
   ]
  },
  {
   "cell_type": "code",
   "execution_count": 19,
   "metadata": {
    "jupyter": {
     "source_hidden": true
    },
    "papermill": {
     "duration": 0.315991,
     "end_time": "2019-06-20T17:13:42.158656",
     "exception": false,
     "start_time": "2019-06-20T17:13:41.842665",
     "status": "completed"
    },
    "tags": [
     "hide_input"
    ]
   },
   "outputs": [
    {
     "data": {
      "application/vnd.vegalite.v2+json": {
       "$schema": "https://vega.github.io/schema/vega-lite/v2.6.0.json",
       "config": {
        "view": {
         "height": 300,
         "width": 400
        }
       },
       "data": {
        "name": "data-048509a620f82b430cf5465217d1438e"
       },
       "datasets": {
        "data-048509a620f82b430cf5465217d1438e": [
         {
          "number": 1,
          "org": "jupyter",
          "org/repo": "jupyter/design",
          "repo": "design"
         },
         {
          "number": 11,
          "org": "jupyter",
          "org/repo": "jupyter/docker-stacks",
          "repo": "docker-stacks"
         },
         {
          "number": 3,
          "org": "jupyter",
          "org/repo": "jupyter/enterprise_gateway",
          "repo": "enterprise_gateway"
         },
         {
          "number": 8,
          "org": "jupyter",
          "org/repo": "jupyter/jupyter-book",
          "repo": "jupyter-book"
         },
         {
          "number": 4,
          "org": "jupyter",
          "org/repo": "jupyter/jupyter_client",
          "repo": "jupyter_client"
         },
         {
          "number": 1,
          "org": "jupyter",
          "org/repo": "jupyter/jupyter_core",
          "repo": "jupyter_core"
         },
         {
          "number": 1,
          "org": "jupyter",
          "org/repo": "jupyter/jupyter_kernel_test",
          "repo": "jupyter_kernel_test"
         },
         {
          "number": 6,
          "org": "jupyter",
          "org/repo": "jupyter/jupyter_server",
          "repo": "jupyter_server"
         },
         {
          "number": 8,
          "org": "jupyter",
          "org/repo": "jupyter/nbconvert",
          "repo": "nbconvert"
         },
         {
          "number": 3,
          "org": "jupyter",
          "org/repo": "jupyter/nbdime",
          "repo": "nbdime"
         },
         {
          "number": 20,
          "org": "jupyter",
          "org/repo": "jupyter/nbgrader",
          "repo": "nbgrader"
         },
         {
          "number": 4,
          "org": "jupyter",
          "org/repo": "jupyter/nbviewer",
          "repo": "nbviewer"
         },
         {
          "number": 28,
          "org": "jupyter",
          "org/repo": "jupyter/notebook",
          "repo": "notebook"
         },
         {
          "number": 1,
          "org": "jupyter",
          "org/repo": "jupyter/qtconsole",
          "repo": "qtconsole"
         },
         {
          "number": 9,
          "org": "jupyter",
          "org/repo": "jupyter/repo2docker",
          "repo": "repo2docker"
         },
         {
          "number": 7,
          "org": "jupyter-widgets",
          "org/repo": "jupyter-widgets/ipyleaflet",
          "repo": "ipyleaflet"
         },
         {
          "number": 11,
          "org": "jupyter-widgets",
          "org/repo": "jupyter-widgets/ipywidgets",
          "repo": "ipywidgets"
         },
         {
          "number": 3,
          "org": "jupyter-widgets",
          "org/repo": "jupyter-widgets/jupyter-sphinx",
          "repo": "jupyter-sphinx"
         },
         {
          "number": 1,
          "org": "jupyter-widgets",
          "org/repo": "jupyter-widgets/jupyterlab-sidecar",
          "repo": "jupyterlab-sidecar"
         },
         {
          "number": 4,
          "org": "jupyter-widgets",
          "org/repo": "jupyter-widgets/pythreejs",
          "repo": "pythreejs"
         },
         {
          "number": 2,
          "org": "jupyter-widgets",
          "org/repo": "jupyter-widgets/tutorial",
          "repo": "tutorial"
         },
         {
          "number": 1,
          "org": "jupyterhub",
          "org/repo": "jupyterhub/alabaster-jupyterhub",
          "repo": "alabaster-jupyterhub"
         },
         {
          "number": 11,
          "org": "jupyterhub",
          "org/repo": "jupyterhub/binderhub",
          "repo": "binderhub"
         },
         {
          "number": 2,
          "org": "jupyterhub",
          "org/repo": "jupyterhub/chartpress",
          "repo": "chartpress"
         },
         {
          "number": 2,
          "org": "jupyterhub",
          "org/repo": "jupyterhub/configurable-http-proxy",
          "repo": "configurable-http-proxy"
         },
         {
          "number": 4,
          "org": "jupyterhub",
          "org/repo": "jupyterhub/dockerspawner",
          "repo": "dockerspawner"
         },
         {
          "number": 1,
          "org": "jupyterhub",
          "org/repo": "jupyterhub/dummyauthenticator",
          "repo": "dummyauthenticator"
         },
         {
          "number": 1,
          "org": "jupyterhub",
          "org/repo": "jupyterhub/firstuseauthenticator",
          "repo": "firstuseauthenticator"
         },
         {
          "number": 1,
          "org": "jupyterhub",
          "org/repo": "jupyterhub/jupyter-rsession-proxy",
          "repo": "jupyter-rsession-proxy"
         },
         {
          "number": 1,
          "org": "jupyterhub",
          "org/repo": "jupyterhub/jupyter-server-proxy",
          "repo": "jupyter-server-proxy"
         },
         {
          "number": 21,
          "org": "jupyterhub",
          "org/repo": "jupyterhub/jupyterhub",
          "repo": "jupyterhub"
         },
         {
          "number": 1,
          "org": "jupyterhub",
          "org/repo": "jupyterhub/jupyterhub-deploy-docker",
          "repo": "jupyterhub-deploy-docker"
         },
         {
          "number": 4,
          "org": "jupyterhub",
          "org/repo": "jupyterhub/jupyterlab-hub",
          "repo": "jupyterlab-hub"
         },
         {
          "number": 4,
          "org": "jupyterhub",
          "org/repo": "jupyterhub/kubespawner",
          "repo": "kubespawner"
         },
         {
          "number": 2,
          "org": "jupyterhub",
          "org/repo": "jupyterhub/ldapauthenticator",
          "repo": "ldapauthenticator"
         },
         {
          "number": 1,
          "org": "jupyterhub",
          "org/repo": "jupyterhub/ltiauthenticator",
          "repo": "ltiauthenticator"
         },
         {
          "number": 7,
          "org": "jupyterhub",
          "org/repo": "jupyterhub/mybinder.org-deploy",
          "repo": "mybinder.org-deploy"
         },
         {
          "number": 9,
          "org": "jupyterhub",
          "org/repo": "jupyterhub/nbgitpuller",
          "repo": "nbgitpuller"
         },
         {
          "number": 4,
          "org": "jupyterhub",
          "org/repo": "jupyterhub/oauthenticator",
          "repo": "oauthenticator"
         },
         {
          "number": 1,
          "org": "jupyterhub",
          "org/repo": "jupyterhub/systemdspawner",
          "repo": "systemdspawner"
         },
         {
          "number": 7,
          "org": "jupyterhub",
          "org/repo": "jupyterhub/team-compass",
          "repo": "team-compass"
         },
         {
          "number": 11,
          "org": "jupyterhub",
          "org/repo": "jupyterhub/the-littlest-jupyterhub",
          "repo": "the-littlest-jupyterhub"
         },
         {
          "number": 1,
          "org": "jupyterhub",
          "org/repo": "jupyterhub/traefik-proxy",
          "repo": "traefik-proxy"
         },
         {
          "number": 15,
          "org": "jupyterhub",
          "org/repo": "jupyterhub/zero-to-jupyterhub-k8s",
          "repo": "zero-to-jupyterhub-k8s"
         },
         {
          "number": 100,
          "org": "jupyterlab",
          "org/repo": "jupyterlab/jupyterlab",
          "repo": "jupyterlab"
         },
         {
          "number": 9,
          "org": "jupyterlab",
          "org/repo": "jupyterlab/jupyterlab-data-explorer",
          "repo": "jupyterlab-data-explorer"
         },
         {
          "number": 1,
          "org": "jupyterlab",
          "org/repo": "jupyterlab/jupyterlab-google-drive",
          "repo": "jupyterlab-google-drive"
         },
         {
          "number": 2,
          "org": "jupyterlab",
          "org/repo": "jupyterlab/jupyterlab-telemetry",
          "repo": "jupyterlab-telemetry"
         }
        ]
       },
       "encoding": {
        "color": {
         "field": "org",
         "type": "nominal"
        },
        "x": {
         "field": "repo",
         "sort": [
          "jupyterlab",
          "jupyterlab-data-explorer",
          "jupyterlab-telemetry",
          "jupyterlab-google-drive",
          "jupyterhub",
          "zero-to-jupyterhub-k8s",
          "binderhub",
          "the-littlest-jupyterhub",
          "nbgitpuller",
          "mybinder.org-deploy",
          "team-compass",
          "dockerspawner",
          "jupyterlab-hub",
          "kubespawner",
          "oauthenticator",
          "chartpress",
          "configurable-http-proxy",
          "ldapauthenticator",
          "alabaster-jupyterhub",
          "dummyauthenticator",
          "firstuseauthenticator",
          "jupyter-rsession-proxy",
          "jupyter-server-proxy",
          "jupyterhub-deploy-docker",
          "ltiauthenticator",
          "systemdspawner",
          "traefik-proxy",
          "ipywidgets",
          "ipyleaflet",
          "pythreejs",
          "jupyter-sphinx",
          "tutorial",
          "jupyterlab-sidecar",
          "notebook",
          "nbgrader",
          "docker-stacks",
          "repo2docker",
          "jupyter-book",
          "nbconvert",
          "jupyter_server",
          "jupyter_client",
          "nbviewer",
          "enterprise_gateway",
          "nbdime",
          "design",
          "jupyter_core",
          "jupyter_kernel_test",
          "qtconsole"
         ],
         "type": "nominal"
        },
        "y": {
         "field": "number",
         "type": "quantitative"
        }
       },
       "mark": "bar",
       "title": "Issues created in the last 30 days"
      },
      "text/plain": [
       "<VegaLite 2 object>\n",
       "\n",
       "If you see this message, it means the renderer has not been properly enabled\n",
       "for the frontend that you are using. For more information, see\n",
       "https://altair-viz.github.io/user_guide/troubleshooting.html\n"
      ]
     },
     "execution_count": 19,
     "metadata": {},
     "output_type": "execute_result"
    }
   ],
   "source": [
    "created_counts = created.groupby(['org', 'repo']).count()['number'].reset_index()\n",
    "created_counts['org/repo'] = created_counts.apply(lambda a: a['org'] + '/' + a['repo'], axis=1)\n",
    "sorted_vals = created_counts.sort_values(['org', 'number'], ascending=False)['repo'].values\n",
    "alt.Chart(data=created_counts, title=\"Issues created in the last 30 days\").mark_bar().encode(\n",
    "    x=alt.X('repo', sort=alt.Sort(sorted_vals.tolist())),\n",
    "    y='number',\n",
    "    color='org',\n",
    ")"
   ]
  },
  {
   "cell_type": "code",
   "execution_count": 20,
   "metadata": {
    "jupyter": {
     "source_hidden": true
    },
    "papermill": {
     "duration": 114.602949,
     "end_time": "2019-06-20T17:15:36.983954",
     "exception": false,
     "start_time": "2019-06-20T17:13:42.381005",
     "status": "completed"
    },
    "tags": [
     "hide_input"
    ]
   },
   "outputs": [
    {
     "name": "stderr",
     "output_type": "stream",
     "text": [
      "\r",
      "  0%|          | 0/4 [00:00<?, ?it/s]"
     ]
    },
    {
     "name": "stderr",
     "output_type": "stream",
     "text": [
      "\r",
      " 25%|██▌       | 1/4 [00:21<01:04, 21.51s/it]"
     ]
    },
    {
     "name": "stderr",
     "output_type": "stream",
     "text": [
      "\r",
      " 50%|█████     | 2/4 [00:59<00:52, 26.41s/it]"
     ]
    },
    {
     "name": "stderr",
     "output_type": "stream",
     "text": [
      "\r",
      " 75%|███████▌  | 3/4 [01:46<00:32, 32.67s/it]"
     ]
    },
    {
     "name": "stderr",
     "output_type": "stream",
     "text": [
      "\r",
      "100%|██████████| 4/4 [01:54<00:00, 25.17s/it]"
     ]
    },
    {
     "name": "stderr",
     "output_type": "stream",
     "text": [
      "\n"
     ]
    }
   ],
   "source": [
    "# Closed issues\n",
    "closed = []\n",
    "for org in tqdm(orgs):\n",
    "    query = f\"is:issue user:{org} closed:{start_date}..{end_date}\"\n",
    "    this_closed = run_github_query(query)\n",
    "    this_closed['org'] = org\n",
    "    closed.append(this_closed)\n",
    "closed = pd.concat(closed)\n",
    "closed['repo'] = closed['repository_url'].map(lambda a: a.split('/')[-1])"
   ]
  },
  {
   "cell_type": "code",
   "execution_count": 21,
   "metadata": {
    "jupyter": {
     "source_hidden": true
    },
    "papermill": {
     "duration": 0.351189,
     "end_time": "2019-06-20T17:15:37.465757",
     "exception": false,
     "start_time": "2019-06-20T17:15:37.114568",
     "status": "completed"
    },
    "tags": [
     "hide_input"
    ]
   },
   "outputs": [
    {
     "data": {
      "application/vnd.vegalite.v2+json": {
       "$schema": "https://vega.github.io/schema/vega-lite/v2.6.0.json",
       "config": {
        "view": {
         "height": 300,
         "width": 400
        }
       },
       "data": {
        "name": "data-66c5b9c22ec83c0066627a9b55bec091"
       },
       "datasets": {
        "data-66c5b9c22ec83c0066627a9b55bec091": [
         {
          "number": 1,
          "org": "jupyter",
          "org/repo": "jupyter/atom-notebook",
          "repo": "atom-notebook"
         },
         {
          "number": 4,
          "org": "jupyter",
          "org/repo": "jupyter/docker-stacks",
          "repo": "docker-stacks"
         },
         {
          "number": 15,
          "org": "jupyter",
          "org/repo": "jupyter/enterprise_gateway",
          "repo": "enterprise_gateway"
         },
         {
          "number": 2,
          "org": "jupyter",
          "org/repo": "jupyter/jupyter",
          "repo": "jupyter"
         },
         {
          "number": 5,
          "org": "jupyter",
          "org/repo": "jupyter/jupyter-book",
          "repo": "jupyter-book"
         },
         {
          "number": 9,
          "org": "jupyter",
          "org/repo": "jupyter/jupyter_core",
          "repo": "jupyter_core"
         },
         {
          "number": 2,
          "org": "jupyter",
          "org/repo": "jupyter/jupyter_server",
          "repo": "jupyter_server"
         },
         {
          "number": 1,
          "org": "jupyter",
          "org/repo": "jupyter/nb2kg",
          "repo": "nb2kg"
         },
         {
          "number": 16,
          "org": "jupyter",
          "org/repo": "jupyter/nbconvert",
          "repo": "nbconvert"
         },
         {
          "number": 1,
          "org": "jupyter",
          "org/repo": "jupyter/nbdime",
          "repo": "nbdime"
         },
         {
          "number": 38,
          "org": "jupyter",
          "org/repo": "jupyter/nbgrader",
          "repo": "nbgrader"
         },
         {
          "number": 9,
          "org": "jupyter",
          "org/repo": "jupyter/notebook",
          "repo": "notebook"
         },
         {
          "number": 4,
          "org": "jupyter",
          "org/repo": "jupyter/qtconsole",
          "repo": "qtconsole"
         },
         {
          "number": 10,
          "org": "jupyter",
          "org/repo": "jupyter/repo2docker",
          "repo": "repo2docker"
         },
         {
          "number": 1,
          "org": "jupyter",
          "org/repo": "jupyter/terminado",
          "repo": "terminado"
         },
         {
          "number": 4,
          "org": "jupyter-widgets",
          "org/repo": "jupyter-widgets/ipyleaflet",
          "repo": "ipyleaflet"
         },
         {
          "number": 10,
          "org": "jupyter-widgets",
          "org/repo": "jupyter-widgets/ipywidgets",
          "repo": "ipywidgets"
         },
         {
          "number": 3,
          "org": "jupyter-widgets",
          "org/repo": "jupyter-widgets/jupyter-sphinx",
          "repo": "jupyter-sphinx"
         },
         {
          "number": 1,
          "org": "jupyter-widgets",
          "org/repo": "jupyter-widgets/pythreejs",
          "repo": "pythreejs"
         },
         {
          "number": 2,
          "org": "jupyter-widgets",
          "org/repo": "jupyter-widgets/tutorial",
          "repo": "tutorial"
         },
         {
          "number": 1,
          "org": "jupyterhub",
          "org/repo": "jupyterhub/alabaster-jupyterhub",
          "repo": "alabaster-jupyterhub"
         },
         {
          "number": 5,
          "org": "jupyterhub",
          "org/repo": "jupyterhub/binderhub",
          "repo": "binderhub"
         },
         {
          "number": 1,
          "org": "jupyterhub",
          "org/repo": "jupyterhub/dockerspawner",
          "repo": "dockerspawner"
         },
         {
          "number": 14,
          "org": "jupyterhub",
          "org/repo": "jupyterhub/jupyterhub",
          "repo": "jupyterhub"
         },
         {
          "number": 1,
          "org": "jupyterhub",
          "org/repo": "jupyterhub/kubespawner",
          "repo": "kubespawner"
         },
         {
          "number": 6,
          "org": "jupyterhub",
          "org/repo": "jupyterhub/mybinder.org-deploy",
          "repo": "mybinder.org-deploy"
         },
         {
          "number": 10,
          "org": "jupyterhub",
          "org/repo": "jupyterhub/nbgitpuller",
          "repo": "nbgitpuller"
         },
         {
          "number": 4,
          "org": "jupyterhub",
          "org/repo": "jupyterhub/team-compass",
          "repo": "team-compass"
         },
         {
          "number": 24,
          "org": "jupyterhub",
          "org/repo": "jupyterhub/the-littlest-jupyterhub",
          "repo": "the-littlest-jupyterhub"
         },
         {
          "number": 1,
          "org": "jupyterhub",
          "org/repo": "jupyterhub/traefik-proxy",
          "repo": "traefik-proxy"
         },
         {
          "number": 3,
          "org": "jupyterhub",
          "org/repo": "jupyterhub/zero-to-jupyterhub-k8s",
          "repo": "zero-to-jupyterhub-k8s"
         },
         {
          "number": 113,
          "org": "jupyterlab",
          "org/repo": "jupyterlab/jupyterlab",
          "repo": "jupyterlab"
         },
         {
          "number": 7,
          "org": "jupyterlab",
          "org/repo": "jupyterlab/jupyterlab-data-explorer",
          "repo": "jupyterlab-data-explorer"
         },
         {
          "number": 2,
          "org": "jupyterlab",
          "org/repo": "jupyterlab/jupyterlab-demo",
          "repo": "jupyterlab-demo"
         },
         {
          "number": 7,
          "org": "jupyterlab",
          "org/repo": "jupyterlab/jupyterlab-git",
          "repo": "jupyterlab-git"
         },
         {
          "number": 1,
          "org": "jupyterlab",
          "org/repo": "jupyterlab/jupyterlab-github",
          "repo": "jupyterlab-github"
         },
         {
          "number": 1,
          "org": "jupyterlab",
          "org/repo": "jupyterlab/jupyterlab_server",
          "repo": "jupyterlab_server"
         }
        ]
       },
       "encoding": {
        "color": {
         "field": "org",
         "type": "nominal"
        },
        "x": {
         "field": "repo",
         "sort": [
          "jupyterlab",
          "jupyterlab-data-explorer",
          "jupyterlab-git",
          "jupyterlab-demo",
          "jupyterlab-github",
          "jupyterlab_server",
          "the-littlest-jupyterhub",
          "jupyterhub",
          "nbgitpuller",
          "mybinder.org-deploy",
          "binderhub",
          "team-compass",
          "zero-to-jupyterhub-k8s",
          "alabaster-jupyterhub",
          "dockerspawner",
          "kubespawner",
          "traefik-proxy",
          "ipywidgets",
          "ipyleaflet",
          "jupyter-sphinx",
          "tutorial",
          "pythreejs",
          "nbgrader",
          "nbconvert",
          "enterprise_gateway",
          "repo2docker",
          "jupyter_core",
          "notebook",
          "jupyter-book",
          "docker-stacks",
          "qtconsole",
          "jupyter",
          "jupyter_server",
          "atom-notebook",
          "nb2kg",
          "nbdime",
          "terminado"
         ],
         "type": "nominal"
        },
        "y": {
         "field": "number",
         "type": "quantitative"
        }
       },
       "mark": "bar",
       "title": "Issues closed in the last 30 days"
      },
      "text/plain": [
       "<VegaLite 2 object>\n",
       "\n",
       "If you see this message, it means the renderer has not been properly enabled\n",
       "for the frontend that you are using. For more information, see\n",
       "https://altair-viz.github.io/user_guide/troubleshooting.html\n"
      ]
     },
     "execution_count": 21,
     "metadata": {},
     "output_type": "execute_result"
    }
   ],
   "source": [
    "closed_counts = closed.groupby(['org', 'repo']).count()['number'].reset_index()\n",
    "closed_counts['org/repo'] = closed_counts.apply(lambda a: a['org'] + '/' + a['repo'], axis=1)\n",
    "sorted_vals = closed_counts.sort_values(['org', 'number'], ascending=False)['repo'].values\n",
    "alt.Chart(data=closed_counts, title=\"Issues closed in the last 30 days\").mark_bar().encode(\n",
    "    x=alt.X('repo', sort=alt.Sort(sorted_vals.tolist())),\n",
    "    y='number',\n",
    "    color='org',\n",
    ")"
   ]
  },
  {
   "cell_type": "markdown",
   "metadata": {
    "papermill": {
     "duration": 0.173631,
     "end_time": "2019-06-20T17:15:37.790774",
     "exception": false,
     "start_time": "2019-06-20T17:15:37.617143",
     "status": "completed"
    },
    "tags": []
   },
   "source": [
    "### A list of recent issues\n",
    "\n",
    "Here are the top 5 active issues in each repository in the last 30 days"
   ]
  },
  {
   "cell_type": "code",
   "execution_count": 22,
   "metadata": {
    "jupyter": {
     "source_hidden": true
    },
    "papermill": {
     "duration": 0.662326,
     "end_time": "2019-06-20T17:15:38.618692",
     "exception": false,
     "start_time": "2019-06-20T17:15:37.956366",
     "status": "completed"
    },
    "tags": [
     "hide_input"
    ],
    "toc-hr-collapsed": false
   },
   "outputs": [
    {
     "data": {
      "text/markdown": [
       "#### jupyter\n",
       "\n",
       "##### [jupyter/design](https://github.com/jupyter/design)\n",
       "* [(#59)](https://github.com/jupyter/design/issues/59): _Who made the \"community call\" logo?_ by **[choldgraf](https://github.com/choldgraf)**\n",
       "\n",
       "##### [jupyter/docker-stacks](https://github.com/jupyter/docker-stacks)\n",
       "* [(#886)](https://github.com/jupyter/docker-stacks/issues/886): _Building private versions of the stacks_ by **[richtong](https://github.com/richtong)**\n",
       "* [(#883)](https://github.com/jupyter/docker-stacks/issues/883): _adding cvxopt to scipy-notebook using docker-compose_ by **[daviddoji](https://github.com/daviddoji)**\n",
       "* [(#880)](https://github.com/jupyter/docker-stacks/issues/880): _Feature: restartable Jupyter in container_ by **[kafonek](https://github.com/kafonek)**\n",
       "* [(#879)](https://github.com/jupyter/docker-stacks/issues/879): _add libjemalloc1 package_ by **[ivmaks](https://github.com/ivmaks)**\n",
       "* [(#878)](https://github.com/jupyter/docker-stacks/issues/878): _conda environment inconsistency in scipy-notebook_ by **[philippegr](https://github.com/philippegr)**\n",
       "* [(#877)](https://github.com/jupyter/docker-stacks/issues/877): _pandas.read_hdf_ by **[alanchalk](https://github.com/alanchalk)**\n",
       "* [(#888)](https://github.com/jupyter/docker-stacks/issues/888): _r-notebook Dockerfile not building locally_ by **[ttimbers](https://github.com/ttimbers)**\n",
       "* [(#887)](https://github.com/jupyter/docker-stacks/issues/887): _add scikit-monaco package_ by **[daviddoji](https://github.com/daviddoji)**\n",
       "* [(#885)](https://github.com/jupyter/docker-stacks/issues/885): _Permission denied when mounting local folders_ by **[ejgutierrez74](https://github.com/ejgutierrez74)**\n",
       "* [(#884)](https://github.com/jupyter/docker-stacks/issues/884): _Exception: Java gateway process exited before sending its port number_ by **[yonghaihung](https://github.com/yonghaihung)**\n",
       "\n",
       "##### [jupyter/enterprise_gateway](https://github.com/jupyter/enterprise_gateway)\n",
       "* [(#683)](https://github.com/jupyter/enterprise_gateway/issues/683): _Request to Kernel spawn fails even if the KG_REQUEST_TIMEOUT and KG_CONNECT_TIMEOUT are increased_ by **[suryag10](https://github.com/suryag10)**\n",
       "* [(#678)](https://github.com/jupyter/enterprise_gateway/issues/678): _Launching ipython kernel with custom arguments_ by **[IMAM9AIS](https://github.com/IMAM9AIS)**\n",
       "* [(#676)](https://github.com/jupyter/enterprise_gateway/issues/676): _Exchange user specific files between EG kernel and Notebook container, and restrict access of files between Notebook containers._ by **[ArindamHalder7](https://github.com/ArindamHalder7)**\n",
       "\n",
       "##### [jupyter/jupyter-book](https://github.com/jupyter/jupyter-book)\n",
       "* [(#213)](https://github.com/jupyter/jupyter-book/issues/213): _live reload not working with `make serve`_ by **[thammegowda](https://github.com/thammegowda)**\n",
       "* [(#205)](https://github.com/jupyter/jupyter-book/issues/205): _docker file for build-container?_ by **[kkmann](https://github.com/kkmann)**\n",
       "* [(#221)](https://github.com/jupyter/jupyter-book/issues/221): _scroll bar with many \"hidecode\" tags_ by **[joergbrech](https://github.com/joergbrech)**\n",
       "* [(#220)](https://github.com/jupyter/jupyter-book/issues/220): _Cannot publish book locally using docker_ by **[kurniawano](https://github.com/kurniawano)**\n",
       "* [(#204)](https://github.com/jupyter/jupyter-book/issues/204): _Metadata includes legacy literal - publisher as \"Data 100\"_ by **[psychemedia](https://github.com/psychemedia)**\n",
       "* [(#219)](https://github.com/jupyter/jupyter-book/issues/219): _Why do we have \"content\" directory inside the \"_site\"?_ by **[thammegowda](https://github.com/thammegowda)**\n",
       "* [(#212)](https://github.com/jupyter/jupyter-book/issues/212): _Enable hiding (with visbility toggle) of markdown cells similar to code cells_ by **[BENR0](https://github.com/BENR0)**\n",
       "* [(#211)](https://github.com/jupyter/jupyter-book/issues/211): _Double check installation dependencies_ by **[choldgraf](https://github.com/choldgraf)**\n",
       "\n",
       "##### [jupyter/jupyter_client](https://github.com/jupyter/jupyter_client)\n",
       "* [(#445)](https://github.com/jupyter/jupyter_client/issues/445): _Reference kernelspec resources from kernel?_ by **[devinrsmith](https://github.com/devinrsmith)**\n",
       "* [(#442)](https://github.com/jupyter/jupyter_client/issues/442): _is_complete_reply status conflicts with general reply status_ by **[jasongrout](https://github.com/jasongrout)**\n",
       "* [(#446)](https://github.com/jupyter/jupyter_client/issues/446): _Supporting the Debug Adapter Protocol_ by **[JohanMabille](https://github.com/JohanMabille)**\n",
       "* [(#443)](https://github.com/jupyter/jupyter_client/issues/443): _execute_reply has extra fields even when status is error or abort_ by **[jasongrout](https://github.com/jasongrout)**\n",
       "\n",
       "##### [jupyter/jupyter_core](https://github.com/jupyter/jupyter_core)\n",
       "* [(#156)](https://github.com/jupyter/jupyter_core/issues/156): _4.5.0 fails to install_ by **[esselius](https://github.com/esselius)**\n",
       "\n",
       "##### [jupyter/jupyter_kernel_test](https://github.com/jupyter/jupyter_kernel_test)\n",
       "* [(#51)](https://github.com/jupyter/jupyter_kernel_test/issues/51): _tests broken as of master_ by **[anntzer](https://github.com/anntzer)**\n",
       "\n",
       "##### [jupyter/jupyter_server](https://github.com/jupyter/jupyter_server)\n",
       "* [(#53)](https://github.com/jupyter/jupyter_server/issues/53): _Sync Notebook and Jupyter Server._ by **[Zsailer](https://github.com/Zsailer)**\n",
       "* [(#55)](https://github.com/jupyter/jupyter_server/issues/55): _Configure extensions from server CLI._ by **[Zsailer](https://github.com/Zsailer)**\n",
       "* [(#51)](https://github.com/jupyter/jupyter_server/issues/51): _Support --no-browser_ by **[yuvipanda](https://github.com/yuvipanda)**\n",
       "* [(#50)](https://github.com/jupyter/jupyter_server/issues/50): _[DISCUSS] Pluggable user token creation/validation_ by **[echarles](https://github.com/echarles)**\n",
       "* [(#58)](https://github.com/jupyter/jupyter_server/issues/58): _Issue when using directory named \"checkpoints\" or \"trust\"_ by **[xuchenCN](https://github.com/xuchenCN)**\n",
       "* [(#57)](https://github.com/jupyter/jupyter_server/issues/57): _The readme's link is broken?_ by **[Dustyposa](https://github.com/Dustyposa)**\n",
       "\n",
       "##### [jupyter/nbconvert](https://github.com/jupyter/nbconvert)\n",
       "* [(#1031)](https://github.com/jupyter/nbconvert/issues/1031): _Gnarly proof-of-concept PDF generation with QtWebEngine_ by **[bollwyvl](https://github.com/bollwyvl)**\n",
       "* [(#1045)](https://github.com/jupyter/nbconvert/issues/1045): _NBConvert 6.0 Planning_ by **[MSeal](https://github.com/MSeal)**\n",
       "* [(#1032)](https://github.com/jupyter/nbconvert/issues/1032): _Optional store_history for ExecutePreprocessor.preprocess_cell_ by **[wwitzel](https://github.com/wwitzel)**\n",
       "* [(#1052)](https://github.com/jupyter/nbconvert/issues/1052): _NBConvert 5.6 Release_ by **[MSeal](https://github.com/MSeal)**\n",
       "* [(#1037)](https://github.com/jupyter/nbconvert/issues/1037): _Issue rendering markdown cells to HTML when they contain <div> tags_ by **[jhamrick](https://github.com/jhamrick)**\n",
       "* [(#1043)](https://github.com/jupyter/nbconvert/issues/1043): _Document \"remove_input_tag\" traitlet_ by **[choldgraf](https://github.com/choldgraf)**\n",
       "* [(#1041)](https://github.com/jupyter/nbconvert/issues/1041): _How to create thumbnails from ipynb files or jupyter notebooks_ by **[vasu0494](https://github.com/vasu0494)**\n",
       "* [(#1033)](https://github.com/jupyter/nbconvert/issues/1033): _Deprecated exporter_locator always imported_ by **[SylvainCorlay](https://github.com/SylvainCorlay)**\n",
       "\n",
       "##### [jupyter/nbdime](https://github.com/jupyter/nbdime)\n",
       "* [(#480)](https://github.com/jupyter/nbdime/issues/480): _NBDime REST API changes for git diffs_ by **[jaipreet-s](https://github.com/jaipreet-s)**\n",
       "* [(#478)](https://github.com/jupyter/nbdime/issues/478): _use nbdime as a clever git filter_ by **[qmarcou](https://github.com/qmarcou)**\n",
       "* [(#479)](https://github.com/jupyter/nbdime/issues/479): _Enabling extension with `sys-prefix` fails_ by **[agoose77](https://github.com/agoose77)**\n",
       "\n",
       "##### [jupyter/nbgrader](https://github.com/jupyter/nbgrader)\n",
       "* [(#1097)](https://github.com/jupyter/nbgrader/issues/1097): _Impersonation of other users via the exchange_ by **[rkdarst](https://github.com/rkdarst)**\n",
       "* [(#1148)](https://github.com/jupyter/nbgrader/issues/1148): _Running \"create assignment\" as a standalone module_ by **[psychemedia](https://github.com/psychemedia)**\n",
       "* [(#1158)](https://github.com/jupyter/nbgrader/issues/1158): _KeyError when calling `nbgrader feedback`_ by **[b-stone](https://github.com/b-stone)**\n",
       "* [(#1104)](https://github.com/jupyter/nbgrader/issues/1104): _Timestamps can be altered using the filesystem exchange_ by **[rkdarst](https://github.com/rkdarst)**\n",
       "* [(#1141)](https://github.com/jupyter/nbgrader/issues/1141): _Possible to fetch feedback for only some notebooks in an assignment_ by **[jhamrick](https://github.com/jhamrick)**\n",
       "* [(#1154)](https://github.com/jupyter/nbgrader/issues/1154): _Assignment generation: adding: raise NotImplementedError()_ by **[psychemedia](https://github.com/psychemedia)**\n",
       "* [(#1153)](https://github.com/jupyter/nbgrader/issues/1153): _Randomising Values in questions and tests as part of assignment process_ by **[psychemedia](https://github.com/psychemedia)**\n",
       "* [(#1130)](https://github.com/jupyter/nbgrader/issues/1130): _Implement a generic API to support custom exchanges_ by **[jhamrick](https://github.com/jhamrick)**\n",
       "* [(#1157)](https://github.com/jupyter/nbgrader/issues/1157): _Exclude students when autograding_ by **[rkdarst](https://github.com/rkdarst)**\n",
       "* [(#1095)](https://github.com/jupyter/nbgrader/issues/1095): _Use db for exchange mechanism_ by **[ryanlovett](https://github.com/ryanlovett)**\n",
       "\n",
       "##### [jupyter/nbviewer](https://github.com/jupyter/nbviewer)\n",
       "* [(#835)](https://github.com/jupyter/nbviewer/issues/835): _Fully formed Github repo urls leading to 400 error_ by **[fperez](https://github.com/fperez)**\n",
       "* [(#837)](https://github.com/jupyter/nbviewer/issues/837): _Docker image : enable extensions_ by **[dbeniamine](https://github.com/dbeniamine)**\n",
       "* [(#836)](https://github.com/jupyter/nbviewer/issues/836): _nbviewer error displaying output from IPython.display.Javascript when using lib=_ by **[tony-johnson](https://github.com/tony-johnson)**\n",
       "* [(#834)](https://github.com/jupyter/nbviewer/issues/834): _Update the FAQ to point people to the Discourse_ by **[choldgraf](https://github.com/choldgraf)**\n",
       "\n",
       "##### [jupyter/notebook](https://github.com/jupyter/notebook)\n",
       "* [(#4698)](https://github.com/jupyter/notebook/issues/4698): _Release v6.0_ by **[choldgraf](https://github.com/choldgraf)**\n",
       "* [(#4680)](https://github.com/jupyter/notebook/issues/4680): _Latest preact-compat release breaks notebook._ by **[ssanderson](https://github.com/ssanderson)**\n",
       "* [(#4640)](https://github.com/jupyter/notebook/issues/4640): _Contents API sort of works for windows-style C:\\ paths_ by **[jasongrout](https://github.com/jasongrout)**\n",
       "* [(#4663)](https://github.com/jupyter/notebook/issues/4663): _is there sentence case in Jupyter Notebook?_ by **[Iorent](https://github.com/Iorent)**\n",
       "* [(#4665)](https://github.com/jupyter/notebook/issues/4665): _how to make edit section include front extension ?_ by **[autodataming](https://github.com/autodataming)**\n",
       "* [(#4644)](https://github.com/jupyter/notebook/issues/4644): _SyntaxError with Python 2_ by **[Elizaveta239](https://github.com/Elizaveta239)**\n",
       "* [(#4645)](https://github.com/jupyter/notebook/issues/4645): _keep checkpoints file aside (c.FileCheckpoints)_ by **[gsemet](https://github.com/gsemet)**\n",
       "* [(#4656)](https://github.com/jupyter/notebook/issues/4656): _Error: Unable to create process_ by **[debsdo](https://github.com/debsdo)**\n",
       "* [(#4639)](https://github.com/jupyter/notebook/issues/4639): _Ability to provide stdin to nbconvert_ by **[youngmit](https://github.com/youngmit)**\n",
       "* [(#4673)](https://github.com/jupyter/notebook/issues/4673): _Pin Jupyter Notebook icon onto system tray_ by **[Iorent](https://github.com/Iorent)**\n",
       "\n",
       "##### [jupyter/qtconsole](https://github.com/jupyter/qtconsole)\n",
       "* [(#345)](https://github.com/jupyter/qtconsole/issues/345): _No module named 'aip'_ by **[jenny269](https://github.com/jenny269)**\n",
       "\n",
       "##### [jupyter/repo2docker](https://github.com/jupyter/repo2docker)\n",
       "* [(#686)](https://github.com/jupyter/repo2docker/issues/686): _Add support for packagcompiler for julia support_ by **[jlperla](https://github.com/jlperla)**\n",
       "* [(#701)](https://github.com/jupyter/repo2docker/issues/701): _Make the names of r2d generated images more readable_ by **[sgibson91](https://github.com/sgibson91)**\n",
       "* [(#707)](https://github.com/jupyter/repo2docker/issues/707): _The need for speed_ by **[betatim](https://github.com/betatim)**\n",
       "* [(#702)](https://github.com/jupyter/repo2docker/issues/702): _Implement a GUI that builds repo2docker config files_ by **[choldgraf](https://github.com/choldgraf)**\n",
       "* [(#700)](https://github.com/jupyter/repo2docker/issues/700): _man pages on the bionic master images are deactivated_ by **[ocordes](https://github.com/ocordes)**\n",
       "* [(#691)](https://github.com/jupyter/repo2docker/issues/691): _case sensitivity issue with postBuild_ by **[minrk](https://github.com/minrk)**\n",
       "* [(#687)](https://github.com/jupyter/repo2docker/issues/687): _Allow BuildPack to use a custom template in .render()_ by **[Xarthisius](https://github.com/Xarthisius)**\n",
       "* [(#698)](https://github.com/jupyter/repo2docker/issues/698): _In a Python 2 repository `python` gives you Python 3_ by **[betatim](https://github.com/betatim)**\n",
       "* [(#696)](https://github.com/jupyter/repo2docker/issues/696): _Setting r2d.user_id = 0 doesn't cause exception_ by **[yuvipanda](https://github.com/yuvipanda)**\n",
       "\n",
       "\n",
       "#### jupyter-widgets\n",
       "\n",
       "##### [jupyter-widgets/ipyleaflet](https://github.com/jupyter-widgets/ipyleaflet)\n",
       "* [(#373)](https://github.com/jupyter-widgets/ipyleaflet/issues/373): _In the geojson layer the on_hover and on_click events calls have very different arguments._ by **[dwr-psandhu](https://github.com/dwr-psandhu)**\n",
       "* [(#367)](https://github.com/jupyter-widgets/ipyleaflet/issues/367): _Changing position of some controls doesn't work_ by **[kgiacobbi](https://github.com/kgiacobbi)**\n",
       "* [(#379)](https://github.com/jupyter-widgets/ipyleaflet/issues/379): _Add the redraw method for TileLayer_ by **[kgiacobbi](https://github.com/kgiacobbi)**\n",
       "* [(#377)](https://github.com/jupyter-widgets/ipyleaflet/issues/377): _Enable CI_ by **[martinRenou](https://github.com/martinRenou)**\n",
       "* [(#372)](https://github.com/jupyter-widgets/ipyleaflet/issues/372): _Select tile layers programmatically_ by **[deeplook](https://github.com/deeplook)**\n",
       "* [(#370)](https://github.com/jupyter-widgets/ipyleaflet/issues/370): _Displayed event issues_ by **[martinRenou](https://github.com/martinRenou)**\n",
       "* [(#369)](https://github.com/jupyter-widgets/ipyleaflet/issues/369): _Can't interact with ipywidgets.Tab in a WidgetControl_ by **[kgiacobbi](https://github.com/kgiacobbi)**\n",
       "\n",
       "##### [jupyter-widgets/ipywidgets](https://github.com/jupyter-widgets/ipywidgets)\n",
       "* [(#2417)](https://github.com/jupyter-widgets/ipywidgets/issues/2417): _Mention ipython_blocking in the async docs_ by **[jasongrout](https://github.com/jasongrout)**\n",
       "* [(#2443)](https://github.com/jupyter-widgets/ipywidgets/issues/2443): _Bounded Float / Int text defaults_ by **[lheagy](https://github.com/lheagy)**\n",
       "* [(#2439)](https://github.com/jupyter-widgets/ipywidgets/issues/2439): _Error While Embedding Jupyter Widgets in Other Contexts than the Notebook_ by **[Pabla007](https://github.com/Pabla007)**\n",
       "* [(#2437)](https://github.com/jupyter-widgets/ipywidgets/issues/2437): _Cannot change the width of the widget \"Password\"_ by **[piyueh](https://github.com/piyueh)**\n",
       "* [(#2427)](https://github.com/jupyter-widgets/ipywidgets/issues/2427): _interact() does not update the values inside the given function (Live Audio)_ by **[JohnIssue](https://github.com/JohnIssue)**\n",
       "* [(#2426)](https://github.com/jupyter-widgets/ipywidgets/issues/2426): _Gettiing issues while using SQL kernel and trying to display a table_ by **[KaynRyu](https://github.com/KaynRyu)**\n",
       "* [(#2419)](https://github.com/jupyter-widgets/ipywidgets/issues/2419): _How to remove Matplotlib plots flickering when refreshing the output often_ by **[bybyte](https://github.com/bybyte)**\n",
       "* [(#2446)](https://github.com/jupyter-widgets/ipywidgets/issues/2446): _Deprecation of widgets.Text.on_submit_ by **[janfreyberg](https://github.com/janfreyberg)**\n",
       "* [(#2444)](https://github.com/jupyter-widgets/ipywidgets/issues/2444): _FloatText widget replaces values as Int _ by **[denphi](https://github.com/denphi)**\n",
       "* [(#2440)](https://github.com/jupyter-widgets/ipywidgets/issues/2440): _FloatSlider static html export not working as expected_ by **[Boomer91](https://github.com/Boomer91)**\n",
       "\n",
       "##### [jupyter-widgets/jupyter-sphinx](https://github.com/jupyter-widgets/jupyter-sphinx)\n",
       "* [(#50)](https://github.com/jupyter-widgets/jupyter-sphinx/issues/50): _Move to Jupyter GitHub organization?_ by **[SylvainCorlay](https://github.com/SylvainCorlay)**\n",
       "* [(#48)](https://github.com/jupyter-widgets/jupyter-sphinx/issues/48): _handle stderr_ by **[akhmerov](https://github.com/akhmerov)**\n",
       "* [(#54)](https://github.com/jupyter-widgets/jupyter-sphinx/issues/54): _maint: use pathlib_ by **[akhmerov](https://github.com/akhmerov)**\n",
       "\n",
       "##### [jupyter-widgets/jupyterlab-sidecar](https://github.com/jupyter-widgets/jupyterlab-sidecar)\n",
       "* [(#18)](https://github.com/jupyter-widgets/jupyterlab-sidecar/issues/18): _jupyterlab-sidecar compatibility with jupyter 1.0_ by **[downiec](https://github.com/downiec)**\n",
       "\n",
       "##### [jupyter-widgets/pythreejs](https://github.com/jupyter-widgets/pythreejs)\n",
       "* [(#274)](https://github.com/jupyter-widgets/pythreejs/issues/274): _Mouse control gets stuck and objects disappear when using multiple Renderers inside ipywidgets.interact_ by **[t-suzuki](https://github.com/t-suzuki)**\n",
       "* [(#273)](https://github.com/jupyter-widgets/pythreejs/issues/273): _How do you use loaders?_ by **[aliddell](https://github.com/aliddell)**\n",
       "* [(#279)](https://github.com/jupyter-widgets/pythreejs/issues/279): _PythreeJs cannot render more than 1000 objects if you use example helper_ by **[TakodaS](https://github.com/TakodaS)**\n",
       "* [(#275)](https://github.com/jupyter-widgets/pythreejs/issues/275): _new release of jupyter-sphinx_ by **[akhmerov](https://github.com/akhmerov)**\n",
       "\n",
       "##### [jupyter-widgets/tutorial](https://github.com/jupyter-widgets/tutorial)\n",
       "* [(#27)](https://github.com/jupyter-widgets/tutorial/issues/27): _LinkError on ipywebrtc while building environment with conda_ by **[akielbowicz](https://github.com/akielbowicz)**\n",
       "* [(#40)](https://github.com/jupyter-widgets/tutorial/issues/40): _bqplot version_ by **[martinRenou](https://github.com/martinRenou)**\n",
       "\n",
       "\n",
       "#### jupyterhub\n",
       "\n",
       "##### [jupyterhub/alabaster-jupyterhub](https://github.com/jupyterhub/alabaster-jupyterhub)\n",
       "* [(#15)](https://github.com/jupyterhub/alabaster-jupyterhub/issues/15): _Make the right TOC scrollable_ by **[choldgraf](https://github.com/choldgraf)**\n",
       "\n",
       "##### [jupyterhub/binderhub](https://github.com/jupyterhub/binderhub)\n",
       "* [(#871)](https://github.com/jupyterhub/binderhub/issues/871): _Terminal doesn't activate the Binder environment in JupyterLab_ by **[choldgraf](https://github.com/choldgraf)**\n",
       "* [(#854)](https://github.com/jupyterhub/binderhub/issues/854): _Build pods and the use of the z2jh user-scheduler_ by **[consideRatio](https://github.com/consideRatio)**\n",
       "* [(#850)](https://github.com/jupyterhub/binderhub/issues/850): _Add anchors to filepath?_ by **[kteich-oreilly](https://github.com/kteich-oreilly)**\n",
       "* [(#880)](https://github.com/jupyterhub/binderhub/issues/880): _Notes on updating the user interface_ by **[betatim](https://github.com/betatim)**\n",
       "* [(#864)](https://github.com/jupyterhub/binderhub/issues/864): _[feature request] Automatic docker image pull on each node_ by **[ltetrel](https://github.com/ltetrel)**\n",
       "* [(#862)](https://github.com/jupyterhub/binderhub/issues/862): _Support a header.html and a footer.html_ by **[choldgraf](https://github.com/choldgraf)**\n",
       "* [(#855)](https://github.com/jupyterhub/binderhub/issues/855): _Optimize the user-schedulers conf for image locality_ by **[consideRatio](https://github.com/consideRatio)**\n",
       "* [(#852)](https://github.com/jupyterhub/binderhub/issues/852): _Give users feedback on image transfer progress_ by **[betatim](https://github.com/betatim)**\n",
       "* [(#875)](https://github.com/jupyterhub/binderhub/issues/875): _Add sharing widget to loading page_ by **[betatim](https://github.com/betatim)**\n",
       "* [(#874)](https://github.com/jupyterhub/binderhub/issues/874): _Advertise hub's current usage and capacity_ by **[betatim](https://github.com/betatim)**\n",
       "\n",
       "##### [jupyterhub/chartpress](https://github.com/jupyterhub/chartpress)\n",
       "* [(#38)](https://github.com/jupyterhub/chartpress/issues/38): _using chartpress with pre-commit_ by **[rokroskar](https://github.com/rokroskar)**\n",
       "* [(#37)](https://github.com/jupyterhub/chartpress/issues/37): _Using ChartPress for releases with GitHub Actions_ by **[manics](https://github.com/manics)**\n",
       "\n",
       "##### [jupyterhub/configurable-http-proxy](https://github.com/jupyterhub/configurable-http-proxy)\n",
       "* [(#207)](https://github.com/jupyterhub/configurable-http-proxy/issues/207): _Large header support for node.js_ by **[brianv0](https://github.com/brianv0)**\n",
       "* [(#205)](https://github.com/jupyterhub/configurable-http-proxy/issues/205): _Command line option for custom headers_ by **[ivan-gomes](https://github.com/ivan-gomes)**\n",
       "\n",
       "##### [jupyterhub/dockerspawner](https://github.com/jupyterhub/dockerspawner)\n",
       "* [(#313)](https://github.com/jupyterhub/dockerspawner/issues/313): _pull_image fails if docker regsitry not on port 443_ by **[timhughes](https://github.com/timhughes)**\n",
       "* [(#314)](https://github.com/jupyterhub/dockerspawner/issues/314): _Tests fail against  jupyterhub 1.0.0_ by **[timhughes](https://github.com/timhughes)**\n",
       "* [(#312)](https://github.com/jupyterhub/dockerspawner/issues/312): _Can't change UID and GID in spawning containers_ by **[m-alekseev](https://github.com/m-alekseev)**\n",
       "* [(#311)](https://github.com/jupyterhub/dockerspawner/issues/311): _'The absolute minimal JupyterHub user image' does not work with dockerspawner.SystemUserSpawner (?)_ by **[kozo2](https://github.com/kozo2)**\n",
       "\n",
       "##### [jupyterhub/dummyauthenticator](https://github.com/jupyterhub/dummyauthenticator)\n",
       "* [(#8)](https://github.com/jupyterhub/dummyauthenticator/issues/8): _It not works after setting as README._ by **[Google-Oriented-Coder](https://github.com/Google-Oriented-Coder)**\n",
       "\n",
       "##### [jupyterhub/firstuseauthenticator](https://github.com/jupyterhub/firstuseauthenticator)\n",
       "* [(#19)](https://github.com/jupyterhub/firstuseauthenticator/issues/19): _Set minimum length on passwords_ by **[yuvipanda](https://github.com/yuvipanda)**\n",
       "\n",
       "##### [jupyterhub/jupyter-rsession-proxy](https://github.com/jupyterhub/jupyter-rsession-proxy)\n",
       "* [(#70)](https://github.com/jupyterhub/jupyter-rsession-proxy/issues/70): _Could we make 'Shiny' menu item as optional?_ by **[standby7878](https://github.com/standby7878)**\n",
       "\n",
       "##### [jupyterhub/jupyter-server-proxy](https://github.com/jupyterhub/jupyter-server-proxy)\n",
       "* [(#133)](https://github.com/jupyterhub/jupyter-server-proxy/issues/133): _tomcat process_ by **[djangoliv](https://github.com/djangoliv)**\n",
       "\n",
       "##### [jupyterhub/jupyterhub](https://github.com/jupyterhub/jupyterhub)\n",
       "* [(#2598)](https://github.com/jupyterhub/jupyterhub/issues/2598): _add configurable limit to the kernel runtime _ by **[rochaporto](https://github.com/rochaporto)**\n",
       "* [(#2576)](https://github.com/jupyterhub/jupyterhub/issues/2576): _permission denied when acl is configured_ by **[eylenth](https://github.com/eylenth)**\n",
       "* [(#2597)](https://github.com/jupyterhub/jupyterhub/issues/2597): _how do you connect a javascript app to a jupyterhub kernel?_ by **[bionicles](https://github.com/bionicles)**\n",
       "* [(#2607)](https://github.com/jupyterhub/jupyterhub/issues/2607): _Unable to access API with generated API key_ by **[caseyzak24](https://github.com/caseyzak24)**\n",
       "* [(#2602)](https://github.com/jupyterhub/jupyterhub/issues/2602): _Redirect loop trying to oauth with ORCiD _ by **[brayanrodbajo](https://github.com/brayanrodbajo)**\n",
       "* [(#2608)](https://github.com/jupyterhub/jupyterhub/issues/2608): _500: Internal server error_ by **[payal4143](https://github.com/payal4143)**\n",
       "* [(#2604)](https://github.com/jupyterhub/jupyterhub/issues/2604): _access other servers_ by **[mathematicalmichael](https://github.com/mathematicalmichael)**\n",
       "* [(#2580)](https://github.com/jupyterhub/jupyterhub/issues/2580): _Using SwarmSpawner can't pass arguments to change NB_USER NB_UID etc_ by **[m-alekseev](https://github.com/m-alekseev)**\n",
       "* [(#2592)](https://github.com/jupyterhub/jupyterhub/issues/2592): _JupyterHub gets 'stuck' trying to start for >2min_ by **[yuvipanda](https://github.com/yuvipanda)**\n",
       "* [(#2589)](https://github.com/jupyterhub/jupyterhub/issues/2589): _Named server string sanitization_ by **[vilhelmen](https://github.com/vilhelmen)**\n",
       "\n",
       "##### [jupyterhub/jupyterhub-deploy-docker](https://github.com/jupyterhub/jupyterhub-deploy-docker)\n",
       "* [(#86)](https://github.com/jupyterhub/jupyterhub-deploy-docker/issues/86): _Docker volumes permission denied_ by **[SanderGn](https://github.com/SanderGn)**\n",
       "\n",
       "##### [jupyterhub/jupyterlab-hub](https://github.com/jupyterhub/jupyterlab-hub)\n",
       "* [(#92)](https://github.com/jupyterhub/jupyterlab-hub/issues/92): _Repo still relevant?_ by **[saulshanabrook](https://github.com/saulshanabrook)**\n",
       "* [(#91)](https://github.com/jupyterhub/jupyterlab-hub/issues/91): _jupyterlab-hub include page_config.json check and provide help finding JupyterHub_ by **[NumesSanguis](https://github.com/NumesSanguis)**\n",
       "* [(#90)](https://github.com/jupyterhub/jupyterlab-hub/issues/90): _Too strict version check - hub-extension@1.0.0-alpha.6 not installing but 0.12.0 does_ by **[NumesSanguis](https://github.com/NumesSanguis)**\n",
       "* [(#89)](https://github.com/jupyterhub/jupyterlab-hub/issues/89): _Preventing implicit spawn for user because last spawn failed_ by **[maxpv](https://github.com/maxpv)**\n",
       "\n",
       "##### [jupyterhub/kubespawner](https://github.com/jupyterhub/kubespawner)\n",
       "* [(#324)](https://github.com/jupyterhub/kubespawner/issues/324): _username for the form \"aaa-bbb\" gets PVC like: \"claim-aaa-e2bbb-XXXX\"_ by **[gsemet](https://github.com/gsemet)**\n",
       "* [(#328)](https://github.com/jupyterhub/kubespawner/issues/328): _Spawn Failed Message: Harmless Error but Could Turn Off Novice Users_ by **[julienchastang](https://github.com/julienchastang)**\n",
       "* [(#325)](https://github.com/jupyterhub/kubespawner/issues/325): _z2jh's single.extra-env does not seem to be consummed_ by **[gsemet](https://github.com/gsemet)**\n",
       "* [(#326)](https://github.com/jupyterhub/kubespawner/issues/326): _Issue Creating Ephemeral User Pods_ by **[afeiszli](https://github.com/afeiszli)**\n",
       "\n",
       "##### [jupyterhub/ldapauthenticator](https://github.com/jupyterhub/ldapauthenticator)\n",
       "* [(#125)](https://github.com/jupyterhub/ldapauthenticator/issues/125): _How to pass domain/username through LDAP_ by **[jljs](https://github.com/jljs)**\n",
       "* [(#124)](https://github.com/jupyterhub/ldapauthenticator/issues/124): _LDAP timeout?_ by **[adriendelsalle](https://github.com/adriendelsalle)**\n",
       "\n",
       "##### [jupyterhub/ltiauthenticator](https://github.com/jupyterhub/ltiauthenticator)\n",
       "* [(#19)](https://github.com/jupyterhub/ltiauthenticator/issues/19): _Incompatibilities and hanging tljh-config reload_ by **[wmunters](https://github.com/wmunters)**\n",
       "\n",
       "##### [jupyterhub/mybinder.org-deploy](https://github.com/jupyterhub/mybinder.org-deploy)\n",
       "* [(#1021)](https://github.com/jupyterhub/mybinder.org-deploy/issues/1021): _OVH cluster scale up plan_ by **[betatim](https://github.com/betatim)**\n",
       "* [(#1038)](https://github.com/jupyterhub/mybinder.org-deploy/issues/1038): _Pre-pull popular images on nodes to make mybinder.org faster_ by **[yuvipanda](https://github.com/yuvipanda)**\n",
       "* [(#999)](https://github.com/jupyterhub/mybinder.org-deploy/issues/999): _Federation redirector setup_ by **[betatim](https://github.com/betatim)**\n",
       "* [(#1036)](https://github.com/jupyterhub/mybinder.org-deploy/issues/1036): _Document where the GitHub tokens come from_ by **[yuvipanda](https://github.com/yuvipanda)**\n",
       "* [(#985)](https://github.com/jupyterhub/mybinder.org-deploy/issues/985): _Use Google Conntainer Registry's docker hub mirror_ by **[betatim](https://github.com/betatim)**\n",
       "* [(#1023)](https://github.com/jupyterhub/mybinder.org-deploy/issues/1023): _Deploy to all production clusters, then test them_ by **[betatim](https://github.com/betatim)**\n",
       "* [(#998)](https://github.com/jupyterhub/mybinder.org-deploy/issues/998): _Updated project owners for binder-prod on google cloud_ by **[betatim](https://github.com/betatim)**\n",
       "\n",
       "##### [jupyterhub/nbgitpuller](https://github.com/jupyterhub/nbgitpuller)\n",
       "* [(#83)](https://github.com/jupyterhub/nbgitpuller/issues/83): _Add url parameter to prevent redirection after syncing_ by **[parmentelat](https://github.com/parmentelat)**\n",
       "* [(#91)](https://github.com/jupyterhub/nbgitpuller/issues/91): _turning an existing dir into a git repo_ by **[parmentelat](https://github.com/parmentelat)**\n",
       "* [(#85)](https://github.com/jupyterhub/nbgitpuller/issues/85): _Block insecure ways of pulling from private repositories by default_ by **[yuvipanda](https://github.com/yuvipanda)**\n",
       "* [(#87)](https://github.com/jupyterhub/nbgitpuller/issues/87): _Use `dev0` for development version of nbgitpuller_ by **[choldgraf](https://github.com/choldgraf)**\n",
       "* [(#84)](https://github.com/jupyterhub/nbgitpuller/issues/84): _Automatically set user.name & user.email if necessary_ by **[parmentelat](https://github.com/parmentelat)**\n",
       "* [(#96)](https://github.com/jupyterhub/nbgitpuller/issues/96): _Add mybinder to the link generator_ by **[fmaussion](https://github.com/fmaussion)**\n",
       "* [(#95)](https://github.com/jupyterhub/nbgitpuller/issues/95): _Have a --force option on gitpuller_ by **[clancychilds](https://github.com/clancychilds)**\n",
       "* [(#94)](https://github.com/jupyterhub/nbgitpuller/issues/94): _need a way to define final redirect url_ by **[parmentelat](https://github.com/parmentelat)**\n",
       "* [(#90)](https://github.com/jupyterhub/nbgitpuller/issues/90): _`repo_dir = repo.split('/')[-1]`_ by **[parmentelat](https://github.com/parmentelat)**\n",
       "\n",
       "##### [jupyterhub/oauthenticator](https://github.com/jupyterhub/oauthenticator)\n",
       "* [(#271)](https://github.com/jupyterhub/oauthenticator/issues/271): _302 Redirect issue _ by **[hedgehog-millenium](https://github.com/hedgehog-millenium)**\n",
       "* [(#273)](https://github.com/jupyterhub/oauthenticator/issues/273): _Generic oauth handler does not include client_id and client_secret in POST request_ by **[chucklay](https://github.com/chucklay)**\n",
       "* [(#265)](https://github.com/jupyterhub/oauthenticator/issues/265): _GitHub authentication for Organization Teams_ by **[scottyhq](https://github.com/scottyhq)**\n",
       "* [(#266)](https://github.com/jupyterhub/oauthenticator/issues/266): _Using Auth0 usernames instead of email addresses_ by **[JuanCab](https://github.com/JuanCab)**\n",
       "\n",
       "##### [jupyterhub/systemdspawner](https://github.com/jupyterhub/systemdspawner)\n",
       "* [(#52)](https://github.com/jupyterhub/systemdspawner/issues/52): _Add USERHOME placeholder_ by **[mxjeff](https://github.com/mxjeff)**\n",
       "\n",
       "##### [jupyterhub/team-compass](https://github.com/jupyterhub/team-compass)\n",
       "* [(#164)](https://github.com/jupyterhub/team-compass/issues/164): _mybinder.org user survey_ by **[betatim](https://github.com/betatim)**\n",
       "* [(#163)](https://github.com/jupyterhub/team-compass/issues/163): _Transfer over domain rights of `mybinder.org` to the Jupyter account_ by **[choldgraf](https://github.com/choldgraf)**\n",
       "* [(#172)](https://github.com/jupyterhub/team-compass/issues/172): _Blog post: Zenodo integration_ by **[choldgraf](https://github.com/choldgraf)**\n",
       "* [(#171)](https://github.com/jupyterhub/team-compass/issues/171): _Binder federation blog post_ by **[betatim](https://github.com/betatim)**\n",
       "* [(#170)](https://github.com/jupyterhub/team-compass/issues/170): _Add a place for team discussion to the Community Forum_ by **[choldgraf](https://github.com/choldgraf)**\n",
       "* [(#169)](https://github.com/jupyterhub/team-compass/issues/169): _Review Request: BinderHub chapter in the Turing Way_ by **[sgibson91](https://github.com/sgibson91)**\n",
       "* [(#165)](https://github.com/jupyterhub/team-compass/issues/165): _Job description and duties for a \"Binder fellow\"?_ by **[choldgraf](https://github.com/choldgraf)**\n",
       "\n",
       "##### [jupyterhub/the-littlest-jupyterhub](https://github.com/jupyterhub/the-littlest-jupyterhub)\n",
       "* [(#351)](https://github.com/jupyterhub/the-littlest-jupyterhub/issues/351): _server is slow to start then gives timeout error_ by **[lachlancampbell](https://github.com/lachlancampbell)**\n",
       "* [(#375)](https://github.com/jupyterhub/the-littlest-jupyterhub/issues/375): _Change password doesn't work_ by **[efedorov-dart](https://github.com/efedorov-dart)**\n",
       "* [(#349)](https://github.com/jupyterhub/the-littlest-jupyterhub/issues/349): _add jupyter-* to some group_ by **[gsemet](https://github.com/gsemet)**\n",
       "* [(#346)](https://github.com/jupyterhub/the-littlest-jupyterhub/issues/346): _Intermittent failure to install when using Ansible playbook_ by **[lachlancampbell](https://github.com/lachlancampbell)**\n",
       "* [(#345)](https://github.com/jupyterhub/the-littlest-jupyterhub/issues/345): _Automatic HTTPS setting doesn't work_ by **[lucas-mior](https://github.com/lucas-mior)**\n",
       "* [(#369)](https://github.com/jupyterhub/the-littlest-jupyterhub/issues/369): _PyQt5 issue_ by **[GerardoLopez](https://github.com/GerardoLopez)**\n",
       "* [(#378)](https://github.com/jupyterhub/the-littlest-jupyterhub/issues/378): _admin-user-name can not be capitalized_ by **[burkett123](https://github.com/burkett123)**\n",
       "* [(#377)](https://github.com/jupyterhub/the-littlest-jupyterhub/issues/377): _cut and paste problem in TLJH release 0.1 guide_ by **[burkett123](https://github.com/burkett123)**\n",
       "* [(#361)](https://github.com/jupyterhub/the-littlest-jupyterhub/issues/361): _Jupyter Hub doesn't start if auth state is enabled_ by **[jmartinc89](https://github.com/jmartinc89)**\n",
       "* [(#353)](https://github.com/jupyterhub/the-littlest-jupyterhub/issues/353): _Deleting accounts from the command line_ by **[JuanCab](https://github.com/JuanCab)**\n",
       "\n",
       "##### [jupyterhub/traefik-proxy](https://github.com/jupyterhub/traefik-proxy)\n",
       "* [(#58)](https://github.com/jupyterhub/traefik-proxy/issues/58): _[ASK] Traefik configuration example for multiple node server_ by **[sundh4](https://github.com/sundh4)**\n",
       "\n",
       "##### [jupyterhub/zero-to-jupyterhub-k8s](https://github.com/jupyterhub/zero-to-jupyterhub-k8s)\n",
       "* [(#1310)](https://github.com/jupyterhub/zero-to-jupyterhub-k8s/issues/1310): _External services not being passed to hub configuration_ by **[rschroll](https://github.com/rschroll)**\n",
       "* [(#1314)](https://github.com/jupyterhub/zero-to-jupyterhub-k8s/issues/1314): _Not setting explicit host on Ingress_ by **[nfds89](https://github.com/nfds89)**\n",
       "* [(#1311)](https://github.com/jupyterhub/zero-to-jupyterhub-k8s/issues/1311): _How to set env variable after the server has started?_ by **[frouzbeh](https://github.com/frouzbeh)**\n",
       "* [(#1302)](https://github.com/jupyterhub/zero-to-jupyterhub-k8s/issues/1302): _Ability to pass extra command line options to configurable-http-proxy_ by **[ivan-gomes](https://github.com/ivan-gomes)**\n",
       "* [(#1305)](https://github.com/jupyterhub/zero-to-jupyterhub-k8s/issues/1305): _How does image-awaiter and image-puller interact?_ by **[Lastcysa](https://github.com/Lastcysa)**\n",
       "* [(#1300)](https://github.com/jupyterhub/zero-to-jupyterhub-k8s/issues/1300): _User-scheduler doesn't work with rancher/local-path-provisioner_ by **[manics](https://github.com/manics)**\n",
       "* [(#1297)](https://github.com/jupyterhub/zero-to-jupyterhub-k8s/issues/1297): _Native authenticator by default_ by **[consideRatio](https://github.com/consideRatio)**\n",
       "* [(#1315)](https://github.com/jupyterhub/zero-to-jupyterhub-k8s/issues/1315): _hub pod stuck in pending_ by **[Dreeseaw](https://github.com/Dreeseaw)**\n",
       "* [(#1313)](https://github.com/jupyterhub/zero-to-jupyterhub-k8s/issues/1313): _Release 0.9_ by **[consideRatio](https://github.com/consideRatio)**\n",
       "* [(#1312)](https://github.com/jupyterhub/zero-to-jupyterhub-k8s/issues/1312): _Gitlab Auth throw error_ by **[Jose3212](https://github.com/Jose3212)**\n",
       "\n",
       "\n",
       "#### jupyterlab\n",
       "\n",
       "##### [jupyterlab/jupyterlab](https://github.com/jupyterlab/jupyterlab)\n",
       "* [(#6572)](https://github.com/jupyterlab/jupyterlab/issues/6572): _Ship vega4-extension by default_ by **[davidanthoff](https://github.com/davidanthoff)**\n",
       "* [(#6560)](https://github.com/jupyterlab/jupyterlab/issues/6560): _Extension breaking after upgrading from 0.35.5 to 1.0.0a8 _ by **[tugceakin](https://github.com/tugceakin)**\n",
       "* [(#6402)](https://github.com/jupyterlab/jupyterlab/issues/6402): _How to keep bundled extensions up-to-date_ by **[jakevdp](https://github.com/jakevdp)**\n",
       "* [(#6380)](https://github.com/jupyterlab/jupyterlab/issues/6380): _How do you engineer a JupyterLab React Component?_ by **[bionicles](https://github.com/bionicles)**\n",
       "* [(#6491)](https://github.com/jupyterlab/jupyterlab/issues/6491): _Support for yarn alias_ by **[gnestor](https://github.com/gnestor)**\n",
       "* [(#6504)](https://github.com/jupyterlab/jupyterlab/issues/6504): _JupyterLab 1.0 Release Plan_ by **[jasongrout](https://github.com/jasongrout)**\n",
       "* [(#6434)](https://github.com/jupyterlab/jupyterlab/issues/6434): _Disable (core) extensions via conf.d files_ by **[vidartf](https://github.com/vidartf)**\n",
       "* [(#6545)](https://github.com/jupyterlab/jupyterlab/issues/6545): _Losing output after disconnecting from remote_ by **[cossio](https://github.com/cossio)**\n",
       "* [(#6658)](https://github.com/jupyterlab/jupyterlab/issues/6658): _Downloading an svg file using the file browser fails_ by **[ellisonbg](https://github.com/ellisonbg)**\n",
       "* [(#6537)](https://github.com/jupyterlab/jupyterlab/issues/6537): _Open directory from Path (manually cd)_ by **[tslaton](https://github.com/tslaton)**\n",
       "\n",
       "##### [jupyterlab/jupyterlab-data-explorer](https://github.com/jupyterlab/jupyterlab-data-explorer)\n",
       "* [(#27)](https://github.com/jupyterlab/jupyterlab-data-explorer/issues/27): _Filtering and Searching_ by **[saulshanabrook](https://github.com/saulshanabrook)**\n",
       "* [(#26)](https://github.com/jupyterlab/jupyterlab-data-explorer/issues/26): _Add documentation_ by **[saulshanabrook](https://github.com/saulshanabrook)**\n",
       "* [(#22)](https://github.com/jupyterlab/jupyterlab-data-explorer/issues/22): _Allow querying relative URL_ by **[saulshanabrook](https://github.com/saulshanabrook)**\n",
       "* [(#21)](https://github.com/jupyterlab/jupyterlab-data-explorer/issues/21): _Named outputs from notebooks_ by **[saulshanabrook](https://github.com/saulshanabrook)**\n",
       "* [(#20)](https://github.com/jupyterlab/jupyterlab-data-explorer/issues/20): _Vega viewer use data explorer to locate data_ by **[saulshanabrook](https://github.com/saulshanabrook)**\n",
       "* [(#19)](https://github.com/jupyterlab/jupyterlab-data-explorer/issues/19): _Voyager Converter_ by **[saulshanabrook](https://github.com/saulshanabrook)**\n",
       "* [(#18)](https://github.com/jupyterlab/jupyterlab-data-explorer/issues/18): _Provide data converters as mimerenders_ by **[saulshanabrook](https://github.com/saulshanabrook)**\n",
       "* [(#17)](https://github.com/jupyterlab/jupyterlab-data-explorer/issues/17): _Improve expand/collapse UI_ by **[saulshanabrook](https://github.com/saulshanabrook)**\n",
       "* [(#16)](https://github.com/jupyterlab/jupyterlab-data-explorer/issues/16): _View Notebook Ouputs in Data Explorer_ by **[saulshanabrook](https://github.com/saulshanabrook)**\n",
       "\n",
       "##### [jupyterlab/jupyterlab-google-drive](https://github.com/jupyterlab/jupyterlab-google-drive)\n",
       "* [(#157)](https://github.com/jupyterlab/jupyterlab-google-drive/issues/157): _Google Oauth Setup procedure does not work anymore (at least for Europe?)_ by **[jpdus](https://github.com/jpdus)**\n",
       "\n",
       "##### [jupyterlab/jupyterlab-telemetry](https://github.com/jupyterlab/jupyterlab-telemetry)\n",
       "* [(#6)](https://github.com/jupyterlab/jupyterlab-telemetry/issues/6): _Is this extension ready to be installed?_ by **[Econ808](https://github.com/Econ808)**\n",
       "* [(#5)](https://github.com/jupyterlab/jupyterlab-telemetry/issues/5): _Move to jupyter/telemetry_ by **[Zsailer](https://github.com/Zsailer)**\n",
       "\n"
      ],
      "text/plain": [
       "<IPython.core.display.Markdown object>"
      ]
     },
     "execution_count": 22,
     "metadata": {},
     "output_type": "execute_result"
    }
   ],
   "source": [
    "markdown = []\n",
    "for org, idata in created.groupby('org'):\n",
    "    markdown.append(f\"#### {org}\")\n",
    "    markdown.append(\"\")\n",
    "    for repourl, issues in idata.groupby('repository_url'):\n",
    "        reponame, repo = repourl.split('/')[-2:]\n",
    "        markdown.append(f\"##### [{reponame}/{repo}](https://github.com/{reponame}/{repo})\")\n",
    "        for _, issue in issues.sort_values('comments', ascending=False).head(10).iterrows():\n",
    "            user_name = issue['user']['login']\n",
    "            user_url = issue['user']['html_url']\n",
    "            issue_number = issue['number']\n",
    "            issue_html = issue['html_url']\n",
    "            issue_title = issue['title']\n",
    "\n",
    "            text = f\"* [(#{issue_number})]({issue_html}): _{issue_title}_ by **[{user_name}]({user_url})**\"\n",
    "            markdown.append(text)\n",
    "        markdown.append('')\n",
    "    markdown.append('')\n",
    "\n",
    "Markdown('\\n'.join(markdown))"
   ]
  },
  {
   "cell_type": "code",
   "execution_count": null,
   "metadata": {
    "jupyter": {
     "source_hidden": true
    },
    "papermill": {
     "duration": 0.207787,
     "end_time": "2019-06-20T17:15:39.089084",
     "exception": false,
     "start_time": "2019-06-20T17:15:38.881297",
     "status": "completed"
    },
    "tags": []
   },
   "outputs": [],
   "source": []
  }
 ],
 "metadata": {
  "kernelspec": {
   "display_name": "Python 3",
   "language": "python",
   "name": "python3"
  },
  "language_info": {
   "codemirror_mode": {
    "name": "ipython",
    "version": 3
   },
   "file_extension": ".py",
   "mimetype": "text/x-python",
   "name": "python",
   "nbconvert_exporter": "python",
   "pygments_lexer": "ipython3",
   "version": "3.6.5"
  },
  "papermill": {
   "duration": 393.23487,
   "end_time": "2019-06-20T17:15:40.020201",
   "environment_variables": {},
   "exception": null,
   "input_path": "./jupyter-activity-template.ipynb",
   "output_path": "../reports/2019-05-21_2019-06-20.ipynb",
   "parameters": {
    "end_date": "2019-06-20",
    "renderer": "jupyterlab",
    "start_date": "2019-05-21"
   },
   "start_time": "2019-06-20T17:09:06.785331",
   "version": "0.18.0"
  },
  "toc-autonumbering": false,
  "toc-showmarkdowntxt": false,
  "toc-showtags": false
 },
 "nbformat": 4,
 "nbformat_minor": 2
}