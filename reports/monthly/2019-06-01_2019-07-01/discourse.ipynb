{
 "cells": [
  {
   "cell_type": "code",
   "execution_count": 1,
   "metadata": {
    "papermill": {
     "duration": 3.630631,
     "end_time": "2019-08-20T16:17:05.151970",
     "exception": false,
     "start_time": "2019-08-20T16:17:01.521339",
     "status": "completed"
    },
    "tags": [
     "hide_input"
    ]
   },
   "outputs": [],
   "source": [
    "import requests\n",
    "from IPython.display import Markdown\n",
    "from tqdm import tqdm, tqdm_notebook\n",
    "import pandas as pd\n",
    "from matplotlib import pyplot as plt\n",
    "import numpy as np\n",
    "import altair as alt\n",
    "from requests.utils import quote\n",
    "import os\n",
    "from datetime import timedelta\n",
    "from mod import alt_theme"
   ]
  },
  {
   "cell_type": "code",
   "execution_count": 2,
   "metadata": {
    "papermill": {
     "duration": 0.103095,
     "end_time": "2019-08-20T16:17:05.303864",
     "exception": false,
     "start_time": "2019-08-20T16:17:05.200769",
     "status": "completed"
    },
    "tags": [
     "parameters",
     "hide_input"
    ]
   },
   "outputs": [],
   "source": [
    "fmt = \"{:%Y-%m-%d}\"\n",
    "\n",
    "# Can optionally use number of days to choose dates\n",
    "n_days = 60\n",
    "end_date = fmt.format(pd.datetime.today())\n",
    "start_date = fmt.format(pd.datetime.today() - timedelta(days=n_days))\n",
    "\n",
    "renderer = \"kaggle\"\n",
    "github_orgs = [\"jupyterhub\", \"jupyter\", \"jupyterlab\", \"jupyter-widgets\", \"ipython\", \"binder-examples\", \"nteract\"]\n",
    "bot_names = [\"stale\", \"codecov\", \"jupyterlab-dev-mode\", \"henchbot\"]"
   ]
  },
  {
   "cell_type": "code",
   "execution_count": 3,
   "metadata": {
    "papermill": {
     "duration": 0.063337,
     "end_time": "2019-08-20T16:17:05.414833",
     "exception": false,
     "start_time": "2019-08-20T16:17:05.351496",
     "status": "completed"
    },
    "tags": [
     "injected-parameters"
    ]
   },
   "outputs": [],
   "source": [
    "# Parameters\n",
    "renderer = \"kaggle\"\n",
    "start_date = \"2019-06-01\"\n",
    "end_date = \"2019-07-01\"\n"
   ]
  },
  {
   "cell_type": "code",
   "execution_count": 4,
   "metadata": {
    "papermill": {
     "duration": 0.068926,
     "end_time": "2019-08-20T16:17:05.523328",
     "exception": false,
     "start_time": "2019-08-20T16:17:05.454402",
     "status": "completed"
    },
    "tags": []
   },
   "outputs": [
    {
     "data": {
      "text/plain": [
       "ThemeRegistry.enable('my_theme')"
      ]
     },
     "execution_count": 4,
     "metadata": {},
     "output_type": "execute_result"
    }
   ],
   "source": [
    "alt.renderers.enable(renderer);\n",
    "alt.themes.register('my_theme', alt_theme)\n",
    "alt.themes.enable(\"my_theme\")"
   ]
  },
  {
   "cell_type": "code",
   "execution_count": 5,
   "metadata": {
    "papermill": {
     "duration": 0.11983,
     "end_time": "2019-08-20T16:17:05.711325",
     "exception": false,
     "start_time": "2019-08-20T16:17:05.591495",
     "status": "completed"
    },
    "tags": [
     "hide_input"
    ]
   },
   "outputs": [],
   "source": [
    "# Discourse API key\n",
    "api = {'Api-Key': os.environ['DISCOURSE_API_KEY'],\n",
    "       'Api-Username': os.environ['DISCOURSE_API_USERNAME']}"
   ]
  },
  {
   "cell_type": "code",
   "execution_count": 6,
   "metadata": {
    "papermill": {
     "duration": 0.263996,
     "end_time": "2019-08-20T16:17:06.049588",
     "exception": false,
     "start_time": "2019-08-20T16:17:05.785592",
     "status": "completed"
    },
    "tags": [
     "hide_input"
    ]
   },
   "outputs": [],
   "source": [
    "# Discourse\n",
    "def topics_to_markdown(topics, n_list=10):\n",
    "    body = []\n",
    "    for _, topic in topics.iterrows():\n",
    "        title = topic['fancy_title']\n",
    "        slug = topic['slug']\n",
    "        posts_count = topic['posts_count']\n",
    "        url = f'https://discourse.jupyter.org/t/{slug}'\n",
    "        body.append(f'* [{title}]({url}) ({posts_count} posts)')\n",
    "    body = body[:n_list]\n",
    "    return '\\n'.join(body)\n",
    "\n",
    "def counts_from_activity(activity):\n",
    "    counts = activity.groupby('category_id').count()['bookmarked'].reset_index()\n",
    "    counts['parent_category'] = None\n",
    "    for ii, irow in counts.iterrows():\n",
    "        if parent_categories[irow['category_id']] is not None:\n",
    "            counts.loc[ii, 'parent_category'] = parent_categories[irow['category_id']]\n",
    "\n",
    "    counts['category_id'] = counts['category_id'].map(lambda a: category_mapping[a])\n",
    "    counts['parent_category'] = counts['parent_category'].map(lambda a: category_mapping[a] if a is not None else 'parent')\n",
    "    is_parent = counts['parent_category'] == 'parent'\n",
    "    counts.loc[is_parent, 'parent_category'] = counts.loc[is_parent, 'category_id'] \n",
    "    counts['parent/category'] = counts.apply(lambda a: a['parent_category']+'/'+a['category_id'], axis=1)\n",
    "    counts = counts.sort_values(['parent_category', 'bookmarked'], ascending=False)\n",
    "    return counts"
   ]
  },
  {
   "cell_type": "markdown",
   "metadata": {
    "papermill": {
     "duration": 0.083956,
     "end_time": "2019-08-20T16:17:06.233593",
     "exception": false,
     "start_time": "2019-08-20T16:17:06.149637",
     "status": "completed"
    },
    "tags": []
   },
   "source": [
    "# Community forum activity\n",
    "\n",
    "The [Jupyter Community Forum](https://discourse.jupyter.org) is a place for Jovyans across the\n",
    "community to talk about Jupyter tools in interactive computing and how they fit into their\n",
    "workflows. It's also a place for developers to share ideas, tools, tips, and help one another.\n",
    "\n",
    "Below are a few updates from activity in the Discourse. For more detailed information about\n",
    "the activity on the Community Forum, check out these links:\n",
    "\n",
    "* [The users page](https://discourse.jupyter.org/u) has information about user activity\n",
    "* [The top posts page](https://discourse.jupyter.org/top) contains a list of top posts, sorted\n",
    "  by various metrics."
   ]
  },
  {
   "cell_type": "code",
   "execution_count": 7,
   "metadata": {
    "papermill": {
     "duration": 5.602723,
     "end_time": "2019-08-20T16:17:11.938285",
     "exception": false,
     "start_time": "2019-08-20T16:17:06.335562",
     "status": "completed"
    },
    "tags": [
     "hide_input"
    ]
   },
   "outputs": [],
   "source": [
    "# Get categories for IDs\n",
    "url = \"https://discourse.jupyter.org/site.json\"\n",
    "resp = requests.get(url, headers=api)\n",
    "category_mapping = {cat['id']: cat['name'] for cat in resp.json()['categories']}\n",
    "parent_categories = {cat['id']: cat.get(\"parent_category_id\", None) for cat in resp.json()['categories']}"
   ]
  },
  {
   "cell_type": "code",
   "execution_count": 8,
   "metadata": {
    "papermill": {
     "duration": 0.066677,
     "end_time": "2019-08-20T16:17:12.112625",
     "exception": false,
     "start_time": "2019-08-20T16:17:12.045948",
     "status": "completed"
    },
    "tags": [
     "hide_input"
    ]
   },
   "outputs": [],
   "source": [
    "# Base URL to use\n",
    "url = \"https://discourse.jupyter.org/latest.json\""
   ]
  },
  {
   "cell_type": "markdown",
   "metadata": {
    "papermill": {
     "duration": 0.045339,
     "end_time": "2019-08-20T16:17:12.199962",
     "exception": false,
     "start_time": "2019-08-20T16:17:12.154623",
     "status": "completed"
    },
    "tags": []
   },
   "source": [
    "## Topics with lots of likes\n",
    "\n",
    "\"Likes\" are a way for community members to say thanks for a helpful post, show their\n",
    "support for an idea, or generally to share a little positivity with somebody else.\n",
    "These are topics that have generated lots of likes in recent history."
   ]
  },
  {
   "cell_type": "code",
   "execution_count": 9,
   "metadata": {
    "papermill": {
     "duration": 0.629963,
     "end_time": "2019-08-20T16:17:12.872706",
     "exception": false,
     "start_time": "2019-08-20T16:17:12.242743",
     "status": "completed"
    },
    "tags": [
     "hide_input"
    ]
   },
   "outputs": [
    {
     "data": {
      "text/markdown": [
       "* [Introduce yourself!](https://discourse.jupyter.org/t/introduce-yourself) (108 posts)\n",
       "* [{WIP} Re-Design of Jupyter.org Website](https://discourse.jupyter.org/t/wip-re-design-of-jupyter-org-website) (60 posts)\n",
       "* [JupyterHub, Binder workshop in Oslo, Sept. 5-8](https://discourse.jupyter.org/t/jupyterhub-binder-workshop-in-oslo-sept-5-8) (38 posts)\n",
       "* [Microsoft Word Integration (Intern Project)](https://discourse.jupyter.org/t/microsoft-word-integration-intern-project) (24 posts)\n",
       "* [Jupyter Community Calls](https://discourse.jupyter.org/t/jupyter-community-calls) (29 posts)\n",
       "* [What&rsquo;s an alternative to the word &ldquo;Fellow&rdquo; or &ldquo;Fellowship&rdquo;?](https://discourse.jupyter.org/t/whats-an-alternative-to-the-word-fellow-or-fellowship) (16 posts)\n",
       "* [Help us choose an updated &ldquo;Launch Binder&rdquo; badge!](https://discourse.jupyter.org/t/help-us-choose-an-updated-launch-binder-badge) (21 posts)\n",
       "* [PyCon 2019 and mybinder.org](https://discourse.jupyter.org/t/pycon-2019-and-mybinder-org) (17 posts)\n",
       "* [The Binder Federation](https://discourse.jupyter.org/t/the-binder-federation) (14 posts)\n",
       "* [Jupyter community workshop: proposal on diversity, inclusion and accessibility](https://discourse.jupyter.org/t/jupyter-community-workshop-proposal-on-diversity-inclusion-and-accessibility) (20 posts)"
      ],
      "text/plain": [
       "<IPython.core.display.Markdown object>"
      ]
     },
     "execution_count": 9,
     "metadata": {},
     "output_type": "execute_result"
    }
   ],
   "source": [
    "params = {\"order\": \"likes\", \"ascending\": \"False\"}\n",
    "resp = requests.get(url, headers=api, params=params)\n",
    "\n",
    "# Topics with the most likes in recent history\n",
    "liked = pd.DataFrame(resp.json()['topic_list']['topics'])\n",
    "Markdown(topics_to_markdown(liked))"
   ]
  },
  {
   "cell_type": "markdown",
   "metadata": {
    "papermill": {
     "duration": 0.119467,
     "end_time": "2019-08-20T16:17:13.067665",
     "exception": false,
     "start_time": "2019-08-20T16:17:12.948198",
     "status": "completed"
    },
    "tags": []
   },
   "source": [
    "## Active topics on the Community Forum\n",
    "\n",
    "These are topics with lots of activity in recent history."
   ]
  },
  {
   "cell_type": "code",
   "execution_count": 10,
   "metadata": {
    "papermill": {
     "duration": 0.673095,
     "end_time": "2019-08-20T16:17:13.816888",
     "exception": false,
     "start_time": "2019-08-20T16:17:13.143793",
     "status": "completed"
    },
    "tags": [
     "hide_input"
    ]
   },
   "outputs": [
    {
     "data": {
      "text/markdown": [
       "* [Introduce yourself!](https://discourse.jupyter.org/t/introduce-yourself) (108 posts)\n",
       "* [{WIP} Re-Design of Jupyter.org Website](https://discourse.jupyter.org/t/wip-re-design-of-jupyter-org-website) (60 posts)\n",
       "* [Tip: embed custom github content in a Binder link with nbgitpuller](https://discourse.jupyter.org/t/tip-embed-custom-github-content-in-a-binder-link-with-nbgitpuller) (52 posts)\n",
       "* [JupyterHub, Binder workshop in Oslo, Sept. 5-8](https://discourse.jupyter.org/t/jupyterhub-binder-workshop-in-oslo-sept-5-8) (38 posts)\n",
       "* [Would a &ldquo;The Littlest Binder&rdquo; be useful?](https://discourse.jupyter.org/t/would-a-the-littlest-binder-be-useful) (31 posts)\n",
       "* [Jupyter Community Calls](https://discourse.jupyter.org/t/jupyter-community-calls) (29 posts)\n",
       "* [Plugins of considerations](https://discourse.jupyter.org/t/plugins-of-considerations) (28 posts)\n",
       "* [A proposal for JupyterHub communications](https://discourse.jupyter.org/t/a-proposal-for-jupyterhub-communications) (26 posts)\n",
       "* [Binder/BinderHub Workshops &ndash; Help Wanted!](https://discourse.jupyter.org/t/binder-binderhub-workshops-help-wanted) (25 posts)\n",
       "* [Microsoft Word Integration (Intern Project)](https://discourse.jupyter.org/t/microsoft-word-integration-intern-project) (24 posts)"
      ],
      "text/plain": [
       "<IPython.core.display.Markdown object>"
      ]
     },
     "execution_count": 10,
     "metadata": {},
     "output_type": "execute_result"
    }
   ],
   "source": [
    "params = {\"order\": \"posts\", \"ascending\": \"False\"}\n",
    "resp = requests.get(url, headers=api, params=params)\n",
    "\n",
    "# Topics with the most posts in recent history\n",
    "posts = pd.DataFrame(resp.json()['topic_list']['topics'])\n",
    "Markdown(topics_to_markdown(posts))"
   ]
  },
  {
   "cell_type": "code",
   "execution_count": 11,
   "metadata": {
    "papermill": {
     "duration": 0.191124,
     "end_time": "2019-08-20T16:17:14.094793",
     "exception": false,
     "start_time": "2019-08-20T16:17:13.903669",
     "status": "completed"
    },
    "tags": [
     "hide_input"
    ]
   },
   "outputs": [
    {
     "data": {
      "text/html": [
       "\n",
       "  <style>\n",
       "    .vega-actions a {\n",
       "        margin-right: 12px;\n",
       "        color: #757575;\n",
       "        font-weight: normal;\n",
       "        font-size: 13px;\n",
       "    }\n",
       "    .error {\n",
       "        color: red;\n",
       "    }\n",
       "  </style>\n",
       "  <div id=\"altair-viz-1\"></div>\n",
       "  <script>\n",
       "    requirejs.config({\n",
       "        \"paths\": {\n",
       "            \"vega\": \"https://cdn.jsdelivr.net/npm//vega@5?noext\",\n",
       "            \"vega-lib\": \"https://cdn.jsdelivr.net/npm//vega-lib?noext\",\n",
       "            \"vega-lite\": \"https://cdn.jsdelivr.net/npm//vega-lite@3.3.0?noext\",\n",
       "            \"vega-embed\": \"https://cdn.jsdelivr.net/npm//vega-embed@4?noext\",\n",
       "        }\n",
       "    });\n",
       "    require(['vega-embed'], function(vegaEmbed){\n",
       "      var spec = {\"config\": {\"axisLeft\": {\"labelFontSize\": 15}, \"axisBottom\": {\"labelFontSize\": 15}}, \"data\": {\"name\": \"data-d1645e5f3df568be92c30fd20876f2bc\"}, \"mark\": \"bar\", \"encoding\": {\"color\": {\"type\": \"nominal\", \"field\": \"parent_category\"}, \"x\": {\"type\": \"nominal\", \"field\": \"parent/category\", \"sort\": [\"accessibility\", \"Admin requests\", \"nbconvert\", \"Meta\", \"announcements\", \"JupyterLab\", \"discuss\", \"JupyterHub\", \"Enterprise Gateway\", \"Community Chat\", \"discuss\", \"Binder\", \"BinderHub\"]}, \"y\": {\"type\": \"quantitative\", \"field\": \"bookmarked\"}}, \"height\": 300, \"title\": \"Activity by category\", \"width\": 700, \"$schema\": \"https://vega.github.io/schema/vega-lite/v3.3.0.json\", \"datasets\": {\"data-d1645e5f3df568be92c30fd20876f2bc\": [{\"category_id\": \"accessibility\", \"bookmarked\": 2, \"parent_category\": \"Special Topics\", \"parent/category\": \"Special Topics/accessibility\"}, {\"category_id\": \"Admin requests\", \"bookmarked\": 1, \"parent_category\": \"Site Feedback\", \"parent/category\": \"Site Feedback/Admin requests\"}, {\"category_id\": \"nbconvert\", \"bookmarked\": 1, \"parent_category\": \"Notebook\", \"parent/category\": \"Notebook/nbconvert\"}, {\"category_id\": \"Meta\", \"bookmarked\": 4, \"parent_category\": \"Meta\", \"parent/category\": \"Meta/Meta\"}, {\"category_id\": \"announcements\", \"bookmarked\": 1, \"parent_category\": \"Meta\", \"parent/category\": \"Meta/announcements\"}, {\"category_id\": \"JupyterLab\", \"bookmarked\": 1, \"parent_category\": \"JupyterLab\", \"parent/category\": \"JupyterLab/JupyterLab\"}, {\"category_id\": \"discuss\", \"bookmarked\": 3, \"parent_category\": \"JupyterHub\", \"parent/category\": \"JupyterHub/discuss\"}, {\"category_id\": \"JupyterHub\", \"bookmarked\": 2, \"parent_category\": \"JupyterHub\", \"parent/category\": \"JupyterHub/JupyterHub\"}, {\"category_id\": \"Enterprise Gateway\", \"bookmarked\": 2, \"parent_category\": \"Enterprise Gateway\", \"parent/category\": \"Enterprise Gateway/Enterprise Gateway\"}, {\"category_id\": \"Community Chat\", \"bookmarked\": 3, \"parent_category\": \"Community Chat\", \"parent/category\": \"Community Chat/Community Chat\"}, {\"category_id\": \"discuss\", \"bookmarked\": 5, \"parent_category\": \"Binder\", \"parent/category\": \"Binder/discuss\"}, {\"category_id\": \"Binder\", \"bookmarked\": 4, \"parent_category\": \"Binder\", \"parent/category\": \"Binder/Binder\"}, {\"category_id\": \"BinderHub\", \"bookmarked\": 1, \"parent_category\": \"Binder\", \"parent/category\": \"Binder/BinderHub\"}]}};\n",
       "      var embedOpt = {\"mode\": \"vega-lite\"};\n",
       "\n",
       "      function showError(el, error){\n",
       "          el.innerHTML = ('<div class=\"error\" style=\"color:red;\">'\n",
       "                          + '<p>JavaScript Error: ' + error.message + '</p>'\n",
       "                          + \"<p>This usually means there's a typo in your chart specification. \"\n",
       "                          + \"See the javascript console for the full traceback.</p>\"\n",
       "                          + '</div>');\n",
       "          throw error;\n",
       "      }\n",
       "      const el = document.getElementById('altair-viz-1');\n",
       "      vegaEmbed(\"#altair-viz-1\", spec, embedOpt)\n",
       "        .catch(error => showError(el, error));\n",
       "    });\n",
       "\n",
       "  </script>"
      ],
      "text/plain": [
       "Chart({\n",
       "  data:            category_id  bookmarked     parent_category  \\\n",
       "  11       accessibility           2      Special Topics   \n",
       "  10      Admin requests           1       Site Feedback   \n",
       "  12           nbconvert           1            Notebook   \n",
       "  0                 Meta           4                Meta   \n",
       "  1        announcements           1                Meta   \n",
       "  8           JupyterLab           1          JupyterLab   \n",
       "  6              discuss           3          JupyterHub   \n",
       "  2           JupyterHub           2          JupyterHub   \n",
       "  9   Enterprise Gateway           2  Enterprise Gateway   \n",
       "  3       Community Chat           3      Community Chat   \n",
       "  7              discuss           5              Binder   \n",
       "  4               Binder           4              Binder   \n",
       "  5            BinderHub           1              Binder   \n",
       "  \n",
       "                            parent/category  \n",
       "  11           Special Topics/accessibility  \n",
       "  10           Site Feedback/Admin requests  \n",
       "  12                     Notebook/nbconvert  \n",
       "  0                               Meta/Meta  \n",
       "  1                      Meta/announcements  \n",
       "  8                   JupyterLab/JupyterLab  \n",
       "  6                      JupyterHub/discuss  \n",
       "  2                   JupyterHub/JupyterHub  \n",
       "  9   Enterprise Gateway/Enterprise Gateway  \n",
       "  3           Community Chat/Community Chat  \n",
       "  7                          Binder/discuss  \n",
       "  4                           Binder/Binder  \n",
       "  5                        Binder/BinderHub  ,\n",
       "  encoding: FacetedEncoding({\n",
       "    color: Color({\n",
       "      field: 'parent_category',\n",
       "      type: 'nominal'\n",
       "    }),\n",
       "    x: X({\n",
       "      field: 'parent/category',\n",
       "      sort: Sort(['accessibility', 'Admin requests', 'nbconvert', 'Meta', 'announcements', 'JupyterLab', 'discuss', 'JupyterHub', 'Enterprise Gateway', 'Community Chat', 'discuss', 'Binder', 'BinderHub']),\n",
       "      type: 'nominal'\n",
       "    }),\n",
       "    y: Y({\n",
       "      field: 'bookmarked',\n",
       "      type: 'quantitative'\n",
       "    })\n",
       "  }),\n",
       "  height: 300,\n",
       "  mark: 'bar',\n",
       "  title: 'Activity by category',\n",
       "  width: 700\n",
       "})"
      ]
     },
     "execution_count": 11,
     "metadata": {},
     "output_type": "execute_result"
    }
   ],
   "source": [
    "counts = counts_from_activity(posts)\n",
    "alt.Chart(data=counts, width=700, height=300, title=\"Activity by category\").mark_bar().encode(\n",
    "    x=alt.X(\"parent/category\", sort=alt.Sort(counts['category_id'].values.tolist())),\n",
    "    y=\"bookmarked\",\n",
    "    color=\"parent_category\"\n",
    ")"
   ]
  },
  {
   "cell_type": "markdown",
   "metadata": {
    "papermill": {
     "duration": 0.050068,
     "end_time": "2019-08-20T16:17:14.186505",
     "exception": false,
     "start_time": "2019-08-20T16:17:14.136437",
     "status": "completed"
    },
    "tags": []
   },
   "source": [
    "## Recently-created topics\n",
    "\n",
    "These are topics that were recently created, sorted by the amount of activity\n",
    "in each one."
   ]
  },
  {
   "cell_type": "code",
   "execution_count": 12,
   "metadata": {
    "papermill": {
     "duration": 0.605409,
     "end_time": "2019-08-20T16:17:14.847855",
     "exception": false,
     "start_time": "2019-08-20T16:17:14.242446",
     "status": "completed"
    },
    "tags": [
     "hide_input"
    ]
   },
   "outputs": [
    {
     "data": {
      "text/markdown": [
       "* [User interface tweaks on mybinder.org](https://discourse.jupyter.org/t/user-interface-tweaks-on-mybinder-org) (10 posts)\n",
       "* [Google OAuthenticator extra security check](https://discourse.jupyter.org/t/google-oauthenticator-extra-security-check) (8 posts)\n",
       "* [Is there a free (even ad-supported) public JupyterHub available?](https://discourse.jupyter.org/t/is-there-a-free-even-ad-supported-public-jupyterhub-available) (6 posts)\n",
       "* [Strange `core.ZMQbg!3.xx.xxxx` files appearing in file browser following update](https://discourse.jupyter.org/t/strange-core-zmqbg-3-xx-xxxx-files-appearing-in-file-browser-following-update) (6 posts)\n",
       "* [Image cannot be rebuilt from a previously working environment.yml file](https://discourse.jupyter.org/t/image-cannot-be-rebuilt-from-a-previously-working-environment-yml-file) (5 posts)\n",
       "* [JupyterHub LDAP server](https://discourse.jupyter.org/t/jupyterhub-ldap-server) (4 posts)\n",
       "* [Server becomes &ldquo;stale&rdquo; in a matter of days, even hours](https://discourse.jupyter.org/t/server-becomes-stale-in-a-matter-of-days-even-hours) (4 posts)\n",
       "* [CSS files won&rsquo;t load on binder](https://discourse.jupyter.org/t/css-files-wont-load-on-binder) (4 posts)\n",
       "* [How to set config.yaml for multiple OAuth providers](https://discourse.jupyter.org/t/how-to-set-config-yaml-for-multiple-oauth-providers) (4 posts)\n",
       "* [Custom widgets jupyter problem error syntax](https://discourse.jupyter.org/t/custom-widgets-jupyter-problem-error-syntax) (3 posts)"
      ],
      "text/plain": [
       "<IPython.core.display.Markdown object>"
      ]
     },
     "execution_count": 12,
     "metadata": {},
     "output_type": "execute_result"
    }
   ],
   "source": [
    "params = {\"order\": \"created\", \"ascending\": \"False\"}\n",
    "resp = requests.get(url, headers=api, params=params)\n",
    "\n",
    "# Sort created by the most posted for recently-created posts\n",
    "created = pd.DataFrame(resp.json()['topic_list']['topics'])\n",
    "created = created.sort_values('posts_count', ascending=False)\n",
    "Markdown(topics_to_markdown(created))"
   ]
  },
  {
   "cell_type": "code",
   "execution_count": 13,
   "metadata": {
    "papermill": {
     "duration": 0.18406,
     "end_time": "2019-08-20T16:17:15.080014",
     "exception": false,
     "start_time": "2019-08-20T16:17:14.895954",
     "status": "completed"
    },
    "tags": [
     "hide_input"
    ]
   },
   "outputs": [
    {
     "data": {
      "text/html": [
       "\n",
       "  <style>\n",
       "    .vega-actions a {\n",
       "        margin-right: 12px;\n",
       "        color: #757575;\n",
       "        font-weight: normal;\n",
       "        font-size: 13px;\n",
       "    }\n",
       "    .error {\n",
       "        color: red;\n",
       "    }\n",
       "  </style>\n",
       "  <div id=\"altair-viz-2\"></div>\n",
       "  <script>\n",
       "    requirejs.config({\n",
       "        \"paths\": {\n",
       "            \"vega\": \"https://cdn.jsdelivr.net/npm//vega@5?noext\",\n",
       "            \"vega-lib\": \"https://cdn.jsdelivr.net/npm//vega-lib?noext\",\n",
       "            \"vega-lite\": \"https://cdn.jsdelivr.net/npm//vega-lite@3.3.0?noext\",\n",
       "            \"vega-embed\": \"https://cdn.jsdelivr.net/npm//vega-embed@4?noext\",\n",
       "        }\n",
       "    });\n",
       "    require(['vega-embed'], function(vegaEmbed){\n",
       "      var spec = {\"config\": {\"axisLeft\": {\"labelFontSize\": 15}, \"axisBottom\": {\"labelFontSize\": 15}}, \"data\": {\"name\": \"data-3f051d64a601995a3e278bf53f3a0a1e\"}, \"mark\": \"bar\", \"encoding\": {\"color\": {\"type\": \"nominal\", \"field\": \"parent_category\"}, \"x\": {\"type\": \"nominal\", \"field\": \"parent/category\", \"sort\": [\"Q&A\", \"Notebook\", \"Meta\", \"jobs\", \"JupyterLab\", \"Zero to JupyterHub on Kubernetes\", \"JupyterHub\", \"Community Chat\", \"Binder\", \"mybinder.org ops\", \"repo help\"]}, \"y\": {\"type\": \"quantitative\", \"field\": \"bookmarked\"}}, \"height\": 300, \"title\": \"Activity by category\", \"width\": 700, \"$schema\": \"https://vega.github.io/schema/vega-lite/v3.3.0.json\", \"datasets\": {\"data-3f051d64a601995a3e278bf53f3a0a1e\": [{\"category_id\": \"Q&A\", \"bookmarked\": 2, \"parent_category\": \"Q&A\", \"parent/category\": \"Q&A/Q&A\"}, {\"category_id\": \"Notebook\", \"bookmarked\": 0, \"parent_category\": \"Notebook\", \"parent/category\": \"Notebook/Notebook\"}, {\"category_id\": \"Meta\", \"bookmarked\": 3, \"parent_category\": \"Meta\", \"parent/category\": \"Meta/Meta\"}, {\"category_id\": \"jobs\", \"bookmarked\": 2, \"parent_category\": \"Meta\", \"parent/category\": \"Meta/jobs\"}, {\"category_id\": \"JupyterLab\", \"bookmarked\": 1, \"parent_category\": \"JupyterLab\", \"parent/category\": \"JupyterLab/JupyterLab\"}, {\"category_id\": \"Zero to JupyterHub on Kubernetes\", \"bookmarked\": 2, \"parent_category\": \"JupyterHub\", \"parent/category\": \"JupyterHub/Zero to JupyterHub on Kubernetes\"}, {\"category_id\": \"JupyterHub\", \"bookmarked\": 1, \"parent_category\": \"JupyterHub\", \"parent/category\": \"JupyterHub/JupyterHub\"}, {\"category_id\": \"Community Chat\", \"bookmarked\": 0, \"parent_category\": \"Community Chat\", \"parent/category\": \"Community Chat/Community Chat\"}, {\"category_id\": \"Binder\", \"bookmarked\": 2, \"parent_category\": \"Binder\", \"parent/category\": \"Binder/Binder\"}, {\"category_id\": \"mybinder.org ops\", \"bookmarked\": 1, \"parent_category\": \"Binder\", \"parent/category\": \"Binder/mybinder.org ops\"}, {\"category_id\": \"repo help\", \"bookmarked\": 0, \"parent_category\": \"Binder\", \"parent/category\": \"Binder/repo help\"}]}};\n",
       "      var embedOpt = {\"mode\": \"vega-lite\"};\n",
       "\n",
       "      function showError(el, error){\n",
       "          el.innerHTML = ('<div class=\"error\" style=\"color:red;\">'\n",
       "                          + '<p>JavaScript Error: ' + error.message + '</p>'\n",
       "                          + \"<p>This usually means there's a typo in your chart specification. \"\n",
       "                          + \"See the javascript console for the full traceback.</p>\"\n",
       "                          + '</div>');\n",
       "          throw error;\n",
       "      }\n",
       "      const el = document.getElementById('altair-viz-2');\n",
       "      vegaEmbed(\"#altair-viz-2\", spec, embedOpt)\n",
       "        .catch(error => showError(el, error));\n",
       "    });\n",
       "\n",
       "  </script>"
      ],
      "text/plain": [
       "Chart({\n",
       "  data:                          category_id  bookmarked parent_category  \\\n",
       "  8                                Q&A           2             Q&A   \n",
       "  10                          Notebook           0        Notebook   \n",
       "  3                               Meta           3            Meta   \n",
       "  2                               jobs           2            Meta   \n",
       "  7                         JupyterLab           1      JupyterLab   \n",
       "  0   Zero to JupyterHub on Kubernetes           2      JupyterHub   \n",
       "  4                         JupyterHub           1      JupyterHub   \n",
       "  5                     Community Chat           0  Community Chat   \n",
       "  6                             Binder           2          Binder   \n",
       "  9                   mybinder.org ops           1          Binder   \n",
       "  1                          repo help           0          Binder   \n",
       "  \n",
       "                                  parent/category  \n",
       "  8                                       Q&A/Q&A  \n",
       "  10                            Notebook/Notebook  \n",
       "  3                                     Meta/Meta  \n",
       "  2                                     Meta/jobs  \n",
       "  7                         JupyterLab/JupyterLab  \n",
       "  0   JupyterHub/Zero to JupyterHub on Kubernetes  \n",
       "  4                         JupyterHub/JupyterHub  \n",
       "  5                 Community Chat/Community Chat  \n",
       "  6                                 Binder/Binder  \n",
       "  9                       Binder/mybinder.org ops  \n",
       "  1                              Binder/repo help  ,\n",
       "  encoding: FacetedEncoding({\n",
       "    color: Color({\n",
       "      field: 'parent_category',\n",
       "      type: 'nominal'\n",
       "    }),\n",
       "    x: X({\n",
       "      field: 'parent/category',\n",
       "      sort: Sort(['Q&A', 'Notebook', 'Meta', 'jobs', 'JupyterLab', 'Zero to JupyterHub on Kubernetes', 'JupyterHub', 'Community Chat', 'Binder', 'mybinder.org ops', 'repo help']),\n",
       "      type: 'nominal'\n",
       "    }),\n",
       "    y: Y({\n",
       "      field: 'bookmarked',\n",
       "      type: 'quantitative'\n",
       "    })\n",
       "  }),\n",
       "  height: 300,\n",
       "  mark: 'bar',\n",
       "  title: 'Activity by category',\n",
       "  width: 700\n",
       "})"
      ]
     },
     "execution_count": 13,
     "metadata": {},
     "output_type": "execute_result"
    }
   ],
   "source": [
    "counts = counts_from_activity(created)\n",
    "alt.Chart(data=counts, width=700, height=300, title=\"Activity by category\").mark_bar().encode(\n",
    "    x=alt.X(\"parent/category\", sort=alt.Sort(counts['category_id'].values.tolist())),\n",
    "    y=\"bookmarked\",\n",
    "    color=\"parent_category\"\n",
    ")"
   ]
  },
  {
   "cell_type": "markdown",
   "metadata": {
    "papermill": {
     "duration": 0.033138,
     "end_time": "2019-08-20T16:17:15.172945",
     "exception": false,
     "start_time": "2019-08-20T16:17:15.139807",
     "status": "completed"
    },
    "tags": []
   },
   "source": [
    "## User activity in the Community Forum\n",
    "\n",
    "**Top posters**\n",
    "\n",
    "These people have posted lots of comments, replies, answers, etc in the community forum."
   ]
  },
  {
   "cell_type": "code",
   "execution_count": 14,
   "metadata": {
    "papermill": {
     "duration": 0.048844,
     "end_time": "2019-08-20T16:17:15.251404",
     "exception": false,
     "start_time": "2019-08-20T16:17:15.202560",
     "status": "completed"
    },
    "tags": []
   },
   "outputs": [],
   "source": [
    "def plot_user_data(users, column, sort=False):\n",
    "    plt_data = users.sort_values(column, ascending=False).head(50)\n",
    "    x = alt.X(\"username\", sort=plt_data['username'].tolist()) if sort is True else 'username'\n",
    "    ch = alt.Chart(data=plt_data).mark_bar().encode(\n",
    "        x=x,\n",
    "        y=column\n",
    "    )\n",
    "    return ch"
   ]
  },
  {
   "cell_type": "code",
   "execution_count": 15,
   "metadata": {
    "papermill": {
     "duration": 0.484738,
     "end_time": "2019-08-20T16:17:15.771871",
     "exception": false,
     "start_time": "2019-08-20T16:17:15.287133",
     "status": "completed"
    },
    "tags": []
   },
   "outputs": [],
   "source": [
    "url = \"https://discourse.jupyter.org/directory_items.json\"\n",
    "params = {\"period\": \"quarterly\", \"order\": \"post_count\"}\n",
    "resp = requests.get(url, headers=api, params=params)\n",
    "\n",
    "# Topics with the most likes in recent history\n",
    "users = pd.DataFrame(resp.json()['directory_items'])\n",
    "users['username'] = users['user'].map(lambda a: a['username'])"
   ]
  },
  {
   "cell_type": "code",
   "execution_count": 16,
   "metadata": {
    "papermill": {
     "duration": 0.247454,
     "end_time": "2019-08-20T16:17:16.117764",
     "exception": false,
     "start_time": "2019-08-20T16:17:15.870310",
     "status": "completed"
    },
    "tags": []
   },
   "outputs": [
    {
     "data": {
      "text/html": [
       "\n",
       "  <style>\n",
       "    .vega-actions a {\n",
       "        margin-right: 12px;\n",
       "        color: #757575;\n",
       "        font-weight: normal;\n",
       "        font-size: 13px;\n",
       "    }\n",
       "    .error {\n",
       "        color: red;\n",
       "    }\n",
       "  </style>\n",
       "  <div id=\"altair-viz-3\"></div>\n",
       "  <script>\n",
       "    requirejs.config({\n",
       "        \"paths\": {\n",
       "            \"vega\": \"https://cdn.jsdelivr.net/npm//vega@5?noext\",\n",
       "            \"vega-lib\": \"https://cdn.jsdelivr.net/npm//vega-lib?noext\",\n",
       "            \"vega-lite\": \"https://cdn.jsdelivr.net/npm//vega-lite@3.3.0?noext\",\n",
       "            \"vega-embed\": \"https://cdn.jsdelivr.net/npm//vega-embed@4?noext\",\n",
       "        }\n",
       "    });\n",
       "    require(['vega-embed'], function(vegaEmbed){\n",
       "      var spec = {\"config\": {\"axisLeft\": {\"labelFontSize\": 15}, \"axisBottom\": {\"labelFontSize\": 15}}, \"data\": {\"name\": \"data-78b526a801164f20b38a32b23e320930\"}, \"mark\": \"bar\", \"encoding\": {\"x\": {\"type\": \"nominal\", \"field\": \"username\"}, \"y\": {\"type\": \"quantitative\", \"field\": \"post_count\"}}, \"$schema\": \"https://vega.github.io/schema/vega-lite/v3.3.0.json\", \"datasets\": {\"data-78b526a801164f20b38a32b23e320930\": [{\"id\": 6, \"likes_received\": 134, \"likes_given\": 227, \"topics_entered\": 329, \"topic_count\": 12, \"post_count\": 144, \"posts_read\": 1401, \"days_visited\": 88, \"user\": {\"id\": 6, \"username\": \"betatim\", \"name\": \"Tim Head\", \"avatar_template\": \"/user_avatar/discourse.jupyter.org/betatim/{size}/10_2.png\", \"title\": \"\"}, \"username\": \"betatim\"}, {\"id\": 3, \"likes_received\": 128, \"likes_given\": 195, \"topics_entered\": 221, \"topic_count\": 27, \"post_count\": 124, \"posts_read\": 888, \"days_visited\": 90, \"user\": {\"id\": 3, \"username\": \"choldgraf\", \"name\": \"Chris Holdgraf\", \"avatar_template\": \"/user_avatar/discourse.jupyter.org/choldgraf/{size}/12_2.png\", \"title\": \"Regular\"}, \"username\": \"choldgraf\"}, {\"id\": 24, \"likes_received\": 44, \"likes_given\": 13, \"topics_entered\": 250, \"topic_count\": 5, \"post_count\": 53, \"posts_read\": 626, \"days_visited\": 58, \"user\": {\"id\": 24, \"username\": \"psychemedia\", \"name\": \"Tony Hirst\", \"avatar_template\": \"/user_avatar/discourse.jupyter.org/psychemedia/{size}/24_2.png\", \"title\": null}, \"username\": \"psychemedia\"}, {\"id\": 220, \"likes_received\": 36, \"likes_given\": 1, \"topics_entered\": 97, \"topic_count\": 1, \"post_count\": 50, \"posts_read\": 387, \"days_visited\": 33, \"user\": {\"id\": 220, \"username\": \"jasongrout\", \"name\": \"Jason Grout\", \"avatar_template\": \"/user_avatar/discourse.jupyter.org/jasongrout/{size}/371_2.png\", \"title\": null}, \"username\": \"jasongrout\"}, {\"id\": 8, \"likes_received\": 67, \"likes_given\": 12, \"topics_entered\": 129, \"topic_count\": 4, \"post_count\": 50, \"posts_read\": 652, \"days_visited\": 91, \"user\": {\"id\": 8, \"username\": \"minrk\", \"name\": \"Min RK\", \"avatar_template\": \"/user_avatar/discourse.jupyter.org/minrk/{size}/13_2.png\", \"title\": null}, \"username\": \"minrk\"}, {\"id\": 116, \"likes_received\": 61, \"likes_given\": 27, \"topics_entered\": 124, \"topic_count\": 4, \"post_count\": 38, \"posts_read\": 592, \"days_visited\": 87, \"user\": {\"id\": 116, \"username\": \"sgibson91\", \"name\": \"Sarah Gibson\", \"avatar_template\": \"/user_avatar/discourse.jupyter.org/sgibson91/{size}/487_2.png\", \"title\": \"\"}, \"username\": \"sgibson91\"}, {\"id\": 12, \"likes_received\": 32, \"likes_given\": 5, \"topics_entered\": 92, \"topic_count\": 5, \"post_count\": 34, \"posts_read\": 463, \"days_visited\": 44, \"user\": {\"id\": 12, \"username\": \"yuvipanda\", \"name\": \"Yuvi Panda\", \"avatar_template\": \"/user_avatar/discourse.jupyter.org/yuvipanda/{size}/17_2.png\", \"title\": null}, \"username\": \"yuvipanda\"}, {\"id\": 73, \"likes_received\": 20, \"likes_given\": 18, \"topics_entered\": 320, \"topic_count\": 3, \"post_count\": 29, \"posts_read\": 1471, \"days_visited\": 71, \"user\": {\"id\": 73, \"username\": \"manics\", \"name\": \"Simon\", \"avatar_template\": \"/user_avatar/discourse.jupyter.org/manics/{size}/85_2.png\", \"title\": null}, \"username\": \"manics\"}, {\"id\": 99, \"likes_received\": 15, \"likes_given\": 41, \"topics_entered\": 90, \"topic_count\": 4, \"post_count\": 23, \"posts_read\": 504, \"days_visited\": 57, \"user\": {\"id\": 99, \"username\": \"Zsailer\", \"name\": \"Zachary Sailer\", \"avatar_template\": \"/user_avatar/discourse.jupyter.org/zsailer/{size}/106_2.png\", \"title\": null}, \"username\": \"Zsailer\"}, {\"id\": 11, \"likes_received\": 14, \"likes_given\": 76, \"topics_entered\": 221, \"topic_count\": 1, \"post_count\": 22, \"posts_read\": 1066, \"days_visited\": 75, \"user\": {\"id\": 11, \"username\": \"fomightez\", \"name\": \"Wayne\", \"avatar_template\": \"/user_avatar/discourse.jupyter.org/fomightez/{size}/495_2.png\", \"title\": null}, \"username\": \"fomightez\"}, {\"id\": 485, \"likes_received\": 20, \"likes_given\": 59, \"topics_entered\": 55, \"topic_count\": 1, \"post_count\": 21, \"posts_read\": 256, \"days_visited\": 38, \"user\": {\"id\": 485, \"username\": \"rolweber\", \"name\": \"Roland Weber\", \"avatar_template\": \"/user_avatar/discourse.jupyter.org/rolweber/{size}/657_2.png\", \"title\": null}, \"username\": \"rolweber\"}, {\"id\": 234, \"likes_received\": 25, \"likes_given\": 7, \"topics_entered\": 12, \"topic_count\": 4, \"post_count\": 21, \"posts_read\": 99, \"days_visited\": 29, \"user\": {\"id\": 234, \"username\": \"fmaussion\", \"name\": \"Fabien Maussion\", \"avatar_template\": \"/user_avatar/discourse.jupyter.org/fmaussion/{size}/390_2.png\", \"title\": null}, \"username\": \"fmaussion\"}, {\"id\": 30, \"likes_received\": 22, \"likes_given\": 82, \"topics_entered\": 50, \"topic_count\": 2, \"post_count\": 19, \"posts_read\": 344, \"days_visited\": 72, \"user\": {\"id\": 30, \"username\": \"consideRatio\", \"name\": \"Erik Sundell\", \"avatar_template\": \"/user_avatar/discourse.jupyter.org/consideratio/{size}/30_2.png\", \"title\": null}, \"username\": \"consideRatio\"}, {\"id\": 217, \"likes_received\": 9, \"likes_given\": 27, \"topics_entered\": 31, \"topic_count\": 0, \"post_count\": 19, \"posts_read\": 164, \"days_visited\": 37, \"user\": {\"id\": 217, \"username\": \"kevin-bates\", \"name\": \"Kevin Bates\", \"avatar_template\": \"/user_avatar/discourse.jupyter.org/kevin-bates/{size}/234_2.png\", \"title\": null}, \"username\": \"kevin-bates\"}, {\"id\": 77, \"likes_received\": 11, \"likes_given\": 10, \"topics_entered\": 154, \"topic_count\": 0, \"post_count\": 13, \"posts_read\": 790, \"days_visited\": 88, \"user\": {\"id\": 77, \"username\": \"jtp\", \"name\": \"Jeremy Tuloup\", \"avatar_template\": \"/user_avatar/discourse.jupyter.org/jtp/{size}/882_2.png\", \"title\": \"\"}, \"username\": \"jtp\"}, {\"id\": 59, \"likes_received\": 15, \"likes_given\": 5, \"topics_entered\": 16, \"topic_count\": 1, \"post_count\": 13, \"posts_read\": 170, \"days_visited\": 38, \"user\": {\"id\": 59, \"username\": \"bitnik\", \"name\": \"Kenan Erdogan\", \"avatar_template\": \"/user_avatar/discourse.jupyter.org/bitnik/{size}/79_2.png\", \"title\": \"\"}, \"username\": \"bitnik\"}, {\"id\": 60, \"likes_received\": 7, \"likes_given\": 6, \"topics_entered\": 32, \"topic_count\": 0, \"post_count\": 11, \"posts_read\": 262, \"days_visited\": 26, \"user\": {\"id\": 60, \"username\": \"fm75\", \"name\": \"Fred Mitchell\", \"avatar_template\": \"/user_avatar/discourse.jupyter.org/fm75/{size}/71_2.png\", \"title\": \"\"}, \"username\": \"fm75\"}, {\"id\": 222, \"likes_received\": 15, \"likes_given\": 6, \"topics_entered\": 16, \"topic_count\": 1, \"post_count\": 10, \"posts_read\": 143, \"days_visited\": 45, \"user\": {\"id\": 222, \"username\": \"tgeorgeux\", \"name\": \"Timothy George\", \"avatar_template\": \"https://avatars.discourse.org/v4/letter/t/f05b48/{size}.png\", \"title\": null}, \"username\": \"tgeorgeux\"}, {\"id\": 674, \"likes_received\": 3, \"likes_given\": 4, \"topics_entered\": 42, \"topic_count\": 3, \"post_count\": 10, \"posts_read\": 267, \"days_visited\": 24, \"user\": {\"id\": 674, \"username\": \"celine168\", \"name\": \"Celine L\", \"avatar_template\": \"https://avatars.discourse.org/v4/letter/c/ec9cab/{size}.png\", \"title\": null}, \"username\": \"celine168\"}, {\"id\": 34, \"likes_received\": 18, \"likes_given\": 3, \"topics_entered\": 19, \"topic_count\": 3, \"post_count\": 10, \"posts_read\": 176, \"days_visited\": 28, \"user\": {\"id\": 34, \"username\": \"danielballan\", \"name\": \"Dan Allan\", \"avatar_template\": \"/user_avatar/discourse.jupyter.org/danielballan/{size}/34_2.png\", \"title\": null}, \"username\": \"danielballan\"}, {\"id\": 566, \"likes_received\": 2, \"likes_given\": 0, \"topics_entered\": 12, \"topic_count\": 2, \"post_count\": 9, \"posts_read\": 34, \"days_visited\": 14, \"user\": {\"id\": 566, \"username\": \"Shreyas_Cholia\", \"name\": \"Shreyas Cholia\", \"avatar_template\": \"/user_avatar/discourse.jupyter.org/shreyas_cholia/{size}/784_2.png\", \"title\": null}, \"username\": \"Shreyas_Cholia\"}, {\"id\": 556, \"likes_received\": 8, \"likes_given\": 4, \"topics_entered\": 16, \"topic_count\": 1, \"post_count\": 9, \"posts_read\": 79, \"days_visited\": 13, \"user\": {\"id\": 556, \"username\": \"blink1073\", \"name\": \"Steven Silvester\", \"avatar_template\": \"/user_avatar/discourse.jupyter.org/blink1073/{size}/791_2.png\", \"title\": null}, \"username\": \"blink1073\"}, {\"id\": 679, \"likes_received\": 10, \"likes_given\": 1, \"topics_entered\": 25, \"topic_count\": 0, \"post_count\": 9, \"posts_read\": 127, \"days_visited\": 12, \"user\": {\"id\": 679, \"username\": \"bollwyvl\", \"name\": \"Nicholas Bollweg\", \"avatar_template\": \"/user_avatar/discourse.jupyter.org/bollwyvl/{size}/904_2.png\", \"title\": null}, \"username\": \"bollwyvl\"}, {\"id\": 432, \"likes_received\": 5, \"likes_given\": 20, \"topics_entered\": 50, \"topic_count\": 1, \"post_count\": 9, \"posts_read\": 200, \"days_visited\": 31, \"user\": {\"id\": 432, \"username\": \"ondrejj\", \"name\": \"Ond\\u0159ej \", \"avatar_template\": \"/user_avatar/discourse.jupyter.org/ondrejj/{size}/567_2.png\", \"title\": null}, \"username\": \"ondrejj\"}, {\"id\": 7, \"likes_received\": 18, \"likes_given\": 24, \"topics_entered\": 27, \"topic_count\": 0, \"post_count\": 9, \"posts_read\": 213, \"days_visited\": 22, \"user\": {\"id\": 7, \"username\": \"willingc\", \"name\": \"Carol Willing\", \"avatar_template\": \"/user_avatar/discourse.jupyter.org/willingc/{size}/11_2.png\", \"title\": null}, \"username\": \"willingc\"}, {\"id\": 268, \"likes_received\": 13, \"likes_given\": 5, \"topics_entered\": 18, \"topic_count\": 3, \"post_count\": 8, \"posts_read\": 101, \"days_visited\": 29, \"user\": {\"id\": 268, \"username\": \"afshin\", \"name\": \"A. T. Darian\", \"avatar_template\": \"/user_avatar/discourse.jupyter.org/afshin/{size}/314_2.png\", \"title\": null}, \"username\": \"afshin\"}, {\"id\": 510, \"likes_received\": 6, \"likes_given\": 0, \"topics_entered\": 4, \"topic_count\": 2, \"post_count\": 8, \"posts_read\": 10, \"days_visited\": 10, \"user\": {\"id\": 510, \"username\": \"lorankary\", \"name\": \"Lorankary\", \"avatar_template\": \"https://avatars.discourse.org/v4/letter/l/ac8455/{size}.png\", \"title\": null}, \"username\": \"lorankary\"}, {\"id\": 686, \"likes_received\": 3, \"likes_given\": 0, \"topics_entered\": 30, \"topic_count\": 3, \"post_count\": 8, \"posts_read\": 93, \"days_visited\": 11, \"user\": {\"id\": 686, \"username\": \"sqqqrly\", \"name\": \"DAVID OHLEMACHER\", \"avatar_template\": \"https://avatars.discourse.org/v4/letter/s/22d042/{size}.png\", \"title\": null}, \"username\": \"sqqqrly\"}, {\"id\": 333, \"likes_received\": 1, \"likes_given\": 2, \"topics_entered\": 1, \"topic_count\": 0, \"post_count\": 7, \"posts_read\": 37, \"days_visited\": 21, \"user\": {\"id\": 333, \"username\": \"cmbui\", \"name\": \"Christina\", \"avatar_template\": \"/user_avatar/discourse.jupyter.org/cmbui/{size}/436_2.png\", \"title\": null}, \"username\": \"cmbui\"}, {\"id\": 771, \"likes_received\": 12, \"likes_given\": 2, \"topics_entered\": 3, \"topic_count\": 0, \"post_count\": 7, \"posts_read\": 68, \"days_visited\": 4, \"user\": {\"id\": 771, \"username\": \"sarasrking\", \"name\": \"Sara King\", \"avatar_template\": \"https://avatars.discourse.org/v4/letter/s/d78d45/{size}.png\", \"title\": null}, \"username\": \"sarasrking\"}, {\"id\": 419, \"likes_received\": 2, \"likes_given\": 0, \"topics_entered\": 10, \"topic_count\": 4, \"post_count\": 7, \"posts_read\": 35, \"days_visited\": 22, \"user\": {\"id\": 419, \"username\": \"alvinhuff\", \"name\": \"Alvin Huff\", \"avatar_template\": \"/user_avatar/discourse.jupyter.org/alvinhuff/{size}/550_2.png\", \"title\": null}, \"username\": \"alvinhuff\"}, {\"id\": 487, \"likes_received\": 0, \"likes_given\": 0, \"topics_entered\": 23, \"topic_count\": 4, \"post_count\": 7, \"posts_read\": 84, \"days_visited\": 14, \"user\": {\"id\": 487, \"username\": \"D4rkM4atter\", \"name\": \"\", \"avatar_template\": \"/user_avatar/discourse.jupyter.org/d4rkm4atter/{size}/663_2.png\", \"title\": null}, \"username\": \"D4rkM4atter\"}, {\"id\": 662, \"likes_received\": 22, \"likes_given\": 16, \"topics_entered\": 16, \"topic_count\": 0, \"post_count\": 7, \"posts_read\": 178, \"days_visited\": 34, \"user\": {\"id\": 662, \"username\": \"isabela-pf\", \"name\": \"\", \"avatar_template\": \"/user_avatar/discourse.jupyter.org/isabela-pf/{size}/863_2.png\", \"title\": \"\"}, \"username\": \"isabela-pf\"}, {\"id\": 660, \"likes_received\": 5, \"likes_given\": 18, \"topics_entered\": 10, \"topic_count\": 1, \"post_count\": 7, \"posts_read\": 177, \"days_visited\": 27, \"user\": {\"id\": 660, \"username\": \"javag97\", \"name\": \"Javier Garcia\", \"avatar_template\": \"/user_avatar/discourse.jupyter.org/javag97/{size}/881_2.png\", \"title\": null}, \"username\": \"javag97\"}, {\"id\": 303, \"likes_received\": 1, \"likes_given\": 7, \"topics_entered\": 62, \"topic_count\": 2, \"post_count\": 7, \"posts_read\": 262, \"days_visited\": 62, \"user\": {\"id\": 303, \"username\": \"ian-r-rose\", \"name\": \"Ian Rose\", \"avatar_template\": \"/user_avatar/discourse.jupyter.org/ian-r-rose/{size}/638_2.png\", \"title\": null}, \"username\": \"ian-r-rose\"}, {\"id\": 590, \"likes_received\": 2, \"likes_given\": 1, \"topics_entered\": 21, \"topic_count\": 3, \"post_count\": 7, \"posts_read\": 104, \"days_visited\": 21, \"user\": {\"id\": 590, \"username\": \"nscozzaro\", \"name\": \"Nicolas Scozzaro\", \"avatar_template\": \"/user_avatar/discourse.jupyter.org/nscozzaro/{size}/804_2.png\", \"title\": null}, \"username\": \"nscozzaro\"}, {\"id\": 71, \"likes_received\": 4, \"likes_given\": 1, \"topics_entered\": 15, \"topic_count\": 1, \"post_count\": 7, \"posts_read\": 143, \"days_visited\": 20, \"user\": {\"id\": 71, \"username\": \"nuest\", \"name\": \"Daniel N\\u00fcst\", \"avatar_template\": \"/user_avatar/discourse.jupyter.org/nuest/{size}/82_2.png\", \"title\": null}, \"username\": \"nuest\"}, {\"id\": 227, \"likes_received\": 2, \"likes_given\": 8, \"topics_entered\": 29, \"topic_count\": 0, \"post_count\": 6, \"posts_read\": 179, \"days_visited\": 14, \"user\": {\"id\": 227, \"username\": \"sterlinm\", \"name\": \"Michael\", \"avatar_template\": \"/user_avatar/discourse.jupyter.org/sterlinm/{size}/241_2.png\", \"title\": null}, \"username\": \"sterlinm\"}, {\"id\": 372, \"likes_received\": 5, \"likes_given\": 5, \"topics_entered\": 12, \"topic_count\": 0, \"post_count\": 6, \"posts_read\": 88, \"days_visited\": 22, \"user\": {\"id\": 372, \"username\": \"davclark\", \"name\": \"Dav Clark\", \"avatar_template\": \"/user_avatar/discourse.jupyter.org/davclark/{size}/489_2.png\", \"title\": null}, \"username\": \"davclark\"}, {\"id\": 9, \"likes_received\": 7, \"likes_given\": 0, \"topics_entered\": 10, \"topic_count\": 0, \"post_count\": 6, \"posts_read\": 36, \"days_visited\": 12, \"user\": {\"id\": 9, \"username\": \"ellisonbg\", \"name\": \"Brian Granger\", \"avatar_template\": \"/user_avatar/discourse.jupyter.org/ellisonbg/{size}/14_2.png\", \"title\": null}, \"username\": \"ellisonbg\"}, {\"id\": 803, \"likes_received\": 2, \"likes_given\": 0, \"topics_entered\": 11, \"topic_count\": 1, \"post_count\": 6, \"posts_read\": 45, \"days_visited\": 4, \"user\": {\"id\": 803, \"username\": \"richcranney\", \"name\": \"\", \"avatar_template\": \"https://avatars.discourse.org/v4/letter/r/a698b9/{size}.png\", \"title\": null}, \"username\": \"richcranney\"}, {\"id\": 640, \"likes_received\": 0, \"likes_given\": 0, \"topics_entered\": 6, \"topic_count\": 1, \"post_count\": 6, \"posts_read\": 23, \"days_visited\": 7, \"user\": {\"id\": 640, \"username\": \"Stefano_Fioravanzo\", \"name\": \"Stefano Fioravanzo\", \"avatar_template\": \"/user_avatar/discourse.jupyter.org/stefano_fioravanzo/{size}/849_2.png\", \"title\": null}, \"username\": \"Stefano_Fioravanzo\"}, {\"id\": 642, \"likes_received\": 1, \"likes_given\": 0, \"topics_entered\": 30, \"topic_count\": 5, \"post_count\": 6, \"posts_read\": 129, \"days_visited\": 27, \"user\": {\"id\": 642, \"username\": \"ArlenePena\", \"name\": null, \"avatar_template\": \"https://avatars.discourse.org/v4/letter/a/34f0e0/{size}.png\", \"title\": null}, \"username\": \"ArlenePena\"}, {\"id\": 565, \"likes_received\": 5, \"likes_given\": 3, \"topics_entered\": 6, \"topic_count\": 0, \"post_count\": 6, \"posts_read\": 43, \"days_visited\": 7, \"user\": {\"id\": 565, \"username\": \"danielskatz\", \"name\": \"Daniel S. Katz\", \"avatar_template\": \"/user_avatar/discourse.jupyter.org/danielskatz/{size}/785_2.png\", \"title\": null}, \"username\": \"danielskatz\"}, {\"id\": 195, \"likes_received\": 1, \"likes_given\": 0, \"topics_entered\": 8, \"topic_count\": 0, \"post_count\": 6, \"posts_read\": 34, \"days_visited\": 10, \"user\": {\"id\": 195, \"username\": \"rcthomas\", \"name\": \"\", \"avatar_template\": \"/user_avatar/discourse.jupyter.org/rcthomas/{size}/201_2.png\", \"title\": null}, \"username\": \"rcthomas\"}, {\"id\": 562, \"likes_received\": 0, \"likes_given\": 0, \"topics_entered\": 4, \"topic_count\": 0, \"post_count\": 5, \"posts_read\": 25, \"days_visited\": 8, \"user\": {\"id\": 562, \"username\": \"Shane_Canon\", \"name\": \"Shane Canon\", \"avatar_template\": \"/user_avatar/discourse.jupyter.org/shane_canon/{size}/783_2.png\", \"title\": null}, \"username\": \"Shane_Canon\"}, {\"id\": 699, \"likes_received\": 1, \"likes_given\": 0, \"topics_entered\": 14, \"topic_count\": 5, \"post_count\": 5, \"posts_read\": 39, \"days_visited\": 6, \"user\": {\"id\": 699, \"username\": \"josh\", \"name\": null, \"avatar_template\": \"https://avatars.discourse.org/v4/letter/j/45deac/{size}.png\", \"title\": null}, \"username\": \"josh\"}, {\"id\": 622, \"likes_received\": 4, \"likes_given\": 8, \"topics_entered\": 17, \"topic_count\": 1, \"post_count\": 5, \"posts_read\": 64, \"days_visited\": 19, \"user\": {\"id\": 622, \"username\": \"esevan\", \"name\": \"Eunsoo Park (Evan)\", \"avatar_template\": \"/user_avatar/discourse.jupyter.org/esevan/{size}/844_2.png\", \"title\": \"\"}, \"username\": \"esevan\"}, {\"id\": 601, \"likes_received\": 1, \"likes_given\": 0, \"topics_entered\": 39, \"topic_count\": 3, \"post_count\": 5, \"posts_read\": 111, \"days_visited\": 18, \"user\": {\"id\": 601, \"username\": \"parmentelat\", \"name\": \"Thierry Parmentelat\", \"avatar_template\": \"/user_avatar/discourse.jupyter.org/parmentelat/{size}/813_2.png\", \"title\": null}, \"username\": \"parmentelat\"}, {\"id\": 254, \"likes_received\": 1, \"likes_given\": 3, \"topics_entered\": 6, \"topic_count\": 0, \"post_count\": 5, \"posts_read\": 58, \"days_visited\": 5, \"user\": {\"id\": 254, \"username\": \"mathematicalmichael\", \"name\": \"Michael Pilosov\", \"avatar_template\": \"/user_avatar/discourse.jupyter.org/mathematicalmichael/{size}/322_2.png\", \"title\": null}, \"username\": \"mathematicalmichael\"}]}};\n",
       "      var embedOpt = {\"mode\": \"vega-lite\"};\n",
       "\n",
       "      function showError(el, error){\n",
       "          el.innerHTML = ('<div class=\"error\" style=\"color:red;\">'\n",
       "                          + '<p>JavaScript Error: ' + error.message + '</p>'\n",
       "                          + \"<p>This usually means there's a typo in your chart specification. \"\n",
       "                          + \"See the javascript console for the full traceback.</p>\"\n",
       "                          + '</div>');\n",
       "          throw error;\n",
       "      }\n",
       "      const el = document.getElementById('altair-viz-3');\n",
       "      vegaEmbed(\"#altair-viz-3\", spec, embedOpt)\n",
       "        .catch(error => showError(el, error));\n",
       "    });\n",
       "\n",
       "  </script>"
      ],
      "text/plain": [
       "Chart({\n",
       "  data:      id  likes_received  likes_given  topics_entered  topic_count  post_count  \\\n",
       "  0     6             134          227             329           12         144   \n",
       "  1     3             128          195             221           27         124   \n",
       "  2    24              44           13             250            5          53   \n",
       "  3   220              36            1              97            1          50   \n",
       "  4     8              67           12             129            4          50   \n",
       "  5   116              61           27             124            4          38   \n",
       "  6    12              32            5              92            5          34   \n",
       "  7    73              20           18             320            3          29   \n",
       "  8    99              15           41              90            4          23   \n",
       "  9    11              14           76             221            1          22   \n",
       "  10  485              20           59              55            1          21   \n",
       "  11  234              25            7              12            4          21   \n",
       "  13   30              22           82              50            2          19   \n",
       "  12  217               9           27              31            0          19   \n",
       "  15   77              11           10             154            0          13   \n",
       "  14   59              15            5              16            1          13   \n",
       "  16   60               7            6              32            0          11   \n",
       "  17  222              15            6              16            1          10   \n",
       "  18  674               3            4              42            3          10   \n",
       "  19   34              18            3              19            3          10   \n",
       "  20  566               2            0              12            2           9   \n",
       "  21  556               8            4              16            1           9   \n",
       "  22  679              10            1              25            0           9   \n",
       "  23  432               5           20              50            1           9   \n",
       "  24    7              18           24              27            0           9   \n",
       "  27  268              13            5              18            3           8   \n",
       "  25  510               6            0               4            2           8   \n",
       "  26  686               3            0              30            3           8   \n",
       "  29  333               1            2               1            0           7   \n",
       "  30  771              12            2               3            0           7   \n",
       "  31  419               2            0              10            4           7   \n",
       "  32  487               0            0              23            4           7   \n",
       "  33  662              22           16              16            0           7   \n",
       "  34  660               5           18              10            1           7   \n",
       "  35  303               1            7              62            2           7   \n",
       "  36  590               2            1              21            3           7   \n",
       "  28   71               4            1              15            1           7   \n",
       "  41  227               2            8              29            0           6   \n",
       "  44  372               5            5              12            0           6   \n",
       "  43    9               7            0              10            0           6   \n",
       "  42  803               2            0              11            1           6   \n",
       "  38  640               0            0               6            1           6   \n",
       "  40  642               1            0              30            5           6   \n",
       "  39  565               5            3               6            0           6   \n",
       "  37  195               1            0               8            0           6   \n",
       "  45  562               0            0               4            0           5   \n",
       "  46  699               1            0              14            5           5   \n",
       "  47  622               4            8              17            1           5   \n",
       "  48  601               1            0              39            3           5   \n",
       "  49  254               1            3               6            0           5   \n",
       "  \n",
       "      posts_read  days_visited  \\\n",
       "  0         1401            88   \n",
       "  1          888            90   \n",
       "  2          626            58   \n",
       "  3          387            33   \n",
       "  4          652            91   \n",
       "  5          592            87   \n",
       "  6          463            44   \n",
       "  7         1471            71   \n",
       "  8          504            57   \n",
       "  9         1066            75   \n",
       "  10         256            38   \n",
       "  11          99            29   \n",
       "  13         344            72   \n",
       "  12         164            37   \n",
       "  15         790            88   \n",
       "  14         170            38   \n",
       "  16         262            26   \n",
       "  17         143            45   \n",
       "  18         267            24   \n",
       "  19         176            28   \n",
       "  20          34            14   \n",
       "  21          79            13   \n",
       "  22         127            12   \n",
       "  23         200            31   \n",
       "  24         213            22   \n",
       "  27         101            29   \n",
       "  25          10            10   \n",
       "  26          93            11   \n",
       "  29          37            21   \n",
       "  30          68             4   \n",
       "  31          35            22   \n",
       "  32          84            14   \n",
       "  33         178            34   \n",
       "  34         177            27   \n",
       "  35         262            62   \n",
       "  36         104            21   \n",
       "  28         143            20   \n",
       "  41         179            14   \n",
       "  44          88            22   \n",
       "  43          36            12   \n",
       "  42          45             4   \n",
       "  38          23             7   \n",
       "  40         129            27   \n",
       "  39          43             7   \n",
       "  37          34            10   \n",
       "  45          25             8   \n",
       "  46          39             6   \n",
       "  47          64            19   \n",
       "  48         111            18   \n",
       "  49          58             5   \n",
       "  \n",
       "                                                   user             username  \n",
       "  0   {'id': 6, 'username': 'betatim', 'name': 'Tim ...              betatim  \n",
       "  1   {'id': 3, 'username': 'choldgraf', 'name': 'Ch...            choldgraf  \n",
       "  2   {'id': 24, 'username': 'psychemedia', 'name': ...          psychemedia  \n",
       "  3   {'id': 220, 'username': 'jasongrout', 'name': ...           jasongrout  \n",
       "  4   {'id': 8, 'username': 'minrk', 'name': 'Min RK...                minrk  \n",
       "  5   {'id': 116, 'username': 'sgibson91', 'name': '...            sgibson91  \n",
       "  6   {'id': 12, 'username': 'yuvipanda', 'name': 'Y...            yuvipanda  \n",
       "  7   {'id': 73, 'username': 'manics', 'name': 'Simo...               manics  \n",
       "  8   {'id': 99, 'username': 'Zsailer', 'name': 'Zac...              Zsailer  \n",
       "  9   {'id': 11, 'username': 'fomightez', 'name': 'W...            fomightez  \n",
       "  10  {'id': 485, 'username': 'rolweber', 'name': 'R...             rolweber  \n",
       "  11  {'id': 234, 'username': 'fmaussion', 'name': '...            fmaussion  \n",
       "  13  {'id': 30, 'username': 'consideRatio', 'name':...         consideRatio  \n",
       "  12  {'id': 217, 'username': 'kevin-bates', 'name':...          kevin-bates  \n",
       "  15  {'id': 77, 'username': 'jtp', 'name': 'Jeremy ...                  jtp  \n",
       "  14  {'id': 59, 'username': 'bitnik', 'name': 'Kena...               bitnik  \n",
       "  16  {'id': 60, 'username': 'fm75', 'name': 'Fred M...                 fm75  \n",
       "  17  {'id': 222, 'username': 'tgeorgeux', 'name': '...            tgeorgeux  \n",
       "  18  {'id': 674, 'username': 'celine168', 'name': '...            celine168  \n",
       "  19  {'id': 34, 'username': 'danielballan', 'name':...         danielballan  \n",
       "  20  {'id': 566, 'username': 'Shreyas_Cholia', 'nam...       Shreyas_Cholia  \n",
       "  21  {'id': 556, 'username': 'blink1073', 'name': '...            blink1073  \n",
       "  22  {'id': 679, 'username': 'bollwyvl', 'name': 'N...             bollwyvl  \n",
       "  23  {'id': 432, 'username': 'ondrejj', 'name': 'On...              ondrejj  \n",
       "  24  {'id': 7, 'username': 'willingc', 'name': 'Car...             willingc  \n",
       "  27  {'id': 268, 'username': 'afshin', 'name': 'A. ...               afshin  \n",
       "  25  {'id': 510, 'username': 'lorankary', 'name': '...            lorankary  \n",
       "  26  {'id': 686, 'username': 'sqqqrly', 'name': 'DA...              sqqqrly  \n",
       "  29  {'id': 333, 'username': 'cmbui', 'name': 'Chri...                cmbui  \n",
       "  30  {'id': 771, 'username': 'sarasrking', 'name': ...           sarasrking  \n",
       "  31  {'id': 419, 'username': 'alvinhuff', 'name': '...            alvinhuff  \n",
       "  32  {'id': 487, 'username': 'D4rkM4atter', 'name':...          D4rkM4atter  \n",
       "  33  {'id': 662, 'username': 'isabela-pf', 'name': ...           isabela-pf  \n",
       "  34  {'id': 660, 'username': 'javag97', 'name': 'Ja...              javag97  \n",
       "  35  {'id': 303, 'username': 'ian-r-rose', 'name': ...           ian-r-rose  \n",
       "  36  {'id': 590, 'username': 'nscozzaro', 'name': '...            nscozzaro  \n",
       "  28  {'id': 71, 'username': 'nuest', 'name': 'Danie...                nuest  \n",
       "  41  {'id': 227, 'username': 'sterlinm', 'name': 'M...             sterlinm  \n",
       "  44  {'id': 372, 'username': 'davclark', 'name': 'D...             davclark  \n",
       "  43  {'id': 9, 'username': 'ellisonbg', 'name': 'Br...            ellisonbg  \n",
       "  42  {'id': 803, 'username': 'richcranney', 'name':...          richcranney  \n",
       "  38  {'id': 640, 'username': 'Stefano_Fioravanzo', ...   Stefano_Fioravanzo  \n",
       "  40  {'id': 642, 'username': 'ArlenePena', 'name': ...           ArlenePena  \n",
       "  39  {'id': 565, 'username': 'danielskatz', 'name':...          danielskatz  \n",
       "  37  {'id': 195, 'username': 'rcthomas', 'name': ''...             rcthomas  \n",
       "  45  {'id': 562, 'username': 'Shane_Canon', 'name':...          Shane_Canon  \n",
       "  46  {'id': 699, 'username': 'josh', 'name': None, ...                 josh  \n",
       "  47  {'id': 622, 'username': 'esevan', 'name': 'Eun...               esevan  \n",
       "  48  {'id': 601, 'username': 'parmentelat', 'name':...          parmentelat  \n",
       "  49  {'id': 254, 'username': 'mathematicalmichael',...  mathematicalmichael  ,\n",
       "  encoding: FacetedEncoding({\n",
       "    x: X({\n",
       "      field: 'username',\n",
       "      type: 'nominal'\n",
       "    }),\n",
       "    y: Y({\n",
       "      field: 'post_count',\n",
       "      type: 'quantitative'\n",
       "    })\n",
       "  }),\n",
       "  mark: 'bar'\n",
       "})"
      ]
     },
     "execution_count": 16,
     "metadata": {},
     "output_type": "execute_result"
    }
   ],
   "source": [
    "plot_user_data(users.head(50), 'post_count')"
   ]
  },
  {
   "cell_type": "markdown",
   "metadata": {
    "papermill": {
     "duration": 0.084411,
     "end_time": "2019-08-20T16:17:16.279274",
     "exception": false,
     "start_time": "2019-08-20T16:17:16.194863",
     "status": "completed"
    },
    "tags": []
   },
   "source": [
    "**Forum users, sorted by likes given**\n",
    "\n",
    "These are Community Forum members that \"liked\" other people's posts. We appreciate\n",
    "anybody taking the time to tell someone else they like what they're shared!"
   ]
  },
  {
   "cell_type": "code",
   "execution_count": 17,
   "metadata": {
    "papermill": {
     "duration": 0.283142,
     "end_time": "2019-08-20T16:17:16.687998",
     "exception": false,
     "start_time": "2019-08-20T16:17:16.404856",
     "status": "completed"
    },
    "tags": []
   },
   "outputs": [
    {
     "data": {
      "text/html": [
       "\n",
       "  <style>\n",
       "    .vega-actions a {\n",
       "        margin-right: 12px;\n",
       "        color: #757575;\n",
       "        font-weight: normal;\n",
       "        font-size: 13px;\n",
       "    }\n",
       "    .error {\n",
       "        color: red;\n",
       "    }\n",
       "  </style>\n",
       "  <div id=\"altair-viz-4\"></div>\n",
       "  <script>\n",
       "    requirejs.config({\n",
       "        \"paths\": {\n",
       "            \"vega\": \"https://cdn.jsdelivr.net/npm//vega@5?noext\",\n",
       "            \"vega-lib\": \"https://cdn.jsdelivr.net/npm//vega-lib?noext\",\n",
       "            \"vega-lite\": \"https://cdn.jsdelivr.net/npm//vega-lite@3.3.0?noext\",\n",
       "            \"vega-embed\": \"https://cdn.jsdelivr.net/npm//vega-embed@4?noext\",\n",
       "        }\n",
       "    });\n",
       "    require(['vega-embed'], function(vegaEmbed){\n",
       "      var spec = {\"config\": {\"axisLeft\": {\"labelFontSize\": 15}, \"axisBottom\": {\"labelFontSize\": 15}}, \"data\": {\"name\": \"data-5805f766a0dda86f88192affec8b3563\"}, \"mark\": \"bar\", \"encoding\": {\"x\": {\"type\": \"nominal\", \"field\": \"username\"}, \"y\": {\"type\": \"quantitative\", \"field\": \"likes_given\"}}, \"$schema\": \"https://vega.github.io/schema/vega-lite/v3.3.0.json\", \"datasets\": {\"data-5805f766a0dda86f88192affec8b3563\": [{\"id\": 6, \"likes_received\": 134, \"likes_given\": 227, \"topics_entered\": 329, \"topic_count\": 12, \"post_count\": 144, \"posts_read\": 1401, \"days_visited\": 88, \"user\": {\"id\": 6, \"username\": \"betatim\", \"name\": \"Tim Head\", \"avatar_template\": \"/user_avatar/discourse.jupyter.org/betatim/{size}/10_2.png\", \"title\": \"\"}, \"username\": \"betatim\"}, {\"id\": 3, \"likes_received\": 128, \"likes_given\": 195, \"topics_entered\": 221, \"topic_count\": 27, \"post_count\": 124, \"posts_read\": 888, \"days_visited\": 90, \"user\": {\"id\": 3, \"username\": \"choldgraf\", \"name\": \"Chris Holdgraf\", \"avatar_template\": \"/user_avatar/discourse.jupyter.org/choldgraf/{size}/12_2.png\", \"title\": \"Regular\"}, \"username\": \"choldgraf\"}, {\"id\": 30, \"likes_received\": 22, \"likes_given\": 82, \"topics_entered\": 50, \"topic_count\": 2, \"post_count\": 19, \"posts_read\": 344, \"days_visited\": 72, \"user\": {\"id\": 30, \"username\": \"consideRatio\", \"name\": \"Erik Sundell\", \"avatar_template\": \"/user_avatar/discourse.jupyter.org/consideratio/{size}/30_2.png\", \"title\": null}, \"username\": \"consideRatio\"}, {\"id\": 11, \"likes_received\": 14, \"likes_given\": 76, \"topics_entered\": 221, \"topic_count\": 1, \"post_count\": 22, \"posts_read\": 1066, \"days_visited\": 75, \"user\": {\"id\": 11, \"username\": \"fomightez\", \"name\": \"Wayne\", \"avatar_template\": \"/user_avatar/discourse.jupyter.org/fomightez/{size}/495_2.png\", \"title\": null}, \"username\": \"fomightez\"}, {\"id\": 485, \"likes_received\": 20, \"likes_given\": 59, \"topics_entered\": 55, \"topic_count\": 1, \"post_count\": 21, \"posts_read\": 256, \"days_visited\": 38, \"user\": {\"id\": 485, \"username\": \"rolweber\", \"name\": \"Roland Weber\", \"avatar_template\": \"/user_avatar/discourse.jupyter.org/rolweber/{size}/657_2.png\", \"title\": null}, \"username\": \"rolweber\"}, {\"id\": 99, \"likes_received\": 15, \"likes_given\": 41, \"topics_entered\": 90, \"topic_count\": 4, \"post_count\": 23, \"posts_read\": 504, \"days_visited\": 57, \"user\": {\"id\": 99, \"username\": \"Zsailer\", \"name\": \"Zachary Sailer\", \"avatar_template\": \"/user_avatar/discourse.jupyter.org/zsailer/{size}/106_2.png\", \"title\": null}, \"username\": \"Zsailer\"}, {\"id\": 116, \"likes_received\": 61, \"likes_given\": 27, \"topics_entered\": 124, \"topic_count\": 4, \"post_count\": 38, \"posts_read\": 592, \"days_visited\": 87, \"user\": {\"id\": 116, \"username\": \"sgibson91\", \"name\": \"Sarah Gibson\", \"avatar_template\": \"/user_avatar/discourse.jupyter.org/sgibson91/{size}/487_2.png\", \"title\": \"\"}, \"username\": \"sgibson91\"}, {\"id\": 217, \"likes_received\": 9, \"likes_given\": 27, \"topics_entered\": 31, \"topic_count\": 0, \"post_count\": 19, \"posts_read\": 164, \"days_visited\": 37, \"user\": {\"id\": 217, \"username\": \"kevin-bates\", \"name\": \"Kevin Bates\", \"avatar_template\": \"/user_avatar/discourse.jupyter.org/kevin-bates/{size}/234_2.png\", \"title\": null}, \"username\": \"kevin-bates\"}, {\"id\": 7, \"likes_received\": 18, \"likes_given\": 24, \"topics_entered\": 27, \"topic_count\": 0, \"post_count\": 9, \"posts_read\": 213, \"days_visited\": 22, \"user\": {\"id\": 7, \"username\": \"willingc\", \"name\": \"Carol Willing\", \"avatar_template\": \"/user_avatar/discourse.jupyter.org/willingc/{size}/11_2.png\", \"title\": null}, \"username\": \"willingc\"}, {\"id\": 432, \"likes_received\": 5, \"likes_given\": 20, \"topics_entered\": 50, \"topic_count\": 1, \"post_count\": 9, \"posts_read\": 200, \"days_visited\": 31, \"user\": {\"id\": 432, \"username\": \"ondrejj\", \"name\": \"Ond\\u0159ej \", \"avatar_template\": \"/user_avatar/discourse.jupyter.org/ondrejj/{size}/567_2.png\", \"title\": null}, \"username\": \"ondrejj\"}, {\"id\": 660, \"likes_received\": 5, \"likes_given\": 18, \"topics_entered\": 10, \"topic_count\": 1, \"post_count\": 7, \"posts_read\": 177, \"days_visited\": 27, \"user\": {\"id\": 660, \"username\": \"javag97\", \"name\": \"Javier Garcia\", \"avatar_template\": \"/user_avatar/discourse.jupyter.org/javag97/{size}/881_2.png\", \"title\": null}, \"username\": \"javag97\"}, {\"id\": 73, \"likes_received\": 20, \"likes_given\": 18, \"topics_entered\": 320, \"topic_count\": 3, \"post_count\": 29, \"posts_read\": 1471, \"days_visited\": 71, \"user\": {\"id\": 73, \"username\": \"manics\", \"name\": \"Simon\", \"avatar_template\": \"/user_avatar/discourse.jupyter.org/manics/{size}/85_2.png\", \"title\": null}, \"username\": \"manics\"}, {\"id\": 662, \"likes_received\": 22, \"likes_given\": 16, \"topics_entered\": 16, \"topic_count\": 0, \"post_count\": 7, \"posts_read\": 178, \"days_visited\": 34, \"user\": {\"id\": 662, \"username\": \"isabela-pf\", \"name\": \"\", \"avatar_template\": \"/user_avatar/discourse.jupyter.org/isabela-pf/{size}/863_2.png\", \"title\": \"\"}, \"username\": \"isabela-pf\"}, {\"id\": 24, \"likes_received\": 44, \"likes_given\": 13, \"topics_entered\": 250, \"topic_count\": 5, \"post_count\": 53, \"posts_read\": 626, \"days_visited\": 58, \"user\": {\"id\": 24, \"username\": \"psychemedia\", \"name\": \"Tony Hirst\", \"avatar_template\": \"/user_avatar/discourse.jupyter.org/psychemedia/{size}/24_2.png\", \"title\": null}, \"username\": \"psychemedia\"}, {\"id\": 8, \"likes_received\": 67, \"likes_given\": 12, \"topics_entered\": 129, \"topic_count\": 4, \"post_count\": 50, \"posts_read\": 652, \"days_visited\": 91, \"user\": {\"id\": 8, \"username\": \"minrk\", \"name\": \"Min RK\", \"avatar_template\": \"/user_avatar/discourse.jupyter.org/minrk/{size}/13_2.png\", \"title\": null}, \"username\": \"minrk\"}, {\"id\": 77, \"likes_received\": 11, \"likes_given\": 10, \"topics_entered\": 154, \"topic_count\": 0, \"post_count\": 13, \"posts_read\": 790, \"days_visited\": 88, \"user\": {\"id\": 77, \"username\": \"jtp\", \"name\": \"Jeremy Tuloup\", \"avatar_template\": \"/user_avatar/discourse.jupyter.org/jtp/{size}/882_2.png\", \"title\": \"\"}, \"username\": \"jtp\"}, {\"id\": 227, \"likes_received\": 2, \"likes_given\": 8, \"topics_entered\": 29, \"topic_count\": 0, \"post_count\": 6, \"posts_read\": 179, \"days_visited\": 14, \"user\": {\"id\": 227, \"username\": \"sterlinm\", \"name\": \"Michael\", \"avatar_template\": \"/user_avatar/discourse.jupyter.org/sterlinm/{size}/241_2.png\", \"title\": null}, \"username\": \"sterlinm\"}, {\"id\": 622, \"likes_received\": 4, \"likes_given\": 8, \"topics_entered\": 17, \"topic_count\": 1, \"post_count\": 5, \"posts_read\": 64, \"days_visited\": 19, \"user\": {\"id\": 622, \"username\": \"esevan\", \"name\": \"Eunsoo Park (Evan)\", \"avatar_template\": \"/user_avatar/discourse.jupyter.org/esevan/{size}/844_2.png\", \"title\": \"\"}, \"username\": \"esevan\"}, {\"id\": 303, \"likes_received\": 1, \"likes_given\": 7, \"topics_entered\": 62, \"topic_count\": 2, \"post_count\": 7, \"posts_read\": 262, \"days_visited\": 62, \"user\": {\"id\": 303, \"username\": \"ian-r-rose\", \"name\": \"Ian Rose\", \"avatar_template\": \"/user_avatar/discourse.jupyter.org/ian-r-rose/{size}/638_2.png\", \"title\": null}, \"username\": \"ian-r-rose\"}, {\"id\": 234, \"likes_received\": 25, \"likes_given\": 7, \"topics_entered\": 12, \"topic_count\": 4, \"post_count\": 21, \"posts_read\": 99, \"days_visited\": 29, \"user\": {\"id\": 234, \"username\": \"fmaussion\", \"name\": \"Fabien Maussion\", \"avatar_template\": \"/user_avatar/discourse.jupyter.org/fmaussion/{size}/390_2.png\", \"title\": null}, \"username\": \"fmaussion\"}, {\"id\": 222, \"likes_received\": 15, \"likes_given\": 6, \"topics_entered\": 16, \"topic_count\": 1, \"post_count\": 10, \"posts_read\": 143, \"days_visited\": 45, \"user\": {\"id\": 222, \"username\": \"tgeorgeux\", \"name\": \"Timothy George\", \"avatar_template\": \"https://avatars.discourse.org/v4/letter/t/f05b48/{size}.png\", \"title\": null}, \"username\": \"tgeorgeux\"}, {\"id\": 60, \"likes_received\": 7, \"likes_given\": 6, \"topics_entered\": 32, \"topic_count\": 0, \"post_count\": 11, \"posts_read\": 262, \"days_visited\": 26, \"user\": {\"id\": 60, \"username\": \"fm75\", \"name\": \"Fred Mitchell\", \"avatar_template\": \"/user_avatar/discourse.jupyter.org/fm75/{size}/71_2.png\", \"title\": \"\"}, \"username\": \"fm75\"}, {\"id\": 372, \"likes_received\": 5, \"likes_given\": 5, \"topics_entered\": 12, \"topic_count\": 0, \"post_count\": 6, \"posts_read\": 88, \"days_visited\": 22, \"user\": {\"id\": 372, \"username\": \"davclark\", \"name\": \"Dav Clark\", \"avatar_template\": \"/user_avatar/discourse.jupyter.org/davclark/{size}/489_2.png\", \"title\": null}, \"username\": \"davclark\"}, {\"id\": 12, \"likes_received\": 32, \"likes_given\": 5, \"topics_entered\": 92, \"topic_count\": 5, \"post_count\": 34, \"posts_read\": 463, \"days_visited\": 44, \"user\": {\"id\": 12, \"username\": \"yuvipanda\", \"name\": \"Yuvi Panda\", \"avatar_template\": \"/user_avatar/discourse.jupyter.org/yuvipanda/{size}/17_2.png\", \"title\": null}, \"username\": \"yuvipanda\"}, {\"id\": 268, \"likes_received\": 13, \"likes_given\": 5, \"topics_entered\": 18, \"topic_count\": 3, \"post_count\": 8, \"posts_read\": 101, \"days_visited\": 29, \"user\": {\"id\": 268, \"username\": \"afshin\", \"name\": \"A. T. Darian\", \"avatar_template\": \"/user_avatar/discourse.jupyter.org/afshin/{size}/314_2.png\", \"title\": null}, \"username\": \"afshin\"}, {\"id\": 59, \"likes_received\": 15, \"likes_given\": 5, \"topics_entered\": 16, \"topic_count\": 1, \"post_count\": 13, \"posts_read\": 170, \"days_visited\": 38, \"user\": {\"id\": 59, \"username\": \"bitnik\", \"name\": \"Kenan Erdogan\", \"avatar_template\": \"/user_avatar/discourse.jupyter.org/bitnik/{size}/79_2.png\", \"title\": \"\"}, \"username\": \"bitnik\"}, {\"id\": 556, \"likes_received\": 8, \"likes_given\": 4, \"topics_entered\": 16, \"topic_count\": 1, \"post_count\": 9, \"posts_read\": 79, \"days_visited\": 13, \"user\": {\"id\": 556, \"username\": \"blink1073\", \"name\": \"Steven Silvester\", \"avatar_template\": \"/user_avatar/discourse.jupyter.org/blink1073/{size}/791_2.png\", \"title\": null}, \"username\": \"blink1073\"}, {\"id\": 674, \"likes_received\": 3, \"likes_given\": 4, \"topics_entered\": 42, \"topic_count\": 3, \"post_count\": 10, \"posts_read\": 267, \"days_visited\": 24, \"user\": {\"id\": 674, \"username\": \"celine168\", \"name\": \"Celine L\", \"avatar_template\": \"https://avatars.discourse.org/v4/letter/c/ec9cab/{size}.png\", \"title\": null}, \"username\": \"celine168\"}, {\"id\": 565, \"likes_received\": 5, \"likes_given\": 3, \"topics_entered\": 6, \"topic_count\": 0, \"post_count\": 6, \"posts_read\": 43, \"days_visited\": 7, \"user\": {\"id\": 565, \"username\": \"danielskatz\", \"name\": \"Daniel S. Katz\", \"avatar_template\": \"/user_avatar/discourse.jupyter.org/danielskatz/{size}/785_2.png\", \"title\": null}, \"username\": \"danielskatz\"}, {\"id\": 254, \"likes_received\": 1, \"likes_given\": 3, \"topics_entered\": 6, \"topic_count\": 0, \"post_count\": 5, \"posts_read\": 58, \"days_visited\": 5, \"user\": {\"id\": 254, \"username\": \"mathematicalmichael\", \"name\": \"Michael Pilosov\", \"avatar_template\": \"/user_avatar/discourse.jupyter.org/mathematicalmichael/{size}/322_2.png\", \"title\": null}, \"username\": \"mathematicalmichael\"}, {\"id\": 34, \"likes_received\": 18, \"likes_given\": 3, \"topics_entered\": 19, \"topic_count\": 3, \"post_count\": 10, \"posts_read\": 176, \"days_visited\": 28, \"user\": {\"id\": 34, \"username\": \"danielballan\", \"name\": \"Dan Allan\", \"avatar_template\": \"/user_avatar/discourse.jupyter.org/danielballan/{size}/34_2.png\", \"title\": null}, \"username\": \"danielballan\"}, {\"id\": 771, \"likes_received\": 12, \"likes_given\": 2, \"topics_entered\": 3, \"topic_count\": 0, \"post_count\": 7, \"posts_read\": 68, \"days_visited\": 4, \"user\": {\"id\": 771, \"username\": \"sarasrking\", \"name\": \"Sara King\", \"avatar_template\": \"https://avatars.discourse.org/v4/letter/s/d78d45/{size}.png\", \"title\": null}, \"username\": \"sarasrking\"}, {\"id\": 333, \"likes_received\": 1, \"likes_given\": 2, \"topics_entered\": 1, \"topic_count\": 0, \"post_count\": 7, \"posts_read\": 37, \"days_visited\": 21, \"user\": {\"id\": 333, \"username\": \"cmbui\", \"name\": \"Christina\", \"avatar_template\": \"/user_avatar/discourse.jupyter.org/cmbui/{size}/436_2.png\", \"title\": null}, \"username\": \"cmbui\"}, {\"id\": 71, \"likes_received\": 4, \"likes_given\": 1, \"topics_entered\": 15, \"topic_count\": 1, \"post_count\": 7, \"posts_read\": 143, \"days_visited\": 20, \"user\": {\"id\": 71, \"username\": \"nuest\", \"name\": \"Daniel N\\u00fcst\", \"avatar_template\": \"/user_avatar/discourse.jupyter.org/nuest/{size}/82_2.png\", \"title\": null}, \"username\": \"nuest\"}, {\"id\": 220, \"likes_received\": 36, \"likes_given\": 1, \"topics_entered\": 97, \"topic_count\": 1, \"post_count\": 50, \"posts_read\": 387, \"days_visited\": 33, \"user\": {\"id\": 220, \"username\": \"jasongrout\", \"name\": \"Jason Grout\", \"avatar_template\": \"/user_avatar/discourse.jupyter.org/jasongrout/{size}/371_2.png\", \"title\": null}, \"username\": \"jasongrout\"}, {\"id\": 590, \"likes_received\": 2, \"likes_given\": 1, \"topics_entered\": 21, \"topic_count\": 3, \"post_count\": 7, \"posts_read\": 104, \"days_visited\": 21, \"user\": {\"id\": 590, \"username\": \"nscozzaro\", \"name\": \"Nicolas Scozzaro\", \"avatar_template\": \"/user_avatar/discourse.jupyter.org/nscozzaro/{size}/804_2.png\", \"title\": null}, \"username\": \"nscozzaro\"}, {\"id\": 679, \"likes_received\": 10, \"likes_given\": 1, \"topics_entered\": 25, \"topic_count\": 0, \"post_count\": 9, \"posts_read\": 127, \"days_visited\": 12, \"user\": {\"id\": 679, \"username\": \"bollwyvl\", \"name\": \"Nicholas Bollweg\", \"avatar_template\": \"/user_avatar/discourse.jupyter.org/bollwyvl/{size}/904_2.png\", \"title\": null}, \"username\": \"bollwyvl\"}, {\"id\": 803, \"likes_received\": 2, \"likes_given\": 0, \"topics_entered\": 11, \"topic_count\": 1, \"post_count\": 6, \"posts_read\": 45, \"days_visited\": 4, \"user\": {\"id\": 803, \"username\": \"richcranney\", \"name\": \"\", \"avatar_template\": \"https://avatars.discourse.org/v4/letter/r/a698b9/{size}.png\", \"title\": null}, \"username\": \"richcranney\"}, {\"id\": 601, \"likes_received\": 1, \"likes_given\": 0, \"topics_entered\": 39, \"topic_count\": 3, \"post_count\": 5, \"posts_read\": 111, \"days_visited\": 18, \"user\": {\"id\": 601, \"username\": \"parmentelat\", \"name\": \"Thierry Parmentelat\", \"avatar_template\": \"/user_avatar/discourse.jupyter.org/parmentelat/{size}/813_2.png\", \"title\": null}, \"username\": \"parmentelat\"}, {\"id\": 699, \"likes_received\": 1, \"likes_given\": 0, \"topics_entered\": 14, \"topic_count\": 5, \"post_count\": 5, \"posts_read\": 39, \"days_visited\": 6, \"user\": {\"id\": 699, \"username\": \"josh\", \"name\": null, \"avatar_template\": \"https://avatars.discourse.org/v4/letter/j/45deac/{size}.png\", \"title\": null}, \"username\": \"josh\"}, {\"id\": 562, \"likes_received\": 0, \"likes_given\": 0, \"topics_entered\": 4, \"topic_count\": 0, \"post_count\": 5, \"posts_read\": 25, \"days_visited\": 8, \"user\": {\"id\": 562, \"username\": \"Shane_Canon\", \"name\": \"Shane Canon\", \"avatar_template\": \"/user_avatar/discourse.jupyter.org/shane_canon/{size}/783_2.png\", \"title\": null}, \"username\": \"Shane_Canon\"}, {\"id\": 9, \"likes_received\": 7, \"likes_given\": 0, \"topics_entered\": 10, \"topic_count\": 0, \"post_count\": 6, \"posts_read\": 36, \"days_visited\": 12, \"user\": {\"id\": 9, \"username\": \"ellisonbg\", \"name\": \"Brian Granger\", \"avatar_template\": \"/user_avatar/discourse.jupyter.org/ellisonbg/{size}/14_2.png\", \"title\": null}, \"username\": \"ellisonbg\"}, {\"id\": 642, \"likes_received\": 1, \"likes_given\": 0, \"topics_entered\": 30, \"topic_count\": 5, \"post_count\": 6, \"posts_read\": 129, \"days_visited\": 27, \"user\": {\"id\": 642, \"username\": \"ArlenePena\", \"name\": null, \"avatar_template\": \"https://avatars.discourse.org/v4/letter/a/34f0e0/{size}.png\", \"title\": null}, \"username\": \"ArlenePena\"}, {\"id\": 566, \"likes_received\": 2, \"likes_given\": 0, \"topics_entered\": 12, \"topic_count\": 2, \"post_count\": 9, \"posts_read\": 34, \"days_visited\": 14, \"user\": {\"id\": 566, \"username\": \"Shreyas_Cholia\", \"name\": \"Shreyas Cholia\", \"avatar_template\": \"/user_avatar/discourse.jupyter.org/shreyas_cholia/{size}/784_2.png\", \"title\": null}, \"username\": \"Shreyas_Cholia\"}, {\"id\": 419, \"likes_received\": 2, \"likes_given\": 0, \"topics_entered\": 10, \"topic_count\": 4, \"post_count\": 7, \"posts_read\": 35, \"days_visited\": 22, \"user\": {\"id\": 419, \"username\": \"alvinhuff\", \"name\": \"Alvin Huff\", \"avatar_template\": \"/user_avatar/discourse.jupyter.org/alvinhuff/{size}/550_2.png\", \"title\": null}, \"username\": \"alvinhuff\"}, {\"id\": 640, \"likes_received\": 0, \"likes_given\": 0, \"topics_entered\": 6, \"topic_count\": 1, \"post_count\": 6, \"posts_read\": 23, \"days_visited\": 7, \"user\": {\"id\": 640, \"username\": \"Stefano_Fioravanzo\", \"name\": \"Stefano Fioravanzo\", \"avatar_template\": \"/user_avatar/discourse.jupyter.org/stefano_fioravanzo/{size}/849_2.png\", \"title\": null}, \"username\": \"Stefano_Fioravanzo\"}, {\"id\": 195, \"likes_received\": 1, \"likes_given\": 0, \"topics_entered\": 8, \"topic_count\": 0, \"post_count\": 6, \"posts_read\": 34, \"days_visited\": 10, \"user\": {\"id\": 195, \"username\": \"rcthomas\", \"name\": \"\", \"avatar_template\": \"/user_avatar/discourse.jupyter.org/rcthomas/{size}/201_2.png\", \"title\": null}, \"username\": \"rcthomas\"}, {\"id\": 686, \"likes_received\": 3, \"likes_given\": 0, \"topics_entered\": 30, \"topic_count\": 3, \"post_count\": 8, \"posts_read\": 93, \"days_visited\": 11, \"user\": {\"id\": 686, \"username\": \"sqqqrly\", \"name\": \"DAVID OHLEMACHER\", \"avatar_template\": \"https://avatars.discourse.org/v4/letter/s/22d042/{size}.png\", \"title\": null}, \"username\": \"sqqqrly\"}, {\"id\": 487, \"likes_received\": 0, \"likes_given\": 0, \"topics_entered\": 23, \"topic_count\": 4, \"post_count\": 7, \"posts_read\": 84, \"days_visited\": 14, \"user\": {\"id\": 487, \"username\": \"D4rkM4atter\", \"name\": \"\", \"avatar_template\": \"/user_avatar/discourse.jupyter.org/d4rkm4atter/{size}/663_2.png\", \"title\": null}, \"username\": \"D4rkM4atter\"}, {\"id\": 510, \"likes_received\": 6, \"likes_given\": 0, \"topics_entered\": 4, \"topic_count\": 2, \"post_count\": 8, \"posts_read\": 10, \"days_visited\": 10, \"user\": {\"id\": 510, \"username\": \"lorankary\", \"name\": \"Lorankary\", \"avatar_template\": \"https://avatars.discourse.org/v4/letter/l/ac8455/{size}.png\", \"title\": null}, \"username\": \"lorankary\"}]}};\n",
       "      var embedOpt = {\"mode\": \"vega-lite\"};\n",
       "\n",
       "      function showError(el, error){\n",
       "          el.innerHTML = ('<div class=\"error\" style=\"color:red;\">'\n",
       "                          + '<p>JavaScript Error: ' + error.message + '</p>'\n",
       "                          + \"<p>This usually means there's a typo in your chart specification. \"\n",
       "                          + \"See the javascript console for the full traceback.</p>\"\n",
       "                          + '</div>');\n",
       "          throw error;\n",
       "      }\n",
       "      const el = document.getElementById('altair-viz-4');\n",
       "      vegaEmbed(\"#altair-viz-4\", spec, embedOpt)\n",
       "        .catch(error => showError(el, error));\n",
       "    });\n",
       "\n",
       "  </script>"
      ],
      "text/plain": [
       "Chart({\n",
       "  data:      id  likes_received  likes_given  topics_entered  topic_count  post_count  \\\n",
       "  0     6             134          227             329           12         144   \n",
       "  1     3             128          195             221           27         124   \n",
       "  13   30              22           82              50            2          19   \n",
       "  9    11              14           76             221            1          22   \n",
       "  10  485              20           59              55            1          21   \n",
       "  8    99              15           41              90            4          23   \n",
       "  5   116              61           27             124            4          38   \n",
       "  12  217               9           27              31            0          19   \n",
       "  24    7              18           24              27            0           9   \n",
       "  23  432               5           20              50            1           9   \n",
       "  34  660               5           18              10            1           7   \n",
       "  7    73              20           18             320            3          29   \n",
       "  33  662              22           16              16            0           7   \n",
       "  2    24              44           13             250            5          53   \n",
       "  4     8              67           12             129            4          50   \n",
       "  15   77              11           10             154            0          13   \n",
       "  41  227               2            8              29            0           6   \n",
       "  47  622               4            8              17            1           5   \n",
       "  35  303               1            7              62            2           7   \n",
       "  11  234              25            7              12            4          21   \n",
       "  17  222              15            6              16            1          10   \n",
       "  16   60               7            6              32            0          11   \n",
       "  44  372               5            5              12            0           6   \n",
       "  6    12              32            5              92            5          34   \n",
       "  27  268              13            5              18            3           8   \n",
       "  14   59              15            5              16            1          13   \n",
       "  21  556               8            4              16            1           9   \n",
       "  18  674               3            4              42            3          10   \n",
       "  39  565               5            3               6            0           6   \n",
       "  49  254               1            3               6            0           5   \n",
       "  19   34              18            3              19            3          10   \n",
       "  30  771              12            2               3            0           7   \n",
       "  29  333               1            2               1            0           7   \n",
       "  28   71               4            1              15            1           7   \n",
       "  3   220              36            1              97            1          50   \n",
       "  36  590               2            1              21            3           7   \n",
       "  22  679              10            1              25            0           9   \n",
       "  42  803               2            0              11            1           6   \n",
       "  48  601               1            0              39            3           5   \n",
       "  46  699               1            0              14            5           5   \n",
       "  45  562               0            0               4            0           5   \n",
       "  43    9               7            0              10            0           6   \n",
       "  40  642               1            0              30            5           6   \n",
       "  20  566               2            0              12            2           9   \n",
       "  31  419               2            0              10            4           7   \n",
       "  38  640               0            0               6            1           6   \n",
       "  37  195               1            0               8            0           6   \n",
       "  26  686               3            0              30            3           8   \n",
       "  32  487               0            0              23            4           7   \n",
       "  25  510               6            0               4            2           8   \n",
       "  \n",
       "      posts_read  days_visited  \\\n",
       "  0         1401            88   \n",
       "  1          888            90   \n",
       "  13         344            72   \n",
       "  9         1066            75   \n",
       "  10         256            38   \n",
       "  8          504            57   \n",
       "  5          592            87   \n",
       "  12         164            37   \n",
       "  24         213            22   \n",
       "  23         200            31   \n",
       "  34         177            27   \n",
       "  7         1471            71   \n",
       "  33         178            34   \n",
       "  2          626            58   \n",
       "  4          652            91   \n",
       "  15         790            88   \n",
       "  41         179            14   \n",
       "  47          64            19   \n",
       "  35         262            62   \n",
       "  11          99            29   \n",
       "  17         143            45   \n",
       "  16         262            26   \n",
       "  44          88            22   \n",
       "  6          463            44   \n",
       "  27         101            29   \n",
       "  14         170            38   \n",
       "  21          79            13   \n",
       "  18         267            24   \n",
       "  39          43             7   \n",
       "  49          58             5   \n",
       "  19         176            28   \n",
       "  30          68             4   \n",
       "  29          37            21   \n",
       "  28         143            20   \n",
       "  3          387            33   \n",
       "  36         104            21   \n",
       "  22         127            12   \n",
       "  42          45             4   \n",
       "  48         111            18   \n",
       "  46          39             6   \n",
       "  45          25             8   \n",
       "  43          36            12   \n",
       "  40         129            27   \n",
       "  20          34            14   \n",
       "  31          35            22   \n",
       "  38          23             7   \n",
       "  37          34            10   \n",
       "  26          93            11   \n",
       "  32          84            14   \n",
       "  25          10            10   \n",
       "  \n",
       "                                                   user             username  \n",
       "  0   {'id': 6, 'username': 'betatim', 'name': 'Tim ...              betatim  \n",
       "  1   {'id': 3, 'username': 'choldgraf', 'name': 'Ch...            choldgraf  \n",
       "  13  {'id': 30, 'username': 'consideRatio', 'name':...         consideRatio  \n",
       "  9   {'id': 11, 'username': 'fomightez', 'name': 'W...            fomightez  \n",
       "  10  {'id': 485, 'username': 'rolweber', 'name': 'R...             rolweber  \n",
       "  8   {'id': 99, 'username': 'Zsailer', 'name': 'Zac...              Zsailer  \n",
       "  5   {'id': 116, 'username': 'sgibson91', 'name': '...            sgibson91  \n",
       "  12  {'id': 217, 'username': 'kevin-bates', 'name':...          kevin-bates  \n",
       "  24  {'id': 7, 'username': 'willingc', 'name': 'Car...             willingc  \n",
       "  23  {'id': 432, 'username': 'ondrejj', 'name': 'On...              ondrejj  \n",
       "  34  {'id': 660, 'username': 'javag97', 'name': 'Ja...              javag97  \n",
       "  7   {'id': 73, 'username': 'manics', 'name': 'Simo...               manics  \n",
       "  33  {'id': 662, 'username': 'isabela-pf', 'name': ...           isabela-pf  \n",
       "  2   {'id': 24, 'username': 'psychemedia', 'name': ...          psychemedia  \n",
       "  4   {'id': 8, 'username': 'minrk', 'name': 'Min RK...                minrk  \n",
       "  15  {'id': 77, 'username': 'jtp', 'name': 'Jeremy ...                  jtp  \n",
       "  41  {'id': 227, 'username': 'sterlinm', 'name': 'M...             sterlinm  \n",
       "  47  {'id': 622, 'username': 'esevan', 'name': 'Eun...               esevan  \n",
       "  35  {'id': 303, 'username': 'ian-r-rose', 'name': ...           ian-r-rose  \n",
       "  11  {'id': 234, 'username': 'fmaussion', 'name': '...            fmaussion  \n",
       "  17  {'id': 222, 'username': 'tgeorgeux', 'name': '...            tgeorgeux  \n",
       "  16  {'id': 60, 'username': 'fm75', 'name': 'Fred M...                 fm75  \n",
       "  44  {'id': 372, 'username': 'davclark', 'name': 'D...             davclark  \n",
       "  6   {'id': 12, 'username': 'yuvipanda', 'name': 'Y...            yuvipanda  \n",
       "  27  {'id': 268, 'username': 'afshin', 'name': 'A. ...               afshin  \n",
       "  14  {'id': 59, 'username': 'bitnik', 'name': 'Kena...               bitnik  \n",
       "  21  {'id': 556, 'username': 'blink1073', 'name': '...            blink1073  \n",
       "  18  {'id': 674, 'username': 'celine168', 'name': '...            celine168  \n",
       "  39  {'id': 565, 'username': 'danielskatz', 'name':...          danielskatz  \n",
       "  49  {'id': 254, 'username': 'mathematicalmichael',...  mathematicalmichael  \n",
       "  19  {'id': 34, 'username': 'danielballan', 'name':...         danielballan  \n",
       "  30  {'id': 771, 'username': 'sarasrking', 'name': ...           sarasrking  \n",
       "  29  {'id': 333, 'username': 'cmbui', 'name': 'Chri...                cmbui  \n",
       "  28  {'id': 71, 'username': 'nuest', 'name': 'Danie...                nuest  \n",
       "  3   {'id': 220, 'username': 'jasongrout', 'name': ...           jasongrout  \n",
       "  36  {'id': 590, 'username': 'nscozzaro', 'name': '...            nscozzaro  \n",
       "  22  {'id': 679, 'username': 'bollwyvl', 'name': 'N...             bollwyvl  \n",
       "  42  {'id': 803, 'username': 'richcranney', 'name':...          richcranney  \n",
       "  48  {'id': 601, 'username': 'parmentelat', 'name':...          parmentelat  \n",
       "  46  {'id': 699, 'username': 'josh', 'name': None, ...                 josh  \n",
       "  45  {'id': 562, 'username': 'Shane_Canon', 'name':...          Shane_Canon  \n",
       "  43  {'id': 9, 'username': 'ellisonbg', 'name': 'Br...            ellisonbg  \n",
       "  40  {'id': 642, 'username': 'ArlenePena', 'name': ...           ArlenePena  \n",
       "  20  {'id': 566, 'username': 'Shreyas_Cholia', 'nam...       Shreyas_Cholia  \n",
       "  31  {'id': 419, 'username': 'alvinhuff', 'name': '...            alvinhuff  \n",
       "  38  {'id': 640, 'username': 'Stefano_Fioravanzo', ...   Stefano_Fioravanzo  \n",
       "  37  {'id': 195, 'username': 'rcthomas', 'name': ''...             rcthomas  \n",
       "  26  {'id': 686, 'username': 'sqqqrly', 'name': 'DA...              sqqqrly  \n",
       "  32  {'id': 487, 'username': 'D4rkM4atter', 'name':...          D4rkM4atter  \n",
       "  25  {'id': 510, 'username': 'lorankary', 'name': '...            lorankary  ,\n",
       "  encoding: FacetedEncoding({\n",
       "    x: X({\n",
       "      field: 'username',\n",
       "      type: 'nominal'\n",
       "    }),\n",
       "    y: Y({\n",
       "      field: 'likes_given',\n",
       "      type: 'quantitative'\n",
       "    })\n",
       "  }),\n",
       "  mark: 'bar'\n",
       "})"
      ]
     },
     "execution_count": 17,
     "metadata": {},
     "output_type": "execute_result"
    }
   ],
   "source": [
    "plot_user_data(users.head(50), 'likes_given')"
   ]
  },
  {
   "cell_type": "markdown",
   "metadata": {
    "papermill": {
     "duration": 0.087703,
     "end_time": "2019-08-20T16:17:16.857812",
     "exception": false,
     "start_time": "2019-08-20T16:17:16.770109",
     "status": "completed"
    },
    "tags": []
   },
   "source": [
    "**Forum users, sorted by likes received**\n",
    "\n",
    "These are folks that posted things other people in the Community Forum liked."
   ]
  },
  {
   "cell_type": "code",
   "execution_count": 18,
   "metadata": {
    "papermill": {
     "duration": 0.348761,
     "end_time": "2019-08-20T16:17:17.306419",
     "exception": false,
     "start_time": "2019-08-20T16:17:16.957658",
     "status": "completed"
    },
    "tags": []
   },
   "outputs": [
    {
     "data": {
      "text/html": [
       "\n",
       "  <style>\n",
       "    .vega-actions a {\n",
       "        margin-right: 12px;\n",
       "        color: #757575;\n",
       "        font-weight: normal;\n",
       "        font-size: 13px;\n",
       "    }\n",
       "    .error {\n",
       "        color: red;\n",
       "    }\n",
       "  </style>\n",
       "  <div id=\"altair-viz-5\"></div>\n",
       "  <script>\n",
       "    requirejs.config({\n",
       "        \"paths\": {\n",
       "            \"vega\": \"https://cdn.jsdelivr.net/npm//vega@5?noext\",\n",
       "            \"vega-lib\": \"https://cdn.jsdelivr.net/npm//vega-lib?noext\",\n",
       "            \"vega-lite\": \"https://cdn.jsdelivr.net/npm//vega-lite@3.3.0?noext\",\n",
       "            \"vega-embed\": \"https://cdn.jsdelivr.net/npm//vega-embed@4?noext\",\n",
       "        }\n",
       "    });\n",
       "    require(['vega-embed'], function(vegaEmbed){\n",
       "      var spec = {\"config\": {\"axisLeft\": {\"labelFontSize\": 15}, \"axisBottom\": {\"labelFontSize\": 15}}, \"data\": {\"name\": \"data-602fa0e499669822303d4595703dc494\"}, \"mark\": \"bar\", \"encoding\": {\"x\": {\"type\": \"nominal\", \"field\": \"username\"}, \"y\": {\"type\": \"quantitative\", \"field\": \"likes_received\"}}, \"$schema\": \"https://vega.github.io/schema/vega-lite/v3.3.0.json\", \"datasets\": {\"data-602fa0e499669822303d4595703dc494\": [{\"id\": 6, \"likes_received\": 134, \"likes_given\": 227, \"topics_entered\": 329, \"topic_count\": 12, \"post_count\": 144, \"posts_read\": 1401, \"days_visited\": 88, \"user\": {\"id\": 6, \"username\": \"betatim\", \"name\": \"Tim Head\", \"avatar_template\": \"/user_avatar/discourse.jupyter.org/betatim/{size}/10_2.png\", \"title\": \"\"}, \"username\": \"betatim\"}, {\"id\": 3, \"likes_received\": 128, \"likes_given\": 195, \"topics_entered\": 221, \"topic_count\": 27, \"post_count\": 124, \"posts_read\": 888, \"days_visited\": 90, \"user\": {\"id\": 3, \"username\": \"choldgraf\", \"name\": \"Chris Holdgraf\", \"avatar_template\": \"/user_avatar/discourse.jupyter.org/choldgraf/{size}/12_2.png\", \"title\": \"Regular\"}, \"username\": \"choldgraf\"}, {\"id\": 8, \"likes_received\": 67, \"likes_given\": 12, \"topics_entered\": 129, \"topic_count\": 4, \"post_count\": 50, \"posts_read\": 652, \"days_visited\": 91, \"user\": {\"id\": 8, \"username\": \"minrk\", \"name\": \"Min RK\", \"avatar_template\": \"/user_avatar/discourse.jupyter.org/minrk/{size}/13_2.png\", \"title\": null}, \"username\": \"minrk\"}, {\"id\": 116, \"likes_received\": 61, \"likes_given\": 27, \"topics_entered\": 124, \"topic_count\": 4, \"post_count\": 38, \"posts_read\": 592, \"days_visited\": 87, \"user\": {\"id\": 116, \"username\": \"sgibson91\", \"name\": \"Sarah Gibson\", \"avatar_template\": \"/user_avatar/discourse.jupyter.org/sgibson91/{size}/487_2.png\", \"title\": \"\"}, \"username\": \"sgibson91\"}, {\"id\": 24, \"likes_received\": 44, \"likes_given\": 13, \"topics_entered\": 250, \"topic_count\": 5, \"post_count\": 53, \"posts_read\": 626, \"days_visited\": 58, \"user\": {\"id\": 24, \"username\": \"psychemedia\", \"name\": \"Tony Hirst\", \"avatar_template\": \"/user_avatar/discourse.jupyter.org/psychemedia/{size}/24_2.png\", \"title\": null}, \"username\": \"psychemedia\"}, {\"id\": 220, \"likes_received\": 36, \"likes_given\": 1, \"topics_entered\": 97, \"topic_count\": 1, \"post_count\": 50, \"posts_read\": 387, \"days_visited\": 33, \"user\": {\"id\": 220, \"username\": \"jasongrout\", \"name\": \"Jason Grout\", \"avatar_template\": \"/user_avatar/discourse.jupyter.org/jasongrout/{size}/371_2.png\", \"title\": null}, \"username\": \"jasongrout\"}, {\"id\": 12, \"likes_received\": 32, \"likes_given\": 5, \"topics_entered\": 92, \"topic_count\": 5, \"post_count\": 34, \"posts_read\": 463, \"days_visited\": 44, \"user\": {\"id\": 12, \"username\": \"yuvipanda\", \"name\": \"Yuvi Panda\", \"avatar_template\": \"/user_avatar/discourse.jupyter.org/yuvipanda/{size}/17_2.png\", \"title\": null}, \"username\": \"yuvipanda\"}, {\"id\": 234, \"likes_received\": 25, \"likes_given\": 7, \"topics_entered\": 12, \"topic_count\": 4, \"post_count\": 21, \"posts_read\": 99, \"days_visited\": 29, \"user\": {\"id\": 234, \"username\": \"fmaussion\", \"name\": \"Fabien Maussion\", \"avatar_template\": \"/user_avatar/discourse.jupyter.org/fmaussion/{size}/390_2.png\", \"title\": null}, \"username\": \"fmaussion\"}, {\"id\": 662, \"likes_received\": 22, \"likes_given\": 16, \"topics_entered\": 16, \"topic_count\": 0, \"post_count\": 7, \"posts_read\": 178, \"days_visited\": 34, \"user\": {\"id\": 662, \"username\": \"isabela-pf\", \"name\": \"\", \"avatar_template\": \"/user_avatar/discourse.jupyter.org/isabela-pf/{size}/863_2.png\", \"title\": \"\"}, \"username\": \"isabela-pf\"}, {\"id\": 30, \"likes_received\": 22, \"likes_given\": 82, \"topics_entered\": 50, \"topic_count\": 2, \"post_count\": 19, \"posts_read\": 344, \"days_visited\": 72, \"user\": {\"id\": 30, \"username\": \"consideRatio\", \"name\": \"Erik Sundell\", \"avatar_template\": \"/user_avatar/discourse.jupyter.org/consideratio/{size}/30_2.png\", \"title\": null}, \"username\": \"consideRatio\"}, {\"id\": 485, \"likes_received\": 20, \"likes_given\": 59, \"topics_entered\": 55, \"topic_count\": 1, \"post_count\": 21, \"posts_read\": 256, \"days_visited\": 38, \"user\": {\"id\": 485, \"username\": \"rolweber\", \"name\": \"Roland Weber\", \"avatar_template\": \"/user_avatar/discourse.jupyter.org/rolweber/{size}/657_2.png\", \"title\": null}, \"username\": \"rolweber\"}, {\"id\": 73, \"likes_received\": 20, \"likes_given\": 18, \"topics_entered\": 320, \"topic_count\": 3, \"post_count\": 29, \"posts_read\": 1471, \"days_visited\": 71, \"user\": {\"id\": 73, \"username\": \"manics\", \"name\": \"Simon\", \"avatar_template\": \"/user_avatar/discourse.jupyter.org/manics/{size}/85_2.png\", \"title\": null}, \"username\": \"manics\"}, {\"id\": 34, \"likes_received\": 18, \"likes_given\": 3, \"topics_entered\": 19, \"topic_count\": 3, \"post_count\": 10, \"posts_read\": 176, \"days_visited\": 28, \"user\": {\"id\": 34, \"username\": \"danielballan\", \"name\": \"Dan Allan\", \"avatar_template\": \"/user_avatar/discourse.jupyter.org/danielballan/{size}/34_2.png\", \"title\": null}, \"username\": \"danielballan\"}, {\"id\": 7, \"likes_received\": 18, \"likes_given\": 24, \"topics_entered\": 27, \"topic_count\": 0, \"post_count\": 9, \"posts_read\": 213, \"days_visited\": 22, \"user\": {\"id\": 7, \"username\": \"willingc\", \"name\": \"Carol Willing\", \"avatar_template\": \"/user_avatar/discourse.jupyter.org/willingc/{size}/11_2.png\", \"title\": null}, \"username\": \"willingc\"}, {\"id\": 99, \"likes_received\": 15, \"likes_given\": 41, \"topics_entered\": 90, \"topic_count\": 4, \"post_count\": 23, \"posts_read\": 504, \"days_visited\": 57, \"user\": {\"id\": 99, \"username\": \"Zsailer\", \"name\": \"Zachary Sailer\", \"avatar_template\": \"/user_avatar/discourse.jupyter.org/zsailer/{size}/106_2.png\", \"title\": null}, \"username\": \"Zsailer\"}, {\"id\": 222, \"likes_received\": 15, \"likes_given\": 6, \"topics_entered\": 16, \"topic_count\": 1, \"post_count\": 10, \"posts_read\": 143, \"days_visited\": 45, \"user\": {\"id\": 222, \"username\": \"tgeorgeux\", \"name\": \"Timothy George\", \"avatar_template\": \"https://avatars.discourse.org/v4/letter/t/f05b48/{size}.png\", \"title\": null}, \"username\": \"tgeorgeux\"}, {\"id\": 59, \"likes_received\": 15, \"likes_given\": 5, \"topics_entered\": 16, \"topic_count\": 1, \"post_count\": 13, \"posts_read\": 170, \"days_visited\": 38, \"user\": {\"id\": 59, \"username\": \"bitnik\", \"name\": \"Kenan Erdogan\", \"avatar_template\": \"/user_avatar/discourse.jupyter.org/bitnik/{size}/79_2.png\", \"title\": \"\"}, \"username\": \"bitnik\"}, {\"id\": 11, \"likes_received\": 14, \"likes_given\": 76, \"topics_entered\": 221, \"topic_count\": 1, \"post_count\": 22, \"posts_read\": 1066, \"days_visited\": 75, \"user\": {\"id\": 11, \"username\": \"fomightez\", \"name\": \"Wayne\", \"avatar_template\": \"/user_avatar/discourse.jupyter.org/fomightez/{size}/495_2.png\", \"title\": null}, \"username\": \"fomightez\"}, {\"id\": 268, \"likes_received\": 13, \"likes_given\": 5, \"topics_entered\": 18, \"topic_count\": 3, \"post_count\": 8, \"posts_read\": 101, \"days_visited\": 29, \"user\": {\"id\": 268, \"username\": \"afshin\", \"name\": \"A. T. Darian\", \"avatar_template\": \"/user_avatar/discourse.jupyter.org/afshin/{size}/314_2.png\", \"title\": null}, \"username\": \"afshin\"}, {\"id\": 771, \"likes_received\": 12, \"likes_given\": 2, \"topics_entered\": 3, \"topic_count\": 0, \"post_count\": 7, \"posts_read\": 68, \"days_visited\": 4, \"user\": {\"id\": 771, \"username\": \"sarasrking\", \"name\": \"Sara King\", \"avatar_template\": \"https://avatars.discourse.org/v4/letter/s/d78d45/{size}.png\", \"title\": null}, \"username\": \"sarasrking\"}, {\"id\": 77, \"likes_received\": 11, \"likes_given\": 10, \"topics_entered\": 154, \"topic_count\": 0, \"post_count\": 13, \"posts_read\": 790, \"days_visited\": 88, \"user\": {\"id\": 77, \"username\": \"jtp\", \"name\": \"Jeremy Tuloup\", \"avatar_template\": \"/user_avatar/discourse.jupyter.org/jtp/{size}/882_2.png\", \"title\": \"\"}, \"username\": \"jtp\"}, {\"id\": 679, \"likes_received\": 10, \"likes_given\": 1, \"topics_entered\": 25, \"topic_count\": 0, \"post_count\": 9, \"posts_read\": 127, \"days_visited\": 12, \"user\": {\"id\": 679, \"username\": \"bollwyvl\", \"name\": \"Nicholas Bollweg\", \"avatar_template\": \"/user_avatar/discourse.jupyter.org/bollwyvl/{size}/904_2.png\", \"title\": null}, \"username\": \"bollwyvl\"}, {\"id\": 217, \"likes_received\": 9, \"likes_given\": 27, \"topics_entered\": 31, \"topic_count\": 0, \"post_count\": 19, \"posts_read\": 164, \"days_visited\": 37, \"user\": {\"id\": 217, \"username\": \"kevin-bates\", \"name\": \"Kevin Bates\", \"avatar_template\": \"/user_avatar/discourse.jupyter.org/kevin-bates/{size}/234_2.png\", \"title\": null}, \"username\": \"kevin-bates\"}, {\"id\": 556, \"likes_received\": 8, \"likes_given\": 4, \"topics_entered\": 16, \"topic_count\": 1, \"post_count\": 9, \"posts_read\": 79, \"days_visited\": 13, \"user\": {\"id\": 556, \"username\": \"blink1073\", \"name\": \"Steven Silvester\", \"avatar_template\": \"/user_avatar/discourse.jupyter.org/blink1073/{size}/791_2.png\", \"title\": null}, \"username\": \"blink1073\"}, {\"id\": 60, \"likes_received\": 7, \"likes_given\": 6, \"topics_entered\": 32, \"topic_count\": 0, \"post_count\": 11, \"posts_read\": 262, \"days_visited\": 26, \"user\": {\"id\": 60, \"username\": \"fm75\", \"name\": \"Fred Mitchell\", \"avatar_template\": \"/user_avatar/discourse.jupyter.org/fm75/{size}/71_2.png\", \"title\": \"\"}, \"username\": \"fm75\"}, {\"id\": 9, \"likes_received\": 7, \"likes_given\": 0, \"topics_entered\": 10, \"topic_count\": 0, \"post_count\": 6, \"posts_read\": 36, \"days_visited\": 12, \"user\": {\"id\": 9, \"username\": \"ellisonbg\", \"name\": \"Brian Granger\", \"avatar_template\": \"/user_avatar/discourse.jupyter.org/ellisonbg/{size}/14_2.png\", \"title\": null}, \"username\": \"ellisonbg\"}, {\"id\": 510, \"likes_received\": 6, \"likes_given\": 0, \"topics_entered\": 4, \"topic_count\": 2, \"post_count\": 8, \"posts_read\": 10, \"days_visited\": 10, \"user\": {\"id\": 510, \"username\": \"lorankary\", \"name\": \"Lorankary\", \"avatar_template\": \"https://avatars.discourse.org/v4/letter/l/ac8455/{size}.png\", \"title\": null}, \"username\": \"lorankary\"}, {\"id\": 432, \"likes_received\": 5, \"likes_given\": 20, \"topics_entered\": 50, \"topic_count\": 1, \"post_count\": 9, \"posts_read\": 200, \"days_visited\": 31, \"user\": {\"id\": 432, \"username\": \"ondrejj\", \"name\": \"Ond\\u0159ej \", \"avatar_template\": \"/user_avatar/discourse.jupyter.org/ondrejj/{size}/567_2.png\", \"title\": null}, \"username\": \"ondrejj\"}, {\"id\": 660, \"likes_received\": 5, \"likes_given\": 18, \"topics_entered\": 10, \"topic_count\": 1, \"post_count\": 7, \"posts_read\": 177, \"days_visited\": 27, \"user\": {\"id\": 660, \"username\": \"javag97\", \"name\": \"Javier Garcia\", \"avatar_template\": \"/user_avatar/discourse.jupyter.org/javag97/{size}/881_2.png\", \"title\": null}, \"username\": \"javag97\"}, {\"id\": 372, \"likes_received\": 5, \"likes_given\": 5, \"topics_entered\": 12, \"topic_count\": 0, \"post_count\": 6, \"posts_read\": 88, \"days_visited\": 22, \"user\": {\"id\": 372, \"username\": \"davclark\", \"name\": \"Dav Clark\", \"avatar_template\": \"/user_avatar/discourse.jupyter.org/davclark/{size}/489_2.png\", \"title\": null}, \"username\": \"davclark\"}, {\"id\": 565, \"likes_received\": 5, \"likes_given\": 3, \"topics_entered\": 6, \"topic_count\": 0, \"post_count\": 6, \"posts_read\": 43, \"days_visited\": 7, \"user\": {\"id\": 565, \"username\": \"danielskatz\", \"name\": \"Daniel S. Katz\", \"avatar_template\": \"/user_avatar/discourse.jupyter.org/danielskatz/{size}/785_2.png\", \"title\": null}, \"username\": \"danielskatz\"}, {\"id\": 622, \"likes_received\": 4, \"likes_given\": 8, \"topics_entered\": 17, \"topic_count\": 1, \"post_count\": 5, \"posts_read\": 64, \"days_visited\": 19, \"user\": {\"id\": 622, \"username\": \"esevan\", \"name\": \"Eunsoo Park (Evan)\", \"avatar_template\": \"/user_avatar/discourse.jupyter.org/esevan/{size}/844_2.png\", \"title\": \"\"}, \"username\": \"esevan\"}, {\"id\": 71, \"likes_received\": 4, \"likes_given\": 1, \"topics_entered\": 15, \"topic_count\": 1, \"post_count\": 7, \"posts_read\": 143, \"days_visited\": 20, \"user\": {\"id\": 71, \"username\": \"nuest\", \"name\": \"Daniel N\\u00fcst\", \"avatar_template\": \"/user_avatar/discourse.jupyter.org/nuest/{size}/82_2.png\", \"title\": null}, \"username\": \"nuest\"}, {\"id\": 686, \"likes_received\": 3, \"likes_given\": 0, \"topics_entered\": 30, \"topic_count\": 3, \"post_count\": 8, \"posts_read\": 93, \"days_visited\": 11, \"user\": {\"id\": 686, \"username\": \"sqqqrly\", \"name\": \"DAVID OHLEMACHER\", \"avatar_template\": \"https://avatars.discourse.org/v4/letter/s/22d042/{size}.png\", \"title\": null}, \"username\": \"sqqqrly\"}, {\"id\": 674, \"likes_received\": 3, \"likes_given\": 4, \"topics_entered\": 42, \"topic_count\": 3, \"post_count\": 10, \"posts_read\": 267, \"days_visited\": 24, \"user\": {\"id\": 674, \"username\": \"celine168\", \"name\": \"Celine L\", \"avatar_template\": \"https://avatars.discourse.org/v4/letter/c/ec9cab/{size}.png\", \"title\": null}, \"username\": \"celine168\"}, {\"id\": 803, \"likes_received\": 2, \"likes_given\": 0, \"topics_entered\": 11, \"topic_count\": 1, \"post_count\": 6, \"posts_read\": 45, \"days_visited\": 4, \"user\": {\"id\": 803, \"username\": \"richcranney\", \"name\": \"\", \"avatar_template\": \"https://avatars.discourse.org/v4/letter/r/a698b9/{size}.png\", \"title\": null}, \"username\": \"richcranney\"}, {\"id\": 419, \"likes_received\": 2, \"likes_given\": 0, \"topics_entered\": 10, \"topic_count\": 4, \"post_count\": 7, \"posts_read\": 35, \"days_visited\": 22, \"user\": {\"id\": 419, \"username\": \"alvinhuff\", \"name\": \"Alvin Huff\", \"avatar_template\": \"/user_avatar/discourse.jupyter.org/alvinhuff/{size}/550_2.png\", \"title\": null}, \"username\": \"alvinhuff\"}, {\"id\": 566, \"likes_received\": 2, \"likes_given\": 0, \"topics_entered\": 12, \"topic_count\": 2, \"post_count\": 9, \"posts_read\": 34, \"days_visited\": 14, \"user\": {\"id\": 566, \"username\": \"Shreyas_Cholia\", \"name\": \"Shreyas Cholia\", \"avatar_template\": \"/user_avatar/discourse.jupyter.org/shreyas_cholia/{size}/784_2.png\", \"title\": null}, \"username\": \"Shreyas_Cholia\"}, {\"id\": 590, \"likes_received\": 2, \"likes_given\": 1, \"topics_entered\": 21, \"topic_count\": 3, \"post_count\": 7, \"posts_read\": 104, \"days_visited\": 21, \"user\": {\"id\": 590, \"username\": \"nscozzaro\", \"name\": \"Nicolas Scozzaro\", \"avatar_template\": \"/user_avatar/discourse.jupyter.org/nscozzaro/{size}/804_2.png\", \"title\": null}, \"username\": \"nscozzaro\"}, {\"id\": 227, \"likes_received\": 2, \"likes_given\": 8, \"topics_entered\": 29, \"topic_count\": 0, \"post_count\": 6, \"posts_read\": 179, \"days_visited\": 14, \"user\": {\"id\": 227, \"username\": \"sterlinm\", \"name\": \"Michael\", \"avatar_template\": \"/user_avatar/discourse.jupyter.org/sterlinm/{size}/241_2.png\", \"title\": null}, \"username\": \"sterlinm\"}, {\"id\": 601, \"likes_received\": 1, \"likes_given\": 0, \"topics_entered\": 39, \"topic_count\": 3, \"post_count\": 5, \"posts_read\": 111, \"days_visited\": 18, \"user\": {\"id\": 601, \"username\": \"parmentelat\", \"name\": \"Thierry Parmentelat\", \"avatar_template\": \"/user_avatar/discourse.jupyter.org/parmentelat/{size}/813_2.png\", \"title\": null}, \"username\": \"parmentelat\"}, {\"id\": 699, \"likes_received\": 1, \"likes_given\": 0, \"topics_entered\": 14, \"topic_count\": 5, \"post_count\": 5, \"posts_read\": 39, \"days_visited\": 6, \"user\": {\"id\": 699, \"username\": \"josh\", \"name\": null, \"avatar_template\": \"https://avatars.discourse.org/v4/letter/j/45deac/{size}.png\", \"title\": null}, \"username\": \"josh\"}, {\"id\": 254, \"likes_received\": 1, \"likes_given\": 3, \"topics_entered\": 6, \"topic_count\": 0, \"post_count\": 5, \"posts_read\": 58, \"days_visited\": 5, \"user\": {\"id\": 254, \"username\": \"mathematicalmichael\", \"name\": \"Michael Pilosov\", \"avatar_template\": \"/user_avatar/discourse.jupyter.org/mathematicalmichael/{size}/322_2.png\", \"title\": null}, \"username\": \"mathematicalmichael\"}, {\"id\": 642, \"likes_received\": 1, \"likes_given\": 0, \"topics_entered\": 30, \"topic_count\": 5, \"post_count\": 6, \"posts_read\": 129, \"days_visited\": 27, \"user\": {\"id\": 642, \"username\": \"ArlenePena\", \"name\": null, \"avatar_template\": \"https://avatars.discourse.org/v4/letter/a/34f0e0/{size}.png\", \"title\": null}, \"username\": \"ArlenePena\"}, {\"id\": 195, \"likes_received\": 1, \"likes_given\": 0, \"topics_entered\": 8, \"topic_count\": 0, \"post_count\": 6, \"posts_read\": 34, \"days_visited\": 10, \"user\": {\"id\": 195, \"username\": \"rcthomas\", \"name\": \"\", \"avatar_template\": \"/user_avatar/discourse.jupyter.org/rcthomas/{size}/201_2.png\", \"title\": null}, \"username\": \"rcthomas\"}, {\"id\": 303, \"likes_received\": 1, \"likes_given\": 7, \"topics_entered\": 62, \"topic_count\": 2, \"post_count\": 7, \"posts_read\": 262, \"days_visited\": 62, \"user\": {\"id\": 303, \"username\": \"ian-r-rose\", \"name\": \"Ian Rose\", \"avatar_template\": \"/user_avatar/discourse.jupyter.org/ian-r-rose/{size}/638_2.png\", \"title\": null}, \"username\": \"ian-r-rose\"}, {\"id\": 333, \"likes_received\": 1, \"likes_given\": 2, \"topics_entered\": 1, \"topic_count\": 0, \"post_count\": 7, \"posts_read\": 37, \"days_visited\": 21, \"user\": {\"id\": 333, \"username\": \"cmbui\", \"name\": \"Christina\", \"avatar_template\": \"/user_avatar/discourse.jupyter.org/cmbui/{size}/436_2.png\", \"title\": null}, \"username\": \"cmbui\"}, {\"id\": 562, \"likes_received\": 0, \"likes_given\": 0, \"topics_entered\": 4, \"topic_count\": 0, \"post_count\": 5, \"posts_read\": 25, \"days_visited\": 8, \"user\": {\"id\": 562, \"username\": \"Shane_Canon\", \"name\": \"Shane Canon\", \"avatar_template\": \"/user_avatar/discourse.jupyter.org/shane_canon/{size}/783_2.png\", \"title\": null}, \"username\": \"Shane_Canon\"}, {\"id\": 487, \"likes_received\": 0, \"likes_given\": 0, \"topics_entered\": 23, \"topic_count\": 4, \"post_count\": 7, \"posts_read\": 84, \"days_visited\": 14, \"user\": {\"id\": 487, \"username\": \"D4rkM4atter\", \"name\": \"\", \"avatar_template\": \"/user_avatar/discourse.jupyter.org/d4rkm4atter/{size}/663_2.png\", \"title\": null}, \"username\": \"D4rkM4atter\"}, {\"id\": 640, \"likes_received\": 0, \"likes_given\": 0, \"topics_entered\": 6, \"topic_count\": 1, \"post_count\": 6, \"posts_read\": 23, \"days_visited\": 7, \"user\": {\"id\": 640, \"username\": \"Stefano_Fioravanzo\", \"name\": \"Stefano Fioravanzo\", \"avatar_template\": \"/user_avatar/discourse.jupyter.org/stefano_fioravanzo/{size}/849_2.png\", \"title\": null}, \"username\": \"Stefano_Fioravanzo\"}]}};\n",
       "      var embedOpt = {\"mode\": \"vega-lite\"};\n",
       "\n",
       "      function showError(el, error){\n",
       "          el.innerHTML = ('<div class=\"error\" style=\"color:red;\">'\n",
       "                          + '<p>JavaScript Error: ' + error.message + '</p>'\n",
       "                          + \"<p>This usually means there's a typo in your chart specification. \"\n",
       "                          + \"See the javascript console for the full traceback.</p>\"\n",
       "                          + '</div>');\n",
       "          throw error;\n",
       "      }\n",
       "      const el = document.getElementById('altair-viz-5');\n",
       "      vegaEmbed(\"#altair-viz-5\", spec, embedOpt)\n",
       "        .catch(error => showError(el, error));\n",
       "    });\n",
       "\n",
       "  </script>"
      ],
      "text/plain": [
       "Chart({\n",
       "  data:      id  likes_received  likes_given  topics_entered  topic_count  post_count  \\\n",
       "  0     6             134          227             329           12         144   \n",
       "  1     3             128          195             221           27         124   \n",
       "  4     8              67           12             129            4          50   \n",
       "  5   116              61           27             124            4          38   \n",
       "  2    24              44           13             250            5          53   \n",
       "  3   220              36            1              97            1          50   \n",
       "  6    12              32            5              92            5          34   \n",
       "  11  234              25            7              12            4          21   \n",
       "  33  662              22           16              16            0           7   \n",
       "  13   30              22           82              50            2          19   \n",
       "  10  485              20           59              55            1          21   \n",
       "  7    73              20           18             320            3          29   \n",
       "  19   34              18            3              19            3          10   \n",
       "  24    7              18           24              27            0           9   \n",
       "  8    99              15           41              90            4          23   \n",
       "  17  222              15            6              16            1          10   \n",
       "  14   59              15            5              16            1          13   \n",
       "  9    11              14           76             221            1          22   \n",
       "  27  268              13            5              18            3           8   \n",
       "  30  771              12            2               3            0           7   \n",
       "  15   77              11           10             154            0          13   \n",
       "  22  679              10            1              25            0           9   \n",
       "  12  217               9           27              31            0          19   \n",
       "  21  556               8            4              16            1           9   \n",
       "  16   60               7            6              32            0          11   \n",
       "  43    9               7            0              10            0           6   \n",
       "  25  510               6            0               4            2           8   \n",
       "  23  432               5           20              50            1           9   \n",
       "  34  660               5           18              10            1           7   \n",
       "  44  372               5            5              12            0           6   \n",
       "  39  565               5            3               6            0           6   \n",
       "  47  622               4            8              17            1           5   \n",
       "  28   71               4            1              15            1           7   \n",
       "  26  686               3            0              30            3           8   \n",
       "  18  674               3            4              42            3          10   \n",
       "  42  803               2            0              11            1           6   \n",
       "  31  419               2            0              10            4           7   \n",
       "  20  566               2            0              12            2           9   \n",
       "  36  590               2            1              21            3           7   \n",
       "  41  227               2            8              29            0           6   \n",
       "  48  601               1            0              39            3           5   \n",
       "  46  699               1            0              14            5           5   \n",
       "  49  254               1            3               6            0           5   \n",
       "  40  642               1            0              30            5           6   \n",
       "  37  195               1            0               8            0           6   \n",
       "  35  303               1            7              62            2           7   \n",
       "  29  333               1            2               1            0           7   \n",
       "  45  562               0            0               4            0           5   \n",
       "  32  487               0            0              23            4           7   \n",
       "  38  640               0            0               6            1           6   \n",
       "  \n",
       "      posts_read  days_visited  \\\n",
       "  0         1401            88   \n",
       "  1          888            90   \n",
       "  4          652            91   \n",
       "  5          592            87   \n",
       "  2          626            58   \n",
       "  3          387            33   \n",
       "  6          463            44   \n",
       "  11          99            29   \n",
       "  33         178            34   \n",
       "  13         344            72   \n",
       "  10         256            38   \n",
       "  7         1471            71   \n",
       "  19         176            28   \n",
       "  24         213            22   \n",
       "  8          504            57   \n",
       "  17         143            45   \n",
       "  14         170            38   \n",
       "  9         1066            75   \n",
       "  27         101            29   \n",
       "  30          68             4   \n",
       "  15         790            88   \n",
       "  22         127            12   \n",
       "  12         164            37   \n",
       "  21          79            13   \n",
       "  16         262            26   \n",
       "  43          36            12   \n",
       "  25          10            10   \n",
       "  23         200            31   \n",
       "  34         177            27   \n",
       "  44          88            22   \n",
       "  39          43             7   \n",
       "  47          64            19   \n",
       "  28         143            20   \n",
       "  26          93            11   \n",
       "  18         267            24   \n",
       "  42          45             4   \n",
       "  31          35            22   \n",
       "  20          34            14   \n",
       "  36         104            21   \n",
       "  41         179            14   \n",
       "  48         111            18   \n",
       "  46          39             6   \n",
       "  49          58             5   \n",
       "  40         129            27   \n",
       "  37          34            10   \n",
       "  35         262            62   \n",
       "  29          37            21   \n",
       "  45          25             8   \n",
       "  32          84            14   \n",
       "  38          23             7   \n",
       "  \n",
       "                                                   user             username  \n",
       "  0   {'id': 6, 'username': 'betatim', 'name': 'Tim ...              betatim  \n",
       "  1   {'id': 3, 'username': 'choldgraf', 'name': 'Ch...            choldgraf  \n",
       "  4   {'id': 8, 'username': 'minrk', 'name': 'Min RK...                minrk  \n",
       "  5   {'id': 116, 'username': 'sgibson91', 'name': '...            sgibson91  \n",
       "  2   {'id': 24, 'username': 'psychemedia', 'name': ...          psychemedia  \n",
       "  3   {'id': 220, 'username': 'jasongrout', 'name': ...           jasongrout  \n",
       "  6   {'id': 12, 'username': 'yuvipanda', 'name': 'Y...            yuvipanda  \n",
       "  11  {'id': 234, 'username': 'fmaussion', 'name': '...            fmaussion  \n",
       "  33  {'id': 662, 'username': 'isabela-pf', 'name': ...           isabela-pf  \n",
       "  13  {'id': 30, 'username': 'consideRatio', 'name':...         consideRatio  \n",
       "  10  {'id': 485, 'username': 'rolweber', 'name': 'R...             rolweber  \n",
       "  7   {'id': 73, 'username': 'manics', 'name': 'Simo...               manics  \n",
       "  19  {'id': 34, 'username': 'danielballan', 'name':...         danielballan  \n",
       "  24  {'id': 7, 'username': 'willingc', 'name': 'Car...             willingc  \n",
       "  8   {'id': 99, 'username': 'Zsailer', 'name': 'Zac...              Zsailer  \n",
       "  17  {'id': 222, 'username': 'tgeorgeux', 'name': '...            tgeorgeux  \n",
       "  14  {'id': 59, 'username': 'bitnik', 'name': 'Kena...               bitnik  \n",
       "  9   {'id': 11, 'username': 'fomightez', 'name': 'W...            fomightez  \n",
       "  27  {'id': 268, 'username': 'afshin', 'name': 'A. ...               afshin  \n",
       "  30  {'id': 771, 'username': 'sarasrking', 'name': ...           sarasrking  \n",
       "  15  {'id': 77, 'username': 'jtp', 'name': 'Jeremy ...                  jtp  \n",
       "  22  {'id': 679, 'username': 'bollwyvl', 'name': 'N...             bollwyvl  \n",
       "  12  {'id': 217, 'username': 'kevin-bates', 'name':...          kevin-bates  \n",
       "  21  {'id': 556, 'username': 'blink1073', 'name': '...            blink1073  \n",
       "  16  {'id': 60, 'username': 'fm75', 'name': 'Fred M...                 fm75  \n",
       "  43  {'id': 9, 'username': 'ellisonbg', 'name': 'Br...            ellisonbg  \n",
       "  25  {'id': 510, 'username': 'lorankary', 'name': '...            lorankary  \n",
       "  23  {'id': 432, 'username': 'ondrejj', 'name': 'On...              ondrejj  \n",
       "  34  {'id': 660, 'username': 'javag97', 'name': 'Ja...              javag97  \n",
       "  44  {'id': 372, 'username': 'davclark', 'name': 'D...             davclark  \n",
       "  39  {'id': 565, 'username': 'danielskatz', 'name':...          danielskatz  \n",
       "  47  {'id': 622, 'username': 'esevan', 'name': 'Eun...               esevan  \n",
       "  28  {'id': 71, 'username': 'nuest', 'name': 'Danie...                nuest  \n",
       "  26  {'id': 686, 'username': 'sqqqrly', 'name': 'DA...              sqqqrly  \n",
       "  18  {'id': 674, 'username': 'celine168', 'name': '...            celine168  \n",
       "  42  {'id': 803, 'username': 'richcranney', 'name':...          richcranney  \n",
       "  31  {'id': 419, 'username': 'alvinhuff', 'name': '...            alvinhuff  \n",
       "  20  {'id': 566, 'username': 'Shreyas_Cholia', 'nam...       Shreyas_Cholia  \n",
       "  36  {'id': 590, 'username': 'nscozzaro', 'name': '...            nscozzaro  \n",
       "  41  {'id': 227, 'username': 'sterlinm', 'name': 'M...             sterlinm  \n",
       "  48  {'id': 601, 'username': 'parmentelat', 'name':...          parmentelat  \n",
       "  46  {'id': 699, 'username': 'josh', 'name': None, ...                 josh  \n",
       "  49  {'id': 254, 'username': 'mathematicalmichael',...  mathematicalmichael  \n",
       "  40  {'id': 642, 'username': 'ArlenePena', 'name': ...           ArlenePena  \n",
       "  37  {'id': 195, 'username': 'rcthomas', 'name': ''...             rcthomas  \n",
       "  35  {'id': 303, 'username': 'ian-r-rose', 'name': ...           ian-r-rose  \n",
       "  29  {'id': 333, 'username': 'cmbui', 'name': 'Chri...                cmbui  \n",
       "  45  {'id': 562, 'username': 'Shane_Canon', 'name':...          Shane_Canon  \n",
       "  32  {'id': 487, 'username': 'D4rkM4atter', 'name':...          D4rkM4atter  \n",
       "  38  {'id': 640, 'username': 'Stefano_Fioravanzo', ...   Stefano_Fioravanzo  ,\n",
       "  encoding: FacetedEncoding({\n",
       "    x: X({\n",
       "      field: 'username',\n",
       "      type: 'nominal'\n",
       "    }),\n",
       "    y: Y({\n",
       "      field: 'likes_received',\n",
       "      type: 'quantitative'\n",
       "    })\n",
       "  }),\n",
       "  mark: 'bar'\n",
       "})"
      ]
     },
     "execution_count": 18,
     "metadata": {},
     "output_type": "execute_result"
    }
   ],
   "source": [
    "plot_user_data(users.head(50), 'likes_received')"
   ]
  },
  {
   "cell_type": "code",
   "execution_count": 19,
   "metadata": {
    "papermill": {
     "duration": 0.072335,
     "end_time": "2019-08-20T16:17:17.448602",
     "exception": false,
     "start_time": "2019-08-20T16:17:17.376267",
     "status": "completed"
    },
    "tags": []
   },
   "outputs": [
    {
     "data": {
      "text/html": [
       "<script src=\"https://cdn.rawgit.com/parente/4c3e6936d0d7a46fd071/raw/65b816fb9bdd3c28b4ddf3af602bfd6015486383/code_toggle.js\"></script>"
      ],
      "text/plain": [
       "<IPython.core.display.HTML object>"
      ]
     },
     "metadata": {},
     "output_type": "display_data"
    }
   ],
   "source": [
    "%%html\n",
    "<script src=\"https://cdn.rawgit.com/parente/4c3e6936d0d7a46fd071/raw/65b816fb9bdd3c28b4ddf3af602bfd6015486383/code_toggle.js\"></script>"
   ]
  }
 ],
 "metadata": {
  "kernelspec": {
   "display_name": "Python 3",
   "language": "python",
   "name": "python3"
  },
  "language_info": {
   "codemirror_mode": {
    "name": "ipython",
    "version": 3
   },
   "file_extension": ".py",
   "mimetype": "text/x-python",
   "name": "python",
   "nbconvert_exporter": "python",
   "pygments_lexer": "ipython3",
   "version": "3.7.3"
  },
  "papermill": {
   "duration": 20.343544,
   "end_time": "2019-08-20T16:17:18.133141",
   "environment_variables": {},
   "exception": null,
   "input_path": "./discourse.ipynb",
   "output_path": "../reports/2019-06-01_2019-07-01/discourse.ipynb",
   "parameters": {
    "end_date": "2019-07-01",
    "renderer": "kaggle",
    "start_date": "2019-06-01"
   },
   "start_time": "2019-08-20T16:16:57.789597",
   "version": "1.0.1"
  },
  "widgets": {
   "application/vnd.jupyter.widget-state+json": {
    "state": {},
    "version_major": 2,
    "version_minor": 0
   }
  }
 },
 "nbformat": 4,
 "nbformat_minor": 4
}