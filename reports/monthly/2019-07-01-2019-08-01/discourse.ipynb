{
 "cells": [
  {
   "cell_type": "code",
   "execution_count": 1,
   "metadata": {
    "papermill": {
     "duration": 1.198426,
     "end_time": "2019-10-23T04:54:32.763848",
     "exception": false,
     "start_time": "2019-10-23T04:54:31.565422",
     "status": "completed"
    },
    "tags": [
     "hide_input"
    ]
   },
   "outputs": [],
   "source": [
    "import requests\n",
    "from IPython.display import Markdown\n",
    "from tqdm import tqdm, tqdm_notebook\n",
    "import pandas as pd\n",
    "from matplotlib import pyplot as plt\n",
    "import numpy as np\n",
    "import altair as alt\n",
    "from requests.utils import quote\n",
    "import os\n",
    "from datetime import timedelta\n",
    "from mod import alt_theme"
   ]
  },
  {
   "cell_type": "code",
   "execution_count": 2,
   "metadata": {
    "papermill": {
     "duration": 0.032843,
     "end_time": "2019-10-23T04:54:32.813807",
     "exception": false,
     "start_time": "2019-10-23T04:54:32.780964",
     "status": "completed"
    },
    "tags": [
     "parameters",
     "hide_input"
    ]
   },
   "outputs": [],
   "source": [
    "fmt = \"{:%Y-%m-%d}\"\n",
    "\n",
    "# Can optionally use number of days to choose dates\n",
    "n_days = 60\n",
    "end_date = fmt.format(pd.datetime.today())\n",
    "start_date = fmt.format(pd.datetime.today() - timedelta(days=n_days))\n",
    "\n",
    "renderer = \"kaggle\"\n",
    "github_orgs = [\"jupyterhub\", \"jupyter\", \"jupyterlab\", \"jupyter-widgets\", \"ipython\", \"binder-examples\", \"nteract\"]\n",
    "bot_names = [\"stale\", \"codecov\", \"jupyterlab-dev-mode\", \"henchbot\"]"
   ]
  },
  {
   "cell_type": "code",
   "execution_count": 3,
   "metadata": {
    "papermill": {
     "duration": 0.025527,
     "end_time": "2019-10-23T04:54:32.858335",
     "exception": false,
     "start_time": "2019-10-23T04:54:32.832808",
     "status": "completed"
    },
    "tags": [
     "injected-parameters"
    ]
   },
   "outputs": [],
   "source": [
    "# Parameters\n",
    "renderer = \"kaggle\"\n",
    "github_orgs = [\"jupyterhub\", \"jupyter\", \"jupyterlab\", \"jupyter-widgets\", \"ipython\", \"binder-examples\"]\n",
    "start_date = \"2019-07-01\"\n",
    "end_date = \"2019-08-01\"\n"
   ]
  },
  {
   "cell_type": "code",
   "execution_count": 4,
   "metadata": {
    "papermill": {
     "duration": 0.034087,
     "end_time": "2019-10-23T04:54:32.918873",
     "exception": false,
     "start_time": "2019-10-23T04:54:32.884786",
     "status": "completed"
    },
    "tags": []
   },
   "outputs": [
    {
     "data": {
      "text/plain": [
       "ThemeRegistry.enable('my_theme')"
      ]
     },
     "execution_count": 4,
     "metadata": {},
     "output_type": "execute_result"
    }
   ],
   "source": [
    "alt.renderers.enable(renderer);\n",
    "alt.themes.register('my_theme', alt_theme)\n",
    "alt.themes.enable(\"my_theme\")"
   ]
  },
  {
   "cell_type": "code",
   "execution_count": 5,
   "metadata": {
    "papermill": {
     "duration": 0.026614,
     "end_time": "2019-10-23T04:54:32.964895",
     "exception": false,
     "start_time": "2019-10-23T04:54:32.938281",
     "status": "completed"
    },
    "tags": [
     "hide_input"
    ]
   },
   "outputs": [],
   "source": [
    "# Discourse API key\n",
    "api = {'Api-Key': os.environ['DISCOURSE_API_KEY'],\n",
    "       'Api-Username': os.environ['DISCOURSE_API_USERNAME']}"
   ]
  },
  {
   "cell_type": "code",
   "execution_count": 6,
   "metadata": {
    "papermill": {
     "duration": 0.033365,
     "end_time": "2019-10-23T04:54:33.014477",
     "exception": false,
     "start_time": "2019-10-23T04:54:32.981112",
     "status": "completed"
    },
    "tags": [
     "hide_input"
    ]
   },
   "outputs": [],
   "source": [
    "# Discourse\n",
    "def topics_to_markdown(topics, n_list=10):\n",
    "    body = []\n",
    "    for _, topic in topics.iterrows():\n",
    "        title = topic['fancy_title']\n",
    "        slug = topic['slug']\n",
    "        posts_count = topic['posts_count']\n",
    "        url = f'https://discourse.jupyter.org/t/{slug}'\n",
    "        body.append(f'* [{title}]({url}) ({posts_count} posts)')\n",
    "    body = body[:n_list]\n",
    "    return '\\n'.join(body)\n",
    "\n",
    "def counts_from_activity(activity):\n",
    "    counts = activity.groupby('category_id').count()['bookmarked'].reset_index()\n",
    "    counts['parent_category'] = None\n",
    "    for ii, irow in counts.iterrows():\n",
    "        if parent_categories[irow['category_id']] is not None:\n",
    "            counts.loc[ii, 'parent_category'] = parent_categories[irow['category_id']]\n",
    "\n",
    "    counts['category_id'] = counts['category_id'].map(lambda a: category_mapping[a])\n",
    "    counts['parent_category'] = counts['parent_category'].map(lambda a: category_mapping[a] if a is not None else 'parent')\n",
    "    is_parent = counts['parent_category'] == 'parent'\n",
    "    counts.loc[is_parent, 'parent_category'] = counts.loc[is_parent, 'category_id'] \n",
    "    counts['parent/category'] = counts.apply(lambda a: a['parent_category']+'/'+a['category_id'], axis=1)\n",
    "    counts = counts.sort_values(['parent_category', 'bookmarked'], ascending=False)\n",
    "    return counts"
   ]
  },
  {
   "cell_type": "markdown",
   "metadata": {
    "papermill": {
     "duration": 0.020911,
     "end_time": "2019-10-23T04:54:33.059327",
     "exception": false,
     "start_time": "2019-10-23T04:54:33.038416",
     "status": "completed"
    },
    "tags": []
   },
   "source": [
    "# Community forum activity\n",
    "\n",
    "The [Jupyter Community Forum](https://discourse.jupyter.org) is a place for Jovyans across the\n",
    "community to talk about Jupyter tools in interactive computing and how they fit into their\n",
    "workflows. It's also a place for developers to share ideas, tools, tips, and help one another.\n",
    "\n",
    "Below are a few updates from activity in the Discourse. For more detailed information about\n",
    "the activity on the Community Forum, check out these links:\n",
    "\n",
    "* [The users page](https://discourse.jupyter.org/u) has information about user activity\n",
    "* [The top posts page](https://discourse.jupyter.org/top) contains a list of top posts, sorted\n",
    "  by various metrics."
   ]
  },
  {
   "cell_type": "code",
   "execution_count": 7,
   "metadata": {
    "papermill": {
     "duration": 0.122185,
     "end_time": "2019-10-23T04:54:33.199737",
     "exception": false,
     "start_time": "2019-10-23T04:54:33.077552",
     "status": "completed"
    },
    "tags": [
     "hide_input"
    ]
   },
   "outputs": [],
   "source": [
    "# Get categories for IDs\n",
    "url = \"https://discourse.jupyter.org/site.json\"\n",
    "resp = requests.get(url, headers=api)\n",
    "category_mapping = {cat['id']: cat['name'] for cat in resp.json()['categories']}\n",
    "parent_categories = {cat['id']: cat.get(\"parent_category_id\", None) for cat in resp.json()['categories']}"
   ]
  },
  {
   "cell_type": "code",
   "execution_count": 8,
   "metadata": {
    "papermill": {
     "duration": 0.026661,
     "end_time": "2019-10-23T04:54:33.241886",
     "exception": false,
     "start_time": "2019-10-23T04:54:33.215225",
     "status": "completed"
    },
    "tags": [
     "hide_input"
    ]
   },
   "outputs": [],
   "source": [
    "# Base URL to use\n",
    "url = \"https://discourse.jupyter.org/latest.json\""
   ]
  },
  {
   "cell_type": "markdown",
   "metadata": {
    "papermill": {
     "duration": 0.020442,
     "end_time": "2019-10-23T04:54:33.281392",
     "exception": false,
     "start_time": "2019-10-23T04:54:33.260950",
     "status": "completed"
    },
    "tags": []
   },
   "source": [
    "## Topics with lots of likes\n",
    "\n",
    "\"Likes\" are a way for community members to say thanks for a helpful post, show their\n",
    "support for an idea, or generally to share a little positivity with somebody else.\n",
    "These are topics that have generated lots of likes in recent history."
   ]
  },
  {
   "cell_type": "code",
   "execution_count": 9,
   "metadata": {
    "papermill": {
     "duration": 0.156137,
     "end_time": "2019-10-23T04:54:33.456556",
     "exception": false,
     "start_time": "2019-10-23T04:54:33.300419",
     "status": "completed"
    },
    "tags": [
     "hide_input"
    ]
   },
   "outputs": [
    {
     "data": {
      "text/markdown": [
       "* [Introduce yourself!](https://discourse.jupyter.org/t/introduce-yourself) (117 posts)\n",
       "* [{WIP} Re-Design of Jupyter.org Website](https://discourse.jupyter.org/t/wip-re-design-of-jupyter-org-website) (68 posts)\n",
       "* [JupyterHub, Binder workshop in Oslo, Sept. 5-8](https://discourse.jupyter.org/t/jupyterhub-binder-workshop-in-oslo-sept-5-8) (49 posts)\n",
       "* [Microsoft Word Integration (Intern Project)](https://discourse.jupyter.org/t/microsoft-word-integration-intern-project) (25 posts)\n",
       "* [Jupyter Community Calls](https://discourse.jupyter.org/t/jupyter-community-calls) (39 posts)\n",
       "* [What&rsquo;s an alternative to the word &ldquo;Fellow&rdquo; or &ldquo;Fellowship&rdquo;?](https://discourse.jupyter.org/t/whats-an-alternative-to-the-word-fellow-or-fellowship) (16 posts)\n",
       "* [Help us choose an updated &ldquo;Launch Binder&rdquo; badge!](https://discourse.jupyter.org/t/help-us-choose-an-updated-launch-binder-badge) (21 posts)\n",
       "* [The Binder Federation](https://discourse.jupyter.org/t/the-binder-federation) (14 posts)\n",
       "* [PyCon 2019 and mybinder.org](https://discourse.jupyter.org/t/pycon-2019-and-mybinder-org) (17 posts)\n",
       "* [Governance Office Hours Meeting Minutes](https://discourse.jupyter.org/t/governance-office-hours-meeting-minutes) (25 posts)"
      ],
      "text/plain": [
       "<IPython.core.display.Markdown object>"
      ]
     },
     "execution_count": 9,
     "metadata": {},
     "output_type": "execute_result"
    }
   ],
   "source": [
    "params = {\"order\": \"likes\", \"ascending\": \"False\"}\n",
    "resp = requests.get(url, headers=api, params=params)\n",
    "\n",
    "# Topics with the most likes in recent history\n",
    "liked = pd.DataFrame(resp.json()['topic_list']['topics'])\n",
    "Markdown(topics_to_markdown(liked))"
   ]
  },
  {
   "cell_type": "markdown",
   "metadata": {
    "papermill": {
     "duration": 0.016955,
     "end_time": "2019-10-23T04:54:33.489748",
     "exception": false,
     "start_time": "2019-10-23T04:54:33.472793",
     "status": "completed"
    },
    "tags": []
   },
   "source": [
    "## Active topics on the Community Forum\n",
    "\n",
    "These are topics with lots of activity in recent history."
   ]
  },
  {
   "cell_type": "code",
   "execution_count": 10,
   "metadata": {
    "papermill": {
     "duration": 0.172154,
     "end_time": "2019-10-23T04:54:33.682279",
     "exception": false,
     "start_time": "2019-10-23T04:54:33.510125",
     "status": "completed"
    },
    "tags": [
     "hide_input"
    ]
   },
   "outputs": [
    {
     "data": {
      "text/markdown": [
       "* [Introduce yourself!](https://discourse.jupyter.org/t/introduce-yourself) (117 posts)\n",
       "* [{WIP} Re-Design of Jupyter.org Website](https://discourse.jupyter.org/t/wip-re-design-of-jupyter-org-website) (68 posts)\n",
       "* [Tip: embed custom github content in a Binder link with nbgitpuller](https://discourse.jupyter.org/t/tip-embed-custom-github-content-in-a-binder-link-with-nbgitpuller) (52 posts)\n",
       "* [JupyterHub, Binder workshop in Oslo, Sept. 5-8](https://discourse.jupyter.org/t/jupyterhub-binder-workshop-in-oslo-sept-5-8) (49 posts)\n",
       "* [Jupyter Community Calls](https://discourse.jupyter.org/t/jupyter-community-calls) (39 posts)\n",
       "* [Would a &ldquo;The Littlest Binder&rdquo; be useful?](https://discourse.jupyter.org/t/would-a-the-littlest-binder-be-useful) (31 posts)\n",
       "* [Plugins of considerations](https://discourse.jupyter.org/t/plugins-of-considerations) (28 posts)\n",
       "* [Is there a free (even ad-supported) public JupyterHub available?](https://discourse.jupyter.org/t/is-there-a-free-even-ad-supported-public-jupyterhub-available) (26 posts)\n",
       "* [A proposal for JupyterHub communications](https://discourse.jupyter.org/t/a-proposal-for-jupyterhub-communications) (26 posts)\n",
       "* [Governance Office Hours Meeting Minutes](https://discourse.jupyter.org/t/governance-office-hours-meeting-minutes) (25 posts)"
      ],
      "text/plain": [
       "<IPython.core.display.Markdown object>"
      ]
     },
     "execution_count": 10,
     "metadata": {},
     "output_type": "execute_result"
    }
   ],
   "source": [
    "params = {\"order\": \"posts\", \"ascending\": \"False\"}\n",
    "resp = requests.get(url, headers=api, params=params)\n",
    "\n",
    "# Topics with the most posts in recent history\n",
    "posts = pd.DataFrame(resp.json()['topic_list']['topics'])\n",
    "Markdown(topics_to_markdown(posts))"
   ]
  },
  {
   "cell_type": "code",
   "execution_count": 11,
   "metadata": {
    "papermill": {
     "duration": 0.090959,
     "end_time": "2019-10-23T04:54:33.791723",
     "exception": false,
     "start_time": "2019-10-23T04:54:33.700764",
     "status": "completed"
    },
    "tags": [
     "hide_input"
    ]
   },
   "outputs": [
    {
     "data": {
      "text/html": [
       "\n",
       "  <style>\n",
       "    .vega-actions a {\n",
       "        margin-right: 12px;\n",
       "        color: #757575;\n",
       "        font-weight: normal;\n",
       "        font-size: 13px;\n",
       "    }\n",
       "    .error {\n",
       "        color: red;\n",
       "    }\n",
       "  </style>\n",
       "  <div id=\"altair-viz-1\"></div>\n",
       "  <script>\n",
       "    requirejs.config({\n",
       "        \"paths\": {\n",
       "            \"vega\": \"https://cdn.jsdelivr.net/npm//vega@5?noext\",\n",
       "            \"vega-lib\": \"https://cdn.jsdelivr.net/npm//vega-lib?noext\",\n",
       "            \"vega-lite\": \"https://cdn.jsdelivr.net/npm//vega-lite@3.3.0?noext\",\n",
       "            \"vega-embed\": \"https://cdn.jsdelivr.net/npm//vega-embed@4?noext\",\n",
       "        }\n",
       "    });\n",
       "    require(['vega-embed'], function(vegaEmbed){\n",
       "      var spec = {\"config\": {\"axisLeft\": {\"labelFontSize\": 15}, \"axisBottom\": {\"labelFontSize\": 15}}, \"data\": {\"name\": \"data-4d9f8a7ddef9b2af505999a09d38aec9\"}, \"mark\": \"bar\", \"encoding\": {\"color\": {\"type\": \"nominal\", \"field\": \"parent_category\"}, \"x\": {\"type\": \"nominal\", \"field\": \"parent/category\", \"sort\": [\"accessibility\", \"Admin requests\", \"Q&A\", \"nbconvert\", \"Meta\", \"announcements\", \"JupyterLab\", \"discuss\", \"JupyterHub\", \"Zero to JupyterHub on Kubernetes\", \"Governance\", \"Enterprise Gateway\", \"Community Chat\", \"discuss\", \"Binder\", \"BinderHub\"]}, \"y\": {\"type\": \"quantitative\", \"field\": \"bookmarked\"}}, \"height\": 300, \"title\": \"Activity by category\", \"width\": 700, \"$schema\": \"https://vega.github.io/schema/vega-lite/v3.3.0.json\", \"datasets\": {\"data-4d9f8a7ddef9b2af505999a09d38aec9\": [{\"category_id\": \"accessibility\", \"bookmarked\": 1, \"parent_category\": \"Special Topics\", \"parent/category\": \"Special Topics/accessibility\"}, {\"category_id\": \"Admin requests\", \"bookmarked\": 1, \"parent_category\": \"Site Feedback\", \"parent/category\": \"Site Feedback/Admin requests\"}, {\"category_id\": \"Q&A\", \"bookmarked\": 1, \"parent_category\": \"Q&A\", \"parent/category\": \"Q&A/Q&A\"}, {\"category_id\": \"nbconvert\", \"bookmarked\": 1, \"parent_category\": \"Notebook\", \"parent/category\": \"Notebook/nbconvert\"}, {\"category_id\": \"Meta\", \"bookmarked\": 3, \"parent_category\": \"Meta\", \"parent/category\": \"Meta/Meta\"}, {\"category_id\": \"announcements\", \"bookmarked\": 1, \"parent_category\": \"Meta\", \"parent/category\": \"Meta/announcements\"}, {\"category_id\": \"JupyterLab\", \"bookmarked\": 2, \"parent_category\": \"JupyterLab\", \"parent/category\": \"JupyterLab/JupyterLab\"}, {\"category_id\": \"discuss\", \"bookmarked\": 3, \"parent_category\": \"JupyterHub\", \"parent/category\": \"JupyterHub/discuss\"}, {\"category_id\": \"JupyterHub\", \"bookmarked\": 2, \"parent_category\": \"JupyterHub\", \"parent/category\": \"JupyterHub/JupyterHub\"}, {\"category_id\": \"Zero to JupyterHub on Kubernetes\", \"bookmarked\": 1, \"parent_category\": \"JupyterHub\", \"parent/category\": \"JupyterHub/Zero to JupyterHub on Kubernetes\"}, {\"category_id\": \"Governance\", \"bookmarked\": 1, \"parent_category\": \"Governance\", \"parent/category\": \"Governance/Governance\"}, {\"category_id\": \"Enterprise Gateway\", \"bookmarked\": 2, \"parent_category\": \"Enterprise Gateway\", \"parent/category\": \"Enterprise Gateway/Enterprise Gateway\"}, {\"category_id\": \"Community Chat\", \"bookmarked\": 3, \"parent_category\": \"Community Chat\", \"parent/category\": \"Community Chat/Community Chat\"}, {\"category_id\": \"discuss\", \"bookmarked\": 4, \"parent_category\": \"Binder\", \"parent/category\": \"Binder/discuss\"}, {\"category_id\": \"Binder\", \"bookmarked\": 3, \"parent_category\": \"Binder\", \"parent/category\": \"Binder/Binder\"}, {\"category_id\": \"BinderHub\", \"bookmarked\": 1, \"parent_category\": \"Binder\", \"parent/category\": \"Binder/BinderHub\"}]}};\n",
       "      var embedOpt = {\"mode\": \"vega-lite\"};\n",
       "\n",
       "      function showError(el, error){\n",
       "          el.innerHTML = ('<div class=\"error\" style=\"color:red;\">'\n",
       "                          + '<p>JavaScript Error: ' + error.message + '</p>'\n",
       "                          + \"<p>This usually means there's a typo in your chart specification. \"\n",
       "                          + \"See the javascript console for the full traceback.</p>\"\n",
       "                          + '</div>');\n",
       "          throw error;\n",
       "      }\n",
       "      const el = document.getElementById('altair-viz-1');\n",
       "      vegaEmbed(\"#altair-viz-1\", spec, embedOpt)\n",
       "        .catch(error => showError(el, error));\n",
       "    });\n",
       "\n",
       "  </script>"
      ],
      "text/plain": [
       "Chart({\n",
       "  data:                          category_id  bookmarked     parent_category  \\\n",
       "  14                     accessibility           1      Special Topics   \n",
       "  12                    Admin requests           1       Site Feedback   \n",
       "  10                               Q&A           1                 Q&A   \n",
       "  15                         nbconvert           1            Notebook   \n",
       "  1                               Meta           3                Meta   \n",
       "  2                      announcements           1                Meta   \n",
       "  9                         JupyterLab           2          JupyterLab   \n",
       "  7                            discuss           3          JupyterHub   \n",
       "  3                         JupyterHub           2          JupyterHub   \n",
       "  0   Zero to JupyterHub on Kubernetes           1          JupyterHub   \n",
       "  13                        Governance           1          Governance   \n",
       "  11                Enterprise Gateway           2  Enterprise Gateway   \n",
       "  4                     Community Chat           3      Community Chat   \n",
       "  8                            discuss           4              Binder   \n",
       "  5                             Binder           3              Binder   \n",
       "  6                          BinderHub           1              Binder   \n",
       "  \n",
       "                                  parent/category  \n",
       "  14                 Special Topics/accessibility  \n",
       "  12                 Site Feedback/Admin requests  \n",
       "  10                                      Q&A/Q&A  \n",
       "  15                           Notebook/nbconvert  \n",
       "  1                                     Meta/Meta  \n",
       "  2                            Meta/announcements  \n",
       "  9                         JupyterLab/JupyterLab  \n",
       "  7                            JupyterHub/discuss  \n",
       "  3                         JupyterHub/JupyterHub  \n",
       "  0   JupyterHub/Zero to JupyterHub on Kubernetes  \n",
       "  13                        Governance/Governance  \n",
       "  11        Enterprise Gateway/Enterprise Gateway  \n",
       "  4                 Community Chat/Community Chat  \n",
       "  8                                Binder/discuss  \n",
       "  5                                 Binder/Binder  \n",
       "  6                              Binder/BinderHub  ,\n",
       "  encoding: FacetedEncoding({\n",
       "    color: Color({\n",
       "      field: 'parent_category',\n",
       "      type: 'nominal'\n",
       "    }),\n",
       "    x: X({\n",
       "      field: 'parent/category',\n",
       "      sort: Sort(['accessibility', 'Admin requests', 'Q&A', 'nbconvert', 'Meta', 'announcements', 'JupyterLab', 'discuss', 'JupyterHub', 'Zero to JupyterHub on Kubernetes', 'Governance', 'Enterprise Gateway', 'Community Chat', 'discuss', 'Binder', 'BinderHub']),\n",
       "      type: 'nominal'\n",
       "    }),\n",
       "    y: Y({\n",
       "      field: 'bookmarked',\n",
       "      type: 'quantitative'\n",
       "    })\n",
       "  }),\n",
       "  height: 300,\n",
       "  mark: 'bar',\n",
       "  title: 'Activity by category',\n",
       "  width: 700\n",
       "})"
      ]
     },
     "execution_count": 11,
     "metadata": {},
     "output_type": "execute_result"
    }
   ],
   "source": [
    "counts = counts_from_activity(posts)\n",
    "alt.Chart(data=counts, width=700, height=300, title=\"Activity by category\").mark_bar().encode(\n",
    "    x=alt.X(\"parent/category\", sort=alt.Sort(counts['category_id'].values.tolist())),\n",
    "    y=\"bookmarked\",\n",
    "    color=\"parent_category\"\n",
    ")"
   ]
  },
  {
   "cell_type": "markdown",
   "metadata": {
    "papermill": {
     "duration": 0.018748,
     "end_time": "2019-10-23T04:54:33.827704",
     "exception": false,
     "start_time": "2019-10-23T04:54:33.808956",
     "status": "completed"
    },
    "tags": []
   },
   "source": [
    "## Recently-created topics\n",
    "\n",
    "These are topics that were recently created, sorted by the amount of activity\n",
    "in each one."
   ]
  },
  {
   "cell_type": "code",
   "execution_count": 12,
   "metadata": {
    "papermill": {
     "duration": 0.178984,
     "end_time": "2019-10-23T04:54:34.026326",
     "exception": false,
     "start_time": "2019-10-23T04:54:33.847342",
     "status": "completed"
    },
    "tags": [
     "hide_input"
    ]
   },
   "outputs": [
    {
     "data": {
      "text/markdown": [
       "* [Governance Questions 1: Community](https://discourse.jupyter.org/t/governance-questions-1-community) (9 posts)\n",
       "* [Benefits of the classic UI and use cases for classic over JupyterLab (Was: Why is Tim not moving to lab?)](https://discourse.jupyter.org/t/benefits-of-the-classic-ui-and-use-cases-for-classic-over-jupyterlab-was-why-is-tim-not-moving-to-lab) (7 posts)\n",
       "* [Nbviewer not showing updated version of Jupyter Notebook](https://discourse.jupyter.org/t/nbviewer-not-showing-updated-version-of-jupyter-notebook) (4 posts)\n",
       "* [Is there a way to save the output of a cell?](https://discourse.jupyter.org/t/is-there-a-way-to-save-the-output-of-a-cell) (3 posts)\n",
       "* [Jupyter not starting in Win 10](https://discourse.jupyter.org/t/jupyter-not-starting-in-win-10) (3 posts)\n",
       "* [Help! How do I deal with read-only notebooks?](https://discourse.jupyter.org/t/help-how-do-i-deal-with-read-only-notebooks) (3 posts)\n",
       "* [Is it possible to launch a repository of Jupyter Notebooks, but have the link open in a specific notebook rather than the Home Directory?](https://discourse.jupyter.org/t/is-it-possible-to-launch-a-repository-of-jupyter-notebooks-but-have-the-link-open-in-a-specific-notebook-rather-than-the-home-directory) (3 posts)\n",
       "* [Sudospawner and internal_ssl](https://discourse.jupyter.org/t/sudospawner-and-internal-ssl) (2 posts)\n",
       "* [How to participate and what to expect in the governance refactor](https://discourse.jupyter.org/t/how-to-participate-and-what-to-expect-in-the-governance-refactor) (2 posts)\n",
       "* [JupyterHub/Binder Community Call, November 2019](https://discourse.jupyter.org/t/jupyterhub-binder-community-call-november-2019) (2 posts)"
      ],
      "text/plain": [
       "<IPython.core.display.Markdown object>"
      ]
     },
     "execution_count": 12,
     "metadata": {},
     "output_type": "execute_result"
    }
   ],
   "source": [
    "params = {\"order\": \"created\", \"ascending\": \"False\"}\n",
    "resp = requests.get(url, headers=api, params=params)\n",
    "\n",
    "# Sort created by the most posted for recently-created posts\n",
    "created = pd.DataFrame(resp.json()['topic_list']['topics'])\n",
    "created = created.sort_values('posts_count', ascending=False)\n",
    "Markdown(topics_to_markdown(created))"
   ]
  },
  {
   "cell_type": "code",
   "execution_count": 13,
   "metadata": {
    "papermill": {
     "duration": 0.081499,
     "end_time": "2019-10-23T04:54:34.126765",
     "exception": false,
     "start_time": "2019-10-23T04:54:34.045266",
     "status": "completed"
    },
    "tags": [
     "hide_input"
    ]
   },
   "outputs": [
    {
     "data": {
      "text/html": [
       "\n",
       "  <style>\n",
       "    .vega-actions a {\n",
       "        margin-right: 12px;\n",
       "        color: #757575;\n",
       "        font-weight: normal;\n",
       "        font-size: 13px;\n",
       "    }\n",
       "    .error {\n",
       "        color: red;\n",
       "    }\n",
       "  </style>\n",
       "  <div id=\"altair-viz-2\"></div>\n",
       "  <script>\n",
       "    requirejs.config({\n",
       "        \"paths\": {\n",
       "            \"vega\": \"https://cdn.jsdelivr.net/npm//vega@5?noext\",\n",
       "            \"vega-lib\": \"https://cdn.jsdelivr.net/npm//vega-lib?noext\",\n",
       "            \"vega-lite\": \"https://cdn.jsdelivr.net/npm//vega-lite@3.3.0?noext\",\n",
       "            \"vega-embed\": \"https://cdn.jsdelivr.net/npm//vega-embed@4?noext\",\n",
       "        }\n",
       "    });\n",
       "    require(['vega-embed'], function(vegaEmbed){\n",
       "      var spec = {\"config\": {\"axisLeft\": {\"labelFontSize\": 15}, \"axisBottom\": {\"labelFontSize\": 15}}, \"data\": {\"name\": \"data-0ce15f7798a1bc439c3b7eedad02c45a\"}, \"mark\": \"bar\", \"encoding\": {\"color\": {\"type\": \"nominal\", \"field\": \"parent_category\"}, \"x\": {\"type\": \"nominal\", \"field\": \"parent/category\", \"sort\": [\"Q&A\", \"Notebook\", \"jobs\", \"JupyterLab\", \"JupyterHub\", \"Zero to JupyterHub on Kubernetes\", \"Governance\", \"Community Chat\", \"mybinder.org ops\"]}, \"y\": {\"type\": \"quantitative\", \"field\": \"bookmarked\"}}, \"height\": 300, \"title\": \"Activity by category\", \"width\": 700, \"$schema\": \"https://vega.github.io/schema/vega-lite/v3.3.0.json\", \"datasets\": {\"data-0ce15f7798a1bc439c3b7eedad02c45a\": [{\"category_id\": \"Q&A\", \"bookmarked\": 1, \"parent_category\": \"Q&A\", \"parent/category\": \"Q&A/Q&A\"}, {\"category_id\": \"Notebook\", \"bookmarked\": 3, \"parent_category\": \"Notebook\", \"parent/category\": \"Notebook/Notebook\"}, {\"category_id\": \"jobs\", \"bookmarked\": 1, \"parent_category\": \"Meta\", \"parent/category\": \"Meta/jobs\"}, {\"category_id\": \"JupyterLab\", \"bookmarked\": 2, \"parent_category\": \"JupyterLab\", \"parent/category\": \"JupyterLab/JupyterLab\"}, {\"category_id\": \"JupyterHub\", \"bookmarked\": 2, \"parent_category\": \"JupyterHub\", \"parent/category\": \"JupyterHub/JupyterHub\"}, {\"category_id\": \"Zero to JupyterHub on Kubernetes\", \"bookmarked\": 1, \"parent_category\": \"JupyterHub\", \"parent/category\": \"JupyterHub/Zero to JupyterHub on Kubernetes\"}, {\"category_id\": \"Governance\", \"bookmarked\": 4, \"parent_category\": \"Governance\", \"parent/category\": \"Governance/Governance\"}, {\"category_id\": \"Community Chat\", \"bookmarked\": 1, \"parent_category\": \"Community Chat\", \"parent/category\": \"Community Chat/Community Chat\"}, {\"category_id\": \"mybinder.org ops\", \"bookmarked\": 1, \"parent_category\": \"Binder\", \"parent/category\": \"Binder/mybinder.org ops\"}]}};\n",
       "      var embedOpt = {\"mode\": \"vega-lite\"};\n",
       "\n",
       "      function showError(el, error){\n",
       "          el.innerHTML = ('<div class=\"error\" style=\"color:red;\">'\n",
       "                          + '<p>JavaScript Error: ' + error.message + '</p>'\n",
       "                          + \"<p>This usually means there's a typo in your chart specification. \"\n",
       "                          + \"See the javascript console for the full traceback.</p>\"\n",
       "                          + '</div>');\n",
       "          throw error;\n",
       "      }\n",
       "      const el = document.getElementById('altair-viz-2');\n",
       "      vegaEmbed(\"#altair-viz-2\", spec, embedOpt)\n",
       "        .catch(error => showError(el, error));\n",
       "    });\n",
       "\n",
       "  </script>"
      ],
      "text/plain": [
       "Chart({\n",
       "  data:                         category_id  bookmarked parent_category  \\\n",
       "  5                               Q&A           1             Q&A   \n",
       "  8                          Notebook           3        Notebook   \n",
       "  1                              jobs           1            Meta   \n",
       "  4                        JupyterLab           2      JupyterLab   \n",
       "  2                        JupyterHub           2      JupyterHub   \n",
       "  0  Zero to JupyterHub on Kubernetes           1      JupyterHub   \n",
       "  7                        Governance           4      Governance   \n",
       "  3                    Community Chat           1  Community Chat   \n",
       "  6                  mybinder.org ops           1          Binder   \n",
       "  \n",
       "                                 parent/category  \n",
       "  5                                      Q&A/Q&A  \n",
       "  8                            Notebook/Notebook  \n",
       "  1                                    Meta/jobs  \n",
       "  4                        JupyterLab/JupyterLab  \n",
       "  2                        JupyterHub/JupyterHub  \n",
       "  0  JupyterHub/Zero to JupyterHub on Kubernetes  \n",
       "  7                        Governance/Governance  \n",
       "  3                Community Chat/Community Chat  \n",
       "  6                      Binder/mybinder.org ops  ,\n",
       "  encoding: FacetedEncoding({\n",
       "    color: Color({\n",
       "      field: 'parent_category',\n",
       "      type: 'nominal'\n",
       "    }),\n",
       "    x: X({\n",
       "      field: 'parent/category',\n",
       "      sort: Sort(['Q&A', 'Notebook', 'jobs', 'JupyterLab', 'JupyterHub', 'Zero to JupyterHub on Kubernetes', 'Governance', 'Community Chat', 'mybinder.org ops']),\n",
       "      type: 'nominal'\n",
       "    }),\n",
       "    y: Y({\n",
       "      field: 'bookmarked',\n",
       "      type: 'quantitative'\n",
       "    })\n",
       "  }),\n",
       "  height: 300,\n",
       "  mark: 'bar',\n",
       "  title: 'Activity by category',\n",
       "  width: 700\n",
       "})"
      ]
     },
     "execution_count": 13,
     "metadata": {},
     "output_type": "execute_result"
    }
   ],
   "source": [
    "counts = counts_from_activity(created)\n",
    "alt.Chart(data=counts, width=700, height=300, title=\"Activity by category\").mark_bar().encode(\n",
    "    x=alt.X(\"parent/category\", sort=alt.Sort(counts['category_id'].values.tolist())),\n",
    "    y=\"bookmarked\",\n",
    "    color=\"parent_category\"\n",
    ")"
   ]
  },
  {
   "cell_type": "markdown",
   "metadata": {
    "papermill": {
     "duration": 0.026369,
     "end_time": "2019-10-23T04:54:34.175713",
     "exception": false,
     "start_time": "2019-10-23T04:54:34.149344",
     "status": "completed"
    },
    "tags": []
   },
   "source": [
    "## User activity in the Community Forum\n",
    "\n",
    "**Top posters**\n",
    "\n",
    "These people have posted lots of comments, replies, answers, etc in the community forum."
   ]
  },
  {
   "cell_type": "code",
   "execution_count": 14,
   "metadata": {
    "papermill": {
     "duration": 0.031866,
     "end_time": "2019-10-23T04:54:34.231137",
     "exception": false,
     "start_time": "2019-10-23T04:54:34.199271",
     "status": "completed"
    },
    "tags": []
   },
   "outputs": [],
   "source": [
    "def plot_user_data(users, column, sort=False):\n",
    "    plt_data = users.sort_values(column, ascending=False).head(50)\n",
    "    x = alt.X(\"username\", sort=plt_data['username'].tolist()) if sort is True else 'username'\n",
    "    ch = alt.Chart(data=plt_data).mark_bar().encode(\n",
    "        x=x,\n",
    "        y=column\n",
    "    )\n",
    "    return ch"
   ]
  },
  {
   "cell_type": "code",
   "execution_count": 15,
   "metadata": {
    "papermill": {
     "duration": 0.12373,
     "end_time": "2019-10-23T04:54:34.378547",
     "exception": false,
     "start_time": "2019-10-23T04:54:34.254817",
     "status": "completed"
    },
    "tags": []
   },
   "outputs": [],
   "source": [
    "url = \"https://discourse.jupyter.org/directory_items.json\"\n",
    "params = {\"period\": \"quarterly\", \"order\": \"post_count\"}\n",
    "resp = requests.get(url, headers=api, params=params)\n",
    "\n",
    "# Topics with the most likes in recent history\n",
    "users = pd.DataFrame(resp.json()['directory_items'])\n",
    "users['username'] = users['user'].map(lambda a: a['username'])"
   ]
  },
  {
   "cell_type": "code",
   "execution_count": 16,
   "metadata": {
    "papermill": {
     "duration": 0.075761,
     "end_time": "2019-10-23T04:54:34.472822",
     "exception": false,
     "start_time": "2019-10-23T04:54:34.397061",
     "status": "completed"
    },
    "tags": []
   },
   "outputs": [
    {
     "data": {
      "text/html": [
       "\n",
       "  <style>\n",
       "    .vega-actions a {\n",
       "        margin-right: 12px;\n",
       "        color: #757575;\n",
       "        font-weight: normal;\n",
       "        font-size: 13px;\n",
       "    }\n",
       "    .error {\n",
       "        color: red;\n",
       "    }\n",
       "  </style>\n",
       "  <div id=\"altair-viz-3\"></div>\n",
       "  <script>\n",
       "    requirejs.config({\n",
       "        \"paths\": {\n",
       "            \"vega\": \"https://cdn.jsdelivr.net/npm//vega@5?noext\",\n",
       "            \"vega-lib\": \"https://cdn.jsdelivr.net/npm//vega-lib?noext\",\n",
       "            \"vega-lite\": \"https://cdn.jsdelivr.net/npm//vega-lite@3.3.0?noext\",\n",
       "            \"vega-embed\": \"https://cdn.jsdelivr.net/npm//vega-embed@4?noext\",\n",
       "        }\n",
       "    });\n",
       "    require(['vega-embed'], function(vegaEmbed){\n",
       "      var spec = {\"config\": {\"axisLeft\": {\"labelFontSize\": 15}, \"axisBottom\": {\"labelFontSize\": 15}}, \"data\": {\"name\": \"data-d5b2c4781528eef18870f8245a58b965\"}, \"mark\": \"bar\", \"encoding\": {\"x\": {\"type\": \"nominal\", \"field\": \"username\"}, \"y\": {\"type\": \"quantitative\", \"field\": \"post_count\"}}, \"$schema\": \"https://vega.github.io/schema/vega-lite/v3.3.0.json\", \"datasets\": {\"data-d5b2c4781528eef18870f8245a58b965\": [{\"id\": 6, \"likes_received\": 101, \"likes_given\": 163, \"topics_entered\": 257, \"topic_count\": 7, \"post_count\": 104, \"posts_read\": 951, \"days_visited\": 86, \"user\": {\"id\": 6, \"username\": \"betatim\", \"name\": \"Tim Head\", \"avatar_template\": \"/user_avatar/discourse.jupyter.org/betatim/{size}/10_2.png\", \"title\": \"\"}, \"username\": \"betatim\"}, {\"id\": 220, \"likes_received\": 20, \"likes_given\": 2, \"topics_entered\": 72, \"topic_count\": 0, \"post_count\": 53, \"posts_read\": 337, \"days_visited\": 51, \"user\": {\"id\": 220, \"username\": \"jasongrout\", \"name\": \"Jason Grout\", \"avatar_template\": \"/user_avatar/discourse.jupyter.org/jasongrout/{size}/371_2.png\", \"title\": null}, \"username\": \"jasongrout\"}, {\"id\": 3, \"likes_received\": 103, \"likes_given\": 86, \"topics_entered\": 102, \"topic_count\": 9, \"post_count\": 50, \"posts_read\": 473, \"days_visited\": 77, \"user\": {\"id\": 3, \"username\": \"choldgraf\", \"name\": \"Chris Holdgraf\", \"avatar_template\": \"/user_avatar/discourse.jupyter.org/choldgraf/{size}/12_2.png\", \"title\": \"Regular\"}, \"username\": \"choldgraf\"}, {\"id\": 73, \"likes_received\": 14, \"likes_given\": 31, \"topics_entered\": 288, \"topic_count\": 3, \"post_count\": 35, \"posts_read\": 1194, \"days_visited\": 70, \"user\": {\"id\": 73, \"username\": \"manics\", \"name\": \"Simon\", \"avatar_template\": \"/user_avatar/discourse.jupyter.org/manics/{size}/85_2.png\", \"title\": \"\", \"primary_group_name\": \"jupyterhub-team\"}, \"username\": \"manics\"}, {\"id\": 8, \"likes_received\": 36, \"likes_given\": 5, \"topics_entered\": 56, \"topic_count\": 0, \"post_count\": 25, \"posts_read\": 263, \"days_visited\": 89, \"user\": {\"id\": 8, \"username\": \"minrk\", \"name\": \"Min RK\", \"avatar_template\": \"/user_avatar/discourse.jupyter.org/minrk/{size}/13_2.png\", \"title\": null}, \"username\": \"minrk\"}, {\"id\": 11, \"likes_received\": 16, \"likes_given\": 78, \"topics_entered\": 261, \"topic_count\": 0, \"post_count\": 25, \"posts_read\": 1062, \"days_visited\": 86, \"user\": {\"id\": 11, \"username\": \"fomightez\", \"name\": \"Wayne\", \"avatar_template\": \"/user_avatar/discourse.jupyter.org/fomightez/{size}/495_2.png\", \"title\": null}, \"username\": \"fomightez\"}, {\"id\": 116, \"likes_received\": 22, \"likes_given\": 19, \"topics_entered\": 89, \"topic_count\": 1, \"post_count\": 19, \"posts_read\": 362, \"days_visited\": 86, \"user\": {\"id\": 116, \"username\": \"sgibson91\", \"name\": \"Sarah Gibson\", \"avatar_template\": \"/user_avatar/discourse.jupyter.org/sgibson91/{size}/487_2.png\", \"title\": \"\"}, \"username\": \"sgibson91\"}, {\"id\": 198, \"likes_received\": 8, \"likes_given\": 18, \"topics_entered\": 85, \"topic_count\": 1, \"post_count\": 16, \"posts_read\": 302, \"days_visited\": 21, \"user\": {\"id\": 198, \"username\": \"00Kai0\", \"name\": \"Kerwin Sun\", \"avatar_template\": \"/user_avatar/discourse.jupyter.org/00kai0/{size}/1144_2.png\", \"title\": null}, \"username\": \"00Kai0\"}, {\"id\": 7, \"likes_received\": 26, \"likes_given\": 33, \"topics_entered\": 69, \"topic_count\": 0, \"post_count\": 16, \"posts_read\": 296, \"days_visited\": 40, \"user\": {\"id\": 7, \"username\": \"willingc\", \"name\": \"Carol Willing\", \"avatar_template\": \"/user_avatar/discourse.jupyter.org/willingc/{size}/11_2.png\", \"title\": null}, \"username\": \"willingc\"}, {\"id\": 37, \"likes_received\": 6, \"likes_given\": 16, \"topics_entered\": 7, \"topic_count\": 1, \"post_count\": 15, \"posts_read\": 41, \"days_visited\": 14, \"user\": {\"id\": 37, \"username\": \"ablekh\", \"name\": \"Aleksandr Blekh\", \"avatar_template\": \"/user_avatar/discourse.jupyter.org/ablekh/{size}/36_2.png\", \"title\": null}, \"username\": \"ablekh\"}, {\"id\": 303, \"likes_received\": 4, \"likes_given\": 10, \"topics_entered\": 119, \"topic_count\": 3, \"post_count\": 15, \"posts_read\": 546, \"days_visited\": 67, \"user\": {\"id\": 303, \"username\": \"ian-r-rose\", \"name\": \"Ian Rose\", \"avatar_template\": \"/user_avatar/discourse.jupyter.org/ian-r-rose/{size}/1119_2.png\", \"title\": null}, \"username\": \"ian-r-rose\"}, {\"id\": 99, \"likes_received\": 16, \"likes_given\": 18, \"topics_entered\": 73, \"topic_count\": 4, \"post_count\": 14, \"posts_read\": 400, \"days_visited\": 59, \"user\": {\"id\": 99, \"username\": \"Zsailer\", \"name\": \"Zachary Sailer\", \"avatar_template\": \"/user_avatar/discourse.jupyter.org/zsailer/{size}/106_2.png\", \"title\": null}, \"username\": \"Zsailer\"}, {\"id\": 217, \"likes_received\": 10, \"likes_given\": 17, \"topics_entered\": 34, \"topic_count\": 1, \"post_count\": 13, \"posts_read\": 136, \"days_visited\": 40, \"user\": {\"id\": 217, \"username\": \"kevin-bates\", \"name\": \"Kevin Bates\", \"avatar_template\": \"/user_avatar/discourse.jupyter.org/kevin-bates/{size}/234_2.png\", \"title\": null}, \"username\": \"kevin-bates\"}, {\"id\": 268, \"likes_received\": 11, \"likes_given\": 4, \"topics_entered\": 5, \"topic_count\": 0, \"post_count\": 12, \"posts_read\": 44, \"days_visited\": 27, \"user\": {\"id\": 268, \"username\": \"afshin\", \"name\": \"A. T. Darian\", \"avatar_template\": \"/user_avatar/discourse.jupyter.org/afshin/{size}/314_2.png\", \"title\": null}, \"username\": \"afshin\"}, {\"id\": 121, \"likes_received\": 14, \"likes_given\": 3, \"topics_entered\": 11, \"topic_count\": 1, \"post_count\": 12, \"posts_read\": 77, \"days_visited\": 8, \"user\": {\"id\": 121, \"username\": \"hadim\", \"name\": \"\", \"avatar_template\": \"/user_avatar/discourse.jupyter.org/hadim/{size}/1180_2.png\", \"title\": null}, \"username\": \"hadim\"}, {\"id\": 747, \"likes_received\": 3, \"likes_given\": 0, \"topics_entered\": 19, \"topic_count\": 4, \"post_count\": 11, \"posts_read\": 132, \"days_visited\": 28, \"user\": {\"id\": 747, \"username\": \"RSchauf\", \"name\": \"\", \"avatar_template\": \"/user_avatar/discourse.jupyter.org/rschauf/{size}/1188_2.png\", \"title\": \"\"}, \"username\": \"RSchauf\"}, {\"id\": 59, \"likes_received\": 13, \"likes_given\": 9, \"topics_entered\": 36, \"topic_count\": 0, \"post_count\": 11, \"posts_read\": 260, \"days_visited\": 48, \"user\": {\"id\": 59, \"username\": \"bitnik\", \"name\": \"Kenan Erdogan\", \"avatar_template\": \"/user_avatar/discourse.jupyter.org/bitnik/{size}/79_2.png\", \"title\": \"\"}, \"username\": \"bitnik\"}, {\"id\": 674, \"likes_received\": 6, \"likes_given\": 5, \"topics_entered\": 61, \"topic_count\": 4, \"post_count\": 11, \"posts_read\": 345, \"days_visited\": 46, \"user\": {\"id\": 674, \"username\": \"celine168\", \"name\": \"Celine L\", \"avatar_template\": \"https://avatars.discourse.org/v4/letter/c/ec9cab/{size}.png\", \"title\": null}, \"username\": \"celine168\"}, {\"id\": 30, \"likes_received\": 15, \"likes_given\": 61, \"topics_entered\": 37, \"topic_count\": 3, \"post_count\": 10, \"posts_read\": 286, \"days_visited\": 59, \"user\": {\"id\": 30, \"username\": \"consideRatio\", \"name\": \"Erik Sundell\", \"avatar_template\": \"/user_avatar/discourse.jupyter.org/consideratio/{size}/1033_2.png\", \"title\": null}, \"username\": \"consideRatio\"}, {\"id\": 485, \"likes_received\": 2, \"likes_given\": 28, \"topics_entered\": 35, \"topic_count\": 0, \"post_count\": 10, \"posts_read\": 114, \"days_visited\": 21, \"user\": {\"id\": 485, \"username\": \"rolweber\", \"name\": \"Roland Weber\", \"avatar_template\": \"/user_avatar/discourse.jupyter.org/rolweber/{size}/657_2.png\", \"title\": null}, \"username\": \"rolweber\"}, {\"id\": 229, \"likes_received\": 5, \"likes_given\": 5, \"topics_entered\": 84, \"topic_count\": 0, \"post_count\": 10, \"posts_read\": 361, \"days_visited\": 57, \"user\": {\"id\": 229, \"username\": \"vidartf\", \"name\": \"Vidar Tonaas Fauske\", \"avatar_template\": \"/user_avatar/discourse.jupyter.org/vidartf/{size}/300_2.png\", \"title\": null}, \"username\": \"vidartf\"}, {\"id\": 234, \"likes_received\": 25, \"likes_given\": 4, \"topics_entered\": 17, \"topic_count\": 2, \"post_count\": 9, \"posts_read\": 83, \"days_visited\": 22, \"user\": {\"id\": 234, \"username\": \"fmaussion\", \"name\": \"Fabien Maussion\", \"avatar_template\": \"/user_avatar/discourse.jupyter.org/fmaussion/{size}/390_2.png\", \"title\": null}, \"username\": \"fmaussion\"}, {\"id\": 679, \"likes_received\": 12, \"likes_given\": 3, \"topics_entered\": 23, \"topic_count\": 0, \"post_count\": 8, \"posts_read\": 166, \"days_visited\": 12, \"user\": {\"id\": 679, \"username\": \"bollwyvl\", \"name\": \"Nicholas Bollweg\", \"avatar_template\": \"/user_avatar/discourse.jupyter.org/bollwyvl/{size}/904_2.png\", \"title\": null}, \"username\": \"bollwyvl\"}, {\"id\": 590, \"likes_received\": 1, \"likes_given\": 1, \"topics_entered\": 20, \"topic_count\": 2, \"post_count\": 8, \"posts_read\": 109, \"days_visited\": 25, \"user\": {\"id\": 590, \"username\": \"nscozzaro\", \"name\": \"Nicolas Scozzaro\", \"avatar_template\": \"/user_avatar/discourse.jupyter.org/nscozzaro/{size}/804_2.png\", \"title\": null}, \"username\": \"nscozzaro\"}, {\"id\": 72, \"likes_received\": 8, \"likes_given\": 4, \"topics_entered\": 45, \"topic_count\": 0, \"post_count\": 8, \"posts_read\": 286, \"days_visited\": 45, \"user\": {\"id\": 72, \"username\": \"arnim\", \"name\": \"Arnim Bleier\", \"avatar_template\": \"/user_avatar/discourse.jupyter.org/arnim/{size}/83_2.png\", \"title\": null}, \"username\": \"arnim\"}, {\"id\": 884, \"likes_received\": 2, \"likes_given\": 0, \"topics_entered\": 41, \"topic_count\": 7, \"post_count\": 8, \"posts_read\": 190, \"days_visited\": 25, \"user\": {\"id\": 884, \"username\": \"Michiel\", \"name\": \"Michiel\", \"avatar_template\": \"/user_avatar/discourse.jupyter.org/michiel/{size}/1082_2.png\", \"title\": null}, \"username\": \"Michiel\"}, {\"id\": 737, \"likes_received\": 2, \"likes_given\": 2, \"topics_entered\": 43, \"topic_count\": 2, \"post_count\": 8, \"posts_read\": 137, \"days_visited\": 23, \"user\": {\"id\": 737, \"username\": \"geirfreysson\", \"name\": \"Geir Freysson\", \"avatar_template\": \"/user_avatar/discourse.jupyter.org/geirfreysson/{size}/952_2.png\", \"title\": null}, \"username\": \"geirfreysson\"}, {\"id\": 771, \"likes_received\": 13, \"likes_given\": 3, \"topics_entered\": 4, \"topic_count\": 0, \"post_count\": 7, \"posts_read\": 69, \"days_visited\": 7, \"user\": {\"id\": 771, \"username\": \"sarasrking\", \"name\": \"Sara King\", \"avatar_template\": \"https://avatars.discourse.org/v4/letter/s/d78d45/{size}.png\", \"title\": null}, \"username\": \"sarasrking\"}, {\"id\": 1004, \"likes_received\": 0, \"likes_given\": 2, \"topics_entered\": 8, \"topic_count\": 1, \"post_count\": 7, \"posts_read\": 29, \"days_visited\": 6, \"user\": {\"id\": 1004, \"username\": \"2ndworld\", \"name\": \"\", \"avatar_template\": \"https://avatars.discourse.org/v4/letter/2/c89c15/{size}.png\", \"title\": null}, \"username\": \"2ndworld\"}, {\"id\": 803, \"likes_received\": 4, \"likes_given\": 0, \"topics_entered\": 11, \"topic_count\": 1, \"post_count\": 6, \"posts_read\": 45, \"days_visited\": 4, \"user\": {\"id\": 803, \"username\": \"richcranney\", \"name\": \"\", \"avatar_template\": \"https://avatars.discourse.org/v4/letter/r/a698b9/{size}.png\", \"title\": null}, \"username\": \"richcranney\"}, {\"id\": 412, \"likes_received\": 0, \"likes_given\": 0, \"topics_entered\": 3, \"topic_count\": 0, \"post_count\": 6, \"posts_read\": 31, \"days_visited\": 7, \"user\": {\"id\": 412, \"username\": \"Leonard_Nelson\", \"name\": \"Leonard Nelson\", \"avatar_template\": \"/user_avatar/discourse.jupyter.org/leonard_nelson/{size}/1030_2.png\", \"title\": \"\"}, \"username\": \"Leonard_Nelson\"}, {\"id\": 920, \"likes_received\": 1, \"likes_given\": 0, \"topics_entered\": 72, \"topic_count\": 2, \"post_count\": 6, \"posts_read\": 295, \"days_visited\": 8, \"user\": {\"id\": 920, \"username\": \"andreasplesch\", \"name\": \"Andreas Plesch\", \"avatar_template\": \"/user_avatar/discourse.jupyter.org/andreasplesch/{size}/1120_2.png\", \"title\": null}, \"username\": \"andreasplesch\"}, {\"id\": 77, \"likes_received\": 7, \"likes_given\": 8, \"topics_entered\": 139, \"topic_count\": 0, \"post_count\": 6, \"posts_read\": 646, \"days_visited\": 72, \"user\": {\"id\": 77, \"username\": \"jtp\", \"name\": \"Jeremy Tuloup\", \"avatar_template\": \"/user_avatar/discourse.jupyter.org/jtp/{size}/882_2.png\", \"title\": \"\"}, \"username\": \"jtp\"}, {\"id\": 1005, \"likes_received\": 8, \"likes_given\": 3, \"topics_entered\": 9, \"topic_count\": 3, \"post_count\": 5, \"posts_read\": 45, \"days_visited\": 6, \"user\": {\"id\": 1005, \"username\": \"V-Talbot\", \"name\": \"\", \"avatar_template\": \"/user_avatar/discourse.jupyter.org/v-talbot/{size}/1195_2.png\", \"title\": null}, \"username\": \"V-Talbot\"}, {\"id\": 660, \"likes_received\": 1, \"likes_given\": 8, \"topics_entered\": 4, \"topic_count\": 0, \"post_count\": 5, \"posts_read\": 35, \"days_visited\": 16, \"user\": {\"id\": 660, \"username\": \"javag97\", \"name\": \"Javier Garcia\", \"avatar_template\": \"/user_avatar/discourse.jupyter.org/javag97/{size}/881_2.png\", \"title\": null}, \"username\": \"javag97\"}, {\"id\": 24, \"likes_received\": 7, \"likes_given\": 5, \"topics_entered\": 148, \"topic_count\": 2, \"post_count\": 5, \"posts_read\": 337, \"days_visited\": 47, \"user\": {\"id\": 24, \"username\": \"psychemedia\", \"name\": \"Tony Hirst\", \"avatar_template\": \"/user_avatar/discourse.jupyter.org/psychemedia/{size}/24_2.png\", \"title\": null}, \"username\": \"psychemedia\"}, {\"id\": 222, \"likes_received\": 9, \"likes_given\": 2, \"topics_entered\": 3, \"topic_count\": 0, \"post_count\": 5, \"posts_read\": 46, \"days_visited\": 31, \"user\": {\"id\": 222, \"username\": \"tgeorgeux\", \"name\": \"Timothy George\", \"avatar_template\": \"https://avatars.discourse.org/v4/letter/t/f05b48/{size}.png\", \"title\": null}, \"username\": \"tgeorgeux\"}, {\"id\": 655, \"likes_received\": 4, \"likes_given\": 0, \"topics_entered\": 15, \"topic_count\": 1, \"post_count\": 5, \"posts_read\": 56, \"days_visited\": 25, \"user\": {\"id\": 655, \"username\": \"joshuazeltser\", \"name\": \"Joshua Zeltser\", \"avatar_template\": \"/user_avatar/discourse.jupyter.org/joshuazeltser/{size}/1006_2.png\", \"title\": null}, \"username\": \"joshuazeltser\"}, {\"id\": 904, \"likes_received\": 0, \"likes_given\": 5, \"topics_entered\": 15, \"topic_count\": 5, \"post_count\": 5, \"posts_read\": 50, \"days_visited\": 10, \"user\": {\"id\": 904, \"username\": \"louis-she\", \"name\": \"Chenglu\", \"avatar_template\": \"/user_avatar/discourse.jupyter.org/louis-she/{size}/1103_2.png\", \"title\": null}, \"username\": \"louis-she\"}, {\"id\": 831, \"likes_received\": 8, \"likes_given\": 3, \"topics_entered\": 14, \"topic_count\": 2, \"post_count\": 5, \"posts_read\": 32, \"days_visited\": 21, \"user\": {\"id\": 831, \"username\": \"reuven\", \"name\": \"Reuven M. Lerner\", \"avatar_template\": \"/user_avatar/discourse.jupyter.org/reuven/{size}/1036_2.png\", \"title\": null}, \"username\": \"reuven\"}, {\"id\": 570, \"likes_received\": 5, \"likes_given\": 0, \"topics_entered\": 3, \"topic_count\": 0, \"post_count\": 5, \"posts_read\": 50, \"days_visited\": 28, \"user\": {\"id\": 570, \"username\": \"rkdarst\", \"name\": \"Richard Darst\", \"avatar_template\": \"/user_avatar/discourse.jupyter.org/rkdarst/{size}/1003_2.png\", \"title\": null}, \"username\": \"rkdarst\"}, {\"id\": 731, \"likes_received\": 1, \"likes_given\": 0, \"topics_entered\": 6, \"topic_count\": 1, \"post_count\": 5, \"posts_read\": 18, \"days_visited\": 24, \"user\": {\"id\": 731, \"username\": \"makaylas\", \"name\": \"Makayla Shepherd\", \"avatar_template\": \"https://avatars.discourse.org/v4/letter/m/ed8c4c/{size}.png\", \"title\": null}, \"username\": \"makaylas\"}, {\"id\": 834, \"likes_received\": 0, \"likes_given\": 0, \"topics_entered\": 9, \"topic_count\": 1, \"post_count\": 5, \"posts_read\": 27, \"days_visited\": 2, \"user\": {\"id\": 834, \"username\": \"khz_dong\", \"name\": \"Dong\", \"avatar_template\": \"/user_avatar/discourse.jupyter.org/khz_dong/{size}/1040_2.png\", \"title\": null}, \"username\": \"khz_dong\"}, {\"id\": 761, \"likes_received\": 0, \"likes_given\": 0, \"topics_entered\": 5, \"topic_count\": 1, \"post_count\": 4, \"posts_read\": 10, \"days_visited\": 6, \"user\": {\"id\": 761, \"username\": \"alston\", \"name\": \"\", \"avatar_template\": \"https://avatars.discourse.org/v4/letter/a/ec9cab/{size}.png\", \"title\": null}, \"username\": \"alston\"}, {\"id\": 874, \"likes_received\": 0, \"likes_given\": 0, \"topics_entered\": 4, \"topic_count\": 1, \"post_count\": 4, \"posts_read\": 12, \"days_visited\": 3, \"user\": {\"id\": 874, \"username\": \"hiram\", \"name\": \"Hiram Foster\", \"avatar_template\": \"https://avatars.discourse.org/v4/letter/h/838e76/{size}.png\", \"title\": null}, \"username\": \"hiram\"}, {\"id\": 926, \"likes_received\": 4, \"likes_given\": 2, \"topics_entered\": 8, \"topic_count\": 2, \"post_count\": 4, \"posts_read\": 15, \"days_visited\": 9, \"user\": {\"id\": 926, \"username\": \"pablobernabeu\", \"name\": \"Pablo Bernabeu\", \"avatar_template\": \"/user_avatar/discourse.jupyter.org/pablobernabeu/{size}/1126_2.png\", \"title\": null}, \"username\": \"pablobernabeu\"}, {\"id\": 886, \"likes_received\": 0, \"likes_given\": 0, \"topics_entered\": 9, \"topic_count\": 1, \"post_count\": 4, \"posts_read\": 55, \"days_visited\": 8, \"user\": {\"id\": 886, \"username\": \"Bikash\", \"name\": \"Bikash Roy Choudhury\", \"avatar_template\": \"/user_avatar/discourse.jupyter.org/bikash/{size}/1084_2.png\", \"title\": null}, \"username\": \"Bikash\"}, {\"id\": 164, \"likes_received\": 3, \"likes_given\": 10, \"topics_entered\": 37, \"topic_count\": 0, \"post_count\": 4, \"posts_read\": 157, \"days_visited\": 25, \"user\": {\"id\": 164, \"username\": \"Chico_Venancio\", \"name\": \"Chico Venancio\", \"avatar_template\": \"/user_avatar/discourse.jupyter.org/chico_venancio/{size}/216_2.png\", \"title\": null}, \"username\": \"Chico_Venancio\"}, {\"id\": 959, \"likes_received\": 0, \"likes_given\": 0, \"topics_entered\": 13, \"topic_count\": 0, \"post_count\": 4, \"posts_read\": 51, \"days_visited\": 7, \"user\": {\"id\": 959, \"username\": \"scho\", \"name\": \"David Schofield\", \"avatar_template\": \"/user_avatar/discourse.jupyter.org/scho/{size}/1162_2.png\", \"title\": null}, \"username\": \"scho\"}, {\"id\": 34, \"likes_received\": 6, \"likes_given\": 2, \"topics_entered\": 8, \"topic_count\": 0, \"post_count\": 4, \"posts_read\": 53, \"days_visited\": 18, \"user\": {\"id\": 34, \"username\": \"danielballan\", \"name\": \"Dan Allan\", \"avatar_template\": \"/user_avatar/discourse.jupyter.org/danielballan/{size}/34_2.png\", \"title\": null}, \"username\": \"danielballan\"}]}};\n",
       "      var embedOpt = {\"mode\": \"vega-lite\"};\n",
       "\n",
       "      function showError(el, error){\n",
       "          el.innerHTML = ('<div class=\"error\" style=\"color:red;\">'\n",
       "                          + '<p>JavaScript Error: ' + error.message + '</p>'\n",
       "                          + \"<p>This usually means there's a typo in your chart specification. \"\n",
       "                          + \"See the javascript console for the full traceback.</p>\"\n",
       "                          + '</div>');\n",
       "          throw error;\n",
       "      }\n",
       "      const el = document.getElementById('altair-viz-3');\n",
       "      vegaEmbed(\"#altair-viz-3\", spec, embedOpt)\n",
       "        .catch(error => showError(el, error));\n",
       "    });\n",
       "\n",
       "  </script>"
      ],
      "text/plain": [
       "Chart({\n",
       "  data:       id  likes_received  likes_given  topics_entered  topic_count  \\\n",
       "  0      6             101          163             257            7   \n",
       "  1    220              20            2              72            0   \n",
       "  2      3             103           86             102            9   \n",
       "  3     73              14           31             288            3   \n",
       "  4      8              36            5              56            0   \n",
       "  5     11              16           78             261            0   \n",
       "  6    116              22           19              89            1   \n",
       "  7    198               8           18              85            1   \n",
       "  8      7              26           33              69            0   \n",
       "  9     37               6           16               7            1   \n",
       "  10   303               4           10             119            3   \n",
       "  11    99              16           18              73            4   \n",
       "  12   217              10           17              34            1   \n",
       "  14   268              11            4               5            0   \n",
       "  13   121              14            3              11            1   \n",
       "  15   747               3            0              19            4   \n",
       "  16    59              13            9              36            0   \n",
       "  17   674               6            5              61            4   \n",
       "  18    30              15           61              37            3   \n",
       "  19   485               2           28              35            0   \n",
       "  20   229               5            5              84            0   \n",
       "  21   234              25            4              17            2   \n",
       "  24   679              12            3              23            0   \n",
       "  26   590               1            1              20            2   \n",
       "  25    72               8            4              45            0   \n",
       "  23   884               2            0              41            7   \n",
       "  22   737               2            2              43            2   \n",
       "  27   771              13            3               4            0   \n",
       "  28  1004               0            2               8            1   \n",
       "  29   803               4            0              11            1   \n",
       "  30   412               0            0               3            0   \n",
       "  31   920               1            0              72            2   \n",
       "  32    77               7            8             139            0   \n",
       "  38  1005               8            3               9            3   \n",
       "  42   660               1            8               4            0   \n",
       "  41    24               7            5             148            2   \n",
       "  40   222               9            2               3            0   \n",
       "  39   655               4            0              15            1   \n",
       "  37   904               0            5              15            5   \n",
       "  36   831               8            3              14            2   \n",
       "  35   570               5            0               3            0   \n",
       "  34   731               1            0               6            1   \n",
       "  33   834               0            0               9            1   \n",
       "  43   761               0            0               5            1   \n",
       "  44   874               0            0               4            1   \n",
       "  45   926               4            2               8            2   \n",
       "  46   886               0            0               9            1   \n",
       "  47   164               3           10              37            0   \n",
       "  48   959               0            0              13            0   \n",
       "  49    34               6            2               8            0   \n",
       "  \n",
       "      post_count  posts_read  days_visited  \\\n",
       "  0          104         951            86   \n",
       "  1           53         337            51   \n",
       "  2           50         473            77   \n",
       "  3           35        1194            70   \n",
       "  4           25         263            89   \n",
       "  5           25        1062            86   \n",
       "  6           19         362            86   \n",
       "  7           16         302            21   \n",
       "  8           16         296            40   \n",
       "  9           15          41            14   \n",
       "  10          15         546            67   \n",
       "  11          14         400            59   \n",
       "  12          13         136            40   \n",
       "  14          12          44            27   \n",
       "  13          12          77             8   \n",
       "  15          11         132            28   \n",
       "  16          11         260            48   \n",
       "  17          11         345            46   \n",
       "  18          10         286            59   \n",
       "  19          10         114            21   \n",
       "  20          10         361            57   \n",
       "  21           9          83            22   \n",
       "  24           8         166            12   \n",
       "  26           8         109            25   \n",
       "  25           8         286            45   \n",
       "  23           8         190            25   \n",
       "  22           8         137            23   \n",
       "  27           7          69             7   \n",
       "  28           7          29             6   \n",
       "  29           6          45             4   \n",
       "  30           6          31             7   \n",
       "  31           6         295             8   \n",
       "  32           6         646            72   \n",
       "  38           5          45             6   \n",
       "  42           5          35            16   \n",
       "  41           5         337            47   \n",
       "  40           5          46            31   \n",
       "  39           5          56            25   \n",
       "  37           5          50            10   \n",
       "  36           5          32            21   \n",
       "  35           5          50            28   \n",
       "  34           5          18            24   \n",
       "  33           5          27             2   \n",
       "  43           4          10             6   \n",
       "  44           4          12             3   \n",
       "  45           4          15             9   \n",
       "  46           4          55             8   \n",
       "  47           4         157            25   \n",
       "  48           4          51             7   \n",
       "  49           4          53            18   \n",
       "  \n",
       "                                                   user        username  \n",
       "  0   {'id': 6, 'username': 'betatim', 'name': 'Tim ...         betatim  \n",
       "  1   {'id': 220, 'username': 'jasongrout', 'name': ...      jasongrout  \n",
       "  2   {'id': 3, 'username': 'choldgraf', 'name': 'Ch...       choldgraf  \n",
       "  3   {'id': 73, 'username': 'manics', 'name': 'Simo...          manics  \n",
       "  4   {'id': 8, 'username': 'minrk', 'name': 'Min RK...           minrk  \n",
       "  5   {'id': 11, 'username': 'fomightez', 'name': 'W...       fomightez  \n",
       "  6   {'id': 116, 'username': 'sgibson91', 'name': '...       sgibson91  \n",
       "  7   {'id': 198, 'username': '00Kai0', 'name': 'Ker...          00Kai0  \n",
       "  8   {'id': 7, 'username': 'willingc', 'name': 'Car...        willingc  \n",
       "  9   {'id': 37, 'username': 'ablekh', 'name': 'Alek...          ablekh  \n",
       "  10  {'id': 303, 'username': 'ian-r-rose', 'name': ...      ian-r-rose  \n",
       "  11  {'id': 99, 'username': 'Zsailer', 'name': 'Zac...         Zsailer  \n",
       "  12  {'id': 217, 'username': 'kevin-bates', 'name':...     kevin-bates  \n",
       "  14  {'id': 268, 'username': 'afshin', 'name': 'A. ...          afshin  \n",
       "  13  {'id': 121, 'username': 'hadim', 'name': '', '...           hadim  \n",
       "  15  {'id': 747, 'username': 'RSchauf', 'name': '',...         RSchauf  \n",
       "  16  {'id': 59, 'username': 'bitnik', 'name': 'Kena...          bitnik  \n",
       "  17  {'id': 674, 'username': 'celine168', 'name': '...       celine168  \n",
       "  18  {'id': 30, 'username': 'consideRatio', 'name':...    consideRatio  \n",
       "  19  {'id': 485, 'username': 'rolweber', 'name': 'R...        rolweber  \n",
       "  20  {'id': 229, 'username': 'vidartf', 'name': 'Vi...         vidartf  \n",
       "  21  {'id': 234, 'username': 'fmaussion', 'name': '...       fmaussion  \n",
       "  24  {'id': 679, 'username': 'bollwyvl', 'name': 'N...        bollwyvl  \n",
       "  26  {'id': 590, 'username': 'nscozzaro', 'name': '...       nscozzaro  \n",
       "  25  {'id': 72, 'username': 'arnim', 'name': 'Arnim...           arnim  \n",
       "  23  {'id': 884, 'username': 'Michiel', 'name': 'Mi...         Michiel  \n",
       "  22  {'id': 737, 'username': 'geirfreysson', 'name'...    geirfreysson  \n",
       "  27  {'id': 771, 'username': 'sarasrking', 'name': ...      sarasrking  \n",
       "  28  {'id': 1004, 'username': '2ndworld', 'name': '...        2ndworld  \n",
       "  29  {'id': 803, 'username': 'richcranney', 'name':...     richcranney  \n",
       "  30  {'id': 412, 'username': 'Leonard_Nelson', 'nam...  Leonard_Nelson  \n",
       "  31  {'id': 920, 'username': 'andreasplesch', 'name...   andreasplesch  \n",
       "  32  {'id': 77, 'username': 'jtp', 'name': 'Jeremy ...             jtp  \n",
       "  38  {'id': 1005, 'username': 'V-Talbot', 'name': '...        V-Talbot  \n",
       "  42  {'id': 660, 'username': 'javag97', 'name': 'Ja...         javag97  \n",
       "  41  {'id': 24, 'username': 'psychemedia', 'name': ...     psychemedia  \n",
       "  40  {'id': 222, 'username': 'tgeorgeux', 'name': '...       tgeorgeux  \n",
       "  39  {'id': 655, 'username': 'joshuazeltser', 'name...   joshuazeltser  \n",
       "  37  {'id': 904, 'username': 'louis-she', 'name': '...       louis-she  \n",
       "  36  {'id': 831, 'username': 'reuven', 'name': 'Reu...          reuven  \n",
       "  35  {'id': 570, 'username': 'rkdarst', 'name': 'Ri...         rkdarst  \n",
       "  34  {'id': 731, 'username': 'makaylas', 'name': 'M...        makaylas  \n",
       "  33  {'id': 834, 'username': 'khz_dong', 'name': 'D...        khz_dong  \n",
       "  43  {'id': 761, 'username': 'alston', 'name': '', ...          alston  \n",
       "  44  {'id': 874, 'username': 'hiram', 'name': 'Hira...           hiram  \n",
       "  45  {'id': 926, 'username': 'pablobernabeu', 'name...   pablobernabeu  \n",
       "  46  {'id': 886, 'username': 'Bikash', 'name': 'Bik...          Bikash  \n",
       "  47  {'id': 164, 'username': 'Chico_Venancio', 'nam...  Chico_Venancio  \n",
       "  48  {'id': 959, 'username': 'scho', 'name': 'David...            scho  \n",
       "  49  {'id': 34, 'username': 'danielballan', 'name':...    danielballan  ,\n",
       "  encoding: FacetedEncoding({\n",
       "    x: X({\n",
       "      field: 'username',\n",
       "      type: 'nominal'\n",
       "    }),\n",
       "    y: Y({\n",
       "      field: 'post_count',\n",
       "      type: 'quantitative'\n",
       "    })\n",
       "  }),\n",
       "  mark: 'bar'\n",
       "})"
      ]
     },
     "execution_count": 16,
     "metadata": {},
     "output_type": "execute_result"
    }
   ],
   "source": [
    "plot_user_data(users.head(50), 'post_count')"
   ]
  },
  {
   "cell_type": "markdown",
   "metadata": {
    "papermill": {
     "duration": 0.029604,
     "end_time": "2019-10-23T04:54:34.524698",
     "exception": false,
     "start_time": "2019-10-23T04:54:34.495094",
     "status": "completed"
    },
    "tags": []
   },
   "source": [
    "**Forum users, sorted by likes given**\n",
    "\n",
    "These are Community Forum members that \"liked\" other people's posts. We appreciate\n",
    "anybody taking the time to tell someone else they like what they're shared!"
   ]
  },
  {
   "cell_type": "code",
   "execution_count": 17,
   "metadata": {
    "papermill": {
     "duration": 0.090692,
     "end_time": "2019-10-23T04:54:34.647259",
     "exception": false,
     "start_time": "2019-10-23T04:54:34.556567",
     "status": "completed"
    },
    "tags": []
   },
   "outputs": [
    {
     "data": {
      "text/html": [
       "\n",
       "  <style>\n",
       "    .vega-actions a {\n",
       "        margin-right: 12px;\n",
       "        color: #757575;\n",
       "        font-weight: normal;\n",
       "        font-size: 13px;\n",
       "    }\n",
       "    .error {\n",
       "        color: red;\n",
       "    }\n",
       "  </style>\n",
       "  <div id=\"altair-viz-4\"></div>\n",
       "  <script>\n",
       "    requirejs.config({\n",
       "        \"paths\": {\n",
       "            \"vega\": \"https://cdn.jsdelivr.net/npm//vega@5?noext\",\n",
       "            \"vega-lib\": \"https://cdn.jsdelivr.net/npm//vega-lib?noext\",\n",
       "            \"vega-lite\": \"https://cdn.jsdelivr.net/npm//vega-lite@3.3.0?noext\",\n",
       "            \"vega-embed\": \"https://cdn.jsdelivr.net/npm//vega-embed@4?noext\",\n",
       "        }\n",
       "    });\n",
       "    require(['vega-embed'], function(vegaEmbed){\n",
       "      var spec = {\"config\": {\"axisLeft\": {\"labelFontSize\": 15}, \"axisBottom\": {\"labelFontSize\": 15}}, \"data\": {\"name\": \"data-f5c5064185caa7bd5ead1832a7312a90\"}, \"mark\": \"bar\", \"encoding\": {\"x\": {\"type\": \"nominal\", \"field\": \"username\"}, \"y\": {\"type\": \"quantitative\", \"field\": \"likes_given\"}}, \"$schema\": \"https://vega.github.io/schema/vega-lite/v3.3.0.json\", \"datasets\": {\"data-f5c5064185caa7bd5ead1832a7312a90\": [{\"id\": 6, \"likes_received\": 101, \"likes_given\": 163, \"topics_entered\": 257, \"topic_count\": 7, \"post_count\": 104, \"posts_read\": 951, \"days_visited\": 86, \"user\": {\"id\": 6, \"username\": \"betatim\", \"name\": \"Tim Head\", \"avatar_template\": \"/user_avatar/discourse.jupyter.org/betatim/{size}/10_2.png\", \"title\": \"\"}, \"username\": \"betatim\"}, {\"id\": 3, \"likes_received\": 103, \"likes_given\": 86, \"topics_entered\": 102, \"topic_count\": 9, \"post_count\": 50, \"posts_read\": 473, \"days_visited\": 77, \"user\": {\"id\": 3, \"username\": \"choldgraf\", \"name\": \"Chris Holdgraf\", \"avatar_template\": \"/user_avatar/discourse.jupyter.org/choldgraf/{size}/12_2.png\", \"title\": \"Regular\"}, \"username\": \"choldgraf\"}, {\"id\": 11, \"likes_received\": 16, \"likes_given\": 78, \"topics_entered\": 261, \"topic_count\": 0, \"post_count\": 25, \"posts_read\": 1062, \"days_visited\": 86, \"user\": {\"id\": 11, \"username\": \"fomightez\", \"name\": \"Wayne\", \"avatar_template\": \"/user_avatar/discourse.jupyter.org/fomightez/{size}/495_2.png\", \"title\": null}, \"username\": \"fomightez\"}, {\"id\": 30, \"likes_received\": 15, \"likes_given\": 61, \"topics_entered\": 37, \"topic_count\": 3, \"post_count\": 10, \"posts_read\": 286, \"days_visited\": 59, \"user\": {\"id\": 30, \"username\": \"consideRatio\", \"name\": \"Erik Sundell\", \"avatar_template\": \"/user_avatar/discourse.jupyter.org/consideratio/{size}/1033_2.png\", \"title\": null}, \"username\": \"consideRatio\"}, {\"id\": 7, \"likes_received\": 26, \"likes_given\": 33, \"topics_entered\": 69, \"topic_count\": 0, \"post_count\": 16, \"posts_read\": 296, \"days_visited\": 40, \"user\": {\"id\": 7, \"username\": \"willingc\", \"name\": \"Carol Willing\", \"avatar_template\": \"/user_avatar/discourse.jupyter.org/willingc/{size}/11_2.png\", \"title\": null}, \"username\": \"willingc\"}, {\"id\": 73, \"likes_received\": 14, \"likes_given\": 31, \"topics_entered\": 288, \"topic_count\": 3, \"post_count\": 35, \"posts_read\": 1194, \"days_visited\": 70, \"user\": {\"id\": 73, \"username\": \"manics\", \"name\": \"Simon\", \"avatar_template\": \"/user_avatar/discourse.jupyter.org/manics/{size}/85_2.png\", \"title\": \"\", \"primary_group_name\": \"jupyterhub-team\"}, \"username\": \"manics\"}, {\"id\": 485, \"likes_received\": 2, \"likes_given\": 28, \"topics_entered\": 35, \"topic_count\": 0, \"post_count\": 10, \"posts_read\": 114, \"days_visited\": 21, \"user\": {\"id\": 485, \"username\": \"rolweber\", \"name\": \"Roland Weber\", \"avatar_template\": \"/user_avatar/discourse.jupyter.org/rolweber/{size}/657_2.png\", \"title\": null}, \"username\": \"rolweber\"}, {\"id\": 116, \"likes_received\": 22, \"likes_given\": 19, \"topics_entered\": 89, \"topic_count\": 1, \"post_count\": 19, \"posts_read\": 362, \"days_visited\": 86, \"user\": {\"id\": 116, \"username\": \"sgibson91\", \"name\": \"Sarah Gibson\", \"avatar_template\": \"/user_avatar/discourse.jupyter.org/sgibson91/{size}/487_2.png\", \"title\": \"\"}, \"username\": \"sgibson91\"}, {\"id\": 99, \"likes_received\": 16, \"likes_given\": 18, \"topics_entered\": 73, \"topic_count\": 4, \"post_count\": 14, \"posts_read\": 400, \"days_visited\": 59, \"user\": {\"id\": 99, \"username\": \"Zsailer\", \"name\": \"Zachary Sailer\", \"avatar_template\": \"/user_avatar/discourse.jupyter.org/zsailer/{size}/106_2.png\", \"title\": null}, \"username\": \"Zsailer\"}, {\"id\": 198, \"likes_received\": 8, \"likes_given\": 18, \"topics_entered\": 85, \"topic_count\": 1, \"post_count\": 16, \"posts_read\": 302, \"days_visited\": 21, \"user\": {\"id\": 198, \"username\": \"00Kai0\", \"name\": \"Kerwin Sun\", \"avatar_template\": \"/user_avatar/discourse.jupyter.org/00kai0/{size}/1144_2.png\", \"title\": null}, \"username\": \"00Kai0\"}, {\"id\": 217, \"likes_received\": 10, \"likes_given\": 17, \"topics_entered\": 34, \"topic_count\": 1, \"post_count\": 13, \"posts_read\": 136, \"days_visited\": 40, \"user\": {\"id\": 217, \"username\": \"kevin-bates\", \"name\": \"Kevin Bates\", \"avatar_template\": \"/user_avatar/discourse.jupyter.org/kevin-bates/{size}/234_2.png\", \"title\": null}, \"username\": \"kevin-bates\"}, {\"id\": 37, \"likes_received\": 6, \"likes_given\": 16, \"topics_entered\": 7, \"topic_count\": 1, \"post_count\": 15, \"posts_read\": 41, \"days_visited\": 14, \"user\": {\"id\": 37, \"username\": \"ablekh\", \"name\": \"Aleksandr Blekh\", \"avatar_template\": \"/user_avatar/discourse.jupyter.org/ablekh/{size}/36_2.png\", \"title\": null}, \"username\": \"ablekh\"}, {\"id\": 303, \"likes_received\": 4, \"likes_given\": 10, \"topics_entered\": 119, \"topic_count\": 3, \"post_count\": 15, \"posts_read\": 546, \"days_visited\": 67, \"user\": {\"id\": 303, \"username\": \"ian-r-rose\", \"name\": \"Ian Rose\", \"avatar_template\": \"/user_avatar/discourse.jupyter.org/ian-r-rose/{size}/1119_2.png\", \"title\": null}, \"username\": \"ian-r-rose\"}, {\"id\": 164, \"likes_received\": 3, \"likes_given\": 10, \"topics_entered\": 37, \"topic_count\": 0, \"post_count\": 4, \"posts_read\": 157, \"days_visited\": 25, \"user\": {\"id\": 164, \"username\": \"Chico_Venancio\", \"name\": \"Chico Venancio\", \"avatar_template\": \"/user_avatar/discourse.jupyter.org/chico_venancio/{size}/216_2.png\", \"title\": null}, \"username\": \"Chico_Venancio\"}, {\"id\": 59, \"likes_received\": 13, \"likes_given\": 9, \"topics_entered\": 36, \"topic_count\": 0, \"post_count\": 11, \"posts_read\": 260, \"days_visited\": 48, \"user\": {\"id\": 59, \"username\": \"bitnik\", \"name\": \"Kenan Erdogan\", \"avatar_template\": \"/user_avatar/discourse.jupyter.org/bitnik/{size}/79_2.png\", \"title\": \"\"}, \"username\": \"bitnik\"}, {\"id\": 77, \"likes_received\": 7, \"likes_given\": 8, \"topics_entered\": 139, \"topic_count\": 0, \"post_count\": 6, \"posts_read\": 646, \"days_visited\": 72, \"user\": {\"id\": 77, \"username\": \"jtp\", \"name\": \"Jeremy Tuloup\", \"avatar_template\": \"/user_avatar/discourse.jupyter.org/jtp/{size}/882_2.png\", \"title\": \"\"}, \"username\": \"jtp\"}, {\"id\": 660, \"likes_received\": 1, \"likes_given\": 8, \"topics_entered\": 4, \"topic_count\": 0, \"post_count\": 5, \"posts_read\": 35, \"days_visited\": 16, \"user\": {\"id\": 660, \"username\": \"javag97\", \"name\": \"Javier Garcia\", \"avatar_template\": \"/user_avatar/discourse.jupyter.org/javag97/{size}/881_2.png\", \"title\": null}, \"username\": \"javag97\"}, {\"id\": 24, \"likes_received\": 7, \"likes_given\": 5, \"topics_entered\": 148, \"topic_count\": 2, \"post_count\": 5, \"posts_read\": 337, \"days_visited\": 47, \"user\": {\"id\": 24, \"username\": \"psychemedia\", \"name\": \"Tony Hirst\", \"avatar_template\": \"/user_avatar/discourse.jupyter.org/psychemedia/{size}/24_2.png\", \"title\": null}, \"username\": \"psychemedia\"}, {\"id\": 674, \"likes_received\": 6, \"likes_given\": 5, \"topics_entered\": 61, \"topic_count\": 4, \"post_count\": 11, \"posts_read\": 345, \"days_visited\": 46, \"user\": {\"id\": 674, \"username\": \"celine168\", \"name\": \"Celine L\", \"avatar_template\": \"https://avatars.discourse.org/v4/letter/c/ec9cab/{size}.png\", \"title\": null}, \"username\": \"celine168\"}, {\"id\": 8, \"likes_received\": 36, \"likes_given\": 5, \"topics_entered\": 56, \"topic_count\": 0, \"post_count\": 25, \"posts_read\": 263, \"days_visited\": 89, \"user\": {\"id\": 8, \"username\": \"minrk\", \"name\": \"Min RK\", \"avatar_template\": \"/user_avatar/discourse.jupyter.org/minrk/{size}/13_2.png\", \"title\": null}, \"username\": \"minrk\"}, {\"id\": 229, \"likes_received\": 5, \"likes_given\": 5, \"topics_entered\": 84, \"topic_count\": 0, \"post_count\": 10, \"posts_read\": 361, \"days_visited\": 57, \"user\": {\"id\": 229, \"username\": \"vidartf\", \"name\": \"Vidar Tonaas Fauske\", \"avatar_template\": \"/user_avatar/discourse.jupyter.org/vidartf/{size}/300_2.png\", \"title\": null}, \"username\": \"vidartf\"}, {\"id\": 904, \"likes_received\": 0, \"likes_given\": 5, \"topics_entered\": 15, \"topic_count\": 5, \"post_count\": 5, \"posts_read\": 50, \"days_visited\": 10, \"user\": {\"id\": 904, \"username\": \"louis-she\", \"name\": \"Chenglu\", \"avatar_template\": \"/user_avatar/discourse.jupyter.org/louis-she/{size}/1103_2.png\", \"title\": null}, \"username\": \"louis-she\"}, {\"id\": 72, \"likes_received\": 8, \"likes_given\": 4, \"topics_entered\": 45, \"topic_count\": 0, \"post_count\": 8, \"posts_read\": 286, \"days_visited\": 45, \"user\": {\"id\": 72, \"username\": \"arnim\", \"name\": \"Arnim Bleier\", \"avatar_template\": \"/user_avatar/discourse.jupyter.org/arnim/{size}/83_2.png\", \"title\": null}, \"username\": \"arnim\"}, {\"id\": 268, \"likes_received\": 11, \"likes_given\": 4, \"topics_entered\": 5, \"topic_count\": 0, \"post_count\": 12, \"posts_read\": 44, \"days_visited\": 27, \"user\": {\"id\": 268, \"username\": \"afshin\", \"name\": \"A. T. Darian\", \"avatar_template\": \"/user_avatar/discourse.jupyter.org/afshin/{size}/314_2.png\", \"title\": null}, \"username\": \"afshin\"}, {\"id\": 234, \"likes_received\": 25, \"likes_given\": 4, \"topics_entered\": 17, \"topic_count\": 2, \"post_count\": 9, \"posts_read\": 83, \"days_visited\": 22, \"user\": {\"id\": 234, \"username\": \"fmaussion\", \"name\": \"Fabien Maussion\", \"avatar_template\": \"/user_avatar/discourse.jupyter.org/fmaussion/{size}/390_2.png\", \"title\": null}, \"username\": \"fmaussion\"}, {\"id\": 831, \"likes_received\": 8, \"likes_given\": 3, \"topics_entered\": 14, \"topic_count\": 2, \"post_count\": 5, \"posts_read\": 32, \"days_visited\": 21, \"user\": {\"id\": 831, \"username\": \"reuven\", \"name\": \"Reuven M. Lerner\", \"avatar_template\": \"/user_avatar/discourse.jupyter.org/reuven/{size}/1036_2.png\", \"title\": null}, \"username\": \"reuven\"}, {\"id\": 679, \"likes_received\": 12, \"likes_given\": 3, \"topics_entered\": 23, \"topic_count\": 0, \"post_count\": 8, \"posts_read\": 166, \"days_visited\": 12, \"user\": {\"id\": 679, \"username\": \"bollwyvl\", \"name\": \"Nicholas Bollweg\", \"avatar_template\": \"/user_avatar/discourse.jupyter.org/bollwyvl/{size}/904_2.png\", \"title\": null}, \"username\": \"bollwyvl\"}, {\"id\": 121, \"likes_received\": 14, \"likes_given\": 3, \"topics_entered\": 11, \"topic_count\": 1, \"post_count\": 12, \"posts_read\": 77, \"days_visited\": 8, \"user\": {\"id\": 121, \"username\": \"hadim\", \"name\": \"\", \"avatar_template\": \"/user_avatar/discourse.jupyter.org/hadim/{size}/1180_2.png\", \"title\": null}, \"username\": \"hadim\"}, {\"id\": 771, \"likes_received\": 13, \"likes_given\": 3, \"topics_entered\": 4, \"topic_count\": 0, \"post_count\": 7, \"posts_read\": 69, \"days_visited\": 7, \"user\": {\"id\": 771, \"username\": \"sarasrking\", \"name\": \"Sara King\", \"avatar_template\": \"https://avatars.discourse.org/v4/letter/s/d78d45/{size}.png\", \"title\": null}, \"username\": \"sarasrking\"}, {\"id\": 1005, \"likes_received\": 8, \"likes_given\": 3, \"topics_entered\": 9, \"topic_count\": 3, \"post_count\": 5, \"posts_read\": 45, \"days_visited\": 6, \"user\": {\"id\": 1005, \"username\": \"V-Talbot\", \"name\": \"\", \"avatar_template\": \"/user_avatar/discourse.jupyter.org/v-talbot/{size}/1195_2.png\", \"title\": null}, \"username\": \"V-Talbot\"}, {\"id\": 926, \"likes_received\": 4, \"likes_given\": 2, \"topics_entered\": 8, \"topic_count\": 2, \"post_count\": 4, \"posts_read\": 15, \"days_visited\": 9, \"user\": {\"id\": 926, \"username\": \"pablobernabeu\", \"name\": \"Pablo Bernabeu\", \"avatar_template\": \"/user_avatar/discourse.jupyter.org/pablobernabeu/{size}/1126_2.png\", \"title\": null}, \"username\": \"pablobernabeu\"}, {\"id\": 222, \"likes_received\": 9, \"likes_given\": 2, \"topics_entered\": 3, \"topic_count\": 0, \"post_count\": 5, \"posts_read\": 46, \"days_visited\": 31, \"user\": {\"id\": 222, \"username\": \"tgeorgeux\", \"name\": \"Timothy George\", \"avatar_template\": \"https://avatars.discourse.org/v4/letter/t/f05b48/{size}.png\", \"title\": null}, \"username\": \"tgeorgeux\"}, {\"id\": 34, \"likes_received\": 6, \"likes_given\": 2, \"topics_entered\": 8, \"topic_count\": 0, \"post_count\": 4, \"posts_read\": 53, \"days_visited\": 18, \"user\": {\"id\": 34, \"username\": \"danielballan\", \"name\": \"Dan Allan\", \"avatar_template\": \"/user_avatar/discourse.jupyter.org/danielballan/{size}/34_2.png\", \"title\": null}, \"username\": \"danielballan\"}, {\"id\": 1004, \"likes_received\": 0, \"likes_given\": 2, \"topics_entered\": 8, \"topic_count\": 1, \"post_count\": 7, \"posts_read\": 29, \"days_visited\": 6, \"user\": {\"id\": 1004, \"username\": \"2ndworld\", \"name\": \"\", \"avatar_template\": \"https://avatars.discourse.org/v4/letter/2/c89c15/{size}.png\", \"title\": null}, \"username\": \"2ndworld\"}, {\"id\": 737, \"likes_received\": 2, \"likes_given\": 2, \"topics_entered\": 43, \"topic_count\": 2, \"post_count\": 8, \"posts_read\": 137, \"days_visited\": 23, \"user\": {\"id\": 737, \"username\": \"geirfreysson\", \"name\": \"Geir Freysson\", \"avatar_template\": \"/user_avatar/discourse.jupyter.org/geirfreysson/{size}/952_2.png\", \"title\": null}, \"username\": \"geirfreysson\"}, {\"id\": 220, \"likes_received\": 20, \"likes_given\": 2, \"topics_entered\": 72, \"topic_count\": 0, \"post_count\": 53, \"posts_read\": 337, \"days_visited\": 51, \"user\": {\"id\": 220, \"username\": \"jasongrout\", \"name\": \"Jason Grout\", \"avatar_template\": \"/user_avatar/discourse.jupyter.org/jasongrout/{size}/371_2.png\", \"title\": null}, \"username\": \"jasongrout\"}, {\"id\": 590, \"likes_received\": 1, \"likes_given\": 1, \"topics_entered\": 20, \"topic_count\": 2, \"post_count\": 8, \"posts_read\": 109, \"days_visited\": 25, \"user\": {\"id\": 590, \"username\": \"nscozzaro\", \"name\": \"Nicolas Scozzaro\", \"avatar_template\": \"/user_avatar/discourse.jupyter.org/nscozzaro/{size}/804_2.png\", \"title\": null}, \"username\": \"nscozzaro\"}, {\"id\": 834, \"likes_received\": 0, \"likes_given\": 0, \"topics_entered\": 9, \"topic_count\": 1, \"post_count\": 5, \"posts_read\": 27, \"days_visited\": 2, \"user\": {\"id\": 834, \"username\": \"khz_dong\", \"name\": \"Dong\", \"avatar_template\": \"/user_avatar/discourse.jupyter.org/khz_dong/{size}/1040_2.png\", \"title\": null}, \"username\": \"khz_dong\"}, {\"id\": 959, \"likes_received\": 0, \"likes_given\": 0, \"topics_entered\": 13, \"topic_count\": 0, \"post_count\": 4, \"posts_read\": 51, \"days_visited\": 7, \"user\": {\"id\": 959, \"username\": \"scho\", \"name\": \"David Schofield\", \"avatar_template\": \"/user_avatar/discourse.jupyter.org/scho/{size}/1162_2.png\", \"title\": null}, \"username\": \"scho\"}, {\"id\": 886, \"likes_received\": 0, \"likes_given\": 0, \"topics_entered\": 9, \"topic_count\": 1, \"post_count\": 4, \"posts_read\": 55, \"days_visited\": 8, \"user\": {\"id\": 886, \"username\": \"Bikash\", \"name\": \"Bikash Roy Choudhury\", \"avatar_template\": \"/user_avatar/discourse.jupyter.org/bikash/{size}/1084_2.png\", \"title\": null}, \"username\": \"Bikash\"}, {\"id\": 874, \"likes_received\": 0, \"likes_given\": 0, \"topics_entered\": 4, \"topic_count\": 1, \"post_count\": 4, \"posts_read\": 12, \"days_visited\": 3, \"user\": {\"id\": 874, \"username\": \"hiram\", \"name\": \"Hiram Foster\", \"avatar_template\": \"https://avatars.discourse.org/v4/letter/h/838e76/{size}.png\", \"title\": null}, \"username\": \"hiram\"}, {\"id\": 761, \"likes_received\": 0, \"likes_given\": 0, \"topics_entered\": 5, \"topic_count\": 1, \"post_count\": 4, \"posts_read\": 10, \"days_visited\": 6, \"user\": {\"id\": 761, \"username\": \"alston\", \"name\": \"\", \"avatar_template\": \"https://avatars.discourse.org/v4/letter/a/ec9cab/{size}.png\", \"title\": null}, \"username\": \"alston\"}, {\"id\": 747, \"likes_received\": 3, \"likes_given\": 0, \"topics_entered\": 19, \"topic_count\": 4, \"post_count\": 11, \"posts_read\": 132, \"days_visited\": 28, \"user\": {\"id\": 747, \"username\": \"RSchauf\", \"name\": \"\", \"avatar_template\": \"/user_avatar/discourse.jupyter.org/rschauf/{size}/1188_2.png\", \"title\": \"\"}, \"username\": \"RSchauf\"}, {\"id\": 731, \"likes_received\": 1, \"likes_given\": 0, \"topics_entered\": 6, \"topic_count\": 1, \"post_count\": 5, \"posts_read\": 18, \"days_visited\": 24, \"user\": {\"id\": 731, \"username\": \"makaylas\", \"name\": \"Makayla Shepherd\", \"avatar_template\": \"https://avatars.discourse.org/v4/letter/m/ed8c4c/{size}.png\", \"title\": null}, \"username\": \"makaylas\"}, {\"id\": 803, \"likes_received\": 4, \"likes_given\": 0, \"topics_entered\": 11, \"topic_count\": 1, \"post_count\": 6, \"posts_read\": 45, \"days_visited\": 4, \"user\": {\"id\": 803, \"username\": \"richcranney\", \"name\": \"\", \"avatar_template\": \"https://avatars.discourse.org/v4/letter/r/a698b9/{size}.png\", \"title\": null}, \"username\": \"richcranney\"}, {\"id\": 655, \"likes_received\": 4, \"likes_given\": 0, \"topics_entered\": 15, \"topic_count\": 1, \"post_count\": 5, \"posts_read\": 56, \"days_visited\": 25, \"user\": {\"id\": 655, \"username\": \"joshuazeltser\", \"name\": \"Joshua Zeltser\", \"avatar_template\": \"/user_avatar/discourse.jupyter.org/joshuazeltser/{size}/1006_2.png\", \"title\": null}, \"username\": \"joshuazeltser\"}, {\"id\": 412, \"likes_received\": 0, \"likes_given\": 0, \"topics_entered\": 3, \"topic_count\": 0, \"post_count\": 6, \"posts_read\": 31, \"days_visited\": 7, \"user\": {\"id\": 412, \"username\": \"Leonard_Nelson\", \"name\": \"Leonard Nelson\", \"avatar_template\": \"/user_avatar/discourse.jupyter.org/leonard_nelson/{size}/1030_2.png\", \"title\": \"\"}, \"username\": \"Leonard_Nelson\"}, {\"id\": 920, \"likes_received\": 1, \"likes_given\": 0, \"topics_entered\": 72, \"topic_count\": 2, \"post_count\": 6, \"posts_read\": 295, \"days_visited\": 8, \"user\": {\"id\": 920, \"username\": \"andreasplesch\", \"name\": \"Andreas Plesch\", \"avatar_template\": \"/user_avatar/discourse.jupyter.org/andreasplesch/{size}/1120_2.png\", \"title\": null}, \"username\": \"andreasplesch\"}, {\"id\": 570, \"likes_received\": 5, \"likes_given\": 0, \"topics_entered\": 3, \"topic_count\": 0, \"post_count\": 5, \"posts_read\": 50, \"days_visited\": 28, \"user\": {\"id\": 570, \"username\": \"rkdarst\", \"name\": \"Richard Darst\", \"avatar_template\": \"/user_avatar/discourse.jupyter.org/rkdarst/{size}/1003_2.png\", \"title\": null}, \"username\": \"rkdarst\"}, {\"id\": 884, \"likes_received\": 2, \"likes_given\": 0, \"topics_entered\": 41, \"topic_count\": 7, \"post_count\": 8, \"posts_read\": 190, \"days_visited\": 25, \"user\": {\"id\": 884, \"username\": \"Michiel\", \"name\": \"Michiel\", \"avatar_template\": \"/user_avatar/discourse.jupyter.org/michiel/{size}/1082_2.png\", \"title\": null}, \"username\": \"Michiel\"}]}};\n",
       "      var embedOpt = {\"mode\": \"vega-lite\"};\n",
       "\n",
       "      function showError(el, error){\n",
       "          el.innerHTML = ('<div class=\"error\" style=\"color:red;\">'\n",
       "                          + '<p>JavaScript Error: ' + error.message + '</p>'\n",
       "                          + \"<p>This usually means there's a typo in your chart specification. \"\n",
       "                          + \"See the javascript console for the full traceback.</p>\"\n",
       "                          + '</div>');\n",
       "          throw error;\n",
       "      }\n",
       "      const el = document.getElementById('altair-viz-4');\n",
       "      vegaEmbed(\"#altair-viz-4\", spec, embedOpt)\n",
       "        .catch(error => showError(el, error));\n",
       "    });\n",
       "\n",
       "  </script>"
      ],
      "text/plain": [
       "Chart({\n",
       "  data:       id  likes_received  likes_given  topics_entered  topic_count  \\\n",
       "  0      6             101          163             257            7   \n",
       "  2      3             103           86             102            9   \n",
       "  5     11              16           78             261            0   \n",
       "  18    30              15           61              37            3   \n",
       "  8      7              26           33              69            0   \n",
       "  3     73              14           31             288            3   \n",
       "  19   485               2           28              35            0   \n",
       "  6    116              22           19              89            1   \n",
       "  11    99              16           18              73            4   \n",
       "  7    198               8           18              85            1   \n",
       "  12   217              10           17              34            1   \n",
       "  9     37               6           16               7            1   \n",
       "  10   303               4           10             119            3   \n",
       "  47   164               3           10              37            0   \n",
       "  16    59              13            9              36            0   \n",
       "  32    77               7            8             139            0   \n",
       "  42   660               1            8               4            0   \n",
       "  41    24               7            5             148            2   \n",
       "  17   674               6            5              61            4   \n",
       "  4      8              36            5              56            0   \n",
       "  20   229               5            5              84            0   \n",
       "  37   904               0            5              15            5   \n",
       "  25    72               8            4              45            0   \n",
       "  14   268              11            4               5            0   \n",
       "  21   234              25            4              17            2   \n",
       "  36   831               8            3              14            2   \n",
       "  24   679              12            3              23            0   \n",
       "  13   121              14            3              11            1   \n",
       "  27   771              13            3               4            0   \n",
       "  38  1005               8            3               9            3   \n",
       "  45   926               4            2               8            2   \n",
       "  40   222               9            2               3            0   \n",
       "  49    34               6            2               8            0   \n",
       "  28  1004               0            2               8            1   \n",
       "  22   737               2            2              43            2   \n",
       "  1    220              20            2              72            0   \n",
       "  26   590               1            1              20            2   \n",
       "  33   834               0            0               9            1   \n",
       "  48   959               0            0              13            0   \n",
       "  46   886               0            0               9            1   \n",
       "  44   874               0            0               4            1   \n",
       "  43   761               0            0               5            1   \n",
       "  15   747               3            0              19            4   \n",
       "  34   731               1            0               6            1   \n",
       "  29   803               4            0              11            1   \n",
       "  39   655               4            0              15            1   \n",
       "  30   412               0            0               3            0   \n",
       "  31   920               1            0              72            2   \n",
       "  35   570               5            0               3            0   \n",
       "  23   884               2            0              41            7   \n",
       "  \n",
       "      post_count  posts_read  days_visited  \\\n",
       "  0          104         951            86   \n",
       "  2           50         473            77   \n",
       "  5           25        1062            86   \n",
       "  18          10         286            59   \n",
       "  8           16         296            40   \n",
       "  3           35        1194            70   \n",
       "  19          10         114            21   \n",
       "  6           19         362            86   \n",
       "  11          14         400            59   \n",
       "  7           16         302            21   \n",
       "  12          13         136            40   \n",
       "  9           15          41            14   \n",
       "  10          15         546            67   \n",
       "  47           4         157            25   \n",
       "  16          11         260            48   \n",
       "  32           6         646            72   \n",
       "  42           5          35            16   \n",
       "  41           5         337            47   \n",
       "  17          11         345            46   \n",
       "  4           25         263            89   \n",
       "  20          10         361            57   \n",
       "  37           5          50            10   \n",
       "  25           8         286            45   \n",
       "  14          12          44            27   \n",
       "  21           9          83            22   \n",
       "  36           5          32            21   \n",
       "  24           8         166            12   \n",
       "  13          12          77             8   \n",
       "  27           7          69             7   \n",
       "  38           5          45             6   \n",
       "  45           4          15             9   \n",
       "  40           5          46            31   \n",
       "  49           4          53            18   \n",
       "  28           7          29             6   \n",
       "  22           8         137            23   \n",
       "  1           53         337            51   \n",
       "  26           8         109            25   \n",
       "  33           5          27             2   \n",
       "  48           4          51             7   \n",
       "  46           4          55             8   \n",
       "  44           4          12             3   \n",
       "  43           4          10             6   \n",
       "  15          11         132            28   \n",
       "  34           5          18            24   \n",
       "  29           6          45             4   \n",
       "  39           5          56            25   \n",
       "  30           6          31             7   \n",
       "  31           6         295             8   \n",
       "  35           5          50            28   \n",
       "  23           8         190            25   \n",
       "  \n",
       "                                                   user        username  \n",
       "  0   {'id': 6, 'username': 'betatim', 'name': 'Tim ...         betatim  \n",
       "  2   {'id': 3, 'username': 'choldgraf', 'name': 'Ch...       choldgraf  \n",
       "  5   {'id': 11, 'username': 'fomightez', 'name': 'W...       fomightez  \n",
       "  18  {'id': 30, 'username': 'consideRatio', 'name':...    consideRatio  \n",
       "  8   {'id': 7, 'username': 'willingc', 'name': 'Car...        willingc  \n",
       "  3   {'id': 73, 'username': 'manics', 'name': 'Simo...          manics  \n",
       "  19  {'id': 485, 'username': 'rolweber', 'name': 'R...        rolweber  \n",
       "  6   {'id': 116, 'username': 'sgibson91', 'name': '...       sgibson91  \n",
       "  11  {'id': 99, 'username': 'Zsailer', 'name': 'Zac...         Zsailer  \n",
       "  7   {'id': 198, 'username': '00Kai0', 'name': 'Ker...          00Kai0  \n",
       "  12  {'id': 217, 'username': 'kevin-bates', 'name':...     kevin-bates  \n",
       "  9   {'id': 37, 'username': 'ablekh', 'name': 'Alek...          ablekh  \n",
       "  10  {'id': 303, 'username': 'ian-r-rose', 'name': ...      ian-r-rose  \n",
       "  47  {'id': 164, 'username': 'Chico_Venancio', 'nam...  Chico_Venancio  \n",
       "  16  {'id': 59, 'username': 'bitnik', 'name': 'Kena...          bitnik  \n",
       "  32  {'id': 77, 'username': 'jtp', 'name': 'Jeremy ...             jtp  \n",
       "  42  {'id': 660, 'username': 'javag97', 'name': 'Ja...         javag97  \n",
       "  41  {'id': 24, 'username': 'psychemedia', 'name': ...     psychemedia  \n",
       "  17  {'id': 674, 'username': 'celine168', 'name': '...       celine168  \n",
       "  4   {'id': 8, 'username': 'minrk', 'name': 'Min RK...           minrk  \n",
       "  20  {'id': 229, 'username': 'vidartf', 'name': 'Vi...         vidartf  \n",
       "  37  {'id': 904, 'username': 'louis-she', 'name': '...       louis-she  \n",
       "  25  {'id': 72, 'username': 'arnim', 'name': 'Arnim...           arnim  \n",
       "  14  {'id': 268, 'username': 'afshin', 'name': 'A. ...          afshin  \n",
       "  21  {'id': 234, 'username': 'fmaussion', 'name': '...       fmaussion  \n",
       "  36  {'id': 831, 'username': 'reuven', 'name': 'Reu...          reuven  \n",
       "  24  {'id': 679, 'username': 'bollwyvl', 'name': 'N...        bollwyvl  \n",
       "  13  {'id': 121, 'username': 'hadim', 'name': '', '...           hadim  \n",
       "  27  {'id': 771, 'username': 'sarasrking', 'name': ...      sarasrking  \n",
       "  38  {'id': 1005, 'username': 'V-Talbot', 'name': '...        V-Talbot  \n",
       "  45  {'id': 926, 'username': 'pablobernabeu', 'name...   pablobernabeu  \n",
       "  40  {'id': 222, 'username': 'tgeorgeux', 'name': '...       tgeorgeux  \n",
       "  49  {'id': 34, 'username': 'danielballan', 'name':...    danielballan  \n",
       "  28  {'id': 1004, 'username': '2ndworld', 'name': '...        2ndworld  \n",
       "  22  {'id': 737, 'username': 'geirfreysson', 'name'...    geirfreysson  \n",
       "  1   {'id': 220, 'username': 'jasongrout', 'name': ...      jasongrout  \n",
       "  26  {'id': 590, 'username': 'nscozzaro', 'name': '...       nscozzaro  \n",
       "  33  {'id': 834, 'username': 'khz_dong', 'name': 'D...        khz_dong  \n",
       "  48  {'id': 959, 'username': 'scho', 'name': 'David...            scho  \n",
       "  46  {'id': 886, 'username': 'Bikash', 'name': 'Bik...          Bikash  \n",
       "  44  {'id': 874, 'username': 'hiram', 'name': 'Hira...           hiram  \n",
       "  43  {'id': 761, 'username': 'alston', 'name': '', ...          alston  \n",
       "  15  {'id': 747, 'username': 'RSchauf', 'name': '',...         RSchauf  \n",
       "  34  {'id': 731, 'username': 'makaylas', 'name': 'M...        makaylas  \n",
       "  29  {'id': 803, 'username': 'richcranney', 'name':...     richcranney  \n",
       "  39  {'id': 655, 'username': 'joshuazeltser', 'name...   joshuazeltser  \n",
       "  30  {'id': 412, 'username': 'Leonard_Nelson', 'nam...  Leonard_Nelson  \n",
       "  31  {'id': 920, 'username': 'andreasplesch', 'name...   andreasplesch  \n",
       "  35  {'id': 570, 'username': 'rkdarst', 'name': 'Ri...         rkdarst  \n",
       "  23  {'id': 884, 'username': 'Michiel', 'name': 'Mi...         Michiel  ,\n",
       "  encoding: FacetedEncoding({\n",
       "    x: X({\n",
       "      field: 'username',\n",
       "      type: 'nominal'\n",
       "    }),\n",
       "    y: Y({\n",
       "      field: 'likes_given',\n",
       "      type: 'quantitative'\n",
       "    })\n",
       "  }),\n",
       "  mark: 'bar'\n",
       "})"
      ]
     },
     "execution_count": 17,
     "metadata": {},
     "output_type": "execute_result"
    }
   ],
   "source": [
    "plot_user_data(users.head(50), 'likes_given')"
   ]
  },
  {
   "cell_type": "markdown",
   "metadata": {
    "papermill": {
     "duration": 0.032562,
     "end_time": "2019-10-23T04:54:34.708901",
     "exception": false,
     "start_time": "2019-10-23T04:54:34.676339",
     "status": "completed"
    },
    "tags": []
   },
   "source": [
    "**Forum users, sorted by likes received**\n",
    "\n",
    "These are folks that posted things other people in the Community Forum liked."
   ]
  },
  {
   "cell_type": "code",
   "execution_count": 18,
   "metadata": {
    "papermill": {
     "duration": 0.097807,
     "end_time": "2019-10-23T04:54:34.835473",
     "exception": false,
     "start_time": "2019-10-23T04:54:34.737666",
     "status": "completed"
    },
    "tags": []
   },
   "outputs": [
    {
     "data": {
      "text/html": [
       "\n",
       "  <style>\n",
       "    .vega-actions a {\n",
       "        margin-right: 12px;\n",
       "        color: #757575;\n",
       "        font-weight: normal;\n",
       "        font-size: 13px;\n",
       "    }\n",
       "    .error {\n",
       "        color: red;\n",
       "    }\n",
       "  </style>\n",
       "  <div id=\"altair-viz-5\"></div>\n",
       "  <script>\n",
       "    requirejs.config({\n",
       "        \"paths\": {\n",
       "            \"vega\": \"https://cdn.jsdelivr.net/npm//vega@5?noext\",\n",
       "            \"vega-lib\": \"https://cdn.jsdelivr.net/npm//vega-lib?noext\",\n",
       "            \"vega-lite\": \"https://cdn.jsdelivr.net/npm//vega-lite@3.3.0?noext\",\n",
       "            \"vega-embed\": \"https://cdn.jsdelivr.net/npm//vega-embed@4?noext\",\n",
       "        }\n",
       "    });\n",
       "    require(['vega-embed'], function(vegaEmbed){\n",
       "      var spec = {\"config\": {\"axisLeft\": {\"labelFontSize\": 15}, \"axisBottom\": {\"labelFontSize\": 15}}, \"data\": {\"name\": \"data-e2fad1513f00d14ade98b08b8e052662\"}, \"mark\": \"bar\", \"encoding\": {\"x\": {\"type\": \"nominal\", \"field\": \"username\"}, \"y\": {\"type\": \"quantitative\", \"field\": \"likes_received\"}}, \"$schema\": \"https://vega.github.io/schema/vega-lite/v3.3.0.json\", \"datasets\": {\"data-e2fad1513f00d14ade98b08b8e052662\": [{\"id\": 3, \"likes_received\": 103, \"likes_given\": 86, \"topics_entered\": 102, \"topic_count\": 9, \"post_count\": 50, \"posts_read\": 473, \"days_visited\": 77, \"user\": {\"id\": 3, \"username\": \"choldgraf\", \"name\": \"Chris Holdgraf\", \"avatar_template\": \"/user_avatar/discourse.jupyter.org/choldgraf/{size}/12_2.png\", \"title\": \"Regular\"}, \"username\": \"choldgraf\"}, {\"id\": 6, \"likes_received\": 101, \"likes_given\": 163, \"topics_entered\": 257, \"topic_count\": 7, \"post_count\": 104, \"posts_read\": 951, \"days_visited\": 86, \"user\": {\"id\": 6, \"username\": \"betatim\", \"name\": \"Tim Head\", \"avatar_template\": \"/user_avatar/discourse.jupyter.org/betatim/{size}/10_2.png\", \"title\": \"\"}, \"username\": \"betatim\"}, {\"id\": 8, \"likes_received\": 36, \"likes_given\": 5, \"topics_entered\": 56, \"topic_count\": 0, \"post_count\": 25, \"posts_read\": 263, \"days_visited\": 89, \"user\": {\"id\": 8, \"username\": \"minrk\", \"name\": \"Min RK\", \"avatar_template\": \"/user_avatar/discourse.jupyter.org/minrk/{size}/13_2.png\", \"title\": null}, \"username\": \"minrk\"}, {\"id\": 7, \"likes_received\": 26, \"likes_given\": 33, \"topics_entered\": 69, \"topic_count\": 0, \"post_count\": 16, \"posts_read\": 296, \"days_visited\": 40, \"user\": {\"id\": 7, \"username\": \"willingc\", \"name\": \"Carol Willing\", \"avatar_template\": \"/user_avatar/discourse.jupyter.org/willingc/{size}/11_2.png\", \"title\": null}, \"username\": \"willingc\"}, {\"id\": 234, \"likes_received\": 25, \"likes_given\": 4, \"topics_entered\": 17, \"topic_count\": 2, \"post_count\": 9, \"posts_read\": 83, \"days_visited\": 22, \"user\": {\"id\": 234, \"username\": \"fmaussion\", \"name\": \"Fabien Maussion\", \"avatar_template\": \"/user_avatar/discourse.jupyter.org/fmaussion/{size}/390_2.png\", \"title\": null}, \"username\": \"fmaussion\"}, {\"id\": 116, \"likes_received\": 22, \"likes_given\": 19, \"topics_entered\": 89, \"topic_count\": 1, \"post_count\": 19, \"posts_read\": 362, \"days_visited\": 86, \"user\": {\"id\": 116, \"username\": \"sgibson91\", \"name\": \"Sarah Gibson\", \"avatar_template\": \"/user_avatar/discourse.jupyter.org/sgibson91/{size}/487_2.png\", \"title\": \"\"}, \"username\": \"sgibson91\"}, {\"id\": 220, \"likes_received\": 20, \"likes_given\": 2, \"topics_entered\": 72, \"topic_count\": 0, \"post_count\": 53, \"posts_read\": 337, \"days_visited\": 51, \"user\": {\"id\": 220, \"username\": \"jasongrout\", \"name\": \"Jason Grout\", \"avatar_template\": \"/user_avatar/discourse.jupyter.org/jasongrout/{size}/371_2.png\", \"title\": null}, \"username\": \"jasongrout\"}, {\"id\": 11, \"likes_received\": 16, \"likes_given\": 78, \"topics_entered\": 261, \"topic_count\": 0, \"post_count\": 25, \"posts_read\": 1062, \"days_visited\": 86, \"user\": {\"id\": 11, \"username\": \"fomightez\", \"name\": \"Wayne\", \"avatar_template\": \"/user_avatar/discourse.jupyter.org/fomightez/{size}/495_2.png\", \"title\": null}, \"username\": \"fomightez\"}, {\"id\": 99, \"likes_received\": 16, \"likes_given\": 18, \"topics_entered\": 73, \"topic_count\": 4, \"post_count\": 14, \"posts_read\": 400, \"days_visited\": 59, \"user\": {\"id\": 99, \"username\": \"Zsailer\", \"name\": \"Zachary Sailer\", \"avatar_template\": \"/user_avatar/discourse.jupyter.org/zsailer/{size}/106_2.png\", \"title\": null}, \"username\": \"Zsailer\"}, {\"id\": 30, \"likes_received\": 15, \"likes_given\": 61, \"topics_entered\": 37, \"topic_count\": 3, \"post_count\": 10, \"posts_read\": 286, \"days_visited\": 59, \"user\": {\"id\": 30, \"username\": \"consideRatio\", \"name\": \"Erik Sundell\", \"avatar_template\": \"/user_avatar/discourse.jupyter.org/consideratio/{size}/1033_2.png\", \"title\": null}, \"username\": \"consideRatio\"}, {\"id\": 73, \"likes_received\": 14, \"likes_given\": 31, \"topics_entered\": 288, \"topic_count\": 3, \"post_count\": 35, \"posts_read\": 1194, \"days_visited\": 70, \"user\": {\"id\": 73, \"username\": \"manics\", \"name\": \"Simon\", \"avatar_template\": \"/user_avatar/discourse.jupyter.org/manics/{size}/85_2.png\", \"title\": \"\", \"primary_group_name\": \"jupyterhub-team\"}, \"username\": \"manics\"}, {\"id\": 121, \"likes_received\": 14, \"likes_given\": 3, \"topics_entered\": 11, \"topic_count\": 1, \"post_count\": 12, \"posts_read\": 77, \"days_visited\": 8, \"user\": {\"id\": 121, \"username\": \"hadim\", \"name\": \"\", \"avatar_template\": \"/user_avatar/discourse.jupyter.org/hadim/{size}/1180_2.png\", \"title\": null}, \"username\": \"hadim\"}, {\"id\": 771, \"likes_received\": 13, \"likes_given\": 3, \"topics_entered\": 4, \"topic_count\": 0, \"post_count\": 7, \"posts_read\": 69, \"days_visited\": 7, \"user\": {\"id\": 771, \"username\": \"sarasrking\", \"name\": \"Sara King\", \"avatar_template\": \"https://avatars.discourse.org/v4/letter/s/d78d45/{size}.png\", \"title\": null}, \"username\": \"sarasrking\"}, {\"id\": 59, \"likes_received\": 13, \"likes_given\": 9, \"topics_entered\": 36, \"topic_count\": 0, \"post_count\": 11, \"posts_read\": 260, \"days_visited\": 48, \"user\": {\"id\": 59, \"username\": \"bitnik\", \"name\": \"Kenan Erdogan\", \"avatar_template\": \"/user_avatar/discourse.jupyter.org/bitnik/{size}/79_2.png\", \"title\": \"\"}, \"username\": \"bitnik\"}, {\"id\": 679, \"likes_received\": 12, \"likes_given\": 3, \"topics_entered\": 23, \"topic_count\": 0, \"post_count\": 8, \"posts_read\": 166, \"days_visited\": 12, \"user\": {\"id\": 679, \"username\": \"bollwyvl\", \"name\": \"Nicholas Bollweg\", \"avatar_template\": \"/user_avatar/discourse.jupyter.org/bollwyvl/{size}/904_2.png\", \"title\": null}, \"username\": \"bollwyvl\"}, {\"id\": 268, \"likes_received\": 11, \"likes_given\": 4, \"topics_entered\": 5, \"topic_count\": 0, \"post_count\": 12, \"posts_read\": 44, \"days_visited\": 27, \"user\": {\"id\": 268, \"username\": \"afshin\", \"name\": \"A. T. Darian\", \"avatar_template\": \"/user_avatar/discourse.jupyter.org/afshin/{size}/314_2.png\", \"title\": null}, \"username\": \"afshin\"}, {\"id\": 217, \"likes_received\": 10, \"likes_given\": 17, \"topics_entered\": 34, \"topic_count\": 1, \"post_count\": 13, \"posts_read\": 136, \"days_visited\": 40, \"user\": {\"id\": 217, \"username\": \"kevin-bates\", \"name\": \"Kevin Bates\", \"avatar_template\": \"/user_avatar/discourse.jupyter.org/kevin-bates/{size}/234_2.png\", \"title\": null}, \"username\": \"kevin-bates\"}, {\"id\": 222, \"likes_received\": 9, \"likes_given\": 2, \"topics_entered\": 3, \"topic_count\": 0, \"post_count\": 5, \"posts_read\": 46, \"days_visited\": 31, \"user\": {\"id\": 222, \"username\": \"tgeorgeux\", \"name\": \"Timothy George\", \"avatar_template\": \"https://avatars.discourse.org/v4/letter/t/f05b48/{size}.png\", \"title\": null}, \"username\": \"tgeorgeux\"}, {\"id\": 1005, \"likes_received\": 8, \"likes_given\": 3, \"topics_entered\": 9, \"topic_count\": 3, \"post_count\": 5, \"posts_read\": 45, \"days_visited\": 6, \"user\": {\"id\": 1005, \"username\": \"V-Talbot\", \"name\": \"\", \"avatar_template\": \"/user_avatar/discourse.jupyter.org/v-talbot/{size}/1195_2.png\", \"title\": null}, \"username\": \"V-Talbot\"}, {\"id\": 831, \"likes_received\": 8, \"likes_given\": 3, \"topics_entered\": 14, \"topic_count\": 2, \"post_count\": 5, \"posts_read\": 32, \"days_visited\": 21, \"user\": {\"id\": 831, \"username\": \"reuven\", \"name\": \"Reuven M. Lerner\", \"avatar_template\": \"/user_avatar/discourse.jupyter.org/reuven/{size}/1036_2.png\", \"title\": null}, \"username\": \"reuven\"}, {\"id\": 72, \"likes_received\": 8, \"likes_given\": 4, \"topics_entered\": 45, \"topic_count\": 0, \"post_count\": 8, \"posts_read\": 286, \"days_visited\": 45, \"user\": {\"id\": 72, \"username\": \"arnim\", \"name\": \"Arnim Bleier\", \"avatar_template\": \"/user_avatar/discourse.jupyter.org/arnim/{size}/83_2.png\", \"title\": null}, \"username\": \"arnim\"}, {\"id\": 198, \"likes_received\": 8, \"likes_given\": 18, \"topics_entered\": 85, \"topic_count\": 1, \"post_count\": 16, \"posts_read\": 302, \"days_visited\": 21, \"user\": {\"id\": 198, \"username\": \"00Kai0\", \"name\": \"Kerwin Sun\", \"avatar_template\": \"/user_avatar/discourse.jupyter.org/00kai0/{size}/1144_2.png\", \"title\": null}, \"username\": \"00Kai0\"}, {\"id\": 77, \"likes_received\": 7, \"likes_given\": 8, \"topics_entered\": 139, \"topic_count\": 0, \"post_count\": 6, \"posts_read\": 646, \"days_visited\": 72, \"user\": {\"id\": 77, \"username\": \"jtp\", \"name\": \"Jeremy Tuloup\", \"avatar_template\": \"/user_avatar/discourse.jupyter.org/jtp/{size}/882_2.png\", \"title\": \"\"}, \"username\": \"jtp\"}, {\"id\": 24, \"likes_received\": 7, \"likes_given\": 5, \"topics_entered\": 148, \"topic_count\": 2, \"post_count\": 5, \"posts_read\": 337, \"days_visited\": 47, \"user\": {\"id\": 24, \"username\": \"psychemedia\", \"name\": \"Tony Hirst\", \"avatar_template\": \"/user_avatar/discourse.jupyter.org/psychemedia/{size}/24_2.png\", \"title\": null}, \"username\": \"psychemedia\"}, {\"id\": 34, \"likes_received\": 6, \"likes_given\": 2, \"topics_entered\": 8, \"topic_count\": 0, \"post_count\": 4, \"posts_read\": 53, \"days_visited\": 18, \"user\": {\"id\": 34, \"username\": \"danielballan\", \"name\": \"Dan Allan\", \"avatar_template\": \"/user_avatar/discourse.jupyter.org/danielballan/{size}/34_2.png\", \"title\": null}, \"username\": \"danielballan\"}, {\"id\": 674, \"likes_received\": 6, \"likes_given\": 5, \"topics_entered\": 61, \"topic_count\": 4, \"post_count\": 11, \"posts_read\": 345, \"days_visited\": 46, \"user\": {\"id\": 674, \"username\": \"celine168\", \"name\": \"Celine L\", \"avatar_template\": \"https://avatars.discourse.org/v4/letter/c/ec9cab/{size}.png\", \"title\": null}, \"username\": \"celine168\"}, {\"id\": 37, \"likes_received\": 6, \"likes_given\": 16, \"topics_entered\": 7, \"topic_count\": 1, \"post_count\": 15, \"posts_read\": 41, \"days_visited\": 14, \"user\": {\"id\": 37, \"username\": \"ablekh\", \"name\": \"Aleksandr Blekh\", \"avatar_template\": \"/user_avatar/discourse.jupyter.org/ablekh/{size}/36_2.png\", \"title\": null}, \"username\": \"ablekh\"}, {\"id\": 229, \"likes_received\": 5, \"likes_given\": 5, \"topics_entered\": 84, \"topic_count\": 0, \"post_count\": 10, \"posts_read\": 361, \"days_visited\": 57, \"user\": {\"id\": 229, \"username\": \"vidartf\", \"name\": \"Vidar Tonaas Fauske\", \"avatar_template\": \"/user_avatar/discourse.jupyter.org/vidartf/{size}/300_2.png\", \"title\": null}, \"username\": \"vidartf\"}, {\"id\": 570, \"likes_received\": 5, \"likes_given\": 0, \"topics_entered\": 3, \"topic_count\": 0, \"post_count\": 5, \"posts_read\": 50, \"days_visited\": 28, \"user\": {\"id\": 570, \"username\": \"rkdarst\", \"name\": \"Richard Darst\", \"avatar_template\": \"/user_avatar/discourse.jupyter.org/rkdarst/{size}/1003_2.png\", \"title\": null}, \"username\": \"rkdarst\"}, {\"id\": 303, \"likes_received\": 4, \"likes_given\": 10, \"topics_entered\": 119, \"topic_count\": 3, \"post_count\": 15, \"posts_read\": 546, \"days_visited\": 67, \"user\": {\"id\": 303, \"username\": \"ian-r-rose\", \"name\": \"Ian Rose\", \"avatar_template\": \"/user_avatar/discourse.jupyter.org/ian-r-rose/{size}/1119_2.png\", \"title\": null}, \"username\": \"ian-r-rose\"}, {\"id\": 926, \"likes_received\": 4, \"likes_given\": 2, \"topics_entered\": 8, \"topic_count\": 2, \"post_count\": 4, \"posts_read\": 15, \"days_visited\": 9, \"user\": {\"id\": 926, \"username\": \"pablobernabeu\", \"name\": \"Pablo Bernabeu\", \"avatar_template\": \"/user_avatar/discourse.jupyter.org/pablobernabeu/{size}/1126_2.png\", \"title\": null}, \"username\": \"pablobernabeu\"}, {\"id\": 803, \"likes_received\": 4, \"likes_given\": 0, \"topics_entered\": 11, \"topic_count\": 1, \"post_count\": 6, \"posts_read\": 45, \"days_visited\": 4, \"user\": {\"id\": 803, \"username\": \"richcranney\", \"name\": \"\", \"avatar_template\": \"https://avatars.discourse.org/v4/letter/r/a698b9/{size}.png\", \"title\": null}, \"username\": \"richcranney\"}, {\"id\": 655, \"likes_received\": 4, \"likes_given\": 0, \"topics_entered\": 15, \"topic_count\": 1, \"post_count\": 5, \"posts_read\": 56, \"days_visited\": 25, \"user\": {\"id\": 655, \"username\": \"joshuazeltser\", \"name\": \"Joshua Zeltser\", \"avatar_template\": \"/user_avatar/discourse.jupyter.org/joshuazeltser/{size}/1006_2.png\", \"title\": null}, \"username\": \"joshuazeltser\"}, {\"id\": 747, \"likes_received\": 3, \"likes_given\": 0, \"topics_entered\": 19, \"topic_count\": 4, \"post_count\": 11, \"posts_read\": 132, \"days_visited\": 28, \"user\": {\"id\": 747, \"username\": \"RSchauf\", \"name\": \"\", \"avatar_template\": \"/user_avatar/discourse.jupyter.org/rschauf/{size}/1188_2.png\", \"title\": \"\"}, \"username\": \"RSchauf\"}, {\"id\": 164, \"likes_received\": 3, \"likes_given\": 10, \"topics_entered\": 37, \"topic_count\": 0, \"post_count\": 4, \"posts_read\": 157, \"days_visited\": 25, \"user\": {\"id\": 164, \"username\": \"Chico_Venancio\", \"name\": \"Chico Venancio\", \"avatar_template\": \"/user_avatar/discourse.jupyter.org/chico_venancio/{size}/216_2.png\", \"title\": null}, \"username\": \"Chico_Venancio\"}, {\"id\": 884, \"likes_received\": 2, \"likes_given\": 0, \"topics_entered\": 41, \"topic_count\": 7, \"post_count\": 8, \"posts_read\": 190, \"days_visited\": 25, \"user\": {\"id\": 884, \"username\": \"Michiel\", \"name\": \"Michiel\", \"avatar_template\": \"/user_avatar/discourse.jupyter.org/michiel/{size}/1082_2.png\", \"title\": null}, \"username\": \"Michiel\"}, {\"id\": 737, \"likes_received\": 2, \"likes_given\": 2, \"topics_entered\": 43, \"topic_count\": 2, \"post_count\": 8, \"posts_read\": 137, \"days_visited\": 23, \"user\": {\"id\": 737, \"username\": \"geirfreysson\", \"name\": \"Geir Freysson\", \"avatar_template\": \"/user_avatar/discourse.jupyter.org/geirfreysson/{size}/952_2.png\", \"title\": null}, \"username\": \"geirfreysson\"}, {\"id\": 485, \"likes_received\": 2, \"likes_given\": 28, \"topics_entered\": 35, \"topic_count\": 0, \"post_count\": 10, \"posts_read\": 114, \"days_visited\": 21, \"user\": {\"id\": 485, \"username\": \"rolweber\", \"name\": \"Roland Weber\", \"avatar_template\": \"/user_avatar/discourse.jupyter.org/rolweber/{size}/657_2.png\", \"title\": null}, \"username\": \"rolweber\"}, {\"id\": 590, \"likes_received\": 1, \"likes_given\": 1, \"topics_entered\": 20, \"topic_count\": 2, \"post_count\": 8, \"posts_read\": 109, \"days_visited\": 25, \"user\": {\"id\": 590, \"username\": \"nscozzaro\", \"name\": \"Nicolas Scozzaro\", \"avatar_template\": \"/user_avatar/discourse.jupyter.org/nscozzaro/{size}/804_2.png\", \"title\": null}, \"username\": \"nscozzaro\"}, {\"id\": 920, \"likes_received\": 1, \"likes_given\": 0, \"topics_entered\": 72, \"topic_count\": 2, \"post_count\": 6, \"posts_read\": 295, \"days_visited\": 8, \"user\": {\"id\": 920, \"username\": \"andreasplesch\", \"name\": \"Andreas Plesch\", \"avatar_template\": \"/user_avatar/discourse.jupyter.org/andreasplesch/{size}/1120_2.png\", \"title\": null}, \"username\": \"andreasplesch\"}, {\"id\": 731, \"likes_received\": 1, \"likes_given\": 0, \"topics_entered\": 6, \"topic_count\": 1, \"post_count\": 5, \"posts_read\": 18, \"days_visited\": 24, \"user\": {\"id\": 731, \"username\": \"makaylas\", \"name\": \"Makayla Shepherd\", \"avatar_template\": \"https://avatars.discourse.org/v4/letter/m/ed8c4c/{size}.png\", \"title\": null}, \"username\": \"makaylas\"}, {\"id\": 660, \"likes_received\": 1, \"likes_given\": 8, \"topics_entered\": 4, \"topic_count\": 0, \"post_count\": 5, \"posts_read\": 35, \"days_visited\": 16, \"user\": {\"id\": 660, \"username\": \"javag97\", \"name\": \"Javier Garcia\", \"avatar_template\": \"/user_avatar/discourse.jupyter.org/javag97/{size}/881_2.png\", \"title\": null}, \"username\": \"javag97\"}, {\"id\": 412, \"likes_received\": 0, \"likes_given\": 0, \"topics_entered\": 3, \"topic_count\": 0, \"post_count\": 6, \"posts_read\": 31, \"days_visited\": 7, \"user\": {\"id\": 412, \"username\": \"Leonard_Nelson\", \"name\": \"Leonard Nelson\", \"avatar_template\": \"/user_avatar/discourse.jupyter.org/leonard_nelson/{size}/1030_2.png\", \"title\": \"\"}, \"username\": \"Leonard_Nelson\"}, {\"id\": 959, \"likes_received\": 0, \"likes_given\": 0, \"topics_entered\": 13, \"topic_count\": 0, \"post_count\": 4, \"posts_read\": 51, \"days_visited\": 7, \"user\": {\"id\": 959, \"username\": \"scho\", \"name\": \"David Schofield\", \"avatar_template\": \"/user_avatar/discourse.jupyter.org/scho/{size}/1162_2.png\", \"title\": null}, \"username\": \"scho\"}, {\"id\": 886, \"likes_received\": 0, \"likes_given\": 0, \"topics_entered\": 9, \"topic_count\": 1, \"post_count\": 4, \"posts_read\": 55, \"days_visited\": 8, \"user\": {\"id\": 886, \"username\": \"Bikash\", \"name\": \"Bikash Roy Choudhury\", \"avatar_template\": \"/user_avatar/discourse.jupyter.org/bikash/{size}/1084_2.png\", \"title\": null}, \"username\": \"Bikash\"}, {\"id\": 834, \"likes_received\": 0, \"likes_given\": 0, \"topics_entered\": 9, \"topic_count\": 1, \"post_count\": 5, \"posts_read\": 27, \"days_visited\": 2, \"user\": {\"id\": 834, \"username\": \"khz_dong\", \"name\": \"Dong\", \"avatar_template\": \"/user_avatar/discourse.jupyter.org/khz_dong/{size}/1040_2.png\", \"title\": null}, \"username\": \"khz_dong\"}, {\"id\": 874, \"likes_received\": 0, \"likes_given\": 0, \"topics_entered\": 4, \"topic_count\": 1, \"post_count\": 4, \"posts_read\": 12, \"days_visited\": 3, \"user\": {\"id\": 874, \"username\": \"hiram\", \"name\": \"Hiram Foster\", \"avatar_template\": \"https://avatars.discourse.org/v4/letter/h/838e76/{size}.png\", \"title\": null}, \"username\": \"hiram\"}, {\"id\": 761, \"likes_received\": 0, \"likes_given\": 0, \"topics_entered\": 5, \"topic_count\": 1, \"post_count\": 4, \"posts_read\": 10, \"days_visited\": 6, \"user\": {\"id\": 761, \"username\": \"alston\", \"name\": \"\", \"avatar_template\": \"https://avatars.discourse.org/v4/letter/a/ec9cab/{size}.png\", \"title\": null}, \"username\": \"alston\"}, {\"id\": 904, \"likes_received\": 0, \"likes_given\": 5, \"topics_entered\": 15, \"topic_count\": 5, \"post_count\": 5, \"posts_read\": 50, \"days_visited\": 10, \"user\": {\"id\": 904, \"username\": \"louis-she\", \"name\": \"Chenglu\", \"avatar_template\": \"/user_avatar/discourse.jupyter.org/louis-she/{size}/1103_2.png\", \"title\": null}, \"username\": \"louis-she\"}, {\"id\": 1004, \"likes_received\": 0, \"likes_given\": 2, \"topics_entered\": 8, \"topic_count\": 1, \"post_count\": 7, \"posts_read\": 29, \"days_visited\": 6, \"user\": {\"id\": 1004, \"username\": \"2ndworld\", \"name\": \"\", \"avatar_template\": \"https://avatars.discourse.org/v4/letter/2/c89c15/{size}.png\", \"title\": null}, \"username\": \"2ndworld\"}]}};\n",
       "      var embedOpt = {\"mode\": \"vega-lite\"};\n",
       "\n",
       "      function showError(el, error){\n",
       "          el.innerHTML = ('<div class=\"error\" style=\"color:red;\">'\n",
       "                          + '<p>JavaScript Error: ' + error.message + '</p>'\n",
       "                          + \"<p>This usually means there's a typo in your chart specification. \"\n",
       "                          + \"See the javascript console for the full traceback.</p>\"\n",
       "                          + '</div>');\n",
       "          throw error;\n",
       "      }\n",
       "      const el = document.getElementById('altair-viz-5');\n",
       "      vegaEmbed(\"#altair-viz-5\", spec, embedOpt)\n",
       "        .catch(error => showError(el, error));\n",
       "    });\n",
       "\n",
       "  </script>"
      ],
      "text/plain": [
       "Chart({\n",
       "  data:       id  likes_received  likes_given  topics_entered  topic_count  \\\n",
       "  2      3             103           86             102            9   \n",
       "  0      6             101          163             257            7   \n",
       "  4      8              36            5              56            0   \n",
       "  8      7              26           33              69            0   \n",
       "  21   234              25            4              17            2   \n",
       "  6    116              22           19              89            1   \n",
       "  1    220              20            2              72            0   \n",
       "  5     11              16           78             261            0   \n",
       "  11    99              16           18              73            4   \n",
       "  18    30              15           61              37            3   \n",
       "  3     73              14           31             288            3   \n",
       "  13   121              14            3              11            1   \n",
       "  27   771              13            3               4            0   \n",
       "  16    59              13            9              36            0   \n",
       "  24   679              12            3              23            0   \n",
       "  14   268              11            4               5            0   \n",
       "  12   217              10           17              34            1   \n",
       "  40   222               9            2               3            0   \n",
       "  38  1005               8            3               9            3   \n",
       "  36   831               8            3              14            2   \n",
       "  25    72               8            4              45            0   \n",
       "  7    198               8           18              85            1   \n",
       "  32    77               7            8             139            0   \n",
       "  41    24               7            5             148            2   \n",
       "  49    34               6            2               8            0   \n",
       "  17   674               6            5              61            4   \n",
       "  9     37               6           16               7            1   \n",
       "  20   229               5            5              84            0   \n",
       "  35   570               5            0               3            0   \n",
       "  10   303               4           10             119            3   \n",
       "  45   926               4            2               8            2   \n",
       "  29   803               4            0              11            1   \n",
       "  39   655               4            0              15            1   \n",
       "  15   747               3            0              19            4   \n",
       "  47   164               3           10              37            0   \n",
       "  23   884               2            0              41            7   \n",
       "  22   737               2            2              43            2   \n",
       "  19   485               2           28              35            0   \n",
       "  26   590               1            1              20            2   \n",
       "  31   920               1            0              72            2   \n",
       "  34   731               1            0               6            1   \n",
       "  42   660               1            8               4            0   \n",
       "  30   412               0            0               3            0   \n",
       "  48   959               0            0              13            0   \n",
       "  46   886               0            0               9            1   \n",
       "  33   834               0            0               9            1   \n",
       "  44   874               0            0               4            1   \n",
       "  43   761               0            0               5            1   \n",
       "  37   904               0            5              15            5   \n",
       "  28  1004               0            2               8            1   \n",
       "  \n",
       "      post_count  posts_read  days_visited  \\\n",
       "  2           50         473            77   \n",
       "  0          104         951            86   \n",
       "  4           25         263            89   \n",
       "  8           16         296            40   \n",
       "  21           9          83            22   \n",
       "  6           19         362            86   \n",
       "  1           53         337            51   \n",
       "  5           25        1062            86   \n",
       "  11          14         400            59   \n",
       "  18          10         286            59   \n",
       "  3           35        1194            70   \n",
       "  13          12          77             8   \n",
       "  27           7          69             7   \n",
       "  16          11         260            48   \n",
       "  24           8         166            12   \n",
       "  14          12          44            27   \n",
       "  12          13         136            40   \n",
       "  40           5          46            31   \n",
       "  38           5          45             6   \n",
       "  36           5          32            21   \n",
       "  25           8         286            45   \n",
       "  7           16         302            21   \n",
       "  32           6         646            72   \n",
       "  41           5         337            47   \n",
       "  49           4          53            18   \n",
       "  17          11         345            46   \n",
       "  9           15          41            14   \n",
       "  20          10         361            57   \n",
       "  35           5          50            28   \n",
       "  10          15         546            67   \n",
       "  45           4          15             9   \n",
       "  29           6          45             4   \n",
       "  39           5          56            25   \n",
       "  15          11         132            28   \n",
       "  47           4         157            25   \n",
       "  23           8         190            25   \n",
       "  22           8         137            23   \n",
       "  19          10         114            21   \n",
       "  26           8         109            25   \n",
       "  31           6         295             8   \n",
       "  34           5          18            24   \n",
       "  42           5          35            16   \n",
       "  30           6          31             7   \n",
       "  48           4          51             7   \n",
       "  46           4          55             8   \n",
       "  33           5          27             2   \n",
       "  44           4          12             3   \n",
       "  43           4          10             6   \n",
       "  37           5          50            10   \n",
       "  28           7          29             6   \n",
       "  \n",
       "                                                   user        username  \n",
       "  2   {'id': 3, 'username': 'choldgraf', 'name': 'Ch...       choldgraf  \n",
       "  0   {'id': 6, 'username': 'betatim', 'name': 'Tim ...         betatim  \n",
       "  4   {'id': 8, 'username': 'minrk', 'name': 'Min RK...           minrk  \n",
       "  8   {'id': 7, 'username': 'willingc', 'name': 'Car...        willingc  \n",
       "  21  {'id': 234, 'username': 'fmaussion', 'name': '...       fmaussion  \n",
       "  6   {'id': 116, 'username': 'sgibson91', 'name': '...       sgibson91  \n",
       "  1   {'id': 220, 'username': 'jasongrout', 'name': ...      jasongrout  \n",
       "  5   {'id': 11, 'username': 'fomightez', 'name': 'W...       fomightez  \n",
       "  11  {'id': 99, 'username': 'Zsailer', 'name': 'Zac...         Zsailer  \n",
       "  18  {'id': 30, 'username': 'consideRatio', 'name':...    consideRatio  \n",
       "  3   {'id': 73, 'username': 'manics', 'name': 'Simo...          manics  \n",
       "  13  {'id': 121, 'username': 'hadim', 'name': '', '...           hadim  \n",
       "  27  {'id': 771, 'username': 'sarasrking', 'name': ...      sarasrking  \n",
       "  16  {'id': 59, 'username': 'bitnik', 'name': 'Kena...          bitnik  \n",
       "  24  {'id': 679, 'username': 'bollwyvl', 'name': 'N...        bollwyvl  \n",
       "  14  {'id': 268, 'username': 'afshin', 'name': 'A. ...          afshin  \n",
       "  12  {'id': 217, 'username': 'kevin-bates', 'name':...     kevin-bates  \n",
       "  40  {'id': 222, 'username': 'tgeorgeux', 'name': '...       tgeorgeux  \n",
       "  38  {'id': 1005, 'username': 'V-Talbot', 'name': '...        V-Talbot  \n",
       "  36  {'id': 831, 'username': 'reuven', 'name': 'Reu...          reuven  \n",
       "  25  {'id': 72, 'username': 'arnim', 'name': 'Arnim...           arnim  \n",
       "  7   {'id': 198, 'username': '00Kai0', 'name': 'Ker...          00Kai0  \n",
       "  32  {'id': 77, 'username': 'jtp', 'name': 'Jeremy ...             jtp  \n",
       "  41  {'id': 24, 'username': 'psychemedia', 'name': ...     psychemedia  \n",
       "  49  {'id': 34, 'username': 'danielballan', 'name':...    danielballan  \n",
       "  17  {'id': 674, 'username': 'celine168', 'name': '...       celine168  \n",
       "  9   {'id': 37, 'username': 'ablekh', 'name': 'Alek...          ablekh  \n",
       "  20  {'id': 229, 'username': 'vidartf', 'name': 'Vi...         vidartf  \n",
       "  35  {'id': 570, 'username': 'rkdarst', 'name': 'Ri...         rkdarst  \n",
       "  10  {'id': 303, 'username': 'ian-r-rose', 'name': ...      ian-r-rose  \n",
       "  45  {'id': 926, 'username': 'pablobernabeu', 'name...   pablobernabeu  \n",
       "  29  {'id': 803, 'username': 'richcranney', 'name':...     richcranney  \n",
       "  39  {'id': 655, 'username': 'joshuazeltser', 'name...   joshuazeltser  \n",
       "  15  {'id': 747, 'username': 'RSchauf', 'name': '',...         RSchauf  \n",
       "  47  {'id': 164, 'username': 'Chico_Venancio', 'nam...  Chico_Venancio  \n",
       "  23  {'id': 884, 'username': 'Michiel', 'name': 'Mi...         Michiel  \n",
       "  22  {'id': 737, 'username': 'geirfreysson', 'name'...    geirfreysson  \n",
       "  19  {'id': 485, 'username': 'rolweber', 'name': 'R...        rolweber  \n",
       "  26  {'id': 590, 'username': 'nscozzaro', 'name': '...       nscozzaro  \n",
       "  31  {'id': 920, 'username': 'andreasplesch', 'name...   andreasplesch  \n",
       "  34  {'id': 731, 'username': 'makaylas', 'name': 'M...        makaylas  \n",
       "  42  {'id': 660, 'username': 'javag97', 'name': 'Ja...         javag97  \n",
       "  30  {'id': 412, 'username': 'Leonard_Nelson', 'nam...  Leonard_Nelson  \n",
       "  48  {'id': 959, 'username': 'scho', 'name': 'David...            scho  \n",
       "  46  {'id': 886, 'username': 'Bikash', 'name': 'Bik...          Bikash  \n",
       "  33  {'id': 834, 'username': 'khz_dong', 'name': 'D...        khz_dong  \n",
       "  44  {'id': 874, 'username': 'hiram', 'name': 'Hira...           hiram  \n",
       "  43  {'id': 761, 'username': 'alston', 'name': '', ...          alston  \n",
       "  37  {'id': 904, 'username': 'louis-she', 'name': '...       louis-she  \n",
       "  28  {'id': 1004, 'username': '2ndworld', 'name': '...        2ndworld  ,\n",
       "  encoding: FacetedEncoding({\n",
       "    x: X({\n",
       "      field: 'username',\n",
       "      type: 'nominal'\n",
       "    }),\n",
       "    y: Y({\n",
       "      field: 'likes_received',\n",
       "      type: 'quantitative'\n",
       "    })\n",
       "  }),\n",
       "  mark: 'bar'\n",
       "})"
      ]
     },
     "execution_count": 18,
     "metadata": {},
     "output_type": "execute_result"
    }
   ],
   "source": [
    "plot_user_data(users.head(50), 'likes_received')"
   ]
  },
  {
   "cell_type": "code",
   "execution_count": 19,
   "metadata": {
    "papermill": {
     "duration": 0.046596,
     "end_time": "2019-10-23T04:54:34.911207",
     "exception": false,
     "start_time": "2019-10-23T04:54:34.864611",
     "status": "completed"
    },
    "tags": []
   },
   "outputs": [
    {
     "data": {
      "text/html": [
       "<script src=\"https://cdn.rawgit.com/parente/4c3e6936d0d7a46fd071/raw/65b816fb9bdd3c28b4ddf3af602bfd6015486383/code_toggle.js\"></script>\n"
      ],
      "text/plain": [
       "<IPython.core.display.HTML object>"
      ]
     },
     "metadata": {},
     "output_type": "display_data"
    }
   ],
   "source": [
    "%%html\n",
    "<script src=\"https://cdn.rawgit.com/parente/4c3e6936d0d7a46fd071/raw/65b816fb9bdd3c28b4ddf3af602bfd6015486383/code_toggle.js\"></script>"
   ]
  }
 ],
 "metadata": {
  "kernelspec": {
   "display_name": "Python 3",
   "language": "python",
   "name": "python3"
  },
  "language_info": {
   "codemirror_mode": {
    "name": "ipython",
    "version": 3
   },
   "file_extension": ".py",
   "mimetype": "text/x-python",
   "name": "python",
   "nbconvert_exporter": "python",
   "pygments_lexer": "ipython3",
   "version": "3.7.3"
  },
  "papermill": {
   "duration": 4.807782,
   "end_time": "2019-10-23T04:54:35.357458",
   "environment_variables": {},
   "exception": null,
   "input_path": "./templates/discourse.ipynb",
   "output_path": "./reports/monthly/2019-07-01-2019-08-01/discourse.ipynb",
   "parameters": {
    "end_date": "2019-08-01",
    "github_orgs": [
     "jupyterhub",
     "jupyter",
     "jupyterlab",
     "jupyter-widgets",
     "ipython",
     "binder-examples"
    ],
    "renderer": "kaggle",
    "start_date": "2019-07-01"
   },
   "start_time": "2019-10-23T04:54:30.549676",
   "version": "1.0.1"
  },
  "widgets": {
   "application/vnd.jupyter.widget-state+json": {
    "state": {},
    "version_major": 2,
    "version_minor": 0
   }
  }
 },
 "nbformat": 4,
 "nbformat_minor": 4
}