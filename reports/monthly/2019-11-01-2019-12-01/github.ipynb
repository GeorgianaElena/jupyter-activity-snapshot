{
 "cells": [
  {
   "cell_type": "code",
   "execution_count": 1,
   "metadata": {
    "papermill": {
     "duration": 1.358151,
     "end_time": "2019-12-01T17:52:31.219244",
     "exception": false,
     "start_time": "2019-12-01T17:52:29.861093",
     "status": "completed"
    },
    "tags": []
   },
   "outputs": [],
   "source": [
    "import seaborn as sns\n",
    "import pandas as pd\n",
    "import numpy as np\n",
    "import altair as alt\n",
    "from markdown import markdown\n",
    "from IPython.display import Markdown\n",
    "from ipywidgets.widgets import HTML, Tab\n",
    "from ipywidgets import widgets\n",
    "from datetime import timedelta\n",
    "from matplotlib import pyplot as plt\n",
    "import os.path as op\n",
    "\n",
    "from mod import load_data, alt_theme\n",
    "\n",
    "from warnings import simplefilter\n",
    "simplefilter('ignore')"
   ]
  },
  {
   "cell_type": "code",
   "execution_count": 2,
   "metadata": {
    "papermill": {
     "duration": 0.029693,
     "end_time": "2019-12-01T17:52:31.264914",
     "exception": false,
     "start_time": "2019-12-01T17:52:31.235221",
     "status": "completed"
    },
    "tags": []
   },
   "outputs": [],
   "source": [
    "def author_url(author):\n",
    "    return f\"https://github.com/{author}\""
   ]
  },
  {
   "cell_type": "code",
   "execution_count": 3,
   "metadata": {
    "papermill": {
     "duration": 0.029707,
     "end_time": "2019-12-01T17:52:31.317345",
     "exception": false,
     "start_time": "2019-12-01T17:52:31.287638",
     "status": "completed"
    },
    "tags": [
     "parameters",
     "hide_input"
    ]
   },
   "outputs": [],
   "source": [
    "# Parameters\n",
    "fmt_date = \"{:%Y-%m-%d}\"\n",
    "\n",
    "n_days = 90\n",
    "start_date = fmt_date.format(pd.datetime.today() - timedelta(days=n_days))\n",
    "end_date = fmt_date.format(pd.datetime.today())\n",
    "\n",
    "renderer = \"jupyterlab\"\n",
    "github_orgs = [\"jupyterhub\", \"jupyter\", \"jupyterlab\", \"jupyter-widgets\", \"ipython\", \"binder-examples\", \"nteract\"]"
   ]
  },
  {
   "cell_type": "code",
   "execution_count": 4,
   "metadata": {
    "papermill": {
     "duration": 0.032376,
     "end_time": "2019-12-01T17:52:31.371934",
     "exception": false,
     "start_time": "2019-12-01T17:52:31.339558",
     "status": "completed"
    },
    "tags": [
     "injected-parameters"
    ]
   },
   "outputs": [],
   "source": [
    "# Parameters\n",
    "renderer = \"kaggle\"\n",
    "github_orgs = [\"jupyterhub\", \"jupyter\", \"jupyterlab\", \"jupyter-widgets\", \"ipython\", \"binder-examples\"]\n",
    "start_date = \"2019-11-01\"\n",
    "end_date = \"2019-12-01\"\n"
   ]
  },
  {
   "cell_type": "code",
   "execution_count": 5,
   "metadata": {
    "papermill": {
     "duration": 4.010265,
     "end_time": "2019-12-01T17:52:35.410598",
     "exception": false,
     "start_time": "2019-12-01T17:52:31.400333",
     "status": "completed"
    },
    "tags": []
   },
   "outputs": [],
   "source": [
    "comments, issues, prs = load_data('../data/')\n",
    "bot_names = pd.read_csv('bot_names.csv')['names'].tolist()\n",
    "comments = comments.query('author not in @bot_names').drop_duplicates()\n",
    "issues = issues.query('author not in @bot_names').drop_duplicates()\n",
    "prs = prs.query('author not in @bot_names').drop_duplicates()"
   ]
  },
  {
   "cell_type": "code",
   "execution_count": 6,
   "metadata": {
    "papermill": {
     "duration": 0.097224,
     "end_time": "2019-12-01T17:52:35.528690",
     "exception": false,
     "start_time": "2019-12-01T17:52:35.431466",
     "status": "completed"
    },
    "tags": []
   },
   "outputs": [],
   "source": [
    "# Only keep the datapoints we want\n",
    "query_data = 'updatedAt > @start_date and updatedAt < @end_date and org in @github_orgs'\n",
    "comments = comments.query(query_data)\n",
    "issues = issues.query(query_data)\n",
    "prs = prs.query(query_data)"
   ]
  },
  {
   "cell_type": "code",
   "execution_count": 7,
   "metadata": {
    "papermill": {
     "duration": 0.03835,
     "end_time": "2019-12-01T17:52:35.585406",
     "exception": false,
     "start_time": "2019-12-01T17:52:35.547056",
     "status": "completed"
    },
    "tags": []
   },
   "outputs": [
    {
     "data": {
      "text/plain": [
       "ThemeRegistry.enable('my_theme')"
      ]
     },
     "execution_count": 7,
     "metadata": {},
     "output_type": "execute_result"
    }
   ],
   "source": [
    "alt.renderers.enable(renderer);\n",
    "alt.themes.register('my_theme', alt_theme)\n",
    "alt.themes.enable(\"my_theme\")"
   ]
  },
  {
   "cell_type": "code",
   "execution_count": 8,
   "metadata": {
    "papermill": {
     "duration": 0.030673,
     "end_time": "2019-12-01T17:52:35.637103",
     "exception": false,
     "start_time": "2019-12-01T17:52:35.606430",
     "status": "completed"
    },
    "tags": []
   },
   "outputs": [],
   "source": [
    "# Information about out time window\n",
    "time_delta = pd.to_datetime(end_date) - pd.to_datetime(start_date)\n",
    "n_days = time_delta.days\n",
    "\n",
    "# Information about the data we loaded\n",
    "github_orgs = comments['org'].unique()"
   ]
  },
  {
   "cell_type": "markdown",
   "metadata": {
    "papermill": {
     "duration": 0.020782,
     "end_time": "2019-12-01T17:52:35.679855",
     "exception": false,
     "start_time": "2019-12-01T17:52:35.659073",
     "status": "completed"
    },
    "tags": []
   },
   "source": [
    "# GitHub activity\n",
    "\n",
    "Jupyter also has lots of activity across GitHub repositories. The following sections contain\n",
    "overviews of recent activity across the following GitHub organizations:"
   ]
  },
  {
   "cell_type": "code",
   "execution_count": 9,
   "metadata": {
    "papermill": {
     "duration": 0.035083,
     "end_time": "2019-12-01T17:52:35.738777",
     "exception": false,
     "start_time": "2019-12-01T17:52:35.703694",
     "status": "completed"
    },
    "tags": []
   },
   "outputs": [],
   "source": [
    "# Define colors we'll use for GitHub membership\n",
    "author_types = ['MEMBER', 'CONTRIBUTOR', 'COLLABORATOR', \"NONE\"]\n",
    "\n",
    "author_palette = sns.palettes.blend_palette([\"lightgrey\", \"lightgreen\", \"darkgreen\"], 4)\n",
    "author_colors = [\"rgb({}, {}, {}, {})\".format(*(ii*256)) for ii in author_palette]\n",
    "author_color_dict = {key: val for key, val in zip(author_types, author_palette)}"
   ]
  },
  {
   "cell_type": "code",
   "execution_count": 10,
   "metadata": {
    "papermill": {
     "duration": 0.032959,
     "end_time": "2019-12-01T17:52:35.795103",
     "exception": false,
     "start_time": "2019-12-01T17:52:35.762144",
     "status": "completed"
    },
    "tags": [
     "hide_input"
    ]
   },
   "outputs": [
    {
     "data": {
      "text/markdown": [
       "* [github.com/binder-examples](https://github.com/binder-examples)\n",
       "* [github.com/ipython](https://github.com/ipython)\n",
       "* [github.com/jupyter](https://github.com/jupyter)\n",
       "* [github.com/jupyter-widgets](https://github.com/jupyter-widgets)\n",
       "* [github.com/jupyterhub](https://github.com/jupyterhub)\n",
       "* [github.com/jupyterlab](https://github.com/jupyterlab)"
      ],
      "text/plain": [
       "<IPython.core.display.Markdown object>"
      ]
     },
     "execution_count": 10,
     "metadata": {},
     "output_type": "execute_result"
    }
   ],
   "source": [
    "orgs_md = []\n",
    "for org in github_orgs:\n",
    "    orgs_md.append(f'* [github.com/{org}](https://github.com/{org})')\n",
    "Markdown('\\n'.join(orgs_md))"
   ]
  },
  {
   "cell_type": "code",
   "execution_count": 11,
   "metadata": {
    "papermill": {
     "duration": 0.033156,
     "end_time": "2019-12-01T17:52:35.849752",
     "exception": false,
     "start_time": "2019-12-01T17:52:35.816596",
     "status": "completed"
    },
    "tags": [
     "hide_input"
    ]
   },
   "outputs": [
    {
     "data": {
      "text/markdown": [
       "Showing GitHub activity from **2019-11-01** to **2019-12-01**"
      ],
      "text/plain": [
       "<IPython.core.display.Markdown object>"
      ]
     },
     "execution_count": 11,
     "metadata": {},
     "output_type": "execute_result"
    }
   ],
   "source": [
    "Markdown(f\"Showing GitHub activity from **{start_date}** to **{end_date}**\")"
   ]
  },
  {
   "cell_type": "markdown",
   "metadata": {
    "papermill": {
     "duration": 0.024182,
     "end_time": "2019-12-01T17:52:35.899733",
     "exception": false,
     "start_time": "2019-12-01T17:52:35.875551",
     "status": "completed"
    },
    "tags": []
   },
   "source": [
    "## List of all contributors per organization\n",
    "\n",
    "First, we'll list each contributor that has contributed to each organization in the last several days.\n",
    "Contributions to open source projects are diverse, and involve much more than just contributing code and\n",
    "code review. Thanks to everybody in the Jupyter communities for all that they do."
   ]
  },
  {
   "cell_type": "code",
   "execution_count": 12,
   "metadata": {
    "papermill": {
     "duration": 0.209877,
     "end_time": "2019-12-01T17:52:36.135875",
     "exception": false,
     "start_time": "2019-12-01T17:52:35.925998",
     "status": "completed"
    },
    "tags": []
   },
   "outputs": [
    {
     "data": {
      "text/markdown": [
       "All participants across issues and pull requests in each org in the last 30 days"
      ],
      "text/plain": [
       "<IPython.core.display.Markdown object>"
      ]
     },
     "metadata": {},
     "output_type": "display_data"
    },
    {
     "data": {
      "application/vnd.jupyter.widget-view+json": {
       "model_id": "91799f8d2f244cf8996f17c06e95b66e",
       "version_major": 2,
       "version_minor": 0
      },
      "text/plain": [
       "Tab(children=(HTML(value='<center><p><a href=\"https://github.com/betatim\">betatim</a> | <a href=\"https://githu…"
      ]
     },
     "metadata": {},
     "output_type": "display_data"
    }
   ],
   "source": [
    "n_plot = 5\n",
    "tabs = widgets.Tab(children=[])\n",
    "for ii, org in enumerate(github_orgs):\n",
    "    authors_comments = comments.query('org == @org')['author']\n",
    "    authors_prs = prs.query('org == @org')['author']\n",
    "    unique_participants = np.unique(np.hstack([authors_comments.values, authors_prs.values]).astype(str)).tolist()\n",
    "    unique_participants.sort(key=lambda a: a.lower())\n",
    "    \n",
    "    all_participants = [f\"[{participant}](https://github.com/{participant})\" for participant in unique_participants]\n",
    "    participants_md = \" | \".join(all_participants)\n",
    "    md_html = HTML(\"<center>{}</center>\".format(markdown(participants_md)))\n",
    "    \n",
    "    children = list(tabs.children)\n",
    "    children.append(md_html)\n",
    "    tabs.children = tuple(children)\n",
    "    tabs.set_title(ii, org)\n",
    "    \n",
    "display(Markdown(f\"All participants across issues and pull requests in each org in the last {n_days} days\"))\n",
    "display(tabs)"
   ]
  },
  {
   "cell_type": "markdown",
   "metadata": {
    "papermill": {
     "duration": 0.035088,
     "end_time": "2019-12-01T17:52:36.204824",
     "exception": false,
     "start_time": "2019-12-01T17:52:36.169736",
     "status": "completed"
    },
    "tags": [],
    "toc-hr-collapsed": false
   },
   "source": [
    "## Merged Pull requests\n",
    "\n",
    "Here's an analysis of **merged pull requests** across each of the repositories in the Jupyter\n",
    "ecosystem."
   ]
  },
  {
   "cell_type": "code",
   "execution_count": 13,
   "metadata": {
    "papermill": {
     "duration": 0.042884,
     "end_time": "2019-12-01T17:52:36.283958",
     "exception": false,
     "start_time": "2019-12-01T17:52:36.241074",
     "status": "completed"
    },
    "tags": []
   },
   "outputs": [],
   "source": [
    "merged = prs.query('state == \"MERGED\" and closedAt > @start_date and closedAt < @end_date')"
   ]
  },
  {
   "cell_type": "code",
   "execution_count": 14,
   "metadata": {
    "papermill": {
     "duration": 0.100176,
     "end_time": "2019-12-01T17:52:36.411124",
     "exception": false,
     "start_time": "2019-12-01T17:52:36.310948",
     "status": "completed"
    },
    "tags": [
     "hide_input"
    ]
   },
   "outputs": [
    {
     "data": {
      "text/html": [
       "\n",
       "  <style>\n",
       "    .error {\n",
       "        color: red;\n",
       "    }\n",
       "  </style>\n",
       "  <div id=\"altair-viz-1\"></div>\n",
       "  <script>\n",
       "    requirejs.config({\n",
       "        \"paths\": {\n",
       "            \"vega\": \"https://cdn.jsdelivr.net/npm//vega@5?noext\",\n",
       "            \"vega-lib\": \"https://cdn.jsdelivr.net/npm//vega-lib?noext\",\n",
       "            \"vega-lite\": \"https://cdn.jsdelivr.net/npm//vega-lite@3.4.0?noext\",\n",
       "            \"vega-embed\": \"https://cdn.jsdelivr.net/npm//vega-embed@5?noext\",\n",
       "        }\n",
       "    });\n",
       "    \n",
       "    require(['vega-embed'],function(vegaEmbed) {\n",
       "      var spec = {\"config\": {\"axisLeft\": {\"labelFontSize\": 15}, \"axisBottom\": {\"labelFontSize\": 15}}, \"data\": {\"name\": \"data-250a6a7f52185c5061a85890795e49fd\"}, \"mark\": \"bar\", \"encoding\": {\"color\": {\"type\": \"nominal\", \"field\": \"org\"}, \"x\": {\"type\": \"nominal\", \"field\": \"repo\", \"sort\": [\"debugger\", \"jupyterlab\", \"jupyterlab-commenting\", \"jupyterlab-git\", \"extension-cookiecutter-ts\", \"jupyterlab-data-explorer\", \"jupyterlab-metadata-service\", \"lumino\", \"jupyterlab-latex\", \"mybinder.org-deploy\", \"binderhub\", \"zero-to-jupyterhub-k8s\", \"kubespawner\", \"jupyterhub\", \"oauthenticator\", \"chartpress\", \"configurable-http-proxy\", \"team-compass\", \"jupyter-server-proxy\", \"nbgitpuller\", \"batchspawner\", \"binder\", \"dockerspawner\", \"outreachy\", \"the-littlest-jupyterhub\", \"ipyleaflet\", \"pythreejs\", \"ipywidgets\", \"midicontrols\", \"widget-ts-cookiecutter\", \"nbgrader\", \"jupyter\", \"notebook\", \"nbconvert\", \"docker-stacks\", \"enterprise_gateway\", \"repo2docker\", \"accessibility\", \"jupyter-sphinx\", \"jupyter_core\", \"jupyter_server\", \"nbdime\", \"qtconsole\", \"governance\", \"jupyter-book\", \"jupyter.github.io\", \"telemetry\", \"terminado\", \"ipython\", \"ipykernel\", \"traitlets\", \"requirements\"]}, \"y\": {\"type\": \"quantitative\", \"field\": \"author\"}}, \"title\": \"Merged PRs in the last 30 days\", \"$schema\": \"https://vega.github.io/schema/vega-lite/v3.4.0.json\", \"datasets\": {\"data-250a6a7f52185c5061a85890795e49fd\": [{\"org\": \"jupyterlab\", \"repo\": \"debugger\", \"author\": 42}, {\"org\": \"jupyterlab\", \"repo\": \"jupyterlab\", \"author\": 26}, {\"org\": \"jupyterlab\", \"repo\": \"jupyterlab-commenting\", \"author\": 7}, {\"org\": \"jupyterlab\", \"repo\": \"jupyterlab-git\", \"author\": 5}, {\"org\": \"jupyterlab\", \"repo\": \"extension-cookiecutter-ts\", \"author\": 4}, {\"org\": \"jupyterlab\", \"repo\": \"jupyterlab-data-explorer\", \"author\": 4}, {\"org\": \"jupyterlab\", \"repo\": \"jupyterlab-metadata-service\", \"author\": 3}, {\"org\": \"jupyterlab\", \"repo\": \"lumino\", \"author\": 3}, {\"org\": \"jupyterlab\", \"repo\": \"jupyterlab-latex\", \"author\": 2}, {\"org\": \"jupyterhub\", \"repo\": \"mybinder.org-deploy\", \"author\": 28}, {\"org\": \"jupyterhub\", \"repo\": \"binderhub\", \"author\": 13}, {\"org\": \"jupyterhub\", \"repo\": \"zero-to-jupyterhub-k8s\", \"author\": 13}, {\"org\": \"jupyterhub\", \"repo\": \"kubespawner\", \"author\": 10}, {\"org\": \"jupyterhub\", \"repo\": \"jupyterhub\", \"author\": 9}, {\"org\": \"jupyterhub\", \"repo\": \"oauthenticator\", \"author\": 8}, {\"org\": \"jupyterhub\", \"repo\": \"chartpress\", \"author\": 6}, {\"org\": \"jupyterhub\", \"repo\": \"configurable-http-proxy\", \"author\": 5}, {\"org\": \"jupyterhub\", \"repo\": \"team-compass\", \"author\": 5}, {\"org\": \"jupyterhub\", \"repo\": \"jupyter-server-proxy\", \"author\": 4}, {\"org\": \"jupyterhub\", \"repo\": \"nbgitpuller\", \"author\": 2}, {\"org\": \"jupyterhub\", \"repo\": \"batchspawner\", \"author\": 1}, {\"org\": \"jupyterhub\", \"repo\": \"binder\", \"author\": 1}, {\"org\": \"jupyterhub\", \"repo\": \"dockerspawner\", \"author\": 1}, {\"org\": \"jupyterhub\", \"repo\": \"outreachy\", \"author\": 1}, {\"org\": \"jupyterhub\", \"repo\": \"the-littlest-jupyterhub\", \"author\": 1}, {\"org\": \"jupyter-widgets\", \"repo\": \"ipyleaflet\", \"author\": 5}, {\"org\": \"jupyter-widgets\", \"repo\": \"pythreejs\", \"author\": 4}, {\"org\": \"jupyter-widgets\", \"repo\": \"ipywidgets\", \"author\": 3}, {\"org\": \"jupyter-widgets\", \"repo\": \"midicontrols\", \"author\": 1}, {\"org\": \"jupyter-widgets\", \"repo\": \"widget-ts-cookiecutter\", \"author\": 1}, {\"org\": \"jupyter\", \"repo\": \"nbgrader\", \"author\": 18}, {\"org\": \"jupyter\", \"repo\": \"jupyter\", \"author\": 9}, {\"org\": \"jupyter\", \"repo\": \"notebook\", \"author\": 9}, {\"org\": \"jupyter\", \"repo\": \"nbconvert\", \"author\": 6}, {\"org\": \"jupyter\", \"repo\": \"docker-stacks\", \"author\": 4}, {\"org\": \"jupyter\", \"repo\": \"enterprise_gateway\", \"author\": 4}, {\"org\": \"jupyter\", \"repo\": \"repo2docker\", \"author\": 4}, {\"org\": \"jupyter\", \"repo\": \"accessibility\", \"author\": 3}, {\"org\": \"jupyter\", \"repo\": \"jupyter-sphinx\", \"author\": 3}, {\"org\": \"jupyter\", \"repo\": \"jupyter_core\", \"author\": 3}, {\"org\": \"jupyter\", \"repo\": \"jupyter_server\", \"author\": 2}, {\"org\": \"jupyter\", \"repo\": \"nbdime\", \"author\": 2}, {\"org\": \"jupyter\", \"repo\": \"qtconsole\", \"author\": 2}, {\"org\": \"jupyter\", \"repo\": \"governance\", \"author\": 1}, {\"org\": \"jupyter\", \"repo\": \"jupyter-book\", \"author\": 1}, {\"org\": \"jupyter\", \"repo\": \"jupyter.github.io\", \"author\": 1}, {\"org\": \"jupyter\", \"repo\": \"telemetry\", \"author\": 1}, {\"org\": \"jupyter\", \"repo\": \"terminado\", \"author\": 1}, {\"org\": \"ipython\", \"repo\": \"ipython\", \"author\": 10}, {\"org\": \"ipython\", \"repo\": \"ipykernel\", \"author\": 2}, {\"org\": \"ipython\", \"repo\": \"traitlets\", \"author\": 1}, {\"org\": \"binder-examples\", \"repo\": \"requirements\", \"author\": 1}]}};\n",
       "      var embedOpt = {\"mode\": \"vega-lite\"};\n",
       "\n",
       "      function showError(el, error){\n",
       "          el.innerHTML = ('<div class=\"error\" style=\"color:red;\">'\n",
       "                          + '<p>JavaScript Error: ' + error.message + '</p>'\n",
       "                          + \"<p>This usually means there's a typo in your chart specification. \"\n",
       "                          + \"See the javascript console for the full traceback.</p>\"\n",
       "                          + '</div>');\n",
       "          throw error;\n",
       "      }\n",
       "      const el = document.getElementById('altair-viz-1');\n",
       "      vegaEmbed(\"#altair-viz-1\", spec, embedOpt)\n",
       "        .catch(error => showError(el, error));\n",
       "    });\n",
       "\n",
       "  </script>"
      ],
      "text/plain": [
       "alt.Chart(...)"
      ]
     },
     "execution_count": 14,
     "metadata": {},
     "output_type": "execute_result"
    }
   ],
   "source": [
    "prs_by_repo = merged.groupby(['org', 'repo']).count()['author'].reset_index().sort_values(['org', 'author'], ascending=False)\n",
    "alt.Chart(data=prs_by_repo, title=f\"Merged PRs in the last {n_days} days\").mark_bar().encode(\n",
    "    x=alt.X('repo', sort=prs_by_repo['repo'].values.tolist()),\n",
    "    y='author',\n",
    "    color='org'\n",
    ")"
   ]
  },
  {
   "cell_type": "markdown",
   "metadata": {
    "papermill": {
     "duration": 0.03946,
     "end_time": "2019-12-01T17:52:36.497899",
     "exception": false,
     "start_time": "2019-12-01T17:52:36.458439",
     "status": "completed"
    },
    "tags": []
   },
   "source": [
    "### A list of merged PRs by project\n",
    "\n",
    "Below is a tabbed readout of recently-merged PRs. Check out the title to get an idea for what they\n",
    "implemented, and be sure to thank the PR author for their hard work!"
   ]
  },
  {
   "cell_type": "code",
   "execution_count": 15,
   "metadata": {
    "papermill": {
     "duration": 0.48144,
     "end_time": "2019-12-01T17:52:37.011598",
     "exception": false,
     "start_time": "2019-12-01T17:52:36.530158",
     "status": "completed"
    },
    "tags": [
     "hide_input"
    ]
   },
   "outputs": [
    {
     "data": {
      "application/vnd.jupyter.widget-view+json": {
       "model_id": "1ffeda70006345f7a767ecf36aa347db",
       "version_major": 2,
       "version_minor": 0
      },
      "text/plain": [
       "Tab(children=(HTML(value='<h4>Closed PRs for org: <code>binder-examples</code></h4>\\n<h5><a href=\"https://gith…"
      ]
     },
     "metadata": {},
     "output_type": "display_data"
    }
   ],
   "source": [
    "tabs = widgets.Tab(children=[])\n",
    "merged_by = {}\n",
    "pr_by = {}\n",
    "for ii, (org, idata) in enumerate(merged.groupby('org')):\n",
    "    issue_md = []\n",
    "    issue_md.append(f\"#### Closed PRs for org: `{org}`\")\n",
    "    issue_md.append(\"\")\n",
    "    for (org, repo), prs in idata.groupby(['org', 'repo']):\n",
    "        issue_md.append(f\"##### [{org}/{repo}](https://github.com/{org}/{repo})\")\n",
    "        for _, pr in prs.iterrows():\n",
    "            user_name = pr['author']\n",
    "            user_url = author_url(user_name)\n",
    "            pr_number = pr['number']\n",
    "            pr_html = pr['url']\n",
    "            pr_title = pr['title']\n",
    "            pr_closedby = pr['mergedBy']\n",
    "            pr_closedby_url = f\"https://github.com/{pr_closedby}\"\n",
    "            if user_name not in pr_by:\n",
    "                pr_by[user_name] = 1\n",
    "            else:\n",
    "                pr_by[user_name] += 1\n",
    "                \n",
    "            if pr_closedby not in merged_by:\n",
    "                merged_by[pr_closedby] = 1\n",
    "            else:\n",
    "                merged_by[pr_closedby] += 1\n",
    "            text = f\"* [(#{pr_number})]({pr_html}): _{pr_title}_ by **[@{user_name}]({user_url})** merged by **[@{pr_closedby}]({pr_closedby_url})**\"\n",
    "            issue_md.append(text)\n",
    "    issue_md.append('')\n",
    "    markdown_html = markdown('\\n'.join(issue_md))\n",
    "    \n",
    "    children = list(tabs.children)\n",
    "    children.append(HTML(markdown_html))\n",
    "    tabs.children = tuple(children)\n",
    "    tabs.set_title(ii, org)\n",
    "tabs"
   ]
  },
  {
   "cell_type": "markdown",
   "metadata": {
    "papermill": {
     "duration": 0.03253,
     "end_time": "2019-12-01T17:52:37.070714",
     "exception": false,
     "start_time": "2019-12-01T17:52:37.038184",
     "status": "completed"
    },
    "tags": []
   },
   "source": [
    "### Authoring and merging stats by repository\n",
    "\n",
    "Let's see who has been doing most of the PR authoring and merging. The PR author is generally the\n",
    "person that implemented a change in the repository (code, documentation, etc). The PR merger is\n",
    "the person that \"pressed the green button\" and got the change into the main codebase."
   ]
  },
  {
   "cell_type": "code",
   "execution_count": 16,
   "metadata": {
    "papermill": {
     "duration": 0.078056,
     "end_time": "2019-12-01T17:52:37.207986",
     "exception": false,
     "start_time": "2019-12-01T17:52:37.129930",
     "status": "completed"
    },
    "tags": []
   },
   "outputs": [],
   "source": [
    "# Prep our merging DF\n",
    "merged_by_repo = merged.groupby(['org', 'repo', 'author'], as_index=False).agg({'id': 'count', 'authorAssociation': 'first'}).rename(columns={'id': \"authored\", 'author': 'username'})\n",
    "closed_by_repo = merged.groupby(['org', 'repo', 'mergedBy']).count()['id'].reset_index().rename(columns={'id': \"closed\", \"mergedBy\": \"username\"})"
   ]
  },
  {
   "cell_type": "code",
   "execution_count": 17,
   "metadata": {
    "papermill": {
     "duration": 0.195228,
     "end_time": "2019-12-01T17:52:37.441459",
     "exception": false,
     "start_time": "2019-12-01T17:52:37.246231",
     "status": "completed"
    },
    "tags": []
   },
   "outputs": [
    {
     "data": {
      "text/html": [
       "\n",
       "  <style>\n",
       "    .error {\n",
       "        color: red;\n",
       "    }\n",
       "  </style>\n",
       "  <div id=\"altair-viz-2\"></div>\n",
       "  <script>\n",
       "    requirejs.config({\n",
       "        \"paths\": {\n",
       "            \"vega\": \"https://cdn.jsdelivr.net/npm//vega@5?noext\",\n",
       "            \"vega-lib\": \"https://cdn.jsdelivr.net/npm//vega-lib?noext\",\n",
       "            \"vega-lite\": \"https://cdn.jsdelivr.net/npm//vega-lite@3.4.0?noext\",\n",
       "            \"vega-embed\": \"https://cdn.jsdelivr.net/npm//vega-embed@5?noext\",\n",
       "        }\n",
       "    });\n",
       "    \n",
       "    require(['vega-embed'],function(vegaEmbed) {\n",
       "      var spec = {\"config\": {\"axisLeft\": {\"labelFontSize\": 15}, \"axisBottom\": {\"labelFontSize\": 15}}, \"hconcat\": [{\"data\": {\"name\": \"data-60163993bcc306a0245a4b91c6f01f64\"}, \"mark\": \"bar\", \"encoding\": {\"color\": {\"type\": \"nominal\", \"field\": \"authorAssociation\", \"scale\": {\"domain\": [\"MEMBER\", \"CONTRIBUTOR\", \"COLLABORATOR\", \"NONE\"], \"range\": [\"rgb(211.82745098039214, 211.82745098039214, 211.82745098039214, 256.0)\", \"rgb(166.98562091503268, 229.89803921568628, 166.98562091503268, 256.0)\", \"rgb(96.37647058823529, 192.75294117647059, 96.37647058823529, 256.0)\", \"rgb(0.0, 100.3921568627451, 0.0, 256.0)\"]}}, \"x\": {\"type\": \"nominal\", \"field\": \"username\"}, \"y\": {\"type\": \"quantitative\", \"field\": \"authored\"}}, \"title\": \"PR authors for binder-examples in the last 30 days\", \"width\": 1000}, {\"data\": {\"name\": \"data-749dd05bebd51675e1b771b0aa2724b7\"}, \"mark\": \"bar\", \"encoding\": {\"color\": {\"type\": \"nominal\", \"field\": \"authorAssociation\", \"scale\": {\"domain\": [\"MEMBER\", \"CONTRIBUTOR\", \"COLLABORATOR\", \"NONE\"], \"range\": [\"rgb(211.82745098039214, 211.82745098039214, 211.82745098039214, 256.0)\", \"rgb(166.98562091503268, 229.89803921568628, 166.98562091503268, 256.0)\", \"rgb(96.37647058823529, 192.75294117647059, 96.37647058823529, 256.0)\", \"rgb(0.0, 100.3921568627451, 0.0, 256.0)\"]}}, \"x\": {\"type\": \"nominal\", \"field\": \"username\"}, \"y\": {\"type\": \"quantitative\", \"field\": \"authored\"}}, \"title\": \"PR authors for ipython in the last 30 days\", \"width\": 1000}, {\"data\": {\"name\": \"data-3cb76665896505138dea552346e0ada9\"}, \"mark\": \"bar\", \"encoding\": {\"color\": {\"type\": \"nominal\", \"field\": \"authorAssociation\", \"scale\": {\"domain\": [\"MEMBER\", \"CONTRIBUTOR\", \"COLLABORATOR\", \"NONE\"], \"range\": [\"rgb(211.82745098039214, 211.82745098039214, 211.82745098039214, 256.0)\", \"rgb(166.98562091503268, 229.89803921568628, 166.98562091503268, 256.0)\", \"rgb(96.37647058823529, 192.75294117647059, 96.37647058823529, 256.0)\", \"rgb(0.0, 100.3921568627451, 0.0, 256.0)\"]}}, \"x\": {\"type\": \"nominal\", \"field\": \"username\"}, \"y\": {\"type\": \"quantitative\", \"field\": \"authored\"}}, \"title\": \"PR authors for jupyter in the last 30 days\", \"width\": 1000}, {\"data\": {\"name\": \"data-ed669d072be78272220b3ecc62cc4421\"}, \"mark\": \"bar\", \"encoding\": {\"color\": {\"type\": \"nominal\", \"field\": \"authorAssociation\", \"scale\": {\"domain\": [\"MEMBER\", \"CONTRIBUTOR\", \"COLLABORATOR\", \"NONE\"], \"range\": [\"rgb(211.82745098039214, 211.82745098039214, 211.82745098039214, 256.0)\", \"rgb(166.98562091503268, 229.89803921568628, 166.98562091503268, 256.0)\", \"rgb(96.37647058823529, 192.75294117647059, 96.37647058823529, 256.0)\", \"rgb(0.0, 100.3921568627451, 0.0, 256.0)\"]}}, \"x\": {\"type\": \"nominal\", \"field\": \"username\"}, \"y\": {\"type\": \"quantitative\", \"field\": \"authored\"}}, \"title\": \"PR authors for jupyter-widgets in the last 30 days\", \"width\": 1000}, {\"data\": {\"name\": \"data-ae5916b30bdad94892d8450c710d9bf6\"}, \"mark\": \"bar\", \"encoding\": {\"color\": {\"type\": \"nominal\", \"field\": \"authorAssociation\", \"scale\": {\"domain\": [\"MEMBER\", \"CONTRIBUTOR\", \"COLLABORATOR\", \"NONE\"], \"range\": [\"rgb(211.82745098039214, 211.82745098039214, 211.82745098039214, 256.0)\", \"rgb(166.98562091503268, 229.89803921568628, 166.98562091503268, 256.0)\", \"rgb(96.37647058823529, 192.75294117647059, 96.37647058823529, 256.0)\", \"rgb(0.0, 100.3921568627451, 0.0, 256.0)\"]}}, \"x\": {\"type\": \"nominal\", \"field\": \"username\"}, \"y\": {\"type\": \"quantitative\", \"field\": \"authored\"}}, \"title\": \"PR authors for jupyterhub in the last 30 days\", \"width\": 1000}, {\"data\": {\"name\": \"data-50cbe1b068bef934c7de09455791b8fb\"}, \"mark\": \"bar\", \"encoding\": {\"color\": {\"type\": \"nominal\", \"field\": \"authorAssociation\", \"scale\": {\"domain\": [\"MEMBER\", \"CONTRIBUTOR\", \"COLLABORATOR\", \"NONE\"], \"range\": [\"rgb(211.82745098039214, 211.82745098039214, 211.82745098039214, 256.0)\", \"rgb(166.98562091503268, 229.89803921568628, 166.98562091503268, 256.0)\", \"rgb(96.37647058823529, 192.75294117647059, 96.37647058823529, 256.0)\", \"rgb(0.0, 100.3921568627451, 0.0, 256.0)\"]}}, \"x\": {\"type\": \"nominal\", \"field\": \"username\"}, \"y\": {\"type\": \"quantitative\", \"field\": \"authored\"}}, \"title\": \"PR authors for jupyterlab in the last 30 days\", \"width\": 1000}], \"$schema\": \"https://vega.github.io/schema/vega-lite/v3.4.0.json\", \"datasets\": {\"data-60163993bcc306a0245a4b91c6f01f64\": [{\"username\": \"betatim\", \"authored\": 1, \"authorAssociation\": \"MEMBER\"}], \"data-749dd05bebd51675e1b771b0aa2724b7\": [{\"username\": \"Carreau\", \"authored\": 3, \"authorAssociation\": \"MEMBER\"}, {\"username\": \"bollwyvl\", \"authored\": 1, \"authorAssociation\": \"CONTRIBUTOR\"}, {\"username\": \"gerrit8143\", \"authored\": 1, \"authorAssociation\": \"CONTRIBUTOR\"}, {\"username\": \"gokceneraslan\", \"authored\": 1, \"authorAssociation\": \"CONTRIBUTOR\"}, {\"username\": \"kousikmitra\", \"authored\": 1, \"authorAssociation\": \"CONTRIBUTOR\"}, {\"username\": \"martinRenou\", \"authored\": 1, \"authorAssociation\": \"CONTRIBUTOR\"}, {\"username\": \"minrk\", \"authored\": 1, \"authorAssociation\": \"MEMBER\"}, {\"username\": \"petevdp\", \"authored\": 1, \"authorAssociation\": \"CONTRIBUTOR\"}, {\"username\": \"srinivasreddy\", \"authored\": 1, \"authorAssociation\": \"CONTRIBUTOR\"}, {\"username\": \"takluyver\", \"authored\": 1, \"authorAssociation\": \"MEMBER\"}, {\"username\": \"techtonik\", \"authored\": 1, \"authorAssociation\": \"CONTRIBUTOR\"}], \"data-3cb76665896505138dea552346e0ada9\": [{\"username\": \"transifex-integration\", \"authored\": 8, \"authorAssociation\": \"CONTRIBUTOR\"}, {\"username\": \"jhamrick\", \"authored\": 7, \"authorAssociation\": \"MEMBER\"}, {\"username\": \"choldgraf\", \"authored\": 6, \"authorAssociation\": \"MEMBER\"}, {\"username\": \"takluyver\", \"authored\": 5, \"authorAssociation\": \"MEMBER\"}, {\"username\": \"aliniknejad\", \"authored\": 5, \"authorAssociation\": \"CONTRIBUTOR\"}, {\"username\": \"minrk\", \"authored\": 3, \"authorAssociation\": \"MEMBER\"}, {\"username\": \"kynan\", \"authored\": 2, \"authorAssociation\": \"CONTRIBUTOR\"}, {\"username\": \"lresende\", \"authored\": 2, \"authorAssociation\": \"MEMBER\"}, {\"username\": \"enisnazif\", \"authored\": 2, \"authorAssociation\": \"CONTRIBUTOR\"}, {\"username\": \"seanpue\", \"authored\": 2, \"authorAssociation\": \"CONTRIBUTOR\"}, {\"username\": \"parente\", \"authored\": 2, \"authorAssociation\": \"MEMBER\"}, {\"username\": \"nklever\", \"authored\": 1, \"authorAssociation\": \"CONTRIBUTOR\"}, {\"username\": \"letmerecall\", \"authored\": 1, \"authorAssociation\": \"CONTRIBUTOR\"}, {\"username\": \"michalc\", \"authored\": 1, \"authorAssociation\": \"CONTRIBUTOR\"}, {\"username\": \"BertR\", \"authored\": 1, \"authorAssociation\": \"MEMBER\"}, {\"username\": \"krinsman\", \"authored\": 1, \"authorAssociation\": \"CONTRIBUTOR\"}, {\"username\": \"shevelevs\", \"authored\": 1, \"authorAssociation\": \"NONE\"}, {\"username\": \"shuichiro-makigaki\", \"authored\": 1, \"authorAssociation\": \"CONTRIBUTOR\"}, {\"username\": \"tatsuya-ogawa\", \"authored\": 1, \"authorAssociation\": \"CONTRIBUTOR\"}, {\"username\": \"wilsaj\", \"authored\": 1, \"authorAssociation\": \"CONTRIBUTOR\"}, {\"username\": \"writesundar\", \"authored\": 1, \"authorAssociation\": \"CONTRIBUTOR\"}, {\"username\": \"qntnrbns\", \"authored\": 1, \"authorAssociation\": \"CONTRIBUTOR\"}, {\"username\": \"impact27\", \"authored\": 1, \"authorAssociation\": \"CONTRIBUTOR\"}, {\"username\": \"kevin-bates\", \"authored\": 1, \"authorAssociation\": \"MEMBER\"}, {\"username\": \"HanTeo\", \"authored\": 1, \"authorAssociation\": \"NONE\"}, {\"username\": \"JorisJamers\", \"authored\": 1, \"authorAssociation\": \"CONTRIBUTOR\"}, {\"username\": \"Patil2099\", \"authored\": 1, \"authorAssociation\": \"CONTRIBUTOR\"}, {\"username\": \"SylvainCorlay\", \"authored\": 1, \"authorAssociation\": \"MEMBER\"}, {\"username\": \"WibbletheDuck\", \"authored\": 1, \"authorAssociation\": \"CONTRIBUTOR\"}, {\"username\": \"Zsailer\", \"authored\": 1, \"authorAssociation\": \"MEMBER\"}, {\"username\": \"akhmerov\", \"authored\": 1, \"authorAssociation\": \"MEMBER\"}, {\"username\": \"arokem\", \"authored\": 1, \"authorAssociation\": \"CONTRIBUTOR\"}, {\"username\": \"betatim\", \"authored\": 1, \"authorAssociation\": \"MEMBER\"}, {\"username\": \"cclauss\", \"authored\": 1, \"authorAssociation\": \"CONTRIBUTOR\"}, {\"username\": \"dalthviz\", \"authored\": 1, \"authorAssociation\": \"CONTRIBUTOR\"}, {\"username\": \"davidbrochart\", \"authored\": 1, \"authorAssociation\": \"CONTRIBUTOR\"}, {\"username\": \"echarles\", \"authored\": 1, \"authorAssociation\": \"CONTRIBUTOR\"}, {\"username\": \"flixr\", \"authored\": 1, \"authorAssociation\": \"CONTRIBUTOR\"}, {\"username\": \"gokgozf\", \"authored\": 1, \"authorAssociation\": \"NONE\"}, {\"username\": \"haobibo\", \"authored\": 1, \"authorAssociation\": \"CONTRIBUTOR\"}, {\"username\": \"yuvipanda\", \"authored\": 1, \"authorAssociation\": \"MEMBER\"}], \"data-ed669d072be78272220b3ecc62cc4421\": [{\"username\": \"dependabot\", \"authored\": 3, \"authorAssociation\": \"CONTRIBUTOR\"}, {\"username\": \"vidartf\", \"authored\": 3, \"authorAssociation\": \"MEMBER\"}, {\"username\": \"davidbrochart\", \"authored\": 2, \"authorAssociation\": \"CONTRIBUTOR\"}, {\"username\": \"ThierrySpetebroot\", \"authored\": 1, \"authorAssociation\": \"CONTRIBUTOR\"}, {\"username\": \"bjorm\", \"authored\": 1, \"authorAssociation\": \"CONTRIBUTOR\"}, {\"username\": \"jasongrout\", \"authored\": 1, \"authorAssociation\": \"MEMBER\"}, {\"username\": \"jtpio\", \"authored\": 1, \"authorAssociation\": \"CONTRIBUTOR\"}, {\"username\": \"martinRenou\", \"authored\": 1, \"authorAssociation\": \"MEMBER\"}, {\"username\": \"nrbgt\", \"authored\": 1, \"authorAssociation\": \"CONTRIBUTOR\"}], \"data-ae5916b30bdad94892d8450c710d9bf6\": [{\"username\": \"consideRatio\", \"authored\": 33, \"authorAssociation\": \"MEMBER\"}, {\"username\": \"betatim\", \"authored\": 19, \"authorAssociation\": \"MEMBER\"}, {\"username\": \"choldgraf\", \"authored\": 13, \"authorAssociation\": \"MEMBER\"}, {\"username\": \"jgwerner\", \"authored\": 4, \"authorAssociation\": \"CONTRIBUTOR\"}, {\"username\": \"bitnik\", \"authored\": 4, \"authorAssociation\": \"COLLABORATOR\"}, {\"username\": \"sgibson91\", \"authored\": 4, \"authorAssociation\": \"MEMBER\"}, {\"username\": \"manics\", \"authored\": 3, \"authorAssociation\": \"MEMBER\"}, {\"username\": \"linkcd\", \"authored\": 2, \"authorAssociation\": \"CONTRIBUTOR\"}, {\"username\": \"mrow4a\", \"authored\": 2, \"authorAssociation\": \"CONTRIBUTOR\"}, {\"username\": \"yuvipanda\", \"authored\": 2, \"authorAssociation\": \"MEMBER\"}, {\"username\": \"arnim\", \"authored\": 2, \"authorAssociation\": \"CONTRIBUTOR\"}, {\"username\": \"ryanlovett\", \"authored\": 1, \"authorAssociation\": \"MEMBER\"}, {\"username\": \"rcthomas\", \"authored\": 1, \"authorAssociation\": \"CONTRIBUTOR\"}, {\"username\": \"rafael-ladislau\", \"authored\": 1, \"authorAssociation\": \"CONTRIBUTOR\"}, {\"username\": \"sgloutnikov\", \"authored\": 1, \"authorAssociation\": \"CONTRIBUTOR\"}, {\"username\": \"minrk\", \"authored\": 1, \"authorAssociation\": \"MEMBER\"}, {\"username\": \"xhochy\", \"authored\": 1, \"authorAssociation\": \"CONTRIBUTOR\"}, {\"username\": \"rkdarst\", \"authored\": 1, \"authorAssociation\": \"CONTRIBUTOR\"}, {\"username\": \"JocelynDelalande\", \"authored\": 1, \"authorAssociation\": \"CONTRIBUTOR\"}, {\"username\": \"ka-zo\", \"authored\": 1, \"authorAssociation\": \"CONTRIBUTOR\"}, {\"username\": \"jbradenbrown\", \"authored\": 1, \"authorAssociation\": \"CONTRIBUTOR\"}, {\"username\": \"afonit\", \"authored\": 1, \"authorAssociation\": \"CONTRIBUTOR\"}, {\"username\": \"eslavich\", \"authored\": 1, \"authorAssociation\": \"CONTRIBUTOR\"}, {\"username\": \"dependabot\", \"authored\": 1, \"authorAssociation\": \"CONTRIBUTOR\"}, {\"username\": \"clkao\", \"authored\": 1, \"authorAssociation\": \"CONTRIBUTOR\"}, {\"username\": \"btel\", \"authored\": 1, \"authorAssociation\": \"CONTRIBUTOR\"}, {\"username\": \"bnuhero\", \"authored\": 1, \"authorAssociation\": \"CONTRIBUTOR\"}, {\"username\": \"blink1073\", \"authored\": 1, \"authorAssociation\": \"NONE\"}, {\"username\": \"amcnicho\", \"authored\": 1, \"authorAssociation\": \"CONTRIBUTOR\"}, {\"username\": \"albertmichaelj\", \"authored\": 1, \"authorAssociation\": \"CONTRIBUTOR\"}, {\"username\": \"jacobtomlinson\", \"authored\": 1, \"authorAssociation\": \"CONTRIBUTOR\"}], \"data-50cbe1b068bef934c7de09455791b8fb\": [{\"username\": \"jtpio\", \"authored\": 30, \"authorAssociation\": \"MEMBER\"}, {\"username\": \"kgryte\", \"authored\": 9, \"authorAssociation\": \"COLLABORATOR\"}, {\"username\": \"JohanMabille\", \"authored\": 9, \"authorAssociation\": \"MEMBER\"}, {\"username\": \"jasongrout\", \"authored\": 7, \"authorAssociation\": \"MEMBER\"}, {\"username\": \"KsavinN\", \"authored\": 7, \"authorAssociation\": \"COLLABORATOR\"}, {\"username\": \"fcollonval\", \"authored\": 6, \"authorAssociation\": \"MEMBER\"}, {\"username\": \"telamonian\", \"authored\": 4, \"authorAssociation\": \"MEMBER\"}, {\"username\": \"saulshanabrook\", \"authored\": 4, \"authorAssociation\": \"MEMBER\"}, {\"username\": \"dependabot\", \"authored\": 3, \"authorAssociation\": \"CONTRIBUTOR\"}, {\"username\": \"afshin\", \"authored\": 2, \"authorAssociation\": \"MEMBER\"}, {\"username\": \"mbektasbbg\", \"authored\": 2, \"authorAssociation\": \"MEMBER\"}, {\"username\": \"marisaaquilina\", \"authored\": 1, \"authorAssociation\": \"CONTRIBUTOR\"}, {\"username\": \"vidartf\", \"authored\": 1, \"authorAssociation\": \"MEMBER\"}, {\"username\": \"qntnrbns\", \"authored\": 1, \"authorAssociation\": \"CONTRIBUTOR\"}, {\"username\": \"mlucool\", \"authored\": 1, \"authorAssociation\": \"CONTRIBUTOR\"}, {\"username\": \"acarl005\", \"authored\": 1, \"authorAssociation\": \"MEMBER\"}, {\"username\": \"macwoj\", \"authored\": 1, \"authorAssociation\": \"CONTRIBUTOR\"}, {\"username\": \"ktaletsk\", \"authored\": 1, \"authorAssociation\": \"CONTRIBUTOR\"}, {\"username\": \"austinbrian\", \"authored\": 1, \"authorAssociation\": \"CONTRIBUTOR\"}, {\"username\": \"gitjeff05\", \"authored\": 1, \"authorAssociation\": \"NONE\"}, {\"username\": \"ellisonbg\", \"authored\": 1, \"authorAssociation\": \"MEMBER\"}, {\"username\": \"borremosch\", \"authored\": 1, \"authorAssociation\": \"MEMBER\"}, {\"username\": \"b-trav\", \"authored\": 1, \"authorAssociation\": \"CONTRIBUTOR\"}, {\"username\": \"yuvipanda\", \"authored\": 1, \"authorAssociation\": \"CONTRIBUTOR\"}]}};\n",
       "      var embedOpt = {\"mode\": \"vega-lite\"};\n",
       "\n",
       "      function showError(el, error){\n",
       "          el.innerHTML = ('<div class=\"error\" style=\"color:red;\">'\n",
       "                          + '<p>JavaScript Error: ' + error.message + '</p>'\n",
       "                          + \"<p>This usually means there's a typo in your chart specification. \"\n",
       "                          + \"See the javascript console for the full traceback.</p>\"\n",
       "                          + '</div>');\n",
       "          throw error;\n",
       "      }\n",
       "      const el = document.getElementById('altair-viz-2');\n",
       "      vegaEmbed(\"#altair-viz-2\", spec, embedOpt)\n",
       "        .catch(error => showError(el, error));\n",
       "    });\n",
       "\n",
       "  </script>"
      ],
      "text/plain": [
       "alt.HConcatChart(...)"
      ]
     },
     "execution_count": 17,
     "metadata": {},
     "output_type": "execute_result"
    }
   ],
   "source": [
    "n_plot = 50\n",
    "charts = []\n",
    "for ii, (iorg, idata) in enumerate(merged_by_repo.replace(np.nan, 0).groupby(['org'])):\n",
    "    title = f\"PR authors for {iorg} in the last {n_days} days\"\n",
    "    idata = idata.groupby('username', as_index=False).agg({'authored': 'sum', 'authorAssociation': 'first'})\n",
    "    idata = idata.sort_values('authored', ascending=False).head(n_plot)\n",
    "    ch = alt.Chart(data=idata, width=1000, title=title).mark_bar().encode(\n",
    "        x='username',\n",
    "        y='authored',\n",
    "        color=alt.Color('authorAssociation', scale=alt.Scale(domain=author_types, range=author_colors))\n",
    "    )\n",
    "    charts.append(ch)\n",
    "\n",
    "alt.hconcat(*charts)"
   ]
  },
  {
   "cell_type": "code",
   "execution_count": 18,
   "metadata": {
    "papermill": {
     "duration": 0.202948,
     "end_time": "2019-12-01T17:52:37.677849",
     "exception": false,
     "start_time": "2019-12-01T17:52:37.474901",
     "status": "completed"
    },
    "tags": []
   },
   "outputs": [
    {
     "data": {
      "text/html": [
       "\n",
       "  <style>\n",
       "    .error {\n",
       "        color: red;\n",
       "    }\n",
       "  </style>\n",
       "  <div id=\"altair-viz-3\"></div>\n",
       "  <script>\n",
       "    requirejs.config({\n",
       "        \"paths\": {\n",
       "            \"vega\": \"https://cdn.jsdelivr.net/npm//vega@5?noext\",\n",
       "            \"vega-lib\": \"https://cdn.jsdelivr.net/npm//vega-lib?noext\",\n",
       "            \"vega-lite\": \"https://cdn.jsdelivr.net/npm//vega-lite@3.4.0?noext\",\n",
       "            \"vega-embed\": \"https://cdn.jsdelivr.net/npm//vega-embed@5?noext\",\n",
       "        }\n",
       "    });\n",
       "    \n",
       "    require(['vega-embed'],function(vegaEmbed) {\n",
       "      var spec = {\"config\": {\"axisLeft\": {\"labelFontSize\": 15}, \"axisBottom\": {\"labelFontSize\": 15}}, \"hconcat\": [{\"data\": {\"name\": \"data-a6025f1136a34f38e010f6005e2320fc\"}, \"mark\": \"bar\", \"encoding\": {\"x\": {\"type\": \"nominal\", \"field\": \"username\"}, \"y\": {\"type\": \"quantitative\", \"field\": \"closed\"}}, \"title\": \"Merges for binder-examples in the last 30 days\", \"width\": 1000}, {\"data\": {\"name\": \"data-6b932f308261dab9bf89c34bf4bb1200\"}, \"mark\": \"bar\", \"encoding\": {\"x\": {\"type\": \"nominal\", \"field\": \"username\"}, \"y\": {\"type\": \"quantitative\", \"field\": \"closed\"}}, \"title\": \"Merges for ipython in the last 30 days\", \"width\": 1000}, {\"data\": {\"name\": \"data-e5a14dab8d5101ce11922cfd32b57b1f\"}, \"mark\": \"bar\", \"encoding\": {\"x\": {\"type\": \"nominal\", \"field\": \"username\"}, \"y\": {\"type\": \"quantitative\", \"field\": \"closed\"}}, \"title\": \"Merges for jupyter in the last 30 days\", \"width\": 1000}, {\"data\": {\"name\": \"data-49bc264db32d27e93710ea20d825fb1e\"}, \"mark\": \"bar\", \"encoding\": {\"x\": {\"type\": \"nominal\", \"field\": \"username\"}, \"y\": {\"type\": \"quantitative\", \"field\": \"closed\"}}, \"title\": \"Merges for jupyter-widgets in the last 30 days\", \"width\": 1000}, {\"data\": {\"name\": \"data-435f67a720b9b88e62ca41fc4731c114\"}, \"mark\": \"bar\", \"encoding\": {\"x\": {\"type\": \"nominal\", \"field\": \"username\"}, \"y\": {\"type\": \"quantitative\", \"field\": \"closed\"}}, \"title\": \"Merges for jupyterhub in the last 30 days\", \"width\": 1000}, {\"data\": {\"name\": \"data-7d8670e961ca2bf1eafeb003d0cf4001\"}, \"mark\": \"bar\", \"encoding\": {\"x\": {\"type\": \"nominal\", \"field\": \"username\"}, \"y\": {\"type\": \"quantitative\", \"field\": \"closed\"}}, \"title\": \"Merges for jupyterlab in the last 30 days\", \"width\": 1000}], \"$schema\": \"https://vega.github.io/schema/vega-lite/v3.4.0.json\", \"datasets\": {\"data-a6025f1136a34f38e010f6005e2320fc\": [{\"org\": \"binder-examples\", \"repo\": \"requirements\", \"username\": \"betatim\", \"closed\": 1}], \"data-6b932f308261dab9bf89c34bf4bb1200\": [{\"org\": \"ipython\", \"repo\": \"ipykernel\", \"username\": \"blink1073\", \"closed\": 1}, {\"org\": \"ipython\", \"repo\": \"ipykernel\", \"username\": \"takluyver\", \"closed\": 1}, {\"org\": \"ipython\", \"repo\": \"ipython\", \"username\": \"Carreau\", \"closed\": 9}, {\"org\": \"ipython\", \"repo\": \"ipython\", \"username\": \"minrk\", \"closed\": 1}, {\"org\": \"ipython\", \"repo\": \"traitlets\", \"username\": \"rmorshea\", \"closed\": 1}], \"data-e5a14dab8d5101ce11922cfd32b57b1f\": [{\"org\": \"jupyter\", \"repo\": \"accessibility\", \"username\": \"choldgraf\", \"closed\": 3}, {\"org\": \"jupyter\", \"repo\": \"docker-stacks\", \"username\": \"parente\", \"closed\": 4}, {\"org\": \"jupyter\", \"repo\": \"enterprise_gateway\", \"username\": \"kevin-bates\", \"closed\": 3}, {\"org\": \"jupyter\", \"repo\": \"enterprise_gateway\", \"username\": \"lresende\", \"closed\": 1}, {\"org\": \"jupyter\", \"repo\": \"governance\", \"username\": \"choldgraf\", \"closed\": 1}, {\"org\": \"jupyter\", \"repo\": \"jupyter\", \"username\": \"choldgraf\", \"closed\": 1}, {\"org\": \"jupyter\", \"repo\": \"jupyter\", \"username\": \"parente\", \"closed\": 8}, {\"org\": \"jupyter\", \"repo\": \"jupyter-book\", \"username\": \"choldgraf\", \"closed\": 1}, {\"org\": \"jupyter\", \"repo\": \"jupyter-sphinx\", \"username\": \"akhmerov\", \"closed\": 2}, {\"org\": \"jupyter\", \"repo\": \"jupyter-sphinx\", \"username\": \"jbweston\", \"closed\": 1}, {\"org\": \"jupyter\", \"repo\": \"jupyter.github.io\", \"username\": \"choldgraf\", \"closed\": 1}, {\"org\": \"jupyter\", \"repo\": \"jupyter_core\", \"username\": \"takluyver\", \"closed\": 3}, {\"org\": \"jupyter\", \"repo\": \"jupyter_server\", \"username\": \"vidartf\", \"closed\": 2}, {\"org\": \"jupyter\", \"repo\": \"nbconvert\", \"username\": \"MSeal\", \"closed\": 6}, {\"org\": \"jupyter\", \"repo\": \"nbdime\", \"username\": \"vidartf\", \"closed\": 2}, {\"org\": \"jupyter\", \"repo\": \"nbgrader\", \"username\": \"jhamrick\", \"closed\": 18}, {\"org\": \"jupyter\", \"repo\": \"notebook\", \"username\": \"lresende\", \"closed\": 1}, {\"org\": \"jupyter\", \"repo\": \"notebook\", \"username\": \"takluyver\", \"closed\": 8}, {\"org\": \"jupyter\", \"repo\": \"qtconsole\", \"username\": \"ccordoba12\", \"closed\": 2}, {\"org\": \"jupyter\", \"repo\": \"repo2docker\", \"username\": \"betatim\", \"closed\": 3}, {\"org\": \"jupyter\", \"repo\": \"repo2docker\", \"username\": \"choldgraf\", \"closed\": 1}, {\"org\": \"jupyter\", \"repo\": \"telemetry\", \"username\": \"Zsailer\", \"closed\": 1}, {\"org\": \"jupyter\", \"repo\": \"terminado\", \"username\": \"blink1073\", \"closed\": 1}], \"data-49bc264db32d27e93710ea20d825fb1e\": [{\"org\": \"jupyter-widgets\", \"repo\": \"ipyleaflet\", \"username\": \"martinRenou\", \"closed\": 5}, {\"org\": \"jupyter-widgets\", \"repo\": \"ipywidgets\", \"username\": \"jasongrout\", \"closed\": 3}, {\"org\": \"jupyter-widgets\", \"repo\": \"midicontrols\", \"username\": \"jasongrout\", \"closed\": 1}, {\"org\": \"jupyter-widgets\", \"repo\": \"pythreejs\", \"username\": \"vidartf\", \"closed\": 4}, {\"org\": \"jupyter-widgets\", \"repo\": \"widget-ts-cookiecutter\", \"username\": \"SylvainCorlay\", \"closed\": 1}], \"data-435f67a720b9b88e62ca41fc4731c114\": [{\"org\": \"jupyterhub\", \"repo\": \"batchspawner\", \"username\": \"mbmilligan\", \"closed\": 1}, {\"org\": \"jupyterhub\", \"repo\": \"binder\", \"username\": \"sgibson91\", \"closed\": 1}, {\"org\": \"jupyterhub\", \"repo\": \"binderhub\", \"username\": \"betatim\", \"closed\": 11}, {\"org\": \"jupyterhub\", \"repo\": \"binderhub\", \"username\": \"bitnik\", \"closed\": 1}, {\"org\": \"jupyterhub\", \"repo\": \"binderhub\", \"username\": \"sgibson91\", \"closed\": 1}, {\"org\": \"jupyterhub\", \"repo\": \"chartpress\", \"username\": \"consideRatio\", \"closed\": 3}, {\"org\": \"jupyterhub\", \"repo\": \"chartpress\", \"username\": \"minrk\", \"closed\": 3}, {\"org\": \"jupyterhub\", \"repo\": \"configurable-http-proxy\", \"username\": \"betatim\", \"closed\": 1}, {\"org\": \"jupyterhub\", \"repo\": \"configurable-http-proxy\", \"username\": \"consideRatio\", \"closed\": 2}, {\"org\": \"jupyterhub\", \"repo\": \"configurable-http-proxy\", \"username\": \"minrk\", \"closed\": 2}, {\"org\": \"jupyterhub\", \"repo\": \"dockerspawner\", \"username\": \"GeorgianaElena\", \"closed\": 1}, {\"org\": \"jupyterhub\", \"repo\": \"jupyter-server-proxy\", \"username\": \"betatim\", \"closed\": 2}, {\"org\": \"jupyterhub\", \"repo\": \"jupyter-server-proxy\", \"username\": \"ian-r-rose\", \"closed\": 1}, {\"org\": \"jupyterhub\", \"repo\": \"jupyter-server-proxy\", \"username\": \"yuvipanda\", \"closed\": 1}, {\"org\": \"jupyterhub\", \"repo\": \"jupyterhub\", \"username\": \"betatim\", \"closed\": 5}, {\"org\": \"jupyterhub\", \"repo\": \"jupyterhub\", \"username\": \"minrk\", \"closed\": 4}, {\"org\": \"jupyterhub\", \"repo\": \"kubespawner\", \"username\": \"betatim\", \"closed\": 1}, {\"org\": \"jupyterhub\", \"repo\": \"kubespawner\", \"username\": \"consideRatio\", \"closed\": 8}, {\"org\": \"jupyterhub\", \"repo\": \"kubespawner\", \"username\": \"manics\", \"closed\": 1}, {\"org\": \"jupyterhub\", \"repo\": \"mybinder.org-deploy\", \"username\": \"betatim\", \"closed\": 22}, {\"org\": \"jupyterhub\", \"repo\": \"mybinder.org-deploy\", \"username\": \"choldgraf\", \"closed\": 2}, {\"org\": \"jupyterhub\", \"repo\": \"mybinder.org-deploy\", \"username\": \"sgibson91\", \"closed\": 4}, {\"org\": \"jupyterhub\", \"repo\": \"nbgitpuller\", \"username\": \"ryanlovett\", \"closed\": 1}, {\"org\": \"jupyterhub\", \"repo\": \"nbgitpuller\", \"username\": \"yuvipanda\", \"closed\": 1}, {\"org\": \"jupyterhub\", \"repo\": \"oauthenticator\", \"username\": \"betatim\", \"closed\": 1}, {\"org\": \"jupyterhub\", \"repo\": \"oauthenticator\", \"username\": \"consideRatio\", \"closed\": 4}, {\"org\": \"jupyterhub\", \"repo\": \"oauthenticator\", \"username\": \"manics\", \"closed\": 1}, {\"org\": \"jupyterhub\", \"repo\": \"oauthenticator\", \"username\": \"yuvipanda\", \"closed\": 2}, {\"org\": \"jupyterhub\", \"repo\": \"outreachy\", \"username\": \"choldgraf\", \"closed\": 1}, {\"org\": \"jupyterhub\", \"repo\": \"team-compass\", \"username\": \"betatim\", \"closed\": 3}, {\"org\": \"jupyterhub\", \"repo\": \"team-compass\", \"username\": \"choldgraf\", \"closed\": 2}, {\"org\": \"jupyterhub\", \"repo\": \"the-littlest-jupyterhub\", \"username\": \"yuvipanda\", \"closed\": 1}, {\"org\": \"jupyterhub\", \"repo\": \"zero-to-jupyterhub-k8s\", \"username\": \"consideRatio\", \"closed\": 12}, {\"org\": \"jupyterhub\", \"repo\": \"zero-to-jupyterhub-k8s\", \"username\": \"manics\", \"closed\": 1}], \"data-7d8670e961ca2bf1eafeb003d0cf4001\": [{\"org\": \"jupyterlab\", \"repo\": \"debugger\", \"username\": \"JohanMabille\", \"closed\": 17}, {\"org\": \"jupyterlab\", \"repo\": \"debugger\", \"username\": \"KsavinN\", \"closed\": 5}, {\"org\": \"jupyterlab\", \"repo\": \"debugger\", \"username\": \"afshin\", \"closed\": 7}, {\"org\": \"jupyterlab\", \"repo\": \"debugger\", \"username\": \"jtpio\", \"closed\": 13}, {\"org\": \"jupyterlab\", \"repo\": \"extension-cookiecutter-ts\", \"username\": \"blink1073\", \"closed\": 4}, {\"org\": \"jupyterlab\", \"repo\": \"jupyterlab\", \"username\": \"blink1073\", \"closed\": 12}, {\"org\": \"jupyterlab\", \"repo\": \"jupyterlab\", \"username\": \"ian-r-rose\", \"closed\": 1}, {\"org\": \"jupyterlab\", \"repo\": \"jupyterlab\", \"username\": \"jasongrout\", \"closed\": 12}, {\"org\": \"jupyterlab\", \"repo\": \"jupyterlab\", \"username\": \"telamonian\", \"closed\": 1}, {\"org\": \"jupyterlab\", \"repo\": \"jupyterlab-commenting\", \"username\": \"kgryte\", \"closed\": 2}, {\"org\": \"jupyterlab\", \"repo\": \"jupyterlab-commenting\", \"username\": \"saulshanabrook\", \"closed\": 5}, {\"org\": \"jupyterlab\", \"repo\": \"jupyterlab-data-explorer\", \"username\": \"kgryte\", \"closed\": 2}, {\"org\": \"jupyterlab\", \"repo\": \"jupyterlab-data-explorer\", \"username\": \"saulshanabrook\", \"closed\": 2}, {\"org\": \"jupyterlab\", \"repo\": \"jupyterlab-git\", \"username\": \"fcollonval\", \"closed\": 2}, {\"org\": \"jupyterlab\", \"repo\": \"jupyterlab-git\", \"username\": \"telamonian\", \"closed\": 3}, {\"org\": \"jupyterlab\", \"repo\": \"jupyterlab-latex\", \"username\": \"ian-r-rose\", \"closed\": 2}, {\"org\": \"jupyterlab\", \"repo\": \"jupyterlab-metadata-service\", \"username\": \"kgryte\", \"closed\": 1}, {\"org\": \"jupyterlab\", \"repo\": \"jupyterlab-metadata-service\", \"username\": \"saulshanabrook\", \"closed\": 2}, {\"org\": \"jupyterlab\", \"repo\": \"lumino\", \"username\": \"blink1073\", \"closed\": 3}]}};\n",
       "      var embedOpt = {\"mode\": \"vega-lite\"};\n",
       "\n",
       "      function showError(el, error){\n",
       "          el.innerHTML = ('<div class=\"error\" style=\"color:red;\">'\n",
       "                          + '<p>JavaScript Error: ' + error.message + '</p>'\n",
       "                          + \"<p>This usually means there's a typo in your chart specification. \"\n",
       "                          + \"See the javascript console for the full traceback.</p>\"\n",
       "                          + '</div>');\n",
       "          throw error;\n",
       "      }\n",
       "      const el = document.getElementById('altair-viz-3');\n",
       "      vegaEmbed(\"#altair-viz-3\", spec, embedOpt)\n",
       "        .catch(error => showError(el, error));\n",
       "    });\n",
       "\n",
       "  </script>"
      ],
      "text/plain": [
       "alt.HConcatChart(...)"
      ]
     },
     "execution_count": 18,
     "metadata": {},
     "output_type": "execute_result"
    }
   ],
   "source": [
    "charts = []\n",
    "for ii, (iorg, idata) in enumerate(closed_by_repo.replace(np.nan, 0).groupby(['org'])):\n",
    "    title = f\"Merges for {iorg} in the last {n_days} days\"\n",
    "    ch = alt.Chart(data=idata, width=1000, title=title).mark_bar().encode(\n",
    "        x='username',\n",
    "        y='closed',\n",
    "    )\n",
    "    charts.append(ch)\n",
    "alt.hconcat(*charts)"
   ]
  },
  {
   "cell_type": "markdown",
   "metadata": {
    "papermill": {
     "duration": 0.048016,
     "end_time": "2019-12-01T17:52:37.762566",
     "exception": false,
     "start_time": "2019-12-01T17:52:37.714550",
     "status": "completed"
    },
    "tags": []
   },
   "source": [
    "## Issues\n",
    "\n",
    "Issues are **conversations** that happen on our GitHub repositories. Here's an\n",
    "analysis of issues across the Jupyter organizations."
   ]
  },
  {
   "cell_type": "code",
   "execution_count": 19,
   "metadata": {
    "papermill": {
     "duration": 0.111494,
     "end_time": "2019-12-01T17:52:37.931596",
     "exception": false,
     "start_time": "2019-12-01T17:52:37.820102",
     "status": "completed"
    },
    "tags": []
   },
   "outputs": [],
   "source": [
    "created = issues.query('state == \"OPEN\" and createdAt > @start_date and createdAt < @end_date')\n",
    "closed = issues.query('state == \"CLOSED\" and closedAt > @start_date and closedAt < @end_date')"
   ]
  },
  {
   "cell_type": "code",
   "execution_count": 20,
   "metadata": {
    "papermill": {
     "duration": 0.104198,
     "end_time": "2019-12-01T17:52:38.099016",
     "exception": false,
     "start_time": "2019-12-01T17:52:37.994818",
     "status": "completed"
    },
    "tags": [
     "hide_input"
    ]
   },
   "outputs": [
    {
     "data": {
      "text/html": [
       "\n",
       "  <style>\n",
       "    .error {\n",
       "        color: red;\n",
       "    }\n",
       "  </style>\n",
       "  <div id=\"altair-viz-4\"></div>\n",
       "  <script>\n",
       "    requirejs.config({\n",
       "        \"paths\": {\n",
       "            \"vega\": \"https://cdn.jsdelivr.net/npm//vega@5?noext\",\n",
       "            \"vega-lib\": \"https://cdn.jsdelivr.net/npm//vega-lib?noext\",\n",
       "            \"vega-lite\": \"https://cdn.jsdelivr.net/npm//vega-lite@3.4.0?noext\",\n",
       "            \"vega-embed\": \"https://cdn.jsdelivr.net/npm//vega-embed@5?noext\",\n",
       "        }\n",
       "    });\n",
       "    \n",
       "    require(['vega-embed'],function(vegaEmbed) {\n",
       "      var spec = {\"config\": {\"axisLeft\": {\"labelFontSize\": 15}, \"axisBottom\": {\"labelFontSize\": 15}}, \"data\": {\"name\": \"data-62b85def24c1702c20a384cb22264bc7\"}, \"mark\": \"bar\", \"encoding\": {\"color\": {\"type\": \"nominal\", \"field\": \"org\"}, \"x\": {\"type\": \"nominal\", \"field\": \"repo\", \"sort\": [\"jupyterlab\", \"debugger\", \"jupyterlab-git\", \"jupyterlab-data-explorer\", \"jupyterlab-commenting\", \"jupyterlab-toc\", \"jupyterlab-latex\", \"jupyterlab-hdf5\", \"jupyterlab-github\", \"jupyterlab_server\", \"lumino\", \"team-compass\", \"theme-cookiecutter\", \"jupyterhub\", \"zero-to-jupyterhub-k8s\", \"oauthenticator\", \"the-littlest-jupyterhub\", \"binderhub\", \"dockerspawner\", \"team-compass\", \"batchspawner\", \"chartpress\", \"kubespawner\", \"ldapauthenticator\", \"binder\", \"nbgitpuller\", \"systemdspawner\", \"yarnspawner\", \"ipywidgets\", \"ipyleaflet\", \"pythreejs\", \"jupyterlab-sidecar\", \"notebook\", \"jupyter-book\", \"nbconvert\", \"nbgrader\", \"jupyter\", \"docker-stacks\", \"repo2docker\", \"enterprise_gateway\", \"nbviewer\", \"jupyter_server\", \"jupyter_client\", \"qtconsole\", \"accessibility\", \"atom-notebook\", \"debugger\", \"governance\", \"jupyter_console\", \"nbdime\", \"nbformat\", \"ipython\", \"ipykernel\", \"traitlets\"]}, \"y\": {\"type\": \"quantitative\", \"field\": \"number\"}}, \"title\": \"Issues created in the last 30 days\", \"$schema\": \"https://vega.github.io/schema/vega-lite/v3.4.0.json\", \"datasets\": {\"data-62b85def24c1702c20a384cb22264bc7\": [{\"org\": \"ipython\", \"repo\": \"ipykernel\", \"number\": 4, \"org/repo\": \"ipython/ipykernel\"}, {\"org\": \"ipython\", \"repo\": \"ipython\", \"number\": 23, \"org/repo\": \"ipython/ipython\"}, {\"org\": \"ipython\", \"repo\": \"traitlets\", \"number\": 2, \"org/repo\": \"ipython/traitlets\"}, {\"org\": \"jupyter\", \"repo\": \"accessibility\", \"number\": 1, \"org/repo\": \"jupyter/accessibility\"}, {\"org\": \"jupyter\", \"repo\": \"atom-notebook\", \"number\": 1, \"org/repo\": \"jupyter/atom-notebook\"}, {\"org\": \"jupyter\", \"repo\": \"debugger\", \"number\": 1, \"org/repo\": \"jupyter/debugger\"}, {\"org\": \"jupyter\", \"repo\": \"docker-stacks\", \"number\": 5, \"org/repo\": \"jupyter/docker-stacks\"}, {\"org\": \"jupyter\", \"repo\": \"enterprise_gateway\", \"number\": 4, \"org/repo\": \"jupyter/enterprise_gateway\"}, {\"org\": \"jupyter\", \"repo\": \"governance\", \"number\": 1, \"org/repo\": \"jupyter/governance\"}, {\"org\": \"jupyter\", \"repo\": \"jupyter\", \"number\": 6, \"org/repo\": \"jupyter/jupyter\"}, {\"org\": \"jupyter\", \"repo\": \"jupyter-book\", \"number\": 10, \"org/repo\": \"jupyter/jupyter-book\"}, {\"org\": \"jupyter\", \"repo\": \"jupyter_client\", \"number\": 2, \"org/repo\": \"jupyter/jupyter_client\"}, {\"org\": \"jupyter\", \"repo\": \"jupyter_console\", \"number\": 1, \"org/repo\": \"jupyter/jupyter_console\"}, {\"org\": \"jupyter\", \"repo\": \"jupyter_server\", \"number\": 3, \"org/repo\": \"jupyter/jupyter_server\"}, {\"org\": \"jupyter\", \"repo\": \"nbconvert\", \"number\": 8, \"org/repo\": \"jupyter/nbconvert\"}, {\"org\": \"jupyter\", \"repo\": \"nbdime\", \"number\": 1, \"org/repo\": \"jupyter/nbdime\"}, {\"org\": \"jupyter\", \"repo\": \"nbformat\", \"number\": 1, \"org/repo\": \"jupyter/nbformat\"}, {\"org\": \"jupyter\", \"repo\": \"nbgrader\", \"number\": 8, \"org/repo\": \"jupyter/nbgrader\"}, {\"org\": \"jupyter\", \"repo\": \"nbviewer\", \"number\": 4, \"org/repo\": \"jupyter/nbviewer\"}, {\"org\": \"jupyter\", \"repo\": \"notebook\", \"number\": 36, \"org/repo\": \"jupyter/notebook\"}, {\"org\": \"jupyter\", \"repo\": \"qtconsole\", \"number\": 2, \"org/repo\": \"jupyter/qtconsole\"}, {\"org\": \"jupyter\", \"repo\": \"repo2docker\", \"number\": 5, \"org/repo\": \"jupyter/repo2docker\"}, {\"org\": \"jupyter-widgets\", \"repo\": \"ipyleaflet\", \"number\": 6, \"org/repo\": \"jupyter-widgets/ipyleaflet\"}, {\"org\": \"jupyter-widgets\", \"repo\": \"ipywidgets\", \"number\": 16, \"org/repo\": \"jupyter-widgets/ipywidgets\"}, {\"org\": \"jupyter-widgets\", \"repo\": \"jupyterlab-sidecar\", \"number\": 1, \"org/repo\": \"jupyter-widgets/jupyterlab-sidecar\"}, {\"org\": \"jupyter-widgets\", \"repo\": \"pythreejs\", \"number\": 4, \"org/repo\": \"jupyter-widgets/pythreejs\"}, {\"org\": \"jupyterhub\", \"repo\": \"batchspawner\", \"number\": 2, \"org/repo\": \"jupyterhub/batchspawner\"}, {\"org\": \"jupyterhub\", \"repo\": \"binder\", \"number\": 1, \"org/repo\": \"jupyterhub/binder\"}, {\"org\": \"jupyterhub\", \"repo\": \"binderhub\", \"number\": 5, \"org/repo\": \"jupyterhub/binderhub\"}, {\"org\": \"jupyterhub\", \"repo\": \"chartpress\", \"number\": 2, \"org/repo\": \"jupyterhub/chartpress\"}, {\"org\": \"jupyterhub\", \"repo\": \"dockerspawner\", \"number\": 4, \"org/repo\": \"jupyterhub/dockerspawner\"}, {\"org\": \"jupyterhub\", \"repo\": \"jupyterhub\", \"number\": 20, \"org/repo\": \"jupyterhub/jupyterhub\"}, {\"org\": \"jupyterhub\", \"repo\": \"kubespawner\", \"number\": 2, \"org/repo\": \"jupyterhub/kubespawner\"}, {\"org\": \"jupyterhub\", \"repo\": \"ldapauthenticator\", \"number\": 2, \"org/repo\": \"jupyterhub/ldapauthenticator\"}, {\"org\": \"jupyterhub\", \"repo\": \"nbgitpuller\", \"number\": 1, \"org/repo\": \"jupyterhub/nbgitpuller\"}, {\"org\": \"jupyterhub\", \"repo\": \"oauthenticator\", \"number\": 8, \"org/repo\": \"jupyterhub/oauthenticator\"}, {\"org\": \"jupyterhub\", \"repo\": \"systemdspawner\", \"number\": 1, \"org/repo\": \"jupyterhub/systemdspawner\"}, {\"org\": \"jupyterhub\", \"repo\": \"team-compass\", \"number\": 3, \"org/repo\": \"jupyterhub/team-compass\"}, {\"org\": \"jupyterhub\", \"repo\": \"the-littlest-jupyterhub\", \"number\": 8, \"org/repo\": \"jupyterhub/the-littlest-jupyterhub\"}, {\"org\": \"jupyterhub\", \"repo\": \"yarnspawner\", \"number\": 1, \"org/repo\": \"jupyterhub/yarnspawner\"}, {\"org\": \"jupyterhub\", \"repo\": \"zero-to-jupyterhub-k8s\", \"number\": 15, \"org/repo\": \"jupyterhub/zero-to-jupyterhub-k8s\"}, {\"org\": \"jupyterlab\", \"repo\": \"debugger\", \"number\": 21, \"org/repo\": \"jupyterlab/debugger\"}, {\"org\": \"jupyterlab\", \"repo\": \"jupyterlab\", \"number\": 54, \"org/repo\": \"jupyterlab/jupyterlab\"}, {\"org\": \"jupyterlab\", \"repo\": \"jupyterlab-commenting\", \"number\": 6, \"org/repo\": \"jupyterlab/jupyterlab-commenting\"}, {\"org\": \"jupyterlab\", \"repo\": \"jupyterlab-data-explorer\", \"number\": 8, \"org/repo\": \"jupyterlab/jupyterlab-data-explorer\"}, {\"org\": \"jupyterlab\", \"repo\": \"jupyterlab-git\", \"number\": 10, \"org/repo\": \"jupyterlab/jupyterlab-git\"}, {\"org\": \"jupyterlab\", \"repo\": \"jupyterlab-github\", \"number\": 1, \"org/repo\": \"jupyterlab/jupyterlab-github\"}, {\"org\": \"jupyterlab\", \"repo\": \"jupyterlab-hdf5\", \"number\": 2, \"org/repo\": \"jupyterlab/jupyterlab-hdf5\"}, {\"org\": \"jupyterlab\", \"repo\": \"jupyterlab-latex\", \"number\": 3, \"org/repo\": \"jupyterlab/jupyterlab-latex\"}, {\"org\": \"jupyterlab\", \"repo\": \"jupyterlab-toc\", \"number\": 4, \"org/repo\": \"jupyterlab/jupyterlab-toc\"}, {\"org\": \"jupyterlab\", \"repo\": \"jupyterlab_server\", \"number\": 1, \"org/repo\": \"jupyterlab/jupyterlab_server\"}, {\"org\": \"jupyterlab\", \"repo\": \"lumino\", \"number\": 1, \"org/repo\": \"jupyterlab/lumino\"}, {\"org\": \"jupyterlab\", \"repo\": \"team-compass\", \"number\": 1, \"org/repo\": \"jupyterlab/team-compass\"}, {\"org\": \"jupyterlab\", \"repo\": \"theme-cookiecutter\", \"number\": 1, \"org/repo\": \"jupyterlab/theme-cookiecutter\"}]}};\n",
       "      var embedOpt = {\"mode\": \"vega-lite\"};\n",
       "\n",
       "      function showError(el, error){\n",
       "          el.innerHTML = ('<div class=\"error\" style=\"color:red;\">'\n",
       "                          + '<p>JavaScript Error: ' + error.message + '</p>'\n",
       "                          + \"<p>This usually means there's a typo in your chart specification. \"\n",
       "                          + \"See the javascript console for the full traceback.</p>\"\n",
       "                          + '</div>');\n",
       "          throw error;\n",
       "      }\n",
       "      const el = document.getElementById('altair-viz-4');\n",
       "      vegaEmbed(\"#altair-viz-4\", spec, embedOpt)\n",
       "        .catch(error => showError(el, error));\n",
       "    });\n",
       "\n",
       "  </script>"
      ],
      "text/plain": [
       "alt.Chart(...)"
      ]
     },
     "execution_count": 20,
     "metadata": {},
     "output_type": "execute_result"
    }
   ],
   "source": [
    "created_counts = created.groupby(['org', 'repo']).count()['number'].reset_index()\n",
    "created_counts['org/repo'] = created_counts.apply(lambda a: a['org'] + '/' + a['repo'], axis=1)\n",
    "sorted_vals = created_counts.sort_values(['org', 'number'], ascending=False)['repo'].values\n",
    "alt.Chart(data=created_counts, title=f\"Issues created in the last {n_days} days\").mark_bar().encode(\n",
    "    x=alt.X('repo', sort=alt.Sort(sorted_vals.tolist())),\n",
    "    y='number',\n",
    "    color='org',\n",
    ")"
   ]
  },
  {
   "cell_type": "code",
   "execution_count": 21,
   "metadata": {
    "papermill": {
     "duration": 0.093494,
     "end_time": "2019-12-01T17:52:38.231086",
     "exception": false,
     "start_time": "2019-12-01T17:52:38.137592",
     "status": "completed"
    },
    "tags": [
     "hide_input"
    ]
   },
   "outputs": [
    {
     "data": {
      "text/html": [
       "\n",
       "  <style>\n",
       "    .error {\n",
       "        color: red;\n",
       "    }\n",
       "  </style>\n",
       "  <div id=\"altair-viz-5\"></div>\n",
       "  <script>\n",
       "    requirejs.config({\n",
       "        \"paths\": {\n",
       "            \"vega\": \"https://cdn.jsdelivr.net/npm//vega@5?noext\",\n",
       "            \"vega-lib\": \"https://cdn.jsdelivr.net/npm//vega-lib?noext\",\n",
       "            \"vega-lite\": \"https://cdn.jsdelivr.net/npm//vega-lite@3.4.0?noext\",\n",
       "            \"vega-embed\": \"https://cdn.jsdelivr.net/npm//vega-embed@5?noext\",\n",
       "        }\n",
       "    });\n",
       "    \n",
       "    require(['vega-embed'],function(vegaEmbed) {\n",
       "      var spec = {\"config\": {\"axisLeft\": {\"labelFontSize\": 15}, \"axisBottom\": {\"labelFontSize\": 15}}, \"data\": {\"name\": \"data-412d203a87fa9c37c411c4579239e2c9\"}, \"mark\": \"bar\", \"encoding\": {\"color\": {\"type\": \"nominal\", \"field\": \"org\"}, \"x\": {\"type\": \"nominal\", \"field\": \"repo\", \"sort\": [\"debugger\", \"jupyterlab\", \"jupyterlab-git\", \"team-compass\", \"extension-cookiecutter-ts\", \"jupyterlab-data-explorer\", \"jupyterlab-metadata-service\", \"jupyterlab-toc\", \"jupyterlab-media\", \"jupyterlab-monaco\", \"team-compass\", \"zero-to-jupyterhub-k8s\", \"jupyterhub\", \"chartpress\", \"kubespawner\", \"binderhub\", \"configurable-http-proxy\", \"jupyter-server-proxy\", \"oauthenticator\", \"dockerspawner\", \"batchspawner\", \"helm-chart\", \"mybinder.org-deploy\", \"the-littlest-jupyterhub\", \"ipywidgets\", \"pythreejs\", \"notebook\", \"nbgrader\", \"nbviewer\", \"nbconvert\", \"qtconsole\", \"jupyter-sphinx\", \"docker-stacks\", \"enterprise_gateway\", \"accessibility\", \"atom-notebook\", \"governance\", \"jupyter-book\", \"jupyter_server\", \"kernel_gateway\", \"repo2docker\", \"steering\", \"terminado\", \"testpath\", \"ipython\", \"ipykernel\", \"conda\"]}, \"y\": {\"type\": \"quantitative\", \"field\": \"number\"}}, \"title\": \"Issues closed in the last 30 days\", \"$schema\": \"https://vega.github.io/schema/vega-lite/v3.4.0.json\", \"datasets\": {\"data-412d203a87fa9c37c411c4579239e2c9\": [{\"org\": \"binder-examples\", \"repo\": \"conda\", \"number\": 1, \"org/repo\": \"binder-examples/conda\"}, {\"org\": \"ipython\", \"repo\": \"ipykernel\", \"number\": 2, \"org/repo\": \"ipython/ipykernel\"}, {\"org\": \"ipython\", \"repo\": \"ipython\", \"number\": 12, \"org/repo\": \"ipython/ipython\"}, {\"org\": \"jupyter\", \"repo\": \"accessibility\", \"number\": 1, \"org/repo\": \"jupyter/accessibility\"}, {\"org\": \"jupyter\", \"repo\": \"atom-notebook\", \"number\": 1, \"org/repo\": \"jupyter/atom-notebook\"}, {\"org\": \"jupyter\", \"repo\": \"docker-stacks\", \"number\": 2, \"org/repo\": \"jupyter/docker-stacks\"}, {\"org\": \"jupyter\", \"repo\": \"enterprise_gateway\", \"number\": 2, \"org/repo\": \"jupyter/enterprise_gateway\"}, {\"org\": \"jupyter\", \"repo\": \"governance\", \"number\": 1, \"org/repo\": \"jupyter/governance\"}, {\"org\": \"jupyter\", \"repo\": \"jupyter-book\", \"number\": 1, \"org/repo\": \"jupyter/jupyter-book\"}, {\"org\": \"jupyter\", \"repo\": \"jupyter-sphinx\", \"number\": 3, \"org/repo\": \"jupyter/jupyter-sphinx\"}, {\"org\": \"jupyter\", \"repo\": \"jupyter_server\", \"number\": 1, \"org/repo\": \"jupyter/jupyter_server\"}, {\"org\": \"jupyter\", \"repo\": \"kernel_gateway\", \"number\": 1, \"org/repo\": \"jupyter/kernel_gateway\"}, {\"org\": \"jupyter\", \"repo\": \"nbconvert\", \"number\": 5, \"org/repo\": \"jupyter/nbconvert\"}, {\"org\": \"jupyter\", \"repo\": \"nbgrader\", \"number\": 20, \"org/repo\": \"jupyter/nbgrader\"}, {\"org\": \"jupyter\", \"repo\": \"nbviewer\", \"number\": 9, \"org/repo\": \"jupyter/nbviewer\"}, {\"org\": \"jupyter\", \"repo\": \"notebook\", \"number\": 23, \"org/repo\": \"jupyter/notebook\"}, {\"org\": \"jupyter\", \"repo\": \"qtconsole\", \"number\": 4, \"org/repo\": \"jupyter/qtconsole\"}, {\"org\": \"jupyter\", \"repo\": \"repo2docker\", \"number\": 1, \"org/repo\": \"jupyter/repo2docker\"}, {\"org\": \"jupyter\", \"repo\": \"steering\", \"number\": 1, \"org/repo\": \"jupyter/steering\"}, {\"org\": \"jupyter\", \"repo\": \"terminado\", \"number\": 1, \"org/repo\": \"jupyter/terminado\"}, {\"org\": \"jupyter\", \"repo\": \"testpath\", \"number\": 1, \"org/repo\": \"jupyter/testpath\"}, {\"org\": \"jupyter-widgets\", \"repo\": \"ipywidgets\", \"number\": 9, \"org/repo\": \"jupyter-widgets/ipywidgets\"}, {\"org\": \"jupyter-widgets\", \"repo\": \"pythreejs\", \"number\": 3, \"org/repo\": \"jupyter-widgets/pythreejs\"}, {\"org\": \"jupyterhub\", \"repo\": \"batchspawner\", \"number\": 1, \"org/repo\": \"jupyterhub/batchspawner\"}, {\"org\": \"jupyterhub\", \"repo\": \"binderhub\", \"number\": 5, \"org/repo\": \"jupyterhub/binderhub\"}, {\"org\": \"jupyterhub\", \"repo\": \"chartpress\", \"number\": 9, \"org/repo\": \"jupyterhub/chartpress\"}, {\"org\": \"jupyterhub\", \"repo\": \"configurable-http-proxy\", \"number\": 4, \"org/repo\": \"jupyterhub/configurable-http-proxy\"}, {\"org\": \"jupyterhub\", \"repo\": \"dockerspawner\", \"number\": 3, \"org/repo\": \"jupyterhub/dockerspawner\"}, {\"org\": \"jupyterhub\", \"repo\": \"helm-chart\", \"number\": 1, \"org/repo\": \"jupyterhub/helm-chart\"}, {\"org\": \"jupyterhub\", \"repo\": \"jupyter-server-proxy\", \"number\": 4, \"org/repo\": \"jupyterhub/jupyter-server-proxy\"}, {\"org\": \"jupyterhub\", \"repo\": \"jupyterhub\", \"number\": 10, \"org/repo\": \"jupyterhub/jupyterhub\"}, {\"org\": \"jupyterhub\", \"repo\": \"kubespawner\", \"number\": 9, \"org/repo\": \"jupyterhub/kubespawner\"}, {\"org\": \"jupyterhub\", \"repo\": \"mybinder.org-deploy\", \"number\": 1, \"org/repo\": \"jupyterhub/mybinder.org-deploy\"}, {\"org\": \"jupyterhub\", \"repo\": \"oauthenticator\", \"number\": 4, \"org/repo\": \"jupyterhub/oauthenticator\"}, {\"org\": \"jupyterhub\", \"repo\": \"team-compass\", \"number\": 12, \"org/repo\": \"jupyterhub/team-compass\"}, {\"org\": \"jupyterhub\", \"repo\": \"the-littlest-jupyterhub\", \"number\": 1, \"org/repo\": \"jupyterhub/the-littlest-jupyterhub\"}, {\"org\": \"jupyterhub\", \"repo\": \"zero-to-jupyterhub-k8s\", \"number\": 12, \"org/repo\": \"jupyterhub/zero-to-jupyterhub-k8s\"}, {\"org\": \"jupyterlab\", \"repo\": \"debugger\", \"number\": 54, \"org/repo\": \"jupyterlab/debugger\"}, {\"org\": \"jupyterlab\", \"repo\": \"extension-cookiecutter-ts\", \"number\": 2, \"org/repo\": \"jupyterlab/extension-cookiecutter-ts\"}, {\"org\": \"jupyterlab\", \"repo\": \"jupyterlab\", \"number\": 38, \"org/repo\": \"jupyterlab/jupyterlab\"}, {\"org\": \"jupyterlab\", \"repo\": \"jupyterlab-data-explorer\", \"number\": 2, \"org/repo\": \"jupyterlab/jupyterlab-data-explorer\"}, {\"org\": \"jupyterlab\", \"repo\": \"jupyterlab-git\", \"number\": 8, \"org/repo\": \"jupyterlab/jupyterlab-git\"}, {\"org\": \"jupyterlab\", \"repo\": \"jupyterlab-media\", \"number\": 1, \"org/repo\": \"jupyterlab/jupyterlab-media\"}, {\"org\": \"jupyterlab\", \"repo\": \"jupyterlab-metadata-service\", \"number\": 2, \"org/repo\": \"jupyterlab/jupyterlab-metadata-service\"}, {\"org\": \"jupyterlab\", \"repo\": \"jupyterlab-monaco\", \"number\": 1, \"org/repo\": \"jupyterlab/jupyterlab-monaco\"}, {\"org\": \"jupyterlab\", \"repo\": \"jupyterlab-toc\", \"number\": 2, \"org/repo\": \"jupyterlab/jupyterlab-toc\"}, {\"org\": \"jupyterlab\", \"repo\": \"team-compass\", \"number\": 3, \"org/repo\": \"jupyterlab/team-compass\"}]}};\n",
       "      var embedOpt = {\"mode\": \"vega-lite\"};\n",
       "\n",
       "      function showError(el, error){\n",
       "          el.innerHTML = ('<div class=\"error\" style=\"color:red;\">'\n",
       "                          + '<p>JavaScript Error: ' + error.message + '</p>'\n",
       "                          + \"<p>This usually means there's a typo in your chart specification. \"\n",
       "                          + \"See the javascript console for the full traceback.</p>\"\n",
       "                          + '</div>');\n",
       "          throw error;\n",
       "      }\n",
       "      const el = document.getElementById('altair-viz-5');\n",
       "      vegaEmbed(\"#altair-viz-5\", spec, embedOpt)\n",
       "        .catch(error => showError(el, error));\n",
       "    });\n",
       "\n",
       "  </script>"
      ],
      "text/plain": [
       "alt.Chart(...)"
      ]
     },
     "execution_count": 21,
     "metadata": {},
     "output_type": "execute_result"
    }
   ],
   "source": [
    "closed_counts = closed.groupby(['org', 'repo']).count()['number'].reset_index()\n",
    "closed_counts['org/repo'] = closed_counts.apply(lambda a: a['org'] + '/' + a['repo'], axis=1)\n",
    "sorted_vals = closed_counts.sort_values(['org', 'number'], ascending=False)['repo'].values\n",
    "alt.Chart(data=closed_counts, title=f\"Issues closed in the last {n_days} days\").mark_bar().encode(\n",
    "    x=alt.X('repo', sort=alt.Sort(sorted_vals.tolist())),\n",
    "    y='number',\n",
    "    color='org',\n",
    ")"
   ]
  },
  {
   "cell_type": "code",
   "execution_count": 22,
   "metadata": {
    "papermill": {
     "duration": 0.074892,
     "end_time": "2019-12-01T17:52:38.337964",
     "exception": false,
     "start_time": "2019-12-01T17:52:38.263072",
     "status": "completed"
    },
    "tags": []
   },
   "outputs": [],
   "source": [
    "created_closed = pd.merge(created_counts.rename(columns={'number': 'created'}).drop(columns='org/repo'),\n",
    "                          closed_counts.rename(columns={'number': 'closed'}).drop(columns='org/repo'),\n",
    "                          on=['org', 'repo'], how='outer')\n",
    "\n",
    "created_closed = pd.melt(created_closed, id_vars=['org', 'repo'], var_name=\"kind\", value_name=\"count\").replace(np.nan, 0)"
   ]
  },
  {
   "cell_type": "code",
   "execution_count": 23,
   "metadata": {
    "papermill": {
     "duration": 0.173903,
     "end_time": "2019-12-01T17:52:38.550703",
     "exception": false,
     "start_time": "2019-12-01T17:52:38.376800",
     "status": "completed"
    },
    "tags": []
   },
   "outputs": [
    {
     "data": {
      "text/html": [
       "\n",
       "  <style>\n",
       "    .error {\n",
       "        color: red;\n",
       "    }\n",
       "  </style>\n",
       "  <div id=\"altair-viz-6\"></div>\n",
       "  <script>\n",
       "    requirejs.config({\n",
       "        \"paths\": {\n",
       "            \"vega\": \"https://cdn.jsdelivr.net/npm//vega@5?noext\",\n",
       "            \"vega-lib\": \"https://cdn.jsdelivr.net/npm//vega-lib?noext\",\n",
       "            \"vega-lite\": \"https://cdn.jsdelivr.net/npm//vega-lite@3.4.0?noext\",\n",
       "            \"vega-embed\": \"https://cdn.jsdelivr.net/npm//vega-embed@5?noext\",\n",
       "        }\n",
       "    });\n",
       "    \n",
       "    require(['vega-embed'],function(vegaEmbed) {\n",
       "      var spec = {\"config\": {\"axisLeft\": {\"labelFontSize\": 15}, \"axisBottom\": {\"labelFontSize\": 15}}, \"hconcat\": [{\"data\": {\"name\": \"data-8d4b88cb7f2c5e422e2b55766029c819\"}, \"mark\": \"bar\", \"encoding\": {\"color\": {\"type\": \"nominal\", \"field\": \"kind\"}, \"column\": {\"type\": \"nominal\", \"field\": \"repo\", \"header\": {\"labelFontSize\": 12, \"title\": \"Issue activity, last 30 days for binder-examples\", \"titleFontSize\": 15}}, \"x\": {\"type\": \"nominal\", \"axis\": {\"labelFontSize\": 15, \"title\": \"\"}, \"field\": \"kind\"}, \"y\": {\"type\": \"quantitative\", \"axis\": {\"labelFontSize\": 12, \"titleFontSize\": 15}, \"field\": \"count\"}}, \"width\": 120}, {\"data\": {\"name\": \"data-f977b32dc4e406308de23114a4844b0d\"}, \"mark\": \"bar\", \"encoding\": {\"color\": {\"type\": \"nominal\", \"field\": \"kind\"}, \"column\": {\"type\": \"nominal\", \"field\": \"repo\", \"header\": {\"labelFontSize\": 12, \"title\": \"Issue activity, last 30 days for ipython\", \"titleFontSize\": 15}}, \"x\": {\"type\": \"nominal\", \"axis\": {\"labelFontSize\": 15, \"title\": \"\"}, \"field\": \"kind\"}, \"y\": {\"type\": \"quantitative\", \"axis\": {\"labelFontSize\": 12, \"titleFontSize\": 15}, \"field\": \"count\"}}, \"width\": 120}, {\"data\": {\"name\": \"data-f785e79822970d99ecb803401da9bebd\"}, \"mark\": \"bar\", \"encoding\": {\"color\": {\"type\": \"nominal\", \"field\": \"kind\"}, \"column\": {\"type\": \"nominal\", \"field\": \"repo\", \"header\": {\"labelFontSize\": 12, \"title\": \"Issue activity, last 30 days for jupyter\", \"titleFontSize\": 15}}, \"x\": {\"type\": \"nominal\", \"axis\": {\"labelFontSize\": 15, \"title\": \"\"}, \"field\": \"kind\"}, \"y\": {\"type\": \"quantitative\", \"axis\": {\"labelFontSize\": 12, \"titleFontSize\": 15}, \"field\": \"count\"}}, \"width\": 120}, {\"data\": {\"name\": \"data-04cd3f3393729867d197bdbf3336a608\"}, \"mark\": \"bar\", \"encoding\": {\"color\": {\"type\": \"nominal\", \"field\": \"kind\"}, \"column\": {\"type\": \"nominal\", \"field\": \"repo\", \"header\": {\"labelFontSize\": 12, \"title\": \"Issue activity, last 30 days for jupyter-widgets\", \"titleFontSize\": 15}}, \"x\": {\"type\": \"nominal\", \"axis\": {\"labelFontSize\": 15, \"title\": \"\"}, \"field\": \"kind\"}, \"y\": {\"type\": \"quantitative\", \"axis\": {\"labelFontSize\": 12, \"titleFontSize\": 15}, \"field\": \"count\"}}, \"width\": 120}, {\"data\": {\"name\": \"data-c1206553d620d565891c212125b0cdbd\"}, \"mark\": \"bar\", \"encoding\": {\"color\": {\"type\": \"nominal\", \"field\": \"kind\"}, \"column\": {\"type\": \"nominal\", \"field\": \"repo\", \"header\": {\"labelFontSize\": 12, \"title\": \"Issue activity, last 30 days for jupyterhub\", \"titleFontSize\": 15}}, \"x\": {\"type\": \"nominal\", \"axis\": {\"labelFontSize\": 15, \"title\": \"\"}, \"field\": \"kind\"}, \"y\": {\"type\": \"quantitative\", \"axis\": {\"labelFontSize\": 12, \"titleFontSize\": 15}, \"field\": \"count\"}}, \"width\": 120}, {\"data\": {\"name\": \"data-a578223103adbfe05482aa84102e2579\"}, \"mark\": \"bar\", \"encoding\": {\"color\": {\"type\": \"nominal\", \"field\": \"kind\"}, \"column\": {\"type\": \"nominal\", \"field\": \"repo\", \"header\": {\"labelFontSize\": 12, \"title\": \"Issue activity, last 30 days for jupyterlab\", \"titleFontSize\": 15}}, \"x\": {\"type\": \"nominal\", \"axis\": {\"labelFontSize\": 15, \"title\": \"\"}, \"field\": \"kind\"}, \"y\": {\"type\": \"quantitative\", \"axis\": {\"labelFontSize\": 12, \"titleFontSize\": 15}, \"field\": \"count\"}}, \"width\": 120}], \"$schema\": \"https://vega.github.io/schema/vega-lite/v3.4.0.json\", \"datasets\": {\"data-8d4b88cb7f2c5e422e2b55766029c819\": [{\"org\": \"binder-examples\", \"repo\": \"conda\", \"kind\": \"created\", \"count\": 0.0}, {\"org\": \"binder-examples\", \"repo\": \"conda\", \"kind\": \"closed\", \"count\": 1.0}], \"data-f977b32dc4e406308de23114a4844b0d\": [{\"org\": \"ipython\", \"repo\": \"ipykernel\", \"kind\": \"created\", \"count\": 4.0}, {\"org\": \"ipython\", \"repo\": \"ipython\", \"kind\": \"created\", \"count\": 23.0}, {\"org\": \"ipython\", \"repo\": \"traitlets\", \"kind\": \"created\", \"count\": 2.0}, {\"org\": \"ipython\", \"repo\": \"ipykernel\", \"kind\": \"closed\", \"count\": 2.0}, {\"org\": \"ipython\", \"repo\": \"ipython\", \"kind\": \"closed\", \"count\": 12.0}, {\"org\": \"ipython\", \"repo\": \"traitlets\", \"kind\": \"closed\", \"count\": 0.0}], \"data-f785e79822970d99ecb803401da9bebd\": [{\"org\": \"jupyter\", \"repo\": \"docker-stacks\", \"kind\": \"created\", \"count\": 5.0}, {\"org\": \"jupyter\", \"repo\": \"enterprise_gateway\", \"kind\": \"created\", \"count\": 4.0}, {\"org\": \"jupyter\", \"repo\": \"jupyter\", \"kind\": \"created\", \"count\": 6.0}, {\"org\": \"jupyter\", \"repo\": \"jupyter-book\", \"kind\": \"created\", \"count\": 10.0}, {\"org\": \"jupyter\", \"repo\": \"nbconvert\", \"kind\": \"created\", \"count\": 8.0}, {\"org\": \"jupyter\", \"repo\": \"nbgrader\", \"kind\": \"created\", \"count\": 8.0}, {\"org\": \"jupyter\", \"repo\": \"nbviewer\", \"kind\": \"created\", \"count\": 4.0}, {\"org\": \"jupyter\", \"repo\": \"notebook\", \"kind\": \"created\", \"count\": 36.0}, {\"org\": \"jupyter\", \"repo\": \"qtconsole\", \"kind\": \"created\", \"count\": 2.0}, {\"org\": \"jupyter\", \"repo\": \"repo2docker\", \"kind\": \"created\", \"count\": 5.0}, {\"org\": \"jupyter\", \"repo\": \"docker-stacks\", \"kind\": \"closed\", \"count\": 2.0}, {\"org\": \"jupyter\", \"repo\": \"enterprise_gateway\", \"kind\": \"closed\", \"count\": 2.0}, {\"org\": \"jupyter\", \"repo\": \"jupyter\", \"kind\": \"closed\", \"count\": 0.0}, {\"org\": \"jupyter\", \"repo\": \"jupyter-book\", \"kind\": \"closed\", \"count\": 1.0}, {\"org\": \"jupyter\", \"repo\": \"nbconvert\", \"kind\": \"closed\", \"count\": 5.0}, {\"org\": \"jupyter\", \"repo\": \"nbgrader\", \"kind\": \"closed\", \"count\": 20.0}, {\"org\": \"jupyter\", \"repo\": \"nbviewer\", \"kind\": \"closed\", \"count\": 9.0}, {\"org\": \"jupyter\", \"repo\": \"notebook\", \"kind\": \"closed\", \"count\": 23.0}, {\"org\": \"jupyter\", \"repo\": \"qtconsole\", \"kind\": \"closed\", \"count\": 4.0}, {\"org\": \"jupyter\", \"repo\": \"repo2docker\", \"kind\": \"closed\", \"count\": 1.0}], \"data-04cd3f3393729867d197bdbf3336a608\": [{\"org\": \"jupyter-widgets\", \"repo\": \"ipyleaflet\", \"kind\": \"created\", \"count\": 6.0}, {\"org\": \"jupyter-widgets\", \"repo\": \"ipywidgets\", \"kind\": \"created\", \"count\": 16.0}, {\"org\": \"jupyter-widgets\", \"repo\": \"jupyterlab-sidecar\", \"kind\": \"created\", \"count\": 1.0}, {\"org\": \"jupyter-widgets\", \"repo\": \"pythreejs\", \"kind\": \"created\", \"count\": 4.0}, {\"org\": \"jupyter-widgets\", \"repo\": \"ipyleaflet\", \"kind\": \"closed\", \"count\": 0.0}, {\"org\": \"jupyter-widgets\", \"repo\": \"ipywidgets\", \"kind\": \"closed\", \"count\": 9.0}, {\"org\": \"jupyter-widgets\", \"repo\": \"jupyterlab-sidecar\", \"kind\": \"closed\", \"count\": 0.0}, {\"org\": \"jupyter-widgets\", \"repo\": \"pythreejs\", \"kind\": \"closed\", \"count\": 3.0}], \"data-c1206553d620d565891c212125b0cdbd\": [{\"org\": \"jupyterhub\", \"repo\": \"binderhub\", \"kind\": \"created\", \"count\": 5.0}, {\"org\": \"jupyterhub\", \"repo\": \"chartpress\", \"kind\": \"created\", \"count\": 2.0}, {\"org\": \"jupyterhub\", \"repo\": \"dockerspawner\", \"kind\": \"created\", \"count\": 4.0}, {\"org\": \"jupyterhub\", \"repo\": \"jupyterhub\", \"kind\": \"created\", \"count\": 20.0}, {\"org\": \"jupyterhub\", \"repo\": \"kubespawner\", \"kind\": \"created\", \"count\": 2.0}, {\"org\": \"jupyterhub\", \"repo\": \"oauthenticator\", \"kind\": \"created\", \"count\": 8.0}, {\"org\": \"jupyterhub\", \"repo\": \"team-compass\", \"kind\": \"created\", \"count\": 3.0}, {\"org\": \"jupyterhub\", \"repo\": \"the-littlest-jupyterhub\", \"kind\": \"created\", \"count\": 8.0}, {\"org\": \"jupyterhub\", \"repo\": \"zero-to-jupyterhub-k8s\", \"kind\": \"created\", \"count\": 15.0}, {\"org\": \"jupyterhub\", \"repo\": \"jupyter-server-proxy\", \"kind\": \"created\", \"count\": 0.0}, {\"org\": \"jupyterhub\", \"repo\": \"binderhub\", \"kind\": \"closed\", \"count\": 5.0}, {\"org\": \"jupyterhub\", \"repo\": \"chartpress\", \"kind\": \"closed\", \"count\": 9.0}, {\"org\": \"jupyterhub\", \"repo\": \"dockerspawner\", \"kind\": \"closed\", \"count\": 3.0}, {\"org\": \"jupyterhub\", \"repo\": \"jupyterhub\", \"kind\": \"closed\", \"count\": 10.0}, {\"org\": \"jupyterhub\", \"repo\": \"kubespawner\", \"kind\": \"closed\", \"count\": 9.0}, {\"org\": \"jupyterhub\", \"repo\": \"oauthenticator\", \"kind\": \"closed\", \"count\": 4.0}, {\"org\": \"jupyterhub\", \"repo\": \"team-compass\", \"kind\": \"closed\", \"count\": 12.0}, {\"org\": \"jupyterhub\", \"repo\": \"the-littlest-jupyterhub\", \"kind\": \"closed\", \"count\": 1.0}, {\"org\": \"jupyterhub\", \"repo\": \"zero-to-jupyterhub-k8s\", \"kind\": \"closed\", \"count\": 12.0}, {\"org\": \"jupyterhub\", \"repo\": \"jupyter-server-proxy\", \"kind\": \"closed\", \"count\": 4.0}], \"data-a578223103adbfe05482aa84102e2579\": [{\"org\": \"jupyterlab\", \"repo\": \"debugger\", \"kind\": \"created\", \"count\": 21.0}, {\"org\": \"jupyterlab\", \"repo\": \"jupyterlab\", \"kind\": \"created\", \"count\": 54.0}, {\"org\": \"jupyterlab\", \"repo\": \"jupyterlab-commenting\", \"kind\": \"created\", \"count\": 6.0}, {\"org\": \"jupyterlab\", \"repo\": \"jupyterlab-data-explorer\", \"kind\": \"created\", \"count\": 8.0}, {\"org\": \"jupyterlab\", \"repo\": \"jupyterlab-git\", \"kind\": \"created\", \"count\": 10.0}, {\"org\": \"jupyterlab\", \"repo\": \"jupyterlab-latex\", \"kind\": \"created\", \"count\": 3.0}, {\"org\": \"jupyterlab\", \"repo\": \"jupyterlab-toc\", \"kind\": \"created\", \"count\": 4.0}, {\"org\": \"jupyterlab\", \"repo\": \"team-compass\", \"kind\": \"created\", \"count\": 1.0}, {\"org\": \"jupyterlab\", \"repo\": \"extension-cookiecutter-ts\", \"kind\": \"created\", \"count\": 0.0}, {\"org\": \"jupyterlab\", \"repo\": \"jupyterlab-metadata-service\", \"kind\": \"created\", \"count\": 0.0}, {\"org\": \"jupyterlab\", \"repo\": \"debugger\", \"kind\": \"closed\", \"count\": 54.0}, {\"org\": \"jupyterlab\", \"repo\": \"jupyterlab\", \"kind\": \"closed\", \"count\": 38.0}, {\"org\": \"jupyterlab\", \"repo\": \"jupyterlab-commenting\", \"kind\": \"closed\", \"count\": 0.0}, {\"org\": \"jupyterlab\", \"repo\": \"jupyterlab-data-explorer\", \"kind\": \"closed\", \"count\": 2.0}, {\"org\": \"jupyterlab\", \"repo\": \"jupyterlab-git\", \"kind\": \"closed\", \"count\": 8.0}, {\"org\": \"jupyterlab\", \"repo\": \"jupyterlab-latex\", \"kind\": \"closed\", \"count\": 0.0}, {\"org\": \"jupyterlab\", \"repo\": \"jupyterlab-toc\", \"kind\": \"closed\", \"count\": 2.0}, {\"org\": \"jupyterlab\", \"repo\": \"team-compass\", \"kind\": \"closed\", \"count\": 3.0}, {\"org\": \"jupyterlab\", \"repo\": \"extension-cookiecutter-ts\", \"kind\": \"closed\", \"count\": 2.0}, {\"org\": \"jupyterlab\", \"repo\": \"jupyterlab-metadata-service\", \"kind\": \"closed\", \"count\": 2.0}]}};\n",
       "      var embedOpt = {\"mode\": \"vega-lite\"};\n",
       "\n",
       "      function showError(el, error){\n",
       "          el.innerHTML = ('<div class=\"error\" style=\"color:red;\">'\n",
       "                          + '<p>JavaScript Error: ' + error.message + '</p>'\n",
       "                          + \"<p>This usually means there's a typo in your chart specification. \"\n",
       "                          + \"See the javascript console for the full traceback.</p>\"\n",
       "                          + '</div>');\n",
       "          throw error;\n",
       "      }\n",
       "      const el = document.getElementById('altair-viz-6');\n",
       "      vegaEmbed(\"#altair-viz-6\", spec, embedOpt)\n",
       "        .catch(error => showError(el, error));\n",
       "    });\n",
       "\n",
       "  </script>"
      ],
      "text/plain": [
       "alt.HConcatChart(...)"
      ]
     },
     "execution_count": 23,
     "metadata": {},
     "output_type": "execute_result"
    }
   ],
   "source": [
    "charts = []\n",
    "for org in github_orgs:\n",
    "    # Pick the top 10 repositories\n",
    "    this_issues = created_closed.query('org == @org')\n",
    "    top_repos = this_issues.groupby(['repo']).sum().sort_values(by='count', ascending=False).head(10).index\n",
    "    ch = alt.Chart(this_issues.query('repo in @top_repos'), width=120).mark_bar().encode(\n",
    "        x=alt.X(\"kind\", axis=alt.Axis(labelFontSize=15, title=\"\")), \n",
    "        y=alt.Y('count', axis=alt.Axis(titleFontSize=15, labelFontSize=12)),\n",
    "        color='kind',\n",
    "        column=alt.Column(\"repo\", header=alt.Header(title=f\"Issue activity, last {n_days} days for {org}\", titleFontSize=15, labelFontSize=12))\n",
    "    )\n",
    "    charts.append(ch)\n",
    "alt.hconcat(*charts)"
   ]
  },
  {
   "cell_type": "code",
   "execution_count": 24,
   "metadata": {
    "papermill": {
     "duration": 0.05288,
     "end_time": "2019-12-01T17:52:38.635081",
     "exception": false,
     "start_time": "2019-12-01T17:52:38.582201",
     "status": "completed"
    },
    "tags": []
   },
   "outputs": [],
   "source": [
    "# Set to datetime\n",
    "for kind in ['createdAt', 'closedAt']:\n",
    "    closed.loc[:, kind] = pd.to_datetime(closed[kind])\n",
    "    \n",
    "closed.loc[:, 'time_open'] = closed['closedAt'] - closed['createdAt']\n",
    "closed.loc[:, 'time_open'] = closed['time_open'].dt.total_seconds()"
   ]
  },
  {
   "cell_type": "code",
   "execution_count": 25,
   "metadata": {
    "papermill": {
     "duration": 0.121633,
     "end_time": "2019-12-01T17:52:38.791309",
     "exception": false,
     "start_time": "2019-12-01T17:52:38.669676",
     "status": "completed"
    },
    "tags": []
   },
   "outputs": [
    {
     "data": {
      "text/html": [
       "\n",
       "  <style>\n",
       "    .error {\n",
       "        color: red;\n",
       "    }\n",
       "  </style>\n",
       "  <div id=\"altair-viz-7\"></div>\n",
       "  <script>\n",
       "    requirejs.config({\n",
       "        \"paths\": {\n",
       "            \"vega\": \"https://cdn.jsdelivr.net/npm//vega@5?noext\",\n",
       "            \"vega-lib\": \"https://cdn.jsdelivr.net/npm//vega-lib?noext\",\n",
       "            \"vega-lite\": \"https://cdn.jsdelivr.net/npm//vega-lite@3.4.0?noext\",\n",
       "            \"vega-embed\": \"https://cdn.jsdelivr.net/npm//vega-embed@5?noext\",\n",
       "        }\n",
       "    });\n",
       "    \n",
       "    require(['vega-embed'],function(vegaEmbed) {\n",
       "      var spec = {\"config\": {\"axisLeft\": {\"labelFontSize\": 15}, \"axisBottom\": {\"labelFontSize\": 15}}, \"data\": {\"name\": \"data-082fd4ba52aa596c22d07c3a818dc2b1\"}, \"mark\": \"bar\", \"encoding\": {\"color\": {\"type\": \"nominal\", \"field\": \"org\"}, \"x\": {\"type\": \"nominal\", \"field\": \"repo\", \"sort\": [\"extension-cookiecutter-ts\", \"jupyterlab-toc\", \"jupyterlab-data-explorer\", \"jupyterlab-media\", \"jupyterlab-metadata-service\", \"jupyterlab-git\", \"team-compass\", \"debugger\", \"jupyterlab\", \"jupyterlab-monaco\", \"binderhub\", \"team-compass\", \"oauthenticator\", \"zero-to-jupyterhub-k8s\", \"helm-chart\", \"jupyter-server-proxy\", \"kubespawner\", \"jupyterhub\", \"batchspawner\", \"chartpress\", \"configurable-http-proxy\", \"mybinder.org-deploy\", \"dockerspawner\", \"the-littlest-jupyterhub\", \"pythreejs\", \"ipywidgets\", \"repo2docker\", \"nbviewer\", \"steering\", \"accessibility\", \"docker-stacks\", \"jupyter-book\", \"nbgrader\", \"enterprise_gateway\", \"atom-notebook\", \"qtconsole\", \"jupyter-sphinx\", \"jupyter_server\", \"kernel_gateway\", \"notebook\", \"governance\", \"nbconvert\", \"testpath\", \"terminado\", \"ipython\", \"ipykernel\", \"conda\"]}, \"y\": {\"type\": \"quantitative\", \"field\": \"time_open\", \"title\": \"Median Days Open\"}}, \"title\": \"Time to close for issues closed in the last 30 days\", \"$schema\": \"https://vega.github.io/schema/vega-lite/v3.4.0.json\", \"datasets\": {\"data-082fd4ba52aa596c22d07c3a818dc2b1\": [{\"org\": \"binder-examples\", \"repo\": \"conda\", \"time_open\": 23.9816087962963, \"org/repo\": \"binder-examples/conda\"}, {\"org\": \"ipython\", \"repo\": \"ipykernel\", \"time_open\": 13.483148148148148, \"org/repo\": \"ipython/ipykernel\"}, {\"org\": \"ipython\", \"repo\": \"ipython\", \"time_open\": 24.02634259259259, \"org/repo\": \"ipython/ipython\"}, {\"org\": \"jupyter\", \"repo\": \"accessibility\", \"time_open\": 186.58711805555558, \"org/repo\": \"jupyter/accessibility\"}, {\"org\": \"jupyter\", \"repo\": \"atom-notebook\", \"time_open\": 11.283668981481483, \"org/repo\": \"jupyter/atom-notebook\"}, {\"org\": \"jupyter\", \"repo\": \"docker-stacks\", \"time_open\": 35.238570601851855, \"org/repo\": \"jupyter/docker-stacks\"}, {\"org\": \"jupyter\", \"repo\": \"enterprise_gateway\", \"time_open\": 16.830972222222222, \"org/repo\": \"jupyter/enterprise_gateway\"}, {\"org\": \"jupyter\", \"repo\": \"governance\", \"time_open\": 3.1302083333333335, \"org/repo\": \"jupyter/governance\"}, {\"org\": \"jupyter\", \"repo\": \"jupyter-book\", \"time_open\": 29.539722222222224, \"org/repo\": \"jupyter/jupyter-book\"}, {\"org\": \"jupyter\", \"repo\": \"jupyter-sphinx\", \"time_open\": 5.893275462962964, \"org/repo\": \"jupyter/jupyter-sphinx\"}, {\"org\": \"jupyter\", \"repo\": \"jupyter_server\", \"time_open\": 5.7608912037037046, \"org/repo\": \"jupyter/jupyter_server\"}, {\"org\": \"jupyter\", \"repo\": \"kernel_gateway\", \"time_open\": 5.5279745370370375, \"org/repo\": \"jupyter/kernel_gateway\"}, {\"org\": \"jupyter\", \"repo\": \"nbconvert\", \"time_open\": 1.288761574074074, \"org/repo\": \"jupyter/nbconvert\"}, {\"org\": \"jupyter\", \"repo\": \"nbgrader\", \"time_open\": 24.73954861111111, \"org/repo\": \"jupyter/nbgrader\"}, {\"org\": \"jupyter\", \"repo\": \"nbviewer\", \"time_open\": 352.39199074074077, \"org/repo\": \"jupyter/nbviewer\"}, {\"org\": \"jupyter\", \"repo\": \"notebook\", \"time_open\": 4.0302546296296295, \"org/repo\": \"jupyter/notebook\"}, {\"org\": \"jupyter\", \"repo\": \"qtconsole\", \"time_open\": 7.036197916666667, \"org/repo\": \"jupyter/qtconsole\"}, {\"org\": \"jupyter\", \"repo\": \"repo2docker\", \"time_open\": 623.6000231481481, \"org/repo\": \"jupyter/repo2docker\"}, {\"org\": \"jupyter\", \"repo\": \"steering\", \"time_open\": 327.323125, \"org/repo\": \"jupyter/steering\"}, {\"org\": \"jupyter\", \"repo\": \"terminado\", \"time_open\": 0.05804398148148148, \"org/repo\": \"jupyter/terminado\"}, {\"org\": \"jupyter\", \"repo\": \"testpath\", \"time_open\": 0.08506944444444446, \"org/repo\": \"jupyter/testpath\"}, {\"org\": \"jupyter-widgets\", \"repo\": \"ipywidgets\", \"time_open\": 0.27425925925925926, \"org/repo\": \"jupyter-widgets/ipywidgets\"}, {\"org\": \"jupyter-widgets\", \"repo\": \"pythreejs\", \"time_open\": 102.22733796296296, \"org/repo\": \"jupyter-widgets/pythreejs\"}, {\"org\": \"jupyterhub\", \"repo\": \"batchspawner\", \"time_open\": 6.640162037037037, \"org/repo\": \"jupyterhub/batchspawner\"}, {\"org\": \"jupyterhub\", \"repo\": \"binderhub\", \"time_open\": 67.82936342592592, \"org/repo\": \"jupyterhub/binderhub\"}, {\"org\": \"jupyterhub\", \"repo\": \"chartpress\", \"time_open\": 2.380775462962963, \"org/repo\": \"jupyterhub/chartpress\"}, {\"org\": \"jupyterhub\", \"repo\": \"configurable-http-proxy\", \"time_open\": 1.4624247685185185, \"org/repo\": \"jupyterhub/configurable-http-proxy\"}, {\"org\": \"jupyterhub\", \"repo\": \"dockerspawner\", \"time_open\": 0.16684027777777777, \"org/repo\": \"jupyterhub/dockerspawner\"}, {\"org\": \"jupyterhub\", \"repo\": \"helm-chart\", \"time_open\": 21.569305555555555, \"org/repo\": \"jupyterhub/helm-chart\"}, {\"org\": \"jupyterhub\", \"repo\": \"jupyter-server-proxy\", \"time_open\": 19.20453703703704, \"org/repo\": \"jupyterhub/jupyter-server-proxy\"}, {\"org\": \"jupyterhub\", \"repo\": \"jupyterhub\", \"time_open\": 10.389635416666666, \"org/repo\": \"jupyterhub/jupyterhub\"}, {\"org\": \"jupyterhub\", \"repo\": \"kubespawner\", \"time_open\": 11.49244212962963, \"org/repo\": \"jupyterhub/kubespawner\"}, {\"org\": \"jupyterhub\", \"repo\": \"mybinder.org-deploy\", \"time_open\": 1.0297685185185186, \"org/repo\": \"jupyterhub/mybinder.org-deploy\"}, {\"org\": \"jupyterhub\", \"repo\": \"oauthenticator\", \"time_open\": 46.0116550925926, \"org/repo\": \"jupyterhub/oauthenticator\"}, {\"org\": \"jupyterhub\", \"repo\": \"team-compass\", \"time_open\": 65.20479166666667, \"org/repo\": \"jupyterhub/team-compass\"}, {\"org\": \"jupyterhub\", \"repo\": \"the-littlest-jupyterhub\", \"time_open\": 0.06239583333333333, \"org/repo\": \"jupyterhub/the-littlest-jupyterhub\"}, {\"org\": \"jupyterhub\", \"repo\": \"zero-to-jupyterhub-k8s\", \"time_open\": 33.80857638888889, \"org/repo\": \"jupyterhub/zero-to-jupyterhub-k8s\"}, {\"org\": \"jupyterlab\", \"repo\": \"debugger\", \"time_open\": 4.532563657407407, \"org/repo\": \"jupyterlab/debugger\"}, {\"org\": \"jupyterlab\", \"repo\": \"extension-cookiecutter-ts\", \"time_open\": 618.9087210648148, \"org/repo\": \"jupyterlab/extension-cookiecutter-ts\"}, {\"org\": \"jupyterlab\", \"repo\": \"jupyterlab\", \"time_open\": 2.7221759259259257, \"org/repo\": \"jupyterlab/jupyterlab\"}, {\"org\": \"jupyterlab\", \"repo\": \"jupyterlab-data-explorer\", \"time_open\": 73.0485011574074, \"org/repo\": \"jupyterlab/jupyterlab-data-explorer\"}, {\"org\": \"jupyterlab\", \"repo\": \"jupyterlab-git\", \"time_open\": 17.022453703703704, \"org/repo\": \"jupyterlab/jupyterlab-git\"}, {\"org\": \"jupyterlab\", \"repo\": \"jupyterlab-media\", \"time_open\": 25.469699074074075, \"org/repo\": \"jupyterlab/jupyterlab-media\"}, {\"org\": \"jupyterlab\", \"repo\": \"jupyterlab-metadata-service\", \"time_open\": 21.170827546296298, \"org/repo\": \"jupyterlab/jupyterlab-metadata-service\"}, {\"org\": \"jupyterlab\", \"repo\": \"jupyterlab-monaco\", \"time_open\": 0.01880787037037037, \"org/repo\": \"jupyterlab/jupyterlab-monaco\"}, {\"org\": \"jupyterlab\", \"repo\": \"jupyterlab-toc\", \"time_open\": 290.3896412037037, \"org/repo\": \"jupyterlab/jupyterlab-toc\"}, {\"org\": \"jupyterlab\", \"repo\": \"team-compass\", \"time_open\": 9.463078703703705, \"org/repo\": \"jupyterlab/team-compass\"}]}};\n",
       "      var embedOpt = {\"mode\": \"vega-lite\"};\n",
       "\n",
       "      function showError(el, error){\n",
       "          el.innerHTML = ('<div class=\"error\" style=\"color:red;\">'\n",
       "                          + '<p>JavaScript Error: ' + error.message + '</p>'\n",
       "                          + \"<p>This usually means there's a typo in your chart specification. \"\n",
       "                          + \"See the javascript console for the full traceback.</p>\"\n",
       "                          + '</div>');\n",
       "          throw error;\n",
       "      }\n",
       "      const el = document.getElementById('altair-viz-7');\n",
       "      vegaEmbed(\"#altair-viz-7\", spec, embedOpt)\n",
       "        .catch(error => showError(el, error));\n",
       "    });\n",
       "\n",
       "  </script>"
      ],
      "text/plain": [
       "alt.Chart(...)"
      ]
     },
     "execution_count": 25,
     "metadata": {},
     "output_type": "execute_result"
    }
   ],
   "source": [
    "time_open = closed.groupby(['org', 'repo']).agg({'time_open': 'median'}).reset_index()\n",
    "time_open['time_open'] = time_open['time_open'] / (60 * 60 * 24)\n",
    "time_open['org/repo'] = time_open.apply(lambda a: a['org'] + '/' + a['repo'], axis=1)\n",
    "sorted_vals = time_open.sort_values(['org', 'time_open'], ascending=False)['repo'].values\n",
    "alt.Chart(data=time_open, title=f\"Time to close for issues closed in the last {n_days} days\").mark_bar().encode(\n",
    "    x=alt.X('repo', sort=alt.Sort(sorted_vals.tolist())),\n",
    "    y=alt.Y('time_open', title=\"Median Days Open\"),\n",
    "    color='org',\n",
    ")"
   ]
  },
  {
   "cell_type": "markdown",
   "metadata": {
    "papermill": {
     "duration": 0.038865,
     "end_time": "2019-12-01T17:52:38.857991",
     "exception": false,
     "start_time": "2019-12-01T17:52:38.819126",
     "status": "completed"
    },
    "tags": []
   },
   "source": [
    "### A list of recent issues\n",
    "\n",
    "Below is a list of issues with recent activity in each repository. If they seem of interest\n",
    "to you, click on their links and jump in to participate!"
   ]
  },
  {
   "cell_type": "code",
   "execution_count": 26,
   "metadata": {
    "papermill": {
     "duration": 0.052193,
     "end_time": "2019-12-01T17:52:38.943862",
     "exception": false,
     "start_time": "2019-12-01T17:52:38.891669",
     "status": "completed"
    },
    "tags": []
   },
   "outputs": [],
   "source": [
    "# Add comment count data to issues and PRs\n",
    "comment_counts = (\n",
    "    comments\n",
    "    .query(\"createdAt > @start_date and createdAt < @end_date\")\n",
    "    .groupby(['org', 'repo', 'issue_id'])\n",
    "    .count().iloc[:, 0].to_frame()\n",
    ")\n",
    "comment_counts.columns = ['n_comments']\n",
    "comment_counts = comment_counts.reset_index()"
   ]
  },
  {
   "cell_type": "code",
   "execution_count": 27,
   "metadata": {
    "papermill": {
     "duration": 0.801667,
     "end_time": "2019-12-01T17:52:39.779300",
     "exception": false,
     "start_time": "2019-12-01T17:52:38.977633",
     "status": "completed"
    },
    "tags": [
     "hide_input"
    ],
    "toc-hr-collapsed": false
   },
   "outputs": [
    {
     "data": {
      "text/markdown": [
       "Here are the top 5 active issues in each repository in the last 30 days"
      ],
      "text/plain": [
       "<IPython.core.display.Markdown object>"
      ]
     },
     "metadata": {},
     "output_type": "display_data"
    },
    {
     "data": {
      "application/vnd.jupyter.widget-view+json": {
       "model_id": "6c79ef9be96c4bb1a120494b4d31ebd3",
       "version_major": 2,
       "version_minor": 0
      },
      "text/plain": [
       "Tab(children=(HTML(value='<h4>binder-examples</h4>\\n<h5><a href=\"https://github.com/binder-examples/conda\">bin…"
      ]
     },
     "metadata": {},
     "output_type": "display_data"
    }
   ],
   "source": [
    "n_plot = 5\n",
    "tabs = widgets.Tab(children=[])\n",
    "for ii, (org, idata) in enumerate(comment_counts.groupby('org')):\n",
    "    issue_md = []\n",
    "    issue_md.append(f\"#### {org}\")\n",
    "    issue_md.append(\"\")\n",
    "    for repo, i_issues in idata.groupby('repo'):\n",
    "        issue_md.append(f\"##### [{org}/{repo}](https://github.com/{org}/{repo})\")\n",
    "\n",
    "        top_issues = i_issues.sort_values('n_comments', ascending=False).head(n_plot)\n",
    "        top_issue_list = pd.merge(issues, top_issues, left_on=['org', 'repo', 'number'], right_on=['org', 'repo', 'issue_id'])\n",
    "        for _, issue in top_issue_list.sort_values('n_comments', ascending=False).head(n_plot).iterrows():\n",
    "            user_name = issue['author']\n",
    "            user_url = author_url(user_name)\n",
    "            issue_number = issue['number']\n",
    "            issue_html = issue['url']\n",
    "            issue_title = issue['title']\n",
    "\n",
    "            text = f\"* [(#{issue_number})]({issue_html}): _{issue_title}_ by **[@{user_name}]({user_url})**\"\n",
    "            issue_md.append(text)\n",
    "\n",
    "    issue_md.append('')\n",
    "    md_html = HTML(markdown('\\n'.join(issue_md)))\n",
    "    \n",
    "    children = list(tabs.children)\n",
    "    children.append(HTML(markdown('\\n'.join(issue_md))))\n",
    "    tabs.children = tuple(children)\n",
    "    tabs.set_title(ii, org)\n",
    "    \n",
    "display(Markdown(f\"Here are the top {n_plot} active issues in each repository in the last {n_days} days\"))\n",
    "display(tabs)"
   ]
  },
  {
   "cell_type": "markdown",
   "metadata": {
    "papermill": {
     "duration": 0.035343,
     "end_time": "2019-12-01T17:52:39.844962",
     "exception": false,
     "start_time": "2019-12-01T17:52:39.809619",
     "status": "completed"
    },
    "tags": []
   },
   "source": [
    "## Commenters across repositories\n",
    "\n",
    "These are commenters across all issues and pull requests in the last several days.\n",
    "These are colored by the commenter's association with the organization. For information\n",
    "about what these associations mean, [see this StackOverflow post](https://stackoverflow.com/a/28866914/1927102)."
   ]
  },
  {
   "cell_type": "code",
   "execution_count": 28,
   "metadata": {
    "papermill": {
     "duration": 0.077711,
     "end_time": "2019-12-01T17:52:39.960453",
     "exception": false,
     "start_time": "2019-12-01T17:52:39.882742",
     "status": "completed"
    },
    "tags": []
   },
   "outputs": [],
   "source": [
    "commentors = (\n",
    "    comments\n",
    "    .query(\"createdAt > @start_date and createdAt < @end_date\")\n",
    "    .groupby(['org', 'repo', 'author', 'authorAssociation'])\n",
    "    .count().rename(columns={'id': 'count'})['count']\n",
    "    .reset_index()\n",
    "    .sort_values(['org', 'count'], ascending=False)\n",
    ")"
   ]
  },
  {
   "cell_type": "code",
   "execution_count": 29,
   "metadata": {
    "papermill": {
     "duration": 0.169865,
     "end_time": "2019-12-01T17:52:40.171044",
     "exception": false,
     "start_time": "2019-12-01T17:52:40.001179",
     "status": "completed"
    },
    "tags": []
   },
   "outputs": [
    {
     "data": {
      "text/html": [
       "\n",
       "  <style>\n",
       "    .error {\n",
       "        color: red;\n",
       "    }\n",
       "  </style>\n",
       "  <div id=\"altair-viz-8\"></div>\n",
       "  <script>\n",
       "    requirejs.config({\n",
       "        \"paths\": {\n",
       "            \"vega\": \"https://cdn.jsdelivr.net/npm//vega@5?noext\",\n",
       "            \"vega-lib\": \"https://cdn.jsdelivr.net/npm//vega-lib?noext\",\n",
       "            \"vega-lite\": \"https://cdn.jsdelivr.net/npm//vega-lite@3.4.0?noext\",\n",
       "            \"vega-embed\": \"https://cdn.jsdelivr.net/npm//vega-embed@5?noext\",\n",
       "        }\n",
       "    });\n",
       "    \n",
       "    require(['vega-embed'],function(vegaEmbed) {\n",
       "      var spec = {\"config\": {\"axisLeft\": {\"labelFontSize\": 15}, \"axisBottom\": {\"labelFontSize\": 15}}, \"hconcat\": [{\"data\": {\"name\": \"data-edaab05d550611dab51fa844cf8cc478\"}, \"mark\": \"bar\", \"encoding\": {\"color\": {\"type\": \"nominal\", \"field\": \"authorAssociation\", \"scale\": {\"domain\": [\"MEMBER\", \"CONTRIBUTOR\", \"COLLABORATOR\", \"NONE\"], \"range\": [\"rgb(211.82745098039214, 211.82745098039214, 211.82745098039214, 256.0)\", \"rgb(166.98562091503268, 229.89803921568628, 166.98562091503268, 256.0)\", \"rgb(96.37647058823529, 192.75294117647059, 96.37647058823529, 256.0)\", \"rgb(0.0, 100.3921568627451, 0.0, 256.0)\"]}}, \"x\": {\"type\": \"nominal\", \"field\": \"author\"}, \"y\": {\"type\": \"quantitative\", \"field\": \"count\"}}, \"title\": \"Top 50 commentors for binder-examples in the last 30 days\", \"width\": 1000}, {\"data\": {\"name\": \"data-45ba6f08c5332db3720da77eafc73091\"}, \"mark\": \"bar\", \"encoding\": {\"color\": {\"type\": \"nominal\", \"field\": \"authorAssociation\", \"scale\": {\"domain\": [\"MEMBER\", \"CONTRIBUTOR\", \"COLLABORATOR\", \"NONE\"], \"range\": [\"rgb(211.82745098039214, 211.82745098039214, 211.82745098039214, 256.0)\", \"rgb(166.98562091503268, 229.89803921568628, 166.98562091503268, 256.0)\", \"rgb(96.37647058823529, 192.75294117647059, 96.37647058823529, 256.0)\", \"rgb(0.0, 100.3921568627451, 0.0, 256.0)\"]}}, \"x\": {\"type\": \"nominal\", \"field\": \"author\"}, \"y\": {\"type\": \"quantitative\", \"field\": \"count\"}}, \"title\": \"Top 50 commentors for ipython in the last 30 days\", \"width\": 1000}, {\"data\": {\"name\": \"data-4086fe846e3f55efc999d55c3d330054\"}, \"mark\": \"bar\", \"encoding\": {\"color\": {\"type\": \"nominal\", \"field\": \"authorAssociation\", \"scale\": {\"domain\": [\"MEMBER\", \"CONTRIBUTOR\", \"COLLABORATOR\", \"NONE\"], \"range\": [\"rgb(211.82745098039214, 211.82745098039214, 211.82745098039214, 256.0)\", \"rgb(166.98562091503268, 229.89803921568628, 166.98562091503268, 256.0)\", \"rgb(96.37647058823529, 192.75294117647059, 96.37647058823529, 256.0)\", \"rgb(0.0, 100.3921568627451, 0.0, 256.0)\"]}}, \"x\": {\"type\": \"nominal\", \"field\": \"author\"}, \"y\": {\"type\": \"quantitative\", \"field\": \"count\"}}, \"title\": \"Top 50 commentors for jupyter in the last 30 days\", \"width\": 1000}, {\"data\": {\"name\": \"data-0f6afb0f274641e031d5204903f12b22\"}, \"mark\": \"bar\", \"encoding\": {\"color\": {\"type\": \"nominal\", \"field\": \"authorAssociation\", \"scale\": {\"domain\": [\"MEMBER\", \"CONTRIBUTOR\", \"COLLABORATOR\", \"NONE\"], \"range\": [\"rgb(211.82745098039214, 211.82745098039214, 211.82745098039214, 256.0)\", \"rgb(166.98562091503268, 229.89803921568628, 166.98562091503268, 256.0)\", \"rgb(96.37647058823529, 192.75294117647059, 96.37647058823529, 256.0)\", \"rgb(0.0, 100.3921568627451, 0.0, 256.0)\"]}}, \"x\": {\"type\": \"nominal\", \"field\": \"author\"}, \"y\": {\"type\": \"quantitative\", \"field\": \"count\"}}, \"title\": \"Top 50 commentors for jupyter-widgets in the last 30 days\", \"width\": 1000}, {\"data\": {\"name\": \"data-7df06acccae822d8389cc4cf3afceccb\"}, \"mark\": \"bar\", \"encoding\": {\"color\": {\"type\": \"nominal\", \"field\": \"authorAssociation\", \"scale\": {\"domain\": [\"MEMBER\", \"CONTRIBUTOR\", \"COLLABORATOR\", \"NONE\"], \"range\": [\"rgb(211.82745098039214, 211.82745098039214, 211.82745098039214, 256.0)\", \"rgb(166.98562091503268, 229.89803921568628, 166.98562091503268, 256.0)\", \"rgb(96.37647058823529, 192.75294117647059, 96.37647058823529, 256.0)\", \"rgb(0.0, 100.3921568627451, 0.0, 256.0)\"]}}, \"x\": {\"type\": \"nominal\", \"field\": \"author\"}, \"y\": {\"type\": \"quantitative\", \"field\": \"count\"}}, \"title\": \"Top 50 commentors for jupyterhub in the last 30 days\", \"width\": 1000}, {\"data\": {\"name\": \"data-09650a658d043b278792855b95d6c650\"}, \"mark\": \"bar\", \"encoding\": {\"color\": {\"type\": \"nominal\", \"field\": \"authorAssociation\", \"scale\": {\"domain\": [\"MEMBER\", \"CONTRIBUTOR\", \"COLLABORATOR\", \"NONE\"], \"range\": [\"rgb(211.82745098039214, 211.82745098039214, 211.82745098039214, 256.0)\", \"rgb(166.98562091503268, 229.89803921568628, 166.98562091503268, 256.0)\", \"rgb(96.37647058823529, 192.75294117647059, 96.37647058823529, 256.0)\", \"rgb(0.0, 100.3921568627451, 0.0, 256.0)\"]}}, \"x\": {\"type\": \"nominal\", \"field\": \"author\"}, \"y\": {\"type\": \"quantitative\", \"field\": \"count\"}}, \"title\": \"Top 50 commentors for jupyterlab in the last 30 days\", \"width\": 1000}], \"$schema\": \"https://vega.github.io/schema/vega-lite/v3.4.0.json\", \"datasets\": {\"data-edaab05d550611dab51fa844cf8cc478\": [{\"author\": \"choldgraf\", \"count\": 2, \"authorAssociation\": \"MEMBER\"}, {\"author\": \"betatim\", \"count\": 1, \"authorAssociation\": \"MEMBER\"}], \"data-45ba6f08c5332db3720da77eafc73091\": [{\"author\": \"Carreau\", \"count\": 64, \"authorAssociation\": \"MEMBER\"}, {\"author\": \"augustogoulart\", \"count\": 20, \"authorAssociation\": \"NONE\"}, {\"author\": \"bollwyvl\", \"count\": 13, \"authorAssociation\": \"CONTRIBUTOR\"}, {\"author\": \"normanius\", \"count\": 8, \"authorAssociation\": \"NONE\"}, {\"author\": \"techtonik\", \"count\": 6, \"authorAssociation\": \"CONTRIBUTOR\"}, {\"author\": \"jonathanslenders\", \"count\": 6, \"authorAssociation\": \"CONTRIBUTOR\"}, {\"author\": \"meeseeksdev\", \"count\": 5, \"authorAssociation\": \"CONTRIBUTOR\"}, {\"author\": \"minrk\", \"count\": 5, \"authorAssociation\": \"MEMBER\"}, {\"author\": \"kousikmitra\", \"count\": 5, \"authorAssociation\": \"CONTRIBUTOR\"}, {\"author\": \"mrzzheng\", \"count\": 4, \"authorAssociation\": \"NONE\"}, {\"author\": \"takluyver\", \"count\": 4, \"authorAssociation\": \"MEMBER\"}, {\"author\": \"AgilentGCMS\", \"count\": 3, \"authorAssociation\": \"NONE\"}, {\"author\": \"gegnew\", \"count\": 2, \"authorAssociation\": \"NONE\"}, {\"author\": \"OceanNuclear\", \"count\": 2, \"authorAssociation\": \"NONE\"}, {\"author\": \"bryevdv\", \"count\": 2, \"authorAssociation\": \"NONE\"}, {\"author\": \"rmorshea\", \"count\": 2, \"authorAssociation\": \"COLLABORATOR\"}, {\"author\": \"tigran123\", \"count\": 2, \"authorAssociation\": \"NONE\"}, {\"author\": \"dclong\", \"count\": 2, \"authorAssociation\": \"NONE\"}, {\"author\": \"mroethke\", \"count\": 1, \"authorAssociation\": \"NONE\"}, {\"author\": \"martinRenou\", \"count\": 1, \"authorAssociation\": \"CONTRIBUTOR\"}, {\"author\": \"martijnkruiten\", \"count\": 1, \"authorAssociation\": \"NONE\"}, {\"author\": \"oboudry\", \"count\": 1, \"authorAssociation\": \"NONE\"}, {\"author\": \"pylang\", \"count\": 1, \"authorAssociation\": \"NONE\"}, {\"author\": \"pedrogarcia\", \"count\": 1, \"authorAssociation\": \"NONE\"}, {\"author\": \"petevdp\", \"count\": 1, \"authorAssociation\": \"CONTRIBUTOR\"}, {\"author\": \"pkerpedjiev\", \"count\": 1, \"authorAssociation\": \"NONE\"}, {\"author\": \"rnLIKEm\", \"count\": 1, \"authorAssociation\": \"NONE\"}, {\"author\": \"sgjholt\", \"count\": 1, \"authorAssociation\": \"NONE\"}, {\"author\": \"sleebapaul\", \"count\": 1, \"authorAssociation\": \"NONE\"}, {\"author\": \"srinivasreddy\", \"count\": 1, \"authorAssociation\": \"CONTRIBUTOR\"}, {\"author\": \"suewonjp\", \"count\": 1, \"authorAssociation\": \"NONE\"}, {\"author\": \"terrdavis\", \"count\": 1, \"authorAssociation\": \"CONTRIBUTOR\"}, {\"author\": \"wajdan846\", \"count\": 1, \"authorAssociation\": \"NONE\"}, {\"author\": \"marcbernot\", \"count\": 1, \"authorAssociation\": \"NONE\"}, {\"author\": \"jplana\", \"count\": 1, \"authorAssociation\": \"NONE\"}, {\"author\": \"kevin-bates\", \"count\": 1, \"authorAssociation\": \"NONE\"}, {\"author\": \"capitao014\", \"count\": 1, \"authorAssociation\": \"NONE\"}, {\"author\": \"CharlieZhu\", \"count\": 1, \"authorAssociation\": \"NONE\"}, {\"author\": \"Fronkan\", \"count\": 1, \"authorAssociation\": \"NONE\"}, {\"author\": \"Gilthans\", \"count\": 1, \"authorAssociation\": \"NONE\"}, {\"author\": \"Jirka-Lhotka\", \"count\": 1, \"authorAssociation\": \"NONE\"}, {\"author\": \"Madhu94\", \"count\": 1, \"authorAssociation\": \"CONTRIBUTOR\"}, {\"author\": \"adammunich\", \"count\": 1, \"authorAssociation\": \"NONE\"}, {\"author\": \"albireox\", \"count\": 1, \"authorAssociation\": \"NONE\"}, {\"author\": \"baogorek\", \"count\": 1, \"authorAssociation\": \"NONE\"}, {\"author\": \"bcipolli\", \"count\": 1, \"authorAssociation\": \"NONE\"}, {\"author\": \"capac\", \"count\": 1, \"authorAssociation\": \"NONE\"}, {\"author\": \"ck3mp\", \"count\": 1, \"authorAssociation\": \"NONE\"}, {\"author\": \"kbennatti\", \"count\": 1, \"authorAssociation\": \"NONE\"}, {\"author\": \"codylane\", \"count\": 1, \"authorAssociation\": \"NONE\"}], \"data-4086fe846e3f55efc999d55c3d330054\": [{\"author\": \"jhamrick\", \"count\": 49, \"authorAssociation\": \"MEMBER\"}, {\"author\": \"kevin-bates\", \"count\": 48, \"authorAssociation\": \"MEMBER\"}, {\"author\": \"takluyver\", \"count\": 46, \"authorAssociation\": \"MEMBER\"}, {\"author\": \"krinsman\", \"count\": 36, \"authorAssociation\": \"COLLABORATOR\"}, {\"author\": \"choldgraf\", \"count\": 34, \"authorAssociation\": \"MEMBER\"}, {\"author\": \"betatim\", \"count\": 22, \"authorAssociation\": \"MEMBER\"}, {\"author\": \"MSeal\", \"count\": 17, \"authorAssociation\": \"MEMBER\"}, {\"author\": \"vidartf\", \"count\": 15, \"authorAssociation\": \"COLLABORATOR\"}, {\"author\": \"echarles\", \"count\": 14, \"authorAssociation\": \"CONTRIBUTOR\"}, {\"author\": \"ivan-gomes\", \"count\": 13, \"authorAssociation\": \"NONE\"}, {\"author\": \"parente\", \"count\": 11, \"authorAssociation\": \"MEMBER\"}, {\"author\": \"jasongrout\", \"count\": 10, \"authorAssociation\": \"MEMBER\"}, {\"author\": \"bollwyvl\", \"count\": 10, \"authorAssociation\": \"MEMBER\"}, {\"author\": \"Zsailer\", \"count\": 8, \"authorAssociation\": \"MEMBER\"}, {\"author\": \"dchirikov\", \"count\": 8, \"authorAssociation\": \"NONE\"}, {\"author\": \"kynan\", \"count\": 7, \"authorAssociation\": \"CONTRIBUTOR\"}, {\"author\": \"Lostigli\", \"count\": 7, \"authorAssociation\": \"NONE\"}, {\"author\": \"EFanZh\", \"count\": 6, \"authorAssociation\": \"NONE\"}, {\"author\": \"Bidek56\", \"count\": 6, \"authorAssociation\": \"CONTRIBUTOR\"}, {\"author\": \"JorisJamers\", \"count\": 6, \"authorAssociation\": \"CONTRIBUTOR\"}, {\"author\": \"xh22\", \"count\": 5, \"authorAssociation\": \"NONE\"}, {\"author\": \"pedrovgp\", \"count\": 4, \"authorAssociation\": \"NONE\"}, {\"author\": \"Patil2099\", \"count\": 4, \"authorAssociation\": \"CONTRIBUTOR\"}, {\"author\": \"davidhalter\", \"count\": 4, \"authorAssociation\": \"NONE\"}, {\"author\": \"davidbrochart\", \"count\": 4, \"authorAssociation\": \"CONTRIBUTOR\"}, {\"author\": \"blink1073\", \"count\": 4, \"authorAssociation\": \"MEMBER\"}, {\"author\": \"akhmerov\", \"count\": 4, \"authorAssociation\": \"MEMBER\"}, {\"author\": \"adarsh-nl\", \"count\": 4, \"authorAssociation\": \"NONE\"}, {\"author\": \"ccordoba12\", \"count\": 4, \"authorAssociation\": \"COLLABORATOR\"}, {\"author\": \"bolkedebruin\", \"count\": 4, \"authorAssociation\": \"NONE\"}, {\"author\": \"wmvanvliet\", \"count\": 4, \"authorAssociation\": \"COLLABORATOR\"}, {\"author\": \"lresende\", \"count\": 4, \"authorAssociation\": \"MEMBER\"}, {\"author\": \"lucabem\", \"count\": 4, \"authorAssociation\": \"NONE\"}, {\"author\": \"pfmoore\", \"count\": 4, \"authorAssociation\": \"CONTRIBUTOR\"}, {\"author\": \"maartenbreddels\", \"count\": 4, \"authorAssociation\": \"CONTRIBUTOR\"}, {\"author\": \"joy-rosie\", \"count\": 4, \"authorAssociation\": \"NONE\"}, {\"author\": \"alshan\", \"count\": 4, \"authorAssociation\": \"NONE\"}, {\"author\": \"jjangsangy\", \"count\": 4, \"authorAssociation\": \"NONE\"}, {\"author\": \"aliniknejad\", \"count\": 3, \"authorAssociation\": \"CONTRIBUTOR\"}, {\"author\": \"Sefriol\", \"count\": 3, \"authorAssociation\": \"CONTRIBUTOR\"}, {\"author\": \"prof-lupin\", \"count\": 3, \"authorAssociation\": \"NONE\"}, {\"author\": \"qntnrbns\", \"count\": 3, \"authorAssociation\": \"CONTRIBUTOR\"}, {\"author\": \"SylvainCorlay\", \"count\": 3, \"authorAssociation\": \"MEMBER\"}, {\"author\": \"nthiery\", \"count\": 3, \"authorAssociation\": \"CONTRIBUTOR\"}, {\"author\": \"emdupre\", \"count\": 3, \"authorAssociation\": \"COLLABORATOR\"}, {\"author\": \"leotrs\", \"count\": 3, \"authorAssociation\": \"NONE\"}, {\"author\": \"toobaz\", \"count\": 3, \"authorAssociation\": \"CONTRIBUTOR\"}, {\"author\": \"fredcallaway\", \"count\": 3, \"authorAssociation\": \"NONE\"}, {\"author\": \"thorwhalen\", \"count\": 3, \"authorAssociation\": \"NONE\"}, {\"author\": \"maddukurisrinivasarao\", \"count\": 3, \"authorAssociation\": \"NONE\"}], \"data-0f6afb0f274641e031d5204903f12b22\": [{\"author\": \"jasongrout\", \"count\": 39, \"authorAssociation\": \"MEMBER\"}, {\"author\": \"vidartf\", \"count\": 22, \"authorAssociation\": \"MEMBER\"}, {\"author\": \"martinRenou\", \"count\": 10, \"authorAssociation\": \"MEMBER\"}, {\"author\": \"christasich\", \"count\": 8, \"authorAssociation\": \"NONE\"}, {\"author\": \"moorepants\", \"count\": 7, \"authorAssociation\": \"NONE\"}, {\"author\": \"sirbardo\", \"count\": 4, \"authorAssociation\": \"NONE\"}, {\"author\": \"mgeier\", \"count\": 3, \"authorAssociation\": \"CONTRIBUTOR\"}, {\"author\": \"KristianLN\", \"count\": 3, \"authorAssociation\": \"NONE\"}, {\"author\": \"dependabot\", \"count\": 3, \"authorAssociation\": \"NONE\"}, {\"author\": \"davidbrochart\", \"count\": 3, \"authorAssociation\": \"CONTRIBUTOR\"}, {\"author\": \"alex4200\", \"count\": 3, \"authorAssociation\": \"NONE\"}, {\"author\": \"PBrockmann\", \"count\": 3, \"authorAssociation\": \"NONE\"}, {\"author\": \"sbonaretti\", \"count\": 2, \"authorAssociation\": \"NONE\"}, {\"author\": \"shek2994\", \"count\": 2, \"authorAssociation\": \"NONE\"}, {\"author\": \"saurabhheda\", \"count\": 1, \"authorAssociation\": \"NONE\"}, {\"author\": \"rbavery\", \"count\": 1, \"authorAssociation\": \"NONE\"}, {\"author\": \"motin\", \"count\": 1, \"authorAssociation\": \"NONE\"}, {\"author\": \"ponaie\", \"count\": 1, \"authorAssociation\": \"NONE\"}, {\"author\": \"scottwsides\", \"count\": 1, \"authorAssociation\": \"NONE\"}, {\"author\": \"philippbc\", \"count\": 1, \"authorAssociation\": \"NONE\"}, {\"author\": \"pbcornelius\", \"count\": 1, \"authorAssociation\": \"NONE\"}, {\"author\": \"owen-synergy\", \"count\": 1, \"authorAssociation\": \"NONE\"}, {\"author\": \"nvaytet\", \"count\": 1, \"authorAssociation\": \"NONE\"}, {\"author\": \"tonyluo98\", \"count\": 1, \"authorAssociation\": \"NONE\"}, {\"author\": \"mstanley103\", \"count\": 1, \"authorAssociation\": \"NONE\"}, {\"author\": \"BrySchroeder\", \"count\": 1, \"authorAssociation\": \"NONE\"}, {\"author\": \"maartenbreddels\", \"count\": 1, \"authorAssociation\": \"MEMBER\"}, {\"author\": \"michcio1234\", \"count\": 1, \"authorAssociation\": \"NONE\"}, {\"author\": \"jjennings955\", \"count\": 1, \"authorAssociation\": \"NONE\"}, {\"author\": \"gmonet\", \"count\": 1, \"authorAssociation\": \"NONE\"}, {\"author\": \"fpom\", \"count\": 1, \"authorAssociation\": \"NONE\"}, {\"author\": \"eteq\", \"count\": 1, \"authorAssociation\": \"NONE\"}, {\"author\": \"deeplook\", \"count\": 1, \"authorAssociation\": \"CONTRIBUTOR\"}, {\"author\": \"chrisjsewell\", \"count\": 1, \"authorAssociation\": \"NONE\"}, {\"author\": \"blois\", \"count\": 1, \"authorAssociation\": \"CONTRIBUTOR\"}, {\"author\": \"bjorm\", \"count\": 1, \"authorAssociation\": \"CONTRIBUTOR\"}, {\"author\": \"andrhua\", \"count\": 1, \"authorAssociation\": \"NONE\"}, {\"author\": \"VeneficusFerox\", \"count\": 1, \"authorAssociation\": \"NONE\"}, {\"author\": \"ThierrySpetebroot\", \"count\": 1, \"authorAssociation\": \"CONTRIBUTOR\"}, {\"author\": \"SylvainCorlay\", \"count\": 1, \"authorAssociation\": \"MEMBER\"}, {\"author\": \"Michael-H777\", \"count\": 1, \"authorAssociation\": \"NONE\"}, {\"author\": \"zerline\", \"count\": 1, \"authorAssociation\": \"CONTRIBUTOR\"}], \"data-7df06acccae822d8389cc4cf3afceccb\": [{\"author\": \"consideRatio\", \"count\": 161, \"authorAssociation\": \"MEMBER\"}, {\"author\": \"betatim\", \"count\": 115, \"authorAssociation\": \"MEMBER\"}, {\"author\": \"manics\", \"count\": 79, \"authorAssociation\": \"MEMBER\"}, {\"author\": \"choldgraf\", \"count\": 56, \"authorAssociation\": \"MEMBER\"}, {\"author\": \"minrk\", \"count\": 25, \"authorAssociation\": \"MEMBER\"}, {\"author\": \"sgibson91\", \"count\": 19, \"authorAssociation\": \"MEMBER\"}, {\"author\": \"bitnik\", \"count\": 16, \"authorAssociation\": \"COLLABORATOR\"}, {\"author\": \"yuvipanda\", \"count\": 12, \"authorAssociation\": \"MEMBER\"}, {\"author\": \"jtlz2\", \"count\": 9, \"authorAssociation\": \"NONE\"}, {\"author\": \"willingc\", \"count\": 7, \"authorAssociation\": \"MEMBER\"}, {\"author\": \"arpitsri3\", \"count\": 7, \"authorAssociation\": \"NONE\"}, {\"author\": \"jgwerner\", \"count\": 6, \"authorAssociation\": \"CONTRIBUTOR\"}, {\"author\": \"rcthomas\", \"count\": 6, \"authorAssociation\": \"CONTRIBUTOR\"}, {\"author\": \"arnim\", \"count\": 6, \"authorAssociation\": \"NONE\"}, {\"author\": \"ltupin\", \"count\": 5, \"authorAssociation\": \"NONE\"}, {\"author\": \"linkcd\", \"count\": 5, \"authorAssociation\": \"CONTRIBUTOR\"}, {\"author\": \"playermanny2\", \"count\": 5, \"authorAssociation\": \"NONE\"}, {\"author\": \"pulponair\", \"count\": 5, \"authorAssociation\": \"NONE\"}, {\"author\": \"olajir\", \"count\": 5, \"authorAssociation\": \"NONE\"}, {\"author\": \"albertmichaelj\", \"count\": 5, \"authorAssociation\": \"CONTRIBUTOR\"}, {\"author\": \"kumarasenthil\", \"count\": 4, \"authorAssociation\": \"NONE\"}, {\"author\": \"alexandermichels\", \"count\": 4, \"authorAssociation\": \"NONE\"}, {\"author\": \"rafalrojek\", \"count\": 4, \"authorAssociation\": \"NONE\"}, {\"author\": \"ryogesh\", \"count\": 4, \"authorAssociation\": \"CONTRIBUTOR\"}, {\"author\": \"blink1073\", \"count\": 4, \"authorAssociation\": \"NONE\"}, {\"author\": \"IamViditAgarwal\", \"count\": 4, \"authorAssociation\": \"NONE\"}, {\"author\": \"gaebor\", \"count\": 4, \"authorAssociation\": \"NONE\"}, {\"author\": \"mrow4a\", \"count\": 4, \"authorAssociation\": \"CONTRIBUTOR\"}, {\"author\": \"JPMoresmau\", \"count\": 4, \"authorAssociation\": \"NONE\"}, {\"author\": \"GeorgianaElena\", \"count\": 3, \"authorAssociation\": \"MEMBER\"}, {\"author\": \"eosantigen\", \"count\": 3, \"authorAssociation\": \"NONE\"}, {\"author\": \"jhegedus42\", \"count\": 3, \"authorAssociation\": \"NONE\"}, {\"author\": \"deeduda\", \"count\": 3, \"authorAssociation\": \"NONE\"}, {\"author\": \"mjuric\", \"count\": 3, \"authorAssociation\": \"NONE\"}, {\"author\": \"btel\", \"count\": 3, \"authorAssociation\": \"CONTRIBUTOR\"}, {\"author\": \"chicocvenancio\", \"count\": 3, \"authorAssociation\": \"CONTRIBUTOR\"}, {\"author\": \"paulnakroshis\", \"count\": 3, \"authorAssociation\": \"NONE\"}, {\"author\": \"silhouetted\", \"count\": 3, \"authorAssociation\": \"NONE\"}, {\"author\": \"shibbas\", \"count\": 3, \"authorAssociation\": \"NONE\"}, {\"author\": \"aguinaldoabbj\", \"count\": 3, \"authorAssociation\": \"NONE\"}, {\"author\": \"ryanlovett\", \"count\": 2, \"authorAssociation\": \"MEMBER\"}, {\"author\": \"Aisuko\", \"count\": 2, \"authorAssociation\": \"NONE\"}, {\"author\": \"rtadewald\", \"count\": 2, \"authorAssociation\": \"NONE\"}, {\"author\": \"rolinston4\", \"count\": 2, \"authorAssociation\": \"NONE\"}, {\"author\": \"rebeca-maia\", \"count\": 2, \"authorAssociation\": \"NONE\"}, {\"author\": \"xhochy\", \"count\": 2, \"authorAssociation\": \"CONTRIBUTOR\"}, {\"author\": \"mathematicalmichael\", \"count\": 2, \"authorAssociation\": \"CONTRIBUTOR\"}, {\"author\": \"rajashreetutgirl\", \"count\": 2, \"authorAssociation\": \"NONE\"}, {\"author\": \"mbmilligan\", \"count\": 2, \"authorAssociation\": \"MEMBER\"}, {\"author\": \"harrybiddle\", \"count\": 2, \"authorAssociation\": \"NONE\"}], \"data-09650a658d043b278792855b95d6c650\": [{\"author\": \"jasongrout\", \"count\": 193, \"authorAssociation\": \"MEMBER\"}, {\"author\": \"jtpio\", \"count\": 158, \"authorAssociation\": \"MEMBER\"}, {\"author\": \"telamonian\", \"count\": 46, \"authorAssociation\": \"MEMBER\"}, {\"author\": \"vidartf\", \"count\": 34, \"authorAssociation\": \"MEMBER\"}, {\"author\": \"fcollonval\", \"count\": 33, \"authorAssociation\": \"MEMBER\"}, {\"author\": \"KsavinN\", \"count\": 28, \"authorAssociation\": \"COLLABORATOR\"}, {\"author\": \"JohanMabille\", \"count\": 25, \"authorAssociation\": \"MEMBER\"}, {\"author\": \"blink1073\", \"count\": 24, \"authorAssociation\": \"MEMBER\"}, {\"author\": \"kgryte\", \"count\": 20, \"authorAssociation\": \"NONE\"}, {\"author\": \"dhirschfeld\", \"count\": 17, \"authorAssociation\": \"MEMBER\"}, {\"author\": \"ian-r-rose\", \"count\": 16, \"authorAssociation\": \"MEMBER\"}, {\"author\": \"ellisonbg\", \"count\": 15, \"authorAssociation\": \"MEMBER\"}, {\"author\": \"bollwyvl\", \"count\": 10, \"authorAssociation\": \"MEMBER\"}, {\"author\": \"domoritz\", \"count\": 10, \"authorAssociation\": \"MEMBER\"}, {\"author\": \"afshin\", \"count\": 10, \"authorAssociation\": \"MEMBER\"}, {\"author\": \"mlucool\", \"count\": 10, \"authorAssociation\": \"CONTRIBUTOR\"}, {\"author\": \"scottwsides\", \"count\": 9, \"authorAssociation\": \"NONE\"}, {\"author\": \"saulshanabrook\", \"count\": 9, \"authorAssociation\": \"MEMBER\"}, {\"author\": \"tgeorgeux\", \"count\": 8, \"authorAssociation\": \"MEMBER\"}, {\"author\": \"echarles\", \"count\": 7, \"authorAssociation\": \"MEMBER\"}, {\"author\": \"Calvinxc1\", \"count\": 7, \"authorAssociation\": \"NONE\"}, {\"author\": \"harrybiddle\", \"count\": 5, \"authorAssociation\": \"NONE\"}, {\"author\": \"pstaabp\", \"count\": 5, \"authorAssociation\": \"NONE\"}, {\"author\": \"stonebig\", \"count\": 5, \"authorAssociation\": \"MEMBER\"}, {\"author\": \"timkpaine\", \"count\": 5, \"authorAssociation\": \"MEMBER\"}, {\"author\": \"davidlow\", \"count\": 4, \"authorAssociation\": \"NONE\"}, {\"author\": \"plynch-chwy\", \"count\": 4, \"authorAssociation\": \"NONE\"}, {\"author\": \"SylvainCorlay\", \"count\": 4, \"authorAssociation\": \"MEMBER\"}, {\"author\": \"ankostis\", \"count\": 4, \"authorAssociation\": \"NONE\"}, {\"author\": \"owenlamont\", \"count\": 4, \"authorAssociation\": \"NONE\"}, {\"author\": \"phish108\", \"count\": 3, \"authorAssociation\": \"NONE\"}, {\"author\": \"jaipreet-s\", \"count\": 3, \"authorAssociation\": \"MEMBER\"}, {\"author\": \"aamster\", \"count\": 3, \"authorAssociation\": \"NONE\"}, {\"author\": \"vtrokhymenko\", \"count\": 3, \"authorAssociation\": \"NONE\"}, {\"author\": \"jianboy\", \"count\": 3, \"authorAssociation\": \"NONE\"}, {\"author\": \"kaiaeberli\", \"count\": 3, \"authorAssociation\": \"NONE\"}, {\"author\": \"mbektasbbg\", \"count\": 3, \"authorAssociation\": \"MEMBER\"}, {\"author\": \"hadim\", \"count\": 2, \"authorAssociation\": \"MEMBER\"}, {\"author\": \"dpatchigolla\", \"count\": 2, \"authorAssociation\": \"NONE\"}, {\"author\": \"cmclinton\", \"count\": 2, \"authorAssociation\": \"NONE\"}, {\"author\": \"dschaehi\", \"count\": 2, \"authorAssociation\": \"NONE\"}, {\"author\": \"groutr\", \"count\": 2, \"authorAssociation\": \"NONE\"}, {\"author\": \"lresende\", \"count\": 2, \"authorAssociation\": \"MEMBER\"}, {\"author\": \"b-trav\", \"count\": 2, \"authorAssociation\": \"CONTRIBUTOR\"}, {\"author\": \"bbennett36\", \"count\": 2, \"authorAssociation\": \"NONE\"}, {\"author\": \"agoose77\", \"count\": 2, \"authorAssociation\": \"MEMBER\"}, {\"author\": \"kenjioman\", \"count\": 2, \"authorAssociation\": \"NONE\"}, {\"author\": \"LuisFRoch\", \"count\": 2, \"authorAssociation\": \"NONE\"}, {\"author\": \"a-j-paul\", \"count\": 2, \"authorAssociation\": \"NONE\"}, {\"author\": \"michaelaye\", \"count\": 2, \"authorAssociation\": \"MEMBER\"}]}};\n",
       "      var embedOpt = {\"mode\": \"vega-lite\"};\n",
       "\n",
       "      function showError(el, error){\n",
       "          el.innerHTML = ('<div class=\"error\" style=\"color:red;\">'\n",
       "                          + '<p>JavaScript Error: ' + error.message + '</p>'\n",
       "                          + \"<p>This usually means there's a typo in your chart specification. \"\n",
       "                          + \"See the javascript console for the full traceback.</p>\"\n",
       "                          + '</div>');\n",
       "          throw error;\n",
       "      }\n",
       "      const el = document.getElementById('altair-viz-8');\n",
       "      vegaEmbed(\"#altair-viz-8\", spec, embedOpt)\n",
       "        .catch(error => showError(el, error));\n",
       "    });\n",
       "\n",
       "  </script>"
      ],
      "text/plain": [
       "alt.HConcatChart(...)"
      ]
     },
     "execution_count": 29,
     "metadata": {},
     "output_type": "execute_result"
    }
   ],
   "source": [
    "n_plot = 50\n",
    "charts = []\n",
    "for ii, (iorg, idata) in enumerate(commentors.groupby(['org'])):\n",
    "    title = f\"Top {n_plot} commentors for {iorg} in the last {n_days} days\"\n",
    "    idata = idata.groupby('author', as_index=False).agg({'count': 'sum', 'authorAssociation': 'first'})\n",
    "    idata = idata.sort_values('count', ascending=False).head(n_plot)\n",
    "    ch = alt.Chart(data=idata.head(n_plot), width=1000, title=title).mark_bar().encode(\n",
    "        x='author',\n",
    "        y='count',\n",
    "        color=alt.Color('authorAssociation', scale=alt.Scale(domain=author_types, range=author_colors))\n",
    "    )\n",
    "    charts.append(ch)\n",
    "alt.hconcat(*charts)"
   ]
  },
  {
   "cell_type": "markdown",
   "metadata": {
    "papermill": {
     "duration": 0.042344,
     "end_time": "2019-12-01T17:52:40.254606",
     "exception": false,
     "start_time": "2019-12-01T17:52:40.212262",
     "status": "completed"
    },
    "tags": []
   },
   "source": [
    "## First responders\n",
    "\n",
    "First responders are the first people to respond to a new issue in one of the repositories.\n",
    "The following plots show first responders for recently-created issues."
   ]
  },
  {
   "cell_type": "code",
   "execution_count": 30,
   "metadata": {
    "papermill": {
     "duration": 1.325181,
     "end_time": "2019-12-01T17:52:41.619951",
     "exception": false,
     "start_time": "2019-12-01T17:52:40.294770",
     "status": "completed"
    },
    "tags": []
   },
   "outputs": [],
   "source": [
    "first_comments = []\n",
    "for (org, repo, issue_id), i_comments in comments.groupby(['org', 'repo', 'issue_id']):\n",
    "    ix_min = pd.to_datetime(i_comments['createdAt']).idxmin()\n",
    "    first_comment = i_comments.loc[ix_min]\n",
    "    if isinstance(first_comment, pd.DataFrame):\n",
    "        first_comment = first_comment.iloc[0]\n",
    "    first_comments.append(first_comment)\n",
    "first_comments = pd.concat(first_comments, axis=1).T"
   ]
  },
  {
   "cell_type": "code",
   "execution_count": 31,
   "metadata": {
    "papermill": {
     "duration": 0.064026,
     "end_time": "2019-12-01T17:52:41.709049",
     "exception": false,
     "start_time": "2019-12-01T17:52:41.645023",
     "status": "completed"
    },
    "tags": []
   },
   "outputs": [],
   "source": [
    "first_responder_counts = first_comments.groupby(['org', 'author', 'authorAssociation'], as_index=False).\\\n",
    "    count().rename(columns={'id': 'n_first_responses'}).sort_values(['org', 'n_first_responses'], ascending=False)\n"
   ]
  },
  {
   "cell_type": "code",
   "execution_count": 32,
   "metadata": {
    "papermill": {
     "duration": 0.176311,
     "end_time": "2019-12-01T17:52:41.925903",
     "exception": false,
     "start_time": "2019-12-01T17:52:41.749592",
     "status": "completed"
    },
    "tags": []
   },
   "outputs": [
    {
     "data": {
      "text/html": [
       "\n",
       "  <style>\n",
       "    .error {\n",
       "        color: red;\n",
       "    }\n",
       "  </style>\n",
       "  <div id=\"altair-viz-9\"></div>\n",
       "  <script>\n",
       "    requirejs.config({\n",
       "        \"paths\": {\n",
       "            \"vega\": \"https://cdn.jsdelivr.net/npm//vega@5?noext\",\n",
       "            \"vega-lib\": \"https://cdn.jsdelivr.net/npm//vega-lib?noext\",\n",
       "            \"vega-lite\": \"https://cdn.jsdelivr.net/npm//vega-lite@3.4.0?noext\",\n",
       "            \"vega-embed\": \"https://cdn.jsdelivr.net/npm//vega-embed@5?noext\",\n",
       "        }\n",
       "    });\n",
       "    \n",
       "    require(['vega-embed'],function(vegaEmbed) {\n",
       "      var spec = {\"config\": {\"axisLeft\": {\"labelFontSize\": 15}, \"axisBottom\": {\"labelFontSize\": 15}}, \"hconcat\": [{\"data\": {\"name\": \"data-b9d5339d02fbcc93d37aae757b42a80f\"}, \"mark\": \"bar\", \"encoding\": {\"color\": {\"type\": \"nominal\", \"field\": \"authorAssociation\", \"scale\": {\"domain\": [\"MEMBER\", \"CONTRIBUTOR\", \"COLLABORATOR\", \"NONE\"], \"range\": [\"rgb(211.82745098039214, 211.82745098039214, 211.82745098039214, 256.0)\", \"rgb(166.98562091503268, 229.89803921568628, 166.98562091503268, 256.0)\", \"rgb(96.37647058823529, 192.75294117647059, 96.37647058823529, 256.0)\", \"rgb(0.0, 100.3921568627451, 0.0, 256.0)\"]}}, \"x\": {\"type\": \"nominal\", \"field\": \"author\"}, \"y\": {\"type\": \"quantitative\", \"field\": \"n_first_responses\"}}, \"title\": \"Top 50 first responders for binder-examples in the last 30 days\", \"width\": 1000}, {\"data\": {\"name\": \"data-a16cc066b0467c247121924f9cf5c5e0\"}, \"mark\": \"bar\", \"encoding\": {\"color\": {\"type\": \"nominal\", \"field\": \"authorAssociation\", \"scale\": {\"domain\": [\"MEMBER\", \"CONTRIBUTOR\", \"COLLABORATOR\", \"NONE\"], \"range\": [\"rgb(211.82745098039214, 211.82745098039214, 211.82745098039214, 256.0)\", \"rgb(166.98562091503268, 229.89803921568628, 166.98562091503268, 256.0)\", \"rgb(96.37647058823529, 192.75294117647059, 96.37647058823529, 256.0)\", \"rgb(0.0, 100.3921568627451, 0.0, 256.0)\"]}}, \"x\": {\"type\": \"nominal\", \"field\": \"author\"}, \"y\": {\"type\": \"quantitative\", \"field\": \"n_first_responses\"}}, \"title\": \"Top 50 first responders for ipython in the last 30 days\", \"width\": 1000}, {\"data\": {\"name\": \"data-a0b24ef5232e27fc92f761f794335117\"}, \"mark\": \"bar\", \"encoding\": {\"color\": {\"type\": \"nominal\", \"field\": \"authorAssociation\", \"scale\": {\"domain\": [\"MEMBER\", \"CONTRIBUTOR\", \"COLLABORATOR\", \"NONE\"], \"range\": [\"rgb(211.82745098039214, 211.82745098039214, 211.82745098039214, 256.0)\", \"rgb(166.98562091503268, 229.89803921568628, 166.98562091503268, 256.0)\", \"rgb(96.37647058823529, 192.75294117647059, 96.37647058823529, 256.0)\", \"rgb(0.0, 100.3921568627451, 0.0, 256.0)\"]}}, \"x\": {\"type\": \"nominal\", \"field\": \"author\"}, \"y\": {\"type\": \"quantitative\", \"field\": \"n_first_responses\"}}, \"title\": \"Top 50 first responders for jupyter in the last 30 days\", \"width\": 1000}, {\"data\": {\"name\": \"data-0c097e498860338360dc36d898efb8f4\"}, \"mark\": \"bar\", \"encoding\": {\"color\": {\"type\": \"nominal\", \"field\": \"authorAssociation\", \"scale\": {\"domain\": [\"MEMBER\", \"CONTRIBUTOR\", \"COLLABORATOR\", \"NONE\"], \"range\": [\"rgb(211.82745098039214, 211.82745098039214, 211.82745098039214, 256.0)\", \"rgb(166.98562091503268, 229.89803921568628, 166.98562091503268, 256.0)\", \"rgb(96.37647058823529, 192.75294117647059, 96.37647058823529, 256.0)\", \"rgb(0.0, 100.3921568627451, 0.0, 256.0)\"]}}, \"x\": {\"type\": \"nominal\", \"field\": \"author\"}, \"y\": {\"type\": \"quantitative\", \"field\": \"n_first_responses\"}}, \"title\": \"Top 50 first responders for jupyter-widgets in the last 30 days\", \"width\": 1000}, {\"data\": {\"name\": \"data-bc9a533677bfa841447807054d4453b9\"}, \"mark\": \"bar\", \"encoding\": {\"color\": {\"type\": \"nominal\", \"field\": \"authorAssociation\", \"scale\": {\"domain\": [\"MEMBER\", \"CONTRIBUTOR\", \"COLLABORATOR\", \"NONE\"], \"range\": [\"rgb(211.82745098039214, 211.82745098039214, 211.82745098039214, 256.0)\", \"rgb(166.98562091503268, 229.89803921568628, 166.98562091503268, 256.0)\", \"rgb(96.37647058823529, 192.75294117647059, 96.37647058823529, 256.0)\", \"rgb(0.0, 100.3921568627451, 0.0, 256.0)\"]}}, \"x\": {\"type\": \"nominal\", \"field\": \"author\"}, \"y\": {\"type\": \"quantitative\", \"field\": \"n_first_responses\"}}, \"title\": \"Top 50 first responders for jupyterhub in the last 30 days\", \"width\": 1000}, {\"data\": {\"name\": \"data-b0fd6fcfc2d79fbe8aab8fbb67febcd2\"}, \"mark\": \"bar\", \"encoding\": {\"color\": {\"type\": \"nominal\", \"field\": \"authorAssociation\", \"scale\": {\"domain\": [\"MEMBER\", \"CONTRIBUTOR\", \"COLLABORATOR\", \"NONE\"], \"range\": [\"rgb(211.82745098039214, 211.82745098039214, 211.82745098039214, 256.0)\", \"rgb(166.98562091503268, 229.89803921568628, 166.98562091503268, 256.0)\", \"rgb(96.37647058823529, 192.75294117647059, 96.37647058823529, 256.0)\", \"rgb(0.0, 100.3921568627451, 0.0, 256.0)\"]}}, \"x\": {\"type\": \"nominal\", \"field\": \"author\"}, \"y\": {\"type\": \"quantitative\", \"field\": \"n_first_responses\"}}, \"title\": \"Top 50 first responders for jupyterlab in the last 30 days\", \"width\": 1000}], \"$schema\": \"https://vega.github.io/schema/vega-lite/v3.4.0.json\", \"datasets\": {\"data-b9d5339d02fbcc93d37aae757b42a80f\": [{\"author\": \"betatim\", \"n_first_responses\": 1, \"authorAssociation\": \"MEMBER\"}, {\"author\": \"choldgraf\", \"n_first_responses\": 1, \"authorAssociation\": \"MEMBER\"}], \"data-a16cc066b0467c247121924f9cf5c5e0\": [{\"author\": \"Carreau\", \"n_first_responses\": 25, \"authorAssociation\": \"MEMBER\"}, {\"author\": \"augustogoulart\", \"n_first_responses\": 8, \"authorAssociation\": \"NONE\"}, {\"author\": \"techtonik\", \"n_first_responses\": 3, \"authorAssociation\": \"CONTRIBUTOR\"}, {\"author\": \"bollwyvl\", \"n_first_responses\": 2, \"authorAssociation\": \"CONTRIBUTOR\"}, {\"author\": \"normanius\", \"n_first_responses\": 2, \"authorAssociation\": \"NONE\"}, {\"author\": \"martijnkruiten\", \"n_first_responses\": 1, \"authorAssociation\": \"NONE\"}, {\"author\": \"martinRenou\", \"n_first_responses\": 1, \"authorAssociation\": \"CONTRIBUTOR\"}, {\"author\": \"mroethke\", \"n_first_responses\": 1, \"authorAssociation\": \"NONE\"}, {\"author\": \"oboudry\", \"n_first_responses\": 1, \"authorAssociation\": \"NONE\"}, {\"author\": \"pedrogarcia\", \"n_first_responses\": 1, \"authorAssociation\": \"NONE\"}, {\"author\": \"pkerpedjiev\", \"n_first_responses\": 1, \"authorAssociation\": \"NONE\"}, {\"author\": \"kbennatti\", \"n_first_responses\": 1, \"authorAssociation\": \"NONE\"}, {\"author\": \"rnLIKEm\", \"n_first_responses\": 1, \"authorAssociation\": \"NONE\"}, {\"author\": \"takluyver\", \"n_first_responses\": 1, \"authorAssociation\": \"MEMBER\"}, {\"author\": \"terrdavis\", \"n_first_responses\": 1, \"authorAssociation\": \"CONTRIBUTOR\"}, {\"author\": \"tigran123\", \"n_first_responses\": 1, \"authorAssociation\": \"NONE\"}, {\"author\": \"wajdan846\", \"n_first_responses\": 1, \"authorAssociation\": \"NONE\"}, {\"author\": \"kousikmitra\", \"n_first_responses\": 1, \"authorAssociation\": \"CONTRIBUTOR\"}, {\"author\": \"iuliachiriac\", \"n_first_responses\": 1, \"authorAssociation\": \"NONE\"}, {\"author\": \"jseabold\", \"n_first_responses\": 1, \"authorAssociation\": \"CONTRIBUTOR\"}, {\"author\": \"Fronkan\", \"n_first_responses\": 1, \"authorAssociation\": \"NONE\"}, {\"author\": \"inspirepassion\", \"n_first_responses\": 1, \"authorAssociation\": \"NONE\"}, {\"author\": \"hartwork\", \"n_first_responses\": 1, \"authorAssociation\": \"NONE\"}, {\"author\": \"hadim\", \"n_first_responses\": 1, \"authorAssociation\": \"NONE\"}, {\"author\": \"daveliu-riviera\", \"n_first_responses\": 1, \"authorAssociation\": \"NONE\"}, {\"author\": \"dannygoldstein\", \"n_first_responses\": 1, \"authorAssociation\": \"NONE\"}, {\"author\": \"codylane\", \"n_first_responses\": 1, \"authorAssociation\": \"NONE\"}, {\"author\": \"bcipolli\", \"n_first_responses\": 1, \"authorAssociation\": \"NONE\"}, {\"author\": \"baogorek\", \"n_first_responses\": 1, \"authorAssociation\": \"NONE\"}, {\"author\": \"adammunich\", \"n_first_responses\": 1, \"authorAssociation\": \"NONE\"}, {\"author\": \"OceanNuclear\", \"n_first_responses\": 1, \"authorAssociation\": \"NONE\"}, {\"author\": \"Madhu94\", \"n_first_responses\": 1, \"authorAssociation\": \"CONTRIBUTOR\"}, {\"author\": \"Jirka-Lhotka\", \"n_first_responses\": 1, \"authorAssociation\": \"NONE\"}, {\"author\": \"Gilthans\", \"n_first_responses\": 1, \"authorAssociation\": \"NONE\"}, {\"author\": \"webbuildermn\", \"n_first_responses\": 1, \"authorAssociation\": \"NONE\"}], \"data-a0b24ef5232e27fc92f761f794335117\": [{\"author\": \"jhamrick\", \"n_first_responses\": 32, \"authorAssociation\": \"MEMBER\"}, {\"author\": \"takluyver\", \"n_first_responses\": 21, \"authorAssociation\": \"MEMBER\"}, {\"author\": \"krinsman\", \"n_first_responses\": 18, \"authorAssociation\": \"COLLABORATOR\"}, {\"author\": \"choldgraf\", \"n_first_responses\": 16, \"authorAssociation\": \"MEMBER\"}, {\"author\": \"kevin-bates\", \"n_first_responses\": 14, \"authorAssociation\": \"MEMBER\"}, {\"author\": \"parente\", \"n_first_responses\": 8, \"authorAssociation\": \"MEMBER\"}, {\"author\": \"MSeal\", \"n_first_responses\": 6, \"authorAssociation\": \"MEMBER\"}, {\"author\": \"echarles\", \"n_first_responses\": 6, \"authorAssociation\": \"CONTRIBUTOR\"}, {\"author\": \"betatim\", \"n_first_responses\": 6, \"authorAssociation\": \"MEMBER\"}, {\"author\": \"Zsailer\", \"n_first_responses\": 5, \"authorAssociation\": \"MEMBER\"}, {\"author\": \"jasongrout\", \"n_first_responses\": 4, \"authorAssociation\": \"MEMBER\"}, {\"author\": \"kynan\", \"n_first_responses\": 4, \"authorAssociation\": \"CONTRIBUTOR\"}, {\"author\": \"vidartf\", \"n_first_responses\": 4, \"authorAssociation\": \"COLLABORATOR\"}, {\"author\": \"ccordoba12\", \"n_first_responses\": 3, \"authorAssociation\": \"COLLABORATOR\"}, {\"author\": \"Bidek56\", \"n_first_responses\": 3, \"authorAssociation\": \"CONTRIBUTOR\"}, {\"author\": \"lresende\", \"n_first_responses\": 2, \"authorAssociation\": \"MEMBER\"}, {\"author\": \"maveme\", \"n_first_responses\": 2, \"authorAssociation\": \"NONE\"}, {\"author\": \"prof-lupin\", \"n_first_responses\": 2, \"authorAssociation\": \"NONE\"}, {\"author\": \"blink1073\", \"n_first_responses\": 2, \"authorAssociation\": \"MEMBER\"}, {\"author\": \"maddukurisrinivasarao\", \"n_first_responses\": 2, \"authorAssociation\": \"NONE\"}, {\"author\": \"maartenbreddels\", \"n_first_responses\": 2, \"authorAssociation\": \"CONTRIBUTOR\"}, {\"author\": \"nthiery\", \"n_first_responses\": 2, \"authorAssociation\": \"CONTRIBUTOR\"}, {\"author\": \"Patil2099\", \"n_first_responses\": 2, \"authorAssociation\": \"CONTRIBUTOR\"}, {\"author\": \"akhmerov\", \"n_first_responses\": 2, \"authorAssociation\": \"MEMBER\"}, {\"author\": \"bollwyvl\", \"n_first_responses\": 2, \"authorAssociation\": \"MEMBER\"}, {\"author\": \"aliniknejad\", \"n_first_responses\": 2, \"authorAssociation\": \"CONTRIBUTOR\"}, {\"author\": \"wmvanvliet\", \"n_first_responses\": 2, \"authorAssociation\": \"COLLABORATOR\"}, {\"author\": \"enisnazif\", \"n_first_responses\": 2, \"authorAssociation\": \"CONTRIBUTOR\"}, {\"author\": \"HanTeo\", \"n_first_responses\": 2, \"authorAssociation\": \"NONE\"}, {\"author\": \"jpmurillo\", \"n_first_responses\": 2, \"authorAssociation\": \"NONE\"}, {\"author\": \"westurner\", \"n_first_responses\": 2, \"authorAssociation\": \"NONE\"}, {\"author\": \"joy-rosie\", \"n_first_responses\": 2, \"authorAssociation\": \"NONE\"}, {\"author\": \"lokeshkumarn\", \"n_first_responses\": 1, \"authorAssociation\": \"NONE\"}, {\"author\": \"n59e11\", \"n_first_responses\": 1, \"authorAssociation\": \"NONE\"}, {\"author\": \"njapke\", \"n_first_responses\": 1, \"authorAssociation\": \"NONE\"}, {\"author\": \"jhidding\", \"n_first_responses\": 1, \"authorAssociation\": \"NONE\"}, {\"author\": \"niko-gallo\", \"n_first_responses\": 1, \"authorAssociation\": \"NONE\"}, {\"author\": \"nguyen14ck\", \"n_first_responses\": 1, \"authorAssociation\": \"NONE\"}, {\"author\": \"nataliemur26\", \"n_first_responses\": 1, \"authorAssociation\": \"NONE\"}, {\"author\": \"jishanshaikh4\", \"n_first_responses\": 1, \"authorAssociation\": \"NONE\"}, {\"author\": \"mfrata\", \"n_first_responses\": 1, \"authorAssociation\": \"NONE\"}, {\"author\": \"jismyseban\", \"n_first_responses\": 1, \"authorAssociation\": \"NONE\"}, {\"author\": \"nklever\", \"n_first_responses\": 1, \"authorAssociation\": \"CONTRIBUTOR\"}, {\"author\": \"juankikushima\", \"n_first_responses\": 1, \"authorAssociation\": \"NONE\"}, {\"author\": \"justin3687\", \"n_first_responses\": 1, \"authorAssociation\": \"NONE\"}, {\"author\": \"kalanaej\", \"n_first_responses\": 1, \"authorAssociation\": \"NONE\"}, {\"author\": \"martinzugnoni\", \"n_first_responses\": 1, \"authorAssociation\": \"NONE\"}, {\"author\": \"kiranbaradur\", \"n_first_responses\": 1, \"authorAssociation\": \"NONE\"}, {\"author\": \"kunalchandan\", \"n_first_responses\": 1, \"authorAssociation\": \"NONE\"}, {\"author\": \"lucabem\", \"n_first_responses\": 1, \"authorAssociation\": \"NONE\"}], \"data-0c097e498860338360dc36d898efb8f4\": [{\"author\": \"vidartf\", \"n_first_responses\": 12, \"authorAssociation\": \"MEMBER\"}, {\"author\": \"jasongrout\", \"n_first_responses\": 12, \"authorAssociation\": \"MEMBER\"}, {\"author\": \"martinRenou\", \"n_first_responses\": 6, \"authorAssociation\": \"MEMBER\"}, {\"author\": \"dependabot\", \"n_first_responses\": 3, \"authorAssociation\": \"NONE\"}, {\"author\": \"BrySchroeder\", \"n_first_responses\": 1, \"authorAssociation\": \"NONE\"}, {\"author\": \"moorepants\", \"n_first_responses\": 1, \"authorAssociation\": \"NONE\"}, {\"author\": \"sirbardo\", \"n_first_responses\": 1, \"authorAssociation\": \"NONE\"}, {\"author\": \"saurabhheda\", \"n_first_responses\": 1, \"authorAssociation\": \"NONE\"}, {\"author\": \"rbavery\", \"n_first_responses\": 1, \"authorAssociation\": \"NONE\"}, {\"author\": \"ponaie\", \"n_first_responses\": 1, \"authorAssociation\": \"NONE\"}, {\"author\": \"nvaytet\", \"n_first_responses\": 1, \"authorAssociation\": \"NONE\"}, {\"author\": \"motin\", \"n_first_responses\": 1, \"authorAssociation\": \"NONE\"}, {\"author\": \"mgeier\", \"n_first_responses\": 1, \"authorAssociation\": \"CONTRIBUTOR\"}, {\"author\": \"michcio1234\", \"n_first_responses\": 1, \"authorAssociation\": \"NONE\"}, {\"author\": \"Michael-H777\", \"n_first_responses\": 1, \"authorAssociation\": \"NONE\"}, {\"author\": \"deeplook\", \"n_first_responses\": 1, \"authorAssociation\": \"CONTRIBUTOR\"}, {\"author\": \"davidbrochart\", \"n_first_responses\": 1, \"authorAssociation\": \"CONTRIBUTOR\"}, {\"author\": \"bjorm\", \"n_first_responses\": 1, \"authorAssociation\": \"CONTRIBUTOR\"}, {\"author\": \"SylvainCorlay\", \"n_first_responses\": 1, \"authorAssociation\": \"MEMBER\"}, {\"author\": \"PBrockmann\", \"n_first_responses\": 1, \"authorAssociation\": \"NONE\"}, {\"author\": \"zerline\", \"n_first_responses\": 1, \"authorAssociation\": \"CONTRIBUTOR\"}], \"data-bc9a533677bfa841447807054d4453b9\": [{\"author\": \"betatim\", \"n_first_responses\": 43, \"authorAssociation\": \"MEMBER\"}, {\"author\": \"consideRatio\", \"n_first_responses\": 39, \"authorAssociation\": \"MEMBER\"}, {\"author\": \"manics\", \"n_first_responses\": 21, \"authorAssociation\": \"MEMBER\"}, {\"author\": \"choldgraf\", \"n_first_responses\": 20, \"authorAssociation\": \"MEMBER\"}, {\"author\": \"minrk\", \"n_first_responses\": 15, \"authorAssociation\": \"MEMBER\"}, {\"author\": \"yuvipanda\", \"n_first_responses\": 8, \"authorAssociation\": \"MEMBER\"}, {\"author\": \"jtlz2\", \"n_first_responses\": 5, \"authorAssociation\": \"NONE\"}, {\"author\": \"bitnik\", \"n_first_responses\": 4, \"authorAssociation\": \"COLLABORATOR\"}, {\"author\": \"blink1073\", \"n_first_responses\": 3, \"authorAssociation\": \"NONE\"}, {\"author\": \"pulponair\", \"n_first_responses\": 3, \"authorAssociation\": \"NONE\"}, {\"author\": \"rcthomas\", \"n_first_responses\": 3, \"authorAssociation\": \"CONTRIBUTOR\"}, {\"author\": \"linkcd\", \"n_first_responses\": 3, \"authorAssociation\": \"CONTRIBUTOR\"}, {\"author\": \"ryogesh\", \"n_first_responses\": 3, \"authorAssociation\": \"CONTRIBUTOR\"}, {\"author\": \"gaebor\", \"n_first_responses\": 3, \"authorAssociation\": \"NONE\"}, {\"author\": \"sgibson91\", \"n_first_responses\": 3, \"authorAssociation\": \"MEMBER\"}, {\"author\": \"rajashreetutgirl\", \"n_first_responses\": 2, \"authorAssociation\": \"NONE\"}, {\"author\": \"ociule\", \"n_first_responses\": 2, \"authorAssociation\": \"NONE\"}, {\"author\": \"btel\", \"n_first_responses\": 2, \"authorAssociation\": \"CONTRIBUTOR\"}, {\"author\": \"rtadewald\", \"n_first_responses\": 2, \"authorAssociation\": \"NONE\"}, {\"author\": \"willingc\", \"n_first_responses\": 2, \"authorAssociation\": \"MEMBER\"}, {\"author\": \"arnim\", \"n_first_responses\": 2, \"authorAssociation\": \"NONE\"}, {\"author\": \"stevenstetzler\", \"n_first_responses\": 2, \"authorAssociation\": \"NONE\"}, {\"author\": \"playermanny2\", \"n_first_responses\": 2, \"authorAssociation\": \"NONE\"}, {\"author\": \"mkjpryor-stfc\", \"n_first_responses\": 1, \"authorAssociation\": \"NONE\"}, {\"author\": \"mjuric\", \"n_first_responses\": 1, \"authorAssociation\": \"NONE\"}, {\"author\": \"xavierliang\", \"n_first_responses\": 1, \"authorAssociation\": \"NONE\"}, {\"author\": \"mf-creator\", \"n_first_responses\": 1, \"authorAssociation\": \"NONE\"}, {\"author\": \"mrwen00\", \"n_first_responses\": 1, \"authorAssociation\": \"NONE\"}, {\"author\": \"manniche\", \"n_first_responses\": 1, \"authorAssociation\": \"NONE\"}, {\"author\": \"nandanrao\", \"n_first_responses\": 1, \"authorAssociation\": \"NONE\"}, {\"author\": \"nick-gibb\", \"n_first_responses\": 1, \"authorAssociation\": \"NONE\"}, {\"author\": \"nstickney\", \"n_first_responses\": 1, \"authorAssociation\": \"NONE\"}, {\"author\": \"zhiyuli\", \"n_first_responses\": 1, \"authorAssociation\": \"NONE\"}, {\"author\": \"mangecoeur\", \"n_first_responses\": 1, \"authorAssociation\": \"NONE\"}, {\"author\": \"lynchs61\", \"n_first_responses\": 1, \"authorAssociation\": \"NONE\"}, {\"author\": \"paulnakroshis\", \"n_first_responses\": 1, \"authorAssociation\": \"NONE\"}, {\"author\": \"writetoneeraj\", \"n_first_responses\": 1, \"authorAssociation\": \"NONE\"}, {\"author\": \"praveenkanamarlapudi\", \"n_first_responses\": 1, \"authorAssociation\": \"NONE\"}, {\"author\": \"rajat404\", \"n_first_responses\": 1, \"authorAssociation\": \"CONTRIBUTOR\"}, {\"author\": \"whitespaceninja\", \"n_first_responses\": 1, \"authorAssociation\": \"NONE\"}, {\"author\": \"rochaporto\", \"n_first_responses\": 1, \"authorAssociation\": \"CONTRIBUTOR\"}, {\"author\": \"rolinston4\", \"n_first_responses\": 1, \"authorAssociation\": \"NONE\"}, {\"author\": \"rragundez\", \"n_first_responses\": 1, \"authorAssociation\": \"NONE\"}, {\"author\": \"wlyu\", \"n_first_responses\": 1, \"authorAssociation\": \"NONE\"}, {\"author\": \"shibbas\", \"n_first_responses\": 1, \"authorAssociation\": \"NONE\"}, {\"author\": \"silhouetted\", \"n_first_responses\": 1, \"authorAssociation\": \"NONE\"}, {\"author\": \"snailkn\", \"n_first_responses\": 1, \"authorAssociation\": \"NONE\"}, {\"author\": \"stevegore\", \"n_first_responses\": 1, \"authorAssociation\": \"NONE\"}, {\"author\": \"sunmakrules\", \"n_first_responses\": 1, \"authorAssociation\": \"NONE\"}, {\"author\": \"superjoebai\", \"n_first_responses\": 1, \"authorAssociation\": \"NONE\"}], \"data-b0fd6fcfc2d79fbe8aab8fbb67febcd2\": [{\"author\": \"jtpio\", \"n_first_responses\": 70, \"authorAssociation\": \"MEMBER\"}, {\"author\": \"jasongrout\", \"n_first_responses\": 46, \"authorAssociation\": \"MEMBER\"}, {\"author\": \"telamonian\", \"n_first_responses\": 14, \"authorAssociation\": \"MEMBER\"}, {\"author\": \"vidartf\", \"n_first_responses\": 12, \"authorAssociation\": \"MEMBER\"}, {\"author\": \"fcollonval\", \"n_first_responses\": 12, \"authorAssociation\": \"MEMBER\"}, {\"author\": \"KsavinN\", \"n_first_responses\": 9, \"authorAssociation\": \"COLLABORATOR\"}, {\"author\": \"blink1073\", \"n_first_responses\": 9, \"authorAssociation\": \"MEMBER\"}, {\"author\": \"JohanMabille\", \"n_first_responses\": 7, \"authorAssociation\": \"MEMBER\"}, {\"author\": \"mlucool\", \"n_first_responses\": 6, \"authorAssociation\": \"CONTRIBUTOR\"}, {\"author\": \"kgryte\", \"n_first_responses\": 5, \"authorAssociation\": \"COLLABORATOR\"}, {\"author\": \"afshin\", \"n_first_responses\": 5, \"authorAssociation\": \"MEMBER\"}, {\"author\": \"saulshanabrook\", \"n_first_responses\": 4, \"authorAssociation\": \"MEMBER\"}, {\"author\": \"ian-r-rose\", \"n_first_responses\": 4, \"authorAssociation\": \"MEMBER\"}, {\"author\": \"echarles\", \"n_first_responses\": 3, \"authorAssociation\": \"MEMBER\"}, {\"author\": \"tgeorgeux\", \"n_first_responses\": 3, \"authorAssociation\": \"MEMBER\"}, {\"author\": \"timkpaine\", \"n_first_responses\": 2, \"authorAssociation\": \"MEMBER\"}, {\"author\": \"ellisonbg\", \"n_first_responses\": 2, \"authorAssociation\": \"MEMBER\"}, {\"author\": \"dschaehi\", \"n_first_responses\": 2, \"authorAssociation\": \"NONE\"}, {\"author\": \"stonebig\", \"n_first_responses\": 2, \"authorAssociation\": \"MEMBER\"}, {\"author\": \"mbektasbbg\", \"n_first_responses\": 2, \"authorAssociation\": \"MEMBER\"}, {\"author\": \"mkjpryor-stfc\", \"n_first_responses\": 1, \"authorAssociation\": \"NONE\"}, {\"author\": \"michaels011235\", \"n_first_responses\": 1, \"authorAssociation\": \"NONE\"}, {\"author\": \"kalvinnchau\", \"n_first_responses\": 1, \"authorAssociation\": \"NONE\"}, {\"author\": \"kirill5pol\", \"n_first_responses\": 1, \"authorAssociation\": \"NONE\"}, {\"author\": \"michaelaye\", \"n_first_responses\": 1, \"authorAssociation\": \"MEMBER\"}, {\"author\": \"makslevental\", \"n_first_responses\": 1, \"authorAssociation\": \"NONE\"}, {\"author\": \"krinsman\", \"n_first_responses\": 1, \"authorAssociation\": \"CONTRIBUTOR\"}, {\"author\": \"moorepants\", \"n_first_responses\": 1, \"authorAssociation\": \"NONE\"}, {\"author\": \"kuprel\", \"n_first_responses\": 1, \"authorAssociation\": \"NONE\"}, {\"author\": \"Alexboiboi\", \"n_first_responses\": 1, \"authorAssociation\": \"NONE\"}, {\"author\": \"mvonpohle\", \"n_first_responses\": 1, \"authorAssociation\": \"NONE\"}, {\"author\": \"oronnavon\", \"n_first_responses\": 1, \"authorAssociation\": \"NONE\"}, {\"author\": \"zapsdus\", \"n_first_responses\": 1, \"authorAssociation\": \"NONE\"}, {\"author\": \"yuvipanda\", \"n_first_responses\": 1, \"authorAssociation\": \"CONTRIBUTOR\"}, {\"author\": \"willibix\", \"n_first_responses\": 1, \"authorAssociation\": \"NONE\"}, {\"author\": \"westurner\", \"n_first_responses\": 1, \"authorAssociation\": \"NONE\"}, {\"author\": \"wabiloo\", \"n_first_responses\": 1, \"authorAssociation\": \"NONE\"}, {\"author\": \"vman049\", \"n_first_responses\": 1, \"authorAssociation\": \"NONE\"}, {\"author\": \"timhoffm\", \"n_first_responses\": 1, \"authorAssociation\": \"CONTRIBUTOR\"}, {\"author\": \"tensorfoo\", \"n_first_responses\": 1, \"authorAssociation\": \"NONE\"}, {\"author\": \"sugatoray\", \"n_first_responses\": 1, \"authorAssociation\": \"NONE\"}, {\"author\": \"songxunyu\", \"n_first_responses\": 1, \"authorAssociation\": \"NONE\"}, {\"author\": \"soerendip\", \"n_first_responses\": 1, \"authorAssociation\": \"NONE\"}, {\"author\": \"seralouk\", \"n_first_responses\": 1, \"authorAssociation\": \"NONE\"}, {\"author\": \"scopatz\", \"n_first_responses\": 1, \"authorAssociation\": \"NONE\"}, {\"author\": \"quigleyj-mavenomics\", \"n_first_responses\": 1, \"authorAssociation\": \"NONE\"}, {\"author\": \"qntnrbns\", \"n_first_responses\": 1, \"authorAssociation\": \"CONTRIBUTOR\"}, {\"author\": \"riordan\", \"n_first_responses\": 1, \"authorAssociation\": \"NONE\"}, {\"author\": \"hadim\", \"n_first_responses\": 1, \"authorAssociation\": \"MEMBER\"}, {\"author\": \"jamesjnadeau\", \"n_first_responses\": 1, \"authorAssociation\": \"NONE\"}]}};\n",
       "      var embedOpt = {\"mode\": \"vega-lite\"};\n",
       "\n",
       "      function showError(el, error){\n",
       "          el.innerHTML = ('<div class=\"error\" style=\"color:red;\">'\n",
       "                          + '<p>JavaScript Error: ' + error.message + '</p>'\n",
       "                          + \"<p>This usually means there's a typo in your chart specification. \"\n",
       "                          + \"See the javascript console for the full traceback.</p>\"\n",
       "                          + '</div>');\n",
       "          throw error;\n",
       "      }\n",
       "      const el = document.getElementById('altair-viz-9');\n",
       "      vegaEmbed(\"#altair-viz-9\", spec, embedOpt)\n",
       "        .catch(error => showError(el, error));\n",
       "    });\n",
       "\n",
       "  </script>"
      ],
      "text/plain": [
       "alt.HConcatChart(...)"
      ]
     },
     "execution_count": 32,
     "metadata": {},
     "output_type": "execute_result"
    }
   ],
   "source": [
    "n_plot = 50\n",
    "charts = []\n",
    "for ii, (iorg, idata) in enumerate(first_responder_counts.groupby(['org'])):\n",
    "    title = f\"Top {n_plot} first responders for {iorg} in the last {n_days} days\"\n",
    "    idata = idata.groupby('author', as_index=False).agg({'n_first_responses': 'sum', 'authorAssociation': 'first'})\n",
    "    idata = idata.sort_values('n_first_responses', ascending=False).head(n_plot)\n",
    "    ch = alt.Chart(data=idata.head(n_plot), width=1000, title=title).mark_bar().encode(\n",
    "        x='author',\n",
    "        y='n_first_responses',\n",
    "        color=alt.Color('authorAssociation', scale=alt.Scale(domain=author_types, range=author_colors))\n",
    "    )\n",
    "    charts.append(ch)\n",
    "alt.hconcat(*charts)"
   ]
  },
  {
   "cell_type": "code",
   "execution_count": 33,
   "metadata": {
    "papermill": {
     "duration": 0.043825,
     "end_time": "2019-12-01T17:52:41.996659",
     "exception": false,
     "start_time": "2019-12-01T17:52:41.952834",
     "status": "completed"
    },
    "tags": []
   },
   "outputs": [
    {
     "data": {
      "text/html": [
       "<script src=\"https://cdn.rawgit.com/parente/4c3e6936d0d7a46fd071/raw/65b816fb9bdd3c28b4ddf3af602bfd6015486383/code_toggle.js\"></script>\n"
      ],
      "text/plain": [
       "<IPython.core.display.HTML object>"
      ]
     },
     "metadata": {},
     "output_type": "display_data"
    }
   ],
   "source": [
    "%%html\n",
    "<script src=\"https://cdn.rawgit.com/parente/4c3e6936d0d7a46fd071/raw/65b816fb9bdd3c28b4ddf3af602bfd6015486383/code_toggle.js\"></script>"
   ]
  }
 ],
 "metadata": {
  "kernelspec": {
   "display_name": "Python 3",
   "language": "python",
   "name": "python3"
  },
  "language_info": {
   "codemirror_mode": {
    "name": "ipython",
    "version": 3
   },
   "file_extension": ".py",
   "mimetype": "text/x-python",
   "name": "python",
   "nbconvert_exporter": "python",
   "pygments_lexer": "ipython3",
   "version": "3.7.3"
  },
  "papermill": {
   "duration": 13.49195,
   "end_time": "2019-12-01T17:52:42.552880",
   "environment_variables": {},
   "exception": null,
   "input_path": "./templates/github.ipynb",
   "output_path": "./reports/monthly/2019-11-01-2019-12-01/github.ipynb",
   "parameters": {
    "end_date": "2019-12-01",
    "github_orgs": [
     "jupyterhub",
     "jupyter",
     "jupyterlab",
     "jupyter-widgets",
     "ipython",
     "binder-examples"
    ],
    "renderer": "kaggle",
    "start_date": "2019-11-01"
   },
   "start_time": "2019-12-01T17:52:29.060930",
   "version": "1.2.1"
  },
  "widgets": {
   "application/vnd.jupyter.widget-state+json": {
    "state": {
     "00abe88b9cff46f0914b7d464a69d193": {
      "model_module": "@jupyter-widgets/controls",
      "model_module_version": "1.5.0",
      "model_name": "HTMLModel",
      "state": {
       "_dom_classes": [],
       "_model_module": "@jupyter-widgets/controls",
       "_model_module_version": "1.5.0",
       "_model_name": "HTMLModel",
       "_view_count": null,
       "_view_module": "@jupyter-widgets/controls",
       "_view_module_version": "1.5.0",
       "_view_name": "HTMLView",
       "description": "",
       "description_tooltip": null,
       "layout": "IPY_MODEL_0465c3614ac34389b325f69d4e308778",
       "placeholder": "​",
       "style": "IPY_MODEL_ee949ad2ca494262b00f4bab423d6690",
       "value": "<h4>binder-examples</h4>\n<h5><a href=\"https://github.com/binder-examples/conda\">binder-examples/conda</a></h5>\n<ul>\n<li><a href=\"https://github.com/binder-examples/conda/issues/7\">(#7)</a>: <em>Kernel dies when using tagged release v1.0</em> by <strong><a href=\"https://github.com/zepedar\">@zepedar</a></strong></li>\n</ul>\n<h5><a href=\"https://github.com/binder-examples/requirements\">binder-examples/requirements</a></h5>"
      }
     },
     "0465c3614ac34389b325f69d4e308778": {
      "model_module": "@jupyter-widgets/base",
      "model_module_version": "1.2.0",
      "model_name": "LayoutModel",
      "state": {
       "_model_module": "@jupyter-widgets/base",
       "_model_module_version": "1.2.0",
       "_model_name": "LayoutModel",
       "_view_count": null,
       "_view_module": "@jupyter-widgets/base",
       "_view_module_version": "1.2.0",
       "_view_name": "LayoutView",
       "align_content": null,
       "align_items": null,
       "align_self": null,
       "border": null,
       "bottom": null,
       "display": null,
       "flex": null,
       "flex_flow": null,
       "grid_area": null,
       "grid_auto_columns": null,
       "grid_auto_flow": null,
       "grid_auto_rows": null,
       "grid_column": null,
       "grid_gap": null,
       "grid_row": null,
       "grid_template_areas": null,
       "grid_template_columns": null,
       "grid_template_rows": null,
       "height": null,
       "justify_content": null,
       "justify_items": null,
       "left": null,
       "margin": null,
       "max_height": null,
       "max_width": null,
       "min_height": null,
       "min_width": null,
       "object_fit": null,
       "object_position": null,
       "order": null,
       "overflow": null,
       "overflow_x": null,
       "overflow_y": null,
       "padding": null,
       "right": null,
       "top": null,
       "visibility": null,
       "width": null
      }
     },
     "0ef4d00440ad4e20a300a3911860fbb6": {
      "model_module": "@jupyter-widgets/controls",
      "model_module_version": "1.5.0",
      "model_name": "HTMLModel",
      "state": {
       "_dom_classes": [],
       "_model_module": "@jupyter-widgets/controls",
       "_model_module_version": "1.5.0",
       "_model_name": "HTMLModel",
       "_view_count": null,
       "_view_module": "@jupyter-widgets/controls",
       "_view_module_version": "1.5.0",
       "_view_name": "HTMLView",
       "description": "",
       "description_tooltip": null,
       "layout": "IPY_MODEL_318ae5768592488aaa571b6f0792bf53",
       "placeholder": "​",
       "style": "IPY_MODEL_b687fc5eeaf9497ba80b9000b5b949ac",
       "value": "<center><p><a href=\"https://github.com/adammunich\">adammunich</a> | <a href=\"https://github.com/AgilentGCMS\">AgilentGCMS</a> | <a href=\"https://github.com/albireox\">albireox</a> | <a href=\"https://github.com/augustogoulart\">augustogoulart</a> | <a href=\"https://github.com/baogorek\">baogorek</a> | <a href=\"https://github.com/bcipolli\">bcipolli</a> | <a href=\"https://github.com/bollwyvl\">bollwyvl</a> | <a href=\"https://github.com/bryevdv\">bryevdv</a> | <a href=\"https://github.com/capac\">capac</a> | <a href=\"https://github.com/capitao014\">capitao014</a> | <a href=\"https://github.com/Carreau\">Carreau</a> | <a href=\"https://github.com/CharlieZhu\">CharlieZhu</a> | <a href=\"https://github.com/ck3mp\">ck3mp</a> | <a href=\"https://github.com/codylane\">codylane</a> | <a href=\"https://github.com/dannygoldstein\">dannygoldstein</a> | <a href=\"https://github.com/daveliu-riviera\">daveliu-riviera</a> | <a href=\"https://github.com/dclong\">dclong</a> | <a href=\"https://github.com/Fronkan\">Fronkan</a> | <a href=\"https://github.com/gegnew\">gegnew</a> | <a href=\"https://github.com/gerrit8143\">gerrit8143</a> | <a href=\"https://github.com/Gilthans\">Gilthans</a> | <a href=\"https://github.com/gokceneraslan\">gokceneraslan</a> | <a href=\"https://github.com/hadim\">hadim</a> | <a href=\"https://github.com/hartwork\">hartwork</a> | <a href=\"https://github.com/inspirepassion\">inspirepassion</a> | <a href=\"https://github.com/iuliachiriac\">iuliachiriac</a> | <a href=\"https://github.com/Jirka-Lhotka\">Jirka-Lhotka</a> | <a href=\"https://github.com/joelostblom\">joelostblom</a> | <a href=\"https://github.com/jonathanslenders\">jonathanslenders</a> | <a href=\"https://github.com/jplana\">jplana</a> | <a href=\"https://github.com/jseabold\">jseabold</a> | <a href=\"https://github.com/kbennatti\">kbennatti</a> | <a href=\"https://github.com/kevin-bates\">kevin-bates</a> | <a href=\"https://github.com/kousikmitra\">kousikmitra</a> | <a href=\"https://github.com/Madhu94\">Madhu94</a> | <a href=\"https://github.com/marcbernot\">marcbernot</a> | <a href=\"https://github.com/martijnkruiten\">martijnkruiten</a> | <a href=\"https://github.com/martinRenou\">martinRenou</a> | <a href=\"https://github.com/meeseeksdev\">meeseeksdev</a> | <a href=\"https://github.com/minrk\">minrk</a> | <a href=\"https://github.com/mroethke\">mroethke</a> | <a href=\"https://github.com/mrzzheng\">mrzzheng</a> | <a href=\"https://github.com/normanius\">normanius</a> | <a href=\"https://github.com/oboudry\">oboudry</a> | <a href=\"https://github.com/OceanNuclear\">OceanNuclear</a> | <a href=\"https://github.com/pedrogarcia\">pedrogarcia</a> | <a href=\"https://github.com/petevdp\">petevdp</a> | <a href=\"https://github.com/pkerpedjiev\">pkerpedjiev</a> | <a href=\"https://github.com/pylang\">pylang</a> | <a href=\"https://github.com/rmorshea\">rmorshea</a> | <a href=\"https://github.com/rnLIKEm\">rnLIKEm</a> | <a href=\"https://github.com/sgjholt\">sgjholt</a> | <a href=\"https://github.com/sleebapaul\">sleebapaul</a> | <a href=\"https://github.com/srinivasreddy\">srinivasreddy</a> | <a href=\"https://github.com/suewonjp\">suewonjp</a> | <a href=\"https://github.com/takluyver\">takluyver</a> | <a href=\"https://github.com/techtonik\">techtonik</a> | <a href=\"https://github.com/terrdavis\">terrdavis</a> | <a href=\"https://github.com/tigran123\">tigran123</a> | <a href=\"https://github.com/wajdan846\">wajdan846</a> | <a href=\"https://github.com/webbuildermn\">webbuildermn</a></p></center>"
      }
     },
     "11042b9597a3410b99159eaed6a79310": {
      "model_module": "@jupyter-widgets/base",
      "model_module_version": "1.2.0",
      "model_name": "LayoutModel",
      "state": {
       "_model_module": "@jupyter-widgets/base",
       "_model_module_version": "1.2.0",
       "_model_name": "LayoutModel",
       "_view_count": null,
       "_view_module": "@jupyter-widgets/base",
       "_view_module_version": "1.2.0",
       "_view_name": "LayoutView",
       "align_content": null,
       "align_items": null,
       "align_self": null,
       "border": null,
       "bottom": null,
       "display": null,
       "flex": null,
       "flex_flow": null,
       "grid_area": null,
       "grid_auto_columns": null,
       "grid_auto_flow": null,
       "grid_auto_rows": null,
       "grid_column": null,
       "grid_gap": null,
       "grid_row": null,
       "grid_template_areas": null,
       "grid_template_columns": null,
       "grid_template_rows": null,
       "height": null,
       "justify_content": null,
       "justify_items": null,
       "left": null,
       "margin": null,
       "max_height": null,
       "max_width": null,
       "min_height": null,
       "min_width": null,
       "object_fit": null,
       "object_position": null,
       "order": null,
       "overflow": null,
       "overflow_x": null,
       "overflow_y": null,
       "padding": null,
       "right": null,
       "top": null,
       "visibility": null,
       "width": null
      }
     },
     "13084f5a890c4ff291aaee174af7e803": {
      "model_module": "@jupyter-widgets/controls",
      "model_module_version": "1.5.0",
      "model_name": "DescriptionStyleModel",
      "state": {
       "_model_module": "@jupyter-widgets/controls",
       "_model_module_version": "1.5.0",
       "_model_name": "DescriptionStyleModel",
       "_view_count": null,
       "_view_module": "@jupyter-widgets/base",
       "_view_module_version": "1.2.0",
       "_view_name": "StyleView",
       "description_width": ""
      }
     },
     "15ac471d494d47bd9c812ef604082717": {
      "model_module": "@jupyter-widgets/base",
      "model_module_version": "1.2.0",
      "model_name": "LayoutModel",
      "state": {
       "_model_module": "@jupyter-widgets/base",
       "_model_module_version": "1.2.0",
       "_model_name": "LayoutModel",
       "_view_count": null,
       "_view_module": "@jupyter-widgets/base",
       "_view_module_version": "1.2.0",
       "_view_name": "LayoutView",
       "align_content": null,
       "align_items": null,
       "align_self": null,
       "border": null,
       "bottom": null,
       "display": null,
       "flex": null,
       "flex_flow": null,
       "grid_area": null,
       "grid_auto_columns": null,
       "grid_auto_flow": null,
       "grid_auto_rows": null,
       "grid_column": null,
       "grid_gap": null,
       "grid_row": null,
       "grid_template_areas": null,
       "grid_template_columns": null,
       "grid_template_rows": null,
       "height": null,
       "justify_content": null,
       "justify_items": null,
       "left": null,
       "margin": null,
       "max_height": null,
       "max_width": null,
       "min_height": null,
       "min_width": null,
       "object_fit": null,
       "object_position": null,
       "order": null,
       "overflow": null,
       "overflow_x": null,
       "overflow_y": null,
       "padding": null,
       "right": null,
       "top": null,
       "visibility": null,
       "width": null
      }
     },
     "1955f65c2a35492996394dcd17c7fea5": {
      "model_module": "@jupyter-widgets/controls",
      "model_module_version": "1.5.0",
      "model_name": "HTMLModel",
      "state": {
       "_dom_classes": [],
       "_model_module": "@jupyter-widgets/controls",
       "_model_module_version": "1.5.0",
       "_model_name": "HTMLModel",
       "_view_count": null,
       "_view_module": "@jupyter-widgets/controls",
       "_view_module_version": "1.5.0",
       "_view_name": "HTMLView",
       "description": "",
       "description_tooltip": null,
       "layout": "IPY_MODEL_df4c091e5277471091121ddfda43f3f9",
       "placeholder": "​",
       "style": "IPY_MODEL_4321ab1e618843e1b7ecf879353309ac",
       "value": "<h4>jupyter-widgets</h4>\n<h5><a href=\"https://github.com/jupyter-widgets/ipyleaflet\">jupyter-widgets/ipyleaflet</a></h5>\n<ul>\n<li><a href=\"https://github.com/jupyter-widgets/ipyleaflet/issues/447\">(#447)</a>: <em>marker with auto_close option</em> by <strong><a href=\"https://github.com/PBrockmann\">@PBrockmann</a></strong></li>\n<li><a href=\"https://github.com/jupyter-widgets/ipyleaflet/issues/446\">(#446)</a>: <em>Unreasonable requirement of 'id' property in GeoJSON for choropleth</em> by <strong><a href=\"https://github.com/andrhua\">@andrhua</a></strong></li>\n<li><a href=\"https://github.com/jupyter-widgets/ipyleaflet/issues/441\">(#441)</a>: <em>ipyleaflet map within ipyvuetify layout</em> by <strong><a href=\"https://github.com/gareth-j\">@gareth-j</a></strong></li>\n<li><a href=\"https://github.com/jupyter-widgets/ipyleaflet/issues/179\">(#179)</a>: <em>SplitMap with geojson shapes</em> by <strong><a href=\"https://github.com/mangecoeur\">@mangecoeur</a></strong></li>\n</ul>\n<h5><a href=\"https://github.com/jupyter-widgets/ipywidgets\">jupyter-widgets/ipywidgets</a></h5>\n<ul>\n<li><a href=\"https://github.com/jupyter-widgets/ipywidgets/issues/2623\">(#2623)</a>: <em>ipywidgets stuck at \"Loading widget...\" in JupyterLab</em> by <strong><a href=\"https://github.com/christasich\">@christasich</a></strong></li>\n<li><a href=\"https://github.com/jupyter-widgets/ipywidgets/issues/2612\">(#2612)</a>: <em>Error message not shown when using a callback!</em> by <strong><a href=\"https://github.com/alex4200\">@alex4200</a></strong></li>\n<li><a href=\"https://github.com/jupyter-widgets/ipywidgets/issues/2624\">(#2624)</a>: <em>Is it possible to create a Matplotlib graph in a cell of GridspecLayout?</em> by <strong><a href=\"https://github.com/KristianLN\">@KristianLN</a></strong></li>\n<li><a href=\"https://github.com/jupyter-widgets/ipywidgets/issues/2622\">(#2622)</a>: <em>Is it possible to create ipywidgets in a *.py file and return them to notebook to display?</em> by <strong><a href=\"https://github.com/sbonaretti\">@sbonaretti</a></strong></li>\n<li><a href=\"https://github.com/jupyter-widgets/ipywidgets/issues/2614\">(#2614)</a>: _Create new button from on_click() method OR create 2nd button during 1st button press event _ by <strong><a href=\"https://github.com/shek2994\">@shek2994</a></strong></li>\n</ul>\n<h5><a href=\"https://github.com/jupyter-widgets/jupyterlab-sidecar\">jupyter-widgets/jupyterlab-sidecar</a></h5>\n<ul>\n<li><a href=\"https://github.com/jupyter-widgets/jupyterlab-sidecar/issues/35\">(#35)</a>: <em>RuntimeError when installing jupyterlab-sidecar</em> by <strong><a href=\"https://github.com/Michael-H777\">@Michael-H777</a></strong></li>\n</ul>\n<h5><a href=\"https://github.com/jupyter-widgets/pythreejs\">jupyter-widgets/pythreejs</a></h5>\n<ul>\n<li><a href=\"https://github.com/jupyter-widgets/pythreejs/issues/262\">(#262)</a>: <em>Animate multiple objects simultaneously</em> by <strong><a href=\"https://github.com/Boomer91\">@Boomer91</a></strong></li>\n<li><a href=\"https://github.com/jupyter-widgets/pythreejs/issues/292\">(#292)</a>: <em>Directly changing multiple BufferAttribute arrays causes flickering in the renderer widget</em> by <strong><a href=\"https://github.com/sirbardo\">@sirbardo</a></strong></li>\n<li><a href=\"https://github.com/jupyter-widgets/pythreejs/issues/298\">(#298)</a>: <em>CloneArray children empty</em> by <strong><a href=\"https://github.com/gmonet\">@gmonet</a></strong></li>\n<li><a href=\"https://github.com/jupyter-widgets/pythreejs/issues/295\">(#295)</a>: <em>Add 'world' axes widget, that syncs with a scene</em> by <strong><a href=\"https://github.com/chrisjsewell\">@chrisjsewell</a></strong></li>\n</ul>"
      }
     },
     "1aec46da59c74ce587e08e470f125ea6": {
      "model_module": "@jupyter-widgets/controls",
      "model_module_version": "1.5.0",
      "model_name": "DescriptionStyleModel",
      "state": {
       "_model_module": "@jupyter-widgets/controls",
       "_model_module_version": "1.5.0",
       "_model_name": "DescriptionStyleModel",
       "_view_count": null,
       "_view_module": "@jupyter-widgets/base",
       "_view_module_version": "1.2.0",
       "_view_name": "StyleView",
       "description_width": ""
      }
     },
     "1e2801c6afea4041b54a6a9e282c4168": {
      "model_module": "@jupyter-widgets/controls",
      "model_module_version": "1.5.0",
      "model_name": "HTMLModel",
      "state": {
       "_dom_classes": [],
       "_model_module": "@jupyter-widgets/controls",
       "_model_module_version": "1.5.0",
       "_model_name": "HTMLModel",
       "_view_count": null,
       "_view_module": "@jupyter-widgets/controls",
       "_view_module_version": "1.5.0",
       "_view_name": "HTMLView",
       "description": "",
       "description_tooltip": null,
       "layout": "IPY_MODEL_2e94643b32fc4127af4b54ea386fc243",
       "placeholder": "​",
       "style": "IPY_MODEL_caf9d421d04c4e999181ca6a260a372c",
       "value": "<center><p><a href=\"https://github.com/alex4200\">alex4200</a> | <a href=\"https://github.com/andrhua\">andrhua</a> | <a href=\"https://github.com/bjorm\">bjorm</a> | <a href=\"https://github.com/blois\">blois</a> | <a href=\"https://github.com/BrySchroeder\">BrySchroeder</a> | <a href=\"https://github.com/chrisjsewell\">chrisjsewell</a> | <a href=\"https://github.com/christasich\">christasich</a> | <a href=\"https://github.com/davidbrochart\">davidbrochart</a> | <a href=\"https://github.com/deeplook\">deeplook</a> | <a href=\"https://github.com/dependabot\">dependabot</a> | <a href=\"https://github.com/eteq\">eteq</a> | <a href=\"https://github.com/fpom\">fpom</a> | <a href=\"https://github.com/gmonet\">gmonet</a> | <a href=\"https://github.com/jasongrout\">jasongrout</a> | <a href=\"https://github.com/jjennings955\">jjennings955</a> | <a href=\"https://github.com/jtpio\">jtpio</a> | <a href=\"https://github.com/KristianLN\">KristianLN</a> | <a href=\"https://github.com/maartenbreddels\">maartenbreddels</a> | <a href=\"https://github.com/martinRenou\">martinRenou</a> | <a href=\"https://github.com/mgeier\">mgeier</a> | <a href=\"https://github.com/Michael-H777\">Michael-H777</a> | <a href=\"https://github.com/michcio1234\">michcio1234</a> | <a href=\"https://github.com/moorepants\">moorepants</a> | <a href=\"https://github.com/motin\">motin</a> | <a href=\"https://github.com/mstanley103\">mstanley103</a> | <a href=\"https://github.com/nrbgt\">nrbgt</a> | <a href=\"https://github.com/nvaytet\">nvaytet</a> | <a href=\"https://github.com/owen-synergy\">owen-synergy</a> | <a href=\"https://github.com/pbcornelius\">pbcornelius</a> | <a href=\"https://github.com/PBrockmann\">PBrockmann</a> | <a href=\"https://github.com/philippbc\">philippbc</a> | <a href=\"https://github.com/ponaie\">ponaie</a> | <a href=\"https://github.com/rbavery\">rbavery</a> | <a href=\"https://github.com/rramphal\">rramphal</a> | <a href=\"https://github.com/saurabhheda\">saurabhheda</a> | <a href=\"https://github.com/sbonaretti\">sbonaretti</a> | <a href=\"https://github.com/scottwsides\">scottwsides</a> | <a href=\"https://github.com/shek2994\">shek2994</a> | <a href=\"https://github.com/sirbardo\">sirbardo</a> | <a href=\"https://github.com/SylvainCorlay\">SylvainCorlay</a> | <a href=\"https://github.com/ThierrySpetebroot\">ThierrySpetebroot</a> | <a href=\"https://github.com/tonyluo98\">tonyluo98</a> | <a href=\"https://github.com/VeneficusFerox\">VeneficusFerox</a> | <a href=\"https://github.com/vidartf\">vidartf</a> | <a href=\"https://github.com/zerline\">zerline</a></p></center>"
      }
     },
     "1f9055bb5d5643108c1af0b26d527a5b": {
      "model_module": "@jupyter-widgets/controls",
      "model_module_version": "1.5.0",
      "model_name": "HTMLModel",
      "state": {
       "_dom_classes": [],
       "_model_module": "@jupyter-widgets/controls",
       "_model_module_version": "1.5.0",
       "_model_name": "HTMLModel",
       "_view_count": null,
       "_view_module": "@jupyter-widgets/controls",
       "_view_module_version": "1.5.0",
       "_view_name": "HTMLView",
       "description": "",
       "description_tooltip": null,
       "layout": "IPY_MODEL_862f1792a13f424cbc8058b8798e5c7c",
       "placeholder": "​",
       "style": "IPY_MODEL_9dad764ac4b74605a739c7c60c84d08a",
       "value": "<h4>Closed PRs for org: <code>binder-examples</code></h4>\n<h5><a href=\"https://github.com/binder-examples/requirements\">binder-examples/requirements</a></h5>\n<ul>\n<li><a href=\"https://github.com/binder-examples/requirements/pull/9\">(#9)</a>: <em>glob is a standard library module</em> by <strong><a href=\"https://github.com/betatim\">@betatim</a></strong> merged by <strong><a href=\"https://github.com/betatim\">@betatim</a></strong></li>\n</ul>"
      }
     },
     "1ffeda70006345f7a767ecf36aa347db": {
      "model_module": "@jupyter-widgets/controls",
      "model_module_version": "1.5.0",
      "model_name": "TabModel",
      "state": {
       "_dom_classes": [],
       "_model_module": "@jupyter-widgets/controls",
       "_model_module_version": "1.5.0",
       "_model_name": "TabModel",
       "_titles": {
        "0": "binder-examples",
        "1": "ipython",
        "2": "jupyter",
        "3": "jupyter-widgets",
        "4": "jupyterhub",
        "5": "jupyterlab"
       },
       "_view_count": null,
       "_view_module": "@jupyter-widgets/controls",
       "_view_module_version": "1.5.0",
       "_view_name": "TabView",
       "box_style": "",
       "children": [
        "IPY_MODEL_1f9055bb5d5643108c1af0b26d527a5b",
        "IPY_MODEL_e3536c4510ee42ea856ef684b33199a0",
        "IPY_MODEL_e863960824ce4bb2ac34b35b41bed48a",
        "IPY_MODEL_f0b90dc0f2b04f74b2cb9aecf9e9aa9b",
        "IPY_MODEL_54ce1a3f7337407d9b89a525406ebc31",
        "IPY_MODEL_361017ff38de4a21a2e75704294f8d72"
       ],
       "layout": "IPY_MODEL_11042b9597a3410b99159eaed6a79310",
       "selected_index": 0
      }
     },
     "207bd40a35e94321aba995cf96f394ef": {
      "model_module": "@jupyter-widgets/controls",
      "model_module_version": "1.5.0",
      "model_name": "HTMLModel",
      "state": {
       "_dom_classes": [],
       "_model_module": "@jupyter-widgets/controls",
       "_model_module_version": "1.5.0",
       "_model_name": "HTMLModel",
       "_view_count": null,
       "_view_module": "@jupyter-widgets/controls",
       "_view_module_version": "1.5.0",
       "_view_name": "HTMLView",
       "description": "",
       "description_tooltip": null,
       "layout": "IPY_MODEL_dc8366adc445475e9bc9b62c01f0db4a",
       "placeholder": "​",
       "style": "IPY_MODEL_13084f5a890c4ff291aaee174af7e803",
       "value": "<h4>ipython</h4>\n<h5><a href=\"https://github.com/ipython/ipykernel\">ipython/ipykernel</a></h5>\n<ul>\n<li><a href=\"https://github.com/ipython/ipykernel/issues/459\">(#459)</a>: <em>error happen after 'pip install -e .'</em> by <strong><a href=\"https://github.com/Azaretdodo\">@Azaretdodo</a></strong></li>\n<li><a href=\"https://github.com/ipython/ipykernel/issues/422\">(#422)</a>: <em>AttributeError: 'NoneType' object has no attribute 'thread'</em> by <strong><a href=\"https://github.com/yashk2810\">@yashk2810</a></strong></li>\n<li><a href=\"https://github.com/ipython/ipykernel/issues/369\">(#369)</a>: <em>Wait for comm message synchronously</em> by <strong><a href=\"https://github.com/saulshanabrook\">@saulshanabrook</a></strong></li>\n</ul>\n<h5><a href=\"https://github.com/ipython/ipynb\">ipython/ipynb</a></h5>\n<ul>\n<li><a href=\"https://github.com/ipython/ipynb/issues/38\">(#38)</a>: <em>Reload semantics</em> by <strong><a href=\"https://github.com/mikepurvis\">@mikepurvis</a></strong></li>\n</ul>\n<h5><a href=\"https://github.com/ipython/ipython\">ipython/ipython</a></h5>\n<ul>\n<li><a href=\"https://github.com/ipython/ipython/issues/11941\">(#11941)</a>: <em>Raising any error always triggers an AttributeError</em> by <strong><a href=\"https://github.com/AgilentGCMS\">@AgilentGCMS</a></strong></li>\n<li><a href=\"https://github.com/ipython/ipython/issues/11921\">(#11921)</a>: <em>Tab completion Fraction(n,m).denomi<TAB> causes \"Exception There are no params defined on this.\"</em> by <strong><a href=\"https://github.com/tigran123\">@tigran123</a></strong></li>\n</ul>\n<h5><a href=\"https://github.com/ipython/rlipython\">ipython/rlipython</a></h5>\n<ul>\n<li><a href=\"https://github.com/ipython/rlipython/issues/22\">(#22)</a>: _README.md - update to highlight \"DO <strong>NOT</strong> USE WITH IPYTHON 7\" - it WILL corrupt your installation. _ by <strong><a href=\"https://github.com/WaterSibilantFalling\">@WaterSibilantFalling</a></strong></li>\n</ul>\n<h5><a href=\"https://github.com/ipython/traitlets\">ipython/traitlets</a></h5>"
      }
     },
     "2464d99b71844b37808a13f07eb69add": {
      "model_module": "@jupyter-widgets/controls",
      "model_module_version": "1.5.0",
      "model_name": "HTMLModel",
      "state": {
       "_dom_classes": [],
       "_model_module": "@jupyter-widgets/controls",
       "_model_module_version": "1.5.0",
       "_model_name": "HTMLModel",
       "_view_count": null,
       "_view_module": "@jupyter-widgets/controls",
       "_view_module_version": "1.5.0",
       "_view_name": "HTMLView",
       "description": "",
       "description_tooltip": null,
       "layout": "IPY_MODEL_4e9bba8ea2494dd2b8abaec84aa39b9f",
       "placeholder": "​",
       "style": "IPY_MODEL_7eea9bdcfab544b6b16badaae047e4f4",
       "value": "<h4>jupyterlab</h4>\n<h5><a href=\"https://github.com/jupyterlab/debugger\">jupyterlab/debugger</a></h5>\n<ul>\n<li><a href=\"https://github.com/jupyterlab/debugger/issues/180\">(#180)</a>: <em>[UX] Add a debug button</em> by <strong><a href=\"https://github.com/dhirschfeld\">@dhirschfeld</a></strong></li>\n<li><a href=\"https://github.com/jupyterlab/debugger/issues/144\">(#144)</a>: <em>Behavior of next / stepOver</em> by <strong><a href=\"https://github.com/jtpio\">@jtpio</a></strong></li>\n</ul>\n<h5><a href=\"https://github.com/jupyterlab/extension-cookiecutter-ts\">jupyterlab/extension-cookiecutter-ts</a></h5>\n<ul>\n<li><a href=\"https://github.com/jupyterlab/extension-cookiecutter-ts/issues/36\">(#36)</a>: <em>Add \"ES2015.Collection\" in ts config</em> by <strong><a href=\"https://github.com/fcollonval\">@fcollonval</a></strong></li>\n<li><a href=\"https://github.com/jupyterlab/extension-cookiecutter-ts/issues/32\">(#32)</a>: <em>\"jupyterlab_myextension@0.1.0\" is not compatible with the current JupyterLab</em> by <strong><a href=\"https://github.com/chfw\">@chfw</a></strong></li>\n</ul>\n<h5><a href=\"https://github.com/jupyterlab/jupyter-renderers\">jupyterlab/jupyter-renderers</a></h5>\n<ul>\n<li><a href=\"https://github.com/jupyterlab/jupyter-renderers/issues/169\">(#169)</a>: <em>JSON not rendering</em> by <strong><a href=\"https://github.com/TomGoBravo\">@TomGoBravo</a></strong></li>\n</ul>\n<h5><a href=\"https://github.com/jupyterlab/jupyterlab\">jupyterlab/jupyterlab</a></h5>\n<ul>\n<li><a href=\"https://github.com/jupyterlab/jupyterlab/issues/7547\">(#7547)</a>: <em>Request - add shortcut to show file browser</em> by <strong><a href=\"https://github.com/plynch-chwy\">@plynch-chwy</a></strong></li>\n<li><a href=\"https://github.com/jupyterlab/jupyterlab/issues/7425\">(#7425)</a>: <em>remark: Jupyterlab-1.2.0rc0 failed to build on Win 10 64bt</em> by <strong><a href=\"https://github.com/stonebig\">@stonebig</a></strong></li>\n<li><a href=\"https://github.com/jupyterlab/jupyterlab/issues/7507\">(#7507)</a>: <em>FileBrowser delete doesn't work when started from network share</em> by <strong><a href=\"https://github.com/dhirschfeld\">@dhirschfeld</a></strong></li>\n<li><a href=\"https://github.com/jupyterlab/jupyterlab/issues/7473\">(#7473)</a>: <em>Markdown image not showing for Windows</em> by <strong><a href=\"https://github.com/scottwsides\">@scottwsides</a></strong></li>\n</ul>\n<h5><a href=\"https://github.com/jupyterlab/jupyterlab-celltags\">jupyterlab/jupyterlab-celltags</a></h5>\n<ul>\n<li><a href=\"https://github.com/jupyterlab/jupyterlab-celltags/issues/193\">(#193)</a>: <em>Tags not available</em> by <strong><a href=\"https://github.com/juancrescente\">@juancrescente</a></strong></li>\n</ul>\n<h5><a href=\"https://github.com/jupyterlab/jupyterlab-commenting\">jupyterlab/jupyterlab-commenting</a></h5>\n<ul>\n<li><a href=\"https://github.com/jupyterlab/jupyterlab-commenting/issues/58\">(#58)</a>: <em>Unifying UX/UI and software engineering work</em> by <strong><a href=\"https://github.com/Zsailer\">@Zsailer</a></strong></li>\n<li><a href=\"https://github.com/jupyterlab/jupyterlab-commenting/issues/42\">(#42)</a>: <em>NYU Handoff</em> by <strong><a href=\"https://github.com/saulshanabrook\">@saulshanabrook</a></strong></li>\n</ul>\n<h5><a href=\"https://github.com/jupyterlab/jupyterlab-data-explorer\">jupyterlab/jupyterlab-data-explorer</a></h5>\n<ul>\n<li><a href=\"https://github.com/jupyterlab/jupyterlab-data-explorer/issues/113\">(#113)</a>: <em>NYU Handoff</em> by <strong><a href=\"https://github.com/saulshanabrook\">@saulshanabrook</a></strong></li>\n<li><a href=\"https://github.com/jupyterlab/jupyterlab-data-explorer/issues/103\">(#103)</a>: <em>Notes from meeting with Tim</em> by <strong><a href=\"https://github.com/saulshanabrook\">@saulshanabrook</a></strong></li>\n</ul>\n<h5><a href=\"https://github.com/jupyterlab/jupyterlab-git\">jupyterlab/jupyterlab-git</a></h5>\n<ul>\n<li><a href=\"https://github.com/jupyterlab/jupyterlab-git/issues/452\">(#452)</a>: <em>Installation using poetry: frontend is not installed</em> by <strong><a href=\"https://github.com/harrybiddle\">@harrybiddle</a></strong></li>\n<li><a href=\"https://github.com/jupyterlab/jupyterlab-git/issues/453\">(#453)</a>: <em>Now seems like a good time for the next minor release</em> by <strong><a href=\"https://github.com/telamonian\">@telamonian</a></strong></li>\n<li><a href=\"https://github.com/jupyterlab/jupyterlab-git/issues/454\">(#454)</a>: <em>The git sidepanel does not refresh on file changes/autorefresh interval too long</em> by <strong><a href=\"https://github.com/telamonian\">@telamonian</a></strong></li>\n</ul>\n<h5><a href=\"https://github.com/jupyterlab/jupyterlab-github\">jupyterlab/jupyterlab-github</a></h5>\n<ul>\n<li><a href=\"https://github.com/jupyterlab/jupyterlab-github/issues/95\">(#95)</a>: <em>JupyterLab failed to build Error: Cannot find module './_baseValues'</em> by <strong><a href=\"https://github.com/cardenalion\">@cardenalion</a></strong></li>\n</ul>\n<h5><a href=\"https://github.com/jupyterlab/jupyterlab-hdf5\">jupyterlab/jupyterlab-hdf5</a></h5>\n<ul>\n<li><a href=\"https://github.com/jupyterlab/jupyterlab-hdf5/issues/22\">(#22)</a>: <em>Produce valid JSON in the presence of NaN or INF values</em> by <strong><a href=\"https://github.com/JonjonHays\">@JonjonHays</a></strong></li>\n<li><a href=\"https://github.com/jupyterlab/jupyterlab-hdf5/issues/21\">(#21)</a>: <em>File not found for correct path</em> by <strong><a href=\"https://github.com/michaelaye\">@michaelaye</a></strong></li>\n</ul>\n<h5><a href=\"https://github.com/jupyterlab/jupyterlab-latex\">jupyterlab/jupyterlab-latex</a></h5>\n<ul>\n<li><a href=\"https://github.com/jupyterlab/jupyterlab-latex/issues/120\">(#120)</a>: <em>shell-escape in documentation</em> by <strong><a href=\"https://github.com/b-trav\">@b-trav</a></strong></li>\n<li><a href=\"https://github.com/jupyterlab/jupyterlab-latex/issues/124\">(#124)</a>: <em>Automatically deleting files?</em> by <strong><a href=\"https://github.com/davidlow\">@davidlow</a></strong></li>\n<li><a href=\"https://github.com/jupyterlab/jupyterlab-latex/issues/122\">(#122)</a>: <em>The equation numbers do not appear in the PDF preview</em> by <strong><a href=\"https://github.com/makoto-yamashita\">@makoto-yamashita</a></strong></li>\n<li><a href=\"https://github.com/jupyterlab/jupyterlab-latex/issues/108\">(#108)</a>: _Installed jupyterlab_latex. right click offers preview, but get \"Server Extension Error\" _ by <strong><a href=\"https://github.com/tomPorter\">@tomPorter</a></strong></li>\n</ul>\n<h5><a href=\"https://github.com/jupyterlab/jupyterlab-media\">jupyterlab/jupyterlab-media</a></h5>\n<ul>\n<li><a href=\"https://github.com/jupyterlab/jupyterlab-media/issues/7\">(#7)</a>: <em>JupyterLab Video Tutorials</em> by <strong><a href=\"https://github.com/van-8\">@van-8</a></strong></li>\n</ul>\n<h5><a href=\"https://github.com/jupyterlab/jupyterlab-metadata-service\">jupyterlab/jupyterlab-metadata-service</a></h5>\n<ul>\n<li><a href=\"https://github.com/jupyterlab/jupyterlab-metadata-service/issues/54\">(#54)</a>: <em>NYU Handoff</em> by <strong><a href=\"https://github.com/saulshanabrook\">@saulshanabrook</a></strong></li>\n</ul>\n<h5><a href=\"https://github.com/jupyterlab/jupyterlab-monaco\">jupyterlab/jupyterlab-monaco</a></h5>\n<ul>\n<li><a href=\"https://github.com/jupyterlab/jupyterlab-monaco/issues/27\">(#27)</a>: <em>How to install on jupyterlab version &gt; 1.0.0 ?</em> by <strong><a href=\"https://github.com/zhanzy178\">@zhanzy178</a></strong></li>\n</ul>\n<h5><a href=\"https://github.com/jupyterlab/jupyterlab-toc\">jupyterlab/jupyterlab-toc</a></h5>\n<ul>\n<li><a href=\"https://github.com/jupyterlab/jupyterlab-toc/issues/54\">(#54)</a>: <em>Additional markdown headings in cell are ignored</em> by <strong><a href=\"https://github.com/kenjioman\">@kenjioman</a></strong></li>\n<li><a href=\"https://github.com/jupyterlab/jupyterlab-toc/issues/24\">(#24)</a>: <em>Ignore some generated headers in output cells, or collapse TOC entries</em> by <strong><a href=\"https://github.com/kenjioman\">@kenjioman</a></strong></li>\n<li><a href=\"https://github.com/jupyterlab/jupyterlab-toc/issues/109\">(#109)</a>: <em>TOC Collapsing NB cells</em> by <strong><a href=\"https://github.com/TRM13\">@TRM13</a></strong></li>\n<li><a href=\"https://github.com/jupyterlab/jupyterlab-toc/issues/84\">(#84)</a>: <em>Insert TOC cell in notebook</em> by <strong><a href=\"https://github.com/PierreGuilmin\">@PierreGuilmin</a></strong></li>\n<li><a href=\"https://github.com/jupyterlab/jupyterlab-toc/issues/66\">(#66)</a>: <em>Skip H1 headers</em> by <strong><a href=\"https://github.com/romainmartinez\">@romainmartinez</a></strong></li>\n</ul>\n<h5><a href=\"https://github.com/jupyterlab/jupyterlab_server\">jupyterlab/jupyterlab_server</a></h5>\n<h5><a href=\"https://github.com/jupyterlab/lumino\">jupyterlab/lumino</a></h5>\n<ul>\n<li><a href=\"https://github.com/jupyterlab/lumino/issues/3\">(#3)</a>: <em>Add Documentation</em> by <strong><a href=\"https://github.com/blink1073\">@blink1073</a></strong></li>\n</ul>\n<h5><a href=\"https://github.com/jupyterlab/team-compass\">jupyterlab/team-compass</a></h5>\n<ul>\n<li><a href=\"https://github.com/jupyterlab/team-compass/issues/28\">(#28)</a>: <em>Absorb the Phosphor Project</em> by <strong><a href=\"https://github.com/blink1073\">@blink1073</a></strong></li>\n<li><a href=\"https://github.com/jupyterlab/team-compass/issues/19\">(#19)</a>: <em>in-person dev meeting</em> by <strong><a href=\"https://github.com/jasongrout\">@jasongrout</a></strong></li>\n</ul>"
      }
     },
     "27aff13c175f48798bb5e282ba3fa4ac": {
      "model_module": "@jupyter-widgets/controls",
      "model_module_version": "1.5.0",
      "model_name": "DescriptionStyleModel",
      "state": {
       "_model_module": "@jupyter-widgets/controls",
       "_model_module_version": "1.5.0",
       "_model_name": "DescriptionStyleModel",
       "_view_count": null,
       "_view_module": "@jupyter-widgets/base",
       "_view_module_version": "1.2.0",
       "_view_name": "StyleView",
       "description_width": ""
      }
     },
     "2a921ee8102a42dfb9507b49f8075b6c": {
      "model_module": "@jupyter-widgets/base",
      "model_module_version": "1.2.0",
      "model_name": "LayoutModel",
      "state": {
       "_model_module": "@jupyter-widgets/base",
       "_model_module_version": "1.2.0",
       "_model_name": "LayoutModel",
       "_view_count": null,
       "_view_module": "@jupyter-widgets/base",
       "_view_module_version": "1.2.0",
       "_view_name": "LayoutView",
       "align_content": null,
       "align_items": null,
       "align_self": null,
       "border": null,
       "bottom": null,
       "display": null,
       "flex": null,
       "flex_flow": null,
       "grid_area": null,
       "grid_auto_columns": null,
       "grid_auto_flow": null,
       "grid_auto_rows": null,
       "grid_column": null,
       "grid_gap": null,
       "grid_row": null,
       "grid_template_areas": null,
       "grid_template_columns": null,
       "grid_template_rows": null,
       "height": null,
       "justify_content": null,
       "justify_items": null,
       "left": null,
       "margin": null,
       "max_height": null,
       "max_width": null,
       "min_height": null,
       "min_width": null,
       "object_fit": null,
       "object_position": null,
       "order": null,
       "overflow": null,
       "overflow_x": null,
       "overflow_y": null,
       "padding": null,
       "right": null,
       "top": null,
       "visibility": null,
       "width": null
      }
     },
     "2e94643b32fc4127af4b54ea386fc243": {
      "model_module": "@jupyter-widgets/base",
      "model_module_version": "1.2.0",
      "model_name": "LayoutModel",
      "state": {
       "_model_module": "@jupyter-widgets/base",
       "_model_module_version": "1.2.0",
       "_model_name": "LayoutModel",
       "_view_count": null,
       "_view_module": "@jupyter-widgets/base",
       "_view_module_version": "1.2.0",
       "_view_name": "LayoutView",
       "align_content": null,
       "align_items": null,
       "align_self": null,
       "border": null,
       "bottom": null,
       "display": null,
       "flex": null,
       "flex_flow": null,
       "grid_area": null,
       "grid_auto_columns": null,
       "grid_auto_flow": null,
       "grid_auto_rows": null,
       "grid_column": null,
       "grid_gap": null,
       "grid_row": null,
       "grid_template_areas": null,
       "grid_template_columns": null,
       "grid_template_rows": null,
       "height": null,
       "justify_content": null,
       "justify_items": null,
       "left": null,
       "margin": null,
       "max_height": null,
       "max_width": null,
       "min_height": null,
       "min_width": null,
       "object_fit": null,
       "object_position": null,
       "order": null,
       "overflow": null,
       "overflow_x": null,
       "overflow_y": null,
       "padding": null,
       "right": null,
       "top": null,
       "visibility": null,
       "width": null
      }
     },
     "2f1ef82537814dffb4cabb6539b8fa90": {
      "model_module": "@jupyter-widgets/controls",
      "model_module_version": "1.5.0",
      "model_name": "HTMLModel",
      "state": {
       "_dom_classes": [],
       "_model_module": "@jupyter-widgets/controls",
       "_model_module_version": "1.5.0",
       "_model_name": "HTMLModel",
       "_view_count": null,
       "_view_module": "@jupyter-widgets/controls",
       "_view_module_version": "1.5.0",
       "_view_name": "HTMLView",
       "description": "",
       "description_tooltip": null,
       "layout": "IPY_MODEL_e43bf5fabec840e3ba88b5a89a793c45",
       "placeholder": "​",
       "style": "IPY_MODEL_a7ad87fe0b194e7088b5b261f5e08119",
       "value": "<h4>jupyterhub</h4>\n<h5><a href=\"https://github.com/jupyterhub/batchspawner\">jupyterhub/batchspawner</a></h5>\n<ul>\n<li><a href=\"https://github.com/jupyterhub/batchspawner/issues/103\">(#103)</a>: <em>Time for a new Batchspawner release</em> by <strong><a href=\"https://github.com/mbmilligan\">@mbmilligan</a></strong></li>\n<li><a href=\"https://github.com/jupyterhub/batchspawner/issues/168\">(#168)</a>: <em>Spawn fails in conjunction with named servers</em> by <strong><a href=\"https://github.com/Hoeze\">@Hoeze</a></strong></li>\n</ul>\n<h5><a href=\"https://github.com/jupyterhub/binder\">jupyterhub/binder</a></h5>\n<ul>\n<li><a href=\"https://github.com/jupyterhub/binder/issues/175\">(#175)</a>: _Wishlist: Parametrize notebook _ by <strong><a href=\"https://github.com/yarikoptic\">@yarikoptic</a></strong></li>\n</ul>\n<h5><a href=\"https://github.com/jupyterhub/binderhub\">jupyterhub/binderhub</a></h5>\n<ul>\n<li><a href=\"https://github.com/jupyterhub/binderhub/issues/1003\">(#1003)</a>: <em>The need for persistence</em> by <strong><a href=\"https://github.com/betatim\">@betatim</a></strong></li>\n<li><a href=\"https://github.com/jupyterhub/binderhub/issues/1011\">(#1011)</a>: <em>K8s 1.16 deprecates extensions/v1beta1 for apiVersion, breaking the Helm charts</em> by <strong><a href=\"https://github.com/muru\">@muru</a></strong></li>\n<li><a href=\"https://github.com/jupyterhub/binderhub/issues/1007\">(#1007)</a>: <em>Browser backed storage of notebook contents</em> by <strong><a href=\"https://github.com/betatim\">@betatim</a></strong></li>\n</ul>\n<h5><a href=\"https://github.com/jupyterhub/chartpress\">jupyterhub/chartpress</a></h5>\n<ul>\n<li><a href=\"https://github.com/jupyterhub/chartpress/issues/71\">(#71)</a>: <em>backwards-incompatible changes to image tags</em> by <strong><a href=\"https://github.com/rokroskar\">@rokroskar</a></strong></li>\n</ul>\n<h5><a href=\"https://github.com/jupyterhub/configurable-http-proxy\">jupyterhub/configurable-http-proxy</a></h5>\n<ul>\n<li><a href=\"https://github.com/jupyterhub/configurable-http-proxy/issues/219\">(#219)</a>: <em>Making a release</em> by <strong><a href=\"https://github.com/consideRatio\">@consideRatio</a></strong></li>\n</ul>\n<h5><a href=\"https://github.com/jupyterhub/dockerspawner\">jupyterhub/dockerspawner</a></h5>\n<ul>\n<li><a href=\"https://github.com/jupyterhub/dockerspawner/issues/344\">(#344)</a>: <em>How do I pass docker run args to spawned container</em> by <strong><a href=\"https://github.com/vincenzon\">@vincenzon</a></strong></li>\n<li><a href=\"https://github.com/jupyterhub/dockerspawner/issues/343\">(#343)</a>: <em>Service not found error preventing spawn</em> by <strong><a href=\"https://github.com/hdlbq\">@hdlbq</a></strong></li>\n<li><a href=\"https://github.com/jupyterhub/dockerspawner/issues/251\">(#251)</a>: <em>Notebook has jupyterhub version 0.8.1, but the Hub expects 1.0.0.dev. Try installing jupyterhub==1.0.0.dev in the user environment</em> by <strong><a href=\"https://github.com/yfc845\">@yfc845</a></strong></li>\n<li><a href=\"https://github.com/jupyterhub/dockerspawner/issues/348\">(#348)</a>: <em>sudo: jupyterhub-singleuser: command not found</em> by <strong><a href=\"https://github.com/zoltan-fedor\">@zoltan-fedor</a></strong></li>\n</ul>\n<h5><a href=\"https://github.com/jupyterhub/helm-chart\">jupyterhub/helm-chart</a></h5>\n<ul>\n<li><a href=\"https://github.com/jupyterhub/helm-chart/issues/101\">(#101)</a>: <em>Let info.json provide release/pre-release/build properly</em> by <strong><a href=\"https://github.com/consideRatio\">@consideRatio</a></strong></li>\n</ul>\n<h5><a href=\"https://github.com/jupyterhub/jupyter-server-proxy\">jupyterhub/jupyter-server-proxy</a></h5>\n<ul>\n<li><a href=\"https://github.com/jupyterhub/jupyter-server-proxy/issues/158\">(#158)</a>: <em>Fork the lab extension under JupyterLab?</em> by <strong><a href=\"https://github.com/blink1073\">@blink1073</a></strong></li>\n<li><a href=\"https://github.com/jupyterhub/jupyter-server-proxy/issues/139\">(#139)</a>: <em>Release for Jupyterlab 1.0</em> by <strong><a href=\"https://github.com/xhochy\">@xhochy</a></strong></li>\n<li><a href=\"https://github.com/jupyterhub/jupyter-server-proxy/issues/162\">(#162)</a>: <em>icon_url should be replaced with icon_path in the cookiecutter template</em> by <strong><a href=\"https://github.com/ka-zo\">@ka-zo</a></strong></li>\n<li><a href=\"https://github.com/jupyterhub/jupyter-server-proxy/issues/153\">(#153)</a>: <em>Unable to install on Jupyterlab 1.0.2</em> by <strong><a href=\"https://github.com/cristinaserrano\">@cristinaserrano</a></strong></li>\n</ul>\n<h5><a href=\"https://github.com/jupyterhub/jupyterhub\">jupyterhub/jupyterhub</a></h5>\n<ul>\n<li><a href=\"https://github.com/jupyterhub/jupyterhub/issues/2806\">(#2806)</a>: <em>Unable to helm upgrade Jupyterhub in AWS/EKS kubernetes cluster [MatchNodeSelector]</em> by <strong><a href=\"https://github.com/olajir\">@olajir</a></strong></li>\n<li><a href=\"https://github.com/jupyterhub/jupyterhub/issues/394\">(#394)</a>: <em>Is there a way to share notebooks via JupyterHub?</em> by <strong><a href=\"https://github.com/zer0n\">@zer0n</a></strong></li>\n</ul>\n<h5><a href=\"https://github.com/jupyterhub/kubespawner\">jupyterhub/kubespawner</a></h5>\n<h5><a href=\"https://github.com/jupyterhub/ldapauthenticator\">jupyterhub/ldapauthenticator</a></h5>\n<ul>\n<li><a href=\"https://github.com/jupyterhub/ldapauthenticator/issues/146\">(#146)</a>: <em>Active Directory requires \"optional\" bind_dn_template</em> by <strong><a href=\"https://github.com/irasnyd\">@irasnyd</a></strong></li>\n</ul>\n<h5><a href=\"https://github.com/jupyterhub/mybinder.org-deploy\">jupyterhub/mybinder.org-deploy</a></h5>\n<ul>\n<li><a href=\"https://github.com/jupyterhub/mybinder.org-deploy/issues/1154\">(#1154)</a>: <em>Turing joining the Binder Federation: Part 2!</em> by <strong><a href=\"https://github.com/sgibson91\">@sgibson91</a></strong></li>\n<li><a href=\"https://github.com/jupyterhub/mybinder.org-deploy/issues/1148\">(#1148)</a>: <em>Migrate mybinder.org from kube-lego to cert-manager for LetsEncrypt</em> by <strong><a href=\"https://github.com/sgibson91\">@sgibson91</a></strong></li>\n</ul>\n<h5><a href=\"https://github.com/jupyterhub/nbgitpuller\">jupyterhub/nbgitpuller</a></h5>\n<ul>\n<li><a href=\"https://github.com/jupyterhub/nbgitpuller/issues/106\">(#106)</a>: <em>deleting file does not bring a fresh copy</em> by <strong><a href=\"https://github.com/mirestrepo\">@mirestrepo</a></strong></li>\n<li><a href=\"https://github.com/jupyterhub/nbgitpuller/issues/110\">(#110)</a>: <em>pull multiple github repositories</em> by <strong><a href=\"https://github.com/cometta\">@cometta</a></strong></li>\n</ul>\n<h5><a href=\"https://github.com/jupyterhub/oauthenticator\">jupyterhub/oauthenticator</a></h5>\n<ul>\n<li><a href=\"https://github.com/jupyterhub/oauthenticator/issues/314\">(#314)</a>: <em>Environment Variable from get_auth_state() not passed into user environment on Spawning</em> by <strong><a href=\"https://github.com/eosantigen\">@eosantigen</a></strong></li>\n<li><a href=\"https://github.com/jupyterhub/oauthenticator/issues/299\">(#299)</a>: <em>Make a release</em> by <strong><a href=\"https://github.com/consideRatio\">@consideRatio</a></strong></li>\n<li><a href=\"https://github.com/jupyterhub/oauthenticator/issues/309\">(#309)</a>: <em>Missing tests for Azure AD B2C</em> by <strong><a href=\"https://github.com/consideRatio\">@consideRatio</a></strong></li>\n</ul>\n<h5><a href=\"https://github.com/jupyterhub/systemdspawner\">jupyterhub/systemdspawner</a></h5>\n<ul>\n<li><a href=\"https://github.com/jupyterhub/systemdspawner/issues/57\">(#57)</a>: <em>Spawner failed to start</em> by <strong><a href=\"https://github.com/w0lfvn\">@w0lfvn</a></strong></li>\n</ul>\n<h5><a href=\"https://github.com/jupyterhub/team-compass\">jupyterhub/team-compass</a></h5>\n<ul>\n<li><a href=\"https://github.com/jupyterhub/team-compass/issues/227\">(#227)</a>: <em>Use review assignments for BinderHub team?</em> by <strong><a href=\"https://github.com/betatim\">@betatim</a></strong></li>\n<li><a href=\"https://github.com/jupyterhub/team-compass/issues/213\">(#213)</a>: <em>Systematization of CD in our repos</em> by <strong><a href=\"https://github.com/consideRatio\">@consideRatio</a></strong></li>\n<li><a href=\"https://github.com/jupyterhub/team-compass/issues/228\">(#228)</a>: <em>Releasing Z2JH</em> by <strong><a href=\"https://github.com/consideRatio\">@consideRatio</a></strong></li>\n<li><a href=\"https://github.com/jupyterhub/team-compass/issues/209\">(#209)</a>: <em>@sgibson91 unavailability</em> by <strong><a href=\"https://github.com/sgibson91\">@sgibson91</a></strong></li>\n</ul>\n<h5><a href=\"https://github.com/jupyterhub/the-littlest-jupyterhub\">jupyterhub/the-littlest-jupyterhub</a></h5>\n<ul>\n<li><a href=\"https://github.com/jupyterhub/the-littlest-jupyterhub/issues/279\">(#279)</a>: <em>Document setting up and running Julia + Julia Kernel</em> by <strong><a href=\"https://github.com/stegua\">@stegua</a></strong></li>\n<li><a href=\"https://github.com/jupyterhub/the-littlest-jupyterhub/issues/462\">(#462)</a>: <em>Unable to enable HTTPS</em> by <strong><a href=\"https://github.com/deeduda\">@deeduda</a></strong></li>\n<li><a href=\"https://github.com/jupyterhub/the-littlest-jupyterhub/issues/306\">(#306)</a>: <em>FirstUseAuthenticator not prompting to create password for new user</em> by <strong><a href=\"https://github.com/Dr-Juice\">@Dr-Juice</a></strong></li>\n</ul>\n<h5><a href=\"https://github.com/jupyterhub/yarnspawner\">jupyterhub/yarnspawner</a></h5>\n<ul>\n<li><a href=\"https://github.com/jupyterhub/yarnspawner/issues/15\">(#15)</a>: <em>How to limit resources?</em> by <strong><a href=\"https://github.com/leinad87\">@leinad87</a></strong></li>\n</ul>\n<h5><a href=\"https://github.com/jupyterhub/zero-to-jupyterhub-k8s\">jupyterhub/zero-to-jupyterhub-k8s</a></h5>\n<ul>\n<li><a href=\"https://github.com/jupyterhub/zero-to-jupyterhub-k8s/issues/1491\">(#1491)</a>: <em>Deploying on a cluster with strict PodSecurityPolicies</em> by <strong><a href=\"https://github.com/ltupin\">@ltupin</a></strong></li>\n<li><a href=\"https://github.com/jupyterhub/zero-to-jupyterhub-k8s/issues/1477\">(#1477)</a>: <em>proxy-public never gets an external-ip</em> by <strong><a href=\"https://github.com/kumarasenthil\">@kumarasenthil</a></strong></li>\n<li><a href=\"https://github.com/jupyterhub/zero-to-jupyterhub-k8s/issues/1323\">(#1323)</a>: <em>Documentation for kubespawner override in profile list</em> by <strong><a href=\"https://github.com/sampathkethineedi\">@sampathkethineedi</a></strong></li>\n<li><a href=\"https://github.com/jupyterhub/zero-to-jupyterhub-k8s/issues/1500\">(#1500)</a>: <em>404 error on redirect to singleuser notebook</em> by <strong><a href=\"https://github.com/rafalrojek\">@rafalrojek</a></strong></li>\n</ul>"
      }
     },
     "3099e95db42a45da9138d4ea92a04a07": {
      "model_module": "@jupyter-widgets/controls",
      "model_module_version": "1.5.0",
      "model_name": "HTMLModel",
      "state": {
       "_dom_classes": [],
       "_model_module": "@jupyter-widgets/controls",
       "_model_module_version": "1.5.0",
       "_model_name": "HTMLModel",
       "_view_count": null,
       "_view_module": "@jupyter-widgets/controls",
       "_view_module_version": "1.5.0",
       "_view_name": "HTMLView",
       "description": "",
       "description_tooltip": null,
       "layout": "IPY_MODEL_d9e0f8f56e654782977a1bd7990e1df7",
       "placeholder": "​",
       "style": "IPY_MODEL_7f6ae18d61b647858bce44be187d2181",
       "value": "<h4>jupyter</h4>\n<h5><a href=\"https://github.com/jupyter/accessibility\">jupyter/accessibility</a></h5>\n<ul>\n<li><a href=\"https://github.com/jupyter/accessibility/issues/11\">(#11)</a>: <em>Let's propose a Jupyter Community Workshop on accessibility</em> by <strong><a href=\"https://github.com/ellisonbg\">@ellisonbg</a></strong></li>\n</ul>\n<h5><a href=\"https://github.com/jupyter/atom-notebook\">jupyter/atom-notebook</a></h5>\n<ul>\n<li><a href=\"https://github.com/jupyter/atom-notebook/issues/91\">(#91)</a>: <em>Unable to install jupyter-notebook package in Atom in MacOS Catalina</em> by <strong><a href=\"https://github.com/sreenivasanac\">@sreenivasanac</a></strong></li>\n<li><a href=\"https://github.com/jupyter/atom-notebook/issues/85\">(#85)</a>: <em>Installing “jupyter-notebook@0.0.10” failed - (windows 10) Atom 1.32.2</em> by <strong><a href=\"https://github.com/FoFo-FoSho\">@FoFo-FoSho</a></strong></li>\n</ul>\n<h5><a href=\"https://github.com/jupyter/debugger\">jupyter/debugger</a></h5>\n<ul>\n<li><a href=\"https://github.com/jupyter/debugger/issues/11\">(#11)</a>: <em>Archiving this repository</em> by <strong><a href=\"https://github.com/SylvainCorlay\">@SylvainCorlay</a></strong></li>\n</ul>\n<h5><a href=\"https://github.com/jupyter/docker-stacks\">jupyter/docker-stacks</a></h5>\n<ul>\n<li><a href=\"https://github.com/jupyter/docker-stacks/issues/963\">(#963)</a>: <em>Kernel Error with latest images on Win10 Docker for windows</em> by <strong><a href=\"https://github.com/MikaelUmaN\">@MikaelUmaN</a></strong></li>\n<li><a href=\"https://github.com/jupyter/docker-stacks/issues/962\">(#962)</a>: <em>Cant pull image (pyspark)</em> by <strong><a href=\"https://github.com/skw1990\">@skw1990</a></strong></li>\n<li><a href=\"https://github.com/jupyter/docker-stacks/issues/949\">(#949)</a>: <em>What is the password for using \"sudo apt-get install\" command?</em> by <strong><a href=\"https://github.com/blatoo\">@blatoo</a></strong></li>\n<li><a href=\"https://github.com/jupyter/docker-stacks/issues/948\">(#948)</a>: <em>Update to tensorflow 2.0</em> by <strong><a href=\"https://github.com/edurenye\">@edurenye</a></strong></li>\n</ul>\n<h5><a href=\"https://github.com/jupyter/enterprise_gateway\">jupyter/enterprise_gateway</a></h5>\n<ul>\n<li><a href=\"https://github.com/jupyter/enterprise_gateway/issues/749\">(#749)</a>: _/dev/shm shared memory expansion _ by <strong><a href=\"https://github.com/JorisJamers\">@JorisJamers</a></strong></li>\n<li><a href=\"https://github.com/jupyter/enterprise_gateway/issues/747\">(#747)</a>: <em>Adding custom kernel to EG</em> by <strong><a href=\"https://github.com/lucabem\">@lucabem</a></strong></li>\n<li><a href=\"https://github.com/jupyter/enterprise_gateway/issues/661\">(#661)</a>: <em>Users and security</em> by <strong><a href=\"https://github.com/michzimny\">@michzimny</a></strong></li>\n<li><a href=\"https://github.com/jupyter/enterprise_gateway/issues/756\">(#756)</a>: <em>Restart of the kernel does not reconnects stdin channel</em> by <strong><a href=\"https://github.com/dchirikov\">@dchirikov</a></strong></li>\n<li><a href=\"https://github.com/jupyter/enterprise_gateway/issues/491\">(#491)</a>: <em>Support running gateway with keytab</em> by <strong><a href=\"https://github.com/jcrist\">@jcrist</a></strong></li>\n</ul>\n<h5><a href=\"https://github.com/jupyter/governance\">jupyter/governance</a></h5>\n<ul>\n<li><a href=\"https://github.com/jupyter/governance/issues/71\">(#71)</a>: <em>Add some guidelines about abtaining vote in case of absence</em> by <strong><a href=\"https://github.com/damianavila\">@damianavila</a></strong></li>\n<li><a href=\"https://github.com/jupyter/governance/issues/73\">(#73)</a>: <em>Add a donate button to GitHub repositories</em> by <strong><a href=\"https://github.com/choldgraf\">@choldgraf</a></strong></li>\n</ul>\n<h5><a href=\"https://github.com/jupyter/jupyter\">jupyter/jupyter</a></h5>\n<ul>\n<li><a href=\"https://github.com/jupyter/jupyter/issues/83\">(#83)</a>: <em>Output do not update after close and reopen the notebook page</em> by <strong><a href=\"https://github.com/oeway\">@oeway</a></strong></li>\n<li><a href=\"https://github.com/jupyter/jupyter/issues/430\">(#430)</a>: <em>Translating Official Documentation to Spanish</em> by <strong><a href=\"https://github.com/camporeale\">@camporeale</a></strong></li>\n<li><a href=\"https://github.com/jupyter/jupyter/issues/480\">(#480)</a>: <em>Cant Install jupyter</em> by <strong><a href=\"https://github.com/AdamISRx\">@AdamISRx</a></strong></li>\n<li><a href=\"https://github.com/jupyter/jupyter/issues/433\">(#433)</a>: _Apache Toree - PySpark  error _ by <strong><a href=\"https://github.com/sunnykevin19\">@sunnykevin19</a></strong></li>\n<li><a href=\"https://github.com/jupyter/jupyter/issues/270\">(#270)</a>: <em>Jupyter running wrong python kernel</em> by <strong><a href=\"https://github.com/Daniel-M\">@Daniel-M</a></strong></li>\n</ul>\n<h5><a href=\"https://github.com/jupyter/jupyter-book\">jupyter/jupyter-book</a></h5>\n<ul>\n<li><a href=\"https://github.com/jupyter/jupyter-book/issues/438\">(#438)</a>: <em>Option for excluding table of contents on a page?</em> by <strong><a href=\"https://github.com/melaniewalsh\">@melaniewalsh</a></strong></li>\n<li><a href=\"https://github.com/jupyter/jupyter-book/issues/431\">(#431)</a>: <em>latex_envs notebook extension?</em> by <strong><a href=\"https://github.com/leotrs\">@leotrs</a></strong></li>\n<li><a href=\"https://github.com/jupyter/jupyter-book/issues/427\">(#427)</a>: <em>Creating interactive cells...</em> by <strong><a href=\"https://github.com/eturvey\">@eturvey</a></strong></li>\n<li><a href=\"https://github.com/jupyter/jupyter-book/issues/440\">(#440)</a>: <em>Build Failing with Error: FileNotFoundError: [Errno 2] No such file or directory</em> by <strong><a href=\"https://github.com/drbeane\">@drbeane</a></strong></li>\n<li><a href=\"https://github.com/jupyter/jupyter-book/issues/428\">(#428)</a>: <em>jupyter-book upgrade overwrites customizations</em> by <strong><a href=\"https://github.com/joergbrech\">@joergbrech</a></strong></li>\n</ul>\n<h5><a href=\"https://github.com/jupyter/jupyter-drive\">jupyter/jupyter-drive</a></h5>\n<ul>\n<li><a href=\"https://github.com/jupyter/jupyter-drive/issues/148\">(#148)</a>: <em>This app has not been verified yet by Google in order to use Google Sign In.</em> by <strong><a href=\"https://github.com/davidh99720\">@davidh99720</a></strong></li>\n</ul>\n<h5><a href=\"https://github.com/jupyter/jupyter-sphinx\">jupyter/jupyter-sphinx</a></h5>\n<ul>\n<li><a href=\"https://github.com/jupyter/jupyter-sphinx/issues/91\">(#91)</a>: <em>Odd line spacing before/after jupyter-execute blocks with sphinx_rtd_theme</em> by <strong><a href=\"https://github.com/Rockgecko\">@Rockgecko</a></strong></li>\n<li><a href=\"https://github.com/jupyter/jupyter-sphinx/issues/90\">(#90)</a>: <em>Dollar signs when displaying sympy objects</em> by <strong><a href=\"https://github.com/jbweston\">@jbweston</a></strong></li>\n</ul>\n<h5><a href=\"https://github.com/jupyter/jupyter_client\">jupyter/jupyter_client</a></h5>\n<ul>\n<li><a href=\"https://github.com/jupyter/jupyter_client/issues/497\">(#497)</a>: <em>Can't run kernel/client when <code>sys.stdout</code> is closed.</em> by <strong><a href=\"https://github.com/jhidding\">@jhidding</a></strong></li>\n</ul>\n<h5><a href=\"https://github.com/jupyter/jupyter_console\">jupyter/jupyter_console</a></h5>\n<ul>\n<li><a href=\"https://github.com/jupyter/jupyter_console/issues/189\">(#189)</a>: <em>jupyter exit after close terminal</em> by <strong><a href=\"https://github.com/ManPython\">@ManPython</a></strong></li>\n</ul>\n<h5><a href=\"https://github.com/jupyter/jupyter_core\">jupyter/jupyter_core</a></h5>\n<ul>\n<li><a href=\"https://github.com/jupyter/jupyter_core/issues/160\">(#160)</a>: <em>Feature request: jupyter command searches in Python's \"scripts\" directory for subcommands</em> by <strong><a href=\"https://github.com/pfmoore\">@pfmoore</a></strong></li>\n</ul>\n<h5><a href=\"https://github.com/jupyter/jupyter_server\">jupyter/jupyter_server</a></h5>\n<ul>\n<li><a href=\"https://github.com/jupyter/jupyter_server/issues/126\">(#126)</a>: <em>Jupyter Server Meeting Minutes</em> by <strong><a href=\"https://github.com/Zsailer\">@Zsailer</a></strong></li>\n<li><a href=\"https://github.com/jupyter/jupyter_server/issues/111\">(#111)</a>: <em>Jupyter Server weekly meetings</em> by <strong><a href=\"https://github.com/Zsailer\">@Zsailer</a></strong></li>\n</ul>\n<h5><a href=\"https://github.com/jupyter/kernel_gateway\">jupyter/kernel_gateway</a></h5>\n<ul>\n<li><a href=\"https://github.com/jupyter/kernel_gateway/issues/328\">(#328)</a>: <em>Timeout after 120 seconds in long job</em> by <strong><a href=\"https://github.com/argenisleon\">@argenisleon</a></strong></li>\n</ul>\n<h5><a href=\"https://github.com/jupyter/nbconvert\">jupyter/nbconvert</a></h5>\n<ul>\n<li><a href=\"https://github.com/jupyter/nbconvert/issues/1045\">(#1045)</a>: <em>NBConvert 6.0 Planning</em> by <strong><a href=\"https://github.com/MSeal\">@MSeal</a></strong></li>\n<li><a href=\"https://github.com/jupyter/nbconvert/issues/1139\">(#1139)</a>: <em>Per NB nbconvert configuration in metadata?</em> by <strong><a href=\"https://github.com/cholmcc\">@cholmcc</a></strong></li>\n<li><a href=\"https://github.com/jupyter/nbconvert/issues/552\">(#552)</a>: <em>Pdf doesn't include images</em> by <strong><a href=\"https://github.com/xNok\">@xNok</a></strong></li>\n<li><a href=\"https://github.com/jupyter/nbconvert/issues/1137\">(#1137)</a>: <em>Remove Python 2 compatibility code</em> by <strong><a href=\"https://github.com/takluyver\">@takluyver</a></strong></li>\n</ul>\n<h5><a href=\"https://github.com/jupyter/nbdime\">jupyter/nbdime</a></h5>\n<ul>\n<li><a href=\"https://github.com/jupyter/nbdime/issues/505\">(#505)</a>: <em>Mergetool doesn't load: \"cannot have null base deleted cell\"</em> by <strong><a href=\"https://github.com/whateverforever\">@whateverforever</a></strong></li>\n<li><a href=\"https://github.com/jupyter/nbdime/issues/478\">(#478)</a>: <em>use nbdime as a clever git filter</em> by <strong><a href=\"https://github.com/qmarcou\">@qmarcou</a></strong></li>\n<li><a href=\"https://github.com/jupyter/nbdime/issues/410\">(#410)</a>: <em>how to use nbdime to only commit code cell changes?</em> by <strong><a href=\"https://github.com/stas00\">@stas00</a></strong></li>\n</ul>\n<h5><a href=\"https://github.com/jupyter/nbformat\">jupyter/nbformat</a></h5>\n<ul>\n<li><a href=\"https://github.com/jupyter/nbformat/issues/148\">(#148)</a>: <em>Add unique ID to the notebook metadata</em> by <strong><a href=\"https://github.com/betatim\">@betatim</a></strong></li>\n</ul>\n<h5><a href=\"https://github.com/jupyter/nbgrader\">jupyter/nbgrader</a></h5>\n<ul>\n<li><a href=\"https://github.com/jupyter/nbgrader/issues/1231\">(#1231)</a>: <em>Formgrader says to run the autograde command from the wrong folder</em> by <strong><a href=\"https://github.com/fredcallaway\">@fredcallaway</a></strong></li>\n<li><a href=\"https://github.com/jupyter/nbgrader/issues/1246\">(#1246)</a>: <em>nbgrader generating SQL errors around the use of the <code>sum</code> statement</em> by <strong><a href=\"https://github.com/Wildcarde\">@Wildcarde</a></strong></li>\n<li><a href=\"https://github.com/jupyter/nbgrader/issues/659\">(#659)</a>: <em>Create a JupyterHub \"exchange\" service to replace the exchange directory</em> by <strong><a href=\"https://github.com/jhamrick\">@jhamrick</a></strong></li>\n<li><a href=\"https://github.com/jupyter/nbgrader/issues/1083\">(#1083)</a>: <em>Duplicating cells results in autograding failure because of duplicate IDs, and confusing error message</em> by <strong><a href=\"https://github.com/rkdarst\">@rkdarst</a></strong></li>\n</ul>\n<h5><a href=\"https://github.com/jupyter/nbviewer\">jupyter/nbviewer</a></h5>\n<ul>\n<li><a href=\"https://github.com/jupyter/nbviewer/issues/724\">(#724)</a>: <em>nbviewer only shows first display_data element in output</em> by <strong><a href=\"https://github.com/wstomv\">@wstomv</a></strong></li>\n<li><a href=\"https://github.com/jupyter/nbviewer/issues/863\">(#863)</a>: <em>Repo and user links do not work with GHE</em> by <strong><a href=\"https://github.com/ivan-gomes\">@ivan-gomes</a></strong></li>\n</ul>\n<h5><a href=\"https://github.com/jupyter/notebook\">jupyter/notebook</a></h5>\n<ul>\n<li><a href=\"https://github.com/jupyter/notebook/issues/1175\">(#1175)</a>: <em>Cell dependency graph</em> by <strong><a href=\"https://github.com/nvdv\">@nvdv</a></strong></li>\n<li><a href=\"https://github.com/jupyter/notebook/issues/5032\">(#5032)</a>: <em>Kernel dead after new installation anaconda - juypter</em> by <strong><a href=\"https://github.com/snoksnok\">@snoksnok</a></strong></li>\n<li><a href=\"https://github.com/jupyter/notebook/issues/5024\">(#5024)</a>: <em>Jupyter Notebook Kernel Not Connecting: Connection Failed</em> by <strong><a href=\"https://github.com/toanasahmed\">@toanasahmed</a></strong></li>\n<li><a href=\"https://github.com/jupyter/notebook/issues/2435\">(#2435)</a>: <em>Autocomplete not working</em> by <strong><a href=\"https://github.com/oztalha\">@oztalha</a></strong></li>\n</ul>\n<h5><a href=\"https://github.com/jupyter/qtconsole\">jupyter/qtconsole</a></h5>\n<ul>\n<li><a href=\"https://github.com/jupyter/qtconsole/issues/389\">(#389)</a>: <em>Extremely slow startup</em> by <strong><a href=\"https://github.com/jorgenthode\">@jorgenthode</a></strong></li>\n<li><a href=\"https://github.com/jupyter/qtconsole/issues/395\">(#395)</a>: <em>Option to make %colors Linux default in config</em> by <strong><a href=\"https://github.com/ahnafalrafi\">@ahnafalrafi</a></strong></li>\n<li><a href=\"https://github.com/jupyter/qtconsole/issues/393\">(#393)</a>: <em>QtConsole fails to start since update to (Py)Qt 5.12</em> by <strong><a href=\"https://github.com/dschreij\">@dschreij</a></strong></li>\n<li><a href=\"https://github.com/jupyter/qtconsole/issues/386\">(#386)</a>: <em>Auto-scroll not working with plots</em> by <strong><a href=\"https://github.com/tarasowski\">@tarasowski</a></strong></li>\n</ul>\n<h5><a href=\"https://github.com/jupyter/repo2docker\">jupyter/repo2docker</a></h5>\n<ul>\n<li><a href=\"https://github.com/jupyter/repo2docker/issues/821\">(#821)</a>: <em>r-cran-* binaries fail to install when specifying R version in runtime.txt</em> by <strong><a href=\"https://github.com/brooksambrose\">@brooksambrose</a></strong></li>\n<li><a href=\"https://github.com/jupyter/repo2docker/issues/813\">(#813)</a>: _Problem installing R 3.5 using repo2docker _ by <strong><a href=\"https://github.com/cannin\">@cannin</a></strong></li>\n</ul>\n<h5><a href=\"https://github.com/jupyter/steering\">jupyter/steering</a></h5>\n<ul>\n<li><a href=\"https://github.com/jupyter/steering/issues/53\">(#53)</a>: <em>Jupyter Community Workshops: Round 2 notes</em> by <strong><a href=\"https://github.com/jasongrout\">@jasongrout</a></strong></li>\n</ul>\n<h5><a href=\"https://github.com/jupyter/telemetry\">jupyter/telemetry</a></h5>\n<h5><a href=\"https://github.com/jupyter/terminado\">jupyter/terminado</a></h5>\n<ul>\n<li><a href=\"https://github.com/jupyter/terminado/issues/71\">(#71)</a>: <em>Rename version <code>v</code> to something more descriptive</em> by <strong><a href=\"https://github.com/cphang99\">@cphang99</a></strong></li>\n<li><a href=\"https://github.com/jupyter/terminado/issues/66\">(#66)</a>: <em>How to connect to docker container from shell_command</em> by <strong><a href=\"https://github.com/nikhilkabbin\">@nikhilkabbin</a></strong></li>\n</ul>\n<h5><a href=\"https://github.com/jupyter/testpath\">jupyter/testpath</a></h5>\n<ul>\n<li><a href=\"https://github.com/jupyter/testpath/issues/19\">(#19)</a>: <em>Wheel of latest version on Pypi is invalid</em> by <strong><a href=\"https://github.com/fhoering\">@fhoering</a></strong></li>\n</ul>"
      }
     },
     "318ae5768592488aaa571b6f0792bf53": {
      "model_module": "@jupyter-widgets/base",
      "model_module_version": "1.2.0",
      "model_name": "LayoutModel",
      "state": {
       "_model_module": "@jupyter-widgets/base",
       "_model_module_version": "1.2.0",
       "_model_name": "LayoutModel",
       "_view_count": null,
       "_view_module": "@jupyter-widgets/base",
       "_view_module_version": "1.2.0",
       "_view_name": "LayoutView",
       "align_content": null,
       "align_items": null,
       "align_self": null,
       "border": null,
       "bottom": null,
       "display": null,
       "flex": null,
       "flex_flow": null,
       "grid_area": null,
       "grid_auto_columns": null,
       "grid_auto_flow": null,
       "grid_auto_rows": null,
       "grid_column": null,
       "grid_gap": null,
       "grid_row": null,
       "grid_template_areas": null,
       "grid_template_columns": null,
       "grid_template_rows": null,
       "height": null,
       "justify_content": null,
       "justify_items": null,
       "left": null,
       "margin": null,
       "max_height": null,
       "max_width": null,
       "min_height": null,
       "min_width": null,
       "object_fit": null,
       "object_position": null,
       "order": null,
       "overflow": null,
       "overflow_x": null,
       "overflow_y": null,
       "padding": null,
       "right": null,
       "top": null,
       "visibility": null,
       "width": null
      }
     },
     "31ab6729546541c3ab6e7184f66faf23": {
      "model_module": "@jupyter-widgets/base",
      "model_module_version": "1.2.0",
      "model_name": "LayoutModel",
      "state": {
       "_model_module": "@jupyter-widgets/base",
       "_model_module_version": "1.2.0",
       "_model_name": "LayoutModel",
       "_view_count": null,
       "_view_module": "@jupyter-widgets/base",
       "_view_module_version": "1.2.0",
       "_view_name": "LayoutView",
       "align_content": null,
       "align_items": null,
       "align_self": null,
       "border": null,
       "bottom": null,
       "display": null,
       "flex": null,
       "flex_flow": null,
       "grid_area": null,
       "grid_auto_columns": null,
       "grid_auto_flow": null,
       "grid_auto_rows": null,
       "grid_column": null,
       "grid_gap": null,
       "grid_row": null,
       "grid_template_areas": null,
       "grid_template_columns": null,
       "grid_template_rows": null,
       "height": null,
       "justify_content": null,
       "justify_items": null,
       "left": null,
       "margin": null,
       "max_height": null,
       "max_width": null,
       "min_height": null,
       "min_width": null,
       "object_fit": null,
       "object_position": null,
       "order": null,
       "overflow": null,
       "overflow_x": null,
       "overflow_y": null,
       "padding": null,
       "right": null,
       "top": null,
       "visibility": null,
       "width": null
      }
     },
     "361017ff38de4a21a2e75704294f8d72": {
      "model_module": "@jupyter-widgets/controls",
      "model_module_version": "1.5.0",
      "model_name": "HTMLModel",
      "state": {
       "_dom_classes": [],
       "_model_module": "@jupyter-widgets/controls",
       "_model_module_version": "1.5.0",
       "_model_name": "HTMLModel",
       "_view_count": null,
       "_view_module": "@jupyter-widgets/controls",
       "_view_module_version": "1.5.0",
       "_view_name": "HTMLView",
       "description": "",
       "description_tooltip": null,
       "layout": "IPY_MODEL_7e7328e514b343deb25cec249b3c53a3",
       "placeholder": "​",
       "style": "IPY_MODEL_7ef7cb1120f44c89bd99db1201eb14c1",
       "value": "<h4>Closed PRs for org: <code>jupyterlab</code></h4>\n<h5><a href=\"https://github.com/jupyterlab/debugger\">jupyterlab/debugger</a></h5>\n<ul>\n<li><a href=\"https://github.com/jupyterlab/debugger/pull/237\">(#237)</a>: <em>IDebugger is not an IDisposable anymore</em> by <strong><a href=\"https://github.com/JohanMabille\">@JohanMabille</a></strong> merged by <strong><a href=\"https://github.com/afshin\">@afshin</a></strong></li>\n<li><a href=\"https://github.com/jupyterlab/debugger/pull/236\">(#236)</a>: <em>v0.1.0-alpha.1</em> by <strong><a href=\"https://github.com/afshin\">@afshin</a></strong> merged by <strong><a href=\"https://github.com/afshin\">@afshin</a></strong></li>\n<li><a href=\"https://github.com/jupyterlab/debugger/pull/232\">(#232)</a>: <em>no throws error after close debugger</em> by <strong><a href=\"https://github.com/KsavinN\">@KsavinN</a></strong> merged by <strong><a href=\"https://github.com/afshin\">@afshin</a></strong></li>\n<li><a href=\"https://github.com/jupyterlab/debugger/pull/231\">(#231)</a>: <em>Add support for debugging files</em> by <strong><a href=\"https://github.com/jtpio\">@jtpio</a></strong> merged by <strong><a href=\"https://github.com/JohanMabille\">@JohanMabille</a></strong></li>\n<li><a href=\"https://github.com/jupyterlab/debugger/pull/228\">(#228)</a>: <em>Remove deactivate breakpoint</em> by <strong><a href=\"https://github.com/KsavinN\">@KsavinN</a></strong> merged by <strong><a href=\"https://github.com/jtpio\">@jtpio</a></strong></li>\n<li><a href=\"https://github.com/jupyterlab/debugger/pull/226\">(#226)</a>: <em>Add \"Change Mode\" to the sidebar context menu</em> by <strong><a href=\"https://github.com/jtpio\">@jtpio</a></strong> merged by <strong><a href=\"https://github.com/KsavinN\">@KsavinN</a></strong></li>\n<li><a href=\"https://github.com/jupyterlab/debugger/pull/223\">(#223)</a>: <em>Upgrade to TypeScript 3.7</em> by <strong><a href=\"https://github.com/jtpio\">@jtpio</a></strong> merged by <strong><a href=\"https://github.com/JohanMabille\">@JohanMabille</a></strong></li>\n<li><a href=\"https://github.com/jupyterlab/debugger/pull/222\">(#222)</a>: <em>Imodel</em> by <strong><a href=\"https://github.com/JohanMabille\">@JohanMabille</a></strong> merged by <strong><a href=\"https://github.com/jtpio\">@jtpio</a></strong></li>\n<li><a href=\"https://github.com/jupyterlab/debugger/pull/221\">(#221)</a>: <em>Add support for breakpoints and line highlighting in read-only editors</em> by <strong><a href=\"https://github.com/jtpio\">@jtpio</a></strong> merged by <strong><a href=\"https://github.com/JohanMabille\">@JohanMabille</a></strong></li>\n<li><a href=\"https://github.com/jupyterlab/debugger/pull/219\">(#219)</a>: <em>Fix isDebuggingEnabled and remove the check</em> by <strong><a href=\"https://github.com/jtpio\">@jtpio</a></strong> merged by <strong><a href=\"https://github.com/JohanMabille\">@JohanMabille</a></strong></li>\n<li><a href=\"https://github.com/jupyterlab/debugger/pull/217\">(#217)</a>: <em>Restores the stopped threads after a restoreState request</em> by <strong><a href=\"https://github.com/JohanMabille\">@JohanMabille</a></strong> merged by <strong><a href=\"https://github.com/jtpio\">@jtpio</a></strong></li>\n<li><a href=\"https://github.com/jupyterlab/debugger/pull/216\">(#216)</a>: <em>no create handle for no supported kernels</em> by <strong><a href=\"https://github.com/KsavinN\">@KsavinN</a></strong> merged by <strong><a href=\"https://github.com/jtpio\">@jtpio</a></strong></li>\n<li><a href=\"https://github.com/jupyterlab/debugger/pull/207\">(#207)</a>: <em>Open files in the main area widget</em> by <strong><a href=\"https://github.com/jtpio\">@jtpio</a></strong> merged by <strong><a href=\"https://github.com/JohanMabille\">@JohanMabille</a></strong></li>\n<li><a href=\"https://github.com/jupyterlab/debugger/pull/206\">(#206)</a>: <em>Upgraded to xeus-python 0.6.7</em> by <strong><a href=\"https://github.com/JohanMabille\">@JohanMabille</a></strong> merged by <strong><a href=\"https://github.com/JohanMabille\">@JohanMabille</a></strong></li>\n<li><a href=\"https://github.com/jupyterlab/debugger/pull/203\">(#203)</a>: <em>Use the value.changed signal for the cell monitor</em> by <strong><a href=\"https://github.com/jtpio\">@jtpio</a></strong> merged by <strong><a href=\"https://github.com/JohanMabille\">@JohanMabille</a></strong></li>\n<li><a href=\"https://github.com/jupyterlab/debugger/pull/201\">(#201)</a>: <em>Add support for the debugger flag in kernel info</em> by <strong><a href=\"https://github.com/jtpio\">@jtpio</a></strong> merged by <strong><a href=\"https://github.com/jtpio\">@jtpio</a></strong></li>\n<li><a href=\"https://github.com/jupyterlab/debugger/pull/199\">(#199)</a>: <em>Initial support for handling messages for other cells</em> by <strong><a href=\"https://github.com/jtpio\">@jtpio</a></strong> merged by <strong><a href=\"https://github.com/JohanMabille\">@JohanMabille</a></strong></li>\n<li><a href=\"https://github.com/jupyterlab/debugger/pull/198\">(#198)</a>: <em>Added tests for restoreState and updateBreakpoints</em> by <strong><a href=\"https://github.com/JohanMabille\">@JohanMabille</a></strong> merged by <strong><a href=\"https://github.com/jtpio\">@jtpio</a></strong></li>\n<li><a href=\"https://github.com/jupyterlab/debugger/pull/196\">(#196)</a>: <em>Add a Binder badge that points to master</em> by <strong><a href=\"https://github.com/jtpio\">@jtpio</a></strong> merged by <strong><a href=\"https://github.com/JohanMabille\">@JohanMabille</a></strong></li>\n<li><a href=\"https://github.com/jupyterlab/debugger/pull/195\">(#195)</a>: <em>Upgraded to xeus-python 0.6.6</em> by <strong><a href=\"https://github.com/JohanMabille\">@JohanMabille</a></strong> merged by <strong><a href=\"https://github.com/JohanMabille\">@JohanMabille</a></strong></li>\n<li><a href=\"https://github.com/jupyterlab/debugger/pull/193\">(#193)</a>: <em>Add the sidebar to the layout restorer</em> by <strong><a href=\"https://github.com/jtpio\">@jtpio</a></strong> merged by <strong><a href=\"https://github.com/KsavinN\">@KsavinN</a></strong></li>\n<li><a href=\"https://github.com/jupyterlab/debugger/pull/190\">(#190)</a>: <em>Resolve-switching between notebooks removes the breakpoints from the UI</em> by <strong><a href=\"https://github.com/KsavinN\">@KsavinN</a></strong> merged by <strong><a href=\"https://github.com/jtpio\">@jtpio</a></strong></li>\n<li><a href=\"https://github.com/jupyterlab/debugger/pull/184\">(#184)</a>: <em>Minor README fixes</em> by <strong><a href=\"https://github.com/jtpio\">@jtpio</a></strong> merged by <strong><a href=\"https://github.com/jtpio\">@jtpio</a></strong></li>\n<li><a href=\"https://github.com/jupyterlab/debugger/pull/182\">(#182)</a>: <em>Change line highlighting when switching callstack</em> by <strong><a href=\"https://github.com/jtpio\">@jtpio</a></strong> merged by <strong><a href=\"https://github.com/KsavinN\">@KsavinN</a></strong></li>\n<li><a href=\"https://github.com/jupyterlab/debugger/pull/175\">(#175)</a>: <em>Change default mode to condensed</em> by <strong><a href=\"https://github.com/jtpio\">@jtpio</a></strong> merged by <strong><a href=\"https://github.com/KsavinN\">@KsavinN</a></strong></li>\n<li><a href=\"https://github.com/jupyterlab/debugger/pull/170\">(#170)</a>: <em>Add tests for source and loadedSources</em> by <strong><a href=\"https://github.com/jtpio\">@jtpio</a></strong> merged by <strong><a href=\"https://github.com/JohanMabille\">@JohanMabille</a></strong></li>\n<li><a href=\"https://github.com/jupyterlab/debugger/pull/165\">(#165)</a>: <em>The model now keeps all the breakpoints of a notebook</em> by <strong><a href=\"https://github.com/JohanMabille\">@JohanMabille</a></strong> merged by <strong><a href=\"https://github.com/jtpio\">@jtpio</a></strong></li>\n<li><a href=\"https://github.com/jupyterlab/debugger/pull/164\">(#164)</a>: <em>Update breakpoints on cell content changed</em> by <strong><a href=\"https://github.com/jtpio\">@jtpio</a></strong> merged by <strong><a href=\"https://github.com/JohanMabille\">@JohanMabille</a></strong></li>\n<li><a href=\"https://github.com/jupyterlab/debugger/pull/163\">(#163)</a>: <em>Resolve issues with Notebook Handler</em> by <strong><a href=\"https://github.com/KsavinN\">@KsavinN</a></strong> merged by <strong><a href=\"https://github.com/jtpio\">@jtpio</a></strong></li>\n<li><a href=\"https://github.com/jupyterlab/debugger/pull/161\">(#161)</a>: <em>Add tests for the DebugService</em> by <strong><a href=\"https://github.com/jtpio\">@jtpio</a></strong> merged by <strong><a href=\"https://github.com/JohanMabille\">@JohanMabille</a></strong></li>\n<li><a href=\"https://github.com/jupyterlab/debugger/pull/160\">(#160)</a>: <em>Remove onNewRenderLine</em> by <strong><a href=\"https://github.com/jtpio\">@jtpio</a></strong> merged by <strong><a href=\"https://github.com/KsavinN\">@KsavinN</a></strong></li>\n<li><a href=\"https://github.com/jupyterlab/debugger/pull/157\">(#157)</a>: <em>Add the stop button to the callstack toolbar</em> by <strong><a href=\"https://github.com/jtpio\">@jtpio</a></strong> merged by <strong><a href=\"https://github.com/JohanMabille\">@JohanMabille</a></strong></li>\n<li><a href=\"https://github.com/jupyterlab/debugger/pull/153\">(#153)</a>: <em>Restore debugger state</em> by <strong><a href=\"https://github.com/JohanMabille\">@JohanMabille</a></strong> merged by <strong><a href=\"https://github.com/jtpio\">@jtpio</a></strong></li>\n<li><a href=\"https://github.com/jupyterlab/debugger/pull/145\">(#145)</a>: <em>Clean up import order in <code>handlers</code> and <code>index</code>. Rename handler classes.</em> by <strong><a href=\"https://github.com/afshin\">@afshin</a></strong> merged by <strong><a href=\"https://github.com/afshin\">@afshin</a></strong></li>\n<li><a href=\"https://github.com/jupyterlab/debugger/pull/143\">(#143)</a>: <em>Map callstack buttons to debug actions</em> by <strong><a href=\"https://github.com/jtpio\">@jtpio</a></strong> merged by <strong><a href=\"https://github.com/JohanMabille\">@JohanMabille</a></strong></li>\n<li><a href=\"https://github.com/jupyterlab/debugger/pull/142\">(#142)</a>: <em>Add stepOut to the service and the command palette</em> by <strong><a href=\"https://github.com/jtpio\">@jtpio</a></strong> merged by <strong><a href=\"https://github.com/afshin\">@afshin</a></strong></li>\n<li><a href=\"https://github.com/jupyterlab/debugger/pull/140\">(#140)</a>: <em>Use source path for the breakpoints view</em> by <strong><a href=\"https://github.com/jtpio\">@jtpio</a></strong> merged by <strong><a href=\"https://github.com/JohanMabille\">@JohanMabille</a></strong></li>\n<li><a href=\"https://github.com/jupyterlab/debugger/pull/138\">(#138)</a>: <em>Fixed cell manager when debugger panel is closed and reopened</em> by <strong><a href=\"https://github.com/JohanMabille\">@JohanMabille</a></strong> merged by <strong><a href=\"https://github.com/jtpio\">@jtpio</a></strong></li>\n<li><a href=\"https://github.com/jupyterlab/debugger/pull/136\">(#136)</a>: <em>Use changed signal for models</em> by <strong><a href=\"https://github.com/jtpio\">@jtpio</a></strong> merged by <strong><a href=\"https://github.com/afshin\">@afshin</a></strong></li>\n<li><a href=\"https://github.com/jupyterlab/debugger/pull/132\">(#132)</a>: <em>Set breakpoints via the service</em> by <strong><a href=\"https://github.com/jtpio\">@jtpio</a></strong> merged by <strong><a href=\"https://github.com/JohanMabille\">@JohanMabille</a></strong></li>\n<li><a href=\"https://github.com/jupyterlab/debugger/pull/131\">(#131)</a>: <em>Hover on gutter</em> by <strong><a href=\"https://github.com/KsavinN\">@KsavinN</a></strong> merged by <strong><a href=\"https://github.com/afshin\">@afshin</a></strong></li>\n<li><a href=\"https://github.com/jupyterlab/debugger/pull/125\">(#125)</a>: <em>Display more variables during expand variable like Class</em> by <strong><a href=\"https://github.com/KsavinN\">@KsavinN</a></strong> merged by <strong><a href=\"https://github.com/jtpio\">@jtpio</a></strong></li>\n</ul>\n<h5><a href=\"https://github.com/jupyterlab/extension-cookiecutter-ts\">jupyterlab/extension-cookiecutter-ts</a></h5>\n<ul>\n<li><a href=\"https://github.com/jupyterlab/extension-cookiecutter-ts/pull/51\">(#51)</a>: <em>Switch to jlpm</em> by <strong><a href=\"https://github.com/fcollonval\">@fcollonval</a></strong> merged by <strong><a href=\"https://github.com/blink1073\">@blink1073</a></strong></li>\n<li><a href=\"https://github.com/jupyterlab/extension-cookiecutter-ts/pull/50\">(#50)</a>: <em>Add GitHub Actions workflow to build the extension</em> by <strong><a href=\"https://github.com/jtpio\">@jtpio</a></strong> merged by <strong><a href=\"https://github.com/blink1073\">@blink1073</a></strong></li>\n<li><a href=\"https://github.com/jupyterlab/extension-cookiecutter-ts/pull/49\">(#49)</a>: <em>Update JLab min version in README</em> by <strong><a href=\"https://github.com/jtpio\">@jtpio</a></strong> merged by <strong><a href=\"https://github.com/blink1073\">@blink1073</a></strong></li>\n<li><a href=\"https://github.com/jupyterlab/extension-cookiecutter-ts/pull/48\">(#48)</a>: <em>Switch to GitHub Actions for CI</em> by <strong><a href=\"https://github.com/jtpio\">@jtpio</a></strong> merged by <strong><a href=\"https://github.com/blink1073\">@blink1073</a></strong></li>\n</ul>\n<h5><a href=\"https://github.com/jupyterlab/jupyterlab\">jupyterlab/jupyterlab</a></h5>\n<ul>\n<li><a href=\"https://github.com/jupyterlab/jupyterlab/pull/7555\">(#7555)</a>: <em>Handle cell execution cancellation because cell is disposed.</em> by <strong><a href=\"https://github.com/jasongrout\">@jasongrout</a></strong> merged by <strong><a href=\"https://github.com/blink1073\">@blink1073</a></strong></li>\n<li><a href=\"https://github.com/jupyterlab/jupyterlab/pull/7551\">(#7551)</a>: <em>Added a shortcut to go to the last run or current running cell</em> by <strong><a href=\"https://github.com/mlucool\">@mlucool</a></strong> merged by <strong><a href=\"https://github.com/telamonian\">@telamonian</a></strong></li>\n<li><a href=\"https://github.com/jupyterlab/jupyterlab/pull/7549\">(#7549)</a>: <em>Typo in UseSignal documentation</em> by <strong><a href=\"https://github.com/ktaletsk\">@ktaletsk</a></strong> merged by <strong><a href=\"https://github.com/jasongrout\">@jasongrout</a></strong></li>\n<li><a href=\"https://github.com/jupyterlab/jupyterlab/pull/7543\">(#7543)</a>: <em>Add explicit doc encouraging people to re-use lab components</em> by <strong><a href=\"https://github.com/yuvipanda\">@yuvipanda</a></strong> merged by <strong><a href=\"https://github.com/ian-r-rose\">@ian-r-rose</a></strong></li>\n<li><a href=\"https://github.com/jupyterlab/jupyterlab/pull/7541\">(#7541)</a>: <em>Enable typescript sourcemaps for debugging locally installed labextensions</em> by <strong><a href=\"https://github.com/telamonian\">@telamonian</a></strong> merged by <strong><a href=\"https://github.com/blink1073\">@blink1073</a></strong></li>\n<li><a href=\"https://github.com/jupyterlab/jupyterlab/pull/7528\">(#7528)</a>: <em>Update prettier for TS 3.7</em> by <strong><a href=\"https://github.com/jasongrout\">@jasongrout</a></strong> merged by <strong><a href=\"https://github.com/jasongrout\">@jasongrout</a></strong></li>\n<li><a href=\"https://github.com/jupyterlab/jupyterlab/pull/7522\">(#7522)</a>: <em>Upgrade to TypeScript 3.7</em> by <strong><a href=\"https://github.com/jasongrout\">@jasongrout</a></strong> merged by <strong><a href=\"https://github.com/jasongrout\">@jasongrout</a></strong></li>\n<li><a href=\"https://github.com/jupyterlab/jupyterlab/pull/7519\">(#7519)</a>: <em>Add UseSignal example to the docs</em> by <strong><a href=\"https://github.com/jtpio\">@jtpio</a></strong> merged by <strong><a href=\"https://github.com/blink1073\">@blink1073</a></strong></li>\n<li><a href=\"https://github.com/jupyterlab/jupyterlab/pull/7517\">(#7517)</a>: <em>Update status bar index.css to reflect recent changes</em> by <strong><a href=\"https://github.com/jasongrout\">@jasongrout</a></strong> merged by <strong><a href=\"https://github.com/jasongrout\">@jasongrout</a></strong></li>\n<li><a href=\"https://github.com/jupyterlab/jupyterlab/pull/7513\">(#7513)</a>: <em>fix dropdown option style issue in Windows</em> by <strong><a href=\"https://github.com/mbektasbbg\">@mbektasbbg</a></strong> merged by <strong><a href=\"https://github.com/jasongrout\">@jasongrout</a></strong></li>\n<li><a href=\"https://github.com/jupyterlab/jupyterlab/pull/7512\">(#7512)</a>: <em>Update the ui-components css to reflect the correct dependencies.</em> by <strong><a href=\"https://github.com/jasongrout\">@jasongrout</a></strong> merged by <strong><a href=\"https://github.com/jasongrout\">@jasongrout</a></strong></li>\n<li><a href=\"https://github.com/jupyterlab/jupyterlab/pull/7508\">(#7508)</a>: <em>Change the NASA link back to point to the API key documentation</em> by <strong><a href=\"https://github.com/gitjeff05\">@gitjeff05</a></strong> merged by <strong><a href=\"https://github.com/jasongrout\">@jasongrout</a></strong></li>\n<li><a href=\"https://github.com/jupyterlab/jupyterlab/pull/7501\">(#7501)</a>: <em>Link UseSignal examples to code snippets</em> by <strong><a href=\"https://github.com/marisaaquilina\">@marisaaquilina</a></strong> merged by <strong><a href=\"https://github.com/blink1073\">@blink1073</a></strong></li>\n<li><a href=\"https://github.com/jupyterlab/jupyterlab/pull/7499\">(#7499)</a>: <em>Added env prop to kernel options</em> by <strong><a href=\"https://github.com/borremosch\">@borremosch</a></strong> merged by <strong><a href=\"https://github.com/blink1073\">@blink1073</a></strong></li>\n<li><a href=\"https://github.com/jupyterlab/jupyterlab/pull/7496\">(#7496)</a>: <em>Add types to the Activity Monitors</em> by <strong><a href=\"https://github.com/jtpio\">@jtpio</a></strong> merged by <strong><a href=\"https://github.com/blink1073\">@blink1073</a></strong></li>\n<li><a href=\"https://github.com/jupyterlab/jupyterlab/pull/7491\">(#7491)</a>: <em>Fix Log Console log level dropdown state</em> by <strong><a href=\"https://github.com/mbektasbbg\">@mbektasbbg</a></strong> merged by <strong><a href=\"https://github.com/jasongrout\">@jasongrout</a></strong></li>\n<li><a href=\"https://github.com/jupyterlab/jupyterlab/pull/7490\">(#7490)</a>: <em>Use <code>which</code> to find the right command to run to rebuild jlab</em> by <strong><a href=\"https://github.com/jasongrout\">@jasongrout</a></strong> merged by <strong><a href=\"https://github.com/jasongrout\">@jasongrout</a></strong></li>\n<li><a href=\"https://github.com/jupyterlab/jupyterlab/pull/7485\">(#7485)</a>: <em>Adding file size to File browser hover</em> by <strong><a href=\"https://github.com/macwoj\">@macwoj</a></strong> merged by <strong><a href=\"https://github.com/blink1073\">@blink1073</a></strong></li>\n<li><a href=\"https://github.com/jupyterlab/jupyterlab/pull/7483\">(#7483)</a>: <em>Add new file and new markdown file to file browser context menu</em> by <strong><a href=\"https://github.com/qntnrbns\">@qntnrbns</a></strong> merged by <strong><a href=\"https://github.com/blink1073\">@blink1073</a></strong></li>\n<li><a href=\"https://github.com/jupyterlab/jupyterlab/pull/7482\">(#7482)</a>: <em>Show \"Enable\" button only for installed extensions</em> by <strong><a href=\"https://github.com/jtpio\">@jtpio</a></strong> merged by <strong><a href=\"https://github.com/blink1073\">@blink1073</a></strong></li>\n<li><a href=\"https://github.com/jupyterlab/jupyterlab/pull/7480\">(#7480)</a>: <em>Add download command to file menu</em> by <strong><a href=\"https://github.com/acarl005\">@acarl005</a></strong> merged by <strong><a href=\"https://github.com/blink1073\">@blink1073</a></strong></li>\n<li><a href=\"https://github.com/jupyterlab/jupyterlab/pull/7479\">(#7479)</a>: <em>Update Contribution Guide to require node v12+</em> by <strong><a href=\"https://github.com/austinbrian\">@austinbrian</a></strong> merged by <strong><a href=\"https://github.com/blink1073\">@blink1073</a></strong></li>\n<li><a href=\"https://github.com/jupyterlab/jupyterlab/pull/7465\">(#7465)</a>: <em>Test jupyter lab without nodeJS</em> by <strong><a href=\"https://github.com/fcollonval\">@fcollonval</a></strong> merged by <strong><a href=\"https://github.com/blink1073\">@blink1073</a></strong></li>\n<li><a href=\"https://github.com/jupyterlab/jupyterlab/pull/7461\">(#7461)</a>: <em>Fix #7456</em> by <strong><a href=\"https://github.com/fcollonval\">@fcollonval</a></strong> merged by <strong><a href=\"https://github.com/jasongrout\">@jasongrout</a></strong></li>\n<li><a href=\"https://github.com/jupyterlab/jupyterlab/pull/7452\">(#7452)</a>: <em>Correct registry name in changelog</em> by <strong><a href=\"https://github.com/fcollonval\">@fcollonval</a></strong> merged by <strong><a href=\"https://github.com/jasongrout\">@jasongrout</a></strong></li>\n<li><a href=\"https://github.com/jupyterlab/jupyterlab/pull/7448\">(#7448)</a>: <em>Refine log console message UX</em> by <strong><a href=\"https://github.com/jasongrout\">@jasongrout</a></strong> merged by <strong><a href=\"https://github.com/jasongrout\">@jasongrout</a></strong></li>\n</ul>\n<h5><a href=\"https://github.com/jupyterlab/jupyterlab-commenting\">jupyterlab/jupyterlab-commenting</a></h5>\n<ul>\n<li><a href=\"https://github.com/jupyterlab/jupyterlab-commenting/pull/56\">(#56)</a>: <em>Update README</em> by <strong><a href=\"https://github.com/kgryte\">@kgryte</a></strong> merged by <strong><a href=\"https://github.com/saulshanabrook\">@saulshanabrook</a></strong></li>\n<li><a href=\"https://github.com/jupyterlab/jupyterlab-commenting/pull/55\">(#55)</a>: <em>Update binder link</em> by <strong><a href=\"https://github.com/saulshanabrook\">@saulshanabrook</a></strong> merged by <strong><a href=\"https://github.com/kgryte\">@kgryte</a></strong></li>\n<li><a href=\"https://github.com/jupyterlab/jupyterlab-commenting/pull/54\">(#54)</a>: <em>Minor styling updates.</em> by <strong><a href=\"https://github.com/ellisonbg\">@ellisonbg</a></strong> merged by <strong><a href=\"https://github.com/kgryte\">@kgryte</a></strong></li>\n<li><a href=\"https://github.com/jupyterlab/jupyterlab-commenting/pull/50\">(#50)</a>: <em>Update docs</em> by <strong><a href=\"https://github.com/kgryte\">@kgryte</a></strong> merged by <strong><a href=\"https://github.com/saulshanabrook\">@saulshanabrook</a></strong></li>\n<li><a href=\"https://github.com/jupyterlab/jupyterlab-commenting/pull/49\">(#49)</a>: <em>Update Binder</em> by <strong><a href=\"https://github.com/kgryte\">@kgryte</a></strong> merged by <strong><a href=\"https://github.com/saulshanabrook\">@saulshanabrook</a></strong></li>\n<li><a href=\"https://github.com/jupyterlab/jupyterlab-commenting/pull/48\">(#48)</a>: <em>Add demo notebook</em> by <strong><a href=\"https://github.com/kgryte\">@kgryte</a></strong> merged by <strong><a href=\"https://github.com/saulshanabrook\">@saulshanabrook</a></strong></li>\n<li><a href=\"https://github.com/jupyterlab/jupyterlab-commenting/pull/46\">(#46)</a>: <em>Setup testing</em> by <strong><a href=\"https://github.com/kgryte\">@kgryte</a></strong> merged by <strong><a href=\"https://github.com/saulshanabrook\">@saulshanabrook</a></strong></li>\n</ul>\n<h5><a href=\"https://github.com/jupyterlab/jupyterlab-data-explorer\">jupyterlab/jupyterlab-data-explorer</a></h5>\n<ul>\n<li><a href=\"https://github.com/jupyterlab/jupyterlab-data-explorer/pull/131\">(#131)</a>: <em>Add usage docs</em> by <strong><a href=\"https://github.com/saulshanabrook\">@saulshanabrook</a></strong> merged by <strong><a href=\"https://github.com/kgryte\">@kgryte</a></strong></li>\n<li><a href=\"https://github.com/jupyterlab/jupyterlab-data-explorer/pull/130\">(#130)</a>: <em>Update docs</em> by <strong><a href=\"https://github.com/kgryte\">@kgryte</a></strong> merged by <strong><a href=\"https://github.com/saulshanabrook\">@saulshanabrook</a></strong></li>\n<li><a href=\"https://github.com/jupyterlab/jupyterlab-data-explorer/pull/128\">(#128)</a>: <em>Fix binder</em> by <strong><a href=\"https://github.com/saulshanabrook\">@saulshanabrook</a></strong> merged by <strong><a href=\"https://github.com/kgryte\">@kgryte</a></strong></li>\n<li><a href=\"https://github.com/jupyterlab/jupyterlab-data-explorer/pull/120\">(#120)</a>: <em>Update development docs</em> by <strong><a href=\"https://github.com/kgryte\">@kgryte</a></strong> merged by <strong><a href=\"https://github.com/saulshanabrook\">@saulshanabrook</a></strong></li>\n</ul>\n<h5><a href=\"https://github.com/jupyterlab/jupyterlab-git\">jupyterlab/jupyterlab-git</a></h5>\n<ul>\n<li><a href=\"https://github.com/jupyterlab/jupyterlab-git/pull/449\">(#449)</a>: <em>fixes #442: addAllUnstagedFiles now has the correct behavior</em> by <strong><a href=\"https://github.com/telamonian\">@telamonian</a></strong> merged by <strong><a href=\"https://github.com/telamonian\">@telamonian</a></strong></li>\n<li><a href=\"https://github.com/jupyterlab/jupyterlab-git/pull/448\">(#448)</a>: <em>Simplify the staging UI to make it easier for git beginners</em> by <strong><a href=\"https://github.com/telamonian\">@telamonian</a></strong> merged by <strong><a href=\"https://github.com/fcollonval\">@fcollonval</a></strong></li>\n<li><a href=\"https://github.com/jupyterlab/jupyterlab-git/pull/447\">(#447)</a>: <em>enabled full typescript sourcemaps (with breakpoints and everything!)</em> by <strong><a href=\"https://github.com/telamonian\">@telamonian</a></strong> merged by <strong><a href=\"https://github.com/fcollonval\">@fcollonval</a></strong></li>\n<li><a href=\"https://github.com/jupyterlab/jupyterlab-git/pull/441\">(#441)</a>: <em>Forbid pip to look at the index</em> by <strong><a href=\"https://github.com/fcollonval\">@fcollonval</a></strong> merged by <strong><a href=\"https://github.com/telamonian\">@telamonian</a></strong></li>\n<li><a href=\"https://github.com/jupyterlab/jupyterlab-git/pull/438\">(#438)</a>: <em>Rework frontend</em> by <strong><a href=\"https://github.com/fcollonval\">@fcollonval</a></strong> merged by <strong><a href=\"https://github.com/telamonian\">@telamonian</a></strong></li>\n</ul>\n<h5><a href=\"https://github.com/jupyterlab/jupyterlab-latex\">jupyterlab/jupyterlab-latex</a></h5>\n<ul>\n<li><a href=\"https://github.com/jupyterlab/jupyterlab-latex/pull/125\">(#125)</a>: <em>Copied section on shell_escape from advanced.md to README.md</em> by <strong><a href=\"https://github.com/b-trav\">@b-trav</a></strong> merged by <strong><a href=\"https://github.com/ian-r-rose\">@ian-r-rose</a></strong></li>\n<li><a href=\"https://github.com/jupyterlab/jupyterlab-latex/pull/123\">(#123)</a>: <em>Bump mixin-deep from 1.3.1 to 1.3.2</em> by <strong><a href=\"https://github.com/dependabot\">@dependabot</a></strong> merged by <strong><a href=\"https://github.com/ian-r-rose\">@ian-r-rose</a></strong></li>\n</ul>\n<h5><a href=\"https://github.com/jupyterlab/jupyterlab-metadata-service\">jupyterlab/jupyterlab-metadata-service</a></h5>\n<ul>\n<li><a href=\"https://github.com/jupyterlab/jupyterlab-metadata-service/pull/60\">(#60)</a>: <em>Add usage docs</em> by <strong><a href=\"https://github.com/saulshanabrook\">@saulshanabrook</a></strong> merged by <strong><a href=\"https://github.com/kgryte\">@kgryte</a></strong></li>\n<li><a href=\"https://github.com/jupyterlab/jupyterlab-metadata-service/pull/59\">(#59)</a>: <em>Update and add GitHub templates</em> by <strong><a href=\"https://github.com/kgryte\">@kgryte</a></strong> merged by <strong><a href=\"https://github.com/saulshanabrook\">@saulshanabrook</a></strong></li>\n<li><a href=\"https://github.com/jupyterlab/jupyterlab-metadata-service/pull/58\">(#58)</a>: <em>Remove duplicate action</em> by <strong><a href=\"https://github.com/kgryte\">@kgryte</a></strong> merged by <strong><a href=\"https://github.com/saulshanabrook\">@saulshanabrook</a></strong></li>\n</ul>\n<h5><a href=\"https://github.com/jupyterlab/lumino\">jupyterlab/lumino</a></h5>\n<ul>\n<li><a href=\"https://github.com/jupyterlab/lumino/pull/4\">(#4)</a>: <em>Set up api-extractor</em> by <strong><a href=\"https://github.com/vidartf\">@vidartf</a></strong> merged by <strong><a href=\"https://github.com/blink1073\">@blink1073</a></strong></li>\n<li><a href=\"https://github.com/jupyterlab/lumino/pull/2\">(#2)</a>: <em>Bump lodash.template from 4.4.0 to 4.5.0</em> by <strong><a href=\"https://github.com/dependabot\">@dependabot</a></strong> merged by <strong><a href=\"https://github.com/blink1073\">@blink1073</a></strong></li>\n<li><a href=\"https://github.com/jupyterlab/lumino/pull/1\">(#1)</a>: <em>Bump mixin-deep from 1.3.1 to 1.3.2</em> by <strong><a href=\"https://github.com/dependabot\">@dependabot</a></strong> merged by <strong><a href=\"https://github.com/blink1073\">@blink1073</a></strong></li>\n</ul>"
      }
     },
     "3d0337757e1342e99551d24facbbfa75": {
      "model_module": "@jupyter-widgets/base",
      "model_module_version": "1.2.0",
      "model_name": "LayoutModel",
      "state": {
       "_model_module": "@jupyter-widgets/base",
       "_model_module_version": "1.2.0",
       "_model_name": "LayoutModel",
       "_view_count": null,
       "_view_module": "@jupyter-widgets/base",
       "_view_module_version": "1.2.0",
       "_view_name": "LayoutView",
       "align_content": null,
       "align_items": null,
       "align_self": null,
       "border": null,
       "bottom": null,
       "display": null,
       "flex": null,
       "flex_flow": null,
       "grid_area": null,
       "grid_auto_columns": null,
       "grid_auto_flow": null,
       "grid_auto_rows": null,
       "grid_column": null,
       "grid_gap": null,
       "grid_row": null,
       "grid_template_areas": null,
       "grid_template_columns": null,
       "grid_template_rows": null,
       "height": null,
       "justify_content": null,
       "justify_items": null,
       "left": null,
       "margin": null,
       "max_height": null,
       "max_width": null,
       "min_height": null,
       "min_width": null,
       "object_fit": null,
       "object_position": null,
       "order": null,
       "overflow": null,
       "overflow_x": null,
       "overflow_y": null,
       "padding": null,
       "right": null,
       "top": null,
       "visibility": null,
       "width": null
      }
     },
     "4321ab1e618843e1b7ecf879353309ac": {
      "model_module": "@jupyter-widgets/controls",
      "model_module_version": "1.5.0",
      "model_name": "DescriptionStyleModel",
      "state": {
       "_model_module": "@jupyter-widgets/controls",
       "_model_module_version": "1.5.0",
       "_model_name": "DescriptionStyleModel",
       "_view_count": null,
       "_view_module": "@jupyter-widgets/base",
       "_view_module_version": "1.2.0",
       "_view_name": "StyleView",
       "description_width": ""
      }
     },
     "442a55b6788945789cc433a7739714b6": {
      "model_module": "@jupyter-widgets/base",
      "model_module_version": "1.2.0",
      "model_name": "LayoutModel",
      "state": {
       "_model_module": "@jupyter-widgets/base",
       "_model_module_version": "1.2.0",
       "_model_name": "LayoutModel",
       "_view_count": null,
       "_view_module": "@jupyter-widgets/base",
       "_view_module_version": "1.2.0",
       "_view_name": "LayoutView",
       "align_content": null,
       "align_items": null,
       "align_self": null,
       "border": null,
       "bottom": null,
       "display": null,
       "flex": null,
       "flex_flow": null,
       "grid_area": null,
       "grid_auto_columns": null,
       "grid_auto_flow": null,
       "grid_auto_rows": null,
       "grid_column": null,
       "grid_gap": null,
       "grid_row": null,
       "grid_template_areas": null,
       "grid_template_columns": null,
       "grid_template_rows": null,
       "height": null,
       "justify_content": null,
       "justify_items": null,
       "left": null,
       "margin": null,
       "max_height": null,
       "max_width": null,
       "min_height": null,
       "min_width": null,
       "object_fit": null,
       "object_position": null,
       "order": null,
       "overflow": null,
       "overflow_x": null,
       "overflow_y": null,
       "padding": null,
       "right": null,
       "top": null,
       "visibility": null,
       "width": null
      }
     },
     "44f1289ebf274a98afc05138c4eab5d2": {
      "model_module": "@jupyter-widgets/base",
      "model_module_version": "1.2.0",
      "model_name": "LayoutModel",
      "state": {
       "_model_module": "@jupyter-widgets/base",
       "_model_module_version": "1.2.0",
       "_model_name": "LayoutModel",
       "_view_count": null,
       "_view_module": "@jupyter-widgets/base",
       "_view_module_version": "1.2.0",
       "_view_name": "LayoutView",
       "align_content": null,
       "align_items": null,
       "align_self": null,
       "border": null,
       "bottom": null,
       "display": null,
       "flex": null,
       "flex_flow": null,
       "grid_area": null,
       "grid_auto_columns": null,
       "grid_auto_flow": null,
       "grid_auto_rows": null,
       "grid_column": null,
       "grid_gap": null,
       "grid_row": null,
       "grid_template_areas": null,
       "grid_template_columns": null,
       "grid_template_rows": null,
       "height": null,
       "justify_content": null,
       "justify_items": null,
       "left": null,
       "margin": null,
       "max_height": null,
       "max_width": null,
       "min_height": null,
       "min_width": null,
       "object_fit": null,
       "object_position": null,
       "order": null,
       "overflow": null,
       "overflow_x": null,
       "overflow_y": null,
       "padding": null,
       "right": null,
       "top": null,
       "visibility": null,
       "width": null
      }
     },
     "493d738de6124b8ab41dc284699bccbf": {
      "model_module": "@jupyter-widgets/controls",
      "model_module_version": "1.5.0",
      "model_name": "DescriptionStyleModel",
      "state": {
       "_model_module": "@jupyter-widgets/controls",
       "_model_module_version": "1.5.0",
       "_model_name": "DescriptionStyleModel",
       "_view_count": null,
       "_view_module": "@jupyter-widgets/base",
       "_view_module_version": "1.2.0",
       "_view_name": "StyleView",
       "description_width": ""
      }
     },
     "4ce3e62acffe4663a727bb4bee9c5e6b": {
      "model_module": "@jupyter-widgets/base",
      "model_module_version": "1.2.0",
      "model_name": "LayoutModel",
      "state": {
       "_model_module": "@jupyter-widgets/base",
       "_model_module_version": "1.2.0",
       "_model_name": "LayoutModel",
       "_view_count": null,
       "_view_module": "@jupyter-widgets/base",
       "_view_module_version": "1.2.0",
       "_view_name": "LayoutView",
       "align_content": null,
       "align_items": null,
       "align_self": null,
       "border": null,
       "bottom": null,
       "display": null,
       "flex": null,
       "flex_flow": null,
       "grid_area": null,
       "grid_auto_columns": null,
       "grid_auto_flow": null,
       "grid_auto_rows": null,
       "grid_column": null,
       "grid_gap": null,
       "grid_row": null,
       "grid_template_areas": null,
       "grid_template_columns": null,
       "grid_template_rows": null,
       "height": null,
       "justify_content": null,
       "justify_items": null,
       "left": null,
       "margin": null,
       "max_height": null,
       "max_width": null,
       "min_height": null,
       "min_width": null,
       "object_fit": null,
       "object_position": null,
       "order": null,
       "overflow": null,
       "overflow_x": null,
       "overflow_y": null,
       "padding": null,
       "right": null,
       "top": null,
       "visibility": null,
       "width": null
      }
     },
     "4d64c431013946b3aa9192c4bc7ee750": {
      "model_module": "@jupyter-widgets/controls",
      "model_module_version": "1.5.0",
      "model_name": "HTMLModel",
      "state": {
       "_dom_classes": [],
       "_model_module": "@jupyter-widgets/controls",
       "_model_module_version": "1.5.0",
       "_model_name": "HTMLModel",
       "_view_count": null,
       "_view_module": "@jupyter-widgets/controls",
       "_view_module_version": "1.5.0",
       "_view_name": "HTMLView",
       "description": "",
       "description_tooltip": null,
       "layout": "IPY_MODEL_2a921ee8102a42dfb9507b49f8075b6c",
       "placeholder": "​",
       "style": "IPY_MODEL_eb7ed847ec0b47e3a525b1f2662e5c4b",
       "value": "<h4>jupyterlab</h4>\n<h5><a href=\"https://github.com/jupyterlab/debugger\">jupyterlab/debugger</a></h5>\n<ul>\n<li><a href=\"https://github.com/jupyterlab/debugger/issues/180\">(#180)</a>: <em>[UX] Add a debug button</em> by <strong><a href=\"https://github.com/dhirschfeld\">@dhirschfeld</a></strong></li>\n<li><a href=\"https://github.com/jupyterlab/debugger/issues/144\">(#144)</a>: <em>Behavior of next / stepOver</em> by <strong><a href=\"https://github.com/jtpio\">@jtpio</a></strong></li>\n</ul>\n<h5><a href=\"https://github.com/jupyterlab/extension-cookiecutter-ts\">jupyterlab/extension-cookiecutter-ts</a></h5>\n<ul>\n<li><a href=\"https://github.com/jupyterlab/extension-cookiecutter-ts/issues/36\">(#36)</a>: <em>Add \"ES2015.Collection\" in ts config</em> by <strong><a href=\"https://github.com/fcollonval\">@fcollonval</a></strong></li>\n<li><a href=\"https://github.com/jupyterlab/extension-cookiecutter-ts/issues/32\">(#32)</a>: <em>\"jupyterlab_myextension@0.1.0\" is not compatible with the current JupyterLab</em> by <strong><a href=\"https://github.com/chfw\">@chfw</a></strong></li>\n</ul>\n<h5><a href=\"https://github.com/jupyterlab/jupyter-renderers\">jupyterlab/jupyter-renderers</a></h5>\n<ul>\n<li><a href=\"https://github.com/jupyterlab/jupyter-renderers/issues/169\">(#169)</a>: <em>JSON not rendering</em> by <strong><a href=\"https://github.com/TomGoBravo\">@TomGoBravo</a></strong></li>\n</ul>\n<h5><a href=\"https://github.com/jupyterlab/jupyterlab\">jupyterlab/jupyterlab</a></h5>\n<ul>\n<li><a href=\"https://github.com/jupyterlab/jupyterlab/issues/7547\">(#7547)</a>: <em>Request - add shortcut to show file browser</em> by <strong><a href=\"https://github.com/plynch-chwy\">@plynch-chwy</a></strong></li>\n<li><a href=\"https://github.com/jupyterlab/jupyterlab/issues/7425\">(#7425)</a>: <em>remark: Jupyterlab-1.2.0rc0 failed to build on Win 10 64bt</em> by <strong><a href=\"https://github.com/stonebig\">@stonebig</a></strong></li>\n<li><a href=\"https://github.com/jupyterlab/jupyterlab/issues/7507\">(#7507)</a>: <em>FileBrowser delete doesn't work when started from network share</em> by <strong><a href=\"https://github.com/dhirschfeld\">@dhirschfeld</a></strong></li>\n<li><a href=\"https://github.com/jupyterlab/jupyterlab/issues/7473\">(#7473)</a>: <em>Markdown image not showing for Windows</em> by <strong><a href=\"https://github.com/scottwsides\">@scottwsides</a></strong></li>\n</ul>\n<h5><a href=\"https://github.com/jupyterlab/jupyterlab-celltags\">jupyterlab/jupyterlab-celltags</a></h5>\n<ul>\n<li><a href=\"https://github.com/jupyterlab/jupyterlab-celltags/issues/193\">(#193)</a>: <em>Tags not available</em> by <strong><a href=\"https://github.com/juancrescente\">@juancrescente</a></strong></li>\n</ul>\n<h5><a href=\"https://github.com/jupyterlab/jupyterlab-commenting\">jupyterlab/jupyterlab-commenting</a></h5>\n<ul>\n<li><a href=\"https://github.com/jupyterlab/jupyterlab-commenting/issues/58\">(#58)</a>: <em>Unifying UX/UI and software engineering work</em> by <strong><a href=\"https://github.com/Zsailer\">@Zsailer</a></strong></li>\n<li><a href=\"https://github.com/jupyterlab/jupyterlab-commenting/issues/42\">(#42)</a>: <em>NYU Handoff</em> by <strong><a href=\"https://github.com/saulshanabrook\">@saulshanabrook</a></strong></li>\n</ul>\n<h5><a href=\"https://github.com/jupyterlab/jupyterlab-data-explorer\">jupyterlab/jupyterlab-data-explorer</a></h5>\n<ul>\n<li><a href=\"https://github.com/jupyterlab/jupyterlab-data-explorer/issues/113\">(#113)</a>: <em>NYU Handoff</em> by <strong><a href=\"https://github.com/saulshanabrook\">@saulshanabrook</a></strong></li>\n<li><a href=\"https://github.com/jupyterlab/jupyterlab-data-explorer/issues/103\">(#103)</a>: <em>Notes from meeting with Tim</em> by <strong><a href=\"https://github.com/saulshanabrook\">@saulshanabrook</a></strong></li>\n</ul>\n<h5><a href=\"https://github.com/jupyterlab/jupyterlab-git\">jupyterlab/jupyterlab-git</a></h5>\n<ul>\n<li><a href=\"https://github.com/jupyterlab/jupyterlab-git/issues/452\">(#452)</a>: <em>Installation using poetry: frontend is not installed</em> by <strong><a href=\"https://github.com/harrybiddle\">@harrybiddle</a></strong></li>\n<li><a href=\"https://github.com/jupyterlab/jupyterlab-git/issues/453\">(#453)</a>: <em>Now seems like a good time for the next minor release</em> by <strong><a href=\"https://github.com/telamonian\">@telamonian</a></strong></li>\n<li><a href=\"https://github.com/jupyterlab/jupyterlab-git/issues/454\">(#454)</a>: <em>The git sidepanel does not refresh on file changes/autorefresh interval too long</em> by <strong><a href=\"https://github.com/telamonian\">@telamonian</a></strong></li>\n</ul>\n<h5><a href=\"https://github.com/jupyterlab/jupyterlab-github\">jupyterlab/jupyterlab-github</a></h5>\n<ul>\n<li><a href=\"https://github.com/jupyterlab/jupyterlab-github/issues/95\">(#95)</a>: <em>JupyterLab failed to build Error: Cannot find module './_baseValues'</em> by <strong><a href=\"https://github.com/cardenalion\">@cardenalion</a></strong></li>\n</ul>\n<h5><a href=\"https://github.com/jupyterlab/jupyterlab-hdf5\">jupyterlab/jupyterlab-hdf5</a></h5>\n<ul>\n<li><a href=\"https://github.com/jupyterlab/jupyterlab-hdf5/issues/22\">(#22)</a>: <em>Produce valid JSON in the presence of NaN or INF values</em> by <strong><a href=\"https://github.com/JonjonHays\">@JonjonHays</a></strong></li>\n<li><a href=\"https://github.com/jupyterlab/jupyterlab-hdf5/issues/21\">(#21)</a>: <em>File not found for correct path</em> by <strong><a href=\"https://github.com/michaelaye\">@michaelaye</a></strong></li>\n</ul>\n<h5><a href=\"https://github.com/jupyterlab/jupyterlab-latex\">jupyterlab/jupyterlab-latex</a></h5>\n<ul>\n<li><a href=\"https://github.com/jupyterlab/jupyterlab-latex/issues/120\">(#120)</a>: <em>shell-escape in documentation</em> by <strong><a href=\"https://github.com/b-trav\">@b-trav</a></strong></li>\n<li><a href=\"https://github.com/jupyterlab/jupyterlab-latex/issues/124\">(#124)</a>: <em>Automatically deleting files?</em> by <strong><a href=\"https://github.com/davidlow\">@davidlow</a></strong></li>\n<li><a href=\"https://github.com/jupyterlab/jupyterlab-latex/issues/122\">(#122)</a>: <em>The equation numbers do not appear in the PDF preview</em> by <strong><a href=\"https://github.com/makoto-yamashita\">@makoto-yamashita</a></strong></li>\n<li><a href=\"https://github.com/jupyterlab/jupyterlab-latex/issues/108\">(#108)</a>: _Installed jupyterlab_latex. right click offers preview, but get \"Server Extension Error\" _ by <strong><a href=\"https://github.com/tomPorter\">@tomPorter</a></strong></li>\n</ul>\n<h5><a href=\"https://github.com/jupyterlab/jupyterlab-media\">jupyterlab/jupyterlab-media</a></h5>\n<ul>\n<li><a href=\"https://github.com/jupyterlab/jupyterlab-media/issues/7\">(#7)</a>: <em>JupyterLab Video Tutorials</em> by <strong><a href=\"https://github.com/van-8\">@van-8</a></strong></li>\n</ul>\n<h5><a href=\"https://github.com/jupyterlab/jupyterlab-metadata-service\">jupyterlab/jupyterlab-metadata-service</a></h5>\n<ul>\n<li><a href=\"https://github.com/jupyterlab/jupyterlab-metadata-service/issues/54\">(#54)</a>: <em>NYU Handoff</em> by <strong><a href=\"https://github.com/saulshanabrook\">@saulshanabrook</a></strong></li>\n</ul>\n<h5><a href=\"https://github.com/jupyterlab/jupyterlab-monaco\">jupyterlab/jupyterlab-monaco</a></h5>\n<ul>\n<li><a href=\"https://github.com/jupyterlab/jupyterlab-monaco/issues/27\">(#27)</a>: <em>How to install on jupyterlab version &gt; 1.0.0 ?</em> by <strong><a href=\"https://github.com/zhanzy178\">@zhanzy178</a></strong></li>\n</ul>\n<h5><a href=\"https://github.com/jupyterlab/jupyterlab-toc\">jupyterlab/jupyterlab-toc</a></h5>\n<ul>\n<li><a href=\"https://github.com/jupyterlab/jupyterlab-toc/issues/54\">(#54)</a>: <em>Additional markdown headings in cell are ignored</em> by <strong><a href=\"https://github.com/kenjioman\">@kenjioman</a></strong></li>\n<li><a href=\"https://github.com/jupyterlab/jupyterlab-toc/issues/24\">(#24)</a>: <em>Ignore some generated headers in output cells, or collapse TOC entries</em> by <strong><a href=\"https://github.com/kenjioman\">@kenjioman</a></strong></li>\n<li><a href=\"https://github.com/jupyterlab/jupyterlab-toc/issues/109\">(#109)</a>: <em>TOC Collapsing NB cells</em> by <strong><a href=\"https://github.com/TRM13\">@TRM13</a></strong></li>\n<li><a href=\"https://github.com/jupyterlab/jupyterlab-toc/issues/84\">(#84)</a>: <em>Insert TOC cell in notebook</em> by <strong><a href=\"https://github.com/PierreGuilmin\">@PierreGuilmin</a></strong></li>\n<li><a href=\"https://github.com/jupyterlab/jupyterlab-toc/issues/66\">(#66)</a>: <em>Skip H1 headers</em> by <strong><a href=\"https://github.com/romainmartinez\">@romainmartinez</a></strong></li>\n</ul>\n<h5><a href=\"https://github.com/jupyterlab/jupyterlab_server\">jupyterlab/jupyterlab_server</a></h5>\n<h5><a href=\"https://github.com/jupyterlab/lumino\">jupyterlab/lumino</a></h5>\n<ul>\n<li><a href=\"https://github.com/jupyterlab/lumino/issues/3\">(#3)</a>: <em>Add Documentation</em> by <strong><a href=\"https://github.com/blink1073\">@blink1073</a></strong></li>\n</ul>\n<h5><a href=\"https://github.com/jupyterlab/team-compass\">jupyterlab/team-compass</a></h5>\n<ul>\n<li><a href=\"https://github.com/jupyterlab/team-compass/issues/28\">(#28)</a>: <em>Absorb the Phosphor Project</em> by <strong><a href=\"https://github.com/blink1073\">@blink1073</a></strong></li>\n<li><a href=\"https://github.com/jupyterlab/team-compass/issues/19\">(#19)</a>: <em>in-person dev meeting</em> by <strong><a href=\"https://github.com/jasongrout\">@jasongrout</a></strong></li>\n</ul>"
      }
     },
     "4e9bba8ea2494dd2b8abaec84aa39b9f": {
      "model_module": "@jupyter-widgets/base",
      "model_module_version": "1.2.0",
      "model_name": "LayoutModel",
      "state": {
       "_model_module": "@jupyter-widgets/base",
       "_model_module_version": "1.2.0",
       "_model_name": "LayoutModel",
       "_view_count": null,
       "_view_module": "@jupyter-widgets/base",
       "_view_module_version": "1.2.0",
       "_view_name": "LayoutView",
       "align_content": null,
       "align_items": null,
       "align_self": null,
       "border": null,
       "bottom": null,
       "display": null,
       "flex": null,
       "flex_flow": null,
       "grid_area": null,
       "grid_auto_columns": null,
       "grid_auto_flow": null,
       "grid_auto_rows": null,
       "grid_column": null,
       "grid_gap": null,
       "grid_row": null,
       "grid_template_areas": null,
       "grid_template_columns": null,
       "grid_template_rows": null,
       "height": null,
       "justify_content": null,
       "justify_items": null,
       "left": null,
       "margin": null,
       "max_height": null,
       "max_width": null,
       "min_height": null,
       "min_width": null,
       "object_fit": null,
       "object_position": null,
       "order": null,
       "overflow": null,
       "overflow_x": null,
       "overflow_y": null,
       "padding": null,
       "right": null,
       "top": null,
       "visibility": null,
       "width": null
      }
     },
     "52534400f61d4a8681df855320a562a9": {
      "model_module": "@jupyter-widgets/base",
      "model_module_version": "1.2.0",
      "model_name": "LayoutModel",
      "state": {
       "_model_module": "@jupyter-widgets/base",
       "_model_module_version": "1.2.0",
       "_model_name": "LayoutModel",
       "_view_count": null,
       "_view_module": "@jupyter-widgets/base",
       "_view_module_version": "1.2.0",
       "_view_name": "LayoutView",
       "align_content": null,
       "align_items": null,
       "align_self": null,
       "border": null,
       "bottom": null,
       "display": null,
       "flex": null,
       "flex_flow": null,
       "grid_area": null,
       "grid_auto_columns": null,
       "grid_auto_flow": null,
       "grid_auto_rows": null,
       "grid_column": null,
       "grid_gap": null,
       "grid_row": null,
       "grid_template_areas": null,
       "grid_template_columns": null,
       "grid_template_rows": null,
       "height": null,
       "justify_content": null,
       "justify_items": null,
       "left": null,
       "margin": null,
       "max_height": null,
       "max_width": null,
       "min_height": null,
       "min_width": null,
       "object_fit": null,
       "object_position": null,
       "order": null,
       "overflow": null,
       "overflow_x": null,
       "overflow_y": null,
       "padding": null,
       "right": null,
       "top": null,
       "visibility": null,
       "width": null
      }
     },
     "54ce1a3f7337407d9b89a525406ebc31": {
      "model_module": "@jupyter-widgets/controls",
      "model_module_version": "1.5.0",
      "model_name": "HTMLModel",
      "state": {
       "_dom_classes": [],
       "_model_module": "@jupyter-widgets/controls",
       "_model_module_version": "1.5.0",
       "_model_name": "HTMLModel",
       "_view_count": null,
       "_view_module": "@jupyter-widgets/controls",
       "_view_module_version": "1.5.0",
       "_view_name": "HTMLView",
       "description": "",
       "description_tooltip": null,
       "layout": "IPY_MODEL_5bdfef8fbecf4b31ad5a6d804378e72f",
       "placeholder": "​",
       "style": "IPY_MODEL_dc52e2b32eb04846b528ccd710118adb",
       "value": "<h4>Closed PRs for org: <code>jupyterhub</code></h4>\n<h5><a href=\"https://github.com/jupyterhub/batchspawner\">jupyterhub/batchspawner</a></h5>\n<ul>\n<li><a href=\"https://github.com/jupyterhub/batchspawner/pull/167\">(#167)</a>: <em>Support named servers</em> by <strong><a href=\"https://github.com/rcthomas\">@rcthomas</a></strong> merged by <strong><a href=\"https://github.com/mbmilligan\">@mbmilligan</a></strong></li>\n</ul>\n<h5><a href=\"https://github.com/jupyterhub/binder\">jupyterhub/binder</a></h5>\n<ul>\n<li><a href=\"https://github.com/jupyterhub/binder/pull/176\">(#176)</a>: <em>updating to new theme</em> by <strong><a href=\"https://github.com/choldgraf\">@choldgraf</a></strong> merged by <strong><a href=\"https://github.com/sgibson91\">@sgibson91</a></strong></li>\n</ul>\n<h5><a href=\"https://github.com/jupyterhub/binderhub\">jupyterhub/binderhub</a></h5>\n<ul>\n<li><a href=\"https://github.com/jupyterhub/binderhub/pull/1014\">(#1014)</a>: <em>[MRG] Add top level path back to chartpress context to fix build issue</em> by <strong><a href=\"https://github.com/betatim\">@betatim</a></strong> merged by <strong><a href=\"https://github.com/bitnik\">@bitnik</a></strong></li>\n<li><a href=\"https://github.com/jupyterhub/binderhub/pull/1012\">(#1012)</a>: <em>Add \"selector\" to BinderHub Deployment object for k8s 1.16</em> by <strong><a href=\"https://github.com/consideRatio\">@consideRatio</a></strong> merged by <strong><a href=\"https://github.com/betatim\">@betatim</a></strong></li>\n<li><a href=\"https://github.com/jupyterhub/binderhub/pull/1010\">(#1010)</a>: <em>[MRG] Pass BINDER_REPO_URL and other vars to spawned container at runtime</em> by <strong><a href=\"https://github.com/manics\">@manics</a></strong> merged by <strong><a href=\"https://github.com/betatim\">@betatim</a></strong></li>\n<li><a href=\"https://github.com/jupyterhub/binderhub/pull/1009\">(#1009)</a>: <em>add pre_launch_hook config to Launcher</em> by <strong><a href=\"https://github.com/bitnik\">@bitnik</a></strong> merged by <strong><a href=\"https://github.com/betatim\">@betatim</a></strong></li>\n<li><a href=\"https://github.com/jupyterhub/binderhub/pull/1008\">(#1008)</a>: <em>updating sphinx theme</em> by <strong><a href=\"https://github.com/choldgraf\">@choldgraf</a></strong> merged by <strong><a href=\"https://github.com/sgibson91\">@sgibson91</a></strong></li>\n<li><a href=\"https://github.com/jupyterhub/binderhub/pull/1006\">(#1006)</a>: <em>Bump Z2JH and fix CI tests (Running != Ready)</em> by <strong><a href=\"https://github.com/consideRatio\">@consideRatio</a></strong> merged by <strong><a href=\"https://github.com/betatim\">@betatim</a></strong></li>\n<li><a href=\"https://github.com/jupyterhub/binderhub/pull/1005\">(#1005)</a>: <em>Fix broken doc link</em> by <strong><a href=\"https://github.com/consideRatio\">@consideRatio</a></strong> merged by <strong><a href=\"https://github.com/betatim\">@betatim</a></strong></li>\n<li><a href=\"https://github.com/jupyterhub/binderhub/pull/1004\">(#1004)</a>: <em>Bump and update for fresh chartpressing</em> by <strong><a href=\"https://github.com/consideRatio\">@consideRatio</a></strong> merged by <strong><a href=\"https://github.com/betatim\">@betatim</a></strong></li>\n<li><a href=\"https://github.com/jupyterhub/binderhub/pull/1002\">(#1002)</a>: <em>[MRG] Move dropdown to the left</em> by <strong><a href=\"https://github.com/betatim\">@betatim</a></strong> merged by <strong><a href=\"https://github.com/betatim\">@betatim</a></strong></li>\n<li><a href=\"https://github.com/jupyterhub/binderhub/pull/1001\">(#1001)</a>: <em>Document automatic HTTPS</em> by <strong><a href=\"https://github.com/xhochy\">@xhochy</a></strong> merged by <strong><a href=\"https://github.com/betatim\">@betatim</a></strong></li>\n<li><a href=\"https://github.com/jupyterhub/binderhub/pull/999\">(#999)</a>: <em>[MRG] Repo2docker emits failure and failed events</em> by <strong><a href=\"https://github.com/betatim\">@betatim</a></strong> merged by <strong><a href=\"https://github.com/betatim\">@betatim</a></strong></li>\n<li><a href=\"https://github.com/jupyterhub/binderhub/pull/996\">(#996)</a>: <em>update federation data for gesis</em> by <strong><a href=\"https://github.com/bitnik\">@bitnik</a></strong> merged by <strong><a href=\"https://github.com/betatim\">@betatim</a></strong></li>\n<li><a href=\"https://github.com/jupyterhub/binderhub/pull/995\">(#995)</a>: <em>Update data-federation.yml</em> by <strong><a href=\"https://github.com/choldgraf\">@choldgraf</a></strong> merged by <strong><a href=\"https://github.com/betatim\">@betatim</a></strong></li>\n</ul>\n<h5><a href=\"https://github.com/jupyterhub/chartpress\">jupyterhub/chartpress</a></h5>\n<ul>\n<li><a href=\"https://github.com/jupyterhub/chartpress/pull/83\">(#83)</a>: <em>Update for PyPI CD on git tag pushes</em> by <strong><a href=\"https://github.com/consideRatio\">@consideRatio</a></strong> merged by <strong><a href=\"https://github.com/consideRatio\">@consideRatio</a></strong></li>\n<li><a href=\"https://github.com/jupyterhub/chartpress/pull/77\">(#77)</a>: <em>Make images optional again</em> by <strong><a href=\"https://github.com/jacobtomlinson\">@jacobtomlinson</a></strong> merged by <strong><a href=\"https://github.com/consideRatio\">@consideRatio</a></strong></li>\n<li><a href=\"https://github.com/jupyterhub/chartpress/pull/74\">(#74)</a>: <em>Adopt bump2version for automating version bumps</em> by <strong><a href=\"https://github.com/minrk\">@minrk</a></strong> merged by <strong><a href=\"https://github.com/consideRatio\">@consideRatio</a></strong></li>\n<li><a href=\"https://github.com/jupyterhub/chartpress/pull/70\">(#70)</a>: <em>Add --force-build / --force-push, and don't let --tag imply it</em> by <strong><a href=\"https://github.com/consideRatio\">@consideRatio</a></strong> merged by <strong><a href=\"https://github.com/minrk\">@minrk</a></strong></li>\n<li><a href=\"https://github.com/jupyterhub/chartpress/pull/69\">(#69)</a>: <em>Ensure to honor requirements.yaml before publishing a chart</em> by <strong><a href=\"https://github.com/consideRatio\">@consideRatio</a></strong> merged by <strong><a href=\"https://github.com/minrk\">@minrk</a></strong></li>\n<li><a href=\"https://github.com/jupyterhub/chartpress/pull/68\">(#68)</a>: <em>More thorough testing with pytest</em> by <strong><a href=\"https://github.com/consideRatio\">@consideRatio</a></strong> merged by <strong><a href=\"https://github.com/minrk\">@minrk</a></strong></li>\n</ul>\n<h5><a href=\"https://github.com/jupyterhub/configurable-http-proxy\">jupyterhub/configurable-http-proxy</a></h5>\n<ul>\n<li><a href=\"https://github.com/jupyterhub/configurable-http-proxy/pull/221\">(#221)</a>: <em>Update CHANGELOG.md for 4.2.0</em> by <strong><a href=\"https://github.com/consideRatio\">@consideRatio</a></strong> merged by <strong><a href=\"https://github.com/consideRatio\">@consideRatio</a></strong></li>\n<li><a href=\"https://github.com/jupyterhub/configurable-http-proxy/pull/220\">(#220)</a>: <em>RELEASE.md documentation and small fixes</em> by <strong><a href=\"https://github.com/consideRatio\">@consideRatio</a></strong> merged by <strong><a href=\"https://github.com/consideRatio\">@consideRatio</a></strong></li>\n<li><a href=\"https://github.com/jupyterhub/configurable-http-proxy/pull/217\">(#217)</a>: <em>Terminate on SIGTERM</em> by <strong><a href=\"https://github.com/consideRatio\">@consideRatio</a></strong> merged by <strong><a href=\"https://github.com/betatim\">@betatim</a></strong></li>\n<li><a href=\"https://github.com/jupyterhub/configurable-http-proxy/pull/216\">(#216)</a>: <em>Fix Vulnerabilities</em> by <strong><a href=\"https://github.com/rafael-ladislau\">@rafael-ladislau</a></strong> merged by <strong><a href=\"https://github.com/minrk\">@minrk</a></strong></li>\n<li><a href=\"https://github.com/jupyterhub/configurable-http-proxy/pull/213\">(#213)</a>: <em>chore: Udpate node, replace add with copy</em> by <strong><a href=\"https://github.com/jgwerner\">@jgwerner</a></strong> merged by <strong><a href=\"https://github.com/minrk\">@minrk</a></strong></li>\n</ul>\n<h5><a href=\"https://github.com/jupyterhub/dockerspawner\">jupyterhub/dockerspawner</a></h5>\n<ul>\n<li><a href=\"https://github.com/jupyterhub/dockerspawner/pull/350\">(#350)</a>: <em>Fix dead link in doc</em> by <strong><a href=\"https://github.com/JocelynDelalande\">@JocelynDelalande</a></strong> merged by <strong><a href=\"https://github.com/GeorgianaElena\">@GeorgianaElena</a></strong></li>\n</ul>\n<h5><a href=\"https://github.com/jupyterhub/jupyter-server-proxy\">jupyterhub/jupyter-server-proxy</a></h5>\n<ul>\n<li><a href=\"https://github.com/jupyterhub/jupyter-server-proxy/pull/163\">(#163)</a>: <em>Replace icon_url with icon_path in <strong>init</strong>.py.</em> by <strong><a href=\"https://github.com/ka-zo\">@ka-zo</a></strong> merged by <strong><a href=\"https://github.com/betatim\">@betatim</a></strong></li>\n<li><a href=\"https://github.com/jupyterhub/jupyter-server-proxy/pull/161\">(#161)</a>: <em>Bump version number</em> by <strong><a href=\"https://github.com/yuvipanda\">@yuvipanda</a></strong> merged by <strong><a href=\"https://github.com/yuvipanda\">@yuvipanda</a></strong></li>\n<li><a href=\"https://github.com/jupyterhub/jupyter-server-proxy/pull/160\">(#160)</a>: <em>Add badges</em> by <strong><a href=\"https://github.com/consideRatio\">@consideRatio</a></strong> merged by <strong><a href=\"https://github.com/betatim\">@betatim</a></strong></li>\n<li><a href=\"https://github.com/jupyterhub/jupyter-server-proxy/pull/159\">(#159)</a>: <em>Move npm package to jupyterlab org</em> by <strong><a href=\"https://github.com/blink1073\">@blink1073</a></strong> merged by <strong><a href=\"https://github.com/ian-r-rose\">@ian-r-rose</a></strong></li>\n</ul>\n<h5><a href=\"https://github.com/jupyterhub/jupyterhub\">jupyterhub/jupyterhub</a></h5>\n<ul>\n<li><a href=\"https://github.com/jupyterhub/jupyterhub/pull/2826\">(#2826)</a>: <em>Add inline comment to test</em> by <strong><a href=\"https://github.com/consideRatio\">@consideRatio</a></strong> merged by <strong><a href=\"https://github.com/betatim\">@betatim</a></strong></li>\n<li><a href=\"https://github.com/jupyterhub/jupyterhub/pull/2824\">(#2824)</a>: <em>Raise error on missing specified config</em> by <strong><a href=\"https://github.com/consideRatio\">@consideRatio</a></strong> merged by <strong><a href=\"https://github.com/betatim\">@betatim</a></strong></li>\n<li><a href=\"https://github.com/jupyterhub/jupyterhub/pull/2816\">(#2816)</a>: <em>chore: Refactor Dockerfile</em> by <strong><a href=\"https://github.com/jgwerner\">@jgwerner</a></strong> merged by <strong><a href=\"https://github.com/minrk\">@minrk</a></strong></li>\n<li><a href=\"https://github.com/jupyterhub/jupyterhub/pull/2811\">(#2811)</a>: <em>chore: Update python versions in travis matrix</em> by <strong><a href=\"https://github.com/jgwerner\">@jgwerner</a></strong> merged by <strong><a href=\"https://github.com/betatim\">@betatim</a></strong></li>\n<li><a href=\"https://github.com/jupyterhub/jupyterhub/pull/2810\">(#2810)</a>: <em>chore: Bump package versions used in pre-commit config</em> by <strong><a href=\"https://github.com/jgwerner\">@jgwerner</a></strong> merged by <strong><a href=\"https://github.com/betatim\">@betatim</a></strong></li>\n<li><a href=\"https://github.com/jupyterhub/jupyterhub/pull/2803\">(#2803)</a>: <em>adding docs preview to circleci</em> by <strong><a href=\"https://github.com/choldgraf\">@choldgraf</a></strong> merged by <strong><a href=\"https://github.com/minrk\">@minrk</a></strong></li>\n<li><a href=\"https://github.com/jupyterhub/jupyterhub/pull/2800\">(#2800)</a>: <em>adding institutional faq</em> by <strong><a href=\"https://github.com/choldgraf\">@choldgraf</a></strong> merged by <strong><a href=\"https://github.com/betatim\">@betatim</a></strong></li>\n<li><a href=\"https://github.com/jupyterhub/jupyterhub/pull/2795\">(#2795)</a>: <em>The proxy's REST API listens on port <code>8001</code></em> by <strong><a href=\"https://github.com/bnuhero\">@bnuhero</a></strong> merged by <strong><a href=\"https://github.com/minrk\">@minrk</a></strong></li>\n<li><a href=\"https://github.com/jupyterhub/jupyterhub/pull/2794\">(#2794)</a>: <em>cull_idle_servers.py: rebind max_age and inactive_limit locally</em> by <strong><a href=\"https://github.com/rkdarst\">@rkdarst</a></strong> merged by <strong><a href=\"https://github.com/minrk\">@minrk</a></strong></li>\n</ul>\n<h5><a href=\"https://github.com/jupyterhub/kubespawner\">jupyterhub/kubespawner</a></h5>\n<ul>\n<li><a href=\"https://github.com/jupyterhub/kubespawner/pull/381\">(#381)</a>: <em>Fix progress serialization issue</em> by <strong><a href=\"https://github.com/consideRatio\">@consideRatio</a></strong> merged by <strong><a href=\"https://github.com/consideRatio\">@consideRatio</a></strong></li>\n<li><a href=\"https://github.com/jupyterhub/kubespawner/pull/379\">(#379)</a>: <em>Don't require deploy job to also test</em> by <strong><a href=\"https://github.com/consideRatio\">@consideRatio</a></strong> merged by <strong><a href=\"https://github.com/consideRatio\">@consideRatio</a></strong></li>\n<li><a href=\"https://github.com/jupyterhub/kubespawner/pull/377\">(#377)</a>: <em>Iteration of local development instructions</em> by <strong><a href=\"https://github.com/consideRatio\">@consideRatio</a></strong> merged by <strong><a href=\"https://github.com/consideRatio\">@consideRatio</a></strong></li>\n<li><a href=\"https://github.com/jupyterhub/kubespawner/pull/376\">(#376)</a>: <em>Add RELEASE.md and utilize bump2version</em> by <strong><a href=\"https://github.com/consideRatio\">@consideRatio</a></strong> merged by <strong><a href=\"https://github.com/consideRatio\">@consideRatio</a></strong></li>\n<li><a href=\"https://github.com/jupyterhub/kubespawner/pull/372\">(#372)</a>: <em>Update changelog for 0.11.0</em> by <strong><a href=\"https://github.com/consideRatio\">@consideRatio</a></strong> merged by <strong><a href=\"https://github.com/consideRatio\">@consideRatio</a></strong></li>\n<li><a href=\"https://github.com/jupyterhub/kubespawner/pull/371\">(#371)</a>: <em>Fix docs build</em> by <strong><a href=\"https://github.com/consideRatio\">@consideRatio</a></strong> merged by <strong><a href=\"https://github.com/consideRatio\">@consideRatio</a></strong></li>\n<li><a href=\"https://github.com/jupyterhub/kubespawner/pull/369\">(#369)</a>: <em>[MRG]: Travis pypi: only use pre for nightly</em> by <strong><a href=\"https://github.com/manics\">@manics</a></strong> merged by <strong><a href=\"https://github.com/consideRatio\">@consideRatio</a></strong></li>\n<li><a href=\"https://github.com/jupyterhub/kubespawner/pull/368\">(#368)</a>: <em>[MRG] CI reworked and bugs affecting tests fixed</em> by <strong><a href=\"https://github.com/consideRatio\">@consideRatio</a></strong> merged by <strong><a href=\"https://github.com/consideRatio\">@consideRatio</a></strong></li>\n<li><a href=\"https://github.com/jupyterhub/kubespawner/pull/365\">(#365)</a>: <em>Add relevant badges to README.md</em> by <strong><a href=\"https://github.com/consideRatio\">@consideRatio</a></strong> merged by <strong><a href=\"https://github.com/betatim\">@betatim</a></strong></li>\n<li><a href=\"https://github.com/jupyterhub/kubespawner/pull/362\">(#362)</a>: <em>Fix for Kubernetes 1.16 regarding datetime comparison</em> by <strong><a href=\"https://github.com/consideRatio\">@consideRatio</a></strong> merged by <strong><a href=\"https://github.com/manics\">@manics</a></strong></li>\n</ul>\n<h5><a href=\"https://github.com/jupyterhub/mybinder.org-deploy\">jupyterhub/mybinder.org-deploy</a></h5>\n<ul>\n<li><a href=\"https://github.com/jupyterhub/mybinder.org-deploy/pull/1284\">(#1284)</a>: <em>remove appendix and use new env vars from runtime</em> by <strong><a href=\"https://github.com/bitnik\">@bitnik</a></strong> merged by <strong><a href=\"https://github.com/betatim\">@betatim</a></strong></li>\n<li><a href=\"https://github.com/jupyterhub/mybinder.org-deploy/pull/1278\">(#1278)</a>: <em>Reducing OVH quota further</em> by <strong><a href=\"https://github.com/betatim\">@betatim</a></strong> merged by <strong><a href=\"https://github.com/betatim\">@betatim</a></strong></li>\n<li><a href=\"https://github.com/jupyterhub/mybinder.org-deploy/pull/1276\">(#1276)</a>: <em>Revert \"Migrating to cert-manager: Step 1 - adding new config files\"</em> by <strong><a href=\"https://github.com/sgibson91\">@sgibson91</a></strong> merged by <strong><a href=\"https://github.com/sgibson91\">@sgibson91</a></strong></li>\n<li><a href=\"https://github.com/jupyterhub/mybinder.org-deploy/pull/1275\">(#1275)</a>: <em>Revert \"Fixing CI by adding cert-manager helm repo\"</em> by <strong><a href=\"https://github.com/sgibson91\">@sgibson91</a></strong> merged by <strong><a href=\"https://github.com/sgibson91\">@sgibson91</a></strong></li>\n<li><a href=\"https://github.com/jupyterhub/mybinder.org-deploy/pull/1274\">(#1274)</a>: <em>Fixing CI by adding cert-manager helm repo</em> by <strong><a href=\"https://github.com/sgibson91\">@sgibson91</a></strong> merged by <strong><a href=\"https://github.com/sgibson91\">@sgibson91</a></strong></li>\n<li><a href=\"https://github.com/jupyterhub/mybinder.org-deploy/pull/1273\">(#1273)</a>: <em>Migrating to cert-manager: Step 1 - adding new config files</em> by <strong><a href=\"https://github.com/sgibson91\">@sgibson91</a></strong> merged by <strong><a href=\"https://github.com/sgibson91\">@sgibson91</a></strong></li>\n<li><a href=\"https://github.com/jupyterhub/mybinder.org-deploy/pull/1272\">(#1272)</a>: <em>Manually update version tag</em> by <strong><a href=\"https://github.com/betatim\">@betatim</a></strong> merged by <strong><a href=\"https://github.com/betatim\">@betatim</a></strong></li>\n<li><a href=\"https://github.com/jupyterhub/mybinder.org-deploy/pull/1267\">(#1267)</a>: <em>Reduce OVH quota</em> by <strong><a href=\"https://github.com/betatim\">@betatim</a></strong> merged by <strong><a href=\"https://github.com/betatim\">@betatim</a></strong></li>\n<li><a href=\"https://github.com/jupyterhub/mybinder.org-deploy/pull/1266\">(#1266)</a>: <em>Fix typo</em> by <strong><a href=\"https://github.com/betatim\">@betatim</a></strong> merged by <strong><a href=\"https://github.com/betatim\">@betatim</a></strong></li>\n<li><a href=\"https://github.com/jupyterhub/mybinder.org-deploy/pull/1265\">(#1265)</a>: <em>Remove tag/branch/SHA from consideration for cluster assignment</em> by <strong><a href=\"https://github.com/betatim\">@betatim</a></strong> merged by <strong><a href=\"https://github.com/betatim\">@betatim</a></strong></li>\n<li><a href=\"https://github.com/jupyterhub/mybinder.org-deploy/pull/1264\">(#1264)</a>: <em>Fix fat finger key delete</em> by <strong><a href=\"https://github.com/betatim\">@betatim</a></strong> merged by <strong><a href=\"https://github.com/betatim\">@betatim</a></strong></li>\n<li><a href=\"https://github.com/jupyterhub/mybinder.org-deploy/pull/1263\">(#1263)</a>: <em>Gesis is back in the federation, quota has been set to 120</em> by <strong><a href=\"https://github.com/betatim\">@betatim</a></strong> merged by <strong><a href=\"https://github.com/betatim\">@betatim</a></strong></li>\n<li><a href=\"https://github.com/jupyterhub/mybinder.org-deploy/pull/1262\">(#1262)</a>: <em>Add new load balancing algorithm for federation proxy</em> by <strong><a href=\"https://github.com/betatim\">@betatim</a></strong> merged by <strong><a href=\"https://github.com/betatim\">@betatim</a></strong></li>\n<li><a href=\"https://github.com/jupyterhub/mybinder.org-deploy/pull/1259\">(#1259)</a>: <em>[MRG] Enable translation Jinja extension for old notebooks</em> by <strong><a href=\"https://github.com/betatim\">@betatim</a></strong> merged by <strong><a href=\"https://github.com/betatim\">@betatim</a></strong></li>\n<li><a href=\"https://github.com/jupyterhub/mybinder.org-deploy/pull/1258\">(#1258)</a>: <em>fixing rtd install</em> by <strong><a href=\"https://github.com/choldgraf\">@choldgraf</a></strong> merged by <strong><a href=\"https://github.com/choldgraf\">@choldgraf</a></strong></li>\n<li><a href=\"https://github.com/jupyterhub/mybinder.org-deploy/pull/1256\">(#1256)</a>: <em>Revert \"Reduce OVH weight\"</em> by <strong><a href=\"https://github.com/betatim\">@betatim</a></strong> merged by <strong><a href=\"https://github.com/betatim\">@betatim</a></strong></li>\n<li><a href=\"https://github.com/jupyterhub/mybinder.org-deploy/pull/1255\">(#1255)</a>: <em>Ban another IP used by hashvault.pro</em> by <strong><a href=\"https://github.com/betatim\">@betatim</a></strong> merged by <strong><a href=\"https://github.com/betatim\">@betatim</a></strong></li>\n<li><a href=\"https://github.com/jupyterhub/mybinder.org-deploy/pull/1253\">(#1253)</a>: <em>Reduce OVH weight</em> by <strong><a href=\"https://github.com/betatim\">@betatim</a></strong> merged by <strong><a href=\"https://github.com/betatim\">@betatim</a></strong></li>\n<li><a href=\"https://github.com/jupyterhub/mybinder.org-deploy/pull/1252\">(#1252)</a>: <em>Increase nginx-ingress replicas</em> by <strong><a href=\"https://github.com/betatim\">@betatim</a></strong> merged by <strong><a href=\"https://github.com/betatim\">@betatim</a></strong></li>\n<li><a href=\"https://github.com/jupyterhub/mybinder.org-deploy/pull/1251\">(#1251)</a>: <em>Use GESIS Notebooks in the banner message</em> by <strong><a href=\"https://github.com/arnim\">@arnim</a></strong> merged by <strong><a href=\"https://github.com/betatim\">@betatim</a></strong></li>\n<li><a href=\"https://github.com/jupyterhub/mybinder.org-deploy/pull/1250\">(#1250)</a>: <em>Revert \"compatibility with notebook &lt; 5.1.0\"</em> by <strong><a href=\"https://github.com/betatim\">@betatim</a></strong> merged by <strong><a href=\"https://github.com/betatim\">@betatim</a></strong></li>\n<li><a href=\"https://github.com/jupyterhub/mybinder.org-deploy/pull/1249\">(#1249)</a>: <em>more general banner message</em> by <strong><a href=\"https://github.com/arnim\">@arnim</a></strong> merged by <strong><a href=\"https://github.com/betatim\">@betatim</a></strong></li>\n<li><a href=\"https://github.com/jupyterhub/mybinder.org-deploy/pull/1248\">(#1248)</a>: <em>Add GESIS to the banner</em> by <strong><a href=\"https://github.com/betatim\">@betatim</a></strong> merged by <strong><a href=\"https://github.com/betatim\">@betatim</a></strong></li>\n<li><a href=\"https://github.com/jupyterhub/mybinder.org-deploy/pull/1247\">(#1247)</a>: <em>compatibility with notebook &lt; 5.1.0</em> by <strong><a href=\"https://github.com/btel\">@btel</a></strong> merged by <strong><a href=\"https://github.com/betatim\">@betatim</a></strong></li>\n<li><a href=\"https://github.com/jupyterhub/mybinder.org-deploy/pull/1246\">(#1246)</a>: <em>increase weight of GESIS to 15</em> by <strong><a href=\"https://github.com/bitnik\">@bitnik</a></strong> merged by <strong><a href=\"https://github.com/betatim\">@betatim</a></strong></li>\n<li><a href=\"https://github.com/jupyterhub/mybinder.org-deploy/pull/1243\">(#1243)</a>: <em>improving info on federation page</em> by <strong><a href=\"https://github.com/choldgraf\">@choldgraf</a></strong> merged by <strong><a href=\"https://github.com/choldgraf\">@choldgraf</a></strong></li>\n<li><a href=\"https://github.com/jupyterhub/mybinder.org-deploy/pull/1242\">(#1242)</a>: <em>updating to pandas docs theme</em> by <strong><a href=\"https://github.com/choldgraf\">@choldgraf</a></strong> merged by <strong><a href=\"https://github.com/betatim\">@betatim</a></strong></li>\n<li><a href=\"https://github.com/jupyterhub/mybinder.org-deploy/pull/1241\">(#1241)</a>: <em>Fix pod antiaffinity spec, add unschedulable toleration</em> by <strong><a href=\"https://github.com/betatim\">@betatim</a></strong> merged by <strong><a href=\"https://github.com/betatim\">@betatim</a></strong></li>\n</ul>\n<h5><a href=\"https://github.com/jupyterhub/nbgitpuller\">jupyterhub/nbgitpuller</a></h5>\n<ul>\n<li><a href=\"https://github.com/jupyterhub/nbgitpuller/pull/112\">(#112)</a>: <em>Update version.</em> by <strong><a href=\"https://github.com/ryanlovett\">@ryanlovett</a></strong> merged by <strong><a href=\"https://github.com/ryanlovett\">@ryanlovett</a></strong></li>\n<li><a href=\"https://github.com/jupyterhub/nbgitpuller/pull/111\">(#111)</a>: <em>Made the checkout from the reset_deleted_files to use the origin.</em> by <strong><a href=\"https://github.com/albertmichaelj\">@albertmichaelj</a></strong> merged by <strong><a href=\"https://github.com/yuvipanda\">@yuvipanda</a></strong></li>\n</ul>\n<h5><a href=\"https://github.com/jupyterhub/oauthenticator\">jupyterhub/oauthenticator</a></h5>\n<ul>\n<li><a href=\"https://github.com/jupyterhub/oauthenticator/pull/310\">(#310)</a>: <em>Fixed content index in readme, and fixed typo in comments</em> by <strong><a href=\"https://github.com/linkcd\">@linkcd</a></strong> merged by <strong><a href=\"https://github.com/consideRatio\">@consideRatio</a></strong></li>\n<li><a href=\"https://github.com/jupyterhub/oauthenticator/pull/308\">(#308)</a>: <em>Add changelog for 0.10.0</em> by <strong><a href=\"https://github.com/consideRatio\">@consideRatio</a></strong> merged by <strong><a href=\"https://github.com/consideRatio\">@consideRatio</a></strong></li>\n<li><a href=\"https://github.com/jupyterhub/oauthenticator/pull/307\">(#307)</a>: <em>Add AzureAdB2COAuthenticator (AzureAdB2COAuthenticator)</em> by <strong><a href=\"https://github.com/linkcd\">@linkcd</a></strong> merged by <strong><a href=\"https://github.com/consideRatio\">@consideRatio</a></strong></li>\n<li><a href=\"https://github.com/jupyterhub/oauthenticator/pull/305\">(#305)</a>: <em>Support callable for GenericOAuthenticator username_key</em> by <strong><a href=\"https://github.com/eslavich\">@eslavich</a></strong> merged by <strong><a href=\"https://github.com/yuvipanda\">@yuvipanda</a></strong></li>\n<li><a href=\"https://github.com/jupyterhub/oauthenticator/pull/303\">(#303)</a>: <em>Add scopes documentation to auth0 example</em> by <strong><a href=\"https://github.com/jbradenbrown\">@jbradenbrown</a></strong> merged by <strong><a href=\"https://github.com/yuvipanda\">@yuvipanda</a></strong></li>\n<li><a href=\"https://github.com/jupyterhub/oauthenticator/pull/302\">(#302)</a>: <em>Add py3.8 for CI testing</em> by <strong><a href=\"https://github.com/consideRatio\">@consideRatio</a></strong> merged by <strong><a href=\"https://github.com/manics\">@manics</a></strong></li>\n<li><a href=\"https://github.com/jupyterhub/oauthenticator/pull/301\">(#301)</a>: <em>[MRG] Travis: Deploy releases to pypi</em> by <strong><a href=\"https://github.com/manics\">@manics</a></strong> merged by <strong><a href=\"https://github.com/consideRatio\">@consideRatio</a></strong></li>\n<li><a href=\"https://github.com/jupyterhub/oauthenticator/pull/294\">(#294)</a>: <em>Add RELEASE.md</em> by <strong><a href=\"https://github.com/consideRatio\">@consideRatio</a></strong> merged by <strong><a href=\"https://github.com/betatim\">@betatim</a></strong></li>\n</ul>\n<h5><a href=\"https://github.com/jupyterhub/outreachy\">jupyterhub/outreachy</a></h5>\n<ul>\n<li><a href=\"https://github.com/jupyterhub/outreachy/pull/35\">(#35)</a>: <em>Bump jupyterhub from 0.9.4 to 0.9.6</em> by <strong><a href=\"https://github.com/dependabot\">@dependabot</a></strong> merged by <strong><a href=\"https://github.com/choldgraf\">@choldgraf</a></strong></li>\n</ul>\n<h5><a href=\"https://github.com/jupyterhub/team-compass\">jupyterhub/team-compass</a></h5>\n<ul>\n<li><a href=\"https://github.com/jupyterhub/team-compass/pull/230\">(#230)</a>: <em>The first standard building block: Readme badges</em> by <strong><a href=\"https://github.com/consideRatio\">@consideRatio</a></strong> merged by <strong><a href=\"https://github.com/betatim\">@betatim</a></strong></li>\n<li><a href=\"https://github.com/jupyterhub/team-compass/pull/229\">(#229)</a>: <em>adding simon to team</em> by <strong><a href=\"https://github.com/choldgraf\">@choldgraf</a></strong> merged by <strong><a href=\"https://github.com/choldgraf\">@choldgraf</a></strong></li>\n<li><a href=\"https://github.com/jupyterhub/team-compass/pull/226\">(#226)</a>: <em>adding SRE badge to readme</em> by <strong><a href=\"https://github.com/choldgraf\">@choldgraf</a></strong> merged by <strong><a href=\"https://github.com/choldgraf\">@choldgraf</a></strong></li>\n<li><a href=\"https://github.com/jupyterhub/team-compass/pull/222\">(#222)</a>: <em>updating logo</em> by <strong><a href=\"https://github.com/choldgraf\">@choldgraf</a></strong> merged by <strong><a href=\"https://github.com/betatim\">@betatim</a></strong></li>\n<li><a href=\"https://github.com/jupyterhub/team-compass/pull/221\">(#221)</a>: <em>Switching to pandas theme</em> by <strong><a href=\"https://github.com/choldgraf\">@choldgraf</a></strong> merged by <strong><a href=\"https://github.com/betatim\">@betatim</a></strong></li>\n</ul>\n<h5><a href=\"https://github.com/jupyterhub/the-littlest-jupyterhub\">jupyterhub/the-littlest-jupyterhub</a></h5>\n<ul>\n<li><a href=\"https://github.com/jupyterhub/the-littlest-jupyterhub/pull/460\">(#460)</a>: <em>installation failed due to no python3-dev packages</em> by <strong><a href=\"https://github.com/afonit\">@afonit</a></strong> merged by <strong><a href=\"https://github.com/yuvipanda\">@yuvipanda</a></strong></li>\n</ul>\n<h5><a href=\"https://github.com/jupyterhub/zero-to-jupyterhub-k8s\">jupyterhub/zero-to-jupyterhub-k8s</a></h5>\n<ul>\n<li><a href=\"https://github.com/jupyterhub/zero-to-jupyterhub-k8s/pull/1502\">(#1502)</a>: <em>Bump kubespawner for spawner progress bugfix</em> by <strong><a href=\"https://github.com/consideRatio\">@consideRatio</a></strong> merged by <strong><a href=\"https://github.com/consideRatio\">@consideRatio</a></strong></li>\n<li><a href=\"https://github.com/jupyterhub/zero-to-jupyterhub-k8s/pull/1488\">(#1488)</a>: <em>Fix broken link in architecture.rst</em> by <strong><a href=\"https://github.com/amcnicho\">@amcnicho</a></strong> merged by <strong><a href=\"https://github.com/consideRatio\">@consideRatio</a></strong></li>\n<li><a href=\"https://github.com/jupyterhub/zero-to-jupyterhub-k8s/pull/1487\">(#1487)</a>: <em>Bump kind to 0.6.0 and kindest/node versions</em> by <strong><a href=\"https://github.com/clkao\">@clkao</a></strong> merged by <strong><a href=\"https://github.com/consideRatio\">@consideRatio</a></strong></li>\n<li><a href=\"https://github.com/jupyterhub/zero-to-jupyterhub-k8s/pull/1485\">(#1485)</a>: <em>Avoid rate limiting for k8s resource validation</em> by <strong><a href=\"https://github.com/consideRatio\">@consideRatio</a></strong> merged by <strong><a href=\"https://github.com/consideRatio\">@consideRatio</a></strong></li>\n<li><a href=\"https://github.com/jupyterhub/zero-to-jupyterhub-k8s/pull/1484\">(#1484)</a>: <em>Update hub image dependencies and RELEASE.md regarding dependencies</em> by <strong><a href=\"https://github.com/consideRatio\">@consideRatio</a></strong> merged by <strong><a href=\"https://github.com/consideRatio\">@consideRatio</a></strong></li>\n<li><a href=\"https://github.com/jupyterhub/zero-to-jupyterhub-k8s/pull/1483\">(#1483)</a>: <em>k8s 1.16 compability - bump kube-scheduler, kubespawner, kubernetes python client, oauthenticator</em> by <strong><a href=\"https://github.com/consideRatio\">@consideRatio</a></strong> merged by <strong><a href=\"https://github.com/consideRatio\">@consideRatio</a></strong></li>\n<li><a href=\"https://github.com/jupyterhub/zero-to-jupyterhub-k8s/pull/1481\">(#1481)</a>: <em>Bump CHP to 4.2.0 - we get quicker chart upgrades now</em> by <strong><a href=\"https://github.com/consideRatio\">@consideRatio</a></strong> merged by <strong><a href=\"https://github.com/consideRatio\">@consideRatio</a></strong></li>\n<li><a href=\"https://github.com/jupyterhub/zero-to-jupyterhub-k8s/pull/1480\">(#1480)</a>: <em>[1479 ] Make probes in hub configurable</em> by <strong><a href=\"https://github.com/mrow4a\">@mrow4a</a></strong> merged by <strong><a href=\"https://github.com/consideRatio\">@consideRatio</a></strong></li>\n<li><a href=\"https://github.com/jupyterhub/zero-to-jupyterhub-k8s/pull/1478\">(#1478)</a>: <em>[1464] Move z2jh.py to python and distribution agnostic path</em> by <strong><a href=\"https://github.com/mrow4a\">@mrow4a</a></strong> merged by <strong><a href=\"https://github.com/manics\">@manics</a></strong></li>\n<li><a href=\"https://github.com/jupyterhub/zero-to-jupyterhub-k8s/pull/1473\">(#1473)</a>: <em>Bump singleuser-sample</em> by <strong><a href=\"https://github.com/consideRatio\">@consideRatio</a></strong> merged by <strong><a href=\"https://github.com/consideRatio\">@consideRatio</a></strong></li>\n<li><a href=\"https://github.com/jupyterhub/zero-to-jupyterhub-k8s/pull/1472\">(#1472)</a>: <em>Switching to the Pandas Sphinx theme</em> by <strong><a href=\"https://github.com/choldgraf\">@choldgraf</a></strong> merged by <strong><a href=\"https://github.com/consideRatio\">@consideRatio</a></strong></li>\n<li><a href=\"https://github.com/jupyterhub/zero-to-jupyterhub-k8s/pull/1471\">(#1471)</a>: <em>Add vi / less to hub image</em> by <strong><a href=\"https://github.com/yuvipanda\">@yuvipanda</a></strong> merged by <strong><a href=\"https://github.com/consideRatio\">@consideRatio</a></strong></li>\n<li><a href=\"https://github.com/jupyterhub/zero-to-jupyterhub-k8s/pull/1461\">(#1461)</a>: <em>Added existing pull secrets changes from PR #1426 to schema</em> by <strong><a href=\"https://github.com/sgloutnikov\">@sgloutnikov</a></strong> merged by <strong><a href=\"https://github.com/consideRatio\">@consideRatio</a></strong></li>\n</ul>"
      }
     },
     "5a3c8b6effa948edaf10af4741c12b05": {
      "model_module": "@jupyter-widgets/controls",
      "model_module_version": "1.5.0",
      "model_name": "DescriptionStyleModel",
      "state": {
       "_model_module": "@jupyter-widgets/controls",
       "_model_module_version": "1.5.0",
       "_model_name": "DescriptionStyleModel",
       "_view_count": null,
       "_view_module": "@jupyter-widgets/base",
       "_view_module_version": "1.2.0",
       "_view_name": "StyleView",
       "description_width": ""
      }
     },
     "5bdfef8fbecf4b31ad5a6d804378e72f": {
      "model_module": "@jupyter-widgets/base",
      "model_module_version": "1.2.0",
      "model_name": "LayoutModel",
      "state": {
       "_model_module": "@jupyter-widgets/base",
       "_model_module_version": "1.2.0",
       "_model_name": "LayoutModel",
       "_view_count": null,
       "_view_module": "@jupyter-widgets/base",
       "_view_module_version": "1.2.0",
       "_view_name": "LayoutView",
       "align_content": null,
       "align_items": null,
       "align_self": null,
       "border": null,
       "bottom": null,
       "display": null,
       "flex": null,
       "flex_flow": null,
       "grid_area": null,
       "grid_auto_columns": null,
       "grid_auto_flow": null,
       "grid_auto_rows": null,
       "grid_column": null,
       "grid_gap": null,
       "grid_row": null,
       "grid_template_areas": null,
       "grid_template_columns": null,
       "grid_template_rows": null,
       "height": null,
       "justify_content": null,
       "justify_items": null,
       "left": null,
       "margin": null,
       "max_height": null,
       "max_width": null,
       "min_height": null,
       "min_width": null,
       "object_fit": null,
       "object_position": null,
       "order": null,
       "overflow": null,
       "overflow_x": null,
       "overflow_y": null,
       "padding": null,
       "right": null,
       "top": null,
       "visibility": null,
       "width": null
      }
     },
     "6c79ef9be96c4bb1a120494b4d31ebd3": {
      "model_module": "@jupyter-widgets/controls",
      "model_module_version": "1.5.0",
      "model_name": "TabModel",
      "state": {
       "_dom_classes": [],
       "_model_module": "@jupyter-widgets/controls",
       "_model_module_version": "1.5.0",
       "_model_name": "TabModel",
       "_titles": {
        "0": "binder-examples",
        "1": "ipython",
        "2": "jupyter",
        "3": "jupyter-widgets",
        "4": "jupyterhub",
        "5": "jupyterlab"
       },
       "_view_count": null,
       "_view_module": "@jupyter-widgets/controls",
       "_view_module_version": "1.5.0",
       "_view_name": "TabView",
       "box_style": "",
       "children": [
        "IPY_MODEL_7bff4953c28f49feaf4c21c34bf36b93",
        "IPY_MODEL_207bd40a35e94321aba995cf96f394ef",
        "IPY_MODEL_748ccf5c565c40c8af0563653faf8a21",
        "IPY_MODEL_1955f65c2a35492996394dcd17c7fea5",
        "IPY_MODEL_df25b26eea0447e9bca21d42092fb657",
        "IPY_MODEL_4d64c431013946b3aa9192c4bc7ee750"
       ],
       "layout": "IPY_MODEL_4ce3e62acffe4663a727bb4bee9c5e6b",
       "selected_index": 0
      }
     },
     "71cbb0da1c3f433ba40c71e98bec4b65": {
      "model_module": "@jupyter-widgets/controls",
      "model_module_version": "1.5.0",
      "model_name": "HTMLModel",
      "state": {
       "_dom_classes": [],
       "_model_module": "@jupyter-widgets/controls",
       "_model_module_version": "1.5.0",
       "_model_name": "HTMLModel",
       "_view_count": null,
       "_view_module": "@jupyter-widgets/controls",
       "_view_module_version": "1.5.0",
       "_view_name": "HTMLView",
       "description": "",
       "description_tooltip": null,
       "layout": "IPY_MODEL_3d0337757e1342e99551d24facbbfa75",
       "placeholder": "​",
       "style": "IPY_MODEL_93ae3c5f94724767b70b655a2ef265e2",
       "value": "<center><p><a href=\"https://github.com/AashitaK\">AashitaK</a> | <a href=\"https://github.com/afonit\">afonit</a> | <a href=\"https://github.com/aguinaldoabbj\">aguinaldoabbj</a> | <a href=\"https://github.com/Aisuko\">Aisuko</a> | <a href=\"https://github.com/akx\">akx</a> | <a href=\"https://github.com/albertmichaelj\">albertmichaelj</a> | <a href=\"https://github.com/alexandermichels\">alexandermichels</a> | <a href=\"https://github.com/aliceminotto\">aliceminotto</a> | <a href=\"https://github.com/amcnicho\">amcnicho</a> | <a href=\"https://github.com/andrewcheny\">andrewcheny</a> | <a href=\"https://github.com/arnavs\">arnavs</a> | <a href=\"https://github.com/arnim\">arnim</a> | <a href=\"https://github.com/arpitsri3\">arpitsri3</a> | <a href=\"https://github.com/ArtemChekunov\">ArtemChekunov</a> | <a href=\"https://github.com/bdrian\">bdrian</a> | <a href=\"https://github.com/belfhi\">belfhi</a> | <a href=\"https://github.com/benhg\">benhg</a> | <a href=\"https://github.com/BertR\">BertR</a> | <a href=\"https://github.com/betatim\">betatim</a> | <a href=\"https://github.com/bitnik\">bitnik</a> | <a href=\"https://github.com/blink1073\">blink1073</a> | <a href=\"https://github.com/bmshouse\">bmshouse</a> | <a href=\"https://github.com/bnuhero\">bnuhero</a> | <a href=\"https://github.com/brianv0\">brianv0</a> | <a href=\"https://github.com/btel\">btel</a> | <a href=\"https://github.com/Calvinxc1\">Calvinxc1</a> | <a href=\"https://github.com/charnpreetsingh\">charnpreetsingh</a> | <a href=\"https://github.com/chicocvenancio\">chicocvenancio</a> | <a href=\"https://github.com/choldgraf\">choldgraf</a> | <a href=\"https://github.com/Chrisjw42\">Chrisjw42</a> | <a href=\"https://github.com/clkao\">clkao</a> | <a href=\"https://github.com/cmd-ntrf\">cmd-ntrf</a> | <a href=\"https://github.com/cometta\">cometta</a> | <a href=\"https://github.com/complinglab\">complinglab</a> | <a href=\"https://github.com/consideRatio\">consideRatio</a> | <a href=\"https://github.com/danielballan\">danielballan</a> | <a href=\"https://github.com/davidbrochart\">davidbrochart</a> | <a href=\"https://github.com/deeduda\">deeduda</a> | <a href=\"https://github.com/dependabot\">dependabot</a> | <a href=\"https://github.com/dimitraVrs\">dimitraVrs</a> | <a href=\"https://github.com/dimm0\">dimm0</a> | <a href=\"https://github.com/djangoliv\">djangoliv</a> | <a href=\"https://github.com/dsblank\">dsblank</a> | <a href=\"https://github.com/ellisonbg\">ellisonbg</a> | <a href=\"https://github.com/eosantigen\">eosantigen</a> | <a href=\"https://github.com/eslavich\">eslavich</a> | <a href=\"https://github.com/flavionc\">flavionc</a> | <a href=\"https://github.com/frouzbeh\">frouzbeh</a> | <a href=\"https://github.com/gaebor\">gaebor</a> | <a href=\"https://github.com/GeorgianaElena\">GeorgianaElena</a> | <a href=\"https://github.com/guillaumeeb\">guillaumeeb</a> | <a href=\"https://github.com/h4818\">h4818</a> | <a href=\"https://github.com/harrybiddle\">harrybiddle</a> | <a href=\"https://github.com/HCharlie\">HCharlie</a> | <a href=\"https://github.com/hdlbq\">hdlbq</a> | <a href=\"https://github.com/henchc\">henchc</a> | <a href=\"https://github.com/hnykda\">hnykda</a> | <a href=\"https://github.com/IamViditAgarwal\">IamViditAgarwal</a> | <a href=\"https://github.com/ioben\">ioben</a> | <a href=\"https://github.com/irasnyd\">irasnyd</a> | <a href=\"https://github.com/ivan-gomes\">ivan-gomes</a> | <a href=\"https://github.com/jacobtomlinson\">jacobtomlinson</a> | <a href=\"https://github.com/jakepaw\">jakepaw</a> | <a href=\"https://github.com/jaskiratr\">jaskiratr</a> | <a href=\"https://github.com/jbradenbrown\">jbradenbrown</a> | <a href=\"https://github.com/jcrist\">jcrist</a> | <a href=\"https://github.com/jgwerner\">jgwerner</a> | <a href=\"https://github.com/jhamman\">jhamman</a> | <a href=\"https://github.com/jhegedus42\">jhegedus42</a> | <a href=\"https://github.com/jkfm\">jkfm</a> | <a href=\"https://github.com/JocelynDelalande\">JocelynDelalande</a> | <a href=\"https://github.com/JPMoresmau\">JPMoresmau</a> | <a href=\"https://github.com/jsjohnstone\">jsjohnstone</a> | <a href=\"https://github.com/jtlz2\">jtlz2</a> | <a href=\"https://github.com/jtpio\">jtpio</a> | <a href=\"https://github.com/juliusvonkohout\">juliusvonkohout</a> | <a href=\"https://github.com/ka-zo\">ka-zo</a> | <a href=\"https://github.com/konradsitarz\">konradsitarz</a> | <a href=\"https://github.com/ksbek\">ksbek</a> | <a href=\"https://github.com/kumarasenthil\">kumarasenthil</a> | <a href=\"https://github.com/linkcd\">linkcd</a> | <a href=\"https://github.com/ltetrel\">ltetrel</a> | <a href=\"https://github.com/ltupin\">ltupin</a> | <a href=\"https://github.com/lukas-koschmieder\">lukas-koschmieder</a> | <a href=\"https://github.com/lynchs61\">lynchs61</a> | <a href=\"https://github.com/mangecoeur\">mangecoeur</a> | <a href=\"https://github.com/manics\">manics</a> | <a href=\"https://github.com/manniche\">manniche</a> | <a href=\"https://github.com/mathematicalmichael\">mathematicalmichael</a> | <a href=\"https://github.com/mbmilligan\">mbmilligan</a> | <a href=\"https://github.com/mf-creator\">mf-creator</a> | <a href=\"https://github.com/minrk\">minrk</a> | <a href=\"https://github.com/mjuric\">mjuric</a> | <a href=\"https://github.com/mkjpryor-stfc\">mkjpryor-stfc</a> | <a href=\"https://github.com/moe5k\">moe5k</a> | <a href=\"https://github.com/Montereytony\">Montereytony</a> | <a href=\"https://github.com/mrachakonda\">mrachakonda</a> | <a href=\"https://github.com/mrow4a\">mrow4a</a> | <a href=\"https://github.com/mrwen00\">mrwen00</a> | <a href=\"https://github.com/muru\">muru</a> | <a href=\"https://github.com/nandanrao\">nandanrao</a> | <a href=\"https://github.com/Nelvarion\">Nelvarion</a> | <a href=\"https://github.com/nick-gibb\">nick-gibb</a> | <a href=\"https://github.com/NickolausDS\">NickolausDS</a> | <a href=\"https://github.com/nstickney\">nstickney</a> | <a href=\"https://github.com/ociule\">ociule</a> | <a href=\"https://github.com/olajir\">olajir</a> | <a href=\"https://github.com/paulnakroshis\">paulnakroshis</a> | <a href=\"https://github.com/playermanny2\">playermanny2</a> | <a href=\"https://github.com/praveenkanamarlapudi\">praveenkanamarlapudi</a> | <a href=\"https://github.com/pulponair\">pulponair</a> | <a href=\"https://github.com/Quinten-gs\">Quinten-gs</a> | <a href=\"https://github.com/rafael-ladislau\">rafael-ladislau</a> | <a href=\"https://github.com/rafalrojek\">rafalrojek</a> | <a href=\"https://github.com/rajashreetutgirl\">rajashreetutgirl</a> | <a href=\"https://github.com/rajat404\">rajat404</a> | <a href=\"https://github.com/raybellwaves\">raybellwaves</a> | <a href=\"https://github.com/rcthomas\">rcthomas</a> | <a href=\"https://github.com/rebeca-maia\">rebeca-maia</a> | <a href=\"https://github.com/rkdarst\">rkdarst</a> | <a href=\"https://github.com/rochaporto\">rochaporto</a> | <a href=\"https://github.com/rokroskar\">rokroskar</a> | <a href=\"https://github.com/rolinston4\">rolinston4</a> | <a href=\"https://github.com/rragundez\">rragundez</a> | <a href=\"https://github.com/rtadewald\">rtadewald</a> | <a href=\"https://github.com/ryanlovett\">ryanlovett</a> | <a href=\"https://github.com/ryogesh\">ryogesh</a> | <a href=\"https://github.com/samrickman\">samrickman</a> | <a href=\"https://github.com/saulshanabrook\">saulshanabrook</a> | <a href=\"https://github.com/sgibson91\">sgibson91</a> | <a href=\"https://github.com/sgloutnikov\">sgloutnikov</a> | <a href=\"https://github.com/shibbas\">shibbas</a> | <a href=\"https://github.com/silhouetted\">silhouetted</a> | <a href=\"https://github.com/snailkn\">snailkn</a> | <a href=\"https://github.com/stevegore\">stevegore</a> | <a href=\"https://github.com/stevenstetzler\">stevenstetzler</a> | <a href=\"https://github.com/sunmakrules\">sunmakrules</a> | <a href=\"https://github.com/superjoebai\">superjoebai</a> | <a href=\"https://github.com/tide1994cc\">tide1994cc</a> | <a href=\"https://github.com/victorkwannearmap\">victorkwannearmap</a> | <a href=\"https://github.com/vincenzon\">vincenzon</a> | <a href=\"https://github.com/whitespaceninja\">whitespaceninja</a> | <a href=\"https://github.com/willingc\">willingc</a> | <a href=\"https://github.com/wlyu\">wlyu</a> | <a href=\"https://github.com/woowahan-jaehoon\">woowahan-jaehoon</a> | <a href=\"https://github.com/writetoneeraj\">writetoneeraj</a> | <a href=\"https://github.com/xavierliang\">xavierliang</a> | <a href=\"https://github.com/xhochy\">xhochy</a> | <a href=\"https://github.com/Yar-R\">Yar-R</a> | <a href=\"https://github.com/yarikoptic\">yarikoptic</a> | <a href=\"https://github.com/yuvipanda\">yuvipanda</a> | <a href=\"https://github.com/zhiyuli\">zhiyuli</a> | <a href=\"https://github.com/zoltan-fedor\">zoltan-fedor</a> | <a href=\"https://github.com/Zsailer\">Zsailer</a></p></center>"
      }
     },
     "748ccf5c565c40c8af0563653faf8a21": {
      "model_module": "@jupyter-widgets/controls",
      "model_module_version": "1.5.0",
      "model_name": "HTMLModel",
      "state": {
       "_dom_classes": [],
       "_model_module": "@jupyter-widgets/controls",
       "_model_module_version": "1.5.0",
       "_model_name": "HTMLModel",
       "_view_count": null,
       "_view_module": "@jupyter-widgets/controls",
       "_view_module_version": "1.5.0",
       "_view_name": "HTMLView",
       "description": "",
       "description_tooltip": null,
       "layout": "IPY_MODEL_fe4eeac8c662462ba6ef88f53b6329d0",
       "placeholder": "​",
       "style": "IPY_MODEL_27aff13c175f48798bb5e282ba3fa4ac",
       "value": "<h4>jupyter</h4>\n<h5><a href=\"https://github.com/jupyter/accessibility\">jupyter/accessibility</a></h5>\n<ul>\n<li><a href=\"https://github.com/jupyter/accessibility/issues/11\">(#11)</a>: <em>Let's propose a Jupyter Community Workshop on accessibility</em> by <strong><a href=\"https://github.com/ellisonbg\">@ellisonbg</a></strong></li>\n</ul>\n<h5><a href=\"https://github.com/jupyter/atom-notebook\">jupyter/atom-notebook</a></h5>\n<ul>\n<li><a href=\"https://github.com/jupyter/atom-notebook/issues/91\">(#91)</a>: <em>Unable to install jupyter-notebook package in Atom in MacOS Catalina</em> by <strong><a href=\"https://github.com/sreenivasanac\">@sreenivasanac</a></strong></li>\n<li><a href=\"https://github.com/jupyter/atom-notebook/issues/85\">(#85)</a>: <em>Installing “jupyter-notebook@0.0.10” failed - (windows 10) Atom 1.32.2</em> by <strong><a href=\"https://github.com/FoFo-FoSho\">@FoFo-FoSho</a></strong></li>\n</ul>\n<h5><a href=\"https://github.com/jupyter/debugger\">jupyter/debugger</a></h5>\n<ul>\n<li><a href=\"https://github.com/jupyter/debugger/issues/11\">(#11)</a>: <em>Archiving this repository</em> by <strong><a href=\"https://github.com/SylvainCorlay\">@SylvainCorlay</a></strong></li>\n</ul>\n<h5><a href=\"https://github.com/jupyter/docker-stacks\">jupyter/docker-stacks</a></h5>\n<ul>\n<li><a href=\"https://github.com/jupyter/docker-stacks/issues/963\">(#963)</a>: <em>Kernel Error with latest images on Win10 Docker for windows</em> by <strong><a href=\"https://github.com/MikaelUmaN\">@MikaelUmaN</a></strong></li>\n<li><a href=\"https://github.com/jupyter/docker-stacks/issues/962\">(#962)</a>: <em>Cant pull image (pyspark)</em> by <strong><a href=\"https://github.com/skw1990\">@skw1990</a></strong></li>\n<li><a href=\"https://github.com/jupyter/docker-stacks/issues/949\">(#949)</a>: <em>What is the password for using \"sudo apt-get install\" command?</em> by <strong><a href=\"https://github.com/blatoo\">@blatoo</a></strong></li>\n<li><a href=\"https://github.com/jupyter/docker-stacks/issues/948\">(#948)</a>: <em>Update to tensorflow 2.0</em> by <strong><a href=\"https://github.com/edurenye\">@edurenye</a></strong></li>\n</ul>\n<h5><a href=\"https://github.com/jupyter/enterprise_gateway\">jupyter/enterprise_gateway</a></h5>\n<ul>\n<li><a href=\"https://github.com/jupyter/enterprise_gateway/issues/749\">(#749)</a>: _/dev/shm shared memory expansion _ by <strong><a href=\"https://github.com/JorisJamers\">@JorisJamers</a></strong></li>\n<li><a href=\"https://github.com/jupyter/enterprise_gateway/issues/747\">(#747)</a>: <em>Adding custom kernel to EG</em> by <strong><a href=\"https://github.com/lucabem\">@lucabem</a></strong></li>\n<li><a href=\"https://github.com/jupyter/enterprise_gateway/issues/661\">(#661)</a>: <em>Users and security</em> by <strong><a href=\"https://github.com/michzimny\">@michzimny</a></strong></li>\n<li><a href=\"https://github.com/jupyter/enterprise_gateway/issues/756\">(#756)</a>: <em>Restart of the kernel does not reconnects stdin channel</em> by <strong><a href=\"https://github.com/dchirikov\">@dchirikov</a></strong></li>\n<li><a href=\"https://github.com/jupyter/enterprise_gateway/issues/491\">(#491)</a>: <em>Support running gateway with keytab</em> by <strong><a href=\"https://github.com/jcrist\">@jcrist</a></strong></li>\n</ul>\n<h5><a href=\"https://github.com/jupyter/governance\">jupyter/governance</a></h5>\n<ul>\n<li><a href=\"https://github.com/jupyter/governance/issues/71\">(#71)</a>: <em>Add some guidelines about abtaining vote in case of absence</em> by <strong><a href=\"https://github.com/damianavila\">@damianavila</a></strong></li>\n<li><a href=\"https://github.com/jupyter/governance/issues/73\">(#73)</a>: <em>Add a donate button to GitHub repositories</em> by <strong><a href=\"https://github.com/choldgraf\">@choldgraf</a></strong></li>\n</ul>\n<h5><a href=\"https://github.com/jupyter/jupyter\">jupyter/jupyter</a></h5>\n<ul>\n<li><a href=\"https://github.com/jupyter/jupyter/issues/83\">(#83)</a>: <em>Output do not update after close and reopen the notebook page</em> by <strong><a href=\"https://github.com/oeway\">@oeway</a></strong></li>\n<li><a href=\"https://github.com/jupyter/jupyter/issues/430\">(#430)</a>: <em>Translating Official Documentation to Spanish</em> by <strong><a href=\"https://github.com/camporeale\">@camporeale</a></strong></li>\n<li><a href=\"https://github.com/jupyter/jupyter/issues/480\">(#480)</a>: <em>Cant Install jupyter</em> by <strong><a href=\"https://github.com/AdamISRx\">@AdamISRx</a></strong></li>\n<li><a href=\"https://github.com/jupyter/jupyter/issues/433\">(#433)</a>: _Apache Toree - PySpark  error _ by <strong><a href=\"https://github.com/sunnykevin19\">@sunnykevin19</a></strong></li>\n<li><a href=\"https://github.com/jupyter/jupyter/issues/270\">(#270)</a>: <em>Jupyter running wrong python kernel</em> by <strong><a href=\"https://github.com/Daniel-M\">@Daniel-M</a></strong></li>\n</ul>\n<h5><a href=\"https://github.com/jupyter/jupyter-book\">jupyter/jupyter-book</a></h5>\n<ul>\n<li><a href=\"https://github.com/jupyter/jupyter-book/issues/438\">(#438)</a>: <em>Option for excluding table of contents on a page?</em> by <strong><a href=\"https://github.com/melaniewalsh\">@melaniewalsh</a></strong></li>\n<li><a href=\"https://github.com/jupyter/jupyter-book/issues/431\">(#431)</a>: <em>latex_envs notebook extension?</em> by <strong><a href=\"https://github.com/leotrs\">@leotrs</a></strong></li>\n<li><a href=\"https://github.com/jupyter/jupyter-book/issues/427\">(#427)</a>: <em>Creating interactive cells...</em> by <strong><a href=\"https://github.com/eturvey\">@eturvey</a></strong></li>\n<li><a href=\"https://github.com/jupyter/jupyter-book/issues/440\">(#440)</a>: <em>Build Failing with Error: FileNotFoundError: [Errno 2] No such file or directory</em> by <strong><a href=\"https://github.com/drbeane\">@drbeane</a></strong></li>\n<li><a href=\"https://github.com/jupyter/jupyter-book/issues/428\">(#428)</a>: <em>jupyter-book upgrade overwrites customizations</em> by <strong><a href=\"https://github.com/joergbrech\">@joergbrech</a></strong></li>\n</ul>\n<h5><a href=\"https://github.com/jupyter/jupyter-drive\">jupyter/jupyter-drive</a></h5>\n<ul>\n<li><a href=\"https://github.com/jupyter/jupyter-drive/issues/148\">(#148)</a>: <em>This app has not been verified yet by Google in order to use Google Sign In.</em> by <strong><a href=\"https://github.com/davidh99720\">@davidh99720</a></strong></li>\n</ul>\n<h5><a href=\"https://github.com/jupyter/jupyter-sphinx\">jupyter/jupyter-sphinx</a></h5>\n<ul>\n<li><a href=\"https://github.com/jupyter/jupyter-sphinx/issues/91\">(#91)</a>: <em>Odd line spacing before/after jupyter-execute blocks with sphinx_rtd_theme</em> by <strong><a href=\"https://github.com/Rockgecko\">@Rockgecko</a></strong></li>\n<li><a href=\"https://github.com/jupyter/jupyter-sphinx/issues/90\">(#90)</a>: <em>Dollar signs when displaying sympy objects</em> by <strong><a href=\"https://github.com/jbweston\">@jbweston</a></strong></li>\n</ul>\n<h5><a href=\"https://github.com/jupyter/jupyter_client\">jupyter/jupyter_client</a></h5>\n<ul>\n<li><a href=\"https://github.com/jupyter/jupyter_client/issues/497\">(#497)</a>: <em>Can't run kernel/client when <code>sys.stdout</code> is closed.</em> by <strong><a href=\"https://github.com/jhidding\">@jhidding</a></strong></li>\n</ul>\n<h5><a href=\"https://github.com/jupyter/jupyter_console\">jupyter/jupyter_console</a></h5>\n<ul>\n<li><a href=\"https://github.com/jupyter/jupyter_console/issues/189\">(#189)</a>: <em>jupyter exit after close terminal</em> by <strong><a href=\"https://github.com/ManPython\">@ManPython</a></strong></li>\n</ul>\n<h5><a href=\"https://github.com/jupyter/jupyter_core\">jupyter/jupyter_core</a></h5>\n<ul>\n<li><a href=\"https://github.com/jupyter/jupyter_core/issues/160\">(#160)</a>: <em>Feature request: jupyter command searches in Python's \"scripts\" directory for subcommands</em> by <strong><a href=\"https://github.com/pfmoore\">@pfmoore</a></strong></li>\n</ul>\n<h5><a href=\"https://github.com/jupyter/jupyter_server\">jupyter/jupyter_server</a></h5>\n<ul>\n<li><a href=\"https://github.com/jupyter/jupyter_server/issues/126\">(#126)</a>: <em>Jupyter Server Meeting Minutes</em> by <strong><a href=\"https://github.com/Zsailer\">@Zsailer</a></strong></li>\n<li><a href=\"https://github.com/jupyter/jupyter_server/issues/111\">(#111)</a>: <em>Jupyter Server weekly meetings</em> by <strong><a href=\"https://github.com/Zsailer\">@Zsailer</a></strong></li>\n</ul>\n<h5><a href=\"https://github.com/jupyter/kernel_gateway\">jupyter/kernel_gateway</a></h5>\n<ul>\n<li><a href=\"https://github.com/jupyter/kernel_gateway/issues/328\">(#328)</a>: <em>Timeout after 120 seconds in long job</em> by <strong><a href=\"https://github.com/argenisleon\">@argenisleon</a></strong></li>\n</ul>\n<h5><a href=\"https://github.com/jupyter/nbconvert\">jupyter/nbconvert</a></h5>\n<ul>\n<li><a href=\"https://github.com/jupyter/nbconvert/issues/1045\">(#1045)</a>: <em>NBConvert 6.0 Planning</em> by <strong><a href=\"https://github.com/MSeal\">@MSeal</a></strong></li>\n<li><a href=\"https://github.com/jupyter/nbconvert/issues/1139\">(#1139)</a>: <em>Per NB nbconvert configuration in metadata?</em> by <strong><a href=\"https://github.com/cholmcc\">@cholmcc</a></strong></li>\n<li><a href=\"https://github.com/jupyter/nbconvert/issues/552\">(#552)</a>: <em>Pdf doesn't include images</em> by <strong><a href=\"https://github.com/xNok\">@xNok</a></strong></li>\n<li><a href=\"https://github.com/jupyter/nbconvert/issues/1137\">(#1137)</a>: <em>Remove Python 2 compatibility code</em> by <strong><a href=\"https://github.com/takluyver\">@takluyver</a></strong></li>\n</ul>\n<h5><a href=\"https://github.com/jupyter/nbdime\">jupyter/nbdime</a></h5>\n<ul>\n<li><a href=\"https://github.com/jupyter/nbdime/issues/505\">(#505)</a>: <em>Mergetool doesn't load: \"cannot have null base deleted cell\"</em> by <strong><a href=\"https://github.com/whateverforever\">@whateverforever</a></strong></li>\n<li><a href=\"https://github.com/jupyter/nbdime/issues/478\">(#478)</a>: <em>use nbdime as a clever git filter</em> by <strong><a href=\"https://github.com/qmarcou\">@qmarcou</a></strong></li>\n<li><a href=\"https://github.com/jupyter/nbdime/issues/410\">(#410)</a>: <em>how to use nbdime to only commit code cell changes?</em> by <strong><a href=\"https://github.com/stas00\">@stas00</a></strong></li>\n</ul>\n<h5><a href=\"https://github.com/jupyter/nbformat\">jupyter/nbformat</a></h5>\n<ul>\n<li><a href=\"https://github.com/jupyter/nbformat/issues/148\">(#148)</a>: <em>Add unique ID to the notebook metadata</em> by <strong><a href=\"https://github.com/betatim\">@betatim</a></strong></li>\n</ul>\n<h5><a href=\"https://github.com/jupyter/nbgrader\">jupyter/nbgrader</a></h5>\n<ul>\n<li><a href=\"https://github.com/jupyter/nbgrader/issues/1231\">(#1231)</a>: <em>Formgrader says to run the autograde command from the wrong folder</em> by <strong><a href=\"https://github.com/fredcallaway\">@fredcallaway</a></strong></li>\n<li><a href=\"https://github.com/jupyter/nbgrader/issues/1246\">(#1246)</a>: <em>nbgrader generating SQL errors around the use of the <code>sum</code> statement</em> by <strong><a href=\"https://github.com/Wildcarde\">@Wildcarde</a></strong></li>\n<li><a href=\"https://github.com/jupyter/nbgrader/issues/659\">(#659)</a>: <em>Create a JupyterHub \"exchange\" service to replace the exchange directory</em> by <strong><a href=\"https://github.com/jhamrick\">@jhamrick</a></strong></li>\n<li><a href=\"https://github.com/jupyter/nbgrader/issues/1083\">(#1083)</a>: <em>Duplicating cells results in autograding failure because of duplicate IDs, and confusing error message</em> by <strong><a href=\"https://github.com/rkdarst\">@rkdarst</a></strong></li>\n</ul>\n<h5><a href=\"https://github.com/jupyter/nbviewer\">jupyter/nbviewer</a></h5>\n<ul>\n<li><a href=\"https://github.com/jupyter/nbviewer/issues/724\">(#724)</a>: <em>nbviewer only shows first display_data element in output</em> by <strong><a href=\"https://github.com/wstomv\">@wstomv</a></strong></li>\n<li><a href=\"https://github.com/jupyter/nbviewer/issues/863\">(#863)</a>: <em>Repo and user links do not work with GHE</em> by <strong><a href=\"https://github.com/ivan-gomes\">@ivan-gomes</a></strong></li>\n</ul>\n<h5><a href=\"https://github.com/jupyter/notebook\">jupyter/notebook</a></h5>\n<ul>\n<li><a href=\"https://github.com/jupyter/notebook/issues/1175\">(#1175)</a>: <em>Cell dependency graph</em> by <strong><a href=\"https://github.com/nvdv\">@nvdv</a></strong></li>\n<li><a href=\"https://github.com/jupyter/notebook/issues/5032\">(#5032)</a>: <em>Kernel dead after new installation anaconda - juypter</em> by <strong><a href=\"https://github.com/snoksnok\">@snoksnok</a></strong></li>\n<li><a href=\"https://github.com/jupyter/notebook/issues/5024\">(#5024)</a>: <em>Jupyter Notebook Kernel Not Connecting: Connection Failed</em> by <strong><a href=\"https://github.com/toanasahmed\">@toanasahmed</a></strong></li>\n<li><a href=\"https://github.com/jupyter/notebook/issues/2435\">(#2435)</a>: <em>Autocomplete not working</em> by <strong><a href=\"https://github.com/oztalha\">@oztalha</a></strong></li>\n</ul>\n<h5><a href=\"https://github.com/jupyter/qtconsole\">jupyter/qtconsole</a></h5>\n<ul>\n<li><a href=\"https://github.com/jupyter/qtconsole/issues/389\">(#389)</a>: <em>Extremely slow startup</em> by <strong><a href=\"https://github.com/jorgenthode\">@jorgenthode</a></strong></li>\n<li><a href=\"https://github.com/jupyter/qtconsole/issues/395\">(#395)</a>: <em>Option to make %colors Linux default in config</em> by <strong><a href=\"https://github.com/ahnafalrafi\">@ahnafalrafi</a></strong></li>\n<li><a href=\"https://github.com/jupyter/qtconsole/issues/393\">(#393)</a>: <em>QtConsole fails to start since update to (Py)Qt 5.12</em> by <strong><a href=\"https://github.com/dschreij\">@dschreij</a></strong></li>\n<li><a href=\"https://github.com/jupyter/qtconsole/issues/386\">(#386)</a>: <em>Auto-scroll not working with plots</em> by <strong><a href=\"https://github.com/tarasowski\">@tarasowski</a></strong></li>\n</ul>\n<h5><a href=\"https://github.com/jupyter/repo2docker\">jupyter/repo2docker</a></h5>\n<ul>\n<li><a href=\"https://github.com/jupyter/repo2docker/issues/821\">(#821)</a>: <em>r-cran-* binaries fail to install when specifying R version in runtime.txt</em> by <strong><a href=\"https://github.com/brooksambrose\">@brooksambrose</a></strong></li>\n<li><a href=\"https://github.com/jupyter/repo2docker/issues/813\">(#813)</a>: _Problem installing R 3.5 using repo2docker _ by <strong><a href=\"https://github.com/cannin\">@cannin</a></strong></li>\n</ul>\n<h5><a href=\"https://github.com/jupyter/steering\">jupyter/steering</a></h5>\n<ul>\n<li><a href=\"https://github.com/jupyter/steering/issues/53\">(#53)</a>: <em>Jupyter Community Workshops: Round 2 notes</em> by <strong><a href=\"https://github.com/jasongrout\">@jasongrout</a></strong></li>\n</ul>\n<h5><a href=\"https://github.com/jupyter/telemetry\">jupyter/telemetry</a></h5>\n<h5><a href=\"https://github.com/jupyter/terminado\">jupyter/terminado</a></h5>\n<ul>\n<li><a href=\"https://github.com/jupyter/terminado/issues/71\">(#71)</a>: <em>Rename version <code>v</code> to something more descriptive</em> by <strong><a href=\"https://github.com/cphang99\">@cphang99</a></strong></li>\n<li><a href=\"https://github.com/jupyter/terminado/issues/66\">(#66)</a>: <em>How to connect to docker container from shell_command</em> by <strong><a href=\"https://github.com/nikhilkabbin\">@nikhilkabbin</a></strong></li>\n</ul>\n<h5><a href=\"https://github.com/jupyter/testpath\">jupyter/testpath</a></h5>\n<ul>\n<li><a href=\"https://github.com/jupyter/testpath/issues/19\">(#19)</a>: <em>Wheel of latest version on Pypi is invalid</em> by <strong><a href=\"https://github.com/fhoering\">@fhoering</a></strong></li>\n</ul>"
      }
     },
     "7bff4953c28f49feaf4c21c34bf36b93": {
      "model_module": "@jupyter-widgets/controls",
      "model_module_version": "1.5.0",
      "model_name": "HTMLModel",
      "state": {
       "_dom_classes": [],
       "_model_module": "@jupyter-widgets/controls",
       "_model_module_version": "1.5.0",
       "_model_name": "HTMLModel",
       "_view_count": null,
       "_view_module": "@jupyter-widgets/controls",
       "_view_module_version": "1.5.0",
       "_view_name": "HTMLView",
       "description": "",
       "description_tooltip": null,
       "layout": "IPY_MODEL_b097d8c54a6e4a9aad645e3c400c45ed",
       "placeholder": "​",
       "style": "IPY_MODEL_f5b7c739845e4432ba83899c8eabf8ba",
       "value": "<h4>binder-examples</h4>\n<h5><a href=\"https://github.com/binder-examples/conda\">binder-examples/conda</a></h5>\n<ul>\n<li><a href=\"https://github.com/binder-examples/conda/issues/7\">(#7)</a>: <em>Kernel dies when using tagged release v1.0</em> by <strong><a href=\"https://github.com/zepedar\">@zepedar</a></strong></li>\n</ul>\n<h5><a href=\"https://github.com/binder-examples/requirements\">binder-examples/requirements</a></h5>"
      }
     },
     "7d078f10b00d4d188187cdd592c6cc62": {
      "model_module": "@jupyter-widgets/controls",
      "model_module_version": "1.5.0",
      "model_name": "HTMLModel",
      "state": {
       "_dom_classes": [],
       "_model_module": "@jupyter-widgets/controls",
       "_model_module_version": "1.5.0",
       "_model_name": "HTMLModel",
       "_view_count": null,
       "_view_module": "@jupyter-widgets/controls",
       "_view_module_version": "1.5.0",
       "_view_name": "HTMLView",
       "description": "",
       "description_tooltip": null,
       "layout": "IPY_MODEL_7efe25b1334347179dd7605a92307825",
       "placeholder": "​",
       "style": "IPY_MODEL_b5877dd7dd3b4f64b5484e909456acd3",
       "value": "<center><p><a href=\"https://github.com/betatim\">betatim</a> | <a href=\"https://github.com/choldgraf\">choldgraf</a> | <a href=\"https://github.com/jprbelmiro\">jprbelmiro</a> | <a href=\"https://github.com/sepandms\">sepandms</a></p></center>"
      }
     },
     "7e7328e514b343deb25cec249b3c53a3": {
      "model_module": "@jupyter-widgets/base",
      "model_module_version": "1.2.0",
      "model_name": "LayoutModel",
      "state": {
       "_model_module": "@jupyter-widgets/base",
       "_model_module_version": "1.2.0",
       "_model_name": "LayoutModel",
       "_view_count": null,
       "_view_module": "@jupyter-widgets/base",
       "_view_module_version": "1.2.0",
       "_view_name": "LayoutView",
       "align_content": null,
       "align_items": null,
       "align_self": null,
       "border": null,
       "bottom": null,
       "display": null,
       "flex": null,
       "flex_flow": null,
       "grid_area": null,
       "grid_auto_columns": null,
       "grid_auto_flow": null,
       "grid_auto_rows": null,
       "grid_column": null,
       "grid_gap": null,
       "grid_row": null,
       "grid_template_areas": null,
       "grid_template_columns": null,
       "grid_template_rows": null,
       "height": null,
       "justify_content": null,
       "justify_items": null,
       "left": null,
       "margin": null,
       "max_height": null,
       "max_width": null,
       "min_height": null,
       "min_width": null,
       "object_fit": null,
       "object_position": null,
       "order": null,
       "overflow": null,
       "overflow_x": null,
       "overflow_y": null,
       "padding": null,
       "right": null,
       "top": null,
       "visibility": null,
       "width": null
      }
     },
     "7e79a70ffbe74a4c8e1ae1f601977edc": {
      "model_module": "@jupyter-widgets/controls",
      "model_module_version": "1.5.0",
      "model_name": "HTMLModel",
      "state": {
       "_dom_classes": [],
       "_model_module": "@jupyter-widgets/controls",
       "_model_module_version": "1.5.0",
       "_model_name": "HTMLModel",
       "_view_count": null,
       "_view_module": "@jupyter-widgets/controls",
       "_view_module_version": "1.5.0",
       "_view_name": "HTMLView",
       "description": "",
       "description_tooltip": null,
       "layout": "IPY_MODEL_31ab6729546541c3ab6e7184f66faf23",
       "placeholder": "​",
       "style": "IPY_MODEL_97ed38174bfd4d06bec93c96eaee19b9",
       "value": "<center><p><a href=\"https://github.com/00Kai0\">00Kai0</a> | <a href=\"https://github.com/42kun\">42kun</a> | <a href=\"https://github.com/AbdullahRafiq098\">AbdullahRafiq098</a> | <a href=\"https://github.com/abrunner73\">abrunner73</a> | <a href=\"https://github.com/AdamISRx\">AdamISRx</a> | <a href=\"https://github.com/adarsh-nl\">adarsh-nl</a> | <a href=\"https://github.com/agfunder\">agfunder</a> | <a href=\"https://github.com/ahnafalrafi\">ahnafalrafi</a> | <a href=\"https://github.com/aiden28\">aiden28</a> | <a href=\"https://github.com/ajoros\">ajoros</a> | <a href=\"https://github.com/akhmerov\">akhmerov</a> | <a href=\"https://github.com/aliniknejad\">aliniknejad</a> | <a href=\"https://github.com/alshan\">alshan</a> | <a href=\"https://github.com/AmirrMo\">AmirrMo</a> | <a href=\"https://github.com/AmSmart\">AmSmart</a> | <a href=\"https://github.com/andreafonso\">andreafonso</a> | <a href=\"https://github.com/andreqts\">andreqts</a> | <a href=\"https://github.com/anogues\">anogues</a> | <a href=\"https://github.com/anshmittal01\">anshmittal01</a> | <a href=\"https://github.com/anshumusaddi\">anshumusaddi</a> | <a href=\"https://github.com/argenisleon\">argenisleon</a> | <a href=\"https://github.com/arokem\">arokem</a> | <a href=\"https://github.com/asmca\">asmca</a> | <a href=\"https://github.com/asvetlov\">asvetlov</a> | <a href=\"https://github.com/awa5114\">awa5114</a> | <a href=\"https://github.com/awais0005\">awais0005</a> | <a href=\"https://github.com/bafflingscience\">bafflingscience</a> | <a href=\"https://github.com/baldwint\">baldwint</a> | <a href=\"https://github.com/BertR\">BertR</a> | <a href=\"https://github.com/betatim\">betatim</a> | <a href=\"https://github.com/betteridiot\">betteridiot</a> | <a href=\"https://github.com/Bidek56\">Bidek56</a> | <a href=\"https://github.com/Bill0412\">Bill0412</a> | <a href=\"https://github.com/blink1073\">blink1073</a> | <a href=\"https://github.com/bolkedebruin\">bolkedebruin</a> | <a href=\"https://github.com/bollwyvl\">bollwyvl</a> | <a href=\"https://github.com/BoPeng\">BoPeng</a> | <a href=\"https://github.com/BrenBarn\">BrenBarn</a> | <a href=\"https://github.com/brooksambrose\">brooksambrose</a> | <a href=\"https://github.com/Bugatti100Peagle\">Bugatti100Peagle</a> | <a href=\"https://github.com/Caaddss\">Caaddss</a> | <a href=\"https://github.com/cannin\">cannin</a> | <a href=\"https://github.com/Carreau\">Carreau</a> | <a href=\"https://github.com/Cartographer373\">Cartographer373</a> | <a href=\"https://github.com/cclauss\">cclauss</a> | <a href=\"https://github.com/ccordoba12\">ccordoba12</a> | <a href=\"https://github.com/cgpu\">cgpu</a> | <a href=\"https://github.com/ChandramouliBanerjee\">ChandramouliBanerjee</a> | <a href=\"https://github.com/choldgraf\">choldgraf</a> | <a href=\"https://github.com/cholmcc\">cholmcc</a> | <a href=\"https://github.com/choyan\">choyan</a> | <a href=\"https://github.com/clapierre\">clapierre</a> | <a href=\"https://github.com/cocoaaa\">cocoaaa</a> | <a href=\"https://github.com/consideRatio\">consideRatio</a> | <a href=\"https://github.com/cycomachead\">cycomachead</a> | <a href=\"https://github.com/dalthviz\">dalthviz</a> | <a href=\"https://github.com/damianavila\">damianavila</a> | <a href=\"https://github.com/davidanthoff\">davidanthoff</a> | <a href=\"https://github.com/davidbrochart\">davidbrochart</a> | <a href=\"https://github.com/davidhalter\">davidhalter</a> | <a href=\"https://github.com/davidnero\">davidnero</a> | <a href=\"https://github.com/dbrucknr\">dbrucknr</a> | <a href=\"https://github.com/dchirikov\">dchirikov</a> | <a href=\"https://github.com/dikshyam\">dikshyam</a> | <a href=\"https://github.com/DominiqueMakowski\">DominiqueMakowski</a> | <a href=\"https://github.com/dps42\">dps42</a> | <a href=\"https://github.com/drbeane\">drbeane</a> | <a href=\"https://github.com/dschreij\">dschreij</a> | <a href=\"https://github.com/dustinormond\">dustinormond</a> | <a href=\"https://github.com/echarles\">echarles</a> | <a href=\"https://github.com/edurenye\">edurenye</a> | <a href=\"https://github.com/EFanZh\">EFanZh</a> | <a href=\"https://github.com/eg7eg7\">eg7eg7</a> | <a href=\"https://github.com/eileencho\">eileencho</a> | <a href=\"https://github.com/ellisonbg\">ellisonbg</a> | <a href=\"https://github.com/emdupre\">emdupre</a> | <a href=\"https://github.com/enisnazif\">enisnazif</a> | <a href=\"https://github.com/entmike\">entmike</a> | <a href=\"https://github.com/eramey16\">eramey16</a> | <a href=\"https://github.com/eturvey\">eturvey</a> | <a href=\"https://github.com/FeFiFoFu\">FeFiFoFu</a> | <a href=\"https://github.com/fhoering\">fhoering</a> | <a href=\"https://github.com/fidelram\">fidelram</a> | <a href=\"https://github.com/flixr\">flixr</a> | <a href=\"https://github.com/fredcallaway\">fredcallaway</a> | <a href=\"https://github.com/gabrielplicks\">gabrielplicks</a> | <a href=\"https://github.com/gloriamacia\">gloriamacia</a> | <a href=\"https://github.com/gokgozf\">gokgozf</a> | <a href=\"https://github.com/gregcaporaso\">gregcaporaso</a> | <a href=\"https://github.com/grst\">grst</a> | <a href=\"https://github.com/gureckis\">gureckis</a> | <a href=\"https://github.com/HanTeo\">HanTeo</a> | <a href=\"https://github.com/haobibo\">haobibo</a> | <a href=\"https://github.com/Hoeze\">Hoeze</a> | <a href=\"https://github.com/hritik112\">hritik112</a> | <a href=\"https://github.com/icks\">icks</a> | <a href=\"https://github.com/icmpnorequest\">icmpnorequest</a> | <a href=\"https://github.com/idanrichman\">idanrichman</a> | <a href=\"https://github.com/impact27\">impact27</a> | <a href=\"https://github.com/indeets-vasily\">indeets-vasily</a> | <a href=\"https://github.com/ismailtokmak\">ismailtokmak</a> | <a href=\"https://github.com/istavnit\">istavnit</a> | <a href=\"https://github.com/itsermin\">itsermin</a> | <a href=\"https://github.com/ivan-gomes\">ivan-gomes</a> | <a href=\"https://github.com/jackexu\">jackexu</a> | <a href=\"https://github.com/jacksonloper\">jacksonloper</a> | <a href=\"https://github.com/jasongrout\">jasongrout</a> | <a href=\"https://github.com/jbweston\">jbweston</a> | <a href=\"https://github.com/jelmd\">jelmd</a> | <a href=\"https://github.com/jhamrick\">jhamrick</a> | <a href=\"https://github.com/jhidding\">jhidding</a> | <a href=\"https://github.com/JianghuiDu\">JianghuiDu</a> | <a href=\"https://github.com/jishanshaikh4\">jishanshaikh4</a> | <a href=\"https://github.com/jismyseban\">jismyseban</a> | <a href=\"https://github.com/jjangsangy\">jjangsangy</a> | <a href=\"https://github.com/joergbrech\">joergbrech</a> | <a href=\"https://github.com/JohanMabille\">JohanMabille</a> | <a href=\"https://github.com/jonbannister\">jonbannister</a> | <a href=\"https://github.com/jorgenthode\">jorgenthode</a> | <a href=\"https://github.com/JorisJamers\">JorisJamers</a> | <a href=\"https://github.com/joy-rosie\">joy-rosie</a> | <a href=\"https://github.com/jpmurillo\">jpmurillo</a> | <a href=\"https://github.com/juankikushima\">juankikushima</a> | <a href=\"https://github.com/jubick1337\">jubick1337</a> | <a href=\"https://github.com/justin3687\">justin3687</a> | <a href=\"https://github.com/jvican\">jvican</a> | <a href=\"https://github.com/kalanaej\">kalanaej</a> | <a href=\"https://github.com/KaramAbuaisha\">KaramAbuaisha</a> | <a href=\"https://github.com/Keraldi\">Keraldi</a> | <a href=\"https://github.com/kevin-bates\">kevin-bates</a> | <a href=\"https://github.com/KingDarBoja\">KingDarBoja</a> | <a href=\"https://github.com/kiranbaradur\">kiranbaradur</a> | <a href=\"https://github.com/Kitty1989\">Kitty1989</a> | <a href=\"https://github.com/krinsman\">krinsman</a> | <a href=\"https://github.com/kunalchandan\">kunalchandan</a> | <a href=\"https://github.com/kynan\">kynan</a> | <a href=\"https://github.com/LACoderDeBH\">LACoderDeBH</a> | <a href=\"https://github.com/laholmes\">laholmes</a> | <a href=\"https://github.com/larsmathuseck\">larsmathuseck</a> | <a href=\"https://github.com/leotrs\">leotrs</a> | <a href=\"https://github.com/letmerecall\">letmerecall</a> | <a href=\"https://github.com/like5150\">like5150</a> | <a href=\"https://github.com/LobarFayzullaeva\">LobarFayzullaeva</a> | <a href=\"https://github.com/lodagro\">lodagro</a> | <a href=\"https://github.com/lokeshkumarn\">lokeshkumarn</a> | <a href=\"https://github.com/Lostigli\">Lostigli</a> | <a href=\"https://github.com/Lrakotoson\">Lrakotoson</a> | <a href=\"https://github.com/lresende\">lresende</a> | <a href=\"https://github.com/lu-kas\">lu-kas</a> | <a href=\"https://github.com/lucabem\">lucabem</a> | <a href=\"https://github.com/m2-farzan\">m2-farzan</a> | <a href=\"https://github.com/maartenbreddels\">maartenbreddels</a> | <a href=\"https://github.com/maddukurisrinivasarao\">maddukurisrinivasarao</a> | <a href=\"https://github.com/manics\">manics</a> | <a href=\"https://github.com/ManPython\">ManPython</a> | <a href=\"https://github.com/MariaValentina12\">MariaValentina12</a> | <a href=\"https://github.com/martinfleis\">martinfleis</a> | <a href=\"https://github.com/martinzugnoni\">martinzugnoni</a> | <a href=\"https://github.com/maveme\">maveme</a> | <a href=\"https://github.com/mbbroberg\">mbbroberg</a> | <a href=\"https://github.com/meeseeksdev\">meeseeksdev</a> | <a href=\"https://github.com/melaniewalsh\">melaniewalsh</a> | <a href=\"https://github.com/MestreLion\">MestreLion</a> | <a href=\"https://github.com/mfrata\">mfrata</a> | <a href=\"https://github.com/michalc\">michalc</a> | <a href=\"https://github.com/MikaelUmaN\">MikaelUmaN</a> | <a href=\"https://github.com/minrk\">minrk</a> | <a href=\"https://github.com/mlabarrere\">mlabarrere</a> | <a href=\"https://github.com/mrtpk\">mrtpk</a> | <a href=\"https://github.com/MSeal\">MSeal</a> | <a href=\"https://github.com/n59e11\">n59e11</a> | <a href=\"https://github.com/naono-git\">naono-git</a> | <a href=\"https://github.com/nataliemur26\">nataliemur26</a> | <a href=\"https://github.com/NatalieThurlby\">NatalieThurlby</a> | <a href=\"https://github.com/nguyen14ck\">nguyen14ck</a> | <a href=\"https://github.com/nickurak\">nickurak</a> | <a href=\"https://github.com/niko-gallo\">niko-gallo</a> | <a href=\"https://github.com/nilunima\">nilunima</a> | <a href=\"https://github.com/njapke\">njapke</a> | <a href=\"https://github.com/nklever\">nklever</a> | <a href=\"https://github.com/nohaj\">nohaj</a> | <a href=\"https://github.com/nozebacle\">nozebacle</a> | <a href=\"https://github.com/nthiery\">nthiery</a> | <a href=\"https://github.com/nuest\">nuest</a> | <a href=\"https://github.com/obestwalter\">obestwalter</a> | <a href=\"https://github.com/ociule\">ociule</a> | <a href=\"https://github.com/OussemaZaier\">OussemaZaier</a> | <a href=\"https://github.com/parente\">parente</a> | <a href=\"https://github.com/Patil2099\">Patil2099</a> | <a href=\"https://github.com/pedrovgp\">pedrovgp</a> | <a href=\"https://github.com/perllaghu\">perllaghu</a> | <a href=\"https://github.com/pfmoore\">pfmoore</a> | <a href=\"https://github.com/pgierz\">pgierz</a> | <a href=\"https://github.com/philastrophist\">philastrophist</a> | <a href=\"https://github.com/pkerpedjiev\">pkerpedjiev</a> | <a href=\"https://github.com/pkumar-a\">pkumar-a</a> | <a href=\"https://github.com/PointCloudNiphon\">PointCloudNiphon</a> | <a href=\"https://github.com/prfraanje\">prfraanje</a> | <a href=\"https://github.com/prof-lupin\">prof-lupin</a> | <a href=\"https://github.com/pwuertz\">pwuertz</a> | <a href=\"https://github.com/pylang\">pylang</a> | <a href=\"https://github.com/q2apro\">q2apro</a> | <a href=\"https://github.com/qjtongkai\">qjtongkai</a> | <a href=\"https://github.com/qmarcou\">qmarcou</a> | <a href=\"https://github.com/qntnrbns\">qntnrbns</a> | <a href=\"https://github.com/rafaelgdp\">rafaelgdp</a> | <a href=\"https://github.com/rafiulgits\">rafiulgits</a> | <a href=\"https://github.com/rgbkrk\">rgbkrk</a> | <a href=\"https://github.com/rkdarst\">rkdarst</a> | <a href=\"https://github.com/Rockgecko\">Rockgecko</a> | <a href=\"https://github.com/rolweber\">rolweber</a> | <a href=\"https://github.com/rubik\">rubik</a> | <a href=\"https://github.com/Ruv7\">Ruv7</a> | <a href=\"https://github.com/SatyamGaba\">SatyamGaba</a> | <a href=\"https://github.com/schadalapaka\">schadalapaka</a> | <a href=\"https://github.com/scottyhq\">scottyhq</a> | <a href=\"https://github.com/seanpue\">seanpue</a> | <a href=\"https://github.com/SebastianSager\">SebastianSager</a> | <a href=\"https://github.com/Sefriol\">Sefriol</a> | <a href=\"https://github.com/shawngiese\">shawngiese</a> | <a href=\"https://github.com/shevelevs\">shevelevs</a> | <a href=\"https://github.com/ShindeSneha\">ShindeSneha</a> | <a href=\"https://github.com/shivam1702\">shivam1702</a> | <a href=\"https://github.com/Shuai-Xie\">Shuai-Xie</a> | <a href=\"https://github.com/shuichiro-makigaki\">shuichiro-makigaki</a> | <a href=\"https://github.com/sid21g\">sid21g</a> | <a href=\"https://github.com/simonm3\">simonm3</a> | <a href=\"https://github.com/sinabahram\">sinabahram</a> | <a href=\"https://github.com/SKINPO-82\">SKINPO-82</a> | <a href=\"https://github.com/skw1990\">skw1990</a> | <a href=\"https://github.com/SmartInWhut\">SmartInWhut</a> | <a href=\"https://github.com/sniafas\">sniafas</a> | <a href=\"https://github.com/soerendip\">soerendip</a> | <a href=\"https://github.com/sowole-aims\">sowole-aims</a> | <a href=\"https://github.com/sreenivasanac\">sreenivasanac</a> | <a href=\"https://github.com/SrushtiRS\">SrushtiRS</a> | <a href=\"https://github.com/stevehaertel\">stevehaertel</a> | <a href=\"https://github.com/SylvainCorlay\">SylvainCorlay</a> | <a href=\"https://github.com/t-makaro\">t-makaro</a> | <a href=\"https://github.com/Tagar\">Tagar</a> | <a href=\"https://github.com/TaimoorDahar\">TaimoorDahar</a> | <a href=\"https://github.com/takluyver\">takluyver</a> | <a href=\"https://github.com/tarasowski\">tarasowski</a> | <a href=\"https://github.com/tatsuya-ogawa\">tatsuya-ogawa</a> | <a href=\"https://github.com/tawfiq3\">tawfiq3</a> | <a href=\"https://github.com/thajib\">thajib</a> | <a href=\"https://github.com/theccalderon\">theccalderon</a> | <a href=\"https://github.com/theotheo\">theotheo</a> | <a href=\"https://github.com/thorwhalen\">thorwhalen</a> | <a href=\"https://github.com/timskovjacobsen\">timskovjacobsen</a> | <a href=\"https://github.com/toanasahmed\">toanasahmed</a> | <a href=\"https://github.com/toobaz\">toobaz</a> | <a href=\"https://github.com/tovrstra\">tovrstra</a> | <a href=\"https://github.com/TrafDmitry\">TrafDmitry</a> | <a href=\"https://github.com/transifex-integration\">transifex-integration</a> | <a href=\"https://github.com/trivenigk\">trivenigk</a> | <a href=\"https://github.com/twrobinson\">twrobinson</a> | <a href=\"https://github.com/Ujjwal29\">Ujjwal29</a> | <a href=\"https://github.com/varungujarathi9\">varungujarathi9</a> | <a href=\"https://github.com/vegerot\">vegerot</a> | <a href=\"https://github.com/victornoriega\">victornoriega</a> | <a href=\"https://github.com/vidartf\">vidartf</a> | <a href=\"https://github.com/westurner\">westurner</a> | <a href=\"https://github.com/whateverforever\">whateverforever</a> | <a href=\"https://github.com/whositwhatnow\">whositwhatnow</a> | <a href=\"https://github.com/WibbletheDuck\">WibbletheDuck</a> | <a href=\"https://github.com/Wildcarde\">Wildcarde</a> | <a href=\"https://github.com/williamsdaniel888\">williamsdaniel888</a> | <a href=\"https://github.com/wilsaj\">wilsaj</a> | <a href=\"https://github.com/wish1832\">wish1832</a> | <a href=\"https://github.com/wmvanvliet\">wmvanvliet</a> | <a href=\"https://github.com/wRaq\">wRaq</a> | <a href=\"https://github.com/writesundar\">writesundar</a> | <a href=\"https://github.com/xflr6\">xflr6</a> | <a href=\"https://github.com/xh22\">xh22</a> | <a href=\"https://github.com/xuejianma\">xuejianma</a> | <a href=\"https://github.com/Yar-R\">Yar-R</a> | <a href=\"https://github.com/yomoko\">yomoko</a> | <a href=\"https://github.com/yuvipanda\">yuvipanda</a> | <a href=\"https://github.com/ZhentangHe\">ZhentangHe</a> | <a href=\"https://github.com/Zsailer\">Zsailer</a></p></center>"
      }
     },
     "7eea9bdcfab544b6b16badaae047e4f4": {
      "model_module": "@jupyter-widgets/controls",
      "model_module_version": "1.5.0",
      "model_name": "DescriptionStyleModel",
      "state": {
       "_model_module": "@jupyter-widgets/controls",
       "_model_module_version": "1.5.0",
       "_model_name": "DescriptionStyleModel",
       "_view_count": null,
       "_view_module": "@jupyter-widgets/base",
       "_view_module_version": "1.2.0",
       "_view_name": "StyleView",
       "description_width": ""
      }
     },
     "7ef7cb1120f44c89bd99db1201eb14c1": {
      "model_module": "@jupyter-widgets/controls",
      "model_module_version": "1.5.0",
      "model_name": "DescriptionStyleModel",
      "state": {
       "_model_module": "@jupyter-widgets/controls",
       "_model_module_version": "1.5.0",
       "_model_name": "DescriptionStyleModel",
       "_view_count": null,
       "_view_module": "@jupyter-widgets/base",
       "_view_module_version": "1.2.0",
       "_view_name": "StyleView",
       "description_width": ""
      }
     },
     "7efe25b1334347179dd7605a92307825": {
      "model_module": "@jupyter-widgets/base",
      "model_module_version": "1.2.0",
      "model_name": "LayoutModel",
      "state": {
       "_model_module": "@jupyter-widgets/base",
       "_model_module_version": "1.2.0",
       "_model_name": "LayoutModel",
       "_view_count": null,
       "_view_module": "@jupyter-widgets/base",
       "_view_module_version": "1.2.0",
       "_view_name": "LayoutView",
       "align_content": null,
       "align_items": null,
       "align_self": null,
       "border": null,
       "bottom": null,
       "display": null,
       "flex": null,
       "flex_flow": null,
       "grid_area": null,
       "grid_auto_columns": null,
       "grid_auto_flow": null,
       "grid_auto_rows": null,
       "grid_column": null,
       "grid_gap": null,
       "grid_row": null,
       "grid_template_areas": null,
       "grid_template_columns": null,
       "grid_template_rows": null,
       "height": null,
       "justify_content": null,
       "justify_items": null,
       "left": null,
       "margin": null,
       "max_height": null,
       "max_width": null,
       "min_height": null,
       "min_width": null,
       "object_fit": null,
       "object_position": null,
       "order": null,
       "overflow": null,
       "overflow_x": null,
       "overflow_y": null,
       "padding": null,
       "right": null,
       "top": null,
       "visibility": null,
       "width": null
      }
     },
     "7f6ae18d61b647858bce44be187d2181": {
      "model_module": "@jupyter-widgets/controls",
      "model_module_version": "1.5.0",
      "model_name": "DescriptionStyleModel",
      "state": {
       "_model_module": "@jupyter-widgets/controls",
       "_model_module_version": "1.5.0",
       "_model_name": "DescriptionStyleModel",
       "_view_count": null,
       "_view_module": "@jupyter-widgets/base",
       "_view_module_version": "1.2.0",
       "_view_name": "StyleView",
       "description_width": ""
      }
     },
     "862f1792a13f424cbc8058b8798e5c7c": {
      "model_module": "@jupyter-widgets/base",
      "model_module_version": "1.2.0",
      "model_name": "LayoutModel",
      "state": {
       "_model_module": "@jupyter-widgets/base",
       "_model_module_version": "1.2.0",
       "_model_name": "LayoutModel",
       "_view_count": null,
       "_view_module": "@jupyter-widgets/base",
       "_view_module_version": "1.2.0",
       "_view_name": "LayoutView",
       "align_content": null,
       "align_items": null,
       "align_self": null,
       "border": null,
       "bottom": null,
       "display": null,
       "flex": null,
       "flex_flow": null,
       "grid_area": null,
       "grid_auto_columns": null,
       "grid_auto_flow": null,
       "grid_auto_rows": null,
       "grid_column": null,
       "grid_gap": null,
       "grid_row": null,
       "grid_template_areas": null,
       "grid_template_columns": null,
       "grid_template_rows": null,
       "height": null,
       "justify_content": null,
       "justify_items": null,
       "left": null,
       "margin": null,
       "max_height": null,
       "max_width": null,
       "min_height": null,
       "min_width": null,
       "object_fit": null,
       "object_position": null,
       "order": null,
       "overflow": null,
       "overflow_x": null,
       "overflow_y": null,
       "padding": null,
       "right": null,
       "top": null,
       "visibility": null,
       "width": null
      }
     },
     "88fd747322d44e53b04a07c7c63f961f": {
      "model_module": "@jupyter-widgets/controls",
      "model_module_version": "1.5.0",
      "model_name": "DescriptionStyleModel",
      "state": {
       "_model_module": "@jupyter-widgets/controls",
       "_model_module_version": "1.5.0",
       "_model_name": "DescriptionStyleModel",
       "_view_count": null,
       "_view_module": "@jupyter-widgets/base",
       "_view_module_version": "1.2.0",
       "_view_name": "StyleView",
       "description_width": ""
      }
     },
     "89b8ab878e6f4b8e9cbc4492cfab2200": {
      "model_module": "@jupyter-widgets/base",
      "model_module_version": "1.2.0",
      "model_name": "LayoutModel",
      "state": {
       "_model_module": "@jupyter-widgets/base",
       "_model_module_version": "1.2.0",
       "_model_name": "LayoutModel",
       "_view_count": null,
       "_view_module": "@jupyter-widgets/base",
       "_view_module_version": "1.2.0",
       "_view_name": "LayoutView",
       "align_content": null,
       "align_items": null,
       "align_self": null,
       "border": null,
       "bottom": null,
       "display": null,
       "flex": null,
       "flex_flow": null,
       "grid_area": null,
       "grid_auto_columns": null,
       "grid_auto_flow": null,
       "grid_auto_rows": null,
       "grid_column": null,
       "grid_gap": null,
       "grid_row": null,
       "grid_template_areas": null,
       "grid_template_columns": null,
       "grid_template_rows": null,
       "height": null,
       "justify_content": null,
       "justify_items": null,
       "left": null,
       "margin": null,
       "max_height": null,
       "max_width": null,
       "min_height": null,
       "min_width": null,
       "object_fit": null,
       "object_position": null,
       "order": null,
       "overflow": null,
       "overflow_x": null,
       "overflow_y": null,
       "padding": null,
       "right": null,
       "top": null,
       "visibility": null,
       "width": null
      }
     },
     "91799f8d2f244cf8996f17c06e95b66e": {
      "model_module": "@jupyter-widgets/controls",
      "model_module_version": "1.5.0",
      "model_name": "TabModel",
      "state": {
       "_dom_classes": [],
       "_model_module": "@jupyter-widgets/controls",
       "_model_module_version": "1.5.0",
       "_model_name": "TabModel",
       "_titles": {
        "0": "binder-examples",
        "1": "ipython",
        "2": "jupyter",
        "3": "jupyter-widgets",
        "4": "jupyterhub",
        "5": "jupyterlab"
       },
       "_view_count": null,
       "_view_module": "@jupyter-widgets/controls",
       "_view_module_version": "1.5.0",
       "_view_name": "TabView",
       "box_style": "",
       "children": [
        "IPY_MODEL_7d078f10b00d4d188187cdd592c6cc62",
        "IPY_MODEL_0ef4d00440ad4e20a300a3911860fbb6",
        "IPY_MODEL_7e79a70ffbe74a4c8e1ae1f601977edc",
        "IPY_MODEL_1e2801c6afea4041b54a6a9e282c4168",
        "IPY_MODEL_71cbb0da1c3f433ba40c71e98bec4b65",
        "IPY_MODEL_cb25439434454da6aaf3b7de22d4c078"
       ],
       "layout": "IPY_MODEL_a9d8b9edf31042e5afed8df6d8bd2a75",
       "selected_index": 0
      }
     },
     "93ae3c5f94724767b70b655a2ef265e2": {
      "model_module": "@jupyter-widgets/controls",
      "model_module_version": "1.5.0",
      "model_name": "DescriptionStyleModel",
      "state": {
       "_model_module": "@jupyter-widgets/controls",
       "_model_module_version": "1.5.0",
       "_model_name": "DescriptionStyleModel",
       "_view_count": null,
       "_view_module": "@jupyter-widgets/base",
       "_view_module_version": "1.2.0",
       "_view_name": "StyleView",
       "description_width": ""
      }
     },
     "97ed38174bfd4d06bec93c96eaee19b9": {
      "model_module": "@jupyter-widgets/controls",
      "model_module_version": "1.5.0",
      "model_name": "DescriptionStyleModel",
      "state": {
       "_model_module": "@jupyter-widgets/controls",
       "_model_module_version": "1.5.0",
       "_model_name": "DescriptionStyleModel",
       "_view_count": null,
       "_view_module": "@jupyter-widgets/base",
       "_view_module_version": "1.2.0",
       "_view_name": "StyleView",
       "description_width": ""
      }
     },
     "99b81f6b72a1454983cb5264add205dd": {
      "model_module": "@jupyter-widgets/controls",
      "model_module_version": "1.5.0",
      "model_name": "DescriptionStyleModel",
      "state": {
       "_model_module": "@jupyter-widgets/controls",
       "_model_module_version": "1.5.0",
       "_model_name": "DescriptionStyleModel",
       "_view_count": null,
       "_view_module": "@jupyter-widgets/base",
       "_view_module_version": "1.2.0",
       "_view_name": "StyleView",
       "description_width": ""
      }
     },
     "9dad764ac4b74605a739c7c60c84d08a": {
      "model_module": "@jupyter-widgets/controls",
      "model_module_version": "1.5.0",
      "model_name": "DescriptionStyleModel",
      "state": {
       "_model_module": "@jupyter-widgets/controls",
       "_model_module_version": "1.5.0",
       "_model_name": "DescriptionStyleModel",
       "_view_count": null,
       "_view_module": "@jupyter-widgets/base",
       "_view_module_version": "1.2.0",
       "_view_name": "StyleView",
       "description_width": ""
      }
     },
     "a7ad87fe0b194e7088b5b261f5e08119": {
      "model_module": "@jupyter-widgets/controls",
      "model_module_version": "1.5.0",
      "model_name": "DescriptionStyleModel",
      "state": {
       "_model_module": "@jupyter-widgets/controls",
       "_model_module_version": "1.5.0",
       "_model_name": "DescriptionStyleModel",
       "_view_count": null,
       "_view_module": "@jupyter-widgets/base",
       "_view_module_version": "1.2.0",
       "_view_name": "StyleView",
       "description_width": ""
      }
     },
     "a9d8b9edf31042e5afed8df6d8bd2a75": {
      "model_module": "@jupyter-widgets/base",
      "model_module_version": "1.2.0",
      "model_name": "LayoutModel",
      "state": {
       "_model_module": "@jupyter-widgets/base",
       "_model_module_version": "1.2.0",
       "_model_name": "LayoutModel",
       "_view_count": null,
       "_view_module": "@jupyter-widgets/base",
       "_view_module_version": "1.2.0",
       "_view_name": "LayoutView",
       "align_content": null,
       "align_items": null,
       "align_self": null,
       "border": null,
       "bottom": null,
       "display": null,
       "flex": null,
       "flex_flow": null,
       "grid_area": null,
       "grid_auto_columns": null,
       "grid_auto_flow": null,
       "grid_auto_rows": null,
       "grid_column": null,
       "grid_gap": null,
       "grid_row": null,
       "grid_template_areas": null,
       "grid_template_columns": null,
       "grid_template_rows": null,
       "height": null,
       "justify_content": null,
       "justify_items": null,
       "left": null,
       "margin": null,
       "max_height": null,
       "max_width": null,
       "min_height": null,
       "min_width": null,
       "object_fit": null,
       "object_position": null,
       "order": null,
       "overflow": null,
       "overflow_x": null,
       "overflow_y": null,
       "padding": null,
       "right": null,
       "top": null,
       "visibility": null,
       "width": null
      }
     },
     "b097d8c54a6e4a9aad645e3c400c45ed": {
      "model_module": "@jupyter-widgets/base",
      "model_module_version": "1.2.0",
      "model_name": "LayoutModel",
      "state": {
       "_model_module": "@jupyter-widgets/base",
       "_model_module_version": "1.2.0",
       "_model_name": "LayoutModel",
       "_view_count": null,
       "_view_module": "@jupyter-widgets/base",
       "_view_module_version": "1.2.0",
       "_view_name": "LayoutView",
       "align_content": null,
       "align_items": null,
       "align_self": null,
       "border": null,
       "bottom": null,
       "display": null,
       "flex": null,
       "flex_flow": null,
       "grid_area": null,
       "grid_auto_columns": null,
       "grid_auto_flow": null,
       "grid_auto_rows": null,
       "grid_column": null,
       "grid_gap": null,
       "grid_row": null,
       "grid_template_areas": null,
       "grid_template_columns": null,
       "grid_template_rows": null,
       "height": null,
       "justify_content": null,
       "justify_items": null,
       "left": null,
       "margin": null,
       "max_height": null,
       "max_width": null,
       "min_height": null,
       "min_width": null,
       "object_fit": null,
       "object_position": null,
       "order": null,
       "overflow": null,
       "overflow_x": null,
       "overflow_y": null,
       "padding": null,
       "right": null,
       "top": null,
       "visibility": null,
       "width": null
      }
     },
     "b2f7b909ad394beab4caeff9c2f03199": {
      "model_module": "@jupyter-widgets/base",
      "model_module_version": "1.2.0",
      "model_name": "LayoutModel",
      "state": {
       "_model_module": "@jupyter-widgets/base",
       "_model_module_version": "1.2.0",
       "_model_name": "LayoutModel",
       "_view_count": null,
       "_view_module": "@jupyter-widgets/base",
       "_view_module_version": "1.2.0",
       "_view_name": "LayoutView",
       "align_content": null,
       "align_items": null,
       "align_self": null,
       "border": null,
       "bottom": null,
       "display": null,
       "flex": null,
       "flex_flow": null,
       "grid_area": null,
       "grid_auto_columns": null,
       "grid_auto_flow": null,
       "grid_auto_rows": null,
       "grid_column": null,
       "grid_gap": null,
       "grid_row": null,
       "grid_template_areas": null,
       "grid_template_columns": null,
       "grid_template_rows": null,
       "height": null,
       "justify_content": null,
       "justify_items": null,
       "left": null,
       "margin": null,
       "max_height": null,
       "max_width": null,
       "min_height": null,
       "min_width": null,
       "object_fit": null,
       "object_position": null,
       "order": null,
       "overflow": null,
       "overflow_x": null,
       "overflow_y": null,
       "padding": null,
       "right": null,
       "top": null,
       "visibility": null,
       "width": null
      }
     },
     "b5877dd7dd3b4f64b5484e909456acd3": {
      "model_module": "@jupyter-widgets/controls",
      "model_module_version": "1.5.0",
      "model_name": "DescriptionStyleModel",
      "state": {
       "_model_module": "@jupyter-widgets/controls",
       "_model_module_version": "1.5.0",
       "_model_name": "DescriptionStyleModel",
       "_view_count": null,
       "_view_module": "@jupyter-widgets/base",
       "_view_module_version": "1.2.0",
       "_view_name": "StyleView",
       "description_width": ""
      }
     },
     "b687fc5eeaf9497ba80b9000b5b949ac": {
      "model_module": "@jupyter-widgets/controls",
      "model_module_version": "1.5.0",
      "model_name": "DescriptionStyleModel",
      "state": {
       "_model_module": "@jupyter-widgets/controls",
       "_model_module_version": "1.5.0",
       "_model_name": "DescriptionStyleModel",
       "_view_count": null,
       "_view_module": "@jupyter-widgets/base",
       "_view_module_version": "1.2.0",
       "_view_name": "StyleView",
       "description_width": ""
      }
     },
     "c13cc66b291c47db838cd47b64ee7089": {
      "model_module": "@jupyter-widgets/base",
      "model_module_version": "1.2.0",
      "model_name": "LayoutModel",
      "state": {
       "_model_module": "@jupyter-widgets/base",
       "_model_module_version": "1.2.0",
       "_model_name": "LayoutModel",
       "_view_count": null,
       "_view_module": "@jupyter-widgets/base",
       "_view_module_version": "1.2.0",
       "_view_name": "LayoutView",
       "align_content": null,
       "align_items": null,
       "align_self": null,
       "border": null,
       "bottom": null,
       "display": null,
       "flex": null,
       "flex_flow": null,
       "grid_area": null,
       "grid_auto_columns": null,
       "grid_auto_flow": null,
       "grid_auto_rows": null,
       "grid_column": null,
       "grid_gap": null,
       "grid_row": null,
       "grid_template_areas": null,
       "grid_template_columns": null,
       "grid_template_rows": null,
       "height": null,
       "justify_content": null,
       "justify_items": null,
       "left": null,
       "margin": null,
       "max_height": null,
       "max_width": null,
       "min_height": null,
       "min_width": null,
       "object_fit": null,
       "object_position": null,
       "order": null,
       "overflow": null,
       "overflow_x": null,
       "overflow_y": null,
       "padding": null,
       "right": null,
       "top": null,
       "visibility": null,
       "width": null
      }
     },
     "c29c0ea6254a40579eb1f0ec1890fd71": {
      "model_module": "@jupyter-widgets/controls",
      "model_module_version": "1.5.0",
      "model_name": "HTMLModel",
      "state": {
       "_dom_classes": [],
       "_model_module": "@jupyter-widgets/controls",
       "_model_module_version": "1.5.0",
       "_model_name": "HTMLModel",
       "_view_count": null,
       "_view_module": "@jupyter-widgets/controls",
       "_view_module_version": "1.5.0",
       "_view_name": "HTMLView",
       "description": "",
       "description_tooltip": null,
       "layout": "IPY_MODEL_c13cc66b291c47db838cd47b64ee7089",
       "placeholder": "​",
       "style": "IPY_MODEL_1aec46da59c74ce587e08e470f125ea6",
       "value": "<h4>jupyter-widgets</h4>\n<h5><a href=\"https://github.com/jupyter-widgets/ipyleaflet\">jupyter-widgets/ipyleaflet</a></h5>\n<ul>\n<li><a href=\"https://github.com/jupyter-widgets/ipyleaflet/issues/447\">(#447)</a>: <em>marker with auto_close option</em> by <strong><a href=\"https://github.com/PBrockmann\">@PBrockmann</a></strong></li>\n<li><a href=\"https://github.com/jupyter-widgets/ipyleaflet/issues/446\">(#446)</a>: <em>Unreasonable requirement of 'id' property in GeoJSON for choropleth</em> by <strong><a href=\"https://github.com/andrhua\">@andrhua</a></strong></li>\n<li><a href=\"https://github.com/jupyter-widgets/ipyleaflet/issues/441\">(#441)</a>: <em>ipyleaflet map within ipyvuetify layout</em> by <strong><a href=\"https://github.com/gareth-j\">@gareth-j</a></strong></li>\n<li><a href=\"https://github.com/jupyter-widgets/ipyleaflet/issues/179\">(#179)</a>: <em>SplitMap with geojson shapes</em> by <strong><a href=\"https://github.com/mangecoeur\">@mangecoeur</a></strong></li>\n</ul>\n<h5><a href=\"https://github.com/jupyter-widgets/ipywidgets\">jupyter-widgets/ipywidgets</a></h5>\n<ul>\n<li><a href=\"https://github.com/jupyter-widgets/ipywidgets/issues/2623\">(#2623)</a>: <em>ipywidgets stuck at \"Loading widget...\" in JupyterLab</em> by <strong><a href=\"https://github.com/christasich\">@christasich</a></strong></li>\n<li><a href=\"https://github.com/jupyter-widgets/ipywidgets/issues/2612\">(#2612)</a>: <em>Error message not shown when using a callback!</em> by <strong><a href=\"https://github.com/alex4200\">@alex4200</a></strong></li>\n<li><a href=\"https://github.com/jupyter-widgets/ipywidgets/issues/2624\">(#2624)</a>: <em>Is it possible to create a Matplotlib graph in a cell of GridspecLayout?</em> by <strong><a href=\"https://github.com/KristianLN\">@KristianLN</a></strong></li>\n<li><a href=\"https://github.com/jupyter-widgets/ipywidgets/issues/2622\">(#2622)</a>: <em>Is it possible to create ipywidgets in a *.py file and return them to notebook to display?</em> by <strong><a href=\"https://github.com/sbonaretti\">@sbonaretti</a></strong></li>\n<li><a href=\"https://github.com/jupyter-widgets/ipywidgets/issues/2614\">(#2614)</a>: _Create new button from on_click() method OR create 2nd button during 1st button press event _ by <strong><a href=\"https://github.com/shek2994\">@shek2994</a></strong></li>\n</ul>\n<h5><a href=\"https://github.com/jupyter-widgets/jupyterlab-sidecar\">jupyter-widgets/jupyterlab-sidecar</a></h5>\n<ul>\n<li><a href=\"https://github.com/jupyter-widgets/jupyterlab-sidecar/issues/35\">(#35)</a>: <em>RuntimeError when installing jupyterlab-sidecar</em> by <strong><a href=\"https://github.com/Michael-H777\">@Michael-H777</a></strong></li>\n</ul>\n<h5><a href=\"https://github.com/jupyter-widgets/pythreejs\">jupyter-widgets/pythreejs</a></h5>\n<ul>\n<li><a href=\"https://github.com/jupyter-widgets/pythreejs/issues/262\">(#262)</a>: <em>Animate multiple objects simultaneously</em> by <strong><a href=\"https://github.com/Boomer91\">@Boomer91</a></strong></li>\n<li><a href=\"https://github.com/jupyter-widgets/pythreejs/issues/292\">(#292)</a>: <em>Directly changing multiple BufferAttribute arrays causes flickering in the renderer widget</em> by <strong><a href=\"https://github.com/sirbardo\">@sirbardo</a></strong></li>\n<li><a href=\"https://github.com/jupyter-widgets/pythreejs/issues/298\">(#298)</a>: <em>CloneArray children empty</em> by <strong><a href=\"https://github.com/gmonet\">@gmonet</a></strong></li>\n<li><a href=\"https://github.com/jupyter-widgets/pythreejs/issues/295\">(#295)</a>: <em>Add 'world' axes widget, that syncs with a scene</em> by <strong><a href=\"https://github.com/chrisjsewell\">@chrisjsewell</a></strong></li>\n</ul>"
      }
     },
     "caf9d421d04c4e999181ca6a260a372c": {
      "model_module": "@jupyter-widgets/controls",
      "model_module_version": "1.5.0",
      "model_name": "DescriptionStyleModel",
      "state": {
       "_model_module": "@jupyter-widgets/controls",
       "_model_module_version": "1.5.0",
       "_model_name": "DescriptionStyleModel",
       "_view_count": null,
       "_view_module": "@jupyter-widgets/base",
       "_view_module_version": "1.2.0",
       "_view_name": "StyleView",
       "description_width": ""
      }
     },
     "cb25439434454da6aaf3b7de22d4c078": {
      "model_module": "@jupyter-widgets/controls",
      "model_module_version": "1.5.0",
      "model_name": "HTMLModel",
      "state": {
       "_dom_classes": [],
       "_model_module": "@jupyter-widgets/controls",
       "_model_module_version": "1.5.0",
       "_model_name": "HTMLModel",
       "_view_count": null,
       "_view_module": "@jupyter-widgets/controls",
       "_view_module_version": "1.5.0",
       "_view_name": "HTMLView",
       "description": "",
       "description_tooltip": null,
       "layout": "IPY_MODEL_44f1289ebf274a98afc05138c4eab5d2",
       "placeholder": "​",
       "style": "IPY_MODEL_f2a707aae75947c18f271bd98ab990f3",
       "value": "<center><p><a href=\"https://github.com/a-j-paul\">a-j-paul</a> | <a href=\"https://github.com/aamster\">aamster</a> | <a href=\"https://github.com/acarl005\">acarl005</a> | <a href=\"https://github.com/afshin\">afshin</a> | <a href=\"https://github.com/agoose77\">agoose77</a> | <a href=\"https://github.com/ahmanPg\">ahmanPg</a> | <a href=\"https://github.com/albertmichaelj\">albertmichaelj</a> | <a href=\"https://github.com/Alexboiboi\">Alexboiboi</a> | <a href=\"https://github.com/alfonsomhc\">alfonsomhc</a> | <a href=\"https://github.com/AndrewTsao\">AndrewTsao</a> | <a href=\"https://github.com/anki-code\">anki-code</a> | <a href=\"https://github.com/ankostis\">ankostis</a> | <a href=\"https://github.com/aricooperdavis\">aricooperdavis</a> | <a href=\"https://github.com/austinbrian\">austinbrian</a> | <a href=\"https://github.com/Azurewyl\">Azurewyl</a> | <a href=\"https://github.com/b-trav\">b-trav</a> | <a href=\"https://github.com/bassio\">bassio</a> | <a href=\"https://github.com/bbennett36\">bbennett36</a> | <a href=\"https://github.com/benthayer\">benthayer</a> | <a href=\"https://github.com/billtubbs\">billtubbs</a> | <a href=\"https://github.com/blink1073\">blink1073</a> | <a href=\"https://github.com/bolinfest\">bolinfest</a> | <a href=\"https://github.com/bollwyvl\">bollwyvl</a> | <a href=\"https://github.com/borremosch\">borremosch</a> | <a href=\"https://github.com/Calvinxc1\">Calvinxc1</a> | <a href=\"https://github.com/Chet-Sheng\">Chet-Sheng</a> | <a href=\"https://github.com/choldgraf\">choldgraf</a> | <a href=\"https://github.com/chrisjsewell\">chrisjsewell</a> | <a href=\"https://github.com/cmclinton\">cmclinton</a> | <a href=\"https://github.com/cometta\">cometta</a> | <a href=\"https://github.com/damodeo\">damodeo</a> | <a href=\"https://github.com/davidlow\">davidlow</a> | <a href=\"https://github.com/ddavidebor\">ddavidebor</a> | <a href=\"https://github.com/dependabot\">dependabot</a> | <a href=\"https://github.com/dhirschfeld\">dhirschfeld</a> | <a href=\"https://github.com/dkuegler\">dkuegler</a> | <a href=\"https://github.com/domoritz\">domoritz</a> | <a href=\"https://github.com/dpatchigolla\">dpatchigolla</a> | <a href=\"https://github.com/dschaehi\">dschaehi</a> | <a href=\"https://github.com/echarles\">echarles</a> | <a href=\"https://github.com/elgravel\">elgravel</a> | <a href=\"https://github.com/ellisonbg\">ellisonbg</a> | <a href=\"https://github.com/enolfc\">enolfc</a> | <a href=\"https://github.com/fabid\">fabid</a> | <a href=\"https://github.com/fcollonval\">fcollonval</a> | <a href=\"https://github.com/fhgd\">fhgd</a> | <a href=\"https://github.com/fperez\">fperez</a> | <a href=\"https://github.com/gitjeff05\">gitjeff05</a> | <a href=\"https://github.com/gittar\">gittar</a> | <a href=\"https://github.com/gnestor\">gnestor</a> | <a href=\"https://github.com/GordonSmith\">GordonSmith</a> | <a href=\"https://github.com/groutr\">groutr</a> | <a href=\"https://github.com/Guptasweety\">Guptasweety</a> | <a href=\"https://github.com/hadim\">hadim</a> | <a href=\"https://github.com/harrybiddle\">harrybiddle</a> | <a href=\"https://github.com/ian-r-rose\">ian-r-rose</a> | <a href=\"https://github.com/ibdafna\">ibdafna</a> | <a href=\"https://github.com/jaipreet-s\">jaipreet-s</a> | <a href=\"https://github.com/jamesjnadeau\">jamesjnadeau</a> | <a href=\"https://github.com/jasongrout\">jasongrout</a> | <a href=\"https://github.com/jianboy\">jianboy</a> | <a href=\"https://github.com/jochym\">jochym</a> | <a href=\"https://github.com/JohanMabille\">JohanMabille</a> | <a href=\"https://github.com/JohnPaton\">JohnPaton</a> | <a href=\"https://github.com/jtpio\">jtpio</a> | <a href=\"https://github.com/kaiaeberli\">kaiaeberli</a> | <a href=\"https://github.com/kalvinnchau\">kalvinnchau</a> | <a href=\"https://github.com/kenjioman\">kenjioman</a> | <a href=\"https://github.com/KevinGG\">KevinGG</a> | <a href=\"https://github.com/kgryte\">kgryte</a> | <a href=\"https://github.com/kinow\">kinow</a> | <a href=\"https://github.com/kirill5pol\">kirill5pol</a> | <a href=\"https://github.com/krassowski\">krassowski</a> | <a href=\"https://github.com/krinsman\">krinsman</a> | <a href=\"https://github.com/KsavinN\">KsavinN</a> | <a href=\"https://github.com/ktaletsk\">ktaletsk</a> | <a href=\"https://github.com/kuprel\">kuprel</a> | <a href=\"https://github.com/letalvoj\">letalvoj</a> | <a href=\"https://github.com/LoudeNOUGH\">LoudeNOUGH</a> | <a href=\"https://github.com/lresende\">lresende</a> | <a href=\"https://github.com/LuisFRoch\">LuisFRoch</a> | <a href=\"https://github.com/LustigePerson\">LustigePerson</a> | <a href=\"https://github.com/ma-blaetke\">ma-blaetke</a> | <a href=\"https://github.com/macwoj\">macwoj</a> | <a href=\"https://github.com/Madhu94\">Madhu94</a> | <a href=\"https://github.com/makslevental\">makslevental</a> | <a href=\"https://github.com/mamu1232\">mamu1232</a> | <a href=\"https://github.com/marisaaquilina\">marisaaquilina</a> | <a href=\"https://github.com/markellekelly\">markellekelly</a> | <a href=\"https://github.com/mbektasbbg\">mbektasbbg</a> | <a href=\"https://github.com/mbloem\">mbloem</a> | <a href=\"https://github.com/michaelaye\">michaelaye</a> | <a href=\"https://github.com/michaelkarlcoleman\">michaelkarlcoleman</a> | <a href=\"https://github.com/michaels011235\">michaels011235</a> | <a href=\"https://github.com/minhptx\">minhptx</a> | <a href=\"https://github.com/minrk\">minrk</a> | <a href=\"https://github.com/mkjpryor-stfc\">mkjpryor-stfc</a> | <a href=\"https://github.com/mlucool\">mlucool</a> | <a href=\"https://github.com/mmaybeno\">mmaybeno</a> | <a href=\"https://github.com/moorepants\">moorepants</a> | <a href=\"https://github.com/mvonpohle\">mvonpohle</a> | <a href=\"https://github.com/n8vm\">n8vm</a> | <a href=\"https://github.com/NathanaelGandhi\">NathanaelGandhi</a> | <a href=\"https://github.com/nthiery\">nthiery</a> | <a href=\"https://github.com/NumesSanguis\">NumesSanguis</a> | <a href=\"https://github.com/onetwoview\">onetwoview</a> | <a href=\"https://github.com/oronnavon\">oronnavon</a> | <a href=\"https://github.com/owen-synergy\">owen-synergy</a> | <a href=\"https://github.com/owenlamont\">owenlamont</a> | <a href=\"https://github.com/PhilipJia\">PhilipJia</a> | <a href=\"https://github.com/phish108\">phish108</a> | <a href=\"https://github.com/plynch-chwy\">plynch-chwy</a> | <a href=\"https://github.com/Prakhar834\">Prakhar834</a> | <a href=\"https://github.com/pstaabp\">pstaabp</a> | <a href=\"https://github.com/pwsiegel\">pwsiegel</a> | <a href=\"https://github.com/qntnrbns\">qntnrbns</a> | <a href=\"https://github.com/quigleyj-mavenomics\">quigleyj-mavenomics</a> | <a href=\"https://github.com/RafalSkolasinski\">RafalSkolasinski</a> | <a href=\"https://github.com/remborg\">remborg</a> | <a href=\"https://github.com/riordan\">riordan</a> | <a href=\"https://github.com/Roald87\">Roald87</a> | <a href=\"https://github.com/RobertoMaurizzi\">RobertoMaurizzi</a> | <a href=\"https://github.com/saulshanabrook\">saulshanabrook</a> | <a href=\"https://github.com/sberglin\">sberglin</a> | <a href=\"https://github.com/sbowman-mitre\">sbowman-mitre</a> | <a href=\"https://github.com/scopatz\">scopatz</a> | <a href=\"https://github.com/scottwsides\">scottwsides</a> | <a href=\"https://github.com/seralouk\">seralouk</a> | <a href=\"https://github.com/Slimsladey2\">Slimsladey2</a> | <a href=\"https://github.com/soerendip\">soerendip</a> | <a href=\"https://github.com/songxunyu\">songxunyu</a> | <a href=\"https://github.com/stonebig\">stonebig</a> | <a href=\"https://github.com/sugatoray\">sugatoray</a> | <a href=\"https://github.com/SylvainCorlay\">SylvainCorlay</a> | <a href=\"https://github.com/tangbinh\">tangbinh</a> | <a href=\"https://github.com/telamonian\">telamonian</a> | <a href=\"https://github.com/tensorfoo\">tensorfoo</a> | <a href=\"https://github.com/tgeorgeux\">tgeorgeux</a> | <a href=\"https://github.com/thomasaarholt\">thomasaarholt</a> | <a href=\"https://github.com/timhoffm\">timhoffm</a> | <a href=\"https://github.com/timkpaine\">timkpaine</a> | <a href=\"https://github.com/TRM13\">TRM13</a> | <a href=\"https://github.com/vidartf\">vidartf</a> | <a href=\"https://github.com/vman049\">vman049</a> | <a href=\"https://github.com/vtrokhymenko\">vtrokhymenko</a> | <a href=\"https://github.com/wabiloo\">wabiloo</a> | <a href=\"https://github.com/westurner\">westurner</a> | <a href=\"https://github.com/willibix\">willibix</a> | <a href=\"https://github.com/YogiOnBioinformatics\">YogiOnBioinformatics</a> | <a href=\"https://github.com/YubinXie\">YubinXie</a> | <a href=\"https://github.com/yuvipanda\">yuvipanda</a> | <a href=\"https://github.com/zapsdus\">zapsdus</a> | <a href=\"https://github.com/zhanzy178\">zhanzy178</a> | <a href=\"https://github.com/Zireael\">Zireael</a></p></center>"
      }
     },
     "d9e0f8f56e654782977a1bd7990e1df7": {
      "model_module": "@jupyter-widgets/base",
      "model_module_version": "1.2.0",
      "model_name": "LayoutModel",
      "state": {
       "_model_module": "@jupyter-widgets/base",
       "_model_module_version": "1.2.0",
       "_model_name": "LayoutModel",
       "_view_count": null,
       "_view_module": "@jupyter-widgets/base",
       "_view_module_version": "1.2.0",
       "_view_name": "LayoutView",
       "align_content": null,
       "align_items": null,
       "align_self": null,
       "border": null,
       "bottom": null,
       "display": null,
       "flex": null,
       "flex_flow": null,
       "grid_area": null,
       "grid_auto_columns": null,
       "grid_auto_flow": null,
       "grid_auto_rows": null,
       "grid_column": null,
       "grid_gap": null,
       "grid_row": null,
       "grid_template_areas": null,
       "grid_template_columns": null,
       "grid_template_rows": null,
       "height": null,
       "justify_content": null,
       "justify_items": null,
       "left": null,
       "margin": null,
       "max_height": null,
       "max_width": null,
       "min_height": null,
       "min_width": null,
       "object_fit": null,
       "object_position": null,
       "order": null,
       "overflow": null,
       "overflow_x": null,
       "overflow_y": null,
       "padding": null,
       "right": null,
       "top": null,
       "visibility": null,
       "width": null
      }
     },
     "dc52e2b32eb04846b528ccd710118adb": {
      "model_module": "@jupyter-widgets/controls",
      "model_module_version": "1.5.0",
      "model_name": "DescriptionStyleModel",
      "state": {
       "_model_module": "@jupyter-widgets/controls",
       "_model_module_version": "1.5.0",
       "_model_name": "DescriptionStyleModel",
       "_view_count": null,
       "_view_module": "@jupyter-widgets/base",
       "_view_module_version": "1.2.0",
       "_view_name": "StyleView",
       "description_width": ""
      }
     },
     "dc8366adc445475e9bc9b62c01f0db4a": {
      "model_module": "@jupyter-widgets/base",
      "model_module_version": "1.2.0",
      "model_name": "LayoutModel",
      "state": {
       "_model_module": "@jupyter-widgets/base",
       "_model_module_version": "1.2.0",
       "_model_name": "LayoutModel",
       "_view_count": null,
       "_view_module": "@jupyter-widgets/base",
       "_view_module_version": "1.2.0",
       "_view_name": "LayoutView",
       "align_content": null,
       "align_items": null,
       "align_self": null,
       "border": null,
       "bottom": null,
       "display": null,
       "flex": null,
       "flex_flow": null,
       "grid_area": null,
       "grid_auto_columns": null,
       "grid_auto_flow": null,
       "grid_auto_rows": null,
       "grid_column": null,
       "grid_gap": null,
       "grid_row": null,
       "grid_template_areas": null,
       "grid_template_columns": null,
       "grid_template_rows": null,
       "height": null,
       "justify_content": null,
       "justify_items": null,
       "left": null,
       "margin": null,
       "max_height": null,
       "max_width": null,
       "min_height": null,
       "min_width": null,
       "object_fit": null,
       "object_position": null,
       "order": null,
       "overflow": null,
       "overflow_x": null,
       "overflow_y": null,
       "padding": null,
       "right": null,
       "top": null,
       "visibility": null,
       "width": null
      }
     },
     "df25b26eea0447e9bca21d42092fb657": {
      "model_module": "@jupyter-widgets/controls",
      "model_module_version": "1.5.0",
      "model_name": "HTMLModel",
      "state": {
       "_dom_classes": [],
       "_model_module": "@jupyter-widgets/controls",
       "_model_module_version": "1.5.0",
       "_model_name": "HTMLModel",
       "_view_count": null,
       "_view_module": "@jupyter-widgets/controls",
       "_view_module_version": "1.5.0",
       "_view_name": "HTMLView",
       "description": "",
       "description_tooltip": null,
       "layout": "IPY_MODEL_442a55b6788945789cc433a7739714b6",
       "placeholder": "​",
       "style": "IPY_MODEL_fda06a88a8534c659d511726bc078193",
       "value": "<h4>jupyterhub</h4>\n<h5><a href=\"https://github.com/jupyterhub/batchspawner\">jupyterhub/batchspawner</a></h5>\n<ul>\n<li><a href=\"https://github.com/jupyterhub/batchspawner/issues/103\">(#103)</a>: <em>Time for a new Batchspawner release</em> by <strong><a href=\"https://github.com/mbmilligan\">@mbmilligan</a></strong></li>\n<li><a href=\"https://github.com/jupyterhub/batchspawner/issues/168\">(#168)</a>: <em>Spawn fails in conjunction with named servers</em> by <strong><a href=\"https://github.com/Hoeze\">@Hoeze</a></strong></li>\n</ul>\n<h5><a href=\"https://github.com/jupyterhub/binder\">jupyterhub/binder</a></h5>\n<ul>\n<li><a href=\"https://github.com/jupyterhub/binder/issues/175\">(#175)</a>: _Wishlist: Parametrize notebook _ by <strong><a href=\"https://github.com/yarikoptic\">@yarikoptic</a></strong></li>\n</ul>\n<h5><a href=\"https://github.com/jupyterhub/binderhub\">jupyterhub/binderhub</a></h5>\n<ul>\n<li><a href=\"https://github.com/jupyterhub/binderhub/issues/1003\">(#1003)</a>: <em>The need for persistence</em> by <strong><a href=\"https://github.com/betatim\">@betatim</a></strong></li>\n<li><a href=\"https://github.com/jupyterhub/binderhub/issues/1011\">(#1011)</a>: <em>K8s 1.16 deprecates extensions/v1beta1 for apiVersion, breaking the Helm charts</em> by <strong><a href=\"https://github.com/muru\">@muru</a></strong></li>\n<li><a href=\"https://github.com/jupyterhub/binderhub/issues/1007\">(#1007)</a>: <em>Browser backed storage of notebook contents</em> by <strong><a href=\"https://github.com/betatim\">@betatim</a></strong></li>\n</ul>\n<h5><a href=\"https://github.com/jupyterhub/chartpress\">jupyterhub/chartpress</a></h5>\n<ul>\n<li><a href=\"https://github.com/jupyterhub/chartpress/issues/71\">(#71)</a>: <em>backwards-incompatible changes to image tags</em> by <strong><a href=\"https://github.com/rokroskar\">@rokroskar</a></strong></li>\n</ul>\n<h5><a href=\"https://github.com/jupyterhub/configurable-http-proxy\">jupyterhub/configurable-http-proxy</a></h5>\n<ul>\n<li><a href=\"https://github.com/jupyterhub/configurable-http-proxy/issues/219\">(#219)</a>: <em>Making a release</em> by <strong><a href=\"https://github.com/consideRatio\">@consideRatio</a></strong></li>\n</ul>\n<h5><a href=\"https://github.com/jupyterhub/dockerspawner\">jupyterhub/dockerspawner</a></h5>\n<ul>\n<li><a href=\"https://github.com/jupyterhub/dockerspawner/issues/344\">(#344)</a>: <em>How do I pass docker run args to spawned container</em> by <strong><a href=\"https://github.com/vincenzon\">@vincenzon</a></strong></li>\n<li><a href=\"https://github.com/jupyterhub/dockerspawner/issues/343\">(#343)</a>: <em>Service not found error preventing spawn</em> by <strong><a href=\"https://github.com/hdlbq\">@hdlbq</a></strong></li>\n<li><a href=\"https://github.com/jupyterhub/dockerspawner/issues/251\">(#251)</a>: <em>Notebook has jupyterhub version 0.8.1, but the Hub expects 1.0.0.dev. Try installing jupyterhub==1.0.0.dev in the user environment</em> by <strong><a href=\"https://github.com/yfc845\">@yfc845</a></strong></li>\n<li><a href=\"https://github.com/jupyterhub/dockerspawner/issues/348\">(#348)</a>: <em>sudo: jupyterhub-singleuser: command not found</em> by <strong><a href=\"https://github.com/zoltan-fedor\">@zoltan-fedor</a></strong></li>\n</ul>\n<h5><a href=\"https://github.com/jupyterhub/helm-chart\">jupyterhub/helm-chart</a></h5>\n<ul>\n<li><a href=\"https://github.com/jupyterhub/helm-chart/issues/101\">(#101)</a>: <em>Let info.json provide release/pre-release/build properly</em> by <strong><a href=\"https://github.com/consideRatio\">@consideRatio</a></strong></li>\n</ul>\n<h5><a href=\"https://github.com/jupyterhub/jupyter-server-proxy\">jupyterhub/jupyter-server-proxy</a></h5>\n<ul>\n<li><a href=\"https://github.com/jupyterhub/jupyter-server-proxy/issues/158\">(#158)</a>: <em>Fork the lab extension under JupyterLab?</em> by <strong><a href=\"https://github.com/blink1073\">@blink1073</a></strong></li>\n<li><a href=\"https://github.com/jupyterhub/jupyter-server-proxy/issues/139\">(#139)</a>: <em>Release for Jupyterlab 1.0</em> by <strong><a href=\"https://github.com/xhochy\">@xhochy</a></strong></li>\n<li><a href=\"https://github.com/jupyterhub/jupyter-server-proxy/issues/162\">(#162)</a>: <em>icon_url should be replaced with icon_path in the cookiecutter template</em> by <strong><a href=\"https://github.com/ka-zo\">@ka-zo</a></strong></li>\n<li><a href=\"https://github.com/jupyterhub/jupyter-server-proxy/issues/153\">(#153)</a>: <em>Unable to install on Jupyterlab 1.0.2</em> by <strong><a href=\"https://github.com/cristinaserrano\">@cristinaserrano</a></strong></li>\n</ul>\n<h5><a href=\"https://github.com/jupyterhub/jupyterhub\">jupyterhub/jupyterhub</a></h5>\n<ul>\n<li><a href=\"https://github.com/jupyterhub/jupyterhub/issues/2806\">(#2806)</a>: <em>Unable to helm upgrade Jupyterhub in AWS/EKS kubernetes cluster [MatchNodeSelector]</em> by <strong><a href=\"https://github.com/olajir\">@olajir</a></strong></li>\n<li><a href=\"https://github.com/jupyterhub/jupyterhub/issues/394\">(#394)</a>: <em>Is there a way to share notebooks via JupyterHub?</em> by <strong><a href=\"https://github.com/zer0n\">@zer0n</a></strong></li>\n</ul>\n<h5><a href=\"https://github.com/jupyterhub/kubespawner\">jupyterhub/kubespawner</a></h5>\n<h5><a href=\"https://github.com/jupyterhub/ldapauthenticator\">jupyterhub/ldapauthenticator</a></h5>\n<ul>\n<li><a href=\"https://github.com/jupyterhub/ldapauthenticator/issues/146\">(#146)</a>: <em>Active Directory requires \"optional\" bind_dn_template</em> by <strong><a href=\"https://github.com/irasnyd\">@irasnyd</a></strong></li>\n</ul>\n<h5><a href=\"https://github.com/jupyterhub/mybinder.org-deploy\">jupyterhub/mybinder.org-deploy</a></h5>\n<ul>\n<li><a href=\"https://github.com/jupyterhub/mybinder.org-deploy/issues/1154\">(#1154)</a>: <em>Turing joining the Binder Federation: Part 2!</em> by <strong><a href=\"https://github.com/sgibson91\">@sgibson91</a></strong></li>\n<li><a href=\"https://github.com/jupyterhub/mybinder.org-deploy/issues/1148\">(#1148)</a>: <em>Migrate mybinder.org from kube-lego to cert-manager for LetsEncrypt</em> by <strong><a href=\"https://github.com/sgibson91\">@sgibson91</a></strong></li>\n</ul>\n<h5><a href=\"https://github.com/jupyterhub/nbgitpuller\">jupyterhub/nbgitpuller</a></h5>\n<ul>\n<li><a href=\"https://github.com/jupyterhub/nbgitpuller/issues/106\">(#106)</a>: <em>deleting file does not bring a fresh copy</em> by <strong><a href=\"https://github.com/mirestrepo\">@mirestrepo</a></strong></li>\n<li><a href=\"https://github.com/jupyterhub/nbgitpuller/issues/110\">(#110)</a>: <em>pull multiple github repositories</em> by <strong><a href=\"https://github.com/cometta\">@cometta</a></strong></li>\n</ul>\n<h5><a href=\"https://github.com/jupyterhub/oauthenticator\">jupyterhub/oauthenticator</a></h5>\n<ul>\n<li><a href=\"https://github.com/jupyterhub/oauthenticator/issues/314\">(#314)</a>: <em>Environment Variable from get_auth_state() not passed into user environment on Spawning</em> by <strong><a href=\"https://github.com/eosantigen\">@eosantigen</a></strong></li>\n<li><a href=\"https://github.com/jupyterhub/oauthenticator/issues/299\">(#299)</a>: <em>Make a release</em> by <strong><a href=\"https://github.com/consideRatio\">@consideRatio</a></strong></li>\n<li><a href=\"https://github.com/jupyterhub/oauthenticator/issues/309\">(#309)</a>: <em>Missing tests for Azure AD B2C</em> by <strong><a href=\"https://github.com/consideRatio\">@consideRatio</a></strong></li>\n</ul>\n<h5><a href=\"https://github.com/jupyterhub/systemdspawner\">jupyterhub/systemdspawner</a></h5>\n<ul>\n<li><a href=\"https://github.com/jupyterhub/systemdspawner/issues/57\">(#57)</a>: <em>Spawner failed to start</em> by <strong><a href=\"https://github.com/w0lfvn\">@w0lfvn</a></strong></li>\n</ul>\n<h5><a href=\"https://github.com/jupyterhub/team-compass\">jupyterhub/team-compass</a></h5>\n<ul>\n<li><a href=\"https://github.com/jupyterhub/team-compass/issues/227\">(#227)</a>: <em>Use review assignments for BinderHub team?</em> by <strong><a href=\"https://github.com/betatim\">@betatim</a></strong></li>\n<li><a href=\"https://github.com/jupyterhub/team-compass/issues/213\">(#213)</a>: <em>Systematization of CD in our repos</em> by <strong><a href=\"https://github.com/consideRatio\">@consideRatio</a></strong></li>\n<li><a href=\"https://github.com/jupyterhub/team-compass/issues/228\">(#228)</a>: <em>Releasing Z2JH</em> by <strong><a href=\"https://github.com/consideRatio\">@consideRatio</a></strong></li>\n<li><a href=\"https://github.com/jupyterhub/team-compass/issues/209\">(#209)</a>: <em>@sgibson91 unavailability</em> by <strong><a href=\"https://github.com/sgibson91\">@sgibson91</a></strong></li>\n</ul>\n<h5><a href=\"https://github.com/jupyterhub/the-littlest-jupyterhub\">jupyterhub/the-littlest-jupyterhub</a></h5>\n<ul>\n<li><a href=\"https://github.com/jupyterhub/the-littlest-jupyterhub/issues/279\">(#279)</a>: <em>Document setting up and running Julia + Julia Kernel</em> by <strong><a href=\"https://github.com/stegua\">@stegua</a></strong></li>\n<li><a href=\"https://github.com/jupyterhub/the-littlest-jupyterhub/issues/462\">(#462)</a>: <em>Unable to enable HTTPS</em> by <strong><a href=\"https://github.com/deeduda\">@deeduda</a></strong></li>\n<li><a href=\"https://github.com/jupyterhub/the-littlest-jupyterhub/issues/306\">(#306)</a>: <em>FirstUseAuthenticator not prompting to create password for new user</em> by <strong><a href=\"https://github.com/Dr-Juice\">@Dr-Juice</a></strong></li>\n</ul>\n<h5><a href=\"https://github.com/jupyterhub/yarnspawner\">jupyterhub/yarnspawner</a></h5>\n<ul>\n<li><a href=\"https://github.com/jupyterhub/yarnspawner/issues/15\">(#15)</a>: <em>How to limit resources?</em> by <strong><a href=\"https://github.com/leinad87\">@leinad87</a></strong></li>\n</ul>\n<h5><a href=\"https://github.com/jupyterhub/zero-to-jupyterhub-k8s\">jupyterhub/zero-to-jupyterhub-k8s</a></h5>\n<ul>\n<li><a href=\"https://github.com/jupyterhub/zero-to-jupyterhub-k8s/issues/1491\">(#1491)</a>: <em>Deploying on a cluster with strict PodSecurityPolicies</em> by <strong><a href=\"https://github.com/ltupin\">@ltupin</a></strong></li>\n<li><a href=\"https://github.com/jupyterhub/zero-to-jupyterhub-k8s/issues/1477\">(#1477)</a>: <em>proxy-public never gets an external-ip</em> by <strong><a href=\"https://github.com/kumarasenthil\">@kumarasenthil</a></strong></li>\n<li><a href=\"https://github.com/jupyterhub/zero-to-jupyterhub-k8s/issues/1323\">(#1323)</a>: <em>Documentation for kubespawner override in profile list</em> by <strong><a href=\"https://github.com/sampathkethineedi\">@sampathkethineedi</a></strong></li>\n<li><a href=\"https://github.com/jupyterhub/zero-to-jupyterhub-k8s/issues/1500\">(#1500)</a>: <em>404 error on redirect to singleuser notebook</em> by <strong><a href=\"https://github.com/rafalrojek\">@rafalrojek</a></strong></li>\n</ul>"
      }
     },
     "df4c091e5277471091121ddfda43f3f9": {
      "model_module": "@jupyter-widgets/base",
      "model_module_version": "1.2.0",
      "model_name": "LayoutModel",
      "state": {
       "_model_module": "@jupyter-widgets/base",
       "_model_module_version": "1.2.0",
       "_model_name": "LayoutModel",
       "_view_count": null,
       "_view_module": "@jupyter-widgets/base",
       "_view_module_version": "1.2.0",
       "_view_name": "LayoutView",
       "align_content": null,
       "align_items": null,
       "align_self": null,
       "border": null,
       "bottom": null,
       "display": null,
       "flex": null,
       "flex_flow": null,
       "grid_area": null,
       "grid_auto_columns": null,
       "grid_auto_flow": null,
       "grid_auto_rows": null,
       "grid_column": null,
       "grid_gap": null,
       "grid_row": null,
       "grid_template_areas": null,
       "grid_template_columns": null,
       "grid_template_rows": null,
       "height": null,
       "justify_content": null,
       "justify_items": null,
       "left": null,
       "margin": null,
       "max_height": null,
       "max_width": null,
       "min_height": null,
       "min_width": null,
       "object_fit": null,
       "object_position": null,
       "order": null,
       "overflow": null,
       "overflow_x": null,
       "overflow_y": null,
       "padding": null,
       "right": null,
       "top": null,
       "visibility": null,
       "width": null
      }
     },
     "e3536c4510ee42ea856ef684b33199a0": {
      "model_module": "@jupyter-widgets/controls",
      "model_module_version": "1.5.0",
      "model_name": "HTMLModel",
      "state": {
       "_dom_classes": [],
       "_model_module": "@jupyter-widgets/controls",
       "_model_module_version": "1.5.0",
       "_model_name": "HTMLModel",
       "_view_count": null,
       "_view_module": "@jupyter-widgets/controls",
       "_view_module_version": "1.5.0",
       "_view_name": "HTMLView",
       "description": "",
       "description_tooltip": null,
       "layout": "IPY_MODEL_52534400f61d4a8681df855320a562a9",
       "placeholder": "​",
       "style": "IPY_MODEL_99b81f6b72a1454983cb5264add205dd",
       "value": "<h4>Closed PRs for org: <code>ipython</code></h4>\n<h5><a href=\"https://github.com/ipython/ipykernel\">ipython/ipykernel</a></h5>\n<ul>\n<li><a href=\"https://github.com/ipython/ipykernel/pull/461\">(#461)</a>: <em>Update Python versions tested on Travis</em> by <strong><a href=\"https://github.com/takluyver\">@takluyver</a></strong> merged by <strong><a href=\"https://github.com/blink1073\">@blink1073</a></strong></li>\n<li><a href=\"https://github.com/ipython/ipykernel/pull/456\">(#456)</a>: <em>workaround tornado+py38+windows compatibility issue</em> by <strong><a href=\"https://github.com/minrk\">@minrk</a></strong> merged by <strong><a href=\"https://github.com/takluyver\">@takluyver</a></strong></li>\n</ul>\n<h5><a href=\"https://github.com/ipython/ipython\">ipython/ipython</a></h5>\n<ul>\n<li><a href=\"https://github.com/ipython/ipython/pull/11964\">(#11964)</a>: <em>Expand docs on how cells are executed</em> by <strong><a href=\"https://github.com/techtonik\">@techtonik</a></strong> merged by <strong><a href=\"https://github.com/Carreau\">@Carreau</a></strong></li>\n<li><a href=\"https://github.com/ipython/ipython/pull/11961\">(#11961)</a>: <em>Update the what's new.</em> by <strong><a href=\"https://github.com/Carreau\">@Carreau</a></strong> merged by <strong><a href=\"https://github.com/Carreau\">@Carreau</a></strong></li>\n<li><a href=\"https://github.com/ipython/ipython/pull/11956\">(#11956)</a>: <em>Remove unchanging boolean DICT_IS_ORDERED and dependent unreachable code</em> by <strong><a href=\"https://github.com/petevdp\">@petevdp</a></strong> merged by <strong><a href=\"https://github.com/Carreau\">@Carreau</a></strong></li>\n<li><a href=\"https://github.com/ipython/ipython/pull/11953\">(#11953)</a>: <em>Removed codepath for Python &lt; 3.6 #11949</em> by <strong><a href=\"https://github.com/kousikmitra\">@kousikmitra</a></strong> merged by <strong><a href=\"https://github.com/Carreau\">@Carreau</a></strong></li>\n<li><a href=\"https://github.com/ipython/ipython/pull/11950\">(#11950)</a>: <em>Deprecate some methods the should not be used anymore</em> by <strong><a href=\"https://github.com/Carreau\">@Carreau</a></strong> merged by <strong><a href=\"https://github.com/Carreau\">@Carreau</a></strong></li>\n<li><a href=\"https://github.com/ipython/ipython/pull/11943\">(#11943)</a>: <em>Let anyone add \"good first issue\" using mr Meeseeks.</em> by <strong><a href=\"https://github.com/Carreau\">@Carreau</a></strong> merged by <strong><a href=\"https://github.com/Carreau\">@Carreau</a></strong></li>\n<li><a href=\"https://github.com/ipython/ipython/pull/11938\">(#11938)</a>: _Change absolute imports to relative imports _ by <strong><a href=\"https://github.com/srinivasreddy\">@srinivasreddy</a></strong> merged by <strong><a href=\"https://github.com/Carreau\">@Carreau</a></strong></li>\n<li><a href=\"https://github.com/ipython/ipython/pull/11935\">(#11935)</a>: <em>Add more windows ci</em> by <strong><a href=\"https://github.com/bollwyvl\">@bollwyvl</a></strong> merged by <strong><a href=\"https://github.com/minrk\">@minrk</a></strong></li>\n<li><a href=\"https://github.com/ipython/ipython/pull/11933\">(#11933)</a>: <em>static message instead of function call to prevent shell slowdown</em> by <strong><a href=\"https://github.com/gerrit8143\">@gerrit8143</a></strong> merged by <strong><a href=\"https://github.com/Carreau\">@Carreau</a></strong></li>\n<li><a href=\"https://github.com/ipython/ipython/pull/11930\">(#11930)</a>: <em>Fix restoring more than 2 variables and support storing multiple variables %storemagic</em> by <strong><a href=\"https://github.com/gokceneraslan\">@gokceneraslan</a></strong> merged by <strong><a href=\"https://github.com/Carreau\">@Carreau</a></strong></li>\n</ul>\n<h5><a href=\"https://github.com/ipython/traitlets\">ipython/traitlets</a></h5>\n<ul>\n<li><a href=\"https://github.com/ipython/traitlets/pull/538\">(#538)</a>: <em>Add trait-names autocompletion support</em> by <strong><a href=\"https://github.com/martinRenou\">@martinRenou</a></strong> merged by <strong><a href=\"https://github.com/rmorshea\">@rmorshea</a></strong></li>\n</ul>"
      }
     },
     "e43bf5fabec840e3ba88b5a89a793c45": {
      "model_module": "@jupyter-widgets/base",
      "model_module_version": "1.2.0",
      "model_name": "LayoutModel",
      "state": {
       "_model_module": "@jupyter-widgets/base",
       "_model_module_version": "1.2.0",
       "_model_name": "LayoutModel",
       "_view_count": null,
       "_view_module": "@jupyter-widgets/base",
       "_view_module_version": "1.2.0",
       "_view_name": "LayoutView",
       "align_content": null,
       "align_items": null,
       "align_self": null,
       "border": null,
       "bottom": null,
       "display": null,
       "flex": null,
       "flex_flow": null,
       "grid_area": null,
       "grid_auto_columns": null,
       "grid_auto_flow": null,
       "grid_auto_rows": null,
       "grid_column": null,
       "grid_gap": null,
       "grid_row": null,
       "grid_template_areas": null,
       "grid_template_columns": null,
       "grid_template_rows": null,
       "height": null,
       "justify_content": null,
       "justify_items": null,
       "left": null,
       "margin": null,
       "max_height": null,
       "max_width": null,
       "min_height": null,
       "min_width": null,
       "object_fit": null,
       "object_position": null,
       "order": null,
       "overflow": null,
       "overflow_x": null,
       "overflow_y": null,
       "padding": null,
       "right": null,
       "top": null,
       "visibility": null,
       "width": null
      }
     },
     "e863960824ce4bb2ac34b35b41bed48a": {
      "model_module": "@jupyter-widgets/controls",
      "model_module_version": "1.5.0",
      "model_name": "HTMLModel",
      "state": {
       "_dom_classes": [],
       "_model_module": "@jupyter-widgets/controls",
       "_model_module_version": "1.5.0",
       "_model_name": "HTMLModel",
       "_view_count": null,
       "_view_module": "@jupyter-widgets/controls",
       "_view_module_version": "1.5.0",
       "_view_name": "HTMLView",
       "description": "",
       "description_tooltip": null,
       "layout": "IPY_MODEL_89b8ab878e6f4b8e9cbc4492cfab2200",
       "placeholder": "​",
       "style": "IPY_MODEL_493d738de6124b8ab41dc284699bccbf",
       "value": "<h4>Closed PRs for org: <code>jupyter</code></h4>\n<h5><a href=\"https://github.com/jupyter/accessibility\">jupyter/accessibility</a></h5>\n<ul>\n<li><a href=\"https://github.com/jupyter/accessibility/pull/12\">(#12)</a>: <em>more a11y resources</em> by <strong><a href=\"https://github.com/choldgraf\">@choldgraf</a></strong> merged by <strong><a href=\"https://github.com/choldgraf\">@choldgraf</a></strong></li>\n<li><a href=\"https://github.com/jupyter/accessibility/pull/10\">(#10)</a>: <em>Update README.md</em> by <strong><a href=\"https://github.com/choldgraf\">@choldgraf</a></strong> merged by <strong><a href=\"https://github.com/choldgraf\">@choldgraf</a></strong></li>\n<li><a href=\"https://github.com/jupyter/accessibility/pull/9\">(#9)</a>: <em>Update README.md</em> by <strong><a href=\"https://github.com/choldgraf\">@choldgraf</a></strong> merged by <strong><a href=\"https://github.com/choldgraf\">@choldgraf</a></strong></li>\n</ul>\n<h5><a href=\"https://github.com/jupyter/docker-stacks\">jupyter/docker-stacks</a></h5>\n<ul>\n<li><a href=\"https://github.com/jupyter/docker-stacks/pull/961\">(#961)</a>: <em>Add sudo recipe</em> by <strong><a href=\"https://github.com/parente\">@parente</a></strong> merged by <strong><a href=\"https://github.com/parente\">@parente</a></strong></li>\n<li><a href=\"https://github.com/jupyter/docker-stacks/pull/960\">(#960)</a>: <em>Add maintainer help wanted</em> by <strong><a href=\"https://github.com/parente\">@parente</a></strong> merged by <strong><a href=\"https://github.com/parente\">@parente</a></strong></li>\n<li><a href=\"https://github.com/jupyter/docker-stacks/pull/957\">(#957)</a>: <em>update jupyterlab to 1.2.1</em> by <strong><a href=\"https://github.com/flixr\">@flixr</a></strong> merged by <strong><a href=\"https://github.com/parente\">@parente</a></strong></li>\n<li><a href=\"https://github.com/jupyter/docker-stacks/pull/954\">(#954)</a>: <em>upgrade to tensoflow2</em> by <strong><a href=\"https://github.com/gokgozf\">@gokgozf</a></strong> merged by <strong><a href=\"https://github.com/parente\">@parente</a></strong></li>\n</ul>\n<h5><a href=\"https://github.com/jupyter/enterprise_gateway\">jupyter/enterprise_gateway</a></h5>\n<ul>\n<li><a href=\"https://github.com/jupyter/enterprise_gateway/pull/755\">(#755)</a>: <em>Modify apiVersion to correspond to kubernetes 1.16</em> by <strong><a href=\"https://github.com/tatsuya-ogawa\">@tatsuya-ogawa</a></strong> merged by <strong><a href=\"https://github.com/kevin-bates\">@kevin-bates</a></strong></li>\n<li><a href=\"https://github.com/jupyter/enterprise_gateway/pull/752\">(#752)</a>: <em>Remove obsolete build generated files from scala launcher</em> by <strong><a href=\"https://github.com/lresende\">@lresende</a></strong> merged by <strong><a href=\"https://github.com/kevin-bates\">@kevin-bates</a></strong></li>\n<li><a href=\"https://github.com/jupyter/enterprise_gateway/pull/751\">(#751)</a>: <em>Perform clean on each build attempt</em> by <strong><a href=\"https://github.com/kevin-bates\">@kevin-bates</a></strong> merged by <strong><a href=\"https://github.com/lresende\">@lresende</a></strong></li>\n<li><a href=\"https://github.com/jupyter/enterprise_gateway/pull/750\">(#750)</a>: <em>Restructure the kernel-pod.yaml.j2 template</em> by <strong><a href=\"https://github.com/JorisJamers\">@JorisJamers</a></strong> merged by <strong><a href=\"https://github.com/kevin-bates\">@kevin-bates</a></strong></li>\n</ul>\n<h5><a href=\"https://github.com/jupyter/governance\">jupyter/governance</a></h5>\n<ul>\n<li><a href=\"https://github.com/jupyter/governance/pull/75\">(#75)</a>: <em>Update enforcement.md</em> by <strong><a href=\"https://github.com/choldgraf\">@choldgraf</a></strong> merged by <strong><a href=\"https://github.com/choldgraf\">@choldgraf</a></strong></li>\n</ul>\n<h5><a href=\"https://github.com/jupyter/jupyter\">jupyter/jupyter</a></h5>\n<ul>\n<li><a href=\"https://github.com/jupyter/jupyter/pull/485\">(#485)</a>: <em>Translate '/docs/source/locale/en/LC_MESSAGES/glossary.po' in 'pt_BR'</em> by <strong><a href=\"https://github.com/transifex-integration\">@transifex-integration</a></strong> merged by <strong><a href=\"https://github.com/parente\">@parente</a></strong></li>\n<li><a href=\"https://github.com/jupyter/jupyter/pull/484\">(#484)</a>: <em>Translate '/docs/source/locale/en/LC_MESSAGES/contributor.po' in 'pt_BR'</em> by <strong><a href=\"https://github.com/transifex-integration\">@transifex-integration</a></strong> merged by <strong><a href=\"https://github.com/parente\">@parente</a></strong></li>\n<li><a href=\"https://github.com/jupyter/jupyter/pull/481\">(#481)</a>: <em>Translate '/docs/source/locale/en/LC_MESSAGES/running.po' in 'pt_BR'</em> by <strong><a href=\"https://github.com/transifex-integration\">@transifex-integration</a></strong> merged by <strong><a href=\"https://github.com/parente\">@parente</a></strong></li>\n<li><a href=\"https://github.com/jupyter/jupyter/pull/478\">(#478)</a>: <em>Translate '/docs/source/locale/en/LC_MESSAGES/contents.po' in 'pt_BR'</em> by <strong><a href=\"https://github.com/transifex-integration\">@transifex-integration</a></strong> merged by <strong><a href=\"https://github.com/parente\">@parente</a></strong></li>\n<li><a href=\"https://github.com/jupyter/jupyter/pull/476\">(#476)</a>: <em>Fix a few links to new contributor github issues</em> by <strong><a href=\"https://github.com/wilsaj\">@wilsaj</a></strong> merged by <strong><a href=\"https://github.com/choldgraf\">@choldgraf</a></strong></li>\n<li><a href=\"https://github.com/jupyter/jupyter/pull/473\">(#473)</a>: <em>Translate 'docs/source/locale/en/LC_MESSAGES/architecture.po' in 'pt_BR'</em> by <strong><a href=\"https://github.com/transifex-integration\">@transifex-integration</a></strong> merged by <strong><a href=\"https://github.com/parente\">@parente</a></strong></li>\n<li><a href=\"https://github.com/jupyter/jupyter/pull/472\">(#472)</a>: <em>Translate 'docs/source/locale/en/LC_MESSAGES/releases.po' in 'pt_BR'</em> by <strong><a href=\"https://github.com/transifex-integration\">@transifex-integration</a></strong> merged by <strong><a href=\"https://github.com/parente\">@parente</a></strong></li>\n<li><a href=\"https://github.com/jupyter/jupyter/pull/471\">(#471)</a>: <em>Translate 'docs/source/locale/en/LC_MESSAGES/content-quickstart.po' in 'pt_BR'</em> by <strong><a href=\"https://github.com/transifex-integration\">@transifex-integration</a></strong> merged by <strong><a href=\"https://github.com/parente\">@parente</a></strong></li>\n<li><a href=\"https://github.com/jupyter/jupyter/pull/470\">(#470)</a>: <em>Translate 'docs/source/locale/en/LC_MESSAGES/tryjupyter.po' in 'pt_BR'</em> by <strong><a href=\"https://github.com/transifex-integration\">@transifex-integration</a></strong> merged by <strong><a href=\"https://github.com/parente\">@parente</a></strong></li>\n</ul>\n<h5><a href=\"https://github.com/jupyter/jupyter-book\">jupyter/jupyter-book</a></h5>\n<ul>\n<li><a href=\"https://github.com/jupyter/jupyter-book/pull/432\">(#432)</a>: <em>adding a page for math instructions</em> by <strong><a href=\"https://github.com/choldgraf\">@choldgraf</a></strong> merged by <strong><a href=\"https://github.com/choldgraf\">@choldgraf</a></strong></li>\n</ul>\n<h5><a href=\"https://github.com/jupyter/jupyter-sphinx\">jupyter/jupyter-sphinx</a></h5>\n<ul>\n<li><a href=\"https://github.com/jupyter/jupyter-sphinx/pull/93\">(#93)</a>: <em>strip Latex math delimiters that would be rendered by math blocks</em> by <strong><a href=\"https://github.com/akhmerov\">@akhmerov</a></strong> merged by <strong><a href=\"https://github.com/jbweston\">@jbweston</a></strong></li>\n<li><a href=\"https://github.com/jupyter/jupyter-sphinx/pull/92\">(#92)</a>: <em>Fix sphinx_rtd_theme spacing</em> by <strong><a href=\"https://github.com/seanpue\">@seanpue</a></strong> merged by <strong><a href=\"https://github.com/akhmerov\">@akhmerov</a></strong></li>\n<li><a href=\"https://github.com/jupyter/jupyter-sphinx/pull/89\">(#89)</a>: <em>fix for CSS overflow error in code cell</em> by <strong><a href=\"https://github.com/seanpue\">@seanpue</a></strong> merged by <strong><a href=\"https://github.com/akhmerov\">@akhmerov</a></strong></li>\n</ul>\n<h5><a href=\"https://github.com/jupyter/jupyter.github.io\">jupyter/jupyter.github.io</a></h5>\n<ul>\n<li><a href=\"https://github.com/jupyter/jupyter.github.io/pull/356\">(#356)</a>: <em>Apparently forgot to add Simula as a partner long ago</em> by <strong><a href=\"https://github.com/minrk\">@minrk</a></strong> merged by <strong><a href=\"https://github.com/choldgraf\">@choldgraf</a></strong></li>\n</ul>\n<h5><a href=\"https://github.com/jupyter/jupyter_core\">jupyter/jupyter_core</a></h5>\n<ul>\n<li><a href=\"https://github.com/jupyter/jupyter_core/pull/178\">(#178)</a>: <em>Add readthedocs YAML config</em> by <strong><a href=\"https://github.com/takluyver\">@takluyver</a></strong> merged by <strong><a href=\"https://github.com/takluyver\">@takluyver</a></strong></li>\n<li><a href=\"https://github.com/jupyter/jupyter_core/pull/177\">(#177)</a>: <em>Ignore sticky bit when validating permissions.</em> by <strong><a href=\"https://github.com/WibbletheDuck\">@WibbletheDuck</a></strong> merged by <strong><a href=\"https://github.com/takluyver\">@takluyver</a></strong></li>\n<li><a href=\"https://github.com/jupyter/jupyter_core/pull/176\">(#176)</a>: <em>Travis CI: Add Python 3.7 and 3.8 and remove the EOL 3.4</em> by <strong><a href=\"https://github.com/cclauss\">@cclauss</a></strong> merged by <strong><a href=\"https://github.com/takluyver\">@takluyver</a></strong></li>\n</ul>\n<h5><a href=\"https://github.com/jupyter/jupyter_server\">jupyter/jupyter_server</a></h5>\n<ul>\n<li><a href=\"https://github.com/jupyter/jupyter_server/pull/133\">(#133)</a>: <em>[MRG] preparse subcommands in an extensionapps</em> by <strong><a href=\"https://github.com/Zsailer\">@Zsailer</a></strong> merged by <strong><a href=\"https://github.com/vidartf\">@vidartf</a></strong></li>\n<li><a href=\"https://github.com/jupyter/jupyter_server/pull/132\">(#132)</a>: <em>readme: link to weekly meeting and roadmap</em> by <strong><a href=\"https://github.com/echarles\">@echarles</a></strong> merged by <strong><a href=\"https://github.com/vidartf\">@vidartf</a></strong></li>\n</ul>\n<h5><a href=\"https://github.com/jupyter/nbconvert\">jupyter/nbconvert</a></h5>\n<ul>\n<li><a href=\"https://github.com/jupyter/nbconvert/pull/1142\">(#1142)</a>: <em>Update nbconvert template</em> by <strong><a href=\"https://github.com/SylvainCorlay\">@SylvainCorlay</a></strong> merged by <strong><a href=\"https://github.com/MSeal\">@MSeal</a></strong></li>\n<li><a href=\"https://github.com/jupyter/nbconvert/pull/1138\">(#1138)</a>: <em>Fix typo customizing doc, fixes #1136</em> by <strong><a href=\"https://github.com/letmerecall\">@letmerecall</a></strong> merged by <strong><a href=\"https://github.com/MSeal\">@MSeal</a></strong></li>\n<li><a href=\"https://github.com/jupyter/nbconvert/pull/1135\">(#1135)</a>: <em>Require Python 3</em> by <strong><a href=\"https://github.com/takluyver\">@takluyver</a></strong> merged by <strong><a href=\"https://github.com/MSeal\">@MSeal</a></strong></li>\n<li><a href=\"https://github.com/jupyter/nbconvert/pull/1133\">(#1133)</a>: <em>Use nbsphinx development version for docs build</em> by <strong><a href=\"https://github.com/takluyver\">@takluyver</a></strong> merged by <strong><a href=\"https://github.com/MSeal\">@MSeal</a></strong></li>\n<li><a href=\"https://github.com/jupyter/nbconvert/pull/1130\">(#1130)</a>: <em>Fix malformed log message in exporter._preprocess, closes #955</em> by <strong><a href=\"https://github.com/kynan\">@kynan</a></strong> merged by <strong><a href=\"https://github.com/MSeal\">@MSeal</a></strong></li>\n<li><a href=\"https://github.com/jupyter/nbconvert/pull/1128\">(#1128)</a>: <em>Unit tests for ascii_only</em> by <strong><a href=\"https://github.com/writesundar\">@writesundar</a></strong> merged by <strong><a href=\"https://github.com/MSeal\">@MSeal</a></strong></li>\n</ul>\n<h5><a href=\"https://github.com/jupyter/nbdime\">jupyter/nbdime</a></h5>\n<ul>\n<li><a href=\"https://github.com/jupyter/nbdime/pull/504\">(#504)</a>: <em>Require Python 3.5</em> by <strong><a href=\"https://github.com/minrk\">@minrk</a></strong> merged by <strong><a href=\"https://github.com/vidartf\">@vidartf</a></strong></li>\n<li><a href=\"https://github.com/jupyter/nbdime/pull/502\">(#502)</a>: <em>Show README content as package description on PyPI</em> by <strong><a href=\"https://github.com/kynan\">@kynan</a></strong> merged by <strong><a href=\"https://github.com/vidartf\">@vidartf</a></strong></li>\n</ul>\n<h5><a href=\"https://github.com/jupyter/nbgrader\">jupyter/nbgrader</a></h5>\n<ul>\n<li><a href=\"https://github.com/jupyter/nbgrader/pull/1288\">(#1288)</a>: <em>Fixes #1283: Replace AppVeyor badge with Azure Devops badge</em> by <strong><a href=\"https://github.com/BertR\">@BertR</a></strong> merged by <strong><a href=\"https://github.com/jhamrick\">@jhamrick</a></strong></li>\n<li><a href=\"https://github.com/jupyter/nbgrader/pull/1287\">(#1287)</a>: <em>Add mypy for type checking</em> by <strong><a href=\"https://github.com/jhamrick\">@jhamrick</a></strong> merged by <strong><a href=\"https://github.com/jhamrick\">@jhamrick</a></strong></li>\n<li><a href=\"https://github.com/jupyter/nbgrader/pull/1286\">(#1286)</a>: <em>Create 0.6.1 release</em> by <strong><a href=\"https://github.com/jhamrick\">@jhamrick</a></strong> merged by <strong><a href=\"https://github.com/jhamrick\">@jhamrick</a></strong></li>\n<li><a href=\"https://github.com/jupyter/nbgrader/pull/1282\">(#1282)</a>: <em>Further type annotations across the codebase</em> by <strong><a href=\"https://github.com/aliniknejad\">@aliniknejad</a></strong> merged by <strong><a href=\"https://github.com/jhamrick\">@jhamrick</a></strong></li>\n<li><a href=\"https://github.com/jupyter/nbgrader/pull/1281\">(#1281)</a>: <em>Demos using Python3</em> by <strong><a href=\"https://github.com/Patil2099\">@Patil2099</a></strong> merged by <strong><a href=\"https://github.com/jhamrick\">@jhamrick</a></strong></li>\n<li><a href=\"https://github.com/jupyter/nbgrader/pull/1280\">(#1280)</a>: <em>Fix inappropriate use of sum with newer sqlite</em> by <strong><a href=\"https://github.com/jhamrick\">@jhamrick</a></strong> merged by <strong><a href=\"https://github.com/jhamrick\">@jhamrick</a></strong></li>\n<li><a href=\"https://github.com/jupyter/nbgrader/pull/1278\">(#1278)</a>: _Fix course list hanging when exchange has not been created _ by <strong><a href=\"https://github.com/enisnazif\">@enisnazif</a></strong> merged by <strong><a href=\"https://github.com/jhamrick\">@jhamrick</a></strong></li>\n<li><a href=\"https://github.com/jupyter/nbgrader/pull/1276\">(#1276)</a>: <em>remove db_assignments db_students</em> by <strong><a href=\"https://github.com/HanTeo\">@HanTeo</a></strong> merged by <strong><a href=\"https://github.com/jhamrick\">@jhamrick</a></strong></li>\n<li><a href=\"https://github.com/jupyter/nbgrader/pull/1274\">(#1274)</a>: <em>Further Python 3 type annotations on top-level files</em> by <strong><a href=\"https://github.com/aliniknejad\">@aliniknejad</a></strong> merged by <strong><a href=\"https://github.com/jhamrick\">@jhamrick</a></strong></li>\n<li><a href=\"https://github.com/jupyter/nbgrader/pull/1272\">(#1272)</a>: <em>Improve test coverage in auth folder</em> by <strong><a href=\"https://github.com/jhamrick\">@jhamrick</a></strong> merged by <strong><a href=\"https://github.com/jhamrick\">@jhamrick</a></strong></li>\n<li><a href=\"https://github.com/jupyter/nbgrader/pull/1270\">(#1270)</a>: <em>Add requirements for readthedocs</em> by <strong><a href=\"https://github.com/jhamrick\">@jhamrick</a></strong> merged by <strong><a href=\"https://github.com/jhamrick\">@jhamrick</a></strong></li>\n<li><a href=\"https://github.com/jupyter/nbgrader/pull/1268\">(#1268)</a>: <em>Type annotations for the api</em> by <strong><a href=\"https://github.com/aliniknejad\">@aliniknejad</a></strong> merged by <strong><a href=\"https://github.com/jhamrick\">@jhamrick</a></strong></li>\n<li><a href=\"https://github.com/jupyter/nbgrader/pull/1267\">(#1267)</a>: <em>Improve the error message on the assignments page</em> by <strong><a href=\"https://github.com/enisnazif\">@enisnazif</a></strong> merged by <strong><a href=\"https://github.com/jhamrick\">@jhamrick</a></strong></li>\n<li><a href=\"https://github.com/jupyter/nbgrader/pull/1266\">(#1266)</a>: <em>Backport PR #1260 on branch 0.6.x (Set up CI with Azure Pipelines)</em> by <strong><a href=\"https://github.com/jhamrick\">@jhamrick</a></strong> merged by <strong><a href=\"https://github.com/jhamrick\">@jhamrick</a></strong></li>\n<li><a href=\"https://github.com/jupyter/nbgrader/pull/1260\">(#1260)</a>: <em>Set up CI with Azure Pipelines</em> by <strong><a href=\"https://github.com/jhamrick\">@jhamrick</a></strong> merged by <strong><a href=\"https://github.com/jhamrick\">@jhamrick</a></strong></li>\n<li><a href=\"https://github.com/jupyter/nbgrader/pull/1259\">(#1259)</a>: <em>Remove Python 2 compatibility code</em> by <strong><a href=\"https://github.com/aliniknejad\">@aliniknejad</a></strong> merged by <strong><a href=\"https://github.com/jhamrick\">@jhamrick</a></strong></li>\n<li><a href=\"https://github.com/jupyter/nbgrader/pull/1257\">(#1257)</a>: <em>Deprecate Python 2 support</em> by <strong><a href=\"https://github.com/aliniknejad\">@aliniknejad</a></strong> merged by <strong><a href=\"https://github.com/jhamrick\">@jhamrick</a></strong></li>\n<li><a href=\"https://github.com/jupyter/nbgrader/pull/1249\">(#1249)</a>: <em>timestamp_format raises an exception</em> by <strong><a href=\"https://github.com/nklever\">@nklever</a></strong> merged by <strong><a href=\"https://github.com/jhamrick\">@jhamrick</a></strong></li>\n</ul>\n<h5><a href=\"https://github.com/jupyter/notebook\">jupyter/notebook</a></h5>\n<ul>\n<li><a href=\"https://github.com/jupyter/notebook/pull/5085\">(#5085)</a>: <em>Pin nbconvert &lt;6 for now</em> by <strong><a href=\"https://github.com/takluyver\">@takluyver</a></strong> merged by <strong><a href=\"https://github.com/takluyver\">@takluyver</a></strong></li>\n<li><a href=\"https://github.com/jupyter/notebook/pull/5078\">(#5078)</a>: <em>Ensure jupyter config dir exist</em> by <strong><a href=\"https://github.com/haobibo\">@haobibo</a></strong> merged by <strong><a href=\"https://github.com/takluyver\">@takluyver</a></strong></li>\n<li><a href=\"https://github.com/jupyter/notebook/pull/5077\">(#5077)</a>: <em>Allow contents manager get to return future</em> by <strong><a href=\"https://github.com/michalc\">@michalc</a></strong> merged by <strong><a href=\"https://github.com/takluyver\">@takluyver</a></strong></li>\n<li><a href=\"https://github.com/jupyter/notebook/pull/5075\">(#5075)</a>: <em>Making default value for min_open_files_limit dynamic</em> by <strong><a href=\"https://github.com/shevelevs\">@shevelevs</a></strong> merged by <strong><a href=\"https://github.com/takluyver\">@takluyver</a></strong></li>\n<li><a href=\"https://github.com/jupyter/notebook/pull/5055\">(#5055)</a>: <em>Fix packages of exceptions catched by gateway manager</em> by <strong><a href=\"https://github.com/shuichiro-makigaki\">@shuichiro-makigaki</a></strong> merged by <strong><a href=\"https://github.com/takluyver\">@takluyver</a></strong></li>\n<li><a href=\"https://github.com/jupyter/notebook/pull/5047\">(#5047)</a>: <em>workaround tornado py38 compatibility issue</em> by <strong><a href=\"https://github.com/minrk\">@minrk</a></strong> merged by <strong><a href=\"https://github.com/takluyver\">@takluyver</a></strong></li>\n<li><a href=\"https://github.com/jupyter/notebook/pull/5043\">(#5043)</a>: <em>Selenium test fixture to open a notebook with prefilled content</em> by <strong><a href=\"https://github.com/takluyver\">@takluyver</a></strong> merged by <strong><a href=\"https://github.com/takluyver\">@takluyver</a></strong></li>\n<li><a href=\"https://github.com/jupyter/notebook/pull/5030\">(#5030)</a>: <em>Release 6.0.2</em> by <strong><a href=\"https://github.com/lresende\">@lresende</a></strong> merged by <strong><a href=\"https://github.com/lresende\">@lresende</a></strong></li>\n<li><a href=\"https://github.com/jupyter/notebook/pull/5021\">(#5021)</a>: <em>Fixes #5002</em> by <strong><a href=\"https://github.com/krinsman\">@krinsman</a></strong> merged by <strong><a href=\"https://github.com/takluyver\">@takluyver</a></strong></li>\n</ul>\n<h5><a href=\"https://github.com/jupyter/qtconsole\">jupyter/qtconsole</a></h5>\n<ul>\n<li><a href=\"https://github.com/jupyter/qtconsole/pull/394\">(#394)</a>: <em>Prevent completion strip if it refers to a file</em> by <strong><a href=\"https://github.com/dalthviz\">@dalthviz</a></strong> merged by <strong><a href=\"https://github.com/ccordoba12\">@ccordoba12</a></strong></li>\n<li><a href=\"https://github.com/jupyter/qtconsole/pull/390\">(#390)</a>: <em>Skip history if it is the same as the input buffer</em> by <strong><a href=\"https://github.com/impact27\">@impact27</a></strong> merged by <strong><a href=\"https://github.com/ccordoba12\">@ccordoba12</a></strong></li>\n</ul>\n<h5><a href=\"https://github.com/jupyter/repo2docker\">jupyter/repo2docker</a></h5>\n<ul>\n<li><a href=\"https://github.com/jupyter/repo2docker/pull/816\">(#816)</a>: <em>updating theme to pandas sphinx</em> by <strong><a href=\"https://github.com/choldgraf\">@choldgraf</a></strong> merged by <strong><a href=\"https://github.com/betatim\">@betatim</a></strong></li>\n<li><a href=\"https://github.com/jupyter/repo2docker/pull/811\">(#811)</a>: <em>[MRG] Fixes link rendering</em> by <strong><a href=\"https://github.com/arokem\">@arokem</a></strong> merged by <strong><a href=\"https://github.com/betatim\">@betatim</a></strong></li>\n<li><a href=\"https://github.com/jupyter/repo2docker/pull/810\">(#810)</a>: <em>[MRG] Remove explicit checkout when ref given</em> by <strong><a href=\"https://github.com/betatim\">@betatim</a></strong> merged by <strong><a href=\"https://github.com/choldgraf\">@choldgraf</a></strong></li>\n<li><a href=\"https://github.com/jupyter/repo2docker/pull/809\">(#809)</a>: <em>[MRG] Fix submodule check out</em> by <strong><a href=\"https://github.com/davidbrochart\">@davidbrochart</a></strong> merged by <strong><a href=\"https://github.com/betatim\">@betatim</a></strong></li>\n</ul>\n<h5><a href=\"https://github.com/jupyter/telemetry\">jupyter/telemetry</a></h5>\n<ul>\n<li><a href=\"https://github.com/jupyter/telemetry/pull/34\">(#34)</a>: <em>Add <strong>metadata_version</strong> to event capsule</em> by <strong><a href=\"https://github.com/yuvipanda\">@yuvipanda</a></strong> merged by <strong><a href=\"https://github.com/Zsailer\">@Zsailer</a></strong></li>\n</ul>\n<h5><a href=\"https://github.com/jupyter/terminado\">jupyter/terminado</a></h5>\n<ul>\n<li><a href=\"https://github.com/jupyter/terminado/pull/70\">(#70)</a>: <em>Add kwargs to NamedTermManager.new_named_terminal</em> by <strong><a href=\"https://github.com/qntnrbns\">@qntnrbns</a></strong> merged by <strong><a href=\"https://github.com/blink1073\">@blink1073</a></strong></li>\n</ul>"
      }
     },
     "eb7ed847ec0b47e3a525b1f2662e5c4b": {
      "model_module": "@jupyter-widgets/controls",
      "model_module_version": "1.5.0",
      "model_name": "DescriptionStyleModel",
      "state": {
       "_model_module": "@jupyter-widgets/controls",
       "_model_module_version": "1.5.0",
       "_model_name": "DescriptionStyleModel",
       "_view_count": null,
       "_view_module": "@jupyter-widgets/base",
       "_view_module_version": "1.2.0",
       "_view_name": "StyleView",
       "description_width": ""
      }
     },
     "ee949ad2ca494262b00f4bab423d6690": {
      "model_module": "@jupyter-widgets/controls",
      "model_module_version": "1.5.0",
      "model_name": "DescriptionStyleModel",
      "state": {
       "_model_module": "@jupyter-widgets/controls",
       "_model_module_version": "1.5.0",
       "_model_name": "DescriptionStyleModel",
       "_view_count": null,
       "_view_module": "@jupyter-widgets/base",
       "_view_module_version": "1.2.0",
       "_view_name": "StyleView",
       "description_width": ""
      }
     },
     "f087a125bfc84f2992da85211eb0ad93": {
      "model_module": "@jupyter-widgets/controls",
      "model_module_version": "1.5.0",
      "model_name": "HTMLModel",
      "state": {
       "_dom_classes": [],
       "_model_module": "@jupyter-widgets/controls",
       "_model_module_version": "1.5.0",
       "_model_name": "HTMLModel",
       "_view_count": null,
       "_view_module": "@jupyter-widgets/controls",
       "_view_module_version": "1.5.0",
       "_view_name": "HTMLView",
       "description": "",
       "description_tooltip": null,
       "layout": "IPY_MODEL_b2f7b909ad394beab4caeff9c2f03199",
       "placeholder": "​",
       "style": "IPY_MODEL_5a3c8b6effa948edaf10af4741c12b05",
       "value": "<h4>ipython</h4>\n<h5><a href=\"https://github.com/ipython/ipykernel\">ipython/ipykernel</a></h5>\n<ul>\n<li><a href=\"https://github.com/ipython/ipykernel/issues/459\">(#459)</a>: <em>error happen after 'pip install -e .'</em> by <strong><a href=\"https://github.com/Azaretdodo\">@Azaretdodo</a></strong></li>\n<li><a href=\"https://github.com/ipython/ipykernel/issues/422\">(#422)</a>: <em>AttributeError: 'NoneType' object has no attribute 'thread'</em> by <strong><a href=\"https://github.com/yashk2810\">@yashk2810</a></strong></li>\n<li><a href=\"https://github.com/ipython/ipykernel/issues/369\">(#369)</a>: <em>Wait for comm message synchronously</em> by <strong><a href=\"https://github.com/saulshanabrook\">@saulshanabrook</a></strong></li>\n</ul>\n<h5><a href=\"https://github.com/ipython/ipynb\">ipython/ipynb</a></h5>\n<ul>\n<li><a href=\"https://github.com/ipython/ipynb/issues/38\">(#38)</a>: <em>Reload semantics</em> by <strong><a href=\"https://github.com/mikepurvis\">@mikepurvis</a></strong></li>\n</ul>\n<h5><a href=\"https://github.com/ipython/ipython\">ipython/ipython</a></h5>\n<ul>\n<li><a href=\"https://github.com/ipython/ipython/issues/11941\">(#11941)</a>: <em>Raising any error always triggers an AttributeError</em> by <strong><a href=\"https://github.com/AgilentGCMS\">@AgilentGCMS</a></strong></li>\n<li><a href=\"https://github.com/ipython/ipython/issues/11921\">(#11921)</a>: <em>Tab completion Fraction(n,m).denomi<TAB> causes \"Exception There are no params defined on this.\"</em> by <strong><a href=\"https://github.com/tigran123\">@tigran123</a></strong></li>\n</ul>\n<h5><a href=\"https://github.com/ipython/rlipython\">ipython/rlipython</a></h5>\n<ul>\n<li><a href=\"https://github.com/ipython/rlipython/issues/22\">(#22)</a>: _README.md - update to highlight \"DO <strong>NOT</strong> USE WITH IPYTHON 7\" - it WILL corrupt your installation. _ by <strong><a href=\"https://github.com/WaterSibilantFalling\">@WaterSibilantFalling</a></strong></li>\n</ul>\n<h5><a href=\"https://github.com/ipython/traitlets\">ipython/traitlets</a></h5>"
      }
     },
     "f0b90dc0f2b04f74b2cb9aecf9e9aa9b": {
      "model_module": "@jupyter-widgets/controls",
      "model_module_version": "1.5.0",
      "model_name": "HTMLModel",
      "state": {
       "_dom_classes": [],
       "_model_module": "@jupyter-widgets/controls",
       "_model_module_version": "1.5.0",
       "_model_name": "HTMLModel",
       "_view_count": null,
       "_view_module": "@jupyter-widgets/controls",
       "_view_module_version": "1.5.0",
       "_view_name": "HTMLView",
       "description": "",
       "description_tooltip": null,
       "layout": "IPY_MODEL_15ac471d494d47bd9c812ef604082717",
       "placeholder": "​",
       "style": "IPY_MODEL_88fd747322d44e53b04a07c7c63f961f",
       "value": "<h4>Closed PRs for org: <code>jupyter-widgets</code></h4>\n<h5><a href=\"https://github.com/jupyter-widgets/ipyleaflet\">jupyter-widgets/ipyleaflet</a></h5>\n<ul>\n<li><a href=\"https://github.com/jupyter-widgets/ipyleaflet/pull/444\">(#444)</a>: <em>Bump macaddress from 0.2.8 to 0.2.9 in /js</em> by <strong><a href=\"https://github.com/dependabot\">@dependabot</a></strong> merged by <strong><a href=\"https://github.com/martinRenou\">@martinRenou</a></strong></li>\n<li><a href=\"https://github.com/jupyter-widgets/ipyleaflet/pull/443\">(#443)</a>: <em>Add spinner when tiles are loading</em> by <strong><a href=\"https://github.com/davidbrochart\">@davidbrochart</a></strong> merged by <strong><a href=\"https://github.com/martinRenou\">@martinRenou</a></strong></li>\n<li><a href=\"https://github.com/jupyter-widgets/ipyleaflet/pull/439\">(#439)</a>: <em>Allow rendering GeoJSON points with CircleMarkers.</em> by <strong><a href=\"https://github.com/bjorm\">@bjorm</a></strong> merged by <strong><a href=\"https://github.com/martinRenou\">@martinRenou</a></strong></li>\n<li><a href=\"https://github.com/jupyter-widgets/ipyleaflet/pull/438\">(#438)</a>: <em>Bump lodash from 4.17.5 to 4.17.15 in /js</em> by <strong><a href=\"https://github.com/dependabot\">@dependabot</a></strong> merged by <strong><a href=\"https://github.com/martinRenou\">@martinRenou</a></strong></li>\n<li><a href=\"https://github.com/jupyter-widgets/ipyleaflet/pull/437\">(#437)</a>: <em>Add Leaflet.Path.Transform</em> by <strong><a href=\"https://github.com/davidbrochart\">@davidbrochart</a></strong> merged by <strong><a href=\"https://github.com/martinRenou\">@martinRenou</a></strong></li>\n</ul>\n<h5><a href=\"https://github.com/jupyter-widgets/ipywidgets\">jupyter-widgets/ipywidgets</a></h5>\n<ul>\n<li><a href=\"https://github.com/jupyter-widgets/ipywidgets/pull/2619\">(#2619)</a>: <em>Fixed style of password field #2492</em> by <strong><a href=\"https://github.com/ThierrySpetebroot\">@ThierrySpetebroot</a></strong> merged by <strong><a href=\"https://github.com/jasongrout\">@jasongrout</a></strong></li>\n<li><a href=\"https://github.com/jupyter-widgets/ipywidgets/pull/2613\">(#2613)</a>: <em>Update compatibility table</em> by <strong><a href=\"https://github.com/jasongrout\">@jasongrout</a></strong> merged by <strong><a href=\"https://github.com/jasongrout\">@jasongrout</a></strong></li>\n<li><a href=\"https://github.com/jupyter-widgets/ipywidgets/pull/2596\">(#2596)</a>: <em>Fix indentation</em> by <strong><a href=\"https://github.com/martinRenou\">@martinRenou</a></strong> merged by <strong><a href=\"https://github.com/jasongrout\">@jasongrout</a></strong></li>\n</ul>\n<h5><a href=\"https://github.com/jupyter-widgets/midicontrols\">jupyter-widgets/midicontrols</a></h5>\n<ul>\n<li><a href=\"https://github.com/jupyter-widgets/midicontrols/pull/6\">(#6)</a>: <em>Bump yarn from 1.16.0 to 1.17.3</em> by <strong><a href=\"https://github.com/dependabot\">@dependabot</a></strong> merged by <strong><a href=\"https://github.com/jasongrout\">@jasongrout</a></strong></li>\n</ul>\n<h5><a href=\"https://github.com/jupyter-widgets/pythreejs\">jupyter-widgets/pythreejs</a></h5>\n<ul>\n<li><a href=\"https://github.com/jupyter-widgets/pythreejs/pull/297\">(#297)</a>: <em>Lazy-load widgets in jupyterlab</em> by <strong><a href=\"https://github.com/nrbgt\">@nrbgt</a></strong> merged by <strong><a href=\"https://github.com/vidartf\">@vidartf</a></strong></li>\n<li><a href=\"https://github.com/jupyter-widgets/pythreejs/pull/293\">(#293)</a>: <em>Hold auto--rerender context manager</em> by <strong><a href=\"https://github.com/vidartf\">@vidartf</a></strong> merged by <strong><a href=\"https://github.com/vidartf\">@vidartf</a></strong></li>\n<li><a href=\"https://github.com/jupyter-widgets/pythreejs/pull/291\">(#291)</a>: <em>Ensure we dispose wrapped objects when widget is destroyed</em> by <strong><a href=\"https://github.com/vidartf\">@vidartf</a></strong> merged by <strong><a href=\"https://github.com/vidartf\">@vidartf</a></strong></li>\n<li><a href=\"https://github.com/jupyter-widgets/pythreejs/pull/289\">(#289)</a>: <em>Support and default to webgl2</em> by <strong><a href=\"https://github.com/vidartf\">@vidartf</a></strong> merged by <strong><a href=\"https://github.com/vidartf\">@vidartf</a></strong></li>\n</ul>\n<h5><a href=\"https://github.com/jupyter-widgets/widget-ts-cookiecutter\">jupyter-widgets/widget-ts-cookiecutter</a></h5>\n<ul>\n<li><a href=\"https://github.com/jupyter-widgets/widget-ts-cookiecutter/pull/56\">(#56)</a>: <em>Fix typo</em> by <strong><a href=\"https://github.com/jtpio\">@jtpio</a></strong> merged by <strong><a href=\"https://github.com/SylvainCorlay\">@SylvainCorlay</a></strong></li>\n</ul>"
      }
     },
     "f2a707aae75947c18f271bd98ab990f3": {
      "model_module": "@jupyter-widgets/controls",
      "model_module_version": "1.5.0",
      "model_name": "DescriptionStyleModel",
      "state": {
       "_model_module": "@jupyter-widgets/controls",
       "_model_module_version": "1.5.0",
       "_model_name": "DescriptionStyleModel",
       "_view_count": null,
       "_view_module": "@jupyter-widgets/base",
       "_view_module_version": "1.2.0",
       "_view_name": "StyleView",
       "description_width": ""
      }
     },
     "f5b7c739845e4432ba83899c8eabf8ba": {
      "model_module": "@jupyter-widgets/controls",
      "model_module_version": "1.5.0",
      "model_name": "DescriptionStyleModel",
      "state": {
       "_model_module": "@jupyter-widgets/controls",
       "_model_module_version": "1.5.0",
       "_model_name": "DescriptionStyleModel",
       "_view_count": null,
       "_view_module": "@jupyter-widgets/base",
       "_view_module_version": "1.2.0",
       "_view_name": "StyleView",
       "description_width": ""
      }
     },
     "fda06a88a8534c659d511726bc078193": {
      "model_module": "@jupyter-widgets/controls",
      "model_module_version": "1.5.0",
      "model_name": "DescriptionStyleModel",
      "state": {
       "_model_module": "@jupyter-widgets/controls",
       "_model_module_version": "1.5.0",
       "_model_name": "DescriptionStyleModel",
       "_view_count": null,
       "_view_module": "@jupyter-widgets/base",
       "_view_module_version": "1.2.0",
       "_view_name": "StyleView",
       "description_width": ""
      }
     },
     "fe4eeac8c662462ba6ef88f53b6329d0": {
      "model_module": "@jupyter-widgets/base",
      "model_module_version": "1.2.0",
      "model_name": "LayoutModel",
      "state": {
       "_model_module": "@jupyter-widgets/base",
       "_model_module_version": "1.2.0",
       "_model_name": "LayoutModel",
       "_view_count": null,
       "_view_module": "@jupyter-widgets/base",
       "_view_module_version": "1.2.0",
       "_view_name": "LayoutView",
       "align_content": null,
       "align_items": null,
       "align_self": null,
       "border": null,
       "bottom": null,
       "display": null,
       "flex": null,
       "flex_flow": null,
       "grid_area": null,
       "grid_auto_columns": null,
       "grid_auto_flow": null,
       "grid_auto_rows": null,
       "grid_column": null,
       "grid_gap": null,
       "grid_row": null,
       "grid_template_areas": null,
       "grid_template_columns": null,
       "grid_template_rows": null,
       "height": null,
       "justify_content": null,
       "justify_items": null,
       "left": null,
       "margin": null,
       "max_height": null,
       "max_width": null,
       "min_height": null,
       "min_width": null,
       "object_fit": null,
       "object_position": null,
       "order": null,
       "overflow": null,
       "overflow_x": null,
       "overflow_y": null,
       "padding": null,
       "right": null,
       "top": null,
       "visibility": null,
       "width": null
      }
     }
    },
    "version_major": 2,
    "version_minor": 0
   }
  }
 },
 "nbformat": 4,
 "nbformat_minor": 4
}