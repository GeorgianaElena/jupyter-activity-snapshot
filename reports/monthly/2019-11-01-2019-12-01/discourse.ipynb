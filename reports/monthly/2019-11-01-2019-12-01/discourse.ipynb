{
 "cells": [
  {
   "cell_type": "code",
   "execution_count": 1,
   "metadata": {
    "papermill": {
     "duration": 0.958752,
     "end_time": "2019-12-01T17:52:44.505384",
     "exception": false,
     "start_time": "2019-12-01T17:52:43.546632",
     "status": "completed"
    },
    "tags": [
     "hide_input"
    ]
   },
   "outputs": [],
   "source": [
    "import requests\n",
    "from IPython.display import Markdown\n",
    "from tqdm import tqdm, tqdm_notebook\n",
    "import pandas as pd\n",
    "from matplotlib import pyplot as plt\n",
    "import numpy as np\n",
    "import altair as alt\n",
    "from requests.utils import quote\n",
    "import os\n",
    "from datetime import timedelta\n",
    "from mod import alt_theme"
   ]
  },
  {
   "cell_type": "code",
   "execution_count": 2,
   "metadata": {
    "papermill": {
     "duration": 0.020699,
     "end_time": "2019-12-01T17:52:44.538109",
     "exception": false,
     "start_time": "2019-12-01T17:52:44.517410",
     "status": "completed"
    },
    "tags": [
     "parameters",
     "hide_input"
    ]
   },
   "outputs": [],
   "source": [
    "fmt = \"{:%Y-%m-%d}\"\n",
    "\n",
    "# Can optionally use number of days to choose dates\n",
    "n_days = 60\n",
    "end_date = fmt.format(pd.datetime.today())\n",
    "start_date = fmt.format(pd.datetime.today() - timedelta(days=n_days))\n",
    "\n",
    "renderer = \"kaggle\"\n",
    "github_orgs = [\"jupyterhub\", \"jupyter\", \"jupyterlab\", \"jupyter-widgets\", \"ipython\", \"binder-examples\", \"nteract\"]\n",
    "bot_names = [\"stale\", \"codecov\", \"jupyterlab-dev-mode\", \"henchbot\"]"
   ]
  },
  {
   "cell_type": "code",
   "execution_count": 3,
   "metadata": {
    "papermill": {
     "duration": 0.02474,
     "end_time": "2019-12-01T17:52:44.581404",
     "exception": false,
     "start_time": "2019-12-01T17:52:44.556664",
     "status": "completed"
    },
    "tags": [
     "injected-parameters"
    ]
   },
   "outputs": [],
   "source": [
    "# Parameters\n",
    "renderer = \"kaggle\"\n",
    "github_orgs = [\"jupyterhub\", \"jupyter\", \"jupyterlab\", \"jupyter-widgets\", \"ipython\", \"binder-examples\"]\n",
    "start_date = \"2019-11-01\"\n",
    "end_date = \"2019-12-01\"\n"
   ]
  },
  {
   "cell_type": "code",
   "execution_count": 4,
   "metadata": {
    "papermill": {
     "duration": 0.025505,
     "end_time": "2019-12-01T17:52:44.620367",
     "exception": false,
     "start_time": "2019-12-01T17:52:44.594862",
     "status": "completed"
    },
    "tags": []
   },
   "outputs": [
    {
     "data": {
      "text/plain": [
       "ThemeRegistry.enable('my_theme')"
      ]
     },
     "execution_count": 4,
     "metadata": {},
     "output_type": "execute_result"
    }
   ],
   "source": [
    "alt.renderers.enable(renderer);\n",
    "alt.themes.register('my_theme', alt_theme)\n",
    "alt.themes.enable(\"my_theme\")"
   ]
  },
  {
   "cell_type": "code",
   "execution_count": 5,
   "metadata": {
    "papermill": {
     "duration": 0.023587,
     "end_time": "2019-12-01T17:52:44.658183",
     "exception": false,
     "start_time": "2019-12-01T17:52:44.634596",
     "status": "completed"
    },
    "tags": [
     "hide_input"
    ]
   },
   "outputs": [],
   "source": [
    "# Discourse API key\n",
    "api = {'Api-Key': os.environ['DISCOURSE_API_KEY'],\n",
    "       'Api-Username': os.environ['DISCOURSE_API_USERNAME']}"
   ]
  },
  {
   "cell_type": "code",
   "execution_count": 6,
   "metadata": {
    "papermill": {
     "duration": 0.032791,
     "end_time": "2019-12-01T17:52:44.705301",
     "exception": false,
     "start_time": "2019-12-01T17:52:44.672510",
     "status": "completed"
    },
    "tags": [
     "hide_input"
    ]
   },
   "outputs": [],
   "source": [
    "# Discourse\n",
    "def topics_to_markdown(topics, n_list=10):\n",
    "    body = []\n",
    "    for _, topic in topics.iterrows():\n",
    "        title = topic['fancy_title']\n",
    "        slug = topic['slug']\n",
    "        posts_count = topic['posts_count']\n",
    "        url = f'https://discourse.jupyter.org/t/{slug}'\n",
    "        body.append(f'* [{title}]({url}) ({posts_count} posts)')\n",
    "    body = body[:n_list]\n",
    "    return '\\n'.join(body)\n",
    "\n",
    "def counts_from_activity(activity):\n",
    "    counts = activity.groupby('category_id').count()['bookmarked'].reset_index()\n",
    "    counts['parent_category'] = None\n",
    "    for ii, irow in counts.iterrows():\n",
    "        if parent_categories[irow['category_id']] is not None:\n",
    "            counts.loc[ii, 'parent_category'] = parent_categories[irow['category_id']]\n",
    "\n",
    "    counts['category_id'] = counts['category_id'].map(lambda a: category_mapping[a])\n",
    "    counts['parent_category'] = counts['parent_category'].map(lambda a: category_mapping[a] if a is not None else 'parent')\n",
    "    is_parent = counts['parent_category'] == 'parent'\n",
    "    counts.loc[is_parent, 'parent_category'] = counts.loc[is_parent, 'category_id'] \n",
    "    counts['parent/category'] = counts.apply(lambda a: a['parent_category']+'/'+a['category_id'], axis=1)\n",
    "    counts = counts.sort_values(['parent_category', 'bookmarked'], ascending=False)\n",
    "    return counts"
   ]
  },
  {
   "cell_type": "markdown",
   "metadata": {
    "papermill": {
     "duration": 0.017253,
     "end_time": "2019-12-01T17:52:44.737636",
     "exception": false,
     "start_time": "2019-12-01T17:52:44.720383",
     "status": "completed"
    },
    "tags": []
   },
   "source": [
    "# Community forum activity\n",
    "\n",
    "The [Jupyter Community Forum](https://discourse.jupyter.org) is a place for Jovyans across the\n",
    "community to talk about Jupyter tools in interactive computing and how they fit into their\n",
    "workflows. It's also a place for developers to share ideas, tools, tips, and help one another.\n",
    "\n",
    "Below are a few updates from activity in the Discourse. For more detailed information about\n",
    "the activity on the Community Forum, check out these links:\n",
    "\n",
    "* [The users page](https://discourse.jupyter.org/u) has information about user activity\n",
    "* [The top posts page](https://discourse.jupyter.org/top) contains a list of top posts, sorted\n",
    "  by various metrics."
   ]
  },
  {
   "cell_type": "code",
   "execution_count": 7,
   "metadata": {
    "papermill": {
     "duration": 0.320882,
     "end_time": "2019-12-01T17:52:45.077494",
     "exception": false,
     "start_time": "2019-12-01T17:52:44.756612",
     "status": "completed"
    },
    "tags": [
     "hide_input"
    ]
   },
   "outputs": [],
   "source": [
    "# Get categories for IDs\n",
    "url = \"https://discourse.jupyter.org/site.json\"\n",
    "resp = requests.get(url, headers=api)\n",
    "category_mapping = {cat['id']: cat['name'] for cat in resp.json()['categories']}\n",
    "parent_categories = {cat['id']: cat.get(\"parent_category_id\", None) for cat in resp.json()['categories']}"
   ]
  },
  {
   "cell_type": "code",
   "execution_count": 8,
   "metadata": {
    "papermill": {
     "duration": 0.039572,
     "end_time": "2019-12-01T17:52:45.189312",
     "exception": false,
     "start_time": "2019-12-01T17:52:45.149740",
     "status": "completed"
    },
    "tags": [
     "hide_input"
    ]
   },
   "outputs": [],
   "source": [
    "# Base URL to use\n",
    "url = \"https://discourse.jupyter.org/latest.json\""
   ]
  },
  {
   "cell_type": "markdown",
   "metadata": {
    "papermill": {
     "duration": 0.019536,
     "end_time": "2019-12-01T17:52:45.228606",
     "exception": false,
     "start_time": "2019-12-01T17:52:45.209070",
     "status": "completed"
    },
    "tags": []
   },
   "source": [
    "## Topics with lots of likes\n",
    "\n",
    "\"Likes\" are a way for community members to say thanks for a helpful post, show their\n",
    "support for an idea, or generally to share a little positivity with somebody else.\n",
    "These are topics that have generated lots of likes in recent history."
   ]
  },
  {
   "cell_type": "code",
   "execution_count": 9,
   "metadata": {
    "papermill": {
     "duration": 0.24279,
     "end_time": "2019-12-01T17:52:45.493019",
     "exception": false,
     "start_time": "2019-12-01T17:52:45.250229",
     "status": "completed"
    },
    "tags": [
     "hide_input"
    ]
   },
   "outputs": [
    {
     "data": {
      "text/markdown": [
       "* [Introduce yourself!](https://discourse.jupyter.org/t/introduce-yourself) (123 posts)\n",
       "* [{WIP} Re-Design of Jupyter.org Website](https://discourse.jupyter.org/t/wip-re-design-of-jupyter-org-website) (68 posts)\n",
       "* [JupyterHub, Binder workshop in Oslo, Sept. 5-8](https://discourse.jupyter.org/t/jupyterhub-binder-workshop-in-oslo-sept-5-8) (49 posts)\n",
       "* [Microsoft Word Integration (Intern Project)](https://discourse.jupyter.org/t/microsoft-word-integration-intern-project) (25 posts)\n",
       "* [Jupyter Community Calls](https://discourse.jupyter.org/t/jupyter-community-calls) (39 posts)\n",
       "* [What&rsquo;s an alternative to the word &ldquo;Fellow&rdquo; or &ldquo;Fellowship&rdquo;?](https://discourse.jupyter.org/t/whats-an-alternative-to-the-word-fellow-or-fellowship) (16 posts)\n",
       "* [Benefits of the classic UI and use cases for classic over JupyterLab (Was: Why is Tim not moving to lab?)](https://discourse.jupyter.org/t/benefits-of-the-classic-ui-and-use-cases-for-classic-over-jupyterlab-was-why-is-tim-not-moving-to-lab) (12 posts)\n",
       "* [Governance Office Hours Meeting Minutes](https://discourse.jupyter.org/t/governance-office-hours-meeting-minutes) (44 posts)\n",
       "* [Help us choose an updated &ldquo;Launch Binder&rdquo; badge!](https://discourse.jupyter.org/t/help-us-choose-an-updated-launch-binder-badge) (21 posts)\n",
       "* [PyCon 2019 and mybinder.org](https://discourse.jupyter.org/t/pycon-2019-and-mybinder-org) (17 posts)"
      ],
      "text/plain": [
       "<IPython.core.display.Markdown object>"
      ]
     },
     "execution_count": 9,
     "metadata": {},
     "output_type": "execute_result"
    }
   ],
   "source": [
    "params = {\"order\": \"likes\", \"ascending\": \"False\"}\n",
    "resp = requests.get(url, headers=api, params=params)\n",
    "\n",
    "# Topics with the most likes in recent history\n",
    "liked = pd.DataFrame(resp.json()['topic_list']['topics'])\n",
    "Markdown(topics_to_markdown(liked))"
   ]
  },
  {
   "cell_type": "markdown",
   "metadata": {
    "papermill": {
     "duration": 0.016508,
     "end_time": "2019-12-01T17:52:45.524779",
     "exception": false,
     "start_time": "2019-12-01T17:52:45.508271",
     "status": "completed"
    },
    "tags": []
   },
   "source": [
    "## Active topics on the Community Forum\n",
    "\n",
    "These are topics with lots of activity in recent history."
   ]
  },
  {
   "cell_type": "code",
   "execution_count": 10,
   "metadata": {
    "papermill": {
     "duration": 0.255724,
     "end_time": "2019-12-01T17:52:45.797981",
     "exception": false,
     "start_time": "2019-12-01T17:52:45.542257",
     "status": "completed"
    },
    "tags": [
     "hide_input"
    ]
   },
   "outputs": [
    {
     "data": {
      "text/markdown": [
       "* [Introduce yourself!](https://discourse.jupyter.org/t/introduce-yourself) (123 posts)\n",
       "* [{WIP} Re-Design of Jupyter.org Website](https://discourse.jupyter.org/t/wip-re-design-of-jupyter-org-website) (68 posts)\n",
       "* [Tip: embed custom github content in a Binder link with nbgitpuller](https://discourse.jupyter.org/t/tip-embed-custom-github-content-in-a-binder-link-with-nbgitpuller) (52 posts)\n",
       "* [JupyterHub, Binder workshop in Oslo, Sept. 5-8](https://discourse.jupyter.org/t/jupyterhub-binder-workshop-in-oslo-sept-5-8) (49 posts)\n",
       "* [Governance Office Hours Meeting Minutes](https://discourse.jupyter.org/t/governance-office-hours-meeting-minutes) (44 posts)\n",
       "* [Jupyter Community Calls](https://discourse.jupyter.org/t/jupyter-community-calls) (39 posts)\n",
       "* [Would a &ldquo;The Littlest Binder&rdquo; be useful?](https://discourse.jupyter.org/t/would-a-the-littlest-binder-be-useful) (31 posts)\n",
       "* [Plugins of considerations](https://discourse.jupyter.org/t/plugins-of-considerations) (28 posts)\n",
       "* [Is there a free (even ad-supported) public JupyterHub available?](https://discourse.jupyter.org/t/is-there-a-free-even-ad-supported-public-jupyterhub-available) (26 posts)\n",
       "* [A proposal for JupyterHub communications](https://discourse.jupyter.org/t/a-proposal-for-jupyterhub-communications) (26 posts)"
      ],
      "text/plain": [
       "<IPython.core.display.Markdown object>"
      ]
     },
     "execution_count": 10,
     "metadata": {},
     "output_type": "execute_result"
    }
   ],
   "source": [
    "params = {\"order\": \"posts\", \"ascending\": \"False\"}\n",
    "resp = requests.get(url, headers=api, params=params)\n",
    "\n",
    "# Topics with the most posts in recent history\n",
    "posts = pd.DataFrame(resp.json()['topic_list']['topics'])\n",
    "Markdown(topics_to_markdown(posts))"
   ]
  },
  {
   "cell_type": "code",
   "execution_count": 11,
   "metadata": {
    "papermill": {
     "duration": 0.142295,
     "end_time": "2019-12-01T17:52:45.999197",
     "exception": false,
     "start_time": "2019-12-01T17:52:45.856902",
     "status": "completed"
    },
    "tags": [
     "hide_input"
    ]
   },
   "outputs": [
    {
     "data": {
      "text/html": [
       "\n",
       "  <style>\n",
       "    .error {\n",
       "        color: red;\n",
       "    }\n",
       "  </style>\n",
       "  <div id=\"altair-viz-1\"></div>\n",
       "  <script>\n",
       "    requirejs.config({\n",
       "        \"paths\": {\n",
       "            \"vega\": \"https://cdn.jsdelivr.net/npm//vega@5?noext\",\n",
       "            \"vega-lib\": \"https://cdn.jsdelivr.net/npm//vega-lib?noext\",\n",
       "            \"vega-lite\": \"https://cdn.jsdelivr.net/npm//vega-lite@3.4.0?noext\",\n",
       "            \"vega-embed\": \"https://cdn.jsdelivr.net/npm//vega-embed@5?noext\",\n",
       "        }\n",
       "    });\n",
       "    \n",
       "    require(['vega-embed'],function(vegaEmbed) {\n",
       "      var spec = {\"config\": {\"axisLeft\": {\"labelFontSize\": 15}, \"axisBottom\": {\"labelFontSize\": 15}}, \"data\": {\"name\": \"data-4d9f8a7ddef9b2af505999a09d38aec9\"}, \"mark\": \"bar\", \"encoding\": {\"color\": {\"type\": \"nominal\", \"field\": \"parent_category\"}, \"x\": {\"type\": \"nominal\", \"field\": \"parent/category\", \"sort\": [\"accessibility\", \"Admin requests\", \"Q&A\", \"nbconvert\", \"Meta\", \"announcements\", \"JupyterLab\", \"discuss\", \"JupyterHub\", \"Zero to JupyterHub on Kubernetes\", \"Governance\", \"Enterprise Gateway\", \"Community Chat\", \"discuss\", \"Binder\", \"BinderHub\"]}, \"y\": {\"type\": \"quantitative\", \"field\": \"bookmarked\"}}, \"height\": 300, \"title\": \"Activity by category\", \"width\": 700, \"$schema\": \"https://vega.github.io/schema/vega-lite/v3.4.0.json\", \"datasets\": {\"data-4d9f8a7ddef9b2af505999a09d38aec9\": [{\"category_id\": \"accessibility\", \"bookmarked\": 1, \"parent_category\": \"Special Topics\", \"parent/category\": \"Special Topics/accessibility\"}, {\"category_id\": \"Admin requests\", \"bookmarked\": 1, \"parent_category\": \"Site Feedback\", \"parent/category\": \"Site Feedback/Admin requests\"}, {\"category_id\": \"Q&A\", \"bookmarked\": 1, \"parent_category\": \"Q&A\", \"parent/category\": \"Q&A/Q&A\"}, {\"category_id\": \"nbconvert\", \"bookmarked\": 1, \"parent_category\": \"Notebook\", \"parent/category\": \"Notebook/nbconvert\"}, {\"category_id\": \"Meta\", \"bookmarked\": 3, \"parent_category\": \"Meta\", \"parent/category\": \"Meta/Meta\"}, {\"category_id\": \"announcements\", \"bookmarked\": 1, \"parent_category\": \"Meta\", \"parent/category\": \"Meta/announcements\"}, {\"category_id\": \"JupyterLab\", \"bookmarked\": 2, \"parent_category\": \"JupyterLab\", \"parent/category\": \"JupyterLab/JupyterLab\"}, {\"category_id\": \"discuss\", \"bookmarked\": 3, \"parent_category\": \"JupyterHub\", \"parent/category\": \"JupyterHub/discuss\"}, {\"category_id\": \"JupyterHub\", \"bookmarked\": 2, \"parent_category\": \"JupyterHub\", \"parent/category\": \"JupyterHub/JupyterHub\"}, {\"category_id\": \"Zero to JupyterHub on Kubernetes\", \"bookmarked\": 1, \"parent_category\": \"JupyterHub\", \"parent/category\": \"JupyterHub/Zero to JupyterHub on Kubernetes\"}, {\"category_id\": \"Governance\", \"bookmarked\": 1, \"parent_category\": \"Governance\", \"parent/category\": \"Governance/Governance\"}, {\"category_id\": \"Enterprise Gateway\", \"bookmarked\": 2, \"parent_category\": \"Enterprise Gateway\", \"parent/category\": \"Enterprise Gateway/Enterprise Gateway\"}, {\"category_id\": \"Community Chat\", \"bookmarked\": 3, \"parent_category\": \"Community Chat\", \"parent/category\": \"Community Chat/Community Chat\"}, {\"category_id\": \"discuss\", \"bookmarked\": 4, \"parent_category\": \"Binder\", \"parent/category\": \"Binder/discuss\"}, {\"category_id\": \"Binder\", \"bookmarked\": 3, \"parent_category\": \"Binder\", \"parent/category\": \"Binder/Binder\"}, {\"category_id\": \"BinderHub\", \"bookmarked\": 1, \"parent_category\": \"Binder\", \"parent/category\": \"Binder/BinderHub\"}]}};\n",
       "      var embedOpt = {\"mode\": \"vega-lite\"};\n",
       "\n",
       "      function showError(el, error){\n",
       "          el.innerHTML = ('<div class=\"error\" style=\"color:red;\">'\n",
       "                          + '<p>JavaScript Error: ' + error.message + '</p>'\n",
       "                          + \"<p>This usually means there's a typo in your chart specification. \"\n",
       "                          + \"See the javascript console for the full traceback.</p>\"\n",
       "                          + '</div>');\n",
       "          throw error;\n",
       "      }\n",
       "      const el = document.getElementById('altair-viz-1');\n",
       "      vegaEmbed(\"#altair-viz-1\", spec, embedOpt)\n",
       "        .catch(error => showError(el, error));\n",
       "    });\n",
       "\n",
       "  </script>"
      ],
      "text/plain": [
       "alt.Chart(...)"
      ]
     },
     "execution_count": 11,
     "metadata": {},
     "output_type": "execute_result"
    }
   ],
   "source": [
    "counts = counts_from_activity(posts)\n",
    "alt.Chart(data=counts, width=700, height=300, title=\"Activity by category\").mark_bar().encode(\n",
    "    x=alt.X(\"parent/category\", sort=alt.Sort(counts['category_id'].values.tolist())),\n",
    "    y=\"bookmarked\",\n",
    "    color=\"parent_category\"\n",
    ")"
   ]
  },
  {
   "cell_type": "markdown",
   "metadata": {
    "papermill": {
     "duration": 0.014849,
     "end_time": "2019-12-01T17:52:46.029031",
     "exception": false,
     "start_time": "2019-12-01T17:52:46.014182",
     "status": "completed"
    },
    "tags": []
   },
   "source": [
    "## Recently-created topics\n",
    "\n",
    "These are topics that were recently created, sorted by the amount of activity\n",
    "in each one."
   ]
  },
  {
   "cell_type": "code",
   "execution_count": 12,
   "metadata": {
    "papermill": {
     "duration": 0.221173,
     "end_time": "2019-12-01T17:52:46.269395",
     "exception": false,
     "start_time": "2019-12-01T17:52:46.048222",
     "status": "completed"
    },
    "tags": [
     "hide_input"
    ]
   },
   "outputs": [
    {
     "data": {
      "text/markdown": [
       "* [Kernel Packaging and Distribution](https://discourse.jupyter.org/t/kernel-packaging-and-distribution) (7 posts)\n",
       "* [A new Binder GUI for launching local containers](https://discourse.jupyter.org/t/a-new-binder-gui-for-launching-local-containers) (7 posts)\n",
       "* [Copy / paste in jupyterlab terminal](https://discourse.jupyter.org/t/copy-paste-in-jupyterlab-terminal) (7 posts)\n",
       "* [Webbrowser module](https://discourse.jupyter.org/t/webbrowser-module) (6 posts)\n",
       "* [Cant download files from within juypter notebook](https://discourse.jupyter.org/t/cant-download-files-from-within-juypter-notebook) (6 posts)\n",
       "* [Seeking suggestions for the best way to implement a split-view JupyterLab notebook extension](https://discourse.jupyter.org/t/seeking-suggestions-for-the-best-way-to-implement-a-split-view-jupyterlab-notebook-extension) (4 posts)\n",
       "* [Dedent selected block in text editor](https://discourse.jupyter.org/t/dedent-selected-block-in-text-editor) (4 posts)\n",
       "* [Notebook widget state is lost after kernel restart](https://discourse.jupyter.org/t/notebook-widget-state-is-lost-after-kernel-restart) (4 posts)\n",
       "* [Logging information from hub-spawned lab servers](https://discourse.jupyter.org/t/logging-information-from-hub-spawned-lab-servers) (3 posts)\n",
       "* [How to add Markdown inside a function to pretty print equation](https://discourse.jupyter.org/t/how-to-add-markdown-inside-a-function-to-pretty-print-equation) (3 posts)"
      ],
      "text/plain": [
       "<IPython.core.display.Markdown object>"
      ]
     },
     "execution_count": 12,
     "metadata": {},
     "output_type": "execute_result"
    }
   ],
   "source": [
    "params = {\"order\": \"created\", \"ascending\": \"False\"}\n",
    "resp = requests.get(url, headers=api, params=params)\n",
    "\n",
    "# Sort created by the most posted for recently-created posts\n",
    "created = pd.DataFrame(resp.json()['topic_list']['topics'])\n",
    "created = created.sort_values('posts_count', ascending=False)\n",
    "Markdown(topics_to_markdown(created))"
   ]
  },
  {
   "cell_type": "code",
   "execution_count": 13,
   "metadata": {
    "papermill": {
     "duration": 0.058715,
     "end_time": "2019-12-01T17:52:46.359815",
     "exception": false,
     "start_time": "2019-12-01T17:52:46.301100",
     "status": "completed"
    },
    "tags": [
     "hide_input"
    ]
   },
   "outputs": [
    {
     "data": {
      "text/html": [
       "\n",
       "  <style>\n",
       "    .error {\n",
       "        color: red;\n",
       "    }\n",
       "  </style>\n",
       "  <div id=\"altair-viz-2\"></div>\n",
       "  <script>\n",
       "    requirejs.config({\n",
       "        \"paths\": {\n",
       "            \"vega\": \"https://cdn.jsdelivr.net/npm//vega@5?noext\",\n",
       "            \"vega-lib\": \"https://cdn.jsdelivr.net/npm//vega-lib?noext\",\n",
       "            \"vega-lite\": \"https://cdn.jsdelivr.net/npm//vega-lite@3.4.0?noext\",\n",
       "            \"vega-embed\": \"https://cdn.jsdelivr.net/npm//vega-embed@5?noext\",\n",
       "        }\n",
       "    });\n",
       "    \n",
       "    require(['vega-embed'],function(vegaEmbed) {\n",
       "      var spec = {\"config\": {\"axisLeft\": {\"labelFontSize\": 15}, \"axisBottom\": {\"labelFontSize\": 15}}, \"data\": {\"name\": \"data-1fa001e75733a15cd7f331c8d5766f63\"}, \"mark\": \"bar\", \"encoding\": {\"color\": {\"type\": \"nominal\", \"field\": \"parent_category\"}, \"x\": {\"type\": \"nominal\", \"field\": \"parent/category\", \"sort\": [\"Special Topics\", \"Admin requests\", \"Q&A\", \"Notebook\", \"Meta\", \"JupyterLab\", \"JupyterHub\", \"Zero to JupyterHub on Kubernetes\", \"team\", \"discuss\", \"Community Chat\", \"Binder\", \"discuss\"]}, \"y\": {\"type\": \"quantitative\", \"field\": \"bookmarked\"}}, \"height\": 300, \"title\": \"Activity by category\", \"width\": 700, \"$schema\": \"https://vega.github.io/schema/vega-lite/v3.4.0.json\", \"datasets\": {\"data-1fa001e75733a15cd7f331c8d5766f63\": [{\"category_id\": \"Special Topics\", \"bookmarked\": 1, \"parent_category\": \"Special Topics\", \"parent/category\": \"Special Topics/Special Topics\"}, {\"category_id\": \"Admin requests\", \"bookmarked\": 1, \"parent_category\": \"Site Feedback\", \"parent/category\": \"Site Feedback/Admin requests\"}, {\"category_id\": \"Q&A\", \"bookmarked\": 3, \"parent_category\": \"Q&A\", \"parent/category\": \"Q&A/Q&A\"}, {\"category_id\": \"Notebook\", \"bookmarked\": 0, \"parent_category\": \"Notebook\", \"parent/category\": \"Notebook/Notebook\"}, {\"category_id\": \"Meta\", \"bookmarked\": 1, \"parent_category\": \"Meta\", \"parent/category\": \"Meta/Meta\"}, {\"category_id\": \"JupyterLab\", \"bookmarked\": 3, \"parent_category\": \"JupyterLab\", \"parent/category\": \"JupyterLab/JupyterLab\"}, {\"category_id\": \"JupyterHub\", \"bookmarked\": 2, \"parent_category\": \"JupyterHub\", \"parent/category\": \"JupyterHub/JupyterHub\"}, {\"category_id\": \"Zero to JupyterHub on Kubernetes\", \"bookmarked\": 1, \"parent_category\": \"JupyterHub\", \"parent/category\": \"JupyterHub/Zero to JupyterHub on Kubernetes\"}, {\"category_id\": \"team\", \"bookmarked\": 1, \"parent_category\": \"JupyterHub\", \"parent/category\": \"JupyterHub/team\"}, {\"category_id\": \"discuss\", \"bookmarked\": 0, \"parent_category\": \"JupyterHub\", \"parent/category\": \"JupyterHub/discuss\"}, {\"category_id\": \"Community Chat\", \"bookmarked\": 0, \"parent_category\": \"Community Chat\", \"parent/category\": \"Community Chat/Community Chat\"}, {\"category_id\": \"Binder\", \"bookmarked\": 2, \"parent_category\": \"Binder\", \"parent/category\": \"Binder/Binder\"}, {\"category_id\": \"discuss\", \"bookmarked\": 1, \"parent_category\": \"Binder\", \"parent/category\": \"Binder/discuss\"}]}};\n",
       "      var embedOpt = {\"mode\": \"vega-lite\"};\n",
       "\n",
       "      function showError(el, error){\n",
       "          el.innerHTML = ('<div class=\"error\" style=\"color:red;\">'\n",
       "                          + '<p>JavaScript Error: ' + error.message + '</p>'\n",
       "                          + \"<p>This usually means there's a typo in your chart specification. \"\n",
       "                          + \"See the javascript console for the full traceback.</p>\"\n",
       "                          + '</div>');\n",
       "          throw error;\n",
       "      }\n",
       "      const el = document.getElementById('altair-viz-2');\n",
       "      vegaEmbed(\"#altair-viz-2\", spec, embedOpt)\n",
       "        .catch(error => showError(el, error));\n",
       "    });\n",
       "\n",
       "  </script>"
      ],
      "text/plain": [
       "alt.Chart(...)"
      ]
     },
     "execution_count": 13,
     "metadata": {},
     "output_type": "execute_result"
    }
   ],
   "source": [
    "counts = counts_from_activity(created)\n",
    "alt.Chart(data=counts, width=700, height=300, title=\"Activity by category\").mark_bar().encode(\n",
    "    x=alt.X(\"parent/category\", sort=alt.Sort(counts['category_id'].values.tolist())),\n",
    "    y=\"bookmarked\",\n",
    "    color=\"parent_category\"\n",
    ")"
   ]
  },
  {
   "cell_type": "markdown",
   "metadata": {
    "papermill": {
     "duration": 0.016689,
     "end_time": "2019-12-01T17:52:46.390295",
     "exception": false,
     "start_time": "2019-12-01T17:52:46.373606",
     "status": "completed"
    },
    "tags": []
   },
   "source": [
    "## User activity in the Community Forum\n",
    "\n",
    "**Top posters**\n",
    "\n",
    "These people have posted lots of comments, replies, answers, etc in the community forum."
   ]
  },
  {
   "cell_type": "code",
   "execution_count": 14,
   "metadata": {
    "papermill": {
     "duration": 0.025361,
     "end_time": "2019-12-01T17:52:46.432991",
     "exception": false,
     "start_time": "2019-12-01T17:52:46.407630",
     "status": "completed"
    },
    "tags": []
   },
   "outputs": [],
   "source": [
    "def plot_user_data(users, column, sort=False):\n",
    "    plt_data = users.sort_values(column, ascending=False).head(50)\n",
    "    x = alt.X(\"username\", sort=plt_data['username'].tolist()) if sort is True else 'username'\n",
    "    ch = alt.Chart(data=plt_data).mark_bar().encode(\n",
    "        x=x,\n",
    "        y=column\n",
    "    )\n",
    "    return ch"
   ]
  },
  {
   "cell_type": "code",
   "execution_count": 15,
   "metadata": {
    "papermill": {
     "duration": 0.157418,
     "end_time": "2019-12-01T17:52:46.605185",
     "exception": false,
     "start_time": "2019-12-01T17:52:46.447767",
     "status": "completed"
    },
    "tags": []
   },
   "outputs": [],
   "source": [
    "url = \"https://discourse.jupyter.org/directory_items.json\"\n",
    "params = {\"period\": \"quarterly\", \"order\": \"post_count\"}\n",
    "resp = requests.get(url, headers=api, params=params)\n",
    "\n",
    "# Topics with the most likes in recent history\n",
    "users = pd.DataFrame(resp.json()['directory_items'])\n",
    "users['username'] = users['user'].map(lambda a: a['username'])"
   ]
  },
  {
   "cell_type": "code",
   "execution_count": 16,
   "metadata": {
    "papermill": {
     "duration": 0.045463,
     "end_time": "2019-12-01T17:52:46.686297",
     "exception": false,
     "start_time": "2019-12-01T17:52:46.640834",
     "status": "completed"
    },
    "tags": []
   },
   "outputs": [
    {
     "data": {
      "text/html": [
       "\n",
       "  <style>\n",
       "    .error {\n",
       "        color: red;\n",
       "    }\n",
       "  </style>\n",
       "  <div id=\"altair-viz-3\"></div>\n",
       "  <script>\n",
       "    requirejs.config({\n",
       "        \"paths\": {\n",
       "            \"vega\": \"https://cdn.jsdelivr.net/npm//vega@5?noext\",\n",
       "            \"vega-lib\": \"https://cdn.jsdelivr.net/npm//vega-lib?noext\",\n",
       "            \"vega-lite\": \"https://cdn.jsdelivr.net/npm//vega-lite@3.4.0?noext\",\n",
       "            \"vega-embed\": \"https://cdn.jsdelivr.net/npm//vega-embed@5?noext\",\n",
       "        }\n",
       "    });\n",
       "    \n",
       "    require(['vega-embed'],function(vegaEmbed) {\n",
       "      var spec = {\"config\": {\"axisLeft\": {\"labelFontSize\": 15}, \"axisBottom\": {\"labelFontSize\": 15}}, \"data\": {\"name\": \"data-523f570f49c5bf9bd546a8fa20c54ae7\"}, \"mark\": \"bar\", \"encoding\": {\"x\": {\"type\": \"nominal\", \"field\": \"username\"}, \"y\": {\"type\": \"quantitative\", \"field\": \"post_count\"}}, \"$schema\": \"https://vega.github.io/schema/vega-lite/v3.4.0.json\", \"datasets\": {\"data-523f570f49c5bf9bd546a8fa20c54ae7\": [{\"id\": 6, \"likes_received\": 61, \"likes_given\": 122, \"topics_entered\": 218, \"topic_count\": 3, \"post_count\": 66, \"posts_read\": 699, \"days_visited\": 84, \"user\": {\"id\": 6, \"username\": \"betatim\", \"name\": \"Tim Head\", \"avatar_template\": \"/user_avatar/discourse.jupyter.org/betatim/{size}/10_2.png\", \"title\": \"\"}, \"username\": \"betatim\"}, {\"id\": 3, \"likes_received\": 110, \"likes_given\": 88, \"topics_entered\": 123, \"topic_count\": 13, \"post_count\": 56, \"posts_read\": 405, \"days_visited\": 79, \"user\": {\"id\": 3, \"username\": \"choldgraf\", \"name\": \"Chris Holdgraf\", \"avatar_template\": \"/user_avatar/discourse.jupyter.org/choldgraf/{size}/1264_2.png\", \"title\": \"Regular\"}, \"username\": \"choldgraf\"}, {\"id\": 11, \"likes_received\": 19, \"likes_given\": 105, \"topics_entered\": 246, \"topic_count\": 0, \"post_count\": 34, \"posts_read\": 861, \"days_visited\": 86, \"user\": {\"id\": 11, \"username\": \"fomightez\", \"name\": \"Wayne\", \"avatar_template\": \"/user_avatar/discourse.jupyter.org/fomightez/{size}/495_2.png\", \"title\": null}, \"username\": \"fomightez\"}, {\"id\": 73, \"likes_received\": 21, \"likes_given\": 38, \"topics_entered\": 274, \"topic_count\": 1, \"post_count\": 27, \"posts_read\": 979, \"days_visited\": 77, \"user\": {\"id\": 73, \"username\": \"manics\", \"name\": \"Simon\", \"avatar_template\": \"/user_avatar/discourse.jupyter.org/manics/{size}/85_2.png\", \"title\": \"\", \"primary_group_name\": \"jupyterhub-team\"}, \"username\": \"manics\"}, {\"id\": 220, \"likes_received\": 11, \"likes_given\": 2, \"topics_entered\": 36, \"topic_count\": 1, \"post_count\": 27, \"posts_read\": 125, \"days_visited\": 35, \"user\": {\"id\": 220, \"username\": \"jasongrout\", \"name\": \"Jason Grout\", \"avatar_template\": \"/user_avatar/discourse.jupyter.org/jasongrout/{size}/371_2.png\", \"title\": null}, \"username\": \"jasongrout\"}, {\"id\": 198, \"likes_received\": 8, \"likes_given\": 22, \"topics_entered\": 119, \"topic_count\": 1, \"post_count\": 20, \"posts_read\": 363, \"days_visited\": 46, \"user\": {\"id\": 198, \"username\": \"00Kai0\", \"name\": \"Kerwin Sun\", \"avatar_template\": \"/user_avatar/discourse.jupyter.org/00kai0/{size}/1144_2.png\", \"title\": null}, \"username\": \"00Kai0\"}, {\"id\": 7, \"likes_received\": 23, \"likes_given\": 28, \"topics_entered\": 68, \"topic_count\": 0, \"post_count\": 15, \"posts_read\": 232, \"days_visited\": 53, \"user\": {\"id\": 7, \"username\": \"willingc\", \"name\": \"Carol Willing\", \"avatar_template\": \"/user_avatar/discourse.jupyter.org/willingc/{size}/11_2.png\", \"title\": null}, \"username\": \"willingc\"}, {\"id\": 303, \"likes_received\": 5, \"likes_given\": 11, \"topics_entered\": 113, \"topic_count\": 1, \"post_count\": 13, \"posts_read\": 531, \"days_visited\": 74, \"user\": {\"id\": 303, \"username\": \"ian-r-rose\", \"name\": \"Ian Rose\", \"avatar_template\": \"/user_avatar/discourse.jupyter.org/ian-r-rose/{size}/1119_2.png\", \"title\": null}, \"username\": \"ian-r-rose\"}, {\"id\": 24, \"likes_received\": 15, \"likes_given\": 8, \"topics_entered\": 121, \"topic_count\": 3, \"post_count\": 13, \"posts_read\": 261, \"days_visited\": 60, \"user\": {\"id\": 24, \"username\": \"psychemedia\", \"name\": \"Tony Hirst\", \"avatar_template\": \"/user_avatar/discourse.jupyter.org/psychemedia/{size}/24_2.png\", \"title\": null}, \"username\": \"psychemedia\"}, {\"id\": 268, \"likes_received\": 15, \"likes_given\": 6, \"topics_entered\": 9, \"topic_count\": 2, \"post_count\": 12, \"posts_read\": 46, \"days_visited\": 27, \"user\": {\"id\": 268, \"username\": \"afshin\", \"name\": \"A. T. Darian\", \"avatar_template\": \"/user_avatar/discourse.jupyter.org/afshin/{size}/314_2.png\", \"title\": null}, \"username\": \"afshin\"}, {\"id\": 116, \"likes_received\": 8, \"likes_given\": 8, \"topics_entered\": 69, \"topic_count\": 0, \"post_count\": 12, \"posts_read\": 239, \"days_visited\": 62, \"user\": {\"id\": 116, \"username\": \"sgibson91\", \"name\": \"Sarah Gibson\", \"avatar_template\": \"/user_avatar/discourse.jupyter.org/sgibson91/{size}/487_2.png\", \"title\": \"\"}, \"username\": \"sgibson91\"}, {\"id\": 121, \"likes_received\": 14, \"likes_given\": 3, \"topics_entered\": 18, \"topic_count\": 1, \"post_count\": 12, \"posts_read\": 114, \"days_visited\": 11, \"user\": {\"id\": 121, \"username\": \"hadim\", \"name\": \"\", \"avatar_template\": \"/user_avatar/discourse.jupyter.org/hadim/{size}/1180_2.png\", \"title\": null}, \"username\": \"hadim\"}, {\"id\": 679, \"likes_received\": 18, \"likes_given\": 3, \"topics_entered\": 23, \"topic_count\": 0, \"post_count\": 11, \"posts_read\": 161, \"days_visited\": 14, \"user\": {\"id\": 679, \"username\": \"bollwyvl\", \"name\": \"Nicholas Bollweg\", \"avatar_template\": \"/user_avatar/discourse.jupyter.org/bollwyvl/{size}/904_2.png\", \"title\": null}, \"username\": \"bollwyvl\"}, {\"id\": 77, \"likes_received\": 7, \"likes_given\": 12, \"topics_entered\": 146, \"topic_count\": 0, \"post_count\": 10, \"posts_read\": 583, \"days_visited\": 72, \"user\": {\"id\": 77, \"username\": \"jtp\", \"name\": \"Jeremy Tuloup\", \"avatar_template\": \"/user_avatar/discourse.jupyter.org/jtp/{size}/882_2.png\", \"title\": \"\"}, \"username\": \"jtp\"}, {\"id\": 1004, \"likes_received\": 6, \"likes_given\": 6, \"topics_entered\": 9, \"topic_count\": 2, \"post_count\": 9, \"posts_read\": 35, \"days_visited\": 11, \"user\": {\"id\": 1004, \"username\": \"2ndworld\", \"name\": \"\", \"avatar_template\": \"https://avatars.discourse.org/v4/letter/2/c89c15/{size}.png\", \"title\": null}, \"username\": \"2ndworld\"}, {\"id\": 99, \"likes_received\": 26, \"likes_given\": 14, \"topics_entered\": 70, \"topic_count\": 3, \"post_count\": 9, \"posts_read\": 317, \"days_visited\": 60, \"user\": {\"id\": 99, \"username\": \"Zsailer\", \"name\": \"Zachary Sailer\", \"avatar_template\": \"/user_avatar/discourse.jupyter.org/zsailer/{size}/106_2.png\", \"title\": null}, \"username\": \"Zsailer\"}, {\"id\": 229, \"likes_received\": 4, \"likes_given\": 4, \"topics_entered\": 74, \"topic_count\": 0, \"post_count\": 9, \"posts_read\": 296, \"days_visited\": 49, \"user\": {\"id\": 229, \"username\": \"vidartf\", \"name\": \"Vidar Tonaas Fauske\", \"avatar_template\": \"/user_avatar/discourse.jupyter.org/vidartf/{size}/300_2.png\", \"title\": null}, \"username\": \"vidartf\"}, {\"id\": 884, \"likes_received\": 2, \"likes_given\": 0, \"topics_entered\": 41, \"topic_count\": 7, \"post_count\": 8, \"posts_read\": 190, \"days_visited\": 27, \"user\": {\"id\": 884, \"username\": \"Michiel\", \"name\": \"Michiel\", \"avatar_template\": \"/user_avatar/discourse.jupyter.org/michiel/{size}/1082_2.png\", \"title\": null}, \"username\": \"Michiel\"}, {\"id\": 5, \"likes_received\": 0, \"likes_given\": 3, \"topics_entered\": 15, \"topic_count\": 3, \"post_count\": 7, \"posts_read\": 47, \"days_visited\": 12, \"user\": {\"id\": 5, \"username\": \"arokem\", \"name\": \"Ariel Rokem\", \"avatar_template\": \"/user_avatar/discourse.jupyter.org/arokem/{size}/9_2.png\", \"title\": null}, \"username\": \"arokem\"}, {\"id\": 1039, \"likes_received\": 1, \"likes_given\": 0, \"topics_entered\": 22, \"topic_count\": 1, \"post_count\": 7, \"posts_read\": 50, \"days_visited\": 24, \"user\": {\"id\": 1039, \"username\": \"bshouse\", \"name\": \"Brett Shouse\", \"avatar_template\": \"/user_avatar/discourse.jupyter.org/bshouse/{size}/1232_2.png\", \"title\": null}, \"username\": \"bshouse\"}, {\"id\": 8, \"likes_received\": 13, \"likes_given\": 2, \"topics_entered\": 32, \"topic_count\": 0, \"post_count\": 7, \"posts_read\": 109, \"days_visited\": 82, \"user\": {\"id\": 8, \"username\": \"minrk\", \"name\": \"Min RK\", \"avatar_template\": \"/user_avatar/discourse.jupyter.org/minrk/{size}/13_2.png\", \"title\": null}, \"username\": \"minrk\"}, {\"id\": 737, \"likes_received\": 0, \"likes_given\": 1, \"topics_entered\": 39, \"topic_count\": 1, \"post_count\": 6, \"posts_read\": 133, \"days_visited\": 27, \"user\": {\"id\": 737, \"username\": \"geirfreysson\", \"name\": \"Geir Freysson\", \"avatar_template\": \"/user_avatar/discourse.jupyter.org/geirfreysson/{size}/952_2.png\", \"title\": null}, \"username\": \"geirfreysson\"}, {\"id\": 485, \"likes_received\": 0, \"likes_given\": 17, \"topics_entered\": 30, \"topic_count\": 0, \"post_count\": 6, \"posts_read\": 73, \"days_visited\": 12, \"user\": {\"id\": 485, \"username\": \"rolweber\", \"name\": \"Roland Weber\", \"avatar_template\": \"/user_avatar/discourse.jupyter.org/rolweber/{size}/657_2.png\", \"title\": null}, \"username\": \"rolweber\"}, {\"id\": 12, \"likes_received\": 9, \"likes_given\": 2, \"topics_entered\": 44, \"topic_count\": 3, \"post_count\": 6, \"posts_read\": 313, \"days_visited\": 29, \"user\": {\"id\": 12, \"username\": \"yuvipanda\", \"name\": \"Yuvi Panda\", \"avatar_template\": \"/user_avatar/discourse.jupyter.org/yuvipanda/{size}/17_2.png\", \"title\": null}, \"username\": \"yuvipanda\"}, {\"id\": 920, \"likes_received\": 1, \"likes_given\": 0, \"topics_entered\": 75, \"topic_count\": 2, \"post_count\": 6, \"posts_read\": 305, \"days_visited\": 10, \"user\": {\"id\": 920, \"username\": \"andreasplesch\", \"name\": \"Andreas Plesch\", \"avatar_template\": \"/user_avatar/discourse.jupyter.org/andreasplesch/{size}/1120_2.png\", \"title\": null}, \"username\": \"andreasplesch\"}, {\"id\": 1096, \"likes_received\": 7, \"likes_given\": 1, \"topics_entered\": 6, \"topic_count\": 1, \"post_count\": 6, \"posts_read\": 22, \"days_visited\": 3, \"user\": {\"id\": 1096, \"username\": \"btel\", \"name\": \"Bartosz Telenczuk\", \"avatar_template\": \"https://avatars.discourse.org/v4/letter/b/2acd7d/{size}.png\", \"title\": null}, \"username\": \"btel\"}, {\"id\": 747, \"likes_received\": 2, \"likes_given\": 0, \"topics_entered\": 9, \"topic_count\": 3, \"post_count\": 6, \"posts_read\": 27, \"days_visited\": 19, \"user\": {\"id\": 747, \"username\": \"RSchauf\", \"name\": \"\", \"avatar_template\": \"/user_avatar/discourse.jupyter.org/rschauf/{size}/1188_2.png\", \"title\": \"\"}, \"username\": \"RSchauf\"}, {\"id\": 904, \"likes_received\": 0, \"likes_given\": 5, \"topics_entered\": 16, \"topic_count\": 5, \"post_count\": 5, \"posts_read\": 51, \"days_visited\": 13, \"user\": {\"id\": 904, \"username\": \"louis-she\", \"name\": \"Chenglu\", \"avatar_template\": \"/user_avatar/discourse.jupyter.org/louis-she/{size}/1103_2.png\", \"title\": null}, \"username\": \"louis-she\"}, {\"id\": 1005, \"likes_received\": 8, \"likes_given\": 3, \"topics_entered\": 11, \"topic_count\": 3, \"post_count\": 5, \"posts_read\": 46, \"days_visited\": 8, \"user\": {\"id\": 1005, \"username\": \"V-Talbot\", \"name\": \"\", \"avatar_template\": \"/user_avatar/discourse.jupyter.org/v-talbot/{size}/1195_2.png\", \"title\": null}, \"username\": \"V-Talbot\"}, {\"id\": 1042, \"likes_received\": 0, \"likes_given\": 0, \"topics_entered\": 4, \"topic_count\": 1, \"post_count\": 5, \"posts_read\": 9, \"days_visited\": 3, \"user\": {\"id\": 1042, \"username\": \"kashivis\", \"name\": \"Kashi\", \"avatar_template\": \"https://avatars.discourse.org/v4/letter/k/3da27b/{size}.png\", \"title\": null}, \"username\": \"kashivis\"}, {\"id\": 396, \"likes_received\": 12, \"likes_given\": 0, \"topics_entered\": 16, \"topic_count\": 2, \"post_count\": 5, \"posts_read\": 135, \"days_visited\": 3, \"user\": {\"id\": 396, \"username\": \"danlester\", \"name\": \"Dan Lester\", \"avatar_template\": \"/user_avatar/discourse.jupyter.org/danlester/{size}/906_2.png\", \"title\": null}, \"username\": \"danlester\"}, {\"id\": 34, \"likes_received\": 6, \"likes_given\": 4, \"topics_entered\": 14, \"topic_count\": 0, \"post_count\": 5, \"posts_read\": 72, \"days_visited\": 31, \"user\": {\"id\": 34, \"username\": \"danielballan\", \"name\": \"Dan Allan\", \"avatar_template\": \"/user_avatar/discourse.jupyter.org/danielballan/{size}/34_2.png\", \"title\": null}, \"username\": \"danielballan\"}, {\"id\": 280, \"likes_received\": 1, \"likes_given\": 0, \"topics_entered\": 5, \"topic_count\": 3, \"post_count\": 5, \"posts_read\": 11, \"days_visited\": 18, \"user\": {\"id\": 280, \"username\": \"mvcalder\", \"name\": \"Matt Calder\", \"avatar_template\": \"/user_avatar/discourse.jupyter.org/mvcalder/{size}/337_2.png\", \"title\": null}, \"username\": \"mvcalder\"}, {\"id\": 942, \"likes_received\": 10, \"likes_given\": 1, \"topics_entered\": 25, \"topic_count\": 1, \"post_count\": 4, \"posts_read\": 123, \"days_visited\": 12, \"user\": {\"id\": 942, \"username\": \"paul_nakroshis\", \"name\": \"Paul Nakroshis\", \"avatar_template\": \"https://avatars.discourse.org/v4/letter/p/f04885/{size}.png\", \"title\": null}, \"username\": \"paul_nakroshis\"}, {\"id\": 585, \"likes_received\": 7, \"likes_given\": 1, \"topics_entered\": 23, \"topic_count\": 0, \"post_count\": 4, \"posts_read\": 90, \"days_visited\": 18, \"user\": {\"id\": 585, \"username\": \"fcollonval\", \"name\": \"Fr\\u00e9d\\u00e9ric Collonval\", \"avatar_template\": \"/user_avatar/discourse.jupyter.org/fcollonval/{size}/801_2.png\", \"title\": null}, \"username\": \"fcollonval\"}, {\"id\": 839, \"likes_received\": 2, \"likes_given\": 0, \"topics_entered\": 33, \"topic_count\": 2, \"post_count\": 4, \"posts_read\": 184, \"days_visited\": 34, \"user\": {\"id\": 839, \"username\": \"nathan\", \"name\": \"Nathan L\", \"avatar_template\": \"/user_avatar/discourse.jupyter.org/nathan/{size}/1052_2.png\", \"title\": null}, \"username\": \"nathan\"}, {\"id\": 1113, \"likes_received\": 1, \"likes_given\": 0, \"topics_entered\": 6, \"topic_count\": 1, \"post_count\": 4, \"posts_read\": 23, \"days_visited\": 14, \"user\": {\"id\": 1113, \"username\": \"robmoore\", \"name\": \"Rob Moore\", \"avatar_template\": \"/user_avatar/discourse.jupyter.org/robmoore/{size}/1295_2.png\", \"title\": null}, \"username\": \"robmoore\"}, {\"id\": 581, \"likes_received\": 1, \"likes_given\": 2, \"topics_entered\": 3, \"topic_count\": 0, \"post_count\": 4, \"posts_read\": 9, \"days_visited\": 19, \"user\": {\"id\": 581, \"username\": \"manniche\", \"name\": \"Steen Manniche\", \"avatar_template\": \"/user_avatar/discourse.jupyter.org/manniche/{size}/799_2.png\", \"title\": null}, \"username\": \"manniche\"}, {\"id\": 959, \"likes_received\": 0, \"likes_given\": 0, \"topics_entered\": 15, \"topic_count\": 0, \"post_count\": 4, \"posts_read\": 71, \"days_visited\": 8, \"user\": {\"id\": 959, \"username\": \"scho\", \"name\": \"David Schofield\", \"avatar_template\": \"/user_avatar/discourse.jupyter.org/scho/{size}/1162_2.png\", \"title\": null}, \"username\": \"scho\"}, {\"id\": 949, \"likes_received\": 5, \"likes_given\": 3, \"topics_entered\": 10, \"topic_count\": 2, \"post_count\": 4, \"posts_read\": 62, \"days_visited\": 11, \"user\": {\"id\": 949, \"username\": \"robinovitch61\", \"name\": \"\", \"avatar_template\": \"https://avatars.discourse.org/v4/letter/r/94ad74/{size}.png\", \"title\": null}, \"username\": \"robinovitch61\"}, {\"id\": 886, \"likes_received\": 0, \"likes_given\": 0, \"topics_entered\": 11, \"topic_count\": 1, \"post_count\": 4, \"posts_read\": 62, \"days_visited\": 9, \"user\": {\"id\": 886, \"username\": \"Bikash\", \"name\": \"Bikash Roy Choudhury\", \"avatar_template\": \"/user_avatar/discourse.jupyter.org/bikash/{size}/1084_2.png\", \"title\": null}, \"username\": \"Bikash\"}, {\"id\": 926, \"likes_received\": 4, \"likes_given\": 2, \"topics_entered\": 9, \"topic_count\": 2, \"post_count\": 4, \"posts_read\": 16, \"days_visited\": 10, \"user\": {\"id\": 926, \"username\": \"pablobernabeu\", \"name\": \"Pablo Bernabeu\", \"avatar_template\": \"/user_avatar/discourse.jupyter.org/pablobernabeu/{size}/1126_2.png\", \"title\": null}, \"username\": \"pablobernabeu\"}, {\"id\": 874, \"likes_received\": 0, \"likes_given\": 0, \"topics_entered\": 4, \"topic_count\": 1, \"post_count\": 4, \"posts_read\": 12, \"days_visited\": 3, \"user\": {\"id\": 874, \"username\": \"hiram\", \"name\": \"Hiram Foster\", \"avatar_template\": \"https://avatars.discourse.org/v4/letter/h/838e76/{size}.png\", \"title\": null}, \"username\": \"hiram\"}, {\"id\": 900, \"likes_received\": 0, \"likes_given\": 0, \"topics_entered\": 4, \"topic_count\": 1, \"post_count\": 3, \"posts_read\": 7, \"days_visited\": 4, \"user\": {\"id\": 900, \"username\": \"ntravers\", \"name\": \"Nicholas Travers\", \"avatar_template\": \"https://avatars.discourse.org/v4/letter/n/ac91a4/{size}.png\", \"title\": null}, \"username\": \"ntravers\"}, {\"id\": 943, \"likes_received\": 2, \"likes_given\": 0, \"topics_entered\": 3, \"topic_count\": 1, \"post_count\": 3, \"posts_read\": 14, \"days_visited\": 4, \"user\": {\"id\": 943, \"username\": \"rochaporto\", \"name\": \"Ricardo Rocha\", \"avatar_template\": \"/user_avatar/discourse.jupyter.org/rochaporto/{size}/1149_2.png\", \"title\": null}, \"username\": \"rochaporto\"}, {\"id\": 976, \"likes_received\": 0, \"likes_given\": 0, \"topics_entered\": 3, \"topic_count\": 1, \"post_count\": 3, \"posts_read\": 6, \"days_visited\": 6, \"user\": {\"id\": 976, \"username\": \"Kinda_Curious\", \"name\": \"\", \"avatar_template\": \"/user_avatar/discourse.jupyter.org/kinda_curious/{size}/1171_2.png\", \"title\": null}, \"username\": \"Kinda_Curious\"}, {\"id\": 938, \"likes_received\": 0, \"likes_given\": 0, \"topics_entered\": 11, \"topic_count\": 1, \"post_count\": 3, \"posts_read\": 66, \"days_visited\": 11, \"user\": {\"id\": 938, \"username\": \"NawabiCoder\", \"name\": \"NawabiCoder\", \"avatar_template\": \"/user_avatar/discourse.jupyter.org/nawabicoder/{size}/1146_2.png\", \"title\": \"\"}, \"username\": \"NawabiCoder\"}, {\"id\": 640, \"likes_received\": 1, \"likes_given\": 0, \"topics_entered\": 29, \"topic_count\": 5, \"post_count\": 3, \"posts_read\": 118, \"days_visited\": 16, \"user\": {\"id\": 640, \"username\": \"Stefano_Fioravanzo\", \"name\": \"Stefano Fioravanzo\", \"avatar_template\": \"/user_avatar/discourse.jupyter.org/stefano_fioravanzo/{size}/849_2.png\", \"title\": null}, \"username\": \"Stefano_Fioravanzo\"}, {\"id\": 1132, \"likes_received\": 0, \"likes_given\": 0, \"topics_entered\": 2, \"topic_count\": 1, \"post_count\": 3, \"posts_read\": 3, \"days_visited\": 2, \"user\": {\"id\": 1132, \"username\": \"kimbah\", \"name\": \"Kim Hughes\", \"avatar_template\": \"/user_avatar/discourse.jupyter.org/kimbah/{size}/1312_2.png\", \"title\": null}, \"username\": \"kimbah\"}, {\"id\": 1122, \"likes_received\": 11, \"likes_given\": 0, \"topics_entered\": 3, \"topic_count\": 1, \"post_count\": 3, \"posts_read\": 11, \"days_visited\": 2, \"user\": {\"id\": 1122, \"username\": \"NumesSanguis\", \"name\": \"\", \"avatar_template\": \"https://avatars.discourse.org/v4/letter/n/74df32/{size}.png\", \"title\": null}, \"username\": \"NumesSanguis\"}]}};\n",
       "      var embedOpt = {\"mode\": \"vega-lite\"};\n",
       "\n",
       "      function showError(el, error){\n",
       "          el.innerHTML = ('<div class=\"error\" style=\"color:red;\">'\n",
       "                          + '<p>JavaScript Error: ' + error.message + '</p>'\n",
       "                          + \"<p>This usually means there's a typo in your chart specification. \"\n",
       "                          + \"See the javascript console for the full traceback.</p>\"\n",
       "                          + '</div>');\n",
       "          throw error;\n",
       "      }\n",
       "      const el = document.getElementById('altair-viz-3');\n",
       "      vegaEmbed(\"#altair-viz-3\", spec, embedOpt)\n",
       "        .catch(error => showError(el, error));\n",
       "    });\n",
       "\n",
       "  </script>"
      ],
      "text/plain": [
       "alt.Chart(...)"
      ]
     },
     "execution_count": 16,
     "metadata": {},
     "output_type": "execute_result"
    }
   ],
   "source": [
    "plot_user_data(users.head(50), 'post_count')"
   ]
  },
  {
   "cell_type": "markdown",
   "metadata": {
    "papermill": {
     "duration": 0.014972,
     "end_time": "2019-12-01T17:52:46.720776",
     "exception": false,
     "start_time": "2019-12-01T17:52:46.705804",
     "status": "completed"
    },
    "tags": []
   },
   "source": [
    "**Forum users, sorted by likes given**\n",
    "\n",
    "These are Community Forum members that \"liked\" other people's posts. We appreciate\n",
    "anybody taking the time to tell someone else they like what they're shared!"
   ]
  },
  {
   "cell_type": "code",
   "execution_count": 17,
   "metadata": {
    "papermill": {
     "duration": 0.04798,
     "end_time": "2019-12-01T17:52:46.789421",
     "exception": false,
     "start_time": "2019-12-01T17:52:46.741441",
     "status": "completed"
    },
    "tags": []
   },
   "outputs": [
    {
     "data": {
      "text/html": [
       "\n",
       "  <style>\n",
       "    .error {\n",
       "        color: red;\n",
       "    }\n",
       "  </style>\n",
       "  <div id=\"altair-viz-4\"></div>\n",
       "  <script>\n",
       "    requirejs.config({\n",
       "        \"paths\": {\n",
       "            \"vega\": \"https://cdn.jsdelivr.net/npm//vega@5?noext\",\n",
       "            \"vega-lib\": \"https://cdn.jsdelivr.net/npm//vega-lib?noext\",\n",
       "            \"vega-lite\": \"https://cdn.jsdelivr.net/npm//vega-lite@3.4.0?noext\",\n",
       "            \"vega-embed\": \"https://cdn.jsdelivr.net/npm//vega-embed@5?noext\",\n",
       "        }\n",
       "    });\n",
       "    \n",
       "    require(['vega-embed'],function(vegaEmbed) {\n",
       "      var spec = {\"config\": {\"axisLeft\": {\"labelFontSize\": 15}, \"axisBottom\": {\"labelFontSize\": 15}}, \"data\": {\"name\": \"data-bffb257a5a54a35de48d066ebf340ec1\"}, \"mark\": \"bar\", \"encoding\": {\"x\": {\"type\": \"nominal\", \"field\": \"username\"}, \"y\": {\"type\": \"quantitative\", \"field\": \"likes_given\"}}, \"$schema\": \"https://vega.github.io/schema/vega-lite/v3.4.0.json\", \"datasets\": {\"data-bffb257a5a54a35de48d066ebf340ec1\": [{\"id\": 6, \"likes_received\": 61, \"likes_given\": 122, \"topics_entered\": 218, \"topic_count\": 3, \"post_count\": 66, \"posts_read\": 699, \"days_visited\": 84, \"user\": {\"id\": 6, \"username\": \"betatim\", \"name\": \"Tim Head\", \"avatar_template\": \"/user_avatar/discourse.jupyter.org/betatim/{size}/10_2.png\", \"title\": \"\"}, \"username\": \"betatim\"}, {\"id\": 11, \"likes_received\": 19, \"likes_given\": 105, \"topics_entered\": 246, \"topic_count\": 0, \"post_count\": 34, \"posts_read\": 861, \"days_visited\": 86, \"user\": {\"id\": 11, \"username\": \"fomightez\", \"name\": \"Wayne\", \"avatar_template\": \"/user_avatar/discourse.jupyter.org/fomightez/{size}/495_2.png\", \"title\": null}, \"username\": \"fomightez\"}, {\"id\": 3, \"likes_received\": 110, \"likes_given\": 88, \"topics_entered\": 123, \"topic_count\": 13, \"post_count\": 56, \"posts_read\": 405, \"days_visited\": 79, \"user\": {\"id\": 3, \"username\": \"choldgraf\", \"name\": \"Chris Holdgraf\", \"avatar_template\": \"/user_avatar/discourse.jupyter.org/choldgraf/{size}/1264_2.png\", \"title\": \"Regular\"}, \"username\": \"choldgraf\"}, {\"id\": 73, \"likes_received\": 21, \"likes_given\": 38, \"topics_entered\": 274, \"topic_count\": 1, \"post_count\": 27, \"posts_read\": 979, \"days_visited\": 77, \"user\": {\"id\": 73, \"username\": \"manics\", \"name\": \"Simon\", \"avatar_template\": \"/user_avatar/discourse.jupyter.org/manics/{size}/85_2.png\", \"title\": \"\", \"primary_group_name\": \"jupyterhub-team\"}, \"username\": \"manics\"}, {\"id\": 7, \"likes_received\": 23, \"likes_given\": 28, \"topics_entered\": 68, \"topic_count\": 0, \"post_count\": 15, \"posts_read\": 232, \"days_visited\": 53, \"user\": {\"id\": 7, \"username\": \"willingc\", \"name\": \"Carol Willing\", \"avatar_template\": \"/user_avatar/discourse.jupyter.org/willingc/{size}/11_2.png\", \"title\": null}, \"username\": \"willingc\"}, {\"id\": 198, \"likes_received\": 8, \"likes_given\": 22, \"topics_entered\": 119, \"topic_count\": 1, \"post_count\": 20, \"posts_read\": 363, \"days_visited\": 46, \"user\": {\"id\": 198, \"username\": \"00Kai0\", \"name\": \"Kerwin Sun\", \"avatar_template\": \"/user_avatar/discourse.jupyter.org/00kai0/{size}/1144_2.png\", \"title\": null}, \"username\": \"00Kai0\"}, {\"id\": 485, \"likes_received\": 0, \"likes_given\": 17, \"topics_entered\": 30, \"topic_count\": 0, \"post_count\": 6, \"posts_read\": 73, \"days_visited\": 12, \"user\": {\"id\": 485, \"username\": \"rolweber\", \"name\": \"Roland Weber\", \"avatar_template\": \"/user_avatar/discourse.jupyter.org/rolweber/{size}/657_2.png\", \"title\": null}, \"username\": \"rolweber\"}, {\"id\": 99, \"likes_received\": 26, \"likes_given\": 14, \"topics_entered\": 70, \"topic_count\": 3, \"post_count\": 9, \"posts_read\": 317, \"days_visited\": 60, \"user\": {\"id\": 99, \"username\": \"Zsailer\", \"name\": \"Zachary Sailer\", \"avatar_template\": \"/user_avatar/discourse.jupyter.org/zsailer/{size}/106_2.png\", \"title\": null}, \"username\": \"Zsailer\"}, {\"id\": 77, \"likes_received\": 7, \"likes_given\": 12, \"topics_entered\": 146, \"topic_count\": 0, \"post_count\": 10, \"posts_read\": 583, \"days_visited\": 72, \"user\": {\"id\": 77, \"username\": \"jtp\", \"name\": \"Jeremy Tuloup\", \"avatar_template\": \"/user_avatar/discourse.jupyter.org/jtp/{size}/882_2.png\", \"title\": \"\"}, \"username\": \"jtp\"}, {\"id\": 303, \"likes_received\": 5, \"likes_given\": 11, \"topics_entered\": 113, \"topic_count\": 1, \"post_count\": 13, \"posts_read\": 531, \"days_visited\": 74, \"user\": {\"id\": 303, \"username\": \"ian-r-rose\", \"name\": \"Ian Rose\", \"avatar_template\": \"/user_avatar/discourse.jupyter.org/ian-r-rose/{size}/1119_2.png\", \"title\": null}, \"username\": \"ian-r-rose\"}, {\"id\": 116, \"likes_received\": 8, \"likes_given\": 8, \"topics_entered\": 69, \"topic_count\": 0, \"post_count\": 12, \"posts_read\": 239, \"days_visited\": 62, \"user\": {\"id\": 116, \"username\": \"sgibson91\", \"name\": \"Sarah Gibson\", \"avatar_template\": \"/user_avatar/discourse.jupyter.org/sgibson91/{size}/487_2.png\", \"title\": \"\"}, \"username\": \"sgibson91\"}, {\"id\": 24, \"likes_received\": 15, \"likes_given\": 8, \"topics_entered\": 121, \"topic_count\": 3, \"post_count\": 13, \"posts_read\": 261, \"days_visited\": 60, \"user\": {\"id\": 24, \"username\": \"psychemedia\", \"name\": \"Tony Hirst\", \"avatar_template\": \"/user_avatar/discourse.jupyter.org/psychemedia/{size}/24_2.png\", \"title\": null}, \"username\": \"psychemedia\"}, {\"id\": 268, \"likes_received\": 15, \"likes_given\": 6, \"topics_entered\": 9, \"topic_count\": 2, \"post_count\": 12, \"posts_read\": 46, \"days_visited\": 27, \"user\": {\"id\": 268, \"username\": \"afshin\", \"name\": \"A. T. Darian\", \"avatar_template\": \"/user_avatar/discourse.jupyter.org/afshin/{size}/314_2.png\", \"title\": null}, \"username\": \"afshin\"}, {\"id\": 1004, \"likes_received\": 6, \"likes_given\": 6, \"topics_entered\": 9, \"topic_count\": 2, \"post_count\": 9, \"posts_read\": 35, \"days_visited\": 11, \"user\": {\"id\": 1004, \"username\": \"2ndworld\", \"name\": \"\", \"avatar_template\": \"https://avatars.discourse.org/v4/letter/2/c89c15/{size}.png\", \"title\": null}, \"username\": \"2ndworld\"}, {\"id\": 904, \"likes_received\": 0, \"likes_given\": 5, \"topics_entered\": 16, \"topic_count\": 5, \"post_count\": 5, \"posts_read\": 51, \"days_visited\": 13, \"user\": {\"id\": 904, \"username\": \"louis-she\", \"name\": \"Chenglu\", \"avatar_template\": \"/user_avatar/discourse.jupyter.org/louis-she/{size}/1103_2.png\", \"title\": null}, \"username\": \"louis-she\"}, {\"id\": 229, \"likes_received\": 4, \"likes_given\": 4, \"topics_entered\": 74, \"topic_count\": 0, \"post_count\": 9, \"posts_read\": 296, \"days_visited\": 49, \"user\": {\"id\": 229, \"username\": \"vidartf\", \"name\": \"Vidar Tonaas Fauske\", \"avatar_template\": \"/user_avatar/discourse.jupyter.org/vidartf/{size}/300_2.png\", \"title\": null}, \"username\": \"vidartf\"}, {\"id\": 34, \"likes_received\": 6, \"likes_given\": 4, \"topics_entered\": 14, \"topic_count\": 0, \"post_count\": 5, \"posts_read\": 72, \"days_visited\": 31, \"user\": {\"id\": 34, \"username\": \"danielballan\", \"name\": \"Dan Allan\", \"avatar_template\": \"/user_avatar/discourse.jupyter.org/danielballan/{size}/34_2.png\", \"title\": null}, \"username\": \"danielballan\"}, {\"id\": 121, \"likes_received\": 14, \"likes_given\": 3, \"topics_entered\": 18, \"topic_count\": 1, \"post_count\": 12, \"posts_read\": 114, \"days_visited\": 11, \"user\": {\"id\": 121, \"username\": \"hadim\", \"name\": \"\", \"avatar_template\": \"/user_avatar/discourse.jupyter.org/hadim/{size}/1180_2.png\", \"title\": null}, \"username\": \"hadim\"}, {\"id\": 949, \"likes_received\": 5, \"likes_given\": 3, \"topics_entered\": 10, \"topic_count\": 2, \"post_count\": 4, \"posts_read\": 62, \"days_visited\": 11, \"user\": {\"id\": 949, \"username\": \"robinovitch61\", \"name\": \"\", \"avatar_template\": \"https://avatars.discourse.org/v4/letter/r/94ad74/{size}.png\", \"title\": null}, \"username\": \"robinovitch61\"}, {\"id\": 5, \"likes_received\": 0, \"likes_given\": 3, \"topics_entered\": 15, \"topic_count\": 3, \"post_count\": 7, \"posts_read\": 47, \"days_visited\": 12, \"user\": {\"id\": 5, \"username\": \"arokem\", \"name\": \"Ariel Rokem\", \"avatar_template\": \"/user_avatar/discourse.jupyter.org/arokem/{size}/9_2.png\", \"title\": null}, \"username\": \"arokem\"}, {\"id\": 1005, \"likes_received\": 8, \"likes_given\": 3, \"topics_entered\": 11, \"topic_count\": 3, \"post_count\": 5, \"posts_read\": 46, \"days_visited\": 8, \"user\": {\"id\": 1005, \"username\": \"V-Talbot\", \"name\": \"\", \"avatar_template\": \"/user_avatar/discourse.jupyter.org/v-talbot/{size}/1195_2.png\", \"title\": null}, \"username\": \"V-Talbot\"}, {\"id\": 679, \"likes_received\": 18, \"likes_given\": 3, \"topics_entered\": 23, \"topic_count\": 0, \"post_count\": 11, \"posts_read\": 161, \"days_visited\": 14, \"user\": {\"id\": 679, \"username\": \"bollwyvl\", \"name\": \"Nicholas Bollweg\", \"avatar_template\": \"/user_avatar/discourse.jupyter.org/bollwyvl/{size}/904_2.png\", \"title\": null}, \"username\": \"bollwyvl\"}, {\"id\": 581, \"likes_received\": 1, \"likes_given\": 2, \"topics_entered\": 3, \"topic_count\": 0, \"post_count\": 4, \"posts_read\": 9, \"days_visited\": 19, \"user\": {\"id\": 581, \"username\": \"manniche\", \"name\": \"Steen Manniche\", \"avatar_template\": \"/user_avatar/discourse.jupyter.org/manniche/{size}/799_2.png\", \"title\": null}, \"username\": \"manniche\"}, {\"id\": 926, \"likes_received\": 4, \"likes_given\": 2, \"topics_entered\": 9, \"topic_count\": 2, \"post_count\": 4, \"posts_read\": 16, \"days_visited\": 10, \"user\": {\"id\": 926, \"username\": \"pablobernabeu\", \"name\": \"Pablo Bernabeu\", \"avatar_template\": \"/user_avatar/discourse.jupyter.org/pablobernabeu/{size}/1126_2.png\", \"title\": null}, \"username\": \"pablobernabeu\"}, {\"id\": 12, \"likes_received\": 9, \"likes_given\": 2, \"topics_entered\": 44, \"topic_count\": 3, \"post_count\": 6, \"posts_read\": 313, \"days_visited\": 29, \"user\": {\"id\": 12, \"username\": \"yuvipanda\", \"name\": \"Yuvi Panda\", \"avatar_template\": \"/user_avatar/discourse.jupyter.org/yuvipanda/{size}/17_2.png\", \"title\": null}, \"username\": \"yuvipanda\"}, {\"id\": 220, \"likes_received\": 11, \"likes_given\": 2, \"topics_entered\": 36, \"topic_count\": 1, \"post_count\": 27, \"posts_read\": 125, \"days_visited\": 35, \"user\": {\"id\": 220, \"username\": \"jasongrout\", \"name\": \"Jason Grout\", \"avatar_template\": \"/user_avatar/discourse.jupyter.org/jasongrout/{size}/371_2.png\", \"title\": null}, \"username\": \"jasongrout\"}, {\"id\": 8, \"likes_received\": 13, \"likes_given\": 2, \"topics_entered\": 32, \"topic_count\": 0, \"post_count\": 7, \"posts_read\": 109, \"days_visited\": 82, \"user\": {\"id\": 8, \"username\": \"minrk\", \"name\": \"Min RK\", \"avatar_template\": \"/user_avatar/discourse.jupyter.org/minrk/{size}/13_2.png\", \"title\": null}, \"username\": \"minrk\"}, {\"id\": 737, \"likes_received\": 0, \"likes_given\": 1, \"topics_entered\": 39, \"topic_count\": 1, \"post_count\": 6, \"posts_read\": 133, \"days_visited\": 27, \"user\": {\"id\": 737, \"username\": \"geirfreysson\", \"name\": \"Geir Freysson\", \"avatar_template\": \"/user_avatar/discourse.jupyter.org/geirfreysson/{size}/952_2.png\", \"title\": null}, \"username\": \"geirfreysson\"}, {\"id\": 1096, \"likes_received\": 7, \"likes_given\": 1, \"topics_entered\": 6, \"topic_count\": 1, \"post_count\": 6, \"posts_read\": 22, \"days_visited\": 3, \"user\": {\"id\": 1096, \"username\": \"btel\", \"name\": \"Bartosz Telenczuk\", \"avatar_template\": \"https://avatars.discourse.org/v4/letter/b/2acd7d/{size}.png\", \"title\": null}, \"username\": \"btel\"}, {\"id\": 585, \"likes_received\": 7, \"likes_given\": 1, \"topics_entered\": 23, \"topic_count\": 0, \"post_count\": 4, \"posts_read\": 90, \"days_visited\": 18, \"user\": {\"id\": 585, \"username\": \"fcollonval\", \"name\": \"Fr\\u00e9d\\u00e9ric Collonval\", \"avatar_template\": \"/user_avatar/discourse.jupyter.org/fcollonval/{size}/801_2.png\", \"title\": null}, \"username\": \"fcollonval\"}, {\"id\": 942, \"likes_received\": 10, \"likes_given\": 1, \"topics_entered\": 25, \"topic_count\": 1, \"post_count\": 4, \"posts_read\": 123, \"days_visited\": 12, \"user\": {\"id\": 942, \"username\": \"paul_nakroshis\", \"name\": \"Paul Nakroshis\", \"avatar_template\": \"https://avatars.discourse.org/v4/letter/p/f04885/{size}.png\", \"title\": null}, \"username\": \"paul_nakroshis\"}, {\"id\": 1132, \"likes_received\": 0, \"likes_given\": 0, \"topics_entered\": 2, \"topic_count\": 1, \"post_count\": 3, \"posts_read\": 3, \"days_visited\": 2, \"user\": {\"id\": 1132, \"username\": \"kimbah\", \"name\": \"Kim Hughes\", \"avatar_template\": \"/user_avatar/discourse.jupyter.org/kimbah/{size}/1312_2.png\", \"title\": null}, \"username\": \"kimbah\"}, {\"id\": 640, \"likes_received\": 1, \"likes_given\": 0, \"topics_entered\": 29, \"topic_count\": 5, \"post_count\": 3, \"posts_read\": 118, \"days_visited\": 16, \"user\": {\"id\": 640, \"username\": \"Stefano_Fioravanzo\", \"name\": \"Stefano Fioravanzo\", \"avatar_template\": \"/user_avatar/discourse.jupyter.org/stefano_fioravanzo/{size}/849_2.png\", \"title\": null}, \"username\": \"Stefano_Fioravanzo\"}, {\"id\": 938, \"likes_received\": 0, \"likes_given\": 0, \"topics_entered\": 11, \"topic_count\": 1, \"post_count\": 3, \"posts_read\": 66, \"days_visited\": 11, \"user\": {\"id\": 938, \"username\": \"NawabiCoder\", \"name\": \"NawabiCoder\", \"avatar_template\": \"/user_avatar/discourse.jupyter.org/nawabicoder/{size}/1146_2.png\", \"title\": \"\"}, \"username\": \"NawabiCoder\"}, {\"id\": 976, \"likes_received\": 0, \"likes_given\": 0, \"topics_entered\": 3, \"topic_count\": 1, \"post_count\": 3, \"posts_read\": 6, \"days_visited\": 6, \"user\": {\"id\": 976, \"username\": \"Kinda_Curious\", \"name\": \"\", \"avatar_template\": \"/user_avatar/discourse.jupyter.org/kinda_curious/{size}/1171_2.png\", \"title\": null}, \"username\": \"Kinda_Curious\"}, {\"id\": 943, \"likes_received\": 2, \"likes_given\": 0, \"topics_entered\": 3, \"topic_count\": 1, \"post_count\": 3, \"posts_read\": 14, \"days_visited\": 4, \"user\": {\"id\": 943, \"username\": \"rochaporto\", \"name\": \"Ricardo Rocha\", \"avatar_template\": \"/user_avatar/discourse.jupyter.org/rochaporto/{size}/1149_2.png\", \"title\": null}, \"username\": \"rochaporto\"}, {\"id\": 900, \"likes_received\": 0, \"likes_given\": 0, \"topics_entered\": 4, \"topic_count\": 1, \"post_count\": 3, \"posts_read\": 7, \"days_visited\": 4, \"user\": {\"id\": 900, \"username\": \"ntravers\", \"name\": \"Nicholas Travers\", \"avatar_template\": \"https://avatars.discourse.org/v4/letter/n/ac91a4/{size}.png\", \"title\": null}, \"username\": \"ntravers\"}, {\"id\": 839, \"likes_received\": 2, \"likes_given\": 0, \"topics_entered\": 33, \"topic_count\": 2, \"post_count\": 4, \"posts_read\": 184, \"days_visited\": 34, \"user\": {\"id\": 839, \"username\": \"nathan\", \"name\": \"Nathan L\", \"avatar_template\": \"/user_avatar/discourse.jupyter.org/nathan/{size}/1052_2.png\", \"title\": null}, \"username\": \"nathan\"}, {\"id\": 1113, \"likes_received\": 1, \"likes_given\": 0, \"topics_entered\": 6, \"topic_count\": 1, \"post_count\": 4, \"posts_read\": 23, \"days_visited\": 14, \"user\": {\"id\": 1113, \"username\": \"robmoore\", \"name\": \"Rob Moore\", \"avatar_template\": \"/user_avatar/discourse.jupyter.org/robmoore/{size}/1295_2.png\", \"title\": null}, \"username\": \"robmoore\"}, {\"id\": 959, \"likes_received\": 0, \"likes_given\": 0, \"topics_entered\": 15, \"topic_count\": 0, \"post_count\": 4, \"posts_read\": 71, \"days_visited\": 8, \"user\": {\"id\": 959, \"username\": \"scho\", \"name\": \"David Schofield\", \"avatar_template\": \"/user_avatar/discourse.jupyter.org/scho/{size}/1162_2.png\", \"title\": null}, \"username\": \"scho\"}, {\"id\": 920, \"likes_received\": 1, \"likes_given\": 0, \"topics_entered\": 75, \"topic_count\": 2, \"post_count\": 6, \"posts_read\": 305, \"days_visited\": 10, \"user\": {\"id\": 920, \"username\": \"andreasplesch\", \"name\": \"Andreas Plesch\", \"avatar_template\": \"/user_avatar/discourse.jupyter.org/andreasplesch/{size}/1120_2.png\", \"title\": null}, \"username\": \"andreasplesch\"}, {\"id\": 884, \"likes_received\": 2, \"likes_given\": 0, \"topics_entered\": 41, \"topic_count\": 7, \"post_count\": 8, \"posts_read\": 190, \"days_visited\": 27, \"user\": {\"id\": 884, \"username\": \"Michiel\", \"name\": \"Michiel\", \"avatar_template\": \"/user_avatar/discourse.jupyter.org/michiel/{size}/1082_2.png\", \"title\": null}, \"username\": \"Michiel\"}, {\"id\": 886, \"likes_received\": 0, \"likes_given\": 0, \"topics_entered\": 11, \"topic_count\": 1, \"post_count\": 4, \"posts_read\": 62, \"days_visited\": 9, \"user\": {\"id\": 886, \"username\": \"Bikash\", \"name\": \"Bikash Roy Choudhury\", \"avatar_template\": \"/user_avatar/discourse.jupyter.org/bikash/{size}/1084_2.png\", \"title\": null}, \"username\": \"Bikash\"}, {\"id\": 1039, \"likes_received\": 1, \"likes_given\": 0, \"topics_entered\": 22, \"topic_count\": 1, \"post_count\": 7, \"posts_read\": 50, \"days_visited\": 24, \"user\": {\"id\": 1039, \"username\": \"bshouse\", \"name\": \"Brett Shouse\", \"avatar_template\": \"/user_avatar/discourse.jupyter.org/bshouse/{size}/1232_2.png\", \"title\": null}, \"username\": \"bshouse\"}, {\"id\": 874, \"likes_received\": 0, \"likes_given\": 0, \"topics_entered\": 4, \"topic_count\": 1, \"post_count\": 4, \"posts_read\": 12, \"days_visited\": 3, \"user\": {\"id\": 874, \"username\": \"hiram\", \"name\": \"Hiram Foster\", \"avatar_template\": \"https://avatars.discourse.org/v4/letter/h/838e76/{size}.png\", \"title\": null}, \"username\": \"hiram\"}, {\"id\": 280, \"likes_received\": 1, \"likes_given\": 0, \"topics_entered\": 5, \"topic_count\": 3, \"post_count\": 5, \"posts_read\": 11, \"days_visited\": 18, \"user\": {\"id\": 280, \"username\": \"mvcalder\", \"name\": \"Matt Calder\", \"avatar_template\": \"/user_avatar/discourse.jupyter.org/mvcalder/{size}/337_2.png\", \"title\": null}, \"username\": \"mvcalder\"}, {\"id\": 396, \"likes_received\": 12, \"likes_given\": 0, \"topics_entered\": 16, \"topic_count\": 2, \"post_count\": 5, \"posts_read\": 135, \"days_visited\": 3, \"user\": {\"id\": 396, \"username\": \"danlester\", \"name\": \"Dan Lester\", \"avatar_template\": \"/user_avatar/discourse.jupyter.org/danlester/{size}/906_2.png\", \"title\": null}, \"username\": \"danlester\"}, {\"id\": 1042, \"likes_received\": 0, \"likes_given\": 0, \"topics_entered\": 4, \"topic_count\": 1, \"post_count\": 5, \"posts_read\": 9, \"days_visited\": 3, \"user\": {\"id\": 1042, \"username\": \"kashivis\", \"name\": \"Kashi\", \"avatar_template\": \"https://avatars.discourse.org/v4/letter/k/3da27b/{size}.png\", \"title\": null}, \"username\": \"kashivis\"}, {\"id\": 747, \"likes_received\": 2, \"likes_given\": 0, \"topics_entered\": 9, \"topic_count\": 3, \"post_count\": 6, \"posts_read\": 27, \"days_visited\": 19, \"user\": {\"id\": 747, \"username\": \"RSchauf\", \"name\": \"\", \"avatar_template\": \"/user_avatar/discourse.jupyter.org/rschauf/{size}/1188_2.png\", \"title\": \"\"}, \"username\": \"RSchauf\"}, {\"id\": 1122, \"likes_received\": 11, \"likes_given\": 0, \"topics_entered\": 3, \"topic_count\": 1, \"post_count\": 3, \"posts_read\": 11, \"days_visited\": 2, \"user\": {\"id\": 1122, \"username\": \"NumesSanguis\", \"name\": \"\", \"avatar_template\": \"https://avatars.discourse.org/v4/letter/n/74df32/{size}.png\", \"title\": null}, \"username\": \"NumesSanguis\"}]}};\n",
       "      var embedOpt = {\"mode\": \"vega-lite\"};\n",
       "\n",
       "      function showError(el, error){\n",
       "          el.innerHTML = ('<div class=\"error\" style=\"color:red;\">'\n",
       "                          + '<p>JavaScript Error: ' + error.message + '</p>'\n",
       "                          + \"<p>This usually means there's a typo in your chart specification. \"\n",
       "                          + \"See the javascript console for the full traceback.</p>\"\n",
       "                          + '</div>');\n",
       "          throw error;\n",
       "      }\n",
       "      const el = document.getElementById('altair-viz-4');\n",
       "      vegaEmbed(\"#altair-viz-4\", spec, embedOpt)\n",
       "        .catch(error => showError(el, error));\n",
       "    });\n",
       "\n",
       "  </script>"
      ],
      "text/plain": [
       "alt.Chart(...)"
      ]
     },
     "execution_count": 17,
     "metadata": {},
     "output_type": "execute_result"
    }
   ],
   "source": [
    "plot_user_data(users.head(50), 'likes_given')"
   ]
  },
  {
   "cell_type": "markdown",
   "metadata": {
    "papermill": {
     "duration": 0.01811,
     "end_time": "2019-12-01T17:52:46.824960",
     "exception": false,
     "start_time": "2019-12-01T17:52:46.806850",
     "status": "completed"
    },
    "tags": []
   },
   "source": [
    "**Forum users, sorted by likes received**\n",
    "\n",
    "These are folks that posted things other people in the Community Forum liked."
   ]
  },
  {
   "cell_type": "code",
   "execution_count": 18,
   "metadata": {
    "papermill": {
     "duration": 0.04627,
     "end_time": "2019-12-01T17:52:46.889539",
     "exception": false,
     "start_time": "2019-12-01T17:52:46.843269",
     "status": "completed"
    },
    "tags": []
   },
   "outputs": [
    {
     "data": {
      "text/html": [
       "\n",
       "  <style>\n",
       "    .error {\n",
       "        color: red;\n",
       "    }\n",
       "  </style>\n",
       "  <div id=\"altair-viz-5\"></div>\n",
       "  <script>\n",
       "    requirejs.config({\n",
       "        \"paths\": {\n",
       "            \"vega\": \"https://cdn.jsdelivr.net/npm//vega@5?noext\",\n",
       "            \"vega-lib\": \"https://cdn.jsdelivr.net/npm//vega-lib?noext\",\n",
       "            \"vega-lite\": \"https://cdn.jsdelivr.net/npm//vega-lite@3.4.0?noext\",\n",
       "            \"vega-embed\": \"https://cdn.jsdelivr.net/npm//vega-embed@5?noext\",\n",
       "        }\n",
       "    });\n",
       "    \n",
       "    require(['vega-embed'],function(vegaEmbed) {\n",
       "      var spec = {\"config\": {\"axisLeft\": {\"labelFontSize\": 15}, \"axisBottom\": {\"labelFontSize\": 15}}, \"data\": {\"name\": \"data-687fab38e700054b0695a1e4630f2466\"}, \"mark\": \"bar\", \"encoding\": {\"x\": {\"type\": \"nominal\", \"field\": \"username\"}, \"y\": {\"type\": \"quantitative\", \"field\": \"likes_received\"}}, \"$schema\": \"https://vega.github.io/schema/vega-lite/v3.4.0.json\", \"datasets\": {\"data-687fab38e700054b0695a1e4630f2466\": [{\"id\": 3, \"likes_received\": 110, \"likes_given\": 88, \"topics_entered\": 123, \"topic_count\": 13, \"post_count\": 56, \"posts_read\": 405, \"days_visited\": 79, \"user\": {\"id\": 3, \"username\": \"choldgraf\", \"name\": \"Chris Holdgraf\", \"avatar_template\": \"/user_avatar/discourse.jupyter.org/choldgraf/{size}/1264_2.png\", \"title\": \"Regular\"}, \"username\": \"choldgraf\"}, {\"id\": 6, \"likes_received\": 61, \"likes_given\": 122, \"topics_entered\": 218, \"topic_count\": 3, \"post_count\": 66, \"posts_read\": 699, \"days_visited\": 84, \"user\": {\"id\": 6, \"username\": \"betatim\", \"name\": \"Tim Head\", \"avatar_template\": \"/user_avatar/discourse.jupyter.org/betatim/{size}/10_2.png\", \"title\": \"\"}, \"username\": \"betatim\"}, {\"id\": 99, \"likes_received\": 26, \"likes_given\": 14, \"topics_entered\": 70, \"topic_count\": 3, \"post_count\": 9, \"posts_read\": 317, \"days_visited\": 60, \"user\": {\"id\": 99, \"username\": \"Zsailer\", \"name\": \"Zachary Sailer\", \"avatar_template\": \"/user_avatar/discourse.jupyter.org/zsailer/{size}/106_2.png\", \"title\": null}, \"username\": \"Zsailer\"}, {\"id\": 7, \"likes_received\": 23, \"likes_given\": 28, \"topics_entered\": 68, \"topic_count\": 0, \"post_count\": 15, \"posts_read\": 232, \"days_visited\": 53, \"user\": {\"id\": 7, \"username\": \"willingc\", \"name\": \"Carol Willing\", \"avatar_template\": \"/user_avatar/discourse.jupyter.org/willingc/{size}/11_2.png\", \"title\": null}, \"username\": \"willingc\"}, {\"id\": 73, \"likes_received\": 21, \"likes_given\": 38, \"topics_entered\": 274, \"topic_count\": 1, \"post_count\": 27, \"posts_read\": 979, \"days_visited\": 77, \"user\": {\"id\": 73, \"username\": \"manics\", \"name\": \"Simon\", \"avatar_template\": \"/user_avatar/discourse.jupyter.org/manics/{size}/85_2.png\", \"title\": \"\", \"primary_group_name\": \"jupyterhub-team\"}, \"username\": \"manics\"}, {\"id\": 11, \"likes_received\": 19, \"likes_given\": 105, \"topics_entered\": 246, \"topic_count\": 0, \"post_count\": 34, \"posts_read\": 861, \"days_visited\": 86, \"user\": {\"id\": 11, \"username\": \"fomightez\", \"name\": \"Wayne\", \"avatar_template\": \"/user_avatar/discourse.jupyter.org/fomightez/{size}/495_2.png\", \"title\": null}, \"username\": \"fomightez\"}, {\"id\": 679, \"likes_received\": 18, \"likes_given\": 3, \"topics_entered\": 23, \"topic_count\": 0, \"post_count\": 11, \"posts_read\": 161, \"days_visited\": 14, \"user\": {\"id\": 679, \"username\": \"bollwyvl\", \"name\": \"Nicholas Bollweg\", \"avatar_template\": \"/user_avatar/discourse.jupyter.org/bollwyvl/{size}/904_2.png\", \"title\": null}, \"username\": \"bollwyvl\"}, {\"id\": 24, \"likes_received\": 15, \"likes_given\": 8, \"topics_entered\": 121, \"topic_count\": 3, \"post_count\": 13, \"posts_read\": 261, \"days_visited\": 60, \"user\": {\"id\": 24, \"username\": \"psychemedia\", \"name\": \"Tony Hirst\", \"avatar_template\": \"/user_avatar/discourse.jupyter.org/psychemedia/{size}/24_2.png\", \"title\": null}, \"username\": \"psychemedia\"}, {\"id\": 268, \"likes_received\": 15, \"likes_given\": 6, \"topics_entered\": 9, \"topic_count\": 2, \"post_count\": 12, \"posts_read\": 46, \"days_visited\": 27, \"user\": {\"id\": 268, \"username\": \"afshin\", \"name\": \"A. T. Darian\", \"avatar_template\": \"/user_avatar/discourse.jupyter.org/afshin/{size}/314_2.png\", \"title\": null}, \"username\": \"afshin\"}, {\"id\": 121, \"likes_received\": 14, \"likes_given\": 3, \"topics_entered\": 18, \"topic_count\": 1, \"post_count\": 12, \"posts_read\": 114, \"days_visited\": 11, \"user\": {\"id\": 121, \"username\": \"hadim\", \"name\": \"\", \"avatar_template\": \"/user_avatar/discourse.jupyter.org/hadim/{size}/1180_2.png\", \"title\": null}, \"username\": \"hadim\"}, {\"id\": 8, \"likes_received\": 13, \"likes_given\": 2, \"topics_entered\": 32, \"topic_count\": 0, \"post_count\": 7, \"posts_read\": 109, \"days_visited\": 82, \"user\": {\"id\": 8, \"username\": \"minrk\", \"name\": \"Min RK\", \"avatar_template\": \"/user_avatar/discourse.jupyter.org/minrk/{size}/13_2.png\", \"title\": null}, \"username\": \"minrk\"}, {\"id\": 396, \"likes_received\": 12, \"likes_given\": 0, \"topics_entered\": 16, \"topic_count\": 2, \"post_count\": 5, \"posts_read\": 135, \"days_visited\": 3, \"user\": {\"id\": 396, \"username\": \"danlester\", \"name\": \"Dan Lester\", \"avatar_template\": \"/user_avatar/discourse.jupyter.org/danlester/{size}/906_2.png\", \"title\": null}, \"username\": \"danlester\"}, {\"id\": 1122, \"likes_received\": 11, \"likes_given\": 0, \"topics_entered\": 3, \"topic_count\": 1, \"post_count\": 3, \"posts_read\": 11, \"days_visited\": 2, \"user\": {\"id\": 1122, \"username\": \"NumesSanguis\", \"name\": \"\", \"avatar_template\": \"https://avatars.discourse.org/v4/letter/n/74df32/{size}.png\", \"title\": null}, \"username\": \"NumesSanguis\"}, {\"id\": 220, \"likes_received\": 11, \"likes_given\": 2, \"topics_entered\": 36, \"topic_count\": 1, \"post_count\": 27, \"posts_read\": 125, \"days_visited\": 35, \"user\": {\"id\": 220, \"username\": \"jasongrout\", \"name\": \"Jason Grout\", \"avatar_template\": \"/user_avatar/discourse.jupyter.org/jasongrout/{size}/371_2.png\", \"title\": null}, \"username\": \"jasongrout\"}, {\"id\": 942, \"likes_received\": 10, \"likes_given\": 1, \"topics_entered\": 25, \"topic_count\": 1, \"post_count\": 4, \"posts_read\": 123, \"days_visited\": 12, \"user\": {\"id\": 942, \"username\": \"paul_nakroshis\", \"name\": \"Paul Nakroshis\", \"avatar_template\": \"https://avatars.discourse.org/v4/letter/p/f04885/{size}.png\", \"title\": null}, \"username\": \"paul_nakroshis\"}, {\"id\": 12, \"likes_received\": 9, \"likes_given\": 2, \"topics_entered\": 44, \"topic_count\": 3, \"post_count\": 6, \"posts_read\": 313, \"days_visited\": 29, \"user\": {\"id\": 12, \"username\": \"yuvipanda\", \"name\": \"Yuvi Panda\", \"avatar_template\": \"/user_avatar/discourse.jupyter.org/yuvipanda/{size}/17_2.png\", \"title\": null}, \"username\": \"yuvipanda\"}, {\"id\": 116, \"likes_received\": 8, \"likes_given\": 8, \"topics_entered\": 69, \"topic_count\": 0, \"post_count\": 12, \"posts_read\": 239, \"days_visited\": 62, \"user\": {\"id\": 116, \"username\": \"sgibson91\", \"name\": \"Sarah Gibson\", \"avatar_template\": \"/user_avatar/discourse.jupyter.org/sgibson91/{size}/487_2.png\", \"title\": \"\"}, \"username\": \"sgibson91\"}, {\"id\": 1005, \"likes_received\": 8, \"likes_given\": 3, \"topics_entered\": 11, \"topic_count\": 3, \"post_count\": 5, \"posts_read\": 46, \"days_visited\": 8, \"user\": {\"id\": 1005, \"username\": \"V-Talbot\", \"name\": \"\", \"avatar_template\": \"/user_avatar/discourse.jupyter.org/v-talbot/{size}/1195_2.png\", \"title\": null}, \"username\": \"V-Talbot\"}, {\"id\": 198, \"likes_received\": 8, \"likes_given\": 22, \"topics_entered\": 119, \"topic_count\": 1, \"post_count\": 20, \"posts_read\": 363, \"days_visited\": 46, \"user\": {\"id\": 198, \"username\": \"00Kai0\", \"name\": \"Kerwin Sun\", \"avatar_template\": \"/user_avatar/discourse.jupyter.org/00kai0/{size}/1144_2.png\", \"title\": null}, \"username\": \"00Kai0\"}, {\"id\": 1096, \"likes_received\": 7, \"likes_given\": 1, \"topics_entered\": 6, \"topic_count\": 1, \"post_count\": 6, \"posts_read\": 22, \"days_visited\": 3, \"user\": {\"id\": 1096, \"username\": \"btel\", \"name\": \"Bartosz Telenczuk\", \"avatar_template\": \"https://avatars.discourse.org/v4/letter/b/2acd7d/{size}.png\", \"title\": null}, \"username\": \"btel\"}, {\"id\": 585, \"likes_received\": 7, \"likes_given\": 1, \"topics_entered\": 23, \"topic_count\": 0, \"post_count\": 4, \"posts_read\": 90, \"days_visited\": 18, \"user\": {\"id\": 585, \"username\": \"fcollonval\", \"name\": \"Fr\\u00e9d\\u00e9ric Collonval\", \"avatar_template\": \"/user_avatar/discourse.jupyter.org/fcollonval/{size}/801_2.png\", \"title\": null}, \"username\": \"fcollonval\"}, {\"id\": 77, \"likes_received\": 7, \"likes_given\": 12, \"topics_entered\": 146, \"topic_count\": 0, \"post_count\": 10, \"posts_read\": 583, \"days_visited\": 72, \"user\": {\"id\": 77, \"username\": \"jtp\", \"name\": \"Jeremy Tuloup\", \"avatar_template\": \"/user_avatar/discourse.jupyter.org/jtp/{size}/882_2.png\", \"title\": \"\"}, \"username\": \"jtp\"}, {\"id\": 34, \"likes_received\": 6, \"likes_given\": 4, \"topics_entered\": 14, \"topic_count\": 0, \"post_count\": 5, \"posts_read\": 72, \"days_visited\": 31, \"user\": {\"id\": 34, \"username\": \"danielballan\", \"name\": \"Dan Allan\", \"avatar_template\": \"/user_avatar/discourse.jupyter.org/danielballan/{size}/34_2.png\", \"title\": null}, \"username\": \"danielballan\"}, {\"id\": 1004, \"likes_received\": 6, \"likes_given\": 6, \"topics_entered\": 9, \"topic_count\": 2, \"post_count\": 9, \"posts_read\": 35, \"days_visited\": 11, \"user\": {\"id\": 1004, \"username\": \"2ndworld\", \"name\": \"\", \"avatar_template\": \"https://avatars.discourse.org/v4/letter/2/c89c15/{size}.png\", \"title\": null}, \"username\": \"2ndworld\"}, {\"id\": 303, \"likes_received\": 5, \"likes_given\": 11, \"topics_entered\": 113, \"topic_count\": 1, \"post_count\": 13, \"posts_read\": 531, \"days_visited\": 74, \"user\": {\"id\": 303, \"username\": \"ian-r-rose\", \"name\": \"Ian Rose\", \"avatar_template\": \"/user_avatar/discourse.jupyter.org/ian-r-rose/{size}/1119_2.png\", \"title\": null}, \"username\": \"ian-r-rose\"}, {\"id\": 949, \"likes_received\": 5, \"likes_given\": 3, \"topics_entered\": 10, \"topic_count\": 2, \"post_count\": 4, \"posts_read\": 62, \"days_visited\": 11, \"user\": {\"id\": 949, \"username\": \"robinovitch61\", \"name\": \"\", \"avatar_template\": \"https://avatars.discourse.org/v4/letter/r/94ad74/{size}.png\", \"title\": null}, \"username\": \"robinovitch61\"}, {\"id\": 926, \"likes_received\": 4, \"likes_given\": 2, \"topics_entered\": 9, \"topic_count\": 2, \"post_count\": 4, \"posts_read\": 16, \"days_visited\": 10, \"user\": {\"id\": 926, \"username\": \"pablobernabeu\", \"name\": \"Pablo Bernabeu\", \"avatar_template\": \"/user_avatar/discourse.jupyter.org/pablobernabeu/{size}/1126_2.png\", \"title\": null}, \"username\": \"pablobernabeu\"}, {\"id\": 229, \"likes_received\": 4, \"likes_given\": 4, \"topics_entered\": 74, \"topic_count\": 0, \"post_count\": 9, \"posts_read\": 296, \"days_visited\": 49, \"user\": {\"id\": 229, \"username\": \"vidartf\", \"name\": \"Vidar Tonaas Fauske\", \"avatar_template\": \"/user_avatar/discourse.jupyter.org/vidartf/{size}/300_2.png\", \"title\": null}, \"username\": \"vidartf\"}, {\"id\": 884, \"likes_received\": 2, \"likes_given\": 0, \"topics_entered\": 41, \"topic_count\": 7, \"post_count\": 8, \"posts_read\": 190, \"days_visited\": 27, \"user\": {\"id\": 884, \"username\": \"Michiel\", \"name\": \"Michiel\", \"avatar_template\": \"/user_avatar/discourse.jupyter.org/michiel/{size}/1082_2.png\", \"title\": null}, \"username\": \"Michiel\"}, {\"id\": 943, \"likes_received\": 2, \"likes_given\": 0, \"topics_entered\": 3, \"topic_count\": 1, \"post_count\": 3, \"posts_read\": 14, \"days_visited\": 4, \"user\": {\"id\": 943, \"username\": \"rochaporto\", \"name\": \"Ricardo Rocha\", \"avatar_template\": \"/user_avatar/discourse.jupyter.org/rochaporto/{size}/1149_2.png\", \"title\": null}, \"username\": \"rochaporto\"}, {\"id\": 839, \"likes_received\": 2, \"likes_given\": 0, \"topics_entered\": 33, \"topic_count\": 2, \"post_count\": 4, \"posts_read\": 184, \"days_visited\": 34, \"user\": {\"id\": 839, \"username\": \"nathan\", \"name\": \"Nathan L\", \"avatar_template\": \"/user_avatar/discourse.jupyter.org/nathan/{size}/1052_2.png\", \"title\": null}, \"username\": \"nathan\"}, {\"id\": 747, \"likes_received\": 2, \"likes_given\": 0, \"topics_entered\": 9, \"topic_count\": 3, \"post_count\": 6, \"posts_read\": 27, \"days_visited\": 19, \"user\": {\"id\": 747, \"username\": \"RSchauf\", \"name\": \"\", \"avatar_template\": \"/user_avatar/discourse.jupyter.org/rschauf/{size}/1188_2.png\", \"title\": \"\"}, \"username\": \"RSchauf\"}, {\"id\": 280, \"likes_received\": 1, \"likes_given\": 0, \"topics_entered\": 5, \"topic_count\": 3, \"post_count\": 5, \"posts_read\": 11, \"days_visited\": 18, \"user\": {\"id\": 280, \"username\": \"mvcalder\", \"name\": \"Matt Calder\", \"avatar_template\": \"/user_avatar/discourse.jupyter.org/mvcalder/{size}/337_2.png\", \"title\": null}, \"username\": \"mvcalder\"}, {\"id\": 640, \"likes_received\": 1, \"likes_given\": 0, \"topics_entered\": 29, \"topic_count\": 5, \"post_count\": 3, \"posts_read\": 118, \"days_visited\": 16, \"user\": {\"id\": 640, \"username\": \"Stefano_Fioravanzo\", \"name\": \"Stefano Fioravanzo\", \"avatar_template\": \"/user_avatar/discourse.jupyter.org/stefano_fioravanzo/{size}/849_2.png\", \"title\": null}, \"username\": \"Stefano_Fioravanzo\"}, {\"id\": 920, \"likes_received\": 1, \"likes_given\": 0, \"topics_entered\": 75, \"topic_count\": 2, \"post_count\": 6, \"posts_read\": 305, \"days_visited\": 10, \"user\": {\"id\": 920, \"username\": \"andreasplesch\", \"name\": \"Andreas Plesch\", \"avatar_template\": \"/user_avatar/discourse.jupyter.org/andreasplesch/{size}/1120_2.png\", \"title\": null}, \"username\": \"andreasplesch\"}, {\"id\": 581, \"likes_received\": 1, \"likes_given\": 2, \"topics_entered\": 3, \"topic_count\": 0, \"post_count\": 4, \"posts_read\": 9, \"days_visited\": 19, \"user\": {\"id\": 581, \"username\": \"manniche\", \"name\": \"Steen Manniche\", \"avatar_template\": \"/user_avatar/discourse.jupyter.org/manniche/{size}/799_2.png\", \"title\": null}, \"username\": \"manniche\"}, {\"id\": 1113, \"likes_received\": 1, \"likes_given\": 0, \"topics_entered\": 6, \"topic_count\": 1, \"post_count\": 4, \"posts_read\": 23, \"days_visited\": 14, \"user\": {\"id\": 1113, \"username\": \"robmoore\", \"name\": \"Rob Moore\", \"avatar_template\": \"/user_avatar/discourse.jupyter.org/robmoore/{size}/1295_2.png\", \"title\": null}, \"username\": \"robmoore\"}, {\"id\": 1039, \"likes_received\": 1, \"likes_given\": 0, \"topics_entered\": 22, \"topic_count\": 1, \"post_count\": 7, \"posts_read\": 50, \"days_visited\": 24, \"user\": {\"id\": 1039, \"username\": \"bshouse\", \"name\": \"Brett Shouse\", \"avatar_template\": \"/user_avatar/discourse.jupyter.org/bshouse/{size}/1232_2.png\", \"title\": null}, \"username\": \"bshouse\"}, {\"id\": 900, \"likes_received\": 0, \"likes_given\": 0, \"topics_entered\": 4, \"topic_count\": 1, \"post_count\": 3, \"posts_read\": 7, \"days_visited\": 4, \"user\": {\"id\": 900, \"username\": \"ntravers\", \"name\": \"Nicholas Travers\", \"avatar_template\": \"https://avatars.discourse.org/v4/letter/n/ac91a4/{size}.png\", \"title\": null}, \"username\": \"ntravers\"}, {\"id\": 1132, \"likes_received\": 0, \"likes_given\": 0, \"topics_entered\": 2, \"topic_count\": 1, \"post_count\": 3, \"posts_read\": 3, \"days_visited\": 2, \"user\": {\"id\": 1132, \"username\": \"kimbah\", \"name\": \"Kim Hughes\", \"avatar_template\": \"/user_avatar/discourse.jupyter.org/kimbah/{size}/1312_2.png\", \"title\": null}, \"username\": \"kimbah\"}, {\"id\": 938, \"likes_received\": 0, \"likes_given\": 0, \"topics_entered\": 11, \"topic_count\": 1, \"post_count\": 3, \"posts_read\": 66, \"days_visited\": 11, \"user\": {\"id\": 938, \"username\": \"NawabiCoder\", \"name\": \"NawabiCoder\", \"avatar_template\": \"/user_avatar/discourse.jupyter.org/nawabicoder/{size}/1146_2.png\", \"title\": \"\"}, \"username\": \"NawabiCoder\"}, {\"id\": 976, \"likes_received\": 0, \"likes_given\": 0, \"topics_entered\": 3, \"topic_count\": 1, \"post_count\": 3, \"posts_read\": 6, \"days_visited\": 6, \"user\": {\"id\": 976, \"username\": \"Kinda_Curious\", \"name\": \"\", \"avatar_template\": \"/user_avatar/discourse.jupyter.org/kinda_curious/{size}/1171_2.png\", \"title\": null}, \"username\": \"Kinda_Curious\"}, {\"id\": 5, \"likes_received\": 0, \"likes_given\": 3, \"topics_entered\": 15, \"topic_count\": 3, \"post_count\": 7, \"posts_read\": 47, \"days_visited\": 12, \"user\": {\"id\": 5, \"username\": \"arokem\", \"name\": \"Ariel Rokem\", \"avatar_template\": \"/user_avatar/discourse.jupyter.org/arokem/{size}/9_2.png\", \"title\": null}, \"username\": \"arokem\"}, {\"id\": 1042, \"likes_received\": 0, \"likes_given\": 0, \"topics_entered\": 4, \"topic_count\": 1, \"post_count\": 5, \"posts_read\": 9, \"days_visited\": 3, \"user\": {\"id\": 1042, \"username\": \"kashivis\", \"name\": \"Kashi\", \"avatar_template\": \"https://avatars.discourse.org/v4/letter/k/3da27b/{size}.png\", \"title\": null}, \"username\": \"kashivis\"}, {\"id\": 874, \"likes_received\": 0, \"likes_given\": 0, \"topics_entered\": 4, \"topic_count\": 1, \"post_count\": 4, \"posts_read\": 12, \"days_visited\": 3, \"user\": {\"id\": 874, \"username\": \"hiram\", \"name\": \"Hiram Foster\", \"avatar_template\": \"https://avatars.discourse.org/v4/letter/h/838e76/{size}.png\", \"title\": null}, \"username\": \"hiram\"}, {\"id\": 904, \"likes_received\": 0, \"likes_given\": 5, \"topics_entered\": 16, \"topic_count\": 5, \"post_count\": 5, \"posts_read\": 51, \"days_visited\": 13, \"user\": {\"id\": 904, \"username\": \"louis-she\", \"name\": \"Chenglu\", \"avatar_template\": \"/user_avatar/discourse.jupyter.org/louis-she/{size}/1103_2.png\", \"title\": null}, \"username\": \"louis-she\"}, {\"id\": 959, \"likes_received\": 0, \"likes_given\": 0, \"topics_entered\": 15, \"topic_count\": 0, \"post_count\": 4, \"posts_read\": 71, \"days_visited\": 8, \"user\": {\"id\": 959, \"username\": \"scho\", \"name\": \"David Schofield\", \"avatar_template\": \"/user_avatar/discourse.jupyter.org/scho/{size}/1162_2.png\", \"title\": null}, \"username\": \"scho\"}, {\"id\": 886, \"likes_received\": 0, \"likes_given\": 0, \"topics_entered\": 11, \"topic_count\": 1, \"post_count\": 4, \"posts_read\": 62, \"days_visited\": 9, \"user\": {\"id\": 886, \"username\": \"Bikash\", \"name\": \"Bikash Roy Choudhury\", \"avatar_template\": \"/user_avatar/discourse.jupyter.org/bikash/{size}/1084_2.png\", \"title\": null}, \"username\": \"Bikash\"}, {\"id\": 737, \"likes_received\": 0, \"likes_given\": 1, \"topics_entered\": 39, \"topic_count\": 1, \"post_count\": 6, \"posts_read\": 133, \"days_visited\": 27, \"user\": {\"id\": 737, \"username\": \"geirfreysson\", \"name\": \"Geir Freysson\", \"avatar_template\": \"/user_avatar/discourse.jupyter.org/geirfreysson/{size}/952_2.png\", \"title\": null}, \"username\": \"geirfreysson\"}, {\"id\": 485, \"likes_received\": 0, \"likes_given\": 17, \"topics_entered\": 30, \"topic_count\": 0, \"post_count\": 6, \"posts_read\": 73, \"days_visited\": 12, \"user\": {\"id\": 485, \"username\": \"rolweber\", \"name\": \"Roland Weber\", \"avatar_template\": \"/user_avatar/discourse.jupyter.org/rolweber/{size}/657_2.png\", \"title\": null}, \"username\": \"rolweber\"}]}};\n",
       "      var embedOpt = {\"mode\": \"vega-lite\"};\n",
       "\n",
       "      function showError(el, error){\n",
       "          el.innerHTML = ('<div class=\"error\" style=\"color:red;\">'\n",
       "                          + '<p>JavaScript Error: ' + error.message + '</p>'\n",
       "                          + \"<p>This usually means there's a typo in your chart specification. \"\n",
       "                          + \"See the javascript console for the full traceback.</p>\"\n",
       "                          + '</div>');\n",
       "          throw error;\n",
       "      }\n",
       "      const el = document.getElementById('altair-viz-5');\n",
       "      vegaEmbed(\"#altair-viz-5\", spec, embedOpt)\n",
       "        .catch(error => showError(el, error));\n",
       "    });\n",
       "\n",
       "  </script>"
      ],
      "text/plain": [
       "alt.Chart(...)"
      ]
     },
     "execution_count": 18,
     "metadata": {},
     "output_type": "execute_result"
    }
   ],
   "source": [
    "plot_user_data(users.head(50), 'likes_received')"
   ]
  },
  {
   "cell_type": "code",
   "execution_count": 19,
   "metadata": {
    "papermill": {
     "duration": 0.025511,
     "end_time": "2019-12-01T17:52:46.933026",
     "exception": false,
     "start_time": "2019-12-01T17:52:46.907515",
     "status": "completed"
    },
    "tags": []
   },
   "outputs": [
    {
     "data": {
      "text/html": [
       "<script src=\"https://cdn.rawgit.com/parente/4c3e6936d0d7a46fd071/raw/65b816fb9bdd3c28b4ddf3af602bfd6015486383/code_toggle.js\"></script>\n"
      ],
      "text/plain": [
       "<IPython.core.display.HTML object>"
      ]
     },
     "metadata": {},
     "output_type": "display_data"
    }
   ],
   "source": [
    "%%html\n",
    "<script src=\"https://cdn.rawgit.com/parente/4c3e6936d0d7a46fd071/raw/65b816fb9bdd3c28b4ddf3af602bfd6015486383/code_toggle.js\"></script>"
   ]
  }
 ],
 "metadata": {
  "kernelspec": {
   "display_name": "Python 3",
   "language": "python",
   "name": "python3"
  },
  "language_info": {
   "codemirror_mode": {
    "name": "ipython",
    "version": 3
   },
   "file_extension": ".py",
   "mimetype": "text/x-python",
   "name": "python",
   "nbconvert_exporter": "python",
   "pygments_lexer": "ipython3",
   "version": "3.7.3"
  },
  "papermill": {
   "duration": 4.623517,
   "end_time": "2019-12-01T17:52:47.365741",
   "environment_variables": {},
   "exception": null,
   "input_path": "./templates/discourse.ipynb",
   "output_path": "./reports/monthly/2019-11-01-2019-12-01/discourse.ipynb",
   "parameters": {
    "end_date": "2019-12-01",
    "github_orgs": [
     "jupyterhub",
     "jupyter",
     "jupyterlab",
     "jupyter-widgets",
     "ipython",
     "binder-examples"
    ],
    "renderer": "kaggle",
    "start_date": "2019-11-01"
   },
   "start_time": "2019-12-01T17:52:42.742224",
   "version": "1.2.1"
  },
  "widgets": {
   "application/vnd.jupyter.widget-state+json": {
    "state": {},
    "version_major": 2,
    "version_minor": 0
   }
  }
 },
 "nbformat": 4,
 "nbformat_minor": 4
}