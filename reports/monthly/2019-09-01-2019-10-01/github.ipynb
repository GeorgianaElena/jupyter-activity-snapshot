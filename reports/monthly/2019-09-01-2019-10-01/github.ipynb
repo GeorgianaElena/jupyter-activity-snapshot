{
 "cells": [
  {
   "cell_type": "code",
   "execution_count": 1,
   "metadata": {
    "papermill": {
     "duration": 1.909211,
     "end_time": "2019-12-01T17:51:57.665314",
     "exception": false,
     "start_time": "2019-12-01T17:51:55.756103",
     "status": "completed"
    },
    "tags": []
   },
   "outputs": [],
   "source": [
    "import seaborn as sns\n",
    "import pandas as pd\n",
    "import numpy as np\n",
    "import altair as alt\n",
    "from markdown import markdown\n",
    "from IPython.display import Markdown\n",
    "from ipywidgets.widgets import HTML, Tab\n",
    "from ipywidgets import widgets\n",
    "from datetime import timedelta\n",
    "from matplotlib import pyplot as plt\n",
    "import os.path as op\n",
    "\n",
    "from mod import load_data, alt_theme\n",
    "\n",
    "from warnings import simplefilter\n",
    "simplefilter('ignore')"
   ]
  },
  {
   "cell_type": "code",
   "execution_count": 2,
   "metadata": {
    "papermill": {
     "duration": 0.030315,
     "end_time": "2019-12-01T17:51:57.712845",
     "exception": false,
     "start_time": "2019-12-01T17:51:57.682530",
     "status": "completed"
    },
    "tags": []
   },
   "outputs": [],
   "source": [
    "def author_url(author):\n",
    "    return f\"https://github.com/{author}\""
   ]
  },
  {
   "cell_type": "code",
   "execution_count": 3,
   "metadata": {
    "papermill": {
     "duration": 0.04043,
     "end_time": "2019-12-01T17:51:57.777170",
     "exception": false,
     "start_time": "2019-12-01T17:51:57.736740",
     "status": "completed"
    },
    "tags": [
     "parameters",
     "hide_input"
    ]
   },
   "outputs": [],
   "source": [
    "# Parameters\n",
    "fmt_date = \"{:%Y-%m-%d}\"\n",
    "\n",
    "n_days = 90\n",
    "start_date = fmt_date.format(pd.datetime.today() - timedelta(days=n_days))\n",
    "end_date = fmt_date.format(pd.datetime.today())\n",
    "\n",
    "renderer = \"jupyterlab\"\n",
    "github_orgs = [\"jupyterhub\", \"jupyter\", \"jupyterlab\", \"jupyter-widgets\", \"ipython\", \"binder-examples\", \"nteract\"]"
   ]
  },
  {
   "cell_type": "code",
   "execution_count": 4,
   "metadata": {
    "papermill": {
     "duration": 0.033247,
     "end_time": "2019-12-01T17:51:57.837016",
     "exception": false,
     "start_time": "2019-12-01T17:51:57.803769",
     "status": "completed"
    },
    "tags": [
     "injected-parameters"
    ]
   },
   "outputs": [],
   "source": [
    "# Parameters\n",
    "renderer = \"kaggle\"\n",
    "github_orgs = [\"jupyterhub\", \"jupyter\", \"jupyterlab\", \"jupyter-widgets\", \"ipython\", \"binder-examples\"]\n",
    "start_date = \"2019-09-01\"\n",
    "end_date = \"2019-10-01\"\n"
   ]
  },
  {
   "cell_type": "code",
   "execution_count": 5,
   "metadata": {
    "papermill": {
     "duration": 3.755812,
     "end_time": "2019-12-01T17:52:01.617230",
     "exception": false,
     "start_time": "2019-12-01T17:51:57.861418",
     "status": "completed"
    },
    "tags": []
   },
   "outputs": [],
   "source": [
    "comments, issues, prs = load_data('../data/')\n",
    "bot_names = pd.read_csv('bot_names.csv')['names'].tolist()\n",
    "comments = comments.query('author not in @bot_names').drop_duplicates()\n",
    "issues = issues.query('author not in @bot_names').drop_duplicates()\n",
    "prs = prs.query('author not in @bot_names').drop_duplicates()"
   ]
  },
  {
   "cell_type": "code",
   "execution_count": 6,
   "metadata": {
    "papermill": {
     "duration": 0.107515,
     "end_time": "2019-12-01T17:52:01.749049",
     "exception": false,
     "start_time": "2019-12-01T17:52:01.641534",
     "status": "completed"
    },
    "tags": []
   },
   "outputs": [],
   "source": [
    "# Only keep the datapoints we want\n",
    "query_data = 'updatedAt > @start_date and updatedAt < @end_date and org in @github_orgs'\n",
    "comments = comments.query(query_data)\n",
    "issues = issues.query(query_data)\n",
    "prs = prs.query(query_data)"
   ]
  },
  {
   "cell_type": "code",
   "execution_count": 7,
   "metadata": {
    "papermill": {
     "duration": 0.039618,
     "end_time": "2019-12-01T17:52:01.810509",
     "exception": false,
     "start_time": "2019-12-01T17:52:01.770891",
     "status": "completed"
    },
    "tags": []
   },
   "outputs": [
    {
     "data": {
      "text/plain": [
       "ThemeRegistry.enable('my_theme')"
      ]
     },
     "execution_count": 7,
     "metadata": {},
     "output_type": "execute_result"
    }
   ],
   "source": [
    "alt.renderers.enable(renderer);\n",
    "alt.themes.register('my_theme', alt_theme)\n",
    "alt.themes.enable(\"my_theme\")"
   ]
  },
  {
   "cell_type": "code",
   "execution_count": 8,
   "metadata": {
    "papermill": {
     "duration": 0.034531,
     "end_time": "2019-12-01T17:52:01.867852",
     "exception": false,
     "start_time": "2019-12-01T17:52:01.833321",
     "status": "completed"
    },
    "tags": []
   },
   "outputs": [],
   "source": [
    "# Information about out time window\n",
    "time_delta = pd.to_datetime(end_date) - pd.to_datetime(start_date)\n",
    "n_days = time_delta.days\n",
    "\n",
    "# Information about the data we loaded\n",
    "github_orgs = comments['org'].unique()"
   ]
  },
  {
   "cell_type": "markdown",
   "metadata": {
    "papermill": {
     "duration": 0.02113,
     "end_time": "2019-12-01T17:52:01.910345",
     "exception": false,
     "start_time": "2019-12-01T17:52:01.889215",
     "status": "completed"
    },
    "tags": []
   },
   "source": [
    "# GitHub activity\n",
    "\n",
    "Jupyter also has lots of activity across GitHub repositories. The following sections contain\n",
    "overviews of recent activity across the following GitHub organizations:"
   ]
  },
  {
   "cell_type": "code",
   "execution_count": 9,
   "metadata": {
    "papermill": {
     "duration": 0.034098,
     "end_time": "2019-12-01T17:52:01.965901",
     "exception": false,
     "start_time": "2019-12-01T17:52:01.931803",
     "status": "completed"
    },
    "tags": []
   },
   "outputs": [],
   "source": [
    "# Define colors we'll use for GitHub membership\n",
    "author_types = ['MEMBER', 'CONTRIBUTOR', 'COLLABORATOR', \"NONE\"]\n",
    "\n",
    "author_palette = sns.palettes.blend_palette([\"lightgrey\", \"lightgreen\", \"darkgreen\"], 4)\n",
    "author_colors = [\"rgb({}, {}, {}, {})\".format(*(ii*256)) for ii in author_palette]\n",
    "author_color_dict = {key: val for key, val in zip(author_types, author_palette)}"
   ]
  },
  {
   "cell_type": "code",
   "execution_count": 10,
   "metadata": {
    "papermill": {
     "duration": 0.032876,
     "end_time": "2019-12-01T17:52:02.022339",
     "exception": false,
     "start_time": "2019-12-01T17:52:01.989463",
     "status": "completed"
    },
    "tags": [
     "hide_input"
    ]
   },
   "outputs": [
    {
     "data": {
      "text/markdown": [
       "* [github.com/binder-examples](https://github.com/binder-examples)\n",
       "* [github.com/ipython](https://github.com/ipython)\n",
       "* [github.com/jupyter](https://github.com/jupyter)\n",
       "* [github.com/jupyter-widgets](https://github.com/jupyter-widgets)\n",
       "* [github.com/jupyterhub](https://github.com/jupyterhub)\n",
       "* [github.com/jupyterlab](https://github.com/jupyterlab)"
      ],
      "text/plain": [
       "<IPython.core.display.Markdown object>"
      ]
     },
     "execution_count": 10,
     "metadata": {},
     "output_type": "execute_result"
    }
   ],
   "source": [
    "orgs_md = []\n",
    "for org in github_orgs:\n",
    "    orgs_md.append(f'* [github.com/{org}](https://github.com/{org})')\n",
    "Markdown('\\n'.join(orgs_md))"
   ]
  },
  {
   "cell_type": "code",
   "execution_count": 11,
   "metadata": {
    "papermill": {
     "duration": 0.030083,
     "end_time": "2019-12-01T17:52:02.073301",
     "exception": false,
     "start_time": "2019-12-01T17:52:02.043218",
     "status": "completed"
    },
    "tags": [
     "hide_input"
    ]
   },
   "outputs": [
    {
     "data": {
      "text/markdown": [
       "Showing GitHub activity from **2019-09-01** to **2019-10-01**"
      ],
      "text/plain": [
       "<IPython.core.display.Markdown object>"
      ]
     },
     "execution_count": 11,
     "metadata": {},
     "output_type": "execute_result"
    }
   ],
   "source": [
    "Markdown(f\"Showing GitHub activity from **{start_date}** to **{end_date}**\")"
   ]
  },
  {
   "cell_type": "markdown",
   "metadata": {
    "papermill": {
     "duration": 0.02184,
     "end_time": "2019-12-01T17:52:02.118635",
     "exception": false,
     "start_time": "2019-12-01T17:52:02.096795",
     "status": "completed"
    },
    "tags": []
   },
   "source": [
    "## List of all contributors per organization\n",
    "\n",
    "First, we'll list each contributor that has contributed to each organization in the last several days.\n",
    "Contributions to open source projects are diverse, and involve much more than just contributing code and\n",
    "code review. Thanks to everybody in the Jupyter communities for all that they do."
   ]
  },
  {
   "cell_type": "code",
   "execution_count": 12,
   "metadata": {
    "papermill": {
     "duration": 0.192327,
     "end_time": "2019-12-01T17:52:02.332976",
     "exception": false,
     "start_time": "2019-12-01T17:52:02.140649",
     "status": "completed"
    },
    "tags": []
   },
   "outputs": [
    {
     "data": {
      "text/markdown": [
       "All participants across issues and pull requests in each org in the last 30 days"
      ],
      "text/plain": [
       "<IPython.core.display.Markdown object>"
      ]
     },
     "metadata": {},
     "output_type": "display_data"
    },
    {
     "data": {
      "application/vnd.jupyter.widget-view+json": {
       "model_id": "c16b78da8f6e46969fda1501abb62cdc",
       "version_major": 2,
       "version_minor": 0
      },
      "text/plain": [
       "Tab(children=(HTML(value='<center><p><a href=\"https://github.com/betatim\">betatim</a> | <a href=\"https://githu…"
      ]
     },
     "metadata": {},
     "output_type": "display_data"
    }
   ],
   "source": [
    "n_plot = 5\n",
    "tabs = widgets.Tab(children=[])\n",
    "for ii, org in enumerate(github_orgs):\n",
    "    authors_comments = comments.query('org == @org')['author']\n",
    "    authors_prs = prs.query('org == @org')['author']\n",
    "    unique_participants = np.unique(np.hstack([authors_comments.values, authors_prs.values]).astype(str)).tolist()\n",
    "    unique_participants.sort(key=lambda a: a.lower())\n",
    "    \n",
    "    all_participants = [f\"[{participant}](https://github.com/{participant})\" for participant in unique_participants]\n",
    "    participants_md = \" | \".join(all_participants)\n",
    "    md_html = HTML(\"<center>{}</center>\".format(markdown(participants_md)))\n",
    "    \n",
    "    children = list(tabs.children)\n",
    "    children.append(md_html)\n",
    "    tabs.children = tuple(children)\n",
    "    tabs.set_title(ii, org)\n",
    "    \n",
    "display(Markdown(f\"All participants across issues and pull requests in each org in the last {n_days} days\"))\n",
    "display(tabs)"
   ]
  },
  {
   "cell_type": "markdown",
   "metadata": {
    "papermill": {
     "duration": 0.022993,
     "end_time": "2019-12-01T17:52:02.372691",
     "exception": false,
     "start_time": "2019-12-01T17:52:02.349698",
     "status": "completed"
    },
    "tags": [],
    "toc-hr-collapsed": false
   },
   "source": [
    "## Merged Pull requests\n",
    "\n",
    "Here's an analysis of **merged pull requests** across each of the repositories in the Jupyter\n",
    "ecosystem."
   ]
  },
  {
   "cell_type": "code",
   "execution_count": 13,
   "metadata": {
    "papermill": {
     "duration": 0.038501,
     "end_time": "2019-12-01T17:52:02.437281",
     "exception": false,
     "start_time": "2019-12-01T17:52:02.398780",
     "status": "completed"
    },
    "tags": []
   },
   "outputs": [],
   "source": [
    "merged = prs.query('state == \"MERGED\" and closedAt > @start_date and closedAt < @end_date')"
   ]
  },
  {
   "cell_type": "code",
   "execution_count": 14,
   "metadata": {
    "papermill": {
     "duration": 0.080781,
     "end_time": "2019-12-01T17:52:02.543340",
     "exception": false,
     "start_time": "2019-12-01T17:52:02.462559",
     "status": "completed"
    },
    "tags": [
     "hide_input"
    ]
   },
   "outputs": [
    {
     "data": {
      "text/html": [
       "\n",
       "  <style>\n",
       "    .error {\n",
       "        color: red;\n",
       "    }\n",
       "  </style>\n",
       "  <div id=\"altair-viz-1\"></div>\n",
       "  <script>\n",
       "    requirejs.config({\n",
       "        \"paths\": {\n",
       "            \"vega\": \"https://cdn.jsdelivr.net/npm//vega@5?noext\",\n",
       "            \"vega-lib\": \"https://cdn.jsdelivr.net/npm//vega-lib?noext\",\n",
       "            \"vega-lite\": \"https://cdn.jsdelivr.net/npm//vega-lite@3.4.0?noext\",\n",
       "            \"vega-embed\": \"https://cdn.jsdelivr.net/npm//vega-embed@5?noext\",\n",
       "        }\n",
       "    });\n",
       "    \n",
       "    require(['vega-embed'],function(vegaEmbed) {\n",
       "      var spec = {\"config\": {\"axisLeft\": {\"labelFontSize\": 15}, \"axisBottom\": {\"labelFontSize\": 15}}, \"data\": {\"name\": \"data-d9baa39d0c840d572a0825dee084e9db\"}, \"mark\": \"bar\", \"encoding\": {\"color\": {\"type\": \"nominal\", \"field\": \"org\"}, \"x\": {\"type\": \"nominal\", \"field\": \"repo\", \"sort\": [\"jupyterlab\", \"jupyterlab-git\", \"jupyterlab-data-explorer\", \"debugger\", \"team-compass\", \"jupyter-renderers\", \"jupyterlab-celltags\", \"jupyterlab-commenting\", \"jupyterlab-shortcutui\", \"jupyterlab-telemetry\", \"jupyterhub\", \"mybinder.org-deploy\", \"jupyterhub-the-hard-way\", \"traefik-proxy\", \"zero-to-jupyterhub-k8s\", \"batchspawner\", \"the-littlest-jupyterhub\", \"nbgitpuller\", \"jupyter-server-proxy\", \"kubespawner\", \"team-compass\", \"ipyleaflet\", \"jupyterlab-sidecar\", \"widget-ts-cookiecutter\", \"jupyter-book\", \"jupyter_server\", \"enterprise_gateway\", \"jupyter_client\", \"docker-stacks\", \"jupyter_core\", \"qtconsole\", \"governance\", \"jupyter\", \"jupyter-sphinx\", \"kernel_gateway\", \"nbgrader\", \"nbviewer\", \"notebook\", \"repo2docker\", \"telemetry\", \"ipykernel\", \"ipyparallel\", \"ipython\", \"multi-language-demo\", \"jupyter-extension\", \"r\"]}, \"y\": {\"type\": \"quantitative\", \"field\": \"author\"}}, \"title\": \"Merged PRs in the last 30 days\", \"$schema\": \"https://vega.github.io/schema/vega-lite/v3.4.0.json\", \"datasets\": {\"data-d9baa39d0c840d572a0825dee084e9db\": [{\"org\": \"jupyterlab\", \"repo\": \"jupyterlab\", \"author\": 5}, {\"org\": \"jupyterlab\", \"repo\": \"jupyterlab-git\", \"author\": 5}, {\"org\": \"jupyterlab\", \"repo\": \"jupyterlab-data-explorer\", \"author\": 4}, {\"org\": \"jupyterlab\", \"repo\": \"debugger\", \"author\": 3}, {\"org\": \"jupyterlab\", \"repo\": \"team-compass\", \"author\": 2}, {\"org\": \"jupyterlab\", \"repo\": \"jupyter-renderers\", \"author\": 1}, {\"org\": \"jupyterlab\", \"repo\": \"jupyterlab-celltags\", \"author\": 1}, {\"org\": \"jupyterlab\", \"repo\": \"jupyterlab-commenting\", \"author\": 1}, {\"org\": \"jupyterlab\", \"repo\": \"jupyterlab-shortcutui\", \"author\": 1}, {\"org\": \"jupyterlab\", \"repo\": \"jupyterlab-telemetry\", \"author\": 1}, {\"org\": \"jupyterhub\", \"repo\": \"jupyterhub\", \"author\": 16}, {\"org\": \"jupyterhub\", \"repo\": \"mybinder.org-deploy\", \"author\": 13}, {\"org\": \"jupyterhub\", \"repo\": \"jupyterhub-the-hard-way\", \"author\": 8}, {\"org\": \"jupyterhub\", \"repo\": \"traefik-proxy\", \"author\": 5}, {\"org\": \"jupyterhub\", \"repo\": \"zero-to-jupyterhub-k8s\", \"author\": 5}, {\"org\": \"jupyterhub\", \"repo\": \"batchspawner\", \"author\": 3}, {\"org\": \"jupyterhub\", \"repo\": \"the-littlest-jupyterhub\", \"author\": 3}, {\"org\": \"jupyterhub\", \"repo\": \"nbgitpuller\", \"author\": 2}, {\"org\": \"jupyterhub\", \"repo\": \"jupyter-server-proxy\", \"author\": 1}, {\"org\": \"jupyterhub\", \"repo\": \"kubespawner\", \"author\": 1}, {\"org\": \"jupyterhub\", \"repo\": \"team-compass\", \"author\": 1}, {\"org\": \"jupyter-widgets\", \"repo\": \"ipyleaflet\", \"author\": 4}, {\"org\": \"jupyter-widgets\", \"repo\": \"jupyterlab-sidecar\", \"author\": 1}, {\"org\": \"jupyter-widgets\", \"repo\": \"widget-ts-cookiecutter\", \"author\": 1}, {\"org\": \"jupyter\", \"repo\": \"jupyter-book\", \"author\": 45}, {\"org\": \"jupyter\", \"repo\": \"jupyter_server\", \"author\": 20}, {\"org\": \"jupyter\", \"repo\": \"enterprise_gateway\", \"author\": 4}, {\"org\": \"jupyter\", \"repo\": \"jupyter_client\", \"author\": 3}, {\"org\": \"jupyter\", \"repo\": \"docker-stacks\", \"author\": 2}, {\"org\": \"jupyter\", \"repo\": \"jupyter_core\", \"author\": 2}, {\"org\": \"jupyter\", \"repo\": \"qtconsole\", \"author\": 2}, {\"org\": \"jupyter\", \"repo\": \"governance\", \"author\": 1}, {\"org\": \"jupyter\", \"repo\": \"jupyter\", \"author\": 1}, {\"org\": \"jupyter\", \"repo\": \"jupyter-sphinx\", \"author\": 1}, {\"org\": \"jupyter\", \"repo\": \"kernel_gateway\", \"author\": 1}, {\"org\": \"jupyter\", \"repo\": \"nbgrader\", \"author\": 1}, {\"org\": \"jupyter\", \"repo\": \"nbviewer\", \"author\": 1}, {\"org\": \"jupyter\", \"repo\": \"notebook\", \"author\": 1}, {\"org\": \"jupyter\", \"repo\": \"repo2docker\", \"author\": 1}, {\"org\": \"jupyter\", \"repo\": \"telemetry\", \"author\": 1}, {\"org\": \"ipython\", \"repo\": \"ipykernel\", \"author\": 5}, {\"org\": \"ipython\", \"repo\": \"ipyparallel\", \"author\": 3}, {\"org\": \"ipython\", \"repo\": \"ipython\", \"author\": 1}, {\"org\": \"binder-examples\", \"repo\": \"multi-language-demo\", \"author\": 2}, {\"org\": \"binder-examples\", \"repo\": \"jupyter-extension\", \"author\": 1}, {\"org\": \"binder-examples\", \"repo\": \"r\", \"author\": 1}]}};\n",
       "      var embedOpt = {\"mode\": \"vega-lite\"};\n",
       "\n",
       "      function showError(el, error){\n",
       "          el.innerHTML = ('<div class=\"error\" style=\"color:red;\">'\n",
       "                          + '<p>JavaScript Error: ' + error.message + '</p>'\n",
       "                          + \"<p>This usually means there's a typo in your chart specification. \"\n",
       "                          + \"See the javascript console for the full traceback.</p>\"\n",
       "                          + '</div>');\n",
       "          throw error;\n",
       "      }\n",
       "      const el = document.getElementById('altair-viz-1');\n",
       "      vegaEmbed(\"#altair-viz-1\", spec, embedOpt)\n",
       "        .catch(error => showError(el, error));\n",
       "    });\n",
       "\n",
       "  </script>"
      ],
      "text/plain": [
       "alt.Chart(...)"
      ]
     },
     "execution_count": 14,
     "metadata": {},
     "output_type": "execute_result"
    }
   ],
   "source": [
    "prs_by_repo = merged.groupby(['org', 'repo']).count()['author'].reset_index().sort_values(['org', 'author'], ascending=False)\n",
    "alt.Chart(data=prs_by_repo, title=f\"Merged PRs in the last {n_days} days\").mark_bar().encode(\n",
    "    x=alt.X('repo', sort=prs_by_repo['repo'].values.tolist()),\n",
    "    y='author',\n",
    "    color='org'\n",
    ")"
   ]
  },
  {
   "cell_type": "markdown",
   "metadata": {
    "papermill": {
     "duration": 0.034301,
     "end_time": "2019-12-01T17:52:02.601215",
     "exception": false,
     "start_time": "2019-12-01T17:52:02.566914",
     "status": "completed"
    },
    "tags": []
   },
   "source": [
    "### A list of merged PRs by project\n",
    "\n",
    "Below is a tabbed readout of recently-merged PRs. Check out the title to get an idea for what they\n",
    "implemented, and be sure to thank the PR author for their hard work!"
   ]
  },
  {
   "cell_type": "code",
   "execution_count": 15,
   "metadata": {
    "papermill": {
     "duration": 0.282043,
     "end_time": "2019-12-01T17:52:02.919118",
     "exception": false,
     "start_time": "2019-12-01T17:52:02.637075",
     "status": "completed"
    },
    "tags": [
     "hide_input"
    ]
   },
   "outputs": [
    {
     "data": {
      "application/vnd.jupyter.widget-view+json": {
       "model_id": "f833e301e422406bafe16ddefe010de7",
       "version_major": 2,
       "version_minor": 0
      },
      "text/plain": [
       "Tab(children=(HTML(value='<h4>Closed PRs for org: <code>binder-examples</code></h4>\\n<h5><a href=\"https://gith…"
      ]
     },
     "metadata": {},
     "output_type": "display_data"
    }
   ],
   "source": [
    "tabs = widgets.Tab(children=[])\n",
    "merged_by = {}\n",
    "pr_by = {}\n",
    "for ii, (org, idata) in enumerate(merged.groupby('org')):\n",
    "    issue_md = []\n",
    "    issue_md.append(f\"#### Closed PRs for org: `{org}`\")\n",
    "    issue_md.append(\"\")\n",
    "    for (org, repo), prs in idata.groupby(['org', 'repo']):\n",
    "        issue_md.append(f\"##### [{org}/{repo}](https://github.com/{org}/{repo})\")\n",
    "        for _, pr in prs.iterrows():\n",
    "            user_name = pr['author']\n",
    "            user_url = author_url(user_name)\n",
    "            pr_number = pr['number']\n",
    "            pr_html = pr['url']\n",
    "            pr_title = pr['title']\n",
    "            pr_closedby = pr['mergedBy']\n",
    "            pr_closedby_url = f\"https://github.com/{pr_closedby}\"\n",
    "            if user_name not in pr_by:\n",
    "                pr_by[user_name] = 1\n",
    "            else:\n",
    "                pr_by[user_name] += 1\n",
    "                \n",
    "            if pr_closedby not in merged_by:\n",
    "                merged_by[pr_closedby] = 1\n",
    "            else:\n",
    "                merged_by[pr_closedby] += 1\n",
    "            text = f\"* [(#{pr_number})]({pr_html}): _{pr_title}_ by **[@{user_name}]({user_url})** merged by **[@{pr_closedby}]({pr_closedby_url})**\"\n",
    "            issue_md.append(text)\n",
    "    issue_md.append('')\n",
    "    markdown_html = markdown('\\n'.join(issue_md))\n",
    "    \n",
    "    children = list(tabs.children)\n",
    "    children.append(HTML(markdown_html))\n",
    "    tabs.children = tuple(children)\n",
    "    tabs.set_title(ii, org)\n",
    "tabs"
   ]
  },
  {
   "cell_type": "markdown",
   "metadata": {
    "papermill": {
     "duration": 0.02631,
     "end_time": "2019-12-01T17:52:02.963026",
     "exception": false,
     "start_time": "2019-12-01T17:52:02.936716",
     "status": "completed"
    },
    "tags": []
   },
   "source": [
    "### Authoring and merging stats by repository\n",
    "\n",
    "Let's see who has been doing most of the PR authoring and merging. The PR author is generally the\n",
    "person that implemented a change in the repository (code, documentation, etc). The PR merger is\n",
    "the person that \"pressed the green button\" and got the change into the main codebase."
   ]
  },
  {
   "cell_type": "code",
   "execution_count": 16,
   "metadata": {
    "papermill": {
     "duration": 0.051701,
     "end_time": "2019-12-01T17:52:03.046127",
     "exception": false,
     "start_time": "2019-12-01T17:52:02.994426",
     "status": "completed"
    },
    "tags": []
   },
   "outputs": [],
   "source": [
    "# Prep our merging DF\n",
    "merged_by_repo = merged.groupby(['org', 'repo', 'author'], as_index=False).agg({'id': 'count', 'authorAssociation': 'first'}).rename(columns={'id': \"authored\", 'author': 'username'})\n",
    "closed_by_repo = merged.groupby(['org', 'repo', 'mergedBy']).count()['id'].reset_index().rename(columns={'id': \"closed\", \"mergedBy\": \"username\"})"
   ]
  },
  {
   "cell_type": "code",
   "execution_count": 17,
   "metadata": {
    "papermill": {
     "duration": 0.13133,
     "end_time": "2019-12-01T17:52:03.204021",
     "exception": false,
     "start_time": "2019-12-01T17:52:03.072691",
     "status": "completed"
    },
    "tags": []
   },
   "outputs": [
    {
     "data": {
      "text/html": [
       "\n",
       "  <style>\n",
       "    .error {\n",
       "        color: red;\n",
       "    }\n",
       "  </style>\n",
       "  <div id=\"altair-viz-2\"></div>\n",
       "  <script>\n",
       "    requirejs.config({\n",
       "        \"paths\": {\n",
       "            \"vega\": \"https://cdn.jsdelivr.net/npm//vega@5?noext\",\n",
       "            \"vega-lib\": \"https://cdn.jsdelivr.net/npm//vega-lib?noext\",\n",
       "            \"vega-lite\": \"https://cdn.jsdelivr.net/npm//vega-lite@3.4.0?noext\",\n",
       "            \"vega-embed\": \"https://cdn.jsdelivr.net/npm//vega-embed@5?noext\",\n",
       "        }\n",
       "    });\n",
       "    \n",
       "    require(['vega-embed'],function(vegaEmbed) {\n",
       "      var spec = {\"config\": {\"axisLeft\": {\"labelFontSize\": 15}, \"axisBottom\": {\"labelFontSize\": 15}}, \"hconcat\": [{\"data\": {\"name\": \"data-11a33564ece5eea01e0270762464dffc\"}, \"mark\": \"bar\", \"encoding\": {\"color\": {\"type\": \"nominal\", \"field\": \"authorAssociation\", \"scale\": {\"domain\": [\"MEMBER\", \"CONTRIBUTOR\", \"COLLABORATOR\", \"NONE\"], \"range\": [\"rgb(211.82745098039214, 211.82745098039214, 211.82745098039214, 256.0)\", \"rgb(166.98562091503268, 229.89803921568628, 166.98562091503268, 256.0)\", \"rgb(96.37647058823529, 192.75294117647059, 96.37647058823529, 256.0)\", \"rgb(0.0, 100.3921568627451, 0.0, 256.0)\"]}}, \"x\": {\"type\": \"nominal\", \"field\": \"username\"}, \"y\": {\"type\": \"quantitative\", \"field\": \"authored\"}}, \"title\": \"PR authors for binder-examples in the last 30 days\", \"width\": 1000}, {\"data\": {\"name\": \"data-ab03871ee261f1b79fab8776cc5be390\"}, \"mark\": \"bar\", \"encoding\": {\"color\": {\"type\": \"nominal\", \"field\": \"authorAssociation\", \"scale\": {\"domain\": [\"MEMBER\", \"CONTRIBUTOR\", \"COLLABORATOR\", \"NONE\"], \"range\": [\"rgb(211.82745098039214, 211.82745098039214, 211.82745098039214, 256.0)\", \"rgb(166.98562091503268, 229.89803921568628, 166.98562091503268, 256.0)\", \"rgb(96.37647058823529, 192.75294117647059, 96.37647058823529, 256.0)\", \"rgb(0.0, 100.3921568627451, 0.0, 256.0)\"]}}, \"x\": {\"type\": \"nominal\", \"field\": \"username\"}, \"y\": {\"type\": \"quantitative\", \"field\": \"authored\"}}, \"title\": \"PR authors for ipython in the last 30 days\", \"width\": 1000}, {\"data\": {\"name\": \"data-4731504b35a3b11b3c245e2300f8e6be\"}, \"mark\": \"bar\", \"encoding\": {\"color\": {\"type\": \"nominal\", \"field\": \"authorAssociation\", \"scale\": {\"domain\": [\"MEMBER\", \"CONTRIBUTOR\", \"COLLABORATOR\", \"NONE\"], \"range\": [\"rgb(211.82745098039214, 211.82745098039214, 211.82745098039214, 256.0)\", \"rgb(166.98562091503268, 229.89803921568628, 166.98562091503268, 256.0)\", \"rgb(96.37647058823529, 192.75294117647059, 96.37647058823529, 256.0)\", \"rgb(0.0, 100.3921568627451, 0.0, 256.0)\"]}}, \"x\": {\"type\": \"nominal\", \"field\": \"username\"}, \"y\": {\"type\": \"quantitative\", \"field\": \"authored\"}}, \"title\": \"PR authors for jupyter in the last 30 days\", \"width\": 1000}, {\"data\": {\"name\": \"data-aad22a466ad6d9cd6e86ecefcf3ea69b\"}, \"mark\": \"bar\", \"encoding\": {\"color\": {\"type\": \"nominal\", \"field\": \"authorAssociation\", \"scale\": {\"domain\": [\"MEMBER\", \"CONTRIBUTOR\", \"COLLABORATOR\", \"NONE\"], \"range\": [\"rgb(211.82745098039214, 211.82745098039214, 211.82745098039214, 256.0)\", \"rgb(166.98562091503268, 229.89803921568628, 166.98562091503268, 256.0)\", \"rgb(96.37647058823529, 192.75294117647059, 96.37647058823529, 256.0)\", \"rgb(0.0, 100.3921568627451, 0.0, 256.0)\"]}}, \"x\": {\"type\": \"nominal\", \"field\": \"username\"}, \"y\": {\"type\": \"quantitative\", \"field\": \"authored\"}}, \"title\": \"PR authors for jupyter-widgets in the last 30 days\", \"width\": 1000}, {\"data\": {\"name\": \"data-f7e0032a54baf19eac3ace4458b2e827\"}, \"mark\": \"bar\", \"encoding\": {\"color\": {\"type\": \"nominal\", \"field\": \"authorAssociation\", \"scale\": {\"domain\": [\"MEMBER\", \"CONTRIBUTOR\", \"COLLABORATOR\", \"NONE\"], \"range\": [\"rgb(211.82745098039214, 211.82745098039214, 211.82745098039214, 256.0)\", \"rgb(166.98562091503268, 229.89803921568628, 166.98562091503268, 256.0)\", \"rgb(96.37647058823529, 192.75294117647059, 96.37647058823529, 256.0)\", \"rgb(0.0, 100.3921568627451, 0.0, 256.0)\"]}}, \"x\": {\"type\": \"nominal\", \"field\": \"username\"}, \"y\": {\"type\": \"quantitative\", \"field\": \"authored\"}}, \"title\": \"PR authors for jupyterhub in the last 30 days\", \"width\": 1000}, {\"data\": {\"name\": \"data-6fcb0757068e1360375b30227c16006e\"}, \"mark\": \"bar\", \"encoding\": {\"color\": {\"type\": \"nominal\", \"field\": \"authorAssociation\", \"scale\": {\"domain\": [\"MEMBER\", \"CONTRIBUTOR\", \"COLLABORATOR\", \"NONE\"], \"range\": [\"rgb(211.82745098039214, 211.82745098039214, 211.82745098039214, 256.0)\", \"rgb(166.98562091503268, 229.89803921568628, 166.98562091503268, 256.0)\", \"rgb(96.37647058823529, 192.75294117647059, 96.37647058823529, 256.0)\", \"rgb(0.0, 100.3921568627451, 0.0, 256.0)\"]}}, \"x\": {\"type\": \"nominal\", \"field\": \"username\"}, \"y\": {\"type\": \"quantitative\", \"field\": \"authored\"}}, \"title\": \"PR authors for jupyterlab in the last 30 days\", \"width\": 1000}], \"$schema\": \"https://vega.github.io/schema/vega-lite/v3.4.0.json\", \"datasets\": {\"data-11a33564ece5eea01e0270762464dffc\": [{\"username\": \"NHDaly\", \"authored\": 1, \"authorAssociation\": \"CONTRIBUTOR\"}, {\"username\": \"fm75\", \"authored\": 1, \"authorAssociation\": \"CONTRIBUTOR\"}, {\"username\": \"hdrake\", \"authored\": 1, \"authorAssociation\": \"CONTRIBUTOR\"}, {\"username\": \"pablobernabeu\", \"authored\": 1, \"authorAssociation\": \"CONTRIBUTOR\"}], \"data-ab03871ee261f1b79fab8776cc5be390\": [{\"username\": \"minrk\", \"authored\": 3, \"authorAssociation\": \"MEMBER\"}, {\"username\": \"impact27\", \"authored\": 2, \"authorAssociation\": \"CONTRIBUTOR\"}, {\"username\": \"Chilipp\", \"authored\": 1, \"authorAssociation\": \"CONTRIBUTOR\"}, {\"username\": \"edisongustavo\", \"authored\": 1, \"authorAssociation\": \"CONTRIBUTOR\"}, {\"username\": \"hugovk\", \"authored\": 1, \"authorAssociation\": \"CONTRIBUTOR\"}, {\"username\": \"mdickinson\", \"authored\": 1, \"authorAssociation\": \"CONTRIBUTOR\"}], \"data-4731504b35a3b11b3c245e2300f8e6be\": [{\"username\": \"choldgraf\", \"authored\": 32, \"authorAssociation\": \"MEMBER\"}, {\"username\": \"Zsailer\", \"authored\": 12, \"authorAssociation\": \"MEMBER\"}, {\"username\": \"SamLau95\", \"authored\": 7, \"authorAssociation\": \"COLLABORATOR\"}, {\"username\": \"kevin-bates\", \"authored\": 6, \"authorAssociation\": \"MEMBER\"}, {\"username\": \"vidartf\", \"authored\": 3, \"authorAssociation\": \"COLLABORATOR\"}, {\"username\": \"emdupre\", \"authored\": 3, \"authorAssociation\": \"COLLABORATOR\"}, {\"username\": \"MSeal\", \"authored\": 3, \"authorAssociation\": \"MEMBER\"}, {\"username\": \"impact27\", \"authored\": 2, \"authorAssociation\": \"CONTRIBUTOR\"}, {\"username\": \"willingc\", \"authored\": 2, \"authorAssociation\": \"MEMBER\"}, {\"username\": \"dkhokhlov\", \"authored\": 2, \"authorAssociation\": \"NONE\"}, {\"username\": \"krinsman\", \"authored\": 1, \"authorAssociation\": \"CONTRIBUTOR\"}, {\"username\": \"victorsamun\", \"authored\": 1, \"authorAssociation\": \"NONE\"}, {\"username\": \"psychemedia\", \"authored\": 1, \"authorAssociation\": \"CONTRIBUTOR\"}, {\"username\": \"playermanny2\", \"authored\": 1, \"authorAssociation\": \"CONTRIBUTOR\"}, {\"username\": \"pfmoore\", \"authored\": 1, \"authorAssociation\": \"CONTRIBUTOR\"}, {\"username\": \"parente\", \"authored\": 1, \"authorAssociation\": \"MEMBER\"}, {\"username\": \"BertR\", \"authored\": 1, \"authorAssociation\": \"MEMBER\"}, {\"username\": \"jasongrout\", \"authored\": 1, \"authorAssociation\": \"MEMBER\"}, {\"username\": \"ivanov\", \"authored\": 1, \"authorAssociation\": \"MEMBER\"}, {\"username\": \"betatim\", \"authored\": 1, \"authorAssociation\": \"MEMBER\"}, {\"username\": \"arnavs\", \"authored\": 1, \"authorAssociation\": \"CONTRIBUTOR\"}, {\"username\": \"akhmerov\", \"authored\": 1, \"authorAssociation\": \"MEMBER\"}, {\"username\": \"akhilputhiry\", \"authored\": 1, \"authorAssociation\": \"NONE\"}, {\"username\": \"MichelleUfford\", \"authored\": 1, \"authorAssociation\": \"CONTRIBUTOR\"}, {\"username\": \"yuvipanda\", \"authored\": 1, \"authorAssociation\": \"MEMBER\"}], \"data-aad22a466ad6d9cd6e86ecefcf3ea69b\": [{\"username\": \"martinRenou\", \"authored\": 4, \"authorAssociation\": \"MEMBER\"}, {\"username\": \"jtpio\", \"authored\": 1, \"authorAssociation\": \"CONTRIBUTOR\"}, {\"username\": \"stephaniegott\", \"authored\": 1, \"authorAssociation\": \"CONTRIBUTOR\"}], \"data-f7e0032a54baf19eac3ace4458b2e827\": [{\"username\": \"willingc\", \"authored\": 11, \"authorAssociation\": \"MEMBER\"}, {\"username\": \"betatim\", \"authored\": 10, \"authorAssociation\": \"MEMBER\"}, {\"username\": \"GeorgianaElena\", \"authored\": 8, \"authorAssociation\": \"MEMBER\"}, {\"username\": \"rkdarst\", \"authored\": 4, \"authorAssociation\": \"COLLABORATOR\"}, {\"username\": \"yuvipanda\", \"authored\": 4, \"authorAssociation\": \"MEMBER\"}, {\"username\": \"consideRatio\", \"authored\": 3, \"authorAssociation\": \"MEMBER\"}, {\"username\": \"minrk\", \"authored\": 3, \"authorAssociation\": \"MEMBER\"}, {\"username\": \"kinow\", \"authored\": 2, \"authorAssociation\": \"CONTRIBUTOR\"}, {\"username\": \"mael-le-gal\", \"authored\": 2, \"authorAssociation\": \"MEMBER\"}, {\"username\": \"bitnik\", \"authored\": 2, \"authorAssociation\": \"CONTRIBUTOR\"}, {\"username\": \"chicocvenancio\", \"authored\": 1, \"authorAssociation\": \"CONTRIBUTOR\"}, {\"username\": \"choldgraf\", \"authored\": 1, \"authorAssociation\": \"MEMBER\"}, {\"username\": \"eslavich\", \"authored\": 1, \"authorAssociation\": \"CONTRIBUTOR\"}, {\"username\": \"Zsailer\", \"authored\": 1, \"authorAssociation\": \"MEMBER\"}, {\"username\": \"krinsman\", \"authored\": 1, \"authorAssociation\": \"CONTRIBUTOR\"}, {\"username\": \"ptcane\", \"authored\": 1, \"authorAssociation\": \"CONTRIBUTOR\"}, {\"username\": \"ryanlovett\", \"authored\": 1, \"authorAssociation\": \"MEMBER\"}, {\"username\": \"aar0nTw\", \"authored\": 1, \"authorAssociation\": \"CONTRIBUTOR\"}, {\"username\": \"gareth-j\", \"authored\": 1, \"authorAssociation\": \"CONTRIBUTOR\"}], \"data-6fcb0757068e1360375b30227c16006e\": [{\"username\": \"afshin\", \"authored\": 3, \"authorAssociation\": \"MEMBER\"}, {\"username\": \"jaipreet-s\", \"authored\": 3, \"authorAssociation\": \"MEMBER\"}, {\"username\": \"jasongrout\", \"authored\": 3, \"authorAssociation\": \"MEMBER\"}, {\"username\": \"kgryte\", \"authored\": 2, \"authorAssociation\": \"COLLABORATOR\"}, {\"username\": \"telamonian\", \"authored\": 2, \"authorAssociation\": \"MEMBER\"}, {\"username\": \"tgeorgeux\", \"authored\": 2, \"authorAssociation\": \"MEMBER\"}, {\"username\": \"alienczf\", \"authored\": 1, \"authorAssociation\": \"CONTRIBUTOR\"}, {\"username\": \"dependabot\", \"authored\": 1, \"authorAssociation\": \"CONTRIBUTOR\"}, {\"username\": \"fcollonval\", \"authored\": 1, \"authorAssociation\": \"MEMBER\"}, {\"username\": \"jacobtomlinson\", \"authored\": 1, \"authorAssociation\": \"CONTRIBUTOR\"}, {\"username\": \"jhamet93\", \"authored\": 1, \"authorAssociation\": \"CONTRIBUTOR\"}, {\"username\": \"jtpio\", \"authored\": 1, \"authorAssociation\": \"MEMBER\"}, {\"username\": \"saulshanabrook\", \"authored\": 1, \"authorAssociation\": \"MEMBER\"}, {\"username\": \"tibdex\", \"authored\": 1, \"authorAssociation\": \"MEMBER\"}, {\"username\": \"vidartf\", \"authored\": 1, \"authorAssociation\": \"MEMBER\"}]}};\n",
       "      var embedOpt = {\"mode\": \"vega-lite\"};\n",
       "\n",
       "      function showError(el, error){\n",
       "          el.innerHTML = ('<div class=\"error\" style=\"color:red;\">'\n",
       "                          + '<p>JavaScript Error: ' + error.message + '</p>'\n",
       "                          + \"<p>This usually means there's a typo in your chart specification. \"\n",
       "                          + \"See the javascript console for the full traceback.</p>\"\n",
       "                          + '</div>');\n",
       "          throw error;\n",
       "      }\n",
       "      const el = document.getElementById('altair-viz-2');\n",
       "      vegaEmbed(\"#altair-viz-2\", spec, embedOpt)\n",
       "        .catch(error => showError(el, error));\n",
       "    });\n",
       "\n",
       "  </script>"
      ],
      "text/plain": [
       "alt.HConcatChart(...)"
      ]
     },
     "execution_count": 17,
     "metadata": {},
     "output_type": "execute_result"
    }
   ],
   "source": [
    "n_plot = 50\n",
    "charts = []\n",
    "for ii, (iorg, idata) in enumerate(merged_by_repo.replace(np.nan, 0).groupby(['org'])):\n",
    "    title = f\"PR authors for {iorg} in the last {n_days} days\"\n",
    "    idata = idata.groupby('username', as_index=False).agg({'authored': 'sum', 'authorAssociation': 'first'})\n",
    "    idata = idata.sort_values('authored', ascending=False).head(n_plot)\n",
    "    ch = alt.Chart(data=idata, width=1000, title=title).mark_bar().encode(\n",
    "        x='username',\n",
    "        y='authored',\n",
    "        color=alt.Color('authorAssociation', scale=alt.Scale(domain=author_types, range=author_colors))\n",
    "    )\n",
    "    charts.append(ch)\n",
    "\n",
    "alt.hconcat(*charts)"
   ]
  },
  {
   "cell_type": "code",
   "execution_count": 18,
   "metadata": {
    "papermill": {
     "duration": 0.1181,
     "end_time": "2019-12-01T17:52:03.341941",
     "exception": false,
     "start_time": "2019-12-01T17:52:03.223841",
     "status": "completed"
    },
    "tags": []
   },
   "outputs": [
    {
     "data": {
      "text/html": [
       "\n",
       "  <style>\n",
       "    .error {\n",
       "        color: red;\n",
       "    }\n",
       "  </style>\n",
       "  <div id=\"altair-viz-3\"></div>\n",
       "  <script>\n",
       "    requirejs.config({\n",
       "        \"paths\": {\n",
       "            \"vega\": \"https://cdn.jsdelivr.net/npm//vega@5?noext\",\n",
       "            \"vega-lib\": \"https://cdn.jsdelivr.net/npm//vega-lib?noext\",\n",
       "            \"vega-lite\": \"https://cdn.jsdelivr.net/npm//vega-lite@3.4.0?noext\",\n",
       "            \"vega-embed\": \"https://cdn.jsdelivr.net/npm//vega-embed@5?noext\",\n",
       "        }\n",
       "    });\n",
       "    \n",
       "    require(['vega-embed'],function(vegaEmbed) {\n",
       "      var spec = {\"config\": {\"axisLeft\": {\"labelFontSize\": 15}, \"axisBottom\": {\"labelFontSize\": 15}}, \"hconcat\": [{\"data\": {\"name\": \"data-c286b367a92dde4e24c8741169a76174\"}, \"mark\": \"bar\", \"encoding\": {\"x\": {\"type\": \"nominal\", \"field\": \"username\"}, \"y\": {\"type\": \"quantitative\", \"field\": \"closed\"}}, \"title\": \"Merges for binder-examples in the last 30 days\", \"width\": 1000}, {\"data\": {\"name\": \"data-ba42421476226a85f17fc83d6ebaccb4\"}, \"mark\": \"bar\", \"encoding\": {\"x\": {\"type\": \"nominal\", \"field\": \"username\"}, \"y\": {\"type\": \"quantitative\", \"field\": \"closed\"}}, \"title\": \"Merges for ipython in the last 30 days\", \"width\": 1000}, {\"data\": {\"name\": \"data-69d04ddd54a4bb07e1b7f38257bac91b\"}, \"mark\": \"bar\", \"encoding\": {\"x\": {\"type\": \"nominal\", \"field\": \"username\"}, \"y\": {\"type\": \"quantitative\", \"field\": \"closed\"}}, \"title\": \"Merges for jupyter in the last 30 days\", \"width\": 1000}, {\"data\": {\"name\": \"data-1ed73870a5ac412108bd5cfa55f47899\"}, \"mark\": \"bar\", \"encoding\": {\"x\": {\"type\": \"nominal\", \"field\": \"username\"}, \"y\": {\"type\": \"quantitative\", \"field\": \"closed\"}}, \"title\": \"Merges for jupyter-widgets in the last 30 days\", \"width\": 1000}, {\"data\": {\"name\": \"data-708bdd8a1c68c3c454571bc6b71c72af\"}, \"mark\": \"bar\", \"encoding\": {\"x\": {\"type\": \"nominal\", \"field\": \"username\"}, \"y\": {\"type\": \"quantitative\", \"field\": \"closed\"}}, \"title\": \"Merges for jupyterhub in the last 30 days\", \"width\": 1000}, {\"data\": {\"name\": \"data-923568d5b91eaf73a5a1c07e78482056\"}, \"mark\": \"bar\", \"encoding\": {\"x\": {\"type\": \"nominal\", \"field\": \"username\"}, \"y\": {\"type\": \"quantitative\", \"field\": \"closed\"}}, \"title\": \"Merges for jupyterlab in the last 30 days\", \"width\": 1000}], \"$schema\": \"https://vega.github.io/schema/vega-lite/v3.4.0.json\", \"datasets\": {\"data-c286b367a92dde4e24c8741169a76174\": [{\"org\": \"binder-examples\", \"repo\": \"jupyter-extension\", \"username\": \"choldgraf\", \"closed\": 1}, {\"org\": \"binder-examples\", \"repo\": \"multi-language-demo\", \"username\": \"betatim\", \"closed\": 2}, {\"org\": \"binder-examples\", \"repo\": \"r\", \"username\": \"choldgraf\", \"closed\": 1}], \"data-ba42421476226a85f17fc83d6ebaccb4\": [{\"org\": \"ipython\", \"repo\": \"ipykernel\", \"username\": \"blink1073\", \"closed\": 5}, {\"org\": \"ipython\", \"repo\": \"ipyparallel\", \"username\": \"minrk\", \"closed\": 3}, {\"org\": \"ipython\", \"repo\": \"ipython\", \"username\": \"Carreau\", \"closed\": 1}], \"data-69d04ddd54a4bb07e1b7f38257bac91b\": [{\"org\": \"jupyter\", \"repo\": \"docker-stacks\", \"username\": \"parente\", \"closed\": 2}, {\"org\": \"jupyter\", \"repo\": \"enterprise_gateway\", \"username\": \"kevin-bates\", \"closed\": 3}, {\"org\": \"jupyter\", \"repo\": \"enterprise_gateway\", \"username\": \"lresende\", \"closed\": 1}, {\"org\": \"jupyter\", \"repo\": \"governance\", \"username\": \"ivanov\", \"closed\": 1}, {\"org\": \"jupyter\", \"repo\": \"jupyter\", \"username\": \"choldgraf\", \"closed\": 1}, {\"org\": \"jupyter\", \"repo\": \"jupyter-book\", \"username\": \"SamLau95\", \"closed\": 1}, {\"org\": \"jupyter\", \"repo\": \"jupyter-book\", \"username\": \"choldgraf\", \"closed\": 44}, {\"org\": \"jupyter\", \"repo\": \"jupyter-sphinx\", \"username\": \"akhmerov\", \"closed\": 1}, {\"org\": \"jupyter\", \"repo\": \"jupyter_client\", \"username\": \"MSeal\", \"closed\": 1}, {\"org\": \"jupyter\", \"repo\": \"jupyter_client\", \"username\": \"blink1073\", \"closed\": 1}, {\"org\": \"jupyter\", \"repo\": \"jupyter_client\", \"username\": \"rgbkrk\", \"closed\": 1}, {\"org\": \"jupyter\", \"repo\": \"jupyter_core\", \"username\": \"minrk\", \"closed\": 2}, {\"org\": \"jupyter\", \"repo\": \"jupyter_server\", \"username\": \"Zsailer\", \"closed\": 4}, {\"org\": \"jupyter\", \"repo\": \"jupyter_server\", \"username\": \"kevin-bates\", \"closed\": 11}, {\"org\": \"jupyter\", \"repo\": \"jupyter_server\", \"username\": \"rolweber\", \"closed\": 4}, {\"org\": \"jupyter\", \"repo\": \"jupyter_server\", \"username\": \"willingc\", \"closed\": 1}, {\"org\": \"jupyter\", \"repo\": \"kernel_gateway\", \"username\": \"kevin-bates\", \"closed\": 1}, {\"org\": \"jupyter\", \"repo\": \"nbgrader\", \"username\": \"willingc\", \"closed\": 1}, {\"org\": \"jupyter\", \"repo\": \"nbviewer\", \"username\": \"parente\", \"closed\": 1}, {\"org\": \"jupyter\", \"repo\": \"notebook\", \"username\": \"lresende\", \"closed\": 1}, {\"org\": \"jupyter\", \"repo\": \"qtconsole\", \"username\": \"ccordoba12\", \"closed\": 2}, {\"org\": \"jupyter\", \"repo\": \"repo2docker\", \"username\": \"betatim\", \"closed\": 1}, {\"org\": \"jupyter\", \"repo\": \"telemetry\", \"username\": \"Zsailer\", \"closed\": 1}], \"data-1ed73870a5ac412108bd5cfa55f47899\": [{\"org\": \"jupyter-widgets\", \"repo\": \"ipyleaflet\", \"username\": \"martinRenou\", \"closed\": 4}, {\"org\": \"jupyter-widgets\", \"repo\": \"jupyterlab-sidecar\", \"username\": \"SylvainCorlay\", \"closed\": 1}, {\"org\": \"jupyter-widgets\", \"repo\": \"widget-ts-cookiecutter\", \"username\": \"vidartf\", \"closed\": 1}], \"data-708bdd8a1c68c3c454571bc6b71c72af\": [{\"org\": \"jupyterhub\", \"repo\": \"batchspawner\", \"username\": \"willingc\", \"closed\": 3}, {\"org\": \"jupyterhub\", \"repo\": \"jupyter-server-proxy\", \"username\": \"betatim\", \"closed\": 1}, {\"org\": \"jupyterhub\", \"repo\": \"jupyterhub\", \"username\": \"GeorgianaElena\", \"closed\": 1}, {\"org\": \"jupyterhub\", \"repo\": \"jupyterhub\", \"username\": \"consideRatio\", \"closed\": 1}, {\"org\": \"jupyterhub\", \"repo\": \"jupyterhub\", \"username\": \"minrk\", \"closed\": 12}, {\"org\": \"jupyterhub\", \"repo\": \"jupyterhub\", \"username\": \"willingc\", \"closed\": 2}, {\"org\": \"jupyterhub\", \"repo\": \"jupyterhub-the-hard-way\", \"username\": \"willingc\", \"closed\": 8}, {\"org\": \"jupyterhub\", \"repo\": \"kubespawner\", \"username\": \"betatim\", \"closed\": 1}, {\"org\": \"jupyterhub\", \"repo\": \"mybinder.org-deploy\", \"username\": \"betatim\", \"closed\": 10}, {\"org\": \"jupyterhub\", \"repo\": \"mybinder.org-deploy\", \"username\": \"choldgraf\", \"closed\": 2}, {\"org\": \"jupyterhub\", \"repo\": \"mybinder.org-deploy\", \"username\": \"sgibson91\", \"closed\": 1}, {\"org\": \"jupyterhub\", \"repo\": \"nbgitpuller\", \"username\": \"ryanlovett\", \"closed\": 1}, {\"org\": \"jupyterhub\", \"repo\": \"nbgitpuller\", \"username\": \"yuvipanda\", \"closed\": 1}, {\"org\": \"jupyterhub\", \"repo\": \"team-compass\", \"username\": \"choldgraf\", \"closed\": 1}, {\"org\": \"jupyterhub\", \"repo\": \"the-littlest-jupyterhub\", \"username\": \"minrk\", \"closed\": 1}, {\"org\": \"jupyterhub\", \"repo\": \"the-littlest-jupyterhub\", \"username\": \"yuvipanda\", \"closed\": 2}, {\"org\": \"jupyterhub\", \"repo\": \"traefik-proxy\", \"username\": \"GeorgianaElena\", \"closed\": 1}, {\"org\": \"jupyterhub\", \"repo\": \"traefik-proxy\", \"username\": \"minrk\", \"closed\": 4}, {\"org\": \"jupyterhub\", \"repo\": \"zero-to-jupyterhub-k8s\", \"username\": \"betatim\", \"closed\": 1}, {\"org\": \"jupyterhub\", \"repo\": \"zero-to-jupyterhub-k8s\", \"username\": \"consideRatio\", \"closed\": 4}], \"data-923568d5b91eaf73a5a1c07e78482056\": [{\"org\": \"jupyterlab\", \"repo\": \"debugger\", \"username\": \"afshin\", \"closed\": 3}, {\"org\": \"jupyterlab\", \"repo\": \"jupyter-renderers\", \"username\": \"ian-r-rose\", \"closed\": 1}, {\"org\": \"jupyterlab\", \"repo\": \"jupyterlab\", \"username\": \"jasongrout\", \"closed\": 2}, {\"org\": \"jupyterlab\", \"repo\": \"jupyterlab\", \"username\": \"telamonian\", \"closed\": 3}, {\"org\": \"jupyterlab\", \"repo\": \"jupyterlab-celltags\", \"username\": \"markellekelly\", \"closed\": 1}, {\"org\": \"jupyterlab\", \"repo\": \"jupyterlab-commenting\", \"username\": \"saulshanabrook\", \"closed\": 1}, {\"org\": \"jupyterlab\", \"repo\": \"jupyterlab-data-explorer\", \"username\": \"saulshanabrook\", \"closed\": 4}, {\"org\": \"jupyterlab\", \"repo\": \"jupyterlab-git\", \"username\": \"fcollonval\", \"closed\": 5}, {\"org\": \"jupyterlab\", \"repo\": \"jupyterlab-shortcutui\", \"username\": \"afshin\", \"closed\": 1}, {\"org\": \"jupyterlab\", \"repo\": \"jupyterlab-telemetry\", \"username\": \"jaipreet-s\", \"closed\": 1}, {\"org\": \"jupyterlab\", \"repo\": \"team-compass\", \"username\": \"jasongrout\", \"closed\": 2}]}};\n",
       "      var embedOpt = {\"mode\": \"vega-lite\"};\n",
       "\n",
       "      function showError(el, error){\n",
       "          el.innerHTML = ('<div class=\"error\" style=\"color:red;\">'\n",
       "                          + '<p>JavaScript Error: ' + error.message + '</p>'\n",
       "                          + \"<p>This usually means there's a typo in your chart specification. \"\n",
       "                          + \"See the javascript console for the full traceback.</p>\"\n",
       "                          + '</div>');\n",
       "          throw error;\n",
       "      }\n",
       "      const el = document.getElementById('altair-viz-3');\n",
       "      vegaEmbed(\"#altair-viz-3\", spec, embedOpt)\n",
       "        .catch(error => showError(el, error));\n",
       "    });\n",
       "\n",
       "  </script>"
      ],
      "text/plain": [
       "alt.HConcatChart(...)"
      ]
     },
     "execution_count": 18,
     "metadata": {},
     "output_type": "execute_result"
    }
   ],
   "source": [
    "charts = []\n",
    "for ii, (iorg, idata) in enumerate(closed_by_repo.replace(np.nan, 0).groupby(['org'])):\n",
    "    title = f\"Merges for {iorg} in the last {n_days} days\"\n",
    "    ch = alt.Chart(data=idata, width=1000, title=title).mark_bar().encode(\n",
    "        x='username',\n",
    "        y='closed',\n",
    "    )\n",
    "    charts.append(ch)\n",
    "alt.hconcat(*charts)"
   ]
  },
  {
   "cell_type": "markdown",
   "metadata": {
    "papermill": {
     "duration": 0.024702,
     "end_time": "2019-12-01T17:52:03.385538",
     "exception": false,
     "start_time": "2019-12-01T17:52:03.360836",
     "status": "completed"
    },
    "tags": []
   },
   "source": [
    "## Issues\n",
    "\n",
    "Issues are **conversations** that happen on our GitHub repositories. Here's an\n",
    "analysis of issues across the Jupyter organizations."
   ]
  },
  {
   "cell_type": "code",
   "execution_count": 19,
   "metadata": {
    "papermill": {
     "duration": 0.045531,
     "end_time": "2019-12-01T17:52:03.460330",
     "exception": false,
     "start_time": "2019-12-01T17:52:03.414799",
     "status": "completed"
    },
    "tags": []
   },
   "outputs": [],
   "source": [
    "created = issues.query('state == \"OPEN\" and createdAt > @start_date and createdAt < @end_date')\n",
    "closed = issues.query('state == \"CLOSED\" and closedAt > @start_date and closedAt < @end_date')"
   ]
  },
  {
   "cell_type": "code",
   "execution_count": 20,
   "metadata": {
    "papermill": {
     "duration": 0.062584,
     "end_time": "2019-12-01T17:52:03.549293",
     "exception": false,
     "start_time": "2019-12-01T17:52:03.486709",
     "status": "completed"
    },
    "tags": [
     "hide_input"
    ]
   },
   "outputs": [
    {
     "data": {
      "text/html": [
       "\n",
       "  <style>\n",
       "    .error {\n",
       "        color: red;\n",
       "    }\n",
       "  </style>\n",
       "  <div id=\"altair-viz-4\"></div>\n",
       "  <script>\n",
       "    requirejs.config({\n",
       "        \"paths\": {\n",
       "            \"vega\": \"https://cdn.jsdelivr.net/npm//vega@5?noext\",\n",
       "            \"vega-lib\": \"https://cdn.jsdelivr.net/npm//vega-lib?noext\",\n",
       "            \"vega-lite\": \"https://cdn.jsdelivr.net/npm//vega-lite@3.4.0?noext\",\n",
       "            \"vega-embed\": \"https://cdn.jsdelivr.net/npm//vega-embed@5?noext\",\n",
       "        }\n",
       "    });\n",
       "    \n",
       "    require(['vega-embed'],function(vegaEmbed) {\n",
       "      var spec = {\"config\": {\"axisLeft\": {\"labelFontSize\": 15}, \"axisBottom\": {\"labelFontSize\": 15}}, \"data\": {\"name\": \"data-b93fbb28fd65a6a13db26def454eabcd\"}, \"mark\": \"bar\", \"encoding\": {\"color\": {\"type\": \"nominal\", \"field\": \"org\"}, \"x\": {\"type\": \"nominal\", \"field\": \"repo\", \"sort\": [\"jupyterlab\", \"jupyterlab-github\", \"jupyterlab-toc\", \"jupyterlab-google-drive\", \"pull-requests\", \"team-compass\", \"zero-to-jupyterhub-k8s\", \"jupyterhub\", \"binderhub\", \"jupyter-server-proxy\", \"batchspawner\", \"dockerspawner\", \"jupyter-rsession-proxy\", \"ldapauthenticator\", \"mybinder.org-deploy\", \"oauthenticator\", \"firstuseauthenticator\", \"kubespawner\", \"systemdspawner\", \"team-compass\", \"wrapspawner\", \"ipywidgets\", \"ipyleaflet\", \"jupyterlab-sidecar\", \"pythreejs\", \"notebook\", \"repo2docker\", \"jupyter-book\", \"enterprise_gateway\", \"jupyter_client\", \"jupyter_server\", \"nbconvert\", \"docker-stacks\", \"qtconsole\", \"dashboards\", \"jupyter\", \"jupyter-sphinx\", \"nbdime\", \"ipython\", \"ipykernel\", \"ipyparallel\", \"traitlets\"]}, \"y\": {\"type\": \"quantitative\", \"field\": \"number\"}}, \"title\": \"Issues created in the last 30 days\", \"$schema\": \"https://vega.github.io/schema/vega-lite/v3.4.0.json\", \"datasets\": {\"data-b93fbb28fd65a6a13db26def454eabcd\": [{\"org\": \"ipython\", \"repo\": \"ipykernel\", \"number\": 4, \"org/repo\": \"ipython/ipykernel\"}, {\"org\": \"ipython\", \"repo\": \"ipyparallel\", \"number\": 2, \"org/repo\": \"ipython/ipyparallel\"}, {\"org\": \"ipython\", \"repo\": \"ipython\", \"number\": 10, \"org/repo\": \"ipython/ipython\"}, {\"org\": \"ipython\", \"repo\": \"traitlets\", \"number\": 2, \"org/repo\": \"ipython/traitlets\"}, {\"org\": \"jupyter\", \"repo\": \"dashboards\", \"number\": 1, \"org/repo\": \"jupyter/dashboards\"}, {\"org\": \"jupyter\", \"repo\": \"docker-stacks\", \"number\": 2, \"org/repo\": \"jupyter/docker-stacks\"}, {\"org\": \"jupyter\", \"repo\": \"enterprise_gateway\", \"number\": 4, \"org/repo\": \"jupyter/enterprise_gateway\"}, {\"org\": \"jupyter\", \"repo\": \"jupyter\", \"number\": 1, \"org/repo\": \"jupyter/jupyter\"}, {\"org\": \"jupyter\", \"repo\": \"jupyter-book\", \"number\": 5, \"org/repo\": \"jupyter/jupyter-book\"}, {\"org\": \"jupyter\", \"repo\": \"jupyter-sphinx\", \"number\": 1, \"org/repo\": \"jupyter/jupyter-sphinx\"}, {\"org\": \"jupyter\", \"repo\": \"jupyter_client\", \"number\": 4, \"org/repo\": \"jupyter/jupyter_client\"}, {\"org\": \"jupyter\", \"repo\": \"jupyter_server\", \"number\": 4, \"org/repo\": \"jupyter/jupyter_server\"}, {\"org\": \"jupyter\", \"repo\": \"nbconvert\", \"number\": 4, \"org/repo\": \"jupyter/nbconvert\"}, {\"org\": \"jupyter\", \"repo\": \"nbdime\", \"number\": 1, \"org/repo\": \"jupyter/nbdime\"}, {\"org\": \"jupyter\", \"repo\": \"notebook\", \"number\": 39, \"org/repo\": \"jupyter/notebook\"}, {\"org\": \"jupyter\", \"repo\": \"qtconsole\", \"number\": 2, \"org/repo\": \"jupyter/qtconsole\"}, {\"org\": \"jupyter\", \"repo\": \"repo2docker\", \"number\": 6, \"org/repo\": \"jupyter/repo2docker\"}, {\"org\": \"jupyter-widgets\", \"repo\": \"ipyleaflet\", \"number\": 2, \"org/repo\": \"jupyter-widgets/ipyleaflet\"}, {\"org\": \"jupyter-widgets\", \"repo\": \"ipywidgets\", \"number\": 11, \"org/repo\": \"jupyter-widgets/ipywidgets\"}, {\"org\": \"jupyter-widgets\", \"repo\": \"jupyterlab-sidecar\", \"number\": 1, \"org/repo\": \"jupyter-widgets/jupyterlab-sidecar\"}, {\"org\": \"jupyter-widgets\", \"repo\": \"pythreejs\", \"number\": 1, \"org/repo\": \"jupyter-widgets/pythreejs\"}, {\"org\": \"jupyterhub\", \"repo\": \"batchspawner\", \"number\": 2, \"org/repo\": \"jupyterhub/batchspawner\"}, {\"org\": \"jupyterhub\", \"repo\": \"binderhub\", \"number\": 6, \"org/repo\": \"jupyterhub/binderhub\"}, {\"org\": \"jupyterhub\", \"repo\": \"dockerspawner\", \"number\": 2, \"org/repo\": \"jupyterhub/dockerspawner\"}, {\"org\": \"jupyterhub\", \"repo\": \"firstuseauthenticator\", \"number\": 1, \"org/repo\": \"jupyterhub/firstuseauthenticator\"}, {\"org\": \"jupyterhub\", \"repo\": \"jupyter-rsession-proxy\", \"number\": 2, \"org/repo\": \"jupyterhub/jupyter-rsession-proxy\"}, {\"org\": \"jupyterhub\", \"repo\": \"jupyter-server-proxy\", \"number\": 5, \"org/repo\": \"jupyterhub/jupyter-server-proxy\"}, {\"org\": \"jupyterhub\", \"repo\": \"jupyterhub\", \"number\": 8, \"org/repo\": \"jupyterhub/jupyterhub\"}, {\"org\": \"jupyterhub\", \"repo\": \"kubespawner\", \"number\": 1, \"org/repo\": \"jupyterhub/kubespawner\"}, {\"org\": \"jupyterhub\", \"repo\": \"ldapauthenticator\", \"number\": 2, \"org/repo\": \"jupyterhub/ldapauthenticator\"}, {\"org\": \"jupyterhub\", \"repo\": \"mybinder.org-deploy\", \"number\": 2, \"org/repo\": \"jupyterhub/mybinder.org-deploy\"}, {\"org\": \"jupyterhub\", \"repo\": \"oauthenticator\", \"number\": 2, \"org/repo\": \"jupyterhub/oauthenticator\"}, {\"org\": \"jupyterhub\", \"repo\": \"systemdspawner\", \"number\": 1, \"org/repo\": \"jupyterhub/systemdspawner\"}, {\"org\": \"jupyterhub\", \"repo\": \"team-compass\", \"number\": 1, \"org/repo\": \"jupyterhub/team-compass\"}, {\"org\": \"jupyterhub\", \"repo\": \"wrapspawner\", \"number\": 1, \"org/repo\": \"jupyterhub/wrapspawner\"}, {\"org\": \"jupyterhub\", \"repo\": \"zero-to-jupyterhub-k8s\", \"number\": 17, \"org/repo\": \"jupyterhub/zero-to-jupyterhub-k8s\"}, {\"org\": \"jupyterlab\", \"repo\": \"jupyterlab\", \"number\": 31, \"org/repo\": \"jupyterlab/jupyterlab\"}, {\"org\": \"jupyterlab\", \"repo\": \"jupyterlab-github\", \"number\": 2, \"org/repo\": \"jupyterlab/jupyterlab-github\"}, {\"org\": \"jupyterlab\", \"repo\": \"jupyterlab-google-drive\", \"number\": 1, \"org/repo\": \"jupyterlab/jupyterlab-google-drive\"}, {\"org\": \"jupyterlab\", \"repo\": \"jupyterlab-toc\", \"number\": 2, \"org/repo\": \"jupyterlab/jupyterlab-toc\"}, {\"org\": \"jupyterlab\", \"repo\": \"pull-requests\", \"number\": 1, \"org/repo\": \"jupyterlab/pull-requests\"}, {\"org\": \"jupyterlab\", \"repo\": \"team-compass\", \"number\": 1, \"org/repo\": \"jupyterlab/team-compass\"}]}};\n",
       "      var embedOpt = {\"mode\": \"vega-lite\"};\n",
       "\n",
       "      function showError(el, error){\n",
       "          el.innerHTML = ('<div class=\"error\" style=\"color:red;\">'\n",
       "                          + '<p>JavaScript Error: ' + error.message + '</p>'\n",
       "                          + \"<p>This usually means there's a typo in your chart specification. \"\n",
       "                          + \"See the javascript console for the full traceback.</p>\"\n",
       "                          + '</div>');\n",
       "          throw error;\n",
       "      }\n",
       "      const el = document.getElementById('altair-viz-4');\n",
       "      vegaEmbed(\"#altair-viz-4\", spec, embedOpt)\n",
       "        .catch(error => showError(el, error));\n",
       "    });\n",
       "\n",
       "  </script>"
      ],
      "text/plain": [
       "alt.Chart(...)"
      ]
     },
     "execution_count": 20,
     "metadata": {},
     "output_type": "execute_result"
    }
   ],
   "source": [
    "created_counts = created.groupby(['org', 'repo']).count()['number'].reset_index()\n",
    "created_counts['org/repo'] = created_counts.apply(lambda a: a['org'] + '/' + a['repo'], axis=1)\n",
    "sorted_vals = created_counts.sort_values(['org', 'number'], ascending=False)['repo'].values\n",
    "alt.Chart(data=created_counts, title=f\"Issues created in the last {n_days} days\").mark_bar().encode(\n",
    "    x=alt.X('repo', sort=alt.Sort(sorted_vals.tolist())),\n",
    "    y='number',\n",
    "    color='org',\n",
    ")"
   ]
  },
  {
   "cell_type": "code",
   "execution_count": 21,
   "metadata": {
    "papermill": {
     "duration": 0.063364,
     "end_time": "2019-12-01T17:52:03.635459",
     "exception": false,
     "start_time": "2019-12-01T17:52:03.572095",
     "status": "completed"
    },
    "tags": [
     "hide_input"
    ]
   },
   "outputs": [
    {
     "data": {
      "text/html": [
       "\n",
       "  <style>\n",
       "    .error {\n",
       "        color: red;\n",
       "    }\n",
       "  </style>\n",
       "  <div id=\"altair-viz-5\"></div>\n",
       "  <script>\n",
       "    requirejs.config({\n",
       "        \"paths\": {\n",
       "            \"vega\": \"https://cdn.jsdelivr.net/npm//vega@5?noext\",\n",
       "            \"vega-lib\": \"https://cdn.jsdelivr.net/npm//vega-lib?noext\",\n",
       "            \"vega-lite\": \"https://cdn.jsdelivr.net/npm//vega-lite@3.4.0?noext\",\n",
       "            \"vega-embed\": \"https://cdn.jsdelivr.net/npm//vega-embed@5?noext\",\n",
       "        }\n",
       "    });\n",
       "    \n",
       "    require(['vega-embed'],function(vegaEmbed) {\n",
       "      var spec = {\"config\": {\"axisLeft\": {\"labelFontSize\": 15}, \"axisBottom\": {\"labelFontSize\": 15}}, \"data\": {\"name\": \"data-1a3d1a704228324eb213e194c868ba0d\"}, \"mark\": \"bar\", \"encoding\": {\"color\": {\"type\": \"nominal\", \"field\": \"org\"}, \"x\": {\"type\": \"nominal\", \"field\": \"repo\", \"sort\": [\"jupyterlab-data-explorer\", \"jupyterlab-git\", \"jupyterlab-google-drive\", \"team-compass\", \"debugger\", \"jupyter-renderers\", \"jupyterlab-github\", \"jupyterlab-shortcutui\", \"jupyterlab-telemetry\", \"jupyterlab-toc\", \"jupyterhub\", \"zero-to-jupyterhub-k8s\", \"binderhub\", \"the-littlest-jupyterhub\", \"batchspawner\", \"mybinder.org-deploy\", \"traefik-proxy\", \"kubespawner\", \"jupyterhub-deploy-docker\", \"team-compass\", \"configurable-http-proxy\", \"dockerspawner\", \"nbgitpuller\", \"wrapspawner\", \"ipywidgets\", \"ipyleaflet\", \"jupyterlab-sidecar\", \"jupyter-book\", \"notebook\", \"jupyter_server\", \"nbconvert\", \"qtconsole\", \"repo2docker\", \"docker-stacks\", \"enterprise_gateway\", \"jupyter-sphinx\", \"jupyter\", \"jupyter_client\", \"kernel_gateway\", \"nbviewer\", \"steering\", \"telemetry\", \"ipython\", \"ipykernel\", \"ipyparallel\", \"r\", \"jupyter-extension\", \"requirements\"]}, \"y\": {\"type\": \"quantitative\", \"field\": \"number\"}}, \"title\": \"Issues closed in the last 30 days\", \"$schema\": \"https://vega.github.io/schema/vega-lite/v3.4.0.json\", \"datasets\": {\"data-1a3d1a704228324eb213e194c868ba0d\": [{\"org\": \"binder-examples\", \"repo\": \"jupyter-extension\", \"number\": 1, \"org/repo\": \"binder-examples/jupyter-extension\"}, {\"org\": \"binder-examples\", \"repo\": \"r\", \"number\": 2, \"org/repo\": \"binder-examples/r\"}, {\"org\": \"binder-examples\", \"repo\": \"requirements\", \"number\": 1, \"org/repo\": \"binder-examples/requirements\"}, {\"org\": \"ipython\", \"repo\": \"ipykernel\", \"number\": 2, \"org/repo\": \"ipython/ipykernel\"}, {\"org\": \"ipython\", \"repo\": \"ipyparallel\", \"number\": 1, \"org/repo\": \"ipython/ipyparallel\"}, {\"org\": \"ipython\", \"repo\": \"ipython\", \"number\": 11, \"org/repo\": \"ipython/ipython\"}, {\"org\": \"jupyter\", \"repo\": \"docker-stacks\", \"number\": 4, \"org/repo\": \"jupyter/docker-stacks\"}, {\"org\": \"jupyter\", \"repo\": \"enterprise_gateway\", \"number\": 3, \"org/repo\": \"jupyter/enterprise_gateway\"}, {\"org\": \"jupyter\", \"repo\": \"jupyter\", \"number\": 1, \"org/repo\": \"jupyter/jupyter\"}, {\"org\": \"jupyter\", \"repo\": \"jupyter-book\", \"number\": 25, \"org/repo\": \"jupyter/jupyter-book\"}, {\"org\": \"jupyter\", \"repo\": \"jupyter-sphinx\", \"number\": 3, \"org/repo\": \"jupyter/jupyter-sphinx\"}, {\"org\": \"jupyter\", \"repo\": \"jupyter_client\", \"number\": 1, \"org/repo\": \"jupyter/jupyter_client\"}, {\"org\": \"jupyter\", \"repo\": \"jupyter_server\", \"number\": 5, \"org/repo\": \"jupyter/jupyter_server\"}, {\"org\": \"jupyter\", \"repo\": \"kernel_gateway\", \"number\": 1, \"org/repo\": \"jupyter/kernel_gateway\"}, {\"org\": \"jupyter\", \"repo\": \"nbconvert\", \"number\": 5, \"org/repo\": \"jupyter/nbconvert\"}, {\"org\": \"jupyter\", \"repo\": \"nbviewer\", \"number\": 1, \"org/repo\": \"jupyter/nbviewer\"}, {\"org\": \"jupyter\", \"repo\": \"notebook\", \"number\": 14, \"org/repo\": \"jupyter/notebook\"}, {\"org\": \"jupyter\", \"repo\": \"qtconsole\", \"number\": 5, \"org/repo\": \"jupyter/qtconsole\"}, {\"org\": \"jupyter\", \"repo\": \"repo2docker\", \"number\": 5, \"org/repo\": \"jupyter/repo2docker\"}, {\"org\": \"jupyter\", \"repo\": \"steering\", \"number\": 1, \"org/repo\": \"jupyter/steering\"}, {\"org\": \"jupyter\", \"repo\": \"telemetry\", \"number\": 1, \"org/repo\": \"jupyter/telemetry\"}, {\"org\": \"jupyter-widgets\", \"repo\": \"ipyleaflet\", \"number\": 1, \"org/repo\": \"jupyter-widgets/ipyleaflet\"}, {\"org\": \"jupyter-widgets\", \"repo\": \"ipywidgets\", \"number\": 10, \"org/repo\": \"jupyter-widgets/ipywidgets\"}, {\"org\": \"jupyter-widgets\", \"repo\": \"jupyterlab-sidecar\", \"number\": 1, \"org/repo\": \"jupyter-widgets/jupyterlab-sidecar\"}, {\"org\": \"jupyterhub\", \"repo\": \"batchspawner\", \"number\": 5, \"org/repo\": \"jupyterhub/batchspawner\"}, {\"org\": \"jupyterhub\", \"repo\": \"binderhub\", \"number\": 12, \"org/repo\": \"jupyterhub/binderhub\"}, {\"org\": \"jupyterhub\", \"repo\": \"configurable-http-proxy\", \"number\": 1, \"org/repo\": \"jupyterhub/configurable-http-proxy\"}, {\"org\": \"jupyterhub\", \"repo\": \"dockerspawner\", \"number\": 1, \"org/repo\": \"jupyterhub/dockerspawner\"}, {\"org\": \"jupyterhub\", \"repo\": \"jupyterhub\", \"number\": 17, \"org/repo\": \"jupyterhub/jupyterhub\"}, {\"org\": \"jupyterhub\", \"repo\": \"jupyterhub-deploy-docker\", \"number\": 2, \"org/repo\": \"jupyterhub/jupyterhub-deploy-docker\"}, {\"org\": \"jupyterhub\", \"repo\": \"kubespawner\", \"number\": 3, \"org/repo\": \"jupyterhub/kubespawner\"}, {\"org\": \"jupyterhub\", \"repo\": \"mybinder.org-deploy\", \"number\": 5, \"org/repo\": \"jupyterhub/mybinder.org-deploy\"}, {\"org\": \"jupyterhub\", \"repo\": \"nbgitpuller\", \"number\": 1, \"org/repo\": \"jupyterhub/nbgitpuller\"}, {\"org\": \"jupyterhub\", \"repo\": \"team-compass\", \"number\": 2, \"org/repo\": \"jupyterhub/team-compass\"}, {\"org\": \"jupyterhub\", \"repo\": \"the-littlest-jupyterhub\", \"number\": 7, \"org/repo\": \"jupyterhub/the-littlest-jupyterhub\"}, {\"org\": \"jupyterhub\", \"repo\": \"traefik-proxy\", \"number\": 5, \"org/repo\": \"jupyterhub/traefik-proxy\"}, {\"org\": \"jupyterhub\", \"repo\": \"wrapspawner\", \"number\": 1, \"org/repo\": \"jupyterhub/wrapspawner\"}, {\"org\": \"jupyterhub\", \"repo\": \"zero-to-jupyterhub-k8s\", \"number\": 15, \"org/repo\": \"jupyterhub/zero-to-jupyterhub-k8s\"}, {\"org\": \"jupyterlab\", \"repo\": \"debugger\", \"number\": 1, \"org/repo\": \"jupyterlab/debugger\"}, {\"org\": \"jupyterlab\", \"repo\": \"jupyter-renderers\", \"number\": 1, \"org/repo\": \"jupyterlab/jupyter-renderers\"}, {\"org\": \"jupyterlab\", \"repo\": \"jupyterlab-data-explorer\", \"number\": 4, \"org/repo\": \"jupyterlab/jupyterlab-data-explorer\"}, {\"org\": \"jupyterlab\", \"repo\": \"jupyterlab-git\", \"number\": 4, \"org/repo\": \"jupyterlab/jupyterlab-git\"}, {\"org\": \"jupyterlab\", \"repo\": \"jupyterlab-github\", \"number\": 1, \"org/repo\": \"jupyterlab/jupyterlab-github\"}, {\"org\": \"jupyterlab\", \"repo\": \"jupyterlab-google-drive\", \"number\": 4, \"org/repo\": \"jupyterlab/jupyterlab-google-drive\"}, {\"org\": \"jupyterlab\", \"repo\": \"jupyterlab-shortcutui\", \"number\": 1, \"org/repo\": \"jupyterlab/jupyterlab-shortcutui\"}, {\"org\": \"jupyterlab\", \"repo\": \"jupyterlab-telemetry\", \"number\": 1, \"org/repo\": \"jupyterlab/jupyterlab-telemetry\"}, {\"org\": \"jupyterlab\", \"repo\": \"jupyterlab-toc\", \"number\": 1, \"org/repo\": \"jupyterlab/jupyterlab-toc\"}, {\"org\": \"jupyterlab\", \"repo\": \"team-compass\", \"number\": 2, \"org/repo\": \"jupyterlab/team-compass\"}]}};\n",
       "      var embedOpt = {\"mode\": \"vega-lite\"};\n",
       "\n",
       "      function showError(el, error){\n",
       "          el.innerHTML = ('<div class=\"error\" style=\"color:red;\">'\n",
       "                          + '<p>JavaScript Error: ' + error.message + '</p>'\n",
       "                          + \"<p>This usually means there's a typo in your chart specification. \"\n",
       "                          + \"See the javascript console for the full traceback.</p>\"\n",
       "                          + '</div>');\n",
       "          throw error;\n",
       "      }\n",
       "      const el = document.getElementById('altair-viz-5');\n",
       "      vegaEmbed(\"#altair-viz-5\", spec, embedOpt)\n",
       "        .catch(error => showError(el, error));\n",
       "    });\n",
       "\n",
       "  </script>"
      ],
      "text/plain": [
       "alt.Chart(...)"
      ]
     },
     "execution_count": 21,
     "metadata": {},
     "output_type": "execute_result"
    }
   ],
   "source": [
    "closed_counts = closed.groupby(['org', 'repo']).count()['number'].reset_index()\n",
    "closed_counts['org/repo'] = closed_counts.apply(lambda a: a['org'] + '/' + a['repo'], axis=1)\n",
    "sorted_vals = closed_counts.sort_values(['org', 'number'], ascending=False)['repo'].values\n",
    "alt.Chart(data=closed_counts, title=f\"Issues closed in the last {n_days} days\").mark_bar().encode(\n",
    "    x=alt.X('repo', sort=alt.Sort(sorted_vals.tolist())),\n",
    "    y='number',\n",
    "    color='org',\n",
    ")"
   ]
  },
  {
   "cell_type": "code",
   "execution_count": 22,
   "metadata": {
    "papermill": {
     "duration": 0.042911,
     "end_time": "2019-12-01T17:52:03.698449",
     "exception": false,
     "start_time": "2019-12-01T17:52:03.655538",
     "status": "completed"
    },
    "tags": []
   },
   "outputs": [],
   "source": [
    "created_closed = pd.merge(created_counts.rename(columns={'number': 'created'}).drop(columns='org/repo'),\n",
    "                          closed_counts.rename(columns={'number': 'closed'}).drop(columns='org/repo'),\n",
    "                          on=['org', 'repo'], how='outer')\n",
    "\n",
    "created_closed = pd.melt(created_closed, id_vars=['org', 'repo'], var_name=\"kind\", value_name=\"count\").replace(np.nan, 0)"
   ]
  },
  {
   "cell_type": "code",
   "execution_count": 23,
   "metadata": {
    "papermill": {
     "duration": 0.146674,
     "end_time": "2019-12-01T17:52:03.867648",
     "exception": false,
     "start_time": "2019-12-01T17:52:03.720974",
     "status": "completed"
    },
    "tags": []
   },
   "outputs": [
    {
     "data": {
      "text/html": [
       "\n",
       "  <style>\n",
       "    .error {\n",
       "        color: red;\n",
       "    }\n",
       "  </style>\n",
       "  <div id=\"altair-viz-6\"></div>\n",
       "  <script>\n",
       "    requirejs.config({\n",
       "        \"paths\": {\n",
       "            \"vega\": \"https://cdn.jsdelivr.net/npm//vega@5?noext\",\n",
       "            \"vega-lib\": \"https://cdn.jsdelivr.net/npm//vega-lib?noext\",\n",
       "            \"vega-lite\": \"https://cdn.jsdelivr.net/npm//vega-lite@3.4.0?noext\",\n",
       "            \"vega-embed\": \"https://cdn.jsdelivr.net/npm//vega-embed@5?noext\",\n",
       "        }\n",
       "    });\n",
       "    \n",
       "    require(['vega-embed'],function(vegaEmbed) {\n",
       "      var spec = {\"config\": {\"axisLeft\": {\"labelFontSize\": 15}, \"axisBottom\": {\"labelFontSize\": 15}}, \"hconcat\": [{\"data\": {\"name\": \"data-fcecee61855ae775e92a1161e06e3782\"}, \"mark\": \"bar\", \"encoding\": {\"color\": {\"type\": \"nominal\", \"field\": \"kind\"}, \"column\": {\"type\": \"nominal\", \"field\": \"repo\", \"header\": {\"labelFontSize\": 12, \"title\": \"Issue activity, last 30 days for binder-examples\", \"titleFontSize\": 15}}, \"x\": {\"type\": \"nominal\", \"axis\": {\"labelFontSize\": 15, \"title\": \"\"}, \"field\": \"kind\"}, \"y\": {\"type\": \"quantitative\", \"axis\": {\"labelFontSize\": 12, \"titleFontSize\": 15}, \"field\": \"count\"}}, \"width\": 120}, {\"data\": {\"name\": \"data-72920ad8f689ed9246796952b21a0dc6\"}, \"mark\": \"bar\", \"encoding\": {\"color\": {\"type\": \"nominal\", \"field\": \"kind\"}, \"column\": {\"type\": \"nominal\", \"field\": \"repo\", \"header\": {\"labelFontSize\": 12, \"title\": \"Issue activity, last 30 days for ipython\", \"titleFontSize\": 15}}, \"x\": {\"type\": \"nominal\", \"axis\": {\"labelFontSize\": 15, \"title\": \"\"}, \"field\": \"kind\"}, \"y\": {\"type\": \"quantitative\", \"axis\": {\"labelFontSize\": 12, \"titleFontSize\": 15}, \"field\": \"count\"}}, \"width\": 120}, {\"data\": {\"name\": \"data-46881a01e5fba10e0d47a67641eadd81\"}, \"mark\": \"bar\", \"encoding\": {\"color\": {\"type\": \"nominal\", \"field\": \"kind\"}, \"column\": {\"type\": \"nominal\", \"field\": \"repo\", \"header\": {\"labelFontSize\": 12, \"title\": \"Issue activity, last 30 days for jupyter\", \"titleFontSize\": 15}}, \"x\": {\"type\": \"nominal\", \"axis\": {\"labelFontSize\": 15, \"title\": \"\"}, \"field\": \"kind\"}, \"y\": {\"type\": \"quantitative\", \"axis\": {\"labelFontSize\": 12, \"titleFontSize\": 15}, \"field\": \"count\"}}, \"width\": 120}, {\"data\": {\"name\": \"data-446319a9e2b70d0cef0e6f971d5a27c6\"}, \"mark\": \"bar\", \"encoding\": {\"color\": {\"type\": \"nominal\", \"field\": \"kind\"}, \"column\": {\"type\": \"nominal\", \"field\": \"repo\", \"header\": {\"labelFontSize\": 12, \"title\": \"Issue activity, last 30 days for jupyter-widgets\", \"titleFontSize\": 15}}, \"x\": {\"type\": \"nominal\", \"axis\": {\"labelFontSize\": 15, \"title\": \"\"}, \"field\": \"kind\"}, \"y\": {\"type\": \"quantitative\", \"axis\": {\"labelFontSize\": 12, \"titleFontSize\": 15}, \"field\": \"count\"}}, \"width\": 120}, {\"data\": {\"name\": \"data-f19cea3ba314be355e6cc0ed953f5c5a\"}, \"mark\": \"bar\", \"encoding\": {\"color\": {\"type\": \"nominal\", \"field\": \"kind\"}, \"column\": {\"type\": \"nominal\", \"field\": \"repo\", \"header\": {\"labelFontSize\": 12, \"title\": \"Issue activity, last 30 days for jupyterhub\", \"titleFontSize\": 15}}, \"x\": {\"type\": \"nominal\", \"axis\": {\"labelFontSize\": 15, \"title\": \"\"}, \"field\": \"kind\"}, \"y\": {\"type\": \"quantitative\", \"axis\": {\"labelFontSize\": 12, \"titleFontSize\": 15}, \"field\": \"count\"}}, \"width\": 120}, {\"data\": {\"name\": \"data-f4accf90594e6870511db3763a52f6ec\"}, \"mark\": \"bar\", \"encoding\": {\"color\": {\"type\": \"nominal\", \"field\": \"kind\"}, \"column\": {\"type\": \"nominal\", \"field\": \"repo\", \"header\": {\"labelFontSize\": 12, \"title\": \"Issue activity, last 30 days for jupyterlab\", \"titleFontSize\": 15}}, \"x\": {\"type\": \"nominal\", \"axis\": {\"labelFontSize\": 15, \"title\": \"\"}, \"field\": \"kind\"}, \"y\": {\"type\": \"quantitative\", \"axis\": {\"labelFontSize\": 12, \"titleFontSize\": 15}, \"field\": \"count\"}}, \"width\": 120}], \"$schema\": \"https://vega.github.io/schema/vega-lite/v3.4.0.json\", \"datasets\": {\"data-fcecee61855ae775e92a1161e06e3782\": [{\"org\": \"binder-examples\", \"repo\": \"jupyter-extension\", \"kind\": \"created\", \"count\": 0.0}, {\"org\": \"binder-examples\", \"repo\": \"r\", \"kind\": \"created\", \"count\": 0.0}, {\"org\": \"binder-examples\", \"repo\": \"requirements\", \"kind\": \"created\", \"count\": 0.0}, {\"org\": \"binder-examples\", \"repo\": \"jupyter-extension\", \"kind\": \"closed\", \"count\": 1.0}, {\"org\": \"binder-examples\", \"repo\": \"r\", \"kind\": \"closed\", \"count\": 2.0}, {\"org\": \"binder-examples\", \"repo\": \"requirements\", \"kind\": \"closed\", \"count\": 1.0}], \"data-72920ad8f689ed9246796952b21a0dc6\": [{\"org\": \"ipython\", \"repo\": \"ipykernel\", \"kind\": \"created\", \"count\": 4.0}, {\"org\": \"ipython\", \"repo\": \"ipyparallel\", \"kind\": \"created\", \"count\": 2.0}, {\"org\": \"ipython\", \"repo\": \"ipython\", \"kind\": \"created\", \"count\": 10.0}, {\"org\": \"ipython\", \"repo\": \"traitlets\", \"kind\": \"created\", \"count\": 2.0}, {\"org\": \"ipython\", \"repo\": \"ipykernel\", \"kind\": \"closed\", \"count\": 2.0}, {\"org\": \"ipython\", \"repo\": \"ipyparallel\", \"kind\": \"closed\", \"count\": 1.0}, {\"org\": \"ipython\", \"repo\": \"ipython\", \"kind\": \"closed\", \"count\": 11.0}, {\"org\": \"ipython\", \"repo\": \"traitlets\", \"kind\": \"closed\", \"count\": 0.0}], \"data-46881a01e5fba10e0d47a67641eadd81\": [{\"org\": \"jupyter\", \"repo\": \"docker-stacks\", \"kind\": \"created\", \"count\": 2.0}, {\"org\": \"jupyter\", \"repo\": \"enterprise_gateway\", \"kind\": \"created\", \"count\": 4.0}, {\"org\": \"jupyter\", \"repo\": \"jupyter-book\", \"kind\": \"created\", \"count\": 5.0}, {\"org\": \"jupyter\", \"repo\": \"jupyter-sphinx\", \"kind\": \"created\", \"count\": 1.0}, {\"org\": \"jupyter\", \"repo\": \"jupyter_client\", \"kind\": \"created\", \"count\": 4.0}, {\"org\": \"jupyter\", \"repo\": \"jupyter_server\", \"kind\": \"created\", \"count\": 4.0}, {\"org\": \"jupyter\", \"repo\": \"nbconvert\", \"kind\": \"created\", \"count\": 4.0}, {\"org\": \"jupyter\", \"repo\": \"notebook\", \"kind\": \"created\", \"count\": 39.0}, {\"org\": \"jupyter\", \"repo\": \"qtconsole\", \"kind\": \"created\", \"count\": 2.0}, {\"org\": \"jupyter\", \"repo\": \"repo2docker\", \"kind\": \"created\", \"count\": 6.0}, {\"org\": \"jupyter\", \"repo\": \"docker-stacks\", \"kind\": \"closed\", \"count\": 4.0}, {\"org\": \"jupyter\", \"repo\": \"enterprise_gateway\", \"kind\": \"closed\", \"count\": 3.0}, {\"org\": \"jupyter\", \"repo\": \"jupyter-book\", \"kind\": \"closed\", \"count\": 25.0}, {\"org\": \"jupyter\", \"repo\": \"jupyter-sphinx\", \"kind\": \"closed\", \"count\": 3.0}, {\"org\": \"jupyter\", \"repo\": \"jupyter_client\", \"kind\": \"closed\", \"count\": 1.0}, {\"org\": \"jupyter\", \"repo\": \"jupyter_server\", \"kind\": \"closed\", \"count\": 5.0}, {\"org\": \"jupyter\", \"repo\": \"nbconvert\", \"kind\": \"closed\", \"count\": 5.0}, {\"org\": \"jupyter\", \"repo\": \"notebook\", \"kind\": \"closed\", \"count\": 14.0}, {\"org\": \"jupyter\", \"repo\": \"qtconsole\", \"kind\": \"closed\", \"count\": 5.0}, {\"org\": \"jupyter\", \"repo\": \"repo2docker\", \"kind\": \"closed\", \"count\": 5.0}], \"data-446319a9e2b70d0cef0e6f971d5a27c6\": [{\"org\": \"jupyter-widgets\", \"repo\": \"ipyleaflet\", \"kind\": \"created\", \"count\": 2.0}, {\"org\": \"jupyter-widgets\", \"repo\": \"ipywidgets\", \"kind\": \"created\", \"count\": 11.0}, {\"org\": \"jupyter-widgets\", \"repo\": \"jupyterlab-sidecar\", \"kind\": \"created\", \"count\": 1.0}, {\"org\": \"jupyter-widgets\", \"repo\": \"pythreejs\", \"kind\": \"created\", \"count\": 1.0}, {\"org\": \"jupyter-widgets\", \"repo\": \"ipyleaflet\", \"kind\": \"closed\", \"count\": 1.0}, {\"org\": \"jupyter-widgets\", \"repo\": \"ipywidgets\", \"kind\": \"closed\", \"count\": 10.0}, {\"org\": \"jupyter-widgets\", \"repo\": \"jupyterlab-sidecar\", \"kind\": \"closed\", \"count\": 1.0}, {\"org\": \"jupyter-widgets\", \"repo\": \"pythreejs\", \"kind\": \"closed\", \"count\": 0.0}], \"data-f19cea3ba314be355e6cc0ed953f5c5a\": [{\"org\": \"jupyterhub\", \"repo\": \"batchspawner\", \"kind\": \"created\", \"count\": 2.0}, {\"org\": \"jupyterhub\", \"repo\": \"binderhub\", \"kind\": \"created\", \"count\": 6.0}, {\"org\": \"jupyterhub\", \"repo\": \"dockerspawner\", \"kind\": \"created\", \"count\": 2.0}, {\"org\": \"jupyterhub\", \"repo\": \"jupyter-server-proxy\", \"kind\": \"created\", \"count\": 5.0}, {\"org\": \"jupyterhub\", \"repo\": \"jupyterhub\", \"kind\": \"created\", \"count\": 8.0}, {\"org\": \"jupyterhub\", \"repo\": \"kubespawner\", \"kind\": \"created\", \"count\": 1.0}, {\"org\": \"jupyterhub\", \"repo\": \"mybinder.org-deploy\", \"kind\": \"created\", \"count\": 2.0}, {\"org\": \"jupyterhub\", \"repo\": \"zero-to-jupyterhub-k8s\", \"kind\": \"created\", \"count\": 17.0}, {\"org\": \"jupyterhub\", \"repo\": \"the-littlest-jupyterhub\", \"kind\": \"created\", \"count\": 0.0}, {\"org\": \"jupyterhub\", \"repo\": \"traefik-proxy\", \"kind\": \"created\", \"count\": 0.0}, {\"org\": \"jupyterhub\", \"repo\": \"batchspawner\", \"kind\": \"closed\", \"count\": 5.0}, {\"org\": \"jupyterhub\", \"repo\": \"binderhub\", \"kind\": \"closed\", \"count\": 12.0}, {\"org\": \"jupyterhub\", \"repo\": \"dockerspawner\", \"kind\": \"closed\", \"count\": 1.0}, {\"org\": \"jupyterhub\", \"repo\": \"jupyter-server-proxy\", \"kind\": \"closed\", \"count\": 0.0}, {\"org\": \"jupyterhub\", \"repo\": \"jupyterhub\", \"kind\": \"closed\", \"count\": 17.0}, {\"org\": \"jupyterhub\", \"repo\": \"kubespawner\", \"kind\": \"closed\", \"count\": 3.0}, {\"org\": \"jupyterhub\", \"repo\": \"mybinder.org-deploy\", \"kind\": \"closed\", \"count\": 5.0}, {\"org\": \"jupyterhub\", \"repo\": \"zero-to-jupyterhub-k8s\", \"kind\": \"closed\", \"count\": 15.0}, {\"org\": \"jupyterhub\", \"repo\": \"the-littlest-jupyterhub\", \"kind\": \"closed\", \"count\": 7.0}, {\"org\": \"jupyterhub\", \"repo\": \"traefik-proxy\", \"kind\": \"closed\", \"count\": 5.0}], \"data-f4accf90594e6870511db3763a52f6ec\": [{\"org\": \"jupyterlab\", \"repo\": \"jupyterlab\", \"kind\": \"created\", \"count\": 31.0}, {\"org\": \"jupyterlab\", \"repo\": \"jupyterlab-github\", \"kind\": \"created\", \"count\": 2.0}, {\"org\": \"jupyterlab\", \"repo\": \"jupyterlab-google-drive\", \"kind\": \"created\", \"count\": 1.0}, {\"org\": \"jupyterlab\", \"repo\": \"jupyterlab-toc\", \"kind\": \"created\", \"count\": 2.0}, {\"org\": \"jupyterlab\", \"repo\": \"team-compass\", \"kind\": \"created\", \"count\": 1.0}, {\"org\": \"jupyterlab\", \"repo\": \"debugger\", \"kind\": \"created\", \"count\": 0.0}, {\"org\": \"jupyterlab\", \"repo\": \"jupyter-renderers\", \"kind\": \"created\", \"count\": 0.0}, {\"org\": \"jupyterlab\", \"repo\": \"jupyterlab-data-explorer\", \"kind\": \"created\", \"count\": 0.0}, {\"org\": \"jupyterlab\", \"repo\": \"jupyterlab-git\", \"kind\": \"created\", \"count\": 0.0}, {\"org\": \"jupyterlab\", \"repo\": \"jupyterlab-shortcutui\", \"kind\": \"created\", \"count\": 0.0}, {\"org\": \"jupyterlab\", \"repo\": \"jupyterlab\", \"kind\": \"closed\", \"count\": 0.0}, {\"org\": \"jupyterlab\", \"repo\": \"jupyterlab-github\", \"kind\": \"closed\", \"count\": 1.0}, {\"org\": \"jupyterlab\", \"repo\": \"jupyterlab-google-drive\", \"kind\": \"closed\", \"count\": 4.0}, {\"org\": \"jupyterlab\", \"repo\": \"jupyterlab-toc\", \"kind\": \"closed\", \"count\": 1.0}, {\"org\": \"jupyterlab\", \"repo\": \"team-compass\", \"kind\": \"closed\", \"count\": 2.0}, {\"org\": \"jupyterlab\", \"repo\": \"debugger\", \"kind\": \"closed\", \"count\": 1.0}, {\"org\": \"jupyterlab\", \"repo\": \"jupyter-renderers\", \"kind\": \"closed\", \"count\": 1.0}, {\"org\": \"jupyterlab\", \"repo\": \"jupyterlab-data-explorer\", \"kind\": \"closed\", \"count\": 4.0}, {\"org\": \"jupyterlab\", \"repo\": \"jupyterlab-git\", \"kind\": \"closed\", \"count\": 4.0}, {\"org\": \"jupyterlab\", \"repo\": \"jupyterlab-shortcutui\", \"kind\": \"closed\", \"count\": 1.0}]}};\n",
       "      var embedOpt = {\"mode\": \"vega-lite\"};\n",
       "\n",
       "      function showError(el, error){\n",
       "          el.innerHTML = ('<div class=\"error\" style=\"color:red;\">'\n",
       "                          + '<p>JavaScript Error: ' + error.message + '</p>'\n",
       "                          + \"<p>This usually means there's a typo in your chart specification. \"\n",
       "                          + \"See the javascript console for the full traceback.</p>\"\n",
       "                          + '</div>');\n",
       "          throw error;\n",
       "      }\n",
       "      const el = document.getElementById('altair-viz-6');\n",
       "      vegaEmbed(\"#altair-viz-6\", spec, embedOpt)\n",
       "        .catch(error => showError(el, error));\n",
       "    });\n",
       "\n",
       "  </script>"
      ],
      "text/plain": [
       "alt.HConcatChart(...)"
      ]
     },
     "execution_count": 23,
     "metadata": {},
     "output_type": "execute_result"
    }
   ],
   "source": [
    "charts = []\n",
    "for org in github_orgs:\n",
    "    # Pick the top 10 repositories\n",
    "    this_issues = created_closed.query('org == @org')\n",
    "    top_repos = this_issues.groupby(['repo']).sum().sort_values(by='count', ascending=False).head(10).index\n",
    "    ch = alt.Chart(this_issues.query('repo in @top_repos'), width=120).mark_bar().encode(\n",
    "        x=alt.X(\"kind\", axis=alt.Axis(labelFontSize=15, title=\"\")), \n",
    "        y=alt.Y('count', axis=alt.Axis(titleFontSize=15, labelFontSize=12)),\n",
    "        color='kind',\n",
    "        column=alt.Column(\"repo\", header=alt.Header(title=f\"Issue activity, last {n_days} days for {org}\", titleFontSize=15, labelFontSize=12))\n",
    "    )\n",
    "    charts.append(ch)\n",
    "alt.hconcat(*charts)"
   ]
  },
  {
   "cell_type": "code",
   "execution_count": 24,
   "metadata": {
    "papermill": {
     "duration": 0.062522,
     "end_time": "2019-12-01T17:52:03.954717",
     "exception": false,
     "start_time": "2019-12-01T17:52:03.892195",
     "status": "completed"
    },
    "tags": []
   },
   "outputs": [],
   "source": [
    "# Set to datetime\n",
    "for kind in ['createdAt', 'closedAt']:\n",
    "    closed.loc[:, kind] = pd.to_datetime(closed[kind])\n",
    "    \n",
    "closed.loc[:, 'time_open'] = closed['closedAt'] - closed['createdAt']\n",
    "closed.loc[:, 'time_open'] = closed['time_open'].dt.total_seconds()"
   ]
  },
  {
   "cell_type": "code",
   "execution_count": 25,
   "metadata": {
    "papermill": {
     "duration": 0.069926,
     "end_time": "2019-12-01T17:52:04.059229",
     "exception": false,
     "start_time": "2019-12-01T17:52:03.989303",
     "status": "completed"
    },
    "tags": []
   },
   "outputs": [
    {
     "data": {
      "text/html": [
       "\n",
       "  <style>\n",
       "    .error {\n",
       "        color: red;\n",
       "    }\n",
       "  </style>\n",
       "  <div id=\"altair-viz-7\"></div>\n",
       "  <script>\n",
       "    requirejs.config({\n",
       "        \"paths\": {\n",
       "            \"vega\": \"https://cdn.jsdelivr.net/npm//vega@5?noext\",\n",
       "            \"vega-lib\": \"https://cdn.jsdelivr.net/npm//vega-lib?noext\",\n",
       "            \"vega-lite\": \"https://cdn.jsdelivr.net/npm//vega-lite@3.4.0?noext\",\n",
       "            \"vega-embed\": \"https://cdn.jsdelivr.net/npm//vega-embed@5?noext\",\n",
       "        }\n",
       "    });\n",
       "    \n",
       "    require(['vega-embed'],function(vegaEmbed) {\n",
       "      var spec = {\"config\": {\"axisLeft\": {\"labelFontSize\": 15}, \"axisBottom\": {\"labelFontSize\": 15}}, \"data\": {\"name\": \"data-f0c0206db654ec5f7225ffd4dcf1bb90\"}, \"mark\": \"bar\", \"encoding\": {\"color\": {\"type\": \"nominal\", \"field\": \"org\"}, \"x\": {\"type\": \"nominal\", \"field\": \"repo\", \"sort\": [\"jupyterlab-shortcutui\", \"jupyterlab-telemetry\", \"jupyter-renderers\", \"team-compass\", \"jupyterlab-google-drive\", \"jupyterlab-data-explorer\", \"jupyterlab-git\", \"jupyterlab-toc\", \"debugger\", \"jupyterlab-github\", \"wrapspawner\", \"configurable-http-proxy\", \"nbgitpuller\", \"team-compass\", \"binderhub\", \"dockerspawner\", \"zero-to-jupyterhub-k8s\", \"jupyterhub\", \"the-littlest-jupyterhub\", \"traefik-proxy\", \"jupyterhub-deploy-docker\", \"mybinder.org-deploy\", \"batchspawner\", \"kubespawner\", \"ipywidgets\", \"ipyleaflet\", \"jupyterlab-sidecar\", \"steering\", \"repo2docker\", \"jupyter_server\", \"telemetry\", \"nbconvert\", \"notebook\", \"docker-stacks\", \"kernel_gateway\", \"enterprise_gateway\", \"jupyter-book\", \"jupyter\", \"jupyter_client\", \"qtconsole\", \"jupyter-sphinx\", \"nbviewer\", \"ipyparallel\", \"ipython\", \"ipykernel\", \"r\", \"jupyter-extension\", \"requirements\"]}, \"y\": {\"type\": \"quantitative\", \"field\": \"time_open\", \"title\": \"Median Days Open\"}}, \"title\": \"Time to close for issues closed in the last 30 days\", \"$schema\": \"https://vega.github.io/schema/vega-lite/v3.4.0.json\", \"datasets\": {\"data-f0c0206db654ec5f7225ffd4dcf1bb90\": [{\"org\": \"binder-examples\", \"repo\": \"jupyter-extension\", \"time_open\": 14.362071759259258, \"org/repo\": \"binder-examples/jupyter-extension\"}, {\"org\": \"binder-examples\", \"repo\": \"r\", \"time_open\": 469.72285300925927, \"org/repo\": \"binder-examples/r\"}, {\"org\": \"binder-examples\", \"repo\": \"requirements\", \"time_open\": 10.026666666666667, \"org/repo\": \"binder-examples/requirements\"}, {\"org\": \"ipython\", \"repo\": \"ipykernel\", \"time_open\": 1.6155381944444445, \"org/repo\": \"ipython/ipykernel\"}, {\"org\": \"ipython\", \"repo\": \"ipyparallel\", \"time_open\": 263.12002314814816, \"org/repo\": \"ipython/ipyparallel\"}, {\"org\": \"ipython\", \"repo\": \"ipython\", \"time_open\": 2.6305092592592594, \"org/repo\": \"ipython/ipython\"}, {\"org\": \"jupyter\", \"repo\": \"docker-stacks\", \"time_open\": 10.755694444444444, \"org/repo\": \"jupyter/docker-stacks\"}, {\"org\": \"jupyter\", \"repo\": \"enterprise_gateway\", \"time_open\": 5.193784722222222, \"org/repo\": \"jupyter/enterprise_gateway\"}, {\"org\": \"jupyter\", \"repo\": \"jupyter\", \"time_open\": 4.274791666666666, \"org/repo\": \"jupyter/jupyter\"}, {\"org\": \"jupyter\", \"repo\": \"jupyter-book\", \"time_open\": 4.384780092592592, \"org/repo\": \"jupyter/jupyter-book\"}, {\"org\": \"jupyter\", \"repo\": \"jupyter-sphinx\", \"time_open\": 0.45069444444444445, \"org/repo\": \"jupyter/jupyter-sphinx\"}, {\"org\": \"jupyter\", \"repo\": \"jupyter_client\", \"time_open\": 1.064675925925926, \"org/repo\": \"jupyter/jupyter_client\"}, {\"org\": \"jupyter\", \"repo\": \"jupyter_server\", \"time_open\": 76.8265625, \"org/repo\": \"jupyter/jupyter_server\"}, {\"org\": \"jupyter\", \"repo\": \"kernel_gateway\", \"time_open\": 6.249594907407407, \"org/repo\": \"jupyter/kernel_gateway\"}, {\"org\": \"jupyter\", \"repo\": \"nbconvert\", \"time_open\": 22.17087962962963, \"org/repo\": \"jupyter/nbconvert\"}, {\"org\": \"jupyter\", \"repo\": \"nbviewer\", \"time_open\": 0.024560185185185185, \"org/repo\": \"jupyter/nbviewer\"}, {\"org\": \"jupyter\", \"repo\": \"notebook\", \"time_open\": 17.178825231481483, \"org/repo\": \"jupyter/notebook\"}, {\"org\": \"jupyter\", \"repo\": \"qtconsole\", \"time_open\": 0.8718518518518519, \"org/repo\": \"jupyter/qtconsole\"}, {\"org\": \"jupyter\", \"repo\": \"repo2docker\", \"time_open\": 123.67910879629629, \"org/repo\": \"jupyter/repo2docker\"}, {\"org\": \"jupyter\", \"repo\": \"steering\", \"time_open\": 138.78775462962963, \"org/repo\": \"jupyter/steering\"}, {\"org\": \"jupyter\", \"repo\": \"telemetry\", \"time_open\": 53.94275462962963, \"org/repo\": \"jupyter/telemetry\"}, {\"org\": \"jupyter-widgets\", \"repo\": \"ipyleaflet\", \"time_open\": 0.9228587962962963, \"org/repo\": \"jupyter-widgets/ipyleaflet\"}, {\"org\": \"jupyter-widgets\", \"repo\": \"ipywidgets\", \"time_open\": 6.823674768518519, \"org/repo\": \"jupyter-widgets/ipywidgets\"}, {\"org\": \"jupyter-widgets\", \"repo\": \"jupyterlab-sidecar\", \"time_open\": 0.011342592592592593, \"org/repo\": \"jupyter-widgets/jupyterlab-sidecar\"}, {\"org\": \"jupyterhub\", \"repo\": \"batchspawner\", \"time_open\": 3.2895833333333333, \"org/repo\": \"jupyterhub/batchspawner\"}, {\"org\": \"jupyterhub\", \"repo\": \"binderhub\", \"time_open\": 34.41449074074074, \"org/repo\": \"jupyterhub/binderhub\"}, {\"org\": \"jupyterhub\", \"repo\": \"configurable-http-proxy\", \"time_open\": 148.41362268518517, \"org/repo\": \"jupyterhub/configurable-http-proxy\"}, {\"org\": \"jupyterhub\", \"repo\": \"dockerspawner\", \"time_open\": 27.71925925925926, \"org/repo\": \"jupyterhub/dockerspawner\"}, {\"org\": \"jupyterhub\", \"repo\": \"jupyterhub\", \"time_open\": 15.03054398148148, \"org/repo\": \"jupyterhub/jupyterhub\"}, {\"org\": \"jupyterhub\", \"repo\": \"jupyterhub-deploy-docker\", \"time_open\": 5.858952546296297, \"org/repo\": \"jupyterhub/jupyterhub-deploy-docker\"}, {\"org\": \"jupyterhub\", \"repo\": \"kubespawner\", \"time_open\": 0.05789351851851852, \"org/repo\": \"jupyterhub/kubespawner\"}, {\"org\": \"jupyterhub\", \"repo\": \"mybinder.org-deploy\", \"time_open\": 4.013715277777778, \"org/repo\": \"jupyterhub/mybinder.org-deploy\"}, {\"org\": \"jupyterhub\", \"repo\": \"nbgitpuller\", \"time_open\": 111.9330787037037, \"org/repo\": \"jupyterhub/nbgitpuller\"}, {\"org\": \"jupyterhub\", \"repo\": \"team-compass\", \"time_open\": 56.37727430555555, \"org/repo\": \"jupyterhub/team-compass\"}, {\"org\": \"jupyterhub\", \"repo\": \"the-littlest-jupyterhub\", \"time_open\": 8.840509259259258, \"org/repo\": \"jupyterhub/the-littlest-jupyterhub\"}, {\"org\": \"jupyterhub\", \"repo\": \"traefik-proxy\", \"time_open\": 6.797256944444444, \"org/repo\": \"jupyterhub/traefik-proxy\"}, {\"org\": \"jupyterhub\", \"repo\": \"wrapspawner\", \"time_open\": 473.76790509259257, \"org/repo\": \"jupyterhub/wrapspawner\"}, {\"org\": \"jupyterhub\", \"repo\": \"zero-to-jupyterhub-k8s\", \"time_open\": 21.768009259259262, \"org/repo\": \"jupyterhub/zero-to-jupyterhub-k8s\"}, {\"org\": \"jupyterlab\", \"repo\": \"debugger\", \"time_open\": 4.007581018518518, \"org/repo\": \"jupyterlab/debugger\"}, {\"org\": \"jupyterlab\", \"repo\": \"jupyter-renderers\", \"time_open\": 64.790625, \"org/repo\": \"jupyterlab/jupyter-renderers\"}, {\"org\": \"jupyterlab\", \"repo\": \"jupyterlab-data-explorer\", \"time_open\": 14.670925925925927, \"org/repo\": \"jupyterlab/jupyterlab-data-explorer\"}, {\"org\": \"jupyterlab\", \"repo\": \"jupyterlab-git\", \"time_open\": 13.606556712962963, \"org/repo\": \"jupyterlab/jupyterlab-git\"}, {\"org\": \"jupyterlab\", \"repo\": \"jupyterlab-github\", \"time_open\": 0.010856481481481483, \"org/repo\": \"jupyterlab/jupyterlab-github\"}, {\"org\": \"jupyterlab\", \"repo\": \"jupyterlab-google-drive\", \"time_open\": 40.268993055555555, \"org/repo\": \"jupyterlab/jupyterlab-google-drive\"}, {\"org\": \"jupyterlab\", \"repo\": \"jupyterlab-shortcutui\", \"time_open\": 323.84163194444443, \"org/repo\": \"jupyterlab/jupyterlab-shortcutui\"}, {\"org\": \"jupyterlab\", \"repo\": \"jupyterlab-telemetry\", \"time_open\": 93.99156250000001, \"org/repo\": \"jupyterlab/jupyterlab-telemetry\"}, {\"org\": \"jupyterlab\", \"repo\": \"jupyterlab-toc\", \"time_open\": 4.64400462962963, \"org/repo\": \"jupyterlab/jupyterlab-toc\"}, {\"org\": \"jupyterlab\", \"repo\": \"team-compass\", \"time_open\": 42.873842592592595, \"org/repo\": \"jupyterlab/team-compass\"}]}};\n",
       "      var embedOpt = {\"mode\": \"vega-lite\"};\n",
       "\n",
       "      function showError(el, error){\n",
       "          el.innerHTML = ('<div class=\"error\" style=\"color:red;\">'\n",
       "                          + '<p>JavaScript Error: ' + error.message + '</p>'\n",
       "                          + \"<p>This usually means there's a typo in your chart specification. \"\n",
       "                          + \"See the javascript console for the full traceback.</p>\"\n",
       "                          + '</div>');\n",
       "          throw error;\n",
       "      }\n",
       "      const el = document.getElementById('altair-viz-7');\n",
       "      vegaEmbed(\"#altair-viz-7\", spec, embedOpt)\n",
       "        .catch(error => showError(el, error));\n",
       "    });\n",
       "\n",
       "  </script>"
      ],
      "text/plain": [
       "alt.Chart(...)"
      ]
     },
     "execution_count": 25,
     "metadata": {},
     "output_type": "execute_result"
    }
   ],
   "source": [
    "time_open = closed.groupby(['org', 'repo']).agg({'time_open': 'median'}).reset_index()\n",
    "time_open['time_open'] = time_open['time_open'] / (60 * 60 * 24)\n",
    "time_open['org/repo'] = time_open.apply(lambda a: a['org'] + '/' + a['repo'], axis=1)\n",
    "sorted_vals = time_open.sort_values(['org', 'time_open'], ascending=False)['repo'].values\n",
    "alt.Chart(data=time_open, title=f\"Time to close for issues closed in the last {n_days} days\").mark_bar().encode(\n",
    "    x=alt.X('repo', sort=alt.Sort(sorted_vals.tolist())),\n",
    "    y=alt.Y('time_open', title=\"Median Days Open\"),\n",
    "    color='org',\n",
    ")"
   ]
  },
  {
   "cell_type": "markdown",
   "metadata": {
    "papermill": {
     "duration": 0.033775,
     "end_time": "2019-12-01T17:52:04.118119",
     "exception": false,
     "start_time": "2019-12-01T17:52:04.084344",
     "status": "completed"
    },
    "tags": []
   },
   "source": [
    "### A list of recent issues\n",
    "\n",
    "Below is a list of issues with recent activity in each repository. If they seem of interest\n",
    "to you, click on their links and jump in to participate!"
   ]
  },
  {
   "cell_type": "code",
   "execution_count": 26,
   "metadata": {
    "papermill": {
     "duration": 0.050799,
     "end_time": "2019-12-01T17:52:04.198049",
     "exception": false,
     "start_time": "2019-12-01T17:52:04.147250",
     "status": "completed"
    },
    "tags": []
   },
   "outputs": [],
   "source": [
    "# Add comment count data to issues and PRs\n",
    "comment_counts = (\n",
    "    comments\n",
    "    .query(\"createdAt > @start_date and createdAt < @end_date\")\n",
    "    .groupby(['org', 'repo', 'issue_id'])\n",
    "    .count().iloc[:, 0].to_frame()\n",
    ")\n",
    "comment_counts.columns = ['n_comments']\n",
    "comment_counts = comment_counts.reset_index()"
   ]
  },
  {
   "cell_type": "code",
   "execution_count": 27,
   "metadata": {
    "papermill": {
     "duration": 0.556151,
     "end_time": "2019-12-01T17:52:04.783362",
     "exception": false,
     "start_time": "2019-12-01T17:52:04.227211",
     "status": "completed"
    },
    "tags": [
     "hide_input"
    ],
    "toc-hr-collapsed": false
   },
   "outputs": [
    {
     "data": {
      "text/markdown": [
       "Here are the top 5 active issues in each repository in the last 30 days"
      ],
      "text/plain": [
       "<IPython.core.display.Markdown object>"
      ]
     },
     "metadata": {},
     "output_type": "display_data"
    },
    {
     "data": {
      "application/vnd.jupyter.widget-view+json": {
       "model_id": "574f82b4b12349e5b08933076ce63f71",
       "version_major": 2,
       "version_minor": 0
      },
      "text/plain": [
       "Tab(children=(HTML(value='<h4>binder-examples</h4>\\n<h5><a href=\"https://github.com/binder-examples/jupyter-ex…"
      ]
     },
     "metadata": {},
     "output_type": "display_data"
    }
   ],
   "source": [
    "n_plot = 5\n",
    "tabs = widgets.Tab(children=[])\n",
    "for ii, (org, idata) in enumerate(comment_counts.groupby('org')):\n",
    "    issue_md = []\n",
    "    issue_md.append(f\"#### {org}\")\n",
    "    issue_md.append(\"\")\n",
    "    for repo, i_issues in idata.groupby('repo'):\n",
    "        issue_md.append(f\"##### [{org}/{repo}](https://github.com/{org}/{repo})\")\n",
    "\n",
    "        top_issues = i_issues.sort_values('n_comments', ascending=False).head(n_plot)\n",
    "        top_issue_list = pd.merge(issues, top_issues, left_on=['org', 'repo', 'number'], right_on=['org', 'repo', 'issue_id'])\n",
    "        for _, issue in top_issue_list.sort_values('n_comments', ascending=False).head(n_plot).iterrows():\n",
    "            user_name = issue['author']\n",
    "            user_url = author_url(user_name)\n",
    "            issue_number = issue['number']\n",
    "            issue_html = issue['url']\n",
    "            issue_title = issue['title']\n",
    "\n",
    "            text = f\"* [(#{issue_number})]({issue_html}): _{issue_title}_ by **[@{user_name}]({user_url})**\"\n",
    "            issue_md.append(text)\n",
    "\n",
    "    issue_md.append('')\n",
    "    md_html = HTML(markdown('\\n'.join(issue_md)))\n",
    "    \n",
    "    children = list(tabs.children)\n",
    "    children.append(HTML(markdown('\\n'.join(issue_md))))\n",
    "    tabs.children = tuple(children)\n",
    "    tabs.set_title(ii, org)\n",
    "    \n",
    "display(Markdown(f\"Here are the top {n_plot} active issues in each repository in the last {n_days} days\"))\n",
    "display(tabs)"
   ]
  },
  {
   "cell_type": "markdown",
   "metadata": {
    "papermill": {
     "duration": 0.029448,
     "end_time": "2019-12-01T17:52:04.833747",
     "exception": false,
     "start_time": "2019-12-01T17:52:04.804299",
     "status": "completed"
    },
    "tags": []
   },
   "source": [
    "## Commenters across repositories\n",
    "\n",
    "These are commenters across all issues and pull requests in the last several days.\n",
    "These are colored by the commenter's association with the organization. For information\n",
    "about what these associations mean, [see this StackOverflow post](https://stackoverflow.com/a/28866914/1927102)."
   ]
  },
  {
   "cell_type": "code",
   "execution_count": 28,
   "metadata": {
    "papermill": {
     "duration": 0.053133,
     "end_time": "2019-12-01T17:52:04.921207",
     "exception": false,
     "start_time": "2019-12-01T17:52:04.868074",
     "status": "completed"
    },
    "tags": []
   },
   "outputs": [],
   "source": [
    "commentors = (\n",
    "    comments\n",
    "    .query(\"createdAt > @start_date and createdAt < @end_date\")\n",
    "    .groupby(['org', 'repo', 'author', 'authorAssociation'])\n",
    "    .count().rename(columns={'id': 'count'})['count']\n",
    "    .reset_index()\n",
    "    .sort_values(['org', 'count'], ascending=False)\n",
    ")"
   ]
  },
  {
   "cell_type": "code",
   "execution_count": 29,
   "metadata": {
    "papermill": {
     "duration": 0.145584,
     "end_time": "2019-12-01T17:52:05.090846",
     "exception": false,
     "start_time": "2019-12-01T17:52:04.945262",
     "status": "completed"
    },
    "tags": []
   },
   "outputs": [
    {
     "data": {
      "text/html": [
       "\n",
       "  <style>\n",
       "    .error {\n",
       "        color: red;\n",
       "    }\n",
       "  </style>\n",
       "  <div id=\"altair-viz-8\"></div>\n",
       "  <script>\n",
       "    requirejs.config({\n",
       "        \"paths\": {\n",
       "            \"vega\": \"https://cdn.jsdelivr.net/npm//vega@5?noext\",\n",
       "            \"vega-lib\": \"https://cdn.jsdelivr.net/npm//vega-lib?noext\",\n",
       "            \"vega-lite\": \"https://cdn.jsdelivr.net/npm//vega-lite@3.4.0?noext\",\n",
       "            \"vega-embed\": \"https://cdn.jsdelivr.net/npm//vega-embed@5?noext\",\n",
       "        }\n",
       "    });\n",
       "    \n",
       "    require(['vega-embed'],function(vegaEmbed) {\n",
       "      var spec = {\"config\": {\"axisLeft\": {\"labelFontSize\": 15}, \"axisBottom\": {\"labelFontSize\": 15}}, \"hconcat\": [{\"data\": {\"name\": \"data-72a1a5230887d07e96d4f166dd02ffe1\"}, \"mark\": \"bar\", \"encoding\": {\"color\": {\"type\": \"nominal\", \"field\": \"authorAssociation\", \"scale\": {\"domain\": [\"MEMBER\", \"CONTRIBUTOR\", \"COLLABORATOR\", \"NONE\"], \"range\": [\"rgb(211.82745098039214, 211.82745098039214, 211.82745098039214, 256.0)\", \"rgb(166.98562091503268, 229.89803921568628, 166.98562091503268, 256.0)\", \"rgb(96.37647058823529, 192.75294117647059, 96.37647058823529, 256.0)\", \"rgb(0.0, 100.3921568627451, 0.0, 256.0)\"]}}, \"x\": {\"type\": \"nominal\", \"field\": \"author\"}, \"y\": {\"type\": \"quantitative\", \"field\": \"count\"}}, \"title\": \"Top 50 commentors for binder-examples in the last 30 days\", \"width\": 1000}, {\"data\": {\"name\": \"data-0e76215a74804b7ce4bce0cbf76f1dee\"}, \"mark\": \"bar\", \"encoding\": {\"color\": {\"type\": \"nominal\", \"field\": \"authorAssociation\", \"scale\": {\"domain\": [\"MEMBER\", \"CONTRIBUTOR\", \"COLLABORATOR\", \"NONE\"], \"range\": [\"rgb(211.82745098039214, 211.82745098039214, 211.82745098039214, 256.0)\", \"rgb(166.98562091503268, 229.89803921568628, 166.98562091503268, 256.0)\", \"rgb(96.37647058823529, 192.75294117647059, 96.37647058823529, 256.0)\", \"rgb(0.0, 100.3921568627451, 0.0, 256.0)\"]}}, \"x\": {\"type\": \"nominal\", \"field\": \"author\"}, \"y\": {\"type\": \"quantitative\", \"field\": \"count\"}}, \"title\": \"Top 50 commentors for ipython in the last 30 days\", \"width\": 1000}, {\"data\": {\"name\": \"data-bcd712b5b7ed24fbacc45d2223aa5c62\"}, \"mark\": \"bar\", \"encoding\": {\"color\": {\"type\": \"nominal\", \"field\": \"authorAssociation\", \"scale\": {\"domain\": [\"MEMBER\", \"CONTRIBUTOR\", \"COLLABORATOR\", \"NONE\"], \"range\": [\"rgb(211.82745098039214, 211.82745098039214, 211.82745098039214, 256.0)\", \"rgb(166.98562091503268, 229.89803921568628, 166.98562091503268, 256.0)\", \"rgb(96.37647058823529, 192.75294117647059, 96.37647058823529, 256.0)\", \"rgb(0.0, 100.3921568627451, 0.0, 256.0)\"]}}, \"x\": {\"type\": \"nominal\", \"field\": \"author\"}, \"y\": {\"type\": \"quantitative\", \"field\": \"count\"}}, \"title\": \"Top 50 commentors for jupyter in the last 30 days\", \"width\": 1000}, {\"data\": {\"name\": \"data-b0c78019a805eefb5c54dc28468e5754\"}, \"mark\": \"bar\", \"encoding\": {\"color\": {\"type\": \"nominal\", \"field\": \"authorAssociation\", \"scale\": {\"domain\": [\"MEMBER\", \"CONTRIBUTOR\", \"COLLABORATOR\", \"NONE\"], \"range\": [\"rgb(211.82745098039214, 211.82745098039214, 211.82745098039214, 256.0)\", \"rgb(166.98562091503268, 229.89803921568628, 166.98562091503268, 256.0)\", \"rgb(96.37647058823529, 192.75294117647059, 96.37647058823529, 256.0)\", \"rgb(0.0, 100.3921568627451, 0.0, 256.0)\"]}}, \"x\": {\"type\": \"nominal\", \"field\": \"author\"}, \"y\": {\"type\": \"quantitative\", \"field\": \"count\"}}, \"title\": \"Top 50 commentors for jupyter-widgets in the last 30 days\", \"width\": 1000}, {\"data\": {\"name\": \"data-89371cb4ec00ba37453e54a775fe03d2\"}, \"mark\": \"bar\", \"encoding\": {\"color\": {\"type\": \"nominal\", \"field\": \"authorAssociation\", \"scale\": {\"domain\": [\"MEMBER\", \"CONTRIBUTOR\", \"COLLABORATOR\", \"NONE\"], \"range\": [\"rgb(211.82745098039214, 211.82745098039214, 211.82745098039214, 256.0)\", \"rgb(166.98562091503268, 229.89803921568628, 166.98562091503268, 256.0)\", \"rgb(96.37647058823529, 192.75294117647059, 96.37647058823529, 256.0)\", \"rgb(0.0, 100.3921568627451, 0.0, 256.0)\"]}}, \"x\": {\"type\": \"nominal\", \"field\": \"author\"}, \"y\": {\"type\": \"quantitative\", \"field\": \"count\"}}, \"title\": \"Top 50 commentors for jupyterhub in the last 30 days\", \"width\": 1000}, {\"data\": {\"name\": \"data-0e60a34fb2e08445dfd3a394940df3b2\"}, \"mark\": \"bar\", \"encoding\": {\"color\": {\"type\": \"nominal\", \"field\": \"authorAssociation\", \"scale\": {\"domain\": [\"MEMBER\", \"CONTRIBUTOR\", \"COLLABORATOR\", \"NONE\"], \"range\": [\"rgb(211.82745098039214, 211.82745098039214, 211.82745098039214, 256.0)\", \"rgb(166.98562091503268, 229.89803921568628, 166.98562091503268, 256.0)\", \"rgb(96.37647058823529, 192.75294117647059, 96.37647058823529, 256.0)\", \"rgb(0.0, 100.3921568627451, 0.0, 256.0)\"]}}, \"x\": {\"type\": \"nominal\", \"field\": \"author\"}, \"y\": {\"type\": \"quantitative\", \"field\": \"count\"}}, \"title\": \"Top 50 commentors for jupyterlab in the last 30 days\", \"width\": 1000}], \"$schema\": \"https://vega.github.io/schema/vega-lite/v3.4.0.json\", \"datasets\": {\"data-72a1a5230887d07e96d4f166dd02ffe1\": [{\"author\": \"choldgraf\", \"count\": 10, \"authorAssociation\": \"MEMBER\"}, {\"author\": \"NHDaly\", \"count\": 7, \"authorAssociation\": \"CONTRIBUTOR\"}, {\"author\": \"betatim\", \"count\": 4, \"authorAssociation\": \"MEMBER\"}, {\"author\": \"fm75\", \"count\": 2, \"authorAssociation\": \"CONTRIBUTOR\"}, {\"author\": \"matthewfeickert\", \"count\": 2, \"authorAssociation\": \"NONE\"}, {\"author\": \"KirstieJane\", \"count\": 1, \"authorAssociation\": \"NONE\"}, {\"author\": \"marskar\", \"count\": 1, \"authorAssociation\": \"NONE\"}, {\"author\": \"pablobernabeu\", \"count\": 1, \"authorAssociation\": \"CONTRIBUTOR\"}, {\"author\": \"sje30\", \"count\": 1, \"authorAssociation\": \"NONE\"}], \"data-0e76215a74804b7ce4bce0cbf76f1dee\": [{\"author\": \"impact27\", \"count\": 17, \"authorAssociation\": \"CONTRIBUTOR\"}, {\"author\": \"ccordoba12\", \"count\": 15, \"authorAssociation\": \"MEMBER\"}, {\"author\": \"Carreau\", \"count\": 9, \"authorAssociation\": \"MEMBER\"}, {\"author\": \"blink1073\", \"count\": 8, \"authorAssociation\": \"MEMBER\"}, {\"author\": \"minrk\", \"count\": 6, \"authorAssociation\": \"MEMBER\"}, {\"author\": \"rmorshea\", \"count\": 5, \"authorAssociation\": \"COLLABORATOR\"}, {\"author\": \"edisongustavo\", \"count\": 5, \"authorAssociation\": \"CONTRIBUTOR\"}, {\"author\": \"asmeurer\", \"count\": 4, \"authorAssociation\": \"CONTRIBUTOR\"}, {\"author\": \"SylvainCorlay\", \"count\": 4, \"authorAssociation\": \"MEMBER\"}, {\"author\": \"tacaswell\", \"count\": 3, \"authorAssociation\": \"NONE\"}, {\"author\": \"histed\", \"count\": 3, \"authorAssociation\": \"NONE\"}, {\"author\": \"GNSharmaa\", \"count\": 3, \"authorAssociation\": \"NONE\"}, {\"author\": \"ndeeds\", \"count\": 3, \"authorAssociation\": \"NONE\"}, {\"author\": \"pauldmccarthy\", \"count\": 2, \"authorAssociation\": \"NONE\"}, {\"author\": \"LucianaMarques\", \"count\": 2, \"authorAssociation\": \"CONTRIBUTOR\"}, {\"author\": \"daharn\", \"count\": 2, \"authorAssociation\": \"CONTRIBUTOR\"}, {\"author\": \"mdickinson\", \"count\": 2, \"authorAssociation\": \"CONTRIBUTOR\"}, {\"author\": \"Khushu06\", \"count\": 2, \"authorAssociation\": \"NONE\"}, {\"author\": \"kevin-bates\", \"count\": 2, \"authorAssociation\": \"CONTRIBUTOR\"}, {\"author\": \"telamonian\", \"count\": 2, \"authorAssociation\": \"NONE\"}, {\"author\": \"bernhard-42\", \"count\": 2, \"authorAssociation\": \"NONE\"}, {\"author\": \"mfh92\", \"count\": 1, \"authorAssociation\": \"CONTRIBUTOR\"}, {\"author\": \"mhsekhavat\", \"count\": 1, \"authorAssociation\": \"CONTRIBUTOR\"}, {\"author\": \"0anton\", \"count\": 1, \"authorAssociation\": \"NONE\"}, {\"author\": \"miss1997yuan\", \"count\": 1, \"authorAssociation\": \"NONE\"}, {\"author\": \"patricknraanes\", \"count\": 1, \"authorAssociation\": \"NONE\"}, {\"author\": \"jhayes-py\", \"count\": 1, \"authorAssociation\": \"NONE\"}, {\"author\": \"reesehopkins\", \"count\": 1, \"authorAssociation\": \"NONE\"}, {\"author\": \"royreznik\", \"count\": 1, \"authorAssociation\": \"NONE\"}, {\"author\": \"schneiderfelipe\", \"count\": 1, \"authorAssociation\": \"NONE\"}, {\"author\": \"shivendra90\", \"count\": 1, \"authorAssociation\": \"NONE\"}, {\"author\": \"stevenleeS0ht\", \"count\": 1, \"authorAssociation\": \"NONE\"}, {\"author\": \"sun-te\", \"count\": 1, \"authorAssociation\": \"NONE\"}, {\"author\": \"vainaijr\", \"count\": 1, \"authorAssociation\": \"NONE\"}, {\"author\": \"katsar0v\", \"count\": 1, \"authorAssociation\": \"NONE\"}, {\"author\": \"dobos\", \"count\": 1, \"authorAssociation\": \"NONE\"}, {\"author\": \"jeffheaton\", \"count\": 1, \"authorAssociation\": \"NONE\"}, {\"author\": \"isaacovercast\", \"count\": 1, \"authorAssociation\": \"NONE\"}, {\"author\": \"0xfeedbac\", \"count\": 1, \"authorAssociation\": \"NONE\"}, {\"author\": \"Aref-cs\", \"count\": 1, \"authorAssociation\": \"NONE\"}, {\"author\": \"BLaurent\", \"count\": 1, \"authorAssociation\": \"NONE\"}, {\"author\": \"BrenBarn\", \"count\": 1, \"authorAssociation\": \"NONE\"}, {\"author\": \"DrAmygdala\", \"count\": 1, \"authorAssociation\": \"NONE\"}, {\"author\": \"ItaloPerez2019\", \"count\": 1, \"authorAssociation\": \"NONE\"}, {\"author\": \"Notgnoshi\", \"count\": 1, \"authorAssociation\": \"NONE\"}, {\"author\": \"QinHuannet\", \"count\": 1, \"authorAssociation\": \"NONE\"}, {\"author\": \"Rafiqul10\", \"count\": 1, \"authorAssociation\": \"NONE\"}, {\"author\": \"Stannislav\", \"count\": 1, \"authorAssociation\": \"NONE\"}, {\"author\": \"Zsailer\", \"count\": 1, \"authorAssociation\": \"NONE\"}, {\"author\": \"alexmojaki\", \"count\": 1, \"authorAssociation\": \"NONE\"}], \"data-bcd712b5b7ed24fbacc45d2223aa5c62\": [{\"author\": \"choldgraf\", \"count\": 142, \"authorAssociation\": \"MEMBER\"}, {\"author\": \"kevin-bates\", \"count\": 89, \"authorAssociation\": \"MEMBER\"}, {\"author\": \"MSeal\", \"count\": 36, \"authorAssociation\": \"MEMBER\"}, {\"author\": \"betatim\", \"count\": 30, \"authorAssociation\": \"MEMBER\"}, {\"author\": \"Zsailer\", \"count\": 30, \"authorAssociation\": \"MEMBER\"}, {\"author\": \"nuest\", \"count\": 25, \"authorAssociation\": \"CONTRIBUTOR\"}, {\"author\": \"impact27\", \"count\": 25, \"authorAssociation\": \"CONTRIBUTOR\"}, {\"author\": \"jasongrout\", \"count\": 21, \"authorAssociation\": \"MEMBER\"}, {\"author\": \"vidartf\", \"count\": 20, \"authorAssociation\": \"COLLABORATOR\"}, {\"author\": \"emdupre\", \"count\": 20, \"authorAssociation\": \"COLLABORATOR\"}, {\"author\": \"snapo\", \"count\": 18, \"authorAssociation\": \"NONE\"}, {\"author\": \"Khushu06\", \"count\": 15, \"authorAssociation\": \"NONE\"}, {\"author\": \"SamLau95\", \"count\": 12, \"authorAssociation\": \"COLLABORATOR\"}, {\"author\": \"psychemedia\", \"count\": 11, \"authorAssociation\": \"CONTRIBUTOR\"}, {\"author\": \"akhmerov\", \"count\": 10, \"authorAssociation\": \"MEMBER\"}, {\"author\": \"sblack-usu\", \"count\": 9, \"authorAssociation\": \"NONE\"}, {\"author\": \"gureckis\", \"count\": 9, \"authorAssociation\": \"NONE\"}, {\"author\": \"krinsman\", \"count\": 9, \"authorAssociation\": \"CONTRIBUTOR\"}, {\"author\": \"perllaghu\", \"count\": 8, \"authorAssociation\": \"MEMBER\"}, {\"author\": \"kronenpj\", \"count\": 8, \"authorAssociation\": \"NONE\"}, {\"author\": \"willingc\", \"count\": 8, \"authorAssociation\": \"MEMBER\"}, {\"author\": \"mihirkapadiap\", \"count\": 8, \"authorAssociation\": \"NONE\"}, {\"author\": \"oscarys\", \"count\": 7, \"authorAssociation\": \"NONE\"}, {\"author\": \"ccordoba12\", \"count\": 7, \"authorAssociation\": \"COLLABORATOR\"}, {\"author\": \"rolweber\", \"count\": 7, \"authorAssociation\": \"MEMBER\"}, {\"author\": \"lresende\", \"count\": 6, \"authorAssociation\": \"MEMBER\"}, {\"author\": \"mwouts\", \"count\": 6, \"authorAssociation\": \"NONE\"}, {\"author\": \"LY1806620741\", \"count\": 6, \"authorAssociation\": \"NONE\"}, {\"author\": \"trallard\", \"count\": 6, \"authorAssociation\": \"CONTRIBUTOR\"}, {\"author\": \"minrk\", \"count\": 6, \"authorAssociation\": \"MEMBER\"}, {\"author\": \"parente\", \"count\": 5, \"authorAssociation\": \"MEMBER\"}, {\"author\": \"stevehaertel\", \"count\": 5, \"authorAssociation\": \"NONE\"}, {\"author\": \"t-makaro\", \"count\": 5, \"authorAssociation\": \"COLLABORATOR\"}, {\"author\": \"nthiery\", \"count\": 5, \"authorAssociation\": \"CONTRIBUTOR\"}, {\"author\": \"ivanov\", \"count\": 4, \"authorAssociation\": \"MEMBER\"}, {\"author\": \"felixnext\", \"count\": 4, \"authorAssociation\": \"NONE\"}, {\"author\": \"esevan\", \"count\": 4, \"authorAssociation\": \"COLLABORATOR\"}, {\"author\": \"lemuelaspe\", \"count\": 4, \"authorAssociation\": \"NONE\"}, {\"author\": \"markwaddle\", \"count\": 4, \"authorAssociation\": \"NONE\"}, {\"author\": \"echarles\", \"count\": 4, \"authorAssociation\": \"NONE\"}, {\"author\": \"chrispyles\", \"count\": 4, \"authorAssociation\": \"NONE\"}, {\"author\": \"zoebraiyan\", \"count\": 4, \"authorAssociation\": \"NONE\"}, {\"author\": \"sodre\", \"count\": 4, \"authorAssociation\": \"NONE\"}, {\"author\": \"KikeM\", \"count\": 3, \"authorAssociation\": \"NONE\"}, {\"author\": \"ttimbers\", \"count\": 3, \"authorAssociation\": \"NONE\"}, {\"author\": \"Zanadar\", \"count\": 3, \"authorAssociation\": \"NONE\"}, {\"author\": \"sidneymbell\", \"count\": 3, \"authorAssociation\": \"NONE\"}, {\"author\": \"bollwyvl\", \"count\": 3, \"authorAssociation\": \"MEMBER\"}, {\"author\": \"pohlt\", \"count\": 3, \"authorAssociation\": \"NONE\"}, {\"author\": \"ryanlovett\", \"count\": 3, \"authorAssociation\": \"NONE\"}], \"data-b0c78019a805eefb5c54dc28468e5754\": [{\"author\": \"jasongrout\", \"count\": 43, \"authorAssociation\": \"MEMBER\"}, {\"author\": \"vidartf\", \"count\": 18, \"authorAssociation\": \"MEMBER\"}, {\"author\": \"martinRenou\", \"count\": 14, \"authorAssociation\": \"MEMBER\"}, {\"author\": \"dazzag24\", \"count\": 8, \"authorAssociation\": \"NONE\"}, {\"author\": \"LukaPitamic\", \"count\": 5, \"authorAssociation\": \"NONE\"}, {\"author\": \"cornhundred\", \"count\": 5, \"authorAssociation\": \"CONTRIBUTOR\"}, {\"author\": \"scottwsides\", \"count\": 5, \"authorAssociation\": \"NONE\"}, {\"author\": \"kebwi\", \"count\": 5, \"authorAssociation\": \"NONE\"}, {\"author\": \"joshwarren\", \"count\": 4, \"authorAssociation\": \"NONE\"}, {\"author\": \"hainm\", \"count\": 4, \"authorAssociation\": \"NONE\"}, {\"author\": \"jetheurer\", \"count\": 3, \"authorAssociation\": \"NONE\"}, {\"author\": \"alex4200\", \"count\": 3, \"authorAssociation\": \"NONE\"}, {\"author\": \"SylvainCorlay\", \"count\": 3, \"authorAssociation\": \"MEMBER\"}, {\"author\": \"flekschas\", \"count\": 2, \"authorAssociation\": \"NONE\"}, {\"author\": \"davidbrochart\", \"count\": 2, \"authorAssociation\": \"NONE\"}, {\"author\": \"ivan-monge1989\", \"count\": 2, \"authorAssociation\": \"NONE\"}, {\"author\": \"renefritze\", \"count\": 2, \"authorAssociation\": \"NONE\"}, {\"author\": \"rskabelund\", \"count\": 2, \"authorAssociation\": \"NONE\"}, {\"author\": \"ebebpl\", \"count\": 2, \"authorAssociation\": \"NONE\"}, {\"author\": \"ankostis\", \"count\": 2, \"authorAssociation\": \"NONE\"}, {\"author\": \"TheCedarPrince\", \"count\": 1, \"authorAssociation\": \"NONE\"}, {\"author\": \"ahicks88\", \"count\": 1, \"authorAssociation\": \"NONE\"}, {\"author\": \"moradza\", \"count\": 1, \"authorAssociation\": \"NONE\"}, {\"author\": \"mgeier\", \"count\": 1, \"authorAssociation\": \"CONTRIBUTOR\"}, {\"author\": \"sdll\", \"count\": 1, \"authorAssociation\": \"NONE\"}, {\"author\": \"acelere\", \"count\": 1, \"authorAssociation\": \"NONE\"}, {\"author\": \"timkpaine\", \"count\": 1, \"authorAssociation\": \"CONTRIBUTOR\"}, {\"author\": \"ldnelso2\", \"count\": 1, \"authorAssociation\": \"NONE\"}, {\"author\": \"captainsafia\", \"count\": 1, \"authorAssociation\": \"CONTRIBUTOR\"}, {\"author\": \"kartoshhka\", \"count\": 1, \"authorAssociation\": \"NONE\"}, {\"author\": \"js3711\", \"count\": 1, \"authorAssociation\": \"NONE\"}, {\"author\": \"andrei91ro\", \"count\": 1, \"authorAssociation\": \"NONE\"}, {\"author\": \"hugovk\", \"count\": 1, \"authorAssociation\": \"NONE\"}, {\"author\": \"heavyrick\", \"count\": 1, \"authorAssociation\": \"NONE\"}, {\"author\": \"RDeRenzi\", \"count\": 1, \"authorAssociation\": \"NONE\"}, {\"author\": \"grzegorz700\", \"count\": 1, \"authorAssociation\": \"NONE\"}, {\"author\": \"goatchurchprime\", \"count\": 1, \"authorAssociation\": \"NONE\"}, {\"author\": \"dstran\", \"count\": 1, \"authorAssociation\": \"NONE\"}, {\"author\": \"dieterwang\", \"count\": 1, \"authorAssociation\": \"NONE\"}, {\"author\": \"diallobakary4\", \"count\": 1, \"authorAssociation\": \"NONE\"}, {\"author\": \"wookayin\", \"count\": 1, \"authorAssociation\": \"NONE\"}], \"data-89371cb4ec00ba37453e54a775fe03d2\": [{\"author\": \"betatim\", \"count\": 70, \"authorAssociation\": \"MEMBER\"}, {\"author\": \"consideRatio\", \"count\": 61, \"authorAssociation\": \"MEMBER\"}, {\"author\": \"minrk\", \"count\": 30, \"authorAssociation\": \"MEMBER\"}, {\"author\": \"rkdarst\", \"count\": 27, \"authorAssociation\": \"COLLABORATOR\"}, {\"author\": \"choldgraf\", \"count\": 27, \"authorAssociation\": \"MEMBER\"}, {\"author\": \"manics\", \"count\": 26, \"authorAssociation\": \"MEMBER\"}, {\"author\": \"willingc\", \"count\": 21, \"authorAssociation\": \"MEMBER\"}, {\"author\": \"yuvipanda\", \"count\": 20, \"authorAssociation\": \"MEMBER\"}, {\"author\": \"sgibson91\", \"count\": 13, \"authorAssociation\": \"MEMBER\"}, {\"author\": \"nuest\", \"count\": 12, \"authorAssociation\": \"CONTRIBUTOR\"}, {\"author\": \"bitnik\", \"count\": 10, \"authorAssociation\": \"CONTRIBUTOR\"}, {\"author\": \"jakepaw\", \"count\": 9, \"authorAssociation\": \"NONE\"}, {\"author\": \"ryogesh\", \"count\": 9, \"authorAssociation\": \"CONTRIBUTOR\"}, {\"author\": \"rcthomas\", \"count\": 8, \"authorAssociation\": \"CONTRIBUTOR\"}, {\"author\": \"kaseyhackspace\", \"count\": 7, \"authorAssociation\": \"CONTRIBUTOR\"}, {\"author\": \"vindvaki\", \"count\": 7, \"authorAssociation\": \"NONE\"}, {\"author\": \"GergelyKalmar\", \"count\": 6, \"authorAssociation\": \"NONE\"}, {\"author\": \"ablekh\", \"count\": 6, \"authorAssociation\": \"NONE\"}, {\"author\": \"benbovy\", \"count\": 5, \"authorAssociation\": \"NONE\"}, {\"author\": \"mrocklin\", \"count\": 5, \"authorAssociation\": \"NONE\"}, {\"author\": \"mbmilligan\", \"count\": 5, \"authorAssociation\": \"MEMBER\"}, {\"author\": \"sntgluca\", \"count\": 4, \"authorAssociation\": \"NONE\"}, {\"author\": \"henchc\", \"count\": 4, \"authorAssociation\": \"MEMBER\"}, {\"author\": \"chicocvenancio\", \"count\": 4, \"authorAssociation\": \"CONTRIBUTOR\"}, {\"author\": \"jakirkham\", \"count\": 4, \"authorAssociation\": \"NONE\"}, {\"author\": \"pdurbin\", \"count\": 4, \"authorAssociation\": \"NONE\"}, {\"author\": \"pablobernabeu\", \"count\": 4, \"authorAssociation\": \"NONE\"}, {\"author\": \"ian-r-rose\", \"count\": 4, \"authorAssociation\": \"COLLABORATOR\"}, {\"author\": \"spalkovits\", \"count\": 4, \"authorAssociation\": \"NONE\"}, {\"author\": \"GeorgianaElena\", \"count\": 4, \"authorAssociation\": \"MEMBER\"}, {\"author\": \"Zsailer\", \"count\": 4, \"authorAssociation\": \"MEMBER\"}, {\"author\": \"ramkrishnan8994\", \"count\": 3, \"authorAssociation\": \"NONE\"}, {\"author\": \"Wildcarde\", \"count\": 3, \"authorAssociation\": \"NONE\"}, {\"author\": \"ryanlovett\", \"count\": 3, \"authorAssociation\": \"MEMBER\"}, {\"author\": \"shyam334\", \"count\": 3, \"authorAssociation\": \"NONE\"}, {\"author\": \"Ling19871017\", \"count\": 3, \"authorAssociation\": \"NONE\"}, {\"author\": \"suryag10\", \"count\": 3, \"authorAssociation\": \"NONE\"}, {\"author\": \"GrahamDumpleton\", \"count\": 3, \"authorAssociation\": \"CONTRIBUTOR\"}, {\"author\": \"vilhelmen\", \"count\": 3, \"authorAssociation\": \"CONTRIBUTOR\"}, {\"author\": \"albertmichaelj\", \"count\": 3, \"authorAssociation\": \"NONE\"}, {\"author\": \"jacobtomlinson\", \"count\": 2, \"authorAssociation\": \"NONE\"}, {\"author\": \"ToniChaz\", \"count\": 2, \"authorAssociation\": \"NONE\"}, {\"author\": \"psychemedia\", \"count\": 2, \"authorAssociation\": \"NONE\"}, {\"author\": \"itssimon\", \"count\": 2, \"authorAssociation\": \"NONE\"}, {\"author\": \"ingodahn\", \"count\": 2, \"authorAssociation\": \"NONE\"}, {\"author\": \"Xarthisius\", \"count\": 2, \"authorAssociation\": \"NONE\"}, {\"author\": \"clkao\", \"count\": 2, \"authorAssociation\": \"CONTRIBUTOR\"}, {\"author\": \"retypuj\", \"count\": 2, \"authorAssociation\": \"NONE\"}, {\"author\": \"zhiyuli\", \"count\": 2, \"authorAssociation\": \"NONE\"}, {\"author\": \"rodriguez-facundo\", \"count\": 2, \"authorAssociation\": \"NONE\"}], \"data-0e60a34fb2e08445dfd3a394940df3b2\": [{\"author\": \"jasongrout\", \"count\": 276, \"authorAssociation\": \"MEMBER\"}, {\"author\": \"blink1073\", \"count\": 62, \"authorAssociation\": \"MEMBER\"}, {\"author\": \"telamonian\", \"count\": 58, \"authorAssociation\": \"MEMBER\"}, {\"author\": \"vidartf\", \"count\": 58, \"authorAssociation\": \"MEMBER\"}, {\"author\": \"mlucool\", \"count\": 18, \"authorAssociation\": \"CONTRIBUTOR\"}, {\"author\": \"Madhu94\", \"count\": 15, \"authorAssociation\": \"MEMBER\"}, {\"author\": \"fcollonval\", \"count\": 15, \"authorAssociation\": \"MEMBER\"}, {\"author\": \"ian-r-rose\", \"count\": 14, \"authorAssociation\": \"MEMBER\"}, {\"author\": \"saulshanabrook\", \"count\": 14, \"authorAssociation\": \"MEMBER\"}, {\"author\": \"nickeubank\", \"count\": 13, \"authorAssociation\": \"NONE\"}, {\"author\": \"bw-space\", \"count\": 11, \"authorAssociation\": \"MEMBER\"}, {\"author\": \"afshin\", \"count\": 11, \"authorAssociation\": \"MEMBER\"}, {\"author\": \"tgeorgeux\", \"count\": 9, \"authorAssociation\": \"MEMBER\"}, {\"author\": \"bmshouse\", \"count\": 9, \"authorAssociation\": \"NONE\"}, {\"author\": \"jaipreet-s\", \"count\": 9, \"authorAssociation\": \"MEMBER\"}, {\"author\": \"timkpaine\", \"count\": 8, \"authorAssociation\": \"MEMBER\"}, {\"author\": \"kavishdahekar\", \"count\": 7, \"authorAssociation\": \"MEMBER\"}, {\"author\": \"Zsailer\", \"count\": 6, \"authorAssociation\": \"MEMBER\"}, {\"author\": \"kfeinauer\", \"count\": 6, \"authorAssociation\": \"NONE\"}, {\"author\": \"albertmichaelj\", \"count\": 5, \"authorAssociation\": \"NONE\"}, {\"author\": \"dhirschfeld\", \"count\": 5, \"authorAssociation\": \"MEMBER\"}, {\"author\": \"bollwyvl\", \"count\": 5, \"authorAssociation\": \"MEMBER\"}, {\"author\": \"van-8\", \"count\": 5, \"authorAssociation\": \"MEMBER\"}, {\"author\": \"nathancarter\", \"count\": 4, \"authorAssociation\": \"NONE\"}, {\"author\": \"BrenBarn\", \"count\": 4, \"authorAssociation\": \"NONE\"}, {\"author\": \"ba4ekiko1\", \"count\": 4, \"authorAssociation\": \"NONE\"}, {\"author\": \"bshouse\", \"count\": 4, \"authorAssociation\": \"NONE\"}, {\"author\": \"choldgraf\", \"count\": 4, \"authorAssociation\": \"MEMBER\"}, {\"author\": \"memeplex\", \"count\": 4, \"authorAssociation\": \"NONE\"}, {\"author\": \"SgtPooki\", \"count\": 4, \"authorAssociation\": \"NONE\"}, {\"author\": \"duarteocarmo\", \"count\": 4, \"authorAssociation\": \"MEMBER\"}, {\"author\": \"echyam\", \"count\": 4, \"authorAssociation\": \"NONE\"}, {\"author\": \"krassowski\", \"count\": 4, \"authorAssociation\": \"MEMBER\"}, {\"author\": \"jtpio\", \"count\": 4, \"authorAssociation\": \"MEMBER\"}, {\"author\": \"dependabot\", \"count\": 3, \"authorAssociation\": \"CONTRIBUTOR\"}, {\"author\": \"sccolbert\", \"count\": 3, \"authorAssociation\": \"MEMBER\"}, {\"author\": \"metya\", \"count\": 3, \"authorAssociation\": \"NONE\"}, {\"author\": \"owen-synergy\", \"count\": 3, \"authorAssociation\": \"NONE\"}, {\"author\": \"meeseeksdev\", \"count\": 3, \"authorAssociation\": \"NONE\"}, {\"author\": \"arogozhnikov\", \"count\": 3, \"authorAssociation\": \"NONE\"}, {\"author\": \"tibdex\", \"count\": 3, \"authorAssociation\": \"MEMBER\"}, {\"author\": \"super-sebajin\", \"count\": 3, \"authorAssociation\": \"NONE\"}, {\"author\": \"Queuecumber\", \"count\": 3, \"authorAssociation\": \"CONTRIBUTOR\"}, {\"author\": \"akchinSTC\", \"count\": 3, \"authorAssociation\": \"CONTRIBUTOR\"}, {\"author\": \"alienczf\", \"count\": 2, \"authorAssociation\": \"CONTRIBUTOR\"}, {\"author\": \"hiramf\", \"count\": 2, \"authorAssociation\": \"NONE\"}, {\"author\": \"dkuegler\", \"count\": 2, \"authorAssociation\": \"NONE\"}, {\"author\": \"dmarth\", \"count\": 2, \"authorAssociation\": \"MEMBER\"}, {\"author\": \"Rabeez\", \"count\": 2, \"authorAssociation\": \"NONE\"}, {\"author\": \"mbektasbbg\", \"count\": 2, \"authorAssociation\": \"MEMBER\"}]}};\n",
       "      var embedOpt = {\"mode\": \"vega-lite\"};\n",
       "\n",
       "      function showError(el, error){\n",
       "          el.innerHTML = ('<div class=\"error\" style=\"color:red;\">'\n",
       "                          + '<p>JavaScript Error: ' + error.message + '</p>'\n",
       "                          + \"<p>This usually means there's a typo in your chart specification. \"\n",
       "                          + \"See the javascript console for the full traceback.</p>\"\n",
       "                          + '</div>');\n",
       "          throw error;\n",
       "      }\n",
       "      const el = document.getElementById('altair-viz-8');\n",
       "      vegaEmbed(\"#altair-viz-8\", spec, embedOpt)\n",
       "        .catch(error => showError(el, error));\n",
       "    });\n",
       "\n",
       "  </script>"
      ],
      "text/plain": [
       "alt.HConcatChart(...)"
      ]
     },
     "execution_count": 29,
     "metadata": {},
     "output_type": "execute_result"
    }
   ],
   "source": [
    "n_plot = 50\n",
    "charts = []\n",
    "for ii, (iorg, idata) in enumerate(commentors.groupby(['org'])):\n",
    "    title = f\"Top {n_plot} commentors for {iorg} in the last {n_days} days\"\n",
    "    idata = idata.groupby('author', as_index=False).agg({'count': 'sum', 'authorAssociation': 'first'})\n",
    "    idata = idata.sort_values('count', ascending=False).head(n_plot)\n",
    "    ch = alt.Chart(data=idata.head(n_plot), width=1000, title=title).mark_bar().encode(\n",
    "        x='author',\n",
    "        y='count',\n",
    "        color=alt.Color('authorAssociation', scale=alt.Scale(domain=author_types, range=author_colors))\n",
    "    )\n",
    "    charts.append(ch)\n",
    "alt.hconcat(*charts)"
   ]
  },
  {
   "cell_type": "markdown",
   "metadata": {
    "papermill": {
     "duration": 0.028069,
     "end_time": "2019-12-01T17:52:05.141848",
     "exception": false,
     "start_time": "2019-12-01T17:52:05.113779",
     "status": "completed"
    },
    "tags": []
   },
   "source": [
    "## First responders\n",
    "\n",
    "First responders are the first people to respond to a new issue in one of the repositories.\n",
    "The following plots show first responders for recently-created issues."
   ]
  },
  {
   "cell_type": "code",
   "execution_count": 30,
   "metadata": {
    "papermill": {
     "duration": 1.064857,
     "end_time": "2019-12-01T17:52:06.240468",
     "exception": false,
     "start_time": "2019-12-01T17:52:05.175611",
     "status": "completed"
    },
    "tags": []
   },
   "outputs": [],
   "source": [
    "first_comments = []\n",
    "for (org, repo, issue_id), i_comments in comments.groupby(['org', 'repo', 'issue_id']):\n",
    "    ix_min = pd.to_datetime(i_comments['createdAt']).idxmin()\n",
    "    first_comment = i_comments.loc[ix_min]\n",
    "    if isinstance(first_comment, pd.DataFrame):\n",
    "        first_comment = first_comment.iloc[0]\n",
    "    first_comments.append(first_comment)\n",
    "first_comments = pd.concat(first_comments, axis=1).T"
   ]
  },
  {
   "cell_type": "code",
   "execution_count": 31,
   "metadata": {
    "papermill": {
     "duration": 0.049003,
     "end_time": "2019-12-01T17:52:06.313632",
     "exception": false,
     "start_time": "2019-12-01T17:52:06.264629",
     "status": "completed"
    },
    "tags": []
   },
   "outputs": [],
   "source": [
    "first_responder_counts = first_comments.groupby(['org', 'author', 'authorAssociation'], as_index=False).\\\n",
    "    count().rename(columns={'id': 'n_first_responses'}).sort_values(['org', 'n_first_responses'], ascending=False)\n"
   ]
  },
  {
   "cell_type": "code",
   "execution_count": 32,
   "metadata": {
    "papermill": {
     "duration": 0.2782,
     "end_time": "2019-12-01T17:52:06.628260",
     "exception": false,
     "start_time": "2019-12-01T17:52:06.350060",
     "status": "completed"
    },
    "tags": []
   },
   "outputs": [
    {
     "data": {
      "text/html": [
       "\n",
       "  <style>\n",
       "    .error {\n",
       "        color: red;\n",
       "    }\n",
       "  </style>\n",
       "  <div id=\"altair-viz-9\"></div>\n",
       "  <script>\n",
       "    requirejs.config({\n",
       "        \"paths\": {\n",
       "            \"vega\": \"https://cdn.jsdelivr.net/npm//vega@5?noext\",\n",
       "            \"vega-lib\": \"https://cdn.jsdelivr.net/npm//vega-lib?noext\",\n",
       "            \"vega-lite\": \"https://cdn.jsdelivr.net/npm//vega-lite@3.4.0?noext\",\n",
       "            \"vega-embed\": \"https://cdn.jsdelivr.net/npm//vega-embed@5?noext\",\n",
       "        }\n",
       "    });\n",
       "    \n",
       "    require(['vega-embed'],function(vegaEmbed) {\n",
       "      var spec = {\"config\": {\"axisLeft\": {\"labelFontSize\": 15}, \"axisBottom\": {\"labelFontSize\": 15}}, \"hconcat\": [{\"data\": {\"name\": \"data-8fe5cc0fdcd8abf93ec9547808e305d8\"}, \"mark\": \"bar\", \"encoding\": {\"color\": {\"type\": \"nominal\", \"field\": \"authorAssociation\", \"scale\": {\"domain\": [\"MEMBER\", \"CONTRIBUTOR\", \"COLLABORATOR\", \"NONE\"], \"range\": [\"rgb(211.82745098039214, 211.82745098039214, 211.82745098039214, 256.0)\", \"rgb(166.98562091503268, 229.89803921568628, 166.98562091503268, 256.0)\", \"rgb(96.37647058823529, 192.75294117647059, 96.37647058823529, 256.0)\", \"rgb(0.0, 100.3921568627451, 0.0, 256.0)\"]}}, \"x\": {\"type\": \"nominal\", \"field\": \"author\"}, \"y\": {\"type\": \"quantitative\", \"field\": \"n_first_responses\"}}, \"title\": \"Top 50 first responders for binder-examples in the last 30 days\", \"width\": 1000}, {\"data\": {\"name\": \"data-3da4b690b3e2ff2fbb2294ba471affc1\"}, \"mark\": \"bar\", \"encoding\": {\"color\": {\"type\": \"nominal\", \"field\": \"authorAssociation\", \"scale\": {\"domain\": [\"MEMBER\", \"CONTRIBUTOR\", \"COLLABORATOR\", \"NONE\"], \"range\": [\"rgb(211.82745098039214, 211.82745098039214, 211.82745098039214, 256.0)\", \"rgb(166.98562091503268, 229.89803921568628, 166.98562091503268, 256.0)\", \"rgb(96.37647058823529, 192.75294117647059, 96.37647058823529, 256.0)\", \"rgb(0.0, 100.3921568627451, 0.0, 256.0)\"]}}, \"x\": {\"type\": \"nominal\", \"field\": \"author\"}, \"y\": {\"type\": \"quantitative\", \"field\": \"n_first_responses\"}}, \"title\": \"Top 50 first responders for ipython in the last 30 days\", \"width\": 1000}, {\"data\": {\"name\": \"data-87d415b05493d29b6f55105e4d294396\"}, \"mark\": \"bar\", \"encoding\": {\"color\": {\"type\": \"nominal\", \"field\": \"authorAssociation\", \"scale\": {\"domain\": [\"MEMBER\", \"CONTRIBUTOR\", \"COLLABORATOR\", \"NONE\"], \"range\": [\"rgb(211.82745098039214, 211.82745098039214, 211.82745098039214, 256.0)\", \"rgb(166.98562091503268, 229.89803921568628, 166.98562091503268, 256.0)\", \"rgb(96.37647058823529, 192.75294117647059, 96.37647058823529, 256.0)\", \"rgb(0.0, 100.3921568627451, 0.0, 256.0)\"]}}, \"x\": {\"type\": \"nominal\", \"field\": \"author\"}, \"y\": {\"type\": \"quantitative\", \"field\": \"n_first_responses\"}}, \"title\": \"Top 50 first responders for jupyter in the last 30 days\", \"width\": 1000}, {\"data\": {\"name\": \"data-a302f713d302a33fdec48db5fff04848\"}, \"mark\": \"bar\", \"encoding\": {\"color\": {\"type\": \"nominal\", \"field\": \"authorAssociation\", \"scale\": {\"domain\": [\"MEMBER\", \"CONTRIBUTOR\", \"COLLABORATOR\", \"NONE\"], \"range\": [\"rgb(211.82745098039214, 211.82745098039214, 211.82745098039214, 256.0)\", \"rgb(166.98562091503268, 229.89803921568628, 166.98562091503268, 256.0)\", \"rgb(96.37647058823529, 192.75294117647059, 96.37647058823529, 256.0)\", \"rgb(0.0, 100.3921568627451, 0.0, 256.0)\"]}}, \"x\": {\"type\": \"nominal\", \"field\": \"author\"}, \"y\": {\"type\": \"quantitative\", \"field\": \"n_first_responses\"}}, \"title\": \"Top 50 first responders for jupyter-widgets in the last 30 days\", \"width\": 1000}, {\"data\": {\"name\": \"data-0eeafd45f626b2e2251fb08901e3dae6\"}, \"mark\": \"bar\", \"encoding\": {\"color\": {\"type\": \"nominal\", \"field\": \"authorAssociation\", \"scale\": {\"domain\": [\"MEMBER\", \"CONTRIBUTOR\", \"COLLABORATOR\", \"NONE\"], \"range\": [\"rgb(211.82745098039214, 211.82745098039214, 211.82745098039214, 256.0)\", \"rgb(166.98562091503268, 229.89803921568628, 166.98562091503268, 256.0)\", \"rgb(96.37647058823529, 192.75294117647059, 96.37647058823529, 256.0)\", \"rgb(0.0, 100.3921568627451, 0.0, 256.0)\"]}}, \"x\": {\"type\": \"nominal\", \"field\": \"author\"}, \"y\": {\"type\": \"quantitative\", \"field\": \"n_first_responses\"}}, \"title\": \"Top 50 first responders for jupyterhub in the last 30 days\", \"width\": 1000}, {\"data\": {\"name\": \"data-1a61ae64039200c4d534bd55de92de9c\"}, \"mark\": \"bar\", \"encoding\": {\"color\": {\"type\": \"nominal\", \"field\": \"authorAssociation\", \"scale\": {\"domain\": [\"MEMBER\", \"CONTRIBUTOR\", \"COLLABORATOR\", \"NONE\"], \"range\": [\"rgb(211.82745098039214, 211.82745098039214, 211.82745098039214, 256.0)\", \"rgb(166.98562091503268, 229.89803921568628, 166.98562091503268, 256.0)\", \"rgb(96.37647058823529, 192.75294117647059, 96.37647058823529, 256.0)\", \"rgb(0.0, 100.3921568627451, 0.0, 256.0)\"]}}, \"x\": {\"type\": \"nominal\", \"field\": \"author\"}, \"y\": {\"type\": \"quantitative\", \"field\": \"n_first_responses\"}}, \"title\": \"Top 50 first responders for jupyterlab in the last 30 days\", \"width\": 1000}], \"$schema\": \"https://vega.github.io/schema/vega-lite/v3.4.0.json\", \"datasets\": {\"data-8fe5cc0fdcd8abf93ec9547808e305d8\": [{\"author\": \"choldgraf\", \"n_first_responses\": 3, \"authorAssociation\": \"MEMBER\"}, {\"author\": \"NHDaly\", \"n_first_responses\": 2, \"authorAssociation\": \"CONTRIBUTOR\"}, {\"author\": \"KirstieJane\", \"n_first_responses\": 1, \"authorAssociation\": \"NONE\"}, {\"author\": \"betatim\", \"n_first_responses\": 1, \"authorAssociation\": \"MEMBER\"}, {\"author\": \"marskar\", \"n_first_responses\": 1, \"authorAssociation\": \"NONE\"}, {\"author\": \"sje30\", \"n_first_responses\": 1, \"authorAssociation\": \"NONE\"}], \"data-3da4b690b3e2ff2fbb2294ba471affc1\": [{\"author\": \"Carreau\", \"n_first_responses\": 6, \"authorAssociation\": \"MEMBER\"}, {\"author\": \"minrk\", \"n_first_responses\": 5, \"authorAssociation\": \"MEMBER\"}, {\"author\": \"ccordoba12\", \"n_first_responses\": 4, \"authorAssociation\": \"MEMBER\"}, {\"author\": \"blink1073\", \"n_first_responses\": 4, \"authorAssociation\": \"MEMBER\"}, {\"author\": \"histed\", \"n_first_responses\": 2, \"authorAssociation\": \"NONE\"}, {\"author\": \"tacaswell\", \"n_first_responses\": 2, \"authorAssociation\": \"CONTRIBUTOR\"}, {\"author\": \"impact27\", \"n_first_responses\": 2, \"authorAssociation\": \"NONE\"}, {\"author\": \"mdickinson\", \"n_first_responses\": 2, \"authorAssociation\": \"CONTRIBUTOR\"}, {\"author\": \"0anton\", \"n_first_responses\": 1, \"authorAssociation\": \"NONE\"}, {\"author\": \"mhsekhavat\", \"n_first_responses\": 1, \"authorAssociation\": \"CONTRIBUTOR\"}, {\"author\": \"jeffheaton\", \"n_first_responses\": 1, \"authorAssociation\": \"NONE\"}, {\"author\": \"jhayes-py\", \"n_first_responses\": 1, \"authorAssociation\": \"NONE\"}, {\"author\": \"kevin-bates\", \"n_first_responses\": 1, \"authorAssociation\": \"CONTRIBUTOR\"}, {\"author\": \"patricknraanes\", \"n_first_responses\": 1, \"authorAssociation\": \"NONE\"}, {\"author\": \"edisongustavo\", \"n_first_responses\": 1, \"authorAssociation\": \"CONTRIBUTOR\"}, {\"author\": \"reesehopkins\", \"n_first_responses\": 1, \"authorAssociation\": \"NONE\"}, {\"author\": \"rmorshea\", \"n_first_responses\": 1, \"authorAssociation\": \"COLLABORATOR\"}, {\"author\": \"schneiderfelipe\", \"n_first_responses\": 1, \"authorAssociation\": \"NONE\"}, {\"author\": \"shivendra90\", \"n_first_responses\": 1, \"authorAssociation\": \"NONE\"}, {\"author\": \"stevenleeS0ht\", \"n_first_responses\": 1, \"authorAssociation\": \"NONE\"}, {\"author\": \"sun-te\", \"n_first_responses\": 1, \"authorAssociation\": \"NONE\"}, {\"author\": \"telamonian\", \"n_first_responses\": 1, \"authorAssociation\": \"NONE\"}, {\"author\": \"eranhirs\", \"n_first_responses\": 1, \"authorAssociation\": \"NONE\"}, {\"author\": \"cerodell\", \"n_first_responses\": 1, \"authorAssociation\": \"NONE\"}, {\"author\": \"daharn\", \"n_first_responses\": 1, \"authorAssociation\": \"CONTRIBUTOR\"}, {\"author\": \"Notgnoshi\", \"n_first_responses\": 1, \"authorAssociation\": \"NONE\"}, {\"author\": \"0xfeedbac\", \"n_first_responses\": 1, \"authorAssociation\": \"NONE\"}, {\"author\": \"BLaurent\", \"n_first_responses\": 1, \"authorAssociation\": \"NONE\"}, {\"author\": \"BrenBarn\", \"n_first_responses\": 1, \"authorAssociation\": \"NONE\"}, {\"author\": \"DrAmygdala\", \"n_first_responses\": 1, \"authorAssociation\": \"NONE\"}, {\"author\": \"ItaloPerez2019\", \"n_first_responses\": 1, \"authorAssociation\": \"NONE\"}, {\"author\": \"Khushu06\", \"n_first_responses\": 1, \"authorAssociation\": \"NONE\"}, {\"author\": \"LucianaMarques\", \"n_first_responses\": 1, \"authorAssociation\": \"CONTRIBUTOR\"}, {\"author\": \"QinHuannet\", \"n_first_responses\": 1, \"authorAssociation\": \"NONE\"}, {\"author\": \"0x0L\", \"n_first_responses\": 1, \"authorAssociation\": \"NONE\"}, {\"author\": \"Rafiqul10\", \"n_first_responses\": 1, \"authorAssociation\": \"NONE\"}, {\"author\": \"Stannislav\", \"n_first_responses\": 1, \"authorAssociation\": \"NONE\"}, {\"author\": \"alexmojaki\", \"n_first_responses\": 1, \"authorAssociation\": \"NONE\"}, {\"author\": \"archenroot\", \"n_first_responses\": 1, \"authorAssociation\": \"NONE\"}, {\"author\": \"bergtholdt\", \"n_first_responses\": 1, \"authorAssociation\": \"CONTRIBUTOR\"}, {\"author\": \"bernhard-42\", \"n_first_responses\": 1, \"authorAssociation\": \"NONE\"}, {\"author\": \"cc-a\", \"n_first_responses\": 1, \"authorAssociation\": \"NONE\"}, {\"author\": \"xenohunter\", \"n_first_responses\": 1, \"authorAssociation\": \"NONE\"}], \"data-87d415b05493d29b6f55105e4d294396\": [{\"author\": \"choldgraf\", \"n_first_responses\": 48, \"authorAssociation\": \"MEMBER\"}, {\"author\": \"kevin-bates\", \"n_first_responses\": 25, \"authorAssociation\": \"MEMBER\"}, {\"author\": \"MSeal\", \"n_first_responses\": 15, \"authorAssociation\": \"MEMBER\"}, {\"author\": \"Zsailer\", \"n_first_responses\": 12, \"authorAssociation\": \"MEMBER\"}, {\"author\": \"betatim\", \"n_first_responses\": 10, \"authorAssociation\": \"MEMBER\"}, {\"author\": \"nuest\", \"n_first_responses\": 8, \"authorAssociation\": \"CONTRIBUTOR\"}, {\"author\": \"jasongrout\", \"n_first_responses\": 7, \"authorAssociation\": \"MEMBER\"}, {\"author\": \"emdupre\", \"n_first_responses\": 7, \"authorAssociation\": \"COLLABORATOR\"}, {\"author\": \"vidartf\", \"n_first_responses\": 7, \"authorAssociation\": \"COLLABORATOR\"}, {\"author\": \"akhmerov\", \"n_first_responses\": 6, \"authorAssociation\": \"MEMBER\"}, {\"author\": \"impact27\", \"n_first_responses\": 5, \"authorAssociation\": \"CONTRIBUTOR\"}, {\"author\": \"psychemedia\", \"n_first_responses\": 5, \"authorAssociation\": \"CONTRIBUTOR\"}, {\"author\": \"t-makaro\", \"n_first_responses\": 5, \"authorAssociation\": \"COLLABORATOR\"}, {\"author\": \"rolweber\", \"n_first_responses\": 5, \"authorAssociation\": \"MEMBER\"}, {\"author\": \"krinsman\", \"n_first_responses\": 4, \"authorAssociation\": \"CONTRIBUTOR\"}, {\"author\": \"minrk\", \"n_first_responses\": 3, \"authorAssociation\": \"MEMBER\"}, {\"author\": \"nthiery\", \"n_first_responses\": 3, \"authorAssociation\": \"CONTRIBUTOR\"}, {\"author\": \"kronenpj\", \"n_first_responses\": 3, \"authorAssociation\": \"NONE\"}, {\"author\": \"willingc\", \"n_first_responses\": 3, \"authorAssociation\": \"MEMBER\"}, {\"author\": \"ccordoba12\", \"n_first_responses\": 3, \"authorAssociation\": \"COLLABORATOR\"}, {\"author\": \"perllaghu\", \"n_first_responses\": 3, \"authorAssociation\": \"MEMBER\"}, {\"author\": \"astromancer\", \"n_first_responses\": 2, \"authorAssociation\": \"NONE\"}, {\"author\": \"trallard\", \"n_first_responses\": 2, \"authorAssociation\": \"CONTRIBUTOR\"}, {\"author\": \"ttimbers\", \"n_first_responses\": 2, \"authorAssociation\": \"NONE\"}, {\"author\": \"hunkim\", \"n_first_responses\": 2, \"authorAssociation\": \"NONE\"}, {\"author\": \"parente\", \"n_first_responses\": 2, \"authorAssociation\": \"MEMBER\"}, {\"author\": \"djgray101\", \"n_first_responses\": 2, \"authorAssociation\": \"NONE\"}, {\"author\": \"lresende\", \"n_first_responses\": 2, \"authorAssociation\": \"MEMBER\"}, {\"author\": \"TomTJarosz\", \"n_first_responses\": 2, \"authorAssociation\": \"CONTRIBUTOR\"}, {\"author\": \"mneira10\", \"n_first_responses\": 1, \"authorAssociation\": \"NONE\"}, {\"author\": \"nokome\", \"n_first_responses\": 1, \"authorAssociation\": \"NONE\"}, {\"author\": \"newbie19-stack\", \"n_first_responses\": 1, \"authorAssociation\": \"NONE\"}, {\"author\": \"wenmin-wu\", \"n_first_responses\": 1, \"authorAssociation\": \"NONE\"}, {\"author\": \"nealmcb\", \"n_first_responses\": 1, \"authorAssociation\": \"NONE\"}, {\"author\": \"oluwatimilehin24\", \"n_first_responses\": 1, \"authorAssociation\": \"NONE\"}, {\"author\": \"mydmdm\", \"n_first_responses\": 1, \"authorAssociation\": \"NONE\"}, {\"author\": \"oscarys\", \"n_first_responses\": 1, \"authorAssociation\": \"NONE\"}, {\"author\": \"mwouts\", \"n_first_responses\": 1, \"authorAssociation\": \"NONE\"}, {\"author\": \"sodre\", \"n_first_responses\": 1, \"authorAssociation\": \"NONE\"}, {\"author\": \"mkzia\", \"n_first_responses\": 1, \"authorAssociation\": \"NONE\"}, {\"author\": \"parkerwill\", \"n_first_responses\": 1, \"authorAssociation\": \"NONE\"}, {\"author\": \"kyochujoho\", \"n_first_responses\": 1, \"authorAssociation\": \"NONE\"}, {\"author\": \"lramey\", \"n_first_responses\": 1, \"authorAssociation\": \"NONE\"}, {\"author\": \"ltammariello\", \"n_first_responses\": 1, \"authorAssociation\": \"NONE\"}, {\"author\": \"lucainnocenti\", \"n_first_responses\": 1, \"authorAssociation\": \"NONE\"}, {\"author\": \"luvlogic\", \"n_first_responses\": 1, \"authorAssociation\": \"NONE\"}, {\"author\": \"mangozy\", \"n_first_responses\": 1, \"authorAssociation\": \"NONE\"}, {\"author\": \"wmvanvliet\", \"n_first_responses\": 1, \"authorAssociation\": \"COLLABORATOR\"}, {\"author\": \"manics\", \"n_first_responses\": 1, \"authorAssociation\": \"CONTRIBUTOR\"}, {\"author\": \"marhoy\", \"n_first_responses\": 1, \"authorAssociation\": \"NONE\"}], \"data-a302f713d302a33fdec48db5fff04848\": [{\"author\": \"jasongrout\", \"n_first_responses\": 8, \"authorAssociation\": \"MEMBER\"}, {\"author\": \"vidartf\", \"n_first_responses\": 6, \"authorAssociation\": \"MEMBER\"}, {\"author\": \"martinRenou\", \"n_first_responses\": 4, \"authorAssociation\": \"MEMBER\"}, {\"author\": \"kebwi\", \"n_first_responses\": 2, \"authorAssociation\": \"NONE\"}, {\"author\": \"SylvainCorlay\", \"n_first_responses\": 2, \"authorAssociation\": \"MEMBER\"}, {\"author\": \"RDeRenzi\", \"n_first_responses\": 1, \"authorAssociation\": \"NONE\"}, {\"author\": \"timkpaine\", \"n_first_responses\": 1, \"authorAssociation\": \"CONTRIBUTOR\"}, {\"author\": \"sdll\", \"n_first_responses\": 1, \"authorAssociation\": \"NONE\"}, {\"author\": \"scottwsides\", \"n_first_responses\": 1, \"authorAssociation\": \"NONE\"}, {\"author\": \"moradza\", \"n_first_responses\": 1, \"authorAssociation\": \"NONE\"}, {\"author\": \"mgeier\", \"n_first_responses\": 1, \"authorAssociation\": \"CONTRIBUTOR\"}, {\"author\": \"ldnelso2\", \"n_first_responses\": 1, \"authorAssociation\": \"NONE\"}, {\"author\": \"joshwarren\", \"n_first_responses\": 1, \"authorAssociation\": \"NONE\"}, {\"author\": \"jetheurer\", \"n_first_responses\": 1, \"authorAssociation\": \"NONE\"}, {\"author\": \"heavyrick\", \"n_first_responses\": 1, \"authorAssociation\": \"NONE\"}, {\"author\": \"hainm\", \"n_first_responses\": 1, \"authorAssociation\": \"NONE\"}, {\"author\": \"grzegorz700\", \"n_first_responses\": 1, \"authorAssociation\": \"NONE\"}, {\"author\": \"goatchurchprime\", \"n_first_responses\": 1, \"authorAssociation\": \"NONE\"}, {\"author\": \"flekschas\", \"n_first_responses\": 1, \"authorAssociation\": \"NONE\"}, {\"author\": \"ebebpl\", \"n_first_responses\": 1, \"authorAssociation\": \"NONE\"}, {\"author\": \"dieterwang\", \"n_first_responses\": 1, \"authorAssociation\": \"NONE\"}, {\"author\": \"diallobakary4\", \"n_first_responses\": 1, \"authorAssociation\": \"NONE\"}, {\"author\": \"ankostis\", \"n_first_responses\": 1, \"authorAssociation\": \"NONE\"}, {\"author\": \"andrei91ro\", \"n_first_responses\": 1, \"authorAssociation\": \"NONE\"}, {\"author\": \"ahicks88\", \"n_first_responses\": 1, \"authorAssociation\": \"NONE\"}, {\"author\": \"acelere\", \"n_first_responses\": 1, \"authorAssociation\": \"NONE\"}, {\"author\": \"wookayin\", \"n_first_responses\": 1, \"authorAssociation\": \"NONE\"}], \"data-0eeafd45f626b2e2251fb08901e3dae6\": [{\"author\": \"consideRatio\", \"n_first_responses\": 29, \"authorAssociation\": \"MEMBER\"}, {\"author\": \"betatim\", \"n_first_responses\": 28, \"authorAssociation\": \"MEMBER\"}, {\"author\": \"minrk\", \"n_first_responses\": 14, \"authorAssociation\": \"MEMBER\"}, {\"author\": \"rkdarst\", \"n_first_responses\": 13, \"authorAssociation\": \"COLLABORATOR\"}, {\"author\": \"choldgraf\", \"n_first_responses\": 12, \"authorAssociation\": \"MEMBER\"}, {\"author\": \"yuvipanda\", \"n_first_responses\": 10, \"authorAssociation\": \"MEMBER\"}, {\"author\": \"willingc\", \"n_first_responses\": 8, \"authorAssociation\": \"MEMBER\"}, {\"author\": \"manics\", \"n_first_responses\": 8, \"authorAssociation\": \"MEMBER\"}, {\"author\": \"GergelyKalmar\", \"n_first_responses\": 4, \"authorAssociation\": \"NONE\"}, {\"author\": \"ryogesh\", \"n_first_responses\": 4, \"authorAssociation\": \"CONTRIBUTOR\"}, {\"author\": \"bitnik\", \"n_first_responses\": 4, \"authorAssociation\": \"CONTRIBUTOR\"}, {\"author\": \"nuest\", \"n_first_responses\": 4, \"authorAssociation\": \"CONTRIBUTOR\"}, {\"author\": \"GeorgianaElena\", \"n_first_responses\": 3, \"authorAssociation\": \"MEMBER\"}, {\"author\": \"chicocvenancio\", \"n_first_responses\": 3, \"authorAssociation\": \"CONTRIBUTOR\"}, {\"author\": \"rodriguez-facundo\", \"n_first_responses\": 2, \"authorAssociation\": \"NONE\"}, {\"author\": \"suryag10\", \"n_first_responses\": 2, \"authorAssociation\": \"NONE\"}, {\"author\": \"GrahamDumpleton\", \"n_first_responses\": 2, \"authorAssociation\": \"CONTRIBUTOR\"}, {\"author\": \"sntgluca\", \"n_first_responses\": 2, \"authorAssociation\": \"NONE\"}, {\"author\": \"Wildcarde\", \"n_first_responses\": 2, \"authorAssociation\": \"NONE\"}, {\"author\": \"mrocklin\", \"n_first_responses\": 2, \"authorAssociation\": \"NONE\"}, {\"author\": \"jakepaw\", \"n_first_responses\": 2, \"authorAssociation\": \"NONE\"}, {\"author\": \"ian-r-rose\", \"n_first_responses\": 2, \"authorAssociation\": \"COLLABORATOR\"}, {\"author\": \"ryanlovett\", \"n_first_responses\": 2, \"authorAssociation\": \"MEMBER\"}, {\"author\": \"nikhilbchilwant\", \"n_first_responses\": 1, \"authorAssociation\": \"NONE\"}, {\"author\": \"pdurbin\", \"n_first_responses\": 1, \"authorAssociation\": \"NONE\"}, {\"author\": \"80O\", \"n_first_responses\": 1, \"authorAssociation\": \"NONE\"}, {\"author\": \"ncinko\", \"n_first_responses\": 1, \"authorAssociation\": \"NONE\"}, {\"author\": \"rcthomas\", \"n_first_responses\": 1, \"authorAssociation\": \"CONTRIBUTOR\"}, {\"author\": \"misteliy\", \"n_first_responses\": 1, \"authorAssociation\": \"NONE\"}, {\"author\": \"mesudip\", \"n_first_responses\": 1, \"authorAssociation\": \"NONE\"}, {\"author\": \"mbmilligan\", \"n_first_responses\": 1, \"authorAssociation\": \"MEMBER\"}, {\"author\": \"markperri\", \"n_first_responses\": 1, \"authorAssociation\": \"NONE\"}, {\"author\": \"marius311\", \"n_first_responses\": 1, \"authorAssociation\": \"NONE\"}, {\"author\": \"psychemedia\", \"n_first_responses\": 1, \"authorAssociation\": \"NONE\"}, {\"author\": \"sgibson91\", \"n_first_responses\": 1, \"authorAssociation\": \"MEMBER\"}, {\"author\": \"retypuj\", \"n_first_responses\": 1, \"authorAssociation\": \"NONE\"}, {\"author\": \"riazarbi\", \"n_first_responses\": 1, \"authorAssociation\": \"NONE\"}, {\"author\": \"rochaporto\", \"n_first_responses\": 1, \"authorAssociation\": \"NONE\"}, {\"author\": \"sebastian-luna-valero\", \"n_first_responses\": 1, \"authorAssociation\": \"NONE\"}, {\"author\": \"sharkwang\", \"n_first_responses\": 1, \"authorAssociation\": \"NONE\"}, {\"author\": \"shyam334\", \"n_first_responses\": 1, \"authorAssociation\": \"NONE\"}, {\"author\": \"siralfbaez\", \"n_first_responses\": 1, \"authorAssociation\": \"NONE\"}, {\"author\": \"snakonechny\", \"n_first_responses\": 1, \"authorAssociation\": \"NONE\"}, {\"author\": \"stevegore\", \"n_first_responses\": 1, \"authorAssociation\": \"NONE\"}, {\"author\": \"tee-tan\", \"n_first_responses\": 1, \"authorAssociation\": \"NONE\"}, {\"author\": \"user919lx\", \"n_first_responses\": 1, \"authorAssociation\": \"NONE\"}, {\"author\": \"wlmvp\", \"n_first_responses\": 1, \"authorAssociation\": \"NONE\"}, {\"author\": \"xavierchan\", \"n_first_responses\": 1, \"authorAssociation\": \"NONE\"}, {\"author\": \"zhiyuli\", \"n_first_responses\": 1, \"authorAssociation\": \"NONE\"}, {\"author\": \"marcjimz\", \"n_first_responses\": 1, \"authorAssociation\": \"NONE\"}], \"data-1a61ae64039200c4d534bd55de92de9c\": [{\"author\": \"jasongrout\", \"n_first_responses\": 81, \"authorAssociation\": \"MEMBER\"}, {\"author\": \"vidartf\", \"n_first_responses\": 20, \"authorAssociation\": \"MEMBER\"}, {\"author\": \"blink1073\", \"n_first_responses\": 14, \"authorAssociation\": \"MEMBER\"}, {\"author\": \"telamonian\", \"n_first_responses\": 13, \"authorAssociation\": \"MEMBER\"}, {\"author\": \"fcollonval\", \"n_first_responses\": 9, \"authorAssociation\": \"MEMBER\"}, {\"author\": \"saulshanabrook\", \"n_first_responses\": 6, \"authorAssociation\": \"MEMBER\"}, {\"author\": \"afshin\", \"n_first_responses\": 6, \"authorAssociation\": \"MEMBER\"}, {\"author\": \"bmshouse\", \"n_first_responses\": 6, \"authorAssociation\": \"NONE\"}, {\"author\": \"Madhu94\", \"n_first_responses\": 4, \"authorAssociation\": \"MEMBER\"}, {\"author\": \"mlucool\", \"n_first_responses\": 4, \"authorAssociation\": \"CONTRIBUTOR\"}, {\"author\": \"kavishdahekar\", \"n_first_responses\": 3, \"authorAssociation\": \"MEMBER\"}, {\"author\": \"dependabot\", \"n_first_responses\": 3, \"authorAssociation\": \"CONTRIBUTOR\"}, {\"author\": \"jaipreet-s\", \"n_first_responses\": 3, \"authorAssociation\": \"MEMBER\"}, {\"author\": \"tgeorgeux\", \"n_first_responses\": 3, \"authorAssociation\": \"MEMBER\"}, {\"author\": \"akchinSTC\", \"n_first_responses\": 3, \"authorAssociation\": \"CONTRIBUTOR\"}, {\"author\": \"jtpio\", \"n_first_responses\": 3, \"authorAssociation\": \"MEMBER\"}, {\"author\": \"Zsailer\", \"n_first_responses\": 2, \"authorAssociation\": \"MEMBER\"}, {\"author\": \"dmarth\", \"n_first_responses\": 2, \"authorAssociation\": \"MEMBER\"}, {\"author\": \"BrenBarn\", \"n_first_responses\": 2, \"authorAssociation\": \"NONE\"}, {\"author\": \"ian-r-rose\", \"n_first_responses\": 2, \"authorAssociation\": \"MEMBER\"}, {\"author\": \"krassowski\", \"n_first_responses\": 2, \"authorAssociation\": \"MEMBER\"}, {\"author\": \"javag97\", \"n_first_responses\": 2, \"authorAssociation\": \"NONE\"}, {\"author\": \"memeplex\", \"n_first_responses\": 2, \"authorAssociation\": \"NONE\"}, {\"author\": \"krvkir\", \"n_first_responses\": 1, \"authorAssociation\": \"NONE\"}, {\"author\": \"lydnguyen\", \"n_first_responses\": 1, \"authorAssociation\": \"NONE\"}, {\"author\": \"koliphan2\", \"n_first_responses\": 1, \"authorAssociation\": \"COLLABORATOR\"}, {\"author\": \"madsi1m\", \"n_first_responses\": 1, \"authorAssociation\": \"NONE\"}, {\"author\": \"manycoding\", \"n_first_responses\": 1, \"authorAssociation\": \"NONE\"}, {\"author\": \"jameslao\", \"n_first_responses\": 1, \"authorAssociation\": \"NONE\"}, {\"author\": \"kgryte\", \"n_first_responses\": 1, \"authorAssociation\": \"COLLABORATOR\"}, {\"author\": \"kfeinauer\", \"n_first_responses\": 1, \"authorAssociation\": \"NONE\"}, {\"author\": \"marctorrellas\", \"n_first_responses\": 1, \"authorAssociation\": \"NONE\"}, {\"author\": \"meetsitaram\", \"n_first_responses\": 1, \"authorAssociation\": \"NONE\"}, {\"author\": \"AdriaanRol\", \"n_first_responses\": 1, \"authorAssociation\": \"NONE\"}, {\"author\": \"mshlis\", \"n_first_responses\": 1, \"authorAssociation\": \"NONE\"}, {\"author\": \"nathancarter\", \"n_first_responses\": 1, \"authorAssociation\": \"NONE\"}, {\"author\": \"yunair\", \"n_first_responses\": 1, \"authorAssociation\": \"CONTRIBUTOR\"}, {\"author\": \"xiezhongfu\", \"n_first_responses\": 1, \"authorAssociation\": \"NONE\"}, {\"author\": \"wolfv\", \"n_first_responses\": 1, \"authorAssociation\": \"MEMBER\"}, {\"author\": \"wesinator\", \"n_first_responses\": 1, \"authorAssociation\": \"NONE\"}, {\"author\": \"vnijs\", \"n_first_responses\": 1, \"authorAssociation\": \"NONE\"}, {\"author\": \"van-8\", \"n_first_responses\": 1, \"authorAssociation\": \"MEMBER\"}, {\"author\": \"uddmorningsun\", \"n_first_responses\": 1, \"authorAssociation\": \"NONE\"}, {\"author\": \"twrobinson\", \"n_first_responses\": 1, \"authorAssociation\": \"NONE\"}, {\"author\": \"timkpaine\", \"n_first_responses\": 1, \"authorAssociation\": \"MEMBER\"}, {\"author\": \"tiagopereira\", \"n_first_responses\": 1, \"authorAssociation\": \"NONE\"}, {\"author\": \"sntgluca\", \"n_first_responses\": 1, \"authorAssociation\": \"NONE\"}, {\"author\": \"sleighsoft\", \"n_first_responses\": 1, \"authorAssociation\": \"NONE\"}, {\"author\": \"sfluo\", \"n_first_responses\": 1, \"authorAssociation\": \"NONE\"}, {\"author\": \"sahil-bansal-sb\", \"n_first_responses\": 1, \"authorAssociation\": \"NONE\"}]}};\n",
       "      var embedOpt = {\"mode\": \"vega-lite\"};\n",
       "\n",
       "      function showError(el, error){\n",
       "          el.innerHTML = ('<div class=\"error\" style=\"color:red;\">'\n",
       "                          + '<p>JavaScript Error: ' + error.message + '</p>'\n",
       "                          + \"<p>This usually means there's a typo in your chart specification. \"\n",
       "                          + \"See the javascript console for the full traceback.</p>\"\n",
       "                          + '</div>');\n",
       "          throw error;\n",
       "      }\n",
       "      const el = document.getElementById('altair-viz-9');\n",
       "      vegaEmbed(\"#altair-viz-9\", spec, embedOpt)\n",
       "        .catch(error => showError(el, error));\n",
       "    });\n",
       "\n",
       "  </script>"
      ],
      "text/plain": [
       "alt.HConcatChart(...)"
      ]
     },
     "execution_count": 32,
     "metadata": {},
     "output_type": "execute_result"
    }
   ],
   "source": [
    "n_plot = 50\n",
    "charts = []\n",
    "for ii, (iorg, idata) in enumerate(first_responder_counts.groupby(['org'])):\n",
    "    title = f\"Top {n_plot} first responders for {iorg} in the last {n_days} days\"\n",
    "    idata = idata.groupby('author', as_index=False).agg({'n_first_responses': 'sum', 'authorAssociation': 'first'})\n",
    "    idata = idata.sort_values('n_first_responses', ascending=False).head(n_plot)\n",
    "    ch = alt.Chart(data=idata.head(n_plot), width=1000, title=title).mark_bar().encode(\n",
    "        x='author',\n",
    "        y='n_first_responses',\n",
    "        color=alt.Color('authorAssociation', scale=alt.Scale(domain=author_types, range=author_colors))\n",
    "    )\n",
    "    charts.append(ch)\n",
    "alt.hconcat(*charts)"
   ]
  },
  {
   "cell_type": "code",
   "execution_count": 33,
   "metadata": {
    "papermill": {
     "duration": 0.055634,
     "end_time": "2019-12-01T17:52:06.716317",
     "exception": false,
     "start_time": "2019-12-01T17:52:06.660683",
     "status": "completed"
    },
    "tags": []
   },
   "outputs": [
    {
     "data": {
      "text/html": [
       "<script src=\"https://cdn.rawgit.com/parente/4c3e6936d0d7a46fd071/raw/65b816fb9bdd3c28b4ddf3af602bfd6015486383/code_toggle.js\"></script>\n"
      ],
      "text/plain": [
       "<IPython.core.display.HTML object>"
      ]
     },
     "metadata": {},
     "output_type": "display_data"
    }
   ],
   "source": [
    "%%html\n",
    "<script src=\"https://cdn.rawgit.com/parente/4c3e6936d0d7a46fd071/raw/65b816fb9bdd3c28b4ddf3af602bfd6015486383/code_toggle.js\"></script>"
   ]
  }
 ],
 "metadata": {
  "kernelspec": {
   "display_name": "Python 3",
   "language": "python",
   "name": "python3"
  },
  "language_info": {
   "codemirror_mode": {
    "name": "ipython",
    "version": 3
   },
   "file_extension": ".py",
   "mimetype": "text/x-python",
   "name": "python",
   "nbconvert_exporter": "python",
   "pygments_lexer": "ipython3",
   "version": "3.7.3"
  },
  "papermill": {
   "duration": 12.348472,
   "end_time": "2019-12-01T17:52:07.185625",
   "environment_variables": {},
   "exception": null,
   "input_path": "./templates/github.ipynb",
   "output_path": "./reports/monthly/2019-09-01-2019-10-01/github.ipynb",
   "parameters": {
    "end_date": "2019-10-01",
    "github_orgs": [
     "jupyterhub",
     "jupyter",
     "jupyterlab",
     "jupyter-widgets",
     "ipython",
     "binder-examples"
    ],
    "renderer": "kaggle",
    "start_date": "2019-09-01"
   },
   "start_time": "2019-12-01T17:51:54.837153",
   "version": "1.2.1"
  },
  "widgets": {
   "application/vnd.jupyter.widget-state+json": {
    "state": {
     "029823ed873a470582f9e6fa83f4d9dd": {
      "model_module": "@jupyter-widgets/controls",
      "model_module_version": "1.5.0",
      "model_name": "HTMLModel",
      "state": {
       "_dom_classes": [],
       "_model_module": "@jupyter-widgets/controls",
       "_model_module_version": "1.5.0",
       "_model_name": "HTMLModel",
       "_view_count": null,
       "_view_module": "@jupyter-widgets/controls",
       "_view_module_version": "1.5.0",
       "_view_name": "HTMLView",
       "description": "",
       "description_tooltip": null,
       "layout": "IPY_MODEL_d9803ba3d301411a9c87dbd27d17e11a",
       "placeholder": "​",
       "style": "IPY_MODEL_13e85ef0a1e6459b99ae253c5169c207",
       "value": "<h4>jupyter-widgets</h4>\n<h5><a href=\"https://github.com/jupyter-widgets/ipyleaflet\">jupyter-widgets/ipyleaflet</a></h5>\n<ul>\n<li><a href=\"https://github.com/jupyter-widgets/ipyleaflet/issues/418\">(#418)</a>: <em>ipyleaflet does not work in jupyter lab - \"Error displaying widget: model not found\"</em> by <strong><a href=\"https://github.com/dazzag24\">@dazzag24</a></strong></li>\n<li><a href=\"https://github.com/jupyter-widgets/ipyleaflet/issues/325\">(#325)</a>: <em>JupyterLab \"Error displaying widget\" when trying to display map</em> by <strong><a href=\"https://github.com/MaksimMisin\">@MaksimMisin</a></strong></li>\n<li><a href=\"https://github.com/jupyter-widgets/ipyleaflet/issues/195\">(#195)</a>: <em>Use in Google's Colaboratory (Colab)</em> by <strong><a href=\"https://github.com/fitoprincipe\">@fitoprincipe</a></strong></li>\n</ul>\n<h5><a href=\"https://github.com/jupyter-widgets/ipywidgets\">jupyter-widgets/ipywidgets</a></h5>\n<ul>\n<li><a href=\"https://github.com/jupyter-widgets/ipywidgets/issues/2545\">(#2545)</a>: <em>JupyterLab-Manager messed up Jupyter Lab layout</em> by <strong><a href=\"https://github.com/ivan-monge1989\">@ivan-monge1989</a></strong></li>\n<li><a href=\"https://github.com/jupyter-widgets/ipywidgets/issues/2477\">(#2477)</a>: <em>Button Icons/FontAwesome regression no longer supports fa-spin</em> by <strong><a href=\"https://github.com/rskabelund\">@rskabelund</a></strong></li>\n<li><a href=\"https://github.com/jupyter-widgets/ipywidgets/issues/2552\">(#2552)</a>: <em>ipywidgets not working with jupyterlab 1.0</em> by <strong><a href=\"https://github.com/scottwsides\">@scottwsides</a></strong></li>\n<li><a href=\"https://github.com/jupyter-widgets/ipywidgets/issues/2563\">(#2563)</a>: <em>saving static HTML with embedded widgets from Jupyter Lab and clearing widget state</em> by <strong><a href=\"https://github.com/cornhundred\">@cornhundred</a></strong></li>\n</ul>\n<h5><a href=\"https://github.com/jupyter-widgets/jupyterlab-sidecar\">jupyter-widgets/jupyterlab-sidecar</a></h5>\n<ul>\n<li><a href=\"https://github.com/jupyter-widgets/jupyterlab-sidecar/issues/28\">(#28)</a>: <em>v0.4.0 o PyPi</em> by <strong><a href=\"https://github.com/js3711\">@js3711</a></strong></li>\n</ul>\n<h5><a href=\"https://github.com/jupyter-widgets/pythreejs\">jupyter-widgets/pythreejs</a></h5>\n<ul>\n<li><a href=\"https://github.com/jupyter-widgets/pythreejs/issues/286\">(#286)</a>: <em>How to create a TubeGeometry - use of Three.Curve</em> by <strong><a href=\"https://github.com/hagrid67\">@hagrid67</a></strong></li>\n</ul>\n<h5><a href=\"https://github.com/jupyter-widgets/widget-ts-cookiecutter\">jupyter-widgets/widget-ts-cookiecutter</a></h5>"
      }
     },
     "068d88669186428cbf0d0d44109814a8": {
      "model_module": "@jupyter-widgets/controls",
      "model_module_version": "1.5.0",
      "model_name": "HTMLModel",
      "state": {
       "_dom_classes": [],
       "_model_module": "@jupyter-widgets/controls",
       "_model_module_version": "1.5.0",
       "_model_name": "HTMLModel",
       "_view_count": null,
       "_view_module": "@jupyter-widgets/controls",
       "_view_module_version": "1.5.0",
       "_view_name": "HTMLView",
       "description": "",
       "description_tooltip": null,
       "layout": "IPY_MODEL_7a52fa4369c24aca895d489d445b5f6a",
       "placeholder": "​",
       "style": "IPY_MODEL_9cd6f977da2d421aa6c2b8b424978266",
       "value": "<center><p><a href=\"https://github.com/80O\">80O</a> | <a href=\"https://github.com/aar0nTw\">aar0nTw</a> | <a href=\"https://github.com/ablekh\">ablekh</a> | <a href=\"https://github.com/ajennings67\">ajennings67</a> | <a href=\"https://github.com/albertmichaelj\">albertmichaelj</a> | <a href=\"https://github.com/angrymeir\">angrymeir</a> | <a href=\"https://github.com/arnim\">arnim</a> | <a href=\"https://github.com/astrajohn\">astrajohn</a> | <a href=\"https://github.com/bdrian\">bdrian</a> | <a href=\"https://github.com/benbovy\">benbovy</a> | <a href=\"https://github.com/betatim\">betatim</a> | <a href=\"https://github.com/bitnik\">bitnik</a> | <a href=\"https://github.com/blink1073\">blink1073</a> | <a href=\"https://github.com/brospars\">brospars</a> | <a href=\"https://github.com/celine168\">celine168</a> | <a href=\"https://github.com/chicocvenancio\">chicocvenancio</a> | <a href=\"https://github.com/choldgraf\">choldgraf</a> | <a href=\"https://github.com/clkao\">clkao</a> | <a href=\"https://github.com/consideRatio\">consideRatio</a> | <a href=\"https://github.com/danielgruesso\">danielgruesso</a> | <a href=\"https://github.com/danroliver\">danroliver</a> | <a href=\"https://github.com/davidedelvento\">davidedelvento</a> | <a href=\"https://github.com/DavidMay121\">DavidMay121</a> | <a href=\"https://github.com/dbricare\">dbricare</a> | <a href=\"https://github.com/delgadom\">delgadom</a> | <a href=\"https://github.com/dirkcgrunwald\">dirkcgrunwald</a> | <a href=\"https://github.com/divaybansal\">divaybansal</a> | <a href=\"https://github.com/dixonalex\">dixonalex</a> | <a href=\"https://github.com/djangoliv\">djangoliv</a> | <a href=\"https://github.com/dshakey\">dshakey</a> | <a href=\"https://github.com/dwr-psandhu\">dwr-psandhu</a> | <a href=\"https://github.com/echarles\">echarles</a> | <a href=\"https://github.com/eexwhyzee\">eexwhyzee</a> | <a href=\"https://github.com/eslavich\">eslavich</a> | <a href=\"https://github.com/evanlinde\">evanlinde</a> | <a href=\"https://github.com/fishbeef\">fishbeef</a> | <a href=\"https://github.com/galitus\">galitus</a> | <a href=\"https://github.com/gareth-j\">gareth-j</a> | <a href=\"https://github.com/gdbassett\">gdbassett</a> | <a href=\"https://github.com/GeorgianaElena\">GeorgianaElena</a> | <a href=\"https://github.com/GergelyKalmar\">GergelyKalmar</a> | <a href=\"https://github.com/giansoldati\">giansoldati</a> | <a href=\"https://github.com/GrahamDumpleton\">GrahamDumpleton</a> | <a href=\"https://github.com/guimou\">guimou</a> | <a href=\"https://github.com/guohenghaha\">guohenghaha</a> | <a href=\"https://github.com/hdimitriou\">hdimitriou</a> | <a href=\"https://github.com/heavenkong\">heavenkong</a> | <a href=\"https://github.com/HelenCousins\">HelenCousins</a> | <a href=\"https://github.com/Help-i-am-lost\">Help-i-am-lost</a> | <a href=\"https://github.com/henchc\">henchc</a> | <a href=\"https://github.com/hmumtaz\">hmumtaz</a> | <a href=\"https://github.com/ian-r-rose\">ian-r-rose</a> | <a href=\"https://github.com/ianalis\">ianalis</a> | <a href=\"https://github.com/icmtf\">icmtf</a> | <a href=\"https://github.com/ingodahn\">ingodahn</a> | <a href=\"https://github.com/itssimon\">itssimon</a> | <a href=\"https://github.com/jacobtomlinson\">jacobtomlinson</a> | <a href=\"https://github.com/jakepaw\">jakepaw</a> | <a href=\"https://github.com/jakirkham\">jakirkham</a> | <a href=\"https://github.com/JWDobken\">JWDobken</a> | <a href=\"https://github.com/karthi4k\">karthi4k</a> | <a href=\"https://github.com/kaseyhackspace\">kaseyhackspace</a> | <a href=\"https://github.com/kevin-cyx\">kevin-cyx</a> | <a href=\"https://github.com/kimsk\">kimsk</a> | <a href=\"https://github.com/kinow\">kinow</a> | <a href=\"https://github.com/koldLight\">koldLight</a> | <a href=\"https://github.com/krinsman\">krinsman</a> | <a href=\"https://github.com/kuromt\">kuromt</a> | <a href=\"https://github.com/lachlancampbell\">lachlancampbell</a> | <a href=\"https://github.com/leewi9\">leewi9</a> | <a href=\"https://github.com/Ling19871017\">Ling19871017</a> | <a href=\"https://github.com/mael-le-gal\">mael-le-gal</a> | <a href=\"https://github.com/manics\">manics</a> | <a href=\"https://github.com/marcjimz\">marcjimz</a> | <a href=\"https://github.com/marius311\">marius311</a> | <a href=\"https://github.com/markperri\">markperri</a> | <a href=\"https://github.com/martintoreilly\">martintoreilly</a> | <a href=\"https://github.com/mbmilligan\">mbmilligan</a> | <a href=\"https://github.com/meownoid\">meownoid</a> | <a href=\"https://github.com/mesudip\">mesudip</a> | <a href=\"https://github.com/mgotham900\">mgotham900</a> | <a href=\"https://github.com/minrk\">minrk</a> | <a href=\"https://github.com/missedMahattanhenge\">missedMahattanhenge</a> | <a href=\"https://github.com/misteliy\">misteliy</a> | <a href=\"https://github.com/mrocklin\">mrocklin</a> | <a href=\"https://github.com/mrow4a\">mrow4a</a> | <a href=\"https://github.com/mz2\">mz2</a> | <a href=\"https://github.com/ncinko\">ncinko</a> | <a href=\"https://github.com/NickolausDS\">NickolausDS</a> | <a href=\"https://github.com/nikhilbchilwant\">nikhilbchilwant</a> | <a href=\"https://github.com/nuest\">nuest</a> | <a href=\"https://github.com/pablobernabeu\">pablobernabeu</a> | <a href=\"https://github.com/ParkvilleData\">ParkvilleData</a> | <a href=\"https://github.com/pdurbin\">pdurbin</a> | <a href=\"https://github.com/psychemedia\">psychemedia</a> | <a href=\"https://github.com/ptcane\">ptcane</a> | <a href=\"https://github.com/radu-stefanache\">radu-stefanache</a> | <a href=\"https://github.com/ramkrishnan8994\">ramkrishnan8994</a> | <a href=\"https://github.com/rcthomas\">rcthomas</a> | <a href=\"https://github.com/retypuj\">retypuj</a> | <a href=\"https://github.com/riazarbi\">riazarbi</a> | <a href=\"https://github.com/rkdarst\">rkdarst</a> | <a href=\"https://github.com/rochaporto\">rochaporto</a> | <a href=\"https://github.com/rodriguez-facundo\">rodriguez-facundo</a> | <a href=\"https://github.com/ryanlovett\">ryanlovett</a> | <a href=\"https://github.com/ryogesh\">ryogesh</a> | <a href=\"https://github.com/sajjad207\">sajjad207</a> | <a href=\"https://github.com/scottyhq\">scottyhq</a> | <a href=\"https://github.com/sebastian-luna-valero\">sebastian-luna-valero</a> | <a href=\"https://github.com/sgibson91\">sgibson91</a> | <a href=\"https://github.com/sharkwang\">sharkwang</a> | <a href=\"https://github.com/shyam334\">shyam334</a> | <a href=\"https://github.com/siralfbaez\">siralfbaez</a> | <a href=\"https://github.com/snakonechny\">snakonechny</a> | <a href=\"https://github.com/sntgluca\">sntgluca</a> | <a href=\"https://github.com/SolarisYan\">SolarisYan</a> | <a href=\"https://github.com/spalkovits\">spalkovits</a> | <a href=\"https://github.com/srini-vasu\">srini-vasu</a> | <a href=\"https://github.com/stevegore\">stevegore</a> | <a href=\"https://github.com/suryag10\">suryag10</a> | <a href=\"https://github.com/tee-tan\">tee-tan</a> | <a href=\"https://github.com/ToniChaz\">ToniChaz</a> | <a href=\"https://github.com/trallard\">trallard</a> | <a href=\"https://github.com/user919lx\">user919lx</a> | <a href=\"https://github.com/vhaldemar\">vhaldemar</a> | <a href=\"https://github.com/vilhelmen\">vilhelmen</a> | <a href=\"https://github.com/vindvaki\">vindvaki</a> | <a href=\"https://github.com/Wildcarde\">Wildcarde</a> | <a href=\"https://github.com/willingc\">willingc</a> | <a href=\"https://github.com/willirath\">willirath</a> | <a href=\"https://github.com/wlmvp\">wlmvp</a> | <a href=\"https://github.com/Xarthisius\">Xarthisius</a> | <a href=\"https://github.com/xavierchan\">xavierchan</a> | <a href=\"https://github.com/yuvipanda\">yuvipanda</a> | <a href=\"https://github.com/zhiyuli\">zhiyuli</a> | <a href=\"https://github.com/zjiaksmc\">zjiaksmc</a> | <a href=\"https://github.com/zonca\">zonca</a> | <a href=\"https://github.com/Zsailer\">Zsailer</a> | <a href=\"https://github.com/zzh8829\">zzh8829</a></p></center>"
      }
     },
     "0792cda2946d48d3a949531cc9f01338": {
      "model_module": "@jupyter-widgets/base",
      "model_module_version": "1.2.0",
      "model_name": "LayoutModel",
      "state": {
       "_model_module": "@jupyter-widgets/base",
       "_model_module_version": "1.2.0",
       "_model_name": "LayoutModel",
       "_view_count": null,
       "_view_module": "@jupyter-widgets/base",
       "_view_module_version": "1.2.0",
       "_view_name": "LayoutView",
       "align_content": null,
       "align_items": null,
       "align_self": null,
       "border": null,
       "bottom": null,
       "display": null,
       "flex": null,
       "flex_flow": null,
       "grid_area": null,
       "grid_auto_columns": null,
       "grid_auto_flow": null,
       "grid_auto_rows": null,
       "grid_column": null,
       "grid_gap": null,
       "grid_row": null,
       "grid_template_areas": null,
       "grid_template_columns": null,
       "grid_template_rows": null,
       "height": null,
       "justify_content": null,
       "justify_items": null,
       "left": null,
       "margin": null,
       "max_height": null,
       "max_width": null,
       "min_height": null,
       "min_width": null,
       "object_fit": null,
       "object_position": null,
       "order": null,
       "overflow": null,
       "overflow_x": null,
       "overflow_y": null,
       "padding": null,
       "right": null,
       "top": null,
       "visibility": null,
       "width": null
      }
     },
     "0b02b88afe3446998a2a9883cb10131b": {
      "model_module": "@jupyter-widgets/controls",
      "model_module_version": "1.5.0",
      "model_name": "DescriptionStyleModel",
      "state": {
       "_model_module": "@jupyter-widgets/controls",
       "_model_module_version": "1.5.0",
       "_model_name": "DescriptionStyleModel",
       "_view_count": null,
       "_view_module": "@jupyter-widgets/base",
       "_view_module_version": "1.2.0",
       "_view_name": "StyleView",
       "description_width": ""
      }
     },
     "0d03a987b11a45ad8bf7c582ce5962f4": {
      "model_module": "@jupyter-widgets/base",
      "model_module_version": "1.2.0",
      "model_name": "LayoutModel",
      "state": {
       "_model_module": "@jupyter-widgets/base",
       "_model_module_version": "1.2.0",
       "_model_name": "LayoutModel",
       "_view_count": null,
       "_view_module": "@jupyter-widgets/base",
       "_view_module_version": "1.2.0",
       "_view_name": "LayoutView",
       "align_content": null,
       "align_items": null,
       "align_self": null,
       "border": null,
       "bottom": null,
       "display": null,
       "flex": null,
       "flex_flow": null,
       "grid_area": null,
       "grid_auto_columns": null,
       "grid_auto_flow": null,
       "grid_auto_rows": null,
       "grid_column": null,
       "grid_gap": null,
       "grid_row": null,
       "grid_template_areas": null,
       "grid_template_columns": null,
       "grid_template_rows": null,
       "height": null,
       "justify_content": null,
       "justify_items": null,
       "left": null,
       "margin": null,
       "max_height": null,
       "max_width": null,
       "min_height": null,
       "min_width": null,
       "object_fit": null,
       "object_position": null,
       "order": null,
       "overflow": null,
       "overflow_x": null,
       "overflow_y": null,
       "padding": null,
       "right": null,
       "top": null,
       "visibility": null,
       "width": null
      }
     },
     "0ef829aeb02740d396e0b6770090e85e": {
      "model_module": "@jupyter-widgets/base",
      "model_module_version": "1.2.0",
      "model_name": "LayoutModel",
      "state": {
       "_model_module": "@jupyter-widgets/base",
       "_model_module_version": "1.2.0",
       "_model_name": "LayoutModel",
       "_view_count": null,
       "_view_module": "@jupyter-widgets/base",
       "_view_module_version": "1.2.0",
       "_view_name": "LayoutView",
       "align_content": null,
       "align_items": null,
       "align_self": null,
       "border": null,
       "bottom": null,
       "display": null,
       "flex": null,
       "flex_flow": null,
       "grid_area": null,
       "grid_auto_columns": null,
       "grid_auto_flow": null,
       "grid_auto_rows": null,
       "grid_column": null,
       "grid_gap": null,
       "grid_row": null,
       "grid_template_areas": null,
       "grid_template_columns": null,
       "grid_template_rows": null,
       "height": null,
       "justify_content": null,
       "justify_items": null,
       "left": null,
       "margin": null,
       "max_height": null,
       "max_width": null,
       "min_height": null,
       "min_width": null,
       "object_fit": null,
       "object_position": null,
       "order": null,
       "overflow": null,
       "overflow_x": null,
       "overflow_y": null,
       "padding": null,
       "right": null,
       "top": null,
       "visibility": null,
       "width": null
      }
     },
     "127701d3504f4a74ac211be4a9eebdef": {
      "model_module": "@jupyter-widgets/controls",
      "model_module_version": "1.5.0",
      "model_name": "HTMLModel",
      "state": {
       "_dom_classes": [],
       "_model_module": "@jupyter-widgets/controls",
       "_model_module_version": "1.5.0",
       "_model_name": "HTMLModel",
       "_view_count": null,
       "_view_module": "@jupyter-widgets/controls",
       "_view_module_version": "1.5.0",
       "_view_name": "HTMLView",
       "description": "",
       "description_tooltip": null,
       "layout": "IPY_MODEL_f3112877680a4822b9c9377ed4e5d33c",
       "placeholder": "​",
       "style": "IPY_MODEL_d2a45786b3274c7b85a414c239abd75d",
       "value": "<h4>binder-examples</h4>\n<h5><a href=\"https://github.com/binder-examples/jupyter-extension\">binder-examples/jupyter-extension</a></h5>\n<ul>\n<li><a href=\"https://github.com/binder-examples/jupyter-extension/issues/1\">(#1)</a>: <em>This example does not work with JupyterLab</em> by <strong><a href=\"https://github.com/fm75\">@fm75</a></strong></li>\n</ul>\n<h5><a href=\"https://github.com/binder-examples/multi-language-demo\">binder-examples/multi-language-demo</a></h5>\n<h5><a href=\"https://github.com/binder-examples/r\">binder-examples/r</a></h5>\n<ul>\n<li><a href=\"https://github.com/binder-examples/r/issues/9\">(#9)</a>: <em>Is there a way to set the R version?</em> by <strong><a href=\"https://github.com/cboettig\">@cboettig</a></strong></li>\n<li><a href=\"https://github.com/binder-examples/r/issues/11\">(#11)</a>: _ LICENSE?_ by <strong><a href=\"https://github.com/jzf2101\">@jzf2101</a></strong></li>\n</ul>\n<h5><a href=\"https://github.com/binder-examples/requirements\">binder-examples/requirements</a></h5>\n<ul>\n<li><a href=\"https://github.com/binder-examples/requirements/issues/7\">(#7)</a>: <em>Consider making repo a GitHub template repository</em> by <strong><a href=\"https://github.com/matthewfeickert\">@matthewfeickert</a></strong></li>\n</ul>"
      }
     },
     "13d59ca76d64403086907917e04ba9c7": {
      "model_module": "@jupyter-widgets/base",
      "model_module_version": "1.2.0",
      "model_name": "LayoutModel",
      "state": {
       "_model_module": "@jupyter-widgets/base",
       "_model_module_version": "1.2.0",
       "_model_name": "LayoutModel",
       "_view_count": null,
       "_view_module": "@jupyter-widgets/base",
       "_view_module_version": "1.2.0",
       "_view_name": "LayoutView",
       "align_content": null,
       "align_items": null,
       "align_self": null,
       "border": null,
       "bottom": null,
       "display": null,
       "flex": null,
       "flex_flow": null,
       "grid_area": null,
       "grid_auto_columns": null,
       "grid_auto_flow": null,
       "grid_auto_rows": null,
       "grid_column": null,
       "grid_gap": null,
       "grid_row": null,
       "grid_template_areas": null,
       "grid_template_columns": null,
       "grid_template_rows": null,
       "height": null,
       "justify_content": null,
       "justify_items": null,
       "left": null,
       "margin": null,
       "max_height": null,
       "max_width": null,
       "min_height": null,
       "min_width": null,
       "object_fit": null,
       "object_position": null,
       "order": null,
       "overflow": null,
       "overflow_x": null,
       "overflow_y": null,
       "padding": null,
       "right": null,
       "top": null,
       "visibility": null,
       "width": null
      }
     },
     "13e85ef0a1e6459b99ae253c5169c207": {
      "model_module": "@jupyter-widgets/controls",
      "model_module_version": "1.5.0",
      "model_name": "DescriptionStyleModel",
      "state": {
       "_model_module": "@jupyter-widgets/controls",
       "_model_module_version": "1.5.0",
       "_model_name": "DescriptionStyleModel",
       "_view_count": null,
       "_view_module": "@jupyter-widgets/base",
       "_view_module_version": "1.2.0",
       "_view_name": "StyleView",
       "description_width": ""
      }
     },
     "1af4f101cd8d4812a376d1ab33727b09": {
      "model_module": "@jupyter-widgets/controls",
      "model_module_version": "1.5.0",
      "model_name": "HTMLModel",
      "state": {
       "_dom_classes": [],
       "_model_module": "@jupyter-widgets/controls",
       "_model_module_version": "1.5.0",
       "_model_name": "HTMLModel",
       "_view_count": null,
       "_view_module": "@jupyter-widgets/controls",
       "_view_module_version": "1.5.0",
       "_view_name": "HTMLView",
       "description": "",
       "description_tooltip": null,
       "layout": "IPY_MODEL_b2a0240343bb4121b3eaeda37ea3291e",
       "placeholder": "​",
       "style": "IPY_MODEL_41522e3f78c946589f73c62431dc9e07",
       "value": "<center><p><a href=\"https://github.com/02JanDal\">02JanDal</a> | <a href=\"https://github.com/20v100\">20v100</a> | <a href=\"https://github.com/aamster\">aamster</a> | <a href=\"https://github.com/AaronWatters\">AaronWatters</a> | <a href=\"https://github.com/AdriaanRol\">AdriaanRol</a> | <a href=\"https://github.com/afshin\">afshin</a> | <a href=\"https://github.com/ajbozarth\">ajbozarth</a> | <a href=\"https://github.com/akchinSTC\">akchinSTC</a> | <a href=\"https://github.com/albertmichaelj\">albertmichaelj</a> | <a href=\"https://github.com/Albocoder\">Albocoder</a> | <a href=\"https://github.com/alemorm\">alemorm</a> | <a href=\"https://github.com/alienczf\">alienczf</a> | <a href=\"https://github.com/amalic\">amalic</a> | <a href=\"https://github.com/amashal\">amashal</a> | <a href=\"https://github.com/andreas-h\">andreas-h</a> | <a href=\"https://github.com/Anton-Velikodnyy\">Anton-Velikodnyy</a> | <a href=\"https://github.com/antvig\">antvig</a> | <a href=\"https://github.com/arogozhnikov\">arogozhnikov</a> | <a href=\"https://github.com/aromaticSesame\">aromaticSesame</a> | <a href=\"https://github.com/aschlaep\">aschlaep</a> | <a href=\"https://github.com/asteppke\">asteppke</a> | <a href=\"https://github.com/astroboylrx\">astroboylrx</a> | <a href=\"https://github.com/ba4ekiko1\">ba4ekiko1</a> | <a href=\"https://github.com/blink1073\">blink1073</a> | <a href=\"https://github.com/blois\">blois</a> | <a href=\"https://github.com/bmshouse\">bmshouse</a> | <a href=\"https://github.com/bmwilly\">bmwilly</a> | <a href=\"https://github.com/bobmayuze\">bobmayuze</a> | <a href=\"https://github.com/bollwyvl\">bollwyvl</a> | <a href=\"https://github.com/BrenBarn\">BrenBarn</a> | <a href=\"https://github.com/BrianChevalier\">BrianChevalier</a> | <a href=\"https://github.com/bruno-pinheiro\">bruno-pinheiro</a> | <a href=\"https://github.com/bshouse\">bshouse</a> | <a href=\"https://github.com/bumi001\">bumi001</a> | <a href=\"https://github.com/bw-space\">bw-space</a> | <a href=\"https://github.com/BXSuhelSingh\">BXSuhelSingh</a> | <a href=\"https://github.com/choldgraf\">choldgraf</a> | <a href=\"https://github.com/ChristopherEeles\">ChristopherEeles</a> | <a href=\"https://github.com/chwang1991\">chwang1991</a> | <a href=\"https://github.com/codydunne\">codydunne</a> | <a href=\"https://github.com/consideRatio\">consideRatio</a> | <a href=\"https://github.com/creative-resort\">creative-resort</a> | <a href=\"https://github.com/csevast\">csevast</a> | <a href=\"https://github.com/csis0247\">csis0247</a> | <a href=\"https://github.com/daejong123\">daejong123</a> | <a href=\"https://github.com/danieljunior\">danieljunior</a> | <a href=\"https://github.com/DavidNemeskey\">DavidNemeskey</a> | <a href=\"https://github.com/dchandan\">dchandan</a> | <a href=\"https://github.com/declanvk\">declanvk</a> | <a href=\"https://github.com/Deepak-Khandelwal\">Deepak-Khandelwal</a> | <a href=\"https://github.com/Deeptakshgupta\">Deeptakshgupta</a> | <a href=\"https://github.com/dependabot\">dependabot</a> | <a href=\"https://github.com/dhirschfeld\">dhirschfeld</a> | <a href=\"https://github.com/dkuegler\">dkuegler</a> | <a href=\"https://github.com/dmarth\">dmarth</a> | <a href=\"https://github.com/Dovermore\">Dovermore</a> | <a href=\"https://github.com/ds19991999\">ds19991999</a> | <a href=\"https://github.com/dturaev\">dturaev</a> | <a href=\"https://github.com/duarteocarmo\">duarteocarmo</a> | <a href=\"https://github.com/echyam\">echyam</a> | <a href=\"https://github.com/ellisonbg\">ellisonbg</a> | <a href=\"https://github.com/euanmacinnes\">euanmacinnes</a> | <a href=\"https://github.com/fcollonval\">fcollonval</a> | <a href=\"https://github.com/fdeheeger\">fdeheeger</a> | <a href=\"https://github.com/firasm\">firasm</a> | <a href=\"https://github.com/Freedomisgood\">Freedomisgood</a> | <a href=\"https://github.com/furkantektas\">furkantektas</a> | <a href=\"https://github.com/ggbhat\">ggbhat</a> | <a href=\"https://github.com/ggosiang\">ggosiang</a> | <a href=\"https://github.com/grisaitis\">grisaitis</a> | <a href=\"https://github.com/gsimenel\">gsimenel</a> | <a href=\"https://github.com/h-vetinari\">h-vetinari</a> | <a href=\"https://github.com/hantswilliams\">hantswilliams</a> | <a href=\"https://github.com/henrymj\">henrymj</a> | <a href=\"https://github.com/hiramf\">hiramf</a> | <a href=\"https://github.com/hoishing\">hoishing</a> | <a href=\"https://github.com/hoo761\">hoo761</a> | <a href=\"https://github.com/ian-r-rose\">ian-r-rose</a> | <a href=\"https://github.com/ianpdavies\">ianpdavies</a> | <a href=\"https://github.com/icks\">icks</a> | <a href=\"https://github.com/ieglonew01f\">ieglonew01f</a> | <a href=\"https://github.com/IMAM9AIS\">IMAM9AIS</a> | <a href=\"https://github.com/isabela-pf\">isabela-pf</a> | <a href=\"https://github.com/jacobtomlinson\">jacobtomlinson</a> | <a href=\"https://github.com/jagkagd\">jagkagd</a> | <a href=\"https://github.com/jaipreet-s\">jaipreet-s</a> | <a href=\"https://github.com/jamesdbrock\">jamesdbrock</a> | <a href=\"https://github.com/jameslao\">jameslao</a> | <a href=\"https://github.com/jasongrout\">jasongrout</a> | <a href=\"https://github.com/javag97\">javag97</a> | <a href=\"https://github.com/jbulow\">jbulow</a> | <a href=\"https://github.com/jhamet93\">jhamet93</a> | <a href=\"https://github.com/jtpio\">jtpio</a> | <a href=\"https://github.com/jwkvam\">jwkvam</a> | <a href=\"https://github.com/kanekalla\">kanekalla</a> | <a href=\"https://github.com/katsar0v\">katsar0v</a> | <a href=\"https://github.com/kavishdahekar\">kavishdahekar</a> | <a href=\"https://github.com/KedoKudo\">KedoKudo</a> | <a href=\"https://github.com/kfeinauer\">kfeinauer</a> | <a href=\"https://github.com/kgryte\">kgryte</a> | <a href=\"https://github.com/kmcmearty\">kmcmearty</a> | <a href=\"https://github.com/koliphan2\">koliphan2</a> | <a href=\"https://github.com/krassowski\">krassowski</a> | <a href=\"https://github.com/krvkir\">krvkir</a> | <a href=\"https://github.com/ktaletsk\">ktaletsk</a> | <a href=\"https://github.com/kyip-dev\">kyip-dev</a> | <a href=\"https://github.com/lbiemans\">lbiemans</a> | <a href=\"https://github.com/leo-filgueira\">leo-filgueira</a> | <a href=\"https://github.com/leonardoaraujosantos\">leonardoaraujosantos</a> | <a href=\"https://github.com/llinfeng\">llinfeng</a> | <a href=\"https://github.com/Losoly\">Losoly</a> | <a href=\"https://github.com/lucatrv\">lucatrv</a> | <a href=\"https://github.com/LukaPitamic\">LukaPitamic</a> | <a href=\"https://github.com/lydnguyen\">lydnguyen</a> | <a href=\"https://github.com/maartenbreddels\">maartenbreddels</a> | <a href=\"https://github.com/Madhu94\">Madhu94</a> | <a href=\"https://github.com/madsi1m\">madsi1m</a> | <a href=\"https://github.com/malramsay64\">malramsay64</a> | <a href=\"https://github.com/manycoding\">manycoding</a> | <a href=\"https://github.com/marctorrellas\">marctorrellas</a> | <a href=\"https://github.com/marwahaha\">marwahaha</a> | <a href=\"https://github.com/mbektasbbg\">mbektasbbg</a> | <a href=\"https://github.com/meeseeksdev\">meeseeksdev</a> | <a href=\"https://github.com/meetsitaram\">meetsitaram</a> | <a href=\"https://github.com/memeplex\">memeplex</a> | <a href=\"https://github.com/metya\">metya</a> | <a href=\"https://github.com/MichelCarroll\">MichelCarroll</a> | <a href=\"https://github.com/mlucool\">mlucool</a> | <a href=\"https://github.com/MMesch\">MMesch</a> | <a href=\"https://github.com/MonkeyDNoppu\">MonkeyDNoppu</a> | <a href=\"https://github.com/mshlis\">mshlis</a> | <a href=\"https://github.com/NahsiN\">NahsiN</a> | <a href=\"https://github.com/Nathan-Furnal\">Nathan-Furnal</a> | <a href=\"https://github.com/nathancarter\">nathancarter</a> | <a href=\"https://github.com/neighthan\">neighthan</a> | <a href=\"https://github.com/nickeubank\">nickeubank</a> | <a href=\"https://github.com/owen-synergy\">owen-synergy</a> | <a href=\"https://github.com/p-i-\">p-i-</a> | <a href=\"https://github.com/paedrik\">paedrik</a> | <a href=\"https://github.com/PalAditya\">PalAditya</a> | <a href=\"https://github.com/PremekPaska\">PremekPaska</a> | <a href=\"https://github.com/pybokeh\">pybokeh</a> | <a href=\"https://github.com/qjtongkai\">qjtongkai</a> | <a href=\"https://github.com/Quetzalcohuatl\">Quetzalcohuatl</a> | <a href=\"https://github.com/Queuecumber\">Queuecumber</a> | <a href=\"https://github.com/Rabeez\">Rabeez</a> | <a href=\"https://github.com/RcrdPhysics\">RcrdPhysics</a> | <a href=\"https://github.com/rd5802\">rd5802</a> | <a href=\"https://github.com/remborg\">remborg</a> | <a href=\"https://github.com/rjurney\">rjurney</a> | <a href=\"https://github.com/robnagler\">robnagler</a> | <a href=\"https://github.com/rohit2618\">rohit2618</a> | <a href=\"https://github.com/sahil-bansal-sb\">sahil-bansal-sb</a> | <a href=\"https://github.com/SaschaHeyer\">SaschaHeyer</a> | <a href=\"https://github.com/saulshanabrook\">saulshanabrook</a> | <a href=\"https://github.com/sccolbert\">sccolbert</a> | <a href=\"https://github.com/serengiti\">serengiti</a> | <a href=\"https://github.com/sfluo\">sfluo</a> | <a href=\"https://github.com/SgtPooki\">SgtPooki</a> | <a href=\"https://github.com/sleighsoft\">sleighsoft</a> | <a href=\"https://github.com/sntgluca\">sntgluca</a> | <a href=\"https://github.com/soerendip\">soerendip</a> | <a href=\"https://github.com/st-bender\">st-bender</a> | <a href=\"https://github.com/stefanv\">stefanv</a> | <a href=\"https://github.com/stefanvangastel\">stefanvangastel</a> | <a href=\"https://github.com/StevenLi-DS\">StevenLi-DS</a> | <a href=\"https://github.com/super-sebajin\">super-sebajin</a> | <a href=\"https://github.com/telamonian\">telamonian</a> | <a href=\"https://github.com/tgeorgeux\">tgeorgeux</a> | <a href=\"https://github.com/thbeh\">thbeh</a> | <a href=\"https://github.com/tiagopereira\">tiagopereira</a> | <a href=\"https://github.com/tibdex\">tibdex</a> | <a href=\"https://github.com/timkpaine\">timkpaine</a> | <a href=\"https://github.com/twrobinson\">twrobinson</a> | <a href=\"https://github.com/uddmorningsun\">uddmorningsun</a> | <a href=\"https://github.com/van-8\">van-8</a> | <a href=\"https://github.com/vidartf\">vidartf</a> | <a href=\"https://github.com/vnijs\">vnijs</a> | <a href=\"https://github.com/VolokzhaninVadim\">VolokzhaninVadim</a> | <a href=\"https://github.com/wesinator\">wesinator</a> | <a href=\"https://github.com/wikwok\">wikwok</a> | <a href=\"https://github.com/wiseyoungbuck\">wiseyoungbuck</a> | <a href=\"https://github.com/wolfv\">wolfv</a> | <a href=\"https://github.com/xiezhongfu\">xiezhongfu</a> | <a href=\"https://github.com/ybirajdar\">ybirajdar</a> | <a href=\"https://github.com/yunair\">yunair</a> | <a href=\"https://github.com/ywx649999311\">ywx649999311</a> | <a href=\"https://github.com/Zsailer\">Zsailer</a></p></center>"
      }
     },
     "1b56bbbb1ee64cb5b696704dd7a6b177": {
      "model_module": "@jupyter-widgets/base",
      "model_module_version": "1.2.0",
      "model_name": "LayoutModel",
      "state": {
       "_model_module": "@jupyter-widgets/base",
       "_model_module_version": "1.2.0",
       "_model_name": "LayoutModel",
       "_view_count": null,
       "_view_module": "@jupyter-widgets/base",
       "_view_module_version": "1.2.0",
       "_view_name": "LayoutView",
       "align_content": null,
       "align_items": null,
       "align_self": null,
       "border": null,
       "bottom": null,
       "display": null,
       "flex": null,
       "flex_flow": null,
       "grid_area": null,
       "grid_auto_columns": null,
       "grid_auto_flow": null,
       "grid_auto_rows": null,
       "grid_column": null,
       "grid_gap": null,
       "grid_row": null,
       "grid_template_areas": null,
       "grid_template_columns": null,
       "grid_template_rows": null,
       "height": null,
       "justify_content": null,
       "justify_items": null,
       "left": null,
       "margin": null,
       "max_height": null,
       "max_width": null,
       "min_height": null,
       "min_width": null,
       "object_fit": null,
       "object_position": null,
       "order": null,
       "overflow": null,
       "overflow_x": null,
       "overflow_y": null,
       "padding": null,
       "right": null,
       "top": null,
       "visibility": null,
       "width": null
      }
     },
     "26bd4542b3a642b0b88e0663ef4ac3d4": {
      "model_module": "@jupyter-widgets/controls",
      "model_module_version": "1.5.0",
      "model_name": "HTMLModel",
      "state": {
       "_dom_classes": [],
       "_model_module": "@jupyter-widgets/controls",
       "_model_module_version": "1.5.0",
       "_model_name": "HTMLModel",
       "_view_count": null,
       "_view_module": "@jupyter-widgets/controls",
       "_view_module_version": "1.5.0",
       "_view_name": "HTMLView",
       "description": "",
       "description_tooltip": null,
       "layout": "IPY_MODEL_cfd738a6335741b1ac1a6be271dfc2ae",
       "placeholder": "​",
       "style": "IPY_MODEL_926133d9f1e0414a971334113bb9ed4a",
       "value": "<h4>Closed PRs for org: <code>ipython</code></h4>\n<h5><a href=\"https://github.com/ipython/ipykernel\">ipython/ipykernel</a></h5>\n<ul>\n<li><a href=\"https://github.com/ipython/ipykernel/pull/437\">(#437)</a>: <em>Moved InProcessKernelClient.flush to DummySocket</em> by <strong><a href=\"https://github.com/Chilipp\">@Chilipp</a></strong> merged by <strong><a href=\"https://github.com/blink1073\">@blink1073</a></strong></li>\n<li><a href=\"https://github.com/ipython/ipykernel/pull/435\">(#435)</a>: <em>Set closed flag</em> by <strong><a href=\"https://github.com/impact27\">@impact27</a></strong> merged by <strong><a href=\"https://github.com/blink1073\">@blink1073</a></strong></li>\n<li><a href=\"https://github.com/ipython/ipykernel/pull/433\">(#433)</a>: <em>PR: Skip unregistering comm with destructor.</em> by <strong><a href=\"https://github.com/impact27\">@impact27</a></strong> merged by <strong><a href=\"https://github.com/blink1073\">@blink1073</a></strong></li>\n<li><a href=\"https://github.com/ipython/ipykernel/pull/431\">(#431)</a>: <em>Fix Heartbeat._bind_socket to return on the first successful bind.</em> by <strong><a href=\"https://github.com/mdickinson\">@mdickinson</a></strong> merged by <strong><a href=\"https://github.com/blink1073\">@blink1073</a></strong></li>\n<li><a href=\"https://github.com/ipython/ipykernel/pull/427\">(#427)</a>: <em>Don't redirect stdout if nose machinery is not present</em> by <strong><a href=\"https://github.com/edisongustavo\">@edisongustavo</a></strong> merged by <strong><a href=\"https://github.com/blink1073\">@blink1073</a></strong></li>\n</ul>\n<h5><a href=\"https://github.com/ipython/ipyparallel\">ipython/ipyparallel</a></h5>\n<ul>\n<li><a href=\"https://github.com/ipython/ipyparallel/pull/386\">(#386)</a>: <em>simplify subprocess capture now that we use pytest</em> by <strong><a href=\"https://github.com/minrk\">@minrk</a></strong> merged by <strong><a href=\"https://github.com/minrk\">@minrk</a></strong></li>\n<li><a href=\"https://github.com/ipython/ipyparallel/pull/385\">(#385)</a>: <em>importing joblib can raise TypeError on py38</em> by <strong><a href=\"https://github.com/minrk\">@minrk</a></strong> merged by <strong><a href=\"https://github.com/minrk\">@minrk</a></strong></li>\n<li><a href=\"https://github.com/ipython/ipyparallel/pull/382\">(#382)</a>: <em>update mocking for latest ipykernel</em> by <strong><a href=\"https://github.com/minrk\">@minrk</a></strong> merged by <strong><a href=\"https://github.com/minrk\">@minrk</a></strong></li>\n</ul>\n<h5><a href=\"https://github.com/ipython/ipython\">ipython/ipython</a></h5>\n<ul>\n<li><a href=\"https://github.com/ipython/ipython/pull/11874\">(#11874)</a>: <em>Fix for Python 4</em> by <strong><a href=\"https://github.com/hugovk\">@hugovk</a></strong> merged by <strong><a href=\"https://github.com/Carreau\">@Carreau</a></strong></li>\n</ul>"
      }
     },
     "2b27a28e6e2e42c69105ce32ce6d7da6": {
      "model_module": "@jupyter-widgets/base",
      "model_module_version": "1.2.0",
      "model_name": "LayoutModel",
      "state": {
       "_model_module": "@jupyter-widgets/base",
       "_model_module_version": "1.2.0",
       "_model_name": "LayoutModel",
       "_view_count": null,
       "_view_module": "@jupyter-widgets/base",
       "_view_module_version": "1.2.0",
       "_view_name": "LayoutView",
       "align_content": null,
       "align_items": null,
       "align_self": null,
       "border": null,
       "bottom": null,
       "display": null,
       "flex": null,
       "flex_flow": null,
       "grid_area": null,
       "grid_auto_columns": null,
       "grid_auto_flow": null,
       "grid_auto_rows": null,
       "grid_column": null,
       "grid_gap": null,
       "grid_row": null,
       "grid_template_areas": null,
       "grid_template_columns": null,
       "grid_template_rows": null,
       "height": null,
       "justify_content": null,
       "justify_items": null,
       "left": null,
       "margin": null,
       "max_height": null,
       "max_width": null,
       "min_height": null,
       "min_width": null,
       "object_fit": null,
       "object_position": null,
       "order": null,
       "overflow": null,
       "overflow_x": null,
       "overflow_y": null,
       "padding": null,
       "right": null,
       "top": null,
       "visibility": null,
       "width": null
      }
     },
     "2f753e5aa6314e809e1949bba888ee4a": {
      "model_module": "@jupyter-widgets/base",
      "model_module_version": "1.2.0",
      "model_name": "LayoutModel",
      "state": {
       "_model_module": "@jupyter-widgets/base",
       "_model_module_version": "1.2.0",
       "_model_name": "LayoutModel",
       "_view_count": null,
       "_view_module": "@jupyter-widgets/base",
       "_view_module_version": "1.2.0",
       "_view_name": "LayoutView",
       "align_content": null,
       "align_items": null,
       "align_self": null,
       "border": null,
       "bottom": null,
       "display": null,
       "flex": null,
       "flex_flow": null,
       "grid_area": null,
       "grid_auto_columns": null,
       "grid_auto_flow": null,
       "grid_auto_rows": null,
       "grid_column": null,
       "grid_gap": null,
       "grid_row": null,
       "grid_template_areas": null,
       "grid_template_columns": null,
       "grid_template_rows": null,
       "height": null,
       "justify_content": null,
       "justify_items": null,
       "left": null,
       "margin": null,
       "max_height": null,
       "max_width": null,
       "min_height": null,
       "min_width": null,
       "object_fit": null,
       "object_position": null,
       "order": null,
       "overflow": null,
       "overflow_x": null,
       "overflow_y": null,
       "padding": null,
       "right": null,
       "top": null,
       "visibility": null,
       "width": null
      }
     },
     "31f09b4c8aa54563ae778109294d0a04": {
      "model_module": "@jupyter-widgets/base",
      "model_module_version": "1.2.0",
      "model_name": "LayoutModel",
      "state": {
       "_model_module": "@jupyter-widgets/base",
       "_model_module_version": "1.2.0",
       "_model_name": "LayoutModel",
       "_view_count": null,
       "_view_module": "@jupyter-widgets/base",
       "_view_module_version": "1.2.0",
       "_view_name": "LayoutView",
       "align_content": null,
       "align_items": null,
       "align_self": null,
       "border": null,
       "bottom": null,
       "display": null,
       "flex": null,
       "flex_flow": null,
       "grid_area": null,
       "grid_auto_columns": null,
       "grid_auto_flow": null,
       "grid_auto_rows": null,
       "grid_column": null,
       "grid_gap": null,
       "grid_row": null,
       "grid_template_areas": null,
       "grid_template_columns": null,
       "grid_template_rows": null,
       "height": null,
       "justify_content": null,
       "justify_items": null,
       "left": null,
       "margin": null,
       "max_height": null,
       "max_width": null,
       "min_height": null,
       "min_width": null,
       "object_fit": null,
       "object_position": null,
       "order": null,
       "overflow": null,
       "overflow_x": null,
       "overflow_y": null,
       "padding": null,
       "right": null,
       "top": null,
       "visibility": null,
       "width": null
      }
     },
     "32442d65ea23443c8ec53db8aaf4a471": {
      "model_module": "@jupyter-widgets/base",
      "model_module_version": "1.2.0",
      "model_name": "LayoutModel",
      "state": {
       "_model_module": "@jupyter-widgets/base",
       "_model_module_version": "1.2.0",
       "_model_name": "LayoutModel",
       "_view_count": null,
       "_view_module": "@jupyter-widgets/base",
       "_view_module_version": "1.2.0",
       "_view_name": "LayoutView",
       "align_content": null,
       "align_items": null,
       "align_self": null,
       "border": null,
       "bottom": null,
       "display": null,
       "flex": null,
       "flex_flow": null,
       "grid_area": null,
       "grid_auto_columns": null,
       "grid_auto_flow": null,
       "grid_auto_rows": null,
       "grid_column": null,
       "grid_gap": null,
       "grid_row": null,
       "grid_template_areas": null,
       "grid_template_columns": null,
       "grid_template_rows": null,
       "height": null,
       "justify_content": null,
       "justify_items": null,
       "left": null,
       "margin": null,
       "max_height": null,
       "max_width": null,
       "min_height": null,
       "min_width": null,
       "object_fit": null,
       "object_position": null,
       "order": null,
       "overflow": null,
       "overflow_x": null,
       "overflow_y": null,
       "padding": null,
       "right": null,
       "top": null,
       "visibility": null,
       "width": null
      }
     },
     "371ffad44e2f44e29e9a258cde342f18": {
      "model_module": "@jupyter-widgets/controls",
      "model_module_version": "1.5.0",
      "model_name": "HTMLModel",
      "state": {
       "_dom_classes": [],
       "_model_module": "@jupyter-widgets/controls",
       "_model_module_version": "1.5.0",
       "_model_name": "HTMLModel",
       "_view_count": null,
       "_view_module": "@jupyter-widgets/controls",
       "_view_module_version": "1.5.0",
       "_view_name": "HTMLView",
       "description": "",
       "description_tooltip": null,
       "layout": "IPY_MODEL_31f09b4c8aa54563ae778109294d0a04",
       "placeholder": "​",
       "style": "IPY_MODEL_ada3218fbe114bd8a51492de62152ca2",
       "value": "<h4>Closed PRs for org: <code>jupyterhub</code></h4>\n<h5><a href=\"https://github.com/jupyterhub/batchspawner\">jupyterhub/batchspawner</a></h5>\n<ul>\n<li><a href=\"https://github.com/jupyterhub/batchspawner/pull/159\">(#159)</a>: <em>Fix test warnings</em> by <strong><a href=\"https://github.com/rkdarst\">@rkdarst</a></strong> merged by <strong><a href=\"https://github.com/willingc\">@willingc</a></strong></li>\n<li><a href=\"https://github.com/jupyterhub/batchspawner/pull/158\">(#158)</a>: <em>log.warn -&gt; log.warning</em> by <strong><a href=\"https://github.com/rkdarst\">@rkdarst</a></strong> merged by <strong><a href=\"https://github.com/willingc\">@willingc</a></strong></li>\n<li><a href=\"https://github.com/jupyterhub/batchspawner/pull/157\">(#157)</a>: <em>Split changelog to CHANGELOG.md</em> by <strong><a href=\"https://github.com/rkdarst\">@rkdarst</a></strong> merged by <strong><a href=\"https://github.com/willingc\">@willingc</a></strong></li>\n</ul>\n<h5><a href=\"https://github.com/jupyterhub/jupyter-server-proxy\">jupyterhub/jupyter-server-proxy</a></h5>\n<ul>\n<li><a href=\"https://github.com/jupyterhub/jupyter-server-proxy/pull/148\">(#148)</a>: <em>Add code-server-traitlet example.</em> by <strong><a href=\"https://github.com/ryanlovett\">@ryanlovett</a></strong> merged by <strong><a href=\"https://github.com/betatim\">@betatim</a></strong></li>\n</ul>\n<h5><a href=\"https://github.com/jupyterhub/jupyterhub\">jupyterhub/jupyterhub</a></h5>\n<ul>\n<li><a href=\"https://github.com/jupyterhub/jupyterhub/pull/2752\">(#2752)</a>: <em>Log JupyterHub version on startup</em> by <strong><a href=\"https://github.com/consideRatio\">@consideRatio</a></strong> merged by <strong><a href=\"https://github.com/minrk\">@minrk</a></strong></li>\n<li><a href=\"https://github.com/jupyterhub/jupyterhub/pull/2751\">(#2751)</a>: <em>Reduce verbosity for \"Failing suspected API request to not-running server\" (new)</em> by <strong><a href=\"https://github.com/rkdarst\">@rkdarst</a></strong> merged by <strong><a href=\"https://github.com/minrk\">@minrk</a></strong></li>\n<li><a href=\"https://github.com/jupyterhub/jupyterhub/pull/2750\">(#2750)</a>: <em>wait for proxy before accepting requests</em> by <strong><a href=\"https://github.com/minrk\">@minrk</a></strong> merged by <strong><a href=\"https://github.com/consideRatio\">@consideRatio</a></strong></li>\n<li><a href=\"https://github.com/jupyterhub/jupyterhub/pull/2744\">(#2744)</a>: <em>Add missing package for json schema doc build</em> by <strong><a href=\"https://github.com/willingc\">@willingc</a></strong> merged by <strong><a href=\"https://github.com/willingc\">@willingc</a></strong></li>\n<li><a href=\"https://github.com/jupyterhub/jupyterhub/pull/2743\">(#2743)</a>: <em>blacklist urllib3 versions with encoding bug</em> by <strong><a href=\"https://github.com/minrk\">@minrk</a></strong> merged by <strong><a href=\"https://github.com/minrk\">@minrk</a></strong></li>\n<li><a href=\"https://github.com/jupyterhub/jupyterhub/pull/2740\">(#2740)</a>: <em>Remove tornado deprecated/unnecessary AsyncIOMainLoop().install() call</em> by <strong><a href=\"https://github.com/kinow\">@kinow</a></strong> merged by <strong><a href=\"https://github.com/minrk\">@minrk</a></strong></li>\n<li><a href=\"https://github.com/jupyterhub/jupyterhub/pull/2739\">(#2739)</a>: <em>Fix deprecated call and true comparison</em> by <strong><a href=\"https://github.com/kinow\">@kinow</a></strong> merged by <strong><a href=\"https://github.com/minrk\">@minrk</a></strong></li>\n<li><a href=\"https://github.com/jupyterhub/jupyterhub/pull/2736\">(#2736)</a>: <em>Remove duplicate hub and authenticator traitlets from Spawner</em> by <strong><a href=\"https://github.com/eslavich\">@eslavich</a></strong> merged by <strong><a href=\"https://github.com/GeorgianaElena\">@GeorgianaElena</a></strong></li>\n<li><a href=\"https://github.com/jupyterhub/jupyterhub/pull/2735\">(#2735)</a>: <em>Non empty default server names (useful for profiles?)</em> by <strong><a href=\"https://github.com/krinsman\">@krinsman</a></strong> merged by <strong><a href=\"https://github.com/minrk\">@minrk</a></strong></li>\n<li><a href=\"https://github.com/jupyterhub/jupyterhub/pull/2725\">(#2725)</a>: <em>Update issue template</em> by <strong><a href=\"https://github.com/willingc\">@willingc</a></strong> merged by <strong><a href=\"https://github.com/willingc\">@willingc</a></strong></li>\n<li><a href=\"https://github.com/jupyterhub/jupyterhub/pull/2723\">(#2723)</a>: <em>Use autodoc-traits sphinx extension</em> by <strong><a href=\"https://github.com/willingc\">@willingc</a></strong> merged by <strong><a href=\"https://github.com/minrk\">@minrk</a></strong></li>\n<li><a href=\"https://github.com/jupyterhub/jupyterhub/pull/2721\">(#2721)</a>: <em>Add JupyterHub.init_spawners_timeout</em> by <strong><a href=\"https://github.com/minrk\">@minrk</a></strong> merged by <strong><a href=\"https://github.com/minrk\">@minrk</a></strong></li>\n<li><a href=\"https://github.com/jupyterhub/jupyterhub/pull/2714\">(#2714)</a>: <em>Add New Server: change redirecting to relative to home page in js</em> by <strong><a href=\"https://github.com/bitnik\">@bitnik</a></strong> merged by <strong><a href=\"https://github.com/minrk\">@minrk</a></strong></li>\n<li><a href=\"https://github.com/jupyterhub/jupyterhub/pull/2712\">(#2712)</a>: <em>ORM: allow removed MySQL variables to not exist</em> by <strong><a href=\"https://github.com/chicocvenancio\">@chicocvenancio</a></strong> merged by <strong><a href=\"https://github.com/minrk\">@minrk</a></strong></li>\n<li><a href=\"https://github.com/jupyterhub/jupyterhub/pull/2705\">(#2705)</a>: <em>Reset _jupyterhub_user after login cookie cleared</em> by <strong><a href=\"https://github.com/aar0nTw\">@aar0nTw</a></strong> merged by <strong><a href=\"https://github.com/minrk\">@minrk</a></strong></li>\n<li><a href=\"https://github.com/jupyterhub/jupyterhub/pull/2698\">(#2698)</a>: <em>Instrument JupyterHub to record events with jupyter_telemetry [Part II]</em> by <strong><a href=\"https://github.com/Zsailer\">@Zsailer</a></strong> merged by <strong><a href=\"https://github.com/minrk\">@minrk</a></strong></li>\n</ul>\n<h5><a href=\"https://github.com/jupyterhub/jupyterhub-the-hard-way\">jupyterhub/jupyterhub-the-hard-way</a></h5>\n<ul>\n<li><a href=\"https://github.com/jupyterhub/jupyterhub-the-hard-way/pull/8\">(#8)</a>: <em>add standard concepts and extend your learning sections</em> by <strong><a href=\"https://github.com/willingc\">@willingc</a></strong> merged by <strong><a href=\"https://github.com/willingc\">@willingc</a></strong></li>\n<li><a href=\"https://github.com/jupyterhub/jupyterhub-the-hard-way/pull/7\">(#7)</a>: <em>Add detail to configuration lab</em> by <strong><a href=\"https://github.com/willingc\">@willingc</a></strong> merged by <strong><a href=\"https://github.com/willingc\">@willingc</a></strong></li>\n<li><a href=\"https://github.com/jupyterhub/jupyterhub-the-hard-way/pull/6\">(#6)</a>: <em>add auth lab and cleanup lab</em> by <strong><a href=\"https://github.com/willingc\">@willingc</a></strong> merged by <strong><a href=\"https://github.com/willingc\">@willingc</a></strong></li>\n<li><a href=\"https://github.com/jupyterhub/jupyterhub-the-hard-way/pull/5\">(#5)</a>: <em>Add traefik lab and HTTPS lab</em> by <strong><a href=\"https://github.com/willingc\">@willingc</a></strong> merged by <strong><a href=\"https://github.com/willingc\">@willingc</a></strong></li>\n<li><a href=\"https://github.com/jupyterhub/jupyterhub-the-hard-way/pull/4\">(#4)</a>: <em>clarify defaults for hub and add spawner lab</em> by <strong><a href=\"https://github.com/willingc\">@willingc</a></strong> merged by <strong><a href=\"https://github.com/willingc\">@willingc</a></strong></li>\n<li><a href=\"https://github.com/jupyterhub/jupyterhub-the-hard-way/pull/3\">(#3)</a>: <em>Add draft step on config file and admin ui</em> by <strong><a href=\"https://github.com/willingc\">@willingc</a></strong> merged by <strong><a href=\"https://github.com/willingc\">@willingc</a></strong></li>\n<li><a href=\"https://github.com/jupyterhub/jupyterhub-the-hard-way/pull/2\">(#2)</a>: <em>Move notes to section 3 Starting the Hub</em> by <strong><a href=\"https://github.com/willingc\">@willingc</a></strong> merged by <strong><a href=\"https://github.com/willingc\">@willingc</a></strong></li>\n<li><a href=\"https://github.com/jupyterhub/jupyterhub-the-hard-way/pull/1\">(#1)</a>: <em>Add repo structure for tutorial</em> by <strong><a href=\"https://github.com/willingc\">@willingc</a></strong> merged by <strong><a href=\"https://github.com/willingc\">@willingc</a></strong></li>\n</ul>\n<h5><a href=\"https://github.com/jupyterhub/kubespawner\">jupyterhub/kubespawner</a></h5>\n<ul>\n<li><a href=\"https://github.com/jupyterhub/kubespawner/pull/353\">(#353)</a>: <em>Update SETUP.md instructions to match current state of JupyterHub</em> by <strong><a href=\"https://github.com/yuvipanda\">@yuvipanda</a></strong> merged by <strong><a href=\"https://github.com/betatim\">@betatim</a></strong></li>\n</ul>\n<h5><a href=\"https://github.com/jupyterhub/mybinder.org-deploy\">jupyterhub/mybinder.org-deploy</a></h5>\n<ul>\n<li><a href=\"https://github.com/jupyterhub/mybinder.org-deploy/pull/1182\">(#1182)</a>: <em>Increase the weight of OVH</em> by <strong><a href=\"https://github.com/betatim\">@betatim</a></strong> merged by <strong><a href=\"https://github.com/betatim\">@betatim</a></strong></li>\n<li><a href=\"https://github.com/jupyterhub/mybinder.org-deploy/pull/1181\">(#1181)</a>: <em>Enable sticky builds on GKE</em> by <strong><a href=\"https://github.com/betatim\">@betatim</a></strong> merged by <strong><a href=\"https://github.com/betatim\">@betatim</a></strong></li>\n<li><a href=\"https://github.com/jupyterhub/mybinder.org-deploy/pull/1178\">(#1178)</a>: <em>Enable sticky builds and increase quota on OVH</em> by <strong><a href=\"https://github.com/betatim\">@betatim</a></strong> merged by <strong><a href=\"https://github.com/betatim\">@betatim</a></strong></li>\n<li><a href=\"https://github.com/jupyterhub/mybinder.org-deploy/pull/1177\">(#1177)</a>: <em>Enable sticky builds on staging</em> by <strong><a href=\"https://github.com/betatim\">@betatim</a></strong> merged by <strong><a href=\"https://github.com/betatim\">@betatim</a></strong></li>\n<li><a href=\"https://github.com/jupyterhub/mybinder.org-deploy/pull/1174\">(#1174)</a>: <em>Increase OVH quota</em> by <strong><a href=\"https://github.com/betatim\">@betatim</a></strong> merged by <strong><a href=\"https://github.com/betatim\">@betatim</a></strong></li>\n<li><a href=\"https://github.com/jupyterhub/mybinder.org-deploy/pull/1165\">(#1165)</a>: <em>Revert \"repo2docker: 0.10.0-59.g649a2c6...0.10.0-78.gbfbec34\"</em> by <strong><a href=\"https://github.com/betatim\">@betatim</a></strong> merged by <strong><a href=\"https://github.com/betatim\">@betatim</a></strong></li>\n<li><a href=\"https://github.com/jupyterhub/mybinder.org-deploy/pull/1163\">(#1163)</a>: <em>[ISSUE-1160] Switching on ovh traffic</em> by <strong><a href=\"https://github.com/mael-le-gal\">@mael-le-gal</a></strong> merged by <strong><a href=\"https://github.com/choldgraf\">@choldgraf</a></strong></li>\n<li><a href=\"https://github.com/jupyterhub/mybinder.org-deploy/pull/1161\">(#1161)</a>: <em>[ISSUE-1160] Switching off ovh traffic</em> by <strong><a href=\"https://github.com/mael-le-gal\">@mael-le-gal</a></strong> merged by <strong><a href=\"https://github.com/choldgraf\">@choldgraf</a></strong></li>\n<li><a href=\"https://github.com/jupyterhub/mybinder.org-deploy/pull/1159\">(#1159)</a>: <em>Trust X-Forwarded-For headers in the redirector</em> by <strong><a href=\"https://github.com/betatim\">@betatim</a></strong> merged by <strong><a href=\"https://github.com/betatim\">@betatim</a></strong></li>\n<li><a href=\"https://github.com/jupyterhub/mybinder.org-deploy/pull/1158\">(#1158)</a>: <em>Increase OVH capacity</em> by <strong><a href=\"https://github.com/betatim\">@betatim</a></strong> merged by <strong><a href=\"https://github.com/betatim\">@betatim</a></strong></li>\n<li><a href=\"https://github.com/jupyterhub/mybinder.org-deploy/pull/1155\">(#1155)</a>: <em>[MRG] Add sgibson91 to the list of people with the keys</em> by <strong><a href=\"https://github.com/betatim\">@betatim</a></strong> merged by <strong><a href=\"https://github.com/sgibson91\">@sgibson91</a></strong></li>\n<li><a href=\"https://github.com/jupyterhub/mybinder.org-deploy/pull/1150\">(#1150)</a>: <em>Send 1% of traffic to gesis</em> by <strong><a href=\"https://github.com/betatim\">@betatim</a></strong> merged by <strong><a href=\"https://github.com/betatim\">@betatim</a></strong></li>\n<li><a href=\"https://github.com/jupyterhub/mybinder.org-deploy/pull/1145\">(#1145)</a>: <em>Federation proxy, consider capacity when picking a target</em> by <strong><a href=\"https://github.com/bitnik\">@bitnik</a></strong> merged by <strong><a href=\"https://github.com/betatim\">@betatim</a></strong></li>\n</ul>\n<h5><a href=\"https://github.com/jupyterhub/nbgitpuller\">jupyterhub/nbgitpuller</a></h5>\n<ul>\n<li><a href=\"https://github.com/jupyterhub/nbgitpuller/pull/105\">(#105)</a>: <em>Bump version number</em> by <strong><a href=\"https://github.com/yuvipanda\">@yuvipanda</a></strong> merged by <strong><a href=\"https://github.com/yuvipanda\">@yuvipanda</a></strong></li>\n<li><a href=\"https://github.com/jupyterhub/nbgitpuller/pull/104\">(#104)</a>: <em>Set authorship info on each commit, rather than repo-wide</em> by <strong><a href=\"https://github.com/yuvipanda\">@yuvipanda</a></strong> merged by <strong><a href=\"https://github.com/ryanlovett\">@ryanlovett</a></strong></li>\n</ul>\n<h5><a href=\"https://github.com/jupyterhub/team-compass\">jupyterhub/team-compass</a></h5>\n<ul>\n<li><a href=\"https://github.com/jupyterhub/team-compass/pull/210\">(#210)</a>: <em>fixing google groups link</em> by <strong><a href=\"https://github.com/choldgraf\">@choldgraf</a></strong> merged by <strong><a href=\"https://github.com/choldgraf\">@choldgraf</a></strong></li>\n</ul>\n<h5><a href=\"https://github.com/jupyterhub/the-littlest-jupyterhub\">jupyterhub/the-littlest-jupyterhub</a></h5>\n<ul>\n<li><a href=\"https://github.com/jupyterhub/the-littlest-jupyterhub/pull/435\">(#435)</a>: <em>Disable ProtectHome=tmpfs</em> by <strong><a href=\"https://github.com/GeorgianaElena\">@GeorgianaElena</a></strong> merged by <strong><a href=\"https://github.com/minrk\">@minrk</a></strong></li>\n<li><a href=\"https://github.com/jupyterhub/the-littlest-jupyterhub/pull/423\">(#423)</a>: <em>Fix failing conda tests</em> by <strong><a href=\"https://github.com/GeorgianaElena\">@GeorgianaElena</a></strong> merged by <strong><a href=\"https://github.com/yuvipanda\">@yuvipanda</a></strong></li>\n<li><a href=\"https://github.com/jupyterhub/the-littlest-jupyterhub/pull/421\">(#421)</a>: <em>fixed typo in key pair section</em> by <strong><a href=\"https://github.com/ptcane\">@ptcane</a></strong> merged by <strong><a href=\"https://github.com/yuvipanda\">@yuvipanda</a></strong></li>\n</ul>\n<h5><a href=\"https://github.com/jupyterhub/traefik-proxy\">jupyterhub/traefik-proxy</a></h5>\n<ul>\n<li><a href=\"https://github.com/jupyterhub/traefik-proxy/pull/80\">(#80)</a>: <em>Add info about TraefikConsulProxy in readme</em> by <strong><a href=\"https://github.com/GeorgianaElena\">@GeorgianaElena</a></strong> merged by <strong><a href=\"https://github.com/GeorgianaElena\">@GeorgianaElena</a></strong></li>\n<li><a href=\"https://github.com/jupyterhub/traefik-proxy/pull/79\">(#79)</a>: <em>Stop assuming kv_traefik_prefix ends with a slash</em> by <strong><a href=\"https://github.com/GeorgianaElena\">@GeorgianaElena</a></strong> merged by <strong><a href=\"https://github.com/minrk\">@minrk</a></strong></li>\n<li><a href=\"https://github.com/jupyterhub/traefik-proxy/pull/77\">(#77)</a>: <em>Log info about what dynamic config file it's used by the Hub</em> by <strong><a href=\"https://github.com/GeorgianaElena\">@GeorgianaElena</a></strong> merged by <strong><a href=\"https://github.com/minrk\">@minrk</a></strong></li>\n<li><a href=\"https://github.com/jupyterhub/traefik-proxy/pull/76\">(#76)</a>: <em>Install script</em> by <strong><a href=\"https://github.com/GeorgianaElena\">@GeorgianaElena</a></strong> merged by <strong><a href=\"https://github.com/minrk\">@minrk</a></strong></li>\n<li><a href=\"https://github.com/jupyterhub/traefik-proxy/pull/75\">(#75)</a>: <em>Set defaults for traefik api username and password</em> by <strong><a href=\"https://github.com/GeorgianaElena\">@GeorgianaElena</a></strong> merged by <strong><a href=\"https://github.com/minrk\">@minrk</a></strong></li>\n</ul>\n<h5><a href=\"https://github.com/jupyterhub/zero-to-jupyterhub-k8s\">jupyterhub/zero-to-jupyterhub-k8s</a></h5>\n<ul>\n<li><a href=\"https://github.com/jupyterhub/zero-to-jupyterhub-k8s/pull/1409\">(#1409)</a>: <em>Allow user scheduler policy to be adjusted</em> by <strong><a href=\"https://github.com/yuvipanda\">@yuvipanda</a></strong> merged by <strong><a href=\"https://github.com/consideRatio\">@consideRatio</a></strong></li>\n<li><a href=\"https://github.com/jupyterhub/zero-to-jupyterhub-k8s/pull/1404\">(#1404)</a>: <em>Bugfix for proxy upgrade strategy pr #1401</em> by <strong><a href=\"https://github.com/consideRatio\">@consideRatio</a></strong> merged by <strong><a href=\"https://github.com/consideRatio\">@consideRatio</a></strong></li>\n<li><a href=\"https://github.com/jupyterhub/zero-to-jupyterhub-k8s/pull/1401\">(#1401)</a>: <em>Recreate as CHP proxy pod's deployment strategy</em> by <strong><a href=\"https://github.com/consideRatio\">@consideRatio</a></strong> merged by <strong><a href=\"https://github.com/consideRatio\">@consideRatio</a></strong></li>\n<li><a href=\"https://github.com/jupyterhub/zero-to-jupyterhub-k8s/pull/1388\">(#1388)</a>: <em>Ignore venv files</em> by <strong><a href=\"https://github.com/GeorgianaElena\">@GeorgianaElena</a></strong> merged by <strong><a href=\"https://github.com/consideRatio\">@consideRatio</a></strong></li>\n<li><a href=\"https://github.com/jupyterhub/zero-to-jupyterhub-k8s/pull/1382\">(#1382)</a>: <em>Added example for populating notebook user home directory</em> by <strong><a href=\"https://github.com/gareth-j\">@gareth-j</a></strong> merged by <strong><a href=\"https://github.com/betatim\">@betatim</a></strong></li>\n</ul>"
      }
     },
     "37c91f2a1c5040b3868aef8ec74ef7eb": {
      "model_module": "@jupyter-widgets/controls",
      "model_module_version": "1.5.0",
      "model_name": "DescriptionStyleModel",
      "state": {
       "_model_module": "@jupyter-widgets/controls",
       "_model_module_version": "1.5.0",
       "_model_name": "DescriptionStyleModel",
       "_view_count": null,
       "_view_module": "@jupyter-widgets/base",
       "_view_module_version": "1.2.0",
       "_view_name": "StyleView",
       "description_width": ""
      }
     },
     "38902c9189ad4fae8df05c51e3111159": {
      "model_module": "@jupyter-widgets/controls",
      "model_module_version": "1.5.0",
      "model_name": "HTMLModel",
      "state": {
       "_dom_classes": [],
       "_model_module": "@jupyter-widgets/controls",
       "_model_module_version": "1.5.0",
       "_model_name": "HTMLModel",
       "_view_count": null,
       "_view_module": "@jupyter-widgets/controls",
       "_view_module_version": "1.5.0",
       "_view_name": "HTMLView",
       "description": "",
       "description_tooltip": null,
       "layout": "IPY_MODEL_3a6b0cb852254e49b1d7ccd70bc715d0",
       "placeholder": "​",
       "style": "IPY_MODEL_37c91f2a1c5040b3868aef8ec74ef7eb",
       "value": "<center><p><a href=\"https://github.com/0anton\">0anton</a> | <a href=\"https://github.com/0x0L\">0x0L</a> | <a href=\"https://github.com/0xfeedbac\">0xfeedbac</a> | <a href=\"https://github.com/alexmojaki\">alexmojaki</a> | <a href=\"https://github.com/archenroot\">archenroot</a> | <a href=\"https://github.com/Aref-cs\">Aref-cs</a> | <a href=\"https://github.com/asmeurer\">asmeurer</a> | <a href=\"https://github.com/bergtholdt\">bergtholdt</a> | <a href=\"https://github.com/bernhard-42\">bernhard-42</a> | <a href=\"https://github.com/BLaurent\">BLaurent</a> | <a href=\"https://github.com/blink1073\">blink1073</a> | <a href=\"https://github.com/BrenBarn\">BrenBarn</a> | <a href=\"https://github.com/Carreau\">Carreau</a> | <a href=\"https://github.com/cc-a\">cc-a</a> | <a href=\"https://github.com/ccordoba12\">ccordoba12</a> | <a href=\"https://github.com/cerberusdevops\">cerberusdevops</a> | <a href=\"https://github.com/cerodell\">cerodell</a> | <a href=\"https://github.com/Chilipp\">Chilipp</a> | <a href=\"https://github.com/daharn\">daharn</a> | <a href=\"https://github.com/dobos\">dobos</a> | <a href=\"https://github.com/DrAmygdala\">DrAmygdala</a> | <a href=\"https://github.com/edisongustavo\">edisongustavo</a> | <a href=\"https://github.com/eranhirs\">eranhirs</a> | <a href=\"https://github.com/GNSharmaa\">GNSharmaa</a> | <a href=\"https://github.com/histed\">histed</a> | <a href=\"https://github.com/hugovk\">hugovk</a> | <a href=\"https://github.com/impact27\">impact27</a> | <a href=\"https://github.com/isaacovercast\">isaacovercast</a> | <a href=\"https://github.com/ItaloPerez2019\">ItaloPerez2019</a> | <a href=\"https://github.com/jeffheaton\">jeffheaton</a> | <a href=\"https://github.com/jhayes-py\">jhayes-py</a> | <a href=\"https://github.com/katsar0v\">katsar0v</a> | <a href=\"https://github.com/kevin-bates\">kevin-bates</a> | <a href=\"https://github.com/Khushu06\">Khushu06</a> | <a href=\"https://github.com/LucianaMarques\">LucianaMarques</a> | <a href=\"https://github.com/mdickinson\">mdickinson</a> | <a href=\"https://github.com/mfh92\">mfh92</a> | <a href=\"https://github.com/mhsekhavat\">mhsekhavat</a> | <a href=\"https://github.com/minrk\">minrk</a> | <a href=\"https://github.com/miss1997yuan\">miss1997yuan</a> | <a href=\"https://github.com/ndeeds\">ndeeds</a> | <a href=\"https://github.com/Notgnoshi\">Notgnoshi</a> | <a href=\"https://github.com/patricknraanes\">patricknraanes</a> | <a href=\"https://github.com/pauldmccarthy\">pauldmccarthy</a> | <a href=\"https://github.com/QinHuannet\">QinHuannet</a> | <a href=\"https://github.com/Rafiqul10\">Rafiqul10</a> | <a href=\"https://github.com/reesehopkins\">reesehopkins</a> | <a href=\"https://github.com/rmorshea\">rmorshea</a> | <a href=\"https://github.com/royreznik\">royreznik</a> | <a href=\"https://github.com/schneiderfelipe\">schneiderfelipe</a> | <a href=\"https://github.com/shivendra90\">shivendra90</a> | <a href=\"https://github.com/Stannislav\">Stannislav</a> | <a href=\"https://github.com/stevenleeS0ht\">stevenleeS0ht</a> | <a href=\"https://github.com/sun-te\">sun-te</a> | <a href=\"https://github.com/SylvainCorlay\">SylvainCorlay</a> | <a href=\"https://github.com/tacaswell\">tacaswell</a> | <a href=\"https://github.com/telamonian\">telamonian</a> | <a href=\"https://github.com/timokau\">timokau</a> | <a href=\"https://github.com/vainaijr\">vainaijr</a> | <a href=\"https://github.com/xenohunter\">xenohunter</a> | <a href=\"https://github.com/Zsailer\">Zsailer</a></p></center>"
      }
     },
     "38b30b2a2c684fe6b8e8ffc660f24b7e": {
      "model_module": "@jupyter-widgets/controls",
      "model_module_version": "1.5.0",
      "model_name": "HTMLModel",
      "state": {
       "_dom_classes": [],
       "_model_module": "@jupyter-widgets/controls",
       "_model_module_version": "1.5.0",
       "_model_name": "HTMLModel",
       "_view_count": null,
       "_view_module": "@jupyter-widgets/controls",
       "_view_module_version": "1.5.0",
       "_view_name": "HTMLView",
       "description": "",
       "description_tooltip": null,
       "layout": "IPY_MODEL_fd7a44b90ffe4a6b88829869119fda71",
       "placeholder": "​",
       "style": "IPY_MODEL_8b3e7498ffbe432b84849dc4479cfc32",
       "value": "<h4>Closed PRs for org: <code>binder-examples</code></h4>\n<h5><a href=\"https://github.com/binder-examples/jupyter-extension\">binder-examples/jupyter-extension</a></h5>\n<ul>\n<li><a href=\"https://github.com/binder-examples/jupyter-extension/pull/2\">(#2)</a>: <em>Patch jlab</em> by <strong><a href=\"https://github.com/fm75\">@fm75</a></strong> merged by <strong><a href=\"https://github.com/choldgraf\">@choldgraf</a></strong></li>\n</ul>\n<h5><a href=\"https://github.com/binder-examples/multi-language-demo\">binder-examples/multi-language-demo</a></h5>\n<ul>\n<li><a href=\"https://github.com/binder-examples/multi-language-demo/pull/6\">(#6)</a>: <em>Updated Julia notebook to run Julia 1.0.</em> by <strong><a href=\"https://github.com/NHDaly\">@NHDaly</a></strong> merged by <strong><a href=\"https://github.com/betatim\">@betatim</a></strong></li>\n<li><a href=\"https://github.com/binder-examples/multi-language-demo/pull/5\">(#5)</a>: <em>Removed axes() because not defined</em> by <strong><a href=\"https://github.com/hdrake\">@hdrake</a></strong> merged by <strong><a href=\"https://github.com/betatim\">@betatim</a></strong></li>\n</ul>\n<h5><a href=\"https://github.com/binder-examples/r\">binder-examples/r</a></h5>\n<ul>\n<li><a href=\"https://github.com/binder-examples/r/pull/24\">(#24)</a>: <em>Added some tips about necessary files (.ipynb), R version, and URL</em> by <strong><a href=\"https://github.com/pablobernabeu\">@pablobernabeu</a></strong> merged by <strong><a href=\"https://github.com/choldgraf\">@choldgraf</a></strong></li>\n</ul>"
      }
     },
     "39afb8ced9324b1d9990750361684040": {
      "model_module": "@jupyter-widgets/controls",
      "model_module_version": "1.5.0",
      "model_name": "HTMLModel",
      "state": {
       "_dom_classes": [],
       "_model_module": "@jupyter-widgets/controls",
       "_model_module_version": "1.5.0",
       "_model_name": "HTMLModel",
       "_view_count": null,
       "_view_module": "@jupyter-widgets/controls",
       "_view_module_version": "1.5.0",
       "_view_name": "HTMLView",
       "description": "",
       "description_tooltip": null,
       "layout": "IPY_MODEL_be44f299531c4d40a4c4ddbba4f730d8",
       "placeholder": "​",
       "style": "IPY_MODEL_91614bf1842743e9980f2b5f2352e6e6",
       "value": "<h4>Closed PRs for org: <code>jupyter</code></h4>\n<h5><a href=\"https://github.com/jupyter/docker-stacks\">jupyter/docker-stacks</a></h5>\n<ul>\n<li><a href=\"https://github.com/jupyter/docker-stacks/pull/937\">(#937)</a>: <em>Address updating base notebook to jupyterlab 1.1.3</em> by <strong><a href=\"https://github.com/playermanny2\">@playermanny2</a></strong> merged by <strong><a href=\"https://github.com/parente\">@parente</a></strong></li>\n<li><a href=\"https://github.com/jupyter/docker-stacks/pull/930\">(#930)</a>: <em>Bump Julia to 1.2.0</em> by <strong><a href=\"https://github.com/arnavs\">@arnavs</a></strong> merged by <strong><a href=\"https://github.com/parente\">@parente</a></strong></li>\n</ul>\n<h5><a href=\"https://github.com/jupyter/enterprise_gateway\">jupyter/enterprise_gateway</a></h5>\n<ul>\n<li><a href=\"https://github.com/jupyter/enterprise_gateway/pull/730\">(#730)</a>: <em>Update index.rst</em> by <strong><a href=\"https://github.com/MichelleUfford\">@MichelleUfford</a></strong> merged by <strong><a href=\"https://github.com/kevin-bates\">@kevin-bates</a></strong></li>\n<li><a href=\"https://github.com/jupyter/enterprise_gateway/pull/728\">(#728)</a>: <em>Add notebook 6 content to NB2KG section</em> by <strong><a href=\"https://github.com/kevin-bates\">@kevin-bates</a></strong> merged by <strong><a href=\"https://github.com/lresende\">@lresende</a></strong></li>\n<li><a href=\"https://github.com/jupyter/enterprise_gateway/pull/727\">(#727)</a>: <em>Add support for traefik ingress</em> by <strong><a href=\"https://github.com/kevin-bates\">@kevin-bates</a></strong> merged by <strong><a href=\"https://github.com/kevin-bates\">@kevin-bates</a></strong></li>\n<li><a href=\"https://github.com/jupyter/enterprise_gateway/pull/725\">(#725)</a>: <em>fix: AttributeError: module 'signal' has no attribute 'SIGHUP'</em> by <strong><a href=\"https://github.com/dkhokhlov\">@dkhokhlov</a></strong> merged by <strong><a href=\"https://github.com/kevin-bates\">@kevin-bates</a></strong></li>\n</ul>\n<h5><a href=\"https://github.com/jupyter/governance\">jupyter/governance</a></h5>\n<ul>\n<li><a href=\"https://github.com/jupyter/governance/pull/65\">(#65)</a>: <em>Ana replacing Brian of NumFOCUS subcommittee</em> by <strong><a href=\"https://github.com/ivanov\">@ivanov</a></strong> merged by <strong><a href=\"https://github.com/ivanov\">@ivanov</a></strong></li>\n</ul>\n<h5><a href=\"https://github.com/jupyter/jupyter\">jupyter/jupyter</a></h5>\n<ul>\n<li><a href=\"https://github.com/jupyter/jupyter/pull/453\">(#453)</a>: <em>Add June and August Community Call</em> by <strong><a href=\"https://github.com/Zsailer\">@Zsailer</a></strong> merged by <strong><a href=\"https://github.com/choldgraf\">@choldgraf</a></strong></li>\n</ul>\n<h5><a href=\"https://github.com/jupyter/jupyter-book\">jupyter/jupyter-book</a></h5>\n<ul>\n<li><a href=\"https://github.com/jupyter/jupyter-book/pull/367\">(#367)</a>: <em>fixing interact link bug</em> by <strong><a href=\"https://github.com/choldgraf\">@choldgraf</a></strong> merged by <strong><a href=\"https://github.com/choldgraf\">@choldgraf</a></strong></li>\n<li><a href=\"https://github.com/jupyter/jupyter-book/pull/366\">(#366)</a>: <em>adding anchors above headers</em> by <strong><a href=\"https://github.com/choldgraf\">@choldgraf</a></strong> merged by <strong><a href=\"https://github.com/choldgraf\">@choldgraf</a></strong></li>\n<li><a href=\"https://github.com/jupyter/jupyter-book/pull/365\">(#365)</a>: <em>adding CSS rules for epigraphs</em> by <strong><a href=\"https://github.com/choldgraf\">@choldgraf</a></strong> merged by <strong><a href=\"https://github.com/choldgraf\">@choldgraf</a></strong></li>\n<li><a href=\"https://github.com/jupyter/jupyter-book/pull/363\">(#363)</a>: <em>Update required python version</em> by <strong><a href=\"https://github.com/emdupre\">@emdupre</a></strong> merged by <strong><a href=\"https://github.com/choldgraf\">@choldgraf</a></strong></li>\n<li><a href=\"https://github.com/jupyter/jupyter-book/pull/359\">(#359)</a>: <em>netlify config</em> by <strong><a href=\"https://github.com/choldgraf\">@choldgraf</a></strong> merged by <strong><a href=\"https://github.com/choldgraf\">@choldgraf</a></strong></li>\n<li><a href=\"https://github.com/jupyter/jupyter-book/pull/352\">(#352)</a>: <em>Thebelab init</em> by <strong><a href=\"https://github.com/choldgraf\">@choldgraf</a></strong> merged by <strong><a href=\"https://github.com/choldgraf\">@choldgraf</a></strong></li>\n<li><a href=\"https://github.com/jupyter/jupyter-book/pull/350\">(#350)</a>: <em>Update executing.ipynb</em> by <strong><a href=\"https://github.com/psychemedia\">@psychemedia</a></strong> merged by <strong><a href=\"https://github.com/choldgraf\">@choldgraf</a></strong></li>\n<li><a href=\"https://github.com/jupyter/jupyter-book/pull/349\">(#349)</a>: <em>[WIP] Add option to clear outputs in build command</em> by <strong><a href=\"https://github.com/akhilputhiry\">@akhilputhiry</a></strong> merged by <strong><a href=\"https://github.com/choldgraf\">@choldgraf</a></strong></li>\n<li><a href=\"https://github.com/jupyter/jupyter-book/pull/346\">(#346)</a>: <em>fix: fuzzy matching of jupyter book versions</em> by <strong><a href=\"https://github.com/emdupre\">@emdupre</a></strong> merged by <strong><a href=\"https://github.com/choldgraf\">@choldgraf</a></strong></li>\n<li><a href=\"https://github.com/jupyter/jupyter-book/pull/342\">(#342)</a>: <em>[ENH] Netlify Continuous Deployment</em> by <strong><a href=\"https://github.com/emdupre\">@emdupre</a></strong> merged by <strong><a href=\"https://github.com/choldgraf\">@choldgraf</a></strong></li>\n<li><a href=\"https://github.com/jupyter/jupyter-book/pull/341\">(#341)</a>: <em>adding better circle instructions</em> by <strong><a href=\"https://github.com/choldgraf\">@choldgraf</a></strong> merged by <strong><a href=\"https://github.com/choldgraf\">@choldgraf</a></strong></li>\n<li><a href=\"https://github.com/jupyter/jupyter-book/pull/340\">(#340)</a>: <em>cleaning up circle</em> by <strong><a href=\"https://github.com/choldgraf\">@choldgraf</a></strong> merged by <strong><a href=\"https://github.com/choldgraf\">@choldgraf</a></strong></li>\n<li><a href=\"https://github.com/jupyter/jupyter-book/pull/339\">(#339)</a>: <em>ghp-import in circle</em> by <strong><a href=\"https://github.com/choldgraf\">@choldgraf</a></strong> merged by <strong><a href=\"https://github.com/choldgraf\">@choldgraf</a></strong></li>\n<li><a href=\"https://github.com/jupyter/jupyter-book/pull/338\">(#338)</a>: <em>removing _build artifacts</em> by <strong><a href=\"https://github.com/choldgraf\">@choldgraf</a></strong> merged by <strong><a href=\"https://github.com/choldgraf\">@choldgraf</a></strong></li>\n<li><a href=\"https://github.com/jupyter/jupyter-book/pull/337\">(#337)</a>: <em>making some files optional in upgrade</em> by <strong><a href=\"https://github.com/choldgraf\">@choldgraf</a></strong> merged by <strong><a href=\"https://github.com/choldgraf\">@choldgraf</a></strong></li>\n<li><a href=\"https://github.com/jupyter/jupyter-book/pull/336\">(#336)</a>: <em>fixing scrolling</em> by <strong><a href=\"https://github.com/choldgraf\">@choldgraf</a></strong> merged by <strong><a href=\"https://github.com/choldgraf\">@choldgraf</a></strong></li>\n<li><a href=\"https://github.com/jupyter/jupyter-book/pull/335\">(#335)</a>: <em>adding google analytics info</em> by <strong><a href=\"https://github.com/choldgraf\">@choldgraf</a></strong> merged by <strong><a href=\"https://github.com/choldgraf\">@choldgraf</a></strong></li>\n<li><a href=\"https://github.com/jupyter/jupyter-book/pull/334\">(#334)</a>: <em>updating changelog</em> by <strong><a href=\"https://github.com/choldgraf\">@choldgraf</a></strong> merged by <strong><a href=\"https://github.com/choldgraf\">@choldgraf</a></strong></li>\n<li><a href=\"https://github.com/jupyter/jupyter-book/pull/333\">(#333)</a>: <em>fixing releases info</em> by <strong><a href=\"https://github.com/choldgraf\">@choldgraf</a></strong> merged by <strong><a href=\"https://github.com/choldgraf\">@choldgraf</a></strong></li>\n<li><a href=\"https://github.com/jupyter/jupyter-book/pull/332\">(#332)</a>: <em>dev0 bump</em> by <strong><a href=\"https://github.com/choldgraf\">@choldgraf</a></strong> merged by <strong><a href=\"https://github.com/choldgraf\">@choldgraf</a></strong></li>\n<li><a href=\"https://github.com/jupyter/jupyter-book/pull/330\">(#330)</a>: <em>bumping version for release</em> by <strong><a href=\"https://github.com/choldgraf\">@choldgraf</a></strong> merged by <strong><a href=\"https://github.com/choldgraf\">@choldgraf</a></strong></li>\n<li><a href=\"https://github.com/jupyter/jupyter-book/pull/328\">(#328)</a>: <em>fixing up execute docs</em> by <strong><a href=\"https://github.com/choldgraf\">@choldgraf</a></strong> merged by <strong><a href=\"https://github.com/choldgraf\">@choldgraf</a></strong></li>\n<li><a href=\"https://github.com/jupyter/jupyter-book/pull/326\">(#326)</a>: <em>updating documentation for build</em> by <strong><a href=\"https://github.com/choldgraf\">@choldgraf</a></strong> merged by <strong><a href=\"https://github.com/choldgraf\">@choldgraf</a></strong></li>\n<li><a href=\"https://github.com/jupyter/jupyter-book/pull/324\">(#324)</a>: <em>adding miniconda-based test</em> by <strong><a href=\"https://github.com/choldgraf\">@choldgraf</a></strong> merged by <strong><a href=\"https://github.com/choldgraf\">@choldgraf</a></strong></li>\n<li><a href=\"https://github.com/jupyter/jupyter-book/pull/320\">(#320)</a>: <em>adding error message context to the build CLI command</em> by <strong><a href=\"https://github.com/choldgraf\">@choldgraf</a></strong> merged by <strong><a href=\"https://github.com/choldgraf\">@choldgraf</a></strong></li>\n<li><a href=\"https://github.com/jupyter/jupyter-book/pull/319\">(#319)</a>: <em>removing outdated FAQ entry</em> by <strong><a href=\"https://github.com/choldgraf\">@choldgraf</a></strong> merged by <strong><a href=\"https://github.com/choldgraf\">@choldgraf</a></strong></li>\n<li><a href=\"https://github.com/jupyter/jupyter-book/pull/313\">(#313)</a>: <em>Update Docs to include alternative method for building Jekyll locally.</em> by <strong><a href=\"https://github.com/krinsman\">@krinsman</a></strong> merged by <strong><a href=\"https://github.com/choldgraf\">@choldgraf</a></strong></li>\n<li><a href=\"https://github.com/jupyter/jupyter-book/pull/309\">(#309)</a>: <em>Omit entries w/o URLs and external links from TOC</em> by <strong><a href=\"https://github.com/SamLau95\">@SamLau95</a></strong> merged by <strong><a href=\"https://github.com/choldgraf\">@choldgraf</a></strong></li>\n<li><a href=\"https://github.com/jupyter/jupyter-book/pull/308\">(#308)</a>: <em>Wrap <code>jekyll-raw</code> cells with {% raw %}</em> by <strong><a href=\"https://github.com/SamLau95\">@SamLau95</a></strong> merged by <strong><a href=\"https://github.com/choldgraf\">@choldgraf</a></strong></li>\n<li><a href=\"https://github.com/jupyter/jupyter-book/pull/305\">(#305)</a>: <em>Don't use quotes for user-entered YAML entries</em> by <strong><a href=\"https://github.com/SamLau95\">@SamLau95</a></strong> merged by <strong><a href=\"https://github.com/SamLau95\">@SamLau95</a></strong></li>\n<li><a href=\"https://github.com/jupyter/jupyter-book/pull/303\">(#303)</a>: <em>Set a blank excerpt for all pages</em> by <strong><a href=\"https://github.com/SamLau95\">@SamLau95</a></strong> merged by <strong><a href=\"https://github.com/choldgraf\">@choldgraf</a></strong></li>\n<li><a href=\"https://github.com/jupyter/jupyter-book/pull/302\">(#302)</a>: <em>adding popout cell</em> by <strong><a href=\"https://github.com/choldgraf\">@choldgraf</a></strong> merged by <strong><a href=\"https://github.com/choldgraf\">@choldgraf</a></strong></li>\n<li><a href=\"https://github.com/jupyter/jupyter-book/pull/301\">(#301)</a>: <em>fixing footer width</em> by <strong><a href=\"https://github.com/choldgraf\">@choldgraf</a></strong> merged by <strong><a href=\"https://github.com/choldgraf\">@choldgraf</a></strong></li>\n<li><a href=\"https://github.com/jupyter/jupyter-book/pull/300\">(#300)</a>: <em>adding right toc showing when there's no sidebar content</em> by <strong><a href=\"https://github.com/choldgraf\">@choldgraf</a></strong> merged by <strong><a href=\"https://github.com/choldgraf\">@choldgraf</a></strong></li>\n<li><a href=\"https://github.com/jupyter/jupyter-book/pull/299\">(#299)</a>: <em>documenting execution functionality</em> by <strong><a href=\"https://github.com/choldgraf\">@choldgraf</a></strong> merged by <strong><a href=\"https://github.com/choldgraf\">@choldgraf</a></strong></li>\n<li><a href=\"https://github.com/jupyter/jupyter-book/pull/294\">(#294)</a>: <em>adding beta label to features</em> by <strong><a href=\"https://github.com/choldgraf\">@choldgraf</a></strong> merged by <strong><a href=\"https://github.com/choldgraf\">@choldgraf</a></strong></li>\n<li><a href=\"https://github.com/jupyter/jupyter-book/pull/293\">(#293)</a>: <em>adding a sample CircleCI build config</em> by <strong><a href=\"https://github.com/choldgraf\">@choldgraf</a></strong> merged by <strong><a href=\"https://github.com/choldgraf\">@choldgraf</a></strong></li>\n<li><a href=\"https://github.com/jupyter/jupyter-book/pull/292\">(#292)</a>: <em>Use CDNs for JS libraries</em> by <strong><a href=\"https://github.com/SamLau95\">@SamLau95</a></strong> merged by <strong><a href=\"https://github.com/choldgraf\">@choldgraf</a></strong></li>\n<li><a href=\"https://github.com/jupyter/jupyter-book/pull/291\">(#291)</a>: <em>Load thebelab asynchronously</em> by <strong><a href=\"https://github.com/SamLau95\">@SamLau95</a></strong> merged by <strong><a href=\"https://github.com/choldgraf\">@choldgraf</a></strong></li>\n<li><a href=\"https://github.com/jupyter/jupyter-book/pull/290\">(#290)</a>: <em>Fix missing </div> if page.interact_link is false</em> by <strong><a href=\"https://github.com/SamLau95\">@SamLau95</a></strong> merged by <strong><a href=\"https://github.com/choldgraf\">@choldgraf</a></strong></li>\n<li><a href=\"https://github.com/jupyter/jupyter-book/pull/288\">(#288)</a>: <em>fixing jupytext markdown inconsistencies</em> by <strong><a href=\"https://github.com/choldgraf\">@choldgraf</a></strong> merged by <strong><a href=\"https://github.com/choldgraf\">@choldgraf</a></strong></li>\n<li><a href=\"https://github.com/jupyter/jupyter-book/pull/287\">(#287)</a>: <em>footer width</em> by <strong><a href=\"https://github.com/choldgraf\">@choldgraf</a></strong> merged by <strong><a href=\"https://github.com/choldgraf\">@choldgraf</a></strong></li>\n<li><a href=\"https://github.com/jupyter/jupyter-book/pull/286\">(#286)</a>: <em>fixing double math printing</em> by <strong><a href=\"https://github.com/choldgraf\">@choldgraf</a></strong> merged by <strong><a href=\"https://github.com/choldgraf\">@choldgraf</a></strong></li>\n<li><a href=\"https://github.com/jupyter/jupyter-book/pull/284\">(#284)</a>: <em>fixing up print functionality</em> by <strong><a href=\"https://github.com/choldgraf\">@choldgraf</a></strong> merged by <strong><a href=\"https://github.com/choldgraf\">@choldgraf</a></strong></li>\n<li><a href=\"https://github.com/jupyter/jupyter-book/pull/277\">(#277)</a>: <em>adding help entries</em> by <strong><a href=\"https://github.com/choldgraf\">@choldgraf</a></strong> merged by <strong><a href=\"https://github.com/choldgraf\">@choldgraf</a></strong></li>\n</ul>\n<h5><a href=\"https://github.com/jupyter/jupyter-sphinx\">jupyter/jupyter-sphinx</a></h5>\n<ul>\n<li><a href=\"https://github.com/jupyter/jupyter-sphinx/pull/78\">(#78)</a>: <em>Use math_block node directly instead of deprecated displaymath</em> by <strong><a href=\"https://github.com/akhmerov\">@akhmerov</a></strong> merged by <strong><a href=\"https://github.com/akhmerov\">@akhmerov</a></strong></li>\n</ul>\n<h5><a href=\"https://github.com/jupyter/jupyter_client\">jupyter/jupyter_client</a></h5>\n<ul>\n<li><a href=\"https://github.com/jupyter/jupyter_client/pull/478\">(#478)</a>: <em>Fix Kernel Startup on WIndows</em> by <strong><a href=\"https://github.com/victorsamun\">@victorsamun</a></strong> merged by <strong><a href=\"https://github.com/MSeal\">@MSeal</a></strong></li>\n<li><a href=\"https://github.com/jupyter/jupyter_client/pull/472\">(#472)</a>: <em>Add support for templated env entries</em> by <strong><a href=\"https://github.com/kevin-bates\">@kevin-bates</a></strong> merged by <strong><a href=\"https://github.com/blink1073\">@blink1073</a></strong></li>\n<li><a href=\"https://github.com/jupyter/jupyter_client/pull/469\">(#469)</a>: <em>Secure write for connection file</em> by <strong><a href=\"https://github.com/MSeal\">@MSeal</a></strong> merged by <strong><a href=\"https://github.com/rgbkrk\">@rgbkrk</a></strong></li>\n</ul>\n<h5><a href=\"https://github.com/jupyter/jupyter_core\">jupyter/jupyter_core</a></h5>\n<ul>\n<li><a href=\"https://github.com/jupyter/jupyter_core/pull/163\">(#163)</a>: <em>Moved path util code from jupyter_client and jupyter_server to core</em> by <strong><a href=\"https://github.com/MSeal\">@MSeal</a></strong> merged by <strong><a href=\"https://github.com/minrk\">@minrk</a></strong></li>\n<li><a href=\"https://github.com/jupyter/jupyter_core/pull/162\">(#162)</a>: <em>Add the environment scripts directory to the list of places to search for subcommands</em> by <strong><a href=\"https://github.com/pfmoore\">@pfmoore</a></strong> merged by <strong><a href=\"https://github.com/minrk\">@minrk</a></strong></li>\n</ul>\n<h5><a href=\"https://github.com/jupyter/jupyter_server\">jupyter/jupyter_server</a></h5>\n<ul>\n<li><a href=\"https://github.com/jupyter/jupyter_server/pull/109\">(#109)</a>: <em>Remove python 2 specific code after NB port</em> by <strong><a href=\"https://github.com/kevin-bates\">@kevin-bates</a></strong> merged by <strong><a href=\"https://github.com/Zsailer\">@Zsailer</a></strong></li>\n<li><a href=\"https://github.com/jupyter/jupyter_server/pull/108\">(#108)</a>: <em>Port Notebook PRs patching tornado 6</em> by <strong><a href=\"https://github.com/Zsailer\">@Zsailer</a></strong> merged by <strong><a href=\"https://github.com/kevin-bates\">@kevin-bates</a></strong></li>\n<li><a href=\"https://github.com/jupyter/jupyter_server/pull/107\">(#107)</a>: <em>Porting Notebook #4376</em> by <strong><a href=\"https://github.com/Zsailer\">@Zsailer</a></strong> merged by <strong><a href=\"https://github.com/kevin-bates\">@kevin-bates</a></strong></li>\n<li><a href=\"https://github.com/jupyter/jupyter_server/pull/106\">(#106)</a>: <em>[Batch 8] Porting Notebook PRs</em> by <strong><a href=\"https://github.com/Zsailer\">@Zsailer</a></strong> merged by <strong><a href=\"https://github.com/kevin-bates\">@kevin-bates</a></strong></li>\n<li><a href=\"https://github.com/jupyter/jupyter_server/pull/105\">(#105)</a>: <em>[Batch 7] Porting Notebook PRs</em> by <strong><a href=\"https://github.com/Zsailer\">@Zsailer</a></strong> merged by <strong><a href=\"https://github.com/kevin-bates\">@kevin-bates</a></strong></li>\n<li><a href=\"https://github.com/jupyter/jupyter_server/pull/104\">(#104)</a>: <em>[Batch 6] Porting Notebook PRs</em> by <strong><a href=\"https://github.com/Zsailer\">@Zsailer</a></strong> merged by <strong><a href=\"https://github.com/kevin-bates\">@kevin-bates</a></strong></li>\n<li><a href=\"https://github.com/jupyter/jupyter_server/pull/103\">(#103)</a>: <em>[Batch 5] Porting Notebook PRs</em> by <strong><a href=\"https://github.com/Zsailer\">@Zsailer</a></strong> merged by <strong><a href=\"https://github.com/kevin-bates\">@kevin-bates</a></strong></li>\n<li><a href=\"https://github.com/jupyter/jupyter_server/pull/102\">(#102)</a>: <em>fix typos</em> by <strong><a href=\"https://github.com/willingc\">@willingc</a></strong> merged by <strong><a href=\"https://github.com/willingc\">@willingc</a></strong></li>\n<li><a href=\"https://github.com/jupyter/jupyter_server/pull/101\">(#101)</a>: <em>Reduce documentation confusion with stable notebook docs</em> by <strong><a href=\"https://github.com/willingc\">@willingc</a></strong> merged by <strong><a href=\"https://github.com/Zsailer\">@Zsailer</a></strong></li>\n<li><a href=\"https://github.com/jupyter/jupyter_server/pull/100\">(#100)</a>: <em>Update metrics.py</em> by <strong><a href=\"https://github.com/vidartf\">@vidartf</a></strong> merged by <strong><a href=\"https://github.com/kevin-bates\">@kevin-bates</a></strong></li>\n<li><a href=\"https://github.com/jupyter/jupyter_server/pull/99\">(#99)</a>: <em>[Batch 4] Porting Notebook PRs</em> by <strong><a href=\"https://github.com/Zsailer\">@Zsailer</a></strong> merged by <strong><a href=\"https://github.com/kevin-bates\">@kevin-bates</a></strong></li>\n<li><a href=\"https://github.com/jupyter/jupyter_server/pull/98\">(#98)</a>: <em>[Batch 3] Porting Notebook PRs</em> by <strong><a href=\"https://github.com/Zsailer\">@Zsailer</a></strong> merged by <strong><a href=\"https://github.com/kevin-bates\">@kevin-bates</a></strong></li>\n<li><a href=\"https://github.com/jupyter/jupyter_server/pull/97\">(#97)</a>: <em>[Batch 2] Notebook PR Ports.</em> by <strong><a href=\"https://github.com/Zsailer\">@Zsailer</a></strong> merged by <strong><a href=\"https://github.com/kevin-bates\">@kevin-bates</a></strong></li>\n<li><a href=\"https://github.com/jupyter/jupyter_server/pull/95\">(#95)</a>: <em>[Batch 1] Port Notebook PRs</em> by <strong><a href=\"https://github.com/Zsailer\">@Zsailer</a></strong> merged by <strong><a href=\"https://github.com/kevin-bates\">@kevin-bates</a></strong></li>\n<li><a href=\"https://github.com/jupyter/jupyter_server/pull/94\">(#94)</a>: <em>Remove Python 2 support, require 3.5+</em> by <strong><a href=\"https://github.com/kevin-bates\">@kevin-bates</a></strong> merged by <strong><a href=\"https://github.com/Zsailer\">@Zsailer</a></strong></li>\n<li><a href=\"https://github.com/jupyter/jupyter_server/pull/92\">(#92)</a>: <em>Port gateway from notebook</em> by <strong><a href=\"https://github.com/kevin-bates\">@kevin-bates</a></strong> merged by <strong><a href=\"https://github.com/Zsailer\">@Zsailer</a></strong></li>\n<li><a href=\"https://github.com/jupyter/jupyter_server/pull/91\">(#91)</a>: <em>Fix TrailingSlashHandler</em> by <strong><a href=\"https://github.com/vidartf\">@vidartf</a></strong> merged by <strong><a href=\"https://github.com/rolweber\">@rolweber</a></strong></li>\n<li><a href=\"https://github.com/jupyter/jupyter_server/pull/88\">(#88)</a>: <em>Applied fix for secure writes in non-enlgish windows that was added to jupyer_client</em> by <strong><a href=\"https://github.com/MSeal\">@MSeal</a></strong> merged by <strong><a href=\"https://github.com/rolweber\">@rolweber</a></strong></li>\n<li><a href=\"https://github.com/jupyter/jupyter_server/pull/86\">(#86)</a>: <em>[MRG] Various updates from trying to make a Voila extension.</em> by <strong><a href=\"https://github.com/Zsailer\">@Zsailer</a></strong> merged by <strong><a href=\"https://github.com/rolweber\">@rolweber</a></strong></li>\n<li><a href=\"https://github.com/jupyter/jupyter_server/pull/82\">(#82)</a>: <em>Add <code>--no-browser</code> flag</em> by <strong><a href=\"https://github.com/vidartf\">@vidartf</a></strong> merged by <strong><a href=\"https://github.com/rolweber\">@rolweber</a></strong></li>\n</ul>\n<h5><a href=\"https://github.com/jupyter/kernel_gateway\">jupyter/kernel_gateway</a></h5>\n<ul>\n<li><a href=\"https://github.com/jupyter/kernel_gateway/pull/325\">(#325)</a>: <em>fix: module 'signal' has no attribute 'SIGHUP' on Windows</em> by <strong><a href=\"https://github.com/dkhokhlov\">@dkhokhlov</a></strong> merged by <strong><a href=\"https://github.com/kevin-bates\">@kevin-bates</a></strong></li>\n</ul>\n<h5><a href=\"https://github.com/jupyter/nbgrader\">jupyter/nbgrader</a></h5>\n<ul>\n<li><a href=\"https://github.com/jupyter/nbgrader/pull/1227\">(#1227)</a>: <em>Bump pytest required version to 4.5 for custom marker support</em> by <strong><a href=\"https://github.com/BertR\">@BertR</a></strong> merged by <strong><a href=\"https://github.com/willingc\">@willingc</a></strong></li>\n</ul>\n<h5><a href=\"https://github.com/jupyter/nbviewer\">jupyter/nbviewer</a></h5>\n<ul>\n<li><a href=\"https://github.com/jupyter/nbviewer/pull/853\">(#853)</a>: <em>Fix P vs p typo</em> by <strong><a href=\"https://github.com/parente\">@parente</a></strong> merged by <strong><a href=\"https://github.com/parente\">@parente</a></strong></li>\n</ul>\n<h5><a href=\"https://github.com/jupyter/notebook\">jupyter/notebook</a></h5>\n<ul>\n<li><a href=\"https://github.com/jupyter/notebook/pull/4875\">(#4875)</a>: <em>Clarify that notebook 6 supports only Python 3.5 or later, not Python 3.4</em> by <strong><a href=\"https://github.com/jasongrout\">@jasongrout</a></strong> merged by <strong><a href=\"https://github.com/lresende\">@lresende</a></strong></li>\n</ul>\n<h5><a href=\"https://github.com/jupyter/qtconsole\">jupyter/qtconsole</a></h5>\n<ul>\n<li><a href=\"https://github.com/jupyter/qtconsole/pull/376\">(#376)</a>: <em>Ignore missing comms while closing</em> by <strong><a href=\"https://github.com/impact27\">@impact27</a></strong> merged by <strong><a href=\"https://github.com/ccordoba12\">@ccordoba12</a></strong></li>\n<li><a href=\"https://github.com/jupyter/qtconsole/pull/375\">(#375)</a>: <em>Wait for a reply from is_complete instead of giving up immediately</em> by <strong><a href=\"https://github.com/impact27\">@impact27</a></strong> merged by <strong><a href=\"https://github.com/ccordoba12\">@ccordoba12</a></strong></li>\n</ul>\n<h5><a href=\"https://github.com/jupyter/repo2docker\">jupyter/repo2docker</a></h5>\n<ul>\n<li><a href=\"https://github.com/jupyter/repo2docker/pull/772\">(#772)</a>: <em>[MRG] Add support for installing different versions of R</em> by <strong><a href=\"https://github.com/betatim\">@betatim</a></strong> merged by <strong><a href=\"https://github.com/betatim\">@betatim</a></strong></li>\n</ul>\n<h5><a href=\"https://github.com/jupyter/telemetry\">jupyter/telemetry</a></h5>\n<ul>\n<li><a href=\"https://github.com/jupyter/telemetry/pull/27\">(#27)</a>: <em>Add explicit credit to Ori Livneh</em> by <strong><a href=\"https://github.com/yuvipanda\">@yuvipanda</a></strong> merged by <strong><a href=\"https://github.com/Zsailer\">@Zsailer</a></strong></li>\n</ul>"
      }
     },
     "39f6b12a8596424cb369c981c75662e3": {
      "model_module": "@jupyter-widgets/controls",
      "model_module_version": "1.5.0",
      "model_name": "DescriptionStyleModel",
      "state": {
       "_model_module": "@jupyter-widgets/controls",
       "_model_module_version": "1.5.0",
       "_model_name": "DescriptionStyleModel",
       "_view_count": null,
       "_view_module": "@jupyter-widgets/base",
       "_view_module_version": "1.2.0",
       "_view_name": "StyleView",
       "description_width": ""
      }
     },
     "3a6b0cb852254e49b1d7ccd70bc715d0": {
      "model_module": "@jupyter-widgets/base",
      "model_module_version": "1.2.0",
      "model_name": "LayoutModel",
      "state": {
       "_model_module": "@jupyter-widgets/base",
       "_model_module_version": "1.2.0",
       "_model_name": "LayoutModel",
       "_view_count": null,
       "_view_module": "@jupyter-widgets/base",
       "_view_module_version": "1.2.0",
       "_view_name": "LayoutView",
       "align_content": null,
       "align_items": null,
       "align_self": null,
       "border": null,
       "bottom": null,
       "display": null,
       "flex": null,
       "flex_flow": null,
       "grid_area": null,
       "grid_auto_columns": null,
       "grid_auto_flow": null,
       "grid_auto_rows": null,
       "grid_column": null,
       "grid_gap": null,
       "grid_row": null,
       "grid_template_areas": null,
       "grid_template_columns": null,
       "grid_template_rows": null,
       "height": null,
       "justify_content": null,
       "justify_items": null,
       "left": null,
       "margin": null,
       "max_height": null,
       "max_width": null,
       "min_height": null,
       "min_width": null,
       "object_fit": null,
       "object_position": null,
       "order": null,
       "overflow": null,
       "overflow_x": null,
       "overflow_y": null,
       "padding": null,
       "right": null,
       "top": null,
       "visibility": null,
       "width": null
      }
     },
     "3c16f17a2b1749e0bda69780e2a90311": {
      "model_module": "@jupyter-widgets/controls",
      "model_module_version": "1.5.0",
      "model_name": "HTMLModel",
      "state": {
       "_dom_classes": [],
       "_model_module": "@jupyter-widgets/controls",
       "_model_module_version": "1.5.0",
       "_model_name": "HTMLModel",
       "_view_count": null,
       "_view_module": "@jupyter-widgets/controls",
       "_view_module_version": "1.5.0",
       "_view_name": "HTMLView",
       "description": "",
       "description_tooltip": null,
       "layout": "IPY_MODEL_3c826add9e1948e2bd41be6090591f22",
       "placeholder": "​",
       "style": "IPY_MODEL_6d239b8ec4094bfbb96f89e933de4b43",
       "value": "<h4>ipython</h4>\n<h5><a href=\"https://github.com/ipython/ipykernel\">ipython/ipykernel</a></h5>\n<ul>\n<li><a href=\"https://github.com/ipython/ipykernel/issues/428\">(#428)</a>: <em>How can I detect from labextension whether kernel is still alive?</em> by <strong><a href=\"https://github.com/bernhard-42\">@bernhard-42</a></strong></li>\n<li><a href=\"https://github.com/ipython/ipykernel/issues/407\">(#407)</a>: _New ipykernel has 55 threads. _ by <strong><a href=\"https://github.com/katsar0v\">@katsar0v</a></strong></li>\n</ul>\n<h5><a href=\"https://github.com/ipython/ipyparallel\">ipython/ipyparallel</a></h5>\n<ul>\n<li><a href=\"https://github.com/ipython/ipyparallel/issues/213\">(#213)</a>: <em>Engines exit after several operations (ZMQ and QT5 headless event loop problem?)</em> by <strong><a href=\"https://github.com/histed\">@histed</a></strong></li>\n</ul>\n<h5><a href=\"https://github.com/ipython/ipython\">ipython/ipython</a></h5>\n<ul>\n<li><a href=\"https://github.com/ipython/ipython/issues/11894\">(#11894)</a>: <em>Tracebacks are not shown right away when connecting to 'ipython kernel' from 'jupyter console'</em> by <strong><a href=\"https://github.com/asmeurer\">@asmeurer</a></strong></li>\n<li><a href=\"https://github.com/ipython/ipython/issues/11898\">(#11898)</a>: <em>Performance Issue: Startup very slow</em> by <strong><a href=\"https://github.com/stevenleeS0ht\">@stevenleeS0ht</a></strong></li>\n<li><a href=\"https://github.com/ipython/ipython/issues/11885\">(#11885)</a>: <em>autoreload hang for changed instance methods: between 7.5.0 and 7.8.0</em> by <strong><a href=\"https://github.com/histed\">@histed</a></strong></li>\n<li><a href=\"https://github.com/ipython/ipython/issues/11871\">(#11871)</a>: <em>weird behaviour when using argument parser</em> by <strong><a href=\"https://github.com/vainaijr\">@vainaijr</a></strong></li>\n</ul>\n<h5><a href=\"https://github.com/ipython/rlipython\">ipython/rlipython</a></h5>\n<h5><a href=\"https://github.com/ipython/traitlets\">ipython/traitlets</a></h5>\n<ul>\n<li><a href=\"https://github.com/ipython/traitlets/issues/534\">(#534)</a>: <em>Non Singleton Application Class</em> by <strong><a href=\"https://github.com/Zsailer\">@Zsailer</a></strong></li>\n<li><a href=\"https://github.com/ipython/traitlets/issues/533\">(#533)</a>: <em>get function of TraitType(BaseDescriptor) is called right after start ipython and then run forever?</em> by <strong><a href=\"https://github.com/ke-zhang-rd\">@ke-zhang-rd</a></strong></li>\n</ul>"
      }
     },
     "3c826add9e1948e2bd41be6090591f22": {
      "model_module": "@jupyter-widgets/base",
      "model_module_version": "1.2.0",
      "model_name": "LayoutModel",
      "state": {
       "_model_module": "@jupyter-widgets/base",
       "_model_module_version": "1.2.0",
       "_model_name": "LayoutModel",
       "_view_count": null,
       "_view_module": "@jupyter-widgets/base",
       "_view_module_version": "1.2.0",
       "_view_name": "LayoutView",
       "align_content": null,
       "align_items": null,
       "align_self": null,
       "border": null,
       "bottom": null,
       "display": null,
       "flex": null,
       "flex_flow": null,
       "grid_area": null,
       "grid_auto_columns": null,
       "grid_auto_flow": null,
       "grid_auto_rows": null,
       "grid_column": null,
       "grid_gap": null,
       "grid_row": null,
       "grid_template_areas": null,
       "grid_template_columns": null,
       "grid_template_rows": null,
       "height": null,
       "justify_content": null,
       "justify_items": null,
       "left": null,
       "margin": null,
       "max_height": null,
       "max_width": null,
       "min_height": null,
       "min_width": null,
       "object_fit": null,
       "object_position": null,
       "order": null,
       "overflow": null,
       "overflow_x": null,
       "overflow_y": null,
       "padding": null,
       "right": null,
       "top": null,
       "visibility": null,
       "width": null
      }
     },
     "3e9b0b4f1593423f8636564a90c3fb6b": {
      "model_module": "@jupyter-widgets/controls",
      "model_module_version": "1.5.0",
      "model_name": "HTMLModel",
      "state": {
       "_dom_classes": [],
       "_model_module": "@jupyter-widgets/controls",
       "_model_module_version": "1.5.0",
       "_model_name": "HTMLModel",
       "_view_count": null,
       "_view_module": "@jupyter-widgets/controls",
       "_view_module_version": "1.5.0",
       "_view_name": "HTMLView",
       "description": "",
       "description_tooltip": null,
       "layout": "IPY_MODEL_2b27a28e6e2e42c69105ce32ce6d7da6",
       "placeholder": "​",
       "style": "IPY_MODEL_d9b1ad95ef5e454cb1a0b1e0b36cd957",
       "value": "<h4>jupyterhub</h4>\n<h5><a href=\"https://github.com/jupyterhub/batchspawner\">jupyterhub/batchspawner</a></h5>\n<ul>\n<li><a href=\"https://github.com/jupyterhub/batchspawner/issues/161\">(#161)</a>: <em>Problem getting SlurmSpawner to work</em> by <strong><a href=\"https://github.com/spalkovits\">@spalkovits</a></strong></li>\n<li><a href=\"https://github.com/jupyterhub/batchspawner/issues/122\">(#122)</a>: <em>Batchspawner maintenance?</em> by <strong><a href=\"https://github.com/rkdarst\">@rkdarst</a></strong></li>\n<li><a href=\"https://github.com/jupyterhub/batchspawner/issues/160\">(#160)</a>: <em>Rethinking environment handling</em> by <strong><a href=\"https://github.com/rkdarst\">@rkdarst</a></strong></li>\n<li><a href=\"https://github.com/jupyterhub/batchspawner/issues/146\">(#146)</a>: <em>\"Remote port selection\" allows redesigning batchspawner to avoid polling/spawner interaction</em> by <strong><a href=\"https://github.com/rkdarst\">@rkdarst</a></strong></li>\n</ul>\n<h5><a href=\"https://github.com/jupyterhub/binderhub\">jupyterhub/binderhub</a></h5>\n<ul>\n<li><a href=\"https://github.com/jupyterhub/binderhub/issues/955\">(#955)</a>: <em>Binderhub is not installing dependencies in Pipfile</em> by <strong><a href=\"https://github.com/koldLight\">@koldLight</a></strong></li>\n</ul>\n<h5><a href=\"https://github.com/jupyterhub/chartpress\">jupyterhub/chartpress</a></h5>\n<h5><a href=\"https://github.com/jupyterhub/dockerspawner\">jupyterhub/dockerspawner</a></h5>\n<ul>\n<li><a href=\"https://github.com/jupyterhub/dockerspawner/issues/330\">(#330)</a>: <em>Timeout potentially due to docker inspect_container prior to creation</em> by <strong><a href=\"https://github.com/gdbassett\">@gdbassett</a></strong></li>\n<li><a href=\"https://github.com/jupyterhub/dockerspawner/issues/332\">(#332)</a>: <em>readthedocs</em> by <strong><a href=\"https://github.com/minrk\">@minrk</a></strong></li>\n</ul>\n<h5><a href=\"https://github.com/jupyterhub/jupyter-rsession-proxy\">jupyterhub/jupyter-rsession-proxy</a></h5>\n<ul>\n<li><a href=\"https://github.com/jupyterhub/jupyter-rsession-proxy/issues/71\">(#71)</a>: <em>Terminal not working in RStudio</em> by <strong><a href=\"https://github.com/anton-khodak\">@anton-khodak</a></strong></li>\n</ul>\n<h5><a href=\"https://github.com/jupyterhub/jupyter-server-proxy\">jupyterhub/jupyter-server-proxy</a></h5>\n<ul>\n<li><a href=\"https://github.com/jupyterhub/jupyter-server-proxy/issues/142\">(#142)</a>: <em>Limit the exposed ports</em> by <strong><a href=\"https://github.com/shyam334\">@shyam334</a></strong></li>\n<li><a href=\"https://github.com/jupyterhub/jupyter-server-proxy/issues/145\">(#145)</a>: <em>Consider moving JupyterLab launcher entries to the \"other\" category</em> by <strong><a href=\"https://github.com/ian-r-rose\">@ian-r-rose</a></strong></li>\n</ul>\n<h5><a href=\"https://github.com/jupyterhub/jupyterhub\">jupyterhub/jupyterhub</a></h5>\n<ul>\n<li><a href=\"https://github.com/jupyterhub/jupyterhub/issues/2738\">(#2738)</a>: <em>Blank Terminal Screen systemdspawner</em> by <strong><a href=\"https://github.com/jakepaw\">@jakepaw</a></strong></li>\n<li><a href=\"https://github.com/jupyterhub/jupyterhub/issues/2749\">(#2749)</a>: <em>Proxy startup and configuration is required for init_spawners, right?</em> by <strong><a href=\"https://github.com/consideRatio\">@consideRatio</a></strong></li>\n<li><a href=\"https://github.com/jupyterhub/jupyterhub/issues/2745\">(#2745)</a>: <em>hub-&gt;proxy web-request timebombs - how to not explode?</em> by <strong><a href=\"https://github.com/consideRatio\">@consideRatio</a></strong></li>\n<li><a href=\"https://github.com/jupyterhub/jupyterhub/issues/2724\">(#2724)</a>: <em>Moving Profile selection to core JupyterHub</em> by <strong><a href=\"https://github.com/rkdarst\">@rkdarst</a></strong></li>\n</ul>\n<h5><a href=\"https://github.com/jupyterhub/jupyterhub-deploy-docker\">jupyterhub/jupyterhub-deploy-docker</a></h5>\n<ul>\n<li><a href=\"https://github.com/jupyterhub/jupyterhub-deploy-docker/issues/92\">(#92)</a>: <em>Naming Conventions for Volumes - Docker Spawner</em> by <strong><a href=\"https://github.com/ajennings67\">@ajennings67</a></strong></li>\n<li><a href=\"https://github.com/jupyterhub/jupyterhub-deploy-docker/issues/91\">(#91)</a>: <em>'make build' fails with Conda</em> by <strong><a href=\"https://github.com/karthi4k\">@karthi4k</a></strong></li>\n</ul>\n<h5><a href=\"https://github.com/jupyterhub/kubespawner\">jupyterhub/kubespawner</a></h5>\n<ul>\n<li><a href=\"https://github.com/jupyterhub/kubespawner/issues/347\">(#347)</a>: <em>KubeIngressProxy, using make_ingress -&gt; can't import V1beta1Ingress</em> by <strong><a href=\"https://github.com/retypuj\">@retypuj</a></strong></li>\n<li><a href=\"https://github.com/jupyterhub/kubespawner/issues/351\">(#351)</a>: <em>Separate properties for Limit and Request cpu and memory resources</em> by <strong><a href=\"https://github.com/divaybansal\">@divaybansal</a></strong></li>\n<li><a href=\"https://github.com/jupyterhub/kubespawner/issues/350\">(#350)</a>: <em>Adding NodeAffinity, Nodeselector, Toleration in JupyterHub Helm chart version 0.7.0</em> by <strong><a href=\"https://github.com/ramkrishnan8994\">@ramkrishnan8994</a></strong></li>\n</ul>\n<h5><a href=\"https://github.com/jupyterhub/ldapauthenticator\">jupyterhub/ldapauthenticator</a></h5>\n<ul>\n<li><a href=\"https://github.com/jupyterhub/ldapauthenticator/issues/101\">(#101)</a>: <em>LDAPBindError: automatic bind not successful - invalidCredentials</em> by <strong><a href=\"https://github.com/tedstrauss\">@tedstrauss</a></strong></li>\n</ul>\n<h5><a href=\"https://github.com/jupyterhub/ltiauthenticator\">jupyterhub/ltiauthenticator</a></h5>\n<ul>\n<li><a href=\"https://github.com/jupyterhub/ltiauthenticator/issues/19\">(#19)</a>: <em>Incompatibilities and hanging tljh-config reload</em> by <strong><a href=\"https://github.com/wmunters\">@wmunters</a></strong></li>\n<li><a href=\"https://github.com/jupyterhub/ltiauthenticator/issues/22\">(#22)</a>: <em>AttributeError: 'LTIAuthenticator' object has no attribute 'request'</em> by <strong><a href=\"https://github.com/owen198\">@owen198</a></strong></li>\n<li><a href=\"https://github.com/jupyterhub/ltiauthenticator/issues/21\">(#21)</a>: <em>Installation fails due to conflicting oauthlib version</em> by <strong><a href=\"https://github.com/NeolithEra\">@NeolithEra</a></strong></li>\n</ul>\n<h5><a href=\"https://github.com/jupyterhub/mybinder.org-deploy\">jupyterhub/mybinder.org-deploy</a></h5>\n<ul>\n<li><a href=\"https://github.com/jupyterhub/mybinder.org-deploy/issues/1160\">(#1160)</a>: <em>Upgrading k8s version on OVH cluster</em> by <strong><a href=\"https://github.com/mael-le-gal\">@mael-le-gal</a></strong></li>\n<li><a href=\"https://github.com/jupyterhub/mybinder.org-deploy/issues/1175\">(#1175)</a>: <em>Shiny app not deploying</em> by <strong><a href=\"https://github.com/pablobernabeu\">@pablobernabeu</a></strong></li>\n<li><a href=\"https://github.com/jupyterhub/mybinder.org-deploy/issues/1172\">(#1172)</a>: <em>mybinder.org kernels no longer running?</em> by <strong><a href=\"https://github.com/mrocklin\">@mrocklin</a></strong></li>\n</ul>\n<h5><a href=\"https://github.com/jupyterhub/nativeauthenticator\">jupyterhub/nativeauthenticator</a></h5>\n<ul>\n<li><a href=\"https://github.com/jupyterhub/nativeauthenticator/issues/75\">(#75)</a>: _How to initialize ? _ by <strong><a href=\"https://github.com/odovad\">@odovad</a></strong></li>\n</ul>\n<h5><a href=\"https://github.com/jupyterhub/nbgitpuller\">jupyterhub/nbgitpuller</a></h5>\n<ul>\n<li><a href=\"https://github.com/jupyterhub/nbgitpuller/issues/84\">(#84)</a>: <em>Automatically set user.name &amp; user.email if necessary</em> by <strong><a href=\"https://github.com/parmentelat\">@parmentelat</a></strong></li>\n<li><a href=\"https://github.com/jupyterhub/nbgitpuller/issues/64\">(#64)</a>: <em>nbgitpuller does not work on Microsoft Edge</em> by <strong><a href=\"https://github.com/giumas\">@giumas</a></strong></li>\n</ul>\n<h5><a href=\"https://github.com/jupyterhub/oauthenticator\">jupyterhub/oauthenticator</a></h5>\n<ul>\n<li><a href=\"https://github.com/jupyterhub/oauthenticator/issues/286\">(#286)</a>: <em>Entrypoints causes issues with JupyterHub.</em> by <strong><a href=\"https://github.com/GrahamDumpleton\">@GrahamDumpleton</a></strong></li>\n<li><a href=\"https://github.com/jupyterhub/oauthenticator/issues/211\">(#211)</a>: <em>refresh token on OAuth2 module in Jupyter</em> by <strong><a href=\"https://github.com/michec81\">@michec81</a></strong></li>\n<li><a href=\"https://github.com/jupyterhub/oauthenticator/issues/243\">(#243)</a>: _Include  Gitlab local authentication details in read.md  _ by <strong><a href=\"https://github.com/divatemangesh\">@divatemangesh</a></strong></li>\n</ul>\n<h5><a href=\"https://github.com/jupyterhub/systemdspawner\">jupyterhub/systemdspawner</a></h5>\n<h5><a href=\"https://github.com/jupyterhub/team-compass\">jupyterhub/team-compass</a></h5>\n<ul>\n<li><a href=\"https://github.com/jupyterhub/team-compass/issues/199\">(#199)</a>: <em>September Team Meeting 2019</em> by <strong><a href=\"https://github.com/Zsailer\">@Zsailer</a></strong></li>\n</ul>\n<h5><a href=\"https://github.com/jupyterhub/the-littlest-jupyterhub\">jupyterhub/the-littlest-jupyterhub</a></h5>\n<ul>\n<li><a href=\"https://github.com/jupyterhub/the-littlest-jupyterhub/issues/237\">(#237)</a>: <em>TLJH does not automatically create home directories for new users on Ubuntu Server 18.10</em> by <strong><a href=\"https://github.com/owah\">@owah</a></strong></li>\n</ul>\n<h5><a href=\"https://github.com/jupyterhub/traefik-proxy\">jupyterhub/traefik-proxy</a></h5>\n<h5><a href=\"https://github.com/jupyterhub/wrapspawner\">jupyterhub/wrapspawner</a></h5>\n<ul>\n<li><a href=\"https://github.com/jupyterhub/wrapspawner/issues/33\">(#33)</a>: <em>Merge profiles into JupyterHub itself</em> by <strong><a href=\"https://github.com/rkdarst\">@rkdarst</a></strong></li>\n</ul>\n<h5><a href=\"https://github.com/jupyterhub/zero-to-jupyterhub-k8s\">jupyterhub/zero-to-jupyterhub-k8s</a></h5>\n<ul>\n<li><a href=\"https://github.com/jupyterhub/zero-to-jupyterhub-k8s/issues/1414\">(#1414)</a>: <em>PR Discussion - Optimizing auto scaling through self destruction</em> by <strong><a href=\"https://github.com/consideRatio\">@consideRatio</a></strong></li>\n<li><a href=\"https://github.com/jupyterhub/zero-to-jupyterhub-k8s/issues/1402\">(#1402)</a>: <em>Adding NodeAffinity, Nodeselector, Toleration in JupyterHub Helm chart version 0.7.0</em> by <strong><a href=\"https://github.com/ramkrishnan8994\">@ramkrishnan8994</a></strong></li>\n<li><a href=\"https://github.com/jupyterhub/zero-to-jupyterhub-k8s/issues/1384\">(#1384)</a>: <em>Initialize without Helm</em> by <strong><a href=\"https://github.com/JWDobken\">@JWDobken</a></strong></li>\n</ul>"
      }
     },
     "41522e3f78c946589f73c62431dc9e07": {
      "model_module": "@jupyter-widgets/controls",
      "model_module_version": "1.5.0",
      "model_name": "DescriptionStyleModel",
      "state": {
       "_model_module": "@jupyter-widgets/controls",
       "_model_module_version": "1.5.0",
       "_model_name": "DescriptionStyleModel",
       "_view_count": null,
       "_view_module": "@jupyter-widgets/base",
       "_view_module_version": "1.2.0",
       "_view_name": "StyleView",
       "description_width": ""
      }
     },
     "428fee6940c846e4b9087568f40da984": {
      "model_module": "@jupyter-widgets/controls",
      "model_module_version": "1.5.0",
      "model_name": "HTMLModel",
      "state": {
       "_dom_classes": [],
       "_model_module": "@jupyter-widgets/controls",
       "_model_module_version": "1.5.0",
       "_model_name": "HTMLModel",
       "_view_count": null,
       "_view_module": "@jupyter-widgets/controls",
       "_view_module_version": "1.5.0",
       "_view_name": "HTMLView",
       "description": "",
       "description_tooltip": null,
       "layout": "IPY_MODEL_32442d65ea23443c8ec53db8aaf4a471",
       "placeholder": "​",
       "style": "IPY_MODEL_5b01c9a20bc7423aa9e447d024119e21",
       "value": "<h4>jupyter</h4>\n<h5><a href=\"https://github.com/jupyter/docker-stacks\">jupyter/docker-stacks</a></h5>\n<ul>\n<li><a href=\"https://github.com/jupyter/docker-stacks/issues/934\">(#934)</a>: <em>UI Corruption starting on jupyter/scipy-notebook:64c893e91c60 after jupyter lab build?</em> by <strong><a href=\"https://github.com/kronenpj\">@kronenpj</a></strong></li>\n<li><a href=\"https://github.com/jupyter/docker-stacks/issues/931\">(#931)</a>: <em>A Suggestion on Creating Linux User Password</em> by <strong><a href=\"https://github.com/LY1806620741\">@LY1806620741</a></strong></li>\n<li><a href=\"https://github.com/jupyter/docker-stacks/issues/936\">(#936)</a>: <em>Updating to 1.1.2?</em> by <strong><a href=\"https://github.com/hiramf\">@hiramf</a></strong></li>\n</ul>\n<h5><a href=\"https://github.com/jupyter/enterprise_gateway\">jupyter/enterprise_gateway</a></h5>\n<ul>\n<li><a href=\"https://github.com/jupyter/enterprise_gateway/issues/726\">(#726)</a>: <em>Number of notebooks with EG</em> by <strong><a href=\"https://github.com/mihirkapadiap\">@mihirkapadiap</a></strong></li>\n<li><a href=\"https://github.com/jupyter/enterprise_gateway/issues/736\">(#736)</a>: <em>generate-config on ppc64le fails with latest anacoda openssl 1.1.1d</em> by <strong><a href=\"https://github.com/stevehaertel\">@stevehaertel</a></strong></li>\n<li><a href=\"https://github.com/jupyter/enterprise_gateway/issues/732\">(#732)</a>: <em>Process starvation in concurrent kernel starts, and scaling out JEG for scalability.</em> by <strong><a href=\"https://github.com/esevan\">@esevan</a></strong></li>\n<li><a href=\"https://github.com/jupyter/enterprise_gateway/issues/731\">(#731)</a>: <em>Metric Collection and Montioring</em> by <strong><a href=\"https://github.com/IMAM9AIS\">@IMAM9AIS</a></strong></li>\n</ul>\n<h5><a href=\"https://github.com/jupyter/governance\">jupyter/governance</a></h5>\n<ul>\n<li><a href=\"https://github.com/jupyter/governance/issues/42\">(#42)</a>: <em>Update trademark usage document to reflect issued trademark</em> by <strong><a href=\"https://github.com/ellisonbg\">@ellisonbg</a></strong></li>\n</ul>\n<h5><a href=\"https://github.com/jupyter/jupyter\">jupyter/jupyter</a></h5>\n<h5><a href=\"https://github.com/jupyter/jupyter-book\">jupyter/jupyter-book</a></h5>\n<ul>\n<li><a href=\"https://github.com/jupyter/jupyter-book/issues/296\">(#296)</a>: <em>Some small formatting issues following upgrade to master</em> by <strong><a href=\"https://github.com/gureckis\">@gureckis</a></strong></li>\n<li><a href=\"https://github.com/jupyter/jupyter-book/issues/283\">(#283)</a>: <em>Code cells in plain Markdown files are rendered as raw text</em> by <strong><a href=\"https://github.com/mwouts\">@mwouts</a></strong></li>\n</ul>\n<h5><a href=\"https://github.com/jupyter/jupyter-sphinx\">jupyter/jupyter-sphinx</a></h5>\n<ul>\n<li><a href=\"https://github.com/jupyter/jupyter-sphinx/issues/77\">(#77)</a>: <em>sphinx.ext.mathbase is deprecated</em> by <strong><a href=\"https://github.com/mgeier\">@mgeier</a></strong></li>\n<li><a href=\"https://github.com/jupyter/jupyter-sphinx/issues/75\">(#75)</a>: <em>Configuring ThebeButton</em> by <strong><a href=\"https://github.com/oscarys\">@oscarys</a></strong></li>\n<li><a href=\"https://github.com/jupyter/jupyter-sphinx/issues/74\">(#74)</a>: <em>Use same kernel for multiple documents</em> by <strong><a href=\"https://github.com/pohlt\">@pohlt</a></strong></li>\n</ul>\n<h5><a href=\"https://github.com/jupyter/jupyter.github.io\">jupyter/jupyter.github.io</a></h5>\n<ul>\n<li><a href=\"https://github.com/jupyter/jupyter.github.io/issues/268\">(#268)</a>: <em>Link Back from BLog to website</em> by <strong><a href=\"https://github.com/Carreau\">@Carreau</a></strong></li>\n</ul>\n<h5><a href=\"https://github.com/jupyter/jupyter_client\">jupyter/jupyter_client</a></h5>\n<ul>\n<li><a href=\"https://github.com/jupyter/jupyter_client/issues/482\">(#482)</a>: <em>kernel client blocks indefinitely during gc.collect() call</em> by <strong><a href=\"https://github.com/markwaddle\">@markwaddle</a></strong></li>\n<li><a href=\"https://github.com/jupyter/jupyter_client/issues/475\">(#475)</a>: <em>Error during Kernel Startup on Windows</em> by <strong><a href=\"https://github.com/valgarf\">@valgarf</a></strong></li>\n</ul>\n<h5><a href=\"https://github.com/jupyter/jupyter_console\">jupyter/jupyter_console</a></h5>\n<ul>\n<li><a href=\"https://github.com/jupyter/jupyter_console/issues/163\">(#163)</a>: <em>Jupyter console crashes on Python 3.7</em> by <strong><a href=\"https://github.com/dschrempf\">@dschrempf</a></strong></li>\n</ul>\n<h5><a href=\"https://github.com/jupyter/jupyter_core\">jupyter/jupyter_core</a></h5>\n<h5><a href=\"https://github.com/jupyter/jupyter_server\">jupyter/jupyter_server</a></h5>\n<ul>\n<li><a href=\"https://github.com/jupyter/jupyter_server/issues/53\">(#53)</a>: <em>Sync Notebook and Jupyter Server.</em> by <strong><a href=\"https://github.com/Zsailer\">@Zsailer</a></strong></li>\n</ul>\n<h5><a href=\"https://github.com/jupyter/kernel_gateway\">jupyter/kernel_gateway</a></h5>\n<ul>\n<li><a href=\"https://github.com/jupyter/kernel_gateway/issues/326\">(#326)</a>: _Way to define Parameters in HTTP Notebook Swagger _ by <strong><a href=\"https://github.com/fullstackwebdev\">@fullstackwebdev</a></strong></li>\n</ul>\n<h5><a href=\"https://github.com/jupyter/kernel_gateway_demos\">jupyter/kernel_gateway_demos</a></h5>\n<ul>\n<li><a href=\"https://github.com/jupyter/kernel_gateway_demos/issues/63\">(#63)</a>: <em>ImportError: cannot import name 'Type'</em> by <strong><a href=\"https://github.com/heiderich\">@heiderich</a></strong></li>\n</ul>\n<h5><a href=\"https://github.com/jupyter/nbconvert\">jupyter/nbconvert</a></h5>\n<ul>\n<li><a href=\"https://github.com/jupyter/nbconvert/issues/1096\">(#1096)</a>: <em>Process Messages of new type on 'iopub' channel</em> by <strong><a href=\"https://github.com/zoebraiyan\">@zoebraiyan</a></strong></li>\n<li><a href=\"https://github.com/jupyter/nbconvert/issues/1102\">(#1102)</a>: <em>Export notebook to PDF</em> by <strong><a href=\"https://github.com/josemrzz\">@josemrzz</a></strong></li>\n<li><a href=\"https://github.com/jupyter/nbconvert/issues/1062\">(#1062)</a>: <em>nbconvert to notebook doesn't respect line endings</em> by <strong><a href=\"https://github.com/jamesmyatt\">@jamesmyatt</a></strong></li>\n<li><a href=\"https://github.com/jupyter/nbconvert/issues/884\">(#884)</a>: <em>Returning timeout 0 in timeout_func of ExecuteProcessor disables the timeout</em> by <strong><a href=\"https://github.com/JoaoFelipe\">@JoaoFelipe</a></strong></li>\n</ul>\n<h5><a href=\"https://github.com/jupyter/nbdime\">jupyter/nbdime</a></h5>\n<ul>\n<li><a href=\"https://github.com/jupyter/nbdime/issues/499\">(#499)</a>: <em>Extension controls - enabling / disabling toolbar buttons</em> by <strong><a href=\"https://github.com/psychemedia\">@psychemedia</a></strong></li>\n<li><a href=\"https://github.com/jupyter/nbdime/issues/497\">(#497)</a>: <em>git-nbdiffdriver fails to parse branch1:file1..branch2:file2 syntax</em> by <strong><a href=\"https://github.com/dniku\">@dniku</a></strong></li>\n</ul>\n<h5><a href=\"https://github.com/jupyter/nbformat\">jupyter/nbformat</a></h5>\n<ul>\n<li><a href=\"https://github.com/jupyter/nbformat/issues/146\">(#146)</a>: <em>nbformat Typescript type definitions</em> by <strong><a href=\"https://github.com/nokome\">@nokome</a></strong></li>\n<li><a href=\"https://github.com/jupyter/nbformat/issues/52\">(#52)</a>: <em>sqlite3.OperationalError: database is locked</em> by <strong><a href=\"https://github.com/SamLau95\">@SamLau95</a></strong></li>\n</ul>\n<h5><a href=\"https://github.com/jupyter/nbgrader\">jupyter/nbgrader</a></h5>\n<ul>\n<li><a href=\"https://github.com/jupyter/nbgrader/issues/1095\">(#1095)</a>: <em>Use db for exchange mechanism</em> by <strong><a href=\"https://github.com/ryanlovett\">@ryanlovett</a></strong></li>\n<li><a href=\"https://github.com/jupyter/nbgrader/issues/1153\">(#1153)</a>: <em>Randomising Values in questions and tests as part of assignment process</em> by <strong><a href=\"https://github.com/psychemedia\">@psychemedia</a></strong></li>\n</ul>\n<h5><a href=\"https://github.com/jupyter/nbviewer\">jupyter/nbviewer</a></h5>\n<ul>\n<li><a href=\"https://github.com/jupyter/nbviewer/issues/852\">(#852)</a>: <em>Deploying jupyter/nbviewer:latest to nbviewer.jupyter.org fails</em> by <strong><a href=\"https://github.com/parente\">@parente</a></strong></li>\n<li><a href=\"https://github.com/jupyter/nbviewer/issues/664\">(#664)</a>: <em>got 400: bad request to git repo with LFS enabled</em> by <strong><a href=\"https://github.com/tarokiritani\">@tarokiritani</a></strong></li>\n<li><a href=\"https://github.com/jupyter/nbviewer/issues/295\">(#295)</a>: <em>How long does a cached notebook persist?</em> by <strong><a href=\"https://github.com/nicktimko\">@nicktimko</a></strong></li>\n</ul>\n<h5><a href=\"https://github.com/jupyter/notebook\">jupyter/notebook</a></h5>\n<h5><a href=\"https://github.com/jupyter/qtconsole\">jupyter/qtconsole</a></h5>\n<ul>\n<li><a href=\"https://github.com/jupyter/qtconsole/issues/380\">(#380)</a>: <em>%matplotlib qt5 causes time.sleep to hang for 10 seconds</em> by <strong><a href=\"https://github.com/impact27\">@impact27</a></strong></li>\n<li><a href=\"https://github.com/jupyter/qtconsole/issues/379\">(#379)</a>: <em>Prompt is slow to come back under some conditions</em> by <strong><a href=\"https://github.com/impact27\">@impact27</a></strong></li>\n<li><a href=\"https://github.com/jupyter/qtconsole/issues/374\">(#374)</a>: <em>%qtconsole seems to be incompatible with %matplotlib notebook</em> by <strong><a href=\"https://github.com/dereky42\">@dereky42</a></strong></li>\n<li><a href=\"https://github.com/jupyter/qtconsole/issues/372\">(#372)</a>: <em>Pressing return sometimes goes to the next line instead of running the command</em> by <strong><a href=\"https://github.com/impact27\">@impact27</a></strong></li>\n<li><a href=\"https://github.com/jupyter/qtconsole/issues/377\">(#377)</a>: <em>Can't run async loop</em> by <strong><a href=\"https://github.com/impact27\">@impact27</a></strong></li>\n</ul>\n<h5><a href=\"https://github.com/jupyter/repo2docker\">jupyter/repo2docker</a></h5>\n<ul>\n<li><a href=\"https://github.com/jupyter/repo2docker/issues/744\">(#744)</a>: <em>Use Azure pipelines for tests</em> by <strong><a href=\"https://github.com/minrk\">@minrk</a></strong></li>\n</ul>\n<h5><a href=\"https://github.com/jupyter/steering\">jupyter/steering</a></h5>\n<ul>\n<li><a href=\"https://github.com/jupyter/steering/issues/59\">(#59)</a>: <em>Jupyter News Update for Scipy 2019</em> by <strong><a href=\"https://github.com/blink1073\">@blink1073</a></strong></li>\n<li><a href=\"https://github.com/jupyter/steering/issues/56\">(#56)</a>: <em>Jupyter conference advisory committee</em> by <strong><a href=\"https://github.com/jasongrout\">@jasongrout</a></strong></li>\n</ul>\n<h5><a href=\"https://github.com/jupyter/telemetry\">jupyter/telemetry</a></h5>\n<ul>\n<li><a href=\"https://github.com/jupyter/telemetry/issues/24\">(#24)</a>: <em>allow more control over event data via configuration</em> by <strong><a href=\"https://github.com/Zsailer\">@Zsailer</a></strong></li>\n</ul>\n<h5><a href=\"https://github.com/jupyter/terminado\">jupyter/terminado</a></h5>"
      }
     },
     "45a3985df4ee41088bdb29015ab2eb75": {
      "model_module": "@jupyter-widgets/controls",
      "model_module_version": "1.5.0",
      "model_name": "DescriptionStyleModel",
      "state": {
       "_model_module": "@jupyter-widgets/controls",
       "_model_module_version": "1.5.0",
       "_model_name": "DescriptionStyleModel",
       "_view_count": null,
       "_view_module": "@jupyter-widgets/base",
       "_view_module_version": "1.2.0",
       "_view_name": "StyleView",
       "description_width": ""
      }
     },
     "4919332aff8d4dfea7c28b9e71c34959": {
      "model_module": "@jupyter-widgets/controls",
      "model_module_version": "1.5.0",
      "model_name": "HTMLModel",
      "state": {
       "_dom_classes": [],
       "_model_module": "@jupyter-widgets/controls",
       "_model_module_version": "1.5.0",
       "_model_name": "HTMLModel",
       "_view_count": null,
       "_view_module": "@jupyter-widgets/controls",
       "_view_module_version": "1.5.0",
       "_view_name": "HTMLView",
       "description": "",
       "description_tooltip": null,
       "layout": "IPY_MODEL_96ae48263f534ea1a30183f8347b2567",
       "placeholder": "​",
       "style": "IPY_MODEL_39f6b12a8596424cb369c981c75662e3",
       "value": "<h4>binder-examples</h4>\n<h5><a href=\"https://github.com/binder-examples/jupyter-extension\">binder-examples/jupyter-extension</a></h5>\n<ul>\n<li><a href=\"https://github.com/binder-examples/jupyter-extension/issues/1\">(#1)</a>: <em>This example does not work with JupyterLab</em> by <strong><a href=\"https://github.com/fm75\">@fm75</a></strong></li>\n</ul>\n<h5><a href=\"https://github.com/binder-examples/multi-language-demo\">binder-examples/multi-language-demo</a></h5>\n<h5><a href=\"https://github.com/binder-examples/r\">binder-examples/r</a></h5>\n<ul>\n<li><a href=\"https://github.com/binder-examples/r/issues/9\">(#9)</a>: <em>Is there a way to set the R version?</em> by <strong><a href=\"https://github.com/cboettig\">@cboettig</a></strong></li>\n<li><a href=\"https://github.com/binder-examples/r/issues/11\">(#11)</a>: _ LICENSE?_ by <strong><a href=\"https://github.com/jzf2101\">@jzf2101</a></strong></li>\n</ul>\n<h5><a href=\"https://github.com/binder-examples/requirements\">binder-examples/requirements</a></h5>\n<ul>\n<li><a href=\"https://github.com/binder-examples/requirements/issues/7\">(#7)</a>: <em>Consider making repo a GitHub template repository</em> by <strong><a href=\"https://github.com/matthewfeickert\">@matthewfeickert</a></strong></li>\n</ul>"
      }
     },
     "574f82b4b12349e5b08933076ce63f71": {
      "model_module": "@jupyter-widgets/controls",
      "model_module_version": "1.5.0",
      "model_name": "TabModel",
      "state": {
       "_dom_classes": [],
       "_model_module": "@jupyter-widgets/controls",
       "_model_module_version": "1.5.0",
       "_model_name": "TabModel",
       "_titles": {
        "0": "binder-examples",
        "1": "ipython",
        "2": "jupyter",
        "3": "jupyter-widgets",
        "4": "jupyterhub",
        "5": "jupyterlab"
       },
       "_view_count": null,
       "_view_module": "@jupyter-widgets/controls",
       "_view_module_version": "1.5.0",
       "_view_name": "TabView",
       "box_style": "",
       "children": [
        "IPY_MODEL_4919332aff8d4dfea7c28b9e71c34959",
        "IPY_MODEL_3c16f17a2b1749e0bda69780e2a90311",
        "IPY_MODEL_428fee6940c846e4b9087568f40da984",
        "IPY_MODEL_029823ed873a470582f9e6fa83f4d9dd",
        "IPY_MODEL_638da6f7e8a74047b3f437ee2c523898",
        "IPY_MODEL_e8be661f6a8841fbae76092d29f489e5"
       ],
       "layout": "IPY_MODEL_aaba2bda0edc4521a8986e58a10885fd",
       "selected_index": 0
      }
     },
     "5b01c9a20bc7423aa9e447d024119e21": {
      "model_module": "@jupyter-widgets/controls",
      "model_module_version": "1.5.0",
      "model_name": "DescriptionStyleModel",
      "state": {
       "_model_module": "@jupyter-widgets/controls",
       "_model_module_version": "1.5.0",
       "_model_name": "DescriptionStyleModel",
       "_view_count": null,
       "_view_module": "@jupyter-widgets/base",
       "_view_module_version": "1.2.0",
       "_view_name": "StyleView",
       "description_width": ""
      }
     },
     "5d2ef754538b4c42a9854dabae792ce8": {
      "model_module": "@jupyter-widgets/controls",
      "model_module_version": "1.5.0",
      "model_name": "DescriptionStyleModel",
      "state": {
       "_model_module": "@jupyter-widgets/controls",
       "_model_module_version": "1.5.0",
       "_model_name": "DescriptionStyleModel",
       "_view_count": null,
       "_view_module": "@jupyter-widgets/base",
       "_view_module_version": "1.2.0",
       "_view_name": "StyleView",
       "description_width": ""
      }
     },
     "638da6f7e8a74047b3f437ee2c523898": {
      "model_module": "@jupyter-widgets/controls",
      "model_module_version": "1.5.0",
      "model_name": "HTMLModel",
      "state": {
       "_dom_classes": [],
       "_model_module": "@jupyter-widgets/controls",
       "_model_module_version": "1.5.0",
       "_model_name": "HTMLModel",
       "_view_count": null,
       "_view_module": "@jupyter-widgets/controls",
       "_view_module_version": "1.5.0",
       "_view_name": "HTMLView",
       "description": "",
       "description_tooltip": null,
       "layout": "IPY_MODEL_0ef829aeb02740d396e0b6770090e85e",
       "placeholder": "​",
       "style": "IPY_MODEL_45a3985df4ee41088bdb29015ab2eb75",
       "value": "<h4>jupyterhub</h4>\n<h5><a href=\"https://github.com/jupyterhub/batchspawner\">jupyterhub/batchspawner</a></h5>\n<ul>\n<li><a href=\"https://github.com/jupyterhub/batchspawner/issues/161\">(#161)</a>: <em>Problem getting SlurmSpawner to work</em> by <strong><a href=\"https://github.com/spalkovits\">@spalkovits</a></strong></li>\n<li><a href=\"https://github.com/jupyterhub/batchspawner/issues/122\">(#122)</a>: <em>Batchspawner maintenance?</em> by <strong><a href=\"https://github.com/rkdarst\">@rkdarst</a></strong></li>\n<li><a href=\"https://github.com/jupyterhub/batchspawner/issues/160\">(#160)</a>: <em>Rethinking environment handling</em> by <strong><a href=\"https://github.com/rkdarst\">@rkdarst</a></strong></li>\n<li><a href=\"https://github.com/jupyterhub/batchspawner/issues/146\">(#146)</a>: <em>\"Remote port selection\" allows redesigning batchspawner to avoid polling/spawner interaction</em> by <strong><a href=\"https://github.com/rkdarst\">@rkdarst</a></strong></li>\n</ul>\n<h5><a href=\"https://github.com/jupyterhub/binderhub\">jupyterhub/binderhub</a></h5>\n<ul>\n<li><a href=\"https://github.com/jupyterhub/binderhub/issues/955\">(#955)</a>: <em>Binderhub is not installing dependencies in Pipfile</em> by <strong><a href=\"https://github.com/koldLight\">@koldLight</a></strong></li>\n</ul>\n<h5><a href=\"https://github.com/jupyterhub/chartpress\">jupyterhub/chartpress</a></h5>\n<h5><a href=\"https://github.com/jupyterhub/dockerspawner\">jupyterhub/dockerspawner</a></h5>\n<ul>\n<li><a href=\"https://github.com/jupyterhub/dockerspawner/issues/330\">(#330)</a>: <em>Timeout potentially due to docker inspect_container prior to creation</em> by <strong><a href=\"https://github.com/gdbassett\">@gdbassett</a></strong></li>\n<li><a href=\"https://github.com/jupyterhub/dockerspawner/issues/332\">(#332)</a>: <em>readthedocs</em> by <strong><a href=\"https://github.com/minrk\">@minrk</a></strong></li>\n</ul>\n<h5><a href=\"https://github.com/jupyterhub/jupyter-rsession-proxy\">jupyterhub/jupyter-rsession-proxy</a></h5>\n<ul>\n<li><a href=\"https://github.com/jupyterhub/jupyter-rsession-proxy/issues/71\">(#71)</a>: <em>Terminal not working in RStudio</em> by <strong><a href=\"https://github.com/anton-khodak\">@anton-khodak</a></strong></li>\n</ul>\n<h5><a href=\"https://github.com/jupyterhub/jupyter-server-proxy\">jupyterhub/jupyter-server-proxy</a></h5>\n<ul>\n<li><a href=\"https://github.com/jupyterhub/jupyter-server-proxy/issues/142\">(#142)</a>: <em>Limit the exposed ports</em> by <strong><a href=\"https://github.com/shyam334\">@shyam334</a></strong></li>\n<li><a href=\"https://github.com/jupyterhub/jupyter-server-proxy/issues/145\">(#145)</a>: <em>Consider moving JupyterLab launcher entries to the \"other\" category</em> by <strong><a href=\"https://github.com/ian-r-rose\">@ian-r-rose</a></strong></li>\n</ul>\n<h5><a href=\"https://github.com/jupyterhub/jupyterhub\">jupyterhub/jupyterhub</a></h5>\n<ul>\n<li><a href=\"https://github.com/jupyterhub/jupyterhub/issues/2738\">(#2738)</a>: <em>Blank Terminal Screen systemdspawner</em> by <strong><a href=\"https://github.com/jakepaw\">@jakepaw</a></strong></li>\n<li><a href=\"https://github.com/jupyterhub/jupyterhub/issues/2749\">(#2749)</a>: <em>Proxy startup and configuration is required for init_spawners, right?</em> by <strong><a href=\"https://github.com/consideRatio\">@consideRatio</a></strong></li>\n<li><a href=\"https://github.com/jupyterhub/jupyterhub/issues/2745\">(#2745)</a>: <em>hub-&gt;proxy web-request timebombs - how to not explode?</em> by <strong><a href=\"https://github.com/consideRatio\">@consideRatio</a></strong></li>\n<li><a href=\"https://github.com/jupyterhub/jupyterhub/issues/2724\">(#2724)</a>: <em>Moving Profile selection to core JupyterHub</em> by <strong><a href=\"https://github.com/rkdarst\">@rkdarst</a></strong></li>\n</ul>\n<h5><a href=\"https://github.com/jupyterhub/jupyterhub-deploy-docker\">jupyterhub/jupyterhub-deploy-docker</a></h5>\n<ul>\n<li><a href=\"https://github.com/jupyterhub/jupyterhub-deploy-docker/issues/92\">(#92)</a>: <em>Naming Conventions for Volumes - Docker Spawner</em> by <strong><a href=\"https://github.com/ajennings67\">@ajennings67</a></strong></li>\n<li><a href=\"https://github.com/jupyterhub/jupyterhub-deploy-docker/issues/91\">(#91)</a>: <em>'make build' fails with Conda</em> by <strong><a href=\"https://github.com/karthi4k\">@karthi4k</a></strong></li>\n</ul>\n<h5><a href=\"https://github.com/jupyterhub/kubespawner\">jupyterhub/kubespawner</a></h5>\n<ul>\n<li><a href=\"https://github.com/jupyterhub/kubespawner/issues/347\">(#347)</a>: <em>KubeIngressProxy, using make_ingress -&gt; can't import V1beta1Ingress</em> by <strong><a href=\"https://github.com/retypuj\">@retypuj</a></strong></li>\n<li><a href=\"https://github.com/jupyterhub/kubespawner/issues/351\">(#351)</a>: <em>Separate properties for Limit and Request cpu and memory resources</em> by <strong><a href=\"https://github.com/divaybansal\">@divaybansal</a></strong></li>\n<li><a href=\"https://github.com/jupyterhub/kubespawner/issues/350\">(#350)</a>: <em>Adding NodeAffinity, Nodeselector, Toleration in JupyterHub Helm chart version 0.7.0</em> by <strong><a href=\"https://github.com/ramkrishnan8994\">@ramkrishnan8994</a></strong></li>\n</ul>\n<h5><a href=\"https://github.com/jupyterhub/ldapauthenticator\">jupyterhub/ldapauthenticator</a></h5>\n<ul>\n<li><a href=\"https://github.com/jupyterhub/ldapauthenticator/issues/101\">(#101)</a>: <em>LDAPBindError: automatic bind not successful - invalidCredentials</em> by <strong><a href=\"https://github.com/tedstrauss\">@tedstrauss</a></strong></li>\n</ul>\n<h5><a href=\"https://github.com/jupyterhub/ltiauthenticator\">jupyterhub/ltiauthenticator</a></h5>\n<ul>\n<li><a href=\"https://github.com/jupyterhub/ltiauthenticator/issues/19\">(#19)</a>: <em>Incompatibilities and hanging tljh-config reload</em> by <strong><a href=\"https://github.com/wmunters\">@wmunters</a></strong></li>\n<li><a href=\"https://github.com/jupyterhub/ltiauthenticator/issues/22\">(#22)</a>: <em>AttributeError: 'LTIAuthenticator' object has no attribute 'request'</em> by <strong><a href=\"https://github.com/owen198\">@owen198</a></strong></li>\n<li><a href=\"https://github.com/jupyterhub/ltiauthenticator/issues/21\">(#21)</a>: <em>Installation fails due to conflicting oauthlib version</em> by <strong><a href=\"https://github.com/NeolithEra\">@NeolithEra</a></strong></li>\n</ul>\n<h5><a href=\"https://github.com/jupyterhub/mybinder.org-deploy\">jupyterhub/mybinder.org-deploy</a></h5>\n<ul>\n<li><a href=\"https://github.com/jupyterhub/mybinder.org-deploy/issues/1160\">(#1160)</a>: <em>Upgrading k8s version on OVH cluster</em> by <strong><a href=\"https://github.com/mael-le-gal\">@mael-le-gal</a></strong></li>\n<li><a href=\"https://github.com/jupyterhub/mybinder.org-deploy/issues/1175\">(#1175)</a>: <em>Shiny app not deploying</em> by <strong><a href=\"https://github.com/pablobernabeu\">@pablobernabeu</a></strong></li>\n<li><a href=\"https://github.com/jupyterhub/mybinder.org-deploy/issues/1172\">(#1172)</a>: <em>mybinder.org kernels no longer running?</em> by <strong><a href=\"https://github.com/mrocklin\">@mrocklin</a></strong></li>\n</ul>\n<h5><a href=\"https://github.com/jupyterhub/nativeauthenticator\">jupyterhub/nativeauthenticator</a></h5>\n<ul>\n<li><a href=\"https://github.com/jupyterhub/nativeauthenticator/issues/75\">(#75)</a>: _How to initialize ? _ by <strong><a href=\"https://github.com/odovad\">@odovad</a></strong></li>\n</ul>\n<h5><a href=\"https://github.com/jupyterhub/nbgitpuller\">jupyterhub/nbgitpuller</a></h5>\n<ul>\n<li><a href=\"https://github.com/jupyterhub/nbgitpuller/issues/84\">(#84)</a>: <em>Automatically set user.name &amp; user.email if necessary</em> by <strong><a href=\"https://github.com/parmentelat\">@parmentelat</a></strong></li>\n<li><a href=\"https://github.com/jupyterhub/nbgitpuller/issues/64\">(#64)</a>: <em>nbgitpuller does not work on Microsoft Edge</em> by <strong><a href=\"https://github.com/giumas\">@giumas</a></strong></li>\n</ul>\n<h5><a href=\"https://github.com/jupyterhub/oauthenticator\">jupyterhub/oauthenticator</a></h5>\n<ul>\n<li><a href=\"https://github.com/jupyterhub/oauthenticator/issues/286\">(#286)</a>: <em>Entrypoints causes issues with JupyterHub.</em> by <strong><a href=\"https://github.com/GrahamDumpleton\">@GrahamDumpleton</a></strong></li>\n<li><a href=\"https://github.com/jupyterhub/oauthenticator/issues/211\">(#211)</a>: <em>refresh token on OAuth2 module in Jupyter</em> by <strong><a href=\"https://github.com/michec81\">@michec81</a></strong></li>\n<li><a href=\"https://github.com/jupyterhub/oauthenticator/issues/243\">(#243)</a>: _Include  Gitlab local authentication details in read.md  _ by <strong><a href=\"https://github.com/divatemangesh\">@divatemangesh</a></strong></li>\n</ul>\n<h5><a href=\"https://github.com/jupyterhub/systemdspawner\">jupyterhub/systemdspawner</a></h5>\n<h5><a href=\"https://github.com/jupyterhub/team-compass\">jupyterhub/team-compass</a></h5>\n<ul>\n<li><a href=\"https://github.com/jupyterhub/team-compass/issues/199\">(#199)</a>: <em>September Team Meeting 2019</em> by <strong><a href=\"https://github.com/Zsailer\">@Zsailer</a></strong></li>\n</ul>\n<h5><a href=\"https://github.com/jupyterhub/the-littlest-jupyterhub\">jupyterhub/the-littlest-jupyterhub</a></h5>\n<ul>\n<li><a href=\"https://github.com/jupyterhub/the-littlest-jupyterhub/issues/237\">(#237)</a>: <em>TLJH does not automatically create home directories for new users on Ubuntu Server 18.10</em> by <strong><a href=\"https://github.com/owah\">@owah</a></strong></li>\n</ul>\n<h5><a href=\"https://github.com/jupyterhub/traefik-proxy\">jupyterhub/traefik-proxy</a></h5>\n<h5><a href=\"https://github.com/jupyterhub/wrapspawner\">jupyterhub/wrapspawner</a></h5>\n<ul>\n<li><a href=\"https://github.com/jupyterhub/wrapspawner/issues/33\">(#33)</a>: <em>Merge profiles into JupyterHub itself</em> by <strong><a href=\"https://github.com/rkdarst\">@rkdarst</a></strong></li>\n</ul>\n<h5><a href=\"https://github.com/jupyterhub/zero-to-jupyterhub-k8s\">jupyterhub/zero-to-jupyterhub-k8s</a></h5>\n<ul>\n<li><a href=\"https://github.com/jupyterhub/zero-to-jupyterhub-k8s/issues/1414\">(#1414)</a>: <em>PR Discussion - Optimizing auto scaling through self destruction</em> by <strong><a href=\"https://github.com/consideRatio\">@consideRatio</a></strong></li>\n<li><a href=\"https://github.com/jupyterhub/zero-to-jupyterhub-k8s/issues/1402\">(#1402)</a>: <em>Adding NodeAffinity, Nodeselector, Toleration in JupyterHub Helm chart version 0.7.0</em> by <strong><a href=\"https://github.com/ramkrishnan8994\">@ramkrishnan8994</a></strong></li>\n<li><a href=\"https://github.com/jupyterhub/zero-to-jupyterhub-k8s/issues/1384\">(#1384)</a>: <em>Initialize without Helm</em> by <strong><a href=\"https://github.com/JWDobken\">@JWDobken</a></strong></li>\n</ul>"
      }
     },
     "6d239b8ec4094bfbb96f89e933de4b43": {
      "model_module": "@jupyter-widgets/controls",
      "model_module_version": "1.5.0",
      "model_name": "DescriptionStyleModel",
      "state": {
       "_model_module": "@jupyter-widgets/controls",
       "_model_module_version": "1.5.0",
       "_model_name": "DescriptionStyleModel",
       "_view_count": null,
       "_view_module": "@jupyter-widgets/base",
       "_view_module_version": "1.2.0",
       "_view_name": "StyleView",
       "description_width": ""
      }
     },
     "7335a0ecd78945bebf76ebdce043d2c4": {
      "model_module": "@jupyter-widgets/base",
      "model_module_version": "1.2.0",
      "model_name": "LayoutModel",
      "state": {
       "_model_module": "@jupyter-widgets/base",
       "_model_module_version": "1.2.0",
       "_model_name": "LayoutModel",
       "_view_count": null,
       "_view_module": "@jupyter-widgets/base",
       "_view_module_version": "1.2.0",
       "_view_name": "LayoutView",
       "align_content": null,
       "align_items": null,
       "align_self": null,
       "border": null,
       "bottom": null,
       "display": null,
       "flex": null,
       "flex_flow": null,
       "grid_area": null,
       "grid_auto_columns": null,
       "grid_auto_flow": null,
       "grid_auto_rows": null,
       "grid_column": null,
       "grid_gap": null,
       "grid_row": null,
       "grid_template_areas": null,
       "grid_template_columns": null,
       "grid_template_rows": null,
       "height": null,
       "justify_content": null,
       "justify_items": null,
       "left": null,
       "margin": null,
       "max_height": null,
       "max_width": null,
       "min_height": null,
       "min_width": null,
       "object_fit": null,
       "object_position": null,
       "order": null,
       "overflow": null,
       "overflow_x": null,
       "overflow_y": null,
       "padding": null,
       "right": null,
       "top": null,
       "visibility": null,
       "width": null
      }
     },
     "781bde1cdc7146f4b4cb9b0551bc3a57": {
      "model_module": "@jupyter-widgets/controls",
      "model_module_version": "1.5.0",
      "model_name": "DescriptionStyleModel",
      "state": {
       "_model_module": "@jupyter-widgets/controls",
       "_model_module_version": "1.5.0",
       "_model_name": "DescriptionStyleModel",
       "_view_count": null,
       "_view_module": "@jupyter-widgets/base",
       "_view_module_version": "1.2.0",
       "_view_name": "StyleView",
       "description_width": ""
      }
     },
     "7a52fa4369c24aca895d489d445b5f6a": {
      "model_module": "@jupyter-widgets/base",
      "model_module_version": "1.2.0",
      "model_name": "LayoutModel",
      "state": {
       "_model_module": "@jupyter-widgets/base",
       "_model_module_version": "1.2.0",
       "_model_name": "LayoutModel",
       "_view_count": null,
       "_view_module": "@jupyter-widgets/base",
       "_view_module_version": "1.2.0",
       "_view_name": "LayoutView",
       "align_content": null,
       "align_items": null,
       "align_self": null,
       "border": null,
       "bottom": null,
       "display": null,
       "flex": null,
       "flex_flow": null,
       "grid_area": null,
       "grid_auto_columns": null,
       "grid_auto_flow": null,
       "grid_auto_rows": null,
       "grid_column": null,
       "grid_gap": null,
       "grid_row": null,
       "grid_template_areas": null,
       "grid_template_columns": null,
       "grid_template_rows": null,
       "height": null,
       "justify_content": null,
       "justify_items": null,
       "left": null,
       "margin": null,
       "max_height": null,
       "max_width": null,
       "min_height": null,
       "min_width": null,
       "object_fit": null,
       "object_position": null,
       "order": null,
       "overflow": null,
       "overflow_x": null,
       "overflow_y": null,
       "padding": null,
       "right": null,
       "top": null,
       "visibility": null,
       "width": null
      }
     },
     "7feb1040d44b4631ad19cc41172a9a75": {
      "model_module": "@jupyter-widgets/base",
      "model_module_version": "1.2.0",
      "model_name": "LayoutModel",
      "state": {
       "_model_module": "@jupyter-widgets/base",
       "_model_module_version": "1.2.0",
       "_model_name": "LayoutModel",
       "_view_count": null,
       "_view_module": "@jupyter-widgets/base",
       "_view_module_version": "1.2.0",
       "_view_name": "LayoutView",
       "align_content": null,
       "align_items": null,
       "align_self": null,
       "border": null,
       "bottom": null,
       "display": null,
       "flex": null,
       "flex_flow": null,
       "grid_area": null,
       "grid_auto_columns": null,
       "grid_auto_flow": null,
       "grid_auto_rows": null,
       "grid_column": null,
       "grid_gap": null,
       "grid_row": null,
       "grid_template_areas": null,
       "grid_template_columns": null,
       "grid_template_rows": null,
       "height": null,
       "justify_content": null,
       "justify_items": null,
       "left": null,
       "margin": null,
       "max_height": null,
       "max_width": null,
       "min_height": null,
       "min_width": null,
       "object_fit": null,
       "object_position": null,
       "order": null,
       "overflow": null,
       "overflow_x": null,
       "overflow_y": null,
       "padding": null,
       "right": null,
       "top": null,
       "visibility": null,
       "width": null
      }
     },
     "855ab2d21b1a455da801cab23631dc25": {
      "model_module": "@jupyter-widgets/controls",
      "model_module_version": "1.5.0",
      "model_name": "DescriptionStyleModel",
      "state": {
       "_model_module": "@jupyter-widgets/controls",
       "_model_module_version": "1.5.0",
       "_model_name": "DescriptionStyleModel",
       "_view_count": null,
       "_view_module": "@jupyter-widgets/base",
       "_view_module_version": "1.2.0",
       "_view_name": "StyleView",
       "description_width": ""
      }
     },
     "89932ee165bf4545b17032b0756fcb8f": {
      "model_module": "@jupyter-widgets/controls",
      "model_module_version": "1.5.0",
      "model_name": "HTMLModel",
      "state": {
       "_dom_classes": [],
       "_model_module": "@jupyter-widgets/controls",
       "_model_module_version": "1.5.0",
       "_model_name": "HTMLModel",
       "_view_count": null,
       "_view_module": "@jupyter-widgets/controls",
       "_view_module_version": "1.5.0",
       "_view_name": "HTMLView",
       "description": "",
       "description_tooltip": null,
       "layout": "IPY_MODEL_0d03a987b11a45ad8bf7c582ce5962f4",
       "placeholder": "​",
       "style": "IPY_MODEL_855ab2d21b1a455da801cab23631dc25",
       "value": "<center><p><a href=\"https://github.com/00Kai0\">00Kai0</a> | <a href=\"https://github.com/aafreenrah\">aafreenrah</a> | <a href=\"https://github.com/aakhmetz\">aakhmetz</a> | <a href=\"https://github.com/adejonghm\">adejonghm</a> | <a href=\"https://github.com/AEljarrat\">AEljarrat</a> | <a href=\"https://github.com/ai559031\">ai559031</a> | <a href=\"https://github.com/aiqingyuyan\">aiqingyuyan</a> | <a href=\"https://github.com/akhilputhiry\">akhilputhiry</a> | <a href=\"https://github.com/akhmerov\">akhmerov</a> | <a href=\"https://github.com/akonchady\">akonchady</a> | <a href=\"https://github.com/alancalvitti\">alancalvitti</a> | <a href=\"https://github.com/alexmorley\">alexmorley</a> | <a href=\"https://github.com/Amr-Ibra\">Amr-Ibra</a> | <a href=\"https://github.com/andreas-h\">andreas-h</a> | <a href=\"https://github.com/andrewjohnlowe\">andrewjohnlowe</a> | <a href=\"https://github.com/anshumusaddi\">anshumusaddi</a> | <a href=\"https://github.com/anthonyiarussi\">anthonyiarussi</a> | <a href=\"https://github.com/arnavs\">arnavs</a> | <a href=\"https://github.com/arokem\">arokem</a> | <a href=\"https://github.com/aseem-hegshetye\">aseem-hegshetye</a> | <a href=\"https://github.com/astroboylrx\">astroboylrx</a> | <a href=\"https://github.com/astromancer\">astromancer</a> | <a href=\"https://github.com/augusto-herrmann\">augusto-herrmann</a> | <a href=\"https://github.com/axil\">axil</a> | <a href=\"https://github.com/banrieen\">banrieen</a> | <a href=\"https://github.com/BanuSelinTosun\">BanuSelinTosun</a> | <a href=\"https://github.com/benjimin\">benjimin</a> | <a href=\"https://github.com/benmccann\">benmccann</a> | <a href=\"https://github.com/BertR\">BertR</a> | <a href=\"https://github.com/betatim\">betatim</a> | <a href=\"https://github.com/bipulcn\">bipulcn</a> | <a href=\"https://github.com/boffi\">boffi</a> | <a href=\"https://github.com/bollwyvl\">bollwyvl</a> | <a href=\"https://github.com/bthayer2365\">bthayer2365</a> | <a href=\"https://github.com/bunbunbun777\">bunbunbun777</a> | <a href=\"https://github.com/buzzf\">buzzf</a> | <a href=\"https://github.com/caramelslice\">caramelslice</a> | <a href=\"https://github.com/ccordoba12\">ccordoba12</a> | <a href=\"https://github.com/ChanaLii\">ChanaLii</a> | <a href=\"https://github.com/charlesfrye\">charlesfrye</a> | <a href=\"https://github.com/chenmingxiang110\">chenmingxiang110</a> | <a href=\"https://github.com/chikaj\">chikaj</a> | <a href=\"https://github.com/choldgraf\">choldgraf</a> | <a href=\"https://github.com/chrispyles\">chrispyles</a> | <a href=\"https://github.com/christnp\">christnp</a> | <a href=\"https://github.com/chuyqa\">chuyqa</a> | <a href=\"https://github.com/cjnitta\">cjnitta</a> | <a href=\"https://github.com/clived2\">clived2</a> | <a href=\"https://github.com/consideRatio\">consideRatio</a> | <a href=\"https://github.com/cpatdowling\">cpatdowling</a> | <a href=\"https://github.com/Danigy\">Danigy</a> | <a href=\"https://github.com/daranday\">daranday</a> | <a href=\"https://github.com/daroczig\">daroczig</a> | <a href=\"https://github.com/davewhipp\">davewhipp</a> | <a href=\"https://github.com/DavidNemeskey\">DavidNemeskey</a> | <a href=\"https://github.com/davis68\">davis68</a> | <a href=\"https://github.com/dbl001\">dbl001</a> | <a href=\"https://github.com/deepchatterjeevns\">deepchatterjeevns</a> | <a href=\"https://github.com/deichdeich\">deichdeich</a> | <a href=\"https://github.com/dereky42\">dereky42</a> | <a href=\"https://github.com/dhirschfeld\">dhirschfeld</a> | <a href=\"https://github.com/dhouck\">dhouck</a> | <a href=\"https://github.com/djgray101\">djgray101</a> | <a href=\"https://github.com/dkhokhlov\">dkhokhlov</a> | <a href=\"https://github.com/dlowenberg\">dlowenberg</a> | <a href=\"https://github.com/dniku\">dniku</a> | <a href=\"https://github.com/double-thinker\">double-thinker</a> | <a href=\"https://github.com/drewsaunders\">drewsaunders</a> | <a href=\"https://github.com/echarles\">echarles</a> | <a href=\"https://github.com/ed1d1a8d\">ed1d1a8d</a> | <a href=\"https://github.com/edurenye\">edurenye</a> | <a href=\"https://github.com/ehdgus8077\">ehdgus8077</a> | <a href=\"https://github.com/ellisonbg\">ellisonbg</a> | <a href=\"https://github.com/emdupre\">emdupre</a> | <a href=\"https://github.com/emile-igarape\">emile-igarape</a> | <a href=\"https://github.com/EmperoR1127\">EmperoR1127</a> | <a href=\"https://github.com/esemeniuc\">esemeniuc</a> | <a href=\"https://github.com/esevan\">esevan</a> | <a href=\"https://github.com/ExplodingCabbage\">ExplodingCabbage</a> | <a href=\"https://github.com/fabianfreyer\">fabianfreyer</a> | <a href=\"https://github.com/FazeelUsmani\">FazeelUsmani</a> | <a href=\"https://github.com/fboerman\">fboerman</a> | <a href=\"https://github.com/fcomte\">fcomte</a> | <a href=\"https://github.com/felixnext\">felixnext</a> | <a href=\"https://github.com/fidelram\">fidelram</a> | <a href=\"https://github.com/fjprobos\">fjprobos</a> | <a href=\"https://github.com/flgomezc\">flgomezc</a> | <a href=\"https://github.com/Flid\">Flid</a> | <a href=\"https://github.com/fllsuv\">fllsuv</a> | <a href=\"https://github.com/fullstackwebdev\">fullstackwebdev</a> | <a href=\"https://github.com/gerMarco2022\">gerMarco2022</a> | <a href=\"https://github.com/giuliacarella\">giuliacarella</a> | <a href=\"https://github.com/gliptak\">gliptak</a> | <a href=\"https://github.com/gnestor\">gnestor</a> | <a href=\"https://github.com/goyodiaz\">goyodiaz</a> | <a href=\"https://github.com/gramlogic\">gramlogic</a> | <a href=\"https://github.com/grimwoo\">grimwoo</a> | <a href=\"https://github.com/gureckis\">gureckis</a> | <a href=\"https://github.com/hanyunfan\">hanyunfan</a> | <a href=\"https://github.com/harshit4084\">harshit4084</a> | <a href=\"https://github.com/HavinRaj\">HavinRaj</a> | <a href=\"https://github.com/heiderich\">heiderich</a> | <a href=\"https://github.com/hemansah\">hemansah</a> | <a href=\"https://github.com/henchc\">henchc</a> | <a href=\"https://github.com/henrygatech\">henrygatech</a> | <a href=\"https://github.com/hiramf\">hiramf</a> | <a href=\"https://github.com/hmaarrfk\">hmaarrfk</a> | <a href=\"https://github.com/hunkim\">hunkim</a> | <a href=\"https://github.com/Ianwww\">Ianwww</a> | <a href=\"https://github.com/ietuday\">ietuday</a> | <a href=\"https://github.com/ilveroluca\">ilveroluca</a> | <a href=\"https://github.com/IMAM9AIS\">IMAM9AIS</a> | <a href=\"https://github.com/impact27\">impact27</a> | <a href=\"https://github.com/inspiringsource\">inspiringsource</a> | <a href=\"https://github.com/ismael-elatifi\">ismael-elatifi</a> | <a href=\"https://github.com/isthisthat\">isthisthat</a> | <a href=\"https://github.com/ivanov\">ivanov</a> | <a href=\"https://github.com/Jacobew\">Jacobew</a> | <a href=\"https://github.com/jarmarshall\">jarmarshall</a> | <a href=\"https://github.com/jasongrout\">jasongrout</a> | <a href=\"https://github.com/jdblischak\">jdblischak</a> | <a href=\"https://github.com/jeongwookie\">jeongwookie</a> | <a href=\"https://github.com/jeremydouglass\">jeremydouglass</a> | <a href=\"https://github.com/jhamman\">jhamman</a> | <a href=\"https://github.com/jlperla\">jlperla</a> | <a href=\"https://github.com/jobindj\">jobindj</a> | <a href=\"https://github.com/johngage\">johngage</a> | <a href=\"https://github.com/josemrzz\">josemrzz</a> | <a href=\"https://github.com/JozefK78\">JozefK78</a> | <a href=\"https://github.com/julietsitron\">julietsitron</a> | <a href=\"https://github.com/jwinc7\">jwinc7</a> | <a href=\"https://github.com/K2Prasanna\">K2Prasanna</a> | <a href=\"https://github.com/kakila\">kakila</a> | <a href=\"https://github.com/KeremAslan\">KeremAslan</a> | <a href=\"https://github.com/kevin-bates\">kevin-bates</a> | <a href=\"https://github.com/Khushu06\">Khushu06</a> | <a href=\"https://github.com/KikeM\">KikeM</a> | <a href=\"https://github.com/kojix2\">kojix2</a> | <a href=\"https://github.com/krinsman\">krinsman</a> | <a href=\"https://github.com/kronenpj\">kronenpj</a> | <a href=\"https://github.com/KushnirAndrey\">KushnirAndrey</a> | <a href=\"https://github.com/kwlzn\">kwlzn</a> | <a href=\"https://github.com/kyochujoho\">kyochujoho</a> | <a href=\"https://github.com/lemuelaspe\">lemuelaspe</a> | <a href=\"https://github.com/lfunderburk\">lfunderburk</a> | <a href=\"https://github.com/lionlhy\">lionlhy</a> | <a href=\"https://github.com/lramey\">lramey</a> | <a href=\"https://github.com/lresende\">lresende</a> | <a href=\"https://github.com/ltalirz\">ltalirz</a> | <a href=\"https://github.com/ltammariello\">ltammariello</a> | <a href=\"https://github.com/lucainnocenti\">lucainnocenti</a> | <a href=\"https://github.com/LucaSoato\">LucaSoato</a> | <a href=\"https://github.com/LuizFTelles\">LuizFTelles</a> | <a href=\"https://github.com/lumbric\">lumbric</a> | <a href=\"https://github.com/luvlogic\">luvlogic</a> | <a href=\"https://github.com/LY1806620741\">LY1806620741</a> | <a href=\"https://github.com/mangozy\">mangozy</a> | <a href=\"https://github.com/manics\">manics</a> | <a href=\"https://github.com/marhoy\">marhoy</a> | <a href=\"https://github.com/markwaddle\">markwaddle</a> | <a href=\"https://github.com/MartyMacGyver\">MartyMacGyver</a> | <a href=\"https://github.com/marwahaha\">marwahaha</a> | <a href=\"https://github.com/MBlistein\">MBlistein</a> | <a href=\"https://github.com/mdalvi\">mdalvi</a> | <a href=\"https://github.com/mgeier\">mgeier</a> | <a href=\"https://github.com/michaeld32\">michaeld32</a> | <a href=\"https://github.com/MichelleUfford\">MichelleUfford</a> | <a href=\"https://github.com/miguelmorin\">miguelmorin</a> | <a href=\"https://github.com/mihirkapadiap\">mihirkapadiap</a> | <a href=\"https://github.com/minda163\">minda163</a> | <a href=\"https://github.com/minrk\">minrk</a> | <a href=\"https://github.com/MissedMissile\">MissedMissile</a> | <a href=\"https://github.com/mkzia\">mkzia</a> | <a href=\"https://github.com/mmagnuski\">mmagnuski</a> | <a href=\"https://github.com/mneira10\">mneira10</a> | <a href=\"https://github.com/mrocklin\">mrocklin</a> | <a href=\"https://github.com/MSeal\">MSeal</a> | <a href=\"https://github.com/mskimm\">mskimm</a> | <a href=\"https://github.com/mwcraig\">mwcraig</a> | <a href=\"https://github.com/mwouts\">mwouts</a> | <a href=\"https://github.com/mydmdm\">mydmdm</a> | <a href=\"https://github.com/NateZimmer\">NateZimmer</a> | <a href=\"https://github.com/nealmcb\">nealmcb</a> | <a href=\"https://github.com/newbie19-stack\">newbie19-stack</a> | <a href=\"https://github.com/NguyenDongAnh\">NguyenDongAnh</a> | <a href=\"https://github.com/NHDaly\">NHDaly</a> | <a href=\"https://github.com/nokome\">nokome</a> | <a href=\"https://github.com/nthiery\">nthiery</a> | <a href=\"https://github.com/nuest\">nuest</a> | <a href=\"https://github.com/ocefpaf\">ocefpaf</a> | <a href=\"https://github.com/oluwatimilehin24\">oluwatimilehin24</a> | <a href=\"https://github.com/oscarys\">oscarys</a> | <a href=\"https://github.com/pablobernabeu\">pablobernabeu</a> | <a href=\"https://github.com/parente\">parente</a> | <a href=\"https://github.com/parkerwill\">parkerwill</a> | <a href=\"https://github.com/paxtonfitzpatrick\">paxtonfitzpatrick</a> | <a href=\"https://github.com/pcnfernando\">pcnfernando</a> | <a href=\"https://github.com/pdurbin\">pdurbin</a> | <a href=\"https://github.com/pengelgau\">pengelgau</a> | <a href=\"https://github.com/perllaghu\">perllaghu</a> | <a href=\"https://github.com/pfmoore\">pfmoore</a> | <a href=\"https://github.com/playermanny2\">playermanny2</a> | <a href=\"https://github.com/pohlt\">pohlt</a> | <a href=\"https://github.com/prashanth-234\">prashanth-234</a> | <a href=\"https://github.com/priyanshgupta1998\">priyanshgupta1998</a> | <a href=\"https://github.com/profPlum\">profPlum</a> | <a href=\"https://github.com/profwacko\">profwacko</a> | <a href=\"https://github.com/psychemedia\">psychemedia</a> | <a href=\"https://github.com/PuruBehl\">PuruBehl</a> | <a href=\"https://github.com/raimundomartins\">raimundomartins</a> | <a href=\"https://github.com/ram1209\">ram1209</a> | <a href=\"https://github.com/rayehh\">rayehh</a> | <a href=\"https://github.com/realblack0\">realblack0</a> | <a href=\"https://github.com/remram44\">remram44</a> | <a href=\"https://github.com/rgbkrk\">rgbkrk</a> | <a href=\"https://github.com/rikr2sanchez\">rikr2sanchez</a> | <a href=\"https://github.com/rileypeterson\">rileypeterson</a> | <a href=\"https://github.com/rjurney\">rjurney</a> | <a href=\"https://github.com/rkdarst\">rkdarst</a> | <a href=\"https://github.com/rohitranjan60\">rohitranjan60</a> | <a href=\"https://github.com/rolweber\">rolweber</a> | <a href=\"https://github.com/rrdipnie\">rrdipnie</a> | <a href=\"https://github.com/ruhil528\">ruhil528</a> | <a href=\"https://github.com/Ruv7\">Ruv7</a> | <a href=\"https://github.com/Rvor\">Rvor</a> | <a href=\"https://github.com/ryan-williams\">ryan-williams</a> | <a href=\"https://github.com/ryanlovett\">ryanlovett</a> | <a href=\"https://github.com/SamLau95\">SamLau95</a> | <a href=\"https://github.com/samvanbrussel\">samvanbrussel</a> | <a href=\"https://github.com/sanjaykumardabli\">sanjaykumardabli</a> | <a href=\"https://github.com/SBFRF\">SBFRF</a> | <a href=\"https://github.com/sblack-usu\">sblack-usu</a> | <a href=\"https://github.com/schneiderfelipe\">schneiderfelipe</a> | <a href=\"https://github.com/Sefriol\">Sefriol</a> | <a href=\"https://github.com/sentientmachine\">sentientmachine</a> | <a href=\"https://github.com/Seviks\">Seviks</a> | <a href=\"https://github.com/sfo\">sfo</a> | <a href=\"https://github.com/shafiemukhre\">shafiemukhre</a> | <a href=\"https://github.com/sidneymbell\">sidneymbell</a> | <a href=\"https://github.com/siebenbrunner\">siebenbrunner</a> | <a href=\"https://github.com/sigurdurb\">sigurdurb</a> | <a href=\"https://github.com/sje30\">sje30</a> | <a href=\"https://github.com/slivka83\">slivka83</a> | <a href=\"https://github.com/slumbi\">slumbi</a> | <a href=\"https://github.com/smplx-noam\">smplx-noam</a> | <a href=\"https://github.com/snapo\">snapo</a> | <a href=\"https://github.com/snmhas\">snmhas</a> | <a href=\"https://github.com/sodre\">sodre</a> | <a href=\"https://github.com/Srikanth-Kb\">Srikanth-Kb</a> | <a href=\"https://github.com/stefanv\">stefanv</a> | <a href=\"https://github.com/stevehaertel\">stevehaertel</a> | <a href=\"https://github.com/suresh88\">suresh88</a> | <a href=\"https://github.com/SylvainCorlay\">SylvainCorlay</a> | <a href=\"https://github.com/szuckerman\">szuckerman</a> | <a href=\"https://github.com/t-makaro\">t-makaro</a> | <a href=\"https://github.com/tbagnoli\">tbagnoli</a> | <a href=\"https://github.com/TheCrazyT\">TheCrazyT</a> | <a href=\"https://github.com/thomasaarholt\">thomasaarholt</a> | <a href=\"https://github.com/tommp4\">tommp4</a> | <a href=\"https://github.com/TomTJarosz\">TomTJarosz</a> | <a href=\"https://github.com/trallard\">trallard</a> | <a href=\"https://github.com/ttimbers\">ttimbers</a> | <a href=\"https://github.com/victorsamun\">victorsamun</a> | <a href=\"https://github.com/vidartf\">vidartf</a> | <a href=\"https://github.com/vinhngx\">vinhngx</a> | <a href=\"https://github.com/vlbrown\">vlbrown</a> | <a href=\"https://github.com/waealobidallah\">waealobidallah</a> | <a href=\"https://github.com/wenmin-wu\">wenmin-wu</a> | <a href=\"https://github.com/willingc\">willingc</a> | <a href=\"https://github.com/wmvanvliet\">wmvanvliet</a> | <a href=\"https://github.com/yamaaziz\">yamaaziz</a> | <a href=\"https://github.com/yangziy\">yangziy</a> | <a href=\"https://github.com/Yida147\">Yida147</a> | <a href=\"https://github.com/yuvipanda\">yuvipanda</a> | <a href=\"https://github.com/Zanadar\">Zanadar</a> | <a href=\"https://github.com/ZihuanLing\">ZihuanLing</a> | <a href=\"https://github.com/zoebraiyan\">zoebraiyan</a> | <a href=\"https://github.com/Zsailer\">Zsailer</a></p></center>"
      }
     },
     "8b3e7498ffbe432b84849dc4479cfc32": {
      "model_module": "@jupyter-widgets/controls",
      "model_module_version": "1.5.0",
      "model_name": "DescriptionStyleModel",
      "state": {
       "_model_module": "@jupyter-widgets/controls",
       "_model_module_version": "1.5.0",
       "_model_name": "DescriptionStyleModel",
       "_view_count": null,
       "_view_module": "@jupyter-widgets/base",
       "_view_module_version": "1.2.0",
       "_view_name": "StyleView",
       "description_width": ""
      }
     },
     "8c6c5664a7d341b1955957abfe5d070b": {
      "model_module": "@jupyter-widgets/controls",
      "model_module_version": "1.5.0",
      "model_name": "DescriptionStyleModel",
      "state": {
       "_model_module": "@jupyter-widgets/controls",
       "_model_module_version": "1.5.0",
       "_model_name": "DescriptionStyleModel",
       "_view_count": null,
       "_view_module": "@jupyter-widgets/base",
       "_view_module_version": "1.2.0",
       "_view_name": "StyleView",
       "description_width": ""
      }
     },
     "8e4b021556994b12a217e9e7b05f070a": {
      "model_module": "@jupyter-widgets/controls",
      "model_module_version": "1.5.0",
      "model_name": "DescriptionStyleModel",
      "state": {
       "_model_module": "@jupyter-widgets/controls",
       "_model_module_version": "1.5.0",
       "_model_name": "DescriptionStyleModel",
       "_view_count": null,
       "_view_module": "@jupyter-widgets/base",
       "_view_module_version": "1.2.0",
       "_view_name": "StyleView",
       "description_width": ""
      }
     },
     "91614bf1842743e9980f2b5f2352e6e6": {
      "model_module": "@jupyter-widgets/controls",
      "model_module_version": "1.5.0",
      "model_name": "DescriptionStyleModel",
      "state": {
       "_model_module": "@jupyter-widgets/controls",
       "_model_module_version": "1.5.0",
       "_model_name": "DescriptionStyleModel",
       "_view_count": null,
       "_view_module": "@jupyter-widgets/base",
       "_view_module_version": "1.2.0",
       "_view_name": "StyleView",
       "description_width": ""
      }
     },
     "926133d9f1e0414a971334113bb9ed4a": {
      "model_module": "@jupyter-widgets/controls",
      "model_module_version": "1.5.0",
      "model_name": "DescriptionStyleModel",
      "state": {
       "_model_module": "@jupyter-widgets/controls",
       "_model_module_version": "1.5.0",
       "_model_name": "DescriptionStyleModel",
       "_view_count": null,
       "_view_module": "@jupyter-widgets/base",
       "_view_module_version": "1.2.0",
       "_view_name": "StyleView",
       "description_width": ""
      }
     },
     "96072946322146af85d6c586e3ad6671": {
      "model_module": "@jupyter-widgets/controls",
      "model_module_version": "1.5.0",
      "model_name": "DescriptionStyleModel",
      "state": {
       "_model_module": "@jupyter-widgets/controls",
       "_model_module_version": "1.5.0",
       "_model_name": "DescriptionStyleModel",
       "_view_count": null,
       "_view_module": "@jupyter-widgets/base",
       "_view_module_version": "1.2.0",
       "_view_name": "StyleView",
       "description_width": ""
      }
     },
     "96ae48263f534ea1a30183f8347b2567": {
      "model_module": "@jupyter-widgets/base",
      "model_module_version": "1.2.0",
      "model_name": "LayoutModel",
      "state": {
       "_model_module": "@jupyter-widgets/base",
       "_model_module_version": "1.2.0",
       "_model_name": "LayoutModel",
       "_view_count": null,
       "_view_module": "@jupyter-widgets/base",
       "_view_module_version": "1.2.0",
       "_view_name": "LayoutView",
       "align_content": null,
       "align_items": null,
       "align_self": null,
       "border": null,
       "bottom": null,
       "display": null,
       "flex": null,
       "flex_flow": null,
       "grid_area": null,
       "grid_auto_columns": null,
       "grid_auto_flow": null,
       "grid_auto_rows": null,
       "grid_column": null,
       "grid_gap": null,
       "grid_row": null,
       "grid_template_areas": null,
       "grid_template_columns": null,
       "grid_template_rows": null,
       "height": null,
       "justify_content": null,
       "justify_items": null,
       "left": null,
       "margin": null,
       "max_height": null,
       "max_width": null,
       "min_height": null,
       "min_width": null,
       "object_fit": null,
       "object_position": null,
       "order": null,
       "overflow": null,
       "overflow_x": null,
       "overflow_y": null,
       "padding": null,
       "right": null,
       "top": null,
       "visibility": null,
       "width": null
      }
     },
     "9cd6f977da2d421aa6c2b8b424978266": {
      "model_module": "@jupyter-widgets/controls",
      "model_module_version": "1.5.0",
      "model_name": "DescriptionStyleModel",
      "state": {
       "_model_module": "@jupyter-widgets/controls",
       "_model_module_version": "1.5.0",
       "_model_name": "DescriptionStyleModel",
       "_view_count": null,
       "_view_module": "@jupyter-widgets/base",
       "_view_module_version": "1.2.0",
       "_view_name": "StyleView",
       "description_width": ""
      }
     },
     "9df312ae88394892a6b2e6629d025abf": {
      "model_module": "@jupyter-widgets/controls",
      "model_module_version": "1.5.0",
      "model_name": "HTMLModel",
      "state": {
       "_dom_classes": [],
       "_model_module": "@jupyter-widgets/controls",
       "_model_module_version": "1.5.0",
       "_model_name": "HTMLModel",
       "_view_count": null,
       "_view_module": "@jupyter-widgets/controls",
       "_view_module_version": "1.5.0",
       "_view_name": "HTMLView",
       "description": "",
       "description_tooltip": null,
       "layout": "IPY_MODEL_7feb1040d44b4631ad19cc41172a9a75",
       "placeholder": "​",
       "style": "IPY_MODEL_5d2ef754538b4c42a9854dabae792ce8",
       "value": "<center><p><a href=\"https://github.com/betatim\">betatim</a> | <a href=\"https://github.com/choldgraf\">choldgraf</a> | <a href=\"https://github.com/fm75\">fm75</a> | <a href=\"https://github.com/hdrake\">hdrake</a> | <a href=\"https://github.com/KirstieJane\">KirstieJane</a> | <a href=\"https://github.com/marskar\">marskar</a> | <a href=\"https://github.com/matthewfeickert\">matthewfeickert</a> | <a href=\"https://github.com/NHDaly\">NHDaly</a> | <a href=\"https://github.com/pablobernabeu\">pablobernabeu</a> | <a href=\"https://github.com/sje30\">sje30</a></p></center>"
      }
     },
     "a21a64cb09b74ff09fd563e07a3a1809": {
      "model_module": "@jupyter-widgets/base",
      "model_module_version": "1.2.0",
      "model_name": "LayoutModel",
      "state": {
       "_model_module": "@jupyter-widgets/base",
       "_model_module_version": "1.2.0",
       "_model_name": "LayoutModel",
       "_view_count": null,
       "_view_module": "@jupyter-widgets/base",
       "_view_module_version": "1.2.0",
       "_view_name": "LayoutView",
       "align_content": null,
       "align_items": null,
       "align_self": null,
       "border": null,
       "bottom": null,
       "display": null,
       "flex": null,
       "flex_flow": null,
       "grid_area": null,
       "grid_auto_columns": null,
       "grid_auto_flow": null,
       "grid_auto_rows": null,
       "grid_column": null,
       "grid_gap": null,
       "grid_row": null,
       "grid_template_areas": null,
       "grid_template_columns": null,
       "grid_template_rows": null,
       "height": null,
       "justify_content": null,
       "justify_items": null,
       "left": null,
       "margin": null,
       "max_height": null,
       "max_width": null,
       "min_height": null,
       "min_width": null,
       "object_fit": null,
       "object_position": null,
       "order": null,
       "overflow": null,
       "overflow_x": null,
       "overflow_y": null,
       "padding": null,
       "right": null,
       "top": null,
       "visibility": null,
       "width": null
      }
     },
     "aaba2bda0edc4521a8986e58a10885fd": {
      "model_module": "@jupyter-widgets/base",
      "model_module_version": "1.2.0",
      "model_name": "LayoutModel",
      "state": {
       "_model_module": "@jupyter-widgets/base",
       "_model_module_version": "1.2.0",
       "_model_name": "LayoutModel",
       "_view_count": null,
       "_view_module": "@jupyter-widgets/base",
       "_view_module_version": "1.2.0",
       "_view_name": "LayoutView",
       "align_content": null,
       "align_items": null,
       "align_self": null,
       "border": null,
       "bottom": null,
       "display": null,
       "flex": null,
       "flex_flow": null,
       "grid_area": null,
       "grid_auto_columns": null,
       "grid_auto_flow": null,
       "grid_auto_rows": null,
       "grid_column": null,
       "grid_gap": null,
       "grid_row": null,
       "grid_template_areas": null,
       "grid_template_columns": null,
       "grid_template_rows": null,
       "height": null,
       "justify_content": null,
       "justify_items": null,
       "left": null,
       "margin": null,
       "max_height": null,
       "max_width": null,
       "min_height": null,
       "min_width": null,
       "object_fit": null,
       "object_position": null,
       "order": null,
       "overflow": null,
       "overflow_x": null,
       "overflow_y": null,
       "padding": null,
       "right": null,
       "top": null,
       "visibility": null,
       "width": null
      }
     },
     "ada3218fbe114bd8a51492de62152ca2": {
      "model_module": "@jupyter-widgets/controls",
      "model_module_version": "1.5.0",
      "model_name": "DescriptionStyleModel",
      "state": {
       "_model_module": "@jupyter-widgets/controls",
       "_model_module_version": "1.5.0",
       "_model_name": "DescriptionStyleModel",
       "_view_count": null,
       "_view_module": "@jupyter-widgets/base",
       "_view_module_version": "1.2.0",
       "_view_name": "StyleView",
       "description_width": ""
      }
     },
     "ae87ffcf2c1743a4867271d09590067b": {
      "model_module": "@jupyter-widgets/controls",
      "model_module_version": "1.5.0",
      "model_name": "HTMLModel",
      "state": {
       "_dom_classes": [],
       "_model_module": "@jupyter-widgets/controls",
       "_model_module_version": "1.5.0",
       "_model_name": "HTMLModel",
       "_view_count": null,
       "_view_module": "@jupyter-widgets/controls",
       "_view_module_version": "1.5.0",
       "_view_name": "HTMLView",
       "description": "",
       "description_tooltip": null,
       "layout": "IPY_MODEL_1b56bbbb1ee64cb5b696704dd7a6b177",
       "placeholder": "​",
       "style": "IPY_MODEL_fb92e23e2b2a40bb90a4d08375b42450",
       "value": "<h4>jupyter</h4>\n<h5><a href=\"https://github.com/jupyter/docker-stacks\">jupyter/docker-stacks</a></h5>\n<ul>\n<li><a href=\"https://github.com/jupyter/docker-stacks/issues/934\">(#934)</a>: <em>UI Corruption starting on jupyter/scipy-notebook:64c893e91c60 after jupyter lab build?</em> by <strong><a href=\"https://github.com/kronenpj\">@kronenpj</a></strong></li>\n<li><a href=\"https://github.com/jupyter/docker-stacks/issues/931\">(#931)</a>: <em>A Suggestion on Creating Linux User Password</em> by <strong><a href=\"https://github.com/LY1806620741\">@LY1806620741</a></strong></li>\n<li><a href=\"https://github.com/jupyter/docker-stacks/issues/936\">(#936)</a>: <em>Updating to 1.1.2?</em> by <strong><a href=\"https://github.com/hiramf\">@hiramf</a></strong></li>\n</ul>\n<h5><a href=\"https://github.com/jupyter/enterprise_gateway\">jupyter/enterprise_gateway</a></h5>\n<ul>\n<li><a href=\"https://github.com/jupyter/enterprise_gateway/issues/726\">(#726)</a>: <em>Number of notebooks with EG</em> by <strong><a href=\"https://github.com/mihirkapadiap\">@mihirkapadiap</a></strong></li>\n<li><a href=\"https://github.com/jupyter/enterprise_gateway/issues/736\">(#736)</a>: <em>generate-config on ppc64le fails with latest anacoda openssl 1.1.1d</em> by <strong><a href=\"https://github.com/stevehaertel\">@stevehaertel</a></strong></li>\n<li><a href=\"https://github.com/jupyter/enterprise_gateway/issues/732\">(#732)</a>: <em>Process starvation in concurrent kernel starts, and scaling out JEG for scalability.</em> by <strong><a href=\"https://github.com/esevan\">@esevan</a></strong></li>\n<li><a href=\"https://github.com/jupyter/enterprise_gateway/issues/731\">(#731)</a>: <em>Metric Collection and Montioring</em> by <strong><a href=\"https://github.com/IMAM9AIS\">@IMAM9AIS</a></strong></li>\n</ul>\n<h5><a href=\"https://github.com/jupyter/governance\">jupyter/governance</a></h5>\n<ul>\n<li><a href=\"https://github.com/jupyter/governance/issues/42\">(#42)</a>: <em>Update trademark usage document to reflect issued trademark</em> by <strong><a href=\"https://github.com/ellisonbg\">@ellisonbg</a></strong></li>\n</ul>\n<h5><a href=\"https://github.com/jupyter/jupyter\">jupyter/jupyter</a></h5>\n<h5><a href=\"https://github.com/jupyter/jupyter-book\">jupyter/jupyter-book</a></h5>\n<ul>\n<li><a href=\"https://github.com/jupyter/jupyter-book/issues/296\">(#296)</a>: <em>Some small formatting issues following upgrade to master</em> by <strong><a href=\"https://github.com/gureckis\">@gureckis</a></strong></li>\n<li><a href=\"https://github.com/jupyter/jupyter-book/issues/283\">(#283)</a>: <em>Code cells in plain Markdown files are rendered as raw text</em> by <strong><a href=\"https://github.com/mwouts\">@mwouts</a></strong></li>\n</ul>\n<h5><a href=\"https://github.com/jupyter/jupyter-sphinx\">jupyter/jupyter-sphinx</a></h5>\n<ul>\n<li><a href=\"https://github.com/jupyter/jupyter-sphinx/issues/77\">(#77)</a>: <em>sphinx.ext.mathbase is deprecated</em> by <strong><a href=\"https://github.com/mgeier\">@mgeier</a></strong></li>\n<li><a href=\"https://github.com/jupyter/jupyter-sphinx/issues/75\">(#75)</a>: <em>Configuring ThebeButton</em> by <strong><a href=\"https://github.com/oscarys\">@oscarys</a></strong></li>\n<li><a href=\"https://github.com/jupyter/jupyter-sphinx/issues/74\">(#74)</a>: <em>Use same kernel for multiple documents</em> by <strong><a href=\"https://github.com/pohlt\">@pohlt</a></strong></li>\n</ul>\n<h5><a href=\"https://github.com/jupyter/jupyter.github.io\">jupyter/jupyter.github.io</a></h5>\n<ul>\n<li><a href=\"https://github.com/jupyter/jupyter.github.io/issues/268\">(#268)</a>: <em>Link Back from BLog to website</em> by <strong><a href=\"https://github.com/Carreau\">@Carreau</a></strong></li>\n</ul>\n<h5><a href=\"https://github.com/jupyter/jupyter_client\">jupyter/jupyter_client</a></h5>\n<ul>\n<li><a href=\"https://github.com/jupyter/jupyter_client/issues/482\">(#482)</a>: <em>kernel client blocks indefinitely during gc.collect() call</em> by <strong><a href=\"https://github.com/markwaddle\">@markwaddle</a></strong></li>\n<li><a href=\"https://github.com/jupyter/jupyter_client/issues/475\">(#475)</a>: <em>Error during Kernel Startup on Windows</em> by <strong><a href=\"https://github.com/valgarf\">@valgarf</a></strong></li>\n</ul>\n<h5><a href=\"https://github.com/jupyter/jupyter_console\">jupyter/jupyter_console</a></h5>\n<ul>\n<li><a href=\"https://github.com/jupyter/jupyter_console/issues/163\">(#163)</a>: <em>Jupyter console crashes on Python 3.7</em> by <strong><a href=\"https://github.com/dschrempf\">@dschrempf</a></strong></li>\n</ul>\n<h5><a href=\"https://github.com/jupyter/jupyter_core\">jupyter/jupyter_core</a></h5>\n<h5><a href=\"https://github.com/jupyter/jupyter_server\">jupyter/jupyter_server</a></h5>\n<ul>\n<li><a href=\"https://github.com/jupyter/jupyter_server/issues/53\">(#53)</a>: <em>Sync Notebook and Jupyter Server.</em> by <strong><a href=\"https://github.com/Zsailer\">@Zsailer</a></strong></li>\n</ul>\n<h5><a href=\"https://github.com/jupyter/kernel_gateway\">jupyter/kernel_gateway</a></h5>\n<ul>\n<li><a href=\"https://github.com/jupyter/kernel_gateway/issues/326\">(#326)</a>: _Way to define Parameters in HTTP Notebook Swagger _ by <strong><a href=\"https://github.com/fullstackwebdev\">@fullstackwebdev</a></strong></li>\n</ul>\n<h5><a href=\"https://github.com/jupyter/kernel_gateway_demos\">jupyter/kernel_gateway_demos</a></h5>\n<ul>\n<li><a href=\"https://github.com/jupyter/kernel_gateway_demos/issues/63\">(#63)</a>: <em>ImportError: cannot import name 'Type'</em> by <strong><a href=\"https://github.com/heiderich\">@heiderich</a></strong></li>\n</ul>\n<h5><a href=\"https://github.com/jupyter/nbconvert\">jupyter/nbconvert</a></h5>\n<ul>\n<li><a href=\"https://github.com/jupyter/nbconvert/issues/1096\">(#1096)</a>: <em>Process Messages of new type on 'iopub' channel</em> by <strong><a href=\"https://github.com/zoebraiyan\">@zoebraiyan</a></strong></li>\n<li><a href=\"https://github.com/jupyter/nbconvert/issues/1102\">(#1102)</a>: <em>Export notebook to PDF</em> by <strong><a href=\"https://github.com/josemrzz\">@josemrzz</a></strong></li>\n<li><a href=\"https://github.com/jupyter/nbconvert/issues/1062\">(#1062)</a>: <em>nbconvert to notebook doesn't respect line endings</em> by <strong><a href=\"https://github.com/jamesmyatt\">@jamesmyatt</a></strong></li>\n<li><a href=\"https://github.com/jupyter/nbconvert/issues/884\">(#884)</a>: <em>Returning timeout 0 in timeout_func of ExecuteProcessor disables the timeout</em> by <strong><a href=\"https://github.com/JoaoFelipe\">@JoaoFelipe</a></strong></li>\n</ul>\n<h5><a href=\"https://github.com/jupyter/nbdime\">jupyter/nbdime</a></h5>\n<ul>\n<li><a href=\"https://github.com/jupyter/nbdime/issues/499\">(#499)</a>: <em>Extension controls - enabling / disabling toolbar buttons</em> by <strong><a href=\"https://github.com/psychemedia\">@psychemedia</a></strong></li>\n<li><a href=\"https://github.com/jupyter/nbdime/issues/497\">(#497)</a>: <em>git-nbdiffdriver fails to parse branch1:file1..branch2:file2 syntax</em> by <strong><a href=\"https://github.com/dniku\">@dniku</a></strong></li>\n</ul>\n<h5><a href=\"https://github.com/jupyter/nbformat\">jupyter/nbformat</a></h5>\n<ul>\n<li><a href=\"https://github.com/jupyter/nbformat/issues/146\">(#146)</a>: <em>nbformat Typescript type definitions</em> by <strong><a href=\"https://github.com/nokome\">@nokome</a></strong></li>\n<li><a href=\"https://github.com/jupyter/nbformat/issues/52\">(#52)</a>: <em>sqlite3.OperationalError: database is locked</em> by <strong><a href=\"https://github.com/SamLau95\">@SamLau95</a></strong></li>\n</ul>\n<h5><a href=\"https://github.com/jupyter/nbgrader\">jupyter/nbgrader</a></h5>\n<ul>\n<li><a href=\"https://github.com/jupyter/nbgrader/issues/1095\">(#1095)</a>: <em>Use db for exchange mechanism</em> by <strong><a href=\"https://github.com/ryanlovett\">@ryanlovett</a></strong></li>\n<li><a href=\"https://github.com/jupyter/nbgrader/issues/1153\">(#1153)</a>: <em>Randomising Values in questions and tests as part of assignment process</em> by <strong><a href=\"https://github.com/psychemedia\">@psychemedia</a></strong></li>\n</ul>\n<h5><a href=\"https://github.com/jupyter/nbviewer\">jupyter/nbviewer</a></h5>\n<ul>\n<li><a href=\"https://github.com/jupyter/nbviewer/issues/852\">(#852)</a>: <em>Deploying jupyter/nbviewer:latest to nbviewer.jupyter.org fails</em> by <strong><a href=\"https://github.com/parente\">@parente</a></strong></li>\n<li><a href=\"https://github.com/jupyter/nbviewer/issues/664\">(#664)</a>: <em>got 400: bad request to git repo with LFS enabled</em> by <strong><a href=\"https://github.com/tarokiritani\">@tarokiritani</a></strong></li>\n<li><a href=\"https://github.com/jupyter/nbviewer/issues/295\">(#295)</a>: <em>How long does a cached notebook persist?</em> by <strong><a href=\"https://github.com/nicktimko\">@nicktimko</a></strong></li>\n</ul>\n<h5><a href=\"https://github.com/jupyter/notebook\">jupyter/notebook</a></h5>\n<h5><a href=\"https://github.com/jupyter/qtconsole\">jupyter/qtconsole</a></h5>\n<ul>\n<li><a href=\"https://github.com/jupyter/qtconsole/issues/380\">(#380)</a>: <em>%matplotlib qt5 causes time.sleep to hang for 10 seconds</em> by <strong><a href=\"https://github.com/impact27\">@impact27</a></strong></li>\n<li><a href=\"https://github.com/jupyter/qtconsole/issues/379\">(#379)</a>: <em>Prompt is slow to come back under some conditions</em> by <strong><a href=\"https://github.com/impact27\">@impact27</a></strong></li>\n<li><a href=\"https://github.com/jupyter/qtconsole/issues/374\">(#374)</a>: <em>%qtconsole seems to be incompatible with %matplotlib notebook</em> by <strong><a href=\"https://github.com/dereky42\">@dereky42</a></strong></li>\n<li><a href=\"https://github.com/jupyter/qtconsole/issues/372\">(#372)</a>: <em>Pressing return sometimes goes to the next line instead of running the command</em> by <strong><a href=\"https://github.com/impact27\">@impact27</a></strong></li>\n<li><a href=\"https://github.com/jupyter/qtconsole/issues/377\">(#377)</a>: <em>Can't run async loop</em> by <strong><a href=\"https://github.com/impact27\">@impact27</a></strong></li>\n</ul>\n<h5><a href=\"https://github.com/jupyter/repo2docker\">jupyter/repo2docker</a></h5>\n<ul>\n<li><a href=\"https://github.com/jupyter/repo2docker/issues/744\">(#744)</a>: <em>Use Azure pipelines for tests</em> by <strong><a href=\"https://github.com/minrk\">@minrk</a></strong></li>\n</ul>\n<h5><a href=\"https://github.com/jupyter/steering\">jupyter/steering</a></h5>\n<ul>\n<li><a href=\"https://github.com/jupyter/steering/issues/59\">(#59)</a>: <em>Jupyter News Update for Scipy 2019</em> by <strong><a href=\"https://github.com/blink1073\">@blink1073</a></strong></li>\n<li><a href=\"https://github.com/jupyter/steering/issues/56\">(#56)</a>: <em>Jupyter conference advisory committee</em> by <strong><a href=\"https://github.com/jasongrout\">@jasongrout</a></strong></li>\n</ul>\n<h5><a href=\"https://github.com/jupyter/telemetry\">jupyter/telemetry</a></h5>\n<ul>\n<li><a href=\"https://github.com/jupyter/telemetry/issues/24\">(#24)</a>: <em>allow more control over event data via configuration</em> by <strong><a href=\"https://github.com/Zsailer\">@Zsailer</a></strong></li>\n</ul>\n<h5><a href=\"https://github.com/jupyter/terminado\">jupyter/terminado</a></h5>"
      }
     },
     "afeccae1b9f245869371af0fb54c2865": {
      "model_module": "@jupyter-widgets/controls",
      "model_module_version": "1.5.0",
      "model_name": "HTMLModel",
      "state": {
       "_dom_classes": [],
       "_model_module": "@jupyter-widgets/controls",
       "_model_module_version": "1.5.0",
       "_model_name": "HTMLModel",
       "_view_count": null,
       "_view_module": "@jupyter-widgets/controls",
       "_view_module_version": "1.5.0",
       "_view_name": "HTMLView",
       "description": "",
       "description_tooltip": null,
       "layout": "IPY_MODEL_13d59ca76d64403086907917e04ba9c7",
       "placeholder": "​",
       "style": "IPY_MODEL_ca3fd27aaf1e42fba10280044ac61942",
       "value": "<center><p><a href=\"https://github.com/acelere\">acelere</a> | <a href=\"https://github.com/ahicks88\">ahicks88</a> | <a href=\"https://github.com/alex4200\">alex4200</a> | <a href=\"https://github.com/andrei91ro\">andrei91ro</a> | <a href=\"https://github.com/ankostis\">ankostis</a> | <a href=\"https://github.com/captainsafia\">captainsafia</a> | <a href=\"https://github.com/cornhundred\">cornhundred</a> | <a href=\"https://github.com/davidbrochart\">davidbrochart</a> | <a href=\"https://github.com/dazzag24\">dazzag24</a> | <a href=\"https://github.com/diallobakary4\">diallobakary4</a> | <a href=\"https://github.com/dieterwang\">dieterwang</a> | <a href=\"https://github.com/dstran\">dstran</a> | <a href=\"https://github.com/ebebpl\">ebebpl</a> | <a href=\"https://github.com/flekschas\">flekschas</a> | <a href=\"https://github.com/goatchurchprime\">goatchurchprime</a> | <a href=\"https://github.com/grzegorz700\">grzegorz700</a> | <a href=\"https://github.com/hainm\">hainm</a> | <a href=\"https://github.com/heavyrick\">heavyrick</a> | <a href=\"https://github.com/hugovk\">hugovk</a> | <a href=\"https://github.com/ivan-monge1989\">ivan-monge1989</a> | <a href=\"https://github.com/jasongrout\">jasongrout</a> | <a href=\"https://github.com/jetheurer\">jetheurer</a> | <a href=\"https://github.com/joshwarren\">joshwarren</a> | <a href=\"https://github.com/js3711\">js3711</a> | <a href=\"https://github.com/jtpio\">jtpio</a> | <a href=\"https://github.com/kartoshhka\">kartoshhka</a> | <a href=\"https://github.com/kebwi\">kebwi</a> | <a href=\"https://github.com/ldnelso2\">ldnelso2</a> | <a href=\"https://github.com/LukaPitamic\">LukaPitamic</a> | <a href=\"https://github.com/martinRenou\">martinRenou</a> | <a href=\"https://github.com/mgeier\">mgeier</a> | <a href=\"https://github.com/moradza\">moradza</a> | <a href=\"https://github.com/RDeRenzi\">RDeRenzi</a> | <a href=\"https://github.com/renefritze\">renefritze</a> | <a href=\"https://github.com/rskabelund\">rskabelund</a> | <a href=\"https://github.com/scottwsides\">scottwsides</a> | <a href=\"https://github.com/sdll\">sdll</a> | <a href=\"https://github.com/stephaniegott\">stephaniegott</a> | <a href=\"https://github.com/SylvainCorlay\">SylvainCorlay</a> | <a href=\"https://github.com/TheCedarPrince\">TheCedarPrince</a> | <a href=\"https://github.com/timkpaine\">timkpaine</a> | <a href=\"https://github.com/vidartf\">vidartf</a> | <a href=\"https://github.com/wookayin\">wookayin</a></p></center>"
      }
     },
     "b2a0240343bb4121b3eaeda37ea3291e": {
      "model_module": "@jupyter-widgets/base",
      "model_module_version": "1.2.0",
      "model_name": "LayoutModel",
      "state": {
       "_model_module": "@jupyter-widgets/base",
       "_model_module_version": "1.2.0",
       "_model_name": "LayoutModel",
       "_view_count": null,
       "_view_module": "@jupyter-widgets/base",
       "_view_module_version": "1.2.0",
       "_view_name": "LayoutView",
       "align_content": null,
       "align_items": null,
       "align_self": null,
       "border": null,
       "bottom": null,
       "display": null,
       "flex": null,
       "flex_flow": null,
       "grid_area": null,
       "grid_auto_columns": null,
       "grid_auto_flow": null,
       "grid_auto_rows": null,
       "grid_column": null,
       "grid_gap": null,
       "grid_row": null,
       "grid_template_areas": null,
       "grid_template_columns": null,
       "grid_template_rows": null,
       "height": null,
       "justify_content": null,
       "justify_items": null,
       "left": null,
       "margin": null,
       "max_height": null,
       "max_width": null,
       "min_height": null,
       "min_width": null,
       "object_fit": null,
       "object_position": null,
       "order": null,
       "overflow": null,
       "overflow_x": null,
       "overflow_y": null,
       "padding": null,
       "right": null,
       "top": null,
       "visibility": null,
       "width": null
      }
     },
     "b8ad26a37b8b4115afbeff304d4066cf": {
      "model_module": "@jupyter-widgets/controls",
      "model_module_version": "1.5.0",
      "model_name": "HTMLModel",
      "state": {
       "_dom_classes": [],
       "_model_module": "@jupyter-widgets/controls",
       "_model_module_version": "1.5.0",
       "_model_name": "HTMLModel",
       "_view_count": null,
       "_view_module": "@jupyter-widgets/controls",
       "_view_module_version": "1.5.0",
       "_view_name": "HTMLView",
       "description": "",
       "description_tooltip": null,
       "layout": "IPY_MODEL_c2bbbc108d66408fafc19c32d369a33c",
       "placeholder": "​",
       "style": "IPY_MODEL_8e4b021556994b12a217e9e7b05f070a",
       "value": "<h4>Closed PRs for org: <code>jupyterlab</code></h4>\n<h5><a href=\"https://github.com/jupyterlab/debugger\">jupyterlab/debugger</a></h5>\n<ul>\n<li><a href=\"https://github.com/jupyterlab/debugger/pull/40\">(#40)</a>: <em>Fix design file location.</em> by <strong><a href=\"https://github.com/afshin\">@afshin</a></strong> merged by <strong><a href=\"https://github.com/afshin\">@afshin</a></strong></li>\n<li><a href=\"https://github.com/jupyterlab/debugger/pull/37\">(#37)</a>: <em>Describe UI and UX for debugger</em> by <strong><a href=\"https://github.com/afshin\">@afshin</a></strong> merged by <strong><a href=\"https://github.com/afshin\">@afshin</a></strong></li>\n<li><a href=\"https://github.com/jupyterlab/debugger/pull/35\">(#35)</a>: <em>Update to JupyterLab 1.1</em> by <strong><a href=\"https://github.com/jtpio\">@jtpio</a></strong> merged by <strong><a href=\"https://github.com/afshin\">@afshin</a></strong></li>\n</ul>\n<h5><a href=\"https://github.com/jupyterlab/jupyter-renderers\">jupyterlab/jupyter-renderers</a></h5>\n<ul>\n<li><a href=\"https://github.com/jupyterlab/jupyter-renderers/pull/213\">(#213)</a>: <em>Update to MathJax 3.0 final</em> by <strong><a href=\"https://github.com/jasongrout\">@jasongrout</a></strong> merged by <strong><a href=\"https://github.com/ian-r-rose\">@ian-r-rose</a></strong></li>\n</ul>\n<h5><a href=\"https://github.com/jupyterlab/jupyterlab\">jupyterlab/jupyterlab</a></h5>\n<ul>\n<li><a href=\"https://github.com/jupyterlab/jupyterlab/pull/7270\">(#7270)</a>: <em>attempting to make <code>test-notebook</code> more robust wrt CI</em> by <strong><a href=\"https://github.com/telamonian\">@telamonian</a></strong> merged by <strong><a href=\"https://github.com/telamonian\">@telamonian</a></strong></li>\n<li><a href=\"https://github.com/jupyterlab/jupyterlab/pull/7266\">(#7266)</a>: <em>removed svg styling from old icon behavior fallback</em> by <strong><a href=\"https://github.com/telamonian\">@telamonian</a></strong> merged by <strong><a href=\"https://github.com/telamonian\">@telamonian</a></strong></li>\n<li><a href=\"https://github.com/jupyterlab/jupyterlab/pull/7242\">(#7242)</a>: <em>Fixes context menu hit test to deal with svg nodes.</em> by <strong><a href=\"https://github.com/jasongrout\">@jasongrout</a></strong> merged by <strong><a href=\"https://github.com/telamonian\">@telamonian</a></strong></li>\n<li><a href=\"https://github.com/jupyterlab/jupyterlab/pull/7236\">(#7236)</a>: <em>Backport PR #7192: progress on icons: added inline svg icon support to toolbar buttons</em> by <strong><a href=\"https://github.com/jasongrout\">@jasongrout</a></strong> merged by <strong><a href=\"https://github.com/jasongrout\">@jasongrout</a></strong></li>\n<li><a href=\"https://github.com/jupyterlab/jupyterlab/pull/7227\">(#7227)</a>: <em>Only display node structure in JSONTree for arrays and empty objects</em> by <strong><a href=\"https://github.com/tibdex\">@tibdex</a></strong> merged by <strong><a href=\"https://github.com/jasongrout\">@jasongrout</a></strong></li>\n</ul>\n<h5><a href=\"https://github.com/jupyterlab/jupyterlab-celltags\">jupyterlab/jupyterlab-celltags</a></h5>\n<ul>\n<li><a href=\"https://github.com/jupyterlab/jupyterlab-celltags/pull/192\">(#192)</a>: <em>Bump mixin-deep from 1.3.1 to 1.3.2</em> by <strong><a href=\"https://github.com/dependabot\">@dependabot</a></strong> merged by <strong><a href=\"https://github.com/markellekelly\">@markellekelly</a></strong></li>\n</ul>\n<h5><a href=\"https://github.com/jupyterlab/jupyterlab-commenting\">jupyterlab/jupyterlab-commenting</a></h5>\n<ul>\n<li><a href=\"https://github.com/jupyterlab/jupyterlab-commenting/pull/37\">(#37)</a>: <em>Add demo gif to README</em> by <strong><a href=\"https://github.com/jacobtomlinson\">@jacobtomlinson</a></strong> merged by <strong><a href=\"https://github.com/saulshanabrook\">@saulshanabrook</a></strong></li>\n</ul>\n<h5><a href=\"https://github.com/jupyterlab/jupyterlab-data-explorer\">jupyterlab/jupyterlab-data-explorer</a></h5>\n<ul>\n<li><a href=\"https://github.com/jupyterlab/jupyterlab-data-explorer/pull/81\">(#81)</a>: <em>Update README.md</em> by <strong><a href=\"https://github.com/vidartf\">@vidartf</a></strong> merged by <strong><a href=\"https://github.com/saulshanabrook\">@saulshanabrook</a></strong></li>\n<li><a href=\"https://github.com/jupyterlab/jupyterlab-data-explorer/pull/80\">(#80)</a>: <em>Update readme</em> by <strong><a href=\"https://github.com/kgryte\">@kgryte</a></strong> merged by <strong><a href=\"https://github.com/saulshanabrook\">@saulshanabrook</a></strong></li>\n<li><a href=\"https://github.com/jupyterlab/jupyterlab-data-explorer/pull/79\">(#79)</a>: <em>Fix missing command operator</em> by <strong><a href=\"https://github.com/kgryte\">@kgryte</a></strong> merged by <strong><a href=\"https://github.com/saulshanabrook\">@saulshanabrook</a></strong></li>\n<li><a href=\"https://github.com/jupyterlab/jupyterlab-data-explorer/pull/77\">(#77)</a>: <em>Adds support for URL templates</em> by <strong><a href=\"https://github.com/saulshanabrook\">@saulshanabrook</a></strong> merged by <strong><a href=\"https://github.com/saulshanabrook\">@saulshanabrook</a></strong></li>\n</ul>\n<h5><a href=\"https://github.com/jupyterlab/jupyterlab-git\">jupyterlab/jupyterlab-git</a></h5>\n<ul>\n<li><a href=\"https://github.com/jupyterlab/jupyterlab-git/pull/415\">(#415)</a>: <em>Standalone pip package</em> by <strong><a href=\"https://github.com/fcollonval\">@fcollonval</a></strong> merged by <strong><a href=\"https://github.com/fcollonval\">@fcollonval</a></strong></li>\n<li><a href=\"https://github.com/jupyterlab/jupyterlab-git/pull/414\">(#414)</a>: <em>Update ROADMAP.md</em> by <strong><a href=\"https://github.com/jaipreet-s\">@jaipreet-s</a></strong> merged by <strong><a href=\"https://github.com/fcollonval\">@fcollonval</a></strong></li>\n<li><a href=\"https://github.com/jupyterlab/jupyterlab-git/pull/413\">(#413)</a>: <em>Add Frederic to team</em> by <strong><a href=\"https://github.com/jaipreet-s\">@jaipreet-s</a></strong> merged by <strong><a href=\"https://github.com/fcollonval\">@fcollonval</a></strong></li>\n<li><a href=\"https://github.com/jupyterlab/jupyterlab-git/pull/409\">(#409)</a>: <em>Lowercase Git error messages before checking substring existence</em> by <strong><a href=\"https://github.com/jhamet93\">@jhamet93</a></strong> merged by <strong><a href=\"https://github.com/fcollonval\">@fcollonval</a></strong></li>\n<li><a href=\"https://github.com/jupyterlab/jupyterlab-git/pull/400\">(#400)</a>: <em>gitApi: add corner case handling for deleted remote branches</em> by <strong><a href=\"https://github.com/alienczf\">@alienczf</a></strong> merged by <strong><a href=\"https://github.com/fcollonval\">@fcollonval</a></strong></li>\n</ul>\n<h5><a href=\"https://github.com/jupyterlab/jupyterlab-shortcutui\">jupyterlab/jupyterlab-shortcutui</a></h5>\n<ul>\n<li><a href=\"https://github.com/jupyterlab/jupyterlab-shortcutui/pull/49\">(#49)</a>: <em>v0.4.0</em> by <strong><a href=\"https://github.com/afshin\">@afshin</a></strong> merged by <strong><a href=\"https://github.com/afshin\">@afshin</a></strong></li>\n</ul>\n<h5><a href=\"https://github.com/jupyterlab/jupyterlab-telemetry\">jupyterlab/jupyterlab-telemetry</a></h5>\n<ul>\n<li><a href=\"https://github.com/jupyterlab/jupyterlab-telemetry/pull/7\">(#7)</a>: <em>Upgrade to JLab 1.0</em> by <strong><a href=\"https://github.com/jaipreet-s\">@jaipreet-s</a></strong> merged by <strong><a href=\"https://github.com/jaipreet-s\">@jaipreet-s</a></strong></li>\n</ul>\n<h5><a href=\"https://github.com/jupyterlab/team-compass\">jupyterlab/team-compass</a></h5>\n<ul>\n<li><a href=\"https://github.com/jupyterlab/team-compass/pull/17\">(#17)</a>: <em>Adding Code of Conduct to README.md</em> by <strong><a href=\"https://github.com/tgeorgeux\">@tgeorgeux</a></strong> merged by <strong><a href=\"https://github.com/jasongrout\">@jasongrout</a></strong></li>\n<li><a href=\"https://github.com/jupyterlab/team-compass/pull/15\">(#15)</a>: <em>Added Weekly Dev Call to README.md</em> by <strong><a href=\"https://github.com/tgeorgeux\">@tgeorgeux</a></strong> merged by <strong><a href=\"https://github.com/jasongrout\">@jasongrout</a></strong></li>\n</ul>"
      }
     },
     "bd06e0c5620e4dd78f2fde790b0f6c6b": {
      "model_module": "@jupyter-widgets/controls",
      "model_module_version": "1.5.0",
      "model_name": "HTMLModel",
      "state": {
       "_dom_classes": [],
       "_model_module": "@jupyter-widgets/controls",
       "_model_module_version": "1.5.0",
       "_model_name": "HTMLModel",
       "_view_count": null,
       "_view_module": "@jupyter-widgets/controls",
       "_view_module_version": "1.5.0",
       "_view_name": "HTMLView",
       "description": "",
       "description_tooltip": null,
       "layout": "IPY_MODEL_0792cda2946d48d3a949531cc9f01338",
       "placeholder": "​",
       "style": "IPY_MODEL_96072946322146af85d6c586e3ad6671",
       "value": "<h4>ipython</h4>\n<h5><a href=\"https://github.com/ipython/ipykernel\">ipython/ipykernel</a></h5>\n<ul>\n<li><a href=\"https://github.com/ipython/ipykernel/issues/428\">(#428)</a>: <em>How can I detect from labextension whether kernel is still alive?</em> by <strong><a href=\"https://github.com/bernhard-42\">@bernhard-42</a></strong></li>\n<li><a href=\"https://github.com/ipython/ipykernel/issues/407\">(#407)</a>: _New ipykernel has 55 threads. _ by <strong><a href=\"https://github.com/katsar0v\">@katsar0v</a></strong></li>\n</ul>\n<h5><a href=\"https://github.com/ipython/ipyparallel\">ipython/ipyparallel</a></h5>\n<ul>\n<li><a href=\"https://github.com/ipython/ipyparallel/issues/213\">(#213)</a>: <em>Engines exit after several operations (ZMQ and QT5 headless event loop problem?)</em> by <strong><a href=\"https://github.com/histed\">@histed</a></strong></li>\n</ul>\n<h5><a href=\"https://github.com/ipython/ipython\">ipython/ipython</a></h5>\n<ul>\n<li><a href=\"https://github.com/ipython/ipython/issues/11894\">(#11894)</a>: <em>Tracebacks are not shown right away when connecting to 'ipython kernel' from 'jupyter console'</em> by <strong><a href=\"https://github.com/asmeurer\">@asmeurer</a></strong></li>\n<li><a href=\"https://github.com/ipython/ipython/issues/11898\">(#11898)</a>: <em>Performance Issue: Startup very slow</em> by <strong><a href=\"https://github.com/stevenleeS0ht\">@stevenleeS0ht</a></strong></li>\n<li><a href=\"https://github.com/ipython/ipython/issues/11885\">(#11885)</a>: <em>autoreload hang for changed instance methods: between 7.5.0 and 7.8.0</em> by <strong><a href=\"https://github.com/histed\">@histed</a></strong></li>\n<li><a href=\"https://github.com/ipython/ipython/issues/11871\">(#11871)</a>: <em>weird behaviour when using argument parser</em> by <strong><a href=\"https://github.com/vainaijr\">@vainaijr</a></strong></li>\n</ul>\n<h5><a href=\"https://github.com/ipython/rlipython\">ipython/rlipython</a></h5>\n<h5><a href=\"https://github.com/ipython/traitlets\">ipython/traitlets</a></h5>\n<ul>\n<li><a href=\"https://github.com/ipython/traitlets/issues/534\">(#534)</a>: <em>Non Singleton Application Class</em> by <strong><a href=\"https://github.com/Zsailer\">@Zsailer</a></strong></li>\n<li><a href=\"https://github.com/ipython/traitlets/issues/533\">(#533)</a>: <em>get function of TraitType(BaseDescriptor) is called right after start ipython and then run forever?</em> by <strong><a href=\"https://github.com/ke-zhang-rd\">@ke-zhang-rd</a></strong></li>\n</ul>"
      }
     },
     "be44f299531c4d40a4c4ddbba4f730d8": {
      "model_module": "@jupyter-widgets/base",
      "model_module_version": "1.2.0",
      "model_name": "LayoutModel",
      "state": {
       "_model_module": "@jupyter-widgets/base",
       "_model_module_version": "1.2.0",
       "_model_name": "LayoutModel",
       "_view_count": null,
       "_view_module": "@jupyter-widgets/base",
       "_view_module_version": "1.2.0",
       "_view_name": "LayoutView",
       "align_content": null,
       "align_items": null,
       "align_self": null,
       "border": null,
       "bottom": null,
       "display": null,
       "flex": null,
       "flex_flow": null,
       "grid_area": null,
       "grid_auto_columns": null,
       "grid_auto_flow": null,
       "grid_auto_rows": null,
       "grid_column": null,
       "grid_gap": null,
       "grid_row": null,
       "grid_template_areas": null,
       "grid_template_columns": null,
       "grid_template_rows": null,
       "height": null,
       "justify_content": null,
       "justify_items": null,
       "left": null,
       "margin": null,
       "max_height": null,
       "max_width": null,
       "min_height": null,
       "min_width": null,
       "object_fit": null,
       "object_position": null,
       "order": null,
       "overflow": null,
       "overflow_x": null,
       "overflow_y": null,
       "padding": null,
       "right": null,
       "top": null,
       "visibility": null,
       "width": null
      }
     },
     "c0310a3c95564b1db89b1ee4f0157ef8": {
      "model_module": "@jupyter-widgets/controls",
      "model_module_version": "1.5.0",
      "model_name": "HTMLModel",
      "state": {
       "_dom_classes": [],
       "_model_module": "@jupyter-widgets/controls",
       "_model_module_version": "1.5.0",
       "_model_name": "HTMLModel",
       "_view_count": null,
       "_view_module": "@jupyter-widgets/controls",
       "_view_module_version": "1.5.0",
       "_view_name": "HTMLView",
       "description": "",
       "description_tooltip": null,
       "layout": "IPY_MODEL_d3a94b7c0bdf415d83035d72d0f7e505",
       "placeholder": "​",
       "style": "IPY_MODEL_ed38b0a5723247029439bd80680afb96",
       "value": "<h4>jupyterlab</h4>\n<h5><a href=\"https://github.com/jupyterlab/debugger\">jupyterlab/debugger</a></h5>\n<h5><a href=\"https://github.com/jupyterlab/jupyter-renderers\">jupyterlab/jupyter-renderers</a></h5>\n<ul>\n<li><a href=\"https://github.com/jupyterlab/jupyter-renderers/issues/171\">(#171)</a>: <em>Very slow rendering / locking up browser when plotly-extension rendering multiple charts</em> by <strong><a href=\"https://github.com/luck02\">@luck02</a></strong></li>\n<li><a href=\"https://github.com/jupyterlab/jupyter-renderers/issues/132\">(#132)</a>: <em>Installation</em> by <strong><a href=\"https://github.com/realjumy\">@realjumy</a></strong></li>\n</ul>\n<h5><a href=\"https://github.com/jupyterlab/jupyterlab\">jupyterlab/jupyterlab</a></h5>\n<h5><a href=\"https://github.com/jupyterlab/jupyterlab-celltags\">jupyterlab/jupyterlab-celltags</a></h5>\n<h5><a href=\"https://github.com/jupyterlab/jupyterlab-commenting\">jupyterlab/jupyterlab-commenting</a></h5>\n<h5><a href=\"https://github.com/jupyterlab/jupyterlab-data-explorer\">jupyterlab/jupyterlab-data-explorer</a></h5>\n<ul>\n<li><a href=\"https://github.com/jupyterlab/jupyterlab-data-explorer/issues/78\">(#78)</a>: <em>Install fails</em> by <strong><a href=\"https://github.com/rd5802\">@rd5802</a></strong></li>\n</ul>\n<h5><a href=\"https://github.com/jupyterlab/jupyterlab-git\">jupyterlab/jupyterlab-git</a></h5>\n<ul>\n<li><a href=\"https://github.com/jupyterlab/jupyterlab-git/issues/405\">(#405)</a>: <em>strange rendering of jupyter lab in chrome</em> by <strong><a href=\"https://github.com/ba4ekiko1\">@ba4ekiko1</a></strong></li>\n<li><a href=\"https://github.com/jupyterlab/jupyterlab-git/issues/411\">(#411)</a>: <em>JupyterLab file browser entries empty with this extension installed</em> by <strong><a href=\"https://github.com/02JanDal\">@02JanDal</a></strong></li>\n<li><a href=\"https://github.com/jupyterlab/jupyterlab-git/issues/404\">(#404)</a>: <em>jupyterlab-git always differs the same file</em> by <strong><a href=\"https://github.com/qjtongkai\">@qjtongkai</a></strong></li>\n</ul>\n<h5><a href=\"https://github.com/jupyterlab/jupyterlab-github\">jupyterlab/jupyterlab-github</a></h5>\n<ul>\n<li><a href=\"https://github.com/jupyterlab/jupyterlab-github/issues/91\">(#91)</a>: <em>Private repos in organization I have access to are not listed (only public ones)</em> by <strong><a href=\"https://github.com/memeplex\">@memeplex</a></strong></li>\n</ul>\n<h5><a href=\"https://github.com/jupyterlab/jupyterlab-google-drive\">jupyterlab/jupyterlab-google-drive</a></h5>\n<ul>\n<li><a href=\"https://github.com/jupyterlab/jupyterlab-google-drive/issues/151\">(#151)</a>: <em>Can't sing in in my drive</em> by <strong><a href=\"https://github.com/metya\">@metya</a></strong></li>\n<li><a href=\"https://github.com/jupyterlab/jupyterlab-google-drive/issues/161\">(#161)</a>: <em>The Google Drive panel doesn't show a login button.</em> by <strong><a href=\"https://github.com/csevast\">@csevast</a></strong></li>\n<li><a href=\"https://github.com/jupyterlab/jupyterlab-google-drive/issues/164\">(#164)</a>: <em>Google Drives API</em> by <strong><a href=\"https://github.com/bmshouse\">@bmshouse</a></strong></li>\n<li><a href=\"https://github.com/jupyterlab/jupyterlab-google-drive/issues/162\">(#162)</a>: <em>UI is broken due to some icon change</em> by <strong><a href=\"https://github.com/kyip-dev\">@kyip-dev</a></strong></li>\n<li><a href=\"https://github.com/jupyterlab/jupyterlab-google-drive/issues/157\">(#157)</a>: <em>Google Oauth Setup procedure does not work anymore (at least for Europe?)</em> by <strong><a href=\"https://github.com/jpdus\">@jpdus</a></strong></li>\n</ul>\n<h5><a href=\"https://github.com/jupyterlab/jupyterlab-hdf5\">jupyterlab/jupyterlab-hdf5</a></h5>\n<h5><a href=\"https://github.com/jupyterlab/jupyterlab-latex\">jupyterlab/jupyterlab-latex</a></h5>\n<ul>\n<li><a href=\"https://github.com/jupyterlab/jupyterlab-latex/issues/87\">(#87)</a>: <em>Jupyterlab-latex installed but error says it's not</em> by <strong><a href=\"https://github.com/thongnnguyen\">@thongnnguyen</a></strong></li>\n</ul>\n<h5><a href=\"https://github.com/jupyterlab/jupyterlab-metadata-service\">jupyterlab/jupyterlab-metadata-service</a></h5>\n<ul>\n<li><a href=\"https://github.com/jupyterlab/jupyterlab-metadata-service/issues/29\">(#29)</a>: <em>Installing Extension</em> by <strong><a href=\"https://github.com/koliphan2\">@koliphan2</a></strong></li>\n</ul>\n<h5><a href=\"https://github.com/jupyterlab/jupyterlab-shortcutui\">jupyterlab/jupyterlab-shortcutui</a></h5>\n<ul>\n<li><a href=\"https://github.com/jupyterlab/jupyterlab-shortcutui/issues/44\">(#44)</a>: <em>Conflicting Dependencies with newest jupyter lab version</em> by <strong><a href=\"https://github.com/idoDavid\">@idoDavid</a></strong></li>\n</ul>\n<h5><a href=\"https://github.com/jupyterlab/jupyterlab-telemetry\">jupyterlab/jupyterlab-telemetry</a></h5>\n<ul>\n<li><a href=\"https://github.com/jupyterlab/jupyterlab-telemetry/issues/5\">(#5)</a>: <em>Move to jupyter/telemetry</em> by <strong><a href=\"https://github.com/Zsailer\">@Zsailer</a></strong></li>\n</ul>\n<h5><a href=\"https://github.com/jupyterlab/jupyterlab-toc\">jupyterlab/jupyterlab-toc</a></h5>\n<ul>\n<li><a href=\"https://github.com/jupyterlab/jupyterlab-toc/issues/98\">(#98)</a>: _sidebar became wierd after installation _ by <strong><a href=\"https://github.com/chwang1991\">@chwang1991</a></strong></li>\n<li><a href=\"https://github.com/jupyterlab/jupyterlab-toc/issues/93\">(#93)</a>: <em>NodeJs and Permission denied errors</em> by <strong><a href=\"https://github.com/GrigoriiTarasov\">@GrigoriiTarasov</a></strong></li>\n<li><a href=\"https://github.com/jupyterlab/jupyterlab-toc/issues/38\">(#38)</a>: <em>Dependecies issues during installation</em> by <strong><a href=\"https://github.com/rtmatx\">@rtmatx</a></strong></li>\n</ul>\n<h5><a href=\"https://github.com/jupyterlab/jupyterlab_apod\">jupyterlab/jupyterlab_apod</a></h5>\n<h5><a href=\"https://github.com/jupyterlab/pull-requests\">jupyterlab/pull-requests</a></h5>\n<ul>\n<li><a href=\"https://github.com/jupyterlab/pull-requests/issues/10\">(#10)</a>: <em>Integration with Bitbucket</em> by <strong><a href=\"https://github.com/rahulpshah\">@rahulpshah</a></strong></li>\n</ul>\n<h5><a href=\"https://github.com/jupyterlab/team-compass\">jupyterlab/team-compass</a></h5>\n<ul>\n<li><a href=\"https://github.com/jupyterlab/team-compass/issues/13\">(#13)</a>: <em>Jupyterlab Rich Text Editing and Package installer</em> by <strong><a href=\"https://github.com/Zsailer\">@Zsailer</a></strong></li>\n<li><a href=\"https://github.com/jupyterlab/team-compass/issues/14\">(#14)</a>: <em>Weekly Dev Call Meeting Minutes 9-18-2019</em> by <strong><a href=\"https://github.com/tgeorgeux\">@tgeorgeux</a></strong></li>\n<li><a href=\"https://github.com/jupyterlab/team-compass/issues/6\">(#6)</a>: <em>Auto-locking closed issues?</em> by <strong><a href=\"https://github.com/vidartf\">@vidartf</a></strong></li>\n</ul>"
      }
     },
     "c16b78da8f6e46969fda1501abb62cdc": {
      "model_module": "@jupyter-widgets/controls",
      "model_module_version": "1.5.0",
      "model_name": "TabModel",
      "state": {
       "_dom_classes": [],
       "_model_module": "@jupyter-widgets/controls",
       "_model_module_version": "1.5.0",
       "_model_name": "TabModel",
       "_titles": {
        "0": "binder-examples",
        "1": "ipython",
        "2": "jupyter",
        "3": "jupyter-widgets",
        "4": "jupyterhub",
        "5": "jupyterlab"
       },
       "_view_count": null,
       "_view_module": "@jupyter-widgets/controls",
       "_view_module_version": "1.5.0",
       "_view_name": "TabView",
       "box_style": "",
       "children": [
        "IPY_MODEL_9df312ae88394892a6b2e6629d025abf",
        "IPY_MODEL_38902c9189ad4fae8df05c51e3111159",
        "IPY_MODEL_89932ee165bf4545b17032b0756fcb8f",
        "IPY_MODEL_afeccae1b9f245869371af0fb54c2865",
        "IPY_MODEL_068d88669186428cbf0d0d44109814a8",
        "IPY_MODEL_1af4f101cd8d4812a376d1ab33727b09"
       ],
       "layout": "IPY_MODEL_a21a64cb09b74ff09fd563e07a3a1809",
       "selected_index": 0
      }
     },
     "c2bbbc108d66408fafc19c32d369a33c": {
      "model_module": "@jupyter-widgets/base",
      "model_module_version": "1.2.0",
      "model_name": "LayoutModel",
      "state": {
       "_model_module": "@jupyter-widgets/base",
       "_model_module_version": "1.2.0",
       "_model_name": "LayoutModel",
       "_view_count": null,
       "_view_module": "@jupyter-widgets/base",
       "_view_module_version": "1.2.0",
       "_view_name": "LayoutView",
       "align_content": null,
       "align_items": null,
       "align_self": null,
       "border": null,
       "bottom": null,
       "display": null,
       "flex": null,
       "flex_flow": null,
       "grid_area": null,
       "grid_auto_columns": null,
       "grid_auto_flow": null,
       "grid_auto_rows": null,
       "grid_column": null,
       "grid_gap": null,
       "grid_row": null,
       "grid_template_areas": null,
       "grid_template_columns": null,
       "grid_template_rows": null,
       "height": null,
       "justify_content": null,
       "justify_items": null,
       "left": null,
       "margin": null,
       "max_height": null,
       "max_width": null,
       "min_height": null,
       "min_width": null,
       "object_fit": null,
       "object_position": null,
       "order": null,
       "overflow": null,
       "overflow_x": null,
       "overflow_y": null,
       "padding": null,
       "right": null,
       "top": null,
       "visibility": null,
       "width": null
      }
     },
     "ca3fd27aaf1e42fba10280044ac61942": {
      "model_module": "@jupyter-widgets/controls",
      "model_module_version": "1.5.0",
      "model_name": "DescriptionStyleModel",
      "state": {
       "_model_module": "@jupyter-widgets/controls",
       "_model_module_version": "1.5.0",
       "_model_name": "DescriptionStyleModel",
       "_view_count": null,
       "_view_module": "@jupyter-widgets/base",
       "_view_module_version": "1.2.0",
       "_view_name": "StyleView",
       "description_width": ""
      }
     },
     "ca9a004eafd64308bdafb5f33699188c": {
      "model_module": "@jupyter-widgets/base",
      "model_module_version": "1.2.0",
      "model_name": "LayoutModel",
      "state": {
       "_model_module": "@jupyter-widgets/base",
       "_model_module_version": "1.2.0",
       "_model_name": "LayoutModel",
       "_view_count": null,
       "_view_module": "@jupyter-widgets/base",
       "_view_module_version": "1.2.0",
       "_view_name": "LayoutView",
       "align_content": null,
       "align_items": null,
       "align_self": null,
       "border": null,
       "bottom": null,
       "display": null,
       "flex": null,
       "flex_flow": null,
       "grid_area": null,
       "grid_auto_columns": null,
       "grid_auto_flow": null,
       "grid_auto_rows": null,
       "grid_column": null,
       "grid_gap": null,
       "grid_row": null,
       "grid_template_areas": null,
       "grid_template_columns": null,
       "grid_template_rows": null,
       "height": null,
       "justify_content": null,
       "justify_items": null,
       "left": null,
       "margin": null,
       "max_height": null,
       "max_width": null,
       "min_height": null,
       "min_width": null,
       "object_fit": null,
       "object_position": null,
       "order": null,
       "overflow": null,
       "overflow_x": null,
       "overflow_y": null,
       "padding": null,
       "right": null,
       "top": null,
       "visibility": null,
       "width": null
      }
     },
     "cfd738a6335741b1ac1a6be271dfc2ae": {
      "model_module": "@jupyter-widgets/base",
      "model_module_version": "1.2.0",
      "model_name": "LayoutModel",
      "state": {
       "_model_module": "@jupyter-widgets/base",
       "_model_module_version": "1.2.0",
       "_model_name": "LayoutModel",
       "_view_count": null,
       "_view_module": "@jupyter-widgets/base",
       "_view_module_version": "1.2.0",
       "_view_name": "LayoutView",
       "align_content": null,
       "align_items": null,
       "align_self": null,
       "border": null,
       "bottom": null,
       "display": null,
       "flex": null,
       "flex_flow": null,
       "grid_area": null,
       "grid_auto_columns": null,
       "grid_auto_flow": null,
       "grid_auto_rows": null,
       "grid_column": null,
       "grid_gap": null,
       "grid_row": null,
       "grid_template_areas": null,
       "grid_template_columns": null,
       "grid_template_rows": null,
       "height": null,
       "justify_content": null,
       "justify_items": null,
       "left": null,
       "margin": null,
       "max_height": null,
       "max_width": null,
       "min_height": null,
       "min_width": null,
       "object_fit": null,
       "object_position": null,
       "order": null,
       "overflow": null,
       "overflow_x": null,
       "overflow_y": null,
       "padding": null,
       "right": null,
       "top": null,
       "visibility": null,
       "width": null
      }
     },
     "d2a45786b3274c7b85a414c239abd75d": {
      "model_module": "@jupyter-widgets/controls",
      "model_module_version": "1.5.0",
      "model_name": "DescriptionStyleModel",
      "state": {
       "_model_module": "@jupyter-widgets/controls",
       "_model_module_version": "1.5.0",
       "_model_name": "DescriptionStyleModel",
       "_view_count": null,
       "_view_module": "@jupyter-widgets/base",
       "_view_module_version": "1.2.0",
       "_view_name": "StyleView",
       "description_width": ""
      }
     },
     "d3a94b7c0bdf415d83035d72d0f7e505": {
      "model_module": "@jupyter-widgets/base",
      "model_module_version": "1.2.0",
      "model_name": "LayoutModel",
      "state": {
       "_model_module": "@jupyter-widgets/base",
       "_model_module_version": "1.2.0",
       "_model_name": "LayoutModel",
       "_view_count": null,
       "_view_module": "@jupyter-widgets/base",
       "_view_module_version": "1.2.0",
       "_view_name": "LayoutView",
       "align_content": null,
       "align_items": null,
       "align_self": null,
       "border": null,
       "bottom": null,
       "display": null,
       "flex": null,
       "flex_flow": null,
       "grid_area": null,
       "grid_auto_columns": null,
       "grid_auto_flow": null,
       "grid_auto_rows": null,
       "grid_column": null,
       "grid_gap": null,
       "grid_row": null,
       "grid_template_areas": null,
       "grid_template_columns": null,
       "grid_template_rows": null,
       "height": null,
       "justify_content": null,
       "justify_items": null,
       "left": null,
       "margin": null,
       "max_height": null,
       "max_width": null,
       "min_height": null,
       "min_width": null,
       "object_fit": null,
       "object_position": null,
       "order": null,
       "overflow": null,
       "overflow_x": null,
       "overflow_y": null,
       "padding": null,
       "right": null,
       "top": null,
       "visibility": null,
       "width": null
      }
     },
     "d9803ba3d301411a9c87dbd27d17e11a": {
      "model_module": "@jupyter-widgets/base",
      "model_module_version": "1.2.0",
      "model_name": "LayoutModel",
      "state": {
       "_model_module": "@jupyter-widgets/base",
       "_model_module_version": "1.2.0",
       "_model_name": "LayoutModel",
       "_view_count": null,
       "_view_module": "@jupyter-widgets/base",
       "_view_module_version": "1.2.0",
       "_view_name": "LayoutView",
       "align_content": null,
       "align_items": null,
       "align_self": null,
       "border": null,
       "bottom": null,
       "display": null,
       "flex": null,
       "flex_flow": null,
       "grid_area": null,
       "grid_auto_columns": null,
       "grid_auto_flow": null,
       "grid_auto_rows": null,
       "grid_column": null,
       "grid_gap": null,
       "grid_row": null,
       "grid_template_areas": null,
       "grid_template_columns": null,
       "grid_template_rows": null,
       "height": null,
       "justify_content": null,
       "justify_items": null,
       "left": null,
       "margin": null,
       "max_height": null,
       "max_width": null,
       "min_height": null,
       "min_width": null,
       "object_fit": null,
       "object_position": null,
       "order": null,
       "overflow": null,
       "overflow_x": null,
       "overflow_y": null,
       "padding": null,
       "right": null,
       "top": null,
       "visibility": null,
       "width": null
      }
     },
     "d9b1ad95ef5e454cb1a0b1e0b36cd957": {
      "model_module": "@jupyter-widgets/controls",
      "model_module_version": "1.5.0",
      "model_name": "DescriptionStyleModel",
      "state": {
       "_model_module": "@jupyter-widgets/controls",
       "_model_module_version": "1.5.0",
       "_model_name": "DescriptionStyleModel",
       "_view_count": null,
       "_view_module": "@jupyter-widgets/base",
       "_view_module_version": "1.2.0",
       "_view_name": "StyleView",
       "description_width": ""
      }
     },
     "e538c9bf497a4b89891ccddb1dfbd72b": {
      "model_module": "@jupyter-widgets/base",
      "model_module_version": "1.2.0",
      "model_name": "LayoutModel",
      "state": {
       "_model_module": "@jupyter-widgets/base",
       "_model_module_version": "1.2.0",
       "_model_name": "LayoutModel",
       "_view_count": null,
       "_view_module": "@jupyter-widgets/base",
       "_view_module_version": "1.2.0",
       "_view_name": "LayoutView",
       "align_content": null,
       "align_items": null,
       "align_self": null,
       "border": null,
       "bottom": null,
       "display": null,
       "flex": null,
       "flex_flow": null,
       "grid_area": null,
       "grid_auto_columns": null,
       "grid_auto_flow": null,
       "grid_auto_rows": null,
       "grid_column": null,
       "grid_gap": null,
       "grid_row": null,
       "grid_template_areas": null,
       "grid_template_columns": null,
       "grid_template_rows": null,
       "height": null,
       "justify_content": null,
       "justify_items": null,
       "left": null,
       "margin": null,
       "max_height": null,
       "max_width": null,
       "min_height": null,
       "min_width": null,
       "object_fit": null,
       "object_position": null,
       "order": null,
       "overflow": null,
       "overflow_x": null,
       "overflow_y": null,
       "padding": null,
       "right": null,
       "top": null,
       "visibility": null,
       "width": null
      }
     },
     "e8be661f6a8841fbae76092d29f489e5": {
      "model_module": "@jupyter-widgets/controls",
      "model_module_version": "1.5.0",
      "model_name": "HTMLModel",
      "state": {
       "_dom_classes": [],
       "_model_module": "@jupyter-widgets/controls",
       "_model_module_version": "1.5.0",
       "_model_name": "HTMLModel",
       "_view_count": null,
       "_view_module": "@jupyter-widgets/controls",
       "_view_module_version": "1.5.0",
       "_view_name": "HTMLView",
       "description": "",
       "description_tooltip": null,
       "layout": "IPY_MODEL_e538c9bf497a4b89891ccddb1dfbd72b",
       "placeholder": "​",
       "style": "IPY_MODEL_781bde1cdc7146f4b4cb9b0551bc3a57",
       "value": "<h4>jupyterlab</h4>\n<h5><a href=\"https://github.com/jupyterlab/debugger\">jupyterlab/debugger</a></h5>\n<h5><a href=\"https://github.com/jupyterlab/jupyter-renderers\">jupyterlab/jupyter-renderers</a></h5>\n<ul>\n<li><a href=\"https://github.com/jupyterlab/jupyter-renderers/issues/171\">(#171)</a>: <em>Very slow rendering / locking up browser when plotly-extension rendering multiple charts</em> by <strong><a href=\"https://github.com/luck02\">@luck02</a></strong></li>\n<li><a href=\"https://github.com/jupyterlab/jupyter-renderers/issues/132\">(#132)</a>: <em>Installation</em> by <strong><a href=\"https://github.com/realjumy\">@realjumy</a></strong></li>\n</ul>\n<h5><a href=\"https://github.com/jupyterlab/jupyterlab\">jupyterlab/jupyterlab</a></h5>\n<h5><a href=\"https://github.com/jupyterlab/jupyterlab-celltags\">jupyterlab/jupyterlab-celltags</a></h5>\n<h5><a href=\"https://github.com/jupyterlab/jupyterlab-commenting\">jupyterlab/jupyterlab-commenting</a></h5>\n<h5><a href=\"https://github.com/jupyterlab/jupyterlab-data-explorer\">jupyterlab/jupyterlab-data-explorer</a></h5>\n<ul>\n<li><a href=\"https://github.com/jupyterlab/jupyterlab-data-explorer/issues/78\">(#78)</a>: <em>Install fails</em> by <strong><a href=\"https://github.com/rd5802\">@rd5802</a></strong></li>\n</ul>\n<h5><a href=\"https://github.com/jupyterlab/jupyterlab-git\">jupyterlab/jupyterlab-git</a></h5>\n<ul>\n<li><a href=\"https://github.com/jupyterlab/jupyterlab-git/issues/405\">(#405)</a>: <em>strange rendering of jupyter lab in chrome</em> by <strong><a href=\"https://github.com/ba4ekiko1\">@ba4ekiko1</a></strong></li>\n<li><a href=\"https://github.com/jupyterlab/jupyterlab-git/issues/411\">(#411)</a>: <em>JupyterLab file browser entries empty with this extension installed</em> by <strong><a href=\"https://github.com/02JanDal\">@02JanDal</a></strong></li>\n<li><a href=\"https://github.com/jupyterlab/jupyterlab-git/issues/404\">(#404)</a>: <em>jupyterlab-git always differs the same file</em> by <strong><a href=\"https://github.com/qjtongkai\">@qjtongkai</a></strong></li>\n</ul>\n<h5><a href=\"https://github.com/jupyterlab/jupyterlab-github\">jupyterlab/jupyterlab-github</a></h5>\n<ul>\n<li><a href=\"https://github.com/jupyterlab/jupyterlab-github/issues/91\">(#91)</a>: <em>Private repos in organization I have access to are not listed (only public ones)</em> by <strong><a href=\"https://github.com/memeplex\">@memeplex</a></strong></li>\n</ul>\n<h5><a href=\"https://github.com/jupyterlab/jupyterlab-google-drive\">jupyterlab/jupyterlab-google-drive</a></h5>\n<ul>\n<li><a href=\"https://github.com/jupyterlab/jupyterlab-google-drive/issues/151\">(#151)</a>: <em>Can't sing in in my drive</em> by <strong><a href=\"https://github.com/metya\">@metya</a></strong></li>\n<li><a href=\"https://github.com/jupyterlab/jupyterlab-google-drive/issues/161\">(#161)</a>: <em>The Google Drive panel doesn't show a login button.</em> by <strong><a href=\"https://github.com/csevast\">@csevast</a></strong></li>\n<li><a href=\"https://github.com/jupyterlab/jupyterlab-google-drive/issues/164\">(#164)</a>: <em>Google Drives API</em> by <strong><a href=\"https://github.com/bmshouse\">@bmshouse</a></strong></li>\n<li><a href=\"https://github.com/jupyterlab/jupyterlab-google-drive/issues/162\">(#162)</a>: <em>UI is broken due to some icon change</em> by <strong><a href=\"https://github.com/kyip-dev\">@kyip-dev</a></strong></li>\n<li><a href=\"https://github.com/jupyterlab/jupyterlab-google-drive/issues/157\">(#157)</a>: <em>Google Oauth Setup procedure does not work anymore (at least for Europe?)</em> by <strong><a href=\"https://github.com/jpdus\">@jpdus</a></strong></li>\n</ul>\n<h5><a href=\"https://github.com/jupyterlab/jupyterlab-hdf5\">jupyterlab/jupyterlab-hdf5</a></h5>\n<h5><a href=\"https://github.com/jupyterlab/jupyterlab-latex\">jupyterlab/jupyterlab-latex</a></h5>\n<ul>\n<li><a href=\"https://github.com/jupyterlab/jupyterlab-latex/issues/87\">(#87)</a>: <em>Jupyterlab-latex installed but error says it's not</em> by <strong><a href=\"https://github.com/thongnnguyen\">@thongnnguyen</a></strong></li>\n</ul>\n<h5><a href=\"https://github.com/jupyterlab/jupyterlab-metadata-service\">jupyterlab/jupyterlab-metadata-service</a></h5>\n<ul>\n<li><a href=\"https://github.com/jupyterlab/jupyterlab-metadata-service/issues/29\">(#29)</a>: <em>Installing Extension</em> by <strong><a href=\"https://github.com/koliphan2\">@koliphan2</a></strong></li>\n</ul>\n<h5><a href=\"https://github.com/jupyterlab/jupyterlab-shortcutui\">jupyterlab/jupyterlab-shortcutui</a></h5>\n<ul>\n<li><a href=\"https://github.com/jupyterlab/jupyterlab-shortcutui/issues/44\">(#44)</a>: <em>Conflicting Dependencies with newest jupyter lab version</em> by <strong><a href=\"https://github.com/idoDavid\">@idoDavid</a></strong></li>\n</ul>\n<h5><a href=\"https://github.com/jupyterlab/jupyterlab-telemetry\">jupyterlab/jupyterlab-telemetry</a></h5>\n<ul>\n<li><a href=\"https://github.com/jupyterlab/jupyterlab-telemetry/issues/5\">(#5)</a>: <em>Move to jupyter/telemetry</em> by <strong><a href=\"https://github.com/Zsailer\">@Zsailer</a></strong></li>\n</ul>\n<h5><a href=\"https://github.com/jupyterlab/jupyterlab-toc\">jupyterlab/jupyterlab-toc</a></h5>\n<ul>\n<li><a href=\"https://github.com/jupyterlab/jupyterlab-toc/issues/98\">(#98)</a>: _sidebar became wierd after installation _ by <strong><a href=\"https://github.com/chwang1991\">@chwang1991</a></strong></li>\n<li><a href=\"https://github.com/jupyterlab/jupyterlab-toc/issues/93\">(#93)</a>: <em>NodeJs and Permission denied errors</em> by <strong><a href=\"https://github.com/GrigoriiTarasov\">@GrigoriiTarasov</a></strong></li>\n<li><a href=\"https://github.com/jupyterlab/jupyterlab-toc/issues/38\">(#38)</a>: <em>Dependecies issues during installation</em> by <strong><a href=\"https://github.com/rtmatx\">@rtmatx</a></strong></li>\n</ul>\n<h5><a href=\"https://github.com/jupyterlab/jupyterlab_apod\">jupyterlab/jupyterlab_apod</a></h5>\n<h5><a href=\"https://github.com/jupyterlab/pull-requests\">jupyterlab/pull-requests</a></h5>\n<ul>\n<li><a href=\"https://github.com/jupyterlab/pull-requests/issues/10\">(#10)</a>: <em>Integration with Bitbucket</em> by <strong><a href=\"https://github.com/rahulpshah\">@rahulpshah</a></strong></li>\n</ul>\n<h5><a href=\"https://github.com/jupyterlab/team-compass\">jupyterlab/team-compass</a></h5>\n<ul>\n<li><a href=\"https://github.com/jupyterlab/team-compass/issues/13\">(#13)</a>: <em>Jupyterlab Rich Text Editing and Package installer</em> by <strong><a href=\"https://github.com/Zsailer\">@Zsailer</a></strong></li>\n<li><a href=\"https://github.com/jupyterlab/team-compass/issues/14\">(#14)</a>: <em>Weekly Dev Call Meeting Minutes 9-18-2019</em> by <strong><a href=\"https://github.com/tgeorgeux\">@tgeorgeux</a></strong></li>\n<li><a href=\"https://github.com/jupyterlab/team-compass/issues/6\">(#6)</a>: <em>Auto-locking closed issues?</em> by <strong><a href=\"https://github.com/vidartf\">@vidartf</a></strong></li>\n</ul>"
      }
     },
     "e95b2d87c4264bb5a0117dcaaeafd899": {
      "model_module": "@jupyter-widgets/controls",
      "model_module_version": "1.5.0",
      "model_name": "HTMLModel",
      "state": {
       "_dom_classes": [],
       "_model_module": "@jupyter-widgets/controls",
       "_model_module_version": "1.5.0",
       "_model_name": "HTMLModel",
       "_view_count": null,
       "_view_module": "@jupyter-widgets/controls",
       "_view_module_version": "1.5.0",
       "_view_name": "HTMLView",
       "description": "",
       "description_tooltip": null,
       "layout": "IPY_MODEL_2f753e5aa6314e809e1949bba888ee4a",
       "placeholder": "​",
       "style": "IPY_MODEL_0b02b88afe3446998a2a9883cb10131b",
       "value": "<h4>Closed PRs for org: <code>jupyter-widgets</code></h4>\n<h5><a href=\"https://github.com/jupyter-widgets/ipyleaflet\">jupyter-widgets/ipyleaflet</a></h5>\n<ul>\n<li><a href=\"https://github.com/jupyter-widgets/ipyleaflet/pull/423\">(#423)</a>: <em>Clean GeoData on_hover Notebook</em> by <strong><a href=\"https://github.com/martinRenou\">@martinRenou</a></strong> merged by <strong><a href=\"https://github.com/martinRenou\">@martinRenou</a></strong></li>\n<li><a href=\"https://github.com/jupyter-widgets/ipyleaflet/pull/422\">(#422)</a>: <em>Add wealth of nations notebook</em> by <strong><a href=\"https://github.com/martinRenou\">@martinRenou</a></strong> merged by <strong><a href=\"https://github.com/martinRenou\">@martinRenou</a></strong></li>\n<li><a href=\"https://github.com/jupyter-widgets/ipyleaflet/pull/420\">(#420)</a>: <em>Silence traitlet deprecation warnings</em> by <strong><a href=\"https://github.com/stephaniegott\">@stephaniegott</a></strong> merged by <strong><a href=\"https://github.com/martinRenou\">@martinRenou</a></strong></li>\n<li><a href=\"https://github.com/jupyter-widgets/ipyleaflet/pull/419\">(#419)</a>: <em>Add missing installation command</em> by <strong><a href=\"https://github.com/martinRenou\">@martinRenou</a></strong> merged by <strong><a href=\"https://github.com/martinRenou\">@martinRenou</a></strong></li>\n</ul>\n<h5><a href=\"https://github.com/jupyter-widgets/jupyterlab-sidecar\">jupyter-widgets/jupyterlab-sidecar</a></h5>\n<ul>\n<li><a href=\"https://github.com/jupyter-widgets/jupyterlab-sidecar/pull/29\">(#29)</a>: <em>Add instructions for local development</em> by <strong><a href=\"https://github.com/jtpio\">@jtpio</a></strong> merged by <strong><a href=\"https://github.com/SylvainCorlay\">@SylvainCorlay</a></strong></li>\n</ul>\n<h5><a href=\"https://github.com/jupyter-widgets/widget-ts-cookiecutter\">jupyter-widgets/widget-ts-cookiecutter</a></h5>\n<ul>\n<li><a href=\"https://github.com/jupyter-widgets/widget-ts-cookiecutter/pull/51\">(#51)</a>: <em>Add missing tsconfig.json file in MANIFEST</em> by <strong><a href=\"https://github.com/martinRenou\">@martinRenou</a></strong> merged by <strong><a href=\"https://github.com/vidartf\">@vidartf</a></strong></li>\n</ul>"
      }
     },
     "ed38b0a5723247029439bd80680afb96": {
      "model_module": "@jupyter-widgets/controls",
      "model_module_version": "1.5.0",
      "model_name": "DescriptionStyleModel",
      "state": {
       "_model_module": "@jupyter-widgets/controls",
       "_model_module_version": "1.5.0",
       "_model_name": "DescriptionStyleModel",
       "_view_count": null,
       "_view_module": "@jupyter-widgets/base",
       "_view_module_version": "1.2.0",
       "_view_name": "StyleView",
       "description_width": ""
      }
     },
     "f3112877680a4822b9c9377ed4e5d33c": {
      "model_module": "@jupyter-widgets/base",
      "model_module_version": "1.2.0",
      "model_name": "LayoutModel",
      "state": {
       "_model_module": "@jupyter-widgets/base",
       "_model_module_version": "1.2.0",
       "_model_name": "LayoutModel",
       "_view_count": null,
       "_view_module": "@jupyter-widgets/base",
       "_view_module_version": "1.2.0",
       "_view_name": "LayoutView",
       "align_content": null,
       "align_items": null,
       "align_self": null,
       "border": null,
       "bottom": null,
       "display": null,
       "flex": null,
       "flex_flow": null,
       "grid_area": null,
       "grid_auto_columns": null,
       "grid_auto_flow": null,
       "grid_auto_rows": null,
       "grid_column": null,
       "grid_gap": null,
       "grid_row": null,
       "grid_template_areas": null,
       "grid_template_columns": null,
       "grid_template_rows": null,
       "height": null,
       "justify_content": null,
       "justify_items": null,
       "left": null,
       "margin": null,
       "max_height": null,
       "max_width": null,
       "min_height": null,
       "min_width": null,
       "object_fit": null,
       "object_position": null,
       "order": null,
       "overflow": null,
       "overflow_x": null,
       "overflow_y": null,
       "padding": null,
       "right": null,
       "top": null,
       "visibility": null,
       "width": null
      }
     },
     "f833e301e422406bafe16ddefe010de7": {
      "model_module": "@jupyter-widgets/controls",
      "model_module_version": "1.5.0",
      "model_name": "TabModel",
      "state": {
       "_dom_classes": [],
       "_model_module": "@jupyter-widgets/controls",
       "_model_module_version": "1.5.0",
       "_model_name": "TabModel",
       "_titles": {
        "0": "binder-examples",
        "1": "ipython",
        "2": "jupyter",
        "3": "jupyter-widgets",
        "4": "jupyterhub",
        "5": "jupyterlab"
       },
       "_view_count": null,
       "_view_module": "@jupyter-widgets/controls",
       "_view_module_version": "1.5.0",
       "_view_name": "TabView",
       "box_style": "",
       "children": [
        "IPY_MODEL_38b30b2a2c684fe6b8e8ffc660f24b7e",
        "IPY_MODEL_26bd4542b3a642b0b88e0663ef4ac3d4",
        "IPY_MODEL_39afb8ced9324b1d9990750361684040",
        "IPY_MODEL_e95b2d87c4264bb5a0117dcaaeafd899",
        "IPY_MODEL_371ffad44e2f44e29e9a258cde342f18",
        "IPY_MODEL_b8ad26a37b8b4115afbeff304d4066cf"
       ],
       "layout": "IPY_MODEL_7335a0ecd78945bebf76ebdce043d2c4",
       "selected_index": 0
      }
     },
     "fb92e23e2b2a40bb90a4d08375b42450": {
      "model_module": "@jupyter-widgets/controls",
      "model_module_version": "1.5.0",
      "model_name": "DescriptionStyleModel",
      "state": {
       "_model_module": "@jupyter-widgets/controls",
       "_model_module_version": "1.5.0",
       "_model_name": "DescriptionStyleModel",
       "_view_count": null,
       "_view_module": "@jupyter-widgets/base",
       "_view_module_version": "1.2.0",
       "_view_name": "StyleView",
       "description_width": ""
      }
     },
     "fbb600a1b9834506bdad4c3d2bb394f3": {
      "model_module": "@jupyter-widgets/controls",
      "model_module_version": "1.5.0",
      "model_name": "HTMLModel",
      "state": {
       "_dom_classes": [],
       "_model_module": "@jupyter-widgets/controls",
       "_model_module_version": "1.5.0",
       "_model_name": "HTMLModel",
       "_view_count": null,
       "_view_module": "@jupyter-widgets/controls",
       "_view_module_version": "1.5.0",
       "_view_name": "HTMLView",
       "description": "",
       "description_tooltip": null,
       "layout": "IPY_MODEL_ca9a004eafd64308bdafb5f33699188c",
       "placeholder": "​",
       "style": "IPY_MODEL_8c6c5664a7d341b1955957abfe5d070b",
       "value": "<h4>jupyter-widgets</h4>\n<h5><a href=\"https://github.com/jupyter-widgets/ipyleaflet\">jupyter-widgets/ipyleaflet</a></h5>\n<ul>\n<li><a href=\"https://github.com/jupyter-widgets/ipyleaflet/issues/418\">(#418)</a>: <em>ipyleaflet does not work in jupyter lab - \"Error displaying widget: model not found\"</em> by <strong><a href=\"https://github.com/dazzag24\">@dazzag24</a></strong></li>\n<li><a href=\"https://github.com/jupyter-widgets/ipyleaflet/issues/325\">(#325)</a>: <em>JupyterLab \"Error displaying widget\" when trying to display map</em> by <strong><a href=\"https://github.com/MaksimMisin\">@MaksimMisin</a></strong></li>\n<li><a href=\"https://github.com/jupyter-widgets/ipyleaflet/issues/195\">(#195)</a>: <em>Use in Google's Colaboratory (Colab)</em> by <strong><a href=\"https://github.com/fitoprincipe\">@fitoprincipe</a></strong></li>\n</ul>\n<h5><a href=\"https://github.com/jupyter-widgets/ipywidgets\">jupyter-widgets/ipywidgets</a></h5>\n<ul>\n<li><a href=\"https://github.com/jupyter-widgets/ipywidgets/issues/2545\">(#2545)</a>: <em>JupyterLab-Manager messed up Jupyter Lab layout</em> by <strong><a href=\"https://github.com/ivan-monge1989\">@ivan-monge1989</a></strong></li>\n<li><a href=\"https://github.com/jupyter-widgets/ipywidgets/issues/2477\">(#2477)</a>: <em>Button Icons/FontAwesome regression no longer supports fa-spin</em> by <strong><a href=\"https://github.com/rskabelund\">@rskabelund</a></strong></li>\n<li><a href=\"https://github.com/jupyter-widgets/ipywidgets/issues/2552\">(#2552)</a>: <em>ipywidgets not working with jupyterlab 1.0</em> by <strong><a href=\"https://github.com/scottwsides\">@scottwsides</a></strong></li>\n<li><a href=\"https://github.com/jupyter-widgets/ipywidgets/issues/2563\">(#2563)</a>: <em>saving static HTML with embedded widgets from Jupyter Lab and clearing widget state</em> by <strong><a href=\"https://github.com/cornhundred\">@cornhundred</a></strong></li>\n</ul>\n<h5><a href=\"https://github.com/jupyter-widgets/jupyterlab-sidecar\">jupyter-widgets/jupyterlab-sidecar</a></h5>\n<ul>\n<li><a href=\"https://github.com/jupyter-widgets/jupyterlab-sidecar/issues/28\">(#28)</a>: <em>v0.4.0 o PyPi</em> by <strong><a href=\"https://github.com/js3711\">@js3711</a></strong></li>\n</ul>\n<h5><a href=\"https://github.com/jupyter-widgets/pythreejs\">jupyter-widgets/pythreejs</a></h5>\n<ul>\n<li><a href=\"https://github.com/jupyter-widgets/pythreejs/issues/286\">(#286)</a>: <em>How to create a TubeGeometry - use of Three.Curve</em> by <strong><a href=\"https://github.com/hagrid67\">@hagrid67</a></strong></li>\n</ul>\n<h5><a href=\"https://github.com/jupyter-widgets/widget-ts-cookiecutter\">jupyter-widgets/widget-ts-cookiecutter</a></h5>"
      }
     },
     "fd7a44b90ffe4a6b88829869119fda71": {
      "model_module": "@jupyter-widgets/base",
      "model_module_version": "1.2.0",
      "model_name": "LayoutModel",
      "state": {
       "_model_module": "@jupyter-widgets/base",
       "_model_module_version": "1.2.0",
       "_model_name": "LayoutModel",
       "_view_count": null,
       "_view_module": "@jupyter-widgets/base",
       "_view_module_version": "1.2.0",
       "_view_name": "LayoutView",
       "align_content": null,
       "align_items": null,
       "align_self": null,
       "border": null,
       "bottom": null,
       "display": null,
       "flex": null,
       "flex_flow": null,
       "grid_area": null,
       "grid_auto_columns": null,
       "grid_auto_flow": null,
       "grid_auto_rows": null,
       "grid_column": null,
       "grid_gap": null,
       "grid_row": null,
       "grid_template_areas": null,
       "grid_template_columns": null,
       "grid_template_rows": null,
       "height": null,
       "justify_content": null,
       "justify_items": null,
       "left": null,
       "margin": null,
       "max_height": null,
       "max_width": null,
       "min_height": null,
       "min_width": null,
       "object_fit": null,
       "object_position": null,
       "order": null,
       "overflow": null,
       "overflow_x": null,
       "overflow_y": null,
       "padding": null,
       "right": null,
       "top": null,
       "visibility": null,
       "width": null
      }
     }
    },
    "version_major": 2,
    "version_minor": 0
   }
  }
 },
 "nbformat": 4,
 "nbformat_minor": 4
}