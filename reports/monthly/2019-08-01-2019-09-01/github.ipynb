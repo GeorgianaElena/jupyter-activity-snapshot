{
 "cells": [
  {
   "cell_type": "code",
   "execution_count": 1,
   "metadata": {
    "papermill": {
     "duration": 1.298381,
     "end_time": "2019-12-01T17:51:41.205354",
     "exception": false,
     "start_time": "2019-12-01T17:51:39.906973",
     "status": "completed"
    },
    "tags": []
   },
   "outputs": [],
   "source": [
    "import seaborn as sns\n",
    "import pandas as pd\n",
    "import numpy as np\n",
    "import altair as alt\n",
    "from markdown import markdown\n",
    "from IPython.display import Markdown\n",
    "from ipywidgets.widgets import HTML, Tab\n",
    "from ipywidgets import widgets\n",
    "from datetime import timedelta\n",
    "from matplotlib import pyplot as plt\n",
    "import os.path as op\n",
    "\n",
    "from mod import load_data, alt_theme\n",
    "\n",
    "from warnings import simplefilter\n",
    "simplefilter('ignore')"
   ]
  },
  {
   "cell_type": "code",
   "execution_count": 2,
   "metadata": {
    "papermill": {
     "duration": 0.030885,
     "end_time": "2019-12-01T17:51:41.251487",
     "exception": false,
     "start_time": "2019-12-01T17:51:41.220602",
     "status": "completed"
    },
    "tags": []
   },
   "outputs": [],
   "source": [
    "def author_url(author):\n",
    "    return f\"https://github.com/{author}\""
   ]
  },
  {
   "cell_type": "code",
   "execution_count": 3,
   "metadata": {
    "papermill": {
     "duration": 0.030247,
     "end_time": "2019-12-01T17:51:41.303638",
     "exception": false,
     "start_time": "2019-12-01T17:51:41.273391",
     "status": "completed"
    },
    "tags": [
     "parameters",
     "hide_input"
    ]
   },
   "outputs": [],
   "source": [
    "# Parameters\n",
    "fmt_date = \"{:%Y-%m-%d}\"\n",
    "\n",
    "n_days = 90\n",
    "start_date = fmt_date.format(pd.datetime.today() - timedelta(days=n_days))\n",
    "end_date = fmt_date.format(pd.datetime.today())\n",
    "\n",
    "renderer = \"jupyterlab\"\n",
    "github_orgs = [\"jupyterhub\", \"jupyter\", \"jupyterlab\", \"jupyter-widgets\", \"ipython\", \"binder-examples\", \"nteract\"]"
   ]
  },
  {
   "cell_type": "code",
   "execution_count": 4,
   "metadata": {
    "papermill": {
     "duration": 0.028039,
     "end_time": "2019-12-01T17:51:41.353789",
     "exception": false,
     "start_time": "2019-12-01T17:51:41.325750",
     "status": "completed"
    },
    "tags": [
     "injected-parameters"
    ]
   },
   "outputs": [],
   "source": [
    "# Parameters\n",
    "renderer = \"kaggle\"\n",
    "github_orgs = [\"jupyterhub\", \"jupyter\", \"jupyterlab\", \"jupyter-widgets\", \"ipython\", \"binder-examples\"]\n",
    "start_date = \"2019-08-01\"\n",
    "end_date = \"2019-09-01\"\n"
   ]
  },
  {
   "cell_type": "code",
   "execution_count": 5,
   "metadata": {
    "papermill": {
     "duration": 3.140484,
     "end_time": "2019-12-01T17:51:44.521556",
     "exception": false,
     "start_time": "2019-12-01T17:51:41.381072",
     "status": "completed"
    },
    "tags": []
   },
   "outputs": [],
   "source": [
    "comments, issues, prs = load_data('../data/')\n",
    "bot_names = pd.read_csv('bot_names.csv')['names'].tolist()\n",
    "comments = comments.query('author not in @bot_names').drop_duplicates()\n",
    "issues = issues.query('author not in @bot_names').drop_duplicates()\n",
    "prs = prs.query('author not in @bot_names').drop_duplicates()"
   ]
  },
  {
   "cell_type": "code",
   "execution_count": 6,
   "metadata": {
    "papermill": {
     "duration": 0.108943,
     "end_time": "2019-12-01T17:51:44.649341",
     "exception": false,
     "start_time": "2019-12-01T17:51:44.540398",
     "status": "completed"
    },
    "tags": []
   },
   "outputs": [],
   "source": [
    "# Only keep the datapoints we want\n",
    "query_data = 'updatedAt > @start_date and updatedAt < @end_date and org in @github_orgs'\n",
    "comments = comments.query(query_data)\n",
    "issues = issues.query(query_data)\n",
    "prs = prs.query(query_data)"
   ]
  },
  {
   "cell_type": "code",
   "execution_count": 7,
   "metadata": {
    "papermill": {
     "duration": 0.033986,
     "end_time": "2019-12-01T17:51:44.701224",
     "exception": false,
     "start_time": "2019-12-01T17:51:44.667238",
     "status": "completed"
    },
    "tags": []
   },
   "outputs": [
    {
     "data": {
      "text/plain": [
       "ThemeRegistry.enable('my_theme')"
      ]
     },
     "execution_count": 7,
     "metadata": {},
     "output_type": "execute_result"
    }
   ],
   "source": [
    "alt.renderers.enable(renderer);\n",
    "alt.themes.register('my_theme', alt_theme)\n",
    "alt.themes.enable(\"my_theme\")"
   ]
  },
  {
   "cell_type": "code",
   "execution_count": 8,
   "metadata": {
    "papermill": {
     "duration": 0.028655,
     "end_time": "2019-12-01T17:51:44.750651",
     "exception": false,
     "start_time": "2019-12-01T17:51:44.721996",
     "status": "completed"
    },
    "tags": []
   },
   "outputs": [],
   "source": [
    "# Information about out time window\n",
    "time_delta = pd.to_datetime(end_date) - pd.to_datetime(start_date)\n",
    "n_days = time_delta.days\n",
    "\n",
    "# Information about the data we loaded\n",
    "github_orgs = comments['org'].unique()"
   ]
  },
  {
   "cell_type": "markdown",
   "metadata": {
    "papermill": {
     "duration": 0.021176,
     "end_time": "2019-12-01T17:51:44.795377",
     "exception": false,
     "start_time": "2019-12-01T17:51:44.774201",
     "status": "completed"
    },
    "tags": []
   },
   "source": [
    "# GitHub activity\n",
    "\n",
    "Jupyter also has lots of activity across GitHub repositories. The following sections contain\n",
    "overviews of recent activity across the following GitHub organizations:"
   ]
  },
  {
   "cell_type": "code",
   "execution_count": 9,
   "metadata": {
    "papermill": {
     "duration": 0.031726,
     "end_time": "2019-12-01T17:51:44.850484",
     "exception": false,
     "start_time": "2019-12-01T17:51:44.818758",
     "status": "completed"
    },
    "tags": []
   },
   "outputs": [],
   "source": [
    "# Define colors we'll use for GitHub membership\n",
    "author_types = ['MEMBER', 'CONTRIBUTOR', 'COLLABORATOR', \"NONE\"]\n",
    "\n",
    "author_palette = sns.palettes.blend_palette([\"lightgrey\", \"lightgreen\", \"darkgreen\"], 4)\n",
    "author_colors = [\"rgb({}, {}, {}, {})\".format(*(ii*256)) for ii in author_palette]\n",
    "author_color_dict = {key: val for key, val in zip(author_types, author_palette)}"
   ]
  },
  {
   "cell_type": "code",
   "execution_count": 10,
   "metadata": {
    "papermill": {
     "duration": 0.030813,
     "end_time": "2019-12-01T17:51:44.902454",
     "exception": false,
     "start_time": "2019-12-01T17:51:44.871641",
     "status": "completed"
    },
    "tags": [
     "hide_input"
    ]
   },
   "outputs": [
    {
     "data": {
      "text/markdown": [
       "* [github.com/binder-examples](https://github.com/binder-examples)\n",
       "* [github.com/ipython](https://github.com/ipython)\n",
       "* [github.com/jupyter](https://github.com/jupyter)\n",
       "* [github.com/jupyter-widgets](https://github.com/jupyter-widgets)\n",
       "* [github.com/jupyterhub](https://github.com/jupyterhub)\n",
       "* [github.com/jupyterlab](https://github.com/jupyterlab)"
      ],
      "text/plain": [
       "<IPython.core.display.Markdown object>"
      ]
     },
     "execution_count": 10,
     "metadata": {},
     "output_type": "execute_result"
    }
   ],
   "source": [
    "orgs_md = []\n",
    "for org in github_orgs:\n",
    "    orgs_md.append(f'* [github.com/{org}](https://github.com/{org})')\n",
    "Markdown('\\n'.join(orgs_md))"
   ]
  },
  {
   "cell_type": "code",
   "execution_count": 11,
   "metadata": {
    "papermill": {
     "duration": 0.034625,
     "end_time": "2019-12-01T17:51:44.960190",
     "exception": false,
     "start_time": "2019-12-01T17:51:44.925565",
     "status": "completed"
    },
    "tags": [
     "hide_input"
    ]
   },
   "outputs": [
    {
     "data": {
      "text/markdown": [
       "Showing GitHub activity from **2019-08-01** to **2019-09-01**"
      ],
      "text/plain": [
       "<IPython.core.display.Markdown object>"
      ]
     },
     "execution_count": 11,
     "metadata": {},
     "output_type": "execute_result"
    }
   ],
   "source": [
    "Markdown(f\"Showing GitHub activity from **{start_date}** to **{end_date}**\")"
   ]
  },
  {
   "cell_type": "markdown",
   "metadata": {
    "papermill": {
     "duration": 0.026424,
     "end_time": "2019-12-01T17:51:45.009059",
     "exception": false,
     "start_time": "2019-12-01T17:51:44.982635",
     "status": "completed"
    },
    "tags": []
   },
   "source": [
    "## List of all contributors per organization\n",
    "\n",
    "First, we'll list each contributor that has contributed to each organization in the last several days.\n",
    "Contributions to open source projects are diverse, and involve much more than just contributing code and\n",
    "code review. Thanks to everybody in the Jupyter communities for all that they do."
   ]
  },
  {
   "cell_type": "code",
   "execution_count": 12,
   "metadata": {
    "papermill": {
     "duration": 0.180436,
     "end_time": "2019-12-01T17:51:45.216995",
     "exception": false,
     "start_time": "2019-12-01T17:51:45.036559",
     "status": "completed"
    },
    "tags": []
   },
   "outputs": [
    {
     "data": {
      "text/markdown": [
       "All participants across issues and pull requests in each org in the last 31 days"
      ],
      "text/plain": [
       "<IPython.core.display.Markdown object>"
      ]
     },
     "metadata": {},
     "output_type": "display_data"
    },
    {
     "data": {
      "application/vnd.jupyter.widget-view+json": {
       "model_id": "6df13312ba26442483febd1ec71e15d3",
       "version_major": 2,
       "version_minor": 0
      },
      "text/plain": [
       "Tab(children=(HTML(value='<center><p><a href=\"https://github.com/choldgraf\">choldgraf</a> | <a href=\"https://g…"
      ]
     },
     "metadata": {},
     "output_type": "display_data"
    }
   ],
   "source": [
    "n_plot = 5\n",
    "tabs = widgets.Tab(children=[])\n",
    "for ii, org in enumerate(github_orgs):\n",
    "    authors_comments = comments.query('org == @org')['author']\n",
    "    authors_prs = prs.query('org == @org')['author']\n",
    "    unique_participants = np.unique(np.hstack([authors_comments.values, authors_prs.values]).astype(str)).tolist()\n",
    "    unique_participants.sort(key=lambda a: a.lower())\n",
    "    \n",
    "    all_participants = [f\"[{participant}](https://github.com/{participant})\" for participant in unique_participants]\n",
    "    participants_md = \" | \".join(all_participants)\n",
    "    md_html = HTML(\"<center>{}</center>\".format(markdown(participants_md)))\n",
    "    \n",
    "    children = list(tabs.children)\n",
    "    children.append(md_html)\n",
    "    tabs.children = tuple(children)\n",
    "    tabs.set_title(ii, org)\n",
    "    \n",
    "display(Markdown(f\"All participants across issues and pull requests in each org in the last {n_days} days\"))\n",
    "display(tabs)"
   ]
  },
  {
   "cell_type": "markdown",
   "metadata": {
    "papermill": {
     "duration": 0.02114,
     "end_time": "2019-12-01T17:51:45.253902",
     "exception": false,
     "start_time": "2019-12-01T17:51:45.232762",
     "status": "completed"
    },
    "tags": [],
    "toc-hr-collapsed": false
   },
   "source": [
    "## Merged Pull requests\n",
    "\n",
    "Here's an analysis of **merged pull requests** across each of the repositories in the Jupyter\n",
    "ecosystem."
   ]
  },
  {
   "cell_type": "code",
   "execution_count": 13,
   "metadata": {
    "papermill": {
     "duration": 0.035225,
     "end_time": "2019-12-01T17:51:45.312577",
     "exception": false,
     "start_time": "2019-12-01T17:51:45.277352",
     "status": "completed"
    },
    "tags": []
   },
   "outputs": [],
   "source": [
    "merged = prs.query('state == \"MERGED\" and closedAt > @start_date and closedAt < @end_date')"
   ]
  },
  {
   "cell_type": "code",
   "execution_count": 14,
   "metadata": {
    "papermill": {
     "duration": 0.061372,
     "end_time": "2019-12-01T17:51:45.395342",
     "exception": false,
     "start_time": "2019-12-01T17:51:45.333970",
     "status": "completed"
    },
    "tags": [
     "hide_input"
    ]
   },
   "outputs": [
    {
     "data": {
      "text/html": [
       "\n",
       "  <style>\n",
       "    .error {\n",
       "        color: red;\n",
       "    }\n",
       "  </style>\n",
       "  <div id=\"altair-viz-1\"></div>\n",
       "  <script>\n",
       "    requirejs.config({\n",
       "        \"paths\": {\n",
       "            \"vega\": \"https://cdn.jsdelivr.net/npm//vega@5?noext\",\n",
       "            \"vega-lib\": \"https://cdn.jsdelivr.net/npm//vega-lib?noext\",\n",
       "            \"vega-lite\": \"https://cdn.jsdelivr.net/npm//vega-lite@3.4.0?noext\",\n",
       "            \"vega-embed\": \"https://cdn.jsdelivr.net/npm//vega-embed@5?noext\",\n",
       "        }\n",
       "    });\n",
       "    \n",
       "    require(['vega-embed'],function(vegaEmbed) {\n",
       "      var spec = {\"config\": {\"axisLeft\": {\"labelFontSize\": 15}, \"axisBottom\": {\"labelFontSize\": 15}}, \"data\": {\"name\": \"data-7890cf39e3a84d4489b2875c6cd8b808\"}, \"mark\": \"bar\", \"encoding\": {\"color\": {\"type\": \"nominal\", \"field\": \"org\"}, \"x\": {\"type\": \"nominal\", \"field\": \"repo\", \"sort\": [\"jupyterlab\", \"debugger\", \"jupyterlab_server\", \"pull-requests\", \"jupyterlab-data-explorer\", \"jupyterlab-git\", \"jupyter-renderers\", \"jupyterlab-commenting\", \"jupyterlab-hdf5\", \"jupyterlab-metadata-service\", \"binderhub\", \"jupyterhub\", \"zero-to-jupyterhub-k8s\", \"mybinder.org-deploy\", \"nbgitpuller\", \"binder\", \"firstuseauthenticator\", \"oauthenticator\", \"team-compass\", \"traefik-proxy\", \"ipywidgets\", \"widget-cookiecutter\", \"nbgrader\", \"jupyter-book\", \"jupyter\", \"qtconsole\", \"enterprise_gateway\", \"docker-stacks\", \"jupyter_server\", \"kernel_gateway\", \"nbconvert\", \"repo2docker\", \"notebook\", \"design\", \"jupyter.github.io\", \"jupyter_client\", \"nbdime\", \"nbviewer\", \"telemetry\", \"testpath\", \"ipykernel\", \"ipython\", \"traitlets\"]}, \"y\": {\"type\": \"quantitative\", \"field\": \"author\"}}, \"title\": \"Merged PRs in the last 31 days\", \"$schema\": \"https://vega.github.io/schema/vega-lite/v3.4.0.json\", \"datasets\": {\"data-7890cf39e3a84d4489b2875c6cd8b808\": [{\"org\": \"jupyterlab\", \"repo\": \"jupyterlab\", \"author\": 26}, {\"org\": \"jupyterlab\", \"repo\": \"debugger\", \"author\": 11}, {\"org\": \"jupyterlab\", \"repo\": \"jupyterlab_server\", \"author\": 6}, {\"org\": \"jupyterlab\", \"repo\": \"pull-requests\", \"author\": 5}, {\"org\": \"jupyterlab\", \"repo\": \"jupyterlab-data-explorer\", \"author\": 4}, {\"org\": \"jupyterlab\", \"repo\": \"jupyterlab-git\", \"author\": 3}, {\"org\": \"jupyterlab\", \"repo\": \"jupyter-renderers\", \"author\": 1}, {\"org\": \"jupyterlab\", \"repo\": \"jupyterlab-commenting\", \"author\": 1}, {\"org\": \"jupyterlab\", \"repo\": \"jupyterlab-hdf5\", \"author\": 1}, {\"org\": \"jupyterlab\", \"repo\": \"jupyterlab-metadata-service\", \"author\": 1}, {\"org\": \"jupyterhub\", \"repo\": \"binderhub\", \"author\": 12}, {\"org\": \"jupyterhub\", \"repo\": \"jupyterhub\", \"author\": 7}, {\"org\": \"jupyterhub\", \"repo\": \"zero-to-jupyterhub-k8s\", \"author\": 7}, {\"org\": \"jupyterhub\", \"repo\": \"mybinder.org-deploy\", \"author\": 6}, {\"org\": \"jupyterhub\", \"repo\": \"nbgitpuller\", \"author\": 2}, {\"org\": \"jupyterhub\", \"repo\": \"binder\", \"author\": 1}, {\"org\": \"jupyterhub\", \"repo\": \"firstuseauthenticator\", \"author\": 1}, {\"org\": \"jupyterhub\", \"repo\": \"oauthenticator\", \"author\": 1}, {\"org\": \"jupyterhub\", \"repo\": \"team-compass\", \"author\": 1}, {\"org\": \"jupyterhub\", \"repo\": \"traefik-proxy\", \"author\": 1}, {\"org\": \"jupyter-widgets\", \"repo\": \"ipywidgets\", \"author\": 2}, {\"org\": \"jupyter-widgets\", \"repo\": \"widget-cookiecutter\", \"author\": 1}, {\"org\": \"jupyter\", \"repo\": \"nbgrader\", \"author\": 15}, {\"org\": \"jupyter\", \"repo\": \"jupyter-book\", \"author\": 13}, {\"org\": \"jupyter\", \"repo\": \"jupyter\", \"author\": 9}, {\"org\": \"jupyter\", \"repo\": \"qtconsole\", \"author\": 7}, {\"org\": \"jupyter\", \"repo\": \"enterprise_gateway\", \"author\": 5}, {\"org\": \"jupyter\", \"repo\": \"docker-stacks\", \"author\": 4}, {\"org\": \"jupyter\", \"repo\": \"jupyter_server\", \"author\": 4}, {\"org\": \"jupyter\", \"repo\": \"kernel_gateway\", \"author\": 4}, {\"org\": \"jupyter\", \"repo\": \"nbconvert\", \"author\": 4}, {\"org\": \"jupyter\", \"repo\": \"repo2docker\", \"author\": 4}, {\"org\": \"jupyter\", \"repo\": \"notebook\", \"author\": 2}, {\"org\": \"jupyter\", \"repo\": \"design\", \"author\": 1}, {\"org\": \"jupyter\", \"repo\": \"jupyter.github.io\", \"author\": 1}, {\"org\": \"jupyter\", \"repo\": \"jupyter_client\", \"author\": 1}, {\"org\": \"jupyter\", \"repo\": \"nbdime\", \"author\": 1}, {\"org\": \"jupyter\", \"repo\": \"nbviewer\", \"author\": 1}, {\"org\": \"jupyter\", \"repo\": \"telemetry\", \"author\": 1}, {\"org\": \"jupyter\", \"repo\": \"testpath\", \"author\": 1}, {\"org\": \"ipython\", \"repo\": \"ipykernel\", \"author\": 4}, {\"org\": \"ipython\", \"repo\": \"ipython\", \"author\": 2}, {\"org\": \"ipython\", \"repo\": \"traitlets\", \"author\": 2}]}};\n",
       "      var embedOpt = {\"mode\": \"vega-lite\"};\n",
       "\n",
       "      function showError(el, error){\n",
       "          el.innerHTML = ('<div class=\"error\" style=\"color:red;\">'\n",
       "                          + '<p>JavaScript Error: ' + error.message + '</p>'\n",
       "                          + \"<p>This usually means there's a typo in your chart specification. \"\n",
       "                          + \"See the javascript console for the full traceback.</p>\"\n",
       "                          + '</div>');\n",
       "          throw error;\n",
       "      }\n",
       "      const el = document.getElementById('altair-viz-1');\n",
       "      vegaEmbed(\"#altair-viz-1\", spec, embedOpt)\n",
       "        .catch(error => showError(el, error));\n",
       "    });\n",
       "\n",
       "  </script>"
      ],
      "text/plain": [
       "alt.Chart(...)"
      ]
     },
     "execution_count": 14,
     "metadata": {},
     "output_type": "execute_result"
    }
   ],
   "source": [
    "prs_by_repo = merged.groupby(['org', 'repo']).count()['author'].reset_index().sort_values(['org', 'author'], ascending=False)\n",
    "alt.Chart(data=prs_by_repo, title=f\"Merged PRs in the last {n_days} days\").mark_bar().encode(\n",
    "    x=alt.X('repo', sort=prs_by_repo['repo'].values.tolist()),\n",
    "    y='author',\n",
    "    color='org'\n",
    ")"
   ]
  },
  {
   "cell_type": "markdown",
   "metadata": {
    "papermill": {
     "duration": 0.022168,
     "end_time": "2019-12-01T17:51:45.438391",
     "exception": false,
     "start_time": "2019-12-01T17:51:45.416223",
     "status": "completed"
    },
    "tags": []
   },
   "source": [
    "### A list of merged PRs by project\n",
    "\n",
    "Below is a tabbed readout of recently-merged PRs. Check out the title to get an idea for what they\n",
    "implemented, and be sure to thank the PR author for their hard work!"
   ]
  },
  {
   "cell_type": "code",
   "execution_count": 15,
   "metadata": {
    "papermill": {
     "duration": 0.220434,
     "end_time": "2019-12-01T17:51:45.685292",
     "exception": false,
     "start_time": "2019-12-01T17:51:45.464858",
     "status": "completed"
    },
    "tags": [
     "hide_input"
    ]
   },
   "outputs": [
    {
     "data": {
      "application/vnd.jupyter.widget-view+json": {
       "model_id": "ca1fb2a5f2fb4871b7a4478bef5a4a43",
       "version_major": 2,
       "version_minor": 0
      },
      "text/plain": [
       "Tab(children=(HTML(value='<h4>Closed PRs for org: <code>ipython</code></h4>\\n<h5><a href=\"https://github.com/i…"
      ]
     },
     "metadata": {},
     "output_type": "display_data"
    }
   ],
   "source": [
    "tabs = widgets.Tab(children=[])\n",
    "merged_by = {}\n",
    "pr_by = {}\n",
    "for ii, (org, idata) in enumerate(merged.groupby('org')):\n",
    "    issue_md = []\n",
    "    issue_md.append(f\"#### Closed PRs for org: `{org}`\")\n",
    "    issue_md.append(\"\")\n",
    "    for (org, repo), prs in idata.groupby(['org', 'repo']):\n",
    "        issue_md.append(f\"##### [{org}/{repo}](https://github.com/{org}/{repo})\")\n",
    "        for _, pr in prs.iterrows():\n",
    "            user_name = pr['author']\n",
    "            user_url = author_url(user_name)\n",
    "            pr_number = pr['number']\n",
    "            pr_html = pr['url']\n",
    "            pr_title = pr['title']\n",
    "            pr_closedby = pr['mergedBy']\n",
    "            pr_closedby_url = f\"https://github.com/{pr_closedby}\"\n",
    "            if user_name not in pr_by:\n",
    "                pr_by[user_name] = 1\n",
    "            else:\n",
    "                pr_by[user_name] += 1\n",
    "                \n",
    "            if pr_closedby not in merged_by:\n",
    "                merged_by[pr_closedby] = 1\n",
    "            else:\n",
    "                merged_by[pr_closedby] += 1\n",
    "            text = f\"* [(#{pr_number})]({pr_html}): _{pr_title}_ by **[@{user_name}]({user_url})** merged by **[@{pr_closedby}]({pr_closedby_url})**\"\n",
    "            issue_md.append(text)\n",
    "    issue_md.append('')\n",
    "    markdown_html = markdown('\\n'.join(issue_md))\n",
    "    \n",
    "    children = list(tabs.children)\n",
    "    children.append(HTML(markdown_html))\n",
    "    tabs.children = tuple(children)\n",
    "    tabs.set_title(ii, org)\n",
    "tabs"
   ]
  },
  {
   "cell_type": "markdown",
   "metadata": {
    "papermill": {
     "duration": 0.026436,
     "end_time": "2019-12-01T17:51:45.729239",
     "exception": false,
     "start_time": "2019-12-01T17:51:45.702803",
     "status": "completed"
    },
    "tags": []
   },
   "source": [
    "### Authoring and merging stats by repository\n",
    "\n",
    "Let's see who has been doing most of the PR authoring and merging. The PR author is generally the\n",
    "person that implemented a change in the repository (code, documentation, etc). The PR merger is\n",
    "the person that \"pressed the green button\" and got the change into the main codebase."
   ]
  },
  {
   "cell_type": "code",
   "execution_count": 16,
   "metadata": {
    "papermill": {
     "duration": 0.046703,
     "end_time": "2019-12-01T17:51:45.798678",
     "exception": false,
     "start_time": "2019-12-01T17:51:45.751975",
     "status": "completed"
    },
    "tags": []
   },
   "outputs": [],
   "source": [
    "# Prep our merging DF\n",
    "merged_by_repo = merged.groupby(['org', 'repo', 'author'], as_index=False).agg({'id': 'count', 'authorAssociation': 'first'}).rename(columns={'id': \"authored\", 'author': 'username'})\n",
    "closed_by_repo = merged.groupby(['org', 'repo', 'mergedBy']).count()['id'].reset_index().rename(columns={'id': \"closed\", \"mergedBy\": \"username\"})"
   ]
  },
  {
   "cell_type": "code",
   "execution_count": 17,
   "metadata": {
    "papermill": {
     "duration": 0.106166,
     "end_time": "2019-12-01T17:51:45.923731",
     "exception": false,
     "start_time": "2019-12-01T17:51:45.817565",
     "status": "completed"
    },
    "tags": []
   },
   "outputs": [
    {
     "data": {
      "text/html": [
       "\n",
       "  <style>\n",
       "    .error {\n",
       "        color: red;\n",
       "    }\n",
       "  </style>\n",
       "  <div id=\"altair-viz-2\"></div>\n",
       "  <script>\n",
       "    requirejs.config({\n",
       "        \"paths\": {\n",
       "            \"vega\": \"https://cdn.jsdelivr.net/npm//vega@5?noext\",\n",
       "            \"vega-lib\": \"https://cdn.jsdelivr.net/npm//vega-lib?noext\",\n",
       "            \"vega-lite\": \"https://cdn.jsdelivr.net/npm//vega-lite@3.4.0?noext\",\n",
       "            \"vega-embed\": \"https://cdn.jsdelivr.net/npm//vega-embed@5?noext\",\n",
       "        }\n",
       "    });\n",
       "    \n",
       "    require(['vega-embed'],function(vegaEmbed) {\n",
       "      var spec = {\"config\": {\"axisLeft\": {\"labelFontSize\": 15}, \"axisBottom\": {\"labelFontSize\": 15}}, \"hconcat\": [{\"data\": {\"name\": \"data-498f90d55bcb98d1044aacb08ba23ed4\"}, \"mark\": \"bar\", \"encoding\": {\"color\": {\"type\": \"nominal\", \"field\": \"authorAssociation\", \"scale\": {\"domain\": [\"MEMBER\", \"CONTRIBUTOR\", \"COLLABORATOR\", \"NONE\"], \"range\": [\"rgb(211.82745098039214, 211.82745098039214, 211.82745098039214, 256.0)\", \"rgb(166.98562091503268, 229.89803921568628, 166.98562091503268, 256.0)\", \"rgb(96.37647058823529, 192.75294117647059, 96.37647058823529, 256.0)\", \"rgb(0.0, 100.3921568627451, 0.0, 256.0)\"]}}, \"x\": {\"type\": \"nominal\", \"field\": \"username\"}, \"y\": {\"type\": \"quantitative\", \"field\": \"authored\"}}, \"title\": \"PR authors for ipython in the last 31 days\", \"width\": 1000}, {\"data\": {\"name\": \"data-ced238f7c151c0e3ed7d5bfffa036b43\"}, \"mark\": \"bar\", \"encoding\": {\"color\": {\"type\": \"nominal\", \"field\": \"authorAssociation\", \"scale\": {\"domain\": [\"MEMBER\", \"CONTRIBUTOR\", \"COLLABORATOR\", \"NONE\"], \"range\": [\"rgb(211.82745098039214, 211.82745098039214, 211.82745098039214, 256.0)\", \"rgb(166.98562091503268, 229.89803921568628, 166.98562091503268, 256.0)\", \"rgb(96.37647058823529, 192.75294117647059, 96.37647058823529, 256.0)\", \"rgb(0.0, 100.3921568627451, 0.0, 256.0)\"]}}, \"x\": {\"type\": \"nominal\", \"field\": \"username\"}, \"y\": {\"type\": \"quantitative\", \"field\": \"authored\"}}, \"title\": \"PR authors for jupyter in the last 31 days\", \"width\": 1000}, {\"data\": {\"name\": \"data-6e018ab239b7bd942e83faf9a56d535a\"}, \"mark\": \"bar\", \"encoding\": {\"color\": {\"type\": \"nominal\", \"field\": \"authorAssociation\", \"scale\": {\"domain\": [\"MEMBER\", \"CONTRIBUTOR\", \"COLLABORATOR\", \"NONE\"], \"range\": [\"rgb(211.82745098039214, 211.82745098039214, 211.82745098039214, 256.0)\", \"rgb(166.98562091503268, 229.89803921568628, 166.98562091503268, 256.0)\", \"rgb(96.37647058823529, 192.75294117647059, 96.37647058823529, 256.0)\", \"rgb(0.0, 100.3921568627451, 0.0, 256.0)\"]}}, \"x\": {\"type\": \"nominal\", \"field\": \"username\"}, \"y\": {\"type\": \"quantitative\", \"field\": \"authored\"}}, \"title\": \"PR authors for jupyter-widgets in the last 31 days\", \"width\": 1000}, {\"data\": {\"name\": \"data-8f1e1240372254325581d757a2da15bf\"}, \"mark\": \"bar\", \"encoding\": {\"color\": {\"type\": \"nominal\", \"field\": \"authorAssociation\", \"scale\": {\"domain\": [\"MEMBER\", \"CONTRIBUTOR\", \"COLLABORATOR\", \"NONE\"], \"range\": [\"rgb(211.82745098039214, 211.82745098039214, 211.82745098039214, 256.0)\", \"rgb(166.98562091503268, 229.89803921568628, 166.98562091503268, 256.0)\", \"rgb(96.37647058823529, 192.75294117647059, 96.37647058823529, 256.0)\", \"rgb(0.0, 100.3921568627451, 0.0, 256.0)\"]}}, \"x\": {\"type\": \"nominal\", \"field\": \"username\"}, \"y\": {\"type\": \"quantitative\", \"field\": \"authored\"}}, \"title\": \"PR authors for jupyterhub in the last 31 days\", \"width\": 1000}, {\"data\": {\"name\": \"data-9e23d465c636e14ea75507bcbef91231\"}, \"mark\": \"bar\", \"encoding\": {\"color\": {\"type\": \"nominal\", \"field\": \"authorAssociation\", \"scale\": {\"domain\": [\"MEMBER\", \"CONTRIBUTOR\", \"COLLABORATOR\", \"NONE\"], \"range\": [\"rgb(211.82745098039214, 211.82745098039214, 211.82745098039214, 256.0)\", \"rgb(166.98562091503268, 229.89803921568628, 166.98562091503268, 256.0)\", \"rgb(96.37647058823529, 192.75294117647059, 96.37647058823529, 256.0)\", \"rgb(0.0, 100.3921568627451, 0.0, 256.0)\"]}}, \"x\": {\"type\": \"nominal\", \"field\": \"username\"}, \"y\": {\"type\": \"quantitative\", \"field\": \"authored\"}}, \"title\": \"PR authors for jupyterlab in the last 31 days\", \"width\": 1000}], \"$schema\": \"https://vega.github.io/schema/vega-lite/v3.4.0.json\", \"datasets\": {\"data-498f90d55bcb98d1044aacb08ba23ed4\": [{\"username\": \"danielballan\", \"authored\": 2, \"authorAssociation\": \"CONTRIBUTOR\"}, {\"username\": \"SylvainCorlay\", \"authored\": 1, \"authorAssociation\": \"MEMBER\"}, {\"username\": \"edisongustavo\", \"authored\": 1, \"authorAssociation\": \"CONTRIBUTOR\"}, {\"username\": \"krinsman\", \"authored\": 1, \"authorAssociation\": \"CONTRIBUTOR\"}, {\"username\": \"minrk\", \"authored\": 1, \"authorAssociation\": \"MEMBER\"}, {\"username\": \"terrdavis\", \"authored\": 1, \"authorAssociation\": \"CONTRIBUTOR\"}, {\"username\": \"willingc\", \"authored\": 1, \"authorAssociation\": \"MEMBER\"}], \"data-ced238f7c151c0e3ed7d5bfffa036b43\": [{\"username\": \"choldgraf\", \"authored\": 12, \"authorAssociation\": \"MEMBER\"}, {\"username\": \"jhamrick\", \"authored\": 11, \"authorAssociation\": \"MEMBER\"}, {\"username\": \"impact27\", \"authored\": 6, \"authorAssociation\": \"CONTRIBUTOR\"}, {\"username\": \"kevin-bates\", \"authored\": 5, \"authorAssociation\": \"MEMBER\"}, {\"username\": \"rkdarst\", \"authored\": 5, \"authorAssociation\": \"CONTRIBUTOR\"}, {\"username\": \"parente\", \"authored\": 4, \"authorAssociation\": \"MEMBER\"}, {\"username\": \"lresende\", \"authored\": 4, \"authorAssociation\": \"MEMBER\"}, {\"username\": \"Zsailer\", \"authored\": 2, \"authorAssociation\": \"MEMBER\"}, {\"username\": \"transifex-integration\", \"authored\": 2, \"authorAssociation\": \"CONTRIBUTOR\"}, {\"username\": \"minrk\", \"authored\": 2, \"authorAssociation\": \"MEMBER\"}, {\"username\": \"gjenkins8\", \"authored\": 2, \"authorAssociation\": \"CONTRIBUTOR\"}, {\"username\": \"martinagvilas\", \"authored\": 2, \"authorAssociation\": \"CONTRIBUTOR\"}, {\"username\": \"t-makaro\", \"authored\": 1, \"authorAssociation\": \"COLLABORATOR\"}, {\"username\": \"royopa\", \"authored\": 1, \"authorAssociation\": \"CONTRIBUTOR\"}, {\"username\": \"takluyver\", \"authored\": 1, \"authorAssociation\": \"MEMBER\"}, {\"username\": \"nareshsankapelly\", \"authored\": 1, \"authorAssociation\": \"CONTRIBUTOR\"}, {\"username\": \"tv-watts-tatari\", \"authored\": 1, \"authorAssociation\": \"CONTRIBUTOR\"}, {\"username\": \"voyageth\", \"authored\": 1, \"authorAssociation\": \"CONTRIBUTOR\"}, {\"username\": \"AartGoossens\", \"authored\": 1, \"authorAssociation\": \"CONTRIBUTOR\"}, {\"username\": \"jeffyjefflabs\", \"authored\": 1, \"authorAssociation\": \"CONTRIBUTOR\"}, {\"username\": \"juliusvonkohout\", \"authored\": 1, \"authorAssociation\": \"CONTRIBUTOR\"}, {\"username\": \"Geektrovert\", \"authored\": 1, \"authorAssociation\": \"CONTRIBUTOR\"}, {\"username\": \"dniku\", \"authored\": 1, \"authorAssociation\": \"CONTRIBUTOR\"}, {\"username\": \"dm-wyncode\", \"authored\": 1, \"authorAssociation\": \"CONTRIBUTOR\"}, {\"username\": \"davidrobles\", \"authored\": 1, \"authorAssociation\": \"CONTRIBUTOR\"}, {\"username\": \"consideRatio\", \"authored\": 1, \"authorAssociation\": \"CONTRIBUTOR\"}, {\"username\": \"ccordoba12\", \"authored\": 1, \"authorAssociation\": \"COLLABORATOR\"}, {\"username\": \"betatim\", \"authored\": 1, \"authorAssociation\": \"MEMBER\"}, {\"username\": \"arnavs\", \"authored\": 1, \"authorAssociation\": \"CONTRIBUTOR\"}, {\"username\": \"Sefriol\", \"authored\": 1, \"authorAssociation\": \"CONTRIBUTOR\"}, {\"username\": \"MSeal\", \"authored\": 1, \"authorAssociation\": \"MEMBER\"}, {\"username\": \"GeorgianaElena\", \"authored\": 1, \"authorAssociation\": \"CONTRIBUTOR\"}, {\"username\": \"williamstein\", \"authored\": 1, \"authorAssociation\": \"CONTRIBUTOR\"}], \"data-6e018ab239b7bd942e83faf9a56d535a\": [{\"username\": \"AaronWatters\", \"authored\": 1, \"authorAssociation\": \"CONTRIBUTOR\"}, {\"username\": \"jasongrout\", \"authored\": 1, \"authorAssociation\": \"MEMBER\"}, {\"username\": \"mattpap\", \"authored\": 1, \"authorAssociation\": \"CONTRIBUTOR\"}], \"data-8f1e1240372254325581d757a2da15bf\": [{\"username\": \"betatim\", \"authored\": 10, \"authorAssociation\": \"MEMBER\"}, {\"username\": \"choldgraf\", \"authored\": 5, \"authorAssociation\": \"MEMBER\"}, {\"username\": \"yuvipanda\", \"authored\": 3, \"authorAssociation\": \"MEMBER\"}, {\"username\": \"consideRatio\", \"authored\": 3, \"authorAssociation\": \"MEMBER\"}, {\"username\": \"GeorgianaElena\", \"authored\": 3, \"authorAssociation\": \"MEMBER\"}, {\"username\": \"tlkh\", \"authored\": 2, \"authorAssociation\": \"CONTRIBUTOR\"}, {\"username\": \"katsar0v\", \"authored\": 1, \"authorAssociation\": \"CONTRIBUTOR\"}, {\"username\": \"rlukin\", \"authored\": 1, \"authorAssociation\": \"CONTRIBUTOR\"}, {\"username\": \"rcthomas\", \"authored\": 1, \"authorAssociation\": \"CONTRIBUTOR\"}, {\"username\": \"mattjshannon\", \"authored\": 1, \"authorAssociation\": \"CONTRIBUTOR\"}, {\"username\": \"loganlinn\", \"authored\": 1, \"authorAssociation\": \"CONTRIBUTOR\"}, {\"username\": \"ABVitali\", \"authored\": 1, \"authorAssociation\": \"NONE\"}, {\"username\": \"jeff-sternberg\", \"authored\": 1, \"authorAssociation\": \"CONTRIBUTOR\"}, {\"username\": \"hugokerstens\", \"authored\": 1, \"authorAssociation\": \"CONTRIBUTOR\"}, {\"username\": \"enolfc\", \"authored\": 1, \"authorAssociation\": \"CONTRIBUTOR\"}, {\"username\": \"chicocvenancio\", \"authored\": 1, \"authorAssociation\": \"CONTRIBUTOR\"}, {\"username\": \"bitnik\", \"authored\": 1, \"authorAssociation\": \"CONTRIBUTOR\"}, {\"username\": \"Zsailer\", \"authored\": 1, \"authorAssociation\": \"MEMBER\"}, {\"username\": \"gliptak\", \"authored\": 1, \"authorAssociation\": \"CONTRIBUTOR\"}], \"data-9e23d465c636e14ea75507bcbef91231\": [{\"username\": \"jasongrout\", \"authored\": 10, \"authorAssociation\": \"MEMBER\"}, {\"username\": \"jtpio\", \"authored\": 8, \"authorAssociation\": \"MEMBER\"}, {\"username\": \"saulshanabrook\", \"authored\": 7, \"authorAssociation\": \"MEMBER\"}, {\"username\": \"vidartf\", \"authored\": 6, \"authorAssociation\": \"MEMBER\"}, {\"username\": \"timnlupo\", \"authored\": 4, \"authorAssociation\": \"CONTRIBUTOR\"}, {\"username\": \"blink1073\", \"authored\": 3, \"authorAssociation\": \"MEMBER\"}, {\"username\": \"afshin\", \"authored\": 3, \"authorAssociation\": \"MEMBER\"}, {\"username\": \"rvalieris\", \"authored\": 2, \"authorAssociation\": \"CONTRIBUTOR\"}, {\"username\": \"KsavinN\", \"authored\": 2, \"authorAssociation\": \"COLLABORATOR\"}, {\"username\": \"jaipreet-s\", \"authored\": 2, \"authorAssociation\": \"MEMBER\"}, {\"username\": \"fcollonval\", \"authored\": 2, \"authorAssociation\": \"MEMBER\"}, {\"username\": \"krassowski\", \"authored\": 2, \"authorAssociation\": \"MEMBER\"}, {\"username\": \"joelostblom\", \"authored\": 1, \"authorAssociation\": \"MEMBER\"}, {\"username\": \"nicorikken\", \"authored\": 1, \"authorAssociation\": \"CONTRIBUTOR\"}, {\"username\": \"ian-r-rose\", \"authored\": 1, \"authorAssociation\": \"MEMBER\"}, {\"username\": \"hoo761\", \"authored\": 1, \"authorAssociation\": \"COLLABORATOR\"}, {\"username\": \"scopatz\", \"authored\": 1, \"authorAssociation\": \"CONTRIBUTOR\"}, {\"username\": \"telamonian\", \"authored\": 1, \"authorAssociation\": \"MEMBER\"}, {\"username\": \"tgeorgeux\", \"authored\": 1, \"authorAssociation\": \"MEMBER\"}, {\"username\": \"toddrme2178\", \"authored\": 1, \"authorAssociation\": \"CONTRIBUTOR\"}]}};\n",
       "      var embedOpt = {\"mode\": \"vega-lite\"};\n",
       "\n",
       "      function showError(el, error){\n",
       "          el.innerHTML = ('<div class=\"error\" style=\"color:red;\">'\n",
       "                          + '<p>JavaScript Error: ' + error.message + '</p>'\n",
       "                          + \"<p>This usually means there's a typo in your chart specification. \"\n",
       "                          + \"See the javascript console for the full traceback.</p>\"\n",
       "                          + '</div>');\n",
       "          throw error;\n",
       "      }\n",
       "      const el = document.getElementById('altair-viz-2');\n",
       "      vegaEmbed(\"#altair-viz-2\", spec, embedOpt)\n",
       "        .catch(error => showError(el, error));\n",
       "    });\n",
       "\n",
       "  </script>"
      ],
      "text/plain": [
       "alt.HConcatChart(...)"
      ]
     },
     "execution_count": 17,
     "metadata": {},
     "output_type": "execute_result"
    }
   ],
   "source": [
    "n_plot = 50\n",
    "charts = []\n",
    "for ii, (iorg, idata) in enumerate(merged_by_repo.replace(np.nan, 0).groupby(['org'])):\n",
    "    title = f\"PR authors for {iorg} in the last {n_days} days\"\n",
    "    idata = idata.groupby('username', as_index=False).agg({'authored': 'sum', 'authorAssociation': 'first'})\n",
    "    idata = idata.sort_values('authored', ascending=False).head(n_plot)\n",
    "    ch = alt.Chart(data=idata, width=1000, title=title).mark_bar().encode(\n",
    "        x='username',\n",
    "        y='authored',\n",
    "        color=alt.Color('authorAssociation', scale=alt.Scale(domain=author_types, range=author_colors))\n",
    "    )\n",
    "    charts.append(ch)\n",
    "\n",
    "alt.hconcat(*charts)"
   ]
  },
  {
   "cell_type": "code",
   "execution_count": 18,
   "metadata": {
    "papermill": {
     "duration": 0.08105,
     "end_time": "2019-12-01T17:51:46.020944",
     "exception": false,
     "start_time": "2019-12-01T17:51:45.939894",
     "status": "completed"
    },
    "tags": []
   },
   "outputs": [
    {
     "data": {
      "text/html": [
       "\n",
       "  <style>\n",
       "    .error {\n",
       "        color: red;\n",
       "    }\n",
       "  </style>\n",
       "  <div id=\"altair-viz-3\"></div>\n",
       "  <script>\n",
       "    requirejs.config({\n",
       "        \"paths\": {\n",
       "            \"vega\": \"https://cdn.jsdelivr.net/npm//vega@5?noext\",\n",
       "            \"vega-lib\": \"https://cdn.jsdelivr.net/npm//vega-lib?noext\",\n",
       "            \"vega-lite\": \"https://cdn.jsdelivr.net/npm//vega-lite@3.4.0?noext\",\n",
       "            \"vega-embed\": \"https://cdn.jsdelivr.net/npm//vega-embed@5?noext\",\n",
       "        }\n",
       "    });\n",
       "    \n",
       "    require(['vega-embed'],function(vegaEmbed) {\n",
       "      var spec = {\"config\": {\"axisLeft\": {\"labelFontSize\": 15}, \"axisBottom\": {\"labelFontSize\": 15}}, \"hconcat\": [{\"data\": {\"name\": \"data-ec3997aa6501aff922fc2ba1ff58c4e1\"}, \"mark\": \"bar\", \"encoding\": {\"x\": {\"type\": \"nominal\", \"field\": \"username\"}, \"y\": {\"type\": \"quantitative\", \"field\": \"closed\"}}, \"title\": \"Merges for ipython in the last 31 days\", \"width\": 1000}, {\"data\": {\"name\": \"data-41e2c50252bb5b705e52edbef103b274\"}, \"mark\": \"bar\", \"encoding\": {\"x\": {\"type\": \"nominal\", \"field\": \"username\"}, \"y\": {\"type\": \"quantitative\", \"field\": \"closed\"}}, \"title\": \"Merges for jupyter in the last 31 days\", \"width\": 1000}, {\"data\": {\"name\": \"data-53607253065ccc8a317409c80f70ad7a\"}, \"mark\": \"bar\", \"encoding\": {\"x\": {\"type\": \"nominal\", \"field\": \"username\"}, \"y\": {\"type\": \"quantitative\", \"field\": \"closed\"}}, \"title\": \"Merges for jupyter-widgets in the last 31 days\", \"width\": 1000}, {\"data\": {\"name\": \"data-ebbb1b350db3b32f7f9ae594ed0751b5\"}, \"mark\": \"bar\", \"encoding\": {\"x\": {\"type\": \"nominal\", \"field\": \"username\"}, \"y\": {\"type\": \"quantitative\", \"field\": \"closed\"}}, \"title\": \"Merges for jupyterhub in the last 31 days\", \"width\": 1000}, {\"data\": {\"name\": \"data-da60ee09daf2eb1371fe6d55a044096f\"}, \"mark\": \"bar\", \"encoding\": {\"x\": {\"type\": \"nominal\", \"field\": \"username\"}, \"y\": {\"type\": \"quantitative\", \"field\": \"closed\"}}, \"title\": \"Merges for jupyterlab in the last 31 days\", \"width\": 1000}], \"$schema\": \"https://vega.github.io/schema/vega-lite/v3.4.0.json\", \"datasets\": {\"data-ec3997aa6501aff922fc2ba1ff58c4e1\": [{\"org\": \"ipython\", \"repo\": \"ipykernel\", \"username\": \"SylvainCorlay\", \"closed\": 1}, {\"org\": \"ipython\", \"repo\": \"ipykernel\", \"username\": \"blink1073\", \"closed\": 3}, {\"org\": \"ipython\", \"repo\": \"ipython\", \"username\": \"Carreau\", \"closed\": 2}, {\"org\": \"ipython\", \"repo\": \"traitlets\", \"username\": \"rmorshea\", \"closed\": 2}], \"data-41e2c50252bb5b705e52edbef103b274\": [{\"org\": \"jupyter\", \"repo\": \"design\", \"username\": \"choldgraf\", \"closed\": 1}, {\"org\": \"jupyter\", \"repo\": \"docker-stacks\", \"username\": \"parente\", \"closed\": 4}, {\"org\": \"jupyter\", \"repo\": \"enterprise_gateway\", \"username\": \"kevin-bates\", \"closed\": 4}, {\"org\": \"jupyter\", \"repo\": \"enterprise_gateway\", \"username\": \"lresende\", \"closed\": 1}, {\"org\": \"jupyter\", \"repo\": \"jupyter\", \"username\": \"choldgraf\", \"closed\": 3}, {\"org\": \"jupyter\", \"repo\": \"jupyter\", \"username\": \"parente\", \"closed\": 6}, {\"org\": \"jupyter\", \"repo\": \"jupyter-book\", \"username\": \"choldgraf\", \"closed\": 13}, {\"org\": \"jupyter\", \"repo\": \"jupyter.github.io\", \"username\": \"choldgraf\", \"closed\": 1}, {\"org\": \"jupyter\", \"repo\": \"jupyter_client\", \"username\": \"MSeal\", \"closed\": 1}, {\"org\": \"jupyter\", \"repo\": \"jupyter_server\", \"username\": \"Zsailer\", \"closed\": 3}, {\"org\": \"jupyter\", \"repo\": \"jupyter_server\", \"username\": \"blink1073\", \"closed\": 1}, {\"org\": \"jupyter\", \"repo\": \"kernel_gateway\", \"username\": \"lresende\", \"closed\": 4}, {\"org\": \"jupyter\", \"repo\": \"nbconvert\", \"username\": \"MSeal\", \"closed\": 3}, {\"org\": \"jupyter\", \"repo\": \"nbconvert\", \"username\": \"t-makaro\", \"closed\": 1}, {\"org\": \"jupyter\", \"repo\": \"nbdime\", \"username\": \"vidartf\", \"closed\": 1}, {\"org\": \"jupyter\", \"repo\": \"nbgrader\", \"username\": \"jhamrick\", \"closed\": 15}, {\"org\": \"jupyter\", \"repo\": \"nbviewer\", \"username\": \"parente\", \"closed\": 1}, {\"org\": \"jupyter\", \"repo\": \"notebook\", \"username\": \"lresende\", \"closed\": 2}, {\"org\": \"jupyter\", \"repo\": \"qtconsole\", \"username\": \"ccordoba12\", \"closed\": 7}, {\"org\": \"jupyter\", \"repo\": \"repo2docker\", \"username\": \"betatim\", \"closed\": 4}, {\"org\": \"jupyter\", \"repo\": \"telemetry\", \"username\": \"jaipreet-s\", \"closed\": 1}, {\"org\": \"jupyter\", \"repo\": \"testpath\", \"username\": \"blink1073\", \"closed\": 1}], \"data-53607253065ccc8a317409c80f70ad7a\": [{\"org\": \"jupyter-widgets\", \"repo\": \"ipywidgets\", \"username\": \"jasongrout\", \"closed\": 1}, {\"org\": \"jupyter-widgets\", \"repo\": \"ipywidgets\", \"username\": \"maartenbreddels\", \"closed\": 1}, {\"org\": \"jupyter-widgets\", \"repo\": \"widget-cookiecutter\", \"username\": \"jasongrout\", \"closed\": 1}], \"data-ebbb1b350db3b32f7f9ae594ed0751b5\": [{\"org\": \"jupyterhub\", \"repo\": \"binder\", \"username\": \"betatim\", \"closed\": 1}, {\"org\": \"jupyterhub\", \"repo\": \"binderhub\", \"username\": \"betatim\", \"closed\": 10}, {\"org\": \"jupyterhub\", \"repo\": \"binderhub\", \"username\": \"choldgraf\", \"closed\": 2}, {\"org\": \"jupyterhub\", \"repo\": \"firstuseauthenticator\", \"username\": \"GeorgianaElena\", \"closed\": 1}, {\"org\": \"jupyterhub\", \"repo\": \"jupyterhub\", \"username\": \"GeorgianaElena\", \"closed\": 2}, {\"org\": \"jupyterhub\", \"repo\": \"jupyterhub\", \"username\": \"betatim\", \"closed\": 4}, {\"org\": \"jupyterhub\", \"repo\": \"jupyterhub\", \"username\": \"minrk\", \"closed\": 1}, {\"org\": \"jupyterhub\", \"repo\": \"mybinder.org-deploy\", \"username\": \"betatim\", \"closed\": 6}, {\"org\": \"jupyterhub\", \"repo\": \"nbgitpuller\", \"username\": \"yuvipanda\", \"closed\": 2}, {\"org\": \"jupyterhub\", \"repo\": \"oauthenticator\", \"username\": \"minrk\", \"closed\": 1}, {\"org\": \"jupyterhub\", \"repo\": \"team-compass\", \"username\": \"choldgraf\", \"closed\": 1}, {\"org\": \"jupyterhub\", \"repo\": \"traefik-proxy\", \"username\": \"GeorgianaElena\", \"closed\": 1}, {\"org\": \"jupyterhub\", \"repo\": \"zero-to-jupyterhub-k8s\", \"username\": \"betatim\", \"closed\": 4}, {\"org\": \"jupyterhub\", \"repo\": \"zero-to-jupyterhub-k8s\", \"username\": \"consideRatio\", \"closed\": 3}], \"data-da60ee09daf2eb1371fe6d55a044096f\": [{\"org\": \"jupyterlab\", \"repo\": \"debugger\", \"username\": \"KsavinN\", \"closed\": 1}, {\"org\": \"jupyterlab\", \"repo\": \"debugger\", \"username\": \"afshin\", \"closed\": 9}, {\"org\": \"jupyterlab\", \"repo\": \"debugger\", \"username\": \"blink1073\", \"closed\": 1}, {\"org\": \"jupyterlab\", \"repo\": \"jupyter-renderers\", \"username\": \"gnestor\", \"closed\": 1}, {\"org\": \"jupyterlab\", \"repo\": \"jupyterlab\", \"username\": \"blink1073\", \"closed\": 18}, {\"org\": \"jupyterlab\", \"repo\": \"jupyterlab\", \"username\": \"ian-r-rose\", \"closed\": 1}, {\"org\": \"jupyterlab\", \"repo\": \"jupyterlab\", \"username\": \"jasongrout\", \"closed\": 7}, {\"org\": \"jupyterlab\", \"repo\": \"jupyterlab-commenting\", \"username\": \"hoo761\", \"closed\": 1}, {\"org\": \"jupyterlab\", \"repo\": \"jupyterlab-data-explorer\", \"username\": \"saulshanabrook\", \"closed\": 4}, {\"org\": \"jupyterlab\", \"repo\": \"jupyterlab-git\", \"username\": \"jaipreet-s\", \"closed\": 3}, {\"org\": \"jupyterlab\", \"repo\": \"jupyterlab-hdf5\", \"username\": \"telamonian\", \"closed\": 1}, {\"org\": \"jupyterlab\", \"repo\": \"jupyterlab-metadata-service\", \"username\": \"saulshanabrook\", \"closed\": 1}, {\"org\": \"jupyterlab\", \"repo\": \"jupyterlab_server\", \"username\": \"blink1073\", \"closed\": 6}, {\"org\": \"jupyterlab\", \"repo\": \"pull-requests\", \"username\": \"jaipreet-s\", \"closed\": 5}]}};\n",
       "      var embedOpt = {\"mode\": \"vega-lite\"};\n",
       "\n",
       "      function showError(el, error){\n",
       "          el.innerHTML = ('<div class=\"error\" style=\"color:red;\">'\n",
       "                          + '<p>JavaScript Error: ' + error.message + '</p>'\n",
       "                          + \"<p>This usually means there's a typo in your chart specification. \"\n",
       "                          + \"See the javascript console for the full traceback.</p>\"\n",
       "                          + '</div>');\n",
       "          throw error;\n",
       "      }\n",
       "      const el = document.getElementById('altair-viz-3');\n",
       "      vegaEmbed(\"#altair-viz-3\", spec, embedOpt)\n",
       "        .catch(error => showError(el, error));\n",
       "    });\n",
       "\n",
       "  </script>"
      ],
      "text/plain": [
       "alt.HConcatChart(...)"
      ]
     },
     "execution_count": 18,
     "metadata": {},
     "output_type": "execute_result"
    }
   ],
   "source": [
    "charts = []\n",
    "for ii, (iorg, idata) in enumerate(closed_by_repo.replace(np.nan, 0).groupby(['org'])):\n",
    "    title = f\"Merges for {iorg} in the last {n_days} days\"\n",
    "    ch = alt.Chart(data=idata, width=1000, title=title).mark_bar().encode(\n",
    "        x='username',\n",
    "        y='closed',\n",
    "    )\n",
    "    charts.append(ch)\n",
    "alt.hconcat(*charts)"
   ]
  },
  {
   "cell_type": "markdown",
   "metadata": {
    "papermill": {
     "duration": 0.022497,
     "end_time": "2019-12-01T17:51:46.060807",
     "exception": false,
     "start_time": "2019-12-01T17:51:46.038310",
     "status": "completed"
    },
    "tags": []
   },
   "source": [
    "## Issues\n",
    "\n",
    "Issues are **conversations** that happen on our GitHub repositories. Here's an\n",
    "analysis of issues across the Jupyter organizations."
   ]
  },
  {
   "cell_type": "code",
   "execution_count": 19,
   "metadata": {
    "papermill": {
     "duration": 0.040896,
     "end_time": "2019-12-01T17:51:46.126049",
     "exception": false,
     "start_time": "2019-12-01T17:51:46.085153",
     "status": "completed"
    },
    "tags": []
   },
   "outputs": [],
   "source": [
    "created = issues.query('state == \"OPEN\" and createdAt > @start_date and createdAt < @end_date')\n",
    "closed = issues.query('state == \"CLOSED\" and closedAt > @start_date and closedAt < @end_date')"
   ]
  },
  {
   "cell_type": "code",
   "execution_count": 20,
   "metadata": {
    "papermill": {
     "duration": 0.064207,
     "end_time": "2019-12-01T17:51:46.214870",
     "exception": false,
     "start_time": "2019-12-01T17:51:46.150663",
     "status": "completed"
    },
    "tags": [
     "hide_input"
    ]
   },
   "outputs": [
    {
     "data": {
      "text/html": [
       "\n",
       "  <style>\n",
       "    .error {\n",
       "        color: red;\n",
       "    }\n",
       "  </style>\n",
       "  <div id=\"altair-viz-4\"></div>\n",
       "  <script>\n",
       "    requirejs.config({\n",
       "        \"paths\": {\n",
       "            \"vega\": \"https://cdn.jsdelivr.net/npm//vega@5?noext\",\n",
       "            \"vega-lib\": \"https://cdn.jsdelivr.net/npm//vega-lib?noext\",\n",
       "            \"vega-lite\": \"https://cdn.jsdelivr.net/npm//vega-lite@3.4.0?noext\",\n",
       "            \"vega-embed\": \"https://cdn.jsdelivr.net/npm//vega-embed@5?noext\",\n",
       "        }\n",
       "    });\n",
       "    \n",
       "    require(['vega-embed'],function(vegaEmbed) {\n",
       "      var spec = {\"config\": {\"axisLeft\": {\"labelFontSize\": 15}, \"axisBottom\": {\"labelFontSize\": 15}}, \"data\": {\"name\": \"data-280f06c4124291dab7164c31076416f9\"}, \"mark\": \"bar\", \"encoding\": {\"color\": {\"type\": \"nominal\", \"field\": \"org\"}, \"x\": {\"type\": \"nominal\", \"field\": \"repo\", \"sort\": [\"jupyterlab\", \"jupyterlab-hdf5\", \"jupyterlab-data-explorer\", \"jupyterlab-git\", \"jupyterlab-toc\", \"pull-requests\", \"jupyterlab-celltags\", \"jupyterlab-github\", \"jupyterlab-latex\", \"zero-to-jupyterhub-k8s\", \"jupyterhub\", \"dockerspawner\", \"ldapauthenticator\", \"the-littlest-jupyterhub\", \"team-compass\", \"kubespawner\", \"oauthenticator\", \"batchspawner\", \"binderhub\", \"firstuseauthenticator\", \"jupyter-server-proxy\", \"jupyterhub-deploy-teaching\", \"mybinder.org-deploy\", \"nbgitpuller\", \"sudospawner\", \"traefik-proxy\", \"ipywidgets\", \"jupyterlab-sidecar\", \"ipyleaflet\", \"traittypes\", \"notebook\", \"docker-stacks\", \"jupyter-book\", \"nbconvert\", \"telemetry\", \"jupyter\", \"qtconsole\", \"repo2docker\", \"accessibility\", \"atom-notebook\", \"enterprise_gateway\", \"jupyter_client\", \"jupyter_core\", \"jupyter_server\", \"nbdime\", \"nbgrader\", \"ipython\", \"ipyparallel\"]}, \"y\": {\"type\": \"quantitative\", \"field\": \"number\"}}, \"title\": \"Issues created in the last 31 days\", \"$schema\": \"https://vega.github.io/schema/vega-lite/v3.4.0.json\", \"datasets\": {\"data-280f06c4124291dab7164c31076416f9\": [{\"org\": \"ipython\", \"repo\": \"ipyparallel\", \"number\": 1, \"org/repo\": \"ipython/ipyparallel\"}, {\"org\": \"ipython\", \"repo\": \"ipython\", \"number\": 10, \"org/repo\": \"ipython/ipython\"}, {\"org\": \"jupyter\", \"repo\": \"accessibility\", \"number\": 1, \"org/repo\": \"jupyter/accessibility\"}, {\"org\": \"jupyter\", \"repo\": \"atom-notebook\", \"number\": 1, \"org/repo\": \"jupyter/atom-notebook\"}, {\"org\": \"jupyter\", \"repo\": \"docker-stacks\", \"number\": 3, \"org/repo\": \"jupyter/docker-stacks\"}, {\"org\": \"jupyter\", \"repo\": \"enterprise_gateway\", \"number\": 1, \"org/repo\": \"jupyter/enterprise_gateway\"}, {\"org\": \"jupyter\", \"repo\": \"jupyter\", \"number\": 2, \"org/repo\": \"jupyter/jupyter\"}, {\"org\": \"jupyter\", \"repo\": \"jupyter-book\", \"number\": 3, \"org/repo\": \"jupyter/jupyter-book\"}, {\"org\": \"jupyter\", \"repo\": \"jupyter_client\", \"number\": 1, \"org/repo\": \"jupyter/jupyter_client\"}, {\"org\": \"jupyter\", \"repo\": \"jupyter_core\", \"number\": 1, \"org/repo\": \"jupyter/jupyter_core\"}, {\"org\": \"jupyter\", \"repo\": \"jupyter_server\", \"number\": 1, \"org/repo\": \"jupyter/jupyter_server\"}, {\"org\": \"jupyter\", \"repo\": \"nbconvert\", \"number\": 3, \"org/repo\": \"jupyter/nbconvert\"}, {\"org\": \"jupyter\", \"repo\": \"nbdime\", \"number\": 1, \"org/repo\": \"jupyter/nbdime\"}, {\"org\": \"jupyter\", \"repo\": \"nbgrader\", \"number\": 1, \"org/repo\": \"jupyter/nbgrader\"}, {\"org\": \"jupyter\", \"repo\": \"notebook\", \"number\": 40, \"org/repo\": \"jupyter/notebook\"}, {\"org\": \"jupyter\", \"repo\": \"qtconsole\", \"number\": 2, \"org/repo\": \"jupyter/qtconsole\"}, {\"org\": \"jupyter\", \"repo\": \"repo2docker\", \"number\": 2, \"org/repo\": \"jupyter/repo2docker\"}, {\"org\": \"jupyter\", \"repo\": \"telemetry\", \"number\": 3, \"org/repo\": \"jupyter/telemetry\"}, {\"org\": \"jupyter-widgets\", \"repo\": \"ipyleaflet\", \"number\": 1, \"org/repo\": \"jupyter-widgets/ipyleaflet\"}, {\"org\": \"jupyter-widgets\", \"repo\": \"ipywidgets\", \"number\": 6, \"org/repo\": \"jupyter-widgets/ipywidgets\"}, {\"org\": \"jupyter-widgets\", \"repo\": \"jupyterlab-sidecar\", \"number\": 3, \"org/repo\": \"jupyter-widgets/jupyterlab-sidecar\"}, {\"org\": \"jupyter-widgets\", \"repo\": \"traittypes\", \"number\": 1, \"org/repo\": \"jupyter-widgets/traittypes\"}, {\"org\": \"jupyterhub\", \"repo\": \"batchspawner\", \"number\": 1, \"org/repo\": \"jupyterhub/batchspawner\"}, {\"org\": \"jupyterhub\", \"repo\": \"binderhub\", \"number\": 1, \"org/repo\": \"jupyterhub/binderhub\"}, {\"org\": \"jupyterhub\", \"repo\": \"dockerspawner\", \"number\": 4, \"org/repo\": \"jupyterhub/dockerspawner\"}, {\"org\": \"jupyterhub\", \"repo\": \"firstuseauthenticator\", \"number\": 1, \"org/repo\": \"jupyterhub/firstuseauthenticator\"}, {\"org\": \"jupyterhub\", \"repo\": \"jupyter-server-proxy\", \"number\": 1, \"org/repo\": \"jupyterhub/jupyter-server-proxy\"}, {\"org\": \"jupyterhub\", \"repo\": \"jupyterhub\", \"number\": 9, \"org/repo\": \"jupyterhub/jupyterhub\"}, {\"org\": \"jupyterhub\", \"repo\": \"jupyterhub-deploy-teaching\", \"number\": 1, \"org/repo\": \"jupyterhub/jupyterhub-deploy-teaching\"}, {\"org\": \"jupyterhub\", \"repo\": \"kubespawner\", \"number\": 2, \"org/repo\": \"jupyterhub/kubespawner\"}, {\"org\": \"jupyterhub\", \"repo\": \"ldapauthenticator\", \"number\": 4, \"org/repo\": \"jupyterhub/ldapauthenticator\"}, {\"org\": \"jupyterhub\", \"repo\": \"mybinder.org-deploy\", \"number\": 1, \"org/repo\": \"jupyterhub/mybinder.org-deploy\"}, {\"org\": \"jupyterhub\", \"repo\": \"nbgitpuller\", \"number\": 1, \"org/repo\": \"jupyterhub/nbgitpuller\"}, {\"org\": \"jupyterhub\", \"repo\": \"oauthenticator\", \"number\": 2, \"org/repo\": \"jupyterhub/oauthenticator\"}, {\"org\": \"jupyterhub\", \"repo\": \"sudospawner\", \"number\": 1, \"org/repo\": \"jupyterhub/sudospawner\"}, {\"org\": \"jupyterhub\", \"repo\": \"team-compass\", \"number\": 3, \"org/repo\": \"jupyterhub/team-compass\"}, {\"org\": \"jupyterhub\", \"repo\": \"the-littlest-jupyterhub\", \"number\": 4, \"org/repo\": \"jupyterhub/the-littlest-jupyterhub\"}, {\"org\": \"jupyterhub\", \"repo\": \"traefik-proxy\", \"number\": 1, \"org/repo\": \"jupyterhub/traefik-proxy\"}, {\"org\": \"jupyterhub\", \"repo\": \"zero-to-jupyterhub-k8s\", \"number\": 11, \"org/repo\": \"jupyterhub/zero-to-jupyterhub-k8s\"}, {\"org\": \"jupyterlab\", \"repo\": \"jupyterlab\", \"number\": 27, \"org/repo\": \"jupyterlab/jupyterlab\"}, {\"org\": \"jupyterlab\", \"repo\": \"jupyterlab-celltags\", \"number\": 1, \"org/repo\": \"jupyterlab/jupyterlab-celltags\"}, {\"org\": \"jupyterlab\", \"repo\": \"jupyterlab-data-explorer\", \"number\": 4, \"org/repo\": \"jupyterlab/jupyterlab-data-explorer\"}, {\"org\": \"jupyterlab\", \"repo\": \"jupyterlab-git\", \"number\": 3, \"org/repo\": \"jupyterlab/jupyterlab-git\"}, {\"org\": \"jupyterlab\", \"repo\": \"jupyterlab-github\", \"number\": 1, \"org/repo\": \"jupyterlab/jupyterlab-github\"}, {\"org\": \"jupyterlab\", \"repo\": \"jupyterlab-hdf5\", \"number\": 7, \"org/repo\": \"jupyterlab/jupyterlab-hdf5\"}, {\"org\": \"jupyterlab\", \"repo\": \"jupyterlab-latex\", \"number\": 1, \"org/repo\": \"jupyterlab/jupyterlab-latex\"}, {\"org\": \"jupyterlab\", \"repo\": \"jupyterlab-toc\", \"number\": 2, \"org/repo\": \"jupyterlab/jupyterlab-toc\"}, {\"org\": \"jupyterlab\", \"repo\": \"pull-requests\", \"number\": 2, \"org/repo\": \"jupyterlab/pull-requests\"}]}};\n",
       "      var embedOpt = {\"mode\": \"vega-lite\"};\n",
       "\n",
       "      function showError(el, error){\n",
       "          el.innerHTML = ('<div class=\"error\" style=\"color:red;\">'\n",
       "                          + '<p>JavaScript Error: ' + error.message + '</p>'\n",
       "                          + \"<p>This usually means there's a typo in your chart specification. \"\n",
       "                          + \"See the javascript console for the full traceback.</p>\"\n",
       "                          + '</div>');\n",
       "          throw error;\n",
       "      }\n",
       "      const el = document.getElementById('altair-viz-4');\n",
       "      vegaEmbed(\"#altair-viz-4\", spec, embedOpt)\n",
       "        .catch(error => showError(el, error));\n",
       "    });\n",
       "\n",
       "  </script>"
      ],
      "text/plain": [
       "alt.Chart(...)"
      ]
     },
     "execution_count": 20,
     "metadata": {},
     "output_type": "execute_result"
    }
   ],
   "source": [
    "created_counts = created.groupby(['org', 'repo']).count()['number'].reset_index()\n",
    "created_counts['org/repo'] = created_counts.apply(lambda a: a['org'] + '/' + a['repo'], axis=1)\n",
    "sorted_vals = created_counts.sort_values(['org', 'number'], ascending=False)['repo'].values\n",
    "alt.Chart(data=created_counts, title=f\"Issues created in the last {n_days} days\").mark_bar().encode(\n",
    "    x=alt.X('repo', sort=alt.Sort(sorted_vals.tolist())),\n",
    "    y='number',\n",
    "    color='org',\n",
    ")"
   ]
  },
  {
   "cell_type": "code",
   "execution_count": 21,
   "metadata": {
    "papermill": {
     "duration": 0.062774,
     "end_time": "2019-12-01T17:51:46.297763",
     "exception": false,
     "start_time": "2019-12-01T17:51:46.234989",
     "status": "completed"
    },
    "tags": [
     "hide_input"
    ]
   },
   "outputs": [
    {
     "data": {
      "text/html": [
       "\n",
       "  <style>\n",
       "    .error {\n",
       "        color: red;\n",
       "    }\n",
       "  </style>\n",
       "  <div id=\"altair-viz-5\"></div>\n",
       "  <script>\n",
       "    requirejs.config({\n",
       "        \"paths\": {\n",
       "            \"vega\": \"https://cdn.jsdelivr.net/npm//vega@5?noext\",\n",
       "            \"vega-lib\": \"https://cdn.jsdelivr.net/npm//vega-lib?noext\",\n",
       "            \"vega-lite\": \"https://cdn.jsdelivr.net/npm//vega-lite@3.4.0?noext\",\n",
       "            \"vega-embed\": \"https://cdn.jsdelivr.net/npm//vega-embed@5?noext\",\n",
       "        }\n",
       "    });\n",
       "    \n",
       "    require(['vega-embed'],function(vegaEmbed) {\n",
       "      var spec = {\"config\": {\"axisLeft\": {\"labelFontSize\": 15}, \"axisBottom\": {\"labelFontSize\": 15}}, \"data\": {\"name\": \"data-7d06305dce7e16c12895ac67a965f997\"}, \"mark\": \"bar\", \"encoding\": {\"color\": {\"type\": \"nominal\", \"field\": \"org\"}, \"x\": {\"type\": \"nominal\", \"field\": \"repo\", \"sort\": [\"debugger\", \"jupyterlab-data-explorer\", \"jupyterlab-git\", \"jupyterlab-hdf5\", \"pull-requests\", \"jupyter-renderers\", \"jupyterlab\", \"jupyterlab-celltags\", \"jupyterhub\", \"binderhub\", \"zero-to-jupyterhub-k8s\", \"mybinder.org-deploy\", \"the-littlest-jupyterhub\", \"kubespawner\", \"jupyter-rsession-proxy\", \"nativeauthenticator\", \"traefik-proxy\", \"helm-chart\", \"jupyter-server-proxy\", \"oauthenticator\", \"team-compass\", \"ipywidgets\", \"ipyleaflet\", \"widget-ts-cookiecutter\", \"nbconvert\", \"nbgrader\", \"docker-stacks\", \"jupyter-book\", \"nbdime\", \"notebook\", \"repo2docker\", \"qtconsole\", \"enterprise_gateway\", \"jupyter_server\", \"nbviewer\", \"design\", \"jupyter-sphinx\", \"jupyter_client\", \"ipython\", \"ipykernel\"]}, \"y\": {\"type\": \"quantitative\", \"field\": \"number\"}}, \"title\": \"Issues closed in the last 31 days\", \"$schema\": \"https://vega.github.io/schema/vega-lite/v3.4.0.json\", \"datasets\": {\"data-7d06305dce7e16c12895ac67a965f997\": [{\"org\": \"ipython\", \"repo\": \"ipykernel\", \"number\": 3, \"org/repo\": \"ipython/ipykernel\"}, {\"org\": \"ipython\", \"repo\": \"ipython\", \"number\": 12, \"org/repo\": \"ipython/ipython\"}, {\"org\": \"jupyter\", \"repo\": \"design\", \"number\": 1, \"org/repo\": \"jupyter/design\"}, {\"org\": \"jupyter\", \"repo\": \"docker-stacks\", \"number\": 8, \"org/repo\": \"jupyter/docker-stacks\"}, {\"org\": \"jupyter\", \"repo\": \"enterprise_gateway\", \"number\": 2, \"org/repo\": \"jupyter/enterprise_gateway\"}, {\"org\": \"jupyter\", \"repo\": \"jupyter-book\", \"number\": 7, \"org/repo\": \"jupyter/jupyter-book\"}, {\"org\": \"jupyter\", \"repo\": \"jupyter-sphinx\", \"number\": 1, \"org/repo\": \"jupyter/jupyter-sphinx\"}, {\"org\": \"jupyter\", \"repo\": \"jupyter_client\", \"number\": 1, \"org/repo\": \"jupyter/jupyter_client\"}, {\"org\": \"jupyter\", \"repo\": \"jupyter_server\", \"number\": 2, \"org/repo\": \"jupyter/jupyter_server\"}, {\"org\": \"jupyter\", \"repo\": \"nbconvert\", \"number\": 49, \"org/repo\": \"jupyter/nbconvert\"}, {\"org\": \"jupyter\", \"repo\": \"nbdime\", \"number\": 7, \"org/repo\": \"jupyter/nbdime\"}, {\"org\": \"jupyter\", \"repo\": \"nbgrader\", \"number\": 21, \"org/repo\": \"jupyter/nbgrader\"}, {\"org\": \"jupyter\", \"repo\": \"nbviewer\", \"number\": 2, \"org/repo\": \"jupyter/nbviewer\"}, {\"org\": \"jupyter\", \"repo\": \"notebook\", \"number\": 7, \"org/repo\": \"jupyter/notebook\"}, {\"org\": \"jupyter\", \"repo\": \"qtconsole\", \"number\": 4, \"org/repo\": \"jupyter/qtconsole\"}, {\"org\": \"jupyter\", \"repo\": \"repo2docker\", \"number\": 7, \"org/repo\": \"jupyter/repo2docker\"}, {\"org\": \"jupyter-widgets\", \"repo\": \"ipyleaflet\", \"number\": 4, \"org/repo\": \"jupyter-widgets/ipyleaflet\"}, {\"org\": \"jupyter-widgets\", \"repo\": \"ipywidgets\", \"number\": 6, \"org/repo\": \"jupyter-widgets/ipywidgets\"}, {\"org\": \"jupyter-widgets\", \"repo\": \"widget-ts-cookiecutter\", \"number\": 1, \"org/repo\": \"jupyter-widgets/widget-ts-cookiecutter\"}, {\"org\": \"jupyterhub\", \"repo\": \"binderhub\", \"number\": 11, \"org/repo\": \"jupyterhub/binderhub\"}, {\"org\": \"jupyterhub\", \"repo\": \"helm-chart\", \"number\": 1, \"org/repo\": \"jupyterhub/helm-chart\"}, {\"org\": \"jupyterhub\", \"repo\": \"jupyter-rsession-proxy\", \"number\": 2, \"org/repo\": \"jupyterhub/jupyter-rsession-proxy\"}, {\"org\": \"jupyterhub\", \"repo\": \"jupyter-server-proxy\", \"number\": 1, \"org/repo\": \"jupyterhub/jupyter-server-proxy\"}, {\"org\": \"jupyterhub\", \"repo\": \"jupyterhub\", \"number\": 20, \"org/repo\": \"jupyterhub/jupyterhub\"}, {\"org\": \"jupyterhub\", \"repo\": \"kubespawner\", \"number\": 4, \"org/repo\": \"jupyterhub/kubespawner\"}, {\"org\": \"jupyterhub\", \"repo\": \"mybinder.org-deploy\", \"number\": 9, \"org/repo\": \"jupyterhub/mybinder.org-deploy\"}, {\"org\": \"jupyterhub\", \"repo\": \"nativeauthenticator\", \"number\": 2, \"org/repo\": \"jupyterhub/nativeauthenticator\"}, {\"org\": \"jupyterhub\", \"repo\": \"oauthenticator\", \"number\": 1, \"org/repo\": \"jupyterhub/oauthenticator\"}, {\"org\": \"jupyterhub\", \"repo\": \"team-compass\", \"number\": 1, \"org/repo\": \"jupyterhub/team-compass\"}, {\"org\": \"jupyterhub\", \"repo\": \"the-littlest-jupyterhub\", \"number\": 5, \"org/repo\": \"jupyterhub/the-littlest-jupyterhub\"}, {\"org\": \"jupyterhub\", \"repo\": \"traefik-proxy\", \"number\": 2, \"org/repo\": \"jupyterhub/traefik-proxy\"}, {\"org\": \"jupyterhub\", \"repo\": \"zero-to-jupyterhub-k8s\", \"number\": 10, \"org/repo\": \"jupyterhub/zero-to-jupyterhub-k8s\"}, {\"org\": \"jupyterlab\", \"repo\": \"debugger\", \"number\": 10, \"org/repo\": \"jupyterlab/debugger\"}, {\"org\": \"jupyterlab\", \"repo\": \"jupyter-renderers\", \"number\": 1, \"org/repo\": \"jupyterlab/jupyter-renderers\"}, {\"org\": \"jupyterlab\", \"repo\": \"jupyterlab\", \"number\": 1, \"org/repo\": \"jupyterlab/jupyterlab\"}, {\"org\": \"jupyterlab\", \"repo\": \"jupyterlab-celltags\", \"number\": 1, \"org/repo\": \"jupyterlab/jupyterlab-celltags\"}, {\"org\": \"jupyterlab\", \"repo\": \"jupyterlab-data-explorer\", \"number\": 8, \"org/repo\": \"jupyterlab/jupyterlab-data-explorer\"}, {\"org\": \"jupyterlab\", \"repo\": \"jupyterlab-git\", \"number\": 3, \"org/repo\": \"jupyterlab/jupyterlab-git\"}, {\"org\": \"jupyterlab\", \"repo\": \"jupyterlab-hdf5\", \"number\": 2, \"org/repo\": \"jupyterlab/jupyterlab-hdf5\"}, {\"org\": \"jupyterlab\", \"repo\": \"pull-requests\", \"number\": 2, \"org/repo\": \"jupyterlab/pull-requests\"}]}};\n",
       "      var embedOpt = {\"mode\": \"vega-lite\"};\n",
       "\n",
       "      function showError(el, error){\n",
       "          el.innerHTML = ('<div class=\"error\" style=\"color:red;\">'\n",
       "                          + '<p>JavaScript Error: ' + error.message + '</p>'\n",
       "                          + \"<p>This usually means there's a typo in your chart specification. \"\n",
       "                          + \"See the javascript console for the full traceback.</p>\"\n",
       "                          + '</div>');\n",
       "          throw error;\n",
       "      }\n",
       "      const el = document.getElementById('altair-viz-5');\n",
       "      vegaEmbed(\"#altair-viz-5\", spec, embedOpt)\n",
       "        .catch(error => showError(el, error));\n",
       "    });\n",
       "\n",
       "  </script>"
      ],
      "text/plain": [
       "alt.Chart(...)"
      ]
     },
     "execution_count": 21,
     "metadata": {},
     "output_type": "execute_result"
    }
   ],
   "source": [
    "closed_counts = closed.groupby(['org', 'repo']).count()['number'].reset_index()\n",
    "closed_counts['org/repo'] = closed_counts.apply(lambda a: a['org'] + '/' + a['repo'], axis=1)\n",
    "sorted_vals = closed_counts.sort_values(['org', 'number'], ascending=False)['repo'].values\n",
    "alt.Chart(data=closed_counts, title=f\"Issues closed in the last {n_days} days\").mark_bar().encode(\n",
    "    x=alt.X('repo', sort=alt.Sort(sorted_vals.tolist())),\n",
    "    y='number',\n",
    "    color='org',\n",
    ")"
   ]
  },
  {
   "cell_type": "code",
   "execution_count": 22,
   "metadata": {
    "papermill": {
     "duration": 0.048603,
     "end_time": "2019-12-01T17:51:46.370476",
     "exception": false,
     "start_time": "2019-12-01T17:51:46.321873",
     "status": "completed"
    },
    "tags": []
   },
   "outputs": [],
   "source": [
    "created_closed = pd.merge(created_counts.rename(columns={'number': 'created'}).drop(columns='org/repo'),\n",
    "                          closed_counts.rename(columns={'number': 'closed'}).drop(columns='org/repo'),\n",
    "                          on=['org', 'repo'], how='outer')\n",
    "\n",
    "created_closed = pd.melt(created_closed, id_vars=['org', 'repo'], var_name=\"kind\", value_name=\"count\").replace(np.nan, 0)"
   ]
  },
  {
   "cell_type": "code",
   "execution_count": 23,
   "metadata": {
    "papermill": {
     "duration": 0.12085,
     "end_time": "2019-12-01T17:51:46.515424",
     "exception": false,
     "start_time": "2019-12-01T17:51:46.394574",
     "status": "completed"
    },
    "tags": []
   },
   "outputs": [
    {
     "data": {
      "text/html": [
       "\n",
       "  <style>\n",
       "    .error {\n",
       "        color: red;\n",
       "    }\n",
       "  </style>\n",
       "  <div id=\"altair-viz-6\"></div>\n",
       "  <script>\n",
       "    requirejs.config({\n",
       "        \"paths\": {\n",
       "            \"vega\": \"https://cdn.jsdelivr.net/npm//vega@5?noext\",\n",
       "            \"vega-lib\": \"https://cdn.jsdelivr.net/npm//vega-lib?noext\",\n",
       "            \"vega-lite\": \"https://cdn.jsdelivr.net/npm//vega-lite@3.4.0?noext\",\n",
       "            \"vega-embed\": \"https://cdn.jsdelivr.net/npm//vega-embed@5?noext\",\n",
       "        }\n",
       "    });\n",
       "    \n",
       "    require(['vega-embed'],function(vegaEmbed) {\n",
       "      var spec = {\"config\": {\"axisLeft\": {\"labelFontSize\": 15}, \"axisBottom\": {\"labelFontSize\": 15}}, \"hconcat\": [{\"data\": {\"name\": \"data-d751713988987e9331980363e24189ce\"}, \"mark\": \"bar\", \"encoding\": {\"color\": {\"type\": \"nominal\", \"field\": \"kind\"}, \"column\": {\"type\": \"nominal\", \"field\": \"repo\", \"header\": {\"labelFontSize\": 12, \"title\": \"Issue activity, last 31 days for binder-examples\", \"titleFontSize\": 15}}, \"x\": {\"type\": \"nominal\", \"axis\": {\"labelFontSize\": 15, \"title\": \"\"}, \"field\": \"kind\"}, \"y\": {\"type\": \"quantitative\", \"axis\": {\"labelFontSize\": 12, \"titleFontSize\": 15}, \"field\": \"count\"}}, \"width\": 120}, {\"data\": {\"name\": \"data-37999e205f35adc2beba95a4ac13f1eb\"}, \"mark\": \"bar\", \"encoding\": {\"color\": {\"type\": \"nominal\", \"field\": \"kind\"}, \"column\": {\"type\": \"nominal\", \"field\": \"repo\", \"header\": {\"labelFontSize\": 12, \"title\": \"Issue activity, last 31 days for ipython\", \"titleFontSize\": 15}}, \"x\": {\"type\": \"nominal\", \"axis\": {\"labelFontSize\": 15, \"title\": \"\"}, \"field\": \"kind\"}, \"y\": {\"type\": \"quantitative\", \"axis\": {\"labelFontSize\": 12, \"titleFontSize\": 15}, \"field\": \"count\"}}, \"width\": 120}, {\"data\": {\"name\": \"data-1439087f3a8654cedfdba54127f75a0b\"}, \"mark\": \"bar\", \"encoding\": {\"color\": {\"type\": \"nominal\", \"field\": \"kind\"}, \"column\": {\"type\": \"nominal\", \"field\": \"repo\", \"header\": {\"labelFontSize\": 12, \"title\": \"Issue activity, last 31 days for jupyter\", \"titleFontSize\": 15}}, \"x\": {\"type\": \"nominal\", \"axis\": {\"labelFontSize\": 15, \"title\": \"\"}, \"field\": \"kind\"}, \"y\": {\"type\": \"quantitative\", \"axis\": {\"labelFontSize\": 12, \"titleFontSize\": 15}, \"field\": \"count\"}}, \"width\": 120}, {\"data\": {\"name\": \"data-07a52d879972ebacd9404c6873611268\"}, \"mark\": \"bar\", \"encoding\": {\"color\": {\"type\": \"nominal\", \"field\": \"kind\"}, \"column\": {\"type\": \"nominal\", \"field\": \"repo\", \"header\": {\"labelFontSize\": 12, \"title\": \"Issue activity, last 31 days for jupyter-widgets\", \"titleFontSize\": 15}}, \"x\": {\"type\": \"nominal\", \"axis\": {\"labelFontSize\": 15, \"title\": \"\"}, \"field\": \"kind\"}, \"y\": {\"type\": \"quantitative\", \"axis\": {\"labelFontSize\": 12, \"titleFontSize\": 15}, \"field\": \"count\"}}, \"width\": 120}, {\"data\": {\"name\": \"data-112d15b7c61f9e3a14176c9a0a39a15a\"}, \"mark\": \"bar\", \"encoding\": {\"color\": {\"type\": \"nominal\", \"field\": \"kind\"}, \"column\": {\"type\": \"nominal\", \"field\": \"repo\", \"header\": {\"labelFontSize\": 12, \"title\": \"Issue activity, last 31 days for jupyterhub\", \"titleFontSize\": 15}}, \"x\": {\"type\": \"nominal\", \"axis\": {\"labelFontSize\": 15, \"title\": \"\"}, \"field\": \"kind\"}, \"y\": {\"type\": \"quantitative\", \"axis\": {\"labelFontSize\": 12, \"titleFontSize\": 15}, \"field\": \"count\"}}, \"width\": 120}, {\"data\": {\"name\": \"data-a01a2e7f153cc37d34fe10f7011f694b\"}, \"mark\": \"bar\", \"encoding\": {\"color\": {\"type\": \"nominal\", \"field\": \"kind\"}, \"column\": {\"type\": \"nominal\", \"field\": \"repo\", \"header\": {\"labelFontSize\": 12, \"title\": \"Issue activity, last 31 days for jupyterlab\", \"titleFontSize\": 15}}, \"x\": {\"type\": \"nominal\", \"axis\": {\"labelFontSize\": 15, \"title\": \"\"}, \"field\": \"kind\"}, \"y\": {\"type\": \"quantitative\", \"axis\": {\"labelFontSize\": 12, \"titleFontSize\": 15}, \"field\": \"count\"}}, \"width\": 120}], \"$schema\": \"https://vega.github.io/schema/vega-lite/v3.4.0.json\", \"datasets\": {\"data-d751713988987e9331980363e24189ce\": [], \"data-37999e205f35adc2beba95a4ac13f1eb\": [{\"org\": \"ipython\", \"repo\": \"ipyparallel\", \"kind\": \"created\", \"count\": 1.0}, {\"org\": \"ipython\", \"repo\": \"ipython\", \"kind\": \"created\", \"count\": 10.0}, {\"org\": \"ipython\", \"repo\": \"ipykernel\", \"kind\": \"created\", \"count\": 0.0}, {\"org\": \"ipython\", \"repo\": \"ipyparallel\", \"kind\": \"closed\", \"count\": 0.0}, {\"org\": \"ipython\", \"repo\": \"ipython\", \"kind\": \"closed\", \"count\": 12.0}, {\"org\": \"ipython\", \"repo\": \"ipykernel\", \"kind\": \"closed\", \"count\": 3.0}], \"data-1439087f3a8654cedfdba54127f75a0b\": [{\"org\": \"jupyter\", \"repo\": \"docker-stacks\", \"kind\": \"created\", \"count\": 3.0}, {\"org\": \"jupyter\", \"repo\": \"enterprise_gateway\", \"kind\": \"created\", \"count\": 1.0}, {\"org\": \"jupyter\", \"repo\": \"jupyter-book\", \"kind\": \"created\", \"count\": 3.0}, {\"org\": \"jupyter\", \"repo\": \"nbconvert\", \"kind\": \"created\", \"count\": 3.0}, {\"org\": \"jupyter\", \"repo\": \"nbdime\", \"kind\": \"created\", \"count\": 1.0}, {\"org\": \"jupyter\", \"repo\": \"nbgrader\", \"kind\": \"created\", \"count\": 1.0}, {\"org\": \"jupyter\", \"repo\": \"notebook\", \"kind\": \"created\", \"count\": 40.0}, {\"org\": \"jupyter\", \"repo\": \"qtconsole\", \"kind\": \"created\", \"count\": 2.0}, {\"org\": \"jupyter\", \"repo\": \"repo2docker\", \"kind\": \"created\", \"count\": 2.0}, {\"org\": \"jupyter\", \"repo\": \"telemetry\", \"kind\": \"created\", \"count\": 3.0}, {\"org\": \"jupyter\", \"repo\": \"docker-stacks\", \"kind\": \"closed\", \"count\": 8.0}, {\"org\": \"jupyter\", \"repo\": \"enterprise_gateway\", \"kind\": \"closed\", \"count\": 2.0}, {\"org\": \"jupyter\", \"repo\": \"jupyter-book\", \"kind\": \"closed\", \"count\": 7.0}, {\"org\": \"jupyter\", \"repo\": \"nbconvert\", \"kind\": \"closed\", \"count\": 49.0}, {\"org\": \"jupyter\", \"repo\": \"nbdime\", \"kind\": \"closed\", \"count\": 7.0}, {\"org\": \"jupyter\", \"repo\": \"nbgrader\", \"kind\": \"closed\", \"count\": 21.0}, {\"org\": \"jupyter\", \"repo\": \"notebook\", \"kind\": \"closed\", \"count\": 7.0}, {\"org\": \"jupyter\", \"repo\": \"qtconsole\", \"kind\": \"closed\", \"count\": 4.0}, {\"org\": \"jupyter\", \"repo\": \"repo2docker\", \"kind\": \"closed\", \"count\": 7.0}, {\"org\": \"jupyter\", \"repo\": \"telemetry\", \"kind\": \"closed\", \"count\": 0.0}], \"data-07a52d879972ebacd9404c6873611268\": [{\"org\": \"jupyter-widgets\", \"repo\": \"ipyleaflet\", \"kind\": \"created\", \"count\": 1.0}, {\"org\": \"jupyter-widgets\", \"repo\": \"ipywidgets\", \"kind\": \"created\", \"count\": 6.0}, {\"org\": \"jupyter-widgets\", \"repo\": \"jupyterlab-sidecar\", \"kind\": \"created\", \"count\": 3.0}, {\"org\": \"jupyter-widgets\", \"repo\": \"traittypes\", \"kind\": \"created\", \"count\": 1.0}, {\"org\": \"jupyter-widgets\", \"repo\": \"widget-ts-cookiecutter\", \"kind\": \"created\", \"count\": 0.0}, {\"org\": \"jupyter-widgets\", \"repo\": \"ipyleaflet\", \"kind\": \"closed\", \"count\": 4.0}, {\"org\": \"jupyter-widgets\", \"repo\": \"ipywidgets\", \"kind\": \"closed\", \"count\": 6.0}, {\"org\": \"jupyter-widgets\", \"repo\": \"jupyterlab-sidecar\", \"kind\": \"closed\", \"count\": 0.0}, {\"org\": \"jupyter-widgets\", \"repo\": \"traittypes\", \"kind\": \"closed\", \"count\": 0.0}, {\"org\": \"jupyter-widgets\", \"repo\": \"widget-ts-cookiecutter\", \"kind\": \"closed\", \"count\": 1.0}], \"data-112d15b7c61f9e3a14176c9a0a39a15a\": [{\"org\": \"jupyterhub\", \"repo\": \"binderhub\", \"kind\": \"created\", \"count\": 1.0}, {\"org\": \"jupyterhub\", \"repo\": \"dockerspawner\", \"kind\": \"created\", \"count\": 4.0}, {\"org\": \"jupyterhub\", \"repo\": \"jupyterhub\", \"kind\": \"created\", \"count\": 9.0}, {\"org\": \"jupyterhub\", \"repo\": \"kubespawner\", \"kind\": \"created\", \"count\": 2.0}, {\"org\": \"jupyterhub\", \"repo\": \"ldapauthenticator\", \"kind\": \"created\", \"count\": 4.0}, {\"org\": \"jupyterhub\", \"repo\": \"mybinder.org-deploy\", \"kind\": \"created\", \"count\": 1.0}, {\"org\": \"jupyterhub\", \"repo\": \"oauthenticator\", \"kind\": \"created\", \"count\": 2.0}, {\"org\": \"jupyterhub\", \"repo\": \"team-compass\", \"kind\": \"created\", \"count\": 3.0}, {\"org\": \"jupyterhub\", \"repo\": \"the-littlest-jupyterhub\", \"kind\": \"created\", \"count\": 4.0}, {\"org\": \"jupyterhub\", \"repo\": \"zero-to-jupyterhub-k8s\", \"kind\": \"created\", \"count\": 11.0}, {\"org\": \"jupyterhub\", \"repo\": \"binderhub\", \"kind\": \"closed\", \"count\": 11.0}, {\"org\": \"jupyterhub\", \"repo\": \"dockerspawner\", \"kind\": \"closed\", \"count\": 0.0}, {\"org\": \"jupyterhub\", \"repo\": \"jupyterhub\", \"kind\": \"closed\", \"count\": 20.0}, {\"org\": \"jupyterhub\", \"repo\": \"kubespawner\", \"kind\": \"closed\", \"count\": 4.0}, {\"org\": \"jupyterhub\", \"repo\": \"ldapauthenticator\", \"kind\": \"closed\", \"count\": 0.0}, {\"org\": \"jupyterhub\", \"repo\": \"mybinder.org-deploy\", \"kind\": \"closed\", \"count\": 9.0}, {\"org\": \"jupyterhub\", \"repo\": \"oauthenticator\", \"kind\": \"closed\", \"count\": 1.0}, {\"org\": \"jupyterhub\", \"repo\": \"team-compass\", \"kind\": \"closed\", \"count\": 1.0}, {\"org\": \"jupyterhub\", \"repo\": \"the-littlest-jupyterhub\", \"kind\": \"closed\", \"count\": 5.0}, {\"org\": \"jupyterhub\", \"repo\": \"zero-to-jupyterhub-k8s\", \"kind\": \"closed\", \"count\": 10.0}], \"data-a01a2e7f153cc37d34fe10f7011f694b\": [{\"org\": \"jupyterlab\", \"repo\": \"jupyterlab\", \"kind\": \"created\", \"count\": 27.0}, {\"org\": \"jupyterlab\", \"repo\": \"jupyterlab-celltags\", \"kind\": \"created\", \"count\": 1.0}, {\"org\": \"jupyterlab\", \"repo\": \"jupyterlab-data-explorer\", \"kind\": \"created\", \"count\": 4.0}, {\"org\": \"jupyterlab\", \"repo\": \"jupyterlab-git\", \"kind\": \"created\", \"count\": 3.0}, {\"org\": \"jupyterlab\", \"repo\": \"jupyterlab-github\", \"kind\": \"created\", \"count\": 1.0}, {\"org\": \"jupyterlab\", \"repo\": \"jupyterlab-hdf5\", \"kind\": \"created\", \"count\": 7.0}, {\"org\": \"jupyterlab\", \"repo\": \"jupyterlab-toc\", \"kind\": \"created\", \"count\": 2.0}, {\"org\": \"jupyterlab\", \"repo\": \"pull-requests\", \"kind\": \"created\", \"count\": 2.0}, {\"org\": \"jupyterlab\", \"repo\": \"debugger\", \"kind\": \"created\", \"count\": 0.0}, {\"org\": \"jupyterlab\", \"repo\": \"jupyter-renderers\", \"kind\": \"created\", \"count\": 0.0}, {\"org\": \"jupyterlab\", \"repo\": \"jupyterlab\", \"kind\": \"closed\", \"count\": 1.0}, {\"org\": \"jupyterlab\", \"repo\": \"jupyterlab-celltags\", \"kind\": \"closed\", \"count\": 1.0}, {\"org\": \"jupyterlab\", \"repo\": \"jupyterlab-data-explorer\", \"kind\": \"closed\", \"count\": 8.0}, {\"org\": \"jupyterlab\", \"repo\": \"jupyterlab-git\", \"kind\": \"closed\", \"count\": 3.0}, {\"org\": \"jupyterlab\", \"repo\": \"jupyterlab-github\", \"kind\": \"closed\", \"count\": 0.0}, {\"org\": \"jupyterlab\", \"repo\": \"jupyterlab-hdf5\", \"kind\": \"closed\", \"count\": 2.0}, {\"org\": \"jupyterlab\", \"repo\": \"jupyterlab-toc\", \"kind\": \"closed\", \"count\": 0.0}, {\"org\": \"jupyterlab\", \"repo\": \"pull-requests\", \"kind\": \"closed\", \"count\": 2.0}, {\"org\": \"jupyterlab\", \"repo\": \"debugger\", \"kind\": \"closed\", \"count\": 10.0}, {\"org\": \"jupyterlab\", \"repo\": \"jupyter-renderers\", \"kind\": \"closed\", \"count\": 1.0}]}};\n",
       "      var embedOpt = {\"mode\": \"vega-lite\"};\n",
       "\n",
       "      function showError(el, error){\n",
       "          el.innerHTML = ('<div class=\"error\" style=\"color:red;\">'\n",
       "                          + '<p>JavaScript Error: ' + error.message + '</p>'\n",
       "                          + \"<p>This usually means there's a typo in your chart specification. \"\n",
       "                          + \"See the javascript console for the full traceback.</p>\"\n",
       "                          + '</div>');\n",
       "          throw error;\n",
       "      }\n",
       "      const el = document.getElementById('altair-viz-6');\n",
       "      vegaEmbed(\"#altair-viz-6\", spec, embedOpt)\n",
       "        .catch(error => showError(el, error));\n",
       "    });\n",
       "\n",
       "  </script>"
      ],
      "text/plain": [
       "alt.HConcatChart(...)"
      ]
     },
     "execution_count": 23,
     "metadata": {},
     "output_type": "execute_result"
    }
   ],
   "source": [
    "charts = []\n",
    "for org in github_orgs:\n",
    "    # Pick the top 10 repositories\n",
    "    this_issues = created_closed.query('org == @org')\n",
    "    top_repos = this_issues.groupby(['repo']).sum().sort_values(by='count', ascending=False).head(10).index\n",
    "    ch = alt.Chart(this_issues.query('repo in @top_repos'), width=120).mark_bar().encode(\n",
    "        x=alt.X(\"kind\", axis=alt.Axis(labelFontSize=15, title=\"\")), \n",
    "        y=alt.Y('count', axis=alt.Axis(titleFontSize=15, labelFontSize=12)),\n",
    "        color='kind',\n",
    "        column=alt.Column(\"repo\", header=alt.Header(title=f\"Issue activity, last {n_days} days for {org}\", titleFontSize=15, labelFontSize=12))\n",
    "    )\n",
    "    charts.append(ch)\n",
    "alt.hconcat(*charts)"
   ]
  },
  {
   "cell_type": "code",
   "execution_count": 24,
   "metadata": {
    "papermill": {
     "duration": 0.041204,
     "end_time": "2019-12-01T17:51:46.575060",
     "exception": false,
     "start_time": "2019-12-01T17:51:46.533856",
     "status": "completed"
    },
    "tags": []
   },
   "outputs": [],
   "source": [
    "# Set to datetime\n",
    "for kind in ['createdAt', 'closedAt']:\n",
    "    closed.loc[:, kind] = pd.to_datetime(closed[kind])\n",
    "    \n",
    "closed.loc[:, 'time_open'] = closed['closedAt'] - closed['createdAt']\n",
    "closed.loc[:, 'time_open'] = closed['time_open'].dt.total_seconds()"
   ]
  },
  {
   "cell_type": "code",
   "execution_count": 25,
   "metadata": {
    "papermill": {
     "duration": 0.060206,
     "end_time": "2019-12-01T17:51:46.660978",
     "exception": false,
     "start_time": "2019-12-01T17:51:46.600772",
     "status": "completed"
    },
    "tags": []
   },
   "outputs": [
    {
     "data": {
      "text/html": [
       "\n",
       "  <style>\n",
       "    .error {\n",
       "        color: red;\n",
       "    }\n",
       "  </style>\n",
       "  <div id=\"altair-viz-7\"></div>\n",
       "  <script>\n",
       "    requirejs.config({\n",
       "        \"paths\": {\n",
       "            \"vega\": \"https://cdn.jsdelivr.net/npm//vega@5?noext\",\n",
       "            \"vega-lib\": \"https://cdn.jsdelivr.net/npm//vega-lib?noext\",\n",
       "            \"vega-lite\": \"https://cdn.jsdelivr.net/npm//vega-lite@3.4.0?noext\",\n",
       "            \"vega-embed\": \"https://cdn.jsdelivr.net/npm//vega-embed@5?noext\",\n",
       "        }\n",
       "    });\n",
       "    \n",
       "    require(['vega-embed'],function(vegaEmbed) {\n",
       "      var spec = {\"config\": {\"axisLeft\": {\"labelFontSize\": 15}, \"axisBottom\": {\"labelFontSize\": 15}}, \"data\": {\"name\": \"data-09e02ef796471aed7bafd546f2639280\"}, \"mark\": \"bar\", \"encoding\": {\"color\": {\"type\": \"nominal\", \"field\": \"org\"}, \"x\": {\"type\": \"nominal\", \"field\": \"repo\", \"sort\": [\"jupyterlab-celltags\", \"jupyterlab-data-explorer\", \"jupyterlab-git\", \"debugger\", \"jupyter-renderers\", \"jupyterlab-hdf5\", \"jupyterlab\", \"pull-requests\", \"oauthenticator\", \"jupyterhub\", \"nativeauthenticator\", \"binderhub\", \"mybinder.org-deploy\", \"team-compass\", \"traefik-proxy\", \"jupyter-rsession-proxy\", \"helm-chart\", \"zero-to-jupyterhub-k8s\", \"kubespawner\", \"the-littlest-jupyterhub\", \"jupyter-server-proxy\", \"widget-ts-cookiecutter\", \"ipywidgets\", \"ipyleaflet\", \"nbconvert\", \"notebook\", \"design\", \"nbgrader\", \"nbdime\", \"nbviewer\", \"jupyter-book\", \"jupyter-sphinx\", \"repo2docker\", \"docker-stacks\", \"enterprise_gateway\", \"jupyter_server\", \"jupyter_client\", \"qtconsole\", \"ipython\", \"ipykernel\"]}, \"y\": {\"type\": \"quantitative\", \"field\": \"time_open\", \"title\": \"Median Days Open\"}}, \"title\": \"Time to close for issues closed in the last 31 days\", \"$schema\": \"https://vega.github.io/schema/vega-lite/v3.4.0.json\", \"datasets\": {\"data-09e02ef796471aed7bafd546f2639280\": [{\"org\": \"ipython\", \"repo\": \"ipykernel\", \"time_open\": 0.32112268518518516, \"org/repo\": \"ipython/ipykernel\"}, {\"org\": \"ipython\", \"repo\": \"ipython\", \"time_open\": 1.4506250000000003, \"org/repo\": \"ipython/ipython\"}, {\"org\": \"jupyter\", \"repo\": \"design\", \"time_open\": 72.71269675925926, \"org/repo\": \"jupyter/design\"}, {\"org\": \"jupyter\", \"repo\": \"docker-stacks\", \"time_open\": 12.624913194444444, \"org/repo\": \"jupyter/docker-stacks\"}, {\"org\": \"jupyter\", \"repo\": \"enterprise_gateway\", \"time_open\": 12.14382523148148, \"org/repo\": \"jupyter/enterprise_gateway\"}, {\"org\": \"jupyter\", \"repo\": \"jupyter-book\", \"time_open\": 26.28204861111111, \"org/repo\": \"jupyter/jupyter-book\"}, {\"org\": \"jupyter\", \"repo\": \"jupyter-sphinx\", \"time_open\": 22.005833333333335, \"org/repo\": \"jupyter/jupyter-sphinx\"}, {\"org\": \"jupyter\", \"repo\": \"jupyter_client\", \"time_open\": 1.2147916666666667, \"org/repo\": \"jupyter/jupyter_client\"}, {\"org\": \"jupyter\", \"repo\": \"jupyter_server\", \"time_open\": 9.630225694444444, \"org/repo\": \"jupyter/jupyter_server\"}, {\"org\": \"jupyter\", \"repo\": \"nbconvert\", \"time_open\": 479.18645833333335, \"org/repo\": \"jupyter/nbconvert\"}, {\"org\": \"jupyter\", \"repo\": \"nbdime\", \"time_open\": 52.451030092592596, \"org/repo\": \"jupyter/nbdime\"}, {\"org\": \"jupyter\", \"repo\": \"nbgrader\", \"time_open\": 55.02967592592593, \"org/repo\": \"jupyter/nbgrader\"}, {\"org\": \"jupyter\", \"repo\": \"nbviewer\", \"time_open\": 30.79252314814815, \"org/repo\": \"jupyter/nbviewer\"}, {\"org\": \"jupyter\", \"repo\": \"notebook\", \"time_open\": 100.72696759259259, \"org/repo\": \"jupyter/notebook\"}, {\"org\": \"jupyter\", \"repo\": \"qtconsole\", \"time_open\": 0.9191203703703704, \"org/repo\": \"jupyter/qtconsole\"}, {\"org\": \"jupyter\", \"repo\": \"repo2docker\", \"time_open\": 14.390277777777778, \"org/repo\": \"jupyter/repo2docker\"}, {\"org\": \"jupyter-widgets\", \"repo\": \"ipyleaflet\", \"time_open\": 0.8275925925925925, \"org/repo\": \"jupyter-widgets/ipyleaflet\"}, {\"org\": \"jupyter-widgets\", \"repo\": \"ipywidgets\", \"time_open\": 2.6234837962962962, \"org/repo\": \"jupyter-widgets/ipywidgets\"}, {\"org\": \"jupyter-widgets\", \"repo\": \"widget-ts-cookiecutter\", \"time_open\": 227.85600694444443, \"org/repo\": \"jupyter-widgets/widget-ts-cookiecutter\"}, {\"org\": \"jupyterhub\", \"repo\": \"binderhub\", \"time_open\": 64.08266203703704, \"org/repo\": \"jupyterhub/binderhub\"}, {\"org\": \"jupyterhub\", \"repo\": \"helm-chart\", \"time_open\": 1.136122685185185, \"org/repo\": \"jupyterhub/helm-chart\"}, {\"org\": \"jupyterhub\", \"repo\": \"jupyter-rsession-proxy\", \"time_open\": 1.1448726851851851, \"org/repo\": \"jupyterhub/jupyter-rsession-proxy\"}, {\"org\": \"jupyterhub\", \"repo\": \"jupyter-server-proxy\", \"time_open\": 0.011284722222222224, \"org/repo\": \"jupyterhub/jupyter-server-proxy\"}, {\"org\": \"jupyterhub\", \"repo\": \"jupyterhub\", \"time_open\": 114.43347800925926, \"org/repo\": \"jupyterhub/jupyterhub\"}, {\"org\": \"jupyterhub\", \"repo\": \"kubespawner\", \"time_open\": 0.8774305555555556, \"org/repo\": \"jupyterhub/kubespawner\"}, {\"org\": \"jupyterhub\", \"repo\": \"mybinder.org-deploy\", \"time_open\": 9.327222222222222, \"org/repo\": \"jupyterhub/mybinder.org-deploy\"}, {\"org\": \"jupyterhub\", \"repo\": \"nativeauthenticator\", \"time_open\": 70.89983796296296, \"org/repo\": \"jupyterhub/nativeauthenticator\"}, {\"org\": \"jupyterhub\", \"repo\": \"oauthenticator\", \"time_open\": 335.8103009259259, \"org/repo\": \"jupyterhub/oauthenticator\"}, {\"org\": \"jupyterhub\", \"repo\": \"team-compass\", \"time_open\": 6.999768518518518, \"org/repo\": \"jupyterhub/team-compass\"}, {\"org\": \"jupyterhub\", \"repo\": \"the-littlest-jupyterhub\", \"time_open\": 0.4708333333333333, \"org/repo\": \"jupyterhub/the-littlest-jupyterhub\"}, {\"org\": \"jupyterhub\", \"repo\": \"traefik-proxy\", \"time_open\": 4.765219907407407, \"org/repo\": \"jupyterhub/traefik-proxy\"}, {\"org\": \"jupyterhub\", \"repo\": \"zero-to-jupyterhub-k8s\", \"time_open\": 0.9703125, \"org/repo\": \"jupyterhub/zero-to-jupyterhub-k8s\"}, {\"org\": \"jupyterlab\", \"repo\": \"debugger\", \"time_open\": 2.0094444444444446, \"org/repo\": \"jupyterlab/debugger\"}, {\"org\": \"jupyterlab\", \"repo\": \"jupyter-renderers\", \"time_open\": 0.645462962962963, \"org/repo\": \"jupyterlab/jupyter-renderers\"}, {\"org\": \"jupyterlab\", \"repo\": \"jupyterlab\", \"time_open\": 0.09950231481481482, \"org/repo\": \"jupyterlab/jupyterlab\"}, {\"org\": \"jupyterlab\", \"repo\": \"jupyterlab-celltags\", \"time_open\": 50.76202546296296, \"org/repo\": \"jupyterlab/jupyterlab-celltags\"}, {\"org\": \"jupyterlab\", \"repo\": \"jupyterlab-data-explorer\", \"time_open\": 15.656174768518518, \"org/repo\": \"jupyterlab/jupyterlab-data-explorer\"}, {\"org\": \"jupyterlab\", \"repo\": \"jupyterlab-git\", \"time_open\": 7.457962962962963, \"org/repo\": \"jupyterlab/jupyterlab-git\"}, {\"org\": \"jupyterlab\", \"repo\": \"jupyterlab-hdf5\", \"time_open\": 0.5922685185185185, \"org/repo\": \"jupyterlab/jupyterlab-hdf5\"}, {\"org\": \"jupyterlab\", \"repo\": \"pull-requests\", \"time_open\": 0.028449074074074075, \"org/repo\": \"jupyterlab/pull-requests\"}]}};\n",
       "      var embedOpt = {\"mode\": \"vega-lite\"};\n",
       "\n",
       "      function showError(el, error){\n",
       "          el.innerHTML = ('<div class=\"error\" style=\"color:red;\">'\n",
       "                          + '<p>JavaScript Error: ' + error.message + '</p>'\n",
       "                          + \"<p>This usually means there's a typo in your chart specification. \"\n",
       "                          + \"See the javascript console for the full traceback.</p>\"\n",
       "                          + '</div>');\n",
       "          throw error;\n",
       "      }\n",
       "      const el = document.getElementById('altair-viz-7');\n",
       "      vegaEmbed(\"#altair-viz-7\", spec, embedOpt)\n",
       "        .catch(error => showError(el, error));\n",
       "    });\n",
       "\n",
       "  </script>"
      ],
      "text/plain": [
       "alt.Chart(...)"
      ]
     },
     "execution_count": 25,
     "metadata": {},
     "output_type": "execute_result"
    }
   ],
   "source": [
    "time_open = closed.groupby(['org', 'repo']).agg({'time_open': 'median'}).reset_index()\n",
    "time_open['time_open'] = time_open['time_open'] / (60 * 60 * 24)\n",
    "time_open['org/repo'] = time_open.apply(lambda a: a['org'] + '/' + a['repo'], axis=1)\n",
    "sorted_vals = time_open.sort_values(['org', 'time_open'], ascending=False)['repo'].values\n",
    "alt.Chart(data=time_open, title=f\"Time to close for issues closed in the last {n_days} days\").mark_bar().encode(\n",
    "    x=alt.X('repo', sort=alt.Sort(sorted_vals.tolist())),\n",
    "    y=alt.Y('time_open', title=\"Median Days Open\"),\n",
    "    color='org',\n",
    ")"
   ]
  },
  {
   "cell_type": "markdown",
   "metadata": {
    "papermill": {
     "duration": 0.027485,
     "end_time": "2019-12-01T17:51:46.709654",
     "exception": false,
     "start_time": "2019-12-01T17:51:46.682169",
     "status": "completed"
    },
    "tags": []
   },
   "source": [
    "### A list of recent issues\n",
    "\n",
    "Below is a list of issues with recent activity in each repository. If they seem of interest\n",
    "to you, click on their links and jump in to participate!"
   ]
  },
  {
   "cell_type": "code",
   "execution_count": 26,
   "metadata": {
    "papermill": {
     "duration": 0.04893,
     "end_time": "2019-12-01T17:51:46.789984",
     "exception": false,
     "start_time": "2019-12-01T17:51:46.741054",
     "status": "completed"
    },
    "tags": []
   },
   "outputs": [],
   "source": [
    "# Add comment count data to issues and PRs\n",
    "comment_counts = (\n",
    "    comments\n",
    "    .query(\"createdAt > @start_date and createdAt < @end_date\")\n",
    "    .groupby(['org', 'repo', 'issue_id'])\n",
    "    .count().iloc[:, 0].to_frame()\n",
    ")\n",
    "comment_counts.columns = ['n_comments']\n",
    "comment_counts = comment_counts.reset_index()"
   ]
  },
  {
   "cell_type": "code",
   "execution_count": 27,
   "metadata": {
    "papermill": {
     "duration": 0.62641,
     "end_time": "2019-12-01T17:51:47.446562",
     "exception": false,
     "start_time": "2019-12-01T17:51:46.820152",
     "status": "completed"
    },
    "tags": [
     "hide_input"
    ],
    "toc-hr-collapsed": false
   },
   "outputs": [
    {
     "data": {
      "text/markdown": [
       "Here are the top 5 active issues in each repository in the last 31 days"
      ],
      "text/plain": [
       "<IPython.core.display.Markdown object>"
      ]
     },
     "metadata": {},
     "output_type": "display_data"
    },
    {
     "data": {
      "application/vnd.jupyter.widget-view+json": {
       "model_id": "7783b6b0c6d34e0586c7649c29d4fd52",
       "version_major": 2,
       "version_minor": 0
      },
      "text/plain": [
       "Tab(children=(HTML(value='<h4>binder-examples</h4>\\n<h5><a href=\"https://github.com/binder-examples/requiremen…"
      ]
     },
     "metadata": {},
     "output_type": "display_data"
    }
   ],
   "source": [
    "n_plot = 5\n",
    "tabs = widgets.Tab(children=[])\n",
    "for ii, (org, idata) in enumerate(comment_counts.groupby('org')):\n",
    "    issue_md = []\n",
    "    issue_md.append(f\"#### {org}\")\n",
    "    issue_md.append(\"\")\n",
    "    for repo, i_issues in idata.groupby('repo'):\n",
    "        issue_md.append(f\"##### [{org}/{repo}](https://github.com/{org}/{repo})\")\n",
    "\n",
    "        top_issues = i_issues.sort_values('n_comments', ascending=False).head(n_plot)\n",
    "        top_issue_list = pd.merge(issues, top_issues, left_on=['org', 'repo', 'number'], right_on=['org', 'repo', 'issue_id'])\n",
    "        for _, issue in top_issue_list.sort_values('n_comments', ascending=False).head(n_plot).iterrows():\n",
    "            user_name = issue['author']\n",
    "            user_url = author_url(user_name)\n",
    "            issue_number = issue['number']\n",
    "            issue_html = issue['url']\n",
    "            issue_title = issue['title']\n",
    "\n",
    "            text = f\"* [(#{issue_number})]({issue_html}): _{issue_title}_ by **[@{user_name}]({user_url})**\"\n",
    "            issue_md.append(text)\n",
    "\n",
    "    issue_md.append('')\n",
    "    md_html = HTML(markdown('\\n'.join(issue_md)))\n",
    "    \n",
    "    children = list(tabs.children)\n",
    "    children.append(HTML(markdown('\\n'.join(issue_md))))\n",
    "    tabs.children = tuple(children)\n",
    "    tabs.set_title(ii, org)\n",
    "    \n",
    "display(Markdown(f\"Here are the top {n_plot} active issues in each repository in the last {n_days} days\"))\n",
    "display(tabs)"
   ]
  },
  {
   "cell_type": "markdown",
   "metadata": {
    "papermill": {
     "duration": 0.023708,
     "end_time": "2019-12-01T17:51:47.488905",
     "exception": false,
     "start_time": "2019-12-01T17:51:47.465197",
     "status": "completed"
    },
    "tags": []
   },
   "source": [
    "## Commenters across repositories\n",
    "\n",
    "These are commenters across all issues and pull requests in the last several days.\n",
    "These are colored by the commenter's association with the organization. For information\n",
    "about what these associations mean, [see this StackOverflow post](https://stackoverflow.com/a/28866914/1927102)."
   ]
  },
  {
   "cell_type": "code",
   "execution_count": 28,
   "metadata": {
    "papermill": {
     "duration": 0.04909,
     "end_time": "2019-12-01T17:51:47.564507",
     "exception": false,
     "start_time": "2019-12-01T17:51:47.515417",
     "status": "completed"
    },
    "tags": []
   },
   "outputs": [],
   "source": [
    "commentors = (\n",
    "    comments\n",
    "    .query(\"createdAt > @start_date and createdAt < @end_date\")\n",
    "    .groupby(['org', 'repo', 'author', 'authorAssociation'])\n",
    "    .count().rename(columns={'id': 'count'})['count']\n",
    "    .reset_index()\n",
    "    .sort_values(['org', 'count'], ascending=False)\n",
    ")"
   ]
  },
  {
   "cell_type": "code",
   "execution_count": 29,
   "metadata": {
    "papermill": {
     "duration": 0.120559,
     "end_time": "2019-12-01T17:51:47.711231",
     "exception": false,
     "start_time": "2019-12-01T17:51:47.590672",
     "status": "completed"
    },
    "tags": []
   },
   "outputs": [
    {
     "data": {
      "text/html": [
       "\n",
       "  <style>\n",
       "    .error {\n",
       "        color: red;\n",
       "    }\n",
       "  </style>\n",
       "  <div id=\"altair-viz-8\"></div>\n",
       "  <script>\n",
       "    requirejs.config({\n",
       "        \"paths\": {\n",
       "            \"vega\": \"https://cdn.jsdelivr.net/npm//vega@5?noext\",\n",
       "            \"vega-lib\": \"https://cdn.jsdelivr.net/npm//vega-lib?noext\",\n",
       "            \"vega-lite\": \"https://cdn.jsdelivr.net/npm//vega-lite@3.4.0?noext\",\n",
       "            \"vega-embed\": \"https://cdn.jsdelivr.net/npm//vega-embed@5?noext\",\n",
       "        }\n",
       "    });\n",
       "    \n",
       "    require(['vega-embed'],function(vegaEmbed) {\n",
       "      var spec = {\"config\": {\"axisLeft\": {\"labelFontSize\": 15}, \"axisBottom\": {\"labelFontSize\": 15}}, \"hconcat\": [{\"data\": {\"name\": \"data-9e61f17ceba47845474d8d6fcffe2699\"}, \"mark\": \"bar\", \"encoding\": {\"color\": {\"type\": \"nominal\", \"field\": \"authorAssociation\", \"scale\": {\"domain\": [\"MEMBER\", \"CONTRIBUTOR\", \"COLLABORATOR\", \"NONE\"], \"range\": [\"rgb(211.82745098039214, 211.82745098039214, 211.82745098039214, 256.0)\", \"rgb(166.98562091503268, 229.89803921568628, 166.98562091503268, 256.0)\", \"rgb(96.37647058823529, 192.75294117647059, 96.37647058823529, 256.0)\", \"rgb(0.0, 100.3921568627451, 0.0, 256.0)\"]}}, \"x\": {\"type\": \"nominal\", \"field\": \"author\"}, \"y\": {\"type\": \"quantitative\", \"field\": \"count\"}}, \"title\": \"Top 50 commentors for binder-examples in the last 31 days\", \"width\": 1000}, {\"data\": {\"name\": \"data-6dec1563bd2e0c6f569558bea88e1c15\"}, \"mark\": \"bar\", \"encoding\": {\"color\": {\"type\": \"nominal\", \"field\": \"authorAssociation\", \"scale\": {\"domain\": [\"MEMBER\", \"CONTRIBUTOR\", \"COLLABORATOR\", \"NONE\"], \"range\": [\"rgb(211.82745098039214, 211.82745098039214, 211.82745098039214, 256.0)\", \"rgb(166.98562091503268, 229.89803921568628, 166.98562091503268, 256.0)\", \"rgb(96.37647058823529, 192.75294117647059, 96.37647058823529, 256.0)\", \"rgb(0.0, 100.3921568627451, 0.0, 256.0)\"]}}, \"x\": {\"type\": \"nominal\", \"field\": \"author\"}, \"y\": {\"type\": \"quantitative\", \"field\": \"count\"}}, \"title\": \"Top 50 commentors for ipython in the last 31 days\", \"width\": 1000}, {\"data\": {\"name\": \"data-24a2681e0aae8aa4078cab2414fb64cf\"}, \"mark\": \"bar\", \"encoding\": {\"color\": {\"type\": \"nominal\", \"field\": \"authorAssociation\", \"scale\": {\"domain\": [\"MEMBER\", \"CONTRIBUTOR\", \"COLLABORATOR\", \"NONE\"], \"range\": [\"rgb(211.82745098039214, 211.82745098039214, 211.82745098039214, 256.0)\", \"rgb(166.98562091503268, 229.89803921568628, 166.98562091503268, 256.0)\", \"rgb(96.37647058823529, 192.75294117647059, 96.37647058823529, 256.0)\", \"rgb(0.0, 100.3921568627451, 0.0, 256.0)\"]}}, \"x\": {\"type\": \"nominal\", \"field\": \"author\"}, \"y\": {\"type\": \"quantitative\", \"field\": \"count\"}}, \"title\": \"Top 50 commentors for jupyter in the last 31 days\", \"width\": 1000}, {\"data\": {\"name\": \"data-c8a9f2dbed76db2f826ea1698c754656\"}, \"mark\": \"bar\", \"encoding\": {\"color\": {\"type\": \"nominal\", \"field\": \"authorAssociation\", \"scale\": {\"domain\": [\"MEMBER\", \"CONTRIBUTOR\", \"COLLABORATOR\", \"NONE\"], \"range\": [\"rgb(211.82745098039214, 211.82745098039214, 211.82745098039214, 256.0)\", \"rgb(166.98562091503268, 229.89803921568628, 166.98562091503268, 256.0)\", \"rgb(96.37647058823529, 192.75294117647059, 96.37647058823529, 256.0)\", \"rgb(0.0, 100.3921568627451, 0.0, 256.0)\"]}}, \"x\": {\"type\": \"nominal\", \"field\": \"author\"}, \"y\": {\"type\": \"quantitative\", \"field\": \"count\"}}, \"title\": \"Top 50 commentors for jupyter-widgets in the last 31 days\", \"width\": 1000}, {\"data\": {\"name\": \"data-1c87c97ce0d90417db1e10d865af952b\"}, \"mark\": \"bar\", \"encoding\": {\"color\": {\"type\": \"nominal\", \"field\": \"authorAssociation\", \"scale\": {\"domain\": [\"MEMBER\", \"CONTRIBUTOR\", \"COLLABORATOR\", \"NONE\"], \"range\": [\"rgb(211.82745098039214, 211.82745098039214, 211.82745098039214, 256.0)\", \"rgb(166.98562091503268, 229.89803921568628, 166.98562091503268, 256.0)\", \"rgb(96.37647058823529, 192.75294117647059, 96.37647058823529, 256.0)\", \"rgb(0.0, 100.3921568627451, 0.0, 256.0)\"]}}, \"x\": {\"type\": \"nominal\", \"field\": \"author\"}, \"y\": {\"type\": \"quantitative\", \"field\": \"count\"}}, \"title\": \"Top 50 commentors for jupyterhub in the last 31 days\", \"width\": 1000}, {\"data\": {\"name\": \"data-ad4902a6bdf66c1d9f450493b7e857e6\"}, \"mark\": \"bar\", \"encoding\": {\"color\": {\"type\": \"nominal\", \"field\": \"authorAssociation\", \"scale\": {\"domain\": [\"MEMBER\", \"CONTRIBUTOR\", \"COLLABORATOR\", \"NONE\"], \"range\": [\"rgb(211.82745098039214, 211.82745098039214, 211.82745098039214, 256.0)\", \"rgb(166.98562091503268, 229.89803921568628, 166.98562091503268, 256.0)\", \"rgb(96.37647058823529, 192.75294117647059, 96.37647058823529, 256.0)\", \"rgb(0.0, 100.3921568627451, 0.0, 256.0)\"]}}, \"x\": {\"type\": \"nominal\", \"field\": \"author\"}, \"y\": {\"type\": \"quantitative\", \"field\": \"count\"}}, \"title\": \"Top 50 commentors for jupyterlab in the last 31 days\", \"width\": 1000}], \"$schema\": \"https://vega.github.io/schema/vega-lite/v3.4.0.json\", \"datasets\": {\"data-9e61f17ceba47845474d8d6fcffe2699\": [{\"author\": \"choldgraf\", \"count\": 1, \"authorAssociation\": \"MEMBER\"}], \"data-6dec1563bd2e0c6f569558bea88e1c15\": [{\"author\": \"Carreau\", \"count\": 24, \"authorAssociation\": \"MEMBER\"}, {\"author\": \"blink1073\", \"count\": 14, \"authorAssociation\": \"MEMBER\"}, {\"author\": \"terrdavis\", \"count\": 6, \"authorAssociation\": \"CONTRIBUTOR\"}, {\"author\": \"ccordoba12\", \"count\": 5, \"authorAssociation\": \"MEMBER\"}, {\"author\": \"daharn\", \"count\": 5, \"authorAssociation\": \"CONTRIBUTOR\"}, {\"author\": \"minrk\", \"count\": 4, \"authorAssociation\": \"MEMBER\"}, {\"author\": \"rmorshea\", \"count\": 4, \"authorAssociation\": \"COLLABORATOR\"}, {\"author\": \"palxex\", \"count\": 3, \"authorAssociation\": \"NONE\"}, {\"author\": \"MSeal\", \"count\": 3, \"authorAssociation\": \"CONTRIBUTOR\"}, {\"author\": \"texadactyl\", \"count\": 3, \"authorAssociation\": \"NONE\"}, {\"author\": \"davidhalter\", \"count\": 3, \"authorAssociation\": \"NONE\"}, {\"author\": \"cshimmin\", \"count\": 2, \"authorAssociation\": \"NONE\"}, {\"author\": \"syagev\", \"count\": 2, \"authorAssociation\": \"NONE\"}, {\"author\": \"dlukes\", \"count\": 2, \"authorAssociation\": \"NONE\"}, {\"author\": \"sthibaul\", \"count\": 2, \"authorAssociation\": \"NONE\"}, {\"author\": \"Shaam93\", \"count\": 2, \"authorAssociation\": \"NONE\"}, {\"author\": \"kevin-bates\", \"count\": 2, \"authorAssociation\": \"CONTRIBUTOR\"}, {\"author\": \"willingc\", \"count\": 2, \"authorAssociation\": \"MEMBER\"}, {\"author\": \"jaib1\", \"count\": 2, \"authorAssociation\": \"NONE\"}, {\"author\": \"cyberwillis\", \"count\": 2, \"authorAssociation\": \"NONE\"}, {\"author\": \"laoshaw\", \"count\": 1, \"authorAssociation\": \"NONE\"}, {\"author\": \"matthew-brett\", \"count\": 1, \"authorAssociation\": \"NONE\"}, {\"author\": \"lewisacidic\", \"count\": 1, \"authorAssociation\": \"NONE\"}, {\"author\": \"letoncse\", \"count\": 1, \"authorAssociation\": \"NONE\"}, {\"author\": \"krinsman\", \"count\": 1, \"authorAssociation\": \"CONTRIBUTOR\"}, {\"author\": \"nouiz\", \"count\": 1, \"authorAssociation\": \"NONE\"}, {\"author\": \"AbhinavBangia\", \"count\": 1, \"authorAssociation\": \"NONE\"}, {\"author\": \"partha1968\", \"count\": 1, \"authorAssociation\": \"NONE\"}, {\"author\": \"paulochf\", \"count\": 1, \"authorAssociation\": \"NONE\"}, {\"author\": \"pikachust8811\", \"count\": 1, \"authorAssociation\": \"NONE\"}, {\"author\": \"jrolfsen\", \"count\": 1, \"authorAssociation\": \"NONE\"}, {\"author\": \"rsebbe\", \"count\": 1, \"authorAssociation\": \"NONE\"}, {\"author\": \"silencial\", \"count\": 1, \"authorAssociation\": \"NONE\"}, {\"author\": \"soxofaan\", \"count\": 1, \"authorAssociation\": \"NONE\"}, {\"author\": \"vishakadsg\", \"count\": 1, \"authorAssociation\": \"NONE\"}, {\"author\": \"yashk2810\", \"count\": 1, \"authorAssociation\": \"NONE\"}, {\"author\": \"karan-gill\", \"count\": 1, \"authorAssociation\": \"NONE\"}, {\"author\": \"gityou123\", \"count\": 1, \"authorAssociation\": \"NONE\"}, {\"author\": \"jhayes-py\", \"count\": 1, \"authorAssociation\": \"NONE\"}, {\"author\": \"jaideep11061982\", \"count\": 1, \"authorAssociation\": \"NONE\"}, {\"author\": \"ChrisPalmerNZ\", \"count\": 1, \"authorAssociation\": \"NONE\"}, {\"author\": \"Hubro\", \"count\": 1, \"authorAssociation\": \"NONE\"}, {\"author\": \"MaximZemskov\", \"count\": 1, \"authorAssociation\": \"NONE\"}, {\"author\": \"Miladiouss\", \"count\": 1, \"authorAssociation\": \"NONE\"}, {\"author\": \"ShapingView\", \"count\": 1, \"authorAssociation\": \"NONE\"}, {\"author\": \"Uiuran\", \"count\": 1, \"authorAssociation\": \"NONE\"}, {\"author\": \"adam-m-c\", \"count\": 1, \"authorAssociation\": \"NONE\"}, {\"author\": \"asishm\", \"count\": 1, \"authorAssociation\": \"NONE\"}, {\"author\": \"banool\", \"count\": 1, \"authorAssociation\": \"NONE\"}, {\"author\": \"bnaul\", \"count\": 1, \"authorAssociation\": \"NONE\"}], \"data-24a2681e0aae8aa4078cab2414fb64cf\": [{\"author\": \"choldgraf\", \"count\": 47, \"authorAssociation\": \"MEMBER\"}, {\"author\": \"t-makaro\", \"count\": 45, \"authorAssociation\": \"COLLABORATOR\"}, {\"author\": \"jhamrick\", \"count\": 39, \"authorAssociation\": \"MEMBER\"}, {\"author\": \"MSeal\", \"count\": 32, \"authorAssociation\": \"MEMBER\"}, {\"author\": \"vidartf\", \"count\": 32, \"authorAssociation\": \"COLLABORATOR\"}, {\"author\": \"Zsailer\", \"count\": 30, \"authorAssociation\": \"MEMBER\"}, {\"author\": \"kevin-bates\", \"count\": 25, \"authorAssociation\": \"MEMBER\"}, {\"author\": \"betatim\", \"count\": 21, \"authorAssociation\": \"MEMBER\"}, {\"author\": \"parente\", \"count\": 21, \"authorAssociation\": \"MEMBER\"}, {\"author\": \"ccordoba12\", \"count\": 17, \"authorAssociation\": \"COLLABORATOR\"}, {\"author\": \"SylvainCorlay\", \"count\": 14, \"authorAssociation\": \"MEMBER\"}, {\"author\": \"rolweber\", \"count\": 14, \"authorAssociation\": \"MEMBER\"}, {\"author\": \"jasongrout\", \"count\": 14, \"authorAssociation\": \"MEMBER\"}, {\"author\": \"rkdarst\", \"count\": 13, \"authorAssociation\": \"CONTRIBUTOR\"}, {\"author\": \"impact27\", \"count\": 13, \"authorAssociation\": \"CONTRIBUTOR\"}, {\"author\": \"lmeyerov\", \"count\": 9, \"authorAssociation\": \"NONE\"}, {\"author\": \"dniku\", \"count\": 8, \"authorAssociation\": \"CONTRIBUTOR\"}, {\"author\": \"mkzia\", \"count\": 7, \"authorAssociation\": \"NONE\"}, {\"author\": \"willingc\", \"count\": 6, \"authorAssociation\": \"MEMBER\"}, {\"author\": \"travigd\", \"count\": 5, \"authorAssociation\": \"CONTRIBUTOR\"}, {\"author\": \"maartenbreddels\", \"count\": 5, \"authorAssociation\": \"CONTRIBUTOR\"}, {\"author\": \"martinagvilas\", \"count\": 5, \"authorAssociation\": \"CONTRIBUTOR\"}, {\"author\": \"bthayer2365\", \"count\": 5, \"authorAssociation\": \"NONE\"}, {\"author\": \"perllaghu\", \"count\": 5, \"authorAssociation\": \"MEMBER\"}, {\"author\": \"brando90\", \"count\": 5, \"authorAssociation\": \"NONE\"}, {\"author\": \"Sefriol\", \"count\": 5, \"authorAssociation\": \"CONTRIBUTOR\"}, {\"author\": \"lresende\", \"count\": 4, \"authorAssociation\": \"MEMBER\"}, {\"author\": \"baregawi\", \"count\": 4, \"authorAssociation\": \"NONE\"}, {\"author\": \"arnavs\", \"count\": 4, \"authorAssociation\": \"CONTRIBUTOR\"}, {\"author\": \"krinsman\", \"count\": 4, \"authorAssociation\": \"CONTRIBUTOR\"}, {\"author\": \"turkialjrees\", \"count\": 4, \"authorAssociation\": \"NONE\"}, {\"author\": \"mpacer\", \"count\": 4, \"authorAssociation\": \"MEMBER\"}, {\"author\": \"akhmerov\", \"count\": 4, \"authorAssociation\": \"MEMBER\"}, {\"author\": \"NathanLewis\", \"count\": 4, \"authorAssociation\": \"NONE\"}, {\"author\": \"camporeale\", \"count\": 4, \"authorAssociation\": \"NONE\"}, {\"author\": \"adumont\", \"count\": 4, \"authorAssociation\": \"NONE\"}, {\"author\": \"minrk\", \"count\": 4, \"authorAssociation\": \"MEMBER\"}, {\"author\": \"dhruvbalwada\", \"count\": 4, \"authorAssociation\": \"NONE\"}, {\"author\": \"emdupre\", \"count\": 4, \"authorAssociation\": \"COLLABORATOR\"}, {\"author\": \"rbavery\", \"count\": 4, \"authorAssociation\": \"NONE\"}, {\"author\": \"blink1073\", \"count\": 3, \"authorAssociation\": \"MEMBER\"}, {\"author\": \"sigurdurb\", \"count\": 3, \"authorAssociation\": \"CONTRIBUTOR\"}, {\"author\": \"danielmaitre\", \"count\": 3, \"authorAssociation\": \"CONTRIBUTOR\"}, {\"author\": \"saulshanabrook\", \"count\": 3, \"authorAssociation\": \"CONTRIBUTOR\"}, {\"author\": \"roualdes\", \"count\": 3, \"authorAssociation\": \"NONE\"}, {\"author\": \"mwouts\", \"count\": 3, \"authorAssociation\": \"NONE\"}, {\"author\": \"janlisse\", \"count\": 3, \"authorAssociation\": \"NONE\"}, {\"author\": \"pat-s\", \"count\": 3, \"authorAssociation\": \"NONE\"}, {\"author\": \"darribas\", \"count\": 3, \"authorAssociation\": \"NONE\"}, {\"author\": \"alvinhuff\", \"count\": 3, \"authorAssociation\": \"NONE\"}], \"data-c8a9f2dbed76db2f826ea1698c754656\": [{\"author\": \"jasongrout\", \"count\": 36, \"authorAssociation\": \"MEMBER\"}, {\"author\": \"jetheurer\", \"count\": 8, \"authorAssociation\": \"NONE\"}, {\"author\": \"hainm\", \"count\": 8, \"authorAssociation\": \"NONE\"}, {\"author\": \"vidartf\", \"count\": 7, \"authorAssociation\": \"MEMBER\"}, {\"author\": \"martinRenou\", \"count\": 6, \"authorAssociation\": \"MEMBER\"}, {\"author\": \"chaffra\", \"count\": 4, \"authorAssociation\": \"NONE\"}, {\"author\": \"maartenbreddels\", \"count\": 4, \"authorAssociation\": \"MEMBER\"}, {\"author\": \"jaladh-singhal\", \"count\": 4, \"authorAssociation\": \"NONE\"}, {\"author\": \"cosmoscalibur\", \"count\": 2, \"authorAssociation\": \"NONE\"}, {\"author\": \"blois\", \"count\": 2, \"authorAssociation\": \"CONTRIBUTOR\"}, {\"author\": \"markiemarkus\", \"count\": 2, \"authorAssociation\": \"NONE\"}, {\"author\": \"timkpaine\", \"count\": 2, \"authorAssociation\": \"CONTRIBUTOR\"}, {\"author\": \"marketneutral\", \"count\": 2, \"authorAssociation\": \"NONE\"}, {\"author\": \"ablaagaard\", \"count\": 2, \"authorAssociation\": \"NONE\"}, {\"author\": \"janPesl\", \"count\": 2, \"authorAssociation\": \"NONE\"}, {\"author\": \"psychemedia\", \"count\": 2, \"authorAssociation\": \"NONE\"}, {\"author\": \"tgrout\", \"count\": 1, \"authorAssociation\": \"CONTRIBUTOR\"}, {\"author\": \"jtpio\", \"count\": 1, \"authorAssociation\": \"CONTRIBUTOR\"}, {\"author\": \"mattpap\", \"count\": 1, \"authorAssociation\": \"CONTRIBUTOR\"}, {\"author\": \"toddrme2178\", \"count\": 1, \"authorAssociation\": \"CONTRIBUTOR\"}, {\"author\": \"AaronWatters\", \"count\": 1, \"authorAssociation\": \"CONTRIBUTOR\"}, {\"author\": \"HudsonMC16\", \"count\": 1, \"authorAssociation\": \"NONE\"}, {\"author\": \"iamdamion\", \"count\": 1, \"authorAssociation\": \"NONE\"}, {\"author\": \"gramster\", \"count\": 1, \"authorAssociation\": \"NONE\"}, {\"author\": \"gemmavnash\", \"count\": 1, \"authorAssociation\": \"NONE\"}, {\"author\": \"e-lo\", \"count\": 1, \"authorAssociation\": \"NONE\"}, {\"author\": \"dprophet\", \"count\": 1, \"authorAssociation\": \"NONE\"}, {\"author\": \"dhairyagandhi96\", \"count\": 1, \"authorAssociation\": \"NONE\"}, {\"author\": \"acelere\", \"count\": 1, \"authorAssociation\": \"NONE\"}, {\"author\": \"SylvainCorlay\", \"count\": 1, \"authorAssociation\": \"MEMBER\"}, {\"author\": \"IssamLaradji\", \"count\": 1, \"authorAssociation\": \"NONE\"}, {\"author\": \"zerline\", \"count\": 1, \"authorAssociation\": \"CONTRIBUTOR\"}], \"data-1c87c97ce0d90417db1e10d865af952b\": [{\"author\": \"betatim\", \"count\": 118, \"authorAssociation\": \"MEMBER\"}, {\"author\": \"choldgraf\", \"count\": 40, \"authorAssociation\": \"MEMBER\"}, {\"author\": \"GeorgianaElena\", \"count\": 39, \"authorAssociation\": \"MEMBER\"}, {\"author\": \"consideRatio\", \"count\": 33, \"authorAssociation\": \"MEMBER\"}, {\"author\": \"manics\", \"count\": 24, \"authorAssociation\": \"CONTRIBUTOR\"}, {\"author\": \"minrk\", \"count\": 20, \"authorAssociation\": \"MEMBER\"}, {\"author\": \"sgibson91\", \"count\": 19, \"authorAssociation\": \"MEMBER\"}, {\"author\": \"wqh17101\", \"count\": 18, \"authorAssociation\": \"NONE\"}, {\"author\": \"ryogesh\", \"count\": 15, \"authorAssociation\": \"CONTRIBUTOR\"}, {\"author\": \"wierzba3\", \"count\": 10, \"authorAssociation\": \"NONE\"}, {\"author\": \"willingc\", \"count\": 9, \"authorAssociation\": \"MEMBER\"}, {\"author\": \"ablekh\", \"count\": 9, \"authorAssociation\": \"NONE\"}, {\"author\": \"chicocvenancio\", \"count\": 8, \"authorAssociation\": \"CONTRIBUTOR\"}, {\"author\": \"nscozzaro\", \"count\": 8, \"authorAssociation\": \"NONE\"}, {\"author\": \"bitnik\", \"count\": 8, \"authorAssociation\": \"CONTRIBUTOR\"}, {\"author\": \"lesteve\", \"count\": 7, \"authorAssociation\": \"NONE\"}, {\"author\": \"mathematicalmichael\", \"count\": 6, \"authorAssociation\": \"NONE\"}, {\"author\": \"trallard\", \"count\": 5, \"authorAssociation\": \"NONE\"}, {\"author\": \"wlyu\", \"count\": 5, \"authorAssociation\": \"NONE\"}, {\"author\": \"sdd3\", \"count\": 4, \"authorAssociation\": \"NONE\"}, {\"author\": \"clkao\", \"count\": 4, \"authorAssociation\": \"NONE\"}, {\"author\": \"Zsailer\", \"count\": 4, \"authorAssociation\": \"MEMBER\"}, {\"author\": \"dmpe\", \"count\": 4, \"authorAssociation\": \"NONE\"}, {\"author\": \"rgerkin\", \"count\": 4, \"authorAssociation\": \"NONE\"}, {\"author\": \"henchc\", \"count\": 4, \"authorAssociation\": \"MEMBER\"}, {\"author\": \"jtpio\", \"count\": 4, \"authorAssociation\": \"CONTRIBUTOR\"}, {\"author\": \"katsar0v\", \"count\": 4, \"authorAssociation\": \"CONTRIBUTOR\"}, {\"author\": \"mattjshannon\", \"count\": 4, \"authorAssociation\": \"CONTRIBUTOR\"}, {\"author\": \"arinbasu\", \"count\": 4, \"authorAssociation\": \"NONE\"}, {\"author\": \"enolfc\", \"count\": 3, \"authorAssociation\": \"CONTRIBUTOR\"}, {\"author\": \"ryanlovett\", \"count\": 3, \"authorAssociation\": \"MEMBER\"}, {\"author\": \"jamesdbrock\", \"count\": 3, \"authorAssociation\": \"NONE\"}, {\"author\": \"jhegedus42\", \"count\": 3, \"authorAssociation\": \"NONE\"}, {\"author\": \"Carreau\", \"count\": 3, \"authorAssociation\": \"MEMBER\"}, {\"author\": \"kevmk04\", \"count\": 3, \"authorAssociation\": \"NONE\"}, {\"author\": \"riazarbi\", \"count\": 3, \"authorAssociation\": \"NONE\"}, {\"author\": \"leportella\", \"count\": 3, \"authorAssociation\": \"COLLABORATOR\"}, {\"author\": \"manojs123\", \"count\": 3, \"authorAssociation\": \"NONE\"}, {\"author\": \"DentonGentry\", \"count\": 3, \"authorAssociation\": \"NONE\"}, {\"author\": \"anmtan\", \"count\": 3, \"authorAssociation\": \"NONE\"}, {\"author\": \"GergelyKalmar\", \"count\": 3, \"authorAssociation\": \"NONE\"}, {\"author\": \"turkialjrees\", \"count\": 2, \"authorAssociation\": \"NONE\"}, {\"author\": \"beenje\", \"count\": 2, \"authorAssociation\": \"NONE\"}, {\"author\": \"tlkh\", \"count\": 2, \"authorAssociation\": \"CONTRIBUTOR\"}, {\"author\": \"MaxNoe\", \"count\": 2, \"authorAssociation\": \"NONE\"}, {\"author\": \"fersarr\", \"count\": 2, \"authorAssociation\": \"NONE\"}, {\"author\": \"vinayjain15\", \"count\": 2, \"authorAssociation\": \"NONE\"}, {\"author\": \"nuest\", \"count\": 2, \"authorAssociation\": \"CONTRIBUTOR\"}, {\"author\": \"gdbassett\", \"count\": 2, \"authorAssociation\": \"NONE\"}, {\"author\": \"josiahls\", \"count\": 2, \"authorAssociation\": \"NONE\"}], \"data-ad4902a6bdf66c1d9f450493b7e857e6\": [{\"author\": \"jasongrout\", \"count\": 353, \"authorAssociation\": \"MEMBER\"}, {\"author\": \"lock\", \"count\": 162, \"authorAssociation\": \"NONE\"}, {\"author\": \"blink1073\", \"count\": 156, \"authorAssociation\": \"MEMBER\"}, {\"author\": \"vidartf\", \"count\": 61, \"authorAssociation\": \"MEMBER\"}, {\"author\": \"saulshanabrook\", \"count\": 42, \"authorAssociation\": \"MEMBER\"}, {\"author\": \"telamonian\", \"count\": 38, \"authorAssociation\": \"MEMBER\"}, {\"author\": \"jtpio\", \"count\": 35, \"authorAssociation\": \"MEMBER\"}, {\"author\": \"afshin\", \"count\": 22, \"authorAssociation\": \"MEMBER\"}, {\"author\": \"jaipreet-s\", \"count\": 15, \"authorAssociation\": \"MEMBER\"}, {\"author\": \"nicorikken\", \"count\": 13, \"authorAssociation\": \"NONE\"}, {\"author\": \"krassowski\", \"count\": 13, \"authorAssociation\": \"MEMBER\"}, {\"author\": \"stonebig\", \"count\": 13, \"authorAssociation\": \"MEMBER\"}, {\"author\": \"fcollonval\", \"count\": 13, \"authorAssociation\": \"MEMBER\"}, {\"author\": \"ian-r-rose\", \"count\": 12, \"authorAssociation\": \"MEMBER\"}, {\"author\": \"haraldschilly\", \"count\": 11, \"authorAssociation\": \"NONE\"}, {\"author\": \"wqh17101\", \"count\": 11, \"authorAssociation\": \"NONE\"}, {\"author\": \"daejong123\", \"count\": 10, \"authorAssociation\": \"NONE\"}, {\"author\": \"fchiriac\", \"count\": 9, \"authorAssociation\": \"NONE\"}, {\"author\": \"gogasca\", \"count\": 8, \"authorAssociation\": \"NONE\"}, {\"author\": \"joelostblom\", \"count\": 7, \"authorAssociation\": \"MEMBER\"}, {\"author\": \"Madhu94\", \"count\": 7, \"authorAssociation\": \"MEMBER\"}, {\"author\": \"nanchenchen\", \"count\": 6, \"authorAssociation\": \"NONE\"}, {\"author\": \"KsavinN\", \"count\": 6, \"authorAssociation\": \"COLLABORATOR\"}, {\"author\": \"st-bender\", \"count\": 6, \"authorAssociation\": \"NONE\"}, {\"author\": \"meeseeksdev\", \"count\": 5, \"authorAssociation\": \"NONE\"}, {\"author\": \"fridgerator\", \"count\": 5, \"authorAssociation\": \"NONE\"}, {\"author\": \"dhirschfeld\", \"count\": 5, \"authorAssociation\": \"MEMBER\"}, {\"author\": \"sloughin\", \"count\": 5, \"authorAssociation\": \"NONE\"}, {\"author\": \"tgeorgeux\", \"count\": 5, \"authorAssociation\": \"MEMBER\"}, {\"author\": \"DylanLukes\", \"count\": 5, \"authorAssociation\": \"NONE\"}, {\"author\": \"wolfv\", \"count\": 5, \"authorAssociation\": \"NONE\"}, {\"author\": \"ellisonbg\", \"count\": 4, \"authorAssociation\": \"MEMBER\"}, {\"author\": \"1637410810\", \"count\": 4, \"authorAssociation\": \"NONE\"}, {\"author\": \"hoo761\", \"count\": 4, \"authorAssociation\": \"COLLABORATOR\"}, {\"author\": \"juliusvonkohout\", \"count\": 4, \"authorAssociation\": \"NONE\"}, {\"author\": \"krinsman\", \"count\": 4, \"authorAssociation\": \"CONTRIBUTOR\"}, {\"author\": \"pybokeh\", \"count\": 4, \"authorAssociation\": \"NONE\"}, {\"author\": \"remborg\", \"count\": 4, \"authorAssociation\": \"NONE\"}, {\"author\": \"bollwyvl\", \"count\": 4, \"authorAssociation\": \"MEMBER\"}, {\"author\": \"ieglonew01f\", \"count\": 4, \"authorAssociation\": \"NONE\"}, {\"author\": \"agoose77\", \"count\": 4, \"authorAssociation\": \"MEMBER\"}, {\"author\": \"hoangthienan95\", \"count\": 3, \"authorAssociation\": \"NONE\"}, {\"author\": \"magic-lantern\", \"count\": 3, \"authorAssociation\": \"NONE\"}, {\"author\": \"scopatz\", \"count\": 3, \"authorAssociation\": \"CONTRIBUTOR\"}, {\"author\": \"ktaletsk\", \"count\": 3, \"authorAssociation\": \"NONE\"}, {\"author\": \"dvincentwest\", \"count\": 3, \"authorAssociation\": \"NONE\"}, {\"author\": \"gnestor\", \"count\": 3, \"authorAssociation\": \"MEMBER\"}, {\"author\": \"oldnaari\", \"count\": 3, \"authorAssociation\": \"NONE\"}, {\"author\": \"rvalieris\", \"count\": 3, \"authorAssociation\": \"CONTRIBUTOR\"}, {\"author\": \"afonit\", \"count\": 3, \"authorAssociation\": \"NONE\"}]}};\n",
       "      var embedOpt = {\"mode\": \"vega-lite\"};\n",
       "\n",
       "      function showError(el, error){\n",
       "          el.innerHTML = ('<div class=\"error\" style=\"color:red;\">'\n",
       "                          + '<p>JavaScript Error: ' + error.message + '</p>'\n",
       "                          + \"<p>This usually means there's a typo in your chart specification. \"\n",
       "                          + \"See the javascript console for the full traceback.</p>\"\n",
       "                          + '</div>');\n",
       "          throw error;\n",
       "      }\n",
       "      const el = document.getElementById('altair-viz-8');\n",
       "      vegaEmbed(\"#altair-viz-8\", spec, embedOpt)\n",
       "        .catch(error => showError(el, error));\n",
       "    });\n",
       "\n",
       "  </script>"
      ],
      "text/plain": [
       "alt.HConcatChart(...)"
      ]
     },
     "execution_count": 29,
     "metadata": {},
     "output_type": "execute_result"
    }
   ],
   "source": [
    "n_plot = 50\n",
    "charts = []\n",
    "for ii, (iorg, idata) in enumerate(commentors.groupby(['org'])):\n",
    "    title = f\"Top {n_plot} commentors for {iorg} in the last {n_days} days\"\n",
    "    idata = idata.groupby('author', as_index=False).agg({'count': 'sum', 'authorAssociation': 'first'})\n",
    "    idata = idata.sort_values('count', ascending=False).head(n_plot)\n",
    "    ch = alt.Chart(data=idata.head(n_plot), width=1000, title=title).mark_bar().encode(\n",
    "        x='author',\n",
    "        y='count',\n",
    "        color=alt.Color('authorAssociation', scale=alt.Scale(domain=author_types, range=author_colors))\n",
    "    )\n",
    "    charts.append(ch)\n",
    "alt.hconcat(*charts)"
   ]
  },
  {
   "cell_type": "markdown",
   "metadata": {
    "papermill": {
     "duration": 0.028252,
     "end_time": "2019-12-01T17:51:47.758173",
     "exception": false,
     "start_time": "2019-12-01T17:51:47.729921",
     "status": "completed"
    },
    "tags": []
   },
   "source": [
    "## First responders\n",
    "\n",
    "First responders are the first people to respond to a new issue in one of the repositories.\n",
    "The following plots show first responders for recently-created issues."
   ]
  },
  {
   "cell_type": "code",
   "execution_count": 30,
   "metadata": {
    "papermill": {
     "duration": 0.892797,
     "end_time": "2019-12-01T17:51:48.682935",
     "exception": false,
     "start_time": "2019-12-01T17:51:47.790138",
     "status": "completed"
    },
    "tags": []
   },
   "outputs": [],
   "source": [
    "first_comments = []\n",
    "for (org, repo, issue_id), i_comments in comments.groupby(['org', 'repo', 'issue_id']):\n",
    "    ix_min = pd.to_datetime(i_comments['createdAt']).idxmin()\n",
    "    first_comment = i_comments.loc[ix_min]\n",
    "    if isinstance(first_comment, pd.DataFrame):\n",
    "        first_comment = first_comment.iloc[0]\n",
    "    first_comments.append(first_comment)\n",
    "first_comments = pd.concat(first_comments, axis=1).T"
   ]
  },
  {
   "cell_type": "code",
   "execution_count": 31,
   "metadata": {
    "papermill": {
     "duration": 0.061967,
     "end_time": "2019-12-01T17:51:48.771250",
     "exception": false,
     "start_time": "2019-12-01T17:51:48.709283",
     "status": "completed"
    },
    "tags": []
   },
   "outputs": [],
   "source": [
    "first_responder_counts = first_comments.groupby(['org', 'author', 'authorAssociation'], as_index=False).\\\n",
    "    count().rename(columns={'id': 'n_first_responses'}).sort_values(['org', 'n_first_responses'], ascending=False)\n"
   ]
  },
  {
   "cell_type": "code",
   "execution_count": 32,
   "metadata": {
    "papermill": {
     "duration": 0.150411,
     "end_time": "2019-12-01T17:51:48.950305",
     "exception": false,
     "start_time": "2019-12-01T17:51:48.799894",
     "status": "completed"
    },
    "tags": []
   },
   "outputs": [
    {
     "data": {
      "text/html": [
       "\n",
       "  <style>\n",
       "    .error {\n",
       "        color: red;\n",
       "    }\n",
       "  </style>\n",
       "  <div id=\"altair-viz-9\"></div>\n",
       "  <script>\n",
       "    requirejs.config({\n",
       "        \"paths\": {\n",
       "            \"vega\": \"https://cdn.jsdelivr.net/npm//vega@5?noext\",\n",
       "            \"vega-lib\": \"https://cdn.jsdelivr.net/npm//vega-lib?noext\",\n",
       "            \"vega-lite\": \"https://cdn.jsdelivr.net/npm//vega-lite@3.4.0?noext\",\n",
       "            \"vega-embed\": \"https://cdn.jsdelivr.net/npm//vega-embed@5?noext\",\n",
       "        }\n",
       "    });\n",
       "    \n",
       "    require(['vega-embed'],function(vegaEmbed) {\n",
       "      var spec = {\"config\": {\"axisLeft\": {\"labelFontSize\": 15}, \"axisBottom\": {\"labelFontSize\": 15}}, \"hconcat\": [{\"data\": {\"name\": \"data-64aa0c9a34e0425ca5cd0418d38ae319\"}, \"mark\": \"bar\", \"encoding\": {\"color\": {\"type\": \"nominal\", \"field\": \"authorAssociation\", \"scale\": {\"domain\": [\"MEMBER\", \"CONTRIBUTOR\", \"COLLABORATOR\", \"NONE\"], \"range\": [\"rgb(211.82745098039214, 211.82745098039214, 211.82745098039214, 256.0)\", \"rgb(166.98562091503268, 229.89803921568628, 166.98562091503268, 256.0)\", \"rgb(96.37647058823529, 192.75294117647059, 96.37647058823529, 256.0)\", \"rgb(0.0, 100.3921568627451, 0.0, 256.0)\"]}}, \"x\": {\"type\": \"nominal\", \"field\": \"author\"}, \"y\": {\"type\": \"quantitative\", \"field\": \"n_first_responses\"}}, \"title\": \"Top 50 first responders for binder-examples in the last 31 days\", \"width\": 1000}, {\"data\": {\"name\": \"data-db20c13a8305b2fe6a3bc681f7d91492\"}, \"mark\": \"bar\", \"encoding\": {\"color\": {\"type\": \"nominal\", \"field\": \"authorAssociation\", \"scale\": {\"domain\": [\"MEMBER\", \"CONTRIBUTOR\", \"COLLABORATOR\", \"NONE\"], \"range\": [\"rgb(211.82745098039214, 211.82745098039214, 211.82745098039214, 256.0)\", \"rgb(166.98562091503268, 229.89803921568628, 166.98562091503268, 256.0)\", \"rgb(96.37647058823529, 192.75294117647059, 96.37647058823529, 256.0)\", \"rgb(0.0, 100.3921568627451, 0.0, 256.0)\"]}}, \"x\": {\"type\": \"nominal\", \"field\": \"author\"}, \"y\": {\"type\": \"quantitative\", \"field\": \"n_first_responses\"}}, \"title\": \"Top 50 first responders for ipython in the last 31 days\", \"width\": 1000}, {\"data\": {\"name\": \"data-fb10e6f78647b97d915f432a56afdd15\"}, \"mark\": \"bar\", \"encoding\": {\"color\": {\"type\": \"nominal\", \"field\": \"authorAssociation\", \"scale\": {\"domain\": [\"MEMBER\", \"CONTRIBUTOR\", \"COLLABORATOR\", \"NONE\"], \"range\": [\"rgb(211.82745098039214, 211.82745098039214, 211.82745098039214, 256.0)\", \"rgb(166.98562091503268, 229.89803921568628, 166.98562091503268, 256.0)\", \"rgb(96.37647058823529, 192.75294117647059, 96.37647058823529, 256.0)\", \"rgb(0.0, 100.3921568627451, 0.0, 256.0)\"]}}, \"x\": {\"type\": \"nominal\", \"field\": \"author\"}, \"y\": {\"type\": \"quantitative\", \"field\": \"n_first_responses\"}}, \"title\": \"Top 50 first responders for jupyter in the last 31 days\", \"width\": 1000}, {\"data\": {\"name\": \"data-a869e9bd74ec084076bf0a86afcbaab4\"}, \"mark\": \"bar\", \"encoding\": {\"color\": {\"type\": \"nominal\", \"field\": \"authorAssociation\", \"scale\": {\"domain\": [\"MEMBER\", \"CONTRIBUTOR\", \"COLLABORATOR\", \"NONE\"], \"range\": [\"rgb(211.82745098039214, 211.82745098039214, 211.82745098039214, 256.0)\", \"rgb(166.98562091503268, 229.89803921568628, 166.98562091503268, 256.0)\", \"rgb(96.37647058823529, 192.75294117647059, 96.37647058823529, 256.0)\", \"rgb(0.0, 100.3921568627451, 0.0, 256.0)\"]}}, \"x\": {\"type\": \"nominal\", \"field\": \"author\"}, \"y\": {\"type\": \"quantitative\", \"field\": \"n_first_responses\"}}, \"title\": \"Top 50 first responders for jupyter-widgets in the last 31 days\", \"width\": 1000}, {\"data\": {\"name\": \"data-27c40aeeff8337222c8bb92c163eb899\"}, \"mark\": \"bar\", \"encoding\": {\"color\": {\"type\": \"nominal\", \"field\": \"authorAssociation\", \"scale\": {\"domain\": [\"MEMBER\", \"CONTRIBUTOR\", \"COLLABORATOR\", \"NONE\"], \"range\": [\"rgb(211.82745098039214, 211.82745098039214, 211.82745098039214, 256.0)\", \"rgb(166.98562091503268, 229.89803921568628, 166.98562091503268, 256.0)\", \"rgb(96.37647058823529, 192.75294117647059, 96.37647058823529, 256.0)\", \"rgb(0.0, 100.3921568627451, 0.0, 256.0)\"]}}, \"x\": {\"type\": \"nominal\", \"field\": \"author\"}, \"y\": {\"type\": \"quantitative\", \"field\": \"n_first_responses\"}}, \"title\": \"Top 50 first responders for jupyterhub in the last 31 days\", \"width\": 1000}, {\"data\": {\"name\": \"data-f2dad759291bbc2a61c7441915e1d983\"}, \"mark\": \"bar\", \"encoding\": {\"color\": {\"type\": \"nominal\", \"field\": \"authorAssociation\", \"scale\": {\"domain\": [\"MEMBER\", \"CONTRIBUTOR\", \"COLLABORATOR\", \"NONE\"], \"range\": [\"rgb(211.82745098039214, 211.82745098039214, 211.82745098039214, 256.0)\", \"rgb(166.98562091503268, 229.89803921568628, 166.98562091503268, 256.0)\", \"rgb(96.37647058823529, 192.75294117647059, 96.37647058823529, 256.0)\", \"rgb(0.0, 100.3921568627451, 0.0, 256.0)\"]}}, \"x\": {\"type\": \"nominal\", \"field\": \"author\"}, \"y\": {\"type\": \"quantitative\", \"field\": \"n_first_responses\"}}, \"title\": \"Top 50 first responders for jupyterlab in the last 31 days\", \"width\": 1000}], \"$schema\": \"https://vega.github.io/schema/vega-lite/v3.4.0.json\", \"datasets\": {\"data-64aa0c9a34e0425ca5cd0418d38ae319\": [{\"author\": \"choldgraf\", \"n_first_responses\": 1, \"authorAssociation\": \"MEMBER\"}], \"data-db20c13a8305b2fe6a3bc681f7d91492\": [{\"author\": \"Carreau\", \"n_first_responses\": 13, \"authorAssociation\": \"MEMBER\"}, {\"author\": \"minrk\", \"n_first_responses\": 3, \"authorAssociation\": \"MEMBER\"}, {\"author\": \"blink1073\", \"n_first_responses\": 3, \"authorAssociation\": \"MEMBER\"}, {\"author\": \"palxex\", \"n_first_responses\": 2, \"authorAssociation\": \"NONE\"}, {\"author\": \"MSeal\", \"n_first_responses\": 2, \"authorAssociation\": \"CONTRIBUTOR\"}, {\"author\": \"AbhinavBangia\", \"n_first_responses\": 1, \"authorAssociation\": \"NONE\"}, {\"author\": \"jrolfsen\", \"n_first_responses\": 1, \"authorAssociation\": \"NONE\"}, {\"author\": \"karan-gill\", \"n_first_responses\": 1, \"authorAssociation\": \"NONE\"}, {\"author\": \"kevin-bates\", \"n_first_responses\": 1, \"authorAssociation\": \"CONTRIBUTOR\"}, {\"author\": \"krinsman\", \"n_first_responses\": 1, \"authorAssociation\": \"CONTRIBUTOR\"}, {\"author\": \"letoncse\", \"n_first_responses\": 1, \"authorAssociation\": \"NONE\"}, {\"author\": \"nouiz\", \"n_first_responses\": 1, \"authorAssociation\": \"NONE\"}, {\"author\": \"partha1968\", \"n_first_responses\": 1, \"authorAssociation\": \"NONE\"}, {\"author\": \"gustavosaume\", \"n_first_responses\": 1, \"authorAssociation\": \"NONE\"}, {\"author\": \"paulochf\", \"n_first_responses\": 1, \"authorAssociation\": \"NONE\"}, {\"author\": \"rmorshea\", \"n_first_responses\": 1, \"authorAssociation\": \"COLLABORATOR\"}, {\"author\": \"soxofaan\", \"n_first_responses\": 1, \"authorAssociation\": \"NONE\"}, {\"author\": \"terrdavis\", \"n_first_responses\": 1, \"authorAssociation\": \"CONTRIBUTOR\"}, {\"author\": \"texadactyl\", \"n_first_responses\": 1, \"authorAssociation\": \"NONE\"}, {\"author\": \"vishakadsg\", \"n_first_responses\": 1, \"authorAssociation\": \"NONE\"}, {\"author\": \"willingc\", \"n_first_responses\": 1, \"authorAssociation\": \"MEMBER\"}, {\"author\": \"jhayes-py\", \"n_first_responses\": 1, \"authorAssociation\": \"NONE\"}, {\"author\": \"farisachugthai\", \"n_first_responses\": 1, \"authorAssociation\": \"NONE\"}, {\"author\": \"freedomtowin\", \"n_first_responses\": 1, \"authorAssociation\": \"NONE\"}, {\"author\": \"adam-m-c\", \"n_first_responses\": 1, \"authorAssociation\": \"NONE\"}, {\"author\": \"ChrisPalmerNZ\", \"n_first_responses\": 1, \"authorAssociation\": \"NONE\"}, {\"author\": \"Hubro\", \"n_first_responses\": 1, \"authorAssociation\": \"NONE\"}, {\"author\": \"MaximZemskov\", \"n_first_responses\": 1, \"authorAssociation\": \"NONE\"}, {\"author\": \"Miladiouss\", \"n_first_responses\": 1, \"authorAssociation\": \"NONE\"}, {\"author\": \"Shaam93\", \"n_first_responses\": 1, \"authorAssociation\": \"NONE\"}, {\"author\": \"ShapingView\", \"n_first_responses\": 1, \"authorAssociation\": \"NONE\"}, {\"author\": \"Uiuran\", \"n_first_responses\": 1, \"authorAssociation\": \"NONE\"}, {\"author\": \"asishm\", \"n_first_responses\": 1, \"authorAssociation\": \"NONE\"}, {\"author\": \"AnupBS28\", \"n_first_responses\": 1, \"authorAssociation\": \"NONE\"}, {\"author\": \"ccordoba12\", \"n_first_responses\": 1, \"authorAssociation\": \"MEMBER\"}, {\"author\": \"cycomanic\", \"n_first_responses\": 1, \"authorAssociation\": \"NONE\"}, {\"author\": \"daharn\", \"n_first_responses\": 1, \"authorAssociation\": \"CONTRIBUTOR\"}, {\"author\": \"davidhalter\", \"n_first_responses\": 1, \"authorAssociation\": \"NONE\"}, {\"author\": \"dlukes\", \"n_first_responses\": 1, \"authorAssociation\": \"NONE\"}, {\"author\": \"dragoljub\", \"n_first_responses\": 1, \"authorAssociation\": \"NONE\"}, {\"author\": \"epogrebnyak\", \"n_first_responses\": 1, \"authorAssociation\": \"NONE\"}, {\"author\": \"yashk2810\", \"n_first_responses\": 1, \"authorAssociation\": \"NONE\"}], \"data-fb10e6f78647b97d915f432a56afdd15\": [{\"author\": \"t-makaro\", \"n_first_responses\": 42, \"authorAssociation\": \"COLLABORATOR\"}, {\"author\": \"jhamrick\", \"n_first_responses\": 19, \"authorAssociation\": \"MEMBER\"}, {\"author\": \"choldgraf\", \"n_first_responses\": 19, \"authorAssociation\": \"MEMBER\"}, {\"author\": \"MSeal\", \"n_first_responses\": 13, \"authorAssociation\": \"MEMBER\"}, {\"author\": \"vidartf\", \"n_first_responses\": 12, \"authorAssociation\": \"COLLABORATOR\"}, {\"author\": \"Zsailer\", \"n_first_responses\": 11, \"authorAssociation\": \"MEMBER\"}, {\"author\": \"parente\", \"n_first_responses\": 10, \"authorAssociation\": \"MEMBER\"}, {\"author\": \"kevin-bates\", \"n_first_responses\": 10, \"authorAssociation\": \"MEMBER\"}, {\"author\": \"betatim\", \"n_first_responses\": 9, \"authorAssociation\": \"MEMBER\"}, {\"author\": \"rkdarst\", \"n_first_responses\": 8, \"authorAssociation\": \"CONTRIBUTOR\"}, {\"author\": \"ccordoba12\", \"n_first_responses\": 7, \"authorAssociation\": \"COLLABORATOR\"}, {\"author\": \"jasongrout\", \"n_first_responses\": 5, \"authorAssociation\": \"MEMBER\"}, {\"author\": \"brando90\", \"n_first_responses\": 4, \"authorAssociation\": \"NONE\"}, {\"author\": \"rolweber\", \"n_first_responses\": 3, \"authorAssociation\": \"COLLABORATOR\"}, {\"author\": \"bthayer2365\", \"n_first_responses\": 3, \"authorAssociation\": \"NONE\"}, {\"author\": \"adriendelsalle\", \"n_first_responses\": 3, \"authorAssociation\": \"NONE\"}, {\"author\": \"emdupre\", \"n_first_responses\": 2, \"authorAssociation\": \"COLLABORATOR\"}, {\"author\": \"dm-wyncode\", \"n_first_responses\": 2, \"authorAssociation\": \"CONTRIBUTOR\"}, {\"author\": \"SylvainCorlay\", \"n_first_responses\": 2, \"authorAssociation\": \"MEMBER\"}, {\"author\": \"lmeyerov\", \"n_first_responses\": 2, \"authorAssociation\": \"NONE\"}, {\"author\": \"camporeale\", \"n_first_responses\": 2, \"authorAssociation\": \"NONE\"}, {\"author\": \"impact27\", \"n_first_responses\": 2, \"authorAssociation\": \"CONTRIBUTOR\"}, {\"author\": \"sigurdurb\", \"n_first_responses\": 2, \"authorAssociation\": \"CONTRIBUTOR\"}, {\"author\": \"akhmerov\", \"n_first_responses\": 2, \"authorAssociation\": \"MEMBER\"}, {\"author\": \"lresende\", \"n_first_responses\": 2, \"authorAssociation\": \"MEMBER\"}, {\"author\": \"turkialjrees\", \"n_first_responses\": 2, \"authorAssociation\": \"NONE\"}, {\"author\": \"tbhaxor\", \"n_first_responses\": 1, \"authorAssociation\": \"NONE\"}, {\"author\": \"mczxy\", \"n_first_responses\": 1, \"authorAssociation\": \"NONE\"}, {\"author\": \"minrk\", \"n_first_responses\": 1, \"authorAssociation\": \"MEMBER\"}, {\"author\": \"mkzia\", \"n_first_responses\": 1, \"authorAssociation\": \"NONE\"}, {\"author\": \"mohitpandey92\", \"n_first_responses\": 1, \"authorAssociation\": \"NONE\"}, {\"author\": \"mrdragonbear\", \"n_first_responses\": 1, \"authorAssociation\": \"NONE\"}, {\"author\": \"murhum1\", \"n_first_responses\": 1, \"authorAssociation\": \"NONE\"}, {\"author\": \"mwouts\", \"n_first_responses\": 1, \"authorAssociation\": \"NONE\"}, {\"author\": \"nareshsankapelly\", \"n_first_responses\": 1, \"authorAssociation\": \"CONTRIBUTOR\"}, {\"author\": \"njwag\", \"n_first_responses\": 1, \"authorAssociation\": \"NONE\"}, {\"author\": \"nosratullah\", \"n_first_responses\": 1, \"authorAssociation\": \"NONE\"}, {\"author\": \"nscozzaro\", \"n_first_responses\": 1, \"authorAssociation\": \"NONE\"}, {\"author\": \"oronimbus\", \"n_first_responses\": 1, \"authorAssociation\": \"NONE\"}, {\"author\": \"pandeykartikey\", \"n_first_responses\": 1, \"authorAssociation\": \"NONE\"}, {\"author\": \"willingc\", \"n_first_responses\": 1, \"authorAssociation\": \"MEMBER\"}, {\"author\": \"pankaj-kvhld\", \"n_first_responses\": 1, \"authorAssociation\": \"NONE\"}, {\"author\": \"xapple\", \"n_first_responses\": 1, \"authorAssociation\": \"NONE\"}, {\"author\": \"xxlest\", \"n_first_responses\": 1, \"authorAssociation\": \"NONE\"}, {\"author\": \"pat-s\", \"n_first_responses\": 1, \"authorAssociation\": \"NONE\"}, {\"author\": \"maximillianus\", \"n_first_responses\": 1, \"authorAssociation\": \"NONE\"}, {\"author\": \"mattc-eostar\", \"n_first_responses\": 1, \"authorAssociation\": \"NONE\"}, {\"author\": \"yusosov\", \"n_first_responses\": 1, \"authorAssociation\": \"NONE\"}, {\"author\": \"masip85\", \"n_first_responses\": 1, \"authorAssociation\": \"NONE\"}, {\"author\": \"martinagvilas\", \"n_first_responses\": 1, \"authorAssociation\": \"CONTRIBUTOR\"}], \"data-a869e9bd74ec084076bf0a86afcbaab4\": [{\"author\": \"jasongrout\", \"n_first_responses\": 10, \"authorAssociation\": \"MEMBER\"}, {\"author\": \"vidartf\", \"n_first_responses\": 3, \"authorAssociation\": \"MEMBER\"}, {\"author\": \"martinRenou\", \"n_first_responses\": 3, \"authorAssociation\": \"MEMBER\"}, {\"author\": \"hainm\", \"n_first_responses\": 3, \"authorAssociation\": \"NONE\"}, {\"author\": \"AaronWatters\", \"n_first_responses\": 1, \"authorAssociation\": \"CONTRIBUTOR\"}, {\"author\": \"toddrme2178\", \"n_first_responses\": 1, \"authorAssociation\": \"CONTRIBUTOR\"}, {\"author\": \"timkpaine\", \"n_first_responses\": 1, \"authorAssociation\": \"CONTRIBUTOR\"}, {\"author\": \"tgrout\", \"n_first_responses\": 1, \"authorAssociation\": \"CONTRIBUTOR\"}, {\"author\": \"markiemarkus\", \"n_first_responses\": 1, \"authorAssociation\": \"NONE\"}, {\"author\": \"marketneutral\", \"n_first_responses\": 1, \"authorAssociation\": \"NONE\"}, {\"author\": \"maartenbreddels\", \"n_first_responses\": 1, \"authorAssociation\": \"MEMBER\"}, {\"author\": \"jetheurer\", \"n_first_responses\": 1, \"authorAssociation\": \"NONE\"}, {\"author\": \"jaladh-singhal\", \"n_first_responses\": 1, \"authorAssociation\": \"NONE\"}, {\"author\": \"IssamLaradji\", \"n_first_responses\": 1, \"authorAssociation\": \"NONE\"}, {\"author\": \"iamdamion\", \"n_first_responses\": 1, \"authorAssociation\": \"NONE\"}, {\"author\": \"gemmavnash\", \"n_first_responses\": 1, \"authorAssociation\": \"NONE\"}, {\"author\": \"e-lo\", \"n_first_responses\": 1, \"authorAssociation\": \"NONE\"}, {\"author\": \"dprophet\", \"n_first_responses\": 1, \"authorAssociation\": \"NONE\"}, {\"author\": \"dhairyagandhi96\", \"n_first_responses\": 1, \"authorAssociation\": \"NONE\"}, {\"author\": \"chaffra\", \"n_first_responses\": 1, \"authorAssociation\": \"NONE\"}, {\"author\": \"blois\", \"n_first_responses\": 1, \"authorAssociation\": \"CONTRIBUTOR\"}, {\"author\": \"acelere\", \"n_first_responses\": 1, \"authorAssociation\": \"NONE\"}, {\"author\": \"SylvainCorlay\", \"n_first_responses\": 1, \"authorAssociation\": \"MEMBER\"}, {\"author\": \"zerline\", \"n_first_responses\": 1, \"authorAssociation\": \"CONTRIBUTOR\"}], \"data-27c40aeeff8337222c8bb92c163eb899\": [{\"author\": \"betatim\", \"n_first_responses\": 45, \"authorAssociation\": \"MEMBER\"}, {\"author\": \"GeorgianaElena\", \"n_first_responses\": 25, \"authorAssociation\": \"MEMBER\"}, {\"author\": \"ryogesh\", \"n_first_responses\": 11, \"authorAssociation\": \"CONTRIBUTOR\"}, {\"author\": \"manics\", \"n_first_responses\": 10, \"authorAssociation\": \"MEMBER\"}, {\"author\": \"minrk\", \"n_first_responses\": 9, \"authorAssociation\": \"MEMBER\"}, {\"author\": \"choldgraf\", \"n_first_responses\": 8, \"authorAssociation\": \"MEMBER\"}, {\"author\": \"consideRatio\", \"n_first_responses\": 8, \"authorAssociation\": \"MEMBER\"}, {\"author\": \"wqh17101\", \"n_first_responses\": 7, \"authorAssociation\": \"NONE\"}, {\"author\": \"ablekh\", \"n_first_responses\": 3, \"authorAssociation\": \"NONE\"}, {\"author\": \"dmpe\", \"n_first_responses\": 3, \"authorAssociation\": \"NONE\"}, {\"author\": \"nscozzaro\", \"n_first_responses\": 3, \"authorAssociation\": \"NONE\"}, {\"author\": \"clkao\", \"n_first_responses\": 3, \"authorAssociation\": \"CONTRIBUTOR\"}, {\"author\": \"leportella\", \"n_first_responses\": 3, \"authorAssociation\": \"COLLABORATOR\"}, {\"author\": \"mathematicalmichael\", \"n_first_responses\": 3, \"authorAssociation\": \"NONE\"}, {\"author\": \"mattjshannon\", \"n_first_responses\": 2, \"authorAssociation\": \"CONTRIBUTOR\"}, {\"author\": \"turkialjrees\", \"n_first_responses\": 2, \"authorAssociation\": \"NONE\"}, {\"author\": \"BobCashStory\", \"n_first_responses\": 2, \"authorAssociation\": \"NONE\"}, {\"author\": \"sgibson91\", \"n_first_responses\": 2, \"authorAssociation\": \"MEMBER\"}, {\"author\": \"wierzba3\", \"n_first_responses\": 2, \"authorAssociation\": \"NONE\"}, {\"author\": \"dbricare\", \"n_first_responses\": 2, \"authorAssociation\": \"NONE\"}, {\"author\": \"ryanlovett\", \"n_first_responses\": 2, \"authorAssociation\": \"MEMBER\"}, {\"author\": \"wlyu\", \"n_first_responses\": 2, \"authorAssociation\": \"NONE\"}, {\"author\": \"GergelyKalmar\", \"n_first_responses\": 2, \"authorAssociation\": \"NONE\"}, {\"author\": \"yuvipanda\", \"n_first_responses\": 2, \"authorAssociation\": \"MEMBER\"}, {\"author\": \"mghatiy\", \"n_first_responses\": 1, \"authorAssociation\": \"NONE\"}, {\"author\": \"Ashish7989\", \"n_first_responses\": 1, \"authorAssociation\": \"NONE\"}, {\"author\": \"m-alekseev\", \"n_first_responses\": 1, \"authorAssociation\": \"NONE\"}, {\"author\": \"lshailendra\", \"n_first_responses\": 1, \"authorAssociation\": \"NONE\"}, {\"author\": \"moorepants\", \"n_first_responses\": 1, \"authorAssociation\": \"NONE\"}, {\"author\": \"limimiking\", \"n_first_responses\": 1, \"authorAssociation\": \"NONE\"}, {\"author\": \"lheagy\", \"n_first_responses\": 1, \"authorAssociation\": \"MEMBER\"}, {\"author\": \"lgonzalezsa\", \"n_first_responses\": 1, \"authorAssociation\": \"NONE\"}, {\"author\": \"lesteve\", \"n_first_responses\": 1, \"authorAssociation\": \"NONE\"}, {\"author\": \"kuan51\", \"n_first_responses\": 1, \"authorAssociation\": \"NONE\"}, {\"author\": \"kramstrom\", \"n_first_responses\": 1, \"authorAssociation\": \"NONE\"}, {\"author\": \"mirestrepo\", \"n_first_responses\": 1, \"authorAssociation\": \"NONE\"}, {\"author\": \"osvaldogc\", \"n_first_responses\": 1, \"authorAssociation\": \"NONE\"}, {\"author\": \"nick-brady\", \"n_first_responses\": 1, \"authorAssociation\": \"NONE\"}, {\"author\": \"nimengliusha\", \"n_first_responses\": 1, \"authorAssociation\": \"NONE\"}, {\"author\": \"willingc\", \"n_first_responses\": 1, \"authorAssociation\": \"MEMBER\"}, {\"author\": \"vnijs\", \"n_first_responses\": 1, \"authorAssociation\": \"NONE\"}, {\"author\": \"vindvaki\", \"n_first_responses\": 1, \"authorAssociation\": \"NONE\"}, {\"author\": \"vinayjain15\", \"n_first_responses\": 1, \"authorAssociation\": \"NONE\"}, {\"author\": \"vhaldemar\", \"n_first_responses\": 1, \"authorAssociation\": \"NONE\"}, {\"author\": \"sqqqrly\", \"n_first_responses\": 1, \"authorAssociation\": \"NONE\"}, {\"author\": \"shankari\", \"n_first_responses\": 1, \"authorAssociation\": \"NONE\"}, {\"author\": \"sauerburger\", \"n_first_responses\": 1, \"authorAssociation\": \"NONE\"}, {\"author\": \"rmahajan2420\", \"n_first_responses\": 1, \"authorAssociation\": \"NONE\"}, {\"author\": \"rkdarst\", \"n_first_responses\": 1, \"authorAssociation\": \"COLLABORATOR\"}, {\"author\": \"riazarbi\", \"n_first_responses\": 1, \"authorAssociation\": \"NONE\"}], \"data-f2dad759291bbc2a61c7441915e1d983\": [{\"author\": \"lock\", \"n_first_responses\": 162, \"authorAssociation\": \"NONE\"}, {\"author\": \"jasongrout\", \"n_first_responses\": 82, \"authorAssociation\": \"MEMBER\"}, {\"author\": \"blink1073\", \"n_first_responses\": 33, \"authorAssociation\": \"MEMBER\"}, {\"author\": \"vidartf\", \"n_first_responses\": 17, \"authorAssociation\": \"MEMBER\"}, {\"author\": \"jtpio\", \"n_first_responses\": 14, \"authorAssociation\": \"MEMBER\"}, {\"author\": \"telamonian\", \"n_first_responses\": 13, \"authorAssociation\": \"MEMBER\"}, {\"author\": \"jaipreet-s\", \"n_first_responses\": 9, \"authorAssociation\": \"MEMBER\"}, {\"author\": \"saulshanabrook\", \"n_first_responses\": 9, \"authorAssociation\": \"MEMBER\"}, {\"author\": \"afshin\", \"n_first_responses\": 6, \"authorAssociation\": \"MEMBER\"}, {\"author\": \"krassowski\", \"n_first_responses\": 5, \"authorAssociation\": \"MEMBER\"}, {\"author\": \"remborg\", \"n_first_responses\": 3, \"authorAssociation\": \"NONE\"}, {\"author\": \"ktaletsk\", \"n_first_responses\": 3, \"authorAssociation\": \"NONE\"}, {\"author\": \"ian-r-rose\", \"n_first_responses\": 3, \"authorAssociation\": \"MEMBER\"}, {\"author\": \"fcollonval\", \"n_first_responses\": 3, \"authorAssociation\": \"MEMBER\"}, {\"author\": \"wqh17101\", \"n_first_responses\": 3, \"authorAssociation\": \"NONE\"}, {\"author\": \"dhirschfeld\", \"n_first_responses\": 2, \"authorAssociation\": \"MEMBER\"}, {\"author\": \"kenahoo\", \"n_first_responses\": 2, \"authorAssociation\": \"NONE\"}, {\"author\": \"agoose77\", \"n_first_responses\": 2, \"authorAssociation\": \"MEMBER\"}, {\"author\": \"gogasca\", \"n_first_responses\": 2, \"authorAssociation\": \"NONE\"}, {\"author\": \"madsi1m\", \"n_first_responses\": 2, \"authorAssociation\": \"NONE\"}, {\"author\": \"hoangthienan95\", \"n_first_responses\": 2, \"authorAssociation\": \"NONE\"}, {\"author\": \"mnancel\", \"n_first_responses\": 2, \"authorAssociation\": \"NONE\"}, {\"author\": \"rd5802\", \"n_first_responses\": 2, \"authorAssociation\": \"NONE\"}, {\"author\": \"nicorikken\", \"n_first_responses\": 2, \"authorAssociation\": \"CONTRIBUTOR\"}, {\"author\": \"daejong123\", \"n_first_responses\": 2, \"authorAssociation\": \"NONE\"}, {\"author\": \"RickWalker\", \"n_first_responses\": 1, \"authorAssociation\": \"NONE\"}, {\"author\": \"ruslanrf\", \"n_first_responses\": 1, \"authorAssociation\": \"NONE\"}, {\"author\": \"IMAM9AIS\", \"n_first_responses\": 1, \"authorAssociation\": \"MEMBER\"}, {\"author\": \"rejscotia\", \"n_first_responses\": 1, \"authorAssociation\": \"NONE\"}, {\"author\": \"rcthomas\", \"n_first_responses\": 1, \"authorAssociation\": \"NONE\"}, {\"author\": \"ned2\", \"n_first_responses\": 1, \"authorAssociation\": \"NONE\"}, {\"author\": \"prabhu1984\", \"n_first_responses\": 1, \"authorAssociation\": \"NONE\"}, {\"author\": \"scollis\", \"n_first_responses\": 1, \"authorAssociation\": \"NONE\"}, {\"author\": \"nanchenchen\", \"n_first_responses\": 1, \"authorAssociation\": \"NONE\"}, {\"author\": \"malramsay64\", \"n_first_responses\": 1, \"authorAssociation\": \"NONE\"}, {\"author\": \"JohnOmernik\", \"n_first_responses\": 1, \"authorAssociation\": \"NONE\"}, {\"author\": \"kwlzn\", \"n_first_responses\": 1, \"authorAssociation\": \"NONE\"}, {\"author\": \"JustinMoser\", \"n_first_responses\": 1, \"authorAssociation\": \"NONE\"}, {\"author\": \"krvkir\", \"n_first_responses\": 1, \"authorAssociation\": \"NONE\"}, {\"author\": \"EvelyneC\", \"n_first_responses\": 1, \"authorAssociation\": \"NONE\"}, {\"author\": \"st-bender\", \"n_first_responses\": 1, \"authorAssociation\": \"NONE\"}, {\"author\": \"scopatz\", \"n_first_responses\": 1, \"authorAssociation\": \"CONTRIBUTOR\"}, {\"author\": \"timkpaine\", \"n_first_responses\": 1, \"authorAssociation\": \"MEMBER\"}, {\"author\": \"wolfv\", \"n_first_responses\": 1, \"authorAssociation\": \"MEMBER\"}, {\"author\": \"wkzhu\", \"n_first_responses\": 1, \"authorAssociation\": \"NONE\"}, {\"author\": \"williamstein\", \"n_first_responses\": 1, \"authorAssociation\": \"NONE\"}, {\"author\": \"wesinator\", \"n_first_responses\": 1, \"authorAssociation\": \"NONE\"}, {\"author\": \"vincent770\", \"n_first_responses\": 1, \"authorAssociation\": \"NONE\"}, {\"author\": \"DraTeots\", \"n_first_responses\": 1, \"authorAssociation\": \"NONE\"}, {\"author\": \"usou\", \"n_first_responses\": 1, \"authorAssociation\": \"NONE\"}]}};\n",
       "      var embedOpt = {\"mode\": \"vega-lite\"};\n",
       "\n",
       "      function showError(el, error){\n",
       "          el.innerHTML = ('<div class=\"error\" style=\"color:red;\">'\n",
       "                          + '<p>JavaScript Error: ' + error.message + '</p>'\n",
       "                          + \"<p>This usually means there's a typo in your chart specification. \"\n",
       "                          + \"See the javascript console for the full traceback.</p>\"\n",
       "                          + '</div>');\n",
       "          throw error;\n",
       "      }\n",
       "      const el = document.getElementById('altair-viz-9');\n",
       "      vegaEmbed(\"#altair-viz-9\", spec, embedOpt)\n",
       "        .catch(error => showError(el, error));\n",
       "    });\n",
       "\n",
       "  </script>"
      ],
      "text/plain": [
       "alt.HConcatChart(...)"
      ]
     },
     "execution_count": 32,
     "metadata": {},
     "output_type": "execute_result"
    }
   ],
   "source": [
    "n_plot = 50\n",
    "charts = []\n",
    "for ii, (iorg, idata) in enumerate(first_responder_counts.groupby(['org'])):\n",
    "    title = f\"Top {n_plot} first responders for {iorg} in the last {n_days} days\"\n",
    "    idata = idata.groupby('author', as_index=False).agg({'n_first_responses': 'sum', 'authorAssociation': 'first'})\n",
    "    idata = idata.sort_values('n_first_responses', ascending=False).head(n_plot)\n",
    "    ch = alt.Chart(data=idata.head(n_plot), width=1000, title=title).mark_bar().encode(\n",
    "        x='author',\n",
    "        y='n_first_responses',\n",
    "        color=alt.Color('authorAssociation', scale=alt.Scale(domain=author_types, range=author_colors))\n",
    "    )\n",
    "    charts.append(ch)\n",
    "alt.hconcat(*charts)"
   ]
  },
  {
   "cell_type": "code",
   "execution_count": 33,
   "metadata": {
    "papermill": {
     "duration": 0.045016,
     "end_time": "2019-12-01T17:51:49.022464",
     "exception": false,
     "start_time": "2019-12-01T17:51:48.977448",
     "status": "completed"
    },
    "tags": []
   },
   "outputs": [
    {
     "data": {
      "text/html": [
       "<script src=\"https://cdn.rawgit.com/parente/4c3e6936d0d7a46fd071/raw/65b816fb9bdd3c28b4ddf3af602bfd6015486383/code_toggle.js\"></script>\n"
      ],
      "text/plain": [
       "<IPython.core.display.HTML object>"
      ]
     },
     "metadata": {},
     "output_type": "display_data"
    }
   ],
   "source": [
    "%%html\n",
    "<script src=\"https://cdn.rawgit.com/parente/4c3e6936d0d7a46fd071/raw/65b816fb9bdd3c28b4ddf3af602bfd6015486383/code_toggle.js\"></script>"
   ]
  }
 ],
 "metadata": {
  "kernelspec": {
   "display_name": "Python 3",
   "language": "python",
   "name": "python3"
  },
  "language_info": {
   "codemirror_mode": {
    "name": "ipython",
    "version": 3
   },
   "file_extension": ".py",
   "mimetype": "text/x-python",
   "name": "python",
   "nbconvert_exporter": "python",
   "pygments_lexer": "ipython3",
   "version": "3.7.3"
  },
  "papermill": {
   "duration": 10.388687,
   "end_time": "2019-12-01T17:51:49.470781",
   "environment_variables": {},
   "exception": null,
   "input_path": "./templates/github.ipynb",
   "output_path": "./reports/monthly/2019-08-01-2019-09-01/github.ipynb",
   "parameters": {
    "end_date": "2019-09-01",
    "github_orgs": [
     "jupyterhub",
     "jupyter",
     "jupyterlab",
     "jupyter-widgets",
     "ipython",
     "binder-examples"
    ],
    "renderer": "kaggle",
    "start_date": "2019-08-01"
   },
   "start_time": "2019-12-01T17:51:39.082094",
   "version": "1.2.1"
  },
  "widgets": {
   "application/vnd.jupyter.widget-state+json": {
    "state": {
     "011171c208e641d8bf34ddb7eb7f9bc4": {
      "model_module": "@jupyter-widgets/controls",
      "model_module_version": "1.5.0",
      "model_name": "HTMLModel",
      "state": {
       "_dom_classes": [],
       "_model_module": "@jupyter-widgets/controls",
       "_model_module_version": "1.5.0",
       "_model_name": "HTMLModel",
       "_view_count": null,
       "_view_module": "@jupyter-widgets/controls",
       "_view_module_version": "1.5.0",
       "_view_name": "HTMLView",
       "description": "",
       "description_tooltip": null,
       "layout": "IPY_MODEL_34207aef91f04d3fa42040f90d32bf7a",
       "placeholder": "​",
       "style": "IPY_MODEL_34029a5fa793482cbcf2f2c19203e431",
       "value": "<h4>binder-examples</h4>\n<h5><a href=\"https://github.com/binder-examples/requirements\">binder-examples/requirements</a></h5>"
      }
     },
     "081082a9bd844311913671984d13cc18": {
      "model_module": "@jupyter-widgets/base",
      "model_module_version": "1.2.0",
      "model_name": "LayoutModel",
      "state": {
       "_model_module": "@jupyter-widgets/base",
       "_model_module_version": "1.2.0",
       "_model_name": "LayoutModel",
       "_view_count": null,
       "_view_module": "@jupyter-widgets/base",
       "_view_module_version": "1.2.0",
       "_view_name": "LayoutView",
       "align_content": null,
       "align_items": null,
       "align_self": null,
       "border": null,
       "bottom": null,
       "display": null,
       "flex": null,
       "flex_flow": null,
       "grid_area": null,
       "grid_auto_columns": null,
       "grid_auto_flow": null,
       "grid_auto_rows": null,
       "grid_column": null,
       "grid_gap": null,
       "grid_row": null,
       "grid_template_areas": null,
       "grid_template_columns": null,
       "grid_template_rows": null,
       "height": null,
       "justify_content": null,
       "justify_items": null,
       "left": null,
       "margin": null,
       "max_height": null,
       "max_width": null,
       "min_height": null,
       "min_width": null,
       "object_fit": null,
       "object_position": null,
       "order": null,
       "overflow": null,
       "overflow_x": null,
       "overflow_y": null,
       "padding": null,
       "right": null,
       "top": null,
       "visibility": null,
       "width": null
      }
     },
     "0ff55f396c7743798f4933754eb55924": {
      "model_module": "@jupyter-widgets/controls",
      "model_module_version": "1.5.0",
      "model_name": "DescriptionStyleModel",
      "state": {
       "_model_module": "@jupyter-widgets/controls",
       "_model_module_version": "1.5.0",
       "_model_name": "DescriptionStyleModel",
       "_view_count": null,
       "_view_module": "@jupyter-widgets/base",
       "_view_module_version": "1.2.0",
       "_view_name": "StyleView",
       "description_width": ""
      }
     },
     "11c8fe4cd0134f46a06579fe2ed3090e": {
      "model_module": "@jupyter-widgets/controls",
      "model_module_version": "1.5.0",
      "model_name": "DescriptionStyleModel",
      "state": {
       "_model_module": "@jupyter-widgets/controls",
       "_model_module_version": "1.5.0",
       "_model_name": "DescriptionStyleModel",
       "_view_count": null,
       "_view_module": "@jupyter-widgets/base",
       "_view_module_version": "1.2.0",
       "_view_name": "StyleView",
       "description_width": ""
      }
     },
     "12e859a9991a47ea9deef3ce1d3f07bd": {
      "model_module": "@jupyter-widgets/controls",
      "model_module_version": "1.5.0",
      "model_name": "HTMLModel",
      "state": {
       "_dom_classes": [],
       "_model_module": "@jupyter-widgets/controls",
       "_model_module_version": "1.5.0",
       "_model_name": "HTMLModel",
       "_view_count": null,
       "_view_module": "@jupyter-widgets/controls",
       "_view_module_version": "1.5.0",
       "_view_name": "HTMLView",
       "description": "",
       "description_tooltip": null,
       "layout": "IPY_MODEL_887c66ccccf840eba91d0712628a329d",
       "placeholder": "​",
       "style": "IPY_MODEL_4c9b84d5501a4faf9ef6970aa3bf54e9",
       "value": "<h4>Closed PRs for org: <code>ipython</code></h4>\n<h5><a href=\"https://github.com/ipython/ipykernel\">ipython/ipykernel</a></h5>\n<ul>\n<li><a href=\"https://github.com/ipython/ipykernel/pull/426\">(#426)</a>: <em>Rename _asyncio.py to _asyncio_utils.py to avoid name conflicts on Python 3.6+</em> by <strong><a href=\"https://github.com/edisongustavo\">@edisongustavo</a></strong> merged by <strong><a href=\"https://github.com/blink1073\">@blink1073</a></strong></li>\n<li><a href=\"https://github.com/ipython/ipykernel/pull/425\">(#425)</a>: <em>Only generate kernelspec when installing or building wheel</em> by <strong><a href=\"https://github.com/SylvainCorlay\">@SylvainCorlay</a></strong> merged by <strong><a href=\"https://github.com/SylvainCorlay\">@SylvainCorlay</a></strong></li>\n<li><a href=\"https://github.com/ipython/ipykernel/pull/421\">(#421)</a>: <em>Add changelog for 5.1.2</em> by <strong><a href=\"https://github.com/willingc\">@willingc</a></strong> merged by <strong><a href=\"https://github.com/blink1073\">@blink1073</a></strong></li>\n<li><a href=\"https://github.com/ipython/ipykernel/pull/419\">(#419)</a>: <em>Further cleanup on shutdown</em> by <strong><a href=\"https://github.com/minrk\">@minrk</a></strong> merged by <strong><a href=\"https://github.com/blink1073\">@blink1073</a></strong></li>\n</ul>\n<h5><a href=\"https://github.com/ipython/ipython\">ipython/ipython</a></h5>\n<ul>\n<li><a href=\"https://github.com/ipython/ipython/pull/11859\">(#11859)</a>: <em>Expose pdb.Pdb API</em> by <strong><a href=\"https://github.com/terrdavis\">@terrdavis</a></strong> merged by <strong><a href=\"https://github.com/Carreau\">@Carreau</a></strong></li>\n<li><a href=\"https://github.com/ipython/ipython/pull/11852\">(#11852)</a>: <em>Fix example usage of BaseFormatter.for_type_by_name.</em> by <strong><a href=\"https://github.com/danielballan\">@danielballan</a></strong> merged by <strong><a href=\"https://github.com/Carreau\">@Carreau</a></strong></li>\n</ul>\n<h5><a href=\"https://github.com/ipython/traitlets\">ipython/traitlets</a></h5>\n<ul>\n<li><a href=\"https://github.com/ipython/traitlets/pull/529\">(#529)</a>: _Minor addition to docs _ by <strong><a href=\"https://github.com/krinsman\">@krinsman</a></strong> merged by <strong><a href=\"https://github.com/rmorshea\">@rmorshea</a></strong></li>\n<li><a href=\"https://github.com/ipython/traitlets/pull/528\">(#528)</a>: <em>Fix formatting.</em> by <strong><a href=\"https://github.com/danielballan\">@danielballan</a></strong> merged by <strong><a href=\"https://github.com/rmorshea\">@rmorshea</a></strong></li>\n</ul>"
      }
     },
     "13a73143131b49f8b07fd1e43cfaad42": {
      "model_module": "@jupyter-widgets/base",
      "model_module_version": "1.2.0",
      "model_name": "LayoutModel",
      "state": {
       "_model_module": "@jupyter-widgets/base",
       "_model_module_version": "1.2.0",
       "_model_name": "LayoutModel",
       "_view_count": null,
       "_view_module": "@jupyter-widgets/base",
       "_view_module_version": "1.2.0",
       "_view_name": "LayoutView",
       "align_content": null,
       "align_items": null,
       "align_self": null,
       "border": null,
       "bottom": null,
       "display": null,
       "flex": null,
       "flex_flow": null,
       "grid_area": null,
       "grid_auto_columns": null,
       "grid_auto_flow": null,
       "grid_auto_rows": null,
       "grid_column": null,
       "grid_gap": null,
       "grid_row": null,
       "grid_template_areas": null,
       "grid_template_columns": null,
       "grid_template_rows": null,
       "height": null,
       "justify_content": null,
       "justify_items": null,
       "left": null,
       "margin": null,
       "max_height": null,
       "max_width": null,
       "min_height": null,
       "min_width": null,
       "object_fit": null,
       "object_position": null,
       "order": null,
       "overflow": null,
       "overflow_x": null,
       "overflow_y": null,
       "padding": null,
       "right": null,
       "top": null,
       "visibility": null,
       "width": null
      }
     },
     "15b0718dc9324644a4a4f2f6c994cd1a": {
      "model_module": "@jupyter-widgets/base",
      "model_module_version": "1.2.0",
      "model_name": "LayoutModel",
      "state": {
       "_model_module": "@jupyter-widgets/base",
       "_model_module_version": "1.2.0",
       "_model_name": "LayoutModel",
       "_view_count": null,
       "_view_module": "@jupyter-widgets/base",
       "_view_module_version": "1.2.0",
       "_view_name": "LayoutView",
       "align_content": null,
       "align_items": null,
       "align_self": null,
       "border": null,
       "bottom": null,
       "display": null,
       "flex": null,
       "flex_flow": null,
       "grid_area": null,
       "grid_auto_columns": null,
       "grid_auto_flow": null,
       "grid_auto_rows": null,
       "grid_column": null,
       "grid_gap": null,
       "grid_row": null,
       "grid_template_areas": null,
       "grid_template_columns": null,
       "grid_template_rows": null,
       "height": null,
       "justify_content": null,
       "justify_items": null,
       "left": null,
       "margin": null,
       "max_height": null,
       "max_width": null,
       "min_height": null,
       "min_width": null,
       "object_fit": null,
       "object_position": null,
       "order": null,
       "overflow": null,
       "overflow_x": null,
       "overflow_y": null,
       "padding": null,
       "right": null,
       "top": null,
       "visibility": null,
       "width": null
      }
     },
     "18da153141b341e6bd47351d89e4e165": {
      "model_module": "@jupyter-widgets/base",
      "model_module_version": "1.2.0",
      "model_name": "LayoutModel",
      "state": {
       "_model_module": "@jupyter-widgets/base",
       "_model_module_version": "1.2.0",
       "_model_name": "LayoutModel",
       "_view_count": null,
       "_view_module": "@jupyter-widgets/base",
       "_view_module_version": "1.2.0",
       "_view_name": "LayoutView",
       "align_content": null,
       "align_items": null,
       "align_self": null,
       "border": null,
       "bottom": null,
       "display": null,
       "flex": null,
       "flex_flow": null,
       "grid_area": null,
       "grid_auto_columns": null,
       "grid_auto_flow": null,
       "grid_auto_rows": null,
       "grid_column": null,
       "grid_gap": null,
       "grid_row": null,
       "grid_template_areas": null,
       "grid_template_columns": null,
       "grid_template_rows": null,
       "height": null,
       "justify_content": null,
       "justify_items": null,
       "left": null,
       "margin": null,
       "max_height": null,
       "max_width": null,
       "min_height": null,
       "min_width": null,
       "object_fit": null,
       "object_position": null,
       "order": null,
       "overflow": null,
       "overflow_x": null,
       "overflow_y": null,
       "padding": null,
       "right": null,
       "top": null,
       "visibility": null,
       "width": null
      }
     },
     "208e3ca5ac3e4bd796ae84bfca0b9cff": {
      "model_module": "@jupyter-widgets/base",
      "model_module_version": "1.2.0",
      "model_name": "LayoutModel",
      "state": {
       "_model_module": "@jupyter-widgets/base",
       "_model_module_version": "1.2.0",
       "_model_name": "LayoutModel",
       "_view_count": null,
       "_view_module": "@jupyter-widgets/base",
       "_view_module_version": "1.2.0",
       "_view_name": "LayoutView",
       "align_content": null,
       "align_items": null,
       "align_self": null,
       "border": null,
       "bottom": null,
       "display": null,
       "flex": null,
       "flex_flow": null,
       "grid_area": null,
       "grid_auto_columns": null,
       "grid_auto_flow": null,
       "grid_auto_rows": null,
       "grid_column": null,
       "grid_gap": null,
       "grid_row": null,
       "grid_template_areas": null,
       "grid_template_columns": null,
       "grid_template_rows": null,
       "height": null,
       "justify_content": null,
       "justify_items": null,
       "left": null,
       "margin": null,
       "max_height": null,
       "max_width": null,
       "min_height": null,
       "min_width": null,
       "object_fit": null,
       "object_position": null,
       "order": null,
       "overflow": null,
       "overflow_x": null,
       "overflow_y": null,
       "padding": null,
       "right": null,
       "top": null,
       "visibility": null,
       "width": null
      }
     },
     "225ff4dfde814eddaf400ec2d1658491": {
      "model_module": "@jupyter-widgets/controls",
      "model_module_version": "1.5.0",
      "model_name": "HTMLModel",
      "state": {
       "_dom_classes": [],
       "_model_module": "@jupyter-widgets/controls",
       "_model_module_version": "1.5.0",
       "_model_name": "HTMLModel",
       "_view_count": null,
       "_view_module": "@jupyter-widgets/controls",
       "_view_module_version": "1.5.0",
       "_view_name": "HTMLView",
       "description": "",
       "description_tooltip": null,
       "layout": "IPY_MODEL_a494c65624314cb3bf6c691665851f5e",
       "placeholder": "​",
       "style": "IPY_MODEL_a6e4fbd35848462bbe136913b06e3658",
       "value": "<center><p><a href=\"https://github.com/AbhinavBangia\">AbhinavBangia</a> | <a href=\"https://github.com/adam-m-c\">adam-m-c</a> | <a href=\"https://github.com/AnupBS28\">AnupBS28</a> | <a href=\"https://github.com/asishm\">asishm</a> | <a href=\"https://github.com/banool\">banool</a> | <a href=\"https://github.com/blink1073\">blink1073</a> | <a href=\"https://github.com/bnaul\">bnaul</a> | <a href=\"https://github.com/Carreau\">Carreau</a> | <a href=\"https://github.com/ccordoba12\">ccordoba12</a> | <a href=\"https://github.com/ChrisPalmerNZ\">ChrisPalmerNZ</a> | <a href=\"https://github.com/connerxyz\">connerxyz</a> | <a href=\"https://github.com/cottrell\">cottrell</a> | <a href=\"https://github.com/cshimmin\">cshimmin</a> | <a href=\"https://github.com/cyberwillis\">cyberwillis</a> | <a href=\"https://github.com/cycomanic\">cycomanic</a> | <a href=\"https://github.com/daharn\">daharn</a> | <a href=\"https://github.com/danielballan\">danielballan</a> | <a href=\"https://github.com/davidhalter\">davidhalter</a> | <a href=\"https://github.com/dlukes\">dlukes</a> | <a href=\"https://github.com/dniku\">dniku</a> | <a href=\"https://github.com/dragoljub\">dragoljub</a> | <a href=\"https://github.com/ebin7joseph\">ebin7joseph</a> | <a href=\"https://github.com/edifang1\">edifang1</a> | <a href=\"https://github.com/edisongustavo\">edisongustavo</a> | <a href=\"https://github.com/ellert\">ellert</a> | <a href=\"https://github.com/epogrebnyak\">epogrebnyak</a> | <a href=\"https://github.com/farisachugthai\">farisachugthai</a> | <a href=\"https://github.com/freedomtowin\">freedomtowin</a> | <a href=\"https://github.com/gbm001\">gbm001</a> | <a href=\"https://github.com/gityou123\">gityou123</a> | <a href=\"https://github.com/gustavosaume\">gustavosaume</a> | <a href=\"https://github.com/Hubro\">Hubro</a> | <a href=\"https://github.com/irvanseptiar\">irvanseptiar</a> | <a href=\"https://github.com/jaib1\">jaib1</a> | <a href=\"https://github.com/jaideep11061982\">jaideep11061982</a> | <a href=\"https://github.com/jhayes-py\">jhayes-py</a> | <a href=\"https://github.com/jrolfsen\">jrolfsen</a> | <a href=\"https://github.com/karan-gill\">karan-gill</a> | <a href=\"https://github.com/kevin-bates\">kevin-bates</a> | <a href=\"https://github.com/krinsman\">krinsman</a> | <a href=\"https://github.com/laoshaw\">laoshaw</a> | <a href=\"https://github.com/letoncse\">letoncse</a> | <a href=\"https://github.com/lewisacidic\">lewisacidic</a> | <a href=\"https://github.com/matthew-brett\">matthew-brett</a> | <a href=\"https://github.com/MaximZemskov\">MaximZemskov</a> | <a href=\"https://github.com/Miladiouss\">Miladiouss</a> | <a href=\"https://github.com/minho42\">minho42</a> | <a href=\"https://github.com/minrk\">minrk</a> | <a href=\"https://github.com/MSeal\">MSeal</a> | <a href=\"https://github.com/nouiz\">nouiz</a> | <a href=\"https://github.com/oscargus\">oscargus</a> | <a href=\"https://github.com/palxex\">palxex</a> | <a href=\"https://github.com/partha1968\">partha1968</a> | <a href=\"https://github.com/paulochf\">paulochf</a> | <a href=\"https://github.com/pikachust8811\">pikachust8811</a> | <a href=\"https://github.com/rmorshea\">rmorshea</a> | <a href=\"https://github.com/rsebbe\">rsebbe</a> | <a href=\"https://github.com/Shaam93\">Shaam93</a> | <a href=\"https://github.com/ShapingView\">ShapingView</a> | <a href=\"https://github.com/silencial\">silencial</a> | <a href=\"https://github.com/soxofaan\">soxofaan</a> | <a href=\"https://github.com/sthibaul\">sthibaul</a> | <a href=\"https://github.com/syagev\">syagev</a> | <a href=\"https://github.com/SylvainCorlay\">SylvainCorlay</a> | <a href=\"https://github.com/terrdavis\">terrdavis</a> | <a href=\"https://github.com/texadactyl\">texadactyl</a> | <a href=\"https://github.com/tonyfast\">tonyfast</a> | <a href=\"https://github.com/Uiuran\">Uiuran</a> | <a href=\"https://github.com/vishakadsg\">vishakadsg</a> | <a href=\"https://github.com/willingc\">willingc</a> | <a href=\"https://github.com/yashk2810\">yashk2810</a> | <a href=\"https://github.com/zertrin\">zertrin</a></p></center>"
      }
     },
     "25e1f686b51a4ad1a2a9caa270275953": {
      "model_module": "@jupyter-widgets/controls",
      "model_module_version": "1.5.0",
      "model_name": "HTMLModel",
      "state": {
       "_dom_classes": [],
       "_model_module": "@jupyter-widgets/controls",
       "_model_module_version": "1.5.0",
       "_model_name": "HTMLModel",
       "_view_count": null,
       "_view_module": "@jupyter-widgets/controls",
       "_view_module_version": "1.5.0",
       "_view_name": "HTMLView",
       "description": "",
       "description_tooltip": null,
       "layout": "IPY_MODEL_371449784af14ce7830bbcab71e46d05",
       "placeholder": "​",
       "style": "IPY_MODEL_e05c4ac50b444394bb0fc16f882f18ad",
       "value": "<h4>Closed PRs for org: <code>jupyterlab</code></h4>\n<h5><a href=\"https://github.com/jupyterlab/debugger\">jupyterlab/debugger</a></h5>\n<ul>\n<li><a href=\"https://github.com/jupyterlab/debugger/pull/33\">(#33)</a>: <em>Expand Variable Model by scopes.</em> by <strong><a href=\"https://github.com/KsavinN\">@KsavinN</a></strong> merged by <strong><a href=\"https://github.com/afshin\">@afshin</a></strong></li>\n<li><a href=\"https://github.com/jupyterlab/debugger/pull/29\">(#29)</a>: _Callstack and Breakpoint Development _ by <strong><a href=\"https://github.com/KsavinN\">@KsavinN</a></strong> merged by <strong><a href=\"https://github.com/KsavinN\">@KsavinN</a></strong></li>\n<li><a href=\"https://github.com/jupyterlab/debugger/pull/28\">(#28)</a>: <em>Require xeus-python 0.5</em> by <strong><a href=\"https://github.com/jtpio\">@jtpio</a></strong> merged by <strong><a href=\"https://github.com/afshin\">@afshin</a></strong></li>\n<li><a href=\"https://github.com/jupyterlab/debugger/pull/15\">(#15)</a>: <em>Add configuration for Azure Pipelines</em> by <strong><a href=\"https://github.com/jtpio\">@jtpio</a></strong> merged by <strong><a href=\"https://github.com/blink1073\">@blink1073</a></strong></li>\n<li><a href=\"https://github.com/jupyterlab/debugger/pull/14\">(#14)</a>: <em>Update some conventions, add license, clean up.</em> by <strong><a href=\"https://github.com/afshin\">@afshin</a></strong> merged by <strong><a href=\"https://github.com/afshin\">@afshin</a></strong></li>\n<li><a href=\"https://github.com/jupyterlab/debugger/pull/10\">(#10)</a>: <em>Export IDebuggerSidebar plugin token.</em> by <strong><a href=\"https://github.com/afshin\">@afshin</a></strong> merged by <strong><a href=\"https://github.com/afshin\">@afshin</a></strong></li>\n<li><a href=\"https://github.com/jupyterlab/debugger/pull/9\">(#9)</a>: <em>Debug session interface</em> by <strong><a href=\"https://github.com/jtpio\">@jtpio</a></strong> merged by <strong><a href=\"https://github.com/afshin\">@afshin</a></strong></li>\n<li><a href=\"https://github.com/jupyterlab/debugger/pull/8\">(#8)</a>: <em>Add prettier git commit hook</em> by <strong><a href=\"https://github.com/jtpio\">@jtpio</a></strong> merged by <strong><a href=\"https://github.com/afshin\">@afshin</a></strong></li>\n<li><a href=\"https://github.com/jupyterlab/debugger/pull/7\">(#7)</a>: <em>Remove yarn.lock, add to gitignore</em> by <strong><a href=\"https://github.com/jtpio\">@jtpio</a></strong> merged by <strong><a href=\"https://github.com/afshin\">@afshin</a></strong></li>\n<li><a href=\"https://github.com/jupyterlab/debugger/pull/6\">(#6)</a>: <em>Add scaffolding for tests</em> by <strong><a href=\"https://github.com/jtpio\">@jtpio</a></strong> merged by <strong><a href=\"https://github.com/afshin\">@afshin</a></strong></li>\n<li><a href=\"https://github.com/jupyterlab/debugger/pull/5\">(#5)</a>: <em>Visual debugger scaffolding.</em> by <strong><a href=\"https://github.com/afshin\">@afshin</a></strong> merged by <strong><a href=\"https://github.com/afshin\">@afshin</a></strong></li>\n</ul>\n<h5><a href=\"https://github.com/jupyterlab/jupyter-renderers\">jupyterlab/jupyter-renderers</a></h5>\n<ul>\n<li><a href=\"https://github.com/jupyterlab/jupyter-renderers/pull/212\">(#212)</a>: <em>updated CI</em> by <strong><a href=\"https://github.com/scopatz\">@scopatz</a></strong> merged by <strong><a href=\"https://github.com/gnestor\">@gnestor</a></strong></li>\n</ul>\n<h5><a href=\"https://github.com/jupyterlab/jupyterlab\">jupyterlab/jupyterlab</a></h5>\n<ul>\n<li><a href=\"https://github.com/jupyterlab/jupyterlab/pull/7034\">(#7034)</a>: <em>Increase the search debounce from 100ms to 500ms</em> by <strong><a href=\"https://github.com/krassowski\">@krassowski</a></strong> merged by <strong><a href=\"https://github.com/blink1073\">@blink1073</a></strong></li>\n<li><a href=\"https://github.com/jupyterlab/jupyterlab/pull/7028\">(#7028)</a>: <em>Complete docstring for IExecuteRequestMsg</em> by <strong><a href=\"https://github.com/jtpio\">@jtpio</a></strong> merged by <strong><a href=\"https://github.com/jasongrout\">@jasongrout</a></strong></li>\n<li><a href=\"https://github.com/jupyterlab/jupyterlab/pull/7027\">(#7027)</a>: <em>restores silent failure behavior when a fileType has no iconClass</em> by <strong><a href=\"https://github.com/telamonian\">@telamonian</a></strong> merged by <strong><a href=\"https://github.com/blink1073\">@blink1073</a></strong></li>\n<li><a href=\"https://github.com/jupyterlab/jupyterlab/pull/7022\">(#7022)</a>: <em>Fix Vega downloads and download URLs in general</em> by <strong><a href=\"https://github.com/jasongrout\">@jasongrout</a></strong> merged by <strong><a href=\"https://github.com/blink1073\">@blink1073</a></strong></li>\n<li><a href=\"https://github.com/jupyterlab/jupyterlab/pull/7020\">(#7020)</a>: <em>Restore behavior of the \"raises-exception\" cell tag</em> by <strong><a href=\"https://github.com/joelostblom\">@joelostblom</a></strong> merged by <strong><a href=\"https://github.com/blink1073\">@blink1073</a></strong></li>\n<li><a href=\"https://github.com/jupyterlab/jupyterlab/pull/7019\">(#7019)</a>: <em>Fix build util paths for Windows</em> by <strong><a href=\"https://github.com/vidartf\">@vidartf</a></strong> merged by <strong><a href=\"https://github.com/blink1073\">@blink1073</a></strong></li>\n<li><a href=\"https://github.com/jupyterlab/jupyterlab/pull/7016\">(#7016)</a>: <em>Properly escape template variables</em> by <strong><a href=\"https://github.com/jasongrout\">@jasongrout</a></strong> merged by <strong><a href=\"https://github.com/blink1073\">@blink1073</a></strong></li>\n<li><a href=\"https://github.com/jupyterlab/jupyterlab/pull/7013\">(#7013)</a>: <em>Do not fail on deduplicate and ignore optional</em> by <strong><a href=\"https://github.com/blink1073\">@blink1073</a></strong> merged by <strong><a href=\"https://github.com/blink1073\">@blink1073</a></strong></li>\n<li><a href=\"https://github.com/jupyterlab/jupyterlab/pull/7001\">(#7001)</a>: <em>Auto-disable statusbar leaf components</em> by <strong><a href=\"https://github.com/vidartf\">@vidartf</a></strong> merged by <strong><a href=\"https://github.com/blink1073\">@blink1073</a></strong></li>\n<li><a href=\"https://github.com/jupyterlab/jupyterlab/pull/6996\">(#6996)</a>: <em>Make dependencies of rendermime extension optional</em> by <strong><a href=\"https://github.com/vidartf\">@vidartf</a></strong> merged by <strong><a href=\"https://github.com/blink1073\">@blink1073</a></strong></li>\n<li><a href=\"https://github.com/jupyterlab/jupyterlab/pull/6993\">(#6993)</a>: <em>Fix a typo in the issues reporting documentation (issue.rst)</em> by <strong><a href=\"https://github.com/krassowski\">@krassowski</a></strong> merged by <strong><a href=\"https://github.com/jasongrout\">@jasongrout</a></strong></li>\n<li><a href=\"https://github.com/jupyterlab/jupyterlab/pull/6991\">(#6991)</a>: <em>Add server side CoreConfig object</em> by <strong><a href=\"https://github.com/vidartf\">@vidartf</a></strong> merged by <strong><a href=\"https://github.com/blink1073\">@blink1073</a></strong></li>\n<li><a href=\"https://github.com/jupyterlab/jupyterlab/pull/6987\">(#6987)</a>: <em>Datastore codeeditor</em> by <strong><a href=\"https://github.com/ian-r-rose\">@ian-r-rose</a></strong> merged by <strong><a href=\"https://github.com/ian-r-rose\">@ian-r-rose</a></strong></li>\n<li><a href=\"https://github.com/jupyterlab/jupyterlab/pull/6980\">(#6980)</a>: _Make dependencies of VDOM extension optional _ by <strong><a href=\"https://github.com/vidartf\">@vidartf</a></strong> merged by <strong><a href=\"https://github.com/jasongrout\">@jasongrout</a></strong></li>\n<li><a href=\"https://github.com/jupyterlab/jupyterlab/pull/6978\">(#6978)</a>: <em>Make dependencies of CSV viewer extension optional</em> by <strong><a href=\"https://github.com/vidartf\">@vidartf</a></strong> merged by <strong><a href=\"https://github.com/jasongrout\">@jasongrout</a></strong></li>\n<li><a href=\"https://github.com/jupyterlab/jupyterlab/pull/6971\">(#6971)</a>: <em>Add docs to help users diagnose issues before creating them</em> by <strong><a href=\"https://github.com/jasongrout\">@jasongrout</a></strong> merged by <strong><a href=\"https://github.com/blink1073\">@blink1073</a></strong></li>\n<li><a href=\"https://github.com/jupyterlab/jupyterlab/pull/6967\">(#6967)</a>: <em>Updated CONTRIBUTING.MD</em> by <strong><a href=\"https://github.com/tgeorgeux\">@tgeorgeux</a></strong> merged by <strong><a href=\"https://github.com/blink1073\">@blink1073</a></strong></li>\n<li><a href=\"https://github.com/jupyterlab/jupyterlab/pull/6963\">(#6963)</a>: <em>Remove lockbot message, re-engage lockbot</em> by <strong><a href=\"https://github.com/jasongrout\">@jasongrout</a></strong> merged by <strong><a href=\"https://github.com/blink1073\">@blink1073</a></strong></li>\n<li><a href=\"https://github.com/jupyterlab/jupyterlab/pull/6961\">(#6961)</a>: <em>Add @types/jest to extension testing doc</em> by <strong><a href=\"https://github.com/jtpio\">@jtpio</a></strong> merged by <strong><a href=\"https://github.com/blink1073\">@blink1073</a></strong></li>\n<li><a href=\"https://github.com/jupyterlab/jupyterlab/pull/6953\">(#6953)</a>: <em>Pause lockbot</em> by <strong><a href=\"https://github.com/jasongrout\">@jasongrout</a></strong> merged by <strong><a href=\"https://github.com/jasongrout\">@jasongrout</a></strong></li>\n<li><a href=\"https://github.com/jupyterlab/jupyterlab/pull/6949\">(#6949)</a>: <em>Fix comm_info_request content to conform to spec in a backwards-compatible way</em> by <strong><a href=\"https://github.com/jasongrout\">@jasongrout</a></strong> merged by <strong><a href=\"https://github.com/blink1073\">@blink1073</a></strong></li>\n<li><a href=\"https://github.com/jupyterlab/jupyterlab/pull/6943\">(#6943)</a>: <em>Add lockbot configuration to lock inactive closed issues/prs after 30 days</em> by <strong><a href=\"https://github.com/jasongrout\">@jasongrout</a></strong> merged by <strong><a href=\"https://github.com/blink1073\">@blink1073</a></strong></li>\n<li><a href=\"https://github.com/jupyterlab/jupyterlab/pull/6938\">(#6938)</a>: <em>Adds yarn package resolution to build</em> by <strong><a href=\"https://github.com/jasongrout\">@jasongrout</a></strong> merged by <strong><a href=\"https://github.com/blink1073\">@blink1073</a></strong></li>\n<li><a href=\"https://github.com/jupyterlab/jupyterlab/pull/6935\">(#6935)</a>: <em>add display:flex to .jp-Inspector-default-content</em> by <strong><a href=\"https://github.com/rvalieris\">@rvalieris</a></strong> merged by <strong><a href=\"https://github.com/jasongrout\">@jasongrout</a></strong></li>\n<li><a href=\"https://github.com/jupyterlab/jupyterlab/pull/6933\">(#6933)</a>: <em>fix for contextual help layout</em> by <strong><a href=\"https://github.com/rvalieris\">@rvalieris</a></strong> merged by <strong><a href=\"https://github.com/jasongrout\">@jasongrout</a></strong></li>\n<li><a href=\"https://github.com/jupyterlab/jupyterlab/pull/6929\">(#6929)</a>: <em>Make handling comm messages optional in a kernel connection.</em> by <strong><a href=\"https://github.com/jasongrout\">@jasongrout</a></strong> merged by <strong><a href=\"https://github.com/blink1073\">@blink1073</a></strong></li>\n</ul>\n<h5><a href=\"https://github.com/jupyterlab/jupyterlab-commenting\">jupyterlab/jupyterlab-commenting</a></h5>\n<ul>\n<li><a href=\"https://github.com/jupyterlab/jupyterlab-commenting/pull/36\">(#36)</a>: <em>Notebook commenting base release. v0.2.0</em> by <strong><a href=\"https://github.com/hoo761\">@hoo761</a></strong> merged by <strong><a href=\"https://github.com/hoo761\">@hoo761</a></strong></li>\n</ul>\n<h5><a href=\"https://github.com/jupyterlab/jupyterlab-data-explorer\">jupyterlab/jupyterlab-data-explorer</a></h5>\n<ul>\n<li><a href=\"https://github.com/jupyterlab/jupyterlab-data-explorer/pull/76\">(#76)</a>: <em>Make the browse UI scrollable</em> by <strong><a href=\"https://github.com/saulshanabrook\">@saulshanabrook</a></strong> merged by <strong><a href=\"https://github.com/saulshanabrook\">@saulshanabrook</a></strong></li>\n<li><a href=\"https://github.com/jupyterlab/jupyterlab-data-explorer/pull/71\">(#71)</a>: <em>Make data browser sticky</em> by <strong><a href=\"https://github.com/saulshanabrook\">@saulshanabrook</a></strong> merged by <strong><a href=\"https://github.com/saulshanabrook\">@saulshanabrook</a></strong></li>\n<li><a href=\"https://github.com/jupyterlab/jupyterlab-data-explorer/pull/65\">(#65)</a>: <em>Add support for datasets.yml file</em> by <strong><a href=\"https://github.com/saulshanabrook\">@saulshanabrook</a></strong> merged by <strong><a href=\"https://github.com/saulshanabrook\">@saulshanabrook</a></strong></li>\n<li><a href=\"https://github.com/jupyterlab/jupyterlab-data-explorer/pull/52\">(#52)</a>: <em>Add data browser feature</em> by <strong><a href=\"https://github.com/saulshanabrook\">@saulshanabrook</a></strong> merged by <strong><a href=\"https://github.com/saulshanabrook\">@saulshanabrook</a></strong></li>\n</ul>\n<h5><a href=\"https://github.com/jupyterlab/jupyterlab-git\">jupyterlab/jupyterlab-git</a></h5>\n<ul>\n<li><a href=\"https://github.com/jupyterlab/jupyterlab-git/pull/401\">(#401)</a>: <em>Fix caching server root</em> by <strong><a href=\"https://github.com/fcollonval\">@fcollonval</a></strong> merged by <strong><a href=\"https://github.com/jaipreet-s\">@jaipreet-s</a></strong></li>\n<li><a href=\"https://github.com/jupyterlab/jupyterlab-git/pull/390\">(#390)</a>: <em>Release 0.8</em> by <strong><a href=\"https://github.com/jaipreet-s\">@jaipreet-s</a></strong> merged by <strong><a href=\"https://github.com/jaipreet-s\">@jaipreet-s</a></strong></li>\n<li><a href=\"https://github.com/jupyterlab/jupyterlab-git/pull/389\">(#389)</a>: <em>Fix identity error</em> by <strong><a href=\"https://github.com/fcollonval\">@fcollonval</a></strong> merged by <strong><a href=\"https://github.com/jaipreet-s\">@jaipreet-s</a></strong></li>\n</ul>\n<h5><a href=\"https://github.com/jupyterlab/jupyterlab-hdf5\">jupyterlab/jupyterlab-hdf5</a></h5>\n<ul>\n<li><a href=\"https://github.com/jupyterlab/jupyterlab-hdf5/pull/7\">(#7)</a>: <em>Add labels to dataregistry</em> by <strong><a href=\"https://github.com/saulshanabrook\">@saulshanabrook</a></strong> merged by <strong><a href=\"https://github.com/telamonian\">@telamonian</a></strong></li>\n</ul>\n<h5><a href=\"https://github.com/jupyterlab/jupyterlab-metadata-service\">jupyterlab/jupyterlab-metadata-service</a></h5>\n<ul>\n<li><a href=\"https://github.com/jupyterlab/jupyterlab-metadata-service/pull/31\">(#31)</a>: <em>Rely on data registry</em> by <strong><a href=\"https://github.com/saulshanabrook\">@saulshanabrook</a></strong> merged by <strong><a href=\"https://github.com/saulshanabrook\">@saulshanabrook</a></strong></li>\n</ul>\n<h5><a href=\"https://github.com/jupyterlab/jupyterlab_server\">jupyterlab/jupyterlab_server</a></h5>\n<ul>\n<li><a href=\"https://github.com/jupyterlab/jupyterlab_server/pull/78\">(#78)</a>: <em>Add .json.orig files to sdists</em> by <strong><a href=\"https://github.com/toddrme2178\">@toddrme2178</a></strong> merged by <strong><a href=\"https://github.com/blink1073\">@blink1073</a></strong></li>\n<li><a href=\"https://github.com/jupyterlab/jupyterlab_server/pull/77\">(#77)</a>: <em>Require jinja2 2.10+ to fix extra escaping</em> by <strong><a href=\"https://github.com/blink1073\">@blink1073</a></strong> merged by <strong><a href=\"https://github.com/blink1073\">@blink1073</a></strong></li>\n<li><a href=\"https://github.com/jupyterlab/jupyterlab_server/pull/76\">(#76)</a>: <em>Use escape instead of urlencode for urls</em> by <strong><a href=\"https://github.com/blink1073\">@blink1073</a></strong> merged by <strong><a href=\"https://github.com/blink1073\">@blink1073</a></strong></li>\n<li><a href=\"https://github.com/jupyterlab/jupyterlab_server/pull/75\">(#75)</a>: <em>Escape template values in Jinja</em> by <strong><a href=\"https://github.com/jasongrout\">@jasongrout</a></strong> merged by <strong><a href=\"https://github.com/blink1073\">@blink1073</a></strong></li>\n<li><a href=\"https://github.com/jupyterlab/jupyterlab_server/pull/74\">(#74)</a>: <em>Add store ID to page config</em> by <strong><a href=\"https://github.com/saulshanabrook\">@saulshanabrook</a></strong> merged by <strong><a href=\"https://github.com/blink1073\">@blink1073</a></strong></li>\n<li><a href=\"https://github.com/jupyterlab/jupyterlab_server/pull/73\">(#73)</a>: <em>fix page config escaping</em> by <strong><a href=\"https://github.com/nicorikken\">@nicorikken</a></strong> merged by <strong><a href=\"https://github.com/blink1073\">@blink1073</a></strong></li>\n</ul>\n<h5><a href=\"https://github.com/jupyterlab/pull-requests\">jupyterlab/pull-requests</a></h5>\n<ul>\n<li><a href=\"https://github.com/jupyterlab/pull-requests/pull/9\">(#9)</a>: <em>Handle empty notebooks gracefully</em> by <strong><a href=\"https://github.com/jaipreet-s\">@jaipreet-s</a></strong> merged by <strong><a href=\"https://github.com/jaipreet-s\">@jaipreet-s</a></strong></li>\n<li><a href=\"https://github.com/jupyterlab/pull-requests/pull/5\">(#5)</a>: <em>Published package improvements</em> by <strong><a href=\"https://github.com/timnlupo\">@timnlupo</a></strong> merged by <strong><a href=\"https://github.com/jaipreet-s\">@jaipreet-s</a></strong></li>\n<li><a href=\"https://github.com/jupyterlab/pull-requests/pull/3\">(#3)</a>: <em>Port to JupyterLab v1</em> by <strong><a href=\"https://github.com/timnlupo\">@timnlupo</a></strong> merged by <strong><a href=\"https://github.com/jaipreet-s\">@jaipreet-s</a></strong></li>\n<li><a href=\"https://github.com/jupyterlab/pull-requests/pull/2\">(#2)</a>: <em>Add license and prettify README</em> by <strong><a href=\"https://github.com/timnlupo\">@timnlupo</a></strong> merged by <strong><a href=\"https://github.com/jaipreet-s\">@jaipreet-s</a></strong></li>\n<li><a href=\"https://github.com/jupyterlab/pull-requests/pull/1\">(#1)</a>: <em>Port over all as-is changes</em> by <strong><a href=\"https://github.com/timnlupo\">@timnlupo</a></strong> merged by <strong><a href=\"https://github.com/jaipreet-s\">@jaipreet-s</a></strong></li>\n</ul>"
      }
     },
     "2924e76358f248a1ae1baccf98bb9f13": {
      "model_module": "@jupyter-widgets/controls",
      "model_module_version": "1.5.0",
      "model_name": "HTMLModel",
      "state": {
       "_dom_classes": [],
       "_model_module": "@jupyter-widgets/controls",
       "_model_module_version": "1.5.0",
       "_model_name": "HTMLModel",
       "_view_count": null,
       "_view_module": "@jupyter-widgets/controls",
       "_view_module_version": "1.5.0",
       "_view_name": "HTMLView",
       "description": "",
       "description_tooltip": null,
       "layout": "IPY_MODEL_37459ed8f3c040f7967e0ad3d1cd1d64",
       "placeholder": "​",
       "style": "IPY_MODEL_61e3f4c3717a417ba79ff41e3b3eaad4",
       "value": "<center><p><a href=\"https://github.com/choldgraf\">choldgraf</a> | <a href=\"https://github.com/Ryantheu\">Ryantheu</a></p></center>"
      }
     },
     "34029a5fa793482cbcf2f2c19203e431": {
      "model_module": "@jupyter-widgets/controls",
      "model_module_version": "1.5.0",
      "model_name": "DescriptionStyleModel",
      "state": {
       "_model_module": "@jupyter-widgets/controls",
       "_model_module_version": "1.5.0",
       "_model_name": "DescriptionStyleModel",
       "_view_count": null,
       "_view_module": "@jupyter-widgets/base",
       "_view_module_version": "1.2.0",
       "_view_name": "StyleView",
       "description_width": ""
      }
     },
     "34207aef91f04d3fa42040f90d32bf7a": {
      "model_module": "@jupyter-widgets/base",
      "model_module_version": "1.2.0",
      "model_name": "LayoutModel",
      "state": {
       "_model_module": "@jupyter-widgets/base",
       "_model_module_version": "1.2.0",
       "_model_name": "LayoutModel",
       "_view_count": null,
       "_view_module": "@jupyter-widgets/base",
       "_view_module_version": "1.2.0",
       "_view_name": "LayoutView",
       "align_content": null,
       "align_items": null,
       "align_self": null,
       "border": null,
       "bottom": null,
       "display": null,
       "flex": null,
       "flex_flow": null,
       "grid_area": null,
       "grid_auto_columns": null,
       "grid_auto_flow": null,
       "grid_auto_rows": null,
       "grid_column": null,
       "grid_gap": null,
       "grid_row": null,
       "grid_template_areas": null,
       "grid_template_columns": null,
       "grid_template_rows": null,
       "height": null,
       "justify_content": null,
       "justify_items": null,
       "left": null,
       "margin": null,
       "max_height": null,
       "max_width": null,
       "min_height": null,
       "min_width": null,
       "object_fit": null,
       "object_position": null,
       "order": null,
       "overflow": null,
       "overflow_x": null,
       "overflow_y": null,
       "padding": null,
       "right": null,
       "top": null,
       "visibility": null,
       "width": null
      }
     },
     "371449784af14ce7830bbcab71e46d05": {
      "model_module": "@jupyter-widgets/base",
      "model_module_version": "1.2.0",
      "model_name": "LayoutModel",
      "state": {
       "_model_module": "@jupyter-widgets/base",
       "_model_module_version": "1.2.0",
       "_model_name": "LayoutModel",
       "_view_count": null,
       "_view_module": "@jupyter-widgets/base",
       "_view_module_version": "1.2.0",
       "_view_name": "LayoutView",
       "align_content": null,
       "align_items": null,
       "align_self": null,
       "border": null,
       "bottom": null,
       "display": null,
       "flex": null,
       "flex_flow": null,
       "grid_area": null,
       "grid_auto_columns": null,
       "grid_auto_flow": null,
       "grid_auto_rows": null,
       "grid_column": null,
       "grid_gap": null,
       "grid_row": null,
       "grid_template_areas": null,
       "grid_template_columns": null,
       "grid_template_rows": null,
       "height": null,
       "justify_content": null,
       "justify_items": null,
       "left": null,
       "margin": null,
       "max_height": null,
       "max_width": null,
       "min_height": null,
       "min_width": null,
       "object_fit": null,
       "object_position": null,
       "order": null,
       "overflow": null,
       "overflow_x": null,
       "overflow_y": null,
       "padding": null,
       "right": null,
       "top": null,
       "visibility": null,
       "width": null
      }
     },
     "37459ed8f3c040f7967e0ad3d1cd1d64": {
      "model_module": "@jupyter-widgets/base",
      "model_module_version": "1.2.0",
      "model_name": "LayoutModel",
      "state": {
       "_model_module": "@jupyter-widgets/base",
       "_model_module_version": "1.2.0",
       "_model_name": "LayoutModel",
       "_view_count": null,
       "_view_module": "@jupyter-widgets/base",
       "_view_module_version": "1.2.0",
       "_view_name": "LayoutView",
       "align_content": null,
       "align_items": null,
       "align_self": null,
       "border": null,
       "bottom": null,
       "display": null,
       "flex": null,
       "flex_flow": null,
       "grid_area": null,
       "grid_auto_columns": null,
       "grid_auto_flow": null,
       "grid_auto_rows": null,
       "grid_column": null,
       "grid_gap": null,
       "grid_row": null,
       "grid_template_areas": null,
       "grid_template_columns": null,
       "grid_template_rows": null,
       "height": null,
       "justify_content": null,
       "justify_items": null,
       "left": null,
       "margin": null,
       "max_height": null,
       "max_width": null,
       "min_height": null,
       "min_width": null,
       "object_fit": null,
       "object_position": null,
       "order": null,
       "overflow": null,
       "overflow_x": null,
       "overflow_y": null,
       "padding": null,
       "right": null,
       "top": null,
       "visibility": null,
       "width": null
      }
     },
     "3abcd67589b346f0b80bd22b43b19732": {
      "model_module": "@jupyter-widgets/controls",
      "model_module_version": "1.5.0",
      "model_name": "HTMLModel",
      "state": {
       "_dom_classes": [],
       "_model_module": "@jupyter-widgets/controls",
       "_model_module_version": "1.5.0",
       "_model_name": "HTMLModel",
       "_view_count": null,
       "_view_module": "@jupyter-widgets/controls",
       "_view_module_version": "1.5.0",
       "_view_name": "HTMLView",
       "description": "",
       "description_tooltip": null,
       "layout": "IPY_MODEL_18da153141b341e6bd47351d89e4e165",
       "placeholder": "​",
       "style": "IPY_MODEL_11c8fe4cd0134f46a06579fe2ed3090e",
       "value": "<center><p><a href=\"https://github.com/AaronWatters\">AaronWatters</a> | <a href=\"https://github.com/ablaagaard\">ablaagaard</a> | <a href=\"https://github.com/acelere\">acelere</a> | <a href=\"https://github.com/bermani\">bermani</a> | <a href=\"https://github.com/blois\">blois</a> | <a href=\"https://github.com/chaffra\">chaffra</a> | <a href=\"https://github.com/cosmoscalibur\">cosmoscalibur</a> | <a href=\"https://github.com/dhairyagandhi96\">dhairyagandhi96</a> | <a href=\"https://github.com/dprophet\">dprophet</a> | <a href=\"https://github.com/e-lo\">e-lo</a> | <a href=\"https://github.com/gemmavnash\">gemmavnash</a> | <a href=\"https://github.com/gramster\">gramster</a> | <a href=\"https://github.com/hainm\">hainm</a> | <a href=\"https://github.com/HudsonMC16\">HudsonMC16</a> | <a href=\"https://github.com/iamdamion\">iamdamion</a> | <a href=\"https://github.com/IssamLaradji\">IssamLaradji</a> | <a href=\"https://github.com/jaladh-singhal\">jaladh-singhal</a> | <a href=\"https://github.com/janPesl\">janPesl</a> | <a href=\"https://github.com/jasongrout\">jasongrout</a> | <a href=\"https://github.com/jetheurer\">jetheurer</a> | <a href=\"https://github.com/jtpio\">jtpio</a> | <a href=\"https://github.com/maartenbreddels\">maartenbreddels</a> | <a href=\"https://github.com/marketneutral\">marketneutral</a> | <a href=\"https://github.com/markiemarkus\">markiemarkus</a> | <a href=\"https://github.com/martinRenou\">martinRenou</a> | <a href=\"https://github.com/mattpap\">mattpap</a> | <a href=\"https://github.com/psychemedia\">psychemedia</a> | <a href=\"https://github.com/SylvainCorlay\">SylvainCorlay</a> | <a href=\"https://github.com/tgrout\">tgrout</a> | <a href=\"https://github.com/timkpaine\">timkpaine</a> | <a href=\"https://github.com/toddrme2178\">toddrme2178</a> | <a href=\"https://github.com/vidartf\">vidartf</a> | <a href=\"https://github.com/zerline\">zerline</a></p></center>"
      }
     },
     "3e1caed3b5e84d4ab77281d258d13464": {
      "model_module": "@jupyter-widgets/controls",
      "model_module_version": "1.5.0",
      "model_name": "DescriptionStyleModel",
      "state": {
       "_model_module": "@jupyter-widgets/controls",
       "_model_module_version": "1.5.0",
       "_model_name": "DescriptionStyleModel",
       "_view_count": null,
       "_view_module": "@jupyter-widgets/base",
       "_view_module_version": "1.2.0",
       "_view_name": "StyleView",
       "description_width": ""
      }
     },
     "41df33dde2ca4f7aa4d5f0650697e100": {
      "model_module": "@jupyter-widgets/base",
      "model_module_version": "1.2.0",
      "model_name": "LayoutModel",
      "state": {
       "_model_module": "@jupyter-widgets/base",
       "_model_module_version": "1.2.0",
       "_model_name": "LayoutModel",
       "_view_count": null,
       "_view_module": "@jupyter-widgets/base",
       "_view_module_version": "1.2.0",
       "_view_name": "LayoutView",
       "align_content": null,
       "align_items": null,
       "align_self": null,
       "border": null,
       "bottom": null,
       "display": null,
       "flex": null,
       "flex_flow": null,
       "grid_area": null,
       "grid_auto_columns": null,
       "grid_auto_flow": null,
       "grid_auto_rows": null,
       "grid_column": null,
       "grid_gap": null,
       "grid_row": null,
       "grid_template_areas": null,
       "grid_template_columns": null,
       "grid_template_rows": null,
       "height": null,
       "justify_content": null,
       "justify_items": null,
       "left": null,
       "margin": null,
       "max_height": null,
       "max_width": null,
       "min_height": null,
       "min_width": null,
       "object_fit": null,
       "object_position": null,
       "order": null,
       "overflow": null,
       "overflow_x": null,
       "overflow_y": null,
       "padding": null,
       "right": null,
       "top": null,
       "visibility": null,
       "width": null
      }
     },
     "43f6157b470c4991915f90ff17c4567f": {
      "model_module": "@jupyter-widgets/controls",
      "model_module_version": "1.5.0",
      "model_name": "HTMLModel",
      "state": {
       "_dom_classes": [],
       "_model_module": "@jupyter-widgets/controls",
       "_model_module_version": "1.5.0",
       "_model_name": "HTMLModel",
       "_view_count": null,
       "_view_module": "@jupyter-widgets/controls",
       "_view_module_version": "1.5.0",
       "_view_name": "HTMLView",
       "description": "",
       "description_tooltip": null,
       "layout": "IPY_MODEL_41df33dde2ca4f7aa4d5f0650697e100",
       "placeholder": "​",
       "style": "IPY_MODEL_52babf37ad3f481c8c150f1b1807669d",
       "value": "<h4>jupyterhub</h4>\n<h5><a href=\"https://github.com/jupyterhub/batchspawner\">jupyterhub/batchspawner</a></h5>\n<ul>\n<li><a href=\"https://github.com/jupyterhub/batchspawner/issues/153\">(#153)</a>: <em>setting keepvars_extra globaly</em> by <strong><a href=\"https://github.com/omula\">@omula</a></strong></li>\n</ul>\n<h5><a href=\"https://github.com/jupyterhub/binder\">jupyterhub/binder</a></h5>\n<ul>\n<li><a href=\"https://github.com/jupyterhub/binder/issues/166\">(#166)</a>: <em>ResolvePackageNotFound: requests=2.14</em> by <strong><a href=\"https://github.com/shankari\">@shankari</a></strong></li>\n</ul>\n<h5><a href=\"https://github.com/jupyterhub/binderhub\">jupyterhub/binderhub</a></h5>\n<ul>\n<li><a href=\"https://github.com/jupyterhub/binderhub/issues/933\">(#933)</a>: <em>Time to release v0.2?</em> by <strong><a href=\"https://github.com/choldgraf\">@choldgraf</a></strong></li>\n</ul>\n<h5><a href=\"https://github.com/jupyterhub/chartpress\">jupyterhub/chartpress</a></h5>\n<h5><a href=\"https://github.com/jupyterhub/dockerspawner\">jupyterhub/dockerspawner</a></h5>\n<ul>\n<li><a href=\"https://github.com/jupyterhub/dockerspawner/issues/209\">(#209)</a>: _c.DockerSpawner.volumes invalid characters for a local volume _ by <strong><a href=\"https://github.com/yocode\">@yocode</a></strong></li>\n<li><a href=\"https://github.com/jupyterhub/dockerspawner/issues/244\">(#244)</a>: <em>Use runtime nvidia</em> by <strong><a href=\"https://github.com/Luke035\">@Luke035</a></strong></li>\n<li><a href=\"https://github.com/jupyterhub/dockerspawner/issues/320\">(#320)</a>: <em>Named servers in jupyterhub</em> by <strong><a href=\"https://github.com/mathematicalmichael\">@mathematicalmichael</a></strong></li>\n<li><a href=\"https://github.com/jupyterhub/dockerspawner/issues/172\">(#172)</a>: <em>Shared team volumes for certain users</em> by <strong><a href=\"https://github.com/TiemenSch\">@TiemenSch</a></strong></li>\n</ul>\n<h5><a href=\"https://github.com/jupyterhub/firstuseauthenticator\">jupyterhub/firstuseauthenticator</a></h5>\n<ul>\n<li><a href=\"https://github.com/jupyterhub/firstuseauthenticator/issues/24\">(#24)</a>: <em>500 server error when changing password</em> by <strong><a href=\"https://github.com/the21st\">@the21st</a></strong></li>\n</ul>\n<h5><a href=\"https://github.com/jupyterhub/helm-chart\">jupyterhub/helm-chart</a></h5>\n<ul>\n<li><a href=\"https://github.com/jupyterhub/helm-chart/issues/100\">(#100)</a>: <em>Py notebook kernel failed to connect (JHub v0.8.2)</em> by <strong><a href=\"https://github.com/wierzba3\">@wierzba3</a></strong></li>\n</ul>\n<h5><a href=\"https://github.com/jupyterhub/jupyter-rsession-proxy\">jupyterhub/jupyter-rsession-proxy</a></h5>\n<ul>\n<li><a href=\"https://github.com/jupyterhub/jupyter-rsession-proxy/issues/69\">(#69)</a>: <em>should I install another R server in order to use RStudio?</em> by <strong><a href=\"https://github.com/dashpot4\">@dashpot4</a></strong></li>\n<li><a href=\"https://github.com/jupyterhub/jupyter-rsession-proxy/issues/72\">(#72)</a>: <em>Option to set \"reconnect false;\" for shiny apps</em> by <strong><a href=\"https://github.com/vnijs\">@vnijs</a></strong></li>\n<li><a href=\"https://github.com/jupyterhub/jupyter-rsession-proxy/issues/66\">(#66)</a>: <em>Shiny applications wont load from rstudio</em> by <strong><a href=\"https://github.com/PhaniTejaNallamothu\">@PhaniTejaNallamothu</a></strong></li>\n</ul>\n<h5><a href=\"https://github.com/jupyterhub/jupyter-server-proxy\">jupyterhub/jupyter-server-proxy</a></h5>\n<ul>\n<li><a href=\"https://github.com/jupyterhub/jupyter-server-proxy/issues/144\">(#144)</a>: <em>Automating the release procedure</em> by <strong><a href=\"https://github.com/betatim\">@betatim</a></strong></li>\n<li><a href=\"https://github.com/jupyterhub/jupyter-server-proxy/issues/143\">(#143)</a>: <em>Issue while starting up Jupiter from Anaconda.</em> by <strong><a href=\"https://github.com/vinaykumar8\">@vinaykumar8</a></strong></li>\n</ul>\n<h5><a href=\"https://github.com/jupyterhub/jupyterhub\">jupyterhub/jupyterhub</a></h5>\n<ul>\n<li><a href=\"https://github.com/jupyterhub/jupyterhub/issues/2674\">(#2674)</a>: <em>Starting Jupyterlab in jupyterhub leads to a blank screen</em> by <strong><a href=\"https://github.com/arinbasu\">@arinbasu</a></strong></li>\n<li><a href=\"https://github.com/jupyterhub/jupyterhub/issues/2688\">(#2688)</a>: <em>Single login only</em> by <strong><a href=\"https://github.com/sdd3\">@sdd3</a></strong></li>\n<li><a href=\"https://github.com/jupyterhub/jupyterhub/issues/2606\">(#2606)</a>: <em>Downloading html file from file explorer opens file in new tab instead of downloading</em> by <strong><a href=\"https://github.com/kevmk04\">@kevmk04</a></strong></li>\n</ul>\n<h5><a href=\"https://github.com/jupyterhub/jupyterhub-deploy-docker\">jupyterhub/jupyterhub-deploy-docker</a></h5>\n<ul>\n<li><a href=\"https://github.com/jupyterhub/jupyterhub-deploy-docker/issues/86\">(#86)</a>: <em>Docker volumes permission denied</em> by <strong><a href=\"https://github.com/SanderGn\">@SanderGn</a></strong></li>\n<li><a href=\"https://github.com/jupyterhub/jupyterhub-deploy-docker/issues/85\">(#85)</a>: <em>upgrade to 1.0</em> by <strong><a href=\"https://github.com/mathematicalmichael\">@mathematicalmichael</a></strong></li>\n</ul>\n<h5><a href=\"https://github.com/jupyterhub/kubespawner\">jupyterhub/kubespawner</a></h5>\n<ul>\n<li><a href=\"https://github.com/jupyterhub/kubespawner/issues/346\">(#346)</a>: <em>extra_container_config not reflecting</em> by <strong><a href=\"https://github.com/vinayjain15\">@vinayjain15</a></strong></li>\n<li><a href=\"https://github.com/jupyterhub/kubespawner/issues/345\">(#345)</a>: <em>expand_all used where maybe it should not be</em> by <strong><a href=\"https://github.com/rokroskar\">@rokroskar</a></strong></li>\n<li><a href=\"https://github.com/jupyterhub/kubespawner/issues/344\">(#344)</a>: <em>Failing to override volume_mounts with readOnly set to True</em> by <strong><a href=\"https://github.com/fersarr\">@fersarr</a></strong></li>\n<li><a href=\"https://github.com/jupyterhub/kubespawner/issues/342\">(#342)</a>: _ImportError with kubespawner 0.10.1 and kubernetes 10.0 _ by <strong><a href=\"https://github.com/dbricare\">@dbricare</a></strong></li>\n<li><a href=\"https://github.com/jupyterhub/kubespawner/issues/328\">(#328)</a>: <em>Spawn Failed Message: Harmless Error but Could Turn Off Novice Users</em> by <strong><a href=\"https://github.com/julienchastang\">@julienchastang</a></strong></li>\n</ul>\n<h5><a href=\"https://github.com/jupyterhub/ldapauthenticator\">jupyterhub/ldapauthenticator</a></h5>\n<ul>\n<li><a href=\"https://github.com/jupyterhub/ldapauthenticator/issues/131\">(#131)</a>: <em>Is there a reason for resolve_username not being resolve_userdn ?</em> by <strong><a href=\"https://github.com/roman-kouzmenko\">@roman-kouzmenko</a></strong></li>\n<li><a href=\"https://github.com/jupyterhub/ldapauthenticator/issues/128\">(#128)</a>: <em>ldap auth is failing a regex on a list that should be a string</em> by <strong><a href=\"https://github.com/sqqqrly\">@sqqqrly</a></strong></li>\n<li><a href=\"https://github.com/jupyterhub/ldapauthenticator/issues/136\">(#136)</a>: <em>TLJH + ldapauthenticator against Active Directory</em> by <strong><a href=\"https://github.com/stormerider\">@stormerider</a></strong></li>\n</ul>\n<h5><a href=\"https://github.com/jupyterhub/ltiauthenticator\">jupyterhub/ltiauthenticator</a></h5>\n<h5><a href=\"https://github.com/jupyterhub/mybinder.org-deploy\">jupyterhub/mybinder.org-deploy</a></h5>\n<ul>\n<li><a href=\"https://github.com/jupyterhub/mybinder.org-deploy/issues/1124\">(#1124)</a>: <em>Turing Institute joining the BinderHub Federation</em> by <strong><a href=\"https://github.com/sgibson91\">@sgibson91</a></strong></li>\n<li><a href=\"https://github.com/jupyterhub/mybinder.org-deploy/issues/1121\">(#1121)</a>: <em>Henchbot on heroku?</em> by <strong><a href=\"https://github.com/betatim\">@betatim</a></strong></li>\n<li><a href=\"https://github.com/jupyterhub/mybinder.org-deploy/issues/1125\">(#1125)</a>: <em>repo2docker handling of none utf-8 encoded files</em> by <strong><a href=\"https://github.com/YoniChechik\">@YoniChechik</a></strong></li>\n<li><a href=\"https://github.com/jupyterhub/mybinder.org-deploy/issues/1131\">(#1131)</a>: <em>Designing an on-ramp for new mybinder.org operators</em> by <strong><a href=\"https://github.com/betatim\">@betatim</a></strong></li>\n</ul>\n<h5><a href=\"https://github.com/jupyterhub/nativeauthenticator\">jupyterhub/nativeauthenticator</a></h5>\n<ul>\n<li><a href=\"https://github.com/jupyterhub/nativeauthenticator/issues/74\">(#74)</a>: <em>Add a link to the signup page in the login screen</em> by <strong><a href=\"https://github.com/yuvipanda\">@yuvipanda</a></strong></li>\n<li><a href=\"https://github.com/jupyterhub/nativeauthenticator/issues/73\">(#73)</a>: <em>Require users to confirm password in signup screen</em> by <strong><a href=\"https://github.com/yuvipanda\">@yuvipanda</a></strong></li>\n</ul>\n<h5><a href=\"https://github.com/jupyterhub/nbgitpuller\">jupyterhub/nbgitpuller</a></h5>\n<ul>\n<li><a href=\"https://github.com/jupyterhub/nbgitpuller/issues/85\">(#85)</a>: <em>Block insecure ways of pulling from private repositories by default</em> by <strong><a href=\"https://github.com/yuvipanda\">@yuvipanda</a></strong></li>\n</ul>\n<h5><a href=\"https://github.com/jupyterhub/oauthenticator\">jupyterhub/oauthenticator</a></h5>\n<ul>\n<li><a href=\"https://github.com/jupyterhub/oauthenticator/issues/284\">(#284)</a>: <em>Add documentation for ORCID-based authentication</em> by <strong><a href=\"https://github.com/nuest\">@nuest</a></strong></li>\n<li><a href=\"https://github.com/jupyterhub/oauthenticator/issues/253\">(#253)</a>: <em>GitHub Enterprise authentication with self signed certificate</em> by <strong><a href=\"https://github.com/nvs-abhilash\">@nvs-abhilash</a></strong></li>\n<li><a href=\"https://github.com/jupyterhub/oauthenticator/issues/247\">(#247)</a>: <em>GenericoAuthenticator fails with 401 trying to get token with code</em> by <strong><a href=\"https://github.com/kyeotic\">@kyeotic</a></strong></li>\n</ul>\n<h5><a href=\"https://github.com/jupyterhub/systemdspawner\">jupyterhub/systemdspawner</a></h5>\n<ul>\n<li><a href=\"https://github.com/jupyterhub/systemdspawner/issues/28\">(#28)</a>: <em>Failed to Start Server</em> by <strong><a href=\"https://github.com/dclong\">@dclong</a></strong></li>\n</ul>\n<h5><a href=\"https://github.com/jupyterhub/team-compass\">jupyterhub/team-compass</a></h5>\n<ul>\n<li><a href=\"https://github.com/jupyterhub/team-compass/issues/196\">(#196)</a>: <em>August Team Meeting 2019</em> by <strong><a href=\"https://github.com/Zsailer\">@Zsailer</a></strong></li>\n<li><a href=\"https://github.com/jupyterhub/team-compass/issues/186\">(#186)</a>: <em>Proposed team practice: team role annual check-ins</em> by <strong><a href=\"https://github.com/choldgraf\">@choldgraf</a></strong></li>\n</ul>\n<h5><a href=\"https://github.com/jupyterhub/the-littlest-jupyterhub\">jupyterhub/the-littlest-jupyterhub</a></h5>\n<ul>\n<li><a href=\"https://github.com/jupyterhub/the-littlest-jupyterhub/issues/425\">(#425)</a>: <em>Make spawner start voila?</em> by <strong><a href=\"https://github.com/DentonGentry\">@DentonGentry</a></strong></li>\n<li><a href=\"https://github.com/jupyterhub/the-littlest-jupyterhub/issues/397\">(#397)</a>: <em>redirect loop</em> by <strong><a href=\"https://github.com/wqh17101\">@wqh17101</a></strong></li>\n<li><a href=\"https://github.com/jupyterhub/the-littlest-jupyterhub/issues/406\">(#406)</a>: <em>CAS with TLJH</em> by <strong><a href=\"https://github.com/alvinhuff\">@alvinhuff</a></strong></li>\n<li><a href=\"https://github.com/jupyterhub/the-littlest-jupyterhub/issues/240\">(#240)</a>: <em>Fails to install, can't find <code>jupyter</code> on 18.04</em> by <strong><a href=\"https://github.com/cpmpercussion\">@cpmpercussion</a></strong></li>\n</ul>\n<h5><a href=\"https://github.com/jupyterhub/traefik-proxy\">jupyterhub/traefik-proxy</a></h5>\n<ul>\n<li><a href=\"https://github.com/jupyterhub/traefik-proxy/issues/26\">(#26)</a>: <em>Deploy in zero-to-jupyterhub</em> by <strong><a href=\"https://github.com/minrk\">@minrk</a></strong></li>\n<li><a href=\"https://github.com/jupyterhub/traefik-proxy/issues/71\">(#71)</a>: <em>Distributed configuration problem</em> by <strong><a href=\"https://github.com/vhaldemar\">@vhaldemar</a></strong></li>\n<li><a href=\"https://github.com/jupyterhub/traefik-proxy/issues/67\">(#67)</a>: <em>Missing format in .install warnings</em> by <strong><a href=\"https://github.com/vhaldemar\">@vhaldemar</a></strong></li>\n</ul>\n<h5><a href=\"https://github.com/jupyterhub/zero-to-jupyterhub-k8s\">jupyterhub/zero-to-jupyterhub-k8s</a></h5>\n<ul>\n<li><a href=\"https://github.com/jupyterhub/zero-to-jupyterhub-k8s/issues/1375\">(#1375)</a>: <em>Instructions for GCP are not working for machine-type = f1-micro</em> by <strong><a href=\"https://github.com/nscozzaro\">@nscozzaro</a></strong></li>\n<li><a href=\"https://github.com/jupyterhub/zero-to-jupyterhub-k8s/issues/1364\">(#1364)</a>: <em>Our proxy pod is a pet, but should be cattle</em> by <strong><a href=\"https://github.com/consideRatio\">@consideRatio</a></strong></li>\n<li><a href=\"https://github.com/jupyterhub/zero-to-jupyterhub-k8s/issues/1102\">(#1102)</a>: <em>Google auth error: HTTP 599: gnutls_handshake() failed</em> by <strong><a href=\"https://github.com/joshbode\">@joshbode</a></strong></li>\n<li><a href=\"https://github.com/jupyterhub/zero-to-jupyterhub-k8s/issues/1028\">(#1028)</a>: <em>400: Bad Request - OAuth state missing from cookies (Google auth)</em> by <strong><a href=\"https://github.com/anton-khodak\">@anton-khodak</a></strong></li>\n</ul>"
      }
     },
     "46453d6cd24b4b9ea1493b62e95aef2f": {
      "model_module": "@jupyter-widgets/base",
      "model_module_version": "1.2.0",
      "model_name": "LayoutModel",
      "state": {
       "_model_module": "@jupyter-widgets/base",
       "_model_module_version": "1.2.0",
       "_model_name": "LayoutModel",
       "_view_count": null,
       "_view_module": "@jupyter-widgets/base",
       "_view_module_version": "1.2.0",
       "_view_name": "LayoutView",
       "align_content": null,
       "align_items": null,
       "align_self": null,
       "border": null,
       "bottom": null,
       "display": null,
       "flex": null,
       "flex_flow": null,
       "grid_area": null,
       "grid_auto_columns": null,
       "grid_auto_flow": null,
       "grid_auto_rows": null,
       "grid_column": null,
       "grid_gap": null,
       "grid_row": null,
       "grid_template_areas": null,
       "grid_template_columns": null,
       "grid_template_rows": null,
       "height": null,
       "justify_content": null,
       "justify_items": null,
       "left": null,
       "margin": null,
       "max_height": null,
       "max_width": null,
       "min_height": null,
       "min_width": null,
       "object_fit": null,
       "object_position": null,
       "order": null,
       "overflow": null,
       "overflow_x": null,
       "overflow_y": null,
       "padding": null,
       "right": null,
       "top": null,
       "visibility": null,
       "width": null
      }
     },
     "470640f500264eaeb9b18eed16103b67": {
      "model_module": "@jupyter-widgets/base",
      "model_module_version": "1.2.0",
      "model_name": "LayoutModel",
      "state": {
       "_model_module": "@jupyter-widgets/base",
       "_model_module_version": "1.2.0",
       "_model_name": "LayoutModel",
       "_view_count": null,
       "_view_module": "@jupyter-widgets/base",
       "_view_module_version": "1.2.0",
       "_view_name": "LayoutView",
       "align_content": null,
       "align_items": null,
       "align_self": null,
       "border": null,
       "bottom": null,
       "display": null,
       "flex": null,
       "flex_flow": null,
       "grid_area": null,
       "grid_auto_columns": null,
       "grid_auto_flow": null,
       "grid_auto_rows": null,
       "grid_column": null,
       "grid_gap": null,
       "grid_row": null,
       "grid_template_areas": null,
       "grid_template_columns": null,
       "grid_template_rows": null,
       "height": null,
       "justify_content": null,
       "justify_items": null,
       "left": null,
       "margin": null,
       "max_height": null,
       "max_width": null,
       "min_height": null,
       "min_width": null,
       "object_fit": null,
       "object_position": null,
       "order": null,
       "overflow": null,
       "overflow_x": null,
       "overflow_y": null,
       "padding": null,
       "right": null,
       "top": null,
       "visibility": null,
       "width": null
      }
     },
     "473665f3316c49b3b04bc15b36723b38": {
      "model_module": "@jupyter-widgets/base",
      "model_module_version": "1.2.0",
      "model_name": "LayoutModel",
      "state": {
       "_model_module": "@jupyter-widgets/base",
       "_model_module_version": "1.2.0",
       "_model_name": "LayoutModel",
       "_view_count": null,
       "_view_module": "@jupyter-widgets/base",
       "_view_module_version": "1.2.0",
       "_view_name": "LayoutView",
       "align_content": null,
       "align_items": null,
       "align_self": null,
       "border": null,
       "bottom": null,
       "display": null,
       "flex": null,
       "flex_flow": null,
       "grid_area": null,
       "grid_auto_columns": null,
       "grid_auto_flow": null,
       "grid_auto_rows": null,
       "grid_column": null,
       "grid_gap": null,
       "grid_row": null,
       "grid_template_areas": null,
       "grid_template_columns": null,
       "grid_template_rows": null,
       "height": null,
       "justify_content": null,
       "justify_items": null,
       "left": null,
       "margin": null,
       "max_height": null,
       "max_width": null,
       "min_height": null,
       "min_width": null,
       "object_fit": null,
       "object_position": null,
       "order": null,
       "overflow": null,
       "overflow_x": null,
       "overflow_y": null,
       "padding": null,
       "right": null,
       "top": null,
       "visibility": null,
       "width": null
      }
     },
     "498f37db705d44c1ac61e8c4acbe2b1e": {
      "model_module": "@jupyter-widgets/controls",
      "model_module_version": "1.5.0",
      "model_name": "HTMLModel",
      "state": {
       "_dom_classes": [],
       "_model_module": "@jupyter-widgets/controls",
       "_model_module_version": "1.5.0",
       "_model_name": "HTMLModel",
       "_view_count": null,
       "_view_module": "@jupyter-widgets/controls",
       "_view_module_version": "1.5.0",
       "_view_name": "HTMLView",
       "description": "",
       "description_tooltip": null,
       "layout": "IPY_MODEL_208e3ca5ac3e4bd796ae84bfca0b9cff",
       "placeholder": "​",
       "style": "IPY_MODEL_0ff55f396c7743798f4933754eb55924",
       "value": "<h4>binder-examples</h4>\n<h5><a href=\"https://github.com/binder-examples/requirements\">binder-examples/requirements</a></h5>"
      }
     },
     "4c9b84d5501a4faf9ef6970aa3bf54e9": {
      "model_module": "@jupyter-widgets/controls",
      "model_module_version": "1.5.0",
      "model_name": "DescriptionStyleModel",
      "state": {
       "_model_module": "@jupyter-widgets/controls",
       "_model_module_version": "1.5.0",
       "_model_name": "DescriptionStyleModel",
       "_view_count": null,
       "_view_module": "@jupyter-widgets/base",
       "_view_module_version": "1.2.0",
       "_view_name": "StyleView",
       "description_width": ""
      }
     },
     "50791fa2e5f2455fa957e2f6ff7d03f3": {
      "model_module": "@jupyter-widgets/controls",
      "model_module_version": "1.5.0",
      "model_name": "HTMLModel",
      "state": {
       "_dom_classes": [],
       "_model_module": "@jupyter-widgets/controls",
       "_model_module_version": "1.5.0",
       "_model_name": "HTMLModel",
       "_view_count": null,
       "_view_module": "@jupyter-widgets/controls",
       "_view_module_version": "1.5.0",
       "_view_name": "HTMLView",
       "description": "",
       "description_tooltip": null,
       "layout": "IPY_MODEL_ac8df79c7b75405fb6081c36d999c193",
       "placeholder": "​",
       "style": "IPY_MODEL_8ea4bc7117e54758b52661639befa34a",
       "value": "<h4>Closed PRs for org: <code>jupyter-widgets</code></h4>\n<h5><a href=\"https://github.com/jupyter-widgets/ipywidgets\">jupyter-widgets/ipywidgets</a></h5>\n<ul>\n<li><a href=\"https://github.com/jupyter-widgets/ipywidgets/pull/2543\">(#2543)</a>: <em>Add some libraries required for building docs without errors.</em> by <strong><a href=\"https://github.com/jasongrout\">@jasongrout</a></strong> merged by <strong><a href=\"https://github.com/jasongrout\">@jasongrout</a></strong></li>\n<li><a href=\"https://github.com/jupyter-widgets/ipywidgets/pull/2525\">(#2525)</a>: <em>Make ipywidgets import under -OO</em> by <strong><a href=\"https://github.com/mattpap\">@mattpap</a></strong> merged by <strong><a href=\"https://github.com/maartenbreddels\">@maartenbreddels</a></strong></li>\n</ul>\n<h5><a href=\"https://github.com/jupyter-widgets/widget-cookiecutter\">jupyter-widgets/widget-cookiecutter</a></h5>\n<ul>\n<li><a href=\"https://github.com/jupyter-widgets/widget-cookiecutter/pull/52\">(#52)</a>: <em>Update to reflect new version number requirements</em> by <strong><a href=\"https://github.com/AaronWatters\">@AaronWatters</a></strong> merged by <strong><a href=\"https://github.com/jasongrout\">@jasongrout</a></strong></li>\n</ul>"
      }
     },
     "52babf37ad3f481c8c150f1b1807669d": {
      "model_module": "@jupyter-widgets/controls",
      "model_module_version": "1.5.0",
      "model_name": "DescriptionStyleModel",
      "state": {
       "_model_module": "@jupyter-widgets/controls",
       "_model_module_version": "1.5.0",
       "_model_name": "DescriptionStyleModel",
       "_view_count": null,
       "_view_module": "@jupyter-widgets/base",
       "_view_module_version": "1.2.0",
       "_view_name": "StyleView",
       "description_width": ""
      }
     },
     "56811a58ad024643ac213c40c590b98f": {
      "model_module": "@jupyter-widgets/base",
      "model_module_version": "1.2.0",
      "model_name": "LayoutModel",
      "state": {
       "_model_module": "@jupyter-widgets/base",
       "_model_module_version": "1.2.0",
       "_model_name": "LayoutModel",
       "_view_count": null,
       "_view_module": "@jupyter-widgets/base",
       "_view_module_version": "1.2.0",
       "_view_name": "LayoutView",
       "align_content": null,
       "align_items": null,
       "align_self": null,
       "border": null,
       "bottom": null,
       "display": null,
       "flex": null,
       "flex_flow": null,
       "grid_area": null,
       "grid_auto_columns": null,
       "grid_auto_flow": null,
       "grid_auto_rows": null,
       "grid_column": null,
       "grid_gap": null,
       "grid_row": null,
       "grid_template_areas": null,
       "grid_template_columns": null,
       "grid_template_rows": null,
       "height": null,
       "justify_content": null,
       "justify_items": null,
       "left": null,
       "margin": null,
       "max_height": null,
       "max_width": null,
       "min_height": null,
       "min_width": null,
       "object_fit": null,
       "object_position": null,
       "order": null,
       "overflow": null,
       "overflow_x": null,
       "overflow_y": null,
       "padding": null,
       "right": null,
       "top": null,
       "visibility": null,
       "width": null
      }
     },
     "5827f111c1484d01b78e160c66e70b7e": {
      "model_module": "@jupyter-widgets/controls",
      "model_module_version": "1.5.0",
      "model_name": "HTMLModel",
      "state": {
       "_dom_classes": [],
       "_model_module": "@jupyter-widgets/controls",
       "_model_module_version": "1.5.0",
       "_model_name": "HTMLModel",
       "_view_count": null,
       "_view_module": "@jupyter-widgets/controls",
       "_view_module_version": "1.5.0",
       "_view_name": "HTMLView",
       "description": "",
       "description_tooltip": null,
       "layout": "IPY_MODEL_8f0b1fa7abc747e6a9ee6db752df0242",
       "placeholder": "​",
       "style": "IPY_MODEL_7265fa83cd4d415fad14a69dd3575d8e",
       "value": "<center><p><a href=\"https://github.com/1637410810\">1637410810</a> | <a href=\"https://github.com/A1996KASH\">A1996KASH</a> | <a href=\"https://github.com/adriendelsalle\">adriendelsalle</a> | <a href=\"https://github.com/afonit\">afonit</a> | <a href=\"https://github.com/afshin\">afshin</a> | <a href=\"https://github.com/agoose77\">agoose77</a> | <a href=\"https://github.com/alfredsasko\">alfredsasko</a> | <a href=\"https://github.com/amarthey\">amarthey</a> | <a href=\"https://github.com/anki-code\">anki-code</a> | <a href=\"https://github.com/anninape\">anninape</a> | <a href=\"https://github.com/aquirdTurtle\">aquirdTurtle</a> | <a href=\"https://github.com/arinbasu\">arinbasu</a> | <a href=\"https://github.com/arogozhnikov\">arogozhnikov</a> | <a href=\"https://github.com/athornton\">athornton</a> | <a href=\"https://github.com/b-trav\">b-trav</a> | <a href=\"https://github.com/bagustris\">bagustris</a> | <a href=\"https://github.com/billgreenwald\">billgreenwald</a> | <a href=\"https://github.com/bkerkhof\">bkerkhof</a> | <a href=\"https://github.com/blink1073\">blink1073</a> | <a href=\"https://github.com/blois\">blois</a> | <a href=\"https://github.com/bollwyvl\">bollwyvl</a> | <a href=\"https://github.com/brukau\">brukau</a> | <a href=\"https://github.com/captainsafia\">captainsafia</a> | <a href=\"https://github.com/carluri\">carluri</a> | <a href=\"https://github.com/celine168\">celine168</a> | <a href=\"https://github.com/chalendony\">chalendony</a> | <a href=\"https://github.com/charliwardbd\">charliwardbd</a> | <a href=\"https://github.com/chengyumeng\">chengyumeng</a> | <a href=\"https://github.com/clkao\">clkao</a> | <a href=\"https://github.com/cocoaaa\">cocoaaa</a> | <a href=\"https://github.com/cornhundred\">cornhundred</a> | <a href=\"https://github.com/csevast\">csevast</a> | <a href=\"https://github.com/czrcbl\">czrcbl</a> | <a href=\"https://github.com/daejong123\">daejong123</a> | <a href=\"https://github.com/damienrj\">damienrj</a> | <a href=\"https://github.com/danfulton\">danfulton</a> | <a href=\"https://github.com/david-waterworth\">david-waterworth</a> | <a href=\"https://github.com/DeLaRiva\">DeLaRiva</a> | <a href=\"https://github.com/dependabot\">dependabot</a> | <a href=\"https://github.com/dhirschfeld\">dhirschfeld</a> | <a href=\"https://github.com/domoritz\">domoritz</a> | <a href=\"https://github.com/DraTeots\">DraTeots</a> | <a href=\"https://github.com/duarteocarmo\">duarteocarmo</a> | <a href=\"https://github.com/dvincentwest\">dvincentwest</a> | <a href=\"https://github.com/dwt\">dwt</a> | <a href=\"https://github.com/DylanLukes\">DylanLukes</a> | <a href=\"https://github.com/echyam\">echyam</a> | <a href=\"https://github.com/edoson\">edoson</a> | <a href=\"https://github.com/elibarzilay\">elibarzilay</a> | <a href=\"https://github.com/ellisonbg\">ellisonbg</a> | <a href=\"https://github.com/ept\">ept</a> | <a href=\"https://github.com/EvelyneC\">EvelyneC</a> | <a href=\"https://github.com/evertrol\">evertrol</a> | <a href=\"https://github.com/fchiriac\">fchiriac</a> | <a href=\"https://github.com/fcollonval\">fcollonval</a> | <a href=\"https://github.com/ffenini\">ffenini</a> | <a href=\"https://github.com/firasm\">firasm</a> | <a href=\"https://github.com/flixr\">flixr</a> | <a href=\"https://github.com/FlorianGD\">FlorianGD</a> | <a href=\"https://github.com/foxes1998\">foxes1998</a> | <a href=\"https://github.com/fr34q\">fr34q</a> | <a href=\"https://github.com/fridgerator\">fridgerator</a> | <a href=\"https://github.com/ghuname\">ghuname</a> | <a href=\"https://github.com/ginsy3000\">ginsy3000</a> | <a href=\"https://github.com/glass-ships\">glass-ships</a> | <a href=\"https://github.com/gnestor\">gnestor</a> | <a href=\"https://github.com/gnilrets\">gnilrets</a> | <a href=\"https://github.com/gogasca\">gogasca</a> | <a href=\"https://github.com/hainm\">hainm</a> | <a href=\"https://github.com/hanzhihua72\">hanzhihua72</a> | <a href=\"https://github.com/haraldschilly\">haraldschilly</a> | <a href=\"https://github.com/hoangthienan95\">hoangthienan95</a> | <a href=\"https://github.com/hoo761\">hoo761</a> | <a href=\"https://github.com/hottwaj\">hottwaj</a> | <a href=\"https://github.com/ian-r-rose\">ian-r-rose</a> | <a href=\"https://github.com/ibdafna\">ibdafna</a> | <a href=\"https://github.com/ieglonew01f\">ieglonew01f</a> | <a href=\"https://github.com/IgorDouven\">IgorDouven</a> | <a href=\"https://github.com/IMAM9AIS\">IMAM9AIS</a> | <a href=\"https://github.com/isabela-pf\">isabela-pf</a> | <a href=\"https://github.com/jaewooklee93\">jaewooklee93</a> | <a href=\"https://github.com/jaipreet-s\">jaipreet-s</a> | <a href=\"https://github.com/jasongrout\">jasongrout</a> | <a href=\"https://github.com/jcoady\">jcoady</a> | <a href=\"https://github.com/jmp75\">jmp75</a> | <a href=\"https://github.com/joelostblom\">joelostblom</a> | <a href=\"https://github.com/JohnOmernik\">JohnOmernik</a> | <a href=\"https://github.com/joyceerhl\">joyceerhl</a> | <a href=\"https://github.com/jtackm\">jtackm</a> | <a href=\"https://github.com/jtpio\">jtpio</a> | <a href=\"https://github.com/jukent\">jukent</a> | <a href=\"https://github.com/juliusvonkohout\">juliusvonkohout</a> | <a href=\"https://github.com/JustinMoser\">JustinMoser</a> | <a href=\"https://github.com/jwclark\">jwclark</a> | <a href=\"https://github.com/kanekalla\">kanekalla</a> | <a href=\"https://github.com/kb0304\">kb0304</a> | <a href=\"https://github.com/kenahoo\">kenahoo</a> | <a href=\"https://github.com/kevmk04\">kevmk04</a> | <a href=\"https://github.com/koliphan2\">koliphan2</a> | <a href=\"https://github.com/komjum6\">komjum6</a> | <a href=\"https://github.com/krassowski\">krassowski</a> | <a href=\"https://github.com/krinsman\">krinsman</a> | <a href=\"https://github.com/krvkir\">krvkir</a> | <a href=\"https://github.com/KsavinN\">KsavinN</a> | <a href=\"https://github.com/ktaletsk\">ktaletsk</a> | <a href=\"https://github.com/kwlzn\">kwlzn</a> | <a href=\"https://github.com/Lips7\">Lips7</a> | <a href=\"https://github.com/lmoresi\">lmoresi</a> | <a href=\"https://github.com/lock\">lock</a> | <a href=\"https://github.com/LoudeNOUGH\">LoudeNOUGH</a> | <a href=\"https://github.com/lucatrv\">lucatrv</a> | <a href=\"https://github.com/LukaPitamic\">LukaPitamic</a> | <a href=\"https://github.com/lukemarsden\">lukemarsden</a> | <a href=\"https://github.com/Madhu94\">Madhu94</a> | <a href=\"https://github.com/madsi1m\">madsi1m</a> | <a href=\"https://github.com/magic-lantern\">magic-lantern</a> | <a href=\"https://github.com/malramsay64\">malramsay64</a> | <a href=\"https://github.com/mashaojing\">mashaojing</a> | <a href=\"https://github.com/mckev-amazon\">mckev-amazon</a> | <a href=\"https://github.com/meeseeksdev\">meeseeksdev</a> | <a href=\"https://github.com/mhavu\">mhavu</a> | <a href=\"https://github.com/michaelaye\">michaelaye</a> | <a href=\"https://github.com/mirestrepo\">mirestrepo</a> | <a href=\"https://github.com/MLBurnham\">MLBurnham</a> | <a href=\"https://github.com/mlucool\">mlucool</a> | <a href=\"https://github.com/mnancel\">mnancel</a> | <a href=\"https://github.com/muammar\">muammar</a> | <a href=\"https://github.com/mudomau\">mudomau</a> | <a href=\"https://github.com/murison\">murison</a> | <a href=\"https://github.com/nanchenchen\">nanchenchen</a> | <a href=\"https://github.com/ndeep147\">ndeep147</a> | <a href=\"https://github.com/ned2\">ned2</a> | <a href=\"https://github.com/nickeubank\">nickeubank</a> | <a href=\"https://github.com/nicorikken\">nicorikken</a> | <a href=\"https://github.com/nielstenboom\">nielstenboom</a> | <a href=\"https://github.com/nscozzaro\">nscozzaro</a> | <a href=\"https://github.com/OhadRubin\">OhadRubin</a> | <a href=\"https://github.com/oldnaari\">oldnaari</a> | <a href=\"https://github.com/OneRaynyDay\">OneRaynyDay</a> | <a href=\"https://github.com/PARIASML\">PARIASML</a> | <a href=\"https://github.com/prabhu1984\">prabhu1984</a> | <a href=\"https://github.com/pybokeh\">pybokeh</a> | <a href=\"https://github.com/Q4living\">Q4living</a> | <a href=\"https://github.com/QuentinAndre\">QuentinAndre</a> | <a href=\"https://github.com/quigleyj-mavenomics\">quigleyj-mavenomics</a> | <a href=\"https://github.com/RafalSkolasinski\">RafalSkolasinski</a> | <a href=\"https://github.com/raulf2012\">raulf2012</a> | <a href=\"https://github.com/rcthomas\">rcthomas</a> | <a href=\"https://github.com/rd5802\">rd5802</a> | <a href=\"https://github.com/rejscotia\">rejscotia</a> | <a href=\"https://github.com/remborg\">remborg</a> | <a href=\"https://github.com/RickWalker\">RickWalker</a> | <a href=\"https://github.com/ruslanrf\">ruslanrf</a> | <a href=\"https://github.com/rvalieris\">rvalieris</a> | <a href=\"https://github.com/saulshanabrook\">saulshanabrook</a> | <a href=\"https://github.com/sballin\">sballin</a> | <a href=\"https://github.com/sbowman-mitre\">sbowman-mitre</a> | <a href=\"https://github.com/scaldarola\">scaldarola</a> | <a href=\"https://github.com/scollis\">scollis</a> | <a href=\"https://github.com/scopatz\">scopatz</a> | <a href=\"https://github.com/sloughin\">sloughin</a> | <a href=\"https://github.com/st-bender\">st-bender</a> | <a href=\"https://github.com/stefanvangastel\">stefanvangastel</a> | <a href=\"https://github.com/stonebig\">stonebig</a> | <a href=\"https://github.com/sushmit86\">sushmit86</a> | <a href=\"https://github.com/SylvainCorlay\">SylvainCorlay</a> | <a href=\"https://github.com/syyee\">syyee</a> | <a href=\"https://github.com/Tanmay-Jaiswal\">Tanmay-Jaiswal</a> | <a href=\"https://github.com/tbrodbeck\">tbrodbeck</a> | <a href=\"https://github.com/telamonian\">telamonian</a> | <a href=\"https://github.com/tgeorgeux\">tgeorgeux</a> | <a href=\"https://github.com/tgllsy\">tgllsy</a> | <a href=\"https://github.com/tgrout\">tgrout</a> | <a href=\"https://github.com/thammegowda\">thammegowda</a> | <a href=\"https://github.com/themmes\">themmes</a> | <a href=\"https://github.com/theskyinlake\">theskyinlake</a> | <a href=\"https://github.com/timkpaine\">timkpaine</a> | <a href=\"https://github.com/timnlupo\">timnlupo</a> | <a href=\"https://github.com/toddrme2178\">toddrme2178</a> | <a href=\"https://github.com/tpollok-kainos\">tpollok-kainos</a> | <a href=\"https://github.com/trallard\">trallard</a> | <a href=\"https://github.com/tslaton\">tslaton</a> | <a href=\"https://github.com/usou\">usou</a> | <a href=\"https://github.com/vidartf\">vidartf</a> | <a href=\"https://github.com/vincent770\">vincent770</a> | <a href=\"https://github.com/vpanneer\">vpanneer</a> | <a href=\"https://github.com/wesinator\">wesinator</a> | <a href=\"https://github.com/williamstein\">williamstein</a> | <a href=\"https://github.com/wkzhu\">wkzhu</a> | <a href=\"https://github.com/wolfv\">wolfv</a> | <a href=\"https://github.com/wonsjb\">wonsjb</a> | <a href=\"https://github.com/wqh17101\">wqh17101</a> | <a href=\"https://github.com/zaneselvans\">zaneselvans</a> | <a href=\"https://github.com/zjiaksmc\">zjiaksmc</a> | <a href=\"https://github.com/Zsailer\">Zsailer</a> | <a href=\"https://github.com/zyrikby\">zyrikby</a></p></center>"
      }
     },
     "5a0391fc3504489d924ac89d66c6e0c1": {
      "model_module": "@jupyter-widgets/controls",
      "model_module_version": "1.5.0",
      "model_name": "DescriptionStyleModel",
      "state": {
       "_model_module": "@jupyter-widgets/controls",
       "_model_module_version": "1.5.0",
       "_model_name": "DescriptionStyleModel",
       "_view_count": null,
       "_view_module": "@jupyter-widgets/base",
       "_view_module_version": "1.2.0",
       "_view_name": "StyleView",
       "description_width": ""
      }
     },
     "5dbab43d73dd40feb634780cc5b7f539": {
      "model_module": "@jupyter-widgets/base",
      "model_module_version": "1.2.0",
      "model_name": "LayoutModel",
      "state": {
       "_model_module": "@jupyter-widgets/base",
       "_model_module_version": "1.2.0",
       "_model_name": "LayoutModel",
       "_view_count": null,
       "_view_module": "@jupyter-widgets/base",
       "_view_module_version": "1.2.0",
       "_view_name": "LayoutView",
       "align_content": null,
       "align_items": null,
       "align_self": null,
       "border": null,
       "bottom": null,
       "display": null,
       "flex": null,
       "flex_flow": null,
       "grid_area": null,
       "grid_auto_columns": null,
       "grid_auto_flow": null,
       "grid_auto_rows": null,
       "grid_column": null,
       "grid_gap": null,
       "grid_row": null,
       "grid_template_areas": null,
       "grid_template_columns": null,
       "grid_template_rows": null,
       "height": null,
       "justify_content": null,
       "justify_items": null,
       "left": null,
       "margin": null,
       "max_height": null,
       "max_width": null,
       "min_height": null,
       "min_width": null,
       "object_fit": null,
       "object_position": null,
       "order": null,
       "overflow": null,
       "overflow_x": null,
       "overflow_y": null,
       "padding": null,
       "right": null,
       "top": null,
       "visibility": null,
       "width": null
      }
     },
     "61e3f4c3717a417ba79ff41e3b3eaad4": {
      "model_module": "@jupyter-widgets/controls",
      "model_module_version": "1.5.0",
      "model_name": "DescriptionStyleModel",
      "state": {
       "_model_module": "@jupyter-widgets/controls",
       "_model_module_version": "1.5.0",
       "_model_name": "DescriptionStyleModel",
       "_view_count": null,
       "_view_module": "@jupyter-widgets/base",
       "_view_module_version": "1.2.0",
       "_view_name": "StyleView",
       "description_width": ""
      }
     },
     "65c54252d5ae4a7fafe57fd4ab373f6f": {
      "model_module": "@jupyter-widgets/controls",
      "model_module_version": "1.5.0",
      "model_name": "HTMLModel",
      "state": {
       "_dom_classes": [],
       "_model_module": "@jupyter-widgets/controls",
       "_model_module_version": "1.5.0",
       "_model_name": "HTMLModel",
       "_view_count": null,
       "_view_module": "@jupyter-widgets/controls",
       "_view_module_version": "1.5.0",
       "_view_name": "HTMLView",
       "description": "",
       "description_tooltip": null,
       "layout": "IPY_MODEL_56811a58ad024643ac213c40c590b98f",
       "placeholder": "​",
       "style": "IPY_MODEL_b5ea5a0df6a443de9563aec199484e33",
       "value": "<h4>ipython</h4>\n<h5><a href=\"https://github.com/ipython/ipykernel\">ipython/ipykernel</a></h5>\n<ul>\n<li><a href=\"https://github.com/ipython/ipykernel/issues/424\">(#424)</a>: <em>IPykernel broken on Python 2.7</em> by <strong><a href=\"https://github.com/matthew-brett\">@matthew-brett</a></strong></li>\n<li><a href=\"https://github.com/ipython/ipykernel/issues/420\">(#420)</a>: <em>5.1.2 Release</em> by <strong><a href=\"https://github.com/MSeal\">@MSeal</a></strong></li>\n<li><a href=\"https://github.com/ipython/ipykernel/issues/423\">(#423)</a>: <em>Release 4.10.1</em> by <strong><a href=\"https://github.com/ccordoba12\">@ccordoba12</a></strong></li>\n</ul>\n<h5><a href=\"https://github.com/ipython/ipyparallel\">ipython/ipyparallel</a></h5>\n<ul>\n<li><a href=\"https://github.com/ipython/ipyparallel/issues/303\">(#303)</a>: <em>pyzmq &gt;= 17 make ipyparallel unstable</em> by <strong><a href=\"https://github.com/cyberwillis\">@cyberwillis</a></strong></li>\n<li><a href=\"https://github.com/ipython/ipyparallel/issues/370\">(#370)</a>: <em>Costarting a ipcontroller and ipengines along the Python script in a single job script</em> by <strong><a href=\"https://github.com/basnijholt\">@basnijholt</a></strong></li>\n</ul>\n<h5><a href=\"https://github.com/ipython/ipython\">ipython/ipython</a></h5>\n<ul>\n<li><a href=\"https://github.com/ipython/ipython/issues/11646\">(#11646)</a>: <em>Duplicated definition of built-in magic aliases after %reset</em> by <strong><a href=\"https://github.com/red8012\">@red8012</a></strong></li>\n<li><a href=\"https://github.com/ipython/ipython/issues/11860\">(#11860)</a>: <em>Unable to launch ipython</em> by <strong><a href=\"https://github.com/jaib1\">@jaib1</a></strong></li>\n<li><a href=\"https://github.com/ipython/ipython/issues/11838\">(#11838)</a>: <em>Jedi support broke auto-completion in accerciser</em> by <strong><a href=\"https://github.com/sthibaul\">@sthibaul</a></strong></li>\n</ul>\n<h5><a href=\"https://github.com/ipython/traitlets\">ipython/traitlets</a></h5>"
      }
     },
     "66c6713e8077407d8776bec93410fe00": {
      "model_module": "@jupyter-widgets/controls",
      "model_module_version": "1.5.0",
      "model_name": "HTMLModel",
      "state": {
       "_dom_classes": [],
       "_model_module": "@jupyter-widgets/controls",
       "_model_module_version": "1.5.0",
       "_model_name": "HTMLModel",
       "_view_count": null,
       "_view_module": "@jupyter-widgets/controls",
       "_view_module_version": "1.5.0",
       "_view_name": "HTMLView",
       "description": "",
       "description_tooltip": null,
       "layout": "IPY_MODEL_8efb51c7924a40e59e2481e165000925",
       "placeholder": "​",
       "style": "IPY_MODEL_5a0391fc3504489d924ac89d66c6e0c1",
       "value": "<h4>jupyter-widgets</h4>\n<h5><a href=\"https://github.com/jupyter-widgets/ipyleaflet\">jupyter-widgets/ipyleaflet</a></h5>\n<ul>\n<li><a href=\"https://github.com/jupyter-widgets/ipyleaflet/issues/412\">(#412)</a>: <em>Animated / moving markers</em> by <strong><a href=\"https://github.com/psychemedia\">@psychemedia</a></strong></li>\n<li><a href=\"https://github.com/jupyter-widgets/ipyleaflet/issues/411\">(#411)</a>: <em>Plot shapefile or KMZ in ipyleaflet</em> by <strong><a href=\"https://github.com/tgrout\">@tgrout</a></strong></li>\n<li><a href=\"https://github.com/jupyter-widgets/ipyleaflet/issues/413\">(#413)</a>: <em>YAML issue</em> by <strong><a href=\"https://github.com/gemmavnash\">@gemmavnash</a></strong></li>\n<li><a href=\"https://github.com/jupyter-widgets/ipyleaflet/issues/92\">(#92)</a>: <em>Add on_click to Marker objects</em> by <strong><a href=\"https://github.com/rsignell-usgs\">@rsignell-usgs</a></strong></li>\n</ul>\n<h5><a href=\"https://github.com/jupyter-widgets/ipywidgets\">jupyter-widgets/ipywidgets</a></h5>\n<ul>\n<li><a href=\"https://github.com/jupyter-widgets/ipywidgets/issues/2522\">(#2522)</a>: <em>FileUpload size limit?</em> by <strong><a href=\"https://github.com/cosmoscalibur\">@cosmoscalibur</a></strong></li>\n<li><a href=\"https://github.com/jupyter-widgets/ipywidgets/issues/2369\">(#2369)</a>: <em>Is there anyway to keep a widget state even after a kernel restart?</em> by <strong><a href=\"https://github.com/andyjmc\">@andyjmc</a></strong></li>\n<li><a href=\"https://github.com/jupyter-widgets/ipywidgets/issues/2527\">(#2527)</a>: _Jupyter and Ipywidgets up to date, yet ImportError: IntProgress not found. Please update jupyter and ipywidgets. _ by <strong><a href=\"https://github.com/janPesl\">@janPesl</a></strong></li>\n</ul>\n<h5><a href=\"https://github.com/jupyter-widgets/jupyterlab-sidecar\">jupyter-widgets/jupyterlab-sidecar</a></h5>\n<ul>\n<li><a href=\"https://github.com/jupyter-widgets/jupyterlab-sidecar/issues/25\">(#25)</a>: <em>CSS layout changed with jupyter 1.0 upgrade</em> by <strong><a href=\"https://github.com/ablaagaard\">@ablaagaard</a></strong></li>\n<li><a href=\"https://github.com/jupyter-widgets/jupyterlab-sidecar/issues/19\">(#19)</a>: <em>Tests are not passing</em> by <strong><a href=\"https://github.com/martinRenou\">@martinRenou</a></strong></li>\n</ul>\n<h5><a href=\"https://github.com/jupyter-widgets/widget-cookiecutter\">jupyter-widgets/widget-cookiecutter</a></h5>\n<h5><a href=\"https://github.com/jupyter-widgets/widget-ts-cookiecutter\">jupyter-widgets/widget-ts-cookiecutter</a></h5>\n<ul>\n<li><a href=\"https://github.com/jupyter-widgets/widget-ts-cookiecutter/issues/43\">(#43)</a>: <em>Example for running ExampleView</em> by <strong><a href=\"https://github.com/tlimpanont\">@tlimpanont</a></strong></li>\n</ul>"
      }
     },
     "6df13312ba26442483febd1ec71e15d3": {
      "model_module": "@jupyter-widgets/controls",
      "model_module_version": "1.5.0",
      "model_name": "TabModel",
      "state": {
       "_dom_classes": [],
       "_model_module": "@jupyter-widgets/controls",
       "_model_module_version": "1.5.0",
       "_model_name": "TabModel",
       "_titles": {
        "0": "binder-examples",
        "1": "ipython",
        "2": "jupyter",
        "3": "jupyter-widgets",
        "4": "jupyterhub",
        "5": "jupyterlab"
       },
       "_view_count": null,
       "_view_module": "@jupyter-widgets/controls",
       "_view_module_version": "1.5.0",
       "_view_name": "TabView",
       "box_style": "",
       "children": [
        "IPY_MODEL_2924e76358f248a1ae1baccf98bb9f13",
        "IPY_MODEL_225ff4dfde814eddaf400ec2d1658491",
        "IPY_MODEL_ffa5bade1209479881990aa42a5f40ba",
        "IPY_MODEL_3abcd67589b346f0b80bd22b43b19732",
        "IPY_MODEL_b44c2e48ed4b4e0bb44ec904b1c3bc91",
        "IPY_MODEL_5827f111c1484d01b78e160c66e70b7e"
       ],
       "layout": "IPY_MODEL_ff9dd0dc51db4006b8d83718dfced62d",
       "selected_index": 0
      }
     },
     "6f43b2b91bd64c80964d606c98874a3a": {
      "model_module": "@jupyter-widgets/controls",
      "model_module_version": "1.5.0",
      "model_name": "HTMLModel",
      "state": {
       "_dom_classes": [],
       "_model_module": "@jupyter-widgets/controls",
       "_model_module_version": "1.5.0",
       "_model_name": "HTMLModel",
       "_view_count": null,
       "_view_module": "@jupyter-widgets/controls",
       "_view_module_version": "1.5.0",
       "_view_name": "HTMLView",
       "description": "",
       "description_tooltip": null,
       "layout": "IPY_MODEL_473665f3316c49b3b04bc15b36723b38",
       "placeholder": "​",
       "style": "IPY_MODEL_ce1acd1304004291a3def2e7d8c36493",
       "value": "<h4>Closed PRs for org: <code>jupyterhub</code></h4>\n<h5><a href=\"https://github.com/jupyterhub/binder\">jupyterhub/binder</a></h5>\n<ul>\n<li><a href=\"https://github.com/jupyterhub/binder/pull/170\">(#170)</a>: <em>Correct typo</em> by <strong><a href=\"https://github.com/gliptak\">@gliptak</a></strong> merged by <strong><a href=\"https://github.com/betatim\">@betatim</a></strong></li>\n</ul>\n<h5><a href=\"https://github.com/jupyterhub/binderhub\">jupyterhub/binderhub</a></h5>\n<ul>\n<li><a href=\"https://github.com/jupyterhub/binderhub/pull/932\">(#932)</a>: <em>[MRG] Fix docker registry health check</em> by <strong><a href=\"https://github.com/betatim\">@betatim</a></strong> merged by <strong><a href=\"https://github.com/betatim\">@betatim</a></strong></li>\n<li><a href=\"https://github.com/jupyterhub/binderhub/pull/931\">(#931)</a>: <em>fixing binder social logo design</em> by <strong><a href=\"https://github.com/choldgraf\">@choldgraf</a></strong> merged by <strong><a href=\"https://github.com/betatim\">@betatim</a></strong></li>\n<li><a href=\"https://github.com/jupyterhub/binderhub/pull/929\">(#929)</a>: <em>[MRG] Try to resolve an image name to determine registry health</em> by <strong><a href=\"https://github.com/betatim\">@betatim</a></strong> merged by <strong><a href=\"https://github.com/betatim\">@betatim</a></strong></li>\n<li><a href=\"https://github.com/jupyterhub/binderhub/pull/927\">(#927)</a>: <em>determine chart version with last change in project root</em> by <strong><a href=\"https://github.com/bitnik\">@bitnik</a></strong> merged by <strong><a href=\"https://github.com/betatim\">@betatim</a></strong></li>\n<li><a href=\"https://github.com/jupyterhub/binderhub/pull/925\">(#925)</a>: <em>adding jupyterlab file paths for preview</em> by <strong><a href=\"https://github.com/choldgraf\">@choldgraf</a></strong> merged by <strong><a href=\"https://github.com/betatim\">@betatim</a></strong></li>\n<li><a href=\"https://github.com/jupyterhub/binderhub/pull/924\">(#924)</a>: <em>[MRG] Add more loading messages</em> by <strong><a href=\"https://github.com/betatim\">@betatim</a></strong> merged by <strong><a href=\"https://github.com/choldgraf\">@choldgraf</a></strong></li>\n<li><a href=\"https://github.com/jupyterhub/binderhub/pull/923\">(#923)</a>: <em>[MRG] Automatically open the log while building a repository</em> by <strong><a href=\"https://github.com/betatim\">@betatim</a></strong> merged by <strong><a href=\"https://github.com/choldgraf\">@choldgraf</a></strong></li>\n<li><a href=\"https://github.com/jupyterhub/binderhub/pull/921\">(#921)</a>: <em>Fixes and tests for git unresolved ref support</em> by <strong><a href=\"https://github.com/hugokerstens\">@hugokerstens</a></strong> merged by <strong><a href=\"https://github.com/betatim\">@betatim</a></strong></li>\n<li><a href=\"https://github.com/jupyterhub/binderhub/pull/917\">(#917)</a>: <em>adding help text loop to loading page</em> by <strong><a href=\"https://github.com/choldgraf\">@choldgraf</a></strong> merged by <strong><a href=\"https://github.com/betatim\">@betatim</a></strong></li>\n<li><a href=\"https://github.com/jupyterhub/binderhub/pull/916\">(#916)</a>: <em>Add extraArgs to dind</em> by <strong><a href=\"https://github.com/enolfc\">@enolfc</a></strong> merged by <strong><a href=\"https://github.com/betatim\">@betatim</a></strong></li>\n<li><a href=\"https://github.com/jupyterhub/binderhub/pull/915\">(#915)</a>: <em>tweaks to social link</em> by <strong><a href=\"https://github.com/choldgraf\">@choldgraf</a></strong> merged by <strong><a href=\"https://github.com/betatim\">@betatim</a></strong></li>\n<li><a href=\"https://github.com/jupyterhub/binderhub/pull/913\">(#913)</a>: <em>updating social tweaks</em> by <strong><a href=\"https://github.com/choldgraf\">@choldgraf</a></strong> merged by <strong><a href=\"https://github.com/betatim\">@betatim</a></strong></li>\n</ul>\n<h5><a href=\"https://github.com/jupyterhub/firstuseauthenticator\">jupyterhub/firstuseauthenticator</a></h5>\n<ul>\n<li><a href=\"https://github.com/jupyterhub/firstuseauthenticator/pull/23\">(#23)</a>: <em>fixed 'change password' feature for Jupyterhub version 1.0.0</em> by <strong><a href=\"https://github.com/ABVitali\">@ABVitali</a></strong> merged by <strong><a href=\"https://github.com/GeorgianaElena\">@GeorgianaElena</a></strong></li>\n</ul>\n<h5><a href=\"https://github.com/jupyterhub/jupyterhub\">jupyterhub/jupyterhub</a></h5>\n<ul>\n<li><a href=\"https://github.com/jupyterhub/jupyterhub/pull/2704\">(#2704)</a>: <em>Create a warning when creating a service implicitly from service_tokens</em> by <strong><a href=\"https://github.com/katsar0v\">@katsar0v</a></strong> merged by <strong><a href=\"https://github.com/betatim\">@betatim</a></strong></li>\n<li><a href=\"https://github.com/jupyterhub/jupyterhub/pull/2702\">(#2702)</a>: <em>Fix mistypos</em> by <strong><a href=\"https://github.com/rlukin\">@rlukin</a></strong> merged by <strong><a href=\"https://github.com/betatim\">@betatim</a></strong></li>\n<li><a href=\"https://github.com/jupyterhub/jupyterhub/pull/2696\">(#2696)</a>: <em>Add Jupyter community link</em> by <strong><a href=\"https://github.com/mattjshannon\">@mattjshannon</a></strong> merged by <strong><a href=\"https://github.com/GeorgianaElena\">@GeorgianaElena</a></strong></li>\n<li><a href=\"https://github.com/jupyterhub/jupyterhub/pull/2695\">(#2695)</a>: <em>Fix failing travis tests</em> by <strong><a href=\"https://github.com/GeorgianaElena\">@GeorgianaElena</a></strong> merged by <strong><a href=\"https://github.com/minrk\">@minrk</a></strong></li>\n<li><a href=\"https://github.com/jupyterhub/jupyterhub/pull/2682\">(#2682)</a>: <em>Add <code>server_name</code> to <code>spawn_url</code></em> by <strong><a href=\"https://github.com/rcthomas\">@rcthomas</a></strong> merged by <strong><a href=\"https://github.com/GeorgianaElena\">@GeorgianaElena</a></strong></li>\n<li><a href=\"https://github.com/jupyterhub/jupyterhub/pull/2672\">(#2672)</a>: <em>Replace header logo: jupyter -&gt; jupyterhub</em> by <strong><a href=\"https://github.com/consideRatio\">@consideRatio</a></strong> merged by <strong><a href=\"https://github.com/betatim\">@betatim</a></strong></li>\n<li><a href=\"https://github.com/jupyterhub/jupyterhub/pull/2670\">(#2670)</a>: <em>/hub/admin redirect to login</em> by <strong><a href=\"https://github.com/GeorgianaElena\">@GeorgianaElena</a></strong> merged by <strong><a href=\"https://github.com/betatim\">@betatim</a></strong></li>\n</ul>\n<h5><a href=\"https://github.com/jupyterhub/mybinder.org-deploy\">jupyterhub/mybinder.org-deploy</a></h5>\n<ul>\n<li><a href=\"https://github.com/jupyterhub/mybinder.org-deploy/pull/1138\">(#1138)</a>: <em>Wait for 300s before rechecking an unhealthy cluster</em> by <strong><a href=\"https://github.com/betatim\">@betatim</a></strong> merged by <strong><a href=\"https://github.com/betatim\">@betatim</a></strong></li>\n<li><a href=\"https://github.com/jupyterhub/mybinder.org-deploy/pull/1137\">(#1137)</a>: <em>Increasing OVH to 15%</em> by <strong><a href=\"https://github.com/betatim\">@betatim</a></strong> merged by <strong><a href=\"https://github.com/betatim\">@betatim</a></strong></li>\n<li><a href=\"https://github.com/jupyterhub/mybinder.org-deploy/pull/1136\">(#1136)</a>: <em>Update binderhub with better docker registry health check</em> by <strong><a href=\"https://github.com/betatim\">@betatim</a></strong> merged by <strong><a href=\"https://github.com/betatim\">@betatim</a></strong></li>\n<li><a href=\"https://github.com/jupyterhub/mybinder.org-deploy/pull/1133\">(#1133)</a>: <em>Reduce traffic to OVH</em> by <strong><a href=\"https://github.com/betatim\">@betatim</a></strong> merged by <strong><a href=\"https://github.com/betatim\">@betatim</a></strong></li>\n<li><a href=\"https://github.com/jupyterhub/mybinder.org-deploy/pull/1129\">(#1129)</a>: <em>Increase OVH to 15% again</em> by <strong><a href=\"https://github.com/betatim\">@betatim</a></strong> merged by <strong><a href=\"https://github.com/betatim\">@betatim</a></strong></li>\n<li><a href=\"https://github.com/jupyterhub/mybinder.org-deploy/pull/1122\">(#1122)</a>: <em>Reduce traffic to OVH as the registry there has problems</em> by <strong><a href=\"https://github.com/betatim\">@betatim</a></strong> merged by <strong><a href=\"https://github.com/betatim\">@betatim</a></strong></li>\n</ul>\n<h5><a href=\"https://github.com/jupyterhub/nbgitpuller\">jupyterhub/nbgitpuller</a></h5>\n<ul>\n<li><a href=\"https://github.com/jupyterhub/nbgitpuller/pull/103\">(#103)</a>: <em>Bump version number</em> by <strong><a href=\"https://github.com/yuvipanda\">@yuvipanda</a></strong> merged by <strong><a href=\"https://github.com/yuvipanda\">@yuvipanda</a></strong></li>\n<li><a href=\"https://github.com/jupyterhub/nbgitpuller/pull/102\">(#102)</a>: <em>Fix legacy links with empty path</em> by <strong><a href=\"https://github.com/yuvipanda\">@yuvipanda</a></strong> merged by <strong><a href=\"https://github.com/yuvipanda\">@yuvipanda</a></strong></li>\n</ul>\n<h5><a href=\"https://github.com/jupyterhub/oauthenticator\">jupyterhub/oauthenticator</a></h5>\n<ul>\n<li><a href=\"https://github.com/jupyterhub/oauthenticator/pull/280\">(#280)</a>: <em>add configurable username claim</em> by <strong><a href=\"https://github.com/jeff-sternberg\">@jeff-sternberg</a></strong> merged by <strong><a href=\"https://github.com/minrk\">@minrk</a></strong></li>\n</ul>\n<h5><a href=\"https://github.com/jupyterhub/team-compass\">jupyterhub/team-compass</a></h5>\n<ul>\n<li><a href=\"https://github.com/jupyterhub/team-compass/pull/198\">(#198)</a>: <em>Add notes from August 2019 meeting</em> by <strong><a href=\"https://github.com/Zsailer\">@Zsailer</a></strong> merged by <strong><a href=\"https://github.com/choldgraf\">@choldgraf</a></strong></li>\n</ul>\n<h5><a href=\"https://github.com/jupyterhub/traefik-proxy\">jupyterhub/traefik-proxy</a></h5>\n<ul>\n<li><a href=\"https://github.com/jupyterhub/traefik-proxy/pull/69\">(#69)</a>: <em>Fix format in install script warnings</em> by <strong><a href=\"https://github.com/GeorgianaElena\">@GeorgianaElena</a></strong> merged by <strong><a href=\"https://github.com/GeorgianaElena\">@GeorgianaElena</a></strong></li>\n</ul>\n<h5><a href=\"https://github.com/jupyterhub/zero-to-jupyterhub-k8s\">jupyterhub/zero-to-jupyterhub-k8s</a></h5>\n<ul>\n<li><a href=\"https://github.com/jupyterhub/zero-to-jupyterhub-k8s/pull/1380\">(#1380)</a>: <em>Allow adding additional ingress rules in network policy</em> by <strong><a href=\"https://github.com/yuvipanda\">@yuvipanda</a></strong> merged by <strong><a href=\"https://github.com/consideRatio\">@consideRatio</a></strong></li>\n<li><a href=\"https://github.com/jupyterhub/zero-to-jupyterhub-k8s/pull/1378\">(#1378)</a>: <em>Proxy deployment: Change probes to https port</em> by <strong><a href=\"https://github.com/chicocvenancio\">@chicocvenancio</a></strong> merged by <strong><a href=\"https://github.com/consideRatio\">@consideRatio</a></strong></li>\n<li><a href=\"https://github.com/jupyterhub/zero-to-jupyterhub-k8s/pull/1376\">(#1376)</a>: <em>Fix typo in jupyterhub_config.py comment</em> by <strong><a href=\"https://github.com/loganlinn\">@loganlinn</a></strong> merged by <strong><a href=\"https://github.com/betatim\">@betatim</a></strong></li>\n<li><a href=\"https://github.com/jupyterhub/zero-to-jupyterhub-k8s/pull/1363\">(#1363)</a>: <em>Fixed formatting error in links</em> by <strong><a href=\"https://github.com/tlkh\">@tlkh</a></strong> merged by <strong><a href=\"https://github.com/betatim\">@betatim</a></strong></li>\n<li><a href=\"https://github.com/jupyterhub/zero-to-jupyterhub-k8s/pull/1361\">(#1361)</a>: <em>[MRG] Readiness and Liveness probes re-added</em> by <strong><a href=\"https://github.com/consideRatio\">@consideRatio</a></strong> merged by <strong><a href=\"https://github.com/betatim\">@betatim</a></strong></li>\n<li><a href=\"https://github.com/jupyterhub/zero-to-jupyterhub-k8s/pull/1358\">(#1358)</a>: <em>Instructions for adding GPUs and increasing shared memory</em> by <strong><a href=\"https://github.com/tlkh\">@tlkh</a></strong> merged by <strong><a href=\"https://github.com/betatim\">@betatim</a></strong></li>\n<li><a href=\"https://github.com/jupyterhub/zero-to-jupyterhub-k8s/pull/1356\">(#1356)</a>: <em>Revert \"Configure liveness/readinessProbe\"</em> by <strong><a href=\"https://github.com/consideRatio\">@consideRatio</a></strong> merged by <strong><a href=\"https://github.com/consideRatio\">@consideRatio</a></strong></li>\n</ul>"
      }
     },
     "7053d7d2145d4809b20e2140df7e40eb": {
      "model_module": "@jupyter-widgets/base",
      "model_module_version": "1.2.0",
      "model_name": "LayoutModel",
      "state": {
       "_model_module": "@jupyter-widgets/base",
       "_model_module_version": "1.2.0",
       "_model_name": "LayoutModel",
       "_view_count": null,
       "_view_module": "@jupyter-widgets/base",
       "_view_module_version": "1.2.0",
       "_view_name": "LayoutView",
       "align_content": null,
       "align_items": null,
       "align_self": null,
       "border": null,
       "bottom": null,
       "display": null,
       "flex": null,
       "flex_flow": null,
       "grid_area": null,
       "grid_auto_columns": null,
       "grid_auto_flow": null,
       "grid_auto_rows": null,
       "grid_column": null,
       "grid_gap": null,
       "grid_row": null,
       "grid_template_areas": null,
       "grid_template_columns": null,
       "grid_template_rows": null,
       "height": null,
       "justify_content": null,
       "justify_items": null,
       "left": null,
       "margin": null,
       "max_height": null,
       "max_width": null,
       "min_height": null,
       "min_width": null,
       "object_fit": null,
       "object_position": null,
       "order": null,
       "overflow": null,
       "overflow_x": null,
       "overflow_y": null,
       "padding": null,
       "right": null,
       "top": null,
       "visibility": null,
       "width": null
      }
     },
     "712e13338a194ecdb380723784905306": {
      "model_module": "@jupyter-widgets/controls",
      "model_module_version": "1.5.0",
      "model_name": "DescriptionStyleModel",
      "state": {
       "_model_module": "@jupyter-widgets/controls",
       "_model_module_version": "1.5.0",
       "_model_name": "DescriptionStyleModel",
       "_view_count": null,
       "_view_module": "@jupyter-widgets/base",
       "_view_module_version": "1.2.0",
       "_view_name": "StyleView",
       "description_width": ""
      }
     },
     "7265fa83cd4d415fad14a69dd3575d8e": {
      "model_module": "@jupyter-widgets/controls",
      "model_module_version": "1.5.0",
      "model_name": "DescriptionStyleModel",
      "state": {
       "_model_module": "@jupyter-widgets/controls",
       "_model_module_version": "1.5.0",
       "_model_name": "DescriptionStyleModel",
       "_view_count": null,
       "_view_module": "@jupyter-widgets/base",
       "_view_module_version": "1.2.0",
       "_view_name": "StyleView",
       "description_width": ""
      }
     },
     "7392a77498e74760931aeb57892c3c81": {
      "model_module": "@jupyter-widgets/controls",
      "model_module_version": "1.5.0",
      "model_name": "HTMLModel",
      "state": {
       "_dom_classes": [],
       "_model_module": "@jupyter-widgets/controls",
       "_model_module_version": "1.5.0",
       "_model_name": "HTMLModel",
       "_view_count": null,
       "_view_module": "@jupyter-widgets/controls",
       "_view_module_version": "1.5.0",
       "_view_name": "HTMLView",
       "description": "",
       "description_tooltip": null,
       "layout": "IPY_MODEL_ad31ddc7523c45c4adeb1a18d847003a",
       "placeholder": "​",
       "style": "IPY_MODEL_bac8f46afb684e7fa6c9f5e15cdafe0c",
       "value": "<h4>jupyter</h4>\n<h5><a href=\"https://github.com/jupyter/atom-notebook\">jupyter/atom-notebook</a></h5>\n<ul>\n<li><a href=\"https://github.com/jupyter/atom-notebook/issues/89\">(#89)</a>: <em>getting an error when install jupyter-notebook on Atom</em> by <strong><a href=\"https://github.com/omarHazim\">@omarHazim</a></strong></li>\n<li><a href=\"https://github.com/jupyter/atom-notebook/issues/86\">(#86)</a>: <em>Installation fails on Atom</em> by <strong><a href=\"https://github.com/devashishdhiman\">@devashishdhiman</a></strong></li>\n<li><a href=\"https://github.com/jupyter/atom-notebook/issues/84\">(#84)</a>: <em>jupyter-notebook@0.0.10 installation failed</em> by <strong><a href=\"https://github.com/crazylazylife\">@crazylazylife</a></strong></li>\n<li><a href=\"https://github.com/jupyter/atom-notebook/issues/83\">(#83)</a>: <em>Uninstallable on macOS 10.14</em> by <strong><a href=\"https://github.com/arnavs\">@arnavs</a></strong></li>\n</ul>\n<h5><a href=\"https://github.com/jupyter/design\">jupyter/design</a></h5>\n<ul>\n<li><a href=\"https://github.com/jupyter/design/issues/59\">(#59)</a>: <em>Who made the \"community call\" logo?</em> by <strong><a href=\"https://github.com/choldgraf\">@choldgraf</a></strong></li>\n</ul>\n<h5><a href=\"https://github.com/jupyter/docker-stacks\">jupyter/docker-stacks</a></h5>\n<ul>\n<li><a href=\"https://github.com/jupyter/docker-stacks/issues/914\">(#914)</a>: <em>Numpy version not compatible to Catboost</em> by <strong><a href=\"https://github.com/tqa236\">@tqa236</a></strong></li>\n</ul>\n<h5><a href=\"https://github.com/jupyter/enhancement-proposals\">jupyter/enhancement-proposals</a></h5>\n<ul>\n<li><a href=\"https://github.com/jupyter/enhancement-proposals/issues/31\">(#31)</a>: <em>[JEP 0028] Clearly define the smallest unit that is a \"Jupyter Server\"</em> by <strong><a href=\"https://github.com/Zsailer\">@Zsailer</a></strong></li>\n</ul>\n<h5><a href=\"https://github.com/jupyter/enterprise_gateway\">jupyter/enterprise_gateway</a></h5>\n<ul>\n<li><a href=\"https://github.com/jupyter/enterprise_gateway/issues/626\">(#626)</a>: <em>Kubernetes ingress</em> by <strong><a href=\"https://github.com/witten\">@witten</a></strong></li>\n<li><a href=\"https://github.com/jupyter/enterprise_gateway/issues/562\">(#562)</a>: <em>High Availability - session persistence on bare metal machines</em> by <strong><a href=\"https://github.com/Gsbreddy\">@Gsbreddy</a></strong></li>\n<li><a href=\"https://github.com/jupyter/enterprise_gateway/issues/721\">(#721)</a>: <em>JupyterHub integration with Jupyter Enterprise Gateway (DockerSwarm)</em> by <strong><a href=\"https://github.com/mihirkapadiap\">@mihirkapadiap</a></strong></li>\n</ul>\n<h5><a href=\"https://github.com/jupyter/jupyter\">jupyter/jupyter</a></h5>\n<ul>\n<li><a href=\"https://github.com/jupyter/jupyter/issues/248\">(#248)</a>: <em>java gateway process exited before sending the driver its port number</em> by <strong><a href=\"https://github.com/leafjungle\">@leafjungle</a></strong></li>\n</ul>\n<h5><a href=\"https://github.com/jupyter/jupyter-book\">jupyter/jupyter-book</a></h5>\n<ul>\n<li><a href=\"https://github.com/jupyter/jupyter-book/issues/236\">(#236)</a>: <em>RFC: Brainstorming single-page documents</em> by <strong><a href=\"https://github.com/emdupre\">@emdupre</a></strong></li>\n</ul>\n<h5><a href=\"https://github.com/jupyter/jupyter-drive\">jupyter/jupyter-drive</a></h5>\n<h5><a href=\"https://github.com/jupyter/jupyter-sphinx\">jupyter/jupyter-sphinx</a></h5>\n<h5><a href=\"https://github.com/jupyter/jupyter.github.io\">jupyter/jupyter.github.io</a></h5>\n<h5><a href=\"https://github.com/jupyter/jupyter_client\">jupyter/jupyter_client</a></h5>\n<ul>\n<li><a href=\"https://github.com/jupyter/jupyter_client/issues/433\">(#433)</a>: <em>RFC: Asynchronous Comm Messaging</em> by <strong><a href=\"https://github.com/travigd\">@travigd</a></strong></li>\n<li><a href=\"https://github.com/jupyter/jupyter_client/issues/465\">(#465)</a>: <em>Multikernelmanager not managing Accepted Kernels</em> by <strong><a href=\"https://github.com/vikasgarg1996\">@vikasgarg1996</a></strong></li>\n</ul>\n<h5><a href=\"https://github.com/jupyter/jupyter_console\">jupyter/jupyter_console</a></h5>\n<ul>\n<li><a href=\"https://github.com/jupyter/jupyter_console/issues/158\">(#158)</a>: <em>Jupyter-console incompatible with prompt-toolkit 2.0.2</em> by <strong><a href=\"https://github.com/blfuentes\">@blfuentes</a></strong></li>\n</ul>\n<h5><a href=\"https://github.com/jupyter/jupyter_core\">jupyter/jupyter_core</a></h5>\n<ul>\n<li><a href=\"https://github.com/jupyter/jupyter_core/issues/84\">(#84)</a>: <em>Use jupyter command, It show error: No such file or directory</em> by <strong><a href=\"https://github.com/Anne623\">@Anne623</a></strong></li>\n</ul>\n<h5><a href=\"https://github.com/jupyter/jupyter_server\">jupyter/jupyter_server</a></h5>\n<h5><a href=\"https://github.com/jupyter/kernel_gateway\">jupyter/kernel_gateway</a></h5>\n<h5><a href=\"https://github.com/jupyter/kernel_gateway_demos\">jupyter/kernel_gateway_demos</a></h5>\n<ul>\n<li><a href=\"https://github.com/jupyter/kernel_gateway_demos/issues/62\">(#62)</a>: <em>Files for Scotch example no longer available</em> by <strong><a href=\"https://github.com/robmarkcole\">@robmarkcole</a></strong></li>\n</ul>\n<h5><a href=\"https://github.com/jupyter/nbconvert\">jupyter/nbconvert</a></h5>\n<ul>\n<li><a href=\"https://github.com/jupyter/nbconvert/issues/1092\">(#1092)</a>: <em>Async / asynchronous execution</em> by <strong><a href=\"https://github.com/maartenbreddels\">@maartenbreddels</a></strong></li>\n<li><a href=\"https://github.com/jupyter/nbconvert/issues/1052\">(#1052)</a>: <em>NBConvert 5.6 Release</em> by <strong><a href=\"https://github.com/MSeal\">@MSeal</a></strong></li>\n</ul>\n<h5><a href=\"https://github.com/jupyter/nbdime\">jupyter/nbdime</a></h5>\n<ul>\n<li><a href=\"https://github.com/jupyter/nbdime/issues/493\">(#493)</a>: <em>Buttons not aligned in JupyterLab</em> by <strong><a href=\"https://github.com/jasonyan0302\">@jasonyan0302</a></strong></li>\n<li><a href=\"https://github.com/jupyter/nbdime/issues/464\">(#464)</a>: <em>dockerfile for building this from source</em> by <strong><a href=\"https://github.com/Godley\">@Godley</a></strong></li>\n<li><a href=\"https://github.com/jupyter/nbdime/issues/449\">(#449)</a>: <em>Swagger Spec for Server API</em> by <strong><a href=\"https://github.com/jaipreet-s\">@jaipreet-s</a></strong></li>\n</ul>\n<h5><a href=\"https://github.com/jupyter/nbformat\">jupyter/nbformat</a></h5>\n<ul>\n<li><a href=\"https://github.com/jupyter/nbformat/issues/138\">(#138)</a>: <em>Current notebook format version</em> by <strong><a href=\"https://github.com/jasongrout\">@jasongrout</a></strong></li>\n</ul>\n<h5><a href=\"https://github.com/jupyter/nbgrader\">jupyter/nbgrader</a></h5>\n<ul>\n<li><a href=\"https://github.com/jupyter/nbgrader/issues/1159\">(#1159)</a>: <em>Unpin version of ipython in 0.5.6.dev and release 0.5.6</em> by <strong><a href=\"https://github.com/ocefpaf\">@ocefpaf</a></strong></li>\n</ul>\n<h5><a href=\"https://github.com/jupyter/nbviewer\">jupyter/nbviewer</a></h5>\n<ul>\n<li><a href=\"https://github.com/jupyter/nbviewer/issues/837\">(#837)</a>: <em>Docker image : enable extensions</em> by <strong><a href=\"https://github.com/dbeniamine\">@dbeniamine</a></strong></li>\n<li><a href=\"https://github.com/jupyter/nbviewer/issues/848\">(#848)</a>: <em>A Conda related error is thrown during a Docker build of nbviewer.</em> by <strong><a href=\"https://github.com/dm-wyncode\">@dm-wyncode</a></strong></li>\n<li><a href=\"https://github.com/jupyter/nbviewer/issues/741\">(#741)</a>: <em>dockerhub images are not tagged</em> by <strong><a href=\"https://github.com/MarkusTeufelberger\">@MarkusTeufelberger</a></strong></li>\n<li><a href=\"https://github.com/jupyter/nbviewer/issues/470\">(#470)</a>: <em>Latex not displaying properly</em> by <strong><a href=\"https://github.com/vijayvd\">@vijayvd</a></strong></li>\n</ul>\n<h5><a href=\"https://github.com/jupyter/notebook\">jupyter/notebook</a></h5>\n<h5><a href=\"https://github.com/jupyter/qtconsole\">jupyter/qtconsole</a></h5>\n<ul>\n<li><a href=\"https://github.com/jupyter/qtconsole/issues/351\">(#351)</a>: <em>Prompt automatically scrolling down to the bottom of the window on execution</em> by <strong><a href=\"https://github.com/Gauler\">@Gauler</a></strong></li>\n</ul>\n<h5><a href=\"https://github.com/jupyter/repo2docker\">jupyter/repo2docker</a></h5>\n<ul>\n<li><a href=\"https://github.com/jupyter/repo2docker/issues/758\">(#758)</a>: <em>libconv dependency error when using repo2docker but not when using conda env directly</em> by <strong><a href=\"https://github.com/rbavery\">@rbavery</a></strong></li>\n<li><a href=\"https://github.com/jupyter/repo2docker/issues/763\">(#763)</a>: <em>Could not find a kernel matching Julia 1.1.1</em> by <strong><a href=\"https://github.com/janlisse\">@janlisse</a></strong></li>\n<li><a href=\"https://github.com/jupyter/repo2docker/issues/615\">(#615)</a>: <em>Rewrite semver tests to use pytest's parametrize functionality</em> by <strong><a href=\"https://github.com/betatim\">@betatim</a></strong></li>\n</ul>\n<h5><a href=\"https://github.com/jupyter/telemetry\">jupyter/telemetry</a></h5>\n<ul>\n<li><a href=\"https://github.com/jupyter/telemetry/issues/22\">(#22)</a>: <em>Installing the extension</em> by <strong><a href=\"https://github.com/tonyfast\">@tonyfast</a></strong></li>\n<li><a href=\"https://github.com/jupyter/telemetry/issues/23\">(#23)</a>: <em>Example of filtering events to different logging handlers</em> by <strong><a href=\"https://github.com/Zsailer\">@Zsailer</a></strong></li>\n<li><a href=\"https://github.com/jupyter/telemetry/issues/21\">(#21)</a>: <em>Trusted events</em> by <strong><a href=\"https://github.com/jaipreet-s\">@jaipreet-s</a></strong></li>\n</ul>"
      }
     },
     "753177cf8e8f42b085a7f93b7a790302": {
      "model_module": "@jupyter-widgets/controls",
      "model_module_version": "1.5.0",
      "model_name": "DescriptionStyleModel",
      "state": {
       "_model_module": "@jupyter-widgets/controls",
       "_model_module_version": "1.5.0",
       "_model_name": "DescriptionStyleModel",
       "_view_count": null,
       "_view_module": "@jupyter-widgets/base",
       "_view_module_version": "1.2.0",
       "_view_name": "StyleView",
       "description_width": ""
      }
     },
     "7783b6b0c6d34e0586c7649c29d4fd52": {
      "model_module": "@jupyter-widgets/controls",
      "model_module_version": "1.5.0",
      "model_name": "TabModel",
      "state": {
       "_dom_classes": [],
       "_model_module": "@jupyter-widgets/controls",
       "_model_module_version": "1.5.0",
       "_model_name": "TabModel",
       "_titles": {
        "0": "binder-examples",
        "1": "ipython",
        "2": "jupyter",
        "3": "jupyter-widgets",
        "4": "jupyterhub",
        "5": "jupyterlab"
       },
       "_view_count": null,
       "_view_module": "@jupyter-widgets/controls",
       "_view_module_version": "1.5.0",
       "_view_name": "TabView",
       "box_style": "",
       "children": [
        "IPY_MODEL_011171c208e641d8bf34ddb7eb7f9bc4",
        "IPY_MODEL_65c54252d5ae4a7fafe57fd4ab373f6f",
        "IPY_MODEL_7392a77498e74760931aeb57892c3c81",
        "IPY_MODEL_66c6713e8077407d8776bec93410fe00",
        "IPY_MODEL_7eccef6de0fe4119b2c22df5e95ab588",
        "IPY_MODEL_92c3a8f7fb7b40438ab30b7e7df4b548"
       ],
       "layout": "IPY_MODEL_46453d6cd24b4b9ea1493b62e95aef2f",
       "selected_index": 0
      }
     },
     "79f5b40ed0ce48d4977ec2f7e7b41d16": {
      "model_module": "@jupyter-widgets/controls",
      "model_module_version": "1.5.0",
      "model_name": "HTMLModel",
      "state": {
       "_dom_classes": [],
       "_model_module": "@jupyter-widgets/controls",
       "_model_module_version": "1.5.0",
       "_model_name": "HTMLModel",
       "_view_count": null,
       "_view_module": "@jupyter-widgets/controls",
       "_view_module_version": "1.5.0",
       "_view_name": "HTMLView",
       "description": "",
       "description_tooltip": null,
       "layout": "IPY_MODEL_13a73143131b49f8b07fd1e43cfaad42",
       "placeholder": "​",
       "style": "IPY_MODEL_e9427d48c61a4e8fbca8b3d0e9f794a1",
       "value": "<h4>jupyterlab</h4>\n<h5><a href=\"https://github.com/jupyterlab/debugger\">jupyterlab/debugger</a></h5>\n<ul>\n<li><a href=\"https://github.com/jupyterlab/debugger/issues/12\">(#12)</a>: <em>Add CI</em> by <strong><a href=\"https://github.com/jtpio\">@jtpio</a></strong></li>\n</ul>\n<h5><a href=\"https://github.com/jupyterlab/jupyter-renderers\">jupyterlab/jupyter-renderers</a></h5>\n<ul>\n<li><a href=\"https://github.com/jupyterlab/jupyter-renderers/issues/211\">(#211)</a>: <em>CI is failing</em> by <strong><a href=\"https://github.com/gnestor\">@gnestor</a></strong></li>\n</ul>\n<h5><a href=\"https://github.com/jupyterlab/jupyterlab\">jupyterlab/jupyterlab</a></h5>\n<h5><a href=\"https://github.com/jupyterlab/jupyterlab-celltags\">jupyterlab/jupyterlab-celltags</a></h5>\n<ul>\n<li><a href=\"https://github.com/jupyterlab/jupyterlab-celltags/issues/186\">(#186)</a>: <em>CellTags not visible after install</em> by <strong><a href=\"https://github.com/mudomau\">@mudomau</a></strong></li>\n</ul>\n<h5><a href=\"https://github.com/jupyterlab/jupyterlab-commenting\">jupyterlab/jupyterlab-commenting</a></h5>\n<h5><a href=\"https://github.com/jupyterlab/jupyterlab-data-explorer\">jupyterlab/jupyterlab-data-explorer</a></h5>\n<ul>\n<li><a href=\"https://github.com/jupyterlab/jupyterlab-data-explorer/issues/69\">(#69)</a>: <em>Clean up data browser UI</em> by <strong><a href=\"https://github.com/saulshanabrook\">@saulshanabrook</a></strong></li>\n<li><a href=\"https://github.com/jupyterlab/jupyterlab-data-explorer/issues/42\">(#42)</a>: <em>Handle renaming datasets</em> by <strong><a href=\"https://github.com/saulshanabrook\">@saulshanabrook</a></strong></li>\n<li><a href=\"https://github.com/jupyterlab/jupyterlab-data-explorer/issues/31\">(#31)</a>: <em>Adding support for HDF5: feasible?</em> by <strong><a href=\"https://github.com/telamonian\">@telamonian</a></strong></li>\n</ul>\n<h5><a href=\"https://github.com/jupyterlab/jupyterlab-git\">jupyterlab/jupyterlab-git</a></h5>\n<ul>\n<li><a href=\"https://github.com/jupyterlab/jupyterlab-git/issues/391\">(#391)</a>: <em>git diff doesn't work for files inside folders</em> by <strong><a href=\"https://github.com/brukau\">@brukau</a></strong></li>\n</ul>\n<h5><a href=\"https://github.com/jupyterlab/jupyterlab-github\">jupyterlab/jupyterlab-github</a></h5>\n<ul>\n<li><a href=\"https://github.com/jupyterlab/jupyterlab-github/issues/90\">(#90)</a>: <em>Error Loading Theme</em> by <strong><a href=\"https://github.com/theskyinlake\">@theskyinlake</a></strong></li>\n</ul>\n<h5><a href=\"https://github.com/jupyterlab/jupyterlab-google-drive\">jupyterlab/jupyterlab-google-drive</a></h5>\n<h5><a href=\"https://github.com/jupyterlab/jupyterlab-hdf5\">jupyterlab/jupyterlab-hdf5</a></h5>\n<ul>\n<li><a href=\"https://github.com/jupyterlab/jupyterlab-hdf5/issues/5\">(#5)</a>: <em>Dev install doesn't work without h5py already installed</em> by <strong><a href=\"https://github.com/saulshanabrook\">@saulshanabrook</a></strong></li>\n<li><a href=\"https://github.com/jupyterlab/jupyterlab-hdf5/issues/8\">(#8)</a>: <em>Add slicing of datasets</em> by <strong><a href=\"https://github.com/telamonian\">@telamonian</a></strong></li>\n</ul>\n<h5><a href=\"https://github.com/jupyterlab/jupyterlab-latex\">jupyterlab/jupyterlab-latex</a></h5>\n<ul>\n<li><a href=\"https://github.com/jupyterlab/jupyterlab-latex/issues/119\">(#119)</a>: <em>Tex files compiled independently in multi-file LaTeX project</em> by <strong><a href=\"https://github.com/mnancel\">@mnancel</a></strong></li>\n<li><a href=\"https://github.com/jupyterlab/jupyterlab-latex/issues/114\">(#114)</a>: <em>No preview after fresh install</em> by <strong><a href=\"https://github.com/KaynRyu\">@KaynRyu</a></strong></li>\n<li><a href=\"https://github.com/jupyterlab/jupyterlab-latex/issues/81\">(#81)</a>: <em>Does jupyterlab-latex have roadmap to provide latex grammer prompt on editing?</em> by <strong><a href=\"https://github.com/Honghe\">@Honghe</a></strong></li>\n</ul>\n<h5><a href=\"https://github.com/jupyterlab/jupyterlab-metadata-service\">jupyterlab/jupyterlab-metadata-service</a></h5>\n<h5><a href=\"https://github.com/jupyterlab/jupyterlab-monaco\">jupyterlab/jupyterlab-monaco</a></h5>\n<ul>\n<li><a href=\"https://github.com/jupyterlab/jupyterlab-monaco/issues/25\">(#25)</a>: <em>Did this get abandoned?</em> by <strong><a href=\"https://github.com/bsdis\">@bsdis</a></strong></li>\n</ul>\n<h5><a href=\"https://github.com/jupyterlab/jupyterlab-toc\">jupyterlab/jupyterlab-toc</a></h5>\n<ul>\n<li><a href=\"https://github.com/jupyterlab/jupyterlab-toc/issues/91\">(#91)</a>: _Toc does not appear in the sidebar with Jupyterlab 1.0.0 _ by <strong><a href=\"https://github.com/marcevrard\">@marcevrard</a></strong></li>\n</ul>\n<h5><a href=\"https://github.com/jupyterlab/jupyterlab_apod\">jupyterlab/jupyterlab_apod</a></h5>\n<h5><a href=\"https://github.com/jupyterlab/jupyterlab_server\">jupyterlab/jupyterlab_server</a></h5>\n<h5><a href=\"https://github.com/jupyterlab/pull-requests\">jupyterlab/pull-requests</a></h5>\n<ul>\n<li><a href=\"https://github.com/jupyterlab/pull-requests/issues/6\">(#6)</a>: <em>Integrate with jupyterlab-github</em> by <strong><a href=\"https://github.com/ian-r-rose\">@ian-r-rose</a></strong></li>\n</ul>\n<h5><a href=\"https://github.com/jupyterlab/team-compass\">jupyterlab/team-compass</a></h5>"
      }
     },
     "7eccef6de0fe4119b2c22df5e95ab588": {
      "model_module": "@jupyter-widgets/controls",
      "model_module_version": "1.5.0",
      "model_name": "HTMLModel",
      "state": {
       "_dom_classes": [],
       "_model_module": "@jupyter-widgets/controls",
       "_model_module_version": "1.5.0",
       "_model_name": "HTMLModel",
       "_view_count": null,
       "_view_module": "@jupyter-widgets/controls",
       "_view_module_version": "1.5.0",
       "_view_name": "HTMLView",
       "description": "",
       "description_tooltip": null,
       "layout": "IPY_MODEL_c6387a2c3dee4fb8ab93a1465422a9d4",
       "placeholder": "​",
       "style": "IPY_MODEL_753177cf8e8f42b085a7f93b7a790302",
       "value": "<h4>jupyterhub</h4>\n<h5><a href=\"https://github.com/jupyterhub/batchspawner\">jupyterhub/batchspawner</a></h5>\n<ul>\n<li><a href=\"https://github.com/jupyterhub/batchspawner/issues/153\">(#153)</a>: <em>setting keepvars_extra globaly</em> by <strong><a href=\"https://github.com/omula\">@omula</a></strong></li>\n</ul>\n<h5><a href=\"https://github.com/jupyterhub/binder\">jupyterhub/binder</a></h5>\n<ul>\n<li><a href=\"https://github.com/jupyterhub/binder/issues/166\">(#166)</a>: <em>ResolvePackageNotFound: requests=2.14</em> by <strong><a href=\"https://github.com/shankari\">@shankari</a></strong></li>\n</ul>\n<h5><a href=\"https://github.com/jupyterhub/binderhub\">jupyterhub/binderhub</a></h5>\n<ul>\n<li><a href=\"https://github.com/jupyterhub/binderhub/issues/933\">(#933)</a>: <em>Time to release v0.2?</em> by <strong><a href=\"https://github.com/choldgraf\">@choldgraf</a></strong></li>\n</ul>\n<h5><a href=\"https://github.com/jupyterhub/chartpress\">jupyterhub/chartpress</a></h5>\n<h5><a href=\"https://github.com/jupyterhub/dockerspawner\">jupyterhub/dockerspawner</a></h5>\n<ul>\n<li><a href=\"https://github.com/jupyterhub/dockerspawner/issues/209\">(#209)</a>: _c.DockerSpawner.volumes invalid characters for a local volume _ by <strong><a href=\"https://github.com/yocode\">@yocode</a></strong></li>\n<li><a href=\"https://github.com/jupyterhub/dockerspawner/issues/244\">(#244)</a>: <em>Use runtime nvidia</em> by <strong><a href=\"https://github.com/Luke035\">@Luke035</a></strong></li>\n<li><a href=\"https://github.com/jupyterhub/dockerspawner/issues/320\">(#320)</a>: <em>Named servers in jupyterhub</em> by <strong><a href=\"https://github.com/mathematicalmichael\">@mathematicalmichael</a></strong></li>\n<li><a href=\"https://github.com/jupyterhub/dockerspawner/issues/172\">(#172)</a>: <em>Shared team volumes for certain users</em> by <strong><a href=\"https://github.com/TiemenSch\">@TiemenSch</a></strong></li>\n</ul>\n<h5><a href=\"https://github.com/jupyterhub/firstuseauthenticator\">jupyterhub/firstuseauthenticator</a></h5>\n<ul>\n<li><a href=\"https://github.com/jupyterhub/firstuseauthenticator/issues/24\">(#24)</a>: <em>500 server error when changing password</em> by <strong><a href=\"https://github.com/the21st\">@the21st</a></strong></li>\n</ul>\n<h5><a href=\"https://github.com/jupyterhub/helm-chart\">jupyterhub/helm-chart</a></h5>\n<ul>\n<li><a href=\"https://github.com/jupyterhub/helm-chart/issues/100\">(#100)</a>: <em>Py notebook kernel failed to connect (JHub v0.8.2)</em> by <strong><a href=\"https://github.com/wierzba3\">@wierzba3</a></strong></li>\n</ul>\n<h5><a href=\"https://github.com/jupyterhub/jupyter-rsession-proxy\">jupyterhub/jupyter-rsession-proxy</a></h5>\n<ul>\n<li><a href=\"https://github.com/jupyterhub/jupyter-rsession-proxy/issues/69\">(#69)</a>: <em>should I install another R server in order to use RStudio?</em> by <strong><a href=\"https://github.com/dashpot4\">@dashpot4</a></strong></li>\n<li><a href=\"https://github.com/jupyterhub/jupyter-rsession-proxy/issues/72\">(#72)</a>: <em>Option to set \"reconnect false;\" for shiny apps</em> by <strong><a href=\"https://github.com/vnijs\">@vnijs</a></strong></li>\n<li><a href=\"https://github.com/jupyterhub/jupyter-rsession-proxy/issues/66\">(#66)</a>: <em>Shiny applications wont load from rstudio</em> by <strong><a href=\"https://github.com/PhaniTejaNallamothu\">@PhaniTejaNallamothu</a></strong></li>\n</ul>\n<h5><a href=\"https://github.com/jupyterhub/jupyter-server-proxy\">jupyterhub/jupyter-server-proxy</a></h5>\n<ul>\n<li><a href=\"https://github.com/jupyterhub/jupyter-server-proxy/issues/144\">(#144)</a>: <em>Automating the release procedure</em> by <strong><a href=\"https://github.com/betatim\">@betatim</a></strong></li>\n<li><a href=\"https://github.com/jupyterhub/jupyter-server-proxy/issues/143\">(#143)</a>: <em>Issue while starting up Jupiter from Anaconda.</em> by <strong><a href=\"https://github.com/vinaykumar8\">@vinaykumar8</a></strong></li>\n</ul>\n<h5><a href=\"https://github.com/jupyterhub/jupyterhub\">jupyterhub/jupyterhub</a></h5>\n<ul>\n<li><a href=\"https://github.com/jupyterhub/jupyterhub/issues/2674\">(#2674)</a>: <em>Starting Jupyterlab in jupyterhub leads to a blank screen</em> by <strong><a href=\"https://github.com/arinbasu\">@arinbasu</a></strong></li>\n<li><a href=\"https://github.com/jupyterhub/jupyterhub/issues/2688\">(#2688)</a>: <em>Single login only</em> by <strong><a href=\"https://github.com/sdd3\">@sdd3</a></strong></li>\n<li><a href=\"https://github.com/jupyterhub/jupyterhub/issues/2606\">(#2606)</a>: <em>Downloading html file from file explorer opens file in new tab instead of downloading</em> by <strong><a href=\"https://github.com/kevmk04\">@kevmk04</a></strong></li>\n</ul>\n<h5><a href=\"https://github.com/jupyterhub/jupyterhub-deploy-docker\">jupyterhub/jupyterhub-deploy-docker</a></h5>\n<ul>\n<li><a href=\"https://github.com/jupyterhub/jupyterhub-deploy-docker/issues/86\">(#86)</a>: <em>Docker volumes permission denied</em> by <strong><a href=\"https://github.com/SanderGn\">@SanderGn</a></strong></li>\n<li><a href=\"https://github.com/jupyterhub/jupyterhub-deploy-docker/issues/85\">(#85)</a>: <em>upgrade to 1.0</em> by <strong><a href=\"https://github.com/mathematicalmichael\">@mathematicalmichael</a></strong></li>\n</ul>\n<h5><a href=\"https://github.com/jupyterhub/kubespawner\">jupyterhub/kubespawner</a></h5>\n<ul>\n<li><a href=\"https://github.com/jupyterhub/kubespawner/issues/346\">(#346)</a>: <em>extra_container_config not reflecting</em> by <strong><a href=\"https://github.com/vinayjain15\">@vinayjain15</a></strong></li>\n<li><a href=\"https://github.com/jupyterhub/kubespawner/issues/345\">(#345)</a>: <em>expand_all used where maybe it should not be</em> by <strong><a href=\"https://github.com/rokroskar\">@rokroskar</a></strong></li>\n<li><a href=\"https://github.com/jupyterhub/kubespawner/issues/344\">(#344)</a>: <em>Failing to override volume_mounts with readOnly set to True</em> by <strong><a href=\"https://github.com/fersarr\">@fersarr</a></strong></li>\n<li><a href=\"https://github.com/jupyterhub/kubespawner/issues/342\">(#342)</a>: _ImportError with kubespawner 0.10.1 and kubernetes 10.0 _ by <strong><a href=\"https://github.com/dbricare\">@dbricare</a></strong></li>\n<li><a href=\"https://github.com/jupyterhub/kubespawner/issues/328\">(#328)</a>: <em>Spawn Failed Message: Harmless Error but Could Turn Off Novice Users</em> by <strong><a href=\"https://github.com/julienchastang\">@julienchastang</a></strong></li>\n</ul>\n<h5><a href=\"https://github.com/jupyterhub/ldapauthenticator\">jupyterhub/ldapauthenticator</a></h5>\n<ul>\n<li><a href=\"https://github.com/jupyterhub/ldapauthenticator/issues/131\">(#131)</a>: <em>Is there a reason for resolve_username not being resolve_userdn ?</em> by <strong><a href=\"https://github.com/roman-kouzmenko\">@roman-kouzmenko</a></strong></li>\n<li><a href=\"https://github.com/jupyterhub/ldapauthenticator/issues/128\">(#128)</a>: <em>ldap auth is failing a regex on a list that should be a string</em> by <strong><a href=\"https://github.com/sqqqrly\">@sqqqrly</a></strong></li>\n<li><a href=\"https://github.com/jupyterhub/ldapauthenticator/issues/136\">(#136)</a>: <em>TLJH + ldapauthenticator against Active Directory</em> by <strong><a href=\"https://github.com/stormerider\">@stormerider</a></strong></li>\n</ul>\n<h5><a href=\"https://github.com/jupyterhub/ltiauthenticator\">jupyterhub/ltiauthenticator</a></h5>\n<h5><a href=\"https://github.com/jupyterhub/mybinder.org-deploy\">jupyterhub/mybinder.org-deploy</a></h5>\n<ul>\n<li><a href=\"https://github.com/jupyterhub/mybinder.org-deploy/issues/1124\">(#1124)</a>: <em>Turing Institute joining the BinderHub Federation</em> by <strong><a href=\"https://github.com/sgibson91\">@sgibson91</a></strong></li>\n<li><a href=\"https://github.com/jupyterhub/mybinder.org-deploy/issues/1121\">(#1121)</a>: <em>Henchbot on heroku?</em> by <strong><a href=\"https://github.com/betatim\">@betatim</a></strong></li>\n<li><a href=\"https://github.com/jupyterhub/mybinder.org-deploy/issues/1125\">(#1125)</a>: <em>repo2docker handling of none utf-8 encoded files</em> by <strong><a href=\"https://github.com/YoniChechik\">@YoniChechik</a></strong></li>\n<li><a href=\"https://github.com/jupyterhub/mybinder.org-deploy/issues/1131\">(#1131)</a>: <em>Designing an on-ramp for new mybinder.org operators</em> by <strong><a href=\"https://github.com/betatim\">@betatim</a></strong></li>\n</ul>\n<h5><a href=\"https://github.com/jupyterhub/nativeauthenticator\">jupyterhub/nativeauthenticator</a></h5>\n<ul>\n<li><a href=\"https://github.com/jupyterhub/nativeauthenticator/issues/74\">(#74)</a>: <em>Add a link to the signup page in the login screen</em> by <strong><a href=\"https://github.com/yuvipanda\">@yuvipanda</a></strong></li>\n<li><a href=\"https://github.com/jupyterhub/nativeauthenticator/issues/73\">(#73)</a>: <em>Require users to confirm password in signup screen</em> by <strong><a href=\"https://github.com/yuvipanda\">@yuvipanda</a></strong></li>\n</ul>\n<h5><a href=\"https://github.com/jupyterhub/nbgitpuller\">jupyterhub/nbgitpuller</a></h5>\n<ul>\n<li><a href=\"https://github.com/jupyterhub/nbgitpuller/issues/85\">(#85)</a>: <em>Block insecure ways of pulling from private repositories by default</em> by <strong><a href=\"https://github.com/yuvipanda\">@yuvipanda</a></strong></li>\n</ul>\n<h5><a href=\"https://github.com/jupyterhub/oauthenticator\">jupyterhub/oauthenticator</a></h5>\n<ul>\n<li><a href=\"https://github.com/jupyterhub/oauthenticator/issues/284\">(#284)</a>: <em>Add documentation for ORCID-based authentication</em> by <strong><a href=\"https://github.com/nuest\">@nuest</a></strong></li>\n<li><a href=\"https://github.com/jupyterhub/oauthenticator/issues/253\">(#253)</a>: <em>GitHub Enterprise authentication with self signed certificate</em> by <strong><a href=\"https://github.com/nvs-abhilash\">@nvs-abhilash</a></strong></li>\n<li><a href=\"https://github.com/jupyterhub/oauthenticator/issues/247\">(#247)</a>: <em>GenericoAuthenticator fails with 401 trying to get token with code</em> by <strong><a href=\"https://github.com/kyeotic\">@kyeotic</a></strong></li>\n</ul>\n<h5><a href=\"https://github.com/jupyterhub/systemdspawner\">jupyterhub/systemdspawner</a></h5>\n<ul>\n<li><a href=\"https://github.com/jupyterhub/systemdspawner/issues/28\">(#28)</a>: <em>Failed to Start Server</em> by <strong><a href=\"https://github.com/dclong\">@dclong</a></strong></li>\n</ul>\n<h5><a href=\"https://github.com/jupyterhub/team-compass\">jupyterhub/team-compass</a></h5>\n<ul>\n<li><a href=\"https://github.com/jupyterhub/team-compass/issues/196\">(#196)</a>: <em>August Team Meeting 2019</em> by <strong><a href=\"https://github.com/Zsailer\">@Zsailer</a></strong></li>\n<li><a href=\"https://github.com/jupyterhub/team-compass/issues/186\">(#186)</a>: <em>Proposed team practice: team role annual check-ins</em> by <strong><a href=\"https://github.com/choldgraf\">@choldgraf</a></strong></li>\n</ul>\n<h5><a href=\"https://github.com/jupyterhub/the-littlest-jupyterhub\">jupyterhub/the-littlest-jupyterhub</a></h5>\n<ul>\n<li><a href=\"https://github.com/jupyterhub/the-littlest-jupyterhub/issues/425\">(#425)</a>: <em>Make spawner start voila?</em> by <strong><a href=\"https://github.com/DentonGentry\">@DentonGentry</a></strong></li>\n<li><a href=\"https://github.com/jupyterhub/the-littlest-jupyterhub/issues/397\">(#397)</a>: <em>redirect loop</em> by <strong><a href=\"https://github.com/wqh17101\">@wqh17101</a></strong></li>\n<li><a href=\"https://github.com/jupyterhub/the-littlest-jupyterhub/issues/406\">(#406)</a>: <em>CAS with TLJH</em> by <strong><a href=\"https://github.com/alvinhuff\">@alvinhuff</a></strong></li>\n<li><a href=\"https://github.com/jupyterhub/the-littlest-jupyterhub/issues/240\">(#240)</a>: <em>Fails to install, can't find <code>jupyter</code> on 18.04</em> by <strong><a href=\"https://github.com/cpmpercussion\">@cpmpercussion</a></strong></li>\n</ul>\n<h5><a href=\"https://github.com/jupyterhub/traefik-proxy\">jupyterhub/traefik-proxy</a></h5>\n<ul>\n<li><a href=\"https://github.com/jupyterhub/traefik-proxy/issues/26\">(#26)</a>: <em>Deploy in zero-to-jupyterhub</em> by <strong><a href=\"https://github.com/minrk\">@minrk</a></strong></li>\n<li><a href=\"https://github.com/jupyterhub/traefik-proxy/issues/71\">(#71)</a>: <em>Distributed configuration problem</em> by <strong><a href=\"https://github.com/vhaldemar\">@vhaldemar</a></strong></li>\n<li><a href=\"https://github.com/jupyterhub/traefik-proxy/issues/67\">(#67)</a>: <em>Missing format in .install warnings</em> by <strong><a href=\"https://github.com/vhaldemar\">@vhaldemar</a></strong></li>\n</ul>\n<h5><a href=\"https://github.com/jupyterhub/zero-to-jupyterhub-k8s\">jupyterhub/zero-to-jupyterhub-k8s</a></h5>\n<ul>\n<li><a href=\"https://github.com/jupyterhub/zero-to-jupyterhub-k8s/issues/1375\">(#1375)</a>: <em>Instructions for GCP are not working for machine-type = f1-micro</em> by <strong><a href=\"https://github.com/nscozzaro\">@nscozzaro</a></strong></li>\n<li><a href=\"https://github.com/jupyterhub/zero-to-jupyterhub-k8s/issues/1364\">(#1364)</a>: <em>Our proxy pod is a pet, but should be cattle</em> by <strong><a href=\"https://github.com/consideRatio\">@consideRatio</a></strong></li>\n<li><a href=\"https://github.com/jupyterhub/zero-to-jupyterhub-k8s/issues/1102\">(#1102)</a>: <em>Google auth error: HTTP 599: gnutls_handshake() failed</em> by <strong><a href=\"https://github.com/joshbode\">@joshbode</a></strong></li>\n<li><a href=\"https://github.com/jupyterhub/zero-to-jupyterhub-k8s/issues/1028\">(#1028)</a>: <em>400: Bad Request - OAuth state missing from cookies (Google auth)</em> by <strong><a href=\"https://github.com/anton-khodak\">@anton-khodak</a></strong></li>\n</ul>"
      }
     },
     "85be467b08e14b4a9f76743a78aabe12": {
      "model_module": "@jupyter-widgets/base",
      "model_module_version": "1.2.0",
      "model_name": "LayoutModel",
      "state": {
       "_model_module": "@jupyter-widgets/base",
       "_model_module_version": "1.2.0",
       "_model_name": "LayoutModel",
       "_view_count": null,
       "_view_module": "@jupyter-widgets/base",
       "_view_module_version": "1.2.0",
       "_view_name": "LayoutView",
       "align_content": null,
       "align_items": null,
       "align_self": null,
       "border": null,
       "bottom": null,
       "display": null,
       "flex": null,
       "flex_flow": null,
       "grid_area": null,
       "grid_auto_columns": null,
       "grid_auto_flow": null,
       "grid_auto_rows": null,
       "grid_column": null,
       "grid_gap": null,
       "grid_row": null,
       "grid_template_areas": null,
       "grid_template_columns": null,
       "grid_template_rows": null,
       "height": null,
       "justify_content": null,
       "justify_items": null,
       "left": null,
       "margin": null,
       "max_height": null,
       "max_width": null,
       "min_height": null,
       "min_width": null,
       "object_fit": null,
       "object_position": null,
       "order": null,
       "overflow": null,
       "overflow_x": null,
       "overflow_y": null,
       "padding": null,
       "right": null,
       "top": null,
       "visibility": null,
       "width": null
      }
     },
     "887c66ccccf840eba91d0712628a329d": {
      "model_module": "@jupyter-widgets/base",
      "model_module_version": "1.2.0",
      "model_name": "LayoutModel",
      "state": {
       "_model_module": "@jupyter-widgets/base",
       "_model_module_version": "1.2.0",
       "_model_name": "LayoutModel",
       "_view_count": null,
       "_view_module": "@jupyter-widgets/base",
       "_view_module_version": "1.2.0",
       "_view_name": "LayoutView",
       "align_content": null,
       "align_items": null,
       "align_self": null,
       "border": null,
       "bottom": null,
       "display": null,
       "flex": null,
       "flex_flow": null,
       "grid_area": null,
       "grid_auto_columns": null,
       "grid_auto_flow": null,
       "grid_auto_rows": null,
       "grid_column": null,
       "grid_gap": null,
       "grid_row": null,
       "grid_template_areas": null,
       "grid_template_columns": null,
       "grid_template_rows": null,
       "height": null,
       "justify_content": null,
       "justify_items": null,
       "left": null,
       "margin": null,
       "max_height": null,
       "max_width": null,
       "min_height": null,
       "min_width": null,
       "object_fit": null,
       "object_position": null,
       "order": null,
       "overflow": null,
       "overflow_x": null,
       "overflow_y": null,
       "padding": null,
       "right": null,
       "top": null,
       "visibility": null,
       "width": null
      }
     },
     "8ea4bc7117e54758b52661639befa34a": {
      "model_module": "@jupyter-widgets/controls",
      "model_module_version": "1.5.0",
      "model_name": "DescriptionStyleModel",
      "state": {
       "_model_module": "@jupyter-widgets/controls",
       "_model_module_version": "1.5.0",
       "_model_name": "DescriptionStyleModel",
       "_view_count": null,
       "_view_module": "@jupyter-widgets/base",
       "_view_module_version": "1.2.0",
       "_view_name": "StyleView",
       "description_width": ""
      }
     },
     "8efb51c7924a40e59e2481e165000925": {
      "model_module": "@jupyter-widgets/base",
      "model_module_version": "1.2.0",
      "model_name": "LayoutModel",
      "state": {
       "_model_module": "@jupyter-widgets/base",
       "_model_module_version": "1.2.0",
       "_model_name": "LayoutModel",
       "_view_count": null,
       "_view_module": "@jupyter-widgets/base",
       "_view_module_version": "1.2.0",
       "_view_name": "LayoutView",
       "align_content": null,
       "align_items": null,
       "align_self": null,
       "border": null,
       "bottom": null,
       "display": null,
       "flex": null,
       "flex_flow": null,
       "grid_area": null,
       "grid_auto_columns": null,
       "grid_auto_flow": null,
       "grid_auto_rows": null,
       "grid_column": null,
       "grid_gap": null,
       "grid_row": null,
       "grid_template_areas": null,
       "grid_template_columns": null,
       "grid_template_rows": null,
       "height": null,
       "justify_content": null,
       "justify_items": null,
       "left": null,
       "margin": null,
       "max_height": null,
       "max_width": null,
       "min_height": null,
       "min_width": null,
       "object_fit": null,
       "object_position": null,
       "order": null,
       "overflow": null,
       "overflow_x": null,
       "overflow_y": null,
       "padding": null,
       "right": null,
       "top": null,
       "visibility": null,
       "width": null
      }
     },
     "8f0b1fa7abc747e6a9ee6db752df0242": {
      "model_module": "@jupyter-widgets/base",
      "model_module_version": "1.2.0",
      "model_name": "LayoutModel",
      "state": {
       "_model_module": "@jupyter-widgets/base",
       "_model_module_version": "1.2.0",
       "_model_name": "LayoutModel",
       "_view_count": null,
       "_view_module": "@jupyter-widgets/base",
       "_view_module_version": "1.2.0",
       "_view_name": "LayoutView",
       "align_content": null,
       "align_items": null,
       "align_self": null,
       "border": null,
       "bottom": null,
       "display": null,
       "flex": null,
       "flex_flow": null,
       "grid_area": null,
       "grid_auto_columns": null,
       "grid_auto_flow": null,
       "grid_auto_rows": null,
       "grid_column": null,
       "grid_gap": null,
       "grid_row": null,
       "grid_template_areas": null,
       "grid_template_columns": null,
       "grid_template_rows": null,
       "height": null,
       "justify_content": null,
       "justify_items": null,
       "left": null,
       "margin": null,
       "max_height": null,
       "max_width": null,
       "min_height": null,
       "min_width": null,
       "object_fit": null,
       "object_position": null,
       "order": null,
       "overflow": null,
       "overflow_x": null,
       "overflow_y": null,
       "padding": null,
       "right": null,
       "top": null,
       "visibility": null,
       "width": null
      }
     },
     "92c3a8f7fb7b40438ab30b7e7df4b548": {
      "model_module": "@jupyter-widgets/controls",
      "model_module_version": "1.5.0",
      "model_name": "HTMLModel",
      "state": {
       "_dom_classes": [],
       "_model_module": "@jupyter-widgets/controls",
       "_model_module_version": "1.5.0",
       "_model_name": "HTMLModel",
       "_view_count": null,
       "_view_module": "@jupyter-widgets/controls",
       "_view_module_version": "1.5.0",
       "_view_name": "HTMLView",
       "description": "",
       "description_tooltip": null,
       "layout": "IPY_MODEL_470640f500264eaeb9b18eed16103b67",
       "placeholder": "​",
       "style": "IPY_MODEL_bae77bbf4afb4b9f9926d2078e782c19",
       "value": "<h4>jupyterlab</h4>\n<h5><a href=\"https://github.com/jupyterlab/debugger\">jupyterlab/debugger</a></h5>\n<ul>\n<li><a href=\"https://github.com/jupyterlab/debugger/issues/12\">(#12)</a>: <em>Add CI</em> by <strong><a href=\"https://github.com/jtpio\">@jtpio</a></strong></li>\n</ul>\n<h5><a href=\"https://github.com/jupyterlab/jupyter-renderers\">jupyterlab/jupyter-renderers</a></h5>\n<ul>\n<li><a href=\"https://github.com/jupyterlab/jupyter-renderers/issues/211\">(#211)</a>: <em>CI is failing</em> by <strong><a href=\"https://github.com/gnestor\">@gnestor</a></strong></li>\n</ul>\n<h5><a href=\"https://github.com/jupyterlab/jupyterlab\">jupyterlab/jupyterlab</a></h5>\n<h5><a href=\"https://github.com/jupyterlab/jupyterlab-celltags\">jupyterlab/jupyterlab-celltags</a></h5>\n<ul>\n<li><a href=\"https://github.com/jupyterlab/jupyterlab-celltags/issues/186\">(#186)</a>: <em>CellTags not visible after install</em> by <strong><a href=\"https://github.com/mudomau\">@mudomau</a></strong></li>\n</ul>\n<h5><a href=\"https://github.com/jupyterlab/jupyterlab-commenting\">jupyterlab/jupyterlab-commenting</a></h5>\n<h5><a href=\"https://github.com/jupyterlab/jupyterlab-data-explorer\">jupyterlab/jupyterlab-data-explorer</a></h5>\n<ul>\n<li><a href=\"https://github.com/jupyterlab/jupyterlab-data-explorer/issues/69\">(#69)</a>: <em>Clean up data browser UI</em> by <strong><a href=\"https://github.com/saulshanabrook\">@saulshanabrook</a></strong></li>\n<li><a href=\"https://github.com/jupyterlab/jupyterlab-data-explorer/issues/42\">(#42)</a>: <em>Handle renaming datasets</em> by <strong><a href=\"https://github.com/saulshanabrook\">@saulshanabrook</a></strong></li>\n<li><a href=\"https://github.com/jupyterlab/jupyterlab-data-explorer/issues/31\">(#31)</a>: <em>Adding support for HDF5: feasible?</em> by <strong><a href=\"https://github.com/telamonian\">@telamonian</a></strong></li>\n</ul>\n<h5><a href=\"https://github.com/jupyterlab/jupyterlab-git\">jupyterlab/jupyterlab-git</a></h5>\n<ul>\n<li><a href=\"https://github.com/jupyterlab/jupyterlab-git/issues/391\">(#391)</a>: <em>git diff doesn't work for files inside folders</em> by <strong><a href=\"https://github.com/brukau\">@brukau</a></strong></li>\n</ul>\n<h5><a href=\"https://github.com/jupyterlab/jupyterlab-github\">jupyterlab/jupyterlab-github</a></h5>\n<ul>\n<li><a href=\"https://github.com/jupyterlab/jupyterlab-github/issues/90\">(#90)</a>: <em>Error Loading Theme</em> by <strong><a href=\"https://github.com/theskyinlake\">@theskyinlake</a></strong></li>\n</ul>\n<h5><a href=\"https://github.com/jupyterlab/jupyterlab-google-drive\">jupyterlab/jupyterlab-google-drive</a></h5>\n<h5><a href=\"https://github.com/jupyterlab/jupyterlab-hdf5\">jupyterlab/jupyterlab-hdf5</a></h5>\n<ul>\n<li><a href=\"https://github.com/jupyterlab/jupyterlab-hdf5/issues/5\">(#5)</a>: <em>Dev install doesn't work without h5py already installed</em> by <strong><a href=\"https://github.com/saulshanabrook\">@saulshanabrook</a></strong></li>\n<li><a href=\"https://github.com/jupyterlab/jupyterlab-hdf5/issues/8\">(#8)</a>: <em>Add slicing of datasets</em> by <strong><a href=\"https://github.com/telamonian\">@telamonian</a></strong></li>\n</ul>\n<h5><a href=\"https://github.com/jupyterlab/jupyterlab-latex\">jupyterlab/jupyterlab-latex</a></h5>\n<ul>\n<li><a href=\"https://github.com/jupyterlab/jupyterlab-latex/issues/119\">(#119)</a>: <em>Tex files compiled independently in multi-file LaTeX project</em> by <strong><a href=\"https://github.com/mnancel\">@mnancel</a></strong></li>\n<li><a href=\"https://github.com/jupyterlab/jupyterlab-latex/issues/114\">(#114)</a>: <em>No preview after fresh install</em> by <strong><a href=\"https://github.com/KaynRyu\">@KaynRyu</a></strong></li>\n<li><a href=\"https://github.com/jupyterlab/jupyterlab-latex/issues/81\">(#81)</a>: <em>Does jupyterlab-latex have roadmap to provide latex grammer prompt on editing?</em> by <strong><a href=\"https://github.com/Honghe\">@Honghe</a></strong></li>\n</ul>\n<h5><a href=\"https://github.com/jupyterlab/jupyterlab-metadata-service\">jupyterlab/jupyterlab-metadata-service</a></h5>\n<h5><a href=\"https://github.com/jupyterlab/jupyterlab-monaco\">jupyterlab/jupyterlab-monaco</a></h5>\n<ul>\n<li><a href=\"https://github.com/jupyterlab/jupyterlab-monaco/issues/25\">(#25)</a>: <em>Did this get abandoned?</em> by <strong><a href=\"https://github.com/bsdis\">@bsdis</a></strong></li>\n</ul>\n<h5><a href=\"https://github.com/jupyterlab/jupyterlab-toc\">jupyterlab/jupyterlab-toc</a></h5>\n<ul>\n<li><a href=\"https://github.com/jupyterlab/jupyterlab-toc/issues/91\">(#91)</a>: _Toc does not appear in the sidebar with Jupyterlab 1.0.0 _ by <strong><a href=\"https://github.com/marcevrard\">@marcevrard</a></strong></li>\n</ul>\n<h5><a href=\"https://github.com/jupyterlab/jupyterlab_apod\">jupyterlab/jupyterlab_apod</a></h5>\n<h5><a href=\"https://github.com/jupyterlab/jupyterlab_server\">jupyterlab/jupyterlab_server</a></h5>\n<h5><a href=\"https://github.com/jupyterlab/pull-requests\">jupyterlab/pull-requests</a></h5>\n<ul>\n<li><a href=\"https://github.com/jupyterlab/pull-requests/issues/6\">(#6)</a>: <em>Integrate with jupyterlab-github</em> by <strong><a href=\"https://github.com/ian-r-rose\">@ian-r-rose</a></strong></li>\n</ul>\n<h5><a href=\"https://github.com/jupyterlab/team-compass\">jupyterlab/team-compass</a></h5>"
      }
     },
     "9488513f14614520acf4fa43fc2c3699": {
      "model_module": "@jupyter-widgets/base",
      "model_module_version": "1.2.0",
      "model_name": "LayoutModel",
      "state": {
       "_model_module": "@jupyter-widgets/base",
       "_model_module_version": "1.2.0",
       "_model_name": "LayoutModel",
       "_view_count": null,
       "_view_module": "@jupyter-widgets/base",
       "_view_module_version": "1.2.0",
       "_view_name": "LayoutView",
       "align_content": null,
       "align_items": null,
       "align_self": null,
       "border": null,
       "bottom": null,
       "display": null,
       "flex": null,
       "flex_flow": null,
       "grid_area": null,
       "grid_auto_columns": null,
       "grid_auto_flow": null,
       "grid_auto_rows": null,
       "grid_column": null,
       "grid_gap": null,
       "grid_row": null,
       "grid_template_areas": null,
       "grid_template_columns": null,
       "grid_template_rows": null,
       "height": null,
       "justify_content": null,
       "justify_items": null,
       "left": null,
       "margin": null,
       "max_height": null,
       "max_width": null,
       "min_height": null,
       "min_width": null,
       "object_fit": null,
       "object_position": null,
       "order": null,
       "overflow": null,
       "overflow_x": null,
       "overflow_y": null,
       "padding": null,
       "right": null,
       "top": null,
       "visibility": null,
       "width": null
      }
     },
     "a0389a1d19c4408e8d072bed534ac59f": {
      "model_module": "@jupyter-widgets/controls",
      "model_module_version": "1.5.0",
      "model_name": "DescriptionStyleModel",
      "state": {
       "_model_module": "@jupyter-widgets/controls",
       "_model_module_version": "1.5.0",
       "_model_name": "DescriptionStyleModel",
       "_view_count": null,
       "_view_module": "@jupyter-widgets/base",
       "_view_module_version": "1.2.0",
       "_view_name": "StyleView",
       "description_width": ""
      }
     },
     "a494c65624314cb3bf6c691665851f5e": {
      "model_module": "@jupyter-widgets/base",
      "model_module_version": "1.2.0",
      "model_name": "LayoutModel",
      "state": {
       "_model_module": "@jupyter-widgets/base",
       "_model_module_version": "1.2.0",
       "_model_name": "LayoutModel",
       "_view_count": null,
       "_view_module": "@jupyter-widgets/base",
       "_view_module_version": "1.2.0",
       "_view_name": "LayoutView",
       "align_content": null,
       "align_items": null,
       "align_self": null,
       "border": null,
       "bottom": null,
       "display": null,
       "flex": null,
       "flex_flow": null,
       "grid_area": null,
       "grid_auto_columns": null,
       "grid_auto_flow": null,
       "grid_auto_rows": null,
       "grid_column": null,
       "grid_gap": null,
       "grid_row": null,
       "grid_template_areas": null,
       "grid_template_columns": null,
       "grid_template_rows": null,
       "height": null,
       "justify_content": null,
       "justify_items": null,
       "left": null,
       "margin": null,
       "max_height": null,
       "max_width": null,
       "min_height": null,
       "min_width": null,
       "object_fit": null,
       "object_position": null,
       "order": null,
       "overflow": null,
       "overflow_x": null,
       "overflow_y": null,
       "padding": null,
       "right": null,
       "top": null,
       "visibility": null,
       "width": null
      }
     },
     "a6e4fbd35848462bbe136913b06e3658": {
      "model_module": "@jupyter-widgets/controls",
      "model_module_version": "1.5.0",
      "model_name": "DescriptionStyleModel",
      "state": {
       "_model_module": "@jupyter-widgets/controls",
       "_model_module_version": "1.5.0",
       "_model_name": "DescriptionStyleModel",
       "_view_count": null,
       "_view_module": "@jupyter-widgets/base",
       "_view_module_version": "1.2.0",
       "_view_name": "StyleView",
       "description_width": ""
      }
     },
     "ac8df79c7b75405fb6081c36d999c193": {
      "model_module": "@jupyter-widgets/base",
      "model_module_version": "1.2.0",
      "model_name": "LayoutModel",
      "state": {
       "_model_module": "@jupyter-widgets/base",
       "_model_module_version": "1.2.0",
       "_model_name": "LayoutModel",
       "_view_count": null,
       "_view_module": "@jupyter-widgets/base",
       "_view_module_version": "1.2.0",
       "_view_name": "LayoutView",
       "align_content": null,
       "align_items": null,
       "align_self": null,
       "border": null,
       "bottom": null,
       "display": null,
       "flex": null,
       "flex_flow": null,
       "grid_area": null,
       "grid_auto_columns": null,
       "grid_auto_flow": null,
       "grid_auto_rows": null,
       "grid_column": null,
       "grid_gap": null,
       "grid_row": null,
       "grid_template_areas": null,
       "grid_template_columns": null,
       "grid_template_rows": null,
       "height": null,
       "justify_content": null,
       "justify_items": null,
       "left": null,
       "margin": null,
       "max_height": null,
       "max_width": null,
       "min_height": null,
       "min_width": null,
       "object_fit": null,
       "object_position": null,
       "order": null,
       "overflow": null,
       "overflow_x": null,
       "overflow_y": null,
       "padding": null,
       "right": null,
       "top": null,
       "visibility": null,
       "width": null
      }
     },
     "ad31ddc7523c45c4adeb1a18d847003a": {
      "model_module": "@jupyter-widgets/base",
      "model_module_version": "1.2.0",
      "model_name": "LayoutModel",
      "state": {
       "_model_module": "@jupyter-widgets/base",
       "_model_module_version": "1.2.0",
       "_model_name": "LayoutModel",
       "_view_count": null,
       "_view_module": "@jupyter-widgets/base",
       "_view_module_version": "1.2.0",
       "_view_name": "LayoutView",
       "align_content": null,
       "align_items": null,
       "align_self": null,
       "border": null,
       "bottom": null,
       "display": null,
       "flex": null,
       "flex_flow": null,
       "grid_area": null,
       "grid_auto_columns": null,
       "grid_auto_flow": null,
       "grid_auto_rows": null,
       "grid_column": null,
       "grid_gap": null,
       "grid_row": null,
       "grid_template_areas": null,
       "grid_template_columns": null,
       "grid_template_rows": null,
       "height": null,
       "justify_content": null,
       "justify_items": null,
       "left": null,
       "margin": null,
       "max_height": null,
       "max_width": null,
       "min_height": null,
       "min_width": null,
       "object_fit": null,
       "object_position": null,
       "order": null,
       "overflow": null,
       "overflow_x": null,
       "overflow_y": null,
       "padding": null,
       "right": null,
       "top": null,
       "visibility": null,
       "width": null
      }
     },
     "b44c2e48ed4b4e0bb44ec904b1c3bc91": {
      "model_module": "@jupyter-widgets/controls",
      "model_module_version": "1.5.0",
      "model_name": "HTMLModel",
      "state": {
       "_dom_classes": [],
       "_model_module": "@jupyter-widgets/controls",
       "_model_module_version": "1.5.0",
       "_model_name": "HTMLModel",
       "_view_count": null,
       "_view_module": "@jupyter-widgets/controls",
       "_view_module_version": "1.5.0",
       "_view_name": "HTMLView",
       "description": "",
       "description_tooltip": null,
       "layout": "IPY_MODEL_5dbab43d73dd40feb634780cc5b7f539",
       "placeholder": "​",
       "style": "IPY_MODEL_3e1caed3b5e84d4ab77281d258d13464",
       "value": "<center><p><a href=\"https://github.com/aar0nTw\">aar0nTw</a> | <a href=\"https://github.com/AashrayAnand\">AashrayAnand</a> | <a href=\"https://github.com/ablekh\">ablekh</a> | <a href=\"https://github.com/ABVitali\">ABVitali</a> | <a href=\"https://github.com/adriendelsalle\">adriendelsalle</a> | <a href=\"https://github.com/afshin\">afshin</a> | <a href=\"https://github.com/ajaysurapaneni\">ajaysurapaneni</a> | <a href=\"https://github.com/akamensky\">akamensky</a> | <a href=\"https://github.com/allan-ja\">allan-ja</a> | <a href=\"https://github.com/alvinhuff\">alvinhuff</a> | <a href=\"https://github.com/anki-code\">anki-code</a> | <a href=\"https://github.com/anmtan\">anmtan</a> | <a href=\"https://github.com/anuragedushire\">anuragedushire</a> | <a href=\"https://github.com/arinbasu\">arinbasu</a> | <a href=\"https://github.com/Ashish7989\">Ashish7989</a> | <a href=\"https://github.com/asimb123\">asimb123</a> | <a href=\"https://github.com/baijingetangzichen\">baijingetangzichen</a> | <a href=\"https://github.com/beenje\">beenje</a> | <a href=\"https://github.com/belongwqz\">belongwqz</a> | <a href=\"https://github.com/betatim\">betatim</a> | <a href=\"https://github.com/bindrap\">bindrap</a> | <a href=\"https://github.com/bitnik\">bitnik</a> | <a href=\"https://github.com/BobCashStory\">BobCashStory</a> | <a href=\"https://github.com/brayanrodbajo\">brayanrodbajo</a> | <a href=\"https://github.com/carluri\">carluri</a> | <a href=\"https://github.com/Carreau\">Carreau</a> | <a href=\"https://github.com/casperdcl\">casperdcl</a> | <a href=\"https://github.com/celine168\">celine168</a> | <a href=\"https://github.com/ChandlerBang\">ChandlerBang</a> | <a href=\"https://github.com/chicocvenancio\">chicocvenancio</a> | <a href=\"https://github.com/choldgraf\">choldgraf</a> | <a href=\"https://github.com/clkao\">clkao</a> | <a href=\"https://github.com/consideRatio\">consideRatio</a> | <a href=\"https://github.com/coreyclip\">coreyclip</a> | <a href=\"https://github.com/Cyb3rWard0g\">Cyb3rWard0g</a> | <a href=\"https://github.com/dalssaso\">dalssaso</a> | <a href=\"https://github.com/danfulton\">danfulton</a> | <a href=\"https://github.com/danielmpla\">danielmpla</a> | <a href=\"https://github.com/dashpot4\">dashpot4</a> | <a href=\"https://github.com/davidedelvento\">davidedelvento</a> | <a href=\"https://github.com/dbricare\">dbricare</a> | <a href=\"https://github.com/DentonGentry\">DentonGentry</a> | <a href=\"https://github.com/dhirschfeld\">dhirschfeld</a> | <a href=\"https://github.com/dkipping\">dkipping</a> | <a href=\"https://github.com/dmpe\">dmpe</a> | <a href=\"https://github.com/EdenTDatalytyx\">EdenTDatalytyx</a> | <a href=\"https://github.com/Edward-liang\">Edward-liang</a> | <a href=\"https://github.com/enolfc\">enolfc</a> | <a href=\"https://github.com/eylenth\">eylenth</a> | <a href=\"https://github.com/feria35\">feria35</a> | <a href=\"https://github.com/fersarr\">fersarr</a> | <a href=\"https://github.com/Findus1\">Findus1</a> | <a href=\"https://github.com/fm75\">fm75</a> | <a href=\"https://github.com/gareth-j\">gareth-j</a> | <a href=\"https://github.com/gdbassett\">gdbassett</a> | <a href=\"https://github.com/GeorgianaElena\">GeorgianaElena</a> | <a href=\"https://github.com/GergelyKalmar\">GergelyKalmar</a> | <a href=\"https://github.com/gliptak\">gliptak</a> | <a href=\"https://github.com/guillaumeeb\">guillaumeeb</a> | <a href=\"https://github.com/guimou\">guimou</a> | <a href=\"https://github.com/heavenkong\">heavenkong</a> | <a href=\"https://github.com/henchc\">henchc</a> | <a href=\"https://github.com/hMED22\">hMED22</a> | <a href=\"https://github.com/Hughastro\">Hughastro</a> | <a href=\"https://github.com/hugokerstens\">hugokerstens</a> | <a href=\"https://github.com/IamViditAgarwal\">IamViditAgarwal</a> | <a href=\"https://github.com/jamesdbrock\">jamesdbrock</a> | <a href=\"https://github.com/jamesthegiantpeach\">jamesthegiantpeach</a> | <a href=\"https://github.com/jcatana\">jcatana</a> | <a href=\"https://github.com/jeff-sternberg\">jeff-sternberg</a> | <a href=\"https://github.com/jfly\">jfly</a> | <a href=\"https://github.com/jhamman\">jhamman</a> | <a href=\"https://github.com/jhegedus42\">jhegedus42</a> | <a href=\"https://github.com/joshbode\">joshbode</a> | <a href=\"https://github.com/josiahls\">josiahls</a> | <a href=\"https://github.com/jtpio\">jtpio</a> | <a href=\"https://github.com/JuanCab\">JuanCab</a> | <a href=\"https://github.com/JulianKling\">JulianKling</a> | <a href=\"https://github.com/julienchastang\">julienchastang</a> | <a href=\"https://github.com/katsar0v\">katsar0v</a> | <a href=\"https://github.com/kevin-bates\">kevin-bates</a> | <a href=\"https://github.com/kevmk04\">kevmk04</a> | <a href=\"https://github.com/kipstakkr\">kipstakkr</a> | <a href=\"https://github.com/KirstieJane\">KirstieJane</a> | <a href=\"https://github.com/kkr78\">kkr78</a> | <a href=\"https://github.com/kramstrom\">kramstrom</a> | <a href=\"https://github.com/kuan51\">kuan51</a> | <a href=\"https://github.com/kyeotic\">kyeotic</a> | <a href=\"https://github.com/leportella\">leportella</a> | <a href=\"https://github.com/lesteve\">lesteve</a> | <a href=\"https://github.com/lgonzalezsa\">lgonzalezsa</a> | <a href=\"https://github.com/lheagy\">lheagy</a> | <a href=\"https://github.com/limimiking\">limimiking</a> | <a href=\"https://github.com/Ling19871017\">Ling19871017</a> | <a href=\"https://github.com/loganlinn\">loganlinn</a> | <a href=\"https://github.com/lshailendra\">lshailendra</a> | <a href=\"https://github.com/m-alekseev\">m-alekseev</a> | <a href=\"https://github.com/manics\">manics</a> | <a href=\"https://github.com/manojs123\">manojs123</a> | <a href=\"https://github.com/marcusianlevine\">marcusianlevine</a> | <a href=\"https://github.com/mathematicalmichael\">mathematicalmichael</a> | <a href=\"https://github.com/mattjshannon\">mattjshannon</a> | <a href=\"https://github.com/MaxNoe\">MaxNoe</a> | <a href=\"https://github.com/mghatiy\">mghatiy</a> | <a href=\"https://github.com/minrk\">minrk</a> | <a href=\"https://github.com/mirestrepo\">mirestrepo</a> | <a href=\"https://github.com/moki298\">moki298</a> | <a href=\"https://github.com/moorepants\">moorepants</a> | <a href=\"https://github.com/navneetkrverma\">navneetkrverma</a> | <a href=\"https://github.com/NeolithEra\">NeolithEra</a> | <a href=\"https://github.com/nick-brady\">nick-brady</a> | <a href=\"https://github.com/NickolausDS\">NickolausDS</a> | <a href=\"https://github.com/nimengliusha\">nimengliusha</a> | <a href=\"https://github.com/nonameable\">nonameable</a> | <a href=\"https://github.com/Nop0x\">Nop0x</a> | <a href=\"https://github.com/nscozzaro\">nscozzaro</a> | <a href=\"https://github.com/nuest\">nuest</a> | <a href=\"https://github.com/obilodeau\">obilodeau</a> | <a href=\"https://github.com/omula\">omula</a> | <a href=\"https://github.com/osvaldogc\">osvaldogc</a> | <a href=\"https://github.com/pr0xxy\">pr0xxy</a> | <a href=\"https://github.com/prakhar987\">prakhar987</a> | <a href=\"https://github.com/raethlein\">raethlein</a> | <a href=\"https://github.com/ransoor2\">ransoor2</a> | <a href=\"https://github.com/rcthomas\">rcthomas</a> | <a href=\"https://github.com/reevejd\">reevejd</a> | <a href=\"https://github.com/relyativist\">relyativist</a> | <a href=\"https://github.com/rgaushell\">rgaushell</a> | <a href=\"https://github.com/rgerkin\">rgerkin</a> | <a href=\"https://github.com/riazarbi\">riazarbi</a> | <a href=\"https://github.com/rkdarst\">rkdarst</a> | <a href=\"https://github.com/rlukin\">rlukin</a> | <a href=\"https://github.com/rmahajan2420\">rmahajan2420</a> | <a href=\"https://github.com/rmorshea\">rmorshea</a> | <a href=\"https://github.com/rokroskar\">rokroskar</a> | <a href=\"https://github.com/ryanlovett\">ryanlovett</a> | <a href=\"https://github.com/ryogesh\">ryogesh</a> | <a href=\"https://github.com/sampathkethineedi\">sampathkethineedi</a> | <a href=\"https://github.com/sauerburger\">sauerburger</a> | <a href=\"https://github.com/SchuhMichael\">SchuhMichael</a> | <a href=\"https://github.com/sdd3\">sdd3</a> | <a href=\"https://github.com/sgibson91\">sgibson91</a> | <a href=\"https://github.com/shankari\">shankari</a> | <a href=\"https://github.com/sqqqrly\">sqqqrly</a> | <a href=\"https://github.com/StefanPapp\">StefanPapp</a> | <a href=\"https://github.com/stormerider\">stormerider</a> | <a href=\"https://github.com/ThorAlexis\">ThorAlexis</a> | <a href=\"https://github.com/tlkh\">tlkh</a> | <a href=\"https://github.com/trallard\">trallard</a> | <a href=\"https://github.com/turkialjrees\">turkialjrees</a> | <a href=\"https://github.com/UCSBGauchos\">UCSBGauchos</a> | <a href=\"https://github.com/vhaldemar\">vhaldemar</a> | <a href=\"https://github.com/vinayjain15\">vinayjain15</a> | <a href=\"https://github.com/vindvaki\">vindvaki</a> | <a href=\"https://github.com/viniciusmaran\">viniciusmaran</a> | <a href=\"https://github.com/vnijs\">vnijs</a> | <a href=\"https://github.com/wierzba3\">wierzba3</a> | <a href=\"https://github.com/willingc\">willingc</a> | <a href=\"https://github.com/wlyu\">wlyu</a> | <a href=\"https://github.com/wqh17101\">wqh17101</a> | <a href=\"https://github.com/yuvipanda\">yuvipanda</a> | <a href=\"https://github.com/zaembraal\">zaembraal</a> | <a href=\"https://github.com/zeehio\">zeehio</a> | <a href=\"https://github.com/Zsailer\">Zsailer</a></p></center>"
      }
     },
     "b5ea5a0df6a443de9563aec199484e33": {
      "model_module": "@jupyter-widgets/controls",
      "model_module_version": "1.5.0",
      "model_name": "DescriptionStyleModel",
      "state": {
       "_model_module": "@jupyter-widgets/controls",
       "_model_module_version": "1.5.0",
       "_model_name": "DescriptionStyleModel",
       "_view_count": null,
       "_view_module": "@jupyter-widgets/base",
       "_view_module_version": "1.2.0",
       "_view_name": "StyleView",
       "description_width": ""
      }
     },
     "bac8f46afb684e7fa6c9f5e15cdafe0c": {
      "model_module": "@jupyter-widgets/controls",
      "model_module_version": "1.5.0",
      "model_name": "DescriptionStyleModel",
      "state": {
       "_model_module": "@jupyter-widgets/controls",
       "_model_module_version": "1.5.0",
       "_model_name": "DescriptionStyleModel",
       "_view_count": null,
       "_view_module": "@jupyter-widgets/base",
       "_view_module_version": "1.2.0",
       "_view_name": "StyleView",
       "description_width": ""
      }
     },
     "bae77bbf4afb4b9f9926d2078e782c19": {
      "model_module": "@jupyter-widgets/controls",
      "model_module_version": "1.5.0",
      "model_name": "DescriptionStyleModel",
      "state": {
       "_model_module": "@jupyter-widgets/controls",
       "_model_module_version": "1.5.0",
       "_model_name": "DescriptionStyleModel",
       "_view_count": null,
       "_view_module": "@jupyter-widgets/base",
       "_view_module_version": "1.2.0",
       "_view_name": "StyleView",
       "description_width": ""
      }
     },
     "bbb8292b1bce4b2c8718d42655e84465": {
      "model_module": "@jupyter-widgets/base",
      "model_module_version": "1.2.0",
      "model_name": "LayoutModel",
      "state": {
       "_model_module": "@jupyter-widgets/base",
       "_model_module_version": "1.2.0",
       "_model_name": "LayoutModel",
       "_view_count": null,
       "_view_module": "@jupyter-widgets/base",
       "_view_module_version": "1.2.0",
       "_view_name": "LayoutView",
       "align_content": null,
       "align_items": null,
       "align_self": null,
       "border": null,
       "bottom": null,
       "display": null,
       "flex": null,
       "flex_flow": null,
       "grid_area": null,
       "grid_auto_columns": null,
       "grid_auto_flow": null,
       "grid_auto_rows": null,
       "grid_column": null,
       "grid_gap": null,
       "grid_row": null,
       "grid_template_areas": null,
       "grid_template_columns": null,
       "grid_template_rows": null,
       "height": null,
       "justify_content": null,
       "justify_items": null,
       "left": null,
       "margin": null,
       "max_height": null,
       "max_width": null,
       "min_height": null,
       "min_width": null,
       "object_fit": null,
       "object_position": null,
       "order": null,
       "overflow": null,
       "overflow_x": null,
       "overflow_y": null,
       "padding": null,
       "right": null,
       "top": null,
       "visibility": null,
       "width": null
      }
     },
     "c6387a2c3dee4fb8ab93a1465422a9d4": {
      "model_module": "@jupyter-widgets/base",
      "model_module_version": "1.2.0",
      "model_name": "LayoutModel",
      "state": {
       "_model_module": "@jupyter-widgets/base",
       "_model_module_version": "1.2.0",
       "_model_name": "LayoutModel",
       "_view_count": null,
       "_view_module": "@jupyter-widgets/base",
       "_view_module_version": "1.2.0",
       "_view_name": "LayoutView",
       "align_content": null,
       "align_items": null,
       "align_self": null,
       "border": null,
       "bottom": null,
       "display": null,
       "flex": null,
       "flex_flow": null,
       "grid_area": null,
       "grid_auto_columns": null,
       "grid_auto_flow": null,
       "grid_auto_rows": null,
       "grid_column": null,
       "grid_gap": null,
       "grid_row": null,
       "grid_template_areas": null,
       "grid_template_columns": null,
       "grid_template_rows": null,
       "height": null,
       "justify_content": null,
       "justify_items": null,
       "left": null,
       "margin": null,
       "max_height": null,
       "max_width": null,
       "min_height": null,
       "min_width": null,
       "object_fit": null,
       "object_position": null,
       "order": null,
       "overflow": null,
       "overflow_x": null,
       "overflow_y": null,
       "padding": null,
       "right": null,
       "top": null,
       "visibility": null,
       "width": null
      }
     },
     "ca1fb2a5f2fb4871b7a4478bef5a4a43": {
      "model_module": "@jupyter-widgets/controls",
      "model_module_version": "1.5.0",
      "model_name": "TabModel",
      "state": {
       "_dom_classes": [],
       "_model_module": "@jupyter-widgets/controls",
       "_model_module_version": "1.5.0",
       "_model_name": "TabModel",
       "_titles": {
        "0": "ipython",
        "1": "jupyter",
        "2": "jupyter-widgets",
        "3": "jupyterhub",
        "4": "jupyterlab"
       },
       "_view_count": null,
       "_view_module": "@jupyter-widgets/controls",
       "_view_module_version": "1.5.0",
       "_view_name": "TabView",
       "box_style": "",
       "children": [
        "IPY_MODEL_12e859a9991a47ea9deef3ce1d3f07bd",
        "IPY_MODEL_caa7134fd1f24935b3c2eda5335d7902",
        "IPY_MODEL_50791fa2e5f2455fa957e2f6ff7d03f3",
        "IPY_MODEL_6f43b2b91bd64c80964d606c98874a3a",
        "IPY_MODEL_25e1f686b51a4ad1a2a9caa270275953"
       ],
       "layout": "IPY_MODEL_bbb8292b1bce4b2c8718d42655e84465",
       "selected_index": 0
      }
     },
     "caa7134fd1f24935b3c2eda5335d7902": {
      "model_module": "@jupyter-widgets/controls",
      "model_module_version": "1.5.0",
      "model_name": "HTMLModel",
      "state": {
       "_dom_classes": [],
       "_model_module": "@jupyter-widgets/controls",
       "_model_module_version": "1.5.0",
       "_model_name": "HTMLModel",
       "_view_count": null,
       "_view_module": "@jupyter-widgets/controls",
       "_view_module_version": "1.5.0",
       "_view_name": "HTMLView",
       "description": "",
       "description_tooltip": null,
       "layout": "IPY_MODEL_081082a9bd844311913671984d13cc18",
       "placeholder": "​",
       "style": "IPY_MODEL_712e13338a194ecdb380723784905306",
       "value": "<h4>Closed PRs for org: <code>jupyter</code></h4>\n<h5><a href=\"https://github.com/jupyter/design\">jupyter/design</a></h5>\n<ul>\n<li><a href=\"https://github.com/jupyter/design/pull/61\">(#61)</a>: <em>Fix broken brand guide PDF link</em> by <strong><a href=\"https://github.com/consideRatio\">@consideRatio</a></strong> merged by <strong><a href=\"https://github.com/choldgraf\">@choldgraf</a></strong></li>\n</ul>\n<h5><a href=\"https://github.com/jupyter/docker-stacks\">jupyter/docker-stacks</a></h5>\n<ul>\n<li><a href=\"https://github.com/jupyter/docker-stacks/pull/920\">(#920)</a>: <em>Sort package installation lines alphabetically for easier comparison</em> by <strong><a href=\"https://github.com/rkdarst\">@rkdarst</a></strong> merged by <strong><a href=\"https://github.com/parente\">@parente</a></strong></li>\n<li><a href=\"https://github.com/jupyter/docker-stacks/pull/918\">(#918)</a>: <em>Update all package versions</em> by <strong><a href=\"https://github.com/rkdarst\">@rkdarst</a></strong> merged by <strong><a href=\"https://github.com/parente\">@parente</a></strong></li>\n<li><a href=\"https://github.com/jupyter/docker-stacks/pull/917\">(#917)</a>: <em>Option to enable restart without exiting container</em> by <strong><a href=\"https://github.com/jeffyjefflabs\">@jeffyjefflabs</a></strong> merged by <strong><a href=\"https://github.com/parente\">@parente</a></strong></li>\n<li><a href=\"https://github.com/jupyter/docker-stacks/pull/916\">(#916)</a>: <em>bump Julia version (1.1.0 =&gt; 1.1.1)</em> by <strong><a href=\"https://github.com/arnavs\">@arnavs</a></strong> merged by <strong><a href=\"https://github.com/parente\">@parente</a></strong></li>\n</ul>\n<h5><a href=\"https://github.com/jupyter/enterprise_gateway\">jupyter/enterprise_gateway</a></h5>\n<ul>\n<li><a href=\"https://github.com/jupyter/enterprise_gateway/pull/724\">(#724)</a>: <em>Switch to root when installing python packages</em> by <strong><a href=\"https://github.com/kevin-bates\">@kevin-bates</a></strong> merged by <strong><a href=\"https://github.com/lresende\">@lresende</a></strong></li>\n<li><a href=\"https://github.com/jupyter/enterprise_gateway/pull/718\">(#718)</a>: <em>Allow Notebook 6.x dependency</em> by <strong><a href=\"https://github.com/lresende\">@lresende</a></strong> merged by <strong><a href=\"https://github.com/kevin-bates\">@kevin-bates</a></strong></li>\n<li><a href=\"https://github.com/jupyter/enterprise_gateway/pull/717\">(#717)</a>: <em>Retrieve Toree jar from maven repository</em> by <strong><a href=\"https://github.com/lresende\">@lresende</a></strong> merged by <strong><a href=\"https://github.com/kevin-bates\">@kevin-bates</a></strong></li>\n<li><a href=\"https://github.com/jupyter/enterprise_gateway/pull/716\">(#716)</a>: <em>1. Adding yarn application state 'FAILED' into final_states 2. Closes #708</em> by <strong><a href=\"https://github.com/nareshsankapelly\">@nareshsankapelly</a></strong> merged by <strong><a href=\"https://github.com/kevin-bates\">@kevin-bates</a></strong></li>\n<li><a href=\"https://github.com/jupyter/enterprise_gateway/pull/715\">(#715)</a>: <em>Use safe_load_all() to fix deprecation warning</em> by <strong><a href=\"https://github.com/kevin-bates\">@kevin-bates</a></strong> merged by <strong><a href=\"https://github.com/kevin-bates\">@kevin-bates</a></strong></li>\n</ul>\n<h5><a href=\"https://github.com/jupyter/jupyter\">jupyter/jupyter</a></h5>\n<ul>\n<li><a href=\"https://github.com/jupyter/jupyter/pull/452\">(#452)</a>: <em>Updated python 3 version</em> by <strong><a href=\"https://github.com/royopa\">@royopa</a></strong> merged by <strong><a href=\"https://github.com/choldgraf\">@choldgraf</a></strong></li>\n<li><a href=\"https://github.com/jupyter/jupyter/pull/451\">(#451)</a>: <em>adding circleci docs preview to builds</em> by <strong><a href=\"https://github.com/choldgraf\">@choldgraf</a></strong> merged by <strong><a href=\"https://github.com/choldgraf\">@choldgraf</a></strong></li>\n<li><a href=\"https://github.com/jupyter/jupyter/pull/447\">(#447)</a>: <em>Commit templates to master branch</em> by <strong><a href=\"https://github.com/parente\">@parente</a></strong> merged by <strong><a href=\"https://github.com/parente\">@parente</a></strong></li>\n<li><a href=\"https://github.com/jupyter/jupyter/pull/446\">(#446)</a>: <em>Fix source/locale/en commit command</em> by <strong><a href=\"https://github.com/parente\">@parente</a></strong> merged by <strong><a href=\"https://github.com/parente\">@parente</a></strong></li>\n<li><a href=\"https://github.com/jupyter/jupyter/pull/445\">(#445)</a>: <em>Fix travis doc paths, double $ in env var name</em> by <strong><a href=\"https://github.com/parente\">@parente</a></strong> merged by <strong><a href=\"https://github.com/parente\">@parente</a></strong></li>\n<li><a href=\"https://github.com/jupyter/jupyter/pull/444\">(#444)</a>: <em>Regenerate English po files</em> by <strong><a href=\"https://github.com/parente\">@parente</a></strong> merged by <strong><a href=\"https://github.com/parente\">@parente</a></strong></li>\n<li><a href=\"https://github.com/jupyter/jupyter/pull/443\">(#443)</a>: <em>fix typo</em> by <strong><a href=\"https://github.com/voyageth\">@voyageth</a></strong> merged by <strong><a href=\"https://github.com/choldgraf\">@choldgraf</a></strong></li>\n<li><a href=\"https://github.com/jupyter/jupyter/pull/442\">(#442)</a>: <em>Translate 'docs/source/locale/en/LC_MESSAGES/community.po' in 'es'</em> by <strong><a href=\"https://github.com/transifex-integration\">@transifex-integration</a></strong> merged by <strong><a href=\"https://github.com/parente\">@parente</a></strong></li>\n<li><a href=\"https://github.com/jupyter/jupyter/pull/439\">(#439)</a>: <em>Translate 'docs/source/locale/en/LC_MESSAGES/architecture.po' in 'es'</em> by <strong><a href=\"https://github.com/transifex-integration\">@transifex-integration</a></strong> merged by <strong><a href=\"https://github.com/parente\">@parente</a></strong></li>\n</ul>\n<h5><a href=\"https://github.com/jupyter/jupyter-book\">jupyter/jupyter-book</a></h5>\n<ul>\n<li><a href=\"https://github.com/jupyter/jupyter-book/pull/280\">(#280)</a>: <em>adding jupytext support</em> by <strong><a href=\"https://github.com/choldgraf\">@choldgraf</a></strong> merged by <strong><a href=\"https://github.com/choldgraf\">@choldgraf</a></strong></li>\n<li><a href=\"https://github.com/jupyter/jupyter-book/pull/279\">(#279)</a>: <em>adding print button</em> by <strong><a href=\"https://github.com/choldgraf\">@choldgraf</a></strong> merged by <strong><a href=\"https://github.com/choldgraf\">@choldgraf</a></strong></li>\n<li><a href=\"https://github.com/jupyter/jupyter-book/pull/278\">(#278)</a>: <em>Updating page layout and hoverable table of contents</em> by <strong><a href=\"https://github.com/choldgraf\">@choldgraf</a></strong> merged by <strong><a href=\"https://github.com/choldgraf\">@choldgraf</a></strong></li>\n<li><a href=\"https://github.com/jupyter/jupyter-book/pull/276\">(#276)</a>: <em>Add a hiding topbar w/ scroll</em> by <strong><a href=\"https://github.com/choldgraf\">@choldgraf</a></strong> merged by <strong><a href=\"https://github.com/choldgraf\">@choldgraf</a></strong></li>\n<li><a href=\"https://github.com/jupyter/jupyter-book/pull/273\">(#273)</a>: <em>Improving TOC functionality</em> by <strong><a href=\"https://github.com/choldgraf\">@choldgraf</a></strong> merged by <strong><a href=\"https://github.com/choldgraf\">@choldgraf</a></strong></li>\n<li><a href=\"https://github.com/jupyter/jupyter-book/pull/269\">(#269)</a>: <em>Circlecibot</em> by <strong><a href=\"https://github.com/choldgraf\">@choldgraf</a></strong> merged by <strong><a href=\"https://github.com/choldgraf\">@choldgraf</a></strong></li>\n<li><a href=\"https://github.com/jupyter/jupyter-book/pull/265\">(#265)</a>: <em>factoring out page module</em> by <strong><a href=\"https://github.com/choldgraf\">@choldgraf</a></strong> merged by <strong><a href=\"https://github.com/choldgraf\">@choldgraf</a></strong></li>\n<li><a href=\"https://github.com/jupyter/jupyter-book/pull/264\">(#264)</a>: <em>use celltagpreprocessor to remove parts of cells and updating running code module</em> by <strong><a href=\"https://github.com/choldgraf\">@choldgraf</a></strong> merged by <strong><a href=\"https://github.com/choldgraf\">@choldgraf</a></strong></li>\n<li><a href=\"https://github.com/jupyter/jupyter-book/pull/263\">(#263)</a>: <em>[FIX] Fix references being deleted with jupyter-upgrade</em> by <strong><a href=\"https://github.com/martinagvilas\">@martinagvilas</a></strong> merged by <strong><a href=\"https://github.com/choldgraf\">@choldgraf</a></strong></li>\n<li><a href=\"https://github.com/jupyter/jupyter-book/pull/260\">(#260)</a>: <em>fixing links</em> by <strong><a href=\"https://github.com/choldgraf\">@choldgraf</a></strong> merged by <strong><a href=\"https://github.com/choldgraf\">@choldgraf</a></strong></li>\n<li><a href=\"https://github.com/jupyter/jupyter-book/pull/257\">(#257)</a>: <em>adding instructions for build</em> by <strong><a href=\"https://github.com/choldgraf\">@choldgraf</a></strong> merged by <strong><a href=\"https://github.com/choldgraf\">@choldgraf</a></strong></li>\n<li><a href=\"https://github.com/jupyter/jupyter-book/pull/256\">(#256)</a>: <em>fixing pypi description</em> by <strong><a href=\"https://github.com/choldgraf\">@choldgraf</a></strong> merged by <strong><a href=\"https://github.com/choldgraf\">@choldgraf</a></strong></li>\n<li><a href=\"https://github.com/jupyter/jupyter-book/pull/254\">(#254)</a>: <em>Create footer</em> by <strong><a href=\"https://github.com/martinagvilas\">@martinagvilas</a></strong> merged by <strong><a href=\"https://github.com/choldgraf\">@choldgraf</a></strong></li>\n</ul>\n<h5><a href=\"https://github.com/jupyter/jupyter.github.io\">jupyter/jupyter.github.io</a></h5>\n<ul>\n<li><a href=\"https://github.com/jupyter/jupyter.github.io/pull/350\">(#350)</a>: <em>bundle PGP public key</em> by <strong><a href=\"https://github.com/minrk\">@minrk</a></strong> merged by <strong><a href=\"https://github.com/choldgraf\">@choldgraf</a></strong></li>\n</ul>\n<h5><a href=\"https://github.com/jupyter/jupyter_client\">jupyter/jupyter_client</a></h5>\n<ul>\n<li><a href=\"https://github.com/jupyter/jupyter_client/pull/468\">(#468)</a>: <em>cocalc now properly works; also add a concrete example of an \"astral plane unicode\" identifier, so anybody can easily see what happens in the Jupyter client of their choice.</em> by <strong><a href=\"https://github.com/williamstein\">@williamstein</a></strong> merged by <strong><a href=\"https://github.com/MSeal\">@MSeal</a></strong></li>\n</ul>\n<h5><a href=\"https://github.com/jupyter/jupyter_server\">jupyter/jupyter_server</a></h5>\n<ul>\n<li><a href=\"https://github.com/jupyter/jupyter_server/pull/73\">(#73)</a>: <em>Remove 'coded redirect' to default_url</em> by <strong><a href=\"https://github.com/gjenkins8\">@gjenkins8</a></strong> merged by <strong><a href=\"https://github.com/Zsailer\">@Zsailer</a></strong></li>\n<li><a href=\"https://github.com/jupyter/jupyter_server/pull/72\">(#72)</a>: <em>Fix default_url redirect with default 'main' handler</em> by <strong><a href=\"https://github.com/gjenkins8\">@gjenkins8</a></strong> merged by <strong><a href=\"https://github.com/Zsailer\">@Zsailer</a></strong></li>\n<li><a href=\"https://github.com/jupyter/jupyter_server/pull/71\">(#71)</a>: <em>Fix extension_name validation</em> by <strong><a href=\"https://github.com/kevin-bates\">@kevin-bates</a></strong> merged by <strong><a href=\"https://github.com/Zsailer\">@Zsailer</a></strong></li>\n<li><a href=\"https://github.com/jupyter/jupyter_server/pull/69\">(#69)</a>: <em>pass extension_name to only extension app handlers</em> by <strong><a href=\"https://github.com/Zsailer\">@Zsailer</a></strong> merged by <strong><a href=\"https://github.com/blink1073\">@blink1073</a></strong></li>\n</ul>\n<h5><a href=\"https://github.com/jupyter/kernel_gateway\">jupyter/kernel_gateway</a></h5>\n<ul>\n<li><a href=\"https://github.com/jupyter/kernel_gateway/pull/324\">(#324)</a>: <em>Release 2.4.0</em> by <strong><a href=\"https://github.com/lresende\">@lresende</a></strong> merged by <strong><a href=\"https://github.com/lresende\">@lresende</a></strong></li>\n<li><a href=\"https://github.com/jupyter/kernel_gateway/pull/323\">(#323)</a>: <em>Fix download handler to not use deprecated maybe_future call</em> by <strong><a href=\"https://github.com/kevin-bates\">@kevin-bates</a></strong> merged by <strong><a href=\"https://github.com/lresende\">@lresende</a></strong></li>\n<li><a href=\"https://github.com/jupyter/kernel_gateway/pull/322\">(#322)</a>: <em>Fix handler to be more compatible with tornado/pyzmq updates</em> by <strong><a href=\"https://github.com/kevin-bates\">@kevin-bates</a></strong> merged by <strong><a href=\"https://github.com/lresende\">@lresende</a></strong></li>\n<li><a href=\"https://github.com/jupyter/kernel_gateway/pull/321\">(#321)</a>: <em>Allow notebook==6.* since it seems to work for me.</em> by <strong><a href=\"https://github.com/juliusvonkohout\">@juliusvonkohout</a></strong> merged by <strong><a href=\"https://github.com/lresende\">@lresende</a></strong></li>\n</ul>\n<h5><a href=\"https://github.com/jupyter/nbconvert\">jupyter/nbconvert</a></h5>\n<ul>\n<li><a href=\"https://github.com/jupyter/nbconvert/pull/1087\">(#1087)</a>: <em>Added remove_input_tag traitlet to the docstring</em> by <strong><a href=\"https://github.com/tv-watts-tatari\">@tv-watts-tatari</a></strong> merged by <strong><a href=\"https://github.com/MSeal\">@MSeal</a></strong></li>\n<li><a href=\"https://github.com/jupyter/nbconvert/pull/1083\">(#1083)</a>: <em>Added 5.6 release change notes (and moved jupyter_client pin to match)</em> by <strong><a href=\"https://github.com/MSeal\">@MSeal</a></strong> merged by <strong><a href=\"https://github.com/MSeal\">@MSeal</a></strong></li>\n<li><a href=\"https://github.com/jupyter/nbconvert/pull/1082\">(#1082)</a>: <em>Fix some deprecation warnings</em> by <strong><a href=\"https://github.com/minrk\">@minrk</a></strong> merged by <strong><a href=\"https://github.com/MSeal\">@MSeal</a></strong></li>\n<li><a href=\"https://github.com/jupyter/nbconvert/pull/1077\">(#1077)</a>: <em>fix ansi2latex filtering</em> by <strong><a href=\"https://github.com/t-makaro\">@t-makaro</a></strong> merged by <strong><a href=\"https://github.com/t-makaro\">@t-makaro</a></strong></li>\n</ul>\n<h5><a href=\"https://github.com/jupyter/nbdime\">jupyter/nbdime</a></h5>\n<ul>\n<li><a href=\"https://github.com/jupyter/nbdime/pull/498\">(#498)</a>: <em>Parse rename metadata CLI parameter</em> by <strong><a href=\"https://github.com/dniku\">@dniku</a></strong> merged by <strong><a href=\"https://github.com/vidartf\">@vidartf</a></strong></li>\n</ul>\n<h5><a href=\"https://github.com/jupyter/nbgrader\">jupyter/nbgrader</a></h5>\n<ul>\n<li><a href=\"https://github.com/jupyter/nbgrader/pull/1205\">(#1205)</a>: <em>Check for newer feedback in nbgrader list</em> by <strong><a href=\"https://github.com/jhamrick\">@jhamrick</a></strong> merged by <strong><a href=\"https://github.com/jhamrick\">@jhamrick</a></strong></li>\n<li><a href=\"https://github.com/jupyter/nbgrader/pull/1204\">(#1204)</a>: <em>Force generate feedback by default in API</em> by <strong><a href=\"https://github.com/jhamrick\">@jhamrick</a></strong> merged by <strong><a href=\"https://github.com/jhamrick\">@jhamrick</a></strong></li>\n<li><a href=\"https://github.com/jupyter/nbgrader/pull/1200\">(#1200)</a>: <em>Associate feedback files with unique submission attempts</em> by <strong><a href=\"https://github.com/jhamrick\">@jhamrick</a></strong> merged by <strong><a href=\"https://github.com/jhamrick\">@jhamrick</a></strong></li>\n<li><a href=\"https://github.com/jupyter/nbgrader/pull/1197\">(#1197)</a>: <em>Do not duplicate assignments when fetching feedback</em> by <strong><a href=\"https://github.com/jhamrick\">@jhamrick</a></strong> merged by <strong><a href=\"https://github.com/jhamrick\">@jhamrick</a></strong></li>\n<li><a href=\"https://github.com/jupyter/nbgrader/pull/1196\">(#1196)</a>: <em>Fix config warning in ExchangeReleaseAssignment</em> by <strong><a href=\"https://github.com/jhamrick\">@jhamrick</a></strong> merged by <strong><a href=\"https://github.com/jhamrick\">@jhamrick</a></strong></li>\n<li><a href=\"https://github.com/jupyter/nbgrader/pull/1194\">(#1194)</a>: <em>Update releasing instructions</em> by <strong><a href=\"https://github.com/jhamrick\">@jhamrick</a></strong> merged by <strong><a href=\"https://github.com/jhamrick\">@jhamrick</a></strong></li>\n<li><a href=\"https://github.com/jupyter/nbgrader/pull/1192\">(#1192)</a>: <em>Create 0.6.0 release</em> by <strong><a href=\"https://github.com/jhamrick\">@jhamrick</a></strong> merged by <strong><a href=\"https://github.com/jhamrick\">@jhamrick</a></strong></li>\n<li><a href=\"https://github.com/jupyter/nbgrader/pull/1191\">(#1191)</a>: <em>Allow access to formgrader when not using JuptyerHub auth</em> by <strong><a href=\"https://github.com/jhamrick\">@jhamrick</a></strong> merged by <strong><a href=\"https://github.com/jhamrick\">@jhamrick</a></strong></li>\n<li><a href=\"https://github.com/jupyter/nbgrader/pull/1190\">(#1190)</a>: <em>Add JupyterHub demos</em> by <strong><a href=\"https://github.com/jhamrick\">@jhamrick</a></strong> merged by <strong><a href=\"https://github.com/jhamrick\">@jhamrick</a></strong></li>\n<li><a href=\"https://github.com/jupyter/nbgrader/pull/1186\">(#1186)</a>: <em>Remove student_id and change root to cache, permission check to only execute</em> by <strong><a href=\"https://github.com/Sefriol\">@Sefriol</a></strong> merged by <strong><a href=\"https://github.com/jhamrick\">@jhamrick</a></strong></li>\n<li><a href=\"https://github.com/jupyter/nbgrader/pull/1184\">(#1184)</a>: <em>Move the fetch feedback API from formgrader to assignment_list</em> by <strong><a href=\"https://github.com/rkdarst\">@rkdarst</a></strong> merged by <strong><a href=\"https://github.com/jhamrick\">@jhamrick</a></strong></li>\n<li><a href=\"https://github.com/jupyter/nbgrader/pull/1183\">(#1183)</a>: <em>Feedback: update fetch_feedback command line help</em> by <strong><a href=\"https://github.com/rkdarst\">@rkdarst</a></strong> merged by <strong><a href=\"https://github.com/jhamrick\">@jhamrick</a></strong></li>\n<li><a href=\"https://github.com/jupyter/nbgrader/pull/1182\">(#1182)</a>: <em>Make 0.5.6 release</em> by <strong><a href=\"https://github.com/jhamrick\">@jhamrick</a></strong> merged by <strong><a href=\"https://github.com/jhamrick\">@jhamrick</a></strong></li>\n<li><a href=\"https://github.com/jupyter/nbgrader/pull/1180\">(#1180)</a>: <em>Fix versions of pytest and nbconvert</em> by <strong><a href=\"https://github.com/jhamrick\">@jhamrick</a></strong> merged by <strong><a href=\"https://github.com/jhamrick\">@jhamrick</a></strong></li>\n<li><a href=\"https://github.com/jupyter/nbgrader/pull/1179\">(#1179)</a>: <em>Add CourseDir.student_id_exclude option to exclude students</em> by <strong><a href=\"https://github.com/rkdarst\">@rkdarst</a></strong> merged by <strong><a href=\"https://github.com/jhamrick\">@jhamrick</a></strong></li>\n</ul>\n<h5><a href=\"https://github.com/jupyter/nbviewer\">jupyter/nbviewer</a></h5>\n<ul>\n<li><a href=\"https://github.com/jupyter/nbviewer/pull/849\">(#849)</a>: <em>Fix issue #848: A Conda related error is thrown during a Docker build of nbviewer.</em> by <strong><a href=\"https://github.com/dm-wyncode\">@dm-wyncode</a></strong> merged by <strong><a href=\"https://github.com/parente\">@parente</a></strong></li>\n</ul>\n<h5><a href=\"https://github.com/jupyter/notebook\">jupyter/notebook</a></h5>\n<ul>\n<li><a href=\"https://github.com/jupyter/notebook/pull/4850\">(#4850)</a>: <em>Change 'if' to 'for' in C for loop Markdown Cells example</em> by <strong><a href=\"https://github.com/davidrobles\">@davidrobles</a></strong> merged by <strong><a href=\"https://github.com/lresende\">@lresende</a></strong></li>\n<li><a href=\"https://github.com/jupyter/notebook/pull/4838\">(#4838)</a>: <em>Release 601</em> by <strong><a href=\"https://github.com/lresende\">@lresende</a></strong> merged by <strong><a href=\"https://github.com/lresende\">@lresende</a></strong></li>\n</ul>\n<h5><a href=\"https://github.com/jupyter/qtconsole\">jupyter/qtconsole</a></h5>\n<ul>\n<li><a href=\"https://github.com/jupyter/qtconsole/pull/371\">(#371)</a>: <em>Set console to read only after input</em> by <strong><a href=\"https://github.com/impact27\">@impact27</a></strong> merged by <strong><a href=\"https://github.com/ccordoba12\">@ccordoba12</a></strong></li>\n<li><a href=\"https://github.com/jupyter/qtconsole/pull/369\">(#369)</a>: <em>Allow text to be added before the prompt while autocompleting</em> by <strong><a href=\"https://github.com/impact27\">@impact27</a></strong> merged by <strong><a href=\"https://github.com/ccordoba12\">@ccordoba12</a></strong></li>\n<li><a href=\"https://github.com/jupyter/qtconsole/pull/368\">(#368)</a>: <em>Scroll when adding text even when not executing.</em> by <strong><a href=\"https://github.com/impact27\">@impact27</a></strong> merged by <strong><a href=\"https://github.com/ccordoba12\">@ccordoba12</a></strong></li>\n<li><a href=\"https://github.com/jupyter/qtconsole/pull/367\">(#367)</a>: <em>Fix TypeError in completion widget</em> by <strong><a href=\"https://github.com/ccordoba12\">@ccordoba12</a></strong> merged by <strong><a href=\"https://github.com/ccordoba12\">@ccordoba12</a></strong></li>\n<li><a href=\"https://github.com/jupyter/qtconsole/pull/366\">(#366)</a>: <em>Fix emoji highlight</em> by <strong><a href=\"https://github.com/impact27\">@impact27</a></strong> merged by <strong><a href=\"https://github.com/ccordoba12\">@ccordoba12</a></strong></li>\n<li><a href=\"https://github.com/jupyter/qtconsole/pull/364\">(#364)</a>: <em>PR: Remove <strong>del</strong> in Comm and fix pep8 warnings</em> by <strong><a href=\"https://github.com/impact27\">@impact27</a></strong> merged by <strong><a href=\"https://github.com/ccordoba12\">@ccordoba12</a></strong></li>\n<li><a href=\"https://github.com/jupyter/qtconsole/pull/360\">(#360)</a>: <em>PR: Fix scrolling issues</em> by <strong><a href=\"https://github.com/impact27\">@impact27</a></strong> merged by <strong><a href=\"https://github.com/ccordoba12\">@ccordoba12</a></strong></li>\n</ul>\n<h5><a href=\"https://github.com/jupyter/repo2docker\">jupyter/repo2docker</a></h5>\n<ul>\n<li><a href=\"https://github.com/jupyter/repo2docker/pull/771\">(#771)</a>: <em>Handle different file encodings</em> by <strong><a href=\"https://github.com/GeorgianaElena\">@GeorgianaElena</a></strong> merged by <strong><a href=\"https://github.com/betatim\">@betatim</a></strong></li>\n<li><a href=\"https://github.com/jupyter/repo2docker/pull/760\">(#760)</a>: <em>Tiny typo in docs/source/index.rst</em> by <strong><a href=\"https://github.com/AartGoossens\">@AartGoossens</a></strong> merged by <strong><a href=\"https://github.com/betatim\">@betatim</a></strong></li>\n<li><a href=\"https://github.com/jupyter/repo2docker/pull/759\">(#759)</a>: <em>Prepare release of 0.10.0</em> by <strong><a href=\"https://github.com/betatim\">@betatim</a></strong> merged by <strong><a href=\"https://github.com/betatim\">@betatim</a></strong></li>\n<li><a href=\"https://github.com/jupyter/repo2docker/pull/757\">(#757)</a>: <em>[MRG] Rewrite tests in test_semver.py #615</em> by <strong><a href=\"https://github.com/Geektrovert\">@Geektrovert</a></strong> merged by <strong><a href=\"https://github.com/betatim\">@betatim</a></strong></li>\n</ul>\n<h5><a href=\"https://github.com/jupyter/telemetry\">jupyter/telemetry</a></h5>\n<ul>\n<li><a href=\"https://github.com/jupyter/telemetry/pull/26\">(#26)</a>: <em>Basic documentation in README.</em> by <strong><a href=\"https://github.com/Zsailer\">@Zsailer</a></strong> merged by <strong><a href=\"https://github.com/jaipreet-s\">@jaipreet-s</a></strong></li>\n</ul>\n<h5><a href=\"https://github.com/jupyter/testpath\">jupyter/testpath</a></h5>\n<ul>\n<li><a href=\"https://github.com/jupyter/testpath/pull/18\">(#18)</a>: <em>Use path-like protocol for path objects where supported</em> by <strong><a href=\"https://github.com/takluyver\">@takluyver</a></strong> merged by <strong><a href=\"https://github.com/blink1073\">@blink1073</a></strong></li>\n</ul>"
      }
     },
     "ce1acd1304004291a3def2e7d8c36493": {
      "model_module": "@jupyter-widgets/controls",
      "model_module_version": "1.5.0",
      "model_name": "DescriptionStyleModel",
      "state": {
       "_model_module": "@jupyter-widgets/controls",
       "_model_module_version": "1.5.0",
       "_model_name": "DescriptionStyleModel",
       "_view_count": null,
       "_view_module": "@jupyter-widgets/base",
       "_view_module_version": "1.2.0",
       "_view_name": "StyleView",
       "description_width": ""
      }
     },
     "d0bf19c1748b4d2582142728d34e21e2": {
      "model_module": "@jupyter-widgets/controls",
      "model_module_version": "1.5.0",
      "model_name": "DescriptionStyleModel",
      "state": {
       "_model_module": "@jupyter-widgets/controls",
       "_model_module_version": "1.5.0",
       "_model_name": "DescriptionStyleModel",
       "_view_count": null,
       "_view_module": "@jupyter-widgets/base",
       "_view_module_version": "1.2.0",
       "_view_name": "StyleView",
       "description_width": ""
      }
     },
     "d9afb09103324ea1b73415bc658531e6": {
      "model_module": "@jupyter-widgets/controls",
      "model_module_version": "1.5.0",
      "model_name": "HTMLModel",
      "state": {
       "_dom_classes": [],
       "_model_module": "@jupyter-widgets/controls",
       "_model_module_version": "1.5.0",
       "_model_name": "HTMLModel",
       "_view_count": null,
       "_view_module": "@jupyter-widgets/controls",
       "_view_module_version": "1.5.0",
       "_view_name": "HTMLView",
       "description": "",
       "description_tooltip": null,
       "layout": "IPY_MODEL_9488513f14614520acf4fa43fc2c3699",
       "placeholder": "​",
       "style": "IPY_MODEL_f89861224c5849bdbfc1873fb1f1e84e",
       "value": "<h4>jupyter-widgets</h4>\n<h5><a href=\"https://github.com/jupyter-widgets/ipyleaflet\">jupyter-widgets/ipyleaflet</a></h5>\n<ul>\n<li><a href=\"https://github.com/jupyter-widgets/ipyleaflet/issues/412\">(#412)</a>: <em>Animated / moving markers</em> by <strong><a href=\"https://github.com/psychemedia\">@psychemedia</a></strong></li>\n<li><a href=\"https://github.com/jupyter-widgets/ipyleaflet/issues/411\">(#411)</a>: <em>Plot shapefile or KMZ in ipyleaflet</em> by <strong><a href=\"https://github.com/tgrout\">@tgrout</a></strong></li>\n<li><a href=\"https://github.com/jupyter-widgets/ipyleaflet/issues/413\">(#413)</a>: <em>YAML issue</em> by <strong><a href=\"https://github.com/gemmavnash\">@gemmavnash</a></strong></li>\n<li><a href=\"https://github.com/jupyter-widgets/ipyleaflet/issues/92\">(#92)</a>: <em>Add on_click to Marker objects</em> by <strong><a href=\"https://github.com/rsignell-usgs\">@rsignell-usgs</a></strong></li>\n</ul>\n<h5><a href=\"https://github.com/jupyter-widgets/ipywidgets\">jupyter-widgets/ipywidgets</a></h5>\n<ul>\n<li><a href=\"https://github.com/jupyter-widgets/ipywidgets/issues/2522\">(#2522)</a>: <em>FileUpload size limit?</em> by <strong><a href=\"https://github.com/cosmoscalibur\">@cosmoscalibur</a></strong></li>\n<li><a href=\"https://github.com/jupyter-widgets/ipywidgets/issues/2369\">(#2369)</a>: <em>Is there anyway to keep a widget state even after a kernel restart?</em> by <strong><a href=\"https://github.com/andyjmc\">@andyjmc</a></strong></li>\n<li><a href=\"https://github.com/jupyter-widgets/ipywidgets/issues/2527\">(#2527)</a>: _Jupyter and Ipywidgets up to date, yet ImportError: IntProgress not found. Please update jupyter and ipywidgets. _ by <strong><a href=\"https://github.com/janPesl\">@janPesl</a></strong></li>\n</ul>\n<h5><a href=\"https://github.com/jupyter-widgets/jupyterlab-sidecar\">jupyter-widgets/jupyterlab-sidecar</a></h5>\n<ul>\n<li><a href=\"https://github.com/jupyter-widgets/jupyterlab-sidecar/issues/25\">(#25)</a>: <em>CSS layout changed with jupyter 1.0 upgrade</em> by <strong><a href=\"https://github.com/ablaagaard\">@ablaagaard</a></strong></li>\n<li><a href=\"https://github.com/jupyter-widgets/jupyterlab-sidecar/issues/19\">(#19)</a>: <em>Tests are not passing</em> by <strong><a href=\"https://github.com/martinRenou\">@martinRenou</a></strong></li>\n</ul>\n<h5><a href=\"https://github.com/jupyter-widgets/widget-cookiecutter\">jupyter-widgets/widget-cookiecutter</a></h5>\n<h5><a href=\"https://github.com/jupyter-widgets/widget-ts-cookiecutter\">jupyter-widgets/widget-ts-cookiecutter</a></h5>\n<ul>\n<li><a href=\"https://github.com/jupyter-widgets/widget-ts-cookiecutter/issues/43\">(#43)</a>: <em>Example for running ExampleView</em> by <strong><a href=\"https://github.com/tlimpanont\">@tlimpanont</a></strong></li>\n</ul>"
      }
     },
     "de31c7fc6fd04753b062f7af1649c5b6": {
      "model_module": "@jupyter-widgets/controls",
      "model_module_version": "1.5.0",
      "model_name": "DescriptionStyleModel",
      "state": {
       "_model_module": "@jupyter-widgets/controls",
       "_model_module_version": "1.5.0",
       "_model_name": "DescriptionStyleModel",
       "_view_count": null,
       "_view_module": "@jupyter-widgets/base",
       "_view_module_version": "1.2.0",
       "_view_name": "StyleView",
       "description_width": ""
      }
     },
     "e05c4ac50b444394bb0fc16f882f18ad": {
      "model_module": "@jupyter-widgets/controls",
      "model_module_version": "1.5.0",
      "model_name": "DescriptionStyleModel",
      "state": {
       "_model_module": "@jupyter-widgets/controls",
       "_model_module_version": "1.5.0",
       "_model_name": "DescriptionStyleModel",
       "_view_count": null,
       "_view_module": "@jupyter-widgets/base",
       "_view_module_version": "1.2.0",
       "_view_name": "StyleView",
       "description_width": ""
      }
     },
     "e9427d48c61a4e8fbca8b3d0e9f794a1": {
      "model_module": "@jupyter-widgets/controls",
      "model_module_version": "1.5.0",
      "model_name": "DescriptionStyleModel",
      "state": {
       "_model_module": "@jupyter-widgets/controls",
       "_model_module_version": "1.5.0",
       "_model_name": "DescriptionStyleModel",
       "_view_count": null,
       "_view_module": "@jupyter-widgets/base",
       "_view_module_version": "1.2.0",
       "_view_name": "StyleView",
       "description_width": ""
      }
     },
     "eeddd779d6354702adf74ff9b91aeef8": {
      "model_module": "@jupyter-widgets/controls",
      "model_module_version": "1.5.0",
      "model_name": "HTMLModel",
      "state": {
       "_dom_classes": [],
       "_model_module": "@jupyter-widgets/controls",
       "_model_module_version": "1.5.0",
       "_model_name": "HTMLModel",
       "_view_count": null,
       "_view_module": "@jupyter-widgets/controls",
       "_view_module_version": "1.5.0",
       "_view_name": "HTMLView",
       "description": "",
       "description_tooltip": null,
       "layout": "IPY_MODEL_7053d7d2145d4809b20e2140df7e40eb",
       "placeholder": "​",
       "style": "IPY_MODEL_a0389a1d19c4408e8d072bed534ac59f",
       "value": "<h4>ipython</h4>\n<h5><a href=\"https://github.com/ipython/ipykernel\">ipython/ipykernel</a></h5>\n<ul>\n<li><a href=\"https://github.com/ipython/ipykernel/issues/424\">(#424)</a>: <em>IPykernel broken on Python 2.7</em> by <strong><a href=\"https://github.com/matthew-brett\">@matthew-brett</a></strong></li>\n<li><a href=\"https://github.com/ipython/ipykernel/issues/420\">(#420)</a>: <em>5.1.2 Release</em> by <strong><a href=\"https://github.com/MSeal\">@MSeal</a></strong></li>\n<li><a href=\"https://github.com/ipython/ipykernel/issues/423\">(#423)</a>: <em>Release 4.10.1</em> by <strong><a href=\"https://github.com/ccordoba12\">@ccordoba12</a></strong></li>\n</ul>\n<h5><a href=\"https://github.com/ipython/ipyparallel\">ipython/ipyparallel</a></h5>\n<ul>\n<li><a href=\"https://github.com/ipython/ipyparallel/issues/303\">(#303)</a>: <em>pyzmq &gt;= 17 make ipyparallel unstable</em> by <strong><a href=\"https://github.com/cyberwillis\">@cyberwillis</a></strong></li>\n<li><a href=\"https://github.com/ipython/ipyparallel/issues/370\">(#370)</a>: <em>Costarting a ipcontroller and ipengines along the Python script in a single job script</em> by <strong><a href=\"https://github.com/basnijholt\">@basnijholt</a></strong></li>\n</ul>\n<h5><a href=\"https://github.com/ipython/ipython\">ipython/ipython</a></h5>\n<ul>\n<li><a href=\"https://github.com/ipython/ipython/issues/11646\">(#11646)</a>: <em>Duplicated definition of built-in magic aliases after %reset</em> by <strong><a href=\"https://github.com/red8012\">@red8012</a></strong></li>\n<li><a href=\"https://github.com/ipython/ipython/issues/11860\">(#11860)</a>: <em>Unable to launch ipython</em> by <strong><a href=\"https://github.com/jaib1\">@jaib1</a></strong></li>\n<li><a href=\"https://github.com/ipython/ipython/issues/11838\">(#11838)</a>: <em>Jedi support broke auto-completion in accerciser</em> by <strong><a href=\"https://github.com/sthibaul\">@sthibaul</a></strong></li>\n</ul>\n<h5><a href=\"https://github.com/ipython/traitlets\">ipython/traitlets</a></h5>"
      }
     },
     "f48c3c26f5e2439aaa96f7d8adb184fa": {
      "model_module": "@jupyter-widgets/controls",
      "model_module_version": "1.5.0",
      "model_name": "HTMLModel",
      "state": {
       "_dom_classes": [],
       "_model_module": "@jupyter-widgets/controls",
       "_model_module_version": "1.5.0",
       "_model_name": "HTMLModel",
       "_view_count": null,
       "_view_module": "@jupyter-widgets/controls",
       "_view_module_version": "1.5.0",
       "_view_name": "HTMLView",
       "description": "",
       "description_tooltip": null,
       "layout": "IPY_MODEL_85be467b08e14b4a9f76743a78aabe12",
       "placeholder": "​",
       "style": "IPY_MODEL_d0bf19c1748b4d2582142728d34e21e2",
       "value": "<h4>jupyter</h4>\n<h5><a href=\"https://github.com/jupyter/atom-notebook\">jupyter/atom-notebook</a></h5>\n<ul>\n<li><a href=\"https://github.com/jupyter/atom-notebook/issues/89\">(#89)</a>: <em>getting an error when install jupyter-notebook on Atom</em> by <strong><a href=\"https://github.com/omarHazim\">@omarHazim</a></strong></li>\n<li><a href=\"https://github.com/jupyter/atom-notebook/issues/86\">(#86)</a>: <em>Installation fails on Atom</em> by <strong><a href=\"https://github.com/devashishdhiman\">@devashishdhiman</a></strong></li>\n<li><a href=\"https://github.com/jupyter/atom-notebook/issues/84\">(#84)</a>: <em>jupyter-notebook@0.0.10 installation failed</em> by <strong><a href=\"https://github.com/crazylazylife\">@crazylazylife</a></strong></li>\n<li><a href=\"https://github.com/jupyter/atom-notebook/issues/83\">(#83)</a>: <em>Uninstallable on macOS 10.14</em> by <strong><a href=\"https://github.com/arnavs\">@arnavs</a></strong></li>\n</ul>\n<h5><a href=\"https://github.com/jupyter/design\">jupyter/design</a></h5>\n<ul>\n<li><a href=\"https://github.com/jupyter/design/issues/59\">(#59)</a>: <em>Who made the \"community call\" logo?</em> by <strong><a href=\"https://github.com/choldgraf\">@choldgraf</a></strong></li>\n</ul>\n<h5><a href=\"https://github.com/jupyter/docker-stacks\">jupyter/docker-stacks</a></h5>\n<ul>\n<li><a href=\"https://github.com/jupyter/docker-stacks/issues/914\">(#914)</a>: <em>Numpy version not compatible to Catboost</em> by <strong><a href=\"https://github.com/tqa236\">@tqa236</a></strong></li>\n</ul>\n<h5><a href=\"https://github.com/jupyter/enhancement-proposals\">jupyter/enhancement-proposals</a></h5>\n<ul>\n<li><a href=\"https://github.com/jupyter/enhancement-proposals/issues/31\">(#31)</a>: <em>[JEP 0028] Clearly define the smallest unit that is a \"Jupyter Server\"</em> by <strong><a href=\"https://github.com/Zsailer\">@Zsailer</a></strong></li>\n</ul>\n<h5><a href=\"https://github.com/jupyter/enterprise_gateway\">jupyter/enterprise_gateway</a></h5>\n<ul>\n<li><a href=\"https://github.com/jupyter/enterprise_gateway/issues/626\">(#626)</a>: <em>Kubernetes ingress</em> by <strong><a href=\"https://github.com/witten\">@witten</a></strong></li>\n<li><a href=\"https://github.com/jupyter/enterprise_gateway/issues/562\">(#562)</a>: <em>High Availability - session persistence on bare metal machines</em> by <strong><a href=\"https://github.com/Gsbreddy\">@Gsbreddy</a></strong></li>\n<li><a href=\"https://github.com/jupyter/enterprise_gateway/issues/721\">(#721)</a>: <em>JupyterHub integration with Jupyter Enterprise Gateway (DockerSwarm)</em> by <strong><a href=\"https://github.com/mihirkapadiap\">@mihirkapadiap</a></strong></li>\n</ul>\n<h5><a href=\"https://github.com/jupyter/jupyter\">jupyter/jupyter</a></h5>\n<ul>\n<li><a href=\"https://github.com/jupyter/jupyter/issues/248\">(#248)</a>: <em>java gateway process exited before sending the driver its port number</em> by <strong><a href=\"https://github.com/leafjungle\">@leafjungle</a></strong></li>\n</ul>\n<h5><a href=\"https://github.com/jupyter/jupyter-book\">jupyter/jupyter-book</a></h5>\n<ul>\n<li><a href=\"https://github.com/jupyter/jupyter-book/issues/236\">(#236)</a>: <em>RFC: Brainstorming single-page documents</em> by <strong><a href=\"https://github.com/emdupre\">@emdupre</a></strong></li>\n</ul>\n<h5><a href=\"https://github.com/jupyter/jupyter-drive\">jupyter/jupyter-drive</a></h5>\n<h5><a href=\"https://github.com/jupyter/jupyter-sphinx\">jupyter/jupyter-sphinx</a></h5>\n<h5><a href=\"https://github.com/jupyter/jupyter.github.io\">jupyter/jupyter.github.io</a></h5>\n<h5><a href=\"https://github.com/jupyter/jupyter_client\">jupyter/jupyter_client</a></h5>\n<ul>\n<li><a href=\"https://github.com/jupyter/jupyter_client/issues/433\">(#433)</a>: <em>RFC: Asynchronous Comm Messaging</em> by <strong><a href=\"https://github.com/travigd\">@travigd</a></strong></li>\n<li><a href=\"https://github.com/jupyter/jupyter_client/issues/465\">(#465)</a>: <em>Multikernelmanager not managing Accepted Kernels</em> by <strong><a href=\"https://github.com/vikasgarg1996\">@vikasgarg1996</a></strong></li>\n</ul>\n<h5><a href=\"https://github.com/jupyter/jupyter_console\">jupyter/jupyter_console</a></h5>\n<ul>\n<li><a href=\"https://github.com/jupyter/jupyter_console/issues/158\">(#158)</a>: <em>Jupyter-console incompatible with prompt-toolkit 2.0.2</em> by <strong><a href=\"https://github.com/blfuentes\">@blfuentes</a></strong></li>\n</ul>\n<h5><a href=\"https://github.com/jupyter/jupyter_core\">jupyter/jupyter_core</a></h5>\n<ul>\n<li><a href=\"https://github.com/jupyter/jupyter_core/issues/84\">(#84)</a>: <em>Use jupyter command, It show error: No such file or directory</em> by <strong><a href=\"https://github.com/Anne623\">@Anne623</a></strong></li>\n</ul>\n<h5><a href=\"https://github.com/jupyter/jupyter_server\">jupyter/jupyter_server</a></h5>\n<h5><a href=\"https://github.com/jupyter/kernel_gateway\">jupyter/kernel_gateway</a></h5>\n<h5><a href=\"https://github.com/jupyter/kernel_gateway_demos\">jupyter/kernel_gateway_demos</a></h5>\n<ul>\n<li><a href=\"https://github.com/jupyter/kernel_gateway_demos/issues/62\">(#62)</a>: <em>Files for Scotch example no longer available</em> by <strong><a href=\"https://github.com/robmarkcole\">@robmarkcole</a></strong></li>\n</ul>\n<h5><a href=\"https://github.com/jupyter/nbconvert\">jupyter/nbconvert</a></h5>\n<ul>\n<li><a href=\"https://github.com/jupyter/nbconvert/issues/1092\">(#1092)</a>: <em>Async / asynchronous execution</em> by <strong><a href=\"https://github.com/maartenbreddels\">@maartenbreddels</a></strong></li>\n<li><a href=\"https://github.com/jupyter/nbconvert/issues/1052\">(#1052)</a>: <em>NBConvert 5.6 Release</em> by <strong><a href=\"https://github.com/MSeal\">@MSeal</a></strong></li>\n</ul>\n<h5><a href=\"https://github.com/jupyter/nbdime\">jupyter/nbdime</a></h5>\n<ul>\n<li><a href=\"https://github.com/jupyter/nbdime/issues/493\">(#493)</a>: <em>Buttons not aligned in JupyterLab</em> by <strong><a href=\"https://github.com/jasonyan0302\">@jasonyan0302</a></strong></li>\n<li><a href=\"https://github.com/jupyter/nbdime/issues/464\">(#464)</a>: <em>dockerfile for building this from source</em> by <strong><a href=\"https://github.com/Godley\">@Godley</a></strong></li>\n<li><a href=\"https://github.com/jupyter/nbdime/issues/449\">(#449)</a>: <em>Swagger Spec for Server API</em> by <strong><a href=\"https://github.com/jaipreet-s\">@jaipreet-s</a></strong></li>\n</ul>\n<h5><a href=\"https://github.com/jupyter/nbformat\">jupyter/nbformat</a></h5>\n<ul>\n<li><a href=\"https://github.com/jupyter/nbformat/issues/138\">(#138)</a>: <em>Current notebook format version</em> by <strong><a href=\"https://github.com/jasongrout\">@jasongrout</a></strong></li>\n</ul>\n<h5><a href=\"https://github.com/jupyter/nbgrader\">jupyter/nbgrader</a></h5>\n<ul>\n<li><a href=\"https://github.com/jupyter/nbgrader/issues/1159\">(#1159)</a>: <em>Unpin version of ipython in 0.5.6.dev and release 0.5.6</em> by <strong><a href=\"https://github.com/ocefpaf\">@ocefpaf</a></strong></li>\n</ul>\n<h5><a href=\"https://github.com/jupyter/nbviewer\">jupyter/nbviewer</a></h5>\n<ul>\n<li><a href=\"https://github.com/jupyter/nbviewer/issues/837\">(#837)</a>: <em>Docker image : enable extensions</em> by <strong><a href=\"https://github.com/dbeniamine\">@dbeniamine</a></strong></li>\n<li><a href=\"https://github.com/jupyter/nbviewer/issues/848\">(#848)</a>: <em>A Conda related error is thrown during a Docker build of nbviewer.</em> by <strong><a href=\"https://github.com/dm-wyncode\">@dm-wyncode</a></strong></li>\n<li><a href=\"https://github.com/jupyter/nbviewer/issues/741\">(#741)</a>: <em>dockerhub images are not tagged</em> by <strong><a href=\"https://github.com/MarkusTeufelberger\">@MarkusTeufelberger</a></strong></li>\n<li><a href=\"https://github.com/jupyter/nbviewer/issues/470\">(#470)</a>: <em>Latex not displaying properly</em> by <strong><a href=\"https://github.com/vijayvd\">@vijayvd</a></strong></li>\n</ul>\n<h5><a href=\"https://github.com/jupyter/notebook\">jupyter/notebook</a></h5>\n<h5><a href=\"https://github.com/jupyter/qtconsole\">jupyter/qtconsole</a></h5>\n<ul>\n<li><a href=\"https://github.com/jupyter/qtconsole/issues/351\">(#351)</a>: <em>Prompt automatically scrolling down to the bottom of the window on execution</em> by <strong><a href=\"https://github.com/Gauler\">@Gauler</a></strong></li>\n</ul>\n<h5><a href=\"https://github.com/jupyter/repo2docker\">jupyter/repo2docker</a></h5>\n<ul>\n<li><a href=\"https://github.com/jupyter/repo2docker/issues/758\">(#758)</a>: <em>libconv dependency error when using repo2docker but not when using conda env directly</em> by <strong><a href=\"https://github.com/rbavery\">@rbavery</a></strong></li>\n<li><a href=\"https://github.com/jupyter/repo2docker/issues/763\">(#763)</a>: <em>Could not find a kernel matching Julia 1.1.1</em> by <strong><a href=\"https://github.com/janlisse\">@janlisse</a></strong></li>\n<li><a href=\"https://github.com/jupyter/repo2docker/issues/615\">(#615)</a>: <em>Rewrite semver tests to use pytest's parametrize functionality</em> by <strong><a href=\"https://github.com/betatim\">@betatim</a></strong></li>\n</ul>\n<h5><a href=\"https://github.com/jupyter/telemetry\">jupyter/telemetry</a></h5>\n<ul>\n<li><a href=\"https://github.com/jupyter/telemetry/issues/22\">(#22)</a>: <em>Installing the extension</em> by <strong><a href=\"https://github.com/tonyfast\">@tonyfast</a></strong></li>\n<li><a href=\"https://github.com/jupyter/telemetry/issues/23\">(#23)</a>: <em>Example of filtering events to different logging handlers</em> by <strong><a href=\"https://github.com/Zsailer\">@Zsailer</a></strong></li>\n<li><a href=\"https://github.com/jupyter/telemetry/issues/21\">(#21)</a>: <em>Trusted events</em> by <strong><a href=\"https://github.com/jaipreet-s\">@jaipreet-s</a></strong></li>\n</ul>"
      }
     },
     "f89861224c5849bdbfc1873fb1f1e84e": {
      "model_module": "@jupyter-widgets/controls",
      "model_module_version": "1.5.0",
      "model_name": "DescriptionStyleModel",
      "state": {
       "_model_module": "@jupyter-widgets/controls",
       "_model_module_version": "1.5.0",
       "_model_name": "DescriptionStyleModel",
       "_view_count": null,
       "_view_module": "@jupyter-widgets/base",
       "_view_module_version": "1.2.0",
       "_view_name": "StyleView",
       "description_width": ""
      }
     },
     "ff9dd0dc51db4006b8d83718dfced62d": {
      "model_module": "@jupyter-widgets/base",
      "model_module_version": "1.2.0",
      "model_name": "LayoutModel",
      "state": {
       "_model_module": "@jupyter-widgets/base",
       "_model_module_version": "1.2.0",
       "_model_name": "LayoutModel",
       "_view_count": null,
       "_view_module": "@jupyter-widgets/base",
       "_view_module_version": "1.2.0",
       "_view_name": "LayoutView",
       "align_content": null,
       "align_items": null,
       "align_self": null,
       "border": null,
       "bottom": null,
       "display": null,
       "flex": null,
       "flex_flow": null,
       "grid_area": null,
       "grid_auto_columns": null,
       "grid_auto_flow": null,
       "grid_auto_rows": null,
       "grid_column": null,
       "grid_gap": null,
       "grid_row": null,
       "grid_template_areas": null,
       "grid_template_columns": null,
       "grid_template_rows": null,
       "height": null,
       "justify_content": null,
       "justify_items": null,
       "left": null,
       "margin": null,
       "max_height": null,
       "max_width": null,
       "min_height": null,
       "min_width": null,
       "object_fit": null,
       "object_position": null,
       "order": null,
       "overflow": null,
       "overflow_x": null,
       "overflow_y": null,
       "padding": null,
       "right": null,
       "top": null,
       "visibility": null,
       "width": null
      }
     },
     "ffa5bade1209479881990aa42a5f40ba": {
      "model_module": "@jupyter-widgets/controls",
      "model_module_version": "1.5.0",
      "model_name": "HTMLModel",
      "state": {
       "_dom_classes": [],
       "_model_module": "@jupyter-widgets/controls",
       "_model_module_version": "1.5.0",
       "_model_name": "HTMLModel",
       "_view_count": null,
       "_view_module": "@jupyter-widgets/controls",
       "_view_module_version": "1.5.0",
       "_view_name": "HTMLView",
       "description": "",
       "description_tooltip": null,
       "layout": "IPY_MODEL_15b0718dc9324644a4a4f2f6c994cd1a",
       "placeholder": "​",
       "style": "IPY_MODEL_de31c7fc6fd04753b062f7af1649c5b6",
       "value": "<center><p><a href=\"https://github.com/AartGoossens\">AartGoossens</a> | <a href=\"https://github.com/adeperio\">adeperio</a> | <a href=\"https://github.com/Adnan0208\">Adnan0208</a> | <a href=\"https://github.com/adriendelsalle\">adriendelsalle</a> | <a href=\"https://github.com/adumont\">adumont</a> | <a href=\"https://github.com/ahhhhah\">ahhhhah</a> | <a href=\"https://github.com/akhmerov\">akhmerov</a> | <a href=\"https://github.com/alancalvitti\">alancalvitti</a> | <a href=\"https://github.com/AlexZettler\">AlexZettler</a> | <a href=\"https://github.com/alfredolopez80\">alfredolopez80</a> | <a href=\"https://github.com/alisdt\">alisdt</a> | <a href=\"https://github.com/alvinhuff\">alvinhuff</a> | <a href=\"https://github.com/amangarg96\">amangarg96</a> | <a href=\"https://github.com/amitsaxena\">amitsaxena</a> | <a href=\"https://github.com/andreafey\">andreafey</a> | <a href=\"https://github.com/anonymone\">anonymone</a> | <a href=\"https://github.com/arnavs\">arnavs</a> | <a href=\"https://github.com/asteppke\">asteppke</a> | <a href=\"https://github.com/AstroMike\">AstroMike</a> | <a href=\"https://github.com/aviadr1\">aviadr1</a> | <a href=\"https://github.com/AvivSham\">AvivSham</a> | <a href=\"https://github.com/b-stone\">b-stone</a> | <a href=\"https://github.com/baregawi\">baregawi</a> | <a href=\"https://github.com/bburan\">bburan</a> | <a href=\"https://github.com/BertR\">BertR</a> | <a href=\"https://github.com/betatim\">betatim</a> | <a href=\"https://github.com/blink1073\">blink1073</a> | <a href=\"https://github.com/bollwyvl\">bollwyvl</a> | <a href=\"https://github.com/brando90\">brando90</a> | <a href=\"https://github.com/BrenBarn\">BrenBarn</a> | <a href=\"https://github.com/BrittonWinterrose\">BrittonWinterrose</a> | <a href=\"https://github.com/bthayer2365\">bthayer2365</a> | <a href=\"https://github.com/c-goosen\">c-goosen</a> | <a href=\"https://github.com/camporeale\">camporeale</a> | <a href=\"https://github.com/Carreau\">Carreau</a> | <a href=\"https://github.com/cbm755\">cbm755</a> | <a href=\"https://github.com/ccordoba12\">ccordoba12</a> | <a href=\"https://github.com/ceteri\">ceteri</a> | <a href=\"https://github.com/ChaosPredictor\">ChaosPredictor</a> | <a href=\"https://github.com/charlesfrye\">charlesfrye</a> | <a href=\"https://github.com/choldgraf\">choldgraf</a> | <a href=\"https://github.com/chrisjsewell\">chrisjsewell</a> | <a href=\"https://github.com/christenvie\">christenvie</a> | <a href=\"https://github.com/consideRatio\">consideRatio</a> | <a href=\"https://github.com/CursingRabbit\">CursingRabbit</a> | <a href=\"https://github.com/dalthviz\">dalthviz</a> | <a href=\"https://github.com/danielmaitre\">danielmaitre</a> | <a href=\"https://github.com/darribas\">darribas</a> | <a href=\"https://github.com/davidanthoff\">davidanthoff</a> | <a href=\"https://github.com/davidlattimore\">davidlattimore</a> | <a href=\"https://github.com/davidnero\">davidnero</a> | <a href=\"https://github.com/davidrobles\">davidrobles</a> | <a href=\"https://github.com/davidrpugh\">davidrpugh</a> | <a href=\"https://github.com/dbeniamine\">dbeniamine</a> | <a href=\"https://github.com/Deborshi1993\">Deborshi1993</a> | <a href=\"https://github.com/denson\">denson</a> | <a href=\"https://github.com/DentonGentry\">DentonGentry</a> | <a href=\"https://github.com/DerFerdi\">DerFerdi</a> | <a href=\"https://github.com/dhirschfeld\">dhirschfeld</a> | <a href=\"https://github.com/dhruvbalwada\">dhruvbalwada</a> | <a href=\"https://github.com/dkhokhlov\">dkhokhlov</a> | <a href=\"https://github.com/dm-wyncode\">dm-wyncode</a> | <a href=\"https://github.com/dniku\">dniku</a> | <a href=\"https://github.com/dparvaz\">dparvaz</a> | <a href=\"https://github.com/dsblank\">dsblank</a> | <a href=\"https://github.com/dshakey\">dshakey</a> | <a href=\"https://github.com/dstex\">dstex</a> | <a href=\"https://github.com/Duncanswilson\">Duncanswilson</a> | <a href=\"https://github.com/Dustyposa\">Dustyposa</a> | <a href=\"https://github.com/edouardtheron\">edouardtheron</a> | <a href=\"https://github.com/emdupre\">emdupre</a> | <a href=\"https://github.com/emthomas\">emthomas</a> | <a href=\"https://github.com/epogrebnyak\">epogrebnyak</a> | <a href=\"https://github.com/erichamers\">erichamers</a> | <a href=\"https://github.com/esevan\">esevan</a> | <a href=\"https://github.com/espdev\">espdev</a> | <a href=\"https://github.com/f29825604\">f29825604</a> | <a href=\"https://github.com/Fair-Child\">Fair-Child</a> | <a href=\"https://github.com/fchiriac\">fchiriac</a> | <a href=\"https://github.com/fingoldo\">fingoldo</a> | <a href=\"https://github.com/Flid\">Flid</a> | <a href=\"https://github.com/fpmarcos\">fpmarcos</a> | <a href=\"https://github.com/Geektrovert\">Geektrovert</a> | <a href=\"https://github.com/GeorgianaElena\">GeorgianaElena</a> | <a href=\"https://github.com/gertjandemulder\">gertjandemulder</a> | <a href=\"https://github.com/GiorgioBalestrieri\">GiorgioBalestrieri</a> | <a href=\"https://github.com/gjenkins8\">gjenkins8</a> | <a href=\"https://github.com/gnestor\">gnestor</a> | <a href=\"https://github.com/Gsbreddy\">Gsbreddy</a> | <a href=\"https://github.com/guido611\">guido611</a> | <a href=\"https://github.com/gutow\">gutow</a> | <a href=\"https://github.com/gwaygenomics\">gwaygenomics</a> | <a href=\"https://github.com/hadim\">hadim</a> | <a href=\"https://github.com/harper357\">harper357</a> | <a href=\"https://github.com/henchc\">henchc</a> | <a href=\"https://github.com/HouariZegai\">HouariZegai</a> | <a href=\"https://github.com/Hyaxia\">Hyaxia</a> | <a href=\"https://github.com/impact27\">impact27</a> | <a href=\"https://github.com/ImportanceOfBeingErnest\">ImportanceOfBeingErnest</a> | <a href=\"https://github.com/JackJHarris\">JackJHarris</a> | <a href=\"https://github.com/jaipreet-s\">jaipreet-s</a> | <a href=\"https://github.com/jakepaw\">jakepaw</a> | <a href=\"https://github.com/jameslao\">jameslao</a> | <a href=\"https://github.com/janlisse\">janlisse</a> | <a href=\"https://github.com/jasongrout\">jasongrout</a> | <a href=\"https://github.com/jasonyan0302\">jasonyan0302</a> | <a href=\"https://github.com/jbecla\">jbecla</a> | <a href=\"https://github.com/jdblischak\">jdblischak</a> | <a href=\"https://github.com/jeanmonet\">jeanmonet</a> | <a href=\"https://github.com/jeffyjefflabs\">jeffyjefflabs</a> | <a href=\"https://github.com/jhamrick\">jhamrick</a> | <a href=\"https://github.com/jhornig\">jhornig</a> | <a href=\"https://github.com/jlperla\">jlperla</a> | <a href=\"https://github.com/jnahmias\">jnahmias</a> | <a href=\"https://github.com/jnorthrup\">jnorthrup</a> | <a href=\"https://github.com/johncbowers\">johncbowers</a> | <a href=\"https://github.com/jsbangsund\">jsbangsund</a> | <a href=\"https://github.com/Juanlu001\">Juanlu001</a> | <a href=\"https://github.com/juliusvonkohout\">juliusvonkohout</a> | <a href=\"https://github.com/jupyteradmin\">jupyteradmin</a> | <a href=\"https://github.com/karthik\">karthik</a> | <a href=\"https://github.com/kcranston\">kcranston</a> | <a href=\"https://github.com/Keppl\">Keppl</a> | <a href=\"https://github.com/kevin-bates\">kevin-bates</a> | <a href=\"https://github.com/Khushbu04in\">Khushbu04in</a> | <a href=\"https://github.com/kkwilllo\">kkwilllo</a> | <a href=\"https://github.com/kmair\">kmair</a> | <a href=\"https://github.com/krinsman\">krinsman</a> | <a href=\"https://github.com/krishnakakade1999\">krishnakakade1999</a> | <a href=\"https://github.com/kwlzn\">kwlzn</a> | <a href=\"https://github.com/l1ska\">l1ska</a> | <a href=\"https://github.com/leotrs\">leotrs</a> | <a href=\"https://github.com/lfunderburk\">lfunderburk</a> | <a href=\"https://github.com/llinfeng\">llinfeng</a> | <a href=\"https://github.com/lmeyerov\">lmeyerov</a> | <a href=\"https://github.com/lresende\">lresende</a> | <a href=\"https://github.com/lubaroli\">lubaroli</a> | <a href=\"https://github.com/lwasser\">lwasser</a> | <a href=\"https://github.com/maartenbreddels\">maartenbreddels</a> | <a href=\"https://github.com/Madhu94\">Madhu94</a> | <a href=\"https://github.com/mahdi-malv\">mahdi-malv</a> | <a href=\"https://github.com/mak705\">mak705</a> | <a href=\"https://github.com/mancunian1792\">mancunian1792</a> | <a href=\"https://github.com/manmoi01\">manmoi01</a> | <a href=\"https://github.com/mansenfranzen\">mansenfranzen</a> | <a href=\"https://github.com/markfsousa\">markfsousa</a> | <a href=\"https://github.com/markperri\">markperri</a> | <a href=\"https://github.com/martin2384798\">martin2384798</a> | <a href=\"https://github.com/martinagvilas\">martinagvilas</a> | <a href=\"https://github.com/masip85\">masip85</a> | <a href=\"https://github.com/matiasscorsetti\">matiasscorsetti</a> | <a href=\"https://github.com/matmel\">matmel</a> | <a href=\"https://github.com/mattc-eostar\">mattc-eostar</a> | <a href=\"https://github.com/maximillianus\">maximillianus</a> | <a href=\"https://github.com/MBetters\">MBetters</a> | <a href=\"https://github.com/mczxy\">mczxy</a> | <a href=\"https://github.com/mgeier\">mgeier</a> | <a href=\"https://github.com/mghatiy\">mghatiy</a> | <a href=\"https://github.com/mihirkapadiap\">mihirkapadiap</a> | <a href=\"https://github.com/minrk\">minrk</a> | <a href=\"https://github.com/mkzia\">mkzia</a> | <a href=\"https://github.com/mohitpandey92\">mohitpandey92</a> | <a href=\"https://github.com/mpacer\">mpacer</a> | <a href=\"https://github.com/mrdragonbear\">mrdragonbear</a> | <a href=\"https://github.com/msarahan\">msarahan</a> | <a href=\"https://github.com/MSeal\">MSeal</a> | <a href=\"https://github.com/murhum1\">murhum1</a> | <a href=\"https://github.com/mwouts\">mwouts</a> | <a href=\"https://github.com/mytrjp\">mytrjp</a> | <a href=\"https://github.com/nareshsankapelly\">nareshsankapelly</a> | <a href=\"https://github.com/NathanLewis\">NathanLewis</a> | <a href=\"https://github.com/navneetkrverma\">navneetkrverma</a> | <a href=\"https://github.com/nealmcb\">nealmcb</a> | <a href=\"https://github.com/njapke\">njapke</a> | <a href=\"https://github.com/njwag\">njwag</a> | <a href=\"https://github.com/nosratullah\">nosratullah</a> | <a href=\"https://github.com/nscozzaro\">nscozzaro</a> | <a href=\"https://github.com/nuest\">nuest</a> | <a href=\"https://github.com/October22\">October22</a> | <a href=\"https://github.com/ohke\">ohke</a> | <a href=\"https://github.com/oronimbus\">oronimbus</a> | <a href=\"https://github.com/pandeykartikey\">pandeykartikey</a> | <a href=\"https://github.com/pankaj-kvhld\">pankaj-kvhld</a> | <a href=\"https://github.com/parente\">parente</a> | <a href=\"https://github.com/parmentelat\">parmentelat</a> | <a href=\"https://github.com/pat-s\">pat-s</a> | <a href=\"https://github.com/perllaghu\">perllaghu</a> | <a href=\"https://github.com/phaustin\">phaustin</a> | <a href=\"https://github.com/PMende\">PMende</a> | <a href=\"https://github.com/pntbttrvbs\">pntbttrvbs</a> | <a href=\"https://github.com/popmilo\">popmilo</a> | <a href=\"https://github.com/prof-lupin\">prof-lupin</a> | <a href=\"https://github.com/PrometheusPi\">PrometheusPi</a> | <a href=\"https://github.com/pylang\">pylang</a> | <a href=\"https://github.com/qian-zh\">qian-zh</a> | <a href=\"https://github.com/QuantumEntangledAndy\">QuantumEntangledAndy</a> | <a href=\"https://github.com/raespinoza4\">raespinoza4</a> | <a href=\"https://github.com/randomseed42\">randomseed42</a> | <a href=\"https://github.com/rbavery\">rbavery</a> | <a href=\"https://github.com/reichenbch\">reichenbch</a> | <a href=\"https://github.com/rgerkin\">rgerkin</a> | <a href=\"https://github.com/rickwierenga\">rickwierenga</a> | <a href=\"https://github.com/rkdarst\">rkdarst</a> | <a href=\"https://github.com/robmarkcole\">robmarkcole</a> | <a href=\"https://github.com/rolweber\">rolweber</a> | <a href=\"https://github.com/roualdes\">roualdes</a> | <a href=\"https://github.com/royopa\">royopa</a> | <a href=\"https://github.com/rrdipnie\">rrdipnie</a> | <a href=\"https://github.com/ruizhi92\">ruizhi92</a> | <a href=\"https://github.com/rupurut\">rupurut</a> | <a href=\"https://github.com/SarnathK\">SarnathK</a> | <a href=\"https://github.com/saulshanabrook\">saulshanabrook</a> | <a href=\"https://github.com/schneiderfelipe\">schneiderfelipe</a> | <a href=\"https://github.com/scollis\">scollis</a> | <a href=\"https://github.com/scottyhq\">scottyhq</a> | <a href=\"https://github.com/seeralans\">seeralans</a> | <a href=\"https://github.com/Sefriol\">Sefriol</a> | <a href=\"https://github.com/sgillen\">sgillen</a> | <a href=\"https://github.com/sharpTrick\">sharpTrick</a> | <a href=\"https://github.com/shawngiese\">shawngiese</a> | <a href=\"https://github.com/shu2323\">shu2323</a> | <a href=\"https://github.com/sigurdurb\">sigurdurb</a> | <a href=\"https://github.com/simbalsyd\">simbalsyd</a> | <a href=\"https://github.com/SimonOsipov\">SimonOsipov</a> | <a href=\"https://github.com/skritch\">skritch</a> | <a href=\"https://github.com/smnlgn\">smnlgn</a> | <a href=\"https://github.com/staslev\">staslev</a> | <a href=\"https://github.com/stevengj\">stevengj</a> | <a href=\"https://github.com/stq054188\">stq054188</a> | <a href=\"https://github.com/sunsan05\">sunsan05</a> | <a href=\"https://github.com/SylvainCorlay\">SylvainCorlay</a> | <a href=\"https://github.com/t-makaro\">t-makaro</a> | <a href=\"https://github.com/takluyver\">takluyver</a> | <a href=\"https://github.com/tallamjr\">tallamjr</a> | <a href=\"https://github.com/TapanGujjar\">TapanGujjar</a> | <a href=\"https://github.com/Tarun-Rawat\">Tarun-Rawat</a> | <a href=\"https://github.com/tbhaxor\">tbhaxor</a> | <a href=\"https://github.com/technic\">technic</a> | <a href=\"https://github.com/teodorlu\">teodorlu</a> | <a href=\"https://github.com/tgeorgeux\">tgeorgeux</a> | <a href=\"https://github.com/thangckt\">thangckt</a> | <a href=\"https://github.com/thanosgatos\">thanosgatos</a> | <a href=\"https://github.com/theshubhamgoel\">theshubhamgoel</a> | <a href=\"https://github.com/ThibTrip\">ThibTrip</a> | <a href=\"https://github.com/tlekang\">tlekang</a> | <a href=\"https://github.com/tmhm\">tmhm</a> | <a href=\"https://github.com/tonyfast\">tonyfast</a> | <a href=\"https://github.com/tqa236\">tqa236</a> | <a href=\"https://github.com/trallard\">trallard</a> | <a href=\"https://github.com/transifex-integration\">transifex-integration</a> | <a href=\"https://github.com/travigd\">travigd</a> | <a href=\"https://github.com/turkialjrees\">turkialjrees</a> | <a href=\"https://github.com/tv-watts-tatari\">tv-watts-tatari</a> | <a href=\"https://github.com/tvykruta\">tvykruta</a> | <a href=\"https://github.com/tylerlekang\">tylerlekang</a> | <a href=\"https://github.com/ugurkanates\">ugurkanates</a> | <a href=\"https://github.com/utotch\">utotch</a> | <a href=\"https://github.com/vidartf\">vidartf</a> | <a href=\"https://github.com/vikasgarg1996\">vikasgarg1996</a> | <a href=\"https://github.com/viniciusov\">viniciusov</a> | <a href=\"https://github.com/vipuljain11\">vipuljain11</a> | <a href=\"https://github.com/vnavya3\">vnavya3</a> | <a href=\"https://github.com/voyageth\">voyageth</a> | <a href=\"https://github.com/VSehwag\">VSehwag</a> | <a href=\"https://github.com/waydegg\">waydegg</a> | <a href=\"https://github.com/westurner\">westurner</a> | <a href=\"https://github.com/wierzba3\">wierzba3</a> | <a href=\"https://github.com/wigging\">wigging</a> | <a href=\"https://github.com/Wildcarde\">Wildcarde</a> | <a href=\"https://github.com/williamjsdavis\">williamjsdavis</a> | <a href=\"https://github.com/williamstein\">williamstein</a> | <a href=\"https://github.com/willingc\">willingc</a> | <a href=\"https://github.com/wmvanvliet\">wmvanvliet</a> | <a href=\"https://github.com/xapple\">xapple</a> | <a href=\"https://github.com/xxlest\">xxlest</a> | <a href=\"https://github.com/Youngl41\">Youngl41</a> | <a href=\"https://github.com/yushunchang\">yushunchang</a> | <a href=\"https://github.com/yusosov\">yusosov</a> | <a href=\"https://github.com/yuvipanda\">yuvipanda</a> | <a href=\"https://github.com/zachwill\">zachwill</a> | <a href=\"https://github.com/ZhijieWang\">ZhijieWang</a> | <a href=\"https://github.com/zinzyuk\">zinzyuk</a> | <a href=\"https://github.com/Zsailer\">Zsailer</a></p></center>"
      }
     }
    },
    "version_major": 2,
    "version_minor": 0
   }
  }
 },
 "nbformat": 4,
 "nbformat_minor": 4
}