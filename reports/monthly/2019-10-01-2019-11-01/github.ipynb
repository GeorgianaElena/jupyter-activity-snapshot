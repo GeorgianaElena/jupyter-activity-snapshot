{
 "cells": [
  {
   "cell_type": "code",
   "execution_count": 1,
   "metadata": {
    "papermill": {
     "duration": 1.860524,
     "end_time": "2019-12-01T17:52:15.661053",
     "exception": false,
     "start_time": "2019-12-01T17:52:13.800529",
     "status": "completed"
    },
    "tags": []
   },
   "outputs": [],
   "source": [
    "import seaborn as sns\n",
    "import pandas as pd\n",
    "import numpy as np\n",
    "import altair as alt\n",
    "from markdown import markdown\n",
    "from IPython.display import Markdown\n",
    "from ipywidgets.widgets import HTML, Tab\n",
    "from ipywidgets import widgets\n",
    "from datetime import timedelta\n",
    "from matplotlib import pyplot as plt\n",
    "import os.path as op\n",
    "\n",
    "from mod import load_data, alt_theme\n",
    "\n",
    "from warnings import simplefilter\n",
    "simplefilter('ignore')"
   ]
  },
  {
   "cell_type": "code",
   "execution_count": 2,
   "metadata": {
    "papermill": {
     "duration": 0.031314,
     "end_time": "2019-12-01T17:52:15.708552",
     "exception": false,
     "start_time": "2019-12-01T17:52:15.677238",
     "status": "completed"
    },
    "tags": []
   },
   "outputs": [],
   "source": [
    "def author_url(author):\n",
    "    return f\"https://github.com/{author}\""
   ]
  },
  {
   "cell_type": "code",
   "execution_count": 3,
   "metadata": {
    "papermill": {
     "duration": 0.029099,
     "end_time": "2019-12-01T17:52:15.758502",
     "exception": false,
     "start_time": "2019-12-01T17:52:15.729403",
     "status": "completed"
    },
    "tags": [
     "parameters",
     "hide_input"
    ]
   },
   "outputs": [],
   "source": [
    "# Parameters\n",
    "fmt_date = \"{:%Y-%m-%d}\"\n",
    "\n",
    "n_days = 90\n",
    "start_date = fmt_date.format(pd.datetime.today() - timedelta(days=n_days))\n",
    "end_date = fmt_date.format(pd.datetime.today())\n",
    "\n",
    "renderer = \"jupyterlab\"\n",
    "github_orgs = [\"jupyterhub\", \"jupyter\", \"jupyterlab\", \"jupyter-widgets\", \"ipython\", \"binder-examples\", \"nteract\"]"
   ]
  },
  {
   "cell_type": "code",
   "execution_count": 4,
   "metadata": {
    "papermill": {
     "duration": 0.032146,
     "end_time": "2019-12-01T17:52:15.812215",
     "exception": false,
     "start_time": "2019-12-01T17:52:15.780069",
     "status": "completed"
    },
    "tags": [
     "injected-parameters"
    ]
   },
   "outputs": [],
   "source": [
    "# Parameters\n",
    "renderer = \"kaggle\"\n",
    "github_orgs = [\"jupyterhub\", \"jupyter\", \"jupyterlab\", \"jupyter-widgets\", \"ipython\", \"binder-examples\"]\n",
    "start_date = \"2019-10-01\"\n",
    "end_date = \"2019-11-01\"\n"
   ]
  },
  {
   "cell_type": "code",
   "execution_count": 5,
   "metadata": {
    "papermill": {
     "duration": 3.114663,
     "end_time": "2019-12-01T17:52:18.948285",
     "exception": false,
     "start_time": "2019-12-01T17:52:15.833622",
     "status": "completed"
    },
    "tags": []
   },
   "outputs": [],
   "source": [
    "comments, issues, prs = load_data('../data/')\n",
    "bot_names = pd.read_csv('bot_names.csv')['names'].tolist()\n",
    "comments = comments.query('author not in @bot_names').drop_duplicates()\n",
    "issues = issues.query('author not in @bot_names').drop_duplicates()\n",
    "prs = prs.query('author not in @bot_names').drop_duplicates()"
   ]
  },
  {
   "cell_type": "code",
   "execution_count": 6,
   "metadata": {
    "papermill": {
     "duration": 0.10194,
     "end_time": "2019-12-01T17:52:19.069529",
     "exception": false,
     "start_time": "2019-12-01T17:52:18.967589",
     "status": "completed"
    },
    "tags": []
   },
   "outputs": [],
   "source": [
    "# Only keep the datapoints we want\n",
    "query_data = 'updatedAt > @start_date and updatedAt < @end_date and org in @github_orgs'\n",
    "comments = comments.query(query_data)\n",
    "issues = issues.query(query_data)\n",
    "prs = prs.query(query_data)"
   ]
  },
  {
   "cell_type": "code",
   "execution_count": 7,
   "metadata": {
    "papermill": {
     "duration": 0.0347,
     "end_time": "2019-12-01T17:52:19.120771",
     "exception": false,
     "start_time": "2019-12-01T17:52:19.086071",
     "status": "completed"
    },
    "tags": []
   },
   "outputs": [
    {
     "data": {
      "text/plain": [
       "ThemeRegistry.enable('my_theme')"
      ]
     },
     "execution_count": 7,
     "metadata": {},
     "output_type": "execute_result"
    }
   ],
   "source": [
    "alt.renderers.enable(renderer);\n",
    "alt.themes.register('my_theme', alt_theme)\n",
    "alt.themes.enable(\"my_theme\")"
   ]
  },
  {
   "cell_type": "code",
   "execution_count": 8,
   "metadata": {
    "papermill": {
     "duration": 0.032651,
     "end_time": "2019-12-01T17:52:19.176415",
     "exception": false,
     "start_time": "2019-12-01T17:52:19.143764",
     "status": "completed"
    },
    "tags": []
   },
   "outputs": [],
   "source": [
    "# Information about out time window\n",
    "time_delta = pd.to_datetime(end_date) - pd.to_datetime(start_date)\n",
    "n_days = time_delta.days\n",
    "\n",
    "# Information about the data we loaded\n",
    "github_orgs = comments['org'].unique()"
   ]
  },
  {
   "cell_type": "markdown",
   "metadata": {
    "papermill": {
     "duration": 0.028636,
     "end_time": "2019-12-01T17:52:19.228249",
     "exception": false,
     "start_time": "2019-12-01T17:52:19.199613",
     "status": "completed"
    },
    "tags": []
   },
   "source": [
    "# GitHub activity\n",
    "\n",
    "Jupyter also has lots of activity across GitHub repositories. The following sections contain\n",
    "overviews of recent activity across the following GitHub organizations:"
   ]
  },
  {
   "cell_type": "code",
   "execution_count": 9,
   "metadata": {
    "papermill": {
     "duration": 0.03403,
     "end_time": "2019-12-01T17:52:19.290273",
     "exception": false,
     "start_time": "2019-12-01T17:52:19.256243",
     "status": "completed"
    },
    "tags": []
   },
   "outputs": [],
   "source": [
    "# Define colors we'll use for GitHub membership\n",
    "author_types = ['MEMBER', 'CONTRIBUTOR', 'COLLABORATOR', \"NONE\"]\n",
    "\n",
    "author_palette = sns.palettes.blend_palette([\"lightgrey\", \"lightgreen\", \"darkgreen\"], 4)\n",
    "author_colors = [\"rgb({}, {}, {}, {})\".format(*(ii*256)) for ii in author_palette]\n",
    "author_color_dict = {key: val for key, val in zip(author_types, author_palette)}"
   ]
  },
  {
   "cell_type": "code",
   "execution_count": 10,
   "metadata": {
    "papermill": {
     "duration": 0.033993,
     "end_time": "2019-12-01T17:52:19.346722",
     "exception": false,
     "start_time": "2019-12-01T17:52:19.312729",
     "status": "completed"
    },
    "tags": [
     "hide_input"
    ]
   },
   "outputs": [
    {
     "data": {
      "text/markdown": [
       "* [github.com/binder-examples](https://github.com/binder-examples)\n",
       "* [github.com/ipython](https://github.com/ipython)\n",
       "* [github.com/jupyter](https://github.com/jupyter)\n",
       "* [github.com/jupyter-widgets](https://github.com/jupyter-widgets)\n",
       "* [github.com/jupyterhub](https://github.com/jupyterhub)\n",
       "* [github.com/jupyterlab](https://github.com/jupyterlab)"
      ],
      "text/plain": [
       "<IPython.core.display.Markdown object>"
      ]
     },
     "execution_count": 10,
     "metadata": {},
     "output_type": "execute_result"
    }
   ],
   "source": [
    "orgs_md = []\n",
    "for org in github_orgs:\n",
    "    orgs_md.append(f'* [github.com/{org}](https://github.com/{org})')\n",
    "Markdown('\\n'.join(orgs_md))"
   ]
  },
  {
   "cell_type": "code",
   "execution_count": 11,
   "metadata": {
    "papermill": {
     "duration": 0.034521,
     "end_time": "2019-12-01T17:52:19.403755",
     "exception": false,
     "start_time": "2019-12-01T17:52:19.369234",
     "status": "completed"
    },
    "tags": [
     "hide_input"
    ]
   },
   "outputs": [
    {
     "data": {
      "text/markdown": [
       "Showing GitHub activity from **2019-10-01** to **2019-11-01**"
      ],
      "text/plain": [
       "<IPython.core.display.Markdown object>"
      ]
     },
     "execution_count": 11,
     "metadata": {},
     "output_type": "execute_result"
    }
   ],
   "source": [
    "Markdown(f\"Showing GitHub activity from **{start_date}** to **{end_date}**\")"
   ]
  },
  {
   "cell_type": "markdown",
   "metadata": {
    "papermill": {
     "duration": 0.029822,
     "end_time": "2019-12-01T17:52:19.459508",
     "exception": false,
     "start_time": "2019-12-01T17:52:19.429686",
     "status": "completed"
    },
    "tags": []
   },
   "source": [
    "## List of all contributors per organization\n",
    "\n",
    "First, we'll list each contributor that has contributed to each organization in the last several days.\n",
    "Contributions to open source projects are diverse, and involve much more than just contributing code and\n",
    "code review. Thanks to everybody in the Jupyter communities for all that they do."
   ]
  },
  {
   "cell_type": "code",
   "execution_count": 12,
   "metadata": {
    "papermill": {
     "duration": 0.214649,
     "end_time": "2019-12-01T17:52:19.702271",
     "exception": false,
     "start_time": "2019-12-01T17:52:19.487622",
     "status": "completed"
    },
    "tags": []
   },
   "outputs": [
    {
     "data": {
      "text/markdown": [
       "All participants across issues and pull requests in each org in the last 31 days"
      ],
      "text/plain": [
       "<IPython.core.display.Markdown object>"
      ]
     },
     "metadata": {},
     "output_type": "display_data"
    },
    {
     "data": {
      "application/vnd.jupyter.widget-view+json": {
       "model_id": "b9d10d3967bd49f8a5479b88ad131d54",
       "version_major": 2,
       "version_minor": 0
      },
      "text/plain": [
       "Tab(children=(HTML(value='<center><p><a href=\"https://github.com/arokem\">arokem</a> | <a href=\"https://github.…"
      ]
     },
     "metadata": {},
     "output_type": "display_data"
    }
   ],
   "source": [
    "n_plot = 5\n",
    "tabs = widgets.Tab(children=[])\n",
    "for ii, org in enumerate(github_orgs):\n",
    "    authors_comments = comments.query('org == @org')['author']\n",
    "    authors_prs = prs.query('org == @org')['author']\n",
    "    unique_participants = np.unique(np.hstack([authors_comments.values, authors_prs.values]).astype(str)).tolist()\n",
    "    unique_participants.sort(key=lambda a: a.lower())\n",
    "    \n",
    "    all_participants = [f\"[{participant}](https://github.com/{participant})\" for participant in unique_participants]\n",
    "    participants_md = \" | \".join(all_participants)\n",
    "    md_html = HTML(\"<center>{}</center>\".format(markdown(participants_md)))\n",
    "    \n",
    "    children = list(tabs.children)\n",
    "    children.append(md_html)\n",
    "    tabs.children = tuple(children)\n",
    "    tabs.set_title(ii, org)\n",
    "    \n",
    "display(Markdown(f\"All participants across issues and pull requests in each org in the last {n_days} days\"))\n",
    "display(tabs)"
   ]
  },
  {
   "cell_type": "markdown",
   "metadata": {
    "papermill": {
     "duration": 0.025273,
     "end_time": "2019-12-01T17:52:19.745252",
     "exception": false,
     "start_time": "2019-12-01T17:52:19.719979",
     "status": "completed"
    },
    "tags": [],
    "toc-hr-collapsed": false
   },
   "source": [
    "## Merged Pull requests\n",
    "\n",
    "Here's an analysis of **merged pull requests** across each of the repositories in the Jupyter\n",
    "ecosystem."
   ]
  },
  {
   "cell_type": "code",
   "execution_count": 13,
   "metadata": {
    "papermill": {
     "duration": 0.03732,
     "end_time": "2019-12-01T17:52:19.807990",
     "exception": false,
     "start_time": "2019-12-01T17:52:19.770670",
     "status": "completed"
    },
    "tags": []
   },
   "outputs": [],
   "source": [
    "merged = prs.query('state == \"MERGED\" and closedAt > @start_date and closedAt < @end_date')"
   ]
  },
  {
   "cell_type": "code",
   "execution_count": 14,
   "metadata": {
    "papermill": {
     "duration": 0.068404,
     "end_time": "2019-12-01T17:52:19.901522",
     "exception": false,
     "start_time": "2019-12-01T17:52:19.833118",
     "status": "completed"
    },
    "tags": [
     "hide_input"
    ]
   },
   "outputs": [
    {
     "data": {
      "text/html": [
       "\n",
       "  <style>\n",
       "    .error {\n",
       "        color: red;\n",
       "    }\n",
       "  </style>\n",
       "  <div id=\"altair-viz-1\"></div>\n",
       "  <script>\n",
       "    requirejs.config({\n",
       "        \"paths\": {\n",
       "            \"vega\": \"https://cdn.jsdelivr.net/npm//vega@5?noext\",\n",
       "            \"vega-lib\": \"https://cdn.jsdelivr.net/npm//vega-lib?noext\",\n",
       "            \"vega-lite\": \"https://cdn.jsdelivr.net/npm//vega-lite@3.4.0?noext\",\n",
       "            \"vega-embed\": \"https://cdn.jsdelivr.net/npm//vega-embed@5?noext\",\n",
       "        }\n",
       "    });\n",
       "    \n",
       "    require(['vega-embed'],function(vegaEmbed) {\n",
       "      var spec = {\"config\": {\"axisLeft\": {\"labelFontSize\": 15}, \"axisBottom\": {\"labelFontSize\": 15}}, \"data\": {\"name\": \"data-da04a683ad17480179e22c71116c5c02\"}, \"mark\": \"bar\", \"encoding\": {\"color\": {\"type\": \"nominal\", \"field\": \"org\"}, \"x\": {\"type\": \"nominal\", \"field\": \"repo\", \"sort\": [\"debugger\", \"jupyterlab\", \"jupyterlab-data-explorer\", \"jupyterlab-metadata-service\", \"jupyterlab-git\", \"jupyterlab-celltags\", \"jupyterlab-commenting\", \"jupyterlab-telemetry\", \"jupyterlab-hdf5\", \"jupyterlab-toc\", \"mybinder.org-deploy\", \"chartpress\", \"zero-to-jupyterhub-k8s\", \"jupyterhub\", \"binderhub\", \"the-littlest-jupyterhub\", \"oauthenticator\", \"team-compass\", \"traefik-proxy\", \"binder\", \"dockerspawner\", \"jupyter-server-proxy\", \"kubespawner\", \"nativeauthenticator\", \"nbgitpuller\", \"nullauthenticator\", \"ipywidgets\", \"ipyleaflet\", \"widget-cookiecutter\", \"widget-ts-cookiecutter\", \"jupyter-book\", \"jupyter\", \"nbconvert\", \"jupyter_server\", \"notebook\", \"jupyter.github.io\", \"jupyter_client\", \"jupyter_core\", \"repo2docker\", \"telemetry\", \"enhancement-proposals\", \"enterprise_gateway\", \"jupyter-sphinx\", \"governance\", \"kernel_gateway\", \"ipykernel\", \"ipython\", \"julia-python\"]}, \"y\": {\"type\": \"quantitative\", \"field\": \"author\"}}, \"title\": \"Merged PRs in the last 31 days\", \"$schema\": \"https://vega.github.io/schema/vega-lite/v3.4.0.json\", \"datasets\": {\"data-da04a683ad17480179e22c71116c5c02\": [{\"org\": \"jupyterlab\", \"repo\": \"debugger\", \"author\": 40}, {\"org\": \"jupyterlab\", \"repo\": \"jupyterlab\", \"author\": 34}, {\"org\": \"jupyterlab\", \"repo\": \"jupyterlab-data-explorer\", \"author\": 14}, {\"org\": \"jupyterlab\", \"repo\": \"jupyterlab-metadata-service\", \"author\": 14}, {\"org\": \"jupyterlab\", \"repo\": \"jupyterlab-git\", \"author\": 6}, {\"org\": \"jupyterlab\", \"repo\": \"jupyterlab-celltags\", \"author\": 4}, {\"org\": \"jupyterlab\", \"repo\": \"jupyterlab-commenting\", \"author\": 4}, {\"org\": \"jupyterlab\", \"repo\": \"jupyterlab-telemetry\", \"author\": 3}, {\"org\": \"jupyterlab\", \"repo\": \"jupyterlab-hdf5\", \"author\": 2}, {\"org\": \"jupyterlab\", \"repo\": \"jupyterlab-toc\", \"author\": 1}, {\"org\": \"jupyterhub\", \"repo\": \"mybinder.org-deploy\", \"author\": 39}, {\"org\": \"jupyterhub\", \"repo\": \"chartpress\", \"author\": 15}, {\"org\": \"jupyterhub\", \"repo\": \"zero-to-jupyterhub-k8s\", \"author\": 10}, {\"org\": \"jupyterhub\", \"repo\": \"jupyterhub\", \"author\": 9}, {\"org\": \"jupyterhub\", \"repo\": \"binderhub\", \"author\": 7}, {\"org\": \"jupyterhub\", \"repo\": \"the-littlest-jupyterhub\", \"author\": 4}, {\"org\": \"jupyterhub\", \"repo\": \"oauthenticator\", \"author\": 3}, {\"org\": \"jupyterhub\", \"repo\": \"team-compass\", \"author\": 2}, {\"org\": \"jupyterhub\", \"repo\": \"traefik-proxy\", \"author\": 2}, {\"org\": \"jupyterhub\", \"repo\": \"binder\", \"author\": 1}, {\"org\": \"jupyterhub\", \"repo\": \"dockerspawner\", \"author\": 1}, {\"org\": \"jupyterhub\", \"repo\": \"jupyter-server-proxy\", \"author\": 1}, {\"org\": \"jupyterhub\", \"repo\": \"kubespawner\", \"author\": 1}, {\"org\": \"jupyterhub\", \"repo\": \"nativeauthenticator\", \"author\": 1}, {\"org\": \"jupyterhub\", \"repo\": \"nbgitpuller\", \"author\": 1}, {\"org\": \"jupyterhub\", \"repo\": \"nullauthenticator\", \"author\": 1}, {\"org\": \"jupyter-widgets\", \"repo\": \"ipywidgets\", \"author\": 7}, {\"org\": \"jupyter-widgets\", \"repo\": \"ipyleaflet\", \"author\": 5}, {\"org\": \"jupyter-widgets\", \"repo\": \"widget-cookiecutter\", \"author\": 1}, {\"org\": \"jupyter-widgets\", \"repo\": \"widget-ts-cookiecutter\", \"author\": 1}, {\"org\": \"jupyter\", \"repo\": \"jupyter-book\", \"author\": 30}, {\"org\": \"jupyter\", \"repo\": \"jupyter\", \"author\": 10}, {\"org\": \"jupyter\", \"repo\": \"nbconvert\", \"author\": 9}, {\"org\": \"jupyter\", \"repo\": \"jupyter_server\", \"author\": 8}, {\"org\": \"jupyter\", \"repo\": \"notebook\", \"author\": 7}, {\"org\": \"jupyter\", \"repo\": \"jupyter.github.io\", \"author\": 4}, {\"org\": \"jupyter\", \"repo\": \"jupyter_client\", \"author\": 4}, {\"org\": \"jupyter\", \"repo\": \"jupyter_core\", \"author\": 4}, {\"org\": \"jupyter\", \"repo\": \"repo2docker\", \"author\": 3}, {\"org\": \"jupyter\", \"repo\": \"telemetry\", \"author\": 3}, {\"org\": \"jupyter\", \"repo\": \"enhancement-proposals\", \"author\": 2}, {\"org\": \"jupyter\", \"repo\": \"enterprise_gateway\", \"author\": 2}, {\"org\": \"jupyter\", \"repo\": \"jupyter-sphinx\", \"author\": 2}, {\"org\": \"jupyter\", \"repo\": \"governance\", \"author\": 1}, {\"org\": \"jupyter\", \"repo\": \"kernel_gateway\", \"author\": 1}, {\"org\": \"ipython\", \"repo\": \"ipykernel\", \"author\": 4}, {\"org\": \"ipython\", \"repo\": \"ipython\", \"author\": 2}, {\"org\": \"binder-examples\", \"repo\": \"julia-python\", \"author\": 1}]}};\n",
       "      var embedOpt = {\"mode\": \"vega-lite\"};\n",
       "\n",
       "      function showError(el, error){\n",
       "          el.innerHTML = ('<div class=\"error\" style=\"color:red;\">'\n",
       "                          + '<p>JavaScript Error: ' + error.message + '</p>'\n",
       "                          + \"<p>This usually means there's a typo in your chart specification. \"\n",
       "                          + \"See the javascript console for the full traceback.</p>\"\n",
       "                          + '</div>');\n",
       "          throw error;\n",
       "      }\n",
       "      const el = document.getElementById('altair-viz-1');\n",
       "      vegaEmbed(\"#altair-viz-1\", spec, embedOpt)\n",
       "        .catch(error => showError(el, error));\n",
       "    });\n",
       "\n",
       "  </script>"
      ],
      "text/plain": [
       "alt.Chart(...)"
      ]
     },
     "execution_count": 14,
     "metadata": {},
     "output_type": "execute_result"
    }
   ],
   "source": [
    "prs_by_repo = merged.groupby(['org', 'repo']).count()['author'].reset_index().sort_values(['org', 'author'], ascending=False)\n",
    "alt.Chart(data=prs_by_repo, title=f\"Merged PRs in the last {n_days} days\").mark_bar().encode(\n",
    "    x=alt.X('repo', sort=prs_by_repo['repo'].values.tolist()),\n",
    "    y='author',\n",
    "    color='org'\n",
    ")"
   ]
  },
  {
   "cell_type": "markdown",
   "metadata": {
    "papermill": {
     "duration": 0.023495,
     "end_time": "2019-12-01T17:52:19.944408",
     "exception": false,
     "start_time": "2019-12-01T17:52:19.920913",
     "status": "completed"
    },
    "tags": []
   },
   "source": [
    "### A list of merged PRs by project\n",
    "\n",
    "Below is a tabbed readout of recently-merged PRs. Check out the title to get an idea for what they\n",
    "implemented, and be sure to thank the PR author for their hard work!"
   ]
  },
  {
   "cell_type": "code",
   "execution_count": 15,
   "metadata": {
    "papermill": {
     "duration": 0.308112,
     "end_time": "2019-12-01T17:52:20.277788",
     "exception": false,
     "start_time": "2019-12-01T17:52:19.969676",
     "status": "completed"
    },
    "tags": [
     "hide_input"
    ]
   },
   "outputs": [
    {
     "data": {
      "application/vnd.jupyter.widget-view+json": {
       "model_id": "306c9ce0765b4285be1533dcb7eef491",
       "version_major": 2,
       "version_minor": 0
      },
      "text/plain": [
       "Tab(children=(HTML(value='<h4>Closed PRs for org: <code>binder-examples</code></h4>\\n<h5><a href=\"https://gith…"
      ]
     },
     "metadata": {},
     "output_type": "display_data"
    }
   ],
   "source": [
    "tabs = widgets.Tab(children=[])\n",
    "merged_by = {}\n",
    "pr_by = {}\n",
    "for ii, (org, idata) in enumerate(merged.groupby('org')):\n",
    "    issue_md = []\n",
    "    issue_md.append(f\"#### Closed PRs for org: `{org}`\")\n",
    "    issue_md.append(\"\")\n",
    "    for (org, repo), prs in idata.groupby(['org', 'repo']):\n",
    "        issue_md.append(f\"##### [{org}/{repo}](https://github.com/{org}/{repo})\")\n",
    "        for _, pr in prs.iterrows():\n",
    "            user_name = pr['author']\n",
    "            user_url = author_url(user_name)\n",
    "            pr_number = pr['number']\n",
    "            pr_html = pr['url']\n",
    "            pr_title = pr['title']\n",
    "            pr_closedby = pr['mergedBy']\n",
    "            pr_closedby_url = f\"https://github.com/{pr_closedby}\"\n",
    "            if user_name not in pr_by:\n",
    "                pr_by[user_name] = 1\n",
    "            else:\n",
    "                pr_by[user_name] += 1\n",
    "                \n",
    "            if pr_closedby not in merged_by:\n",
    "                merged_by[pr_closedby] = 1\n",
    "            else:\n",
    "                merged_by[pr_closedby] += 1\n",
    "            text = f\"* [(#{pr_number})]({pr_html}): _{pr_title}_ by **[@{user_name}]({user_url})** merged by **[@{pr_closedby}]({pr_closedby_url})**\"\n",
    "            issue_md.append(text)\n",
    "    issue_md.append('')\n",
    "    markdown_html = markdown('\\n'.join(issue_md))\n",
    "    \n",
    "    children = list(tabs.children)\n",
    "    children.append(HTML(markdown_html))\n",
    "    tabs.children = tuple(children)\n",
    "    tabs.set_title(ii, org)\n",
    "tabs"
   ]
  },
  {
   "cell_type": "markdown",
   "metadata": {
    "papermill": {
     "duration": 0.02149,
     "end_time": "2019-12-01T17:52:20.315966",
     "exception": false,
     "start_time": "2019-12-01T17:52:20.294476",
     "status": "completed"
    },
    "tags": []
   },
   "source": [
    "### Authoring and merging stats by repository\n",
    "\n",
    "Let's see who has been doing most of the PR authoring and merging. The PR author is generally the\n",
    "person that implemented a change in the repository (code, documentation, etc). The PR merger is\n",
    "the person that \"pressed the green button\" and got the change into the main codebase."
   ]
  },
  {
   "cell_type": "code",
   "execution_count": 16,
   "metadata": {
    "papermill": {
     "duration": 0.05183,
     "end_time": "2019-12-01T17:52:20.393404",
     "exception": false,
     "start_time": "2019-12-01T17:52:20.341574",
     "status": "completed"
    },
    "tags": []
   },
   "outputs": [],
   "source": [
    "# Prep our merging DF\n",
    "merged_by_repo = merged.groupby(['org', 'repo', 'author'], as_index=False).agg({'id': 'count', 'authorAssociation': 'first'}).rename(columns={'id': \"authored\", 'author': 'username'})\n",
    "closed_by_repo = merged.groupby(['org', 'repo', 'mergedBy']).count()['id'].reset_index().rename(columns={'id': \"closed\", \"mergedBy\": \"username\"})"
   ]
  },
  {
   "cell_type": "code",
   "execution_count": 17,
   "metadata": {
    "papermill": {
     "duration": 0.111704,
     "end_time": "2019-12-01T17:52:20.526191",
     "exception": false,
     "start_time": "2019-12-01T17:52:20.414487",
     "status": "completed"
    },
    "tags": []
   },
   "outputs": [
    {
     "data": {
      "text/html": [
       "\n",
       "  <style>\n",
       "    .error {\n",
       "        color: red;\n",
       "    }\n",
       "  </style>\n",
       "  <div id=\"altair-viz-2\"></div>\n",
       "  <script>\n",
       "    requirejs.config({\n",
       "        \"paths\": {\n",
       "            \"vega\": \"https://cdn.jsdelivr.net/npm//vega@5?noext\",\n",
       "            \"vega-lib\": \"https://cdn.jsdelivr.net/npm//vega-lib?noext\",\n",
       "            \"vega-lite\": \"https://cdn.jsdelivr.net/npm//vega-lite@3.4.0?noext\",\n",
       "            \"vega-embed\": \"https://cdn.jsdelivr.net/npm//vega-embed@5?noext\",\n",
       "        }\n",
       "    });\n",
       "    \n",
       "    require(['vega-embed'],function(vegaEmbed) {\n",
       "      var spec = {\"config\": {\"axisLeft\": {\"labelFontSize\": 15}, \"axisBottom\": {\"labelFontSize\": 15}}, \"hconcat\": [{\"data\": {\"name\": \"data-57b0f0d5fd08d70bb5f5074f452b9c5a\"}, \"mark\": \"bar\", \"encoding\": {\"color\": {\"type\": \"nominal\", \"field\": \"authorAssociation\", \"scale\": {\"domain\": [\"MEMBER\", \"CONTRIBUTOR\", \"COLLABORATOR\", \"NONE\"], \"range\": [\"rgb(211.82745098039214, 211.82745098039214, 211.82745098039214, 256.0)\", \"rgb(166.98562091503268, 229.89803921568628, 166.98562091503268, 256.0)\", \"rgb(96.37647058823529, 192.75294117647059, 96.37647058823529, 256.0)\", \"rgb(0.0, 100.3921568627451, 0.0, 256.0)\"]}}, \"x\": {\"type\": \"nominal\", \"field\": \"username\"}, \"y\": {\"type\": \"quantitative\", \"field\": \"authored\"}}, \"title\": \"PR authors for binder-examples in the last 31 days\", \"width\": 1000}, {\"data\": {\"name\": \"data-31b9f0da56370a17891315228cc12846\"}, \"mark\": \"bar\", \"encoding\": {\"color\": {\"type\": \"nominal\", \"field\": \"authorAssociation\", \"scale\": {\"domain\": [\"MEMBER\", \"CONTRIBUTOR\", \"COLLABORATOR\", \"NONE\"], \"range\": [\"rgb(211.82745098039214, 211.82745098039214, 211.82745098039214, 256.0)\", \"rgb(166.98562091503268, 229.89803921568628, 166.98562091503268, 256.0)\", \"rgb(96.37647058823529, 192.75294117647059, 96.37647058823529, 256.0)\", \"rgb(0.0, 100.3921568627451, 0.0, 256.0)\"]}}, \"x\": {\"type\": \"nominal\", \"field\": \"username\"}, \"y\": {\"type\": \"quantitative\", \"field\": \"authored\"}}, \"title\": \"PR authors for ipython in the last 31 days\", \"width\": 1000}, {\"data\": {\"name\": \"data-1726950480a10f7e4fad908200703df4\"}, \"mark\": \"bar\", \"encoding\": {\"color\": {\"type\": \"nominal\", \"field\": \"authorAssociation\", \"scale\": {\"domain\": [\"MEMBER\", \"CONTRIBUTOR\", \"COLLABORATOR\", \"NONE\"], \"range\": [\"rgb(211.82745098039214, 211.82745098039214, 211.82745098039214, 256.0)\", \"rgb(166.98562091503268, 229.89803921568628, 166.98562091503268, 256.0)\", \"rgb(96.37647058823529, 192.75294117647059, 96.37647058823529, 256.0)\", \"rgb(0.0, 100.3921568627451, 0.0, 256.0)\"]}}, \"x\": {\"type\": \"nominal\", \"field\": \"username\"}, \"y\": {\"type\": \"quantitative\", \"field\": \"authored\"}}, \"title\": \"PR authors for jupyter in the last 31 days\", \"width\": 1000}, {\"data\": {\"name\": \"data-5a225b86930a2f8dac8264e0fb28e02d\"}, \"mark\": \"bar\", \"encoding\": {\"color\": {\"type\": \"nominal\", \"field\": \"authorAssociation\", \"scale\": {\"domain\": [\"MEMBER\", \"CONTRIBUTOR\", \"COLLABORATOR\", \"NONE\"], \"range\": [\"rgb(211.82745098039214, 211.82745098039214, 211.82745098039214, 256.0)\", \"rgb(166.98562091503268, 229.89803921568628, 166.98562091503268, 256.0)\", \"rgb(96.37647058823529, 192.75294117647059, 96.37647058823529, 256.0)\", \"rgb(0.0, 100.3921568627451, 0.0, 256.0)\"]}}, \"x\": {\"type\": \"nominal\", \"field\": \"username\"}, \"y\": {\"type\": \"quantitative\", \"field\": \"authored\"}}, \"title\": \"PR authors for jupyter-widgets in the last 31 days\", \"width\": 1000}, {\"data\": {\"name\": \"data-27f3d2fe489d0e8c89eabcce1d952fe2\"}, \"mark\": \"bar\", \"encoding\": {\"color\": {\"type\": \"nominal\", \"field\": \"authorAssociation\", \"scale\": {\"domain\": [\"MEMBER\", \"CONTRIBUTOR\", \"COLLABORATOR\", \"NONE\"], \"range\": [\"rgb(211.82745098039214, 211.82745098039214, 211.82745098039214, 256.0)\", \"rgb(166.98562091503268, 229.89803921568628, 166.98562091503268, 256.0)\", \"rgb(96.37647058823529, 192.75294117647059, 96.37647058823529, 256.0)\", \"rgb(0.0, 100.3921568627451, 0.0, 256.0)\"]}}, \"x\": {\"type\": \"nominal\", \"field\": \"username\"}, \"y\": {\"type\": \"quantitative\", \"field\": \"authored\"}}, \"title\": \"PR authors for jupyterhub in the last 31 days\", \"width\": 1000}, {\"data\": {\"name\": \"data-d6ca2b147da9fbfe7e4b5a59c0bffd63\"}, \"mark\": \"bar\", \"encoding\": {\"color\": {\"type\": \"nominal\", \"field\": \"authorAssociation\", \"scale\": {\"domain\": [\"MEMBER\", \"CONTRIBUTOR\", \"COLLABORATOR\", \"NONE\"], \"range\": [\"rgb(211.82745098039214, 211.82745098039214, 211.82745098039214, 256.0)\", \"rgb(166.98562091503268, 229.89803921568628, 166.98562091503268, 256.0)\", \"rgb(96.37647058823529, 192.75294117647059, 96.37647058823529, 256.0)\", \"rgb(0.0, 100.3921568627451, 0.0, 256.0)\"]}}, \"x\": {\"type\": \"nominal\", \"field\": \"username\"}, \"y\": {\"type\": \"quantitative\", \"field\": \"authored\"}}, \"title\": \"PR authors for jupyterlab in the last 31 days\", \"width\": 1000}], \"$schema\": \"https://vega.github.io/schema/vega-lite/v3.4.0.json\", \"datasets\": {\"data-57b0f0d5fd08d70bb5f5074f452b9c5a\": [{\"username\": \"arokem\", \"authored\": 1, \"authorAssociation\": \"NONE\"}], \"data-31b9f0da56370a17891315228cc12846\": [{\"username\": \"impact27\", \"authored\": 2, \"authorAssociation\": \"CONTRIBUTOR\"}, {\"username\": \"blink1073\", \"authored\": 1, \"authorAssociation\": \"MEMBER\"}, {\"username\": \"kinow\", \"authored\": 1, \"authorAssociation\": \"CONTRIBUTOR\"}, {\"username\": \"mhsekhavat\", \"authored\": 1, \"authorAssociation\": \"CONTRIBUTOR\"}, {\"username\": \"pasenor\", \"authored\": 1, \"authorAssociation\": \"CONTRIBUTOR\"}], \"data-1726950480a10f7e4fad908200703df4\": [{\"username\": \"choldgraf\", \"authored\": 26, \"authorAssociation\": \"MEMBER\"}, {\"username\": \"Zsailer\", \"authored\": 8, \"authorAssociation\": \"MEMBER\"}, {\"username\": \"transifex-integration\", \"authored\": 6, \"authorAssociation\": \"CONTRIBUTOR\"}, {\"username\": \"kevin-bates\", \"authored\": 5, \"authorAssociation\": \"MEMBER\"}, {\"username\": \"MSeal\", \"authored\": 4, \"authorAssociation\": \"MEMBER\"}, {\"username\": \"SylvainCorlay\", \"authored\": 3, \"authorAssociation\": \"MEMBER\"}, {\"username\": \"mgeier\", \"authored\": 3, \"authorAssociation\": \"CONTRIBUTOR\"}, {\"username\": \"GasperPaul\", \"authored\": 3, \"authorAssociation\": \"CONTRIBUTOR\"}, {\"username\": \"kinow\", \"authored\": 3, \"authorAssociation\": \"CONTRIBUTOR\"}, {\"username\": \"00Kai0\", \"authored\": 2, \"authorAssociation\": \"CONTRIBUTOR\"}, {\"username\": \"seanpue\", \"authored\": 2, \"authorAssociation\": \"CONTRIBUTOR\"}, {\"username\": \"martinRenou\", \"authored\": 2, \"authorAssociation\": \"MEMBER\"}, {\"username\": \"maartenbreddels\", \"authored\": 2, \"authorAssociation\": \"CONTRIBUTOR\"}, {\"username\": \"westurner\", \"authored\": 2, \"authorAssociation\": \"CONTRIBUTOR\"}, {\"username\": \"jasongrout\", \"authored\": 2, \"authorAssociation\": \"MEMBER\"}, {\"username\": \"cclauss\", \"authored\": 2, \"authorAssociation\": \"CONTRIBUTOR\"}, {\"username\": \"rgbkrk\", \"authored\": 1, \"authorAssociation\": \"MEMBER\"}, {\"username\": \"vidartf\", \"authored\": 1, \"authorAssociation\": \"NONE\"}, {\"username\": \"abz53378\", \"authored\": 1, \"authorAssociation\": \"CONTRIBUTOR\"}, {\"username\": \"themarkrogers\", \"authored\": 1, \"authorAssociation\": \"CONTRIBUTOR\"}, {\"username\": \"takeru\", \"authored\": 1, \"authorAssociation\": \"CONTRIBUTOR\"}, {\"username\": \"blink1073\", \"authored\": 1, \"authorAssociation\": \"MEMBER\"}, {\"username\": \"s-Hale\", \"authored\": 1, \"authorAssociation\": \"CONTRIBUTOR\"}, {\"username\": \"rbeesley\", \"authored\": 1, \"authorAssociation\": \"CONTRIBUTOR\"}, {\"username\": \"hx2A\", \"authored\": 1, \"authorAssociation\": \"CONTRIBUTOR\"}, {\"username\": \"pablobernabeu\", \"authored\": 1, \"authorAssociation\": \"CONTRIBUTOR\"}, {\"username\": \"mpacer\", \"authored\": 1, \"authorAssociation\": \"MEMBER\"}, {\"username\": \"davidrpugh\", \"authored\": 1, \"authorAssociation\": \"CONTRIBUTOR\"}, {\"username\": \"manics\", \"authored\": 1, \"authorAssociation\": \"CONTRIBUTOR\"}, {\"username\": \"fbidu\", \"authored\": 1, \"authorAssociation\": \"CONTRIBUTOR\"}, {\"username\": \"krinsman\", \"authored\": 1, \"authorAssociation\": \"CONTRIBUTOR\"}], \"data-5a225b86930a2f8dac8264e0fb28e02d\": [{\"username\": \"martinRenou\", \"authored\": 3, \"authorAssociation\": \"MEMBER\"}, {\"username\": \"mgeier\", \"authored\": 3, \"authorAssociation\": \"CONTRIBUTOR\"}, {\"username\": \"davidbrochart\", \"authored\": 1, \"authorAssociation\": \"CONTRIBUTOR\"}, {\"username\": \"deeplook\", \"authored\": 1, \"authorAssociation\": \"CONTRIBUTOR\"}, {\"username\": \"ellisonbg\", \"authored\": 1, \"authorAssociation\": \"MEMBER\"}, {\"username\": \"jasongrout\", \"authored\": 1, \"authorAssociation\": \"MEMBER\"}, {\"username\": \"jhl0204\", \"authored\": 1, \"authorAssociation\": \"CONTRIBUTOR\"}, {\"username\": \"joshwarren\", \"authored\": 1, \"authorAssociation\": \"NONE\"}, {\"username\": \"mlucool\", \"authored\": 1, \"authorAssociation\": \"NONE\"}, {\"username\": \"xoolive\", \"authored\": 1, \"authorAssociation\": \"CONTRIBUTOR\"}], \"data-27f3d2fe489d0e8c89eabcce1d952fe2\": [{\"username\": \"consideRatio\", \"authored\": 20, \"authorAssociation\": \"MEMBER\"}, {\"username\": \"betatim\", \"authored\": 18, \"authorAssociation\": \"MEMBER\"}, {\"username\": \"sgibson91\", \"authored\": 15, \"authorAssociation\": \"MEMBER\"}, {\"username\": \"bitnik\", \"authored\": 6, \"authorAssociation\": \"CONTRIBUTOR\"}, {\"username\": \"kinow\", \"authored\": 4, \"authorAssociation\": \"CONTRIBUTOR\"}, {\"username\": \"GeorgianaElena\", \"authored\": 4, \"authorAssociation\": \"MEMBER\"}, {\"username\": \"minrk\", \"authored\": 4, \"authorAssociation\": \"MEMBER\"}, {\"username\": \"choldgraf\", \"authored\": 3, \"authorAssociation\": \"MEMBER\"}, {\"username\": \"trallard\", \"authored\": 2, \"authorAssociation\": \"CONTRIBUTOR\"}, {\"username\": \"Zsailer\", \"authored\": 2, \"authorAssociation\": \"MEMBER\"}, {\"username\": \"ivan-gomes\", \"authored\": 2, \"authorAssociation\": \"CONTRIBUTOR\"}, {\"username\": \"LaurentGoderre\", \"authored\": 2, \"authorAssociation\": \"CONTRIBUTOR\"}, {\"username\": \"n3o-Bhushan\", \"authored\": 1, \"authorAssociation\": \"NONE\"}, {\"username\": \"vilhelmen\", \"authored\": 1, \"authorAssociation\": \"CONTRIBUTOR\"}, {\"username\": \"rpwagner\", \"authored\": 1, \"authorAssociation\": \"CONTRIBUTOR\"}, {\"username\": \"rochaporto\", \"authored\": 1, \"authorAssociation\": \"CONTRIBUTOR\"}, {\"username\": \"raethlein\", \"authored\": 1, \"authorAssociation\": \"CONTRIBUTOR\"}, {\"username\": \"tirkarthi\", \"authored\": 1, \"authorAssociation\": \"CONTRIBUTOR\"}, {\"username\": \"AnotherCodeArtist\", \"authored\": 1, \"authorAssociation\": \"CONTRIBUTOR\"}, {\"username\": \"muxator\", \"authored\": 1, \"authorAssociation\": \"CONTRIBUTOR\"}, {\"username\": \"manics\", \"authored\": 1, \"authorAssociation\": \"MEMBER\"}, {\"username\": \"leportella\", \"authored\": 1, \"authorAssociation\": \"COLLABORATOR\"}, {\"username\": \"jtpio\", \"authored\": 1, \"authorAssociation\": \"CONTRIBUTOR\"}, {\"username\": \"fzeiser\", \"authored\": 1, \"authorAssociation\": \"CONTRIBUTOR\"}, {\"username\": \"clkao\", \"authored\": 1, \"authorAssociation\": \"CONTRIBUTOR\"}, {\"username\": \"celine168\", \"authored\": 1, \"authorAssociation\": \"CONTRIBUTOR\"}, {\"username\": \"bdrian\", \"authored\": 1, \"authorAssociation\": \"CONTRIBUTOR\"}, {\"username\": \"yuvipanda\", \"authored\": 1, \"authorAssociation\": \"MEMBER\"}], \"data-d6ca2b147da9fbfe7e4b5a59c0bffd63\": [{\"username\": \"jtpio\", \"authored\": 24, \"authorAssociation\": \"MEMBER\"}, {\"username\": \"saulshanabrook\", \"authored\": 16, \"authorAssociation\": \"MEMBER\"}, {\"username\": \"kgryte\", \"authored\": 16, \"authorAssociation\": \"COLLABORATOR\"}, {\"username\": \"jasongrout\", \"authored\": 12, \"authorAssociation\": \"MEMBER\"}, {\"username\": \"JohanMabille\", \"authored\": 11, \"authorAssociation\": \"MEMBER\"}, {\"username\": \"KsavinN\", \"authored\": 7, \"authorAssociation\": \"COLLABORATOR\"}, {\"username\": \"telamonian\", \"authored\": 6, \"authorAssociation\": \"MEMBER\"}, {\"username\": \"mbektasbbg\", \"authored\": 3, \"authorAssociation\": \"MEMBER\"}, {\"username\": \"fcollonval\", \"authored\": 3, \"authorAssociation\": \"MEMBER\"}, {\"username\": \"katsar0v\", \"authored\": 2, \"authorAssociation\": \"CONTRIBUTOR\"}, {\"username\": \"jaipreet-s\", \"authored\": 2, \"authorAssociation\": \"MEMBER\"}, {\"username\": \"kinow\", \"authored\": 2, \"authorAssociation\": \"CONTRIBUTOR\"}, {\"username\": \"sccolbert\", \"authored\": 1, \"authorAssociation\": \"MEMBER\"}, {\"username\": \"tgeorgeux\", \"authored\": 1, \"authorAssociation\": \"MEMBER\"}, {\"username\": \"thoralf-gutierrez\", \"authored\": 1, \"authorAssociation\": \"CONTRIBUTOR\"}, {\"username\": \"tonyfast\", \"authored\": 1, \"authorAssociation\": \"CONTRIBUTOR\"}, {\"username\": \"vidartf\", \"authored\": 1, \"authorAssociation\": \"MEMBER\"}, {\"username\": \"mlucool\", \"authored\": 1, \"authorAssociation\": \"CONTRIBUTOR\"}, {\"username\": \"karamba228\", \"authored\": 1, \"authorAssociation\": \"CONTRIBUTOR\"}, {\"username\": \"kavishdahekar\", \"authored\": 1, \"authorAssociation\": \"MEMBER\"}, {\"username\": \"hoo761\", \"authored\": 1, \"authorAssociation\": \"COLLABORATOR\"}, {\"username\": \"duarteocarmo\", \"authored\": 1, \"authorAssociation\": \"MEMBER\"}, {\"username\": \"dmarth\", \"authored\": 1, \"authorAssociation\": \"MEMBER\"}, {\"username\": \"dkapila\", \"authored\": 1, \"authorAssociation\": \"CONTRIBUTOR\"}, {\"username\": \"choldgraf\", \"authored\": 1, \"authorAssociation\": \"MEMBER\"}, {\"username\": \"bw-space\", \"authored\": 1, \"authorAssociation\": \"MEMBER\"}, {\"username\": \"blink1073\", \"authored\": 1, \"authorAssociation\": \"MEMBER\"}, {\"username\": \"ajbozarth\", \"authored\": 1, \"authorAssociation\": \"CONTRIBUTOR\"}, {\"username\": \"afshin\", \"authored\": 1, \"authorAssociation\": \"MEMBER\"}, {\"username\": \"yoniLavi\", \"authored\": 1, \"authorAssociation\": \"CONTRIBUTOR\"}]}};\n",
       "      var embedOpt = {\"mode\": \"vega-lite\"};\n",
       "\n",
       "      function showError(el, error){\n",
       "          el.innerHTML = ('<div class=\"error\" style=\"color:red;\">'\n",
       "                          + '<p>JavaScript Error: ' + error.message + '</p>'\n",
       "                          + \"<p>This usually means there's a typo in your chart specification. \"\n",
       "                          + \"See the javascript console for the full traceback.</p>\"\n",
       "                          + '</div>');\n",
       "          throw error;\n",
       "      }\n",
       "      const el = document.getElementById('altair-viz-2');\n",
       "      vegaEmbed(\"#altair-viz-2\", spec, embedOpt)\n",
       "        .catch(error => showError(el, error));\n",
       "    });\n",
       "\n",
       "  </script>"
      ],
      "text/plain": [
       "alt.HConcatChart(...)"
      ]
     },
     "execution_count": 17,
     "metadata": {},
     "output_type": "execute_result"
    }
   ],
   "source": [
    "n_plot = 50\n",
    "charts = []\n",
    "for ii, (iorg, idata) in enumerate(merged_by_repo.replace(np.nan, 0).groupby(['org'])):\n",
    "    title = f\"PR authors for {iorg} in the last {n_days} days\"\n",
    "    idata = idata.groupby('username', as_index=False).agg({'authored': 'sum', 'authorAssociation': 'first'})\n",
    "    idata = idata.sort_values('authored', ascending=False).head(n_plot)\n",
    "    ch = alt.Chart(data=idata, width=1000, title=title).mark_bar().encode(\n",
    "        x='username',\n",
    "        y='authored',\n",
    "        color=alt.Color('authorAssociation', scale=alt.Scale(domain=author_types, range=author_colors))\n",
    "    )\n",
    "    charts.append(ch)\n",
    "\n",
    "alt.hconcat(*charts)"
   ]
  },
  {
   "cell_type": "code",
   "execution_count": 18,
   "metadata": {
    "papermill": {
     "duration": 0.104464,
     "end_time": "2019-12-01T17:52:20.648939",
     "exception": false,
     "start_time": "2019-12-01T17:52:20.544475",
     "status": "completed"
    },
    "tags": []
   },
   "outputs": [
    {
     "data": {
      "text/html": [
       "\n",
       "  <style>\n",
       "    .error {\n",
       "        color: red;\n",
       "    }\n",
       "  </style>\n",
       "  <div id=\"altair-viz-3\"></div>\n",
       "  <script>\n",
       "    requirejs.config({\n",
       "        \"paths\": {\n",
       "            \"vega\": \"https://cdn.jsdelivr.net/npm//vega@5?noext\",\n",
       "            \"vega-lib\": \"https://cdn.jsdelivr.net/npm//vega-lib?noext\",\n",
       "            \"vega-lite\": \"https://cdn.jsdelivr.net/npm//vega-lite@3.4.0?noext\",\n",
       "            \"vega-embed\": \"https://cdn.jsdelivr.net/npm//vega-embed@5?noext\",\n",
       "        }\n",
       "    });\n",
       "    \n",
       "    require(['vega-embed'],function(vegaEmbed) {\n",
       "      var spec = {\"config\": {\"axisLeft\": {\"labelFontSize\": 15}, \"axisBottom\": {\"labelFontSize\": 15}}, \"hconcat\": [{\"data\": {\"name\": \"data-ddd65c30f0f2980feede76dfc20ceb27\"}, \"mark\": \"bar\", \"encoding\": {\"x\": {\"type\": \"nominal\", \"field\": \"username\"}, \"y\": {\"type\": \"quantitative\", \"field\": \"closed\"}}, \"title\": \"Merges for binder-examples in the last 31 days\", \"width\": 1000}, {\"data\": {\"name\": \"data-8bfe714ed3eb61b5d1e4c16b4eb1b95e\"}, \"mark\": \"bar\", \"encoding\": {\"x\": {\"type\": \"nominal\", \"field\": \"username\"}, \"y\": {\"type\": \"quantitative\", \"field\": \"closed\"}}, \"title\": \"Merges for ipython in the last 31 days\", \"width\": 1000}, {\"data\": {\"name\": \"data-10f11dd899df0573811d590f57d85ccb\"}, \"mark\": \"bar\", \"encoding\": {\"x\": {\"type\": \"nominal\", \"field\": \"username\"}, \"y\": {\"type\": \"quantitative\", \"field\": \"closed\"}}, \"title\": \"Merges for jupyter in the last 31 days\", \"width\": 1000}, {\"data\": {\"name\": \"data-e8aefcbc5f0bdcda8a36f171c8ebeb69\"}, \"mark\": \"bar\", \"encoding\": {\"x\": {\"type\": \"nominal\", \"field\": \"username\"}, \"y\": {\"type\": \"quantitative\", \"field\": \"closed\"}}, \"title\": \"Merges for jupyter-widgets in the last 31 days\", \"width\": 1000}, {\"data\": {\"name\": \"data-312acd97463cf2b402602dfe82388023\"}, \"mark\": \"bar\", \"encoding\": {\"x\": {\"type\": \"nominal\", \"field\": \"username\"}, \"y\": {\"type\": \"quantitative\", \"field\": \"closed\"}}, \"title\": \"Merges for jupyterhub in the last 31 days\", \"width\": 1000}, {\"data\": {\"name\": \"data-1571cc2a6de59cdd212fde4397e5d831\"}, \"mark\": \"bar\", \"encoding\": {\"x\": {\"type\": \"nominal\", \"field\": \"username\"}, \"y\": {\"type\": \"quantitative\", \"field\": \"closed\"}}, \"title\": \"Merges for jupyterlab in the last 31 days\", \"width\": 1000}], \"$schema\": \"https://vega.github.io/schema/vega-lite/v3.4.0.json\", \"datasets\": {\"data-ddd65c30f0f2980feede76dfc20ceb27\": [{\"org\": \"binder-examples\", \"repo\": \"julia-python\", \"username\": \"yuvipanda\", \"closed\": 1}], \"data-8bfe714ed3eb61b5d1e4c16b4eb1b95e\": [{\"org\": \"ipython\", \"repo\": \"ipykernel\", \"username\": \"blink1073\", \"closed\": 4}, {\"org\": \"ipython\", \"repo\": \"ipython\", \"username\": \"Carreau\", \"closed\": 2}], \"data-10f11dd899df0573811d590f57d85ccb\": [{\"org\": \"jupyter\", \"repo\": \"enhancement-proposals\", \"username\": \"blink1073\", \"closed\": 1}, {\"org\": \"jupyter\", \"repo\": \"enhancement-proposals\", \"username\": \"jasongrout\", \"closed\": 1}, {\"org\": \"jupyter\", \"repo\": \"enterprise_gateway\", \"username\": \"lresende\", \"closed\": 2}, {\"org\": \"jupyter\", \"repo\": \"governance\", \"username\": \"rgbkrk\", \"closed\": 1}, {\"org\": \"jupyter\", \"repo\": \"jupyter\", \"username\": \"choldgraf\", \"closed\": 4}, {\"org\": \"jupyter\", \"repo\": \"jupyter\", \"username\": \"parente\", \"closed\": 6}, {\"org\": \"jupyter\", \"repo\": \"jupyter-book\", \"username\": \"choldgraf\", \"closed\": 30}, {\"org\": \"jupyter\", \"repo\": \"jupyter-sphinx\", \"username\": \"akhmerov\", \"closed\": 1}, {\"org\": \"jupyter\", \"repo\": \"jupyter-sphinx\", \"username\": \"jbweston\", \"closed\": 1}, {\"org\": \"jupyter\", \"repo\": \"jupyter.github.io\", \"username\": \"Ruv7\", \"closed\": 1}, {\"org\": \"jupyter\", \"repo\": \"jupyter.github.io\", \"username\": \"SylvainCorlay\", \"closed\": 2}, {\"org\": \"jupyter\", \"repo\": \"jupyter.github.io\", \"username\": \"ellisonbg\", \"closed\": 1}, {\"org\": \"jupyter\", \"repo\": \"jupyter_client\", \"username\": \"MSeal\", \"closed\": 1}, {\"org\": \"jupyter\", \"repo\": \"jupyter_client\", \"username\": \"SylvainCorlay\", \"closed\": 3}, {\"org\": \"jupyter\", \"repo\": \"jupyter_core\", \"username\": \"MSeal\", \"closed\": 1}, {\"org\": \"jupyter\", \"repo\": \"jupyter_core\", \"username\": \"rgbkrk\", \"closed\": 3}, {\"org\": \"jupyter\", \"repo\": \"jupyter_server\", \"username\": \"SylvainCorlay\", \"closed\": 1}, {\"org\": \"jupyter\", \"repo\": \"jupyter_server\", \"username\": \"Zsailer\", \"closed\": 4}, {\"org\": \"jupyter\", \"repo\": \"jupyter_server\", \"username\": \"rolweber\", \"closed\": 2}, {\"org\": \"jupyter\", \"repo\": \"jupyter_server\", \"username\": \"vidartf\", \"closed\": 1}, {\"org\": \"jupyter\", \"repo\": \"kernel_gateway\", \"username\": \"rolweber\", \"closed\": 1}, {\"org\": \"jupyter\", \"repo\": \"nbconvert\", \"username\": \"MSeal\", \"closed\": 8}, {\"org\": \"jupyter\", \"repo\": \"nbconvert\", \"username\": \"willingc\", \"closed\": 1}, {\"org\": \"jupyter\", \"repo\": \"notebook\", \"username\": \"jasongrout\", \"closed\": 1}, {\"org\": \"jupyter\", \"repo\": \"notebook\", \"username\": \"lresende\", \"closed\": 2}, {\"org\": \"jupyter\", \"repo\": \"notebook\", \"username\": \"minrk\", \"closed\": 1}, {\"org\": \"jupyter\", \"repo\": \"notebook\", \"username\": \"takluyver\", \"closed\": 3}, {\"org\": \"jupyter\", \"repo\": \"repo2docker\", \"username\": \"betatim\", \"closed\": 3}, {\"org\": \"jupyter\", \"repo\": \"telemetry\", \"username\": \"Zsailer\", \"closed\": 2}, {\"org\": \"jupyter\", \"repo\": \"telemetry\", \"username\": \"yuvipanda\", \"closed\": 1}], \"data-e8aefcbc5f0bdcda8a36f171c8ebeb69\": [{\"org\": \"jupyter-widgets\", \"repo\": \"ipyleaflet\", \"username\": \"martinRenou\", \"closed\": 5}, {\"org\": \"jupyter-widgets\", \"repo\": \"ipywidgets\", \"username\": \"SylvainCorlay\", \"closed\": 1}, {\"org\": \"jupyter-widgets\", \"repo\": \"ipywidgets\", \"username\": \"jasongrout\", \"closed\": 6}, {\"org\": \"jupyter-widgets\", \"repo\": \"widget-cookiecutter\", \"username\": \"vidartf\", \"closed\": 1}, {\"org\": \"jupyter-widgets\", \"repo\": \"widget-ts-cookiecutter\", \"username\": \"vidartf\", \"closed\": 1}], \"data-312acd97463cf2b402602dfe82388023\": [{\"org\": \"jupyterhub\", \"repo\": \"binder\", \"username\": \"betatim\", \"closed\": 1}, {\"org\": \"jupyterhub\", \"repo\": \"binderhub\", \"username\": \"betatim\", \"closed\": 7}, {\"org\": \"jupyterhub\", \"repo\": \"chartpress\", \"username\": \"consideRatio\", \"closed\": 8}, {\"org\": \"jupyterhub\", \"repo\": \"chartpress\", \"username\": \"minrk\", \"closed\": 4}, {\"org\": \"jupyterhub\", \"repo\": \"chartpress\", \"username\": \"yuvipanda\", \"closed\": 3}, {\"org\": \"jupyterhub\", \"repo\": \"dockerspawner\", \"username\": \"minrk\", \"closed\": 1}, {\"org\": \"jupyterhub\", \"repo\": \"jupyter-server-proxy\", \"username\": \"ryanlovett\", \"closed\": 1}, {\"org\": \"jupyterhub\", \"repo\": \"jupyterhub\", \"username\": \"GeorgianaElena\", \"closed\": 1}, {\"org\": \"jupyterhub\", \"repo\": \"jupyterhub\", \"username\": \"betatim\", \"closed\": 1}, {\"org\": \"jupyterhub\", \"repo\": \"jupyterhub\", \"username\": \"minrk\", \"closed\": 6}, {\"org\": \"jupyterhub\", \"repo\": \"jupyterhub\", \"username\": \"willingc\", \"closed\": 1}, {\"org\": \"jupyterhub\", \"repo\": \"kubespawner\", \"username\": \"betatim\", \"closed\": 1}, {\"org\": \"jupyterhub\", \"repo\": \"mybinder.org-deploy\", \"username\": \"betatim\", \"closed\": 24}, {\"org\": \"jupyterhub\", \"repo\": \"mybinder.org-deploy\", \"username\": \"sgibson91\", \"closed\": 15}, {\"org\": \"jupyterhub\", \"repo\": \"nativeauthenticator\", \"username\": \"leportella\", \"closed\": 1}, {\"org\": \"jupyterhub\", \"repo\": \"nbgitpuller\", \"username\": \"consideRatio\", \"closed\": 1}, {\"org\": \"jupyterhub\", \"repo\": \"nullauthenticator\", \"username\": \"takluyver\", \"closed\": 1}, {\"org\": \"jupyterhub\", \"repo\": \"oauthenticator\", \"username\": \"consideRatio\", \"closed\": 2}, {\"org\": \"jupyterhub\", \"repo\": \"oauthenticator\", \"username\": \"manics\", \"closed\": 1}, {\"org\": \"jupyterhub\", \"repo\": \"team-compass\", \"username\": \"betatim\", \"closed\": 1}, {\"org\": \"jupyterhub\", \"repo\": \"team-compass\", \"username\": \"choldgraf\", \"closed\": 1}, {\"org\": \"jupyterhub\", \"repo\": \"the-littlest-jupyterhub\", \"username\": \"yuvipanda\", \"closed\": 4}, {\"org\": \"jupyterhub\", \"repo\": \"traefik-proxy\", \"username\": \"GeorgianaElena\", \"closed\": 2}, {\"org\": \"jupyterhub\", \"repo\": \"zero-to-jupyterhub-k8s\", \"username\": \"betatim\", \"closed\": 1}, {\"org\": \"jupyterhub\", \"repo\": \"zero-to-jupyterhub-k8s\", \"username\": \"consideRatio\", \"closed\": 6}, {\"org\": \"jupyterhub\", \"repo\": \"zero-to-jupyterhub-k8s\", \"username\": \"manics\", \"closed\": 1}, {\"org\": \"jupyterhub\", \"repo\": \"zero-to-jupyterhub-k8s\", \"username\": \"minrk\", \"closed\": 1}, {\"org\": \"jupyterhub\", \"repo\": \"zero-to-jupyterhub-k8s\", \"username\": \"willingc\", \"closed\": 1}], \"data-1571cc2a6de59cdd212fde4397e5d831\": [{\"org\": \"jupyterlab\", \"repo\": \"debugger\", \"username\": \"JohanMabille\", \"closed\": 10}, {\"org\": \"jupyterlab\", \"repo\": \"debugger\", \"username\": \"KsavinN\", \"closed\": 4}, {\"org\": \"jupyterlab\", \"repo\": \"debugger\", \"username\": \"afshin\", \"closed\": 2}, {\"org\": \"jupyterlab\", \"repo\": \"debugger\", \"username\": \"jtpio\", \"closed\": 24}, {\"org\": \"jupyterlab\", \"repo\": \"jupyterlab\", \"username\": \"blink1073\", \"closed\": 9}, {\"org\": \"jupyterlab\", \"repo\": \"jupyterlab\", \"username\": \"jasongrout\", \"closed\": 22}, {\"org\": \"jupyterlab\", \"repo\": \"jupyterlab\", \"username\": \"saulshanabrook\", \"closed\": 1}, {\"org\": \"jupyterlab\", \"repo\": \"jupyterlab\", \"username\": \"telamonian\", \"closed\": 1}, {\"org\": \"jupyterlab\", \"repo\": \"jupyterlab\", \"username\": \"vidartf\", \"closed\": 1}, {\"org\": \"jupyterlab\", \"repo\": \"jupyterlab-celltags\", \"username\": \"telamonian\", \"closed\": 4}, {\"org\": \"jupyterlab\", \"repo\": \"jupyterlab-commenting\", \"username\": \"hoo761\", \"closed\": 1}, {\"org\": \"jupyterlab\", \"repo\": \"jupyterlab-commenting\", \"username\": \"saulshanabrook\", \"closed\": 3}, {\"org\": \"jupyterlab\", \"repo\": \"jupyterlab-data-explorer\", \"username\": \"kgryte\", \"closed\": 1}, {\"org\": \"jupyterlab\", \"repo\": \"jupyterlab-data-explorer\", \"username\": \"saulshanabrook\", \"closed\": 13}, {\"org\": \"jupyterlab\", \"repo\": \"jupyterlab-git\", \"username\": \"fcollonval\", \"closed\": 5}, {\"org\": \"jupyterlab\", \"repo\": \"jupyterlab-git\", \"username\": \"telamonian\", \"closed\": 1}, {\"org\": \"jupyterlab\", \"repo\": \"jupyterlab-hdf5\", \"username\": \"telamonian\", \"closed\": 2}, {\"org\": \"jupyterlab\", \"repo\": \"jupyterlab-metadata-service\", \"username\": \"kgryte\", \"closed\": 1}, {\"org\": \"jupyterlab\", \"repo\": \"jupyterlab-metadata-service\", \"username\": \"saulshanabrook\", \"closed\": 13}, {\"org\": \"jupyterlab\", \"repo\": \"jupyterlab-telemetry\", \"username\": \"Zsailer\", \"closed\": 1}, {\"org\": \"jupyterlab\", \"repo\": \"jupyterlab-telemetry\", \"username\": \"jaipreet-s\", \"closed\": 2}, {\"org\": \"jupyterlab\", \"repo\": \"jupyterlab-toc\", \"username\": \"ian-r-rose\", \"closed\": 1}]}};\n",
       "      var embedOpt = {\"mode\": \"vega-lite\"};\n",
       "\n",
       "      function showError(el, error){\n",
       "          el.innerHTML = ('<div class=\"error\" style=\"color:red;\">'\n",
       "                          + '<p>JavaScript Error: ' + error.message + '</p>'\n",
       "                          + \"<p>This usually means there's a typo in your chart specification. \"\n",
       "                          + \"See the javascript console for the full traceback.</p>\"\n",
       "                          + '</div>');\n",
       "          throw error;\n",
       "      }\n",
       "      const el = document.getElementById('altair-viz-3');\n",
       "      vegaEmbed(\"#altair-viz-3\", spec, embedOpt)\n",
       "        .catch(error => showError(el, error));\n",
       "    });\n",
       "\n",
       "  </script>"
      ],
      "text/plain": [
       "alt.HConcatChart(...)"
      ]
     },
     "execution_count": 18,
     "metadata": {},
     "output_type": "execute_result"
    }
   ],
   "source": [
    "charts = []\n",
    "for ii, (iorg, idata) in enumerate(closed_by_repo.replace(np.nan, 0).groupby(['org'])):\n",
    "    title = f\"Merges for {iorg} in the last {n_days} days\"\n",
    "    ch = alt.Chart(data=idata, width=1000, title=title).mark_bar().encode(\n",
    "        x='username',\n",
    "        y='closed',\n",
    "    )\n",
    "    charts.append(ch)\n",
    "alt.hconcat(*charts)"
   ]
  },
  {
   "cell_type": "markdown",
   "metadata": {
    "papermill": {
     "duration": 0.02546,
     "end_time": "2019-12-01T17:52:20.690699",
     "exception": false,
     "start_time": "2019-12-01T17:52:20.665239",
     "status": "completed"
    },
    "tags": []
   },
   "source": [
    "## Issues\n",
    "\n",
    "Issues are **conversations** that happen on our GitHub repositories. Here's an\n",
    "analysis of issues across the Jupyter organizations."
   ]
  },
  {
   "cell_type": "code",
   "execution_count": 19,
   "metadata": {
    "papermill": {
     "duration": 0.041876,
     "end_time": "2019-12-01T17:52:20.758339",
     "exception": false,
     "start_time": "2019-12-01T17:52:20.716463",
     "status": "completed"
    },
    "tags": []
   },
   "outputs": [],
   "source": [
    "created = issues.query('state == \"OPEN\" and createdAt > @start_date and createdAt < @end_date')\n",
    "closed = issues.query('state == \"CLOSED\" and closedAt > @start_date and closedAt < @end_date')"
   ]
  },
  {
   "cell_type": "code",
   "execution_count": 20,
   "metadata": {
    "papermill": {
     "duration": 0.064606,
     "end_time": "2019-12-01T17:52:20.846970",
     "exception": false,
     "start_time": "2019-12-01T17:52:20.782364",
     "status": "completed"
    },
    "tags": [
     "hide_input"
    ]
   },
   "outputs": [
    {
     "data": {
      "text/html": [
       "\n",
       "  <style>\n",
       "    .error {\n",
       "        color: red;\n",
       "    }\n",
       "  </style>\n",
       "  <div id=\"altair-viz-4\"></div>\n",
       "  <script>\n",
       "    requirejs.config({\n",
       "        \"paths\": {\n",
       "            \"vega\": \"https://cdn.jsdelivr.net/npm//vega@5?noext\",\n",
       "            \"vega-lib\": \"https://cdn.jsdelivr.net/npm//vega-lib?noext\",\n",
       "            \"vega-lite\": \"https://cdn.jsdelivr.net/npm//vega-lite@3.4.0?noext\",\n",
       "            \"vega-embed\": \"https://cdn.jsdelivr.net/npm//vega-embed@5?noext\",\n",
       "        }\n",
       "    });\n",
       "    \n",
       "    require(['vega-embed'],function(vegaEmbed) {\n",
       "      var spec = {\"config\": {\"axisLeft\": {\"labelFontSize\": 15}, \"axisBottom\": {\"labelFontSize\": 15}}, \"data\": {\"name\": \"data-d7f3086e771f3688aad6f7563929c7be\"}, \"mark\": \"bar\", \"encoding\": {\"color\": {\"type\": \"nominal\", \"field\": \"org\"}, \"x\": {\"type\": \"nominal\", \"field\": \"repo\", \"sort\": [\"jupyterlab\", \"jupyterlab-data-explorer\", \"jupyterlab-git\", \"jupyterlab-hdf5\", \"jupyterlab-metadata-service\", \"team-compass\", \"jupyterlab-celltags\", \"jupyterlab-telemetry\", \"jupyterlab-toc\", \"pull-requests\", \"jupyterhub\", \"zero-to-jupyterhub-k8s\", \"binderhub\", \"the-littlest-jupyterhub\", \"mybinder.org-deploy\", \"jupyter-server-proxy\", \"nativeauthenticator\", \"team-compass\", \"chartpress\", \"ldapauthenticator\", \"batchspawner\", \"binder\", \"firstuseauthenticator\", \"jupyterhub-deploy-hpc\", \"kubespawner\", \"nbgitpuller\", \"oauthenticator\", \"systemdspawner\", \"traefik-proxy\", \"ipywidgets\", \"ipyleaflet\", \"pythreejs\", \"widget-cookiecutter\", \"widget-ts-cookiecutter\", \"traittypes\", \"notebook\", \"jupyter-book\", \"jupyter_client\", \"qtconsole\", \"enterprise_gateway\", \"jupyter_server\", \"governance\", \"jupyter\", \"nbconvert\", \"repo2docker\", \"atom-notebook\", \"jupyter_console\", \"dashboards\", \"docker-stacks\", \"jupyter_core\", \"nbdime\", \"nbformat\", \"telemetry\", \"ipython\", \"ipykernel\", \"ipyparallel\", \"xkcd-font\"]}, \"y\": {\"type\": \"quantitative\", \"field\": \"number\"}}, \"title\": \"Issues created in the last 31 days\", \"$schema\": \"https://vega.github.io/schema/vega-lite/v3.4.0.json\", \"datasets\": {\"data-d7f3086e771f3688aad6f7563929c7be\": [{\"org\": \"ipython\", \"repo\": \"ipykernel\", \"number\": 6, \"org/repo\": \"ipython/ipykernel\"}, {\"org\": \"ipython\", \"repo\": \"ipyparallel\", \"number\": 2, \"org/repo\": \"ipython/ipyparallel\"}, {\"org\": \"ipython\", \"repo\": \"ipython\", \"number\": 11, \"org/repo\": \"ipython/ipython\"}, {\"org\": \"ipython\", \"repo\": \"xkcd-font\", \"number\": 1, \"org/repo\": \"ipython/xkcd-font\"}, {\"org\": \"jupyter\", \"repo\": \"atom-notebook\", \"number\": 2, \"org/repo\": \"jupyter/atom-notebook\"}, {\"org\": \"jupyter\", \"repo\": \"dashboards\", \"number\": 1, \"org/repo\": \"jupyter/dashboards\"}, {\"org\": \"jupyter\", \"repo\": \"docker-stacks\", \"number\": 1, \"org/repo\": \"jupyter/docker-stacks\"}, {\"org\": \"jupyter\", \"repo\": \"enterprise_gateway\", \"number\": 4, \"org/repo\": \"jupyter/enterprise_gateway\"}, {\"org\": \"jupyter\", \"repo\": \"governance\", \"number\": 3, \"org/repo\": \"jupyter/governance\"}, {\"org\": \"jupyter\", \"repo\": \"jupyter\", \"number\": 3, \"org/repo\": \"jupyter/jupyter\"}, {\"org\": \"jupyter\", \"repo\": \"jupyter-book\", \"number\": 10, \"org/repo\": \"jupyter/jupyter-book\"}, {\"org\": \"jupyter\", \"repo\": \"jupyter_client\", \"number\": 6, \"org/repo\": \"jupyter/jupyter_client\"}, {\"org\": \"jupyter\", \"repo\": \"jupyter_console\", \"number\": 2, \"org/repo\": \"jupyter/jupyter_console\"}, {\"org\": \"jupyter\", \"repo\": \"jupyter_core\", \"number\": 1, \"org/repo\": \"jupyter/jupyter_core\"}, {\"org\": \"jupyter\", \"repo\": \"jupyter_server\", \"number\": 4, \"org/repo\": \"jupyter/jupyter_server\"}, {\"org\": \"jupyter\", \"repo\": \"nbconvert\", \"number\": 3, \"org/repo\": \"jupyter/nbconvert\"}, {\"org\": \"jupyter\", \"repo\": \"nbdime\", \"number\": 1, \"org/repo\": \"jupyter/nbdime\"}, {\"org\": \"jupyter\", \"repo\": \"nbformat\", \"number\": 1, \"org/repo\": \"jupyter/nbformat\"}, {\"org\": \"jupyter\", \"repo\": \"notebook\", \"number\": 44, \"org/repo\": \"jupyter/notebook\"}, {\"org\": \"jupyter\", \"repo\": \"qtconsole\", \"number\": 5, \"org/repo\": \"jupyter/qtconsole\"}, {\"org\": \"jupyter\", \"repo\": \"repo2docker\", \"number\": 3, \"org/repo\": \"jupyter/repo2docker\"}, {\"org\": \"jupyter\", \"repo\": \"telemetry\", \"number\": 1, \"org/repo\": \"jupyter/telemetry\"}, {\"org\": \"jupyter-widgets\", \"repo\": \"ipyleaflet\", \"number\": 3, \"org/repo\": \"jupyter-widgets/ipyleaflet\"}, {\"org\": \"jupyter-widgets\", \"repo\": \"ipywidgets\", \"number\": 7, \"org/repo\": \"jupyter-widgets/ipywidgets\"}, {\"org\": \"jupyter-widgets\", \"repo\": \"pythreejs\", \"number\": 2, \"org/repo\": \"jupyter-widgets/pythreejs\"}, {\"org\": \"jupyter-widgets\", \"repo\": \"traittypes\", \"number\": 1, \"org/repo\": \"jupyter-widgets/traittypes\"}, {\"org\": \"jupyter-widgets\", \"repo\": \"widget-cookiecutter\", \"number\": 2, \"org/repo\": \"jupyter-widgets/widget-cookiecutter\"}, {\"org\": \"jupyter-widgets\", \"repo\": \"widget-ts-cookiecutter\", \"number\": 2, \"org/repo\": \"jupyter-widgets/widget-ts-cookiecutter\"}, {\"org\": \"jupyterhub\", \"repo\": \"batchspawner\", \"number\": 1, \"org/repo\": \"jupyterhub/batchspawner\"}, {\"org\": \"jupyterhub\", \"repo\": \"binder\", \"number\": 1, \"org/repo\": \"jupyterhub/binder\"}, {\"org\": \"jupyterhub\", \"repo\": \"binderhub\", \"number\": 5, \"org/repo\": \"jupyterhub/binderhub\"}, {\"org\": \"jupyterhub\", \"repo\": \"chartpress\", \"number\": 2, \"org/repo\": \"jupyterhub/chartpress\"}, {\"org\": \"jupyterhub\", \"repo\": \"firstuseauthenticator\", \"number\": 1, \"org/repo\": \"jupyterhub/firstuseauthenticator\"}, {\"org\": \"jupyterhub\", \"repo\": \"jupyter-server-proxy\", \"number\": 3, \"org/repo\": \"jupyterhub/jupyter-server-proxy\"}, {\"org\": \"jupyterhub\", \"repo\": \"jupyterhub\", \"number\": 16, \"org/repo\": \"jupyterhub/jupyterhub\"}, {\"org\": \"jupyterhub\", \"repo\": \"jupyterhub-deploy-hpc\", \"number\": 1, \"org/repo\": \"jupyterhub/jupyterhub-deploy-hpc\"}, {\"org\": \"jupyterhub\", \"repo\": \"kubespawner\", \"number\": 1, \"org/repo\": \"jupyterhub/kubespawner\"}, {\"org\": \"jupyterhub\", \"repo\": \"ldapauthenticator\", \"number\": 2, \"org/repo\": \"jupyterhub/ldapauthenticator\"}, {\"org\": \"jupyterhub\", \"repo\": \"mybinder.org-deploy\", \"number\": 4, \"org/repo\": \"jupyterhub/mybinder.org-deploy\"}, {\"org\": \"jupyterhub\", \"repo\": \"nativeauthenticator\", \"number\": 3, \"org/repo\": \"jupyterhub/nativeauthenticator\"}, {\"org\": \"jupyterhub\", \"repo\": \"nbgitpuller\", \"number\": 1, \"org/repo\": \"jupyterhub/nbgitpuller\"}, {\"org\": \"jupyterhub\", \"repo\": \"oauthenticator\", \"number\": 1, \"org/repo\": \"jupyterhub/oauthenticator\"}, {\"org\": \"jupyterhub\", \"repo\": \"systemdspawner\", \"number\": 1, \"org/repo\": \"jupyterhub/systemdspawner\"}, {\"org\": \"jupyterhub\", \"repo\": \"team-compass\", \"number\": 3, \"org/repo\": \"jupyterhub/team-compass\"}, {\"org\": \"jupyterhub\", \"repo\": \"the-littlest-jupyterhub\", \"number\": 5, \"org/repo\": \"jupyterhub/the-littlest-jupyterhub\"}, {\"org\": \"jupyterhub\", \"repo\": \"traefik-proxy\", \"number\": 1, \"org/repo\": \"jupyterhub/traefik-proxy\"}, {\"org\": \"jupyterhub\", \"repo\": \"zero-to-jupyterhub-k8s\", \"number\": 7, \"org/repo\": \"jupyterhub/zero-to-jupyterhub-k8s\"}, {\"org\": \"jupyterlab\", \"repo\": \"jupyterlab\", \"number\": 45, \"org/repo\": \"jupyterlab/jupyterlab\"}, {\"org\": \"jupyterlab\", \"repo\": \"jupyterlab-celltags\", \"number\": 1, \"org/repo\": \"jupyterlab/jupyterlab-celltags\"}, {\"org\": \"jupyterlab\", \"repo\": \"jupyterlab-data-explorer\", \"number\": 8, \"org/repo\": \"jupyterlab/jupyterlab-data-explorer\"}, {\"org\": \"jupyterlab\", \"repo\": \"jupyterlab-git\", \"number\": 4, \"org/repo\": \"jupyterlab/jupyterlab-git\"}, {\"org\": \"jupyterlab\", \"repo\": \"jupyterlab-hdf5\", \"number\": 3, \"org/repo\": \"jupyterlab/jupyterlab-hdf5\"}, {\"org\": \"jupyterlab\", \"repo\": \"jupyterlab-metadata-service\", \"number\": 3, \"org/repo\": \"jupyterlab/jupyterlab-metadata-service\"}, {\"org\": \"jupyterlab\", \"repo\": \"jupyterlab-telemetry\", \"number\": 1, \"org/repo\": \"jupyterlab/jupyterlab-telemetry\"}, {\"org\": \"jupyterlab\", \"repo\": \"jupyterlab-toc\", \"number\": 1, \"org/repo\": \"jupyterlab/jupyterlab-toc\"}, {\"org\": \"jupyterlab\", \"repo\": \"pull-requests\", \"number\": 1, \"org/repo\": \"jupyterlab/pull-requests\"}, {\"org\": \"jupyterlab\", \"repo\": \"team-compass\", \"number\": 2, \"org/repo\": \"jupyterlab/team-compass\"}]}};\n",
       "      var embedOpt = {\"mode\": \"vega-lite\"};\n",
       "\n",
       "      function showError(el, error){\n",
       "          el.innerHTML = ('<div class=\"error\" style=\"color:red;\">'\n",
       "                          + '<p>JavaScript Error: ' + error.message + '</p>'\n",
       "                          + \"<p>This usually means there's a typo in your chart specification. \"\n",
       "                          + \"See the javascript console for the full traceback.</p>\"\n",
       "                          + '</div>');\n",
       "          throw error;\n",
       "      }\n",
       "      const el = document.getElementById('altair-viz-4');\n",
       "      vegaEmbed(\"#altair-viz-4\", spec, embedOpt)\n",
       "        .catch(error => showError(el, error));\n",
       "    });\n",
       "\n",
       "  </script>"
      ],
      "text/plain": [
       "alt.Chart(...)"
      ]
     },
     "execution_count": 20,
     "metadata": {},
     "output_type": "execute_result"
    }
   ],
   "source": [
    "created_counts = created.groupby(['org', 'repo']).count()['number'].reset_index()\n",
    "created_counts['org/repo'] = created_counts.apply(lambda a: a['org'] + '/' + a['repo'], axis=1)\n",
    "sorted_vals = created_counts.sort_values(['org', 'number'], ascending=False)['repo'].values\n",
    "alt.Chart(data=created_counts, title=f\"Issues created in the last {n_days} days\").mark_bar().encode(\n",
    "    x=alt.X('repo', sort=alt.Sort(sorted_vals.tolist())),\n",
    "    y='number',\n",
    "    color='org',\n",
    ")"
   ]
  },
  {
   "cell_type": "code",
   "execution_count": 21,
   "metadata": {
    "papermill": {
     "duration": 0.072929,
     "end_time": "2019-12-01T17:52:20.943658",
     "exception": false,
     "start_time": "2019-12-01T17:52:20.870729",
     "status": "completed"
    },
    "tags": [
     "hide_input"
    ]
   },
   "outputs": [
    {
     "data": {
      "text/html": [
       "\n",
       "  <style>\n",
       "    .error {\n",
       "        color: red;\n",
       "    }\n",
       "  </style>\n",
       "  <div id=\"altair-viz-5\"></div>\n",
       "  <script>\n",
       "    requirejs.config({\n",
       "        \"paths\": {\n",
       "            \"vega\": \"https://cdn.jsdelivr.net/npm//vega@5?noext\",\n",
       "            \"vega-lib\": \"https://cdn.jsdelivr.net/npm//vega-lib?noext\",\n",
       "            \"vega-lite\": \"https://cdn.jsdelivr.net/npm//vega-lite@3.4.0?noext\",\n",
       "            \"vega-embed\": \"https://cdn.jsdelivr.net/npm//vega-embed@5?noext\",\n",
       "        }\n",
       "    });\n",
       "    \n",
       "    require(['vega-embed'],function(vegaEmbed) {\n",
       "      var spec = {\"config\": {\"axisLeft\": {\"labelFontSize\": 15}, \"axisBottom\": {\"labelFontSize\": 15}}, \"data\": {\"name\": \"data-2db4254d53a0df799054a87fcdf2de10\"}, \"mark\": \"bar\", \"encoding\": {\"color\": {\"type\": \"nominal\", \"field\": \"org\"}, \"x\": {\"type\": \"nominal\", \"field\": \"repo\", \"sort\": [\"debugger\", \"jupyterlab-metadata-service\", \"jupyterlab-commenting\", \"jupyterlab-git\", \"jupyterlab-data-explorer\", \"jupyterlab\", \"team-compass\", \"jupyterlab-hdf5\", \"jupyterlab-celltags\", \"jupyterlab-github\", \"jupyterlab_apod\", \"zero-to-jupyterhub-k8s\", \"jupyterhub\", \"chartpress\", \"binderhub\", \"the-littlest-jupyterhub\", \"team-compass\", \"dockerspawner\", \"jupyter-rsession-proxy\", \"nativeauthenticator\", \"batchspawner\", \"binder\", \"helm-chart\", \"mybinder.org-deploy\", \"nbgitpuller\", \"widget-cookiecutter\", \"ipywidgets\", \"pythreejs\", \"ipyleaflet\", \"widget-ts-cookiecutter\", \"notebook\", \"jupyter-book\", \"nbconvert\", \"jupyter_core\", \"nbviewer\", \"enterprise_gateway\", \"jupyter-sphinx\", \"repo2docker\", \"docker-stacks\", \"governance\", \"jupyter\", \"jupyter_client\", \"kernel_gateway\", \"qtconsole\", \"ipython\", \"ipyparallel\", \"ipython-website\", \"traitlets\"]}, \"y\": {\"type\": \"quantitative\", \"field\": \"number\"}}, \"title\": \"Issues closed in the last 31 days\", \"$schema\": \"https://vega.github.io/schema/vega-lite/v3.4.0.json\", \"datasets\": {\"data-2db4254d53a0df799054a87fcdf2de10\": [{\"org\": \"ipython\", \"repo\": \"ipyparallel\", \"number\": 1, \"org/repo\": \"ipython/ipyparallel\"}, {\"org\": \"ipython\", \"repo\": \"ipython\", \"number\": 4, \"org/repo\": \"ipython/ipython\"}, {\"org\": \"ipython\", \"repo\": \"ipython-website\", \"number\": 1, \"org/repo\": \"ipython/ipython-website\"}, {\"org\": \"ipython\", \"repo\": \"traitlets\", \"number\": 1, \"org/repo\": \"ipython/traitlets\"}, {\"org\": \"jupyter\", \"repo\": \"docker-stacks\", \"number\": 1, \"org/repo\": \"jupyter/docker-stacks\"}, {\"org\": \"jupyter\", \"repo\": \"enterprise_gateway\", \"number\": 3, \"org/repo\": \"jupyter/enterprise_gateway\"}, {\"org\": \"jupyter\", \"repo\": \"governance\", \"number\": 1, \"org/repo\": \"jupyter/governance\"}, {\"org\": \"jupyter\", \"repo\": \"jupyter\", \"number\": 1, \"org/repo\": \"jupyter/jupyter\"}, {\"org\": \"jupyter\", \"repo\": \"jupyter-book\", \"number\": 11, \"org/repo\": \"jupyter/jupyter-book\"}, {\"org\": \"jupyter\", \"repo\": \"jupyter-sphinx\", \"number\": 3, \"org/repo\": \"jupyter/jupyter-sphinx\"}, {\"org\": \"jupyter\", \"repo\": \"jupyter_client\", \"number\": 1, \"org/repo\": \"jupyter/jupyter_client\"}, {\"org\": \"jupyter\", \"repo\": \"jupyter_core\", \"number\": 4, \"org/repo\": \"jupyter/jupyter_core\"}, {\"org\": \"jupyter\", \"repo\": \"kernel_gateway\", \"number\": 1, \"org/repo\": \"jupyter/kernel_gateway\"}, {\"org\": \"jupyter\", \"repo\": \"nbconvert\", \"number\": 7, \"org/repo\": \"jupyter/nbconvert\"}, {\"org\": \"jupyter\", \"repo\": \"nbviewer\", \"number\": 4, \"org/repo\": \"jupyter/nbviewer\"}, {\"org\": \"jupyter\", \"repo\": \"notebook\", \"number\": 22, \"org/repo\": \"jupyter/notebook\"}, {\"org\": \"jupyter\", \"repo\": \"qtconsole\", \"number\": 1, \"org/repo\": \"jupyter/qtconsole\"}, {\"org\": \"jupyter\", \"repo\": \"repo2docker\", \"number\": 3, \"org/repo\": \"jupyter/repo2docker\"}, {\"org\": \"jupyter-widgets\", \"repo\": \"ipyleaflet\", \"number\": 1, \"org/repo\": \"jupyter-widgets/ipyleaflet\"}, {\"org\": \"jupyter-widgets\", \"repo\": \"ipywidgets\", \"number\": 6, \"org/repo\": \"jupyter-widgets/ipywidgets\"}, {\"org\": \"jupyter-widgets\", \"repo\": \"pythreejs\", \"number\": 2, \"org/repo\": \"jupyter-widgets/pythreejs\"}, {\"org\": \"jupyter-widgets\", \"repo\": \"widget-cookiecutter\", \"number\": 7, \"org/repo\": \"jupyter-widgets/widget-cookiecutter\"}, {\"org\": \"jupyter-widgets\", \"repo\": \"widget-ts-cookiecutter\", \"number\": 1, \"org/repo\": \"jupyter-widgets/widget-ts-cookiecutter\"}, {\"org\": \"jupyterhub\", \"repo\": \"batchspawner\", \"number\": 1, \"org/repo\": \"jupyterhub/batchspawner\"}, {\"org\": \"jupyterhub\", \"repo\": \"binder\", \"number\": 1, \"org/repo\": \"jupyterhub/binder\"}, {\"org\": \"jupyterhub\", \"repo\": \"binderhub\", \"number\": 8, \"org/repo\": \"jupyterhub/binderhub\"}, {\"org\": \"jupyterhub\", \"repo\": \"chartpress\", \"number\": 10, \"org/repo\": \"jupyterhub/chartpress\"}, {\"org\": \"jupyterhub\", \"repo\": \"dockerspawner\", \"number\": 3, \"org/repo\": \"jupyterhub/dockerspawner\"}, {\"org\": \"jupyterhub\", \"repo\": \"helm-chart\", \"number\": 1, \"org/repo\": \"jupyterhub/helm-chart\"}, {\"org\": \"jupyterhub\", \"repo\": \"jupyter-rsession-proxy\", \"number\": 3, \"org/repo\": \"jupyterhub/jupyter-rsession-proxy\"}, {\"org\": \"jupyterhub\", \"repo\": \"jupyterhub\", \"number\": 15, \"org/repo\": \"jupyterhub/jupyterhub\"}, {\"org\": \"jupyterhub\", \"repo\": \"mybinder.org-deploy\", \"number\": 1, \"org/repo\": \"jupyterhub/mybinder.org-deploy\"}, {\"org\": \"jupyterhub\", \"repo\": \"nativeauthenticator\", \"number\": 2, \"org/repo\": \"jupyterhub/nativeauthenticator\"}, {\"org\": \"jupyterhub\", \"repo\": \"nbgitpuller\", \"number\": 1, \"org/repo\": \"jupyterhub/nbgitpuller\"}, {\"org\": \"jupyterhub\", \"repo\": \"team-compass\", \"number\": 4, \"org/repo\": \"jupyterhub/team-compass\"}, {\"org\": \"jupyterhub\", \"repo\": \"the-littlest-jupyterhub\", \"number\": 6, \"org/repo\": \"jupyterhub/the-littlest-jupyterhub\"}, {\"org\": \"jupyterhub\", \"repo\": \"zero-to-jupyterhub-k8s\", \"number\": 16, \"org/repo\": \"jupyterhub/zero-to-jupyterhub-k8s\"}, {\"org\": \"jupyterlab\", \"repo\": \"debugger\", \"number\": 25, \"org/repo\": \"jupyterlab/debugger\"}, {\"org\": \"jupyterlab\", \"repo\": \"jupyterlab\", \"number\": 5, \"org/repo\": \"jupyterlab/jupyterlab\"}, {\"org\": \"jupyterlab\", \"repo\": \"jupyterlab-celltags\", \"number\": 1, \"org/repo\": \"jupyterlab/jupyterlab-celltags\"}, {\"org\": \"jupyterlab\", \"repo\": \"jupyterlab-commenting\", \"number\": 7, \"org/repo\": \"jupyterlab/jupyterlab-commenting\"}, {\"org\": \"jupyterlab\", \"repo\": \"jupyterlab-data-explorer\", \"number\": 6, \"org/repo\": \"jupyterlab/jupyterlab-data-explorer\"}, {\"org\": \"jupyterlab\", \"repo\": \"jupyterlab-git\", \"number\": 7, \"org/repo\": \"jupyterlab/jupyterlab-git\"}, {\"org\": \"jupyterlab\", \"repo\": \"jupyterlab-github\", \"number\": 1, \"org/repo\": \"jupyterlab/jupyterlab-github\"}, {\"org\": \"jupyterlab\", \"repo\": \"jupyterlab-hdf5\", \"number\": 4, \"org/repo\": \"jupyterlab/jupyterlab-hdf5\"}, {\"org\": \"jupyterlab\", \"repo\": \"jupyterlab-metadata-service\", \"number\": 12, \"org/repo\": \"jupyterlab/jupyterlab-metadata-service\"}, {\"org\": \"jupyterlab\", \"repo\": \"jupyterlab_apod\", \"number\": 1, \"org/repo\": \"jupyterlab/jupyterlab_apod\"}, {\"org\": \"jupyterlab\", \"repo\": \"team-compass\", \"number\": 5, \"org/repo\": \"jupyterlab/team-compass\"}]}};\n",
       "      var embedOpt = {\"mode\": \"vega-lite\"};\n",
       "\n",
       "      function showError(el, error){\n",
       "          el.innerHTML = ('<div class=\"error\" style=\"color:red;\">'\n",
       "                          + '<p>JavaScript Error: ' + error.message + '</p>'\n",
       "                          + \"<p>This usually means there's a typo in your chart specification. \"\n",
       "                          + \"See the javascript console for the full traceback.</p>\"\n",
       "                          + '</div>');\n",
       "          throw error;\n",
       "      }\n",
       "      const el = document.getElementById('altair-viz-5');\n",
       "      vegaEmbed(\"#altair-viz-5\", spec, embedOpt)\n",
       "        .catch(error => showError(el, error));\n",
       "    });\n",
       "\n",
       "  </script>"
      ],
      "text/plain": [
       "alt.Chart(...)"
      ]
     },
     "execution_count": 21,
     "metadata": {},
     "output_type": "execute_result"
    }
   ],
   "source": [
    "closed_counts = closed.groupby(['org', 'repo']).count()['number'].reset_index()\n",
    "closed_counts['org/repo'] = closed_counts.apply(lambda a: a['org'] + '/' + a['repo'], axis=1)\n",
    "sorted_vals = closed_counts.sort_values(['org', 'number'], ascending=False)['repo'].values\n",
    "alt.Chart(data=closed_counts, title=f\"Issues closed in the last {n_days} days\").mark_bar().encode(\n",
    "    x=alt.X('repo', sort=alt.Sort(sorted_vals.tolist())),\n",
    "    y='number',\n",
    "    color='org',\n",
    ")"
   ]
  },
  {
   "cell_type": "code",
   "execution_count": 22,
   "metadata": {
    "papermill": {
     "duration": 0.045576,
     "end_time": "2019-12-01T17:52:21.013276",
     "exception": false,
     "start_time": "2019-12-01T17:52:20.967700",
     "status": "completed"
    },
    "tags": []
   },
   "outputs": [],
   "source": [
    "created_closed = pd.merge(created_counts.rename(columns={'number': 'created'}).drop(columns='org/repo'),\n",
    "                          closed_counts.rename(columns={'number': 'closed'}).drop(columns='org/repo'),\n",
    "                          on=['org', 'repo'], how='outer')\n",
    "\n",
    "created_closed = pd.melt(created_closed, id_vars=['org', 'repo'], var_name=\"kind\", value_name=\"count\").replace(np.nan, 0)"
   ]
  },
  {
   "cell_type": "code",
   "execution_count": 23,
   "metadata": {
    "papermill": {
     "duration": 0.135623,
     "end_time": "2019-12-01T17:52:21.177301",
     "exception": false,
     "start_time": "2019-12-01T17:52:21.041678",
     "status": "completed"
    },
    "tags": []
   },
   "outputs": [
    {
     "data": {
      "text/html": [
       "\n",
       "  <style>\n",
       "    .error {\n",
       "        color: red;\n",
       "    }\n",
       "  </style>\n",
       "  <div id=\"altair-viz-6\"></div>\n",
       "  <script>\n",
       "    requirejs.config({\n",
       "        \"paths\": {\n",
       "            \"vega\": \"https://cdn.jsdelivr.net/npm//vega@5?noext\",\n",
       "            \"vega-lib\": \"https://cdn.jsdelivr.net/npm//vega-lib?noext\",\n",
       "            \"vega-lite\": \"https://cdn.jsdelivr.net/npm//vega-lite@3.4.0?noext\",\n",
       "            \"vega-embed\": \"https://cdn.jsdelivr.net/npm//vega-embed@5?noext\",\n",
       "        }\n",
       "    });\n",
       "    \n",
       "    require(['vega-embed'],function(vegaEmbed) {\n",
       "      var spec = {\"config\": {\"axisLeft\": {\"labelFontSize\": 15}, \"axisBottom\": {\"labelFontSize\": 15}}, \"hconcat\": [{\"data\": {\"name\": \"data-d751713988987e9331980363e24189ce\"}, \"mark\": \"bar\", \"encoding\": {\"color\": {\"type\": \"nominal\", \"field\": \"kind\"}, \"column\": {\"type\": \"nominal\", \"field\": \"repo\", \"header\": {\"labelFontSize\": 12, \"title\": \"Issue activity, last 31 days for binder-examples\", \"titleFontSize\": 15}}, \"x\": {\"type\": \"nominal\", \"axis\": {\"labelFontSize\": 15, \"title\": \"\"}, \"field\": \"kind\"}, \"y\": {\"type\": \"quantitative\", \"axis\": {\"labelFontSize\": 12, \"titleFontSize\": 15}, \"field\": \"count\"}}, \"width\": 120}, {\"data\": {\"name\": \"data-cc00fad469bab4a880a02e14da088dbb\"}, \"mark\": \"bar\", \"encoding\": {\"color\": {\"type\": \"nominal\", \"field\": \"kind\"}, \"column\": {\"type\": \"nominal\", \"field\": \"repo\", \"header\": {\"labelFontSize\": 12, \"title\": \"Issue activity, last 31 days for ipython\", \"titleFontSize\": 15}}, \"x\": {\"type\": \"nominal\", \"axis\": {\"labelFontSize\": 15, \"title\": \"\"}, \"field\": \"kind\"}, \"y\": {\"type\": \"quantitative\", \"axis\": {\"labelFontSize\": 12, \"titleFontSize\": 15}, \"field\": \"count\"}}, \"width\": 120}, {\"data\": {\"name\": \"data-a938e964b26ba1d4373d214bbeb6de32\"}, \"mark\": \"bar\", \"encoding\": {\"color\": {\"type\": \"nominal\", \"field\": \"kind\"}, \"column\": {\"type\": \"nominal\", \"field\": \"repo\", \"header\": {\"labelFontSize\": 12, \"title\": \"Issue activity, last 31 days for jupyter\", \"titleFontSize\": 15}}, \"x\": {\"type\": \"nominal\", \"axis\": {\"labelFontSize\": 15, \"title\": \"\"}, \"field\": \"kind\"}, \"y\": {\"type\": \"quantitative\", \"axis\": {\"labelFontSize\": 12, \"titleFontSize\": 15}, \"field\": \"count\"}}, \"width\": 120}, {\"data\": {\"name\": \"data-5e278653e35fd3ee3835dcaabeb6e80b\"}, \"mark\": \"bar\", \"encoding\": {\"color\": {\"type\": \"nominal\", \"field\": \"kind\"}, \"column\": {\"type\": \"nominal\", \"field\": \"repo\", \"header\": {\"labelFontSize\": 12, \"title\": \"Issue activity, last 31 days for jupyter-widgets\", \"titleFontSize\": 15}}, \"x\": {\"type\": \"nominal\", \"axis\": {\"labelFontSize\": 15, \"title\": \"\"}, \"field\": \"kind\"}, \"y\": {\"type\": \"quantitative\", \"axis\": {\"labelFontSize\": 12, \"titleFontSize\": 15}, \"field\": \"count\"}}, \"width\": 120}, {\"data\": {\"name\": \"data-64a876d3ac534791998aff3ed7494d81\"}, \"mark\": \"bar\", \"encoding\": {\"color\": {\"type\": \"nominal\", \"field\": \"kind\"}, \"column\": {\"type\": \"nominal\", \"field\": \"repo\", \"header\": {\"labelFontSize\": 12, \"title\": \"Issue activity, last 31 days for jupyterhub\", \"titleFontSize\": 15}}, \"x\": {\"type\": \"nominal\", \"axis\": {\"labelFontSize\": 15, \"title\": \"\"}, \"field\": \"kind\"}, \"y\": {\"type\": \"quantitative\", \"axis\": {\"labelFontSize\": 12, \"titleFontSize\": 15}, \"field\": \"count\"}}, \"width\": 120}, {\"data\": {\"name\": \"data-62c9a9baf203d8f5cdb212059444ce8d\"}, \"mark\": \"bar\", \"encoding\": {\"color\": {\"type\": \"nominal\", \"field\": \"kind\"}, \"column\": {\"type\": \"nominal\", \"field\": \"repo\", \"header\": {\"labelFontSize\": 12, \"title\": \"Issue activity, last 31 days for jupyterlab\", \"titleFontSize\": 15}}, \"x\": {\"type\": \"nominal\", \"axis\": {\"labelFontSize\": 15, \"title\": \"\"}, \"field\": \"kind\"}, \"y\": {\"type\": \"quantitative\", \"axis\": {\"labelFontSize\": 12, \"titleFontSize\": 15}, \"field\": \"count\"}}, \"width\": 120}], \"$schema\": \"https://vega.github.io/schema/vega-lite/v3.4.0.json\", \"datasets\": {\"data-d751713988987e9331980363e24189ce\": [], \"data-cc00fad469bab4a880a02e14da088dbb\": [{\"org\": \"ipython\", \"repo\": \"ipykernel\", \"kind\": \"created\", \"count\": 6.0}, {\"org\": \"ipython\", \"repo\": \"ipyparallel\", \"kind\": \"created\", \"count\": 2.0}, {\"org\": \"ipython\", \"repo\": \"ipython\", \"kind\": \"created\", \"count\": 11.0}, {\"org\": \"ipython\", \"repo\": \"xkcd-font\", \"kind\": \"created\", \"count\": 1.0}, {\"org\": \"ipython\", \"repo\": \"ipython-website\", \"kind\": \"created\", \"count\": 0.0}, {\"org\": \"ipython\", \"repo\": \"traitlets\", \"kind\": \"created\", \"count\": 0.0}, {\"org\": \"ipython\", \"repo\": \"ipykernel\", \"kind\": \"closed\", \"count\": 0.0}, {\"org\": \"ipython\", \"repo\": \"ipyparallel\", \"kind\": \"closed\", \"count\": 1.0}, {\"org\": \"ipython\", \"repo\": \"ipython\", \"kind\": \"closed\", \"count\": 4.0}, {\"org\": \"ipython\", \"repo\": \"xkcd-font\", \"kind\": \"closed\", \"count\": 0.0}, {\"org\": \"ipython\", \"repo\": \"ipython-website\", \"kind\": \"closed\", \"count\": 1.0}, {\"org\": \"ipython\", \"repo\": \"traitlets\", \"kind\": \"closed\", \"count\": 1.0}], \"data-a938e964b26ba1d4373d214bbeb6de32\": [{\"org\": \"jupyter\", \"repo\": \"enterprise_gateway\", \"kind\": \"created\", \"count\": 4.0}, {\"org\": \"jupyter\", \"repo\": \"governance\", \"kind\": \"created\", \"count\": 3.0}, {\"org\": \"jupyter\", \"repo\": \"jupyter\", \"kind\": \"created\", \"count\": 3.0}, {\"org\": \"jupyter\", \"repo\": \"jupyter-book\", \"kind\": \"created\", \"count\": 10.0}, {\"org\": \"jupyter\", \"repo\": \"jupyter_client\", \"kind\": \"created\", \"count\": 6.0}, {\"org\": \"jupyter\", \"repo\": \"jupyter_core\", \"kind\": \"created\", \"count\": 1.0}, {\"org\": \"jupyter\", \"repo\": \"nbconvert\", \"kind\": \"created\", \"count\": 3.0}, {\"org\": \"jupyter\", \"repo\": \"notebook\", \"kind\": \"created\", \"count\": 44.0}, {\"org\": \"jupyter\", \"repo\": \"qtconsole\", \"kind\": \"created\", \"count\": 5.0}, {\"org\": \"jupyter\", \"repo\": \"repo2docker\", \"kind\": \"created\", \"count\": 3.0}, {\"org\": \"jupyter\", \"repo\": \"enterprise_gateway\", \"kind\": \"closed\", \"count\": 3.0}, {\"org\": \"jupyter\", \"repo\": \"governance\", \"kind\": \"closed\", \"count\": 1.0}, {\"org\": \"jupyter\", \"repo\": \"jupyter\", \"kind\": \"closed\", \"count\": 1.0}, {\"org\": \"jupyter\", \"repo\": \"jupyter-book\", \"kind\": \"closed\", \"count\": 11.0}, {\"org\": \"jupyter\", \"repo\": \"jupyter_client\", \"kind\": \"closed\", \"count\": 1.0}, {\"org\": \"jupyter\", \"repo\": \"jupyter_core\", \"kind\": \"closed\", \"count\": 4.0}, {\"org\": \"jupyter\", \"repo\": \"nbconvert\", \"kind\": \"closed\", \"count\": 7.0}, {\"org\": \"jupyter\", \"repo\": \"notebook\", \"kind\": \"closed\", \"count\": 22.0}, {\"org\": \"jupyter\", \"repo\": \"qtconsole\", \"kind\": \"closed\", \"count\": 1.0}, {\"org\": \"jupyter\", \"repo\": \"repo2docker\", \"kind\": \"closed\", \"count\": 3.0}], \"data-5e278653e35fd3ee3835dcaabeb6e80b\": [{\"org\": \"jupyter-widgets\", \"repo\": \"ipyleaflet\", \"kind\": \"created\", \"count\": 3.0}, {\"org\": \"jupyter-widgets\", \"repo\": \"ipywidgets\", \"kind\": \"created\", \"count\": 7.0}, {\"org\": \"jupyter-widgets\", \"repo\": \"pythreejs\", \"kind\": \"created\", \"count\": 2.0}, {\"org\": \"jupyter-widgets\", \"repo\": \"traittypes\", \"kind\": \"created\", \"count\": 1.0}, {\"org\": \"jupyter-widgets\", \"repo\": \"widget-cookiecutter\", \"kind\": \"created\", \"count\": 2.0}, {\"org\": \"jupyter-widgets\", \"repo\": \"widget-ts-cookiecutter\", \"kind\": \"created\", \"count\": 2.0}, {\"org\": \"jupyter-widgets\", \"repo\": \"ipyleaflet\", \"kind\": \"closed\", \"count\": 1.0}, {\"org\": \"jupyter-widgets\", \"repo\": \"ipywidgets\", \"kind\": \"closed\", \"count\": 6.0}, {\"org\": \"jupyter-widgets\", \"repo\": \"pythreejs\", \"kind\": \"closed\", \"count\": 2.0}, {\"org\": \"jupyter-widgets\", \"repo\": \"traittypes\", \"kind\": \"closed\", \"count\": 0.0}, {\"org\": \"jupyter-widgets\", \"repo\": \"widget-cookiecutter\", \"kind\": \"closed\", \"count\": 7.0}, {\"org\": \"jupyter-widgets\", \"repo\": \"widget-ts-cookiecutter\", \"kind\": \"closed\", \"count\": 1.0}], \"data-64a876d3ac534791998aff3ed7494d81\": [{\"org\": \"jupyterhub\", \"repo\": \"binderhub\", \"kind\": \"created\", \"count\": 5.0}, {\"org\": \"jupyterhub\", \"repo\": \"chartpress\", \"kind\": \"created\", \"count\": 2.0}, {\"org\": \"jupyterhub\", \"repo\": \"jupyterhub\", \"kind\": \"created\", \"count\": 16.0}, {\"org\": \"jupyterhub\", \"repo\": \"mybinder.org-deploy\", \"kind\": \"created\", \"count\": 4.0}, {\"org\": \"jupyterhub\", \"repo\": \"nativeauthenticator\", \"kind\": \"created\", \"count\": 3.0}, {\"org\": \"jupyterhub\", \"repo\": \"team-compass\", \"kind\": \"created\", \"count\": 3.0}, {\"org\": \"jupyterhub\", \"repo\": \"the-littlest-jupyterhub\", \"kind\": \"created\", \"count\": 5.0}, {\"org\": \"jupyterhub\", \"repo\": \"zero-to-jupyterhub-k8s\", \"kind\": \"created\", \"count\": 7.0}, {\"org\": \"jupyterhub\", \"repo\": \"dockerspawner\", \"kind\": \"created\", \"count\": 0.0}, {\"org\": \"jupyterhub\", \"repo\": \"jupyter-rsession-proxy\", \"kind\": \"created\", \"count\": 0.0}, {\"org\": \"jupyterhub\", \"repo\": \"binderhub\", \"kind\": \"closed\", \"count\": 8.0}, {\"org\": \"jupyterhub\", \"repo\": \"chartpress\", \"kind\": \"closed\", \"count\": 10.0}, {\"org\": \"jupyterhub\", \"repo\": \"jupyterhub\", \"kind\": \"closed\", \"count\": 15.0}, {\"org\": \"jupyterhub\", \"repo\": \"mybinder.org-deploy\", \"kind\": \"closed\", \"count\": 1.0}, {\"org\": \"jupyterhub\", \"repo\": \"nativeauthenticator\", \"kind\": \"closed\", \"count\": 2.0}, {\"org\": \"jupyterhub\", \"repo\": \"team-compass\", \"kind\": \"closed\", \"count\": 4.0}, {\"org\": \"jupyterhub\", \"repo\": \"the-littlest-jupyterhub\", \"kind\": \"closed\", \"count\": 6.0}, {\"org\": \"jupyterhub\", \"repo\": \"zero-to-jupyterhub-k8s\", \"kind\": \"closed\", \"count\": 16.0}, {\"org\": \"jupyterhub\", \"repo\": \"dockerspawner\", \"kind\": \"closed\", \"count\": 3.0}, {\"org\": \"jupyterhub\", \"repo\": \"jupyter-rsession-proxy\", \"kind\": \"closed\", \"count\": 3.0}], \"data-62c9a9baf203d8f5cdb212059444ce8d\": [{\"org\": \"jupyterlab\", \"repo\": \"jupyterlab\", \"kind\": \"created\", \"count\": 45.0}, {\"org\": \"jupyterlab\", \"repo\": \"jupyterlab-celltags\", \"kind\": \"created\", \"count\": 1.0}, {\"org\": \"jupyterlab\", \"repo\": \"jupyterlab-data-explorer\", \"kind\": \"created\", \"count\": 8.0}, {\"org\": \"jupyterlab\", \"repo\": \"jupyterlab-git\", \"kind\": \"created\", \"count\": 4.0}, {\"org\": \"jupyterlab\", \"repo\": \"jupyterlab-hdf5\", \"kind\": \"created\", \"count\": 3.0}, {\"org\": \"jupyterlab\", \"repo\": \"jupyterlab-metadata-service\", \"kind\": \"created\", \"count\": 3.0}, {\"org\": \"jupyterlab\", \"repo\": \"team-compass\", \"kind\": \"created\", \"count\": 2.0}, {\"org\": \"jupyterlab\", \"repo\": \"debugger\", \"kind\": \"created\", \"count\": 0.0}, {\"org\": \"jupyterlab\", \"repo\": \"jupyterlab-commenting\", \"kind\": \"created\", \"count\": 0.0}, {\"org\": \"jupyterlab\", \"repo\": \"jupyterlab-github\", \"kind\": \"created\", \"count\": 0.0}, {\"org\": \"jupyterlab\", \"repo\": \"jupyterlab\", \"kind\": \"closed\", \"count\": 5.0}, {\"org\": \"jupyterlab\", \"repo\": \"jupyterlab-celltags\", \"kind\": \"closed\", \"count\": 1.0}, {\"org\": \"jupyterlab\", \"repo\": \"jupyterlab-data-explorer\", \"kind\": \"closed\", \"count\": 6.0}, {\"org\": \"jupyterlab\", \"repo\": \"jupyterlab-git\", \"kind\": \"closed\", \"count\": 7.0}, {\"org\": \"jupyterlab\", \"repo\": \"jupyterlab-hdf5\", \"kind\": \"closed\", \"count\": 4.0}, {\"org\": \"jupyterlab\", \"repo\": \"jupyterlab-metadata-service\", \"kind\": \"closed\", \"count\": 12.0}, {\"org\": \"jupyterlab\", \"repo\": \"team-compass\", \"kind\": \"closed\", \"count\": 5.0}, {\"org\": \"jupyterlab\", \"repo\": \"debugger\", \"kind\": \"closed\", \"count\": 25.0}, {\"org\": \"jupyterlab\", \"repo\": \"jupyterlab-commenting\", \"kind\": \"closed\", \"count\": 7.0}, {\"org\": \"jupyterlab\", \"repo\": \"jupyterlab-github\", \"kind\": \"closed\", \"count\": 1.0}]}};\n",
       "      var embedOpt = {\"mode\": \"vega-lite\"};\n",
       "\n",
       "      function showError(el, error){\n",
       "          el.innerHTML = ('<div class=\"error\" style=\"color:red;\">'\n",
       "                          + '<p>JavaScript Error: ' + error.message + '</p>'\n",
       "                          + \"<p>This usually means there's a typo in your chart specification. \"\n",
       "                          + \"See the javascript console for the full traceback.</p>\"\n",
       "                          + '</div>');\n",
       "          throw error;\n",
       "      }\n",
       "      const el = document.getElementById('altair-viz-6');\n",
       "      vegaEmbed(\"#altair-viz-6\", spec, embedOpt)\n",
       "        .catch(error => showError(el, error));\n",
       "    });\n",
       "\n",
       "  </script>"
      ],
      "text/plain": [
       "alt.HConcatChart(...)"
      ]
     },
     "execution_count": 23,
     "metadata": {},
     "output_type": "execute_result"
    }
   ],
   "source": [
    "charts = []\n",
    "for org in github_orgs:\n",
    "    # Pick the top 10 repositories\n",
    "    this_issues = created_closed.query('org == @org')\n",
    "    top_repos = this_issues.groupby(['repo']).sum().sort_values(by='count', ascending=False).head(10).index\n",
    "    ch = alt.Chart(this_issues.query('repo in @top_repos'), width=120).mark_bar().encode(\n",
    "        x=alt.X(\"kind\", axis=alt.Axis(labelFontSize=15, title=\"\")), \n",
    "        y=alt.Y('count', axis=alt.Axis(titleFontSize=15, labelFontSize=12)),\n",
    "        color='kind',\n",
    "        column=alt.Column(\"repo\", header=alt.Header(title=f\"Issue activity, last {n_days} days for {org}\", titleFontSize=15, labelFontSize=12))\n",
    "    )\n",
    "    charts.append(ch)\n",
    "alt.hconcat(*charts)"
   ]
  },
  {
   "cell_type": "code",
   "execution_count": 24,
   "metadata": {
    "papermill": {
     "duration": 0.041722,
     "end_time": "2019-12-01T17:52:21.239472",
     "exception": false,
     "start_time": "2019-12-01T17:52:21.197750",
     "status": "completed"
    },
    "tags": []
   },
   "outputs": [],
   "source": [
    "# Set to datetime\n",
    "for kind in ['createdAt', 'closedAt']:\n",
    "    closed.loc[:, kind] = pd.to_datetime(closed[kind])\n",
    "    \n",
    "closed.loc[:, 'time_open'] = closed['closedAt'] - closed['createdAt']\n",
    "closed.loc[:, 'time_open'] = closed['time_open'].dt.total_seconds()"
   ]
  },
  {
   "cell_type": "code",
   "execution_count": 25,
   "metadata": {
    "papermill": {
     "duration": 0.069835,
     "end_time": "2019-12-01T17:52:21.336888",
     "exception": false,
     "start_time": "2019-12-01T17:52:21.267053",
     "status": "completed"
    },
    "tags": []
   },
   "outputs": [
    {
     "data": {
      "text/html": [
       "\n",
       "  <style>\n",
       "    .error {\n",
       "        color: red;\n",
       "    }\n",
       "  </style>\n",
       "  <div id=\"altair-viz-7\"></div>\n",
       "  <script>\n",
       "    requirejs.config({\n",
       "        \"paths\": {\n",
       "            \"vega\": \"https://cdn.jsdelivr.net/npm//vega@5?noext\",\n",
       "            \"vega-lib\": \"https://cdn.jsdelivr.net/npm//vega-lib?noext\",\n",
       "            \"vega-lite\": \"https://cdn.jsdelivr.net/npm//vega-lite@3.4.0?noext\",\n",
       "            \"vega-embed\": \"https://cdn.jsdelivr.net/npm//vega-embed@5?noext\",\n",
       "        }\n",
       "    });\n",
       "    \n",
       "    require(['vega-embed'],function(vegaEmbed) {\n",
       "      var spec = {\"config\": {\"axisLeft\": {\"labelFontSize\": 15}, \"axisBottom\": {\"labelFontSize\": 15}}, \"data\": {\"name\": \"data-dbe0d5814838fb948f91be439dcd955e\"}, \"mark\": \"bar\", \"encoding\": {\"color\": {\"type\": \"nominal\", \"field\": \"org\"}, \"x\": {\"type\": \"nominal\", \"field\": \"repo\", \"sort\": [\"jupyterlab-metadata-service\", \"jupyterlab-commenting\", \"jupyterlab-git\", \"jupyterlab-data-explorer\", \"jupyterlab-hdf5\", \"jupyterlab-celltags\", \"jupyterlab_apod\", \"team-compass\", \"debugger\", \"jupyterlab\", \"jupyterlab-github\", \"helm-chart\", \"nativeauthenticator\", \"team-compass\", \"batchspawner\", \"jupyterhub\", \"zero-to-jupyterhub-k8s\", \"chartpress\", \"the-littlest-jupyterhub\", \"binderhub\", \"dockerspawner\", \"mybinder.org-deploy\", \"binder\", \"jupyter-rsession-proxy\", \"nbgitpuller\", \"widget-cookiecutter\", \"pythreejs\", \"ipywidgets\", \"ipyleaflet\", \"widget-ts-cookiecutter\", \"governance\", \"repo2docker\", \"kernel_gateway\", \"jupyter\", \"jupyter_client\", \"jupyter_core\", \"jupyter-book\", \"enterprise_gateway\", \"docker-stacks\", \"jupyter-sphinx\", \"nbconvert\", \"notebook\", \"nbviewer\", \"qtconsole\", \"ipython\", \"traitlets\", \"ipython-website\", \"ipyparallel\"]}, \"y\": {\"type\": \"quantitative\", \"field\": \"time_open\", \"title\": \"Median Days Open\"}}, \"title\": \"Time to close for issues closed in the last 31 days\", \"$schema\": \"https://vega.github.io/schema/vega-lite/v3.4.0.json\", \"datasets\": {\"data-dbe0d5814838fb948f91be439dcd955e\": [{\"org\": \"ipython\", \"repo\": \"ipyparallel\", \"time_open\": 0.0497337962962963, \"org/repo\": \"ipython/ipyparallel\"}, {\"org\": \"ipython\", \"repo\": \"ipython\", \"time_open\": 894.1972743055555, \"org/repo\": \"ipython/ipython\"}, {\"org\": \"ipython\", \"repo\": \"ipython-website\", \"time_open\": 7.425821759259259, \"org/repo\": \"ipython/ipython-website\"}, {\"org\": \"ipython\", \"repo\": \"traitlets\", \"time_open\": 52.2677662037037, \"org/repo\": \"ipython/traitlets\"}, {\"org\": \"jupyter\", \"repo\": \"docker-stacks\", \"time_open\": 1.967835648148148, \"org/repo\": \"jupyter/docker-stacks\"}, {\"org\": \"jupyter\", \"repo\": \"enterprise_gateway\", \"time_open\": 3.699247685185185, \"org/repo\": \"jupyter/enterprise_gateway\"}, {\"org\": \"jupyter\", \"repo\": \"governance\", \"time_open\": 765.9810532407408, \"org/repo\": \"jupyter/governance\"}, {\"org\": \"jupyter\", \"repo\": \"jupyter\", \"time_open\": 51.25473379629629, \"org/repo\": \"jupyter/jupyter\"}, {\"org\": \"jupyter\", \"repo\": \"jupyter-book\", \"time_open\": 4.844733796296296, \"org/repo\": \"jupyter/jupyter-book\"}, {\"org\": \"jupyter\", \"repo\": \"jupyter-sphinx\", \"time_open\": 1.3489351851851852, \"org/repo\": \"jupyter/jupyter-sphinx\"}, {\"org\": \"jupyter\", \"repo\": \"jupyter_client\", \"time_open\": 28.755613425925926, \"org/repo\": \"jupyter/jupyter_client\"}, {\"org\": \"jupyter\", \"repo\": \"jupyter_core\", \"time_open\": 7.8675752314814815, \"org/repo\": \"jupyter/jupyter_core\"}, {\"org\": \"jupyter\", \"repo\": \"kernel_gateway\", \"time_open\": 148.53961805555556, \"org/repo\": \"jupyter/kernel_gateway\"}, {\"org\": \"jupyter\", \"repo\": \"nbconvert\", \"time_open\": 1.0004976851851852, \"org/repo\": \"jupyter/nbconvert\"}, {\"org\": \"jupyter\", \"repo\": \"nbviewer\", \"time_open\": 0.30075810185185187, \"org/repo\": \"jupyter/nbviewer\"}, {\"org\": \"jupyter\", \"repo\": \"notebook\", \"time_open\": 0.44120949074074084, \"org/repo\": \"jupyter/notebook\"}, {\"org\": \"jupyter\", \"repo\": \"qtconsole\", \"time_open\": 0.21913194444444445, \"org/repo\": \"jupyter/qtconsole\"}, {\"org\": \"jupyter\", \"repo\": \"repo2docker\", \"time_open\": 379.1654166666667, \"org/repo\": \"jupyter/repo2docker\"}, {\"org\": \"jupyter-widgets\", \"repo\": \"ipyleaflet\", \"time_open\": 1.4072106481481483, \"org/repo\": \"jupyter-widgets/ipyleaflet\"}, {\"org\": \"jupyter-widgets\", \"repo\": \"ipywidgets\", \"time_open\": 1.988454861111111, \"org/repo\": \"jupyter-widgets/ipywidgets\"}, {\"org\": \"jupyter-widgets\", \"repo\": \"pythreejs\", \"time_open\": 8.935792824074074, \"org/repo\": \"jupyter-widgets/pythreejs\"}, {\"org\": \"jupyter-widgets\", \"repo\": \"widget-cookiecutter\", \"time_open\": 630.7954050925925, \"org/repo\": \"jupyter-widgets/widget-cookiecutter\"}, {\"org\": \"jupyter-widgets\", \"repo\": \"widget-ts-cookiecutter\", \"time_open\": 0.934699074074074, \"org/repo\": \"jupyter-widgets/widget-ts-cookiecutter\"}, {\"org\": \"jupyterhub\", \"repo\": \"batchspawner\", \"time_open\": 57.994305555555556, \"org/repo\": \"jupyterhub/batchspawner\"}, {\"org\": \"jupyterhub\", \"repo\": \"binder\", \"time_open\": 0.9026041666666667, \"org/repo\": \"jupyterhub/binder\"}, {\"org\": \"jupyterhub\", \"repo\": \"binderhub\", \"time_open\": 1.2216493055555555, \"org/repo\": \"jupyterhub/binderhub\"}, {\"org\": \"jupyterhub\", \"repo\": \"chartpress\", \"time_open\": 5.572395833333333, \"org/repo\": \"jupyterhub/chartpress\"}, {\"org\": \"jupyterhub\", \"repo\": \"dockerspawner\", \"time_open\": 1.1178819444444446, \"org/repo\": \"jupyterhub/dockerspawner\"}, {\"org\": \"jupyterhub\", \"repo\": \"helm-chart\", \"time_open\": 263.2872222222222, \"org/repo\": \"jupyterhub/helm-chart\"}, {\"org\": \"jupyterhub\", \"repo\": \"jupyter-rsession-proxy\", \"time_open\": 0.8461111111111111, \"org/repo\": \"jupyterhub/jupyter-rsession-proxy\"}, {\"org\": \"jupyterhub\", \"repo\": \"jupyterhub\", \"time_open\": 18.867175925925928, \"org/repo\": \"jupyterhub/jupyterhub\"}, {\"org\": \"jupyterhub\", \"repo\": \"mybinder.org-deploy\", \"time_open\": 1.051099537037037, \"org/repo\": \"jupyterhub/mybinder.org-deploy\"}, {\"org\": \"jupyterhub\", \"repo\": \"nativeauthenticator\", \"time_open\": 128.78347222222223, \"org/repo\": \"jupyterhub/nativeauthenticator\"}, {\"org\": \"jupyterhub\", \"repo\": \"nbgitpuller\", \"time_open\": 0.004421296296296296, \"org/repo\": \"jupyterhub/nbgitpuller\"}, {\"org\": \"jupyterhub\", \"repo\": \"team-compass\", \"time_open\": 59.41211226851852, \"org/repo\": \"jupyterhub/team-compass\"}, {\"org\": \"jupyterhub\", \"repo\": \"the-littlest-jupyterhub\", \"time_open\": 1.6595081018518518, \"org/repo\": \"jupyterhub/the-littlest-jupyterhub\"}, {\"org\": \"jupyterhub\", \"repo\": \"zero-to-jupyterhub-k8s\", \"time_open\": 11.593258101851852, \"org/repo\": \"jupyterhub/zero-to-jupyterhub-k8s\"}, {\"org\": \"jupyterlab\", \"repo\": \"debugger\", \"time_open\": 6.019050925925926, \"org/repo\": \"jupyterlab/debugger\"}, {\"org\": \"jupyterlab\", \"repo\": \"jupyterlab\", \"time_open\": 1.8687847222222222, \"org/repo\": \"jupyterlab/jupyterlab\"}, {\"org\": \"jupyterlab\", \"repo\": \"jupyterlab-celltags\", \"time_open\": 27.90761574074074, \"org/repo\": \"jupyterlab/jupyterlab-celltags\"}, {\"org\": \"jupyterlab\", \"repo\": \"jupyterlab-commenting\", \"time_open\": 201.99181712962962, \"org/repo\": \"jupyterlab/jupyterlab-commenting\"}, {\"org\": \"jupyterlab\", \"repo\": \"jupyterlab-data-explorer\", \"time_open\": 49.13664351851852, \"org/repo\": \"jupyterlab/jupyterlab-data-explorer\"}, {\"org\": \"jupyterlab\", \"repo\": \"jupyterlab-git\", \"time_open\": 51.47731481481482, \"org/repo\": \"jupyterlab/jupyterlab-git\"}, {\"org\": \"jupyterlab\", \"repo\": \"jupyterlab-github\", \"time_open\": 0.007141203703703703, \"org/repo\": \"jupyterlab/jupyterlab-github\"}, {\"org\": \"jupyterlab\", \"repo\": \"jupyterlab-hdf5\", \"time_open\": 28.29652199074074, \"org/repo\": \"jupyterlab/jupyterlab-hdf5\"}, {\"org\": \"jupyterlab\", \"repo\": \"jupyterlab-metadata-service\", \"time_open\": 223.73194444444445, \"org/repo\": \"jupyterlab/jupyterlab-metadata-service\"}, {\"org\": \"jupyterlab\", \"repo\": \"jupyterlab_apod\", \"time_open\": 12.144097222222221, \"org/repo\": \"jupyterlab/jupyterlab_apod\"}, {\"org\": \"jupyterlab\", \"repo\": \"team-compass\", \"time_open\": 7.019155092592593, \"org/repo\": \"jupyterlab/team-compass\"}]}};\n",
       "      var embedOpt = {\"mode\": \"vega-lite\"};\n",
       "\n",
       "      function showError(el, error){\n",
       "          el.innerHTML = ('<div class=\"error\" style=\"color:red;\">'\n",
       "                          + '<p>JavaScript Error: ' + error.message + '</p>'\n",
       "                          + \"<p>This usually means there's a typo in your chart specification. \"\n",
       "                          + \"See the javascript console for the full traceback.</p>\"\n",
       "                          + '</div>');\n",
       "          throw error;\n",
       "      }\n",
       "      const el = document.getElementById('altair-viz-7');\n",
       "      vegaEmbed(\"#altair-viz-7\", spec, embedOpt)\n",
       "        .catch(error => showError(el, error));\n",
       "    });\n",
       "\n",
       "  </script>"
      ],
      "text/plain": [
       "alt.Chart(...)"
      ]
     },
     "execution_count": 25,
     "metadata": {},
     "output_type": "execute_result"
    }
   ],
   "source": [
    "time_open = closed.groupby(['org', 'repo']).agg({'time_open': 'median'}).reset_index()\n",
    "time_open['time_open'] = time_open['time_open'] / (60 * 60 * 24)\n",
    "time_open['org/repo'] = time_open.apply(lambda a: a['org'] + '/' + a['repo'], axis=1)\n",
    "sorted_vals = time_open.sort_values(['org', 'time_open'], ascending=False)['repo'].values\n",
    "alt.Chart(data=time_open, title=f\"Time to close for issues closed in the last {n_days} days\").mark_bar().encode(\n",
    "    x=alt.X('repo', sort=alt.Sort(sorted_vals.tolist())),\n",
    "    y=alt.Y('time_open', title=\"Median Days Open\"),\n",
    "    color='org',\n",
    ")"
   ]
  },
  {
   "cell_type": "markdown",
   "metadata": {
    "papermill": {
     "duration": 0.025183,
     "end_time": "2019-12-01T17:52:21.389256",
     "exception": false,
     "start_time": "2019-12-01T17:52:21.364073",
     "status": "completed"
    },
    "tags": []
   },
   "source": [
    "### A list of recent issues\n",
    "\n",
    "Below is a list of issues with recent activity in each repository. If they seem of interest\n",
    "to you, click on their links and jump in to participate!"
   ]
  },
  {
   "cell_type": "code",
   "execution_count": 26,
   "metadata": {
    "papermill": {
     "duration": 0.046897,
     "end_time": "2019-12-01T17:52:21.461996",
     "exception": false,
     "start_time": "2019-12-01T17:52:21.415099",
     "status": "completed"
    },
    "tags": []
   },
   "outputs": [],
   "source": [
    "# Add comment count data to issues and PRs\n",
    "comment_counts = (\n",
    "    comments\n",
    "    .query(\"createdAt > @start_date and createdAt < @end_date\")\n",
    "    .groupby(['org', 'repo', 'issue_id'])\n",
    "    .count().iloc[:, 0].to_frame()\n",
    ")\n",
    "comment_counts.columns = ['n_comments']\n",
    "comment_counts = comment_counts.reset_index()"
   ]
  },
  {
   "cell_type": "code",
   "execution_count": 27,
   "metadata": {
    "papermill": {
     "duration": 0.504587,
     "end_time": "2019-12-01T17:52:21.994871",
     "exception": false,
     "start_time": "2019-12-01T17:52:21.490284",
     "status": "completed"
    },
    "tags": [
     "hide_input"
    ],
    "toc-hr-collapsed": false
   },
   "outputs": [
    {
     "data": {
      "text/markdown": [
       "Here are the top 5 active issues in each repository in the last 31 days"
      ],
      "text/plain": [
       "<IPython.core.display.Markdown object>"
      ]
     },
     "metadata": {},
     "output_type": "display_data"
    },
    {
     "data": {
      "application/vnd.jupyter.widget-view+json": {
       "model_id": "298ba2972c084d8f8657a770941f3290",
       "version_major": 2,
       "version_minor": 0
      },
      "text/plain": [
       "Tab(children=(HTML(value='<h4>binder-examples</h4>\\n<h5><a href=\"https://github.com/binder-examples/julia-pyth…"
      ]
     },
     "metadata": {},
     "output_type": "display_data"
    }
   ],
   "source": [
    "n_plot = 5\n",
    "tabs = widgets.Tab(children=[])\n",
    "for ii, (org, idata) in enumerate(comment_counts.groupby('org')):\n",
    "    issue_md = []\n",
    "    issue_md.append(f\"#### {org}\")\n",
    "    issue_md.append(\"\")\n",
    "    for repo, i_issues in idata.groupby('repo'):\n",
    "        issue_md.append(f\"##### [{org}/{repo}](https://github.com/{org}/{repo})\")\n",
    "\n",
    "        top_issues = i_issues.sort_values('n_comments', ascending=False).head(n_plot)\n",
    "        top_issue_list = pd.merge(issues, top_issues, left_on=['org', 'repo', 'number'], right_on=['org', 'repo', 'issue_id'])\n",
    "        for _, issue in top_issue_list.sort_values('n_comments', ascending=False).head(n_plot).iterrows():\n",
    "            user_name = issue['author']\n",
    "            user_url = author_url(user_name)\n",
    "            issue_number = issue['number']\n",
    "            issue_html = issue['url']\n",
    "            issue_title = issue['title']\n",
    "\n",
    "            text = f\"* [(#{issue_number})]({issue_html}): _{issue_title}_ by **[@{user_name}]({user_url})**\"\n",
    "            issue_md.append(text)\n",
    "\n",
    "    issue_md.append('')\n",
    "    md_html = HTML(markdown('\\n'.join(issue_md)))\n",
    "    \n",
    "    children = list(tabs.children)\n",
    "    children.append(HTML(markdown('\\n'.join(issue_md))))\n",
    "    tabs.children = tuple(children)\n",
    "    tabs.set_title(ii, org)\n",
    "    \n",
    "display(Markdown(f\"Here are the top {n_plot} active issues in each repository in the last {n_days} days\"))\n",
    "display(tabs)"
   ]
  },
  {
   "cell_type": "markdown",
   "metadata": {
    "papermill": {
     "duration": 0.029041,
     "end_time": "2019-12-01T17:52:22.046242",
     "exception": false,
     "start_time": "2019-12-01T17:52:22.017201",
     "status": "completed"
    },
    "tags": []
   },
   "source": [
    "## Commenters across repositories\n",
    "\n",
    "These are commenters across all issues and pull requests in the last several days.\n",
    "These are colored by the commenter's association with the organization. For information\n",
    "about what these associations mean, [see this StackOverflow post](https://stackoverflow.com/a/28866914/1927102)."
   ]
  },
  {
   "cell_type": "code",
   "execution_count": 28,
   "metadata": {
    "papermill": {
     "duration": 0.052472,
     "end_time": "2019-12-01T17:52:22.128756",
     "exception": false,
     "start_time": "2019-12-01T17:52:22.076284",
     "status": "completed"
    },
    "tags": []
   },
   "outputs": [],
   "source": [
    "commentors = (\n",
    "    comments\n",
    "    .query(\"createdAt > @start_date and createdAt < @end_date\")\n",
    "    .groupby(['org', 'repo', 'author', 'authorAssociation'])\n",
    "    .count().rename(columns={'id': 'count'})['count']\n",
    "    .reset_index()\n",
    "    .sort_values(['org', 'count'], ascending=False)\n",
    ")"
   ]
  },
  {
   "cell_type": "code",
   "execution_count": 29,
   "metadata": {
    "papermill": {
     "duration": 0.126509,
     "end_time": "2019-12-01T17:52:22.280951",
     "exception": false,
     "start_time": "2019-12-01T17:52:22.154442",
     "status": "completed"
    },
    "tags": []
   },
   "outputs": [
    {
     "data": {
      "text/html": [
       "\n",
       "  <style>\n",
       "    .error {\n",
       "        color: red;\n",
       "    }\n",
       "  </style>\n",
       "  <div id=\"altair-viz-8\"></div>\n",
       "  <script>\n",
       "    requirejs.config({\n",
       "        \"paths\": {\n",
       "            \"vega\": \"https://cdn.jsdelivr.net/npm//vega@5?noext\",\n",
       "            \"vega-lib\": \"https://cdn.jsdelivr.net/npm//vega-lib?noext\",\n",
       "            \"vega-lite\": \"https://cdn.jsdelivr.net/npm//vega-lite@3.4.0?noext\",\n",
       "            \"vega-embed\": \"https://cdn.jsdelivr.net/npm//vega-embed@5?noext\",\n",
       "        }\n",
       "    });\n",
       "    \n",
       "    require(['vega-embed'],function(vegaEmbed) {\n",
       "      var spec = {\"config\": {\"axisLeft\": {\"labelFontSize\": 15}, \"axisBottom\": {\"labelFontSize\": 15}}, \"hconcat\": [{\"data\": {\"name\": \"data-bd0ac463ed62130dd31bc6fff5691500\"}, \"mark\": \"bar\", \"encoding\": {\"color\": {\"type\": \"nominal\", \"field\": \"authorAssociation\", \"scale\": {\"domain\": [\"MEMBER\", \"CONTRIBUTOR\", \"COLLABORATOR\", \"NONE\"], \"range\": [\"rgb(211.82745098039214, 211.82745098039214, 211.82745098039214, 256.0)\", \"rgb(166.98562091503268, 229.89803921568628, 166.98562091503268, 256.0)\", \"rgb(96.37647058823529, 192.75294117647059, 96.37647058823529, 256.0)\", \"rgb(0.0, 100.3921568627451, 0.0, 256.0)\"]}}, \"x\": {\"type\": \"nominal\", \"field\": \"author\"}, \"y\": {\"type\": \"quantitative\", \"field\": \"count\"}}, \"title\": \"Top 50 commentors for binder-examples in the last 31 days\", \"width\": 1000}, {\"data\": {\"name\": \"data-53384211218345f5c71057ee9837dfa0\"}, \"mark\": \"bar\", \"encoding\": {\"color\": {\"type\": \"nominal\", \"field\": \"authorAssociation\", \"scale\": {\"domain\": [\"MEMBER\", \"CONTRIBUTOR\", \"COLLABORATOR\", \"NONE\"], \"range\": [\"rgb(211.82745098039214, 211.82745098039214, 211.82745098039214, 256.0)\", \"rgb(166.98562091503268, 229.89803921568628, 166.98562091503268, 256.0)\", \"rgb(96.37647058823529, 192.75294117647059, 96.37647058823529, 256.0)\", \"rgb(0.0, 100.3921568627451, 0.0, 256.0)\"]}}, \"x\": {\"type\": \"nominal\", \"field\": \"author\"}, \"y\": {\"type\": \"quantitative\", \"field\": \"count\"}}, \"title\": \"Top 50 commentors for ipython in the last 31 days\", \"width\": 1000}, {\"data\": {\"name\": \"data-13f967f50546c8d4a256ed006894e816\"}, \"mark\": \"bar\", \"encoding\": {\"color\": {\"type\": \"nominal\", \"field\": \"authorAssociation\", \"scale\": {\"domain\": [\"MEMBER\", \"CONTRIBUTOR\", \"COLLABORATOR\", \"NONE\"], \"range\": [\"rgb(211.82745098039214, 211.82745098039214, 211.82745098039214, 256.0)\", \"rgb(166.98562091503268, 229.89803921568628, 166.98562091503268, 256.0)\", \"rgb(96.37647058823529, 192.75294117647059, 96.37647058823529, 256.0)\", \"rgb(0.0, 100.3921568627451, 0.0, 256.0)\"]}}, \"x\": {\"type\": \"nominal\", \"field\": \"author\"}, \"y\": {\"type\": \"quantitative\", \"field\": \"count\"}}, \"title\": \"Top 50 commentors for jupyter in the last 31 days\", \"width\": 1000}, {\"data\": {\"name\": \"data-c496a7308cf4d7c1a3970fcade3d43bf\"}, \"mark\": \"bar\", \"encoding\": {\"color\": {\"type\": \"nominal\", \"field\": \"authorAssociation\", \"scale\": {\"domain\": [\"MEMBER\", \"CONTRIBUTOR\", \"COLLABORATOR\", \"NONE\"], \"range\": [\"rgb(211.82745098039214, 211.82745098039214, 211.82745098039214, 256.0)\", \"rgb(166.98562091503268, 229.89803921568628, 166.98562091503268, 256.0)\", \"rgb(96.37647058823529, 192.75294117647059, 96.37647058823529, 256.0)\", \"rgb(0.0, 100.3921568627451, 0.0, 256.0)\"]}}, \"x\": {\"type\": \"nominal\", \"field\": \"author\"}, \"y\": {\"type\": \"quantitative\", \"field\": \"count\"}}, \"title\": \"Top 50 commentors for jupyter-widgets in the last 31 days\", \"width\": 1000}, {\"data\": {\"name\": \"data-70f57c16503fc6be3dc1bb518e72d401\"}, \"mark\": \"bar\", \"encoding\": {\"color\": {\"type\": \"nominal\", \"field\": \"authorAssociation\", \"scale\": {\"domain\": [\"MEMBER\", \"CONTRIBUTOR\", \"COLLABORATOR\", \"NONE\"], \"range\": [\"rgb(211.82745098039214, 211.82745098039214, 211.82745098039214, 256.0)\", \"rgb(166.98562091503268, 229.89803921568628, 166.98562091503268, 256.0)\", \"rgb(96.37647058823529, 192.75294117647059, 96.37647058823529, 256.0)\", \"rgb(0.0, 100.3921568627451, 0.0, 256.0)\"]}}, \"x\": {\"type\": \"nominal\", \"field\": \"author\"}, \"y\": {\"type\": \"quantitative\", \"field\": \"count\"}}, \"title\": \"Top 50 commentors for jupyterhub in the last 31 days\", \"width\": 1000}, {\"data\": {\"name\": \"data-269681f61f9e4e97d1efe571e8cfc8cb\"}, \"mark\": \"bar\", \"encoding\": {\"color\": {\"type\": \"nominal\", \"field\": \"authorAssociation\", \"scale\": {\"domain\": [\"MEMBER\", \"CONTRIBUTOR\", \"COLLABORATOR\", \"NONE\"], \"range\": [\"rgb(211.82745098039214, 211.82745098039214, 211.82745098039214, 256.0)\", \"rgb(166.98562091503268, 229.89803921568628, 166.98562091503268, 256.0)\", \"rgb(96.37647058823529, 192.75294117647059, 96.37647058823529, 256.0)\", \"rgb(0.0, 100.3921568627451, 0.0, 256.0)\"]}}, \"x\": {\"type\": \"nominal\", \"field\": \"author\"}, \"y\": {\"type\": \"quantitative\", \"field\": \"count\"}}, \"title\": \"Top 50 commentors for jupyterlab in the last 31 days\", \"width\": 1000}], \"$schema\": \"https://vega.github.io/schema/vega-lite/v3.4.0.json\", \"datasets\": {\"data-bd0ac463ed62130dd31bc6fff5691500\": [{\"author\": \"choldgraf\", \"count\": 2, \"authorAssociation\": \"MEMBER\"}, {\"author\": \"yuvipanda\", \"count\": 2, \"authorAssociation\": \"MEMBER\"}, {\"author\": \"arokem\", \"count\": 1, \"authorAssociation\": \"NONE\"}, {\"author\": \"sepandms\", \"count\": 1, \"authorAssociation\": \"NONE\"}], \"data-53384211218345f5c71057ee9837dfa0\": [{\"author\": \"impact27\", \"count\": 22, \"authorAssociation\": \"CONTRIBUTOR\"}, {\"author\": \"Carreau\", \"count\": 12, \"authorAssociation\": \"MEMBER\"}, {\"author\": \"tacaswell\", \"count\": 11, \"authorAssociation\": \"NONE\"}, {\"author\": \"ccordoba12\", \"count\": 10, \"authorAssociation\": \"MEMBER\"}, {\"author\": \"PrometheusPi\", \"count\": 6, \"authorAssociation\": \"NONE\"}, {\"author\": \"blink1073\", \"count\": 4, \"authorAssociation\": \"MEMBER\"}, {\"author\": \"pauldmccarthy\", \"count\": 4, \"authorAssociation\": \"NONE\"}, {\"author\": \"takluyver\", \"count\": 3, \"authorAssociation\": \"MEMBER\"}, {\"author\": \"adammunich\", \"count\": 3, \"authorAssociation\": \"NONE\"}, {\"author\": \"dhirschfeld\", \"count\": 3, \"authorAssociation\": \"CONTRIBUTOR\"}, {\"author\": \"jorisvandenbossche\", \"count\": 2, \"authorAssociation\": \"CONTRIBUTOR\"}, {\"author\": \"kd2718\", \"count\": 2, \"authorAssociation\": \"CONTRIBUTOR\"}, {\"author\": \"minrk\", \"count\": 2, \"authorAssociation\": \"MEMBER\"}, {\"author\": \"soerenwolfers\", \"count\": 2, \"authorAssociation\": \"NONE\"}, {\"author\": \"hmaarrfk\", \"count\": 2, \"authorAssociation\": \"NONE\"}, {\"author\": \"GNSharmaa\", \"count\": 2, \"authorAssociation\": \"NONE\"}, {\"author\": \"normanius\", \"count\": 1, \"authorAssociation\": \"NONE\"}, {\"author\": \"omerb01\", \"count\": 1, \"authorAssociation\": \"NONE\"}, {\"author\": \"onietosi\", \"count\": 1, \"authorAssociation\": \"NONE\"}, {\"author\": \"pasenor\", \"count\": 1, \"authorAssociation\": \"CONTRIBUTOR\"}, {\"author\": \"ATidmore\", \"count\": 1, \"authorAssociation\": \"NONE\"}, {\"author\": \"rmorshea\", \"count\": 1, \"authorAssociation\": \"COLLABORATOR\"}, {\"author\": \"raphaelquast\", \"count\": 1, \"authorAssociation\": \"NONE\"}, {\"author\": \"leliel12\", \"count\": 1, \"authorAssociation\": \"NONE\"}, {\"author\": \"rohaldbUni\", \"count\": 1, \"authorAssociation\": \"NONE\"}, {\"author\": \"sangam-r\", \"count\": 1, \"authorAssociation\": \"NONE\"}, {\"author\": \"scoennz\", \"count\": 1, \"authorAssociation\": \"NONE\"}, {\"author\": \"stevendaprano\", \"count\": 1, \"authorAssociation\": \"NONE\"}, {\"author\": \"stevenleeS0ht\", \"count\": 1, \"authorAssociation\": \"NONE\"}, {\"author\": \"vaishnavi026\", \"count\": 1, \"authorAssociation\": \"NONE\"}, {\"author\": \"vangheem\", \"count\": 1, \"authorAssociation\": \"NONE\"}, {\"author\": \"vidartf\", \"count\": 1, \"authorAssociation\": \"NONE\"}, {\"author\": \"zhang-zhenyu\", \"count\": 1, \"authorAssociation\": \"NONE\"}, {\"author\": \"louismartin\", \"count\": 1, \"authorAssociation\": \"NONE\"}, {\"author\": \"jbfaden\", \"count\": 1, \"authorAssociation\": \"NONE\"}, {\"author\": \"kolypto\", \"count\": 1, \"authorAssociation\": \"NONE\"}, {\"author\": \"kevin-bates\", \"count\": 1, \"authorAssociation\": \"CONTRIBUTOR\"}, {\"author\": \"GetCurious\", \"count\": 1, \"authorAssociation\": \"NONE\"}, {\"author\": \"Heyuanfly\", \"count\": 1, \"authorAssociation\": \"NONE\"}, {\"author\": \"Lnaden\", \"count\": 1, \"authorAssociation\": \"NONE\"}, {\"author\": \"Schmidtbit\", \"count\": 1, \"authorAssociation\": \"NONE\"}, {\"author\": \"StevenRoland\", \"count\": 1, \"authorAssociation\": \"NONE\"}, {\"author\": \"amigrave\", \"count\": 1, \"authorAssociation\": \"NONE\"}, {\"author\": \"andres-fernandez-leon\", \"count\": 1, \"authorAssociation\": \"NONE\"}, {\"author\": \"anilsehgal-onscale\", \"count\": 1, \"authorAssociation\": \"NONE\"}, {\"author\": \"ankit404\", \"count\": 1, \"authorAssociation\": \"NONE\"}, {\"author\": \"arsdragonfly\", \"count\": 1, \"authorAssociation\": \"NONE\"}, {\"author\": \"astromancer\", \"count\": 1, \"authorAssociation\": \"NONE\"}, {\"author\": \"benjimin\", \"count\": 1, \"authorAssociation\": \"NONE\"}, {\"author\": \"bergtholdt\", \"count\": 1, \"authorAssociation\": \"CONTRIBUTOR\"}], \"data-13f967f50546c8d4a256ed006894e816\": [{\"author\": \"kevin-bates\", \"count\": 115, \"authorAssociation\": \"MEMBER\"}, {\"author\": \"choldgraf\", \"count\": 73, \"authorAssociation\": \"MEMBER\"}, {\"author\": \"Zsailer\", \"count\": 49, \"authorAssociation\": \"MEMBER\"}, {\"author\": \"echarles\", \"count\": 41, \"authorAssociation\": \"NONE\"}, {\"author\": \"MSeal\", \"count\": 35, \"authorAssociation\": \"MEMBER\"}, {\"author\": \"jasongrout\", \"count\": 33, \"authorAssociation\": \"MEMBER\"}, {\"author\": \"SylvainCorlay\", \"count\": 31, \"authorAssociation\": \"MEMBER\"}, {\"author\": \"seanpue\", \"count\": 22, \"authorAssociation\": \"CONTRIBUTOR\"}, {\"author\": \"krinsman\", \"count\": 22, \"authorAssociation\": \"CONTRIBUTOR\"}, {\"author\": \"takluyver\", \"count\": 19, \"authorAssociation\": \"MEMBER\"}, {\"author\": \"vidartf\", \"count\": 18, \"authorAssociation\": \"COLLABORATOR\"}, {\"author\": \"betatim\", \"count\": 17, \"authorAssociation\": \"MEMBER\"}, {\"author\": \"willingc\", \"count\": 17, \"authorAssociation\": \"MEMBER\"}, {\"author\": \"emdupre\", \"count\": 12, \"authorAssociation\": \"COLLABORATOR\"}, {\"author\": \"perllaghu\", \"count\": 12, \"authorAssociation\": \"MEMBER\"}, {\"author\": \"minrk\", \"count\": 10, \"authorAssociation\": \"MEMBER\"}, {\"author\": \"mgeier\", \"count\": 10, \"authorAssociation\": \"CONTRIBUTOR\"}, {\"author\": \"rgbkrk\", \"count\": 10, \"authorAssociation\": \"MEMBER\"}, {\"author\": \"vnijs\", \"count\": 9, \"authorAssociation\": \"NONE\"}, {\"author\": \"martinRenou\", \"count\": 9, \"authorAssociation\": \"MEMBER\"}, {\"author\": \"akhmerov\", \"count\": 9, \"authorAssociation\": \"MEMBER\"}, {\"author\": \"lresende\", \"count\": 8, \"authorAssociation\": \"MEMBER\"}, {\"author\": \"ellisonbg\", \"count\": 8, \"authorAssociation\": \"MEMBER\"}, {\"author\": \"parente\", \"count\": 8, \"authorAssociation\": \"MEMBER\"}, {\"author\": \"rolweber\", \"count\": 8, \"authorAssociation\": \"MEMBER\"}, {\"author\": \"jbweston\", \"count\": 8, \"authorAssociation\": \"MEMBER\"}, {\"author\": \"damianavila\", \"count\": 7, \"authorAssociation\": \"MEMBER\"}, {\"author\": \"manics\", \"count\": 7, \"authorAssociation\": \"CONTRIBUTOR\"}, {\"author\": \"nthiery\", \"count\": 7, \"authorAssociation\": \"CONTRIBUTOR\"}, {\"author\": \"Wildcarde\", \"count\": 6, \"authorAssociation\": \"NONE\"}, {\"author\": \"yuvipanda\", \"count\": 6, \"authorAssociation\": \"MEMBER\"}, {\"author\": \"abz53378\", \"count\": 6, \"authorAssociation\": \"CONTRIBUTOR\"}, {\"author\": \"Ruv7\", \"count\": 6, \"authorAssociation\": \"MEMBER\"}, {\"author\": \"pcr910303\", \"count\": 6, \"authorAssociation\": \"NONE\"}, {\"author\": \"jishanshaikh4\", \"count\": 6, \"authorAssociation\": \"NONE\"}, {\"author\": \"ccordoba12\", \"count\": 6, \"authorAssociation\": \"COLLABORATOR\"}, {\"author\": \"yli110-stat697\", \"count\": 5, \"authorAssociation\": \"NONE\"}, {\"author\": \"bollwyvl\", \"count\": 5, \"authorAssociation\": \"MEMBER\"}, {\"author\": \"psychemedia\", \"count\": 5, \"authorAssociation\": \"CONTRIBUTOR\"}, {\"author\": \"hadim\", \"count\": 5, \"authorAssociation\": \"NONE\"}, {\"author\": \"javag97\", \"count\": 5, \"authorAssociation\": \"NONE\"}, {\"author\": \"nuest\", \"count\": 5, \"authorAssociation\": \"CONTRIBUTOR\"}, {\"author\": \"srroh1\", \"count\": 5, \"authorAssociation\": \"NONE\"}, {\"author\": \"pablobernabeu\", \"count\": 5, \"authorAssociation\": \"CONTRIBUTOR\"}, {\"author\": \"lucabem\", \"count\": 5, \"authorAssociation\": \"NONE\"}, {\"author\": \"cyhsu\", \"count\": 5, \"authorAssociation\": \"NONE\"}, {\"author\": \"adah1972\", \"count\": 5, \"authorAssociation\": \"NONE\"}, {\"author\": \"t-makaro\", \"count\": 4, \"authorAssociation\": \"COLLABORATOR\"}, {\"author\": \"cornhundred\", \"count\": 4, \"authorAssociation\": \"NONE\"}, {\"author\": \"praveenkanamarlapudi\", \"count\": 4, \"authorAssociation\": \"NONE\"}], \"data-c496a7308cf4d7c1a3970fcade3d43bf\": [{\"author\": \"vidartf\", \"count\": 54, \"authorAssociation\": \"MEMBER\"}, {\"author\": \"jasongrout\", \"count\": 37, \"authorAssociation\": \"MEMBER\"}, {\"author\": \"martinRenou\", \"count\": 30, \"authorAssociation\": \"MEMBER\"}, {\"author\": \"xoolive\", \"count\": 12, \"authorAssociation\": \"CONTRIBUTOR\"}, {\"author\": \"sirbardo\", \"count\": 8, \"authorAssociation\": \"NONE\"}, {\"author\": \"SylvainCorlay\", \"count\": 7, \"authorAssociation\": \"MEMBER\"}, {\"author\": \"itcarroll\", \"count\": 7, \"authorAssociation\": \"NONE\"}, {\"author\": \"zerline\", \"count\": 7, \"authorAssociation\": \"CONTRIBUTOR\"}, {\"author\": \"alex4200\", \"count\": 7, \"authorAssociation\": \"NONE\"}, {\"author\": \"sbowman-mitre\", \"count\": 6, \"authorAssociation\": \"NONE\"}, {\"author\": \"maartenbreddels\", \"count\": 6, \"authorAssociation\": \"MEMBER\"}, {\"author\": \"mgeier\", \"count\": 5, \"authorAssociation\": \"CONTRIBUTOR\"}, {\"author\": \"deeplook\", \"count\": 5, \"authorAssociation\": \"CONTRIBUTOR\"}, {\"author\": \"damianavila\", \"count\": 3, \"authorAssociation\": \"CONTRIBUTOR\"}, {\"author\": \"Tronic\", \"count\": 3, \"authorAssociation\": \"NONE\"}, {\"author\": \"cocoaaa\", \"count\": 2, \"authorAssociation\": \"NONE\"}, {\"author\": \"rkalyanapurdue\", \"count\": 2, \"authorAssociation\": \"NONE\"}, {\"author\": \"rishabhmulani\", \"count\": 2, \"authorAssociation\": \"NONE\"}, {\"author\": \"mlucool\", \"count\": 2, \"authorAssociation\": \"NONE\"}, {\"author\": \"frankgerhardt\", \"count\": 2, \"authorAssociation\": \"NONE\"}, {\"author\": \"renefritze\", \"count\": 1, \"authorAssociation\": \"NONE\"}, {\"author\": \"mwcraig\", \"count\": 1, \"authorAssociation\": \"CONTRIBUTOR\"}, {\"author\": \"tanaygshah\", \"count\": 1, \"authorAssociation\": \"NONE\"}, {\"author\": \"wolfv\", \"count\": 1, \"authorAssociation\": \"NONE\"}, {\"author\": \"AbdulwaheedSalim\", \"count\": 1, \"authorAssociation\": \"NONE\"}, {\"author\": \"galaplexus\", \"count\": 1, \"authorAssociation\": \"NONE\"}, {\"author\": \"katsar0v\", \"count\": 1, \"authorAssociation\": \"NONE\"}, {\"author\": \"hagrid67\", \"count\": 1, \"authorAssociation\": \"NONE\"}, {\"author\": \"Dylan-Rich\", \"count\": 1, \"authorAssociation\": \"NONE\"}, {\"author\": \"evanreichard\", \"count\": 1, \"authorAssociation\": \"NONE\"}, {\"author\": \"eromoe\", \"count\": 1, \"authorAssociation\": \"NONE\"}, {\"author\": \"dkuegler\", \"count\": 1, \"authorAssociation\": \"NONE\"}, {\"author\": \"djhoese\", \"count\": 1, \"authorAssociation\": \"NONE\"}, {\"author\": \"dgasmith\", \"count\": 1, \"authorAssociation\": \"NONE\"}, {\"author\": \"davidbrochart\", \"count\": 1, \"authorAssociation\": \"CONTRIBUTOR\"}, {\"author\": \"dadamson\", \"count\": 1, \"authorAssociation\": \"NONE\"}, {\"author\": \"choonsiong\", \"count\": 1, \"authorAssociation\": \"NONE\"}, {\"author\": \"captainsafia\", \"count\": 1, \"authorAssociation\": \"CONTRIBUTOR\"}, {\"author\": \"bbgit-mn\", \"count\": 1, \"authorAssociation\": \"NONE\"}, {\"author\": \"aliddell\", \"count\": 1, \"authorAssociation\": \"NONE\"}, {\"author\": \"adityarar\", \"count\": 1, \"authorAssociation\": \"NONE\"}, {\"author\": \"zmk5\", \"count\": 1, \"authorAssociation\": \"NONE\"}], \"data-70f57c16503fc6be3dc1bb518e72d401\": [{\"author\": \"consideRatio\", \"count\": 99, \"authorAssociation\": \"MEMBER\"}, {\"author\": \"betatim\", \"count\": 86, \"authorAssociation\": \"MEMBER\"}, {\"author\": \"manics\", \"count\": 45, \"authorAssociation\": \"MEMBER\"}, {\"author\": \"sgibson91\", \"count\": 45, \"authorAssociation\": \"MEMBER\"}, {\"author\": \"choldgraf\", \"count\": 42, \"authorAssociation\": \"MEMBER\"}, {\"author\": \"minrk\", \"count\": 36, \"authorAssociation\": \"MEMBER\"}, {\"author\": \"bitnik\", \"count\": 28, \"authorAssociation\": \"CONTRIBUTOR\"}, {\"author\": \"yuvipanda\", \"count\": 21, \"authorAssociation\": \"MEMBER\"}, {\"author\": \"GeorgianaElena\", \"count\": 15, \"authorAssociation\": \"MEMBER\"}, {\"author\": \"ryogesh\", \"count\": 11, \"authorAssociation\": \"CONTRIBUTOR\"}, {\"author\": \"kinow\", \"count\": 10, \"authorAssociation\": \"CONTRIBUTOR\"}, {\"author\": \"willingc\", \"count\": 10, \"authorAssociation\": \"MEMBER\"}, {\"author\": \"mrow4a\", \"count\": 7, \"authorAssociation\": \"NONE\"}, {\"author\": \"clkao\", \"count\": 7, \"authorAssociation\": \"CONTRIBUTOR\"}, {\"author\": \"vindvaki\", \"count\": 6, \"authorAssociation\": \"NONE\"}, {\"author\": \"ltetrel\", \"count\": 6, \"authorAssociation\": \"NONE\"}, {\"author\": \"Xarthisius\", \"count\": 6, \"authorAssociation\": \"NONE\"}, {\"author\": \"jhamman\", \"count\": 5, \"authorAssociation\": \"CONTRIBUTOR\"}, {\"author\": \"cblomart\", \"count\": 5, \"authorAssociation\": \"NONE\"}, {\"author\": \"fzeiser\", \"count\": 5, \"authorAssociation\": \"CONTRIBUTOR\"}, {\"author\": \"jacobtomlinson\", \"count\": 5, \"authorAssociation\": \"NONE\"}, {\"author\": \"michitaro\", \"count\": 5, \"authorAssociation\": \"NONE\"}, {\"author\": \"akaszynski\", \"count\": 5, \"authorAssociation\": \"NONE\"}, {\"author\": \"pdurbin\", \"count\": 5, \"authorAssociation\": \"NONE\"}, {\"author\": \"rcthomas\", \"count\": 5, \"authorAssociation\": \"CONTRIBUTOR\"}, {\"author\": \"dhirschfeld\", \"count\": 4, \"authorAssociation\": \"COLLABORATOR\"}, {\"author\": \"filippo82\", \"count\": 4, \"authorAssociation\": \"NONE\"}, {\"author\": \"playermanny2\", \"count\": 4, \"authorAssociation\": \"NONE\"}, {\"author\": \"cometta\", \"count\": 4, \"authorAssociation\": \"NONE\"}, {\"author\": \"ryanlovett\", \"count\": 4, \"authorAssociation\": \"MEMBER\"}, {\"author\": \"bdrian\", \"count\": 4, \"authorAssociation\": \"CONTRIBUTOR\"}, {\"author\": \"sampathkethineedi\", \"count\": 4, \"authorAssociation\": \"NONE\"}, {\"author\": \"sunmakrules\", \"count\": 4, \"authorAssociation\": \"NONE\"}, {\"author\": \"trallard\", \"count\": 4, \"authorAssociation\": \"CONTRIBUTOR\"}, {\"author\": \"tyu0912\", \"count\": 4, \"authorAssociation\": \"NONE\"}, {\"author\": \"vilhelmen\", \"count\": 4, \"authorAssociation\": \"CONTRIBUTOR\"}, {\"author\": \"GrahamDumpleton\", \"count\": 4, \"authorAssociation\": \"CONTRIBUTOR\"}, {\"author\": \"Chrisjw42\", \"count\": 4, \"authorAssociation\": \"NONE\"}, {\"author\": \"hdlbq\", \"count\": 4, \"authorAssociation\": \"NONE\"}, {\"author\": \"AnotherCodeArtist\", \"count\": 3, \"authorAssociation\": \"CONTRIBUTOR\"}, {\"author\": \"jakepaw\", \"count\": 3, \"authorAssociation\": \"NONE\"}, {\"author\": \"metonymic-smokey\", \"count\": 3, \"authorAssociation\": \"NONE\"}, {\"author\": \"nuest\", \"count\": 3, \"authorAssociation\": \"CONTRIBUTOR\"}, {\"author\": \"rajat404\", \"count\": 3, \"authorAssociation\": \"NONE\"}, {\"author\": \"vnijs\", \"count\": 3, \"authorAssociation\": \"NONE\"}, {\"author\": \"dmpe\", \"count\": 3, \"authorAssociation\": \"NONE\"}, {\"author\": \"zhiyuli\", \"count\": 3, \"authorAssociation\": \"NONE\"}, {\"author\": \"Zsailer\", \"count\": 3, \"authorAssociation\": \"MEMBER\"}, {\"author\": \"BertR\", \"count\": 3, \"authorAssociation\": \"NONE\"}, {\"author\": \"heavenkong\", \"count\": 2, \"authorAssociation\": \"NONE\"}], \"data-269681f61f9e4e97d1efe571e8cfc8cb\": [{\"author\": \"jasongrout\", \"count\": 252, \"authorAssociation\": \"MEMBER\"}, {\"author\": \"jtpio\", \"count\": 145, \"authorAssociation\": \"MEMBER\"}, {\"author\": \"telamonian\", \"count\": 78, \"authorAssociation\": \"MEMBER\"}, {\"author\": \"vidartf\", \"count\": 77, \"authorAssociation\": \"MEMBER\"}, {\"author\": \"saulshanabrook\", \"count\": 70, \"authorAssociation\": \"MEMBER\"}, {\"author\": \"blink1073\", \"count\": 60, \"authorAssociation\": \"MEMBER\"}, {\"author\": \"KsavinN\", \"count\": 39, \"authorAssociation\": \"COLLABORATOR\"}, {\"author\": \"kgryte\", \"count\": 37, \"authorAssociation\": \"COLLABORATOR\"}, {\"author\": \"JohanMabille\", \"count\": 33, \"authorAssociation\": \"MEMBER\"}, {\"author\": \"fcollonval\", \"count\": 27, \"authorAssociation\": \"MEMBER\"}, {\"author\": \"ellisonbg\", \"count\": 23, \"authorAssociation\": \"MEMBER\"}, {\"author\": \"tgeorgeux\", \"count\": 22, \"authorAssociation\": \"MEMBER\"}, {\"author\": \"echarles\", \"count\": 17, \"authorAssociation\": \"MEMBER\"}, {\"author\": \"ian-r-rose\", \"count\": 16, \"authorAssociation\": \"MEMBER\"}, {\"author\": \"bw-space\", \"count\": 15, \"authorAssociation\": \"MEMBER\"}, {\"author\": \"ajbozarth\", \"count\": 14, \"authorAssociation\": \"CONTRIBUTOR\"}, {\"author\": \"mbektasbbg\", \"count\": 11, \"authorAssociation\": \"MEMBER\"}, {\"author\": \"sccolbert\", \"count\": 10, \"authorAssociation\": \"MEMBER\"}, {\"author\": \"Zsailer\", \"count\": 10, \"authorAssociation\": \"MEMBER\"}, {\"author\": \"katsar0v\", \"count\": 9, \"authorAssociation\": \"CONTRIBUTOR\"}, {\"author\": \"choldgraf\", \"count\": 7, \"authorAssociation\": \"MEMBER\"}, {\"author\": \"bollwyvl\", \"count\": 7, \"authorAssociation\": \"MEMBER\"}, {\"author\": \"mlucool\", \"count\": 7, \"authorAssociation\": \"CONTRIBUTOR\"}, {\"author\": \"benthayer\", \"count\": 6, \"authorAssociation\": \"MEMBER\"}, {\"author\": \"dkuegler\", \"count\": 6, \"authorAssociation\": \"NONE\"}, {\"author\": \"anki-code\", \"count\": 6, \"authorAssociation\": \"NONE\"}, {\"author\": \"eurydice76\", \"count\": 5, \"authorAssociation\": \"NONE\"}, {\"author\": \"jaipreet-s\", \"count\": 5, \"authorAssociation\": \"MEMBER\"}, {\"author\": \"stonebig\", \"count\": 5, \"authorAssociation\": \"MEMBER\"}, {\"author\": \"loremauro98\", \"count\": 5, \"authorAssociation\": \"NONE\"}, {\"author\": \"domoritz\", \"count\": 5, \"authorAssociation\": \"MEMBER\"}, {\"author\": \"timkpaine\", \"count\": 5, \"authorAssociation\": \"MEMBER\"}, {\"author\": \"LightTemplar\", \"count\": 5, \"authorAssociation\": \"NONE\"}, {\"author\": \"willibix\", \"count\": 5, \"authorAssociation\": \"NONE\"}, {\"author\": \"wolfv\", \"count\": 4, \"authorAssociation\": \"MEMBER\"}, {\"author\": \"lresende\", \"count\": 4, \"authorAssociation\": \"MEMBER\"}, {\"author\": \"martindurant\", \"count\": 4, \"authorAssociation\": \"MEMBER\"}, {\"author\": \"githubfzq\", \"count\": 4, \"authorAssociation\": \"NONE\"}, {\"author\": \"ksvensson8\", \"count\": 3, \"authorAssociation\": \"NONE\"}, {\"author\": \"wallneradam\", \"count\": 3, \"authorAssociation\": \"NONE\"}, {\"author\": \"AlcoholV\", \"count\": 3, \"authorAssociation\": \"NONE\"}, {\"author\": \"van-8\", \"count\": 3, \"authorAssociation\": \"MEMBER\"}, {\"author\": \"martinRenou\", \"count\": 3, \"authorAssociation\": \"MEMBER\"}, {\"author\": \"fonnesbeck\", \"count\": 3, \"authorAssociation\": \"MEMBER\"}, {\"author\": \"meeseeksdev\", \"count\": 3, \"authorAssociation\": \"NONE\"}, {\"author\": \"stefansimik\", \"count\": 3, \"authorAssociation\": \"NONE\"}, {\"author\": \"amangarg96\", \"count\": 3, \"authorAssociation\": \"NONE\"}, {\"author\": \"jolespin\", \"count\": 3, \"authorAssociation\": \"NONE\"}, {\"author\": \"b060149ee\", \"count\": 3, \"authorAssociation\": \"NONE\"}, {\"author\": \"ggosiang\", \"count\": 2, \"authorAssociation\": \"NONE\"}]}};\n",
       "      var embedOpt = {\"mode\": \"vega-lite\"};\n",
       "\n",
       "      function showError(el, error){\n",
       "          el.innerHTML = ('<div class=\"error\" style=\"color:red;\">'\n",
       "                          + '<p>JavaScript Error: ' + error.message + '</p>'\n",
       "                          + \"<p>This usually means there's a typo in your chart specification. \"\n",
       "                          + \"See the javascript console for the full traceback.</p>\"\n",
       "                          + '</div>');\n",
       "          throw error;\n",
       "      }\n",
       "      const el = document.getElementById('altair-viz-8');\n",
       "      vegaEmbed(\"#altair-viz-8\", spec, embedOpt)\n",
       "        .catch(error => showError(el, error));\n",
       "    });\n",
       "\n",
       "  </script>"
      ],
      "text/plain": [
       "alt.HConcatChart(...)"
      ]
     },
     "execution_count": 29,
     "metadata": {},
     "output_type": "execute_result"
    }
   ],
   "source": [
    "n_plot = 50\n",
    "charts = []\n",
    "for ii, (iorg, idata) in enumerate(commentors.groupby(['org'])):\n",
    "    title = f\"Top {n_plot} commentors for {iorg} in the last {n_days} days\"\n",
    "    idata = idata.groupby('author', as_index=False).agg({'count': 'sum', 'authorAssociation': 'first'})\n",
    "    idata = idata.sort_values('count', ascending=False).head(n_plot)\n",
    "    ch = alt.Chart(data=idata.head(n_plot), width=1000, title=title).mark_bar().encode(\n",
    "        x='author',\n",
    "        y='count',\n",
    "        color=alt.Color('authorAssociation', scale=alt.Scale(domain=author_types, range=author_colors))\n",
    "    )\n",
    "    charts.append(ch)\n",
    "alt.hconcat(*charts)"
   ]
  },
  {
   "cell_type": "markdown",
   "metadata": {
    "papermill": {
     "duration": 0.029437,
     "end_time": "2019-12-01T17:52:22.329628",
     "exception": false,
     "start_time": "2019-12-01T17:52:22.300191",
     "status": "completed"
    },
    "tags": []
   },
   "source": [
    "## First responders\n",
    "\n",
    "First responders are the first people to respond to a new issue in one of the repositories.\n",
    "The following plots show first responders for recently-created issues."
   ]
  },
  {
   "cell_type": "code",
   "execution_count": 30,
   "metadata": {
    "papermill": {
     "duration": 1.107208,
     "end_time": "2019-12-01T17:52:23.465522",
     "exception": false,
     "start_time": "2019-12-01T17:52:22.358314",
     "status": "completed"
    },
    "tags": []
   },
   "outputs": [],
   "source": [
    "first_comments = []\n",
    "for (org, repo, issue_id), i_comments in comments.groupby(['org', 'repo', 'issue_id']):\n",
    "    ix_min = pd.to_datetime(i_comments['createdAt']).idxmin()\n",
    "    first_comment = i_comments.loc[ix_min]\n",
    "    if isinstance(first_comment, pd.DataFrame):\n",
    "        first_comment = first_comment.iloc[0]\n",
    "    first_comments.append(first_comment)\n",
    "first_comments = pd.concat(first_comments, axis=1).T"
   ]
  },
  {
   "cell_type": "code",
   "execution_count": 31,
   "metadata": {
    "papermill": {
     "duration": 0.051998,
     "end_time": "2019-12-01T17:52:23.554993",
     "exception": false,
     "start_time": "2019-12-01T17:52:23.502995",
     "status": "completed"
    },
    "tags": []
   },
   "outputs": [],
   "source": [
    "first_responder_counts = first_comments.groupby(['org', 'author', 'authorAssociation'], as_index=False).\\\n",
    "    count().rename(columns={'id': 'n_first_responses'}).sort_values(['org', 'n_first_responses'], ascending=False)\n"
   ]
  },
  {
   "cell_type": "code",
   "execution_count": 32,
   "metadata": {
    "papermill": {
     "duration": 0.173821,
     "end_time": "2019-12-01T17:52:23.763974",
     "exception": false,
     "start_time": "2019-12-01T17:52:23.590153",
     "status": "completed"
    },
    "tags": []
   },
   "outputs": [
    {
     "data": {
      "text/html": [
       "\n",
       "  <style>\n",
       "    .error {\n",
       "        color: red;\n",
       "    }\n",
       "  </style>\n",
       "  <div id=\"altair-viz-9\"></div>\n",
       "  <script>\n",
       "    requirejs.config({\n",
       "        \"paths\": {\n",
       "            \"vega\": \"https://cdn.jsdelivr.net/npm//vega@5?noext\",\n",
       "            \"vega-lib\": \"https://cdn.jsdelivr.net/npm//vega-lib?noext\",\n",
       "            \"vega-lite\": \"https://cdn.jsdelivr.net/npm//vega-lite@3.4.0?noext\",\n",
       "            \"vega-embed\": \"https://cdn.jsdelivr.net/npm//vega-embed@5?noext\",\n",
       "        }\n",
       "    });\n",
       "    \n",
       "    require(['vega-embed'],function(vegaEmbed) {\n",
       "      var spec = {\"config\": {\"axisLeft\": {\"labelFontSize\": 15}, \"axisBottom\": {\"labelFontSize\": 15}}, \"hconcat\": [{\"data\": {\"name\": \"data-00520579ad416faea7acc30f31d04abe\"}, \"mark\": \"bar\", \"encoding\": {\"color\": {\"type\": \"nominal\", \"field\": \"authorAssociation\", \"scale\": {\"domain\": [\"MEMBER\", \"CONTRIBUTOR\", \"COLLABORATOR\", \"NONE\"], \"range\": [\"rgb(211.82745098039214, 211.82745098039214, 211.82745098039214, 256.0)\", \"rgb(166.98562091503268, 229.89803921568628, 166.98562091503268, 256.0)\", \"rgb(96.37647058823529, 192.75294117647059, 96.37647058823529, 256.0)\", \"rgb(0.0, 100.3921568627451, 0.0, 256.0)\"]}}, \"x\": {\"type\": \"nominal\", \"field\": \"author\"}, \"y\": {\"type\": \"quantitative\", \"field\": \"n_first_responses\"}}, \"title\": \"Top 50 first responders for binder-examples in the last 31 days\", \"width\": 1000}, {\"data\": {\"name\": \"data-ea7820093d44c8df6bd91a3513e40a18\"}, \"mark\": \"bar\", \"encoding\": {\"color\": {\"type\": \"nominal\", \"field\": \"authorAssociation\", \"scale\": {\"domain\": [\"MEMBER\", \"CONTRIBUTOR\", \"COLLABORATOR\", \"NONE\"], \"range\": [\"rgb(211.82745098039214, 211.82745098039214, 211.82745098039214, 256.0)\", \"rgb(166.98562091503268, 229.89803921568628, 166.98562091503268, 256.0)\", \"rgb(96.37647058823529, 192.75294117647059, 96.37647058823529, 256.0)\", \"rgb(0.0, 100.3921568627451, 0.0, 256.0)\"]}}, \"x\": {\"type\": \"nominal\", \"field\": \"author\"}, \"y\": {\"type\": \"quantitative\", \"field\": \"n_first_responses\"}}, \"title\": \"Top 50 first responders for ipython in the last 31 days\", \"width\": 1000}, {\"data\": {\"name\": \"data-30565003571a8952431ecf5e308e4e95\"}, \"mark\": \"bar\", \"encoding\": {\"color\": {\"type\": \"nominal\", \"field\": \"authorAssociation\", \"scale\": {\"domain\": [\"MEMBER\", \"CONTRIBUTOR\", \"COLLABORATOR\", \"NONE\"], \"range\": [\"rgb(211.82745098039214, 211.82745098039214, 211.82745098039214, 256.0)\", \"rgb(166.98562091503268, 229.89803921568628, 166.98562091503268, 256.0)\", \"rgb(96.37647058823529, 192.75294117647059, 96.37647058823529, 256.0)\", \"rgb(0.0, 100.3921568627451, 0.0, 256.0)\"]}}, \"x\": {\"type\": \"nominal\", \"field\": \"author\"}, \"y\": {\"type\": \"quantitative\", \"field\": \"n_first_responses\"}}, \"title\": \"Top 50 first responders for jupyter in the last 31 days\", \"width\": 1000}, {\"data\": {\"name\": \"data-61f4c870644cd9cfa3c2b8c9bed4cd78\"}, \"mark\": \"bar\", \"encoding\": {\"color\": {\"type\": \"nominal\", \"field\": \"authorAssociation\", \"scale\": {\"domain\": [\"MEMBER\", \"CONTRIBUTOR\", \"COLLABORATOR\", \"NONE\"], \"range\": [\"rgb(211.82745098039214, 211.82745098039214, 211.82745098039214, 256.0)\", \"rgb(166.98562091503268, 229.89803921568628, 166.98562091503268, 256.0)\", \"rgb(96.37647058823529, 192.75294117647059, 96.37647058823529, 256.0)\", \"rgb(0.0, 100.3921568627451, 0.0, 256.0)\"]}}, \"x\": {\"type\": \"nominal\", \"field\": \"author\"}, \"y\": {\"type\": \"quantitative\", \"field\": \"n_first_responses\"}}, \"title\": \"Top 50 first responders for jupyter-widgets in the last 31 days\", \"width\": 1000}, {\"data\": {\"name\": \"data-44789e0a69b3e74ae5384774411203be\"}, \"mark\": \"bar\", \"encoding\": {\"color\": {\"type\": \"nominal\", \"field\": \"authorAssociation\", \"scale\": {\"domain\": [\"MEMBER\", \"CONTRIBUTOR\", \"COLLABORATOR\", \"NONE\"], \"range\": [\"rgb(211.82745098039214, 211.82745098039214, 211.82745098039214, 256.0)\", \"rgb(166.98562091503268, 229.89803921568628, 166.98562091503268, 256.0)\", \"rgb(96.37647058823529, 192.75294117647059, 96.37647058823529, 256.0)\", \"rgb(0.0, 100.3921568627451, 0.0, 256.0)\"]}}, \"x\": {\"type\": \"nominal\", \"field\": \"author\"}, \"y\": {\"type\": \"quantitative\", \"field\": \"n_first_responses\"}}, \"title\": \"Top 50 first responders for jupyterhub in the last 31 days\", \"width\": 1000}, {\"data\": {\"name\": \"data-66a688933f008bf927ffe40f44a62745\"}, \"mark\": \"bar\", \"encoding\": {\"color\": {\"type\": \"nominal\", \"field\": \"authorAssociation\", \"scale\": {\"domain\": [\"MEMBER\", \"CONTRIBUTOR\", \"COLLABORATOR\", \"NONE\"], \"range\": [\"rgb(211.82745098039214, 211.82745098039214, 211.82745098039214, 256.0)\", \"rgb(166.98562091503268, 229.89803921568628, 166.98562091503268, 256.0)\", \"rgb(96.37647058823529, 192.75294117647059, 96.37647058823529, 256.0)\", \"rgb(0.0, 100.3921568627451, 0.0, 256.0)\"]}}, \"x\": {\"type\": \"nominal\", \"field\": \"author\"}, \"y\": {\"type\": \"quantitative\", \"field\": \"n_first_responses\"}}, \"title\": \"Top 50 first responders for jupyterlab in the last 31 days\", \"width\": 1000}], \"$schema\": \"https://vega.github.io/schema/vega-lite/v3.4.0.json\", \"datasets\": {\"data-00520579ad416faea7acc30f31d04abe\": [{\"author\": \"choldgraf\", \"n_first_responses\": 1, \"authorAssociation\": \"MEMBER\"}, {\"author\": \"yuvipanda\", \"n_first_responses\": 1, \"authorAssociation\": \"MEMBER\"}], \"data-ea7820093d44c8df6bd91a3513e40a18\": [{\"author\": \"Carreau\", \"n_first_responses\": 11, \"authorAssociation\": \"MEMBER\"}, {\"author\": \"impact27\", \"n_first_responses\": 3, \"authorAssociation\": \"CONTRIBUTOR\"}, {\"author\": \"ccordoba12\", \"n_first_responses\": 3, \"authorAssociation\": \"MEMBER\"}, {\"author\": \"jorisvandenbossche\", \"n_first_responses\": 2, \"authorAssociation\": \"CONTRIBUTOR\"}, {\"author\": \"tacaswell\", \"n_first_responses\": 2, \"authorAssociation\": \"CONTRIBUTOR\"}, {\"author\": \"pauldmccarthy\", \"n_first_responses\": 1, \"authorAssociation\": \"NONE\"}, {\"author\": \"kolypto\", \"n_first_responses\": 1, \"authorAssociation\": \"NONE\"}, {\"author\": \"leliel12\", \"n_first_responses\": 1, \"authorAssociation\": \"NONE\"}, {\"author\": \"louismartin\", \"n_first_responses\": 1, \"authorAssociation\": \"NONE\"}, {\"author\": \"minrk\", \"n_first_responses\": 1, \"authorAssociation\": \"MEMBER\"}, {\"author\": \"normanius\", \"n_first_responses\": 1, \"authorAssociation\": \"NONE\"}, {\"author\": \"onietosi\", \"n_first_responses\": 1, \"authorAssociation\": \"NONE\"}, {\"author\": \"pasenor\", \"n_first_responses\": 1, \"authorAssociation\": \"CONTRIBUTOR\"}, {\"author\": \"ATidmore\", \"n_first_responses\": 1, \"authorAssociation\": \"NONE\"}, {\"author\": \"kd2718\", \"n_first_responses\": 1, \"authorAssociation\": \"CONTRIBUTOR\"}, {\"author\": \"sangam-r\", \"n_first_responses\": 1, \"authorAssociation\": \"NONE\"}, {\"author\": \"scoennz\", \"n_first_responses\": 1, \"authorAssociation\": \"NONE\"}, {\"author\": \"soerenwolfers\", \"n_first_responses\": 1, \"authorAssociation\": \"NONE\"}, {\"author\": \"stevenleeS0ht\", \"n_first_responses\": 1, \"authorAssociation\": \"NONE\"}, {\"author\": \"takluyver\", \"n_first_responses\": 1, \"authorAssociation\": \"MEMBER\"}, {\"author\": \"vaishnavi026\", \"n_first_responses\": 1, \"authorAssociation\": \"NONE\"}, {\"author\": \"vangheem\", \"n_first_responses\": 1, \"authorAssociation\": \"NONE\"}, {\"author\": \"vidartf\", \"n_first_responses\": 1, \"authorAssociation\": \"NONE\"}, {\"author\": \"yuhang-lin\", \"n_first_responses\": 1, \"authorAssociation\": \"NONE\"}, {\"author\": \"rohaldbUni\", \"n_first_responses\": 1, \"authorAssociation\": \"NONE\"}, {\"author\": \"jbfaden\", \"n_first_responses\": 1, \"authorAssociation\": \"NONE\"}, {\"author\": \"joshathan\", \"n_first_responses\": 1, \"authorAssociation\": \"NONE\"}, {\"author\": \"ankit404\", \"n_first_responses\": 1, \"authorAssociation\": \"NONE\"}, {\"author\": \"GNSharmaa\", \"n_first_responses\": 1, \"authorAssociation\": \"NONE\"}, {\"author\": \"GetCurious\", \"n_first_responses\": 1, \"authorAssociation\": \"NONE\"}, {\"author\": \"Heyuanfly\", \"n_first_responses\": 1, \"authorAssociation\": \"NONE\"}, {\"author\": \"Lnaden\", \"n_first_responses\": 1, \"authorAssociation\": \"NONE\"}, {\"author\": \"adammunich\", \"n_first_responses\": 1, \"authorAssociation\": \"NONE\"}, {\"author\": \"amigrave\", \"n_first_responses\": 1, \"authorAssociation\": \"NONE\"}, {\"author\": \"andres-fernandez-leon\", \"n_first_responses\": 1, \"authorAssociation\": \"NONE\"}, {\"author\": \"anilsehgal-onscale\", \"n_first_responses\": 1, \"authorAssociation\": \"NONE\"}, {\"author\": \"arsdragonfly\", \"n_first_responses\": 1, \"authorAssociation\": \"NONE\"}, {\"author\": \"fisadev\", \"n_first_responses\": 1, \"authorAssociation\": \"NONE\"}, {\"author\": \"astromancer\", \"n_first_responses\": 1, \"authorAssociation\": \"NONE\"}, {\"author\": \"benjimin\", \"n_first_responses\": 1, \"authorAssociation\": \"NONE\"}, {\"author\": \"blink1073\", \"n_first_responses\": 1, \"authorAssociation\": \"MEMBER\"}, {\"author\": \"boyanghe\", \"n_first_responses\": 1, \"authorAssociation\": \"NONE\"}, {\"author\": \"btel\", \"n_first_responses\": 1, \"authorAssociation\": \"NONE\"}, {\"author\": \"dhirschfeld\", \"n_first_responses\": 1, \"authorAssociation\": \"CONTRIBUTOR\"}, {\"author\": \"esvhd\", \"n_first_responses\": 1, \"authorAssociation\": \"NONE\"}, {\"author\": \"fhgd\", \"n_first_responses\": 1, \"authorAssociation\": \"NONE\"}, {\"author\": \"zhang-zhenyu\", \"n_first_responses\": 1, \"authorAssociation\": \"NONE\"}], \"data-30565003571a8952431ecf5e308e4e95\": [{\"author\": \"choldgraf\", \"n_first_responses\": 35, \"authorAssociation\": \"MEMBER\"}, {\"author\": \"kevin-bates\", \"n_first_responses\": 19, \"authorAssociation\": \"MEMBER\"}, {\"author\": \"Zsailer\", \"n_first_responses\": 14, \"authorAssociation\": \"MEMBER\"}, {\"author\": \"takluyver\", \"n_first_responses\": 9, \"authorAssociation\": \"MEMBER\"}, {\"author\": \"MSeal\", \"n_first_responses\": 9, \"authorAssociation\": \"MEMBER\"}, {\"author\": \"krinsman\", \"n_first_responses\": 9, \"authorAssociation\": \"CONTRIBUTOR\"}, {\"author\": \"minrk\", \"n_first_responses\": 6, \"authorAssociation\": \"MEMBER\"}, {\"author\": \"jasongrout\", \"n_first_responses\": 6, \"authorAssociation\": \"MEMBER\"}, {\"author\": \"jishanshaikh4\", \"n_first_responses\": 6, \"authorAssociation\": \"NONE\"}, {\"author\": \"perllaghu\", \"n_first_responses\": 5, \"authorAssociation\": \"MEMBER\"}, {\"author\": \"emdupre\", \"n_first_responses\": 5, \"authorAssociation\": \"COLLABORATOR\"}, {\"author\": \"ccordoba12\", \"n_first_responses\": 5, \"authorAssociation\": \"COLLABORATOR\"}, {\"author\": \"echarles\", \"n_first_responses\": 5, \"authorAssociation\": \"NONE\"}, {\"author\": \"SylvainCorlay\", \"n_first_responses\": 5, \"authorAssociation\": \"MEMBER\"}, {\"author\": \"mgeier\", \"n_first_responses\": 4, \"authorAssociation\": \"CONTRIBUTOR\"}, {\"author\": \"betatim\", \"n_first_responses\": 4, \"authorAssociation\": \"MEMBER\"}, {\"author\": \"seanpue\", \"n_first_responses\": 4, \"authorAssociation\": \"CONTRIBUTOR\"}, {\"author\": \"willingc\", \"n_first_responses\": 4, \"authorAssociation\": \"MEMBER\"}, {\"author\": \"vidartf\", \"n_first_responses\": 4, \"authorAssociation\": \"COLLABORATOR\"}, {\"author\": \"manics\", \"n_first_responses\": 3, \"authorAssociation\": \"CONTRIBUTOR\"}, {\"author\": \"Bidek56\", \"n_first_responses\": 3, \"authorAssociation\": \"CONTRIBUTOR\"}, {\"author\": \"akhmerov\", \"n_first_responses\": 3, \"authorAssociation\": \"MEMBER\"}, {\"author\": \"rgbkrk\", \"n_first_responses\": 3, \"authorAssociation\": \"MEMBER\"}, {\"author\": \"lresende\", \"n_first_responses\": 3, \"authorAssociation\": \"MEMBER\"}, {\"author\": \"hadim\", \"n_first_responses\": 3, \"authorAssociation\": \"NONE\"}, {\"author\": \"jbweston\", \"n_first_responses\": 3, \"authorAssociation\": \"MEMBER\"}, {\"author\": \"nthiery\", \"n_first_responses\": 3, \"authorAssociation\": \"CONTRIBUTOR\"}, {\"author\": \"axil\", \"n_first_responses\": 2, \"authorAssociation\": \"NONE\"}, {\"author\": \"rbeesley\", \"n_first_responses\": 2, \"authorAssociation\": \"CONTRIBUTOR\"}, {\"author\": \"elesiuta\", \"n_first_responses\": 2, \"authorAssociation\": \"NONE\"}, {\"author\": \"haobibo\", \"n_first_responses\": 2, \"authorAssociation\": \"CONTRIBUTOR\"}, {\"author\": \"rolweber\", \"n_first_responses\": 2, \"authorAssociation\": \"MEMBER\"}, {\"author\": \"akskuchi\", \"n_first_responses\": 2, \"authorAssociation\": \"NONE\"}, {\"author\": \"mpacer\", \"n_first_responses\": 2, \"authorAssociation\": \"MEMBER\"}, {\"author\": \"cornhundred\", \"n_first_responses\": 2, \"authorAssociation\": \"NONE\"}, {\"author\": \"yuvipanda\", \"n_first_responses\": 2, \"authorAssociation\": \"MEMBER\"}, {\"author\": \"psychemedia\", \"n_first_responses\": 2, \"authorAssociation\": \"CONTRIBUTOR\"}, {\"author\": \"hroncok\", \"n_first_responses\": 2, \"authorAssociation\": \"NONE\"}, {\"author\": \"BertR\", \"n_first_responses\": 2, \"authorAssociation\": \"MEMBER\"}, {\"author\": \"JohannaHillebrand\", \"n_first_responses\": 2, \"authorAssociation\": \"NONE\"}, {\"author\": \"Juanlu001\", \"n_first_responses\": 2, \"authorAssociation\": \"NONE\"}, {\"author\": \"tgeorgeux\", \"n_first_responses\": 2, \"authorAssociation\": \"MEMBER\"}, {\"author\": \"wenmin-wu\", \"n_first_responses\": 2, \"authorAssociation\": \"NONE\"}, {\"author\": \"madpiano\", \"n_first_responses\": 1, \"authorAssociation\": \"NONE\"}, {\"author\": \"laowantong\", \"n_first_responses\": 1, \"authorAssociation\": \"NONE\"}, {\"author\": \"leinad87\", \"n_first_responses\": 1, \"authorAssociation\": \"NONE\"}, {\"author\": \"lokeshh\", \"n_first_responses\": 1, \"authorAssociation\": \"NONE\"}, {\"author\": \"vallme2003\", \"n_first_responses\": 1, \"authorAssociation\": \"NONE\"}, {\"author\": \"lucadealfaro\", \"n_first_responses\": 1, \"authorAssociation\": \"NONE\"}, {\"author\": \"valerybriz\", \"n_first_responses\": 1, \"authorAssociation\": \"NONE\"}], \"data-61f4c870644cd9cfa3c2b8c9bed4cd78\": [{\"author\": \"vidartf\", \"n_first_responses\": 19, \"authorAssociation\": \"MEMBER\"}, {\"author\": \"martinRenou\", \"n_first_responses\": 10, \"authorAssociation\": \"MEMBER\"}, {\"author\": \"jasongrout\", \"n_first_responses\": 8, \"authorAssociation\": \"MEMBER\"}, {\"author\": \"zerline\", \"n_first_responses\": 3, \"authorAssociation\": \"CONTRIBUTOR\"}, {\"author\": \"mgeier\", \"n_first_responses\": 3, \"authorAssociation\": \"CONTRIBUTOR\"}, {\"author\": \"deeplook\", \"n_first_responses\": 2, \"authorAssociation\": \"CONTRIBUTOR\"}, {\"author\": \"xoolive\", \"n_first_responses\": 2, \"authorAssociation\": \"CONTRIBUTOR\"}, {\"author\": \"SylvainCorlay\", \"n_first_responses\": 2, \"authorAssociation\": \"MEMBER\"}, {\"author\": \"maartenbreddels\", \"n_first_responses\": 2, \"authorAssociation\": \"MEMBER\"}, {\"author\": \"djhoese\", \"n_first_responses\": 1, \"authorAssociation\": \"NONE\"}, {\"author\": \"rishabhmulani\", \"n_first_responses\": 1, \"authorAssociation\": \"NONE\"}, {\"author\": \"Tronic\", \"n_first_responses\": 1, \"authorAssociation\": \"NONE\"}, {\"author\": \"adityarar\", \"n_first_responses\": 1, \"authorAssociation\": \"NONE\"}, {\"author\": \"tanaygshah\", \"n_first_responses\": 1, \"authorAssociation\": \"NONE\"}, {\"author\": \"sirbardo\", \"n_first_responses\": 1, \"authorAssociation\": \"NONE\"}, {\"author\": \"sbowman-mitre\", \"n_first_responses\": 1, \"authorAssociation\": \"NONE\"}, {\"author\": \"rkalyanapurdue\", \"n_first_responses\": 1, \"authorAssociation\": \"NONE\"}, {\"author\": \"renefritze\", \"n_first_responses\": 1, \"authorAssociation\": \"NONE\"}, {\"author\": \"evanreichard\", \"n_first_responses\": 1, \"authorAssociation\": \"NONE\"}, {\"author\": \"mlucool\", \"n_first_responses\": 1, \"authorAssociation\": \"NONE\"}, {\"author\": \"alex4200\", \"n_first_responses\": 1, \"authorAssociation\": \"NONE\"}, {\"author\": \"choonsiong\", \"n_first_responses\": 1, \"authorAssociation\": \"NONE\"}, {\"author\": \"cocoaaa\", \"n_first_responses\": 1, \"authorAssociation\": \"NONE\"}, {\"author\": \"katsar0v\", \"n_first_responses\": 1, \"authorAssociation\": \"NONE\"}, {\"author\": \"dadamson\", \"n_first_responses\": 1, \"authorAssociation\": \"NONE\"}, {\"author\": \"AbdulwaheedSalim\", \"n_first_responses\": 1, \"authorAssociation\": \"NONE\"}], \"data-44789e0a69b3e74ae5384774411203be\": [{\"author\": \"betatim\", \"n_first_responses\": 31, \"authorAssociation\": \"MEMBER\"}, {\"author\": \"consideRatio\", \"n_first_responses\": 31, \"authorAssociation\": \"MEMBER\"}, {\"author\": \"minrk\", \"n_first_responses\": 14, \"authorAssociation\": \"MEMBER\"}, {\"author\": \"manics\", \"n_first_responses\": 11, \"authorAssociation\": \"MEMBER\"}, {\"author\": \"yuvipanda\", \"n_first_responses\": 10, \"authorAssociation\": \"MEMBER\"}, {\"author\": \"GeorgianaElena\", \"n_first_responses\": 8, \"authorAssociation\": \"MEMBER\"}, {\"author\": \"sgibson91\", \"n_first_responses\": 8, \"authorAssociation\": \"MEMBER\"}, {\"author\": \"choldgraf\", \"n_first_responses\": 7, \"authorAssociation\": \"MEMBER\"}, {\"author\": \"ryogesh\", \"n_first_responses\": 7, \"authorAssociation\": \"CONTRIBUTOR\"}, {\"author\": \"kinow\", \"n_first_responses\": 5, \"authorAssociation\": \"CONTRIBUTOR\"}, {\"author\": \"cblomart\", \"n_first_responses\": 4, \"authorAssociation\": \"NONE\"}, {\"author\": \"akaszynski\", \"n_first_responses\": 4, \"authorAssociation\": \"NONE\"}, {\"author\": \"willingc\", \"n_first_responses\": 3, \"authorAssociation\": \"MEMBER\"}, {\"author\": \"mrow4a\", \"n_first_responses\": 3, \"authorAssociation\": \"NONE\"}, {\"author\": \"trallard\", \"n_first_responses\": 3, \"authorAssociation\": \"CONTRIBUTOR\"}, {\"author\": \"bitnik\", \"n_first_responses\": 3, \"authorAssociation\": \"CONTRIBUTOR\"}, {\"author\": \"filippo82\", \"n_first_responses\": 2, \"authorAssociation\": \"NONE\"}, {\"author\": \"ryanlovett\", \"n_first_responses\": 2, \"authorAssociation\": \"MEMBER\"}, {\"author\": \"rcthomas\", \"n_first_responses\": 2, \"authorAssociation\": \"CONTRIBUTOR\"}, {\"author\": \"philvarner\", \"n_first_responses\": 2, \"authorAssociation\": \"NONE\"}, {\"author\": \"fomightez\", \"n_first_responses\": 2, \"authorAssociation\": \"CONTRIBUTOR\"}, {\"author\": \"rajat404\", \"n_first_responses\": 2, \"authorAssociation\": \"NONE\"}, {\"author\": \"playermanny2\", \"n_first_responses\": 2, \"authorAssociation\": \"NONE\"}, {\"author\": \"sampathkethineedi\", \"n_first_responses\": 2, \"authorAssociation\": \"NONE\"}, {\"author\": \"nuest\", \"n_first_responses\": 2, \"authorAssociation\": \"CONTRIBUTOR\"}, {\"author\": \"ian-r-rose\", \"n_first_responses\": 2, \"authorAssociation\": \"COLLABORATOR\"}, {\"author\": \"ivan-gomes\", \"n_first_responses\": 2, \"authorAssociation\": \"CONTRIBUTOR\"}, {\"author\": \"jkfm\", \"n_first_responses\": 2, \"authorAssociation\": \"NONE\"}, {\"author\": \"leinad87\", \"n_first_responses\": 2, \"authorAssociation\": \"NONE\"}, {\"author\": \"metonymic-smokey\", \"n_first_responses\": 2, \"authorAssociation\": \"NONE\"}, {\"author\": \"cometta\", \"n_first_responses\": 2, \"authorAssociation\": \"NONE\"}, {\"author\": \"zhiyuli\", \"n_first_responses\": 2, \"authorAssociation\": \"NONE\"}, {\"author\": \"clkao\", \"n_first_responses\": 2, \"authorAssociation\": \"CONTRIBUTOR\"}, {\"author\": \"BertR\", \"n_first_responses\": 2, \"authorAssociation\": \"NONE\"}, {\"author\": \"Chrisjw42\", \"n_first_responses\": 2, \"authorAssociation\": \"NONE\"}, {\"author\": \"bdrian\", \"n_first_responses\": 2, \"authorAssociation\": \"CONTRIBUTOR\"}, {\"author\": \"vindvaki\", \"n_first_responses\": 2, \"authorAssociation\": \"NONE\"}, {\"author\": \"timhughes\", \"n_first_responses\": 1, \"authorAssociation\": \"NONE\"}, {\"author\": \"metasim\", \"n_first_responses\": 1, \"authorAssociation\": \"NONE\"}, {\"author\": \"xiedidan\", \"n_first_responses\": 1, \"authorAssociation\": \"NONE\"}, {\"author\": \"michitaro\", \"n_first_responses\": 1, \"authorAssociation\": \"NONE\"}, {\"author\": \"vilhelmen\", \"n_first_responses\": 1, \"authorAssociation\": \"CONTRIBUTOR\"}, {\"author\": \"tyu0912\", \"n_first_responses\": 1, \"authorAssociation\": \"NONE\"}, {\"author\": \"mschroering\", \"n_first_responses\": 1, \"authorAssociation\": \"NONE\"}, {\"author\": \"navneetkrverma\", \"n_first_responses\": 1, \"authorAssociation\": \"NONE\"}, {\"author\": \"tirkarthi\", \"n_first_responses\": 1, \"authorAssociation\": \"CONTRIBUTOR\"}, {\"author\": \"mathematicalmichael\", \"n_first_responses\": 1, \"authorAssociation\": \"NONE\"}, {\"author\": \"saulshanabrook\", \"n_first_responses\": 1, \"authorAssociation\": \"NONE\"}, {\"author\": \"takluyver\", \"n_first_responses\": 1, \"authorAssociation\": \"MEMBER\"}, {\"author\": \"suryag10\", \"n_first_responses\": 1, \"authorAssociation\": \"NONE\"}], \"data-66a688933f008bf927ffe40f44a62745\": [{\"author\": \"jasongrout\", \"n_first_responses\": 54, \"authorAssociation\": \"MEMBER\"}, {\"author\": \"jtpio\", \"n_first_responses\": 48, \"authorAssociation\": \"MEMBER\"}, {\"author\": \"saulshanabrook\", \"n_first_responses\": 32, \"authorAssociation\": \"MEMBER\"}, {\"author\": \"telamonian\", \"n_first_responses\": 25, \"authorAssociation\": \"MEMBER\"}, {\"author\": \"kgryte\", \"n_first_responses\": 14, \"authorAssociation\": \"COLLABORATOR\"}, {\"author\": \"vidartf\", \"n_first_responses\": 14, \"authorAssociation\": \"MEMBER\"}, {\"author\": \"fcollonval\", \"n_first_responses\": 13, \"authorAssociation\": \"MEMBER\"}, {\"author\": \"blink1073\", \"n_first_responses\": 13, \"authorAssociation\": \"MEMBER\"}, {\"author\": \"KsavinN\", \"n_first_responses\": 12, \"authorAssociation\": \"COLLABORATOR\"}, {\"author\": \"JohanMabille\", \"n_first_responses\": 8, \"authorAssociation\": \"MEMBER\"}, {\"author\": \"timkpaine\", \"n_first_responses\": 4, \"authorAssociation\": \"MEMBER\"}, {\"author\": \"ian-r-rose\", \"n_first_responses\": 4, \"authorAssociation\": \"MEMBER\"}, {\"author\": \"tgeorgeux\", \"n_first_responses\": 4, \"authorAssociation\": \"MEMBER\"}, {\"author\": \"ellisonbg\", \"n_first_responses\": 4, \"authorAssociation\": \"MEMBER\"}, {\"author\": \"bw-space\", \"n_first_responses\": 4, \"authorAssociation\": \"MEMBER\"}, {\"author\": \"wallneradam\", \"n_first_responses\": 3, \"authorAssociation\": \"NONE\"}, {\"author\": \"willibix\", \"n_first_responses\": 2, \"authorAssociation\": \"NONE\"}, {\"author\": \"BoPeng\", \"n_first_responses\": 2, \"authorAssociation\": \"MEMBER\"}, {\"author\": \"mlucool\", \"n_first_responses\": 2, \"authorAssociation\": \"CONTRIBUTOR\"}, {\"author\": \"benthayer\", \"n_first_responses\": 2, \"authorAssociation\": \"MEMBER\"}, {\"author\": \"katsar0v\", \"n_first_responses\": 2, \"authorAssociation\": \"CONTRIBUTOR\"}, {\"author\": \"jaipreet-s\", \"n_first_responses\": 2, \"authorAssociation\": \"MEMBER\"}, {\"author\": \"ajbozarth\", \"n_first_responses\": 2, \"authorAssociation\": \"CONTRIBUTOR\"}, {\"author\": \"Zsailer\", \"n_first_responses\": 2, \"authorAssociation\": \"MEMBER\"}, {\"author\": \"echarles\", \"n_first_responses\": 2, \"authorAssociation\": \"MEMBER\"}, {\"author\": \"nubtwo\", \"n_first_responses\": 1, \"authorAssociation\": \"NONE\"}, {\"author\": \"nathancarter\", \"n_first_responses\": 1, \"authorAssociation\": \"NONE\"}, {\"author\": \"97amarnathk\", \"n_first_responses\": 1, \"authorAssociation\": \"NONE\"}, {\"author\": \"mullanptr\", \"n_first_responses\": 1, \"authorAssociation\": \"NONE\"}, {\"author\": \"mgraauw\", \"n_first_responses\": 1, \"authorAssociation\": \"NONE\"}, {\"author\": \"mathematicalmichael\", \"n_first_responses\": 1, \"authorAssociation\": \"NONE\"}, {\"author\": \"oholimoli\", \"n_first_responses\": 1, \"authorAssociation\": \"NONE\"}, {\"author\": \"martinRenou\", \"n_first_responses\": 1, \"authorAssociation\": \"MEMBER\"}, {\"author\": \"markellekelly\", \"n_first_responses\": 1, \"authorAssociation\": \"MEMBER\"}, {\"author\": \"loremauro98\", \"n_first_responses\": 1, \"authorAssociation\": \"NONE\"}, {\"author\": \"ociule\", \"n_first_responses\": 1, \"authorAssociation\": \"NONE\"}, {\"author\": \"roccqqck\", \"n_first_responses\": 1, \"authorAssociation\": \"NONE\"}, {\"author\": \"oujlassi\", \"n_first_responses\": 1, \"authorAssociation\": \"NONE\"}, {\"author\": \"springuper\", \"n_first_responses\": 1, \"authorAssociation\": \"NONE\"}, {\"author\": \"wolfv\", \"n_first_responses\": 1, \"authorAssociation\": \"MEMBER\"}, {\"author\": \"tonio73\", \"n_first_responses\": 1, \"authorAssociation\": \"NONE\"}, {\"author\": \"thoralf-gutierrez\", \"n_first_responses\": 1, \"authorAssociation\": \"CONTRIBUTOR\"}, {\"author\": \"suiluj\", \"n_first_responses\": 1, \"authorAssociation\": \"NONE\"}, {\"author\": \"stonebig\", \"n_first_responses\": 1, \"authorAssociation\": \"MEMBER\"}, {\"author\": \"st-bender\", \"n_first_responses\": 1, \"authorAssociation\": \"NONE\"}, {\"author\": \"smartinsightsfromdata\", \"n_first_responses\": 1, \"authorAssociation\": \"NONE\"}, {\"author\": \"rbeesley\", \"n_first_responses\": 1, \"authorAssociation\": \"NONE\"}, {\"author\": \"sccolbert\", \"n_first_responses\": 1, \"authorAssociation\": \"MEMBER\"}, {\"author\": \"rust-in\", \"n_first_responses\": 1, \"authorAssociation\": \"NONE\"}, {\"author\": \"krinsman\", \"n_first_responses\": 1, \"authorAssociation\": \"CONTRIBUTOR\"}]}};\n",
       "      var embedOpt = {\"mode\": \"vega-lite\"};\n",
       "\n",
       "      function showError(el, error){\n",
       "          el.innerHTML = ('<div class=\"error\" style=\"color:red;\">'\n",
       "                          + '<p>JavaScript Error: ' + error.message + '</p>'\n",
       "                          + \"<p>This usually means there's a typo in your chart specification. \"\n",
       "                          + \"See the javascript console for the full traceback.</p>\"\n",
       "                          + '</div>');\n",
       "          throw error;\n",
       "      }\n",
       "      const el = document.getElementById('altair-viz-9');\n",
       "      vegaEmbed(\"#altair-viz-9\", spec, embedOpt)\n",
       "        .catch(error => showError(el, error));\n",
       "    });\n",
       "\n",
       "  </script>"
      ],
      "text/plain": [
       "alt.HConcatChart(...)"
      ]
     },
     "execution_count": 32,
     "metadata": {},
     "output_type": "execute_result"
    }
   ],
   "source": [
    "n_plot = 50\n",
    "charts = []\n",
    "for ii, (iorg, idata) in enumerate(first_responder_counts.groupby(['org'])):\n",
    "    title = f\"Top {n_plot} first responders for {iorg} in the last {n_days} days\"\n",
    "    idata = idata.groupby('author', as_index=False).agg({'n_first_responses': 'sum', 'authorAssociation': 'first'})\n",
    "    idata = idata.sort_values('n_first_responses', ascending=False).head(n_plot)\n",
    "    ch = alt.Chart(data=idata.head(n_plot), width=1000, title=title).mark_bar().encode(\n",
    "        x='author',\n",
    "        y='n_first_responses',\n",
    "        color=alt.Color('authorAssociation', scale=alt.Scale(domain=author_types, range=author_colors))\n",
    "    )\n",
    "    charts.append(ch)\n",
    "alt.hconcat(*charts)"
   ]
  },
  {
   "cell_type": "code",
   "execution_count": 33,
   "metadata": {
    "papermill": {
     "duration": 0.039965,
     "end_time": "2019-12-01T17:52:23.831067",
     "exception": false,
     "start_time": "2019-12-01T17:52:23.791102",
     "status": "completed"
    },
    "tags": []
   },
   "outputs": [
    {
     "data": {
      "text/html": [
       "<script src=\"https://cdn.rawgit.com/parente/4c3e6936d0d7a46fd071/raw/65b816fb9bdd3c28b4ddf3af602bfd6015486383/code_toggle.js\"></script>\n"
      ],
      "text/plain": [
       "<IPython.core.display.HTML object>"
      ]
     },
     "metadata": {},
     "output_type": "display_data"
    }
   ],
   "source": [
    "%%html\n",
    "<script src=\"https://cdn.rawgit.com/parente/4c3e6936d0d7a46fd071/raw/65b816fb9bdd3c28b4ddf3af602bfd6015486383/code_toggle.js\"></script>"
   ]
  }
 ],
 "metadata": {
  "kernelspec": {
   "display_name": "Python 3",
   "language": "python",
   "name": "python3"
  },
  "language_info": {
   "codemirror_mode": {
    "name": "ipython",
    "version": 3
   },
   "file_extension": ".py",
   "mimetype": "text/x-python",
   "name": "python",
   "nbconvert_exporter": "python",
   "pygments_lexer": "ipython3",
   "version": "3.7.3"
  },
  "papermill": {
   "duration": 11.46888,
   "end_time": "2019-12-01T17:52:24.376178",
   "environment_variables": {},
   "exception": null,
   "input_path": "./templates/github.ipynb",
   "output_path": "./reports/monthly/2019-10-01-2019-11-01/github.ipynb",
   "parameters": {
    "end_date": "2019-11-01",
    "github_orgs": [
     "jupyterhub",
     "jupyter",
     "jupyterlab",
     "jupyter-widgets",
     "ipython",
     "binder-examples"
    ],
    "renderer": "kaggle",
    "start_date": "2019-10-01"
   },
   "start_time": "2019-12-01T17:52:12.907298",
   "version": "1.2.1"
  },
  "widgets": {
   "application/vnd.jupyter.widget-state+json": {
    "state": {
     "04edbbc2123d40bcad12d8ed878a079e": {
      "model_module": "@jupyter-widgets/base",
      "model_module_version": "1.2.0",
      "model_name": "LayoutModel",
      "state": {
       "_model_module": "@jupyter-widgets/base",
       "_model_module_version": "1.2.0",
       "_model_name": "LayoutModel",
       "_view_count": null,
       "_view_module": "@jupyter-widgets/base",
       "_view_module_version": "1.2.0",
       "_view_name": "LayoutView",
       "align_content": null,
       "align_items": null,
       "align_self": null,
       "border": null,
       "bottom": null,
       "display": null,
       "flex": null,
       "flex_flow": null,
       "grid_area": null,
       "grid_auto_columns": null,
       "grid_auto_flow": null,
       "grid_auto_rows": null,
       "grid_column": null,
       "grid_gap": null,
       "grid_row": null,
       "grid_template_areas": null,
       "grid_template_columns": null,
       "grid_template_rows": null,
       "height": null,
       "justify_content": null,
       "justify_items": null,
       "left": null,
       "margin": null,
       "max_height": null,
       "max_width": null,
       "min_height": null,
       "min_width": null,
       "object_fit": null,
       "object_position": null,
       "order": null,
       "overflow": null,
       "overflow_x": null,
       "overflow_y": null,
       "padding": null,
       "right": null,
       "top": null,
       "visibility": null,
       "width": null
      }
     },
     "08eee56b98824255a404c5b2aa3a73ee": {
      "model_module": "@jupyter-widgets/base",
      "model_module_version": "1.2.0",
      "model_name": "LayoutModel",
      "state": {
       "_model_module": "@jupyter-widgets/base",
       "_model_module_version": "1.2.0",
       "_model_name": "LayoutModel",
       "_view_count": null,
       "_view_module": "@jupyter-widgets/base",
       "_view_module_version": "1.2.0",
       "_view_name": "LayoutView",
       "align_content": null,
       "align_items": null,
       "align_self": null,
       "border": null,
       "bottom": null,
       "display": null,
       "flex": null,
       "flex_flow": null,
       "grid_area": null,
       "grid_auto_columns": null,
       "grid_auto_flow": null,
       "grid_auto_rows": null,
       "grid_column": null,
       "grid_gap": null,
       "grid_row": null,
       "grid_template_areas": null,
       "grid_template_columns": null,
       "grid_template_rows": null,
       "height": null,
       "justify_content": null,
       "justify_items": null,
       "left": null,
       "margin": null,
       "max_height": null,
       "max_width": null,
       "min_height": null,
       "min_width": null,
       "object_fit": null,
       "object_position": null,
       "order": null,
       "overflow": null,
       "overflow_x": null,
       "overflow_y": null,
       "padding": null,
       "right": null,
       "top": null,
       "visibility": null,
       "width": null
      }
     },
     "0dc8c0646f36415ab015f5bbc47a6f25": {
      "model_module": "@jupyter-widgets/controls",
      "model_module_version": "1.5.0",
      "model_name": "DescriptionStyleModel",
      "state": {
       "_model_module": "@jupyter-widgets/controls",
       "_model_module_version": "1.5.0",
       "_model_name": "DescriptionStyleModel",
       "_view_count": null,
       "_view_module": "@jupyter-widgets/base",
       "_view_module_version": "1.2.0",
       "_view_name": "StyleView",
       "description_width": ""
      }
     },
     "0e652b59f2a943cf8f5cd3f5abc6a8ab": {
      "model_module": "@jupyter-widgets/base",
      "model_module_version": "1.2.0",
      "model_name": "LayoutModel",
      "state": {
       "_model_module": "@jupyter-widgets/base",
       "_model_module_version": "1.2.0",
       "_model_name": "LayoutModel",
       "_view_count": null,
       "_view_module": "@jupyter-widgets/base",
       "_view_module_version": "1.2.0",
       "_view_name": "LayoutView",
       "align_content": null,
       "align_items": null,
       "align_self": null,
       "border": null,
       "bottom": null,
       "display": null,
       "flex": null,
       "flex_flow": null,
       "grid_area": null,
       "grid_auto_columns": null,
       "grid_auto_flow": null,
       "grid_auto_rows": null,
       "grid_column": null,
       "grid_gap": null,
       "grid_row": null,
       "grid_template_areas": null,
       "grid_template_columns": null,
       "grid_template_rows": null,
       "height": null,
       "justify_content": null,
       "justify_items": null,
       "left": null,
       "margin": null,
       "max_height": null,
       "max_width": null,
       "min_height": null,
       "min_width": null,
       "object_fit": null,
       "object_position": null,
       "order": null,
       "overflow": null,
       "overflow_x": null,
       "overflow_y": null,
       "padding": null,
       "right": null,
       "top": null,
       "visibility": null,
       "width": null
      }
     },
     "0e6f2404ec54463490c094e23af33af0": {
      "model_module": "@jupyter-widgets/base",
      "model_module_version": "1.2.0",
      "model_name": "LayoutModel",
      "state": {
       "_model_module": "@jupyter-widgets/base",
       "_model_module_version": "1.2.0",
       "_model_name": "LayoutModel",
       "_view_count": null,
       "_view_module": "@jupyter-widgets/base",
       "_view_module_version": "1.2.0",
       "_view_name": "LayoutView",
       "align_content": null,
       "align_items": null,
       "align_self": null,
       "border": null,
       "bottom": null,
       "display": null,
       "flex": null,
       "flex_flow": null,
       "grid_area": null,
       "grid_auto_columns": null,
       "grid_auto_flow": null,
       "grid_auto_rows": null,
       "grid_column": null,
       "grid_gap": null,
       "grid_row": null,
       "grid_template_areas": null,
       "grid_template_columns": null,
       "grid_template_rows": null,
       "height": null,
       "justify_content": null,
       "justify_items": null,
       "left": null,
       "margin": null,
       "max_height": null,
       "max_width": null,
       "min_height": null,
       "min_width": null,
       "object_fit": null,
       "object_position": null,
       "order": null,
       "overflow": null,
       "overflow_x": null,
       "overflow_y": null,
       "padding": null,
       "right": null,
       "top": null,
       "visibility": null,
       "width": null
      }
     },
     "151c9e3bbb8a443d8a72faba2bbb0f0e": {
      "model_module": "@jupyter-widgets/controls",
      "model_module_version": "1.5.0",
      "model_name": "DescriptionStyleModel",
      "state": {
       "_model_module": "@jupyter-widgets/controls",
       "_model_module_version": "1.5.0",
       "_model_name": "DescriptionStyleModel",
       "_view_count": null,
       "_view_module": "@jupyter-widgets/base",
       "_view_module_version": "1.2.0",
       "_view_name": "StyleView",
       "description_width": ""
      }
     },
     "1c49c0c5abc6468da600a3ad160cd6e4": {
      "model_module": "@jupyter-widgets/base",
      "model_module_version": "1.2.0",
      "model_name": "LayoutModel",
      "state": {
       "_model_module": "@jupyter-widgets/base",
       "_model_module_version": "1.2.0",
       "_model_name": "LayoutModel",
       "_view_count": null,
       "_view_module": "@jupyter-widgets/base",
       "_view_module_version": "1.2.0",
       "_view_name": "LayoutView",
       "align_content": null,
       "align_items": null,
       "align_self": null,
       "border": null,
       "bottom": null,
       "display": null,
       "flex": null,
       "flex_flow": null,
       "grid_area": null,
       "grid_auto_columns": null,
       "grid_auto_flow": null,
       "grid_auto_rows": null,
       "grid_column": null,
       "grid_gap": null,
       "grid_row": null,
       "grid_template_areas": null,
       "grid_template_columns": null,
       "grid_template_rows": null,
       "height": null,
       "justify_content": null,
       "justify_items": null,
       "left": null,
       "margin": null,
       "max_height": null,
       "max_width": null,
       "min_height": null,
       "min_width": null,
       "object_fit": null,
       "object_position": null,
       "order": null,
       "overflow": null,
       "overflow_x": null,
       "overflow_y": null,
       "padding": null,
       "right": null,
       "top": null,
       "visibility": null,
       "width": null
      }
     },
     "266a3e208f1b4bedb49a82e0f83e14ca": {
      "model_module": "@jupyter-widgets/controls",
      "model_module_version": "1.5.0",
      "model_name": "DescriptionStyleModel",
      "state": {
       "_model_module": "@jupyter-widgets/controls",
       "_model_module_version": "1.5.0",
       "_model_name": "DescriptionStyleModel",
       "_view_count": null,
       "_view_module": "@jupyter-widgets/base",
       "_view_module_version": "1.2.0",
       "_view_name": "StyleView",
       "description_width": ""
      }
     },
     "2835b39c99274de19784bad1b6d15491": {
      "model_module": "@jupyter-widgets/controls",
      "model_module_version": "1.5.0",
      "model_name": "HTMLModel",
      "state": {
       "_dom_classes": [],
       "_model_module": "@jupyter-widgets/controls",
       "_model_module_version": "1.5.0",
       "_model_name": "HTMLModel",
       "_view_count": null,
       "_view_module": "@jupyter-widgets/controls",
       "_view_module_version": "1.5.0",
       "_view_name": "HTMLView",
       "description": "",
       "description_tooltip": null,
       "layout": "IPY_MODEL_5ccd4a7f29f74a24a9c51825fafd5408",
       "placeholder": "​",
       "style": "IPY_MODEL_9ec9587dddaf415e91a6fd482183cda7",
       "value": "<h4>Closed PRs for org: <code>jupyterlab</code></h4>\n<h5><a href=\"https://github.com/jupyterlab/debugger\">jupyterlab/debugger</a></h5>\n<ul>\n<li><a href=\"https://github.com/jupyterlab/debugger/pull/129\">(#129)</a>: <em>Set editors breakpoints on model changed</em> by <strong><a href=\"https://github.com/jtpio\">@jtpio</a></strong> merged by <strong><a href=\"https://github.com/JohanMabille\">@JohanMabille</a></strong></li>\n<li><a href=\"https://github.com/jupyterlab/debugger/pull/126\">(#126)</a>: <em>Automagically starts the debugger if the kernel supports it</em> by <strong><a href=\"https://github.com/JohanMabille\">@JohanMabille</a></strong> merged by <strong><a href=\"https://github.com/jtpio\">@jtpio</a></strong></li>\n<li><a href=\"https://github.com/jupyterlab/debugger/pull/120\">(#120)</a>: <em>Remove the launch command</em> by <strong><a href=\"https://github.com/jtpio\">@jtpio</a></strong> merged by <strong><a href=\"https://github.com/JohanMabille\">@JohanMabille</a></strong></li>\n<li><a href=\"https://github.com/jupyterlab/debugger/pull/114\">(#114)</a>: <em>Keep line numbers on when switching cells</em> by <strong><a href=\"https://github.com/jtpio\">@jtpio</a></strong> merged by <strong><a href=\"https://github.com/JohanMabille\">@JohanMabille</a></strong></li>\n<li><a href=\"https://github.com/jupyterlab/debugger/pull/111\">(#111)</a>: <em>Add an example notebook that uses xeus-python</em> by <strong><a href=\"https://github.com/jtpio\">@jtpio</a></strong> merged by <strong><a href=\"https://github.com/JohanMabille\">@JohanMabille</a></strong></li>\n<li><a href=\"https://github.com/jupyterlab/debugger/pull/105\">(#105)</a>: <em>Cleanup frames and variables on continued event</em> by <strong><a href=\"https://github.com/jtpio\">@jtpio</a></strong> merged by <strong><a href=\"https://github.com/JohanMabille\">@JohanMabille</a></strong></li>\n<li><a href=\"https://github.com/jupyterlab/debugger/pull/100\">(#100)</a>: <em>Model now owns Breakpoints, Variables and callstack models</em> by <strong><a href=\"https://github.com/JohanMabille\">@JohanMabille</a></strong> merged by <strong><a href=\"https://github.com/jtpio\">@jtpio</a></strong></li>\n<li><a href=\"https://github.com/jupyterlab/debugger/pull/99\">(#99)</a>: <em>Develop highlights</em> by <strong><a href=\"https://github.com/KsavinN\">@KsavinN</a></strong> merged by <strong><a href=\"https://github.com/jtpio\">@jtpio</a></strong></li>\n<li><a href=\"https://github.com/jupyterlab/debugger/pull/97\">(#97)</a>: <em>Continue, Next and StepIn commands</em> by <strong><a href=\"https://github.com/JohanMabille\">@JohanMabille</a></strong> merged by <strong><a href=\"https://github.com/jtpio\">@jtpio</a></strong></li>\n<li><a href=\"https://github.com/jupyterlab/debugger/pull/94\">(#94)</a>: <em>Add line highlight for breakpoints</em> by <strong><a href=\"https://github.com/KsavinN\">@KsavinN</a></strong> merged by <strong><a href=\"https://github.com/jtpio\">@jtpio</a></strong></li>\n<li><a href=\"https://github.com/jupyterlab/debugger/pull/93\">(#93)</a>: <em>Added interface for service, moved session into service</em> by <strong><a href=\"https://github.com/JohanMabille\">@JohanMabille</a></strong> merged by <strong><a href=\"https://github.com/jtpio\">@jtpio</a></strong></li>\n<li><a href=\"https://github.com/jupyterlab/debugger/pull/92\">(#92)</a>: <em>Remove cyclic reference sidebar &lt;-&gt; model</em> by <strong><a href=\"https://github.com/jtpio\">@jtpio</a></strong> merged by <strong><a href=\"https://github.com/JohanMabille\">@JohanMabille</a></strong></li>\n<li><a href=\"https://github.com/jupyterlab/debugger/pull/91\">(#91)</a>: <em>Implement new visualization of variables</em> by <strong><a href=\"https://github.com/KsavinN\">@KsavinN</a></strong> merged by <strong><a href=\"https://github.com/jtpio\">@jtpio</a></strong></li>\n<li><a href=\"https://github.com/jupyterlab/debugger/pull/89\">(#89)</a>: <em>Send breakpoints to the kernel on breakpointChanged</em> by <strong><a href=\"https://github.com/jtpio\">@jtpio</a></strong> merged by <strong><a href=\"https://github.com/JohanMabille\">@JohanMabille</a></strong></li>\n<li><a href=\"https://github.com/jupyterlab/debugger/pull/83\">(#83)</a>: <em>Add Binder files</em> by <strong><a href=\"https://github.com/jtpio\">@jtpio</a></strong> merged by <strong><a href=\"https://github.com/afshin\">@afshin</a></strong></li>\n<li><a href=\"https://github.com/jupyterlab/debugger/pull/82\">(#82)</a>: <em>Wait for the session to be ready before restoring state</em> by <strong><a href=\"https://github.com/jtpio\">@jtpio</a></strong> merged by <strong><a href=\"https://github.com/JohanMabille\">@JohanMabille</a></strong></li>\n<li><a href=\"https://github.com/jupyterlab/debugger/pull/79\">(#79)</a>: <em>DebuggerNotebookHandler =&gt; DebuggerConsoleHandler</em> by <strong><a href=\"https://github.com/JohanMabille\">@JohanMabille</a></strong> merged by <strong><a href=\"https://github.com/jtpio\">@jtpio</a></strong></li>\n<li><a href=\"https://github.com/jupyterlab/debugger/pull/78\">(#78)</a>: <em>Refactored plugins to avoid code duplication</em> by <strong><a href=\"https://github.com/JohanMabille\">@JohanMabille</a></strong> merged by <strong><a href=\"https://github.com/afshin\">@afshin</a></strong></li>\n<li><a href=\"https://github.com/jupyterlab/debugger/pull/77\">(#77)</a>: <em>Add test for debugInfo request</em> by <strong><a href=\"https://github.com/jtpio\">@jtpio</a></strong> merged by <strong><a href=\"https://github.com/JohanMabille\">@JohanMabille</a></strong></li>\n<li><a href=\"https://github.com/jupyterlab/debugger/pull/75\">(#75)</a>: <em>Restore debugger session state</em> by <strong><a href=\"https://github.com/JohanMabille\">@JohanMabille</a></strong> merged by <strong><a href=\"https://github.com/jtpio\">@jtpio</a></strong></li>\n<li><a href=\"https://github.com/jupyterlab/debugger/pull/71\">(#71)</a>: <em>Add Azure Pipelines badge for build status</em> by <strong><a href=\"https://github.com/jtpio\">@jtpio</a></strong> merged by <strong><a href=\"https://github.com/KsavinN\">@KsavinN</a></strong></li>\n<li><a href=\"https://github.com/jupyterlab/debugger/pull/70\">(#70)</a>: <em>Add the sidebar to the main area</em> by <strong><a href=\"https://github.com/jtpio\">@jtpio</a></strong> merged by <strong><a href=\"https://github.com/JohanMabille\">@JohanMabille</a></strong></li>\n<li><a href=\"https://github.com/jupyterlab/debugger/pull/68\">(#68)</a>: <em>Cleanup signals on unmount in BreakpointComponent</em> by <strong><a href=\"https://github.com/jtpio\">@jtpio</a></strong> merged by <strong><a href=\"https://github.com/KsavinN\">@KsavinN</a></strong></li>\n<li><a href=\"https://github.com/jupyterlab/debugger/pull/67\">(#67)</a>: <em>Fix search input for dark theme</em> by <strong><a href=\"https://github.com/jtpio\">@jtpio</a></strong> merged by <strong><a href=\"https://github.com/KsavinN\">@KsavinN</a></strong></li>\n<li><a href=\"https://github.com/jupyterlab/debugger/pull/66\">(#66)</a>: <em>Create Service for control signals between session and UI</em> by <strong><a href=\"https://github.com/KsavinN\">@KsavinN</a></strong> merged by <strong><a href=\"https://github.com/jtpio\">@jtpio</a></strong></li>\n<li><a href=\"https://github.com/jupyterlab/debugger/pull/65\">(#65)</a>: <em>Add .prettierignore file</em> by <strong><a href=\"https://github.com/jtpio\">@jtpio</a></strong> merged by <strong><a href=\"https://github.com/jtpio\">@jtpio</a></strong></li>\n<li><a href=\"https://github.com/jupyterlab/debugger/pull/63\">(#63)</a>: <em>enable and disable commands based on replies</em> by <strong><a href=\"https://github.com/JohanMabille\">@JohanMabille</a></strong> merged by <strong><a href=\"https://github.com/jtpio\">@jtpio</a></strong></li>\n<li><a href=\"https://github.com/jupyterlab/debugger/pull/61\">(#61)</a>: <em>Add editors to the main area widget</em> by <strong><a href=\"https://github.com/jtpio\">@jtpio</a></strong> merged by <strong><a href=\"https://github.com/jtpio\">@jtpio</a></strong></li>\n<li><a href=\"https://github.com/jupyterlab/debugger/pull/60\">(#60)</a>: <em>Wait for debug event in tests</em> by <strong><a href=\"https://github.com/jtpio\">@jtpio</a></strong> merged by <strong><a href=\"https://github.com/jtpio\">@jtpio</a></strong></li>\n<li><a href=\"https://github.com/jupyterlab/debugger/pull/58\">(#58)</a>: <em>Fix linting errors</em> by <strong><a href=\"https://github.com/jtpio\">@jtpio</a></strong> merged by <strong><a href=\"https://github.com/jtpio\">@jtpio</a></strong></li>\n<li><a href=\"https://github.com/jupyterlab/debugger/pull/57\">(#57)</a>: <em>Fix linting</em> by <strong><a href=\"https://github.com/jtpio\">@jtpio</a></strong> merged by <strong><a href=\"https://github.com/jtpio\">@jtpio</a></strong></li>\n<li><a href=\"https://github.com/jupyterlab/debugger/pull/54\">(#54)</a>: <em>Iterate on interfaces, tokens, and UI #2</em> by <strong><a href=\"https://github.com/KsavinN\">@KsavinN</a></strong> merged by <strong><a href=\"https://github.com/jtpio\">@jtpio</a></strong></li>\n<li><a href=\"https://github.com/jupyterlab/debugger/pull/53\">(#53)</a>: <em>Start and stop always visible, enabled/disabled</em> by <strong><a href=\"https://github.com/JohanMabille\">@JohanMabille</a></strong> merged by <strong><a href=\"https://github.com/jtpio\">@jtpio</a></strong></li>\n<li><a href=\"https://github.com/jupyterlab/debugger/pull/51\">(#51)</a>: <em>Add mention to kernelspy extension to the README</em> by <strong><a href=\"https://github.com/jtpio\">@jtpio</a></strong> merged by <strong><a href=\"https://github.com/jtpio\">@jtpio</a></strong></li>\n<li><a href=\"https://github.com/jupyterlab/debugger/pull/50\">(#50)</a>: <em>Upgraded to xeus-python 0.5.3 and replaced updateCell with dumpCell</em> by <strong><a href=\"https://github.com/JohanMabille\">@JohanMabille</a></strong> merged by <strong><a href=\"https://github.com/jtpio\">@jtpio</a></strong></li>\n<li><a href=\"https://github.com/jupyterlab/debugger/pull/48\">(#48)</a>: <em>Iterate on interfaces, tokens, and UI.</em> by <strong><a href=\"https://github.com/afshin\">@afshin</a></strong> merged by <strong><a href=\"https://github.com/jtpio\">@jtpio</a></strong></li>\n<li><a href=\"https://github.com/jupyterlab/debugger/pull/47\">(#47)</a>: _Connect to debbuger _ by <strong><a href=\"https://github.com/KsavinN\">@KsavinN</a></strong> merged by <strong><a href=\"https://github.com/jtpio\">@jtpio</a></strong></li>\n<li><a href=\"https://github.com/jupyterlab/debugger/pull/46\">(#46)</a>: <em>Fixed debugger restore</em> by <strong><a href=\"https://github.com/JohanMabille\">@JohanMabille</a></strong> merged by <strong><a href=\"https://github.com/jtpio\">@jtpio</a></strong></li>\n<li><a href=\"https://github.com/jupyterlab/debugger/pull/45\">(#45)</a>: <em>Move codemirror types to devDependencies</em> by <strong><a href=\"https://github.com/jtpio\">@jtpio</a></strong> merged by <strong><a href=\"https://github.com/jtpio\">@jtpio</a></strong></li>\n<li><a href=\"https://github.com/jupyterlab/debugger/pull/36\">(#36)</a>: <em>Connect Breakpoints widget with NoteBook</em> by <strong><a href=\"https://github.com/KsavinN\">@KsavinN</a></strong> merged by <strong><a href=\"https://github.com/KsavinN\">@KsavinN</a></strong></li>\n</ul>\n<h5><a href=\"https://github.com/jupyterlab/jupyterlab\">jupyterlab/jupyterlab</a></h5>\n<ul>\n<li><a href=\"https://github.com/jupyterlab/jupyterlab/pull/7379\">(#7379)</a>: <em>Clean up log console api a bit</em> by <strong><a href=\"https://github.com/jasongrout\">@jasongrout</a></strong> merged by <strong><a href=\"https://github.com/jasongrout\">@jasongrout</a></strong></li>\n<li><a href=\"https://github.com/jupyterlab/jupyterlab/pull/7378\">(#7378)</a>: <em>documentation update: better overview about contributing</em> by <strong><a href=\"https://github.com/katsar0v\">@katsar0v</a></strong> merged by <strong><a href=\"https://github.com/blink1073\">@blink1073</a></strong></li>\n<li><a href=\"https://github.com/jupyterlab/jupyterlab/pull/7377\">(#7377)</a>: <em>Update meeting notes link to hackmd</em> by <strong><a href=\"https://github.com/saulshanabrook\">@saulshanabrook</a></strong> merged by <strong><a href=\"https://github.com/vidartf\">@vidartf</a></strong></li>\n<li><a href=\"https://github.com/jupyterlab/jupyterlab/pull/7374\">(#7374)</a>: <em>Add missing import to commands.py</em> by <strong><a href=\"https://github.com/vidartf\">@vidartf</a></strong> merged by <strong><a href=\"https://github.com/blink1073\">@blink1073</a></strong></li>\n<li><a href=\"https://github.com/jupyterlab/jupyterlab/pull/7370\">(#7370)</a>: <em>Don't export the Private namespace</em> by <strong><a href=\"https://github.com/sccolbert\">@sccolbert</a></strong> merged by <strong><a href=\"https://github.com/jasongrout\">@jasongrout</a></strong></li>\n<li><a href=\"https://github.com/jupyterlab/jupyterlab/pull/7367\">(#7367)</a>: <em>Added hash to the csv delimiter types</em> by <strong><a href=\"https://github.com/dkapila\">@dkapila</a></strong> merged by <strong><a href=\"https://github.com/jasongrout\">@jasongrout</a></strong></li>\n<li><a href=\"https://github.com/jupyterlab/jupyterlab/pull/7350\">(#7350)</a>: <em>Moved Text Editor config var into commands.ts</em> by <strong><a href=\"https://github.com/ajbozarth\">@ajbozarth</a></strong> merged by <strong><a href=\"https://github.com/jasongrout\">@jasongrout</a></strong></li>\n<li><a href=\"https://github.com/jupyterlab/jupyterlab/pull/7341\">(#7341)</a>: <em>[Docs] Add table of contents in 'Common Extension Points'</em> by <strong><a href=\"https://github.com/katsar0v\">@katsar0v</a></strong> merged by <strong><a href=\"https://github.com/saulshanabrook\">@saulshanabrook</a></strong></li>\n<li><a href=\"https://github.com/jupyterlab/jupyterlab/pull/7334\">(#7334)</a>: <em>reset log display and count when non-notebook tab gets activated</em> by <strong><a href=\"https://github.com/mbektasbbg\">@mbektasbbg</a></strong> merged by <strong><a href=\"https://github.com/jasongrout\">@jasongrout</a></strong></li>\n<li><a href=\"https://github.com/jupyterlab/jupyterlab/pull/7333\">(#7333)</a>: <em>Fix project name typo</em> by <strong><a href=\"https://github.com/kinow\">@kinow</a></strong> merged by <strong><a href=\"https://github.com/jasongrout\">@jasongrout</a></strong></li>\n<li><a href=\"https://github.com/jupyterlab/jupyterlab/pull/7331\">(#7331)</a>: <em>Add changelog for 1.2</em> by <strong><a href=\"https://github.com/jasongrout\">@jasongrout</a></strong> merged by <strong><a href=\"https://github.com/jasongrout\">@jasongrout</a></strong></li>\n<li><a href=\"https://github.com/jupyterlab/jupyterlab/pull/7326\">(#7326)</a>: <em>Update marked to 0.7.0</em> by <strong><a href=\"https://github.com/jasongrout\">@jasongrout</a></strong> merged by <strong><a href=\"https://github.com/jasongrout\">@jasongrout</a></strong></li>\n<li><a href=\"https://github.com/jupyterlab/jupyterlab/pull/7324\">(#7324)</a>: <em>Bump logconsole version</em> by <strong><a href=\"https://github.com/jasongrout\">@jasongrout</a></strong> merged by <strong><a href=\"https://github.com/jasongrout\">@jasongrout</a></strong></li>\n<li><a href=\"https://github.com/jupyterlab/jupyterlab/pull/7321\">(#7321)</a>: <em>Increment the template package prerelease build numbers</em> by <strong><a href=\"https://github.com/jasongrout\">@jasongrout</a></strong> merged by <strong><a href=\"https://github.com/jasongrout\">@jasongrout</a></strong></li>\n<li><a href=\"https://github.com/jupyterlab/jupyterlab/pull/7320\">(#7320)</a>: <em>Backport PR #7285: Integrity updates</em> by <strong><a href=\"https://github.com/jasongrout\">@jasongrout</a></strong> merged by <strong><a href=\"https://github.com/jasongrout\">@jasongrout</a></strong></li>\n<li><a href=\"https://github.com/jupyterlab/jupyterlab/pull/7318\">(#7318)</a>: <em>Backport PR #6833 on branch 1.x (Log Console extension to capture unhandled messages and other activity)</em> by <strong><a href=\"https://github.com/jasongrout\">@jasongrout</a></strong> merged by <strong><a href=\"https://github.com/jasongrout\">@jasongrout</a></strong></li>\n<li><a href=\"https://github.com/jupyterlab/jupyterlab/pull/7317\">(#7317)</a>: <em>Backport PR #7201 on branch 1.x (Allow max-old-space to be specified outside of jlab)</em> by <strong><a href=\"https://github.com/jasongrout\">@jasongrout</a></strong> merged by <strong><a href=\"https://github.com/jasongrout\">@jasongrout</a></strong></li>\n<li><a href=\"https://github.com/jupyterlab/jupyterlab/pull/7316\">(#7316)</a>: <em>Fix Safari multiple tabs by working around a Safari bug.</em> by <strong><a href=\"https://github.com/jasongrout\">@jasongrout</a></strong> merged by <strong><a href=\"https://github.com/jasongrout\">@jasongrout</a></strong></li>\n<li><a href=\"https://github.com/jupyterlab/jupyterlab/pull/7311\">(#7311)</a>: <em>Skip custom click behavior on links when the download attribute is set</em> by <strong><a href=\"https://github.com/jasongrout\">@jasongrout</a></strong> merged by <strong><a href=\"https://github.com/jasongrout\">@jasongrout</a></strong></li>\n<li><a href=\"https://github.com/jupyterlab/jupyterlab/pull/7304\">(#7304)</a>: <em>Remove datagrid as a singleton</em> by <strong><a href=\"https://github.com/blink1073\">@blink1073</a></strong> merged by <strong><a href=\"https://github.com/jasongrout\">@jasongrout</a></strong></li>\n<li><a href=\"https://github.com/jupyterlab/jupyterlab/pull/7300\">(#7300)</a>: <em>Fix ensure-buildutils.js: rebuilds correctly on changes, runs pre integrity</em> by <strong><a href=\"https://github.com/telamonian\">@telamonian</a></strong> merged by <strong><a href=\"https://github.com/telamonian\">@telamonian</a></strong></li>\n<li><a href=\"https://github.com/jupyterlab/jupyterlab/pull/7297\">(#7297)</a>: <em>Minor typo - s/Jupter/Jupyter/</em> by <strong><a href=\"https://github.com/yoniLavi\">@yoniLavi</a></strong> merged by <strong><a href=\"https://github.com/jasongrout\">@jasongrout</a></strong></li>\n<li><a href=\"https://github.com/jupyterlab/jupyterlab/pull/7290\">(#7290)</a>: <em>Log Console enhancements</em> by <strong><a href=\"https://github.com/mbektasbbg\">@mbektasbbg</a></strong> merged by <strong><a href=\"https://github.com/jasongrout\">@jasongrout</a></strong></li>\n<li><a href=\"https://github.com/jupyterlab/jupyterlab/pull/7285\">(#7285)</a>: <em>Integrity updates</em> by <strong><a href=\"https://github.com/jasongrout\">@jasongrout</a></strong> merged by <strong><a href=\"https://github.com/blink1073\">@blink1073</a></strong></li>\n<li><a href=\"https://github.com/jupyterlab/jupyterlab/pull/7280\">(#7280)</a>: <em>Doc dependencies in environment.yml, closes</em> by <strong><a href=\"https://github.com/duarteocarmo\">@duarteocarmo</a></strong> merged by <strong><a href=\"https://github.com/blink1073\">@blink1073</a></strong></li>\n<li><a href=\"https://github.com/jupyterlab/jupyterlab/pull/7278\">(#7278)</a>: <em>Add support for rank to the top area</em> by <strong><a href=\"https://github.com/jtpio\">@jtpio</a></strong> merged by <strong><a href=\"https://github.com/blink1073\">@blink1073</a></strong></li>\n<li><a href=\"https://github.com/jupyterlab/jupyterlab/pull/7277\">(#7277)</a>: <em>Remove unused side parameter</em> by <strong><a href=\"https://github.com/jtpio\">@jtpio</a></strong> merged by <strong><a href=\"https://github.com/blink1073\">@blink1073</a></strong></li>\n<li><a href=\"https://github.com/jupyterlab/jupyterlab/pull/7276\">(#7276)</a>: <em>fix terminal-extension lint error</em> by <strong><a href=\"https://github.com/mbektasbbg\">@mbektasbbg</a></strong> merged by <strong><a href=\"https://github.com/blink1073\">@blink1073</a></strong></li>\n<li><a href=\"https://github.com/jupyterlab/jupyterlab/pull/7274\">(#7274)</a>: <em>fixes #7141 : display proper error message for non utf-8 files</em> by <strong><a href=\"https://github.com/kavishdahekar\">@kavishdahekar</a></strong> merged by <strong><a href=\"https://github.com/blink1073\">@blink1073</a></strong></li>\n<li><a href=\"https://github.com/jupyterlab/jupyterlab/pull/7249\">(#7249)</a>: <em>Add comment when using custom yarn registry</em> by <strong><a href=\"https://github.com/fcollonval\">@fcollonval</a></strong> merged by <strong><a href=\"https://github.com/blink1073\">@blink1073</a></strong></li>\n<li><a href=\"https://github.com/jupyterlab/jupyterlab/pull/7243\">(#7243)</a>: <em>Use temp directories and error handling better in release process and release testing.</em> by <strong><a href=\"https://github.com/jasongrout\">@jasongrout</a></strong> merged by <strong><a href=\"https://github.com/jasongrout\">@jasongrout</a></strong></li>\n<li><a href=\"https://github.com/jupyterlab/jupyterlab/pull/7201\">(#7201)</a>: <em>Allow max-old-space to be specified outside of jlab</em> by <strong><a href=\"https://github.com/mlucool\">@mlucool</a></strong> merged by <strong><a href=\"https://github.com/jasongrout\">@jasongrout</a></strong></li>\n<li><a href=\"https://github.com/jupyterlab/jupyterlab/pull/7177\">(#7177)</a>: <em>Added the Selection of cells till Top and Bottom</em> by <strong><a href=\"https://github.com/bw-space\">@bw-space</a></strong> merged by <strong><a href=\"https://github.com/jasongrout\">@jasongrout</a></strong></li>\n<li><a href=\"https://github.com/jupyterlab/jupyterlab/pull/7155\">(#7155)</a>: <em>Fix file browser location in tree view.</em> by <strong><a href=\"https://github.com/dmarth\">@dmarth</a></strong> merged by <strong><a href=\"https://github.com/jasongrout\">@jasongrout</a></strong></li>\n</ul>\n<h5><a href=\"https://github.com/jupyterlab/jupyterlab-celltags\">jupyterlab/jupyterlab-celltags</a></h5>\n<ul>\n<li><a href=\"https://github.com/jupyterlab/jupyterlab-celltags/pull/198\">(#198)</a>: <em>bumped version, bumped version of @jupyterlab packages</em> by <strong><a href=\"https://github.com/telamonian\">@telamonian</a></strong> merged by <strong><a href=\"https://github.com/telamonian\">@telamonian</a></strong></li>\n<li><a href=\"https://github.com/jupyterlab/jupyterlab-celltags/pull/197\">(#197)</a>: <em>bugfix for #195: properly encode/escape raw svg strings</em> by <strong><a href=\"https://github.com/telamonian\">@telamonian</a></strong> merged by <strong><a href=\"https://github.com/telamonian\">@telamonian</a></strong></li>\n<li><a href=\"https://github.com/jupyterlab/jupyterlab-celltags/pull/196\">(#196)</a>: <em>Fix Binder</em> by <strong><a href=\"https://github.com/jtpio\">@jtpio</a></strong> merged by <strong><a href=\"https://github.com/telamonian\">@telamonian</a></strong></li>\n<li><a href=\"https://github.com/jupyterlab/jupyterlab-celltags/pull/195\">(#195)</a>: <em>Adding 'default' to require statements</em> by <strong><a href=\"https://github.com/choldgraf\">@choldgraf</a></strong> merged by <strong><a href=\"https://github.com/telamonian\">@telamonian</a></strong></li>\n</ul>\n<h5><a href=\"https://github.com/jupyterlab/jupyterlab-commenting\">jupyterlab/jupyterlab-commenting</a></h5>\n<ul>\n<li><a href=\"https://github.com/jupyterlab/jupyterlab-commenting/pull/45\">(#45)</a>: <em>Disable lockfiles</em> by <strong><a href=\"https://github.com/kgryte\">@kgryte</a></strong> merged by <strong><a href=\"https://github.com/saulshanabrook\">@saulshanabrook</a></strong></li>\n<li><a href=\"https://github.com/jupyterlab/jupyterlab-commenting/pull/44\">(#44)</a>: <em>Update licensing</em> by <strong><a href=\"https://github.com/kgryte\">@kgryte</a></strong> merged by <strong><a href=\"https://github.com/saulshanabrook\">@saulshanabrook</a></strong></li>\n<li><a href=\"https://github.com/jupyterlab/jupyterlab-commenting/pull/43\">(#43)</a>: <em>Add issue templates</em> by <strong><a href=\"https://github.com/kgryte\">@kgryte</a></strong> merged by <strong><a href=\"https://github.com/saulshanabrook\">@saulshanabrook</a></strong></li>\n<li><a href=\"https://github.com/jupyterlab/jupyterlab-commenting/pull/38\">(#38)</a>: <em>Sql storage</em> by <strong><a href=\"https://github.com/hoo761\">@hoo761</a></strong> merged by <strong><a href=\"https://github.com/hoo761\">@hoo761</a></strong></li>\n</ul>\n<h5><a href=\"https://github.com/jupyterlab/jupyterlab-data-explorer\">jupyterlab/jupyterlab-data-explorer</a></h5>\n<ul>\n<li><a href=\"https://github.com/jupyterlab/jupyterlab-data-explorer/pull/117\">(#117)</a>: <em>Add issue templates</em> by <strong><a href=\"https://github.com/kgryte\">@kgryte</a></strong> merged by <strong><a href=\"https://github.com/saulshanabrook\">@saulshanabrook</a></strong></li>\n<li><a href=\"https://github.com/jupyterlab/jupyterlab-data-explorer/pull/116\">(#116)</a>: <em>Setup testing</em> by <strong><a href=\"https://github.com/kgryte\">@kgryte</a></strong> merged by <strong><a href=\"https://github.com/saulshanabrook\">@saulshanabrook</a></strong></li>\n<li><a href=\"https://github.com/jupyterlab/jupyterlab-data-explorer/pull/115\">(#115)</a>: <em>Style updates!</em> by <strong><a href=\"https://github.com/saulshanabrook\">@saulshanabrook</a></strong> merged by <strong><a href=\"https://github.com/saulshanabrook\">@saulshanabrook</a></strong></li>\n<li><a href=\"https://github.com/jupyterlab/jupyterlab-data-explorer/pull/114\">(#114)</a>: <em>This fixes the local build</em> by <strong><a href=\"https://github.com/saulshanabrook\">@saulshanabrook</a></strong> merged by <strong><a href=\"https://github.com/kgryte\">@kgryte</a></strong></li>\n<li><a href=\"https://github.com/jupyterlab/jupyterlab-data-explorer/pull/109\">(#109)</a>: <em>Icons updated to correct colors, added dark mode.</em> by <strong><a href=\"https://github.com/tgeorgeux\">@tgeorgeux</a></strong> merged by <strong><a href=\"https://github.com/saulshanabrook\">@saulshanabrook</a></strong></li>\n<li><a href=\"https://github.com/jupyterlab/jupyterlab-data-explorer/pull/107\">(#107)</a>: <em>Setup linting</em> by <strong><a href=\"https://github.com/kgryte\">@kgryte</a></strong> merged by <strong><a href=\"https://github.com/saulshanabrook\">@saulshanabrook</a></strong></li>\n<li><a href=\"https://github.com/jupyterlab/jupyterlab-data-explorer/pull/106\">(#106)</a>: <em>Fix missing command</em> by <strong><a href=\"https://github.com/kgryte\">@kgryte</a></strong> merged by <strong><a href=\"https://github.com/saulshanabrook\">@saulshanabrook</a></strong></li>\n<li><a href=\"https://github.com/jupyterlab/jupyterlab-data-explorer/pull/102\">(#102)</a>: <em>Remove obsolete Docker ignore file</em> by <strong><a href=\"https://github.com/kgryte\">@kgryte</a></strong> merged by <strong><a href=\"https://github.com/saulshanabrook\">@saulshanabrook</a></strong></li>\n<li><a href=\"https://github.com/jupyterlab/jupyterlab-data-explorer/pull/98\">(#98)</a>: <em>Revert \"Active URL fixes\"</em> by <strong><a href=\"https://github.com/saulshanabrook\">@saulshanabrook</a></strong> merged by <strong><a href=\"https://github.com/saulshanabrook\">@saulshanabrook</a></strong></li>\n<li><a href=\"https://github.com/jupyterlab/jupyterlab-data-explorer/pull/97\">(#97)</a>: <em>Active URL fixes</em> by <strong><a href=\"https://github.com/saulshanabrook\">@saulshanabrook</a></strong> merged by <strong><a href=\"https://github.com/saulshanabrook\">@saulshanabrook</a></strong></li>\n<li><a href=\"https://github.com/jupyterlab/jupyterlab-data-explorer/pull/96\">(#96)</a>: <em>Update styles to use JL CSS variables</em> by <strong><a href=\"https://github.com/saulshanabrook\">@saulshanabrook</a></strong> merged by <strong><a href=\"https://github.com/saulshanabrook\">@saulshanabrook</a></strong></li>\n<li><a href=\"https://github.com/jupyterlab/jupyterlab-data-explorer/pull/95\">(#95)</a>: <em>Moves all CSS to external file</em> by <strong><a href=\"https://github.com/saulshanabrook\">@saulshanabrook</a></strong> merged by <strong><a href=\"https://github.com/saulshanabrook\">@saulshanabrook</a></strong></li>\n<li><a href=\"https://github.com/jupyterlab/jupyterlab-data-explorer/pull/93\">(#93)</a>: <em>Refactor extension organization</em> by <strong><a href=\"https://github.com/kgryte\">@kgryte</a></strong> merged by <strong><a href=\"https://github.com/saulshanabrook\">@saulshanabrook</a></strong></li>\n<li><a href=\"https://github.com/jupyterlab/jupyterlab-data-explorer/pull/91\">(#91)</a>: <em>Support rearranging notebook cells</em> by <strong><a href=\"https://github.com/saulshanabrook\">@saulshanabrook</a></strong> merged by <strong><a href=\"https://github.com/saulshanabrook\">@saulshanabrook</a></strong></li>\n</ul>\n<h5><a href=\"https://github.com/jupyterlab/jupyterlab-git\">jupyterlab/jupyterlab-git</a></h5>\n<ul>\n<li><a href=\"https://github.com/jupyterlab/jupyterlab-git/pull/431\">(#431)</a>: <em>ensured that the styling in diff.css gets imported into the bundle</em> by <strong><a href=\"https://github.com/telamonian\">@telamonian</a></strong> merged by <strong><a href=\"https://github.com/fcollonval\">@fcollonval</a></strong></li>\n<li><a href=\"https://github.com/jupyterlab/jupyterlab-git/pull/428\">(#428)</a>: <em>Fix filename split in detailed log (#427)</em> by <strong><a href=\"https://github.com/thoralf-gutierrez\">@thoralf-gutierrez</a></strong> merged by <strong><a href=\"https://github.com/fcollonval\">@fcollonval</a></strong></li>\n<li><a href=\"https://github.com/jupyterlab/jupyterlab-git/pull/426\">(#426)</a>: <em>Correct dark theming</em> by <strong><a href=\"https://github.com/fcollonval\">@fcollonval</a></strong> merged by <strong><a href=\"https://github.com/telamonian\">@telamonian</a></strong></li>\n<li><a href=\"https://github.com/jupyterlab/jupyterlab-git/pull/424\">(#424)</a>: <em>Adds user setings: historyCount controls number of logs shown</em> by <strong><a href=\"https://github.com/telamonian\">@telamonian</a></strong> merged by <strong><a href=\"https://github.com/fcollonval\">@fcollonval</a></strong></li>\n<li><a href=\"https://github.com/jupyterlab/jupyterlab-git/pull/423\">(#423)</a>: <em>instead of <code>yarn</code> use <code>jlpm</code>, which is guaranteed to be installed alongside Jupyterlab</em> by <strong><a href=\"https://github.com/telamonian\">@telamonian</a></strong> merged by <strong><a href=\"https://github.com/fcollonval\">@fcollonval</a></strong></li>\n<li><a href=\"https://github.com/jupyterlab/jupyterlab-git/pull/421\">(#421)</a>: <em>Update documentation and dev depencies</em> by <strong><a href=\"https://github.com/fcollonval\">@fcollonval</a></strong> merged by <strong><a href=\"https://github.com/fcollonval\">@fcollonval</a></strong></li>\n</ul>\n<h5><a href=\"https://github.com/jupyterlab/jupyterlab-hdf5\">jupyterlab/jupyterlab-hdf5</a></h5>\n<ul>\n<li><a href=\"https://github.com/jupyterlab/jupyterlab-hdf5/pull/17\">(#17)</a>: <em>Fix bugs for some hdf5 files</em> by <strong><a href=\"https://github.com/saulshanabrook\">@saulshanabrook</a></strong> merged by <strong><a href=\"https://github.com/telamonian\">@telamonian</a></strong></li>\n<li><a href=\"https://github.com/jupyterlab/jupyterlab-hdf5/pull/16\">(#16)</a>: <em>Don't use main area widget for data registry</em> by <strong><a href=\"https://github.com/saulshanabrook\">@saulshanabrook</a></strong> merged by <strong><a href=\"https://github.com/telamonian\">@telamonian</a></strong></li>\n</ul>\n<h5><a href=\"https://github.com/jupyterlab/jupyterlab-metadata-service\">jupyterlab/jupyterlab-metadata-service</a></h5>\n<ul>\n<li><a href=\"https://github.com/jupyterlab/jupyterlab-metadata-service/pull/57\">(#57)</a>: <em>Remove duplicate dev dependency</em> by <strong><a href=\"https://github.com/kgryte\">@kgryte</a></strong> merged by <strong><a href=\"https://github.com/saulshanabrook\">@saulshanabrook</a></strong></li>\n<li><a href=\"https://github.com/jupyterlab/jupyterlab-metadata-service/pull/56\">(#56)</a>: <em>Test lint in CI</em> by <strong><a href=\"https://github.com/saulshanabrook\">@saulshanabrook</a></strong> merged by <strong><a href=\"https://github.com/kgryte\">@kgryte</a></strong></li>\n<li><a href=\"https://github.com/jupyterlab/jupyterlab-metadata-service/pull/55\">(#55)</a>: <em>Move config files to config directory</em> by <strong><a href=\"https://github.com/kgryte\">@kgryte</a></strong> merged by <strong><a href=\"https://github.com/saulshanabrook\">@saulshanabrook</a></strong></li>\n<li><a href=\"https://github.com/jupyterlab/jupyterlab-metadata-service/pull/53\">(#53)</a>: <em>Update tests</em> by <strong><a href=\"https://github.com/kgryte\">@kgryte</a></strong> merged by <strong><a href=\"https://github.com/saulshanabrook\">@saulshanabrook</a></strong></li>\n<li><a href=\"https://github.com/jupyterlab/jupyterlab-metadata-service/pull/51\">(#51)</a>: <em>Reorganize source tree</em> by <strong><a href=\"https://github.com/kgryte\">@kgryte</a></strong> merged by <strong><a href=\"https://github.com/saulshanabrook\">@saulshanabrook</a></strong></li>\n<li><a href=\"https://github.com/jupyterlab/jupyterlab-metadata-service/pull/50\">(#50)</a>: <em>Update docs</em> by <strong><a href=\"https://github.com/kgryte\">@kgryte</a></strong> merged by <strong><a href=\"https://github.com/saulshanabrook\">@saulshanabrook</a></strong></li>\n<li><a href=\"https://github.com/jupyterlab/jupyterlab-metadata-service/pull/49\">(#49)</a>: <em>Update license and license headers</em> by <strong><a href=\"https://github.com/kgryte\">@kgryte</a></strong> merged by <strong><a href=\"https://github.com/saulshanabrook\">@saulshanabrook</a></strong></li>\n<li><a href=\"https://github.com/jupyterlab/jupyterlab-metadata-service/pull/47\">(#47)</a>: <em>Update press_release.md</em> by <strong><a href=\"https://github.com/tonyfast\">@tonyfast</a></strong> merged by <strong><a href=\"https://github.com/saulshanabrook\">@saulshanabrook</a></strong></li>\n<li><a href=\"https://github.com/jupyterlab/jupyterlab-metadata-service/pull/43\">(#43)</a>: <em>Add some initial user docs</em> by <strong><a href=\"https://github.com/saulshanabrook\">@saulshanabrook</a></strong> merged by <strong><a href=\"https://github.com/saulshanabrook\">@saulshanabrook</a></strong></li>\n<li><a href=\"https://github.com/jupyterlab/jupyterlab-metadata-service/pull/38\">(#38)</a>: <em>Display JSON LD from Data Registry</em> by <strong><a href=\"https://github.com/saulshanabrook\">@saulshanabrook</a></strong> merged by <strong><a href=\"https://github.com/saulshanabrook\">@saulshanabrook</a></strong></li>\n<li><a href=\"https://github.com/jupyterlab/jupyterlab-metadata-service/pull/37\">(#37)</a>: <em>Change linked data providers to return thunks</em> by <strong><a href=\"https://github.com/saulshanabrook\">@saulshanabrook</a></strong> merged by <strong><a href=\"https://github.com/saulshanabrook\">@saulshanabrook</a></strong></li>\n<li><a href=\"https://github.com/jupyterlab/jupyterlab-metadata-service/pull/35\">(#35)</a>: <em>Cleanup ui</em> by <strong><a href=\"https://github.com/saulshanabrook\">@saulshanabrook</a></strong> merged by <strong><a href=\"https://github.com/saulshanabrook\">@saulshanabrook</a></strong></li>\n<li><a href=\"https://github.com/jupyterlab/jupyterlab-metadata-service/pull/34\">(#34)</a>: <em>Add CSS file</em> by <strong><a href=\"https://github.com/saulshanabrook\">@saulshanabrook</a></strong> merged by <strong><a href=\"https://github.com/saulshanabrook\">@saulshanabrook</a></strong></li>\n<li><a href=\"https://github.com/jupyterlab/jupyterlab-metadata-service/pull/32\">(#32)</a>: <em>package.json update</em> by <strong><a href=\"https://github.com/karamba228\">@karamba228</a></strong> merged by <strong><a href=\"https://github.com/saulshanabrook\">@saulshanabrook</a></strong></li>\n</ul>\n<h5><a href=\"https://github.com/jupyterlab/jupyterlab-telemetry\">jupyterlab/jupyterlab-telemetry</a></h5>\n<ul>\n<li><a href=\"https://github.com/jupyterlab/jupyterlab-telemetry/pull/12\">(#12)</a>: <em>Fix project name typo</em> by <strong><a href=\"https://github.com/kinow\">@kinow</a></strong> merged by <strong><a href=\"https://github.com/jaipreet-s\">@jaipreet-s</a></strong></li>\n<li><a href=\"https://github.com/jupyterlab/jupyterlab-telemetry/pull/10\">(#10)</a>: <em>Add NPM build badge</em> by <strong><a href=\"https://github.com/jaipreet-s\">@jaipreet-s</a></strong> merged by <strong><a href=\"https://github.com/Zsailer\">@Zsailer</a></strong></li>\n<li><a href=\"https://github.com/jupyterlab/jupyterlab-telemetry/pull/9\">(#9)</a>: <em>Initial cut of JupyterLab EventLog</em> by <strong><a href=\"https://github.com/jaipreet-s\">@jaipreet-s</a></strong> merged by <strong><a href=\"https://github.com/jaipreet-s\">@jaipreet-s</a></strong></li>\n</ul>\n<h5><a href=\"https://github.com/jupyterlab/jupyterlab-toc\">jupyterlab/jupyterlab-toc</a></h5>\n<ul>\n<li><a href=\"https://github.com/jupyterlab/jupyterlab-toc/pull/102\">(#102)</a>: <em>Add a demo notebook</em> by <strong><a href=\"https://github.com/kgryte\">@kgryte</a></strong> merged by <strong><a href=\"https://github.com/ian-r-rose\">@ian-r-rose</a></strong></li>\n</ul>"
      }
     },
     "298ba2972c084d8f8657a770941f3290": {
      "model_module": "@jupyter-widgets/controls",
      "model_module_version": "1.5.0",
      "model_name": "TabModel",
      "state": {
       "_dom_classes": [],
       "_model_module": "@jupyter-widgets/controls",
       "_model_module_version": "1.5.0",
       "_model_name": "TabModel",
       "_titles": {
        "0": "binder-examples",
        "1": "ipython",
        "2": "jupyter",
        "3": "jupyter-widgets",
        "4": "jupyterhub",
        "5": "jupyterlab"
       },
       "_view_count": null,
       "_view_module": "@jupyter-widgets/controls",
       "_view_module_version": "1.5.0",
       "_view_name": "TabView",
       "box_style": "",
       "children": [
        "IPY_MODEL_85c034a7895b458fa68ea9c3f8fdd8d0",
        "IPY_MODEL_806f4e3a68a6414da94dcad0d9edf136",
        "IPY_MODEL_45e36c00b7b84fd6bffc646a1ae2e87e",
        "IPY_MODEL_4d718c51d8574dda900ad425bb67968b",
        "IPY_MODEL_ae6d18701e8e4ceb8d550412a7cfd3d4",
        "IPY_MODEL_8e622ec3edf84a4bb9723f347dba99cb"
       ],
       "layout": "IPY_MODEL_48e620708e7d4f41b0da836a613a10e7",
       "selected_index": 0
      }
     },
     "2e9209e1197448b99d26223f94aafc23": {
      "model_module": "@jupyter-widgets/base",
      "model_module_version": "1.2.0",
      "model_name": "LayoutModel",
      "state": {
       "_model_module": "@jupyter-widgets/base",
       "_model_module_version": "1.2.0",
       "_model_name": "LayoutModel",
       "_view_count": null,
       "_view_module": "@jupyter-widgets/base",
       "_view_module_version": "1.2.0",
       "_view_name": "LayoutView",
       "align_content": null,
       "align_items": null,
       "align_self": null,
       "border": null,
       "bottom": null,
       "display": null,
       "flex": null,
       "flex_flow": null,
       "grid_area": null,
       "grid_auto_columns": null,
       "grid_auto_flow": null,
       "grid_auto_rows": null,
       "grid_column": null,
       "grid_gap": null,
       "grid_row": null,
       "grid_template_areas": null,
       "grid_template_columns": null,
       "grid_template_rows": null,
       "height": null,
       "justify_content": null,
       "justify_items": null,
       "left": null,
       "margin": null,
       "max_height": null,
       "max_width": null,
       "min_height": null,
       "min_width": null,
       "object_fit": null,
       "object_position": null,
       "order": null,
       "overflow": null,
       "overflow_x": null,
       "overflow_y": null,
       "padding": null,
       "right": null,
       "top": null,
       "visibility": null,
       "width": null
      }
     },
     "306c9ce0765b4285be1533dcb7eef491": {
      "model_module": "@jupyter-widgets/controls",
      "model_module_version": "1.5.0",
      "model_name": "TabModel",
      "state": {
       "_dom_classes": [],
       "_model_module": "@jupyter-widgets/controls",
       "_model_module_version": "1.5.0",
       "_model_name": "TabModel",
       "_titles": {
        "0": "binder-examples",
        "1": "ipython",
        "2": "jupyter",
        "3": "jupyter-widgets",
        "4": "jupyterhub",
        "5": "jupyterlab"
       },
       "_view_count": null,
       "_view_module": "@jupyter-widgets/controls",
       "_view_module_version": "1.5.0",
       "_view_name": "TabView",
       "box_style": "",
       "children": [
        "IPY_MODEL_68d3437ab11348c58f141a6bbe0674d3",
        "IPY_MODEL_f3c3f6efa1c94f72831dba1432afac97",
        "IPY_MODEL_787c54a615374b14835277903a9124c4",
        "IPY_MODEL_e49a8b56bdc341f1ba01460f247b2327",
        "IPY_MODEL_713dd65f79fc4a339374c3cd68206988",
        "IPY_MODEL_2835b39c99274de19784bad1b6d15491"
       ],
       "layout": "IPY_MODEL_b2a76978c43149568cc8fb5571050bb6",
       "selected_index": 0
      }
     },
     "35d2dac1d7e04eaf91fb5b1edb3460a1": {
      "model_module": "@jupyter-widgets/controls",
      "model_module_version": "1.5.0",
      "model_name": "DescriptionStyleModel",
      "state": {
       "_model_module": "@jupyter-widgets/controls",
       "_model_module_version": "1.5.0",
       "_model_name": "DescriptionStyleModel",
       "_view_count": null,
       "_view_module": "@jupyter-widgets/base",
       "_view_module_version": "1.2.0",
       "_view_name": "StyleView",
       "description_width": ""
      }
     },
     "3e836c945bea453391ce31cca16d7fdc": {
      "model_module": "@jupyter-widgets/controls",
      "model_module_version": "1.5.0",
      "model_name": "HTMLModel",
      "state": {
       "_dom_classes": [],
       "_model_module": "@jupyter-widgets/controls",
       "_model_module_version": "1.5.0",
       "_model_name": "HTMLModel",
       "_view_count": null,
       "_view_module": "@jupyter-widgets/controls",
       "_view_module_version": "1.5.0",
       "_view_name": "HTMLView",
       "description": "",
       "description_tooltip": null,
       "layout": "IPY_MODEL_db84634919d946889fee9838339450ad",
       "placeholder": "​",
       "style": "IPY_MODEL_7f95f311b31d4ed3b26e5c430eb72aa6",
       "value": "<h4>jupyter</h4>\n<h5><a href=\"https://github.com/jupyter/atom-notebook\">jupyter/atom-notebook</a></h5>\n<h5><a href=\"https://github.com/jupyter/docker-stacks\">jupyter/docker-stacks</a></h5>\n<ul>\n<li><a href=\"https://github.com/jupyter/docker-stacks/issues/927\">(#927)</a>: <em>R reshape2 lib fails to load (stringi.so / libicui18n.so.64 not found)</em> by <strong><a href=\"https://github.com/emthomas\">@emthomas</a></strong></li>\n<li><a href=\"https://github.com/jupyter/docker-stacks/issues/921\">(#921)</a>: <em>ImportError: PyArrow &gt;= 0.8.0 must be installed; however, it was not found.</em> by <strong><a href=\"https://github.com/mjimcua\">@mjimcua</a></strong></li>\n<li><a href=\"https://github.com/jupyter/docker-stacks/issues/127\">(#127)</a>: <em>jupyter/all-spark-notebook pyspark sc.textFile() can not access files stored on Amazon s3</em> by <strong><a href=\"https://github.com/DrPaulBrewer\">@DrPaulBrewer</a></strong></li>\n</ul>\n<h5><a href=\"https://github.com/jupyter/enhancement-proposals\">jupyter/enhancement-proposals</a></h5>\n<ul>\n<li><a href=\"https://github.com/jupyter/enhancement-proposals/issues/27\">(#27)</a>: <em>[JEP 0029] JEP Pre-proposal: New JEP process</em> by <strong><a href=\"https://github.com/captainsafia\">@captainsafia</a></strong></li>\n</ul>\n<h5><a href=\"https://github.com/jupyter/enterprise_gateway\">jupyter/enterprise_gateway</a></h5>\n<ul>\n<li><a href=\"https://github.com/jupyter/enterprise_gateway/issues/740\">(#740)</a>: <em>RecursionError in Spark - Python (Kubernetes Mode)</em> by <strong><a href=\"https://github.com/abz53378\">@abz53378</a></strong></li>\n<li><a href=\"https://github.com/jupyter/enterprise_gateway/issues/745\">(#745)</a>: <em>Kernel Launch Timeout</em> by <strong><a href=\"https://github.com/srroh1\">@srroh1</a></strong></li>\n<li><a href=\"https://github.com/jupyter/enterprise_gateway/issues/744\">(#744)</a>: <em>Docker image for sparkmagic</em> by <strong><a href=\"https://github.com/praveenkanamarlapudi\">@praveenkanamarlapudi</a></strong></li>\n</ul>\n<h5><a href=\"https://github.com/jupyter/governance\">jupyter/governance</a></h5>\n<ul>\n<li><a href=\"https://github.com/jupyter/governance/issues/68\">(#68)</a>: <em>Adding CoC guidelines for enforcing incidents in public forums that don't require an official report</em> by <strong><a href=\"https://github.com/choldgraf\">@choldgraf</a></strong></li>\n<li><a href=\"https://github.com/jupyter/governance/issues/70\">(#70)</a>: <em>CoC: Adding a list of violating actions</em> by <strong><a href=\"https://github.com/choldgraf\">@choldgraf</a></strong></li>\n<li><a href=\"https://github.com/jupyter/governance/issues/67\">(#67)</a>: <em>Establishing cross project monthy communication mechanism</em> by <strong><a href=\"https://github.com/ellisonbg\">@ellisonbg</a></strong></li>\n</ul>\n<h5><a href=\"https://github.com/jupyter/jupyter\">jupyter/jupyter</a></h5>\n<ul>\n<li><a href=\"https://github.com/jupyter/jupyter/issues/68\">(#68)</a>: <em>Register IANA media type</em> by <strong><a href=\"https://github.com/flying-sheep\">@flying-sheep</a></strong></li>\n</ul>\n<h5><a href=\"https://github.com/jupyter/jupyter-book\">jupyter/jupyter-book</a></h5>\n<ul>\n<li><a href=\"https://github.com/jupyter/jupyter-book/issues/396\">(#396)</a>: <em>Jupyter Book Logo</em> by <strong><a href=\"https://github.com/javag97\">@javag97</a></strong></li>\n<li><a href=\"https://github.com/jupyter/jupyter-book/issues/391\">(#391)</a>: <em>Mysterious 404 error with github pages</em> by <strong><a href=\"https://github.com/sidneymbell\">@sidneymbell</a></strong></li>\n<li><a href=\"https://github.com/jupyter/jupyter-book/issues/274\">(#274)</a>: <em>Support citeproc syntax in notebooks/md files</em> by <strong><a href=\"https://github.com/choldgraf\">@choldgraf</a></strong></li>\n<li><a href=\"https://github.com/jupyter/jupyter-book/issues/113\">(#113)</a>: <em>Single document mode</em> by <strong><a href=\"https://github.com/choldgraf\">@choldgraf</a></strong></li>\n</ul>\n<h5><a href=\"https://github.com/jupyter/jupyter-sphinx\">jupyter/jupyter-sphinx</a></h5>\n<ul>\n<li><a href=\"https://github.com/jupyter/jupyter-sphinx/issues/84\">(#84)</a>: <em>config option to truncate traceback</em> by <strong><a href=\"https://github.com/seanpue\">@seanpue</a></strong></li>\n</ul>\n<h5><a href=\"https://github.com/jupyter/jupyter.github.io\">jupyter/jupyter.github.io</a></h5>\n<h5><a href=\"https://github.com/jupyter/jupyter_client\">jupyter/jupyter_client</a></h5>\n<ul>\n<li><a href=\"https://github.com/jupyter/jupyter_client/issues/487\">(#487)</a>: <em>Spawning many kernels may result in ZMQError</em> by <strong><a href=\"https://github.com/JohanMabille\">@JohanMabille</a></strong></li>\n<li><a href=\"https://github.com/jupyter/jupyter_client/issues/481\">(#481)</a>: <em>win32security.GetFileSecurity kernel error in jupyter- lab v1.1.4 client v5.3.3</em> by <strong><a href=\"https://github.com/wikwok\">@wikwok</a></strong></li>\n</ul>\n<h5><a href=\"https://github.com/jupyter/jupyter_console\">jupyter/jupyter_console</a></h5>\n<ul>\n<li><a href=\"https://github.com/jupyter/jupyter_console/issues/156\">(#156)</a>: <em>Jupyter console configuration for colors</em> by <strong><a href=\"https://github.com/unode\">@unode</a></strong></li>\n</ul>\n<h5><a href=\"https://github.com/jupyter/jupyter_core\">jupyter/jupyter_core</a></h5>\n<ul>\n<li><a href=\"https://github.com/jupyter/jupyter_core/issues/172\">(#172)</a>: <em>paths.secure_write fails on CIFS volumes</em> by <strong><a href=\"https://github.com/hroncok\">@hroncok</a></strong></li>\n<li><a href=\"https://github.com/jupyter/jupyter_core/issues/165\">(#165)</a>: <em>Installing <code>distributed</code> breaks <code>Jupyter</code> and appears to be a <code>Jupyter</code> issue</em> by <strong><a href=\"https://github.com/jolespin\">@jolespin</a></strong></li>\n</ul>\n<h5><a href=\"https://github.com/jupyter/jupyter_server\">jupyter/jupyter_server</a></h5>\n<ul>\n<li><a href=\"https://github.com/jupyter/jupyter_server/issues/90\">(#90)</a>: <em>Transition to Kernel Provider model for kernel management</em> by <strong><a href=\"https://github.com/kevin-bates\">@kevin-bates</a></strong></li>\n</ul>\n<h5><a href=\"https://github.com/jupyter/kernel_gateway\">jupyter/kernel_gateway</a></h5>\n<ul>\n<li><a href=\"https://github.com/jupyter/kernel_gateway/issues/320\">(#320)</a>: <em>Jupyter Notebook: 404 GET /api/kernels</em> by <strong><a href=\"https://github.com/mikechen66\">@mikechen66</a></strong></li>\n</ul>\n<h5><a href=\"https://github.com/jupyter/nbconvert\">jupyter/nbconvert</a></h5>\n<ul>\n<li><a href=\"https://github.com/jupyter/nbconvert/issues/1031\">(#1031)</a>: <em>Gnarly proof-of-concept PDF generation with QtWebEngine</em> by <strong><a href=\"https://github.com/bollwyvl\">@bollwyvl</a></strong></li>\n<li><a href=\"https://github.com/jupyter/nbconvert/issues/1126\">(#1126)</a>: <em>Sphinx parallel errors</em> by <strong><a href=\"https://github.com/aaronmarkham\">@aaronmarkham</a></strong></li>\n<li><a href=\"https://github.com/jupyter/nbconvert/issues/1127\">(#1127)</a>: <em>Can't modify data_png section with tplx template</em> by <strong><a href=\"https://github.com/collinmccarthy\">@collinmccarthy</a></strong></li>\n</ul>\n<h5><a href=\"https://github.com/jupyter/nbdime\">jupyter/nbdime</a></h5>\n<ul>\n<li><a href=\"https://github.com/jupyter/nbdime/issues/501\">(#501)</a>: <em>nbdiff-web without an internet connection</em> by <strong><a href=\"https://github.com/mgunyho\">@mgunyho</a></strong></li>\n<li><a href=\"https://github.com/jupyter/nbdime/issues/453\">(#453)</a>: <em>Use nbdime as default diff tool for Jupyter Notebook on Github</em> by <strong><a href=\"https://github.com/odysseus0\">@odysseus0</a></strong></li>\n</ul>\n<h5><a href=\"https://github.com/jupyter/nbformat\">jupyter/nbformat</a></h5>\n<ul>\n<li><a href=\"https://github.com/jupyter/nbformat/issues/147\">(#147)</a>: <em>Please support pathlib.Path objects</em> by <strong><a href=\"https://github.com/cdeil\">@cdeil</a></strong></li>\n</ul>\n<h5><a href=\"https://github.com/jupyter/nbgrader\">jupyter/nbgrader</a></h5>\n<h5><a href=\"https://github.com/jupyter/nbviewer\">jupyter/nbviewer</a></h5>\n<ul>\n<li><a href=\"https://github.com/jupyter/nbviewer/issues/860\">(#860)</a>: <em>Code is not displayed in rendered notebook</em> by <strong><a href=\"https://github.com/radoslawkrolikowski\">@radoslawkrolikowski</a></strong></li>\n<li><a href=\"https://github.com/jupyter/nbviewer/issues/859\">(#859)</a>: <em>404 on public github notebook</em> by <strong><a href=\"https://github.com/moorepants\">@moorepants</a></strong></li>\n<li><a href=\"https://github.com/jupyter/nbviewer/issues/855\">(#855)</a>: <em>Error 503: GitHub API rate limit exceeded. Try again soon. (new issue)</em> by <strong><a href=\"https://github.com/cornhundred\">@cornhundred</a></strong></li>\n<li><a href=\"https://github.com/jupyter/nbviewer/issues/673\">(#673)</a>: <em>Error 503: GitHub API rate limit exceeded. Try again soon.</em> by <strong><a href=\"https://github.com/cornhundred\">@cornhundred</a></strong></li>\n</ul>\n<h5><a href=\"https://github.com/jupyter/notebook\">jupyter/notebook</a></h5>\n<ul>\n<li><a href=\"https://github.com/jupyter/notebook/issues/4998\">(#4998)</a>: <em>Kernel error</em> by <strong><a href=\"https://github.com/blankws\">@blankws</a></strong></li>\n<li><a href=\"https://github.com/jupyter/notebook/issues/3555\">(#3555)</a>: <em>Jupyter Notebook won't load on Github</em> by <strong><a href=\"https://github.com/lfunderburk\">@lfunderburk</a></strong></li>\n</ul>\n<h5><a href=\"https://github.com/jupyter/qtconsole\">jupyter/qtconsole</a></h5>\n<ul>\n<li><a href=\"https://github.com/jupyter/qtconsole/issues/382\">(#382)</a>: <em>Suggestions: ipywidgets and strip_source option</em> by <strong><a href=\"https://github.com/luiztauffer\">@luiztauffer</a></strong></li>\n<li><a href=\"https://github.com/jupyter/qtconsole/issues/388\">(#388)</a>: <em>Importing qtconsole RichJupyterWidget in IPython breaks syntax highlighting</em> by <strong><a href=\"https://github.com/jni\">@jni</a></strong></li>\n<li><a href=\"https://github.com/jupyter/qtconsole/issues/383\">(#383)</a>: <em>macOS | Traceback (+PyQt5 crash) clicking a call tip away</em> by <strong><a href=\"https://github.com/tmontes\">@tmontes</a></strong></li>\n<li><a href=\"https://github.com/jupyter/qtconsole/issues/387\">(#387)</a>: <em>SVG in qtconsole dont underline</em> by <strong><a href=\"https://github.com/fhgd\">@fhgd</a></strong></li>\n</ul>\n<h5><a href=\"https://github.com/jupyter/repo2docker\">jupyter/repo2docker</a></h5>\n<ul>\n<li><a href=\"https://github.com/jupyter/repo2docker/issues/807\">(#807)</a>: <em>Add an environment variable during the build process.</em> by <strong><a href=\"https://github.com/travigd\">@travigd</a></strong></li>\n<li><a href=\"https://github.com/jupyter/repo2docker/issues/798\">(#798)</a>: <em>Add support for DRYAD data repository</em> by <strong><a href=\"https://github.com/nuest\">@nuest</a></strong></li>\n<li><a href=\"https://github.com/jupyter/repo2docker/issues/801\">(#801)</a>: <em>Error on <code>--push</code></em> by <strong><a href=\"https://github.com/arokem\">@arokem</a></strong></li>\n</ul>\n<h5><a href=\"https://github.com/jupyter/steering\">jupyter/steering</a></h5>\n<h5><a href=\"https://github.com/jupyter/telemetry\">jupyter/telemetry</a></h5>\n<ul>\n<li><a href=\"https://github.com/jupyter/telemetry/issues/31\">(#31)</a>: <em>Personal data design considerations</em> by <strong><a href=\"https://github.com/ellisonbg\">@ellisonbg</a></strong></li>\n<li><a href=\"https://github.com/jupyter/telemetry/issues/28\">(#28)</a>: <em>Examples of logging code run in a cell (along with usernames)</em> by <strong><a href=\"https://github.com/gclen\">@gclen</a></strong></li>\n</ul>\n<h5><a href=\"https://github.com/jupyter/terminado\">jupyter/terminado</a></h5>\n<ul>\n<li><a href=\"https://github.com/jupyter/terminado/issues/69\">(#69)</a>: <em>xterm.js addon</em> by <strong><a href=\"https://github.com/fabianfreyer\">@fabianfreyer</a></strong></li>\n</ul>"
      }
     },
     "41a3b7d3d3cd43148ce9afe4e137bbbd": {
      "model_module": "@jupyter-widgets/base",
      "model_module_version": "1.2.0",
      "model_name": "LayoutModel",
      "state": {
       "_model_module": "@jupyter-widgets/base",
       "_model_module_version": "1.2.0",
       "_model_name": "LayoutModel",
       "_view_count": null,
       "_view_module": "@jupyter-widgets/base",
       "_view_module_version": "1.2.0",
       "_view_name": "LayoutView",
       "align_content": null,
       "align_items": null,
       "align_self": null,
       "border": null,
       "bottom": null,
       "display": null,
       "flex": null,
       "flex_flow": null,
       "grid_area": null,
       "grid_auto_columns": null,
       "grid_auto_flow": null,
       "grid_auto_rows": null,
       "grid_column": null,
       "grid_gap": null,
       "grid_row": null,
       "grid_template_areas": null,
       "grid_template_columns": null,
       "grid_template_rows": null,
       "height": null,
       "justify_content": null,
       "justify_items": null,
       "left": null,
       "margin": null,
       "max_height": null,
       "max_width": null,
       "min_height": null,
       "min_width": null,
       "object_fit": null,
       "object_position": null,
       "order": null,
       "overflow": null,
       "overflow_x": null,
       "overflow_y": null,
       "padding": null,
       "right": null,
       "top": null,
       "visibility": null,
       "width": null
      }
     },
     "45e36c00b7b84fd6bffc646a1ae2e87e": {
      "model_module": "@jupyter-widgets/controls",
      "model_module_version": "1.5.0",
      "model_name": "HTMLModel",
      "state": {
       "_dom_classes": [],
       "_model_module": "@jupyter-widgets/controls",
       "_model_module_version": "1.5.0",
       "_model_name": "HTMLModel",
       "_view_count": null,
       "_view_module": "@jupyter-widgets/controls",
       "_view_module_version": "1.5.0",
       "_view_name": "HTMLView",
       "description": "",
       "description_tooltip": null,
       "layout": "IPY_MODEL_597548a716d1448983601e775a963498",
       "placeholder": "​",
       "style": "IPY_MODEL_d8bd136941254e9297eef46a0e265dc8",
       "value": "<h4>jupyter</h4>\n<h5><a href=\"https://github.com/jupyter/atom-notebook\">jupyter/atom-notebook</a></h5>\n<h5><a href=\"https://github.com/jupyter/docker-stacks\">jupyter/docker-stacks</a></h5>\n<ul>\n<li><a href=\"https://github.com/jupyter/docker-stacks/issues/927\">(#927)</a>: <em>R reshape2 lib fails to load (stringi.so / libicui18n.so.64 not found)</em> by <strong><a href=\"https://github.com/emthomas\">@emthomas</a></strong></li>\n<li><a href=\"https://github.com/jupyter/docker-stacks/issues/921\">(#921)</a>: <em>ImportError: PyArrow &gt;= 0.8.0 must be installed; however, it was not found.</em> by <strong><a href=\"https://github.com/mjimcua\">@mjimcua</a></strong></li>\n<li><a href=\"https://github.com/jupyter/docker-stacks/issues/127\">(#127)</a>: <em>jupyter/all-spark-notebook pyspark sc.textFile() can not access files stored on Amazon s3</em> by <strong><a href=\"https://github.com/DrPaulBrewer\">@DrPaulBrewer</a></strong></li>\n</ul>\n<h5><a href=\"https://github.com/jupyter/enhancement-proposals\">jupyter/enhancement-proposals</a></h5>\n<ul>\n<li><a href=\"https://github.com/jupyter/enhancement-proposals/issues/27\">(#27)</a>: <em>[JEP 0029] JEP Pre-proposal: New JEP process</em> by <strong><a href=\"https://github.com/captainsafia\">@captainsafia</a></strong></li>\n</ul>\n<h5><a href=\"https://github.com/jupyter/enterprise_gateway\">jupyter/enterprise_gateway</a></h5>\n<ul>\n<li><a href=\"https://github.com/jupyter/enterprise_gateway/issues/740\">(#740)</a>: <em>RecursionError in Spark - Python (Kubernetes Mode)</em> by <strong><a href=\"https://github.com/abz53378\">@abz53378</a></strong></li>\n<li><a href=\"https://github.com/jupyter/enterprise_gateway/issues/745\">(#745)</a>: <em>Kernel Launch Timeout</em> by <strong><a href=\"https://github.com/srroh1\">@srroh1</a></strong></li>\n<li><a href=\"https://github.com/jupyter/enterprise_gateway/issues/744\">(#744)</a>: <em>Docker image for sparkmagic</em> by <strong><a href=\"https://github.com/praveenkanamarlapudi\">@praveenkanamarlapudi</a></strong></li>\n</ul>\n<h5><a href=\"https://github.com/jupyter/governance\">jupyter/governance</a></h5>\n<ul>\n<li><a href=\"https://github.com/jupyter/governance/issues/68\">(#68)</a>: <em>Adding CoC guidelines for enforcing incidents in public forums that don't require an official report</em> by <strong><a href=\"https://github.com/choldgraf\">@choldgraf</a></strong></li>\n<li><a href=\"https://github.com/jupyter/governance/issues/70\">(#70)</a>: <em>CoC: Adding a list of violating actions</em> by <strong><a href=\"https://github.com/choldgraf\">@choldgraf</a></strong></li>\n<li><a href=\"https://github.com/jupyter/governance/issues/67\">(#67)</a>: <em>Establishing cross project monthy communication mechanism</em> by <strong><a href=\"https://github.com/ellisonbg\">@ellisonbg</a></strong></li>\n</ul>\n<h5><a href=\"https://github.com/jupyter/jupyter\">jupyter/jupyter</a></h5>\n<ul>\n<li><a href=\"https://github.com/jupyter/jupyter/issues/68\">(#68)</a>: <em>Register IANA media type</em> by <strong><a href=\"https://github.com/flying-sheep\">@flying-sheep</a></strong></li>\n</ul>\n<h5><a href=\"https://github.com/jupyter/jupyter-book\">jupyter/jupyter-book</a></h5>\n<ul>\n<li><a href=\"https://github.com/jupyter/jupyter-book/issues/396\">(#396)</a>: <em>Jupyter Book Logo</em> by <strong><a href=\"https://github.com/javag97\">@javag97</a></strong></li>\n<li><a href=\"https://github.com/jupyter/jupyter-book/issues/391\">(#391)</a>: <em>Mysterious 404 error with github pages</em> by <strong><a href=\"https://github.com/sidneymbell\">@sidneymbell</a></strong></li>\n<li><a href=\"https://github.com/jupyter/jupyter-book/issues/274\">(#274)</a>: <em>Support citeproc syntax in notebooks/md files</em> by <strong><a href=\"https://github.com/choldgraf\">@choldgraf</a></strong></li>\n<li><a href=\"https://github.com/jupyter/jupyter-book/issues/113\">(#113)</a>: <em>Single document mode</em> by <strong><a href=\"https://github.com/choldgraf\">@choldgraf</a></strong></li>\n</ul>\n<h5><a href=\"https://github.com/jupyter/jupyter-sphinx\">jupyter/jupyter-sphinx</a></h5>\n<ul>\n<li><a href=\"https://github.com/jupyter/jupyter-sphinx/issues/84\">(#84)</a>: <em>config option to truncate traceback</em> by <strong><a href=\"https://github.com/seanpue\">@seanpue</a></strong></li>\n</ul>\n<h5><a href=\"https://github.com/jupyter/jupyter.github.io\">jupyter/jupyter.github.io</a></h5>\n<h5><a href=\"https://github.com/jupyter/jupyter_client\">jupyter/jupyter_client</a></h5>\n<ul>\n<li><a href=\"https://github.com/jupyter/jupyter_client/issues/487\">(#487)</a>: <em>Spawning many kernels may result in ZMQError</em> by <strong><a href=\"https://github.com/JohanMabille\">@JohanMabille</a></strong></li>\n<li><a href=\"https://github.com/jupyter/jupyter_client/issues/481\">(#481)</a>: <em>win32security.GetFileSecurity kernel error in jupyter- lab v1.1.4 client v5.3.3</em> by <strong><a href=\"https://github.com/wikwok\">@wikwok</a></strong></li>\n</ul>\n<h5><a href=\"https://github.com/jupyter/jupyter_console\">jupyter/jupyter_console</a></h5>\n<ul>\n<li><a href=\"https://github.com/jupyter/jupyter_console/issues/156\">(#156)</a>: <em>Jupyter console configuration for colors</em> by <strong><a href=\"https://github.com/unode\">@unode</a></strong></li>\n</ul>\n<h5><a href=\"https://github.com/jupyter/jupyter_core\">jupyter/jupyter_core</a></h5>\n<ul>\n<li><a href=\"https://github.com/jupyter/jupyter_core/issues/172\">(#172)</a>: <em>paths.secure_write fails on CIFS volumes</em> by <strong><a href=\"https://github.com/hroncok\">@hroncok</a></strong></li>\n<li><a href=\"https://github.com/jupyter/jupyter_core/issues/165\">(#165)</a>: <em>Installing <code>distributed</code> breaks <code>Jupyter</code> and appears to be a <code>Jupyter</code> issue</em> by <strong><a href=\"https://github.com/jolespin\">@jolespin</a></strong></li>\n</ul>\n<h5><a href=\"https://github.com/jupyter/jupyter_server\">jupyter/jupyter_server</a></h5>\n<ul>\n<li><a href=\"https://github.com/jupyter/jupyter_server/issues/90\">(#90)</a>: <em>Transition to Kernel Provider model for kernel management</em> by <strong><a href=\"https://github.com/kevin-bates\">@kevin-bates</a></strong></li>\n</ul>\n<h5><a href=\"https://github.com/jupyter/kernel_gateway\">jupyter/kernel_gateway</a></h5>\n<ul>\n<li><a href=\"https://github.com/jupyter/kernel_gateway/issues/320\">(#320)</a>: <em>Jupyter Notebook: 404 GET /api/kernels</em> by <strong><a href=\"https://github.com/mikechen66\">@mikechen66</a></strong></li>\n</ul>\n<h5><a href=\"https://github.com/jupyter/nbconvert\">jupyter/nbconvert</a></h5>\n<ul>\n<li><a href=\"https://github.com/jupyter/nbconvert/issues/1031\">(#1031)</a>: <em>Gnarly proof-of-concept PDF generation with QtWebEngine</em> by <strong><a href=\"https://github.com/bollwyvl\">@bollwyvl</a></strong></li>\n<li><a href=\"https://github.com/jupyter/nbconvert/issues/1126\">(#1126)</a>: <em>Sphinx parallel errors</em> by <strong><a href=\"https://github.com/aaronmarkham\">@aaronmarkham</a></strong></li>\n<li><a href=\"https://github.com/jupyter/nbconvert/issues/1127\">(#1127)</a>: <em>Can't modify data_png section with tplx template</em> by <strong><a href=\"https://github.com/collinmccarthy\">@collinmccarthy</a></strong></li>\n</ul>\n<h5><a href=\"https://github.com/jupyter/nbdime\">jupyter/nbdime</a></h5>\n<ul>\n<li><a href=\"https://github.com/jupyter/nbdime/issues/501\">(#501)</a>: <em>nbdiff-web without an internet connection</em> by <strong><a href=\"https://github.com/mgunyho\">@mgunyho</a></strong></li>\n<li><a href=\"https://github.com/jupyter/nbdime/issues/453\">(#453)</a>: <em>Use nbdime as default diff tool for Jupyter Notebook on Github</em> by <strong><a href=\"https://github.com/odysseus0\">@odysseus0</a></strong></li>\n</ul>\n<h5><a href=\"https://github.com/jupyter/nbformat\">jupyter/nbformat</a></h5>\n<ul>\n<li><a href=\"https://github.com/jupyter/nbformat/issues/147\">(#147)</a>: <em>Please support pathlib.Path objects</em> by <strong><a href=\"https://github.com/cdeil\">@cdeil</a></strong></li>\n</ul>\n<h5><a href=\"https://github.com/jupyter/nbgrader\">jupyter/nbgrader</a></h5>\n<h5><a href=\"https://github.com/jupyter/nbviewer\">jupyter/nbviewer</a></h5>\n<ul>\n<li><a href=\"https://github.com/jupyter/nbviewer/issues/860\">(#860)</a>: <em>Code is not displayed in rendered notebook</em> by <strong><a href=\"https://github.com/radoslawkrolikowski\">@radoslawkrolikowski</a></strong></li>\n<li><a href=\"https://github.com/jupyter/nbviewer/issues/859\">(#859)</a>: <em>404 on public github notebook</em> by <strong><a href=\"https://github.com/moorepants\">@moorepants</a></strong></li>\n<li><a href=\"https://github.com/jupyter/nbviewer/issues/855\">(#855)</a>: <em>Error 503: GitHub API rate limit exceeded. Try again soon. (new issue)</em> by <strong><a href=\"https://github.com/cornhundred\">@cornhundred</a></strong></li>\n<li><a href=\"https://github.com/jupyter/nbviewer/issues/673\">(#673)</a>: <em>Error 503: GitHub API rate limit exceeded. Try again soon.</em> by <strong><a href=\"https://github.com/cornhundred\">@cornhundred</a></strong></li>\n</ul>\n<h5><a href=\"https://github.com/jupyter/notebook\">jupyter/notebook</a></h5>\n<ul>\n<li><a href=\"https://github.com/jupyter/notebook/issues/4998\">(#4998)</a>: <em>Kernel error</em> by <strong><a href=\"https://github.com/blankws\">@blankws</a></strong></li>\n<li><a href=\"https://github.com/jupyter/notebook/issues/3555\">(#3555)</a>: <em>Jupyter Notebook won't load on Github</em> by <strong><a href=\"https://github.com/lfunderburk\">@lfunderburk</a></strong></li>\n</ul>\n<h5><a href=\"https://github.com/jupyter/qtconsole\">jupyter/qtconsole</a></h5>\n<ul>\n<li><a href=\"https://github.com/jupyter/qtconsole/issues/382\">(#382)</a>: <em>Suggestions: ipywidgets and strip_source option</em> by <strong><a href=\"https://github.com/luiztauffer\">@luiztauffer</a></strong></li>\n<li><a href=\"https://github.com/jupyter/qtconsole/issues/388\">(#388)</a>: <em>Importing qtconsole RichJupyterWidget in IPython breaks syntax highlighting</em> by <strong><a href=\"https://github.com/jni\">@jni</a></strong></li>\n<li><a href=\"https://github.com/jupyter/qtconsole/issues/383\">(#383)</a>: <em>macOS | Traceback (+PyQt5 crash) clicking a call tip away</em> by <strong><a href=\"https://github.com/tmontes\">@tmontes</a></strong></li>\n<li><a href=\"https://github.com/jupyter/qtconsole/issues/387\">(#387)</a>: <em>SVG in qtconsole dont underline</em> by <strong><a href=\"https://github.com/fhgd\">@fhgd</a></strong></li>\n</ul>\n<h5><a href=\"https://github.com/jupyter/repo2docker\">jupyter/repo2docker</a></h5>\n<ul>\n<li><a href=\"https://github.com/jupyter/repo2docker/issues/807\">(#807)</a>: <em>Add an environment variable during the build process.</em> by <strong><a href=\"https://github.com/travigd\">@travigd</a></strong></li>\n<li><a href=\"https://github.com/jupyter/repo2docker/issues/798\">(#798)</a>: <em>Add support for DRYAD data repository</em> by <strong><a href=\"https://github.com/nuest\">@nuest</a></strong></li>\n<li><a href=\"https://github.com/jupyter/repo2docker/issues/801\">(#801)</a>: <em>Error on <code>--push</code></em> by <strong><a href=\"https://github.com/arokem\">@arokem</a></strong></li>\n</ul>\n<h5><a href=\"https://github.com/jupyter/steering\">jupyter/steering</a></h5>\n<h5><a href=\"https://github.com/jupyter/telemetry\">jupyter/telemetry</a></h5>\n<ul>\n<li><a href=\"https://github.com/jupyter/telemetry/issues/31\">(#31)</a>: <em>Personal data design considerations</em> by <strong><a href=\"https://github.com/ellisonbg\">@ellisonbg</a></strong></li>\n<li><a href=\"https://github.com/jupyter/telemetry/issues/28\">(#28)</a>: <em>Examples of logging code run in a cell (along with usernames)</em> by <strong><a href=\"https://github.com/gclen\">@gclen</a></strong></li>\n</ul>\n<h5><a href=\"https://github.com/jupyter/terminado\">jupyter/terminado</a></h5>\n<ul>\n<li><a href=\"https://github.com/jupyter/terminado/issues/69\">(#69)</a>: <em>xterm.js addon</em> by <strong><a href=\"https://github.com/fabianfreyer\">@fabianfreyer</a></strong></li>\n</ul>"
      }
     },
     "48e620708e7d4f41b0da836a613a10e7": {
      "model_module": "@jupyter-widgets/base",
      "model_module_version": "1.2.0",
      "model_name": "LayoutModel",
      "state": {
       "_model_module": "@jupyter-widgets/base",
       "_model_module_version": "1.2.0",
       "_model_name": "LayoutModel",
       "_view_count": null,
       "_view_module": "@jupyter-widgets/base",
       "_view_module_version": "1.2.0",
       "_view_name": "LayoutView",
       "align_content": null,
       "align_items": null,
       "align_self": null,
       "border": null,
       "bottom": null,
       "display": null,
       "flex": null,
       "flex_flow": null,
       "grid_area": null,
       "grid_auto_columns": null,
       "grid_auto_flow": null,
       "grid_auto_rows": null,
       "grid_column": null,
       "grid_gap": null,
       "grid_row": null,
       "grid_template_areas": null,
       "grid_template_columns": null,
       "grid_template_rows": null,
       "height": null,
       "justify_content": null,
       "justify_items": null,
       "left": null,
       "margin": null,
       "max_height": null,
       "max_width": null,
       "min_height": null,
       "min_width": null,
       "object_fit": null,
       "object_position": null,
       "order": null,
       "overflow": null,
       "overflow_x": null,
       "overflow_y": null,
       "padding": null,
       "right": null,
       "top": null,
       "visibility": null,
       "width": null
      }
     },
     "4b6517599c964b7986f5a13ee3496f30": {
      "model_module": "@jupyter-widgets/controls",
      "model_module_version": "1.5.0",
      "model_name": "DescriptionStyleModel",
      "state": {
       "_model_module": "@jupyter-widgets/controls",
       "_model_module_version": "1.5.0",
       "_model_name": "DescriptionStyleModel",
       "_view_count": null,
       "_view_module": "@jupyter-widgets/base",
       "_view_module_version": "1.2.0",
       "_view_name": "StyleView",
       "description_width": ""
      }
     },
     "4d718c51d8574dda900ad425bb67968b": {
      "model_module": "@jupyter-widgets/controls",
      "model_module_version": "1.5.0",
      "model_name": "HTMLModel",
      "state": {
       "_dom_classes": [],
       "_model_module": "@jupyter-widgets/controls",
       "_model_module_version": "1.5.0",
       "_model_name": "HTMLModel",
       "_view_count": null,
       "_view_module": "@jupyter-widgets/controls",
       "_view_module_version": "1.5.0",
       "_view_name": "HTMLView",
       "description": "",
       "description_tooltip": null,
       "layout": "IPY_MODEL_eb4b5032ff5e4770aeecb2f927f63a01",
       "placeholder": "​",
       "style": "IPY_MODEL_4b6517599c964b7986f5a13ee3496f30",
       "value": "<h4>jupyter-widgets</h4>\n<h5><a href=\"https://github.com/jupyter-widgets/ipyleaflet\">jupyter-widgets/ipyleaflet</a></h5>\n<ul>\n<li><a href=\"https://github.com/jupyter-widgets/ipyleaflet/issues/427\">(#427)</a>: <em>LocalTileLayer not visible</em> by <strong><a href=\"https://github.com/itcarroll\">@itcarroll</a></strong></li>\n<li><a href=\"https://github.com/jupyter-widgets/ipyleaflet/issues/414\">(#414)</a>: <em>DeprecationWarnings about traits</em> by <strong><a href=\"https://github.com/deeplook\">@deeplook</a></strong></li>\n<li><a href=\"https://github.com/jupyter-widgets/ipyleaflet/issues/432\">(#432)</a>: <em>Geolocation support</em> by <strong><a href=\"https://github.com/SylvainCorlay\">@SylvainCorlay</a></strong></li>\n<li><a href=\"https://github.com/jupyter-widgets/ipyleaflet/issues/425\">(#425)</a>: <em>Update DrawControl polygon properties dict</em> by <strong><a href=\"https://github.com/Dylan-Rich\">@Dylan-Rich</a></strong></li>\n</ul>\n<h5><a href=\"https://github.com/jupyter-widgets/ipywidgets\">jupyter-widgets/ipywidgets</a></h5>\n<ul>\n<li><a href=\"https://github.com/jupyter-widgets/ipywidgets/issues/2553\">(#2553)</a>: <em>ipywidgets do not work properly</em> by <strong><a href=\"https://github.com/alex4200\">@alex4200</a></strong></li>\n<li><a href=\"https://github.com/jupyter-widgets/ipywidgets/issues/2595\">(#2595)</a>: <em>cannot complete installation of jupyterlab-manager@1.0.3</em> by <strong><a href=\"https://github.com/sbowman-mitre\">@sbowman-mitre</a></strong></li>\n</ul>\n<h5><a href=\"https://github.com/jupyter-widgets/pythreejs\">jupyter-widgets/pythreejs</a></h5>\n<ul>\n<li><a href=\"https://github.com/jupyter-widgets/pythreejs/issues/290\">(#290)</a>: <em>How to hold / pause / batch visible updates? Animation related</em> by <strong><a href=\"https://github.com/hagrid67\">@hagrid67</a></strong></li>\n<li><a href=\"https://github.com/jupyter-widgets/pythreejs/issues/273\">(#273)</a>: <em>How do you use loaders?</em> by <strong><a href=\"https://github.com/aliddell\">@aliddell</a></strong></li>\n</ul>\n<h5><a href=\"https://github.com/jupyter-widgets/traittypes\">jupyter-widgets/traittypes</a></h5>\n<ul>\n<li><a href=\"https://github.com/jupyter-widgets/traittypes/issues/40\">(#40)</a>: <em>DeprecationWarning</em> by <strong><a href=\"https://github.com/xoolive\">@xoolive</a></strong></li>\n</ul>\n<h5><a href=\"https://github.com/jupyter-widgets/widget-cookiecutter\">jupyter-widgets/widget-cookiecutter</a></h5>\n<ul>\n<li><a href=\"https://github.com/jupyter-widgets/widget-cookiecutter/issues/53\">(#53)</a>: _Documentation does not explain what do with the generated code. _ by <strong><a href=\"https://github.com/frankgerhardt\">@frankgerhardt</a></strong></li>\n<li><a href=\"https://github.com/jupyter-widgets/widget-cookiecutter/issues/39\">(#39)</a>: <em>Syntax error in labplugin.js if npm_package_name contains hyphens</em> by <strong><a href=\"https://github.com/zakandrewking\">@zakandrewking</a></strong></li>\n<li><a href=\"https://github.com/jupyter-widgets/widget-cookiecutter/issues/25\">(#25)</a>: <em>Add License</em> by <strong><a href=\"https://github.com/pluradj\">@pluradj</a></strong></li>\n<li><a href=\"https://github.com/jupyter-widgets/widget-cookiecutter/issues/19\">(#19)</a>: <em>Question: how to add callable functions?</em> by <strong><a href=\"https://github.com/rskabelund\">@rskabelund</a></strong></li>\n<li><a href=\"https://github.com/jupyter-widgets/widget-cookiecutter/issues/11\">(#11)</a>: <em>Dev install instructions don't build js</em> by <strong><a href=\"https://github.com/j-towns\">@j-towns</a></strong></li>\n</ul>\n<h5><a href=\"https://github.com/jupyter-widgets/widget-ts-cookiecutter\">jupyter-widgets/widget-ts-cookiecutter</a></h5>\n<ul>\n<li><a href=\"https://github.com/jupyter-widgets/widget-ts-cookiecutter/issues/54\">(#54)</a>: <em>Python packages with dash in the name gets generated</em> by <strong><a href=\"https://github.com/frankgerhardt\">@frankgerhardt</a></strong></li>\n<li><a href=\"https://github.com/jupyter-widgets/widget-ts-cookiecutter/issues/53\">(#53)</a>: <em>npm test does not work</em> by <strong><a href=\"https://github.com/frankgerhardt\">@frankgerhardt</a></strong></li>\n<li><a href=\"https://github.com/jupyter-widgets/widget-ts-cookiecutter/issues/52\">(#52)</a>: <em>Building extension.js</em> by <strong><a href=\"https://github.com/zerline\">@zerline</a></strong></li>\n</ul>"
      }
     },
     "57bf4fafdede4307a48771d4d4f13723": {
      "model_module": "@jupyter-widgets/controls",
      "model_module_version": "1.5.0",
      "model_name": "DescriptionStyleModel",
      "state": {
       "_model_module": "@jupyter-widgets/controls",
       "_model_module_version": "1.5.0",
       "_model_name": "DescriptionStyleModel",
       "_view_count": null,
       "_view_module": "@jupyter-widgets/base",
       "_view_module_version": "1.2.0",
       "_view_name": "StyleView",
       "description_width": ""
      }
     },
     "5875ffb8c9e044748fd0f1746d71e286": {
      "model_module": "@jupyter-widgets/controls",
      "model_module_version": "1.5.0",
      "model_name": "HTMLModel",
      "state": {
       "_dom_classes": [],
       "_model_module": "@jupyter-widgets/controls",
       "_model_module_version": "1.5.0",
       "_model_name": "HTMLModel",
       "_view_count": null,
       "_view_module": "@jupyter-widgets/controls",
       "_view_module_version": "1.5.0",
       "_view_name": "HTMLView",
       "description": "",
       "description_tooltip": null,
       "layout": "IPY_MODEL_c322842bd818439f8077812c504b0b4d",
       "placeholder": "​",
       "style": "IPY_MODEL_6079ec3a38b4411292133f14e97180c1",
       "value": "<h4>binder-examples</h4>\n<h5><a href=\"https://github.com/binder-examples/julia-python\">binder-examples/julia-python</a></h5>\n<h5><a href=\"https://github.com/binder-examples/requirements\">binder-examples/requirements</a></h5>"
      }
     },
     "597548a716d1448983601e775a963498": {
      "model_module": "@jupyter-widgets/base",
      "model_module_version": "1.2.0",
      "model_name": "LayoutModel",
      "state": {
       "_model_module": "@jupyter-widgets/base",
       "_model_module_version": "1.2.0",
       "_model_name": "LayoutModel",
       "_view_count": null,
       "_view_module": "@jupyter-widgets/base",
       "_view_module_version": "1.2.0",
       "_view_name": "LayoutView",
       "align_content": null,
       "align_items": null,
       "align_self": null,
       "border": null,
       "bottom": null,
       "display": null,
       "flex": null,
       "flex_flow": null,
       "grid_area": null,
       "grid_auto_columns": null,
       "grid_auto_flow": null,
       "grid_auto_rows": null,
       "grid_column": null,
       "grid_gap": null,
       "grid_row": null,
       "grid_template_areas": null,
       "grid_template_columns": null,
       "grid_template_rows": null,
       "height": null,
       "justify_content": null,
       "justify_items": null,
       "left": null,
       "margin": null,
       "max_height": null,
       "max_width": null,
       "min_height": null,
       "min_width": null,
       "object_fit": null,
       "object_position": null,
       "order": null,
       "overflow": null,
       "overflow_x": null,
       "overflow_y": null,
       "padding": null,
       "right": null,
       "top": null,
       "visibility": null,
       "width": null
      }
     },
     "5ccd4a7f29f74a24a9c51825fafd5408": {
      "model_module": "@jupyter-widgets/base",
      "model_module_version": "1.2.0",
      "model_name": "LayoutModel",
      "state": {
       "_model_module": "@jupyter-widgets/base",
       "_model_module_version": "1.2.0",
       "_model_name": "LayoutModel",
       "_view_count": null,
       "_view_module": "@jupyter-widgets/base",
       "_view_module_version": "1.2.0",
       "_view_name": "LayoutView",
       "align_content": null,
       "align_items": null,
       "align_self": null,
       "border": null,
       "bottom": null,
       "display": null,
       "flex": null,
       "flex_flow": null,
       "grid_area": null,
       "grid_auto_columns": null,
       "grid_auto_flow": null,
       "grid_auto_rows": null,
       "grid_column": null,
       "grid_gap": null,
       "grid_row": null,
       "grid_template_areas": null,
       "grid_template_columns": null,
       "grid_template_rows": null,
       "height": null,
       "justify_content": null,
       "justify_items": null,
       "left": null,
       "margin": null,
       "max_height": null,
       "max_width": null,
       "min_height": null,
       "min_width": null,
       "object_fit": null,
       "object_position": null,
       "order": null,
       "overflow": null,
       "overflow_x": null,
       "overflow_y": null,
       "padding": null,
       "right": null,
       "top": null,
       "visibility": null,
       "width": null
      }
     },
     "5de79bcae88a49ac8d9ae439a13232c8": {
      "model_module": "@jupyter-widgets/controls",
      "model_module_version": "1.5.0",
      "model_name": "DescriptionStyleModel",
      "state": {
       "_model_module": "@jupyter-widgets/controls",
       "_model_module_version": "1.5.0",
       "_model_name": "DescriptionStyleModel",
       "_view_count": null,
       "_view_module": "@jupyter-widgets/base",
       "_view_module_version": "1.2.0",
       "_view_name": "StyleView",
       "description_width": ""
      }
     },
     "5e0438676e0d4a83a5b2f3dcf60310b4": {
      "model_module": "@jupyter-widgets/base",
      "model_module_version": "1.2.0",
      "model_name": "LayoutModel",
      "state": {
       "_model_module": "@jupyter-widgets/base",
       "_model_module_version": "1.2.0",
       "_model_name": "LayoutModel",
       "_view_count": null,
       "_view_module": "@jupyter-widgets/base",
       "_view_module_version": "1.2.0",
       "_view_name": "LayoutView",
       "align_content": null,
       "align_items": null,
       "align_self": null,
       "border": null,
       "bottom": null,
       "display": null,
       "flex": null,
       "flex_flow": null,
       "grid_area": null,
       "grid_auto_columns": null,
       "grid_auto_flow": null,
       "grid_auto_rows": null,
       "grid_column": null,
       "grid_gap": null,
       "grid_row": null,
       "grid_template_areas": null,
       "grid_template_columns": null,
       "grid_template_rows": null,
       "height": null,
       "justify_content": null,
       "justify_items": null,
       "left": null,
       "margin": null,
       "max_height": null,
       "max_width": null,
       "min_height": null,
       "min_width": null,
       "object_fit": null,
       "object_position": null,
       "order": null,
       "overflow": null,
       "overflow_x": null,
       "overflow_y": null,
       "padding": null,
       "right": null,
       "top": null,
       "visibility": null,
       "width": null
      }
     },
     "5eabdd4be5ab4b6c9df7dc15a293ec22": {
      "model_module": "@jupyter-widgets/controls",
      "model_module_version": "1.5.0",
      "model_name": "DescriptionStyleModel",
      "state": {
       "_model_module": "@jupyter-widgets/controls",
       "_model_module_version": "1.5.0",
       "_model_name": "DescriptionStyleModel",
       "_view_count": null,
       "_view_module": "@jupyter-widgets/base",
       "_view_module_version": "1.2.0",
       "_view_name": "StyleView",
       "description_width": ""
      }
     },
     "6079ec3a38b4411292133f14e97180c1": {
      "model_module": "@jupyter-widgets/controls",
      "model_module_version": "1.5.0",
      "model_name": "DescriptionStyleModel",
      "state": {
       "_model_module": "@jupyter-widgets/controls",
       "_model_module_version": "1.5.0",
       "_model_name": "DescriptionStyleModel",
       "_view_count": null,
       "_view_module": "@jupyter-widgets/base",
       "_view_module_version": "1.2.0",
       "_view_name": "StyleView",
       "description_width": ""
      }
     },
     "63b29d48e3094e99af664eddcfc341aa": {
      "model_module": "@jupyter-widgets/controls",
      "model_module_version": "1.5.0",
      "model_name": "HTMLModel",
      "state": {
       "_dom_classes": [],
       "_model_module": "@jupyter-widgets/controls",
       "_model_module_version": "1.5.0",
       "_model_name": "HTMLModel",
       "_view_count": null,
       "_view_module": "@jupyter-widgets/controls",
       "_view_module_version": "1.5.0",
       "_view_name": "HTMLView",
       "description": "",
       "description_tooltip": null,
       "layout": "IPY_MODEL_915dca8de95b485c94e4c3569d552f66",
       "placeholder": "​",
       "style": "IPY_MODEL_7b5048c9fad7430d960c226b1cd1fc43",
       "value": "<center><p><a href=\"https://github.com/adammunich\">adammunich</a> | <a href=\"https://github.com/amigrave\">amigrave</a> | <a href=\"https://github.com/andres-fernandez-leon\">andres-fernandez-leon</a> | <a href=\"https://github.com/anilsehgal-onscale\">anilsehgal-onscale</a> | <a href=\"https://github.com/ankit404\">ankit404</a> | <a href=\"https://github.com/arsdragonfly\">arsdragonfly</a> | <a href=\"https://github.com/astromancer\">astromancer</a> | <a href=\"https://github.com/ATidmore\">ATidmore</a> | <a href=\"https://github.com/benjimin\">benjimin</a> | <a href=\"https://github.com/bergtholdt\">bergtholdt</a> | <a href=\"https://github.com/blink1073\">blink1073</a> | <a href=\"https://github.com/boyanghe\">boyanghe</a> | <a href=\"https://github.com/btel\">btel</a> | <a href=\"https://github.com/Carreau\">Carreau</a> | <a href=\"https://github.com/ccordoba12\">ccordoba12</a> | <a href=\"https://github.com/daharn\">daharn</a> | <a href=\"https://github.com/dhirschfeld\">dhirschfeld</a> | <a href=\"https://github.com/esvhd\">esvhd</a> | <a href=\"https://github.com/fhgd\">fhgd</a> | <a href=\"https://github.com/fisadev\">fisadev</a> | <a href=\"https://github.com/GetCurious\">GetCurious</a> | <a href=\"https://github.com/gjoseph92\">gjoseph92</a> | <a href=\"https://github.com/GNSharmaa\">GNSharmaa</a> | <a href=\"https://github.com/Heyuanfly\">Heyuanfly</a> | <a href=\"https://github.com/hmaarrfk\">hmaarrfk</a> | <a href=\"https://github.com/impact27\">impact27</a> | <a href=\"https://github.com/jbfaden\">jbfaden</a> | <a href=\"https://github.com/jorisvandenbossche\">jorisvandenbossche</a> | <a href=\"https://github.com/joshathan\">joshathan</a> | <a href=\"https://github.com/kd2718\">kd2718</a> | <a href=\"https://github.com/kevin-bates\">kevin-bates</a> | <a href=\"https://github.com/kinow\">kinow</a> | <a href=\"https://github.com/kolypto\">kolypto</a> | <a href=\"https://github.com/lamby\">lamby</a> | <a href=\"https://github.com/leliel12\">leliel12</a> | <a href=\"https://github.com/Lnaden\">Lnaden</a> | <a href=\"https://github.com/louismartin\">louismartin</a> | <a href=\"https://github.com/mfh92\">mfh92</a> | <a href=\"https://github.com/mhsekhavat\">mhsekhavat</a> | <a href=\"https://github.com/minrk\">minrk</a> | <a href=\"https://github.com/normanius\">normanius</a> | <a href=\"https://github.com/omerb01\">omerb01</a> | <a href=\"https://github.com/onietosi\">onietosi</a> | <a href=\"https://github.com/pasenor\">pasenor</a> | <a href=\"https://github.com/pauldmccarthy\">pauldmccarthy</a> | <a href=\"https://github.com/PrometheusPi\">PrometheusPi</a> | <a href=\"https://github.com/raphaelquast\">raphaelquast</a> | <a href=\"https://github.com/rmorshea\">rmorshea</a> | <a href=\"https://github.com/rohaldbUni\">rohaldbUni</a> | <a href=\"https://github.com/sangam-r\">sangam-r</a> | <a href=\"https://github.com/Schmidtbit\">Schmidtbit</a> | <a href=\"https://github.com/scoennz\">scoennz</a> | <a href=\"https://github.com/soerenwolfers\">soerenwolfers</a> | <a href=\"https://github.com/stevendaprano\">stevendaprano</a> | <a href=\"https://github.com/stevenleeS0ht\">stevenleeS0ht</a> | <a href=\"https://github.com/StevenRoland\">StevenRoland</a> | <a href=\"https://github.com/tacaswell\">tacaswell</a> | <a href=\"https://github.com/takluyver\">takluyver</a> | <a href=\"https://github.com/vaishnavi026\">vaishnavi026</a> | <a href=\"https://github.com/vangheem\">vangheem</a> | <a href=\"https://github.com/vidartf\">vidartf</a> | <a href=\"https://github.com/yuhang-lin\">yuhang-lin</a> | <a href=\"https://github.com/zhang-zhenyu\">zhang-zhenyu</a> | <a href=\"https://github.com/zinglax\">zinglax</a></p></center>"
      }
     },
     "68d3437ab11348c58f141a6bbe0674d3": {
      "model_module": "@jupyter-widgets/controls",
      "model_module_version": "1.5.0",
      "model_name": "HTMLModel",
      "state": {
       "_dom_classes": [],
       "_model_module": "@jupyter-widgets/controls",
       "_model_module_version": "1.5.0",
       "_model_name": "HTMLModel",
       "_view_count": null,
       "_view_module": "@jupyter-widgets/controls",
       "_view_module_version": "1.5.0",
       "_view_name": "HTMLView",
       "description": "",
       "description_tooltip": null,
       "layout": "IPY_MODEL_5e0438676e0d4a83a5b2f3dcf60310b4",
       "placeholder": "​",
       "style": "IPY_MODEL_35d2dac1d7e04eaf91fb5b1edb3460a1",
       "value": "<h4>Closed PRs for org: <code>binder-examples</code></h4>\n<h5><a href=\"https://github.com/binder-examples/julia-python\">binder-examples/julia-python</a></h5>\n<ul>\n<li><a href=\"https://github.com/binder-examples/julia-python/pull/3\">(#3)</a>: <em>Fixes typo in README.md</em> by <strong><a href=\"https://github.com/arokem\">@arokem</a></strong> merged by <strong><a href=\"https://github.com/yuvipanda\">@yuvipanda</a></strong></li>\n</ul>"
      }
     },
     "6ddf38680b194a8c83183b13f44daeb9": {
      "model_module": "@jupyter-widgets/controls",
      "model_module_version": "1.5.0",
      "model_name": "HTMLModel",
      "state": {
       "_dom_classes": [],
       "_model_module": "@jupyter-widgets/controls",
       "_model_module_version": "1.5.0",
       "_model_name": "HTMLModel",
       "_view_count": null,
       "_view_module": "@jupyter-widgets/controls",
       "_view_module_version": "1.5.0",
       "_view_name": "HTMLView",
       "description": "",
       "description_tooltip": null,
       "layout": "IPY_MODEL_77e4d625ab2441e18e73e0f3f2bd1ed3",
       "placeholder": "​",
       "style": "IPY_MODEL_57bf4fafdede4307a48771d4d4f13723",
       "value": "<center><p><a href=\"https://github.com/00Kai0\">00Kai0</a> | <a href=\"https://github.com/aaronmarkham\">aaronmarkham</a> | <a href=\"https://github.com/abcdlzy\">abcdlzy</a> | <a href=\"https://github.com/abdullahalhoothy\">abdullahalhoothy</a> | <a href=\"https://github.com/aberman6\">aberman6</a> | <a href=\"https://github.com/abulhawa\">abulhawa</a> | <a href=\"https://github.com/abz53378\">abz53378</a> | <a href=\"https://github.com/adah1972\">adah1972</a> | <a href=\"https://github.com/adammunich\">adammunich</a> | <a href=\"https://github.com/adi5krish\">adi5krish</a> | <a href=\"https://github.com/AdityaJakkam\">AdityaJakkam</a> | <a href=\"https://github.com/afshin\">afshin</a> | <a href=\"https://github.com/ahangsleben\">ahangsleben</a> | <a href=\"https://github.com/ai559031\">ai559031</a> | <a href=\"https://github.com/aiqingyuyan\">aiqingyuyan</a> | <a href=\"https://github.com/Akhi1\">Akhi1</a> | <a href=\"https://github.com/akhmerov\">akhmerov</a> | <a href=\"https://github.com/akskuchi\">akskuchi</a> | <a href=\"https://github.com/al-yakubovich\">al-yakubovich</a> | <a href=\"https://github.com/alexbaharov\">alexbaharov</a> | <a href=\"https://github.com/alexspringgit\">alexspringgit</a> | <a href=\"https://github.com/alloky\">alloky</a> | <a href=\"https://github.com/alperyilmaz\">alperyilmaz</a> | <a href=\"https://github.com/altayg\">altayg</a> | <a href=\"https://github.com/AmanPal-Singh\">AmanPal-Singh</a> | <a href=\"https://github.com/amdegroot\">amdegroot</a> | <a href=\"https://github.com/amitsaxena\">amitsaxena</a> | <a href=\"https://github.com/andreafonso\">andreafonso</a> | <a href=\"https://github.com/andreas-zeller\">andreas-zeller</a> | <a href=\"https://github.com/ANGEL1303\">ANGEL1303</a> | <a href=\"https://github.com/anthnyprschka\">anthnyprschka</a> | <a href=\"https://github.com/arnicas\">arnicas</a> | <a href=\"https://github.com/arokem\">arokem</a> | <a href=\"https://github.com/axil\">axil</a> | <a href=\"https://github.com/ayushkovskiy\">ayushkovskiy</a> | <a href=\"https://github.com/Banashree96\">Banashree96</a> | <a href=\"https://github.com/barywhyte\">barywhyte</a> | <a href=\"https://github.com/bashtage\">bashtage</a> | <a href=\"https://github.com/batbraincmu\">batbraincmu</a> | <a href=\"https://github.com/bayoishola20\">bayoishola20</a> | <a href=\"https://github.com/benjcabalona1029\">benjcabalona1029</a> | <a href=\"https://github.com/benjimin\">benjimin</a> | <a href=\"https://github.com/benphua\">benphua</a> | <a href=\"https://github.com/berkayberkman\">berkayberkman</a> | <a href=\"https://github.com/bermani\">bermani</a> | <a href=\"https://github.com/BertR\">BertR</a> | <a href=\"https://github.com/betatim\">betatim</a> | <a href=\"https://github.com/betteridiot\">betteridiot</a> | <a href=\"https://github.com/BHARATBHUSHAN9923\">BHARATBHUSHAN9923</a> | <a href=\"https://github.com/Bidek56\">Bidek56</a> | <a href=\"https://github.com/Birdi7\">Birdi7</a> | <a href=\"https://github.com/BjornFJohansson\">BjornFJohansson</a> | <a href=\"https://github.com/bjpcjp\">bjpcjp</a> | <a href=\"https://github.com/blankws\">blankws</a> | <a href=\"https://github.com/blatoo\">blatoo</a> | <a href=\"https://github.com/blink1073\">blink1073</a> | <a href=\"https://github.com/bollwyvl\">bollwyvl</a> | <a href=\"https://github.com/BrenBarn\">BrenBarn</a> | <a href=\"https://github.com/bthayer2365\">bthayer2365</a> | <a href=\"https://github.com/buchholzmd\">buchholzmd</a> | <a href=\"https://github.com/Caaddss\">Caaddss</a> | <a href=\"https://github.com/canivel\">canivel</a> | <a href=\"https://github.com/captainsafia\">captainsafia</a> | <a href=\"https://github.com/Carreau\">Carreau</a> | <a href=\"https://github.com/cclauss\">cclauss</a> | <a href=\"https://github.com/ccordoba12\">ccordoba12</a> | <a href=\"https://github.com/ChaiBapchya\">ChaiBapchya</a> | <a href=\"https://github.com/charlesfrye\">charlesfrye</a> | <a href=\"https://github.com/choldgraf\">choldgraf</a> | <a href=\"https://github.com/chrisPiemonte\">chrisPiemonte</a> | <a href=\"https://github.com/ChristianSchluter\">ChristianSchluter</a> | <a href=\"https://github.com/clived2\">clived2</a> | <a href=\"https://github.com/cmoralesmx\">cmoralesmx</a> | <a href=\"https://github.com/collinmccarthy\">collinmccarthy</a> | <a href=\"https://github.com/cornhundred\">cornhundred</a> | <a href=\"https://github.com/cyhsu\">cyhsu</a> | <a href=\"https://github.com/czrpxr\">czrpxr</a> | <a href=\"https://github.com/dahjan\">dahjan</a> | <a href=\"https://github.com/damianavila\">damianavila</a> | <a href=\"https://github.com/danielballan\">danielballan</a> | <a href=\"https://github.com/daniellovett\">daniellovett</a> | <a href=\"https://github.com/danlyth\">danlyth</a> | <a href=\"https://github.com/daroczig\">daroczig</a> | <a href=\"https://github.com/darribas\">darribas</a> | <a href=\"https://github.com/datainvestor\">datainvestor</a> | <a href=\"https://github.com/datdinhquoc\">datdinhquoc</a> | <a href=\"https://github.com/davidanthoff\">davidanthoff</a> | <a href=\"https://github.com/DavidNemeskey\">DavidNemeskey</a> | <a href=\"https://github.com/davidrpugh\">davidrpugh</a> | <a href=\"https://github.com/davystrong\">davystrong</a> | <a href=\"https://github.com/dbrucknr\">dbrucknr</a> | <a href=\"https://github.com/dchirikov\">dchirikov</a> | <a href=\"https://github.com/ddobrinskiy\">ddobrinskiy</a> | <a href=\"https://github.com/deeplook\">deeplook</a> | <a href=\"https://github.com/dependabot\">dependabot</a> | <a href=\"https://github.com/devon-ge\">devon-ge</a> | <a href=\"https://github.com/dexios1\">dexios1</a> | <a href=\"https://github.com/Dhanesh37\">Dhanesh37</a> | <a href=\"https://github.com/dhawaljoh\">dhawaljoh</a> | <a href=\"https://github.com/dimpase\">dimpase</a> | <a href=\"https://github.com/dkk\">dkk</a> | <a href=\"https://github.com/dlowenberg\">dlowenberg</a> | <a href=\"https://github.com/dmvieira\">dmvieira</a> | <a href=\"https://github.com/Dr-Irv\">Dr-Irv</a> | <a href=\"https://github.com/drbeane\">drbeane</a> | <a href=\"https://github.com/DrDrij\">DrDrij</a> | <a href=\"https://github.com/DrPaulBrewer\">DrPaulBrewer</a> | <a href=\"https://github.com/echarles\">echarles</a> | <a href=\"https://github.com/edurenye\">edurenye</a> | <a href=\"https://github.com/elesiuta\">elesiuta</a> | <a href=\"https://github.com/ellisonbg\">ellisonbg</a> | <a href=\"https://github.com/emdupre\">emdupre</a> | <a href=\"https://github.com/eric-wieser\">eric-wieser</a> | <a href=\"https://github.com/EspinosaLeal\">EspinosaLeal</a> | <a href=\"https://github.com/evkoskib\">evkoskib</a> | <a href=\"https://github.com/farzaa\">farzaa</a> | <a href=\"https://github.com/fbidu\">fbidu</a> | <a href=\"https://github.com/fcollonval\">fcollonval</a> | <a href=\"https://github.com/felipeardilac\">felipeardilac</a> | <a href=\"https://github.com/feriat\">feriat</a> | <a href=\"https://github.com/Flock1\">Flock1</a> | <a href=\"https://github.com/flying-sheep\">flying-sheep</a> | <a href=\"https://github.com/fperez\">fperez</a> | <a href=\"https://github.com/fredcallaway\">fredcallaway</a> | <a href=\"https://github.com/Galileo-Galilei\">Galileo-Galilei</a> | <a href=\"https://github.com/GameHoo\">GameHoo</a> | <a href=\"https://github.com/gasparia405\">gasparia405</a> | <a href=\"https://github.com/GasperPaul\">GasperPaul</a> | <a href=\"https://github.com/gclen\">gclen</a> | <a href=\"https://github.com/gdcutting\">gdcutting</a> | <a href=\"https://github.com/georgethrax\">georgethrax</a> | <a href=\"https://github.com/GeorgianaElena\">GeorgianaElena</a> | <a href=\"https://github.com/ghltshubh\">ghltshubh</a> | <a href=\"https://github.com/GiulioAutel\">GiulioAutel</a> | <a href=\"https://github.com/GJGits\">GJGits</a> | <a href=\"https://github.com/glegoux\">glegoux</a> | <a href=\"https://github.com/gliptak\">gliptak</a> | <a href=\"https://github.com/gloriamacia\">gloriamacia</a> | <a href=\"https://github.com/gnestor\">gnestor</a> | <a href=\"https://github.com/gokgozf\">gokgozf</a> | <a href=\"https://github.com/grst\">grst</a> | <a href=\"https://github.com/Gsbreddy\">Gsbreddy</a> | <a href=\"https://github.com/hadim\">hadim</a> | <a href=\"https://github.com/halil-k\">halil-k</a> | <a href=\"https://github.com/haobibo\">haobibo</a> | <a href=\"https://github.com/HarryWeppner\">HarryWeppner</a> | <a href=\"https://github.com/heguohui2018\">heguohui2018</a> | <a href=\"https://github.com/Heyuanfly\">Heyuanfly</a> | <a href=\"https://github.com/Himanshu-srihsk\">Himanshu-srihsk</a> | <a href=\"https://github.com/Hotspot0Argus\">Hotspot0Argus</a> | <a href=\"https://github.com/hroncok\">hroncok</a> | <a href=\"https://github.com/huiyiz\">huiyiz</a> | <a href=\"https://github.com/hx2A\">hx2A</a> | <a href=\"https://github.com/Hyaxia\">Hyaxia</a> | <a href=\"https://github.com/impact27\">impact27</a> | <a href=\"https://github.com/ismet-dagli\">ismet-dagli</a> | <a href=\"https://github.com/jackexu\">jackexu</a> | <a href=\"https://github.com/JackOfSpade\">JackOfSpade</a> | <a href=\"https://github.com/jakirkham\">jakirkham</a> | <a href=\"https://github.com/jasongrout\">jasongrout</a> | <a href=\"https://github.com/javag97\">javag97</a> | <a href=\"https://github.com/jaypeedevlin\">jaypeedevlin</a> | <a href=\"https://github.com/jbweston\">jbweston</a> | <a href=\"https://github.com/Jeanine91\">Jeanine91</a> | <a href=\"https://github.com/JeroenSchmidt\">JeroenSchmidt</a> | <a href=\"https://github.com/JesseBausell\">JesseBausell</a> | <a href=\"https://github.com/Jifan-Zhang\">Jifan-Zhang</a> | <a href=\"https://github.com/jishanshaikh4\">jishanshaikh4</a> | <a href=\"https://github.com/jni\">jni</a> | <a href=\"https://github.com/JohanMabille\">JohanMabille</a> | <a href=\"https://github.com/JohannaHillebrand\">JohannaHillebrand</a> | <a href=\"https://github.com/jplloyddd\">jplloyddd</a> | <a href=\"https://github.com/jrj-d\">jrj-d</a> | <a href=\"https://github.com/jstac\">jstac</a> | <a href=\"https://github.com/Juanlu001\">Juanlu001</a> | <a href=\"https://github.com/kalpitpant\">kalpitpant</a> | <a href=\"https://github.com/kevin-bates\">kevin-bates</a> | <a href=\"https://github.com/KikeM\">KikeM</a> | <a href=\"https://github.com/kinow\">kinow</a> | <a href=\"https://github.com/kmundnic\">kmundnic</a> | <a href=\"https://github.com/komal-saleem\">komal-saleem</a> | <a href=\"https://github.com/korg91\">korg91</a> | <a href=\"https://github.com/KreMic\">KreMic</a> | <a href=\"https://github.com/krinkere\">krinkere</a> | <a href=\"https://github.com/krinsman\">krinsman</a> | <a href=\"https://github.com/kwlzn\">kwlzn</a> | <a href=\"https://github.com/kylekeppler\">kylekeppler</a> | <a href=\"https://github.com/kyochujoho\">kyochujoho</a> | <a href=\"https://github.com/laowantong\">laowantong</a> | <a href=\"https://github.com/Lashuk1729\">Lashuk1729</a> | <a href=\"https://github.com/leimao\">leimao</a> | <a href=\"https://github.com/leinad87\">leinad87</a> | <a href=\"https://github.com/lemuelaspe\">lemuelaspe</a> | <a href=\"https://github.com/leportella\">leportella</a> | <a href=\"https://github.com/liliancor\">liliancor</a> | <a href=\"https://github.com/lokeshh\">lokeshh</a> | <a href=\"https://github.com/LombardiDaniel\">LombardiDaniel</a> | <a href=\"https://github.com/lonelykid\">lonelykid</a> | <a href=\"https://github.com/lramey\">lramey</a> | <a href=\"https://github.com/lresende\">lresende</a> | <a href=\"https://github.com/lucabem\">lucabem</a> | <a href=\"https://github.com/lucadealfaro\">lucadealfaro</a> | <a href=\"https://github.com/LucaSoato\">LucaSoato</a> | <a href=\"https://github.com/luiztauffer\">luiztauffer</a> | <a href=\"https://github.com/lzach\">lzach</a> | <a href=\"https://github.com/M-M-Rezaee\">M-M-Rezaee</a> | <a href=\"https://github.com/maartenbreddels\">maartenbreddels</a> | <a href=\"https://github.com/madpiano\">madpiano</a> | <a href=\"https://github.com/Mandar89\">Mandar89</a> | <a href=\"https://github.com/manics\">manics</a> | <a href=\"https://github.com/MarekSuchanek\">MarekSuchanek</a> | <a href=\"https://github.com/maresb\">maresb</a> | <a href=\"https://github.com/martin2384798\">martin2384798</a> | <a href=\"https://github.com/martinRenou\">martinRenou</a> | <a href=\"https://github.com/mattans\">mattans</a> | <a href=\"https://github.com/mbakker7\">mbakker7</a> | <a href=\"https://github.com/mbbroberg\">mbbroberg</a> | <a href=\"https://github.com/mcclaassen\">mcclaassen</a> | <a href=\"https://github.com/MeCrazyJunkie\">MeCrazyJunkie</a> | <a href=\"https://github.com/megies\">megies</a> | <a href=\"https://github.com/meloski\">meloski</a> | <a href=\"https://github.com/merlin1608\">merlin1608</a> | <a href=\"https://github.com/mgeier\">mgeier</a> | <a href=\"https://github.com/mgunyho\">mgunyho</a> | <a href=\"https://github.com/michaeld32\">michaeld32</a> | <a href=\"https://github.com/Miladiouss\">Miladiouss</a> | <a href=\"https://github.com/minrk\">minrk</a> | <a href=\"https://github.com/mirekphd\">mirekphd</a> | <a href=\"https://github.com/mmaithani\">mmaithani</a> | <a href=\"https://github.com/MohdAzamSayeed\">MohdAzamSayeed</a> | <a href=\"https://github.com/moorepants\">moorepants</a> | <a href=\"https://github.com/mosharafMS\">mosharafMS</a> | <a href=\"https://github.com/mpacer\">mpacer</a> | <a href=\"https://github.com/Mridularora18\">Mridularora18</a> | <a href=\"https://github.com/MSeal\">MSeal</a> | <a href=\"https://github.com/namrathakolli\">namrathakolli</a> | <a href=\"https://github.com/narquette\">narquette</a> | <a href=\"https://github.com/nathanshammah\">nathanshammah</a> | <a href=\"https://github.com/neovintage\">neovintage</a> | <a href=\"https://github.com/nguyen14ck\">nguyen14ck</a> | <a href=\"https://github.com/nikhilrsharma\">nikhilrsharma</a> | <a href=\"https://github.com/ninjakx\">ninjakx</a> | <a href=\"https://github.com/nklever\">nklever</a> | <a href=\"https://github.com/nthiery\">nthiery</a> | <a href=\"https://github.com/nuest\">nuest</a> | <a href=\"https://github.com/orena1\">orena1</a> | <a href=\"https://github.com/oscarys\">oscarys</a> | <a href=\"https://github.com/ovdavid28\">ovdavid28</a> | <a href=\"https://github.com/pablobernabeu\">pablobernabeu</a> | <a href=\"https://github.com/parente\">parente</a> | <a href=\"https://github.com/pcr910303\">pcr910303</a> | <a href=\"https://github.com/perllaghu\">perllaghu</a> | <a href=\"https://github.com/playermanny2\">playermanny2</a> | <a href=\"https://github.com/pohlt\">pohlt</a> | <a href=\"https://github.com/praveenkanamarlapudi\">praveenkanamarlapudi</a> | <a href=\"https://github.com/PRDrum5\">PRDrum5</a> | <a href=\"https://github.com/priyanshgupta1998\">priyanshgupta1998</a> | <a href=\"https://github.com/priyaranjan-tokachichu\">priyaranjan-tokachichu</a> | <a href=\"https://github.com/prof-lupin\">prof-lupin</a> | <a href=\"https://github.com/Proletariat99\">Proletariat99</a> | <a href=\"https://github.com/psychemedia\">psychemedia</a> | <a href=\"https://github.com/radoslawkrolikowski\">radoslawkrolikowski</a> | <a href=\"https://github.com/rai-nhdaly\">rai-nhdaly</a> | <a href=\"https://github.com/ralfhauser\">ralfhauser</a> | <a href=\"https://github.com/ratnanil\">ratnanil</a> | <a href=\"https://github.com/rbeesley\">rbeesley</a> | <a href=\"https://github.com/rberenguel\">rberenguel</a> | <a href=\"https://github.com/rbscholtus\">rbscholtus</a> | <a href=\"https://github.com/reaCodes\">reaCodes</a> | <a href=\"https://github.com/realprocrastinator\">realprocrastinator</a> | <a href=\"https://github.com/rgbkrk\">rgbkrk</a> | <a href=\"https://github.com/ritwikmishra\">ritwikmishra</a> | <a href=\"https://github.com/rkdarst\">rkdarst</a> | <a href=\"https://github.com/RobinL\">RobinL</a> | <a href=\"https://github.com/RolandAckerl\">RolandAckerl</a> | <a href=\"https://github.com/rolweber\">rolweber</a> | <a href=\"https://github.com/Ruv7\">Ruv7</a> | <a href=\"https://github.com/ryanrain2016\">ryanrain2016</a> | <a href=\"https://github.com/s-Hale\">s-Hale</a> | <a href=\"https://github.com/saasgasques\">saasgasques</a> | <a href=\"https://github.com/salihyanikgonul\">salihyanikgonul</a> | <a href=\"https://github.com/SamGrah\">SamGrah</a> | <a href=\"https://github.com/Samin100\">Samin100</a> | <a href=\"https://github.com/SamLau95\">SamLau95</a> | <a href=\"https://github.com/sampanriver\">sampanriver</a> | <a href=\"https://github.com/SangamSwadiK\">SangamSwadiK</a> | <a href=\"https://github.com/santosh2702\">santosh2702</a> | <a href=\"https://github.com/sblack-usu\">sblack-usu</a> | <a href=\"https://github.com/schadalapaka\">schadalapaka</a> | <a href=\"https://github.com/seanpue\">seanpue</a> | <a href=\"https://github.com/sfisher\">sfisher</a> | <a href=\"https://github.com/Shivjee-Pandey\">Shivjee-Pandey</a> | <a href=\"https://github.com/sidneymbell\">sidneymbell</a> | <a href=\"https://github.com/sigurdurb\">sigurdurb</a> | <a href=\"https://github.com/silhouetted\">silhouetted</a> | <a href=\"https://github.com/SimonBiggs\">SimonBiggs</a> | <a href=\"https://github.com/simonsayswork\">simonsayswork</a> | <a href=\"https://github.com/skizlin\">skizlin</a> | <a href=\"https://github.com/skritch\">skritch</a> | <a href=\"https://github.com/smartm13\">smartm13</a> | <a href=\"https://github.com/snapo\">snapo</a> | <a href=\"https://github.com/Sorkanius\">Sorkanius</a> | <a href=\"https://github.com/sourcecode369\">sourcecode369</a> | <a href=\"https://github.com/spring-haru\">spring-haru</a> | <a href=\"https://github.com/srcolinas\">srcolinas</a> | <a href=\"https://github.com/srishti-nema\">srishti-nema</a> | <a href=\"https://github.com/srroh1\">srroh1</a> | <a href=\"https://github.com/ssaunier\">ssaunier</a> | <a href=\"https://github.com/stonebig\">stonebig</a> | <a href=\"https://github.com/swebalaji\">swebalaji</a> | <a href=\"https://github.com/SylvainCorlay\">SylvainCorlay</a> | <a href=\"https://github.com/syoh\">syoh</a> | <a href=\"https://github.com/t-makaro\">t-makaro</a> | <a href=\"https://github.com/takeru\">takeru</a> | <a href=\"https://github.com/takluyver\">takluyver</a> | <a href=\"https://github.com/tarasowski\">tarasowski</a> | <a href=\"https://github.com/tashay\">tashay</a> | <a href=\"https://github.com/taylorgibson\">taylorgibson</a> | <a href=\"https://github.com/tdelozie\">tdelozie</a> | <a href=\"https://github.com/teklinp\">teklinp</a> | <a href=\"https://github.com/tgeorgeux\">tgeorgeux</a> | <a href=\"https://github.com/the-c0d3r\">the-c0d3r</a> | <a href=\"https://github.com/themarkrogers\">themarkrogers</a> | <a href=\"https://github.com/theofil\">theofil</a> | <a href=\"https://github.com/thytterdal\">thytterdal</a> | <a href=\"https://github.com/tianfudhe\">tianfudhe</a> | <a href=\"https://github.com/timothhw\">timothhw</a> | <a href=\"https://github.com/tmontes\">tmontes</a> | <a href=\"https://github.com/tomalbrecht\">tomalbrecht</a> | <a href=\"https://github.com/tomanizer\">tomanizer</a> | <a href=\"https://github.com/tomoboy\">tomoboy</a> | <a href=\"https://github.com/TomTJarosz\">TomTJarosz</a> | <a href=\"https://github.com/tonywang531\">tonywang531</a> | <a href=\"https://github.com/transifex-integration\">transifex-integration</a> | <a href=\"https://github.com/travigd\">travigd</a> | <a href=\"https://github.com/tschmel\">tschmel</a> | <a href=\"https://github.com/tslevi-unbounce\">tslevi-unbounce</a> | <a href=\"https://github.com/twrobinson\">twrobinson</a> | <a href=\"https://github.com/udyadityadeo\">udyadityadeo</a> | <a href=\"https://github.com/utommo\">utommo</a> | <a href=\"https://github.com/vadimkerr\">vadimkerr</a> | <a href=\"https://github.com/vaka1214\">vaka1214</a> | <a href=\"https://github.com/valerybriz\">valerybriz</a> | <a href=\"https://github.com/vallme2003\">vallme2003</a> | <a href=\"https://github.com/vandan2397\">vandan2397</a> | <a href=\"https://github.com/Vercaca\">Vercaca</a> | <a href=\"https://github.com/Vermilion69\">Vermilion69</a> | <a href=\"https://github.com/vidartf\">vidartf</a> | <a href=\"https://github.com/vilhelmen\">vilhelmen</a> | <a href=\"https://github.com/vliao-semios\">vliao-semios</a> | <a href=\"https://github.com/vnijs\">vnijs</a> | <a href=\"https://github.com/wallneradam\">wallneradam</a> | <a href=\"https://github.com/waydegg\">waydegg</a> | <a href=\"https://github.com/wefatherley\">wefatherley</a> | <a href=\"https://github.com/wenmin-wu\">wenmin-wu</a> | <a href=\"https://github.com/westurner\">westurner</a> | <a href=\"https://github.com/whositwhatnow\">whositwhatnow</a> | <a href=\"https://github.com/why-not\">why-not</a> | <a href=\"https://github.com/wigster\">wigster</a> | <a href=\"https://github.com/Wildcarde\">Wildcarde</a> | <a href=\"https://github.com/Wildprogrammingape\">Wildprogrammingape</a> | <a href=\"https://github.com/willingc\">willingc</a> | <a href=\"https://github.com/WittmannF\">WittmannF</a> | <a href=\"https://github.com/wjw870970\">wjw870970</a> | <a href=\"https://github.com/yassinose00\">yassinose00</a> | <a href=\"https://github.com/yli110-stat697\">yli110-stat697</a> | <a href=\"https://github.com/yonashub\">yonashub</a> | <a href=\"https://github.com/yousuftufail\">yousuftufail</a> | <a href=\"https://github.com/yuvipanda\">yuvipanda</a> | <a href=\"https://github.com/zhongjimeiying\">zhongjimeiying</a> | <a href=\"https://github.com/Zsailer\">Zsailer</a></p></center>"
      }
     },
     "6e8df8dfd3324c9d83b9d7ff6f18f1ac": {
      "model_module": "@jupyter-widgets/controls",
      "model_module_version": "1.5.0",
      "model_name": "DescriptionStyleModel",
      "state": {
       "_model_module": "@jupyter-widgets/controls",
       "_model_module_version": "1.5.0",
       "_model_name": "DescriptionStyleModel",
       "_view_count": null,
       "_view_module": "@jupyter-widgets/base",
       "_view_module_version": "1.2.0",
       "_view_name": "StyleView",
       "description_width": ""
      }
     },
     "713dd65f79fc4a339374c3cd68206988": {
      "model_module": "@jupyter-widgets/controls",
      "model_module_version": "1.5.0",
      "model_name": "HTMLModel",
      "state": {
       "_dom_classes": [],
       "_model_module": "@jupyter-widgets/controls",
       "_model_module_version": "1.5.0",
       "_model_name": "HTMLModel",
       "_view_count": null,
       "_view_module": "@jupyter-widgets/controls",
       "_view_module_version": "1.5.0",
       "_view_name": "HTMLView",
       "description": "",
       "description_tooltip": null,
       "layout": "IPY_MODEL_41a3b7d3d3cd43148ce9afe4e137bbbd",
       "placeholder": "​",
       "style": "IPY_MODEL_0dc8c0646f36415ab015f5bbc47a6f25",
       "value": "<h4>Closed PRs for org: <code>jupyterhub</code></h4>\n<h5><a href=\"https://github.com/jupyterhub/binder\">jupyterhub/binder</a></h5>\n<ul>\n<li><a href=\"https://github.com/jupyterhub/binder/pull/174\">(#174)</a>: <em>Update Dockerfile documentation on build cache</em> by <strong><a href=\"https://github.com/fzeiser\">@fzeiser</a></strong> merged by <strong><a href=\"https://github.com/betatim\">@betatim</a></strong></li>\n</ul>\n<h5><a href=\"https://github.com/jupyterhub/binderhub\">jupyterhub/binderhub</a></h5>\n<ul>\n<li><a href=\"https://github.com/jupyterhub/binderhub/pull/988\">(#988)</a>: <em>Set Binder ingress service port to 80</em> by <strong><a href=\"https://github.com/rochaporto\">@rochaporto</a></strong> merged by <strong><a href=\"https://github.com/betatim\">@betatim</a></strong></li>\n<li><a href=\"https://github.com/jupyterhub/binderhub/pull/985\">(#985)</a>: <em>Added check for ratelimit headers for GitHub Enterprise compatib…</em> by <strong><a href=\"https://github.com/ivan-gomes\">@ivan-gomes</a></strong> merged by <strong><a href=\"https://github.com/betatim\">@betatim</a></strong></li>\n<li><a href=\"https://github.com/jupyterhub/binderhub/pull/983\">(#983)</a>: <em>Added api_base_path option for GitHub Enterprise compatibility</em> by <strong><a href=\"https://github.com/ivan-gomes\">@ivan-gomes</a></strong> merged by <strong><a href=\"https://github.com/betatim\">@betatim</a></strong></li>\n<li><a href=\"https://github.com/jupyterhub/binderhub/pull/981\">(#981)</a>: <em>helm chart: fix compatibility with helm &gt;=2.15.0</em> by <strong><a href=\"https://github.com/bdrian\">@bdrian</a></strong> merged by <strong><a href=\"https://github.com/betatim\">@betatim</a></strong></li>\n<li><a href=\"https://github.com/jupyterhub/binderhub/pull/977\">(#977)</a>: <em>use chart jupyterhub-0.9-5eb48bc</em> by <strong><a href=\"https://github.com/bitnik\">@bitnik</a></strong> merged by <strong><a href=\"https://github.com/betatim\">@betatim</a></strong></li>\n<li><a href=\"https://github.com/jupyterhub/binderhub/pull/975\">(#975)</a>: <em>Changelog updates</em> by <strong><a href=\"https://github.com/choldgraf\">@choldgraf</a></strong> merged by <strong><a href=\"https://github.com/betatim\">@betatim</a></strong></li>\n<li><a href=\"https://github.com/jupyterhub/binderhub/pull/974\">(#974)</a>: <em>ref_url and resolved_spec methods for repo providers</em> by <strong><a href=\"https://github.com/bitnik\">@bitnik</a></strong> merged by <strong><a href=\"https://github.com/betatim\">@betatim</a></strong></li>\n</ul>\n<h5><a href=\"https://github.com/jupyterhub/chartpress\">jupyterhub/chartpress</a></h5>\n<ul>\n<li><a href=\"https://github.com/jupyterhub/chartpress/pull/66\">(#66)</a>: <em>fix latest tagged commit</em> by <strong><a href=\"https://github.com/minrk\">@minrk</a></strong> merged by <strong><a href=\"https://github.com/consideRatio\">@consideRatio</a></strong></li>\n<li><a href=\"https://github.com/jupyterhub/chartpress/pull/65\">(#65)</a>: <em>support valuesPath being a list of paths</em> by <strong><a href=\"https://github.com/minrk\">@minrk</a></strong> merged by <strong><a href=\"https://github.com/consideRatio\">@consideRatio</a></strong></li>\n<li><a href=\"https://github.com/jupyterhub/chartpress/pull/64\">(#64)</a>: <em>Fix bugs: index merge, image tag, g prefix, ignored tags</em> by <strong><a href=\"https://github.com/consideRatio\">@consideRatio</a></strong> merged by <strong><a href=\"https://github.com/minrk\">@minrk</a></strong></li>\n<li><a href=\"https://github.com/jupyterhub/chartpress/pull/63\">(#63)</a>: <em>support string images and items in lists</em> by <strong><a href=\"https://github.com/minrk\">@minrk</a></strong> merged by <strong><a href=\"https://github.com/minrk\">@minrk</a></strong></li>\n<li><a href=\"https://github.com/jupyterhub/chartpress/pull/57\">(#57)</a>: <em>--long flag to always output build information in image tags and chart version</em> by <strong><a href=\"https://github.com/consideRatio\">@consideRatio</a></strong> merged by <strong><a href=\"https://github.com/consideRatio\">@consideRatio</a></strong></li>\n<li><a href=\"https://github.com/jupyterhub/chartpress/pull/56\">(#56)</a>: <em>Refactor publish_pages for comprehensibility</em> by <strong><a href=\"https://github.com/consideRatio\">@consideRatio</a></strong> merged by <strong><a href=\"https://github.com/minrk\">@minrk</a></strong></li>\n<li><a href=\"https://github.com/jupyterhub/chartpress/pull/55\">(#55)</a>: <em>Deprecate --commit-range</em> by <strong><a href=\"https://github.com/consideRatio\">@consideRatio</a></strong> merged by <strong><a href=\"https://github.com/consideRatio\">@consideRatio</a></strong></li>\n<li><a href=\"https://github.com/jupyterhub/chartpress/pull/54\">(#54)</a>: <em>Reset Chart.yaml's version to a valid value</em> by <strong><a href=\"https://github.com/consideRatio\">@consideRatio</a></strong> merged by <strong><a href=\"https://github.com/consideRatio\">@consideRatio</a></strong></li>\n<li><a href=\"https://github.com/jupyterhub/chartpress/pull/53\">(#53)</a>: <em>Don't append +build on tagged commits</em> by <strong><a href=\"https://github.com/consideRatio\">@consideRatio</a></strong> merged by <strong><a href=\"https://github.com/consideRatio\">@consideRatio</a></strong></li>\n<li><a href=\"https://github.com/jupyterhub/chartpress/pull/52\">(#52)</a>: <em>Chart and image versioning, and Chart.yaml's --reset interaction</em> by <strong><a href=\"https://github.com/consideRatio\">@consideRatio</a></strong> merged by <strong><a href=\"https://github.com/minrk\">@minrk</a></strong></li>\n<li><a href=\"https://github.com/jupyterhub/chartpress/pull/51\">(#51)</a>: <em>Document use of buildArgs</em> by <strong><a href=\"https://github.com/consideRatio\">@consideRatio</a></strong> merged by <strong><a href=\"https://github.com/consideRatio\">@consideRatio</a></strong></li>\n<li><a href=\"https://github.com/jupyterhub/chartpress/pull/47\">(#47)</a>: <em>Add RELEASE.md</em> by <strong><a href=\"https://github.com/consideRatio\">@consideRatio</a></strong> merged by <strong><a href=\"https://github.com/yuvipanda\">@yuvipanda</a></strong></li>\n<li><a href=\"https://github.com/jupyterhub/chartpress/pull/46\">(#46)</a>: <em>Refresh .travis.yml</em> by <strong><a href=\"https://github.com/consideRatio\">@consideRatio</a></strong> merged by <strong><a href=\"https://github.com/yuvipanda\">@yuvipanda</a></strong></li>\n<li><a href=\"https://github.com/jupyterhub/chartpress/pull/45\">(#45)</a>: <em>Add --version flag</em> by <strong><a href=\"https://github.com/consideRatio\">@consideRatio</a></strong> merged by <strong><a href=\"https://github.com/yuvipanda\">@yuvipanda</a></strong></li>\n<li><a href=\"https://github.com/jupyterhub/chartpress/pull/42\">(#42)</a>: <em>Update chartpress --help output in README.md</em> by <strong><a href=\"https://github.com/consideRatio\">@consideRatio</a></strong> merged by <strong><a href=\"https://github.com/consideRatio\">@consideRatio</a></strong></li>\n</ul>\n<h5><a href=\"https://github.com/jupyterhub/dockerspawner\">jupyterhub/dockerspawner</a></h5>\n<ul>\n<li><a href=\"https://github.com/jupyterhub/dockerspawner/pull/334\">(#334)</a>: <em>Fix issue with pulling images from custom repos that contain a port</em> by <strong><a href=\"https://github.com/raethlein\">@raethlein</a></strong> merged by <strong><a href=\"https://github.com/minrk\">@minrk</a></strong></li>\n</ul>\n<h5><a href=\"https://github.com/jupyterhub/jupyter-server-proxy\">jupyterhub/jupyter-server-proxy</a></h5>\n<ul>\n<li><a href=\"https://github.com/jupyterhub/jupyter-server-proxy/pull/151\">(#151)</a>: <em>Optionally map requested → proxied paths</em> by <strong><a href=\"https://github.com/manics\">@manics</a></strong> merged by <strong><a href=\"https://github.com/ryanlovett\">@ryanlovett</a></strong></li>\n</ul>\n<h5><a href=\"https://github.com/jupyterhub/jupyterhub\">jupyterhub/jupyterhub</a></h5>\n<ul>\n<li><a href=\"https://github.com/jupyterhub/jupyterhub/pull/2789\">(#2789)</a>: <em>Fix deprecation warnings</em> by <strong><a href=\"https://github.com/tirkarthi\">@tirkarthi</a></strong> merged by <strong><a href=\"https://github.com/minrk\">@minrk</a></strong></li>\n<li><a href=\"https://github.com/jupyterhub/jupyterhub/pull/2785\">(#2785)</a>: <em>chown jupyterhub dir in user home</em> by <strong><a href=\"https://github.com/rpwagner\">@rpwagner</a></strong> merged by <strong><a href=\"https://github.com/minrk\">@minrk</a></strong></li>\n<li><a href=\"https://github.com/jupyterhub/jupyterhub/pull/2783\">(#2783)</a>: <em>Log proxy class</em> by <strong><a href=\"https://github.com/GeorgianaElena\">@GeorgianaElena</a></strong> merged by <strong><a href=\"https://github.com/minrk\">@minrk</a></strong></li>\n<li><a href=\"https://github.com/jupyterhub/jupyterhub/pull/2782\">(#2782)</a>: <em>Add docs for fixtures in CONTRIBUTING.md</em> by <strong><a href=\"https://github.com/kinow\">@kinow</a></strong> merged by <strong><a href=\"https://github.com/GeorgianaElena\">@GeorgianaElena</a></strong></li>\n<li><a href=\"https://github.com/jupyterhub/jupyterhub/pull/2776\">(#2776)</a>: <em>Display server version on admin page</em> by <strong><a href=\"https://github.com/vilhelmen\">@vilhelmen</a></strong> merged by <strong><a href=\"https://github.com/minrk\">@minrk</a></strong></li>\n<li><a href=\"https://github.com/jupyterhub/jupyterhub/pull/2775\">(#2775)</a>: <em>Fix header project name typo</em> by <strong><a href=\"https://github.com/kinow\">@kinow</a></strong> merged by <strong><a href=\"https://github.com/betatim\">@betatim</a></strong></li>\n<li><a href=\"https://github.com/jupyterhub/jupyterhub/pull/2774\">(#2774)</a>: <em>Remove unused  setupegg.py</em> by <strong><a href=\"https://github.com/kinow\">@kinow</a></strong> merged by <strong><a href=\"https://github.com/minrk\">@minrk</a></strong></li>\n<li><a href=\"https://github.com/jupyterhub/jupyterhub/pull/2772\">(#2772)</a>: <em>fix named server checks</em> by <strong><a href=\"https://github.com/bitnik\">@bitnik</a></strong> merged by <strong><a href=\"https://github.com/minrk\">@minrk</a></strong></li>\n<li><a href=\"https://github.com/jupyterhub/jupyterhub/pull/2767\">(#2767)</a>: <em>add <code>service.oauth_no_confirm</code> configuration</em> by <strong><a href=\"https://github.com/minrk\">@minrk</a></strong> merged by <strong><a href=\"https://github.com/willingc\">@willingc</a></strong></li>\n</ul>\n<h5><a href=\"https://github.com/jupyterhub/kubespawner\">jupyterhub/kubespawner</a></h5>\n<ul>\n<li><a href=\"https://github.com/jupyterhub/kubespawner/pull/356\">(#356)</a>: <em>More idiomatic python syntax</em> by <strong><a href=\"https://github.com/AnotherCodeArtist\">@AnotherCodeArtist</a></strong> merged by <strong><a href=\"https://github.com/betatim\">@betatim</a></strong></li>\n</ul>\n<h5><a href=\"https://github.com/jupyterhub/mybinder.org-deploy\">jupyterhub/mybinder.org-deploy</a></h5>\n<ul>\n<li><a href=\"https://github.com/jupyterhub/mybinder.org-deploy/pull/1240\">(#1240)</a>: <em>Bump up Gesis to 10%</em> by <strong><a href=\"https://github.com/betatim\">@betatim</a></strong> merged by <strong><a href=\"https://github.com/betatim\">@betatim</a></strong></li>\n<li><a href=\"https://github.com/jupyterhub/mybinder.org-deploy/pull/1239\">(#1239)</a>: <em>Revert \"Revert \"Change Gesis hostname and increase quota\"\"</em> by <strong><a href=\"https://github.com/betatim\">@betatim</a></strong> merged by <strong><a href=\"https://github.com/betatim\">@betatim</a></strong></li>\n<li><a href=\"https://github.com/jupyterhub/mybinder.org-deploy/pull/1238\">(#1238)</a>: <em>Revert \"Change Gesis hostname and increase quota\"</em> by <strong><a href=\"https://github.com/betatim\">@betatim</a></strong> merged by <strong><a href=\"https://github.com/betatim\">@betatim</a></strong></li>\n<li><a href=\"https://github.com/jupyterhub/mybinder.org-deploy/pull/1237\">(#1237)</a>: <em>adding circle config</em> by <strong><a href=\"https://github.com/choldgraf\">@choldgraf</a></strong> merged by <strong><a href=\"https://github.com/betatim\">@betatim</a></strong></li>\n<li><a href=\"https://github.com/jupyterhub/mybinder.org-deploy/pull/1236\">(#1236)</a>: <em>Change Gesis hostname and increase quota</em> by <strong><a href=\"https://github.com/betatim\">@betatim</a></strong> merged by <strong><a href=\"https://github.com/betatim\">@betatim</a></strong></li>\n<li><a href=\"https://github.com/jupyterhub/mybinder.org-deploy/pull/1235\">(#1235)</a>: <em>Add one more evil hostname</em> by <strong><a href=\"https://github.com/betatim\">@betatim</a></strong> merged by <strong><a href=\"https://github.com/betatim\">@betatim</a></strong></li>\n<li><a href=\"https://github.com/jupyterhub/mybinder.org-deploy/pull/1234\">(#1234)</a>: <em>Add more hosts to our banned list</em> by <strong><a href=\"https://github.com/betatim\">@betatim</a></strong> merged by <strong><a href=\"https://github.com/betatim\">@betatim</a></strong></li>\n<li><a href=\"https://github.com/jupyterhub/mybinder.org-deploy/pull/1229\">(#1229)</a>: <em>adding federation check page</em> by <strong><a href=\"https://github.com/choldgraf\">@choldgraf</a></strong> merged by <strong><a href=\"https://github.com/betatim\">@betatim</a></strong></li>\n<li><a href=\"https://github.com/jupyterhub/mybinder.org-deploy/pull/1227\">(#1227)</a>: <em>Keep empty string when there is no env variable</em> by <strong><a href=\"https://github.com/betatim\">@betatim</a></strong> merged by <strong><a href=\"https://github.com/betatim\">@betatim</a></strong></li>\n<li><a href=\"https://github.com/jupyterhub/mybinder.org-deploy/pull/1225\">(#1225)</a>: <em>Revert \"Installing cert-manager\"</em> by <strong><a href=\"https://github.com/sgibson91\">@sgibson91</a></strong> merged by <strong><a href=\"https://github.com/sgibson91\">@sgibson91</a></strong></li>\n<li><a href=\"https://github.com/jupyterhub/mybinder.org-deploy/pull/1224\">(#1224)</a>: <em>Revert \"Add cert-manager repo to travis\"</em> by <strong><a href=\"https://github.com/sgibson91\">@sgibson91</a></strong> merged by <strong><a href=\"https://github.com/sgibson91\">@sgibson91</a></strong></li>\n<li><a href=\"https://github.com/jupyterhub/mybinder.org-deploy/pull/1223\">(#1223)</a>: <em>Revert \"Force upgrade tiller to downgrade the version to match\"</em> by <strong><a href=\"https://github.com/sgibson91\">@sgibson91</a></strong> merged by <strong><a href=\"https://github.com/sgibson91\">@sgibson91</a></strong></li>\n<li><a href=\"https://github.com/jupyterhub/mybinder.org-deploy/pull/1222\">(#1222)</a>: <em>Revert \"force upgrade flag needed in deploy.py, not travis\"</em> by <strong><a href=\"https://github.com/sgibson91\">@sgibson91</a></strong> merged by <strong><a href=\"https://github.com/sgibson91\">@sgibson91</a></strong></li>\n<li><a href=\"https://github.com/jupyterhub/mybinder.org-deploy/pull/1221\">(#1221)</a>: <em>force upgrade flag needed in deploy.py, not travis</em> by <strong><a href=\"https://github.com/sgibson91\">@sgibson91</a></strong> merged by <strong><a href=\"https://github.com/sgibson91\">@sgibson91</a></strong></li>\n<li><a href=\"https://github.com/jupyterhub/mybinder.org-deploy/pull/1220\">(#1220)</a>: <em>Force upgrade tiller to downgrade the version to match</em> by <strong><a href=\"https://github.com/sgibson91\">@sgibson91</a></strong> merged by <strong><a href=\"https://github.com/sgibson91\">@sgibson91</a></strong></li>\n<li><a href=\"https://github.com/jupyterhub/mybinder.org-deploy/pull/1219\">(#1219)</a>: <em>Add cert-manager repo to travis</em> by <strong><a href=\"https://github.com/sgibson91\">@sgibson91</a></strong> merged by <strong><a href=\"https://github.com/sgibson91\">@sgibson91</a></strong></li>\n<li><a href=\"https://github.com/jupyterhub/mybinder.org-deploy/pull/1218\">(#1218)</a>: <em>Installing cert-manager</em> by <strong><a href=\"https://github.com/sgibson91\">@sgibson91</a></strong> merged by <strong><a href=\"https://github.com/sgibson91\">@sgibson91</a></strong></li>\n<li><a href=\"https://github.com/jupyterhub/mybinder.org-deploy/pull/1217\">(#1217)</a>: <em>Revert \"Installing cert-manager: step 1 - adding files\"</em> by <strong><a href=\"https://github.com/sgibson91\">@sgibson91</a></strong> merged by <strong><a href=\"https://github.com/sgibson91\">@sgibson91</a></strong></li>\n<li><a href=\"https://github.com/jupyterhub/mybinder.org-deploy/pull/1216\">(#1216)</a>: <em>Installing cert-manager: step 1 - adding files</em> by <strong><a href=\"https://github.com/sgibson91\">@sgibson91</a></strong> merged by <strong><a href=\"https://github.com/sgibson91\">@sgibson91</a></strong></li>\n<li><a href=\"https://github.com/jupyterhub/mybinder.org-deploy/pull/1215\">(#1215)</a>: <em>Revert \"Installing cert-manager: step 1 - adding files\"</em> by <strong><a href=\"https://github.com/sgibson91\">@sgibson91</a></strong> merged by <strong><a href=\"https://github.com/sgibson91\">@sgibson91</a></strong></li>\n<li><a href=\"https://github.com/jupyterhub/mybinder.org-deploy/pull/1214\">(#1214)</a>: <em>Installing cert-manager: step 1 - adding files</em> by <strong><a href=\"https://github.com/sgibson91\">@sgibson91</a></strong> merged by <strong><a href=\"https://github.com/sgibson91\">@sgibson91</a></strong></li>\n<li><a href=\"https://github.com/jupyterhub/mybinder.org-deploy/pull/1212\">(#1212)</a>: <em>Revert \"cert manager install: step 1 - adding files\"</em> by <strong><a href=\"https://github.com/sgibson91\">@sgibson91</a></strong> merged by <strong><a href=\"https://github.com/sgibson91\">@sgibson91</a></strong></li>\n<li><a href=\"https://github.com/jupyterhub/mybinder.org-deploy/pull/1211\">(#1211)</a>: <em>cert manager install: step 1 - adding files</em> by <strong><a href=\"https://github.com/sgibson91\">@sgibson91</a></strong> merged by <strong><a href=\"https://github.com/sgibson91\">@sgibson91</a></strong></li>\n<li><a href=\"https://github.com/jupyterhub/mybinder.org-deploy/pull/1207\">(#1207)</a>: <em>Increase nginx-ingress memory limits</em> by <strong><a href=\"https://github.com/betatim\">@betatim</a></strong> merged by <strong><a href=\"https://github.com/betatim\">@betatim</a></strong></li>\n<li><a href=\"https://github.com/jupyterhub/mybinder.org-deploy/pull/1206\">(#1206)</a>: <em>revert misuse of urljoin in federation redirector</em> by <strong><a href=\"https://github.com/bitnik\">@bitnik</a></strong> merged by <strong><a href=\"https://github.com/betatim\">@betatim</a></strong></li>\n<li><a href=\"https://github.com/jupyterhub/mybinder.org-deploy/pull/1205\">(#1205)</a>: <em>[MRG] Increase memory request and limit of nginx-ingress</em> by <strong><a href=\"https://github.com/betatim\">@betatim</a></strong> merged by <strong><a href=\"https://github.com/betatim\">@betatim</a></strong></li>\n<li><a href=\"https://github.com/jupyterhub/mybinder.org-deploy/pull/1201\">(#1201)</a>: <em>Ban the IP of a mining pool</em> by <strong><a href=\"https://github.com/betatim\">@betatim</a></strong> merged by <strong><a href=\"https://github.com/betatim\">@betatim</a></strong></li>\n<li><a href=\"https://github.com/jupyterhub/mybinder.org-deploy/pull/1200\">(#1200)</a>: <em>Set user placeholder replica count for oVH</em> by <strong><a href=\"https://github.com/betatim\">@betatim</a></strong> merged by <strong><a href=\"https://github.com/betatim\">@betatim</a></strong></li>\n<li><a href=\"https://github.com/jupyterhub/mybinder.org-deploy/pull/1199\">(#1199)</a>: <em>Add some placeholder pods to OVH</em> by <strong><a href=\"https://github.com/betatim\">@betatim</a></strong> merged by <strong><a href=\"https://github.com/betatim\">@betatim</a></strong></li>\n<li><a href=\"https://github.com/jupyterhub/mybinder.org-deploy/pull/1198\">(#1198)</a>: <em>Add pod anti-affinity to federation redirect</em> by <strong><a href=\"https://github.com/betatim\">@betatim</a></strong> merged by <strong><a href=\"https://github.com/betatim\">@betatim</a></strong></li>\n<li><a href=\"https://github.com/jupyterhub/mybinder.org-deploy/pull/1197\">(#1197)</a>: <em>[MRG] Update cluster management snippet</em> by <strong><a href=\"https://github.com/betatim\">@betatim</a></strong> merged by <strong><a href=\"https://github.com/betatim\">@betatim</a></strong></li>\n<li><a href=\"https://github.com/jupyterhub/mybinder.org-deploy/pull/1196\">(#1196)</a>: <em>Remove GESIS from the staging federation</em> by <strong><a href=\"https://github.com/betatim\">@betatim</a></strong> merged by <strong><a href=\"https://github.com/betatim\">@betatim</a></strong></li>\n<li><a href=\"https://github.com/jupyterhub/mybinder.org-deploy/pull/1195\">(#1195)</a>: <em>Update grafana version</em> by <strong><a href=\"https://github.com/betatim\">@betatim</a></strong> merged by <strong><a href=\"https://github.com/betatim\">@betatim</a></strong></li>\n<li><a href=\"https://github.com/jupyterhub/mybinder.org-deploy/pull/1194\">(#1194)</a>: <em>[MRG] Update prometheus chart to version 9.1.2</em> by <strong><a href=\"https://github.com/betatim\">@betatim</a></strong> merged by <strong><a href=\"https://github.com/betatim\">@betatim</a></strong></li>\n<li><a href=\"https://github.com/jupyterhub/mybinder.org-deploy/pull/1193\">(#1193)</a>: <em>handler to show active hosts</em> by <strong><a href=\"https://github.com/bitnik\">@bitnik</a></strong> merged by <strong><a href=\"https://github.com/betatim\">@betatim</a></strong></li>\n<li><a href=\"https://github.com/jupyterhub/mybinder.org-deploy/pull/1191\">(#1191)</a>: <em>Federation redirector: check versions</em> by <strong><a href=\"https://github.com/bitnik\">@bitnik</a></strong> merged by <strong><a href=\"https://github.com/betatim\">@betatim</a></strong></li>\n<li><a href=\"https://github.com/jupyterhub/mybinder.org-deploy/pull/1189\">(#1189)</a>: <em>Remove defunct playground config</em> by <strong><a href=\"https://github.com/yuvipanda\">@yuvipanda</a></strong> merged by <strong><a href=\"https://github.com/betatim\">@betatim</a></strong></li>\n<li><a href=\"https://github.com/jupyterhub/mybinder.org-deploy/pull/1184\">(#1184)</a>: <em>Finish up amending SRE guidelines</em> by <strong><a href=\"https://github.com/sgibson91\">@sgibson91</a></strong> merged by <strong><a href=\"https://github.com/sgibson91\">@sgibson91</a></strong></li>\n<li><a href=\"https://github.com/jupyterhub/mybinder.org-deploy/pull/1183\">(#1183)</a>: <em>Increase OVH pod quota</em> by <strong><a href=\"https://github.com/betatim\">@betatim</a></strong> merged by <strong><a href=\"https://github.com/betatim\">@betatim</a></strong></li>\n</ul>\n<h5><a href=\"https://github.com/jupyterhub/nativeauthenticator\">jupyterhub/nativeauthenticator</a></h5>\n<ul>\n<li><a href=\"https://github.com/jupyterhub/nativeauthenticator/pull/89\">(#89)</a>: <em>add contributing file</em> by <strong><a href=\"https://github.com/leportella\">@leportella</a></strong> merged by <strong><a href=\"https://github.com/leportella\">@leportella</a></strong></li>\n</ul>\n<h5><a href=\"https://github.com/jupyterhub/nbgitpuller\">jupyterhub/nbgitpuller</a></h5>\n<ul>\n<li><a href=\"https://github.com/jupyterhub/nbgitpuller/pull/107\">(#107)</a>: <em>Link generator: init application type from query params</em> by <strong><a href=\"https://github.com/consideRatio\">@consideRatio</a></strong> merged by <strong><a href=\"https://github.com/consideRatio\">@consideRatio</a></strong></li>\n</ul>\n<h5><a href=\"https://github.com/jupyterhub/nullauthenticator\">jupyterhub/nullauthenticator</a></h5>\n<ul>\n<li><a href=\"https://github.com/jupyterhub/nullauthenticator/pull/3\">(#3)</a>: <em>Fix project name typo</em> by <strong><a href=\"https://github.com/kinow\">@kinow</a></strong> merged by <strong><a href=\"https://github.com/takluyver\">@takluyver</a></strong></li>\n</ul>\n<h5><a href=\"https://github.com/jupyterhub/oauthenticator\">jupyterhub/oauthenticator</a></h5>\n<ul>\n<li><a href=\"https://github.com/jupyterhub/oauthenticator/pull/297\">(#297)</a>: <em>mediawiki: utf-8 &gt; binary strings, req. mwoauth&gt;=0.3.7</em> by <strong><a href=\"https://github.com/consideRatio\">@consideRatio</a></strong> merged by <strong><a href=\"https://github.com/consideRatio\">@consideRatio</a></strong></li>\n<li><a href=\"https://github.com/jupyterhub/oauthenticator/pull/295\">(#295)</a>: <em>Disable MediaWiki's mwoauth==0.3.5 due to a regression</em> by <strong><a href=\"https://github.com/consideRatio\">@consideRatio</a></strong> merged by <strong><a href=\"https://github.com/consideRatio\">@consideRatio</a></strong></li>\n<li><a href=\"https://github.com/jupyterhub/oauthenticator/pull/293\">(#293)</a>: <em>Add PyPI/Travis build badges to README.md</em> by <strong><a href=\"https://github.com/consideRatio\">@consideRatio</a></strong> merged by <strong><a href=\"https://github.com/manics\">@manics</a></strong></li>\n</ul>\n<h5><a href=\"https://github.com/jupyterhub/team-compass\">jupyterhub/team-compass</a></h5>\n<ul>\n<li><a href=\"https://github.com/jupyterhub/team-compass/pull/218\">(#218)</a>: <em>Add october meeting notes</em> by <strong><a href=\"https://github.com/Zsailer\">@Zsailer</a></strong> merged by <strong><a href=\"https://github.com/betatim\">@betatim</a></strong></li>\n<li><a href=\"https://github.com/jupyterhub/team-compass/pull/212\">(#212)</a>: <em>September Meeting Notes</em> by <strong><a href=\"https://github.com/Zsailer\">@Zsailer</a></strong> merged by <strong><a href=\"https://github.com/choldgraf\">@choldgraf</a></strong></li>\n</ul>\n<h5><a href=\"https://github.com/jupyterhub/the-littlest-jupyterhub\">jupyterhub/the-littlest-jupyterhub</a></h5>\n<ul>\n<li><a href=\"https://github.com/jupyterhub/the-littlest-jupyterhub/pull/458\">(#458)</a>: <em>[MRG] Azure docs - add details on the new Azure deploy button</em> by <strong><a href=\"https://github.com/trallard\">@trallard</a></strong> merged by <strong><a href=\"https://github.com/yuvipanda\">@yuvipanda</a></strong></li>\n<li><a href=\"https://github.com/jupyterhub/the-littlest-jupyterhub/pull/449\">(#449)</a>: <em>Write out deb line only if it already doesn't exist</em> by <strong><a href=\"https://github.com/GeorgianaElena\">@GeorgianaElena</a></strong> merged by <strong><a href=\"https://github.com/yuvipanda\">@yuvipanda</a></strong></li>\n<li><a href=\"https://github.com/jupyterhub/the-littlest-jupyterhub/pull/448\">(#448)</a>: <em>[Ready to merge] - Update  Azure docs</em> by <strong><a href=\"https://github.com/trallard\">@trallard</a></strong> merged by <strong><a href=\"https://github.com/yuvipanda\">@yuvipanda</a></strong></li>\n<li><a href=\"https://github.com/jupyterhub/the-littlest-jupyterhub/pull/442\">(#442)</a>: <em>Upgrade traefik version</em> by <strong><a href=\"https://github.com/GeorgianaElena\">@GeorgianaElena</a></strong> merged by <strong><a href=\"https://github.com/yuvipanda\">@yuvipanda</a></strong></li>\n</ul>\n<h5><a href=\"https://github.com/jupyterhub/traefik-proxy\">jupyterhub/traefik-proxy</a></h5>\n<ul>\n<li><a href=\"https://github.com/jupyterhub/traefik-proxy/pull/82\">(#82)</a>: <em>CONTRIBUTING: use long option in \"pip install -e\"</em> by <strong><a href=\"https://github.com/muxator\">@muxator</a></strong> merged by <strong><a href=\"https://github.com/GeorgianaElena\">@GeorgianaElena</a></strong></li>\n<li><a href=\"https://github.com/jupyterhub/traefik-proxy/pull/81\">(#81)</a>: <em>Change traefik default version</em> by <strong><a href=\"https://github.com/GeorgianaElena\">@GeorgianaElena</a></strong> merged by <strong><a href=\"https://github.com/GeorgianaElena\">@GeorgianaElena</a></strong></li>\n</ul>\n<h5><a href=\"https://github.com/jupyterhub/zero-to-jupyterhub-k8s\">jupyterhub/zero-to-jupyterhub-k8s</a></h5>\n<ul>\n<li><a href=\"https://github.com/jupyterhub/zero-to-jupyterhub-k8s/pull/1459\">(#1459)</a>: <em>Chart upgrade tests</em> by <strong><a href=\"https://github.com/consideRatio\">@consideRatio</a></strong> merged by <strong><a href=\"https://github.com/consideRatio\">@consideRatio</a></strong></li>\n<li><a href=\"https://github.com/jupyterhub/zero-to-jupyterhub-k8s/pull/1457\">(#1457)</a>: <em>Replaced broken links in authentication document #1449</em> by <strong><a href=\"https://github.com/n3o-Bhushan\">@n3o-Bhushan</a></strong> merged by <strong><a href=\"https://github.com/consideRatio\">@consideRatio</a></strong></li>\n<li><a href=\"https://github.com/jupyterhub/zero-to-jupyterhub-k8s/pull/1456\">(#1456)</a>: <em>Fix typo in home page of docs</em> by <strong><a href=\"https://github.com/celine168\">@celine168</a></strong> merged by <strong><a href=\"https://github.com/manics\">@manics</a></strong></li>\n<li><a href=\"https://github.com/jupyterhub/zero-to-jupyterhub-k8s/pull/1454\">(#1454)</a>: <em>Bump python-kubernetes to 9.0.*</em> by <strong><a href=\"https://github.com/clkao\">@clkao</a></strong> merged by <strong><a href=\"https://github.com/consideRatio\">@consideRatio</a></strong></li>\n<li><a href=\"https://github.com/jupyterhub/zero-to-jupyterhub-k8s/pull/1450\">(#1450)</a>: <em>Support CD with git tags</em> by <strong><a href=\"https://github.com/consideRatio\">@consideRatio</a></strong> merged by <strong><a href=\"https://github.com/consideRatio\">@consideRatio</a></strong></li>\n<li><a href=\"https://github.com/jupyterhub/zero-to-jupyterhub-k8s/pull/1443\">(#1443)</a>: <em>Added Laurent Goderre as contributor</em> by <strong><a href=\"https://github.com/LaurentGoderre\">@LaurentGoderre</a></strong> merged by <strong><a href=\"https://github.com/willingc\">@willingc</a></strong></li>\n<li><a href=\"https://github.com/jupyterhub/zero-to-jupyterhub-k8s/pull/1441\">(#1441)</a>: <em>Note about future hard deprecation</em> by <strong><a href=\"https://github.com/consideRatio\">@consideRatio</a></strong> merged by <strong><a href=\"https://github.com/consideRatio\">@consideRatio</a></strong></li>\n<li><a href=\"https://github.com/jupyterhub/zero-to-jupyterhub-k8s/pull/1438\">(#1438)</a>: <em>Fix link formatting for ingress.enabled</em> by <strong><a href=\"https://github.com/jtpio\">@jtpio</a></strong> merged by <strong><a href=\"https://github.com/betatim\">@betatim</a></strong></li>\n<li><a href=\"https://github.com/jupyterhub/zero-to-jupyterhub-k8s/pull/1426\">(#1426)</a>: <em>Added the ability to use an existing/shared imge pull secret</em> by <strong><a href=\"https://github.com/LaurentGoderre\">@LaurentGoderre</a></strong> merged by <strong><a href=\"https://github.com/minrk\">@minrk</a></strong></li>\n<li><a href=\"https://github.com/jupyterhub/zero-to-jupyterhub-k8s/pull/1422\">(#1422)</a>: <em>CI rework - use kind, validate-&gt;test-&gt;publish, contrib and release rework</em> by <strong><a href=\"https://github.com/consideRatio\">@consideRatio</a></strong> merged by <strong><a href=\"https://github.com/consideRatio\">@consideRatio</a></strong></li>\n</ul>"
      }
     },
     "77e4d625ab2441e18e73e0f3f2bd1ed3": {
      "model_module": "@jupyter-widgets/base",
      "model_module_version": "1.2.0",
      "model_name": "LayoutModel",
      "state": {
       "_model_module": "@jupyter-widgets/base",
       "_model_module_version": "1.2.0",
       "_model_name": "LayoutModel",
       "_view_count": null,
       "_view_module": "@jupyter-widgets/base",
       "_view_module_version": "1.2.0",
       "_view_name": "LayoutView",
       "align_content": null,
       "align_items": null,
       "align_self": null,
       "border": null,
       "bottom": null,
       "display": null,
       "flex": null,
       "flex_flow": null,
       "grid_area": null,
       "grid_auto_columns": null,
       "grid_auto_flow": null,
       "grid_auto_rows": null,
       "grid_column": null,
       "grid_gap": null,
       "grid_row": null,
       "grid_template_areas": null,
       "grid_template_columns": null,
       "grid_template_rows": null,
       "height": null,
       "justify_content": null,
       "justify_items": null,
       "left": null,
       "margin": null,
       "max_height": null,
       "max_width": null,
       "min_height": null,
       "min_width": null,
       "object_fit": null,
       "object_position": null,
       "order": null,
       "overflow": null,
       "overflow_x": null,
       "overflow_y": null,
       "padding": null,
       "right": null,
       "top": null,
       "visibility": null,
       "width": null
      }
     },
     "787c54a615374b14835277903a9124c4": {
      "model_module": "@jupyter-widgets/controls",
      "model_module_version": "1.5.0",
      "model_name": "HTMLModel",
      "state": {
       "_dom_classes": [],
       "_model_module": "@jupyter-widgets/controls",
       "_model_module_version": "1.5.0",
       "_model_name": "HTMLModel",
       "_view_count": null,
       "_view_module": "@jupyter-widgets/controls",
       "_view_module_version": "1.5.0",
       "_view_name": "HTMLView",
       "description": "",
       "description_tooltip": null,
       "layout": "IPY_MODEL_79dda7090e5d4ae19f9183f4737bb834",
       "placeholder": "​",
       "style": "IPY_MODEL_8f86bf7f9338497caa2ed4429441e4c8",
       "value": "<h4>Closed PRs for org: <code>jupyter</code></h4>\n<h5><a href=\"https://github.com/jupyter/enhancement-proposals\">jupyter/enhancement-proposals</a></h5>\n<ul>\n<li><a href=\"https://github.com/jupyter/enhancement-proposals/pull/43\">(#43)</a>: <em>add JEP 42 (voila incorporation) to readme</em> by <strong><a href=\"https://github.com/Zsailer\">@Zsailer</a></strong> merged by <strong><a href=\"https://github.com/blink1073\">@blink1073</a></strong></li>\n<li><a href=\"https://github.com/jupyter/enhancement-proposals/pull/42\">(#42)</a>: <em>Voila incorporation</em> by <strong><a href=\"https://github.com/SylvainCorlay\">@SylvainCorlay</a></strong> merged by <strong><a href=\"https://github.com/jasongrout\">@jasongrout</a></strong></li>\n</ul>\n<h5><a href=\"https://github.com/jupyter/enterprise_gateway\">jupyter/enterprise_gateway</a></h5>\n<ul>\n<li><a href=\"https://github.com/jupyter/enterprise_gateway/pull/742\">(#742)</a>: <em>Catch thread exception in kernel-spark-py</em> by <strong><a href=\"https://github.com/abz53378\">@abz53378</a></strong> merged by <strong><a href=\"https://github.com/lresende\">@lresende</a></strong></li>\n<li><a href=\"https://github.com/jupyter/enterprise_gateway/pull/739\">(#739)</a>: <em>Update to new yarn-api-client API release 1.0</em> by <strong><a href=\"https://github.com/kevin-bates\">@kevin-bates</a></strong> merged by <strong><a href=\"https://github.com/lresende\">@lresende</a></strong></li>\n</ul>\n<h5><a href=\"https://github.com/jupyter/governance\">jupyter/governance</a></h5>\n<ul>\n<li><a href=\"https://github.com/jupyter/governance/pull/66\">(#66)</a>: <em>Update license guidelines for projects</em> by <strong><a href=\"https://github.com/jasongrout\">@jasongrout</a></strong> merged by <strong><a href=\"https://github.com/rgbkrk\">@rgbkrk</a></strong></li>\n</ul>\n<h5><a href=\"https://github.com/jupyter/jupyter\">jupyter/jupyter</a></h5>\n<ul>\n<li><a href=\"https://github.com/jupyter/jupyter/pull/469\">(#469)</a>: <em>Centralized calendar for Project Jupyter</em> by <strong><a href=\"https://github.com/Zsailer\">@Zsailer</a></strong> merged by <strong><a href=\"https://github.com/choldgraf\">@choldgraf</a></strong></li>\n<li><a href=\"https://github.com/jupyter/jupyter/pull/467\">(#467)</a>: <em>Translate 'docs/source/locale/en/LC_MESSAGES/glossary.po' in 'es'</em> by <strong><a href=\"https://github.com/transifex-integration\">@transifex-integration</a></strong> merged by <strong><a href=\"https://github.com/parente\">@parente</a></strong></li>\n<li><a href=\"https://github.com/jupyter/jupyter/pull/464\">(#464)</a>: <em>Fix project name typo</em> by <strong><a href=\"https://github.com/kinow\">@kinow</a></strong> merged by <strong><a href=\"https://github.com/choldgraf\">@choldgraf</a></strong></li>\n<li><a href=\"https://github.com/jupyter/jupyter/pull/463\">(#463)</a>: <em>Translate 'docs/source/locale/en/LC_MESSAGES/releases.po' in 'es'</em> by <strong><a href=\"https://github.com/transifex-integration\">@transifex-integration</a></strong> merged by <strong><a href=\"https://github.com/parente\">@parente</a></strong></li>\n<li><a href=\"https://github.com/jupyter/jupyter/pull/462\">(#462)</a>: <em>Translate 'docs/source/locale/en/LC_MESSAGES/ipython.po' in 'es'</em> by <strong><a href=\"https://github.com/transifex-integration\">@transifex-integration</a></strong> merged by <strong><a href=\"https://github.com/parente\">@parente</a></strong></li>\n<li><a href=\"https://github.com/jupyter/jupyter/pull/461\">(#461)</a>: <em>Translate 'docs/source/locale/en/LC_MESSAGES/install-kernel.po' in 'es'</em> by <strong><a href=\"https://github.com/transifex-integration\">@transifex-integration</a></strong> merged by <strong><a href=\"https://github.com/parente\">@parente</a></strong></li>\n<li><a href=\"https://github.com/jupyter/jupyter/pull/460\">(#460)</a>: <em>Translate 'docs/source/locale/en/LC_MESSAGES/contents.po' in 'es'</em> by <strong><a href=\"https://github.com/transifex-integration\">@transifex-integration</a></strong> merged by <strong><a href=\"https://github.com/parente\">@parente</a></strong></li>\n<li><a href=\"https://github.com/jupyter/jupyter/pull/459\">(#459)</a>: <em>Translate 'docs/source/locale/en/LC_MESSAGES/content-quickstart.po' in 'es'</em> by <strong><a href=\"https://github.com/transifex-integration\">@transifex-integration</a></strong> merged by <strong><a href=\"https://github.com/parente\">@parente</a></strong></li>\n<li><a href=\"https://github.com/jupyter/jupyter/pull/458\">(#458)</a>: <em>Two spelling corrections</em> by <strong><a href=\"https://github.com/s-Hale\">@s-Hale</a></strong> merged by <strong><a href=\"https://github.com/choldgraf\">@choldgraf</a></strong></li>\n<li><a href=\"https://github.com/jupyter/jupyter/pull/450\">(#450)</a>: <em>Attempt to provide documentation for JUPYTER_DATA_DIR</em> by <strong><a href=\"https://github.com/krinsman\">@krinsman</a></strong> merged by <strong><a href=\"https://github.com/choldgraf\">@choldgraf</a></strong></li>\n</ul>\n<h5><a href=\"https://github.com/jupyter/jupyter-book\">jupyter/jupyter-book</a></h5>\n<ul>\n<li><a href=\"https://github.com/jupyter/jupyter-book/pull/425\">(#425)</a>: <em>Update README.md</em> by <strong><a href=\"https://github.com/choldgraf\">@choldgraf</a></strong> merged by <strong><a href=\"https://github.com/choldgraf\">@choldgraf</a></strong></li>\n<li><a href=\"https://github.com/jupyter/jupyter-book/pull/423\">(#423)</a>: <em>using thebelab latest</em> by <strong><a href=\"https://github.com/choldgraf\">@choldgraf</a></strong> merged by <strong><a href=\"https://github.com/choldgraf\">@choldgraf</a></strong></li>\n<li><a href=\"https://github.com/jupyter/jupyter-book/pull/422\">(#422)</a>: <em>updating thebelab and improving code highlighting</em> by <strong><a href=\"https://github.com/choldgraf\">@choldgraf</a></strong> merged by <strong><a href=\"https://github.com/choldgraf\">@choldgraf</a></strong></li>\n<li><a href=\"https://github.com/jupyter/jupyter-book/pull/420\">(#420)</a>: <em>Hide outputs and markdown cells</em> by <strong><a href=\"https://github.com/choldgraf\">@choldgraf</a></strong> merged by <strong><a href=\"https://github.com/choldgraf\">@choldgraf</a></strong></li>\n<li><a href=\"https://github.com/jupyter/jupyter-book/pull/417\">(#417)</a>: <em>fixing full width content and some formatting bugs</em> by <strong><a href=\"https://github.com/choldgraf\">@choldgraf</a></strong> merged by <strong><a href=\"https://github.com/choldgraf\">@choldgraf</a></strong></li>\n<li><a href=\"https://github.com/jupyter/jupyter-book/pull/416\">(#416)</a>: <em>Adding a \"test\" section for pages that are hard to test w/ python</em> by <strong><a href=\"https://github.com/choldgraf\">@choldgraf</a></strong> merged by <strong><a href=\"https://github.com/choldgraf\">@choldgraf</a></strong></li>\n<li><a href=\"https://github.com/jupyter/jupyter-book/pull/415\">(#415)</a>: <em>Update limits.md</em> by <strong><a href=\"https://github.com/choldgraf\">@choldgraf</a></strong> merged by <strong><a href=\"https://github.com/choldgraf\">@choldgraf</a></strong></li>\n<li><a href=\"https://github.com/jupyter/jupyter-book/pull/414\">(#414)</a>: <em>[FIX] Fix for on-page anchor-based TOC issues</em> by <strong><a href=\"https://github.com/GasperPaul\">@GasperPaul</a></strong> merged by <strong><a href=\"https://github.com/choldgraf\">@choldgraf</a></strong></li>\n<li><a href=\"https://github.com/jupyter/jupyter-book/pull/406\">(#406)</a>: <em>tocfix</em> by <strong><a href=\"https://github.com/choldgraf\">@choldgraf</a></strong> merged by <strong><a href=\"https://github.com/choldgraf\">@choldgraf</a></strong></li>\n<li><a href=\"https://github.com/jupyter/jupyter-book/pull/405\">(#405)</a>: <em>fixing toc</em> by <strong><a href=\"https://github.com/choldgraf\">@choldgraf</a></strong> merged by <strong><a href=\"https://github.com/choldgraf\">@choldgraf</a></strong></li>\n<li><a href=\"https://github.com/jupyter/jupyter-book/pull/403\">(#403)</a>: <em>moving some modules to pathlib</em> by <strong><a href=\"https://github.com/choldgraf\">@choldgraf</a></strong> merged by <strong><a href=\"https://github.com/choldgraf\">@choldgraf</a></strong></li>\n<li><a href=\"https://github.com/jupyter/jupyter-book/pull/400\">(#400)</a>: <em>[FIX] Fixed issue with Unicode characters in TOC</em> by <strong><a href=\"https://github.com/GasperPaul\">@GasperPaul</a></strong> merged by <strong><a href=\"https://github.com/choldgraf\">@choldgraf</a></strong></li>\n<li><a href=\"https://github.com/jupyter/jupyter-book/pull/398\">(#398)</a>: <em>[FIX] Fix for path separator issue on Windows</em> by <strong><a href=\"https://github.com/GasperPaul\">@GasperPaul</a></strong> merged by <strong><a href=\"https://github.com/choldgraf\">@choldgraf</a></strong></li>\n<li><a href=\"https://github.com/jupyter/jupyter-book/pull/394\">(#394)</a>: <em>adding code structure and moving contributing guide</em> by <strong><a href=\"https://github.com/choldgraf\">@choldgraf</a></strong> merged by <strong><a href=\"https://github.com/choldgraf\">@choldgraf</a></strong></li>\n<li><a href=\"https://github.com/jupyter/jupyter-book/pull/393\">(#393)</a>: <em>fixing issue template</em> by <strong><a href=\"https://github.com/choldgraf\">@choldgraf</a></strong> merged by <strong><a href=\"https://github.com/choldgraf\">@choldgraf</a></strong></li>\n<li><a href=\"https://github.com/jupyter/jupyter-book/pull/392\">(#392)</a>: <em>updating getting started guide</em> by <strong><a href=\"https://github.com/choldgraf\">@choldgraf</a></strong> merged by <strong><a href=\"https://github.com/choldgraf\">@choldgraf</a></strong></li>\n<li><a href=\"https://github.com/jupyter/jupyter-book/pull/390\">(#390)</a>: <em>adding ability to add authors and titles</em> by <strong><a href=\"https://github.com/choldgraf\">@choldgraf</a></strong> merged by <strong><a href=\"https://github.com/choldgraf\">@choldgraf</a></strong></li>\n<li><a href=\"https://github.com/jupyter/jupyter-book/pull/389\">(#389)</a>: <em>version bump</em> by <strong><a href=\"https://github.com/choldgraf\">@choldgraf</a></strong> merged by <strong><a href=\"https://github.com/choldgraf\">@choldgraf</a></strong></li>\n<li><a href=\"https://github.com/jupyter/jupyter-book/pull/387\">(#387)</a>: <em>new release and updating instructions</em> by <strong><a href=\"https://github.com/choldgraf\">@choldgraf</a></strong> merged by <strong><a href=\"https://github.com/choldgraf\">@choldgraf</a></strong></li>\n<li><a href=\"https://github.com/jupyter/jupyter-book/pull/386\">(#386)</a>: <em>css for thebelab z-order</em> by <strong><a href=\"https://github.com/choldgraf\">@choldgraf</a></strong> merged by <strong><a href=\"https://github.com/choldgraf\">@choldgraf</a></strong></li>\n<li><a href=\"https://github.com/jupyter/jupyter-book/pull/385\">(#385)</a>: <em>fixing load ntbk function</em> by <strong><a href=\"https://github.com/choldgraf\">@choldgraf</a></strong> merged by <strong><a href=\"https://github.com/choldgraf\">@choldgraf</a></strong></li>\n<li><a href=\"https://github.com/jupyter/jupyter-book/pull/384\">(#384)</a>: <em>load ntbk function</em> by <strong><a href=\"https://github.com/choldgraf\">@choldgraf</a></strong> merged by <strong><a href=\"https://github.com/choldgraf\">@choldgraf</a></strong></li>\n<li><a href=\"https://github.com/jupyter/jupyter-book/pull/383\">(#383)</a>: <em>DOC: intro.md: Jupyter Books -&gt; Jupyter Book</em> by <strong><a href=\"https://github.com/westurner\">@westurner</a></strong> merged by <strong><a href=\"https://github.com/choldgraf\">@choldgraf</a></strong></li>\n<li><a href=\"https://github.com/jupyter/jupyter-book/pull/381\">(#381)</a>: <em>moving CSS and JS generation to their own function</em> by <strong><a href=\"https://github.com/choldgraf\">@choldgraf</a></strong> merged by <strong><a href=\"https://github.com/choldgraf\">@choldgraf</a></strong></li>\n<li><a href=\"https://github.com/jupyter/jupyter-book/pull/379\">(#379)</a>: <em>making sure gemfile.lock is removed</em> by <strong><a href=\"https://github.com/choldgraf\">@choldgraf</a></strong> merged by <strong><a href=\"https://github.com/choldgraf\">@choldgraf</a></strong></li>\n<li><a href=\"https://github.com/jupyter/jupyter-book/pull/378\">(#378)</a>: <em>removing unnecessary requirements</em> by <strong><a href=\"https://github.com/choldgraf\">@choldgraf</a></strong> merged by <strong><a href=\"https://github.com/choldgraf\">@choldgraf</a></strong></li>\n<li><a href=\"https://github.com/jupyter/jupyter-book/pull/377\">(#377)</a>: <em>making toc gen sorted</em> by <strong><a href=\"https://github.com/choldgraf\">@choldgraf</a></strong> merged by <strong><a href=\"https://github.com/choldgraf\">@choldgraf</a></strong></li>\n<li><a href=\"https://github.com/jupyter/jupyter-book/pull/375\">(#375)</a>: <em>fixing TOC auto gen bug</em> by <strong><a href=\"https://github.com/choldgraf\">@choldgraf</a></strong> merged by <strong><a href=\"https://github.com/choldgraf\">@choldgraf</a></strong></li>\n<li><a href=\"https://github.com/jupyter/jupyter-book/pull/373\">(#373)</a>: <em>fixing up download functionality</em> by <strong><a href=\"https://github.com/choldgraf\">@choldgraf</a></strong> merged by <strong><a href=\"https://github.com/choldgraf\">@choldgraf</a></strong></li>\n<li><a href=\"https://github.com/jupyter/jupyter-book/pull/372\">(#372)</a>: <em>small refactoring of names and layout</em> by <strong><a href=\"https://github.com/choldgraf\">@choldgraf</a></strong> merged by <strong><a href=\"https://github.com/choldgraf\">@choldgraf</a></strong></li>\n</ul>\n<h5><a href=\"https://github.com/jupyter/jupyter-sphinx\">jupyter/jupyter-sphinx</a></h5>\n<ul>\n<li><a href=\"https://github.com/jupyter/jupyter-sphinx/pull/86\">(#86)</a>: <em>Stab at adding stderr differentiation</em> by <strong><a href=\"https://github.com/seanpue\">@seanpue</a></strong> merged by <strong><a href=\"https://github.com/jbweston\">@jbweston</a></strong></li>\n<li><a href=\"https://github.com/jupyter/jupyter-sphinx/pull/81\">(#81)</a>: <em>added linenos (line numbers) flag, updated docs, and basic tests</em> by <strong><a href=\"https://github.com/seanpue\">@seanpue</a></strong> merged by <strong><a href=\"https://github.com/akhmerov\">@akhmerov</a></strong></li>\n</ul>\n<h5><a href=\"https://github.com/jupyter/jupyter.github.io\">jupyter/jupyter.github.io</a></h5>\n<ul>\n<li><a href=\"https://github.com/jupyter/jupyter.github.io/pull/355\">(#355)</a>: <em>Fixup logo</em> by <strong><a href=\"https://github.com/SylvainCorlay\">@SylvainCorlay</a></strong> merged by <strong><a href=\"https://github.com/SylvainCorlay\">@SylvainCorlay</a></strong></li>\n<li><a href=\"https://github.com/jupyter/jupyter.github.io/pull/354\">(#354)</a>: <em>Currently in use at ... add QuantStack.</em> by <strong><a href=\"https://github.com/SylvainCorlay\">@SylvainCorlay</a></strong> merged by <strong><a href=\"https://github.com/SylvainCorlay\">@SylvainCorlay</a></strong></li>\n<li><a href=\"https://github.com/jupyter/jupyter.github.io/pull/353\">(#353)</a>: <em>Update affiliation and institutional partners</em> by <strong><a href=\"https://github.com/blink1073\">@blink1073</a></strong> merged by <strong><a href=\"https://github.com/ellisonbg\">@ellisonbg</a></strong></li>\n<li><a href=\"https://github.com/jupyter/jupyter.github.io/pull/351\">(#351)</a>: <em>Add M Pacer to list of steering council members</em> by <strong><a href=\"https://github.com/mpacer\">@mpacer</a></strong> merged by <strong><a href=\"https://github.com/Ruv7\">@Ruv7</a></strong></li>\n</ul>\n<h5><a href=\"https://github.com/jupyter/jupyter_client\">jupyter/jupyter_client</a></h5>\n<ul>\n<li><a href=\"https://github.com/jupyter/jupyter_client/pull/492\">(#492)</a>: <em>Only cache ports if the cache_ports flag is set to True</em> by <strong><a href=\"https://github.com/martinRenou\">@martinRenou</a></strong> merged by <strong><a href=\"https://github.com/SylvainCorlay\">@SylvainCorlay</a></strong></li>\n<li><a href=\"https://github.com/jupyter/jupyter_client/pull/490\">(#490)</a>: <em>Prevent two kernels to have the same ports</em> by <strong><a href=\"https://github.com/martinRenou\">@martinRenou</a></strong> merged by <strong><a href=\"https://github.com/SylvainCorlay\">@SylvainCorlay</a></strong></li>\n<li><a href=\"https://github.com/jupyter/jupyter_client/pull/489\">(#489)</a>: <em>Remove pywin32 dependency</em> by <strong><a href=\"https://github.com/vidartf\">@vidartf</a></strong> merged by <strong><a href=\"https://github.com/SylvainCorlay\">@SylvainCorlay</a></strong></li>\n<li><a href=\"https://github.com/jupyter/jupyter_client/pull/483\">(#483)</a>: <em>Secure core import</em> by <strong><a href=\"https://github.com/MSeal\">@MSeal</a></strong> merged by <strong><a href=\"https://github.com/MSeal\">@MSeal</a></strong></li>\n</ul>\n<h5><a href=\"https://github.com/jupyter/jupyter_core\">jupyter/jupyter_core</a></h5>\n<ul>\n<li><a href=\"https://github.com/jupyter/jupyter_core/pull/174\">(#174)</a>: <em>Changelog for 4.6.1</em> by <strong><a href=\"https://github.com/kevin-bates\">@kevin-bates</a></strong> merged by <strong><a href=\"https://github.com/MSeal\">@MSeal</a></strong></li>\n<li><a href=\"https://github.com/jupyter/jupyter_core/pull/171\">(#171)</a>: <em>Fix project name typo</em> by <strong><a href=\"https://github.com/kinow\">@kinow</a></strong> merged by <strong><a href=\"https://github.com/rgbkrk\">@rgbkrk</a></strong></li>\n<li><a href=\"https://github.com/jupyter/jupyter_core/pull/169\">(#169)</a>: <em>Update example to achieve bash 3.2 compatibility</em> by <strong><a href=\"https://github.com/themarkrogers\">@themarkrogers</a></strong> merged by <strong><a href=\"https://github.com/rgbkrk\">@rgbkrk</a></strong></li>\n<li><a href=\"https://github.com/jupyter/jupyter_core/pull/166\">(#166)</a>: <em>Use GetUserNameEx to get SID of current user to secure win32 files</em> by <strong><a href=\"https://github.com/kevin-bates\">@kevin-bates</a></strong> merged by <strong><a href=\"https://github.com/rgbkrk\">@rgbkrk</a></strong></li>\n</ul>\n<h5><a href=\"https://github.com/jupyter/jupyter_server\">jupyter/jupyter_server</a></h5>\n<ul>\n<li><a href=\"https://github.com/jupyter/jupyter_server/pull/129\">(#129)</a>: <em>Travis CI: Add Python 3.8 to the testing</em> by <strong><a href=\"https://github.com/cclauss\">@cclauss</a></strong> merged by <strong><a href=\"https://github.com/Zsailer\">@Zsailer</a></strong></li>\n<li><a href=\"https://github.com/jupyter/jupyter_server/pull/124\">(#124)</a>: <em>feat: add base_url to browser_open.html template</em> by <strong><a href=\"https://github.com/maartenbreddels\">@maartenbreddels</a></strong> merged by <strong><a href=\"https://github.com/Zsailer\">@Zsailer</a></strong></li>\n<li><a href=\"https://github.com/jupyter/jupyter_server/pull/123\">(#123)</a>: <em>fix: launch browser was using old notebook_dir</em> by <strong><a href=\"https://github.com/maartenbreddels\">@maartenbreddels</a></strong> merged by <strong><a href=\"https://github.com/Zsailer\">@Zsailer</a></strong></li>\n<li><a href=\"https://github.com/jupyter/jupyter_server/pull/119\">(#119)</a>: <em>Fix project name typo</em> by <strong><a href=\"https://github.com/kinow\">@kinow</a></strong> merged by <strong><a href=\"https://github.com/SylvainCorlay\">@SylvainCorlay</a></strong></li>\n<li><a href=\"https://github.com/jupyter/jupyter_server/pull/116\">(#116)</a>: <em>Update docs and add new docs on ExtensionApp</em> by <strong><a href=\"https://github.com/Zsailer\">@Zsailer</a></strong> merged by <strong><a href=\"https://github.com/Zsailer\">@Zsailer</a></strong></li>\n<li><a href=\"https://github.com/jupyter/jupyter_server/pull/115\">(#115)</a>: <em>cleaning up PR#113</em> by <strong><a href=\"https://github.com/Zsailer\">@Zsailer</a></strong> merged by <strong><a href=\"https://github.com/vidartf\">@vidartf</a></strong></li>\n<li><a href=\"https://github.com/jupyter/jupyter_server/pull/114\">(#114)</a>: <em>Stop building a universal wheel</em> by <strong><a href=\"https://github.com/kevin-bates\">@kevin-bates</a></strong> merged by <strong><a href=\"https://github.com/rolweber\">@rolweber</a></strong></li>\n<li><a href=\"https://github.com/jupyter/jupyter_server/pull/113\">(#113)</a>: <em>Open ExtensionApps at extension's landing page</em> by <strong><a href=\"https://github.com/Zsailer\">@Zsailer</a></strong> merged by <strong><a href=\"https://github.com/rolweber\">@rolweber</a></strong></li>\n</ul>\n<h5><a href=\"https://github.com/jupyter/kernel_gateway\">jupyter/kernel_gateway</a></h5>\n<ul>\n<li><a href=\"https://github.com/jupyter/kernel_gateway/pull/327\">(#327)</a>: <em>Use ==/!= to compare str, bytes, and int literals</em> by <strong><a href=\"https://github.com/cclauss\">@cclauss</a></strong> merged by <strong><a href=\"https://github.com/rolweber\">@rolweber</a></strong></li>\n</ul>\n<h5><a href=\"https://github.com/jupyter/nbconvert\">jupyter/nbconvert</a></h5>\n<ul>\n<li><a href=\"https://github.com/jupyter/nbconvert/pull/1124\">(#1124)</a>: <em>CircleCI: Don't use per-branch caching</em> by <strong><a href=\"https://github.com/mgeier\">@mgeier</a></strong> merged by <strong><a href=\"https://github.com/MSeal\">@MSeal</a></strong></li>\n<li><a href=\"https://github.com/jupyter/nbconvert/pull/1122\">(#1122)</a>: <em>Added initial changelog for 5.6.1</em> by <strong><a href=\"https://github.com/MSeal\">@MSeal</a></strong> merged by <strong><a href=\"https://github.com/willingc\">@willingc</a></strong></li>\n<li><a href=\"https://github.com/jupyter/nbconvert/pull/1120\">(#1120)</a>: <em>CircleCI: Use conda root environment, no need to \"activate\"</em> by <strong><a href=\"https://github.com/mgeier\">@mgeier</a></strong> merged by <strong><a href=\"https://github.com/MSeal\">@MSeal</a></strong></li>\n<li><a href=\"https://github.com/jupyter/nbconvert/pull/1118\">(#1118)</a>: <em>Added circleCI Badge for master branch</em> by <strong><a href=\"https://github.com/MSeal\">@MSeal</a></strong> merged by <strong><a href=\"https://github.com/MSeal\">@MSeal</a></strong></li>\n<li><a href=\"https://github.com/jupyter/nbconvert/pull/1116\">(#1116)</a>: <em>Added circleCI Badge for master branch</em> by <strong><a href=\"https://github.com/MSeal\">@MSeal</a></strong> merged by <strong><a href=\"https://github.com/MSeal\">@MSeal</a></strong></li>\n<li><a href=\"https://github.com/jupyter/nbconvert/pull/1115\">(#1115)</a>: <em>Update svg2pdf.py to search the PATH for inkscape</em> by <strong><a href=\"https://github.com/rbeesley\">@rbeesley</a></strong> merged by <strong><a href=\"https://github.com/MSeal\">@MSeal</a></strong></li>\n<li><a href=\"https://github.com/jupyter/nbconvert/pull/1114\">(#1114)</a>: <em>Create docs on CircleCI</em> by <strong><a href=\"https://github.com/mgeier\">@mgeier</a></strong> merged by <strong><a href=\"https://github.com/MSeal\">@MSeal</a></strong></li>\n<li><a href=\"https://github.com/jupyter/nbconvert/pull/1112\">(#1112)</a>: <em>add support for alt tags for jpeg and png images</em> by <strong><a href=\"https://github.com/hx2A\">@hx2A</a></strong> merged by <strong><a href=\"https://github.com/MSeal\">@MSeal</a></strong></li>\n<li><a href=\"https://github.com/jupyter/nbconvert/pull/1109\">(#1109)</a>: <em>Fix latex dependencies installation command for Ubuntu systems</em> by <strong><a href=\"https://github.com/fbidu\">@fbidu</a></strong> merged by <strong><a href=\"https://github.com/MSeal\">@MSeal</a></strong></li>\n</ul>\n<h5><a href=\"https://github.com/jupyter/notebook\">jupyter/notebook</a></h5>\n<ul>\n<li><a href=\"https://github.com/jupyter/notebook/pull/4959\">(#4959)</a>: <em>Update core and client dependencies</em> by <strong><a href=\"https://github.com/kevin-bates\">@kevin-bates</a></strong> merged by <strong><a href=\"https://github.com/lresende\">@lresende</a></strong></li>\n<li><a href=\"https://github.com/jupyter/notebook/pull/4946\">(#4946)</a>: <em>Fix typo at start_buffering</em> by <strong><a href=\"https://github.com/takeru\">@takeru</a></strong> merged by <strong><a href=\"https://github.com/takluyver\">@takluyver</a></strong></li>\n<li><a href=\"https://github.com/jupyter/notebook/pull/4939\">(#4939)</a>: <em>successively look for .data('path') up parents</em> by <strong><a href=\"https://github.com/rgbkrk\">@rgbkrk</a></strong> merged by <strong><a href=\"https://github.com/jasongrout\">@jasongrout</a></strong></li>\n<li><a href=\"https://github.com/jupyter/notebook/pull/4936\">(#4936)</a>: <em>Rm dependences of py2 in base path.</em> by <strong><a href=\"https://github.com/00Kai0\">@00Kai0</a></strong> merged by <strong><a href=\"https://github.com/takluyver\">@takluyver</a></strong></li>\n<li><a href=\"https://github.com/jupyter/notebook/pull/4933\">(#4933)</a>: <em>fix doc about pip install with test extra require for zsh</em> by <strong><a href=\"https://github.com/00Kai0\">@00Kai0</a></strong> merged by <strong><a href=\"https://github.com/minrk\">@minrk</a></strong></li>\n<li><a href=\"https://github.com/jupyter/notebook/pull/4896\">(#4896)</a>: <em>DOC: Fix MathJax links (fixes #4885)</em> by <strong><a href=\"https://github.com/westurner\">@westurner</a></strong> merged by <strong><a href=\"https://github.com/takluyver\">@takluyver</a></strong></li>\n<li><a href=\"https://github.com/jupyter/notebook/pull/4893\">(#4893)</a>: <em>Add some minimal support for increasing the soft limit on open file handles, default to at least 4096</em> by <strong><a href=\"https://github.com/jasongrout\">@jasongrout</a></strong> merged by <strong><a href=\"https://github.com/lresende\">@lresende</a></strong></li>\n</ul>\n<h5><a href=\"https://github.com/jupyter/repo2docker\">jupyter/repo2docker</a></h5>\n<ul>\n<li><a href=\"https://github.com/jupyter/repo2docker/pull/804\">(#804)</a>: <em>adduser: useradd --no-log-init to reduce lastlog size</em> by <strong><a href=\"https://github.com/manics\">@manics</a></strong> merged by <strong><a href=\"https://github.com/betatim\">@betatim</a></strong></li>\n<li><a href=\"https://github.com/jupyter/repo2docker/pull/803\">(#803)</a>: <em>[MRG] Upadte RStudio 1.1 - &gt; 1.2, minor update to RShiny</em> by <strong><a href=\"https://github.com/pablobernabeu\">@pablobernabeu</a></strong> merged by <strong><a href=\"https://github.com/betatim\">@betatim</a></strong></li>\n<li><a href=\"https://github.com/jupyter/repo2docker/pull/802\">(#802)</a>: <em>[MRG] Bumped conda version to 4.7.12</em> by <strong><a href=\"https://github.com/davidrpugh\">@davidrpugh</a></strong> merged by <strong><a href=\"https://github.com/betatim\">@betatim</a></strong></li>\n</ul>\n<h5><a href=\"https://github.com/jupyter/telemetry\">jupyter/telemetry</a></h5>\n<ul>\n<li><a href=\"https://github.com/jupyter/telemetry/pull/33\">(#33)</a>: <em>add RTD badge</em> by <strong><a href=\"https://github.com/Zsailer\">@Zsailer</a></strong> merged by <strong><a href=\"https://github.com/yuvipanda\">@yuvipanda</a></strong></li>\n<li><a href=\"https://github.com/jupyter/telemetry/pull/32\">(#32)</a>: <em>Small doc fixes for RTD</em> by <strong><a href=\"https://github.com/Zsailer\">@Zsailer</a></strong> merged by <strong><a href=\"https://github.com/Zsailer\">@Zsailer</a></strong></li>\n<li><a href=\"https://github.com/jupyter/telemetry/pull/29\">(#29)</a>: <em>Setup Sphinx Docs</em> by <strong><a href=\"https://github.com/Zsailer\">@Zsailer</a></strong> merged by <strong><a href=\"https://github.com/Zsailer\">@Zsailer</a></strong></li>\n</ul>"
      }
     },
     "79dda7090e5d4ae19f9183f4737bb834": {
      "model_module": "@jupyter-widgets/base",
      "model_module_version": "1.2.0",
      "model_name": "LayoutModel",
      "state": {
       "_model_module": "@jupyter-widgets/base",
       "_model_module_version": "1.2.0",
       "_model_name": "LayoutModel",
       "_view_count": null,
       "_view_module": "@jupyter-widgets/base",
       "_view_module_version": "1.2.0",
       "_view_name": "LayoutView",
       "align_content": null,
       "align_items": null,
       "align_self": null,
       "border": null,
       "bottom": null,
       "display": null,
       "flex": null,
       "flex_flow": null,
       "grid_area": null,
       "grid_auto_columns": null,
       "grid_auto_flow": null,
       "grid_auto_rows": null,
       "grid_column": null,
       "grid_gap": null,
       "grid_row": null,
       "grid_template_areas": null,
       "grid_template_columns": null,
       "grid_template_rows": null,
       "height": null,
       "justify_content": null,
       "justify_items": null,
       "left": null,
       "margin": null,
       "max_height": null,
       "max_width": null,
       "min_height": null,
       "min_width": null,
       "object_fit": null,
       "object_position": null,
       "order": null,
       "overflow": null,
       "overflow_x": null,
       "overflow_y": null,
       "padding": null,
       "right": null,
       "top": null,
       "visibility": null,
       "width": null
      }
     },
     "7b5048c9fad7430d960c226b1cd1fc43": {
      "model_module": "@jupyter-widgets/controls",
      "model_module_version": "1.5.0",
      "model_name": "DescriptionStyleModel",
      "state": {
       "_model_module": "@jupyter-widgets/controls",
       "_model_module_version": "1.5.0",
       "_model_name": "DescriptionStyleModel",
       "_view_count": null,
       "_view_module": "@jupyter-widgets/base",
       "_view_module_version": "1.2.0",
       "_view_name": "StyleView",
       "description_width": ""
      }
     },
     "7e164b9edc40486ca0176520e4a7095a": {
      "model_module": "@jupyter-widgets/base",
      "model_module_version": "1.2.0",
      "model_name": "LayoutModel",
      "state": {
       "_model_module": "@jupyter-widgets/base",
       "_model_module_version": "1.2.0",
       "_model_name": "LayoutModel",
       "_view_count": null,
       "_view_module": "@jupyter-widgets/base",
       "_view_module_version": "1.2.0",
       "_view_name": "LayoutView",
       "align_content": null,
       "align_items": null,
       "align_self": null,
       "border": null,
       "bottom": null,
       "display": null,
       "flex": null,
       "flex_flow": null,
       "grid_area": null,
       "grid_auto_columns": null,
       "grid_auto_flow": null,
       "grid_auto_rows": null,
       "grid_column": null,
       "grid_gap": null,
       "grid_row": null,
       "grid_template_areas": null,
       "grid_template_columns": null,
       "grid_template_rows": null,
       "height": null,
       "justify_content": null,
       "justify_items": null,
       "left": null,
       "margin": null,
       "max_height": null,
       "max_width": null,
       "min_height": null,
       "min_width": null,
       "object_fit": null,
       "object_position": null,
       "order": null,
       "overflow": null,
       "overflow_x": null,
       "overflow_y": null,
       "padding": null,
       "right": null,
       "top": null,
       "visibility": null,
       "width": null
      }
     },
     "7f95f311b31d4ed3b26e5c430eb72aa6": {
      "model_module": "@jupyter-widgets/controls",
      "model_module_version": "1.5.0",
      "model_name": "DescriptionStyleModel",
      "state": {
       "_model_module": "@jupyter-widgets/controls",
       "_model_module_version": "1.5.0",
       "_model_name": "DescriptionStyleModel",
       "_view_count": null,
       "_view_module": "@jupyter-widgets/base",
       "_view_module_version": "1.2.0",
       "_view_name": "StyleView",
       "description_width": ""
      }
     },
     "806f4e3a68a6414da94dcad0d9edf136": {
      "model_module": "@jupyter-widgets/controls",
      "model_module_version": "1.5.0",
      "model_name": "HTMLModel",
      "state": {
       "_dom_classes": [],
       "_model_module": "@jupyter-widgets/controls",
       "_model_module_version": "1.5.0",
       "_model_name": "HTMLModel",
       "_view_count": null,
       "_view_module": "@jupyter-widgets/controls",
       "_view_module_version": "1.5.0",
       "_view_name": "HTMLView",
       "description": "",
       "description_tooltip": null,
       "layout": "IPY_MODEL_2e9209e1197448b99d26223f94aafc23",
       "placeholder": "​",
       "style": "IPY_MODEL_96dff037a28c481ab464b4569327a999",
       "value": "<h4>ipython</h4>\n<h5><a href=\"https://github.com/ipython/ipykernel\">ipython/ipykernel</a></h5>\n<ul>\n<li><a href=\"https://github.com/ipython/ipykernel/issues/334\">(#334)</a>: <em>Memory Error: IOStream.Flush timed out</em> by <strong><a href=\"https://github.com/acerock6\">@acerock6</a></strong></li>\n</ul>\n<h5><a href=\"https://github.com/ipython/ipyparallel\">ipython/ipyparallel</a></h5>\n<ul>\n<li><a href=\"https://github.com/ipython/ipyparallel/issues/389\">(#389)</a>: <em>the time of the notebook</em> by <strong><a href=\"https://github.com/zhang-zhenyu\">@zhang-zhenyu</a></strong></li>\n<li><a href=\"https://github.com/ipython/ipyparallel/issues/376\">(#376)</a>: <em>Required Keyword defaults missing after serialization round trip</em> by <strong><a href=\"https://github.com/Lnaden\">@Lnaden</a></strong></li>\n</ul>\n<h5><a href=\"https://github.com/ipython/ipython\">ipython/ipython</a></h5>\n<ul>\n<li><a href=\"https://github.com/ipython/ipython/issues/11918\">(#11918)</a>: _some LaTeX variable names point to same content/have same identity _ by <strong><a href=\"https://github.com/PrometheusPi\">@PrometheusPi</a></strong></li>\n<li><a href=\"https://github.com/ipython/ipython/issues/11920\">(#11920)</a>: <em>How to detect which frontends are connected</em> by <strong><a href=\"https://github.com/hmaarrfk\">@hmaarrfk</a></strong></li>\n<li><a href=\"https://github.com/ipython/ipython/issues/5026\">(#5026)</a>: <em>%debug's raw_input wedges notebook if cell deleted</em> by <strong><a href=\"https://github.com/ivanov\">@ivanov</a></strong></li>\n<li><a href=\"https://github.com/ipython/ipython/issues/11887\">(#11887)</a>: <em>ipython 7.8.0 error in Spyder IDE</em> by <strong><a href=\"https://github.com/GNSharmaa\">@GNSharmaa</a></strong></li>\n</ul>\n<h5><a href=\"https://github.com/ipython/ipython-website\">ipython/ipython-website</a></h5>\n<ul>\n<li><a href=\"https://github.com/ipython/ipython-website/issues/148\">(#148)</a>: <em>books added</em> by <strong><a href=\"https://github.com/ankit404\">@ankit404</a></strong></li>\n</ul>\n<h5><a href=\"https://github.com/ipython/traitlets\">ipython/traitlets</a></h5>\n<ul>\n<li><a href=\"https://github.com/ipython/traitlets/issues/530\">(#530)</a>: <em>New 4.3.3 Release</em> by <strong><a href=\"https://github.com/rmorshea\">@rmorshea</a></strong></li>\n</ul>\n<h5><a href=\"https://github.com/ipython/xkcd-font\">ipython/xkcd-font</a></h5>\n<ul>\n<li><a href=\"https://github.com/ipython/xkcd-font/issues/32\">(#32)</a>: <em>Addition of Greek alphabets</em> by <strong><a href=\"https://github.com/prakayastha\">@prakayastha</a></strong></li>\n</ul>"
      }
     },
     "84c65e64ddc941b9801b66e19a83527a": {
      "model_module": "@jupyter-widgets/base",
      "model_module_version": "1.2.0",
      "model_name": "LayoutModel",
      "state": {
       "_model_module": "@jupyter-widgets/base",
       "_model_module_version": "1.2.0",
       "_model_name": "LayoutModel",
       "_view_count": null,
       "_view_module": "@jupyter-widgets/base",
       "_view_module_version": "1.2.0",
       "_view_name": "LayoutView",
       "align_content": null,
       "align_items": null,
       "align_self": null,
       "border": null,
       "bottom": null,
       "display": null,
       "flex": null,
       "flex_flow": null,
       "grid_area": null,
       "grid_auto_columns": null,
       "grid_auto_flow": null,
       "grid_auto_rows": null,
       "grid_column": null,
       "grid_gap": null,
       "grid_row": null,
       "grid_template_areas": null,
       "grid_template_columns": null,
       "grid_template_rows": null,
       "height": null,
       "justify_content": null,
       "justify_items": null,
       "left": null,
       "margin": null,
       "max_height": null,
       "max_width": null,
       "min_height": null,
       "min_width": null,
       "object_fit": null,
       "object_position": null,
       "order": null,
       "overflow": null,
       "overflow_x": null,
       "overflow_y": null,
       "padding": null,
       "right": null,
       "top": null,
       "visibility": null,
       "width": null
      }
     },
     "85c034a7895b458fa68ea9c3f8fdd8d0": {
      "model_module": "@jupyter-widgets/controls",
      "model_module_version": "1.5.0",
      "model_name": "HTMLModel",
      "state": {
       "_dom_classes": [],
       "_model_module": "@jupyter-widgets/controls",
       "_model_module_version": "1.5.0",
       "_model_name": "HTMLModel",
       "_view_count": null,
       "_view_module": "@jupyter-widgets/controls",
       "_view_module_version": "1.5.0",
       "_view_name": "HTMLView",
       "description": "",
       "description_tooltip": null,
       "layout": "IPY_MODEL_a1b62d5dc7064b4baef89127d690287d",
       "placeholder": "​",
       "style": "IPY_MODEL_c15dac18687140f7b15a897fbd1dc27c",
       "value": "<h4>binder-examples</h4>\n<h5><a href=\"https://github.com/binder-examples/julia-python\">binder-examples/julia-python</a></h5>\n<h5><a href=\"https://github.com/binder-examples/requirements\">binder-examples/requirements</a></h5>"
      }
     },
     "8a41b98005d74311a55e048bad18bbc1": {
      "model_module": "@jupyter-widgets/controls",
      "model_module_version": "1.5.0",
      "model_name": "DescriptionStyleModel",
      "state": {
       "_model_module": "@jupyter-widgets/controls",
       "_model_module_version": "1.5.0",
       "_model_name": "DescriptionStyleModel",
       "_view_count": null,
       "_view_module": "@jupyter-widgets/base",
       "_view_module_version": "1.2.0",
       "_view_name": "StyleView",
       "description_width": ""
      }
     },
     "8e622ec3edf84a4bb9723f347dba99cb": {
      "model_module": "@jupyter-widgets/controls",
      "model_module_version": "1.5.0",
      "model_name": "HTMLModel",
      "state": {
       "_dom_classes": [],
       "_model_module": "@jupyter-widgets/controls",
       "_model_module_version": "1.5.0",
       "_model_name": "HTMLModel",
       "_view_count": null,
       "_view_module": "@jupyter-widgets/controls",
       "_view_module_version": "1.5.0",
       "_view_name": "HTMLView",
       "description": "",
       "description_tooltip": null,
       "layout": "IPY_MODEL_84c65e64ddc941b9801b66e19a83527a",
       "placeholder": "​",
       "style": "IPY_MODEL_151c9e3bbb8a443d8a72faba2bbb0f0e",
       "value": "<h4>jupyterlab</h4>\n<h5><a href=\"https://github.com/jupyterlab/debugger\">jupyterlab/debugger</a></h5>\n<h5><a href=\"https://github.com/jupyterlab/jupyterlab\">jupyterlab/jupyterlab</a></h5>\n<ul>\n<li><a href=\"https://github.com/jupyterlab/jupyterlab/issues/7295\">(#7295)</a>: <em>Line numbers in file editor reappear when changing font or tab size</em> by <strong><a href=\"https://github.com/ajbozarth\">@ajbozarth</a></strong></li>\n</ul>\n<h5><a href=\"https://github.com/jupyterlab/jupyterlab-celltags\">jupyterlab/jupyterlab-celltags</a></h5>\n<ul>\n<li><a href=\"https://github.com/jupyterlab/jupyterlab-celltags/issues/194\">(#194)</a>: <em>Icons are not rendered correctly</em> by <strong><a href=\"https://github.com/jebovic\">@jebovic</a></strong></li>\n<li><a href=\"https://github.com/jupyterlab/jupyterlab-celltags/issues/179\">(#179)</a>: <em>Absob into lab core?</em> by <strong><a href=\"https://github.com/vidartf\">@vidartf</a></strong></li>\n<li><a href=\"https://github.com/jupyterlab/jupyterlab-celltags/issues/199\">(#199)</a>: <em>Celltags refactor and design updates</em> by <strong><a href=\"https://github.com/isabela-pf\">@isabela-pf</a></strong></li>\n</ul>\n<h5><a href=\"https://github.com/jupyterlab/jupyterlab-commenting\">jupyterlab/jupyterlab-commenting</a></h5>\n<ul>\n<li><a href=\"https://github.com/jupyterlab/jupyterlab-commenting/issues/41\">(#41)</a>: <em>User facing documentation</em> by <strong><a href=\"https://github.com/saulshanabrook\">@saulshanabrook</a></strong></li>\n<li><a href=\"https://github.com/jupyterlab/jupyterlab-commenting/issues/26\">(#26)</a>: <em>Comment on visualizations</em> by <strong><a href=\"https://github.com/hoo761\">@hoo761</a></strong></li>\n<li><a href=\"https://github.com/jupyterlab/jupyterlab-commenting/issues/4\">(#4)</a>: <em>Summer design notes</em> by <strong><a href=\"https://github.com/ellisonbg\">@ellisonbg</a></strong></li>\n<li><a href=\"https://github.com/jupyterlab/jupyterlab-commenting/issues/3\">(#3)</a>: <em>Commenting and annotation overview</em> by <strong><a href=\"https://github.com/ellisonbg\">@ellisonbg</a></strong></li>\n</ul>\n<h5><a href=\"https://github.com/jupyterlab/jupyterlab-data-explorer\">jupyterlab/jupyterlab-data-explorer</a></h5>\n<ul>\n<li><a href=\"https://github.com/jupyterlab/jupyterlab-data-explorer/issues/62\">(#62)</a>: <em>Icons for common MIME Types available in Data Registry</em> by <strong><a href=\"https://github.com/tgeorgeux\">@tgeorgeux</a></strong></li>\n<li><a href=\"https://github.com/jupyterlab/jupyterlab-data-explorer/issues/51\">(#51)</a>: <em>Intake Integration</em> by <strong><a href=\"https://github.com/saulshanabrook\">@saulshanabrook</a></strong></li>\n<li><a href=\"https://github.com/jupyterlab/jupyterlab-data-explorer/issues/119\">(#119)</a>: <em>Missing datasets schema file</em> by <strong><a href=\"https://github.com/saulshanabrook\">@saulshanabrook</a></strong></li>\n</ul>\n<h5><a href=\"https://github.com/jupyterlab/jupyterlab-git\">jupyterlab/jupyterlab-git</a></h5>\n<ul>\n<li><a href=\"https://github.com/jupyterlab/jupyterlab-git/issues/439\">(#439)</a>: <em>Make subprocess call asynchronous</em> by <strong><a href=\"https://github.com/fcollonval\">@fcollonval</a></strong></li>\n</ul>\n<h5><a href=\"https://github.com/jupyterlab/jupyterlab-github\">jupyterlab/jupyterlab-github</a></h5>\n<ul>\n<li><a href=\"https://github.com/jupyterlab/jupyterlab-github/issues/94\">(#94)</a>: <em>Config option <code>client_id</code> not recognized by <code>GitHubConfig</code></em> by <strong><a href=\"https://github.com/michaelaye\">@michaelaye</a></strong></li>\n</ul>\n<h5><a href=\"https://github.com/jupyterlab/jupyterlab-hdf5\">jupyterlab/jupyterlab-hdf5</a></h5>\n<ul>\n<li><a href=\"https://github.com/jupyterlab/jupyterlab-hdf5/issues/18\">(#18)</a>: <em>Add support for 1-dimensional datasets</em> by <strong><a href=\"https://github.com/JonjonHays\">@JonjonHays</a></strong></li>\n<li><a href=\"https://github.com/jupyterlab/jupyterlab-hdf5/issues/14\">(#14)</a>: <em>Update package maintainers on pypi</em> by <strong><a href=\"https://github.com/jasongrout\">@jasongrout</a></strong></li>\n<li><a href=\"https://github.com/jupyterlab/jupyterlab-hdf5/issues/13\">(#13)</a>: <em>Update license and copyrights to Project Jupyter license and copyrights</em> by <strong><a href=\"https://github.com/jasongrout\">@jasongrout</a></strong></li>\n<li><a href=\"https://github.com/jupyterlab/jupyterlab-hdf5/issues/12\">(#12)</a>: <em>Include '.h5' extension</em> by <strong><a href=\"https://github.com/byouness\">@byouness</a></strong></li>\n</ul>\n<h5><a href=\"https://github.com/jupyterlab/jupyterlab-latex\">jupyterlab/jupyterlab-latex</a></h5>\n<ul>\n<li><a href=\"https://github.com/jupyterlab/jupyterlab-latex/issues/89\">(#89)</a>: <em>Menu item \"File→New→Latex File\" with customizeable template.</em> by <strong><a href=\"https://github.com/belonesox\">@belonesox</a></strong></li>\n</ul>\n<h5><a href=\"https://github.com/jupyterlab/jupyterlab-media\">jupyterlab/jupyterlab-media</a></h5>\n<h5><a href=\"https://github.com/jupyterlab/jupyterlab-metadata-service\">jupyterlab/jupyterlab-metadata-service</a></h5>\n<ul>\n<li><a href=\"https://github.com/jupyterlab/jupyterlab-metadata-service/issues/28\">(#28)</a>: <em>UI Components</em> by <strong><a href=\"https://github.com/saulshanabrook\">@saulshanabrook</a></strong></li>\n</ul>\n<h5><a href=\"https://github.com/jupyterlab/jupyterlab-telemetry\">jupyterlab/jupyterlab-telemetry</a></h5>\n<ul>\n<li><a href=\"https://github.com/jupyterlab/jupyterlab-telemetry/issues/8\">(#8)</a>: <em>JupyterLab Telemetry Design</em> by <strong><a href=\"https://github.com/jaipreet-s\">@jaipreet-s</a></strong></li>\n</ul>\n<h5><a href=\"https://github.com/jupyterlab/jupyterlab-toc\">jupyterlab/jupyterlab-toc</a></h5>\n<ul>\n<li><a href=\"https://github.com/jupyterlab/jupyterlab-toc/issues/35\">(#35)</a>: <em>\"@jupyterlab/toc\" is not a valid npm package ??</em> by <strong><a href=\"https://github.com/b-gibbs\">@b-gibbs</a></strong></li>\n</ul>\n<h5><a href=\"https://github.com/jupyterlab/jupyterlab_apod\">jupyterlab/jupyterlab_apod</a></h5>\n<ul>\n<li><a href=\"https://github.com/jupyterlab/jupyterlab_apod/issues/1\">(#1)</a>: _Failed to fetch package metadata for 'jupyterlab_apod': <HTTPError 404: 'Not Found'> _ by <strong><a href=\"https://github.com/nscozzaro\">@nscozzaro</a></strong></li>\n</ul>\n<h5><a href=\"https://github.com/jupyterlab/pull-requests\">jupyterlab/pull-requests</a></h5>\n<ul>\n<li><a href=\"https://github.com/jupyterlab/pull-requests/issues/11\">(#11)</a>: <em>Allow user to change default GitHub URL</em> by <strong><a href=\"https://github.com/riordan\">@riordan</a></strong></li>\n</ul>\n<h5><a href=\"https://github.com/jupyterlab/team-compass\">jupyterlab/team-compass</a></h5>\n<ul>\n<li><a href=\"https://github.com/jupyterlab/team-compass/issues/22\">(#22)</a>: <em>Format of the compass</em> by <strong><a href=\"https://github.com/SylvainCorlay\">@SylvainCorlay</a></strong></li>\n<li><a href=\"https://github.com/jupyterlab/team-compass/issues/10\">(#10)</a>: <em>Migrating telamonian/jupyterlab-hdf to @jupyterlab/jupyterlab-hdf5</em> by <strong><a href=\"https://github.com/telamonian\">@telamonian</a></strong></li>\n<li><a href=\"https://github.com/jupyterlab/team-compass/issues/11\">(#11)</a>: <em>Identity API</em> by <strong><a href=\"https://github.com/saulshanabrook\">@saulshanabrook</a></strong></li>\n<li><a href=\"https://github.com/jupyterlab/team-compass/issues/21\">(#21)</a>: <em>Weekly Dev Call Meeting Minutes 2019-10-09</em> by <strong><a href=\"https://github.com/tgeorgeux\">@tgeorgeux</a></strong></li>\n</ul>"
      }
     },
     "8f86bf7f9338497caa2ed4429441e4c8": {
      "model_module": "@jupyter-widgets/controls",
      "model_module_version": "1.5.0",
      "model_name": "DescriptionStyleModel",
      "state": {
       "_model_module": "@jupyter-widgets/controls",
       "_model_module_version": "1.5.0",
       "_model_name": "DescriptionStyleModel",
       "_view_count": null,
       "_view_module": "@jupyter-widgets/base",
       "_view_module_version": "1.2.0",
       "_view_name": "StyleView",
       "description_width": ""
      }
     },
     "9083c42179594cfb918d4e92b21d795b": {
      "model_module": "@jupyter-widgets/controls",
      "model_module_version": "1.5.0",
      "model_name": "DescriptionStyleModel",
      "state": {
       "_model_module": "@jupyter-widgets/controls",
       "_model_module_version": "1.5.0",
       "_model_name": "DescriptionStyleModel",
       "_view_count": null,
       "_view_module": "@jupyter-widgets/base",
       "_view_module_version": "1.2.0",
       "_view_name": "StyleView",
       "description_width": ""
      }
     },
     "915dca8de95b485c94e4c3569d552f66": {
      "model_module": "@jupyter-widgets/base",
      "model_module_version": "1.2.0",
      "model_name": "LayoutModel",
      "state": {
       "_model_module": "@jupyter-widgets/base",
       "_model_module_version": "1.2.0",
       "_model_name": "LayoutModel",
       "_view_count": null,
       "_view_module": "@jupyter-widgets/base",
       "_view_module_version": "1.2.0",
       "_view_name": "LayoutView",
       "align_content": null,
       "align_items": null,
       "align_self": null,
       "border": null,
       "bottom": null,
       "display": null,
       "flex": null,
       "flex_flow": null,
       "grid_area": null,
       "grid_auto_columns": null,
       "grid_auto_flow": null,
       "grid_auto_rows": null,
       "grid_column": null,
       "grid_gap": null,
       "grid_row": null,
       "grid_template_areas": null,
       "grid_template_columns": null,
       "grid_template_rows": null,
       "height": null,
       "justify_content": null,
       "justify_items": null,
       "left": null,
       "margin": null,
       "max_height": null,
       "max_width": null,
       "min_height": null,
       "min_width": null,
       "object_fit": null,
       "object_position": null,
       "order": null,
       "overflow": null,
       "overflow_x": null,
       "overflow_y": null,
       "padding": null,
       "right": null,
       "top": null,
       "visibility": null,
       "width": null
      }
     },
     "96dff037a28c481ab464b4569327a999": {
      "model_module": "@jupyter-widgets/controls",
      "model_module_version": "1.5.0",
      "model_name": "DescriptionStyleModel",
      "state": {
       "_model_module": "@jupyter-widgets/controls",
       "_model_module_version": "1.5.0",
       "_model_name": "DescriptionStyleModel",
       "_view_count": null,
       "_view_module": "@jupyter-widgets/base",
       "_view_module_version": "1.2.0",
       "_view_name": "StyleView",
       "description_width": ""
      }
     },
     "9ec9587dddaf415e91a6fd482183cda7": {
      "model_module": "@jupyter-widgets/controls",
      "model_module_version": "1.5.0",
      "model_name": "DescriptionStyleModel",
      "state": {
       "_model_module": "@jupyter-widgets/controls",
       "_model_module_version": "1.5.0",
       "_model_name": "DescriptionStyleModel",
       "_view_count": null,
       "_view_module": "@jupyter-widgets/base",
       "_view_module_version": "1.2.0",
       "_view_name": "StyleView",
       "description_width": ""
      }
     },
     "a164532d14344d19aa3f97a51d53f987": {
      "model_module": "@jupyter-widgets/controls",
      "model_module_version": "1.5.0",
      "model_name": "HTMLModel",
      "state": {
       "_dom_classes": [],
       "_model_module": "@jupyter-widgets/controls",
       "_model_module_version": "1.5.0",
       "_model_name": "HTMLModel",
       "_view_count": null,
       "_view_module": "@jupyter-widgets/controls",
       "_view_module_version": "1.5.0",
       "_view_name": "HTMLView",
       "description": "",
       "description_tooltip": null,
       "layout": "IPY_MODEL_0e652b59f2a943cf8f5cd3f5abc6a8ab",
       "placeholder": "​",
       "style": "IPY_MODEL_f4c8121bb0b44c0899481464c6e4a96e",
       "value": "<center><p><a href=\"https://github.com/97amarnathk\">97amarnathk</a> | <a href=\"https://github.com/AbhimanyuAryan\">AbhimanyuAryan</a> | <a href=\"https://github.com/ablaagaard\">ablaagaard</a> | <a href=\"https://github.com/afshin\">afshin</a> | <a href=\"https://github.com/ajbozarth\">ajbozarth</a> | <a href=\"https://github.com/akchinSTC\">akchinSTC</a> | <a href=\"https://github.com/AlbertHilb\">AlbertHilb</a> | <a href=\"https://github.com/AlcoholV\">AlcoholV</a> | <a href=\"https://github.com/allefeld\">allefeld</a> | <a href=\"https://github.com/amangarg96\">amangarg96</a> | <a href=\"https://github.com/anki-code\">anki-code</a> | <a href=\"https://github.com/aquirdTurtle\">aquirdTurtle</a> | <a href=\"https://github.com/aschlaep\">aschlaep</a> | <a href=\"https://github.com/b060149ee\">b060149ee</a> | <a href=\"https://github.com/barche\">barche</a> | <a href=\"https://github.com/benthayer\">benthayer</a> | <a href=\"https://github.com/bjpcjp\">bjpcjp</a> | <a href=\"https://github.com/blink1073\">blink1073</a> | <a href=\"https://github.com/bobmayuze\">bobmayuze</a> | <a href=\"https://github.com/bollwyvl\">bollwyvl</a> | <a href=\"https://github.com/BoPeng\">BoPeng</a> | <a href=\"https://github.com/bourliam\">bourliam</a> | <a href=\"https://github.com/BrenBarn\">BrenBarn</a> | <a href=\"https://github.com/btel\">btel</a> | <a href=\"https://github.com/bw-space\">bw-space</a> | <a href=\"https://github.com/choldgraf\">choldgraf</a> | <a href=\"https://github.com/cmclean3\">cmclean3</a> | <a href=\"https://github.com/cometta\">cometta</a> | <a href=\"https://github.com/damianavila\">damianavila</a> | <a href=\"https://github.com/damienrj\">damienrj</a> | <a href=\"https://github.com/DancingQuanta\">DancingQuanta</a> | <a href=\"https://github.com/danielballan\">danielballan</a> | <a href=\"https://github.com/dclong\">dclong</a> | <a href=\"https://github.com/declanvk\">declanvk</a> | <a href=\"https://github.com/dhirschfeld\">dhirschfeld</a> | <a href=\"https://github.com/dkapila\">dkapila</a> | <a href=\"https://github.com/dkuegler\">dkuegler</a> | <a href=\"https://github.com/dmarth\">dmarth</a> | <a href=\"https://github.com/domoritz\">domoritz</a> | <a href=\"https://github.com/duarteocarmo\">duarteocarmo</a> | <a href=\"https://github.com/dutyu\">dutyu</a> | <a href=\"https://github.com/DylanLukes\">DylanLukes</a> | <a href=\"https://github.com/echarles\">echarles</a> | <a href=\"https://github.com/ellisonbg\">ellisonbg</a> | <a href=\"https://github.com/ENsu\">ENsu</a> | <a href=\"https://github.com/EularTang\">EularTang</a> | <a href=\"https://github.com/eurydice76\">eurydice76</a> | <a href=\"https://github.com/fabid\">fabid</a> | <a href=\"https://github.com/fcollonval\">fcollonval</a> | <a href=\"https://github.com/firasm\">firasm</a> | <a href=\"https://github.com/flekschas\">flekschas</a> | <a href=\"https://github.com/flight505\">flight505</a> | <a href=\"https://github.com/fonnesbeck\">fonnesbeck</a> | <a href=\"https://github.com/gavinmh\">gavinmh</a> | <a href=\"https://github.com/ggosiang\">ggosiang</a> | <a href=\"https://github.com/githubfzq\">githubfzq</a> | <a href=\"https://github.com/gnestor\">gnestor</a> | <a href=\"https://github.com/h-vetinari\">h-vetinari</a> | <a href=\"https://github.com/hadim\">hadim</a> | <a href=\"https://github.com/haraldschilly\">haraldschilly</a> | <a href=\"https://github.com/hhuuggoo\">hhuuggoo</a> | <a href=\"https://github.com/homocomputeris\">homocomputeris</a> | <a href=\"https://github.com/hoo761\">hoo761</a> | <a href=\"https://github.com/hymd-research\">hymd-research</a> | <a href=\"https://github.com/ian-r-rose\">ian-r-rose</a> | <a href=\"https://github.com/ibdafna\">ibdafna</a> | <a href=\"https://github.com/IMAM9AIS\">IMAM9AIS</a> | <a href=\"https://github.com/IMlixingwang\">IMlixingwang</a> | <a href=\"https://github.com/isabela-pf\">isabela-pf</a> | <a href=\"https://github.com/jaipreet-s\">jaipreet-s</a> | <a href=\"https://github.com/jangenoe\">jangenoe</a> | <a href=\"https://github.com/jasongrout\">jasongrout</a> | <a href=\"https://github.com/jeremy886\">jeremy886</a> | <a href=\"https://github.com/joelion\">joelion</a> | <a href=\"https://github.com/JohanMabille\">JohanMabille</a> | <a href=\"https://github.com/john-kang\">john-kang</a> | <a href=\"https://github.com/jolespin\">jolespin</a> | <a href=\"https://github.com/JonjonHays\">JonjonHays</a> | <a href=\"https://github.com/jrespeto\">jrespeto</a> | <a href=\"https://github.com/jtpio\">jtpio</a> | <a href=\"https://github.com/karamba228\">karamba228</a> | <a href=\"https://github.com/karrtikr\">karrtikr</a> | <a href=\"https://github.com/katsar0v\">katsar0v</a> | <a href=\"https://github.com/kavishdahekar\">kavishdahekar</a> | <a href=\"https://github.com/kemathur\">kemathur</a> | <a href=\"https://github.com/kevin-bates\">kevin-bates</a> | <a href=\"https://github.com/kgryte\">kgryte</a> | <a href=\"https://github.com/kinow\">kinow</a> | <a href=\"https://github.com/kostrykin\">kostrykin</a> | <a href=\"https://github.com/krassowski\">krassowski</a> | <a href=\"https://github.com/krinsman\">krinsman</a> | <a href=\"https://github.com/KsavinN\">KsavinN</a> | <a href=\"https://github.com/ksvensson8\">ksvensson8</a> | <a href=\"https://github.com/ktaletsk\">ktaletsk</a> | <a href=\"https://github.com/LightTemplar\">LightTemplar</a> | <a href=\"https://github.com/Liorba\">Liorba</a> | <a href=\"https://github.com/loremauro98\">loremauro98</a> | <a href=\"https://github.com/lresende\">lresende</a> | <a href=\"https://github.com/Madhu94\">Madhu94</a> | <a href=\"https://github.com/marius311\">marius311</a> | <a href=\"https://github.com/markellekelly\">markellekelly</a> | <a href=\"https://github.com/marskar\">marskar</a> | <a href=\"https://github.com/martindurant\">martindurant</a> | <a href=\"https://github.com/martinRenou\">martinRenou</a> | <a href=\"https://github.com/mathematicalmichael\">mathematicalmichael</a> | <a href=\"https://github.com/mbektasbbg\">mbektasbbg</a> | <a href=\"https://github.com/mcclaassen\">mcclaassen</a> | <a href=\"https://github.com/mcnuttandrew\">mcnuttandrew</a> | <a href=\"https://github.com/meeseeksdev\">meeseeksdev</a> | <a href=\"https://github.com/MeghnaNatraj\">MeghnaNatraj</a> | <a href=\"https://github.com/meinstein\">meinstein</a> | <a href=\"https://github.com/mgraauw\">mgraauw</a> | <a href=\"https://github.com/michaelaye\">michaelaye</a> | <a href=\"https://github.com/millercl\">millercl</a> | <a href=\"https://github.com/mlucool\">mlucool</a> | <a href=\"https://github.com/moita69\">moita69</a> | <a href=\"https://github.com/mullanptr\">mullanptr</a> | <a href=\"https://github.com/nathancarter\">nathancarter</a> | <a href=\"https://github.com/nubtwo\">nubtwo</a> | <a href=\"https://github.com/ociule\">ociule</a> | <a href=\"https://github.com/oholimoli\">oholimoli</a> | <a href=\"https://github.com/oikonang\">oikonang</a> | <a href=\"https://github.com/oujlassi\">oujlassi</a> | <a href=\"https://github.com/quigleyj-mavenomics\">quigleyj-mavenomics</a> | <a href=\"https://github.com/rbeesley\">rbeesley</a> | <a href=\"https://github.com/rchiodo\">rchiodo</a> | <a href=\"https://github.com/rftw\">rftw</a> | <a href=\"https://github.com/riordan\">riordan</a> | <a href=\"https://github.com/rkdarst\">rkdarst</a> | <a href=\"https://github.com/RobertoMaurizzi\">RobertoMaurizzi</a> | <a href=\"https://github.com/robinovitch61\">robinovitch61</a> | <a href=\"https://github.com/roccqqck\">roccqqck</a> | <a href=\"https://github.com/rust-in\">rust-in</a> | <a href=\"https://github.com/ryanhomer\">ryanhomer</a> | <a href=\"https://github.com/saulshanabrook\">saulshanabrook</a> | <a href=\"https://github.com/sccolbert\">sccolbert</a> | <a href=\"https://github.com/SgtPooki\">SgtPooki</a> | <a href=\"https://github.com/ShawnDX\">ShawnDX</a> | <a href=\"https://github.com/ShuoZ9379\">ShuoZ9379</a> | <a href=\"https://github.com/smartinsightsfromdata\">smartinsightsfromdata</a> | <a href=\"https://github.com/Snapple49\">Snapple49</a> | <a href=\"https://github.com/springuper\">springuper</a> | <a href=\"https://github.com/st-bender\">st-bender</a> | <a href=\"https://github.com/stefansimik\">stefansimik</a> | <a href=\"https://github.com/stonebig\">stonebig</a> | <a href=\"https://github.com/suiluj\">suiluj</a> | <a href=\"https://github.com/t-makaro\">t-makaro</a> | <a href=\"https://github.com/takluyver\">takluyver</a> | <a href=\"https://github.com/tangbinh\">tangbinh</a> | <a href=\"https://github.com/telamonian\">telamonian</a> | <a href=\"https://github.com/tgeorgeux\">tgeorgeux</a> | <a href=\"https://github.com/thomaslima\">thomaslima</a> | <a href=\"https://github.com/thoralf-gutierrez\">thoralf-gutierrez</a> | <a href=\"https://github.com/timkpaine\">timkpaine</a> | <a href=\"https://github.com/tonio73\">tonio73</a> | <a href=\"https://github.com/tonyfast\">tonyfast</a> | <a href=\"https://github.com/TRM13\">TRM13</a> | <a href=\"https://github.com/van-8\">van-8</a> | <a href=\"https://github.com/veterparga\">veterparga</a> | <a href=\"https://github.com/vidartf\">vidartf</a> | <a href=\"https://github.com/wallneradam\">wallneradam</a> | <a href=\"https://github.com/WangChangsongGit\">WangChangsongGit</a> | <a href=\"https://github.com/willibix\">willibix</a> | <a href=\"https://github.com/wolfv\">wolfv</a> | <a href=\"https://github.com/ybirajdar\">ybirajdar</a> | <a href=\"https://github.com/yhyddr\">yhyddr</a> | <a href=\"https://github.com/yoniLavi\">yoniLavi</a> | <a href=\"https://github.com/yunair\">yunair</a> | <a href=\"https://github.com/yuvipanda\">yuvipanda</a> | <a href=\"https://github.com/ZainRizvi\">ZainRizvi</a> | <a href=\"https://github.com/Zsailer\">Zsailer</a></p></center>"
      }
     },
     "a1b62d5dc7064b4baef89127d690287d": {
      "model_module": "@jupyter-widgets/base",
      "model_module_version": "1.2.0",
      "model_name": "LayoutModel",
      "state": {
       "_model_module": "@jupyter-widgets/base",
       "_model_module_version": "1.2.0",
       "_model_name": "LayoutModel",
       "_view_count": null,
       "_view_module": "@jupyter-widgets/base",
       "_view_module_version": "1.2.0",
       "_view_name": "LayoutView",
       "align_content": null,
       "align_items": null,
       "align_self": null,
       "border": null,
       "bottom": null,
       "display": null,
       "flex": null,
       "flex_flow": null,
       "grid_area": null,
       "grid_auto_columns": null,
       "grid_auto_flow": null,
       "grid_auto_rows": null,
       "grid_column": null,
       "grid_gap": null,
       "grid_row": null,
       "grid_template_areas": null,
       "grid_template_columns": null,
       "grid_template_rows": null,
       "height": null,
       "justify_content": null,
       "justify_items": null,
       "left": null,
       "margin": null,
       "max_height": null,
       "max_width": null,
       "min_height": null,
       "min_width": null,
       "object_fit": null,
       "object_position": null,
       "order": null,
       "overflow": null,
       "overflow_x": null,
       "overflow_y": null,
       "padding": null,
       "right": null,
       "top": null,
       "visibility": null,
       "width": null
      }
     },
     "a35cff7f756c4cf5b2e908ca19168f2a": {
      "model_module": "@jupyter-widgets/controls",
      "model_module_version": "1.5.0",
      "model_name": "DescriptionStyleModel",
      "state": {
       "_model_module": "@jupyter-widgets/controls",
       "_model_module_version": "1.5.0",
       "_model_name": "DescriptionStyleModel",
       "_view_count": null,
       "_view_module": "@jupyter-widgets/base",
       "_view_module_version": "1.2.0",
       "_view_name": "StyleView",
       "description_width": ""
      }
     },
     "a4b58e3cf3f149248eb086ecb61afdf0": {
      "model_module": "@jupyter-widgets/controls",
      "model_module_version": "1.5.0",
      "model_name": "HTMLModel",
      "state": {
       "_dom_classes": [],
       "_model_module": "@jupyter-widgets/controls",
       "_model_module_version": "1.5.0",
       "_model_name": "HTMLModel",
       "_view_count": null,
       "_view_module": "@jupyter-widgets/controls",
       "_view_module_version": "1.5.0",
       "_view_name": "HTMLView",
       "description": "",
       "description_tooltip": null,
       "layout": "IPY_MODEL_04edbbc2123d40bcad12d8ed878a079e",
       "placeholder": "​",
       "style": "IPY_MODEL_a35cff7f756c4cf5b2e908ca19168f2a",
       "value": "<center><p><a href=\"https://github.com/AbdulwaheedSalim\">AbdulwaheedSalim</a> | <a href=\"https://github.com/adityarar\">adityarar</a> | <a href=\"https://github.com/alex4200\">alex4200</a> | <a href=\"https://github.com/aliddell\">aliddell</a> | <a href=\"https://github.com/bbgit-mn\">bbgit-mn</a> | <a href=\"https://github.com/captainsafia\">captainsafia</a> | <a href=\"https://github.com/choonsiong\">choonsiong</a> | <a href=\"https://github.com/cocoaaa\">cocoaaa</a> | <a href=\"https://github.com/dadamson\">dadamson</a> | <a href=\"https://github.com/damianavila\">damianavila</a> | <a href=\"https://github.com/davidbrochart\">davidbrochart</a> | <a href=\"https://github.com/deeplook\">deeplook</a> | <a href=\"https://github.com/dependabot\">dependabot</a> | <a href=\"https://github.com/dgasmith\">dgasmith</a> | <a href=\"https://github.com/djhoese\">djhoese</a> | <a href=\"https://github.com/dkuegler\">dkuegler</a> | <a href=\"https://github.com/Dylan-Rich\">Dylan-Rich</a> | <a href=\"https://github.com/ellisonbg\">ellisonbg</a> | <a href=\"https://github.com/eromoe\">eromoe</a> | <a href=\"https://github.com/evanreichard\">evanreichard</a> | <a href=\"https://github.com/frankgerhardt\">frankgerhardt</a> | <a href=\"https://github.com/galaplexus\">galaplexus</a> | <a href=\"https://github.com/hagrid67\">hagrid67</a> | <a href=\"https://github.com/itcarroll\">itcarroll</a> | <a href=\"https://github.com/jasongrout\">jasongrout</a> | <a href=\"https://github.com/jhl0204\">jhl0204</a> | <a href=\"https://github.com/joshwarren\">joshwarren</a> | <a href=\"https://github.com/katsar0v\">katsar0v</a> | <a href=\"https://github.com/maartenbreddels\">maartenbreddels</a> | <a href=\"https://github.com/martinRenou\">martinRenou</a> | <a href=\"https://github.com/mbektasbbg\">mbektasbbg</a> | <a href=\"https://github.com/mgeier\">mgeier</a> | <a href=\"https://github.com/mlucool\">mlucool</a> | <a href=\"https://github.com/mwcraig\">mwcraig</a> | <a href=\"https://github.com/renefritze\">renefritze</a> | <a href=\"https://github.com/rishabhmulani\">rishabhmulani</a> | <a href=\"https://github.com/rkalyanapurdue\">rkalyanapurdue</a> | <a href=\"https://github.com/sbowman-mitre\">sbowman-mitre</a> | <a href=\"https://github.com/sirbardo\">sirbardo</a> | <a href=\"https://github.com/SylvainCorlay\">SylvainCorlay</a> | <a href=\"https://github.com/tanaygshah\">tanaygshah</a> | <a href=\"https://github.com/Tronic\">Tronic</a> | <a href=\"https://github.com/vidartf\">vidartf</a> | <a href=\"https://github.com/wolfv\">wolfv</a> | <a href=\"https://github.com/xoolive\">xoolive</a> | <a href=\"https://github.com/zerline\">zerline</a> | <a href=\"https://github.com/zmk5\">zmk5</a></p></center>"
      }
     },
     "a5169ac3a34c4bc4b270f2cc9d0351a3": {
      "model_module": "@jupyter-widgets/base",
      "model_module_version": "1.2.0",
      "model_name": "LayoutModel",
      "state": {
       "_model_module": "@jupyter-widgets/base",
       "_model_module_version": "1.2.0",
       "_model_name": "LayoutModel",
       "_view_count": null,
       "_view_module": "@jupyter-widgets/base",
       "_view_module_version": "1.2.0",
       "_view_name": "LayoutView",
       "align_content": null,
       "align_items": null,
       "align_self": null,
       "border": null,
       "bottom": null,
       "display": null,
       "flex": null,
       "flex_flow": null,
       "grid_area": null,
       "grid_auto_columns": null,
       "grid_auto_flow": null,
       "grid_auto_rows": null,
       "grid_column": null,
       "grid_gap": null,
       "grid_row": null,
       "grid_template_areas": null,
       "grid_template_columns": null,
       "grid_template_rows": null,
       "height": null,
       "justify_content": null,
       "justify_items": null,
       "left": null,
       "margin": null,
       "max_height": null,
       "max_width": null,
       "min_height": null,
       "min_width": null,
       "object_fit": null,
       "object_position": null,
       "order": null,
       "overflow": null,
       "overflow_x": null,
       "overflow_y": null,
       "padding": null,
       "right": null,
       "top": null,
       "visibility": null,
       "width": null
      }
     },
     "ae6d18701e8e4ceb8d550412a7cfd3d4": {
      "model_module": "@jupyter-widgets/controls",
      "model_module_version": "1.5.0",
      "model_name": "HTMLModel",
      "state": {
       "_dom_classes": [],
       "_model_module": "@jupyter-widgets/controls",
       "_model_module_version": "1.5.0",
       "_model_name": "HTMLModel",
       "_view_count": null,
       "_view_module": "@jupyter-widgets/controls",
       "_view_module_version": "1.5.0",
       "_view_name": "HTMLView",
       "description": "",
       "description_tooltip": null,
       "layout": "IPY_MODEL_f7490a16d8ad4cc9a18aea88e9a08031",
       "placeholder": "​",
       "style": "IPY_MODEL_8a41b98005d74311a55e048bad18bbc1",
       "value": "<h4>jupyterhub</h4>\n<h5><a href=\"https://github.com/jupyterhub/batchspawner\">jupyterhub/batchspawner</a></h5>\n<ul>\n<li><a href=\"https://github.com/jupyterhub/batchspawner/issues/162\">(#162)</a>: <em>Need of a more detailed user guide</em> by <strong><a href=\"https://github.com/s-ansa\">@s-ansa</a></strong></li>\n<li><a href=\"https://github.com/jupyterhub/batchspawner/issues/152\">(#152)</a>: <em>Unhandled error starting user's server: sudo: sbatch: command not found</em> by <strong><a href=\"https://github.com/heavenkong\">@heavenkong</a></strong></li>\n<li><a href=\"https://github.com/jupyterhub/batchspawner/issues/163\">(#163)</a>: <em>Memory leak in batchspawner-singleuser process</em> by <strong><a href=\"https://github.com/liffiton\">@liffiton</a></strong></li>\n</ul>\n<h5><a href=\"https://github.com/jupyterhub/binder\">jupyterhub/binder</a></h5>\n<ul>\n<li><a href=\"https://github.com/jupyterhub/binder/issues/173\">(#173)</a>: <em>Mybinder bug in building master branch vs latest commit on the master branch</em> by <strong><a href=\"https://github.com/fzeiser\">@fzeiser</a></strong></li>\n<li><a href=\"https://github.com/jupyterhub/binder/issues/172\">(#172)</a>: <em>More informative message on \"Launch attempt failed retrying\"</em> by <strong><a href=\"https://github.com/tonyyang-svail\">@tonyyang-svail</a></strong></li>\n</ul>\n<h5><a href=\"https://github.com/jupyterhub/binderhub\">jupyterhub/binderhub</a></h5>\n<ul>\n<li><a href=\"https://github.com/jupyterhub/binderhub/issues/976\">(#976)</a>: <em>Helm install fails</em> by <strong><a href=\"https://github.com/ltetrel\">@ltetrel</a></strong></li>\n<li><a href=\"https://github.com/jupyterhub/binderhub/issues/900\">(#900)</a>: <em>Dataverse repoprovider and URLs</em> by <strong><a href=\"https://github.com/pdurbin\">@pdurbin</a></strong></li>\n<li><a href=\"https://github.com/jupyterhub/binderhub/issues/992\">(#992)</a>: <em>Local docker registry with self-signed certificate</em> by <strong><a href=\"https://github.com/ltetrel\">@ltetrel</a></strong></li>\n</ul>\n<h5><a href=\"https://github.com/jupyterhub/chartpress\">jupyterhub/chartpress</a></h5>\n<ul>\n<li><a href=\"https://github.com/jupyterhub/chartpress/issues/44\">(#44)</a>: <em>PR Discussion: chartpress --reset on the Chart.yaml</em> by <strong><a href=\"https://github.com/consideRatio\">@consideRatio</a></strong></li>\n<li><a href=\"https://github.com/jupyterhub/chartpress/issues/48\">(#48)</a>: <em>--commit-range ignored, needs documentation update</em> by <strong><a href=\"https://github.com/consideRatio\">@consideRatio</a></strong></li>\n<li><a href=\"https://github.com/jupyterhub/chartpress/issues/39\">(#39)</a>: <em>Support extraContainers k8s container spec with valuesPath</em> by <strong><a href=\"https://github.com/ryanlovett\">@ryanlovett</a></strong></li>\n</ul>\n<h5><a href=\"https://github.com/jupyterhub/configurable-http-proxy\">jupyterhub/configurable-http-proxy</a></h5>\n<h5><a href=\"https://github.com/jupyterhub/dockerspawner\">jupyterhub/dockerspawner</a></h5>\n<ul>\n<li><a href=\"https://github.com/jupyterhub/dockerspawner/issues/263\">(#263)</a>: <em>SwarmSpawner,  InvalidArgument: Incompatible options have been provided for the bind type mount.</em> by <strong><a href=\"https://github.com/camm89\">@camm89</a></strong></li>\n<li><a href=\"https://github.com/jupyterhub/dockerspawner/issues/262\">(#262)</a>: <em>SwarmSpawner unable to contact notebook container when container name has upper case characters</em> by <strong><a href=\"https://github.com/hpbieker\">@hpbieker</a></strong></li>\n<li><a href=\"https://github.com/jupyterhub/dockerspawner/issues/313\">(#313)</a>: <em>pull_image fails if docker regsitry not on port 443</em> by <strong><a href=\"https://github.com/timhughes\">@timhughes</a></strong></li>\n</ul>\n<h5><a href=\"https://github.com/jupyterhub/helm-chart\">jupyterhub/helm-chart</a></h5>\n<ul>\n<li><a href=\"https://github.com/jupyterhub/helm-chart/issues/98\">(#98)</a>: <em>Make this Helm chart repository available on Helm Hub</em> by <strong><a href=\"https://github.com/desaintmartin\">@desaintmartin</a></strong></li>\n</ul>\n<h5><a href=\"https://github.com/jupyterhub/jupyter-rsession-proxy\">jupyterhub/jupyter-rsession-proxy</a></h5>\n<ul>\n<li><a href=\"https://github.com/jupyterhub/jupyter-rsession-proxy/issues/78\">(#78)</a>: <em>[meta] Status of this project?</em> by <strong><a href=\"https://github.com/riazarbi\">@riazarbi</a></strong></li>\n<li><a href=\"https://github.com/jupyterhub/jupyter-rsession-proxy/issues/77\">(#77)</a>: <em>Path to an Ubuntu version of R and RStudio</em> by <strong><a href=\"https://github.com/caviri\">@caviri</a></strong></li>\n<li><a href=\"https://github.com/jupyterhub/jupyter-rsession-proxy/issues/73\">(#73)</a>: <em>Rstudio integration to Jupyterhub (z2jh)</em> by <strong><a href=\"https://github.com/navneetkrverma\">@navneetkrverma</a></strong></li>\n</ul>\n<h5><a href=\"https://github.com/jupyterhub/jupyter-server-proxy\">jupyterhub/jupyter-server-proxy</a></h5>\n<ul>\n<li><a href=\"https://github.com/jupyterhub/jupyter-server-proxy/issues/106\">(#106)</a>: <em>Example extending docker-stacks?</em> by <strong><a href=\"https://github.com/dirkcgrunwald\">@dirkcgrunwald</a></strong></li>\n<li><a href=\"https://github.com/jupyterhub/jupyter-server-proxy/issues/57\">(#57)</a>: <em>Spark UI not accessible</em> by <strong><a href=\"https://github.com/h4gen\">@h4gen</a></strong></li>\n</ul>\n<h5><a href=\"https://github.com/jupyterhub/jupyterhub\">jupyterhub/jupyterhub</a></h5>\n<ul>\n<li><a href=\"https://github.com/jupyterhub/jupyterhub/issues/2792\">(#2792)</a>: <em>Random 403 error when starting SwarmSpawner</em> by <strong><a href=\"https://github.com/hdlbq\">@hdlbq</a></strong></li>\n<li><a href=\"https://github.com/jupyterhub/jupyterhub/issues/2791\">(#2791)</a>: <em>Jupyterhub Behind Load Balancer (F5)</em> by <strong><a href=\"https://github.com/jakepaw\">@jakepaw</a></strong></li>\n<li><a href=\"https://github.com/jupyterhub/jupyterhub/issues/1585\">(#1585)</a>: <em>Prometheus metrics to add to JupyterHub</em> by <strong><a href=\"https://github.com/yuvipanda\">@yuvipanda</a></strong></li>\n</ul>\n<h5><a href=\"https://github.com/jupyterhub/jupyterhub-deploy-docker\">jupyterhub/jupyterhub-deploy-docker</a></h5>\n<ul>\n<li><a href=\"https://github.com/jupyterhub/jupyterhub-deploy-docker/issues/93\">(#93)</a>: <em>Using AWS Storage with jupyterhub-deploy-docker</em> by <strong><a href=\"https://github.com/Deepanshu2017\">@Deepanshu2017</a></strong></li>\n</ul>\n<h5><a href=\"https://github.com/jupyterhub/kubespawner\">jupyterhub/kubespawner</a></h5>\n<ul>\n<li><a href=\"https://github.com/jupyterhub/kubespawner/issues/303\">(#303)</a>: <em>Access to docker/runtime options (PID limits)</em> by <strong><a href=\"https://github.com/vilhelmen\">@vilhelmen</a></strong></li>\n</ul>\n<h5><a href=\"https://github.com/jupyterhub/ldapauthenticator\">jupyterhub/ldapauthenticator</a></h5>\n<ul>\n<li><a href=\"https://github.com/jupyterhub/ldapauthenticator/issues/143\">(#143)</a>: <em>The lookup takes your samid which you use to login with and looks up your CN (<code>lookup_dn_user_dn_attribute</code>).</em> by <strong><a href=\"https://github.com/tyu0912\">@tyu0912</a></strong></li>\n</ul>\n<h5><a href=\"https://github.com/jupyterhub/mybinder.org-deploy\">jupyterhub/mybinder.org-deploy</a></h5>\n<h5><a href=\"https://github.com/jupyterhub/nbgitpuller\">jupyterhub/nbgitpuller</a></h5>\n<ul>\n<li><a href=\"https://github.com/jupyterhub/nbgitpuller/issues/109\">(#109)</a>: <em>Where to use nbgitpuller in config.yaml?</em> by <strong><a href=\"https://github.com/djinn09\">@djinn09</a></strong></li>\n<li><a href=\"https://github.com/jupyterhub/nbgitpuller/issues/32\">(#32)</a>: <em>Error: undefined caused by opening multiple notebooks simultaneously</em> by <strong><a href=\"https://github.com/davidwagner\">@davidwagner</a></strong></li>\n</ul>\n<h5><a href=\"https://github.com/jupyterhub/nullauthenticator\">jupyterhub/nullauthenticator</a></h5>\n<h5><a href=\"https://github.com/jupyterhub/oauthenticator\">jupyterhub/oauthenticator</a></h5>\n<ul>\n<li><a href=\"https://github.com/jupyterhub/oauthenticator/issues/291\">(#291)</a>: <em>Login to JH fails if user is already logged into Auth0</em> by <strong><a href=\"https://github.com/philvarner\">@philvarner</a></strong></li>\n<li><a href=\"https://github.com/jupyterhub/oauthenticator/issues/193\">(#193)</a>: <em>Github Authentication Redirects to 404 Page not found</em> by <strong><a href=\"https://github.com/Akmoore7\">@Akmoore7</a></strong></li>\n<li><a href=\"https://github.com/jupyterhub/oauthenticator/issues/136\">(#136)</a>: <em>Would it be possible to have multiple authentication methods simultaneously?</em> by <strong><a href=\"https://github.com/stefanonicotri\">@stefanonicotri</a></strong></li>\n</ul>\n<h5><a href=\"https://github.com/jupyterhub/systemdspawner\">jupyterhub/systemdspawner</a></h5>\n<h5><a href=\"https://github.com/jupyterhub/team-compass\">jupyterhub/team-compass</a></h5>\n<ul>\n<li><a href=\"https://github.com/jupyterhub/team-compass/issues/176\">(#176)</a>: <em>Blog post: Diving into Leadership to Build Push-Button Code</em> by <strong><a href=\"https://github.com/sgibson91\">@sgibson91</a></strong></li>\n<li><a href=\"https://github.com/jupyterhub/team-compass/issues/215\">(#215)</a>: <em>Hacktoberfest labels in repos to encourage contribution?</em> by <strong><a href=\"https://github.com/sgibson91\">@sgibson91</a></strong></li>\n<li><a href=\"https://github.com/jupyterhub/team-compass/issues/217\">(#217)</a>: <em>Technical checklist for joining the BinderHub Federation</em> by <strong><a href=\"https://github.com/sgibson91\">@sgibson91</a></strong></li>\n</ul>\n<h5><a href=\"https://github.com/jupyterhub/the-littlest-jupyterhub\">jupyterhub/the-littlest-jupyterhub</a></h5>\n<ul>\n<li><a href=\"https://github.com/jupyterhub/the-littlest-jupyterhub/issues/388\">(#388)</a>: <em>Improvements to the Azure docs</em> by <strong><a href=\"https://github.com/choldgraf\">@choldgraf</a></strong></li>\n<li><a href=\"https://github.com/jupyterhub/the-littlest-jupyterhub/issues/446\">(#446)</a>: <em>How to make TLJH to listen only to localhost:80 for ssh tunneling remote access?</em> by <strong><a href=\"https://github.com/chmendoza\">@chmendoza</a></strong></li>\n</ul>\n<h5><a href=\"https://github.com/jupyterhub/traefik-proxy\">jupyterhub/traefik-proxy</a></h5>\n<h5><a href=\"https://github.com/jupyterhub/zero-to-jupyterhub-k8s\">jupyterhub/zero-to-jupyterhub-k8s</a></h5>\n<ul>\n<li><a href=\"https://github.com/jupyterhub/zero-to-jupyterhub-k8s/issues/1432\">(#1432)</a>: <em>Discussing use of a VM</em> by <strong><a href=\"https://github.com/consideRatio\">@consideRatio</a></strong></li>\n<li><a href=\"https://github.com/jupyterhub/zero-to-jupyterhub-k8s/issues/806\">(#806)</a>: <em>Proxy redirects to unexpected port</em> by <strong><a href=\"https://github.com/ryanlovett\">@ryanlovett</a></strong></li>\n</ul>"
      }
     },
     "b2a76978c43149568cc8fb5571050bb6": {
      "model_module": "@jupyter-widgets/base",
      "model_module_version": "1.2.0",
      "model_name": "LayoutModel",
      "state": {
       "_model_module": "@jupyter-widgets/base",
       "_model_module_version": "1.2.0",
       "_model_name": "LayoutModel",
       "_view_count": null,
       "_view_module": "@jupyter-widgets/base",
       "_view_module_version": "1.2.0",
       "_view_name": "LayoutView",
       "align_content": null,
       "align_items": null,
       "align_self": null,
       "border": null,
       "bottom": null,
       "display": null,
       "flex": null,
       "flex_flow": null,
       "grid_area": null,
       "grid_auto_columns": null,
       "grid_auto_flow": null,
       "grid_auto_rows": null,
       "grid_column": null,
       "grid_gap": null,
       "grid_row": null,
       "grid_template_areas": null,
       "grid_template_columns": null,
       "grid_template_rows": null,
       "height": null,
       "justify_content": null,
       "justify_items": null,
       "left": null,
       "margin": null,
       "max_height": null,
       "max_width": null,
       "min_height": null,
       "min_width": null,
       "object_fit": null,
       "object_position": null,
       "order": null,
       "overflow": null,
       "overflow_x": null,
       "overflow_y": null,
       "padding": null,
       "right": null,
       "top": null,
       "visibility": null,
       "width": null
      }
     },
     "b9d10d3967bd49f8a5479b88ad131d54": {
      "model_module": "@jupyter-widgets/controls",
      "model_module_version": "1.5.0",
      "model_name": "TabModel",
      "state": {
       "_dom_classes": [],
       "_model_module": "@jupyter-widgets/controls",
       "_model_module_version": "1.5.0",
       "_model_name": "TabModel",
       "_titles": {
        "0": "binder-examples",
        "1": "ipython",
        "2": "jupyter",
        "3": "jupyter-widgets",
        "4": "jupyterhub",
        "5": "jupyterlab"
       },
       "_view_count": null,
       "_view_module": "@jupyter-widgets/controls",
       "_view_module_version": "1.5.0",
       "_view_name": "TabView",
       "box_style": "",
       "children": [
        "IPY_MODEL_ed320b965452423d8bb8e440a77284b7",
        "IPY_MODEL_63b29d48e3094e99af664eddcfc341aa",
        "IPY_MODEL_6ddf38680b194a8c83183b13f44daeb9",
        "IPY_MODEL_a4b58e3cf3f149248eb086ecb61afdf0",
        "IPY_MODEL_f83df54ddfb94a73976c80f2a6ac85ca",
        "IPY_MODEL_a164532d14344d19aa3f97a51d53f987"
       ],
       "layout": "IPY_MODEL_d4bb521d457648f98f9f719b742233a0",
       "selected_index": 0
      }
     },
     "bfd18a74e5cb414b8a8d3fc5fea7ea45": {
      "model_module": "@jupyter-widgets/controls",
      "model_module_version": "1.5.0",
      "model_name": "HTMLModel",
      "state": {
       "_dom_classes": [],
       "_model_module": "@jupyter-widgets/controls",
       "_model_module_version": "1.5.0",
       "_model_name": "HTMLModel",
       "_view_count": null,
       "_view_module": "@jupyter-widgets/controls",
       "_view_module_version": "1.5.0",
       "_view_name": "HTMLView",
       "description": "",
       "description_tooltip": null,
       "layout": "IPY_MODEL_a5169ac3a34c4bc4b270f2cc9d0351a3",
       "placeholder": "​",
       "style": "IPY_MODEL_c40bbd7ea244462fa3bc1ea6f0de7db7",
       "value": "<h4>jupyter-widgets</h4>\n<h5><a href=\"https://github.com/jupyter-widgets/ipyleaflet\">jupyter-widgets/ipyleaflet</a></h5>\n<ul>\n<li><a href=\"https://github.com/jupyter-widgets/ipyleaflet/issues/427\">(#427)</a>: <em>LocalTileLayer not visible</em> by <strong><a href=\"https://github.com/itcarroll\">@itcarroll</a></strong></li>\n<li><a href=\"https://github.com/jupyter-widgets/ipyleaflet/issues/414\">(#414)</a>: <em>DeprecationWarnings about traits</em> by <strong><a href=\"https://github.com/deeplook\">@deeplook</a></strong></li>\n<li><a href=\"https://github.com/jupyter-widgets/ipyleaflet/issues/432\">(#432)</a>: <em>Geolocation support</em> by <strong><a href=\"https://github.com/SylvainCorlay\">@SylvainCorlay</a></strong></li>\n<li><a href=\"https://github.com/jupyter-widgets/ipyleaflet/issues/425\">(#425)</a>: <em>Update DrawControl polygon properties dict</em> by <strong><a href=\"https://github.com/Dylan-Rich\">@Dylan-Rich</a></strong></li>\n</ul>\n<h5><a href=\"https://github.com/jupyter-widgets/ipywidgets\">jupyter-widgets/ipywidgets</a></h5>\n<ul>\n<li><a href=\"https://github.com/jupyter-widgets/ipywidgets/issues/2553\">(#2553)</a>: <em>ipywidgets do not work properly</em> by <strong><a href=\"https://github.com/alex4200\">@alex4200</a></strong></li>\n<li><a href=\"https://github.com/jupyter-widgets/ipywidgets/issues/2595\">(#2595)</a>: <em>cannot complete installation of jupyterlab-manager@1.0.3</em> by <strong><a href=\"https://github.com/sbowman-mitre\">@sbowman-mitre</a></strong></li>\n</ul>\n<h5><a href=\"https://github.com/jupyter-widgets/pythreejs\">jupyter-widgets/pythreejs</a></h5>\n<ul>\n<li><a href=\"https://github.com/jupyter-widgets/pythreejs/issues/290\">(#290)</a>: <em>How to hold / pause / batch visible updates? Animation related</em> by <strong><a href=\"https://github.com/hagrid67\">@hagrid67</a></strong></li>\n<li><a href=\"https://github.com/jupyter-widgets/pythreejs/issues/273\">(#273)</a>: <em>How do you use loaders?</em> by <strong><a href=\"https://github.com/aliddell\">@aliddell</a></strong></li>\n</ul>\n<h5><a href=\"https://github.com/jupyter-widgets/traittypes\">jupyter-widgets/traittypes</a></h5>\n<ul>\n<li><a href=\"https://github.com/jupyter-widgets/traittypes/issues/40\">(#40)</a>: <em>DeprecationWarning</em> by <strong><a href=\"https://github.com/xoolive\">@xoolive</a></strong></li>\n</ul>\n<h5><a href=\"https://github.com/jupyter-widgets/widget-cookiecutter\">jupyter-widgets/widget-cookiecutter</a></h5>\n<ul>\n<li><a href=\"https://github.com/jupyter-widgets/widget-cookiecutter/issues/53\">(#53)</a>: _Documentation does not explain what do with the generated code. _ by <strong><a href=\"https://github.com/frankgerhardt\">@frankgerhardt</a></strong></li>\n<li><a href=\"https://github.com/jupyter-widgets/widget-cookiecutter/issues/39\">(#39)</a>: <em>Syntax error in labplugin.js if npm_package_name contains hyphens</em> by <strong><a href=\"https://github.com/zakandrewking\">@zakandrewking</a></strong></li>\n<li><a href=\"https://github.com/jupyter-widgets/widget-cookiecutter/issues/25\">(#25)</a>: <em>Add License</em> by <strong><a href=\"https://github.com/pluradj\">@pluradj</a></strong></li>\n<li><a href=\"https://github.com/jupyter-widgets/widget-cookiecutter/issues/19\">(#19)</a>: <em>Question: how to add callable functions?</em> by <strong><a href=\"https://github.com/rskabelund\">@rskabelund</a></strong></li>\n<li><a href=\"https://github.com/jupyter-widgets/widget-cookiecutter/issues/11\">(#11)</a>: <em>Dev install instructions don't build js</em> by <strong><a href=\"https://github.com/j-towns\">@j-towns</a></strong></li>\n</ul>\n<h5><a href=\"https://github.com/jupyter-widgets/widget-ts-cookiecutter\">jupyter-widgets/widget-ts-cookiecutter</a></h5>\n<ul>\n<li><a href=\"https://github.com/jupyter-widgets/widget-ts-cookiecutter/issues/54\">(#54)</a>: <em>Python packages with dash in the name gets generated</em> by <strong><a href=\"https://github.com/frankgerhardt\">@frankgerhardt</a></strong></li>\n<li><a href=\"https://github.com/jupyter-widgets/widget-ts-cookiecutter/issues/53\">(#53)</a>: <em>npm test does not work</em> by <strong><a href=\"https://github.com/frankgerhardt\">@frankgerhardt</a></strong></li>\n<li><a href=\"https://github.com/jupyter-widgets/widget-ts-cookiecutter/issues/52\">(#52)</a>: <em>Building extension.js</em> by <strong><a href=\"https://github.com/zerline\">@zerline</a></strong></li>\n</ul>"
      }
     },
     "c09c32f3f825463185acc7d0de7b7136": {
      "model_module": "@jupyter-widgets/controls",
      "model_module_version": "1.5.0",
      "model_name": "HTMLModel",
      "state": {
       "_dom_classes": [],
       "_model_module": "@jupyter-widgets/controls",
       "_model_module_version": "1.5.0",
       "_model_name": "HTMLModel",
       "_view_count": null,
       "_view_module": "@jupyter-widgets/controls",
       "_view_module_version": "1.5.0",
       "_view_name": "HTMLView",
       "description": "",
       "description_tooltip": null,
       "layout": "IPY_MODEL_1c49c0c5abc6468da600a3ad160cd6e4",
       "placeholder": "​",
       "style": "IPY_MODEL_c6f792f6a5f94aafbb7d0b1dcac587dd",
       "value": "<h4>jupyterhub</h4>\n<h5><a href=\"https://github.com/jupyterhub/batchspawner\">jupyterhub/batchspawner</a></h5>\n<ul>\n<li><a href=\"https://github.com/jupyterhub/batchspawner/issues/162\">(#162)</a>: <em>Need of a more detailed user guide</em> by <strong><a href=\"https://github.com/s-ansa\">@s-ansa</a></strong></li>\n<li><a href=\"https://github.com/jupyterhub/batchspawner/issues/152\">(#152)</a>: <em>Unhandled error starting user's server: sudo: sbatch: command not found</em> by <strong><a href=\"https://github.com/heavenkong\">@heavenkong</a></strong></li>\n<li><a href=\"https://github.com/jupyterhub/batchspawner/issues/163\">(#163)</a>: <em>Memory leak in batchspawner-singleuser process</em> by <strong><a href=\"https://github.com/liffiton\">@liffiton</a></strong></li>\n</ul>\n<h5><a href=\"https://github.com/jupyterhub/binder\">jupyterhub/binder</a></h5>\n<ul>\n<li><a href=\"https://github.com/jupyterhub/binder/issues/173\">(#173)</a>: <em>Mybinder bug in building master branch vs latest commit on the master branch</em> by <strong><a href=\"https://github.com/fzeiser\">@fzeiser</a></strong></li>\n<li><a href=\"https://github.com/jupyterhub/binder/issues/172\">(#172)</a>: <em>More informative message on \"Launch attempt failed retrying\"</em> by <strong><a href=\"https://github.com/tonyyang-svail\">@tonyyang-svail</a></strong></li>\n</ul>\n<h5><a href=\"https://github.com/jupyterhub/binderhub\">jupyterhub/binderhub</a></h5>\n<ul>\n<li><a href=\"https://github.com/jupyterhub/binderhub/issues/976\">(#976)</a>: <em>Helm install fails</em> by <strong><a href=\"https://github.com/ltetrel\">@ltetrel</a></strong></li>\n<li><a href=\"https://github.com/jupyterhub/binderhub/issues/900\">(#900)</a>: <em>Dataverse repoprovider and URLs</em> by <strong><a href=\"https://github.com/pdurbin\">@pdurbin</a></strong></li>\n<li><a href=\"https://github.com/jupyterhub/binderhub/issues/992\">(#992)</a>: <em>Local docker registry with self-signed certificate</em> by <strong><a href=\"https://github.com/ltetrel\">@ltetrel</a></strong></li>\n</ul>\n<h5><a href=\"https://github.com/jupyterhub/chartpress\">jupyterhub/chartpress</a></h5>\n<ul>\n<li><a href=\"https://github.com/jupyterhub/chartpress/issues/44\">(#44)</a>: <em>PR Discussion: chartpress --reset on the Chart.yaml</em> by <strong><a href=\"https://github.com/consideRatio\">@consideRatio</a></strong></li>\n<li><a href=\"https://github.com/jupyterhub/chartpress/issues/48\">(#48)</a>: <em>--commit-range ignored, needs documentation update</em> by <strong><a href=\"https://github.com/consideRatio\">@consideRatio</a></strong></li>\n<li><a href=\"https://github.com/jupyterhub/chartpress/issues/39\">(#39)</a>: <em>Support extraContainers k8s container spec with valuesPath</em> by <strong><a href=\"https://github.com/ryanlovett\">@ryanlovett</a></strong></li>\n</ul>\n<h5><a href=\"https://github.com/jupyterhub/configurable-http-proxy\">jupyterhub/configurable-http-proxy</a></h5>\n<h5><a href=\"https://github.com/jupyterhub/dockerspawner\">jupyterhub/dockerspawner</a></h5>\n<ul>\n<li><a href=\"https://github.com/jupyterhub/dockerspawner/issues/263\">(#263)</a>: <em>SwarmSpawner,  InvalidArgument: Incompatible options have been provided for the bind type mount.</em> by <strong><a href=\"https://github.com/camm89\">@camm89</a></strong></li>\n<li><a href=\"https://github.com/jupyterhub/dockerspawner/issues/262\">(#262)</a>: <em>SwarmSpawner unable to contact notebook container when container name has upper case characters</em> by <strong><a href=\"https://github.com/hpbieker\">@hpbieker</a></strong></li>\n<li><a href=\"https://github.com/jupyterhub/dockerspawner/issues/313\">(#313)</a>: <em>pull_image fails if docker regsitry not on port 443</em> by <strong><a href=\"https://github.com/timhughes\">@timhughes</a></strong></li>\n</ul>\n<h5><a href=\"https://github.com/jupyterhub/helm-chart\">jupyterhub/helm-chart</a></h5>\n<ul>\n<li><a href=\"https://github.com/jupyterhub/helm-chart/issues/98\">(#98)</a>: <em>Make this Helm chart repository available on Helm Hub</em> by <strong><a href=\"https://github.com/desaintmartin\">@desaintmartin</a></strong></li>\n</ul>\n<h5><a href=\"https://github.com/jupyterhub/jupyter-rsession-proxy\">jupyterhub/jupyter-rsession-proxy</a></h5>\n<ul>\n<li><a href=\"https://github.com/jupyterhub/jupyter-rsession-proxy/issues/78\">(#78)</a>: <em>[meta] Status of this project?</em> by <strong><a href=\"https://github.com/riazarbi\">@riazarbi</a></strong></li>\n<li><a href=\"https://github.com/jupyterhub/jupyter-rsession-proxy/issues/77\">(#77)</a>: <em>Path to an Ubuntu version of R and RStudio</em> by <strong><a href=\"https://github.com/caviri\">@caviri</a></strong></li>\n<li><a href=\"https://github.com/jupyterhub/jupyter-rsession-proxy/issues/73\">(#73)</a>: <em>Rstudio integration to Jupyterhub (z2jh)</em> by <strong><a href=\"https://github.com/navneetkrverma\">@navneetkrverma</a></strong></li>\n</ul>\n<h5><a href=\"https://github.com/jupyterhub/jupyter-server-proxy\">jupyterhub/jupyter-server-proxy</a></h5>\n<ul>\n<li><a href=\"https://github.com/jupyterhub/jupyter-server-proxy/issues/106\">(#106)</a>: <em>Example extending docker-stacks?</em> by <strong><a href=\"https://github.com/dirkcgrunwald\">@dirkcgrunwald</a></strong></li>\n<li><a href=\"https://github.com/jupyterhub/jupyter-server-proxy/issues/57\">(#57)</a>: <em>Spark UI not accessible</em> by <strong><a href=\"https://github.com/h4gen\">@h4gen</a></strong></li>\n</ul>\n<h5><a href=\"https://github.com/jupyterhub/jupyterhub\">jupyterhub/jupyterhub</a></h5>\n<ul>\n<li><a href=\"https://github.com/jupyterhub/jupyterhub/issues/2792\">(#2792)</a>: <em>Random 403 error when starting SwarmSpawner</em> by <strong><a href=\"https://github.com/hdlbq\">@hdlbq</a></strong></li>\n<li><a href=\"https://github.com/jupyterhub/jupyterhub/issues/2791\">(#2791)</a>: <em>Jupyterhub Behind Load Balancer (F5)</em> by <strong><a href=\"https://github.com/jakepaw\">@jakepaw</a></strong></li>\n<li><a href=\"https://github.com/jupyterhub/jupyterhub/issues/1585\">(#1585)</a>: <em>Prometheus metrics to add to JupyterHub</em> by <strong><a href=\"https://github.com/yuvipanda\">@yuvipanda</a></strong></li>\n</ul>\n<h5><a href=\"https://github.com/jupyterhub/jupyterhub-deploy-docker\">jupyterhub/jupyterhub-deploy-docker</a></h5>\n<ul>\n<li><a href=\"https://github.com/jupyterhub/jupyterhub-deploy-docker/issues/93\">(#93)</a>: <em>Using AWS Storage with jupyterhub-deploy-docker</em> by <strong><a href=\"https://github.com/Deepanshu2017\">@Deepanshu2017</a></strong></li>\n</ul>\n<h5><a href=\"https://github.com/jupyterhub/kubespawner\">jupyterhub/kubespawner</a></h5>\n<ul>\n<li><a href=\"https://github.com/jupyterhub/kubespawner/issues/303\">(#303)</a>: <em>Access to docker/runtime options (PID limits)</em> by <strong><a href=\"https://github.com/vilhelmen\">@vilhelmen</a></strong></li>\n</ul>\n<h5><a href=\"https://github.com/jupyterhub/ldapauthenticator\">jupyterhub/ldapauthenticator</a></h5>\n<ul>\n<li><a href=\"https://github.com/jupyterhub/ldapauthenticator/issues/143\">(#143)</a>: <em>The lookup takes your samid which you use to login with and looks up your CN (<code>lookup_dn_user_dn_attribute</code>).</em> by <strong><a href=\"https://github.com/tyu0912\">@tyu0912</a></strong></li>\n</ul>\n<h5><a href=\"https://github.com/jupyterhub/mybinder.org-deploy\">jupyterhub/mybinder.org-deploy</a></h5>\n<h5><a href=\"https://github.com/jupyterhub/nbgitpuller\">jupyterhub/nbgitpuller</a></h5>\n<ul>\n<li><a href=\"https://github.com/jupyterhub/nbgitpuller/issues/109\">(#109)</a>: <em>Where to use nbgitpuller in config.yaml?</em> by <strong><a href=\"https://github.com/djinn09\">@djinn09</a></strong></li>\n<li><a href=\"https://github.com/jupyterhub/nbgitpuller/issues/32\">(#32)</a>: <em>Error: undefined caused by opening multiple notebooks simultaneously</em> by <strong><a href=\"https://github.com/davidwagner\">@davidwagner</a></strong></li>\n</ul>\n<h5><a href=\"https://github.com/jupyterhub/nullauthenticator\">jupyterhub/nullauthenticator</a></h5>\n<h5><a href=\"https://github.com/jupyterhub/oauthenticator\">jupyterhub/oauthenticator</a></h5>\n<ul>\n<li><a href=\"https://github.com/jupyterhub/oauthenticator/issues/291\">(#291)</a>: <em>Login to JH fails if user is already logged into Auth0</em> by <strong><a href=\"https://github.com/philvarner\">@philvarner</a></strong></li>\n<li><a href=\"https://github.com/jupyterhub/oauthenticator/issues/193\">(#193)</a>: <em>Github Authentication Redirects to 404 Page not found</em> by <strong><a href=\"https://github.com/Akmoore7\">@Akmoore7</a></strong></li>\n<li><a href=\"https://github.com/jupyterhub/oauthenticator/issues/136\">(#136)</a>: <em>Would it be possible to have multiple authentication methods simultaneously?</em> by <strong><a href=\"https://github.com/stefanonicotri\">@stefanonicotri</a></strong></li>\n</ul>\n<h5><a href=\"https://github.com/jupyterhub/systemdspawner\">jupyterhub/systemdspawner</a></h5>\n<h5><a href=\"https://github.com/jupyterhub/team-compass\">jupyterhub/team-compass</a></h5>\n<ul>\n<li><a href=\"https://github.com/jupyterhub/team-compass/issues/176\">(#176)</a>: <em>Blog post: Diving into Leadership to Build Push-Button Code</em> by <strong><a href=\"https://github.com/sgibson91\">@sgibson91</a></strong></li>\n<li><a href=\"https://github.com/jupyterhub/team-compass/issues/215\">(#215)</a>: <em>Hacktoberfest labels in repos to encourage contribution?</em> by <strong><a href=\"https://github.com/sgibson91\">@sgibson91</a></strong></li>\n<li><a href=\"https://github.com/jupyterhub/team-compass/issues/217\">(#217)</a>: <em>Technical checklist for joining the BinderHub Federation</em> by <strong><a href=\"https://github.com/sgibson91\">@sgibson91</a></strong></li>\n</ul>\n<h5><a href=\"https://github.com/jupyterhub/the-littlest-jupyterhub\">jupyterhub/the-littlest-jupyterhub</a></h5>\n<ul>\n<li><a href=\"https://github.com/jupyterhub/the-littlest-jupyterhub/issues/388\">(#388)</a>: <em>Improvements to the Azure docs</em> by <strong><a href=\"https://github.com/choldgraf\">@choldgraf</a></strong></li>\n<li><a href=\"https://github.com/jupyterhub/the-littlest-jupyterhub/issues/446\">(#446)</a>: <em>How to make TLJH to listen only to localhost:80 for ssh tunneling remote access?</em> by <strong><a href=\"https://github.com/chmendoza\">@chmendoza</a></strong></li>\n</ul>\n<h5><a href=\"https://github.com/jupyterhub/traefik-proxy\">jupyterhub/traefik-proxy</a></h5>\n<h5><a href=\"https://github.com/jupyterhub/zero-to-jupyterhub-k8s\">jupyterhub/zero-to-jupyterhub-k8s</a></h5>\n<ul>\n<li><a href=\"https://github.com/jupyterhub/zero-to-jupyterhub-k8s/issues/1432\">(#1432)</a>: <em>Discussing use of a VM</em> by <strong><a href=\"https://github.com/consideRatio\">@consideRatio</a></strong></li>\n<li><a href=\"https://github.com/jupyterhub/zero-to-jupyterhub-k8s/issues/806\">(#806)</a>: <em>Proxy redirects to unexpected port</em> by <strong><a href=\"https://github.com/ryanlovett\">@ryanlovett</a></strong></li>\n</ul>"
      }
     },
     "c15dac18687140f7b15a897fbd1dc27c": {
      "model_module": "@jupyter-widgets/controls",
      "model_module_version": "1.5.0",
      "model_name": "DescriptionStyleModel",
      "state": {
       "_model_module": "@jupyter-widgets/controls",
       "_model_module_version": "1.5.0",
       "_model_name": "DescriptionStyleModel",
       "_view_count": null,
       "_view_module": "@jupyter-widgets/base",
       "_view_module_version": "1.2.0",
       "_view_name": "StyleView",
       "description_width": ""
      }
     },
     "c25d89a71d2741d39d8182e1d70a8687": {
      "model_module": "@jupyter-widgets/controls",
      "model_module_version": "1.5.0",
      "model_name": "HTMLModel",
      "state": {
       "_dom_classes": [],
       "_model_module": "@jupyter-widgets/controls",
       "_model_module_version": "1.5.0",
       "_model_name": "HTMLModel",
       "_view_count": null,
       "_view_module": "@jupyter-widgets/controls",
       "_view_module_version": "1.5.0",
       "_view_name": "HTMLView",
       "description": "",
       "description_tooltip": null,
       "layout": "IPY_MODEL_0e6f2404ec54463490c094e23af33af0",
       "placeholder": "​",
       "style": "IPY_MODEL_f97dc9f8e13c4da0aa6f3c99e597611f",
       "value": "<h4>ipython</h4>\n<h5><a href=\"https://github.com/ipython/ipykernel\">ipython/ipykernel</a></h5>\n<ul>\n<li><a href=\"https://github.com/ipython/ipykernel/issues/334\">(#334)</a>: <em>Memory Error: IOStream.Flush timed out</em> by <strong><a href=\"https://github.com/acerock6\">@acerock6</a></strong></li>\n</ul>\n<h5><a href=\"https://github.com/ipython/ipyparallel\">ipython/ipyparallel</a></h5>\n<ul>\n<li><a href=\"https://github.com/ipython/ipyparallel/issues/389\">(#389)</a>: <em>the time of the notebook</em> by <strong><a href=\"https://github.com/zhang-zhenyu\">@zhang-zhenyu</a></strong></li>\n<li><a href=\"https://github.com/ipython/ipyparallel/issues/376\">(#376)</a>: <em>Required Keyword defaults missing after serialization round trip</em> by <strong><a href=\"https://github.com/Lnaden\">@Lnaden</a></strong></li>\n</ul>\n<h5><a href=\"https://github.com/ipython/ipython\">ipython/ipython</a></h5>\n<ul>\n<li><a href=\"https://github.com/ipython/ipython/issues/11918\">(#11918)</a>: _some LaTeX variable names point to same content/have same identity _ by <strong><a href=\"https://github.com/PrometheusPi\">@PrometheusPi</a></strong></li>\n<li><a href=\"https://github.com/ipython/ipython/issues/11920\">(#11920)</a>: <em>How to detect which frontends are connected</em> by <strong><a href=\"https://github.com/hmaarrfk\">@hmaarrfk</a></strong></li>\n<li><a href=\"https://github.com/ipython/ipython/issues/5026\">(#5026)</a>: <em>%debug's raw_input wedges notebook if cell deleted</em> by <strong><a href=\"https://github.com/ivanov\">@ivanov</a></strong></li>\n<li><a href=\"https://github.com/ipython/ipython/issues/11887\">(#11887)</a>: <em>ipython 7.8.0 error in Spyder IDE</em> by <strong><a href=\"https://github.com/GNSharmaa\">@GNSharmaa</a></strong></li>\n</ul>\n<h5><a href=\"https://github.com/ipython/ipython-website\">ipython/ipython-website</a></h5>\n<ul>\n<li><a href=\"https://github.com/ipython/ipython-website/issues/148\">(#148)</a>: <em>books added</em> by <strong><a href=\"https://github.com/ankit404\">@ankit404</a></strong></li>\n</ul>\n<h5><a href=\"https://github.com/ipython/traitlets\">ipython/traitlets</a></h5>\n<ul>\n<li><a href=\"https://github.com/ipython/traitlets/issues/530\">(#530)</a>: <em>New 4.3.3 Release</em> by <strong><a href=\"https://github.com/rmorshea\">@rmorshea</a></strong></li>\n</ul>\n<h5><a href=\"https://github.com/ipython/xkcd-font\">ipython/xkcd-font</a></h5>\n<ul>\n<li><a href=\"https://github.com/ipython/xkcd-font/issues/32\">(#32)</a>: <em>Addition of Greek alphabets</em> by <strong><a href=\"https://github.com/prakayastha\">@prakayastha</a></strong></li>\n</ul>"
      }
     },
     "c322842bd818439f8077812c504b0b4d": {
      "model_module": "@jupyter-widgets/base",
      "model_module_version": "1.2.0",
      "model_name": "LayoutModel",
      "state": {
       "_model_module": "@jupyter-widgets/base",
       "_model_module_version": "1.2.0",
       "_model_name": "LayoutModel",
       "_view_count": null,
       "_view_module": "@jupyter-widgets/base",
       "_view_module_version": "1.2.0",
       "_view_name": "LayoutView",
       "align_content": null,
       "align_items": null,
       "align_self": null,
       "border": null,
       "bottom": null,
       "display": null,
       "flex": null,
       "flex_flow": null,
       "grid_area": null,
       "grid_auto_columns": null,
       "grid_auto_flow": null,
       "grid_auto_rows": null,
       "grid_column": null,
       "grid_gap": null,
       "grid_row": null,
       "grid_template_areas": null,
       "grid_template_columns": null,
       "grid_template_rows": null,
       "height": null,
       "justify_content": null,
       "justify_items": null,
       "left": null,
       "margin": null,
       "max_height": null,
       "max_width": null,
       "min_height": null,
       "min_width": null,
       "object_fit": null,
       "object_position": null,
       "order": null,
       "overflow": null,
       "overflow_x": null,
       "overflow_y": null,
       "padding": null,
       "right": null,
       "top": null,
       "visibility": null,
       "width": null
      }
     },
     "c40bbd7ea244462fa3bc1ea6f0de7db7": {
      "model_module": "@jupyter-widgets/controls",
      "model_module_version": "1.5.0",
      "model_name": "DescriptionStyleModel",
      "state": {
       "_model_module": "@jupyter-widgets/controls",
       "_model_module_version": "1.5.0",
       "_model_name": "DescriptionStyleModel",
       "_view_count": null,
       "_view_module": "@jupyter-widgets/base",
       "_view_module_version": "1.2.0",
       "_view_name": "StyleView",
       "description_width": ""
      }
     },
     "c41b3e0211744a31af828c78b3c76db4": {
      "model_module": "@jupyter-widgets/base",
      "model_module_version": "1.2.0",
      "model_name": "LayoutModel",
      "state": {
       "_model_module": "@jupyter-widgets/base",
       "_model_module_version": "1.2.0",
       "_model_name": "LayoutModel",
       "_view_count": null,
       "_view_module": "@jupyter-widgets/base",
       "_view_module_version": "1.2.0",
       "_view_name": "LayoutView",
       "align_content": null,
       "align_items": null,
       "align_self": null,
       "border": null,
       "bottom": null,
       "display": null,
       "flex": null,
       "flex_flow": null,
       "grid_area": null,
       "grid_auto_columns": null,
       "grid_auto_flow": null,
       "grid_auto_rows": null,
       "grid_column": null,
       "grid_gap": null,
       "grid_row": null,
       "grid_template_areas": null,
       "grid_template_columns": null,
       "grid_template_rows": null,
       "height": null,
       "justify_content": null,
       "justify_items": null,
       "left": null,
       "margin": null,
       "max_height": null,
       "max_width": null,
       "min_height": null,
       "min_width": null,
       "object_fit": null,
       "object_position": null,
       "order": null,
       "overflow": null,
       "overflow_x": null,
       "overflow_y": null,
       "padding": null,
       "right": null,
       "top": null,
       "visibility": null,
       "width": null
      }
     },
     "c6f792f6a5f94aafbb7d0b1dcac587dd": {
      "model_module": "@jupyter-widgets/controls",
      "model_module_version": "1.5.0",
      "model_name": "DescriptionStyleModel",
      "state": {
       "_model_module": "@jupyter-widgets/controls",
       "_model_module_version": "1.5.0",
       "_model_name": "DescriptionStyleModel",
       "_view_count": null,
       "_view_module": "@jupyter-widgets/base",
       "_view_module_version": "1.2.0",
       "_view_name": "StyleView",
       "description_width": ""
      }
     },
     "d44845a023f240a18985134fbf97deb0": {
      "model_module": "@jupyter-widgets/controls",
      "model_module_version": "1.5.0",
      "model_name": "HTMLModel",
      "state": {
       "_dom_classes": [],
       "_model_module": "@jupyter-widgets/controls",
       "_model_module_version": "1.5.0",
       "_model_name": "HTMLModel",
       "_view_count": null,
       "_view_module": "@jupyter-widgets/controls",
       "_view_module_version": "1.5.0",
       "_view_name": "HTMLView",
       "description": "",
       "description_tooltip": null,
       "layout": "IPY_MODEL_df91100ba6594f9eb8280874a7e793ec",
       "placeholder": "​",
       "style": "IPY_MODEL_9083c42179594cfb918d4e92b21d795b",
       "value": "<h4>jupyterlab</h4>\n<h5><a href=\"https://github.com/jupyterlab/debugger\">jupyterlab/debugger</a></h5>\n<h5><a href=\"https://github.com/jupyterlab/jupyterlab\">jupyterlab/jupyterlab</a></h5>\n<ul>\n<li><a href=\"https://github.com/jupyterlab/jupyterlab/issues/7295\">(#7295)</a>: <em>Line numbers in file editor reappear when changing font or tab size</em> by <strong><a href=\"https://github.com/ajbozarth\">@ajbozarth</a></strong></li>\n</ul>\n<h5><a href=\"https://github.com/jupyterlab/jupyterlab-celltags\">jupyterlab/jupyterlab-celltags</a></h5>\n<ul>\n<li><a href=\"https://github.com/jupyterlab/jupyterlab-celltags/issues/194\">(#194)</a>: <em>Icons are not rendered correctly</em> by <strong><a href=\"https://github.com/jebovic\">@jebovic</a></strong></li>\n<li><a href=\"https://github.com/jupyterlab/jupyterlab-celltags/issues/179\">(#179)</a>: <em>Absob into lab core?</em> by <strong><a href=\"https://github.com/vidartf\">@vidartf</a></strong></li>\n<li><a href=\"https://github.com/jupyterlab/jupyterlab-celltags/issues/199\">(#199)</a>: <em>Celltags refactor and design updates</em> by <strong><a href=\"https://github.com/isabela-pf\">@isabela-pf</a></strong></li>\n</ul>\n<h5><a href=\"https://github.com/jupyterlab/jupyterlab-commenting\">jupyterlab/jupyterlab-commenting</a></h5>\n<ul>\n<li><a href=\"https://github.com/jupyterlab/jupyterlab-commenting/issues/41\">(#41)</a>: <em>User facing documentation</em> by <strong><a href=\"https://github.com/saulshanabrook\">@saulshanabrook</a></strong></li>\n<li><a href=\"https://github.com/jupyterlab/jupyterlab-commenting/issues/26\">(#26)</a>: <em>Comment on visualizations</em> by <strong><a href=\"https://github.com/hoo761\">@hoo761</a></strong></li>\n<li><a href=\"https://github.com/jupyterlab/jupyterlab-commenting/issues/4\">(#4)</a>: <em>Summer design notes</em> by <strong><a href=\"https://github.com/ellisonbg\">@ellisonbg</a></strong></li>\n<li><a href=\"https://github.com/jupyterlab/jupyterlab-commenting/issues/3\">(#3)</a>: <em>Commenting and annotation overview</em> by <strong><a href=\"https://github.com/ellisonbg\">@ellisonbg</a></strong></li>\n</ul>\n<h5><a href=\"https://github.com/jupyterlab/jupyterlab-data-explorer\">jupyterlab/jupyterlab-data-explorer</a></h5>\n<ul>\n<li><a href=\"https://github.com/jupyterlab/jupyterlab-data-explorer/issues/62\">(#62)</a>: <em>Icons for common MIME Types available in Data Registry</em> by <strong><a href=\"https://github.com/tgeorgeux\">@tgeorgeux</a></strong></li>\n<li><a href=\"https://github.com/jupyterlab/jupyterlab-data-explorer/issues/51\">(#51)</a>: <em>Intake Integration</em> by <strong><a href=\"https://github.com/saulshanabrook\">@saulshanabrook</a></strong></li>\n<li><a href=\"https://github.com/jupyterlab/jupyterlab-data-explorer/issues/119\">(#119)</a>: <em>Missing datasets schema file</em> by <strong><a href=\"https://github.com/saulshanabrook\">@saulshanabrook</a></strong></li>\n</ul>\n<h5><a href=\"https://github.com/jupyterlab/jupyterlab-git\">jupyterlab/jupyterlab-git</a></h5>\n<ul>\n<li><a href=\"https://github.com/jupyterlab/jupyterlab-git/issues/439\">(#439)</a>: <em>Make subprocess call asynchronous</em> by <strong><a href=\"https://github.com/fcollonval\">@fcollonval</a></strong></li>\n</ul>\n<h5><a href=\"https://github.com/jupyterlab/jupyterlab-github\">jupyterlab/jupyterlab-github</a></h5>\n<ul>\n<li><a href=\"https://github.com/jupyterlab/jupyterlab-github/issues/94\">(#94)</a>: <em>Config option <code>client_id</code> not recognized by <code>GitHubConfig</code></em> by <strong><a href=\"https://github.com/michaelaye\">@michaelaye</a></strong></li>\n</ul>\n<h5><a href=\"https://github.com/jupyterlab/jupyterlab-hdf5\">jupyterlab/jupyterlab-hdf5</a></h5>\n<ul>\n<li><a href=\"https://github.com/jupyterlab/jupyterlab-hdf5/issues/18\">(#18)</a>: <em>Add support for 1-dimensional datasets</em> by <strong><a href=\"https://github.com/JonjonHays\">@JonjonHays</a></strong></li>\n<li><a href=\"https://github.com/jupyterlab/jupyterlab-hdf5/issues/14\">(#14)</a>: <em>Update package maintainers on pypi</em> by <strong><a href=\"https://github.com/jasongrout\">@jasongrout</a></strong></li>\n<li><a href=\"https://github.com/jupyterlab/jupyterlab-hdf5/issues/13\">(#13)</a>: <em>Update license and copyrights to Project Jupyter license and copyrights</em> by <strong><a href=\"https://github.com/jasongrout\">@jasongrout</a></strong></li>\n<li><a href=\"https://github.com/jupyterlab/jupyterlab-hdf5/issues/12\">(#12)</a>: <em>Include '.h5' extension</em> by <strong><a href=\"https://github.com/byouness\">@byouness</a></strong></li>\n</ul>\n<h5><a href=\"https://github.com/jupyterlab/jupyterlab-latex\">jupyterlab/jupyterlab-latex</a></h5>\n<ul>\n<li><a href=\"https://github.com/jupyterlab/jupyterlab-latex/issues/89\">(#89)</a>: <em>Menu item \"File→New→Latex File\" with customizeable template.</em> by <strong><a href=\"https://github.com/belonesox\">@belonesox</a></strong></li>\n</ul>\n<h5><a href=\"https://github.com/jupyterlab/jupyterlab-media\">jupyterlab/jupyterlab-media</a></h5>\n<h5><a href=\"https://github.com/jupyterlab/jupyterlab-metadata-service\">jupyterlab/jupyterlab-metadata-service</a></h5>\n<ul>\n<li><a href=\"https://github.com/jupyterlab/jupyterlab-metadata-service/issues/28\">(#28)</a>: <em>UI Components</em> by <strong><a href=\"https://github.com/saulshanabrook\">@saulshanabrook</a></strong></li>\n</ul>\n<h5><a href=\"https://github.com/jupyterlab/jupyterlab-telemetry\">jupyterlab/jupyterlab-telemetry</a></h5>\n<ul>\n<li><a href=\"https://github.com/jupyterlab/jupyterlab-telemetry/issues/8\">(#8)</a>: <em>JupyterLab Telemetry Design</em> by <strong><a href=\"https://github.com/jaipreet-s\">@jaipreet-s</a></strong></li>\n</ul>\n<h5><a href=\"https://github.com/jupyterlab/jupyterlab-toc\">jupyterlab/jupyterlab-toc</a></h5>\n<ul>\n<li><a href=\"https://github.com/jupyterlab/jupyterlab-toc/issues/35\">(#35)</a>: <em>\"@jupyterlab/toc\" is not a valid npm package ??</em> by <strong><a href=\"https://github.com/b-gibbs\">@b-gibbs</a></strong></li>\n</ul>\n<h5><a href=\"https://github.com/jupyterlab/jupyterlab_apod\">jupyterlab/jupyterlab_apod</a></h5>\n<ul>\n<li><a href=\"https://github.com/jupyterlab/jupyterlab_apod/issues/1\">(#1)</a>: _Failed to fetch package metadata for 'jupyterlab_apod': <HTTPError 404: 'Not Found'> _ by <strong><a href=\"https://github.com/nscozzaro\">@nscozzaro</a></strong></li>\n</ul>\n<h5><a href=\"https://github.com/jupyterlab/pull-requests\">jupyterlab/pull-requests</a></h5>\n<ul>\n<li><a href=\"https://github.com/jupyterlab/pull-requests/issues/11\">(#11)</a>: <em>Allow user to change default GitHub URL</em> by <strong><a href=\"https://github.com/riordan\">@riordan</a></strong></li>\n</ul>\n<h5><a href=\"https://github.com/jupyterlab/team-compass\">jupyterlab/team-compass</a></h5>\n<ul>\n<li><a href=\"https://github.com/jupyterlab/team-compass/issues/22\">(#22)</a>: <em>Format of the compass</em> by <strong><a href=\"https://github.com/SylvainCorlay\">@SylvainCorlay</a></strong></li>\n<li><a href=\"https://github.com/jupyterlab/team-compass/issues/10\">(#10)</a>: <em>Migrating telamonian/jupyterlab-hdf to @jupyterlab/jupyterlab-hdf5</em> by <strong><a href=\"https://github.com/telamonian\">@telamonian</a></strong></li>\n<li><a href=\"https://github.com/jupyterlab/team-compass/issues/11\">(#11)</a>: <em>Identity API</em> by <strong><a href=\"https://github.com/saulshanabrook\">@saulshanabrook</a></strong></li>\n<li><a href=\"https://github.com/jupyterlab/team-compass/issues/21\">(#21)</a>: <em>Weekly Dev Call Meeting Minutes 2019-10-09</em> by <strong><a href=\"https://github.com/tgeorgeux\">@tgeorgeux</a></strong></li>\n</ul>"
      }
     },
     "d4bb521d457648f98f9f719b742233a0": {
      "model_module": "@jupyter-widgets/base",
      "model_module_version": "1.2.0",
      "model_name": "LayoutModel",
      "state": {
       "_model_module": "@jupyter-widgets/base",
       "_model_module_version": "1.2.0",
       "_model_name": "LayoutModel",
       "_view_count": null,
       "_view_module": "@jupyter-widgets/base",
       "_view_module_version": "1.2.0",
       "_view_name": "LayoutView",
       "align_content": null,
       "align_items": null,
       "align_self": null,
       "border": null,
       "bottom": null,
       "display": null,
       "flex": null,
       "flex_flow": null,
       "grid_area": null,
       "grid_auto_columns": null,
       "grid_auto_flow": null,
       "grid_auto_rows": null,
       "grid_column": null,
       "grid_gap": null,
       "grid_row": null,
       "grid_template_areas": null,
       "grid_template_columns": null,
       "grid_template_rows": null,
       "height": null,
       "justify_content": null,
       "justify_items": null,
       "left": null,
       "margin": null,
       "max_height": null,
       "max_width": null,
       "min_height": null,
       "min_width": null,
       "object_fit": null,
       "object_position": null,
       "order": null,
       "overflow": null,
       "overflow_x": null,
       "overflow_y": null,
       "padding": null,
       "right": null,
       "top": null,
       "visibility": null,
       "width": null
      }
     },
     "d8bd136941254e9297eef46a0e265dc8": {
      "model_module": "@jupyter-widgets/controls",
      "model_module_version": "1.5.0",
      "model_name": "DescriptionStyleModel",
      "state": {
       "_model_module": "@jupyter-widgets/controls",
       "_model_module_version": "1.5.0",
       "_model_name": "DescriptionStyleModel",
       "_view_count": null,
       "_view_module": "@jupyter-widgets/base",
       "_view_module_version": "1.2.0",
       "_view_name": "StyleView",
       "description_width": ""
      }
     },
     "db84634919d946889fee9838339450ad": {
      "model_module": "@jupyter-widgets/base",
      "model_module_version": "1.2.0",
      "model_name": "LayoutModel",
      "state": {
       "_model_module": "@jupyter-widgets/base",
       "_model_module_version": "1.2.0",
       "_model_name": "LayoutModel",
       "_view_count": null,
       "_view_module": "@jupyter-widgets/base",
       "_view_module_version": "1.2.0",
       "_view_name": "LayoutView",
       "align_content": null,
       "align_items": null,
       "align_self": null,
       "border": null,
       "bottom": null,
       "display": null,
       "flex": null,
       "flex_flow": null,
       "grid_area": null,
       "grid_auto_columns": null,
       "grid_auto_flow": null,
       "grid_auto_rows": null,
       "grid_column": null,
       "grid_gap": null,
       "grid_row": null,
       "grid_template_areas": null,
       "grid_template_columns": null,
       "grid_template_rows": null,
       "height": null,
       "justify_content": null,
       "justify_items": null,
       "left": null,
       "margin": null,
       "max_height": null,
       "max_width": null,
       "min_height": null,
       "min_width": null,
       "object_fit": null,
       "object_position": null,
       "order": null,
       "overflow": null,
       "overflow_x": null,
       "overflow_y": null,
       "padding": null,
       "right": null,
       "top": null,
       "visibility": null,
       "width": null
      }
     },
     "df91100ba6594f9eb8280874a7e793ec": {
      "model_module": "@jupyter-widgets/base",
      "model_module_version": "1.2.0",
      "model_name": "LayoutModel",
      "state": {
       "_model_module": "@jupyter-widgets/base",
       "_model_module_version": "1.2.0",
       "_model_name": "LayoutModel",
       "_view_count": null,
       "_view_module": "@jupyter-widgets/base",
       "_view_module_version": "1.2.0",
       "_view_name": "LayoutView",
       "align_content": null,
       "align_items": null,
       "align_self": null,
       "border": null,
       "bottom": null,
       "display": null,
       "flex": null,
       "flex_flow": null,
       "grid_area": null,
       "grid_auto_columns": null,
       "grid_auto_flow": null,
       "grid_auto_rows": null,
       "grid_column": null,
       "grid_gap": null,
       "grid_row": null,
       "grid_template_areas": null,
       "grid_template_columns": null,
       "grid_template_rows": null,
       "height": null,
       "justify_content": null,
       "justify_items": null,
       "left": null,
       "margin": null,
       "max_height": null,
       "max_width": null,
       "min_height": null,
       "min_width": null,
       "object_fit": null,
       "object_position": null,
       "order": null,
       "overflow": null,
       "overflow_x": null,
       "overflow_y": null,
       "padding": null,
       "right": null,
       "top": null,
       "visibility": null,
       "width": null
      }
     },
     "e49a8b56bdc341f1ba01460f247b2327": {
      "model_module": "@jupyter-widgets/controls",
      "model_module_version": "1.5.0",
      "model_name": "HTMLModel",
      "state": {
       "_dom_classes": [],
       "_model_module": "@jupyter-widgets/controls",
       "_model_module_version": "1.5.0",
       "_model_name": "HTMLModel",
       "_view_count": null,
       "_view_module": "@jupyter-widgets/controls",
       "_view_module_version": "1.5.0",
       "_view_name": "HTMLView",
       "description": "",
       "description_tooltip": null,
       "layout": "IPY_MODEL_7e164b9edc40486ca0176520e4a7095a",
       "placeholder": "​",
       "style": "IPY_MODEL_5de79bcae88a49ac8d9ae439a13232c8",
       "value": "<h4>Closed PRs for org: <code>jupyter-widgets</code></h4>\n<h5><a href=\"https://github.com/jupyter-widgets/ipyleaflet\">jupyter-widgets/ipyleaflet</a></h5>\n<ul>\n<li><a href=\"https://github.com/jupyter-widgets/ipyleaflet/pull/434\">(#434)</a>: <em>Sync locations</em> by <strong><a href=\"https://github.com/davidbrochart\">@davidbrochart</a></strong> merged by <strong><a href=\"https://github.com/martinRenou\">@martinRenou</a></strong></li>\n<li><a href=\"https://github.com/jupyter-widgets/ipyleaflet/pull/433\">(#433)</a>: <em>Improve README</em> by <strong><a href=\"https://github.com/martinRenou\">@martinRenou</a></strong> merged by <strong><a href=\"https://github.com/martinRenou\">@martinRenou</a></strong></li>\n<li><a href=\"https://github.com/jupyter-widgets/ipyleaflet/pull/431\">(#431)</a>: <em>Add substitute_layer to LayerGroup class</em> by <strong><a href=\"https://github.com/joshwarren\">@joshwarren</a></strong> merged by <strong><a href=\"https://github.com/martinRenou\">@martinRenou</a></strong></li>\n<li><a href=\"https://github.com/jupyter-widgets/ipyleaflet/pull/430\">(#430)</a>: <em>Fix some DeprecationWarning</em> by <strong><a href=\"https://github.com/xoolive\">@xoolive</a></strong> merged by <strong><a href=\"https://github.com/martinRenou\">@martinRenou</a></strong></li>\n<li><a href=\"https://github.com/jupyter-widgets/ipyleaflet/pull/429\">(#429)</a>: <em>LocalTileLayer fix + doc fix</em> by <strong><a href=\"https://github.com/martinRenou\">@martinRenou</a></strong> merged by <strong><a href=\"https://github.com/martinRenou\">@martinRenou</a></strong></li>\n</ul>\n<h5><a href=\"https://github.com/jupyter-widgets/ipywidgets\">jupyter-widgets/ipywidgets</a></h5>\n<ul>\n<li><a href=\"https://github.com/jupyter-widgets/ipywidgets/pull/2593\">(#2593)</a>: <em>[Issue #2592] DOCS: deleted duplicate docs in docs/source/examples/Widget Styling.ipynb</em> by <strong><a href=\"https://github.com/jhl0204\">@jhl0204</a></strong> merged by <strong><a href=\"https://github.com/jasongrout\">@jasongrout</a></strong></li>\n<li><a href=\"https://github.com/jupyter-widgets/ipywidgets/pull/2580\">(#2580)</a>: <em>DOC: Avoid loading require.js twice</em> by <strong><a href=\"https://github.com/mgeier\">@mgeier</a></strong> merged by <strong><a href=\"https://github.com/jasongrout\">@jasongrout</a></strong></li>\n<li><a href=\"https://github.com/jupyter-widgets/ipywidgets/pull/2579\">(#2579)</a>: <em>DOC: Avoid a few Sphinx warnings</em> by <strong><a href=\"https://github.com/mgeier\">@mgeier</a></strong> merged by <strong><a href=\"https://github.com/jasongrout\">@jasongrout</a></strong></li>\n<li><a href=\"https://github.com/jupyter-widgets/ipywidgets/pull/2578\">(#2578)</a>: <em>DOC: Use a more modern way to activate recommonmark</em> by <strong><a href=\"https://github.com/mgeier\">@mgeier</a></strong> merged by <strong><a href=\"https://github.com/jasongrout\">@jasongrout</a></strong></li>\n<li><a href=\"https://github.com/jupyter-widgets/ipywidgets/pull/2574\">(#2574)</a>: <em>Add Combobox to docs</em> by <strong><a href=\"https://github.com/mlucool\">@mlucool</a></strong> merged by <strong><a href=\"https://github.com/jasongrout\">@jasongrout</a></strong></li>\n<li><a href=\"https://github.com/jupyter-widgets/ipywidgets/pull/2571\">(#2571)</a>: <em>Fixing grammar of README</em> by <strong><a href=\"https://github.com/ellisonbg\">@ellisonbg</a></strong> merged by <strong><a href=\"https://github.com/SylvainCorlay\">@SylvainCorlay</a></strong></li>\n<li><a href=\"https://github.com/jupyter-widgets/ipywidgets/pull/2570\">(#2570)</a>: <em>Reloading kernel state race issue</em> by <strong><a href=\"https://github.com/jasongrout\">@jasongrout</a></strong> merged by <strong><a href=\"https://github.com/jasongrout\">@jasongrout</a></strong></li>\n</ul>\n<h5><a href=\"https://github.com/jupyter-widgets/widget-cookiecutter\">jupyter-widgets/widget-cookiecutter</a></h5>\n<ul>\n<li><a href=\"https://github.com/jupyter-widgets/widget-cookiecutter/pull/54\">(#54)</a>: <em>Update trove classifiers.</em> by <strong><a href=\"https://github.com/deeplook\">@deeplook</a></strong> merged by <strong><a href=\"https://github.com/vidartf\">@vidartf</a></strong></li>\n</ul>\n<h5><a href=\"https://github.com/jupyter-widgets/widget-ts-cookiecutter\">jupyter-widgets/widget-ts-cookiecutter</a></h5>\n<ul>\n<li><a href=\"https://github.com/jupyter-widgets/widget-ts-cookiecutter/pull/55\">(#55)</a>: <em>Add some CSS in the cookie-cutter</em> by <strong><a href=\"https://github.com/martinRenou\">@martinRenou</a></strong> merged by <strong><a href=\"https://github.com/vidartf\">@vidartf</a></strong></li>\n</ul>"
      }
     },
     "eb4b5032ff5e4770aeecb2f927f63a01": {
      "model_module": "@jupyter-widgets/base",
      "model_module_version": "1.2.0",
      "model_name": "LayoutModel",
      "state": {
       "_model_module": "@jupyter-widgets/base",
       "_model_module_version": "1.2.0",
       "_model_name": "LayoutModel",
       "_view_count": null,
       "_view_module": "@jupyter-widgets/base",
       "_view_module_version": "1.2.0",
       "_view_name": "LayoutView",
       "align_content": null,
       "align_items": null,
       "align_self": null,
       "border": null,
       "bottom": null,
       "display": null,
       "flex": null,
       "flex_flow": null,
       "grid_area": null,
       "grid_auto_columns": null,
       "grid_auto_flow": null,
       "grid_auto_rows": null,
       "grid_column": null,
       "grid_gap": null,
       "grid_row": null,
       "grid_template_areas": null,
       "grid_template_columns": null,
       "grid_template_rows": null,
       "height": null,
       "justify_content": null,
       "justify_items": null,
       "left": null,
       "margin": null,
       "max_height": null,
       "max_width": null,
       "min_height": null,
       "min_width": null,
       "object_fit": null,
       "object_position": null,
       "order": null,
       "overflow": null,
       "overflow_x": null,
       "overflow_y": null,
       "padding": null,
       "right": null,
       "top": null,
       "visibility": null,
       "width": null
      }
     },
     "ed320b965452423d8bb8e440a77284b7": {
      "model_module": "@jupyter-widgets/controls",
      "model_module_version": "1.5.0",
      "model_name": "HTMLModel",
      "state": {
       "_dom_classes": [],
       "_model_module": "@jupyter-widgets/controls",
       "_model_module_version": "1.5.0",
       "_model_name": "HTMLModel",
       "_view_count": null,
       "_view_module": "@jupyter-widgets/controls",
       "_view_module_version": "1.5.0",
       "_view_name": "HTMLView",
       "description": "",
       "description_tooltip": null,
       "layout": "IPY_MODEL_c41b3e0211744a31af828c78b3c76db4",
       "placeholder": "​",
       "style": "IPY_MODEL_5eabdd4be5ab4b6c9df7dc15a293ec22",
       "value": "<center><p><a href=\"https://github.com/arokem\">arokem</a> | <a href=\"https://github.com/choldgraf\">choldgraf</a> | <a href=\"https://github.com/NHDaly\">NHDaly</a> | <a href=\"https://github.com/sepandms\">sepandms</a> | <a href=\"https://github.com/yuvipanda\">yuvipanda</a></p></center>"
      }
     },
     "eea06f3d0f2b4f1eb83c7d9e28f4cc99": {
      "model_module": "@jupyter-widgets/base",
      "model_module_version": "1.2.0",
      "model_name": "LayoutModel",
      "state": {
       "_model_module": "@jupyter-widgets/base",
       "_model_module_version": "1.2.0",
       "_model_name": "LayoutModel",
       "_view_count": null,
       "_view_module": "@jupyter-widgets/base",
       "_view_module_version": "1.2.0",
       "_view_name": "LayoutView",
       "align_content": null,
       "align_items": null,
       "align_self": null,
       "border": null,
       "bottom": null,
       "display": null,
       "flex": null,
       "flex_flow": null,
       "grid_area": null,
       "grid_auto_columns": null,
       "grid_auto_flow": null,
       "grid_auto_rows": null,
       "grid_column": null,
       "grid_gap": null,
       "grid_row": null,
       "grid_template_areas": null,
       "grid_template_columns": null,
       "grid_template_rows": null,
       "height": null,
       "justify_content": null,
       "justify_items": null,
       "left": null,
       "margin": null,
       "max_height": null,
       "max_width": null,
       "min_height": null,
       "min_width": null,
       "object_fit": null,
       "object_position": null,
       "order": null,
       "overflow": null,
       "overflow_x": null,
       "overflow_y": null,
       "padding": null,
       "right": null,
       "top": null,
       "visibility": null,
       "width": null
      }
     },
     "f3c3f6efa1c94f72831dba1432afac97": {
      "model_module": "@jupyter-widgets/controls",
      "model_module_version": "1.5.0",
      "model_name": "HTMLModel",
      "state": {
       "_dom_classes": [],
       "_model_module": "@jupyter-widgets/controls",
       "_model_module_version": "1.5.0",
       "_model_name": "HTMLModel",
       "_view_count": null,
       "_view_module": "@jupyter-widgets/controls",
       "_view_module_version": "1.5.0",
       "_view_name": "HTMLView",
       "description": "",
       "description_tooltip": null,
       "layout": "IPY_MODEL_eea06f3d0f2b4f1eb83c7d9e28f4cc99",
       "placeholder": "​",
       "style": "IPY_MODEL_266a3e208f1b4bedb49a82e0f83e14ca",
       "value": "<h4>Closed PRs for org: <code>ipython</code></h4>\n<h5><a href=\"https://github.com/ipython/ipykernel\">ipython/ipykernel</a></h5>\n<ul>\n<li><a href=\"https://github.com/ipython/ipykernel/pull/448\">(#448)</a>: <em>Fix comment typo</em> by <strong><a href=\"https://github.com/kinow\">@kinow</a></strong> merged by <strong><a href=\"https://github.com/blink1073\">@blink1073</a></strong></li>\n<li><a href=\"https://github.com/ipython/ipykernel/pull/445\">(#445)</a>: <em>PR: Add flaky</em> by <strong><a href=\"https://github.com/impact27\">@impact27</a></strong> merged by <strong><a href=\"https://github.com/blink1073\">@blink1073</a></strong></li>\n<li><a href=\"https://github.com/ipython/ipykernel/pull/441\">(#441)</a>: <em>PR: Disable AppNap</em> by <strong><a href=\"https://github.com/impact27\">@impact27</a></strong> merged by <strong><a href=\"https://github.com/blink1073\">@blink1073</a></strong></li>\n<li><a href=\"https://github.com/ipython/ipykernel/pull/434\">(#434)</a>: <em>Add release notes for 5.1.3</em> by <strong><a href=\"https://github.com/blink1073\">@blink1073</a></strong> merged by <strong><a href=\"https://github.com/blink1073\">@blink1073</a></strong></li>\n</ul>\n<h5><a href=\"https://github.com/ipython/ipython\">ipython/ipython</a></h5>\n<ul>\n<li><a href=\"https://github.com/ipython/ipython/pull/11910\">(#11910)</a>: <em>restore terminal title on exit (xterm)</em> by <strong><a href=\"https://github.com/pasenor\">@pasenor</a></strong> merged by <strong><a href=\"https://github.com/Carreau\">@Carreau</a></strong></li>\n<li><a href=\"https://github.com/ipython/ipython/pull/11877\">(#11877)</a>: <em>Prevent caching outputs in </em>, __, ___ when cache_size isn't positive_ by <strong><a href=\"https://github.com/mhsekhavat\">@mhsekhavat</a></strong> merged by <strong><a href=\"https://github.com/Carreau\">@Carreau</a></strong></li>\n</ul>"
      }
     },
     "f4c8121bb0b44c0899481464c6e4a96e": {
      "model_module": "@jupyter-widgets/controls",
      "model_module_version": "1.5.0",
      "model_name": "DescriptionStyleModel",
      "state": {
       "_model_module": "@jupyter-widgets/controls",
       "_model_module_version": "1.5.0",
       "_model_name": "DescriptionStyleModel",
       "_view_count": null,
       "_view_module": "@jupyter-widgets/base",
       "_view_module_version": "1.2.0",
       "_view_name": "StyleView",
       "description_width": ""
      }
     },
     "f7490a16d8ad4cc9a18aea88e9a08031": {
      "model_module": "@jupyter-widgets/base",
      "model_module_version": "1.2.0",
      "model_name": "LayoutModel",
      "state": {
       "_model_module": "@jupyter-widgets/base",
       "_model_module_version": "1.2.0",
       "_model_name": "LayoutModel",
       "_view_count": null,
       "_view_module": "@jupyter-widgets/base",
       "_view_module_version": "1.2.0",
       "_view_name": "LayoutView",
       "align_content": null,
       "align_items": null,
       "align_self": null,
       "border": null,
       "bottom": null,
       "display": null,
       "flex": null,
       "flex_flow": null,
       "grid_area": null,
       "grid_auto_columns": null,
       "grid_auto_flow": null,
       "grid_auto_rows": null,
       "grid_column": null,
       "grid_gap": null,
       "grid_row": null,
       "grid_template_areas": null,
       "grid_template_columns": null,
       "grid_template_rows": null,
       "height": null,
       "justify_content": null,
       "justify_items": null,
       "left": null,
       "margin": null,
       "max_height": null,
       "max_width": null,
       "min_height": null,
       "min_width": null,
       "object_fit": null,
       "object_position": null,
       "order": null,
       "overflow": null,
       "overflow_x": null,
       "overflow_y": null,
       "padding": null,
       "right": null,
       "top": null,
       "visibility": null,
       "width": null
      }
     },
     "f83df54ddfb94a73976c80f2a6ac85ca": {
      "model_module": "@jupyter-widgets/controls",
      "model_module_version": "1.5.0",
      "model_name": "HTMLModel",
      "state": {
       "_dom_classes": [],
       "_model_module": "@jupyter-widgets/controls",
       "_model_module_version": "1.5.0",
       "_model_name": "HTMLModel",
       "_view_count": null,
       "_view_module": "@jupyter-widgets/controls",
       "_view_module_version": "1.5.0",
       "_view_name": "HTMLView",
       "description": "",
       "description_tooltip": null,
       "layout": "IPY_MODEL_08eee56b98824255a404c5b2aa3a73ee",
       "placeholder": "​",
       "style": "IPY_MODEL_6e8df8dfd3324c9d83b9d7ff6f18f1ac",
       "value": "<center><p><a href=\"https://github.com/ablekh\">ablekh</a> | <a href=\"https://github.com/aicampbell\">aicampbell</a> | <a href=\"https://github.com/akaszynski\">akaszynski</a> | <a href=\"https://github.com/albertmichaelj\">albertmichaelj</a> | <a href=\"https://github.com/andy47\">andy47</a> | <a href=\"https://github.com/AnotherCodeArtist\">AnotherCodeArtist</a> | <a href=\"https://github.com/antoniokaust\">antoniokaust</a> | <a href=\"https://github.com/apoliakevitch\">apoliakevitch</a> | <a href=\"https://github.com/arnim\">arnim</a> | <a href=\"https://github.com/aryeh-looker\">aryeh-looker</a> | <a href=\"https://github.com/bbengfort\">bbengfort</a> | <a href=\"https://github.com/bdrian\">bdrian</a> | <a href=\"https://github.com/Ben-Epstein\">Ben-Epstein</a> | <a href=\"https://github.com/BertR\">BertR</a> | <a href=\"https://github.com/betatim\">betatim</a> | <a href=\"https://github.com/bitnik\">bitnik</a> | <a href=\"https://github.com/BobCashStory\">BobCashStory</a> | <a href=\"https://github.com/carldowthwaite\">carldowthwaite</a> | <a href=\"https://github.com/caviri\">caviri</a> | <a href=\"https://github.com/cblomart\">cblomart</a> | <a href=\"https://github.com/celine168\">celine168</a> | <a href=\"https://github.com/chicocvenancio\">chicocvenancio</a> | <a href=\"https://github.com/chmendoza\">chmendoza</a> | <a href=\"https://github.com/choldgraf\">choldgraf</a> | <a href=\"https://github.com/chrisillapacloud\">chrisillapacloud</a> | <a href=\"https://github.com/Chrisjw42\">Chrisjw42</a> | <a href=\"https://github.com/clkao\">clkao</a> | <a href=\"https://github.com/cmseal\">cmseal</a> | <a href=\"https://github.com/cometta\">cometta</a> | <a href=\"https://github.com/consideRatio\">consideRatio</a> | <a href=\"https://github.com/crauterb\">crauterb</a> | <a href=\"https://github.com/cwaldbieser\">cwaldbieser</a> | <a href=\"https://github.com/danielballan\">danielballan</a> | <a href=\"https://github.com/dhirschfeld\">dhirschfeld</a> | <a href=\"https://github.com/dirkcgrunwald\">dirkcgrunwald</a> | <a href=\"https://github.com/diurnalist\">diurnalist</a> | <a href=\"https://github.com/djangoliv\">djangoliv</a> | <a href=\"https://github.com/dmpe\">dmpe</a> | <a href=\"https://github.com/dschofield\">dschofield</a> | <a href=\"https://github.com/enolfc\">enolfc</a> | <a href=\"https://github.com/eylenth\">eylenth</a> | <a href=\"https://github.com/filippo82\">filippo82</a> | <a href=\"https://github.com/fomightez\">fomightez</a> | <a href=\"https://github.com/fzeiser\">fzeiser</a> | <a href=\"https://github.com/gareth-j\">gareth-j</a> | <a href=\"https://github.com/GeorgianaElena\">GeorgianaElena</a> | <a href=\"https://github.com/GergelyKalmar\">GergelyKalmar</a> | <a href=\"https://github.com/GrahamDumpleton\">GrahamDumpleton</a> | <a href=\"https://github.com/greg-dusek\">greg-dusek</a> | <a href=\"https://github.com/gsemet\">gsemet</a> | <a href=\"https://github.com/guzman-raphael\">guzman-raphael</a> | <a href=\"https://github.com/gveltri\">gveltri</a> | <a href=\"https://github.com/hdlbq\">hdlbq</a> | <a href=\"https://github.com/heavenkong\">heavenkong</a> | <a href=\"https://github.com/hnykda\">hnykda</a> | <a href=\"https://github.com/ian-r-rose\">ian-r-rose</a> | <a href=\"https://github.com/Ignatiusdork\">Ignatiusdork</a> | <a href=\"https://github.com/iranika\">iranika</a> | <a href=\"https://github.com/ivan-gomes\">ivan-gomes</a> | <a href=\"https://github.com/jacobtomlinson\">jacobtomlinson</a> | <a href=\"https://github.com/jakepaw\">jakepaw</a> | <a href=\"https://github.com/jbaksta\">jbaksta</a> | <a href=\"https://github.com/jbetzend\">jbetzend</a> | <a href=\"https://github.com/Jchappell01\">Jchappell01</a> | <a href=\"https://github.com/jhamman\">jhamman</a> | <a href=\"https://github.com/jhgoebbert\">jhgoebbert</a> | <a href=\"https://github.com/jkfm\">jkfm</a> | <a href=\"https://github.com/joelion\">joelion</a> | <a href=\"https://github.com/jtpio\">jtpio</a> | <a href=\"https://github.com/JulianWgs\">JulianWgs</a> | <a href=\"https://github.com/kadu9\">kadu9</a> | <a href=\"https://github.com/kaseyhackspace\">kaseyhackspace</a> | <a href=\"https://github.com/KenjiGwonin\">KenjiGwonin</a> | <a href=\"https://github.com/kfox1111\">kfox1111</a> | <a href=\"https://github.com/kinow\">kinow</a> | <a href=\"https://github.com/KirstieJane\">KirstieJane</a> | <a href=\"https://github.com/kramstrom\">kramstrom</a> | <a href=\"https://github.com/krinsman\">krinsman</a> | <a href=\"https://github.com/ktaletsk\">ktaletsk</a> | <a href=\"https://github.com/lapeng\">lapeng</a> | <a href=\"https://github.com/LaurentGoderre\">LaurentGoderre</a> | <a href=\"https://github.com/leinad87\">leinad87</a> | <a href=\"https://github.com/leportella\">leportella</a> | <a href=\"https://github.com/liffiton\">liffiton</a> | <a href=\"https://github.com/liliarizona\">liliarizona</a> | <a href=\"https://github.com/ltetrel\">ltetrel</a> | <a href=\"https://github.com/m2hofi94\">m2hofi94</a> | <a href=\"https://github.com/manics\">manics</a> | <a href=\"https://github.com/marhoy\">marhoy</a> | <a href=\"https://github.com/mathematicalmichael\">mathematicalmichael</a> | <a href=\"https://github.com/MBcom\">MBcom</a> | <a href=\"https://github.com/metasim\">metasim</a> | <a href=\"https://github.com/metonymic-smokey\">metonymic-smokey</a> | <a href=\"https://github.com/michitaro\">michitaro</a> | <a href=\"https://github.com/minrk\">minrk</a> | <a href=\"https://github.com/mrocklin\">mrocklin</a> | <a href=\"https://github.com/mrow4a\">mrow4a</a> | <a href=\"https://github.com/mschroering\">mschroering</a> | <a href=\"https://github.com/muxator\">muxator</a> | <a href=\"https://github.com/n3o-Bhushan\">n3o-Bhushan</a> | <a href=\"https://github.com/navneetkrverma\">navneetkrverma</a> | <a href=\"https://github.com/nuest\">nuest</a> | <a href=\"https://github.com/oguttu\">oguttu</a> | <a href=\"https://github.com/OrthoDex\">OrthoDex</a> | <a href=\"https://github.com/ParkvilleData\">ParkvilleData</a> | <a href=\"https://github.com/pdurbin\">pdurbin</a> | <a href=\"https://github.com/philvarner\">philvarner</a> | <a href=\"https://github.com/playermanny2\">playermanny2</a> | <a href=\"https://github.com/psychemedia\">psychemedia</a> | <a href=\"https://github.com/PuckCh\">PuckCh</a> | <a href=\"https://github.com/r4mmer\">r4mmer</a> | <a href=\"https://github.com/raethlein\">raethlein</a> | <a href=\"https://github.com/rajat404\">rajat404</a> | <a href=\"https://github.com/ramkrishnan8994\">ramkrishnan8994</a> | <a href=\"https://github.com/rcthomas\">rcthomas</a> | <a href=\"https://github.com/riazarbi\">riazarbi</a> | <a href=\"https://github.com/rkdarst\">rkdarst</a> | <a href=\"https://github.com/rochaporto\">rochaporto</a> | <a href=\"https://github.com/rokroskar\">rokroskar</a> | <a href=\"https://github.com/rpwagner\">rpwagner</a> | <a href=\"https://github.com/rschauf\">rschauf</a> | <a href=\"https://github.com/ryanlovett\">ryanlovett</a> | <a href=\"https://github.com/ryogesh\">ryogesh</a> | <a href=\"https://github.com/s-ansa\">s-ansa</a> | <a href=\"https://github.com/sampathkethineedi\">sampathkethineedi</a> | <a href=\"https://github.com/saulshanabrook\">saulshanabrook</a> | <a href=\"https://github.com/sblack-usu\">sblack-usu</a> | <a href=\"https://github.com/scottyhq\">scottyhq</a> | <a href=\"https://github.com/sgibson91\">sgibson91</a> | <a href=\"https://github.com/sgloutnikov\">sgloutnikov</a> | <a href=\"https://github.com/shitala-cuelogic\">shitala-cuelogic</a> | <a href=\"https://github.com/smparekh\">smparekh</a> | <a href=\"https://github.com/stefansedich\">stefansedich</a> | <a href=\"https://github.com/stv0g\">stv0g</a> | <a href=\"https://github.com/sunmakrules\">sunmakrules</a> | <a href=\"https://github.com/suryag10\">suryag10</a> | <a href=\"https://github.com/takluyver\">takluyver</a> | <a href=\"https://github.com/tarekmehrez\">tarekmehrez</a> | <a href=\"https://github.com/timhughes\">timhughes</a> | <a href=\"https://github.com/tirkarthi\">tirkarthi</a> | <a href=\"https://github.com/tonyyang-svail\">tonyyang-svail</a> | <a href=\"https://github.com/trallard\">trallard</a> | <a href=\"https://github.com/TuSKan\">TuSKan</a> | <a href=\"https://github.com/tyu0912\">tyu0912</a> | <a href=\"https://github.com/Ufaowl\">Ufaowl</a> | <a href=\"https://github.com/vilhelmen\">vilhelmen</a> | <a href=\"https://github.com/vindvaki\">vindvaki</a> | <a href=\"https://github.com/vnijs\">vnijs</a> | <a href=\"https://github.com/willingc\">willingc</a> | <a href=\"https://github.com/wmoore28\">wmoore28</a> | <a href=\"https://github.com/Xarthisius\">Xarthisius</a> | <a href=\"https://github.com/xiedidan\">xiedidan</a> | <a href=\"https://github.com/yertaitanai\">yertaitanai</a> | <a href=\"https://github.com/yfoo\">yfoo</a> | <a href=\"https://github.com/yuvipanda\">yuvipanda</a> | <a href=\"https://github.com/zhiyuli\">zhiyuli</a> | <a href=\"https://github.com/Zsailer\">Zsailer</a></p></center>"
      }
     },
     "f97dc9f8e13c4da0aa6f3c99e597611f": {
      "model_module": "@jupyter-widgets/controls",
      "model_module_version": "1.5.0",
      "model_name": "DescriptionStyleModel",
      "state": {
       "_model_module": "@jupyter-widgets/controls",
       "_model_module_version": "1.5.0",
       "_model_name": "DescriptionStyleModel",
       "_view_count": null,
       "_view_module": "@jupyter-widgets/base",
       "_view_module_version": "1.2.0",
       "_view_name": "StyleView",
       "description_width": ""
      }
     }
    },
    "version_major": 2,
    "version_minor": 0
   }
  }
 },
 "nbformat": 4,
 "nbformat_minor": 4
}