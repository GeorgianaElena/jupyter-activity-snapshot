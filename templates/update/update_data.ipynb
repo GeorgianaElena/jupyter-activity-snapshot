{
 "cells": [
  {
   "cell_type": "markdown",
   "metadata": {},
   "source": [
    "# Update data\n",
    "\n",
    "This notebook downlads recent GitHub activity for a number of organizations.\n",
    "\n",
    "It will extract all issues, PRs, and comments that were updated within a\n",
    "window of interest. It will then save them to disk as CSV files."
   ]
  },
  {
   "cell_type": "code",
   "execution_count": 1,
   "metadata": {},
   "outputs": [],
   "source": [
    "from update_mod import GitHubGraphQlQuery, extract_comments"
   ]
  },
  {
   "cell_type": "code",
   "execution_count": 2,
   "metadata": {
    "tags": [
     "hide_input"
    ]
   },
   "outputs": [],
   "source": [
    "import requests\n",
    "import pandas as pd\n",
    "import numpy as np\n",
    "import os\n",
    "from datetime import timedelta\n",
    "from ipywidgets import widgets\n",
    "from IPython.display import display\n",
    "import os.path as op"
   ]
  },
  {
   "cell_type": "code",
   "execution_count": 3,
   "metadata": {
    "tags": [
     "parameters",
     "hide_input"
    ]
   },
   "outputs": [],
   "source": [
    "fmt = \"{:%Y-%m-%d}\"\n",
    "\n",
    "# Can optionally use number of days to choose dates\n",
    "end_date = pd.datetime.today()\n",
    "\n",
    "github_orgs = [\"jupyterhub\", \"jupyter\", \"jupyterlab\", \"jupyter-widgets\", \"ipython\", \"binder-examples\", \"nteract\"]\n",
    "# github_orgs = ['jupyter']"
   ]
  },
  {
   "cell_type": "code",
   "execution_count": 4,
   "metadata": {},
   "outputs": [],
   "source": [
    "# Calculate number of days to include in plots\n",
    "end_date = pd.to_datetime(end_date)\n",
    "end_date_str = fmt.format(end_date)"
   ]
  },
  {
   "cell_type": "markdown",
   "metadata": {},
   "source": [
    "# GitHub activity\n",
    "\n",
    "Jupyter also has lots of activity across GitHub repositories. The following sections contain\n",
    "overviews of recent activity across the following GitHub organizations:"
   ]
  },
  {
   "cell_type": "markdown",
   "metadata": {},
   "source": [
    "## Update all data"
   ]
  },
  {
   "cell_type": "code",
   "execution_count": 5,
   "metadata": {},
   "outputs": [],
   "source": [
    "path_data = op.join('..', '..', 'data')"
   ]
  },
  {
   "cell_type": "code",
   "execution_count": 13,
   "metadata": {},
   "outputs": [
    {
     "name": "stdout",
     "output_type": "stream",
     "text": [
      "===\n",
      "jupyterhub\n",
      "===\n",
      "\n",
      "\n",
      "Found 498 items, which will take 10 pages\n"
     ]
    },
    {
     "data": {
      "application/vnd.jupyter.widget-view+json": {
       "model_id": "ede2ace1ab9246049f0533adc212c08c",
       "version_major": 2,
       "version_minor": 0
      },
      "text/plain": [
       "IntProgress(value=0, description='Downloading:', max=10)"
      ]
     },
     "metadata": {},
     "output_type": "display_data"
    },
    {
     "name": "stdout",
     "output_type": "stream",
     "text": [
      "Found 237 items, which will take 5 pages\n"
     ]
    },
    {
     "data": {
      "application/vnd.jupyter.widget-view+json": {
       "model_id": "e382dd7cb50e4d4f9892ed28ea9a451c",
       "version_major": 2,
       "version_minor": 0
      },
      "text/plain": [
       "IntProgress(value=0, description='Downloading:', max=5)"
      ]
     },
     "metadata": {},
     "output_type": "display_data"
    },
    {
     "name": "stderr",
     "output_type": "stream",
     "text": [
      "/home/choldgraf/anaconda/envs/dev/lib/python3.7/site-packages/ipykernel_launcher.py:48: FutureWarning: Sorting because non-concatenation axis is not aligned. A future version\n",
      "of pandas will change to not sort by default.\n",
      "\n",
      "To accept the future behavior, pass 'sort=False'.\n",
      "\n",
      "To retain the current behavior and silence the warning, pass 'sort=True'.\n",
      "\n",
      "/home/choldgraf/anaconda/envs/dev/lib/python3.7/site-packages/ipykernel_launcher.py:49: FutureWarning: Sorting because non-concatenation axis is not aligned. A future version\n",
      "of pandas will change to not sort by default.\n",
      "\n",
      "To accept the future behavior, pass 'sort=False'.\n",
      "\n",
      "To retain the current behavior and silence the warning, pass 'sort=True'.\n",
      "\n",
      "/home/choldgraf/anaconda/envs/dev/lib/python3.7/site-packages/ipykernel_launcher.py:50: FutureWarning: Sorting because non-concatenation axis is not aligned. A future version\n",
      "of pandas will change to not sort by default.\n",
      "\n",
      "To accept the future behavior, pass 'sort=False'.\n",
      "\n",
      "To retain the current behavior and silence the warning, pass 'sort=True'.\n",
      "\n"
     ]
    },
    {
     "name": "stdout",
     "output_type": "stream",
     "text": [
      "===\n",
      "jupyter\n",
      "===\n",
      "\n",
      "\n",
      "Found 692 items, which will take 14 pages\n"
     ]
    },
    {
     "data": {
      "application/vnd.jupyter.widget-view+json": {
       "model_id": "90f54e4f686149fd80ecbc7057608792",
       "version_major": 2,
       "version_minor": 0
      },
      "text/plain": [
       "IntProgress(value=0, description='Downloading:', max=14)"
      ]
     },
     "metadata": {},
     "output_type": "display_data"
    },
    {
     "name": "stdout",
     "output_type": "stream",
     "text": [
      "Found 335 items, which will take 7 pages\n"
     ]
    },
    {
     "data": {
      "application/vnd.jupyter.widget-view+json": {
       "model_id": "e05be5cf94784783b34dfba0d9831134",
       "version_major": 2,
       "version_minor": 0
      },
      "text/plain": [
       "IntProgress(value=0, description='Downloading:', max=7)"
      ]
     },
     "metadata": {},
     "output_type": "display_data"
    },
    {
     "name": "stdout",
     "output_type": "stream",
     "text": [
      "===\n",
      "jupyterlab\n",
      "===\n",
      "\n",
      "\n",
      "Found 716 items, which will take 15 pages\n"
     ]
    },
    {
     "data": {
      "application/vnd.jupyter.widget-view+json": {
       "model_id": "32499c185bc247758fc0ef081c0b4601",
       "version_major": 2,
       "version_minor": 0
      },
      "text/plain": [
       "IntProgress(value=0, description='Downloading:', max=15)"
      ]
     },
     "metadata": {},
     "output_type": "display_data"
    },
    {
     "name": "stdout",
     "output_type": "stream",
     "text": [
      "Found 273 items, which will take 6 pages\n"
     ]
    },
    {
     "data": {
      "application/vnd.jupyter.widget-view+json": {
       "model_id": "fa10ebddb92b421388722055172d1704",
       "version_major": 2,
       "version_minor": 0
      },
      "text/plain": [
       "IntProgress(value=0, description='Downloading:', max=6)"
      ]
     },
     "metadata": {},
     "output_type": "display_data"
    },
    {
     "name": "stdout",
     "output_type": "stream",
     "text": [
      "===\n",
      "jupyter-widgets\n",
      "===\n",
      "\n",
      "\n",
      "Found 106 items, which will take 3 pages\n"
     ]
    },
    {
     "data": {
      "application/vnd.jupyter.widget-view+json": {
       "model_id": "f4af060452344230ab002e4aa2bb7c1d",
       "version_major": 2,
       "version_minor": 0
      },
      "text/plain": [
       "IntProgress(value=0, description='Downloading:', max=3)"
      ]
     },
     "metadata": {},
     "output_type": "display_data"
    },
    {
     "name": "stdout",
     "output_type": "stream",
     "text": [
      "Found 36 items, which will take 1 pages\n",
      "===\n",
      "ipython\n",
      "===\n",
      "\n",
      "\n",
      "Found 132 items, which will take 3 pages\n"
     ]
    },
    {
     "data": {
      "application/vnd.jupyter.widget-view+json": {
       "model_id": "bde37d09a8eb484f906aadf2b65ef02d",
       "version_major": 2,
       "version_minor": 0
      },
      "text/plain": [
       "IntProgress(value=0, description='Downloading:', max=3)"
      ]
     },
     "metadata": {},
     "output_type": "display_data"
    },
    {
     "name": "stdout",
     "output_type": "stream",
     "text": [
      "Found 42 items, which will take 1 pages\n",
      "===\n",
      "binder-examples\n",
      "===\n",
      "\n",
      "\n",
      "Found 4 items, which will take 1 pages\n",
      "Found 7 items, which will take 1 pages\n",
      "===\n",
      "nteract\n",
      "===\n",
      "\n",
      "\n",
      "Found 322 items, which will take 7 pages\n"
     ]
    },
    {
     "data": {
      "application/vnd.jupyter.widget-view+json": {
       "model_id": "41b42595c3534b2ebba1b92736e89c8b",
       "version_major": 2,
       "version_minor": 0
      },
      "text/plain": [
       "IntProgress(value=0, description='Downloading:', max=7)"
      ]
     },
     "metadata": {},
     "output_type": "display_data"
    },
    {
     "name": "stdout",
     "output_type": "stream",
     "text": [
      "Found 124 items, which will take 3 pages\n"
     ]
    },
    {
     "data": {
      "application/vnd.jupyter.widget-view+json": {
       "model_id": "651800f2683540678b9540c96ae73a4b",
       "version_major": 2,
       "version_minor": 0
      },
      "text/plain": [
       "IntProgress(value=0, description='Downloading:', max=3)"
      ]
     },
     "metadata": {},
     "output_type": "display_data"
    }
   ],
   "source": [
    "for org in github_orgs:\n",
    "    print(f'===\\n{org}\\n===\\n\\n')\n",
    "    # Load in previous data if we have it\n",
    "    path_data_org = op.join(path_data, org)\n",
    "    path_prs = op.join(path_data_org, 'prs.csv')\n",
    "    path_issues = op.join(path_data_org, 'issues.csv')\n",
    "    path_comments = op.join(path_data_org, 'comments.csv')\n",
    "    prs_old = pd.read_csv(path_prs, index_col=0)\n",
    "    issues_old = pd.read_csv(path_issues, index_col=0)\n",
    "    comments_old = pd.read_csv(path_comments, index_col=0)\n",
    "\n",
    "    # The latest updated time, we'll update `start_date_str` so we don't re-download unnecessarily\n",
    "    latest_date = pd.to_datetime(comments_old['updatedAt'].max())\n",
    "    start_date_str = fmt.format(latest_date)\n",
    "    \n",
    "    # Issues\n",
    "    query_issues = f\"is:issue user:{org} updated:{start_date_str}..{end_date_str}\"\n",
    "    ghq_issues = GitHubGraphQlQuery(query_issues)\n",
    "    ghq_issues.request()\n",
    "    if ghq_issues.data is None:\n",
    "        continue\n",
    "\n",
    "    issues = ghq_issues.data\n",
    "    issues_comments = issues.pop(\"comments\")\n",
    "    issues_comments = extract_comments(issues_comments)\n",
    "    \n",
    "    # Pull Requests\n",
    "    query_prs = f\"is:pr user:{org} created:{start_date_str}..{end_date_str}\"\n",
    "    ghq_prs = GitHubGraphQlQuery(query_prs)\n",
    "    ghq_prs.request()\n",
    "    if ghq_prs.data is None:\n",
    "        continue\n",
    "\n",
    "    prs = ghq_prs.data\n",
    "    prs_comments = prs.pop('comments')\n",
    "    prs_comments = extract_comments(prs_comments)\n",
    "    \n",
    "    # Add a PR-specific field for closed PRs\n",
    "    prs['mergedBy'] = prs['mergedBy'].map(lambda a: a['login'] if a is not None else None)\n",
    "    \n",
    "    # Extract the comments\n",
    "    comments = pd.concat([prs_comments, issues_comments])\n",
    "\n",
    "    # Only keep the comments within our window of interest\n",
    "    comments = comments.query('updatedAt > @start_date_str and updatedAt < @end_date_str')\n",
    "\n",
    "    # Update the data for this org\n",
    "    comments_new = pd.concat([comments_old, comments]).drop_duplicates(subset=['id'], keep='last').sort_values('createdAt', ascending=False)\n",
    "    issues_new = pd.concat([issues_old, issues]).drop_duplicates(subset=['id'], keep='last').sort_values('createdAt', ascending=False)\n",
    "    prs_new = pd.concat([prs_old, prs]).drop_duplicates(subset=['id'], keep='last').sort_values('createdAt', ascending=False)\n",
    "    \n",
    "    # Drop all duplicates\n",
    "    prs_new = prs_new.drop_duplicates(subset=['id'])\n",
    "    issues_new = issues_new.drop_duplicates(subset=['id'])\n",
    "    comments_new = comments_new.drop_duplicates(subset=['id'])\n",
    "    \n",
    "    # Save the data\n",
    "    prs_new.to_csv(op.join(path_data_org, 'prs.csv'))\n",
    "    issues_new.to_csv(op.join(path_data_org, 'issues.csv'))\n",
    "    comments_new.to_csv(op.join(path_data_org, 'comments.csv'))"
   ]
  },
  {
   "cell_type": "code",
   "execution_count": null,
   "metadata": {},
   "outputs": [],
   "source": []
  }
 ],
 "metadata": {
  "kernelspec": {
   "display_name": "Python 3",
   "language": "python",
   "name": "python3"
  },
  "language_info": {
   "codemirror_mode": {
    "name": "ipython",
    "version": 3
   },
   "file_extension": ".py",
   "mimetype": "text/x-python",
   "name": "python",
   "nbconvert_exporter": "python",
   "pygments_lexer": "ipython3",
   "version": "3.7.3"
  },
  "widgets": {
   "application/vnd.jupyter.widget-state+json": {
    "state": {
     "05b213ab2d8244f8964efe8f6327b1c7": {
      "model_module": "@jupyter-widgets/controls",
      "model_module_version": "1.5.0",
      "model_name": "ProgressStyleModel",
      "state": {
       "description_width": ""
      }
     },
     "14736828e6ad44fa8cabf2f07393d7b2": {
      "model_module": "@jupyter-widgets/controls",
      "model_module_version": "1.5.0",
      "model_name": "ProgressStyleModel",
      "state": {
       "description_width": ""
      }
     },
     "1e4f697694cd4d6c8a536e5a1623ad94": {
      "model_module": "@jupyter-widgets/controls",
      "model_module_version": "1.5.0",
      "model_name": "ProgressStyleModel",
      "state": {
       "description_width": ""
      }
     },
     "219f790d12cc4187b94124bcbb672d1b": {
      "model_module": "@jupyter-widgets/controls",
      "model_module_version": "1.5.0",
      "model_name": "IntProgressModel",
      "state": {
       "bar_style": "success",
       "description": "Downloading:",
       "layout": "IPY_MODEL_c77c4f53fb974d06a6b30584561ee4ce",
       "max": 1,
       "style": "IPY_MODEL_7fb1978e14be4b13a3165c27f1bd671d",
       "value": 1
      }
     },
     "27425847fd484fadb6c6a4f7a24b19a5": {
      "model_module": "@jupyter-widgets/controls",
      "model_module_version": "1.5.0",
      "model_name": "ProgressStyleModel",
      "state": {
       "description_width": ""
      }
     },
     "2772da1923fa4658a9d3c84eb56e620f": {
      "model_module": "@jupyter-widgets/controls",
      "model_module_version": "1.5.0",
      "model_name": "ProgressStyleModel",
      "state": {
       "description_width": ""
      }
     },
     "310f782815cd48f694cbaac51811bbeb": {
      "model_module": "@jupyter-widgets/base",
      "model_module_version": "1.2.0",
      "model_name": "LayoutModel",
      "state": {}
     },
     "32499c185bc247758fc0ef081c0b4601": {
      "model_module": "@jupyter-widgets/controls",
      "model_module_version": "1.5.0",
      "model_name": "IntProgressModel",
      "state": {
       "bar_style": "success",
       "description": "Downloading:",
       "layout": "IPY_MODEL_911cccefe97447ba9255a77a66af0cc9",
       "max": 15,
       "style": "IPY_MODEL_eee787cbac824f88b038d20ff34b0e99",
       "value": 15
      }
     },
     "33216d7b35a64679874f2d0da3632221": {
      "model_module": "@jupyter-widgets/base",
      "model_module_version": "1.2.0",
      "model_name": "LayoutModel",
      "state": {}
     },
     "41b42595c3534b2ebba1b92736e89c8b": {
      "model_module": "@jupyter-widgets/controls",
      "model_module_version": "1.5.0",
      "model_name": "IntProgressModel",
      "state": {
       "bar_style": "success",
       "description": "Downloading:",
       "layout": "IPY_MODEL_612c25cdb4cd4a4e9ee3b8965f331531",
       "max": 7,
       "style": "IPY_MODEL_f1651aeff08c4a26aec5b828c163e50c",
       "value": 7
      }
     },
     "51b4671d37864278b5d665e9907548c8": {
      "model_module": "@jupyter-widgets/controls",
      "model_module_version": "1.5.0",
      "model_name": "IntProgressModel",
      "state": {
       "bar_style": "success",
       "description": "Downloading:",
       "layout": "IPY_MODEL_310f782815cd48f694cbaac51811bbeb",
       "max": 1,
       "style": "IPY_MODEL_14736828e6ad44fa8cabf2f07393d7b2",
       "value": 1
      }
     },
     "5416a973261a437b8dc5eef0dcf6aa03": {
      "model_module": "@jupyter-widgets/base",
      "model_module_version": "1.2.0",
      "model_name": "LayoutModel",
      "state": {}
     },
     "612c25cdb4cd4a4e9ee3b8965f331531": {
      "model_module": "@jupyter-widgets/base",
      "model_module_version": "1.2.0",
      "model_name": "LayoutModel",
      "state": {}
     },
     "651800f2683540678b9540c96ae73a4b": {
      "model_module": "@jupyter-widgets/controls",
      "model_module_version": "1.5.0",
      "model_name": "IntProgressModel",
      "state": {
       "bar_style": "success",
       "description": "Downloading:",
       "layout": "IPY_MODEL_95bf5fbc7a71493d8b5bb413da97b38d",
       "max": 3,
       "style": "IPY_MODEL_832aff9462bf40458caf100fbeac13e8",
       "value": 3
      }
     },
     "659eff3e91074d79bcec8533197c7431": {
      "model_module": "@jupyter-widgets/controls",
      "model_module_version": "1.5.0",
      "model_name": "ProgressStyleModel",
      "state": {
       "description_width": ""
      }
     },
     "6660e8a2b95c4d469a230fd3263ef513": {
      "model_module": "@jupyter-widgets/base",
      "model_module_version": "1.2.0",
      "model_name": "LayoutModel",
      "state": {}
     },
     "7478ce06761e45ae95b8615a758303d2": {
      "model_module": "@jupyter-widgets/controls",
      "model_module_version": "1.5.0",
      "model_name": "ProgressStyleModel",
      "state": {
       "description_width": ""
      }
     },
     "7632a34f59974f09af7a72953ddd5621": {
      "model_module": "@jupyter-widgets/base",
      "model_module_version": "1.2.0",
      "model_name": "LayoutModel",
      "state": {}
     },
     "77dda3510e0a4e65ae5e89aeb2cf211d": {
      "model_module": "@jupyter-widgets/controls",
      "model_module_version": "1.5.0",
      "model_name": "ProgressStyleModel",
      "state": {
       "description_width": ""
      }
     },
     "7fb1978e14be4b13a3165c27f1bd671d": {
      "model_module": "@jupyter-widgets/controls",
      "model_module_version": "1.5.0",
      "model_name": "ProgressStyleModel",
      "state": {
       "description_width": ""
      }
     },
     "832aff9462bf40458caf100fbeac13e8": {
      "model_module": "@jupyter-widgets/controls",
      "model_module_version": "1.5.0",
      "model_name": "ProgressStyleModel",
      "state": {
       "description_width": ""
      }
     },
     "854da190a9184ba98034538758608b2c": {
      "model_module": "@jupyter-widgets/controls",
      "model_module_version": "1.5.0",
      "model_name": "ProgressStyleModel",
      "state": {
       "description_width": ""
      }
     },
     "85d05c4231f94c50b49a3687266948cd": {
      "model_module": "@jupyter-widgets/base",
      "model_module_version": "1.2.0",
      "model_name": "LayoutModel",
      "state": {}
     },
     "87491fab7c754fc4bd7983a6a1b83687": {
      "model_module": "@jupyter-widgets/controls",
      "model_module_version": "1.5.0",
      "model_name": "IntProgressModel",
      "state": {
       "bar_style": "success",
       "description": "Downloading:",
       "layout": "IPY_MODEL_daf5bb50d0304df79fa99b747a57e266",
       "max": 10,
       "style": "IPY_MODEL_05b213ab2d8244f8964efe8f6327b1c7",
       "value": 10
      }
     },
     "90f54e4f686149fd80ecbc7057608792": {
      "model_module": "@jupyter-widgets/controls",
      "model_module_version": "1.5.0",
      "model_name": "IntProgressModel",
      "state": {
       "bar_style": "success",
       "description": "Downloading:",
       "layout": "IPY_MODEL_33216d7b35a64679874f2d0da3632221",
       "max": 14,
       "style": "IPY_MODEL_854da190a9184ba98034538758608b2c",
       "value": 14
      }
     },
     "911cccefe97447ba9255a77a66af0cc9": {
      "model_module": "@jupyter-widgets/base",
      "model_module_version": "1.2.0",
      "model_name": "LayoutModel",
      "state": {}
     },
     "95bf5fbc7a71493d8b5bb413da97b38d": {
      "model_module": "@jupyter-widgets/base",
      "model_module_version": "1.2.0",
      "model_name": "LayoutModel",
      "state": {}
     },
     "a91d760a13194f50b91a50c71a4e45af": {
      "model_module": "@jupyter-widgets/controls",
      "model_module_version": "1.5.0",
      "model_name": "ProgressStyleModel",
      "state": {
       "description_width": ""
      }
     },
     "ac44b9f4820c4c33b7d442787a242599": {
      "model_module": "@jupyter-widgets/base",
      "model_module_version": "1.2.0",
      "model_name": "LayoutModel",
      "state": {}
     },
     "acbfe2586cbb4d92a235896a7b5779ea": {
      "model_module": "@jupyter-widgets/controls",
      "model_module_version": "1.5.0",
      "model_name": "ProgressStyleModel",
      "state": {
       "description_width": ""
      }
     },
     "affe601b14884461ad665f63fbc80fe6": {
      "model_module": "@jupyter-widgets/base",
      "model_module_version": "1.2.0",
      "model_name": "LayoutModel",
      "state": {}
     },
     "bbf2a15856854bf3a65a3dbd1d8ab0df": {
      "model_module": "@jupyter-widgets/base",
      "model_module_version": "1.2.0",
      "model_name": "LayoutModel",
      "state": {}
     },
     "bde37d09a8eb484f906aadf2b65ef02d": {
      "model_module": "@jupyter-widgets/controls",
      "model_module_version": "1.5.0",
      "model_name": "IntProgressModel",
      "state": {
       "bar_style": "success",
       "description": "Downloading:",
       "layout": "IPY_MODEL_affe601b14884461ad665f63fbc80fe6",
       "max": 3,
       "style": "IPY_MODEL_2772da1923fa4658a9d3c84eb56e620f",
       "value": 3
      }
     },
     "c77c4f53fb974d06a6b30584561ee4ce": {
      "model_module": "@jupyter-widgets/base",
      "model_module_version": "1.2.0",
      "model_name": "LayoutModel",
      "state": {}
     },
     "d09369c2082b460e97ebe3f6b79d63f5": {
      "model_module": "@jupyter-widgets/base",
      "model_module_version": "1.2.0",
      "model_name": "LayoutModel",
      "state": {}
     },
     "d208d03d9b1544c79296632397a6e5f9": {
      "model_module": "@jupyter-widgets/controls",
      "model_module_version": "1.5.0",
      "model_name": "ProgressStyleModel",
      "state": {
       "description_width": ""
      }
     },
     "daf5bb50d0304df79fa99b747a57e266": {
      "model_module": "@jupyter-widgets/base",
      "model_module_version": "1.2.0",
      "model_name": "LayoutModel",
      "state": {}
     },
     "dd6ea3c5f8634310b675fc90e66c02ef": {
      "model_module": "@jupyter-widgets/controls",
      "model_module_version": "1.5.0",
      "model_name": "IntProgressModel",
      "state": {
       "bar_style": "success",
       "description": "Downloading:",
       "layout": "IPY_MODEL_7632a34f59974f09af7a72953ddd5621",
       "max": 1,
       "style": "IPY_MODEL_7478ce06761e45ae95b8615a758303d2",
       "value": 1
      }
     },
     "dde6ff1362c6468d9cac121e9736fd50": {
      "model_module": "@jupyter-widgets/controls",
      "model_module_version": "1.5.0",
      "model_name": "IntProgressModel",
      "state": {
       "bar_style": "success",
       "description": "Downloading:",
       "layout": "IPY_MODEL_d09369c2082b460e97ebe3f6b79d63f5",
       "max": 1,
       "style": "IPY_MODEL_acbfe2586cbb4d92a235896a7b5779ea",
       "value": 1
      }
     },
     "e05be5cf94784783b34dfba0d9831134": {
      "model_module": "@jupyter-widgets/controls",
      "model_module_version": "1.5.0",
      "model_name": "IntProgressModel",
      "state": {
       "bar_style": "success",
       "description": "Downloading:",
       "layout": "IPY_MODEL_bbf2a15856854bf3a65a3dbd1d8ab0df",
       "max": 7,
       "style": "IPY_MODEL_a91d760a13194f50b91a50c71a4e45af",
       "value": 7
      }
     },
     "e382dd7cb50e4d4f9892ed28ea9a451c": {
      "model_module": "@jupyter-widgets/controls",
      "model_module_version": "1.5.0",
      "model_name": "IntProgressModel",
      "state": {
       "bar_style": "success",
       "description": "Downloading:",
       "layout": "IPY_MODEL_ac44b9f4820c4c33b7d442787a242599",
       "max": 5,
       "style": "IPY_MODEL_1e4f697694cd4d6c8a536e5a1623ad94",
       "value": 5
      }
     },
     "e65acb36af2a41d1a09b96cae3e12b46": {
      "model_module": "@jupyter-widgets/base",
      "model_module_version": "1.2.0",
      "model_name": "LayoutModel",
      "state": {}
     },
     "ede2ace1ab9246049f0533adc212c08c": {
      "model_module": "@jupyter-widgets/controls",
      "model_module_version": "1.5.0",
      "model_name": "IntProgressModel",
      "state": {
       "bar_style": "success",
       "description": "Downloading:",
       "layout": "IPY_MODEL_e65acb36af2a41d1a09b96cae3e12b46",
       "max": 10,
       "style": "IPY_MODEL_27425847fd484fadb6c6a4f7a24b19a5",
       "value": 10
      }
     },
     "eee787cbac824f88b038d20ff34b0e99": {
      "model_module": "@jupyter-widgets/controls",
      "model_module_version": "1.5.0",
      "model_name": "ProgressStyleModel",
      "state": {
       "description_width": ""
      }
     },
     "f1651aeff08c4a26aec5b828c163e50c": {
      "model_module": "@jupyter-widgets/controls",
      "model_module_version": "1.5.0",
      "model_name": "ProgressStyleModel",
      "state": {
       "description_width": ""
      }
     },
     "f4af060452344230ab002e4aa2bb7c1d": {
      "model_module": "@jupyter-widgets/controls",
      "model_module_version": "1.5.0",
      "model_name": "IntProgressModel",
      "state": {
       "bar_style": "success",
       "description": "Downloading:",
       "layout": "IPY_MODEL_85d05c4231f94c50b49a3687266948cd",
       "max": 3,
       "style": "IPY_MODEL_659eff3e91074d79bcec8533197c7431",
       "value": 3
      }
     },
     "fa10ebddb92b421388722055172d1704": {
      "model_module": "@jupyter-widgets/controls",
      "model_module_version": "1.5.0",
      "model_name": "IntProgressModel",
      "state": {
       "bar_style": "success",
       "description": "Downloading:",
       "layout": "IPY_MODEL_6660e8a2b95c4d469a230fd3263ef513",
       "max": 6,
       "style": "IPY_MODEL_77dda3510e0a4e65ae5e89aeb2cf211d",
       "value": 6
      }
     },
     "fb80140cc1ff4e4fa861ba32bcfa79bd": {
      "model_module": "@jupyter-widgets/controls",
      "model_module_version": "1.5.0",
      "model_name": "IntProgressModel",
      "state": {
       "bar_style": "success",
       "description": "Downloading:",
       "layout": "IPY_MODEL_5416a973261a437b8dc5eef0dcf6aa03",
       "max": 5,
       "style": "IPY_MODEL_d208d03d9b1544c79296632397a6e5f9",
       "value": 5
      }
     }
    },
    "version_major": 2,
    "version_minor": 0
   }
  }
 },
 "nbformat": 4,
 "nbformat_minor": 4
}
