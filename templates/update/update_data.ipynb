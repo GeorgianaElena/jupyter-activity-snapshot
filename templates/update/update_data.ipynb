{
 "cells": [
  {
   "cell_type": "markdown",
   "metadata": {},
   "source": [
    "# Update data\n",
    "\n",
    "This notebook downlads recent GitHub activity for a number of organizations.\n",
    "\n",
    "It will extract all issues, PRs, and comments that were updated within a\n",
    "window of interest. It will then save them to disk as CSV files."
   ]
  },
  {
   "cell_type": "code",
   "execution_count": 1,
   "metadata": {},
   "outputs": [],
   "source": [
    "from update_mod import GitHubGraphQlQuery, extract_comments"
   ]
  },
  {
   "cell_type": "code",
   "execution_count": 2,
   "metadata": {
    "tags": [
     "hide_input"
    ]
   },
   "outputs": [],
   "source": [
    "import requests\n",
    "import pandas as pd\n",
    "import numpy as np\n",
    "import os\n",
    "from datetime import timedelta\n",
    "from ipywidgets import widgets\n",
    "from IPython.display import display\n",
    "import os.path as op"
   ]
  },
  {
   "cell_type": "code",
   "execution_count": 3,
   "metadata": {
    "tags": [
     "parameters",
     "hide_input"
    ]
   },
   "outputs": [],
   "source": [
    "fmt = \"{:%Y-%m-%d}\"\n",
    "\n",
    "# Can optionally use number of days to choose dates\n",
    "end_date = pd.datetime.today()\n",
    "\n",
    "github_orgs = [\"jupyterhub\", \"jupyter\", \"jupyterlab\", \"jupyter-widgets\", \"ipython\", \"binder-examples\", \"nteract\"]\n",
    "# github_orgs = ['jupyter']"
   ]
  },
  {
   "cell_type": "code",
   "execution_count": 4,
   "metadata": {},
   "outputs": [],
   "source": [
    "# Calculate number of days to include in plots\n",
    "end_date = pd.to_datetime(end_date)\n",
    "end_date_str = fmt.format(end_date)"
   ]
  },
  {
   "cell_type": "markdown",
   "metadata": {},
   "source": [
    "# GitHub activity\n",
    "\n",
    "Jupyter also has lots of activity across GitHub repositories. The following sections contain\n",
    "overviews of recent activity across the following GitHub organizations:"
   ]
  },
  {
   "cell_type": "markdown",
   "metadata": {},
   "source": [
    "## Update issues"
   ]
  },
  {
   "cell_type": "code",
   "execution_count": 5,
   "metadata": {},
   "outputs": [],
   "source": [
    "path_data = op.join('..', '..', 'data')"
   ]
  },
  {
   "cell_type": "code",
   "execution_count": 6,
   "metadata": {},
   "outputs": [
    {
     "name": "stdout",
     "output_type": "stream",
     "text": [
      "===\n",
      "jupyterhub\n",
      "===\n",
      "\n",
      "\n",
      "Found 147 items, which will take 3 pages\n"
     ]
    },
    {
     "data": {
      "application/vnd.jupyter.widget-view+json": {
       "model_id": "ceb6a51d9c1742c3b9065711abc92afa",
       "version_major": 2,
       "version_minor": 0
      },
      "text/plain": [
       "IntProgress(value=0, description='Downloading:', max=3)"
      ]
     },
     "metadata": {},
     "output_type": "display_data"
    },
    {
     "name": "stdout",
     "output_type": "stream",
     "text": [
      "Found 42 items, which will take 1 pages\n"
     ]
    },
    {
     "name": "stderr",
     "output_type": "stream",
     "text": [
      "/home/choldgraf/anaconda/envs/dev/lib/python3.7/site-packages/ipykernel_launcher.py:48: FutureWarning: Sorting because non-concatenation axis is not aligned. A future version\n",
      "of pandas will change to not sort by default.\n",
      "\n",
      "To accept the future behavior, pass 'sort=False'.\n",
      "\n",
      "To retain the current behavior and silence the warning, pass 'sort=True'.\n",
      "\n",
      "/home/choldgraf/anaconda/envs/dev/lib/python3.7/site-packages/ipykernel_launcher.py:49: FutureWarning: Sorting because non-concatenation axis is not aligned. A future version\n",
      "of pandas will change to not sort by default.\n",
      "\n",
      "To accept the future behavior, pass 'sort=False'.\n",
      "\n",
      "To retain the current behavior and silence the warning, pass 'sort=True'.\n",
      "\n",
      "/home/choldgraf/anaconda/envs/dev/lib/python3.7/site-packages/ipykernel_launcher.py:50: FutureWarning: Sorting because non-concatenation axis is not aligned. A future version\n",
      "of pandas will change to not sort by default.\n",
      "\n",
      "To accept the future behavior, pass 'sort=False'.\n",
      "\n",
      "To retain the current behavior and silence the warning, pass 'sort=True'.\n",
      "\n"
     ]
    },
    {
     "name": "stdout",
     "output_type": "stream",
     "text": [
      "===\n",
      "jupyter\n",
      "===\n",
      "\n",
      "\n",
      "Found 319 items, which will take 7 pages\n"
     ]
    },
    {
     "data": {
      "application/vnd.jupyter.widget-view+json": {
       "model_id": "6186353bc0884a72aef48a3e95bd02c1",
       "version_major": 2,
       "version_minor": 0
      },
      "text/plain": [
       "IntProgress(value=0, description='Downloading:', max=7)"
      ]
     },
     "metadata": {},
     "output_type": "display_data"
    },
    {
     "name": "stdout",
     "output_type": "stream",
     "text": [
      "Found 47 items, which will take 1 pages\n",
      "===\n",
      "jupyterlab\n",
      "===\n",
      "\n",
      "\n",
      "Found 2792 items, which will take 56 pages\n"
     ]
    },
    {
     "data": {
      "application/vnd.jupyter.widget-view+json": {
       "model_id": "56f9e8de63dc4be59ebaa821147f797c",
       "version_major": 2,
       "version_minor": 0
      },
      "text/plain": [
       "IntProgress(value=0, description='Downloading:', max=56)"
      ]
     },
     "metadata": {},
     "output_type": "display_data"
    },
    {
     "name": "stdout",
     "output_type": "stream",
     "text": [
      "Found 51 items, which will take 2 pages\n"
     ]
    },
    {
     "data": {
      "application/vnd.jupyter.widget-view+json": {
       "model_id": "3f0aebd0ca8643d6a258e08143155ce4",
       "version_major": 2,
       "version_minor": 0
      },
      "text/plain": [
       "IntProgress(value=0, description='Downloading:', max=2)"
      ]
     },
     "metadata": {},
     "output_type": "display_data"
    },
    {
     "name": "stdout",
     "output_type": "stream",
     "text": [
      "===\n",
      "jupyter-widgets\n",
      "===\n",
      "\n",
      "\n",
      "Found 20 items, which will take 1 pages\n",
      "Found 4 items, which will take 1 pages\n",
      "===\n",
      "ipython\n",
      "===\n",
      "\n",
      "\n",
      "Found 30 items, which will take 1 pages\n",
      "Found 13 items, which will take 1 pages\n",
      "===\n",
      "binder-examples\n",
      "===\n",
      "\n",
      "\n",
      "Found 0 items, which will take 0 pages\n",
      "Found no entries for query is:issue user:binder-examples updated:2019-07-29..2019-08-13\n",
      "===\n",
      "nteract\n",
      "===\n",
      "\n",
      "\n",
      "Found 79 items, which will take 2 pages\n"
     ]
    },
    {
     "data": {
      "application/vnd.jupyter.widget-view+json": {
       "model_id": "452818737a104cfc8baa59aeb386d4d1",
       "version_major": 2,
       "version_minor": 0
      },
      "text/plain": [
       "IntProgress(value=0, description='Downloading:', max=2)"
      ]
     },
     "metadata": {},
     "output_type": "display_data"
    },
    {
     "name": "stdout",
     "output_type": "stream",
     "text": [
      "Found 37 items, which will take 1 pages\n"
     ]
    }
   ],
   "source": [
    "for org in github_orgs:\n",
    "    print(f'===\\n{org}\\n===\\n\\n')\n",
    "    # Load in previous data if we have it\n",
    "    path_data_org = op.join(path_data, org)\n",
    "    path_prs = op.join(path_data_org, 'prs.csv')\n",
    "    path_issues = op.join(path_data_org, 'issues.csv')\n",
    "    path_comments = op.join(path_data_org, 'comments.csv')\n",
    "    prs_old = pd.read_csv(path_prs, index_col=0)\n",
    "    issues_old = pd.read_csv(path_issues, index_col=0)\n",
    "    comments_old = pd.read_csv(path_comments, index_col=0)\n",
    "\n",
    "    # The latest updated time, we'll update `start_date_str` so we don't re-download unnecessarily\n",
    "    latest_date = pd.to_datetime(comments_old['updatedAt'].max())\n",
    "    start_date_str = fmt.format(latest_date)\n",
    "    \n",
    "    # Issues\n",
    "    query_issues = f\"is:issue user:{org} updated:{start_date_str}..{end_date_str}\"\n",
    "    ghq_issues = GitHubGraphQlQuery(query_issues)\n",
    "    ghq_issues.request()\n",
    "    if ghq_issues.data is None:\n",
    "        continue\n",
    "\n",
    "    issues = ghq_issues.data\n",
    "    issues_comments = issues.pop(\"comments\")\n",
    "    issues_comments = extract_comments(issues_comments)\n",
    "    \n",
    "    # Pull Requests\n",
    "    query_prs = f\"is:pr user:{org} created:{start_date_str}..{end_date_str}\"\n",
    "    ghq_prs = GitHubGraphQlQuery(query_prs)\n",
    "    ghq_prs.request()\n",
    "    if ghq_prs.data is None:\n",
    "        continue\n",
    "\n",
    "    prs = ghq_prs.data\n",
    "    prs_comments = prs.pop('comments')\n",
    "    prs_comments = extract_comments(prs_comments)\n",
    "    \n",
    "    # Add a PR-specific field for closed PRs\n",
    "    prs['mergedBy'] = prs['mergedBy'].map(lambda a: a['login'] if a is not None else None)\n",
    "    \n",
    "    # Extract the comments\n",
    "    comments = pd.concat([prs_comments, issues_comments])\n",
    "\n",
    "    # Only keep the comments within our window of interest\n",
    "    comments = comments.query('updatedAt > @start_date_str and updatedAt < @end_date_str')\n",
    "\n",
    "    # Update the data for this org\n",
    "    comments_new = pd.concat([comments_old, comments]).drop_duplicates(subset=['id'], keep='last').sort_values('createdAt', ascending=False)\n",
    "    issues_new = pd.concat([issues_old, issues]).drop_duplicates(subset=['id'], keep='last').sort_values('createdAt', ascending=False)\n",
    "    prs_new = pd.concat([prs_old, prs]).drop_duplicates(subset=['id'], keep='last').sort_values('createdAt', ascending=False)\n",
    "    \n",
    "    # Save the data\n",
    "    prs_new.to_csv(op.join(path_data_org, 'prs.csv'))\n",
    "    issues_new.to_csv(op.join(path_data_org, 'issues.csv'))\n",
    "    comments_new.to_csv(op.join(path_data_org, 'comments.csv'))"
   ]
  },
  {
   "cell_type": "code",
   "execution_count": null,
   "metadata": {},
   "outputs": [],
   "source": []
  }
 ],
 "metadata": {
  "kernelspec": {
   "display_name": "Python 3",
   "language": "python",
   "name": "python3"
  },
  "language_info": {
   "codemirror_mode": {
    "name": "ipython",
    "version": 3
   },
   "file_extension": ".py",
   "mimetype": "text/x-python",
   "name": "python",
   "nbconvert_exporter": "python",
   "pygments_lexer": "ipython3",
   "version": "3.7.3"
  },
  "widgets": {
   "application/vnd.jupyter.widget-state+json": {
    "state": {
     "0368625e17834a589a1f179d06d3ee57": {
      "model_module": "@jupyter-widgets/controls",
      "model_module_version": "1.5.0",
      "model_name": "ProgressStyleModel",
      "state": {
       "description_width": ""
      }
     },
     "07685eaeacd74df0b3e0e9c595bd0dfb": {
      "model_module": "@jupyter-widgets/controls",
      "model_module_version": "1.5.0",
      "model_name": "ProgressStyleModel",
      "state": {
       "description_width": ""
      }
     },
     "0baab6a5e85a4a1993de0c648a523d03": {
      "model_module": "@jupyter-widgets/controls",
      "model_module_version": "1.5.0",
      "model_name": "ProgressStyleModel",
      "state": {
       "description_width": ""
      }
     },
     "217764f5bd8742e1bfd6dbbec665956a": {
      "model_module": "@jupyter-widgets/controls",
      "model_module_version": "1.5.0",
      "model_name": "ProgressStyleModel",
      "state": {
       "description_width": ""
      }
     },
     "246a97c0ba904df7b0ff5c01bea8c8a2": {
      "model_module": "@jupyter-widgets/base",
      "model_module_version": "1.2.0",
      "model_name": "LayoutModel",
      "state": {}
     },
     "27ce63fdaa6e49edb91150d02f9dee45": {
      "model_module": "@jupyter-widgets/controls",
      "model_module_version": "1.5.0",
      "model_name": "IntProgressModel",
      "state": {
       "bar_style": "success",
       "description": "Downloading:",
       "layout": "IPY_MODEL_dee3a009a8a9496bb7c3f5fe4748b99a",
       "max": 1,
       "style": "IPY_MODEL_8c386baea42a4d4aba7f608b1b5593c4",
       "value": 1
      }
     },
     "28912c161a7b41a4846775f854c632a9": {
      "model_module": "@jupyter-widgets/controls",
      "model_module_version": "1.5.0",
      "model_name": "IntProgressModel",
      "state": {
       "bar_style": "success",
       "description": "Downloading:",
       "layout": "IPY_MODEL_28fcd2b8b988407aaa5c9816d9e6048c",
       "max": 0,
       "style": "IPY_MODEL_0368625e17834a589a1f179d06d3ee57"
      }
     },
     "28fcd2b8b988407aaa5c9816d9e6048c": {
      "model_module": "@jupyter-widgets/base",
      "model_module_version": "1.2.0",
      "model_name": "LayoutModel",
      "state": {}
     },
     "2e18ae60dc9241579e686772063e8e55": {
      "model_module": "@jupyter-widgets/controls",
      "model_module_version": "1.5.0",
      "model_name": "ProgressStyleModel",
      "state": {
       "description_width": ""
      }
     },
     "377fff8b993a4e42baa3f38b79f6f862": {
      "model_module": "@jupyter-widgets/base",
      "model_module_version": "1.2.0",
      "model_name": "LayoutModel",
      "state": {}
     },
     "3f0aebd0ca8643d6a258e08143155ce4": {
      "model_module": "@jupyter-widgets/controls",
      "model_module_version": "1.5.0",
      "model_name": "IntProgressModel",
      "state": {
       "bar_style": "success",
       "description": "Downloading:",
       "layout": "IPY_MODEL_cca757a23e34457085d13db264f0ced8",
       "max": 2,
       "style": "IPY_MODEL_f71e5504f5b3499b9c8667bac30f2de9",
       "value": 2
      }
     },
     "428fb422a9154150a6f629f59e025776": {
      "model_module": "@jupyter-widgets/controls",
      "model_module_version": "1.5.0",
      "model_name": "IntProgressModel",
      "state": {
       "bar_style": "success",
       "description": "Downloading:",
       "layout": "IPY_MODEL_6fe40c0ad07b495c8854db293398214a",
       "max": 1,
       "style": "IPY_MODEL_2e18ae60dc9241579e686772063e8e55",
       "value": 1
      }
     },
     "452818737a104cfc8baa59aeb386d4d1": {
      "model_module": "@jupyter-widgets/controls",
      "model_module_version": "1.5.0",
      "model_name": "IntProgressModel",
      "state": {
       "bar_style": "success",
       "description": "Downloading:",
       "layout": "IPY_MODEL_7250775879254aaab57c33ab03febeae",
       "max": 2,
       "style": "IPY_MODEL_dbf770286fd24ff2a00c21eef3f4b6ec",
       "value": 2
      }
     },
     "56f9e8de63dc4be59ebaa821147f797c": {
      "model_module": "@jupyter-widgets/controls",
      "model_module_version": "1.5.0",
      "model_name": "IntProgressModel",
      "state": {
       "bar_style": "success",
       "description": "Downloading:",
       "layout": "IPY_MODEL_377fff8b993a4e42baa3f38b79f6f862",
       "max": 56,
       "style": "IPY_MODEL_217764f5bd8742e1bfd6dbbec665956a",
       "value": 20
      }
     },
     "6186353bc0884a72aef48a3e95bd02c1": {
      "model_module": "@jupyter-widgets/controls",
      "model_module_version": "1.5.0",
      "model_name": "IntProgressModel",
      "state": {
       "bar_style": "success",
       "description": "Downloading:",
       "layout": "IPY_MODEL_246a97c0ba904df7b0ff5c01bea8c8a2",
       "max": 7,
       "style": "IPY_MODEL_82b9d019390a46f2922deffa6caced0c",
       "value": 7
      }
     },
     "6367412c3505419886f8a1bee6228b6f": {
      "model_module": "@jupyter-widgets/base",
      "model_module_version": "1.2.0",
      "model_name": "LayoutModel",
      "state": {}
     },
     "66412b1f705e4366895df3136962262b": {
      "model_module": "@jupyter-widgets/base",
      "model_module_version": "1.2.0",
      "model_name": "LayoutModel",
      "state": {}
     },
     "6fe40c0ad07b495c8854db293398214a": {
      "model_module": "@jupyter-widgets/base",
      "model_module_version": "1.2.0",
      "model_name": "LayoutModel",
      "state": {}
     },
     "711da9cc1fc94e47b503a679d9fd975a": {
      "model_module": "@jupyter-widgets/controls",
      "model_module_version": "1.5.0",
      "model_name": "ProgressStyleModel",
      "state": {
       "description_width": ""
      }
     },
     "7250775879254aaab57c33ab03febeae": {
      "model_module": "@jupyter-widgets/base",
      "model_module_version": "1.2.0",
      "model_name": "LayoutModel",
      "state": {}
     },
     "78e30c1ff7874842a9bbbc4dea4c9c2e": {
      "model_module": "@jupyter-widgets/controls",
      "model_module_version": "1.5.0",
      "model_name": "IntProgressModel",
      "state": {
       "bar_style": "success",
       "description": "Downloading:",
       "layout": "IPY_MODEL_ba6fdf11ca074650971c4e3d1cd2a9a9",
       "max": 1,
       "style": "IPY_MODEL_07685eaeacd74df0b3e0e9c595bd0dfb",
       "value": 1
      }
     },
     "7961bb06470c46159bc4fbe48469defe": {
      "model_module": "@jupyter-widgets/controls",
      "model_module_version": "1.5.0",
      "model_name": "IntProgressModel",
      "state": {
       "bar_style": "success",
       "description": "Downloading:",
       "layout": "IPY_MODEL_6367412c3505419886f8a1bee6228b6f",
       "max": 1,
       "style": "IPY_MODEL_0baab6a5e85a4a1993de0c648a523d03",
       "value": 1
      }
     },
     "82b9d019390a46f2922deffa6caced0c": {
      "model_module": "@jupyter-widgets/controls",
      "model_module_version": "1.5.0",
      "model_name": "ProgressStyleModel",
      "state": {
       "description_width": ""
      }
     },
     "8c386baea42a4d4aba7f608b1b5593c4": {
      "model_module": "@jupyter-widgets/controls",
      "model_module_version": "1.5.0",
      "model_name": "ProgressStyleModel",
      "state": {
       "description_width": ""
      }
     },
     "aec3e4561a35481ab8ab6253a79750c8": {
      "model_module": "@jupyter-widgets/base",
      "model_module_version": "1.2.0",
      "model_name": "LayoutModel",
      "state": {}
     },
     "b1e20fb723e842c9ade22135f80a9fbc": {
      "model_module": "@jupyter-widgets/controls",
      "model_module_version": "1.5.0",
      "model_name": "ProgressStyleModel",
      "state": {
       "description_width": ""
      }
     },
     "b1ebd59b663e455ba38b959b3f47ae87": {
      "model_module": "@jupyter-widgets/base",
      "model_module_version": "1.2.0",
      "model_name": "LayoutModel",
      "state": {}
     },
     "b70e4a5940b843c3b5a24609e32c55dc": {
      "model_module": "@jupyter-widgets/controls",
      "model_module_version": "1.5.0",
      "model_name": "IntProgressModel",
      "state": {
       "bar_style": "success",
       "description": "Downloading:",
       "layout": "IPY_MODEL_66412b1f705e4366895df3136962262b",
       "max": 1,
       "style": "IPY_MODEL_f2d671723eeb43f6a0eec573128fcae0",
       "value": 1
      }
     },
     "ba6fdf11ca074650971c4e3d1cd2a9a9": {
      "model_module": "@jupyter-widgets/base",
      "model_module_version": "1.2.0",
      "model_name": "LayoutModel",
      "state": {}
     },
     "c95313026d9642538d6e2fc9f3b10d04": {
      "model_module": "@jupyter-widgets/controls",
      "model_module_version": "1.5.0",
      "model_name": "IntProgressModel",
      "state": {
       "bar_style": "success",
       "description": "Downloading:",
       "layout": "IPY_MODEL_e7031598f67b40aabf9ce58f7bdc865f",
       "max": 1,
       "style": "IPY_MODEL_b1e20fb723e842c9ade22135f80a9fbc",
       "value": 1
      }
     },
     "cca757a23e34457085d13db264f0ced8": {
      "model_module": "@jupyter-widgets/base",
      "model_module_version": "1.2.0",
      "model_name": "LayoutModel",
      "state": {}
     },
     "ceb6a51d9c1742c3b9065711abc92afa": {
      "model_module": "@jupyter-widgets/controls",
      "model_module_version": "1.5.0",
      "model_name": "IntProgressModel",
      "state": {
       "bar_style": "success",
       "description": "Downloading:",
       "layout": "IPY_MODEL_aec3e4561a35481ab8ab6253a79750c8",
       "max": 3,
       "style": "IPY_MODEL_d913bbbd20a04631a273303d4ff99581",
       "value": 3
      }
     },
     "d2ed960435794e58b44baa12eb5cb175": {
      "model_module": "@jupyter-widgets/controls",
      "model_module_version": "1.5.0",
      "model_name": "IntProgressModel",
      "state": {
       "bar_style": "success",
       "description": "Downloading:",
       "layout": "IPY_MODEL_b1ebd59b663e455ba38b959b3f47ae87",
       "max": 1,
       "style": "IPY_MODEL_711da9cc1fc94e47b503a679d9fd975a",
       "value": 1
      }
     },
     "d913bbbd20a04631a273303d4ff99581": {
      "model_module": "@jupyter-widgets/controls",
      "model_module_version": "1.5.0",
      "model_name": "ProgressStyleModel",
      "state": {
       "description_width": ""
      }
     },
     "dbf770286fd24ff2a00c21eef3f4b6ec": {
      "model_module": "@jupyter-widgets/controls",
      "model_module_version": "1.5.0",
      "model_name": "ProgressStyleModel",
      "state": {
       "description_width": ""
      }
     },
     "dee3a009a8a9496bb7c3f5fe4748b99a": {
      "model_module": "@jupyter-widgets/base",
      "model_module_version": "1.2.0",
      "model_name": "LayoutModel",
      "state": {}
     },
     "e7031598f67b40aabf9ce58f7bdc865f": {
      "model_module": "@jupyter-widgets/base",
      "model_module_version": "1.2.0",
      "model_name": "LayoutModel",
      "state": {}
     },
     "f2d671723eeb43f6a0eec573128fcae0": {
      "model_module": "@jupyter-widgets/controls",
      "model_module_version": "1.5.0",
      "model_name": "ProgressStyleModel",
      "state": {
       "description_width": ""
      }
     },
     "f71e5504f5b3499b9c8667bac30f2de9": {
      "model_module": "@jupyter-widgets/controls",
      "model_module_version": "1.5.0",
      "model_name": "ProgressStyleModel",
      "state": {
       "description_width": ""
      }
     }
    },
    "version_major": 2,
    "version_minor": 0
   }
  }
 },
 "nbformat": 4,
 "nbformat_minor": 4
}
