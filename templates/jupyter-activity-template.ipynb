{
 "cells": [
  {
   "cell_type": "code",
   "execution_count": 1,
   "metadata": {
    "tags": [
     "hide_input"
    ]
   },
   "outputs": [],
   "source": [
    "import requests\n",
    "from IPython.display import Markdown\n",
    "from tqdm import tqdm, tqdm_notebook\n",
    "import pandas as pd\n",
    "from matplotlib import pyplot as plt\n",
    "import altair as alt\n",
    "from requests.utils import quote\n",
    "import os\n",
    "from github import Github"
   ]
  },
  {
   "cell_type": "code",
   "execution_count": 2,
   "metadata": {
    "tags": [
     "parameters",
     "hide_input"
    ]
   },
   "outputs": [],
   "source": [
    "end_date = \"2019-06-01\"\n",
    "start_date = \"2019-05-01\"\n",
    "renderer = \"jupyterlab\""
   ]
  },
  {
   "cell_type": "code",
   "execution_count": 3,
   "metadata": {},
   "outputs": [
    {
     "data": {
      "text/plain": [
       "RendererRegistry.enable('jupyterlab')"
      ]
     },
     "execution_count": 3,
     "metadata": {},
     "output_type": "execute_result"
    }
   ],
   "source": [
    "# Create the renderer we want\n",
    "alt.renderers.enable(renderer)"
   ]
  },
  {
   "cell_type": "code",
   "execution_count": 4,
   "metadata": {
    "tags": [
     "hide_input"
    ]
   },
   "outputs": [],
   "source": [
    "# Discourse API key\n",
    "api = {'Api-Key': os.environ['DISCOURSE_API_KEY'],\n",
    "       'Api-Username': os.environ['DISCOURSE_API_USERNAME']}"
   ]
  },
  {
   "cell_type": "code",
   "execution_count": 39,
   "metadata": {
    "tags": [
     "hide_input"
    ]
   },
   "outputs": [],
   "source": [
    "# Discourse\n",
    "def topics_to_markdown(topics, n_list=10):\n",
    "    body = []\n",
    "    for _, topic in topics.iterrows():\n",
    "        title = topic['fancy_title']\n",
    "        slug = topic['slug']\n",
    "        posts_count = topic['posts_count']\n",
    "        url = f'https://discourse.jupyter.org/t/{slug}'\n",
    "        body.append(f'* [{title}]({url}) ({posts_count} posts)')\n",
    "    body = body[:n_list]\n",
    "    return '\\n'.join(body)\n",
    "\n",
    "def counts_from_activity(activity):\n",
    "    counts = activity.groupby('category_id').count()['bookmarked'].reset_index()\n",
    "    counts['parent_category'] = None\n",
    "    for ii, irow in counts.iterrows():\n",
    "        if parent_categories[irow['category_id']] is not None:\n",
    "            counts.loc[ii, 'parent_category'] = parent_categories[irow['category_id']]\n",
    "\n",
    "    counts['category_id'] = counts['category_id'].map(lambda a: category_mapping[a])\n",
    "    counts['parent_category'] = counts['parent_category'].map(lambda a: category_mapping[a] if a is not None else 'parent')\n",
    "    is_parent = counts['parent_category'] == 'parent'\n",
    "    counts.loc[is_parent, 'parent_category'] = counts.loc[is_parent, 'category_id'] \n",
    "    counts['parent/category'] = counts.apply(lambda a: a['parent_category']+'/'+a['category_id'], axis=1)\n",
    "    counts = counts.sort_values(['parent_category', 'bookmarked'], ascending=False)\n",
    "    return counts\n",
    "\n",
    "# GitHub\n",
    "def run_github_query(query, github_base=\"https://api.github.com/search/issues\"):\n",
    "    gh = Github(os.environ[\"GITHUB_ACCESS_TOKEN\"])\n",
    "    resp = gh.search_issues(query)\n",
    "    data = []\n",
    "    for ii in range(0, 10):\n",
    "        items = resp.get_page(ii)\n",
    "        if len(items) > 0:\n",
    "            items_list = [item.raw_data for item in items]\n",
    "            data.append(pd.DataFrame.from_records(items_list))\n",
    "        else:\n",
    "            break\n",
    "    if len(data) == 0:\n",
    "        return pd.DataFrame([])\n",
    "    else:\n",
    "        return pd.concat(data)\n",
    "    \n"
   ]
  },
  {
   "cell_type": "markdown",
   "metadata": {},
   "source": [
    "# Community forum activity\n",
    "\n",
    "The [Jupyter Community Forum](https://discourse.jupyter.org) is a place for Jovyans across the\n",
    "community to talk about Jupyter tools in interactive computing and how they fit into their\n",
    "workflows. It's also a place for developers to share ideas, tools, tips, and help one another.\n",
    "\n",
    "Below are a few updates from activity in the Discourse. For more detailed information about\n",
    "the activity on the Community Forum, check out these links:\n",
    "\n",
    "* [The users page](https://discourse.jupyter.org/u) has information about user activity\n",
    "* [The top posts page](https://discourse.jupyter.org/top) contains a list of top posts, sorted\n",
    "  by various metrics."
   ]
  },
  {
   "cell_type": "code",
   "execution_count": 6,
   "metadata": {
    "tags": [
     "hide_input"
    ]
   },
   "outputs": [],
   "source": [
    "# Get categories for IDs\n",
    "url = \"https://discourse.jupyter.org/site.json\"\n",
    "resp = requests.get(url, headers=api)\n",
    "category_mapping = {cat['id']: cat['name'] for cat in resp.json()['categories']}\n",
    "parent_categories = {cat['id']: cat.get(\"parent_category_id\", None) for cat in resp.json()['categories']}"
   ]
  },
  {
   "cell_type": "code",
   "execution_count": 7,
   "metadata": {
    "tags": [
     "hide_input"
    ]
   },
   "outputs": [],
   "source": [
    "# Base URL to use\n",
    "url = \"https://discourse.jupyter.org/latest.json\""
   ]
  },
  {
   "cell_type": "code",
   "execution_count": null,
   "metadata": {},
   "outputs": [],
   "source": []
  },
  {
   "cell_type": "markdown",
   "metadata": {},
   "source": [
    "## Topics with lots of likes\n",
    "\n",
    "\"Likes\" are a way for community members to say thanks for a helpful post, show their\n",
    "support for an idea, or generally to share a little positivity with somebody else.\n",
    "These are topics that have generated lots of likes in recent history."
   ]
  },
  {
   "cell_type": "code",
   "execution_count": 8,
   "metadata": {
    "tags": [
     "hide_input"
    ]
   },
   "outputs": [
    {
     "data": {
      "text/markdown": [
       "* [Introduce yourself!](https://discourse.jupyter.org/t/introduce-yourself) (93 posts)\n",
       "* [{WIP} Re-Design of Jupyter.org Website](https://discourse.jupyter.org/t/wip-re-design-of-jupyter-org-website) (29 posts)\n",
       "* [Jupyter Community Calls](https://discourse.jupyter.org/t/jupyter-community-calls) (27 posts)\n",
       "* [Help us choose an updated &ldquo;Launch Binder&rdquo; badge!](https://discourse.jupyter.org/t/help-us-choose-an-updated-launch-binder-badge) (21 posts)\n",
       "* [PyCon 2019 and mybinder.org](https://discourse.jupyter.org/t/pycon-2019-and-mybinder-org) (17 posts)\n",
       "* [The Binder Federation](https://discourse.jupyter.org/t/the-binder-federation) (14 posts)\n",
       "* [Jupyter community workshop: proposal on diversity, inclusion and accessibility](https://discourse.jupyter.org/t/jupyter-community-workshop-proposal-on-diversity-inclusion-and-accessibility) (20 posts)\n",
       "* [Sunset the GitHub repo jupyter/help?](https://discourse.jupyter.org/t/sunset-the-github-repo-jupyter-help) (17 posts)\n",
       "* [Binder/BinderHub Workshops &ndash; Help Wanted!](https://discourse.jupyter.org/t/binder-binderhub-workshops-help-wanted) (25 posts)\n",
       "* [Creating a new Binder-at-home tool](https://discourse.jupyter.org/t/creating-a-new-binder-at-home-tool) (13 posts)"
      ],
      "text/plain": [
       "<IPython.core.display.Markdown object>"
      ]
     },
     "execution_count": 8,
     "metadata": {},
     "output_type": "execute_result"
    }
   ],
   "source": [
    "params = {\"order\": \"likes\", \"ascending\": \"False\"}\n",
    "resp = requests.get(url, headers=api, params=params)\n",
    "\n",
    "# Topics with the most likes in recent history\n",
    "liked = pd.DataFrame(resp.json()['topic_list']['topics'])\n",
    "Markdown(topics_to_markdown(liked))"
   ]
  },
  {
   "cell_type": "markdown",
   "metadata": {},
   "source": [
    "## Active topics on Discourse\n",
    "\n",
    "These are topics with lots of activity in recent history."
   ]
  },
  {
   "cell_type": "code",
   "execution_count": 9,
   "metadata": {
    "tags": [
     "hide_input"
    ]
   },
   "outputs": [
    {
     "data": {
      "text/markdown": [
       "* [Introduce yourself!](https://discourse.jupyter.org/t/introduce-yourself) (93 posts)\n",
       "* [Tip: embed custom github content in a Binder link with nbgitpuller](https://discourse.jupyter.org/t/tip-embed-custom-github-content-in-a-binder-link-with-nbgitpuller) (31 posts)\n",
       "* [Would a &ldquo;The Littlest Binder&rdquo; be useful?](https://discourse.jupyter.org/t/would-a-the-littlest-binder-be-useful) (30 posts)\n",
       "* [{WIP} Re-Design of Jupyter.org Website](https://discourse.jupyter.org/t/wip-re-design-of-jupyter-org-website) (29 posts)\n",
       "* [Plugins of considerations](https://discourse.jupyter.org/t/plugins-of-considerations) (28 posts)\n",
       "* [Jupyter Community Calls](https://discourse.jupyter.org/t/jupyter-community-calls) (27 posts)\n",
       "* [A proposal for JupyterHub communications](https://discourse.jupyter.org/t/a-proposal-for-jupyterhub-communications) (26 posts)\n",
       "* [Binder/BinderHub Workshops &ndash; Help Wanted!](https://discourse.jupyter.org/t/binder-binderhub-workshops-help-wanted) (25 posts)\n",
       "* [Help us choose an updated &ldquo;Launch Binder&rdquo; badge!](https://discourse.jupyter.org/t/help-us-choose-an-updated-launch-binder-badge) (21 posts)\n",
       "* [Potential collaboration on user research?](https://discourse.jupyter.org/t/potential-collaboration-on-user-research) (21 posts)"
      ],
      "text/plain": [
       "<IPython.core.display.Markdown object>"
      ]
     },
     "execution_count": 9,
     "metadata": {},
     "output_type": "execute_result"
    }
   ],
   "source": [
    "params = {\"order\": \"posts\", \"ascending\": \"False\"}\n",
    "resp = requests.get(url, headers=api, params=params)\n",
    "\n",
    "# Topics with the most posts in recent history\n",
    "posts = pd.DataFrame(resp.json()['topic_list']['topics'])\n",
    "Markdown(topics_to_markdown(posts))"
   ]
  },
  {
   "cell_type": "code",
   "execution_count": 10,
   "metadata": {
    "tags": [
     "hide_input"
    ]
   },
   "outputs": [
    {
     "data": {
      "application/vnd.vegalite.v2+json": {
       "$schema": "https://vega.github.io/schema/vega-lite/v2.6.0.json",
       "config": {
        "view": {
         "height": 300,
         "width": 400
        }
       },
       "data": {
        "name": "data-be1d796022f59c0c05ca62da7620f64b"
       },
       "datasets": {
        "data-be1d796022f59c0c05ca62da7620f64b": [
         {
          "bookmarked": 1,
          "category_id": "Admin requests",
          "parent/category": "Site Feedback/Admin requests",
          "parent_category": "Site Feedback"
         },
         {
          "bookmarked": 5,
          "category_id": "Meta",
          "parent/category": "Meta/Meta",
          "parent_category": "Meta"
         },
         {
          "bookmarked": 1,
          "category_id": "announcements",
          "parent/category": "Meta/announcements",
          "parent_category": "Meta"
         },
         {
          "bookmarked": 2,
          "category_id": "JupyterHub",
          "parent/category": "JupyterHub/JupyterHub",
          "parent_category": "JupyterHub"
         },
         {
          "bookmarked": 2,
          "category_id": "discuss",
          "parent/category": "JupyterHub/discuss",
          "parent_category": "JupyterHub"
         },
         {
          "bookmarked": 1,
          "category_id": "Enterprise Gateway",
          "parent/category": "Enterprise Gateway/Enterprise Gateway",
          "parent_category": "Enterprise Gateway"
         },
         {
          "bookmarked": 4,
          "category_id": "Community Chat",
          "parent/category": "Community Chat/Community Chat",
          "parent_category": "Community Chat"
         },
         {
          "bookmarked": 6,
          "category_id": "Binder",
          "parent/category": "Binder/Binder",
          "parent_category": "Binder"
         },
         {
          "bookmarked": 6,
          "category_id": "discuss",
          "parent/category": "Binder/discuss",
          "parent_category": "Binder"
         },
         {
          "bookmarked": 1,
          "category_id": "BinderHub",
          "parent/category": "Binder/BinderHub",
          "parent_category": "Binder"
         },
         {
          "bookmarked": 1,
          "category_id": "mybinder.org ops",
          "parent/category": "Binder/mybinder.org ops",
          "parent_category": "Binder"
         }
        ]
       },
       "encoding": {
        "color": {
         "field": "parent_category",
         "type": "nominal"
        },
        "x": {
         "field": "parent/category",
         "sort": [
          "Admin requests",
          "Meta",
          "announcements",
          "JupyterHub",
          "discuss",
          "Enterprise Gateway",
          "Community Chat",
          "Binder",
          "discuss",
          "BinderHub",
          "mybinder.org ops"
         ],
         "type": "nominal"
        },
        "y": {
         "field": "bookmarked",
         "type": "quantitative"
        }
       },
       "height": 300,
       "mark": "bar",
       "title": "Activity by category",
       "width": 700
      },
      "image/png": "[encoded data removed]",
      "text/plain": [
       "<VegaLite 2 object>\n",
       "\n",
       "If you see this message, it means the renderer has not been properly enabled\n",
       "for the frontend that you are using. For more information, see\n",
       "https://altair-viz.github.io/user_guide/troubleshooting.html\n"
      ]
     },
     "execution_count": 10,
     "metadata": {},
     "output_type": "execute_result"
    }
   ],
   "source": [
    "counts = counts_from_activity(posts)\n",
    "alt.Chart(data=counts, width=700, height=300, title=\"Activity by category\").mark_bar().encode(\n",
    "    x=alt.X(\"parent/category\", sort=alt.Sort(counts['category_id'].values.tolist())),\n",
    "    y=\"bookmarked\",\n",
    "    color=\"parent_category\"\n",
    ")"
   ]
  },
  {
   "cell_type": "markdown",
   "metadata": {},
   "source": [
    "## Recently-created topics\n",
    "\n",
    "These are topics that were recently created, sorted by the amount of activity\n",
    "in each one."
   ]
  },
  {
   "cell_type": "code",
   "execution_count": 11,
   "metadata": {
    "tags": [
     "hide_input"
    ]
   },
   "outputs": [
    {
     "data": {
      "text/markdown": [
       "* [I get `Read timed out` errors on when pushing image OVH](https://discourse.jupyter.org/t/i-get-read-timed-out-errors-on-when-pushing-image-ovh) (8 posts)\n",
       "* [JupyterHub, Binder workshop](https://discourse.jupyter.org/t/jupyterhub-binder-workshop) (8 posts)\n",
       "* [Internal Server Error with notebook with conda dependencies](https://discourse.jupyter.org/t/internal-server-error-with-notebook-with-conda-dependencies) (7 posts)\n",
       "* [JupyterLab 1.0 Release Candidate published](https://discourse.jupyter.org/t/jupyterlab-1-0-release-candidate-published) (5 posts)\n",
       "* [Quick question on jupyterlab doc regarding &lt;lab-location&gt;](https://discourse.jupyter.org/t/quick-question-on-jupyterlab-doc-regarding-lab-location) (4 posts)\n",
       "* [0.5 G for memory limit?](https://discourse.jupyter.org/t/0-5-g-for-memory-limit) (4 posts)\n",
       "* [Document domain registration for JupyterHub](https://discourse.jupyter.org/t/document-domain-registration-for-jupyterhub) (4 posts)\n",
       "* [Welcoming our new JupyterHub team member: Sarah!](https://discourse.jupyter.org/t/welcoming-our-new-jupyterhub-team-member-sarah) (3 posts)\n",
       "* [Please take the mybinder.org user survey](https://discourse.jupyter.org/t/please-take-the-mybinder-org-user-survey) (3 posts)\n",
       "* [Problem Triggering Binder Build through API endpoint](https://discourse.jupyter.org/t/problem-triggering-binder-build-through-api-endpoint) (3 posts)"
      ],
      "text/plain": [
       "<IPython.core.display.Markdown object>"
      ]
     },
     "execution_count": 11,
     "metadata": {},
     "output_type": "execute_result"
    }
   ],
   "source": [
    "params = {\"order\": \"created\", \"ascending\": \"False\"}\n",
    "resp = requests.get(url, headers=api, params=params)\n",
    "\n",
    "# Sort created by the most posted for recently-created posts\n",
    "created = pd.DataFrame(resp.json()['topic_list']['topics'])\n",
    "created = created.sort_values('posts_count', ascending=False)\n",
    "Markdown(topics_to_markdown(created))"
   ]
  },
  {
   "cell_type": "code",
   "execution_count": 12,
   "metadata": {
    "tags": [
     "hide_input"
    ]
   },
   "outputs": [
    {
     "data": {
      "application/vnd.vegalite.v2+json": {
       "$schema": "https://vega.github.io/schema/vega-lite/v2.6.0.json",
       "config": {
        "view": {
         "height": 300,
         "width": 400
        }
       },
       "data": {
        "name": "data-e31c48e1274c1d8a27202c12895b4ec9"
       },
       "datasets": {
        "data-e31c48e1274c1d8a27202c12895b4ec9": [
         {
          "bookmarked": 5,
          "category_id": "Q&A",
          "parent/category": "Q&A/Q&A",
          "parent_category": "Q&A"
         },
         {
          "bookmarked": 1,
          "category_id": "Meta",
          "parent/category": "Meta/Meta",
          "parent_category": "Meta"
         },
         {
          "bookmarked": 1,
          "category_id": "JupyterLab",
          "parent/category": "JupyterLab/JupyterLab",
          "parent_category": "JupyterLab"
         },
         {
          "bookmarked": 2,
          "category_id": "Zero to JupyterHub on Kubernetes",
          "parent/category": "JupyterHub/Zero to JupyterHub on Kubernetes",
          "parent_category": "JupyterHub"
         },
         {
          "bookmarked": 1,
          "category_id": "JupyterHub",
          "parent/category": "JupyterHub/JupyterHub",
          "parent_category": "JupyterHub"
         },
         {
          "bookmarked": 1,
          "category_id": "discuss",
          "parent/category": "JupyterHub/discuss",
          "parent_category": "JupyterHub"
         },
         {
          "bookmarked": 1,
          "category_id": "team",
          "parent/category": "JupyterHub/team",
          "parent_category": "JupyterHub"
         },
         {
          "bookmarked": 1,
          "category_id": "Community Chat",
          "parent/category": "Community Chat/Community Chat",
          "parent_category": "Community Chat"
         },
         {
          "bookmarked": 2,
          "category_id": "discuss",
          "parent/category": "Binder/discuss",
          "parent_category": "Binder"
         },
         {
          "bookmarked": 1,
          "category_id": "Binder",
          "parent/category": "Binder/Binder",
          "parent_category": "Binder"
         }
        ]
       },
       "encoding": {
        "color": {
         "field": "parent_category",
         "type": "nominal"
        },
        "x": {
         "field": "parent/category",
         "sort": [
          "Q&A",
          "Meta",
          "JupyterLab",
          "Zero to JupyterHub on Kubernetes",
          "JupyterHub",
          "discuss",
          "team",
          "Community Chat",
          "discuss",
          "Binder"
         ],
         "type": "nominal"
        },
        "y": {
         "field": "bookmarked",
         "type": "quantitative"
        }
       },
       "height": 300,
       "mark": "bar",
       "title": "Activity by category",
       "width": 700
      },
      "image/png": "[encoded data removed]",
      "text/plain": [
       "<VegaLite 2 object>\n",
       "\n",
       "If you see this message, it means the renderer has not been properly enabled\n",
       "for the frontend that you are using. For more information, see\n",
       "https://altair-viz.github.io/user_guide/troubleshooting.html\n"
      ]
     },
     "execution_count": 12,
     "metadata": {},
     "output_type": "execute_result"
    }
   ],
   "source": [
    "counts = counts_from_activity(created)\n",
    "alt.Chart(data=counts, width=700, height=300, title=\"Activity by category\").mark_bar().encode(\n",
    "    x=alt.X(\"parent/category\", sort=alt.Sort(counts['category_id'].values.tolist())),\n",
    "    y=\"bookmarked\",\n",
    "    color=\"parent_category\"\n",
    ")"
   ]
  },
  {
   "cell_type": "markdown",
   "metadata": {},
   "source": [
    "# GitHub activity\n",
    "\n",
    "Jupyter also has lots of activity across GitHub repositories. The following sections contain\n",
    "overviews of recent activity across the following GitHub organizations:\n",
    "\n",
    "* [github.com/jupyterhub](https://github.com/jupyterhub)\n",
    "* [github.com/jupyter](https://github.com/jupyter)\n",
    "* [github.com/jupyterlab](https://github.com/jupyterlab)\n",
    "* [github.com/jupyter-widgets](https://github.com/jupyter-widgets)"
   ]
  },
  {
   "cell_type": "code",
   "execution_count": 32,
   "metadata": {
    "tags": [
     "hide_input"
    ]
   },
   "outputs": [
    {
     "data": {
      "text/markdown": [
       "Showing GitHub activity from **2019-05-01** to **2019-06-01**"
      ],
      "text/plain": [
       "<IPython.core.display.Markdown object>"
      ]
     },
     "execution_count": 32,
     "metadata": {},
     "output_type": "execute_result"
    }
   ],
   "source": [
    "from datetime import timedelta\n",
    "\n",
    "orgs = [\"jupyterhub\", \"jupyter\", \"jupyterlab\", \"jupyter-widgets\", \"ipython\", \"binder-examples\"]\n",
    "Markdown(f\"Showing GitHub activity from **{start_date}** to **{end_date}**\")"
   ]
  },
  {
   "cell_type": "markdown",
   "metadata": {
    "toc-hr-collapsed": false
   },
   "source": [
    "## Merged Pull requests\n",
    "\n",
    "Here's an analysis of **merged pull requests** across each of the repositories in the Jupyter\n",
    "ecosystem."
   ]
  },
  {
   "cell_type": "code",
   "execution_count": 33,
   "metadata": {
    "tags": [
     "hide_input"
    ]
   },
   "outputs": [
    {
     "name": "stderr",
     "output_type": "stream",
     "text": [
      "100%|██████████| 6/6 [02:11<00:00, 16.40s/it]\n"
     ]
    }
   ],
   "source": [
    "# Update data\n",
    "merged = []\n",
    "for org in tqdm(orgs):\n",
    "    query = f\"is:merged user:{org} archived:false closed:{start_date}..{end_date}\"\n",
    "    this_merged = run_github_query(query)\n",
    "    this_merged['org'] = org\n",
    "    merged.append(this_merged)\n",
    "merged = pd.concat(merged)\n",
    "merged['repo'] = merged['repository_url'].map(lambda a: a.split('/')[-1])\n",
    "\n",
    "# Count PRs by org/repo\n",
    "prs_by_repo = merged.groupby(['org', 'repo']).count()['body'].reset_index().sort_values(['org', 'body'], ascending=False)"
   ]
  },
  {
   "cell_type": "code",
   "execution_count": 34,
   "metadata": {
    "tags": [
     "hide_input"
    ]
   },
   "outputs": [
    {
     "data": {
      "application/vnd.vegalite.v2+json": {
       "$schema": "https://vega.github.io/schema/vega-lite/v2.6.0.json",
       "config": {
        "view": {
         "height": 300,
         "width": 400
        }
       },
       "data": {
        "name": "data-5bcd55f50d600e9009d9f56ade7b608d"
       },
       "datasets": {
        "data-5bcd55f50d600e9009d9f56ade7b608d": [
         {
          "body": 65,
          "org": "jupyterlab",
          "repo": "jupyterlab"
         },
         {
          "body": 5,
          "org": "jupyterlab",
          "repo": "jupyterlab_server"
         },
         {
          "body": 4,
          "org": "jupyterlab",
          "repo": "jupyter-renderers"
         },
         {
          "body": 2,
          "org": "jupyterlab",
          "repo": "jupyterlab-git"
         },
         {
          "body": 1,
          "org": "jupyterlab",
          "repo": "extension-cookiecutter-js"
         },
         {
          "body": 1,
          "org": "jupyterlab",
          "repo": "jupyterlab-toc"
         },
         {
          "body": 1,
          "org": "jupyterlab",
          "repo": "jupyterlab_pygments"
         },
         {
          "body": 27,
          "org": "jupyterhub",
          "repo": "mybinder.org-deploy"
         },
         {
          "body": 24,
          "org": "jupyterhub",
          "repo": "the-littlest-jupyterhub"
         },
         {
          "body": 13,
          "org": "jupyterhub",
          "repo": "zero-to-jupyterhub-k8s"
         },
         {
          "body": 12,
          "org": "jupyterhub",
          "repo": "jupyterhub"
         },
         {
          "body": 7,
          "org": "jupyterhub",
          "repo": "binderhub"
         },
         {
          "body": 5,
          "org": "jupyterhub",
          "repo": "nbgitpuller"
         },
         {
          "body": 3,
          "org": "jupyterhub",
          "repo": "alabaster-jupyterhub"
         },
         {
          "body": 2,
          "org": "jupyterhub",
          "repo": "chartpress"
         },
         {
          "body": 2,
          "org": "jupyterhub",
          "repo": "configurable-http-proxy"
         },
         {
          "body": 2,
          "org": "jupyterhub",
          "repo": "jupyter-server-proxy"
         },
         {
          "body": 2,
          "org": "jupyterhub",
          "repo": "oauthenticator"
         },
         {
          "body": 2,
          "org": "jupyterhub",
          "repo": "team-compass"
         },
         {
          "body": 1,
          "org": "jupyterhub",
          "repo": "binder"
         },
         {
          "body": 1,
          "org": "jupyterhub",
          "repo": "jupyter-rsession-proxy"
         },
         {
          "body": 1,
          "org": "jupyterhub",
          "repo": "jupyterlab-hub"
         },
         {
          "body": 1,
          "org": "jupyterhub",
          "repo": "kubespawner"
         },
         {
          "body": 1,
          "org": "jupyterhub",
          "repo": "ltiauthenticator"
         },
         {
          "body": 1,
          "org": "jupyterhub",
          "repo": "tmpauthenticator"
         },
         {
          "body": 13,
          "org": "jupyter-widgets",
          "repo": "ipyleaflet"
         },
         {
          "body": 8,
          "org": "jupyter-widgets",
          "repo": "jupyter-sphinx"
         },
         {
          "body": 6,
          "org": "jupyter-widgets",
          "repo": "ipywidgets"
         },
         {
          "body": 2,
          "org": "jupyter-widgets",
          "repo": "pythreejs"
         },
         {
          "body": 34,
          "org": "jupyter",
          "repo": "nbgrader"
         },
         {
          "body": 18,
          "org": "jupyter",
          "repo": "repo2docker"
         },
         {
          "body": 16,
          "org": "jupyter",
          "repo": "nbconvert"
         },
         {
          "body": 10,
          "org": "jupyter",
          "repo": "enterprise_gateway"
         },
         {
          "body": 9,
          "org": "jupyter",
          "repo": "docker-stacks"
         },
         {
          "body": 8,
          "org": "jupyter",
          "repo": "notebook"
         },
         {
          "body": 8,
          "org": "jupyter",
          "repo": "qtconsole"
         },
         {
          "body": 6,
          "org": "jupyter",
          "repo": "jupyter-book"
         },
         {
          "body": 4,
          "org": "jupyter",
          "repo": "jupyter_client"
         },
         {
          "body": 3,
          "org": "jupyter",
          "repo": "kernel_gateway"
         },
         {
          "body": 2,
          "org": "jupyter",
          "repo": "jupyter"
         },
         {
          "body": 2,
          "org": "jupyter",
          "repo": "jupyter_core"
         },
         {
          "body": 2,
          "org": "jupyter",
          "repo": "jupyter_server"
         },
         {
          "body": 2,
          "org": "jupyter",
          "repo": "nb2kg"
         },
         {
          "body": 1,
          "org": "jupyter",
          "repo": "nbdime"
         },
         {
          "body": 1,
          "org": "jupyter",
          "repo": "nbviewer"
         },
         {
          "body": 14,
          "org": "ipython",
          "repo": "ipython"
         },
         {
          "body": 2,
          "org": "ipython",
          "repo": "traitlets"
         },
         {
          "body": 1,
          "org": "ipython",
          "repo": "ipykernel"
         },
         {
          "body": 1,
          "org": "ipython",
          "repo": "ipyparallel"
         },
         {
          "body": 1,
          "org": "ipython",
          "repo": "ipython-in-depth"
         },
         {
          "body": 1,
          "org": "ipython",
          "repo": "ipython-website"
         },
         {
          "body": 1,
          "org": "binder-examples",
          "repo": "getting-data-xroot"
         },
         {
          "body": 1,
          "org": "binder-examples",
          "repo": "latex"
         },
         {
          "body": 1,
          "org": "binder-examples",
          "repo": "python-conda_pip"
         }
        ]
       },
       "encoding": {
        "color": {
         "field": "org",
         "type": "nominal"
        },
        "x": {
         "field": "repo",
         "sort": [
          "jupyterlab",
          "jupyterlab_server",
          "jupyter-renderers",
          "jupyterlab-git",
          "extension-cookiecutter-js",
          "jupyterlab-toc",
          "jupyterlab_pygments",
          "mybinder.org-deploy",
          "the-littlest-jupyterhub",
          "zero-to-jupyterhub-k8s",
          "jupyterhub",
          "binderhub",
          "nbgitpuller",
          "alabaster-jupyterhub",
          "chartpress",
          "configurable-http-proxy",
          "jupyter-server-proxy",
          "oauthenticator",
          "team-compass",
          "binder",
          "jupyter-rsession-proxy",
          "jupyterlab-hub",
          "kubespawner",
          "ltiauthenticator",
          "tmpauthenticator",
          "ipyleaflet",
          "jupyter-sphinx",
          "ipywidgets",
          "pythreejs",
          "nbgrader",
          "repo2docker",
          "nbconvert",
          "enterprise_gateway",
          "docker-stacks",
          "notebook",
          "qtconsole",
          "jupyter-book",
          "jupyter_client",
          "kernel_gateway",
          "jupyter",
          "jupyter_core",
          "jupyter_server",
          "nb2kg",
          "nbdime",
          "nbviewer",
          "ipython",
          "traitlets",
          "ipykernel",
          "ipyparallel",
          "ipython-in-depth",
          "ipython-website",
          "getting-data-xroot",
          "latex",
          "python-conda_pip"
         ],
         "type": "nominal"
        },
        "y": {
         "field": "body",
         "type": "quantitative"
        }
       },
       "mark": "bar",
       "title": "Merged PRs in the last 30 days"
      },
      "image/png": "[encoded data removed]",
      "text/plain": [
       "<VegaLite 2 object>\n",
       "\n",
       "If you see this message, it means the renderer has not been properly enabled\n",
       "for the frontend that you are using. For more information, see\n",
       "https://altair-viz.github.io/user_guide/troubleshooting.html\n"
      ]
     },
     "execution_count": 34,
     "metadata": {},
     "output_type": "execute_result"
    }
   ],
   "source": [
    "alt.Chart(data=prs_by_repo, title=\"Merged PRs in the last 30 days\").mark_bar().encode(\n",
    "    x=alt.X('repo', sort=prs_by_repo['repo'].values.tolist()),\n",
    "    y='body',\n",
    "    color='org'\n",
    ")"
   ]
  },
  {
   "cell_type": "markdown",
   "metadata": {},
   "source": [
    "### A list of merged PRs by project"
   ]
  },
  {
   "cell_type": "code",
   "execution_count": 46,
   "metadata": {},
   "outputs": [],
   "source": [
    "from ipywidgets import widgets, HTML\n",
    "from ipywidgets import HTML\n",
    "from markdown import markdown "
   ]
  },
  {
   "cell_type": "code",
   "execution_count": 36,
   "metadata": {
    "tags": [
     "hide_input"
    ]
   },
   "outputs": [
    {
     "data": {
      "application/vnd.jupyter.widget-view+json": {
       "model_id": "d7939a00419d42ee81c980e0d3b5b476",
       "version_major": 2,
       "version_minor": 0
      },
      "text/plain": [
       "Tab(children=(HTML(value='<h4>Closed PRs for org: <code>binder-examples</code></h4>\\n<h5><a href=\"https://gith…"
      ]
     },
     "metadata": {},
     "output_type": "display_data"
    }
   ],
   "source": [
    "tabs = widgets.Tab(children=[])\n",
    "for ii, (org, idata) in enumerate(merged.groupby('org')):\n",
    "    issue_md = []\n",
    "    issue_md.append(f\"#### Closed PRs for org: `{org}`\")\n",
    "    issue_md.append(\"\")\n",
    "    for repourl, prs in idata.groupby('repository_url'):\n",
    "        reponame, repo = repourl.split('/')[-2:]\n",
    "        issue_md.append(f\"##### [{reponame}/{repo}](https://github.com/{reponame}/{repo})\")\n",
    "        for _, pr in prs.iterrows():\n",
    "            user_name = pr['user']['login']\n",
    "            user_url = pr['user']['html_url']\n",
    "            pr_number = pr['number']\n",
    "            pr_html = pr['html_url']\n",
    "            pr_title = pr['title']\n",
    "            pr_closedby = pr['closed_by']['login']\n",
    "            pr_closedby_url = pr['closed_by']['html_url']\n",
    "            text = f\"* [(#{pr_number})]({pr_html}): _{pr_title}_ by **[@{user_name}]({user_url})** merged by **[@{pr_closedby}]({pr_closedby_url})**\"\n",
    "            issue_md.append(text)\n",
    "    issue_md.append('')\n",
    "    markdown_html = markdown('\\n'.join(issue_md))\n",
    "    \n",
    "    children = list(tabs.children)\n",
    "    children.append(HTML(markdown_html))\n",
    "    tabs.children = tuple(children)\n",
    "    tabs.set_title(ii, org)\n",
    "tabs"
   ]
  },
  {
   "cell_type": "markdown",
   "metadata": {},
   "source": [
    "## Issues\n",
    "\n",
    "Issues are **conversations** that happen on our GitHub repositories. Here's an\n",
    "analysis of issues across the Jupyter organizations."
   ]
  },
  {
   "cell_type": "code",
   "execution_count": 40,
   "metadata": {
    "tags": [
     "hide_input"
    ]
   },
   "outputs": [
    {
     "name": "stderr",
     "output_type": "stream",
     "text": [
      "\n",
      "  0%|          | 0/6 [00:00<?, ?it/s]\u001b[A\n",
      " 17%|█▋        | 1/6 [00:34<02:52, 34.47s/it]\u001b[A\n",
      " 33%|███▎      | 2/6 [01:09<02:18, 34.73s/it]\u001b[A\n",
      " 50%|█████     | 3/6 [01:27<01:28, 29.62s/it]\u001b[A\n",
      " 67%|██████▋   | 4/6 [01:38<00:47, 23.94s/it]\u001b[A\n",
      " 83%|████████▎ | 5/6 [01:50<00:20, 20.50s/it]\u001b[A\n",
      "100%|██████████| 6/6 [01:51<00:00, 14.54s/it]\u001b[A"
     ]
    }
   ],
   "source": [
    "# Created issues\n",
    "created = []\n",
    "for org in tqdm(orgs):\n",
    "    query = f\"is:open is:issue user:{org} archived:false created:{start_date}..{end_date}\"\n",
    "    this_created = run_github_query(query)\n",
    "    if len(this_created) == 0:\n",
    "        continue\n",
    "    this_created['org'] = org\n",
    "    created.append(this_created)\n",
    "created = pd.concat(created)\n",
    "created['repo'] = created['repository_url'].map(lambda a: a.split('/')[-1])"
   ]
  },
  {
   "cell_type": "code",
   "execution_count": 41,
   "metadata": {
    "tags": [
     "hide_input"
    ]
   },
   "outputs": [
    {
     "data": {
      "application/vnd.vegalite.v2+json": {
       "$schema": "https://vega.github.io/schema/vega-lite/v2.6.0.json",
       "config": {
        "view": {
         "height": 300,
         "width": 400
        }
       },
       "data": {
        "name": "data-cdd9348bd701cd4300ea0255157c460d"
       },
       "datasets": {
        "data-cdd9348bd701cd4300ea0255157c460d": [
         {
          "number": 6,
          "org": "ipython",
          "org/repo": "ipython/ipykernel",
          "repo": "ipykernel"
         },
         {
          "number": 3,
          "org": "ipython",
          "org/repo": "ipython/ipyparallel",
          "repo": "ipyparallel"
         },
         {
          "number": 26,
          "org": "ipython",
          "org/repo": "ipython/ipython",
          "repo": "ipython"
         },
         {
          "number": 1,
          "org": "jupyter",
          "org/repo": "jupyter/dashboards",
          "repo": "dashboards"
         },
         {
          "number": 1,
          "org": "jupyter",
          "org/repo": "jupyter/design",
          "repo": "design"
         },
         {
          "number": 5,
          "org": "jupyter",
          "org/repo": "jupyter/docker-stacks",
          "repo": "docker-stacks"
         },
         {
          "number": 6,
          "org": "jupyter",
          "org/repo": "jupyter/enterprise_gateway",
          "repo": "enterprise_gateway"
         },
         {
          "number": 1,
          "org": "jupyter",
          "org/repo": "jupyter/jupyter",
          "repo": "jupyter"
         },
         {
          "number": 9,
          "org": "jupyter",
          "org/repo": "jupyter/jupyter-book",
          "repo": "jupyter-book"
         },
         {
          "number": 3,
          "org": "jupyter",
          "org/repo": "jupyter/jupyter_client",
          "repo": "jupyter_client"
         },
         {
          "number": 3,
          "org": "jupyter",
          "org/repo": "jupyter/jupyter_server",
          "repo": "jupyter_server"
         },
         {
          "number": 1,
          "org": "jupyter",
          "org/repo": "jupyter/kernel_gateway",
          "repo": "kernel_gateway"
         },
         {
          "number": 8,
          "org": "jupyter",
          "org/repo": "jupyter/nbconvert",
          "repo": "nbconvert"
         },
         {
          "number": 2,
          "org": "jupyter",
          "org/repo": "jupyter/nbdime",
          "repo": "nbdime"
         },
         {
          "number": 11,
          "org": "jupyter",
          "org/repo": "jupyter/nbgrader",
          "repo": "nbgrader"
         },
         {
          "number": 4,
          "org": "jupyter",
          "org/repo": "jupyter/nbviewer",
          "repo": "nbviewer"
         },
         {
          "number": 35,
          "org": "jupyter",
          "org/repo": "jupyter/notebook",
          "repo": "notebook"
         },
         {
          "number": 1,
          "org": "jupyter",
          "org/repo": "jupyter/qtconsole",
          "repo": "qtconsole"
         },
         {
          "number": 13,
          "org": "jupyter",
          "org/repo": "jupyter/repo2docker",
          "repo": "repo2docker"
         },
         {
          "number": 1,
          "org": "jupyter",
          "org/repo": "jupyter/steering",
          "repo": "steering"
         },
         {
          "number": 1,
          "org": "jupyter",
          "org/repo": "jupyter/terminado",
          "repo": "terminado"
         },
         {
          "number": 11,
          "org": "jupyter-widgets",
          "org/repo": "jupyter-widgets/ipyleaflet",
          "repo": "ipyleaflet"
         },
         {
          "number": 12,
          "org": "jupyter-widgets",
          "org/repo": "jupyter-widgets/ipywidgets",
          "repo": "ipywidgets"
         },
         {
          "number": 3,
          "org": "jupyter-widgets",
          "org/repo": "jupyter-widgets/jupyter-sphinx",
          "repo": "jupyter-sphinx"
         },
         {
          "number": 4,
          "org": "jupyter-widgets",
          "org/repo": "jupyter-widgets/pythreejs",
          "repo": "pythreejs"
         },
         {
          "number": 1,
          "org": "jupyter-widgets",
          "org/repo": "jupyter-widgets/tutorial",
          "repo": "tutorial"
         },
         {
          "number": 1,
          "org": "jupyterhub",
          "org/repo": "jupyterhub/alabaster-jupyterhub",
          "repo": "alabaster-jupyterhub"
         },
         {
          "number": 13,
          "org": "jupyterhub",
          "org/repo": "jupyterhub/binderhub",
          "repo": "binderhub"
         },
         {
          "number": 5,
          "org": "jupyterhub",
          "org/repo": "jupyterhub/dockerspawner",
          "repo": "dockerspawner"
         },
         {
          "number": 2,
          "org": "jupyterhub",
          "org/repo": "jupyterhub/dummyauthenticator",
          "repo": "dummyauthenticator"
         },
         {
          "number": 2,
          "org": "jupyterhub",
          "org/repo": "jupyterhub/jupyter-rsession-proxy",
          "repo": "jupyter-rsession-proxy"
         },
         {
          "number": 2,
          "org": "jupyterhub",
          "org/repo": "jupyterhub/jupyter-server-proxy",
          "repo": "jupyter-server-proxy"
         },
         {
          "number": 19,
          "org": "jupyterhub",
          "org/repo": "jupyterhub/jupyterhub",
          "repo": "jupyterhub"
         },
         {
          "number": 2,
          "org": "jupyterhub",
          "org/repo": "jupyterhub/jupyterhub-deploy-docker",
          "repo": "jupyterhub-deploy-docker"
         },
         {
          "number": 4,
          "org": "jupyterhub",
          "org/repo": "jupyterhub/jupyterlab-hub",
          "repo": "jupyterlab-hub"
         },
         {
          "number": 2,
          "org": "jupyterhub",
          "org/repo": "jupyterhub/kubespawner",
          "repo": "kubespawner"
         },
         {
          "number": 1,
          "org": "jupyterhub",
          "org/repo": "jupyterhub/ldapauthenticator",
          "repo": "ldapauthenticator"
         },
         {
          "number": 1,
          "org": "jupyterhub",
          "org/repo": "jupyterhub/ltiauthenticator",
          "repo": "ltiauthenticator"
         },
         {
          "number": 3,
          "org": "jupyterhub",
          "org/repo": "jupyterhub/mybinder.org-deploy",
          "repo": "mybinder.org-deploy"
         },
         {
          "number": 1,
          "org": "jupyterhub",
          "org/repo": "jupyterhub/nativeauthenticator",
          "repo": "nativeauthenticator"
         },
         {
          "number": 6,
          "org": "jupyterhub",
          "org/repo": "jupyterhub/nbgitpuller",
          "repo": "nbgitpuller"
         },
         {
          "number": 6,
          "org": "jupyterhub",
          "org/repo": "jupyterhub/oauthenticator",
          "repo": "oauthenticator"
         },
         {
          "number": 1,
          "org": "jupyterhub",
          "org/repo": "jupyterhub/sudospawner",
          "repo": "sudospawner"
         },
         {
          "number": 1,
          "org": "jupyterhub",
          "org/repo": "jupyterhub/systemdspawner",
          "repo": "systemdspawner"
         },
         {
          "number": 7,
          "org": "jupyterhub",
          "org/repo": "jupyterhub/team-compass",
          "repo": "team-compass"
         },
         {
          "number": 15,
          "org": "jupyterhub",
          "org/repo": "jupyterhub/the-littlest-jupyterhub",
          "repo": "the-littlest-jupyterhub"
         },
         {
          "number": 15,
          "org": "jupyterhub",
          "org/repo": "jupyterhub/zero-to-jupyterhub-k8s",
          "repo": "zero-to-jupyterhub-k8s"
         },
         {
          "number": 1,
          "org": "jupyterlab",
          "org/repo": "jupyterlab/jupyter-renderers",
          "repo": "jupyter-renderers"
         },
         {
          "number": 41,
          "org": "jupyterlab",
          "org/repo": "jupyterlab/jupyterlab",
          "repo": "jupyterlab"
         },
         {
          "number": 3,
          "org": "jupyterlab",
          "org/repo": "jupyterlab/jupyterlab-celltags",
          "repo": "jupyterlab-celltags"
         },
         {
          "number": 1,
          "org": "jupyterlab",
          "org/repo": "jupyterlab/jupyterlab-data-explorer",
          "repo": "jupyterlab-data-explorer"
         },
         {
          "number": 4,
          "org": "jupyterlab",
          "org/repo": "jupyterlab/jupyterlab-git",
          "repo": "jupyterlab-git"
         },
         {
          "number": 1,
          "org": "jupyterlab",
          "org/repo": "jupyterlab/jupyterlab-github",
          "repo": "jupyterlab-github"
         },
         {
          "number": 1,
          "org": "jupyterlab",
          "org/repo": "jupyterlab/jupyterlab-google-drive",
          "repo": "jupyterlab-google-drive"
         },
         {
          "number": 1,
          "org": "jupyterlab",
          "org/repo": "jupyterlab/jupyterlab-toc",
          "repo": "jupyterlab-toc"
         },
         {
          "number": 1,
          "org": "jupyterlab",
          "org/repo": "jupyterlab/scipy2018-jupyterlab-tutorial",
          "repo": "scipy2018-jupyterlab-tutorial"
         }
        ]
       },
       "encoding": {
        "color": {
         "field": "org",
         "type": "nominal"
        },
        "x": {
         "field": "repo",
         "sort": [
          "jupyterlab",
          "jupyterlab-git",
          "jupyterlab-celltags",
          "jupyter-renderers",
          "jupyterlab-data-explorer",
          "jupyterlab-github",
          "jupyterlab-google-drive",
          "jupyterlab-toc",
          "scipy2018-jupyterlab-tutorial",
          "jupyterhub",
          "the-littlest-jupyterhub",
          "zero-to-jupyterhub-k8s",
          "binderhub",
          "team-compass",
          "nbgitpuller",
          "oauthenticator",
          "dockerspawner",
          "jupyterlab-hub",
          "mybinder.org-deploy",
          "dummyauthenticator",
          "jupyter-rsession-proxy",
          "jupyter-server-proxy",
          "jupyterhub-deploy-docker",
          "kubespawner",
          "alabaster-jupyterhub",
          "ldapauthenticator",
          "ltiauthenticator",
          "nativeauthenticator",
          "sudospawner",
          "systemdspawner",
          "ipywidgets",
          "ipyleaflet",
          "pythreejs",
          "jupyter-sphinx",
          "tutorial",
          "notebook",
          "repo2docker",
          "nbgrader",
          "jupyter-book",
          "nbconvert",
          "enterprise_gateway",
          "docker-stacks",
          "nbviewer",
          "jupyter_client",
          "jupyter_server",
          "nbdime",
          "dashboards",
          "design",
          "jupyter",
          "kernel_gateway",
          "qtconsole",
          "steering",
          "terminado",
          "ipython",
          "ipykernel",
          "ipyparallel"
         ],
         "type": "nominal"
        },
        "y": {
         "field": "number",
         "type": "quantitative"
        }
       },
       "mark": "bar",
       "title": "Issues created in the last 30 days"
      },
      "image/png": "[encoded data removed]",
      "text/plain": [
       "<VegaLite 2 object>\n",
       "\n",
       "If you see this message, it means the renderer has not been properly enabled\n",
       "for the frontend that you are using. For more information, see\n",
       "https://altair-viz.github.io/user_guide/troubleshooting.html\n"
      ]
     },
     "execution_count": 41,
     "metadata": {},
     "output_type": "execute_result"
    }
   ],
   "source": [
    "created_counts = created.groupby(['org', 'repo']).count()['number'].reset_index()\n",
    "created_counts['org/repo'] = created_counts.apply(lambda a: a['org'] + '/' + a['repo'], axis=1)\n",
    "sorted_vals = created_counts.sort_values(['org', 'number'], ascending=False)['repo'].values\n",
    "alt.Chart(data=created_counts, title=\"Issues created in the last 30 days\").mark_bar().encode(\n",
    "    x=alt.X('repo', sort=alt.Sort(sorted_vals.tolist())),\n",
    "    y='number',\n",
    "    color='org',\n",
    ")"
   ]
  },
  {
   "cell_type": "code",
   "execution_count": 42,
   "metadata": {
    "tags": [
     "hide_input"
    ]
   },
   "outputs": [
    {
     "name": "stderr",
     "output_type": "stream",
     "text": [
      "\n",
      "  0%|          | 0/6 [00:00<?, ?it/s]\u001b[A\n",
      " 17%|█▋        | 1/6 [00:29<02:25, 29.10s/it]\u001b[A\n",
      " 33%|███▎      | 2/6 [01:06<02:06, 31.71s/it]\u001b[A\n",
      " 50%|█████     | 3/6 [01:34<01:31, 30.43s/it]\u001b[A\n",
      " 67%|██████▋   | 4/6 [01:43<00:48, 24.00s/it]\u001b[A\n",
      " 83%|████████▎ | 5/6 [01:51<00:19, 19.19s/it]\u001b[A\n",
      "100%|██████████| 6/6 [01:51<00:00, 13.61s/it]\u001b[A/home/choldgraf/anaconda/envs/dev/lib/python3.6/site-packages/ipykernel_launcher.py:8: FutureWarning: Sorting because non-concatenation axis is not aligned. A future version\n",
      "of pandas will change to not sort by default.\n",
      "\n",
      "To accept the future behavior, pass 'sort=False'.\n",
      "\n",
      "To retain the current behavior and silence the warning, pass 'sort=True'.\n",
      "\n",
      "  \n"
     ]
    }
   ],
   "source": [
    "# Closed issues\n",
    "closed = []\n",
    "for org in tqdm(orgs):\n",
    "    query = f\"is:issue user:{org} closed:{start_date}..{end_date}\"\n",
    "    this_closed = run_github_query(query)\n",
    "    this_closed['org'] = org\n",
    "    closed.append(this_closed)\n",
    "closed = pd.concat(closed)\n",
    "closed['repo'] = closed['repository_url'].map(lambda a: a.split('/')[-1])"
   ]
  },
  {
   "cell_type": "code",
   "execution_count": 43,
   "metadata": {
    "tags": [
     "hide_input"
    ]
   },
   "outputs": [
    {
     "data": {
      "application/vnd.vegalite.v2+json": {
       "$schema": "https://vega.github.io/schema/vega-lite/v2.6.0.json",
       "config": {
        "view": {
         "height": 300,
         "width": 400
        }
       },
       "data": {
        "name": "data-45948069d3e07455873da2a09e4193fb"
       },
       "datasets": {
        "data-45948069d3e07455873da2a09e4193fb": [
         {
          "number": 2,
          "org": "ipython",
          "org/repo": "ipython/ipykernel",
          "repo": "ipykernel"
         },
         {
          "number": 1,
          "org": "ipython",
          "org/repo": "ipython/ipyparallel",
          "repo": "ipyparallel"
         },
         {
          "number": 20,
          "org": "ipython",
          "org/repo": "ipython/ipython",
          "repo": "ipython"
         },
         {
          "number": 1,
          "org": "jupyter",
          "org/repo": "jupyter/atom-notebook",
          "repo": "atom-notebook"
         },
         {
          "number": 4,
          "org": "jupyter",
          "org/repo": "jupyter/docker-stacks",
          "repo": "docker-stacks"
         },
         {
          "number": 13,
          "org": "jupyter",
          "org/repo": "jupyter/enterprise_gateway",
          "repo": "enterprise_gateway"
         },
         {
          "number": 2,
          "org": "jupyter",
          "org/repo": "jupyter/jupyter",
          "repo": "jupyter"
         },
         {
          "number": 10,
          "org": "jupyter",
          "org/repo": "jupyter/jupyter-book",
          "repo": "jupyter-book"
         },
         {
          "number": 1,
          "org": "jupyter",
          "org/repo": "jupyter/jupyter_client",
          "repo": "jupyter_client"
         },
         {
          "number": 1,
          "org": "jupyter",
          "org/repo": "jupyter/jupyter_core",
          "repo": "jupyter_core"
         },
         {
          "number": 6,
          "org": "jupyter",
          "org/repo": "jupyter/jupyter_server",
          "repo": "jupyter_server"
         },
         {
          "number": 3,
          "org": "jupyter",
          "org/repo": "jupyter/kernel_gateway",
          "repo": "kernel_gateway"
         },
         {
          "number": 1,
          "org": "jupyter",
          "org/repo": "jupyter/nb2kg",
          "repo": "nb2kg"
         },
         {
          "number": 10,
          "org": "jupyter",
          "org/repo": "jupyter/nbconvert",
          "repo": "nbconvert"
         },
         {
          "number": 31,
          "org": "jupyter",
          "org/repo": "jupyter/nbgrader",
          "repo": "nbgrader"
         },
         {
          "number": 3,
          "org": "jupyter",
          "org/repo": "jupyter/nbviewer",
          "repo": "nbviewer"
         },
         {
          "number": 9,
          "org": "jupyter",
          "org/repo": "jupyter/notebook",
          "repo": "notebook"
         },
         {
          "number": 5,
          "org": "jupyter",
          "org/repo": "jupyter/qtconsole",
          "repo": "qtconsole"
         },
         {
          "number": 13,
          "org": "jupyter",
          "org/repo": "jupyter/repo2docker",
          "repo": "repo2docker"
         },
         {
          "number": 1,
          "org": "jupyter",
          "org/repo": "jupyter/terminado",
          "repo": "terminado"
         },
         {
          "number": 8,
          "org": "jupyter-widgets",
          "org/repo": "jupyter-widgets/ipyleaflet",
          "repo": "ipyleaflet"
         },
         {
          "number": 10,
          "org": "jupyter-widgets",
          "org/repo": "jupyter-widgets/ipywidgets",
          "repo": "ipywidgets"
         },
         {
          "number": 7,
          "org": "jupyter-widgets",
          "org/repo": "jupyter-widgets/jupyter-sphinx",
          "repo": "jupyter-sphinx"
         },
         {
          "number": 2,
          "org": "jupyter-widgets",
          "org/repo": "jupyter-widgets/pythreejs",
          "repo": "pythreejs"
         },
         {
          "number": 1,
          "org": "jupyterhub",
          "org/repo": "jupyterhub/alabaster-jupyterhub",
          "repo": "alabaster-jupyterhub"
         },
         {
          "number": 1,
          "org": "jupyterhub",
          "org/repo": "jupyterhub/batchspawner",
          "repo": "batchspawner"
         },
         {
          "number": 5,
          "org": "jupyterhub",
          "org/repo": "jupyterhub/binderhub",
          "repo": "binderhub"
         },
         {
          "number": 1,
          "org": "jupyterhub",
          "org/repo": "jupyterhub/configurable-http-proxy",
          "repo": "configurable-http-proxy"
         },
         {
          "number": 4,
          "org": "jupyterhub",
          "org/repo": "jupyterhub/jupyter-server-proxy",
          "repo": "jupyter-server-proxy"
         },
         {
          "number": 14,
          "org": "jupyterhub",
          "org/repo": "jupyterhub/jupyterhub",
          "repo": "jupyterhub"
         },
         {
          "number": 2,
          "org": "jupyterhub",
          "org/repo": "jupyterhub/kubespawner",
          "repo": "kubespawner"
         },
         {
          "number": 1,
          "org": "jupyterhub",
          "org/repo": "jupyterhub/ldapauthenticator",
          "repo": "ldapauthenticator"
         },
         {
          "number": 4,
          "org": "jupyterhub",
          "org/repo": "jupyterhub/mybinder.org-deploy",
          "repo": "mybinder.org-deploy"
         },
         {
          "number": 9,
          "org": "jupyterhub",
          "org/repo": "jupyterhub/nbgitpuller",
          "repo": "nbgitpuller"
         },
         {
          "number": 1,
          "org": "jupyterhub",
          "org/repo": "jupyterhub/oauthenticator",
          "repo": "oauthenticator"
         },
         {
          "number": 1,
          "org": "jupyterhub",
          "org/repo": "jupyterhub/systemdspawner",
          "repo": "systemdspawner"
         },
         {
          "number": 4,
          "org": "jupyterhub",
          "org/repo": "jupyterhub/team-compass",
          "repo": "team-compass"
         },
         {
          "number": 36,
          "org": "jupyterhub",
          "org/repo": "jupyterhub/the-littlest-jupyterhub",
          "repo": "the-littlest-jupyterhub"
         },
         {
          "number": 1,
          "org": "jupyterhub",
          "org/repo": "jupyterhub/tmpauthenticator",
          "repo": "tmpauthenticator"
         },
         {
          "number": 4,
          "org": "jupyterhub",
          "org/repo": "jupyterhub/zero-to-jupyterhub-k8s",
          "repo": "zero-to-jupyterhub-k8s"
         },
         {
          "number": 1,
          "org": "jupyterlab",
          "org/repo": "jupyterlab/extension-cookiecutter-js",
          "repo": "extension-cookiecutter-js"
         },
         {
          "number": 1,
          "org": "jupyterlab",
          "org/repo": "jupyterlab/jupyter-renderers",
          "repo": "jupyter-renderers"
         },
         {
          "number": 75,
          "org": "jupyterlab",
          "org/repo": "jupyterlab/jupyterlab",
          "repo": "jupyterlab"
         },
         {
          "number": 1,
          "org": "jupyterlab",
          "org/repo": "jupyterlab/jupyterlab-data-explorer",
          "repo": "jupyterlab-data-explorer"
         },
         {
          "number": 4,
          "org": "jupyterlab",
          "org/repo": "jupyterlab/jupyterlab-git",
          "repo": "jupyterlab-git"
         },
         {
          "number": 1,
          "org": "jupyterlab",
          "org/repo": "jupyterlab/jupyterlab-github",
          "repo": "jupyterlab-github"
         },
         {
          "number": 1,
          "org": "jupyterlab",
          "org/repo": "jupyterlab/jupyterlab-toc",
          "repo": "jupyterlab-toc"
         }
        ]
       },
       "encoding": {
        "color": {
         "field": "org",
         "type": "nominal"
        },
        "x": {
         "field": "repo",
         "sort": [
          "jupyterlab",
          "jupyterlab-git",
          "extension-cookiecutter-js",
          "jupyter-renderers",
          "jupyterlab-data-explorer",
          "jupyterlab-github",
          "jupyterlab-toc",
          "the-littlest-jupyterhub",
          "jupyterhub",
          "nbgitpuller",
          "binderhub",
          "jupyter-server-proxy",
          "mybinder.org-deploy",
          "team-compass",
          "zero-to-jupyterhub-k8s",
          "kubespawner",
          "alabaster-jupyterhub",
          "batchspawner",
          "configurable-http-proxy",
          "ldapauthenticator",
          "oauthenticator",
          "systemdspawner",
          "tmpauthenticator",
          "ipywidgets",
          "ipyleaflet",
          "jupyter-sphinx",
          "pythreejs",
          "nbgrader",
          "enterprise_gateway",
          "repo2docker",
          "jupyter-book",
          "nbconvert",
          "notebook",
          "jupyter_server",
          "qtconsole",
          "docker-stacks",
          "kernel_gateway",
          "nbviewer",
          "jupyter",
          "atom-notebook",
          "jupyter_client",
          "jupyter_core",
          "nb2kg",
          "terminado",
          "ipython",
          "ipykernel",
          "ipyparallel"
         ],
         "type": "nominal"
        },
        "y": {
         "field": "number",
         "type": "quantitative"
        }
       },
       "mark": "bar",
       "title": "Issues closed in the last 30 days"
      },
      "image/png": "[encoded data removed]",
      "text/plain": [
       "<VegaLite 2 object>\n",
       "\n",
       "If you see this message, it means the renderer has not been properly enabled\n",
       "for the frontend that you are using. For more information, see\n",
       "https://altair-viz.github.io/user_guide/troubleshooting.html\n"
      ]
     },
     "execution_count": 43,
     "metadata": {},
     "output_type": "execute_result"
    }
   ],
   "source": [
    "closed_counts = closed.groupby(['org', 'repo']).count()['number'].reset_index()\n",
    "closed_counts['org/repo'] = closed_counts.apply(lambda a: a['org'] + '/' + a['repo'], axis=1)\n",
    "sorted_vals = closed_counts.sort_values(['org', 'number'], ascending=False)['repo'].values\n",
    "alt.Chart(data=closed_counts, title=\"Issues closed in the last 30 days\").mark_bar().encode(\n",
    "    x=alt.X('repo', sort=alt.Sort(sorted_vals.tolist())),\n",
    "    y='number',\n",
    "    color='org',\n",
    ")"
   ]
  },
  {
   "cell_type": "markdown",
   "metadata": {},
   "source": [
    "### A list of recent issues"
   ]
  },
  {
   "cell_type": "code",
   "execution_count": 54,
   "metadata": {
    "tags": [
     "hide_input"
    ],
    "toc-hr-collapsed": false
   },
   "outputs": [
    {
     "data": {
      "text/markdown": [
       "Here are the top 5 active issues in each repository in the last 30 days"
      ],
      "text/plain": [
       "<IPython.core.display.Markdown object>"
      ]
     },
     "metadata": {},
     "output_type": "display_data"
    },
    {
     "data": {
      "application/vnd.jupyter.widget-view+json": {
       "model_id": "832f30ea40a74814896718268ab9a1eb",
       "version_major": 2,
       "version_minor": 0
      },
      "text/plain": [
       "Tab(children=(HTML(value='<h4>ipython</h4>\\n<h5><a href=\"https://github.com/ipython/ipykernel\">ipython/ipykern…"
      ]
     },
     "metadata": {},
     "output_type": "display_data"
    }
   ],
   "source": [
    "n_plot = 5\n",
    "tabs = widgets.Tab(children=[])\n",
    "for ii, (org, idata) in enumerate(created.groupby('org')):\n",
    "    issue_md = []\n",
    "    issue_md.append(f\"#### {org}\")\n",
    "    issue_md.append(\"\")\n",
    "    for repourl, issues in idata.groupby('repository_url'):\n",
    "        reponame, repo = repourl.split('/')[-2:]\n",
    "        issue_md.append(f\"##### [{reponame}/{repo}](https://github.com/{reponame}/{repo})\")\n",
    "        for _, issue in issues.sort_values('comments', ascending=False).head(n_plot).iterrows():\n",
    "            user_name = issue['user']['login']\n",
    "            user_url = issue['user']['html_url']\n",
    "            issue_number = issue['number']\n",
    "            issue_html = issue['html_url']\n",
    "            issue_title = issue['title']\n",
    "\n",
    "            text = f\"* [(#{issue_number})]({issue_html}): _{issue_title}_ by **[{user_name}]({user_url})**\"\n",
    "            issue_md.append(text)\n",
    "    issue_md.append('')\n",
    "    md_html = HTML(markdown('\\n'.join(issue_md)))\n",
    "    \n",
    "    children = list(tabs.children)\n",
    "    children.append(HTML(markdown('\\n'.join(issue_md))))\n",
    "    tabs.children = tuple(children)\n",
    "    tabs.set_title(ii, org)\n",
    "    \n",
    "display(Markdown(f\"Here are the top {n_plot} active issues in each repository in the last 30 days\"))\n",
    "display(tabs)"
   ]
  },
  {
   "cell_type": "code",
   "execution_count": null,
   "metadata": {},
   "outputs": [],
   "source": []
  }
 ],
 "metadata": {
  "kernelspec": {
   "display_name": "Python 3",
   "language": "python",
   "name": "python3"
  },
  "language_info": {
   "codemirror_mode": {
    "name": "ipython",
    "version": 3
   },
   "file_extension": ".py",
   "mimetype": "text/x-python",
   "name": "python",
   "nbconvert_exporter": "python",
   "pygments_lexer": "ipython3",
   "version": "3.6.5"
  },
  "toc-autonumbering": false,
  "toc-showmarkdowntxt": false,
  "toc-showtags": false
 },
 "nbformat": 4,
 "nbformat_minor": 4
}
