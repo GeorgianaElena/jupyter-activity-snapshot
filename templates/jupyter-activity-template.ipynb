{
 "cells": [
  {
   "cell_type": "code",
   "execution_count": 39,
   "metadata": {
    "tags": [
     "hide_input"
    ]
   },
   "outputs": [],
   "source": [
    "import requests\n",
    "from IPython.display import Markdown\n",
    "from tqdm import tqdm, tqdm_notebook\n",
    "import pandas as pd\n",
    "from matplotlib import pyplot as plt\n",
    "import altair as alt\n",
    "from requests.utils import quote\n",
    "import os\n",
    "from github import Github"
   ]
  },
  {
   "cell_type": "code",
   "execution_count": 2,
   "metadata": {
    "tags": [
     "parameters",
     "hide_input"
    ]
   },
   "outputs": [],
   "source": [
    "end_date = \"2019-06-01\"\n",
    "start_date = \"2019-05-01\"\n",
    "renderer = \"jupyterlab\""
   ]
  },
  {
   "cell_type": "code",
   "execution_count": 3,
   "metadata": {},
   "outputs": [
    {
     "data": {
      "text/plain": [
       "RendererRegistry.enable('jupyterlab')"
      ]
     },
     "execution_count": 3,
     "metadata": {},
     "output_type": "execute_result"
    }
   ],
   "source": [
    "# Create the renderer we want\n",
    "alt.renderers.enable(renderer)"
   ]
  },
  {
   "cell_type": "code",
   "execution_count": 4,
   "metadata": {
    "tags": [
     "hide_input"
    ]
   },
   "outputs": [],
   "source": [
    "# Discourse API key\n",
    "api = {'Api-Key': os.environ['DISCOURSE_API_KEY'],\n",
    "       'Api-Username': os.environ['DISCOURSE_API_USERNAME']}"
   ]
  },
  {
   "cell_type": "code",
   "execution_count": 65,
   "metadata": {
    "tags": [
     "hide_input"
    ]
   },
   "outputs": [],
   "source": [
    "# Discourse\n",
    "def topics_to_markdown(topics, n_list=10):\n",
    "    body = []\n",
    "    for _, topic in topics.iterrows():\n",
    "        title = topic['fancy_title']\n",
    "        slug = topic['slug']\n",
    "        posts_count = topic['posts_count']\n",
    "        url = f'https://discourse.jupyter.org/t/{slug}'\n",
    "        body.append(f'* [{title}]({url}) ({posts_count} posts)')\n",
    "    body = body[:n_list]\n",
    "    return '\\n'.join(body)\n",
    "\n",
    "def counts_from_activity(activity):\n",
    "    counts = activity.groupby('category_id').count()['bookmarked'].reset_index()\n",
    "    counts['parent_category'] = None\n",
    "    for ii, irow in counts.iterrows():\n",
    "        if parent_categories[irow['category_id']] is not None:\n",
    "            counts.loc[ii, 'parent_category'] = parent_categories[irow['category_id']]\n",
    "\n",
    "    counts['category_id'] = counts['category_id'].map(lambda a: category_mapping[a])\n",
    "    counts['parent_category'] = counts['parent_category'].map(lambda a: category_mapping[a] if a is not None else 'parent')\n",
    "    is_parent = counts['parent_category'] == 'parent'\n",
    "    counts.loc[is_parent, 'parent_category'] = counts.loc[is_parent, 'category_id'] \n",
    "    counts['parent/category'] = counts.apply(lambda a: a['parent_category']+'/'+a['category_id'], axis=1)\n",
    "    counts = counts.sort_values(['parent_category', 'bookmarked'], ascending=False)\n",
    "    return counts\n",
    "\n",
    "# GitHub\n",
    "def run_github_query(query, github_base=\"https://api.github.com/search/issues\"):\n",
    "    gh = Github(os.environ[\"GITHUB_ACCESS_TOKEN\"])\n",
    "    resp = gh.search_issues(query)\n",
    "    data = []\n",
    "    for ii in range(0, 10):\n",
    "        items = resp.get_page(ii)\n",
    "        if len(items) > 0:\n",
    "            items_list = [item.raw_data for item in items]\n",
    "            data.append(pd.DataFrame.from_records(items_list))\n",
    "        else:\n",
    "            break\n",
    "    return pd.concat(data)\n"
   ]
  },
  {
   "cell_type": "markdown",
   "metadata": {},
   "source": [
    "# Community forum activity\n",
    "\n",
    "The [Jupyter Community Forum](https://discourse.jupyter.org) is a place for Jovyans across the\n",
    "community to talk about Jupyter tools in interactive computing and how they fit into their\n",
    "workflows. It's also a place for developers to share ideas, tools, tips, and help one another.\n",
    "\n",
    "Below are a few updates from activity in the Discourse. For more detailed information about\n",
    "the activity on the Community Forum, check out these links:\n",
    "\n",
    "* [The users page](https://discourse.jupyter.org/u) has information about user activity\n",
    "* [The top posts page](https://discourse.jupyter.org/top) contains a list of top posts, sorted\n",
    "  by various metrics."
   ]
  },
  {
   "cell_type": "code",
   "execution_count": 6,
   "metadata": {
    "tags": [
     "hide_input"
    ]
   },
   "outputs": [],
   "source": [
    "# Get categories for IDs\n",
    "url = \"https://discourse.jupyter.org/site.json\"\n",
    "resp = requests.get(url, headers=api)\n",
    "category_mapping = {cat['id']: cat['name'] for cat in resp.json()['categories']}\n",
    "parent_categories = {cat['id']: cat.get(\"parent_category_id\", None) for cat in resp.json()['categories']}"
   ]
  },
  {
   "cell_type": "code",
   "execution_count": 7,
   "metadata": {
    "tags": [
     "hide_input"
    ]
   },
   "outputs": [],
   "source": [
    "# Base URL to use\n",
    "url = \"https://discourse.jupyter.org/latest.json\""
   ]
  },
  {
   "cell_type": "markdown",
   "metadata": {},
   "source": [
    "## Topics with lots of likes\n",
    "\n",
    "\"Likes\" are a way for community members to say thanks for a helpful post, show their\n",
    "support for an idea, or generally to share a little positivity with somebody else.\n",
    "These are topics that have generated lots of likes in recent history."
   ]
  },
  {
   "cell_type": "code",
   "execution_count": 8,
   "metadata": {
    "tags": [
     "hide_input"
    ]
   },
   "outputs": [
    {
     "data": {
      "text/markdown": [
       "* [Introduce yourself!](https://discourse.jupyter.org/t/introduce-yourself) (93 posts)\n",
       "* [{WIP} Re-Design of Jupyter.org Website](https://discourse.jupyter.org/t/wip-re-design-of-jupyter-org-website) (29 posts)\n",
       "* [Jupyter Community Calls](https://discourse.jupyter.org/t/jupyter-community-calls) (23 posts)\n",
       "* [Help us choose an updated &ldquo;Launch Binder&rdquo; badge!](https://discourse.jupyter.org/t/help-us-choose-an-updated-launch-binder-badge) (21 posts)\n",
       "* [PyCon 2019 and mybinder.org](https://discourse.jupyter.org/t/pycon-2019-and-mybinder-org) (17 posts)\n",
       "* [Jupyter community workshop: proposal on diversity, inclusion and accessibility](https://discourse.jupyter.org/t/jupyter-community-workshop-proposal-on-diversity-inclusion-and-accessibility) (20 posts)\n",
       "* [The Binder Federation](https://discourse.jupyter.org/t/the-binder-federation) (13 posts)\n",
       "* [Sunset the GitHub repo jupyter/help?](https://discourse.jupyter.org/t/sunset-the-github-repo-jupyter-help) (17 posts)\n",
       "* [Binder/BinderHub Workshops &ndash; Help Wanted!](https://discourse.jupyter.org/t/binder-binderhub-workshops-help-wanted) (25 posts)\n",
       "* [Creating a new Binder-at-home tool](https://discourse.jupyter.org/t/creating-a-new-binder-at-home-tool) (13 posts)"
      ],
      "text/plain": [
       "<IPython.core.display.Markdown object>"
      ]
     },
     "execution_count": 8,
     "metadata": {},
     "output_type": "execute_result"
    }
   ],
   "source": [
    "params = {\"order\": \"likes\", \"ascending\": \"False\"}\n",
    "resp = requests.get(url, headers=api, params=params)\n",
    "\n",
    "# Topics with the most likes in recent history\n",
    "liked = pd.DataFrame(resp.json()['topic_list']['topics'])\n",
    "Markdown(topics_to_markdown(liked))"
   ]
  },
  {
   "cell_type": "markdown",
   "metadata": {},
   "source": [
    "## Active topics on Discourse\n",
    "\n",
    "These are topics with lots of activity in recent history."
   ]
  },
  {
   "cell_type": "code",
   "execution_count": 9,
   "metadata": {
    "tags": [
     "hide_input"
    ]
   },
   "outputs": [
    {
     "data": {
      "text/markdown": [
       "* [Introduce yourself!](https://discourse.jupyter.org/t/introduce-yourself) (93 posts)\n",
       "* [Would a &ldquo;The Littlest Binder&rdquo; be useful?](https://discourse.jupyter.org/t/would-a-the-littlest-binder-be-useful) (30 posts)\n",
       "* [Tip: embed custom github content in a Binder link with nbgitpuller](https://discourse.jupyter.org/t/tip-embed-custom-github-content-in-a-binder-link-with-nbgitpuller) (30 posts)\n",
       "* [{WIP} Re-Design of Jupyter.org Website](https://discourse.jupyter.org/t/wip-re-design-of-jupyter-org-website) (29 posts)\n",
       "* [Plugins of considerations](https://discourse.jupyter.org/t/plugins-of-considerations) (28 posts)\n",
       "* [A proposal for JupyterHub communications](https://discourse.jupyter.org/t/a-proposal-for-jupyterhub-communications) (26 posts)\n",
       "* [Binder/BinderHub Workshops &ndash; Help Wanted!](https://discourse.jupyter.org/t/binder-binderhub-workshops-help-wanted) (25 posts)\n",
       "* [Jupyter Community Calls](https://discourse.jupyter.org/t/jupyter-community-calls) (23 posts)\n",
       "* [Help us choose an updated &ldquo;Launch Binder&rdquo; badge!](https://discourse.jupyter.org/t/help-us-choose-an-updated-launch-binder-badge) (21 posts)\n",
       "* [Potential collaboration on user research?](https://discourse.jupyter.org/t/potential-collaboration-on-user-research) (21 posts)"
      ],
      "text/plain": [
       "<IPython.core.display.Markdown object>"
      ]
     },
     "execution_count": 9,
     "metadata": {},
     "output_type": "execute_result"
    }
   ],
   "source": [
    "params = {\"order\": \"posts\", \"ascending\": \"False\"}\n",
    "resp = requests.get(url, headers=api, params=params)\n",
    "\n",
    "# Topics with the most posts in recent history\n",
    "posts = pd.DataFrame(resp.json()['topic_list']['topics'])\n",
    "Markdown(topics_to_markdown(posts))"
   ]
  },
  {
   "cell_type": "code",
   "execution_count": 10,
   "metadata": {
    "tags": [
     "hide_input"
    ]
   },
   "outputs": [
    {
     "data": {
      "application/vnd.vegalite.v2+json": {
       "$schema": "https://vega.github.io/schema/vega-lite/v2.6.0.json",
       "config": {
        "view": {
         "height": 300,
         "width": 400
        }
       },
       "data": {
        "name": "data-be1d796022f59c0c05ca62da7620f64b"
       },
       "datasets": {
        "data-be1d796022f59c0c05ca62da7620f64b": [
         {
          "bookmarked": 1,
          "category_id": "Admin requests",
          "parent/category": "Site Feedback/Admin requests",
          "parent_category": "Site Feedback"
         },
         {
          "bookmarked": 5,
          "category_id": "Meta",
          "parent/category": "Meta/Meta",
          "parent_category": "Meta"
         },
         {
          "bookmarked": 1,
          "category_id": "announcements",
          "parent/category": "Meta/announcements",
          "parent_category": "Meta"
         },
         {
          "bookmarked": 2,
          "category_id": "JupyterHub",
          "parent/category": "JupyterHub/JupyterHub",
          "parent_category": "JupyterHub"
         },
         {
          "bookmarked": 2,
          "category_id": "discuss",
          "parent/category": "JupyterHub/discuss",
          "parent_category": "JupyterHub"
         },
         {
          "bookmarked": 1,
          "category_id": "Enterprise Gateway",
          "parent/category": "Enterprise Gateway/Enterprise Gateway",
          "parent_category": "Enterprise Gateway"
         },
         {
          "bookmarked": 4,
          "category_id": "Community Chat",
          "parent/category": "Community Chat/Community Chat",
          "parent_category": "Community Chat"
         },
         {
          "bookmarked": 6,
          "category_id": "Binder",
          "parent/category": "Binder/Binder",
          "parent_category": "Binder"
         },
         {
          "bookmarked": 6,
          "category_id": "discuss",
          "parent/category": "Binder/discuss",
          "parent_category": "Binder"
         },
         {
          "bookmarked": 1,
          "category_id": "BinderHub",
          "parent/category": "Binder/BinderHub",
          "parent_category": "Binder"
         },
         {
          "bookmarked": 1,
          "category_id": "mybinder.org ops",
          "parent/category": "Binder/mybinder.org ops",
          "parent_category": "Binder"
         }
        ]
       },
       "encoding": {
        "color": {
         "field": "parent_category",
         "type": "nominal"
        },
        "x": {
         "field": "parent/category",
         "sort": [
          "Admin requests",
          "Meta",
          "announcements",
          "JupyterHub",
          "discuss",
          "Enterprise Gateway",
          "Community Chat",
          "Binder",
          "discuss",
          "BinderHub",
          "mybinder.org ops"
         ],
         "type": "nominal"
        },
        "y": {
         "field": "bookmarked",
         "type": "quantitative"
        }
       },
       "height": 300,
       "mark": "bar",
       "title": "Activity by category",
       "width": 700
      },
      "image/png": "[encoded data removed]",
      "text/plain": [
       "<VegaLite 2 object>\n",
       "\n",
       "If you see this message, it means the renderer has not been properly enabled\n",
       "for the frontend that you are using. For more information, see\n",
       "https://altair-viz.github.io/user_guide/troubleshooting.html\n"
      ]
     },
     "execution_count": 10,
     "metadata": {},
     "output_type": "execute_result"
    }
   ],
   "source": [
    "counts = counts_from_activity(posts)\n",
    "alt.Chart(data=counts, width=700, height=300, title=\"Activity by category\").mark_bar().encode(\n",
    "    x=alt.X(\"parent/category\", sort=alt.Sort(counts['category_id'].values.tolist())),\n",
    "    y=\"bookmarked\",\n",
    "    color=\"parent_category\"\n",
    ")"
   ]
  },
  {
   "cell_type": "markdown",
   "metadata": {},
   "source": [
    "## Recently-created topics\n",
    "\n",
    "These are topics that were recently created, sorted by the amount of activity\n",
    "in each one."
   ]
  },
  {
   "cell_type": "code",
   "execution_count": 11,
   "metadata": {
    "tags": [
     "hide_input"
    ]
   },
   "outputs": [
    {
     "data": {
      "text/markdown": [
       "* [Bitcoin mining (abuse/security)](https://discourse.jupyter.org/t/bitcoin-mining-abuse-security) (16 posts)\n",
       "* [I get `Read timed out` errors on when pushing image OVH](https://discourse.jupyter.org/t/i-get-read-timed-out-errors-on-when-pushing-image-ovh) (7 posts)\n",
       "* [Extension that is notified on notebook open event](https://discourse.jupyter.org/t/extension-that-is-notified-on-notebook-open-event) (6 posts)\n",
       "* [JupyterLab Rich Context Extensions](https://discourse.jupyter.org/t/jupyterlab-rich-context-extensions) (5 posts)\n",
       "* [0.5 G for memory limit?](https://discourse.jupyter.org/t/0-5-g-for-memory-limit) (3 posts)\n",
       "* [Quick question on jupyterlab doc regarding &lt;lab-location&gt;](https://discourse.jupyter.org/t/quick-question-on-jupyterlab-doc-regarding-lab-location) (3 posts)\n",
       "* [Document domain registration for JupyterHub](https://discourse.jupyter.org/t/document-domain-registration-for-jupyterhub) (3 posts)\n",
       "* [Too many redirects - Keycloak Authentication](https://discourse.jupyter.org/t/too-many-redirects-keycloak-authentication) (3 posts)\n",
       "* [Welcoming our new JupyterHub team member: Sarah!](https://discourse.jupyter.org/t/welcoming-our-new-jupyterhub-team-member-sarah) (3 posts)\n",
       "* [JupyterHub, Binder workshop](https://discourse.jupyter.org/t/jupyterhub-binder-workshop) (3 posts)"
      ],
      "text/plain": [
       "<IPython.core.display.Markdown object>"
      ]
     },
     "execution_count": 11,
     "metadata": {},
     "output_type": "execute_result"
    }
   ],
   "source": [
    "params = {\"order\": \"created\", \"ascending\": \"False\"}\n",
    "resp = requests.get(url, headers=api, params=params)\n",
    "\n",
    "# Sort created by the most posted for recently-created posts\n",
    "created = pd.DataFrame(resp.json()['topic_list']['topics'])\n",
    "created = created.sort_values('posts_count', ascending=False)\n",
    "Markdown(topics_to_markdown(created))"
   ]
  },
  {
   "cell_type": "code",
   "execution_count": 12,
   "metadata": {
    "tags": [
     "hide_input"
    ]
   },
   "outputs": [
    {
     "data": {
      "application/vnd.vegalite.v2+json": {
       "$schema": "https://vega.github.io/schema/vega-lite/v2.6.0.json",
       "config": {
        "view": {
         "height": 300,
         "width": 400
        }
       },
       "data": {
        "name": "data-b5fbbcb9157368b7a7886aa81df60233"
       },
       "datasets": {
        "data-b5fbbcb9157368b7a7886aa81df60233": [
         {
          "bookmarked": 4,
          "category_id": "Q&A",
          "parent/category": "Q&A/Q&A",
          "parent_category": "Q&A"
         },
         {
          "bookmarked": 3,
          "category_id": "JupyterLab",
          "parent/category": "JupyterLab/JupyterLab",
          "parent_category": "JupyterLab"
         },
         {
          "bookmarked": 2,
          "category_id": "Zero to JupyterHub on Kubernetes",
          "parent/category": "JupyterHub/Zero to JupyterHub on Kubernetes",
          "parent_category": "JupyterHub"
         },
         {
          "bookmarked": 1,
          "category_id": "JupyterHub",
          "parent/category": "JupyterHub/JupyterHub",
          "parent_category": "JupyterHub"
         },
         {
          "bookmarked": 1,
          "category_id": "The Littlest JupyterHub",
          "parent/category": "JupyterHub/The Littlest JupyterHub",
          "parent_category": "JupyterHub"
         },
         {
          "bookmarked": 1,
          "category_id": "discuss",
          "parent/category": "JupyterHub/discuss",
          "parent_category": "JupyterHub"
         },
         {
          "bookmarked": 1,
          "category_id": "team",
          "parent/category": "JupyterHub/team",
          "parent_category": "JupyterHub"
         },
         {
          "bookmarked": 1,
          "category_id": "Community Chat",
          "parent/category": "Community Chat/Community Chat",
          "parent_category": "Community Chat"
         },
         {
          "bookmarked": 2,
          "category_id": "Binder",
          "parent/category": "Binder/Binder",
          "parent_category": "Binder"
         },
         {
          "bookmarked": 2,
          "category_id": "discuss",
          "parent/category": "Binder/discuss",
          "parent_category": "Binder"
         }
        ]
       },
       "encoding": {
        "color": {
         "field": "parent_category",
         "type": "nominal"
        },
        "x": {
         "field": "parent/category",
         "sort": [
          "Q&A",
          "JupyterLab",
          "Zero to JupyterHub on Kubernetes",
          "JupyterHub",
          "The Littlest JupyterHub",
          "discuss",
          "team",
          "Community Chat",
          "Binder",
          "discuss"
         ],
         "type": "nominal"
        },
        "y": {
         "field": "bookmarked",
         "type": "quantitative"
        }
       },
       "height": 300,
       "mark": "bar",
       "title": "Activity by category",
       "width": 700
      },
      "image/png": "[encoded data removed]",
      "text/plain": [
       "<VegaLite 2 object>\n",
       "\n",
       "If you see this message, it means the renderer has not been properly enabled\n",
       "for the frontend that you are using. For more information, see\n",
       "https://altair-viz.github.io/user_guide/troubleshooting.html\n"
      ]
     },
     "execution_count": 12,
     "metadata": {},
     "output_type": "execute_result"
    }
   ],
   "source": [
    "counts = counts_from_activity(created)\n",
    "alt.Chart(data=counts, width=700, height=300, title=\"Activity by category\").mark_bar().encode(\n",
    "    x=alt.X(\"parent/category\", sort=alt.Sort(counts['category_id'].values.tolist())),\n",
    "    y=\"bookmarked\",\n",
    "    color=\"parent_category\"\n",
    ")"
   ]
  },
  {
   "cell_type": "markdown",
   "metadata": {},
   "source": [
    "# GitHub activity\n",
    "\n",
    "Jupyter also has lots of activity across GitHub repositories. The following sections contain\n",
    "overviews of recent activity across the following GitHub organizations:\n",
    "\n",
    "* [github.com/jupyterhub](https://github.com/jupyterhub)\n",
    "* [github.com/jupyter](https://github.com/jupyter)\n",
    "* [github.com/jupyterlab](https://github.com/jupyterlab)\n",
    "* [github.com/jupyter-widgets](https://github.com/jupyter-widgets)"
   ]
  },
  {
   "cell_type": "code",
   "execution_count": 60,
   "metadata": {
    "tags": [
     "hide_input"
    ]
   },
   "outputs": [
    {
     "data": {
      "text/markdown": [
       "Showing GitHub activity from **2019-05-01** to **2019-06-01**"
      ],
      "text/plain": [
       "<IPython.core.display.Markdown object>"
      ]
     },
     "execution_count": 60,
     "metadata": {},
     "output_type": "execute_result"
    }
   ],
   "source": [
    "from datetime import timedelta\n",
    "\n",
    "\n",
    "orgs = [\"jupyterhub\", \"jupyter\", \"jupyterlab\", \"jupyter-widgets\"]\n",
    "Markdown(f\"Showing GitHub activity from **{start_date}** to **{end_date}**\")"
   ]
  },
  {
   "cell_type": "markdown",
   "metadata": {
    "toc-hr-collapsed": false
   },
   "source": [
    "## Merged Pull requests\n",
    "\n",
    "Here's an analysis of **merged pull requests** across each of the repositories in the Jupyter\n",
    "ecosystem."
   ]
  },
  {
   "cell_type": "code",
   "execution_count": 61,
   "metadata": {
    "tags": [
     "hide_input"
    ]
   },
   "outputs": [
    {
     "name": "stderr",
     "output_type": "stream",
     "text": [
      "\n",
      "\n",
      "  0%|          | 0/4 [00:00<?, ?it/s]\u001b[A\u001b[A\n",
      "\n",
      " 25%|██▌       | 1/4 [00:33<01:41, 33.96s/it]\u001b[A\u001b[A\n",
      "\n",
      " 50%|█████     | 2/4 [01:23<01:17, 38.58s/it]\u001b[A\u001b[A\n",
      "\n",
      " 75%|███████▌  | 3/4 [01:50<00:35, 35.10s/it]\u001b[A\u001b[A\n",
      "\n",
      "100%|██████████| 4/4 [02:01<00:00, 27.96s/it]\u001b[A\u001b[A"
     ]
    }
   ],
   "source": [
    "# Update data\n",
    "merged = []\n",
    "for org in tqdm(orgs):\n",
    "    query = f\"is:merged user:{org} archived:false closed:{start_date}..{end_date}\"\n",
    "    this_merged = run_github_query(query)\n",
    "    this_merged['org'] = org\n",
    "    merged.append(this_merged)\n",
    "merged = pd.concat(merged)\n",
    "merged['repo'] = merged['repository_url'].map(lambda a: a.split('/')[-1])\n",
    "\n",
    "# Count PRs by org/repo\n",
    "prs_by_repo = merged.groupby(['org', 'repo']).count()['body'].reset_index().sort_values(['org', 'body'], ascending=False)"
   ]
  },
  {
   "cell_type": "code",
   "execution_count": 62,
   "metadata": {
    "tags": [
     "hide_input"
    ]
   },
   "outputs": [
    {
     "data": {
      "application/vnd.vegalite.v2+json": {
       "$schema": "https://vega.github.io/schema/vega-lite/v2.6.0.json",
       "config": {
        "view": {
         "height": 300,
         "width": 400
        }
       },
       "data": {
        "name": "data-1c67d93faf335d45fa68b11b8f906708"
       },
       "datasets": {
        "data-1c67d93faf335d45fa68b11b8f906708": [
         {
          "body": 65,
          "org": "jupyterlab",
          "repo": "jupyterlab"
         },
         {
          "body": 5,
          "org": "jupyterlab",
          "repo": "jupyterlab_server"
         },
         {
          "body": 4,
          "org": "jupyterlab",
          "repo": "jupyter-renderers"
         },
         {
          "body": 2,
          "org": "jupyterlab",
          "repo": "jupyterlab-git"
         },
         {
          "body": 1,
          "org": "jupyterlab",
          "repo": "extension-cookiecutter-js"
         },
         {
          "body": 1,
          "org": "jupyterlab",
          "repo": "jupyterlab-toc"
         },
         {
          "body": 1,
          "org": "jupyterlab",
          "repo": "jupyterlab_pygments"
         },
         {
          "body": 27,
          "org": "jupyterhub",
          "repo": "mybinder.org-deploy"
         },
         {
          "body": 24,
          "org": "jupyterhub",
          "repo": "the-littlest-jupyterhub"
         },
         {
          "body": 13,
          "org": "jupyterhub",
          "repo": "zero-to-jupyterhub-k8s"
         },
         {
          "body": 12,
          "org": "jupyterhub",
          "repo": "jupyterhub"
         },
         {
          "body": 7,
          "org": "jupyterhub",
          "repo": "binderhub"
         },
         {
          "body": 5,
          "org": "jupyterhub",
          "repo": "nbgitpuller"
         },
         {
          "body": 3,
          "org": "jupyterhub",
          "repo": "alabaster-jupyterhub"
         },
         {
          "body": 2,
          "org": "jupyterhub",
          "repo": "chartpress"
         },
         {
          "body": 2,
          "org": "jupyterhub",
          "repo": "configurable-http-proxy"
         },
         {
          "body": 2,
          "org": "jupyterhub",
          "repo": "jupyter-server-proxy"
         },
         {
          "body": 2,
          "org": "jupyterhub",
          "repo": "oauthenticator"
         },
         {
          "body": 2,
          "org": "jupyterhub",
          "repo": "team-compass"
         },
         {
          "body": 1,
          "org": "jupyterhub",
          "repo": "binder"
         },
         {
          "body": 1,
          "org": "jupyterhub",
          "repo": "jupyter-rsession-proxy"
         },
         {
          "body": 1,
          "org": "jupyterhub",
          "repo": "jupyterlab-hub"
         },
         {
          "body": 1,
          "org": "jupyterhub",
          "repo": "kubespawner"
         },
         {
          "body": 1,
          "org": "jupyterhub",
          "repo": "ltiauthenticator"
         },
         {
          "body": 1,
          "org": "jupyterhub",
          "repo": "tmpauthenticator"
         },
         {
          "body": 13,
          "org": "jupyter-widgets",
          "repo": "ipyleaflet"
         },
         {
          "body": 8,
          "org": "jupyter-widgets",
          "repo": "jupyter-sphinx"
         },
         {
          "body": 6,
          "org": "jupyter-widgets",
          "repo": "ipywidgets"
         },
         {
          "body": 2,
          "org": "jupyter-widgets",
          "repo": "pythreejs"
         },
         {
          "body": 34,
          "org": "jupyter",
          "repo": "nbgrader"
         },
         {
          "body": 18,
          "org": "jupyter",
          "repo": "repo2docker"
         },
         {
          "body": 16,
          "org": "jupyter",
          "repo": "nbconvert"
         },
         {
          "body": 10,
          "org": "jupyter",
          "repo": "enterprise_gateway"
         },
         {
          "body": 9,
          "org": "jupyter",
          "repo": "docker-stacks"
         },
         {
          "body": 8,
          "org": "jupyter",
          "repo": "notebook"
         },
         {
          "body": 8,
          "org": "jupyter",
          "repo": "qtconsole"
         },
         {
          "body": 6,
          "org": "jupyter",
          "repo": "jupyter-book"
         },
         {
          "body": 4,
          "org": "jupyter",
          "repo": "jupyter_client"
         },
         {
          "body": 3,
          "org": "jupyter",
          "repo": "kernel_gateway"
         },
         {
          "body": 2,
          "org": "jupyter",
          "repo": "jupyter"
         },
         {
          "body": 2,
          "org": "jupyter",
          "repo": "jupyter_core"
         },
         {
          "body": 2,
          "org": "jupyter",
          "repo": "jupyter_server"
         },
         {
          "body": 2,
          "org": "jupyter",
          "repo": "nb2kg"
         },
         {
          "body": 1,
          "org": "jupyter",
          "repo": "nbdime"
         },
         {
          "body": 1,
          "org": "jupyter",
          "repo": "nbviewer"
         }
        ]
       },
       "encoding": {
        "color": {
         "field": "org",
         "type": "nominal"
        },
        "x": {
         "field": "repo",
         "sort": [
          "jupyterlab",
          "jupyterlab_server",
          "jupyter-renderers",
          "jupyterlab-git",
          "extension-cookiecutter-js",
          "jupyterlab-toc",
          "jupyterlab_pygments",
          "mybinder.org-deploy",
          "the-littlest-jupyterhub",
          "zero-to-jupyterhub-k8s",
          "jupyterhub",
          "binderhub",
          "nbgitpuller",
          "alabaster-jupyterhub",
          "chartpress",
          "configurable-http-proxy",
          "jupyter-server-proxy",
          "oauthenticator",
          "team-compass",
          "binder",
          "jupyter-rsession-proxy",
          "jupyterlab-hub",
          "kubespawner",
          "ltiauthenticator",
          "tmpauthenticator",
          "ipyleaflet",
          "jupyter-sphinx",
          "ipywidgets",
          "pythreejs",
          "nbgrader",
          "repo2docker",
          "nbconvert",
          "enterprise_gateway",
          "docker-stacks",
          "notebook",
          "qtconsole",
          "jupyter-book",
          "jupyter_client",
          "kernel_gateway",
          "jupyter",
          "jupyter_core",
          "jupyter_server",
          "nb2kg",
          "nbdime",
          "nbviewer"
         ],
         "type": "nominal"
        },
        "y": {
         "field": "body",
         "type": "quantitative"
        }
       },
       "mark": "bar",
       "title": "Merged PRs in the last 30 days"
      },
      "image/png": "[encoded data removed]",
      "text/plain": [
       "<VegaLite 2 object>\n",
       "\n",
       "If you see this message, it means the renderer has not been properly enabled\n",
       "for the frontend that you are using. For more information, see\n",
       "https://altair-viz.github.io/user_guide/troubleshooting.html\n"
      ]
     },
     "execution_count": 62,
     "metadata": {},
     "output_type": "execute_result"
    }
   ],
   "source": [
    "alt.Chart(data=prs_by_repo, title=\"Merged PRs in the last 30 days\").mark_bar().encode(\n",
    "    x=alt.X('repo', sort=prs_by_repo['repo'].values.tolist()),\n",
    "    y='body',\n",
    "    color='org'\n",
    ")"
   ]
  },
  {
   "cell_type": "markdown",
   "metadata": {},
   "source": [
    "### A list of merged PRs by project"
   ]
  },
  {
   "cell_type": "code",
   "execution_count": 63,
   "metadata": {
    "tags": [
     "hide_input"
    ]
   },
   "outputs": [
    {
     "data": {
      "text/markdown": [
       "#### jupyter\n",
       "\n",
       "##### [jupyter/docker-stacks](https://github.com/jupyter/docker-stacks)\n",
       "* [(#873)](https://github.com/jupyter/docker-stacks/pull/873): _Apply additional tags to base-notebook_ by **[parente](https://github.com/parente)**\n",
       "* [(#872)](https://github.com/jupyter/docker-stacks/pull/872): _Update RTD config file to v2_ by **[willingc](https://github.com/willingc)**\n",
       "* [(#871)](https://github.com/jupyter/docker-stacks/pull/871): _Update to Spark 2.4.3_ by **[parente](https://github.com/parente)**\n",
       "* [(#870)](https://github.com/jupyter/docker-stacks/pull/870): _Community Stacks documentation ihaskell-notebook_ by **[jamesdbrock](https://github.com/jamesdbrock)**\n",
       "* [(#869)](https://github.com/jupyter/docker-stacks/pull/869): _jupyterhub 1.0_ by **[minrk](https://github.com/minrk)**\n",
       "* [(#867)](https://github.com/jupyter/docker-stacks/pull/867): _Changed `conda clean` flags to `--all -f -y`_ by **[echowhisky](https://github.com/echowhisky)**\n",
       "* [(#864)](https://github.com/jupyter/docker-stacks/pull/864): _Draft pages about translation_ by **[parente](https://github.com/parente)**\n",
       "* [(#863)](https://github.com/jupyter/docker-stacks/pull/863): _Setup travis en template update_ by **[parente](https://github.com/parente)**\n",
       "* [(#859)](https://github.com/jupyter/docker-stacks/pull/859): _[Doc] Change Spark Python Notebook entry point sentence_ by **[marcraminv](https://github.com/marcraminv)**\n",
       "* [(#857)](https://github.com/jupyter/docker-stacks/pull/857): _Build docs, images when appropriate_ by **[parente](https://github.com/parente)**\n",
       "\n",
       "##### [jupyter/enterprise_gateway](https://github.com/jupyter/enterprise_gateway)\n",
       "* [(#674)](https://github.com/jupyter/enterprise_gateway/pull/674): _Update platforms.html_ by **[philip-p-jones](https://github.com/philip-p-jones)**\n",
       "* [(#673)](https://github.com/jupyter/enterprise_gateway/pull/673): _Fix container termination signal handling in EG container_ by **[kevin-bates](https://github.com/kevin-bates)**\n",
       "* [(#668)](https://github.com/jupyter/enterprise_gateway/pull/668): _Add missing \"RUN\" command in docs/source/docker.md_ by **[michzimny](https://github.com/michzimny)**\n",
       "* [(#666)](https://github.com/jupyter/enterprise_gateway/pull/666): _Makefiles: change publish targets to push, use --no-cache on new publish-image target_ by **[kevin-bates](https://github.com/kevin-bates)**\n",
       "* [(#662)](https://github.com/jupyter/enterprise_gateway/pull/662): _Update helm chart with best practices_ by **[akchinSTC](https://github.com/akchinSTC)**\n",
       "* [(#658)](https://github.com/jupyter/enterprise_gateway/pull/658): _Update Apache Spark download URL with official archive instead of mirror_ by **[akchinSTC](https://github.com/akchinSTC)**\n",
       "* [(#651)](https://github.com/jupyter/enterprise_gateway/pull/651): _Add ingress resource to helm chart_ by **[akchinSTC](https://github.com/akchinSTC)**\n",
       "* [(#645)](https://github.com/jupyter/enterprise_gateway/pull/645): _Refactor KernelSessionManager to accommodate various persistence methods_ by **[kevin-bates](https://github.com/kevin-bates)**\n",
       "* [(#641)](https://github.com/jupyter/enterprise_gateway/pull/641): _Add daemon to pull kernel images to each node_ by **[kevin-bates](https://github.com/kevin-bates)**\n",
       "* [(#639)](https://github.com/jupyter/enterprise_gateway/pull/639): _Change kernel-tf-gpu-py image_ by **[esevan](https://github.com/esevan)**\n",
       "\n",
       "##### [jupyter/jupyter](https://github.com/jupyter/jupyter)\n",
       "* [(#427)](https://github.com/jupyter/jupyter/pull/427): _May Community Call notes_ by **[Zsailer](https://github.com/Zsailer)**\n",
       "* [(#425)](https://github.com/jupyter/jupyter/pull/425): _[MRG] Add Jupyter Community Calls_ by **[Zsailer](https://github.com/Zsailer)**\n",
       "\n",
       "##### [jupyter/jupyter-book](https://github.com/jupyter/jupyter-book)\n",
       "* [(#197)](https://github.com/jupyter/jupyter-book/pull/197): _Ask if kernelspec exists in metadata_ by **[joergbrech](https://github.com/joergbrech)**\n",
       "* [(#194)](https://github.com/jupyter/jupyter-book/pull/194): _changelog and version bump_ by **[choldgraf](https://github.com/choldgraf)**\n",
       "* [(#193)](https://github.com/jupyter/jupyter-book/pull/193): _Release_ by **[choldgraf](https://github.com/choldgraf)**\n",
       "* [(#190)](https://github.com/jupyter/jupyter-book/pull/190): _Update local install instructions_ by **[mwcraig](https://github.com/mwcraig)**\n",
       "* [(#188)](https://github.com/jupyter/jupyter-book/pull/188): _fixing some css bugs_ by **[choldgraf](https://github.com/choldgraf)**\n",
       "* [(#187)](https://github.com/jupyter/jupyter-book/pull/187): _[FIX] Issue #137 Errors when running on Windows_ by **[stafforddavidj](https://github.com/stafforddavidj)**\n",
       "\n",
       "##### [jupyter/jupyter_client](https://github.com/jupyter/jupyter_client)\n",
       "* [(#440)](https://github.com/jupyter/jupyter_client/pull/440): _Add xeus to the documentation on how to write a kernel for Jupyter_ by **[martinRenou](https://github.com/martinRenou)**\n",
       "* [(#438)](https://github.com/jupyter/jupyter_client/pull/438): _Backport PR #437: Avoid kernel failures with multiple processes_ by **[alexrudy](https://github.com/alexrudy)**\n",
       "* [(#437)](https://github.com/jupyter/jupyter_client/pull/437): _Avoid kernel failures with multiple processes_ by **[alexrudy](https://github.com/alexrudy)**\n",
       "* [(#432)](https://github.com/jupyter/jupyter_client/pull/432): _Configure the connection_file if not already done_ by **[SpencerPark](https://github.com/SpencerPark)**\n",
       "\n",
       "##### [jupyter/jupyter_core](https://github.com/jupyter/jupyter_core)\n",
       "* [(#150)](https://github.com/jupyter/jupyter_core/pull/150): _Drop Python 3.3 from Travis CI_ by **[takluyver](https://github.com/takluyver)**\n",
       "* [(#147)](https://github.com/jupyter/jupyter_core/pull/147): _Always use setuptools in setup.py_ by **[coldfix](https://github.com/coldfix)**\n",
       "\n",
       "##### [jupyter/jupyter_server](https://github.com/jupyter/jupyter_server)\n",
       "* [(#49)](https://github.com/jupyter/jupyter_server/pull/49): _Add localhost to list of default local_hostnames_ by **[aschlaep](https://github.com/aschlaep)**\n",
       "* [(#47)](https://github.com/jupyter/jupyter_server/pull/47): _Remove bundler endpoints_ by **[SylvainCorlay](https://github.com/SylvainCorlay)**\n",
       "\n",
       "##### [jupyter/kernel_gateway](https://github.com/jupyter/kernel_gateway)\n",
       "* [(#319)](https://github.com/jupyter/kernel_gateway/pull/319): _Update build status badge in README_ by **[willingc](https://github.com/willingc)**\n",
       "* [(#318)](https://github.com/jupyter/kernel_gateway/pull/318): _Enable Python 3.7 on travis_ by **[dleen](https://github.com/dleen)**\n",
       "* [(#317)](https://github.com/jupyter/kernel_gateway/pull/317): _Fix bug when other jupyter server running_ by **[dleen](https://github.com/dleen)**\n",
       "\n",
       "##### [jupyter/nb2kg](https://github.com/jupyter/nb2kg)\n",
       "* [(#35)](https://github.com/jupyter/nb2kg/pull/35): _Increase http timeout default values_ by **[kevin-bates](https://github.com/kevin-bates)**\n",
       "* [(#33)](https://github.com/jupyter/nb2kg/pull/33): _Update handlers.py_ by **[SolarisYan](https://github.com/SolarisYan)**\n",
       "\n",
       "##### [jupyter/nbconvert](https://github.com/jupyter/nbconvert)\n",
       "* [(#1039)](https://github.com/jupyter/nbconvert/pull/1039): _Fix LaTeX exporting '?' for non-ascii title_ by **[imtsuki](https://github.com/imtsuki)**\n",
       "* [(#1030)](https://github.com/jupyter/nbconvert/pull/1030): _Fix Testing on Windows_ by **[t-makaro](https://github.com/t-makaro)**\n",
       "* [(#1029)](https://github.com/jupyter/nbconvert/pull/1029): _Correct a few typos_ by **[t-makaro](https://github.com/t-makaro)**\n",
       "* [(#1027)](https://github.com/jupyter/nbconvert/pull/1027): _update export_from_notebook names_ by **[t-makaro](https://github.com/t-makaro)**\n",
       "* [(#1024)](https://github.com/jupyter/nbconvert/pull/1024): _Latex improvements_ by **[t-makaro](https://github.com/t-makaro)**\n",
       "* [(#1023)](https://github.com/jupyter/nbconvert/pull/1023): _dedenting html in ExtractOutputPreprocessor_ by **[amniskin](https://github.com/amniskin)**\n",
       "* [(#1022)](https://github.com/jupyter/nbconvert/pull/1022): _Fix backwards incompatibility with markdown2html_ by **[jhamrick](https://github.com/jhamrick)**\n",
       "* [(#1021)](https://github.com/jupyter/nbconvert/pull/1021): _kwargs is used when km is exist, but not defind in func._ by **[00Kai0](https://github.com/00Kai0)**\n",
       "* [(#1019)](https://github.com/jupyter/nbconvert/pull/1019): _Fix doc build_ by **[willingc](https://github.com/willingc)**\n",
       "* [(#1017)](https://github.com/jupyter/nbconvert/pull/1017): _Disable IPython History in executing preprocessor_ by **[alexrudy](https://github.com/alexrudy)**\n",
       "* [(#1015)](https://github.com/jupyter/nbconvert/pull/1015): _Removed newlines from clear notebook test. Refactored test_run_notebooks_ by **[MSeal](https://github.com/MSeal)**\n",
       "* [(#1013)](https://github.com/jupyter/nbconvert/pull/1013): _Close image tag_ by **[SylvainCorlay](https://github.com/SylvainCorlay)**\n",
       "* [(#1011)](https://github.com/jupyter/nbconvert/pull/1011): _Require mock for tests_ by **[hroncok](https://github.com/hroncok)**\n",
       "* [(#1010)](https://github.com/jupyter/nbconvert/pull/1010): _Remove un-necessary css_ by **[SylvainCorlay](https://github.com/SylvainCorlay)**\n",
       "* [(#1009)](https://github.com/jupyter/nbconvert/pull/1009): _Couldn't pass by_ by **[manycoding](https://github.com/manycoding)**\n",
       "* [(#994)](https://github.com/jupyter/nbconvert/pull/994): _Fixing #659 (output cutoff and iopub timeout)_ by **[djherbis](https://github.com/djherbis)**\n",
       "\n",
       "##### [jupyter/nbdime](https://github.com/jupyter/nbdime)\n",
       "* [(#475)](https://github.com/jupyter/nbdime/pull/475): _Fix styling issue_ by **[vidartf](https://github.com/vidartf)**\n",
       "\n",
       "##### [jupyter/nbgrader](https://github.com/jupyter/nbgrader)\n",
       "* [(#1127)](https://github.com/jupyter/nbgrader/pull/1127): _Better documentation of nbgrader_config.py_ by **[jhamrick](https://github.com/jhamrick)**\n",
       "* [(#1126)](https://github.com/jupyter/nbgrader/pull/1126): _Remove the third party resources page_ by **[jhamrick](https://github.com/jhamrick)**\n",
       "* [(#1125)](https://github.com/jupyter/nbgrader/pull/1125): _Check that the course directory is a subdirectory of the notebook dir_ by **[jhamrick](https://github.com/jhamrick)**\n",
       "* [(#1124)](https://github.com/jupyter/nbgrader/pull/1124): _Only run nbextensions tests on oldest and newest versions of python_ by **[jhamrick](https://github.com/jhamrick)**\n",
       "* [(#1122)](https://github.com/jupyter/nbgrader/pull/1122): _Fix incorrect usage of Exchange.course_id_ by **[jhamrick](https://github.com/jhamrick)**\n",
       "* [(#1121)](https://github.com/jupyter/nbgrader/pull/1121): _Fix logfile_ by **[jhamrick](https://github.com/jhamrick)**\n",
       "* [(#1119)](https://github.com/jupyter/nbgrader/pull/1119): _added a sanatizing step to the doc creation. _ by **[danielmaitre](https://github.com/danielmaitre)**\n",
       "* [(#1118)](https://github.com/jupyter/nbgrader/pull/1118): _Integrate course_id into the api and apps_ by **[damianavila](https://github.com/damianavila)**\n",
       "* [(#1116)](https://github.com/jupyter/nbgrader/pull/1116): _Autograde & Assign: create missing students/assignments by default_ by **[takluyver](https://github.com/takluyver)**\n",
       "* [(#1115)](https://github.com/jupyter/nbgrader/pull/1115): _Fix typo in tmp filename prefix in conftest.py_ by **[slel](https://github.com/slel)**\n",
       "* [(#1113)](https://github.com/jupyter/nbgrader/pull/1113): _Add a course list extension that shows all courses an instructor can manage_ by **[jhamrick](https://github.com/jhamrick)**\n",
       "* [(#1112)](https://github.com/jupyter/nbgrader/pull/1112): _Locate all configurable classes for generate_config subcommand_ by **[takluyver](https://github.com/takluyver)**\n",
       "* [(#1110)](https://github.com/jupyter/nbgrader/pull/1110): _Systematic use of utils.get_username instead of $USER_ by **[nthiery](https://github.com/nthiery)**\n",
       "* [(#1109)](https://github.com/jupyter/nbgrader/pull/1109): _naming the temporary directories in tests_ by **[danielmaitre](https://github.com/danielmaitre)**\n",
       "* [(#1108)](https://github.com/jupyter/nbgrader/pull/1108): _Extended support for filtering files copied in the exchange_ by **[nthiery](https://github.com/nthiery)**\n",
       "* [(#1106)](https://github.com/jupyter/nbgrader/pull/1106): _Remove testing of python 3.4_ by **[jhamrick](https://github.com/jhamrick)**\n",
       "* [(#1105)](https://github.com/jupyter/nbgrader/pull/1105): _Remove extra keys in nbgrader metadata and better schema mismatch errors_ by **[jhamrick](https://github.com/jhamrick)**\n",
       "* [(#1102)](https://github.com/jupyter/nbgrader/pull/1102): _Only build docs with one version of python_ by **[jhamrick](https://github.com/jhamrick)**\n",
       "* [(#1101)](https://github.com/jupyter/nbgrader/pull/1101): _Add jupyter education book to third party resources_ by **[jhamrick](https://github.com/jhamrick)**\n",
       "* [(#1100)](https://github.com/jupyter/nbgrader/pull/1100): _Run test in the `python` group in parallel using pytest-xdist_ by **[BertR](https://github.com/BertR)**\n",
       "* [(#1098)](https://github.com/jupyter/nbgrader/pull/1098): _Customizable student ID in `nbgrader submit`_ by **[nthiery](https://github.com/nthiery)**\n",
       "* [(#1094)](https://github.com/jupyter/nbgrader/pull/1094): _Update license_ by **[jhamrick](https://github.com/jhamrick)**\n",
       "* [(#1093)](https://github.com/jupyter/nbgrader/pull/1093): _Add authentication plugin support_ by **[jhamrick](https://github.com/jhamrick)**\n",
       "* [(#1088)](https://github.com/jupyter/nbgrader/pull/1088): _Remove version requirement from urllib3_ by **[jhamrick](https://github.com/jhamrick)**\n",
       "* [(#1084)](https://github.com/jupyter/nbgrader/pull/1084): _Fix miscellaneous bugs_ by **[jhamrick](https://github.com/jhamrick)**\n",
       "* [(#1080)](https://github.com/jupyter/nbgrader/pull/1080): _compatibility with SQLAlchemy 1.3+_ by **[gertingold](https://github.com/gertingold)**\n",
       "* [(#1075)](https://github.com/jupyter/nbgrader/pull/1075): _Give ExecutePreprocessor the Traitlets config during validation_ by **[rkdarst](https://github.com/rkdarst)**\n",
       "* [(#1071)](https://github.com/jupyter/nbgrader/pull/1071): _student and assignment selection in exportapp implemented_ by **[ddland](https://github.com/ddland)**\n",
       "* [(#1064)](https://github.com/jupyter/nbgrader/pull/1064): _Validate all cells_ by **[rkdarst](https://github.com/rkdarst)**\n",
       "* [(#1061)](https://github.com/jupyter/nbgrader/pull/1061): _Set env var NBGRADER_VALIDATING when validating_ by **[rkdarst](https://github.com/rkdarst)**\n",
       "* [(#1040)](https://github.com/jupyter/nbgrader/pull/1040): _Restrict access for students to different courses_ by **[sigurdurb](https://github.com/sigurdurb)**\n",
       "* [(#1036)](https://github.com/jupyter/nbgrader/pull/1036): _Add a general lms user id column to the student table_ by **[sigurdurb](https://github.com/sigurdurb)**\n",
       "* [(#1001)](https://github.com/jupyter/nbgrader/pull/1001): _Allow setting a different assignment dir for students than the root notebook directory_ by **[rkdarst](https://github.com/rkdarst)**\n",
       "* [(#967)](https://github.com/jupyter/nbgrader/pull/967): _Added note in FAQ about changing cell ids_ by **[Ciemaar](https://github.com/Ciemaar)**\n",
       "\n",
       "##### [jupyter/nbviewer](https://github.com/jupyter/nbviewer)\n",
       "* [(#829)](https://github.com/jupyter/nbviewer/pull/829): _Additional logging for file permission issues_ by **[krishnatg](https://github.com/krishnatg)**\n",
       "\n",
       "##### [jupyter/notebook](https://github.com/jupyter/notebook)\n",
       "* [(#4642)](https://github.com/jupyter/notebook/pull/4642): _Use JavaScript to redirect users_ by **[betatim](https://github.com/betatim)**\n",
       "* [(#4623)](https://github.com/jupyter/notebook/pull/4623): _Make tooltip buttons have consistent appearance_ by **[mtd91429](https://github.com/mtd91429)**\n",
       "* [(#4617)](https://github.com/jupyter/notebook/pull/4617): _Migrate multiselect toggle test to selenium_ by **[TeresaPartidaS](https://github.com/TeresaPartidaS)**\n",
       "* [(#4615)](https://github.com/jupyter/notebook/pull/4615): _Convert dualmode_execute, dualmode_clipboard & dualmode_markdown to selenium_ by **[LuisARodr](https://github.com/LuisARodr)**\n",
       "* [(#4608)](https://github.com/jupyter/notebook/pull/4608): _Convert dualmode_cellmode to selenium_ by **[LuisARodr](https://github.com/LuisARodr)**\n",
       "* [(#4591)](https://github.com/jupyter/notebook/pull/4591): _Update Working With Markdown Cells.ipynb_ by **[dalanicolai](https://github.com/dalanicolai)**\n",
       "* [(#4588)](https://github.com/jupyter/notebook/pull/4588): _fix duplicates in download as menu_ by **[t-makaro](https://github.com/t-makaro)**\n",
       "* [(#4563)](https://github.com/jupyter/notebook/pull/4563): _Converted clipboard js to selenium and renamed undelete.py_ by **[emiliotl](https://github.com/emiliotl)**\n",
       "\n",
       "##### [jupyter/qtconsole](https://github.com/jupyter/qtconsole)\n",
       "* [(#344)](https://github.com/jupyter/qtconsole/pull/344): _Several improvements to the Readme_ by **[ccordoba12](https://github.com/ccordoba12)**\n",
       "* [(#343)](https://github.com/jupyter/qtconsole/pull/343): _Move setup.py to use setuptools instead of distutils_ by **[ccordoba12](https://github.com/ccordoba12)**\n",
       "* [(#342)](https://github.com/jupyter/qtconsole/pull/342): _Update Changelog with 4.5 changes_ by **[ccordoba12](https://github.com/ccordoba12)**\n",
       "* [(#341)](https://github.com/jupyter/qtconsole/pull/341): _PR: Use new traitlets API with decorators_ by **[dalthviz](https://github.com/dalthviz)**\n",
       "* [(#340)](https://github.com/jupyter/qtconsole/pull/340): _Remove metadata entry from setup.cfg_ by **[ccordoba12](https://github.com/ccordoba12)**\n",
       "* [(#339)](https://github.com/jupyter/qtconsole/pull/339): _Use Readme.md for long_description in setup.py_ by **[ccordoba12](https://github.com/ccordoba12)**\n",
       "* [(#338)](https://github.com/jupyter/qtconsole/pull/338): _PR: Add Comms to qtconsole_ by **[impact27](https://github.com/impact27)**\n",
       "* [(#336)](https://github.com/jupyter/qtconsole/pull/336): _PR: Add language name as attribute of the JupyterWidget_ by **[dalthviz](https://github.com/dalthviz)**\n",
       "\n",
       "##### [jupyter/repo2docker](https://github.com/jupyter/repo2docker)\n",
       "* [(#697)](https://github.com/jupyter/repo2docker/pull/697): _Upgrade JupyterHub to 1.0_ by **[yuvipanda](https://github.com/yuvipanda)**\n",
       "* [(#695)](https://github.com/jupyter/repo2docker/pull/695): _[MRG] Update verification of Node install_ by **[betatim](https://github.com/betatim)**\n",
       "* [(#693)](https://github.com/jupyter/repo2docker/pull/693): _[MRG] Zenodo content provider_ by **[betatim](https://github.com/betatim)**\n",
       "* [(#692)](https://github.com/jupyter/repo2docker/pull/692): _Adding contentprovider documentation_ by **[choldgraf](https://github.com/choldgraf)**\n",
       "* [(#690)](https://github.com/jupyter/repo2docker/pull/690): _set CONDA_DEFAULT_ENV_ by **[minrk](https://github.com/minrk)**\n",
       "* [(#689)](https://github.com/jupyter/repo2docker/pull/689): _Switch Travis CI to Ubuntu Xenial 16.04_ by **[jrbourbeau](https://github.com/jrbourbeau)**\n",
       "* [(#684)](https://github.com/jupyter/repo2docker/pull/684): _[MRG] Drop support for Python 3.4_ by **[betatim](https://github.com/betatim)**\n",
       "* [(#683)](https://github.com/jupyter/repo2docker/pull/683): _[MRG] Use getpass instead of pwd to fetch username_ by **[betatim](https://github.com/betatim)**\n",
       "* [(#679)](https://github.com/jupyter/repo2docker/pull/679): _Do not try to build the image with root as the primary user_ by **[Xarthisius](https://github.com/Xarthisius)**\n",
       "* [(#678)](https://github.com/jupyter/repo2docker/pull/678): _Revert \"[MRG] Do not try to build the image with root as the primary user.\"_ by **[betatim](https://github.com/betatim)**\n",
       "* [(#677)](https://github.com/jupyter/repo2docker/pull/677): _[MRG] Update base image used for memory limit checks_ by **[betatim](https://github.com/betatim)**\n",
       "* [(#676)](https://github.com/jupyter/repo2docker/pull/676): _[MRG] Do not try to build the image with root as the primary user._ by **[Xarthisius](https://github.com/Xarthisius)**\n",
       "* [(#669)](https://github.com/jupyter/repo2docker/pull/669): _bumping release date_ by **[choldgraf](https://github.com/choldgraf)**\n",
       "* [(#668)](https://github.com/jupyter/repo2docker/pull/668): _[MRG] release info updates_ by **[choldgraf](https://github.com/choldgraf)**\n",
       "* [(#666)](https://github.com/jupyter/repo2docker/pull/666): _[MRG] Remove the conda package cache as we can't hardlink to it_ by **[betatim](https://github.com/betatim)**\n",
       "* [(#664)](https://github.com/jupyter/repo2docker/pull/664): _[MRG] Update change log in preparation for releasing v0.9.0_ by **[betatim](https://github.com/betatim)**\n",
       "* [(#663)](https://github.com/jupyter/repo2docker/pull/663): _tweak language to make clear `exec \"$@\"` works_ by **[fomightez](https://github.com/fomightez)**\n",
       "* [(#662)](https://github.com/jupyter/repo2docker/pull/662): _specification info page_ by **[choldgraf](https://github.com/choldgraf)**\n",
       "\n",
       "\n",
       "#### jupyter-widgets\n",
       "\n",
       "##### [jupyter-widgets/ipyleaflet](https://github.com/jupyter-widgets/ipyleaflet)\n",
       "* [(#368)](https://github.com/jupyter-widgets/ipyleaflet/pull/368): _geodata class_ by **[VasavanThiru](https://github.com/VasavanThiru)**\n",
       "* [(#366)](https://github.com/jupyter-widgets/ipyleaflet/pull/366): _Adding an example of selecting GeoJSON features by clicking on the leaflet layer_ by **[mpdwulit](https://github.com/mpdwulit)**\n",
       "* [(#365)](https://github.com/jupyter-widgets/ipyleaflet/pull/365): _choropleth doc improvement_ by **[VasavanThiru](https://github.com/VasavanThiru)**\n",
       "* [(#360)](https://github.com/jupyter-widgets/ipyleaflet/pull/360): _Add doc for no_wrap option_ by **[kgiacobbi](https://github.com/kgiacobbi)**\n",
       "* [(#359)](https://github.com/jupyter-widgets/ipyleaflet/pull/359): _Add no_wrap option for TileLayer_ by **[kgiacobbi](https://github.com/kgiacobbi)**\n",
       "* [(#355)](https://github.com/jupyter-widgets/ipyleaflet/pull/355): _Add layers control to map every time a layer is added_ by **[fitoprincipe](https://github.com/fitoprincipe)**\n",
       "* [(#353)](https://github.com/jupyter-widgets/ipyleaflet/pull/353): _Use more robust check before using noConflict() mode_ by **[Kirill888](https://github.com/Kirill888)**\n",
       "* [(#352)](https://github.com/jupyter-widgets/ipyleaflet/pull/352): _Fix map size issue_ by **[martinRenou](https://github.com/martinRenou)**\n",
       "* [(#351)](https://github.com/jupyter-widgets/ipyleaflet/pull/351): _Expose fullscreen control/state_ by **[Kirill888](https://github.com/Kirill888)**\n",
       "* [(#349)](https://github.com/jupyter-widgets/ipyleaflet/pull/349): _Fix styling problems for GeoJSON_ by **[Kirill888](https://github.com/Kirill888)**\n",
       "* [(#344)](https://github.com/jupyter-widgets/ipyleaflet/pull/344): _Use latest version of leaflet-draw plugin_ by **[Kirill888](https://github.com/Kirill888)**\n",
       "* [(#343)](https://github.com/jupyter-widgets/ipyleaflet/pull/343): _Change name of OpenTopoMap from 'OpenTopMap' to 'OpenTopoMap'_ by **[Swanson-Hysell](https://github.com/Swanson-Hysell)**\n",
       "* [(#339)](https://github.com/jupyter-widgets/ipyleaflet/pull/339): _add MapStyle to change Map's css style, aiming to change the cursor type_ by **[fitoprincipe](https://github.com/fitoprincipe)**\n",
       "\n",
       "##### [jupyter-widgets/ipywidgets](https://github.com/jupyter-widgets/ipywidgets)\n",
       "* [(#2425)](https://github.com/jupyter-widgets/ipywidgets/pull/2425): _Remove unused scrollIfNeeded and StyleModel import_ by **[jtpio](https://github.com/jtpio)**\n",
       "* [(#2423)](https://github.com/jupyter-widgets/ipywidgets/pull/2423): _#2422 provide type explicitly to fix complilation_ by **[throwable-one](https://github.com/throwable-one)**\n",
       "* [(#2421)](https://github.com/jupyter-widgets/ipywidgets/pull/2421): _Update for JLab 1.0a5._ by **[jasongrout](https://github.com/jasongrout)**\n",
       "* [(#2418)](https://github.com/jupyter-widgets/ipywidgets/pull/2418): _Drop postcss_ by **[SylvainCorlay](https://github.com/SylvainCorlay)**\n",
       "* [(#2409)](https://github.com/jupyter-widgets/ipywidgets/pull/2409): _Remove the overflow exception for the shorthand property_ by **[SylvainCorlay](https://github.com/SylvainCorlay)**\n",
       "* [(#2315)](https://github.com/jupyter-widgets/ipywidgets/pull/2315): _Enable noImplicitAny compiler check, fix tslint errors._ by **[blois](https://github.com/blois)**\n",
       "\n",
       "##### [jupyter-widgets/jupyter-sphinx](https://github.com/jupyter-widgets/jupyter-sphinx)\n",
       "* [(#49)](https://github.com/jupyter-widgets/jupyter-sphinx/pull/49): _add javascript support_ by **[basnijholt](https://github.com/basnijholt)**\n",
       "* [(#46)](https://github.com/jupyter-widgets/jupyter-sphinx/pull/46): _configure travis_ by **[akhmerov](https://github.com/akhmerov)**\n",
       "* [(#44)](https://github.com/jupyter-widgets/jupyter-sphinx/pull/44): _remove embed_widgets extension_ by **[jbweston](https://github.com/jbweston)**\n",
       "* [(#42)](https://github.com/jupyter-widgets/jupyter-sphinx/pull/42): _add tests and test configuration_ by **[jbweston](https://github.com/jbweston)**\n",
       "* [(#39)](https://github.com/jupyter-widgets/jupyter-sphinx/pull/39): _Docs_ by **[jbweston](https://github.com/jbweston)**\n",
       "* [(#38)](https://github.com/jupyter-widgets/jupyter-sphinx/pull/38): _enable parallel execution_ by **[jbweston](https://github.com/jbweston)**\n",
       "* [(#29)](https://github.com/jupyter-widgets/jupyter-sphinx/pull/29): _strip unecessary newlines when content is loaded from a file_ by **[jbweston](https://github.com/jbweston)**\n",
       "* [(#24)](https://github.com/jupyter-widgets/jupyter-sphinx/pull/24): _add support for rendering ipywidgets_ by **[jbweston](https://github.com/jbweston)**\n",
       "\n",
       "##### [jupyter-widgets/pythreejs](https://github.com/jupyter-widgets/pythreejs)\n",
       "* [(#272)](https://github.com/jupyter-widgets/pythreejs/pull/272): _Update traits.py for collections deprecation warning_ by **[GenevieveBuckley](https://github.com/GenevieveBuckley)**\n",
       "* [(#271)](https://github.com/jupyter-widgets/pythreejs/pull/271): _Update pythreejs.py to silence traitlets warning_ by **[GenevieveBuckley](https://github.com/GenevieveBuckley)**\n",
       "\n",
       "\n",
       "#### jupyterhub\n",
       "\n",
       "##### [jupyterhub/alabaster-jupyterhub](https://github.com/jupyterhub/alabaster-jupyterhub)\n",
       "* [(#18)](https://github.com/jupyterhub/alabaster-jupyterhub/pull/18): _dev version bump 1.7_ by **[choldgraf](https://github.com/choldgraf)**\n",
       "* [(#17)](https://github.com/jupyterhub/alabaster-jupyterhub/pull/17): _version bump_ by **[choldgraf](https://github.com/choldgraf)**\n",
       "* [(#16)](https://github.com/jupyterhub/alabaster-jupyterhub/pull/16): _enabling right sidebar scrolling and spacing tweaks and edit on github_ by **[choldgraf](https://github.com/choldgraf)**\n",
       "\n",
       "##### [jupyterhub/binder](https://github.com/jupyterhub/binder)\n",
       "* [(#164)](https://github.com/jupyterhub/binder/pull/164): _faq billing link uses lab now_ by **[choldgraf](https://github.com/choldgraf)**\n",
       "\n",
       "##### [jupyterhub/binderhub](https://github.com/jupyterhub/binderhub)\n",
       "* [(#860)](https://github.com/jupyterhub/binderhub/pull/860): _[MRG] rename variable and restructure API docs_ by **[nuest](https://github.com/nuest)**\n",
       "* [(#858)](https://github.com/jupyterhub/binderhub/pull/858): _[MRG] Tweak loading messages_ by **[betatim](https://github.com/betatim)**\n",
       "* [(#857)](https://github.com/jupyterhub/binderhub/pull/857): _fix tolerations in dind daemonset and add tolerations to image-cleaner_ by **[jhamman](https://github.com/jhamman)**\n",
       "* [(#856)](https://github.com/jupyterhub/binderhub/pull/856): _add user tolerations to dind daemonset_ by **[jhamman](https://github.com/jhamman)**\n",
       "* [(#853)](https://github.com/jupyterhub/binderhub/pull/853): _add default toleration to build pods_ by **[jhamman](https://github.com/jhamman)**\n",
       "* [(#847)](https://github.com/jupyterhub/binderhub/pull/847): _Discuss indentation of configuration files in debugging docs_ by **[sgibson91](https://github.com/sgibson91)**\n",
       "* [(#841)](https://github.com/jupyterhub/binderhub/pull/841): _Revert \"Update to Docs: Clarify where in secret.yaml GitHub Personal Access Token should be added\"_ by **[sgibson91](https://github.com/sgibson91)**\n",
       "\n",
       "##### [jupyterhub/chartpress](https://github.com/jupyterhub/chartpress)\n",
       "* [(#34)](https://github.com/jupyterhub/chartpress/pull/34): _avoid mangling of quotes in rendered charts (#1)_ by **[rokroskar](https://github.com/rokroskar)**\n",
       "* [(#28)](https://github.com/jupyterhub/chartpress/pull/28): _provide a reset option to reset image tags and chart version_ by **[rokroskar](https://github.com/rokroskar)**\n",
       "\n",
       "##### [jupyterhub/configurable-http-proxy](https://github.com/jupyterhub/configurable-http-proxy)\n",
       "* [(#202)](https://github.com/jupyterhub/configurable-http-proxy/pull/202): _chore(deps): update dependency nyc to v14_ by **[renovate[bot]](https://github.com/apps/renovate)**\n",
       "* [(#201)](https://github.com/jupyterhub/configurable-http-proxy/pull/201): _Update dependency commander to ~2.20.0_ by **[renovate[bot]](https://github.com/apps/renovate)**\n",
       "\n",
       "##### [jupyterhub/jupyter-rsession-proxy](https://github.com/jupyterhub/jupyter-rsession-proxy)\n",
       "* [(#67)](https://github.com/jupyterhub/jupyter-rsession-proxy/pull/67): _Include LICENSE.txt in sdist and wheel_ by **[xhochy](https://github.com/xhochy)**\n",
       "\n",
       "##### [jupyterhub/jupyter-server-proxy](https://github.com/jupyterhub/jupyter-server-proxy)\n",
       "* [(#132)](https://github.com/jupyterhub/jupyter-server-proxy/pull/132): _install-doc-update_ by **[quasiben](https://github.com/quasiben)**\n",
       "* [(#128)](https://github.com/jupyterhub/jupyter-server-proxy/pull/128): _Allow for other hosts than `localhost` to be proxied._ by **[ian-r-rose](https://github.com/ian-r-rose)**\n",
       "\n",
       "##### [jupyterhub/jupyterhub](https://github.com/jupyterhub/jupyterhub)\n",
       "* [(#2584)](https://github.com/jupyterhub/jupyterhub/pull/2584): _re-raise exceptions in launch_instance_async_ by **[minrk](https://github.com/minrk)**\n",
       "* [(#2565)](https://github.com/jupyterhub/jupyterhub/pull/2565): _Update link of `changelog`_ by **[iblis17](https://github.com/iblis17)**\n",
       "* [(#2564)](https://github.com/jupyterhub/jupyterhub/pull/2564): _typo_ by **[julienchastang](https://github.com/julienchastang)**\n",
       "* [(#2558)](https://github.com/jupyterhub/jupyterhub/pull/2558): _Update to simplify the language related to spawner options_ by **[NikeNano](https://github.com/NikeNano)**\n",
       "* [(#2548)](https://github.com/jupyterhub/jupyterhub/pull/2548): _Adding the use case of the Elucidata: How Jupyter Notebook is used in…_ by **[IamViditAgarwal](https://github.com/IamViditAgarwal)**\n",
       "* [(#2546)](https://github.com/jupyterhub/jupyterhub/pull/2546): _Dict rewritten as literal_ by **[remyleone](https://github.com/remyleone)**\n",
       "* [(#2545)](https://github.com/jupyterhub/jupyterhub/pull/2545): _releasing 1.0_ by **[minrk](https://github.com/minrk)**\n",
       "* [(#2544)](https://github.com/jupyterhub/jupyterhub/pull/2544): _[autodoc] move config sample to annotation_ by **[minrk](https://github.com/minrk)**\n",
       "* [(#2543)](https://github.com/jupyterhub/jupyterhub/pull/2543): _pin mysql-connector-python on travis_ by **[minrk](https://github.com/minrk)**\n",
       "* [(#2538)](https://github.com/jupyterhub/jupyterhub/pull/2538): _Update gallery-jhub-deployments.md_ by **[labarba](https://github.com/labarba)**\n",
       "* [(#2534)](https://github.com/jupyterhub/jupyterhub/pull/2534): _Refactor Logout Handler_ by **[distortedsignal](https://github.com/distortedsignal)**\n",
       "* [(#2524)](https://github.com/jupyterhub/jupyterhub/pull/2524): _test postgres with url-encoded password_ by **[minrk](https://github.com/minrk)**\n",
       "\n",
       "##### [jupyterhub/jupyterlab-hub](https://github.com/jupyterhub/jupyterlab-hub)\n",
       "* [(#86)](https://github.com/jupyterhub/jupyterlab-hub/pull/86): _Updates for JL 1.0.0-alpha.6_ by **[athornton](https://github.com/athornton)**\n",
       "\n",
       "##### [jupyterhub/kubespawner](https://github.com/jupyterhub/kubespawner)\n",
       "* [(#321)](https://github.com/jupyterhub/kubespawner/pull/321): _Add {username} expansion to extra_pod_config_ by **[cgiraldo](https://github.com/cgiraldo)**\n",
       "\n",
       "##### [jupyterhub/ltiauthenticator](https://github.com/jupyterhub/ltiauthenticator)\n",
       "* [(#15)](https://github.com/jupyterhub/ltiauthenticator/pull/15): _Link to Canvas' external app docs._ by **[ryanlovett](https://github.com/ryanlovett)**\n",
       "\n",
       "##### [jupyterhub/mybinder.org-deploy](https://github.com/jupyterhub/mybinder.org-deploy)\n",
       "* [(#993)](https://github.com/jupyterhub/mybinder.org-deploy/pull/993): _binderhub: 9f83710...851025f_ by **[henchbot](https://github.com/henchbot)**\n",
       "* [(#992)](https://github.com/jupyterhub/mybinder.org-deploy/pull/992): _Use \"weird\" timeouts_ by **[betatim](https://github.com/betatim)**\n",
       "* [(#991)](https://github.com/jupyterhub/mybinder.org-deploy/pull/991): _repo2docker: 51898274...80fbc639_ by **[henchbot](https://github.com/henchbot)**\n",
       "* [(#990)](https://github.com/jupyterhub/mybinder.org-deploy/pull/990): _repo2docker: 80b979f8...51898274_ by **[henchbot](https://github.com/henchbot)**\n",
       "* [(#988)](https://github.com/jupyterhub/mybinder.org-deploy/pull/988): _Add README for federation redirector_ by **[betatim](https://github.com/betatim)**\n",
       "* [(#987)](https://github.com/jupyterhub/mybinder.org-deploy/pull/987): _Add a redirector for the mybinder.org federation_ by **[betatim](https://github.com/betatim)**\n",
       "* [(#984)](https://github.com/jupyterhub/mybinder.org-deploy/pull/984): _Add hmharshit/mltraining which is a fork of a previously banned repo_ by **[betatim](https://github.com/betatim)**\n",
       "* [(#983)](https://github.com/jupyterhub/mybinder.org-deploy/pull/983): _Bump repo2docker and binderhub_ by **[betatim](https://github.com/betatim)**\n",
       "* [(#982)](https://github.com/jupyterhub/mybinder.org-deploy/pull/982): _Revert \"repo2docker: 91309cab...80b979f8\"_ by **[choldgraf](https://github.com/choldgraf)**\n",
       "* [(#981)](https://github.com/jupyterhub/mybinder.org-deploy/pull/981): _Revert \"binderhub: 82fc209...9f83710\"_ by **[henchc](https://github.com/henchc)**\n",
       "* [(#979)](https://github.com/jupyterhub/mybinder.org-deploy/pull/979): _binderhub: 82fc209...9f83710_ by **[henchbot](https://github.com/henchbot)**\n",
       "* [(#978)](https://github.com/jupyterhub/mybinder.org-deploy/pull/978): _repo2docker: 91309cab...80b979f8_ by **[henchbot](https://github.com/henchbot)**\n",
       "* [(#976)](https://github.com/jupyterhub/mybinder.org-deploy/pull/976): _binderhub: 10ac4d8...82fc209_ by **[henchbot](https://github.com/henchbot)**\n",
       "* [(#975)](https://github.com/jupyterhub/mybinder.org-deploy/pull/975): _Fix typo in repo ban_ by **[betatim](https://github.com/betatim)**\n",
       "* [(#974)](https://github.com/jupyterhub/mybinder.org-deploy/pull/974): _Ban shishirchoudharygic/mltraining_ by **[betatim](https://github.com/betatim)**\n",
       "* [(#973)](https://github.com/jupyterhub/mybinder.org-deploy/pull/973): _Open an additional port for the xroot protocol_ by **[betatim](https://github.com/betatim)**\n",
       "* [(#972)](https://github.com/jupyterhub/mybinder.org-deploy/pull/972): _repo2docker: 25ebca04...91309cab_ by **[henchbot](https://github.com/henchbot)**\n",
       "* [(#971)](https://github.com/jupyterhub/mybinder.org-deploy/pull/971): _Ban hmharshit/cn-ait for the moment_ by **[betatim](https://github.com/betatim)**\n",
       "* [(#970)](https://github.com/jupyterhub/mybinder.org-deploy/pull/970): _Adding new configuration for OVH cluster_ by **[mael-le-gal](https://github.com/mael-le-gal)**\n",
       "* [(#967)](https://github.com/jupyterhub/mybinder.org-deploy/pull/967): _analytics-publisher: Cleanup cloud costs schema_ by **[yuvipanda](https://github.com/yuvipanda)**\n",
       "* [(#966)](https://github.com/jupyterhub/mybinder.org-deploy/pull/966): _repo2docker: d674ecee...25ebca04_ by **[henchbot](https://github.com/henchbot)**\n",
       "* [(#965)](https://github.com/jupyterhub/mybinder.org-deploy/pull/965): _Revert \"repo2docker: d674ecee...4514ba31\"_ by **[sgibson91](https://github.com/sgibson91)**\n",
       "* [(#964)](https://github.com/jupyterhub/mybinder.org-deploy/pull/964): _repo2docker: d674ecee...4514ba31_ by **[sgibson91](https://github.com/sgibson91)**\n",
       "* [(#963)](https://github.com/jupyterhub/mybinder.org-deploy/pull/963): _analytics-publisher: Bump jinja2 version_ by **[yuvipanda](https://github.com/yuvipanda)**\n",
       "* [(#962)](https://github.com/jupyterhub/mybinder.org-deploy/pull/962): _repo2docker: df89849e...d674ecee_ by **[henchc](https://github.com/henchc)**\n",
       "* [(#961)](https://github.com/jupyterhub/mybinder.org-deploy/pull/961): _repo2docker: 9099def4...df89849e_ by **[henchc](https://github.com/henchc)**\n",
       "* [(#849)](https://github.com/jupyterhub/mybinder.org-deploy/pull/849): _Automatically publish cloud compute costs_ by **[yuvipanda](https://github.com/yuvipanda)**\n",
       "\n",
       "##### [jupyterhub/nbgitpuller](https://github.com/jupyterhub/nbgitpuller)\n",
       "* [(#88)](https://github.com/jupyterhub/nbgitpuller/pull/88): _documentation clarification_ by **[parmentelat](https://github.com/parmentelat)**\n",
       "* [(#82)](https://github.com/jupyterhub/nbgitpuller/pull/82): _circle config to push docs_ by **[choldgraf](https://github.com/choldgraf)**\n",
       "* [(#81)](https://github.com/jupyterhub/nbgitpuller/pull/81): _adding documentation_ by **[choldgraf](https://github.com/choldgraf)**\n",
       "* [(#79)](https://github.com/jupyterhub/nbgitpuller/pull/79): _Don't require including cloned dir name in path to open_ by **[yuvipanda](https://github.com/yuvipanda)**\n",
       "* [(#78)](https://github.com/jupyterhub/nbgitpuller/pull/78): _Generate URLs that can be launched from canvas_ by **[yuvipanda](https://github.com/yuvipanda)**\n",
       "\n",
       "##### [jupyterhub/oauthenticator](https://github.com/jupyterhub/oauthenticator)\n",
       "* [(#261)](https://github.com/jupyterhub/oauthenticator/pull/261): _Allow option to disable basic auth header in generic oauth_ by **[sunnielyu](https://github.com/sunnielyu)**\n",
       "* [(#257)](https://github.com/jupyterhub/oauthenticator/pull/257): _OpenShift 4.0 splits OAuth provider out of REST API URL host._ by **[GrahamDumpleton](https://github.com/GrahamDumpleton)**\n",
       "\n",
       "##### [jupyterhub/team-compass](https://github.com/jupyterhub/team-compass)\n",
       "* [(#161)](https://github.com/jupyterhub/team-compass/pull/161): _Change May notes to 2019_ by **[Zsailer](https://github.com/Zsailer)**\n",
       "* [(#158)](https://github.com/jupyterhub/team-compass/pull/158): _Add the May team meeting notes_ by **[lheagy](https://github.com/lheagy)**\n",
       "\n",
       "##### [jupyterhub/the-littlest-jupyterhub](https://github.com/jupyterhub/the-littlest-jupyterhub)\n",
       "* [(#359)](https://github.com/jupyterhub/the-littlest-jupyterhub/pull/359): _Install & use pycurl for requests_ by **[yuvipanda](https://github.com/yuvipanda)**\n",
       "* [(#358)](https://github.com/jupyterhub/the-littlest-jupyterhub/pull/358): _Minor azure doc cleanup_ by **[yuvipanda](https://github.com/yuvipanda)**\n",
       "* [(#357)](https://github.com/jupyterhub/the-littlest-jupyterhub/pull/357): _Suppress insecure HTTPS warning when upgrading TLJH_ by **[GeorgianaElena](https://github.com/GeorgianaElena)**\n",
       "* [(#355)](https://github.com/jupyterhub/the-littlest-jupyterhub/pull/355): _Fixed out of date config directory listed in docs for tljh-config_ by **[JuanCab](https://github.com/JuanCab)**\n",
       "* [(#352)](https://github.com/jupyterhub/the-littlest-jupyterhub/pull/352): _Add \"tljh-config unset\" option_ by **[GeorgianaElena](https://github.com/GeorgianaElena)**\n",
       "* [(#347)](https://github.com/jupyterhub/the-littlest-jupyterhub/pull/347): _Upgrade while https enabled_ by **[GeorgianaElena](https://github.com/GeorgianaElena)**\n",
       "* [(#343)](https://github.com/jupyterhub/the-littlest-jupyterhub/pull/343): _Remove stray .DS_Store files_ by **[yuvipanda](https://github.com/yuvipanda)**\n",
       "* [(#342)](https://github.com/jupyterhub/the-littlest-jupyterhub/pull/342): _Add instructions to deploy on Azure_ by **[trallard](https://github.com/trallard)**\n",
       "* [(#340)](https://github.com/jupyterhub/the-littlest-jupyterhub/pull/340): _Add more validation to bootstrap.py_ by **[yuvipanda](https://github.com/yuvipanda)**\n",
       "* [(#339)](https://github.com/jupyterhub/the-littlest-jupyterhub/pull/339): _Retry downloading traefik if it fails_ by **[yuvipanda](https://github.com/yuvipanda)**\n",
       "* [(#337)](https://github.com/jupyterhub/the-littlest-jupyterhub/pull/337): _Provide much better error messages_ by **[yuvipanda](https://github.com/yuvipanda)**\n",
       "* [(#335)](https://github.com/jupyterhub/the-littlest-jupyterhub/pull/335): _Limit memory available in integration tests_ by **[yuvipanda](https://github.com/yuvipanda)**\n",
       "* [(#331)](https://github.com/jupyterhub/the-littlest-jupyterhub/pull/331): _Remove stray = in authenticator configuration example_ by **[yuvipanda](https://github.com/yuvipanda)**\n",
       "* [(#329)](https://github.com/jupyterhub/the-littlest-jupyterhub/pull/329): _Minor cleanup of custom server install documents_ by **[yuvipanda](https://github.com/yuvipanda)**\n",
       "* [(#328)](https://github.com/jupyterhub/the-littlest-jupyterhub/pull/328): _Cleanup HTTPS documentation_ by **[yuvipanda](https://github.com/yuvipanda)**\n",
       "* [(#327)](https://github.com/jupyterhub/the-littlest-jupyterhub/pull/327): _Add note about not running on your own laptop or in Docker_ by **[yuvipanda](https://github.com/yuvipanda)**\n",
       "* [(#326)](https://github.com/jupyterhub/the-littlest-jupyterhub/pull/326): _Use c.Spawner to set mem_limit & cpu_limit_ by **[yuvipanda](https://github.com/yuvipanda)**\n",
       "* [(#324)](https://github.com/jupyterhub/the-littlest-jupyterhub/pull/324): _Remove repeated sentence from README.rst_ by **[MayeulC](https://github.com/MayeulC)**\n",
       "* [(#320)](https://github.com/jupyterhub/the-littlest-jupyterhub/pull/320): _Remove ominous warning with outdated release date_ by **[yuvipanda](https://github.com/yuvipanda)**\n",
       "* [(#319)](https://github.com/jupyterhub/the-littlest-jupyterhub/pull/319): _Move digital ocean 'resize' docs out of 'install' step_ by **[yuvipanda](https://github.com/yuvipanda)**\n",
       "* [(#317)](https://github.com/jupyterhub/the-littlest-jupyterhub/pull/317): _Update Readme for the AWS docs link_ by **[shireenrao](https://github.com/shireenrao)**\n",
       "* [(#313)](https://github.com/jupyterhub/the-littlest-jupyterhub/pull/313): _Upgrade to JupyterHub 1.0_ by **[minrk](https://github.com/minrk)**\n",
       "* [(#311)](https://github.com/jupyterhub/the-littlest-jupyterhub/pull/311): _Bump JupyterHub and systemdspawner versions_ by **[yuvipanda](https://github.com/yuvipanda)**\n",
       "* [(#242)](https://github.com/jupyterhub/the-littlest-jupyterhub/pull/242): _Adds the universe repository to the used sources_ by **[owah](https://github.com/owah)**\n",
       "\n",
       "##### [jupyterhub/tmpauthenticator](https://github.com/jupyterhub/tmpauthenticator)\n",
       "* [(#18)](https://github.com/jupyterhub/tmpauthenticator/pull/18): _Compatibility with JupyterHub v1.0.0_ by **[mohirio](https://github.com/mohirio)**\n",
       "\n",
       "##### [jupyterhub/zero-to-jupyterhub-k8s](https://github.com/jupyterhub/zero-to-jupyterhub-k8s)\n",
       "* [(#1298)](https://github.com/jupyterhub/zero-to-jupyterhub-k8s/pull/1298): _ Fix azure cli VMSSPreview feature register command _ by **[dazzag24](https://github.com/dazzag24)**\n",
       "* [(#1294)](https://github.com/jupyterhub/zero-to-jupyterhub-k8s/pull/1294): _Unbreak git build_ by **[joshbode](https://github.com/joshbode)**\n",
       "* [(#1290)](https://github.com/jupyterhub/zero-to-jupyterhub-k8s/pull/1290): _Fix a couple of mistakes in Google Kubernetes instructions_ by **[astrofrog](https://github.com/astrofrog)**\n",
       "* [(#1289)](https://github.com/jupyterhub/zero-to-jupyterhub-k8s/pull/1289): _Suggest quotes around tag._ by **[danielballan](https://github.com/danielballan)**\n",
       "* [(#1288)](https://github.com/jupyterhub/zero-to-jupyterhub-k8s/pull/1288): _Include jupyter-firstuseauthenticator._ by **[danielballan](https://github.com/danielballan)**\n",
       "* [(#1280)](https://github.com/jupyterhub/zero-to-jupyterhub-k8s/pull/1280): _Disable becoming root inside hub and proxy containers_ by **[yuvipanda](https://github.com/yuvipanda)**\n",
       "* [(#1279)](https://github.com/jupyterhub/zero-to-jupyterhub-k8s/pull/1279): _hub: Add useful debugging tools to hub image_ by **[yuvipanda](https://github.com/yuvipanda)**\n",
       "* [(#1278)](https://github.com/jupyterhub/zero-to-jupyterhub-k8s/pull/1278): _Clean up a line in the CI logs_ by **[consideRatio](https://github.com/consideRatio)**\n",
       "* [(#1276)](https://github.com/jupyterhub/zero-to-jupyterhub-k8s/pull/1276): _Enable continuous prePuller by default_ by **[consideRatio](https://github.com/consideRatio)**\n",
       "* [(#1275)](https://github.com/jupyterhub/zero-to-jupyterhub-k8s/pull/1275): _Fix prePuller.extraImages linting etc_ by **[consideRatio](https://github.com/consideRatio)**\n",
       "* [(#1274)](https://github.com/jupyterhub/zero-to-jupyterhub-k8s/pull/1274): _add initContainers to hub config_ by **[scottyhq](https://github.com/scottyhq)**\n",
       "* [(#1272)](https://github.com/jupyterhub/zero-to-jupyterhub-k8s/pull/1272): _enable user scheduler by default_ by **[minrk](https://github.com/minrk)**\n",
       "* [(#1264)](https://github.com/jupyterhub/zero-to-jupyterhub-k8s/pull/1264): _Fixed minor bug in google pricing calculator_ by **[noahbjohnson](https://github.com/noahbjohnson)**\n",
       "* [(#1263)](https://github.com/jupyterhub/zero-to-jupyterhub-k8s/pull/1263): _install jupyterhub 1.0 final_ by **[minrk](https://github.com/minrk)**\n",
       "\n",
       "\n",
       "#### jupyterlab\n",
       "\n",
       "##### [jupyterlab/extension-cookiecutter-js](https://github.com/jupyterlab/extension-cookiecutter-js)\n",
       "* [(#24)](https://github.com/jupyterlab/extension-cookiecutter-js/pull/24): _add CSS usage example_ by **[michzimny](https://github.com/michzimny)**\n",
       "\n",
       "##### [jupyterlab/jupyter-renderers](https://github.com/jupyterlab/jupyter-renderers)\n",
       "* [(#193)](https://github.com/jupyterlab/jupyter-renderers/pull/193): _Add extension number for Vega package_ by **[domoritz](https://github.com/domoritz)**\n",
       "* [(#191)](https://github.com/jupyterlab/jupyter-renderers/pull/191): _Fix build issue caused by JS comment in msa CSS_ by **[gnestor](https://github.com/gnestor)**\n",
       "* [(#186)](https://github.com/jupyterlab/jupyter-renderers/pull/186): _Add npm version and download info badges_ by **[dbast](https://github.com/dbast)**\n",
       "* [(#184)](https://github.com/jupyterlab/jupyter-renderers/pull/184): _Add Vega 4 extension_ by **[domoritz](https://github.com/domoritz)**\n",
       "\n",
       "##### [jupyterlab/jupyterlab](https://github.com/jupyterlab/jupyterlab)\n",
       "* [(#6454)](https://github.com/jupyterlab/jupyterlab/pull/6454): _Update phosphor packages to restore tab drop zone_ by **[jasongrout](https://github.com/jasongrout)**\n",
       "* [(#6447)](https://github.com/jupyterlab/jupyterlab/pull/6447): _Audit keyboard shortcuts for Accel instead of Ctrl_ by **[ian-r-rose](https://github.com/ian-r-rose)**\n",
       "* [(#6444)](https://github.com/jupyterlab/jupyterlab/pull/6444): _Modified Markdown cells' overflow to \"auto\"_ by **[capslockwizard](https://github.com/capslockwizard)**\n",
       "* [(#6440)](https://github.com/jupyterlab/jupyterlab/pull/6440): _Upgrade to typescript 3.5.1_ by **[jasongrout](https://github.com/jasongrout)**\n",
       "* [(#6438)](https://github.com/jupyterlab/jupyterlab/pull/6438): _Update changelog to reflect 1.0a5 release, the good release._ by **[jasongrout](https://github.com/jasongrout)**\n",
       "* [(#6437)](https://github.com/jupyterlab/jupyterlab/pull/6437): _PrepublishOnly integrity check_ by **[jasongrout](https://github.com/jasongrout)**\n",
       "* [(#6430)](https://github.com/jupyterlab/jupyterlab/pull/6430): _Very rough changelog for the next alpha, alpha 4._ by **[jasongrout](https://github.com/jasongrout)**\n",
       "* [(#6429)](https://github.com/jupyterlab/jupyterlab/pull/6429): _Add version to Vega extension ID_ by **[domoritz](https://github.com/domoritz)**\n",
       "* [(#6426)](https://github.com/jupyterlab/jupyterlab/pull/6426): _Audit innerHTML usage and sanitize inputs._ by **[afshin](https://github.com/afshin)**\n",
       "* [(#6424)](https://github.com/jupyterlab/jupyterlab/pull/6424): _Allow Raises-exception_ by **[blink1073](https://github.com/blink1073)**\n",
       "* [(#6414)](https://github.com/jupyterlab/jupyterlab/pull/6414): _Fix app example_ by **[blink1073](https://github.com/blink1073)**\n",
       "* [(#6412)](https://github.com/jupyterlab/jupyterlab/pull/6412): _Rewrite Kernel Message typings and only clear cell execution prompt if needed_ by **[jasongrout](https://github.com/jasongrout)**\n",
       "* [(#6409)](https://github.com/jupyterlab/jupyterlab/pull/6409): _More granular completion_ by **[ian-r-rose](https://github.com/ian-r-rose)**\n",
       "* [(#6407)](https://github.com/jupyterlab/jupyterlab/pull/6407): _Make selected command palette darker on hover_ by **[saulshanabrook](https://github.com/saulshanabrook)**\n",
       "* [(#6406)](https://github.com/jupyterlab/jupyterlab/pull/6406): _Hide the Last Modified column on a narrow filebrowser._ by **[jasongrout](https://github.com/jasongrout)**\n",
       "* [(#6401)](https://github.com/jupyterlab/jupyterlab/pull/6401): _Fix file browser model autostart, simplify poll start logic._ by **[afshin](https://github.com/afshin)**\n",
       "* [(#6399)](https://github.com/jupyterlab/jupyterlab/pull/6399): _Connection lost token_ by **[ian-r-rose](https://github.com/ian-r-rose)**\n",
       "* [(#6398)](https://github.com/jupyterlab/jupyterlab/pull/6398): _Update a number of dependencies to the current version._ by **[jasongrout](https://github.com/jasongrout)**\n",
       "* [(#6391)](https://github.com/jupyterlab/jupyterlab/pull/6391): _Add smart copy/paste in terminal and update docs_ by **[blink1073](https://github.com/blink1073)**\n",
       "* [(#6388)](https://github.com/jupyterlab/jupyterlab/pull/6388): _Refresh yarn.lock._ by **[jasongrout](https://github.com/jasongrout)**\n",
       "* [(#6383)](https://github.com/jupyterlab/jupyterlab/pull/6383): _Fix scrolling down running sessions_ by **[manuzhang](https://github.com/manuzhang)**\n",
       "* [(#6382)](https://github.com/jupyterlab/jupyterlab/pull/6382): _fix duplicate inspect message when typing_ by **[cnydw](https://github.com/cnydw)**\n",
       "* [(#6375)](https://github.com/jupyterlab/jupyterlab/pull/6375): _Add missing \"Merge Selected Cells\" item to context menu_ by **[mofeing](https://github.com/mofeing)**\n",
       "* [(#6372)](https://github.com/jupyterlab/jupyterlab/pull/6372): _Clean up handling of launch assets_ by **[blink1073](https://github.com/blink1073)**\n",
       "* [(#6364)](https://github.com/jupyterlab/jupyterlab/pull/6364): _Delete session from Set on terminated_ by **[fcollonval](https://github.com/fcollonval)**\n",
       "* [(#6361)](https://github.com/jupyterlab/jupyterlab/pull/6361): _Add label for the default notebook toolbar_ by **[yuvipanda](https://github.com/yuvipanda)**\n",
       "* [(#6359)](https://github.com/jupyterlab/jupyterlab/pull/6359): _Turn on accessibility in xterm.js_ by **[yuvipanda](https://github.com/yuvipanda)**\n",
       "* [(#6356)](https://github.com/jupyterlab/jupyterlab/pull/6356): _Skip collapsed cells when selecting_ by **[saulshanabrook](https://github.com/saulshanabrook)**\n",
       "* [(#6350)](https://github.com/jupyterlab/jupyterlab/pull/6350): _Remove extraneous 'Find and Replace...' item from the edit menu and codemirror_ by **[aschlaep](https://github.com/aschlaep)**\n",
       "* [(#6349)](https://github.com/jupyterlab/jupyterlab/pull/6349): _Add geojson support to json-extension_ by **[gnestor](https://github.com/gnestor)**\n",
       "* [(#6345)](https://github.com/jupyterlab/jupyterlab/pull/6345): _Clean coreutils package, add rate limiting utilities._ by **[afshin](https://github.com/afshin)**\n",
       "* [(#6344)](https://github.com/jupyterlab/jupyterlab/pull/6344): _Feature/jp 6280 terminal appear twice_ by **[rahulpshah](https://github.com/rahulpshah)**\n",
       "* [(#6343)](https://github.com/jupyterlab/jupyterlab/pull/6343): _Feature/jp 6199  use json5 instead of comment json_ by **[rahulpshah](https://github.com/rahulpshah)**\n",
       "* [(#6340)](https://github.com/jupyterlab/jupyterlab/pull/6340): _Clean up examples and add puppeteer tests_ by **[blink1073](https://github.com/blink1073)**\n",
       "* [(#6339)](https://github.com/jupyterlab/jupyterlab/pull/6339): _Handle disconnect messages from the terminal_ by **[blink1073](https://github.com/blink1073)**\n",
       "* [(#6338)](https://github.com/jupyterlab/jupyterlab/pull/6338): _Add metadata for core mode packages_ by **[blink1073](https://github.com/blink1073)**\n",
       "* [(#6335)](https://github.com/jupyterlab/jupyterlab/pull/6335): _Default cell type_ by **[ian-r-rose](https://github.com/ian-r-rose)**\n",
       "* [(#6334)](https://github.com/jupyterlab/jupyterlab/pull/6334): _Token refactor/cleanup_ by **[vidartf](https://github.com/vidartf)**\n",
       "* [(#6329)](https://github.com/jupyterlab/jupyterlab/pull/6329): _Correct Jest cli argument names_ by **[fcollonval](https://github.com/fcollonval)**\n",
       "* [(#6327)](https://github.com/jupyterlab/jupyterlab/pull/6327): _Add input dialogs_ by **[fcollonval](https://github.com/fcollonval)**\n",
       "* [(#6325)](https://github.com/jupyterlab/jupyterlab/pull/6325): _Fix \"Rename CSV File\"_ by **[jtpio](https://github.com/jtpio)**\n",
       "* [(#6321)](https://github.com/jupyterlab/jupyterlab/pull/6321): _Upgrade CodeMirror from 5.42.0 to 5.46.0_ by **[ed1d1a8d](https://github.com/ed1d1a8d)**\n",
       "* [(#6314)](https://github.com/jupyterlab/jupyterlab/pull/6314): _Nbconvert CSS bundler_ by **[SylvainCorlay](https://github.com/SylvainCorlay)**\n",
       "* [(#6312)](https://github.com/jupyterlab/jupyterlab/pull/6312): _Release maintenance cleanup_ by **[blink1073](https://github.com/blink1073)**\n",
       "* [(#6311)](https://github.com/jupyterlab/jupyterlab/pull/6311): _Add a downloads/month badge from pypi_ by **[blink1073](https://github.com/blink1073)**\n",
       "* [(#6308)](https://github.com/jupyterlab/jupyterlab/pull/6308): _fixes issue #6296 markdown_ by **[ccropper](https://github.com/ccropper)**\n",
       "* [(#6307)](https://github.com/jupyterlab/jupyterlab/pull/6307): _Fixed Issue 5803_ by **[jeanruggiero](https://github.com/jeanruggiero)**\n",
       "* [(#6306)](https://github.com/jupyterlab/jupyterlab/pull/6306): _Set tab bar icon background size so SVGs of other sizes may be used._ by **[ian-r-rose](https://github.com/ian-r-rose)**\n",
       "* [(#6305)](https://github.com/jupyterlab/jupyterlab/pull/6305): _Use new Poll class for filebrowser contents polling._ by **[ian-r-rose](https://github.com/ian-r-rose)**\n",
       "* [(#6304)](https://github.com/jupyterlab/jupyterlab/pull/6304): _Carriage return perf_ by **[ian-r-rose](https://github.com/ian-r-rose)**\n",
       "* [(#6301)](https://github.com/jupyterlab/jupyterlab/pull/6301): _Remove notion of default search providers_ by **[aschlaep](https://github.com/aschlaep)**\n",
       "* [(#6299)](https://github.com/jupyterlab/jupyterlab/pull/6299): _Log out and Shut down are two words when used as verbs_ by **[jasongrout](https://github.com/jasongrout)**\n",
       "* [(#6297)](https://github.com/jupyterlab/jupyterlab/pull/6297): _More yarn deduplicating_ by **[bollwyvl](https://github.com/bollwyvl)**\n",
       "* [(#6294)](https://github.com/jupyterlab/jupyterlab/pull/6294): _Update Vega and Vega-Lite_ by **[domoritz](https://github.com/domoritz)**\n",
       "* [(#6292)](https://github.com/jupyterlab/jupyterlab/pull/6292): _Prevent tooltip flicker in Safari._ by **[afshin](https://github.com/afshin)**\n",
       "* [(#6288)](https://github.com/jupyterlab/jupyterlab/pull/6288): _Refractor updating notebook settings for opened widgets_ by **[fcollonval](https://github.com/fcollonval)**\n",
       "* [(#6287)](https://github.com/jupyterlab/jupyterlab/pull/6287): _Opening console from fileeditor context menu and from tab context menu not coherent_ by **[fcollonval](https://github.com/fcollonval)**\n",
       "* [(#6285)](https://github.com/jupyterlab/jupyterlab/pull/6285): _Add shutdown on close capability for terminals_ by **[fcollonval](https://github.com/fcollonval)**\n",
       "* [(#6282)](https://github.com/jupyterlab/jupyterlab/pull/6282): _Remove deregisterProvider from SearchProviderRegistry interface_ by **[aschlaep](https://github.com/aschlaep)**\n",
       "* [(#6270)](https://github.com/jupyterlab/jupyterlab/pull/6270): _[WIP] Provide a signal for opening items from a DirListing_ by **[yuvipanda](https://github.com/yuvipanda)**\n",
       "* [(#6246)](https://github.com/jupyterlab/jupyterlab/pull/6246): _Notify the user when a notebook kernel autorestarts_ by **[jasongrout](https://github.com/jasongrout)**\n",
       "* [(#6200)](https://github.com/jupyterlab/jupyterlab/pull/6200): _Add a command to enable the extension manager_ by **[jtpio](https://github.com/jtpio)**\n",
       "* [(#6087)](https://github.com/jupyterlab/jupyterlab/pull/6087): _Add logout button_ by **[Madhu94](https://github.com/Madhu94)**\n",
       "* [(#6060)](https://github.com/jupyterlab/jupyterlab/pull/6060): _Add a clone method to ABCWidgetFactory. _ by **[Madhu94](https://github.com/Madhu94)**\n",
       "* [(#5850)](https://github.com/jupyterlab/jupyterlab/pull/5850): _Add support for printing widgets_ by **[saulshanabrook](https://github.com/saulshanabrook)**\n",
       "\n",
       "##### [jupyterlab/jupyterlab-git](https://github.com/jupyterlab/jupyterlab-git)\n",
       "* [(#354)](https://github.com/jupyterlab/jupyterlab-git/pull/354): _Setup puppeteer and add basic browser test_ by **[neelamgehlot](https://github.com/neelamgehlot)**\n",
       "* [(#344)](https://github.com/jupyterlab/jupyterlab-git/pull/344): _Fix/push pull windows_ by **[ameier38](https://github.com/ameier38)**\n",
       "\n",
       "##### [jupyterlab/jupyterlab-toc](https://github.com/jupyterlab/jupyterlab-toc)\n",
       "* [(#89)](https://github.com/jupyterlab/jupyterlab-toc/pull/89): _Update to JLab 1.0a5._ by **[marius311](https://github.com/marius311)**\n",
       "\n",
       "##### [jupyterlab/jupyterlab_pygments](https://github.com/jupyterlab/jupyterlab_pygments)\n",
       "* [(#1)](https://github.com/jupyterlab/jupyterlab_pygments/pull/1): _typo_ by **[maartenbreddels](https://github.com/maartenbreddels)**\n",
       "\n",
       "##### [jupyterlab/jupyterlab_server](https://github.com/jupyterlab/jupyterlab_server)\n",
       "* [(#67)](https://github.com/jupyterlab/jupyterlab_server/pull/67): _v0.3.3_ by **[afshin](https://github.com/afshin)**\n",
       "* [(#65)](https://github.com/jupyterlab/jupyterlab_server/pull/65): _Add frontend_url to server._ by **[afshin](https://github.com/afshin)**\n",
       "* [(#64)](https://github.com/jupyterlab/jupyterlab_server/pull/64): _Friendly workspaces_ by **[afshin](https://github.com/afshin)**\n",
       "* [(#63)](https://github.com/jupyterlab/jupyterlab_server/pull/63): _Parse URL-formatted metadata_id in workspace handler_ by **[thomafred](https://github.com/thomafred)**\n",
       "* [(#62)](https://github.com/jupyterlab/jupyterlab_server/pull/62): _Fixed mangling of urls in theme .css files when `base_url` is set_ by **[telamonian](https://github.com/telamonian)**\n",
       "\n"
      ],
      "text/plain": [
       "<IPython.core.display.Markdown object>"
      ]
     },
     "execution_count": 63,
     "metadata": {},
     "output_type": "execute_result"
    }
   ],
   "source": [
    "markdown = []\n",
    "for org, idata in merged.groupby('org'):\n",
    "    markdown.append(f\"#### {org}\")\n",
    "    markdown.append(\"\")\n",
    "    for repourl, prs in idata.groupby('repository_url'):\n",
    "        reponame, repo = repourl.split('/')[-2:]\n",
    "        markdown.append(f\"##### [{reponame}/{repo}](https://github.com/{reponame}/{repo})\")\n",
    "        for _, pr in prs.iterrows():\n",
    "            user_name = pr['user']['login']\n",
    "            user_url = pr['user']['html_url']\n",
    "            pr_number = pr['number']\n",
    "            pr_html = pr['html_url']\n",
    "            pr_title = pr['title']\n",
    "\n",
    "            text = f\"* [(#{pr_number})]({pr_html}): _{pr_title}_ by **[{user_name}]({user_url})**\"\n",
    "            markdown.append(text)\n",
    "        markdown.append('')\n",
    "    markdown.append('')\n",
    "\n",
    "Markdown('\\n'.join(markdown))"
   ]
  },
  {
   "cell_type": "markdown",
   "metadata": {},
   "source": [
    "## Issues\n",
    "\n",
    "Issues are **conversations** that happen on our GitHub repositories. Here's an\n",
    "analysis of issues across the Jupyter organizations."
   ]
  },
  {
   "cell_type": "code",
   "execution_count": 64,
   "metadata": {
    "tags": [
     "hide_input"
    ]
   },
   "outputs": [
    {
     "name": "stderr",
     "output_type": "stream",
     "text": [
      "\n",
      "\n",
      "  0%|          | 0/4 [00:00<?, ?it/s]\u001b[A\u001b[A"
     ]
    },
    {
     "ename": "KeyboardInterrupt",
     "evalue": "",
     "output_type": "error",
     "traceback": [
      "\u001b[0;31m---------------------------------------------------------------------------\u001b[0m",
      "\u001b[0;31mTypeError\u001b[0m                                 Traceback (most recent call last)",
      "\u001b[0;32m~/anaconda/envs/dev/lib/python3.6/site-packages/urllib3/connectionpool.py\u001b[0m in \u001b[0;36m_make_request\u001b[0;34m(self, conn, method, url, timeout, chunked, **httplib_request_kw)\u001b[0m\n\u001b[1;32m    376\u001b[0m             \u001b[0;32mtry\u001b[0m\u001b[0;34m:\u001b[0m  \u001b[0;31m# Python 2.7, use buffering of HTTP responses\u001b[0m\u001b[0;34m\u001b[0m\u001b[0m\n\u001b[0;32m--> 377\u001b[0;31m                 \u001b[0mhttplib_response\u001b[0m \u001b[0;34m=\u001b[0m \u001b[0mconn\u001b[0m\u001b[0;34m.\u001b[0m\u001b[0mgetresponse\u001b[0m\u001b[0;34m(\u001b[0m\u001b[0mbuffering\u001b[0m\u001b[0;34m=\u001b[0m\u001b[0;32mTrue\u001b[0m\u001b[0;34m)\u001b[0m\u001b[0;34m\u001b[0m\u001b[0m\n\u001b[0m\u001b[1;32m    378\u001b[0m             \u001b[0;32mexcept\u001b[0m \u001b[0mTypeError\u001b[0m\u001b[0;34m:\u001b[0m  \u001b[0;31m# Python 2.6 and older, Python 3\u001b[0m\u001b[0;34m\u001b[0m\u001b[0m\n",
      "\u001b[0;31mTypeError\u001b[0m: getresponse() got an unexpected keyword argument 'buffering'",
      "\nDuring handling of the above exception, another exception occurred:\n",
      "\u001b[0;31mWantReadError\u001b[0m                             Traceback (most recent call last)",
      "\u001b[0;32m~/anaconda/envs/dev/lib/python3.6/site-packages/urllib3/contrib/pyopenssl.py\u001b[0m in \u001b[0;36mrecv_into\u001b[0;34m(self, *args, **kwargs)\u001b[0m\n\u001b[1;32m    284\u001b[0m         \u001b[0;32mtry\u001b[0m\u001b[0;34m:\u001b[0m\u001b[0;34m\u001b[0m\u001b[0m\n\u001b[0;32m--> 285\u001b[0;31m             \u001b[0;32mreturn\u001b[0m \u001b[0mself\u001b[0m\u001b[0;34m.\u001b[0m\u001b[0mconnection\u001b[0m\u001b[0;34m.\u001b[0m\u001b[0mrecv_into\u001b[0m\u001b[0;34m(\u001b[0m\u001b[0;34m*\u001b[0m\u001b[0margs\u001b[0m\u001b[0;34m,\u001b[0m \u001b[0;34m**\u001b[0m\u001b[0mkwargs\u001b[0m\u001b[0;34m)\u001b[0m\u001b[0;34m\u001b[0m\u001b[0m\n\u001b[0m\u001b[1;32m    286\u001b[0m         \u001b[0;32mexcept\u001b[0m \u001b[0mOpenSSL\u001b[0m\u001b[0;34m.\u001b[0m\u001b[0mSSL\u001b[0m\u001b[0;34m.\u001b[0m\u001b[0mSysCallError\u001b[0m \u001b[0;32mas\u001b[0m \u001b[0me\u001b[0m\u001b[0;34m:\u001b[0m\u001b[0;34m\u001b[0m\u001b[0m\n",
      "\u001b[0;32m~/anaconda/envs/dev/lib/python3.6/site-packages/OpenSSL/SSL.py\u001b[0m in \u001b[0;36mrecv_into\u001b[0;34m(self, buffer, nbytes, flags)\u001b[0m\n\u001b[1;32m   1813\u001b[0m             \u001b[0mresult\u001b[0m \u001b[0;34m=\u001b[0m \u001b[0m_lib\u001b[0m\u001b[0;34m.\u001b[0m\u001b[0mSSL_read\u001b[0m\u001b[0;34m(\u001b[0m\u001b[0mself\u001b[0m\u001b[0;34m.\u001b[0m\u001b[0m_ssl\u001b[0m\u001b[0;34m,\u001b[0m \u001b[0mbuf\u001b[0m\u001b[0;34m,\u001b[0m \u001b[0mnbytes\u001b[0m\u001b[0;34m)\u001b[0m\u001b[0;34m\u001b[0m\u001b[0m\n\u001b[0;32m-> 1814\u001b[0;31m         \u001b[0mself\u001b[0m\u001b[0;34m.\u001b[0m\u001b[0m_raise_ssl_error\u001b[0m\u001b[0;34m(\u001b[0m\u001b[0mself\u001b[0m\u001b[0;34m.\u001b[0m\u001b[0m_ssl\u001b[0m\u001b[0;34m,\u001b[0m \u001b[0mresult\u001b[0m\u001b[0;34m)\u001b[0m\u001b[0;34m\u001b[0m\u001b[0m\n\u001b[0m\u001b[1;32m   1815\u001b[0m \u001b[0;34m\u001b[0m\u001b[0m\n",
      "\u001b[0;32m~/anaconda/envs/dev/lib/python3.6/site-packages/OpenSSL/SSL.py\u001b[0m in \u001b[0;36m_raise_ssl_error\u001b[0;34m(self, ssl, result)\u001b[0m\n\u001b[1;32m   1613\u001b[0m         \u001b[0;32mif\u001b[0m \u001b[0merror\u001b[0m \u001b[0;34m==\u001b[0m \u001b[0m_lib\u001b[0m\u001b[0;34m.\u001b[0m\u001b[0mSSL_ERROR_WANT_READ\u001b[0m\u001b[0;34m:\u001b[0m\u001b[0;34m\u001b[0m\u001b[0m\n\u001b[0;32m-> 1614\u001b[0;31m             \u001b[0;32mraise\u001b[0m \u001b[0mWantReadError\u001b[0m\u001b[0;34m(\u001b[0m\u001b[0;34m)\u001b[0m\u001b[0;34m\u001b[0m\u001b[0m\n\u001b[0m\u001b[1;32m   1615\u001b[0m         \u001b[0;32melif\u001b[0m \u001b[0merror\u001b[0m \u001b[0;34m==\u001b[0m \u001b[0m_lib\u001b[0m\u001b[0;34m.\u001b[0m\u001b[0mSSL_ERROR_WANT_WRITE\u001b[0m\u001b[0;34m:\u001b[0m\u001b[0;34m\u001b[0m\u001b[0m\n",
      "\u001b[0;31mWantReadError\u001b[0m: ",
      "\nDuring handling of the above exception, another exception occurred:\n",
      "\u001b[0;31mKeyboardInterrupt\u001b[0m                         Traceback (most recent call last)",
      "\u001b[0;32m<ipython-input-64-5814764e63fc>\u001b[0m in \u001b[0;36m<module>\u001b[0;34m\u001b[0m\n\u001b[1;32m      3\u001b[0m \u001b[0;32mfor\u001b[0m \u001b[0morg\u001b[0m \u001b[0;32min\u001b[0m \u001b[0mtqdm\u001b[0m\u001b[0;34m(\u001b[0m\u001b[0morgs\u001b[0m\u001b[0;34m)\u001b[0m\u001b[0;34m:\u001b[0m\u001b[0;34m\u001b[0m\u001b[0m\n\u001b[1;32m      4\u001b[0m     \u001b[0mquery\u001b[0m \u001b[0;34m=\u001b[0m \u001b[0;34mf\"is:open is:issue user:{org} archived:false created:{start_date}..{end_date}\"\u001b[0m\u001b[0;34m\u001b[0m\u001b[0m\n\u001b[0;32m----> 5\u001b[0;31m     \u001b[0mthis_created\u001b[0m \u001b[0;34m=\u001b[0m \u001b[0mrun_github_query\u001b[0m\u001b[0;34m(\u001b[0m\u001b[0mquery\u001b[0m\u001b[0;34m)\u001b[0m\u001b[0;34m\u001b[0m\u001b[0m\n\u001b[0m\u001b[1;32m      6\u001b[0m     \u001b[0mthis_created\u001b[0m\u001b[0;34m[\u001b[0m\u001b[0;34m'org'\u001b[0m\u001b[0;34m]\u001b[0m \u001b[0;34m=\u001b[0m \u001b[0morg\u001b[0m\u001b[0;34m\u001b[0m\u001b[0m\n\u001b[1;32m      7\u001b[0m     \u001b[0mcreated\u001b[0m\u001b[0;34m.\u001b[0m\u001b[0mappend\u001b[0m\u001b[0;34m(\u001b[0m\u001b[0mthis_created\u001b[0m\u001b[0;34m)\u001b[0m\u001b[0;34m\u001b[0m\u001b[0m\n",
      "\u001b[0;32m<ipython-input-59-f433363b6b7d>\u001b[0m in \u001b[0;36mrun_github_query\u001b[0;34m(query, github_base)\u001b[0m\n\u001b[1;32m     34\u001b[0m         \u001b[0mitems\u001b[0m \u001b[0;34m=\u001b[0m \u001b[0mresp\u001b[0m\u001b[0;34m.\u001b[0m\u001b[0mget_page\u001b[0m\u001b[0;34m(\u001b[0m\u001b[0mii\u001b[0m\u001b[0;34m)\u001b[0m\u001b[0;34m\u001b[0m\u001b[0m\n\u001b[1;32m     35\u001b[0m         \u001b[0;32mif\u001b[0m \u001b[0mlen\u001b[0m\u001b[0;34m(\u001b[0m\u001b[0mitems\u001b[0m\u001b[0;34m)\u001b[0m \u001b[0;34m>\u001b[0m \u001b[0;36m0\u001b[0m\u001b[0;34m:\u001b[0m\u001b[0;34m\u001b[0m\u001b[0m\n\u001b[0;32m---> 36\u001b[0;31m             \u001b[0mitems_list\u001b[0m \u001b[0;34m=\u001b[0m \u001b[0;34m[\u001b[0m\u001b[0mitem\u001b[0m\u001b[0;34m.\u001b[0m\u001b[0mraw_data\u001b[0m \u001b[0;32mfor\u001b[0m \u001b[0mitem\u001b[0m \u001b[0;32min\u001b[0m \u001b[0mitems\u001b[0m\u001b[0;34m]\u001b[0m\u001b[0;34m\u001b[0m\u001b[0m\n\u001b[0m\u001b[1;32m     37\u001b[0m             \u001b[0mdata\u001b[0m\u001b[0;34m.\u001b[0m\u001b[0mappend\u001b[0m\u001b[0;34m(\u001b[0m\u001b[0mpd\u001b[0m\u001b[0;34m.\u001b[0m\u001b[0mDataFrame\u001b[0m\u001b[0;34m.\u001b[0m\u001b[0mfrom_records\u001b[0m\u001b[0;34m(\u001b[0m\u001b[0mitems_list\u001b[0m\u001b[0;34m)\u001b[0m\u001b[0;34m)\u001b[0m\u001b[0;34m\u001b[0m\u001b[0m\n\u001b[1;32m     38\u001b[0m         \u001b[0;32melse\u001b[0m\u001b[0;34m:\u001b[0m\u001b[0;34m\u001b[0m\u001b[0m\n",
      "\u001b[0;32m<ipython-input-59-f433363b6b7d>\u001b[0m in \u001b[0;36m<listcomp>\u001b[0;34m(.0)\u001b[0m\n\u001b[1;32m     34\u001b[0m         \u001b[0mitems\u001b[0m \u001b[0;34m=\u001b[0m \u001b[0mresp\u001b[0m\u001b[0;34m.\u001b[0m\u001b[0mget_page\u001b[0m\u001b[0;34m(\u001b[0m\u001b[0mii\u001b[0m\u001b[0;34m)\u001b[0m\u001b[0;34m\u001b[0m\u001b[0m\n\u001b[1;32m     35\u001b[0m         \u001b[0;32mif\u001b[0m \u001b[0mlen\u001b[0m\u001b[0;34m(\u001b[0m\u001b[0mitems\u001b[0m\u001b[0;34m)\u001b[0m \u001b[0;34m>\u001b[0m \u001b[0;36m0\u001b[0m\u001b[0;34m:\u001b[0m\u001b[0;34m\u001b[0m\u001b[0m\n\u001b[0;32m---> 36\u001b[0;31m             \u001b[0mitems_list\u001b[0m \u001b[0;34m=\u001b[0m \u001b[0;34m[\u001b[0m\u001b[0mitem\u001b[0m\u001b[0;34m.\u001b[0m\u001b[0mraw_data\u001b[0m \u001b[0;32mfor\u001b[0m \u001b[0mitem\u001b[0m \u001b[0;32min\u001b[0m \u001b[0mitems\u001b[0m\u001b[0;34m]\u001b[0m\u001b[0;34m\u001b[0m\u001b[0m\n\u001b[0m\u001b[1;32m     37\u001b[0m             \u001b[0mdata\u001b[0m\u001b[0;34m.\u001b[0m\u001b[0mappend\u001b[0m\u001b[0;34m(\u001b[0m\u001b[0mpd\u001b[0m\u001b[0;34m.\u001b[0m\u001b[0mDataFrame\u001b[0m\u001b[0;34m.\u001b[0m\u001b[0mfrom_records\u001b[0m\u001b[0;34m(\u001b[0m\u001b[0mitems_list\u001b[0m\u001b[0;34m)\u001b[0m\u001b[0;34m)\u001b[0m\u001b[0;34m\u001b[0m\u001b[0m\n\u001b[1;32m     38\u001b[0m         \u001b[0;32melse\u001b[0m\u001b[0;34m:\u001b[0m\u001b[0;34m\u001b[0m\u001b[0m\n",
      "\u001b[0;32m~/anaconda/envs/dev/lib/python3.6/site-packages/github/GithubObject.py\u001b[0m in \u001b[0;36mraw_data\u001b[0;34m(self)\u001b[0m\n\u001b[1;32m    103\u001b[0m         \u001b[0;34m:\u001b[0m\u001b[0mtype\u001b[0m\u001b[0;34m:\u001b[0m \u001b[0mdict\u001b[0m\u001b[0;34m\u001b[0m\u001b[0m\n\u001b[1;32m    104\u001b[0m         \"\"\"\n\u001b[0;32m--> 105\u001b[0;31m         \u001b[0mself\u001b[0m\u001b[0;34m.\u001b[0m\u001b[0m_completeIfNeeded\u001b[0m\u001b[0;34m(\u001b[0m\u001b[0;34m)\u001b[0m\u001b[0;34m\u001b[0m\u001b[0m\n\u001b[0m\u001b[1;32m    106\u001b[0m         \u001b[0;32mreturn\u001b[0m \u001b[0mself\u001b[0m\u001b[0;34m.\u001b[0m\u001b[0m_rawData\u001b[0m\u001b[0;34m\u001b[0m\u001b[0m\n\u001b[1;32m    107\u001b[0m \u001b[0;34m\u001b[0m\u001b[0m\n",
      "\u001b[0;32m~/anaconda/envs/dev/lib/python3.6/site-packages/github/GithubObject.py\u001b[0m in \u001b[0;36m_completeIfNeeded\u001b[0;34m(self)\u001b[0m\n\u001b[1;32m    261\u001b[0m     \u001b[0;32mdef\u001b[0m \u001b[0m_completeIfNeeded\u001b[0m\u001b[0;34m(\u001b[0m\u001b[0mself\u001b[0m\u001b[0;34m)\u001b[0m\u001b[0;34m:\u001b[0m\u001b[0;34m\u001b[0m\u001b[0m\n\u001b[1;32m    262\u001b[0m         \u001b[0;32mif\u001b[0m \u001b[0;32mnot\u001b[0m \u001b[0mself\u001b[0m\u001b[0;34m.\u001b[0m\u001b[0m__completed\u001b[0m\u001b[0;34m:\u001b[0m\u001b[0;34m\u001b[0m\u001b[0m\n\u001b[0;32m--> 263\u001b[0;31m             \u001b[0mself\u001b[0m\u001b[0;34m.\u001b[0m\u001b[0m__complete\u001b[0m\u001b[0;34m(\u001b[0m\u001b[0;34m)\u001b[0m\u001b[0;34m\u001b[0m\u001b[0m\n\u001b[0m\u001b[1;32m    264\u001b[0m \u001b[0;34m\u001b[0m\u001b[0m\n\u001b[1;32m    265\u001b[0m     \u001b[0;32mdef\u001b[0m \u001b[0m__complete\u001b[0m\u001b[0;34m(\u001b[0m\u001b[0mself\u001b[0m\u001b[0;34m)\u001b[0m\u001b[0;34m:\u001b[0m\u001b[0;34m\u001b[0m\u001b[0m\n",
      "\u001b[0;32m~/anaconda/envs/dev/lib/python3.6/site-packages/github/GithubObject.py\u001b[0m in \u001b[0;36m__complete\u001b[0;34m(self)\u001b[0m\n\u001b[1;32m    266\u001b[0m         headers, data = self._requester.requestJsonAndCheck(\n\u001b[1;32m    267\u001b[0m             \u001b[0;34m\"GET\"\u001b[0m\u001b[0;34m,\u001b[0m\u001b[0;34m\u001b[0m\u001b[0m\n\u001b[0;32m--> 268\u001b[0;31m             \u001b[0mself\u001b[0m\u001b[0;34m.\u001b[0m\u001b[0m_url\u001b[0m\u001b[0;34m.\u001b[0m\u001b[0mvalue\u001b[0m\u001b[0;34m\u001b[0m\u001b[0m\n\u001b[0m\u001b[1;32m    269\u001b[0m         )\n\u001b[1;32m    270\u001b[0m         \u001b[0mself\u001b[0m\u001b[0;34m.\u001b[0m\u001b[0m_storeAndUseAttributes\u001b[0m\u001b[0;34m(\u001b[0m\u001b[0mheaders\u001b[0m\u001b[0;34m,\u001b[0m \u001b[0mdata\u001b[0m\u001b[0;34m)\u001b[0m\u001b[0;34m\u001b[0m\u001b[0m\n",
      "\u001b[0;32m~/anaconda/envs/dev/lib/python3.6/site-packages/github/Requester.py\u001b[0m in \u001b[0;36mrequestJsonAndCheck\u001b[0;34m(self, verb, url, parameters, headers, input)\u001b[0m\n\u001b[1;32m    260\u001b[0m \u001b[0;34m\u001b[0m\u001b[0m\n\u001b[1;32m    261\u001b[0m     \u001b[0;32mdef\u001b[0m \u001b[0mrequestJsonAndCheck\u001b[0m\u001b[0;34m(\u001b[0m\u001b[0mself\u001b[0m\u001b[0;34m,\u001b[0m \u001b[0mverb\u001b[0m\u001b[0;34m,\u001b[0m \u001b[0murl\u001b[0m\u001b[0;34m,\u001b[0m \u001b[0mparameters\u001b[0m\u001b[0;34m=\u001b[0m\u001b[0;32mNone\u001b[0m\u001b[0;34m,\u001b[0m \u001b[0mheaders\u001b[0m\u001b[0;34m=\u001b[0m\u001b[0;32mNone\u001b[0m\u001b[0;34m,\u001b[0m \u001b[0minput\u001b[0m\u001b[0;34m=\u001b[0m\u001b[0;32mNone\u001b[0m\u001b[0;34m)\u001b[0m\u001b[0;34m:\u001b[0m\u001b[0;34m\u001b[0m\u001b[0m\n\u001b[0;32m--> 262\u001b[0;31m         \u001b[0;32mreturn\u001b[0m \u001b[0mself\u001b[0m\u001b[0;34m.\u001b[0m\u001b[0m__check\u001b[0m\u001b[0;34m(\u001b[0m\u001b[0;34m*\u001b[0m\u001b[0mself\u001b[0m\u001b[0;34m.\u001b[0m\u001b[0mrequestJson\u001b[0m\u001b[0;34m(\u001b[0m\u001b[0mverb\u001b[0m\u001b[0;34m,\u001b[0m \u001b[0murl\u001b[0m\u001b[0;34m,\u001b[0m \u001b[0mparameters\u001b[0m\u001b[0;34m,\u001b[0m \u001b[0mheaders\u001b[0m\u001b[0;34m,\u001b[0m \u001b[0minput\u001b[0m\u001b[0;34m,\u001b[0m \u001b[0mself\u001b[0m\u001b[0;34m.\u001b[0m\u001b[0m__customConnection\u001b[0m\u001b[0;34m(\u001b[0m\u001b[0murl\u001b[0m\u001b[0;34m)\u001b[0m\u001b[0;34m)\u001b[0m\u001b[0;34m)\u001b[0m\u001b[0;34m\u001b[0m\u001b[0m\n\u001b[0m\u001b[1;32m    263\u001b[0m \u001b[0;34m\u001b[0m\u001b[0m\n\u001b[1;32m    264\u001b[0m     \u001b[0;32mdef\u001b[0m \u001b[0mrequestMultipartAndCheck\u001b[0m\u001b[0;34m(\u001b[0m\u001b[0mself\u001b[0m\u001b[0;34m,\u001b[0m \u001b[0mverb\u001b[0m\u001b[0;34m,\u001b[0m \u001b[0murl\u001b[0m\u001b[0;34m,\u001b[0m \u001b[0mparameters\u001b[0m\u001b[0;34m=\u001b[0m\u001b[0;32mNone\u001b[0m\u001b[0;34m,\u001b[0m \u001b[0mheaders\u001b[0m\u001b[0;34m=\u001b[0m\u001b[0;32mNone\u001b[0m\u001b[0;34m,\u001b[0m \u001b[0minput\u001b[0m\u001b[0;34m=\u001b[0m\u001b[0;32mNone\u001b[0m\u001b[0;34m)\u001b[0m\u001b[0;34m:\u001b[0m\u001b[0;34m\u001b[0m\u001b[0m\n",
      "\u001b[0;32m~/anaconda/envs/dev/lib/python3.6/site-packages/github/Requester.py\u001b[0m in \u001b[0;36mrequestJson\u001b[0;34m(self, verb, url, parameters, headers, input, cnx)\u001b[0m\n\u001b[1;32m    317\u001b[0m             \u001b[0;32mreturn\u001b[0m \u001b[0;34m\"application/json\"\u001b[0m\u001b[0;34m,\u001b[0m \u001b[0mjson\u001b[0m\u001b[0;34m.\u001b[0m\u001b[0mdumps\u001b[0m\u001b[0;34m(\u001b[0m\u001b[0minput\u001b[0m\u001b[0;34m)\u001b[0m\u001b[0;34m\u001b[0m\u001b[0m\n\u001b[1;32m    318\u001b[0m \u001b[0;34m\u001b[0m\u001b[0m\n\u001b[0;32m--> 319\u001b[0;31m         \u001b[0;32mreturn\u001b[0m \u001b[0mself\u001b[0m\u001b[0;34m.\u001b[0m\u001b[0m__requestEncode\u001b[0m\u001b[0;34m(\u001b[0m\u001b[0mcnx\u001b[0m\u001b[0;34m,\u001b[0m \u001b[0mverb\u001b[0m\u001b[0;34m,\u001b[0m \u001b[0murl\u001b[0m\u001b[0;34m,\u001b[0m \u001b[0mparameters\u001b[0m\u001b[0;34m,\u001b[0m \u001b[0mheaders\u001b[0m\u001b[0;34m,\u001b[0m \u001b[0minput\u001b[0m\u001b[0;34m,\u001b[0m \u001b[0mencode\u001b[0m\u001b[0;34m)\u001b[0m\u001b[0;34m\u001b[0m\u001b[0m\n\u001b[0m\u001b[1;32m    320\u001b[0m \u001b[0;34m\u001b[0m\u001b[0m\n\u001b[1;32m    321\u001b[0m     \u001b[0;32mdef\u001b[0m \u001b[0mrequestMultipart\u001b[0m\u001b[0;34m(\u001b[0m\u001b[0mself\u001b[0m\u001b[0;34m,\u001b[0m \u001b[0mverb\u001b[0m\u001b[0;34m,\u001b[0m \u001b[0murl\u001b[0m\u001b[0;34m,\u001b[0m \u001b[0mparameters\u001b[0m\u001b[0;34m=\u001b[0m\u001b[0;32mNone\u001b[0m\u001b[0;34m,\u001b[0m \u001b[0mheaders\u001b[0m\u001b[0;34m=\u001b[0m\u001b[0;32mNone\u001b[0m\u001b[0;34m,\u001b[0m \u001b[0minput\u001b[0m\u001b[0;34m=\u001b[0m\u001b[0;32mNone\u001b[0m\u001b[0;34m,\u001b[0m \u001b[0mcnx\u001b[0m\u001b[0;34m=\u001b[0m\u001b[0;32mNone\u001b[0m\u001b[0;34m)\u001b[0m\u001b[0;34m:\u001b[0m\u001b[0;34m\u001b[0m\u001b[0m\n",
      "\u001b[0;32m~/anaconda/envs/dev/lib/python3.6/site-packages/github/Requester.py\u001b[0m in \u001b[0;36m__requestEncode\u001b[0;34m(self, cnx, verb, url, parameters, requestHeaders, input, encode)\u001b[0m\n\u001b[1;32m    370\u001b[0m         \u001b[0mself\u001b[0m\u001b[0;34m.\u001b[0m\u001b[0mNEW_DEBUG_FRAME\u001b[0m\u001b[0;34m(\u001b[0m\u001b[0mrequestHeaders\u001b[0m\u001b[0;34m)\u001b[0m\u001b[0;34m\u001b[0m\u001b[0m\n\u001b[1;32m    371\u001b[0m \u001b[0;34m\u001b[0m\u001b[0m\n\u001b[0;32m--> 372\u001b[0;31m         \u001b[0mstatus\u001b[0m\u001b[0;34m,\u001b[0m \u001b[0mresponseHeaders\u001b[0m\u001b[0;34m,\u001b[0m \u001b[0moutput\u001b[0m \u001b[0;34m=\u001b[0m \u001b[0mself\u001b[0m\u001b[0;34m.\u001b[0m\u001b[0m__requestRaw\u001b[0m\u001b[0;34m(\u001b[0m\u001b[0mcnx\u001b[0m\u001b[0;34m,\u001b[0m \u001b[0mverb\u001b[0m\u001b[0;34m,\u001b[0m \u001b[0murl\u001b[0m\u001b[0;34m,\u001b[0m \u001b[0mrequestHeaders\u001b[0m\u001b[0;34m,\u001b[0m \u001b[0mencoded_input\u001b[0m\u001b[0;34m)\u001b[0m\u001b[0;34m\u001b[0m\u001b[0m\n\u001b[0m\u001b[1;32m    373\u001b[0m \u001b[0;34m\u001b[0m\u001b[0m\n\u001b[1;32m    374\u001b[0m         \u001b[0;32mif\u001b[0m \u001b[0mConsts\u001b[0m\u001b[0;34m.\u001b[0m\u001b[0mheaderRateRemaining\u001b[0m \u001b[0;32min\u001b[0m \u001b[0mresponseHeaders\u001b[0m \u001b[0;32mand\u001b[0m \u001b[0mConsts\u001b[0m\u001b[0;34m.\u001b[0m\u001b[0mheaderRateLimit\u001b[0m \u001b[0;32min\u001b[0m \u001b[0mresponseHeaders\u001b[0m\u001b[0;34m:\u001b[0m\u001b[0;34m\u001b[0m\u001b[0m\n",
      "\u001b[0;32m~/anaconda/envs/dev/lib/python3.6/site-packages/github/Requester.py\u001b[0m in \u001b[0;36m__requestRaw\u001b[0;34m(self, cnx, verb, url, requestHeaders, input)\u001b[0m\n\u001b[1;32m    394\u001b[0m             \u001b[0mrequestHeaders\u001b[0m\u001b[0;34m\u001b[0m\u001b[0m\n\u001b[1;32m    395\u001b[0m         )\n\u001b[0;32m--> 396\u001b[0;31m         \u001b[0mresponse\u001b[0m \u001b[0;34m=\u001b[0m \u001b[0mcnx\u001b[0m\u001b[0;34m.\u001b[0m\u001b[0mgetresponse\u001b[0m\u001b[0;34m(\u001b[0m\u001b[0;34m)\u001b[0m\u001b[0;34m\u001b[0m\u001b[0m\n\u001b[0m\u001b[1;32m    397\u001b[0m \u001b[0;34m\u001b[0m\u001b[0m\n\u001b[1;32m    398\u001b[0m         \u001b[0mstatus\u001b[0m \u001b[0;34m=\u001b[0m \u001b[0mresponse\u001b[0m\u001b[0;34m.\u001b[0m\u001b[0mstatus\u001b[0m\u001b[0;34m\u001b[0m\u001b[0m\n",
      "\u001b[0;32m~/anaconda/envs/dev/lib/python3.6/site-packages/github/Requester.py\u001b[0m in \u001b[0;36mgetresponse\u001b[0;34m(self)\u001b[0m\n\u001b[1;32m    107\u001b[0m         \u001b[0mverb\u001b[0m \u001b[0;34m=\u001b[0m \u001b[0mgetattr\u001b[0m\u001b[0;34m(\u001b[0m\u001b[0mself\u001b[0m\u001b[0;34m.\u001b[0m\u001b[0msession\u001b[0m\u001b[0;34m,\u001b[0m \u001b[0mself\u001b[0m\u001b[0;34m.\u001b[0m\u001b[0mverb\u001b[0m\u001b[0;34m.\u001b[0m\u001b[0mlower\u001b[0m\u001b[0;34m(\u001b[0m\u001b[0;34m)\u001b[0m\u001b[0;34m)\u001b[0m\u001b[0;34m\u001b[0m\u001b[0m\n\u001b[1;32m    108\u001b[0m         \u001b[0murl\u001b[0m \u001b[0;34m=\u001b[0m \u001b[0;34m\"%s://%s:%s%s\"\u001b[0m \u001b[0;34m%\u001b[0m \u001b[0;34m(\u001b[0m\u001b[0mself\u001b[0m\u001b[0;34m.\u001b[0m\u001b[0mprotocol\u001b[0m\u001b[0;34m,\u001b[0m \u001b[0mself\u001b[0m\u001b[0;34m.\u001b[0m\u001b[0mhost\u001b[0m\u001b[0;34m,\u001b[0m \u001b[0mself\u001b[0m\u001b[0;34m.\u001b[0m\u001b[0mport\u001b[0m\u001b[0;34m,\u001b[0m \u001b[0mself\u001b[0m\u001b[0;34m.\u001b[0m\u001b[0murl\u001b[0m\u001b[0;34m)\u001b[0m\u001b[0;34m\u001b[0m\u001b[0m\n\u001b[0;32m--> 109\u001b[0;31m         \u001b[0mr\u001b[0m \u001b[0;34m=\u001b[0m \u001b[0mverb\u001b[0m\u001b[0;34m(\u001b[0m\u001b[0murl\u001b[0m\u001b[0;34m,\u001b[0m \u001b[0mheaders\u001b[0m\u001b[0;34m=\u001b[0m\u001b[0mself\u001b[0m\u001b[0;34m.\u001b[0m\u001b[0mheaders\u001b[0m\u001b[0;34m,\u001b[0m \u001b[0mdata\u001b[0m\u001b[0;34m=\u001b[0m\u001b[0mself\u001b[0m\u001b[0;34m.\u001b[0m\u001b[0minput\u001b[0m\u001b[0;34m,\u001b[0m \u001b[0mtimeout\u001b[0m\u001b[0;34m=\u001b[0m\u001b[0mself\u001b[0m\u001b[0;34m.\u001b[0m\u001b[0mtimeout\u001b[0m\u001b[0;34m,\u001b[0m \u001b[0mverify\u001b[0m\u001b[0;34m=\u001b[0m\u001b[0mself\u001b[0m\u001b[0;34m.\u001b[0m\u001b[0mverify\u001b[0m\u001b[0;34m,\u001b[0m \u001b[0mallow_redirects\u001b[0m\u001b[0;34m=\u001b[0m\u001b[0;32mFalse\u001b[0m\u001b[0;34m)\u001b[0m\u001b[0;34m\u001b[0m\u001b[0m\n\u001b[0m\u001b[1;32m    110\u001b[0m         \u001b[0;32mreturn\u001b[0m \u001b[0mRequestsResponse\u001b[0m\u001b[0;34m(\u001b[0m\u001b[0mr\u001b[0m\u001b[0;34m)\u001b[0m\u001b[0;34m\u001b[0m\u001b[0m\n\u001b[1;32m    111\u001b[0m \u001b[0;34m\u001b[0m\u001b[0m\n",
      "\u001b[0;32m~/anaconda/envs/dev/lib/python3.6/site-packages/requests/sessions.py\u001b[0m in \u001b[0;36mget\u001b[0;34m(self, url, **kwargs)\u001b[0m\n\u001b[1;32m    544\u001b[0m \u001b[0;34m\u001b[0m\u001b[0m\n\u001b[1;32m    545\u001b[0m         \u001b[0mkwargs\u001b[0m\u001b[0;34m.\u001b[0m\u001b[0msetdefault\u001b[0m\u001b[0;34m(\u001b[0m\u001b[0;34m'allow_redirects'\u001b[0m\u001b[0;34m,\u001b[0m \u001b[0;32mTrue\u001b[0m\u001b[0;34m)\u001b[0m\u001b[0;34m\u001b[0m\u001b[0m\n\u001b[0;32m--> 546\u001b[0;31m         \u001b[0;32mreturn\u001b[0m \u001b[0mself\u001b[0m\u001b[0;34m.\u001b[0m\u001b[0mrequest\u001b[0m\u001b[0;34m(\u001b[0m\u001b[0;34m'GET'\u001b[0m\u001b[0;34m,\u001b[0m \u001b[0murl\u001b[0m\u001b[0;34m,\u001b[0m \u001b[0;34m**\u001b[0m\u001b[0mkwargs\u001b[0m\u001b[0;34m)\u001b[0m\u001b[0;34m\u001b[0m\u001b[0m\n\u001b[0m\u001b[1;32m    547\u001b[0m \u001b[0;34m\u001b[0m\u001b[0m\n\u001b[1;32m    548\u001b[0m     \u001b[0;32mdef\u001b[0m \u001b[0moptions\u001b[0m\u001b[0;34m(\u001b[0m\u001b[0mself\u001b[0m\u001b[0;34m,\u001b[0m \u001b[0murl\u001b[0m\u001b[0;34m,\u001b[0m \u001b[0;34m**\u001b[0m\u001b[0mkwargs\u001b[0m\u001b[0;34m)\u001b[0m\u001b[0;34m:\u001b[0m\u001b[0;34m\u001b[0m\u001b[0m\n",
      "\u001b[0;32m~/anaconda/envs/dev/lib/python3.6/site-packages/requests/sessions.py\u001b[0m in \u001b[0;36mrequest\u001b[0;34m(self, method, url, params, data, headers, cookies, files, auth, timeout, allow_redirects, proxies, hooks, stream, verify, cert, json)\u001b[0m\n\u001b[1;32m    531\u001b[0m         }\n\u001b[1;32m    532\u001b[0m         \u001b[0msend_kwargs\u001b[0m\u001b[0;34m.\u001b[0m\u001b[0mupdate\u001b[0m\u001b[0;34m(\u001b[0m\u001b[0msettings\u001b[0m\u001b[0;34m)\u001b[0m\u001b[0;34m\u001b[0m\u001b[0m\n\u001b[0;32m--> 533\u001b[0;31m         \u001b[0mresp\u001b[0m \u001b[0;34m=\u001b[0m \u001b[0mself\u001b[0m\u001b[0;34m.\u001b[0m\u001b[0msend\u001b[0m\u001b[0;34m(\u001b[0m\u001b[0mprep\u001b[0m\u001b[0;34m,\u001b[0m \u001b[0;34m**\u001b[0m\u001b[0msend_kwargs\u001b[0m\u001b[0;34m)\u001b[0m\u001b[0;34m\u001b[0m\u001b[0m\n\u001b[0m\u001b[1;32m    534\u001b[0m \u001b[0;34m\u001b[0m\u001b[0m\n\u001b[1;32m    535\u001b[0m         \u001b[0;32mreturn\u001b[0m \u001b[0mresp\u001b[0m\u001b[0;34m\u001b[0m\u001b[0m\n",
      "\u001b[0;32m~/anaconda/envs/dev/lib/python3.6/site-packages/requests/sessions.py\u001b[0m in \u001b[0;36msend\u001b[0;34m(self, request, **kwargs)\u001b[0m\n\u001b[1;32m    644\u001b[0m \u001b[0;34m\u001b[0m\u001b[0m\n\u001b[1;32m    645\u001b[0m         \u001b[0;31m# Send the request\u001b[0m\u001b[0;34m\u001b[0m\u001b[0;34m\u001b[0m\u001b[0m\n\u001b[0;32m--> 646\u001b[0;31m         \u001b[0mr\u001b[0m \u001b[0;34m=\u001b[0m \u001b[0madapter\u001b[0m\u001b[0;34m.\u001b[0m\u001b[0msend\u001b[0m\u001b[0;34m(\u001b[0m\u001b[0mrequest\u001b[0m\u001b[0;34m,\u001b[0m \u001b[0;34m**\u001b[0m\u001b[0mkwargs\u001b[0m\u001b[0;34m)\u001b[0m\u001b[0;34m\u001b[0m\u001b[0m\n\u001b[0m\u001b[1;32m    647\u001b[0m \u001b[0;34m\u001b[0m\u001b[0m\n\u001b[1;32m    648\u001b[0m         \u001b[0;31m# Total elapsed time of the request (approximately)\u001b[0m\u001b[0;34m\u001b[0m\u001b[0;34m\u001b[0m\u001b[0m\n",
      "\u001b[0;32m~/anaconda/envs/dev/lib/python3.6/site-packages/requests/adapters.py\u001b[0m in \u001b[0;36msend\u001b[0;34m(self, request, stream, timeout, verify, cert, proxies)\u001b[0m\n\u001b[1;32m    447\u001b[0m                     \u001b[0mdecode_content\u001b[0m\u001b[0;34m=\u001b[0m\u001b[0;32mFalse\u001b[0m\u001b[0;34m,\u001b[0m\u001b[0;34m\u001b[0m\u001b[0m\n\u001b[1;32m    448\u001b[0m                     \u001b[0mretries\u001b[0m\u001b[0;34m=\u001b[0m\u001b[0mself\u001b[0m\u001b[0;34m.\u001b[0m\u001b[0mmax_retries\u001b[0m\u001b[0;34m,\u001b[0m\u001b[0;34m\u001b[0m\u001b[0m\n\u001b[0;32m--> 449\u001b[0;31m                     \u001b[0mtimeout\u001b[0m\u001b[0;34m=\u001b[0m\u001b[0mtimeout\u001b[0m\u001b[0;34m\u001b[0m\u001b[0m\n\u001b[0m\u001b[1;32m    450\u001b[0m                 )\n\u001b[1;32m    451\u001b[0m \u001b[0;34m\u001b[0m\u001b[0m\n",
      "\u001b[0;32m~/anaconda/envs/dev/lib/python3.6/site-packages/urllib3/connectionpool.py\u001b[0m in \u001b[0;36murlopen\u001b[0;34m(self, method, url, body, headers, retries, redirect, assert_same_host, timeout, pool_timeout, release_conn, chunked, body_pos, **response_kw)\u001b[0m\n\u001b[1;32m    598\u001b[0m                                                   \u001b[0mtimeout\u001b[0m\u001b[0;34m=\u001b[0m\u001b[0mtimeout_obj\u001b[0m\u001b[0;34m,\u001b[0m\u001b[0;34m\u001b[0m\u001b[0m\n\u001b[1;32m    599\u001b[0m                                                   \u001b[0mbody\u001b[0m\u001b[0;34m=\u001b[0m\u001b[0mbody\u001b[0m\u001b[0;34m,\u001b[0m \u001b[0mheaders\u001b[0m\u001b[0;34m=\u001b[0m\u001b[0mheaders\u001b[0m\u001b[0;34m,\u001b[0m\u001b[0;34m\u001b[0m\u001b[0m\n\u001b[0;32m--> 600\u001b[0;31m                                                   chunked=chunked)\n\u001b[0m\u001b[1;32m    601\u001b[0m \u001b[0;34m\u001b[0m\u001b[0m\n\u001b[1;32m    602\u001b[0m             \u001b[0;31m# If we're going to release the connection in ``finally:``, then\u001b[0m\u001b[0;34m\u001b[0m\u001b[0;34m\u001b[0m\u001b[0m\n",
      "\u001b[0;32m~/anaconda/envs/dev/lib/python3.6/site-packages/urllib3/connectionpool.py\u001b[0m in \u001b[0;36m_make_request\u001b[0;34m(self, conn, method, url, timeout, chunked, **httplib_request_kw)\u001b[0m\n\u001b[1;32m    378\u001b[0m             \u001b[0;32mexcept\u001b[0m \u001b[0mTypeError\u001b[0m\u001b[0;34m:\u001b[0m  \u001b[0;31m# Python 2.6 and older, Python 3\u001b[0m\u001b[0;34m\u001b[0m\u001b[0m\n\u001b[1;32m    379\u001b[0m                 \u001b[0;32mtry\u001b[0m\u001b[0;34m:\u001b[0m\u001b[0;34m\u001b[0m\u001b[0m\n\u001b[0;32m--> 380\u001b[0;31m                     \u001b[0mhttplib_response\u001b[0m \u001b[0;34m=\u001b[0m \u001b[0mconn\u001b[0m\u001b[0;34m.\u001b[0m\u001b[0mgetresponse\u001b[0m\u001b[0;34m(\u001b[0m\u001b[0;34m)\u001b[0m\u001b[0;34m\u001b[0m\u001b[0m\n\u001b[0m\u001b[1;32m    381\u001b[0m                 \u001b[0;32mexcept\u001b[0m \u001b[0mException\u001b[0m \u001b[0;32mas\u001b[0m \u001b[0me\u001b[0m\u001b[0;34m:\u001b[0m\u001b[0;34m\u001b[0m\u001b[0m\n\u001b[1;32m    382\u001b[0m                     \u001b[0;31m# Remove the TypeError from the exception chain in Python 3;\u001b[0m\u001b[0;34m\u001b[0m\u001b[0;34m\u001b[0m\u001b[0m\n",
      "\u001b[0;32m~/anaconda/envs/dev/lib/python3.6/http/client.py\u001b[0m in \u001b[0;36mgetresponse\u001b[0;34m(self)\u001b[0m\n\u001b[1;32m   1329\u001b[0m         \u001b[0;32mtry\u001b[0m\u001b[0;34m:\u001b[0m\u001b[0;34m\u001b[0m\u001b[0m\n\u001b[1;32m   1330\u001b[0m             \u001b[0;32mtry\u001b[0m\u001b[0;34m:\u001b[0m\u001b[0;34m\u001b[0m\u001b[0m\n\u001b[0;32m-> 1331\u001b[0;31m                 \u001b[0mresponse\u001b[0m\u001b[0;34m.\u001b[0m\u001b[0mbegin\u001b[0m\u001b[0;34m(\u001b[0m\u001b[0;34m)\u001b[0m\u001b[0;34m\u001b[0m\u001b[0m\n\u001b[0m\u001b[1;32m   1332\u001b[0m             \u001b[0;32mexcept\u001b[0m \u001b[0mConnectionError\u001b[0m\u001b[0;34m:\u001b[0m\u001b[0;34m\u001b[0m\u001b[0m\n\u001b[1;32m   1333\u001b[0m                 \u001b[0mself\u001b[0m\u001b[0;34m.\u001b[0m\u001b[0mclose\u001b[0m\u001b[0;34m(\u001b[0m\u001b[0;34m)\u001b[0m\u001b[0;34m\u001b[0m\u001b[0m\n",
      "\u001b[0;32m~/anaconda/envs/dev/lib/python3.6/http/client.py\u001b[0m in \u001b[0;36mbegin\u001b[0;34m(self)\u001b[0m\n\u001b[1;32m    295\u001b[0m         \u001b[0;31m# read until we get a non-100 response\u001b[0m\u001b[0;34m\u001b[0m\u001b[0;34m\u001b[0m\u001b[0m\n\u001b[1;32m    296\u001b[0m         \u001b[0;32mwhile\u001b[0m \u001b[0;32mTrue\u001b[0m\u001b[0;34m:\u001b[0m\u001b[0;34m\u001b[0m\u001b[0m\n\u001b[0;32m--> 297\u001b[0;31m             \u001b[0mversion\u001b[0m\u001b[0;34m,\u001b[0m \u001b[0mstatus\u001b[0m\u001b[0;34m,\u001b[0m \u001b[0mreason\u001b[0m \u001b[0;34m=\u001b[0m \u001b[0mself\u001b[0m\u001b[0;34m.\u001b[0m\u001b[0m_read_status\u001b[0m\u001b[0;34m(\u001b[0m\u001b[0;34m)\u001b[0m\u001b[0;34m\u001b[0m\u001b[0m\n\u001b[0m\u001b[1;32m    298\u001b[0m             \u001b[0;32mif\u001b[0m \u001b[0mstatus\u001b[0m \u001b[0;34m!=\u001b[0m \u001b[0mCONTINUE\u001b[0m\u001b[0;34m:\u001b[0m\u001b[0;34m\u001b[0m\u001b[0m\n\u001b[1;32m    299\u001b[0m                 \u001b[0;32mbreak\u001b[0m\u001b[0;34m\u001b[0m\u001b[0m\n",
      "\u001b[0;32m~/anaconda/envs/dev/lib/python3.6/http/client.py\u001b[0m in \u001b[0;36m_read_status\u001b[0;34m(self)\u001b[0m\n\u001b[1;32m    256\u001b[0m \u001b[0;34m\u001b[0m\u001b[0m\n\u001b[1;32m    257\u001b[0m     \u001b[0;32mdef\u001b[0m \u001b[0m_read_status\u001b[0m\u001b[0;34m(\u001b[0m\u001b[0mself\u001b[0m\u001b[0;34m)\u001b[0m\u001b[0;34m:\u001b[0m\u001b[0;34m\u001b[0m\u001b[0m\n\u001b[0;32m--> 258\u001b[0;31m         \u001b[0mline\u001b[0m \u001b[0;34m=\u001b[0m \u001b[0mstr\u001b[0m\u001b[0;34m(\u001b[0m\u001b[0mself\u001b[0m\u001b[0;34m.\u001b[0m\u001b[0mfp\u001b[0m\u001b[0;34m.\u001b[0m\u001b[0mreadline\u001b[0m\u001b[0;34m(\u001b[0m\u001b[0m_MAXLINE\u001b[0m \u001b[0;34m+\u001b[0m \u001b[0;36m1\u001b[0m\u001b[0;34m)\u001b[0m\u001b[0;34m,\u001b[0m \u001b[0;34m\"iso-8859-1\"\u001b[0m\u001b[0;34m)\u001b[0m\u001b[0;34m\u001b[0m\u001b[0m\n\u001b[0m\u001b[1;32m    259\u001b[0m         \u001b[0;32mif\u001b[0m \u001b[0mlen\u001b[0m\u001b[0;34m(\u001b[0m\u001b[0mline\u001b[0m\u001b[0;34m)\u001b[0m \u001b[0;34m>\u001b[0m \u001b[0m_MAXLINE\u001b[0m\u001b[0;34m:\u001b[0m\u001b[0;34m\u001b[0m\u001b[0m\n\u001b[1;32m    260\u001b[0m             \u001b[0;32mraise\u001b[0m \u001b[0mLineTooLong\u001b[0m\u001b[0;34m(\u001b[0m\u001b[0;34m\"status line\"\u001b[0m\u001b[0;34m)\u001b[0m\u001b[0;34m\u001b[0m\u001b[0m\n",
      "\u001b[0;32m~/anaconda/envs/dev/lib/python3.6/socket.py\u001b[0m in \u001b[0;36mreadinto\u001b[0;34m(self, b)\u001b[0m\n\u001b[1;32m    584\u001b[0m         \u001b[0;32mwhile\u001b[0m \u001b[0;32mTrue\u001b[0m\u001b[0;34m:\u001b[0m\u001b[0;34m\u001b[0m\u001b[0m\n\u001b[1;32m    585\u001b[0m             \u001b[0;32mtry\u001b[0m\u001b[0;34m:\u001b[0m\u001b[0;34m\u001b[0m\u001b[0m\n\u001b[0;32m--> 586\u001b[0;31m                 \u001b[0;32mreturn\u001b[0m \u001b[0mself\u001b[0m\u001b[0;34m.\u001b[0m\u001b[0m_sock\u001b[0m\u001b[0;34m.\u001b[0m\u001b[0mrecv_into\u001b[0m\u001b[0;34m(\u001b[0m\u001b[0mb\u001b[0m\u001b[0;34m)\u001b[0m\u001b[0;34m\u001b[0m\u001b[0m\n\u001b[0m\u001b[1;32m    587\u001b[0m             \u001b[0;32mexcept\u001b[0m \u001b[0mtimeout\u001b[0m\u001b[0;34m:\u001b[0m\u001b[0;34m\u001b[0m\u001b[0m\n\u001b[1;32m    588\u001b[0m                 \u001b[0mself\u001b[0m\u001b[0;34m.\u001b[0m\u001b[0m_timeout_occurred\u001b[0m \u001b[0;34m=\u001b[0m \u001b[0;32mTrue\u001b[0m\u001b[0;34m\u001b[0m\u001b[0m\n",
      "\u001b[0;32m~/anaconda/envs/dev/lib/python3.6/site-packages/urllib3/contrib/pyopenssl.py\u001b[0m in \u001b[0;36mrecv_into\u001b[0;34m(self, *args, **kwargs)\u001b[0m\n\u001b[1;32m    295\u001b[0m                 \u001b[0;32mraise\u001b[0m\u001b[0;34m\u001b[0m\u001b[0m\n\u001b[1;32m    296\u001b[0m         \u001b[0;32mexcept\u001b[0m \u001b[0mOpenSSL\u001b[0m\u001b[0;34m.\u001b[0m\u001b[0mSSL\u001b[0m\u001b[0;34m.\u001b[0m\u001b[0mWantReadError\u001b[0m\u001b[0;34m:\u001b[0m\u001b[0;34m\u001b[0m\u001b[0m\n\u001b[0;32m--> 297\u001b[0;31m             \u001b[0;32mif\u001b[0m \u001b[0;32mnot\u001b[0m \u001b[0mutil\u001b[0m\u001b[0;34m.\u001b[0m\u001b[0mwait_for_read\u001b[0m\u001b[0;34m(\u001b[0m\u001b[0mself\u001b[0m\u001b[0;34m.\u001b[0m\u001b[0msocket\u001b[0m\u001b[0;34m,\u001b[0m \u001b[0mself\u001b[0m\u001b[0;34m.\u001b[0m\u001b[0msocket\u001b[0m\u001b[0;34m.\u001b[0m\u001b[0mgettimeout\u001b[0m\u001b[0;34m(\u001b[0m\u001b[0;34m)\u001b[0m\u001b[0;34m)\u001b[0m\u001b[0;34m:\u001b[0m\u001b[0;34m\u001b[0m\u001b[0m\n\u001b[0m\u001b[1;32m    298\u001b[0m                 \u001b[0;32mraise\u001b[0m \u001b[0mtimeout\u001b[0m\u001b[0;34m(\u001b[0m\u001b[0;34m'The read operation timed out'\u001b[0m\u001b[0;34m)\u001b[0m\u001b[0;34m\u001b[0m\u001b[0m\n\u001b[1;32m    299\u001b[0m             \u001b[0;32melse\u001b[0m\u001b[0;34m:\u001b[0m\u001b[0;34m\u001b[0m\u001b[0m\n",
      "\u001b[0;32m~/anaconda/envs/dev/lib/python3.6/site-packages/urllib3/util/wait.py\u001b[0m in \u001b[0;36mwait_for_read\u001b[0;34m(sock, timeout)\u001b[0m\n\u001b[1;32m    144\u001b[0m     \u001b[0mReturns\u001b[0m \u001b[0;32mTrue\u001b[0m \u001b[0;32mif\u001b[0m \u001b[0mthe\u001b[0m \u001b[0msocket\u001b[0m \u001b[0;32mis\u001b[0m \u001b[0mreadable\u001b[0m\u001b[0;34m,\u001b[0m \u001b[0;32mor\u001b[0m \u001b[0;32mFalse\u001b[0m \u001b[0;32mif\u001b[0m \u001b[0mthe\u001b[0m \u001b[0mtimeout\u001b[0m \u001b[0mexpired\u001b[0m\u001b[0;34m.\u001b[0m\u001b[0;34m\u001b[0m\u001b[0m\n\u001b[1;32m    145\u001b[0m     \"\"\"\n\u001b[0;32m--> 146\u001b[0;31m     \u001b[0;32mreturn\u001b[0m \u001b[0mwait_for_socket\u001b[0m\u001b[0;34m(\u001b[0m\u001b[0msock\u001b[0m\u001b[0;34m,\u001b[0m \u001b[0mread\u001b[0m\u001b[0;34m=\u001b[0m\u001b[0;32mTrue\u001b[0m\u001b[0;34m,\u001b[0m \u001b[0mtimeout\u001b[0m\u001b[0;34m=\u001b[0m\u001b[0mtimeout\u001b[0m\u001b[0;34m)\u001b[0m\u001b[0;34m\u001b[0m\u001b[0m\n\u001b[0m\u001b[1;32m    147\u001b[0m \u001b[0;34m\u001b[0m\u001b[0m\n\u001b[1;32m    148\u001b[0m \u001b[0;34m\u001b[0m\u001b[0m\n",
      "\u001b[0;32m~/anaconda/envs/dev/lib/python3.6/site-packages/urllib3/util/wait.py\u001b[0m in \u001b[0;36mpoll_wait_for_socket\u001b[0;34m(sock, read, write, timeout)\u001b[0m\n\u001b[1;32m    105\u001b[0m         \u001b[0;32mreturn\u001b[0m \u001b[0mpoll_obj\u001b[0m\u001b[0;34m.\u001b[0m\u001b[0mpoll\u001b[0m\u001b[0;34m(\u001b[0m\u001b[0mt\u001b[0m\u001b[0;34m)\u001b[0m\u001b[0;34m\u001b[0m\u001b[0m\n\u001b[1;32m    106\u001b[0m \u001b[0;34m\u001b[0m\u001b[0m\n\u001b[0;32m--> 107\u001b[0;31m     \u001b[0;32mreturn\u001b[0m \u001b[0mbool\u001b[0m\u001b[0;34m(\u001b[0m\u001b[0m_retry_on_intr\u001b[0m\u001b[0;34m(\u001b[0m\u001b[0mdo_poll\u001b[0m\u001b[0;34m,\u001b[0m \u001b[0mtimeout\u001b[0m\u001b[0;34m)\u001b[0m\u001b[0;34m)\u001b[0m\u001b[0;34m\u001b[0m\u001b[0m\n\u001b[0m\u001b[1;32m    108\u001b[0m \u001b[0;34m\u001b[0m\u001b[0m\n\u001b[1;32m    109\u001b[0m \u001b[0;34m\u001b[0m\u001b[0m\n",
      "\u001b[0;32m~/anaconda/envs/dev/lib/python3.6/site-packages/urllib3/util/wait.py\u001b[0m in \u001b[0;36m_retry_on_intr\u001b[0;34m(fn, timeout)\u001b[0m\n\u001b[1;32m     40\u001b[0m     \u001b[0;31m# Modern Python, that retries syscalls by default\u001b[0m\u001b[0;34m\u001b[0m\u001b[0;34m\u001b[0m\u001b[0m\n\u001b[1;32m     41\u001b[0m     \u001b[0;32mdef\u001b[0m \u001b[0m_retry_on_intr\u001b[0m\u001b[0;34m(\u001b[0m\u001b[0mfn\u001b[0m\u001b[0;34m,\u001b[0m \u001b[0mtimeout\u001b[0m\u001b[0;34m)\u001b[0m\u001b[0;34m:\u001b[0m\u001b[0;34m\u001b[0m\u001b[0m\n\u001b[0;32m---> 42\u001b[0;31m         \u001b[0;32mreturn\u001b[0m \u001b[0mfn\u001b[0m\u001b[0;34m(\u001b[0m\u001b[0mtimeout\u001b[0m\u001b[0;34m)\u001b[0m\u001b[0;34m\u001b[0m\u001b[0m\n\u001b[0m\u001b[1;32m     43\u001b[0m \u001b[0;32melse\u001b[0m\u001b[0;34m:\u001b[0m\u001b[0;34m\u001b[0m\u001b[0m\n\u001b[1;32m     44\u001b[0m     \u001b[0;31m# Old and broken Pythons.\u001b[0m\u001b[0;34m\u001b[0m\u001b[0;34m\u001b[0m\u001b[0m\n",
      "\u001b[0;32m~/anaconda/envs/dev/lib/python3.6/site-packages/urllib3/util/wait.py\u001b[0m in \u001b[0;36mdo_poll\u001b[0;34m(t)\u001b[0m\n\u001b[1;32m    103\u001b[0m         \u001b[0;32mif\u001b[0m \u001b[0mt\u001b[0m \u001b[0;32mis\u001b[0m \u001b[0;32mnot\u001b[0m \u001b[0;32mNone\u001b[0m\u001b[0;34m:\u001b[0m\u001b[0;34m\u001b[0m\u001b[0m\n\u001b[1;32m    104\u001b[0m             \u001b[0mt\u001b[0m \u001b[0;34m*=\u001b[0m \u001b[0;36m1000\u001b[0m\u001b[0;34m\u001b[0m\u001b[0m\n\u001b[0;32m--> 105\u001b[0;31m         \u001b[0;32mreturn\u001b[0m \u001b[0mpoll_obj\u001b[0m\u001b[0;34m.\u001b[0m\u001b[0mpoll\u001b[0m\u001b[0;34m(\u001b[0m\u001b[0mt\u001b[0m\u001b[0;34m)\u001b[0m\u001b[0;34m\u001b[0m\u001b[0m\n\u001b[0m\u001b[1;32m    106\u001b[0m \u001b[0;34m\u001b[0m\u001b[0m\n\u001b[1;32m    107\u001b[0m     \u001b[0;32mreturn\u001b[0m \u001b[0mbool\u001b[0m\u001b[0;34m(\u001b[0m\u001b[0m_retry_on_intr\u001b[0m\u001b[0;34m(\u001b[0m\u001b[0mdo_poll\u001b[0m\u001b[0;34m,\u001b[0m \u001b[0mtimeout\u001b[0m\u001b[0;34m)\u001b[0m\u001b[0;34m)\u001b[0m\u001b[0;34m\u001b[0m\u001b[0m\n",
      "\u001b[0;31mKeyboardInterrupt\u001b[0m: "
     ]
    }
   ],
   "source": [
    "# Created issues\n",
    "created = []\n",
    "for org in tqdm(orgs):\n",
    "    query = f\"is:open is:issue user:{org} archived:false created:{start_date}..{end_date}\"\n",
    "    this_created = run_github_query(query)\n",
    "    this_created['org'] = org\n",
    "    created.append(this_created)\n",
    "created = pd.concat(created)\n",
    "created['repo'] = created['repository_url'].map(lambda a: a.split('/')[-1])"
   ]
  },
  {
   "cell_type": "code",
   "execution_count": null,
   "metadata": {
    "tags": [
     "hide_input"
    ]
   },
   "outputs": [],
   "source": [
    "created_counts = created.groupby(['org', 'repo']).count()['number'].reset_index()\n",
    "created_counts['org/repo'] = created_counts.apply(lambda a: a['org'] + '/' + a['repo'], axis=1)\n",
    "sorted_vals = created_counts.sort_values(['org', 'number'], ascending=False)['repo'].values\n",
    "alt.Chart(data=created_counts, title=\"Issues created in the last 30 days\").mark_bar().encode(\n",
    "    x=alt.X('repo', sort=alt.Sort(sorted_vals.tolist())),\n",
    "    y='number',\n",
    "    color='org',\n",
    ")"
   ]
  },
  {
   "cell_type": "code",
   "execution_count": null,
   "metadata": {
    "tags": [
     "hide_input"
    ]
   },
   "outputs": [],
   "source": [
    "# Closed issues\n",
    "closed = []\n",
    "for org in tqdm(orgs):\n",
    "    query = f\"is:issue user:{org} closed:{start_date}..{end_date}\"\n",
    "    this_closed = run_github_query(query)\n",
    "    this_closed['org'] = org\n",
    "    closed.append(this_closed)\n",
    "closed = pd.concat(closed)\n",
    "closed['repo'] = closed['repository_url'].map(lambda a: a.split('/')[-1])"
   ]
  },
  {
   "cell_type": "code",
   "execution_count": null,
   "metadata": {
    "tags": [
     "hide_input"
    ]
   },
   "outputs": [],
   "source": [
    "closed_counts = closed.groupby(['org', 'repo']).count()['number'].reset_index()\n",
    "closed_counts['org/repo'] = closed_counts.apply(lambda a: a['org'] + '/' + a['repo'], axis=1)\n",
    "sorted_vals = closed_counts.sort_values(['org', 'number'], ascending=False)['repo'].values\n",
    "alt.Chart(data=closed_counts, title=\"Issues closed in the last 30 days\").mark_bar().encode(\n",
    "    x=alt.X('repo', sort=alt.Sort(sorted_vals.tolist())),\n",
    "    y='number',\n",
    "    color='org',\n",
    ")"
   ]
  },
  {
   "cell_type": "markdown",
   "metadata": {},
   "source": [
    "### A list of recent issues\n",
    "\n",
    "Here are the top 5 active issues in each repository in the last 30 days"
   ]
  },
  {
   "cell_type": "code",
   "execution_count": null,
   "metadata": {
    "tags": [
     "hide_input"
    ],
    "toc-hr-collapsed": false
   },
   "outputs": [],
   "source": [
    "markdown = []\n",
    "for org, idata in created.groupby('org'):\n",
    "    markdown.append(f\"#### {org}\")\n",
    "    markdown.append(\"\")\n",
    "    for repourl, issues in idata.groupby('repository_url'):\n",
    "        reponame, repo = repourl.split('/')[-2:]\n",
    "        markdown.append(f\"##### [{reponame}/{repo}](https://github.com/{reponame}/{repo})\")\n",
    "        for _, issue in issues.sort_values('comments', ascending=False).head(10).iterrows():\n",
    "            user_name = issue['user']['login']\n",
    "            user_url = issue['user']['html_url']\n",
    "            issue_number = issue['number']\n",
    "            issue_html = issue['html_url']\n",
    "            issue_title = issue['title']\n",
    "\n",
    "            text = f\"* [(#{issue_number})]({issue_html}): _{issue_title}_ by **[{user_name}]({user_url})**\"\n",
    "            markdown.append(text)\n",
    "        markdown.append('')\n",
    "    markdown.append('')\n",
    "\n",
    "Markdown('\\n'.join(markdown))"
   ]
  },
  {
   "cell_type": "code",
   "execution_count": null,
   "metadata": {},
   "outputs": [],
   "source": []
  }
 ],
 "metadata": {
  "kernelspec": {
   "display_name": "Python 3",
   "language": "python",
   "name": "python3"
  },
  "language_info": {
   "codemirror_mode": {
    "name": "ipython",
    "version": 3
   },
   "file_extension": ".py",
   "mimetype": "text/x-python",
   "name": "python",
   "nbconvert_exporter": "python",
   "pygments_lexer": "ipython3",
   "version": "3.6.5"
  },
  "toc-autonumbering": false,
  "toc-showmarkdowntxt": false,
  "toc-showtags": false
 },
 "nbformat": 4,
 "nbformat_minor": 2
}
