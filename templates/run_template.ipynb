{
 "cells": [
  {
   "cell_type": "code",
   "execution_count": 2,
   "metadata": {},
   "outputs": [],
   "source": [
    "import papermill as pm\n",
    "import pandas as pd\n",
    "from datetime import timedelta\n",
    "import os\n",
    "import os.path as op"
   ]
  },
  {
   "cell_type": "code",
   "execution_count": 3,
   "metadata": {},
   "outputs": [],
   "source": [
    "fmt = \"{:%Y-%m-%d}\"\n",
    "end_date = fmt.format(pd.datetime.today())\n",
    "start_date = fmt.format(pd.datetime.today() - timedelta(days=30))\n",
    "parameters = dict(\n",
    "    end_date=end_date,\n",
    "    start_date=start_date,\n",
    "    renderer=\"kaggle\"\n",
    ")\n",
    "name = f'{start_date}_{end_date}'\n",
    "github_orgs = [\"jupyterhub\", \"jupyter\", \"jupyterlab\", \"jupyter-widgets\", \"ipython\", \"binder-examples\"]"
   ]
  },
  {
   "cell_type": "markdown",
   "metadata": {},
   "source": [
    "# Update the data"
   ]
  },
  {
   "cell_type": "code",
   "execution_count": 8,
   "metadata": {},
   "outputs": [
    {
     "data": {
      "application/vnd.jupyter.widget-view+json": {
       "model_id": "75e07771444f402aaedbbd8fc99f3941",
       "version_major": 2,
       "version_minor": 0
      },
      "text/plain": [
       "HBox(children=(IntProgress(value=0, max=23), HTML(value='')))"
      ]
     },
     "metadata": {},
     "output_type": "display_data"
    },
    {
     "name": "stdout",
     "output_type": "stream",
     "text": [
      "\n"
     ]
    }
   ],
   "source": [
    "out = pm.execute_notebook('./update_data.ipynb', 'update_result.ipynb', parameters=parameters)"
   ]
  },
  {
   "cell_type": "markdown",
   "metadata": {},
   "source": [
    "# Generate reports"
   ]
  },
  {
   "cell_type": "code",
   "execution_count": 3,
   "metadata": {},
   "outputs": [
    {
     "data": {
      "application/vnd.jupyter.widget-view+json": {
       "model_id": "7ec202cab37b4c11a384fd49f6df6d62",
       "version_major": 2,
       "version_minor": 0
      },
      "text/plain": [
       "HBox(children=(IntProgress(value=0, max=59), HTML(value='')))"
      ]
     },
     "metadata": {},
     "output_type": "display_data"
    },
    {
     "name": "stdout",
     "output_type": "stream",
     "text": [
      "\n"
     ]
    }
   ],
   "source": [
    "out = pm.execute_notebook(f'./jupyter-activity-template.ipynb',\n",
    "                          f'../reports/{name}.ipynb',\n",
    "                          parameters=parameters,\n",
    "                          report_mode=True)"
   ]
  },
  {
   "cell_type": "code",
   "execution_count": 8,
   "metadata": {},
   "outputs": [
    {
     "data": {
      "application/vnd.jupyter.widget-view+json": {
       "model_id": "f32c8de3995d44adac7f4b6af0fee347",
       "version_major": 2,
       "version_minor": 0
      },
      "text/plain": [
       "HBox(children=(IntProgress(value=0, max=37), HTML(value='')))"
      ]
     },
     "metadata": {},
     "output_type": "display_data"
    },
    {
     "data": {
      "application/vnd.jupyter.widget-view+json": {
       "model_id": "7466f260dd964ab59a5ce2d95616bd8d",
       "version_major": 2,
       "version_minor": 0
      },
      "text/plain": [
       "HBox(children=(IntProgress(value=0, max=24), HTML(value='')))"
      ]
     },
     "metadata": {},
     "output_type": "display_data"
    },
    {
     "name": "stdout",
     "output_type": "stream",
     "text": [
      "\n"
     ]
    }
   ],
   "source": [
    "folder_name = f\"../reports/{start_date}-{end_date}\"\n",
    "os.makedirs(folder_name, exist_ok=True)\n",
    "out = pm.execute_notebook('./github.ipynb',\n",
    "                          op.join(folder_name, \"github.ipynb\"),\n",
    "                          parameters=parameters)\n",
    "\n",
    "out = pm.execute_notebook('./discourse.ipynb',\n",
    "                          op.join(folder_name, \"discourse.ipynb\"),\n",
    "                          parameters=parameters)"
   ]
  }
 ],
 "metadata": {
  "kernelspec": {
   "display_name": "Python 3",
   "language": "python",
   "name": "python3"
  },
  "language_info": {
   "codemirror_mode": {
    "name": "ipython",
    "version": 3
   },
   "file_extension": ".py",
   "mimetype": "text/x-python",
   "name": "python",
   "nbconvert_exporter": "python",
   "pygments_lexer": "ipython3",
   "version": "3.7.3"
  },
  "widgets": {
   "application/vnd.jupyter.widget-state+json": {
    "state": {
     "0510aba18d7449bf8b4d80bf789287e2": {
      "model_module": "@jupyter-widgets/controls",
      "model_module_version": "1.5.0",
      "model_name": "DescriptionStyleModel",
      "state": {
       "description_width": ""
      }
     },
     "213797c270d1459b9ad59c2e46da0007": {
      "model_module": "@jupyter-widgets/controls",
      "model_module_version": "1.5.0",
      "model_name": "IntProgressModel",
      "state": {
       "bar_style": "success",
       "layout": "IPY_MODEL_2330b79215a44778962cf5f8259ae8e9",
       "max": 24,
       "style": "IPY_MODEL_7673e8f320ef43c38fa893a1c61fba88",
       "value": 24
      }
     },
     "2330b79215a44778962cf5f8259ae8e9": {
      "model_module": "@jupyter-widgets/base",
      "model_module_version": "1.2.0",
      "model_name": "LayoutModel",
      "state": {}
     },
     "2c5f55c847e34da7bd1c0845af545566": {
      "model_module": "@jupyter-widgets/controls",
      "model_module_version": "1.5.0",
      "model_name": "HTMLModel",
      "state": {
       "layout": "IPY_MODEL_64ef870e2e244da797fa5142cf5475ff",
       "style": "IPY_MODEL_5b7789aba2db46db9f9375e9d9b4310c",
       "value": "100% 24/24 [01:23&lt;00:00,  1.69it/s]"
      }
     },
     "316d270a1037423cb3a24d59c124a846": {
      "model_module": "@jupyter-widgets/controls",
      "model_module_version": "1.5.0",
      "model_name": "HBoxModel",
      "state": {
       "children": [
        "IPY_MODEL_8bddb39cdbb64f68a7d46f4a5488a652",
        "IPY_MODEL_5285b9997b6b4c1e9d100824d13cd691"
       ],
       "layout": "IPY_MODEL_456ed323a8764e9fb9e53bbc97c499be"
      }
     },
     "456ed323a8764e9fb9e53bbc97c499be": {
      "model_module": "@jupyter-widgets/base",
      "model_module_version": "1.2.0",
      "model_name": "LayoutModel",
      "state": {}
     },
     "49fb57336f7e43f89878900ef9fe04ea": {
      "model_module": "@jupyter-widgets/base",
      "model_module_version": "1.2.0",
      "model_name": "LayoutModel",
      "state": {}
     },
     "5285b9997b6b4c1e9d100824d13cd691": {
      "model_module": "@jupyter-widgets/controls",
      "model_module_version": "1.5.0",
      "model_name": "HTMLModel",
      "state": {
       "layout": "IPY_MODEL_a17bef042f4f4e779a5479b3db6bbcdf",
       "style": "IPY_MODEL_0510aba18d7449bf8b4d80bf789287e2",
       "value": "  0% 0/37 [00:00&lt;?, ?it/s]"
      }
     },
     "52d7e45db34645258b73081fe36dabd5": {
      "model_module": "@jupyter-widgets/base",
      "model_module_version": "1.2.0",
      "model_name": "LayoutModel",
      "state": {}
     },
     "5b7789aba2db46db9f9375e9d9b4310c": {
      "model_module": "@jupyter-widgets/controls",
      "model_module_version": "1.5.0",
      "model_name": "DescriptionStyleModel",
      "state": {
       "description_width": ""
      }
     },
     "64ef870e2e244da797fa5142cf5475ff": {
      "model_module": "@jupyter-widgets/base",
      "model_module_version": "1.2.0",
      "model_name": "LayoutModel",
      "state": {}
     },
     "7466f260dd964ab59a5ce2d95616bd8d": {
      "model_module": "@jupyter-widgets/controls",
      "model_module_version": "1.5.0",
      "model_name": "HBoxModel",
      "state": {
       "children": [
        "IPY_MODEL_213797c270d1459b9ad59c2e46da0007",
        "IPY_MODEL_2c5f55c847e34da7bd1c0845af545566"
       ],
       "layout": "IPY_MODEL_e083af4240954cd889fcd2cfa365064f"
      }
     },
     "7673e8f320ef43c38fa893a1c61fba88": {
      "model_module": "@jupyter-widgets/controls",
      "model_module_version": "1.5.0",
      "model_name": "ProgressStyleModel",
      "state": {
       "description_width": ""
      }
     },
     "7852ade03eec4a8090bbc3c2f2131397": {
      "model_module": "@jupyter-widgets/base",
      "model_module_version": "1.2.0",
      "model_name": "LayoutModel",
      "state": {}
     },
     "807babdb35864bab96f17d3d403a9df0": {
      "model_module": "@jupyter-widgets/controls",
      "model_module_version": "1.5.0",
      "model_name": "ProgressStyleModel",
      "state": {
       "description_width": ""
      }
     },
     "83269754e5e44967a8dd215406919b38": {
      "model_module": "@jupyter-widgets/controls",
      "model_module_version": "1.5.0",
      "model_name": "DescriptionStyleModel",
      "state": {
       "description_width": ""
      }
     },
     "86a8e8f4938a41ea8024f68e29b2f9ef": {
      "model_module": "@jupyter-widgets/controls",
      "model_module_version": "1.5.0",
      "model_name": "HTMLModel",
      "state": {
       "layout": "IPY_MODEL_49fb57336f7e43f89878900ef9fe04ea",
       "style": "IPY_MODEL_83269754e5e44967a8dd215406919b38",
       "value": "100% 37/37 [00:31&lt;00:00,  1.00s/it]"
      }
     },
     "8bddb39cdbb64f68a7d46f4a5488a652": {
      "model_module": "@jupyter-widgets/controls",
      "model_module_version": "1.5.0",
      "model_name": "IntProgressModel",
      "state": {
       "bar_style": "danger",
       "layout": "IPY_MODEL_52d7e45db34645258b73081fe36dabd5",
       "max": 37,
       "style": "IPY_MODEL_d209c9242bd84629bc996e6d7489b157"
      }
     },
     "a17bef042f4f4e779a5479b3db6bbcdf": {
      "model_module": "@jupyter-widgets/base",
      "model_module_version": "1.2.0",
      "model_name": "LayoutModel",
      "state": {}
     },
     "a37703fcafb6411b8b0180d0b4e08171": {
      "model_module": "@jupyter-widgets/controls",
      "model_module_version": "1.5.0",
      "model_name": "IntProgressModel",
      "state": {
       "bar_style": "success",
       "layout": "IPY_MODEL_b8e5016655394d24a8a95bdd150cb502",
       "max": 37,
       "style": "IPY_MODEL_807babdb35864bab96f17d3d403a9df0",
       "value": 37
      }
     },
     "b8e5016655394d24a8a95bdd150cb502": {
      "model_module": "@jupyter-widgets/base",
      "model_module_version": "1.2.0",
      "model_name": "LayoutModel",
      "state": {}
     },
     "d209c9242bd84629bc996e6d7489b157": {
      "model_module": "@jupyter-widgets/controls",
      "model_module_version": "1.5.0",
      "model_name": "ProgressStyleModel",
      "state": {
       "description_width": ""
      }
     },
     "e083af4240954cd889fcd2cfa365064f": {
      "model_module": "@jupyter-widgets/base",
      "model_module_version": "1.2.0",
      "model_name": "LayoutModel",
      "state": {}
     },
     "f32c8de3995d44adac7f4b6af0fee347": {
      "model_module": "@jupyter-widgets/controls",
      "model_module_version": "1.5.0",
      "model_name": "HBoxModel",
      "state": {
       "children": [
        "IPY_MODEL_a37703fcafb6411b8b0180d0b4e08171",
        "IPY_MODEL_86a8e8f4938a41ea8024f68e29b2f9ef"
       ],
       "layout": "IPY_MODEL_7852ade03eec4a8090bbc3c2f2131397"
      }
     }
    },
    "version_major": 2,
    "version_minor": 0
   }
  }
 },
 "nbformat": 4,
 "nbformat_minor": 4
}
