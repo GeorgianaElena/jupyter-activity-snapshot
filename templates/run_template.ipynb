{
 "cells": [
  {
   "cell_type": "code",
   "execution_count": 2,
   "metadata": {},
   "outputs": [],
   "source": [
    "import papermill as pm\n",
    "import pandas as pd\n",
    "from datetime import timedelta\n",
    "import os\n",
    "import os.path as op"
   ]
  },
  {
   "cell_type": "code",
   "execution_count": 12,
   "metadata": {},
   "outputs": [],
   "source": [
    "fmt = \"{:%Y-%m-%d}\"\n",
    "n_days = 30 * 6"
   ]
  },
  {
   "cell_type": "markdown",
   "metadata": {},
   "source": [
    "# Update the data"
   ]
  },
  {
   "cell_type": "code",
   "execution_count": 9,
   "metadata": {},
   "outputs": [
    {
     "data": {
      "application/vnd.jupyter.widget-view+json": {
       "model_id": "a4de6ff713374197b8635ae31aa904cd",
       "version_major": 2,
       "version_minor": 0
      },
      "text/plain": [
       "HBox(children=(IntProgress(value=0, max=11), HTML(value='')))"
      ]
     },
     "metadata": {},
     "output_type": "display_data"
    },
    {
     "name": "stdout",
     "output_type": "stream",
     "text": [
      "\n"
     ]
    }
   ],
   "source": [
    "folder_name = f\"../tmp/\"\n",
    "os.makedirs(folder_name, exist_ok=True)\n",
    "out = pm.execute_notebook('./update/update_data.ipynb', op.join(folder_name, \"update_data_result.ipynb\"), parameters=parameters, cwd=\"./update\")"
   ]
  },
  {
   "cell_type": "markdown",
   "metadata": {},
   "source": [
    "# Generate reports"
   ]
  },
  {
   "cell_type": "markdown",
   "metadata": {},
   "source": [
    "## Recent activity analysis"
   ]
  },
  {
   "cell_type": "code",
   "execution_count": 14,
   "metadata": {},
   "outputs": [
    {
     "data": {
      "application/vnd.jupyter.widget-view+json": {
       "model_id": "1d1b48f2a45044f6b1fc7d4609ddaa4d",
       "version_major": 2,
       "version_minor": 0
      },
      "text/plain": [
       "HBox(children=(IntProgress(value=0, max=42), HTML(value='')))"
      ]
     },
     "metadata": {},
     "output_type": "display_data"
    },
    {
     "name": "stdout",
     "output_type": "stream",
     "text": [
      "\n"
     ]
    },
    {
     "data": {
      "application/vnd.jupyter.widget-view+json": {
       "model_id": "5264d39561cd4555b4bd85be107ebea6",
       "version_major": 2,
       "version_minor": 0
      },
      "text/plain": [
       "HBox(children=(IntProgress(value=0, max=26), HTML(value='')))"
      ]
     },
     "metadata": {},
     "output_type": "display_data"
    },
    {
     "name": "stdout",
     "output_type": "stream",
     "text": [
      "\n"
     ]
    }
   ],
   "source": [
    "name = f'{start_date}_{end_date}'\n",
    "# github_orgs = [\"jupyterhub\", \"jupyter\", \"jupyterlab\", \"jupyter-widgets\", \"ipython\", \"binder-examples\"]\n",
    "github_orgs = [\"jupyterhub\", \"jupyter\"]\n",
    "start_date = \"2019-01-01\"\n",
    "end_date = \"2019-07-01\"\n",
    "custom_name = 'jupyterhub_retrospective'\n",
    "\n",
    "parameters = dict(\n",
    "    renderer=\"kaggle\",\n",
    "    github_orgs=github_orgs,\n",
    "    start_date=start_date,\n",
    "    end_date=end_date\n",
    ")\n",
    "\n",
    "folder_name = f\"../reports/custom/{custom_name}_{start_date}-{end_date}\"\n",
    "os.makedirs(folder_name, exist_ok=True)\n",
    "out = pm.execute_notebook('./github.ipynb',\n",
    "                          op.join(folder_name, \"github.ipynb\"),\n",
    "                          parameters=parameters)\n",
    "\n",
    "out = pm.execute_notebook('./discourse.ipynb',\n",
    "                          op.join(folder_name, \"discourse.ipynb\"),\n",
    "                          parameters=parameters)"
   ]
  },
  {
   "cell_type": "markdown",
   "metadata": {},
   "source": [
    "## Reports over a range of times"
   ]
  },
  {
   "cell_type": "code",
   "execution_count": 5,
   "metadata": {},
   "outputs": [],
   "source": [
    "months = [(ii-1, ii) for ii in range(2, 9)]"
   ]
  },
  {
   "cell_type": "code",
   "execution_count": 6,
   "metadata": {},
   "outputs": [
    {
     "name": "stdout",
     "output_type": "stream",
     "text": [
      "1 2\n"
     ]
    },
    {
     "data": {
      "application/vnd.jupyter.widget-view+json": {
       "model_id": "5d5930e6e74948f4be9cb8cf7b889f82",
       "version_major": 2,
       "version_minor": 0
      },
      "text/plain": [
       "HBox(children=(IntProgress(value=0, max=42), HTML(value='')))"
      ]
     },
     "metadata": {},
     "output_type": "display_data"
    },
    {
     "name": "stdout",
     "output_type": "stream",
     "text": [
      "\n"
     ]
    },
    {
     "data": {
      "application/vnd.jupyter.widget-view+json": {
       "model_id": "902cf5ae972e41f3a6590aac3a7130a9",
       "version_major": 2,
       "version_minor": 0
      },
      "text/plain": [
       "HBox(children=(IntProgress(value=0, max=26), HTML(value='')))"
      ]
     },
     "metadata": {},
     "output_type": "display_data"
    },
    {
     "name": "stdout",
     "output_type": "stream",
     "text": [
      "\n",
      "2 3\n"
     ]
    },
    {
     "data": {
      "application/vnd.jupyter.widget-view+json": {
       "model_id": "0dba9cf65e704349bfae3c2771ab8fa0",
       "version_major": 2,
       "version_minor": 0
      },
      "text/plain": [
       "HBox(children=(IntProgress(value=0, max=42), HTML(value='')))"
      ]
     },
     "metadata": {},
     "output_type": "display_data"
    },
    {
     "name": "stdout",
     "output_type": "stream",
     "text": [
      "\n"
     ]
    },
    {
     "data": {
      "application/vnd.jupyter.widget-view+json": {
       "model_id": "e050769cdd3c46d888c179e02bbc0d50",
       "version_major": 2,
       "version_minor": 0
      },
      "text/plain": [
       "HBox(children=(IntProgress(value=0, max=26), HTML(value='')))"
      ]
     },
     "metadata": {},
     "output_type": "display_data"
    },
    {
     "name": "stdout",
     "output_type": "stream",
     "text": [
      "\n",
      "3 4\n"
     ]
    },
    {
     "data": {
      "application/vnd.jupyter.widget-view+json": {
       "model_id": "52b7462bdda74706b2ba854ebc75c43f",
       "version_major": 2,
       "version_minor": 0
      },
      "text/plain": [
       "HBox(children=(IntProgress(value=0, max=42), HTML(value='')))"
      ]
     },
     "metadata": {},
     "output_type": "display_data"
    },
    {
     "name": "stdout",
     "output_type": "stream",
     "text": [
      "\n"
     ]
    },
    {
     "data": {
      "application/vnd.jupyter.widget-view+json": {
       "model_id": "27862e4cdc004e56b6ff65cf4d94e1a6",
       "version_major": 2,
       "version_minor": 0
      },
      "text/plain": [
       "HBox(children=(IntProgress(value=0, max=26), HTML(value='')))"
      ]
     },
     "metadata": {},
     "output_type": "display_data"
    },
    {
     "name": "stdout",
     "output_type": "stream",
     "text": [
      "\n",
      "4 5\n"
     ]
    },
    {
     "data": {
      "application/vnd.jupyter.widget-view+json": {
       "model_id": "2ff528cab8fe4d35baf66c1e872a7eee",
       "version_major": 2,
       "version_minor": 0
      },
      "text/plain": [
       "HBox(children=(IntProgress(value=0, max=42), HTML(value='')))"
      ]
     },
     "metadata": {},
     "output_type": "display_data"
    },
    {
     "name": "stdout",
     "output_type": "stream",
     "text": [
      "\n"
     ]
    },
    {
     "data": {
      "application/vnd.jupyter.widget-view+json": {
       "model_id": "2261fc92e2c24a9a95fff02f1e0d740a",
       "version_major": 2,
       "version_minor": 0
      },
      "text/plain": [
       "HBox(children=(IntProgress(value=0, max=26), HTML(value='')))"
      ]
     },
     "metadata": {},
     "output_type": "display_data"
    },
    {
     "name": "stdout",
     "output_type": "stream",
     "text": [
      "\n",
      "5 6\n"
     ]
    },
    {
     "data": {
      "application/vnd.jupyter.widget-view+json": {
       "model_id": "9e09e95b3eba4232ac8f79fdb64de050",
       "version_major": 2,
       "version_minor": 0
      },
      "text/plain": [
       "HBox(children=(IntProgress(value=0, max=42), HTML(value='')))"
      ]
     },
     "metadata": {},
     "output_type": "display_data"
    },
    {
     "name": "stdout",
     "output_type": "stream",
     "text": [
      "\n"
     ]
    },
    {
     "data": {
      "application/vnd.jupyter.widget-view+json": {
       "model_id": "9823d1ad5cc440178b6d88f85238d47a",
       "version_major": 2,
       "version_minor": 0
      },
      "text/plain": [
       "HBox(children=(IntProgress(value=0, max=26), HTML(value='')))"
      ]
     },
     "metadata": {},
     "output_type": "display_data"
    },
    {
     "name": "stdout",
     "output_type": "stream",
     "text": [
      "\n",
      "6 7\n"
     ]
    },
    {
     "data": {
      "application/vnd.jupyter.widget-view+json": {
       "model_id": "c518fcdc475546b084bfaaeff74234d4",
       "version_major": 2,
       "version_minor": 0
      },
      "text/plain": [
       "HBox(children=(IntProgress(value=0, max=42), HTML(value='')))"
      ]
     },
     "metadata": {},
     "output_type": "display_data"
    },
    {
     "name": "stdout",
     "output_type": "stream",
     "text": [
      "\n"
     ]
    },
    {
     "data": {
      "application/vnd.jupyter.widget-view+json": {
       "model_id": "a646dd6ac5b04f02a4e03c5e3b26a524",
       "version_major": 2,
       "version_minor": 0
      },
      "text/plain": [
       "HBox(children=(IntProgress(value=0, max=26), HTML(value='')))"
      ]
     },
     "metadata": {},
     "output_type": "display_data"
    },
    {
     "name": "stdout",
     "output_type": "stream",
     "text": [
      "\n",
      "7 8\n"
     ]
    },
    {
     "data": {
      "application/vnd.jupyter.widget-view+json": {
       "model_id": "485dcb743fdd49c7899b1b0cd4e6bc6d",
       "version_major": 2,
       "version_minor": 0
      },
      "text/plain": [
       "HBox(children=(IntProgress(value=0, max=42), HTML(value='')))"
      ]
     },
     "metadata": {},
     "output_type": "display_data"
    },
    {
     "name": "stdout",
     "output_type": "stream",
     "text": [
      "\n"
     ]
    },
    {
     "data": {
      "application/vnd.jupyter.widget-view+json": {
       "model_id": "141bf7f4b1cf4b0abd22c8ac2bfc5a5f",
       "version_major": 2,
       "version_minor": 0
      },
      "text/plain": [
       "HBox(children=(IntProgress(value=0, max=26), HTML(value='')))"
      ]
     },
     "metadata": {},
     "output_type": "display_data"
    },
    {
     "name": "stdout",
     "output_type": "stream",
     "text": [
      "\n"
     ]
    }
   ],
   "source": [
    "name = f'{start_date}_{end_date}'\n",
    "github_orgs = [\"jupyterhub\", \"jupyter\", \"jupyterlab\", \"jupyter-widgets\", \"ipython\", \"binder-examples\"]\n",
    "custom_name = 'jupyterhub_retrospective'\n",
    "\n",
    "parameters = dict(\n",
    "    renderer=\"kaggle\",\n",
    "    github_orgs=github_orgs,\n",
    ")\n",
    "\n",
    "for st, stp in months:\n",
    "    print(st, stp)\n",
    "    start_date = f\"2019-0{st}-01\"\n",
    "    end_date = f\"2019-0{stp}-01\"\n",
    "    folder_name = f\"../reports/monthly/{start_date}-{end_date}\"\n",
    "    parameters.update({'start_date': start_date, \"end_date\": end_date})\n",
    "    os.makedirs(folder_name, exist_ok=True)\n",
    "    out = pm.execute_notebook('./github.ipynb',\n",
    "                              op.join(folder_name, \"github.ipynb\"),\n",
    "                              parameters=parameters)\n",
    "\n",
    "    out = pm.execute_notebook('./discourse.ipynb',\n",
    "                              op.join(folder_name, \"discourse.ipynb\"),\n",
    "                              parameters=parameters)"
   ]
  },
  {
   "cell_type": "markdown",
   "metadata": {},
   "source": [
    "## Over time analysis"
   ]
  },
  {
   "cell_type": "code",
   "execution_count": 18,
   "metadata": {},
   "outputs": [
    {
     "data": {
      "application/vnd.jupyter.widget-view+json": {
       "model_id": "8bc2f1569ceb4729b3f811aceeca2c4f",
       "version_major": 2,
       "version_minor": 0
      },
      "text/plain": [
       "HBox(children=(IntProgress(value=0, max=26), HTML(value='')))"
      ]
     },
     "metadata": {},
     "output_type": "display_data"
    },
    {
     "name": "stdout",
     "output_type": "stream",
     "text": [
      "\n"
     ]
    }
   ],
   "source": [
    "# Calculate some relevant statistics about the repositories\n",
    "folder_name = f\"../reports/summaries\"\n",
    "os.makedirs(folder_name, exist_ok=True)\n",
    "github_orgs = [\"jupyterhub\", \"jupyter\", \"jupyterlab\", \"jupyter-widgets\", \"ipython\", \"binder-examples\"]\n",
    "\n",
    "parameters = dict(\n",
    "    renderer=\"kaggle\",\n",
    "    github_orgs=github_orgs,\n",
    ")\n",
    "\n",
    "\n",
    "out = pm.execute_notebook('./time.ipynb',\n",
    "                          op.join(folder_name, 'time.ipynb'),\n",
    "                          parameters=parameters)\n"
   ]
  },
  {
   "cell_type": "code",
   "execution_count": 15,
   "metadata": {},
   "outputs": [],
   "source": [
    "out = pm.execute_notebook('./stats/pony_factor.ipynb',\n",
    "                          op.join(folder_name, \"pony_factor.ipynb\"),\n",
    "                          parameters=parameters,\n",
    "                          cwd='./stats')\n",
    "\n",
    "out = pm.execute_notebook('./stats/retention.ipynb',\n",
    "                          op.join(folder_name, \"retention.ipynb\"),\n",
    "                          parameters=parameters,\n",
    "                          cwd='./stats')"
   ]
  },
  {
   "cell_type": "code",
   "execution_count": null,
   "metadata": {},
   "outputs": [],
   "source": []
  }
 ],
 "metadata": {
  "kernelspec": {
   "display_name": "Python 3",
   "language": "python",
   "name": "python3"
  },
  "language_info": {
   "codemirror_mode": {
    "name": "ipython",
    "version": 3
   },
   "file_extension": ".py",
   "mimetype": "text/x-python",
   "name": "python",
   "nbconvert_exporter": "python",
   "pygments_lexer": "ipython3",
   "version": "3.7.3"
  },
  "widgets": {
   "application/vnd.jupyter.widget-state+json": {
    "state": {
     "019b7e50271148a5aae83c82b468b578": {
      "model_module": "@jupyter-widgets/base",
      "model_module_version": "1.2.0",
      "model_name": "LayoutModel",
      "state": {}
     },
     "0609f75065b44481965a3ceed77f14e7": {
      "model_module": "@jupyter-widgets/controls",
      "model_module_version": "1.5.0",
      "model_name": "DescriptionStyleModel",
      "state": {
       "description_width": ""
      }
     },
     "071e9995ace7442aa6ceeb3de6419954": {
      "model_module": "@jupyter-widgets/base",
      "model_module_version": "1.2.0",
      "model_name": "LayoutModel",
      "state": {}
     },
     "09339330e41d40589abe3745c47bfd6c": {
      "model_module": "@jupyter-widgets/base",
      "model_module_version": "1.2.0",
      "model_name": "LayoutModel",
      "state": {}
     },
     "09dea40c97db40e692cd055ba23c355a": {
      "model_module": "@jupyter-widgets/base",
      "model_module_version": "1.2.0",
      "model_name": "LayoutModel",
      "state": {}
     },
     "0ba2b493d5bc46ea8d53dfdd8a8e94e6": {
      "model_module": "@jupyter-widgets/controls",
      "model_module_version": "1.5.0",
      "model_name": "ProgressStyleModel",
      "state": {
       "description_width": ""
      }
     },
     "0c36986b8cbc46b7a437577d43d316df": {
      "model_module": "@jupyter-widgets/base",
      "model_module_version": "1.2.0",
      "model_name": "LayoutModel",
      "state": {}
     },
     "0cec50e4164b4c73af9f36862223e0f7": {
      "model_module": "@jupyter-widgets/controls",
      "model_module_version": "1.5.0",
      "model_name": "HTMLModel",
      "state": {
       "layout": "IPY_MODEL_da8b10f9f482413d95b049e0b874d006",
       "style": "IPY_MODEL_40c83cb71692489691931b66226b370a",
       "value": "100% 42/42 [00:50&lt;00:00,  1.07it/s]"
      }
     },
     "0dba9cf65e704349bfae3c2771ab8fa0": {
      "model_module": "@jupyter-widgets/controls",
      "model_module_version": "1.5.0",
      "model_name": "HBoxModel",
      "state": {
       "children": [
        "IPY_MODEL_9ac5975db46d4e4f9a91f4fb157e2ab2",
        "IPY_MODEL_0cec50e4164b4c73af9f36862223e0f7"
       ],
       "layout": "IPY_MODEL_f9b83c527429411f9f7c0fff16a71842"
      }
     },
     "0ddf536f057043038464525bc17edeec": {
      "model_module": "@jupyter-widgets/controls",
      "model_module_version": "1.5.0",
      "model_name": "IntProgressModel",
      "state": {
       "bar_style": "success",
       "layout": "IPY_MODEL_64b05f19003d458c945894f95bd84e2d",
       "max": 26,
       "style": "IPY_MODEL_320433bd9c974fbeac0b2e7d6aa2b1cd",
       "value": 26
      }
     },
     "0ecdf0d3105d47a4b2f3b9f0edf61416": {
      "model_module": "@jupyter-widgets/controls",
      "model_module_version": "1.5.0",
      "model_name": "IntProgressModel",
      "state": {
       "bar_style": "success",
       "layout": "IPY_MODEL_dbe985f8b08346798edd6c1cedbe7420",
       "max": 42,
       "style": "IPY_MODEL_c4f6eadada3a4e539598ff4cd8882c4d",
       "value": 42
      }
     },
     "0fba06e618274ecaa80f6744382cab8e": {
      "model_module": "@jupyter-widgets/controls",
      "model_module_version": "1.5.0",
      "model_name": "IntProgressModel",
      "state": {
       "bar_style": "success",
       "layout": "IPY_MODEL_09dea40c97db40e692cd055ba23c355a",
       "max": 26,
       "style": "IPY_MODEL_a6e8a912b115495d8f1a6adcdafbd52e",
       "value": 26
      }
     },
     "1227da9d8cee4f20b4781a598e21fb52": {
      "model_module": "@jupyter-widgets/controls",
      "model_module_version": "1.5.0",
      "model_name": "IntProgressModel",
      "state": {
       "bar_style": "success",
       "layout": "IPY_MODEL_ab22193631dd4f8387566c304026870d",
       "max": 42,
       "style": "IPY_MODEL_7182f14f230d46a785cb5bba4b209182",
       "value": 42
      }
     },
     "123e061d413340eeb14ae2d025c4436a": {
      "model_module": "@jupyter-widgets/base",
      "model_module_version": "1.2.0",
      "model_name": "LayoutModel",
      "state": {}
     },
     "12a8fdab0bbb4043b48c3d6eee910781": {
      "model_module": "@jupyter-widgets/controls",
      "model_module_version": "1.5.0",
      "model_name": "ProgressStyleModel",
      "state": {
       "description_width": ""
      }
     },
     "141bf7f4b1cf4b0abd22c8ac2bfc5a5f": {
      "model_module": "@jupyter-widgets/controls",
      "model_module_version": "1.5.0",
      "model_name": "HBoxModel",
      "state": {
       "children": [
        "IPY_MODEL_7d45575583424e73a0f5d7c0d67ab0ec",
        "IPY_MODEL_ea588dd5dcd44e639870b9a0dfdd3fec"
       ],
       "layout": "IPY_MODEL_929fc0cff0924d2b967aa5cdb271029e"
      }
     },
     "1667da0afc7b40df91f3ea975ff8b30e": {
      "model_module": "@jupyter-widgets/controls",
      "model_module_version": "1.5.0",
      "model_name": "HBoxModel",
      "state": {
       "children": [
        "IPY_MODEL_299bcba1646b4ac5a55b3eb98b0d02b3",
        "IPY_MODEL_781137582d9c4502adaa97cec42e1f72"
       ],
       "layout": "IPY_MODEL_e52467f45de747f29a2ff912f81be1a9"
      }
     },
     "168e573d1f4643f0b5416cfb630cdf85": {
      "model_module": "@jupyter-widgets/controls",
      "model_module_version": "1.5.0",
      "model_name": "IntProgressModel",
      "state": {
       "bar_style": "success",
       "layout": "IPY_MODEL_0c36986b8cbc46b7a437577d43d316df",
       "max": 42,
       "style": "IPY_MODEL_7bcf4a7b51f941a48c48ff1fdcb7ebe2",
       "value": 42
      }
     },
     "184b7ade3e524f5b835cfc0b0178c3bb": {
      "model_module": "@jupyter-widgets/base",
      "model_module_version": "1.2.0",
      "model_name": "LayoutModel",
      "state": {}
     },
     "1a9ad049c89d4f28a5c6e83277f9c802": {
      "model_module": "@jupyter-widgets/base",
      "model_module_version": "1.2.0",
      "model_name": "LayoutModel",
      "state": {}
     },
     "1d1b48f2a45044f6b1fc7d4609ddaa4d": {
      "model_module": "@jupyter-widgets/controls",
      "model_module_version": "1.5.0",
      "model_name": "HBoxModel",
      "state": {
       "children": [
        "IPY_MODEL_5893291b1c114d52afca8982b87318d6",
        "IPY_MODEL_a0b662eef7ce4f8fbae3485da79e7428"
       ],
       "layout": "IPY_MODEL_dae121caa9c64352b55e6f73c1af81cb"
      }
     },
     "1d408e203cd5478fbfd105df1b6ae3dc": {
      "model_module": "@jupyter-widgets/controls",
      "model_module_version": "1.5.0",
      "model_name": "ProgressStyleModel",
      "state": {
       "description_width": ""
      }
     },
     "21244fa7bd8f4683808b97cea0b6023d": {
      "model_module": "@jupyter-widgets/base",
      "model_module_version": "1.2.0",
      "model_name": "LayoutModel",
      "state": {}
     },
     "21b5d791488343989ef297ed61a9c41f": {
      "model_module": "@jupyter-widgets/controls",
      "model_module_version": "1.5.0",
      "model_name": "HBoxModel",
      "state": {
       "children": [
        "IPY_MODEL_6ada2613746c4351bb3297590ad3e368",
        "IPY_MODEL_523cb6289b824f43861ef210b118491c"
       ],
       "layout": "IPY_MODEL_96bce573607c482fb54a2876d2caadef"
      }
     },
     "2261fc92e2c24a9a95fff02f1e0d740a": {
      "model_module": "@jupyter-widgets/controls",
      "model_module_version": "1.5.0",
      "model_name": "HBoxModel",
      "state": {
       "children": [
        "IPY_MODEL_59eb2e3746fc4e7cad8961f4f0b5cb28",
        "IPY_MODEL_7ccd9b821f35402aa5ec5f3947378828"
       ],
       "layout": "IPY_MODEL_f02a68247d944cd2a205dcb22c076355"
      }
     },
     "23622d0c3754464ba3e9bf0e444a316d": {
      "model_module": "@jupyter-widgets/base",
      "model_module_version": "1.2.0",
      "model_name": "LayoutModel",
      "state": {}
     },
     "23dc9ac866604781a38a45da1cec1b3e": {
      "model_module": "@jupyter-widgets/controls",
      "model_module_version": "1.5.0",
      "model_name": "DescriptionStyleModel",
      "state": {
       "description_width": ""
      }
     },
     "24dfc987cf294859a6793d71a5f6ebbc": {
      "model_module": "@jupyter-widgets/base",
      "model_module_version": "1.2.0",
      "model_name": "LayoutModel",
      "state": {}
     },
     "259569c327a24e8389626d7760ad3f85": {
      "model_module": "@jupyter-widgets/controls",
      "model_module_version": "1.5.0",
      "model_name": "HBoxModel",
      "state": {
       "children": [
        "IPY_MODEL_af460ed996964b53ac2266cc59b8a62c",
        "IPY_MODEL_f6d960f19a184cbaac7b166d4c8f5607"
       ],
       "layout": "IPY_MODEL_40661f5c636647619f0d9520eed6042a"
      }
     },
     "259ebb8235824c7bbcef2c38997a9573": {
      "model_module": "@jupyter-widgets/base",
      "model_module_version": "1.2.0",
      "model_name": "LayoutModel",
      "state": {}
     },
     "25f7d591b9c341ae914c6ed4e8cb3f8a": {
      "model_module": "@jupyter-widgets/base",
      "model_module_version": "1.2.0",
      "model_name": "LayoutModel",
      "state": {}
     },
     "27862e4cdc004e56b6ff65cf4d94e1a6": {
      "model_module": "@jupyter-widgets/controls",
      "model_module_version": "1.5.0",
      "model_name": "HBoxModel",
      "state": {
       "children": [
        "IPY_MODEL_8665742f960a4fdf8a5cac75fecbaf30",
        "IPY_MODEL_2c5a3a00d80a4e998220c036efb028c7"
       ],
       "layout": "IPY_MODEL_25f7d591b9c341ae914c6ed4e8cb3f8a"
      }
     },
     "2878b64359964234bc06087890ce2249": {
      "model_module": "@jupyter-widgets/controls",
      "model_module_version": "1.5.0",
      "model_name": "IntProgressModel",
      "state": {
       "bar_style": "danger",
       "layout": "IPY_MODEL_6c3418a7e83341768e3697026ab54b43",
       "max": 25,
       "style": "IPY_MODEL_a0219196e36146098e74bd1530d5618d",
       "value": 24
      }
     },
     "28a46f9a19824a3b87bc504e639fde39": {
      "model_module": "@jupyter-widgets/base",
      "model_module_version": "1.2.0",
      "model_name": "LayoutModel",
      "state": {}
     },
     "29585161c694498a91acc96ef9dabc76": {
      "model_module": "@jupyter-widgets/base",
      "model_module_version": "1.2.0",
      "model_name": "LayoutModel",
      "state": {}
     },
     "299bcba1646b4ac5a55b3eb98b0d02b3": {
      "model_module": "@jupyter-widgets/controls",
      "model_module_version": "1.5.0",
      "model_name": "IntProgressModel",
      "state": {
       "bar_style": "success",
       "layout": "IPY_MODEL_5a9891956d6c4ba6b5d537038ec6fd84",
       "max": 42,
       "style": "IPY_MODEL_762c028d133f4197821d19ea96878f50",
       "value": 42
      }
     },
     "2c5a3a00d80a4e998220c036efb028c7": {
      "model_module": "@jupyter-widgets/controls",
      "model_module_version": "1.5.0",
      "model_name": "HTMLModel",
      "state": {
       "layout": "IPY_MODEL_df9237963889445aa17d0f0cc3c1348b",
       "style": "IPY_MODEL_dc9df43a8d154561aa86947aa2baa1f4",
       "value": "100% 26/26 [00:12&lt;00:00,  4.91it/s]"
      }
     },
     "2ff528cab8fe4d35baf66c1e872a7eee": {
      "model_module": "@jupyter-widgets/controls",
      "model_module_version": "1.5.0",
      "model_name": "HBoxModel",
      "state": {
       "children": [
        "IPY_MODEL_d826278561a443919a3ec1dc30763cbe",
        "IPY_MODEL_433f2bf34a5048bd99837041d67e5f8f"
       ],
       "layout": "IPY_MODEL_9ddb649b490049b393c018670bd6e1c6"
      }
     },
     "302bec9fd9b84952abfc9333bb33a946": {
      "model_module": "@jupyter-widgets/controls",
      "model_module_version": "1.5.0",
      "model_name": "HTMLModel",
      "state": {
       "layout": "IPY_MODEL_65d3a35886c6422c8a292b0626eb60c3",
       "style": "IPY_MODEL_47598e657e35441aae9a6d9757d8fa65",
       "value": "100% 11/11 [00:48&lt;00:00,  3.58s/it]"
      }
     },
     "304e20af1bf7464aa0716a3259168f1b": {
      "model_module": "@jupyter-widgets/controls",
      "model_module_version": "1.5.0",
      "model_name": "ProgressStyleModel",
      "state": {
       "description_width": ""
      }
     },
     "3079f54c87f5414eab85b08a7f86af08": {
      "model_module": "@jupyter-widgets/base",
      "model_module_version": "1.2.0",
      "model_name": "LayoutModel",
      "state": {}
     },
     "31dac28180ec437a82c5cf0441c888e8": {
      "model_module": "@jupyter-widgets/controls",
      "model_module_version": "1.5.0",
      "model_name": "ProgressStyleModel",
      "state": {
       "description_width": ""
      }
     },
     "320433bd9c974fbeac0b2e7d6aa2b1cd": {
      "model_module": "@jupyter-widgets/controls",
      "model_module_version": "1.5.0",
      "model_name": "ProgressStyleModel",
      "state": {
       "description_width": ""
      }
     },
     "3496f50112a140c88b8e23eb3eac73bb": {
      "model_module": "@jupyter-widgets/base",
      "model_module_version": "1.2.0",
      "model_name": "LayoutModel",
      "state": {}
     },
     "366cffc82ef34e738cdc50c10408f1fa": {
      "model_module": "@jupyter-widgets/base",
      "model_module_version": "1.2.0",
      "model_name": "LayoutModel",
      "state": {}
     },
     "394050d9202540a787df14448c1d9461": {
      "model_module": "@jupyter-widgets/controls",
      "model_module_version": "1.5.0",
      "model_name": "DescriptionStyleModel",
      "state": {
       "description_width": ""
      }
     },
     "3ac275b6ad174fef9f966491a055cd28": {
      "model_module": "@jupyter-widgets/controls",
      "model_module_version": "1.5.0",
      "model_name": "DescriptionStyleModel",
      "state": {
       "description_width": ""
      }
     },
     "3c85e60741c54db1ac5dcf136a83e9cc": {
      "model_module": "@jupyter-widgets/base",
      "model_module_version": "1.2.0",
      "model_name": "LayoutModel",
      "state": {}
     },
     "3c891c1c1dc1427bbdfb82e5f2e5f1b5": {
      "model_module": "@jupyter-widgets/controls",
      "model_module_version": "1.5.0",
      "model_name": "ProgressStyleModel",
      "state": {
       "description_width": ""
      }
     },
     "40661f5c636647619f0d9520eed6042a": {
      "model_module": "@jupyter-widgets/base",
      "model_module_version": "1.2.0",
      "model_name": "LayoutModel",
      "state": {}
     },
     "40c83cb71692489691931b66226b370a": {
      "model_module": "@jupyter-widgets/controls",
      "model_module_version": "1.5.0",
      "model_name": "DescriptionStyleModel",
      "state": {
       "description_width": ""
      }
     },
     "42a7538b2e6146988b8fbfe341f5ff28": {
      "model_module": "@jupyter-widgets/controls",
      "model_module_version": "1.5.0",
      "model_name": "ProgressStyleModel",
      "state": {
       "description_width": ""
      }
     },
     "433f2bf34a5048bd99837041d67e5f8f": {
      "model_module": "@jupyter-widgets/controls",
      "model_module_version": "1.5.0",
      "model_name": "HTMLModel",
      "state": {
       "layout": "IPY_MODEL_8ec49c6c59fe4626b5445862d5238112",
       "style": "IPY_MODEL_0609f75065b44481965a3ceed77f14e7",
       "value": "100% 42/42 [00:47&lt;00:00,  1.06s/it]"
      }
     },
     "436192ec85c946d189916631a1d257c6": {
      "model_module": "@jupyter-widgets/base",
      "model_module_version": "1.2.0",
      "model_name": "LayoutModel",
      "state": {}
     },
     "43c6e6555c1b4c9c8b1c5c0cd05312dc": {
      "model_module": "@jupyter-widgets/controls",
      "model_module_version": "1.5.0",
      "model_name": "ProgressStyleModel",
      "state": {
       "description_width": ""
      }
     },
     "458460eaa4694fb09eaf198d41859eee": {
      "model_module": "@jupyter-widgets/controls",
      "model_module_version": "1.5.0",
      "model_name": "ProgressStyleModel",
      "state": {
       "description_width": ""
      }
     },
     "46134ac4f7904e8d8383515ffd362067": {
      "model_module": "@jupyter-widgets/base",
      "model_module_version": "1.2.0",
      "model_name": "LayoutModel",
      "state": {}
     },
     "469a9f8f99334a6fa519f1684bdf9ba1": {
      "model_module": "@jupyter-widgets/controls",
      "model_module_version": "1.5.0",
      "model_name": "HTMLModel",
      "state": {
       "layout": "IPY_MODEL_24dfc987cf294859a6793d71a5f6ebbc",
       "style": "IPY_MODEL_8dda62a4109b45e9b2ee465bf642fe3f",
       "value": " 96% 24/25 [00:08&lt;00:00,  2.32it/s]"
      }
     },
     "47598e657e35441aae9a6d9757d8fa65": {
      "model_module": "@jupyter-widgets/controls",
      "model_module_version": "1.5.0",
      "model_name": "DescriptionStyleModel",
      "state": {
       "description_width": ""
      }
     },
     "47de29d45aa04f97ab0e9248790c953d": {
      "model_module": "@jupyter-widgets/base",
      "model_module_version": "1.2.0",
      "model_name": "LayoutModel",
      "state": {}
     },
     "47fd726a93774e6d81cb542ddb9e4883": {
      "model_module": "@jupyter-widgets/controls",
      "model_module_version": "1.5.0",
      "model_name": "DescriptionStyleModel",
      "state": {
       "description_width": ""
      }
     },
     "485dcb743fdd49c7899b1b0cd4e6bc6d": {
      "model_module": "@jupyter-widgets/controls",
      "model_module_version": "1.5.0",
      "model_name": "HBoxModel",
      "state": {
       "children": [
        "IPY_MODEL_943337a70d1a4dbfb4c5d0dad4a2f2c3",
        "IPY_MODEL_841398c55c49424ab41ab2bbc45e6585"
       ],
       "layout": "IPY_MODEL_3c85e60741c54db1ac5dcf136a83e9cc"
      }
     },
     "4902b24ec5404dfa855ea3bf7e58d40a": {
      "model_module": "@jupyter-widgets/controls",
      "model_module_version": "1.5.0",
      "model_name": "HBoxModel",
      "state": {
       "children": [
        "IPY_MODEL_2878b64359964234bc06087890ce2249",
        "IPY_MODEL_469a9f8f99334a6fa519f1684bdf9ba1"
       ],
       "layout": "IPY_MODEL_c6773dce4ae44b18a746151a4b90ea12"
      }
     },
     "49c20a0f2c814a5eb19b5ccc3ce9e40a": {
      "model_module": "@jupyter-widgets/base",
      "model_module_version": "1.2.0",
      "model_name": "LayoutModel",
      "state": {}
     },
     "49ec07c78066463eb8fa8f5551881a2e": {
      "model_module": "@jupyter-widgets/controls",
      "model_module_version": "1.5.0",
      "model_name": "HTMLModel",
      "state": {
       "layout": "IPY_MODEL_436192ec85c946d189916631a1d257c6",
       "style": "IPY_MODEL_a80043643023483cab89417b6f74852f",
       "value": "100% 26/26 [00:16&lt;00:00,  2.97it/s]"
      }
     },
     "4ac042abc0034e54a9108da13298749a": {
      "model_module": "@jupyter-widgets/base",
      "model_module_version": "1.2.0",
      "model_name": "LayoutModel",
      "state": {}
     },
     "4c517b6f02774b47a36a1ae28e03fb9b": {
      "model_module": "@jupyter-widgets/controls",
      "model_module_version": "1.5.0",
      "model_name": "HBoxModel",
      "state": {
       "children": [
        "IPY_MODEL_c58723c07c8747958d268b0b79d807d3",
        "IPY_MODEL_de801f1affa84759afc1076c0195ae73"
       ],
       "layout": "IPY_MODEL_09339330e41d40589abe3745c47bfd6c"
      }
     },
     "4dbe294098264827919c798bd6415ace": {
      "model_module": "@jupyter-widgets/controls",
      "model_module_version": "1.5.0",
      "model_name": "ProgressStyleModel",
      "state": {
       "description_width": ""
      }
     },
     "4ea11a2c35ac43eda1e7b92cae79e363": {
      "model_module": "@jupyter-widgets/base",
      "model_module_version": "1.2.0",
      "model_name": "LayoutModel",
      "state": {}
     },
     "4f0a2a9a8b78430ca5ab5e7eb3da68cf": {
      "model_module": "@jupyter-widgets/controls",
      "model_module_version": "1.5.0",
      "model_name": "DescriptionStyleModel",
      "state": {
       "description_width": ""
      }
     },
     "5050049bbd824725a3f9e08c7ebb6adf": {
      "model_module": "@jupyter-widgets/controls",
      "model_module_version": "1.5.0",
      "model_name": "HTMLModel",
      "state": {
       "layout": "IPY_MODEL_259ebb8235824c7bbcef2c38997a9573",
       "style": "IPY_MODEL_51aad63c6cd24602a858ec9e0c97d2c7",
       "value": "100% 26/26 [00:15&lt;00:00,  3.90it/s]"
      }
     },
     "51aad63c6cd24602a858ec9e0c97d2c7": {
      "model_module": "@jupyter-widgets/controls",
      "model_module_version": "1.5.0",
      "model_name": "DescriptionStyleModel",
      "state": {
       "description_width": ""
      }
     },
     "523cb6289b824f43861ef210b118491c": {
      "model_module": "@jupyter-widgets/controls",
      "model_module_version": "1.5.0",
      "model_name": "HTMLModel",
      "state": {
       "layout": "IPY_MODEL_ebacd87bef874f52ba8bb5ebbd28d0b4",
       "style": "IPY_MODEL_c78627f511084d9a930f842644c7353c",
       "value": "100% 26/26 [00:04&lt;00:00,  6.93it/s]"
      }
     },
     "5264d39561cd4555b4bd85be107ebea6": {
      "model_module": "@jupyter-widgets/controls",
      "model_module_version": "1.5.0",
      "model_name": "HBoxModel",
      "state": {
       "children": [
        "IPY_MODEL_fb5e17349538456f8578a2ddadab8f90",
        "IPY_MODEL_dc66703f84594208ab732ef564667b66"
       ],
       "layout": "IPY_MODEL_3079f54c87f5414eab85b08a7f86af08"
      }
     },
     "52b7462bdda74706b2ba854ebc75c43f": {
      "model_module": "@jupyter-widgets/controls",
      "model_module_version": "1.5.0",
      "model_name": "HBoxModel",
      "state": {
       "children": [
        "IPY_MODEL_168e573d1f4643f0b5416cfb630cdf85",
        "IPY_MODEL_b39e6bff1b764ffb8f6ed2d79c07c05a"
       ],
       "layout": "IPY_MODEL_70f525ecde5a4fb993f28f6bca245b99"
      }
     },
     "567862079a344b73830994f04f8d28af": {
      "model_module": "@jupyter-widgets/base",
      "model_module_version": "1.2.0",
      "model_name": "LayoutModel",
      "state": {}
     },
     "5767326e24234b009c6d7f93e833be71": {
      "model_module": "@jupyter-widgets/controls",
      "model_module_version": "1.5.0",
      "model_name": "DescriptionStyleModel",
      "state": {
       "description_width": ""
      }
     },
     "583969a4f1344df391aeb9905c44f571": {
      "model_module": "@jupyter-widgets/controls",
      "model_module_version": "1.5.0",
      "model_name": "HBoxModel",
      "state": {
       "children": [
        "IPY_MODEL_9bd60615b84440f590e08eecc5e70adc",
        "IPY_MODEL_770d40b75aad4e76a322290f228ea5f3"
       ],
       "layout": "IPY_MODEL_a75d858e94d34ad898b0c493533b1279"
      }
     },
     "5893291b1c114d52afca8982b87318d6": {
      "model_module": "@jupyter-widgets/controls",
      "model_module_version": "1.5.0",
      "model_name": "IntProgressModel",
      "state": {
       "bar_style": "success",
       "layout": "IPY_MODEL_985a25a0cfc84c4ea6185b981988918c",
       "max": 42,
       "style": "IPY_MODEL_b094e7f0af1e4597977c2b3424863a90",
       "value": 42
      }
     },
     "59eb2e3746fc4e7cad8961f4f0b5cb28": {
      "model_module": "@jupyter-widgets/controls",
      "model_module_version": "1.5.0",
      "model_name": "IntProgressModel",
      "state": {
       "bar_style": "success",
       "layout": "IPY_MODEL_c94fe8d38c05489c9774bdb3b902a1e9",
       "max": 26,
       "style": "IPY_MODEL_ba5f899c558543f88cf103ee90214127",
       "value": 26
      }
     },
     "5a9891956d6c4ba6b5d537038ec6fd84": {
      "model_module": "@jupyter-widgets/base",
      "model_module_version": "1.2.0",
      "model_name": "LayoutModel",
      "state": {}
     },
     "5c06b95b428a413c9bdd006aa282adb0": {
      "model_module": "@jupyter-widgets/controls",
      "model_module_version": "1.5.0",
      "model_name": "ProgressStyleModel",
      "state": {
       "description_width": ""
      }
     },
     "5d5930e6e74948f4be9cb8cf7b889f82": {
      "model_module": "@jupyter-widgets/controls",
      "model_module_version": "1.5.0",
      "model_name": "HBoxModel",
      "state": {
       "children": [
        "IPY_MODEL_611a797a0e214ae0b7b18940f361d22f",
        "IPY_MODEL_701d3707a5c944d9b1e5f4a30969c4c9"
       ],
       "layout": "IPY_MODEL_fefee66cf4af46948f1d4c3bf03f621f"
      }
     },
     "5e4b45c14801445c838532b45980ba61": {
      "model_module": "@jupyter-widgets/controls",
      "model_module_version": "1.5.0",
      "model_name": "HBoxModel",
      "state": {
       "children": [
        "IPY_MODEL_0ddf536f057043038464525bc17edeec",
        "IPY_MODEL_5050049bbd824725a3f9e08c7ebb6adf"
       ],
       "layout": "IPY_MODEL_6796f27932af4c55b31af174c8580714"
      }
     },
     "5f6965ab26834d439821a3fd37d035a0": {
      "model_module": "@jupyter-widgets/controls",
      "model_module_version": "1.5.0",
      "model_name": "IntProgressModel",
      "state": {
       "bar_style": "success",
       "layout": "IPY_MODEL_690a73a166ed4956af4459a367475256",
       "max": 26,
       "style": "IPY_MODEL_31dac28180ec437a82c5cf0441c888e8",
       "value": 26
      }
     },
     "611a797a0e214ae0b7b18940f361d22f": {
      "model_module": "@jupyter-widgets/controls",
      "model_module_version": "1.5.0",
      "model_name": "IntProgressModel",
      "state": {
       "bar_style": "success",
       "layout": "IPY_MODEL_49c20a0f2c814a5eb19b5ccc3ce9e40a",
       "max": 42,
       "style": "IPY_MODEL_6dcd0f8d1780440e9900d09a9635b94b",
       "value": 42
      }
     },
     "61abc72bbdb24aa5ac4df16d87f8272f": {
      "model_module": "@jupyter-widgets/controls",
      "model_module_version": "1.5.0",
      "model_name": "IntProgressModel",
      "state": {
       "bar_style": "success",
       "layout": "IPY_MODEL_88540a0b35c34d949596d02befafc2b1",
       "max": 11,
       "style": "IPY_MODEL_0ba2b493d5bc46ea8d53dfdd8a8e94e6",
       "value": 11
      }
     },
     "64b05f19003d458c945894f95bd84e2d": {
      "model_module": "@jupyter-widgets/base",
      "model_module_version": "1.2.0",
      "model_name": "LayoutModel",
      "state": {}
     },
     "65a5f4199adc454d9995950913dacdb0": {
      "model_module": "@jupyter-widgets/base",
      "model_module_version": "1.2.0",
      "model_name": "LayoutModel",
      "state": {}
     },
     "65d3a35886c6422c8a292b0626eb60c3": {
      "model_module": "@jupyter-widgets/base",
      "model_module_version": "1.2.0",
      "model_name": "LayoutModel",
      "state": {}
     },
     "6796f27932af4c55b31af174c8580714": {
      "model_module": "@jupyter-widgets/base",
      "model_module_version": "1.2.0",
      "model_name": "LayoutModel",
      "state": {}
     },
     "68d06522e8824934993528efe104d84c": {
      "model_module": "@jupyter-widgets/controls",
      "model_module_version": "1.5.0",
      "model_name": "HTMLModel",
      "state": {
       "layout": "IPY_MODEL_071e9995ace7442aa6ceeb3de6419954",
       "style": "IPY_MODEL_47fd726a93774e6d81cb542ddb9e4883",
       "value": "100% 42/42 [00:51&lt;00:00,  1.28s/it]"
      }
     },
     "690a73a166ed4956af4459a367475256": {
      "model_module": "@jupyter-widgets/base",
      "model_module_version": "1.2.0",
      "model_name": "LayoutModel",
      "state": {}
     },
     "6ada2613746c4351bb3297590ad3e368": {
      "model_module": "@jupyter-widgets/controls",
      "model_module_version": "1.5.0",
      "model_name": "IntProgressModel",
      "state": {
       "bar_style": "success",
       "layout": "IPY_MODEL_e1cf119a30b142899e8405158356439e",
       "max": 26,
       "style": "IPY_MODEL_ba6ad034e3f84e929e2a7298cba0a1aa",
       "value": 26
      }
     },
     "6c3418a7e83341768e3697026ab54b43": {
      "model_module": "@jupyter-widgets/base",
      "model_module_version": "1.2.0",
      "model_name": "LayoutModel",
      "state": {}
     },
     "6dcd0f8d1780440e9900d09a9635b94b": {
      "model_module": "@jupyter-widgets/controls",
      "model_module_version": "1.5.0",
      "model_name": "ProgressStyleModel",
      "state": {
       "description_width": ""
      }
     },
     "6fa47d8805204ab0afcec2bb9f044a95": {
      "model_module": "@jupyter-widgets/base",
      "model_module_version": "1.2.0",
      "model_name": "LayoutModel",
      "state": {}
     },
     "701d3707a5c944d9b1e5f4a30969c4c9": {
      "model_module": "@jupyter-widgets/controls",
      "model_module_version": "1.5.0",
      "model_name": "HTMLModel",
      "state": {
       "layout": "IPY_MODEL_f4d875bbf8064f239e3a5449ad00c213",
       "style": "IPY_MODEL_4f0a2a9a8b78430ca5ab5e7eb3da68cf",
       "value": "100% 42/42 [01:13&lt;00:00,  1.73s/it]"
      }
     },
     "70c70a2252ca41aea06175522505f1c6": {
      "model_module": "@jupyter-widgets/base",
      "model_module_version": "1.2.0",
      "model_name": "LayoutModel",
      "state": {}
     },
     "70f525ecde5a4fb993f28f6bca245b99": {
      "model_module": "@jupyter-widgets/base",
      "model_module_version": "1.2.0",
      "model_name": "LayoutModel",
      "state": {}
     },
     "7182f14f230d46a785cb5bba4b209182": {
      "model_module": "@jupyter-widgets/controls",
      "model_module_version": "1.5.0",
      "model_name": "ProgressStyleModel",
      "state": {
       "description_width": ""
      }
     },
     "72cca96cc2fb40a29e816108679a5953": {
      "model_module": "@jupyter-widgets/base",
      "model_module_version": "1.2.0",
      "model_name": "LayoutModel",
      "state": {}
     },
     "74ffef7a635446049b224973467519a2": {
      "model_module": "@jupyter-widgets/controls",
      "model_module_version": "1.5.0",
      "model_name": "HBoxModel",
      "state": {
       "children": [
        "IPY_MODEL_99ac98edac274988b4a6923a7f8ef0be",
        "IPY_MODEL_e7d7742a5b324587924c4771ad87f3da"
       ],
       "layout": "IPY_MODEL_fafb75ed4bf442dba33ec2566e619ec4"
      }
     },
     "750fd489fdfa4794be4ba1448dfccc10": {
      "model_module": "@jupyter-widgets/controls",
      "model_module_version": "1.5.0",
      "model_name": "DescriptionStyleModel",
      "state": {
       "description_width": ""
      }
     },
     "755aa0ae01144ca8bf626b745fd34620": {
      "model_module": "@jupyter-widgets/controls",
      "model_module_version": "1.5.0",
      "model_name": "DescriptionStyleModel",
      "state": {
       "description_width": ""
      }
     },
     "762c028d133f4197821d19ea96878f50": {
      "model_module": "@jupyter-widgets/controls",
      "model_module_version": "1.5.0",
      "model_name": "ProgressStyleModel",
      "state": {
       "description_width": ""
      }
     },
     "764690de2e8d471aa1455adb81f8c6a0": {
      "model_module": "@jupyter-widgets/base",
      "model_module_version": "1.2.0",
      "model_name": "LayoutModel",
      "state": {}
     },
     "770d40b75aad4e76a322290f228ea5f3": {
      "model_module": "@jupyter-widgets/controls",
      "model_module_version": "1.5.0",
      "model_name": "HTMLModel",
      "state": {
       "layout": "IPY_MODEL_46134ac4f7904e8d8383515ffd362067",
       "style": "IPY_MODEL_3ac275b6ad174fef9f966491a055cd28",
       "value": "100% 26/26 [00:15&lt;00:00,  4.08it/s]"
      }
     },
     "781137582d9c4502adaa97cec42e1f72": {
      "model_module": "@jupyter-widgets/controls",
      "model_module_version": "1.5.0",
      "model_name": "HTMLModel",
      "state": {
       "layout": "IPY_MODEL_d9cff50a7471464f8d2baa82a0be8a4b",
       "style": "IPY_MODEL_f0becde862304cafb28c064525baa191",
       "value": "100% 42/42 [00:52&lt;00:00,  1.74s/it]"
      }
     },
     "7a11b4052bbc4eac822664b6750136d2": {
      "model_module": "@jupyter-widgets/controls",
      "model_module_version": "1.5.0",
      "model_name": "ProgressStyleModel",
      "state": {
       "description_width": ""
      }
     },
     "7a9da5b81fec48aaacc4aa300a5d6142": {
      "model_module": "@jupyter-widgets/controls",
      "model_module_version": "1.5.0",
      "model_name": "ProgressStyleModel",
      "state": {
       "description_width": ""
      }
     },
     "7bcf4a7b51f941a48c48ff1fdcb7ebe2": {
      "model_module": "@jupyter-widgets/controls",
      "model_module_version": "1.5.0",
      "model_name": "ProgressStyleModel",
      "state": {
       "description_width": ""
      }
     },
     "7ccd9b821f35402aa5ec5f3947378828": {
      "model_module": "@jupyter-widgets/controls",
      "model_module_version": "1.5.0",
      "model_name": "HTMLModel",
      "state": {
       "layout": "IPY_MODEL_bde36773bc0449e3a3992a9842449285",
       "style": "IPY_MODEL_9b94db3f9aec42118ae6a5f4b47881ca",
       "value": "100% 26/26 [00:15&lt;00:00,  3.18it/s]"
      }
     },
     "7d45575583424e73a0f5d7c0d67ab0ec": {
      "model_module": "@jupyter-widgets/controls",
      "model_module_version": "1.5.0",
      "model_name": "IntProgressModel",
      "state": {
       "bar_style": "success",
       "layout": "IPY_MODEL_ead962f06b8b439aabd143d4de08c3b8",
       "max": 26,
       "style": "IPY_MODEL_3c891c1c1dc1427bbdfb82e5f2e5f1b5",
       "value": 26
      }
     },
     "83555a12bc114d048755f28c7f4f9533": {
      "model_module": "@jupyter-widgets/controls",
      "model_module_version": "1.5.0",
      "model_name": "IntProgressModel",
      "state": {
       "bar_style": "success",
       "layout": "IPY_MODEL_21244fa7bd8f4683808b97cea0b6023d",
       "max": 26,
       "style": "IPY_MODEL_f8b26611289c48eea6a305b2ae144861",
       "value": 26
      }
     },
     "8399a5efd09e401a88abcdc1fdf712ec": {
      "model_module": "@jupyter-widgets/controls",
      "model_module_version": "1.5.0",
      "model_name": "ProgressStyleModel",
      "state": {
       "description_width": ""
      }
     },
     "841398c55c49424ab41ab2bbc45e6585": {
      "model_module": "@jupyter-widgets/controls",
      "model_module_version": "1.5.0",
      "model_name": "HTMLModel",
      "state": {
       "layout": "IPY_MODEL_23622d0c3754464ba3e9bf0e444a316d",
       "style": "IPY_MODEL_750fd489fdfa4794be4ba1448dfccc10",
       "value": "100% 42/42 [00:46&lt;00:00,  1.07s/it]"
      }
     },
     "84d6e5aa95ed47c9a699217ef56451af": {
      "model_module": "@jupyter-widgets/controls",
      "model_module_version": "1.5.0",
      "model_name": "HBoxModel",
      "state": {
       "children": [
        "IPY_MODEL_fa2f87faf38a4c1f89452342b9109a7f",
        "IPY_MODEL_ef1dbfa1128e478a8ac030c689da78df"
       ],
       "layout": "IPY_MODEL_c660563096e34e4e8b8f0fec0507a058"
      }
     },
     "8665742f960a4fdf8a5cac75fecbaf30": {
      "model_module": "@jupyter-widgets/controls",
      "model_module_version": "1.5.0",
      "model_name": "IntProgressModel",
      "state": {
       "bar_style": "success",
       "layout": "IPY_MODEL_3496f50112a140c88b8e23eb3eac73bb",
       "max": 26,
       "style": "IPY_MODEL_4dbe294098264827919c798bd6415ace",
       "value": 26
      }
     },
     "86e2da59756a41cca4476ddcc3b33b48": {
      "model_module": "@jupyter-widgets/controls",
      "model_module_version": "1.5.0",
      "model_name": "ProgressStyleModel",
      "state": {
       "description_width": ""
      }
     },
     "879ccb29d53f4996b2ad7238351ca805": {
      "model_module": "@jupyter-widgets/controls",
      "model_module_version": "1.5.0",
      "model_name": "DescriptionStyleModel",
      "state": {
       "description_width": ""
      }
     },
     "88540a0b35c34d949596d02befafc2b1": {
      "model_module": "@jupyter-widgets/base",
      "model_module_version": "1.2.0",
      "model_name": "LayoutModel",
      "state": {}
     },
     "8abb9d1dff134da2a95f9c39056f456f": {
      "model_module": "@jupyter-widgets/controls",
      "model_module_version": "1.5.0",
      "model_name": "IntProgressModel",
      "state": {
       "bar_style": "success",
       "layout": "IPY_MODEL_d5334025384e407baebdffa02cfc89e4",
       "max": 42,
       "style": "IPY_MODEL_7a11b4052bbc4eac822664b6750136d2",
       "value": 42
      }
     },
     "8bc2f1569ceb4729b3f811aceeca2c4f": {
      "model_module": "@jupyter-widgets/controls",
      "model_module_version": "1.5.0",
      "model_name": "HBoxModel",
      "state": {
       "children": [
        "IPY_MODEL_f1ec9edee6334776b73100a059230824",
        "IPY_MODEL_e2d7377ff3794726afdd60cfd9113e7a"
       ],
       "layout": "IPY_MODEL_f9f0948025624fdc8b0f8ac6df3c8b4c"
      }
     },
     "8dda62a4109b45e9b2ee465bf642fe3f": {
      "model_module": "@jupyter-widgets/controls",
      "model_module_version": "1.5.0",
      "model_name": "DescriptionStyleModel",
      "state": {
       "description_width": ""
      }
     },
     "8ec49c6c59fe4626b5445862d5238112": {
      "model_module": "@jupyter-widgets/base",
      "model_module_version": "1.2.0",
      "model_name": "LayoutModel",
      "state": {}
     },
     "902cf5ae972e41f3a6590aac3a7130a9": {
      "model_module": "@jupyter-widgets/controls",
      "model_module_version": "1.5.0",
      "model_name": "HBoxModel",
      "state": {
       "children": [
        "IPY_MODEL_0fba06e618274ecaa80f6744382cab8e",
        "IPY_MODEL_e596fd5b40b142d9967dbd1c2cfaef5f"
       ],
       "layout": "IPY_MODEL_65a5f4199adc454d9995950913dacdb0"
      }
     },
     "90c9b9bbfa7d4c9eb4503260f2bad3b9": {
      "model_module": "@jupyter-widgets/base",
      "model_module_version": "1.2.0",
      "model_name": "LayoutModel",
      "state": {}
     },
     "929fc0cff0924d2b967aa5cdb271029e": {
      "model_module": "@jupyter-widgets/base",
      "model_module_version": "1.2.0",
      "model_name": "LayoutModel",
      "state": {}
     },
     "943337a70d1a4dbfb4c5d0dad4a2f2c3": {
      "model_module": "@jupyter-widgets/controls",
      "model_module_version": "1.5.0",
      "model_name": "IntProgressModel",
      "state": {
       "bar_style": "success",
       "layout": "IPY_MODEL_c58b037d3e794c45b52b6854cedd30ee",
       "max": 42,
       "style": "IPY_MODEL_8399a5efd09e401a88abcdc1fdf712ec",
       "value": 42
      }
     },
     "96313098dc9f4b1da91206a3c8159810": {
      "model_module": "@jupyter-widgets/controls",
      "model_module_version": "1.5.0",
      "model_name": "HTMLModel",
      "state": {
       "layout": "IPY_MODEL_a6a2ec8a245b480992fbd180c373b41d",
       "style": "IPY_MODEL_bdcf78099e6a4ec0b280d3d3ce40835d",
       "value": "100% 26/26 [00:13&lt;00:00,  3.64it/s]"
      }
     },
     "96bce573607c482fb54a2876d2caadef": {
      "model_module": "@jupyter-widgets/base",
      "model_module_version": "1.2.0",
      "model_name": "LayoutModel",
      "state": {}
     },
     "977364888cde4df1b9646ad919cee892": {
      "model_module": "@jupyter-widgets/base",
      "model_module_version": "1.2.0",
      "model_name": "LayoutModel",
      "state": {}
     },
     "9823d1ad5cc440178b6d88f85238d47a": {
      "model_module": "@jupyter-widgets/controls",
      "model_module_version": "1.5.0",
      "model_name": "HBoxModel",
      "state": {
       "children": [
        "IPY_MODEL_9b1ac5c98b49439aab2cefbc3c9d9d1e",
        "IPY_MODEL_96313098dc9f4b1da91206a3c8159810"
       ],
       "layout": "IPY_MODEL_70c70a2252ca41aea06175522505f1c6"
      }
     },
     "985a25a0cfc84c4ea6185b981988918c": {
      "model_module": "@jupyter-widgets/base",
      "model_module_version": "1.2.0",
      "model_name": "LayoutModel",
      "state": {}
     },
     "99ac98edac274988b4a6923a7f8ef0be": {
      "model_module": "@jupyter-widgets/controls",
      "model_module_version": "1.5.0",
      "model_name": "IntProgressModel",
      "state": {
       "bar_style": "success",
       "layout": "IPY_MODEL_1a9ad049c89d4f28a5c6e83277f9c802",
       "max": 42,
       "style": "IPY_MODEL_458460eaa4694fb09eaf198d41859eee",
       "value": 42
      }
     },
     "9a777e3c537249a9b1ff626ee8cbfa22": {
      "model_module": "@jupyter-widgets/base",
      "model_module_version": "1.2.0",
      "model_name": "LayoutModel",
      "state": {}
     },
     "9ac5975db46d4e4f9a91f4fb157e2ab2": {
      "model_module": "@jupyter-widgets/controls",
      "model_module_version": "1.5.0",
      "model_name": "IntProgressModel",
      "state": {
       "bar_style": "success",
       "layout": "IPY_MODEL_567862079a344b73830994f04f8d28af",
       "max": 42,
       "style": "IPY_MODEL_43c6e6555c1b4c9c8b1c5c0cd05312dc",
       "value": 42
      }
     },
     "9b1ac5c98b49439aab2cefbc3c9d9d1e": {
      "model_module": "@jupyter-widgets/controls",
      "model_module_version": "1.5.0",
      "model_name": "IntProgressModel",
      "state": {
       "bar_style": "success",
       "layout": "IPY_MODEL_4ea11a2c35ac43eda1e7b92cae79e363",
       "max": 26,
       "style": "IPY_MODEL_7a9da5b81fec48aaacc4aa300a5d6142",
       "value": 26
      }
     },
     "9b94db3f9aec42118ae6a5f4b47881ca": {
      "model_module": "@jupyter-widgets/controls",
      "model_module_version": "1.5.0",
      "model_name": "DescriptionStyleModel",
      "state": {
       "description_width": ""
      }
     },
     "9bd60615b84440f590e08eecc5e70adc": {
      "model_module": "@jupyter-widgets/controls",
      "model_module_version": "1.5.0",
      "model_name": "IntProgressModel",
      "state": {
       "bar_style": "success",
       "layout": "IPY_MODEL_d742df48675c45a29d289df15bfffffa",
       "max": 26,
       "style": "IPY_MODEL_86e2da59756a41cca4476ddcc3b33b48",
       "value": 26
      }
     },
     "9ddb649b490049b393c018670bd6e1c6": {
      "model_module": "@jupyter-widgets/base",
      "model_module_version": "1.2.0",
      "model_name": "LayoutModel",
      "state": {}
     },
     "9e09e95b3eba4232ac8f79fdb64de050": {
      "model_module": "@jupyter-widgets/controls",
      "model_module_version": "1.5.0",
      "model_name": "HBoxModel",
      "state": {
       "children": [
        "IPY_MODEL_0ecdf0d3105d47a4b2f3b9f0edf61416",
        "IPY_MODEL_e3003af002fa4d6ba56c16394149fc4f"
       ],
       "layout": "IPY_MODEL_cb790de343b64ad58de0a3840eb535dd"
      }
     },
     "a0219196e36146098e74bd1530d5618d": {
      "model_module": "@jupyter-widgets/controls",
      "model_module_version": "1.5.0",
      "model_name": "ProgressStyleModel",
      "state": {
       "description_width": ""
      }
     },
     "a0b662eef7ce4f8fbae3485da79e7428": {
      "model_module": "@jupyter-widgets/controls",
      "model_module_version": "1.5.0",
      "model_name": "HTMLModel",
      "state": {
       "layout": "IPY_MODEL_a92af8b0a2534ddf9c3b8846d484d327",
       "style": "IPY_MODEL_394050d9202540a787df14448c1d9461",
       "value": "100% 42/42 [00:14&lt;00:00,  2.51it/s]"
      }
     },
     "a4de6ff713374197b8635ae31aa904cd": {
      "model_module": "@jupyter-widgets/controls",
      "model_module_version": "1.5.0",
      "model_name": "HBoxModel",
      "state": {
       "children": [
        "IPY_MODEL_61abc72bbdb24aa5ac4df16d87f8272f",
        "IPY_MODEL_302bec9fd9b84952abfc9333bb33a946"
       ],
       "layout": "IPY_MODEL_90c9b9bbfa7d4c9eb4503260f2bad3b9"
      }
     },
     "a646dd6ac5b04f02a4e03c5e3b26a524": {
      "model_module": "@jupyter-widgets/controls",
      "model_module_version": "1.5.0",
      "model_name": "HBoxModel",
      "state": {
       "children": [
        "IPY_MODEL_5f6965ab26834d439821a3fd37d035a0",
        "IPY_MODEL_adc71b69d3784e89a6db42d9c8189640"
       ],
       "layout": "IPY_MODEL_47de29d45aa04f97ab0e9248790c953d"
      }
     },
     "a6a2ec8a245b480992fbd180c373b41d": {
      "model_module": "@jupyter-widgets/base",
      "model_module_version": "1.2.0",
      "model_name": "LayoutModel",
      "state": {}
     },
     "a6e8a912b115495d8f1a6adcdafbd52e": {
      "model_module": "@jupyter-widgets/controls",
      "model_module_version": "1.5.0",
      "model_name": "ProgressStyleModel",
      "state": {
       "description_width": ""
      }
     },
     "a75d858e94d34ad898b0c493533b1279": {
      "model_module": "@jupyter-widgets/base",
      "model_module_version": "1.2.0",
      "model_name": "LayoutModel",
      "state": {}
     },
     "a80043643023483cab89417b6f74852f": {
      "model_module": "@jupyter-widgets/controls",
      "model_module_version": "1.5.0",
      "model_name": "DescriptionStyleModel",
      "state": {
       "description_width": ""
      }
     },
     "a92af8b0a2534ddf9c3b8846d484d327": {
      "model_module": "@jupyter-widgets/base",
      "model_module_version": "1.2.0",
      "model_name": "LayoutModel",
      "state": {}
     },
     "ab22193631dd4f8387566c304026870d": {
      "model_module": "@jupyter-widgets/base",
      "model_module_version": "1.2.0",
      "model_name": "LayoutModel",
      "state": {}
     },
     "adc71b69d3784e89a6db42d9c8189640": {
      "model_module": "@jupyter-widgets/controls",
      "model_module_version": "1.5.0",
      "model_name": "HTMLModel",
      "state": {
       "layout": "IPY_MODEL_366cffc82ef34e738cdc50c10408f1fa",
       "style": "IPY_MODEL_ec4a6a1e8df04508a07588d90e25efe0",
       "value": "100% 26/26 [00:19&lt;00:00,  3.66it/s]"
      }
     },
     "af460ed996964b53ac2266cc59b8a62c": {
      "model_module": "@jupyter-widgets/controls",
      "model_module_version": "1.5.0",
      "model_name": "IntProgressModel",
      "state": {
       "bar_style": "success",
       "layout": "IPY_MODEL_ceaa2944075b4745868cb7c9bc27bae7",
       "max": 24,
       "style": "IPY_MODEL_12a8fdab0bbb4043b48c3d6eee910781",
       "value": 24
      }
     },
     "af518c0a3e7f4fe783c55bf839c8a0cb": {
      "model_module": "@jupyter-widgets/controls",
      "model_module_version": "1.5.0",
      "model_name": "HTMLModel",
      "state": {
       "layout": "IPY_MODEL_bacbaa7bcb244c6bbdd7a26fb9e2ea40",
       "style": "IPY_MODEL_dc1fa60874ce49b6a2012199b8cd1559",
       "value": "100% 42/42 [00:42&lt;00:00,  1.08s/it]"
      }
     },
     "b094e7f0af1e4597977c2b3424863a90": {
      "model_module": "@jupyter-widgets/controls",
      "model_module_version": "1.5.0",
      "model_name": "ProgressStyleModel",
      "state": {
       "description_width": ""
      }
     },
     "b1dcc04036d745f3b0cff3a3e1e92041": {
      "model_module": "@jupyter-widgets/base",
      "model_module_version": "1.2.0",
      "model_name": "LayoutModel",
      "state": {}
     },
     "b2743d3992b8485e965d0ccb27def1c1": {
      "model_module": "@jupyter-widgets/controls",
      "model_module_version": "1.5.0",
      "model_name": "ProgressStyleModel",
      "state": {
       "description_width": ""
      }
     },
     "b39e6bff1b764ffb8f6ed2d79c07c05a": {
      "model_module": "@jupyter-widgets/controls",
      "model_module_version": "1.5.0",
      "model_name": "HTMLModel",
      "state": {
       "layout": "IPY_MODEL_bc49ca81a934426d9d0676fc0a9bacc8",
       "style": "IPY_MODEL_f2f80dd41ec542c9a3afa77c95bf8330",
       "value": "100% 42/42 [00:44&lt;00:00,  1.17s/it]"
      }
     },
     "ba5f899c558543f88cf103ee90214127": {
      "model_module": "@jupyter-widgets/controls",
      "model_module_version": "1.5.0",
      "model_name": "ProgressStyleModel",
      "state": {
       "description_width": ""
      }
     },
     "ba6ad034e3f84e929e2a7298cba0a1aa": {
      "model_module": "@jupyter-widgets/controls",
      "model_module_version": "1.5.0",
      "model_name": "ProgressStyleModel",
      "state": {
       "description_width": ""
      }
     },
     "bacbaa7bcb244c6bbdd7a26fb9e2ea40": {
      "model_module": "@jupyter-widgets/base",
      "model_module_version": "1.2.0",
      "model_name": "LayoutModel",
      "state": {}
     },
     "bc49ca81a934426d9d0676fc0a9bacc8": {
      "model_module": "@jupyter-widgets/base",
      "model_module_version": "1.2.0",
      "model_name": "LayoutModel",
      "state": {}
     },
     "bdcf78099e6a4ec0b280d3d3ce40835d": {
      "model_module": "@jupyter-widgets/controls",
      "model_module_version": "1.5.0",
      "model_name": "DescriptionStyleModel",
      "state": {
       "description_width": ""
      }
     },
     "bde36773bc0449e3a3992a9842449285": {
      "model_module": "@jupyter-widgets/base",
      "model_module_version": "1.2.0",
      "model_name": "LayoutModel",
      "state": {}
     },
     "c4f6eadada3a4e539598ff4cd8882c4d": {
      "model_module": "@jupyter-widgets/controls",
      "model_module_version": "1.5.0",
      "model_name": "ProgressStyleModel",
      "state": {
       "description_width": ""
      }
     },
     "c518fcdc475546b084bfaaeff74234d4": {
      "model_module": "@jupyter-widgets/controls",
      "model_module_version": "1.5.0",
      "model_name": "HBoxModel",
      "state": {
       "children": [
        "IPY_MODEL_8abb9d1dff134da2a95f9c39056f456f",
        "IPY_MODEL_af518c0a3e7f4fe783c55bf839c8a0cb"
       ],
       "layout": "IPY_MODEL_72cca96cc2fb40a29e816108679a5953"
      }
     },
     "c58723c07c8747958d268b0b79d807d3": {
      "model_module": "@jupyter-widgets/controls",
      "model_module_version": "1.5.0",
      "model_name": "IntProgressModel",
      "state": {
       "bar_style": "success",
       "layout": "IPY_MODEL_28a46f9a19824a3b87bc504e639fde39",
       "max": 11,
       "style": "IPY_MODEL_42a7538b2e6146988b8fbfe341f5ff28",
       "value": 11
      }
     },
     "c58b037d3e794c45b52b6854cedd30ee": {
      "model_module": "@jupyter-widgets/base",
      "model_module_version": "1.2.0",
      "model_name": "LayoutModel",
      "state": {}
     },
     "c660563096e34e4e8b8f0fec0507a058": {
      "model_module": "@jupyter-widgets/base",
      "model_module_version": "1.2.0",
      "model_name": "LayoutModel",
      "state": {}
     },
     "c6773dce4ae44b18a746151a4b90ea12": {
      "model_module": "@jupyter-widgets/base",
      "model_module_version": "1.2.0",
      "model_name": "LayoutModel",
      "state": {}
     },
     "c78627f511084d9a930f842644c7353c": {
      "model_module": "@jupyter-widgets/controls",
      "model_module_version": "1.5.0",
      "model_name": "DescriptionStyleModel",
      "state": {
       "description_width": ""
      }
     },
     "c85584c366524266b01688f824965ea5": {
      "model_module": "@jupyter-widgets/controls",
      "model_module_version": "1.5.0",
      "model_name": "DescriptionStyleModel",
      "state": {
       "description_width": ""
      }
     },
     "c94fe8d38c05489c9774bdb3b902a1e9": {
      "model_module": "@jupyter-widgets/base",
      "model_module_version": "1.2.0",
      "model_name": "LayoutModel",
      "state": {}
     },
     "cb790de343b64ad58de0a3840eb535dd": {
      "model_module": "@jupyter-widgets/base",
      "model_module_version": "1.2.0",
      "model_name": "LayoutModel",
      "state": {}
     },
     "ce8bb8de82934ccd933e5de9a09a7ba7": {
      "model_module": "@jupyter-widgets/base",
      "model_module_version": "1.2.0",
      "model_name": "LayoutModel",
      "state": {}
     },
     "ceaa2944075b4745868cb7c9bc27bae7": {
      "model_module": "@jupyter-widgets/base",
      "model_module_version": "1.2.0",
      "model_name": "LayoutModel",
      "state": {}
     },
     "d1d0534b2f84429aa3b97a092ac7d93a": {
      "model_module": "@jupyter-widgets/base",
      "model_module_version": "1.2.0",
      "model_name": "LayoutModel",
      "state": {}
     },
     "d27fb8565daa44158a61b70aafa0f320": {
      "model_module": "@jupyter-widgets/controls",
      "model_module_version": "1.5.0",
      "model_name": "HBoxModel",
      "state": {
       "children": [
        "IPY_MODEL_1227da9d8cee4f20b4781a598e21fb52",
        "IPY_MODEL_68d06522e8824934993528efe104d84c"
       ],
       "layout": "IPY_MODEL_f6ff1085828f4b02a3a832931cee5d3a"
      }
     },
     "d5334025384e407baebdffa02cfc89e4": {
      "model_module": "@jupyter-widgets/base",
      "model_module_version": "1.2.0",
      "model_name": "LayoutModel",
      "state": {}
     },
     "d62ab7df989047b09f8df5c3999ebf8d": {
      "model_module": "@jupyter-widgets/base",
      "model_module_version": "1.2.0",
      "model_name": "LayoutModel",
      "state": {}
     },
     "d742df48675c45a29d289df15bfffffa": {
      "model_module": "@jupyter-widgets/base",
      "model_module_version": "1.2.0",
      "model_name": "LayoutModel",
      "state": {}
     },
     "d826278561a443919a3ec1dc30763cbe": {
      "model_module": "@jupyter-widgets/controls",
      "model_module_version": "1.5.0",
      "model_name": "IntProgressModel",
      "state": {
       "bar_style": "success",
       "layout": "IPY_MODEL_6fa47d8805204ab0afcec2bb9f044a95",
       "max": 42,
       "style": "IPY_MODEL_1d408e203cd5478fbfd105df1b6ae3dc",
       "value": 42
      }
     },
     "d9cff50a7471464f8d2baa82a0be8a4b": {
      "model_module": "@jupyter-widgets/base",
      "model_module_version": "1.2.0",
      "model_name": "LayoutModel",
      "state": {}
     },
     "da00d1c4cb1b4fbf99d9aea1213396ff": {
      "model_module": "@jupyter-widgets/controls",
      "model_module_version": "1.5.0",
      "model_name": "DescriptionStyleModel",
      "state": {
       "description_width": ""
      }
     },
     "da8b10f9f482413d95b049e0b874d006": {
      "model_module": "@jupyter-widgets/base",
      "model_module_version": "1.2.0",
      "model_name": "LayoutModel",
      "state": {}
     },
     "dae121caa9c64352b55e6f73c1af81cb": {
      "model_module": "@jupyter-widgets/base",
      "model_module_version": "1.2.0",
      "model_name": "LayoutModel",
      "state": {}
     },
     "dbe985f8b08346798edd6c1cedbe7420": {
      "model_module": "@jupyter-widgets/base",
      "model_module_version": "1.2.0",
      "model_name": "LayoutModel",
      "state": {}
     },
     "dc1fa60874ce49b6a2012199b8cd1559": {
      "model_module": "@jupyter-widgets/controls",
      "model_module_version": "1.5.0",
      "model_name": "DescriptionStyleModel",
      "state": {
       "description_width": ""
      }
     },
     "dc66703f84594208ab732ef564667b66": {
      "model_module": "@jupyter-widgets/controls",
      "model_module_version": "1.5.0",
      "model_name": "HTMLModel",
      "state": {
       "layout": "IPY_MODEL_977364888cde4df1b9646ad919cee892",
       "style": "IPY_MODEL_f39d40fd7bd746149b7358bd1a3c9512",
       "value": "100% 26/26 [00:04&lt;00:00,  5.28it/s]"
      }
     },
     "dc9df43a8d154561aa86947aa2baa1f4": {
      "model_module": "@jupyter-widgets/controls",
      "model_module_version": "1.5.0",
      "model_name": "DescriptionStyleModel",
      "state": {
       "description_width": ""
      }
     },
     "de801f1affa84759afc1076c0195ae73": {
      "model_module": "@jupyter-widgets/controls",
      "model_module_version": "1.5.0",
      "model_name": "HTMLModel",
      "state": {
       "layout": "IPY_MODEL_9a777e3c537249a9b1ff626ee8cbfa22",
       "style": "IPY_MODEL_fd9bb1f7f43a4954a92b348891ba6286",
       "value": "100% 11/11 [01:05&lt;00:00, 12.19s/it]"
      }
     },
     "df9237963889445aa17d0f0cc3c1348b": {
      "model_module": "@jupyter-widgets/base",
      "model_module_version": "1.2.0",
      "model_name": "LayoutModel",
      "state": {}
     },
     "e050769cdd3c46d888c179e02bbc0d50": {
      "model_module": "@jupyter-widgets/controls",
      "model_module_version": "1.5.0",
      "model_name": "HBoxModel",
      "state": {
       "children": [
        "IPY_MODEL_83555a12bc114d048755f28c7f4f9533",
        "IPY_MODEL_49ec07c78066463eb8fa8f5551881a2e"
       ],
       "layout": "IPY_MODEL_4ac042abc0034e54a9108da13298749a"
      }
     },
     "e1cf119a30b142899e8405158356439e": {
      "model_module": "@jupyter-widgets/base",
      "model_module_version": "1.2.0",
      "model_name": "LayoutModel",
      "state": {}
     },
     "e2d7377ff3794726afdd60cfd9113e7a": {
      "model_module": "@jupyter-widgets/controls",
      "model_module_version": "1.5.0",
      "model_name": "HTMLModel",
      "state": {
       "layout": "IPY_MODEL_b1dcc04036d745f3b0cff3a3e1e92041",
       "style": "IPY_MODEL_23dc9ac866604781a38a45da1cec1b3e",
       "value": "100% 26/26 [00:14&lt;00:00,  1.82it/s]"
      }
     },
     "e3003af002fa4d6ba56c16394149fc4f": {
      "model_module": "@jupyter-widgets/controls",
      "model_module_version": "1.5.0",
      "model_name": "HTMLModel",
      "state": {
       "layout": "IPY_MODEL_e52a3e5eb1c64295a70e9d63075f38ba",
       "style": "IPY_MODEL_ffe76316154749299d6c1b6cd2ebeaf5",
       "value": "100% 42/42 [00:43&lt;00:00,  1.16it/s]"
      }
     },
     "e52467f45de747f29a2ff912f81be1a9": {
      "model_module": "@jupyter-widgets/base",
      "model_module_version": "1.2.0",
      "model_name": "LayoutModel",
      "state": {}
     },
     "e52a3e5eb1c64295a70e9d63075f38ba": {
      "model_module": "@jupyter-widgets/base",
      "model_module_version": "1.2.0",
      "model_name": "LayoutModel",
      "state": {}
     },
     "e596fd5b40b142d9967dbd1c2cfaef5f": {
      "model_module": "@jupyter-widgets/controls",
      "model_module_version": "1.5.0",
      "model_name": "HTMLModel",
      "state": {
       "layout": "IPY_MODEL_764690de2e8d471aa1455adb81f8c6a0",
       "style": "IPY_MODEL_755aa0ae01144ca8bf626b745fd34620",
       "value": "100% 26/26 [00:21&lt;00:00,  2.77it/s]"
      }
     },
     "e7d7742a5b324587924c4771ad87f3da": {
      "model_module": "@jupyter-widgets/controls",
      "model_module_version": "1.5.0",
      "model_name": "HTMLModel",
      "state": {
       "layout": "IPY_MODEL_184b7ade3e524f5b835cfc0b0178c3bb",
       "style": "IPY_MODEL_c85584c366524266b01688f824965ea5",
       "value": "100% 42/42 [00:14&lt;00:00,  2.97it/s]"
      }
     },
     "ea588dd5dcd44e639870b9a0dfdd3fec": {
      "model_module": "@jupyter-widgets/controls",
      "model_module_version": "1.5.0",
      "model_name": "HTMLModel",
      "state": {
       "layout": "IPY_MODEL_d62ab7df989047b09f8df5c3999ebf8d",
       "style": "IPY_MODEL_5767326e24234b009c6d7f93e833be71",
       "value": "100% 26/26 [00:15&lt;00:00,  4.02it/s]"
      }
     },
     "ead962f06b8b439aabd143d4de08c3b8": {
      "model_module": "@jupyter-widgets/base",
      "model_module_version": "1.2.0",
      "model_name": "LayoutModel",
      "state": {}
     },
     "ebacd87bef874f52ba8bb5ebbd28d0b4": {
      "model_module": "@jupyter-widgets/base",
      "model_module_version": "1.2.0",
      "model_name": "LayoutModel",
      "state": {}
     },
     "ec4a6a1e8df04508a07588d90e25efe0": {
      "model_module": "@jupyter-widgets/controls",
      "model_module_version": "1.5.0",
      "model_name": "DescriptionStyleModel",
      "state": {
       "description_width": ""
      }
     },
     "ef1dbfa1128e478a8ac030c689da78df": {
      "model_module": "@jupyter-widgets/controls",
      "model_module_version": "1.5.0",
      "model_name": "HTMLModel",
      "state": {
       "layout": "IPY_MODEL_d1d0534b2f84429aa3b97a092ac7d93a",
       "style": "IPY_MODEL_da00d1c4cb1b4fbf99d9aea1213396ff",
       "value": "  2% 1/42 [00:02&lt;01:39,  2.43s/it]"
      }
     },
     "f02a68247d944cd2a205dcb22c076355": {
      "model_module": "@jupyter-widgets/base",
      "model_module_version": "1.2.0",
      "model_name": "LayoutModel",
      "state": {}
     },
     "f0becde862304cafb28c064525baa191": {
      "model_module": "@jupyter-widgets/controls",
      "model_module_version": "1.5.0",
      "model_name": "DescriptionStyleModel",
      "state": {
       "description_width": ""
      }
     },
     "f1ec9edee6334776b73100a059230824": {
      "model_module": "@jupyter-widgets/controls",
      "model_module_version": "1.5.0",
      "model_name": "IntProgressModel",
      "state": {
       "bar_style": "success",
       "layout": "IPY_MODEL_019b7e50271148a5aae83c82b468b578",
       "max": 26,
       "style": "IPY_MODEL_5c06b95b428a413c9bdd006aa282adb0",
       "value": 26
      }
     },
     "f2f80dd41ec542c9a3afa77c95bf8330": {
      "model_module": "@jupyter-widgets/controls",
      "model_module_version": "1.5.0",
      "model_name": "DescriptionStyleModel",
      "state": {
       "description_width": ""
      }
     },
     "f39d40fd7bd746149b7358bd1a3c9512": {
      "model_module": "@jupyter-widgets/controls",
      "model_module_version": "1.5.0",
      "model_name": "DescriptionStyleModel",
      "state": {
       "description_width": ""
      }
     },
     "f4d875bbf8064f239e3a5449ad00c213": {
      "model_module": "@jupyter-widgets/base",
      "model_module_version": "1.2.0",
      "model_name": "LayoutModel",
      "state": {}
     },
     "f6d960f19a184cbaac7b166d4c8f5607": {
      "model_module": "@jupyter-widgets/controls",
      "model_module_version": "1.5.0",
      "model_name": "HTMLModel",
      "state": {
       "layout": "IPY_MODEL_ce8bb8de82934ccd933e5de9a09a7ba7",
       "style": "IPY_MODEL_879ccb29d53f4996b2ad7238351ca805",
       "value": "100% 24/24 [00:40&lt;00:00,  3.01s/it]"
      }
     },
     "f6ff1085828f4b02a3a832931cee5d3a": {
      "model_module": "@jupyter-widgets/base",
      "model_module_version": "1.2.0",
      "model_name": "LayoutModel",
      "state": {}
     },
     "f8b26611289c48eea6a305b2ae144861": {
      "model_module": "@jupyter-widgets/controls",
      "model_module_version": "1.5.0",
      "model_name": "ProgressStyleModel",
      "state": {
       "description_width": ""
      }
     },
     "f9b83c527429411f9f7c0fff16a71842": {
      "model_module": "@jupyter-widgets/base",
      "model_module_version": "1.2.0",
      "model_name": "LayoutModel",
      "state": {}
     },
     "f9f0948025624fdc8b0f8ac6df3c8b4c": {
      "model_module": "@jupyter-widgets/base",
      "model_module_version": "1.2.0",
      "model_name": "LayoutModel",
      "state": {}
     },
     "fa2f87faf38a4c1f89452342b9109a7f": {
      "model_module": "@jupyter-widgets/controls",
      "model_module_version": "1.5.0",
      "model_name": "IntProgressModel",
      "state": {
       "bar_style": "danger",
       "layout": "IPY_MODEL_123e061d413340eeb14ae2d025c4436a",
       "max": 42,
       "style": "IPY_MODEL_304e20af1bf7464aa0716a3259168f1b",
       "value": 1
      }
     },
     "fafb75ed4bf442dba33ec2566e619ec4": {
      "model_module": "@jupyter-widgets/base",
      "model_module_version": "1.2.0",
      "model_name": "LayoutModel",
      "state": {}
     },
     "fb5e17349538456f8578a2ddadab8f90": {
      "model_module": "@jupyter-widgets/controls",
      "model_module_version": "1.5.0",
      "model_name": "IntProgressModel",
      "state": {
       "bar_style": "success",
       "layout": "IPY_MODEL_29585161c694498a91acc96ef9dabc76",
       "max": 26,
       "style": "IPY_MODEL_b2743d3992b8485e965d0ccb27def1c1",
       "value": 26
      }
     },
     "fd9bb1f7f43a4954a92b348891ba6286": {
      "model_module": "@jupyter-widgets/controls",
      "model_module_version": "1.5.0",
      "model_name": "DescriptionStyleModel",
      "state": {
       "description_width": ""
      }
     },
     "fefee66cf4af46948f1d4c3bf03f621f": {
      "model_module": "@jupyter-widgets/base",
      "model_module_version": "1.2.0",
      "model_name": "LayoutModel",
      "state": {}
     },
     "ffe76316154749299d6c1b6cd2ebeaf5": {
      "model_module": "@jupyter-widgets/controls",
      "model_module_version": "1.5.0",
      "model_name": "DescriptionStyleModel",
      "state": {
       "description_width": ""
      }
     }
    },
    "version_major": 2,
    "version_minor": 0
   }
  }
 },
 "nbformat": 4,
 "nbformat_minor": 4
}
