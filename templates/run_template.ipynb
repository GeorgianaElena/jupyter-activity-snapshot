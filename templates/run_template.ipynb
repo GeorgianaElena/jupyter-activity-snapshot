{
 "cells": [
  {
   "cell_type": "code",
   "execution_count": 12,
   "metadata": {},
   "outputs": [],
   "source": [
    "import papermill as pm\n",
    "import pandas as pd\n",
    "from datetime import timedelta\n",
    "import os\n",
    "import os.path as op"
   ]
  },
  {
   "cell_type": "code",
   "execution_count": 13,
   "metadata": {},
   "outputs": [],
   "source": [
    "fmt = \"{:%Y-%m-%d}\"\n",
    "n_days = 30\n",
    "end_date = fmt.format(pd.datetime.today())\n",
    "start_date = fmt.format(pd.datetime.today() - timedelta(days=n_days))\n",
    "parameters = dict(\n",
    "    renderer=\"kaggle\",\n",
    ")\n",
    "name = f'{start_date}_{end_date}'\n",
    "github_orgs = [\"jupyterhub\", \"jupyter\", \"jupyterlab\", \"jupyter-widgets\", \"ipython\", \"binder-examples\"]"
   ]
  },
  {
   "cell_type": "markdown",
   "metadata": {},
   "source": [
    "# Update the data"
   ]
  },
  {
   "cell_type": "code",
   "execution_count": 9,
   "metadata": {},
   "outputs": [
    {
     "data": {
      "application/vnd.jupyter.widget-view+json": {
       "model_id": "e6789d06c27c41959ba4dc4851be0880",
       "version_major": 2,
       "version_minor": 0
      },
      "text/plain": [
       "HBox(children=(IntProgress(value=0, max=11), HTML(value='')))"
      ]
     },
     "metadata": {},
     "output_type": "display_data"
    }
   ],
   "source": [
    "folder_name = f\"../tmp/\"\n",
    "os.makedirs(folder_name, exist_ok=True)\n",
    "out = pm.execute_notebook('./update/update_data.ipynb', op.join(folder_name, \"update_data_result.ipynb\"), parameters=parameters, cwd=\"./update\")"
   ]
  },
  {
   "cell_type": "markdown",
   "metadata": {},
   "source": [
    "# Generate reports"
   ]
  },
  {
   "cell_type": "markdown",
   "metadata": {},
   "source": [
    "## Recent activity analysis"
   ]
  },
  {
   "cell_type": "code",
   "execution_count": 12,
   "metadata": {},
   "outputs": [
    {
     "data": {
      "application/vnd.jupyter.widget-view+json": {
       "model_id": "cd12659240ef4b6ebdc8acb06f27d4cb",
       "version_major": 2,
       "version_minor": 0
      },
      "text/plain": [
       "HBox(children=(IntProgress(value=0, max=42), HTML(value='')))"
      ]
     },
     "metadata": {},
     "output_type": "display_data"
    },
    {
     "name": "stdout",
     "output_type": "stream",
     "text": [
      "\n"
     ]
    },
    {
     "data": {
      "application/vnd.jupyter.widget-view+json": {
       "model_id": "a4abc8e010b749ce920fad9246532ccd",
       "version_major": 2,
       "version_minor": 0
      },
      "text/plain": [
       "HBox(children=(IntProgress(value=0, max=25), HTML(value='')))"
      ]
     },
     "metadata": {},
     "output_type": "display_data"
    },
    {
     "name": "stdout",
     "output_type": "stream",
     "text": [
      "\n"
     ]
    }
   ],
   "source": [
    "folder_name = f\"../reports/{start_date}_{end_date}\"\n",
    "\n",
    "os.makedirs(folder_name, exist_ok=True)\n",
    "out = pm.execute_notebook('./github.ipynb',\n",
    "                          op.join(folder_name, \"github.ipynb\"),\n",
    "                          parameters=parameters)\n",
    "\n",
    "out = pm.execute_notebook('./discourse.ipynb',\n",
    "                          op.join(folder_name, \"discourse.ipynb\"),\n",
    "                          parameters=parameters)"
   ]
  },
  {
   "cell_type": "code",
   "execution_count": 17,
   "metadata": {},
   "outputs": [],
   "source": [
    "months = [(ii-1, ii) for ii in range(2, 9)]"
   ]
  },
  {
   "cell_type": "code",
   "execution_count": 22,
   "metadata": {},
   "outputs": [
    {
     "name": "stdout",
     "output_type": "stream",
     "text": [
      "1 2\n"
     ]
    },
    {
     "data": {
      "application/vnd.jupyter.widget-view+json": {
       "model_id": "4450475e1c6e4d90bc1a81f110c54ad3",
       "version_major": 2,
       "version_minor": 0
      },
      "text/plain": [
       "HBox(children=(IntProgress(value=0, max=42), HTML(value='')))"
      ]
     },
     "metadata": {},
     "output_type": "display_data"
    },
    {
     "name": "stdout",
     "output_type": "stream",
     "text": [
      "\n"
     ]
    },
    {
     "data": {
      "application/vnd.jupyter.widget-view+json": {
       "model_id": "33b7ad70a05644db8d2d697e942a7438",
       "version_major": 2,
       "version_minor": 0
      },
      "text/plain": [
       "HBox(children=(IntProgress(value=0, max=26), HTML(value='')))"
      ]
     },
     "metadata": {},
     "output_type": "display_data"
    },
    {
     "name": "stdout",
     "output_type": "stream",
     "text": [
      "\n",
      "2 3\n"
     ]
    },
    {
     "data": {
      "application/vnd.jupyter.widget-view+json": {
       "model_id": "99b93e2f67784757989f65d285972e79",
       "version_major": 2,
       "version_minor": 0
      },
      "text/plain": [
       "HBox(children=(IntProgress(value=0, max=42), HTML(value='')))"
      ]
     },
     "metadata": {},
     "output_type": "display_data"
    },
    {
     "name": "stdout",
     "output_type": "stream",
     "text": [
      "\n"
     ]
    },
    {
     "data": {
      "application/vnd.jupyter.widget-view+json": {
       "model_id": "d75c2f8c78104240be451ebce529329c",
       "version_major": 2,
       "version_minor": 0
      },
      "text/plain": [
       "HBox(children=(IntProgress(value=0, max=26), HTML(value='')))"
      ]
     },
     "metadata": {},
     "output_type": "display_data"
    },
    {
     "name": "stdout",
     "output_type": "stream",
     "text": [
      "\n",
      "3 4\n"
     ]
    },
    {
     "data": {
      "application/vnd.jupyter.widget-view+json": {
       "model_id": "b4cf3236bcba4edea1a14046de78bf05",
       "version_major": 2,
       "version_minor": 0
      },
      "text/plain": [
       "HBox(children=(IntProgress(value=0, max=42), HTML(value='')))"
      ]
     },
     "metadata": {},
     "output_type": "display_data"
    },
    {
     "name": "stdout",
     "output_type": "stream",
     "text": [
      "\n"
     ]
    },
    {
     "data": {
      "application/vnd.jupyter.widget-view+json": {
       "model_id": "b81aec9ef2874298b66f9e7a066b71df",
       "version_major": 2,
       "version_minor": 0
      },
      "text/plain": [
       "HBox(children=(IntProgress(value=0, max=26), HTML(value='')))"
      ]
     },
     "metadata": {},
     "output_type": "display_data"
    },
    {
     "name": "stdout",
     "output_type": "stream",
     "text": [
      "\n",
      "4 5\n"
     ]
    },
    {
     "data": {
      "application/vnd.jupyter.widget-view+json": {
       "model_id": "933df22f780b4653899af887005a277c",
       "version_major": 2,
       "version_minor": 0
      },
      "text/plain": [
       "HBox(children=(IntProgress(value=0, max=42), HTML(value='')))"
      ]
     },
     "metadata": {},
     "output_type": "display_data"
    },
    {
     "name": "stdout",
     "output_type": "stream",
     "text": [
      "\n"
     ]
    },
    {
     "data": {
      "application/vnd.jupyter.widget-view+json": {
       "model_id": "9f41b957226340a2911aaccb4dc215a5",
       "version_major": 2,
       "version_minor": 0
      },
      "text/plain": [
       "HBox(children=(IntProgress(value=0, max=26), HTML(value='')))"
      ]
     },
     "metadata": {},
     "output_type": "display_data"
    },
    {
     "name": "stdout",
     "output_type": "stream",
     "text": [
      "\n",
      "5 6\n"
     ]
    },
    {
     "data": {
      "application/vnd.jupyter.widget-view+json": {
       "model_id": "020780566e78435cb89f858dfcf46464",
       "version_major": 2,
       "version_minor": 0
      },
      "text/plain": [
       "HBox(children=(IntProgress(value=0, max=42), HTML(value='')))"
      ]
     },
     "metadata": {},
     "output_type": "display_data"
    },
    {
     "name": "stdout",
     "output_type": "stream",
     "text": [
      "\n"
     ]
    },
    {
     "data": {
      "application/vnd.jupyter.widget-view+json": {
       "model_id": "a2ecdbb6004a441a8a655048838ebf21",
       "version_major": 2,
       "version_minor": 0
      },
      "text/plain": [
       "HBox(children=(IntProgress(value=0, max=26), HTML(value='')))"
      ]
     },
     "metadata": {},
     "output_type": "display_data"
    },
    {
     "name": "stdout",
     "output_type": "stream",
     "text": [
      "\n",
      "6 7\n"
     ]
    },
    {
     "data": {
      "application/vnd.jupyter.widget-view+json": {
       "model_id": "19889124b20f44daa630f3ce46cf022b",
       "version_major": 2,
       "version_minor": 0
      },
      "text/plain": [
       "HBox(children=(IntProgress(value=0, max=42), HTML(value='')))"
      ]
     },
     "metadata": {},
     "output_type": "display_data"
    },
    {
     "name": "stdout",
     "output_type": "stream",
     "text": [
      "\n"
     ]
    },
    {
     "data": {
      "application/vnd.jupyter.widget-view+json": {
       "model_id": "a07276b3b03244948c7a5eb8f62c58a9",
       "version_major": 2,
       "version_minor": 0
      },
      "text/plain": [
       "HBox(children=(IntProgress(value=0, max=26), HTML(value='')))"
      ]
     },
     "metadata": {},
     "output_type": "display_data"
    },
    {
     "name": "stdout",
     "output_type": "stream",
     "text": [
      "\n",
      "7 8\n"
     ]
    },
    {
     "data": {
      "application/vnd.jupyter.widget-view+json": {
       "model_id": "794c499ccc914597bec7b0e24057e8f2",
       "version_major": 2,
       "version_minor": 0
      },
      "text/plain": [
       "HBox(children=(IntProgress(value=0, max=42), HTML(value='')))"
      ]
     },
     "metadata": {},
     "output_type": "display_data"
    },
    {
     "name": "stdout",
     "output_type": "stream",
     "text": [
      "\n"
     ]
    },
    {
     "data": {
      "application/vnd.jupyter.widget-view+json": {
       "model_id": "98454c75cc1a4be9b267038f396aa596",
       "version_major": 2,
       "version_minor": 0
      },
      "text/plain": [
       "HBox(children=(IntProgress(value=0, max=26), HTML(value='')))"
      ]
     },
     "metadata": {},
     "output_type": "display_data"
    },
    {
     "name": "stdout",
     "output_type": "stream",
     "text": [
      "\n"
     ]
    }
   ],
   "source": [
    "for st, stp in months:\n",
    "    print(st, stp)\n",
    "    start_date = f\"2019-0{st}-01\"\n",
    "    end_date = f\"2019-0{stp}-01\"\n",
    "    folder_name = f\"../reports/{start_date}_{end_date}\"\n",
    "    parameters.update({'start_date': start_date, \"end_date\": end_date})\n",
    "    os.makedirs(folder_name, exist_ok=True)\n",
    "    out = pm.execute_notebook('./github.ipynb',\n",
    "                              op.join(folder_name, \"github.ipynb\"),\n",
    "                              parameters=parameters)\n",
    "\n",
    "    out = pm.execute_notebook('./discourse.ipynb',\n",
    "                              op.join(folder_name, \"discourse.ipynb\"),\n",
    "                              parameters=parameters)"
   ]
  },
  {
   "cell_type": "markdown",
   "metadata": {},
   "source": [
    "## Over time analysis"
   ]
  },
  {
   "cell_type": "code",
   "execution_count": 14,
   "metadata": {},
   "outputs": [
    {
     "data": {
      "application/vnd.jupyter.widget-view+json": {
       "model_id": "a8afae15526b47c089bdb4b420f045bc",
       "version_major": 2,
       "version_minor": 0
      },
      "text/plain": [
       "HBox(children=(IntProgress(value=0, max=11), HTML(value='')))"
      ]
     },
     "metadata": {},
     "output_type": "display_data"
    },
    {
     "data": {
      "application/vnd.jupyter.widget-view+json": {
       "model_id": "e390b7dbf8c6411090bee0a17eebc85d",
       "version_major": 2,
       "version_minor": 0
      },
      "text/plain": [
       "HBox(children=(IntProgress(value=0, max=9), HTML(value='')))"
      ]
     },
     "metadata": {},
     "output_type": "display_data"
    }
   ],
   "source": [
    "# Calculate some relevant statistics about the repositories\n",
    "folder_name = f\"../reports/summaries\"\n",
    "os.makedirs(folder_name, exist_ok=True)\n",
    "out = pm.execute_notebook('./stats/pony_factor.ipynb',\n",
    "                          op.join(folder_name, \"pony_factor.ipynb\"),\n",
    "                          parameters=parameters,\n",
    "                          cwd='./stats')\n",
    "\n",
    "out = pm.execute_notebook('./stats/retention.ipynb',\n",
    "                          op.join(folder_name, \"retention.ipynb\"),\n",
    "                          parameters=parameters,\n",
    "                          cwd='./stats')"
   ]
  },
  {
   "cell_type": "code",
   "execution_count": 17,
   "metadata": {},
   "outputs": [
    {
     "name": "stdout",
     "output_type": "stream",
     "text": [
      "\n"
     ]
    },
    {
     "data": {
      "application/vnd.jupyter.widget-view+json": {
       "model_id": "61d6b99b27de4eff9e0f626ef6afb21a",
       "version_major": 2,
       "version_minor": 0
      },
      "text/plain": [
       "HBox(children=(IntProgress(value=0, max=25), HTML(value='')))"
      ]
     },
     "metadata": {},
     "output_type": "display_data"
    },
    {
     "name": "stdout",
     "output_type": "stream",
     "text": [
      "\n"
     ]
    }
   ],
   "source": [
    "out = pm.execute_notebook('./time.ipynb',\n",
    "                          op.join(folder_name, 'time.ipynb'))\n",
    "\n"
   ]
  },
  {
   "cell_type": "code",
   "execution_count": null,
   "metadata": {},
   "outputs": [],
   "source": []
  }
 ],
 "metadata": {
  "kernelspec": {
   "display_name": "Python 3",
   "language": "python",
   "name": "python3"
  },
  "language_info": {
   "codemirror_mode": {
    "name": "ipython",
    "version": 3
   },
   "file_extension": ".py",
   "mimetype": "text/x-python",
   "name": "python",
   "nbconvert_exporter": "python",
   "pygments_lexer": "ipython3",
   "version": "3.7.3"
  },
  "widgets": {
   "application/vnd.jupyter.widget-state+json": {
    "state": {
     "00220e727cf74389941857ed0a2da1af": {
      "model_module": "@jupyter-widgets/base",
      "model_module_version": "1.2.0",
      "model_name": "LayoutModel",
      "state": {}
     },
     "004704fc84524ccca43175fe4854d68a": {
      "model_module": "@jupyter-widgets/base",
      "model_module_version": "1.2.0",
      "model_name": "LayoutModel",
      "state": {}
     },
     "01a7f7c44b6f4af4af1bd8c170a1a6f3": {
      "model_module": "@jupyter-widgets/base",
      "model_module_version": "1.2.0",
      "model_name": "LayoutModel",
      "state": {}
     },
     "020780566e78435cb89f858dfcf46464": {
      "model_module": "@jupyter-widgets/controls",
      "model_module_version": "1.5.0",
      "model_name": "HBoxModel",
      "state": {
       "children": [
        "IPY_MODEL_bb26c392826343a79c904bc9b95bc2bb",
        "IPY_MODEL_753d7b879b004de29281f1f6071bc7f4"
       ],
       "layout": "IPY_MODEL_673ec59d842442729a72c507ea9b7e5b"
      }
     },
     "02c3bdc508f44044a2cb97b847044762": {
      "model_module": "@jupyter-widgets/controls",
      "model_module_version": "1.5.0",
      "model_name": "HTMLModel",
      "state": {
       "layout": "IPY_MODEL_4b8dec5870da4e20b2f4476c779c0935",
       "style": "IPY_MODEL_656ae835f4954df8bab252649f27e990",
       "value": "100% 26/26 [00:11&lt;00:00,  4.88it/s]"
      }
     },
     "0a1f5ade07cf4f8d8c932794de31f1b5": {
      "model_module": "@jupyter-widgets/controls",
      "model_module_version": "1.5.0",
      "model_name": "DescriptionStyleModel",
      "state": {
       "description_width": ""
      }
     },
     "0aacbc1e0b93486c89758276a7eb01dc": {
      "model_module": "@jupyter-widgets/base",
      "model_module_version": "1.2.0",
      "model_name": "LayoutModel",
      "state": {}
     },
     "0addf8a481bb4146b4ecd4e866557436": {
      "model_module": "@jupyter-widgets/base",
      "model_module_version": "1.2.0",
      "model_name": "LayoutModel",
      "state": {}
     },
     "0dbbd12321294c5592761608b657e0dd": {
      "model_module": "@jupyter-widgets/base",
      "model_module_version": "1.2.0",
      "model_name": "LayoutModel",
      "state": {}
     },
     "0efadd78731f49019952b0327ee42745": {
      "model_module": "@jupyter-widgets/controls",
      "model_module_version": "1.5.0",
      "model_name": "DescriptionStyleModel",
      "state": {
       "description_width": ""
      }
     },
     "0f628b31757f4b289a4fc490422c07a4": {
      "model_module": "@jupyter-widgets/controls",
      "model_module_version": "1.5.0",
      "model_name": "HBoxModel",
      "state": {
       "children": [
        "IPY_MODEL_cbfb7a4cb01941d88a457f9152c1fdf3",
        "IPY_MODEL_19991f32753b485f99ca85e07ebf0959"
       ],
       "layout": "IPY_MODEL_93360651515646a083a82b42ef263e27"
      }
     },
     "0fb97f30b1d046739260c1504d2ad5c0": {
      "model_module": "@jupyter-widgets/controls",
      "model_module_version": "1.5.0",
      "model_name": "DescriptionStyleModel",
      "state": {
       "description_width": ""
      }
     },
     "11122cdcdf3d47aa8b15b05d88e52eaf": {
      "model_module": "@jupyter-widgets/controls",
      "model_module_version": "1.5.0",
      "model_name": "HTMLModel",
      "state": {
       "layout": "IPY_MODEL_5717551ce1114ac297cec9ecc8a6bbe3",
       "style": "IPY_MODEL_7f5ff3737f624273bfe4bcfaa7724fd7",
       "value": "100% 26/26 [00:14&lt;00:00,  3.73it/s]"
      }
     },
     "1112757cb5344331acbc6f2777024589": {
      "model_module": "@jupyter-widgets/controls",
      "model_module_version": "1.5.0",
      "model_name": "ProgressStyleModel",
      "state": {
       "description_width": ""
      }
     },
     "11e1312d9430445fbd247bbb4c493771": {
      "model_module": "@jupyter-widgets/controls",
      "model_module_version": "1.5.0",
      "model_name": "IntProgressModel",
      "state": {
       "bar_style": "success",
       "layout": "IPY_MODEL_579152f4b9de4b1390afd1c92a55843a",
       "max": 42,
       "style": "IPY_MODEL_93be1ca3f1fa43488deee46035b507bb",
       "value": 42
      }
     },
     "156da31e24044babbf667767075f7e06": {
      "model_module": "@jupyter-widgets/base",
      "model_module_version": "1.2.0",
      "model_name": "LayoutModel",
      "state": {}
     },
     "158acda259bb4d72871ae4853fef3f1d": {
      "model_module": "@jupyter-widgets/controls",
      "model_module_version": "1.5.0",
      "model_name": "IntProgressModel",
      "state": {
       "bar_style": "success",
       "layout": "IPY_MODEL_6a00e82bb500469aa474b7554a8ed01e",
       "max": 26,
       "style": "IPY_MODEL_ceffdc7a74c3427c815fc184fc9a946b",
       "value": 26
      }
     },
     "181920ed459c4427b6142340af2f7b77": {
      "model_module": "@jupyter-widgets/controls",
      "model_module_version": "1.5.0",
      "model_name": "HTMLModel",
      "state": {
       "layout": "IPY_MODEL_4b642372401f46c89b19c848b6002cfb",
       "style": "IPY_MODEL_dcddd91f5c964143bef93bdf4cf1d425",
       "value": "100% 42/42 [00:29&lt;00:00,  1.43it/s]"
      }
     },
     "19889124b20f44daa630f3ce46cf022b": {
      "model_module": "@jupyter-widgets/controls",
      "model_module_version": "1.5.0",
      "model_name": "HBoxModel",
      "state": {
       "children": [
        "IPY_MODEL_aa5beaa824974a63b6c78f123d9712be",
        "IPY_MODEL_295a459f38434288bc84c5771340c00f"
       ],
       "layout": "IPY_MODEL_900b848496374427b99709c89220cba7"
      }
     },
     "19991f32753b485f99ca85e07ebf0959": {
      "model_module": "@jupyter-widgets/controls",
      "model_module_version": "1.5.0",
      "model_name": "HTMLModel",
      "state": {
       "layout": "IPY_MODEL_83bd8c878569434a91f8e2f4b2631ae3",
       "style": "IPY_MODEL_a2246638fecf494297eb7341584070e5",
       "value": "  2% 1/42 [00:08&lt;05:55,  8.68s/it]"
      }
     },
     "1ba7671764ac4209add6bd242114ecc2": {
      "model_module": "@jupyter-widgets/base",
      "model_module_version": "1.2.0",
      "model_name": "LayoutModel",
      "state": {}
     },
     "21ac8fa1d17945a98815056b3dd79b1e": {
      "model_module": "@jupyter-widgets/controls",
      "model_module_version": "1.5.0",
      "model_name": "IntProgressModel",
      "state": {
       "bar_style": "danger",
       "layout": "IPY_MODEL_9188433fecb44adcaf98de391e9e5a81",
       "max": 42,
       "style": "IPY_MODEL_7990226dd48340f19ec9cfcdb9817363",
       "value": 39
      }
     },
     "28e76afd245a4e2d819e984342a80da8": {
      "model_module": "@jupyter-widgets/base",
      "model_module_version": "1.2.0",
      "model_name": "LayoutModel",
      "state": {}
     },
     "295a459f38434288bc84c5771340c00f": {
      "model_module": "@jupyter-widgets/controls",
      "model_module_version": "1.5.0",
      "model_name": "HTMLModel",
      "state": {
       "layout": "IPY_MODEL_f9e277fe0e1e489ca2a656c6580f678d",
       "style": "IPY_MODEL_ca8bf41561634e21a1a1020285694e47",
       "value": "100% 42/42 [00:31&lt;00:00,  1.29it/s]"
      }
     },
     "2a6abe23b7084fd3ad082b4786192fcb": {
      "model_module": "@jupyter-widgets/controls",
      "model_module_version": "1.5.0",
      "model_name": "DescriptionStyleModel",
      "state": {
       "description_width": ""
      }
     },
     "2adbfeb671ec4815978354103b9c2d3f": {
      "model_module": "@jupyter-widgets/controls",
      "model_module_version": "1.5.0",
      "model_name": "ProgressStyleModel",
      "state": {
       "description_width": ""
      }
     },
     "2e1efae1188247839579e914dcacc82a": {
      "model_module": "@jupyter-widgets/base",
      "model_module_version": "1.2.0",
      "model_name": "LayoutModel",
      "state": {}
     },
     "304c89ec784e44c59e3b5b930f0eb599": {
      "model_module": "@jupyter-widgets/controls",
      "model_module_version": "1.5.0",
      "model_name": "ProgressStyleModel",
      "state": {
       "description_width": ""
      }
     },
     "329c49a0577e4ae8a2666a132b2d5bbb": {
      "model_module": "@jupyter-widgets/controls",
      "model_module_version": "1.5.0",
      "model_name": "HTMLModel",
      "state": {
       "layout": "IPY_MODEL_b94c111bc0ef427db89fbe54abd1e079",
       "style": "IPY_MODEL_54a112b377e84b21975494386a9ef037",
       "value": "  2% 1/42 [00:12&lt;08:50, 12.94s/it]"
      }
     },
     "33b7ad70a05644db8d2d697e942a7438": {
      "model_module": "@jupyter-widgets/controls",
      "model_module_version": "1.5.0",
      "model_name": "HBoxModel",
      "state": {
       "children": [
        "IPY_MODEL_6beb06ca6aab45168eb92756ab244122",
        "IPY_MODEL_5178ef41b9df4e6bafe4b101cb95036f"
       ],
       "layout": "IPY_MODEL_c1276f40723445399651710573e696dd"
      }
     },
     "35f3a6288adc4fc6ad3709c309d48fc0": {
      "model_module": "@jupyter-widgets/controls",
      "model_module_version": "1.5.0",
      "model_name": "IntProgressModel",
      "state": {
       "bar_style": "success",
       "layout": "IPY_MODEL_67cb7e4ec79449b5a9e6c363b7b69aae",
       "max": 42,
       "style": "IPY_MODEL_72b35ff934bd49dc83c4c5b2d0c7114d",
       "value": 42
      }
     },
     "36ed18e000a04556b6525dee524bdb7e": {
      "model_module": "@jupyter-widgets/base",
      "model_module_version": "1.2.0",
      "model_name": "LayoutModel",
      "state": {}
     },
     "38553d0237804829acfa0cb701420b22": {
      "model_module": "@jupyter-widgets/base",
      "model_module_version": "1.2.0",
      "model_name": "LayoutModel",
      "state": {}
     },
     "3b6d08bb22d74bf0a7bc0c0b8d57d13f": {
      "model_module": "@jupyter-widgets/controls",
      "model_module_version": "1.5.0",
      "model_name": "HBoxModel",
      "state": {
       "children": [
        "IPY_MODEL_21ac8fa1d17945a98815056b3dd79b1e",
        "IPY_MODEL_f1de8d0ef6a54a379187a88c9ae436dd"
       ],
       "layout": "IPY_MODEL_5579c5da33524f85980fb2039e875d60"
      }
     },
     "3bbda4c6b3104a16bb6b9c62bebc4eca": {
      "model_module": "@jupyter-widgets/controls",
      "model_module_version": "1.5.0",
      "model_name": "HTMLModel",
      "state": {
       "layout": "IPY_MODEL_2e1efae1188247839579e914dcacc82a",
       "style": "IPY_MODEL_e53d4b296ed14f3a9a0c02c73a2ca204",
       "value": "100% 26/26 [00:12&lt;00:00,  6.10it/s]"
      }
     },
     "3c7736fc6b784062b8455add0584864e": {
      "model_module": "@jupyter-widgets/controls",
      "model_module_version": "1.5.0",
      "model_name": "ProgressStyleModel",
      "state": {
       "description_width": ""
      }
     },
     "3e9c0bf0ba92474e8f8118cd4aad4cd7": {
      "model_module": "@jupyter-widgets/base",
      "model_module_version": "1.2.0",
      "model_name": "LayoutModel",
      "state": {}
     },
     "3f1a543ad67a4d48a938e1832933a5a5": {
      "model_module": "@jupyter-widgets/controls",
      "model_module_version": "1.5.0",
      "model_name": "HBoxModel",
      "state": {
       "children": [
        "IPY_MODEL_f6535546d490410ea6f527ead70034bc",
        "IPY_MODEL_687768f1bff84e319bde1f4d762e36aa"
       ],
       "layout": "IPY_MODEL_004704fc84524ccca43175fe4854d68a"
      }
     },
     "3fe68fbda1c840168769564230758644": {
      "model_module": "@jupyter-widgets/controls",
      "model_module_version": "1.5.0",
      "model_name": "HTMLModel",
      "state": {
       "layout": "IPY_MODEL_7451f0fdb2ce4ac6b9a0b00429b35dcb",
       "style": "IPY_MODEL_e0d2ec95bbae4394bf35306e9e72cec0",
       "value": "100% 42/42 [00:50&lt;00:00,  1.36s/it]"
      }
     },
     "4179e08e126f4ff7a739c3e9b33e49a4": {
      "model_module": "@jupyter-widgets/controls",
      "model_module_version": "1.5.0",
      "model_name": "ProgressStyleModel",
      "state": {
       "description_width": ""
      }
     },
     "4383f5b5913e4fbe9c884a848b67010d": {
      "model_module": "@jupyter-widgets/base",
      "model_module_version": "1.2.0",
      "model_name": "LayoutModel",
      "state": {}
     },
     "43b3bfbd65204b31a8df8e54c2813ae2": {
      "model_module": "@jupyter-widgets/controls",
      "model_module_version": "1.5.0",
      "model_name": "IntProgressModel",
      "state": {
       "bar_style": "success",
       "layout": "IPY_MODEL_28e76afd245a4e2d819e984342a80da8",
       "max": 26,
       "style": "IPY_MODEL_44d1a92bf0184caabc75bfc8a3474325",
       "value": 26
      }
     },
     "4450475e1c6e4d90bc1a81f110c54ad3": {
      "model_module": "@jupyter-widgets/controls",
      "model_module_version": "1.5.0",
      "model_name": "HBoxModel",
      "state": {
       "children": [
        "IPY_MODEL_35f3a6288adc4fc6ad3709c309d48fc0",
        "IPY_MODEL_3fe68fbda1c840168769564230758644"
       ],
       "layout": "IPY_MODEL_1ba7671764ac4209add6bd242114ecc2"
      }
     },
     "44d1a92bf0184caabc75bfc8a3474325": {
      "model_module": "@jupyter-widgets/controls",
      "model_module_version": "1.5.0",
      "model_name": "ProgressStyleModel",
      "state": {
       "description_width": ""
      }
     },
     "46d34f3426df42d29223acc96cba93d9": {
      "model_module": "@jupyter-widgets/controls",
      "model_module_version": "1.5.0",
      "model_name": "IntProgressModel",
      "state": {
       "bar_style": "success",
       "layout": "IPY_MODEL_e935caa37f364c1ab5c44fe0fb96932b",
       "max": 42,
       "style": "IPY_MODEL_607b7ab40a184b369429f4453e77eb12",
       "value": 42
      }
     },
     "49248cfe087e41f995dc90cd0b312526": {
      "model_module": "@jupyter-widgets/controls",
      "model_module_version": "1.5.0",
      "model_name": "DescriptionStyleModel",
      "state": {
       "description_width": ""
      }
     },
     "4b642372401f46c89b19c848b6002cfb": {
      "model_module": "@jupyter-widgets/base",
      "model_module_version": "1.2.0",
      "model_name": "LayoutModel",
      "state": {}
     },
     "4b8dec5870da4e20b2f4476c779c0935": {
      "model_module": "@jupyter-widgets/base",
      "model_module_version": "1.2.0",
      "model_name": "LayoutModel",
      "state": {}
     },
     "5178ef41b9df4e6bafe4b101cb95036f": {
      "model_module": "@jupyter-widgets/controls",
      "model_module_version": "1.5.0",
      "model_name": "HTMLModel",
      "state": {
       "layout": "IPY_MODEL_01a7f7c44b6f4af4af1bd8c170a1a6f3",
       "style": "IPY_MODEL_49248cfe087e41f995dc90cd0b312526",
       "value": "100% 26/26 [00:12&lt;00:00,  5.24it/s]"
      }
     },
     "5256236edad84ddebcb9f3588913b277": {
      "model_module": "@jupyter-widgets/controls",
      "model_module_version": "1.5.0",
      "model_name": "HTMLModel",
      "state": {
       "layout": "IPY_MODEL_6837df94ce16481b8f81f7b11f8dbc09",
       "style": "IPY_MODEL_8ddc839159d748b8928a8ca40f19baef",
       "value": "100% 42/42 [01:24&lt;00:00,  2.66s/it]"
      }
     },
     "5445a56a9fd34bf8b89a9687e954230a": {
      "model_module": "@jupyter-widgets/base",
      "model_module_version": "1.2.0",
      "model_name": "LayoutModel",
      "state": {}
     },
     "547dfecf0d194f87825859eecca4839f": {
      "model_module": "@jupyter-widgets/base",
      "model_module_version": "1.2.0",
      "model_name": "LayoutModel",
      "state": {}
     },
     "54a112b377e84b21975494386a9ef037": {
      "model_module": "@jupyter-widgets/controls",
      "model_module_version": "1.5.0",
      "model_name": "DescriptionStyleModel",
      "state": {
       "description_width": ""
      }
     },
     "551978c58d814f5896d0a9e196a9d0b6": {
      "model_module": "@jupyter-widgets/base",
      "model_module_version": "1.2.0",
      "model_name": "LayoutModel",
      "state": {}
     },
     "5579c5da33524f85980fb2039e875d60": {
      "model_module": "@jupyter-widgets/base",
      "model_module_version": "1.2.0",
      "model_name": "LayoutModel",
      "state": {}
     },
     "5698eff46c7f45e3a6819701419aeb66": {
      "model_module": "@jupyter-widgets/base",
      "model_module_version": "1.2.0",
      "model_name": "LayoutModel",
      "state": {}
     },
     "5712f78124124c798eac5a9f2978acc2": {
      "model_module": "@jupyter-widgets/controls",
      "model_module_version": "1.5.0",
      "model_name": "HBoxModel",
      "state": {
       "children": [
        "IPY_MODEL_8aa431b14da240f89957c08e8c768ab7",
        "IPY_MODEL_b5550184e2834765a88e845b41c10648"
       ],
       "layout": "IPY_MODEL_d4656d90411649589d81d07c02201216"
      }
     },
     "5717551ce1114ac297cec9ecc8a6bbe3": {
      "model_module": "@jupyter-widgets/base",
      "model_module_version": "1.2.0",
      "model_name": "LayoutModel",
      "state": {}
     },
     "573ab93741814e319beab3ebec56bc27": {
      "model_module": "@jupyter-widgets/base",
      "model_module_version": "1.2.0",
      "model_name": "LayoutModel",
      "state": {}
     },
     "579152f4b9de4b1390afd1c92a55843a": {
      "model_module": "@jupyter-widgets/base",
      "model_module_version": "1.2.0",
      "model_name": "LayoutModel",
      "state": {}
     },
     "59184707e9aa4f20a4c7835f7d679b05": {
      "model_module": "@jupyter-widgets/controls",
      "model_module_version": "1.5.0",
      "model_name": "IntProgressModel",
      "state": {
       "bar_style": "success",
       "layout": "IPY_MODEL_6477f846310a4a628e3d7ec816278bd1",
       "max": 42,
       "style": "IPY_MODEL_88e12f45e3d34147a15aad13ac134a1f",
       "value": 42
      }
     },
     "5a4b8fa1322a4feeb360a7530d2063c5": {
      "model_module": "@jupyter-widgets/base",
      "model_module_version": "1.2.0",
      "model_name": "LayoutModel",
      "state": {}
     },
     "5b1fd94ebdbe4065bd5127a04ab77bd8": {
      "model_module": "@jupyter-widgets/controls",
      "model_module_version": "1.5.0",
      "model_name": "ProgressStyleModel",
      "state": {
       "description_width": ""
      }
     },
     "5c819ce6d25a4de48426dafdcf447ef0": {
      "model_module": "@jupyter-widgets/controls",
      "model_module_version": "1.5.0",
      "model_name": "HBoxModel",
      "state": {
       "children": [
        "IPY_MODEL_46d34f3426df42d29223acc96cba93d9",
        "IPY_MODEL_fe893b7db88d46ceb43207df7e568074"
       ],
       "layout": "IPY_MODEL_3e9c0bf0ba92474e8f8118cd4aad4cd7"
      }
     },
     "607b7ab40a184b369429f4453e77eb12": {
      "model_module": "@jupyter-widgets/controls",
      "model_module_version": "1.5.0",
      "model_name": "ProgressStyleModel",
      "state": {
       "description_width": ""
      }
     },
     "62661f17076a457bb3c2e7eaf8a9fa3e": {
      "model_module": "@jupyter-widgets/base",
      "model_module_version": "1.2.0",
      "model_name": "LayoutModel",
      "state": {}
     },
     "626a1047c454465085aef74d3faabf41": {
      "model_module": "@jupyter-widgets/base",
      "model_module_version": "1.2.0",
      "model_name": "LayoutModel",
      "state": {}
     },
     "62cf6f06c25640ec822dd19f37508dd6": {
      "model_module": "@jupyter-widgets/base",
      "model_module_version": "1.2.0",
      "model_name": "LayoutModel",
      "state": {}
     },
     "63d0e1f1b3324d1697e392617b76fcfa": {
      "model_module": "@jupyter-widgets/controls",
      "model_module_version": "1.5.0",
      "model_name": "IntProgressModel",
      "state": {
       "bar_style": "success",
       "layout": "IPY_MODEL_cdc15f75a294462d85f93718f79288e4",
       "max": 42,
       "style": "IPY_MODEL_4179e08e126f4ff7a739c3e9b33e49a4",
       "value": 42
      }
     },
     "6477f846310a4a628e3d7ec816278bd1": {
      "model_module": "@jupyter-widgets/base",
      "model_module_version": "1.2.0",
      "model_name": "LayoutModel",
      "state": {}
     },
     "656ae835f4954df8bab252649f27e990": {
      "model_module": "@jupyter-widgets/controls",
      "model_module_version": "1.5.0",
      "model_name": "DescriptionStyleModel",
      "state": {
       "description_width": ""
      }
     },
     "673ec59d842442729a72c507ea9b7e5b": {
      "model_module": "@jupyter-widgets/base",
      "model_module_version": "1.2.0",
      "model_name": "LayoutModel",
      "state": {}
     },
     "6740581d2b1c437e983f19e5220b4dca": {
      "model_module": "@jupyter-widgets/controls",
      "model_module_version": "1.5.0",
      "model_name": "DescriptionStyleModel",
      "state": {
       "description_width": ""
      }
     },
     "67cb7e4ec79449b5a9e6c363b7b69aae": {
      "model_module": "@jupyter-widgets/base",
      "model_module_version": "1.2.0",
      "model_name": "LayoutModel",
      "state": {}
     },
     "6837df94ce16481b8f81f7b11f8dbc09": {
      "model_module": "@jupyter-widgets/base",
      "model_module_version": "1.2.0",
      "model_name": "LayoutModel",
      "state": {}
     },
     "687768f1bff84e319bde1f4d762e36aa": {
      "model_module": "@jupyter-widgets/controls",
      "model_module_version": "1.5.0",
      "model_name": "HTMLModel",
      "state": {
       "layout": "IPY_MODEL_547dfecf0d194f87825859eecca4839f",
       "style": "IPY_MODEL_f7abb7dd49a44877a389eb8ca632d504",
       "value": "100% 26/26 [00:12&lt;00:00,  3.38it/s]"
      }
     },
     "6a00e82bb500469aa474b7554a8ed01e": {
      "model_module": "@jupyter-widgets/base",
      "model_module_version": "1.2.0",
      "model_name": "LayoutModel",
      "state": {}
     },
     "6beb06ca6aab45168eb92756ab244122": {
      "model_module": "@jupyter-widgets/controls",
      "model_module_version": "1.5.0",
      "model_name": "IntProgressModel",
      "state": {
       "bar_style": "success",
       "layout": "IPY_MODEL_626a1047c454465085aef74d3faabf41",
       "max": 26,
       "style": "IPY_MODEL_1112757cb5344331acbc6f2777024589",
       "value": 26
      }
     },
     "6c44ff16c0334688a042f9b76e066585": {
      "model_module": "@jupyter-widgets/controls",
      "model_module_version": "1.5.0",
      "model_name": "IntProgressModel",
      "state": {
       "bar_style": "danger",
       "layout": "IPY_MODEL_7c99ac8f7aff43e6bc8140e9ba8b1f04",
       "max": 42,
       "style": "IPY_MODEL_a72e5b49c4fc48b9b0986bc1d0fb72b5",
       "value": 1
      }
     },
     "6c5763a888ec4f8b91fe1f769e5f04e7": {
      "model_module": "@jupyter-widgets/controls",
      "model_module_version": "1.5.0",
      "model_name": "HTMLModel",
      "state": {
       "layout": "IPY_MODEL_551978c58d814f5896d0a9e196a9d0b6",
       "style": "IPY_MODEL_0fb97f30b1d046739260c1504d2ad5c0",
       "value": "100% 26/26 [00:15&lt;00:00,  3.49it/s]"
      }
     },
     "718b66b8adff48ee9ba521e1e80bee63": {
      "model_module": "@jupyter-widgets/base",
      "model_module_version": "1.2.0",
      "model_name": "LayoutModel",
      "state": {}
     },
     "72847a5952e54a6f958eedc7fb1d2ebe": {
      "model_module": "@jupyter-widgets/controls",
      "model_module_version": "1.5.0",
      "model_name": "HTMLModel",
      "state": {
       "layout": "IPY_MODEL_cbb99399f8384b7bb2c32afb99c760c7",
       "style": "IPY_MODEL_2a6abe23b7084fd3ad082b4786192fcb",
       "value": "100% 42/42 [00:39&lt;00:00,  1.04it/s]"
      }
     },
     "72b35ff934bd49dc83c4c5b2d0c7114d": {
      "model_module": "@jupyter-widgets/controls",
      "model_module_version": "1.5.0",
      "model_name": "ProgressStyleModel",
      "state": {
       "description_width": ""
      }
     },
     "7451f0fdb2ce4ac6b9a0b00429b35dcb": {
      "model_module": "@jupyter-widgets/base",
      "model_module_version": "1.2.0",
      "model_name": "LayoutModel",
      "state": {}
     },
     "753d7b879b004de29281f1f6071bc7f4": {
      "model_module": "@jupyter-widgets/controls",
      "model_module_version": "1.5.0",
      "model_name": "HTMLModel",
      "state": {
       "layout": "IPY_MODEL_b5ce547ac5a5436796f23cc435bc2980",
       "style": "IPY_MODEL_c517af65ccc241e2afb99b4f61820d62",
       "value": "100% 42/42 [00:44&lt;00:00,  1.32s/it]"
      }
     },
     "794c499ccc914597bec7b0e24057e8f2": {
      "model_module": "@jupyter-widgets/controls",
      "model_module_version": "1.5.0",
      "model_name": "HBoxModel",
      "state": {
       "children": [
        "IPY_MODEL_11e1312d9430445fbd247bbb4c493771",
        "IPY_MODEL_181920ed459c4427b6142340af2f7b77"
       ],
       "layout": "IPY_MODEL_36ed18e000a04556b6525dee524bdb7e"
      }
     },
     "7990226dd48340f19ec9cfcdb9817363": {
      "model_module": "@jupyter-widgets/controls",
      "model_module_version": "1.5.0",
      "model_name": "ProgressStyleModel",
      "state": {
       "description_width": ""
      }
     },
     "7c99ac8f7aff43e6bc8140e9ba8b1f04": {
      "model_module": "@jupyter-widgets/base",
      "model_module_version": "1.2.0",
      "model_name": "LayoutModel",
      "state": {}
     },
     "7f5ff3737f624273bfe4bcfaa7724fd7": {
      "model_module": "@jupyter-widgets/controls",
      "model_module_version": "1.5.0",
      "model_name": "DescriptionStyleModel",
      "state": {
       "description_width": ""
      }
     },
     "834a040d66de425ca52c17bb67812a35": {
      "model_module": "@jupyter-widgets/controls",
      "model_module_version": "1.5.0",
      "model_name": "IntProgressModel",
      "state": {
       "bar_style": "success",
       "layout": "IPY_MODEL_d6133b3aff1b4a718f852a1a99eee775",
       "max": 42,
       "style": "IPY_MODEL_fe863dafe60e4461927cae2c0e7a7aee",
       "value": 42
      }
     },
     "83bd8c878569434a91f8e2f4b2631ae3": {
      "model_module": "@jupyter-widgets/base",
      "model_module_version": "1.2.0",
      "model_name": "LayoutModel",
      "state": {}
     },
     "86c7d379b1044deaa41d567e2daa9adb": {
      "model_module": "@jupyter-widgets/base",
      "model_module_version": "1.2.0",
      "model_name": "LayoutModel",
      "state": {}
     },
     "874515c6e1f84a75886ae1eafce68fd9": {
      "model_module": "@jupyter-widgets/controls",
      "model_module_version": "1.5.0",
      "model_name": "HTMLModel",
      "state": {
       "layout": "IPY_MODEL_f11248bdcce74deb828fec0bd381dfb2",
       "style": "IPY_MODEL_0efadd78731f49019952b0327ee42745",
       "value": "100% 26/26 [00:10&lt;00:00,  4.34it/s]"
      }
     },
     "88e12f45e3d34147a15aad13ac134a1f": {
      "model_module": "@jupyter-widgets/controls",
      "model_module_version": "1.5.0",
      "model_name": "ProgressStyleModel",
      "state": {
       "description_width": ""
      }
     },
     "8aa431b14da240f89957c08e8c768ab7": {
      "model_module": "@jupyter-widgets/controls",
      "model_module_version": "1.5.0",
      "model_name": "IntProgressModel",
      "state": {
       "bar_style": "danger",
       "layout": "IPY_MODEL_a9a0d40f716443cfabd0e27561df0ce8",
       "max": 42,
       "style": "IPY_MODEL_d9cf603b818546c8990cd2f75198d884",
       "value": 1
      }
     },
     "8ddc839159d748b8928a8ca40f19baef": {
      "model_module": "@jupyter-widgets/controls",
      "model_module_version": "1.5.0",
      "model_name": "DescriptionStyleModel",
      "state": {
       "description_width": ""
      }
     },
     "900b848496374427b99709c89220cba7": {
      "model_module": "@jupyter-widgets/base",
      "model_module_version": "1.2.0",
      "model_name": "LayoutModel",
      "state": {}
     },
     "9188433fecb44adcaf98de391e9e5a81": {
      "model_module": "@jupyter-widgets/base",
      "model_module_version": "1.2.0",
      "model_name": "LayoutModel",
      "state": {}
     },
     "93360651515646a083a82b42ef263e27": {
      "model_module": "@jupyter-widgets/base",
      "model_module_version": "1.2.0",
      "model_name": "LayoutModel",
      "state": {}
     },
     "933df22f780b4653899af887005a277c": {
      "model_module": "@jupyter-widgets/controls",
      "model_module_version": "1.5.0",
      "model_name": "HBoxModel",
      "state": {
       "children": [
        "IPY_MODEL_63d0e1f1b3324d1697e392617b76fcfa",
        "IPY_MODEL_adb9e3193aa148b691caf3b046c848eb"
       ],
       "layout": "IPY_MODEL_b7be2805eec34303a28609400126451c"
      }
     },
     "93be1ca3f1fa43488deee46035b507bb": {
      "model_module": "@jupyter-widgets/controls",
      "model_module_version": "1.5.0",
      "model_name": "ProgressStyleModel",
      "state": {
       "description_width": ""
      }
     },
     "94701253c8ae4d3fb95bade8cfb34676": {
      "model_module": "@jupyter-widgets/controls",
      "model_module_version": "1.5.0",
      "model_name": "HBoxModel",
      "state": {
       "children": [
        "IPY_MODEL_b790cbb284934cecbfb9a7f40446b97a",
        "IPY_MODEL_5256236edad84ddebcb9f3588913b277"
       ],
       "layout": "IPY_MODEL_fcc491af2e644166808394f249781d9b"
      }
     },
     "9597782066de4e49a80c8ae084ee9a8d": {
      "model_module": "@jupyter-widgets/base",
      "model_module_version": "1.2.0",
      "model_name": "LayoutModel",
      "state": {}
     },
     "96f89ec3f6ad4defbf7c23b3633eaada": {
      "model_module": "@jupyter-widgets/controls",
      "model_module_version": "1.5.0",
      "model_name": "HTMLModel",
      "state": {
       "layout": "IPY_MODEL_156da31e24044babbf667767075f7e06",
       "style": "IPY_MODEL_6740581d2b1c437e983f19e5220b4dca",
       "value": "100% 26/26 [00:10&lt;00:00,  4.68it/s]"
      }
     },
     "98454c75cc1a4be9b267038f396aa596": {
      "model_module": "@jupyter-widgets/controls",
      "model_module_version": "1.5.0",
      "model_name": "HBoxModel",
      "state": {
       "children": [
        "IPY_MODEL_995bab9f57ed48c98db1bb43c2dac412",
        "IPY_MODEL_96f89ec3f6ad4defbf7c23b3633eaada"
       ],
       "layout": "IPY_MODEL_4383f5b5913e4fbe9c884a848b67010d"
      }
     },
     "995bab9f57ed48c98db1bb43c2dac412": {
      "model_module": "@jupyter-widgets/controls",
      "model_module_version": "1.5.0",
      "model_name": "IntProgressModel",
      "state": {
       "bar_style": "success",
       "layout": "IPY_MODEL_b1b5ae450df245eda8d7a36ebf659b20",
       "max": 26,
       "style": "IPY_MODEL_ad8de0eb16174c80bc51775e0614b2c3",
       "value": 26
      }
     },
     "99b09177d0d045d99c330e47f0d489f2": {
      "model_module": "@jupyter-widgets/controls",
      "model_module_version": "1.5.0",
      "model_name": "ProgressStyleModel",
      "state": {
       "description_width": ""
      }
     },
     "99b93e2f67784757989f65d285972e79": {
      "model_module": "@jupyter-widgets/controls",
      "model_module_version": "1.5.0",
      "model_name": "HBoxModel",
      "state": {
       "children": [
        "IPY_MODEL_834a040d66de425ca52c17bb67812a35",
        "IPY_MODEL_e0380c7bfd4f437d97e585036ca2b88d"
       ],
       "layout": "IPY_MODEL_ba4898d1ef0d4ac7b469895879507f6b"
      }
     },
     "9b63c462a04d47bcbca4764e449b564d": {
      "model_module": "@jupyter-widgets/controls",
      "model_module_version": "1.5.0",
      "model_name": "IntProgressModel",
      "state": {
       "bar_style": "success",
       "layout": "IPY_MODEL_62661f17076a457bb3c2e7eaf8a9fa3e",
       "max": 26,
       "style": "IPY_MODEL_bc47c910f9994c6d9f67516bf190f1dd",
       "value": 26
      }
     },
     "9b6ab9a0e8ef4f2fadd3bfe6e8f6d22c": {
      "model_module": "@jupyter-widgets/base",
      "model_module_version": "1.2.0",
      "model_name": "LayoutModel",
      "state": {}
     },
     "9d4597c5f0394532ad77e4a5b17dea47": {
      "model_module": "@jupyter-widgets/base",
      "model_module_version": "1.2.0",
      "model_name": "LayoutModel",
      "state": {}
     },
     "9de82a992841497ba094bbe71631e7ac": {
      "model_module": "@jupyter-widgets/controls",
      "model_module_version": "1.5.0",
      "model_name": "ProgressStyleModel",
      "state": {
       "description_width": ""
      }
     },
     "9f41b957226340a2911aaccb4dc215a5": {
      "model_module": "@jupyter-widgets/controls",
      "model_module_version": "1.5.0",
      "model_name": "HBoxModel",
      "state": {
       "children": [
        "IPY_MODEL_e17e959d5a6b411788aab948a844debd",
        "IPY_MODEL_d7fe5ba35bdd4b90af8272ea1e513aae"
       ],
       "layout": "IPY_MODEL_f96746dda75a4c06b0aa14106c030c90"
      }
     },
     "a07276b3b03244948c7a5eb8f62c58a9": {
      "model_module": "@jupyter-widgets/controls",
      "model_module_version": "1.5.0",
      "model_name": "HBoxModel",
      "state": {
       "children": [
        "IPY_MODEL_9b63c462a04d47bcbca4764e449b564d",
        "IPY_MODEL_874515c6e1f84a75886ae1eafce68fd9"
       ],
       "layout": "IPY_MODEL_db998ff251cb43da99e9316b1c4954ac"
      }
     },
     "a2246638fecf494297eb7341584070e5": {
      "model_module": "@jupyter-widgets/controls",
      "model_module_version": "1.5.0",
      "model_name": "DescriptionStyleModel",
      "state": {
       "description_width": ""
      }
     },
     "a273540a2e8c48ce81078400801fc3b4": {
      "model_module": "@jupyter-widgets/controls",
      "model_module_version": "1.5.0",
      "model_name": "DescriptionStyleModel",
      "state": {
       "description_width": ""
      }
     },
     "a2ecdbb6004a441a8a655048838ebf21": {
      "model_module": "@jupyter-widgets/controls",
      "model_module_version": "1.5.0",
      "model_name": "HBoxModel",
      "state": {
       "children": [
        "IPY_MODEL_f193de95300c47439f6b30f0f069a871",
        "IPY_MODEL_02c3bdc508f44044a2cb97b847044762"
       ],
       "layout": "IPY_MODEL_5698eff46c7f45e3a6819701419aeb66"
      }
     },
     "a485f9ca88394bfc858292ece8c4be71": {
      "model_module": "@jupyter-widgets/base",
      "model_module_version": "1.2.0",
      "model_name": "LayoutModel",
      "state": {}
     },
     "a72e5b49c4fc48b9b0986bc1d0fb72b5": {
      "model_module": "@jupyter-widgets/controls",
      "model_module_version": "1.5.0",
      "model_name": "ProgressStyleModel",
      "state": {
       "description_width": ""
      }
     },
     "a9a0d40f716443cfabd0e27561df0ce8": {
      "model_module": "@jupyter-widgets/base",
      "model_module_version": "1.2.0",
      "model_name": "LayoutModel",
      "state": {}
     },
     "aa5beaa824974a63b6c78f123d9712be": {
      "model_module": "@jupyter-widgets/controls",
      "model_module_version": "1.5.0",
      "model_name": "IntProgressModel",
      "state": {
       "bar_style": "success",
       "layout": "IPY_MODEL_00220e727cf74389941857ed0a2da1af",
       "max": 42,
       "style": "IPY_MODEL_5b1fd94ebdbe4065bd5127a04ab77bd8",
       "value": 42
      }
     },
     "ace6ff07765940b6bc2a1c7f3427f4fd": {
      "model_module": "@jupyter-widgets/controls",
      "model_module_version": "1.5.0",
      "model_name": "IntProgressModel",
      "state": {
       "bar_style": "success",
       "layout": "IPY_MODEL_62cf6f06c25640ec822dd19f37508dd6",
       "max": 26,
       "style": "IPY_MODEL_99b09177d0d045d99c330e47f0d489f2",
       "value": 26
      }
     },
     "ad8de0eb16174c80bc51775e0614b2c3": {
      "model_module": "@jupyter-widgets/controls",
      "model_module_version": "1.5.0",
      "model_name": "ProgressStyleModel",
      "state": {
       "description_width": ""
      }
     },
     "adb9e3193aa148b691caf3b046c848eb": {
      "model_module": "@jupyter-widgets/controls",
      "model_module_version": "1.5.0",
      "model_name": "HTMLModel",
      "state": {
       "layout": "IPY_MODEL_0aacbc1e0b93486c89758276a7eb01dc",
       "style": "IPY_MODEL_0a1f5ade07cf4f8d8c932794de31f1b5",
       "value": "100% 42/42 [00:44&lt;00:00,  1.06s/it]"
      }
     },
     "af53733552db4e67ad4eb0f81e1cf358": {
      "model_module": "@jupyter-widgets/base",
      "model_module_version": "1.2.0",
      "model_name": "LayoutModel",
      "state": {}
     },
     "b01f842470354dbe8ecacdedf2e62e24": {
      "model_module": "@jupyter-widgets/controls",
      "model_module_version": "1.5.0",
      "model_name": "ProgressStyleModel",
      "state": {
       "description_width": ""
      }
     },
     "b1b5ae450df245eda8d7a36ebf659b20": {
      "model_module": "@jupyter-widgets/base",
      "model_module_version": "1.2.0",
      "model_name": "LayoutModel",
      "state": {}
     },
     "b4cf3236bcba4edea1a14046de78bf05": {
      "model_module": "@jupyter-widgets/controls",
      "model_module_version": "1.5.0",
      "model_name": "HBoxModel",
      "state": {
       "children": [
        "IPY_MODEL_59184707e9aa4f20a4c7835f7d679b05",
        "IPY_MODEL_72847a5952e54a6f958eedc7fb1d2ebe"
       ],
       "layout": "IPY_MODEL_38553d0237804829acfa0cb701420b22"
      }
     },
     "b5550184e2834765a88e845b41c10648": {
      "model_module": "@jupyter-widgets/controls",
      "model_module_version": "1.5.0",
      "model_name": "HTMLModel",
      "state": {
       "layout": "IPY_MODEL_573ab93741814e319beab3ebec56bc27",
       "style": "IPY_MODEL_f9e714262ece4dcebd04ce1e9e385c84",
       "value": "  2% 1/42 [00:05&lt;03:56,  5.77s/it]"
      }
     },
     "b5ce547ac5a5436796f23cc435bc2980": {
      "model_module": "@jupyter-widgets/base",
      "model_module_version": "1.2.0",
      "model_name": "LayoutModel",
      "state": {}
     },
     "b790cbb284934cecbfb9a7f40446b97a": {
      "model_module": "@jupyter-widgets/controls",
      "model_module_version": "1.5.0",
      "model_name": "IntProgressModel",
      "state": {
       "bar_style": "success",
       "layout": "IPY_MODEL_9b6ab9a0e8ef4f2fadd3bfe6e8f6d22c",
       "max": 42,
       "style": "IPY_MODEL_b01f842470354dbe8ecacdedf2e62e24",
       "value": 42
      }
     },
     "b7be2805eec34303a28609400126451c": {
      "model_module": "@jupyter-widgets/base",
      "model_module_version": "1.2.0",
      "model_name": "LayoutModel",
      "state": {}
     },
     "b81aec9ef2874298b66f9e7a066b71df": {
      "model_module": "@jupyter-widgets/controls",
      "model_module_version": "1.5.0",
      "model_name": "HBoxModel",
      "state": {
       "children": [
        "IPY_MODEL_158acda259bb4d72871ae4853fef3f1d",
        "IPY_MODEL_3bbda4c6b3104a16bb6b9c62bebc4eca"
       ],
       "layout": "IPY_MODEL_5a4b8fa1322a4feeb360a7530d2063c5"
      }
     },
     "b8488c623a234de6a675e2f1efe56934": {
      "model_module": "@jupyter-widgets/base",
      "model_module_version": "1.2.0",
      "model_name": "LayoutModel",
      "state": {}
     },
     "b8f98af446ee4266b2026c3294c8b238": {
      "model_module": "@jupyter-widgets/controls",
      "model_module_version": "1.5.0",
      "model_name": "HBoxModel",
      "state": {
       "children": [
        "IPY_MODEL_ace6ff07765940b6bc2a1c7f3427f4fd",
        "IPY_MODEL_6c5763a888ec4f8b91fe1f769e5f04e7"
       ],
       "layout": "IPY_MODEL_9d4597c5f0394532ad77e4a5b17dea47"
      }
     },
     "b94c111bc0ef427db89fbe54abd1e079": {
      "model_module": "@jupyter-widgets/base",
      "model_module_version": "1.2.0",
      "model_name": "LayoutModel",
      "state": {}
     },
     "ba4898d1ef0d4ac7b469895879507f6b": {
      "model_module": "@jupyter-widgets/base",
      "model_module_version": "1.2.0",
      "model_name": "LayoutModel",
      "state": {}
     },
     "bb26c392826343a79c904bc9b95bc2bb": {
      "model_module": "@jupyter-widgets/controls",
      "model_module_version": "1.5.0",
      "model_name": "IntProgressModel",
      "state": {
       "bar_style": "success",
       "layout": "IPY_MODEL_a485f9ca88394bfc858292ece8c4be71",
       "max": 42,
       "style": "IPY_MODEL_2adbfeb671ec4815978354103b9c2d3f",
       "value": 42
      }
     },
     "bc47c910f9994c6d9f67516bf190f1dd": {
      "model_module": "@jupyter-widgets/controls",
      "model_module_version": "1.5.0",
      "model_name": "ProgressStyleModel",
      "state": {
       "description_width": ""
      }
     },
     "bca116cd64b44dfe9189fc17f5e0372e": {
      "model_module": "@jupyter-widgets/controls",
      "model_module_version": "1.5.0",
      "model_name": "HBoxModel",
      "state": {
       "children": [
        "IPY_MODEL_6c44ff16c0334688a042f9b76e066585",
        "IPY_MODEL_329c49a0577e4ae8a2666a132b2d5bbb"
       ],
       "layout": "IPY_MODEL_b8488c623a234de6a675e2f1efe56934"
      }
     },
     "c1276f40723445399651710573e696dd": {
      "model_module": "@jupyter-widgets/base",
      "model_module_version": "1.2.0",
      "model_name": "LayoutModel",
      "state": {}
     },
     "c517af65ccc241e2afb99b4f61820d62": {
      "model_module": "@jupyter-widgets/controls",
      "model_module_version": "1.5.0",
      "model_name": "DescriptionStyleModel",
      "state": {
       "description_width": ""
      }
     },
     "ca8bf41561634e21a1a1020285694e47": {
      "model_module": "@jupyter-widgets/controls",
      "model_module_version": "1.5.0",
      "model_name": "DescriptionStyleModel",
      "state": {
       "description_width": ""
      }
     },
     "cbb99399f8384b7bb2c32afb99c760c7": {
      "model_module": "@jupyter-widgets/base",
      "model_module_version": "1.2.0",
      "model_name": "LayoutModel",
      "state": {}
     },
     "cbfb7a4cb01941d88a457f9152c1fdf3": {
      "model_module": "@jupyter-widgets/controls",
      "model_module_version": "1.5.0",
      "model_name": "IntProgressModel",
      "state": {
       "bar_style": "danger",
       "layout": "IPY_MODEL_86c7d379b1044deaa41d567e2daa9adb",
       "max": 42,
       "style": "IPY_MODEL_9de82a992841497ba094bbe71631e7ac",
       "value": 1
      }
     },
     "cdc15f75a294462d85f93718f79288e4": {
      "model_module": "@jupyter-widgets/base",
      "model_module_version": "1.2.0",
      "model_name": "LayoutModel",
      "state": {}
     },
     "ceffdc7a74c3427c815fc184fc9a946b": {
      "model_module": "@jupyter-widgets/controls",
      "model_module_version": "1.5.0",
      "model_name": "ProgressStyleModel",
      "state": {
       "description_width": ""
      }
     },
     "d4656d90411649589d81d07c02201216": {
      "model_module": "@jupyter-widgets/base",
      "model_module_version": "1.2.0",
      "model_name": "LayoutModel",
      "state": {}
     },
     "d6133b3aff1b4a718f852a1a99eee775": {
      "model_module": "@jupyter-widgets/base",
      "model_module_version": "1.2.0",
      "model_name": "LayoutModel",
      "state": {}
     },
     "d75c2f8c78104240be451ebce529329c": {
      "model_module": "@jupyter-widgets/controls",
      "model_module_version": "1.5.0",
      "model_name": "HBoxModel",
      "state": {
       "children": [
        "IPY_MODEL_43b3bfbd65204b31a8df8e54c2813ae2",
        "IPY_MODEL_11122cdcdf3d47aa8b15b05d88e52eaf"
       ],
       "layout": "IPY_MODEL_ed4f15a8cdf34b64ab25898d6c38efab"
      }
     },
     "d7fe5ba35bdd4b90af8272ea1e513aae": {
      "model_module": "@jupyter-widgets/controls",
      "model_module_version": "1.5.0",
      "model_name": "HTMLModel",
      "state": {
       "layout": "IPY_MODEL_0dbbd12321294c5592761608b657e0dd",
       "style": "IPY_MODEL_faaf42e59c2b4f4489f5c8a9cb7f1ff1",
       "value": "100% 26/26 [00:14&lt;00:00,  3.52it/s]"
      }
     },
     "d9cf603b818546c8990cd2f75198d884": {
      "model_module": "@jupyter-widgets/controls",
      "model_module_version": "1.5.0",
      "model_name": "ProgressStyleModel",
      "state": {
       "description_width": ""
      }
     },
     "db998ff251cb43da99e9316b1c4954ac": {
      "model_module": "@jupyter-widgets/base",
      "model_module_version": "1.2.0",
      "model_name": "LayoutModel",
      "state": {}
     },
     "dcddd91f5c964143bef93bdf4cf1d425": {
      "model_module": "@jupyter-widgets/controls",
      "model_module_version": "1.5.0",
      "model_name": "DescriptionStyleModel",
      "state": {
       "description_width": ""
      }
     },
     "e0380c7bfd4f437d97e585036ca2b88d": {
      "model_module": "@jupyter-widgets/controls",
      "model_module_version": "1.5.0",
      "model_name": "HTMLModel",
      "state": {
       "layout": "IPY_MODEL_f1b23f88c87c4da1b584a614fcf4d5db",
       "style": "IPY_MODEL_f30a6dd3d22942d280aa2384a9b34f94",
       "value": "100% 42/42 [00:47&lt;00:00,  1.30it/s]"
      }
     },
     "e0d2ec95bbae4394bf35306e9e72cec0": {
      "model_module": "@jupyter-widgets/controls",
      "model_module_version": "1.5.0",
      "model_name": "DescriptionStyleModel",
      "state": {
       "description_width": ""
      }
     },
     "e17e959d5a6b411788aab948a844debd": {
      "model_module": "@jupyter-widgets/controls",
      "model_module_version": "1.5.0",
      "model_name": "IntProgressModel",
      "state": {
       "bar_style": "success",
       "layout": "IPY_MODEL_0addf8a481bb4146b4ecd4e866557436",
       "max": 26,
       "style": "IPY_MODEL_3c7736fc6b784062b8455add0584864e",
       "value": 26
      }
     },
     "e4dfc42edea5474bb823a79b300a7dac": {
      "model_module": "@jupyter-widgets/controls",
      "model_module_version": "1.5.0",
      "model_name": "ProgressStyleModel",
      "state": {
       "description_width": ""
      }
     },
     "e53d4b296ed14f3a9a0c02c73a2ca204": {
      "model_module": "@jupyter-widgets/controls",
      "model_module_version": "1.5.0",
      "model_name": "DescriptionStyleModel",
      "state": {
       "description_width": ""
      }
     },
     "e935caa37f364c1ab5c44fe0fb96932b": {
      "model_module": "@jupyter-widgets/base",
      "model_module_version": "1.2.0",
      "model_name": "LayoutModel",
      "state": {}
     },
     "ed4f15a8cdf34b64ab25898d6c38efab": {
      "model_module": "@jupyter-widgets/base",
      "model_module_version": "1.2.0",
      "model_name": "LayoutModel",
      "state": {}
     },
     "f11248bdcce74deb828fec0bd381dfb2": {
      "model_module": "@jupyter-widgets/base",
      "model_module_version": "1.2.0",
      "model_name": "LayoutModel",
      "state": {}
     },
     "f193de95300c47439f6b30f0f069a871": {
      "model_module": "@jupyter-widgets/controls",
      "model_module_version": "1.5.0",
      "model_name": "IntProgressModel",
      "state": {
       "bar_style": "success",
       "layout": "IPY_MODEL_9597782066de4e49a80c8ae084ee9a8d",
       "max": 26,
       "style": "IPY_MODEL_e4dfc42edea5474bb823a79b300a7dac",
       "value": 26
      }
     },
     "f1b23f88c87c4da1b584a614fcf4d5db": {
      "model_module": "@jupyter-widgets/base",
      "model_module_version": "1.2.0",
      "model_name": "LayoutModel",
      "state": {}
     },
     "f1de8d0ef6a54a379187a88c9ae436dd": {
      "model_module": "@jupyter-widgets/controls",
      "model_module_version": "1.5.0",
      "model_name": "HTMLModel",
      "state": {
       "layout": "IPY_MODEL_af53733552db4e67ad4eb0f81e1cf358",
       "style": "IPY_MODEL_f2c2128114f540439b2f9437fc091d03",
       "value": " 93% 39/42 [01:25&lt;00:13,  4.38s/it]"
      }
     },
     "f2c2128114f540439b2f9437fc091d03": {
      "model_module": "@jupyter-widgets/controls",
      "model_module_version": "1.5.0",
      "model_name": "DescriptionStyleModel",
      "state": {
       "description_width": ""
      }
     },
     "f30a6dd3d22942d280aa2384a9b34f94": {
      "model_module": "@jupyter-widgets/controls",
      "model_module_version": "1.5.0",
      "model_name": "DescriptionStyleModel",
      "state": {
       "description_width": ""
      }
     },
     "f6535546d490410ea6f527ead70034bc": {
      "model_module": "@jupyter-widgets/controls",
      "model_module_version": "1.5.0",
      "model_name": "IntProgressModel",
      "state": {
       "bar_style": "success",
       "layout": "IPY_MODEL_718b66b8adff48ee9ba521e1e80bee63",
       "max": 26,
       "style": "IPY_MODEL_304c89ec784e44c59e3b5b930f0eb599",
       "value": 26
      }
     },
     "f7abb7dd49a44877a389eb8ca632d504": {
      "model_module": "@jupyter-widgets/controls",
      "model_module_version": "1.5.0",
      "model_name": "DescriptionStyleModel",
      "state": {
       "description_width": ""
      }
     },
     "f96746dda75a4c06b0aa14106c030c90": {
      "model_module": "@jupyter-widgets/base",
      "model_module_version": "1.2.0",
      "model_name": "LayoutModel",
      "state": {}
     },
     "f9e277fe0e1e489ca2a656c6580f678d": {
      "model_module": "@jupyter-widgets/base",
      "model_module_version": "1.2.0",
      "model_name": "LayoutModel",
      "state": {}
     },
     "f9e714262ece4dcebd04ce1e9e385c84": {
      "model_module": "@jupyter-widgets/controls",
      "model_module_version": "1.5.0",
      "model_name": "DescriptionStyleModel",
      "state": {
       "description_width": ""
      }
     },
     "faaf42e59c2b4f4489f5c8a9cb7f1ff1": {
      "model_module": "@jupyter-widgets/controls",
      "model_module_version": "1.5.0",
      "model_name": "DescriptionStyleModel",
      "state": {
       "description_width": ""
      }
     },
     "fcc491af2e644166808394f249781d9b": {
      "model_module": "@jupyter-widgets/base",
      "model_module_version": "1.2.0",
      "model_name": "LayoutModel",
      "state": {}
     },
     "fe863dafe60e4461927cae2c0e7a7aee": {
      "model_module": "@jupyter-widgets/controls",
      "model_module_version": "1.5.0",
      "model_name": "ProgressStyleModel",
      "state": {
       "description_width": ""
      }
     },
     "fe893b7db88d46ceb43207df7e568074": {
      "model_module": "@jupyter-widgets/controls",
      "model_module_version": "1.5.0",
      "model_name": "HTMLModel",
      "state": {
       "layout": "IPY_MODEL_5445a56a9fd34bf8b89a9687e954230a",
       "style": "IPY_MODEL_a273540a2e8c48ce81078400801fc3b4",
       "value": "100% 42/42 [01:07&lt;00:00,  1.95s/it]"
      }
     }
    },
    "version_major": 2,
    "version_minor": 0
   }
  }
 },
 "nbformat": 4,
 "nbformat_minor": 4
}
