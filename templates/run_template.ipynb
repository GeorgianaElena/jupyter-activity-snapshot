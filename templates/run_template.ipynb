{
 "cells": [
  {
   "cell_type": "code",
   "execution_count": 1,
   "metadata": {},
   "outputs": [],
   "source": [
    "import papermill as pm\n",
    "import pandas as pd\n",
    "from datetime import timedelta\n",
    "import os\n",
    "import os.path as op"
   ]
  },
  {
   "cell_type": "code",
   "execution_count": 2,
   "metadata": {},
   "outputs": [],
   "source": [
    "fmt = \"{:%Y-%m-%d}\"\n",
    "end_date = fmt.format(pd.datetime.today())\n",
    "start_date = fmt.format(pd.datetime.today() - timedelta(days=30))\n",
    "parameters = dict(\n",
    "    end_date=end_date,\n",
    "    start_date=start_date,\n",
    "    renderer=\"kaggle\",\n",
    "    update_data=True\n",
    ")\n",
    "name = f'{start_date}_{end_date}'\n",
    "github_orgs = [\"jupyterhub\", \"jupyter\", \"jupyterlab\", \"jupyter-widgets\", \"ipython\", \"binder-examples\"]"
   ]
  },
  {
   "cell_type": "markdown",
   "metadata": {},
   "source": [
    "# Update the data"
   ]
  },
  {
   "cell_type": "code",
   "execution_count": 4,
   "metadata": {},
   "outputs": [
    {
     "data": {
      "application/vnd.jupyter.widget-view+json": {
       "model_id": "8bf0ce402806446c9981afb1e0d27ee9",
       "version_major": 2,
       "version_minor": 0
      },
      "text/plain": [
       "HBox(children=(IntProgress(value=0, max=25), HTML(value='')))"
      ]
     },
     "metadata": {},
     "output_type": "display_data"
    },
    {
     "name": "stdout",
     "output_type": "stream",
     "text": [
      "\n"
     ]
    }
   ],
   "source": [
    "folder_name = f\"../tmp/\"\n",
    "os.makedirs(folder_name, exist_ok=True)\n",
    "out = pm.execute_notebook('./update_data.ipynb', op.join(folder_name, \"update_data_result.ipynb\"), parameters=parameters)"
   ]
  },
  {
   "cell_type": "markdown",
   "metadata": {},
   "source": [
    "# Generate reports"
   ]
  },
  {
   "cell_type": "code",
   "execution_count": 3,
   "metadata": {},
   "outputs": [
    {
     "data": {
      "application/vnd.jupyter.widget-view+json": {
       "model_id": "a72799d46ca5481ebd0f05c1fd20faf7",
       "version_major": 2,
       "version_minor": 0
      },
      "text/plain": [
       "HBox(children=(IntProgress(value=0, max=37), HTML(value='')))"
      ]
     },
     "metadata": {},
     "output_type": "display_data"
    },
    {
     "name": "stdout",
     "output_type": "stream",
     "text": [
      "\n"
     ]
    },
    {
     "data": {
      "application/vnd.jupyter.widget-view+json": {
       "model_id": "2ce026e8a8ad4866baa1d9ad8f6795b5",
       "version_major": 2,
       "version_minor": 0
      },
      "text/plain": [
       "HBox(children=(IntProgress(value=0, max=24), HTML(value='')))"
      ]
     },
     "metadata": {},
     "output_type": "display_data"
    },
    {
     "name": "stdout",
     "output_type": "stream",
     "text": [
      "\n"
     ]
    }
   ],
   "source": [
    "folder_name = f\"../reports/{start_date}_{end_date}\"\n",
    "os.makedirs(folder_name, exist_ok=True)\n",
    "out = pm.execute_notebook('./github.ipynb',\n",
    "                          op.join(folder_name, \"github.ipynb\"),\n",
    "                          parameters=parameters)\n",
    "\n",
    "out = pm.execute_notebook('./discourse.ipynb',\n",
    "                          op.join(folder_name, \"discourse.ipynb\"),\n",
    "                          parameters=parameters)"
   ]
  },
  {
   "cell_type": "code",
   "execution_count": null,
   "metadata": {},
   "outputs": [],
   "source": []
  }
 ],
 "metadata": {
  "kernelspec": {
   "display_name": "Python 3",
   "language": "python",
   "name": "python3"
  },
  "language_info": {
   "codemirror_mode": {
    "name": "ipython",
    "version": 3
   },
   "file_extension": ".py",
   "mimetype": "text/x-python",
   "name": "python",
   "nbconvert_exporter": "python",
   "pygments_lexer": "ipython3",
   "version": "3.7.3"
  },
  "widgets": {
   "application/vnd.jupyter.widget-state+json": {
    "state": {
     "205eb370326e47e0840232761b329e94": {
      "model_module": "@jupyter-widgets/controls",
      "model_module_version": "1.5.0",
      "model_name": "HTMLModel",
      "state": {
       "layout": "IPY_MODEL_88c549ba63cb43f8b3675cffe41c7b85",
       "style": "IPY_MODEL_3790b1eff2d74445b9dbd1d20c8e18c5",
       "value": "100% 37/37 [00:52&lt;00:00,  2.58s/it]"
      }
     },
     "2425f1df380f4dd794ddbe70641cc273": {
      "model_module": "@jupyter-widgets/controls",
      "model_module_version": "1.5.0",
      "model_name": "HTMLModel",
      "state": {
       "layout": "IPY_MODEL_647df31f98684f459bf03af90bffb73c",
       "style": "IPY_MODEL_797130645a45475d931d23084b3689df",
       "value": "100% 24/24 [00:11&lt;00:00,  3.73it/s]"
      }
     },
     "2974a806b3dd43df8251aee01a81b94f": {
      "model_module": "@jupyter-widgets/base",
      "model_module_version": "1.2.0",
      "model_name": "LayoutModel",
      "state": {}
     },
     "2ce026e8a8ad4866baa1d9ad8f6795b5": {
      "model_module": "@jupyter-widgets/controls",
      "model_module_version": "1.5.0",
      "model_name": "HBoxModel",
      "state": {
       "children": [
        "IPY_MODEL_72728da6c9404b95866c5284c9133c91",
        "IPY_MODEL_2425f1df380f4dd794ddbe70641cc273"
       ],
       "layout": "IPY_MODEL_680feb4f896540138170b3aaa74eb3b3"
      }
     },
     "2ce1217eaca4436f84cc4f694c3cef66": {
      "model_module": "@jupyter-widgets/controls",
      "model_module_version": "1.5.0",
      "model_name": "IntProgressModel",
      "state": {
       "bar_style": "success",
       "layout": "IPY_MODEL_d1b9e7ddaf5246309fc626401395b263",
       "max": 37,
       "style": "IPY_MODEL_4d30357247f14c09a75e0fb6da1bc490",
       "value": 37
      }
     },
     "3790b1eff2d74445b9dbd1d20c8e18c5": {
      "model_module": "@jupyter-widgets/controls",
      "model_module_version": "1.5.0",
      "model_name": "DescriptionStyleModel",
      "state": {
       "description_width": ""
      }
     },
     "3dff82ab3a024d669378f52b8568ec96": {
      "model_module": "@jupyter-widgets/controls",
      "model_module_version": "1.5.0",
      "model_name": "ProgressStyleModel",
      "state": {
       "description_width": ""
      }
     },
     "492e10e50508447fb066a18b2ef52636": {
      "model_module": "@jupyter-widgets/base",
      "model_module_version": "1.2.0",
      "model_name": "LayoutModel",
      "state": {}
     },
     "4d30357247f14c09a75e0fb6da1bc490": {
      "model_module": "@jupyter-widgets/controls",
      "model_module_version": "1.5.0",
      "model_name": "ProgressStyleModel",
      "state": {
       "description_width": ""
      }
     },
     "647df31f98684f459bf03af90bffb73c": {
      "model_module": "@jupyter-widgets/base",
      "model_module_version": "1.2.0",
      "model_name": "LayoutModel",
      "state": {}
     },
     "680feb4f896540138170b3aaa74eb3b3": {
      "model_module": "@jupyter-widgets/base",
      "model_module_version": "1.2.0",
      "model_name": "LayoutModel",
      "state": {}
     },
     "72728da6c9404b95866c5284c9133c91": {
      "model_module": "@jupyter-widgets/controls",
      "model_module_version": "1.5.0",
      "model_name": "IntProgressModel",
      "state": {
       "bar_style": "success",
       "layout": "IPY_MODEL_492e10e50508447fb066a18b2ef52636",
       "max": 24,
       "style": "IPY_MODEL_3dff82ab3a024d669378f52b8568ec96",
       "value": 24
      }
     },
     "797130645a45475d931d23084b3689df": {
      "model_module": "@jupyter-widgets/controls",
      "model_module_version": "1.5.0",
      "model_name": "DescriptionStyleModel",
      "state": {
       "description_width": ""
      }
     },
     "88c549ba63cb43f8b3675cffe41c7b85": {
      "model_module": "@jupyter-widgets/base",
      "model_module_version": "1.2.0",
      "model_name": "LayoutModel",
      "state": {}
     },
     "a72799d46ca5481ebd0f05c1fd20faf7": {
      "model_module": "@jupyter-widgets/controls",
      "model_module_version": "1.5.0",
      "model_name": "HBoxModel",
      "state": {
       "children": [
        "IPY_MODEL_2ce1217eaca4436f84cc4f694c3cef66",
        "IPY_MODEL_205eb370326e47e0840232761b329e94"
       ],
       "layout": "IPY_MODEL_2974a806b3dd43df8251aee01a81b94f"
      }
     },
     "d1b9e7ddaf5246309fc626401395b263": {
      "model_module": "@jupyter-widgets/base",
      "model_module_version": "1.2.0",
      "model_name": "LayoutModel",
      "state": {}
     }
    },
    "version_major": 2,
    "version_minor": 0
   }
  }
 },
 "nbformat": 4,
 "nbformat_minor": 4
}
